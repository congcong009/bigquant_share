{
 "cells": [
  {
   "cell_type": "code",
   "execution_count": 16,
   "metadata": {},
   "outputs": [
    {
     "data": {
      "text/html": [
       "<div>\n",
       "<style scoped>\n",
       "    .dataframe tbody tr th:only-of-type {\n",
       "        vertical-align: middle;\n",
       "    }\n",
       "\n",
       "    .dataframe tbody tr th {\n",
       "        vertical-align: top;\n",
       "    }\n",
       "\n",
       "    .dataframe thead th {\n",
       "        text-align: right;\n",
       "    }\n",
       "</style>\n",
       "<table border=\"1\" class=\"dataframe\">\n",
       "  <thead>\n",
       "    <tr style=\"text-align: right;\">\n",
       "      <th></th>\n",
       "      <th>instrument</th>\n",
       "      <th>name</th>\n",
       "    </tr>\n",
       "  </thead>\n",
       "  <tbody>\n",
       "    <tr>\n",
       "      <th>0</th>\n",
       "      <td>000001.HIX</td>\n",
       "      <td>上证综指</td>\n",
       "    </tr>\n",
       "    <tr>\n",
       "      <th>1</th>\n",
       "      <td>000002.HIX</td>\n",
       "      <td>上证A指</td>\n",
       "    </tr>\n",
       "    <tr>\n",
       "      <th>2</th>\n",
       "      <td>000003.HIX</td>\n",
       "      <td>上证B指</td>\n",
       "    </tr>\n",
       "    <tr>\n",
       "      <th>3</th>\n",
       "      <td>000004.HIX</td>\n",
       "      <td>上证工业类指数</td>\n",
       "    </tr>\n",
       "    <tr>\n",
       "      <th>4</th>\n",
       "      <td>000005.HIX</td>\n",
       "      <td>上证商业类指数</td>\n",
       "    </tr>\n",
       "  </tbody>\n",
       "</table>\n",
       "</div>"
      ],
      "text/plain": [
       "   instrument     name\n",
       "0  000001.HIX     上证综指\n",
       "1  000002.HIX     上证A指\n",
       "2  000003.HIX     上证B指\n",
       "3  000004.HIX  上证工业类指数\n",
       "4  000005.HIX  上证商业类指数"
      ]
     },
     "execution_count": 16,
     "metadata": {},
     "output_type": "execute_result"
    }
   ],
   "source": [
    "pd.set_option('display.max_columns', None)  # 显示所有列\n",
    "pd.set_option('display.max_rows', None)  # 显示所有行\n",
    "# m8.data_1.read().head(3)\n",
    "# df = DataSource('index_element_weight').read()#.head(3)  # 平台支持的指数权重列表，不全\n",
    "# df = df[df['date']=='2020-11-03']['instrument_index'].drop_duplicates()\n",
    "# df\n",
    "#\n",
    "# df = DataSource('basic_info_CN_FUND').read()  # 平台支持的ETF基金列表，很全\n",
    "# df = df[df['type']=='etf']\n",
    "# df[['instrument', 'name', 'display_name']].head()\n",
    "#\n",
    "# df = DataSource('instruments_CN_FUND').read(start_date='2020-11-03', end_date='2020-11-03')#.head(3)  # 基金列表\n",
    "# df\n",
    "#\n",
    "df = DataSource('basic_info_index_CN_STOCK_A').read(start_date='2020-11-03', end_date='2020-11-03')#.head(3)  # A股指数基本信息\n",
    "df.head()\n",
    "# import datetime  # 平台的指数权重分析，不合理\n",
    "# df = DataSource('trading_days').read()\n",
    "# today = datetime.datetime.strptime(str(df[df['country_code']=='CN'].iloc[-1].at['date']), '%Y-%m-%d %H:%M:%S').strftime('%Y-%m-%d')\n",
    "# df = DataSource('index_element_weight').read()#.head(3)\n",
    "# df[(df['instrument_index']=='000016.HIX') & (df['date']==today)]\n",
    "# stock_list = list(df[(df['instrument_index']=='000016.HIX') & (df['date']==today)]['instrument'])\n",
    "# #\n",
    "# df = DataSource('bar1d_CN_STOCK_A').read(start_date='2020-11-03', end_date='2020-11-03')  # 股票的日线行情\n",
    "# df[(df['date']==today) & (df['instrument'].isin(stock_list))]\n",
    "# df.head(3)\n",
    "# import talib\n",
    "# df['ema20'] = talib.EMA(np.array(df['close_0'], dtype='float'), timeperiod=20)\n",
    "# df['cs'] = df.apply(lambda x: (np.array(x['close_0'], dtype='float') - x['ema20']) / x['ema20'] * 100, axis=1)\n",
    "#\n",
    "# df = DataSource('bar1d_index_CN_STOCK_A').read(start_date='2020-11-03', end_date='2020-11-03')#.head(3)  # 指数日线行情\n",
    "# # df[df['instrument'] == '399673.ZIX']\n",
    "# df = df['instrument'].drop_duplicates()\n",
    "# df\n",
    "#\n",
    "# df = DataSource('bar1d_CN_FUND').read(start_date='2020-11-03', end_date='2020-11-03')#.head(3)  # 基金日线行情\n",
    "# df = df['instrument'].drop_duplicates()\n",
    "# df = DataSource('index_element_weight').read()#.head(3)  # 平台支持的指数权重列表，不全\n",
    "\n"
   ]
  },
  {
   "cell_type": "code",
   "execution_count": 8,
   "metadata": {},
   "outputs": [
    {
     "data": {
      "text/html": [
       "<div>\n",
       "<style scoped>\n",
       "    .dataframe tbody tr th:only-of-type {\n",
       "        vertical-align: middle;\n",
       "    }\n",
       "\n",
       "    .dataframe tbody tr th {\n",
       "        vertical-align: top;\n",
       "    }\n",
       "\n",
       "    .dataframe thead th {\n",
       "        text-align: right;\n",
       "    }\n",
       "</style>\n",
       "<table border=\"1\" class=\"dataframe\">\n",
       "  <thead>\n",
       "    <tr style=\"text-align: right;\">\n",
       "      <th></th>\n",
       "      <th>date</th>\n",
       "      <th>instrument</th>\n",
       "      <th>bias_s</th>\n",
       "      <th>market_width</th>\n",
       "      <th>logrt_5</th>\n",
       "      <th>m:Unnamed: 0</th>\n",
       "      <th>m:index</th>\n",
       "      <th>m:adjust_factor</th>\n",
       "      <th>m:open</th>\n",
       "      <th>m:high</th>\n",
       "      <th>m:low</th>\n",
       "      <th>m:close</th>\n",
       "      <th>m:logrt_5</th>\n",
       "      <th>m:logrt_20</th>\n",
       "      <th>m:logrt_60</th>\n",
       "      <th>m:bias_s</th>\n",
       "      <th>m:bias_m</th>\n",
       "      <th>m:bias_l</th>\n",
       "      <th>m:market_width</th>\n",
       "      <th>label</th>\n",
       "    </tr>\n",
       "  </thead>\n",
       "  <tbody>\n",
       "    <tr>\n",
       "      <th>96</th>\n",
       "      <td>2017-02-06</td>\n",
       "      <td>399673.ZIX</td>\n",
       "      <td>-0.785578</td>\n",
       "      <td>0.36</td>\n",
       "      <td>0.002251</td>\n",
       "      <td>100</td>\n",
       "      <td>100</td>\n",
       "      <td>1.0</td>\n",
       "      <td>1683.5170</td>\n",
       "      <td>1711.9343</td>\n",
       "      <td>1680.0499</td>\n",
       "      <td>1706.4291</td>\n",
       "      <td>0.002251</td>\n",
       "      <td>-0.039471</td>\n",
       "      <td>-0.143504</td>\n",
       "      <td>-0.785578</td>\n",
       "      <td>-5.273568</td>\n",
       "      <td>-5.816373</td>\n",
       "      <td>0.36</td>\n",
       "      <td>87.364699</td>\n",
       "    </tr>\n",
       "    <tr>\n",
       "      <th>97</th>\n",
       "      <td>2017-02-07</td>\n",
       "      <td>399673.ZIX</td>\n",
       "      <td>-1.437584</td>\n",
       "      <td>0.34</td>\n",
       "      <td>0.012004</td>\n",
       "      <td>101</td>\n",
       "      <td>101</td>\n",
       "      <td>1.0</td>\n",
       "      <td>1703.4178</td>\n",
       "      <td>1706.7140</td>\n",
       "      <td>1686.0037</td>\n",
       "      <td>1692.6536</td>\n",
       "      <td>0.012004</td>\n",
       "      <td>-0.051062</td>\n",
       "      <td>-0.141840</td>\n",
       "      <td>-1.437584</td>\n",
       "      <td>-5.206085</td>\n",
       "      <td>-5.835764</td>\n",
       "      <td>0.34</td>\n",
       "      <td>115.455442</td>\n",
       "    </tr>\n",
       "    <tr>\n",
       "      <th>98</th>\n",
       "      <td>2017-02-08</td>\n",
       "      <td>399673.ZIX</td>\n",
       "      <td>-0.468449</td>\n",
       "      <td>0.34</td>\n",
       "      <td>0.017641</td>\n",
       "      <td>102</td>\n",
       "      <td>102</td>\n",
       "      <td>1.0</td>\n",
       "      <td>1689.5935</td>\n",
       "      <td>1708.4545</td>\n",
       "      <td>1683.9161</td>\n",
       "      <td>1708.4545</td>\n",
       "      <td>0.017641</td>\n",
       "      <td>-0.059052</td>\n",
       "      <td>-0.141296</td>\n",
       "      <td>-0.468449</td>\n",
       "      <td>-5.075510</td>\n",
       "      <td>-5.837322</td>\n",
       "      <td>0.34</td>\n",
       "      <td>114.699743</td>\n",
       "    </tr>\n",
       "  </tbody>\n",
       "</table>\n",
       "</div>"
      ],
      "text/plain": [
       "         date  instrument    bias_s  market_width   logrt_5  m:Unnamed: 0  m:index  m:adjust_factor     m:open     m:high      m:low    m:close  m:logrt_5  m:logrt_20  m:logrt_60  m:bias_s  m:bias_m  m:bias_l  m:market_width       label\n",
       "96 2017-02-06  399673.ZIX -0.785578          0.36  0.002251           100      100              1.0  1683.5170  1711.9343  1680.0499  1706.4291   0.002251   -0.039471   -0.143504 -0.785578 -5.273568 -5.816373            0.36   87.364699\n",
       "97 2017-02-07  399673.ZIX -1.437584          0.34  0.012004           101      101              1.0  1703.4178  1706.7140  1686.0037  1692.6536   0.012004   -0.051062   -0.141840 -1.437584 -5.206085 -5.835764            0.34  115.455442\n",
       "98 2017-02-08  399673.ZIX -0.468449          0.34  0.017641           102      102              1.0  1689.5935  1708.4545  1683.9161  1708.4545   0.017641   -0.059052   -0.141296 -0.468449 -5.075510 -5.837322            0.34  114.699743"
      ]
     },
     "execution_count": 8,
     "metadata": {},
     "output_type": "execute_result"
    }
   ],
   "source": [
    "m10.data.read().head(3)\n",
    "# m18.plot_label_counts()"
   ]
  },
  {
   "cell_type": "code",
   "execution_count": 4,
   "metadata": {
    "machine_learning_studio": "true",
    "ml_studio_json": "{\"Description\":\"实验创建于10/12/2020\",\"Summary\":\"\",\"Graph\":{\"EdgesInternal\":[{\"DestinationInputPortId\":\"-1980:input_1\",\"SourceOutputPortId\":\"-2409:data\"},{\"DestinationInputPortId\":\"-3061:features\",\"SourceOutputPortId\":\"-2789:data\"},{\"DestinationInputPortId\":\"-571:features\",\"SourceOutputPortId\":\"-2789:data\"},{\"DestinationInputPortId\":\"-588:features\",\"SourceOutputPortId\":\"-2789:data\"},{\"DestinationInputPortId\":\"-167:data2\",\"SourceOutputPortId\":\"-3061:data\"},{\"DestinationInputPortId\":\"-264:input_data\",\"SourceOutputPortId\":\"-167:data\"},{\"DestinationInputPortId\":\"-611:instruments\",\"SourceOutputPortId\":\"-543:data\"},{\"DestinationInputPortId\":\"-2105:input_1\",\"SourceOutputPortId\":\"-543:data\"},{\"DestinationInputPortId\":\"-580:input_data\",\"SourceOutputPortId\":\"-571:data\"},{\"DestinationInputPortId\":\"-603:data\",\"SourceOutputPortId\":\"-580:data\"},{\"DestinationInputPortId\":\"-603:model\",\"SourceOutputPortId\":\"-588:model\"},{\"DestinationInputPortId\":\"-611:options_data\",\"SourceOutputPortId\":\"-603:predictions\"},{\"DestinationInputPortId\":\"-228:input_1\",\"SourceOutputPortId\":\"-1980:data_1\"},{\"DestinationInputPortId\":\"-1980:input_2\",\"SourceOutputPortId\":\"-785:data\"},{\"DestinationInputPortId\":\"-2105:input_2\",\"SourceOutputPortId\":\"-785:data\"},{\"DestinationInputPortId\":\"-167:data1\",\"SourceOutputPortId\":\"-2087:data\"},{\"DestinationInputPortId\":\"-571:input_data\",\"SourceOutputPortId\":\"-2105:data_1\"},{\"DestinationInputPortId\":\"-2087:input_data\",\"SourceOutputPortId\":\"-216:data\"},{\"DestinationInputPortId\":\"-3061:input_data\",\"SourceOutputPortId\":\"-216:data\"},{\"DestinationInputPortId\":\"-588:training_ds\",\"SourceOutputPortId\":\"-264:data\"}],\"ModuleNodes\":[{\"Id\":\"-2409\",\"ModuleId\":\"BigQuantSpace.instruments.instruments-v2\",\"ModuleParameters\":[{\"Name\":\"start_date\",\"Value\":\"2018-1-1\",\"ValueType\":\"Literal\",\"LinkedGlobalParameter\":null},{\"Name\":\"end_date\",\"Value\":\"2019-12-31\",\"ValueType\":\"Literal\",\"LinkedGlobalParameter\":null},{\"Name\":\"market\",\"Value\":\"CN_FUND\",\"ValueType\":\"Literal\",\"LinkedGlobalParameter\":null},{\"Name\":\"instrument_list\",\"Value\":\"\",\"ValueType\":\"Literal\",\"LinkedGlobalParameter\":null},{\"Name\":\"max_count\",\"Value\":0,\"ValueType\":\"Literal\",\"LinkedGlobalParameter\":null}],\"InputPortsInternal\":[{\"DataSourceId\":null,\"TrainedModelId\":null,\"TransformModuleId\":null,\"Name\":\"rolling_conf\",\"NodeId\":\"-2409\"}],\"OutputPortsInternal\":[{\"Name\":\"data\",\"NodeId\":\"-2409\",\"OutputType\":null}],\"UsePreviousResults\":true,\"moduleIdForCode\":1,\"Comment\":\"时间\",\"CommentCollapsed\":false},{\"Id\":\"-2789\",\"ModuleId\":\"BigQuantSpace.input_features.input_features-v1\",\"ModuleParameters\":[{\"Name\":\"features\",\"Value\":\"# #号开始的表示注释，注释需单独一行\\n# 多个特征，每行一个，可以包含基础特征和衍生特征，特征须为本平台特征\\nbias_s = bias_s\\n#bias_m = bias_m\\n#bias_l = bias_l\\nmarket_width = market_width\\nlogrt_5 = logrt_5\\n#logrt_20 = logrt_20\\n#logrt_60 = logrt_60\",\"ValueType\":\"Literal\",\"LinkedGlobalParameter\":null}],\"InputPortsInternal\":[{\"DataSourceId\":null,\"TrainedModelId\":null,\"TransformModuleId\":null,\"Name\":\"features_ds\",\"NodeId\":\"-2789\"}],\"OutputPortsInternal\":[{\"Name\":\"data\",\"NodeId\":\"-2789\",\"OutputType\":null}],\"UsePreviousResults\":true,\"moduleIdForCode\":2,\"Comment\":\"\",\"CommentCollapsed\":true},{\"Id\":\"-3061\",\"ModuleId\":\"BigQuantSpace.derived_feature_extractor.derived_feature_extractor-v3\",\"ModuleParameters\":[{\"Name\":\"date_col\",\"Value\":\"date\",\"ValueType\":\"Literal\",\"LinkedGlobalParameter\":null},{\"Name\":\"instrument_col\",\"Value\":\"instrument\",\"ValueType\":\"Literal\",\"LinkedGlobalParameter\":null},{\"Name\":\"drop_na\",\"Value\":\"True\",\"ValueType\":\"Literal\",\"LinkedGlobalParameter\":null},{\"Name\":\"remove_extra_columns\",\"Value\":\"True\",\"ValueType\":\"Literal\",\"LinkedGlobalParameter\":null},{\"Name\":\"user_functions\",\"Value\":\"\",\"ValueType\":\"Literal\",\"LinkedGlobalParameter\":null}],\"InputPortsInternal\":[{\"DataSourceId\":null,\"TrainedModelId\":null,\"TransformModuleId\":null,\"Name\":\"input_data\",\"NodeId\":\"-3061\"},{\"DataSourceId\":null,\"TrainedModelId\":null,\"TransformModuleId\":null,\"Name\":\"features\",\"NodeId\":\"-3061\"}],\"OutputPortsInternal\":[{\"Name\":\"data\",\"NodeId\":\"-3061\",\"OutputType\":null}],\"UsePreviousResults\":true,\"moduleIdForCode\":4,\"Comment\":\"\",\"CommentCollapsed\":true},{\"Id\":\"-167\",\"ModuleId\":\"BigQuantSpace.join.join-v3\",\"ModuleParameters\":[{\"Name\":\"on\",\"Value\":\"date,instrument\",\"ValueType\":\"Literal\",\"LinkedGlobalParameter\":null},{\"Name\":\"how\",\"Value\":\"inner\",\"ValueType\":\"Literal\",\"LinkedGlobalParameter\":null},{\"Name\":\"sort\",\"Value\":\"False\",\"ValueType\":\"Literal\",\"LinkedGlobalParameter\":null}],\"InputPortsInternal\":[{\"DataSourceId\":null,\"TrainedModelId\":null,\"TransformModuleId\":null,\"Name\":\"data1\",\"NodeId\":\"-167\"},{\"DataSourceId\":null,\"TrainedModelId\":null,\"TransformModuleId\":null,\"Name\":\"data2\",\"NodeId\":\"-167\"}],\"OutputPortsInternal\":[{\"Name\":\"data\",\"NodeId\":\"-167\",\"OutputType\":null}],\"UsePreviousResults\":true,\"moduleIdForCode\":7,\"Comment\":\"\",\"CommentCollapsed\":true},{\"Id\":\"-543\",\"ModuleId\":\"BigQuantSpace.instruments.instruments-v2\",\"ModuleParameters\":[{\"Name\":\"start_date\",\"Value\":\"2020-1-1\",\"ValueType\":\"Literal\",\"LinkedGlobalParameter\":null},{\"Name\":\"end_date\",\"Value\":\"2020-10-28\",\"ValueType\":\"Literal\",\"LinkedGlobalParameter\":null},{\"Name\":\"market\",\"Value\":\"CN_STOCK_A\",\"ValueType\":\"Literal\",\"LinkedGlobalParameter\":null},{\"Name\":\"instrument_list\",\"Value\":\"\",\"ValueType\":\"Literal\",\"LinkedGlobalParameter\":null},{\"Name\":\"max_count\",\"Value\":0,\"ValueType\":\"Literal\",\"LinkedGlobalParameter\":null}],\"InputPortsInternal\":[{\"DataSourceId\":null,\"TrainedModelId\":null,\"TransformModuleId\":null,\"Name\":\"rolling_conf\",\"NodeId\":\"-543\"}],\"OutputPortsInternal\":[{\"Name\":\"data\",\"NodeId\":\"-543\",\"OutputType\":null}],\"UsePreviousResults\":true,\"moduleIdForCode\":9,\"Comment\":\"\",\"CommentCollapsed\":true},{\"Id\":\"-571\",\"ModuleId\":\"BigQuantSpace.derived_feature_extractor.derived_feature_extractor-v3\",\"ModuleParameters\":[{\"Name\":\"date_col\",\"Value\":\"date\",\"ValueType\":\"Literal\",\"LinkedGlobalParameter\":null},{\"Name\":\"instrument_col\",\"Value\":\"instrument\",\"ValueType\":\"Literal\",\"LinkedGlobalParameter\":null},{\"Name\":\"drop_na\",\"Value\":\"False\",\"ValueType\":\"Literal\",\"LinkedGlobalParameter\":null},{\"Name\":\"remove_extra_columns\",\"Value\":\"False\",\"ValueType\":\"Literal\",\"LinkedGlobalParameter\":null},{\"Name\":\"user_functions\",\"Value\":\"\",\"ValueType\":\"Literal\",\"LinkedGlobalParameter\":null}],\"InputPortsInternal\":[{\"DataSourceId\":null,\"TrainedModelId\":null,\"TransformModuleId\":null,\"Name\":\"input_data\",\"NodeId\":\"-571\"},{\"DataSourceId\":null,\"TrainedModelId\":null,\"TransformModuleId\":null,\"Name\":\"features\",\"NodeId\":\"-571\"}],\"OutputPortsInternal\":[{\"Name\":\"data\",\"NodeId\":\"-571\",\"OutputType\":null}],\"UsePreviousResults\":true,\"moduleIdForCode\":12,\"Comment\":\"\",\"CommentCollapsed\":true},{\"Id\":\"-580\",\"ModuleId\":\"BigQuantSpace.dropnan.dropnan-v2\",\"ModuleParameters\":[],\"InputPortsInternal\":[{\"DataSourceId\":null,\"TrainedModelId\":null,\"TransformModuleId\":null,\"Name\":\"input_data\",\"NodeId\":\"-580\"},{\"DataSourceId\":null,\"TrainedModelId\":null,\"TransformModuleId\":null,\"Name\":\"features\",\"NodeId\":\"-580\"}],\"OutputPortsInternal\":[{\"Name\":\"data\",\"NodeId\":\"-580\",\"OutputType\":null}],\"UsePreviousResults\":true,\"moduleIdForCode\":13,\"Comment\":\"\",\"CommentCollapsed\":true},{\"Id\":\"-588\",\"ModuleId\":\"BigQuantSpace.stock_ranker_train.stock_ranker_train-v6\",\"ModuleParameters\":[{\"Name\":\"learning_algorithm\",\"Value\":\"回归\",\"ValueType\":\"Literal\",\"LinkedGlobalParameter\":null},{\"Name\":\"number_of_leaves\",\"Value\":30,\"ValueType\":\"Literal\",\"LinkedGlobalParameter\":null},{\"Name\":\"minimum_docs_per_leaf\",\"Value\":1000,\"ValueType\":\"Literal\",\"LinkedGlobalParameter\":null},{\"Name\":\"number_of_trees\",\"Value\":20,\"ValueType\":\"Literal\",\"LinkedGlobalParameter\":null},{\"Name\":\"learning_rate\",\"Value\":0.1,\"ValueType\":\"Literal\",\"LinkedGlobalParameter\":null},{\"Name\":\"max_bins\",\"Value\":1023,\"ValueType\":\"Literal\",\"LinkedGlobalParameter\":null},{\"Name\":\"feature_fraction\",\"Value\":1,\"ValueType\":\"Literal\",\"LinkedGlobalParameter\":null},{\"Name\":\"data_row_fraction\",\"Value\":1,\"ValueType\":\"Literal\",\"LinkedGlobalParameter\":null},{\"Name\":\"ndcg_discount_base\",\"Value\":1,\"ValueType\":\"Literal\",\"LinkedGlobalParameter\":null},{\"Name\":\"m_lazy_run\",\"Value\":\"False\",\"ValueType\":\"Literal\",\"LinkedGlobalParameter\":null}],\"InputPortsInternal\":[{\"DataSourceId\":null,\"TrainedModelId\":null,\"TransformModuleId\":null,\"Name\":\"training_ds\",\"NodeId\":\"-588\"},{\"DataSourceId\":null,\"TrainedModelId\":null,\"TransformModuleId\":null,\"Name\":\"features\",\"NodeId\":\"-588\"},{\"DataSourceId\":null,\"TrainedModelId\":null,\"TransformModuleId\":null,\"Name\":\"test_ds\",\"NodeId\":\"-588\"},{\"DataSourceId\":null,\"TrainedModelId\":null,\"TransformModuleId\":null,\"Name\":\"base_model\",\"NodeId\":\"-588\"}],\"OutputPortsInternal\":[{\"Name\":\"model\",\"NodeId\":\"-588\",\"OutputType\":null},{\"Name\":\"feature_gains\",\"NodeId\":\"-588\",\"OutputType\":null},{\"Name\":\"m_lazy_run\",\"NodeId\":\"-588\",\"OutputType\":null}],\"UsePreviousResults\":true,\"moduleIdForCode\":14,\"Comment\":\"\",\"CommentCollapsed\":true},{\"Id\":\"-603\",\"ModuleId\":\"BigQuantSpace.stock_ranker_predict.stock_ranker_predict-v5\",\"ModuleParameters\":[{\"Name\":\"m_lazy_run\",\"Value\":\"False\",\"ValueType\":\"Literal\",\"LinkedGlobalParameter\":null}],\"InputPortsInternal\":[{\"DataSourceId\":null,\"TrainedModelId\":null,\"TransformModuleId\":null,\"Name\":\"model\",\"NodeId\":\"-603\"},{\"DataSourceId\":null,\"TrainedModelId\":null,\"TransformModuleId\":null,\"Name\":\"data\",\"NodeId\":\"-603\"}],\"OutputPortsInternal\":[{\"Name\":\"predictions\",\"NodeId\":\"-603\",\"OutputType\":null},{\"Name\":\"m_lazy_run\",\"NodeId\":\"-603\",\"OutputType\":null}],\"UsePreviousResults\":true,\"moduleIdForCode\":15,\"Comment\":\"\",\"CommentCollapsed\":true},{\"Id\":\"-611\",\"ModuleId\":\"BigQuantSpace.trade.trade-v4\",\"ModuleParameters\":[{\"Name\":\"start_date\",\"Value\":\"\",\"ValueType\":\"Literal\",\"LinkedGlobalParameter\":null},{\"Name\":\"end_date\",\"Value\":\"\",\"ValueType\":\"Literal\",\"LinkedGlobalParameter\":null},{\"Name\":\"initialize\",\"Value\":\"# 回测引擎：初始化函数，只执行一次\\ndef bigquant_run(context):\\n    # 加载预测数据\\n    context.ranker_prediction = context.options['data'].read_df()\\n\\n    # 系统已经设置了默认的交易手续费和滑点，要修改手续费可使用如下函数\\n    context.set_commission(PerOrder(buy_cost=0.0003, sell_cost=0.0013, min_cost=5))\\n    # 预测数据，通过options传入进来，使用 read_df 函数，加载到内存 (DataFrame)\\n    # 设置买入的股票数量，这里买入预测股票列表排名靠前的5只\\n    stock_count = 5\\n    # 每只的股票的权重，如下的权重分配会使得靠前的股票分配多一点的资金，[0.339160, 0.213986, 0.169580, ..]\\n    context.stock_weights = T.norm([1 / math.log(i + 2) for i in range(0, stock_count)])\\n    # 设置每只股票占用的最大资金比例\\n    context.max_cash_per_instrument = 0.2\\n    context.hold_days = 5\\n\",\"ValueType\":\"Literal\",\"LinkedGlobalParameter\":null},{\"Name\":\"handle_data\",\"Value\":\"# 回测引擎：每日数据处理函数，每天执行一次\\ndef bigquant_run(context, data):\\n    # 按日期过滤得到今日的预测数据\\n    ranker_prediction = context.ranker_prediction[\\n        context.ranker_prediction.date == data.current_dt.strftime('%Y-%m-%d')]\\n\\n    # 1. 资金分配\\n    # 平均持仓时间是hold_days，每日都将买入股票，每日预期使用 1/hold_days 的资金\\n    # 实际操作中，会存在一定的买入误差，所以在前hold_days天，等量使用资金；之后，尽量使用剩余资金（这里设置最多用等量的1.5倍）\\n    is_staging = context.trading_day_index < context.hold_days # 是否在建仓期间（前 hold_days 天）\\n    cash_avg = context.portfolio.portfolio_value / context.hold_days\\n    cash_for_buy = min(context.portfolio.cash, (1 if is_staging else 1.5) * cash_avg)\\n    cash_for_sell = cash_avg - (context.portfolio.cash - cash_for_buy)\\n    positions = {e.symbol: p.amount * p.last_sale_price\\n                 for e, p in context.perf_tracker.position_tracker.positions.items()}\\n\\n    # 2. 生成卖出订单：hold_days天之后才开始卖出；对持仓的股票，按StockRanker预测的排序末位淘汰\\n    if not is_staging and cash_for_sell > 0:\\n        equities = {e.symbol: e for e, p in context.perf_tracker.position_tracker.positions.items()}\\n        instruments = list(reversed(list(ranker_prediction.instrument[ranker_prediction.instrument.apply(\\n                lambda x: x in equities and not context.has_unfinished_sell_order(equities[x]))])))\\n        # print('rank order for sell %s' % instruments)\\n        for instrument in instruments:\\n            context.order_target(context.symbol(instrument), 0)\\n            cash_for_sell -= positions[instrument]\\n            if cash_for_sell <= 0:\\n                break\\n\\n    # 3. 生成买入订单：按StockRanker预测的排序，买入前面的stock_count只股票\\n    buy_cash_weights = context.stock_weights\\n    buy_instruments = list(ranker_prediction.instrument[:len(buy_cash_weights)])\\n    max_cash_per_instrument = context.portfolio.portfolio_value * context.max_cash_per_instrument\\n    for i, instrument in enumerate(buy_instruments):\\n        cash = cash_for_buy * buy_cash_weights[i]\\n        if cash > max_cash_per_instrument - positions.get(instrument, 0):\\n            # 确保股票持仓量不会超过每次股票最大的占用资金量\\n            cash = max_cash_per_instrument - positions.get(instrument, 0)\\n        if cash > 0:\\n            context.order_value(context.symbol(instrument), cash)\\n\",\"ValueType\":\"Literal\",\"LinkedGlobalParameter\":null},{\"Name\":\"prepare\",\"Value\":\"# 回测引擎：准备数据，只执行一次\\ndef bigquant_run(context):\\n    pass\\n\",\"ValueType\":\"Literal\",\"LinkedGlobalParameter\":null},{\"Name\":\"before_trading_start\",\"Value\":\"# 回测引擎：每个单位时间开始前调用一次，即每日开盘前调用一次。\\ndef bigquant_run(context, data):\\n    pass\\n\",\"ValueType\":\"Literal\",\"LinkedGlobalParameter\":null},{\"Name\":\"volume_limit\",\"Value\":0.025,\"ValueType\":\"Literal\",\"LinkedGlobalParameter\":null},{\"Name\":\"order_price_field_buy\",\"Value\":\"open\",\"ValueType\":\"Literal\",\"LinkedGlobalParameter\":null},{\"Name\":\"order_price_field_sell\",\"Value\":\"close\",\"ValueType\":\"Literal\",\"LinkedGlobalParameter\":null},{\"Name\":\"capital_base\",\"Value\":1000000,\"ValueType\":\"Literal\",\"LinkedGlobalParameter\":null},{\"Name\":\"auto_cancel_non_tradable_orders\",\"Value\":\"True\",\"ValueType\":\"Literal\",\"LinkedGlobalParameter\":null},{\"Name\":\"data_frequency\",\"Value\":\"daily\",\"ValueType\":\"Literal\",\"LinkedGlobalParameter\":null},{\"Name\":\"price_type\",\"Value\":\"真实价格\",\"ValueType\":\"Literal\",\"LinkedGlobalParameter\":null},{\"Name\":\"product_type\",\"Value\":\"股票\",\"ValueType\":\"Literal\",\"LinkedGlobalParameter\":null},{\"Name\":\"plot_charts\",\"Value\":\"True\",\"ValueType\":\"Literal\",\"LinkedGlobalParameter\":null},{\"Name\":\"backtest_only\",\"Value\":\"False\",\"ValueType\":\"Literal\",\"LinkedGlobalParameter\":null},{\"Name\":\"benchmark\",\"Value\":\"\",\"ValueType\":\"Literal\",\"LinkedGlobalParameter\":null}],\"InputPortsInternal\":[{\"DataSourceId\":null,\"TrainedModelId\":null,\"TransformModuleId\":null,\"Name\":\"instruments\",\"NodeId\":\"-611\"},{\"DataSourceId\":null,\"TrainedModelId\":null,\"TransformModuleId\":null,\"Name\":\"options_data\",\"NodeId\":\"-611\"},{\"DataSourceId\":null,\"TrainedModelId\":null,\"TransformModuleId\":null,\"Name\":\"history_ds\",\"NodeId\":\"-611\"},{\"DataSourceId\":null,\"TrainedModelId\":null,\"TransformModuleId\":null,\"Name\":\"benchmark_ds\",\"NodeId\":\"-611\"},{\"DataSourceId\":null,\"TrainedModelId\":null,\"TransformModuleId\":null,\"Name\":\"trading_calendar\",\"NodeId\":\"-611\"}],\"OutputPortsInternal\":[{\"Name\":\"raw_perf\",\"NodeId\":\"-611\",\"OutputType\":null}],\"UsePreviousResults\":false,\"moduleIdForCode\":16,\"Comment\":\"\",\"CommentCollapsed\":true},{\"Id\":\"-1980\",\"ModuleId\":\"BigQuantSpace.cached.cached-v3\",\"ModuleParameters\":[{\"Name\":\"run\",\"Value\":\"# Python 代码入口函数，input_1/2/3 对应三个输入端，data_1/2/3 对应三个输出端\\ndef bigquant_run(input_1, input_2, input_3):\\n    from datetime import datetime, timedelta\\n    import pandas as pd\\n    import talib as ta\\n\\n    pd.set_option('display.max_columns', None)  # 显示所有列\\n    pd.set_option('display.max_rows', None)  # 显示所有行\\n    pd.set_option('display.width', 1024)  # 设置打印宽度\\n    pd.set_option('display.unicode.ambiguous_as_wide', True)\\n    pd.set_option('display.unicode.east_asian_width', True)\\n    pd.set_option('expand_frame_repr', False)\\n\\n    start_date = input_1.read_pickle()['start_date']\\n    start_date = (datetime.strptime(start_date, '%Y-%m-%d') + timedelta(days=-150)).strftime(\\\"%Y-%m-%d\\\")\\n    end_date = input_1.read_pickle()['end_date']\\n    df_market = pd.DataFrame(columns=['adjust_factor', 'open', 'high', 'low', 'close', 'date', 'instrument', 'logrt_5', 'logrt_20', 'logrt_60', 'bias_s', 'bias_m', 'bias_l'])   # 总表 基于指数读取日线行情\\n    df_index_stocks = pd.DataFrame(columns=['date', 'instrument', 'market_width'])  # for width canculation use\\n    instrument_index = list(input_2.read()['instrument_index'].drop_duplicates())  # 读取指数列表\\n    # print(instrument_index)\\n\\n    for i in range(len(instrument_index)):  # 取每只股票单独计算\\n        df = DataSource('bar1d_index_CN_STOCK_A').read(instrument_index[i], start_date=start_date, end_date=end_date)\\n        df = df.sort_values('date', ascending=True)\\n        df['logrt_5'] = np.log(df['close'] / df['close'].shift(5))\\n        df['logrt_20'] = np.log(df['close'] / df['close'].shift(20))\\n        df['logrt_60'] = np.log(df['close'] / df['close'].shift(60))\\n        if len(df['date']) > 120:\\n            df['ema20'] = ta.EMA(np.array(df['close'], dtype='float'), timeperiod=20)  # +EMA20\\n            df['ema60'] = ta.EMA(np.array(df['close'], dtype='float'), timeperiod=60)  # +EMA60\\n            df['ema120'] = ta.EMA(np.array(df['close'], dtype='float'), timeperiod=120)  # +EMA120\\n            df = df.dropna(subset=['ema20'])\\n        elif 60 < len(df['date']) <= 120:\\n            df['ema20'] = ta.EMA(np.array(df['close'], dtype='float'), timeperiod=20)  # +EMA20\\n            df['ema60'] = ta.EMA(np.array(df['close'], dtype='float'), timeperiod=60)  # +EMA60\\n            df['ema120'] = 0\\n            df = df.dropna(subset=['ema20'])\\n        elif 20 < len(df['date']) <= 60:\\n            df['ema20'] = ta.EMA(np.array(df['close'], dtype='float'), timeperiod=20)  # +EMA20\\n            df['ema60'] = 0\\n            df['ema120'] = 0\\n            df = df.dropna(subset=['ema20'])\\n        else:\\n            df['ema20'] = 0\\n            df['ema60'] = 0\\n            df['ema120'] = 0\\n        if not df.empty:\\n            if not df.dropna(subset=['ema20']).empty and df['ema20'].sum() > 0:\\n                df['bias_s'] = df.apply(lambda x: (np.array(x['close'], dtype='float') - x['ema20']) / x['ema20'] * 100, axis=1)  # +bias_s\\n                if not df.dropna(subset=['ema60']).empty and df['ema60'].sum() > 0:\\n                    df['bias_m'] = df.apply(lambda x: (x['ema20'] - x['ema60']) / x['ema60'] * 100, axis=1)  # +bias_m\\n                    if not df.dropna(subset=['ema120']).empty and df['ema120'].sum() > 0:\\n                        df['bias_l'] = df.apply(lambda x: (x['ema60'] - x['ema120']) / x['ema120'] * 100, axis=1)  # +bias_l\\n                    else:\\n                        df['bias_l'] = 0\\n                else:\\n                    df['bias_m'] = 0\\n                    df['bias_l'] = 0\\n            else:\\n                df.fillna(0, inplace=True)\\n                df['bias_s'] = 0\\n                df['bias_m'] = 0\\n                df['bias_l'] = 0\\n        df = df[df['date'] >= start_date]\\n        df = df[['adjust_factor', 'open', 'high', 'low', 'close', 'date', 'instrument', 'logrt_5', 'logrt_20', 'logrt_60', 'bias_s', 'bias_m', 'bias_l']]\\n        # print(df)\\n        df_market = df_market.append(df, ignore_index=True)  # 合并当日所有股票的数据至一张表\\n    # print('*' * 100)\\n    # print('计算完成的df_market:\\\\n', df_market)\\n    day_cal = list(df_market['date'].drop_duplicates())  # 获取总的交易日历\\n    # print('day_cal:\\\\n', day_cal)\\n\\n    for i in range(len(instrument_index)):  # 指数总数\\n        df_index = pd.DataFrame(input_2.read())\\n        ins = list(df_index[df_index['instrument_index'] == instrument_index[i]]['instrument'])  # 获取指数的股票列表\\n        # print('*' * 100)\\n        # print('instrument_index:', instrument_index[i], '\\\\nins:\\\\n', ins)\\n        for j in range(len(day_cal)):  # 基于指数和日期，按日期循环添加指数的宽度数据，读取指数权重列表，更新至总表\\n            df = DataSource('bar1d_CN_STOCK_A').read(ins, start_date=start_date, end_date=day_cal[j])  # 指数某天的全部股票日线行情\\n            if len(df['date']):\\n                df = df.sort_values('date', ascending=True)\\n                df['ma20'] = ta.SMA(np.array(df['close'], dtype='float'), timeperiod=20)  # 基于时间，获取该指数下各股票的单日行情，并计算MA20\\n                # df = df.dropna(subset=['ma20'])  # dropna\\n                df = df[df['date'] == day_cal[j]]\\n                df['ma_mark'] = df.apply(lambda x: 1 if x['close'] > x['ma20'] else 0, axis=1)  # 增加一列，计算MA_Mark，将指数-日期-MA_Mark/count返回指数表\\n                df = df[['adjust_factor', 'close', 'date', 'instrument', 'ma20', 'ma_mark']]\\n                # print('*' * 100)\\n                # print(instrument_index[i], ' ', day_cal[j], 'df:\\\\n', df)\\n                df_index_stocks = df_index_stocks.append({'date': day_cal[j], 'instrument': instrument_index[i], 'market_width': df['ma_mark'].sum() / len(ins)}, ignore_index=True)  # 合并当日所有股票的数据至一张表\\n    # print('*' * 100)\\n    # print('计算完成后的df_index_stocks:\\\\n', df_index_stocks)\\n    df_market = pd.merge(df_market, df_index_stocks, on=['date', 'instrument'])  # 将指数表和总表合并\\n    df_market = df_market.reset_index()\\n    # print('*' * 100)\\n    # print('合并后的df_market:\\\\n', df_market)\\n    # print('dtypes:', df_market.dtypes)\\n    # print('*' * 100)\\n    data_1 = DataSource.write_df(df_market)\\n    return Outputs(data_1=data_1, data_2=None, data_3=None)\\n    # df = DataSource('trading_days').read()  # 读取今天的交易日期\\n    # today = datetime.datetime.strptime(str(df[df['country_code'] == 'CN'].iloc[-1].at['date']), '%Y-%m-%d %H:%M:%S').strftime('%Y-%m-%d')\\n    # 基金数据 (basic_info_CN_FUND) https://bigquant.com/docs/datasource/data_basic_info_CN_FUND.html\\n    # 每日可交易的基金列表 (instruments_CN_FUND)，可用于判断当日ETF是否在交易\\n    # 基金行情数据 (bar1d_CN_FUND)\\n    # 指数基本信息 (basic_info_index_CN_STOCK_A)\\n    # 指数成分及权重 (index_element_weight)\\n\",\"ValueType\":\"Literal\",\"LinkedGlobalParameter\":null},{\"Name\":\"post_run\",\"Value\":\"# 后处理函数，可选。输入是主函数的输出，可以在这里对数据做处理，或者返回更友好的outputs数据格式。此函数输出不会被缓存。\\ndef bigquant_run(outputs):\\n    return outputs\\n\",\"ValueType\":\"Literal\",\"LinkedGlobalParameter\":null},{\"Name\":\"input_ports\",\"Value\":\"\",\"ValueType\":\"Literal\",\"LinkedGlobalParameter\":null},{\"Name\":\"params\",\"Value\":\"{}\",\"ValueType\":\"Literal\",\"LinkedGlobalParameter\":null},{\"Name\":\"output_ports\",\"Value\":\"\",\"ValueType\":\"Literal\",\"LinkedGlobalParameter\":null}],\"InputPortsInternal\":[{\"DataSourceId\":null,\"TrainedModelId\":null,\"TransformModuleId\":null,\"Name\":\"input_1\",\"NodeId\":\"-1980\"},{\"DataSourceId\":null,\"TrainedModelId\":null,\"TransformModuleId\":null,\"Name\":\"input_2\",\"NodeId\":\"-1980\"},{\"DataSourceId\":null,\"TrainedModelId\":null,\"TransformModuleId\":null,\"Name\":\"input_3\",\"NodeId\":\"-1980\"}],\"OutputPortsInternal\":[{\"Name\":\"data_1\",\"NodeId\":\"-1980\",\"OutputType\":null},{\"Name\":\"data_2\",\"NodeId\":\"-1980\",\"OutputType\":null},{\"Name\":\"data_3\",\"NodeId\":\"-1980\",\"OutputType\":null}],\"UsePreviousResults\":true,\"moduleIdForCode\":8,\"Comment\":\"完整数据脚本\",\"CommentCollapsed\":false},{\"Id\":\"-785\",\"ModuleId\":\"BigQuantSpace.datahub_load_file.datahub_load_file-v1\",\"ModuleParameters\":[{\"Name\":\"file_path\",\"Value\":\"# Python 动态生成文件路径\\ndef bigquant_run():\\n    # 示例代码如下。在这里编写您的代码\\n    # 如果不需要动态生成路径,直接返回path即可\\n    # import datetime\\n    # import os\\n    # base_path = \\\"/var/app/data/datahub\\\"\\n    # data_path = os.path.join(base_path, \\\"bigcrawler\\\")\\n    # date = datetime.datetime.now().strftime(\\\"%Y%m%d\\\")\\n    # file_path = os.path.join(data_path, \\\"{}.csv\\\".format(date))\\n    # return file_path\\n\\n    return \\\"bigquant_index_element test.csv\\\"\\n\",\"ValueType\":\"Literal\",\"LinkedGlobalParameter\":null},{\"Name\":\"file_type\",\"Value\":\"csv\",\"ValueType\":\"Literal\",\"LinkedGlobalParameter\":null},{\"Name\":\"csv_delimiter\",\"Value\":\",\",\"ValueType\":\"Literal\",\"LinkedGlobalParameter\":null},{\"Name\":\"h5_data_key\",\"Value\":\"data\",\"ValueType\":\"Literal\",\"LinkedGlobalParameter\":null}],\"InputPortsInternal\":[],\"OutputPortsInternal\":[{\"Name\":\"data\",\"NodeId\":\"-785\",\"OutputType\":null}],\"UsePreviousResults\":false,\"moduleIdForCode\":17,\"Comment\":\"指数的成分股列表\",\"CommentCollapsed\":false},{\"Id\":\"-2087\",\"ModuleId\":\"BigQuantSpace.auto_labeler_on_datasource.auto_labeler_on_datasource-v1\",\"ModuleParameters\":[{\"Name\":\"label_expr\",\"Value\":\"# #号开始的表示注释\\n# 0. 每行一个，顺序执行，从第二个开始，可以使用label字段\\n# 1. 可用数据字段见 https://bigquant.com/docs/develop/datasource/deprecated/history_data.html\\n# 2. 可用操作符和函数见 `表 达式引擎 <https://bigquant.com/docs/develop/bigexpr/usage.html>`_\\n\\n# 计算收益：5日收盘价(作为卖出价格)除以明日开盘价(作为买入价格)\\n# shift(close, -5) / shift(open, -1)\\n\\n# 计算收益：5日经波动率调整后收益率\\nshift(close, -5) / shift(open, -1)/ std(shift(close, -7) / shift(open, -6),5)\\n\\n# 极值处理：用1%和99%分位的值做clip\\nclip(label, all_quantile(label, 0.01), all_quantile(label, 0.99))\\n\\n# 将分数映射到分类，这里使用20个分类\\n# all_wbins(label, 20)\\n\\n# 过滤掉一字涨停的情况 (设置label为NaN，在后续处理和训练中会忽略NaN的label)\\nwhere(shift(high, -1) == shift(low, -1), NaN, label)\\n\",\"ValueType\":\"Literal\",\"LinkedGlobalParameter\":null},{\"Name\":\"drop_na_label\",\"Value\":\"True\",\"ValueType\":\"Literal\",\"LinkedGlobalParameter\":null},{\"Name\":\"cast_label_int\",\"Value\":\"False\",\"ValueType\":\"Literal\",\"LinkedGlobalParameter\":null},{\"Name\":\"date_col\",\"Value\":\"date\",\"ValueType\":\"Literal\",\"LinkedGlobalParameter\":null},{\"Name\":\"instrument_col\",\"Value\":\"instrument\",\"ValueType\":\"Literal\",\"LinkedGlobalParameter\":null},{\"Name\":\"user_functions\",\"Value\":\"{}\",\"ValueType\":\"Literal\",\"LinkedGlobalParameter\":null}],\"InputPortsInternal\":[{\"DataSourceId\":null,\"TrainedModelId\":null,\"TransformModuleId\":null,\"Name\":\"input_data\",\"NodeId\":\"-2087\"}],\"OutputPortsInternal\":[{\"Name\":\"data\",\"NodeId\":\"-2087\",\"OutputType\":null}],\"UsePreviousResults\":true,\"moduleIdForCode\":18,\"Comment\":\"\",\"CommentCollapsed\":true},{\"Id\":\"-2105\",\"ModuleId\":\"BigQuantSpace.cached.cached-v3\",\"ModuleParameters\":[{\"Name\":\"run\",\"Value\":\"\",\"ValueType\":\"Literal\",\"LinkedGlobalParameter\":null},{\"Name\":\"post_run\",\"Value\":\"# 后处理函数，可选。输入是主函数的输出，可以在这里对数据做处理，或者返回更友好的outputs数据格式。此函数输出不会被缓存。\\ndef bigquant_run(outputs):\\n    return outputs\\n\",\"ValueType\":\"Literal\",\"LinkedGlobalParameter\":null},{\"Name\":\"input_ports\",\"Value\":\"\",\"ValueType\":\"Literal\",\"LinkedGlobalParameter\":null},{\"Name\":\"params\",\"Value\":\"{}\",\"ValueType\":\"Literal\",\"LinkedGlobalParameter\":null},{\"Name\":\"output_ports\",\"Value\":\"\",\"ValueType\":\"Literal\",\"LinkedGlobalParameter\":null}],\"InputPortsInternal\":[{\"DataSourceId\":null,\"TrainedModelId\":null,\"TransformModuleId\":null,\"Name\":\"input_1\",\"NodeId\":\"-2105\"},{\"DataSourceId\":null,\"TrainedModelId\":null,\"TransformModuleId\":null,\"Name\":\"input_2\",\"NodeId\":\"-2105\"},{\"DataSourceId\":null,\"TrainedModelId\":null,\"TransformModuleId\":null,\"Name\":\"input_3\",\"NodeId\":\"-2105\"}],\"OutputPortsInternal\":[{\"Name\":\"data_1\",\"NodeId\":\"-2105\",\"OutputType\":null},{\"Name\":\"data_2\",\"NodeId\":\"-2105\",\"OutputType\":null},{\"Name\":\"data_3\",\"NodeId\":\"-2105\",\"OutputType\":null}],\"UsePreviousResults\":true,\"moduleIdForCode\":6,\"Comment\":\"完整数据脚本\",\"CommentCollapsed\":true},{\"Id\":\"-216\",\"ModuleId\":\"BigQuantSpace.input_csv.input_csv-v5\",\"ModuleParameters\":[{\"Name\":\"file\",\"Value\":\"df_market.csv\",\"ValueType\":\"Literal\",\"LinkedGlobalParameter\":null},{\"Name\":\"coding\",\"Value\":\"GBK\",\"ValueType\":\"Literal\",\"LinkedGlobalParameter\":null},{\"Name\":\"dtypes\",\"Value\":\"{}\",\"ValueType\":\"Literal\",\"LinkedGlobalParameter\":null},{\"Name\":\"date_type\",\"Value\":\"%Y-%m-%d\",\"ValueType\":\"Literal\",\"LinkedGlobalParameter\":null},{\"Name\":\"date_cols\",\"Value\":\"['date']\",\"ValueType\":\"Literal\",\"LinkedGlobalParameter\":null}],\"InputPortsInternal\":[],\"OutputPortsInternal\":[{\"Name\":\"data\",\"NodeId\":\"-216\",\"OutputType\":null}],\"UsePreviousResults\":false,\"moduleIdForCode\":3,\"Comment\":\"\",\"CommentCollapsed\":true},{\"Id\":\"-228\",\"ModuleId\":\"BigQuantSpace.df_to_csv.df_to_csv-v2\",\"ModuleParameters\":[{\"Name\":\"name\",\"Value\":\"df_market.csv\",\"ValueType\":\"Literal\",\"LinkedGlobalParameter\":null}],\"InputPortsInternal\":[{\"DataSourceId\":null,\"TrainedModelId\":null,\"TransformModuleId\":null,\"Name\":\"input_1\",\"NodeId\":\"-228\"}],\"OutputPortsInternal\":[],\"UsePreviousResults\":true,\"moduleIdForCode\":5,\"Comment\":\"\",\"CommentCollapsed\":true},{\"Id\":\"-264\",\"ModuleId\":\"BigQuantSpace.dropnan.dropnan-v2\",\"ModuleParameters\":[],\"InputPortsInternal\":[{\"DataSourceId\":null,\"TrainedModelId\":null,\"TransformModuleId\":null,\"Name\":\"input_data\",\"NodeId\":\"-264\"},{\"DataSourceId\":null,\"TrainedModelId\":null,\"TransformModuleId\":null,\"Name\":\"features\",\"NodeId\":\"-264\"}],\"OutputPortsInternal\":[{\"Name\":\"data\",\"NodeId\":\"-264\",\"OutputType\":null}],\"UsePreviousResults\":true,\"moduleIdForCode\":10,\"Comment\":\"\",\"CommentCollapsed\":true}],\"SerializedClientData\":\"<?xml version='1.0' encoding='utf-16'?><DataV1 xmlns:xsd='http://www.w3.org/2001/XMLSchema' xmlns:xsi='http://www.w3.org/2001/XMLSchema-instance'><Meta /><NodePositions><NodePosition Node='-2409' Position='2,-456,200,200'/><NodePosition Node='-2789' Position='812,-371,200,200'/><NodePosition Node='-3061' Position='262,-7,200,200'/><NodePosition Node='-167' Position='125,99,200,200'/><NodePosition Node='-543' Position='1546,-370,200,200'/><NodePosition Node='-571' Position='1175,53,200,200'/><NodePosition Node='-580' Position='1164,173,200,200'/><NodePosition Node='-588' Position='456,321,200,200'/><NodePosition Node='-603' Position='979,562,200,200'/><NodePosition Node='-611' Position='1226,687,200,200'/><NodePosition Node='-1980' Position='191,-309,200,200'/><NodePosition Node='-785' Position='349,-456,200,200'/><NodePosition Node='-2087' Position='-44,-7,200,200'/><NodePosition Node='-2105' Position='874,-62,200,200'/><NodePosition Node='-216' Position='28,-122,200,200'/><NodePosition Node='-228' Position='25,-199,200,200'/><NodePosition Node='-264' Position='101,222,200,200'/></NodePositions><NodeGroups /></DataV1>\"},\"IsDraft\":true,\"ParentExperimentId\":null,\"WebService\":{\"IsWebServiceExperiment\":false,\"Inputs\":[],\"Outputs\":[],\"Parameters\":[{\"Name\":\"交易日期\",\"Value\":\"\",\"ParameterDefinition\":{\"Name\":\"交易日期\",\"FriendlyName\":\"交易日期\",\"DefaultValue\":\"\",\"ParameterType\":\"String\",\"HasDefaultValue\":true,\"IsOptional\":true,\"ParameterRules\":[],\"HasRules\":false,\"MarkupType\":0,\"CredentialDescriptor\":null}}],\"WebServiceGroupId\":null,\"SerializedClientData\":\"<?xml version='1.0' encoding='utf-16'?><DataV1 xmlns:xsd='http://www.w3.org/2001/XMLSchema' xmlns:xsi='http://www.w3.org/2001/XMLSchema-instance'><Meta /><NodePositions></NodePositions><NodeGroups /></DataV1>\"},\"DisableNodesUpdate\":false,\"Category\":\"user\",\"Tags\":[],\"IsPartialRun\":true}"
   },
   "outputs": [
    {
     "data": {
      "text/plain": [
       "[2020-12-12 09:26:52.271654] INFO: moduleinvoker: input_features.v1 开始运行.."
      ]
     },
     "metadata": {
      "is_log": true,
      "status": "INFO"
     },
     "output_type": "display_data"
    },
    {
     "data": {
      "text/plain": [
       "[2020-12-12 09:26:52.284269] INFO: moduleinvoker: 命中缓存"
      ]
     },
     "metadata": {
      "is_log": true,
      "status": "INFO"
     },
     "output_type": "display_data"
    },
    {
     "data": {
      "text/plain": [
       "[2020-12-12 09:26:52.285524] INFO: moduleinvoker: input_features.v1 运行完成[0.01387s]."
      ]
     },
     "metadata": {
      "is_log": true,
      "status": "INFO"
     },
     "output_type": "display_data"
    },
    {
     "data": {
      "text/plain": [
       "[2020-12-12 09:26:52.288053] INFO: moduleinvoker: input_csv.v5 开始运行.."
      ]
     },
     "metadata": {
      "is_log": true,
      "status": "INFO"
     },
     "output_type": "display_data"
    },
    {
     "data": {
      "text/plain": [
       "[2020-12-12 09:26:52.399424] INFO: moduleinvoker: input_csv.v5 运行完成[0.111352s]."
      ]
     },
     "metadata": {
      "is_log": true,
      "status": "INFO"
     },
     "output_type": "display_data"
    },
    {
     "data": {
      "text/plain": [
       "[2020-12-12 09:26:52.401787] INFO: moduleinvoker: auto_labeler_on_datasource.v1 开始运行.."
      ]
     },
     "metadata": {
      "is_log": true,
      "status": "INFO"
     },
     "output_type": "display_data"
    },
    {
     "data": {
      "text/plain": [
       "[2020-12-12 09:26:52.429642] INFO: 自动标注(任意数据源): 开始标注 .."
      ]
     },
     "metadata": {
      "is_log": true,
      "status": "INFO"
     },
     "output_type": "display_data"
    },
    {
     "data": {
      "text/plain": [
       "[2020-12-12 09:26:52.517128] INFO: moduleinvoker: auto_labeler_on_datasource.v1 运行完成[0.11534s]."
      ]
     },
     "metadata": {
      "is_log": true,
      "status": "INFO"
     },
     "output_type": "display_data"
    },
    {
     "data": {
      "text/plain": [
       "[2020-12-12 09:26:52.519427] INFO: moduleinvoker: derived_feature_extractor.v3 开始运行.."
      ]
     },
     "metadata": {
      "is_log": true,
      "status": "INFO"
     },
     "output_type": "display_data"
    },
    {
     "data": {
      "text/plain": [
       "[2020-12-12 09:26:52.578985] INFO: derived_feature_extractor: 提取完成 bias_s = bias_s, 0.000s"
      ]
     },
     "metadata": {
      "is_log": true,
      "status": "INFO"
     },
     "output_type": "display_data"
    },
    {
     "data": {
      "text/plain": [
       "[2020-12-12 09:26:52.581157] INFO: derived_feature_extractor: 提取完成 market_width = market_width, 0.001s"
      ]
     },
     "metadata": {
      "is_log": true,
      "status": "INFO"
     },
     "output_type": "display_data"
    },
    {
     "data": {
      "text/plain": [
       "[2020-12-12 09:26:52.583004] INFO: derived_feature_extractor: 提取完成 logrt_5 = logrt_5, 0.000s"
      ]
     },
     "metadata": {
      "is_log": true,
      "status": "INFO"
     },
     "output_type": "display_data"
    },
    {
     "data": {
      "text/plain": [
       "[2020-12-12 09:26:52.611080] INFO: derived_feature_extractor: /data, 1707"
      ]
     },
     "metadata": {
      "is_log": true,
      "status": "INFO"
     },
     "output_type": "display_data"
    },
    {
     "data": {
      "text/plain": [
       "[2020-12-12 09:26:52.809296] INFO: moduleinvoker: derived_feature_extractor.v3 运行完成[0.289849s]."
      ]
     },
     "metadata": {
      "is_log": true,
      "status": "INFO"
     },
     "output_type": "display_data"
    },
    {
     "data": {
      "text/plain": [
       "[2020-12-12 09:26:52.811821] INFO: moduleinvoker: join.v3 开始运行.."
      ]
     },
     "metadata": {
      "is_log": true,
      "status": "INFO"
     },
     "output_type": "display_data"
    },
    {
     "data": {
      "text/plain": [
       "[2020-12-12 09:26:53.074849] INFO: join: /data, 行数=1674/1707, 耗时=0.022838s"
      ]
     },
     "metadata": {
      "is_log": true,
      "status": "INFO"
     },
     "output_type": "display_data"
    },
    {
     "data": {
      "text/plain": [
       "[2020-12-12 09:26:53.148286] INFO: join: 最终行数: 1674"
      ]
     },
     "metadata": {
      "is_log": true,
      "status": "INFO"
     },
     "output_type": "display_data"
    },
    {
     "data": {
      "text/plain": [
       "[2020-12-12 09:26:53.153524] INFO: moduleinvoker: join.v3 运行完成[0.341698s]."
      ]
     },
     "metadata": {
      "is_log": true,
      "status": "INFO"
     },
     "output_type": "display_data"
    },
    {
     "data": {
      "text/plain": [
       "[2020-12-12 09:26:53.155158] INFO: moduleinvoker: dropnan.v2 开始运行.."
      ]
     },
     "metadata": {
      "is_log": true,
      "status": "INFO"
     },
     "output_type": "display_data"
    },
    {
     "data": {
      "text/plain": [
       "[2020-12-12 09:26:53.195729] INFO: dropnan: /data, 1386/1674"
      ]
     },
     "metadata": {
      "is_log": true,
      "status": "INFO"
     },
     "output_type": "display_data"
    },
    {
     "data": {
      "text/plain": [
       "[2020-12-12 09:26:53.256267] INFO: dropnan: 行数: 1386/1674"
      ]
     },
     "metadata": {
      "is_log": true,
      "status": "INFO"
     },
     "output_type": "display_data"
    },
    {
     "data": {
      "text/plain": [
       "[2020-12-12 09:26:53.259665] INFO: moduleinvoker: dropnan.v2 运行完成[0.10449s]."
      ]
     },
     "metadata": {
      "is_log": true,
      "status": "INFO"
     },
     "output_type": "display_data"
    }
   ],
   "source": [
    "# 本代码由可视化策略环境自动生成 2021年3月10日15:03\n",
    "# 本代码单元只能在可视化模式下编辑。您也可以拷贝代码，粘贴到新建的代码单元或者策略，然后修改。\n",
    "\n",
    "\n",
    "# Python 动态生成文件路径\n",
    "def m17_file_path_bigquant_run():\n",
    "    # 示例代码如下。在这里编写您的代码\n",
    "    # 如果不需要动态生成路径,直接返回path即可\n",
    "    # import datetime\n",
    "    # import os\n",
    "    # base_path = \"/var/app/data/datahub\"\n",
    "    # data_path = os.path.join(base_path, \"bigcrawler\")\n",
    "    # date = datetime.datetime.now().strftime(\"%Y%m%d\")\n",
    "    # file_path = os.path.join(data_path, \"{}.csv\".format(date))\n",
    "    # return file_path\n",
    "\n",
    "    return \"bigquant_index_element test.csv\"\n",
    "\n",
    "# Python 代码入口函数，input_1/2/3 对应三个输入端，data_1/2/3 对应三个输出端\n",
    "def m8_run_bigquant_run(input_1, input_2, input_3):\n",
    "    from datetime import datetime, timedelta\n",
    "    import pandas as pd\n",
    "    import talib as ta\n",
    "\n",
    "    pd.set_option('display.max_columns', None)  # 显示所有列\n",
    "    pd.set_option('display.max_rows', None)  # 显示所有行\n",
    "    pd.set_option('display.width', 1024)  # 设置打印宽度\n",
    "    pd.set_option('display.unicode.ambiguous_as_wide', True)\n",
    "    pd.set_option('display.unicode.east_asian_width', True)\n",
    "    pd.set_option('expand_frame_repr', False)\n",
    "\n",
    "    start_date = input_1.read_pickle()['start_date']\n",
    "    start_date = (datetime.strptime(start_date, '%Y-%m-%d') + timedelta(days=-150)).strftime(\"%Y-%m-%d\")\n",
    "    end_date = input_1.read_pickle()['end_date']\n",
    "    df_market = pd.DataFrame(columns=['adjust_factor', 'open', 'high', 'low', 'close', 'date', 'instrument', 'logrt_5', 'logrt_20', 'logrt_60', 'bias_s', 'bias_m', 'bias_l'])   # 总表 基于指数读取日线行情\n",
    "    df_index_stocks = pd.DataFrame(columns=['date', 'instrument', 'market_width'])  # for width canculation use\n",
    "    instrument_index = list(input_2.read()['instrument_index'].drop_duplicates())  # 读取指数列表\n",
    "    # print(instrument_index)\n",
    "\n",
    "    for i in range(len(instrument_index)):  # 取每只股票单独计算\n",
    "        df = DataSource('bar1d_index_CN_STOCK_A').read(instrument_index[i], start_date=start_date, end_date=end_date)\n",
    "        df = df.sort_values('date', ascending=True)\n",
    "        df['logrt_5'] = np.log(df['close'] / df['close'].shift(5))\n",
    "        df['logrt_20'] = np.log(df['close'] / df['close'].shift(20))\n",
    "        df['logrt_60'] = np.log(df['close'] / df['close'].shift(60))\n",
    "        if len(df['date']) > 120:\n",
    "            df['ema20'] = ta.EMA(np.array(df['close'], dtype='float'), timeperiod=20)  # +EMA20\n",
    "            df['ema60'] = ta.EMA(np.array(df['close'], dtype='float'), timeperiod=60)  # +EMA60\n",
    "            df['ema120'] = ta.EMA(np.array(df['close'], dtype='float'), timeperiod=120)  # +EMA120\n",
    "            df = df.dropna(subset=['ema20'])\n",
    "        elif 60 < len(df['date']) <= 120:\n",
    "            df['ema20'] = ta.EMA(np.array(df['close'], dtype='float'), timeperiod=20)  # +EMA20\n",
    "            df['ema60'] = ta.EMA(np.array(df['close'], dtype='float'), timeperiod=60)  # +EMA60\n",
    "            df['ema120'] = 0\n",
    "            df = df.dropna(subset=['ema20'])\n",
    "        elif 20 < len(df['date']) <= 60:\n",
    "            df['ema20'] = ta.EMA(np.array(df['close'], dtype='float'), timeperiod=20)  # +EMA20\n",
    "            df['ema60'] = 0\n",
    "            df['ema120'] = 0\n",
    "            df = df.dropna(subset=['ema20'])\n",
    "        else:\n",
    "            df['ema20'] = 0\n",
    "            df['ema60'] = 0\n",
    "            df['ema120'] = 0\n",
    "        if not df.empty:\n",
    "            if not df.dropna(subset=['ema20']).empty and df['ema20'].sum() > 0:\n",
    "                df['bias_s'] = df.apply(lambda x: (np.array(x['close'], dtype='float') - x['ema20']) / x['ema20'] * 100, axis=1)  # +bias_s\n",
    "                if not df.dropna(subset=['ema60']).empty and df['ema60'].sum() > 0:\n",
    "                    df['bias_m'] = df.apply(lambda x: (x['ema20'] - x['ema60']) / x['ema60'] * 100, axis=1)  # +bias_m\n",
    "                    if not df.dropna(subset=['ema120']).empty and df['ema120'].sum() > 0:\n",
    "                        df['bias_l'] = df.apply(lambda x: (x['ema60'] - x['ema120']) / x['ema120'] * 100, axis=1)  # +bias_l\n",
    "                    else:\n",
    "                        df['bias_l'] = 0\n",
    "                else:\n",
    "                    df['bias_m'] = 0\n",
    "                    df['bias_l'] = 0\n",
    "            else:\n",
    "                df.fillna(0, inplace=True)\n",
    "                df['bias_s'] = 0\n",
    "                df['bias_m'] = 0\n",
    "                df['bias_l'] = 0\n",
    "        df = df[df['date'] >= start_date]\n",
    "        df = df[['adjust_factor', 'open', 'high', 'low', 'close', 'date', 'instrument', 'logrt_5', 'logrt_20', 'logrt_60', 'bias_s', 'bias_m', 'bias_l']]\n",
    "        # print(df)\n",
    "        df_market = df_market.append(df, ignore_index=True)  # 合并当日所有股票的数据至一张表\n",
    "    # print('*' * 100)\n",
    "    # print('计算完成的df_market:\\n', df_market)\n",
    "    day_cal = list(df_market['date'].drop_duplicates())  # 获取总的交易日历\n",
    "    # print('day_cal:\\n', day_cal)\n",
    "\n",
    "    for i in range(len(instrument_index)):  # 指数总数\n",
    "        df_index = pd.DataFrame(input_2.read())\n",
    "        ins = list(df_index[df_index['instrument_index'] == instrument_index[i]]['instrument'])  # 获取指数的股票列表\n",
    "        # print('*' * 100)\n",
    "        # print('instrument_index:', instrument_index[i], '\\nins:\\n', ins)\n",
    "        for j in range(len(day_cal)):  # 基于指数和日期，按日期循环添加指数的宽度数据，读取指数权重列表，更新至总表\n",
    "            df = DataSource('bar1d_CN_STOCK_A').read(ins, start_date=start_date, end_date=day_cal[j])  # 指数某天的全部股票日线行情\n",
    "            if len(df['date']):\n",
    "                df = df.sort_values('date', ascending=True)\n",
    "                df['ma20'] = ta.SMA(np.array(df['close'], dtype='float'), timeperiod=20)  # 基于时间，获取该指数下各股票的单日行情，并计算MA20\n",
    "                # df = df.dropna(subset=['ma20'])  # dropna\n",
    "                df = df[df['date'] == day_cal[j]]\n",
    "                df['ma_mark'] = df.apply(lambda x: 1 if x['close'] > x['ma20'] else 0, axis=1)  # 增加一列，计算MA_Mark，将指数-日期-MA_Mark/count返回指数表\n",
    "                df = df[['adjust_factor', 'close', 'date', 'instrument', 'ma20', 'ma_mark']]\n",
    "                # print('*' * 100)\n",
    "                # print(instrument_index[i], ' ', day_cal[j], 'df:\\n', df)\n",
    "                df_index_stocks = df_index_stocks.append({'date': day_cal[j], 'instrument': instrument_index[i], 'market_width': df['ma_mark'].sum() / len(ins)}, ignore_index=True)  # 合并当日所有股票的数据至一张表\n",
    "    # print('*' * 100)\n",
    "    # print('计算完成后的df_index_stocks:\\n', df_index_stocks)\n",
    "    df_market = pd.merge(df_market, df_index_stocks, on=['date', 'instrument'])  # 将指数表和总表合并\n",
    "    df_market = df_market.reset_index()\n",
    "    # print('*' * 100)\n",
    "    # print('合并后的df_market:\\n', df_market)\n",
    "    # print('dtypes:', df_market.dtypes)\n",
    "    # print('*' * 100)\n",
    "    data_1 = DataSource.write_df(df_market)\n",
    "    return Outputs(data_1=data_1, data_2=None, data_3=None)\n",
    "    # df = DataSource('trading_days').read()  # 读取今天的交易日期\n",
    "    # today = datetime.datetime.strptime(str(df[df['country_code'] == 'CN'].iloc[-1].at['date']), '%Y-%m-%d %H:%M:%S').strftime('%Y-%m-%d')\n",
    "    # 基金数据 (basic_info_CN_FUND) https://bigquant.com/docs/datasource/data_basic_info_CN_FUND.html\n",
    "    # 每日可交易的基金列表 (instruments_CN_FUND)，可用于判断当日ETF是否在交易\n",
    "    # 基金行情数据 (bar1d_CN_FUND)\n",
    "    # 指数基本信息 (basic_info_index_CN_STOCK_A)\n",
    "    # 指数成分及权重 (index_element_weight)\n",
    "\n",
    "# 后处理函数，可选。输入是主函数的输出，可以在这里对数据做处理，或者返回更友好的outputs数据格式。此函数输出不会被缓存。\n",
    "def m8_post_run_bigquant_run(outputs):\n",
    "    return outputs\n",
    "\n",
    "# 后处理函数，可选。输入是主函数的输出，可以在这里对数据做处理，或者返回更友好的outputs数据格式。此函数输出不会被缓存。\n",
    "def m6_post_run_bigquant_run(outputs):\n",
    "    return outputs\n",
    "\n",
    "# 回测引擎：初始化函数，只执行一次\n",
    "def m16_initialize_bigquant_run(context):\n",
    "    # 加载预测数据\n",
    "    context.ranker_prediction = context.options['data'].read_df()\n",
    "\n",
    "    # 系统已经设置了默认的交易手续费和滑点，要修改手续费可使用如下函数\n",
    "    context.set_commission(PerOrder(buy_cost=0.0003, sell_cost=0.0013, min_cost=5))\n",
    "    # 预测数据，通过options传入进来，使用 read_df 函数，加载到内存 (DataFrame)\n",
    "    # 设置买入的股票数量，这里买入预测股票列表排名靠前的5只\n",
    "    stock_count = 5\n",
    "    # 每只的股票的权重，如下的权重分配会使得靠前的股票分配多一点的资金，[0.339160, 0.213986, 0.169580, ..]\n",
    "    context.stock_weights = T.norm([1 / math.log(i + 2) for i in range(0, stock_count)])\n",
    "    # 设置每只股票占用的最大资金比例\n",
    "    context.max_cash_per_instrument = 0.2\n",
    "    context.hold_days = 5\n",
    "\n",
    "# 回测引擎：每日数据处理函数，每天执行一次\n",
    "def m16_handle_data_bigquant_run(context, data):\n",
    "    # 按日期过滤得到今日的预测数据\n",
    "    ranker_prediction = context.ranker_prediction[\n",
    "        context.ranker_prediction.date == data.current_dt.strftime('%Y-%m-%d')]\n",
    "\n",
    "    # 1. 资金分配\n",
    "    # 平均持仓时间是hold_days，每日都将买入股票，每日预期使用 1/hold_days 的资金\n",
    "    # 实际操作中，会存在一定的买入误差，所以在前hold_days天，等量使用资金；之后，尽量使用剩余资金（这里设置最多用等量的1.5倍）\n",
    "    is_staging = context.trading_day_index < context.hold_days # 是否在建仓期间（前 hold_days 天）\n",
    "    cash_avg = context.portfolio.portfolio_value / context.hold_days\n",
    "    cash_for_buy = min(context.portfolio.cash, (1 if is_staging else 1.5) * cash_avg)\n",
    "    cash_for_sell = cash_avg - (context.portfolio.cash - cash_for_buy)\n",
    "    positions = {e.symbol: p.amount * p.last_sale_price\n",
    "                 for e, p in context.perf_tracker.position_tracker.positions.items()}\n",
    "\n",
    "    # 2. 生成卖出订单：hold_days天之后才开始卖出；对持仓的股票，按StockRanker预测的排序末位淘汰\n",
    "    if not is_staging and cash_for_sell > 0:\n",
    "        equities = {e.symbol: e for e, p in context.perf_tracker.position_tracker.positions.items()}\n",
    "        instruments = list(reversed(list(ranker_prediction.instrument[ranker_prediction.instrument.apply(\n",
    "                lambda x: x in equities and not context.has_unfinished_sell_order(equities[x]))])))\n",
    "        # print('rank order for sell %s' % instruments)\n",
    "        for instrument in instruments:\n",
    "            context.order_target(context.symbol(instrument), 0)\n",
    "            cash_for_sell -= positions[instrument]\n",
    "            if cash_for_sell <= 0:\n",
    "                break\n",
    "\n",
    "    # 3. 生成买入订单：按StockRanker预测的排序，买入前面的stock_count只股票\n",
    "    buy_cash_weights = context.stock_weights\n",
    "    buy_instruments = list(ranker_prediction.instrument[:len(buy_cash_weights)])\n",
    "    max_cash_per_instrument = context.portfolio.portfolio_value * context.max_cash_per_instrument\n",
    "    for i, instrument in enumerate(buy_instruments):\n",
    "        cash = cash_for_buy * buy_cash_weights[i]\n",
    "        if cash > max_cash_per_instrument - positions.get(instrument, 0):\n",
    "            # 确保股票持仓量不会超过每次股票最大的占用资金量\n",
    "            cash = max_cash_per_instrument - positions.get(instrument, 0)\n",
    "        if cash > 0:\n",
    "            context.order_value(context.symbol(instrument), cash)\n",
    "\n",
    "# 回测引擎：准备数据，只执行一次\n",
    "def m16_prepare_bigquant_run(context):\n",
    "    pass\n",
    "\n",
    "# 回测引擎：每个单位时间开始前调用一次，即每日开盘前调用一次。\n",
    "def m16_before_trading_start_bigquant_run(context, data):\n",
    "    pass\n",
    "\n",
    "\n",
    "m1 = M.instruments.v2(\n",
    "    start_date='2018-1-1',\n",
    "    end_date='2019-12-31',\n",
    "    market='CN_FUND',\n",
    "    instrument_list='',\n",
    "    max_count=0\n",
    ")\n",
    "\n",
    "m2 = M.input_features.v1(\n",
    "    features=\"\"\"# #号开始的表示注释，注释需单独一行\n",
    "# 多个特征，每行一个，可以包含基础特征和衍生特征，特征须为本平台特征\n",
    "bias_s = bias_s\n",
    "#bias_m = bias_m\n",
    "#bias_l = bias_l\n",
    "market_width = market_width\n",
    "logrt_5 = logrt_5\n",
    "#logrt_20 = logrt_20\n",
    "#logrt_60 = logrt_60\"\"\"\n",
    ")\n",
    "\n",
    "m9 = M.instruments.v2(\n",
    "    start_date='2020-1-1',\n",
    "    end_date='2020-10-28',\n",
    "    market='CN_STOCK_A',\n",
    "    instrument_list='',\n",
    "    max_count=0\n",
    ")\n",
    "\n",
    "m17 = M.datahub_load_file.v1(\n",
    "    file_path=m17_file_path_bigquant_run,\n",
    "    file_type='csv',\n",
    "    csv_delimiter=',',\n",
    "    h5_data_key='data'\n",
    ")\n",
    "\n",
    "m8 = M.cached.v3(\n",
    "    input_1=m1.data,\n",
    "    input_2=m17.data,\n",
    "    run=m8_run_bigquant_run,\n",
    "    post_run=m8_post_run_bigquant_run,\n",
    "    input_ports='',\n",
    "    params='{}',\n",
    "    output_ports=''\n",
    ")\n",
    "\n",
    "m5 = M.df_to_csv.v2(\n",
    "    input_1=m8.data_1,\n",
    "    name='df_market.csv'\n",
    ")\n",
    "\n",
    "m6 = M.cached.v3(\n",
    "    input_1=m9.data,\n",
    "    input_2=m17.data,\n",
    "    post_run=m6_post_run_bigquant_run,\n",
    "    input_ports='',\n",
    "    params='{}',\n",
    "    output_ports=''\n",
    ")\n",
    "\n",
    "m12 = M.derived_feature_extractor.v3(\n",
    "    input_data=m6.data_1,\n",
    "    features=m2.data,\n",
    "    date_col='date',\n",
    "    instrument_col='instrument',\n",
    "    drop_na=False,\n",
    "    remove_extra_columns=False\n",
    ")\n",
    "\n",
    "m13 = M.dropnan.v2(\n",
    "    input_data=m12.data\n",
    ")\n",
    "\n",
    "m3 = M.input_csv.v5(\n",
    "    file='df_market.csv',\n",
    "    coding='GBK',\n",
    "    dtypes={},\n",
    "    date_type='%Y-%m-%d',\n",
    "    date_cols=['date'],\n",
    "    m_cached=False\n",
    ")\n",
    "\n",
    "m18 = M.auto_labeler_on_datasource.v1(\n",
    "    input_data=m3.data,\n",
    "    label_expr=\"\"\"# #号开始的表示注释\n",
    "# 0. 每行一个，顺序执行，从第二个开始，可以使用label字段\n",
    "# 1. 可用数据字段见 https://bigquant.com/docs/develop/datasource/deprecated/history_data.html\n",
    "# 2. 可用操作符和函数见 `表 达式引擎 <https://bigquant.com/docs/develop/bigexpr/usage.html>`_\n",
    "\n",
    "# 计算收益：5日收盘价(作为卖出价格)除以明日开盘价(作为买入价格)\n",
    "# shift(close, -5) / shift(open, -1)\n",
    "\n",
    "# 计算收益：5日经波动率调整后收益率\n",
    "shift(close, -5) / shift(open, -1)/ std(shift(close, -7) / shift(open, -6),5)\n",
    "\n",
    "# 极值处理：用1%和99%分位的值做clip\n",
    "clip(label, all_quantile(label, 0.01), all_quantile(label, 0.99))\n",
    "\n",
    "# 将分数映射到分类，这里使用20个分类\n",
    "# all_wbins(label, 20)\n",
    "\n",
    "# 过滤掉一字涨停的情况 (设置label为NaN，在后续处理和训练中会忽略NaN的label)\n",
    "where(shift(high, -1) == shift(low, -1), NaN, label)\n",
    "\"\"\",\n",
    "    drop_na_label=True,\n",
    "    cast_label_int=False,\n",
    "    date_col='date',\n",
    "    instrument_col='instrument',\n",
    "    user_functions={}\n",
    ")\n",
    "\n",
    "m4 = M.derived_feature_extractor.v3(\n",
    "    input_data=m3.data,\n",
    "    features=m2.data,\n",
    "    date_col='date',\n",
    "    instrument_col='instrument',\n",
    "    drop_na=True,\n",
    "    remove_extra_columns=True\n",
    ")\n",
    "\n",
    "m7 = M.join.v3(\n",
    "    data1=m18.data,\n",
    "    data2=m4.data,\n",
    "    on='date,instrument',\n",
    "    how='inner',\n",
    "    sort=False\n",
    ")\n",
    "\n",
    "m10 = M.dropnan.v2(\n",
    "    input_data=m7.data\n",
    ")\n",
    "\n",
    "m14 = M.stock_ranker_train.v6(\n",
    "    training_ds=m10.data,\n",
    "    features=m2.data,\n",
    "    learning_algorithm='回归',\n",
    "    number_of_leaves=30,\n",
    "    minimum_docs_per_leaf=1000,\n",
    "    number_of_trees=20,\n",
    "    learning_rate=0.1,\n",
    "    max_bins=1023,\n",
    "    feature_fraction=1,\n",
    "    data_row_fraction=1,\n",
    "    ndcg_discount_base=1,\n",
    "    m_lazy_run=False\n",
    ")\n",
    "\n",
    "m15 = M.stock_ranker_predict.v5(\n",
    "    model=m14.model,\n",
    "    data=m13.data,\n",
    "    m_lazy_run=False\n",
    ")\n",
    "\n",
    "m16 = M.trade.v4(\n",
    "    instruments=m9.data,\n",
    "    options_data=m15.predictions,\n",
    "    start_date='',\n",
    "    end_date='',\n",
    "    initialize=m16_initialize_bigquant_run,\n",
    "    handle_data=m16_handle_data_bigquant_run,\n",
    "    prepare=m16_prepare_bigquant_run,\n",
    "    before_trading_start=m16_before_trading_start_bigquant_run,\n",
    "    volume_limit=0.025,\n",
    "    order_price_field_buy='open',\n",
    "    order_price_field_sell='close',\n",
    "    capital_base=1000000,\n",
    "    auto_cancel_non_tradable_orders=True,\n",
    "    data_frequency='daily',\n",
    "    price_type='真实价格',\n",
    "    product_type='股票',\n",
    "    plot_charts=True,\n",
    "    backtest_only=False,\n",
    "    benchmark=''\n",
    ")\n"
   ]
  }
 ],
 "metadata": {
  "is_mlstudio": "true",
  "kernelspec": {
   "display_name": "Python 3",
   "language": "python",
   "name": "python3"
  },
  "language_info": {
   "codemirror_mode": {
    "name": "ipython",
    "version": 3
   },
   "file_extension": ".py",
   "mimetype": "text/x-python",
   "name": "python",
   "nbconvert_exporter": "python",
   "pygments_lexer": "ipython3",
   "version": "3.8.7"
  }
 },
 "nbformat": 4,
 "nbformat_minor": 4
}
