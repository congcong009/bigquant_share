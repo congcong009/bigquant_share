{
 "cells": [
  {
   "cell_type": "code",
   "execution_count": 1,
   "metadata": {
    "machine_learning_studio": "true",
    "ml_studio_json": "{\"description\":\"实验创建于2022/3/25\",\"graph\":{\"edges\":[{\"to_node_id\":\"-584:instruments\",\"from_node_id\":\"-496:data\"},{\"to_node_id\":\"-584:features\",\"from_node_id\":\"-579:data\"}],\"nodes\":[{\"node_id\":\"-496\",\"module_id\":\"BigQuantSpace.instruments.instruments-v2\",\"parameters\":[{\"name\":\"start_date\",\"value\":\"2022-01-01\",\"type\":\"Literal\",\"bound_global_parameter\":null},{\"name\":\"end_date\",\"value\":\"2022-03-25\",\"type\":\"Literal\",\"bound_global_parameter\":null},{\"name\":\"market\",\"value\":\"CN_STOCK_A\",\"type\":\"Literal\",\"bound_global_parameter\":null},{\"name\":\"instrument_list\",\"value\":\"\",\"type\":\"Literal\",\"bound_global_parameter\":null},{\"name\":\"max_count\",\"value\":0,\"type\":\"Literal\",\"bound_global_parameter\":null}],\"input_ports\":[{\"name\":\"rolling_conf\",\"node_id\":\"-496\"}],\"output_ports\":[{\"name\":\"data\",\"node_id\":\"-496\"}],\"cacheable\":true,\"seq_num\":1,\"comment\":\"\",\"comment_collapsed\":true},{\"node_id\":\"-579\",\"module_id\":\"BigQuantSpace.input_features.input_features-v1\",\"parameters\":[{\"name\":\"features\",\"value\":\"\\n# #号开始的表示注释，注释需单独一行\\n# 多个特征，每行一个，可以包含基础特征和衍生特征，特征须为本平台特征\\nreturn_5\\nreturn_10\\nreturn_20\\navg_amount_0/avg_amount_5\\navg_amount_5/avg_amount_20\\nrank_avg_amount_0/rank_avg_amount_5\\nrank_avg_amount_5/rank_avg_amount_10\\nrank_return_0\\nrank_return_5\\nrank_return_10\\nrank_return_0/rank_return_5\\nrank_return_5/rank_return_10\\npe_ttm_0\\n\",\"type\":\"Literal\",\"bound_global_parameter\":null}],\"input_ports\":[{\"name\":\"features_ds\",\"node_id\":\"-579\"}],\"output_ports\":[{\"name\":\"data\",\"node_id\":\"-579\"}],\"cacheable\":true,\"seq_num\":2,\"comment\":\"\",\"comment_collapsed\":true},{\"node_id\":\"-584\",\"module_id\":\"BigQuantSpace.general_feature_extractor.general_feature_extractor-v7\",\"parameters\":[{\"name\":\"start_date\",\"value\":\"\",\"type\":\"Literal\",\"bound_global_parameter\":null},{\"name\":\"end_date\",\"value\":\"\",\"type\":\"Literal\",\"bound_global_parameter\":null},{\"name\":\"before_start_days\",\"value\":90,\"type\":\"Literal\",\"bound_global_parameter\":null}],\"input_ports\":[{\"name\":\"instruments\",\"node_id\":\"-584\"},{\"name\":\"features\",\"node_id\":\"-584\"}],\"output_ports\":[{\"name\":\"data\",\"node_id\":\"-584\"}],\"cacheable\":true,\"seq_num\":3,\"comment\":\"\",\"comment_collapsed\":true}],\"node_layout\":\"<node_postions><node_position Node='-496' Position='232,131,200,200'/><node_position Node='-579' Position='539.3046875,127.70458316802979,200,200'/><node_position Node='-584' Position='330.2579040527344,299.88482666015625,200,200'/></node_postions>\"},\"nodes_readonly\":false,\"studio_version\":\"v2\"}"
   },
   "outputs": [
    {
     "data": {
      "text/plain": [
       "[2022-03-25 14:31:00.998382] INFO: moduleinvoker: instruments.v2 开始运行.."
      ]
     },
     "metadata": {
      "is_log": true,
      "status": "INFO"
     },
     "output_type": "display_data"
    },
    {
     "data": {
      "text/plain": [
       "[2022-03-25 14:31:01.024546] ERROR: moduleinvoker: module name: instruments, module version: v2, trackeback: AttributeError: 'NoneType' object has no attribute 'list_date'\\n"
      ]
     },
     "metadata": {
      "is_log": true,
      "status": "ERROR"
     },
     "output_type": "display_data"
    },
    {
     "ename": "AttributeError",
     "evalue": "'NoneType' object has no attribute 'list_date'",
     "output_type": "error",
     "traceback": [
      "\u001b[0;31m---------------------------------------------------------------------------\u001b[0m",
      "\u001b[0;31mAttributeError\u001b[0m                            Traceback (most recent call last)",
      "\u001b[0;32m<ipython-input-1-43a3bc30c032>\u001b[0m in \u001b[0;36m<module>\u001b[0;34m\u001b[0m\n\u001b[1;32m      3\u001b[0m \u001b[0;34m\u001b[0m\u001b[0m\n\u001b[1;32m      4\u001b[0m \u001b[0;34m\u001b[0m\u001b[0m\n\u001b[0;32m----> 5\u001b[0;31m m1 = M.instruments.v2(\n\u001b[0m\u001b[1;32m      6\u001b[0m     \u001b[0mstart_date\u001b[0m\u001b[0;34m=\u001b[0m\u001b[0;34m'2022-01-01'\u001b[0m\u001b[0;34m,\u001b[0m\u001b[0;34m\u001b[0m\u001b[0;34m\u001b[0m\u001b[0m\n\u001b[1;32m      7\u001b[0m     \u001b[0mend_date\u001b[0m\u001b[0;34m=\u001b[0m\u001b[0;34m'2022-03-25'\u001b[0m\u001b[0;34m,\u001b[0m\u001b[0;34m\u001b[0m\u001b[0;34m\u001b[0m\u001b[0m\n",
      "\u001b[0;31mAttributeError\u001b[0m: 'NoneType' object has no attribute 'list_date'"
     ]
    }
   ],
   "source": [
    "# 本代码由可视化策略环境自动生成 2022年3月25日 14:31\n",
    "# 本代码单元只能在可视化模式下编辑。您也可以拷贝代码，粘贴到新建的代码单元或者策略，然后修改。\n",
    "\n",
    "\n",
    "m1 = M.instruments.v2(\n",
    "    start_date='2022-01-01',\n",
    "    end_date='2022-03-25',\n",
    "    market='CN_STOCK_A',\n",
    "    instrument_list='',\n",
    "    max_count=0\n",
    ")\n",
    "\n",
    "m2 = M.input_features.v1(\n",
    "    features=\"\"\"\n",
    "# #号开始的表示注释，注释需单独一行\n",
    "# 多个特征，每行一个，可以包含基础特征和衍生特征，特征须为本平台特征\n",
    "return_5\n",
    "return_10\n",
    "return_20\n",
    "avg_amount_0/avg_amount_5\n",
    "avg_amount_5/avg_amount_20\n",
    "rank_avg_amount_0/rank_avg_amount_5\n",
    "rank_avg_amount_5/rank_avg_amount_10\n",
    "rank_return_0\n",
    "rank_return_5\n",
    "rank_return_10\n",
    "rank_return_0/rank_return_5\n",
    "rank_return_5/rank_return_10\n",
    "pe_ttm_0\n",
    "\"\"\"\n",
    ")\n",
    "\n",
    "m3 = M.general_feature_extractor.v7(\n",
    "    instruments=m1.data,\n",
    "    features=m2.data,\n",
    "    start_date='',\n",
    "    end_date='',\n",
    "    before_start_days=90\n",
    ")\n"
   ]
  }
 ],
 "metadata": {
  "is_mlstudio": "true",
  "kernelspec": {
   "display_name": "Python 3",
   "language": "python",
   "name": "python3"
  },
  "language_info": {
   "codemirror_mode": {
    "name": "ipython",
    "version": 3
   },
   "file_extension": ".py",
   "mimetype": "text/x-python",
   "name": "python",
   "nbconvert_exporter": "python",
   "pygments_lexer": "ipython3",
   "version": "3.8.7"
  }
 },
 "nbformat": 4,
 "nbformat_minor": 4
}
