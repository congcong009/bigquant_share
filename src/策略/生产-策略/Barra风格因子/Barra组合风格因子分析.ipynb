{
 "cells": [
  {
   "cell_type": "code",
   "execution_count": 3,
   "metadata": {},
   "outputs": [
    {
     "name": "stdout",
     "output_type": "stream",
     "text": [
      "77c89c01897e4723a9559a0fd533dd05T not found.\n"
     ]
    },
    {
     "data": {
      "text/plain": [
       "[2021-07-01 09:34:26.874939] WARNING: DataSource: No data in table 77c89c01897e4723a9559a0fd533dd05T! return is None!"
      ]
     },
     "metadata": {
      "is_log": true,
      "status": "WARNING"
     },
     "output_type": "display_data"
    },
    {
     "ename": "AttributeError",
     "evalue": "'NoneType' object has no attribute 'tail'",
     "output_type": "error",
     "traceback": [
      "\u001b[0;31m---------------------------------------------------------------------------\u001b[0m",
      "\u001b[0;31mAttributeError\u001b[0m                            Traceback (most recent call last)",
      "\u001b[0;32m<ipython-input-3-f028d07fffb1>\u001b[0m in \u001b[0;36m<module>\u001b[0;34m\u001b[0m\n\u001b[1;32m      4\u001b[0m \u001b[0;31m# df = m8.data.read().head()\u001b[0m\u001b[0;34m\u001b[0m\u001b[0;34m\u001b[0m\u001b[0;34m\u001b[0m\u001b[0m\n\u001b[1;32m      5\u001b[0m \u001b[0;31m# df_ben = m17.data_1.read()#.head()\u001b[0m\u001b[0;34m\u001b[0m\u001b[0;34m\u001b[0m\u001b[0;34m\u001b[0m\u001b[0m\n\u001b[0;32m----> 6\u001b[0;31m \u001b[0mm21\u001b[0m\u001b[0;34m.\u001b[0m\u001b[0mdata_1\u001b[0m\u001b[0;34m.\u001b[0m\u001b[0mread\u001b[0m\u001b[0;34m(\u001b[0m\u001b[0;34m)\u001b[0m\u001b[0;34m.\u001b[0m\u001b[0mtail\u001b[0m\u001b[0;34m(\u001b[0m\u001b[0;34m)\u001b[0m\u001b[0;31m#.info()\u001b[0m\u001b[0;34m\u001b[0m\u001b[0;34m\u001b[0m\u001b[0m\n\u001b[0m\u001b[1;32m      7\u001b[0m \u001b[0;31m# dd = m9.data_2.read().head()\u001b[0m\u001b[0;34m\u001b[0m\u001b[0;34m\u001b[0m\u001b[0;34m\u001b[0m\u001b[0m\n\u001b[1;32m      8\u001b[0m \u001b[0;31m# dd.drop(['index'], axis=1, inplace=True)\u001b[0m\u001b[0;34m\u001b[0m\u001b[0;34m\u001b[0m\u001b[0;34m\u001b[0m\u001b[0m\n",
      "\u001b[0;31mAttributeError\u001b[0m: 'NoneType' object has no attribute 'tail'"
     ]
    }
   ],
   "source": [
    "# m6.data.read().head()\n",
    "# m3.data.read()['instruments']\n",
    "# m7.data.read().head()\n",
    "# df = m8.data.read().head()\n",
    "# df_ben = m17.data_1.read()#.head()\n",
    "m21.data_1.read().tail()#.info()\n",
    "# dd = m9.data_2.read().head()\n",
    "# dd.drop(['index'], axis=1, inplace=True)\n",
    "# dd.set_index('date', drop=True, inplace=True)\n",
    "# dd.index.name = None\n",
    "# dd\n",
    "# T.plot(m21.data_1.read().astype('float'))"
   ]
  },
  {
   "cell_type": "code",
   "execution_count": 5,
   "metadata": {
    "machine_learning_studio": "true",
    "ml_studio_json": "{\"description\":\"实验创建于2020/2/14\",\"graph\":{\"edges\":[{\"to_node_id\":\"-53:features\",\"from_node_id\":\"-70:data\"},{\"to_node_id\":\"-60:features\",\"from_node_id\":\"-70:data\"},{\"to_node_id\":\"-2021:features\",\"from_node_id\":\"-70:data\"},{\"to_node_id\":\"-2028:features\",\"from_node_id\":\"-70:data\"},{\"to_node_id\":\"-53:instruments\",\"from_node_id\":\"-32:data\"},{\"to_node_id\":\"-1390:input_data\",\"from_node_id\":\"-44:data_1\"},{\"to_node_id\":\"-60:input_data\",\"from_node_id\":\"-53:data\"},{\"to_node_id\":\"-44:input_1\",\"from_node_id\":\"-60:data\"},{\"to_node_id\":\"-1396:input_1\",\"from_node_id\":\"-1390:data\"},{\"to_node_id\":\"-1404:input_1\",\"from_node_id\":\"-1396:data\"},{\"to_node_id\":\"-2103:input_2\",\"from_node_id\":\"-1404:data_1\"},{\"to_node_id\":\"-1751:input_2\",\"from_node_id\":\"-1404:data_1\"},{\"to_node_id\":\"-2103:input_3\",\"from_node_id\":\"-1404:data_2\"},{\"to_node_id\":\"-394:input_data\",\"from_node_id\":\"-1751:data_1\"},{\"to_node_id\":\"-1825:input_data\",\"from_node_id\":\"-1751:data_2\"},{\"to_node_id\":\"-1837:input_data\",\"from_node_id\":\"-1751:data_3\"},{\"to_node_id\":\"-2037:input_data\",\"from_node_id\":\"-2012:data_1\"},{\"to_node_id\":\"-2028:input_data\",\"from_node_id\":\"-2021:data\"},{\"to_node_id\":\"-2122:input_data\",\"from_node_id\":\"-2028:data\"},{\"to_node_id\":\"-2043:input_1\",\"from_node_id\":\"-2037:data\"},{\"to_node_id\":\"-2051:input_1\",\"from_node_id\":\"-2043:data\"},{\"to_node_id\":\"-2103:input_1\",\"from_node_id\":\"-2051:data_1\"},{\"to_node_id\":\"-1751:input_1\",\"from_node_id\":\"-2051:data_1\"},{\"to_node_id\":\"-1751:input_3\",\"from_node_id\":\"-2051:data_2\"},{\"to_node_id\":\"-2021:instruments\",\"from_node_id\":\"-2079:data\"},{\"to_node_id\":\"-187:input_data\",\"from_node_id\":\"-2103:data_1\"},{\"to_node_id\":\"-2086:input_data\",\"from_node_id\":\"-2103:data_2\"},{\"to_node_id\":\"-2130:input_data\",\"from_node_id\":\"-2103:data_3\"},{\"to_node_id\":\"-2012:input_1\",\"from_node_id\":\"-2122:data\"}],\"nodes\":[{\"node_id\":\"-70\",\"module_id\":\"BigQuantSpace.input_features.input_features-v1\",\"parameters\":[{\"name\":\"features\",\"value\":\"beta_csi500_180_0\\nta_mom_60_0\\nlog(market_cap_0+0.0001)\\nwest_eps_ftm_0/close_0\\nfs_net_income_0/market_cap_0\\nfs_eps_0/close_0\\nvolatility_240_0\\nreturn_20\\nswing_volatility_240_0\\nfs_net_profit_qoq_0\\nfs_net_profit_yoy_0\\nfs_net_profit_0\\nwest_netprofit_ftm_0\\nfs_common_equity_0/market_cap_0\\n(fs_non_current_liabilities_0+market_cap_0)/market_cap_0\\nfs_total_liability_0/(fs_current_assets_0+fs_non_current_assets_0)\\n(fs_common_equity_0+fs_non_current_liabilities_0)/fs_common_equity_0\\nturn_0\",\"type\":\"Literal\",\"bound_global_parameter\":null}],\"input_ports\":[{\"name\":\"features_ds\",\"node_id\":\"-70\"}],\"output_ports\":[{\"name\":\"data\",\"node_id\":\"-70\"}],\"cacheable\":true,\"seq_num\":1,\"comment\":\"\",\"comment_collapsed\":true},{\"node_id\":\"-32\",\"module_id\":\"BigQuantSpace.instruments.instruments-v2\",\"parameters\":[{\"name\":\"start_date\",\"value\":\"2018-01-01\",\"type\":\"Literal\",\"bound_global_parameter\":null},{\"name\":\"end_date\",\"value\":\"2021-07-02\",\"type\":\"Literal\",\"bound_global_parameter\":null},{\"name\":\"market\",\"value\":\"CN_STOCK_A\",\"type\":\"Literal\",\"bound_global_parameter\":null},{\"name\":\"instrument_list\",\"value\":\"600519.SHA\\n000858.SZA\\n000568.SZA\\n603288.SHA\\n002507.SZA\\n600887.SHA\\n000002.SZA\\n601633.SHA\\n600276.SHA\\n002773.SZA\\n600436.SHA\\n600196.SHA\\n002007.SZA\\n300122.SZA\\n300760.SZA\\n300676.SZA\\n603259.SHA\\n600763.SHA\\n002027.SZA\\n000333.SZA\\n600690.SHA\\n002050.SZA\\n601888.SHA\\n603899.SHA\\n600309.SHA\\n600585.SHA\\n600547.SHA\\n600362.SHA\\n600111.SHA\\n002460.SZA\\n601012.SHA\\n300750.SZA\\n600031.SHA\\n002415.SZA\\n603160.SHA\\n600036.SHA\\n300059.SZA\\n300957.SZA\\n300896.SZA\\n300014.SZA\\n600298.SHA\",\"type\":\"Literal\",\"bound_global_parameter\":null},{\"name\":\"max_count\",\"value\":0,\"type\":\"Literal\",\"bound_global_parameter\":null}],\"input_ports\":[{\"name\":\"rolling_conf\",\"node_id\":\"-32\"}],\"output_ports\":[{\"name\":\"data\",\"node_id\":\"-32\"}],\"cacheable\":true,\"seq_num\":3,\"comment\":\"\",\"comment_collapsed\":true},{\"node_id\":\"-44\",\"module_id\":\"BigQuantSpace.cached.cached-v3\",\"parameters\":[{\"name\":\"run\",\"value\":\"# Python 代码入口函数，input_1/2/3 对应三个输入端，data_1/2/3 对应三个输出端\\ndef bigquant_run(input_1, input_2, input_3):\\n    # 示例代码如下。在这里编写您的代码\\n    df = pd.DataFrame({'data': [1, 2, 3]})\\n    materials = input_1.read()#m6.data.read()\\n    materials = materials.set_index('date')\\n    \\n    temporary_storage_dict = dict()\\n    temporary_storage_dict['STOM'] = materials.groupby('instrument')['turn_0'].rolling(21).sum().apply(lambda x:np.log(x)).reset_index().set_index('date').rename(columns={'turn_0':'STOM'})\\n    temporary_storage_dict['STOQ'] = temporary_storage_dict['STOM'].groupby('instrument').apply(lambda x:np.exp(x['STOM'])).rolling(3).mean().apply(lambda x:np.log(x)).reset_index().set_index('date').rename(columns={'STOM':'STOQ'})\\n    temporary_storage_dict['STOA'] = temporary_storage_dict['STOM'].groupby('instrument').apply(lambda x:np.exp(x['STOM'])).rolling(12).mean().apply(lambda x:np.log(x)).reset_index().set_index('date').rename(columns={'STOM':'STOA'})\\n\\n    temporary_storage_dict['MLEV'] = materials[['instrument','(fs_non_current_liabilities_0+market_cap_0)/market_cap_0']].rename(columns={'(fs_non_current_liabilities_0+market_cap_0)/market_cap_0':'MLEV'})\\n    temporary_storage_dict['DTOA'] = materials[['instrument','fs_total_liability_0/(fs_current_assets_0+fs_non_current_assets_0)']].rename(columns={'fs_total_liability_0/(fs_current_assets_0+fs_non_current_assets_0)':'DTOA'})\\n    temporary_storage_dict['BLEV'] = materials[['instrument','(fs_common_equity_0+fs_non_current_liabilities_0)/fs_common_equity_0']].rename(columns={'(fs_common_equity_0+fs_non_current_liabilities_0)/fs_common_equity_0':'BLEV'})\\n\\n    temporary_storage_dict['Value'] = materials[['instrument','fs_common_equity_0/market_cap_0']].rename(columns={'fs_common_equity_0/market_cap_0':'Value'})\\n\\n    temporary_storage_dict['Growth'] = materials[['instrument','fs_net_profit_yoy_0']].rename(columns={'fs_net_profit_yoy_0':'Growth'})\\n\\n    temporary_storage_dict['EPIBS'] = materials[['instrument','west_eps_ftm_0/close_0']].rename(columns={'west_eps_ftm_0/close_0':'EPIBS'})\\n    temporary_storage_dict['ETOP'] = materials[['instrument','fs_net_income_0/market_cap_0']].rename(columns={'fs_net_income_0/market_cap_0':'ETOP'})\\n    temporary_storage_dict['CETOP'] = materials[['instrument','fs_eps_0/close_0']].rename(columns={'fs_eps_0/close_0':'CETOP'})\\n\\n    temporary_storage_dict['DASTD'] = materials[['instrument','volatility_240_0']].rename(columns={'volatility_240_0':'DASTD'})\\n    temporary_storage_dict['GMRA'] = materials.groupby('instrument')['return_20'].rolling(12).apply(lambda x:np.log(1+np.max(x))-np.log(1+np.min(x))).reset_index().set_index('date').rename(columns={'return_20':'GMRA'})\\n\\n    temporary_storage_dict['Size'] = materials[['instrument','log(market_cap_0+0.0001)']].rename(columns={'log(market_cap_0+0.0001)':'Size'})\\n\\n    temporary_storage_dict['Momentum'] = materials[['instrument','ta_mom_60_0']].rename(columns={'ta_mom_60_0':'Momentum'})\\n\\n    temporary_storage_dict['Beta'] = materials[['instrument','beta_csi500_180_0']].rename(columns={'beta_csi500_180_0':'Beta'})\\n    \\n    for i in list(set(temporary_storage_dict.keys())):\\n        temporary_storage_dict[i] = temporary_storage_dict[i].reset_index()\\n\\n    initiate_factor_df  = temporary_storage_dict['STOM']  # 这里我们先取STOM因子数据\\n    tmp_raw_factor_name = list(set(temporary_storage_dict.keys()).difference(['STOM']))\\n    for i in tmp_raw_factor_name:\\n        initiate_factor_df = initiate_factor_df.merge(temporary_storage_dict[i], ) # 共18列\\n    \\n#    print(initiate_factor_df.head(3))\\n    data_1 = DataSource.write_df(initiate_factor_df)\\n\\n    return Outputs(data_1=data_1, data_2=None, data_3=None)\\n\",\"type\":\"Literal\",\"bound_global_parameter\":null},{\"name\":\"post_run\",\"value\":\"# 后处理函数，可选。输入是主函数的输出，可以在这里对数据做处理，或者返回更友好的outputs数据格式。此函数输出不会被缓存。\\ndef bigquant_run(outputs):\\n    return outputs\\n\",\"type\":\"Literal\",\"bound_global_parameter\":null},{\"name\":\"input_ports\",\"value\":\"\",\"type\":\"Literal\",\"bound_global_parameter\":null},{\"name\":\"params\",\"value\":\"{}\",\"type\":\"Literal\",\"bound_global_parameter\":null},{\"name\":\"output_ports\",\"value\":\"data_1\",\"type\":\"Literal\",\"bound_global_parameter\":null}],\"input_ports\":[{\"name\":\"input_1\",\"node_id\":\"-44\"},{\"name\":\"input_2\",\"node_id\":\"-44\"},{\"name\":\"input_3\",\"node_id\":\"-44\"}],\"output_ports\":[{\"name\":\"data_1\",\"node_id\":\"-44\"},{\"name\":\"data_2\",\"node_id\":\"-44\"},{\"name\":\"data_3\",\"node_id\":\"-44\"}],\"cacheable\":true,\"seq_num\":4,\"comment\":\"\",\"comment_collapsed\":true},{\"node_id\":\"-53\",\"module_id\":\"BigQuantSpace.general_feature_extractor.general_feature_extractor-v7\",\"parameters\":[{\"name\":\"start_date\",\"value\":\"\",\"type\":\"Literal\",\"bound_global_parameter\":null},{\"name\":\"end_date\",\"value\":\"\",\"type\":\"Literal\",\"bound_global_parameter\":null},{\"name\":\"before_start_days\",\"value\":\"0\",\"type\":\"Literal\",\"bound_global_parameter\":null}],\"input_ports\":[{\"name\":\"instruments\",\"node_id\":\"-53\"},{\"name\":\"features\",\"node_id\":\"-53\"}],\"output_ports\":[{\"name\":\"data\",\"node_id\":\"-53\"}],\"cacheable\":true,\"seq_num\":5,\"comment\":\"\",\"comment_collapsed\":true},{\"node_id\":\"-60\",\"module_id\":\"BigQuantSpace.derived_feature_extractor.derived_feature_extractor-v3\",\"parameters\":[{\"name\":\"date_col\",\"value\":\"date\",\"type\":\"Literal\",\"bound_global_parameter\":null},{\"name\":\"instrument_col\",\"value\":\"instrument\",\"type\":\"Literal\",\"bound_global_parameter\":null},{\"name\":\"drop_na\",\"value\":\"False\",\"type\":\"Literal\",\"bound_global_parameter\":null},{\"name\":\"remove_extra_columns\",\"value\":\"False\",\"type\":\"Literal\",\"bound_global_parameter\":null},{\"name\":\"user_functions\",\"value\":\"{}\",\"type\":\"Literal\",\"bound_global_parameter\":null}],\"input_ports\":[{\"name\":\"input_data\",\"node_id\":\"-60\"},{\"name\":\"features\",\"node_id\":\"-60\"}],\"output_ports\":[{\"name\":\"data\",\"node_id\":\"-60\"}],\"cacheable\":true,\"seq_num\":6,\"comment\":\"\",\"comment_collapsed\":true},{\"node_id\":\"-1390\",\"module_id\":\"BigQuantSpace.winsorize.winsorize-v6\",\"parameters\":[{\"name\":\"columns_input\",\"value\":\"STOM\\nDTOA\\nMomentum\\nBeta\\nETOP\\nSTOA\\nValue\\nEPIBS\\nDASTD\\nGMRA\\nBLEV\\nCETOP\\nGrowth\\nMLEV\\nSTOQ\\nSize\",\"type\":\"Literal\",\"bound_global_parameter\":null},{\"name\":\"median_deviate\",\"value\":3,\"type\":\"Literal\",\"bound_global_parameter\":null}],\"input_ports\":[{\"name\":\"input_data\",\"node_id\":\"-1390\"},{\"name\":\"features\",\"node_id\":\"-1390\"}],\"output_ports\":[{\"name\":\"data\",\"node_id\":\"-1390\"}],\"cacheable\":true,\"seq_num\":7,\"comment\":\"\",\"comment_collapsed\":true},{\"node_id\":\"-1396\",\"module_id\":\"BigQuantSpace.standardlize.standardlize-v8\",\"parameters\":[{\"name\":\"columns_input\",\"value\":\"STOM\\nDTOA\\nMomentum\\nBeta\\nETOP\\nSTOA\\nValue\\nEPIBS\\nDASTD\\nGMRA\\nBLEV\\nCETOP\\nGrowth\\nMLEV\\nSTOQ\\nSize\",\"type\":\"Literal\",\"bound_global_parameter\":null}],\"input_ports\":[{\"name\":\"input_1\",\"node_id\":\"-1396\"},{\"name\":\"input_2\",\"node_id\":\"-1396\"}],\"output_ports\":[{\"name\":\"data\",\"node_id\":\"-1396\"}],\"cacheable\":true,\"seq_num\":8,\"comment\":\"\",\"comment_collapsed\":true},{\"node_id\":\"-1404\",\"module_id\":\"BigQuantSpace.cached.cached-v3\",\"parameters\":[{\"name\":\"run\",\"value\":\"# Python 代码入口函数，input_1/2/3 对应三个输入端，data_1/2/3 对应三个输出端\\ndef bigquant_run(input_1, input_2, input_3):\\n    # 示例代码如下。在这里编写您的代码\\n    df = pd.DataFrame({'data': [1, 2, 3]})\\n    extrema_remove_df = input_1.read()\\n    \\n    ins = list(extrema_remove_df.instrument.unique())\\n    industry_info = D.history_data(ins, extrema_remove_df.iloc[0,0], extrema_remove_df.iloc[-1,0], ['industry_sw_level1','market_cap', 'market_cap_float'])\\n    industry_info['market_cap_float'] = np.log10(industry_info['market_cap_float'])  # 对市值因子取对数\\n\\n    industry_df = industry_info[(industry_info.industry_sw_level1!=0)&(industry_info.industry_sw_level1!=-1)].set_index('date')  # 取出其中有行业分类的条目，如果行业划分是0或者-1就算了，代表无划分\\n\\n    industry_df = industry_df.groupby('instrument').apply(lambda x: x.resample('M').last())\\n    industry_df.index = industry_df.index.droplevel(0)\\n    industry_df.reset_index(inplace=True)\\n    \\n    # 风格因子数据转换成月度，并与市值行业数据的拼接， 并把行业因子转换成dummy数据 \\n    extrema_remove_df.set_index('date', inplace=True)\\n    extrema_remove_df = extrema_remove_df.groupby('instrument').apply(lambda x: x.resample('M').last())  # pandas 处理时间序列数据，将原始数据转换为月末数据\\n    extrema_remove_df.index = extrema_remove_df.index.droplevel(0)\\n    extrema_remove_df.reset_index(inplace=True)\\n\\n    extrema_remove_df = extrema_remove_df.merge(industry_df, on=['date', 'instrument']) # 风格因子数据和市值行业数据拼接\\n\\n    # 截面缺失值数据使用行业均值填充\\n    extrema_remove_df = extrema_remove_df.groupby(['date', 'industry_sw_level1']).apply(lambda t: t.fillna(np.mean(t, axis=0)))\\n    extrema_remove_df.reset_index(inplace=True, drop=True)\\n\\n    # 行业属性数据哑变量\\n    extrema_remove_df['industry_sw_level1'] = extrema_remove_df['industry_sw_level1'].astype('int').astype('str')\\n    dummy_industry_df = pd.get_dummies(extrema_remove_df['industry_sw_level1'], prefix='industry_prefix')  # prefix, get_dummies转换后，列名的前缀\\n\\n    # 哑变量与截面数据进行横向拼接\\n    merge_df = pd.concat([extrema_remove_df, dummy_industry_df], axis=1).sort_values(['date', 'instrument'])  # 原始的行业因子那列应该还在\\n    \\n    from sklearn.linear_model import LinearRegression\\n    # 行业中性化处理和市值中性化处理\\n    def calcu_single_factor(df, factor):\\n        industry_factor = [i for i in df.columns if i[:15]=='industry_prefix']  # 列出所有的行业因子column\\n        # 对市值因子和行业因子进行回归\\n        xvars = ['market_cap_float'] + industry_factor\\n        used_factors = xvars + [factor] + ['instrument']\\n        used_factors_df = df[used_factors]\\n        used_factors_df = used_factors_df[~used_factors_df.isnull().T.any().T]  # 检查控制，返回是否至少一个元素为真的行\\n        if len(used_factors_df) == 0:\\n            return None\\n        X = used_factors_df[xvars].astype(float)\\n        y = used_factors_df[factor].astype(float)\\n        reg = LinearRegression()  \\n        try:\\n            reg.fit(X,y)   # 将行业因子因子和市值因子对特定因子作回归  given x, get y from the model y = b0+b1x\\n            res = y-reg.predict(X)\\n            used_factors_df[factor] = res  # 残差即为中性化处理后的结果\\n        except ValueError as e:\\n            used_factors_df[factor] = np.nan \\n        return used_factors_df[['instrument',factor]]\\n\\n    # 标准化处理\\n    def standardlize(x):\\n        return (x-x.mean())/x.std()\\n\\n    factor_data_after_neutralize = pd.DataFrame(columns=['date','instrument'])\\n    detail_style_factor = [m for m in extrema_remove_df.columns if m not in ['date','instrument','market_cap','market_cap_float']]\\n    \\n#    print(detail_style_factor)\\n#    print(merge_df.info())\\n    # 对风格因子进行市值中性化处理,共计16个风格因子\\n    for factor in detail_style_factor: \\n        result_temp = merge_df.groupby('date').apply(lambda x: calcu_single_factor(x, factor)).reset_index().drop('level_1',axis=1)\\n        factor_data_after_neutralize = factor_data_after_neutralize.merge(result_temp, on=['date', 'instrument'], how='outer')\\n\\n    for factor in detail_style_factor:\\n        factor_data_after_neutralize[factor] = factor_data_after_neutralize.groupby('date')[factor].apply(standardlize)\\n\\n    # 用0值填充标准化后的缺失值 \\n    factor_data_after_standard = factor_data_after_neutralize.fillna(0)\\n    \\n    # 获取股票价格并月度化\\n    start = factor_data_after_standard.date.min().strftime('%Y-%m-%d')\\n    end = factor_data_after_standard.date.max().strftime('%Y-%m-%d')\\n    ins = list(set(factor_data_after_standard.instrument))\\n\\n    price = DataSource('bar1d_CN_STOCK_A').read(ins, start_date=start, end_date=end, fields=['close'])\\n    price.rename(columns={'close':'price'}, inplace=True)\\n    price = price.set_index('date').groupby('instrument').apply(lambda x: x.resample('M').last())\\n    price.index = price.index.droplevel(0)\\n    price.fillna(method='ffill', inplace=True)\\n    price.reset_index(inplace=True)\\n    \\n    # 通过价格计算收益率并合成大类风格因子\\n    tmp_factor = [m for m in merge_df.columns if m not in ['market_cap_float', 'industry_sw_level1']]  # \\n    industry_prefix_factor = list(set(tmp_factor).difference(set(detail_style_factor)))  # industry_prefix_factor  是date instrument 和行业因子,共计30个因子. set()用于寻找不重复的list元素\\n    # industry_prefix_factor.append('market_cap')\\n\\n    # 构建一个总的数据表, 合并行业因子和价格\\n    monthly_style_and_industry_factor = factor_data_after_standard.merge(price, on=['date', 'instrument'], how='inner')\\n    monthly_style_and_industry_factor = monthly_style_and_industry_factor.merge(merge_df[industry_prefix_factor], on=['date', 'instrument'], how='inner').set_index('date')  \\n    # monthly_style_and_industry_factor = monthly_style_and_industry_factor.merge(merge_df, on=['date', 'instrument'], how='inner').set_index('date')  \\n\\n    # 计算出收益率\\n    monthly_style_and_industry_factor.reset_index(inplace=True)\\n\\n    monthly_price_df = monthly_style_and_industry_factor.pivot_table(values='price',columns='instrument',index='date')\\n    monthly_style_and_industry_factor = monthly_style_and_industry_factor.merge(monthly_price_df.pct_change().shift(-1).unstack().to_frame('return').reset_index(),on=['date','instrument'])\\n    monthly_style_and_industry_factor = monthly_style_and_industry_factor.dropna()\\n\\n    # 小因子等权重合并成大因子, 这里未来可以采取IC_IR法\\n    monthly_style_and_industry_factor['Volatility'] = (monthly_style_and_industry_factor['DASTD']+monthly_style_and_industry_factor['GMRA'])/2\\n    monthly_style_and_industry_factor['EarningYields'] = (monthly_style_and_industry_factor['EPIBS']+monthly_style_and_industry_factor['ETOP']+monthly_style_and_industry_factor['CETOP'])/3\\n    monthly_style_and_industry_factor['Leverage'] = (monthly_style_and_industry_factor['MLEV']+monthly_style_and_industry_factor['BLEV']+monthly_style_and_industry_factor['DTOA'])/3\\n    monthly_style_and_industry_factor['Liquidity'] = (monthly_style_and_industry_factor['STOM']+monthly_style_and_industry_factor['STOQ']+monthly_style_and_industry_factor['STOA'])/3\\n    monthly_style_and_industry_factor.drop(['DASTD','GMRA','EPIBS','ETOP','CETOP','MLEV','BLEV','DTOA','STOM','STOQ','STOA'], axis=1, inplace=True)\\n    monthly_style_and_industry_factor.rename(columns={'Size':'Size 规模','Value':'Value 账面市值比','Growth':'Growth 成长性','Momentum':'Momentum 动量','Volatility':'Volatility 残余波动率','EarningYields':'EarningYields 盈利率','Leverage':'Leverage 杠杆率', 'Liquidity':'Liquidity 流动性'}, inplace=True)\\n\\n    # 计算按市值加权的风格因子暴露度\\n    monthly_style_and_industry_factor_exp = monthly_style_and_industry_factor[['date', 'instrument', 'market_cap', 'Size 规模','Value 账面市值比','Beta','Growth 成长性','Momentum 动量','Volatility 残余波动率','EarningYields 盈利率','Leverage 杠杆率', 'Liquidity 流动性']]\\n    day_list = list(set(monthly_style_and_industry_factor_exp.date))\\n    monthly_style_and_industry_factor_exp_cap = pd.DataFrame(columns=['date', 'Size 规模','Value 账面市值比','Beta','Growth 成长性','Momentum 动量','Volatility 残余波动率','EarningYields 盈利率','Leverage 杠杆率', 'Liquidity 流动性'])\\n\\n    for i in range(len(day_list)):\\n        temp_df = monthly_style_and_industry_factor_exp[monthly_style_and_industry_factor_exp['date']==day_list[i]]\\n        market_sum = temp_df['market_cap'].sum()\\n        temp_df['market_cap'] = temp_df['market_cap']/market_sum\\n        column_list = [m for m in temp_df.columns if m not in ['date','instrument','market_cap']]\\n        for j in range(len(column_list)):\\n            temp_df[column_list[j]] = temp_df[column_list[j]] * temp_df['market_cap']\\n        monthly_style_and_industry_factor_exp_cap.loc[i, 'date'] = day_list[i]\\n        temp_df_mean = temp_df.mean()[1:]\\n        for k in range(len(temp_df_mean)):\\n            monthly_style_and_industry_factor_exp_cap.loc[i, temp_df_mean.keys()[k]] = temp_df_mean[k]\\n    monthly_style_and_industry_factor_exp_cap = monthly_style_and_industry_factor_exp_cap.sort_values(by=['date'])\\n    monthly_style_and_industry_factor_exp_cap.reset_index(inplace=True)\\n    data_2 = DataSource.write_df(monthly_style_and_industry_factor_exp_cap)\\n    \\n    # 回归(这里包括九大风格因子和行业因子), 通过回归计算出每个股票的残差，即特质收益率\\n    def calcu_factor_specified_return(df):\\n        xvars = list(set(df.keys()).difference(['date','instrument','return','price']))\\n        X = df[xvars].astype(float)\\n        y = df['return'].astype(float)\\n        reg = LinearRegression()\\n        try:\\n            reg.fit(X,y)\\n            res = y-reg.predict(X)\\n            df['specified_return'] = res\\n        except ValueError as e:\\n            df['specified_return'] = np.nan \\n        return df\\n\\n    residual_ret = monthly_style_and_industry_factor.groupby('date').apply(lambda x: calcu_factor_specified_return(x))  # 横截面回归的groupby一定是基于date的\\n    residual_ret = residual_ret[['instrument', 'date', 'specified_return']]    # 一致的\\n    residual_ret.fillna(0, inplace=True)\\n    residual_ret = residual_ret.sort_values('date').set_index('date')\\n    \\n    # 对收益率序列做回归,这里包括九大风格因子和行业因子 \\n    C = dict()\\n    end_month_date = list(set(monthly_style_and_industry_factor.date))\\n    end_month_date.sort()\\n\\n    # 全部因子，包括28个行业因子和9个大类风格因子\\n    # style_factor = ['Value','Growth','Size','Beta','Momentum','Volatility','EarningYields','Leverage','Liquidity']\\n    style_factor = ['Size 规模','Value 账面市值比','Beta','Growth 成长性','Momentum 动量','Volatility 残余波动率','EarningYields 盈利率','Leverage 杠杆率', 'Liquidity 流动性']\\n\\n    all_industry_name = DataSource('basic_info_IndustrySw').read()\\n    all_industry_name_sw1 = all_industry_name[all_industry_name['industry_sw_level']==1]\\n    all_industry_name_sw1['code'] = 'industry_prefix_' + all_industry_name_sw1['code']\\n\\n    all_factor_name = style_factor + all_industry_name_sw1['code'].to_list()  # 组合出完整的因子名称列表\\n    \\n    # 计算出风格因子收益率 \\n    for dt in end_month_date:  \\n        temp = monthly_style_and_industry_factor[monthly_style_and_industry_factor['date'] == dt]\\n        X = np.array(temp[list(set(temp.columns.to_list()).intersection(set(all_factor_name)))])  # 顺序基于数据源\\n        Y = temp['return'].values\\n        reg = LinearRegression()\\n        try:\\n            reg.fit(X, Y)\\n            C[dt] = reg.coef_\\n        except ValueError as e:\\n            C[dt] = np.nan\\n\\n    common_factor_ret = pd.DataFrame.from_dict(C, orient='index')\\n    common_factor_ret.columns = list(set(temp.columns.to_list()).intersection(set(all_factor_name)))\\n    common_factor_ret = common_factor_ret.sort_index()\\n\\n    # 计算出风格因子和行业因子的风险协方差矩阵,默认配置参数为36个周期\\n    special_risk = residual_ret.groupby('instrument').apply(lambda x: x['specified_return'].fillna(0).rolling(36).var()).reset_index()  \\n    common_risk = common_factor_ret.rolling(36).cov()\\n    \\n    # # 基准在行业上的暴露，即行业权重\\n    # def get_bm_industry_exposure(start_date, end_date):    \\n    #     index = DataSource('index_element_weight').read(start_date=start_date, end_date=end_date)  # 指数成分及权重数据\\n    #     hs300_df = index[index['instrument_index'] == '000300.HIX']\\n\\n    #     industry_df = DataSource('industry_CN_STOCK_A').read(start_date=start_date, end_date=end_date, fields=['industry_sw_level1'])\\n    #     hs300_industry_df = pd.merge(hs300_df, industry_df, how='inner', on=['date', 'instrument'])\\n\\n    #     bm_weight = hs300_industry_df.groupby(['date']).apply(get_weight).reset_index() \\n    #     return bm_weight\\n\\n    # def get_weight(tmp):\\n    #     return tmp[['industry_sw_level1', 'weight']].groupby('industry_sw_level1').sum()\\n\\n    # # 基准在风格因子上的暴露\\n    # def get_bm_component(start_date, end_date):\\n    #     index = DataSource('index_element_weight').read(start_date=start_date, end_date=end_date)\\n    #     hs300_df = index[index['instrument_index'] == '000300.HIX']\\n    #     return hs300_df\\n\\n    # bm_industry_exposure = get_bm_industry_exposure(start_date=start, end_date=end)\\n    # bm_component = get_bm_component(start_date=start, end_date=end)\\n    \\n    \\n    data_1 = DataSource.write_df(common_factor_ret)\\n    # data_2 = DataSource.write_df(bm_industry_exposure)\\n    # data_3 = DataSource.write_df(bm_component)\\n    # return Outputs(data_1=data_1, data_2=data_2, data_3=data_3)\\n    return Outputs(data_1=data_1, data_2=data_2, data_3=None)\",\"type\":\"Literal\",\"bound_global_parameter\":null},{\"name\":\"post_run\",\"value\":\"# 后处理函数，可选。输入是主函数的输出，可以在这里对数据做处理，或者返回更友好的outputs数据格式。此函数输出不会被缓存。\\ndef bigquant_run(outputs):\\n    return outputs\\n\",\"type\":\"Literal\",\"bound_global_parameter\":null},{\"name\":\"input_ports\",\"value\":\"\",\"type\":\"Literal\",\"bound_global_parameter\":null},{\"name\":\"params\",\"value\":\"{}\",\"type\":\"Literal\",\"bound_global_parameter\":null},{\"name\":\"output_ports\",\"value\":\"\",\"type\":\"Literal\",\"bound_global_parameter\":null}],\"input_ports\":[{\"name\":\"input_1\",\"node_id\":\"-1404\"},{\"name\":\"input_2\",\"node_id\":\"-1404\"},{\"name\":\"input_3\",\"node_id\":\"-1404\"}],\"output_ports\":[{\"name\":\"data_1\",\"node_id\":\"-1404\"},{\"name\":\"data_2\",\"node_id\":\"-1404\"},{\"name\":\"data_3\",\"node_id\":\"-1404\"}],\"cacheable\":true,\"seq_num\":9,\"comment\":\"输出为组合\",\"comment_collapsed\":false},{\"node_id\":\"-1751\",\"module_id\":\"BigQuantSpace.cached.cached-v3\",\"parameters\":[{\"name\":\"run\",\"value\":\"# Python 代码入口函数，input_1/2/3 对应三个输入端，data_1/2/3 对应三个输出端\\ndef bigquant_run(input_1, input_2, input_3):\\n    df_ben = input_1.read()  # 沪深300行业因子收益率\\n    df = input_2.read()  # 组合行业因子收益率\\n    df_exp = input_3.read()  # 行业风格暴露度\\n    \\n    style_factor = ['Size 规模','Value 账面市值比','Beta','Growth 成长性','Momentum 动量','Volatility 残余波动率','EarningYields 盈利率','Leverage 杠杆率', 'Liquidity 流动性']\\n    \\n    # 获取申万行业一级名称\\n    sw_df = DataSource('basic_info_IndustrySw').read()\\n\\n    # 行业风格暴露度\\n    df_exp.drop(['index'], axis=1, inplace=True)\\n    df_exp.set_index('date', drop=True, inplace=True)\\n    df_exp.index.name = None\\n    df_exp = df_exp.astype('float')\\n    \\n\\n    # 行业因子收益\\n    df_list = df.columns.to_list()\\n    for i in range(len(df_list)):\\n        for j in range(len(sw_df)):\\n            if df_list[i][-6:] == sw_df.iloc[j, 0]:\\n                df.rename(columns={df_list[i]:sw_df.iloc[j, 2]}, inplace=True)\\n    industry_df = df[list(set(df.columns.to_list()).difference(set(style_factor)))]\\n\\n    # 沪深300行业因子收益率\\n    df_ben_list = df_ben.columns.to_list()\\n    for i in range(len(df_ben_list)):\\n        for j in range(len(sw_df)):\\n            if df_ben_list[i][-6:] == sw_df.iloc[j, 0]:\\n                df_ben.rename(columns={df_ben_list[i]:sw_df.iloc[j, 2]}, inplace=True)    \\n    industry_df_ben = df_ben[list(set(df_ben.columns.to_list()).difference(set(style_factor)))]\\n\\n\\n    data_1 = DataSource.write_df(df_exp.tail(1))\\n    data_2 = DataSource.write_df(industry_df.tail(1))\\n    data_3 = DataSource.write_df(industry_df_ben.tail(1))\\n\\n    return Outputs(data_1=data_1, data_2=data_2, data_3=data_3)\",\"type\":\"Literal\",\"bound_global_parameter\":null},{\"name\":\"post_run\",\"value\":\"# 后处理函数，可选。输入是主函数的输出，可以在这里对数据做处理，或者返回更友好的outputs数据格式。此函数输出不会被缓存。\\ndef bigquant_run(outputs):\\n    return outputs\\n\",\"type\":\"Literal\",\"bound_global_parameter\":null},{\"name\":\"input_ports\",\"value\":\"\",\"type\":\"Literal\",\"bound_global_parameter\":null},{\"name\":\"params\",\"value\":\"{}\",\"type\":\"Literal\",\"bound_global_parameter\":null},{\"name\":\"output_ports\",\"value\":\"\",\"type\":\"Literal\",\"bound_global_parameter\":null}],\"input_ports\":[{\"name\":\"input_1\",\"node_id\":\"-1751\"},{\"name\":\"input_2\",\"node_id\":\"-1751\"},{\"name\":\"input_3\",\"node_id\":\"-1751\"}],\"output_ports\":[{\"name\":\"data_1\",\"node_id\":\"-1751\"},{\"name\":\"data_2\",\"node_id\":\"-1751\"},{\"name\":\"data_3\",\"node_id\":\"-1751\"}],\"cacheable\":true,\"seq_num\":2,\"comment\":\"行业因子绘图\",\"comment_collapsed\":false},{\"node_id\":\"-1825\",\"module_id\":\"BigQuantSpace.plot_dataframe.plot_dataframe-v1\",\"parameters\":[{\"name\":\"title\",\"value\":\"市值加权的组合行业因子暴露\",\"type\":\"Literal\",\"bound_global_parameter\":null},{\"name\":\"chart_type\",\"value\":\"column\",\"type\":\"Literal\",\"bound_global_parameter\":null},{\"name\":\"x\",\"value\":\"\",\"type\":\"Literal\",\"bound_global_parameter\":null},{\"name\":\"y\",\"value\":\"\",\"type\":\"Literal\",\"bound_global_parameter\":null},{\"name\":\"options\",\"value\":\"{\\n    'chart': {\\n        'height': 500\\n    }\\n}\",\"type\":\"Literal\",\"bound_global_parameter\":null},{\"name\":\"candlestick\",\"value\":\"False\",\"type\":\"Literal\",\"bound_global_parameter\":null},{\"name\":\"pane_1\",\"value\":\"\",\"type\":\"Literal\",\"bound_global_parameter\":null},{\"name\":\"pane_2\",\"value\":\"\",\"type\":\"Literal\",\"bound_global_parameter\":null},{\"name\":\"pane_3\",\"value\":\"\",\"type\":\"Literal\",\"bound_global_parameter\":null},{\"name\":\"pane_4\",\"value\":\"\",\"type\":\"Literal\",\"bound_global_parameter\":null}],\"input_ports\":[{\"name\":\"input_data\",\"node_id\":\"-1825\"}],\"output_ports\":[],\"cacheable\":false,\"seq_num\":11,\"comment\":\"市值加权的组合行业因子暴露\",\"comment_collapsed\":false},{\"node_id\":\"-1837\",\"module_id\":\"BigQuantSpace.plot_dataframe.plot_dataframe-v1\",\"parameters\":[{\"name\":\"title\",\"value\":\"市值加权的沪深300行业因子收益率\",\"type\":\"Literal\",\"bound_global_parameter\":null},{\"name\":\"chart_type\",\"value\":\"column\",\"type\":\"Literal\",\"bound_global_parameter\":null},{\"name\":\"x\",\"value\":\"\",\"type\":\"Literal\",\"bound_global_parameter\":null},{\"name\":\"y\",\"value\":\"\",\"type\":\"Literal\",\"bound_global_parameter\":null},{\"name\":\"options\",\"value\":\"{\\n    'chart': {\\n        'height': 500\\n    }\\n}\",\"type\":\"Literal\",\"bound_global_parameter\":null},{\"name\":\"candlestick\",\"value\":\"False\",\"type\":\"Literal\",\"bound_global_parameter\":null},{\"name\":\"pane_1\",\"value\":\"\",\"type\":\"Literal\",\"bound_global_parameter\":null},{\"name\":\"pane_2\",\"value\":\"\",\"type\":\"Literal\",\"bound_global_parameter\":null},{\"name\":\"pane_3\",\"value\":\"\",\"type\":\"Literal\",\"bound_global_parameter\":null},{\"name\":\"pane_4\",\"value\":\"\",\"type\":\"Literal\",\"bound_global_parameter\":null}],\"input_ports\":[{\"name\":\"input_data\",\"node_id\":\"-1837\"}],\"output_ports\":[],\"cacheable\":false,\"seq_num\":10,\"comment\":\"市值加权的沪深300行业因子收益率\",\"comment_collapsed\":false},{\"node_id\":\"-2012\",\"module_id\":\"BigQuantSpace.cached.cached-v3\",\"parameters\":[{\"name\":\"run\",\"value\":\"# Python 代码入口函数，input_1/2/3 对应三个输入端，data_1/2/3 对应三个输出端\\ndef bigquant_run(input_1, input_2, input_3):\\n    # 示例代码如下。在这里编写您的代码\\n    df = pd.DataFrame({'data': [1, 2, 3]})\\n    materials = input_1.read()#m6.data.read()\\n    materials = materials.set_index('date')\\n    \\n    temporary_storage_dict = dict()\\n    temporary_storage_dict['STOM'] = materials.groupby('instrument')['turn_0'].rolling(21).sum().apply(lambda x:np.log(x)).reset_index().set_index('date').rename(columns={'turn_0':'STOM'})\\n    temporary_storage_dict['STOQ'] = temporary_storage_dict['STOM'].groupby('instrument').apply(lambda x:np.exp(x['STOM'])).rolling(3).mean().apply(lambda x:np.log(x)).reset_index().set_index('date').rename(columns={'STOM':'STOQ'})\\n    temporary_storage_dict['STOA'] = temporary_storage_dict['STOM'].groupby('instrument').apply(lambda x:np.exp(x['STOM'])).rolling(12).mean().apply(lambda x:np.log(x)).reset_index().set_index('date').rename(columns={'STOM':'STOA'})\\n\\n    temporary_storage_dict['MLEV'] = materials[['instrument','(fs_non_current_liabilities_0+market_cap_0)/market_cap_0']].rename(columns={'(fs_non_current_liabilities_0+market_cap_0)/market_cap_0':'MLEV'})\\n    temporary_storage_dict['DTOA'] = materials[['instrument','fs_total_liability_0/(fs_current_assets_0+fs_non_current_assets_0)']].rename(columns={'fs_total_liability_0/(fs_current_assets_0+fs_non_current_assets_0)':'DTOA'})\\n    temporary_storage_dict['BLEV'] = materials[['instrument','(fs_common_equity_0+fs_non_current_liabilities_0)/fs_common_equity_0']].rename(columns={'(fs_common_equity_0+fs_non_current_liabilities_0)/fs_common_equity_0':'BLEV'})\\n\\n    temporary_storage_dict['Value'] = materials[['instrument','fs_common_equity_0/market_cap_0']].rename(columns={'fs_common_equity_0/market_cap_0':'Value'})\\n\\n    temporary_storage_dict['Growth'] = materials[['instrument','fs_net_profit_yoy_0']].rename(columns={'fs_net_profit_yoy_0':'Growth'})\\n\\n    temporary_storage_dict['EPIBS'] = materials[['instrument','west_eps_ftm_0/close_0']].rename(columns={'west_eps_ftm_0/close_0':'EPIBS'})\\n    temporary_storage_dict['ETOP'] = materials[['instrument','fs_net_income_0/market_cap_0']].rename(columns={'fs_net_income_0/market_cap_0':'ETOP'})\\n    temporary_storage_dict['CETOP'] = materials[['instrument','fs_eps_0/close_0']].rename(columns={'fs_eps_0/close_0':'CETOP'})\\n\\n    temporary_storage_dict['DASTD'] = materials[['instrument','volatility_240_0']].rename(columns={'volatility_240_0':'DASTD'})\\n    temporary_storage_dict['GMRA'] = materials.groupby('instrument')['return_20'].rolling(12).apply(lambda x:np.log(1+np.max(x))-np.log(1+np.min(x))).reset_index().set_index('date').rename(columns={'return_20':'GMRA'})\\n\\n    temporary_storage_dict['Size'] = materials[['instrument','log(market_cap_0+0.0001)']].rename(columns={'log(market_cap_0+0.0001)':'Size'})\\n\\n    temporary_storage_dict['Momentum'] = materials[['instrument','ta_mom_60_0']].rename(columns={'ta_mom_60_0':'Momentum'})\\n\\n    temporary_storage_dict['Beta'] = materials[['instrument','beta_csi500_180_0']].rename(columns={'beta_csi500_180_0':'Beta'})\\n    \\n    for i in list(set(temporary_storage_dict.keys())):\\n        temporary_storage_dict[i] = temporary_storage_dict[i].reset_index()\\n\\n    initiate_factor_df  = temporary_storage_dict['STOM']  # 这里我们先取STOM因子数据\\n    tmp_raw_factor_name = list(set(temporary_storage_dict.keys()).difference(['STOM']))\\n    for i in tmp_raw_factor_name:\\n        initiate_factor_df = initiate_factor_df.merge(temporary_storage_dict[i], ) # 共18列\\n    \\n#    print(initiate_factor_df.head(3))\\n    data_1 = DataSource.write_df(initiate_factor_df)\\n\\n    return Outputs(data_1=data_1, data_2=None, data_3=None)\\n\",\"type\":\"Literal\",\"bound_global_parameter\":null},{\"name\":\"post_run\",\"value\":\"# 后处理函数，可选。输入是主函数的输出，可以在这里对数据做处理，或者返回更友好的outputs数据格式。此函数输出不会被缓存。\\ndef bigquant_run(outputs):\\n    return outputs\\n\",\"type\":\"Literal\",\"bound_global_parameter\":null},{\"name\":\"input_ports\",\"value\":\"\",\"type\":\"Literal\",\"bound_global_parameter\":null},{\"name\":\"params\",\"value\":\"{}\",\"type\":\"Literal\",\"bound_global_parameter\":null},{\"name\":\"output_ports\",\"value\":\"data_1\",\"type\":\"Literal\",\"bound_global_parameter\":null}],\"input_ports\":[{\"name\":\"input_1\",\"node_id\":\"-2012\"},{\"name\":\"input_2\",\"node_id\":\"-2012\"},{\"name\":\"input_3\",\"node_id\":\"-2012\"}],\"output_ports\":[{\"name\":\"data_1\",\"node_id\":\"-2012\"},{\"name\":\"data_2\",\"node_id\":\"-2012\"},{\"name\":\"data_3\",\"node_id\":\"-2012\"}],\"cacheable\":true,\"seq_num\":12,\"comment\":\"\",\"comment_collapsed\":true},{\"node_id\":\"-2021\",\"module_id\":\"BigQuantSpace.general_feature_extractor.general_feature_extractor-v7\",\"parameters\":[{\"name\":\"start_date\",\"value\":\"\",\"type\":\"Literal\",\"bound_global_parameter\":null},{\"name\":\"end_date\",\"value\":\"\",\"type\":\"Literal\",\"bound_global_parameter\":null},{\"name\":\"before_start_days\",\"value\":\"0\",\"type\":\"Literal\",\"bound_global_parameter\":null}],\"input_ports\":[{\"name\":\"instruments\",\"node_id\":\"-2021\"},{\"name\":\"features\",\"node_id\":\"-2021\"}],\"output_ports\":[{\"name\":\"data\",\"node_id\":\"-2021\"}],\"cacheable\":true,\"seq_num\":13,\"comment\":\"\",\"comment_collapsed\":true},{\"node_id\":\"-2028\",\"module_id\":\"BigQuantSpace.derived_feature_extractor.derived_feature_extractor-v3\",\"parameters\":[{\"name\":\"date_col\",\"value\":\"date\",\"type\":\"Literal\",\"bound_global_parameter\":null},{\"name\":\"instrument_col\",\"value\":\"instrument\",\"type\":\"Literal\",\"bound_global_parameter\":null},{\"name\":\"drop_na\",\"value\":\"False\",\"type\":\"Literal\",\"bound_global_parameter\":null},{\"name\":\"remove_extra_columns\",\"value\":\"False\",\"type\":\"Literal\",\"bound_global_parameter\":null},{\"name\":\"user_functions\",\"value\":\"{}\",\"type\":\"Literal\",\"bound_global_parameter\":null}],\"input_ports\":[{\"name\":\"input_data\",\"node_id\":\"-2028\"},{\"name\":\"features\",\"node_id\":\"-2028\"}],\"output_ports\":[{\"name\":\"data\",\"node_id\":\"-2028\"}],\"cacheable\":true,\"seq_num\":14,\"comment\":\"\",\"comment_collapsed\":true},{\"node_id\":\"-2037\",\"module_id\":\"BigQuantSpace.winsorize.winsorize-v6\",\"parameters\":[{\"name\":\"columns_input\",\"value\":\"STOM\\nDTOA\\nMomentum\\nBeta\\nETOP\\nSTOA\\nValue\\nEPIBS\\nDASTD\\nGMRA\\nBLEV\\nCETOP\\nGrowth\\nMLEV\\nSTOQ\\nSize\",\"type\":\"Literal\",\"bound_global_parameter\":null},{\"name\":\"median_deviate\",\"value\":3,\"type\":\"Literal\",\"bound_global_parameter\":null}],\"input_ports\":[{\"name\":\"input_data\",\"node_id\":\"-2037\"},{\"name\":\"features\",\"node_id\":\"-2037\"}],\"output_ports\":[{\"name\":\"data\",\"node_id\":\"-2037\"}],\"cacheable\":true,\"seq_num\":15,\"comment\":\"\",\"comment_collapsed\":true},{\"node_id\":\"-2043\",\"module_id\":\"BigQuantSpace.standardlize.standardlize-v8\",\"parameters\":[{\"name\":\"columns_input\",\"value\":\"STOM\\nDTOA\\nMomentum\\nBeta\\nETOP\\nSTOA\\nValue\\nEPIBS\\nDASTD\\nGMRA\\nBLEV\\nCETOP\\nGrowth\\nMLEV\\nSTOQ\\nSize\",\"type\":\"Literal\",\"bound_global_parameter\":null}],\"input_ports\":[{\"name\":\"input_1\",\"node_id\":\"-2043\"},{\"name\":\"input_2\",\"node_id\":\"-2043\"}],\"output_ports\":[{\"name\":\"data\",\"node_id\":\"-2043\"}],\"cacheable\":true,\"seq_num\":16,\"comment\":\"\",\"comment_collapsed\":true},{\"node_id\":\"-2051\",\"module_id\":\"BigQuantSpace.cached.cached-v3\",\"parameters\":[{\"name\":\"run\",\"value\":\"# Python 代码入口函数，input_1/2/3 对应三个输入端，data_1/2/3 对应三个输出端\\ndef bigquant_run(input_1, input_2, input_3):\\n    # 示例代码如下。在这里编写您的代码\\n    df = pd.DataFrame({'data': [1, 2, 3]})\\n    extrema_remove_df = input_1.read()\\n    \\n    ins = list(extrema_remove_df.instrument.unique())\\n    industry_info = D.history_data(ins, extrema_remove_df.iloc[0,0], extrema_remove_df.iloc[-1,0], ['industry_sw_level1','market_cap', 'market_cap_float'])\\n    industry_info['market_cap_float'] = np.log10(industry_info['market_cap_float'])  # 对市值因子取对数\\n\\n    industry_df = industry_info[(industry_info.industry_sw_level1!=0)&(industry_info.industry_sw_level1!=-1)].set_index('date')  # 取出其中有行业分类的条目，如果行业划分是0或者-1就算了，代表无划分\\n\\n    industry_df = industry_df.groupby('instrument').apply(lambda x: x.resample('M').last())\\n    industry_df.index = industry_df.index.droplevel(0)\\n    industry_df.reset_index(inplace=True)\\n    \\n    # 风格因子数据转换成月度，并与市值行业数据的拼接， 并把行业因子转换成dummy数据 \\n    extrema_remove_df.set_index('date', inplace=True)\\n    extrema_remove_df = extrema_remove_df.groupby('instrument').apply(lambda x: x.resample('M').last())  # pandas 处理时间序列数据，将原始数据转换为月末数据\\n    extrema_remove_df.index = extrema_remove_df.index.droplevel(0)\\n    extrema_remove_df.reset_index(inplace=True)\\n\\n    extrema_remove_df = extrema_remove_df.merge(industry_df, on=['date', 'instrument']) # 风格因子数据和市值行业数据拼接\\n\\n    # 截面缺失值数据使用行业均值填充\\n    extrema_remove_df = extrema_remove_df.groupby(['date', 'industry_sw_level1']).apply(lambda t: t.fillna(np.mean(t, axis=0)))\\n    extrema_remove_df.reset_index(inplace=True, drop=True)\\n\\n    # 行业属性数据哑变量\\n    extrema_remove_df['industry_sw_level1'] = extrema_remove_df['industry_sw_level1'].astype('int').astype('str')\\n    dummy_industry_df = pd.get_dummies(extrema_remove_df['industry_sw_level1'], prefix='industry_prefix')  # prefix, get_dummies转换后，列名的前缀\\n\\n    # 哑变量与截面数据进行横向拼接\\n    merge_df = pd.concat([extrema_remove_df, dummy_industry_df], axis=1).sort_values(['date', 'instrument'])  # 原始的行业因子那列应该还在\\n    \\n    from sklearn.linear_model import LinearRegression\\n    # 行业中性化处理和市值中性化处理\\n    def calcu_single_factor(df, factor):\\n        industry_factor = [i for i in df.columns if i[:15]=='industry_prefix']  # 列出所有的行业因子column\\n        # 对市值因子和行业因子进行回归\\n        xvars = ['market_cap_float'] + industry_factor\\n        used_factors = xvars + [factor] + ['instrument']\\n        used_factors_df = df[used_factors]\\n        used_factors_df = used_factors_df[~used_factors_df.isnull().T.any().T]  # 检查控制，返回是否至少一个元素为真的行\\n        if len(used_factors_df) == 0:\\n            return None\\n        X = used_factors_df[xvars].astype(float)\\n        y = used_factors_df[factor].astype(float)\\n        reg = LinearRegression()  \\n        try:\\n            reg.fit(X,y)   # 将行业因子因子和市值因子对特定因子作回归  given x, get y from the model y = b0+b1x\\n            res = y-reg.predict(X)\\n            used_factors_df[factor] = res  # 残差即为中性化处理后的结果\\n        except ValueError as e:\\n            used_factors_df[factor] = np.nan \\n        return used_factors_df[['instrument',factor]]\\n\\n    # 标准化处理\\n    def standardlize(x):\\n        return (x-x.mean())/x.std()\\n\\n    factor_data_after_neutralize = pd.DataFrame(columns=['date','instrument'])\\n    detail_style_factor = [m for m in extrema_remove_df.columns if m not in ['date','instrument','market_cap','market_cap_float']]\\n    \\n    # 对风格因子进行市值中性化处理,共计16个风格因子\\n    for factor in detail_style_factor: \\n        result_temp = merge_df.groupby('date').apply(lambda x: calcu_single_factor(x, factor)).reset_index().drop('level_1',axis=1)\\n        factor_data_after_neutralize = factor_data_after_neutralize.merge(result_temp, on=['date', 'instrument'], how='outer')\\n\\n    for factor in detail_style_factor:\\n        factor_data_after_neutralize[factor] = factor_data_after_neutralize.groupby('date')[factor].apply(standardlize)\\n\\n    # 用0值填充标准化后的缺失值 \\n    factor_data_after_standard = factor_data_after_neutralize.fillna(0)\\n    \\n    # 获取股票价格并月度化\\n    start = factor_data_after_standard.date.min().strftime('%Y-%m-%d')\\n    end = factor_data_after_standard.date.max().strftime('%Y-%m-%d')\\n    ins = list(set(factor_data_after_standard.instrument))\\n\\n    price = DataSource('bar1d_CN_STOCK_A').read(ins, start_date=start, end_date=end, fields=['close'])\\n    price.rename(columns={'close':'price'}, inplace=True)\\n    price = price.set_index('date').groupby('instrument').apply(lambda x: x.resample('M').last())\\n    price.index = price.index.droplevel(0)\\n    price.fillna(method='ffill', inplace=True)\\n    price.reset_index(inplace=True)\\n    \\n    # 通过价格计算收益率并合成大类风格因子\\n    tmp_factor = [m for m in merge_df.columns if m not in ['market_cap_float', 'industry_sw_level1']]  # \\n    industry_prefix_factor = list(set(tmp_factor).difference(set(detail_style_factor)))  # industry_prefix_factor  是date instrument 和行业因子,共计30个因子. set()用于寻找不重复的list元素\\n    # industry_prefix_factor.append('market_cap')\\n\\n    # 构建一个总的数据表, 合并行业因子和价格\\n    monthly_style_and_industry_factor = factor_data_after_standard.merge(price, on=['date', 'instrument'], how='inner')\\n    monthly_style_and_industry_factor = monthly_style_and_industry_factor.merge(merge_df[industry_prefix_factor], on=['date', 'instrument'], how='inner').set_index('date')  \\n    # monthly_style_and_industry_factor = monthly_style_and_industry_factor.merge(merge_df, on=['date', 'instrument'], how='inner').set_index('date')  \\n\\n    # 计算出收益率\\n    monthly_style_and_industry_factor.reset_index(inplace=True)\\n\\n    monthly_price_df = monthly_style_and_industry_factor.pivot_table(values='price',columns='instrument',index='date')\\n    monthly_style_and_industry_factor = monthly_style_and_industry_factor.merge(monthly_price_df.pct_change().shift(-1).unstack().to_frame('return').reset_index(),on=['date','instrument'])\\n    monthly_style_and_industry_factor = monthly_style_and_industry_factor.dropna()\\n\\n    # 小因子等权重合并成大因子, 这里未来可以采取IC_IR法\\n    monthly_style_and_industry_factor['Volatility'] = (monthly_style_and_industry_factor['DASTD']+monthly_style_and_industry_factor['GMRA'])/2\\n    monthly_style_and_industry_factor['EarningYields'] = (monthly_style_and_industry_factor['EPIBS']+monthly_style_and_industry_factor['ETOP']+monthly_style_and_industry_factor['CETOP'])/3\\n    monthly_style_and_industry_factor['Leverage'] = (monthly_style_and_industry_factor['MLEV']+monthly_style_and_industry_factor['BLEV']+monthly_style_and_industry_factor['DTOA'])/3\\n    monthly_style_and_industry_factor['Liquidity'] = (monthly_style_and_industry_factor['STOM']+monthly_style_and_industry_factor['STOQ']+monthly_style_and_industry_factor['STOA'])/3\\n    monthly_style_and_industry_factor.drop(['DASTD','GMRA','EPIBS','ETOP','CETOP','MLEV','BLEV','DTOA','STOM','STOQ','STOA'], axis=1, inplace=True)\\n    monthly_style_and_industry_factor.rename(columns={'Size':'Size 规模','Value':'Value 账面市值比','Growth':'Growth 成长性','Momentum':'Momentum 动量','Volatility':'Volatility 残余波动率','EarningYields':'EarningYields 盈利率','Leverage':'Leverage 杠杆率', 'Liquidity':'Liquidity 流动性'}, inplace=True)\\n\\n    # 计算按市值加权的风格因子暴露度\\n    monthly_style_and_industry_factor_exp = monthly_style_and_industry_factor[['date', 'instrument', 'market_cap', 'Size 规模','Value 账面市值比','Beta','Growth 成长性','Momentum 动量','Volatility 残余波动率','EarningYields 盈利率','Leverage 杠杆率', 'Liquidity 流动性']]\\n    day_list = list(set(monthly_style_and_industry_factor_exp.date))\\n    monthly_style_and_industry_factor_exp_cap = pd.DataFrame(columns=['date', 'Size 规模','Value 账面市值比','Beta','Growth 成长性','Momentum 动量','Volatility 残余波动率','EarningYields 盈利率','Leverage 杠杆率', 'Liquidity 流动性'])\\n\\n    for i in range(len(day_list)):\\n        temp_df = monthly_style_and_industry_factor_exp[monthly_style_and_industry_factor_exp['date']==day_list[i]]\\n        market_sum = temp_df['market_cap'].sum()\\n        temp_df['market_cap'] = temp_df['market_cap']/market_sum\\n        column_list = [m for m in temp_df.columns if m not in ['date','instrument','market_cap']]\\n        for j in range(len(column_list)):\\n            temp_df[column_list[j]] = temp_df[column_list[j]] * temp_df['market_cap']\\n        monthly_style_and_industry_factor_exp_cap.loc[i, 'date'] = day_list[i]\\n        temp_df_mean = temp_df.mean()[1:]\\n        for k in range(len(temp_df_mean)):\\n            monthly_style_and_industry_factor_exp_cap.loc[i, temp_df_mean.keys()[k]] = temp_df_mean[k]\\n    monthly_style_and_industry_factor_exp_cap = monthly_style_and_industry_factor_exp_cap.sort_values(by=['date'])\\n    monthly_style_and_industry_factor_exp_cap.reset_index(inplace=True)\\n    data_2 = DataSource.write_df(monthly_style_and_industry_factor_exp_cap)\\n    \\n    # 回归(这里包括九大风格因子和行业因子), 通过回归计算出每个股票的残差，即特质收益率\\n    def calcu_factor_specified_return(df):\\n        xvars = list(set(df.keys()).difference(['date','instrument','return','price']))\\n        X = df[xvars].astype(float)\\n        y = df['return'].astype(float)\\n        reg = LinearRegression()\\n        try:\\n            reg.fit(X,y)\\n            res = y-reg.predict(X)\\n            df['specified_return'] = res\\n        except ValueError as e:\\n            df['specified_return'] = np.nan \\n        return df\\n\\n    residual_ret = monthly_style_and_industry_factor.groupby('date').apply(lambda x: calcu_factor_specified_return(x))  # 横截面回归的groupby一定是基于date的\\n    residual_ret = residual_ret[['instrument', 'date', 'specified_return']]    # 一致的\\n    residual_ret.fillna(0, inplace=True)\\n    residual_ret = residual_ret.sort_values('date').set_index('date')\\n    \\n    # 对收益率序列做回归,这里包括九大风格因子和行业因子 \\n    C = dict()\\n    end_month_date = list(set(monthly_style_and_industry_factor.date))\\n    end_month_date.sort()\\n\\n    # 全部因子，包括28个行业因子和9个大类风格因子\\n    # style_factor = ['Value','Growth','Size','Beta','Momentum','Volatility','EarningYields','Leverage','Liquidity']\\n    style_factor = ['Size 规模','Value 账面市值比','Beta','Growth 成长性','Momentum 动量','Volatility 残余波动率','EarningYields 盈利率','Leverage 杠杆率', 'Liquidity 流动性']\\n\\n    all_industry_name = DataSource('basic_info_IndustrySw').read()\\n    all_industry_name_sw1 = all_industry_name[all_industry_name['industry_sw_level']==1]\\n    all_industry_name_sw1['code'] = 'industry_prefix_' + all_industry_name_sw1['code']\\n\\n    all_factor_name = style_factor + all_industry_name_sw1['code'].to_list()  # 组合出完整的因子名称列表\\n    \\n    # 计算出风格因子收益率 \\n    for dt in end_month_date:  \\n        temp = monthly_style_and_industry_factor[monthly_style_and_industry_factor['date'] == dt]\\n        X = np.array(temp[list(set(temp.columns.to_list()).intersection(set(all_factor_name)))])  # 顺序基于数据源\\n        Y = temp['return'].values\\n        reg = LinearRegression()\\n        try:\\n            reg.fit(X, Y)\\n            C[dt] = reg.coef_\\n        except ValueError as e:\\n            C[dt] = np.nan\\n\\n    common_factor_ret = pd.DataFrame.from_dict(C, orient='index')\\n    common_factor_ret.columns = list(set(temp.columns.to_list()).intersection(set(all_factor_name)))\\n    common_factor_ret = common_factor_ret.sort_index()\\n\\n    # 计算出风格因子和行业因子的风险协方差矩阵,默认配置参数为36个周期\\n    special_risk = residual_ret.groupby('instrument').apply(lambda x: x['specified_return'].fillna(0).rolling(36).var()).reset_index()  \\n    common_risk = common_factor_ret.rolling(36).cov()\\n    \\n    # # 基准在行业上的暴露，即行业权重\\n    # def get_bm_industry_exposure(start_date, end_date):    \\n    #     index = DataSource('index_element_weight').read(start_date=start_date, end_date=end_date)  # 指数成分及权重数据\\n    #     hs300_df = index[index['instrument_index'] == '000300.HIX']\\n\\n    #     industry_df = DataSource('industry_CN_STOCK_A').read(start_date=start_date, end_date=end_date, fields=['industry_sw_level1'])\\n    #     hs300_industry_df = pd.merge(hs300_df, industry_df, how='inner', on=['date', 'instrument'])\\n\\n    #     bm_weight = hs300_industry_df.groupby(['date']).apply(get_weight).reset_index() \\n    #     return bm_weight\\n\\n    # def get_weight(tmp):\\n    #     return tmp[['industry_sw_level1', 'weight']].groupby('industry_sw_level1').sum()\\n\\n    # # 基准在风格因子上的暴露\\n    # def get_bm_component(start_date, end_date):\\n    #     index = DataSource('index_element_weight').read(start_date=start_date, end_date=end_date)\\n    #     hs300_df = index[index['instrument_index'] == '000300.HIX']\\n    #     return hs300_df\\n\\n    # bm_industry_exposure = get_bm_industry_exposure(start_date=start, end_date=end)\\n    # bm_component = get_bm_component(start_date=start, end_date=end)\\n    \\n    \\n    data_1 = DataSource.write_df(common_factor_ret)\\n    # data_2 = DataSource.write_df(bm_industry_exposure)\\n    # data_3 = DataSource.write_df(bm_component)\\n    # return Outputs(data_1=data_1, data_2=data_2, data_3=data_3)\\n    return Outputs(data_1=data_1, data_2=data_2, data_3=None)\",\"type\":\"Literal\",\"bound_global_parameter\":null},{\"name\":\"post_run\",\"value\":\"# 后处理函数，可选。输入是主函数的输出，可以在这里对数据做处理，或者返回更友好的outputs数据格式。此函数输出不会被缓存。\\ndef bigquant_run(outputs):\\n    return outputs\\n\",\"type\":\"Literal\",\"bound_global_parameter\":null},{\"name\":\"input_ports\",\"value\":\"\",\"type\":\"Literal\",\"bound_global_parameter\":null},{\"name\":\"params\",\"value\":\"{}\",\"type\":\"Literal\",\"bound_global_parameter\":null},{\"name\":\"output_ports\",\"value\":\"\",\"type\":\"Literal\",\"bound_global_parameter\":null}],\"input_ports\":[{\"name\":\"input_1\",\"node_id\":\"-2051\"},{\"name\":\"input_2\",\"node_id\":\"-2051\"},{\"name\":\"input_3\",\"node_id\":\"-2051\"}],\"output_ports\":[{\"name\":\"data_1\",\"node_id\":\"-2051\"},{\"name\":\"data_2\",\"node_id\":\"-2051\"},{\"name\":\"data_3\",\"node_id\":\"-2051\"}],\"cacheable\":true,\"seq_num\":17,\"comment\":\"输出为沪深300\",\"comment_collapsed\":false},{\"node_id\":\"-2079\",\"module_id\":\"BigQuantSpace.instruments.instruments-v2\",\"parameters\":[{\"name\":\"start_date\",\"value\":\"2018-01-01\",\"type\":\"Literal\",\"bound_global_parameter\":null},{\"name\":\"end_date\",\"value\":\"2021-07-02\",\"type\":\"Literal\",\"bound_global_parameter\":null},{\"name\":\"market\",\"value\":\"CN_STOCK_A\",\"type\":\"Literal\",\"bound_global_parameter\":null},{\"name\":\"instrument_list\",\"value\":\"\",\"type\":\"Literal\",\"bound_global_parameter\":null},{\"name\":\"max_count\",\"value\":0,\"type\":\"Literal\",\"bound_global_parameter\":null}],\"input_ports\":[{\"name\":\"rolling_conf\",\"node_id\":\"-2079\"}],\"output_ports\":[{\"name\":\"data\",\"node_id\":\"-2079\"}],\"cacheable\":true,\"seq_num\":18,\"comment\":\"\",\"comment_collapsed\":true},{\"node_id\":\"-2086\",\"module_id\":\"BigQuantSpace.plot_dataframe.plot_dataframe-v1\",\"parameters\":[{\"name\":\"title\",\"value\":\"市值加权的组合风格因子收益率\",\"type\":\"Literal\",\"bound_global_parameter\":null},{\"name\":\"chart_type\",\"value\":\"column\",\"type\":\"Literal\",\"bound_global_parameter\":null},{\"name\":\"x\",\"value\":\"\",\"type\":\"Literal\",\"bound_global_parameter\":null},{\"name\":\"y\",\"value\":\"\",\"type\":\"Literal\",\"bound_global_parameter\":null},{\"name\":\"options\",\"value\":\"{\\n    'chart': {\\n        'height': 500\\n    }\\n}\",\"type\":\"Literal\",\"bound_global_parameter\":null},{\"name\":\"candlestick\",\"value\":\"False\",\"type\":\"Literal\",\"bound_global_parameter\":null},{\"name\":\"pane_1\",\"value\":\"\",\"type\":\"Literal\",\"bound_global_parameter\":null},{\"name\":\"pane_2\",\"value\":\"\",\"type\":\"Literal\",\"bound_global_parameter\":null},{\"name\":\"pane_3\",\"value\":\"\",\"type\":\"Literal\",\"bound_global_parameter\":null},{\"name\":\"pane_4\",\"value\":\"\",\"type\":\"Literal\",\"bound_global_parameter\":null}],\"input_ports\":[{\"name\":\"input_data\",\"node_id\":\"-2086\"}],\"output_ports\":[],\"cacheable\":false,\"seq_num\":20,\"comment\":\"市值加权的组合风格因子收益率\",\"comment_collapsed\":false},{\"node_id\":\"-2103\",\"module_id\":\"BigQuantSpace.cached.cached-v3\",\"parameters\":[{\"name\":\"run\",\"value\":\"# Python 代码入口函数，input_1/2/3 对应三个输入端，data_1/2/3 对应三个输出端\\ndef bigquant_run(input_1, input_2, input_3):\\n    df_ben = input_1.read()  # 沪深300风格因子收益率\\n    df = input_2.read()  # 组合风格收益率\\n    df_exp = input_3.read()  # 组合风格暴露度\\n        \\n    style_factor = ['Size 规模','Value 账面市值比','Beta','Growth 成长性','Momentum 动量','Volatility 残余波动率','EarningYields 盈利率','Leverage 杠杆率', 'Liquidity 流动性']\\n    \\n    df_exp.drop(['index'], axis=1, inplace=True)\\n    df_exp.set_index('date', drop=True, inplace=True)\\n    df_exp.index.name = None\\n    df_exp = df_exp.astype('float')\\n    \\n    data_1 = DataSource.write_df(df_exp.tail(1))\\n    data_2 = DataSource.write_df(df[style_factor].tail(1))\\n    data_3 = DataSource.write_df(df_ben[style_factor].tail(1))\\n\\n    return Outputs(data_1=data_1, data_2=data_2, data_3=data_3)\",\"type\":\"Literal\",\"bound_global_parameter\":null},{\"name\":\"post_run\",\"value\":\"# 后处理函数，可选。输入是主函数的输出，可以在这里对数据做处理，或者返回更友好的outputs数据格式。此函数输出不会被缓存。\\ndef bigquant_run(outputs):\\n    return outputs\\n\",\"type\":\"Literal\",\"bound_global_parameter\":null},{\"name\":\"input_ports\",\"value\":\"\",\"type\":\"Literal\",\"bound_global_parameter\":null},{\"name\":\"params\",\"value\":\"{}\",\"type\":\"Literal\",\"bound_global_parameter\":null},{\"name\":\"output_ports\",\"value\":\"\",\"type\":\"Literal\",\"bound_global_parameter\":null}],\"input_ports\":[{\"name\":\"input_1\",\"node_id\":\"-2103\"},{\"name\":\"input_2\",\"node_id\":\"-2103\"},{\"name\":\"input_3\",\"node_id\":\"-2103\"}],\"output_ports\":[{\"name\":\"data_1\",\"node_id\":\"-2103\"},{\"name\":\"data_2\",\"node_id\":\"-2103\"},{\"name\":\"data_3\",\"node_id\":\"-2103\"}],\"cacheable\":true,\"seq_num\":21,\"comment\":\"风格因子绘图\",\"comment_collapsed\":false},{\"node_id\":\"-2122\",\"module_id\":\"BigQuantSpace.chinaa_stock_filter.chinaa_stock_filter-v1\",\"parameters\":[{\"name\":\"index_constituent_cond\",\"value\":\"%7B%22enumItems%22%3A%5B%7B%22value%22%3A%22%E5%85%A8%E9%83%A8%22%2C%22displayValue%22%3A%22%E5%85%A8%E9%83%A8%22%2C%22selected%22%3Afalse%7D%2C%7B%22value%22%3A%22%E4%B8%8A%E8%AF%8150%22%2C%22displayValue%22%3A%22%E4%B8%8A%E8%AF%8150%22%2C%22selected%22%3Afalse%7D%2C%7B%22value%22%3A%22%E6%B2%AA%E6%B7%B1300%22%2C%22displayValue%22%3A%22%E6%B2%AA%E6%B7%B1300%22%2C%22selected%22%3Atrue%7D%2C%7B%22value%22%3A%22%E4%B8%AD%E8%AF%81500%22%2C%22displayValue%22%3A%22%E4%B8%AD%E8%AF%81500%22%2C%22selected%22%3Afalse%7D%2C%7B%22value%22%3A%22%E4%B8%AD%E8%AF%81800%22%2C%22displayValue%22%3A%22%E4%B8%AD%E8%AF%81800%22%2C%22selected%22%3Afalse%7D%2C%7B%22value%22%3A%22%E4%B8%8A%E8%AF%81180%22%2C%22displayValue%22%3A%22%E4%B8%8A%E8%AF%81180%22%2C%22selected%22%3Afalse%7D%2C%7B%22value%22%3A%22%E4%B8%AD%E8%AF%81100%22%2C%22displayValue%22%3A%22%E4%B8%AD%E8%AF%81100%22%2C%22selected%22%3Afalse%7D%2C%7B%22value%22%3A%22%E6%B7%B1%E8%AF%81100%22%2C%22displayValue%22%3A%22%E6%B7%B1%E8%AF%81100%22%2C%22selected%22%3Afalse%7D%5D%7D\",\"type\":\"Literal\",\"bound_global_parameter\":null},{\"name\":\"board_cond\",\"value\":\"%7B%22enumItems%22%3A%5B%7B%22value%22%3A%22%E5%85%A8%E9%83%A8%22%2C%22displayValue%22%3A%22%E5%85%A8%E9%83%A8%22%2C%22selected%22%3Atrue%7D%2C%7B%22value%22%3A%22%E4%B8%8A%E8%AF%81%E4%B8%BB%E6%9D%BF%22%2C%22displayValue%22%3A%22%E4%B8%8A%E8%AF%81%E4%B8%BB%E6%9D%BF%22%2C%22selected%22%3Afalse%7D%2C%7B%22value%22%3A%22%E6%B7%B1%E8%AF%81%E4%B8%BB%E6%9D%BF%22%2C%22displayValue%22%3A%22%E6%B7%B1%E8%AF%81%E4%B8%BB%E6%9D%BF%22%2C%22selected%22%3Afalse%7D%2C%7B%22value%22%3A%22%E5%88%9B%E4%B8%9A%E6%9D%BF%22%2C%22displayValue%22%3A%22%E5%88%9B%E4%B8%9A%E6%9D%BF%22%2C%22selected%22%3Afalse%7D%2C%7B%22value%22%3A%22%E7%A7%91%E5%88%9B%E6%9D%BF%22%2C%22displayValue%22%3A%22%E7%A7%91%E5%88%9B%E6%9D%BF%22%2C%22selected%22%3Afalse%7D%5D%7D\",\"type\":\"Literal\",\"bound_global_parameter\":null},{\"name\":\"industry_cond\",\"value\":\"%7B%22enumItems%22%3A%5B%7B%22value%22%3A%22%E5%85%A8%E9%83%A8%22%2C%22displayValue%22%3A%22%E5%85%A8%E9%83%A8%22%2C%22selected%22%3Atrue%7D%2C%7B%22value%22%3A%22%E4%BA%A4%E9%80%9A%E8%BF%90%E8%BE%93%22%2C%22displayValue%22%3A%22%E4%BA%A4%E9%80%9A%E8%BF%90%E8%BE%93%22%2C%22selected%22%3Afalse%7D%2C%7B%22value%22%3A%22%E4%BC%91%E9%97%B2%E6%9C%8D%E5%8A%A1%22%2C%22displayValue%22%3A%22%E4%BC%91%E9%97%B2%E6%9C%8D%E5%8A%A1%22%2C%22selected%22%3Afalse%7D%2C%7B%22value%22%3A%22%E4%BC%A0%E5%AA%92%2F%E4%BF%A1%E6%81%AF%E6%9C%8D%E5%8A%A1%22%2C%22displayValue%22%3A%22%E4%BC%A0%E5%AA%92%2F%E4%BF%A1%E6%81%AF%E6%9C%8D%E5%8A%A1%22%2C%22selected%22%3Afalse%7D%2C%7B%22value%22%3A%22%E5%85%AC%E7%94%A8%E4%BA%8B%E4%B8%9A%22%2C%22displayValue%22%3A%22%E5%85%AC%E7%94%A8%E4%BA%8B%E4%B8%9A%22%2C%22selected%22%3Afalse%7D%2C%7B%22value%22%3A%22%E5%86%9C%E6%9E%97%E7%89%A7%E6%B8%94%22%2C%22displayValue%22%3A%22%E5%86%9C%E6%9E%97%E7%89%A7%E6%B8%94%22%2C%22selected%22%3Afalse%7D%2C%7B%22value%22%3A%22%E5%8C%96%E5%B7%A5%22%2C%22displayValue%22%3A%22%E5%8C%96%E5%B7%A5%22%2C%22selected%22%3Afalse%7D%2C%7B%22value%22%3A%22%E5%8C%BB%E8%8D%AF%E7%94%9F%E7%89%A9%22%2C%22displayValue%22%3A%22%E5%8C%BB%E8%8D%AF%E7%94%9F%E7%89%A9%22%2C%22selected%22%3Afalse%7D%2C%7B%22value%22%3A%22%E5%95%86%E4%B8%9A%E8%B4%B8%E6%98%93%22%2C%22displayValue%22%3A%22%E5%95%86%E4%B8%9A%E8%B4%B8%E6%98%93%22%2C%22selected%22%3Afalse%7D%2C%7B%22value%22%3A%22%E5%9B%BD%E9%98%B2%E5%86%9B%E5%B7%A5%22%2C%22displayValue%22%3A%22%E5%9B%BD%E9%98%B2%E5%86%9B%E5%B7%A5%22%2C%22selected%22%3Afalse%7D%2C%7B%22value%22%3A%22%E5%AE%B6%E7%94%A8%E7%94%B5%E5%99%A8%22%2C%22displayValue%22%3A%22%E5%AE%B6%E7%94%A8%E7%94%B5%E5%99%A8%22%2C%22selected%22%3Afalse%7D%2C%7B%22value%22%3A%22%E5%BB%BA%E7%AD%91%E6%9D%90%E6%96%99%2F%E5%BB%BA%E7%AD%91%E5%BB%BA%E6%9D%90%22%2C%22displayValue%22%3A%22%E5%BB%BA%E7%AD%91%E6%9D%90%E6%96%99%2F%E5%BB%BA%E7%AD%91%E5%BB%BA%E6%9D%90%22%2C%22selected%22%3Afalse%7D%2C%7B%22value%22%3A%22%E5%BB%BA%E7%AD%91%E8%A3%85%E9%A5%B0%22%2C%22displayValue%22%3A%22%E5%BB%BA%E7%AD%91%E8%A3%85%E9%A5%B0%22%2C%22selected%22%3Afalse%7D%2C%7B%22value%22%3A%22%E6%88%BF%E5%9C%B0%E4%BA%A7%22%2C%22displayValue%22%3A%22%E6%88%BF%E5%9C%B0%E4%BA%A7%22%2C%22selected%22%3Afalse%7D%2C%7B%22value%22%3A%22%E6%9C%89%E8%89%B2%E9%87%91%E5%B1%9E%22%2C%22displayValue%22%3A%22%E6%9C%89%E8%89%B2%E9%87%91%E5%B1%9E%22%2C%22selected%22%3Afalse%7D%2C%7B%22value%22%3A%22%E6%9C%BA%E6%A2%B0%E8%AE%BE%E5%A4%87%22%2C%22displayValue%22%3A%22%E6%9C%BA%E6%A2%B0%E8%AE%BE%E5%A4%87%22%2C%22selected%22%3Afalse%7D%2C%7B%22value%22%3A%22%E6%B1%BD%E8%BD%A6%2F%E4%BA%A4%E8%BF%90%E8%AE%BE%E5%A4%87%22%2C%22displayValue%22%3A%22%E6%B1%BD%E8%BD%A6%2F%E4%BA%A4%E8%BF%90%E8%AE%BE%E5%A4%87%22%2C%22selected%22%3Afalse%7D%2C%7B%22value%22%3A%22%E7%94%B5%E5%AD%90%22%2C%22displayValue%22%3A%22%E7%94%B5%E5%AD%90%22%2C%22selected%22%3Afalse%7D%2C%7B%22value%22%3A%22%E7%94%B5%E6%B0%94%E8%AE%BE%E5%A4%87%22%2C%22displayValue%22%3A%22%E7%94%B5%E6%B0%94%E8%AE%BE%E5%A4%87%22%2C%22selected%22%3Afalse%7D%2C%7B%22value%22%3A%22%E7%BA%BA%E7%BB%87%E6%9C%8D%E8%A3%85%22%2C%22displayValue%22%3A%22%E7%BA%BA%E7%BB%87%E6%9C%8D%E8%A3%85%22%2C%22selected%22%3Afalse%7D%2C%7B%22value%22%3A%22%E7%BB%BC%E5%90%88%22%2C%22displayValue%22%3A%22%E7%BB%BC%E5%90%88%22%2C%22selected%22%3Afalse%7D%2C%7B%22value%22%3A%22%E8%AE%A1%E7%AE%97%E6%9C%BA%22%2C%22displayValue%22%3A%22%E8%AE%A1%E7%AE%97%E6%9C%BA%22%2C%22selected%22%3Afalse%7D%2C%7B%22value%22%3A%22%E8%BD%BB%E5%B7%A5%E5%88%B6%E9%80%A0%22%2C%22displayValue%22%3A%22%E8%BD%BB%E5%B7%A5%E5%88%B6%E9%80%A0%22%2C%22selected%22%3Afalse%7D%2C%7B%22value%22%3A%22%E9%80%9A%E4%BF%A1%22%2C%22displayValue%22%3A%22%E9%80%9A%E4%BF%A1%22%2C%22selected%22%3Afalse%7D%2C%7B%22value%22%3A%22%E9%87%87%E6%8E%98%22%2C%22displayValue%22%3A%22%E9%87%87%E6%8E%98%22%2C%22selected%22%3Afalse%7D%2C%7B%22value%22%3A%22%E9%92%A2%E9%93%81%22%2C%22displayValue%22%3A%22%E9%92%A2%E9%93%81%22%2C%22selected%22%3Afalse%7D%2C%7B%22value%22%3A%22%E9%93%B6%E8%A1%8C%22%2C%22displayValue%22%3A%22%E9%93%B6%E8%A1%8C%22%2C%22selected%22%3Afalse%7D%2C%7B%22value%22%3A%22%E9%9D%9E%E9%93%B6%E9%87%91%E8%9E%8D%22%2C%22displayValue%22%3A%22%E9%9D%9E%E9%93%B6%E9%87%91%E8%9E%8D%22%2C%22selected%22%3Afalse%7D%2C%7B%22value%22%3A%22%E9%A3%9F%E5%93%81%E9%A5%AE%E6%96%99%22%2C%22displayValue%22%3A%22%E9%A3%9F%E5%93%81%E9%A5%AE%E6%96%99%22%2C%22selected%22%3Afalse%7D%5D%7D\",\"type\":\"Literal\",\"bound_global_parameter\":null},{\"name\":\"st_cond\",\"value\":\"%7B%22enumItems%22%3A%5B%7B%22value%22%3A%22%E5%85%A8%E9%83%A8%22%2C%22displayValue%22%3A%22%E5%85%A8%E9%83%A8%22%2C%22selected%22%3Afalse%7D%2C%7B%22value%22%3A%22%E6%AD%A3%E5%B8%B8%22%2C%22displayValue%22%3A%22%E6%AD%A3%E5%B8%B8%22%2C%22selected%22%3Atrue%7D%2C%7B%22value%22%3A%22ST%22%2C%22displayValue%22%3A%22ST%22%2C%22selected%22%3Afalse%7D%2C%7B%22value%22%3A%22*ST%22%2C%22displayValue%22%3A%22*ST%22%2C%22selected%22%3Afalse%7D%2C%7B%22value%22%3A%22%E6%9A%82%E5%81%9C%E4%B8%8A%E5%B8%82%22%2C%22displayValue%22%3A%22%E6%9A%82%E5%81%9C%E4%B8%8A%E5%B8%82%22%2C%22selected%22%3Afalse%7D%5D%7D\",\"type\":\"Literal\",\"bound_global_parameter\":null},{\"name\":\"delist_cond\",\"value\":\"%7B%22enumItems%22%3A%5B%7B%22value%22%3A%22%E5%85%A8%E9%83%A8%22%2C%22displayValue%22%3A%22%E5%85%A8%E9%83%A8%22%2C%22selected%22%3Afalse%7D%2C%7B%22value%22%3A%22%E9%80%80%E5%B8%82%22%2C%22displayValue%22%3A%22%E9%80%80%E5%B8%82%22%2C%22selected%22%3Afalse%7D%2C%7B%22value%22%3A%22%E9%9D%9E%E9%80%80%E5%B8%82%22%2C%22displayValue%22%3A%22%E9%9D%9E%E9%80%80%E5%B8%82%22%2C%22selected%22%3Atrue%7D%5D%7D\",\"type\":\"Literal\",\"bound_global_parameter\":null},{\"name\":\"output_left_data\",\"value\":\"True\",\"type\":\"Literal\",\"bound_global_parameter\":null}],\"input_ports\":[{\"name\":\"input_data\",\"node_id\":\"-2122\"}],\"output_ports\":[{\"name\":\"data\",\"node_id\":\"-2122\"},{\"name\":\"left_data\",\"node_id\":\"-2122\"}],\"cacheable\":true,\"seq_num\":23,\"comment\":\"\",\"comment_collapsed\":true},{\"node_id\":\"-2130\",\"module_id\":\"BigQuantSpace.plot_dataframe.plot_dataframe-v1\",\"parameters\":[{\"name\":\"title\",\"value\":\"市值加权的沪深300风格因子收益率\",\"type\":\"Literal\",\"bound_global_parameter\":null},{\"name\":\"chart_type\",\"value\":\"column\",\"type\":\"Literal\",\"bound_global_parameter\":null},{\"name\":\"x\",\"value\":\"\",\"type\":\"Literal\",\"bound_global_parameter\":null},{\"name\":\"y\",\"value\":\"\",\"type\":\"Literal\",\"bound_global_parameter\":null},{\"name\":\"options\",\"value\":\"{\\n    'chart': {\\n        'height': 500\\n    }\\n}\",\"type\":\"Literal\",\"bound_global_parameter\":null},{\"name\":\"candlestick\",\"value\":\"False\",\"type\":\"Literal\",\"bound_global_parameter\":null},{\"name\":\"pane_1\",\"value\":\"\",\"type\":\"Literal\",\"bound_global_parameter\":null},{\"name\":\"pane_2\",\"value\":\"\",\"type\":\"Literal\",\"bound_global_parameter\":null},{\"name\":\"pane_3\",\"value\":\"\",\"type\":\"Literal\",\"bound_global_parameter\":null},{\"name\":\"pane_4\",\"value\":\"\",\"type\":\"Literal\",\"bound_global_parameter\":null}],\"input_ports\":[{\"name\":\"input_data\",\"node_id\":\"-2130\"}],\"output_ports\":[],\"cacheable\":false,\"seq_num\":22,\"comment\":\"市值加权的沪深300风格因子收益率\",\"comment_collapsed\":false},{\"node_id\":\"-187\",\"module_id\":\"BigQuantSpace.plot_dataframe.plot_dataframe-v1\",\"parameters\":[{\"name\":\"title\",\"value\":\"市值加权的组合风格因子暴露\",\"type\":\"Literal\",\"bound_global_parameter\":null},{\"name\":\"chart_type\",\"value\":\"column\",\"type\":\"Literal\",\"bound_global_parameter\":null},{\"name\":\"x\",\"value\":\"\",\"type\":\"Literal\",\"bound_global_parameter\":null},{\"name\":\"y\",\"value\":\"\",\"type\":\"Literal\",\"bound_global_parameter\":null},{\"name\":\"options\",\"value\":\"{\\n    'chart': {\\n        'height': 500\\n    }\\n}\",\"type\":\"Literal\",\"bound_global_parameter\":null},{\"name\":\"candlestick\",\"value\":\"False\",\"type\":\"Literal\",\"bound_global_parameter\":null},{\"name\":\"pane_1\",\"value\":\"\",\"type\":\"Literal\",\"bound_global_parameter\":null},{\"name\":\"pane_2\",\"value\":\"\",\"type\":\"Literal\",\"bound_global_parameter\":null},{\"name\":\"pane_3\",\"value\":\"\",\"type\":\"Literal\",\"bound_global_parameter\":null},{\"name\":\"pane_4\",\"value\":\"\",\"type\":\"Literal\",\"bound_global_parameter\":null}],\"input_ports\":[{\"name\":\"input_data\",\"node_id\":\"-187\"}],\"output_ports\":[],\"cacheable\":false,\"seq_num\":19,\"comment\":\"市值加权的组合风格因子暴露\",\"comment_collapsed\":false},{\"node_id\":\"-394\",\"module_id\":\"BigQuantSpace.plot_dataframe.plot_dataframe-v1\",\"parameters\":[{\"name\":\"title\",\"value\":\"市值加权沪深300风格因子暴露度\",\"type\":\"Literal\",\"bound_global_parameter\":null},{\"name\":\"chart_type\",\"value\":\"column\",\"type\":\"Literal\",\"bound_global_parameter\":null},{\"name\":\"x\",\"value\":\"\",\"type\":\"Literal\",\"bound_global_parameter\":null},{\"name\":\"y\",\"value\":\"\",\"type\":\"Literal\",\"bound_global_parameter\":null},{\"name\":\"options\",\"value\":\"{\\n    'chart': {\\n        'height': 500\\n    }\\n}\",\"type\":\"Literal\",\"bound_global_parameter\":null},{\"name\":\"candlestick\",\"value\":\"False\",\"type\":\"Literal\",\"bound_global_parameter\":null},{\"name\":\"pane_1\",\"value\":\"\",\"type\":\"Literal\",\"bound_global_parameter\":null},{\"name\":\"pane_2\",\"value\":\"\",\"type\":\"Literal\",\"bound_global_parameter\":null},{\"name\":\"pane_3\",\"value\":\"\",\"type\":\"Literal\",\"bound_global_parameter\":null},{\"name\":\"pane_4\",\"value\":\"\",\"type\":\"Literal\",\"bound_global_parameter\":null}],\"input_ports\":[{\"name\":\"input_data\",\"node_id\":\"-394\"}],\"output_ports\":[],\"cacheable\":false,\"seq_num\":24,\"comment\":\"市值加权沪深300风格因子暴露度\",\"comment_collapsed\":false}],\"node_layout\":\"<node_postions><node_position Node='-70' Position='426,173,200,200'/><node_position Node='-32' Position='102,173,200,200'/><node_position Node='-44' Position='276,487,200,200'/><node_position Node='-53' Position='207,341,200,200'/><node_position Node='-60' Position='247,415,200,200'/><node_position Node='-1390' Position='303,563,200,200'/><node_position Node='-1396' Position='347,632,200,200'/><node_position Node='-1404' Position='337,703,200,200'/><node_position Node='-1751' Position='345,836,200,200'/><node_position Node='-1825' Position='527,1080,200,200'/><node_position Node='-1837' Position='780,1144,200,200'/><node_position Node='-2012' Position='-73,487,200,200'/><node_position Node='-2021' Position='-192,264,200,200'/><node_position Node='-2028' Position='-137,333,200,200'/><node_position Node='-2037' Position='-46,563,200,200'/><node_position Node='-2043' Position='-2,632,200,200'/><node_position Node='-2051' Position='0,705,200,200'/><node_position Node='-2079' Position='-250,173,200,200'/><node_position Node='-2086' Position='-56,1036,200,200'/><node_position Node='-2103' Position='-15,838,200,200'/><node_position Node='-2122' Position='-131,406,200,200'/><node_position Node='-2130' Position='139,1142,200,200'/><node_position Node='-187' Position='-239,948,200,200'/><node_position Node='-394' Position='314,970,200,200'/></node_postions>\"},\"nodes_readonly\":false,\"studio_version\":\"v2\"}"
   },
   "outputs": [
    {
     "data": {
      "text/plain": [
       "[2021-07-01 10:04:35.579614] INFO: moduleinvoker: input_features.v1 开始运行.."
      ]
     },
     "metadata": {
      "is_log": true,
      "status": "INFO"
     },
     "output_type": "display_data"
    },
    {
     "data": {
      "text/plain": [
       "[2021-07-01 10:04:35.769909] INFO: moduleinvoker: 命中缓存"
      ]
     },
     "metadata": {
      "is_log": true,
      "status": "INFO"
     },
     "output_type": "display_data"
    },
    {
     "data": {
      "text/plain": [
       "[2021-07-01 10:04:35.771618] INFO: moduleinvoker: input_features.v1 运行完成[0.192016s]."
      ]
     },
     "metadata": {
      "is_log": true,
      "status": "INFO"
     },
     "output_type": "display_data"
    },
    {
     "data": {
      "text/plain": [
       "[2021-07-01 10:04:35.774099] INFO: moduleinvoker: instruments.v2 开始运行.."
      ]
     },
     "metadata": {
      "is_log": true,
      "status": "INFO"
     },
     "output_type": "display_data"
    },
    {
     "data": {
      "text/plain": [
       "[2021-07-01 10:04:35.802843] INFO: moduleinvoker: instruments.v2 运行完成[0.028725s]."
      ]
     },
     "metadata": {
      "is_log": true,
      "status": "INFO"
     },
     "output_type": "display_data"
    },
    {
     "data": {
      "text/plain": [
       "[2021-07-01 10:04:35.809781] INFO: moduleinvoker: general_feature_extractor.v7 开始运行.."
      ]
     },
     "metadata": {
      "is_log": true,
      "status": "INFO"
     },
     "output_type": "display_data"
    },
    {
     "data": {
      "text/plain": [
       "[2021-07-01 10:04:38.007747] INFO: 基础特征抽取: 年份 2018, 特征行数=8910"
      ]
     },
     "metadata": {
      "is_log": true,
      "status": "INFO"
     },
     "output_type": "display_data"
    },
    {
     "data": {
      "text/plain": [
       "[2021-07-01 10:04:40.665380] INFO: 基础特征抽取: 年份 2019, 特征行数=9497"
      ]
     },
     "metadata": {
      "is_log": true,
      "status": "INFO"
     },
     "output_type": "display_data"
    },
    {
     "data": {
      "text/plain": [
       "[2021-07-01 10:04:43.390189] INFO: 基础特征抽取: 年份 2020, 特征行数=9537"
      ]
     },
     "metadata": {
      "is_log": true,
      "status": "INFO"
     },
     "output_type": "display_data"
    },
    {
     "data": {
      "text/plain": [
       "[2021-07-01 10:04:44.908766] INFO: 基础特征抽取: 年份 2021, 特征行数=4785"
      ]
     },
     "metadata": {
      "is_log": true,
      "status": "INFO"
     },
     "output_type": "display_data"
    },
    {
     "data": {
      "text/plain": [
       "[2021-07-01 10:04:44.946382] INFO: 基础特征抽取: 总行数: 32729"
      ]
     },
     "metadata": {
      "is_log": true,
      "status": "INFO"
     },
     "output_type": "display_data"
    },
    {
     "data": {
      "text/plain": [
       "[2021-07-01 10:04:44.953127] INFO: moduleinvoker: general_feature_extractor.v7 运行完成[9.1433s]."
      ]
     },
     "metadata": {
      "is_log": true,
      "status": "INFO"
     },
     "output_type": "display_data"
    },
    {
     "data": {
      "text/plain": [
       "[2021-07-01 10:04:44.958123] INFO: moduleinvoker: derived_feature_extractor.v3 开始运行.."
      ]
     },
     "metadata": {
      "is_log": true,
      "status": "INFO"
     },
     "output_type": "display_data"
    },
    {
     "data": {
      "text/plain": [
       "[2021-07-01 10:04:45.173431] INFO: derived_feature_extractor: 提取完成 log(market_cap_0+0.0001), 0.002s"
      ]
     },
     "metadata": {
      "is_log": true,
      "status": "INFO"
     },
     "output_type": "display_data"
    },
    {
     "data": {
      "text/plain": [
       "[2021-07-01 10:04:45.175895] INFO: derived_feature_extractor: 提取完成 west_eps_ftm_0/close_0, 0.001s"
      ]
     },
     "metadata": {
      "is_log": true,
      "status": "INFO"
     },
     "output_type": "display_data"
    },
    {
     "data": {
      "text/plain": [
       "[2021-07-01 10:04:45.177927] INFO: derived_feature_extractor: 提取完成 fs_net_income_0/market_cap_0, 0.001s"
      ]
     },
     "metadata": {
      "is_log": true,
      "status": "INFO"
     },
     "output_type": "display_data"
    },
    {
     "data": {
      "text/plain": [
       "[2021-07-01 10:04:45.179953] INFO: derived_feature_extractor: 提取完成 fs_eps_0/close_0, 0.001s"
      ]
     },
     "metadata": {
      "is_log": true,
      "status": "INFO"
     },
     "output_type": "display_data"
    },
    {
     "data": {
      "text/plain": [
       "[2021-07-01 10:04:45.181920] INFO: derived_feature_extractor: 提取完成 fs_common_equity_0/market_cap_0, 0.001s"
      ]
     },
     "metadata": {
      "is_log": true,
      "status": "INFO"
     },
     "output_type": "display_data"
    },
    {
     "data": {
      "text/plain": [
       "[2021-07-01 10:04:45.183761] INFO: derived_feature_extractor: 提取完成 (fs_non_current_liabilities_0+market_cap_0)/market_cap_0, 0.001s"
      ]
     },
     "metadata": {
      "is_log": true,
      "status": "INFO"
     },
     "output_type": "display_data"
    },
    {
     "data": {
      "text/plain": [
       "[2021-07-01 10:04:45.185732] INFO: derived_feature_extractor: 提取完成 fs_total_liability_0/(fs_current_assets_0+fs_non_current_assets_0), 0.001s"
      ]
     },
     "metadata": {
      "is_log": true,
      "status": "INFO"
     },
     "output_type": "display_data"
    },
    {
     "data": {
      "text/plain": [
       "[2021-07-01 10:04:45.187514] INFO: derived_feature_extractor: 提取完成 (fs_common_equity_0+fs_non_current_liabilities_0)/fs_common_equity_0, 0.001s"
      ]
     },
     "metadata": {
      "is_log": true,
      "status": "INFO"
     },
     "output_type": "display_data"
    },
    {
     "data": {
      "text/plain": [
       "[2021-07-01 10:04:45.284230] INFO: derived_feature_extractor: /y_2018, 8910"
      ]
     },
     "metadata": {
      "is_log": true,
      "status": "INFO"
     },
     "output_type": "display_data"
    },
    {
     "data": {
      "text/plain": [
       "[2021-07-01 10:04:45.389664] INFO: derived_feature_extractor: /y_2019, 9497"
      ]
     },
     "metadata": {
      "is_log": true,
      "status": "INFO"
     },
     "output_type": "display_data"
    },
    {
     "data": {
      "text/plain": [
       "[2021-07-01 10:04:45.488942] INFO: derived_feature_extractor: /y_2020, 9537"
      ]
     },
     "metadata": {
      "is_log": true,
      "status": "INFO"
     },
     "output_type": "display_data"
    },
    {
     "data": {
      "text/plain": [
       "[2021-07-01 10:04:45.567400] INFO: derived_feature_extractor: /y_2021, 4785"
      ]
     },
     "metadata": {
      "is_log": true,
      "status": "INFO"
     },
     "output_type": "display_data"
    },
    {
     "data": {
      "text/plain": [
       "[2021-07-01 10:04:46.079927] INFO: moduleinvoker: derived_feature_extractor.v3 运行完成[1.121795s]."
      ]
     },
     "metadata": {
      "is_log": true,
      "status": "INFO"
     },
     "output_type": "display_data"
    },
    {
     "data": {
      "text/plain": [
       "[2021-07-01 10:04:46.092658] INFO: moduleinvoker: cached.v3 开始运行.."
      ]
     },
     "metadata": {
      "is_log": true,
      "status": "INFO"
     },
     "output_type": "display_data"
    },
    {
     "data": {
      "text/plain": [
       "[2021-07-01 10:04:54.148979] INFO: moduleinvoker: cached.v3 运行完成[8.05633s]."
      ]
     },
     "metadata": {
      "is_log": true,
      "status": "INFO"
     },
     "output_type": "display_data"
    },
    {
     "data": {
      "text/plain": [
       "[2021-07-01 10:04:54.153609] INFO: moduleinvoker: winsorize.v6 开始运行.."
      ]
     },
     "metadata": {
      "is_log": true,
      "status": "INFO"
     },
     "output_type": "display_data"
    },
    {
     "data": {
      "text/plain": [
       "[2021-07-01 10:05:23.353359] INFO: moduleinvoker: winsorize.v6 运行完成[29.199705s]."
      ]
     },
     "metadata": {
      "is_log": true,
      "status": "INFO"
     },
     "output_type": "display_data"
    },
    {
     "data": {
      "text/plain": [
       "[2021-07-01 10:05:23.357050] INFO: moduleinvoker: standardlize.v8 开始运行.."
      ]
     },
     "metadata": {
      "is_log": true,
      "status": "INFO"
     },
     "output_type": "display_data"
    },
    {
     "data": {
      "text/plain": [
       "[2021-07-01 10:05:32.310927] INFO: moduleinvoker: standardlize.v8 运行完成[8.953895s]."
      ]
     },
     "metadata": {
      "is_log": true,
      "status": "INFO"
     },
     "output_type": "display_data"
    },
    {
     "data": {
      "text/plain": [
       "[2021-07-01 10:05:32.330468] INFO: moduleinvoker: cached.v3 开始运行.."
      ]
     },
     "metadata": {
      "is_log": true,
      "status": "INFO"
     },
     "output_type": "display_data"
    },
    {
     "data": {
      "text/plain": [
       "[2021-07-01 10:05:56.322070] INFO: moduleinvoker: cached.v3 运行完成[23.991632s]."
      ]
     },
     "metadata": {
      "is_log": true,
      "status": "INFO"
     },
     "output_type": "display_data"
    },
    {
     "data": {
      "text/plain": [
       "[2021-07-01 10:05:56.324908] INFO: moduleinvoker: instruments.v2 开始运行.."
      ]
     },
     "metadata": {
      "is_log": true,
      "status": "INFO"
     },
     "output_type": "display_data"
    },
    {
     "data": {
      "text/plain": [
       "[2021-07-01 10:05:56.439881] INFO: moduleinvoker: instruments.v2 运行完成[0.114958s]."
      ]
     },
     "metadata": {
      "is_log": true,
      "status": "INFO"
     },
     "output_type": "display_data"
    },
    {
     "data": {
      "text/plain": [
       "[2021-07-01 10:05:56.449257] INFO: moduleinvoker: general_feature_extractor.v7 开始运行.."
      ]
     },
     "metadata": {
      "is_log": true,
      "status": "INFO"
     },
     "output_type": "display_data"
    },
    {
     "data": {
      "text/plain": [
       "[2021-07-01 10:06:01.585454] INFO: 基础特征抽取: 年份 2018, 特征行数=816987"
      ]
     },
     "metadata": {
      "is_log": true,
      "status": "INFO"
     },
     "output_type": "display_data"
    },
    {
     "data": {
      "text/plain": [
       "[2021-07-01 10:06:07.907414] INFO: 基础特征抽取: 年份 2019, 特征行数=884867"
      ]
     },
     "metadata": {
      "is_log": true,
      "status": "INFO"
     },
     "output_type": "display_data"
    },
    {
     "data": {
      "text/plain": [
       "[2021-07-01 10:06:14.233262] INFO: 基础特征抽取: 年份 2020, 特征行数=945961"
      ]
     },
     "metadata": {
      "is_log": true,
      "status": "INFO"
     },
     "output_type": "display_data"
    },
    {
     "data": {
      "text/plain": [
       "[2021-07-01 10:06:17.568875] INFO: 基础特征抽取: 年份 2021, 特征行数=498736"
      ]
     },
     "metadata": {
      "is_log": true,
      "status": "INFO"
     },
     "output_type": "display_data"
    },
    {
     "data": {
      "text/plain": [
       "[2021-07-01 10:06:17.657630] INFO: 基础特征抽取: 总行数: 3146551"
      ]
     },
     "metadata": {
      "is_log": true,
      "status": "INFO"
     },
     "output_type": "display_data"
    },
    {
     "data": {
      "text/plain": [
       "[2021-07-01 10:06:17.692943] INFO: moduleinvoker: general_feature_extractor.v7 运行完成[21.243697s]."
      ]
     },
     "metadata": {
      "is_log": true,
      "status": "INFO"
     },
     "output_type": "display_data"
    },
    {
     "data": {
      "text/plain": [
       "[2021-07-01 10:06:17.696101] INFO: moduleinvoker: derived_feature_extractor.v3 开始运行.."
      ]
     },
     "metadata": {
      "is_log": true,
      "status": "INFO"
     },
     "output_type": "display_data"
    },
    {
     "data": {
      "text/plain": [
       "[2021-07-01 10:06:29.439337] INFO: derived_feature_extractor: 提取完成 log(market_cap_0+0.0001), 0.108s"
      ]
     },
     "metadata": {
      "is_log": true,
      "status": "INFO"
     },
     "output_type": "display_data"
    },
    {
     "data": {
      "text/plain": [
       "[2021-07-01 10:06:29.529568] INFO: derived_feature_extractor: 提取完成 west_eps_ftm_0/close_0, 0.007s"
      ]
     },
     "metadata": {
      "is_log": true,
      "status": "INFO"
     },
     "output_type": "display_data"
    },
    {
     "data": {
      "text/plain": [
       "[2021-07-01 10:06:29.542667] INFO: derived_feature_extractor: 提取完成 fs_net_income_0/market_cap_0, 0.011s"
      ]
     },
     "metadata": {
      "is_log": true,
      "status": "INFO"
     },
     "output_type": "display_data"
    },
    {
     "data": {
      "text/plain": [
       "[2021-07-01 10:06:29.552512] INFO: derived_feature_extractor: 提取完成 fs_eps_0/close_0, 0.008s"
      ]
     },
     "metadata": {
      "is_log": true,
      "status": "INFO"
     },
     "output_type": "display_data"
    },
    {
     "data": {
      "text/plain": [
       "[2021-07-01 10:06:29.628940] INFO: derived_feature_extractor: 提取完成 fs_common_equity_0/market_cap_0, 0.074s"
      ]
     },
     "metadata": {
      "is_log": true,
      "status": "INFO"
     },
     "output_type": "display_data"
    },
    {
     "data": {
      "text/plain": [
       "[2021-07-01 10:06:29.642883] INFO: derived_feature_extractor: 提取完成 (fs_non_current_liabilities_0+market_cap_0)/market_cap_0, 0.012s"
      ]
     },
     "metadata": {
      "is_log": true,
      "status": "INFO"
     },
     "output_type": "display_data"
    },
    {
     "data": {
      "text/plain": [
       "[2021-07-01 10:06:29.655743] INFO: derived_feature_extractor: 提取完成 fs_total_liability_0/(fs_current_assets_0+fs_non_current_assets_0), 0.011s"
      ]
     },
     "metadata": {
      "is_log": true,
      "status": "INFO"
     },
     "output_type": "display_data"
    },
    {
     "data": {
      "text/plain": [
       "[2021-07-01 10:06:29.730106] INFO: derived_feature_extractor: 提取完成 (fs_common_equity_0+fs_non_current_liabilities_0)/fs_common_equity_0, 0.072s"
      ]
     },
     "metadata": {
      "is_log": true,
      "status": "INFO"
     },
     "output_type": "display_data"
    },
    {
     "data": {
      "text/plain": [
       "[2021-07-01 10:06:32.968396] INFO: derived_feature_extractor: /y_2018, 816987"
      ]
     },
     "metadata": {
      "is_log": true,
      "status": "INFO"
     },
     "output_type": "display_data"
    },
    {
     "data": {
      "text/plain": [
       "[2021-07-01 10:06:36.798654] INFO: derived_feature_extractor: /y_2019, 884867"
      ]
     },
     "metadata": {
      "is_log": true,
      "status": "INFO"
     },
     "output_type": "display_data"
    },
    {
     "data": {
      "text/plain": [
       "[2021-07-01 10:06:41.187012] INFO: derived_feature_extractor: /y_2020, 945961"
      ]
     },
     "metadata": {
      "is_log": true,
      "status": "INFO"
     },
     "output_type": "display_data"
    },
    {
     "data": {
      "text/plain": [
       "[2021-07-01 10:06:44.350256] INFO: derived_feature_extractor: /y_2021, 498736"
      ]
     },
     "metadata": {
      "is_log": true,
      "status": "INFO"
     },
     "output_type": "display_data"
    },
    {
     "data": {
      "text/plain": [
       "[2021-07-01 10:06:45.578377] INFO: moduleinvoker: derived_feature_extractor.v3 运行完成[27.882249s]."
      ]
     },
     "metadata": {
      "is_log": true,
      "status": "INFO"
     },
     "output_type": "display_data"
    },
    {
     "data": {
      "text/plain": [
       "[2021-07-01 10:06:45.583445] INFO: moduleinvoker: chinaa_stock_filter.v1 开始运行.."
      ]
     },
     "metadata": {
      "is_log": true,
      "status": "INFO"
     },
     "output_type": "display_data"
    },
    {
     "data": {
      "text/plain": [
       "[2021-07-01 10:06:55.085286] INFO: A股股票过滤: 过滤 /y_2018, 70202/746785/816987"
      ]
     },
     "metadata": {
      "is_log": true,
      "status": "INFO"
     },
     "output_type": "display_data"
    },
    {
     "data": {
      "text/plain": [
       "[2021-07-01 10:07:08.908302] INFO: A股股票过滤: 过滤 /y_2019, 72865/812002/884867"
      ]
     },
     "metadata": {
      "is_log": true,
      "status": "INFO"
     },
     "output_type": "display_data"
    },
    {
     "data": {
      "text/plain": [
       "[2021-07-01 10:07:23.000157] INFO: A股股票过滤: 过滤 /y_2020, 72763/873198/945961"
      ]
     },
     "metadata": {
      "is_log": true,
      "status": "INFO"
     },
     "output_type": "display_data"
    },
    {
     "data": {
      "text/plain": [
       "[2021-07-01 10:07:31.851887] INFO: A股股票过滤: 过滤 /y_2021, 35347/463389/498736"
      ]
     },
     "metadata": {
      "is_log": true,
      "status": "INFO"
     },
     "output_type": "display_data"
    },
    {
     "data": {
      "text/plain": [
       "[2021-07-01 10:07:31.859245] INFO: A股股票过滤: 过滤完成, 251177 + 2895374"
      ]
     },
     "metadata": {
      "is_log": true,
      "status": "INFO"
     },
     "output_type": "display_data"
    },
    {
     "data": {
      "text/plain": [
       "[2021-07-01 10:07:36.790339] INFO: moduleinvoker: chinaa_stock_filter.v1 运行完成[51.206883s]."
      ]
     },
     "metadata": {
      "is_log": true,
      "status": "INFO"
     },
     "output_type": "display_data"
    },
    {
     "data": {
      "text/plain": [
       "[2021-07-01 10:07:36.799984] INFO: moduleinvoker: cached.v3 开始运行.."
      ]
     },
     "metadata": {
      "is_log": true,
      "status": "INFO"
     },
     "output_type": "display_data"
    },
    {
     "data": {
      "text/plain": [
       "[2021-07-01 10:08:34.396747] INFO: moduleinvoker: cached.v3 运行完成[57.596756s]."
      ]
     },
     "metadata": {
      "is_log": true,
      "status": "INFO"
     },
     "output_type": "display_data"
    },
    {
     "data": {
      "text/plain": [
       "[2021-07-01 10:08:34.400255] INFO: moduleinvoker: winsorize.v6 开始运行.."
      ]
     },
     "metadata": {
      "is_log": true,
      "status": "INFO"
     },
     "output_type": "display_data"
    },
    {
     "data": {
      "text/plain": [
       "[2021-07-01 10:09:01.147831] INFO: moduleinvoker: winsorize.v6 运行完成[26.747538s]."
      ]
     },
     "metadata": {
      "is_log": true,
      "status": "INFO"
     },
     "output_type": "display_data"
    },
    {
     "data": {
      "text/plain": [
       "[2021-07-01 10:09:01.151339] INFO: moduleinvoker: standardlize.v8 开始运行.."
      ]
     },
     "metadata": {
      "is_log": true,
      "status": "INFO"
     },
     "output_type": "display_data"
    },
    {
     "data": {
      "text/plain": [
       "[2021-07-01 10:09:11.725317] INFO: moduleinvoker: standardlize.v8 运行完成[10.573945s]."
      ]
     },
     "metadata": {
      "is_log": true,
      "status": "INFO"
     },
     "output_type": "display_data"
    },
    {
     "data": {
      "text/plain": [
       "[2021-07-01 10:09:11.745093] INFO: moduleinvoker: cached.v3 开始运行.."
      ]
     },
     "metadata": {
      "is_log": true,
      "status": "INFO"
     },
     "output_type": "display_data"
    },
    {
     "data": {
      "text/plain": [
       "[2021-07-01 10:11:12.999578] INFO: moduleinvoker: cached.v3 运行完成[121.2545s]."
      ]
     },
     "metadata": {
      "is_log": true,
      "status": "INFO"
     },
     "output_type": "display_data"
    },
    {
     "data": {
      "text/plain": [
       "[2021-07-01 10:11:13.004758] INFO: moduleinvoker: cached.v3 开始运行.."
      ]
     },
     "metadata": {
      "is_log": true,
      "status": "INFO"
     },
     "output_type": "display_data"
    },
    {
     "data": {
      "text/plain": [
       "[2021-07-01 10:11:13.317029] INFO: moduleinvoker: cached.v3 运行完成[0.312267s]."
      ]
     },
     "metadata": {
      "is_log": true,
      "status": "INFO"
     },
     "output_type": "display_data"
    },
    {
     "data": {
      "text/html": [
       "<div id=\"bigchart-09e4a42bc3da48f48056183ec6fd6b4b\" class=\"bigchart\"></div><div class=\"bigchart-data\"><pre style=\"display:none\">bigcharts-data-start/{\"chart\":{\"height\":500,\"type\":\"column\",\"renderTo\":\"bigchart-09e4a42bc3da48f48056183ec6fd6b4b\"},\"legend\":{\"enabled\":true},\"title\":{\"text\":\"\\u5e02\\u503c\\u52a0\\u6743\\u7684\\u7ec4\\u5408\\u98ce\\u683c\\u56e0\\u5b50\\u66b4\\u9732\"},\"stock\":true,\"series\":[{\"name\":\"Size \\u89c4\\u6a21\",\"yAxis\":0,\"data\":[[1622419200000,0.0039]]},{\"name\":\"Value \\u8d26\\u9762\\u5e02\\u503c\\u6bd4\",\"yAxis\":0,\"data\":[[1622419200000,0.0022]]},{\"name\":\"Beta\",\"yAxis\":0,\"data\":[[1622419200000,-0.0048]]},{\"name\":\"Growth \\u6210\\u957f\\u6027\",\"yAxis\":0,\"data\":[[1622419200000,-0.0008]]},{\"name\":\"Momentum \\u52a8\\u91cf\",\"yAxis\":0,\"data\":[[1622419200000,0.0059]]},{\"name\":\"Volatility \\u6b8b\\u4f59\\u6ce2\\u52a8\\u7387\",\"yAxis\":0,\"data\":[[1622419200000,0.0007]]},{\"name\":\"EarningYields \\u76c8\\u5229\\u7387\",\"yAxis\":0,\"data\":[[1622419200000,0.0043]]},{\"name\":\"Leverage \\u6760\\u6746\\u7387\",\"yAxis\":0,\"data\":[[1622419200000,-0.0023]]},{\"name\":\"Liquidity \\u6d41\\u52a8\\u6027\",\"yAxis\":0,\"data\":[[1622419200000,0.002]]}],\"xAxis\":{\"type\":\"datetime\"}}/bigcharts-data-end</pre></div>"
      ],
      "text/plain": [
       "<IPython.core.display.HTML object>"
      ]
     },
     "metadata": {},
     "output_type": "display_data"
    },
    {
     "data": {
      "text/plain": [
       "[2021-07-01 10:11:13.350023] INFO: moduleinvoker: plot_dataframe.v1 运行完成[0.029891s]."
      ]
     },
     "metadata": {
      "is_log": true,
      "status": "INFO"
     },
     "output_type": "display_data"
    },
    {
     "data": {
      "text/html": [
       "<div id=\"bigchart-7a77265f1b1c47b1aaf7dd5cbbadf41b\" class=\"bigchart\"></div><div class=\"bigchart-data\"><pre style=\"display:none\">bigcharts-data-start/{\"chart\":{\"height\":500,\"type\":\"column\",\"renderTo\":\"bigchart-7a77265f1b1c47b1aaf7dd5cbbadf41b\"},\"legend\":{\"enabled\":true},\"title\":{\"text\":\"\\u5e02\\u503c\\u52a0\\u6743\\u7684\\u7ec4\\u5408\\u98ce\\u683c\\u56e0\\u5b50\\u6536\\u76ca\\u7387\"},\"stock\":true,\"series\":[{\"name\":\"Size \\u89c4\\u6a21\",\"yAxis\":0,\"data\":[[1622419200000,0.0035]]},{\"name\":\"Value \\u8d26\\u9762\\u5e02\\u503c\\u6bd4\",\"yAxis\":0,\"data\":[[1622419200000,-0.0071]]},{\"name\":\"Beta\",\"yAxis\":0,\"data\":[[1622419200000,0.0263]]},{\"name\":\"Growth \\u6210\\u957f\\u6027\",\"yAxis\":0,\"data\":[[1622419200000,0.0019]]},{\"name\":\"Momentum \\u52a8\\u91cf\",\"yAxis\":0,\"data\":[[1622419200000,0.0146]]},{\"name\":\"Volatility \\u6b8b\\u4f59\\u6ce2\\u52a8\\u7387\",\"yAxis\":0,\"data\":[[1622419200000,-0.0433]]},{\"name\":\"EarningYields \\u76c8\\u5229\\u7387\",\"yAxis\":0,\"data\":[[1622419200000,-0.0144]]},{\"name\":\"Leverage \\u6760\\u6746\\u7387\",\"yAxis\":0,\"data\":[[1622419200000,0.0115]]},{\"name\":\"Liquidity \\u6d41\\u52a8\\u6027\",\"yAxis\":0,\"data\":[[1622419200000,0.0134]]}],\"xAxis\":{\"type\":\"datetime\"}}/bigcharts-data-end</pre></div>"
      ],
      "text/plain": [
       "<IPython.core.display.HTML object>"
      ]
     },
     "metadata": {},
     "output_type": "display_data"
    },
    {
     "data": {
      "text/plain": [
       "[2021-07-01 10:11:13.374346] INFO: moduleinvoker: plot_dataframe.v1 运行完成[0.021597s]."
      ]
     },
     "metadata": {
      "is_log": true,
      "status": "INFO"
     },
     "output_type": "display_data"
    },
    {
     "data": {
      "text/html": [
       "<div id=\"bigchart-5cdaa02f7fda49d58e247e77ee2061c3\" class=\"bigchart\"></div><div class=\"bigchart-data\"><pre style=\"display:none\">bigcharts-data-start/{\"chart\":{\"height\":500,\"type\":\"column\",\"renderTo\":\"bigchart-5cdaa02f7fda49d58e247e77ee2061c3\"},\"legend\":{\"enabled\":true},\"title\":{\"text\":\"\\u5e02\\u503c\\u52a0\\u6743\\u7684\\u6caa\\u6df1300\\u98ce\\u683c\\u56e0\\u5b50\\u6536\\u76ca\\u7387\"},\"stock\":true,\"series\":[{\"name\":\"Size \\u89c4\\u6a21\",\"yAxis\":0,\"data\":[[1622419200000,-0.0033]]},{\"name\":\"Value \\u8d26\\u9762\\u5e02\\u503c\\u6bd4\",\"yAxis\":0,\"data\":[[1622419200000,-0.0035]]},{\"name\":\"Beta\",\"yAxis\":0,\"data\":[[1622419200000,0.0129]]},{\"name\":\"Growth \\u6210\\u957f\\u6027\",\"yAxis\":0,\"data\":[[1622419200000,0.0094]]},{\"name\":\"Momentum \\u52a8\\u91cf\",\"yAxis\":0,\"data\":[[1622419200000,0.0086]]},{\"name\":\"Volatility \\u6b8b\\u4f59\\u6ce2\\u52a8\\u7387\",\"yAxis\":0,\"data\":[[1622419200000,-0.0009]]},{\"name\":\"EarningYields \\u76c8\\u5229\\u7387\",\"yAxis\":0,\"data\":[[1622419200000,0.007]]},{\"name\":\"Leverage \\u6760\\u6746\\u7387\",\"yAxis\":0,\"data\":[[1622419200000,-0.0178]]},{\"name\":\"Liquidity \\u6d41\\u52a8\\u6027\",\"yAxis\":0,\"data\":[[1622419200000,0.0063]]}],\"xAxis\":{\"type\":\"datetime\"}}/bigcharts-data-end</pre></div>"
      ],
      "text/plain": [
       "<IPython.core.display.HTML object>"
      ]
     },
     "metadata": {},
     "output_type": "display_data"
    },
    {
     "data": {
      "text/plain": [
       "[2021-07-01 10:11:13.395838] INFO: moduleinvoker: plot_dataframe.v1 运行完成[0.01892s]."
      ]
     },
     "metadata": {
      "is_log": true,
      "status": "INFO"
     },
     "output_type": "display_data"
    },
    {
     "data": {
      "text/plain": [
       "[2021-07-01 10:11:13.401488] INFO: moduleinvoker: cached.v3 开始运行.."
      ]
     },
     "metadata": {
      "is_log": true,
      "status": "INFO"
     },
     "output_type": "display_data"
    },
    {
     "data": {
      "text/plain": [
       "[2021-07-01 10:11:14.527561] INFO: moduleinvoker: cached.v3 运行完成[1.12606s]."
      ]
     },
     "metadata": {
      "is_log": true,
      "status": "INFO"
     },
     "output_type": "display_data"
    },
    {
     "data": {
      "text/html": [
       "<div id=\"bigchart-36809d7f1dbc45dda65d8be6fbc4e5ea\" class=\"bigchart\"></div><div class=\"bigchart-data\"><pre style=\"display:none\">bigcharts-data-start/{\"chart\":{\"height\":500,\"type\":\"column\",\"renderTo\":\"bigchart-36809d7f1dbc45dda65d8be6fbc4e5ea\"},\"legend\":{\"enabled\":true},\"title\":{\"text\":\"\\u5e02\\u503c\\u52a0\\u6743\\u6caa\\u6df1300\\u98ce\\u683c\\u56e0\\u5b50\\u66b4\\u9732\\u5ea6\"},\"stock\":true,\"series\":[{\"name\":\"Size \\u89c4\\u6a21\",\"yAxis\":0,\"data\":[[1622419200000,0.0006]]},{\"name\":\"Value \\u8d26\\u9762\\u5e02\\u503c\\u6bd4\",\"yAxis\":0,\"data\":[[1622419200000,-0.0002]]},{\"name\":\"Beta\",\"yAxis\":0,\"data\":[[1622419200000,-0.0005]]},{\"name\":\"Growth \\u6210\\u957f\\u6027\",\"yAxis\":0,\"data\":[[1622419200000,-0.0002]]},{\"name\":\"Momentum \\u52a8\\u91cf\",\"yAxis\":0,\"data\":[[1622419200000,0.0004]]},{\"name\":\"Volatility \\u6b8b\\u4f59\\u6ce2\\u52a8\\u7387\",\"yAxis\":0,\"data\":[[1622419200000,-0.0004]]},{\"name\":\"EarningYields \\u76c8\\u5229\\u7387\",\"yAxis\":0,\"data\":[[1622419200000,0.0001]]},{\"name\":\"Leverage \\u6760\\u6746\\u7387\",\"yAxis\":0,\"data\":[[1622419200000,-0.0001]]},{\"name\":\"Liquidity \\u6d41\\u52a8\\u6027\",\"yAxis\":0,\"data\":[[1622419200000,0.0001]]}],\"xAxis\":{\"type\":\"datetime\"}}/bigcharts-data-end</pre></div>"
      ],
      "text/plain": [
       "<IPython.core.display.HTML object>"
      ]
     },
     "metadata": {},
     "output_type": "display_data"
    },
    {
     "data": {
      "text/plain": [
       "[2021-07-01 10:11:14.562144] INFO: moduleinvoker: plot_dataframe.v1 运行完成[0.028509s]."
      ]
     },
     "metadata": {
      "is_log": true,
      "status": "INFO"
     },
     "output_type": "display_data"
    },
    {
     "data": {
      "text/html": [
       "<div id=\"bigchart-ff53a72dc0f04e59a28b55e585348eee\" class=\"bigchart\"></div><div class=\"bigchart-data\"><pre style=\"display:none\">bigcharts-data-start/{\"chart\":{\"height\":500,\"type\":\"column\",\"renderTo\":\"bigchart-ff53a72dc0f04e59a28b55e585348eee\"},\"legend\":{\"enabled\":true},\"title\":{\"text\":\"\\u5e02\\u503c\\u52a0\\u6743\\u7684\\u7ec4\\u5408\\u884c\\u4e1a\\u56e0\\u5b50\\u66b4\\u9732\"},\"stock\":true,\"series\":[{\"name\":\"\\u533b\\u836f\\u751f\\u7269\",\"yAxis\":0,\"data\":[[1622419200000,0.0612]]},{\"name\":\"\\u8f7b\\u5de5\\u5236\\u9020\",\"yAxis\":0,\"data\":[[1622419200000,0.0322]]},{\"name\":\"\\u673a\\u68b0\\u8bbe\\u5907\",\"yAxis\":0,\"data\":[[1622419200000,0.0093]]},{\"name\":\"\\u5316\\u5de5\",\"yAxis\":0,\"data\":[[1622419200000,0.0271]]},{\"name\":\"\\u7535\\u6c14\\u8bbe\\u5907\",\"yAxis\":0,\"data\":[[1622419200000,0.1583]]},{\"name\":\"\\u7535\\u5b50\",\"yAxis\":0,\"data\":[[1622419200000,0.0374]]},{\"name\":\"\\u975e\\u94f6\\u91d1\\u878d\",\"yAxis\":0,\"data\":[[1622419200000,0.0598]]},{\"name\":\"\\u623f\\u5730\\u4ea7\",\"yAxis\":0,\"data\":[[1622419200000,-0.0796]]},{\"name\":\"\\u98df\\u54c1\\u996e\\u6599\",\"yAxis\":0,\"data\":[[1622419200000,-0.0487]]},{\"name\":\"\\u94f6\\u884c\",\"yAxis\":0,\"data\":[[1622419200000,-0.0401]]},{\"name\":\"\\u6709\\u8272\\u91d1\\u5c5e\",\"yAxis\":0,\"data\":[[1622419200000,-0.0624]]},{\"name\":\"\\u6c7d\\u8f66\\/\\u4ea4\\u8fd0\\u8bbe\\u5907\",\"yAxis\":0,\"data\":[[1622419200000,0.2071]]},{\"name\":\"\\u4f20\\u5a92\\/\\u4fe1\\u606f\\u670d\\u52a1\",\"yAxis\":0,\"data\":[[1622419200000,-0.0524]]},{\"name\":\"\\u5bb6\\u7528\\u7535\\u5668\",\"yAxis\":0,\"data\":[[1622419200000,-0.0274]]},{\"name\":\"\\u5efa\\u7b51\\u6750\\u6599\\/\\u5efa\\u7b51\\u5efa\\u6750\",\"yAxis\":0,\"data\":[[1622419200000,-0.0946]]},{\"name\":\"\\u519c\\u6797\\u7267\\u6e14\",\"yAxis\":0,\"data\":[[1622419200000,-0.1163]]},{\"name\":\"\\u4f11\\u95f2\\u670d\\u52a1\",\"yAxis\":0,\"data\":[[1622419200000,-0.071]]}],\"xAxis\":{\"type\":\"datetime\"}}/bigcharts-data-end</pre></div>"
      ],
      "text/plain": [
       "<IPython.core.display.HTML object>"
      ]
     },
     "metadata": {},
     "output_type": "display_data"
    },
    {
     "data": {
      "text/plain": [
       "[2021-07-01 10:11:14.588776] INFO: moduleinvoker: plot_dataframe.v1 运行完成[0.023633s]."
      ]
     },
     "metadata": {
      "is_log": true,
      "status": "INFO"
     },
     "output_type": "display_data"
    },
    {
     "data": {
      "text/html": [
       "<div id=\"bigchart-5bb5dcd0adc64a32b5a09fa2b1fe0d2b\" class=\"bigchart\"></div><div class=\"bigchart-data\"><pre style=\"display:none\">bigcharts-data-start/{\"chart\":{\"height\":500,\"type\":\"column\",\"renderTo\":\"bigchart-5bb5dcd0adc64a32b5a09fa2b1fe0d2b\"},\"legend\":{\"enabled\":true},\"title\":{\"text\":\"\\u5e02\\u503c\\u52a0\\u6743\\u7684\\u6caa\\u6df1300\\u884c\\u4e1a\\u56e0\\u5b50\\u6536\\u76ca\\u7387\"},\"stock\":true,\"series\":[{\"name\":\"\\u533b\\u836f\\u751f\\u7269\",\"yAxis\":0,\"data\":[[1622419200000,-894621.1886]]},{\"name\":\"\\u901a\\u4fe1\",\"yAxis\":0,\"data\":[[1622419200000,-894621.1423]]},{\"name\":\"\\u5316\\u5de5\",\"yAxis\":0,\"data\":[[1622419200000,-894621.1517]]},{\"name\":\"\\u7535\\u6c14\\u8bbe\\u5907\",\"yAxis\":0,\"data\":[[1622419200000,-894621.0957]]},{\"name\":\"\\u5bb6\\u7528\\u7535\\u5668\",\"yAxis\":0,\"data\":[[1622419200000,-894621.2077]]},{\"name\":\"\\u4f11\\u95f2\\u670d\\u52a1\",\"yAxis\":0,\"data\":[[1622419200000,-894621.2341]]},{\"name\":\"\\u5efa\\u7b51\\u88c5\\u9970\",\"yAxis\":0,\"data\":[[1622419200000,-894621.1106]]},{\"name\":\"\\u91c7\\u6398\",\"yAxis\":0,\"data\":[[1622419200000,-894621.1201]]},{\"name\":\"\\u7efc\\u5408\",\"yAxis\":0,\"data\":[[1622419200000,148859591555.1027]]},{\"name\":\"\\u5546\\u4e1a\\u8d38\\u6613\",\"yAxis\":0,\"data\":[[1622419200000,-894621.3329]]},{\"name\":\"\\u94a2\\u94c1\",\"yAxis\":0,\"data\":[[1622419200000,-894621.2145]]},{\"name\":\"\\u98df\\u54c1\\u996e\\u6599\",\"yAxis\":0,\"data\":[[1622419200000,-894621.228]]},{\"name\":\"\\u6709\\u8272\\u91d1\\u5c5e\",\"yAxis\":0,\"data\":[[1622419200000,-894621.2274]]},{\"name\":\"\\u56fd\\u9632\\u519b\\u5de5\",\"yAxis\":0,\"data\":[[1622419200000,-894621.1644]]},{\"name\":\"\\u6c7d\\u8f66\\/\\u4ea4\\u8fd0\\u8bbe\\u5907\",\"yAxis\":0,\"data\":[[1622419200000,-894621.0593]]},{\"name\":\"\\u519c\\u6797\\u7267\\u6e14\",\"yAxis\":0,\"data\":[[1622419200000,-894621.161]]},{\"name\":\"\\u516c\\u7528\\u4e8b\\u4e1a\",\"yAxis\":0,\"data\":[[1622419200000,-894621.1524]]},{\"name\":\"\\u673a\\u68b0\\u8bbe\\u5907\",\"yAxis\":0,\"data\":[[1622419200000,-894621.1388]]},{\"name\":\"\\u7535\\u5b50\",\"yAxis\":0,\"data\":[[1622419200000,-894621.0673]]},{\"name\":\"\\u975e\\u94f6\\u91d1\\u878d\",\"yAxis\":0,\"data\":[[1622419200000,-894621.1885]]},{\"name\":\"\\u94f6\\u884c\",\"yAxis\":0,\"data\":[[1622419200000,-894621.1946]]},{\"name\":\"\\u5efa\\u7b51\\u6750\\u6599\\/\\u5efa\\u7b51\\u5efa\\u6750\",\"yAxis\":0,\"data\":[[1622419200000,-894621.2853]]},{\"name\":\"\\u8f7b\\u5de5\\u5236\\u9020\",\"yAxis\":0,\"data\":[[1622419200000,-894621.1726]]},{\"name\":\"\\u7eba\\u7ec7\\u670d\\u88c5\",\"yAxis\":0,\"data\":[[1622419200000,-102413265669.7598]]},{\"name\":\"\\u623f\\u5730\\u4ea7\",\"yAxis\":0,\"data\":[[1622419200000,-894621.2301]]},{\"name\":\"\\u4f20\\u5a92\\/\\u4fe1\\u606f\\u670d\\u52a1\",\"yAxis\":0,\"data\":[[1622419200000,-894621.1998]]},{\"name\":\"\\u4ea4\\u901a\\u8fd0\\u8f93\",\"yAxis\":0,\"data\":[[1622419200000,-894621.1708]]},{\"name\":\"\\u8ba1\\u7b97\\u673a\",\"yAxis\":0,\"data\":[[1622419200000,-894621.1755]]}],\"xAxis\":{\"type\":\"datetime\"}}/bigcharts-data-end</pre></div>"
      ],
      "text/plain": [
       "<IPython.core.display.HTML object>"
      ]
     },
     "metadata": {},
     "output_type": "display_data"
    },
    {
     "data": {
      "text/plain": [
       "[2021-07-01 10:11:14.646333] INFO: moduleinvoker: plot_dataframe.v1 运行完成[0.054994s]."
      ]
     },
     "metadata": {
      "is_log": true,
      "status": "INFO"
     },
     "output_type": "display_data"
    }
   ],
   "source": [
    "# 本代码由可视化策略环境自动生成 2021年7月2日11:13\n",
    "# 本代码单元只能在可视化模式下编辑。您也可以拷贝代码，粘贴到新建的代码单元或者策略，然后修改。\n",
    "\n",
    "\n",
    "# Python 代码入口函数，input_1/2/3 对应三个输入端，data_1/2/3 对应三个输出端\n",
    "def m4_run_bigquant_run(input_1, input_2, input_3):\n",
    "    # 示例代码如下。在这里编写您的代码\n",
    "    df = pd.DataFrame({'data': [1, 2, 3]})\n",
    "    materials = input_1.read()#m6.data.read()\n",
    "    materials = materials.set_index('date')\n",
    "    \n",
    "    temporary_storage_dict = dict()\n",
    "    temporary_storage_dict['STOM'] = materials.groupby('instrument')['turn_0'].rolling(21).sum().apply(lambda x:np.log(x)).reset_index().set_index('date').rename(columns={'turn_0':'STOM'})\n",
    "    temporary_storage_dict['STOQ'] = temporary_storage_dict['STOM'].groupby('instrument').apply(lambda x:np.exp(x['STOM'])).rolling(3).mean().apply(lambda x:np.log(x)).reset_index().set_index('date').rename(columns={'STOM':'STOQ'})\n",
    "    temporary_storage_dict['STOA'] = temporary_storage_dict['STOM'].groupby('instrument').apply(lambda x:np.exp(x['STOM'])).rolling(12).mean().apply(lambda x:np.log(x)).reset_index().set_index('date').rename(columns={'STOM':'STOA'})\n",
    "\n",
    "    temporary_storage_dict['MLEV'] = materials[['instrument','(fs_non_current_liabilities_0+market_cap_0)/market_cap_0']].rename(columns={'(fs_non_current_liabilities_0+market_cap_0)/market_cap_0':'MLEV'})\n",
    "    temporary_storage_dict['DTOA'] = materials[['instrument','fs_total_liability_0/(fs_current_assets_0+fs_non_current_assets_0)']].rename(columns={'fs_total_liability_0/(fs_current_assets_0+fs_non_current_assets_0)':'DTOA'})\n",
    "    temporary_storage_dict['BLEV'] = materials[['instrument','(fs_common_equity_0+fs_non_current_liabilities_0)/fs_common_equity_0']].rename(columns={'(fs_common_equity_0+fs_non_current_liabilities_0)/fs_common_equity_0':'BLEV'})\n",
    "\n",
    "    temporary_storage_dict['Value'] = materials[['instrument','fs_common_equity_0/market_cap_0']].rename(columns={'fs_common_equity_0/market_cap_0':'Value'})\n",
    "\n",
    "    temporary_storage_dict['Growth'] = materials[['instrument','fs_net_profit_yoy_0']].rename(columns={'fs_net_profit_yoy_0':'Growth'})\n",
    "\n",
    "    temporary_storage_dict['EPIBS'] = materials[['instrument','west_eps_ftm_0/close_0']].rename(columns={'west_eps_ftm_0/close_0':'EPIBS'})\n",
    "    temporary_storage_dict['ETOP'] = materials[['instrument','fs_net_income_0/market_cap_0']].rename(columns={'fs_net_income_0/market_cap_0':'ETOP'})\n",
    "    temporary_storage_dict['CETOP'] = materials[['instrument','fs_eps_0/close_0']].rename(columns={'fs_eps_0/close_0':'CETOP'})\n",
    "\n",
    "    temporary_storage_dict['DASTD'] = materials[['instrument','volatility_240_0']].rename(columns={'volatility_240_0':'DASTD'})\n",
    "    temporary_storage_dict['GMRA'] = materials.groupby('instrument')['return_20'].rolling(12).apply(lambda x:np.log(1+np.max(x))-np.log(1+np.min(x))).reset_index().set_index('date').rename(columns={'return_20':'GMRA'})\n",
    "\n",
    "    temporary_storage_dict['Size'] = materials[['instrument','log(market_cap_0+0.0001)']].rename(columns={'log(market_cap_0+0.0001)':'Size'})\n",
    "\n",
    "    temporary_storage_dict['Momentum'] = materials[['instrument','ta_mom_60_0']].rename(columns={'ta_mom_60_0':'Momentum'})\n",
    "\n",
    "    temporary_storage_dict['Beta'] = materials[['instrument','beta_csi500_180_0']].rename(columns={'beta_csi500_180_0':'Beta'})\n",
    "    \n",
    "    for i in list(set(temporary_storage_dict.keys())):\n",
    "        temporary_storage_dict[i] = temporary_storage_dict[i].reset_index()\n",
    "\n",
    "    initiate_factor_df  = temporary_storage_dict['STOM']  # 这里我们先取STOM因子数据\n",
    "    tmp_raw_factor_name = list(set(temporary_storage_dict.keys()).difference(['STOM']))\n",
    "    for i in tmp_raw_factor_name:\n",
    "        initiate_factor_df = initiate_factor_df.merge(temporary_storage_dict[i], ) # 共18列\n",
    "    \n",
    "#    print(initiate_factor_df.head(3))\n",
    "    data_1 = DataSource.write_df(initiate_factor_df)\n",
    "\n",
    "    return Outputs(data_1=data_1, data_2=None, data_3=None)\n",
    "\n",
    "# 后处理函数，可选。输入是主函数的输出，可以在这里对数据做处理，或者返回更友好的outputs数据格式。此函数输出不会被缓存。\n",
    "def m4_post_run_bigquant_run(outputs):\n",
    "    return outputs\n",
    "\n",
    "# Python 代码入口函数，input_1/2/3 对应三个输入端，data_1/2/3 对应三个输出端\n",
    "def m9_run_bigquant_run(input_1, input_2, input_3):\n",
    "    # 示例代码如下。在这里编写您的代码\n",
    "    df = pd.DataFrame({'data': [1, 2, 3]})\n",
    "    extrema_remove_df = input_1.read()\n",
    "    \n",
    "    ins = list(extrema_remove_df.instrument.unique())\n",
    "    industry_info = D.history_data(ins, extrema_remove_df.iloc[0,0], extrema_remove_df.iloc[-1,0], ['industry_sw_level1','market_cap', 'market_cap_float'])\n",
    "    industry_info['market_cap_float'] = np.log10(industry_info['market_cap_float'])  # 对市值因子取对数\n",
    "\n",
    "    industry_df = industry_info[(industry_info.industry_sw_level1!=0)&(industry_info.industry_sw_level1!=-1)].set_index('date')  # 取出其中有行业分类的条目，如果行业划分是0或者-1就算了，代表无划分\n",
    "\n",
    "    industry_df = industry_df.groupby('instrument').apply(lambda x: x.resample('M').last())\n",
    "    industry_df.index = industry_df.index.droplevel(0)\n",
    "    industry_df.reset_index(inplace=True)\n",
    "    \n",
    "    # 风格因子数据转换成月度，并与市值行业数据的拼接， 并把行业因子转换成dummy数据 \n",
    "    extrema_remove_df.set_index('date', inplace=True)\n",
    "    extrema_remove_df = extrema_remove_df.groupby('instrument').apply(lambda x: x.resample('M').last())  # pandas 处理时间序列数据，将原始数据转换为月末数据\n",
    "    extrema_remove_df.index = extrema_remove_df.index.droplevel(0)\n",
    "    extrema_remove_df.reset_index(inplace=True)\n",
    "\n",
    "    extrema_remove_df = extrema_remove_df.merge(industry_df, on=['date', 'instrument']) # 风格因子数据和市值行业数据拼接\n",
    "\n",
    "    # 截面缺失值数据使用行业均值填充\n",
    "    extrema_remove_df = extrema_remove_df.groupby(['date', 'industry_sw_level1']).apply(lambda t: t.fillna(np.mean(t, axis=0)))\n",
    "    extrema_remove_df.reset_index(inplace=True, drop=True)\n",
    "\n",
    "    # 行业属性数据哑变量\n",
    "    extrema_remove_df['industry_sw_level1'] = extrema_remove_df['industry_sw_level1'].astype('int').astype('str')\n",
    "    dummy_industry_df = pd.get_dummies(extrema_remove_df['industry_sw_level1'], prefix='industry_prefix')  # prefix, get_dummies转换后，列名的前缀\n",
    "\n",
    "    # 哑变量与截面数据进行横向拼接\n",
    "    merge_df = pd.concat([extrema_remove_df, dummy_industry_df], axis=1).sort_values(['date', 'instrument'])  # 原始的行业因子那列应该还在\n",
    "    \n",
    "    from sklearn.linear_model import LinearRegression\n",
    "    # 行业中性化处理和市值中性化处理\n",
    "    def calcu_single_factor(df, factor):\n",
    "        industry_factor = [i for i in df.columns if i[:15]=='industry_prefix']  # 列出所有的行业因子column\n",
    "        # 对市值因子和行业因子进行回归\n",
    "        xvars = ['market_cap_float'] + industry_factor\n",
    "        used_factors = xvars + [factor] + ['instrument']\n",
    "        used_factors_df = df[used_factors]\n",
    "        used_factors_df = used_factors_df[~used_factors_df.isnull().T.any().T]  # 检查控制，返回是否至少一个元素为真的行\n",
    "        if len(used_factors_df) == 0:\n",
    "            return None\n",
    "        X = used_factors_df[xvars].astype(float)\n",
    "        y = used_factors_df[factor].astype(float)\n",
    "        reg = LinearRegression()  \n",
    "        try:\n",
    "            reg.fit(X,y)   # 将行业因子因子和市值因子对特定因子作回归  given x, get y from the model y = b0+b1x\n",
    "            res = y-reg.predict(X)\n",
    "            used_factors_df[factor] = res  # 残差即为中性化处理后的结果\n",
    "        except ValueError as e:\n",
    "            used_factors_df[factor] = np.nan \n",
    "        return used_factors_df[['instrument',factor]]\n",
    "\n",
    "    # 标准化处理\n",
    "    def standardlize(x):\n",
    "        return (x-x.mean())/x.std()\n",
    "\n",
    "    factor_data_after_neutralize = pd.DataFrame(columns=['date','instrument'])\n",
    "    detail_style_factor = [m for m in extrema_remove_df.columns if m not in ['date','instrument','market_cap','market_cap_float']]\n",
    "    \n",
    "#    print(detail_style_factor)\n",
    "#    print(merge_df.info())\n",
    "    # 对风格因子进行市值中性化处理,共计16个风格因子\n",
    "    for factor in detail_style_factor: \n",
    "        result_temp = merge_df.groupby('date').apply(lambda x: calcu_single_factor(x, factor)).reset_index().drop('level_1',axis=1)\n",
    "        factor_data_after_neutralize = factor_data_after_neutralize.merge(result_temp, on=['date', 'instrument'], how='outer')\n",
    "\n",
    "    for factor in detail_style_factor:\n",
    "        factor_data_after_neutralize[factor] = factor_data_after_neutralize.groupby('date')[factor].apply(standardlize)\n",
    "\n",
    "    # 用0值填充标准化后的缺失值 \n",
    "    factor_data_after_standard = factor_data_after_neutralize.fillna(0)\n",
    "    \n",
    "    # 获取股票价格并月度化\n",
    "    start = factor_data_after_standard.date.min().strftime('%Y-%m-%d')\n",
    "    end = factor_data_after_standard.date.max().strftime('%Y-%m-%d')\n",
    "    ins = list(set(factor_data_after_standard.instrument))\n",
    "\n",
    "    price = DataSource('bar1d_CN_STOCK_A').read(ins, start_date=start, end_date=end, fields=['close'])\n",
    "    price.rename(columns={'close':'price'}, inplace=True)\n",
    "    price = price.set_index('date').groupby('instrument').apply(lambda x: x.resample('M').last())\n",
    "    price.index = price.index.droplevel(0)\n",
    "    price.fillna(method='ffill', inplace=True)\n",
    "    price.reset_index(inplace=True)\n",
    "    \n",
    "    # 通过价格计算收益率并合成大类风格因子\n",
    "    tmp_factor = [m for m in merge_df.columns if m not in ['market_cap_float', 'industry_sw_level1']]  # \n",
    "    industry_prefix_factor = list(set(tmp_factor).difference(set(detail_style_factor)))  # industry_prefix_factor  是date instrument 和行业因子,共计30个因子. set()用于寻找不重复的list元素\n",
    "    # industry_prefix_factor.append('market_cap')\n",
    "\n",
    "    # 构建一个总的数据表, 合并行业因子和价格\n",
    "    monthly_style_and_industry_factor = factor_data_after_standard.merge(price, on=['date', 'instrument'], how='inner')\n",
    "    monthly_style_and_industry_factor = monthly_style_and_industry_factor.merge(merge_df[industry_prefix_factor], on=['date', 'instrument'], how='inner').set_index('date')  \n",
    "    # monthly_style_and_industry_factor = monthly_style_and_industry_factor.merge(merge_df, on=['date', 'instrument'], how='inner').set_index('date')  \n",
    "\n",
    "    # 计算出收益率\n",
    "    monthly_style_and_industry_factor.reset_index(inplace=True)\n",
    "\n",
    "    monthly_price_df = monthly_style_and_industry_factor.pivot_table(values='price',columns='instrument',index='date')\n",
    "    monthly_style_and_industry_factor = monthly_style_and_industry_factor.merge(monthly_price_df.pct_change().shift(-1).unstack().to_frame('return').reset_index(),on=['date','instrument'])\n",
    "    monthly_style_and_industry_factor = monthly_style_and_industry_factor.dropna()\n",
    "\n",
    "    # 小因子等权重合并成大因子, 这里未来可以采取IC_IR法\n",
    "    monthly_style_and_industry_factor['Volatility'] = (monthly_style_and_industry_factor['DASTD']+monthly_style_and_industry_factor['GMRA'])/2\n",
    "    monthly_style_and_industry_factor['EarningYields'] = (monthly_style_and_industry_factor['EPIBS']+monthly_style_and_industry_factor['ETOP']+monthly_style_and_industry_factor['CETOP'])/3\n",
    "    monthly_style_and_industry_factor['Leverage'] = (monthly_style_and_industry_factor['MLEV']+monthly_style_and_industry_factor['BLEV']+monthly_style_and_industry_factor['DTOA'])/3\n",
    "    monthly_style_and_industry_factor['Liquidity'] = (monthly_style_and_industry_factor['STOM']+monthly_style_and_industry_factor['STOQ']+monthly_style_and_industry_factor['STOA'])/3\n",
    "    monthly_style_and_industry_factor.drop(['DASTD','GMRA','EPIBS','ETOP','CETOP','MLEV','BLEV','DTOA','STOM','STOQ','STOA'], axis=1, inplace=True)\n",
    "    monthly_style_and_industry_factor.rename(columns={'Size':'Size 规模','Value':'Value 账面市值比','Growth':'Growth 成长性','Momentum':'Momentum 动量','Volatility':'Volatility 残余波动率','EarningYields':'EarningYields 盈利率','Leverage':'Leverage 杠杆率', 'Liquidity':'Liquidity 流动性'}, inplace=True)\n",
    "\n",
    "    # 计算按市值加权的风格因子暴露度\n",
    "    monthly_style_and_industry_factor_exp = monthly_style_and_industry_factor[['date', 'instrument', 'market_cap', 'Size 规模','Value 账面市值比','Beta','Growth 成长性','Momentum 动量','Volatility 残余波动率','EarningYields 盈利率','Leverage 杠杆率', 'Liquidity 流动性']]\n",
    "    day_list = list(set(monthly_style_and_industry_factor_exp.date))\n",
    "    monthly_style_and_industry_factor_exp_cap = pd.DataFrame(columns=['date', 'Size 规模','Value 账面市值比','Beta','Growth 成长性','Momentum 动量','Volatility 残余波动率','EarningYields 盈利率','Leverage 杠杆率', 'Liquidity 流动性'])\n",
    "\n",
    "    for i in range(len(day_list)):\n",
    "        temp_df = monthly_style_and_industry_factor_exp[monthly_style_and_industry_factor_exp['date']==day_list[i]]\n",
    "        market_sum = temp_df['market_cap'].sum()\n",
    "        temp_df['market_cap'] = temp_df['market_cap']/market_sum\n",
    "        column_list = [m for m in temp_df.columns if m not in ['date','instrument','market_cap']]\n",
    "        for j in range(len(column_list)):\n",
    "            temp_df[column_list[j]] = temp_df[column_list[j]] * temp_df['market_cap']\n",
    "        monthly_style_and_industry_factor_exp_cap.loc[i, 'date'] = day_list[i]\n",
    "        temp_df_mean = temp_df.mean()[1:]\n",
    "        for k in range(len(temp_df_mean)):\n",
    "            monthly_style_and_industry_factor_exp_cap.loc[i, temp_df_mean.keys()[k]] = temp_df_mean[k]\n",
    "    monthly_style_and_industry_factor_exp_cap = monthly_style_and_industry_factor_exp_cap.sort_values(by=['date'])\n",
    "    monthly_style_and_industry_factor_exp_cap.reset_index(inplace=True)\n",
    "    data_2 = DataSource.write_df(monthly_style_and_industry_factor_exp_cap)\n",
    "    \n",
    "    # 回归(这里包括九大风格因子和行业因子), 通过回归计算出每个股票的残差，即特质收益率\n",
    "    def calcu_factor_specified_return(df):\n",
    "        xvars = list(set(df.keys()).difference(['date','instrument','return','price']))\n",
    "        X = df[xvars].astype(float)\n",
    "        y = df['return'].astype(float)\n",
    "        reg = LinearRegression()\n",
    "        try:\n",
    "            reg.fit(X,y)\n",
    "            res = y-reg.predict(X)\n",
    "            df['specified_return'] = res\n",
    "        except ValueError as e:\n",
    "            df['specified_return'] = np.nan \n",
    "        return df\n",
    "\n",
    "    residual_ret = monthly_style_and_industry_factor.groupby('date').apply(lambda x: calcu_factor_specified_return(x))  # 横截面回归的groupby一定是基于date的\n",
    "    residual_ret = residual_ret[['instrument', 'date', 'specified_return']]    # 一致的\n",
    "    residual_ret.fillna(0, inplace=True)\n",
    "    residual_ret = residual_ret.sort_values('date').set_index('date')\n",
    "    \n",
    "    # 对收益率序列做回归,这里包括九大风格因子和行业因子 \n",
    "    C = dict()\n",
    "    end_month_date = list(set(monthly_style_and_industry_factor.date))\n",
    "    end_month_date.sort()\n",
    "\n",
    "    # 全部因子，包括28个行业因子和9个大类风格因子\n",
    "    # style_factor = ['Value','Growth','Size','Beta','Momentum','Volatility','EarningYields','Leverage','Liquidity']\n",
    "    style_factor = ['Size 规模','Value 账面市值比','Beta','Growth 成长性','Momentum 动量','Volatility 残余波动率','EarningYields 盈利率','Leverage 杠杆率', 'Liquidity 流动性']\n",
    "\n",
    "    all_industry_name = DataSource('basic_info_IndustrySw').read()\n",
    "    all_industry_name_sw1 = all_industry_name[all_industry_name['industry_sw_level']==1]\n",
    "    all_industry_name_sw1['code'] = 'industry_prefix_' + all_industry_name_sw1['code']\n",
    "\n",
    "    all_factor_name = style_factor + all_industry_name_sw1['code'].to_list()  # 组合出完整的因子名称列表\n",
    "    \n",
    "    # 计算出风格因子收益率 \n",
    "    for dt in end_month_date:  \n",
    "        temp = monthly_style_and_industry_factor[monthly_style_and_industry_factor['date'] == dt]\n",
    "        X = np.array(temp[list(set(temp.columns.to_list()).intersection(set(all_factor_name)))])  # 顺序基于数据源\n",
    "        Y = temp['return'].values\n",
    "        reg = LinearRegression()\n",
    "        try:\n",
    "            reg.fit(X, Y)\n",
    "            C[dt] = reg.coef_\n",
    "        except ValueError as e:\n",
    "            C[dt] = np.nan\n",
    "\n",
    "    common_factor_ret = pd.DataFrame.from_dict(C, orient='index')\n",
    "    common_factor_ret.columns = list(set(temp.columns.to_list()).intersection(set(all_factor_name)))\n",
    "    common_factor_ret = common_factor_ret.sort_index()\n",
    "\n",
    "    # 计算出风格因子和行业因子的风险协方差矩阵,默认配置参数为36个周期\n",
    "    special_risk = residual_ret.groupby('instrument').apply(lambda x: x['specified_return'].fillna(0).rolling(36).var()).reset_index()  \n",
    "    common_risk = common_factor_ret.rolling(36).cov()\n",
    "    \n",
    "    # # 基准在行业上的暴露，即行业权重\n",
    "    # def get_bm_industry_exposure(start_date, end_date):    \n",
    "    #     index = DataSource('index_element_weight').read(start_date=start_date, end_date=end_date)  # 指数成分及权重数据\n",
    "    #     hs300_df = index[index['instrument_index'] == '000300.HIX']\n",
    "\n",
    "    #     industry_df = DataSource('industry_CN_STOCK_A').read(start_date=start_date, end_date=end_date, fields=['industry_sw_level1'])\n",
    "    #     hs300_industry_df = pd.merge(hs300_df, industry_df, how='inner', on=['date', 'instrument'])\n",
    "\n",
    "    #     bm_weight = hs300_industry_df.groupby(['date']).apply(get_weight).reset_index() \n",
    "    #     return bm_weight\n",
    "\n",
    "    # def get_weight(tmp):\n",
    "    #     return tmp[['industry_sw_level1', 'weight']].groupby('industry_sw_level1').sum()\n",
    "\n",
    "    # # 基准在风格因子上的暴露\n",
    "    # def get_bm_component(start_date, end_date):\n",
    "    #     index = DataSource('index_element_weight').read(start_date=start_date, end_date=end_date)\n",
    "    #     hs300_df = index[index['instrument_index'] == '000300.HIX']\n",
    "    #     return hs300_df\n",
    "\n",
    "    # bm_industry_exposure = get_bm_industry_exposure(start_date=start, end_date=end)\n",
    "    # bm_component = get_bm_component(start_date=start, end_date=end)\n",
    "    \n",
    "    \n",
    "    data_1 = DataSource.write_df(common_factor_ret)\n",
    "    # data_2 = DataSource.write_df(bm_industry_exposure)\n",
    "    # data_3 = DataSource.write_df(bm_component)\n",
    "    # return Outputs(data_1=data_1, data_2=data_2, data_3=data_3)\n",
    "    return Outputs(data_1=data_1, data_2=data_2, data_3=None)\n",
    "# 后处理函数，可选。输入是主函数的输出，可以在这里对数据做处理，或者返回更友好的outputs数据格式。此函数输出不会被缓存。\n",
    "def m9_post_run_bigquant_run(outputs):\n",
    "    return outputs\n",
    "\n",
    "# Python 代码入口函数，input_1/2/3 对应三个输入端，data_1/2/3 对应三个输出端\n",
    "def m12_run_bigquant_run(input_1, input_2, input_3):\n",
    "    # 示例代码如下。在这里编写您的代码\n",
    "    df = pd.DataFrame({'data': [1, 2, 3]})\n",
    "    materials = input_1.read()#m6.data.read()\n",
    "    materials = materials.set_index('date')\n",
    "    \n",
    "    temporary_storage_dict = dict()\n",
    "    temporary_storage_dict['STOM'] = materials.groupby('instrument')['turn_0'].rolling(21).sum().apply(lambda x:np.log(x)).reset_index().set_index('date').rename(columns={'turn_0':'STOM'})\n",
    "    temporary_storage_dict['STOQ'] = temporary_storage_dict['STOM'].groupby('instrument').apply(lambda x:np.exp(x['STOM'])).rolling(3).mean().apply(lambda x:np.log(x)).reset_index().set_index('date').rename(columns={'STOM':'STOQ'})\n",
    "    temporary_storage_dict['STOA'] = temporary_storage_dict['STOM'].groupby('instrument').apply(lambda x:np.exp(x['STOM'])).rolling(12).mean().apply(lambda x:np.log(x)).reset_index().set_index('date').rename(columns={'STOM':'STOA'})\n",
    "\n",
    "    temporary_storage_dict['MLEV'] = materials[['instrument','(fs_non_current_liabilities_0+market_cap_0)/market_cap_0']].rename(columns={'(fs_non_current_liabilities_0+market_cap_0)/market_cap_0':'MLEV'})\n",
    "    temporary_storage_dict['DTOA'] = materials[['instrument','fs_total_liability_0/(fs_current_assets_0+fs_non_current_assets_0)']].rename(columns={'fs_total_liability_0/(fs_current_assets_0+fs_non_current_assets_0)':'DTOA'})\n",
    "    temporary_storage_dict['BLEV'] = materials[['instrument','(fs_common_equity_0+fs_non_current_liabilities_0)/fs_common_equity_0']].rename(columns={'(fs_common_equity_0+fs_non_current_liabilities_0)/fs_common_equity_0':'BLEV'})\n",
    "\n",
    "    temporary_storage_dict['Value'] = materials[['instrument','fs_common_equity_0/market_cap_0']].rename(columns={'fs_common_equity_0/market_cap_0':'Value'})\n",
    "\n",
    "    temporary_storage_dict['Growth'] = materials[['instrument','fs_net_profit_yoy_0']].rename(columns={'fs_net_profit_yoy_0':'Growth'})\n",
    "\n",
    "    temporary_storage_dict['EPIBS'] = materials[['instrument','west_eps_ftm_0/close_0']].rename(columns={'west_eps_ftm_0/close_0':'EPIBS'})\n",
    "    temporary_storage_dict['ETOP'] = materials[['instrument','fs_net_income_0/market_cap_0']].rename(columns={'fs_net_income_0/market_cap_0':'ETOP'})\n",
    "    temporary_storage_dict['CETOP'] = materials[['instrument','fs_eps_0/close_0']].rename(columns={'fs_eps_0/close_0':'CETOP'})\n",
    "\n",
    "    temporary_storage_dict['DASTD'] = materials[['instrument','volatility_240_0']].rename(columns={'volatility_240_0':'DASTD'})\n",
    "    temporary_storage_dict['GMRA'] = materials.groupby('instrument')['return_20'].rolling(12).apply(lambda x:np.log(1+np.max(x))-np.log(1+np.min(x))).reset_index().set_index('date').rename(columns={'return_20':'GMRA'})\n",
    "\n",
    "    temporary_storage_dict['Size'] = materials[['instrument','log(market_cap_0+0.0001)']].rename(columns={'log(market_cap_0+0.0001)':'Size'})\n",
    "\n",
    "    temporary_storage_dict['Momentum'] = materials[['instrument','ta_mom_60_0']].rename(columns={'ta_mom_60_0':'Momentum'})\n",
    "\n",
    "    temporary_storage_dict['Beta'] = materials[['instrument','beta_csi500_180_0']].rename(columns={'beta_csi500_180_0':'Beta'})\n",
    "    \n",
    "    for i in list(set(temporary_storage_dict.keys())):\n",
    "        temporary_storage_dict[i] = temporary_storage_dict[i].reset_index()\n",
    "\n",
    "    initiate_factor_df  = temporary_storage_dict['STOM']  # 这里我们先取STOM因子数据\n",
    "    tmp_raw_factor_name = list(set(temporary_storage_dict.keys()).difference(['STOM']))\n",
    "    for i in tmp_raw_factor_name:\n",
    "        initiate_factor_df = initiate_factor_df.merge(temporary_storage_dict[i], ) # 共18列\n",
    "    \n",
    "#    print(initiate_factor_df.head(3))\n",
    "    data_1 = DataSource.write_df(initiate_factor_df)\n",
    "\n",
    "    return Outputs(data_1=data_1, data_2=None, data_3=None)\n",
    "\n",
    "# 后处理函数，可选。输入是主函数的输出，可以在这里对数据做处理，或者返回更友好的outputs数据格式。此函数输出不会被缓存。\n",
    "def m12_post_run_bigquant_run(outputs):\n",
    "    return outputs\n",
    "\n",
    "# Python 代码入口函数，input_1/2/3 对应三个输入端，data_1/2/3 对应三个输出端\n",
    "def m17_run_bigquant_run(input_1, input_2, input_3):\n",
    "    # 示例代码如下。在这里编写您的代码\n",
    "    df = pd.DataFrame({'data': [1, 2, 3]})\n",
    "    extrema_remove_df = input_1.read()\n",
    "    \n",
    "    ins = list(extrema_remove_df.instrument.unique())\n",
    "    industry_info = D.history_data(ins, extrema_remove_df.iloc[0,0], extrema_remove_df.iloc[-1,0], ['industry_sw_level1','market_cap', 'market_cap_float'])\n",
    "    industry_info['market_cap_float'] = np.log10(industry_info['market_cap_float'])  # 对市值因子取对数\n",
    "\n",
    "    industry_df = industry_info[(industry_info.industry_sw_level1!=0)&(industry_info.industry_sw_level1!=-1)].set_index('date')  # 取出其中有行业分类的条目，如果行业划分是0或者-1就算了，代表无划分\n",
    "\n",
    "    industry_df = industry_df.groupby('instrument').apply(lambda x: x.resample('M').last())\n",
    "    industry_df.index = industry_df.index.droplevel(0)\n",
    "    industry_df.reset_index(inplace=True)\n",
    "    \n",
    "    # 风格因子数据转换成月度，并与市值行业数据的拼接， 并把行业因子转换成dummy数据 \n",
    "    extrema_remove_df.set_index('date', inplace=True)\n",
    "    extrema_remove_df = extrema_remove_df.groupby('instrument').apply(lambda x: x.resample('M').last())  # pandas 处理时间序列数据，将原始数据转换为月末数据\n",
    "    extrema_remove_df.index = extrema_remove_df.index.droplevel(0)\n",
    "    extrema_remove_df.reset_index(inplace=True)\n",
    "\n",
    "    extrema_remove_df = extrema_remove_df.merge(industry_df, on=['date', 'instrument']) # 风格因子数据和市值行业数据拼接\n",
    "\n",
    "    # 截面缺失值数据使用行业均值填充\n",
    "    extrema_remove_df = extrema_remove_df.groupby(['date', 'industry_sw_level1']).apply(lambda t: t.fillna(np.mean(t, axis=0)))\n",
    "    extrema_remove_df.reset_index(inplace=True, drop=True)\n",
    "\n",
    "    # 行业属性数据哑变量\n",
    "    extrema_remove_df['industry_sw_level1'] = extrema_remove_df['industry_sw_level1'].astype('int').astype('str')\n",
    "    dummy_industry_df = pd.get_dummies(extrema_remove_df['industry_sw_level1'], prefix='industry_prefix')  # prefix, get_dummies转换后，列名的前缀\n",
    "\n",
    "    # 哑变量与截面数据进行横向拼接\n",
    "    merge_df = pd.concat([extrema_remove_df, dummy_industry_df], axis=1).sort_values(['date', 'instrument'])  # 原始的行业因子那列应该还在\n",
    "    \n",
    "    from sklearn.linear_model import LinearRegression\n",
    "    # 行业中性化处理和市值中性化处理\n",
    "    def calcu_single_factor(df, factor):\n",
    "        industry_factor = [i for i in df.columns if i[:15]=='industry_prefix']  # 列出所有的行业因子column\n",
    "        # 对市值因子和行业因子进行回归\n",
    "        xvars = ['market_cap_float'] + industry_factor\n",
    "        used_factors = xvars + [factor] + ['instrument']\n",
    "        used_factors_df = df[used_factors]\n",
    "        used_factors_df = used_factors_df[~used_factors_df.isnull().T.any().T]  # 检查控制，返回是否至少一个元素为真的行\n",
    "        if len(used_factors_df) == 0:\n",
    "            return None\n",
    "        X = used_factors_df[xvars].astype(float)\n",
    "        y = used_factors_df[factor].astype(float)\n",
    "        reg = LinearRegression()  \n",
    "        try:\n",
    "            reg.fit(X,y)   # 将行业因子因子和市值因子对特定因子作回归  given x, get y from the model y = b0+b1x\n",
    "            res = y-reg.predict(X)\n",
    "            used_factors_df[factor] = res  # 残差即为中性化处理后的结果\n",
    "        except ValueError as e:\n",
    "            used_factors_df[factor] = np.nan \n",
    "        return used_factors_df[['instrument',factor]]\n",
    "\n",
    "    # 标准化处理\n",
    "    def standardlize(x):\n",
    "        return (x-x.mean())/x.std()\n",
    "\n",
    "    factor_data_after_neutralize = pd.DataFrame(columns=['date','instrument'])\n",
    "    detail_style_factor = [m for m in extrema_remove_df.columns if m not in ['date','instrument','market_cap','market_cap_float']]\n",
    "    \n",
    "    # 对风格因子进行市值中性化处理,共计16个风格因子\n",
    "    for factor in detail_style_factor: \n",
    "        result_temp = merge_df.groupby('date').apply(lambda x: calcu_single_factor(x, factor)).reset_index().drop('level_1',axis=1)\n",
    "        factor_data_after_neutralize = factor_data_after_neutralize.merge(result_temp, on=['date', 'instrument'], how='outer')\n",
    "\n",
    "    for factor in detail_style_factor:\n",
    "        factor_data_after_neutralize[factor] = factor_data_after_neutralize.groupby('date')[factor].apply(standardlize)\n",
    "\n",
    "    # 用0值填充标准化后的缺失值 \n",
    "    factor_data_after_standard = factor_data_after_neutralize.fillna(0)\n",
    "    \n",
    "    # 获取股票价格并月度化\n",
    "    start = factor_data_after_standard.date.min().strftime('%Y-%m-%d')\n",
    "    end = factor_data_after_standard.date.max().strftime('%Y-%m-%d')\n",
    "    ins = list(set(factor_data_after_standard.instrument))\n",
    "\n",
    "    price = DataSource('bar1d_CN_STOCK_A').read(ins, start_date=start, end_date=end, fields=['close'])\n",
    "    price.rename(columns={'close':'price'}, inplace=True)\n",
    "    price = price.set_index('date').groupby('instrument').apply(lambda x: x.resample('M').last())\n",
    "    price.index = price.index.droplevel(0)\n",
    "    price.fillna(method='ffill', inplace=True)\n",
    "    price.reset_index(inplace=True)\n",
    "    \n",
    "    # 通过价格计算收益率并合成大类风格因子\n",
    "    tmp_factor = [m for m in merge_df.columns if m not in ['market_cap_float', 'industry_sw_level1']]  # \n",
    "    industry_prefix_factor = list(set(tmp_factor).difference(set(detail_style_factor)))  # industry_prefix_factor  是date instrument 和行业因子,共计30个因子. set()用于寻找不重复的list元素\n",
    "    # industry_prefix_factor.append('market_cap')\n",
    "\n",
    "    # 构建一个总的数据表, 合并行业因子和价格\n",
    "    monthly_style_and_industry_factor = factor_data_after_standard.merge(price, on=['date', 'instrument'], how='inner')\n",
    "    monthly_style_and_industry_factor = monthly_style_and_industry_factor.merge(merge_df[industry_prefix_factor], on=['date', 'instrument'], how='inner').set_index('date')  \n",
    "    # monthly_style_and_industry_factor = monthly_style_and_industry_factor.merge(merge_df, on=['date', 'instrument'], how='inner').set_index('date')  \n",
    "\n",
    "    # 计算出收益率\n",
    "    monthly_style_and_industry_factor.reset_index(inplace=True)\n",
    "\n",
    "    monthly_price_df = monthly_style_and_industry_factor.pivot_table(values='price',columns='instrument',index='date')\n",
    "    monthly_style_and_industry_factor = monthly_style_and_industry_factor.merge(monthly_price_df.pct_change().shift(-1).unstack().to_frame('return').reset_index(),on=['date','instrument'])\n",
    "    monthly_style_and_industry_factor = monthly_style_and_industry_factor.dropna()\n",
    "\n",
    "    # 小因子等权重合并成大因子, 这里未来可以采取IC_IR法\n",
    "    monthly_style_and_industry_factor['Volatility'] = (monthly_style_and_industry_factor['DASTD']+monthly_style_and_industry_factor['GMRA'])/2\n",
    "    monthly_style_and_industry_factor['EarningYields'] = (monthly_style_and_industry_factor['EPIBS']+monthly_style_and_industry_factor['ETOP']+monthly_style_and_industry_factor['CETOP'])/3\n",
    "    monthly_style_and_industry_factor['Leverage'] = (monthly_style_and_industry_factor['MLEV']+monthly_style_and_industry_factor['BLEV']+monthly_style_and_industry_factor['DTOA'])/3\n",
    "    monthly_style_and_industry_factor['Liquidity'] = (monthly_style_and_industry_factor['STOM']+monthly_style_and_industry_factor['STOQ']+monthly_style_and_industry_factor['STOA'])/3\n",
    "    monthly_style_and_industry_factor.drop(['DASTD','GMRA','EPIBS','ETOP','CETOP','MLEV','BLEV','DTOA','STOM','STOQ','STOA'], axis=1, inplace=True)\n",
    "    monthly_style_and_industry_factor.rename(columns={'Size':'Size 规模','Value':'Value 账面市值比','Growth':'Growth 成长性','Momentum':'Momentum 动量','Volatility':'Volatility 残余波动率','EarningYields':'EarningYields 盈利率','Leverage':'Leverage 杠杆率', 'Liquidity':'Liquidity 流动性'}, inplace=True)\n",
    "\n",
    "    # 计算按市值加权的风格因子暴露度\n",
    "    monthly_style_and_industry_factor_exp = monthly_style_and_industry_factor[['date', 'instrument', 'market_cap', 'Size 规模','Value 账面市值比','Beta','Growth 成长性','Momentum 动量','Volatility 残余波动率','EarningYields 盈利率','Leverage 杠杆率', 'Liquidity 流动性']]\n",
    "    day_list = list(set(monthly_style_and_industry_factor_exp.date))\n",
    "    monthly_style_and_industry_factor_exp_cap = pd.DataFrame(columns=['date', 'Size 规模','Value 账面市值比','Beta','Growth 成长性','Momentum 动量','Volatility 残余波动率','EarningYields 盈利率','Leverage 杠杆率', 'Liquidity 流动性'])\n",
    "\n",
    "    for i in range(len(day_list)):\n",
    "        temp_df = monthly_style_and_industry_factor_exp[monthly_style_and_industry_factor_exp['date']==day_list[i]]\n",
    "        market_sum = temp_df['market_cap'].sum()\n",
    "        temp_df['market_cap'] = temp_df['market_cap']/market_sum\n",
    "        column_list = [m for m in temp_df.columns if m not in ['date','instrument','market_cap']]\n",
    "        for j in range(len(column_list)):\n",
    "            temp_df[column_list[j]] = temp_df[column_list[j]] * temp_df['market_cap']\n",
    "        monthly_style_and_industry_factor_exp_cap.loc[i, 'date'] = day_list[i]\n",
    "        temp_df_mean = temp_df.mean()[1:]\n",
    "        for k in range(len(temp_df_mean)):\n",
    "            monthly_style_and_industry_factor_exp_cap.loc[i, temp_df_mean.keys()[k]] = temp_df_mean[k]\n",
    "    monthly_style_and_industry_factor_exp_cap = monthly_style_and_industry_factor_exp_cap.sort_values(by=['date'])\n",
    "    monthly_style_and_industry_factor_exp_cap.reset_index(inplace=True)\n",
    "    data_2 = DataSource.write_df(monthly_style_and_industry_factor_exp_cap)\n",
    "    \n",
    "    # 回归(这里包括九大风格因子和行业因子), 通过回归计算出每个股票的残差，即特质收益率\n",
    "    def calcu_factor_specified_return(df):\n",
    "        xvars = list(set(df.keys()).difference(['date','instrument','return','price']))\n",
    "        X = df[xvars].astype(float)\n",
    "        y = df['return'].astype(float)\n",
    "        reg = LinearRegression()\n",
    "        try:\n",
    "            reg.fit(X,y)\n",
    "            res = y-reg.predict(X)\n",
    "            df['specified_return'] = res\n",
    "        except ValueError as e:\n",
    "            df['specified_return'] = np.nan \n",
    "        return df\n",
    "\n",
    "    residual_ret = monthly_style_and_industry_factor.groupby('date').apply(lambda x: calcu_factor_specified_return(x))  # 横截面回归的groupby一定是基于date的\n",
    "    residual_ret = residual_ret[['instrument', 'date', 'specified_return']]    # 一致的\n",
    "    residual_ret.fillna(0, inplace=True)\n",
    "    residual_ret = residual_ret.sort_values('date').set_index('date')\n",
    "    \n",
    "    # 对收益率序列做回归,这里包括九大风格因子和行业因子 \n",
    "    C = dict()\n",
    "    end_month_date = list(set(monthly_style_and_industry_factor.date))\n",
    "    end_month_date.sort()\n",
    "\n",
    "    # 全部因子，包括28个行业因子和9个大类风格因子\n",
    "    # style_factor = ['Value','Growth','Size','Beta','Momentum','Volatility','EarningYields','Leverage','Liquidity']\n",
    "    style_factor = ['Size 规模','Value 账面市值比','Beta','Growth 成长性','Momentum 动量','Volatility 残余波动率','EarningYields 盈利率','Leverage 杠杆率', 'Liquidity 流动性']\n",
    "\n",
    "    all_industry_name = DataSource('basic_info_IndustrySw').read()\n",
    "    all_industry_name_sw1 = all_industry_name[all_industry_name['industry_sw_level']==1]\n",
    "    all_industry_name_sw1['code'] = 'industry_prefix_' + all_industry_name_sw1['code']\n",
    "\n",
    "    all_factor_name = style_factor + all_industry_name_sw1['code'].to_list()  # 组合出完整的因子名称列表\n",
    "    \n",
    "    # 计算出风格因子收益率 \n",
    "    for dt in end_month_date:  \n",
    "        temp = monthly_style_and_industry_factor[monthly_style_and_industry_factor['date'] == dt]\n",
    "        X = np.array(temp[list(set(temp.columns.to_list()).intersection(set(all_factor_name)))])  # 顺序基于数据源\n",
    "        Y = temp['return'].values\n",
    "        reg = LinearRegression()\n",
    "        try:\n",
    "            reg.fit(X, Y)\n",
    "            C[dt] = reg.coef_\n",
    "        except ValueError as e:\n",
    "            C[dt] = np.nan\n",
    "\n",
    "    common_factor_ret = pd.DataFrame.from_dict(C, orient='index')\n",
    "    common_factor_ret.columns = list(set(temp.columns.to_list()).intersection(set(all_factor_name)))\n",
    "    common_factor_ret = common_factor_ret.sort_index()\n",
    "\n",
    "    # 计算出风格因子和行业因子的风险协方差矩阵,默认配置参数为36个周期\n",
    "    special_risk = residual_ret.groupby('instrument').apply(lambda x: x['specified_return'].fillna(0).rolling(36).var()).reset_index()  \n",
    "    common_risk = common_factor_ret.rolling(36).cov()\n",
    "    \n",
    "    # # 基准在行业上的暴露，即行业权重\n",
    "    # def get_bm_industry_exposure(start_date, end_date):    \n",
    "    #     index = DataSource('index_element_weight').read(start_date=start_date, end_date=end_date)  # 指数成分及权重数据\n",
    "    #     hs300_df = index[index['instrument_index'] == '000300.HIX']\n",
    "\n",
    "    #     industry_df = DataSource('industry_CN_STOCK_A').read(start_date=start_date, end_date=end_date, fields=['industry_sw_level1'])\n",
    "    #     hs300_industry_df = pd.merge(hs300_df, industry_df, how='inner', on=['date', 'instrument'])\n",
    "\n",
    "    #     bm_weight = hs300_industry_df.groupby(['date']).apply(get_weight).reset_index() \n",
    "    #     return bm_weight\n",
    "\n",
    "    # def get_weight(tmp):\n",
    "    #     return tmp[['industry_sw_level1', 'weight']].groupby('industry_sw_level1').sum()\n",
    "\n",
    "    # # 基准在风格因子上的暴露\n",
    "    # def get_bm_component(start_date, end_date):\n",
    "    #     index = DataSource('index_element_weight').read(start_date=start_date, end_date=end_date)\n",
    "    #     hs300_df = index[index['instrument_index'] == '000300.HIX']\n",
    "    #     return hs300_df\n",
    "\n",
    "    # bm_industry_exposure = get_bm_industry_exposure(start_date=start, end_date=end)\n",
    "    # bm_component = get_bm_component(start_date=start, end_date=end)\n",
    "    \n",
    "    \n",
    "    data_1 = DataSource.write_df(common_factor_ret)\n",
    "    # data_2 = DataSource.write_df(bm_industry_exposure)\n",
    "    # data_3 = DataSource.write_df(bm_component)\n",
    "    # return Outputs(data_1=data_1, data_2=data_2, data_3=data_3)\n",
    "    return Outputs(data_1=data_1, data_2=data_2, data_3=None)\n",
    "# 后处理函数，可选。输入是主函数的输出，可以在这里对数据做处理，或者返回更友好的outputs数据格式。此函数输出不会被缓存。\n",
    "def m17_post_run_bigquant_run(outputs):\n",
    "    return outputs\n",
    "\n",
    "# Python 代码入口函数，input_1/2/3 对应三个输入端，data_1/2/3 对应三个输出端\n",
    "def m21_run_bigquant_run(input_1, input_2, input_3):\n",
    "    df_ben = input_1.read()  # 沪深300风格因子收益率\n",
    "    df = input_2.read()  # 组合风格收益率\n",
    "    df_exp = input_3.read()  # 组合风格暴露度\n",
    "        \n",
    "    style_factor = ['Size 规模','Value 账面市值比','Beta','Growth 成长性','Momentum 动量','Volatility 残余波动率','EarningYields 盈利率','Leverage 杠杆率', 'Liquidity 流动性']\n",
    "    \n",
    "    df_exp.drop(['index'], axis=1, inplace=True)\n",
    "    df_exp.set_index('date', drop=True, inplace=True)\n",
    "    df_exp.index.name = None\n",
    "    df_exp = df_exp.astype('float')\n",
    "    \n",
    "    data_1 = DataSource.write_df(df_exp.tail(1))\n",
    "    data_2 = DataSource.write_df(df[style_factor].tail(1))\n",
    "    data_3 = DataSource.write_df(df_ben[style_factor].tail(1))\n",
    "\n",
    "    return Outputs(data_1=data_1, data_2=data_2, data_3=data_3)\n",
    "# 后处理函数，可选。输入是主函数的输出，可以在这里对数据做处理，或者返回更友好的outputs数据格式。此函数输出不会被缓存。\n",
    "def m21_post_run_bigquant_run(outputs):\n",
    "    return outputs\n",
    "\n",
    "# Python 代码入口函数，input_1/2/3 对应三个输入端，data_1/2/3 对应三个输出端\n",
    "def m2_run_bigquant_run(input_1, input_2, input_3):\n",
    "    df_ben = input_1.read()  # 沪深300行业因子收益率\n",
    "    df = input_2.read()  # 组合行业因子收益率\n",
    "    df_exp = input_3.read()  # 行业风格暴露度\n",
    "    \n",
    "    style_factor = ['Size 规模','Value 账面市值比','Beta','Growth 成长性','Momentum 动量','Volatility 残余波动率','EarningYields 盈利率','Leverage 杠杆率', 'Liquidity 流动性']\n",
    "    \n",
    "    # 获取申万行业一级名称\n",
    "    sw_df = DataSource('basic_info_IndustrySw').read()\n",
    "\n",
    "    # 行业风格暴露度\n",
    "    df_exp.drop(['index'], axis=1, inplace=True)\n",
    "    df_exp.set_index('date', drop=True, inplace=True)\n",
    "    df_exp.index.name = None\n",
    "    df_exp = df_exp.astype('float')\n",
    "    \n",
    "\n",
    "    # 行业因子收益\n",
    "    df_list = df.columns.to_list()\n",
    "    for i in range(len(df_list)):\n",
    "        for j in range(len(sw_df)):\n",
    "            if df_list[i][-6:] == sw_df.iloc[j, 0]:\n",
    "                df.rename(columns={df_list[i]:sw_df.iloc[j, 2]}, inplace=True)\n",
    "    industry_df = df[list(set(df.columns.to_list()).difference(set(style_factor)))]\n",
    "\n",
    "    # 沪深300行业因子收益率\n",
    "    df_ben_list = df_ben.columns.to_list()\n",
    "    for i in range(len(df_ben_list)):\n",
    "        for j in range(len(sw_df)):\n",
    "            if df_ben_list[i][-6:] == sw_df.iloc[j, 0]:\n",
    "                df_ben.rename(columns={df_ben_list[i]:sw_df.iloc[j, 2]}, inplace=True)    \n",
    "    industry_df_ben = df_ben[list(set(df_ben.columns.to_list()).difference(set(style_factor)))]\n",
    "\n",
    "\n",
    "    data_1 = DataSource.write_df(df_exp.tail(1))\n",
    "    data_2 = DataSource.write_df(industry_df.tail(1))\n",
    "    data_3 = DataSource.write_df(industry_df_ben.tail(1))\n",
    "\n",
    "    return Outputs(data_1=data_1, data_2=data_2, data_3=data_3)\n",
    "# 后处理函数，可选。输入是主函数的输出，可以在这里对数据做处理，或者返回更友好的outputs数据格式。此函数输出不会被缓存。\n",
    "def m2_post_run_bigquant_run(outputs):\n",
    "    return outputs\n",
    "\n",
    "\n",
    "m1 = M.input_features.v1(\n",
    "    features=\"\"\"beta_csi500_180_0\n",
    "ta_mom_60_0\n",
    "log(market_cap_0+0.0001)\n",
    "west_eps_ftm_0/close_0\n",
    "fs_net_income_0/market_cap_0\n",
    "fs_eps_0/close_0\n",
    "volatility_240_0\n",
    "return_20\n",
    "swing_volatility_240_0\n",
    "fs_net_profit_qoq_0\n",
    "fs_net_profit_yoy_0\n",
    "fs_net_profit_0\n",
    "west_netprofit_ftm_0\n",
    "fs_common_equity_0/market_cap_0\n",
    "(fs_non_current_liabilities_0+market_cap_0)/market_cap_0\n",
    "fs_total_liability_0/(fs_current_assets_0+fs_non_current_assets_0)\n",
    "(fs_common_equity_0+fs_non_current_liabilities_0)/fs_common_equity_0\n",
    "turn_0\"\"\"\n",
    ")\n",
    "\n",
    "m3 = M.instruments.v2(\n",
    "    start_date='2018-01-01',\n",
    "    end_date='2021-07-02',\n",
    "    market='CN_STOCK_A',\n",
    "    instrument_list=\"\"\"600519.SHA\n",
    "000858.SZA\n",
    "000568.SZA\n",
    "603288.SHA\n",
    "002507.SZA\n",
    "600887.SHA\n",
    "000002.SZA\n",
    "601633.SHA\n",
    "600276.SHA\n",
    "002773.SZA\n",
    "600436.SHA\n",
    "600196.SHA\n",
    "002007.SZA\n",
    "300122.SZA\n",
    "300760.SZA\n",
    "300676.SZA\n",
    "603259.SHA\n",
    "600763.SHA\n",
    "002027.SZA\n",
    "000333.SZA\n",
    "600690.SHA\n",
    "002050.SZA\n",
    "601888.SHA\n",
    "603899.SHA\n",
    "600309.SHA\n",
    "600585.SHA\n",
    "600547.SHA\n",
    "600362.SHA\n",
    "600111.SHA\n",
    "002460.SZA\n",
    "601012.SHA\n",
    "300750.SZA\n",
    "600031.SHA\n",
    "002415.SZA\n",
    "603160.SHA\n",
    "600036.SHA\n",
    "300059.SZA\n",
    "300957.SZA\n",
    "300896.SZA\n",
    "300014.SZA\n",
    "600298.SHA\"\"\",\n",
    "    max_count=0\n",
    ")\n",
    "\n",
    "m5 = M.general_feature_extractor.v7(\n",
    "    instruments=m3.data,\n",
    "    features=m1.data,\n",
    "    start_date='',\n",
    "    end_date='',\n",
    "    before_start_days=0\n",
    ")\n",
    "\n",
    "m6 = M.derived_feature_extractor.v3(\n",
    "    input_data=m5.data,\n",
    "    features=m1.data,\n",
    "    date_col='date',\n",
    "    instrument_col='instrument',\n",
    "    drop_na=False,\n",
    "    remove_extra_columns=False,\n",
    "    user_functions={}\n",
    ")\n",
    "\n",
    "m4 = M.cached.v3(\n",
    "    input_1=m6.data,\n",
    "    run=m4_run_bigquant_run,\n",
    "    post_run=m4_post_run_bigquant_run,\n",
    "    input_ports='',\n",
    "    params='{}',\n",
    "    output_ports='data_1'\n",
    ")\n",
    "\n",
    "m7 = M.winsorize.v6(\n",
    "    input_data=m4.data_1,\n",
    "    columns_input=\"\"\"STOM\n",
    "DTOA\n",
    "Momentum\n",
    "Beta\n",
    "ETOP\n",
    "STOA\n",
    "Value\n",
    "EPIBS\n",
    "DASTD\n",
    "GMRA\n",
    "BLEV\n",
    "CETOP\n",
    "Growth\n",
    "MLEV\n",
    "STOQ\n",
    "Size\"\"\",\n",
    "    median_deviate=3\n",
    ")\n",
    "\n",
    "m8 = M.standardlize.v8(\n",
    "    input_1=m7.data,\n",
    "    columns_input=\"\"\"STOM\n",
    "DTOA\n",
    "Momentum\n",
    "Beta\n",
    "ETOP\n",
    "STOA\n",
    "Value\n",
    "EPIBS\n",
    "DASTD\n",
    "GMRA\n",
    "BLEV\n",
    "CETOP\n",
    "Growth\n",
    "MLEV\n",
    "STOQ\n",
    "Size\"\"\"\n",
    ")\n",
    "\n",
    "m9 = M.cached.v3(\n",
    "    input_1=m8.data,\n",
    "    run=m9_run_bigquant_run,\n",
    "    post_run=m9_post_run_bigquant_run,\n",
    "    input_ports='',\n",
    "    params='{}',\n",
    "    output_ports=''\n",
    ")\n",
    "\n",
    "m18 = M.instruments.v2(\n",
    "    start_date='2018-01-01',\n",
    "    end_date='2021-07-02',\n",
    "    market='CN_STOCK_A',\n",
    "    instrument_list='',\n",
    "    max_count=0\n",
    ")\n",
    "\n",
    "m13 = M.general_feature_extractor.v7(\n",
    "    instruments=m18.data,\n",
    "    features=m1.data,\n",
    "    start_date='',\n",
    "    end_date='',\n",
    "    before_start_days=0\n",
    ")\n",
    "\n",
    "m14 = M.derived_feature_extractor.v3(\n",
    "    input_data=m13.data,\n",
    "    features=m1.data,\n",
    "    date_col='date',\n",
    "    instrument_col='instrument',\n",
    "    drop_na=False,\n",
    "    remove_extra_columns=False,\n",
    "    user_functions={}\n",
    ")\n",
    "\n",
    "m23 = M.chinaa_stock_filter.v1(\n",
    "    input_data=m14.data,\n",
    "    index_constituent_cond=['沪深300'],\n",
    "    board_cond=['全部'],\n",
    "    industry_cond=['全部'],\n",
    "    st_cond=['正常'],\n",
    "    delist_cond=['非退市'],\n",
    "    output_left_data=True\n",
    ")\n",
    "\n",
    "m12 = M.cached.v3(\n",
    "    input_1=m23.data,\n",
    "    run=m12_run_bigquant_run,\n",
    "    post_run=m12_post_run_bigquant_run,\n",
    "    input_ports='',\n",
    "    params='{}',\n",
    "    output_ports='data_1'\n",
    ")\n",
    "\n",
    "m15 = M.winsorize.v6(\n",
    "    input_data=m12.data_1,\n",
    "    columns_input=\"\"\"STOM\n",
    "DTOA\n",
    "Momentum\n",
    "Beta\n",
    "ETOP\n",
    "STOA\n",
    "Value\n",
    "EPIBS\n",
    "DASTD\n",
    "GMRA\n",
    "BLEV\n",
    "CETOP\n",
    "Growth\n",
    "MLEV\n",
    "STOQ\n",
    "Size\"\"\",\n",
    "    median_deviate=3\n",
    ")\n",
    "\n",
    "m16 = M.standardlize.v8(\n",
    "    input_1=m15.data,\n",
    "    columns_input=\"\"\"STOM\n",
    "DTOA\n",
    "Momentum\n",
    "Beta\n",
    "ETOP\n",
    "STOA\n",
    "Value\n",
    "EPIBS\n",
    "DASTD\n",
    "GMRA\n",
    "BLEV\n",
    "CETOP\n",
    "Growth\n",
    "MLEV\n",
    "STOQ\n",
    "Size\"\"\"\n",
    ")\n",
    "\n",
    "m17 = M.cached.v3(\n",
    "    input_1=m16.data,\n",
    "    run=m17_run_bigquant_run,\n",
    "    post_run=m17_post_run_bigquant_run,\n",
    "    input_ports='',\n",
    "    params='{}',\n",
    "    output_ports=''\n",
    ")\n",
    "\n",
    "m21 = M.cached.v3(\n",
    "    input_1=m17.data_1,\n",
    "    input_2=m9.data_1,\n",
    "    input_3=m9.data_2,\n",
    "    run=m21_run_bigquant_run,\n",
    "    post_run=m21_post_run_bigquant_run,\n",
    "    input_ports='',\n",
    "    params='{}',\n",
    "    output_ports=''\n",
    ")\n",
    "\n",
    "m19 = M.plot_dataframe.v1(\n",
    "    input_data=m21.data_1,\n",
    "    title='市值加权的组合风格因子暴露',\n",
    "    chart_type='column',\n",
    "    x='',\n",
    "    y='',\n",
    "    options={\n",
    "    'chart': {\n",
    "        'height': 500\n",
    "    }\n",
    "},\n",
    "    candlestick=False,\n",
    "    pane_1='',\n",
    "    pane_2='',\n",
    "    pane_3='',\n",
    "    pane_4=''\n",
    ")\n",
    "\n",
    "m20 = M.plot_dataframe.v1(\n",
    "    input_data=m21.data_2,\n",
    "    title='市值加权的组合风格因子收益率',\n",
    "    chart_type='column',\n",
    "    x='',\n",
    "    y='',\n",
    "    options={\n",
    "    'chart': {\n",
    "        'height': 500\n",
    "    }\n",
    "},\n",
    "    candlestick=False,\n",
    "    pane_1='',\n",
    "    pane_2='',\n",
    "    pane_3='',\n",
    "    pane_4=''\n",
    ")\n",
    "\n",
    "m22 = M.plot_dataframe.v1(\n",
    "    input_data=m21.data_3,\n",
    "    title='市值加权的沪深300风格因子收益率',\n",
    "    chart_type='column',\n",
    "    x='',\n",
    "    y='',\n",
    "    options={\n",
    "    'chart': {\n",
    "        'height': 500\n",
    "    }\n",
    "},\n",
    "    candlestick=False,\n",
    "    pane_1='',\n",
    "    pane_2='',\n",
    "    pane_3='',\n",
    "    pane_4=''\n",
    ")\n",
    "\n",
    "m2 = M.cached.v3(\n",
    "    input_1=m17.data_1,\n",
    "    input_2=m9.data_1,\n",
    "    input_3=m17.data_2,\n",
    "    run=m2_run_bigquant_run,\n",
    "    post_run=m2_post_run_bigquant_run,\n",
    "    input_ports='',\n",
    "    params='{}',\n",
    "    output_ports=''\n",
    ")\n",
    "\n",
    "m24 = M.plot_dataframe.v1(\n",
    "    input_data=m2.data_1,\n",
    "    title='市值加权沪深300风格因子暴露度',\n",
    "    chart_type='column',\n",
    "    x='',\n",
    "    y='',\n",
    "    options={\n",
    "    'chart': {\n",
    "        'height': 500\n",
    "    }\n",
    "},\n",
    "    candlestick=False,\n",
    "    pane_1='',\n",
    "    pane_2='',\n",
    "    pane_3='',\n",
    "    pane_4=''\n",
    ")\n",
    "\n",
    "m11 = M.plot_dataframe.v1(\n",
    "    input_data=m2.data_2,\n",
    "    title='市值加权的组合行业因子暴露',\n",
    "    chart_type='column',\n",
    "    x='',\n",
    "    y='',\n",
    "    options={\n",
    "    'chart': {\n",
    "        'height': 500\n",
    "    }\n",
    "},\n",
    "    candlestick=False,\n",
    "    pane_1='',\n",
    "    pane_2='',\n",
    "    pane_3='',\n",
    "    pane_4=''\n",
    ")\n",
    "\n",
    "m10 = M.plot_dataframe.v1(\n",
    "    input_data=m2.data_3,\n",
    "    title='市值加权的沪深300行业因子收益率',\n",
    "    chart_type='column',\n",
    "    x='',\n",
    "    y='',\n",
    "    options={\n",
    "    'chart': {\n",
    "        'height': 500\n",
    "    }\n",
    "},\n",
    "    candlestick=False,\n",
    "    pane_1='',\n",
    "    pane_2='',\n",
    "    pane_3='',\n",
    "    pane_4=''\n",
    ")\n"
   ]
  }
 ],
 "metadata": {
  "is_mlstudio": "true",
  "kernelspec": {
   "display_name": "Python 3",
   "language": "python",
   "name": "python3"
  },
  "language_info": {
   "codemirror_mode": {
    "name": "ipython",
    "version": 3
   },
   "file_extension": ".py",
   "mimetype": "text/x-python",
   "name": "python",
   "nbconvert_exporter": "python",
   "pygments_lexer": "ipython3",
   "version": "3.8.7"
  }
 },
 "nbformat": 4,
 "nbformat_minor": 4
}
