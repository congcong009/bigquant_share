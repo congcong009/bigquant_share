{
 "cells": [
  {
   "cell_type": "markdown",
   "metadata": {},
   "source": [
    "# <b>双均线策略</b>"
   ]
  },
  {
   "cell_type": "markdown",
   "metadata": {},
   "source": [
    "版本 v1.0\n",
    "\n",
    "## <b>目录</b>\n",
    "* ### <b>双均线策略的交易规则</b>\n",
    "\n",
    "* ### <b>策略构建步骤</b>\n",
    "\n",
    "* ### <b>策略的实现</b>\n",
    "\n",
    "## <b>正文</b>\n",
    "\n",
    "### <b>一、双均线策略的交易规则</b>\n",
    "\n",
    "* 当收盘价5日均线大于10日均线时，以第二日开盘价买入；\n",
    "* 买入后，当收盘价的5日均线小于10日均线时，以第二日开盘价卖出；\n",
    "\n",
    "### <b>二、策略构建步骤</b>\n",
    "### 1、确定股票池和回测时间\n",
    "* 通过证券代码列表输入要回测的单只/多只股票，以及回测的起止日期\n",
    "\n",
    "### 2、确定买卖条件信号\n",
    "* 在输入特征列表中通过表达式引擎定义 buy_condition=where(mean(close_0,5)>mean(close_0,10),1,0)，实现买入信号。\n",
    "* 在输入特征列表中通过表达式引擎定义 sell_condition=where(mean(close_0,5)<mean(close_0,10),1,0)，实现卖出信号。\n",
    "* 通过基础特征和衍生特征抽取模块实现买卖条件指标 buy_condition 和 sell_condition 数据的抽取。\n",
    "* 通过缺失数据处理模块删去有缺失值的数据。\n",
    "\n",
    "### 3、确定买卖原则\n",
    "* 已有持仓中满足卖出条件的股票为卖出股票列表，需执行卖出操作\n",
    "* 满足买入条件且没有持仓的股票为买入股票列表，需执行买入操作\n",
    "* 满足买入条件且已有持仓的股票为调仓股票列表，需执行调整仓位操作\n",
    "* 本策略中将买入股票列表和调仓股票列表中的所有股票统一调整为等资金比例仓位。\n",
    "\n",
    "### 4、模拟回测\n",
    "* 通过 trade 模块中的初始化函数定义交易手续费和滑点；\n",
    "* 通过 trade 模块中的准备函数定义 context.daily_stock_buy 和 context.daily_stock_sell 变量来获取并存放每日买卖交易信号；\n",
    "* 通过 trade 模块中的主函数(handle函数)查看每日的买卖交易信号，按照买卖原则执行相应的买入/卖出/调仓操作。\n",
    "\n",
    "### <b>三、策略的实现</b>\n",
    "可视化策略实现如下："
   ]
  },
  {
   "cell_type": "markdown",
   "metadata": {},
   "source": [
    "<img src='https://bigquant.com/community/uploads/default/original/3X/4/0/409829c44d651407554a43a78c1c2deaabc22f74.jpeg' width=1200 height=1200>"
   ]
  },
  {
   "cell_type": "code",
   "execution_count": 3,
   "metadata": {
    "machine_learning_studio": "true",
    "ml_studio_json": "{\"description\":\"实验创建于2017/8/26\",\"graph\":{\"edges\":[{\"to_node_id\":\"-50:features\",\"from_node_id\":\"287d2cb0-f53c-4101-bdf8-104b137c8601-24:data\"},{\"to_node_id\":\"-57:features\",\"from_node_id\":\"287d2cb0-f53c-4101-bdf8-104b137c8601-24:data\"},{\"to_node_id\":\"-50:instruments\",\"from_node_id\":\"287d2cb0-f53c-4101-bdf8-104b137c8601-62:data\"},{\"to_node_id\":\"-102:instruments\",\"from_node_id\":\"287d2cb0-f53c-4101-bdf8-104b137c8601-62:data\"},{\"to_node_id\":\"-57:input_data\",\"from_node_id\":\"-50:data\"},{\"to_node_id\":\"-689:input_data\",\"from_node_id\":\"-57:data\"},{\"to_node_id\":\"-102:options_data\",\"from_node_id\":\"-689:data\"}],\"nodes\":[{\"node_id\":\"287d2cb0-f53c-4101-bdf8-104b137c8601-24\",\"module_id\":\"BigQuantSpace.input_features.input_features-v1\",\"parameters\":[{\"name\":\"features\",\"value\":\"# #号开始的表示注释\\n# 多个特征，每行一个，可以包含基础特征和衍生特征\\nbuy_condition=where(mean(close_0,5)>mean(close_0,10),1,0)\\nsell_condition=where(mean(close_0,5)<mean(close_0,10),1,0)\",\"type\":\"Literal\",\"bound_global_parameter\":null}],\"input_ports\":[{\"name\":\"features_ds\",\"node_id\":\"287d2cb0-f53c-4101-bdf8-104b137c8601-24\"}],\"output_ports\":[{\"name\":\"data\",\"node_id\":\"287d2cb0-f53c-4101-bdf8-104b137c8601-24\"}],\"cacheable\":false,\"seq_num\":1,\"comment\":\"\",\"comment_collapsed\":true},{\"node_id\":\"287d2cb0-f53c-4101-bdf8-104b137c8601-62\",\"module_id\":\"BigQuantSpace.instruments.instruments-v2\",\"parameters\":[{\"name\":\"start_date\",\"value\":\"2019-03-01\",\"type\":\"Literal\",\"bound_global_parameter\":\"交易日期\"},{\"name\":\"end_date\",\"value\":\"2021-06-01\",\"type\":\"Literal\",\"bound_global_parameter\":\"交易日期\"},{\"name\":\"market\",\"value\":\"CN_STOCK_A\",\"type\":\"Literal\",\"bound_global_parameter\":null},{\"name\":\"instrument_list\",\"value\":\"600519.SHA\\n600333.SHA\",\"type\":\"Literal\",\"bound_global_parameter\":null},{\"name\":\"max_count\",\"value\":\"0\",\"type\":\"Literal\",\"bound_global_parameter\":null}],\"input_ports\":[{\"name\":\"rolling_conf\",\"node_id\":\"287d2cb0-f53c-4101-bdf8-104b137c8601-62\"}],\"output_ports\":[{\"name\":\"data\",\"node_id\":\"287d2cb0-f53c-4101-bdf8-104b137c8601-62\"}],\"cacheable\":true,\"seq_num\":2,\"comment\":\"预测数据，用于回测和模拟\",\"comment_collapsed\":false},{\"node_id\":\"-50\",\"module_id\":\"BigQuantSpace.general_feature_extractor.general_feature_extractor-v7\",\"parameters\":[{\"name\":\"start_date\",\"value\":\"\",\"type\":\"Literal\",\"bound_global_parameter\":null},{\"name\":\"end_date\",\"value\":\"\",\"type\":\"Literal\",\"bound_global_parameter\":null},{\"name\":\"before_start_days\",\"value\":\"60\",\"type\":\"Literal\",\"bound_global_parameter\":null}],\"input_ports\":[{\"name\":\"instruments\",\"node_id\":\"-50\"},{\"name\":\"features\",\"node_id\":\"-50\"}],\"output_ports\":[{\"name\":\"data\",\"node_id\":\"-50\"}],\"cacheable\":true,\"seq_num\":7,\"comment\":\"\",\"comment_collapsed\":true},{\"node_id\":\"-57\",\"module_id\":\"BigQuantSpace.derived_feature_extractor.derived_feature_extractor-v3\",\"parameters\":[{\"name\":\"date_col\",\"value\":\"date\",\"type\":\"Literal\",\"bound_global_parameter\":null},{\"name\":\"instrument_col\",\"value\":\"instrument\",\"type\":\"Literal\",\"bound_global_parameter\":null},{\"name\":\"drop_na\",\"value\":\"False\",\"type\":\"Literal\",\"bound_global_parameter\":null},{\"name\":\"remove_extra_columns\",\"value\":\"False\",\"type\":\"Literal\",\"bound_global_parameter\":null},{\"name\":\"user_functions\",\"value\":\"\",\"type\":\"Literal\",\"bound_global_parameter\":null}],\"input_ports\":[{\"name\":\"input_data\",\"node_id\":\"-57\"},{\"name\":\"features\",\"node_id\":\"-57\"}],\"output_ports\":[{\"name\":\"data\",\"node_id\":\"-57\"}],\"cacheable\":true,\"seq_num\":8,\"comment\":\"\",\"comment_collapsed\":true},{\"node_id\":\"-102\",\"module_id\":\"BigQuantSpace.trade.trade-v4\",\"parameters\":[{\"name\":\"start_date\",\"value\":\"\",\"type\":\"Literal\",\"bound_global_parameter\":null},{\"name\":\"end_date\",\"value\":\"\",\"type\":\"Literal\",\"bound_global_parameter\":null},{\"name\":\"initialize\",\"value\":\"# 回测引擎：初始化函数，只执行一次\\ndef bigquant_run(context):\\n\\n    # 系统已经设置了默认的交易手续费和滑点，要修改手续费可使用如下函数\\n    context.set_commission(PerOrder(buy_cost=0.0003, sell_cost=0.0013, min_cost=5))\\n\",\"type\":\"Literal\",\"bound_global_parameter\":null},{\"name\":\"handle_data\",\"value\":\"# 回测引擎：每日数据处理函数，每天执行一次\\ndef bigquant_run(context, data):\\n    # 获取今日的日期\\n    today = data.current_dt.strftime('%Y-%m-%d')  \\n    # 通过positions对象，使用列表生成式的方法获取目前持仓的股票列表\\n    stock_hold_now = {e.symbol: p.amount * p.last_sale_price\\n                 for e, p in context.perf_tracker.position_tracker.positions.items()}\\n\\n    # 记录用于买入股票的可用现金,因为是早盘卖股票，需要记录卖出的股票市值并在买入下单前更新可用现金；\\n    # 如果是早盘买尾盘卖，则卖出时不需更新可用现金，因为尾盘卖出股票所得现金无法使用\\n    cash_for_buy = context.portfolio.cash    \\n    \\n    try:\\n        buy_stock = context.daily_stock_buy[today]  # 当日符合买入条件的股票\\n    except:\\n        buy_stock=[]  # 如果没有符合条件的股票，就设置为空\\n    \\n    try:\\n        sell_stock = context.daily_stock_sell[today]  # 当日符合卖出条件的股票\\n    except:\\n        sell_stock=[] # 如果没有符合条件的股票，就设置为空\\n    \\n    # 需要卖出的股票:已有持仓中符合卖出条件的股票\\n    stock_to_sell = [ i for i in stock_hold_now if i in sell_stock ]\\n    # 需要买入的股票:没有持仓且符合买入条件的股票\\n    stock_to_buy = [ i for i in buy_stock if i not in stock_hold_now ]  \\n    # 需要调仓的股票：已有持仓且不符合卖出条件的股票\\n    stock_to_adjust=[ i for i in stock_hold_now if i not in sell_stock ]\\n    \\n    # 如果有卖出信号\\n    if len(stock_to_sell)>0:\\n        for instrument in stock_to_sell:\\n            sid = context.symbol(instrument) # 将标的转化为equity格式\\n            cur_position = context.portfolio.positions[sid].amount # 持仓\\n            if cur_position > 0 and data.can_trade(sid):\\n                context.order_target_percent(sid, 0) # 全部卖出 \\n                # 因为设置的是早盘卖出早盘买入，需要根据卖出的股票更新可用现金；如果设置尾盘卖出早盘买入，则不需更新可用现金(可以删除下面的语句)\\n                cash_for_buy += stock_hold_now[instrument]\\n    \\n    # 如果有买入信号/有持仓\\n    if len(stock_to_buy)+len(stock_to_adjust)>0:\\n        weight = 1/(len(stock_to_buy)+len(stock_to_adjust)) # 每只股票的比重为等资金比例持有\\n        for instrument in stock_to_buy+stock_to_adjust:\\n            sid = context.symbol(instrument) # 将标的转化为equity格式\\n            if  data.can_trade(sid):\\n                context.order_target_value(sid, weight*cash_for_buy) # 买入\",\"type\":\"Literal\",\"bound_global_parameter\":null},{\"name\":\"prepare\",\"value\":\"# 回测引擎：准备数据，只执行一次\\ndef bigquant_run(context):\\n    # 加载预测数据\\n    df = context.options['data'].read_df()\\n\\n    # 函数：求满足开仓条件的股票列表\\n    def open_pos_con(df):\\n        return list(df[df['buy_condition']>0].instrument)\\n\\n    # 函数：求满足平仓条件的股票列表\\n    def close_pos_con(df):\\n        return list(df[df['sell_condition']>0].instrument)\\n\\n    # 每日买入股票的数据框\\n    context.daily_stock_buy= df.groupby('date').apply(open_pos_con)\\n    # 每日卖出股票的数据框\\n    context.daily_stock_sell= df.groupby('date').apply(close_pos_con)\",\"type\":\"Literal\",\"bound_global_parameter\":null},{\"name\":\"before_trading_start\",\"value\":\"\",\"type\":\"Literal\",\"bound_global_parameter\":null},{\"name\":\"volume_limit\",\"value\":0.025,\"type\":\"Literal\",\"bound_global_parameter\":null},{\"name\":\"order_price_field_buy\",\"value\":\"open\",\"type\":\"Literal\",\"bound_global_parameter\":null},{\"name\":\"order_price_field_sell\",\"value\":\"open\",\"type\":\"Literal\",\"bound_global_parameter\":null},{\"name\":\"capital_base\",\"value\":1000000,\"type\":\"Literal\",\"bound_global_parameter\":null},{\"name\":\"auto_cancel_non_tradable_orders\",\"value\":\"True\",\"type\":\"Literal\",\"bound_global_parameter\":null},{\"name\":\"data_frequency\",\"value\":\"daily\",\"type\":\"Literal\",\"bound_global_parameter\":null},{\"name\":\"price_type\",\"value\":\"后复权\",\"type\":\"Literal\",\"bound_global_parameter\":null},{\"name\":\"product_type\",\"value\":\"股票\",\"type\":\"Literal\",\"bound_global_parameter\":null},{\"name\":\"plot_charts\",\"value\":\"True\",\"type\":\"Literal\",\"bound_global_parameter\":null},{\"name\":\"backtest_only\",\"value\":\"False\",\"type\":\"Literal\",\"bound_global_parameter\":null},{\"name\":\"benchmark\",\"value\":\"000300.HIX\",\"type\":\"Literal\",\"bound_global_parameter\":null}],\"input_ports\":[{\"name\":\"instruments\",\"node_id\":\"-102\"},{\"name\":\"options_data\",\"node_id\":\"-102\"},{\"name\":\"history_ds\",\"node_id\":\"-102\"},{\"name\":\"benchmark_ds\",\"node_id\":\"-102\"},{\"name\":\"trading_calendar\",\"node_id\":\"-102\"}],\"output_ports\":[{\"name\":\"raw_perf\",\"node_id\":\"-102\"}],\"cacheable\":false,\"seq_num\":3,\"comment\":\"\",\"comment_collapsed\":true},{\"node_id\":\"-689\",\"module_id\":\"BigQuantSpace.dropnan.dropnan-v2\",\"parameters\":[],\"input_ports\":[{\"name\":\"input_data\",\"node_id\":\"-689\"},{\"name\":\"features\",\"node_id\":\"-689\"}],\"output_ports\":[{\"name\":\"data\",\"node_id\":\"-689\"}],\"cacheable\":true,\"seq_num\":4,\"comment\":\"\",\"comment_collapsed\":true}],\"node_layout\":\"<node_postions><node_position Node='287d2cb0-f53c-4101-bdf8-104b137c8601-24' Position='765,18,200,200'/><node_position Node='287d2cb0-f53c-4101-bdf8-104b137c8601-62' Position='1187,12,200,200'/><node_position Node='-50' Position='1078,234,200,200'/><node_position Node='-57' Position='1076,327,200,200'/><node_position Node='-102' Position='1047,533.6558837890625,200,200'/><node_position Node='-689' Position='1078,418,200,200'/></node_postions>\"},\"nodes_readonly\":false,\"studio_version\":\"v2\"}"
   },
   "outputs": [
    {
     "data": {
      "text/plain": [
       "[2022-03-25 14:36:22.919783] INFO: moduleinvoker: input_features.v1 开始运行.."
      ]
     },
     "metadata": {
      "is_log": true,
      "status": "INFO"
     },
     "output_type": "display_data"
    },
    {
     "data": {
      "text/plain": [
       "[2022-03-25 14:36:22.922645] ERROR: moduleinvoker: module name: input_features, module version: v1, trackeback: PermissionError: [Errno 13] Permission denied: '/var/app/data/bigquant/datasource/user/intermediate/1'\\n"
      ]
     },
     "metadata": {
      "is_log": true,
      "status": "ERROR"
     },
     "output_type": "display_data"
    },
    {
     "ename": "PermissionError",
     "evalue": "[Errno 13] Permission denied: '/var/app/data/bigquant/datasource/user/intermediate/1'",
     "output_type": "error",
     "traceback": [
      "\u001b[0;31m---------------------------------------------------------------------------\u001b[0m",
      "\u001b[0;31mPermissionError\u001b[0m                           Traceback (most recent call last)",
      "\u001b[0;32m<ipython-input-3-78578f8d32d5>\u001b[0m in \u001b[0;36m<module>\u001b[0;34m\u001b[0m\n\u001b[1;32m     73\u001b[0m     \u001b[0mcontext\u001b[0m\u001b[0;34m.\u001b[0m\u001b[0mdaily_stock_sell\u001b[0m\u001b[0;34m=\u001b[0m \u001b[0mdf\u001b[0m\u001b[0;34m.\u001b[0m\u001b[0mgroupby\u001b[0m\u001b[0;34m(\u001b[0m\u001b[0;34m'date'\u001b[0m\u001b[0;34m)\u001b[0m\u001b[0;34m.\u001b[0m\u001b[0mapply\u001b[0m\u001b[0;34m(\u001b[0m\u001b[0mclose_pos_con\u001b[0m\u001b[0;34m)\u001b[0m\u001b[0;34m\u001b[0m\u001b[0;34m\u001b[0m\u001b[0m\n\u001b[1;32m     74\u001b[0m \u001b[0;34m\u001b[0m\u001b[0m\n\u001b[0;32m---> 75\u001b[0;31m m1 = M.input_features.v1(\n\u001b[0m\u001b[1;32m     76\u001b[0m     features=\"\"\"# #号开始的表示注释\n\u001b[1;32m     77\u001b[0m \u001b[0;31m# 多个特征，每行一个，可以包含基础特征和衍生特征\u001b[0m\u001b[0;34m\u001b[0m\u001b[0;34m\u001b[0m\u001b[0;34m\u001b[0m\u001b[0m\n",
      "\u001b[0;31mPermissionError\u001b[0m: [Errno 13] Permission denied: '/var/app/data/bigquant/datasource/user/intermediate/1'"
     ]
    }
   ],
   "source": [
    "# 本代码由可视化策略环境自动生成 2022年3月25日 14:38\n",
    "# 本代码单元只能在可视化模式下编辑。您也可以拷贝代码，粘贴到新建的代码单元或者策略，然后修改。\n",
    "\n",
    "\n",
    "# 回测引擎：初始化函数，只执行一次\n",
    "def m3_initialize_bigquant_run(context):\n",
    "\n",
    "    # 系统已经设置了默认的交易手续费和滑点，要修改手续费可使用如下函数\n",
    "    context.set_commission(PerOrder(buy_cost=0.0003, sell_cost=0.0013, min_cost=5))\n",
    "\n",
    "# 回测引擎：每日数据处理函数，每天执行一次\n",
    "def m3_handle_data_bigquant_run(context, data):\n",
    "    # 获取今日的日期\n",
    "    today = data.current_dt.strftime('%Y-%m-%d')  \n",
    "    # 通过positions对象，使用列表生成式的方法获取目前持仓的股票列表\n",
    "    stock_hold_now = {e.symbol: p.amount * p.last_sale_price\n",
    "                 for e, p in context.perf_tracker.position_tracker.positions.items()}\n",
    "\n",
    "    # 记录用于买入股票的可用现金,因为是早盘卖股票，需要记录卖出的股票市值并在买入下单前更新可用现金；\n",
    "    # 如果是早盘买尾盘卖，则卖出时不需更新可用现金，因为尾盘卖出股票所得现金无法使用\n",
    "    cash_for_buy = context.portfolio.cash    \n",
    "    \n",
    "    try:\n",
    "        buy_stock = context.daily_stock_buy[today]  # 当日符合买入条件的股票\n",
    "    except:\n",
    "        buy_stock=[]  # 如果没有符合条件的股票，就设置为空\n",
    "    \n",
    "    try:\n",
    "        sell_stock = context.daily_stock_sell[today]  # 当日符合卖出条件的股票\n",
    "    except:\n",
    "        sell_stock=[] # 如果没有符合条件的股票，就设置为空\n",
    "    \n",
    "    # 需要卖出的股票:已有持仓中符合卖出条件的股票\n",
    "    stock_to_sell = [ i for i in stock_hold_now if i in sell_stock ]\n",
    "    # 需要买入的股票:没有持仓且符合买入条件的股票\n",
    "    stock_to_buy = [ i for i in buy_stock if i not in stock_hold_now ]  \n",
    "    # 需要调仓的股票：已有持仓且不符合卖出条件的股票\n",
    "    stock_to_adjust=[ i for i in stock_hold_now if i not in sell_stock ]\n",
    "    \n",
    "    # 如果有卖出信号\n",
    "    if len(stock_to_sell)>0:\n",
    "        for instrument in stock_to_sell:\n",
    "            sid = context.symbol(instrument) # 将标的转化为equity格式\n",
    "            cur_position = context.portfolio.positions[sid].amount # 持仓\n",
    "            if cur_position > 0 and data.can_trade(sid):\n",
    "                context.order_target_percent(sid, 0) # 全部卖出 \n",
    "                # 因为设置的是早盘卖出早盘买入，需要根据卖出的股票更新可用现金；如果设置尾盘卖出早盘买入，则不需更新可用现金(可以删除下面的语句)\n",
    "                cash_for_buy += stock_hold_now[instrument]\n",
    "    \n",
    "    # 如果有买入信号/有持仓\n",
    "    if len(stock_to_buy)+len(stock_to_adjust)>0:\n",
    "        weight = 1/(len(stock_to_buy)+len(stock_to_adjust)) # 每只股票的比重为等资金比例持有\n",
    "        for instrument in stock_to_buy+stock_to_adjust:\n",
    "            sid = context.symbol(instrument) # 将标的转化为equity格式\n",
    "            if  data.can_trade(sid):\n",
    "                context.order_target_value(sid, weight*cash_for_buy) # 买入\n",
    "# 回测引擎：准备数据，只执行一次\n",
    "def m3_prepare_bigquant_run(context):\n",
    "    # 加载预测数据\n",
    "    df = context.options['data'].read_df()\n",
    "\n",
    "    # 函数：求满足开仓条件的股票列表\n",
    "    def open_pos_con(df):\n",
    "        return list(df[df['buy_condition']>0].instrument)\n",
    "\n",
    "    # 函数：求满足平仓条件的股票列表\n",
    "    def close_pos_con(df):\n",
    "        return list(df[df['sell_condition']>0].instrument)\n",
    "\n",
    "    # 每日买入股票的数据框\n",
    "    context.daily_stock_buy= df.groupby('date').apply(open_pos_con)\n",
    "    # 每日卖出股票的数据框\n",
    "    context.daily_stock_sell= df.groupby('date').apply(close_pos_con)\n",
    "\n",
    "m1 = M.input_features.v1(\n",
    "    features=\"\"\"# #号开始的表示注释\n",
    "# 多个特征，每行一个，可以包含基础特征和衍生特征\n",
    "buy_condition=where(mean(close_0,5)>mean(close_0,10),1,0)\n",
    "sell_condition=where(mean(close_0,5)<mean(close_0,10),1,0)\"\"\",\n",
    "    m_cached=False\n",
    ")\n",
    "\n",
    "m2 = M.instruments.v2(\n",
    "    start_date=T.live_run_param('trading_date', '2019-03-01'),\n",
    "    end_date=T.live_run_param('trading_date', '2021-06-01'),\n",
    "    market='CN_STOCK_A',\n",
    "    instrument_list=\"\"\"600519.SHA\n",
    "600333.SHA\"\"\",\n",
    "    max_count=0\n",
    ")\n",
    "\n",
    "m7 = M.general_feature_extractor.v7(\n",
    "    instruments=m2.data,\n",
    "    features=m1.data,\n",
    "    start_date='',\n",
    "    end_date='',\n",
    "    before_start_days=60\n",
    ")\n",
    "\n",
    "m8 = M.derived_feature_extractor.v3(\n",
    "    input_data=m7.data,\n",
    "    features=m1.data,\n",
    "    date_col='date',\n",
    "    instrument_col='instrument',\n",
    "    drop_na=False,\n",
    "    remove_extra_columns=False\n",
    ")\n",
    "\n",
    "m4 = M.dropnan.v2(\n",
    "    input_data=m8.data\n",
    ")\n",
    "\n",
    "m3 = M.trade.v4(\n",
    "    instruments=m2.data,\n",
    "    options_data=m4.data,\n",
    "    start_date='',\n",
    "    end_date='',\n",
    "    initialize=m3_initialize_bigquant_run,\n",
    "    handle_data=m3_handle_data_bigquant_run,\n",
    "    prepare=m3_prepare_bigquant_run,\n",
    "    volume_limit=0.025,\n",
    "    order_price_field_buy='open',\n",
    "    order_price_field_sell='open',\n",
    "    capital_base=1000000,\n",
    "    auto_cancel_non_tradable_orders=True,\n",
    "    data_frequency='daily',\n",
    "    price_type='后复权',\n",
    "    product_type='股票',\n",
    "    plot_charts=True,\n",
    "    backtest_only=False,\n",
    "    benchmark='000300.HIX'\n",
    ")\n"
   ]
  }
 ],
 "metadata": {
  "kernelspec": {
   "display_name": "Python 3",
   "language": "python",
   "name": "python3"
  },
  "language_info": {
   "codemirror_mode": {
    "name": "ipython",
    "version": 3
   },
   "file_extension": ".py",
   "mimetype": "text/x-python",
   "name": "python",
   "nbconvert_exporter": "python",
   "pygments_lexer": "ipython3",
   "version": "3.8.7"
  }
 },
 "nbformat": 4,
 "nbformat_minor": 4
}
