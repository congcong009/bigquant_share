{
 "cells": [
  {
   "cell_type": "markdown",
   "id": "bd059037",
   "metadata": {},
   "source": [
    "## __策略思想__\n",
    "---\n",
    "* #### 采用Markowitz均值方差模型对于分散化的资产(ETF基金)进行配仓  \n",
    "    * ##### 采用动态信息更新协方差矩阵与收益向量\n",
    "    * ##### 为避免资产过于集中带来风险，设置单个资产仓位不超过30%的约束\n",
    "    * ##### 即：\n",
    "\n",
    "\n",
    "$$\\max({u'*w}-{\\lambda/2*w'*\\Sigma*w})$$\n",
    "\n",
    "\n",
    "$$\\sum w = 1$$\n",
    "\n",
    "$$0 \\leq w \\leq 0.3$$\n",
    "##### 上式中：$u$为资产的预期收益率，$w$为资产权重，$\\lambda$为投资者风险厌恶系数，$\\Sigma$为方差协方差矩阵  \n",
    "\n",
    "\n",
    "</br>\n",
    "* #### 采用Larry Swedroe的5/25方法动态确认调仓频率，即：\n",
    "\n",
    "\t* ##### 1) 当某个资产的position变动超过5%,做一次rebalance\n",
    "\t* ##### 2) 当某个资产相对于自身原始仓位变动超过25%,做一次rebalance\n",
    "    \n",
    "## __结论__\n",
    "---\n",
    "* ##### 设定大风险厌恶系数时，Markowitz配仓方法能够实现稳定的高收益\n",
    "\n",
    "* ##### 最大回撤5.8%，波动率7.9%，并且年化收益达到16.8%；调仓少、幅度小，看来有相当的可操作性\n",
    "\n",
    "\n",
    "\n",
    "</br>\n",
    "注：关于Markowitz均值方差模型更加详细的介绍可以看[量化分析师的Python日记【第15天：如何在优矿上搞一个wealthfront出来】](https://uqer.io/community/share/5670da3c228e5b8d81f00a87)"
   ]
  },
  {
   "cell_type": "markdown",
   "id": "5085c738",
   "metadata": {},
   "source": [
    "## __回测情况__\n",
    "---"
   ]
  },
  {
   "cell_type": "code",
   "execution_count": null,
   "id": "e38cf751",
   "metadata": {
    "collapsed": false,
    "jupyter": {
     "outputs_hidden": false
    }
   },
   "outputs": [],
   "source": [
    "# 引入工具包\n",
    "from __future__ import division\n",
    "from cvxopt import matrix, solvers\n",
    "from CAL.PyCAL import *\n",
    "# from lib.lib import *\n",
    "import scipy.stats as st\n",
    "\n",
    "\n",
    "import collections\n",
    "import pandas as pd\n",
    "import numpy as np\n",
    "import seaborn as sns\n",
    "import matplotlib.pyplot as plt\n",
    "sns.set_style('white')\n",
    "\n",
    "DataAPI.settings.cache_enabled = True\n",
    "pd.options.display.max_colwidth = 1000"
   ]
  },
  {
   "cell_type": "markdown",
   "id": "f6acfaab",
   "metadata": {},
   "source": [
    "* ##### 用到的一些ETF如下，包含世界范围内的多类资产："
   ]
  },
  {
   "cell_type": "code",
   "execution_count": null,
   "id": "b04d379c",
   "metadata": {
    "collapsed": false,
    "jupyter": {
     "outputs_hidden": false
    }
   },
   "outputs": [
    {
     "data": {
      "text/html": [
       "<div style=\"max-width:1500px;overflow:auto;\">\n",
       "<table border=\"1\" class=\"dataframe\">\n",
       "  <thead>\n",
       "    <tr style=\"text-align: right;\">\n",
       "      <th>secID</th>\n",
       "      <th>511010.XSHG</th>\n",
       "      <th>159915.XSHE</th>\n",
       "      <th>510050.XSHG</th>\n",
       "      <th>510300.XSHG</th>\n",
       "      <th>510500.XSHG</th>\n",
       "      <th>513100.XSHG</th>\n",
       "      <th>513500.XSHG</th>\n",
       "      <th>511880.XSHG</th>\n",
       "      <th>160216.XSHE</th>\n",
       "      <th>518880.XSHG</th>\n",
       "    </tr>\n",
       "  </thead>\n",
       "  <tbody>\n",
       "    <tr>\n",
       "      <th>secShortName</th>\n",
       "      <td>国泰上证5年期国债ETF</td>\n",
       "      <td>易方达创业板ETF</td>\n",
       "      <td>华夏上证50ETF</td>\n",
       "      <td>华泰柏瑞沪深300ETF</td>\n",
       "      <td>南方中证500ETF</td>\n",
       "      <td>国泰纳斯达克100ETF(QDII)</td>\n",
       "      <td>博时标普500ETF(QDII)</td>\n",
       "      <td>银华货币ETF-A</td>\n",
       "      <td>国泰大宗商品配置(QDII-LOF)</td>\n",
       "      <td>华安易富黄金ETF</td>\n",
       "    </tr>\n",
       "    <tr>\n",
       "      <th>listDate</th>\n",
       "      <td>2013-03-25</td>\n",
       "      <td>2011-12-09</td>\n",
       "      <td>2005-02-23</td>\n",
       "      <td>2012-05-28</td>\n",
       "      <td>2013-03-15</td>\n",
       "      <td>2013-05-15</td>\n",
       "      <td>2014-01-15</td>\n",
       "      <td>2013-04-18</td>\n",
       "      <td>2015-04-07</td>\n",
       "      <td>2013-07-29</td>\n",
       "    </tr>\n",
       "    <tr>\n",
       "      <th>category</th>\n",
       "      <td>B</td>\n",
       "      <td>E</td>\n",
       "      <td>E</td>\n",
       "      <td>E</td>\n",
       "      <td>E</td>\n",
       "      <td>E</td>\n",
       "      <td>E</td>\n",
       "      <td>M</td>\n",
       "      <td>O</td>\n",
       "      <td>O</td>\n",
       "    </tr>\n",
       "  </tbody>\n",
       "</table>\n",
       "</div>"
      ],
      "text/plain": [
       "secID          511010.XSHG 159915.XSHE 510050.XSHG   510300.XSHG 510500.XSHG  \\\n",
       "secShortName  国泰上证5年期国债ETF   易方达创业板ETF   华夏上证50ETF  华泰柏瑞沪深300ETF  南方中证500ETF   \n",
       "listDate        2013-03-25  2011-12-09  2005-02-23    2012-05-28  2013-03-15   \n",
       "category                 B           E           E             E           E   \n",
       "\n",
       "secID                513100.XSHG       513500.XSHG 511880.XSHG  \\\n",
       "secShortName  国泰纳斯达克100ETF(QDII)  博时标普500ETF(QDII)   银华货币ETF-A   \n",
       "listDate              2013-05-15        2014-01-15  2013-04-18   \n",
       "category                       E                 E           M   \n",
       "\n",
       "secID                160216.XSHE 518880.XSHG  \n",
       "secShortName  国泰大宗商品配置(QDII-LOF)   华安易富黄金ETF  \n",
       "listDate              2015-04-07  2013-07-29  \n",
       "category                       O           O  "
      ]
     },
     "execution_count": 2,
     "metadata": {},
     "output_type": "execute_result"
    }
   ],
   "source": [
    "DataAPI.FundGet(secID = ['159915.XSHE', '160216.XSHE', '510050.XSHG', \n",
    "                '510300.XSHG','510500.XSHG', '511010.XSHG', '511880.XSHG', '513100.XSHG', '513500.XSHG', '518880.XSHG'], \n",
    "                field = 'secID,secShortName,listDate,category').set_index('secID').sort('category').T"
   ]
  },
  {
   "cell_type": "code",
   "execution_count": null,
   "id": "df85e882",
   "metadata": {},
   "outputs": [],
   "source": [
    "def markowitz(cov_mat, exp_rtn, risk_aversion = 3, single_asset_capacity = 0.2):\n",
    "    \n",
    "    P = risk_aversion * matrix(cov_mat.values)\n",
    "    q = -1 * matrix(exp_rtn.values)\n",
    "    G = matrix(np.vstack((np.diag(np.ones(len(exp_rtn))),np.diag(-np.ones(len(exp_rtn))))))\n",
    "    h = matrix(np.array([np.ones(len(exp_rtn)) * single_asset_capacity, np.zeros(len(exp_rtn))]).reshape(len(exp_rtn)*2,1))\n",
    "    A = matrix(np.ones(len(exp_rtn)),(1,len(exp_rtn)))\n",
    "    b = matrix([1.0])\n",
    "    solvers.options['show_progress'] = False\n",
    "    sol = solvers.qp(P,q, G, h, A, b)\n",
    "    return sol, pd.DataFrame(index=exp_rtn.index,data = np.round(sol['x'],3), columns = ['weight'])"
   ]
  },
  {
   "cell_type": "markdown",
   "id": "b3f284a8",
   "metadata": {},
   "source": [
    "* ##### 在`2014-01-01 ～ 2016-08-29`期间进行回测，效果看起来不错"
   ]
  },
  {
   "cell_type": "markdown",
   "id": "1ba0d82c",
   "metadata": {},
   "source": [
    "* ##### 概览回测期间持仓情况，可见2014年底有一次大幅换仓，之前主要持有美股ETF；之后黄金ETF与债券ETF比例有所提升。"
   ]
  },
  {
   "cell_type": "code",
   "execution_count": null,
   "id": "40d50735",
   "metadata": {
    "collapsed": false,
    "jupyter": {
     "outputs_hidden": false
    }
   },
   "outputs": [
    {
     "data": {
      "image/png": "[encoded data removed]",
      "text/plain": [
       "<matplotlib.figure.Figure at 0x8050e50>"
      ]
     },
     "metadata": {},
     "output_type": "display_data"
    }
   ],
   "source": [
    "res = {}\n",
    "for x,date in enumerate(bt.tradeDate):\n",
    "    new_bt = bt.set_index('tradeDate')\n",
    "    res[date] = new_bt.security_position[x]\n",
    "    \n",
    "res = pd.Panel(res)\n",
    "\n",
    "fig = (res.major_xs('value').fillna(0) / new_bt.portfolio_value).T[::40].plot(kind = 'bar', figsize = (20,4), cmap = plt.cm.Blues)\n",
    "plt.legend(\n",
    "    map(lambda x: x.decode('utf-8'), DataAPI.FundGet(secID = res.major_xs('value').index, field = 'secShortName').secShortName), \n",
    "    prop = font, loc = 2)\n",
    "fig.set_xticklabels(map(lambda x: x.strftime('%Y-%m-%d') ,(res.major_xs('value').fillna(0) / new_bt.portfolio_value).T[::40].index), \n",
    "                    rotation = 30, ha = 'right')\n",
    "plt.title(u'回测期间持仓概览', fontproperties = font, fontsize = 20)\n",
    "plt.show()"
   ]
  }
 ],
 "metadata": {
  "kernelspec": {
   "display_name": "Python 3",
   "language": "python",
   "name": "python3"
  },
  "language_info": {
   "codemirror_mode": {
    "name": "ipython",
    "version": 3
   },
   "file_extension": ".py",
   "mimetype": "text/x-python",
   "name": "python",
   "nbconvert_exporter": "python",
   "pygments_lexer": "ipython3",
   "version": "3.8.7"
  }
 },
 "nbformat": 4,
 "nbformat_minor": 5
}
