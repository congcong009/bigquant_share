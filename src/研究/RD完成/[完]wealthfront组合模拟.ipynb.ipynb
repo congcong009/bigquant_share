{
 "cells": [
  {
   "cell_type": "markdown",
   "id": "3f1494a3",
   "metadata": {},
   "source": [
    " ####   **本篇结合wealthfront投资白皮书，详细介绍并开源了wealthfront的资产配置方法**\n",
    " \n",
    " #####   目前国内也出来很多创业团队做这块，其实没有太多神秘的黑科技，优矿瞬间搞定\n",
    " #####   结合我国实情，在本篇中给出一个中国版的wealthfront实例\n",
    " #####   具体wealthfront投资白皮书，参见链接 https://research.wealthfront.com/whitepapers/investment-methodology/"
   ]
  },
  {
   "cell_type": "markdown",
   "id": "7511f3c5",
   "metadata": {},
   "source": [
    "####  **  wealthfront介绍 **"
   ]
  },
  {
   "cell_type": "markdown",
   "id": "7d777723",
   "metadata": {},
   "source": [
    "-  wealthfront是美国知名的在线资产管理平台，目前其管理的资产总额已超过25亿美元https://www.wealthfront.com/\n",
    "\n",
    "-  以ETF为标的，资产配置为理念，根据客户不同的风险偏好构建不同的投资组合\n",
    "\n",
    "-  实时跟踪用户组合持仓，给出健康评分，同时根据市场情况和客户风险偏好变化帮用户调整到最优持仓"
   ]
  },
  {
   "cell_type": "markdown",
   "id": "8601d9db",
   "metadata": {},
   "source": [
    "####  **    投资理念**"
   ]
  },
  {
   "cell_type": "markdown",
   "id": "fc4baf93",
   "metadata": {},
   "source": [
    "- 价值投资（长线投资）：享受经济增长带来的资本增值，并非每个人都有时间看盘，短线投资太累不靠谱\n",
    "\n",
    "- 被动投资：国内外众多研究表明，长期来看，主动型投资的收益不一定跑得过被动型投资，同时被动投资更容易分散风险\n",
    "\n",
    "- 资产配置：不要把鸡蛋放在同一个篮子里，做好资产配置，分散掉没有价值非系统性风险"
   ]
  },
  {
   "cell_type": "markdown",
   "id": "2d768006",
   "metadata": {},
   "source": [
    "#####  下面，将按照完整的投资步骤详细描述（主要包括选取资产大类，相关性矩阵，构建有效前沿，资产配置方法，组合监控和动态调仓）\n",
    "#####  并结合中国实情，以具体的例子展开上述过程"
   ]
  },
  {
   "cell_type": "markdown",
   "id": "30ca97e4",
   "metadata": {},
   "source": [
    "####  **  1   选取资产大类 **"
   ]
  },
  {
   "cell_type": "markdown",
   "id": "2becccc2",
   "metadata": {},
   "source": [
    "- 所选取的资产大类要尽可能涵盖整个市场，而且不同收益特征的都要包括进来，大致可以分为：权益类，债券类和货币类\n",
    "\n",
    "- 对于每一大类资产，结合我国实情又可以细分很多小类，小类数量不在于多，在于彼此间能够有效地分散掉非系统性风险，使efficient frontier最优\n",
    "\n",
    "- 最后，选取出来七类资产：国内股市（大盘股、中盘股、小盘股）、国外股市（美股）、国内债券（国债、企业债）、货币基金\n",
    "\n",
    "- 由于是被动投资，考虑历史数据长短问题，上述七类资产分别以`沪深300、中证500、创业板、标普500、上证国债、上证企业债、博时现金收益A`为代表"
   ]
  },
  {
   "cell_type": "markdown",
   "id": "f4533992",
   "metadata": {},
   "source": [
    "#####  不失一般性，下面以过去三年的历史数据计算标的的相关指标，需要特别关注的是相关性系数矩阵，因为需要寻找的是相关性不强甚至是负相关的标的"
   ]
  },
  {
   "cell_type": "code",
   "execution_count": 2,
   "id": "c929ef53",
   "metadata": {
    "collapsed": false,
    "jupyter": {
     "outputs_hidden": false
    }
   },
   "outputs": [
    {
     "data": {
      "text/html": [
       "<div>\n",
       "<style scoped>\n",
       "    .dataframe tbody tr th:only-of-type {\n",
       "        vertical-align: middle;\n",
       "    }\n",
       "\n",
       "    .dataframe tbody tr th {\n",
       "        vertical-align: top;\n",
       "    }\n",
       "\n",
       "    .dataframe thead th {\n",
       "        text-align: right;\n",
       "    }\n",
       "</style>\n",
       "<table border=\"1\" class=\"dataframe\">\n",
       "  <thead>\n",
       "    <tr style=\"text-align: right;\">\n",
       "      <th>secShortName</th>\n",
       "      <th>159825.ZOF</th>\n",
       "      <th>510500.HOF</th>\n",
       "      <th>512680.HOF</th>\n",
       "      <th>512880.HOF</th>\n",
       "      <th>513050.HOF</th>\n",
       "      <th>513100.HOF</th>\n",
       "      <th>515050.HOF</th>\n",
       "    </tr>\n",
       "    <tr>\n",
       "      <th>tradeDate</th>\n",
       "      <th></th>\n",
       "      <th></th>\n",
       "      <th></th>\n",
       "      <th></th>\n",
       "      <th></th>\n",
       "      <th></th>\n",
       "      <th></th>\n",
       "    </tr>\n",
       "  </thead>\n",
       "  <tbody>\n",
       "    <tr>\n",
       "      <th>2019-01-02</th>\n",
       "      <td>0.0</td>\n",
       "      <td>0.000000</td>\n",
       "      <td>0.000000</td>\n",
       "      <td>0.000000</td>\n",
       "      <td>0.000000</td>\n",
       "      <td>0.000000</td>\n",
       "      <td>0.0</td>\n",
       "    </tr>\n",
       "    <tr>\n",
       "      <th>2019-01-03</th>\n",
       "      <td>0.0</td>\n",
       "      <td>-0.002495</td>\n",
       "      <td>0.018003</td>\n",
       "      <td>0.021008</td>\n",
       "      <td>0.000971</td>\n",
       "      <td>-0.003583</td>\n",
       "      <td>0.0</td>\n",
       "    </tr>\n",
       "    <tr>\n",
       "      <th>2019-01-04</th>\n",
       "      <td>0.0</td>\n",
       "      <td>0.027285</td>\n",
       "      <td>0.024116</td>\n",
       "      <td>0.075446</td>\n",
       "      <td>0.006789</td>\n",
       "      <td>-0.000449</td>\n",
       "      <td>0.0</td>\n",
       "    </tr>\n",
       "    <tr>\n",
       "      <th>2019-01-07</th>\n",
       "      <td>0.0</td>\n",
       "      <td>0.017264</td>\n",
       "      <td>0.037677</td>\n",
       "      <td>-0.003826</td>\n",
       "      <td>0.028902</td>\n",
       "      <td>0.032374</td>\n",
       "      <td>0.0</td>\n",
       "    </tr>\n",
       "    <tr>\n",
       "      <th>2019-01-08</th>\n",
       "      <td>0.0</td>\n",
       "      <td>-0.002176</td>\n",
       "      <td>-0.013616</td>\n",
       "      <td>0.001280</td>\n",
       "      <td>0.007491</td>\n",
       "      <td>0.013937</td>\n",
       "      <td>0.0</td>\n",
       "    </tr>\n",
       "  </tbody>\n",
       "</table>\n",
       "</div>"
      ],
      "text/plain": [
       "secShortName  159825.ZOF  510500.HOF  512680.HOF  512880.HOF  513050.HOF  \\\n",
       "tradeDate                                                                  \n",
       "2019-01-02           0.0    0.000000    0.000000    0.000000    0.000000   \n",
       "2019-01-03           0.0   -0.002495    0.018003    0.021008    0.000971   \n",
       "2019-01-04           0.0    0.027285    0.024116    0.075446    0.006789   \n",
       "2019-01-07           0.0    0.017264    0.037677   -0.003826    0.028902   \n",
       "2019-01-08           0.0   -0.002176   -0.013616    0.001280    0.007491   \n",
       "\n",
       "secShortName  513100.HOF  515050.HOF  \n",
       "tradeDate                             \n",
       "2019-01-02      0.000000         0.0  \n",
       "2019-01-03     -0.003583         0.0  \n",
       "2019-01-04     -0.000449         0.0  \n",
       "2019-01-07      0.032374         0.0  \n",
       "2019-01-08      0.013937         0.0  "
      ]
     },
     "execution_count": 2,
     "metadata": {},
     "output_type": "execute_result"
    }
   ],
   "source": [
    "#  数据准备\n",
    "import numpy as np\n",
    "import pandas as pd\n",
    "from cvxopt import matrix, solvers\n",
    "from pandas import DataFrame, Series\n",
    "from matplotlib import pyplot as plt\n",
    "\n",
    "startdate = '20190101'\n",
    "enddate = '20210101'\n",
    "\n",
    "secIDs = ['512680.HOF','513100.HOF','512880.HOF','513050.HOF','515050.HOF','510500.HOF','159825.ZOF']   # \n",
    "rtns = DataFrame()\n",
    "\n",
    "for i in range(len(secIDs)):\n",
    "    cp = DataSource('bar1d_CN_FUND').read(secIDs[i],start_date=startdate,end_date=enddate,fields = ['instrument', 'date', 'close'])  # \n",
    "    cp.sort_values('date', inplace = True)\n",
    "    cp.columns = ['secShortName','tradeDate','return']\n",
    "    cp['return'][1:] = 1.0 * cp['return'][1:].values / cp['return'][:-1].values - 1  \n",
    "    cp['return'][:1] = 0\n",
    "    rtns = pd.concat([rtns,cp],axis = 0)\n",
    "rtn_table = pd.crosstab(rtns['tradeDate'],rtns['secShortName'], values = rtns['return'], aggfunc = sum)  #  一维表变为二维表\n",
    "# rtn_table = rtn_table[[6,2,3,5,1,0,4]]\n",
    "rtn_table.fillna(0, inplace = True)  #  将NaN置换为0\n",
    "# print(cp)\n",
    "rtn_table.head(5)"
   ]
  },
  {
   "cell_type": "markdown",
   "id": "7ea22d83",
   "metadata": {},
   "source": [
    "先随便计算一下指标，年化收益率，年化标准差"
   ]
  },
  {
   "cell_type": "code",
   "execution_count": 3,
   "id": "6bea990c",
   "metadata": {
    "collapsed": false,
    "jupyter": {
     "outputs_hidden": false
    }
   },
   "outputs": [
    {
     "data": {
      "text/plain": [
       "secShortName\n",
       "159825.ZOF    0.009679\n",
       "510500.HOF    0.269689\n",
       "512680.HOF    0.442200\n",
       "512880.HOF    0.344567\n",
       "513050.HOF    0.395214\n",
       "513100.HOF    0.382165\n",
       "515050.HOF    0.136972\n",
       "dtype: float32"
      ]
     },
     "execution_count": 3,
     "metadata": {},
     "output_type": "execute_result"
    }
   ],
   "source": [
    "rtn_table.mean() * 250"
   ]
  },
  {
   "cell_type": "code",
   "execution_count": 41,
   "id": "4373dcee",
   "metadata": {
    "collapsed": false,
    "jupyter": {
     "outputs_hidden": false
    }
   },
   "outputs": [
    {
     "data": {
      "text/plain": [
       "secShortName\n",
       "159825.ZOF    0.009558\n",
       "510500.HOF    0.241084\n",
       "512680.HOF    0.322179\n",
       "512880.HOF    0.372172\n",
       "513050.HOF    0.247219\n",
       "513100.HOF    0.270478\n",
       "515050.HOF    0.277972\n",
       "dtype: float32"
      ]
     },
     "execution_count": 41,
     "metadata": {},
     "output_type": "execute_result"
    }
   ],
   "source": [
    "rtn_table.std() * np.sqrt(250)"
   ]
  },
  {
   "cell_type": "markdown",
   "id": "5c1433e5",
   "metadata": {},
   "source": [
    "接下来计算我们关心的相关系数矩阵"
   ]
  },
  {
   "cell_type": "code",
   "execution_count": 5,
   "id": "3ae74430",
   "metadata": {
    "collapsed": false,
    "jupyter": {
     "outputs_hidden": false
    }
   },
   "outputs": [
    {
     "data": {
      "text/html": [
       "<div>\n",
       "<style scoped>\n",
       "    .dataframe tbody tr th:only-of-type {\n",
       "        vertical-align: middle;\n",
       "    }\n",
       "\n",
       "    .dataframe tbody tr th {\n",
       "        vertical-align: top;\n",
       "    }\n",
       "\n",
       "    .dataframe thead th {\n",
       "        text-align: right;\n",
       "    }\n",
       "</style>\n",
       "<table border=\"1\" class=\"dataframe\">\n",
       "  <thead>\n",
       "    <tr style=\"text-align: right;\">\n",
       "      <th>secShortName</th>\n",
       "      <th>159825.ZOF</th>\n",
       "      <th>510500.HOF</th>\n",
       "      <th>512680.HOF</th>\n",
       "      <th>512880.HOF</th>\n",
       "      <th>513050.HOF</th>\n",
       "      <th>513100.HOF</th>\n",
       "      <th>515050.HOF</th>\n",
       "    </tr>\n",
       "    <tr>\n",
       "      <th>secShortName</th>\n",
       "      <th></th>\n",
       "      <th></th>\n",
       "      <th></th>\n",
       "      <th></th>\n",
       "      <th></th>\n",
       "      <th></th>\n",
       "      <th></th>\n",
       "    </tr>\n",
       "  </thead>\n",
       "  <tbody>\n",
       "    <tr>\n",
       "      <th>159825.ZOF</th>\n",
       "      <td>1.000000</td>\n",
       "      <td>0.044204</td>\n",
       "      <td>0.099497</td>\n",
       "      <td>0.082142</td>\n",
       "      <td>0.119938</td>\n",
       "      <td>-0.009011</td>\n",
       "      <td>0.014397</td>\n",
       "    </tr>\n",
       "    <tr>\n",
       "      <th>510500.HOF</th>\n",
       "      <td>0.044204</td>\n",
       "      <td>1.000000</td>\n",
       "      <td>0.770466</td>\n",
       "      <td>0.806862</td>\n",
       "      <td>0.554017</td>\n",
       "      <td>0.407018</td>\n",
       "      <td>0.631776</td>\n",
       "    </tr>\n",
       "    <tr>\n",
       "      <th>512680.HOF</th>\n",
       "      <td>0.099497</td>\n",
       "      <td>0.770466</td>\n",
       "      <td>1.000000</td>\n",
       "      <td>0.618615</td>\n",
       "      <td>0.319633</td>\n",
       "      <td>0.270338</td>\n",
       "      <td>0.508736</td>\n",
       "    </tr>\n",
       "    <tr>\n",
       "      <th>512880.HOF</th>\n",
       "      <td>0.082142</td>\n",
       "      <td>0.806862</td>\n",
       "      <td>0.618615</td>\n",
       "      <td>1.000000</td>\n",
       "      <td>0.437931</td>\n",
       "      <td>0.317054</td>\n",
       "      <td>0.484966</td>\n",
       "    </tr>\n",
       "    <tr>\n",
       "      <th>513050.HOF</th>\n",
       "      <td>0.119938</td>\n",
       "      <td>0.554017</td>\n",
       "      <td>0.319633</td>\n",
       "      <td>0.437931</td>\n",
       "      <td>1.000000</td>\n",
       "      <td>0.583057</td>\n",
       "      <td>0.445961</td>\n",
       "    </tr>\n",
       "    <tr>\n",
       "      <th>513100.HOF</th>\n",
       "      <td>-0.009011</td>\n",
       "      <td>0.407018</td>\n",
       "      <td>0.270338</td>\n",
       "      <td>0.317054</td>\n",
       "      <td>0.583057</td>\n",
       "      <td>1.000000</td>\n",
       "      <td>0.368573</td>\n",
       "    </tr>\n",
       "    <tr>\n",
       "      <th>515050.HOF</th>\n",
       "      <td>0.014397</td>\n",
       "      <td>0.631776</td>\n",
       "      <td>0.508736</td>\n",
       "      <td>0.484966</td>\n",
       "      <td>0.445961</td>\n",
       "      <td>0.368573</td>\n",
       "      <td>1.000000</td>\n",
       "    </tr>\n",
       "  </tbody>\n",
       "</table>\n",
       "</div>"
      ],
      "text/plain": [
       "secShortName  159825.ZOF  510500.HOF  512680.HOF  512880.HOF  513050.HOF  \\\n",
       "secShortName                                                               \n",
       "159825.ZOF      1.000000    0.044204    0.099497    0.082142    0.119938   \n",
       "510500.HOF      0.044204    1.000000    0.770466    0.806862    0.554017   \n",
       "512680.HOF      0.099497    0.770466    1.000000    0.618615    0.319633   \n",
       "512880.HOF      0.082142    0.806862    0.618615    1.000000    0.437931   \n",
       "513050.HOF      0.119938    0.554017    0.319633    0.437931    1.000000   \n",
       "513100.HOF     -0.009011    0.407018    0.270338    0.317054    0.583057   \n",
       "515050.HOF      0.014397    0.631776    0.508736    0.484966    0.445961   \n",
       "\n",
       "secShortName  513100.HOF  515050.HOF  \n",
       "secShortName                          \n",
       "159825.ZOF     -0.009011    0.014397  \n",
       "510500.HOF      0.407018    0.631776  \n",
       "512680.HOF      0.270338    0.508736  \n",
       "512880.HOF      0.317054    0.484966  \n",
       "513050.HOF      0.583057    0.445961  \n",
       "513100.HOF      1.000000    0.368573  \n",
       "515050.HOF      0.368573    1.000000  "
      ]
     },
     "execution_count": 5,
     "metadata": {},
     "output_type": "execute_result"
    }
   ],
   "source": [
    "rtn_table.corr()"
   ]
  },
  {
   "cell_type": "markdown",
   "id": "2028ded5",
   "metadata": {},
   "source": [
    "##### 从上面可以看到：\n",
    "\n",
    "-  收益相对稳定的债券和货币与其他类的资产相关性都比较低，一方面通过配置可以分散非系统性风险，另一方面在市场不好时可以提供相对稳健的收益\n",
    "-  标普和国内股市相关性弱，这在进行权益类配置时特别有效，比如在12-14年我国股市表现不佳时，标普500却走出了一波慢牛\n",
    "\n",
    "#####  ** 接下来，就来对比绘制efficient frontier，从实际中直观感知资产多元化带来的风险分散效果 **\n",
    "\n",
    "- 构建两个组合作为对比，`组合一`仅包含**沪深300、中证500、创业板、国债、货币**，`组合二`则包含了**组合一、标普500、企业债**\n",
    "- 绘制effiecient frontier用到了凸优化包cvxopt，关于cvxopt的用法详细介绍，参见。。。。。\n",
    "- 在构建efficient frontier中，预期收益采取市场中性原则，用过去三年的平均收益"
   ]
  },
  {
   "cell_type": "code",
   "execution_count": 14,
   "id": "7918f428",
   "metadata": {},
   "outputs": [
    {
     "data": {
      "text/html": [
       "<div>\n",
       "<style scoped>\n",
       "    .dataframe tbody tr th:only-of-type {\n",
       "        vertical-align: middle;\n",
       "    }\n",
       "\n",
       "    .dataframe tbody tr th {\n",
       "        vertical-align: top;\n",
       "    }\n",
       "\n",
       "    .dataframe thead th {\n",
       "        text-align: right;\n",
       "    }\n",
       "</style>\n",
       "<table border=\"1\" class=\"dataframe\">\n",
       "  <thead>\n",
       "    <tr style=\"text-align: right;\">\n",
       "      <th>secShortName</th>\n",
       "      <th>159825.ZOF</th>\n",
       "      <th>510500.HOF</th>\n",
       "      <th>512680.HOF</th>\n",
       "      <th>513050.HOF</th>\n",
       "      <th>515050.HOF</th>\n",
       "    </tr>\n",
       "    <tr>\n",
       "      <th>secShortName</th>\n",
       "      <th></th>\n",
       "      <th></th>\n",
       "      <th></th>\n",
       "      <th></th>\n",
       "      <th></th>\n",
       "    </tr>\n",
       "  </thead>\n",
       "  <tbody>\n",
       "    <tr>\n",
       "      <th>159825.ZOF</th>\n",
       "      <td>0.000091</td>\n",
       "      <td>0.000102</td>\n",
       "      <td>0.000306</td>\n",
       "      <td>0.000283</td>\n",
       "      <td>0.000038</td>\n",
       "    </tr>\n",
       "    <tr>\n",
       "      <th>510500.HOF</th>\n",
       "      <td>0.000102</td>\n",
       "      <td>0.058122</td>\n",
       "      <td>0.059844</td>\n",
       "      <td>0.033020</td>\n",
       "      <td>0.042338</td>\n",
       "    </tr>\n",
       "    <tr>\n",
       "      <th>512680.HOF</th>\n",
       "      <td>0.000306</td>\n",
       "      <td>0.059844</td>\n",
       "      <td>0.103799</td>\n",
       "      <td>0.025458</td>\n",
       "      <td>0.045561</td>\n",
       "    </tr>\n",
       "    <tr>\n",
       "      <th>513050.HOF</th>\n",
       "      <td>0.000283</td>\n",
       "      <td>0.033020</td>\n",
       "      <td>0.025458</td>\n",
       "      <td>0.061117</td>\n",
       "      <td>0.030646</td>\n",
       "    </tr>\n",
       "    <tr>\n",
       "      <th>515050.HOF</th>\n",
       "      <td>0.000038</td>\n",
       "      <td>0.042338</td>\n",
       "      <td>0.045561</td>\n",
       "      <td>0.030646</td>\n",
       "      <td>0.077269</td>\n",
       "    </tr>\n",
       "  </tbody>\n",
       "</table>\n",
       "</div>"
      ],
      "text/plain": [
       "secShortName  159825.ZOF  510500.HOF  512680.HOF  513050.HOF  515050.HOF\n",
       "secShortName                                                            \n",
       "159825.ZOF      0.000091    0.000102    0.000306    0.000283    0.000038\n",
       "510500.HOF      0.000102    0.058122    0.059844    0.033020    0.042338\n",
       "512680.HOF      0.000306    0.059844    0.103799    0.025458    0.045561\n",
       "513050.HOF      0.000283    0.033020    0.025458    0.061117    0.030646\n",
       "515050.HOF      0.000038    0.042338    0.045561    0.030646    0.077269"
      ]
     },
     "execution_count": 14,
     "metadata": {},
     "output_type": "execute_result"
    }
   ],
   "source": [
    "portfolio1 = [0,1,2,4,6]\n",
    "cov_mat.iloc[portfolio1,portfolio1]"
   ]
  },
  {
   "cell_type": "code",
   "execution_count": 30,
   "id": "928c5b8d",
   "metadata": {
    "collapsed": false,
    "jupyter": {
     "outputs_hidden": false
    }
   },
   "outputs": [],
   "source": [
    "from cvxopt import matrix, solvers\n",
    "\n",
    "portfolio1 = [0,1,2,4,6]\n",
    "portfolio2 = range(7)\n",
    "cov_mat = rtn_table.cov() * 250   # 协方差矩阵\n",
    "exp_rtn = rtn_table.mean() * 250   # 标的预期收益\n",
    "\n",
    "def cal_efficient_frontier(portfolio): \n",
    "    #简单的容错处理\n",
    "    if len(portfolio) <= 2 or len(portfolio) > 7:\n",
    "        raise Exception('portfolio必须为长度大于2小于7的list！') \n",
    "    # 数据准备\n",
    "    cov_mat1 = cov_mat.iloc[portfolio, portfolio]\n",
    "    exp_rtn1 = exp_rtn.iloc[portfolio]\n",
    "    max_rtn = max(exp_rtn1)\n",
    "    min_rtn = min(exp_rtn1)\n",
    "    risks = [] \n",
    "    returns = []\n",
    "    # 均匀选取20个点来作图\n",
    "    for level_rtn in np.linspace(min_rtn, max_rtn, 20):   \n",
    "        sec_num = len(portfolio)\n",
    "        P = 2*matrix(cov_mat1.values)\n",
    "        q = matrix(np.zeros(sec_num))\n",
    "        G = matrix(np.diag(-1 * np.ones(sec_num)))\n",
    "        h = matrix(0.0, (sec_num,1))\n",
    "        A = matrix(np.matrix([np.ones(sec_num),exp_rtn1.values]))\n",
    "        b = matrix([1.0,level_rtn])\n",
    "        solvers.options['show_progress'] = False\n",
    "        sol = solvers.qp(P,q, G, h, A, b)\n",
    "        risks.append(sol['primal objective'])\n",
    "        returns.append(level_rtn)\n",
    "    return np.sqrt(risks), returns\n",
    "\n",
    "#  计算画图数据\n",
    "risk1, return1 = cal_efficient_frontier(portfolio1)\n",
    "risk2, return2 = cal_efficient_frontier(portfolio2)"
   ]
  },
  {
   "cell_type": "markdown",
   "id": "31088f96",
   "metadata": {},
   "source": [
    "在上述准备好数据之后，接下来就构建**组合一**(`沪深300、中证500、创业板、国债、货币`)和**组合二**(`组合一 + 标普500、企业债`)的efficient frontier"
   ]
  },
  {
   "cell_type": "code",
   "execution_count": 31,
   "id": "b5e72c37",
   "metadata": {
    "collapsed": false,
    "jupyter": {
     "outputs_hidden": false
    }
   },
   "outputs": [
    {
     "data": {
      "text/plain": [
       "<matplotlib.legend.Legend at 0x7f20cf5c4460>"
      ]
     },
     "execution_count": 31,
     "metadata": {},
     "output_type": "execute_result"
    },
    {
     "data": {
      "image/png": "[encoded data removed]",
      "text/plain": [
       "<Figure size 1008x576 with 1 Axes>"
      ]
     },
     "metadata": {
      "needs_background": "light"
     },
     "output_type": "display_data"
    }
   ],
   "source": [
    "fig = plt.figure(figsize = (14,8))\n",
    "ax1 = fig.add_subplot(111)\n",
    "ax1.plot(risk1,return1)\n",
    "ax1.plot(risk2,return2)\n",
    "ax1.set_title('有效前沿', fontsize = 12)\n",
    "ax1.set_xlabel('标准偏差', fontsize = 12)\n",
    "ax1.set_ylabel('预期回报', fontsize = 12)\n",
    "ax1.tick_params(labelsize = 12)\n",
    "ax1.legend(['组合1','组合2'], loc = 'best', fontsize = 12)"
   ]
  },
  {
   "cell_type": "markdown",
   "id": "fedac6a6",
   "metadata": {},
   "source": [
    "##### 从上图可以很直观地看到：\n",
    "- 组合一所包含的标的较少，相关性也较高，所以efficient frontier基本为一条直线，分散风险作用不明显\n",
    "\n",
    "- 组合二引入了和其他资产相关性都不高的标普500，使得efficient frontier得到了很大程度的优化\n",
    "\n",
    "- 由此也可以知晓，当加入某个标的之后能够使得efficient frontier得到改进的话，那么加入该资产到组合中是非常有必要的\n",
    "\n",
    "#####  **接下来，给定预期收益，得到最优权重**\n",
    "\n",
    "- 如上分析，在得到最优的efficient frontier之后（本例中为`组合二`），便可以在资产池中进行资产配置\n",
    "\n",
    "- 假定某投资者的风险厌恶系数为3（系数越大，表明越厌恶风险，投资更保守），那么就可以借鉴**`均方差优化`**来计算自由的资产配置权重\n",
    "\n",
    "#####  **附：均值方差优化简介**\n",
    "\n",
    "- 均值方差模型可以理解成是一个效用函数的最大化，目标效用 = 预期收益带来的正效用 - 承担风险带来的负效用，用公式表示如下：\n",
    "$$max({u'*w}-{\\lambda/2*w'*\\Sigma*w})$$\n",
    "$$\\sum w = 1$$\n",
    "$$0 \\leq w \\leq 1$$\n",
    "上式中：$u$为资产的预期收益率，$w$为资产权重，$\\lambda$为投资者风险厌恶系数，$\\Sigma$为方差协方差矩阵\n",
    "\n",
    "- 一般情况下，通过给定$u$、$\\lambda$、$\\Sigma$，就可以计算最优的资产配置权重$w$\n",
    "\n",
    "- 上式表明，我们仅考虑long only时的情况"
   ]
  },
  {
   "cell_type": "code",
   "execution_count": 50,
   "id": "4743f225",
   "metadata": {
    "collapsed": false,
    "jupyter": {
     "outputs_hidden": false
    }
   },
   "outputs": [
    {
     "name": "stdout",
     "output_type": "stream",
     "text": [
      "              weight\n",
      "secShortName        \n",
      "159825.ZOF      0.00\n",
      "510500.HOF      0.00\n",
      "512680.HOF      0.45\n",
      "513050.HOF      0.55\n",
      "515050.HOF      0.00\n"
     ]
    },
    {
     "ename": "NameError",
     "evalue": "name 'level_rtn' is not defined",
     "output_type": "error",
     "traceback": [
      "\u001b[0;31m---------------------------------------------------------------------------\u001b[0m",
      "\u001b[0;31mNameError\u001b[0m                                 Traceback (most recent call last)",
      "\u001b[0;32m<ipython-input-50-f209aa560c1e>\u001b[0m in \u001b[0;36m<module>\u001b[0;34m\u001b[0m\n\u001b[1;32m     36\u001b[0m \u001b[0;34m\u001b[0m\u001b[0m\n\u001b[1;32m     37\u001b[0m \u001b[0;31m#  计算画图数据\u001b[0m\u001b[0;34m\u001b[0m\u001b[0;34m\u001b[0m\u001b[0;34m\u001b[0m\u001b[0m\n\u001b[0;32m---> 38\u001b[0;31m \u001b[0mrisk1\u001b[0m\u001b[0;34m,\u001b[0m \u001b[0mreturn1\u001b[0m \u001b[0;34m=\u001b[0m \u001b[0mcal_efficient_frontier\u001b[0m\u001b[0;34m(\u001b[0m\u001b[0mportfolio1\u001b[0m\u001b[0;34m)\u001b[0m\u001b[0;34m\u001b[0m\u001b[0;34m\u001b[0m\u001b[0m\n\u001b[0m\u001b[1;32m     39\u001b[0m \u001b[0;31m# risk2, return2 = cal_efficient_frontier(portfolio2)\u001b[0m\u001b[0;34m\u001b[0m\u001b[0;34m\u001b[0m\u001b[0;34m\u001b[0m\u001b[0m\n",
      "\u001b[0;32m<ipython-input-50-f209aa560c1e>\u001b[0m in \u001b[0;36mcal_efficient_frontier\u001b[0;34m(portfolio)\u001b[0m\n\u001b[1;32m     32\u001b[0m     \u001b[0mprint\u001b[0m\u001b[0;34m(\u001b[0m\u001b[0mdf_portfolio\u001b[0m\u001b[0;34m)\u001b[0m\u001b[0;34m\u001b[0m\u001b[0;34m\u001b[0m\u001b[0m\n\u001b[1;32m     33\u001b[0m     \u001b[0mrisks\u001b[0m\u001b[0;34m.\u001b[0m\u001b[0mappend\u001b[0m\u001b[0;34m(\u001b[0m\u001b[0msol\u001b[0m\u001b[0;34m[\u001b[0m\u001b[0;34m'primal objective'\u001b[0m\u001b[0;34m]\u001b[0m\u001b[0;34m)\u001b[0m\u001b[0;34m\u001b[0m\u001b[0;34m\u001b[0m\u001b[0m\n\u001b[0;32m---> 34\u001b[0;31m     \u001b[0mreturns\u001b[0m\u001b[0;34m.\u001b[0m\u001b[0mappend\u001b[0m\u001b[0;34m(\u001b[0m\u001b[0mlevel_rtn\u001b[0m\u001b[0;34m)\u001b[0m\u001b[0;34m\u001b[0m\u001b[0;34m\u001b[0m\u001b[0m\n\u001b[0m\u001b[1;32m     35\u001b[0m     \u001b[0;32mreturn\u001b[0m \u001b[0mnp\u001b[0m\u001b[0;34m.\u001b[0m\u001b[0msqrt\u001b[0m\u001b[0;34m(\u001b[0m\u001b[0mrisks\u001b[0m\u001b[0;34m)\u001b[0m\u001b[0;34m,\u001b[0m \u001b[0mreturns\u001b[0m\u001b[0;34m\u001b[0m\u001b[0;34m\u001b[0m\u001b[0m\n\u001b[1;32m     36\u001b[0m \u001b[0;34m\u001b[0m\u001b[0m\n",
      "\u001b[0;31mNameError\u001b[0m: name 'level_rtn' is not defined"
     ]
    }
   ],
   "source": [
    "portfolio1 = [0,1,2,4,6]\n",
    "portfolio2 = range(7)\n",
    "cov_mat = rtn_table.cov() * 250   # 协方差矩阵\n",
    "exp_rtn = rtn_table.mean() * 250   # 标的预期收益\n",
    "\n",
    "def cal_efficient_frontier(portfolio): \n",
    "    #简单的容错处理\n",
    "    if len(portfolio) <= 2 or len(portfolio) > 7:\n",
    "        raise Exception('portfolio必须为长度大于2小于7的list！') \n",
    "    # 数据准备\n",
    "    cov_mat1 = cov_mat.iloc[portfolio, portfolio]\n",
    "    exp_rtn1 = exp_rtn.iloc[portfolio]\n",
    "    max_rtn = max(exp_rtn1)\n",
    "    min_rtn = min(exp_rtn1)\n",
    "    risks = [] \n",
    "    returns = []\n",
    "    # 均匀选取20个点来作图\n",
    "#     for level_rtn in np.linspace(min_rtn, max_rtn, 20):\n",
    "    sec_num = len(portfolio)\n",
    "    risk_aversion = 3\n",
    "#         print(exp_rtn1.values)\n",
    "#         print(matrix(exp_rtn1.values))\n",
    "    P = risk_aversion * matrix(np.float64(cov_mat1.values))\n",
    "    q = -1 * matrix(np.float64(exp_rtn1.values))\n",
    "    G = matrix(np.vstack((np.diag(np.ones(len(exp_rtn1))),np.diag(-np.ones(len(exp_rtn1))))))\n",
    "    h = matrix(np.array([np.ones(len(exp_rtn1)),np.zeros(len(exp_rtn1))]).reshape(len(exp_rtn1)*2,1))\n",
    "    A = matrix(np.ones(len(exp_rtn1)),(1,len(exp_rtn1)))\n",
    "    b = matrix([1.0])\n",
    "    solvers.options['show_progress'] = False\n",
    "    sol = solvers.qp(P,q, G, h, A, b)\n",
    "    df_portfolio = DataFrame(index=exp_rtn1.index,data = np.round(sol['x'],2), columns = ['weight'])  # 权重精确到小数点后两位\n",
    "    print(df_portfolio)\n",
    "    risks.append(sol['primal objective'])\n",
    "    returns.append(level_rtn)\n",
    "    return np.sqrt(risks), returns\n",
    "\n",
    "#  计算画图数据\n",
    "risk1, return1 = cal_efficient_frontier(portfolio1)\n",
    "# risk2, return2 = cal_efficient_frontier(portfolio2)"
   ]
  },
  {
   "cell_type": "markdown",
   "id": "219cb208",
   "metadata": {},
   "source": [
    "- 如上所示，在我们的实例中，最优权重配置为58%的创业板，42%的标普500，只配置了两个标的，而且都是权益类的，相对风险较大，这主要是因为风险厌恶系数给定值较小的缘故\n",
    "- 对于如上配置过程只是一个范例，除此之外，我们还可以定义很多个性化的东西，比如：wealthfront为了保证配置的均匀性，要求每一大类的配置比例都不得超过35%，这些个性化的条件，只用简单的加在优化函数的限制条件里就实现了，读者可以自行实践\n",
    "\n",
    "#####  **最后，组合监控和动态调仓（rebalance）**\n",
    "承接上文，在构建好组合之后，\n",
    "#####  **以上是对wealthfront投资方法的整体介绍，同时详细介绍了我国版的实例，后期优矿可以让大家自己产生这样的策略在优矿上跑，比其他创业产品透明的多喔。**"
   ]
  },
  {
   "cell_type": "code",
   "execution_count": 52,
   "id": "86e33ed3",
   "metadata": {},
   "outputs": [
    {
     "name": "stdout",
     "output_type": "stream",
     "text": [
      "              weight\n",
      "secShortName        \n",
      "159825.ZOF      -0.0\n",
      "510500.HOF      -0.0\n",
      "512680.HOF       1.0\n",
      "512880.HOF       0.0\n",
      "513050.HOF       0.0\n",
      "513100.HOF       0.0\n",
      "515050.HOF      -0.0\n"
     ]
    },
    {
     "data": {
      "text/plain": [
       "<matplotlib.legend.Legend at 0x7f20c4adf220>"
      ]
     },
     "execution_count": 52,
     "metadata": {},
     "output_type": "execute_result"
    },
    {
     "data": {
      "image/png": "[encoded data removed]",
      "text/plain": [
       "<Figure size 1008x576 with 1 Axes>"
      ]
     },
     "metadata": {
      "needs_background": "light"
     },
     "output_type": "display_data"
    }
   ],
   "source": [
    "portfolio1 = range(7)\n",
    "cov_mat = rtn_table.cov() * 250   # 协方差矩阵\n",
    "exp_rtn = rtn_table.mean() * 250   # 标的预期收益\n",
    "\n",
    "def cal_efficient_frontier(portfolio): \n",
    "    # 数据准备\n",
    "    cov_mat1 = cov_mat.iloc[portfolio, portfolio]\n",
    "    exp_rtn1 = exp_rtn.iloc[portfolio]\n",
    "    max_rtn = max(exp_rtn1)\n",
    "    min_rtn = min(exp_rtn1)\n",
    "    risks = [] \n",
    "    returns = []\n",
    "    # 均匀选取20个点来作图\n",
    "    for level_rtn in np.linspace(min_rtn, max_rtn, 200):   \n",
    "        sec_num = len(portfolio)\n",
    "        P = 2*matrix(cov_mat1.values)\n",
    "        q = matrix(np.zeros(sec_num))\n",
    "        G = matrix(np.diag(-1 * np.ones(sec_num)))\n",
    "        h = matrix(0.0, (sec_num,1))\n",
    "        A = matrix(np.matrix([np.ones(sec_num), exp_rtn1.values]))\n",
    "        b = matrix([1.0,level_rtn])\n",
    "        solvers.options['show_progress'] = False\n",
    "        sol = solvers.qp(P,q, G, h, A, b)\n",
    "        risks.append(sol['primal objective'])\n",
    "        returns.append(level_rtn)\n",
    "    df_portfolio = DataFrame(index=exp_rtn1.index, data = np.round(sol['x'],2), columns = ['weight'])  # 权重精确到小数点后两位\n",
    "    print(df_portfolio)\n",
    "    return np.sqrt(risks), returns\n",
    "\n",
    "#  计算画图数据\n",
    "risk1, return1 = cal_efficient_frontier(portfolio1)\n",
    "\n",
    "fig = plt.figure(figsize = (14,8))\n",
    "ax1 = fig.add_subplot(111)\n",
    "ax1.plot(risk1,return1)\n",
    "ax1.set_title('有效前沿', fontsize = 12)\n",
    "ax1.set_xlabel('标准偏差', fontsize = 12)\n",
    "ax1.set_ylabel('预期回报', fontsize = 12)\n",
    "ax1.tick_params(labelsize = 12)\n",
    "ax1.legend(['组合1'], loc = 'best', fontsize = 12)"
   ]
  },
  {
   "cell_type": "code",
   "execution_count": null,
   "id": "0d8ec0d6",
   "metadata": {},
   "outputs": [],
   "source": []
  }
 ],
 "metadata": {
  "kernelspec": {
   "display_name": "Python 3",
   "language": "python",
   "name": "python3"
  },
  "language_info": {
   "codemirror_mode": {
    "name": "ipython",
    "version": 3
   },
   "file_extension": ".py",
   "mimetype": "text/x-python",
   "name": "python",
   "nbconvert_exporter": "python",
   "pygments_lexer": "ipython3",
   "version": "3.8.7"
  }
 },
 "nbformat": 4,
 "nbformat_minor": 5
}
