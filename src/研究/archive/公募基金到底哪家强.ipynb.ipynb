{
 "cells": [
  {
   "cell_type": "markdown",
   "id": "4716d853",
   "metadata": {},
   "source": [
    "### 摘要\n",
    "---\n",
    "- 2016年刚刚过去，好奇宝宝想要看看过去一年中各公募基金表现如何，是骡子是马拉出来遛遛\n",
    "- 从三个角度来看各大基金公司的表现：**规模、收益、风控**\n",
    "- 从规模上，看总规模排名、权益类规模排名、QDII排名等\n",
    "- 从收益上，精选2016年各类型前10名基金以及各基金公司在各类型上的综合收益表现\n",
    "- 从风控上，以2016年12月份中的债市大跌为例，看哪家公司在12月份债市风控做得更好"
   ]
  },
  {
   "cell_type": "markdown",
   "id": "392983d6",
   "metadata": {},
   "source": [
    "### 1、规模相关排名\n",
    "---\n",
    "- 为了对比的一致性，只选取2016年之前成立的开放式基金（未上市），而且为了更能说明问题，将类型分为货币型、债券型、混合型、股票型\n",
    "- 参与排名的基金都是在16年9月份发布了最新一期的基金报告的，能够取到基金净值的\n",
    "- 本部分的排名都是规模相关的排名，包括总规模、权益类规模排名等"
   ]
  },
  {
   "cell_type": "code",
   "execution_count": null,
   "id": "39621be7",
   "metadata": {
    "collapsed": false,
    "jupyter": {
     "outputs_hidden": false
    }
   },
   "outputs": [],
   "source": [
    "import numpy as np\n",
    "import pandas as pd\n",
    "\n",
    "data_info = DataAPI.FundGet(category='E,H,B,M',listStatusCd='UN',operationMode='O',field='ticker,secShortName,category,establishDate,managementFullName,managerName,indexFund,isQdii')\n",
    "data_info = data_info[data_info['establishDate'] < '20160101']  # 2016年之前成立的基金\n",
    "data_info = data_info.drop_duplicates(subset=['category','establishDate','managementFullName'])  # 同一只基金A,B,C类去重\n",
    "fund_assets = DataAPI.FundAssetsGet(reportDate='20160930', field='ticker,netAsset')  # 只有能够取到基金规模的参与统计排名\n",
    "tmp_asset = pd.merge(data_info, fund_assets, how='inner', on='ticker')"
   ]
  },
  {
   "cell_type": "markdown",
   "id": "6b5a6022",
   "metadata": {},
   "source": [
    "##### 如下是基金公司总规模前5排名，可以看到最高的天弘基金管理规模8297亿，总共109家公募基金管理规模大概在8.2万亿左右。"
   ]
  },
  {
   "cell_type": "code",
   "execution_count": null,
   "id": "78873374",
   "metadata": {
    "collapsed": false,
    "jupyter": {
     "outputs_hidden": false
    }
   },
   "outputs": [
    {
     "data": {
      "text/html": [
       "<div style=\"max-width:1500px;overflow:auto;\">\n",
       "<table border=\"1\" class=\"dataframe\">\n",
       "  <thead>\n",
       "    <tr style=\"text-align: right;\">\n",
       "      <th></th>\n",
       "      <th>netAsset</th>\n",
       "    </tr>\n",
       "    <tr>\n",
       "      <th>managementFullName</th>\n",
       "      <th></th>\n",
       "    </tr>\n",
       "  </thead>\n",
       "  <tbody>\n",
       "    <tr>\n",
       "      <th>天弘基金管理有限公司</th>\n",
       "      <td>8.296796e+11</td>\n",
       "    </tr>\n",
       "    <tr>\n",
       "      <th>华夏基金管理有限公司</th>\n",
       "      <td>5.248992e+11</td>\n",
       "    </tr>\n",
       "    <tr>\n",
       "      <th>工银瑞信基金管理有限公司</th>\n",
       "      <td>4.804730e+11</td>\n",
       "    </tr>\n",
       "    <tr>\n",
       "      <th>易方达基金管理有限公司</th>\n",
       "      <td>4.090070e+11</td>\n",
       "    </tr>\n",
       "    <tr>\n",
       "      <th>汇添富基金管理股份有限公司</th>\n",
       "      <td>3.681766e+11</td>\n",
       "    </tr>\n",
       "  </tbody>\n",
       "</table>\n",
       "</div>"
      ],
      "text/plain": [
       "                        netAsset\n",
       "managementFullName              \n",
       "天弘基金管理有限公司          8.296796e+11\n",
       "华夏基金管理有限公司          5.248992e+11\n",
       "工银瑞信基金管理有限公司        4.804730e+11\n",
       "易方达基金管理有限公司         4.090070e+11\n",
       "汇添富基金管理股份有限公司       3.681766e+11"
      ]
     },
     "execution_count": 4,
     "metadata": {},
     "output_type": "execute_result"
    }
   ],
   "source": [
    "tmp_asset.groupby('managementFullName').sum().sort('netAsset', ascending=False)[['netAsset']].head()"
   ]
  },
  {
   "cell_type": "markdown",
   "id": "6c1ff3cd",
   "metadata": {},
   "source": [
    "##### 各个类别的基金规模占比如下，很明显`货币基金规模高达55%，而权益类的不足10%`（其中，B为债券类，E为权益类，H为混合类，M为货币类）"
   ]
  },
  {
   "cell_type": "code",
   "execution_count": null,
   "id": "5ac9db11",
   "metadata": {
    "collapsed": false,
    "jupyter": {
     "outputs_hidden": false
    }
   },
   "outputs": [
    {
     "data": {
      "text/html": [
       "<div style=\"max-width:1500px;overflow:auto;\">\n",
       "<table border=\"1\" class=\"dataframe\">\n",
       "  <thead>\n",
       "    <tr style=\"text-align: right;\">\n",
       "      <th></th>\n",
       "      <th>netAsset</th>\n",
       "    </tr>\n",
       "    <tr>\n",
       "      <th>category</th>\n",
       "      <th></th>\n",
       "    </tr>\n",
       "  </thead>\n",
       "  <tbody>\n",
       "    <tr>\n",
       "      <th>B</th>\n",
       "      <td>0.127472</td>\n",
       "    </tr>\n",
       "    <tr>\n",
       "      <th>E</th>\n",
       "      <td>0.089062</td>\n",
       "    </tr>\n",
       "    <tr>\n",
       "      <th>H</th>\n",
       "      <td>0.234694</td>\n",
       "    </tr>\n",
       "    <tr>\n",
       "      <th>M</th>\n",
       "      <td>0.548772</td>\n",
       "    </tr>\n",
       "  </tbody>\n",
       "</table>\n",
       "</div>"
      ],
      "text/plain": [
       "          netAsset\n",
       "category          \n",
       "B         0.127472\n",
       "E         0.089062\n",
       "H         0.234694\n",
       "M         0.548772"
      ]
     },
     "execution_count": 5,
     "metadata": {},
     "output_type": "execute_result"
    }
   ],
   "source": [
    "tmp_asset.groupby('category').sum()[['netAsset']] / tmp_asset.groupby('category').sum()[['netAsset']].sum().head()"
   ]
  },
  {
   "cell_type": "markdown",
   "id": "ed3e7f3c",
   "metadata": {},
   "source": [
    "##### 一般来说，总规模并不能体现一家基金公司多么牛逼，更好奇的是主动管理能力\n",
    "---\n",
    "- 分两个维度：指数型 + 主动管理型\n",
    "- **指数型**：跟踪股票指数的所有基金\n",
    "- **主动管理型**：除掉指数型的其他所有权益型 + 混合型"
   ]
  },
  {
   "cell_type": "code",
   "execution_count": null,
   "id": "718dd1e0",
   "metadata": {
    "collapsed": false,
    "jupyter": {
     "outputs_hidden": false
    }
   },
   "outputs": [
    {
     "data": {
      "text/html": [
       "<div style=\"max-width:1500px;overflow:auto;\">\n",
       "<table border=\"1\" class=\"dataframe\">\n",
       "  <thead>\n",
       "    <tr style=\"text-align: right;\">\n",
       "      <th></th>\n",
       "      <th>netAsset</th>\n",
       "    </tr>\n",
       "    <tr>\n",
       "      <th>managementFullName</th>\n",
       "      <th></th>\n",
       "    </tr>\n",
       "  </thead>\n",
       "  <tbody>\n",
       "    <tr>\n",
       "      <th>富国基金管理有限公司</th>\n",
       "      <td>6.426651e+10</td>\n",
       "    </tr>\n",
       "    <tr>\n",
       "      <th>华夏基金管理有限公司</th>\n",
       "      <td>6.232905e+10</td>\n",
       "    </tr>\n",
       "    <tr>\n",
       "      <th>嘉实基金管理有限公司</th>\n",
       "      <td>3.716918e+10</td>\n",
       "    </tr>\n",
       "    <tr>\n",
       "      <th>南方基金管理有限公司</th>\n",
       "      <td>3.596887e+10</td>\n",
       "    </tr>\n",
       "    <tr>\n",
       "      <th>鹏华基金管理有限公司</th>\n",
       "      <td>3.290575e+10</td>\n",
       "    </tr>\n",
       "  </tbody>\n",
       "</table>\n",
       "</div>"
      ],
      "text/plain": [
       "                        netAsset\n",
       "managementFullName              \n",
       "富国基金管理有限公司          6.426651e+10\n",
       "华夏基金管理有限公司          6.232905e+10\n",
       "嘉实基金管理有限公司          3.716918e+10\n",
       "南方基金管理有限公司          3.596887e+10\n",
       "鹏华基金管理有限公司          3.290575e+10"
      ]
     },
     "execution_count": 9,
     "metadata": {},
     "output_type": "execute_result"
    }
   ],
   "source": [
    "# 指数型\n",
    "tmp_asset[(tmp_asset['category']=='E') & (tmp_asset['indexFund']=='I')].groupby('managementFullName').sum()[['netAsset']].sort('netAsset', ascending=False).head()"
   ]
  },
  {
   "cell_type": "code",
   "execution_count": null,
   "id": "e35c76f9",
   "metadata": {
    "collapsed": false,
    "jupyter": {
     "outputs_hidden": false
    }
   },
   "outputs": [
    {
     "data": {
      "text/html": [
       "<div style=\"max-width:1500px;overflow:auto;\">\n",
       "<table border=\"1\" class=\"dataframe\">\n",
       "  <thead>\n",
       "    <tr style=\"text-align: right;\">\n",
       "      <th></th>\n",
       "      <th>netAsset</th>\n",
       "    </tr>\n",
       "    <tr>\n",
       "      <th>managementFullName</th>\n",
       "      <th></th>\n",
       "    </tr>\n",
       "  </thead>\n",
       "  <tbody>\n",
       "    <tr>\n",
       "      <th>易方达基金管理有限公司</th>\n",
       "      <td>1.394053e+11</td>\n",
       "    </tr>\n",
       "    <tr>\n",
       "      <th>嘉实基金管理有限公司</th>\n",
       "      <td>1.176748e+11</td>\n",
       "    </tr>\n",
       "    <tr>\n",
       "      <th>华夏基金管理有限公司</th>\n",
       "      <td>1.170146e+11</td>\n",
       "    </tr>\n",
       "    <tr>\n",
       "      <th>南方基金管理有限公司</th>\n",
       "      <td>1.129083e+11</td>\n",
       "    </tr>\n",
       "    <tr>\n",
       "      <th>招商基金管理有限公司</th>\n",
       "      <td>9.388278e+10</td>\n",
       "    </tr>\n",
       "  </tbody>\n",
       "</table>\n",
       "</div>"
      ],
      "text/plain": [
       "                        netAsset\n",
       "managementFullName              \n",
       "易方达基金管理有限公司         1.394053e+11\n",
       "嘉实基金管理有限公司          1.176748e+11\n",
       "华夏基金管理有限公司          1.170146e+11\n",
       "南方基金管理有限公司          1.129083e+11\n",
       "招商基金管理有限公司          9.388278e+10"
      ]
     },
     "execution_count": 10,
     "metadata": {},
     "output_type": "execute_result"
    }
   ],
   "source": [
    "### 主动管理型\n",
    "tmp_asset[(tmp_asset['category'].isin(['E','H'])) & (tmp_asset['indexFund']!='I')].groupby('managementFullName').sum()[['netAsset']].sort('netAsset', ascending=False).head()"
   ]
  },
  {
   "cell_type": "markdown",
   "id": "322e6cc9",
   "metadata": {},
   "source": [
    "##### 另外一个有趣的点，看看各家基金公司QDII的规模排名，海外投资能力强也是很重要的一部分，如下所示，和权益类规模相似，老司机就是老司机"
   ]
  },
  {
   "cell_type": "code",
   "execution_count": null,
   "id": "0bcca5e2",
   "metadata": {
    "collapsed": false,
    "jupyter": {
     "outputs_hidden": false
    }
   },
   "outputs": [
    {
     "data": {
      "text/html": [
       "<div style=\"max-width:1500px;overflow:auto;\">\n",
       "<table border=\"1\" class=\"dataframe\">\n",
       "  <thead>\n",
       "    <tr style=\"text-align: right;\">\n",
       "      <th></th>\n",
       "      <th>netAsset</th>\n",
       "    </tr>\n",
       "    <tr>\n",
       "      <th>managementFullName</th>\n",
       "      <th></th>\n",
       "    </tr>\n",
       "  </thead>\n",
       "  <tbody>\n",
       "    <tr>\n",
       "      <th>易方达基金管理有限公司</th>\n",
       "      <td>1.239331e+10</td>\n",
       "    </tr>\n",
       "    <tr>\n",
       "      <th>嘉实基金管理有限公司</th>\n",
       "      <td>1.072452e+10</td>\n",
       "    </tr>\n",
       "    <tr>\n",
       "      <th>华夏基金管理有限公司</th>\n",
       "      <td>1.010615e+10</td>\n",
       "    </tr>\n",
       "    <tr>\n",
       "      <th>南方基金管理有限公司</th>\n",
       "      <td>8.630241e+09</td>\n",
       "    </tr>\n",
       "    <tr>\n",
       "      <th>银华基金管理股份有限公司</th>\n",
       "      <td>7.061862e+09</td>\n",
       "    </tr>\n",
       "  </tbody>\n",
       "</table>\n",
       "</div>"
      ],
      "text/plain": [
       "                        netAsset\n",
       "managementFullName              \n",
       "易方达基金管理有限公司         1.239331e+10\n",
       "嘉实基金管理有限公司          1.072452e+10\n",
       "华夏基金管理有限公司          1.010615e+10\n",
       "南方基金管理有限公司          8.630241e+09\n",
       "银华基金管理股份有限公司        7.061862e+09"
      ]
     },
     "execution_count": 11,
     "metadata": {},
     "output_type": "execute_result"
    }
   ],
   "source": [
    "tmp_asset[tmp_asset['isQdii'] == 1].groupby('managementFullName').sum()[['netAsset']].sort('netAsset', ascending=False).head()"
   ]
  },
  {
   "cell_type": "markdown",
   "id": "9f21320b",
   "metadata": {},
   "source": [
    "##### 总的来说，在权益和主动管理这一块，华夏和南方都是佼佼者。"
   ]
  },
  {
   "cell_type": "markdown",
   "id": "94864c36",
   "metadata": {},
   "source": [
    "### 2、收益相关排名\n",
    "---\n",
    "- 和一般机构处理不一致，这里的排名更精细化，首先`货币基金不参与排名`\n",
    "- 另外，由于QDII的基金多半是跟踪指数，对投资技能的体现不够强，而且有些基金公司压根没有发QDII基金，为了对比一致性`QDII基金也不参与排名`\n",
    "- 首要的任务是精选股票型、混合型和债券型的前10名基金，然后排出各类别下综合收益前5名的基金公司\n",
    "- 综合收益计算按照管理规模进行加权，另外，`在计算股票型基金时，剔除掉了指数型基金`，原因类似，我们的排名体现的是主动管理的能力\n",
    "- 最后，在研究过程中发现了有些基金复权净值有数据问题（4%左右），故将这些基金也剔除掉了。。。"
   ]
  },
  {
   "cell_type": "code",
   "execution_count": null,
   "id": "35c59b74",
   "metadata": {
    "collapsed": false,
    "jupyter": {
     "outputs_hidden": false
    }
   },
   "outputs": [],
   "source": [
    "fund_16 = DataAPI.FundNavGet(dataDate=u\"20161230\", field='ticker,endDate,ADJUST_NAV')  \n",
    "fund_15 = DataAPI.FundNavGet(dataDate=u\"20151231\", field='ticker,endDate,ADJUST_NAV')\n",
    "fund_return = pd.merge(fund_15, fund_16, how='inner', on='ticker')\n",
    "fund_return['return'] = fund_return['ADJUST_NAV_y'] / fund_return['ADJUST_NAV_x'] - 1\n",
    "\n",
    "# 只取满足条件的基金\n",
    "tmp_return = pd.merge(data_info[(data_info['isQdii']==0) & (data_info['indexFund']!='I')], fund_return[['ticker','return']], how='inner', on='ticker')\n",
    "\n",
    "# 复权净值有问题的基金剔除(1 min)\n",
    "bug_tickers = []\n",
    "for i in tmp_return['ticker'].tolist():\n",
    "    test = DataAPI.FundNavGet(ticker=i, beginDate='20151231', endDate='20161230')\n",
    "    if abs(test['ADJUST_NAV'].pct_change().max()) > 0.1:\n",
    "        bug_tickers.append(i)\n",
    "        print 'bug    ' + i)\n",
    "        \n",
    "tmp_return = tmp_return[~tmp_return['ticker'].isin(bug_tickers)]"
   ]
  },
  {
   "cell_type": "markdown",
   "id": "f59ecbef",
   "metadata": {},
   "source": [
    "##### 首先来看个整体情况，16年股票型基金平均-10.6%（同期上证综指-12.3%），混合型-9.2%，债券型-1.1%"
   ]
  },
  {
   "cell_type": "code",
   "execution_count": null,
   "id": "2322e206",
   "metadata": {
    "collapsed": false,
    "jupyter": {
     "outputs_hidden": false
    }
   },
   "outputs": [
    {
     "data": {
      "text/html": [
       "<div style=\"max-width:1500px;overflow:auto;\">\n",
       "<table border=\"1\" class=\"dataframe\">\n",
       "  <thead>\n",
       "    <tr style=\"text-align: right;\">\n",
       "      <th></th>\n",
       "      <th>isQdii</th>\n",
       "      <th>return</th>\n",
       "    </tr>\n",
       "    <tr>\n",
       "      <th>category</th>\n",
       "      <th></th>\n",
       "      <th></th>\n",
       "    </tr>\n",
       "  </thead>\n",
       "  <tbody>\n",
       "    <tr>\n",
       "      <th>B</th>\n",
       "      <td>0</td>\n",
       "      <td>-0.010675</td>\n",
       "    </tr>\n",
       "    <tr>\n",
       "      <th>E</th>\n",
       "      <td>0</td>\n",
       "      <td>-0.106249</td>\n",
       "    </tr>\n",
       "    <tr>\n",
       "      <th>H</th>\n",
       "      <td>0</td>\n",
       "      <td>-0.091697</td>\n",
       "    </tr>\n",
       "  </tbody>\n",
       "</table>\n",
       "</div>"
      ],
      "text/plain": [
       "          isQdii    return\n",
       "category                  \n",
       "B              0 -0.010675\n",
       "E              0 -0.106249\n",
       "H              0 -0.091697"
      ]
     },
     "execution_count": 20,
     "metadata": {},
     "output_type": "execute_result"
    }
   ],
   "source": [
    "tmp_return.groupby('category').mean()"
   ]
  },
  {
   "cell_type": "markdown",
   "id": "3aebfbb8",
   "metadata": {},
   "source": [
    "##### A、重点来了，首先是股票类年度10强基金，如下所示，最好收益为17.96%"
   ]
  },
  {
   "cell_type": "code",
   "execution_count": null,
   "id": "7f3b21a6",
   "metadata": {
    "collapsed": false,
    "jupyter": {
     "outputs_hidden": false
    }
   },
   "outputs": [
    {
     "data": {
      "text/html": [
       "<div style=\"max-width:1500px;overflow:auto;\">\n",
       "<table border=\"1\" class=\"dataframe\">\n",
       "  <thead>\n",
       "    <tr style=\"text-align: right;\">\n",
       "      <th></th>\n",
       "      <th>ticker</th>\n",
       "      <th>secShortName</th>\n",
       "      <th>category</th>\n",
       "      <th>establishDate</th>\n",
       "      <th>managementFullName</th>\n",
       "      <th>managerName</th>\n",
       "      <th>indexFund</th>\n",
       "      <th>isQdii</th>\n",
       "      <th>return</th>\n",
       "    </tr>\n",
       "  </thead>\n",
       "  <tbody>\n",
       "    <tr>\n",
       "      <th>711</th>\n",
       "      <td>001736</td>\n",
       "      <td>圆信永丰优加生活股票</td>\n",
       "      <td>E</td>\n",
       "      <td>2015-10-28</td>\n",
       "      <td>圆信永丰基金管理有限公司</td>\n",
       "      <td>洪流、范妍</td>\n",
       "      <td>NaN</td>\n",
       "      <td>0</td>\n",
       "      <td>0.179612</td>\n",
       "    </tr>\n",
       "    <tr>\n",
       "      <th>670</th>\n",
       "      <td>001616</td>\n",
       "      <td>嘉实环保低碳股票</td>\n",
       "      <td>E</td>\n",
       "      <td>2015-12-30</td>\n",
       "      <td>嘉实基金管理有限公司</td>\n",
       "      <td>李化松</td>\n",
       "      <td>NaN</td>\n",
       "      <td>0</td>\n",
       "      <td>0.165000</td>\n",
       "    </tr>\n",
       "    <tr>\n",
       "      <th>703</th>\n",
       "      <td>001714</td>\n",
       "      <td>工银瑞信文体产业股票</td>\n",
       "      <td>E</td>\n",
       "      <td>2015-12-30</td>\n",
       "      <td>工银瑞信基金管理有限公司</td>\n",
       "      <td>胡文彪、袁芳</td>\n",
       "      <td>NaN</td>\n",
       "      <td>0</td>\n",
       "      <td>0.157157</td>\n",
       "    </tr>\n",
       "    <tr>\n",
       "      <th>780</th>\n",
       "      <td>001938</td>\n",
       "      <td>中欧时代先锋股票发起式</td>\n",
       "      <td>E</td>\n",
       "      <td>2015-11-03</td>\n",
       "      <td>中欧基金管理有限公司</td>\n",
       "      <td>周应波</td>\n",
       "      <td>NaN</td>\n",
       "      <td>0</td>\n",
       "      <td>0.150282</td>\n",
       "    </tr>\n",
       "    <tr>\n",
       "      <th>700</th>\n",
       "      <td>001705</td>\n",
       "      <td>泓德战略转型股票</td>\n",
       "      <td>E</td>\n",
       "      <td>2015-11-10</td>\n",
       "      <td>泓德基金管理有限公司</td>\n",
       "      <td>郭堃</td>\n",
       "      <td>NaN</td>\n",
       "      <td>0</td>\n",
       "      <td>0.124138</td>\n",
       "    </tr>\n",
       "    <tr>\n",
       "      <th>637</th>\n",
       "      <td>001528</td>\n",
       "      <td>诺安先进制造股票</td>\n",
       "      <td>E</td>\n",
       "      <td>2015-08-21</td>\n",
       "      <td>诺安基金管理有限公司</td>\n",
       "      <td>韩冬燕</td>\n",
       "      <td>NaN</td>\n",
       "      <td>0</td>\n",
       "      <td>0.114398</td>\n",
       "    </tr>\n",
       "    <tr>\n",
       "      <th>200</th>\n",
       "      <td>000577</td>\n",
       "      <td>安信价值精选股票</td>\n",
       "      <td>E</td>\n",
       "      <td>2014-04-21</td>\n",
       "      <td>安信基金管理有限责任公司</td>\n",
       "      <td>陈一峰</td>\n",
       "      <td>NaN</td>\n",
       "      <td>0</td>\n",
       "      <td>0.084877</td>\n",
       "    </tr>\n",
       "    <tr>\n",
       "      <th>440</th>\n",
       "      <td>001178</td>\n",
       "      <td>前海开源再融资主题精选股票</td>\n",
       "      <td>E</td>\n",
       "      <td>2015-05-18</td>\n",
       "      <td>前海开源基金管理有限公司</td>\n",
       "      <td>邱杰</td>\n",
       "      <td>NaN</td>\n",
       "      <td>0</td>\n",
       "      <td>0.080504</td>\n",
       "    </tr>\n",
       "    <tr>\n",
       "      <th>977</th>\n",
       "      <td>110022</td>\n",
       "      <td>易方达消费行业股票</td>\n",
       "      <td>E</td>\n",
       "      <td>2010-08-20</td>\n",
       "      <td>易方达基金管理有限公司</td>\n",
       "      <td>萧楠</td>\n",
       "      <td>NaN</td>\n",
       "      <td>0</td>\n",
       "      <td>0.072079</td>\n",
       "    </tr>\n",
       "    <tr>\n",
       "      <th>337</th>\n",
       "      <td>000974</td>\n",
       "      <td>安信消费医药主题股票</td>\n",
       "      <td>E</td>\n",
       "      <td>2015-03-19</td>\n",
       "      <td>安信基金管理有限责任公司</td>\n",
       "      <td>陈一峰</td>\n",
       "      <td>NaN</td>\n",
       "      <td>0</td>\n",
       "      <td>0.071770</td>\n",
       "    </tr>\n",
       "  </tbody>\n",
       "</table>\n",
       "</div>"
      ],
      "text/plain": [
       "     ticker   secShortName category establishDate managementFullName  \\\n",
       "711  001736     圆信永丰优加生活股票        E    2015-10-28       圆信永丰基金管理有限公司   \n",
       "670  001616       嘉实环保低碳股票        E    2015-12-30         嘉实基金管理有限公司   \n",
       "703  001714     工银瑞信文体产业股票        E    2015-12-30       工银瑞信基金管理有限公司   \n",
       "780  001938    中欧时代先锋股票发起式        E    2015-11-03         中欧基金管理有限公司   \n",
       "700  001705       泓德战略转型股票        E    2015-11-10         泓德基金管理有限公司   \n",
       "637  001528       诺安先进制造股票        E    2015-08-21         诺安基金管理有限公司   \n",
       "200  000577       安信价值精选股票        E    2014-04-21       安信基金管理有限责任公司   \n",
       "440  001178  前海开源再融资主题精选股票        E    2015-05-18       前海开源基金管理有限公司   \n",
       "977  110022      易方达消费行业股票        E    2010-08-20        易方达基金管理有限公司   \n",
       "337  000974     安信消费医药主题股票        E    2015-03-19       安信基金管理有限责任公司   \n",
       "\n",
       "    managerName indexFund  isQdii    return  \n",
       "711       洪流、范妍       NaN       0  0.179612  \n",
       "670         李化松       NaN       0  0.165000  \n",
       "703      胡文彪、袁芳       NaN       0  0.157157  \n",
       "780         周应波       NaN       0  0.150282  \n",
       "700          郭堃       NaN       0  0.124138  \n",
       "637         韩冬燕       NaN       0  0.114398  \n",
       "200         陈一峰       NaN       0  0.084877  \n",
       "440          邱杰       NaN       0  0.080504  \n",
       "977          萧楠       NaN       0  0.072079  \n",
       "337         陈一峰       NaN       0  0.071770  "
      ]
     },
     "execution_count": 21,
     "metadata": {},
     "output_type": "execute_result"
    }
   ],
   "source": [
    "tmp_return[tmp_return['category']=='E'].sort('return', ascending=False).head(10)"
   ]
  },
  {
   "cell_type": "markdown",
   "id": "9a1ae176",
   "metadata": {},
   "source": [
    "##### B、混合型基金年度10强，最高的高达29.8%"
   ]
  },
  {
   "cell_type": "code",
   "execution_count": null,
   "id": "8651fd59",
   "metadata": {
    "collapsed": false,
    "jupyter": {
     "outputs_hidden": false
    }
   },
   "outputs": [
    {
     "data": {
      "text/html": [
       "<div style=\"max-width:1500px;overflow:auto;\">\n",
       "<table border=\"1\" class=\"dataframe\">\n",
       "  <thead>\n",
       "    <tr style=\"text-align: right;\">\n",
       "      <th></th>\n",
       "      <th>ticker</th>\n",
       "      <th>secShortName</th>\n",
       "      <th>category</th>\n",
       "      <th>establishDate</th>\n",
       "      <th>managementFullName</th>\n",
       "      <th>managerName</th>\n",
       "      <th>indexFund</th>\n",
       "      <th>isQdii</th>\n",
       "      <th>return</th>\n",
       "    </tr>\n",
       "  </thead>\n",
       "  <tbody>\n",
       "    <tr>\n",
       "      <th>505</th>\n",
       "      <td>001272</td>\n",
       "      <td>兴业聚利灵活配置混合</td>\n",
       "      <td>H</td>\n",
       "      <td>2015-05-07</td>\n",
       "      <td>兴业基金管理有限公司</td>\n",
       "      <td>腊博</td>\n",
       "      <td>NaN</td>\n",
       "      <td>0</td>\n",
       "      <td>0.298520</td>\n",
       "    </tr>\n",
       "    <tr>\n",
       "      <th>1435</th>\n",
       "      <td>420003</td>\n",
       "      <td>天弘永定价值成长混合</td>\n",
       "      <td>H</td>\n",
       "      <td>2008-12-02</td>\n",
       "      <td>天弘基金管理有限公司</td>\n",
       "      <td>肖志刚</td>\n",
       "      <td>NaN</td>\n",
       "      <td>0</td>\n",
       "      <td>0.174559</td>\n",
       "    </tr>\n",
       "    <tr>\n",
       "      <th>1277</th>\n",
       "      <td>240022</td>\n",
       "      <td>华宝兴业资源优选混合</td>\n",
       "      <td>H</td>\n",
       "      <td>2012-08-21</td>\n",
       "      <td>华宝兴业基金管理有限公司</td>\n",
       "      <td>蔡目荣</td>\n",
       "      <td>NaN</td>\n",
       "      <td>0</td>\n",
       "      <td>0.163399</td>\n",
       "    </tr>\n",
       "    <tr>\n",
       "      <th>525</th>\n",
       "      <td>001302</td>\n",
       "      <td>前海金银珠宝主题精选灵活配置混合-A</td>\n",
       "      <td>H</td>\n",
       "      <td>2015-07-09</td>\n",
       "      <td>前海开源基金管理有限公司</td>\n",
       "      <td>谢屹</td>\n",
       "      <td>NaN</td>\n",
       "      <td>0</td>\n",
       "      <td>0.158635</td>\n",
       "    </tr>\n",
       "    <tr>\n",
       "      <th>979</th>\n",
       "      <td>110025</td>\n",
       "      <td>易方达资源行业混合</td>\n",
       "      <td>H</td>\n",
       "      <td>2011-08-16</td>\n",
       "      <td>易方达基金管理有限公司</td>\n",
       "      <td>王超</td>\n",
       "      <td>NaN</td>\n",
       "      <td>0</td>\n",
       "      <td>0.136256</td>\n",
       "    </tr>\n",
       "    <tr>\n",
       "      <th>623</th>\n",
       "      <td>001491</td>\n",
       "      <td>国泰生益灵活配置混合-A</td>\n",
       "      <td>H</td>\n",
       "      <td>2015-06-19</td>\n",
       "      <td>国泰基金管理有限公司</td>\n",
       "      <td>樊利安</td>\n",
       "      <td>NaN</td>\n",
       "      <td>0</td>\n",
       "      <td>0.133566</td>\n",
       "    </tr>\n",
       "    <tr>\n",
       "      <th>793</th>\n",
       "      <td>001985</td>\n",
       "      <td>富国低碳新经济混合</td>\n",
       "      <td>H</td>\n",
       "      <td>2015-12-18</td>\n",
       "      <td>富国基金管理有限公司</td>\n",
       "      <td>杨栋</td>\n",
       "      <td>NaN</td>\n",
       "      <td>0</td>\n",
       "      <td>0.130478</td>\n",
       "    </tr>\n",
       "    <tr>\n",
       "      <th>649</th>\n",
       "      <td>001547</td>\n",
       "      <td>兴业聚惠灵活配置混合-A</td>\n",
       "      <td>H</td>\n",
       "      <td>2015-07-08</td>\n",
       "      <td>兴业基金管理有限公司</td>\n",
       "      <td>腊博</td>\n",
       "      <td>NaN</td>\n",
       "      <td>0</td>\n",
       "      <td>0.126459</td>\n",
       "    </tr>\n",
       "    <tr>\n",
       "      <th>718</th>\n",
       "      <td>001761</td>\n",
       "      <td>广发安宏回报灵活配置混合-A</td>\n",
       "      <td>H</td>\n",
       "      <td>2015-12-30</td>\n",
       "      <td>广发基金管理有限公司</td>\n",
       "      <td>张芊、王予柯</td>\n",
       "      <td>NaN</td>\n",
       "      <td>0</td>\n",
       "      <td>0.126000</td>\n",
       "    </tr>\n",
       "    <tr>\n",
       "      <th>402</th>\n",
       "      <td>001115</td>\n",
       "      <td>广发聚安混合-A</td>\n",
       "      <td>H</td>\n",
       "      <td>2015-03-25</td>\n",
       "      <td>广发基金管理有限公司</td>\n",
       "      <td>谭昌杰</td>\n",
       "      <td>NaN</td>\n",
       "      <td>0</td>\n",
       "      <td>0.123797</td>\n",
       "    </tr>\n",
       "  </tbody>\n",
       "</table>\n",
       "</div>"
      ],
      "text/plain": [
       "      ticker        secShortName category establishDate managementFullName  \\\n",
       "505   001272          兴业聚利灵活配置混合        H    2015-05-07         兴业基金管理有限公司   \n",
       "1435  420003          天弘永定价值成长混合        H    2008-12-02         天弘基金管理有限公司   \n",
       "1277  240022          华宝兴业资源优选混合        H    2012-08-21       华宝兴业基金管理有限公司   \n",
       "525   001302  前海金银珠宝主题精选灵活配置混合-A        H    2015-07-09       前海开源基金管理有限公司   \n",
       "979   110025           易方达资源行业混合        H    2011-08-16        易方达基金管理有限公司   \n",
       "623   001491        国泰生益灵活配置混合-A        H    2015-06-19         国泰基金管理有限公司   \n",
       "793   001985           富国低碳新经济混合        H    2015-12-18         富国基金管理有限公司   \n",
       "649   001547        兴业聚惠灵活配置混合-A        H    2015-07-08         兴业基金管理有限公司   \n",
       "718   001761      广发安宏回报灵活配置混合-A        H    2015-12-30         广发基金管理有限公司   \n",
       "402   001115            广发聚安混合-A        H    2015-03-25         广发基金管理有限公司   \n",
       "\n",
       "     managerName indexFund  isQdii    return  \n",
       "505           腊博       NaN       0  0.298520  \n",
       "1435         肖志刚       NaN       0  0.174559  \n",
       "1277         蔡目荣       NaN       0  0.163399  \n",
       "525           谢屹       NaN       0  0.158635  \n",
       "979           王超       NaN       0  0.136256  \n",
       "623          樊利安       NaN       0  0.133566  \n",
       "793           杨栋       NaN       0  0.130478  \n",
       "649           腊博       NaN       0  0.126459  \n",
       "718       张芊、王予柯       NaN       0  0.126000  \n",
       "402          谭昌杰       NaN       0  0.123797  "
      ]
     },
     "execution_count": 22,
     "metadata": {},
     "output_type": "execute_result"
    }
   ],
   "source": [
    "tmp_return[tmp_return['category']=='H'].sort('return', ascending=False).head(10)"
   ]
  },
  {
   "cell_type": "markdown",
   "id": "3accbb8a",
   "metadata": {},
   "source": [
    "##### C、债券型年度10强，最高的为11.35%"
   ]
  },
  {
   "cell_type": "code",
   "execution_count": null,
   "id": "bf083b26",
   "metadata": {
    "collapsed": false,
    "jupyter": {
     "outputs_hidden": false
    }
   },
   "outputs": [
    {
     "data": {
      "text/html": [
       "<div style=\"max-width:1500px;overflow:auto;\">\n",
       "<table border=\"1\" class=\"dataframe\">\n",
       "  <thead>\n",
       "    <tr style=\"text-align: right;\">\n",
       "      <th></th>\n",
       "      <th>ticker</th>\n",
       "      <th>secShortName</th>\n",
       "      <th>category</th>\n",
       "      <th>establishDate</th>\n",
       "      <th>managementFullName</th>\n",
       "      <th>managerName</th>\n",
       "      <th>indexFund</th>\n",
       "      <th>isQdii</th>\n",
       "      <th>return</th>\n",
       "    </tr>\n",
       "  </thead>\n",
       "  <tbody>\n",
       "    <tr>\n",
       "      <th>754</th>\n",
       "      <td>001872</td>\n",
       "      <td>嘉实丰益信用定期开放债券-C</td>\n",
       "      <td>B</td>\n",
       "      <td>2013-08-21</td>\n",
       "      <td>嘉实基金管理有限公司</td>\n",
       "      <td>刘宁</td>\n",
       "      <td>NaN</td>\n",
       "      <td>0</td>\n",
       "      <td>0.113527</td>\n",
       "    </tr>\n",
       "    <tr>\n",
       "      <th>1548</th>\n",
       "      <td>519191</td>\n",
       "      <td>万家城市建设主题纯债债券</td>\n",
       "      <td>B</td>\n",
       "      <td>2014-01-24</td>\n",
       "      <td>万家基金管理有限公司</td>\n",
       "      <td>NaN</td>\n",
       "      <td>NaN</td>\n",
       "      <td>0</td>\n",
       "      <td>0.090491</td>\n",
       "    </tr>\n",
       "    <tr>\n",
       "      <th>850</th>\n",
       "      <td>002279</td>\n",
       "      <td>浙商惠盈纯债债券</td>\n",
       "      <td>B</td>\n",
       "      <td>2015-12-23</td>\n",
       "      <td>浙商基金管理有限公司</td>\n",
       "      <td>吕文晔</td>\n",
       "      <td>NaN</td>\n",
       "      <td>0</td>\n",
       "      <td>0.073200</td>\n",
       "    </tr>\n",
       "    <tr>\n",
       "      <th>1425</th>\n",
       "      <td>400030</td>\n",
       "      <td>东方添益债券</td>\n",
       "      <td>B</td>\n",
       "      <td>2014-12-15</td>\n",
       "      <td>东方基金管理有限责任公司</td>\n",
       "      <td>徐昀君、吴萍萍</td>\n",
       "      <td>NaN</td>\n",
       "      <td>0</td>\n",
       "      <td>0.072682</td>\n",
       "    </tr>\n",
       "    <tr>\n",
       "      <th>1266</th>\n",
       "      <td>240003</td>\n",
       "      <td>华宝兴业宝康债券</td>\n",
       "      <td>B</td>\n",
       "      <td>2003-07-15</td>\n",
       "      <td>华宝兴业基金管理有限公司</td>\n",
       "      <td>李栋梁</td>\n",
       "      <td>NaN</td>\n",
       "      <td>0</td>\n",
       "      <td>0.069303</td>\n",
       "    </tr>\n",
       "    <tr>\n",
       "      <th>739</th>\n",
       "      <td>001819</td>\n",
       "      <td>兴全稳益债券</td>\n",
       "      <td>B</td>\n",
       "      <td>2015-09-10</td>\n",
       "      <td>兴全基金管理有限公司</td>\n",
       "      <td>钟明</td>\n",
       "      <td>NaN</td>\n",
       "      <td>0</td>\n",
       "      <td>0.066343</td>\n",
       "    </tr>\n",
       "    <tr>\n",
       "      <th>100</th>\n",
       "      <td>000277</td>\n",
       "      <td>博时双月薪定期支付债券</td>\n",
       "      <td>B</td>\n",
       "      <td>2013-10-22</td>\n",
       "      <td>博时基金管理有限公司</td>\n",
       "      <td>陈凯杨</td>\n",
       "      <td>NaN</td>\n",
       "      <td>0</td>\n",
       "      <td>0.065334</td>\n",
       "    </tr>\n",
       "    <tr>\n",
       "      <th>859</th>\n",
       "      <td>020019</td>\n",
       "      <td>国泰双利债券-A</td>\n",
       "      <td>B</td>\n",
       "      <td>2009-03-11</td>\n",
       "      <td>国泰基金管理有限公司</td>\n",
       "      <td>吴晨</td>\n",
       "      <td>NaN</td>\n",
       "      <td>0</td>\n",
       "      <td>0.060238</td>\n",
       "    </tr>\n",
       "    <tr>\n",
       "      <th>1569</th>\n",
       "      <td>519676</td>\n",
       "      <td>银河强化收益债券</td>\n",
       "      <td>B</td>\n",
       "      <td>2014-06-09</td>\n",
       "      <td>银河基金管理有限公司</td>\n",
       "      <td>杨鑫</td>\n",
       "      <td>NaN</td>\n",
       "      <td>0</td>\n",
       "      <td>0.060106</td>\n",
       "    </tr>\n",
       "    <tr>\n",
       "      <th>1069</th>\n",
       "      <td>161716</td>\n",
       "      <td>招商双债增强债券</td>\n",
       "      <td>B</td>\n",
       "      <td>2013-03-01</td>\n",
       "      <td>招商基金管理有限公司</td>\n",
       "      <td>刘万锋</td>\n",
       "      <td>NaN</td>\n",
       "      <td>0</td>\n",
       "      <td>0.060039</td>\n",
       "    </tr>\n",
       "  </tbody>\n",
       "</table>\n",
       "</div>"
      ],
      "text/plain": [
       "      ticker    secShortName category establishDate managementFullName  \\\n",
       "754   001872  嘉实丰益信用定期开放债券-C        B    2013-08-21         嘉实基金管理有限公司   \n",
       "1548  519191    万家城市建设主题纯债债券        B    2014-01-24         万家基金管理有限公司   \n",
       "850   002279        浙商惠盈纯债债券        B    2015-12-23         浙商基金管理有限公司   \n",
       "1425  400030          东方添益债券        B    2014-12-15       东方基金管理有限责任公司   \n",
       "1266  240003        华宝兴业宝康债券        B    2003-07-15       华宝兴业基金管理有限公司   \n",
       "739   001819          兴全稳益债券        B    2015-09-10         兴全基金管理有限公司   \n",
       "100   000277     博时双月薪定期支付债券        B    2013-10-22         博时基金管理有限公司   \n",
       "859   020019        国泰双利债券-A        B    2009-03-11         国泰基金管理有限公司   \n",
       "1569  519676        银河强化收益债券        B    2014-06-09         银河基金管理有限公司   \n",
       "1069  161716        招商双债增强债券        B    2013-03-01         招商基金管理有限公司   \n",
       "\n",
       "     managerName indexFund  isQdii    return  \n",
       "754           刘宁       NaN       0  0.113527  \n",
       "1548         NaN       NaN       0  0.090491  \n",
       "850          吕文晔       NaN       0  0.073200  \n",
       "1425     徐昀君、吴萍萍       NaN       0  0.072682  \n",
       "1266         李栋梁       NaN       0  0.069303  \n",
       "739           钟明       NaN       0  0.066343  \n",
       "100          陈凯杨       NaN       0  0.065334  \n",
       "859           吴晨       NaN       0  0.060238  \n",
       "1569          杨鑫       NaN       0  0.060106  \n",
       "1069         刘万锋       NaN       0  0.060039  "
      ]
     },
     "execution_count": 23,
     "metadata": {},
     "output_type": "execute_result"
    }
   ],
   "source": [
    "tmp_return[tmp_return['category']=='B'].sort('return', ascending=False).head(10)"
   ]
  },
  {
   "cell_type": "markdown",
   "id": "d51cf8a6",
   "metadata": {},
   "source": [
    "##### **下面就要对基金公司进行排名，根据各公司旗下基金来综合排出各类型下的前5名**"
   ]
  },
  {
   "cell_type": "markdown",
   "id": "9e69ed2a",
   "metadata": {},
   "source": [
    "##### A、股票型收益排名前5基金公司，需要说明几点\n",
    "---\n",
    "- 仅仅按照综合收益来排名的话，前几名都是不怎么知名小基金公司，而且刚巧就一只产品，不具备说服性\n",
    "- 规模也应该是排名的考量因素之一，这里列示的是比较简单的做法，只对管理超过5只基金的公司进行排名，或者对规模超过某一规模的公司进行排名\n",
    "- 更一般的，可以对收益和规模设置不同权重来计算各自得分，最后计算总分来排名\n",
    "- 综合前面的结论，`华夏基金`兼具规模和收益优势，在权益类方面可以称之为老大哥。"
   ]
  },
  {
   "cell_type": "code",
   "execution_count": null,
   "id": "d1362910",
   "metadata": {
    "collapsed": false,
    "jupyter": {
     "outputs_hidden": false
    }
   },
   "outputs": [
    {
     "data": {
      "text/html": [
       "<div style=\"max-width:1500px;overflow:auto;\">\n",
       "<table border=\"1\" class=\"dataframe\">\n",
       "  <thead>\n",
       "    <tr style=\"text-align: right;\">\n",
       "      <th></th>\n",
       "      <th>综合收益</th>\n",
       "      <th>管理资产</th>\n",
       "      <th>基金个数</th>\n",
       "    </tr>\n",
       "    <tr>\n",
       "      <th>managementFullName</th>\n",
       "      <th></th>\n",
       "      <th></th>\n",
       "      <th></th>\n",
       "    </tr>\n",
       "  </thead>\n",
       "  <tbody>\n",
       "    <tr>\n",
       "      <th>易方达基金管理有限公司</th>\n",
       "      <td>-0.040128</td>\n",
       "      <td>4.221494e+10</td>\n",
       "      <td>24</td>\n",
       "    </tr>\n",
       "    <tr>\n",
       "      <th>华夏基金管理有限公司</th>\n",
       "      <td>-0.060338</td>\n",
       "      <td>7.447665e+10</td>\n",
       "      <td>15</td>\n",
       "    </tr>\n",
       "    <tr>\n",
       "      <th>银华基金管理股份有限公司</th>\n",
       "      <td>-0.067604</td>\n",
       "      <td>1.913412e+10</td>\n",
       "      <td>11</td>\n",
       "    </tr>\n",
       "    <tr>\n",
       "      <th>华安基金管理有限公司</th>\n",
       "      <td>-0.075060</td>\n",
       "      <td>3.164761e+10</td>\n",
       "      <td>20</td>\n",
       "    </tr>\n",
       "    <tr>\n",
       "      <th>嘉实基金管理有限公司</th>\n",
       "      <td>-0.077561</td>\n",
       "      <td>6.351609e+10</td>\n",
       "      <td>26</td>\n",
       "    </tr>\n",
       "  </tbody>\n",
       "</table>\n",
       "</div>"
      ],
      "text/plain": [
       "                        综合收益          管理资产  基金个数\n",
       "managementFullName                              \n",
       "易方达基金管理有限公司        -0.040128  4.221494e+10    24\n",
       "华夏基金管理有限公司         -0.060338  7.447665e+10    15\n",
       "银华基金管理股份有限公司       -0.067604  1.913412e+10    11\n",
       "华安基金管理有限公司         -0.075060  3.164761e+10    20\n",
       "嘉实基金管理有限公司         -0.077561  6.351609e+10    26"
      ]
     },
     "execution_count": 26,
     "metadata": {},
     "output_type": "execute_result"
    }
   ],
   "source": [
    "tmp_company = data_info.drop(['establishDate', 'indexFund', 'isQdii'], axis=1).merge(fund_assets, on='ticker', how='inner').merge(fund_return[['ticker', 'return']], on='ticker', how='inner')\n",
    "\n",
    "equity_rank = pd.DataFrame(tmp_company[tmp_company['category']=='E'].groupby('managementFullName').apply(lambda x: sum(x['netAsset']/x['netAsset'].sum() * x['return']))).rename(columns={0:'综合收益'})\n",
    "equity_rank['管理资产'] = tmp_company[tmp_company['category']=='E'].groupby('managementFullName').sum()['netAsset']\n",
    "equity_rank['基金个数'] = tmp_company[tmp_company['category']=='E'].groupby('managementFullName').count()['ticker']\n",
    "# equity_rank[equity_rank['基金个数'] >= 10].sort('综合收益', ascending=False).head()\n",
    "equity_rank[equity_rank['管理资产'] >= 1e10].sort('综合收益', ascending=False).head()"
   ]
  },
  {
   "cell_type": "markdown",
   "id": "dbf25298",
   "metadata": {},
   "source": [
    "##### B、混合型收益排名前5基金公司，`招商和国泰`在16年混合型有不错表现"
   ]
  },
  {
   "cell_type": "code",
   "execution_count": null,
   "id": "544a2b01",
   "metadata": {
    "collapsed": false,
    "jupyter": {
     "outputs_hidden": false
    }
   },
   "outputs": [
    {
     "data": {
      "text/html": [
       "<div style=\"max-width:1500px;overflow:auto;\">\n",
       "<table border=\"1\" class=\"dataframe\">\n",
       "  <thead>\n",
       "    <tr style=\"text-align: right;\">\n",
       "      <th></th>\n",
       "      <th>综合收益</th>\n",
       "      <th>管理资产</th>\n",
       "      <th>基金个数</th>\n",
       "    </tr>\n",
       "    <tr>\n",
       "      <th>managementFullName</th>\n",
       "      <th></th>\n",
       "      <th></th>\n",
       "      <th></th>\n",
       "    </tr>\n",
       "  </thead>\n",
       "  <tbody>\n",
       "    <tr>\n",
       "      <th>招商基金管理有限公司</th>\n",
       "      <td>0.025952</td>\n",
       "      <td>7.639787e+10</td>\n",
       "      <td>23</td>\n",
       "    </tr>\n",
       "    <tr>\n",
       "      <th>国泰基金管理有限公司</th>\n",
       "      <td>-0.006958</td>\n",
       "      <td>3.015412e+10</td>\n",
       "      <td>29</td>\n",
       "    </tr>\n",
       "    <tr>\n",
       "      <th>南方基金管理有限公司</th>\n",
       "      <td>-0.016840</td>\n",
       "      <td>1.014946e+11</td>\n",
       "      <td>33</td>\n",
       "    </tr>\n",
       "    <tr>\n",
       "      <th>诺安基金管理有限公司</th>\n",
       "      <td>-0.027886</td>\n",
       "      <td>3.381124e+10</td>\n",
       "      <td>17</td>\n",
       "    </tr>\n",
       "    <tr>\n",
       "      <th>兴全基金管理有限公司</th>\n",
       "      <td>-0.044746</td>\n",
       "      <td>3.285238e+10</td>\n",
       "      <td>9</td>\n",
       "    </tr>\n",
       "  </tbody>\n",
       "</table>\n",
       "</div>"
      ],
      "text/plain": [
       "                        综合收益          管理资产  基金个数\n",
       "managementFullName                              \n",
       "招商基金管理有限公司          0.025952  7.639787e+10    23\n",
       "国泰基金管理有限公司         -0.006958  3.015412e+10    29\n",
       "南方基金管理有限公司         -0.016840  1.014946e+11    33\n",
       "诺安基金管理有限公司         -0.027886  3.381124e+10    17\n",
       "兴全基金管理有限公司         -0.044746  3.285238e+10     9"
      ]
     },
     "execution_count": 31,
     "metadata": {},
     "output_type": "execute_result"
    }
   ],
   "source": [
    "hunhe_rank = pd.DataFrame(tmp_company[tmp_company['category']=='H'].groupby('managementFullName').apply(lambda x: sum(x['netAsset']/x['netAsset'].sum() * x['return']))).rename(columns={0:'综合收益'})\n",
    "hunhe_rank['管理资产'] = tmp_company[tmp_company['category']=='H'].groupby('managementFullName').sum()['netAsset']\n",
    "hunhe_rank['基金个数'] = tmp_company[tmp_company['category']=='H'].groupby('managementFullName').count()['ticker']\n",
    "# hunhe_rank[hunhe_rank['基金个数'] >= 20].sort('综合收益', ascending=False).head()\n",
    "hunhe_rank[hunhe_rank['管理资产'] >= 3e10].sort('综合收益', ascending=False).head()"
   ]
  },
  {
   "cell_type": "markdown",
   "id": "aa95eb75",
   "metadata": {},
   "source": [
    "##### C、债券型收益排名前5基金公司，综合考虑，`博时、银华、鹏华、国泰`均有不错表现"
   ]
  },
  {
   "cell_type": "code",
   "execution_count": null,
   "id": "26b8db97",
   "metadata": {
    "collapsed": false,
    "jupyter": {
     "outputs_hidden": false
    }
   },
   "outputs": [
    {
     "data": {
      "text/html": [
       "<div style=\"max-width:1500px;overflow:auto;\">\n",
       "<table border=\"1\" class=\"dataframe\">\n",
       "  <thead>\n",
       "    <tr style=\"text-align: right;\">\n",
       "      <th></th>\n",
       "      <th>综合收益</th>\n",
       "      <th>管理资产</th>\n",
       "      <th>基金个数</th>\n",
       "    </tr>\n",
       "    <tr>\n",
       "      <th>managementFullName</th>\n",
       "      <th></th>\n",
       "      <th></th>\n",
       "      <th></th>\n",
       "    </tr>\n",
       "  </thead>\n",
       "  <tbody>\n",
       "    <tr>\n",
       "      <th>国泰基金管理有限公司</th>\n",
       "      <td>0.041833</td>\n",
       "      <td>4.755755e+09</td>\n",
       "      <td>10</td>\n",
       "    </tr>\n",
       "    <tr>\n",
       "      <th>银华基金管理股份有限公司</th>\n",
       "      <td>0.019219</td>\n",
       "      <td>2.002277e+10</td>\n",
       "      <td>11</td>\n",
       "    </tr>\n",
       "    <tr>\n",
       "      <th>博时基金管理有限公司</th>\n",
       "      <td>0.017596</td>\n",
       "      <td>5.392315e+10</td>\n",
       "      <td>28</td>\n",
       "    </tr>\n",
       "    <tr>\n",
       "      <th>鹏华基金管理有限公司</th>\n",
       "      <td>0.017557</td>\n",
       "      <td>2.724948e+10</td>\n",
       "      <td>18</td>\n",
       "    </tr>\n",
       "    <tr>\n",
       "      <th>中银基金管理有限公司</th>\n",
       "      <td>0.017132</td>\n",
       "      <td>3.882898e+10</td>\n",
       "      <td>10</td>\n",
       "    </tr>\n",
       "  </tbody>\n",
       "</table>\n",
       "</div>"
      ],
      "text/plain": [
       "                        综合收益          管理资产  基金个数\n",
       "managementFullName                              \n",
       "国泰基金管理有限公司          0.041833  4.755755e+09    10\n",
       "银华基金管理股份有限公司        0.019219  2.002277e+10    11\n",
       "博时基金管理有限公司          0.017596  5.392315e+10    28\n",
       "鹏华基金管理有限公司          0.017557  2.724948e+10    18\n",
       "中银基金管理有限公司          0.017132  3.882898e+10    10"
      ]
     },
     "execution_count": 49,
     "metadata": {},
     "output_type": "execute_result"
    }
   ],
   "source": [
    "bond_rank = pd.DataFrame(tmp_company[tmp_company['category']=='B'].groupby('managementFullName').apply(lambda x: sum(x['netAsset']/x['netAsset'].sum() * x['return']))).rename(columns={0:'综合收益'})\n",
    "bond_rank['管理资产'] = tmp_company[tmp_company['category']=='B'].groupby('managementFullName').sum()['netAsset']\n",
    "bond_rank['基金个数'] = tmp_company[tmp_company['category']=='B'].groupby('managementFullName').count()['ticker']\n",
    "bond_rank[bond_rank['基金个数'] >= 10].sort('综合收益', ascending=False).head()\n",
    "# bond_rank[bond_rank['管理资产'] >= 2e10].sort('综合收益', ascending=False).head()"
   ]
  },
  {
   "cell_type": "markdown",
   "id": "588d4ee0",
   "metadata": {},
   "source": [
    "### 3、风控相关排名\n",
    "---\n",
    "- 传统风控都从最大回撤，波动率等角度来衡量，但是鉴于今年行情的特殊性，仅对债券型基金进行风控分析\n",
    "- 从20161128日开始至年底结束，债市经历了一波大调整，可能很多债券基金经理在前期经过高杠杆获得了非常丰厚的收益，但是在这一波调整中也死的最惨\n",
    "- 通过统计从20161128~20161230期间，债券型基金最大回撤的排名来综看基金经理和基金公司的风控能力"
   ]
  },
  {
   "cell_type": "code",
   "execution_count": null,
   "id": "1857a6c6",
   "metadata": {
    "collapsed": false,
    "jupyter": {
     "outputs_hidden": false
    }
   },
   "outputs": [
    {
     "data": {
      "text/plain": [
       "return     -2.144551e-02\n",
       "netAsset    1.633695e+09\n",
       "dtype: float64"
      ]
     },
     "execution_count": 46,
     "metadata": {},
     "output_type": "execute_result"
    }
   ],
   "source": [
    "fund_1230 = DataAPI.FundNavGet(dataDate=u\"20161230\", field='ticker,endDate,ADJUST_NAV')  \n",
    "fund_1128 = DataAPI.FundNavGet(dataDate=u\"20161128\", field='ticker,endDate,ADJUST_NAV')\n",
    "fund_return1 = pd.merge(fund_1128, fund_1230, how='inner', on='ticker')\n",
    "fund_return1['return'] = fund_return1['ADJUST_NAV_y'] / fund_return1['ADJUST_NAV_x'] - 1\n",
    "tmp_risk = pd.merge(data_info[(data_info['category']=='B') & (data_info['isQdii']==0) & (data_info['indexFund']!='I')], fund_return1[['ticker','return']], how='inner', on='ticker').drop(['establishDate','indexFund','isQdii'], axis=1).merge(fund_assets, how='inner', on='ticker')\n",
    "tmp_risk.mean()"
   ]
  },
  {
   "cell_type": "markdown",
   "id": "2eecaa2d",
   "metadata": {},
   "source": [
    "##### 如上可以看到，在调整期，债券型基金的平均收益是-2.14%，全年是-1.1%，说明主要亏损就发生在这一个月中，接下来分公司来看风控水平，处理方法和前面一致"
   ]
  },
  {
   "cell_type": "code",
   "execution_count": null,
   "id": "96b7c803",
   "metadata": {
    "collapsed": false,
    "jupyter": {
     "outputs_hidden": false
    }
   },
   "outputs": [
    {
     "data": {
      "text/html": [
       "<div style=\"max-width:1500px;overflow:auto;\">\n",
       "<table border=\"1\" class=\"dataframe\">\n",
       "  <thead>\n",
       "    <tr style=\"text-align: right;\">\n",
       "      <th></th>\n",
       "      <th>综合回撤水平</th>\n",
       "      <th>管理资产</th>\n",
       "      <th>基金个数</th>\n",
       "    </tr>\n",
       "    <tr>\n",
       "      <th>managementFullName</th>\n",
       "      <th></th>\n",
       "      <th></th>\n",
       "      <th></th>\n",
       "    </tr>\n",
       "  </thead>\n",
       "  <tbody>\n",
       "    <tr>\n",
       "      <th>银华基金管理股份有限公司</th>\n",
       "      <td>-0.010187</td>\n",
       "      <td>2.064806e+10</td>\n",
       "      <td>13</td>\n",
       "    </tr>\n",
       "    <tr>\n",
       "      <th>招商基金管理有限公司</th>\n",
       "      <td>-0.010539</td>\n",
       "      <td>2.795584e+10</td>\n",
       "      <td>13</td>\n",
       "    </tr>\n",
       "    <tr>\n",
       "      <th>嘉实基金管理有限公司</th>\n",
       "      <td>-0.015931</td>\n",
       "      <td>2.519490e+10</td>\n",
       "      <td>14</td>\n",
       "    </tr>\n",
       "    <tr>\n",
       "      <th>博时基金管理有限公司</th>\n",
       "      <td>-0.016219</td>\n",
       "      <td>5.780588e+10</td>\n",
       "      <td>37</td>\n",
       "    </tr>\n",
       "    <tr>\n",
       "      <th>工银瑞信基金管理有限公司</th>\n",
       "      <td>-0.017179</td>\n",
       "      <td>1.234908e+11</td>\n",
       "      <td>14</td>\n",
       "    </tr>\n",
       "  </tbody>\n",
       "</table>\n",
       "</div>"
      ],
      "text/plain": [
       "                      综合回撤水平          管理资产  基金个数\n",
       "managementFullName                              \n",
       "银华基金管理股份有限公司       -0.010187  2.064806e+10    13\n",
       "招商基金管理有限公司         -0.010539  2.795584e+10    13\n",
       "嘉实基金管理有限公司         -0.015931  2.519490e+10    14\n",
       "博时基金管理有限公司         -0.016219  5.780588e+10    37\n",
       "工银瑞信基金管理有限公司       -0.017179  1.234908e+11    14"
      ]
     },
     "execution_count": 48,
     "metadata": {},
     "output_type": "execute_result"
    }
   ],
   "source": [
    "risk_manage = pd.DataFrame(tmp_risk.groupby('managementFullName').apply(lambda x: sum(x['netAsset']/x['netAsset'].sum() * x['return']))).rename(columns={0:'综合回撤水平'})\n",
    "risk_manage['管理资产'] = tmp_risk.groupby('managementFullName').sum()['netAsset']\n",
    "risk_manage['基金个数'] = tmp_risk.groupby('managementFullName').count()['ticker']\n",
    "risk_manage[risk_manage['管理资产'] > 2e10].sort('综合回撤水平', ascending=False).head()"
   ]
  },
  {
   "cell_type": "markdown",
   "id": "a73e1c80",
   "metadata": {},
   "source": [
    "##### 综合前面关于债券型基金公司的表现分析，`银华、博时、招商`在债券型基金方面应该算是老司机，兼具规模、收益和风控三方面的优异表现。"
   ]
  },
  {
   "cell_type": "markdown",
   "id": "9aa9f855",
   "metadata": {},
   "source": [
    "### 4、总结\n",
    "---\n",
    "- 接下来若是要购买基金，可以适当结合考虑下本文的分析结论，不同基金公司有可能侧重点和擅长点不一样\n",
    "- 当然，本文还可以继续深入下去看，从基金管理人的角度去入手（MOM的思想），比如博时基金擅长权益类投资，更深入一步我们可以对比博时基金众多基金经理的投资表现和擅长方面，这样会更细致更科学一些。"
   ]
  }
 ],
 "metadata": {
  "kernelspec": {
   "display_name": "Python 3",
   "language": "python",
   "name": "python3"
  },
  "language_info": {
   "codemirror_mode": {
    "name": "ipython",
    "version": 3
   },
   "file_extension": ".py",
   "mimetype": "text/x-python",
   "name": "python",
   "nbconvert_exporter": "python",
   "pygments_lexer": "ipython3",
   "version": "3.8.7"
  }
 },
 "nbformat": 4,
 "nbformat_minor": 5
}
