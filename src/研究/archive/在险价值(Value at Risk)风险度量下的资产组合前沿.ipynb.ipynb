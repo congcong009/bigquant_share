{
 "cells": [
  {
   "cell_type": "markdown",
   "id": "0f9175d0",
   "metadata": {},
   "source": [
    "# `在险价值(Value at Risk)风险度量下的资产组合前沿`\n",
    "---\n",
    "* ### 对于风险的度量，波动性(volatility)是比较常见的一种方式，但其不足之处在于资产组合价值的正向与方向变化都会增加波动性，而投资者往往不会认为资产组合价值正向变化是一种风险。\n",
    "  \n",
    "  \n",
    "* ### 针对上述情况以及度量不同类型资产组合风险的需要，`VaR风险度量`被提出。其原理非常简单，即最糟糕的情形发生时，资产组合可能受到多大的损失。数学表达如下：\n",
    "\n",
    "    * ### $\\operatorname{Prob}(ΔPΔt≤\\operatorname{VaR})=1-\\alpha$\n",
    "    * ### 字母含义如下：\n",
    "\n",
    "          $\\operatorname{Prob}$ —— 资产价值损失小于可能损失上限的概率，即英文的Probability。\n",
    "\n",
    "          $ΔPΔt$ —— 某一金融资产在一定持有期Δt的价值损失额。\n",
    "\n",
    "          $VaR$ —— 给定置信水平a下的在险价值，即可能的损失上限。\n",
    "\n",
    "          $1 - \\alpha$ —— 给定的置信水平\n",
    "    * ### $\\alpha$是指风险水平 (1 - 置信水平)，取5%时可以这样理解：有100种可能发生的情况，最坏的5种情况发生时，资产将最低遭到多少的损失。  \n",
    "\n",
    "\n",
    "* ### 一个直观的解释(来自[wiki - Value at risk](https://en.wikipedia.org/wiki/Value_at_risk#Risk_measure_and_risk_metric))：   <div align = \"center\">![](http://i4.piimg.com/567571/501d5328c1602fea.jpg)</div>\n",
    "\n",
    "* ### 计算方法：\n",
    "    * ### 从公式中可以看出，计算VaR的关键步骤在于估计损失的概率分布情况，基于对分布函数不同的估计方法，对VaR的计算可以分为：\n",
    "    * ### `历史数据法`：也可以认为是经验分布法，取一段时间的历史数据，考察最糟糕$\\alpha$分位数情况下资产组合的损失；\n",
    "    * ### `方差-协方差方法`：假设损失服从正态分布，从而推算$\\alpha$分位点的值；\n",
    "    * ### `Monte-Carlo`：从经验数据中进行Monte-Carlo模拟抽样，得出所抽到值最差$\\alpha$分位点时的值。\n",
    "  \n",
    "  \n",
    "* ### 对于这种风险度量，我们仍然可以考察`资产组合有效前沿`。对于资产组合前沿的介绍即波动性度量下的资产组合前沿构建可以参看[量化分析师的Python日记【第15天：如何在优矿上搞一个wealthfront出来】](https://uqer.io/community/share/5670da3c228e5b8d81f00a87)。"
   ]
  },
  {
   "cell_type": "code",
   "execution_count": null,
   "id": "27288dcf",
   "metadata": {
    "collapsed": false,
    "jupyter": {
     "outputs_hidden": false
    }
   },
   "outputs": [
    {
     "name": "stderr",
     "output_type": "stream",
     "text": [
      "python2.7/site-packages/matplotlib/__init__.py:872: UserWarning: axes.color_cycle is deprecated and replaced with axes.prop_cycle; please use the latter.\n",
      "  warnings.warn(self.msg_depr % (key, alt_key))\n"
     ]
    }
   ],
   "source": [
    "from __future__ import division\n",
    "import pandas as pd\n",
    "import numpy as np\n",
    "import seaborn as sns\n",
    "import matplotlib.pyplot as plt\n",
    "import scipy.optimize as opt \n",
    "from CAL.PyCAL import *\n",
    "\n",
    "fsize = (12, 12*0.618)\n",
    "DataAPI.settings.cache_enabled = True"
   ]
  },
  {
   "cell_type": "markdown",
   "id": "59c6dc0a",
   "metadata": {},
   "source": [
    "* ### 设定研究起止时间，这里是：`2010.01.01 - 2016.08.01`，频率为月度\n",
    "* ### 设定股票池：`2016.08.01的沪深300成分股`，不设为全A股部分因为优化速度太慢，另外HS300也将满足大部分分散化需求\n",
    "* ### 获取历史回报率数据"
   ]
  },
  {
   "cell_type": "code",
   "execution_count": null,
   "id": "c5277a20",
   "metadata": {
    "collapsed": false,
    "jupyter": {
     "outputs_hidden": false
    }
   },
   "outputs": [
    {
     "data": {
      "text/html": [
       "<div style=\"max-width:1500px;overflow:auto;\">\n",
       "<table border=\"1\" class=\"dataframe\">\n",
       "  <thead>\n",
       "    <tr style=\"text-align: right;\">\n",
       "      <th>secShortName</th>\n",
       "      <th>TCL集团</th>\n",
       "      <th>一汽轿车</th>\n",
       "      <th>万华化学</th>\n",
       "      <th>万向钱潮</th>\n",
       "      <th>万科A</th>\n",
       "      <th>万达信息</th>\n",
       "      <th>万达院线</th>\n",
       "      <th>三一重工</th>\n",
       "      <th>三安光电</th>\n",
       "      <th>上汽集团</th>\n",
       "      <th>...</th>\n",
       "      <th>陕西煤业</th>\n",
       "      <th>隧道股份</th>\n",
       "      <th>雅戈尔</th>\n",
       "      <th>青岛啤酒</th>\n",
       "      <th>青岛海尔</th>\n",
       "      <th>鞍钢股份</th>\n",
       "      <th>首创股份</th>\n",
       "      <th>首开股份</th>\n",
       "      <th>鲁信创投</th>\n",
       "      <th>鹏博士</th>\n",
       "    </tr>\n",
       "    <tr>\n",
       "      <th>endDate</th>\n",
       "      <th></th>\n",
       "      <th></th>\n",
       "      <th></th>\n",
       "      <th></th>\n",
       "      <th></th>\n",
       "      <th></th>\n",
       "      <th></th>\n",
       "      <th></th>\n",
       "      <th></th>\n",
       "      <th></th>\n",
       "      <th></th>\n",
       "      <th></th>\n",
       "      <th></th>\n",
       "      <th></th>\n",
       "      <th></th>\n",
       "      <th></th>\n",
       "      <th></th>\n",
       "      <th></th>\n",
       "      <th></th>\n",
       "      <th></th>\n",
       "      <th></th>\n",
       "    </tr>\n",
       "  </thead>\n",
       "  <tbody>\n",
       "    <tr>\n",
       "      <th>2016-03-31</th>\n",
       "      <td>0.026810</td>\n",
       "      <td>0.156814</td>\n",
       "      <td>0.144298</td>\n",
       "      <td>0.135007</td>\n",
       "      <td>0.000000</td>\n",
       "      <td>0.081081</td>\n",
       "      <td>0.000000</td>\n",
       "      <td>0.163599</td>\n",
       "      <td>0.089197</td>\n",
       "      <td>0.094381</td>\n",
       "      <td>...</td>\n",
       "      <td>0.004587</td>\n",
       "      <td>0.112011</td>\n",
       "      <td>0.334510</td>\n",
       "      <td>0.081387</td>\n",
       "      <td>0.132353</td>\n",
       "      <td>0.051813</td>\n",
       "      <td>0.168508</td>\n",
       "      <td>0.046826</td>\n",
       "      <td>0.058369</td>\n",
       "      <td>0.235739</td>\n",
       "    </tr>\n",
       "    <tr>\n",
       "      <th>2016-04-29</th>\n",
       "      <td>-0.081473</td>\n",
       "      <td>-0.106458</td>\n",
       "      <td>0.106072</td>\n",
       "      <td>-0.086073</td>\n",
       "      <td>0.000000</td>\n",
       "      <td>-0.113971</td>\n",
       "      <td>0.000000</td>\n",
       "      <td>-0.050967</td>\n",
       "      <td>-0.009156</td>\n",
       "      <td>0.013958</td>\n",
       "      <td>...</td>\n",
       "      <td>0.121005</td>\n",
       "      <td>0.106796</td>\n",
       "      <td>0.003968</td>\n",
       "      <td>0.012195</td>\n",
       "      <td>-0.016529</td>\n",
       "      <td>0.022167</td>\n",
       "      <td>-0.040189</td>\n",
       "      <td>0.031809</td>\n",
       "      <td>-0.080292</td>\n",
       "      <td>-0.109750</td>\n",
       "    </tr>\n",
       "    <tr>\n",
       "      <th>2016-05-31</th>\n",
       "      <td>-0.011628</td>\n",
       "      <td>0.054011</td>\n",
       "      <td>-0.013648</td>\n",
       "      <td>-0.018637</td>\n",
       "      <td>0.000000</td>\n",
       "      <td>0.019087</td>\n",
       "      <td>0.000000</td>\n",
       "      <td>-0.057407</td>\n",
       "      <td>0.043634</td>\n",
       "      <td>-0.002458</td>\n",
       "      <td>...</td>\n",
       "      <td>-0.097760</td>\n",
       "      <td>-0.053728</td>\n",
       "      <td>0.003294</td>\n",
       "      <td>0.019966</td>\n",
       "      <td>0.098439</td>\n",
       "      <td>-0.067470</td>\n",
       "      <td>0.002506</td>\n",
       "      <td>-0.008671</td>\n",
       "      <td>-0.007055</td>\n",
       "      <td>-0.015873</td>\n",
       "    </tr>\n",
       "    <tr>\n",
       "      <th>2016-06-30</th>\n",
       "      <td>-0.032353</td>\n",
       "      <td>-0.180106</td>\n",
       "      <td>0.088050</td>\n",
       "      <td>0.056195</td>\n",
       "      <td>0.000000</td>\n",
       "      <td>0.061090</td>\n",
       "      <td>-0.002321</td>\n",
       "      <td>-0.013752</td>\n",
       "      <td>-0.017708</td>\n",
       "      <td>0.000000</td>\n",
       "      <td>...</td>\n",
       "      <td>0.167043</td>\n",
       "      <td>-0.010004</td>\n",
       "      <td>-0.044834</td>\n",
       "      <td>-0.018900</td>\n",
       "      <td>-0.029508</td>\n",
       "      <td>-0.010336</td>\n",
       "      <td>-0.027500</td>\n",
       "      <td>0.080661</td>\n",
       "      <td>-0.040409</td>\n",
       "      <td>-0.019892</td>\n",
       "    </tr>\n",
       "    <tr>\n",
       "      <th>2016-07-29</th>\n",
       "      <td>0.063830</td>\n",
       "      <td>-0.024976</td>\n",
       "      <td>0.104046</td>\n",
       "      <td>-0.055769</td>\n",
       "      <td>-0.269034</td>\n",
       "      <td>-0.118122</td>\n",
       "      <td>-0.107009</td>\n",
       "      <td>0.037849</td>\n",
       "      <td>-0.005850</td>\n",
       "      <td>0.223340</td>\n",
       "      <td>...</td>\n",
       "      <td>0.098646</td>\n",
       "      <td>0.104887</td>\n",
       "      <td>0.100798</td>\n",
       "      <td>0.051037</td>\n",
       "      <td>0.257725</td>\n",
       "      <td>0.070496</td>\n",
       "      <td>0.005141</td>\n",
       "      <td>0.020683</td>\n",
       "      <td>0.005879</td>\n",
       "      <td>0.045254</td>\n",
       "    </tr>\n",
       "  </tbody>\n",
       "</table>\n",
       "<p>5 rows × 300 columns</p>\n",
       "</div>"
      ],
      "text/plain": [
       "secShortName     TCL集团      一汽轿车      万华化学      万向钱潮       万科A      万达信息  \\\n",
       "endDate                                                                    \n",
       "2016-03-31    0.026810  0.156814  0.144298  0.135007  0.000000  0.081081   \n",
       "2016-04-29   -0.081473 -0.106458  0.106072 -0.086073  0.000000 -0.113971   \n",
       "2016-05-31   -0.011628  0.054011 -0.013648 -0.018637  0.000000  0.019087   \n",
       "2016-06-30   -0.032353 -0.180106  0.088050  0.056195  0.000000  0.061090   \n",
       "2016-07-29    0.063830 -0.024976  0.104046 -0.055769 -0.269034 -0.118122   \n",
       "\n",
       "secShortName      万达院线      三一重工      三安光电      上汽集团    ...         陕西煤业  \\\n",
       "endDate                                                 ...                \n",
       "2016-03-31    0.000000  0.163599  0.089197  0.094381    ...     0.004587   \n",
       "2016-04-29    0.000000 -0.050967 -0.009156  0.013958    ...     0.121005   \n",
       "2016-05-31    0.000000 -0.057407  0.043634 -0.002458    ...    -0.097760   \n",
       "2016-06-30   -0.002321 -0.013752 -0.017708  0.000000    ...     0.167043   \n",
       "2016-07-29   -0.107009  0.037849 -0.005850  0.223340    ...     0.098646   \n",
       "\n",
       "secShortName      隧道股份       雅戈尔      青岛啤酒      青岛海尔      鞍钢股份      首创股份  \\\n",
       "endDate                                                                    \n",
       "2016-03-31    0.112011  0.334510  0.081387  0.132353  0.051813  0.168508   \n",
       "2016-04-29    0.106796  0.003968  0.012195 -0.016529  0.022167 -0.040189   \n",
       "2016-05-31   -0.053728  0.003294  0.019966  0.098439 -0.067470  0.002506   \n",
       "2016-06-30   -0.010004 -0.044834 -0.018900 -0.029508 -0.010336 -0.027500   \n",
       "2016-07-29    0.104887  0.100798  0.051037  0.257725  0.070496  0.005141   \n",
       "\n",
       "secShortName      首开股份      鲁信创投       鹏博士  \n",
       "endDate                                     \n",
       "2016-03-31    0.046826  0.058369  0.235739  \n",
       "2016-04-29    0.031809 -0.080292 -0.109750  \n",
       "2016-05-31   -0.008671 -0.007055 -0.015873  \n",
       "2016-06-30    0.080661 -0.040409 -0.019892  \n",
       "2016-07-29    0.020683  0.005879  0.045254  \n",
       "\n",
       "[5 rows x 300 columns]"
      ]
     },
     "execution_count": 11,
     "metadata": {},
     "output_type": "execute_result"
    }
   ],
   "source": [
    "startDate = '20100101'\n",
    "endDate = '20160801'\n",
    "stockPool = set_universe('HS300', endDate)\n",
    "\n",
    "data = DataAPI.MktEqumGet(secID = stockPool, beginDate= startDate, endDate= endDate,\n",
    "       field = 'secShortName,endDate,return').pivot(values = 'return', index = 'endDate', columns = 'secShortName')\n",
    "data.tail()"
   ]
  },
  {
   "cell_type": "markdown",
   "id": "6693a358",
   "metadata": {},
   "source": [
    "* ### 采用历史数据经验分布方法估计各只股票VaR值，对于VaR度量有直接认识\n",
    "* ### 这是因为股票回报率分布往往有厚尾性，正态分布不能准确表达；而Monte-Carlo法与经验分布法结果差距不大"
   ]
  },
  {
   "cell_type": "code",
   "execution_count": null,
   "id": "f2f872a7",
   "metadata": {
    "collapsed": false,
    "jupyter": {
     "outputs_hidden": false
    }
   },
   "outputs": [],
   "source": [
    "def histVaR(histSeries, riskLevel = 0.01):\n",
    "    return -histSeries.describe(percentiles = [riskLevel])[str(int(riskLevel * 100))+'%']"
   ]
  },
  {
   "cell_type": "markdown",
   "id": "d9380bfc",
   "metadata": {},
   "source": [
    "* ### 下图是置信水平(1 - $\\alpha$)分别为0.99, 0.95, 0.90时，各只股票的VaR分布情况，置信水平越高表明糟糕程度越甚时在险资金的价值。自然，置信水平越高，VaR值会越大。\n",
    "\n",
    "* ### `在置信水平0.99情况下，证券VaR = 0.4`是指：最坏1%的情况发生时，该证券将遭到40%以上的损失。"
   ]
  },
  {
   "cell_type": "code",
   "execution_count": null,
   "id": "d01afc5e",
   "metadata": {
    "collapsed": false,
    "jupyter": {
     "outputs_hidden": false
    }
   },
   "outputs": [
    {
     "data": {
      "image/png": "[encoded data removed]",
      "text/plain": [
       "<matplotlib.figure.Figure at 0xac1b650>"
      ]
     },
     "metadata": {},
     "output_type": "display_data"
    }
   ],
   "source": [
    "font.set_size(15)\n",
    "titleFont = font.copy()\n",
    "titleFont.set_size(20)\n",
    "labelFont = font.copy()\n",
    "labelFont.set_size(12)\n",
    "\n",
    "fig = plt.figure(figsize = fsize)\n",
    "pd.Series(map(lambda x: histVaR(data[x], riskLevel= 0.01), data.columns), index = data.columns).hist(label = 'RiskLevel = 0.01', bins = 20)\n",
    "pd.Series(map(lambda x: histVaR(data[x], riskLevel= 0.05), data.columns), index = data.columns).hist(label = 'RiskLevel = 0.05', bins = 20)\n",
    "pd.Series(map(lambda x: histVaR(data[x], riskLevel= 0.1), data.columns), index = data.columns).hist(label = 'RiskLevel = 0.10', bins = 20)\n",
    "plt.legend(loc = 'best')\n",
    "plt.xlabel('Value at Risk (%)')\n",
    "plt.ylabel(u\"频数分布\", fontproperties = font)\n",
    "_ = plt.title(u\"不同风险水平下各股票VaR频数分布直方图\", fontproperties = titleFont)"
   ]
  },
  {
   "cell_type": "markdown",
   "id": "45209fc3",
   "metadata": {},
   "source": [
    "* ### 将$\\alpha$设为0.05，考察不同股票组合的有效前沿：即在给定收益率情况下，最小化组合VaR."
   ]
  },
  {
   "cell_type": "code",
   "execution_count": null,
   "id": "fca8cabd",
   "metadata": {
    "collapsed": false,
    "jupyter": {
     "outputs_hidden": false
    }
   },
   "outputs": [],
   "source": [
    "riskLevel = 0.05\n",
    "def pfVaR(weights):\n",
    "    return histVaR(pd.DataFrame(np.mat(data.fillna(0))*np.mat(weights).T, columns = ['portVaR']).portVaR, riskLevel= riskLevel)\n",
    "def pfReturn(weights):\n",
    "    return (np.mat(data.mean()) * np.mat(weights).T)[0,0]"
   ]
  },
  {
   "cell_type": "code",
   "execution_count": null,
   "id": "235b1efb",
   "metadata": {
    "collapsed": true,
    "jupyter": {
     "outputs_hidden": true
    }
   },
   "outputs": [
    {
     "name": "stdout",
     "output_type": "stream",
     "text": [
      "Finish minimize VaR for return level 0.000000!"
     ]
    },
    {
     "name": "stdout",
     "output_type": "stream",
     "text": [
      "\n",
      "Finish minimize VaR for return level 0.010000!"
     ]
    },
    {
     "name": "stdout",
     "output_type": "stream",
     "text": [
      "\n",
      "Finish minimize VaR for return level 0.020000!"
     ]
    },
    {
     "name": "stdout",
     "output_type": "stream",
     "text": [
      "\n",
      "Finish minimize VaR for return level 0.030000!"
     ]
    },
    {
     "name": "stdout",
     "output_type": "stream",
     "text": [
      "\n",
      "Finish minimize VaR for return level 0.040000!"
     ]
    },
    {
     "name": "stdout",
     "output_type": "stream",
     "text": [
      "\n",
      "Finish minimize VaR for return level 0.050000!"
     ]
    },
    {
     "name": "stdout",
     "output_type": "stream",
     "text": [
      "\n",
      "Finish minimize VaR for return level 0.060000!"
     ]
    },
    {
     "name": "stdout",
     "output_type": "stream",
     "text": [
      "\n",
      "Finish minimize VaR for return level 0.070000!"
     ]
    },
    {
     "name": "stdout",
     "output_type": "stream",
     "text": [
      "\n",
      "Finish minimize VaR for return level 0.080000!"
     ]
    },
    {
     "name": "stdout",
     "output_type": "stream",
     "text": [
      "\n",
      "Finish minimize VaR for return level 0.090000!"
     ]
    },
    {
     "name": "stdout",
     "output_type": "stream",
     "text": [
      "\n",
      "Finish minimize VaR for return level 0.100000!"
     ]
    },
    {
     "name": "stdout",
     "output_type": "stream",
     "text": [
      "\n",
      "Finish minimize VaR for return level 0.110000!"
     ]
    },
    {
     "name": "stdout",
     "output_type": "stream",
     "text": [
      "\n",
      "Finish minimize VaR for return level 0.120000!"
     ]
    },
    {
     "name": "stdout",
     "output_type": "stream",
     "text": [
      "\n",
      "Finish minimize VaR for return level 0.130000!"
     ]
    },
    {
     "name": "stdout",
     "output_type": "stream",
     "text": [
      "\n",
      "Finish minimize VaR for return level 0.140000!"
     ]
    },
    {
     "name": "stdout",
     "output_type": "stream",
     "text": [
      "\n",
      "Finish minimize VaR for return level 0.150000!"
     ]
    },
    {
     "name": "stdout",
     "output_type": "stream",
     "text": [
      "\n",
      "Finish minimize VaR for return level 0.160000!"
     ]
    },
    {
     "name": "stdout",
     "output_type": "stream",
     "text": [
      "\n",
      "Finish minimize VaR for return level 0.170000!"
     ]
    },
    {
     "name": "stdout",
     "output_type": "stream",
     "text": [
      "\n",
      "Finish minimize VaR for return level 0.180000!"
     ]
    },
    {
     "name": "stdout",
     "output_type": "stream",
     "text": [
      "\n",
      "Finish minimize VaR for return level 0.190000!"
     ]
    },
    {
     "name": "stdout",
     "output_type": "stream",
     "text": [
      "\n",
      "Finish minimize VaR for return level 0.200000!"
     ]
    },
    {
     "name": "stdout",
     "output_type": "stream",
     "text": [
      "\n"
     ]
    }
   ],
   "source": [
    "wealthFront = []\n",
    "for retLv in np.arange(0, 0.21, 0.01):\n",
    "    cons = ({'type': 'eq', 'fun': lambda x: sum(x) - 1},\n",
    "        {'type': 'eq', 'fun': lambda x: pfReturn(x) - retLv})\n",
    "    res = opt.minimize(pfVaR, [1/len(stockPool)]*len(stockPool), constraints= cons, \n",
    "                   bounds= [(0,1)]*len(stockPool), method = 'SLSQP')\n",
    "    if res['success'] == True:\n",
    "        wealthFront += [[retLv, res['fun']]]\n",
    "        print \"Finish minimize VaR for return level %f!\"%retLv\n",
    "    else:\n",
    "        print \"Minimize VaR for return level %f failed!\"%retLv\n",
    "wf = pd.DataFrame(wealthFront, columns = ['expectedReturn', 'VaR'])"
   ]
  },
  {
   "cell_type": "markdown",
   "id": "26feffa9",
   "metadata": {},
   "source": [
    "* ### 可见，资产组合前沿仍然大致是双曲线右支的形状，全局最小VaR组合的月度收益约在9%  \n",
    "* ### 当然，由于VaR函数采用一般形式，并不是线性优化/二次优化，算法不是十分有效，有时找不到全局最小值，会使图像上出现一些异常点，如预期收益率为0.15时，所得组合最小VaR过高"
   ]
  },
  {
   "cell_type": "code",
   "execution_count": null,
   "id": "801ed2e9",
   "metadata": {
    "collapsed": false,
    "jupyter": {
     "outputs_hidden": false
    }
   },
   "outputs": [
    {
     "data": {
      "image/png": "[encoded data removed]",
      "text/plain": [
       "<matplotlib.figure.Figure at 0x79ff4d0>"
      ]
     },
     "metadata": {},
     "output_type": "display_data"
    }
   ],
   "source": [
    "_ = wf.plot(x= 'VaR', y= 'expectedReturn', kind = 'scatter', figsize = fsize)"
   ]
  },
  {
   "cell_type": "code",
   "execution_count": null,
   "id": "01a90cda",
   "metadata": {
    "collapsed": false,
    "jupyter": {
     "outputs_hidden": false
    }
   },
   "outputs": [],
   "source": [
    "cons = ({'type': 'eq', 'fun': lambda x: sum(x) - 1},\n",
    "        {'type': 'eq', 'fun': lambda x: pfReturn(x) - 0.09})\n",
    "res = opt.minimize(pfVaR, [1/len(stockPool)]*len(stockPool), constraints= cons, \n",
    "               bounds= [(0,1)]*len(stockPool), method = 'SLSQP')"
   ]
  },
  {
   "cell_type": "markdown",
   "id": "b1861e57",
   "metadata": {},
   "source": [
    "* ### 值得注意的一点是，VaR不能直接相加，也就是说，股票A、B按一定权重构成的资产组合，其组合VaR不等于股票A的VaR与股票B的VaR的加权和，而必须利用组合的历史回报率经验分布重新估算。\n",
    "* ### 如50% TCL集团与50%一汽轿车构成的组合，VaR是20.4%，而两只股票VaR加权和是22.0%.\n",
    "* ### 这是因为两只股票回报率分布不独立，存在相关性，对于资产组合最糟糕的情况不一定对两只股票都最糟糕。"
   ]
  },
  {
   "cell_type": "code",
   "execution_count": null,
   "id": "01dca45a",
   "metadata": {
    "collapsed": false,
    "jupyter": {
     "outputs_hidden": false
    }
   },
   "outputs": [
    {
     "name": "stdout",
     "output_type": "stream",
     "text": [
      "TCL集团的VaR是0.181631."
     ]
    },
    {
     "name": "stdout",
     "output_type": "stream",
     "text": [
      "\n",
      "一汽轿车的VaR是0.257989.\n",
      "组合的VaR是0.203551.\n"
     ]
    }
   ],
   "source": [
    "df = data[data.columns[:2]]\n",
    "df['组合'] = 0.5 * df[df.columns[0]] + 0.5 * df[df.columns[1]]\n",
    "for i in range(3):\n",
    "    print \"%s的VaR是%f.\"%(df.columns[i],histVaR(df[df.columns[i]]))"
   ]
  },
  {
   "cell_type": "markdown",
   "id": "849ed3ee",
   "metadata": {},
   "source": [
    "* ### 最后，可以大概看一下全局最小VaR组合的成分与权重："
   ]
  },
  {
   "cell_type": "code",
   "execution_count": null,
   "id": "e3a9d277",
   "metadata": {
    "collapsed": false,
    "jupyter": {
     "outputs_hidden": false
    }
   },
   "outputs": [
    {
     "data": {
      "text/html": [
       "<div style=\"max-width:1500px;overflow:auto;\">\n",
       "<table border=\"1\" class=\"dataframe\">\n",
       "  <thead>\n",
       "    <tr style=\"text-align: right;\">\n",
       "      <th>stock</th>\n",
       "      <th>万达信息</th>\n",
       "      <th>万达院线</th>\n",
       "      <th>上汽集团</th>\n",
       "      <th>上海莱士</th>\n",
       "      <th>东方证券</th>\n",
       "      <th>中国核电</th>\n",
       "      <th>人民网</th>\n",
       "      <th>国泰君安</th>\n",
       "      <th>恒生电子</th>\n",
       "      <th>招商蛇口</th>\n",
       "      <th>春秋航空</th>\n",
       "      <th>美的集团</th>\n",
       "      <th>节能风电</th>\n",
       "      <th>营口港</th>\n",
       "      <th>陕西煤业</th>\n",
       "    </tr>\n",
       "  </thead>\n",
       "  <tbody>\n",
       "    <tr>\n",
       "      <th>weights</th>\n",
       "      <td>0.003645</td>\n",
       "      <td>0.382867</td>\n",
       "      <td>0.001127</td>\n",
       "      <td>0.001037</td>\n",
       "      <td>0.034009</td>\n",
       "      <td>0.026644</td>\n",
       "      <td>0.001158</td>\n",
       "      <td>0.004859</td>\n",
       "      <td>0.001716</td>\n",
       "      <td>0.176263</td>\n",
       "      <td>0.157516</td>\n",
       "      <td>0.054309</td>\n",
       "      <td>0.007322</td>\n",
       "      <td>0.002074</td>\n",
       "      <td>0.13999</td>\n",
       "    </tr>\n",
       "  </tbody>\n",
       "</table>\n",
       "</div>"
      ],
      "text/plain": [
       "stock        万达信息      万达院线      上汽集团      上海莱士      东方证券      中国核电       人民网  \\\n",
       "weights  0.003645  0.382867  0.001127  0.001037  0.034009  0.026644  0.001158   \n",
       "\n",
       "stock        国泰君安      恒生电子      招商蛇口      春秋航空      美的集团      节能风电       营口港  \\\n",
       "weights  0.004859  0.001716  0.176263  0.157516  0.054309  0.007322  0.002074   \n",
       "\n",
       "stock       陕西煤业  \n",
       "weights  0.13999  "
      ]
     },
     "execution_count": 80,
     "metadata": {},
     "output_type": "execute_result"
    }
   ],
   "source": [
    "weights = [_ if abs(_)>0.001 else 0 for _ in res['x']]\n",
    "wt = pd.DataFrame()\n",
    "wt['stock'] = data.columns\n",
    "wt['weights'] = weights\n",
    "wt = wt[wt.weights>0].set_index('stock')\n",
    "wt.T\n",
    "# secDict = DataAPI.EquGet(secID = set_universe('HS300', endDate), field = 'secID,secShortName').set_index('secShortName').secID.to_dict()\n",
    "# wt.columns = map(lambda x: secDict[x], wt.columns)\n",
    "# wt = wt.T.weights.to_dict()"
   ]
  },
  {
   "cell_type": "markdown",
   "id": "5103925a",
   "metadata": {},
   "source": [
    "# `总结`\n",
    "---\n",
    "\n",
    "* ### 这篇notebook介绍了在线价值(VaR)这一风险度量工具，其特点是定义直观、运用简单、并且具有单向性；\n",
    "* ### 其不足之处在于：\n",
    "    * ### 损失的概率分布函数不好确定，利用历史数据有时不能代表未来；\n",
    "    * ### 不具有直接可加性，运算操作麻烦。\n",
    "* ### 因而本文只是给出一个想法，说明风险的度量有多种方式，并且在这些方式下，投资者都可以构建相应的资产组合有效前沿。  \n",
    "\n",
    "\n",
    "\n",
    "  \n",
    "# `参考资料`\n",
    "---\n",
    "* ### [wiki - Value at risk](https://en.wikipedia.org/wiki/Value_at_risk#Risk_measure_and_risk_metric)\n",
    "* ### [An Introduction To Value at Risk (VAR)](http://www.investopedia.com/articles/04/092904.asp)\n",
    "* ### [VaR方法](http://wiki.mbalib.com/wiki/VaR%E6%96%B9%E6%B3%95)"
   ]
  }
 ],
 "metadata": {
  "kernelspec": {
   "display_name": "Python 3",
   "language": "python",
   "name": "python3"
  },
  "language_info": {
   "codemirror_mode": {
    "name": "ipython",
    "version": 3
   },
   "file_extension": ".py",
   "mimetype": "text/x-python",
   "name": "python",
   "nbconvert_exporter": "python",
   "pygments_lexer": "ipython3",
   "version": "3.8.7"
  }
 },
 "nbformat": 4,
 "nbformat_minor": 5
}
