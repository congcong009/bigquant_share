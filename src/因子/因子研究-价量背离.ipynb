{
 "cells": [
  {
   "cell_type": "code",
   "execution_count": 34,
   "metadata": {},
   "outputs": [
    {
     "data": {
      "text/plain": [
       "{'name': '量价背离',\n",
       " 'expr': '-1 * correlation(sum((close_0 * volume_0), 2) / sum(volume_0, 2), volume_0, 2)'}"
      ]
     },
     "execution_count": 34,
     "metadata": {},
     "output_type": "execute_result"
    }
   ],
   "source": [
    "m2.data.read()['data']['factors'][0]['meta']"
   ]
  },
  {
   "cell_type": "code",
   "execution_count": 35,
   "metadata": {
    "machine_learning_studio": "true",
    "ml_studio_json": "{\"description\":\"实验创建于2020/2/14\",\"graph\":{\"edges\":[{\"to_node_id\":\"-5617:features\",\"from_node_id\":\"-70:data\"},{\"to_node_id\":\"-62:factors_info\",\"from_node_id\":\"-5617:save_data\"}],\"nodes\":[{\"node_id\":\"-70\",\"module_id\":\"BigQuantSpace.input_features.input_features-v1\",\"parameters\":[{\"name\":\"features\",\"value\":\"\\n# 量价背离\\nfactor_1 = -1 * correlation(sum((close_0 * volume_0), 2) / sum(volume_0, 2), volume_0, 2)\\n\\n# 开盘缺口\\n#open_0 - close_1\\n\\n# 异常成交量\\n#-1 * (volume_0 / mean(volume_0, 2))\\n\\n# 量幅背离\\n#-1 * correlation(high_0/low_0, volume_0, 2)\",\"type\":\"Literal\",\"bound_global_parameter\":null}],\"input_ports\":[{\"name\":\"features_ds\",\"node_id\":\"-70\"}],\"output_ports\":[{\"name\":\"data\",\"node_id\":\"-70\"}],\"cacheable\":true,\"seq_num\":1,\"comment\":\"\",\"comment_collapsed\":true},{\"node_id\":\"-5617\",\"module_id\":\"BigQuantSpace.factorlens.factorlens-v2\",\"parameters\":[{\"name\":\"title\",\"value\":\"因子分析: {factor_name}\",\"type\":\"Literal\",\"bound_global_parameter\":null},{\"name\":\"start_date\",\"value\":\"2020-01-01\",\"type\":\"Literal\",\"bound_global_parameter\":null},{\"name\":\"end_date\",\"value\":\"2021-12-31\",\"type\":\"Literal\",\"bound_global_parameter\":null},{\"name\":\"rebalance_period\",\"value\":\"2\",\"type\":\"Literal\",\"bound_global_parameter\":null},{\"name\":\"delay_rebalance_days\",\"value\":\"0\",\"type\":\"Literal\",\"bound_global_parameter\":null},{\"name\":\"rebalance_price\",\"value\":\"close_0\",\"type\":\"Literal\",\"bound_global_parameter\":null},{\"name\":\"stock_pool\",\"value\":\"沪深300\",\"type\":\"Literal\",\"bound_global_parameter\":null},{\"name\":\"quantile_count\",\"value\":5,\"type\":\"Literal\",\"bound_global_parameter\":null},{\"name\":\"commission_rate\",\"value\":0.0016,\"type\":\"Literal\",\"bound_global_parameter\":null},{\"name\":\"returns_calculation_method\",\"value\":\"累乘\",\"type\":\"Literal\",\"bound_global_parameter\":null},{\"name\":\"benchmark\",\"value\":\"沪深300\",\"type\":\"Literal\",\"bound_global_parameter\":null},{\"name\":\"drop_new_stocks\",\"value\":60,\"type\":\"Literal\",\"bound_global_parameter\":null},{\"name\":\"drop_price_limit_stocks\",\"value\":\"True\",\"type\":\"Literal\",\"bound_global_parameter\":null},{\"name\":\"drop_st_stocks\",\"value\":\"True\",\"type\":\"Literal\",\"bound_global_parameter\":null},{\"name\":\"drop_suspended_stocks\",\"value\":\"True\",\"type\":\"Literal\",\"bound_global_parameter\":null},{\"name\":\"cutoutliers\",\"value\":\"True\",\"type\":\"Literal\",\"bound_global_parameter\":null},{\"name\":\"normalization\",\"value\":\"True\",\"type\":\"Literal\",\"bound_global_parameter\":null},{\"name\":\"neutralization\",\"value\":\"%7B%22enumItems%22%3A%5B%7B%22value%22%3A%22%E8%A1%8C%E4%B8%9A%22%2C%22displayValue%22%3A%22%E8%A1%8C%E4%B8%9A%22%2C%22selected%22%3Atrue%7D%2C%7B%22value%22%3A%22%E5%B8%82%E5%80%BC%22%2C%22displayValue%22%3A%22%E5%B8%82%E5%80%BC%22%2C%22selected%22%3Atrue%7D%5D%7D\",\"type\":\"Literal\",\"bound_global_parameter\":null},{\"name\":\"metrics\",\"value\":\"%7B%22enumItems%22%3A%5B%7B%22value%22%3A%22%E5%9B%A0%E5%AD%90%E8%A1%A8%E7%8E%B0%E6%A6%82%E8%A7%88%22%2C%22displayValue%22%3A%22%E5%9B%A0%E5%AD%90%E8%A1%A8%E7%8E%B0%E6%A6%82%E8%A7%88%22%2C%22selected%22%3Atrue%7D%2C%7B%22value%22%3A%22%E5%9B%A0%E5%AD%90%E5%88%86%E5%B8%83%22%2C%22displayValue%22%3A%22%E5%9B%A0%E5%AD%90%E5%88%86%E5%B8%83%22%2C%22selected%22%3Atrue%7D%2C%7B%22value%22%3A%22%E5%9B%A0%E5%AD%90%E8%A1%8C%E4%B8%9A%E5%88%86%E5%B8%83%22%2C%22displayValue%22%3A%22%E5%9B%A0%E5%AD%90%E8%A1%8C%E4%B8%9A%E5%88%86%E5%B8%83%22%2C%22selected%22%3Atrue%7D%2C%7B%22value%22%3A%22%E5%9B%A0%E5%AD%90%E5%B8%82%E5%80%BC%E5%88%86%E5%B8%83%22%2C%22displayValue%22%3A%22%E5%9B%A0%E5%AD%90%E5%B8%82%E5%80%BC%E5%88%86%E5%B8%83%22%2C%22selected%22%3Atrue%7D%2C%7B%22value%22%3A%22IC%E5%88%86%E6%9E%90%22%2C%22displayValue%22%3A%22IC%E5%88%86%E6%9E%90%22%2C%22selected%22%3Atrue%7D%2C%7B%22value%22%3A%22%E4%B9%B0%E5%85%A5%E4%BF%A1%E5%8F%B7%E9%87%8D%E5%90%88%E5%88%86%E6%9E%90%22%2C%22displayValue%22%3A%22%E4%B9%B0%E5%85%A5%E4%BF%A1%E5%8F%B7%E9%87%8D%E5%90%88%E5%88%86%E6%9E%90%22%2C%22selected%22%3Atrue%7D%2C%7B%22value%22%3A%22%E5%9B%A0%E5%AD%90%E4%BC%B0%E5%80%BC%E5%88%86%E6%9E%90%22%2C%22displayValue%22%3A%22%E5%9B%A0%E5%AD%90%E4%BC%B0%E5%80%BC%E5%88%86%E6%9E%90%22%2C%22selected%22%3Atrue%7D%2C%7B%22value%22%3A%22%E5%9B%A0%E5%AD%90%E6%8B%A5%E6%8C%A4%E5%BA%A6%E5%88%86%E6%9E%90%22%2C%22displayValue%22%3A%22%E5%9B%A0%E5%AD%90%E6%8B%A5%E6%8C%A4%E5%BA%A6%E5%88%86%E6%9E%90%22%2C%22selected%22%3Atrue%7D%2C%7B%22value%22%3A%22%E5%9B%A0%E5%AD%90%E5%80%BC%E6%9C%80%E5%A4%A7%2F%E6%9C%80%E5%B0%8F%E8%82%A1%E7%A5%A8%22%2C%22displayValue%22%3A%22%E5%9B%A0%E5%AD%90%E5%80%BC%E6%9C%80%E5%A4%A7%2F%E6%9C%80%E5%B0%8F%E8%82%A1%E7%A5%A8%22%2C%22selected%22%3Atrue%7D%2C%7B%22value%22%3A%22%E8%A1%A8%E8%BE%BE%E5%BC%8F%E5%9B%A0%E5%AD%90%E5%80%BC%22%2C%22displayValue%22%3A%22%E8%A1%A8%E8%BE%BE%E5%BC%8F%E5%9B%A0%E5%AD%90%E5%80%BC%22%2C%22selected%22%3Atrue%7D%2C%7B%22value%22%3A%22%E5%A4%9A%E5%9B%A0%E5%AD%90%E7%9B%B8%E5%85%B3%E6%80%A7%E5%88%86%E6%9E%90%22%2C%22displayValue%22%3A%22%E5%A4%9A%E5%9B%A0%E5%AD%90%E7%9B%B8%E5%85%B3%E6%80%A7%E5%88%86%E6%9E%90%22%2C%22selected%22%3Atrue%7D%5D%7D\",\"type\":\"Literal\",\"bound_global_parameter\":null},{\"name\":\"factor_coverage\",\"value\":0.5,\"type\":\"Literal\",\"bound_global_parameter\":null},{\"name\":\"user_data_merge\",\"value\":\"left\",\"type\":\"Literal\",\"bound_global_parameter\":null}],\"input_ports\":[{\"name\":\"features\",\"node_id\":\"-5617\"},{\"name\":\"user_factor_data\",\"node_id\":\"-5617\"}],\"output_ports\":[{\"name\":\"data\",\"node_id\":\"-5617\"},{\"name\":\"save_data\",\"node_id\":\"-5617\"}],\"cacheable\":true,\"seq_num\":2,\"comment\":\"\",\"comment_collapsed\":true},{\"node_id\":\"-62\",\"module_id\":\"BigQuantSpace.factorlens_preservation.factorlens_preservation-v2\",\"parameters\":[{\"name\":\"factor_fields\",\"value\":\"# 定义因子名称\\n {\\n     \\\"factor_1\\\": {'name': \\\"量价背离\\\", 'desc': \\\"最近2日成交量与价格走势背离\\\"},\\n }\",\"type\":\"Literal\",\"bound_global_parameter\":null},{\"name\":\"table\",\"value\":\"\",\"type\":\"Literal\",\"bound_global_parameter\":null}],\"input_ports\":[{\"name\":\"factors_info\",\"node_id\":\"-62\"}],\"output_ports\":[{\"name\":\"data\",\"node_id\":\"-62\"}],\"cacheable\":false,\"seq_num\":4,\"comment\":\"\",\"comment_collapsed\":true}],\"node_layout\":\"<node_postions><node_position Node='-70' Position='282,197,200,200'/><node_position Node='-5617' Position='295,303,200,200'/><node_position Node='-62' Position='261,405,200,200'/></node_postions>\"},\"nodes_readonly\":false,\"studio_version\":\"v2\"}"
   },
   "outputs": [
    {
     "data": {
      "text/plain": [
       "[2021-12-06 17:49:34.766803] INFO: moduleinvoker: input_features.v1 开始运行.."
      ]
     },
     "metadata": {
      "is_log": true,
      "status": "INFO"
     },
     "output_type": "display_data"
    },
    {
     "data": {
      "text/plain": [
       "[2021-12-06 17:49:34.843821] INFO: moduleinvoker: input_features.v1 运行完成[0.077023s]."
      ]
     },
     "metadata": {
      "is_log": true,
      "status": "INFO"
     },
     "output_type": "display_data"
    },
    {
     "data": {
      "text/plain": [
       "[2021-12-06 17:49:34.857227] INFO: moduleinvoker: factorlens.v2 开始运行.."
      ]
     },
     "metadata": {
      "is_log": true,
      "status": "INFO"
     },
     "output_type": "display_data"
    },
    {
     "data": {
      "text/plain": [
       "[2021-12-06 17:49:34.914430] INFO: 因子分析: batch_process start"
      ]
     },
     "metadata": {
      "is_log": true,
      "status": "INFO"
     },
     "output_type": "display_data"
    },
    {
     "data": {
      "text/plain": [
       "[2021-12-06 17:49:34.916526] INFO: 因子分析: load_instruments 2020-01-01, 2021-12-31"
      ]
     },
     "metadata": {
      "is_log": true,
      "status": "INFO"
     },
     "output_type": "display_data"
    },
    {
     "data": {
      "text/plain": [
       "[2021-12-06 17:49:35.701026] INFO: 因子分析: load_instruments, 4685 rows."
      ]
     },
     "metadata": {
      "is_log": true,
      "status": "INFO"
     },
     "output_type": "display_data"
    },
    {
     "data": {
      "text/plain": [
       "[2021-12-06 17:49:35.703181] INFO: 因子分析: load_benchmark_data 2020-01-01, 2021-12-31"
      ]
     },
     "metadata": {
      "is_log": true,
      "status": "INFO"
     },
     "output_type": "display_data"
    },
    {
     "data": {
      "text/plain": [
       "[2021-12-06 17:49:35.813046] INFO: 因子分析: load_benchmark_data, 1401 rows."
      ]
     },
     "metadata": {
      "is_log": true,
      "status": "INFO"
     },
     "output_type": "display_data"
    },
    {
     "data": {
      "text/plain": [
       "[2021-12-06 17:49:35.815162] INFO: 因子分析: StockPool.before_load_general_feature_data"
      ]
     },
     "metadata": {
      "is_log": true,
      "status": "INFO"
     },
     "output_type": "display_data"
    },
    {
     "data": {
      "text/plain": [
       "[2021-12-06 17:49:35.816917] INFO: 因子分析: UserDataMerge.before_load_general_feature_data"
      ]
     },
     "metadata": {
      "is_log": true,
      "status": "INFO"
     },
     "output_type": "display_data"
    },
    {
     "data": {
      "text/plain": [
       "[2021-12-06 17:49:35.818387] INFO: 因子分析: DropSTStocks.before_load_general_feature_data"
      ]
     },
     "metadata": {
      "is_log": true,
      "status": "INFO"
     },
     "output_type": "display_data"
    },
    {
     "data": {
      "text/plain": [
       "[2021-12-06 17:49:35.820005] INFO: 因子分析: DropNewStocks.before_load_general_feature_data"
      ]
     },
     "metadata": {
      "is_log": true,
      "status": "INFO"
     },
     "output_type": "display_data"
    },
    {
     "data": {
      "text/plain": [
       "[2021-12-06 17:49:35.822418] INFO: 因子分析: Neutralization.before_load_general_feature_data"
      ]
     },
     "metadata": {
      "is_log": true,
      "status": "INFO"
     },
     "output_type": "display_data"
    },
    {
     "data": {
      "text/plain": [
       "[2021-12-06 17:49:35.823940] INFO: 因子分析: DelayRebalanceDays.before_load_general_feature_data"
      ]
     },
     "metadata": {
      "is_log": true,
      "status": "INFO"
     },
     "output_type": "display_data"
    },
    {
     "data": {
      "text/plain": [
       "[2021-12-06 17:49:35.826127] INFO: 因子分析: RebalancePeriod.before_load_general_feature_data"
      ]
     },
     "metadata": {
      "is_log": true,
      "status": "INFO"
     },
     "output_type": "display_data"
    },
    {
     "data": {
      "text/plain": [
       "[2021-12-06 17:49:35.827416] INFO: 因子分析: RebalancePrice.before_load_general_feature_data"
      ]
     },
     "metadata": {
      "is_log": true,
      "status": "INFO"
     },
     "output_type": "display_data"
    },
    {
     "data": {
      "text/plain": [
       "[2021-12-06 17:49:35.828736] INFO: 因子分析: FactorCoverage.before_load_general_feature_data"
      ]
     },
     "metadata": {
      "is_log": true,
      "status": "INFO"
     },
     "output_type": "display_data"
    },
    {
     "data": {
      "text/plain": [
       "[2021-12-06 17:49:35.830077] INFO: 因子分析: Industry.before_load_general_feature_data"
      ]
     },
     "metadata": {
      "is_log": true,
      "status": "INFO"
     },
     "output_type": "display_data"
    },
    {
     "data": {
      "text/plain": [
       "[2021-12-06 17:49:35.831422] INFO: 因子分析: PBRatio.before_load_general_feature_data"
      ]
     },
     "metadata": {
      "is_log": true,
      "status": "INFO"
     },
     "output_type": "display_data"
    },
    {
     "data": {
      "text/plain": [
       "[2021-12-06 17:49:35.832747] INFO: 因子分析: Turnover.before_load_general_feature_data"
      ]
     },
     "metadata": {
      "is_log": true,
      "status": "INFO"
     },
     "output_type": "display_data"
    },
    {
     "data": {
      "text/plain": [
       "[2021-12-06 17:49:35.834152] INFO: 因子分析: MarketCap.before_load_general_feature_data"
      ]
     },
     "metadata": {
      "is_log": true,
      "status": "INFO"
     },
     "output_type": "display_data"
    },
    {
     "data": {
      "text/plain": [
       "[2021-12-06 17:49:35.835816] INFO: 因子分析: load_general_feature_data, load data"
      ]
     },
     "metadata": {
      "is_log": true,
      "status": "INFO"
     },
     "output_type": "display_data"
    },
    {
     "data": {
      "text/plain": [
       "[2021-12-06 17:50:34.285453] INFO: 因子分析: RebalancePeriod.after_load_general_feature_data"
      ]
     },
     "metadata": {
      "is_log": true,
      "status": "INFO"
     },
     "output_type": "display_data"
    },
    {
     "data": {
      "text/plain": [
       "[2021-12-06 17:50:34.379867] INFO: 因子分析: RebalancePeriodsReturns.after_load_general_feature_data"
      ]
     },
     "metadata": {
      "is_log": true,
      "status": "INFO"
     },
     "output_type": "display_data"
    },
    {
     "data": {
      "text/plain": [
       "[2021-12-06 17:51:00.972753] INFO: 因子分析: RebalancePrice.after_load_general_feature_data"
      ]
     },
     "metadata": {
      "is_log": true,
      "status": "INFO"
     },
     "output_type": "display_data"
    },
    {
     "data": {
      "text/plain": [
       "[2021-12-06 17:51:00.974510] INFO: 因子分析: load_general_feature_data, 2802740 rows."
      ]
     },
     "metadata": {
      "is_log": true,
      "status": "INFO"
     },
     "output_type": "display_data"
    },
    {
     "data": {
      "text/plain": [
       "[2021-12-06 17:51:00.976646] INFO: 因子分析: load_derived_feature_data, 2802740 rows, 24 columns."
      ]
     },
     "metadata": {
      "is_log": true,
      "status": "INFO"
     },
     "output_type": "display_data"
    },
    {
     "data": {
      "text/plain": [
       "[2021-12-06 17:51:00.978314] INFO: 因子分析: process, factor_1"
      ]
     },
     "metadata": {
      "is_log": true,
      "status": "INFO"
     },
     "output_type": "display_data"
    },
    {
     "data": {
      "text/plain": [
       "[2021-12-06 17:51:00.979843] INFO: 因子分析: calculate_factor, -1 * correlation(sum((close_0 * volume_0), 2) / sum(volume_0, 2), volume_0, 2)"
      ]
     },
     "metadata": {
      "is_log": true,
      "status": "INFO"
     },
     "output_type": "display_data"
    },
    {
     "data": {
      "text/plain": [
       "[2021-12-06 17:51:39.535723] INFO: 因子分析: calculate_factor, done"
      ]
     },
     "metadata": {
      "is_log": true,
      "status": "INFO"
     },
     "output_type": "display_data"
    },
    {
     "data": {
      "text/plain": [
       "[2021-12-06 17:51:39.801341] INFO: 因子分析: QuantileReturns.before_process"
      ]
     },
     "metadata": {
      "is_log": true,
      "status": "INFO"
     },
     "output_type": "display_data"
    },
    {
     "data": {
      "text/plain": [
       "[2021-12-06 17:51:39.803371] INFO: 因子分析: IC.before_process"
      ]
     },
     "metadata": {
      "is_log": true,
      "status": "INFO"
     },
     "output_type": "display_data"
    },
    {
     "data": {
      "text/plain": [
       "[2021-12-06 17:51:39.804958] INFO: 因子分析: BasicDescription.before_process"
      ]
     },
     "metadata": {
      "is_log": true,
      "status": "INFO"
     },
     "output_type": "display_data"
    },
    {
     "data": {
      "text/plain": [
       "[2021-12-06 17:51:39.806375] INFO: 因子分析: Industry.before_process"
      ]
     },
     "metadata": {
      "is_log": true,
      "status": "INFO"
     },
     "output_type": "display_data"
    },
    {
     "data": {
      "text/plain": [
       "[2021-12-06 17:51:39.807780] INFO: 因子分析: RebalanceOverlap.before_process"
      ]
     },
     "metadata": {
      "is_log": true,
      "status": "INFO"
     },
     "output_type": "display_data"
    },
    {
     "data": {
      "text/plain": [
       "[2021-12-06 17:51:39.809209] INFO: 因子分析: PBRatio.before_process"
      ]
     },
     "metadata": {
      "is_log": true,
      "status": "INFO"
     },
     "output_type": "display_data"
    },
    {
     "data": {
      "text/plain": [
       "[2021-12-06 17:51:39.810576] INFO: 因子分析: Turnover.before_process"
      ]
     },
     "metadata": {
      "is_log": true,
      "status": "INFO"
     },
     "output_type": "display_data"
    },
    {
     "data": {
      "text/plain": [
       "[2021-12-06 17:51:39.811996] INFO: 因子分析: Stocks.before_process"
      ]
     },
     "metadata": {
      "is_log": true,
      "status": "INFO"
     },
     "output_type": "display_data"
    },
    {
     "data": {
      "text/plain": [
       "[2021-12-06 17:51:39.813372] INFO: 因子分析: MarketCap.before_process"
      ]
     },
     "metadata": {
      "is_log": true,
      "status": "INFO"
     },
     "output_type": "display_data"
    },
    {
     "data": {
      "text/plain": [
       "[2021-12-06 17:51:39.814760] INFO: 因子分析: FactorValue.before_process"
      ]
     },
     "metadata": {
      "is_log": true,
      "status": "INFO"
     },
     "output_type": "display_data"
    },
    {
     "data": {
      "text/plain": [
       "[2021-12-06 17:51:39.816146] INFO: 因子分析: FactorPairwiseCorrelationMerged.before_process"
      ]
     },
     "metadata": {
      "is_log": true,
      "status": "INFO"
     },
     "output_type": "display_data"
    },
    {
     "data": {
      "text/plain": [
       "[2021-12-06 17:51:39.971960] INFO: 因子分析: process metrics, start .."
      ]
     },
     "metadata": {
      "is_log": true,
      "status": "INFO"
     },
     "output_type": "display_data"
    },
    {
     "data": {
      "text/plain": [
       "[2021-12-06 17:51:40.007648] INFO: 因子分析: process, 137933/1919082 rows .."
      ]
     },
     "metadata": {
      "is_log": true,
      "status": "INFO"
     },
     "output_type": "display_data"
    },
    {
     "data": {
      "text/plain": [
       "[2021-12-06 17:51:40.009847] INFO: 因子分析: BacktestInterval.process, 0.000s"
      ]
     },
     "metadata": {
      "is_log": true,
      "status": "INFO"
     },
     "output_type": "display_data"
    },
    {
     "data": {
      "text/plain": [
       "[2021-12-06 17:51:40.011740] INFO: 因子分析: Benchmark.process, 0.000s"
      ]
     },
     "metadata": {
      "is_log": true,
      "status": "INFO"
     },
     "output_type": "display_data"
    },
    {
     "data": {
      "text/plain": [
       "[2021-12-06 17:51:40.013370] INFO: 因子分析: StockPool.process, 0.000s"
      ]
     },
     "metadata": {
      "is_log": true,
      "status": "INFO"
     },
     "output_type": "display_data"
    },
    {
     "data": {
      "text/plain": [
       "[2021-12-06 17:51:40.014975] INFO: 因子分析: UserDataMerge.process, 0.000s"
      ]
     },
     "metadata": {
      "is_log": true,
      "status": "INFO"
     },
     "output_type": "display_data"
    },
    {
     "data": {
      "text/plain": [
       "[2021-12-06 17:51:40.016654] INFO: 因子分析: DropSTStocks.process, 0.000s"
      ]
     },
     "metadata": {
      "is_log": true,
      "status": "INFO"
     },
     "output_type": "display_data"
    },
    {
     "data": {
      "text/plain": [
       "[2021-12-06 17:51:40.018205] INFO: 因子分析: DropPriceLimitStocks.process, 0.000s"
      ]
     },
     "metadata": {
      "is_log": true,
      "status": "INFO"
     },
     "output_type": "display_data"
    },
    {
     "data": {
      "text/plain": [
       "[2021-12-06 17:51:40.019417] INFO: 因子分析: DropNewStocks.process, 0.000s"
      ]
     },
     "metadata": {
      "is_log": true,
      "status": "INFO"
     },
     "output_type": "display_data"
    },
    {
     "data": {
      "text/plain": [
       "[2021-12-06 17:51:40.020652] INFO: 因子分析: DropSuspendedStocks.process, 0.000s"
      ]
     },
     "metadata": {
      "is_log": true,
      "status": "INFO"
     },
     "output_type": "display_data"
    },
    {
     "data": {
      "text/plain": [
       "[2021-12-06 17:51:40.021970] INFO: 因子分析: QuantileCount.process, 0.000s"
      ]
     },
     "metadata": {
      "is_log": true,
      "status": "INFO"
     },
     "output_type": "display_data"
    },
    {
     "data": {
      "text/plain": [
       "[2021-12-06 17:51:40.023520] INFO: 因子分析: CommissionRates.process, 0.000s"
      ]
     },
     "metadata": {
      "is_log": true,
      "status": "INFO"
     },
     "output_type": "display_data"
    },
    {
     "data": {
      "text/plain": [
       "[2021-12-06 17:51:40.362151] INFO: 因子分析: Normalization.process, 0.337s"
      ]
     },
     "metadata": {
      "is_log": true,
      "status": "INFO"
     },
     "output_type": "display_data"
    },
    {
     "data": {
      "text/plain": [
       "[2021-12-06 17:51:41.508135] INFO: 因子分析: Neutralization.process, 1.144s"
      ]
     },
     "metadata": {
      "is_log": true,
      "status": "INFO"
     },
     "output_type": "display_data"
    },
    {
     "data": {
      "text/plain": [
       "[2021-12-06 17:51:41.509918] INFO: 因子分析: DelayRebalanceDays.process, 0.000s"
      ]
     },
     "metadata": {
      "is_log": true,
      "status": "INFO"
     },
     "output_type": "display_data"
    },
    {
     "data": {
      "text/plain": [
       "[2021-12-06 17:51:45.103134] INFO: 因子分析: RebalancePeriod.process, 3.592s"
      ]
     },
     "metadata": {
      "is_log": true,
      "status": "INFO"
     },
     "output_type": "display_data"
    },
    {
     "data": {
      "text/plain": [
       "[2021-12-06 17:51:45.104803] INFO: 因子分析: RebalancePeriodsReturns.process, 0.000s"
      ]
     },
     "metadata": {
      "is_log": true,
      "status": "INFO"
     },
     "output_type": "display_data"
    },
    {
     "data": {
      "text/plain": [
       "[2021-12-06 17:51:45.106100] INFO: 因子分析: RebalancePrice.process, 0.000s"
      ]
     },
     "metadata": {
      "is_log": true,
      "status": "INFO"
     },
     "output_type": "display_data"
    },
    {
     "data": {
      "text/plain": [
       "[2021-12-06 17:51:45.107199] INFO: 因子分析: ReturnsCalculationMethod.process, 0.000s"
      ]
     },
     "metadata": {
      "is_log": true,
      "status": "INFO"
     },
     "output_type": "display_data"
    },
    {
     "data": {
      "text/plain": [
       "[2021-12-06 17:51:45.108326] INFO: 因子分析: FactorCoverage.process, 0.000s"
      ]
     },
     "metadata": {
      "is_log": true,
      "status": "INFO"
     },
     "output_type": "display_data"
    },
    {
     "data": {
      "text/plain": [
       "[2021-12-06 17:51:45.152823] INFO: 因子分析: QuantileReturns.process, 0.043s"
      ]
     },
     "metadata": {
      "is_log": true,
      "status": "INFO"
     },
     "output_type": "display_data"
    },
    {
     "data": {
      "text/plain": [
       "[2021-12-06 17:51:45.797511] INFO: 因子分析: IC.process, 0.643s"
      ]
     },
     "metadata": {
      "is_log": true,
      "status": "INFO"
     },
     "output_type": "display_data"
    },
    {
     "data": {
      "text/plain": [
       "[2021-12-06 17:51:45.824722] INFO: 因子分析: BasicDescription.process, 0.025s"
      ]
     },
     "metadata": {
      "is_log": true,
      "status": "INFO"
     },
     "output_type": "display_data"
    },
    {
     "data": {
      "text/plain": [
       "[2021-12-06 17:51:46.004451] INFO: 因子分析: Industry.process, 0.177s"
      ]
     },
     "metadata": {
      "is_log": true,
      "status": "INFO"
     },
     "output_type": "display_data"
    },
    {
     "data": {
      "text/plain": [
       "[2021-12-06 17:51:46.205242] INFO: 因子分析: RebalanceOverlap.process, 0.199s"
      ]
     },
     "metadata": {
      "is_log": true,
      "status": "INFO"
     },
     "output_type": "display_data"
    },
    {
     "data": {
      "text/plain": [
       "[2021-12-06 17:51:46.227381] INFO: 因子分析: PBRatio.process, 0.020s"
      ]
     },
     "metadata": {
      "is_log": true,
      "status": "INFO"
     },
     "output_type": "display_data"
    },
    {
     "data": {
      "text/plain": [
       "[2021-12-06 17:51:46.245184] INFO: 因子分析: Turnover.process, 0.016s"
      ]
     },
     "metadata": {
      "is_log": true,
      "status": "INFO"
     },
     "output_type": "display_data"
    },
    {
     "data": {
      "text/plain": [
       "[2021-12-06 17:51:46.256770] INFO: 因子分析: Stocks.process, 0.010s"
      ]
     },
     "metadata": {
      "is_log": true,
      "status": "INFO"
     },
     "output_type": "display_data"
    },
    {
     "data": {
      "text/plain": [
       "[2021-12-06 17:51:46.319913] INFO: 因子分析: MarketCap.process, 0.061s"
      ]
     },
     "metadata": {
      "is_log": true,
      "status": "INFO"
     },
     "output_type": "display_data"
    },
    {
     "data": {
      "text/plain": [
       "[2021-12-06 17:51:46.345216] INFO: 因子分析: FactorValue.process, 0.023s"
      ]
     },
     "metadata": {
      "is_log": true,
      "status": "INFO"
     },
     "output_type": "display_data"
    },
    {
     "data": {
      "text/plain": [
       "[2021-12-06 17:51:46.366454] INFO: 因子分析: process metrics, 6.394s"
      ]
     },
     "metadata": {
      "is_log": true,
      "status": "INFO"
     },
     "output_type": "display_data"
    },
    {
     "data": {
      "text/plain": [
       "[2021-12-06 17:51:46.370448] INFO: 因子分析: QuantileReturns.after_process"
      ]
     },
     "metadata": {
      "is_log": true,
      "status": "INFO"
     },
     "output_type": "display_data"
    },
    {
     "data": {
      "text/plain": [
       "[2021-12-06 17:51:46.372243] INFO: 因子分析: IC.after_process"
      ]
     },
     "metadata": {
      "is_log": true,
      "status": "INFO"
     },
     "output_type": "display_data"
    },
    {
     "data": {
      "text/plain": [
       "[2021-12-06 17:51:46.374096] INFO: 因子分析: BasicDescription.after_process"
      ]
     },
     "metadata": {
      "is_log": true,
      "status": "INFO"
     },
     "output_type": "display_data"
    },
    {
     "data": {
      "text/plain": [
       "[2021-12-06 17:51:46.375920] INFO: 因子分析: Industry.after_process"
      ]
     },
     "metadata": {
      "is_log": true,
      "status": "INFO"
     },
     "output_type": "display_data"
    },
    {
     "data": {
      "text/plain": [
       "[2021-12-06 17:51:46.377683] INFO: 因子分析: RebalanceOverlap.after_process"
      ]
     },
     "metadata": {
      "is_log": true,
      "status": "INFO"
     },
     "output_type": "display_data"
    },
    {
     "data": {
      "text/plain": [
       "[2021-12-06 17:51:46.379397] INFO: 因子分析: PBRatio.after_process"
      ]
     },
     "metadata": {
      "is_log": true,
      "status": "INFO"
     },
     "output_type": "display_data"
    },
    {
     "data": {
      "text/plain": [
       "[2021-12-06 17:51:46.382911] INFO: 因子分析: Turnover.after_process"
      ]
     },
     "metadata": {
      "is_log": true,
      "status": "INFO"
     },
     "output_type": "display_data"
    },
    {
     "data": {
      "text/plain": [
       "[2021-12-06 17:51:46.384419] INFO: 因子分析: Stocks.after_process"
      ]
     },
     "metadata": {
      "is_log": true,
      "status": "INFO"
     },
     "output_type": "display_data"
    },
    {
     "data": {
      "text/plain": [
       "[2021-12-06 17:51:46.385677] INFO: 因子分析: MarketCap.after_process"
      ]
     },
     "metadata": {
      "is_log": true,
      "status": "INFO"
     },
     "output_type": "display_data"
    },
    {
     "data": {
      "text/plain": [
       "[2021-12-06 17:51:46.387008] INFO: 因子分析: FactorValue.after_process"
      ]
     },
     "metadata": {
      "is_log": true,
      "status": "INFO"
     },
     "output_type": "display_data"
    },
    {
     "data": {
      "text/plain": [
       "[2021-12-06 17:51:46.388104] INFO: 因子分析: FactorPairwiseCorrelationMerged.after_process"
      ]
     },
     "metadata": {
      "is_log": true,
      "status": "INFO"
     },
     "output_type": "display_data"
    },
    {
     "data": {
      "text/plain": [
       "[2021-12-06 17:51:46.389439] INFO: 因子分析: QuantileReturns.before_merged_process"
      ]
     },
     "metadata": {
      "is_log": true,
      "status": "INFO"
     },
     "output_type": "display_data"
    },
    {
     "data": {
      "text/plain": [
       "[2021-12-06 17:51:46.390725] INFO: 因子分析: IC.before_merged_process"
      ]
     },
     "metadata": {
      "is_log": true,
      "status": "INFO"
     },
     "output_type": "display_data"
    },
    {
     "data": {
      "text/plain": [
       "[2021-12-06 17:51:46.391952] INFO: 因子分析: BasicDescription.before_merged_process"
      ]
     },
     "metadata": {
      "is_log": true,
      "status": "INFO"
     },
     "output_type": "display_data"
    },
    {
     "data": {
      "text/plain": [
       "[2021-12-06 17:51:46.393240] INFO: 因子分析: Industry.before_merged_process"
      ]
     },
     "metadata": {
      "is_log": true,
      "status": "INFO"
     },
     "output_type": "display_data"
    },
    {
     "data": {
      "text/plain": [
       "[2021-12-06 17:51:46.394459] INFO: 因子分析: RebalanceOverlap.before_merged_process"
      ]
     },
     "metadata": {
      "is_log": true,
      "status": "INFO"
     },
     "output_type": "display_data"
    },
    {
     "data": {
      "text/plain": [
       "[2021-12-06 17:51:46.395716] INFO: 因子分析: PBRatio.before_merged_process"
      ]
     },
     "metadata": {
      "is_log": true,
      "status": "INFO"
     },
     "output_type": "display_data"
    },
    {
     "data": {
      "text/plain": [
       "[2021-12-06 17:51:46.396991] INFO: 因子分析: Turnover.before_merged_process"
      ]
     },
     "metadata": {
      "is_log": true,
      "status": "INFO"
     },
     "output_type": "display_data"
    },
    {
     "data": {
      "text/plain": [
       "[2021-12-06 17:51:46.398341] INFO: 因子分析: Stocks.before_merged_process"
      ]
     },
     "metadata": {
      "is_log": true,
      "status": "INFO"
     },
     "output_type": "display_data"
    },
    {
     "data": {
      "text/plain": [
       "[2021-12-06 17:51:46.399504] INFO: 因子分析: MarketCap.before_merged_process"
      ]
     },
     "metadata": {
      "is_log": true,
      "status": "INFO"
     },
     "output_type": "display_data"
    },
    {
     "data": {
      "text/plain": [
       "[2021-12-06 17:51:46.400563] INFO: 因子分析: FactorValue.before_merged_process"
      ]
     },
     "metadata": {
      "is_log": true,
      "status": "INFO"
     },
     "output_type": "display_data"
    },
    {
     "data": {
      "text/plain": [
       "[2021-12-06 17:51:46.401600] INFO: 因子分析: FactorPairwiseCorrelationMerged.before_merged_process"
      ]
     },
     "metadata": {
      "is_log": true,
      "status": "INFO"
     },
     "output_type": "display_data"
    },
    {
     "data": {
      "text/plain": [
       "[2021-12-06 17:51:46.402825] INFO: 因子分析: QuantileReturns.after_merged_process"
      ]
     },
     "metadata": {
      "is_log": true,
      "status": "INFO"
     },
     "output_type": "display_data"
    },
    {
     "data": {
      "text/plain": [
       "[2021-12-06 17:51:46.403892] INFO: 因子分析: IC.after_merged_process"
      ]
     },
     "metadata": {
      "is_log": true,
      "status": "INFO"
     },
     "output_type": "display_data"
    },
    {
     "data": {
      "text/plain": [
       "[2021-12-06 17:51:46.404885] INFO: 因子分析: BasicDescription.after_merged_process"
      ]
     },
     "metadata": {
      "is_log": true,
      "status": "INFO"
     },
     "output_type": "display_data"
    },
    {
     "data": {
      "text/plain": [
       "[2021-12-06 17:51:46.405866] INFO: 因子分析: Industry.after_merged_process"
      ]
     },
     "metadata": {
      "is_log": true,
      "status": "INFO"
     },
     "output_type": "display_data"
    },
    {
     "data": {
      "text/plain": [
       "[2021-12-06 17:51:46.406853] INFO: 因子分析: RebalanceOverlap.after_merged_process"
      ]
     },
     "metadata": {
      "is_log": true,
      "status": "INFO"
     },
     "output_type": "display_data"
    },
    {
     "data": {
      "text/plain": [
       "[2021-12-06 17:51:46.407853] INFO: 因子分析: PBRatio.after_merged_process"
      ]
     },
     "metadata": {
      "is_log": true,
      "status": "INFO"
     },
     "output_type": "display_data"
    },
    {
     "data": {
      "text/plain": [
       "[2021-12-06 17:51:46.408834] INFO: 因子分析: Turnover.after_merged_process"
      ]
     },
     "metadata": {
      "is_log": true,
      "status": "INFO"
     },
     "output_type": "display_data"
    },
    {
     "data": {
      "text/plain": [
       "[2021-12-06 17:51:46.409879] INFO: 因子分析: Stocks.after_merged_process"
      ]
     },
     "metadata": {
      "is_log": true,
      "status": "INFO"
     },
     "output_type": "display_data"
    },
    {
     "data": {
      "text/plain": [
       "[2021-12-06 17:51:46.410863] INFO: 因子分析: MarketCap.after_merged_process"
      ]
     },
     "metadata": {
      "is_log": true,
      "status": "INFO"
     },
     "output_type": "display_data"
    },
    {
     "data": {
      "text/plain": [
       "[2021-12-06 17:51:46.412019] INFO: 因子分析: FactorValue.after_merged_process"
      ]
     },
     "metadata": {
      "is_log": true,
      "status": "INFO"
     },
     "output_type": "display_data"
    },
    {
     "data": {
      "text/plain": [
       "[2021-12-06 17:51:46.413064] INFO: 因子分析: FactorPairwiseCorrelationMerged.after_merged_process"
      ]
     },
     "metadata": {
      "is_log": true,
      "status": "INFO"
     },
     "output_type": "display_data"
    },
    {
     "data": {
      "text/plain": [
       "[2021-12-06 17:51:46.414687] INFO: 因子分析: batch_process ended, 131.500s"
      ]
     },
     "metadata": {
      "is_log": true,
      "status": "INFO"
     },
     "output_type": "display_data"
    },
    {
     "data": {
      "text/html": [
       "<div class=\"factorlens-container\">\n",
       "            <div style=\"display:flex\">\n",
       "                <div style=\"flex:1\">\n",
       "                    \n",
       "                    <h2 class=\"factorlens-title\">因子分析: factor_1</h2>\n",
       "                    \n",
       "                </div>\n",
       "                <div style=\"width:180px;\">\n",
       "                    \n",
       "                    <code style=\"display:none\" class=\"bq-template-label-inject\">\n",
       "                    {\n",
       "                        \"type\": \"factor-track\",\n",
       "                        \"data\": {\n",
       "                            \"exprs\": [\"-1 * correlation(sum((close_0 * volume_0), 2) / sum(volume_0, 2), volume_0, 2)\"],\n",
       "                            \"options\": {\"BacktestInterval\": [\"2020-01-01\", \"2021-12-31\"], \"Benchmark\": \"000300.HIX\", \"StockPool\": \"in_csi300_0\", \"UserDataMerge\": \"left\", \"DropSTStocks\": 1, \"DropPriceLimitStocks\": 1, \"DropNewStocks\": 60, \"DropSuspendedStocks\": 1, \"QuantileCount\": 5, \"CommissionRates\": 0.0016, \"Normalization\": 1, \"Neutralization\": \"industry,size\", \"DelayRebalanceDays\": 0, \"RebalancePeriod\": 2, \"RebalancePeriodsReturns\": 0, \"RebalancePrice\": \"close_0\", \"ReturnsCalculationMethod\": \"cumprod\", \"FactorCoverage\": 0.5, \"_HASH\": \"07b09bad0b29c856b52516cfd941c542\"}\n",
       "                        }\n",
       "                    }\n",
       "                    </code>\n",
       "                    \n",
       "                </div>\n",
       "            </div>\n",
       "            <div class=\"type_title_left\"><p>因子表现概览<i class=\"fa fa-question-circle-o\" title=\"按因子值升序排列将股票分组，1分位组对应最小因子分组。多空组合表示做多最小分位组，做空最大分位组。\"></i></p></div><table class=\"factor_table\">\n",
       "            <thead>\n",
       "                <tr>\n",
       "                    <th>&nbsp;</th>\n",
       "                    <th>累计收益</th>\n",
       "                    <th>近1年收益</th>\n",
       "                    <th>近3月收益</th>\n",
       "                    <th>近1月收益</th>\n",
       "                    <th>近1周收益</th>\n",
       "                    <th>昨日收益</th>\n",
       "                    <th>最大回撤</th>\n",
       "                    <th>盈亏比</th>\n",
       "                    <th>胜率</th>\n",
       "                    <th>夏普比率</th>\n",
       "                    <th>收益波动率</th>\n",
       "                </tr>\n",
       "            </thead>\n",
       "            <tbody>\n",
       "                \n",
       "                    <tr>\n",
       "                    <th>最小分位</th>\n",
       "                        \n",
       "                            <td><span class=\"pct down\">-9.76%</span></td>\n",
       "                        \n",
       "                            <td><span class=\"pct down\">-2.30%</span></td>\n",
       "                        \n",
       "                            <td><span class=\"pct up\">4.12%</span></td>\n",
       "                        \n",
       "                            <td><span class=\"pct up\">2.82%</span></td>\n",
       "                        \n",
       "                            <td><span class=\"pct down\">-0.06%</span></td>\n",
       "                        \n",
       "                            <td><span class=\"pct up\">0.18%</span></td>\n",
       "                        \n",
       "                            <td>22.64%</td>\n",
       "                        \n",
       "                            <td>0.94</td>\n",
       "                        \n",
       "                            <td>0.49</td>\n",
       "                        \n",
       "                            <td><span class=\"pct down\">-1.08</span></td>\n",
       "                        \n",
       "                            <td>7.87%</td>\n",
       "                        \n",
       "                    </tr>\n",
       "                \n",
       "                    <tr>\n",
       "                    <th>最大分位</th>\n",
       "                        \n",
       "                            <td><span class=\"pct down\">-14.71%</span></td>\n",
       "                        \n",
       "                            <td><span class=\"pct down\">-5.58%</span></td>\n",
       "                        \n",
       "                            <td><span class=\"pct down\">-3.09%</span></td>\n",
       "                        \n",
       "                            <td><span class=\"pct down\">-0.62%</span></td>\n",
       "                        \n",
       "                            <td><span class=\"pct down\">-1.27%</span></td>\n",
       "                        \n",
       "                            <td><span class=\"pct down\">-0.23%</span></td>\n",
       "                        \n",
       "                            <td>22.43%</td>\n",
       "                        \n",
       "                            <td>0.96</td>\n",
       "                        \n",
       "                            <td>0.47</td>\n",
       "                        \n",
       "                            <td><span class=\"pct down\">-1.53</span></td>\n",
       "                        \n",
       "                            <td>7.72%</td>\n",
       "                        \n",
       "                    </tr>\n",
       "                \n",
       "                    <tr>\n",
       "                    <th>多空组合</th>\n",
       "                        \n",
       "                            <td><span class=\"pct up\">2.72%</span></td>\n",
       "                        \n",
       "                            <td><span class=\"pct up\">1.65%</span></td>\n",
       "                        \n",
       "                            <td><span class=\"pct up\">3.63%</span></td>\n",
       "                        \n",
       "                            <td><span class=\"pct up\">1.71%</span></td>\n",
       "                        \n",
       "                            <td><span class=\"pct up\">0.61%</span></td>\n",
       "                        \n",
       "                            <td><span class=\"pct up\">0.21%</span></td>\n",
       "                        \n",
       "                            <td>4.84%</td>\n",
       "                        \n",
       "                            <td>1.06</td>\n",
       "                        \n",
       "                            <td>0.50</td>\n",
       "                        \n",
       "                            <td><span class=\"pct down\">-0.47</span></td>\n",
       "                        \n",
       "                            <td>3.96%</td>\n",
       "                        \n",
       "                    </tr>\n",
       "                \n",
       "            </tbody>\n",
       "        </table><div id=\"bigchart-7939e0bda86d4e5db9919caedffbd576\" class=\"bigchart\"></div><div class=\"bigchart-data\"><pre style=\"display:none\">bigcharts-data-start/{\"chart\":{\"height\":500,\"renderTo\":\"bigchart-7939e0bda86d4e5db9919caedffbd576\"},\"legend\":{\"enabled\":true},\"stock\":true,\"series\":[{\"name\":\"1\\u5206\\u4f4d\\u6570\",\"yAxis\":0,\"data\":[[1578009600000,1.0],[1578268800000,1.0093],[1578355200000,1.0108],[1578441600000,1.0009],[1578528000000,0.9972],[1578614400000,0.9946],[1578873600000,0.9956],[1578960000000,0.9935],[1579046400000,0.9934],[1579132800000,0.9968],[1579219200000,0.999],[1579478400000,1.0035],[1579564800000,1.0029],[1579651200000,1.0005],[1579737600000,1.0003],[1580688000000,1.0221],[1580774400000,1.0152],[1580860800000,1.0346],[1580947200000,1.0325],[1581033600000,1.0318],[1581292800000,1.0294],[1581379200000,1.0201],[1581465600000,1.0232],[1581552000000,1.0223],[1581638400000,1.0239],[1581897600000,1.0223],[1581984000000,1.0312],[1582070400000,1.0294],[1582156800000,1.0296],[1582243200000,1.0343],[1582502400000,1.034],[1582588800000,1.0347],[1582675200000,1.0378],[1582761600000,1.0344],[1582848000000,1.0253],[1583107200000,1.0328],[1583193600000,1.0329],[1583280000000,1.0372],[1583366400000,1.0358],[1583452800000,1.0429],[1583712000000,1.0431],[1583798400000,1.0376],[1583884800000,1.039],[1583971200000,1.0352],[1584057600000,1.0387],[1584316800000,1.045],[1584403200000,1.047],[1584489600000,1.0464],[1584576000000,1.0476],[1584662400000,1.0483],[1584921600000,1.038],[1585008000000,1.0332],[1585094400000,1.0324],[1585180800000,1.0325],[1585267200000,1.0321],[1585526400000,1.0305],[1585612800000,1.0324],[1585699200000,1.0306],[1585785600000,1.0336],[1585872000000,1.0344],[1586217600000,1.0311],[1586304000000,1.0325],[1586390400000,1.0285],[1586476800000,1.0252],[1586736000000,1.0237],[1586822400000,1.0289],[1586908800000,1.0319],[1586995200000,1.0338],[1587081600000,1.031],[1587340800000,1.032],[1587427200000,1.0371],[1587513600000,1.0334],[1587600000000,1.0355],[1587686400000,1.0324],[1587945600000,1.0232],[1588032000000,1.019],[1588118400000,1.0188],[1588204800000,1.0263],[1588723200000,1.0259],[1588809600000,1.0273],[1588896000000,1.0265],[1589155200000,1.0264],[1589241600000,1.0261],[1589328000000,1.0259],[1589414400000,1.0238],[1589500800000,1.0267],[1589760000000,1.0247],[1589846400000,1.0244],[1589932800000,1.0249],[1590019200000,1.0242],[1590105600000,1.028],[1590364800000,1.0256],[1590451200000,1.0285],[1590537600000,1.0341],[1590624000000,1.0347],[1590710400000,1.0387],[1590969600000,1.0375],[1591056000000,1.0392],[1591142400000,1.0343],[1591228800000,1.035],[1591315200000,1.0332],[1591574400000,1.0308],[1591660800000,1.0331],[1591747200000,1.0338],[1591833600000,1.0399],[1591920000000,1.0398],[1592179200000,1.045],[1592265600000,1.0413],[1592352000000,1.0414],[1592438400000,1.0385],[1592524800000,1.0314],[1592784000000,1.0315],[1592870400000,1.0284],[1592956800000,1.0295],[1593388800000,1.0262],[1593475200000,1.0261],[1593561600000,1.0253],[1593648000000,1.0195],[1593734400000,1.0127],[1593993600000,0.9983],[1594080000000,1.003],[1594166400000,0.9969],[1594252800000,0.9977],[1594339200000,1.0027],[1594598400000,1.0051],[1594684800000,1.0084],[1594771200000,0.9991],[1594857600000,1.002],[1594944000000,0.9963],[1595203200000,1.0013],[1595289600000,0.9997],[1595376000000,1.0039],[1595462400000,0.9988],[1595548800000,1.0022],[1595808000000,1.0141],[1595894400000,1.0067],[1595980800000,1.0081],[1596067200000,1.009],[1596153600000,1.0061],[1596412800000,1.0054],[1596499200000,1.0007],[1596585600000,1.0022],[1596672000000,1.0038],[1596758400000,1.0033],[1597017600000,1.0047],[1597104000000,1.0013],[1597190400000,0.9985],[1597276800000,0.9972],[1597363200000,0.997],[1597622400000,0.9979],[1597708800000,1.0007],[1597795200000,1.0021],[1597881600000,1.0021],[1597968000000,1.0046],[1598227200000,1.0071],[1598313600000,1.0048],[1598400000000,0.9939],[1598486400000,0.9933],[1598572800000,0.9913],[1598832000000,0.9924],[1598918400000,0.9919],[1599004800000,0.9917],[1599091200000,0.991],[1599177600000,0.9946],[1599436800000,0.9998],[1599523200000,0.9981],[1599609600000,0.9975],[1599696000000,0.9871],[1599782400000,0.9819],[1600041600000,0.9809],[1600128000000,0.9754],[1600214400000,0.9778],[1600300800000,0.978],[1600387200000,0.9778],[1600646400000,0.9769],[1600732800000,0.9744],[1600819200000,0.9757],[1600905600000,0.9741],[1600992000000,0.9693],[1601251200000,0.9654],[1601337600000,0.9673],[1601424000000,0.967],[1602201600000,0.9673],[1602460800000,0.9639],[1602547200000,0.963],[1602633600000,0.9615],[1602720000000,0.9588],[1602806400000,0.9587],[1603065600000,0.9548],[1603152000000,0.9582],[1603238400000,0.9532],[1603324800000,0.9508],[1603411200000,0.9491],[1603670400000,0.9474],[1603756800000,0.9456],[1603843200000,0.9473],[1603929600000,0.9436],[1604016000000,0.9402],[1604275200000,0.9336],[1604361600000,0.9356],[1604448000000,0.9288],[1604534400000,0.931],[1604620800000,0.9283],[1604880000000,0.9247],[1604966400000,0.9238],[1605052800000,0.9269],[1605139200000,0.9266],[1605225600000,0.9274],[1605484800000,0.9256],[1605571200000,0.9236],[1605657600000,0.9191],[1605744000000,0.9113],[1605830400000,0.9117],[1606089600000,0.9107],[1606176000000,0.9096],[1606262400000,0.9054],[1606348800000,0.9062],[1606435200000,0.9018],[1606694400000,0.9108],[1606780800000,0.9052],[1606867200000,0.908],[1606953600000,0.9063],[1607040000000,0.9044],[1607299200000,0.905],[1607385600000,0.905],[1607472000000,0.9065],[1607558400000,0.9039],[1607644800000,0.9079],[1607904000000,0.8988],[1607990400000,0.895],[1608076800000,0.8923],[1608163200000,0.8928],[1608249600000,0.8913],[1608508800000,0.8944],[1608595200000,0.8888],[1608681600000,0.8818],[1608768000000,0.8807],[1608854400000,0.8763],[1609113600000,0.8683],[1609200000000,0.8705],[1609286400000,0.8664],[1609372800000,0.8642],[1609718400000,0.8695],[1609804800000,0.8658],[1609891200000,0.8624],[1609977600000,0.8523],[1610064000000,0.8612],[1610323200000,0.8633],[1610409600000,0.8553],[1610496000000,0.8554],[1610582400000,0.8584],[1610668800000,0.8579],[1610928000000,0.8543],[1611014400000,0.8588],[1611100800000,0.8613],[1611187200000,0.8622],[1611273600000,0.8543],[1611532800000,0.8441],[1611619200000,0.8499],[1611705600000,0.8516],[1611792000000,0.8543],[1611878400000,0.8533],[1612137600000,0.8434],[1612224000000,0.8393],[1612310400000,0.8342],[1612396800000,0.8302],[1612483200000,0.8264],[1612742400000,0.8213],[1612828800000,0.815],[1612915200000,0.811],[1613606400000,0.8257],[1613692800000,0.8319],[1613952000000,0.8435],[1614038400000,0.8413],[1614124800000,0.8501],[1614211200000,0.8473],[1614297600000,0.853],[1614556800000,0.8534],[1614643200000,0.8557],[1614729600000,0.8516],[1614816000000,0.8542],[1614902400000,0.8661],[1615161600000,0.8771],[1615248000000,0.8837],[1615334400000,0.8757],[1615420800000,0.8716],[1615507200000,0.8663],[1615766400000,0.8663],[1615852800000,0.8641],[1615939200000,0.8663],[1616025600000,0.8628],[1616112000000,0.8656],[1616371200000,0.8664],[1616457600000,0.866],[1616544000000,0.8633],[1616630400000,0.8667],[1616716800000,0.8628],[1616976000000,0.8614],[1617062400000,0.8566],[1617148800000,0.8609],[1617235200000,0.8583],[1617321600000,0.8568],[1617667200000,0.8594],[1617753600000,0.8696],[1617840000000,0.8675],[1617926400000,0.8724],[1618185600000,0.8729],[1618272000000,0.8726],[1618358400000,0.8723],[1618444800000,0.8733],[1618531200000,0.8764],[1618790400000,0.873],[1618876800000,0.8732],[1618963200000,0.8715],[1619049600000,0.8732],[1619136000000,0.8659],[1619395200000,0.8706],[1619481600000,0.8617],[1619568000000,0.8628],[1619654400000,0.858],[1619740800000,0.8569],[1620259200000,0.8589],[1620345600000,0.8596],[1620604800000,0.8614],[1620691200000,0.8665],[1620777600000,0.8672],[1620864000000,0.8738],[1620950400000,0.8728],[1621209600000,0.8706],[1621296000000,0.8688],[1621382400000,0.8685],[1621468800000,0.8648],[1621555200000,0.8659],[1621814400000,0.8604],[1621900800000,0.8503],[1621987200000,0.8542],[1622073600000,0.8573],[1622160000000,0.8585],[1622419200000,0.8647],[1622505600000,0.8623],[1622592000000,0.8606],[1622678400000,0.8619],[1622764800000,0.8581],[1623024000000,0.8552],[1623110400000,0.8624],[1623196800000,0.8602],[1623283200000,0.8547],[1623369600000,0.8551],[1623715200000,0.8514],[1623801600000,0.8515],[1623888000000,0.8554],[1623974400000,0.8581],[1624233600000,0.8594],[1624320000000,0.8616],[1624406400000,0.8602],[1624492800000,0.8603],[1624579200000,0.8587],[1624838400000,0.8605],[1624924800000,0.8628],[1625011200000,0.8636],[1625097600000,0.8567],[1625184000000,0.8608],[1625443200000,0.8621],[1625529600000,0.8601],[1625616000000,0.8621],[1625702400000,0.8657],[1625788800000,0.8669],[1626048000000,0.8615],[1626134400000,0.8632],[1626220800000,0.8658],[1626307200000,0.857],[1626393600000,0.858],[1626652800000,0.8562],[1626739200000,0.8568],[1626825600000,0.8597],[1626912000000,0.863],[1626998400000,0.8592],[1627257600000,0.8678],[1627344000000,0.88],[1627430400000,0.8645],[1627516800000,0.8643],[1627603200000,0.8731],[1627862400000,0.8638],[1627948800000,0.865],[1628035200000,0.8669],[1628121600000,0.8663],[1628208000000,0.8719],[1628467200000,0.8765],[1628553600000,0.872],[1628640000000,0.8737],[1628726400000,0.8752],[1628812800000,0.8702],[1629072000000,0.8716],[1629158400000,0.8728],[1629244800000,0.8647],[1629331200000,0.8709],[1629417600000,0.8717],[1629676800000,0.8731],[1629763200000,0.8667],[1629849600000,0.8711],[1629936000000,0.8701],[1630022400000,0.8646],[1630281600000,0.865],[1630368000000,0.8723],[1630454400000,0.8699],[1630540800000,0.8697],[1630627200000,0.8698],[1630886400000,0.8746],[1630972800000,0.8753],[1631059200000,0.8829],[1631145600000,0.8847],[1631232000000,0.8769],[1631491200000,0.8789],[1631577600000,0.8787],[1631664000000,0.8789],[1631750400000,0.8771],[1631836800000,0.8773],[1632268800000,0.8843],[1632355200000,0.89],[1632441600000,0.8886],[1632700800000,0.8834],[1632787200000,0.8852],[1632873600000,0.8775],[1632960000000,0.8782],[1633651200000,0.8802],[1633910400000,0.8794],[1633996800000,0.8749],[1634083200000,0.8677],[1634169600000,0.8659],[1634256000000,0.8581],[1634515200000,0.8619],[1634601600000,0.8639],[1634688000000,0.8596],[1634774400000,0.8569],[1634860800000,0.8549],[1635120000000,0.857],[1635206400000,0.8611],[1635292800000,0.8616],[1635379200000,0.8597],[1635465600000,0.8632],[1635724800000,0.8708],[1635811200000,0.8683],[1635897600000,0.8776],[1635984000000,0.8701],[1636070400000,0.8657],[1636329600000,0.8688],[1636416000000,0.8739],[1636502400000,0.8818],[1636588800000,0.8798],[1636675200000,0.883],[1636934400000,0.8882],[1637020800000,0.8899],[1637107200000,0.8936],[1637193600000,0.8977],[1637280000000,0.8965],[1637539200000,0.8993],[1637625600000,0.8997],[1637712000000,0.9007],[1637798400000,0.9026],[1637884800000,0.9029],[1638144000000,0.8955],[1638230400000,0.9012],[1638316800000,0.905],[1638403200000,0.9007],[1638489600000,0.9024]],\"color\":\"#F08B55\"},{\"name\":\"2\\u5206\\u4f4d\\u6570\",\"yAxis\":0,\"data\":[[1578009600000,1.0],[1578268800000,1.0055],[1578355200000,0.9982],[1578441600000,1.0046],[1578528000000,1.0085],[1578614400000,1.0105],[1578873600000,1.0089],[1578960000000,1.0126],[1579046400000,1.0081],[1579132800000,1.0061],[1579219200000,1.0063],[1579478400000,1.0126],[1579564800000,1.0197],[1579651200000,1.0134],[1579737600000,1.0093],[1580688000000,1.0131],[1580774400000,1.0219],[1580860800000,1.0188],[1580947200000,1.0219],[1581033600000,1.0209],[1581292800000,1.0265],[1581379200000,1.0219],[1581465600000,1.0256],[1581552000000,1.0271],[1581638400000,1.0306],[1581897600000,1.0432],[1581984000000,1.0447],[1582070400000,1.0416],[1582156800000,1.0367],[1582243200000,1.0441],[1582502400000,1.0526],[1582588800000,1.0536],[1582675200000,1.0287],[1582761600000,1.0201],[1582848000000,1.0028],[1583107200000,1.0018],[1583193600000,1.0049],[1583280000000,1.0082],[1583366400000,1.0042],[1583452800000,1.0005],[1583712000000,1.0007],[1583798400000,1.0016],[1583884800000,1.0005],[1583971200000,1.0001],[1584057600000,1.0035],[1584316800000,1.0052],[1584403200000,1.012],[1584489600000,1.0156],[1584576000000,1.0256],[1584662400000,1.024],[1584921600000,1.0259],[1585008000000,1.0219],[1585094400000,1.0207],[1585180800000,1.019],[1585267200000,1.0207],[1585526400000,1.0194],[1585612800000,1.0174],[1585699200000,1.0134],[1585785600000,1.0221],[1585872000000,1.0185],[1586217600000,1.0199],[1586304000000,1.0244],[1586390400000,1.028],[1586476800000,1.0185],[1586736000000,1.0209],[1586822400000,1.0155],[1586908800000,1.014],[1586995200000,1.0152],[1587081600000,1.004],[1587340800000,1.001],[1587427200000,1.0009],[1587513600000,0.9955],[1587600000000,0.994],[1587686400000,0.9931],[1587945600000,0.9955],[1588032000000,0.9846],[1588118400000,0.9885],[1588204800000,1.0005],[1588723200000,1.0014],[1588809600000,0.9998],[1588896000000,1.0016],[1589155200000,1.0022],[1589241600000,0.9978],[1589328000000,0.9961],[1589414400000,0.9986],[1589500800000,1.0035],[1589760000000,0.9929],[1589846400000,0.9937],[1589932800000,0.9946],[1590019200000,0.9928],[1590105600000,0.9941],[1590364800000,0.9906],[1590451200000,0.9935],[1590537600000,0.9932],[1590624000000,0.9888],[1590710400000,0.9896],[1590969600000,0.9891],[1591056000000,0.9932],[1591142400000,0.9933],[1591228800000,0.9916],[1591315200000,0.9898],[1591574400000,0.9914],[1591660800000,0.9883],[1591747200000,0.991],[1591833600000,0.9973],[1591920000000,0.9946],[1592179200000,0.9985],[1592265600000,1.004],[1592352000000,1.0042],[1592438400000,1.0047],[1592524800000,1.0044],[1592784000000,1.0068],[1592870400000,0.9981],[1592956800000,0.998],[1593388800000,0.9974],[1593475200000,0.9984],[1593561600000,0.9915],[1593648000000,1.0012],[1593734400000,0.997],[1593993600000,0.9969],[1594080000000,0.9785],[1594166400000,0.985],[1594252800000,0.9794],[1594339200000,0.9713],[1594598400000,0.9632],[1594684800000,0.9637],[1594771200000,0.9641],[1594857600000,0.9716],[1594944000000,0.9707],[1595203200000,0.9798],[1595289600000,0.9749],[1595376000000,0.9729],[1595462400000,0.968],[1595548800000,0.9683],[1595808000000,0.9657],[1595894400000,0.9649],[1595980800000,0.9635],[1596067200000,0.9621],[1596153600000,0.9587],[1596412800000,0.9597],[1596499200000,0.9609],[1596585600000,0.9577],[1596672000000,0.9676],[1596758400000,0.9593],[1597017600000,0.9634],[1597104000000,0.9576],[1597190400000,0.9616],[1597276800000,0.9643],[1597363200000,0.9611],[1597622400000,0.9614],[1597708800000,0.9612],[1597795200000,0.9621],[1597881600000,0.9627],[1597968000000,0.9602],[1598227200000,0.9581],[1598313600000,0.9507],[1598400000000,0.9535],[1598486400000,0.9508],[1598572800000,0.9456],[1598832000000,0.9454],[1598918400000,0.945],[1599004800000,0.9413],[1599091200000,0.9429],[1599177600000,0.9469],[1599436800000,0.9456],[1599523200000,0.946],[1599609600000,0.9463],[1599696000000,0.9399],[1599782400000,0.9407],[1600041600000,0.9395],[1600128000000,0.9384],[1600214400000,0.943],[1600300800000,0.9444],[1600387200000,0.9406],[1600646400000,0.9483],[1600732800000,0.9437],[1600819200000,0.943],[1600905600000,0.9431],[1600992000000,0.9446],[1601251200000,0.9425],[1601337600000,0.9437],[1601424000000,0.9395],[1602201600000,0.9367],[1602460800000,0.9321],[1602547200000,0.9285],[1602633600000,0.9256],[1602720000000,0.9266],[1602806400000,0.9241],[1603065600000,0.9243],[1603152000000,0.9215],[1603238400000,0.9194],[1603324800000,0.9178],[1603411200000,0.9199],[1603670400000,0.9256],[1603756800000,0.9237],[1603843200000,0.9198],[1603929600000,0.9122],[1604016000000,0.9181],[1604275200000,0.9198],[1604361600000,0.9173],[1604448000000,0.9122],[1604534400000,0.9111],[1604620800000,0.9146],[1604880000000,0.923],[1604966400000,0.9225],[1605052800000,0.9266],[1605139200000,0.927],[1605225600000,0.9333],[1605484800000,0.9373],[1605571200000,0.94],[1605657600000,0.9469],[1605744000000,0.9466],[1605830400000,0.9538],[1606089600000,0.9473],[1606176000000,0.9501],[1606262400000,0.9494],[1606348800000,0.9449],[1606435200000,0.9443],[1606694400000,0.9489],[1606780800000,0.9455],[1606867200000,0.9469],[1606953600000,0.9525],[1607040000000,0.9505],[1607299200000,0.9472],[1607385600000,0.9462],[1607472000000,0.9437],[1607558400000,0.9459],[1607644800000,0.9514],[1607904000000,0.9517],[1607990400000,0.9567],[1608076800000,0.9494],[1608163200000,0.9491],[1608249600000,0.9491],[1608508800000,0.9495],[1608595200000,0.9508],[1608681600000,0.9488],[1608768000000,0.949],[1608854400000,0.9536],[1609113600000,0.9458],[1609200000000,0.9494],[1609286400000,0.9396],[1609372800000,0.9393],[1609718400000,0.9306],[1609804800000,0.9246],[1609891200000,0.9148],[1609977600000,0.9028],[1610064000000,0.8965],[1610323200000,0.895],[1610409600000,0.8954],[1610496000000,0.8949],[1610582400000,0.9058],[1610668800000,0.9002],[1610928000000,0.9063],[1611014400000,0.9014],[1611100800000,0.8953],[1611187200000,0.8882],[1611273600000,0.8857],[1611532800000,0.8724],[1611619200000,0.8755],[1611705600000,0.8767],[1611792000000,0.8745],[1611878400000,0.8779],[1612137600000,0.8856],[1612224000000,0.886],[1612310400000,0.8843],[1612396800000,0.8672],[1612483200000,0.8645],[1612742400000,0.8703],[1612828800000,0.8706],[1612915200000,0.8579],[1613606400000,0.8554],[1613692800000,0.8572],[1613952000000,0.8594],[1614038400000,0.8571],[1614124800000,0.8596],[1614211200000,0.855],[1614297600000,0.8555],[1614556800000,0.8572],[1614643200000,0.86],[1614729600000,0.8519],[1614816000000,0.8548],[1614902400000,0.8587],[1615161600000,0.8616],[1615248000000,0.8562],[1615334400000,0.8457],[1615420800000,0.8413],[1615507200000,0.8447],[1615766400000,0.8519],[1615852800000,0.8504],[1615939200000,0.8448],[1616025600000,0.8411],[1616112000000,0.8513],[1616371200000,0.8526],[1616457600000,0.8527],[1616544000000,0.8654],[1616630400000,0.8658],[1616716800000,0.8626],[1616976000000,0.8638],[1617062400000,0.8565],[1617148800000,0.8594],[1617235200000,0.8523],[1617321600000,0.8471],[1617667200000,0.8491],[1617753600000,0.8537],[1617840000000,0.854],[1617926400000,0.8592],[1618185600000,0.8609],[1618272000000,0.8558],[1618358400000,0.8562],[1618444800000,0.8618],[1618531200000,0.8614],[1618790400000,0.8542],[1618876800000,0.8502],[1618963200000,0.848],[1619049600000,0.8498],[1619136000000,0.8426],[1619395200000,0.8402],[1619481600000,0.8422],[1619568000000,0.8433],[1619654400000,0.8424],[1619740800000,0.8388],[1620259200000,0.8429],[1620345600000,0.8527],[1620604800000,0.8503],[1620691200000,0.8438],[1620777600000,0.8403],[1620864000000,0.8391],[1620950400000,0.8321],[1621209600000,0.8281],[1621296000000,0.8293],[1621382400000,0.8248],[1621468800000,0.8254],[1621555200000,0.8228],[1621814400000,0.8301],[1621900800000,0.8253],[1621987200000,0.8246],[1622073600000,0.826],[1622160000000,0.8219],[1622419200000,0.8182],[1622505600000,0.8141],[1622592000000,0.8134],[1622678400000,0.813],[1622764800000,0.8142],[1623024000000,0.8206],[1623110400000,0.8184],[1623196800000,0.8177],[1623283200000,0.8164],[1623369600000,0.8142],[1623715200000,0.8127],[1623801600000,0.8208],[1623888000000,0.8159],[1623974400000,0.8138],[1624233600000,0.8196],[1624320000000,0.8129],[1624406400000,0.8147],[1624492800000,0.8116],[1624579200000,0.8085],[1624838400000,0.8078],[1624924800000,0.8085],[1625011200000,0.8102],[1625097600000,0.8046],[1625184000000,0.814],[1625443200000,0.819],[1625529600000,0.8245],[1625616000000,0.8197],[1625702400000,0.8281],[1625788800000,0.8233],[1626048000000,0.8202],[1626134400000,0.8171],[1626220800000,0.8179],[1626307200000,0.8113],[1626393600000,0.8119],[1626652800000,0.8065],[1626739200000,0.8088],[1626825600000,0.8052],[1626912000000,0.8079],[1626998400000,0.8074],[1627257600000,0.8154],[1627344000000,0.8256],[1627430400000,0.8103],[1627516800000,0.8045],[1627603200000,0.8101],[1627862400000,0.8104],[1627948800000,0.8101],[1628035200000,0.8039],[1628121600000,0.8034],[1628208000000,0.7986],[1628467200000,0.8064],[1628553600000,0.8048],[1628640000000,0.8005],[1628726400000,0.8042],[1628812800000,0.8008],[1629072000000,0.807],[1629158400000,0.8138],[1629244800000,0.8264],[1629331200000,0.8213],[1629417600000,0.8285],[1629676800000,0.8325],[1629763200000,0.8306],[1629849600000,0.8293],[1629936000000,0.8346],[1630022400000,0.8296],[1630281600000,0.8259],[1630368000000,0.8302],[1630454400000,0.834],[1630540800000,0.8333],[1630627200000,0.8322],[1630886400000,0.8291],[1630972800000,0.8272],[1631059200000,0.8268],[1631145600000,0.827],[1631232000000,0.8217],[1631491200000,0.8281],[1631577600000,0.8202],[1631664000000,0.8237],[1631750400000,0.8261],[1631836800000,0.8297],[1632268800000,0.8311],[1632355200000,0.8352],[1632441600000,0.828],[1632700800000,0.8138],[1632787200000,0.8178],[1632873600000,0.8094],[1632960000000,0.807],[1633651200000,0.8009],[1633910400000,0.7995],[1633996800000,0.7956],[1634083200000,0.7924],[1634169600000,0.7973],[1634256000000,0.7969],[1634515200000,0.8005],[1634601600000,0.7963],[1634688000000,0.7927],[1634774400000,0.7905],[1634860800000,0.7858],[1635120000000,0.7869],[1635206400000,0.7836],[1635292800000,0.7813],[1635379200000,0.775],[1635465600000,0.7774],[1635724800000,0.78],[1635811200000,0.7855],[1635897600000,0.7849],[1635984000000,0.7877],[1636070400000,0.7864],[1636329600000,0.7833],[1636416000000,0.7854],[1636502400000,0.785],[1636588800000,0.778],[1636675200000,0.7776],[1636934400000,0.783],[1637020800000,0.7798],[1637107200000,0.7802],[1637193600000,0.7751],[1637280000000,0.7744],[1637539200000,0.7723],[1637625600000,0.774],[1637712000000,0.77],[1637798400000,0.7676],[1637884800000,0.7649],[1638144000000,0.7658],[1638230400000,0.7664],[1638316800000,0.764],[1638403200000,0.7629],[1638489600000,0.7586]],\"color\":\"#648FD5\"},{\"name\":\"3\\u5206\\u4f4d\\u6570\",\"yAxis\":0,\"data\":[[1578009600000,1.0],[1578268800000,1.0032],[1578355200000,1.0072],[1578441600000,1.0062],[1578528000000,1.0077],[1578614400000,1.0062],[1578873600000,1.003],[1578960000000,1.0038],[1579046400000,1.0049],[1579132800000,1.0045],[1579219200000,1.0025],[1579478400000,1.0015],[1579564800000,1.004],[1579651200000,1.0075],[1579737600000,1.0087],[1580688000000,1.0266],[1580774400000,1.0354],[1580860800000,1.0288],[1580947200000,1.0259],[1581033600000,1.029],[1581292800000,1.0341],[1581379200000,1.0291],[1581465600000,1.0275],[1581552000000,1.0233],[1581638400000,1.0192],[1581897600000,1.017],[1581984000000,1.0168],[1582070400000,1.0192],[1582156800000,1.0111],[1582243200000,1.0076],[1582502400000,1.0047],[1582588800000,1.0053],[1582675200000,1.0127],[1582761600000,1.0121],[1582848000000,1.0101],[1583107200000,1.0106],[1583193600000,1.0099],[1583280000000,1.0132],[1583366400000,1.0002],[1583452800000,0.9976],[1583712000000,0.9985],[1583798400000,0.9983],[1583884800000,1.0029],[1583971200000,1.01],[1584057600000,1.0099],[1584316800000,1.0158],[1584403200000,1.0125],[1584489600000,1.0106],[1584576000000,1.0209],[1584662400000,1.0139],[1584921600000,1.0146],[1585008000000,1.0044],[1585094400000,1.0023],[1585180800000,0.9952],[1585267200000,0.9983],[1585526400000,0.9977],[1585612800000,0.9871],[1585699200000,0.9796],[1585785600000,0.9772],[1585872000000,0.9769],[1586217600000,0.9793],[1586304000000,0.9809],[1586390400000,0.9845],[1586476800000,0.9772],[1586736000000,0.9781],[1586822400000,0.9773],[1586908800000,0.977],[1586995200000,0.9803],[1587081600000,0.9761],[1587340800000,0.9803],[1587427200000,0.9827],[1587513600000,0.9808],[1587600000000,0.9762],[1587686400000,0.9754],[1587945600000,0.9664],[1588032000000,0.9587],[1588118400000,0.9575],[1588204800000,0.961],[1588723200000,0.9772],[1588809600000,0.9767],[1588896000000,0.9784],[1589155200000,0.9806],[1589241600000,0.9773],[1589328000000,0.9797],[1589414400000,0.978],[1589500800000,0.9789],[1589760000000,0.9804],[1589846400000,0.9754],[1589932800000,0.97],[1590019200000,0.9651],[1590105600000,0.9721],[1590364800000,0.9673],[1590451200000,0.9705],[1590537600000,0.9696],[1590624000000,0.9704],[1590710400000,0.9679],[1590969600000,0.9674],[1591056000000,0.9587],[1591142400000,0.9548],[1591228800000,0.9542],[1591315200000,0.9539],[1591574400000,0.9481],[1591660800000,0.9462],[1591747200000,0.9426],[1591833600000,0.9465],[1591920000000,0.9458],[1592179200000,0.9458],[1592265600000,0.9449],[1592352000000,0.9455],[1592438400000,0.9469],[1592524800000,0.948],[1592784000000,0.9459],[1592870400000,0.9479],[1592956800000,0.9449],[1593388800000,0.9443],[1593475200000,0.9407],[1593561600000,0.9348],[1593648000000,0.9378],[1593734400000,0.9555],[1593993600000,0.9636],[1594080000000,0.953],[1594166400000,0.9487],[1594252800000,0.955],[1594339200000,0.961],[1594598400000,0.9623],[1594684800000,0.9654],[1594771200000,0.9613],[1594857600000,0.978],[1594944000000,0.9794],[1595203200000,0.981],[1595289600000,0.974],[1595376000000,0.9698],[1595462400000,0.9791],[1595548800000,0.9795],[1595808000000,0.9711],[1595894400000,0.9699],[1595980800000,0.9616],[1596067200000,0.96],[1596153600000,0.9628],[1596412800000,0.9642],[1596499200000,0.9581],[1596585600000,0.9568],[1596672000000,0.9543],[1596758400000,0.9556],[1597017600000,0.9557],[1597104000000,0.9513],[1597190400000,0.9522],[1597276800000,0.9525],[1597363200000,0.9531],[1597622400000,0.9503],[1597708800000,0.9428],[1597795200000,0.9436],[1597881600000,0.9384],[1597968000000,0.9391],[1598227200000,0.9319],[1598313600000,0.9228],[1598400000000,0.9155],[1598486400000,0.9248],[1598572800000,0.9204],[1598832000000,0.9184],[1598918400000,0.9228],[1599004800000,0.9202],[1599091200000,0.9212],[1599177600000,0.9203],[1599436800000,0.9173],[1599523200000,0.9187],[1599609600000,0.9125],[1599696000000,0.9066],[1599782400000,0.9069],[1600041600000,0.9045],[1600128000000,0.9069],[1600214400000,0.918],[1600300800000,0.9243],[1600387200000,0.9164],[1600646400000,0.9204],[1600732800000,0.9254],[1600819200000,0.9219],[1600905600000,0.9203],[1600992000000,0.9165],[1601251200000,0.9136],[1601337600000,0.9125],[1601424000000,0.9075],[1602201600000,0.9039],[1602460800000,0.905],[1602547200000,0.8999],[1602633600000,0.8974],[1602720000000,0.8965],[1602806400000,0.9003],[1603065600000,0.906],[1603152000000,0.8991],[1603238400000,0.8998],[1603324800000,0.9009],[1603411200000,0.9084],[1603670400000,0.9076],[1603756800000,0.9172],[1603843200000,0.9128],[1603929600000,0.9104],[1604016000000,0.9086],[1604275200000,0.9028],[1604361600000,0.9059],[1604448000000,0.9018],[1604534400000,0.9054],[1604620800000,0.9079],[1604880000000,0.9061],[1604966400000,0.9012],[1605052800000,0.8896],[1605139200000,0.8911],[1605225600000,0.8972],[1605484800000,0.8989],[1605571200000,0.9005],[1605657600000,0.8958],[1605744000000,0.8961],[1605830400000,0.8917],[1606089600000,0.8907],[1606176000000,0.8997],[1606262400000,0.901],[1606348800000,0.8997],[1606435200000,0.8973],[1606694400000,0.8984],[1606780800000,0.8997],[1606867200000,0.8965],[1606953600000,0.8916],[1607040000000,0.8895],[1607299200000,0.8909],[1607385600000,0.8927],[1607472000000,0.8824],[1607558400000,0.8806],[1607644800000,0.8767],[1607904000000,0.8738],[1607990400000,0.8725],[1608076800000,0.869],[1608163200000,0.8668],[1608249600000,0.8667],[1608508800000,0.862],[1608595200000,0.852],[1608681600000,0.8583],[1608768000000,0.8512],[1608854400000,0.8516],[1609113600000,0.8479],[1609200000000,0.846],[1609286400000,0.8434],[1609372800000,0.8423],[1609718400000,0.8363],[1609804800000,0.8194],[1609891200000,0.8056],[1609977600000,0.7911],[1610064000000,0.7974],[1610323200000,0.788],[1610409600000,0.7784],[1610496000000,0.7877],[1610582400000,0.8019],[1610668800000,0.7924],[1610928000000,0.7914],[1611014400000,0.8021],[1611100800000,0.7955],[1611187200000,0.7853],[1611273600000,0.7798],[1611532800000,0.7735],[1611619200000,0.7771],[1611705600000,0.7743],[1611792000000,0.7809],[1611878400000,0.7751],[1612137600000,0.7748],[1612224000000,0.7687],[1612310400000,0.7616],[1612396800000,0.7591],[1612483200000,0.7505],[1612742400000,0.7415],[1612828800000,0.7387],[1612915200000,0.7295],[1613606400000,0.7388],[1613692800000,0.7513],[1613952000000,0.767],[1614038400000,0.764],[1614124800000,0.7769],[1614211200000,0.7669],[1614297600000,0.7672],[1614556800000,0.769],[1614643200000,0.7717],[1614729600000,0.7766],[1614816000000,0.7913],[1614902400000,0.7931],[1615161600000,0.7976],[1615248000000,0.7997],[1615334400000,0.7905],[1615420800000,0.787],[1615507200000,0.7937],[1615766400000,0.8063],[1615852800000,0.8062],[1615939200000,0.8033],[1616025600000,0.8031],[1616112000000,0.8075],[1616371200000,0.8148],[1616457600000,0.8125],[1616544000000,0.8103],[1616630400000,0.8107],[1616716800000,0.8112],[1616976000000,0.811],[1617062400000,0.8089],[1617148800000,0.8088],[1617235200000,0.8078],[1617321600000,0.8018],[1617667200000,0.8044],[1617753600000,0.806],[1617840000000,0.803],[1617926400000,0.8076],[1618185600000,0.8095],[1618272000000,0.8045],[1618358400000,0.8117],[1618444800000,0.8159],[1618531200000,0.821],[1618790400000,0.8209],[1618876800000,0.8183],[1618963200000,0.8158],[1619049600000,0.8175],[1619136000000,0.8063],[1619395200000,0.8086],[1619481600000,0.8016],[1619568000000,0.7978],[1619654400000,0.7997],[1619740800000,0.7953],[1620259200000,0.8077],[1620345600000,0.8147],[1620604800000,0.81],[1620691200000,0.8067],[1620777600000,0.8094],[1620864000000,0.8043],[1620950400000,0.8061],[1621209600000,0.7951],[1621296000000,0.7989],[1621382400000,0.8032],[1621468800000,0.8031],[1621555200000,0.8057],[1621814400000,0.8052],[1621900800000,0.7991],[1621987200000,0.7988],[1622073600000,0.7985],[1622160000000,0.7994],[1622419200000,0.8024],[1622505600000,0.8034],[1622592000000,0.8087],[1622678400000,0.8106],[1622764800000,0.8092],[1623024000000,0.8141],[1623110400000,0.8186],[1623196800000,0.8133],[1623283200000,0.8125],[1623369600000,0.8088],[1623715200000,0.8081],[1623801600000,0.8167],[1623888000000,0.8129],[1623974400000,0.8098],[1624233600000,0.8103],[1624320000000,0.8093],[1624406400000,0.8102],[1624492800000,0.8052],[1624579200000,0.8038],[1624838400000,0.8039],[1624924800000,0.8018],[1625011200000,0.7989],[1625097600000,0.7947],[1625184000000,0.8034],[1625443200000,0.8],[1625529600000,0.7996],[1625616000000,0.7967],[1625702400000,0.792],[1625788800000,0.7967],[1626048000000,0.7888],[1626134400000,0.7912],[1626220800000,0.7931],[1626307200000,0.7906],[1626393600000,0.7962],[1626652800000,0.7914],[1626739200000,0.7889],[1626825600000,0.7837],[1626912000000,0.7847],[1626998400000,0.7966],[1627257600000,0.8003],[1627344000000,0.8009],[1627430400000,0.7957],[1627516800000,0.7997],[1627603200000,0.7992],[1627862400000,0.8005],[1627948800000,0.7972],[1628035200000,0.7868],[1628121600000,0.7801],[1628208000000,0.7827],[1628467200000,0.7768],[1628553600000,0.7771],[1628640000000,0.785],[1628726400000,0.7852],[1628812800000,0.7925],[1629072000000,0.7919],[1629158400000,0.7917],[1629244800000,0.7908],[1629331200000,0.7891],[1629417600000,0.7945],[1629676800000,0.7929],[1629763200000,0.7903],[1629849600000,0.7929],[1629936000000,0.8014],[1630022400000,0.7984],[1630281600000,0.7936],[1630368000000,0.8054],[1630454400000,0.8119],[1630540800000,0.8169],[1630627200000,0.8155],[1630886400000,0.8096],[1630972800000,0.8036],[1631059200000,0.8063],[1631145600000,0.7999],[1631232000000,0.7986],[1631491200000,0.7986],[1631577600000,0.7932],[1631664000000,0.7958],[1631750400000,0.7927],[1631836800000,0.7892],[1632268800000,0.7852],[1632355200000,0.7857],[1632441600000,0.7803],[1632700800000,0.7701],[1632787200000,0.7733],[1632873600000,0.7678],[1632960000000,0.7711],[1633651200000,0.7719],[1633910400000,0.7704],[1633996800000,0.769],[1634083200000,0.7655],[1634169600000,0.7703],[1634256000000,0.7671],[1634515200000,0.7737],[1634601600000,0.773],[1634688000000,0.7695],[1634774400000,0.7672],[1634860800000,0.7604],[1635120000000,0.7598],[1635206400000,0.7601],[1635292800000,0.7606],[1635379200000,0.7614],[1635465600000,0.7617],[1635724800000,0.7606],[1635811200000,0.7571],[1635897600000,0.7597],[1635984000000,0.7545],[1636070400000,0.7487],[1636329600000,0.7508],[1636416000000,0.7483],[1636502400000,0.7478],[1636588800000,0.7474],[1636675200000,0.7459],[1636934400000,0.7455],[1637020800000,0.7367],[1637107200000,0.7391],[1637193600000,0.7387],[1637280000000,0.7401],[1637539200000,0.7345],[1637625600000,0.7341],[1637712000000,0.731],[1637798400000,0.73],[1637884800000,0.7307],[1638144000000,0.7281],[1638230400000,0.7308],[1638316800000,0.7305],[1638403200000,0.7317],[1638489600000,0.7326]],\"color\":\"#E06681\"},{\"name\":\"4\\u5206\\u4f4d\\u6570\",\"yAxis\":0,\"data\":[[1578009600000,1.0],[1578268800000,0.9986],[1578355200000,1.002],[1578441600000,1.0002],[1578528000000,0.9983],[1578614400000,0.9966],[1578873600000,0.9943],[1578960000000,0.9941],[1579046400000,0.997],[1579132800000,0.9988],[1579219200000,1.0012],[1579478400000,0.9969],[1579564800000,0.992],[1579651200000,0.9948],[1579737600000,0.995],[1580688000000,1.0219],[1580774400000,1.0313],[1580860800000,1.0274],[1580947200000,1.0292],[1581033600000,1.0365],[1581292800000,1.0422],[1581379200000,1.0363],[1581465600000,1.0332],[1581552000000,1.0363],[1581638400000,1.0309],[1581897600000,1.0364],[1581984000000,1.0345],[1582070400000,1.0348],[1582156800000,1.0371],[1582243200000,1.0406],[1582502400000,1.0328],[1582588800000,1.0264],[1582675200000,1.0467],[1582761600000,1.0476],[1582848000000,1.0617],[1583107200000,1.063],[1583193600000,1.0623],[1583280000000,1.061],[1583366400000,1.0593],[1583452800000,1.0669],[1583712000000,1.0685],[1583798400000,1.0611],[1583884800000,1.0642],[1583971200000,1.0591],[1584057600000,1.0596],[1584316800000,1.0615],[1584403200000,1.0631],[1584489600000,1.0635],[1584576000000,1.0642],[1584662400000,1.0592],[1584921600000,1.052],[1585008000000,1.0484],[1585094400000,1.0494],[1585180800000,1.0454],[1585267200000,1.0402],[1585526400000,1.033],[1585612800000,1.0319],[1585699200000,1.037],[1585785600000,1.0333],[1585872000000,1.0308],[1586217600000,1.036],[1586304000000,1.0394],[1586390400000,1.042],[1586476800000,1.032],[1586736000000,1.0276],[1586822400000,1.0335],[1586908800000,1.0335],[1586995200000,1.0339],[1587081600000,1.0377],[1587340800000,1.0346],[1587427200000,1.029],[1587513600000,1.0268],[1587600000000,1.0248],[1587686400000,1.0169],[1587945600000,1.0108],[1588032000000,1.0052],[1588118400000,1.0029],[1588204800000,1.0056],[1588723200000,0.9985],[1588809600000,0.9983],[1588896000000,0.997],[1589155200000,0.9958],[1589241600000,0.9946],[1589328000000,0.9975],[1589414400000,0.9971],[1589500800000,0.9963],[1589760000000,0.9956],[1589846400000,0.9957],[1589932800000,0.9933],[1590019200000,0.9921],[1590105600000,0.9942],[1590364800000,0.9892],[1590451200000,0.9859],[1590537600000,0.9906],[1590624000000,0.9892],[1590710400000,0.9918],[1590969600000,0.9849],[1591056000000,0.9832],[1591142400000,0.9809],[1591228800000,0.9794],[1591315200000,0.9844],[1591574400000,0.9841],[1591660800000,0.9871],[1591747200000,0.9835],[1591833600000,0.9855],[1591920000000,0.9847],[1592179200000,0.9842],[1592265600000,0.9837],[1592352000000,0.9809],[1592438400000,0.9786],[1592524800000,0.977],[1592784000000,0.9755],[1592870400000,0.9759],[1592956800000,0.9731],[1593388800000,0.9731],[1593475200000,0.9784],[1593561600000,0.9766],[1593648000000,0.9745],[1593734400000,0.9686],[1593993600000,0.965],[1594080000000,0.9604],[1594166400000,0.9605],[1594252800000,0.9677],[1594339200000,0.9802],[1594598400000,0.9881],[1594684800000,0.9845],[1594771200000,0.9788],[1594857600000,0.9787],[1594944000000,0.9738],[1595203200000,0.971],[1595289600000,0.9831],[1595376000000,0.9854],[1595462400000,0.9809],[1595548800000,0.9857],[1595808000000,0.9811],[1595894400000,0.9771],[1595980800000,0.9802],[1596067200000,0.9829],[1596153600000,0.9817],[1596412800000,0.9861],[1596499200000,0.9847],[1596585600000,0.9878],[1596672000000,0.9918],[1596758400000,0.9908],[1597017600000,0.9899],[1597104000000,0.9913],[1597190400000,0.9898],[1597276800000,0.9905],[1597363200000,0.9869],[1597622400000,0.9819],[1597708800000,0.9798],[1597795200000,0.9895],[1597881600000,0.992],[1597968000000,0.9914],[1598227200000,0.9909],[1598313600000,0.9873],[1598400000000,0.9797],[1598486400000,0.9804],[1598572800000,0.9763],[1598832000000,0.9771],[1598918400000,0.9717],[1599004800000,0.9723],[1599091200000,0.9707],[1599177600000,0.9733],[1599436800000,0.98],[1599523200000,0.9782],[1599609600000,0.9874],[1599696000000,0.9824],[1599782400000,0.9742],[1600041600000,0.9733],[1600128000000,0.9721],[1600214400000,0.9697],[1600300800000,0.9682],[1600387200000,0.9739],[1600646400000,0.9775],[1600732800000,0.9715],[1600819200000,0.9695],[1600905600000,0.9689],[1600992000000,0.9667],[1601251200000,0.958],[1601337600000,0.9655],[1601424000000,0.9662],[1602201600000,0.9695],[1602460800000,0.9612],[1602547200000,0.9624],[1602633600000,0.9643],[1602720000000,0.9596],[1602806400000,0.957],[1603065600000,0.9545],[1603152000000,0.9556],[1603238400000,0.9515],[1603324800000,0.9518],[1603411200000,0.9482],[1603670400000,0.9502],[1603756800000,0.9479],[1603843200000,0.9463],[1603929600000,0.943],[1604016000000,0.9442],[1604275200000,0.9381],[1604361600000,0.9473],[1604448000000,0.9419],[1604534400000,0.9389],[1604620800000,0.9367],[1604880000000,0.9344],[1604966400000,0.9361],[1605052800000,0.9441],[1605139200000,0.9421],[1605225600000,0.9442],[1605484800000,0.949],[1605571200000,0.9459],[1605657600000,0.9473],[1605744000000,0.9412],[1605830400000,0.9414],[1606089600000,0.9413],[1606176000000,0.9424],[1606262400000,0.9449],[1606348800000,0.9459],[1606435200000,0.9459],[1606694400000,0.945],[1606780800000,0.9395],[1606867200000,0.939],[1606953600000,0.9373],[1607040000000,0.9349],[1607299200000,0.9345],[1607385600000,0.9359],[1607472000000,0.9375],[1607558400000,0.9403],[1607644800000,0.9379],[1607904000000,0.9342],[1607990400000,0.9328],[1608076800000,0.9319],[1608163200000,0.9249],[1608249600000,0.9322],[1608508800000,0.9308],[1608595200000,0.9227],[1608681600000,0.9187],[1608768000000,0.9123],[1608854400000,0.9137],[1609113600000,0.9071],[1609200000000,0.9127],[1609286400000,0.906],[1609372800000,0.9049],[1609718400000,0.9057],[1609804800000,0.8979],[1609891200000,0.8996],[1609977600000,0.8941],[1610064000000,0.908],[1610323200000,0.909],[1610409600000,0.9004],[1610496000000,0.8926],[1610582400000,0.8952],[1610668800000,0.898],[1610928000000,0.8911],[1611014400000,0.9001],[1611100800000,0.9012],[1611187200000,0.8985],[1611273600000,0.885],[1611532800000,0.8701],[1611619200000,0.8844],[1611705600000,0.8775],[1611792000000,0.8802],[1611878400000,0.8773],[1612137600000,0.8679],[1612224000000,0.8624],[1612310400000,0.8641],[1612396800000,0.8633],[1612483200000,0.8621],[1612742400000,0.8533],[1612828800000,0.8485],[1612915200000,0.8405],[1613606400000,0.851],[1613692800000,0.8492],[1613952000000,0.8697],[1614038400000,0.868],[1614124800000,0.875],[1614211200000,0.8805],[1614297600000,0.8864],[1614556800000,0.8825],[1614643200000,0.8833],[1614729600000,0.871],[1614816000000,0.8764],[1614902400000,0.8796],[1615161600000,0.9008],[1615248000000,0.9047],[1615334400000,0.9006],[1615420800000,0.8938],[1615507200000,0.8888],[1615766400000,0.8875],[1615852800000,0.8907],[1615939200000,0.8946],[1616025600000,0.8931],[1616112000000,0.9006],[1616371200000,0.8969],[1616457600000,0.8966],[1616544000000,0.8895],[1616630400000,0.89],[1616716800000,0.8829],[1616976000000,0.8821],[1617062400000,0.8805],[1617148800000,0.8869],[1617235200000,0.8823],[1617321600000,0.8821],[1617667200000,0.8878],[1617753600000,0.8949],[1617840000000,0.8984],[1617926400000,0.8991],[1618185600000,0.8934],[1618272000000,0.9007],[1618358400000,0.8951],[1618444800000,0.8937],[1618531200000,0.8926],[1618790400000,0.8886],[1618876800000,0.8863],[1618963200000,0.8796],[1619049600000,0.8815],[1619136000000,0.878],[1619395200000,0.8796],[1619481600000,0.8733],[1619568000000,0.877],[1619654400000,0.8675],[1619740800000,0.8768],[1620259200000,0.8761],[1620345600000,0.8662],[1620604800000,0.8662],[1620691200000,0.8705],[1620777600000,0.8691],[1620864000000,0.874],[1620950400000,0.8756],[1621209600000,0.8701],[1621296000000,0.8694],[1621382400000,0.8711],[1621468800000,0.8693],[1621555200000,0.8728],[1621814400000,0.87],[1621900800000,0.8604],[1621987200000,0.8638],[1622073600000,0.8678],[1622160000000,0.8627],[1622419200000,0.8647],[1622505600000,0.8681],[1622592000000,0.865],[1622678400000,0.8674],[1622764800000,0.8658],[1623024000000,0.8624],[1623110400000,0.8652],[1623196800000,0.8641],[1623283200000,0.8599],[1623369600000,0.862],[1623715200000,0.8666],[1623801600000,0.869],[1623888000000,0.8779],[1623974400000,0.8894],[1624233600000,0.8927],[1624320000000,0.8956],[1624406400000,0.8963],[1624492800000,0.8969],[1624579200000,0.8956],[1624838400000,0.8958],[1624924800000,0.8999],[1625011200000,0.9029],[1625097600000,0.8997],[1625184000000,0.9043],[1625443200000,0.9039],[1625529600000,0.8991],[1625616000000,0.8987],[1625702400000,0.8966],[1625788800000,0.9006],[1626048000000,0.9008],[1626134400000,0.9052],[1626220800000,0.9097],[1626307200000,0.9034],[1626393600000,0.913],[1626652800000,0.912],[1626739200000,0.9146],[1626825600000,0.9133],[1626912000000,0.9125],[1626998400000,0.9103],[1627257600000,0.9119],[1627344000000,0.9188],[1627430400000,0.9201],[1627516800000,0.9114],[1627603200000,0.9226],[1627862400000,0.9163],[1627948800000,0.9183],[1628035200000,0.9168],[1628121600000,0.9189],[1628208000000,0.9231],[1628467200000,0.9232],[1628553600000,0.9145],[1628640000000,0.918],[1628726400000,0.9197],[1628812800000,0.919],[1629072000000,0.9224],[1629158400000,0.9229],[1629244800000,0.9154],[1629331200000,0.9236],[1629417600000,0.9345],[1629676800000,0.9267],[1629763200000,0.9252],[1629849600000,0.921],[1629936000000,0.9152],[1630022400000,0.9117],[1630281600000,0.9199],[1630368000000,0.923],[1630454400000,0.9172],[1630540800000,0.9137],[1630627200000,0.921],[1630886400000,0.9241],[1630972800000,0.9235],[1631059200000,0.9289],[1631145600000,0.9361],[1631232000000,0.9261],[1631491200000,0.9282],[1631577600000,0.9322],[1631664000000,0.9317],[1631750400000,0.9279],[1631836800000,0.9264],[1632268800000,0.9314],[1632355200000,0.9324],[1632441600000,0.9363],[1632700800000,0.9245],[1632787200000,0.9252],[1632873600000,0.9233],[1632960000000,0.9259],[1633651200000,0.9324],[1633910400000,0.9331],[1633996800000,0.9295],[1634083200000,0.9265],[1634169600000,0.9196],[1634256000000,0.9157],[1634515200000,0.9215],[1634601600000,0.9227],[1634688000000,0.9219],[1634774400000,0.9171],[1634860800000,0.9144],[1635120000000,0.9119],[1635206400000,0.9158],[1635292800000,0.9141],[1635379200000,0.9131],[1635465600000,0.9114],[1635724800000,0.9187],[1635811200000,0.9114],[1635897600000,0.9228],[1635984000000,0.9173],[1636070400000,0.9174],[1636329600000,0.9189],[1636416000000,0.9208],[1636502400000,0.9287],[1636588800000,0.9244],[1636675200000,0.9259],[1636934400000,0.9238],[1637020800000,0.9207],[1637107200000,0.9216],[1637193600000,0.9221],[1637280000000,0.9192],[1637539200000,0.9192],[1637625600000,0.9221],[1637712000000,0.9251],[1637798400000,0.9248],[1637884800000,0.9251],[1638144000000,0.9223],[1638230400000,0.9273],[1638316800000,0.933],[1638403200000,0.9314],[1638489600000,0.9338]],\"color\":\"#E2D269\"},{\"name\":\"5\\u5206\\u4f4d\\u6570\",\"yAxis\":0,\"data\":[[1578009600000,1.0],[1578268800000,1.0031],[1578355200000,1.0029],[1578441600000,0.9946],[1578528000000,0.9939],[1578614400000,0.9924],[1578873600000,0.9916],[1578960000000,0.9954],[1579046400000,0.9953],[1579132800000,0.9944],[1579219200000,0.9921],[1579478400000,0.9941],[1579564800000,0.9981],[1579651200000,0.9999],[1579737600000,1.001],[1580688000000,1.0141],[1580774400000,1.0188],[1580860800000,1.026],[1580947200000,1.0274],[1581033600000,1.0286],[1581292800000,1.0332],[1581379200000,1.0301],[1581465600000,1.0337],[1581552000000,1.0338],[1581638400000,1.0379],[1581897600000,1.0443],[1581984000000,1.0528],[1582070400000,1.0409],[1582156800000,1.037],[1582243200000,1.0429],[1582502400000,1.0503],[1582588800000,1.0526],[1582675200000,1.0515],[1582761600000,1.05],[1582848000000,1.0492],[1583107200000,1.046],[1583193600000,1.0459],[1583280000000,1.0425],[1583366400000,1.0383],[1583452800000,1.0392],[1583712000000,1.034],[1583798400000,1.0388],[1583884800000,1.0352],[1583971200000,1.0351],[1584057600000,1.0359],[1584316800000,1.0399],[1584403200000,1.0403],[1584489600000,1.0421],[1584576000000,1.0489],[1584662400000,1.0438],[1584921600000,1.0469],[1585008000000,1.0461],[1585094400000,1.0436],[1585180800000,1.0425],[1585267200000,1.043],[1585526400000,1.0396],[1585612800000,1.0365],[1585699200000,1.035],[1585785600000,1.0307],[1585872000000,1.0309],[1586217600000,1.0302],[1586304000000,1.0354],[1586390400000,1.036],[1586476800000,1.0293],[1586736000000,1.025],[1586822400000,1.0224],[1586908800000,1.0255],[1586995200000,1.0251],[1587081600000,1.0151],[1587340800000,1.0146],[1587427200000,1.0166],[1587513600000,1.0161],[1587600000000,1.019],[1587686400000,1.0181],[1587945600000,1.0137],[1588032000000,1.0021],[1588118400000,1.0035],[1588204800000,1.0136],[1588723200000,1.0167],[1588809600000,1.0139],[1588896000000,1.016],[1589155200000,1.0164],[1589241600000,1.0133],[1589328000000,1.0146],[1589414400000,1.0175],[1589500800000,1.0177],[1589760000000,1.0157],[1589846400000,1.0174],[1589932800000,1.016],[1590019200000,1.0146],[1590105600000,1.0177],[1590364800000,1.0167],[1590451200000,1.0203],[1590537600000,1.0185],[1590624000000,1.0166],[1590710400000,1.0194],[1590969600000,1.0168],[1591056000000,1.019],[1591142400000,1.02],[1591228800000,1.014],[1591315200000,1.0097],[1591574400000,1.0098],[1591660800000,1.0145],[1591747200000,1.0172],[1591833600000,1.018],[1591920000000,1.0141],[1592179200000,1.0209],[1592265600000,1.0183],[1592352000000,1.0201],[1592438400000,1.0179],[1592524800000,1.0135],[1592784000000,1.0145],[1592870400000,1.0122],[1592956800000,1.0138],[1593388800000,1.0076],[1593475200000,1.0079],[1593561600000,0.9974],[1593648000000,0.9967],[1593734400000,0.9865],[1593993600000,0.9646],[1594080000000,0.9677],[1594166400000,0.9653],[1594252800000,0.9568],[1594339200000,0.9507],[1594598400000,0.9482],[1594684800000,0.946],[1594771200000,0.9433],[1594857600000,0.9485],[1594944000000,0.9394],[1595203200000,0.9466],[1595289600000,0.9446],[1595376000000,0.9486],[1595462400000,0.9392],[1595548800000,0.9412],[1595808000000,0.9416],[1595894400000,0.9416],[1595980800000,0.9419],[1596067200000,0.9387],[1596153600000,0.931],[1596412800000,0.9359],[1596499200000,0.9402],[1596585600000,0.9385],[1596672000000,0.9425],[1596758400000,0.943],[1597017600000,0.9507],[1597104000000,0.9469],[1597190400000,0.9502],[1597276800000,0.9572],[1597363200000,0.9553],[1597622400000,0.9603],[1597708800000,0.9623],[1597795200000,0.9646],[1597881600000,0.9643],[1597968000000,0.9577],[1598227200000,0.9493],[1598313600000,0.9425],[1598400000000,0.9459],[1598486400000,0.9441],[1598572800000,0.9346],[1598832000000,0.9365],[1598918400000,0.9367],[1599004800000,0.9334],[1599091200000,0.933],[1599177600000,0.937],[1599436800000,0.9364],[1599523200000,0.9385],[1599609600000,0.9381],[1599696000000,0.9303],[1599782400000,0.9319],[1600041600000,0.9315],[1600128000000,0.9304],[1600214400000,0.9348],[1600300800000,0.9417],[1600387200000,0.9391],[1600646400000,0.9415],[1600732800000,0.9364],[1600819200000,0.9317],[1600905600000,0.9315],[1600992000000,0.9308],[1601251200000,0.9297],[1601337600000,0.9291],[1601424000000,0.9266],[1602201600000,0.9294],[1602460800000,0.9248],[1602547200000,0.9241],[1602633600000,0.9197],[1602720000000,0.9204],[1602806400000,0.9202],[1603065600000,0.9219],[1603152000000,0.9191],[1603238400000,0.915],[1603324800000,0.9147],[1603411200000,0.9149],[1603670400000,0.9131],[1603756800000,0.9106],[1603843200000,0.9061],[1603929600000,0.8976],[1604016000000,0.8988],[1604275200000,0.8952],[1604361600000,0.8988],[1604448000000,0.8962],[1604534400000,0.8969],[1604620800000,0.8938],[1604880000000,0.8988],[1604966400000,0.8966],[1605052800000,0.9003],[1605139200000,0.8986],[1605225600000,0.9032],[1605484800000,0.8999],[1605571200000,0.9033],[1605657600000,0.9056],[1605744000000,0.9037],[1605830400000,0.9051],[1606089600000,0.9033],[1606176000000,0.9023],[1606262400000,0.8991],[1606348800000,0.8974],[1606435200000,0.8962],[1606694400000,0.901],[1606780800000,0.8952],[1606867200000,0.8918],[1606953600000,0.8952],[1607040000000,0.8906],[1607299200000,0.8884],[1607385600000,0.8844],[1607472000000,0.8852],[1607558400000,0.8802],[1607644800000,0.8815],[1607904000000,0.8772],[1607990400000,0.8782],[1608076800000,0.8709],[1608163200000,0.8702],[1608249600000,0.8672],[1608508800000,0.8663],[1608595200000,0.8636],[1608681600000,0.8619],[1608768000000,0.8568],[1608854400000,0.8544],[1609113600000,0.8489],[1609200000000,0.8501],[1609286400000,0.8488],[1609372800000,0.8498],[1609718400000,0.8499],[1609804800000,0.8493],[1609891200000,0.8462],[1609977600000,0.8369],[1610064000000,0.8371],[1610323200000,0.8347],[1610409600000,0.8282],[1610496000000,0.8297],[1610582400000,0.8388],[1610668800000,0.8424],[1610928000000,0.8467],[1611014400000,0.8474],[1611100800000,0.8478],[1611187200000,0.846],[1611273600000,0.8442],[1611532800000,0.8356],[1611619200000,0.8378],[1611705600000,0.8407],[1611792000000,0.8438],[1611878400000,0.8432],[1612137600000,0.8403],[1612224000000,0.8365],[1612310400000,0.8306],[1612396800000,0.8213],[1612483200000,0.8187],[1612742400000,0.8237],[1612828800000,0.8243],[1612915200000,0.8167],[1613606400000,0.829],[1613692800000,0.8303],[1613952000000,0.8426],[1614038400000,0.839],[1614124800000,0.8524],[1614211200000,0.8516],[1614297600000,0.8548],[1614556800000,0.8528],[1614643200000,0.8567],[1614729600000,0.8513],[1614816000000,0.8558],[1614902400000,0.86],[1615161600000,0.868],[1615248000000,0.8643],[1615334400000,0.8592],[1615420800000,0.8574],[1615507200000,0.8543],[1615766400000,0.8556],[1615852800000,0.8501],[1615939200000,0.8548],[1616025600000,0.8486],[1616112000000,0.8556],[1616371200000,0.8585],[1616457600000,0.8617],[1616544000000,0.8661],[1616630400000,0.8681],[1616716800000,0.8616],[1616976000000,0.8588],[1617062400000,0.8544],[1617148800000,0.8592],[1617235200000,0.8566],[1617321600000,0.8517],[1617667200000,0.8558],[1617753600000,0.8607],[1617840000000,0.8555],[1617926400000,0.8587],[1618185600000,0.8577],[1618272000000,0.857],[1618358400000,0.8571],[1618444800000,0.8568],[1618531200000,0.859],[1618790400000,0.853],[1618876800000,0.8539],[1618963200000,0.8545],[1619049600000,0.8576],[1619136000000,0.8505],[1619395200000,0.8538],[1619481600000,0.8533],[1619568000000,0.8542],[1619654400000,0.8527],[1619740800000,0.8441],[1620259200000,0.8505],[1620345600000,0.8512],[1620604800000,0.8508],[1620691200000,0.8445],[1620777600000,0.8448],[1620864000000,0.8505],[1620950400000,0.8456],[1621209600000,0.8457],[1621296000000,0.8466],[1621382400000,0.8452],[1621468800000,0.8426],[1621555200000,0.842],[1621814400000,0.8456],[1621900800000,0.8393],[1621987200000,0.8364],[1622073600000,0.8382],[1622160000000,0.8362],[1622419200000,0.8332],[1622505600000,0.8352],[1622592000000,0.8343],[1622678400000,0.8362],[1622764800000,0.8379],[1623024000000,0.8467],[1623110400000,0.8504],[1623196800000,0.8513],[1623283200000,0.8463],[1623369600000,0.8462],[1623715200000,0.8465],[1623801600000,0.8508],[1623888000000,0.8561],[1623974400000,0.8593],[1624233600000,0.8645],[1624320000000,0.8604],[1624406400000,0.8631],[1624492800000,0.8617],[1624579200000,0.8565],[1624838400000,0.8577],[1624924800000,0.8598],[1625011200000,0.8586],[1625097600000,0.8513],[1625184000000,0.857],[1625443200000,0.8646],[1625529600000,0.8688],[1625616000000,0.8649],[1625702400000,0.876],[1625788800000,0.879],[1626048000000,0.8792],[1626134400000,0.8742],[1626220800000,0.8698],[1626307200000,0.8646],[1626393600000,0.8681],[1626652800000,0.8638],[1626739200000,0.8604],[1626825600000,0.8558],[1626912000000,0.8584],[1626998400000,0.8638],[1627257600000,0.8744],[1627344000000,0.8816],[1627430400000,0.8708],[1627516800000,0.8639],[1627603200000,0.8634],[1627862400000,0.8627],[1627948800000,0.8588],[1628035200000,0.8542],[1628121600000,0.855],[1628208000000,0.8464],[1628467200000,0.8511],[1628553600000,0.851],[1628640000000,0.8516],[1628726400000,0.8588],[1628812800000,0.8592],[1629072000000,0.866],[1629158400000,0.8729],[1629244800000,0.8759],[1629331200000,0.8733],[1629417600000,0.8784],[1629676800000,0.884],[1629763200000,0.8801],[1629849600000,0.877],[1629936000000,0.8835],[1630022400000,0.8759],[1630281600000,0.8761],[1630368000000,0.8729],[1630454400000,0.8746],[1630540800000,0.873],[1630627200000,0.8769],[1630886400000,0.8764],[1630972800000,0.8746],[1631059200000,0.8783],[1631145600000,0.8779],[1631232000000,0.8738],[1631491200000,0.8704],[1631577600000,0.8703],[1631664000000,0.8752],[1631750400000,0.8765],[1631836800000,0.8718],[1632268800000,0.8776],[1632355200000,0.8803],[1632441600000,0.8721],[1632700800000,0.8624],[1632787200000,0.8638],[1632873600000,0.8614],[1632960000000,0.8589],[1633651200000,0.8572],[1633910400000,0.8557],[1633996800000,0.8515],[1634083200000,0.8459],[1634169600000,0.8514],[1634256000000,0.8498],[1634515200000,0.8561],[1634601600000,0.8526],[1634688000000,0.8517],[1634774400000,0.8494],[1634860800000,0.8462],[1635120000000,0.8459],[1635206400000,0.8471],[1635292800000,0.8424],[1635379200000,0.8391],[1635465600000,0.8418],[1635724800000,0.8434],[1635811200000,0.8527],[1635897600000,0.8582],[1635984000000,0.8587],[1636070400000,0.8641],[1636329600000,0.8549],[1636416000000,0.8569],[1636502400000,0.8586],[1636588800000,0.857],[1636675200000,0.858],[1636934400000,0.863],[1637020800000,0.8646],[1637107200000,0.8657],[1637193600000,0.8644],[1637280000000,0.8667],[1637539200000,0.8672],[1637625600000,0.8666],[1637712000000,0.8634],[1637798400000,0.8691],[1637884800000,0.8638],[1638144000000,0.8574],[1638230400000,0.8617],[1638316800000,0.8595],[1638403200000,0.8549],[1638489600000,0.8529]],\"color\":\"#4A8E8E\"},{\"name\":\"\\u6700\\u5c0f-\\u6700\\u5927\\u5206\\u4f4d\",\"yAxis\":0,\"data\":[[1578009600000,1.0],[1578268800000,1.0031],[1578355200000,1.0039],[1578441600000,1.0032],[1578528000000,1.0017],[1578614400000,1.0011],[1578873600000,1.002],[1578960000000,0.999],[1579046400000,0.999],[1579132800000,1.0012],[1579219200000,1.0035],[1579478400000,1.0047],[1579564800000,1.0024],[1579651200000,1.0003],[1579737600000,0.9997],[1580688000000,1.004],[1580774400000,0.9983],[1580860800000,1.0043],[1580947200000,1.0026],[1581033600000,1.0017],[1581292800000,0.9983],[1581379200000,0.9953],[1581465600000,0.995],[1581552000000,0.9945],[1581638400000,0.9934],[1581897600000,0.9895],[1581984000000,0.9898],[1582070400000,0.9945],[1582156800000,0.9965],[1582243200000,0.9959],[1582502400000,0.9922],[1582588800000,0.9915],[1582675200000,0.9935],[1582761600000,0.9926],[1582848000000,0.9886],[1583107200000,0.9937],[1583193600000,0.9938],[1583280000000,0.9975],[1583366400000,0.9988],[1583452800000,1.0018],[1583712000000,1.0044],[1583798400000,0.9995],[1583884800000,1.0019],[1583971200000,1.0001],[1584057600000,1.0014],[1584316800000,1.0025],[1584403200000,1.0032],[1584489600000,1.0021],[1584576000000,0.9994],[1584662400000,1.0022],[1584921600000,0.9957],[1585008000000,0.9938],[1585094400000,0.9946],[1585180800000,0.9952],[1585267200000,0.9948],[1585526400000,0.9956],[1585612800000,0.998],[1585699200000,0.9979],[1585785600000,1.0014],[1585872000000,1.0017],[1586217600000,1.0004],[1586304000000,0.9986],[1586390400000,0.9963],[1586476800000,0.998],[1586736000000,0.9993],[1586822400000,1.0031],[1586908800000,1.0031],[1586995200000,1.0042],[1587081600000,1.0077],[1587340800000,1.0085],[1587427200000,1.01],[1587513600000,1.0084],[1587600000000,1.008],[1587686400000,1.0069],[1587945600000,1.0047],[1588032000000,1.0083],[1588118400000,1.0075],[1588204800000,1.0062],[1588723200000,1.0045],[1588809600000,1.0065],[1588896000000,1.005],[1589155200000,1.0048],[1589241600000,1.0062],[1589328000000,1.0055],[1589414400000,1.003],[1589500800000,1.0043],[1589760000000,1.0043],[1589846400000,1.0033],[1589932800000,1.0043],[1590019200000,1.0046],[1590105600000,1.0049],[1590364800000,1.0042],[1590451200000,1.0039],[1590537600000,1.0075],[1590624000000,1.0088],[1590710400000,1.0093],[1590969600000,1.01],[1591056000000,1.0098],[1591142400000,1.0069],[1591228800000,1.0102],[1591315200000,1.0114],[1591574400000,1.0102],[1591660800000,1.009],[1591747200000,1.008],[1591833600000,1.0106],[1591920000000,1.0125],[1592179200000,1.0116],[1592265600000,1.0111],[1592352000000,1.0102],[1592438400000,1.0099],[1592524800000,1.0087],[1592784000000,1.0082],[1592870400000,1.0079],[1592956800000,1.0076],[1593388800000,1.0091],[1593475200000,1.0088],[1593561600000,1.0137],[1593648000000,1.0112],[1593734400000,1.013],[1593993600000,1.017],[1594080000000,1.0178],[1594166400000,1.016],[1594252800000,1.0208],[1594339200000,1.0267],[1594598400000,1.0292],[1594684800000,1.0321],[1594771200000,1.0288],[1594857600000,1.0275],[1594944000000,1.0295],[1595203200000,1.0281],[1595289600000,1.0284],[1595376000000,1.0284],[1595462400000,1.0309],[1595548800000,1.0315],[1595808000000,1.0374],[1595894400000,1.0336],[1595980800000,1.0342],[1596067200000,1.0365],[1596153600000,1.0392],[1596412800000,1.0361],[1596499200000,1.0313],[1596585600000,1.033],[1596672000000,1.0316],[1596758400000,1.0311],[1597017600000,1.0276],[1597104000000,1.0279],[1597190400000,1.0247],[1597276800000,1.0202],[1597363200000,1.0212],[1597622400000,1.019],[1597708800000,1.0193],[1597795200000,1.0188],[1597881600000,1.019],[1597968000000,1.0237],[1598227200000,1.0295],[1598313600000,1.032],[1598400000000,1.0246],[1598486400000,1.0252],[1598572800000,1.0293],[1598832000000,1.0288],[1598918400000,1.0285],[1599004800000,1.0302],[1599091200000,1.0301],[1599177600000,1.0297],[1599436800000,1.0328],[1599523200000,1.0307],[1599609600000,1.0306],[1599696000000,1.0295],[1599782400000,1.026],[1600041600000,1.0256],[1600128000000,1.0234],[1600214400000,1.0222],[1600300800000,1.0185],[1600387200000,1.0198],[1600646400000,1.0181],[1600732800000,1.0195],[1600819200000,1.0228],[1600905600000,1.022],[1600992000000,1.0198],[1601251200000,1.0184],[1601337600000,1.0198],[1601424000000,1.021],[1602201600000,1.0196],[1602460800000,1.0203],[1602547200000,1.0202],[1602633600000,1.0219],[1602720000000,1.0201],[1602806400000,1.0201],[1603065600000,1.0171],[1603152000000,1.0204],[1603238400000,1.0201],[1603324800000,1.0189],[1603411200000,1.0179],[1603670400000,1.018],[1603756800000,1.0184],[1603843200000,1.0219],[1603929600000,1.0246],[1604016000000,1.0221],[1604275200000,1.0206],[1604361600000,1.0196],[1604448000000,1.0174],[1604534400000,1.0182],[1604620800000,1.0185],[1604880000000,1.0137],[1604966400000,1.0144],[1605052800000,1.014],[1605139200000,1.0148],[1605225600000,1.0126],[1605484800000,1.0135],[1605571200000,1.0105],[1605657600000,1.0068],[1605744000000,1.0036],[1605830400000,1.003],[1606089600000,1.0035],[1606176000000,1.0034],[1606262400000,1.0029],[1606348800000,1.0042],[1606435200000,1.0025],[1606694400000,1.0048],[1606780800000,1.0049],[1606867200000,1.0084],[1606953600000,1.0055],[1607040000000,1.0071],[1607299200000,1.0086],[1607385600000,1.0109],[1607472000000,1.0113],[1607558400000,1.0127],[1607644800000,1.0142],[1607904000000,1.0116],[1607990400000,1.0088],[1608076800000,1.0115],[1608163200000,1.0122],[1608249600000,1.0131],[1608508800000,1.0154],[1608595200000,1.0138],[1608681600000,1.0108],[1608768000000,1.0132],[1608854400000,1.0121],[1609113600000,1.0107],[1609200000000,1.0113],[1609286400000,1.0097],[1609372800000,1.0078],[1609718400000,1.0108],[1609804800000,1.009],[1609891200000,1.0089],[1609977600000,1.0085],[1610064000000,1.0137],[1610323200000,1.0163],[1610409600000,1.0156],[1610496000000,1.0147],[1610582400000,1.0109],[1610668800000,1.0085],[1610928000000,1.0038],[1611014400000,1.006],[1611100800000,1.0072],[1611187200000,1.0089],[1611273600000,1.0053],[1611532800000,1.0044],[1611619200000,1.0066],[1611705600000,1.0058],[1611792000000,1.0055],[1611878400000,1.0053],[1612137600000,1.0012],[1612224000000,1.0011],[1612310400000,1.0015],[1612396800000,1.0047],[1612483200000,1.004],[1612742400000,0.9979],[1612828800000,0.9937],[1612915200000,0.9958],[1613606400000,0.9974],[1613692800000,1.0003],[1613952000000,0.9999],[1614038400000,1.0007],[1614124800000,0.9979],[1614211200000,0.9968],[1614297600000,0.9983],[1614556800000,0.9997],[1614643200000,0.9987],[1614729600000,0.9995],[1614816000000,0.9984],[1614902400000,1.0029],[1615161600000,1.0046],[1615248000000,1.0104],[1615334400000,1.0089],[1615420800000,1.0076],[1615507200000,1.0064],[1615766400000,1.0056],[1615852800000,1.0075],[1615939200000,1.006],[1616025600000,1.0076],[1616112000000,1.0051],[1616371200000,1.0039],[1616457600000,1.0018],[1616544000000,0.9977],[1616630400000,0.9985],[1616716800000,1.0],[1616976000000,1.0008],[1617062400000,1.0006],[1617148800000,1.0002],[1617235200000,1.0003],[1617321600000,1.0023],[1617667200000,1.0014],[1617753600000,1.0045],[1617840000000,1.0063],[1617926400000,1.0073],[1618185600000,1.0081],[1618272000000,1.0083],[1618358400000,1.0081],[1618444800000,1.0089],[1618531200000,1.0094],[1618790400000,1.0109],[1618876800000,1.0105],[1618963200000,1.0092],[1619049600000,1.0083],[1619136000000,1.0082],[1619395200000,1.0091],[1619481600000,1.0042],[1619568000000,1.0043],[1619654400000,1.0024],[1619740800000,1.0068],[1620259200000,1.0042],[1620345600000,1.0042],[1620604800000,1.0054],[1620691200000,1.0121],[1620777600000,1.0124],[1620864000000,1.0128],[1620950400000,1.0152],[1621209600000,1.0138],[1621296000000,1.0122],[1621382400000,1.0129],[1621468800000,1.0123],[1621555200000,1.0133],[1621814400000,1.0079],[1621900800000,1.0057],[1621987200000,1.0098],[1622073600000,1.0106],[1622160000000,1.0125],[1622419200000,1.0179],[1622505600000,1.0153],[1622592000000,1.0148],[1622678400000,1.0145],[1622764800000,1.0111],[1623024000000,1.0042],[1623110400000,1.0062],[1623196800000,1.0044],[1623283200000,1.0041],[1623369600000,1.0044],[1623715200000,1.002],[1623801600000,0.9996],[1623888000000,0.9988],[1623974400000,0.9984],[1624233600000,0.9962],[1624320000000,0.9998],[1624406400000,0.9975],[1624492800000,0.9983],[1624579200000,1.0004],[1624838400000,1.0008],[1624924800000,1.0009],[1625011200000,1.002],[1625097600000,1.0023],[1625184000000,1.0013],[1625443200000,0.9976],[1625529600000,0.9941],[1625616000000,0.9974],[1625702400000,0.9931],[1625788800000,0.9922],[1626048000000,0.9889],[1626134400000,0.9927],[1626220800000,0.9967],[1626307200000,0.9946],[1626393600000,0.9932],[1626652800000,0.9946],[1626739200000,0.9969],[1626825600000,1.0012],[1626912000000,1.0017],[1626998400000,0.9963],[1627257600000,0.9952],[1627344000000,0.9981],[1627430400000,0.9954],[1627516800000,0.9992],[1627603200000,1.0046],[1627862400000,0.9997],[1627948800000,1.0026],[1628035200000,1.0063],[1628121600000,1.0055],[1628208000000,1.0139],[1628467200000,1.0137],[1628553600000,1.0112],[1628640000000,1.0118],[1628726400000,1.0084],[1628812800000,1.0053],[1629072000000,1.0021],[1629158400000,0.9988],[1629244800000,0.9925],[1629331200000,0.9975],[1629417600000,0.9951],[1629676800000,0.9927],[1629763200000,0.9912],[1629849600000,0.9955],[1629936000000,0.9912],[1630022400000,0.9923],[1630281600000,0.9925],[1630368000000,0.9984],[1630454400000,0.9961],[1630540800000,0.9969],[1630627200000,0.9948],[1630886400000,0.9978],[1630972800000,0.9992],[1631059200000,1.0015],[1631145600000,1.0027],[1631232000000,1.0006],[1631491200000,1.0037],[1631577600000,1.0037],[1631664000000,1.0009],[1631750400000,0.9992],[1631836800000,1.0019],[1632268800000,1.0026],[1632355200000,1.0043],[1632441600000,1.0082],[1632700800000,1.0108],[1632787200000,1.0111],[1632873600000,1.0081],[1632960000000,1.0099],[1633651200000,1.0121],[1633910400000,1.0125],[1633996800000,1.0124],[1634083200000,1.0116],[1634169600000,1.0073],[1634256000000,1.0037],[1634515200000,1.0021],[1634601600000,1.0054],[1634688000000,1.0033],[1634774400000,1.0032],[1634860800000,1.0038],[1635120000000,1.0053],[1635206400000,1.007],[1635292800000,1.0101],[1635379200000,1.0109],[1635465600000,1.0114],[1635724800000,1.0148],[1635811200000,1.0078],[1635897600000,1.0099],[1635984000000,1.0054],[1636070400000,0.9997],[1636329600000,1.0067],[1636416000000,1.0085],[1636502400000,1.0121],[1636588800000,1.0119],[1636675200000,1.0132],[1636934400000,1.0132],[1637020800000,1.0132],[1637107200000,1.0146],[1637193600000,1.0178],[1637280000000,1.0157],[1637539200000,1.017],[1637625600000,1.0176],[1637712000000,1.02],[1637798400000,1.0177],[1637884800000,1.021],[1638144000000,1.0206],[1638230400000,1.0213],[1638316800000,1.0247],[1638403200000,1.0251],[1638489600000,1.0272]]}],\"xAxis\":{\"title\":{\"text\":\"date\"},\"type\":\"datetime\"},\"plotOptions\":{\"series\":{\"compare\":\"percent\"}}}/bigcharts-data-end</pre></div><div class=\"type_title_left\"><p>基本特征分析<i class=\"fa fa-question-circle-o\" title=\"处理后因子表示对因子做去极值、标准化和中性化(如果启用的话)等处理后的因子值。\"></i></p></div><div class=\"cols\">\n",
       "            \n",
       "                \n",
       "                <div class=\"col\"><div id=\"bigchart-d62f52aaa492480abc8521bdb810aec4\" class=\"bigchart\"></div><div class=\"bigchart-data\"><pre style=\"display:none\">bigcharts-data-start/{\"chart\":{\"height\":500,\"type\":\"column\",\"renderTo\":\"bigchart-d62f52aaa492480abc8521bdb810aec4\"},\"legend\":{\"enabled\":true},\"title\":{\"text\":\"\\u56e0\\u5b50\\u5206\\u5e03\"},\"stock\":false,\"series\":[{\"name\":\"count\",\"yAxis\":0,\"data\":[[-2.7374,0.0],[-2.6827,0.0],[-2.6279,0.0],[-2.5732,0.0],[-2.5185,0.0],[-2.4637,0.0],[-2.409,0.0],[-2.3542,0.0],[-2.2995,0.0],[-2.2447,0.0],[-2.19,0.0],[-2.1353,0.0],[-2.0805,0.0],[-2.0258,0.0],[-1.971,0.0],[-1.9163,0.0],[-1.8616,0.0],[-1.8068,0.0],[-1.7521,0.0],[-1.6973,0.0],[-1.6426,0.0],[-1.5878,0.0],[-1.5331,0.0],[-1.4784,0.0],[-1.4236,0.0],[-1.3689,0.0],[-1.3141,0.0],[-1.2594,0.0],[-1.2047,0.0],[-1.1499,0.0],[-1.0952,0.0],[-1.0404,0.0],[-0.9857,0.5561],[-0.9309,0.0],[-0.8762,0.0],[-0.8215,0.0],[-0.7667,0.0],[-0.712,0.0],[-0.6572,0.0],[-0.6025,0.0],[-0.5478,0.0],[-0.493,0.0001],[-0.4383,0.0],[-0.3835,0.0001],[-0.3288,0.0],[-0.274,0.0001],[-0.2193,0.0],[-0.1646,0.0],[-0.1098,0.0001],[-0.0551,0.0],[-0.0003,0.0],[0.0544,0.0],[0.1092,0.0001],[0.1639,0.0001],[0.2186,0.0],[0.2734,0.0],[0.3281,0.0],[0.3829,0.0],[0.4376,0.0],[0.4923,0.0],[0.5471,0.0],[0.6018,0.0],[0.6566,0.0001],[0.7113,0.0],[0.7661,0.0],[0.8208,0.0001],[0.8755,0.0],[0.9303,0.0],[0.985,0.0],[1.0398,0.4425],[1.0945,0.0],[1.1492,0.0],[1.204,0.0],[1.2587,0.0],[1.3135,0.0],[1.3682,0.0],[1.423,0.0],[1.4777,0.0],[1.5324,0.0],[1.5872,0.0],[1.6419,0.0],[1.6967,0.0],[1.7514,0.0],[1.8061,0.0],[1.8609,0.0],[1.9156,0.0],[1.9704,0.0],[2.0251,0.0],[2.0799,0.0],[2.1346,0.0],[2.1893,0.0],[2.2441,0.0],[2.2988,0.0],[2.3536,0.0],[2.4083,0.0],[2.463,0.0],[2.5178,0.0],[2.5725,0.0],[2.6273,0.0],[2.682,0.0]],\"color\":\"#F08B55\"}],\"xAxis\":{\"title\":{\"text\":\"value\"}}}/bigcharts-data-end</pre></div></div>\n",
       "                \n",
       "            \n",
       "                \n",
       "                <div class=\"col\"><div id=\"bigchart-de42737d8f014101820ef91c4c102940\" class=\"bigchart\"></div><div class=\"bigchart-data\"><pre style=\"display:none\">bigcharts-data-start/{\"chart\":{\"height\":500,\"type\":\"column\",\"renderTo\":\"bigchart-de42737d8f014101820ef91c4c102940\"},\"legend\":{\"enabled\":true},\"title\":{\"text\":\"\\u5904\\u7406\\u540e\\u56e0\\u5b50\\u5206\\u5e03\"},\"stock\":false,\"series\":[{\"name\":\"count\",\"yAxis\":0,\"data\":[[-3.2714,0.0],[-3.2046,0.0],[-3.1377,0.0],[-3.0709,0.0],[-3.004,0.0001],[-2.9372,0.0001],[-2.8703,0.0001],[-2.8035,0.0001],[-2.7366,0.0001],[-2.6697,0.0003],[-2.6029,0.0004],[-2.536,0.0005],[-2.4692,0.0008],[-2.4023,0.0009],[-2.3355,0.0009],[-2.2686,0.0015],[-2.2018,0.0011],[-2.1349,0.0012],[-2.0681,0.0013],[-2.0012,0.0013],[-1.9343,0.0012],[-1.8675,0.0016],[-1.8006,0.0015],[-1.7338,0.0021],[-1.6669,0.0027],[-1.6001,0.0035],[-1.5332,0.005],[-1.4664,0.0063],[-1.3995,0.0082],[-1.3326,0.0095],[-1.2658,0.0129],[-1.1989,0.0161],[-1.1321,0.0176],[-1.0652,0.0206],[-0.9984,0.0227],[-0.9315,0.0279],[-0.8647,0.0305],[-0.7978,0.0291],[-0.731,0.0311],[-0.6641,0.029],[-0.5972,0.0327],[-0.5304,0.0296],[-0.4635,0.0278],[-0.3967,0.0263],[-0.3298,0.0224],[-0.263,0.02],[-0.1961,0.0187],[-0.1293,0.0174],[-0.0624,0.0145],[0.0044,0.0225],[0.0713,0.0156],[0.1382,0.0098],[0.205,0.0111],[0.2719,0.0114],[0.3387,0.0145],[0.4056,0.0188],[0.4724,0.019],[0.5393,0.0196],[0.6061,0.0235],[0.673,0.0263],[0.7399,0.027],[0.8067,0.0269],[0.8736,0.0282],[0.9404,0.0298],[1.0073,0.0314],[1.0741,0.0287],[1.141,0.0255],[1.2078,0.0222],[1.2747,0.0209],[1.3415,0.0167],[1.4084,0.0133],[1.4753,0.01],[1.5421,0.0081],[1.609,0.0055],[1.6758,0.0039],[1.7427,0.0028],[1.8095,0.0017],[1.8764,0.001],[1.9432,0.0007],[2.0101,0.0006],[2.0769,0.0005],[2.1438,0.0003],[2.2107,0.0004],[2.2775,0.0003],[2.3444,0.0004],[2.4112,0.0003],[2.4781,0.0003],[2.5449,0.0002],[2.6118,0.0002],[2.6786,0.0002],[2.7455,0.0001],[2.8124,0.0001],[2.8792,0.0001],[2.9461,0.0001],[3.0129,0.0001],[3.0798,0.0],[3.1466,0.0],[3.2135,0.0],[3.2803,0.0],[3.3472,0.0]],\"color\":\"#F08B55\"}],\"xAxis\":{\"title\":{\"text\":\"value\"}}}/bigcharts-data-end</pre></div></div>\n",
       "                \n",
       "            \n",
       "            </div><div class=\"cols\">\n",
       "            \n",
       "                \n",
       "                <div class=\"col\"><div id=\"bigchart-265ab2fcbe7f488b95f60f27ca391717\" class=\"bigchart\"></div><div class=\"bigchart-data\"><pre style=\"display:none\">bigcharts-data-start/{\"chart\":{\"height\":500,\"type\":\"boxplot\",\"renderTo\":\"bigchart-265ab2fcbe7f488b95f60f27ca391717\"},\"legend\":{\"enabled\":true},\"title\":{\"text\":\"\\u5904\\u7406\\u540e\\u56e0\\u5b50\\u884c\\u4e1a\\u5206\\u5e03\"},\"stock\":false,\"series\":[{\"name\":\"\\u5904\\u7406\\u540e\\u56e0\\u5b50\",\"data\":[[-2.7138,-0.5167,-0.0012,0.5492,2.8575],[-2.9122,-0.6776,-0.1234,0.7715,2.9782],[-2.9657,-0.7764,-0.2231,0.8485,2.9688],[-2.8196,-0.6313,-0.0133,0.6438,2.5308],[-2.7458,-0.6769,-0.1828,0.8194,2.9468],[-3.014,-0.8079,-0.2987,0.9492,2.9722],[-2.6611,-0.7272,-0.1454,0.7857,2.35],[-2.6703,-0.7258,-0.0895,0.7846,2.6277],[-2.994,-0.7374,-0.0009,0.759,2.7468],[-0.0,-0.0,0.0,0.0,0.0],[-2.2716,-0.6354,0.0001,0.6253,1.5755],[-2.9641,-0.8656,0.1024,0.8667,2.6673],[-2.773,-0.7423,0.1127,0.7179,2.5597],[-2.761,-0.8185,-0.1617,0.8709,2.9517],[-3.0194,-0.7367,-0.0745,0.7688,2.6967],[-2.1712,-0.6372,-0.0029,0.6406,2.5719],[-1.7923,-0.3645,8.882e-16,0.3645,1.7923],[-3.3383,-0.7425,0.0347,0.7654,2.9489],[-3.1784,-0.6998,-0.1177,0.814,2.9815],[-2.0283,-0.6144,-0.006,0.6469,1.9189],[-2.9036,-0.6615,-0.0095,0.6846,2.663],[-2.5359,-0.7618,-0.132,0.8302,2.6412],[-2.3388,-0.7436,-0.1735,0.7937,3.3472],[-3.2045,-0.6503,-0.1295,0.7294,3.0064],[-3.024,-0.7944,-0.051,0.9053,3.0399],[-2.8584,-0.8281,0.0077,0.8499,2.5035],[-2.7277,-0.6565,-0.0185,0.6712,2.4778],[0.0,0.0,0.0,0.0,0.0]],\"color\":\"#F08B55\"}],\"xAxis\":{\"categories\":[\"\\u519c\\u6797\\u7267\\u6e14\",\"\\u91c7\\u6398\",\"\\u5316\\u5de5\",\"\\u94a2\\u94c1\",\"\\u6709\\u8272\\u91d1\\u5c5e\",\"\\u7535\\u5b50\",\"\\u6c7d\\u8f66\",\"\\u5bb6\\u7528\\u7535\\u5668\",\"\\u98df\\u54c1\\u996e\\u6599\",\"\\u7eba\\u7ec7\\u670d\\u88c5\",\"\\u8f7b\\u5de5\\u5236\\u9020\",\"\\u533b\\u836f\\u751f\\u7269\",\"\\u516c\\u7528\\u4e8b\\u4e1a\",\"\\u4ea4\\u901a\\u8fd0\\u8f93\",\"\\u623f\\u5730\\u4ea7\",\"\\u5546\\u4e1a\\u8d38\\u6613\",\"\\u4f11\\u95f2\\u670d\\u52a1\",\"\\u94f6\\u884c\",\"\\u975e\\u94f6\\u91d1\\u878d\",\"\\u5efa\\u7b51\\u6750\\u6599\",\"\\u5efa\\u7b51\\u88c5\\u9970\",\"\\u7535\\u6c14\\u8bbe\\u5907\",\"\\u673a\\u68b0\\u8bbe\\u5907\",\"\\u56fd\\u9632\\u519b\\u5de5\",\"\\u8ba1\\u7b97\\u673a\",\"\\u4f20\\u5a92\",\"\\u901a\\u4fe1\",\"\\u5176\\u4ed6\"]}}/bigcharts-data-end</pre></div></div>\n",
       "                \n",
       "            \n",
       "                \n",
       "                <div class=\"col\"><div id=\"bigchart-3829de655fd34eff81439ee013104e61\" class=\"bigchart\"></div><div class=\"bigchart-data\"><pre style=\"display:none\">bigcharts-data-start/{\"chart\":{\"height\":500,\"type\":\"boxplot\",\"renderTo\":\"bigchart-3829de655fd34eff81439ee013104e61\"},\"legend\":{\"enabled\":true},\"title\":{\"text\":\"\\u5904\\u7406\\u540e\\u56e0\\u5b50\\u5e02\\u503c\\u5206\\u5e03\"},\"stock\":false,\"series\":[{\"name\":\"\\u5904\\u7406\\u540e\\u56e0\\u5b50\",\"data\":[[-3.1784,-0.7409,-0.0457,0.8396,3.0064],[-3.0194,-0.7684,-0.1023,0.8263,3.3472],[-3.2045,-0.7823,-0.1301,0.8196,2.9815],[-3.014,-0.744,-0.0491,0.8076,2.7468],[-3.3383,-0.7295,-0.0105,0.792,2.9782]],\"color\":\"#F08B55\"}],\"xAxis\":{\"categories\":[\"\\u8d85\\u5c0f\\u578b\",\"\\u5c0f\\u578b\",\"\\u4e2d\\u578b\",\"\\u5927\\u578b\",\"\\u8d85\\u5927\\u578b\"]}}/bigcharts-data-end</pre></div></div>\n",
       "                \n",
       "            \n",
       "            </div><div class=\"type_title_left\"><p>IC分析<i class=\"fa fa-question-circle-o\" title=\"期初因子值与因子当期收益相关性分析，绝对值越大越好。以及因子值与滞后n期因子收益的相关性分析。\"></i></p></div>\n",
       "        <div class=\"ic_summary\">\n",
       "          <div class=\"item ic_mean\"><label>IC均值</label><p>0.00</p></div>\n",
       "          <div class=\"item ic_std\"><label>IC标准差</label><p>0.06</p></div>\n",
       "          <div class=\"item ir\"><label>IR值</label><p>0.05</p></div>\n",
       "          <div class=\"item ic_significance_ratio\"><label>|IC| > 0.02比率</label><p>69.53%</p></div>\n",
       "        </div>\n",
       "        <div class=\"cols\">\n",
       "            \n",
       "                \n",
       "                <div class=\"col\"><div id=\"bigchart-f73dd93d422d4931abf9244959bb5b9c\" class=\"bigchart\"></div><div class=\"bigchart-data\"><pre style=\"display:none\">bigcharts-data-start/{\"chart\":{\"height\":500,\"type\":\"column\",\"renderTo\":\"bigchart-f73dd93d422d4931abf9244959bb5b9c\"},\"legend\":{\"enabled\":true},\"title\":{\"text\":\"IC\\u65f6\\u5e8f\\u56fe\"},\"stock\":true,\"series\":[{\"name\":\"IC\",\"yAxis\":0,\"data\":[[1577923200000,-0.1057],[1578268800000,0.0234],[1578441600000,-0.002],[1578614400000,0.0096],[1578960000000,0.0195],[1579132800000,-0.1094],[1579478400000,0.0781],[1579651200000,0.0048],[1580860800000,0.0025],[1581033600000,0.143],[1581379200000,0.0557],[1581552000000,0.0455],[1581897600000,-0.0359],[1582070400000,0.0018],[1582243200000,-0.0568],[1582588800000,0.1606],[1582761600000,0.1329],[1583107200000,-0.1174],[1583280000000,-0.0126],[1583452800000,-0.0261],[1583798400000,0.0056],[1583971200000,-0.0306],[1584316800000,-0.0349],[1584489600000,-0.0721],[1584662400000,0.1165],[1585008000000,-0.038],[1585180800000,-0.0311],[1585526400000,-0.0151],[1585699200000,-0.1341],[1585872000000,0.1379],[1586304000000,-0.0133],[1586476800000,-0.0467],[1586822400000,-0.0037],[1586995200000,-0.023],[1587340800000,-0.039],[1587513600000,0.0045],[1587686400000,-0.0151],[1588032000000,-0.0329],[1588204800000,-0.0242],[1588809600000,0.036],[1589155200000,-0.001],[1589328000000,0.018],[1589500800000,0.0661],[1589846400000,-0.0507],[1590019200000,-0.0158],[1590364800000,-0.0307],[1590537600000,-0.0375],[1590710400000,-0.0925],[1591056000000,-0.0363],[1591228800000,0.0322],[1591574400000,0.0089],[1591747200000,-0.1118],[1591920000000,0.0076],[1592265600000,-0.0163],[1592438400000,0.0401],[1592784000000,0.0242],[1592956800000,-0.0212],[1593475200000,-0.0214],[1593648000000,-0.1008],[1594166400000,-0.0286],[1594339200000,-0.0066],[1594684800000,0.0066],[1594857600000,-0.0052],[1595203200000,0.1322],[1595376000000,0.033],[1595548800000,-0.0476],[1595894400000,-0.0436],[1596067200000,0.0025],[1596412800000,0.0696],[1596585600000,0.0502],[1596758400000,0.0302],[1597104000000,0.0765],[1597276800000,-0.0815],[1597622400000,0.0239],[1597795200000,-0.1194],[1597968000000,-0.0681],[1598313600000,0.0987],[1598486400000,-0.0709],[1598832000000,-0.0008],[1599004800000,-0.0203],[1599177600000,0.0087],[1599523200000,0.0617],[1599696000000,-0.0326],[1600041600000,0.0079],[1600214400000,0.0974],[1600387200000,-0.0317],[1600732800000,-0.0367],[1600905600000,-0.0218],[1601251200000,0.0318],[1601424000000,0.0568],[1602460800000,0.0753],[1602633600000,-0.0387],[1602806400000,-0.0199],[1603152000000,0.0274],[1603324800000,-0.0064],[1603670400000,-0.054],[1603843200000,0.0095],[1604016000000,0.0746],[1604361600000,-0.0178],[1604534400000,-0.0324],[1604880000000,-0.0188],[1605052800000,0.0017],[1605225600000,0.0487],[1605571200000,0.0723],[1605744000000,0.0134],[1606089600000,0.0315],[1606262400000,0.0342],[1606435200000,-0.0933],[1606780800000,-0.0959],[1606953600000,0.0021],[1607299200000,-0.0008],[1607472000000,-0.0393],[1607644800000,0.1307],[1607990400000,0.0004],[1608163200000,-0.0653],[1608508800000,0.0085],[1608681600000,-0.0548],[1608854400000,0.0386],[1609200000000,0.0654],[1609372800000,-0.0093],[1609804800000,0.0761],[1609977600000,0.0202],[1610323200000,-0.0398],[1610496000000,0.085],[1610668800000,0.0442],[1611014400000,0.0234],[1611187200000,0.0333],[1611532800000,-0.0025],[1611705600000,0.0138],[1611878400000,-0.0643],[1612224000000,0.0468],[1612396800000,0.0418],[1612742400000,0.0439],[1612915200000,-0.0428],[1613692800000,0.0814],[1614038400000,0.1319],[1614211200000,-0.0596],[1614556800000,-0.0255],[1614729600000,-0.0376],[1614902400000,0.0109],[1615248000000,0.093],[1615420800000,-0.0307],[1615766400000,0.0557],[1615939200000,-0.0202],[1616112000000,0.0039],[1616457600000,-0.0559],[1616630400000,-0.0786],[1616976000000,0.0875],[1617148800000,-0.0206],[1617321600000,0.0119],[1617753600000,-0.0919],[1617926400000,-0.0267],[1618272000000,-0.0752],[1618444800000,0.0432],[1618790400000,0.0382],[1618963200000,0.0154],[1619136000000,-0.0319],[1619481600000,0.0084],[1619654400000,-0.0021],[1620259200000,-0.0867],[1620604800000,-0.0935],[1620777600000,0.0251],[1620950400000,-0.0209],[1621296000000,-0.009],[1621468800000,0.044],[1621814400000,-0.0586],[1621987200000,-0.0264],[1622160000000,-0.0352],[1622505600000,0.0422],[1622678400000,0.1004],[1623024000000,-0.0169],[1623196800000,0.031],[1623369600000,0.047],[1623801600000,0.1147],[1623974400000,0.0155],[1624320000000,0.0288],[1624492800000,-0.0038],[1624838400000,-0.0156],[1625011200000,-0.0185],[1625184000000,0.0163],[1625529600000,0.031],[1625702400000,0.0986],[1626048000000,-0.0475],[1626220800000,0.0778],[1626393600000,-0.0528],[1626739200000,-0.0159],[1626912000000,0.0517],[1627257600000,0.0451],[1627430400000,-0.1087],[1627603200000,-0.006],[1627948800000,0.0589],[1628121600000,-0.1293],[1628467200000,0.0267],[1628640000000,0.1141],[1628812800000,-0.003],[1629158400000,-0.0031],[1629331200000,0.0724],[1629676800000,-0.0148],[1629849600000,0.0558],[1630022400000,0.019],[1630368000000,-0.0091],[1630540800000,0.0854],[1630886400000,-0.0205],[1631059200000,0.0163],[1631232000000,-0.0112],[1631577600000,-0.0084],[1631750400000,-0.0697],[1632268800000,-0.0773],[1632441600000,-0.0353],[1632787200000,0.0913],[1632960000000,-0.0239],[1633910400000,0.0568],[1634083200000,0.0637],[1634256000000,0.0448],[1634601600000,0.1044],[1634774400000,-0.0589],[1635120000000,-0.0464],[1635292800000,-0.0164],[1635465600000,-0.043],[1635811200000,0.0977],[1635984000000,0.0078],[1636329600000,-0.0454],[1636502400000,-0.0089],[1636675200000,0.0046],[1637020800000,-0.0746],[1637193600000,-0.0293],[1637539200000,-0.0154],[1637712000000,0.0179],[1637884800000,0.004],[1638230400000,-0.0096],[1638403200000,0.0534],[1580688000000,0.0276],[1593993600000,0.0633]],\"color\":\"#F08B55\"}],\"xAxis\":{\"title\":{\"text\":\"date\"},\"type\":\"datetime\"}}/bigcharts-data-end</pre></div></div>\n",
       "                \n",
       "            \n",
       "                \n",
       "                <div class=\"col\"><div id=\"bigchart-49f2fd01915448098d5b3b6181ea55a8\" class=\"bigchart\"></div><div class=\"bigchart-data\"><pre style=\"display:none\">bigcharts-data-start/{\"chart\":{\"height\":500,\"type\":\"column\",\"renderTo\":\"bigchart-49f2fd01915448098d5b3b6181ea55a8\"},\"legend\":{\"enabled\":true},\"title\":{\"text\":\"IC\\u4fe1\\u53f7\\u8870\\u51cf\"},\"stock\":false,\"series\":[{\"name\":\"IC\",\"yAxis\":0,\"data\":[[\"\\u6ede\\u540e0\\u671f\",0.0029],[\"\\u6ede\\u540e1\\u671f\",0.017],[\"\\u6ede\\u540e2\\u671f\",-0.0129],[\"\\u6ede\\u540e3\\u671f\",-0.0095],[\"\\u6ede\\u540e4\\u671f\",-0.0008]],\"color\":\"#F08B55\"}],\"xAxis\":{\"categories\":[\"\\u6ede\\u540e0\\u671f\",\"\\u6ede\\u540e1\\u671f\",\"\\u6ede\\u540e2\\u671f\",\"\\u6ede\\u540e3\\u671f\",\"\\u6ede\\u540e4\\u671f\"]}}/bigcharts-data-end</pre></div></div>\n",
       "                \n",
       "            \n",
       "            </div><div class=\"type_title_left\"><p>买入信号重合分析<i class=\"fa fa-question-circle-o\" title=\"分布对最小和最大分位组，计算当期和滞后n期所选股票的重合度。\"></i></p></div><div id=\"bigchart-e59896b9746c42f38a7bb46cb24062c1\" class=\"bigchart\"></div><div class=\"bigchart-data\"><pre style=\"display:none\">bigcharts-data-start/{\"chart\":{\"height\":500,\"type\":\"column\",\"renderTo\":\"bigchart-e59896b9746c42f38a7bb46cb24062c1\"},\"legend\":{\"enabled\":true},\"title\":{\"text\":\"\\u4e70\\u5165\\u4fe1\\u53f7\\u91cd\\u5408\\u5ea6\"},\"stock\":false,\"series\":[{\"name\":\"\\u6700\\u5c0f\\u5206\\u4f4d\",\"yAxis\":0,\"data\":[[\"\\u6ede\\u540e1\\u671f\",0.2237],[\"\\u6ede\\u540e2\\u671f\",0.2181],[\"\\u6ede\\u540e3\\u671f\",0.2119],[\"\\u6ede\\u540e4\\u671f\",0.204],[\"\\u6ede\\u540e5\\u671f\",0.2056],[\"\\u6ede\\u540e6\\u671f\",0.1912],[\"\\u6ede\\u540e7\\u671f\",0.1912],[\"\\u6ede\\u540e8\\u671f\",0.194],[\"\\u6ede\\u540e9\\u671f\",0.1919],[\"\\u6ede\\u540e10\\u671f\",0.1905]],\"color\":\"#F08B55\"},{\"name\":\"\\u6700\\u5927\\u5206\\u4f4d\",\"yAxis\":0,\"data\":[[\"\\u6ede\\u540e1\\u671f\",0.211],[\"\\u6ede\\u540e2\\u671f\",0.2023],[\"\\u6ede\\u540e3\\u671f\",0.1987],[\"\\u6ede\\u540e4\\u671f\",0.1917],[\"\\u6ede\\u540e5\\u671f\",0.1926],[\"\\u6ede\\u540e6\\u671f\",0.191],[\"\\u6ede\\u540e7\\u671f\",0.1849],[\"\\u6ede\\u540e8\\u671f\",0.1852],[\"\\u6ede\\u540e9\\u671f\",0.1852],[\"\\u6ede\\u540e10\\u671f\",0.1863]],\"color\":\"#648FD5\"}],\"xAxis\":{\"categories\":[\"\\u6ede\\u540e1\\u671f\",\"\\u6ede\\u540e2\\u671f\",\"\\u6ede\\u540e3\\u671f\",\"\\u6ede\\u540e4\\u671f\",\"\\u6ede\\u540e5\\u671f\",\"\\u6ede\\u540e6\\u671f\",\"\\u6ede\\u540e7\\u671f\",\"\\u6ede\\u540e8\\u671f\",\"\\u6ede\\u540e9\\u671f\",\"\\u6ede\\u540e10\\u671f\"]}}/bigcharts-data-end</pre></div><div class=\"type_title_left\"><p>因子估值分析<i class=\"fa fa-question-circle-o\" title=\"衡量因子估值高低，估值越低，该因子越可以加大配置。\"></i></p></div><div id=\"bigchart-e4a73d2e17ca4223b899133a31e3ca71\" class=\"bigchart\"></div><div class=\"bigchart-data\"><pre style=\"display:none\">bigcharts-data-start/{\"chart\":{\"height\":500,\"renderTo\":\"bigchart-e4a73d2e17ca4223b899133a31e3ca71\"},\"legend\":{\"enabled\":true},\"title\":{\"text\":\"PB\\u4f30\\u503c\\u5206\\u6790\"},\"stock\":true,\"series\":[{\"name\":\"1\\u5206\\u4f4d\\u6570\",\"yAxis\":0,\"data\":[[1577923200000,null],[1578009600000,2.1653],[1578268800000,2.1651],[1578355200000,1.9272],[1578441600000,1.863],[1578528000000,1.9208],[1578614400000,1.9045],[1578873600000,2.3143],[1578960000000,2.3273],[1579046400000,2.6914],[1579132800000,2.7369],[1579219200000,1.9121],[1579478400000,1.9505],[1579564800000,2.0818],[1579651200000,2.078],[1579737600000,2.5383],[1580688000000,2.5563],[1580774400000,2.5885],[1580860800000,2.7465],[1580947200000,1.7841],[1581033600000,1.7796],[1581292800000,2.2916],[1581379200000,2.2773],[1581465600000,1.5581],[1581552000000,1.6266],[1581638400000,2.701],[1581897600000,2.7929],[1581984000000,2.2196],[1582070400000,2.3667],[1582156800000,1.9282],[1582243200000,1.9241],[1582502400000,2.192],[1582588800000,2.3149],[1582675200000,2.1478],[1582761600000,2.116],[1582848000000,2.3932],[1583107200000,2.9061],[1583193600000,1.8764],[1583280000000,1.9085],[1583366400000,2.582],[1583452800000,2.5871],[1583712000000,2.8176],[1583798400000,2.7486],[1583884800000,2.1713],[1583971200000,2.092],[1584057600000,2.4714],[1584316800000,2.0684],[1584403200000,2.3549],[1584489600000,2.273],[1584576000000,1.8892],[1584662400000,1.9539],[1584921600000,1.8852],[1585008000000,2.1332],[1585094400000,2.1357],[1585180800000,2.0954],[1585267200000,1.7247],[1585526400000,1.7008],[1585612800000,2.2722],[1585699200000,2.3539],[1585785600000,1.8879],[1585872000000,1.8935],[1586217600000,1.3359],[1586304000000,1.3338],[1586390400000,1.6926],[1586476800000,1.6394],[1586736000000,2.1641],[1586822400000,2.1629],[1586908800000,1.8042],[1586995200000,1.8153],[1587081600000,1.5682],[1587340800000,1.5826],[1587427200000,1.4454],[1587513600000,1.4628],[1587600000000,1.4286],[1587686400000,1.4825],[1587945600000,2.2104],[1588032000000,2.172],[1588118400000,1.8954],[1588204800000,2.0],[1588723200000,1.6223],[1588809600000,1.6105],[1588896000000,2.2713],[1589155200000,2.2477],[1589241600000,2.0039],[1589328000000,2.0095],[1589414400000,1.4254],[1589500800000,1.4079],[1589760000000,1.4697],[1589846400000,1.5298],[1589932800000,1.85],[1590019200000,1.8513],[1590105600000,2.0701],[1590364800000,2.0632],[1590451200000,1.7908],[1590537600000,1.7875],[1590624000000,2.5357],[1590710400000,2.5628],[1590969600000,1.4453],[1591056000000,1.4495],[1591142400000,2.0572],[1591228800000,1.9986],[1591315200000,1.9911],[1591574400000,1.9985],[1591660800000,1.8311],[1591747200000,1.8978],[1591833600000,1.3521],[1591920000000,1.3816],[1592179200000,1.3866],[1592265600000,1.4013],[1592352000000,2.4703],[1592438400000,2.4727],[1592524800000,1.815],[1592784000000,1.8358],[1592870400000,2.3596],[1592956800000,2.3839],[1593388800000,2.254],[1593475200000,2.2767],[1593561600000,1.7054],[1593648000000,1.763],[1593734400000,3.17],[1593993600000,3.5984],[1594080000000,4.2136],[1594166400000,4.1948],[1594252800000,2.3858],[1594339200000,2.4686],[1594598400000,3.5935],[1594684800000,3.6836],[1594771200000,2.8815],[1594857600000,2.5654],[1594944000000,2.5507],[1595203200000,2.6365],[1595289600000,4.5319],[1595376000000,4.5463],[1595462400000,1.98],[1595548800000,1.8632],[1595808000000,2.4396],[1595894400000,2.3365],[1595980800000,2.0716],[1596067200000,2.1953],[1596153600000,1.6448],[1596412800000,1.6796],[1596499200000,2.7934],[1596585600000,2.6268],[1596672000000,2.3877],[1596758400000,2.3589],[1597017600000,4.1357],[1597104000000,4.161],[1597190400000,3.6294],[1597276800000,3.6004],[1597363200000,1.8231],[1597622400000,1.8895],[1597708800000,3.1336],[1597795200000,3.2143],[1597881600000,3.0081],[1597968000000,2.9633],[1598227200000,4.3234],[1598313600000,4.2182],[1598400000000,2.4601],[1598486400000,2.4629],[1598572800000,2.4399],[1598832000000,2.4882],[1598918400000,3.0068],[1599004800000,3.1353],[1599091200000,3.1137],[1599177600000,3.1526],[1599436800000,2.2353],[1599523200000,2.1919],[1599609600000,2.043],[1599696000000,2.0007],[1599782400000,1.9264],[1600041600000,2.0025],[1600128000000,3.0794],[1600214400000,3.1529],[1600300800000,3.1212],[1600387200000,3.1921],[1600646400000,3.6759],[1600732800000,3.6228],[1600819200000,3.091],[1600905600000,3.0284],[1600992000000,3.7872],[1601251200000,3.6612],[1601337600000,2.7962],[1601424000000,2.8086],[1602201600000,1.9143],[1602460800000,1.9285],[1602547200000,2.0479],[1602633600000,2.0089],[1602720000000,3.1635],[1602806400000,3.231],[1603065600000,2.3539],[1603152000000,2.4829],[1603238400000,3.2213],[1603324800000,3.1484],[1603411200000,2.2792],[1603670400000,2.269],[1603756800000,2.7863],[1603843200000,2.7204],[1603929600000,2.016],[1604016000000,1.9154],[1604275200000,2.7755],[1604361600000,2.9143],[1604448000000,2.5981],[1604534400000,2.7205],[1604620800000,2.1013],[1604880000000,2.1454],[1604966400000,1.7015],[1605052800000,1.7309],[1605139200000,1.8255],[1605225600000,1.8032],[1605484800000,2.2008],[1605571200000,2.242],[1605657600000,3.8908],[1605744000000,3.7356],[1605830400000,1.6236],[1606089600000,1.6677],[1606176000000,3.3015],[1606262400000,3.3743],[1606348800000,2.0732],[1606435200000,2.079],[1606694400000,3.9423],[1606780800000,3.9475],[1606867200000,3.6458],[1606953600000,3.5985],[1607040000000,2.4785],[1607299200000,2.4365],[1607385600000,1.6308],[1607472000000,1.6137],[1607558400000,3.5251],[1607644800000,3.5807],[1607904000000,2.9219],[1607990400000,2.9066],[1608076800000,2.4612],[1608163200000,2.4934],[1608249600000,3.4311],[1608508800000,3.6424],[1608595200000,1.9966],[1608681600000,1.9784],[1608768000000,3.5838],[1608854400000,3.7365],[1609113600000,3.5656],[1609200000000,3.4825],[1609286400000,2.1443],[1609372800000,2.2094],[1609718400000,4.7288],[1609804800000,4.4049],[1609891200000,2.6596],[1609977600000,2.7019],[1610064000000,2.1605],[1610323200000,2.03],[1610409600000,2.9072],[1610496000000,2.9279],[1610582400000,2.7319],[1610668800000,3.2258],[1610928000000,4.4891],[1611014400000,4.5523],[1611100800000,5.5302],[1611187200000,5.5121],[1611273600000,2.4499],[1611532800000,2.1855],[1611619200000,2.7108],[1611705600000,2.833],[1611792000000,1.6776],[1611878400000,1.6984],[1612137600000,3.3256],[1612224000000,3.2961],[1612310400000,4.2111],[1612396800000,4.1253],[1612483200000,3.258],[1612742400000,3.2524],[1612828800000,3.2852],[1612915200000,3.8515],[1613606400000,2.3839],[1613692800000,2.3898],[1613952000000,3.5529],[1614038400000,3.088],[1614124800000,1.8553],[1614211200000,1.8884],[1614297600000,2.6644],[1614556800000,2.6846],[1614643200000,3.2998],[1614729600000,3.3165],[1614816000000,5.2931],[1614902400000,5.2247],[1615161600000,1.659],[1615248000000,1.6183],[1615334400000,1.9619],[1615420800000,2.004],[1615507200000,4.1688],[1615766400000,4.0712],[1615852800000,4.1663],[1615939200000,4.3093],[1616025600000,3.2839],[1616112000000,3.2571],[1616371200000,2.4543],[1616457600000,2.3249],[1616544000000,3.2146],[1616630400000,3.2226],[1616716800000,2.8216],[1616976000000,2.7882],[1617062400000,3.86],[1617148800000,3.8501],[1617235200000,2.0163],[1617321600000,2.0267],[1617667200000,1.4965],[1617753600000,1.5369],[1617840000000,2.76],[1617926400000,2.5353],[1618185600000,3.374],[1618272000000,3.3411],[1618358400000,2.0969],[1618444800000,2.0712],[1618531200000,2.19],[1618790400000,2.0745],[1618876800000,2.118],[1618963200000,2.0822],[1619049600000,3.5983],[1619136000000,3.4053],[1619395200000,2.5078],[1619481600000,2.4656],[1619568000000,3.6675],[1619654400000,3.621],[1619740800000,2.7399],[1620259200000,2.7034],[1620345600000,3.7981],[1620604800000,3.7721],[1620691200000,1.6696],[1620777600000,1.6643],[1620864000000,3.2553],[1620950400000,3.2643],[1621209600000,2.2014],[1621296000000,2.3381],[1621382400000,3.9088],[1621468800000,3.937],[1621555200000,3.9794],[1621814400000,4.0826],[1621900800000,3.513],[1621987200000,3.5897],[1622073600000,3.4767],[1622160000000,3.4496],[1622419200000,4.0938],[1622505600000,4.0303],[1622592000000,4.0328],[1622678400000,4.019],[1622764800000,1.6849],[1623024000000,1.6778],[1623110400000,1.7941],[1623196800000,1.7754],[1623283200000,1.7113],[1623369600000,1.6991],[1623715200000,3.3565],[1623801600000,3.3055],[1623888000000,2.5354],[1623974400000,2.5213],[1624233600000,4.6886],[1624320000000,4.7264],[1624406400000,1.7653],[1624492800000,1.8111],[1624579200000,4.1556],[1624838400000,4.312],[1624924800000,2.1431],[1625011200000,2.1511],[1625097600000,3.7408],[1625184000000,3.5576],[1625443200000,3.043],[1625529600000,3.2852],[1625616000000,3.8377],[1625702400000,3.752],[1625788800000,2.2814],[1626048000000,2.2608],[1626134400000,4.2452],[1626220800000,4.0115],[1626307200000,3.7315],[1626393600000,3.7754],[1626652800000,3.675],[1626739200000,3.6647],[1626825600000,3.7847],[1626912000000,3.7297],[1626998400000,4.0528],[1627257600000,3.7068],[1627344000000,4.0522],[1627430400000,3.9205],[1627516800000,4.8874],[1627603200000,4.7359],[1627862400000,4.3215],[1627948800000,4.3672],[1628035200000,2.5924],[1628121600000,2.521],[1628208000000,2.5495],[1628467200000,2.6609],[1628553600000,3.3161],[1628640000000,3.3357],[1628726400000,4.5291],[1628812800000,4.4349],[1629072000000,4.3639],[1629158400000,4.2622],[1629244800000,4.3974],[1629331200000,4.3567],[1629417600000,3.9435],[1629676800000,3.8877],[1629763200000,1.7652],[1629849600000,1.6752],[1629936000000,3.2144],[1630022400000,3.1824],[1630281600000,3.0997],[1630368000000,3.1244],[1630454400000,2.7963],[1630540800000,2.7948],[1630627200000,4.4173],[1630886400000,4.4845],[1630972800000,2.8334],[1631059200000,2.4042],[1631145600000,2.2035],[1631232000000,2.2201],[1631491200000,3.4811],[1631577600000,3.4361],[1631664000000,3.314],[1631750400000,3.299],[1631836800000,2.6953],[1632268800000,2.7363],[1632355200000,2.6757],[1632441600000,2.6002],[1632700800000,3.9858],[1632787200000,3.8817],[1632873600000,3.779],[1632960000000,3.8024],[1633651200000,3.3465],[1633910400000,3.319],[1633996800000,3.216],[1634083200000,3.241],[1634169600000,3.345],[1634256000000,3.2957],[1634515200000,2.6495],[1634601600000,2.7206],[1634688000000,2.9069],[1634774400000,2.8788],[1634860800000,3.443],[1635120000000,3.4529],[1635206400000,4.1288],[1635292800000,4.0638],[1635379200000,2.9322],[1635465600000,3.2164],[1635724800000,2.3718],[1635811200000,2.3701],[1635897600000,3.1443],[1635984000000,3.229],[1636070400000,2.7185],[1636329600000,2.7538],[1636416000000,3.2319],[1636502400000,3.2622],[1636588800000,3.0272],[1636675200000,3.0201],[1636934400000,3.4596],[1637020800000,3.4623],[1637107200000,3.0941],[1637193600000,3.0048],[1637280000000,4.4267],[1637539200000,4.4579],[1637625600000,3.3572],[1637712000000,3.3583],[1637798400000,2.7773],[1637884800000,2.7187],[1638144000000,2.3138],[1638230400000,2.3578],[1638316800000,2.7916],[1638403200000,2.68],[1638489600000,3.9923]],\"color\":\"#F08B55\"},{\"name\":\"2\\u5206\\u4f4d\\u6570\",\"yAxis\":0,\"data\":[[1577923200000,null],[1578009600000,1.5807],[1578268800000,1.5751],[1578355200000,3.3038],[1578441600000,3.2297],[1578528000000,3.9178],[1578614400000,3.8458],[1578873600000,1.9657],[1578960000000,1.9155],[1579046400000,1.6655],[1579132800000,1.6431],[1579219200000,1.6449],[1579478400000,1.6328],[1579564800000,1.5429],[1579651200000,1.56],[1579737600000,1.5622],[1580688000000,0.8631],[1580774400000,1.7905],[1580860800000,1.7791],[1580947200000,2.8549],[1581033600000,2.8739],[1581292800000,2.2914],[1581379200000,2.4439],[1581465600000,3.8961],[1581552000000,4.1064],[1581638400000,1.4899],[1581897600000,1.5529],[1581984000000,1.7906],[1582070400000,1.7982],[1582156800000,2.4672],[1582243200000,2.4666],[1582502400000,3.2409],[1582588800000,3.2818],[1582675200000,3.3135],[1582761600000,3.341],[1582848000000,2.7822],[1583107200000,2.8333],[1583193600000,2.3438],[1583280000000,2.3678],[1583366400000,1.9477],[1583452800000,2.0441],[1583712000000,1.7686],[1583798400000,1.776],[1583884800000,2.3769],[1583971200000,2.3137],[1584057600000,1.6078],[1584316800000,1.4697],[1584403200000,1.4889],[1584489600000,1.4772],[1584576000000,1.703],[1584662400000,1.737],[1584921600000,1.9399],[1585008000000,1.9972],[1585094400000,1.4448],[1585180800000,1.435],[1585267200000,2.0674],[1585526400000,2.029],[1585612800000,1.8324],[1585699200000,1.838],[1585785600000,2.539],[1585872000000,2.6199],[1586217600000,2.2299],[1586304000000,2.2222],[1586390400000,1.8937],[1586476800000,1.8316],[1586736000000,1.4649],[1586822400000,1.4813],[1586908800000,1.5315],[1586995200000,1.5148],[1587081600000,1.9436],[1587340800000,1.9156],[1587427200000,1.454],[1587513600000,1.4567],[1587600000000,2.4093],[1587686400000,2.5585],[1587945600000,1.4953],[1588032000000,1.4838],[1588118400000,3.0243],[1588204800000,2.9648],[1588723200000,1.4467],[1588809600000,1.436],[1588896000000,1.427],[1589155200000,1.4646],[1589241600000,1.8736],[1589328000000,1.8789],[1589414400000,1.9467],[1589500800000,1.947],[1589760000000,2.309],[1589846400000,2.352],[1589932800000,1.5053],[1590019200000,1.4883],[1590105600000,1.7808],[1590364800000,1.7585],[1590451200000,2.0504],[1590537600000,2.0184],[1590624000000,1.4625],[1590710400000,1.4521],[1590969600000,2.8817],[1591056000000,2.926],[1591142400000,1.461],[1591228800000,1.4581],[1591315200000,1.5866],[1591574400000,1.5935],[1591660800000,2.0192],[1591747200000,1.9977],[1591833600000,2.3417],[1591920000000,2.3503],[1592179200000,3.1512],[1592265600000,3.0929],[1592352000000,1.7223],[1592438400000,1.7149],[1592524800000,2.5514],[1592784000000,2.5211],[1592870400000,1.7164],[1592956800000,1.7486],[1593388800000,1.7497],[1593475200000,1.8167],[1593561600000,2.6854],[1593648000000,2.3459],[1593734400000,1.3404],[1593993600000,1.5963],[1594080000000,1.5326],[1594166400000,1.5724],[1594252800000,1.1498],[1594339200000,1.1376],[1594598400000,1.4234],[1594684800000,1.4303],[1594771200000,2.3651],[1594857600000,2.0544],[1594944000000,1.8539],[1595203200000,1.844],[1595289600000,1.6769],[1595376000000,1.6575],[1595462400000,3.698],[1595548800000,3.5374],[1595808000000,1.8441],[1595894400000,1.9626],[1595980800000,1.7838],[1596067200000,1.7996],[1596153600000,3.3714],[1596412800000,3.2163],[1596499200000,2.3987],[1596585600000,2.3442],[1596672000000,2.9618],[1596758400000,2.9017],[1597017600000,1.8514],[1597104000000,1.7928],[1597190400000,3.076],[1597276800000,3.1328],[1597363200000,3.672],[1597622400000,3.702],[1597708800000,3.163],[1597795200000,3.1347],[1597881600000,3.1077],[1597968000000,3.0851],[1598227200000,2.079],[1598313600000,2.1052],[1598400000000,1.7894],[1598486400000,1.7996],[1598572800000,2.3699],[1598832000000,2.4241],[1598918400000,1.8379],[1599004800000,1.7921],[1599091200000,2.8238],[1599177600000,2.768],[1599436800000,2.8551],[1599523200000,2.9359],[1599609600000,2.9384],[1599696000000,2.8217],[1599782400000,3.4178],[1600041600000,3.4382],[1600128000000,2.7703],[1600214400000,2.9006],[1600300800000,1.3963],[1600387200000,1.4454],[1600646400000,1.6654],[1600732800000,1.6496],[1600819200000,2.9599],[1600905600000,2.6331],[1600992000000,2.1805],[1601251200000,2.1432],[1601337600000,2.2535],[1601424000000,1.9533],[1602201600000,3.598],[1602460800000,3.6864],[1602547200000,2.7168],[1602633600000,2.6562],[1602720000000,2.5967],[1602806400000,2.5432],[1603065600000,3.3538],[1603152000000,3.628],[1603238400000,2.1958],[1603324800000,2.1697],[1603411200000,2.9952],[1603670400000,2.9829],[1603756800000,1.6254],[1603843200000,1.604],[1603929600000,2.7966],[1604016000000,2.6234],[1604275200000,2.6218],[1604361600000,2.7009],[1604448000000,1.6918],[1604534400000,1.7237],[1604620800000,2.3424],[1604880000000,2.5001],[1604966400000,2.0748],[1605052800000,1.974],[1605139200000,3.713],[1605225600000,3.6774],[1605484800000,2.2392],[1605571200000,2.2002],[1605657600000,1.4753],[1605744000000,1.4641],[1605830400000,4.5821],[1606089600000,4.5879],[1606176000000,1.4448],[1606262400000,1.4202],[1606348800000,2.9777],[1606435200000,2.9915],[1606694400000,2.1614],[1606780800000,2.3867],[1606867200000,3.5995],[1606953600000,3.5926],[1607040000000,1.814],[1607299200000,1.7883],[1607385600000,2.9339],[1607472000000,2.8725],[1607558400000,1.9647],[1607644800000,1.954],[1607904000000,3.9681],[1607990400000,3.9674],[1608076800000,2.3662],[1608163200000,2.3414],[1608249600000,4.6397],[1608508800000,4.7623],[1608595200000,4.8477],[1608681600000,4.8303],[1608768000000,2.8365],[1608854400000,2.8101],[1609113600000,3.7183],[1609200000000,3.76],[1609286400000,2.1684],[1609372800000,2.252],[1609718400000,2.6242],[1609804800000,2.9459],[1609891200000,3.1986],[1609977600000,3.207],[1610064000000,5.051],[1610323200000,4.959],[1610409600000,3.7178],[1610496000000,3.6714],[1610582400000,3.8604],[1610668800000,3.9537],[1610928000000,3.8237],[1611014400000,3.7542],[1611100800000,1.8392],[1611187200000,1.9008],[1611273600000,2.7168],[1611532800000,2.8271],[1611619200000,1.958],[1611705600000,1.984],[1611792000000,5.1372],[1611878400000,5.0819],[1612137600000,3.316],[1612224000000,3.2499],[1612310400000,1.6945],[1612396800000,1.6162],[1612483200000,3.6759],[1612742400000,3.624],[1612828800000,3.5991],[1612915200000,3.6773],[1613606400000,3.4179],[1613692800000,3.4948],[1613952000000,5.6024],[1614038400000,5.5124],[1614124800000,4.1075],[1614211200000,4.0168],[1614297600000,5.7139],[1614556800000,5.9529],[1614643200000,2.0158],[1614729600000,2.0796],[1614816000000,2.6513],[1614902400000,2.7965],[1615161600000,4.3886],[1615248000000,4.1973],[1615334400000,3.7998],[1615420800000,3.6814],[1615507200000,2.0964],[1615766400000,2.0656],[1615852800000,1.453],[1615939200000,1.4207],[1616025600000,2.4636],[1616112000000,2.3758],[1616371200000,4.176],[1616457600000,4.1077],[1616544000000,3.2903],[1616630400000,3.1835],[1616716800000,3.0178],[1616976000000,3.0141],[1617062400000,1.628],[1617148800000,1.6577],[1617235200000,3.6651],[1617321600000,3.559],[1617667200000,4.6163],[1617753600000,4.7185],[1617840000000,2.8864],[1617926400000,2.8412],[1618185600000,1.767],[1618272000000,1.7327],[1618358400000,4.3984],[1618444800000,4.3803],[1618531200000,3.3042],[1618790400000,3.3409],[1618876800000,3.6511],[1618963200000,3.5939],[1619049600000,2.0747],[1619136000000,2.1003],[1619395200000,4.3346],[1619481600000,4.3882],[1619568000000,2.5095],[1619654400000,2.5468],[1619740800000,3.2377],[1620259200000,3.2959],[1620345600000,1.3677],[1620604800000,1.3411],[1620691200000,3.3597],[1620777600000,3.4241],[1620864000000,1.8875],[1620950400000,1.889],[1621209600000,3.548],[1621296000000,3.7757],[1621382400000,1.5296],[1621468800000,1.5287],[1621555200000,2.2726],[1621814400000,2.2325],[1621900800000,1.6996],[1621987200000,1.6963],[1622073600000,2.078],[1622160000000,2.0707],[1622419200000,1.6872],[1622505600000,1.6774],[1622592000000,1.4876],[1622678400000,1.4659],[1622764800000,3.5332],[1623024000000,3.6215],[1623110400000,3.3677],[1623196800000,3.3511],[1623283200000,3.2171],[1623369600000,3.1526],[1623715200000,1.5405],[1623801600000,1.5052],[1623888000000,3.6917],[1623974400000,3.693],[1624233600000,3.0176],[1624320000000,2.9553],[1624406400000,3.5035],[1624492800000,3.4136],[1624579200000,4.3107],[1624838400000,4.2807],[1624924800000,3.8581],[1625011200000,4.0415],[1625097600000,2.5072],[1625184000000,2.5555],[1625443200000,3.1729],[1625529600000,3.2144],[1625616000000,2.6818],[1625702400000,2.7777],[1625788800000,5.3708],[1626048000000,5.3773],[1626134400000,4.2415],[1626220800000,4.1602],[1626307200000,4.7662],[1626393600000,4.4732],[1626652800000,2.8835],[1626739200000,2.9187],[1626825600000,3.3673],[1626912000000,3.5213],[1626998400000,3.4513],[1627257600000,3.0787],[1627344000000,2.1666],[1627430400000,2.1213],[1627516800000,1.8892],[1627603200000,2.7307],[1627862400000,1.276],[1627948800000,1.4107],[1628035200000,3.9317],[1628121600000,3.9784],[1628208000000,3.3179],[1628467200000,3.2878],[1628553600000,4.2252],[1628640000000,4.0589],[1628726400000,2.2174],[1628812800000,2.1856],[1629072000000,1.9572],[1629158400000,2.216],[1629244800000,1.5355],[1629331200000,1.5057],[1629417600000,4.8552],[1629676800000,4.9861],[1629763200000,5.1463],[1629849600000,5.303],[1629936000000,1.8647],[1630022400000,1.8702],[1630281600000,3.7265],[1630368000000,3.6647],[1630454400000,1.8033],[1630540800000,1.8686],[1630627200000,4.5781],[1630886400000,4.62],[1630972800000,4.7732],[1631059200000,4.8272],[1631145600000,4.2031],[1631232000000,4.1503],[1631491200000,2.5075],[1631577600000,2.6079],[1631664000000,4.0337],[1631750400000,3.9739],[1631836800000,4.2333],[1632268800000,4.2645],[1632355200000,4.0187],[1632441600000,3.9491],[1632700800000,2.4604],[1632787200000,2.2658],[1632873600000,1.6981],[1632960000000,1.7041],[1633651200000,2.5415],[1633910400000,2.5484],[1633996800000,3.1118],[1634083200000,2.8753],[1634169600000,2.9259],[1634256000000,3.2974],[1634515200000,4.733],[1634601600000,4.8047],[1634688000000,2.9012],[1634774400000,3.0141],[1634860800000,5.2157],[1635120000000,5.2787],[1635206400000,1.9359],[1635292800000,1.8842],[1635379200000,2.9139],[1635465600000,2.9304],[1635724800000,3.6737],[1635811200000,3.6998],[1635897600000,5.1335],[1635984000000,5.3502],[1636070400000,4.3539],[1636329600000,4.2996],[1636416000000,3.9796],[1636502400000,3.977],[1636588800000,3.6193],[1636675200000,3.6697],[1636934400000,3.2298],[1637020800000,3.1474],[1637107200000,3.1487],[1637193600000,3.1156],[1637280000000,2.8977],[1637539200000,2.9251],[1637625600000,4.5974],[1637712000000,4.5283],[1637798400000,5.6188],[1637884800000,5.4941],[1638144000000,6.5529],[1638230400000,6.5288],[1638316800000,4.2294],[1638403200000,4.1488],[1638489600000,2.3594]],\"color\":\"#648FD5\"},{\"name\":\"3\\u5206\\u4f4d\\u6570\",\"yAxis\":0,\"data\":[[1577923200000,null],[1578009600000,3.1764],[1578268800000,3.2876],[1578355200000,2.7784],[1578441600000,2.7451],[1578528000000,2.3746],[1578614400000,2.3804],[1578873600000,1.8279],[1578960000000,1.8441],[1579046400000,3.3187],[1579132800000,3.2967],[1579219200000,2.576],[1579478400000,2.5992],[1579564800000,3.4044],[1579651200000,3.2526],[1579737600000,2.0444],[1580688000000,2.6958],[1580774400000,1.7971],[1580860800000,1.7876],[1580947200000,1.2439],[1581033600000,1.2704],[1581292800000,1.4784],[1581379200000,1.4756],[1581465600000,2.2806],[1581552000000,2.3273],[1581638400000,2.5934],[1581897600000,2.608],[1581984000000,1.71],[1582070400000,1.7132],[1582156800000,2.0169],[1582243200000,1.9763],[1582502400000,1.5977],[1582588800000,1.6647],[1582675200000,1.5694],[1582761600000,1.5665],[1582848000000,2.2709],[1583107200000,2.3435],[1583193600000,1.7893],[1583280000000,1.7881],[1583366400000,2.1705],[1583452800000,2.1194],[1583712000000,2.403],[1583798400000,2.4285],[1583884800000,1.4962],[1583971200000,1.4717],[1584057600000,2.8194],[1584316800000,2.7864],[1584403200000,1.4108],[1584489600000,1.4053],[1584576000000,2.1014],[1584662400000,2.1102],[1584921600000,1.4059],[1585008000000,1.4541],[1585094400000,2.2351],[1585180800000,2.5958],[1585267200000,2.3121],[1585526400000,2.2158],[1585612800000,1.5138],[1585699200000,1.488],[1585785600000,1.3762],[1585872000000,1.3558],[1586217600000,3.9325],[1586304000000,3.9168],[1586390400000,2.2589],[1586476800000,2.2151],[1586736000000,1.6127],[1586822400000,1.6188],[1586908800000,3.3373],[1586995200000,3.3996],[1587081600000,1.9661],[1587340800000,1.996],[1587427200000,2.8545],[1587513600000,2.9111],[1587600000000,2.0181],[1587686400000,2.0044],[1587945600000,1.5835],[1588032000000,1.572],[1588118400000,2.0501],[1588204800000,1.9797],[1588723200000,2.3462],[1588809600000,2.3767],[1588896000000,1.4309],[1589155200000,1.4554],[1589241600000,1.4797],[1589328000000,1.484],[1589414400000,1.5237],[1589500800000,1.5116],[1589760000000,1.4673],[1589846400000,1.4671],[1589932800000,2.9764],[1590019200000,2.935],[1590105600000,2.1893],[1590364800000,2.1814],[1590451200000,2.0501],[1590537600000,2.0471],[1590624000000,1.188],[1590710400000,1.1862],[1590969600000,2.1927],[1591056000000,2.1873],[1591142400000,1.9553],[1591228800000,2.0046],[1591315200000,1.4038],[1591574400000,1.418],[1591660800000,1.6293],[1591747200000,1.6369],[1591833600000,1.6545],[1591920000000,1.6996],[1592179200000,2.355],[1592265600000,2.3644],[1592352000000,1.4942],[1592438400000,1.4931],[1592524800000,1.4447],[1592784000000,1.4343],[1592870400000,1.7276],[1592956800000,1.7368],[1593388800000,1.498],[1593475200000,1.5124],[1593561600000,2.591],[1593648000000,2.567],[1593734400000,1.4226],[1593993600000,1.588],[1594080000000,1.1614],[1594166400000,1.1049],[1594252800000,4.4482],[1594339200000,4.4138],[1594598400000,1.5484],[1594684800000,1.542],[1594771200000,1.5827],[1594857600000,1.4779],[1594944000000,2.3238],[1595203200000,2.2665],[1595289600000,1.0596],[1595376000000,1.0505],[1595462400000,3.9756],[1595548800000,3.9049],[1595808000000,2.2909],[1595894400000,2.3054],[1595980800000,2.4531],[1596067200000,2.4469],[1596153600000,3.329],[1596412800000,3.4323],[1596499200000,2.0161],[1596585600000,1.9813],[1596672000000,2.8291],[1596758400000,2.7376],[1597017600000,2.3181],[1597104000000,2.4079],[1597190400000,1.2523],[1597276800000,1.2811],[1597363200000,4.7006],[1597622400000,4.7533],[1597708800000,1.6717],[1597795200000,1.6423],[1597881600000,1.5448],[1597968000000,1.604],[1598227200000,1.7017],[1598313600000,1.6607],[1598400000000,3.0598],[1598486400000,3.0764],[1598572800000,2.1331],[1598832000000,2.1183],[1598918400000,2.4737],[1599004800000,2.5227],[1599091200000,3.4205],[1599177600000,3.389],[1599436800000,2.2471],[1599523200000,2.2571],[1599609600000,3.6935],[1599696000000,3.7196],[1599782400000,4.5087],[1600041600000,4.6108],[1600128000000,1.6141],[1600214400000,1.6877],[1600300800000,3.1606],[1600387200000,3.2217],[1600646400000,1.5242],[1600732800000,1.515],[1600819200000,2.7786],[1600905600000,2.7494],[1600992000000,1.5782],[1601251200000,1.5774],[1601337600000,1.54],[1601424000000,1.5233],[1602201600000,2.9331],[1602460800000,2.9633],[1602547200000,2.317],[1602633600000,2.3567],[1602720000000,1.67],[1602806400000,1.6777],[1603065600000,1.083],[1603152000000,1.0535],[1603238400000,2.1447],[1603324800000,2.126],[1603411200000,1.4209],[1603670400000,1.4034],[1603756800000,3.4501],[1603843200000,3.5097],[1603929600000,3.5654],[1604016000000,3.5106],[1604275200000,1.3757],[1604361600000,1.3838],[1604448000000,3.2152],[1604534400000,3.2143],[1604620800000,2.4881],[1604880000000,2.1711],[1604966400000,2.1753],[1605052800000,2.1514],[1605139200000,2.0417],[1605225600000,2.072],[1605484800000,2.3906],[1605571200000,2.4027],[1605657600000,2.7944],[1605744000000,2.8327],[1605830400000,2.1162],[1606089600000,2.1825],[1606176000000,1.5621],[1606262400000,1.5432],[1606348800000,4.1543],[1606435200000,4.1493],[1606694400000,1.2109],[1606780800000,1.2686],[1606867200000,1.3198],[1606953600000,1.3379],[1607040000000,3.592],[1607299200000,3.4162],[1607385600000,2.3137],[1607472000000,2.2574],[1607558400000,1.9813],[1607644800000,1.9459],[1607904000000,3.4237],[1607990400000,3.1566],[1608076800000,3.1411],[1608163200000,3.1711],[1608249600000,1.674],[1608508800000,1.6746],[1608595200000,2.1676],[1608681600000,1.9394],[1608768000000,1.8558],[1608854400000,1.8697],[1609113600000,2.6145],[1609200000000,2.6601],[1609286400000,3.9907],[1609372800000,4.0794],[1609718400000,1.6645],[1609804800000,1.6235],[1609891200000,4.5883],[1609977600000,4.7182],[1610064000000,3.0195],[1610323200000,2.933],[1610409600000,3.0119],[1610496000000,3.3088],[1610582400000,2.5729],[1610668800000,2.5203],[1610928000000,1.6235],[1611014400000,1.6196],[1611100800000,1.7203],[1611187200000,1.6938],[1611273600000,2.873],[1611532800000,2.9911],[1611619200000,2.5123],[1611705600000,2.49],[1611792000000,3.4759],[1611878400000,3.4406],[1612137600000,1.931],[1612224000000,2.0163],[1612310400000,3.7357],[1612396800000,4.0821],[1612483200000,1.4491],[1612742400000,1.4316],[1612828800000,1.648],[1612915200000,1.6782],[1613606400000,1.7649],[1613692800000,1.8392],[1613952000000,1.6854],[1614038400000,1.7203],[1614124800000,5.1393],[1614211200000,5.5174],[1614297600000,2.5289],[1614556800000,2.5373],[1614643200000,2.0005],[1614729600000,2.1692],[1614816000000,1.3123],[1614902400000,1.2753],[1615161600000,3.9632],[1615248000000,3.9156],[1615334400000,1.8764],[1615420800000,2.6952],[1615507200000,1.2691],[1615766400000,1.2549],[1615852800000,1.8868],[1615939200000,1.8893],[1616025600000,3.4048],[1616112000000,3.3915],[1616371200000,1.3381],[1616457600000,1.3309],[1616544000000,1.9959],[1616630400000,1.9664],[1616716800000,2.1268],[1616976000000,2.1821],[1617062400000,3.1303],[1617148800000,3.2869],[1617235200000,1.9544],[1617321600000,1.9169],[1617667200000,4.4037],[1617753600000,4.318],[1617840000000,1.9182],[1617926400000,1.9025],[1618185600000,1.6358],[1618272000000,1.6208],[1618358400000,3.7464],[1618444800000,3.6891],[1618531200000,2.7741],[1618790400000,2.8014],[1618876800000,1.8821],[1618963200000,1.8827],[1619049600000,1.4857],[1619136000000,1.4611],[1619395200000,1.9325],[1619481600000,1.9141],[1619568000000,1.4981],[1619654400000,1.4941],[1619740800000,1.0337],[1620259200000,1.076],[1620345600000,2.1558],[1620604800000,2.1419],[1620691200000,3.1973],[1620777600000,3.5364],[1620864000000,1.6706],[1620950400000,1.7229],[1621209600000,2.2515],[1621296000000,2.2554],[1621382400000,2.736],[1621468800000,2.9429],[1621555200000,1.9694],[1621814400000,1.9655],[1621900800000,2.1629],[1621987200000,2.8655],[1622073600000,1.8019],[1622160000000,1.8098],[1622419200000,3.3438],[1622505600000,3.3349],[1622592000000,3.3732],[1622678400000,3.4083],[1622764800000,2.9024],[1623024000000,2.8893],[1623110400000,2.295],[1623196800000,2.2583],[1623283200000,5.0795],[1623369600000,4.896],[1623715200000,2.1646],[1623801600000,2.1639],[1623888000000,2.3369],[1623974400000,2.3326],[1624233600000,2.161],[1624320000000,2.1432],[1624406400000,3.8037],[1624492800000,3.8211],[1624579200000,2.5169],[1624838400000,2.6491],[1624924800000,2.0173],[1625011200000,2.2385],[1625097600000,3.7271],[1625184000000,3.7423],[1625443200000,3.7501],[1625529600000,3.7642],[1625616000000,3.1716],[1625702400000,3.0727],[1625788800000,1.7744],[1626048000000,1.7681],[1626134400000,1.6557],[1626220800000,1.6551],[1626307200000,1.3672],[1626393600000,1.3534],[1626652800000,2.9998],[1626739200000,2.9341],[1626825600000,1.7058],[1626912000000,1.724],[1626998400000,1.6449],[1627257600000,1.5849],[1627344000000,1.892],[1627430400000,1.8722],[1627516800000,1.8372],[1627603200000,1.8483],[1627862400000,4.4192],[1627948800000,4.6995],[1628035200000,3.6594],[1628121600000,3.6835],[1628208000000,4.801],[1628467200000,4.7461],[1628553600000,1.5552],[1628640000000,1.5681],[1628726400000,1.7887],[1628812800000,1.7606],[1629072000000,4.7128],[1629158400000,4.4944],[1629244800000,5.1033],[1629331200000,5.1432],[1629417600000,1.4292],[1629676800000,1.4169],[1629763200000,5.0261],[1629849600000,5.224],[1629936000000,3.5571],[1630022400000,3.2901],[1630281600000,1.7118],[1630368000000,1.727],[1630454400000,3.3395],[1630540800000,3.4283],[1630627200000,1.2685],[1630886400000,1.2776],[1630972800000,4.4483],[1631059200000,4.5429],[1631145600000,4.05],[1631232000000,4.4396],[1631491200000,1.9394],[1631577600000,1.901],[1631664000000,1.9246],[1631750400000,2.1591],[1631836800000,2.4233],[1632268800000,2.4276],[1632355200000,1.5268],[1632441600000,1.6306],[1632700800000,4.1777],[1632787200000,4.431],[1632873600000,2.0372],[1632960000000,2.0177],[1633651200000,2.7077],[1633910400000,2.765],[1633996800000,3.4571],[1634083200000,3.4519],[1634169600000,2.1961],[1634256000000,2.2068],[1634515200000,2.8692],[1634601600000,3.324],[1634688000000,3.2009],[1634774400000,2.5935],[1634860800000,1.2238],[1635120000000,1.2243],[1635206400000,3.7843],[1635292800000,4.3214],[1635379200000,3.0264],[1635465600000,3.0568],[1635724800000,2.1842],[1635811200000,2.3909],[1635897600000,1.2781],[1635984000000,1.2897],[1636070400000,2.1073],[1636329600000,2.0296],[1636416000000,1.7733],[1636502400000,1.7637],[1636588800000,2.1589],[1636675200000,2.1117],[1636934400000,1.6864],[1637020800000,1.6728],[1637107200000,2.5867],[1637193600000,2.5337],[1637280000000,1.8834],[1637539200000,1.9294],[1637625600000,1.5285],[1637712000000,1.5193],[1637798400000,2.2824],[1637884800000,2.3627],[1638144000000,1.1096],[1638230400000,1.1116],[1638316800000,3.3489],[1638403200000,3.3136],[1638489600000,2.65]],\"color\":\"#E06681\"},{\"name\":\"4\\u5206\\u4f4d\\u6570\",\"yAxis\":0,\"data\":[[1577923200000,null],[1578009600000,2.0487],[1578268800000,2.0048],[1578355200000,2.0864],[1578441600000,2.0318],[1578528000000,1.6215],[1578614400000,1.5992],[1578873600000,2.4788],[1578960000000,2.5295],[1579046400000,3.1965],[1579132800000,3.1917],[1579219200000,2.5517],[1579478400000,2.6777],[1579564800000,2.517],[1579651200000,2.5658],[1579737600000,1.9659],[1580688000000,3.663],[1580774400000,1.9917],[1580860800000,2.0021],[1580947200000,2.0183],[1581033600000,2.0912],[1581292800000,1.9051],[1581379200000,1.9051],[1581465600000,1.3922],[1581552000000,1.381],[1581638400000,3.3511],[1581897600000,3.6827],[1581984000000,1.4699],[1582070400000,1.4759],[1582156800000,2.2773],[1582243200000,2.4557],[1582502400000,1.528],[1582588800000,1.4963],[1582675200000,1.5054],[1582761600000,1.4106],[1582848000000,1.0439],[1583107200000,1.1616],[1583193600000,2.3631],[1583280000000,2.3675],[1583366400000,2.3204],[1583452800000,2.3528],[1583712000000,1.4925],[1583798400000,1.5355],[1583884800000,1.9572],[1583971200000,1.849],[1584057600000,2.2611],[1584316800000,1.982],[1584403200000,2.3156],[1584489600000,2.2788],[1584576000000,1.4166],[1584662400000,1.4462],[1584921600000,1.4729],[1585008000000,1.5141],[1585094400000,2.0228],[1585180800000,1.9061],[1585267200000,2.214],[1585526400000,2.114],[1585612800000,2.502],[1585699200000,2.6032],[1585785600000,1.5202],[1585872000000,1.5085],[1586217600000,1.5102],[1586304000000,1.4987],[1586390400000,2.7442],[1586476800000,2.6829],[1586736000000,3.603],[1586822400000,3.527],[1586908800000,1.322],[1586995200000,1.3178],[1587081600000,1.9386],[1587340800000,1.9483],[1587427200000,1.9993],[1587513600000,1.9948],[1587600000000,1.6697],[1587686400000,1.6203],[1587945600000,3.6906],[1588032000000,3.7401],[1588118400000,1.2646],[1588204800000,1.2653],[1588723200000,1.2569],[1588809600000,1.2349],[1588896000000,2.9832],[1589155200000,2.9893],[1589241600000,2.6693],[1589328000000,2.6473],[1589414400000,2.1864],[1589500800000,2.1533],[1589760000000,2.0851],[1589846400000,2.1041],[1589932800000,2.3245],[1590019200000,2.2861],[1590105600000,1.723],[1590364800000,1.7073],[1590451200000,1.4115],[1590537600000,1.4058],[1590624000000,2.8233],[1590710400000,2.7946],[1590969600000,1.2356],[1591056000000,1.266],[1591142400000,2.0048],[1591228800000,2.0509],[1591315200000,2.4466],[1591574400000,2.4412],[1591660800000,1.3958],[1591747200000,1.3432],[1591833600000,1.8752],[1591920000000,1.8745],[1592179200000,1.366],[1592265600000,1.3906],[1592352000000,1.6596],[1592438400000,1.6974],[1592524800000,2.4923],[1592784000000,2.4818],[1592870400000,1.8278],[1592956800000,1.8],[1593388800000,3.5483],[1593475200000,3.7439],[1593561600000,1.4342],[1593648000000,1.5128],[1593734400000,3.4729],[1593993600000,4.1008],[1594080000000,2.3341],[1594166400000,2.3683],[1594252800000,6.9721],[1594339200000,7.1336],[1594598400000,6.7779],[1594684800000,6.6574],[1594771200000,3.1084],[1594857600000,2.4749],[1594944000000,2.73],[1595203200000,3.2299],[1595289600000,5.456],[1595376000000,5.4936],[1595462400000,1.4245],[1595548800000,1.3054],[1595808000000,2.4011],[1595894400000,2.4726],[1595980800000,2.8675],[1596067200000,2.9243],[1596153600000,2.0796],[1596412800000,2.1415],[1596499200000,3.3424],[1596585600000,3.3566],[1596672000000,1.451],[1596758400000,1.5514],[1597017600000,5.42],[1597104000000,5.1082],[1597190400000,3.0924],[1597276800000,3.0699],[1597363200000,1.3067],[1597622400000,1.3204],[1597708800000,2.495],[1597795200000,2.3353],[1597881600000,3.5781],[1597968000000,3.5693],[1598227200000,3.6916],[1598313600000,3.6812],[1598400000000,3.0385],[1598486400000,3.1367],[1598572800000,3.3812],[1598832000000,3.4022],[1598918400000,4.0884],[1599004800000,4.16],[1599091200000,2.1383],[1599177600000,2.1486],[1599436800000,3.1022],[1599523200000,3.1014],[1599609600000,1.9845],[1599696000000,2.0122],[1599782400000,1.5246],[1600041600000,1.5611],[1600128000000,3.0598],[1600214400000,3.0272],[1600300800000,3.2198],[1600387200000,3.681],[1600646400000,4.0726],[1600732800000,3.9668],[1600819200000,1.6824],[1600905600000,1.6528],[1600992000000,2.5434],[1601251200000,2.5307],[1601337600000,4.4087],[1601424000000,4.3484],[1602201600000,1.6213],[1602460800000,1.6125],[1602547200000,1.6874],[1602633600000,1.6758],[1602720000000,3.3648],[1602806400000,3.4166],[1603065600000,3.055],[1603152000000,3.0525],[1603238400000,2.6491],[1603324800000,2.6276],[1603411200000,2.2945],[1603670400000,2.2121],[1603756800000,2.0625],[1603843200000,2.084],[1603929600000,1.3342],[1604016000000,1.3216],[1604275200000,1.7535],[1604361600000,1.7897],[1604448000000,4.8688],[1604534400000,4.9057],[1604620800000,2.0295],[1604880000000,2.1125],[1604966400000,2.2045],[1605052800000,2.2372],[1605139200000,1.6145],[1605225600000,1.5972],[1605484800000,2.2001],[1605571200000,2.1864],[1605657600000,3.0323],[1605744000000,2.9975],[1605830400000,1.53],[1606089600000,1.6253],[1606176000000,4.2814],[1606262400000,4.2982],[1606348800000,1.4811],[1606435200000,1.4954],[1606694400000,3.964],[1606780800000,4.0009],[1606867200000,2.2978],[1606953600000,2.2594],[1607040000000,2.7505],[1607299200000,2.6895],[1607385600000,3.2744],[1607472000000,3.3133],[1607558400000,2.2031],[1607644800000,2.1602],[1607904000000,1.6232],[1607990400000,1.63],[1608076800000,3.3735],[1608163200000,3.7081],[1608249600000,2.8943],[1608508800000,2.3801],[1608595200000,2.1324],[1608681600000,2.0343],[1608768000000,3.6289],[1608854400000,3.6849],[1609113600000,1.742],[1609200000000,1.7804],[1609286400000,2.8579],[1609372800000,2.8663],[1609718400000,3.3328],[1609804800000,3.2203],[1609891200000,1.8111],[1609977600000,1.7266],[1610064000000,1.6272],[1610323200000,1.7016],[1610409600000,2.8674],[1610496000000,2.8541],[1610582400000,2.731],[1610668800000,2.7778],[1610928000000,1.6576],[1611014400000,1.6212],[1611100800000,6.4661],[1611187200000,6.6169],[1611273600000,2.665],[1611532800000,2.5831],[1611619200000,3.4275],[1611705600000,3.6856],[1611792000000,2.097],[1611878400000,2.1798],[1612137600000,3.0605],[1612224000000,3.5046],[1612310400000,4.9528],[1612396800000,5.0284],[1612483200000,1.9603],[1612742400000,1.9716],[1612828800000,2.4976],[1612915200000,2.1746],[1613606400000,5.266],[1613692800000,5.2793],[1613952000000,2.0055],[1614038400000,2.0256],[1614124800000,1.7837],[1614211200000,1.8974],[1614297600000,1.9151],[1614556800000,1.9225],[1614643200000,3.9746],[1614729600000,4.0044],[1614816000000,3.7739],[1614902400000,4.1893],[1615161600000,1.2703],[1615248000000,1.3397],[1615334400000,2.4722],[1615420800000,3.0576],[1615507200000,5.5682],[1615766400000,5.3788],[1615852800000,4.2245],[1615939200000,4.3],[1616025600000,3.1455],[1616112000000,3.1319],[1616371200000,3.5186],[1616457600000,3.5571],[1616544000000,1.4576],[1616630400000,1.4857],[1616716800000,3.692],[1616976000000,3.6347],[1617062400000,3.7837],[1617148800000,3.8277],[1617235200000,2.3964],[1617321600000,2.4057],[1617667200000,1.6203],[1617753600000,1.6185],[1617840000000,3.0411],[1617926400000,3.0165],[1618185600000,5.6567],[1618272000000,5.5242],[1618358400000,0.9951],[1618444800000,0.9844],[1618531200000,3.6786],[1618790400000,3.8092],[1618876800000,2.111],[1618963200000,2.099],[1619049600000,4.6164],[1619136000000,4.6594],[1619395200000,1.6675],[1619481600000,1.6631],[1619568000000,3.9325],[1619654400000,3.8931],[1619740800000,4.254],[1620259200000,4.1415],[1620345600000,5.1032],[1620604800000,5.1747],[1620691200000,1.5525],[1620777600000,1.55],[1620864000000,4.3412],[1620950400000,4.4745],[1621209600000,2.0994],[1621296000000,2.0913],[1621382400000,3.7087],[1621468800000,3.8379],[1621555200000,3.2292],[1621814400000,3.4619],[1621900800000,3.5668],[1621987200000,3.4821],[1622073600000,5.055],[1622160000000,4.9948],[1622419200000,4.1132],[1622505600000,4.0793],[1622592000000,3.3479],[1622678400000,3.3342],[1622764800000,1.7354],[1623024000000,1.7086],[1623110400000,2.3095],[1623196800000,2.2845],[1623283200000,1.4407],[1623369600000,1.4138],[1623715200000,4.8532],[1623801600000,4.8443],[1623888000000,4.0005],[1623974400000,4.5182],[1624233600000,3.5913],[1624320000000,3.6008],[1624406400000,3.2711],[1624492800000,3.2675],[1624579200000,4.1494],[1624838400000,4.0223],[1624924800000,2.2076],[1625011200000,2.2256],[1625097600000,5.4468],[1625184000000,5.0772],[1625443200000,5.2862],[1625529600000,4.8936],[1625616000000,4.8952],[1625702400000,4.9708],[1625788800000,3.7721],[1626048000000,3.7534],[1626134400000,1.8383],[1626220800000,1.8456],[1626307200000,3.6323],[1626393600000,3.5791],[1626652800000,6.2706],[1626739200000,6.3995],[1626825600000,4.8195],[1626912000000,5.2368],[1626998400000,7.4783],[1627257600000,7.3243],[1627344000000,4.6184],[1627430400000,4.5529],[1627516800000,3.3434],[1627603200000,3.4359],[1627862400000,4.6784],[1627948800000,4.7536],[1628035200000,1.8537],[1628121600000,2.3109],[1628208000000,2.7695],[1628467200000,2.9596],[1628553600000,2.5919],[1628640000000,2.6107],[1628726400000,3.5753],[1628812800000,3.5687],[1629072000000,3.6741],[1629158400000,3.5969],[1629244800000,4.6678],[1629331200000,4.6488],[1629417600000,1.6559],[1629676800000,1.6675],[1629763200000,2.0622],[1629849600000,2.0012],[1629936000000,3.7392],[1630022400000,3.5388],[1630281600000,2.9858],[1630368000000,4.1145],[1630454400000,4.3602],[1630540800000,4.4208],[1630627200000,2.1766],[1630886400000,2.0968],[1630972800000,1.5321],[1631059200000,1.5386],[1631145600000,1.9587],[1631232000000,2.0573],[1631491200000,4.3558],[1631577600000,4.3112],[1631664000000,1.8912],[1631750400000,1.8367],[1631836800000,1.7132],[1632268800000,1.7485],[1632355200000,4.114],[1632441600000,4.2088],[1632700800000,3.4577],[1632787200000,3.413],[1632873600000,6.739],[1632960000000,6.7925],[1633651200000,4.5898],[1633910400000,4.6162],[1633996800000,3.3467],[1634083200000,3.3117],[1634169600000,4.3101],[1634256000000,4.3069],[1634515200000,1.8118],[1634601600000,1.7856],[1634688000000,3.8235],[1634774400000,3.8131],[1634860800000,2.7711],[1635120000000,2.7785],[1635206400000,4.4169],[1635292800000,4.3258],[1635379200000,1.8683],[1635465600000,1.834],[1635724800000,1.7629],[1635811200000,1.6622],[1635897600000,1.7045],[1635984000000,1.7094],[1636070400000,2.318],[1636329600000,2.3756],[1636416000000,2.5982],[1636502400000,2.5762],[1636588800000,4.4122],[1636675200000,4.469],[1636934400000,3.491],[1637020800000,3.4649],[1637107200000,3.7312],[1637193600000,3.4843],[1637280000000,3.5957],[1637539200000,3.567],[1637625600000,2.036],[1637712000000,2.044],[1637798400000,1.6056],[1637884800000,1.5979],[1638144000000,2.8499],[1638230400000,2.6862],[1638316800000,1.4953],[1638403200000,1.5054],[1638489600000,2.9781]],\"color\":\"#E2D269\"},{\"name\":\"5\\u5206\\u4f4d\\u6570\",\"yAxis\":0,\"data\":[[1577923200000,null],[1578009600000,2.529],[1578268800000,2.5976],[1578355200000,1.9427],[1578441600000,1.9134],[1578528000000,2.6275],[1578614400000,2.6426],[1578873600000,2.3976],[1578960000000,2.5743],[1579046400000,1.5769],[1579132800000,1.5741],[1579219200000,2.315],[1579478400000,2.1603],[1579564800000,1.733],[1579651200000,1.7332],[1579737600000,2.1976],[1580688000000,1.7074],[1580774400000,4.3684],[1580860800000,4.594],[1580947200000,1.9407],[1581033600000,1.9354],[1581292800000,2.261],[1581379200000,2.2052],[1581465600000,2.0824],[1581552000000,2.0504],[1581638400000,1.2787],[1581897600000,1.339],[1581984000000,4.3027],[1582070400000,4.2149],[1582156800000,2.4647],[1582243200000,2.6208],[1582502400000,2.6326],[1582588800000,2.5608],[1582675200000,1.9038],[1582761600000,1.985],[1582848000000,2.8141],[1583107200000,2.9687],[1583193600000,2.077],[1583280000000,2.0671],[1583366400000,1.7288],[1583452800000,1.6945],[1583712000000,2.6514],[1583798400000,2.7587],[1583884800000,2.1715],[1583971200000,2.1155],[1584057600000,1.654],[1584316800000,1.5737],[1584403200000,2.0707],[1584489600000,2.1041],[1584576000000,2.815],[1584662400000,2.8297],[1584921600000,2.081],[1585008000000,2.1258],[1585094400000,1.801],[1585180800000,1.8526],[1585267200000,1.4896],[1585526400000,1.4765],[1585612800000,1.4678],[1585699200000,1.4692],[1585785600000,2.6589],[1585872000000,2.7159],[1586217600000,1.4705],[1586304000000,1.4904],[1586390400000,1.6941],[1586476800000,1.6474],[1586736000000,1.3584],[1586822400000,1.3668],[1586908800000,1.8994],[1586995200000,1.8923],[1587081600000,2.1118],[1587340800000,2.1855],[1587427200000,1.7342],[1587513600000,1.7716],[1587600000000,1.8789],[1587686400000,1.8546],[1587945600000,1.3566],[1588032000000,1.2891],[1588118400000,1.8516],[1588204800000,1.817],[1588723200000,2.9007],[1588809600000,2.8815],[1588896000000,1.7015],[1589155200000,1.6223],[1589241600000,2.1992],[1589328000000,2.2186],[1589414400000,2.1505],[1589500800000,2.1746],[1589760000000,2.0832],[1589846400000,2.0921],[1589932800000,1.5385],[1590019200000,1.5073],[1590105600000,1.467],[1590364800000,1.4737],[1590451200000,1.8101],[1590537600000,1.7916],[1590624000000,1.7963],[1590710400000,1.7188],[1590969600000,2.1732],[1591056000000,2.1946],[1591142400000,2.1983],[1591228800000,2.1091],[1591315200000,2.7638],[1591574400000,2.7018],[1591660800000,3.3254],[1591747200000,3.2857],[1591833600000,2.2828],[1591920000000,2.2637],[1592179200000,1.7107],[1592265600000,1.7314],[1592352000000,3.395],[1592438400000,3.3768],[1592524800000,2.1531],[1592784000000,2.1754],[1592870400000,3.8046],[1592956800000,3.963],[1593388800000,1.7195],[1593475200000,1.7467],[1593561600000,2.4839],[1593648000000,2.699],[1593734400000,3.9417],[1593993600000,4.1485],[1594080000000,7.2247],[1594166400000,7.9832],[1594252800000,1.5294],[1594339200000,1.5056],[1594598400000,1.9677],[1594684800000,1.9436],[1594771200000,2.6419],[1594857600000,2.4513],[1594944000000,1.8631],[1595203200000,2.0112],[1595289600000,2.3521],[1595376000000,2.4159],[1595462400000,3.0761],[1595548800000,2.9203],[1595808000000,3.1223],[1595894400000,3.0865],[1595980800000,3.3839],[1596067200000,3.3277],[1596153600000,1.9935],[1596412800000,2.3172],[1596499200000,2.2087],[1596585600000,2.3069],[1596672000000,3.4455],[1596758400000,3.4059],[1597017600000,1.6435],[1597104000000,1.6388],[1597190400000,2.1719],[1597276800000,2.1772],[1597363200000,2.7729],[1597622400000,2.8361],[1597708800000,5.177],[1597795200000,5.1446],[1597881600000,2.7741],[1597968000000,2.7925],[1598227200000,2.7055],[1598313600000,2.6901],[1598400000000,2.096],[1598486400000,2.0941],[1598572800000,2.8154],[1598832000000,2.8325],[1598918400000,2.126],[1599004800000,2.176],[1599091200000,1.7509],[1599177600000,1.7336],[1599436800000,2.0477],[1599523200000,2.0572],[1599609600000,2.0119],[1599696000000,1.9895],[1599782400000,2.0845],[1600041600000,2.0845],[1600128000000,1.7616],[1600214400000,1.7818],[1600300800000,1.9245],[1600387200000,2.0289],[1600646400000,3.7546],[1600732800000,3.6831],[1600819200000,2.6982],[1600905600000,2.6117],[1600992000000,2.3903],[1601251200000,2.404],[1601337600000,1.9563],[1601424000000,1.9032],[1602201600000,2.7415],[1602460800000,2.7047],[1602547200000,3.2896],[1602633600000,3.2559],[1602720000000,2.5291],[1602806400000,2.6499],[1603065600000,2.2045],[1603152000000,2.1784],[1603238400000,3.1917],[1603324800000,3.3426],[1603411200000,2.6809],[1603670400000,2.6558],[1603756800000,1.7568],[1603843200000,1.7418],[1603929600000,3.0328],[1604016000000,2.9721],[1604275200000,2.6602],[1604361600000,2.7963],[1604448000000,1.3723],[1604534400000,1.3843],[1604620800000,2.4851],[1604880000000,2.5179],[1604966400000,3.5619],[1605052800000,3.4622],[1605139200000,2.8668],[1605225600000,2.997],[1605484800000,3.0973],[1605571200000,3.1632],[1605657600000,1.7271],[1605744000000,1.7175],[1605830400000,3.7785],[1606089600000,3.8261],[1606176000000,3.6173],[1606262400000,3.4587],[1606348800000,1.9621],[1606435200000,1.9791],[1606694400000,2.5874],[1606780800000,2.7794],[1606867200000,3.3175],[1606953600000,3.2901],[1607040000000,2.2215],[1607299200000,2.1736],[1607385600000,2.1635],[1607472000000,2.187],[1607558400000,2.3434],[1607644800000,2.3059],[1607904000000,1.8132],[1607990400000,1.831],[1608076800000,2.7816],[1608163200000,2.616],[1608249600000,3.5983],[1608508800000,3.5797],[1608595200000,3.2393],[1608681600000,3.2207],[1608768000000,3.2199],[1608854400000,3.2046],[1609113600000,3.2577],[1609200000000,2.6733],[1609286400000,3.1352],[1609372800000,3.08],[1609718400000,3.8784],[1609804800000,4.1012],[1609891200000,2.1162],[1609977600000,2.0649],[1610064000000,4.0426],[1610323200000,3.806],[1610409600000,2.7628],[1610496000000,2.735],[1610582400000,2.9755],[1610668800000,2.8464],[1610928000000,5.3642],[1611014400000,5.3018],[1611100800000,1.8885],[1611187200000,1.8824],[1611273600000,2.8829],[1611532800000,3.8742],[1611619200000,4.2339],[1611705600000,4.4544],[1611792000000,2.488],[1611878400000,2.6109],[1612137600000,3.3235],[1612224000000,3.2104],[1612310400000,1.6029],[1612396800000,1.5963],[1612483200000,5.1237],[1612742400000,5.0261],[1612828800000,3.7859],[1612915200000,3.7291],[1613606400000,3.9194],[1613692800000,3.892],[1613952000000,4.0661],[1614038400000,4.1351],[1614124800000,1.9618],[1614211200000,2.0889],[1614297600000,2.8397],[1614556800000,2.8981],[1614643200000,2.8272],[1614729600000,2.897],[1614816000000,3.6207],[1614902400000,3.7782],[1615161600000,4.4089],[1615248000000,4.1423],[1615334400000,3.1749],[1615420800000,3.2664],[1615507200000,2.6187],[1615766400000,2.5545],[1615852800000,3.2643],[1615939200000,3.3099],[1616025600000,2.0517],[1616112000000,2.0815],[1616371200000,3.622],[1616457600000,3.4353],[1616544000000,3.8194],[1616630400000,3.8061],[1616716800000,2.4713],[1616976000000,2.4842],[1617062400000,1.9027],[1617148800000,1.8866],[1617235200000,3.8466],[1617321600000,3.9113],[1617667200000,3.4114],[1617753600000,3.5352],[1617840000000,2.8332],[1617926400000,2.759],[1618185600000,2.6887],[1618272000000,2.6493],[1618358400000,2.2712],[1618444800000,2.202],[1618531200000,2.2008],[1618790400000,2.1034],[1618876800000,3.6326],[1618963200000,3.6463],[1619049600000,3.8018],[1619136000000,3.8453],[1619395200000,3.9757],[1619481600000,3.8786],[1619568000000,1.6933],[1619654400000,1.7335],[1619740800000,3.2438],[1620259200000,3.3095],[1620345600000,1.9396],[1620604800000,1.9044],[1620691200000,3.3613],[1620777600000,3.2721],[1620864000000,2.4886],[1620950400000,2.5072],[1621209600000,3.0162],[1621296000000,2.9506],[1621382400000,2.0595],[1621468800000,2.0847],[1621555200000,1.3567],[1621814400000,1.3676],[1621900800000,2.2639],[1621987200000,2.2425],[1622073600000,2.1792],[1622160000000,2.2935],[1622419200000,2.0006],[1622505600000,2.0006],[1622592000000,1.9094],[1622678400000,1.8977],[1622764800000,4.0113],[1623024000000,4.1217],[1623110400000,3.3062],[1623196800000,3.3174],[1623283200000,3.132],[1623369600000,3.1946],[1623715200000,3.213],[1623801600000,3.1764],[1623888000000,4.3609],[1623974400000,4.4661],[1624233600000,4.1011],[1624320000000,3.9956],[1624406400000,4.6988],[1624492800000,4.6397],[1624579200000,1.7333],[1624838400000,1.6866],[1624924800000,4.8447],[1625011200000,4.7272],[1625097600000,2.2083],[1625184000000,2.1609],[1625443200000,2.4574],[1625529600000,2.4667],[1625616000000,2.147],[1625702400000,2.0921],[1625788800000,3.6669],[1626048000000,3.698],[1626134400000,4.3724],[1626220800000,4.2837],[1626307200000,4.7012],[1626393600000,4.6863],[1626652800000,3.9393],[1626739200000,3.7462],[1626825600000,3.1847],[1626912000000,3.9279],[1626998400000,2.857],[1627257600000,2.8149],[1627344000000,2.6447],[1627430400000,2.8547],[1627516800000,2.7584],[1627603200000,2.8071],[1627862400000,2.2825],[1627948800000,2.6128],[1628035200000,3.7057],[1628121600000,3.7157],[1628208000000,3.4615],[1628467200000,3.3093],[1628553600000,4.7856],[1628640000000,4.6818],[1628726400000,4.3412],[1628812800000,4.3764],[1629072000000,1.665],[1629158400000,1.665],[1629244800000,1.7853],[1629331200000,1.7663],[1629417600000,4.7322],[1629676800000,4.9043],[1629763200000,3.2496],[1629849600000,3.4976],[1629936000000,4.4202],[1630022400000,4.1267],[1630281600000,3.1729],[1630368000000,3.2026],[1630454400000,3.4342],[1630540800000,3.3548],[1630627200000,3.0064],[1630886400000,3.1431],[1630972800000,3.8756],[1631059200000,3.7498],[1631145600000,5.2807],[1631232000000,5.3807],[1631491200000,3.6301],[1631577600000,3.2154],[1631664000000,4.0182],[1631750400000,3.9482],[1631836800000,4.4114],[1632268800000,4.4128],[1632355200000,4.792],[1632441600000,4.6579],[1632700800000,2.1416],[1632787200000,2.1548],[1632873600000,2.9359],[1632960000000,2.9341],[1633651200000,3.3807],[1633910400000,3.3586],[1633996800000,2.5471],[1634083200000,2.4814],[1634169600000,2.6525],[1634256000000,2.4273],[1634515200000,3.4088],[1634601600000,3.4119],[1634688000000,2.3308],[1634774400000,2.2612],[1634860800000,3.4378],[1635120000000,3.526],[1635206400000,2.3223],[1635292800000,2.2104],[1635379200000,3.5329],[1635465600000,3.4973],[1635724800000,4.5978],[1635811200000,4.6196],[1635897600000,4.8319],[1635984000000,4.6414],[1636070400000,3.9804],[1636329600000,3.8726],[1636416000000,3.1658],[1636502400000,3.1067],[1636588800000,2.8701],[1636675200000,2.9533],[1636934400000,3.5194],[1637020800000,3.5332],[1637107200000,2.4982],[1637193600000,2.4789],[1637280000000,3.5391],[1637539200000,3.6269],[1637625600000,4.0831],[1637712000000,4.1684],[1637798400000,3.7935],[1637884800000,3.8346],[1638144000000,4.6362],[1638230400000,4.6477],[1638316800000,3.8061],[1638403200000,3.766],[1638489600000,3.3204]],\"color\":\"#4A8E8E\"},{\"name\":\"\\u6700\\u5c0f\\/\\u6700\\u5927\\u5206\\u4f4d\",\"yAxis\":0,\"data\":[[1577923200000,null],[1578009600000,0.8562],[1578268800000,0.8335],[1578355200000,0.992],[1578441600000,0.9737],[1578528000000,0.731],[1578614400000,0.7207],[1578873600000,0.9653],[1578960000000,0.9041],[1579046400000,1.7068],[1579132800000,1.7388],[1579219200000,0.826],[1579478400000,0.9029],[1579564800000,1.2013],[1579651200000,1.1989],[1579737600000,1.155],[1580688000000,1.4972],[1580774400000,0.5926],[1580860800000,0.5978],[1580947200000,0.9193],[1581033600000,0.9195],[1581292800000,1.0135],[1581379200000,1.0327],[1581465600000,0.7482],[1581552000000,0.7933],[1581638400000,2.1123],[1581897600000,2.0858],[1581984000000,0.5159],[1582070400000,0.5615],[1582156800000,0.7823],[1582243200000,0.7342],[1582502400000,0.8326],[1582588800000,0.904],[1582675200000,1.1282],[1582761600000,1.066],[1582848000000,0.8504],[1583107200000,0.9789],[1583193600000,0.9034],[1583280000000,0.9233],[1583366400000,1.4935],[1583452800000,1.5267],[1583712000000,1.0627],[1583798400000,0.9964],[1583884800000,0.9999],[1583971200000,0.9889],[1584057600000,1.4942],[1584316800000,1.3144],[1584403200000,1.1373],[1584489600000,1.0803],[1584576000000,0.6711],[1584662400000,0.6905],[1584921600000,0.9059],[1585008000000,1.0035],[1585094400000,1.1859],[1585180800000,1.1311],[1585267200000,1.1578],[1585526400000,1.1519],[1585612800000,1.5481],[1585699200000,1.6022],[1585785600000,0.7101],[1585872000000,0.6972],[1586217600000,0.9085],[1586304000000,0.895],[1586390400000,0.9991],[1586476800000,0.9951],[1586736000000,1.5932],[1586822400000,1.5824],[1586908800000,0.9499],[1586995200000,0.9593],[1587081600000,0.7426],[1587340800000,0.7241],[1587427200000,0.8334],[1587513600000,0.8257],[1587600000000,0.7603],[1587686400000,0.7994],[1587945600000,1.6293],[1588032000000,1.6849],[1588118400000,1.0237],[1588204800000,1.1007],[1588723200000,0.5593],[1588809600000,0.5589],[1588896000000,1.3349],[1589155200000,1.3855],[1589241600000,0.9112],[1589328000000,0.9057],[1589414400000,0.6628],[1589500800000,0.6474],[1589760000000,0.7055],[1589846400000,0.7312],[1589932800000,1.2025],[1590019200000,1.2282],[1590105600000,1.4111],[1590364800000,1.4],[1590451200000,0.9893],[1590537600000,0.9977],[1590624000000,1.4116],[1590710400000,1.491],[1590969600000,0.6651],[1591056000000,0.6605],[1591142400000,0.9358],[1591228800000,0.9476],[1591315200000,0.7204],[1591574400000,0.7397],[1591660800000,0.5506],[1591747200000,0.5776],[1591833600000,0.5923],[1591920000000,0.6103],[1592179200000,0.8106],[1592265600000,0.8093],[1592352000000,0.7276],[1592438400000,0.7322],[1592524800000,0.843],[1592784000000,0.8439],[1592870400000,0.6202],[1592956800000,0.6015],[1593388800000,1.3109],[1593475200000,1.3034],[1593561600000,0.6866],[1593648000000,0.6532],[1593734400000,0.8042],[1593993600000,0.8674],[1594080000000,0.5832],[1594166400000,0.5255],[1594252800000,1.56],[1594339200000,1.6397],[1594598400000,1.8263],[1594684800000,1.8952],[1594771200000,1.0907],[1594857600000,1.0465],[1594944000000,1.3691],[1595203200000,1.3109],[1595289600000,1.9268],[1595376000000,1.8819],[1595462400000,0.6437],[1595548800000,0.638],[1595808000000,0.7813],[1595894400000,0.757],[1595980800000,0.6122],[1596067200000,0.6597],[1596153600000,0.8251],[1596412800000,0.7249],[1596499200000,1.2647],[1596585600000,1.1387],[1596672000000,0.693],[1596758400000,0.6926],[1597017600000,2.5164],[1597104000000,2.539],[1597190400000,1.6711],[1597276800000,1.6537],[1597363200000,0.6575],[1597622400000,0.6662],[1597708800000,0.6053],[1597795200000,0.6248],[1597881600000,1.0843],[1597968000000,1.0611],[1598227200000,1.598],[1598313600000,1.5681],[1598400000000,1.1737],[1598486400000,1.1761],[1598572800000,0.8666],[1598832000000,0.8784],[1598918400000,1.4143],[1599004800000,1.4408],[1599091200000,1.7783],[1599177600000,1.8185],[1599436800000,1.0916],[1599523200000,1.0655],[1599609600000,1.0155],[1599696000000,1.0056],[1599782400000,0.9241],[1600041600000,0.9607],[1600128000000,1.7481],[1600214400000,1.7695],[1600300800000,1.6218],[1600387200000,1.5733],[1600646400000,0.979],[1600732800000,0.9837],[1600819200000,1.1456],[1600905600000,1.1595],[1600992000000,1.5844],[1601251200000,1.523],[1601337600000,1.4293],[1601424000000,1.4758],[1602201600000,0.6983],[1602460800000,0.713],[1602547200000,0.6225],[1602633600000,0.617],[1602720000000,1.2509],[1602806400000,1.2193],[1603065600000,1.0678],[1603152000000,1.1398],[1603238400000,1.0093],[1603324800000,0.9419],[1603411200000,0.8502],[1603670400000,0.8543],[1603756800000,1.586],[1603843200000,1.5618],[1603929600000,0.6647],[1604016000000,0.6445],[1604275200000,1.0434],[1604361600000,1.0422],[1604448000000,1.8932],[1604534400000,1.9653],[1604620800000,0.8456],[1604880000000,0.8521],[1604966400000,0.4777],[1605052800000,0.5],[1605139200000,0.6368],[1605225600000,0.6017],[1605484800000,0.7105],[1605571200000,0.7088],[1605657600000,2.2528],[1605744000000,2.175],[1605830400000,0.4297],[1606089600000,0.4359],[1606176000000,0.9127],[1606262400000,0.9756],[1606348800000,1.0566],[1606435200000,1.0505],[1606694400000,1.5237],[1606780800000,1.4203],[1606867200000,1.099],[1606953600000,1.0937],[1607040000000,1.1157],[1607299200000,1.1209],[1607385600000,0.7537],[1607472000000,0.7378],[1607558400000,1.5043],[1607644800000,1.5528],[1607904000000,1.6115],[1607990400000,1.5874],[1608076800000,0.8848],[1608163200000,0.9531],[1608249600000,0.9535],[1608508800000,1.0175],[1608595200000,0.6164],[1608681600000,0.6143],[1608768000000,1.113],[1608854400000,1.166],[1609113600000,1.0945],[1609200000000,1.3027],[1609286400000,0.6839],[1609372800000,0.7173],[1609718400000,1.2193],[1609804800000,1.074],[1609891200000,1.2568],[1609977600000,1.3085],[1610064000000,0.5344],[1610323200000,0.5334],[1610409600000,1.0523],[1610496000000,1.0705],[1610582400000,0.9181],[1610668800000,1.1333],[1610928000000,0.8369],[1611014400000,0.8586],[1611100800000,2.9283],[1611187200000,2.9283],[1611273600000,0.8498],[1611532800000,0.5641],[1611619200000,0.6403],[1611705600000,0.636],[1611792000000,0.6743],[1611878400000,0.6505],[1612137600000,1.0006],[1612224000000,1.0267],[1612310400000,2.6272],[1612396800000,2.5843],[1612483200000,0.6359],[1612742400000,0.6471],[1612828800000,0.8678],[1612915200000,1.0328],[1613606400000,0.6082],[1613692800000,0.614],[1613952000000,0.8738],[1614038400000,0.7468],[1614124800000,0.9457],[1614211200000,0.904],[1614297600000,0.9383],[1614556800000,0.9264],[1614643200000,1.1672],[1614729600000,1.1448],[1614816000000,1.4619],[1614902400000,1.3828],[1615161600000,0.3763],[1615248000000,0.3907],[1615334400000,0.6179],[1615420800000,0.6135],[1615507200000,1.5919],[1615766400000,1.5938],[1615852800000,1.2763],[1615939200000,1.3019],[1616025600000,1.6005],[1616112000000,1.5648],[1616371200000,0.6776],[1616457600000,0.6768],[1616544000000,0.8417],[1616630400000,0.8467],[1616716800000,1.1418],[1616976000000,1.1224],[1617062400000,2.0287],[1617148800000,2.0407],[1617235200000,0.5242],[1617321600000,0.5181],[1617667200000,0.4387],[1617753600000,0.4347],[1617840000000,0.9741],[1617926400000,0.9189],[1618185600000,1.2549],[1618272000000,1.2611],[1618358400000,0.9232],[1618444800000,0.9406],[1618531200000,0.9951],[1618790400000,0.9863],[1618876800000,0.5831],[1618963200000,0.571],[1619049600000,0.9465],[1619136000000,0.8856],[1619395200000,0.6308],[1619481600000,0.6357],[1619568000000,2.1659],[1619654400000,2.0889],[1619740800000,0.8447],[1620259200000,0.8169],[1620345600000,1.9582],[1620604800000,1.9808],[1620691200000,0.4967],[1620777600000,0.5086],[1620864000000,1.3081],[1620950400000,1.302],[1621209600000,0.7299],[1621296000000,0.7924],[1621382400000,1.8979],[1621468800000,1.8885],[1621555200000,2.9332],[1621814400000,2.9853],[1621900800000,1.5517],[1621987200000,1.6007],[1622073600000,1.5954],[1622160000000,1.5041],[1622419200000,2.0462],[1622505600000,2.0145],[1622592000000,2.1121],[1622678400000,2.1178],[1622764800000,0.42],[1623024000000,0.4071],[1623110400000,0.5427],[1623196800000,0.5352],[1623283200000,0.5464],[1623369600000,0.5319],[1623715200000,1.0447],[1623801600000,1.0407],[1623888000000,0.5814],[1623974400000,0.5645],[1624233600000,1.1432],[1624320000000,1.1829],[1624406400000,0.3757],[1624492800000,0.3904],[1624579200000,2.3975],[1624838400000,2.5566],[1624924800000,0.4424],[1625011200000,0.455],[1625097600000,1.694],[1625184000000,1.6464],[1625443200000,1.2383],[1625529600000,1.3318],[1625616000000,1.7874],[1625702400000,1.7934],[1625788800000,0.6222],[1626048000000,0.6114],[1626134400000,0.9709],[1626220800000,0.9365],[1626307200000,0.7937],[1626393600000,0.8056],[1626652800000,0.9329],[1626739200000,0.9783],[1626825600000,1.1884],[1626912000000,0.9495],[1626998400000,1.4185],[1627257600000,1.3168],[1627344000000,1.5322],[1627430400000,1.3733],[1627516800000,1.7718],[1627603200000,1.6871],[1627862400000,1.8933],[1627948800000,1.6714],[1628035200000,0.6996],[1628121600000,0.6785],[1628208000000,0.7366],[1628467200000,0.8041],[1628553600000,0.6929],[1628640000000,0.7125],[1628726400000,1.0433],[1628812800000,1.0134],[1629072000000,2.621],[1629158400000,2.56],[1629244800000,2.4631],[1629331200000,2.4666],[1629417600000,0.8333],[1629676800000,0.7927],[1629763200000,0.5432],[1629849600000,0.479],[1629936000000,0.7272],[1630022400000,0.7712],[1630281600000,0.9769],[1630368000000,0.9756],[1630454400000,0.8143],[1630540800000,0.8331],[1630627200000,1.4693],[1630886400000,1.4268],[1630972800000,0.7311],[1631059200000,0.6412],[1631145600000,0.4173],[1631232000000,0.4126],[1631491200000,0.9589],[1631577600000,1.0686],[1631664000000,0.8247],[1631750400000,0.8356],[1631836800000,0.611],[1632268800000,0.6201],[1632355200000,0.5584],[1632441600000,0.5582],[1632700800000,1.8612],[1632787200000,1.8014],[1632873600000,1.2872],[1632960000000,1.2959],[1633651200000,0.9899],[1633910400000,0.9882],[1633996800000,1.2626],[1634083200000,1.3061],[1634169600000,1.261],[1634256000000,1.3578],[1634515200000,0.7773],[1634601600000,0.7974],[1634688000000,1.2472],[1634774400000,1.2732],[1634860800000,1.0015],[1635120000000,0.9793],[1635206400000,1.7779],[1635292800000,1.8385],[1635379200000,0.83],[1635465600000,0.9197],[1635724800000,0.5159],[1635811200000,0.5131],[1635897600000,0.6507],[1635984000000,0.6957],[1636070400000,0.683],[1636329600000,0.7111],[1636416000000,1.0209],[1636502400000,1.0501],[1636588800000,1.0547],[1636675200000,1.0226],[1636934400000,0.983],[1637020800000,0.9799],[1637107200000,1.2386],[1637193600000,1.2121],[1637280000000,1.2508],[1637539200000,1.2291],[1637625600000,0.8222],[1637712000000,0.8057],[1637798400000,0.7321],[1637884800000,0.709],[1638144000000,0.4991],[1638230400000,0.5073],[1638316800000,0.7335],[1638403200000,0.7116],[1638489600000,1.2024]]}],\"xAxis\":{\"title\":{\"text\":\"date\"},\"type\":\"datetime\"},\"plotOptions\":{\"series\":{\"compare\":\"percent\"}}}/bigcharts-data-end</pre></div><div class=\"type_title_left\"><p>因子拥挤度分析<i class=\"fa fa-question-circle-o\" title=\"衡量因子拥挤度。使用换手率衡量，换手率越高，拥挤度越高。\"></i></p></div><div id=\"bigchart-2d036b25d84a4fc585a51678c0d979ee\" class=\"bigchart\"></div><div class=\"bigchart-data\"><pre style=\"display:none\">bigcharts-data-start/{\"chart\":{\"height\":500,\"renderTo\":\"bigchart-2d036b25d84a4fc585a51678c0d979ee\"},\"legend\":{\"enabled\":true},\"title\":{\"text\":\"\\u6362\\u624b\\u7387\\u5206\\u6790\"},\"stock\":true,\"series\":[{\"name\":\"1\\u5206\\u4f4d\\u6570\",\"yAxis\":0,\"data\":[[1577923200000,null],[1578009600000,1.3733],[1578268800000,1.7656],[1578355200000,1.5468],[1578441600000,1.4812],[1578528000000,1.2913],[1578614400000,1.102],[1578873600000,1.2086],[1578960000000,1.3333],[1579046400000,1.0309],[1579132800000,1.0094],[1579219200000,0.7491],[1579478400000,0.9587],[1579564800000,1.013],[1579651200000,1.1316],[1579737600000,2.0749],[1580688000000,2.1368],[1580774400000,1.3565],[1580860800000,1.9773],[1580947200000,2.0691],[1581033600000,1.6408],[1581292800000,1.4603],[1581379200000,1.2661],[1581465600000,1.3229],[1581552000000,1.6764],[1581638400000,1.8459],[1581897600000,1.9874],[1581984000000,1.4495],[1582070400000,1.5179],[1582156800000,1.8116],[1582243200000,2.1321],[1582502400000,1.8526],[1582588800000,2.6756],[1582675200000,2.3189],[1582761600000,1.5928],[1582848000000,2.049],[1583107200000,2.0139],[1583193600000,1.5601],[1583280000000,1.4359],[1583366400000,1.7565],[1583452800000,1.5463],[1583712000000,2.0524],[1583798400000,1.8329],[1583884800000,1.188],[1583971200000,1.3564],[1584057600000,1.7804],[1584316800000,1.6225],[1584403200000,1.3268],[1584489600000,1.2501],[1584576000000,1.3265],[1584662400000,1.0318],[1584921600000,1.0613],[1585008000000,1.2551],[1585094400000,1.6261],[1585180800000,1.1708],[1585267200000,1.282],[1585526400000,1.3054],[1585612800000,0.9902],[1585699200000,0.9894],[1585785600000,1.0039],[1585872000000,0.8523],[1586217600000,0.8729],[1586304000000,0.9077],[1586390400000,0.7651],[1586476800000,0.7203],[1586736000000,0.8444],[1586822400000,1.2608],[1586908800000,1.0056],[1586995200000,0.9129],[1587081600000,0.8261],[1587340800000,0.6853],[1587427200000,0.9482],[1587513600000,0.7677],[1587600000000,0.7879],[1587686400000,0.8455],[1587945600000,0.8988],[1588032000000,1.2201],[1588118400000,0.8458],[1588204800000,1.1282],[1588723200000,0.9318],[1588809600000,0.7834],[1588896000000,1.1682],[1589155200000,1.0961],[1589241600000,0.9463],[1589328000000,0.8045],[1589414400000,0.557],[1589500800000,0.5196],[1589760000000,0.9641],[1589846400000,0.8008],[1589932800000,0.8944],[1590019200000,0.9583],[1590105600000,0.9839],[1590364800000,0.8106],[1590451200000,0.7048],[1590537600000,0.7684],[1590624000000,1.4139],[1590710400000,1.2424],[1590969600000,0.9718],[1591056000000,0.8795],[1591142400000,1.3096],[1591228800000,1.1151],[1591315200000,0.8375],[1591574400000,1.0457],[1591660800000,0.7945],[1591747200000,0.7552],[1591833600000,0.7537],[1591920000000,0.8398],[1592179200000,0.9453],[1592265600000,0.7563],[1592352000000,1.2532],[1592438400000,1.4018],[1592524800000,1.2559],[1592784000000,1.4925],[1592870400000,1.2729],[1592956800000,1.2091],[1593388800000,1.2502],[1593475200000,1.1702],[1593561600000,1.1984],[1593648000000,1.6721],[1593734400000,2.0225],[1593993600000,2.6664],[1594080000000,2.6397],[1594166400000,2.1426],[1594252800000,2.7752],[1594339200000,2.6323],[1594598400000,2.581],[1594684800000,2.542],[1594771200000,2.4302],[1594857600000,2.27],[1594944000000,1.9824],[1595203200000,2.0645],[1595289600000,1.6426],[1595376000000,1.9925],[1595462400000,1.749],[1595548800000,1.568],[1595808000000,1.8184],[1595894400000,1.7563],[1595980800000,1.6039],[1596067200000,1.4798],[1596153600000,1.0906],[1596412800000,1.7939],[1596499200000,1.5813],[1596585600000,1.3278],[1596672000000,1.8179],[1596758400000,1.731],[1597017600000,1.4427],[1597104000000,1.3741],[1597190400000,1.7538],[1597276800000,1.4506],[1597363200000,1.2737],[1597622400000,2.2134],[1597708800000,1.3838],[1597795200000,1.5828],[1597881600000,1.1539],[1597968000000,1.2003],[1598227200000,1.3498],[1598313600000,1.2903],[1598400000000,1.284],[1598486400000,0.9335],[1598572800000,1.1071],[1598832000000,1.3103],[1598918400000,1.0086],[1599004800000,0.9939],[1599091200000,1.2496],[1599177600000,1.043],[1599436800000,1.2557],[1599523200000,1.076],[1599609600000,1.0195],[1599696000000,1.0346],[1599782400000,0.7711],[1600041600000,0.791],[1600128000000,0.7194],[1600214400000,0.7747],[1600300800000,0.983],[1600387200000,1.1704],[1600646400000,0.7244],[1600732800000,0.7784],[1600819200000,0.9014],[1600905600000,0.9147],[1600992000000,0.792],[1601251200000,0.7461],[1601337600000,0.7511],[1601424000000,0.7358],[1602201600000,0.96],[1602460800000,1.4634],[1602547200000,0.7264],[1602633600000,0.7751],[1602720000000,0.8269],[1602806400000,0.8908],[1603065600000,0.8946],[1603152000000,0.7589],[1603238400000,0.6757],[1603324800000,0.5965],[1603411200000,0.7758],[1603670400000,0.7917],[1603756800000,0.7679],[1603843200000,1.0486],[1603929600000,0.8993],[1604016000000,0.9587],[1604275200000,1.1441],[1604361600000,1.0719],[1604448000000,0.741],[1604534400000,1.038],[1604620800000,0.8862],[1604880000000,1.197],[1604966400000,0.9384],[1605052800000,1.0142],[1605139200000,0.6678],[1605225600000,0.7722],[1605484800000,1.0209],[1605571200000,1.2477],[1605657600000,1.0556],[1605744000000,1.0478],[1605830400000,0.8669],[1606089600000,1.4038],[1606176000000,1.0394],[1606262400000,1.1216],[1606348800000,0.9068],[1606435200000,0.9605],[1606694400000,1.6232],[1606780800000,1.4283],[1606867200000,1.4284],[1606953600000,1.5298],[1607040000000,1.1823],[1607299200000,1.1093],[1607385600000,0.7341],[1607472000000,0.8844],[1607558400000,1.1308],[1607644800000,1.6886],[1607904000000,1.105],[1607990400000,0.9296],[1608076800000,0.7355],[1608163200000,0.865],[1608249600000,0.9024],[1608508800000,1.1026],[1608595200000,1.0406],[1608681600000,0.785],[1608768000000,1.1288],[1608854400000,1.0387],[1609113600000,1.0685],[1609200000000,1.184],[1609286400000,0.9075],[1609372800000,1.2104],[1609718400000,1.6851],[1609804800000,1.8457],[1609891200000,1.4689],[1609977600000,1.5233],[1610064000000,1.3109],[1610323200000,1.4046],[1610409600000,1.7526],[1610496000000,1.9955],[1610582400000,1.633],[1610668800000,1.5628],[1610928000000,1.4591],[1611014400000,1.6291],[1611100800000,1.5511],[1611187200000,1.789],[1611273600000,1.6944],[1611532800000,1.6841],[1611619200000,1.5475],[1611705600000,1.5501],[1611792000000,1.0318],[1611878400000,1.1227],[1612137600000,1.285],[1612224000000,1.1566],[1612310400000,1.4255],[1612396800000,1.6653],[1612483200000,1.1922],[1612742400000,1.2227],[1612828800000,1.3204],[1612915200000,1.5452],[1613606400000,1.556],[1613692800000,1.4472],[1613952000000,1.7018],[1614038400000,1.4167],[1614124800000,1.52],[1614211200000,1.3675],[1614297600000,1.3163],[1614556800000,1.3677],[1614643200000,1.1585],[1614729600000,1.0616],[1614816000000,1.1385],[1614902400000,1.2581],[1615161600000,1.0064],[1615248000000,1.0584],[1615334400000,0.9699],[1615420800000,1.0421],[1615507200000,1.0684],[1615766400000,1.0909],[1615852800000,1.159],[1615939200000,1.1546],[1616025600000,0.995],[1616112000000,1.2047],[1616371200000,1.1509],[1616457600000,1.4262],[1616544000000,0.8973],[1616630400000,0.7538],[1616716800000,0.8452],[1616976000000,0.8526],[1617062400000,1.2101],[1617148800000,1.0367],[1617235200000,0.7217],[1617321600000,0.7514],[1617667200000,0.6127],[1617753600000,0.8729],[1617840000000,0.8441],[1617926400000,0.7356],[1618185600000,0.9836],[1618272000000,0.9039],[1618358400000,0.6706],[1618444800000,0.6352],[1618531200000,0.8446],[1618790400000,1.0664],[1618876800000,0.8573],[1618963200000,0.7006],[1619049600000,1.1728],[1619136000000,1.2031],[1619395200000,1.3189],[1619481600000,1.111],[1619568000000,1.1174],[1619654400000,1.3247],[1619740800000,1.2023],[1620259200000,1.0788],[1620345600000,1.2432],[1620604800000,1.1907],[1620691200000,0.8849],[1620777600000,0.7895],[1620864000000,0.8791],[1620950400000,1.1966],[1621209600000,1.0668],[1621296000000,0.8263],[1621382400000,0.9203],[1621468800000,0.9584],[1621555200000,0.8803],[1621814400000,0.9964],[1621900800000,1.1413],[1621987200000,1.2157],[1622073600000,1.5654],[1622160000000,1.6082],[1622419200000,1.258],[1622505600000,1.1962],[1622592000000,1.0284],[1622678400000,0.887],[1622764800000,1.0208],[1623024000000,0.9472],[1623110400000,1.1946],[1623196800000,1.1415],[1623283200000,0.8986],[1623369600000,1.1634],[1623715200000,1.4807],[1623801600000,1.3167],[1623888000000,1.0615],[1623974400000,1.2026],[1624233600000,1.2347],[1624320000000,1.1827],[1624406400000,0.9072],[1624492800000,1.0233],[1624579200000,1.5193],[1624838400000,1.2581],[1624924800000,0.9981],[1625011200000,0.8374],[1625097600000,1.0427],[1625184000000,1.079],[1625443200000,1.3071],[1625529600000,1.6243],[1625616000000,1.4522],[1625702400000,1.642],[1625788800000,1.0706],[1626048000000,1.2704],[1626134400000,1.1802],[1626220800000,1.4015],[1626307200000,1.1571],[1626393600000,1.2407],[1626652800000,1.0367],[1626739200000,0.943],[1626825600000,1.3773],[1626912000000,1.4402],[1626998400000,1.7041],[1627257600000,1.8991],[1627344000000,2.2862],[1627430400000,1.9177],[1627516800000,1.5747],[1627603200000,1.7065],[1627862400000,2.4295],[1627948800000,2.2552],[1628035200000,1.5841],[1628121600000,1.4487],[1628208000000,0.9946],[1628467200000,1.3174],[1628553600000,1.2972],[1628640000000,1.2184],[1628726400000,1.1831],[1628812800000,1.1516],[1629072000000,1.4245],[1629158400000,1.6636],[1629244800000,1.5019],[1629331200000,1.5685],[1629417600000,1.8263],[1629676800000,1.6108],[1629763200000,1.1516],[1629849600000,1.1084],[1629936000000,1.52],[1630022400000,1.5006],[1630281600000,1.4459],[1630368000000,1.4534],[1630454400000,1.7238],[1630540800000,1.8444],[1630627200000,1.7129],[1630886400000,1.5225],[1630972800000,1.8377],[1631059200000,2.2422],[1631145600000,1.8291],[1631232000000,2.0899],[1631491200000,1.7622],[1631577600000,1.7407],[1631664000000,1.38],[1631750400000,1.6139],[1631836800000,1.0823],[1632268800000,0.9761],[1632355200000,1.0045],[1632441600000,0.9582],[1632700800000,1.4929],[1632787200000,1.1536],[1632873600000,1.1929],[1632960000000,0.9308],[1633651200000,1.1129],[1633910400000,1.0132],[1633996800000,1.3076],[1634083200000,1.0175],[1634169600000,0.9069],[1634256000000,1.1185],[1634515200000,0.9148],[1634601600000,0.9228],[1634688000000,0.9095],[1634774400000,0.9628],[1634860800000,1.0374],[1635120000000,1.1632],[1635206400000,1.1273],[1635292800000,1.1297],[1635379200000,0.9737],[1635465600000,1.1529],[1635724800000,1.2775],[1635811200000,1.346],[1635897600000,0.9886],[1635984000000,1.0938],[1636070400000,0.9708],[1636329600000,0.9869],[1636416000000,1.0721],[1636502400000,1.2436],[1636588800000,1.1515],[1636675200000,1.028],[1636934400000,1.2606],[1637020800000,1.411],[1637107200000,0.8648],[1637193600000,0.8869],[1637280000000,1.1047],[1637539200000,1.3703],[1637625600000,1.3439],[1637712000000,1.167],[1637798400000,1.0333],[1637884800000,1.0595],[1638144000000,1.0844],[1638230400000,1.1457],[1638316800000,0.9651],[1638403200000,0.9568],[1638489600000,1.0122]],\"color\":\"#F08B55\"},{\"name\":\"2\\u5206\\u4f4d\\u6570\",\"yAxis\":0,\"data\":[[1577923200000,null],[1578009600000,1.01],[1578268800000,1.1349],[1578355200000,1.8788],[1578441600000,2.3935],[1578528000000,1.7048],[1578614400000,1.4077],[1578873600000,0.9565],[1578960000000,1.1781],[1579046400000,1.7293],[1579132800000,1.504],[1579219200000,1.0416],[1579478400000,1.3006],[1579564800000,1.4876],[1579651200000,1.2856],[1579737600000,1.5389],[1580688000000,1.1211],[1580774400000,0.8904],[1580860800000,0.7838],[1580947200000,1.8887],[1581033600000,1.7425],[1581292800000,1.5697],[1581379200000,1.5781],[1581465600000,1.7781],[1581552000000,2.0383],[1581638400000,1.8007],[1581897600000,2.4577],[1581984000000,1.3933],[1582070400000,1.352],[1582156800000,1.9913],[1582243200000,2.399],[1582502400000,2.8033],[1582588800000,3.2653],[1582675200000,2.8763],[1582761600000,2.4011],[1582848000000,3.0465],[1583107200000,2.6243],[1583193600000,2.2428],[1583280000000,2.0209],[1583366400000,2.8343],[1583452800000,2.1331],[1583712000000,2.3602],[1583798400000,2.353],[1583884800000,1.0547],[1583971200000,1.0872],[1584057600000,1.8842],[1584316800000,1.6502],[1584403200000,0.9752],[1584489600000,0.9972],[1584576000000,1.4001],[1584662400000,1.2476],[1584921600000,0.8201],[1585008000000,0.7841],[1585094400000,1.0403],[1585180800000,0.7571],[1585267200000,1.1968],[1585526400000,1.1813],[1585612800000,0.802],[1585699200000,0.8351],[1585785600000,1.801],[1585872000000,1.4865],[1586217600000,0.9165],[1586304000000,0.8123],[1586390400000,1.0662],[1586476800000,0.9699],[1586736000000,0.8039],[1586822400000,0.9897],[1586908800000,0.9141],[1586995200000,0.8851],[1587081600000,1.3909],[1587340800000,1.0477],[1587427200000,0.7343],[1587513600000,0.5421],[1587600000000,0.8787],[1587686400000,0.9218],[1587945600000,0.7646],[1588032000000,0.8015],[1588118400000,1.2364],[1588204800000,1.9631],[1588723200000,1.4508],[1588809600000,1.2007],[1588896000000,0.8323],[1589155200000,0.8281],[1589241600000,1.1131],[1589328000000,1.1004],[1589414400000,1.3051],[1589500800000,1.375],[1589760000000,1.4823],[1589846400000,1.1253],[1589932800000,0.7295],[1590019200000,0.7249],[1590105600000,1.01],[1590364800000,0.7733],[1590451200000,0.7676],[1590537600000,0.7502],[1590624000000,0.6206],[1590710400000,0.5872],[1590969600000,1.4069],[1591056000000,1.6665],[1591142400000,1.7694],[1591228800000,1.1774],[1591315200000,0.7838],[1591574400000,0.8868],[1591660800000,1.0691],[1591747200000,1.1696],[1591833600000,1.4691],[1591920000000,1.4734],[1592179200000,1.78],[1592265600000,1.6486],[1592352000000,0.7838],[1592438400000,0.9198],[1592524800000,1.7409],[1592784000000,1.734],[1592870400000,1.083],[1592956800000,0.9579],[1593388800000,1.2292],[1593475200000,1.2694],[1593561600000,2.1723],[1593648000000,2.7892],[1593734400000,1.3761],[1593993600000,2.0743],[1594080000000,2.8822],[1594166400000,2.311],[1594252800000,1.9496],[1594339200000,1.7266],[1594598400000,2.2977],[1594684800000,2.185],[1594771200000,1.8297],[1594857600000,2.1416],[1594944000000,1.3895],[1595203200000,1.6433],[1595289600000,1.4677],[1595376000000,1.7124],[1595462400000,2.329],[1595548800000,2.3821],[1595808000000,1.7342],[1595894400000,1.6168],[1595980800000,1.4549],[1596067200000,1.7213],[1596153600000,2.0432],[1596412800000,2.0037],[1596499200000,2.037],[1596585600000,1.6269],[1596672000000,2.3842],[1596758400000,2.5164],[1597017600000,1.8328],[1597104000000,1.7983],[1597190400000,2.0056],[1597276800000,1.3289],[1597363200000,1.1235],[1597622400000,1.5596],[1597708800000,1.4514],[1597795200000,1.3206],[1597881600000,1.1521],[1597968000000,1.1826],[1598227200000,0.9538],[1598313600000,0.8368],[1598400000000,0.9823],[1598486400000,0.8457],[1598572800000,1.2624],[1598832000000,1.525],[1598918400000,1.1915],[1599004800000,1.3328],[1599091200000,1.2882],[1599177600000,1.0632],[1599436800000,1.2582],[1599523200000,1.008],[1599609600000,1.2079],[1599696000000,1.1245],[1599782400000,1.1112],[1600041600000,1.1404],[1600128000000,0.8276],[1600214400000,0.8519],[1600300800000,0.6512],[1600387200000,0.9579],[1600646400000,0.9262],[1600732800000,0.792],[1600819200000,0.8173],[1600905600000,0.8103],[1600992000000,0.7061],[1601251200000,0.6429],[1601337600000,0.6392],[1601424000000,0.6502],[1602201600000,0.9861],[1602460800000,1.238],[1602547200000,0.9795],[1602633600000,0.857],[1602720000000,0.8795],[1602806400000,0.872],[1603065600000,0.9028],[1603152000000,0.7239],[1603238400000,0.88],[1603324800000,0.8087],[1603411200000,0.8661],[1603670400000,0.9981],[1603756800000,0.7729],[1603843200000,1.0493],[1603929600000,1.1693],[1604016000000,1.3079],[1604275200000,1.4932],[1604361600000,1.2716],[1604448000000,0.8832],[1604534400000,1.0369],[1604620800000,1.2963],[1604880000000,1.954],[1604966400000,1.2775],[1605052800000,1.0921],[1605139200000,1.1278],[1605225600000,1.1323],[1605484800000,1.2998],[1605571200000,1.4442],[1605657600000,0.9105],[1605744000000,0.9687],[1605830400000,0.9781],[1606089600000,1.2418],[1606176000000,0.8989],[1606262400000,0.8868],[1606348800000,1.2154],[1606435200000,1.1907],[1606694400000,1.7038],[1606780800000,1.557],[1606867200000,1.0762],[1606953600000,1.0066],[1607040000000,1.2099],[1607299200000,1.0381],[1607385600000,1.208],[1607472000000,1.7193],[1607558400000,0.8499],[1607644800000,1.0093],[1607904000000,1.1321],[1607990400000,1.1711],[1608076800000,1.1906],[1608163200000,1.3413],[1608249600000,1.2352],[1608508800000,1.26],[1608595200000,1.4529],[1608681600000,1.5317],[1608768000000,1.1023],[1608854400000,0.9876],[1609113600000,1.2539],[1609200000000,1.3703],[1609286400000,1.1424],[1609372800000,1.4872],[1609718400000,1.4479],[1609804800000,1.4532],[1609891200000,1.6549],[1609977600000,1.7673],[1610064000000,2.0846],[1610323200000,2.3122],[1610409600000,1.9767],[1610496000000,2.0388],[1610582400000,2.238],[1610668800000,1.8488],[1610928000000,1.9745],[1611014400000,2.0892],[1611100800000,1.0591],[1611187200000,1.3851],[1611273600000,1.7068],[1611532800000,1.7458],[1611619200000,1.555],[1611705600000,1.3741],[1611792000000,1.4402],[1611878400000,1.5277],[1612137600000,1.3911],[1612224000000,1.5623],[1612310400000,1.1052],[1612396800000,1.0333],[1612483200000,1.9412],[1612742400000,1.8526],[1612828800000,1.5163],[1612915200000,1.44],[1613606400000,1.6641],[1613692800000,1.5519],[1613952000000,1.8061],[1614038400000,1.4437],[1614124800000,1.5595],[1614211200000,1.3052],[1614297600000,1.5302],[1614556800000,1.31],[1614643200000,1.2093],[1614729600000,1.0228],[1614816000000,1.3898],[1614902400000,1.3563],[1615161600000,1.5166],[1615248000000,1.6418],[1615334400000,1.1838],[1615420800000,1.3003],[1615507200000,1.3583],[1615766400000,1.1696],[1615852800000,0.8039],[1615939200000,0.7321],[1616025600000,0.9521],[1616112000000,0.9964],[1616371200000,1.052],[1616457600000,1.0217],[1616544000000,1.2615],[1616630400000,0.965],[1616716800000,0.9204],[1616976000000,0.8563],[1617062400000,0.5798],[1617148800000,0.6081],[1617235200000,0.8013],[1617321600000,0.9237],[1617667200000,0.9188],[1617753600000,1.0478],[1617840000000,1.137],[1617926400000,0.976],[1618185600000,0.8347],[1618272000000,0.7873],[1618358400000,0.8959],[1618444800000,0.9761],[1618531200000,0.8888],[1618790400000,1.2494],[1618876800000,1.2439],[1618963200000,1.0211],[1619049600000,0.9947],[1619136000000,0.9588],[1619395200000,1.5593],[1619481600000,1.1201],[1619568000000,0.9519],[1619654400000,1.0615],[1619740800000,1.3315],[1620259200000,1.2695],[1620345600000,0.7212],[1620604800000,0.7006],[1620691200000,1.1184],[1620777600000,0.9868],[1620864000000,0.7012],[1620950400000,0.7917],[1621209600000,1.1437],[1621296000000,0.8967],[1621382400000,0.6508],[1621468800000,0.8505],[1621555200000,0.8022],[1621814400000,0.915],[1621900800000,1.4959],[1621987200000,1.2752],[1622073600000,1.2748],[1622160000000,1.3762],[1622419200000,1.1282],[1622505600000,1.106],[1622592000000,1.2774],[1622678400000,1.1136],[1622764800000,1.1813],[1623024000000,1.2105],[1623110400000,1.1796],[1623196800000,0.907],[1623283200000,1.1475],[1623369600000,1.3364],[1623715200000,0.8843],[1623801600000,0.7061],[1623888000000,0.9553],[1623974400000,1.2073],[1624233600000,1.3905],[1624320000000,1.1416],[1624406400000,1.6174],[1624492800000,1.613],[1624579200000,1.4757],[1624838400000,1.1472],[1624924800000,1.7082],[1625011200000,1.5776],[1625097600000,1.1501],[1625184000000,1.1768],[1625443200000,1.4763],[1625529600000,1.6975],[1625616000000,1.0107],[1625702400000,1.2175],[1625788800000,1.5145],[1626048000000,1.7394],[1626134400000,1.3708],[1626220800000,1.4202],[1626307200000,1.6015],[1626393600000,1.7351],[1626652800000,1.4441],[1626739200000,1.1453],[1626825600000,1.1463],[1626912000000,1.3901],[1626998400000,1.4746],[1627257600000,1.5816],[1627344000000,2.3415],[1627430400000,1.7938],[1627516800000,1.2103],[1627603200000,1.5718],[1627862400000,1.5067],[1627948800000,1.4451],[1628035200000,1.5329],[1628121600000,1.503],[1628208000000,0.9897],[1628467200000,1.1309],[1628553600000,1.4523],[1628640000000,1.4805],[1628726400000,1.2718],[1628812800000,1.1405],[1629072000000,1.1132],[1629158400000,1.384],[1629244800000,1.6007],[1629331200000,1.6426],[1629417600000,1.3469],[1629676800000,1.3683],[1629763200000,1.6582],[1629849600000,1.4281],[1629936000000,1.1384],[1630022400000,1.0814],[1630281600000,1.6839],[1630368000000,1.4864],[1630454400000,1.8172],[1630540800000,1.5666],[1630627200000,1.7751],[1630886400000,1.5627],[1630972800000,1.3891],[1631059200000,1.5237],[1631145600000,1.6123],[1631232000000,1.7981],[1631491200000,1.953],[1631577600000,1.7862],[1631664000000,1.1198],[1631750400000,1.2623],[1631836800000,1.7478],[1632268800000,1.2883],[1632355200000,1.8047],[1632441600000,1.6866],[1632700800000,1.2232],[1632787200000,1.144],[1632873600000,1.3394],[1632960000000,0.9896],[1633651200000,1.2561],[1633910400000,1.1045],[1633996800000,1.0955],[1634083200000,0.8369],[1634169600000,0.9088],[1634256000000,1.1413],[1634515200000,1.2717],[1634601600000,1.085],[1634688000000,1.1171],[1634774400000,1.0634],[1634860800000,1.3912],[1635120000000,1.264],[1635206400000,0.8813],[1635292800000,0.9968],[1635379200000,1.0941],[1635465600000,1.3552],[1635724800000,1.4443],[1635811200000,1.3612],[1635897600000,1.3629],[1635984000000,1.2895],[1636070400000,1.377],[1636329600000,1.1089],[1636416000000,1.0356],[1636502400000,1.139],[1636588800000,1.1128],[1636675200000,0.8967],[1636934400000,1.1197],[1637020800000,0.9935],[1637107200000,1.0309],[1637193600000,1.0838],[1637280000000,0.769],[1637539200000,0.9369],[1637625600000,1.404],[1637712000000,1.3235],[1637798400000,1.2306],[1637884800000,1.1958],[1638144000000,1.3205],[1638230400000,1.3084],[1638316800000,1.0277],[1638403200000,1.3102],[1638489600000,1.054]],\"color\":\"#648FD5\"},{\"name\":\"3\\u5206\\u4f4d\\u6570\",\"yAxis\":0,\"data\":[[1577923200000,null],[1578009600000,1.5227],[1578268800000,1.7486],[1578355200000,0.8734],[1578441600000,0.8049],[1578528000000,0.7088],[1578614400000,0.6422],[1578873600000,0.9263],[1578960000000,1.0192],[1579046400000,1.2768],[1579132800000,1.1776],[1579219200000,1.1712],[1579478400000,1.3482],[1579564800000,1.2402],[1579651200000,1.5615],[1579737600000,1.1499],[1580688000000,1.7377],[1580774400000,1.0566],[1580860800000,1.0548],[1580947200000,1.3633],[1581033600000,1.1347],[1581292800000,1.294],[1581379200000,1.4295],[1581465600000,1.0408],[1581552000000,1.7201],[1581638400000,1.2106],[1581897600000,1.3492],[1581984000000,1.8617],[1582070400000,2.2489],[1582156800000,1.4101],[1582243200000,1.3582],[1582502400000,1.5194],[1582588800000,1.8073],[1582675200000,1.9246],[1582761600000,1.3772],[1582848000000,2.0303],[1583107200000,1.8161],[1583193600000,2.686],[1583280000000,2.1966],[1583366400000,1.699],[1583452800000,1.2206],[1583712000000,1.3751],[1583798400000,1.2794],[1583884800000,2.1797],[1583971200000,1.6407],[1584057600000,1.4995],[1584316800000,1.5089],[1584403200000,1.2057],[1584489600000,1.3666],[1584576000000,1.954],[1584662400000,1.5217],[1584921600000,1.6163],[1585008000000,1.7563],[1585094400000,1.5585],[1585180800000,1.1739],[1585267200000,1.2361],[1585526400000,1.291],[1585612800000,1.0681],[1585699200000,1.0491],[1585785600000,0.7532],[1585872000000,0.6647],[1586217600000,1.7643],[1586304000000,1.4819],[1586390400000,1.1293],[1586476800000,1.1752],[1586736000000,0.5914],[1586822400000,0.8296],[1586908800000,1.266],[1586995200000,1.2012],[1587081600000,1.3881],[1587340800000,1.0447],[1587427200000,1.0495],[1587513600000,0.9178],[1587600000000,0.8541],[1587686400000,1.0008],[1587945600000,0.8775],[1588032000000,0.9845],[1588118400000,0.9869],[1588204800000,1.2905],[1588723200000,2.1348],[1588809600000,1.7193],[1588896000000,0.6836],[1589155200000,0.8275],[1589241600000,0.8386],[1589328000000,0.7673],[1589414400000,0.8121],[1589500800000,0.8026],[1589760000000,0.8647],[1589846400000,0.7009],[1589932800000,1.4502],[1590019200000,1.2981],[1590105600000,0.9674],[1590364800000,0.8306],[1590451200000,0.8563],[1590537600000,0.8552],[1590624000000,0.5688],[1590710400000,0.4635],[1590969600000,1.3888],[1591056000000,1.4921],[1591142400000,1.0747],[1591228800000,0.8589],[1591315200000,1.0108],[1591574400000,0.9433],[1591660800000,0.7498],[1591747200000,0.7275],[1591833600000,1.0231],[1591920000000,1.1132],[1592179200000,0.9131],[1592265600000,0.7805],[1592352000000,0.9244],[1592438400000,1.2127],[1592524800000,1.178],[1592784000000,1.1676],[1592870400000,1.1993],[1592956800000,1.1158],[1593388800000,0.7116],[1593475200000,0.6713],[1593561600000,1.4689],[1593648000000,1.8635],[1593734400000,3.2471],[1593993600000,2.9297],[1594080000000,2.1823],[1594166400000,1.4467],[1594252800000,2.8174],[1594339200000,2.905],[1594598400000,2.0704],[1594684800000,2.0854],[1594771200000,1.7309],[1594857600000,1.8595],[1594944000000,1.3656],[1595203200000,1.4051],[1595289600000,1.0185],[1595376000000,1.0512],[1595462400000,1.5982],[1595548800000,2.1597],[1595808000000,0.9549],[1595894400000,0.8605],[1595980800000,1.7093],[1596067200000,1.7993],[1596153600000,1.9062],[1596412800000,2.1128],[1596499200000,2.2511],[1596585600000,1.7057],[1596672000000,1.1102],[1596758400000,1.0492],[1597017600000,1.6089],[1597104000000,1.6418],[1597190400000,1.3825],[1597276800000,0.9555],[1597363200000,1.3182],[1597622400000,1.8544],[1597708800000,1.618],[1597795200000,1.4206],[1597881600000,1.26],[1597968000000,1.02],[1598227200000,1.1122],[1598313600000,1.2654],[1598400000000,1.2319],[1598486400000,0.9919],[1598572800000,1.3686],[1598832000000,1.6401],[1598918400000,1.0393],[1599004800000,1.0433],[1599091200000,0.9347],[1599177600000,0.8109],[1599436800000,1.2216],[1599523200000,1.1937],[1599609600000,1.2444],[1599696000000,0.9956],[1599782400000,0.8127],[1600041600000,1.0278],[1600128000000,0.8681],[1600214400000,0.9174],[1600300800000,0.869],[1600387200000,0.9125],[1600646400000,1.1914],[1600732800000,1.1189],[1600819200000,0.6846],[1600905600000,0.8395],[1600992000000,0.5733],[1601251200000,0.5617],[1601337600000,0.5089],[1601424000000,0.5038],[1602201600000,0.7],[1602460800000,1.0976],[1602547200000,1.0322],[1602633600000,0.9255],[1602720000000,0.7434],[1602806400000,0.6864],[1603065600000,0.9939],[1603152000000,0.6447],[1603238400000,0.9417],[1603324800000,0.9645],[1603411200000,0.6676],[1603670400000,0.6997],[1603756800000,0.7994],[1603843200000,0.8922],[1603929600000,1.0065],[1604016000000,1.1527],[1604275200000,0.8664],[1604361600000,0.75],[1604448000000,1.0811],[1604534400000,1.2642],[1604620800000,1.4168],[1604880000000,1.468],[1604966400000,1.8023],[1605052800000,1.4347],[1605139200000,0.913],[1605225600000,1.0171],[1605484800000,1.0636],[1605571200000,0.9729],[1605657600000,1.0807],[1605744000000,0.9401],[1605830400000,0.8083],[1606089600000,1.0677],[1606176000000,1.3526],[1606262400000,1.6974],[1606348800000,0.9893],[1606435200000,1.0983],[1606694400000,2.1791],[1606780800000,1.7657],[1606867200000,1.0004],[1606953600000,0.9246],[1607040000000,1.0347],[1607299200000,1.0229],[1607385600000,0.9755],[1607472000000,1.0611],[1607558400000,1.0138],[1607644800000,1.2501],[1607904000000,0.709],[1607990400000,0.6458],[1608076800000,0.8583],[1608163200000,1.0394],[1608249600000,0.9949],[1608508800000,0.9819],[1608595200000,1.2044],[1608681600000,1.1554],[1608768000000,0.9514],[1608854400000,1.1246],[1609113600000,1.0335],[1609200000000,0.9169],[1609286400000,0.9301],[1609372800000,1.0622],[1609718400000,1.9349],[1609804800000,2.0382],[1609891200000,2.1669],[1609977600000,2.3577],[1610064000000,1.8263],[1610323200000,1.9817],[1610409600000,1.6844],[1610496000000,2.2588],[1610582400000,1.5622],[1610668800000,1.3547],[1610928000000,1.2401],[1611014400000,1.2804],[1611100800000,0.9663],[1611187200000,1.2156],[1611273600000,1.555],[1611532800000,1.6464],[1611619200000,1.2574],[1611705600000,1.1295],[1611792000000,1.6999],[1611878400000,1.5842],[1612137600000,1.1951],[1612224000000,1.2446],[1612310400000,1.2427],[1612396800000,1.2994],[1612483200000,0.9684],[1612742400000,0.8572],[1612828800000,1.0442],[1612915200000,1.0846],[1613606400000,1.2008],[1613692800000,1.2459],[1613952000000,1.4158],[1614038400000,1.0485],[1614124800000,1.6041],[1614211200000,1.3553],[1614297600000,1.7457],[1614556800000,1.2565],[1614643200000,1.1636],[1614729600000,1.1779],[1614816000000,0.9834],[1614902400000,0.9571],[1615161600000,1.6914],[1615248000000,1.661],[1615334400000,1.2858],[1615420800000,1.1488],[1615507200000,1.1452],[1615766400000,1.1307],[1615852800000,0.7307],[1615939200000,0.7761],[1616025600000,0.9705],[1616112000000,1.1355],[1616371200000,0.7161],[1616457600000,0.6032],[1616544000000,1.2144],[1616630400000,0.9315],[1616716800000,1.1213],[1616976000000,1.0439],[1617062400000,1.1683],[1617148800000,1.0432],[1617235200000,0.8205],[1617321600000,0.8659],[1617667200000,1.0799],[1617753600000,1.2071],[1617840000000,0.6749],[1617926400000,0.55],[1618185600000,0.8335],[1618272000000,0.6698],[1618358400000,1.1404],[1618444800000,1.0423],[1618531200000,0.6997],[1618790400000,0.9384],[1618876800000,0.9938],[1618963200000,0.7842],[1619049600000,0.6712],[1619136000000,0.6459],[1619395200000,0.7202],[1619481600000,0.6269],[1619568000000,0.5735],[1619654400000,0.8098],[1619740800000,0.8792],[1620259200000,0.8305],[1620345600000,1.0295],[1620604800000,1.0229],[1620691200000,0.9744],[1620777600000,0.8177],[1620864000000,0.9726],[1620950400000,1.3586],[1621209600000,1.3084],[1621296000000,0.9469],[1621382400000,0.9458],[1621468800000,1.1507],[1621555200000,0.9547],[1621814400000,1.0592],[1621900800000,1.3008],[1621987200000,1.3761],[1622073600000,0.7553],[1622160000000,0.801],[1622419200000,1.3698],[1622505600000,1.3488],[1622592000000,0.9157],[1622678400000,0.8776],[1622764800000,1.0472],[1623024000000,1.0901],[1623110400000,1.0894],[1623196800000,0.9498],[1623283200000,1.1545],[1623369600000,1.4584],[1623715200000,1.0037],[1623801600000,0.9706],[1623888000000,0.8204],[1623974400000,0.9411],[1624233600000,1.0125],[1624320000000,0.9743],[1624406400000,1.2165],[1624492800000,0.8997],[1624579200000,1.3203],[1624838400000,1.3018],[1624924800000,0.9907],[1625011200000,0.8712],[1625097600000,1.285],[1625184000000,1.4157],[1625443200000,1.049],[1625529600000,1.0008],[1625616000000,0.8789],[1625702400000,1.0209],[1625788800000,0.9798],[1626048000000,1.2092],[1626134400000,0.875],[1626220800000,0.8517],[1626307200000,0.935],[1626393600000,1.0604],[1626652800000,1.0037],[1626739200000,0.8443],[1626825600000,0.9372],[1626912000000,1.1549],[1626998400000,1.5779],[1627257600000,1.7473],[1627344000000,1.3492],[1627430400000,1.138],[1627516800000,1.6044],[1627603200000,1.492],[1627862400000,1.7938],[1627948800000,1.8224],[1628035200000,1.2229],[1628121600000,1.2704],[1628208000000,1.5801],[1628467200000,1.5685],[1628553600000,1.1389],[1628640000000,1.1849],[1628726400000,1.2814],[1628812800000,1.353],[1629072000000,0.973],[1629158400000,1.2458],[1629244800000,1.3128],[1629331200000,1.2479],[1629417600000,1.0149],[1629676800000,0.9017],[1629763200000,1.6464],[1629849600000,1.5127],[1629936000000,1.4302],[1630022400000,1.4218],[1630281600000,1.4185],[1630368000000,1.7867],[1630454400000,1.7071],[1630540800000,1.5235],[1630627200000,1.658],[1630886400000,1.4419],[1630972800000,1.2546],[1631059200000,1.3631],[1631145600000,1.15],[1631232000000,1.3336],[1631491200000,1.2641],[1631577600000,1.2277],[1631664000000,0.9695],[1631750400000,1.2364],[1631836800000,1.1453],[1632268800000,0.9349],[1632355200000,1.0068],[1632441600000,1.1225],[1632700800000,1.7889],[1632787200000,1.4478],[1632873600000,1.488],[1632960000000,1.2641],[1633651200000,1.0101],[1633910400000,1.0379],[1633996800000,1.0192],[1634083200000,0.9661],[1634169600000,0.9506],[1634256000000,1.0579],[1634515200000,0.8626],[1634601600000,0.8606],[1634688000000,0.8661],[1634774400000,0.8474],[1634860800000,0.771],[1635120000000,0.7697],[1635206400000,1.1048],[1635292800000,1.1171],[1635379200000,1.0601],[1635465600000,1.1445],[1635724800000,1.2597],[1635811200000,1.2823],[1635897600000,0.6724],[1635984000000,0.6582],[1636070400000,1.0418],[1636329600000,1.0048],[1636416000000,0.8602],[1636502400000,1.0293],[1636588800000,0.9298],[1636675200000,0.9247],[1636934400000,0.9458],[1637020800000,0.9299],[1637107200000,0.8809],[1637193600000,0.8298],[1637280000000,1.2461],[1637539200000,1.2008],[1637625600000,0.8928],[1637712000000,0.7946],[1637798400000,0.6082],[1637884800000,0.5912],[1638144000000,0.7726],[1638230400000,0.8542],[1638316800000,0.8914],[1638403200000,1.0584],[1638489600000,1.2308]],\"color\":\"#E06681\"},{\"name\":\"4\\u5206\\u4f4d\\u6570\",\"yAxis\":0,\"data\":[[1577923200000,null],[1578009600000,1.0518],[1578268800000,1.3435],[1578355200000,0.7468],[1578441600000,0.7888],[1578528000000,1.2194],[1578614400000,1.1688],[1578873600000,1.008],[1578960000000,1.1136],[1579046400000,0.7254],[1579132800000,0.7721],[1579219200000,0.8295],[1579478400000,1.1556],[1579564800000,1.0954],[1579651200000,1.1035],[1579737600000,1.4914],[1580688000000,2.2949],[1580774400000,0.9867],[1580860800000,0.8103],[1580947200000,1.2352],[1581033600000,1.2518],[1581292800000,1.0484],[1581379200000,0.9671],[1581465600000,0.689],[1581552000000,0.7835],[1581638400000,1.2697],[1581897600000,1.6254],[1581984000000,1.1858],[1582070400000,1.2116],[1582156800000,1.8619],[1582243200000,3.0574],[1582502400000,1.5229],[1582588800000,1.6818],[1582675200000,1.676],[1582761600000,1.4393],[1582848000000,0.9616],[1583107200000,0.9621],[1583193600000,1.2629],[1583280000000,0.9938],[1583366400000,1.4117],[1583452800000,1.1169],[1583712000000,1.1844],[1583798400000,0.9577],[1583884800000,1.4971],[1583971200000,1.4527],[1584057600000,1.4556],[1584316800000,1.4084],[1584403200000,1.8083],[1584489600000,1.6631],[1584576000000,1.1109],[1584662400000,0.8971],[1584921600000,1.3993],[1585008000000,1.5406],[1585094400000,1.8019],[1585180800000,1.3352],[1585267200000,0.9125],[1585526400000,0.876],[1585612800000,1.3659],[1585699200000,1.7381],[1585785600000,0.7638],[1585872000000,0.6345],[1586217600000,1.5399],[1586304000000,1.4165],[1586390400000,1.2605],[1586476800000,1.3536],[1586736000000,1.0439],[1586822400000,1.451],[1586908800000,1.0972],[1586995200000,1.019],[1587081600000,1.3535],[1587340800000,0.9143],[1587427200000,1.1032],[1587513600000,0.8879],[1587600000000,1.0181],[1587686400000,1.0356],[1587945600000,1.2193],[1588032000000,1.6523],[1588118400000,0.6686],[1588204800000,0.8744],[1588723200000,0.6906],[1588809600000,0.5323],[1588896000000,1.2674],[1589155200000,1.4515],[1589241600000,0.7242],[1589328000000,0.677],[1589414400000,0.7287],[1589500800000,0.7525],[1589760000000,1.0171],[1589846400000,0.9227],[1589932800000,0.8997],[1590019200000,0.8592],[1590105600000,0.9025],[1590364800000,0.7821],[1590451200000,0.6742],[1590537600000,0.758],[1590624000000,1.2273],[1590710400000,1.0367],[1590969600000,0.901],[1591056000000,0.776],[1591142400000,0.9917],[1591228800000,0.7115],[1591315200000,1.0087],[1591574400000,1.1646],[1591660800000,1.1206],[1591747200000,0.8739],[1591833600000,0.8451],[1591920000000,0.8367],[1592179200000,0.9197],[1592265600000,0.8681],[1592352000000,0.9099],[1592438400000,0.9778],[1592524800000,1.0472],[1592784000000,0.9861],[1592870400000,0.8444],[1592956800000,0.7987],[1593388800000,1.5508],[1593475200000,1.5202],[1593561600000,1.0355],[1593648000000,1.3078],[1593734400000,2.1954],[1593993600000,2.868],[1594080000000,2.5824],[1594166400000,2.0747],[1594252800000,2.0218],[1594339200000,1.7735],[1594598400000,2.8202],[1594684800000,3.3462],[1594771200000,2.4967],[1594857600000,2.5949],[1594944000000,1.9433],[1595203200000,2.0179],[1595289600000,1.971],[1595376000000,1.9329],[1595462400000,1.6683],[1595548800000,1.635],[1595808000000,1.2552],[1595894400000,1.07],[1595980800000,1.2778],[1596067200000,1.2167],[1596153600000,1.3187],[1596412800000,1.5205],[1596499200000,1.4285],[1596585600000,1.2764],[1596672000000,1.1739],[1596758400000,1.1208],[1597017600000,1.5718],[1597104000000,1.4253],[1597190400000,1.3696],[1597276800000,0.8964],[1597363200000,0.8548],[1597622400000,1.2651],[1597708800000,1.2163],[1597795200000,1.3916],[1597881600000,0.8885],[1597968000000,0.8398],[1598227200000,1.4507],[1598313600000,1.4096],[1598400000000,1.5658],[1598486400000,1.1484],[1598572800000,1.1447],[1598832000000,1.2574],[1598918400000,0.9662],[1599004800000,0.9649],[1599091200000,1.1194],[1599177600000,0.9349],[1599436800000,1.0137],[1599523200000,0.9267],[1599609600000,0.982],[1599696000000,0.8897],[1599782400000,0.6942],[1600041600000,0.6964],[1600128000000,0.8783],[1600214400000,0.9349],[1600300800000,1.0911],[1600387200000,1.5745],[1600646400000,1.1753],[1600732800000,0.8874],[1600819200000,0.6837],[1600905600000,0.6963],[1600992000000,0.8679],[1601251200000,0.7771],[1601337600000,0.9609],[1601424000000,0.9533],[1602201600000,0.9239],[1602460800000,1.2684],[1602547200000,0.8057],[1602633600000,0.8942],[1602720000000,0.6852],[1602806400000,0.6411],[1603065600000,0.9702],[1603152000000,0.8395],[1603238400000,0.6519],[1603324800000,0.7218],[1603411200000,1.0293],[1603670400000,0.8878],[1603756800000,0.7304],[1603843200000,0.8602],[1603929600000,0.6893],[1604016000000,0.6989],[1604275200000,1.0033],[1604361600000,0.9807],[1604448000000,0.8655],[1604534400000,1.0838],[1604620800000,0.8449],[1604880000000,0.9829],[1604966400000,1.081],[1605052800000,1.0972],[1605139200000,0.6904],[1605225600000,0.7274],[1605484800000,0.9926],[1605571200000,1.0559],[1605657600000,1.4457],[1605744000000,1.1043],[1605830400000,0.6849],[1606089600000,1.2506],[1606176000000,1.2353],[1606262400000,1.1542],[1606348800000,0.5952],[1606435200000,0.7758],[1606694400000,1.0748],[1606780800000,0.9512],[1606867200000,1.7685],[1606953600000,1.6524],[1607040000000,0.7954],[1607299200000,0.917],[1607385600000,0.7793],[1607472000000,0.8536],[1607558400000,0.8231],[1607644800000,1.0659],[1607904000000,0.8446],[1607990400000,0.7824],[1608076800000,0.705],[1608163200000,0.8181],[1608249600000,0.7959],[1608508800000,0.9832],[1608595200000,1.5449],[1608681600000,1.2971],[1608768000000,0.7532],[1608854400000,0.7523],[1609113600000,0.9746],[1609200000000,0.9539],[1609286400000,1.3128],[1609372800000,1.6582],[1609718400000,1.4912],[1609804800000,1.7438],[1609891200000,1.5589],[1609977600000,1.7223],[1610064000000,1.3715],[1610323200000,1.7849],[1610409600000,1.6591],[1610496000000,1.8069],[1610582400000,1.8123],[1610668800000,1.6501],[1610928000000,0.8952],[1611014400000,0.9639],[1611100800000,1.5665],[1611187200000,2.077],[1611273600000,1.8179],[1611532800000,1.716],[1611619200000,1.4104],[1611705600000,1.204],[1611792000000,1.1716],[1611878400000,1.2093],[1612137600000,1.2897],[1612224000000,1.2905],[1612310400000,1.5873],[1612396800000,1.5533],[1612483200000,1.0934],[1612742400000,0.936],[1612828800000,0.9972],[1612915200000,1.119],[1613606400000,1.8226],[1613692800000,1.6837],[1613952000000,1.5175],[1614038400000,1.2668],[1614124800000,1.6016],[1614211200000,1.6097],[1614297600000,0.8622],[1614556800000,0.7429],[1614643200000,1.1522],[1614729600000,1.0585],[1614816000000,1.2686],[1614902400000,1.2116],[1615161600000,1.1371],[1615248000000,1.201],[1615334400000,0.9355],[1615420800000,0.9246],[1615507200000,1.1702],[1615766400000,1.2099],[1615852800000,1.0228],[1615939200000,0.9778],[1616025600000,0.7337],[1616112000000,0.7877],[1616371200000,0.9772],[1616457600000,1.0337],[1616544000000,0.9979],[1616630400000,0.7254],[1616716800000,0.9212],[1616976000000,0.9172],[1617062400000,0.9225],[1617148800000,0.9162],[1617235200000,0.6858],[1617321600000,0.8332],[1617667200000,0.5031],[1617753600000,0.5445],[1617840000000,0.8396],[1617926400000,0.8719],[1618185600000,1.2059],[1618272000000,0.9606],[1618358400000,0.4656],[1618444800000,0.461],[1618531200000,0.6793],[1618790400000,1.0732],[1618876800000,0.8464],[1618963200000,0.6409],[1619049600000,0.741],[1619136000000,0.867],[1619395200000,0.9947],[1619481600000,0.8239],[1619568000000,1.304],[1619654400000,1.2801],[1619740800000,1.1869],[1620259200000,1.2312],[1620345600000,1.1401],[1620604800000,0.988],[1620691200000,0.6812],[1620777600000,0.5469],[1620864000000,0.7953],[1620950400000,1.1866],[1621209600000,1.0106],[1621296000000,0.7599],[1621382400000,0.9313],[1621468800000,1.0554],[1621555200000,1.2696],[1621814400000,1.1695],[1621900800000,1.3762],[1621987200000,1.234],[1622073600000,1.1792],[1622160000000,1.202],[1622419200000,1.1844],[1622505600000,1.2002],[1622592000000,1.2721],[1622678400000,1.3215],[1622764800000,0.7294],[1623024000000,0.7646],[1623110400000,0.908],[1623196800000,0.8295],[1623283200000,0.8028],[1623369600000,1.1024],[1623715200000,1.1837],[1623801600000,1.0347],[1623888000000,1.191],[1623974400000,1.5708],[1624233600000,0.9026],[1624320000000,0.9989],[1624406400000,1.269],[1624492800000,1.1838],[1624579200000,1.4669],[1624838400000,1.2924],[1624924800000,0.8505],[1625011200000,0.7709],[1625097600000,1.3125],[1625184000000,1.4331],[1625443200000,1.0238],[1625529600000,1.1346],[1625616000000,1.0351],[1625702400000,1.2061],[1625788800000,1.0521],[1626048000000,1.4834],[1626134400000,0.983],[1626220800000,1.0821],[1626307200000,1.0937],[1626393600000,1.1463],[1626652800000,1.0585],[1626739200000,0.8487],[1626825600000,1.2085],[1626912000000,1.5007],[1626998400000,1.6329],[1627257600000,2.0371],[1627344000000,1.396],[1627430400000,1.2821],[1627516800000,1.4885],[1627603200000,1.5204],[1627862400000,1.445],[1627948800000,1.3771],[1628035200000,1.1339],[1628121600000,1.2628],[1628208000000,1.4888],[1628467200000,1.7088],[1628553600000,1.2659],[1628640000000,1.2297],[1628726400000,1.1574],[1628812800000,1.0286],[1629072000000,1.2143],[1629158400000,1.3974],[1629244800000,1.1582],[1629331200000,1.0906],[1629417600000,1.2108],[1629676800000,1.0873],[1629763200000,1.3871],[1629849600000,1.0846],[1629936000000,1.3218],[1630022400000,1.2369],[1630281600000,1.6296],[1630368000000,1.7269],[1630454400000,1.627],[1630540800000,1.5139],[1630627200000,1.708],[1630886400000,1.585],[1630972800000,1.2109],[1631059200000,1.2908],[1631145600000,1.3977],[1631232000000,1.6658],[1631491200000,1.1961],[1631577600000,1.2045],[1631664000000,1.3213],[1631750400000,1.4216],[1631836800000,1.096],[1632268800000,1.0584],[1632355200000,1.3063],[1632441600000,1.3493],[1632700800000,1.1293],[1632787200000,0.8574],[1632873600000,1.0823],[1632960000000,0.8986],[1633651200000,1.1246],[1633910400000,1.0824],[1633996800000,0.9296],[1634083200000,0.8111],[1634169600000,0.8658],[1634256000000,0.9506],[1634515200000,0.9445],[1634601600000,0.9372],[1634688000000,1.1927],[1634774400000,1.0887],[1634860800000,0.7701],[1635120000000,0.7684],[1635206400000,0.9924],[1635292800000,1.189],[1635379200000,1.1193],[1635465600000,1.3483],[1635724800000,1.0837],[1635811200000,1.1537],[1635897600000,0.8492],[1635984000000,0.7888],[1636070400000,0.9216],[1636329600000,1.1807],[1636416000000,0.7983],[1636502400000,1.007],[1636588800000,1.3864],[1636675200000,1.2836],[1636934400000,0.9258],[1637020800000,0.8763],[1637107200000,1.122],[1637193600000,1.1952],[1637280000000,0.9112],[1637539200000,1.0662],[1637625600000,0.8547],[1637712000000,0.8844],[1637798400000,0.6742],[1637884800000,0.6388],[1638144000000,0.9169],[1638230400000,0.8429],[1638316800000,0.8076],[1638403200000,0.7286],[1638489600000,0.971]],\"color\":\"#E2D269\"},{\"name\":\"5\\u5206\\u4f4d\\u6570\",\"yAxis\":0,\"data\":[[1577923200000,null],[1578009600000,1.872],[1578268800000,2.1831],[1578355200000,1.5904],[1578441600000,1.7389],[1578528000000,1.4303],[1578614400000,1.1988],[1578873600000,1.4841],[1578960000000,2.1678],[1579046400000,0.6163],[1579132800000,0.5859],[1579219200000,1.9425],[1579478400000,1.6601],[1579564800000,1.2545],[1579651200000,1.15],[1579737600000,1.4151],[1580688000000,1.1974],[1580774400000,1.8461],[1580860800000,1.7597],[1580947200000,1.6497],[1581033600000,1.4871],[1581292800000,1.4682],[1581379200000,1.4941],[1581465600000,1.3092],[1581552000000,1.4368],[1581638400000,1.1722],[1581897600000,1.5232],[1581984000000,2.1083],[1582070400000,2.1025],[1582156800000,1.56],[1582243200000,1.761],[1582502400000,1.7982],[1582588800000,2.2099],[1582675200000,1.9181],[1582761600000,1.86],[1582848000000,1.9419],[1583107200000,1.8282],[1583193600000,1.7075],[1583280000000,1.3134],[1583366400000,2.322],[1583452800000,1.6738],[1583712000000,2.3539],[1583798400000,2.4737],[1583884800000,1.1688],[1583971200000,1.1273],[1584057600000,2.1148],[1584316800000,1.6311],[1584403200000,1.4791],[1584489600000,1.4262],[1584576000000,2.1197],[1584662400000,1.5931],[1584921600000,1.0648],[1585008000000,1.2552],[1585094400000,0.9537],[1585180800000,0.6623],[1585267200000,0.9819],[1585526400000,1.0567],[1585612800000,0.7622],[1585699200000,0.7691],[1585785600000,1.0895],[1585872000000,1.0164],[1586217600000,0.9886],[1586304000000,0.8124],[1586390400000,0.8667],[1586476800000,0.8603],[1586736000000,0.6124],[1586822400000,0.7936],[1586908800000,1.083],[1586995200000,0.7918],[1587081600000,0.9842],[1587340800000,0.7835],[1587427200000,0.9513],[1587513600000,0.883],[1587600000000,0.9668],[1587686400000,1.0459],[1587945600000,0.7915],[1588032000000,1.0365],[1588118400000,0.5863],[1588204800000,0.9283],[1588723200000,1.1615],[1588809600000,0.9117],[1588896000000,1.8252],[1589155200000,1.6148],[1589241600000,1.1312],[1589328000000,1.0618],[1589414400000,1.0342],[1589500800000,1.1587],[1589760000000,1.4043],[1589846400000,1.1577],[1589932800000,0.955],[1590019200000,0.8601],[1590105600000,0.7893],[1590364800000,0.6994],[1590451200000,0.8924],[1590537600000,0.8557],[1590624000000,0.7038],[1590710400000,0.6525],[1590969600000,1.0629],[1591056000000,0.9474],[1591142400000,1.0542],[1591228800000,0.7922],[1591315200000,1.0024],[1591574400000,1.1957],[1591660800000,1.2754],[1591747200000,1.3094],[1591833600000,1.6521],[1591920000000,1.632],[1592179200000,1.1079],[1592265600000,1.0183],[1592352000000,1.1591],[1592438400000,1.3073],[1592524800000,1.5783],[1592784000000,1.6651],[1592870400000,1.6879],[1592956800000,1.684],[1593388800000,0.9966],[1593475200000,1.0849],[1593561600000,1.4727],[1593648000000,1.8982],[1593734400000,1.7382],[1593993600000,2.3445],[1594080000000,3.0594],[1594166400000,2.5973],[1594252800000,2.7254],[1594339200000,2.2896],[1594598400000,2.1711],[1594684800000,1.7977],[1594771200000,2.5092],[1594857600000,2.452],[1594944000000,1.5174],[1595203200000,1.666],[1595289600000,1.6024],[1595376000000,1.9588],[1595462400000,1.9197],[1595548800000,2.0198],[1595808000000,1.0712],[1595894400000,1.1225],[1595980800000,1.4606],[1596067200000,1.2947],[1596153600000,0.9707],[1596412800000,1.5327],[1596499200000,1.4163],[1596585600000,1.198],[1596672000000,1.94],[1596758400000,1.9221],[1597017600000,1.6371],[1597104000000,1.5134],[1597190400000,1.5251],[1597276800000,1.2492],[1597363200000,1.2416],[1597622400000,2.3068],[1597708800000,1.2333],[1597795200000,1.3159],[1597881600000,1.43],[1597968000000,1.4723],[1598227200000,0.9054],[1598313600000,0.9109],[1598400000000,0.919],[1598486400000,0.9024],[1598572800000,1.1713],[1598832000000,1.4179],[1598918400000,1.3079],[1599004800000,1.3451],[1599091200000,1.0023],[1599177600000,0.9204],[1599436800000,1.0504],[1599523200000,0.9917],[1599609600000,1.2527],[1599696000000,1.0935],[1599782400000,0.8627],[1600041600000,0.8434],[1600128000000,0.7276],[1600214400000,0.6792],[1600300800000,0.7995],[1600387200000,1.1559],[1600646400000,0.8466],[1600732800000,0.9414],[1600819200000,0.7835],[1600905600000,0.8372],[1600992000000,0.7077],[1601251200000,0.6074],[1601337600000,0.6186],[1601424000000,0.5881],[1602201600000,0.9443],[1602460800000,1.2629],[1602547200000,1.2655],[1602633600000,1.0871],[1602720000000,1.1829],[1602806400000,1.0551],[1603065600000,0.877],[1603152000000,0.8065],[1603238400000,0.7574],[1603324800000,0.7665],[1603411200000,0.6532],[1603670400000,0.7043],[1603756800000,0.6151],[1603843200000,0.6794],[1603929600000,0.9645],[1604016000000,1.2481],[1604275200000,0.9962],[1604361600000,0.9441],[1604448000000,0.8294],[1604534400000,0.9483],[1604620800000,1.1131],[1604880000000,1.4644],[1604966400000,1.2602],[1605052800000,1.0921],[1605139200000,0.9813],[1605225600000,1.2607],[1605484800000,1.1198],[1605571200000,1.2746],[1605657600000,1.1174],[1605744000000,0.9707],[1605830400000,1.2488],[1606089600000,1.9731],[1606176000000,0.8503],[1606262400000,0.9561],[1606348800000,1.1543],[1606435200000,1.1493],[1606694400000,1.3245],[1606780800000,1.0324],[1606867200000,0.9264],[1606953600000,0.9011],[1607040000000,1.1299],[1607299200000,1.0411],[1607385600000,0.8975],[1607472000000,1.0305],[1607558400000,0.856],[1607644800000,1.0787],[1607904000000,0.9025],[1607990400000,0.8457],[1608076800000,1.2247],[1608163200000,1.3285],[1608249600000,1.041],[1608508800000,1.1821],[1608595200000,1.1899],[1608681600000,1.1148],[1608768000000,1.0934],[1608854400000,0.9774],[1609113600000,1.0664],[1609200000000,1.0761],[1609286400000,1.4265],[1609372800000,1.5436],[1609718400000,1.6571],[1609804800000,2.0377],[1609891200000,1.1818],[1609977600000,1.3083],[1610064000000,1.4233],[1610323200000,1.7416],[1610409600000,1.5023],[1610496000000,1.665],[1610582400000,1.5097],[1610668800000,1.5956],[1610928000000,1.5291],[1611014400000,1.5538],[1611100800000,1.1264],[1611187200000,1.4502],[1611273600000,1.3819],[1611532800000,1.5813],[1611619200000,1.5903],[1611705600000,1.3837],[1611792000000,1.3418],[1611878400000,1.4866],[1612137600000,1.2226],[1612224000000,1.1522],[1612310400000,1.1195],[1612396800000,1.1793],[1612483200000,1.6112],[1612742400000,1.4502],[1612828800000,1.3368],[1612915200000,1.1939],[1613606400000,1.4877],[1613692800000,1.3998],[1613952000000,1.9458],[1614038400000,1.6806],[1614124800000,1.0686],[1614211200000,1.1017],[1614297600000,1.2593],[1614556800000,1.0896],[1614643200000,1.1455],[1614729600000,1.0107],[1614816000000,1.3399],[1614902400000,1.1978],[1615161600000,1.488],[1615248000000,1.5567],[1615334400000,0.9979],[1615420800000,1.2718],[1615507200000,1.063],[1615766400000,1.0298],[1615852800000,1.1582],[1615939200000,0.9569],[1616025600000,0.8517],[1616112000000,0.9267],[1616371200000,0.9918],[1616457600000,0.8833],[1616544000000,0.9468],[1616630400000,0.8669],[1616716800000,1.1082],[1616976000000,1.0369],[1617062400000,0.8055],[1617148800000,0.8259],[1617235200000,0.9511],[1617321600000,1.0556],[1617667200000,0.8054],[1617753600000,0.8734],[1617840000000,0.9893],[1617926400000,0.8944],[1618185600000,0.9974],[1618272000000,0.8193],[1618358400000,0.7564],[1618444800000,0.6968],[1618531200000,1.0591],[1618790400000,1.2941],[1618876800000,1.0486],[1618963200000,1.1553],[1619049600000,0.814],[1619136000000,0.8998],[1619395200000,1.4568],[1619481600000,1.2721],[1619568000000,0.8464],[1619654400000,0.945],[1619740800000,1.2258],[1620259200000,0.9954],[1620345600000,1.142],[1620604800000,1.0745],[1620691200000,0.9781],[1620777600000,0.9329],[1620864000000,1.0383],[1620950400000,1.149],[1621209600000,1.0205],[1621296000000,0.7677],[1621382400000,0.8954],[1621468800000,1.0489],[1621555200000,0.7052],[1621814400000,0.7159],[1621900800000,1.4656],[1621987200000,1.4015],[1622073600000,0.9977],[1622160000000,1.1974],[1622419200000,0.9223],[1622505600000,0.9345],[1622592000000,0.9805],[1622678400000,0.9957],[1622764800000,1.2243],[1623024000000,1.2176],[1623110400000,0.9636],[1623196800000,0.8521],[1623283200000,1.1994],[1623369600000,1.3898],[1623715200000,0.8776],[1623801600000,0.7302],[1623888000000,1.3517],[1623974400000,1.5585],[1624233600000,1.484],[1624320000000,1.3084],[1624406400000,1.2842],[1624492800000,1.3553],[1624579200000,1.0525],[1624838400000,1.1311],[1624924800000,1.249],[1625011200000,1.1949],[1625097600000,1.1184],[1625184000000,1.0243],[1625443200000,0.9093],[1625529600000,0.9028],[1625616000000,1.3481],[1625702400000,1.6065],[1625788800000,1.1781],[1626048000000,1.4235],[1626134400000,1.4806],[1626220800000,1.3285],[1626307200000,1.2806],[1626393600000,1.2738],[1626652800000,1.381],[1626739200000,1.1617],[1626825600000,1.4984],[1626912000000,1.5777],[1626998400000,1.2775],[1627257600000,1.2983],[1627344000000,1.8183],[1627430400000,1.5472],[1627516800000,1.0015],[1627603200000,1.0622],[1627862400000,1.4776],[1627948800000,1.3023],[1628035200000,1.1753],[1628121600000,1.2252],[1628208000000,1.2276],[1628467200000,1.2208],[1628553600000,1.6017],[1628640000000,1.3885],[1628726400000,1.2692],[1628812800000,1.3235],[1629072000000,1.1371],[1629158400000,1.5041],[1629244800000,1.5715],[1629331200000,1.5555],[1629417600000,1.481],[1629676800000,1.668],[1629763200000,1.1515],[1629849600000,1.1842],[1629936000000,1.0568],[1630022400000,1.0822],[1630281600000,1.5943],[1630368000000,1.5437],[1630454400000,2.1096],[1630540800000,1.7817],[1630627200000,1.6393],[1630886400000,1.7838],[1630972800000,1.6463],[1631059200000,1.7462],[1631145600000,1.2866],[1631232000000,1.5699],[1631491200000,1.6381],[1631577600000,1.5471],[1631664000000,1.4571],[1631750400000,1.5846],[1631836800000,1.4138],[1632268800000,1.2766],[1632355200000,1.252],[1632441600000,1.1677],[1632700800000,1.195],[1632787200000,1.0189],[1632873600000,0.8809],[1632960000000,0.779],[1633651200000,1.1516],[1633910400000,1.1383],[1633996800000,1.2008],[1634083200000,1.0327],[1634169600000,0.8086],[1634256000000,1.0252],[1634515200000,1.0836],[1634601600000,0.9893],[1634688000000,0.6725],[1634774400000,0.654],[1634860800000,0.9801],[1635120000000,1.0513],[1635206400000,0.964],[1635292800000,1.0324],[1635379200000,1.2698],[1635465600000,1.2524],[1635724800000,1.3126],[1635811200000,1.4445],[1635897600000,1.1662],[1635984000000,1.2709],[1636070400000,1.1628],[1636329600000,0.8952],[1636416000000,1.0665],[1636502400000,0.9871],[1636588800000,1.1296],[1636675200000,0.9585],[1636934400000,0.9532],[1637020800000,1.09],[1637107200000,0.7153],[1637193600000,0.7861],[1637280000000,0.8493],[1637539200000,1.0627],[1637625600000,1.0478],[1637712000000,0.942],[1637798400000,1.1703],[1637884800000,1.0887],[1638144000000,1.1909],[1638230400000,1.1131],[1638316800000,1.1007],[1638403200000,1.0647],[1638489600000,0.8227]],\"color\":\"#4A8E8E\"},{\"name\":\"\\u6700\\u5c0f\\/\\u6700\\u5927\\u5206\\u4f4d\",\"yAxis\":0,\"data\":[[1577923200000,null],[1578009600000,0.7336],[1578268800000,0.8088],[1578355200000,0.9726],[1578441600000,0.8518],[1578528000000,0.9028],[1578614400000,0.9193],[1578873600000,0.8144],[1578960000000,0.615],[1579046400000,1.6726],[1579132800000,1.7227],[1579219200000,0.3856],[1579478400000,0.5775],[1579564800000,0.8075],[1579651200000,0.9839],[1579737600000,1.4663],[1580688000000,1.7845],[1580774400000,0.7348],[1580860800000,1.1237],[1580947200000,1.2542],[1581033600000,1.1033],[1581292800000,0.9946],[1581379200000,0.8474],[1581465600000,1.0105],[1581552000000,1.1668],[1581638400000,1.5746],[1581897600000,1.3048],[1581984000000,0.6875],[1582070400000,0.722],[1582156800000,1.1613],[1582243200000,1.2108],[1582502400000,1.0302],[1582588800000,1.2107],[1582675200000,1.209],[1582761600000,0.8563],[1582848000000,1.0552],[1583107200000,1.1016],[1583193600000,0.9136],[1583280000000,1.0933],[1583366400000,0.7565],[1583452800000,0.9238],[1583712000000,0.8719],[1583798400000,0.741],[1583884800000,1.0165],[1583971200000,1.2032],[1584057600000,0.8419],[1584316800000,0.9947],[1584403200000,0.897],[1584489600000,0.8765],[1584576000000,0.6258],[1584662400000,0.6477],[1584921600000,0.9967],[1585008000000,0.9999],[1585094400000,1.7051],[1585180800000,1.7677],[1585267200000,1.3057],[1585526400000,1.2354],[1585612800000,1.299],[1585699200000,1.2864],[1585785600000,0.9214],[1585872000000,0.8385],[1586217600000,0.8829],[1586304000000,1.1174],[1586390400000,0.8827],[1586476800000,0.8373],[1586736000000,1.3788],[1586822400000,1.5887],[1586908800000,0.9285],[1586995200000,1.1529],[1587081600000,0.8394],[1587340800000,0.8747],[1587427200000,0.9968],[1587513600000,0.8694],[1587600000000,0.8149],[1587686400000,0.8084],[1587945600000,1.1355],[1588032000000,1.1772],[1588118400000,1.4427],[1588204800000,1.2154],[1588723200000,0.8023],[1588809600000,0.8592],[1588896000000,0.64],[1589155200000,0.6788],[1589241600000,0.8366],[1589328000000,0.7577],[1589414400000,0.5386],[1589500800000,0.4485],[1589760000000,0.6865],[1589846400000,0.6917],[1589932800000,0.9365],[1590019200000,1.1142],[1590105600000,1.2466],[1590364800000,1.159],[1590451200000,0.7897],[1590537600000,0.8979],[1590624000000,2.009],[1590710400000,1.904],[1590969600000,0.9143],[1591056000000,0.9282],[1591142400000,1.2423],[1591228800000,1.4077],[1591315200000,0.8356],[1591574400000,0.8745],[1591660800000,0.623],[1591747200000,0.5767],[1591833600000,0.4562],[1591920000000,0.5146],[1592179200000,0.8533],[1592265600000,0.7428],[1592352000000,1.0811],[1592438400000,1.0723],[1592524800000,0.7957],[1592784000000,0.8964],[1592870400000,0.7541],[1592956800000,0.718],[1593388800000,1.2545],[1593475200000,1.0786],[1593561600000,0.8138],[1593648000000,0.8809],[1593734400000,1.1636],[1593993600000,1.1373],[1594080000000,0.8628],[1594166400000,0.8249],[1594252800000,1.0183],[1594339200000,1.1497],[1594598400000,1.1888],[1594684800000,1.414],[1594771200000,0.9685],[1594857600000,0.9258],[1594944000000,1.3065],[1595203200000,1.2392],[1595289600000,1.0251],[1595376000000,1.0172],[1595462400000,0.9111],[1595548800000,0.7763],[1595808000000,1.6975],[1595894400000,1.5647],[1595980800000,1.0981],[1596067200000,1.1429],[1596153600000,1.1235],[1596412800000,1.1704],[1596499200000,1.1165],[1596585600000,1.1083],[1596672000000,0.9371],[1596758400000,0.9006],[1597017600000,0.8813],[1597104000000,0.9079],[1597190400000,1.15],[1597276800000,1.1612],[1597363200000,1.0258],[1597622400000,0.9595],[1597708800000,1.122],[1597795200000,1.2028],[1597881600000,0.807],[1597968000000,0.8152],[1598227200000,1.4909],[1598313600000,1.4165],[1598400000000,1.3971],[1598486400000,1.0345],[1598572800000,0.9451],[1598832000000,0.9241],[1598918400000,0.7711],[1599004800000,0.7389],[1599091200000,1.2467],[1599177600000,1.1332],[1599436800000,1.1955],[1599523200000,1.0849],[1599609600000,0.8138],[1599696000000,0.9461],[1599782400000,0.8938],[1600041600000,0.9379],[1600128000000,0.9887],[1600214400000,1.1407],[1600300800000,1.2295],[1600387200000,1.0125],[1600646400000,0.8556],[1600732800000,0.8268],[1600819200000,1.1504],[1600905600000,1.0927],[1600992000000,1.1192],[1601251200000,1.2284],[1601337600000,1.2142],[1601424000000,1.2511],[1602201600000,1.0166],[1602460800000,1.1587],[1602547200000,0.574],[1602633600000,0.713],[1602720000000,0.6991],[1602806400000,0.8443],[1603065600000,1.02],[1603152000000,0.941],[1603238400000,0.8921],[1603324800000,0.7783],[1603411200000,1.1877],[1603670400000,1.1241],[1603756800000,1.2484],[1603843200000,1.5434],[1603929600000,0.9324],[1604016000000,0.7681],[1604275200000,1.1484],[1604361600000,1.1353],[1604448000000,0.8934],[1604534400000,1.0945],[1604620800000,0.7961],[1604880000000,0.8174],[1604966400000,0.7447],[1605052800000,0.9286],[1605139200000,0.6805],[1605225600000,0.6125],[1605484800000,0.9116],[1605571200000,0.9789],[1605657600000,0.9447],[1605744000000,1.0794],[1605830400000,0.6942],[1606089600000,0.7115],[1606176000000,1.2224],[1606262400000,1.1731],[1606348800000,0.7856],[1606435200000,0.8358],[1606694400000,1.2255],[1606780800000,1.3834],[1606867200000,1.5419],[1606953600000,1.6976],[1607040000000,1.0464],[1607299200000,1.0655],[1607385600000,0.8179],[1607472000000,0.8582],[1607558400000,1.3211],[1607644800000,1.5654],[1607904000000,1.2244],[1607990400000,1.0992],[1608076800000,0.6006],[1608163200000,0.6511],[1608249600000,0.8669],[1608508800000,0.9327],[1608595200000,0.8745],[1608681600000,0.7042],[1608768000000,1.0324],[1608854400000,1.0627],[1609113600000,1.002],[1609200000000,1.1002],[1609286400000,0.6362],[1609372800000,0.7842],[1609718400000,1.0169],[1609804800000,0.9058],[1609891200000,1.2429],[1609977600000,1.1644],[1610064000000,0.921],[1610323200000,0.8065],[1610409600000,1.1666],[1610496000000,1.1985],[1610582400000,1.0817],[1610668800000,0.9795],[1610928000000,0.9543],[1611014400000,1.0484],[1611100800000,1.3771],[1611187200000,1.2337],[1611273600000,1.2261],[1611532800000,1.065],[1611619200000,0.9731],[1611705600000,1.1203],[1611792000000,0.7689],[1611878400000,0.7552],[1612137600000,1.051],[1612224000000,1.0038],[1612310400000,1.2734],[1612396800000,1.4121],[1612483200000,0.74],[1612742400000,0.8431],[1612828800000,0.9878],[1612915200000,1.2942],[1613606400000,1.0459],[1613692800000,1.0338],[1613952000000,0.8746],[1614038400000,0.843],[1614124800000,1.4224],[1614211200000,1.2413],[1614297600000,1.0452],[1614556800000,1.2552],[1614643200000,1.0113],[1614729600000,1.0504],[1614816000000,0.8497],[1614902400000,1.0503],[1615161600000,0.6763],[1615248000000,0.6799],[1615334400000,0.9719],[1615420800000,0.8194],[1615507200000,1.0051],[1615766400000,1.0593],[1615852800000,1.0007],[1615939200000,1.2065],[1616025600000,1.1683],[1616112000000,1.3],[1616371200000,1.1604],[1616457600000,1.6146],[1616544000000,0.9477],[1616630400000,0.8696],[1616716800000,0.7627],[1616976000000,0.8223],[1617062400000,1.5023],[1617148800000,1.2552],[1617235200000,0.7588],[1617321600000,0.7118],[1617667200000,0.7608],[1617753600000,0.9995],[1617840000000,0.8532],[1617926400000,0.8224],[1618185600000,0.9862],[1618272000000,1.1032],[1618358400000,0.8865],[1618444800000,0.9115],[1618531200000,0.7975],[1618790400000,0.8241],[1618876800000,0.8176],[1618963200000,0.6065],[1619049600000,1.4407],[1619136000000,1.337],[1619395200000,0.9053],[1619481600000,0.8734],[1619568000000,1.3202],[1619654400000,1.4018],[1619740800000,0.9809],[1620259200000,1.0838],[1620345600000,1.0885],[1620604800000,1.1082],[1620691200000,0.9047],[1620777600000,0.8463],[1620864000000,0.8466],[1620950400000,1.0414],[1621209600000,1.0453],[1621296000000,1.0763],[1621382400000,1.0278],[1621468800000,0.9137],[1621555200000,1.2484],[1621814400000,1.3918],[1621900800000,0.7787],[1621987200000,0.8674],[1622073600000,1.569],[1622160000000,1.3431],[1622419200000,1.364],[1622505600000,1.28],[1622592000000,1.0489],[1622678400000,0.8908],[1622764800000,0.8337],[1623024000000,0.7779],[1623110400000,1.2397],[1623196800000,1.3397],[1623283200000,0.7492],[1623369600000,0.8371],[1623715200000,1.6873],[1623801600000,1.8031],[1623888000000,0.7853],[1623974400000,0.7716],[1624233600000,0.832],[1624320000000,0.9039],[1624406400000,0.7065],[1624492800000,0.755],[1624579200000,1.4435],[1624838400000,1.1123],[1624924800000,0.7991],[1625011200000,0.7008],[1625097600000,0.9323],[1625184000000,1.0533],[1625443200000,1.4375],[1625529600000,1.7992],[1625616000000,1.0773],[1625702400000,1.0221],[1625788800000,0.9088],[1626048000000,0.8925],[1626134400000,0.7971],[1626220800000,1.055],[1626307200000,0.9036],[1626393600000,0.974],[1626652800000,0.7507],[1626739200000,0.8117],[1626825600000,0.9192],[1626912000000,0.9128],[1626998400000,1.3339],[1627257600000,1.4627],[1627344000000,1.2573],[1627430400000,1.2395],[1627516800000,1.5723],[1627603200000,1.6066],[1627862400000,1.6442],[1627948800000,1.7317],[1628035200000,1.3479],[1628121600000,1.1824],[1628208000000,0.8102],[1628467200000,1.0792],[1628553600000,0.8099],[1628640000000,0.8775],[1628726400000,0.9321],[1628812800000,0.8701],[1629072000000,1.2528],[1629158400000,1.106],[1629244800000,0.9557],[1629331200000,1.0084],[1629417600000,1.2331],[1629676800000,0.9657],[1629763200000,1.0001],[1629849600000,0.936],[1629936000000,1.4383],[1630022400000,1.3867],[1630281600000,0.9069],[1630368000000,0.9415],[1630454400000,0.8171],[1630540800000,1.0352],[1630627200000,1.0449],[1630886400000,0.8536],[1630972800000,1.1162],[1631059200000,1.2841],[1631145600000,1.4217],[1631232000000,1.3312],[1631491200000,1.0757],[1631577600000,1.1252],[1631664000000,0.9471],[1631750400000,1.0185],[1631836800000,0.7655],[1632268800000,0.7646],[1632355200000,0.8023],[1632441600000,0.8206],[1632700800000,1.2492],[1632787200000,1.1322],[1632873600000,1.3542],[1632960000000,1.1948],[1633651200000,0.9664],[1633910400000,0.8901],[1633996800000,1.0889],[1634083200000,0.9853],[1634169600000,1.1216],[1634256000000,1.0911],[1634515200000,0.8442],[1634601600000,0.9327],[1634688000000,1.3526],[1634774400000,1.4722],[1634860800000,1.0585],[1635120000000,1.1064],[1635206400000,1.1694],[1635292800000,1.0942],[1635379200000,0.7668],[1635465600000,0.9205],[1635724800000,0.9733],[1635811200000,0.9318],[1635897600000,0.8477],[1635984000000,0.8606],[1636070400000,0.8349],[1636329600000,1.1024],[1636416000000,1.0052],[1636502400000,1.2598],[1636588800000,1.0194],[1636675200000,1.0725],[1636934400000,1.3224],[1637020800000,1.2945],[1637107200000,1.209],[1637193600000,1.1282],[1637280000000,1.3007],[1637539200000,1.2895],[1637625600000,1.2827],[1637712000000,1.2388],[1637798400000,0.8829],[1637884800000,0.9732],[1638144000000,0.9105],[1638230400000,1.0293],[1638316800000,0.8768],[1638403200000,0.8987],[1638489600000,1.2304]]}],\"xAxis\":{\"title\":{\"text\":\"date\"},\"type\":\"datetime\"},\"plotOptions\":{\"series\":{\"compare\":\"percent\"}}}/bigcharts-data-end</pre></div><div class=\"cols\">\n",
       "            \n",
       "                \n",
       "                <div class=\"col\"><div class=\"type_title_left\"><p>因子值最小的20只股票 <span>(2021-12-03)</span></p></div>\n",
       "        <div class=\"factorlens-stocks-wrapper\">\n",
       "            <table class=\"factor_table stocks\">\n",
       "                <thead>\n",
       "                    <tr>\n",
       "                        <th>股票名称</th>\n",
       "                        <th>股票代码</th>\n",
       "                        <th>因子值</th>\n",
       "                    </tr>\n",
       "                </thead>\n",
       "                <tbody>\n",
       "            <tr>\n",
       "                <td>宋城演艺</td>\n",
       "                <td>300144.SZA</td>\n",
       "                <td>-1.0000</td>\n",
       "            </tr>\n",
       "            \n",
       "            <tr>\n",
       "                <td>浙商银行</td>\n",
       "                <td>601916.SHA</td>\n",
       "                <td>-1.0000</td>\n",
       "            </tr>\n",
       "            \n",
       "            <tr>\n",
       "                <td>大华股份</td>\n",
       "                <td>002236.SZA</td>\n",
       "                <td>-1.0000</td>\n",
       "            </tr>\n",
       "            \n",
       "            <tr>\n",
       "                <td>芒果超媒</td>\n",
       "                <td>300413.SZA</td>\n",
       "                <td>-1.0000</td>\n",
       "            </tr>\n",
       "            \n",
       "            <tr>\n",
       "                <td>中公教育</td>\n",
       "                <td>002607.SZA</td>\n",
       "                <td>-1.0000</td>\n",
       "            </tr>\n",
       "            \n",
       "            <tr>\n",
       "                <td>中国平安</td>\n",
       "                <td>601318.SHA</td>\n",
       "                <td>-1.0000</td>\n",
       "            </tr>\n",
       "            \n",
       "            <tr>\n",
       "                <td>比亚迪</td>\n",
       "                <td>002594.SZA</td>\n",
       "                <td>-1.0000</td>\n",
       "            </tr>\n",
       "            \n",
       "            <tr>\n",
       "                <td>永辉超市</td>\n",
       "                <td>601933.SHA</td>\n",
       "                <td>-1.0000</td>\n",
       "            </tr>\n",
       "            \n",
       "            <tr>\n",
       "                <td>康弘药业</td>\n",
       "                <td>002773.SZA</td>\n",
       "                <td>-1.0000</td>\n",
       "            </tr>\n",
       "            \n",
       "            <tr>\n",
       "                <td>安迪苏</td>\n",
       "                <td>600299.SHA</td>\n",
       "                <td>-1.0000</td>\n",
       "            </tr>\n",
       "            \n",
       "            <tr>\n",
       "                <td>江西铜业</td>\n",
       "                <td>600362.SHA</td>\n",
       "                <td>-1.0000</td>\n",
       "            </tr>\n",
       "            \n",
       "            <tr>\n",
       "                <td>华夏银行</td>\n",
       "                <td>600015.SHA</td>\n",
       "                <td>-1.0000</td>\n",
       "            </tr>\n",
       "            \n",
       "            <tr>\n",
       "                <td>绿地控股</td>\n",
       "                <td>600606.SHA</td>\n",
       "                <td>-1.0000</td>\n",
       "            </tr>\n",
       "            \n",
       "            <tr>\n",
       "                <td>三六零</td>\n",
       "                <td>601360.SHA</td>\n",
       "                <td>-1.0000</td>\n",
       "            </tr>\n",
       "            \n",
       "            <tr>\n",
       "                <td>浪潮信息</td>\n",
       "                <td>000977.SZA</td>\n",
       "                <td>-1.0000</td>\n",
       "            </tr>\n",
       "            \n",
       "            <tr>\n",
       "                <td>三七互娱</td>\n",
       "                <td>002555.SZA</td>\n",
       "                <td>-1.0000</td>\n",
       "            </tr>\n",
       "            \n",
       "            <tr>\n",
       "                <td>中微公司</td>\n",
       "                <td>688012.SHA</td>\n",
       "                <td>-1.0000</td>\n",
       "            </tr>\n",
       "            \n",
       "            <tr>\n",
       "                <td>建设银行</td>\n",
       "                <td>601939.SHA</td>\n",
       "                <td>-1.0000</td>\n",
       "            </tr>\n",
       "            \n",
       "            <tr>\n",
       "                <td>京沪高铁</td>\n",
       "                <td>601816.SHA</td>\n",
       "                <td>-1.0000</td>\n",
       "            </tr>\n",
       "            \n",
       "            <tr>\n",
       "                <td>恒生电子</td>\n",
       "                <td>600570.SHA</td>\n",
       "                <td>-1.0000</td>\n",
       "            </tr>\n",
       "            \n",
       "                </tbody>\n",
       "            </table>\n",
       "        </div>\n",
       "        </div>\n",
       "                \n",
       "            \n",
       "                \n",
       "                <div class=\"col\"><div class=\"type_title_left\"><p>因子值最大的20只股票 <span>(2021-12-03)</span></p></div>\n",
       "        <div class=\"factorlens-stocks-wrapper\">\n",
       "            <table class=\"factor_table stocks\">\n",
       "                <thead>\n",
       "                    <tr>\n",
       "                        <th>股票名称</th>\n",
       "                        <th>股票代码</th>\n",
       "                        <th>因子值</th>\n",
       "                    </tr>\n",
       "                </thead>\n",
       "                <tbody>\n",
       "            <tr>\n",
       "                <td>国元证券</td>\n",
       "                <td>000728.SZA</td>\n",
       "                <td>1.0000</td>\n",
       "            </tr>\n",
       "            \n",
       "            <tr>\n",
       "                <td>云南白药</td>\n",
       "                <td>000538.SZA</td>\n",
       "                <td>1.0000</td>\n",
       "            </tr>\n",
       "            \n",
       "            <tr>\n",
       "                <td>北京银行</td>\n",
       "                <td>601169.SHA</td>\n",
       "                <td>1.0000</td>\n",
       "            </tr>\n",
       "            \n",
       "            <tr>\n",
       "                <td>洛阳钼业</td>\n",
       "                <td>603993.SHA</td>\n",
       "                <td>1.0000</td>\n",
       "            </tr>\n",
       "            \n",
       "            <tr>\n",
       "                <td>浙江龙盛</td>\n",
       "                <td>600352.SHA</td>\n",
       "                <td>1.0000</td>\n",
       "            </tr>\n",
       "            \n",
       "            <tr>\n",
       "                <td>格力电器</td>\n",
       "                <td>000651.SZA</td>\n",
       "                <td>1.0000</td>\n",
       "            </tr>\n",
       "            \n",
       "            <tr>\n",
       "                <td>京东方A</td>\n",
       "                <td>000725.SZA</td>\n",
       "                <td>1.0000</td>\n",
       "            </tr>\n",
       "            \n",
       "            <tr>\n",
       "                <td>工业富联</td>\n",
       "                <td>601138.SHA</td>\n",
       "                <td>1.0000</td>\n",
       "            </tr>\n",
       "            \n",
       "            <tr>\n",
       "                <td>宝丰能源</td>\n",
       "                <td>600989.SHA</td>\n",
       "                <td>1.0000</td>\n",
       "            </tr>\n",
       "            \n",
       "            <tr>\n",
       "                <td>国金证券</td>\n",
       "                <td>600109.SHA</td>\n",
       "                <td>1.0000</td>\n",
       "            </tr>\n",
       "            \n",
       "            <tr>\n",
       "                <td>晨光文具</td>\n",
       "                <td>603899.SHA</td>\n",
       "                <td>1.0000</td>\n",
       "            </tr>\n",
       "            \n",
       "            <tr>\n",
       "                <td>领益智造</td>\n",
       "                <td>002600.SZA</td>\n",
       "                <td>1.0000</td>\n",
       "            </tr>\n",
       "            \n",
       "            <tr>\n",
       "                <td>中兴通讯</td>\n",
       "                <td>000063.SZA</td>\n",
       "                <td>1.0000</td>\n",
       "            </tr>\n",
       "            \n",
       "            <tr>\n",
       "                <td>白云山</td>\n",
       "                <td>600332.SHA</td>\n",
       "                <td>1.0000</td>\n",
       "            </tr>\n",
       "            \n",
       "            <tr>\n",
       "                <td>中科曙光</td>\n",
       "                <td>603019.SHA</td>\n",
       "                <td>1.0000</td>\n",
       "            </tr>\n",
       "            \n",
       "            <tr>\n",
       "                <td>泰格医药</td>\n",
       "                <td>300347.SZA</td>\n",
       "                <td>1.0000</td>\n",
       "            </tr>\n",
       "            \n",
       "            <tr>\n",
       "                <td>福耀玻璃</td>\n",
       "                <td>600660.SHA</td>\n",
       "                <td>1.0000</td>\n",
       "            </tr>\n",
       "            \n",
       "            <tr>\n",
       "                <td>平安银行</td>\n",
       "                <td>000001.SZA</td>\n",
       "                <td>1.0000</td>\n",
       "            </tr>\n",
       "            \n",
       "            <tr>\n",
       "                <td>万华化学</td>\n",
       "                <td>600309.SHA</td>\n",
       "                <td>1.0000</td>\n",
       "            </tr>\n",
       "            \n",
       "            <tr>\n",
       "                <td>爱尔眼科</td>\n",
       "                <td>300015.SZA</td>\n",
       "                <td>1.0000</td>\n",
       "            </tr>\n",
       "            \n",
       "                </tbody>\n",
       "            </table>\n",
       "        </div>\n",
       "        </div>\n",
       "                \n",
       "            \n",
       "            </div>\n",
       "        </div>"
      ],
      "text/plain": [
       "<IPython.core.display.HTML object>"
      ]
     },
     "metadata": {},
     "output_type": "display_data"
    },
    {
     "data": {
      "text/plain": [
       "[2021-12-06 17:51:47.038618] INFO: moduleinvoker: factorlens.v2 运行完成[132.181385s]."
      ]
     },
     "metadata": {
      "is_log": true,
      "status": "INFO"
     },
     "output_type": "display_data"
    },
    {
     "data": {
      "text/plain": [
       "[2021-12-06 17:51:47.291780] INFO: 保存因子: 开始检查因子数据 ..."
      ]
     },
     "metadata": {
      "is_log": true,
      "status": "INFO"
     },
     "output_type": "display_data"
    },
    {
     "data": {
      "text/plain": [
       "[2021-12-06 17:51:47.294100] INFO: 保存因子: 检查因子通过, 请提交任务进行因子保存!"
      ]
     },
     "metadata": {
      "is_log": true,
      "status": "INFO"
     },
     "output_type": "display_data"
    },
    {
     "data": {
      "text/plain": [
       "[2021-12-06 17:51:47.545858] INFO: moduleinvoker: factorlens_preservation.v2 运行完成[0.496515s]."
      ]
     },
     "metadata": {
      "is_log": true,
      "status": "INFO"
     },
     "output_type": "display_data"
    }
   ],
   "source": [
    "# 本代码由可视化策略环境自动生成 2022年5月7日 15:35\n",
    "# 本代码单元只能在可视化模式下编辑。您也可以拷贝代码，粘贴到新建的代码单元或者策略，然后修改。\n",
    "\n",
    "\n",
    "m1 = M.input_features.v1(\n",
    "    features=\"\"\"\n",
    "# 量价背离\n",
    "factor_1 = -1 * correlation(sum((close_0 * volume_0), 2) / sum(volume_0, 2), volume_0, 2)\n",
    "\n",
    "# 开盘缺口\n",
    "#open_0 - close_1\n",
    "\n",
    "# 异常成交量\n",
    "#-1 * (volume_0 / mean(volume_0, 2))\n",
    "\n",
    "# 量幅背离\n",
    "#-1 * correlation(high_0/low_0, volume_0, 2)\"\"\"\n",
    ")\n",
    "\n",
    "m2 = M.factorlens.v2(\n",
    "    features=m1.data,\n",
    "    title='因子分析: {factor_name}',\n",
    "    start_date='2020-01-01',\n",
    "    end_date='2021-12-31',\n",
    "    rebalance_period=2,\n",
    "    delay_rebalance_days=0,\n",
    "    rebalance_price='close_0',\n",
    "    stock_pool='沪深300',\n",
    "    quantile_count=5,\n",
    "    commission_rate=0.0016,\n",
    "    returns_calculation_method='累乘',\n",
    "    benchmark='沪深300',\n",
    "    drop_new_stocks=60,\n",
    "    drop_price_limit_stocks=True,\n",
    "    drop_st_stocks=True,\n",
    "    drop_suspended_stocks=True,\n",
    "    cutoutliers=True,\n",
    "    normalization=True,\n",
    "    neutralization=['行业', '市值'],\n",
    "    metrics=['因子表现概览', '因子分布', '因子行业分布', '因子市值分布', 'IC分析', '买入信号重合分析', '因子估值分析', '因子拥挤度分析', '因子值最大/最小股票', '表达式因子值', '多因子相关性分析'],\n",
    "    factor_coverage=0.5,\n",
    "    user_data_merge='left'\n",
    ")\n",
    "\n",
    "m4 = M.factorlens_preservation.v2(\n",
    "    factors_info=m2.save_data,\n",
    "    factor_fields=# 定义因子名称\n",
    " {\n",
    "     \"factor_1\": {'name': \"量价背离\", 'desc': \"最近2日成交量与价格走势背离\"},\n",
    " },\n",
    "    table=''\n",
    ")\n"
   ]
  }
 ],
 "metadata": {
  "is_mlstudio": "true",
  "kernelspec": {
   "display_name": "Python 3",
   "language": "python",
   "name": "python3"
  },
  "language_info": {
   "codemirror_mode": {
    "name": "ipython",
    "version": 3
   },
   "file_extension": ".py",
   "mimetype": "text/x-python",
   "name": "python",
   "nbconvert_exporter": "python",
   "pygments_lexer": "ipython3",
   "version": "3.8.7"
  }
 },
 "nbformat": 4,
 "nbformat_minor": 4
}
