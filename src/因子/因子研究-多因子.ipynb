{
 "cells": [
  {
   "cell_type": "code",
   "execution_count": 2,
   "metadata": {
    "machine_learning_studio": "true",
    "ml_studio_json": "{\"description\":\"实验创建于2020/2/14\",\"graph\":{\"edges\":[{\"to_node_id\":\"-8309:features\",\"from_node_id\":\"-70:data\"}],\"nodes\":[{\"node_id\":\"-70\",\"module_id\":\"BigQuantSpace.input_features.input_features-v1\",\"parameters\":[{\"name\":\"features\",\"value\":\"# 量价背离\\n-1 * correlation(sum((close_0 * volume_0), 2) / sum(volume_0, 2), volume_0, 2)\\n\\n# 开盘缺口\\nopen_0 - close_1\\n\\n# 异常成交量\\n-1 * (volume_0 / mean(volume_0, 2))\\n\\n# 量幅背离\\n-1 * correlation(high_0/low_0, volume_0, 2)\",\"type\":\"Literal\",\"bound_global_parameter\":null}],\"input_ports\":[{\"name\":\"features_ds\",\"node_id\":\"-70\"}],\"output_ports\":[{\"name\":\"data\",\"node_id\":\"-70\"}],\"cacheable\":true,\"seq_num\":1,\"comment\":\"\",\"comment_collapsed\":true},{\"node_id\":\"-8309\",\"module_id\":\"BigQuantSpace.factorlens.factorlens-v2\",\"parameters\":[{\"name\":\"title\",\"value\":\"因子分析: {factor_name}\",\"type\":\"Literal\",\"bound_global_parameter\":null},{\"name\":\"start_date\",\"value\":\"2021-01-01\",\"type\":\"Literal\",\"bound_global_parameter\":null},{\"name\":\"end_date\",\"value\":\"2021-12-31\",\"type\":\"Literal\",\"bound_global_parameter\":null},{\"name\":\"rebalance_period\",\"value\":\"2\",\"type\":\"Literal\",\"bound_global_parameter\":null},{\"name\":\"delay_rebalance_days\",\"value\":0,\"type\":\"Literal\",\"bound_global_parameter\":null},{\"name\":\"rebalance_price\",\"value\":\"close_0\",\"type\":\"Literal\",\"bound_global_parameter\":null},{\"name\":\"stock_pool\",\"value\":\"中证500\",\"type\":\"Literal\",\"bound_global_parameter\":null},{\"name\":\"quantile_count\",\"value\":5,\"type\":\"Literal\",\"bound_global_parameter\":null},{\"name\":\"commission_rate\",\"value\":0.0016,\"type\":\"Literal\",\"bound_global_parameter\":null},{\"name\":\"returns_calculation_method\",\"value\":\"累乘\",\"type\":\"Literal\",\"bound_global_parameter\":null},{\"name\":\"benchmark\",\"value\":\"无\",\"type\":\"Literal\",\"bound_global_parameter\":null},{\"name\":\"drop_new_stocks\",\"value\":60,\"type\":\"Literal\",\"bound_global_parameter\":null},{\"name\":\"drop_price_limit_stocks\",\"value\":\"True\",\"type\":\"Literal\",\"bound_global_parameter\":null},{\"name\":\"drop_st_stocks\",\"value\":\"True\",\"type\":\"Literal\",\"bound_global_parameter\":null},{\"name\":\"drop_suspended_stocks\",\"value\":\"True\",\"type\":\"Literal\",\"bound_global_parameter\":null},{\"name\":\"normalization\",\"value\":\"False\",\"type\":\"Literal\",\"bound_global_parameter\":null},{\"name\":\"neutralization\",\"value\":\"%7B%22enumItems%22%3A%5B%7B%22value%22%3A%22%E8%A1%8C%E4%B8%9A%22%2C%22displayValue%22%3A%22%E8%A1%8C%E4%B8%9A%22%2C%22selected%22%3Atrue%7D%2C%7B%22value%22%3A%22%E5%B8%82%E5%80%BC%22%2C%22displayValue%22%3A%22%E5%B8%82%E5%80%BC%22%2C%22selected%22%3Atrue%7D%5D%7D\",\"type\":\"Literal\",\"bound_global_parameter\":null},{\"name\":\"metrics\",\"value\":\"%7B%22enumItems%22%3A%5B%7B%22value%22%3A%22%E5%9B%A0%E5%AD%90%E8%A1%A8%E7%8E%B0%E6%A6%82%E8%A7%88%22%2C%22displayValue%22%3A%22%E5%9B%A0%E5%AD%90%E8%A1%A8%E7%8E%B0%E6%A6%82%E8%A7%88%22%2C%22selected%22%3Atrue%7D%2C%7B%22value%22%3A%22%E5%9B%A0%E5%AD%90%E5%88%86%E5%B8%83%22%2C%22displayValue%22%3A%22%E5%9B%A0%E5%AD%90%E5%88%86%E5%B8%83%22%2C%22selected%22%3Atrue%7D%2C%7B%22value%22%3A%22%E5%9B%A0%E5%AD%90%E8%A1%8C%E4%B8%9A%E5%88%86%E5%B8%83%22%2C%22displayValue%22%3A%22%E5%9B%A0%E5%AD%90%E8%A1%8C%E4%B8%9A%E5%88%86%E5%B8%83%22%2C%22selected%22%3Atrue%7D%2C%7B%22value%22%3A%22%E5%9B%A0%E5%AD%90%E5%B8%82%E5%80%BC%E5%88%86%E5%B8%83%22%2C%22displayValue%22%3A%22%E5%9B%A0%E5%AD%90%E5%B8%82%E5%80%BC%E5%88%86%E5%B8%83%22%2C%22selected%22%3Atrue%7D%2C%7B%22value%22%3A%22IC%E5%88%86%E6%9E%90%22%2C%22displayValue%22%3A%22IC%E5%88%86%E6%9E%90%22%2C%22selected%22%3Atrue%7D%2C%7B%22value%22%3A%22%E4%B9%B0%E5%85%A5%E4%BF%A1%E5%8F%B7%E9%87%8D%E5%90%88%E5%88%86%E6%9E%90%22%2C%22displayValue%22%3A%22%E4%B9%B0%E5%85%A5%E4%BF%A1%E5%8F%B7%E9%87%8D%E5%90%88%E5%88%86%E6%9E%90%22%2C%22selected%22%3Atrue%7D%2C%7B%22value%22%3A%22%E5%9B%A0%E5%AD%90%E4%BC%B0%E5%80%BC%E5%88%86%E6%9E%90%22%2C%22displayValue%22%3A%22%E5%9B%A0%E5%AD%90%E4%BC%B0%E5%80%BC%E5%88%86%E6%9E%90%22%2C%22selected%22%3Atrue%7D%2C%7B%22value%22%3A%22%E5%9B%A0%E5%AD%90%E6%8B%A5%E6%8C%A4%E5%BA%A6%E5%88%86%E6%9E%90%22%2C%22displayValue%22%3A%22%E5%9B%A0%E5%AD%90%E6%8B%A5%E6%8C%A4%E5%BA%A6%E5%88%86%E6%9E%90%22%2C%22selected%22%3Atrue%7D%2C%7B%22value%22%3A%22%E5%9B%A0%E5%AD%90%E5%80%BC%E6%9C%80%E5%A4%A7%2F%E6%9C%80%E5%B0%8F%E8%82%A1%E7%A5%A8%22%2C%22displayValue%22%3A%22%E5%9B%A0%E5%AD%90%E5%80%BC%E6%9C%80%E5%A4%A7%2F%E6%9C%80%E5%B0%8F%E8%82%A1%E7%A5%A8%22%2C%22selected%22%3Atrue%7D%2C%7B%22value%22%3A%22%E8%A1%A8%E8%BE%BE%E5%BC%8F%E5%9B%A0%E5%AD%90%E5%80%BC%22%2C%22displayValue%22%3A%22%E8%A1%A8%E8%BE%BE%E5%BC%8F%E5%9B%A0%E5%AD%90%E5%80%BC%22%2C%22selected%22%3Atrue%7D%2C%7B%22value%22%3A%22%E5%A4%9A%E5%9B%A0%E5%AD%90%E7%9B%B8%E5%85%B3%E6%80%A7%E5%88%86%E6%9E%90%22%2C%22displayValue%22%3A%22%E5%A4%9A%E5%9B%A0%E5%AD%90%E7%9B%B8%E5%85%B3%E6%80%A7%E5%88%86%E6%9E%90%22%2C%22selected%22%3Atrue%7D%5D%7D\",\"type\":\"Literal\",\"bound_global_parameter\":null},{\"name\":\"factor_coverage\",\"value\":0.5,\"type\":\"Literal\",\"bound_global_parameter\":null},{\"name\":\"user_data_merge\",\"value\":\"left\",\"type\":\"Literal\",\"bound_global_parameter\":null}],\"input_ports\":[{\"name\":\"features\",\"node_id\":\"-8309\"},{\"name\":\"user_factor_data\",\"node_id\":\"-8309\"}],\"output_ports\":[{\"name\":\"data\",\"node_id\":\"-8309\"},{\"name\":\"save_data\",\"node_id\":\"-8309\"}],\"cacheable\":true,\"seq_num\":2,\"comment\":\"\",\"comment_collapsed\":true}],\"node_layout\":\"<node_postions><node_position Node='-70' Position='302,163,200,200'/><node_position Node='-8309' Position='298,306,200,200'/></node_postions>\"},\"nodes_readonly\":false,\"studio_version\":\"v2\"}"
   },
   "outputs": [
    {
     "data": {
      "text/plain": [
       "[2021-10-27 14:13:16.880272] INFO: moduleinvoker: input_features.v1 开始运行.."
      ]
     },
     "metadata": {
      "is_log": true,
      "status": "INFO"
     },
     "output_type": "display_data"
    },
    {
     "data": {
      "text/plain": [
       "[2021-10-27 14:13:16.891357] INFO: moduleinvoker: 命中缓存"
      ]
     },
     "metadata": {
      "is_log": true,
      "status": "INFO"
     },
     "output_type": "display_data"
    },
    {
     "data": {
      "text/plain": [
       "[2021-10-27 14:13:16.893110] INFO: moduleinvoker: input_features.v1 运行完成[0.012852s]."
      ]
     },
     "metadata": {
      "is_log": true,
      "status": "INFO"
     },
     "output_type": "display_data"
    },
    {
     "data": {
      "text/plain": [
       "[2021-10-27 14:13:16.899781] INFO: moduleinvoker: factorlens.v2 开始运行.."
      ]
     },
     "metadata": {
      "is_log": true,
      "status": "INFO"
     },
     "output_type": "display_data"
    },
    {
     "data": {
      "text/plain": [
       "[2021-10-27 14:13:16.936736] INFO: 因子分析: batch_process start"
      ]
     },
     "metadata": {
      "is_log": true,
      "status": "INFO"
     },
     "output_type": "display_data"
    },
    {
     "data": {
      "text/plain": [
       "[2021-10-27 14:13:16.938766] INFO: 因子分析: load_instruments 2021-01-01, 2021-12-31"
      ]
     },
     "metadata": {
      "is_log": true,
      "status": "INFO"
     },
     "output_type": "display_data"
    },
    {
     "data": {
      "text/plain": [
       "[2021-10-27 14:13:17.237120] INFO: 因子分析: load_instruments, 4541 rows."
      ]
     },
     "metadata": {
      "is_log": true,
      "status": "INFO"
     },
     "output_type": "display_data"
    },
    {
     "data": {
      "text/plain": [
       "[2021-10-27 14:13:17.238841] INFO: 因子分析: load_benchmark_data 2021-01-01, 2021-12-31"
      ]
     },
     "metadata": {
      "is_log": true,
      "status": "INFO"
     },
     "output_type": "display_data"
    },
    {
     "data": {
      "text/plain": [
       "[2021-10-27 14:13:17.293970] INFO: 因子分析: load_benchmark_data, 585 rows."
      ]
     },
     "metadata": {
      "is_log": true,
      "status": "INFO"
     },
     "output_type": "display_data"
    },
    {
     "data": {
      "text/plain": [
       "[2021-10-27 14:13:17.295563] INFO: 因子分析: StockPool.before_load_general_feature_data"
      ]
     },
     "metadata": {
      "is_log": true,
      "status": "INFO"
     },
     "output_type": "display_data"
    },
    {
     "data": {
      "text/plain": [
       "[2021-10-27 14:13:17.296741] INFO: 因子分析: UserDataMerge.before_load_general_feature_data"
      ]
     },
     "metadata": {
      "is_log": true,
      "status": "INFO"
     },
     "output_type": "display_data"
    },
    {
     "data": {
      "text/plain": [
       "[2021-10-27 14:13:17.297873] INFO: 因子分析: DropSTStocks.before_load_general_feature_data"
      ]
     },
     "metadata": {
      "is_log": true,
      "status": "INFO"
     },
     "output_type": "display_data"
    },
    {
     "data": {
      "text/plain": [
       "[2021-10-27 14:13:17.298959] INFO: 因子分析: DropNewStocks.before_load_general_feature_data"
      ]
     },
     "metadata": {
      "is_log": true,
      "status": "INFO"
     },
     "output_type": "display_data"
    },
    {
     "data": {
      "text/plain": [
       "[2021-10-27 14:13:17.300030] INFO: 因子分析: Neutralization.before_load_general_feature_data"
      ]
     },
     "metadata": {
      "is_log": true,
      "status": "INFO"
     },
     "output_type": "display_data"
    },
    {
     "data": {
      "text/plain": [
       "[2021-10-27 14:13:17.301383] INFO: 因子分析: DelayRebalanceDays.before_load_general_feature_data"
      ]
     },
     "metadata": {
      "is_log": true,
      "status": "INFO"
     },
     "output_type": "display_data"
    },
    {
     "data": {
      "text/plain": [
       "[2021-10-27 14:13:17.302538] INFO: 因子分析: RebalancePeriod.before_load_general_feature_data"
      ]
     },
     "metadata": {
      "is_log": true,
      "status": "INFO"
     },
     "output_type": "display_data"
    },
    {
     "data": {
      "text/plain": [
       "[2021-10-27 14:13:17.303620] INFO: 因子分析: RebalancePrice.before_load_general_feature_data"
      ]
     },
     "metadata": {
      "is_log": true,
      "status": "INFO"
     },
     "output_type": "display_data"
    },
    {
     "data": {
      "text/plain": [
       "[2021-10-27 14:13:17.304879] INFO: 因子分析: FactorCoverage.before_load_general_feature_data"
      ]
     },
     "metadata": {
      "is_log": true,
      "status": "INFO"
     },
     "output_type": "display_data"
    },
    {
     "data": {
      "text/plain": [
       "[2021-10-27 14:13:17.306041] INFO: 因子分析: Industry.before_load_general_feature_data"
      ]
     },
     "metadata": {
      "is_log": true,
      "status": "INFO"
     },
     "output_type": "display_data"
    },
    {
     "data": {
      "text/plain": [
       "[2021-10-27 14:13:17.307319] INFO: 因子分析: PBRatio.before_load_general_feature_data"
      ]
     },
     "metadata": {
      "is_log": true,
      "status": "INFO"
     },
     "output_type": "display_data"
    },
    {
     "data": {
      "text/plain": [
       "[2021-10-27 14:13:17.308622] INFO: 因子分析: Turnover.before_load_general_feature_data"
      ]
     },
     "metadata": {
      "is_log": true,
      "status": "INFO"
     },
     "output_type": "display_data"
    },
    {
     "data": {
      "text/plain": [
       "[2021-10-27 14:13:17.309955] INFO: 因子分析: MarketCap.before_load_general_feature_data"
      ]
     },
     "metadata": {
      "is_log": true,
      "status": "INFO"
     },
     "output_type": "display_data"
    },
    {
     "data": {
      "text/plain": [
       "[2021-10-27 14:13:17.311808] INFO: 因子分析: load_general_feature_data, load data"
      ]
     },
     "metadata": {
      "is_log": true,
      "status": "INFO"
     },
     "output_type": "display_data"
    },
    {
     "data": {
      "text/plain": [
       "[2021-10-27 14:13:55.434048] INFO: 因子分析: RebalancePeriod.after_load_general_feature_data"
      ]
     },
     "metadata": {
      "is_log": true,
      "status": "INFO"
     },
     "output_type": "display_data"
    },
    {
     "data": {
      "text/plain": [
       "[2021-10-27 14:13:55.495232] INFO: 因子分析: RebalancePeriodsReturns.after_load_general_feature_data"
      ]
     },
     "metadata": {
      "is_log": true,
      "status": "INFO"
     },
     "output_type": "display_data"
    },
    {
     "data": {
      "text/plain": [
       "[2021-10-27 14:14:13.964276] INFO: 因子分析: RebalancePrice.after_load_general_feature_data"
      ]
     },
     "metadata": {
      "is_log": true,
      "status": "INFO"
     },
     "output_type": "display_data"
    },
    {
     "data": {
      "text/plain": [
       "[2021-10-27 14:14:13.966008] INFO: 因子分析: load_general_feature_data, 1785183 rows."
      ]
     },
     "metadata": {
      "is_log": true,
      "status": "INFO"
     },
     "output_type": "display_data"
    },
    {
     "data": {
      "text/plain": [
       "[2021-10-27 14:14:13.967734] INFO: 因子分析: load_derived_feature_data, 1785183 rows, 26 columns."
      ]
     },
     "metadata": {
      "is_log": true,
      "status": "INFO"
     },
     "output_type": "display_data"
    },
    {
     "data": {
      "text/plain": [
       "[2021-10-27 14:14:13.969234] INFO: 因子分析: process, -1 * correlation(sum((close_0 * volume_0), 2) / sum(volume_0, 2), volume_0, 2)"
      ]
     },
     "metadata": {
      "is_log": true,
      "status": "INFO"
     },
     "output_type": "display_data"
    },
    {
     "data": {
      "text/plain": [
       "[2021-10-27 14:14:13.970550] INFO: 因子分析: calculate_factor, -1 * correlation(sum((close_0 * volume_0), 2) / sum(volume_0, 2), volume_0, 2)"
      ]
     },
     "metadata": {
      "is_log": true,
      "status": "INFO"
     },
     "output_type": "display_data"
    },
    {
     "data": {
      "text/plain": [
       "[2021-10-27 14:14:42.838235] INFO: 因子分析: calculate_factor, done"
      ]
     },
     "metadata": {
      "is_log": true,
      "status": "INFO"
     },
     "output_type": "display_data"
    },
    {
     "data": {
      "text/plain": [
       "[2021-10-27 14:14:42.952455] INFO: 因子分析: QuantileReturns.before_process"
      ]
     },
     "metadata": {
      "is_log": true,
      "status": "INFO"
     },
     "output_type": "display_data"
    },
    {
     "data": {
      "text/plain": [
       "[2021-10-27 14:14:42.953937] INFO: 因子分析: IC.before_process"
      ]
     },
     "metadata": {
      "is_log": true,
      "status": "INFO"
     },
     "output_type": "display_data"
    },
    {
     "data": {
      "text/plain": [
       "[2021-10-27 14:14:42.955159] INFO: 因子分析: BasicDescription.before_process"
      ]
     },
     "metadata": {
      "is_log": true,
      "status": "INFO"
     },
     "output_type": "display_data"
    },
    {
     "data": {
      "text/plain": [
       "[2021-10-27 14:14:42.956282] INFO: 因子分析: Industry.before_process"
      ]
     },
     "metadata": {
      "is_log": true,
      "status": "INFO"
     },
     "output_type": "display_data"
    },
    {
     "data": {
      "text/plain": [
       "[2021-10-27 14:14:42.957415] INFO: 因子分析: RebalanceOverlap.before_process"
      ]
     },
     "metadata": {
      "is_log": true,
      "status": "INFO"
     },
     "output_type": "display_data"
    },
    {
     "data": {
      "text/plain": [
       "[2021-10-27 14:14:42.958530] INFO: 因子分析: PBRatio.before_process"
      ]
     },
     "metadata": {
      "is_log": true,
      "status": "INFO"
     },
     "output_type": "display_data"
    },
    {
     "data": {
      "text/plain": [
       "[2021-10-27 14:14:42.959630] INFO: 因子分析: Turnover.before_process"
      ]
     },
     "metadata": {
      "is_log": true,
      "status": "INFO"
     },
     "output_type": "display_data"
    },
    {
     "data": {
      "text/plain": [
       "[2021-10-27 14:14:42.960697] INFO: 因子分析: Stocks.before_process"
      ]
     },
     "metadata": {
      "is_log": true,
      "status": "INFO"
     },
     "output_type": "display_data"
    },
    {
     "data": {
      "text/plain": [
       "[2021-10-27 14:14:42.961768] INFO: 因子分析: MarketCap.before_process"
      ]
     },
     "metadata": {
      "is_log": true,
      "status": "INFO"
     },
     "output_type": "display_data"
    },
    {
     "data": {
      "text/plain": [
       "[2021-10-27 14:14:42.962846] INFO: 因子分析: FactorValue.before_process"
      ]
     },
     "metadata": {
      "is_log": true,
      "status": "INFO"
     },
     "output_type": "display_data"
    },
    {
     "data": {
      "text/plain": [
       "[2021-10-27 14:14:42.963951] INFO: 因子分析: FactorPairwiseCorrelationMerged.before_process"
      ]
     },
     "metadata": {
      "is_log": true,
      "status": "INFO"
     },
     "output_type": "display_data"
    },
    {
     "data": {
      "text/plain": [
       "[2021-10-27 14:14:43.025519] INFO: 因子分析: process metrics, start .."
      ]
     },
     "metadata": {
      "is_log": true,
      "status": "INFO"
     },
     "output_type": "display_data"
    },
    {
     "data": {
      "text/plain": [
       "[2021-10-27 14:14:43.046742] INFO: 因子分析: process, 94883/840413 rows .."
      ]
     },
     "metadata": {
      "is_log": true,
      "status": "INFO"
     },
     "output_type": "display_data"
    },
    {
     "data": {
      "text/plain": [
       "[2021-10-27 14:14:43.048231] INFO: 因子分析: BacktestInterval.process, 0.000s"
      ]
     },
     "metadata": {
      "is_log": true,
      "status": "INFO"
     },
     "output_type": "display_data"
    },
    {
     "data": {
      "text/plain": [
       "[2021-10-27 14:14:43.049471] INFO: 因子分析: Benchmark.process, 0.000s"
      ]
     },
     "metadata": {
      "is_log": true,
      "status": "INFO"
     },
     "output_type": "display_data"
    },
    {
     "data": {
      "text/plain": [
       "[2021-10-27 14:14:43.050583] INFO: 因子分析: StockPool.process, 0.000s"
      ]
     },
     "metadata": {
      "is_log": true,
      "status": "INFO"
     },
     "output_type": "display_data"
    },
    {
     "data": {
      "text/plain": [
       "[2021-10-27 14:14:43.051671] INFO: 因子分析: UserDataMerge.process, 0.000s"
      ]
     },
     "metadata": {
      "is_log": true,
      "status": "INFO"
     },
     "output_type": "display_data"
    },
    {
     "data": {
      "text/plain": [
       "[2021-10-27 14:14:43.052771] INFO: 因子分析: DropSTStocks.process, 0.000s"
      ]
     },
     "metadata": {
      "is_log": true,
      "status": "INFO"
     },
     "output_type": "display_data"
    },
    {
     "data": {
      "text/plain": [
       "[2021-10-27 14:14:43.053869] INFO: 因子分析: DropPriceLimitStocks.process, 0.000s"
      ]
     },
     "metadata": {
      "is_log": true,
      "status": "INFO"
     },
     "output_type": "display_data"
    },
    {
     "data": {
      "text/plain": [
       "[2021-10-27 14:14:43.054951] INFO: 因子分析: DropNewStocks.process, 0.000s"
      ]
     },
     "metadata": {
      "is_log": true,
      "status": "INFO"
     },
     "output_type": "display_data"
    },
    {
     "data": {
      "text/plain": [
       "[2021-10-27 14:14:43.056042] INFO: 因子分析: DropSuspendedStocks.process, 0.000s"
      ]
     },
     "metadata": {
      "is_log": true,
      "status": "INFO"
     },
     "output_type": "display_data"
    },
    {
     "data": {
      "text/plain": [
       "[2021-10-27 14:14:43.057124] INFO: 因子分析: QuantileCount.process, 0.000s"
      ]
     },
     "metadata": {
      "is_log": true,
      "status": "INFO"
     },
     "output_type": "display_data"
    },
    {
     "data": {
      "text/plain": [
       "[2021-10-27 14:14:43.058212] INFO: 因子分析: CommissionRates.process, 0.000s"
      ]
     },
     "metadata": {
      "is_log": true,
      "status": "INFO"
     },
     "output_type": "display_data"
    },
    {
     "data": {
      "text/plain": [
       "[2021-10-27 14:14:43.059282] INFO: 因子分析: Normalization.process, 0.000s"
      ]
     },
     "metadata": {
      "is_log": true,
      "status": "INFO"
     },
     "output_type": "display_data"
    },
    {
     "data": {
      "text/plain": [
       "[2021-10-27 14:14:52.080328] INFO: 因子分析: Neutralization.process, 9.020s"
      ]
     },
     "metadata": {
      "is_log": true,
      "status": "INFO"
     },
     "output_type": "display_data"
    },
    {
     "data": {
      "text/plain": [
       "[2021-10-27 14:14:52.082658] INFO: 因子分析: DelayRebalanceDays.process, 0.000s"
      ]
     },
     "metadata": {
      "is_log": true,
      "status": "INFO"
     },
     "output_type": "display_data"
    },
    {
     "data": {
      "text/plain": [
       "[2021-10-27 14:14:55.138241] INFO: 因子分析: RebalancePeriod.process, 3.054s"
      ]
     },
     "metadata": {
      "is_log": true,
      "status": "INFO"
     },
     "output_type": "display_data"
    },
    {
     "data": {
      "text/plain": [
       "[2021-10-27 14:14:55.140133] INFO: 因子分析: RebalancePeriodsReturns.process, 0.000s"
      ]
     },
     "metadata": {
      "is_log": true,
      "status": "INFO"
     },
     "output_type": "display_data"
    },
    {
     "data": {
      "text/plain": [
       "[2021-10-27 14:14:55.141387] INFO: 因子分析: RebalancePrice.process, 0.000s"
      ]
     },
     "metadata": {
      "is_log": true,
      "status": "INFO"
     },
     "output_type": "display_data"
    },
    {
     "data": {
      "text/plain": [
       "[2021-10-27 14:14:55.142446] INFO: 因子分析: ReturnsCalculationMethod.process, 0.000s"
      ]
     },
     "metadata": {
      "is_log": true,
      "status": "INFO"
     },
     "output_type": "display_data"
    },
    {
     "data": {
      "text/plain": [
       "[2021-10-27 14:14:55.143642] INFO: 因子分析: FactorCoverage.process, 0.000s"
      ]
     },
     "metadata": {
      "is_log": true,
      "status": "INFO"
     },
     "output_type": "display_data"
    },
    {
     "data": {
      "text/plain": [
       "[2021-10-27 14:14:55.174687] INFO: 因子分析: QuantileReturns.process, 0.030s"
      ]
     },
     "metadata": {
      "is_log": true,
      "status": "INFO"
     },
     "output_type": "display_data"
    },
    {
     "data": {
      "text/plain": [
       "[2021-10-27 14:14:55.481185] INFO: 因子分析: IC.process, 0.305s"
      ]
     },
     "metadata": {
      "is_log": true,
      "status": "INFO"
     },
     "output_type": "display_data"
    },
    {
     "data": {
      "text/plain": [
       "[2021-10-27 14:14:55.497612] INFO: 因子分析: BasicDescription.process, 0.015s"
      ]
     },
     "metadata": {
      "is_log": true,
      "status": "INFO"
     },
     "output_type": "display_data"
    },
    {
     "data": {
      "text/plain": [
       "[2021-10-27 14:14:55.629814] INFO: 因子分析: Industry.process, 0.131s"
      ]
     },
     "metadata": {
      "is_log": true,
      "status": "INFO"
     },
     "output_type": "display_data"
    },
    {
     "data": {
      "text/plain": [
       "[2021-10-27 14:14:55.745231] INFO: 因子分析: RebalanceOverlap.process, 0.114s"
      ]
     },
     "metadata": {
      "is_log": true,
      "status": "INFO"
     },
     "output_type": "display_data"
    },
    {
     "data": {
      "text/plain": [
       "[2021-10-27 14:14:55.761757] INFO: 因子分析: PBRatio.process, 0.015s"
      ]
     },
     "metadata": {
      "is_log": true,
      "status": "INFO"
     },
     "output_type": "display_data"
    },
    {
     "data": {
      "text/plain": [
       "[2021-10-27 14:14:55.774753] INFO: 因子分析: Turnover.process, 0.011s"
      ]
     },
     "metadata": {
      "is_log": true,
      "status": "INFO"
     },
     "output_type": "display_data"
    },
    {
     "data": {
      "text/plain": [
       "[2021-10-27 14:14:55.784211] INFO: 因子分析: Stocks.process, 0.008s"
      ]
     },
     "metadata": {
      "is_log": true,
      "status": "INFO"
     },
     "output_type": "display_data"
    },
    {
     "data": {
      "text/plain": [
       "[2021-10-27 14:14:55.828879] INFO: 因子分析: MarketCap.process, 0.043s"
      ]
     },
     "metadata": {
      "is_log": true,
      "status": "INFO"
     },
     "output_type": "display_data"
    },
    {
     "data": {
      "text/plain": [
       "[2021-10-27 14:14:55.843260] INFO: 因子分析: FactorValue.process, 0.013s"
      ]
     },
     "metadata": {
      "is_log": true,
      "status": "INFO"
     },
     "output_type": "display_data"
    },
    {
     "data": {
      "text/plain": [
       "[2021-10-27 14:14:55.855818] INFO: 因子分析: process metrics, 12.830s"
      ]
     },
     "metadata": {
      "is_log": true,
      "status": "INFO"
     },
     "output_type": "display_data"
    },
    {
     "data": {
      "text/plain": [
       "[2021-10-27 14:14:55.858448] INFO: 因子分析: QuantileReturns.after_process"
      ]
     },
     "metadata": {
      "is_log": true,
      "status": "INFO"
     },
     "output_type": "display_data"
    },
    {
     "data": {
      "text/plain": [
       "[2021-10-27 14:14:55.859803] INFO: 因子分析: IC.after_process"
      ]
     },
     "metadata": {
      "is_log": true,
      "status": "INFO"
     },
     "output_type": "display_data"
    },
    {
     "data": {
      "text/plain": [
       "[2021-10-27 14:14:55.860935] INFO: 因子分析: BasicDescription.after_process"
      ]
     },
     "metadata": {
      "is_log": true,
      "status": "INFO"
     },
     "output_type": "display_data"
    },
    {
     "data": {
      "text/plain": [
       "[2021-10-27 14:14:55.862143] INFO: 因子分析: Industry.after_process"
      ]
     },
     "metadata": {
      "is_log": true,
      "status": "INFO"
     },
     "output_type": "display_data"
    },
    {
     "data": {
      "text/plain": [
       "[2021-10-27 14:14:55.863265] INFO: 因子分析: RebalanceOverlap.after_process"
      ]
     },
     "metadata": {
      "is_log": true,
      "status": "INFO"
     },
     "output_type": "display_data"
    },
    {
     "data": {
      "text/plain": [
       "[2021-10-27 14:14:55.864417] INFO: 因子分析: PBRatio.after_process"
      ]
     },
     "metadata": {
      "is_log": true,
      "status": "INFO"
     },
     "output_type": "display_data"
    },
    {
     "data": {
      "text/plain": [
       "[2021-10-27 14:14:55.865417] INFO: 因子分析: Turnover.after_process"
      ]
     },
     "metadata": {
      "is_log": true,
      "status": "INFO"
     },
     "output_type": "display_data"
    },
    {
     "data": {
      "text/plain": [
       "[2021-10-27 14:14:55.866412] INFO: 因子分析: Stocks.after_process"
      ]
     },
     "metadata": {
      "is_log": true,
      "status": "INFO"
     },
     "output_type": "display_data"
    },
    {
     "data": {
      "text/plain": [
       "[2021-10-27 14:14:55.867542] INFO: 因子分析: MarketCap.after_process"
      ]
     },
     "metadata": {
      "is_log": true,
      "status": "INFO"
     },
     "output_type": "display_data"
    },
    {
     "data": {
      "text/plain": [
       "[2021-10-27 14:14:55.868630] INFO: 因子分析: FactorValue.after_process"
      ]
     },
     "metadata": {
      "is_log": true,
      "status": "INFO"
     },
     "output_type": "display_data"
    },
    {
     "data": {
      "text/plain": [
       "[2021-10-27 14:14:55.869714] INFO: 因子分析: FactorPairwiseCorrelationMerged.after_process"
      ]
     },
     "metadata": {
      "is_log": true,
      "status": "INFO"
     },
     "output_type": "display_data"
    },
    {
     "data": {
      "text/plain": [
       "[2021-10-27 14:14:55.870896] INFO: 因子分析: process, open_0 - close_1"
      ]
     },
     "metadata": {
      "is_log": true,
      "status": "INFO"
     },
     "output_type": "display_data"
    },
    {
     "data": {
      "text/plain": [
       "[2021-10-27 14:14:55.872093] INFO: 因子分析: calculate_factor, open_0 - close_1"
      ]
     },
     "metadata": {
      "is_log": true,
      "status": "INFO"
     },
     "output_type": "display_data"
    },
    {
     "data": {
      "text/plain": [
       "[2021-10-27 14:14:55.996698] INFO: 因子分析: calculate_factor, done"
      ]
     },
     "metadata": {
      "is_log": true,
      "status": "INFO"
     },
     "output_type": "display_data"
    },
    {
     "data": {
      "text/plain": [
       "[2021-10-27 14:14:56.096198] INFO: 因子分析: QuantileReturns.before_process"
      ]
     },
     "metadata": {
      "is_log": true,
      "status": "INFO"
     },
     "output_type": "display_data"
    },
    {
     "data": {
      "text/plain": [
       "[2021-10-27 14:14:56.097798] INFO: 因子分析: IC.before_process"
      ]
     },
     "metadata": {
      "is_log": true,
      "status": "INFO"
     },
     "output_type": "display_data"
    },
    {
     "data": {
      "text/plain": [
       "[2021-10-27 14:14:56.098980] INFO: 因子分析: BasicDescription.before_process"
      ]
     },
     "metadata": {
      "is_log": true,
      "status": "INFO"
     },
     "output_type": "display_data"
    },
    {
     "data": {
      "text/plain": [
       "[2021-10-27 14:14:56.100056] INFO: 因子分析: Industry.before_process"
      ]
     },
     "metadata": {
      "is_log": true,
      "status": "INFO"
     },
     "output_type": "display_data"
    },
    {
     "data": {
      "text/plain": [
       "[2021-10-27 14:14:56.101161] INFO: 因子分析: RebalanceOverlap.before_process"
      ]
     },
     "metadata": {
      "is_log": true,
      "status": "INFO"
     },
     "output_type": "display_data"
    },
    {
     "data": {
      "text/plain": [
       "[2021-10-27 14:14:56.102205] INFO: 因子分析: PBRatio.before_process"
      ]
     },
     "metadata": {
      "is_log": true,
      "status": "INFO"
     },
     "output_type": "display_data"
    },
    {
     "data": {
      "text/plain": [
       "[2021-10-27 14:14:56.103280] INFO: 因子分析: Turnover.before_process"
      ]
     },
     "metadata": {
      "is_log": true,
      "status": "INFO"
     },
     "output_type": "display_data"
    },
    {
     "data": {
      "text/plain": [
       "[2021-10-27 14:14:56.104363] INFO: 因子分析: Stocks.before_process"
      ]
     },
     "metadata": {
      "is_log": true,
      "status": "INFO"
     },
     "output_type": "display_data"
    },
    {
     "data": {
      "text/plain": [
       "[2021-10-27 14:14:56.105503] INFO: 因子分析: MarketCap.before_process"
      ]
     },
     "metadata": {
      "is_log": true,
      "status": "INFO"
     },
     "output_type": "display_data"
    },
    {
     "data": {
      "text/plain": [
       "[2021-10-27 14:14:56.106542] INFO: 因子分析: FactorValue.before_process"
      ]
     },
     "metadata": {
      "is_log": true,
      "status": "INFO"
     },
     "output_type": "display_data"
    },
    {
     "data": {
      "text/plain": [
       "[2021-10-27 14:14:56.108332] INFO: 因子分析: FactorPairwiseCorrelationMerged.before_process"
      ]
     },
     "metadata": {
      "is_log": true,
      "status": "INFO"
     },
     "output_type": "display_data"
    },
    {
     "data": {
      "text/plain": [
       "[2021-10-27 14:14:56.168230] INFO: 因子分析: process metrics, start .."
      ]
     },
     "metadata": {
      "is_log": true,
      "status": "INFO"
     },
     "output_type": "display_data"
    },
    {
     "data": {
      "text/plain": [
       "[2021-10-27 14:14:56.189215] INFO: 因子分析: process, 94999/840413 rows .."
      ]
     },
     "metadata": {
      "is_log": true,
      "status": "INFO"
     },
     "output_type": "display_data"
    },
    {
     "data": {
      "text/plain": [
       "[2021-10-27 14:14:56.190920] INFO: 因子分析: BacktestInterval.process, 0.000s"
      ]
     },
     "metadata": {
      "is_log": true,
      "status": "INFO"
     },
     "output_type": "display_data"
    },
    {
     "data": {
      "text/plain": [
       "[2021-10-27 14:14:56.192181] INFO: 因子分析: Benchmark.process, 0.000s"
      ]
     },
     "metadata": {
      "is_log": true,
      "status": "INFO"
     },
     "output_type": "display_data"
    },
    {
     "data": {
      "text/plain": [
       "[2021-10-27 14:14:56.193389] INFO: 因子分析: StockPool.process, 0.000s"
      ]
     },
     "metadata": {
      "is_log": true,
      "status": "INFO"
     },
     "output_type": "display_data"
    },
    {
     "data": {
      "text/plain": [
       "[2021-10-27 14:14:56.195190] INFO: 因子分析: UserDataMerge.process, 0.000s"
      ]
     },
     "metadata": {
      "is_log": true,
      "status": "INFO"
     },
     "output_type": "display_data"
    },
    {
     "data": {
      "text/plain": [
       "[2021-10-27 14:14:56.196379] INFO: 因子分析: DropSTStocks.process, 0.000s"
      ]
     },
     "metadata": {
      "is_log": true,
      "status": "INFO"
     },
     "output_type": "display_data"
    },
    {
     "data": {
      "text/plain": [
       "[2021-10-27 14:14:56.197610] INFO: 因子分析: DropPriceLimitStocks.process, 0.000s"
      ]
     },
     "metadata": {
      "is_log": true,
      "status": "INFO"
     },
     "output_type": "display_data"
    },
    {
     "data": {
      "text/plain": [
       "[2021-10-27 14:14:56.198823] INFO: 因子分析: DropNewStocks.process, 0.000s"
      ]
     },
     "metadata": {
      "is_log": true,
      "status": "INFO"
     },
     "output_type": "display_data"
    },
    {
     "data": {
      "text/plain": [
       "[2021-10-27 14:14:56.200000] INFO: 因子分析: DropSuspendedStocks.process, 0.000s"
      ]
     },
     "metadata": {
      "is_log": true,
      "status": "INFO"
     },
     "output_type": "display_data"
    },
    {
     "data": {
      "text/plain": [
       "[2021-10-27 14:14:56.201190] INFO: 因子分析: QuantileCount.process, 0.000s"
      ]
     },
     "metadata": {
      "is_log": true,
      "status": "INFO"
     },
     "output_type": "display_data"
    },
    {
     "data": {
      "text/plain": [
       "[2021-10-27 14:14:56.202268] INFO: 因子分析: CommissionRates.process, 0.000s"
      ]
     },
     "metadata": {
      "is_log": true,
      "status": "INFO"
     },
     "output_type": "display_data"
    },
    {
     "data": {
      "text/plain": [
       "[2021-10-27 14:14:56.203315] INFO: 因子分析: Normalization.process, 0.000s"
      ]
     },
     "metadata": {
      "is_log": true,
      "status": "INFO"
     },
     "output_type": "display_data"
    },
    {
     "data": {
      "text/plain": [
       "[2021-10-27 14:15:05.177710] INFO: 因子分析: Neutralization.process, 8.973s"
      ]
     },
     "metadata": {
      "is_log": true,
      "status": "INFO"
     },
     "output_type": "display_data"
    },
    {
     "data": {
      "text/plain": [
       "[2021-10-27 14:15:05.179562] INFO: 因子分析: DelayRebalanceDays.process, 0.000s"
      ]
     },
     "metadata": {
      "is_log": true,
      "status": "INFO"
     },
     "output_type": "display_data"
    },
    {
     "data": {
      "text/plain": [
       "[2021-10-27 14:15:08.306367] INFO: 因子分析: RebalancePeriod.process, 3.126s"
      ]
     },
     "metadata": {
      "is_log": true,
      "status": "INFO"
     },
     "output_type": "display_data"
    },
    {
     "data": {
      "text/plain": [
       "[2021-10-27 14:15:08.308169] INFO: 因子分析: RebalancePeriodsReturns.process, 0.000s"
      ]
     },
     "metadata": {
      "is_log": true,
      "status": "INFO"
     },
     "output_type": "display_data"
    },
    {
     "data": {
      "text/plain": [
       "[2021-10-27 14:15:08.309453] INFO: 因子分析: RebalancePrice.process, 0.000s"
      ]
     },
     "metadata": {
      "is_log": true,
      "status": "INFO"
     },
     "output_type": "display_data"
    },
    {
     "data": {
      "text/plain": [
       "[2021-10-27 14:15:08.310741] INFO: 因子分析: ReturnsCalculationMethod.process, 0.000s"
      ]
     },
     "metadata": {
      "is_log": true,
      "status": "INFO"
     },
     "output_type": "display_data"
    },
    {
     "data": {
      "text/plain": [
       "[2021-10-27 14:15:08.312041] INFO: 因子分析: FactorCoverage.process, 0.000s"
      ]
     },
     "metadata": {
      "is_log": true,
      "status": "INFO"
     },
     "output_type": "display_data"
    },
    {
     "data": {
      "text/plain": [
       "[2021-10-27 14:15:08.342803] INFO: 因子分析: QuantileReturns.process, 0.029s"
      ]
     },
     "metadata": {
      "is_log": true,
      "status": "INFO"
     },
     "output_type": "display_data"
    },
    {
     "data": {
      "text/plain": [
       "[2021-10-27 14:15:08.653013] INFO: 因子分析: IC.process, 0.308s"
      ]
     },
     "metadata": {
      "is_log": true,
      "status": "INFO"
     },
     "output_type": "display_data"
    },
    {
     "data": {
      "text/plain": [
       "[2021-10-27 14:15:08.669383] INFO: 因子分析: BasicDescription.process, 0.015s"
      ]
     },
     "metadata": {
      "is_log": true,
      "status": "INFO"
     },
     "output_type": "display_data"
    },
    {
     "data": {
      "text/plain": [
       "[2021-10-27 14:15:08.804190] INFO: 因子分析: Industry.process, 0.133s"
      ]
     },
     "metadata": {
      "is_log": true,
      "status": "INFO"
     },
     "output_type": "display_data"
    },
    {
     "data": {
      "text/plain": [
       "[2021-10-27 14:15:08.910777] INFO: 因子分析: RebalanceOverlap.process, 0.105s"
      ]
     },
     "metadata": {
      "is_log": true,
      "status": "INFO"
     },
     "output_type": "display_data"
    },
    {
     "data": {
      "text/plain": [
       "[2021-10-27 14:15:08.927551] INFO: 因子分析: PBRatio.process, 0.015s"
      ]
     },
     "metadata": {
      "is_log": true,
      "status": "INFO"
     },
     "output_type": "display_data"
    },
    {
     "data": {
      "text/plain": [
       "[2021-10-27 14:15:08.940600] INFO: 因子分析: Turnover.process, 0.012s"
      ]
     },
     "metadata": {
      "is_log": true,
      "status": "INFO"
     },
     "output_type": "display_data"
    },
    {
     "data": {
      "text/plain": [
       "[2021-10-27 14:15:08.949762] INFO: 因子分析: Stocks.process, 0.008s"
      ]
     },
     "metadata": {
      "is_log": true,
      "status": "INFO"
     },
     "output_type": "display_data"
    },
    {
     "data": {
      "text/plain": [
       "[2021-10-27 14:15:08.993960] INFO: 因子分析: MarketCap.process, 0.043s"
      ]
     },
     "metadata": {
      "is_log": true,
      "status": "INFO"
     },
     "output_type": "display_data"
    },
    {
     "data": {
      "text/plain": [
       "[2021-10-27 14:15:09.008841] INFO: 因子分析: FactorValue.process, 0.013s"
      ]
     },
     "metadata": {
      "is_log": true,
      "status": "INFO"
     },
     "output_type": "display_data"
    },
    {
     "data": {
      "text/plain": [
       "[2021-10-27 14:15:09.019806] INFO: 因子分析: process metrics, 12.852s"
      ]
     },
     "metadata": {
      "is_log": true,
      "status": "INFO"
     },
     "output_type": "display_data"
    },
    {
     "data": {
      "text/plain": [
       "[2021-10-27 14:15:09.022538] INFO: 因子分析: QuantileReturns.after_process"
      ]
     },
     "metadata": {
      "is_log": true,
      "status": "INFO"
     },
     "output_type": "display_data"
    },
    {
     "data": {
      "text/plain": [
       "[2021-10-27 14:15:09.024084] INFO: 因子分析: IC.after_process"
      ]
     },
     "metadata": {
      "is_log": true,
      "status": "INFO"
     },
     "output_type": "display_data"
    },
    {
     "data": {
      "text/plain": [
       "[2021-10-27 14:15:09.025392] INFO: 因子分析: BasicDescription.after_process"
      ]
     },
     "metadata": {
      "is_log": true,
      "status": "INFO"
     },
     "output_type": "display_data"
    },
    {
     "data": {
      "text/plain": [
       "[2021-10-27 14:15:09.026540] INFO: 因子分析: Industry.after_process"
      ]
     },
     "metadata": {
      "is_log": true,
      "status": "INFO"
     },
     "output_type": "display_data"
    },
    {
     "data": {
      "text/plain": [
       "[2021-10-27 14:15:09.027704] INFO: 因子分析: RebalanceOverlap.after_process"
      ]
     },
     "metadata": {
      "is_log": true,
      "status": "INFO"
     },
     "output_type": "display_data"
    },
    {
     "data": {
      "text/plain": [
       "[2021-10-27 14:15:09.028790] INFO: 因子分析: PBRatio.after_process"
      ]
     },
     "metadata": {
      "is_log": true,
      "status": "INFO"
     },
     "output_type": "display_data"
    },
    {
     "data": {
      "text/plain": [
       "[2021-10-27 14:15:09.029909] INFO: 因子分析: Turnover.after_process"
      ]
     },
     "metadata": {
      "is_log": true,
      "status": "INFO"
     },
     "output_type": "display_data"
    },
    {
     "data": {
      "text/plain": [
       "[2021-10-27 14:15:09.031011] INFO: 因子分析: Stocks.after_process"
      ]
     },
     "metadata": {
      "is_log": true,
      "status": "INFO"
     },
     "output_type": "display_data"
    },
    {
     "data": {
      "text/plain": [
       "[2021-10-27 14:15:09.032004] INFO: 因子分析: MarketCap.after_process"
      ]
     },
     "metadata": {
      "is_log": true,
      "status": "INFO"
     },
     "output_type": "display_data"
    },
    {
     "data": {
      "text/plain": [
       "[2021-10-27 14:15:09.032977] INFO: 因子分析: FactorValue.after_process"
      ]
     },
     "metadata": {
      "is_log": true,
      "status": "INFO"
     },
     "output_type": "display_data"
    },
    {
     "data": {
      "text/plain": [
       "[2021-10-27 14:15:09.033952] INFO: 因子分析: FactorPairwiseCorrelationMerged.after_process"
      ]
     },
     "metadata": {
      "is_log": true,
      "status": "INFO"
     },
     "output_type": "display_data"
    },
    {
     "data": {
      "text/plain": [
       "[2021-10-27 14:15:09.035043] INFO: 因子分析: process, -1 * (volume_0 / mean(volume_0, 2))"
      ]
     },
     "metadata": {
      "is_log": true,
      "status": "INFO"
     },
     "output_type": "display_data"
    },
    {
     "data": {
      "text/plain": [
       "[2021-10-27 14:15:09.036099] INFO: 因子分析: calculate_factor, -1 * (volume_0 / mean(volume_0, 2))"
      ]
     },
     "metadata": {
      "is_log": true,
      "status": "INFO"
     },
     "output_type": "display_data"
    },
    {
     "data": {
      "text/plain": [
       "[2021-10-27 14:15:09.805396] INFO: 因子分析: calculate_factor, done"
      ]
     },
     "metadata": {
      "is_log": true,
      "status": "INFO"
     },
     "output_type": "display_data"
    },
    {
     "data": {
      "text/plain": [
       "[2021-10-27 14:15:09.916949] INFO: 因子分析: QuantileReturns.before_process"
      ]
     },
     "metadata": {
      "is_log": true,
      "status": "INFO"
     },
     "output_type": "display_data"
    },
    {
     "data": {
      "text/plain": [
       "[2021-10-27 14:15:09.918618] INFO: 因子分析: IC.before_process"
      ]
     },
     "metadata": {
      "is_log": true,
      "status": "INFO"
     },
     "output_type": "display_data"
    },
    {
     "data": {
      "text/plain": [
       "[2021-10-27 14:15:09.919830] INFO: 因子分析: BasicDescription.before_process"
      ]
     },
     "metadata": {
      "is_log": true,
      "status": "INFO"
     },
     "output_type": "display_data"
    },
    {
     "data": {
      "text/plain": [
       "[2021-10-27 14:15:09.920857] INFO: 因子分析: Industry.before_process"
      ]
     },
     "metadata": {
      "is_log": true,
      "status": "INFO"
     },
     "output_type": "display_data"
    },
    {
     "data": {
      "text/plain": [
       "[2021-10-27 14:15:09.921883] INFO: 因子分析: RebalanceOverlap.before_process"
      ]
     },
     "metadata": {
      "is_log": true,
      "status": "INFO"
     },
     "output_type": "display_data"
    },
    {
     "data": {
      "text/plain": [
       "[2021-10-27 14:15:09.922877] INFO: 因子分析: PBRatio.before_process"
      ]
     },
     "metadata": {
      "is_log": true,
      "status": "INFO"
     },
     "output_type": "display_data"
    },
    {
     "data": {
      "text/plain": [
       "[2021-10-27 14:15:09.923875] INFO: 因子分析: Turnover.before_process"
      ]
     },
     "metadata": {
      "is_log": true,
      "status": "INFO"
     },
     "output_type": "display_data"
    },
    {
     "data": {
      "text/plain": [
       "[2021-10-27 14:15:09.924865] INFO: 因子分析: Stocks.before_process"
      ]
     },
     "metadata": {
      "is_log": true,
      "status": "INFO"
     },
     "output_type": "display_data"
    },
    {
     "data": {
      "text/plain": [
       "[2021-10-27 14:15:09.925879] INFO: 因子分析: MarketCap.before_process"
      ]
     },
     "metadata": {
      "is_log": true,
      "status": "INFO"
     },
     "output_type": "display_data"
    },
    {
     "data": {
      "text/plain": [
       "[2021-10-27 14:15:09.926919] INFO: 因子分析: FactorValue.before_process"
      ]
     },
     "metadata": {
      "is_log": true,
      "status": "INFO"
     },
     "output_type": "display_data"
    },
    {
     "data": {
      "text/plain": [
       "[2021-10-27 14:15:09.927937] INFO: 因子分析: FactorPairwiseCorrelationMerged.before_process"
      ]
     },
     "metadata": {
      "is_log": true,
      "status": "INFO"
     },
     "output_type": "display_data"
    },
    {
     "data": {
      "text/plain": [
       "[2021-10-27 14:15:09.987893] INFO: 因子分析: process metrics, start .."
      ]
     },
     "metadata": {
      "is_log": true,
      "status": "INFO"
     },
     "output_type": "display_data"
    },
    {
     "data": {
      "text/plain": [
       "[2021-10-27 14:15:10.008958] INFO: 因子分析: process, 94516/840413 rows .."
      ]
     },
     "metadata": {
      "is_log": true,
      "status": "INFO"
     },
     "output_type": "display_data"
    },
    {
     "data": {
      "text/plain": [
       "[2021-10-27 14:15:10.010582] INFO: 因子分析: BacktestInterval.process, 0.000s"
      ]
     },
     "metadata": {
      "is_log": true,
      "status": "INFO"
     },
     "output_type": "display_data"
    },
    {
     "data": {
      "text/plain": [
       "[2021-10-27 14:15:10.011979] INFO: 因子分析: Benchmark.process, 0.000s"
      ]
     },
     "metadata": {
      "is_log": true,
      "status": "INFO"
     },
     "output_type": "display_data"
    },
    {
     "data": {
      "text/plain": [
       "[2021-10-27 14:15:10.013074] INFO: 因子分析: StockPool.process, 0.000s"
      ]
     },
     "metadata": {
      "is_log": true,
      "status": "INFO"
     },
     "output_type": "display_data"
    },
    {
     "data": {
      "text/plain": [
       "[2021-10-27 14:15:10.014278] INFO: 因子分析: UserDataMerge.process, 0.000s"
      ]
     },
     "metadata": {
      "is_log": true,
      "status": "INFO"
     },
     "output_type": "display_data"
    },
    {
     "data": {
      "text/plain": [
       "[2021-10-27 14:15:10.015452] INFO: 因子分析: DropSTStocks.process, 0.000s"
      ]
     },
     "metadata": {
      "is_log": true,
      "status": "INFO"
     },
     "output_type": "display_data"
    },
    {
     "data": {
      "text/plain": [
       "[2021-10-27 14:15:10.016595] INFO: 因子分析: DropPriceLimitStocks.process, 0.000s"
      ]
     },
     "metadata": {
      "is_log": true,
      "status": "INFO"
     },
     "output_type": "display_data"
    },
    {
     "data": {
      "text/plain": [
       "[2021-10-27 14:15:10.017742] INFO: 因子分析: DropNewStocks.process, 0.000s"
      ]
     },
     "metadata": {
      "is_log": true,
      "status": "INFO"
     },
     "output_type": "display_data"
    },
    {
     "data": {
      "text/plain": [
       "[2021-10-27 14:15:10.018871] INFO: 因子分析: DropSuspendedStocks.process, 0.000s"
      ]
     },
     "metadata": {
      "is_log": true,
      "status": "INFO"
     },
     "output_type": "display_data"
    },
    {
     "data": {
      "text/plain": [
       "[2021-10-27 14:15:10.019964] INFO: 因子分析: QuantileCount.process, 0.000s"
      ]
     },
     "metadata": {
      "is_log": true,
      "status": "INFO"
     },
     "output_type": "display_data"
    },
    {
     "data": {
      "text/plain": [
       "[2021-10-27 14:15:10.021059] INFO: 因子分析: CommissionRates.process, 0.000s"
      ]
     },
     "metadata": {
      "is_log": true,
      "status": "INFO"
     },
     "output_type": "display_data"
    },
    {
     "data": {
      "text/plain": [
       "[2021-10-27 14:15:10.022175] INFO: 因子分析: Normalization.process, 0.000s"
      ]
     },
     "metadata": {
      "is_log": true,
      "status": "INFO"
     },
     "output_type": "display_data"
    },
    {
     "data": {
      "text/plain": [
       "[2021-10-27 14:15:18.372885] INFO: 因子分析: Neutralization.process, 8.350s"
      ]
     },
     "metadata": {
      "is_log": true,
      "status": "INFO"
     },
     "output_type": "display_data"
    },
    {
     "data": {
      "text/plain": [
       "[2021-10-27 14:15:18.374674] INFO: 因子分析: DelayRebalanceDays.process, 0.000s"
      ]
     },
     "metadata": {
      "is_log": true,
      "status": "INFO"
     },
     "output_type": "display_data"
    },
    {
     "data": {
      "text/plain": [
       "[2021-10-27 14:15:21.862287] INFO: 因子分析: RebalancePeriod.process, 3.486s"
      ]
     },
     "metadata": {
      "is_log": true,
      "status": "INFO"
     },
     "output_type": "display_data"
    },
    {
     "data": {
      "text/plain": [
       "[2021-10-27 14:15:21.863905] INFO: 因子分析: RebalancePeriodsReturns.process, 0.000s"
      ]
     },
     "metadata": {
      "is_log": true,
      "status": "INFO"
     },
     "output_type": "display_data"
    },
    {
     "data": {
      "text/plain": [
       "[2021-10-27 14:15:21.864972] INFO: 因子分析: RebalancePrice.process, 0.000s"
      ]
     },
     "metadata": {
      "is_log": true,
      "status": "INFO"
     },
     "output_type": "display_data"
    },
    {
     "data": {
      "text/plain": [
       "[2021-10-27 14:15:21.865934] INFO: 因子分析: ReturnsCalculationMethod.process, 0.000s"
      ]
     },
     "metadata": {
      "is_log": true,
      "status": "INFO"
     },
     "output_type": "display_data"
    },
    {
     "data": {
      "text/plain": [
       "[2021-10-27 14:15:21.869997] INFO: 因子分析: FactorCoverage.process, 0.000s"
      ]
     },
     "metadata": {
      "is_log": true,
      "status": "INFO"
     },
     "output_type": "display_data"
    },
    {
     "data": {
      "text/plain": [
       "[2021-10-27 14:15:21.904742] INFO: 因子分析: QuantileReturns.process, 0.031s"
      ]
     },
     "metadata": {
      "is_log": true,
      "status": "INFO"
     },
     "output_type": "display_data"
    },
    {
     "data": {
      "text/plain": [
       "[2021-10-27 14:15:22.230880] INFO: 因子分析: IC.process, 0.325s"
      ]
     },
     "metadata": {
      "is_log": true,
      "status": "INFO"
     },
     "output_type": "display_data"
    },
    {
     "data": {
      "text/plain": [
       "[2021-10-27 14:15:22.250042] INFO: 因子分析: BasicDescription.process, 0.018s"
      ]
     },
     "metadata": {
      "is_log": true,
      "status": "INFO"
     },
     "output_type": "display_data"
    },
    {
     "data": {
      "text/plain": [
       "[2021-10-27 14:15:22.401020] INFO: 因子分析: Industry.process, 0.149s"
      ]
     },
     "metadata": {
      "is_log": true,
      "status": "INFO"
     },
     "output_type": "display_data"
    },
    {
     "data": {
      "text/plain": [
       "[2021-10-27 14:15:22.530132] INFO: 因子分析: RebalanceOverlap.process, 0.127s"
      ]
     },
     "metadata": {
      "is_log": true,
      "status": "INFO"
     },
     "output_type": "display_data"
    },
    {
     "data": {
      "text/plain": [
       "[2021-10-27 14:15:22.547196] INFO: 因子分析: PBRatio.process, 0.016s"
      ]
     },
     "metadata": {
      "is_log": true,
      "status": "INFO"
     },
     "output_type": "display_data"
    },
    {
     "data": {
      "text/plain": [
       "[2021-10-27 14:15:22.560811] INFO: 因子分析: Turnover.process, 0.012s"
      ]
     },
     "metadata": {
      "is_log": true,
      "status": "INFO"
     },
     "output_type": "display_data"
    },
    {
     "data": {
      "text/plain": [
       "[2021-10-27 14:15:22.570692] INFO: 因子分析: Stocks.process, 0.008s"
      ]
     },
     "metadata": {
      "is_log": true,
      "status": "INFO"
     },
     "output_type": "display_data"
    },
    {
     "data": {
      "text/plain": [
       "[2021-10-27 14:15:22.618925] INFO: 因子分析: MarketCap.process, 0.046s"
      ]
     },
     "metadata": {
      "is_log": true,
      "status": "INFO"
     },
     "output_type": "display_data"
    },
    {
     "data": {
      "text/plain": [
       "[2021-10-27 14:15:22.633594] INFO: 因子分析: FactorValue.process, 0.013s"
      ]
     },
     "metadata": {
      "is_log": true,
      "status": "INFO"
     },
     "output_type": "display_data"
    },
    {
     "data": {
      "text/plain": [
       "[2021-10-27 14:15:22.646076] INFO: 因子分析: process metrics, 12.658s"
      ]
     },
     "metadata": {
      "is_log": true,
      "status": "INFO"
     },
     "output_type": "display_data"
    },
    {
     "data": {
      "text/plain": [
       "[2021-10-27 14:15:22.648685] INFO: 因子分析: QuantileReturns.after_process"
      ]
     },
     "metadata": {
      "is_log": true,
      "status": "INFO"
     },
     "output_type": "display_data"
    },
    {
     "data": {
      "text/plain": [
       "[2021-10-27 14:15:22.649954] INFO: 因子分析: IC.after_process"
      ]
     },
     "metadata": {
      "is_log": true,
      "status": "INFO"
     },
     "output_type": "display_data"
    },
    {
     "data": {
      "text/plain": [
       "[2021-10-27 14:15:22.651218] INFO: 因子分析: BasicDescription.after_process"
      ]
     },
     "metadata": {
      "is_log": true,
      "status": "INFO"
     },
     "output_type": "display_data"
    },
    {
     "data": {
      "text/plain": [
       "[2021-10-27 14:15:22.652266] INFO: 因子分析: Industry.after_process"
      ]
     },
     "metadata": {
      "is_log": true,
      "status": "INFO"
     },
     "output_type": "display_data"
    },
    {
     "data": {
      "text/plain": [
       "[2021-10-27 14:15:22.653672] INFO: 因子分析: RebalanceOverlap.after_process"
      ]
     },
     "metadata": {
      "is_log": true,
      "status": "INFO"
     },
     "output_type": "display_data"
    },
    {
     "data": {
      "text/plain": [
       "[2021-10-27 14:15:22.655272] INFO: 因子分析: PBRatio.after_process"
      ]
     },
     "metadata": {
      "is_log": true,
      "status": "INFO"
     },
     "output_type": "display_data"
    },
    {
     "data": {
      "text/plain": [
       "[2021-10-27 14:15:22.656938] INFO: 因子分析: Turnover.after_process"
      ]
     },
     "metadata": {
      "is_log": true,
      "status": "INFO"
     },
     "output_type": "display_data"
    },
    {
     "data": {
      "text/plain": [
       "[2021-10-27 14:15:22.658434] INFO: 因子分析: Stocks.after_process"
      ]
     },
     "metadata": {
      "is_log": true,
      "status": "INFO"
     },
     "output_type": "display_data"
    },
    {
     "data": {
      "text/plain": [
       "[2021-10-27 14:15:22.659942] INFO: 因子分析: MarketCap.after_process"
      ]
     },
     "metadata": {
      "is_log": true,
      "status": "INFO"
     },
     "output_type": "display_data"
    },
    {
     "data": {
      "text/plain": [
       "[2021-10-27 14:15:22.661499] INFO: 因子分析: FactorValue.after_process"
      ]
     },
     "metadata": {
      "is_log": true,
      "status": "INFO"
     },
     "output_type": "display_data"
    },
    {
     "data": {
      "text/plain": [
       "[2021-10-27 14:15:22.662976] INFO: 因子分析: FactorPairwiseCorrelationMerged.after_process"
      ]
     },
     "metadata": {
      "is_log": true,
      "status": "INFO"
     },
     "output_type": "display_data"
    },
    {
     "data": {
      "text/plain": [
       "[2021-10-27 14:15:22.664621] INFO: 因子分析: process, -1 * correlation(high_0/low_0, volume_0, 2)"
      ]
     },
     "metadata": {
      "is_log": true,
      "status": "INFO"
     },
     "output_type": "display_data"
    },
    {
     "data": {
      "text/plain": [
       "[2021-10-27 14:15:22.666196] INFO: 因子分析: calculate_factor, -1 * correlation(high_0/low_0, volume_0, 2)"
      ]
     },
     "metadata": {
      "is_log": true,
      "status": "INFO"
     },
     "output_type": "display_data"
    },
    {
     "data": {
      "text/plain": [
       "[2021-10-27 14:15:48.439990] INFO: 因子分析: calculate_factor, done"
      ]
     },
     "metadata": {
      "is_log": true,
      "status": "INFO"
     },
     "output_type": "display_data"
    },
    {
     "data": {
      "text/plain": [
       "[2021-10-27 14:15:48.557565] INFO: 因子分析: QuantileReturns.before_process"
      ]
     },
     "metadata": {
      "is_log": true,
      "status": "INFO"
     },
     "output_type": "display_data"
    },
    {
     "data": {
      "text/plain": [
       "[2021-10-27 14:15:48.559027] INFO: 因子分析: IC.before_process"
      ]
     },
     "metadata": {
      "is_log": true,
      "status": "INFO"
     },
     "output_type": "display_data"
    },
    {
     "data": {
      "text/plain": [
       "[2021-10-27 14:15:48.560088] INFO: 因子分析: BasicDescription.before_process"
      ]
     },
     "metadata": {
      "is_log": true,
      "status": "INFO"
     },
     "output_type": "display_data"
    },
    {
     "data": {
      "text/plain": [
       "[2021-10-27 14:15:48.561069] INFO: 因子分析: Industry.before_process"
      ]
     },
     "metadata": {
      "is_log": true,
      "status": "INFO"
     },
     "output_type": "display_data"
    },
    {
     "data": {
      "text/plain": [
       "[2021-10-27 14:15:48.562028] INFO: 因子分析: RebalanceOverlap.before_process"
      ]
     },
     "metadata": {
      "is_log": true,
      "status": "INFO"
     },
     "output_type": "display_data"
    },
    {
     "data": {
      "text/plain": [
       "[2021-10-27 14:15:48.562983] INFO: 因子分析: PBRatio.before_process"
      ]
     },
     "metadata": {
      "is_log": true,
      "status": "INFO"
     },
     "output_type": "display_data"
    },
    {
     "data": {
      "text/plain": [
       "[2021-10-27 14:15:48.563973] INFO: 因子分析: Turnover.before_process"
      ]
     },
     "metadata": {
      "is_log": true,
      "status": "INFO"
     },
     "output_type": "display_data"
    },
    {
     "data": {
      "text/plain": [
       "[2021-10-27 14:15:48.564937] INFO: 因子分析: Stocks.before_process"
      ]
     },
     "metadata": {
      "is_log": true,
      "status": "INFO"
     },
     "output_type": "display_data"
    },
    {
     "data": {
      "text/plain": [
       "[2021-10-27 14:15:48.565877] INFO: 因子分析: MarketCap.before_process"
      ]
     },
     "metadata": {
      "is_log": true,
      "status": "INFO"
     },
     "output_type": "display_data"
    },
    {
     "data": {
      "text/plain": [
       "[2021-10-27 14:15:48.566962] INFO: 因子分析: FactorValue.before_process"
      ]
     },
     "metadata": {
      "is_log": true,
      "status": "INFO"
     },
     "output_type": "display_data"
    },
    {
     "data": {
      "text/plain": [
       "[2021-10-27 14:15:48.568291] INFO: 因子分析: FactorPairwiseCorrelationMerged.before_process"
      ]
     },
     "metadata": {
      "is_log": true,
      "status": "INFO"
     },
     "output_type": "display_data"
    },
    {
     "data": {
      "text/plain": [
       "[2021-10-27 14:15:48.633806] INFO: 因子分析: process metrics, start .."
      ]
     },
     "metadata": {
      "is_log": true,
      "status": "INFO"
     },
     "output_type": "display_data"
    },
    {
     "data": {
      "text/plain": [
       "[2021-10-27 14:15:48.654797] INFO: 因子分析: process, 93893/840413 rows .."
      ]
     },
     "metadata": {
      "is_log": true,
      "status": "INFO"
     },
     "output_type": "display_data"
    },
    {
     "data": {
      "text/plain": [
       "[2021-10-27 14:15:48.656372] INFO: 因子分析: BacktestInterval.process, 0.000s"
      ]
     },
     "metadata": {
      "is_log": true,
      "status": "INFO"
     },
     "output_type": "display_data"
    },
    {
     "data": {
      "text/plain": [
       "[2021-10-27 14:15:48.657775] INFO: 因子分析: Benchmark.process, 0.000s"
      ]
     },
     "metadata": {
      "is_log": true,
      "status": "INFO"
     },
     "output_type": "display_data"
    },
    {
     "data": {
      "text/plain": [
       "[2021-10-27 14:15:48.659275] INFO: 因子分析: StockPool.process, 0.000s"
      ]
     },
     "metadata": {
      "is_log": true,
      "status": "INFO"
     },
     "output_type": "display_data"
    },
    {
     "data": {
      "text/plain": [
       "[2021-10-27 14:15:48.660823] INFO: 因子分析: UserDataMerge.process, 0.000s"
      ]
     },
     "metadata": {
      "is_log": true,
      "status": "INFO"
     },
     "output_type": "display_data"
    },
    {
     "data": {
      "text/plain": [
       "[2021-10-27 14:15:48.662401] INFO: 因子分析: DropSTStocks.process, 0.000s"
      ]
     },
     "metadata": {
      "is_log": true,
      "status": "INFO"
     },
     "output_type": "display_data"
    },
    {
     "data": {
      "text/plain": [
       "[2021-10-27 14:15:48.663904] INFO: 因子分析: DropPriceLimitStocks.process, 0.000s"
      ]
     },
     "metadata": {
      "is_log": true,
      "status": "INFO"
     },
     "output_type": "display_data"
    },
    {
     "data": {
      "text/plain": [
       "[2021-10-27 14:15:48.665375] INFO: 因子分析: DropNewStocks.process, 0.000s"
      ]
     },
     "metadata": {
      "is_log": true,
      "status": "INFO"
     },
     "output_type": "display_data"
    },
    {
     "data": {
      "text/plain": [
       "[2021-10-27 14:15:48.666888] INFO: 因子分析: DropSuspendedStocks.process, 0.000s"
      ]
     },
     "metadata": {
      "is_log": true,
      "status": "INFO"
     },
     "output_type": "display_data"
    },
    {
     "data": {
      "text/plain": [
       "[2021-10-27 14:15:48.668513] INFO: 因子分析: QuantileCount.process, 0.000s"
      ]
     },
     "metadata": {
      "is_log": true,
      "status": "INFO"
     },
     "output_type": "display_data"
    },
    {
     "data": {
      "text/plain": [
       "[2021-10-27 14:15:48.670038] INFO: 因子分析: CommissionRates.process, 0.000s"
      ]
     },
     "metadata": {
      "is_log": true,
      "status": "INFO"
     },
     "output_type": "display_data"
    },
    {
     "data": {
      "text/plain": [
       "[2021-10-27 14:15:48.671529] INFO: 因子分析: Normalization.process, 0.000s"
      ]
     },
     "metadata": {
      "is_log": true,
      "status": "INFO"
     },
     "output_type": "display_data"
    },
    {
     "data": {
      "text/plain": [
       "[2021-10-27 14:15:58.083953] INFO: 因子分析: Neutralization.process, 9.411s"
      ]
     },
     "metadata": {
      "is_log": true,
      "status": "INFO"
     },
     "output_type": "display_data"
    },
    {
     "data": {
      "text/plain": [
       "[2021-10-27 14:15:58.086000] INFO: 因子分析: DelayRebalanceDays.process, 0.000s"
      ]
     },
     "metadata": {
      "is_log": true,
      "status": "INFO"
     },
     "output_type": "display_data"
    },
    {
     "data": {
      "text/plain": [
       "[2021-10-27 14:16:01.431033] INFO: 因子分析: RebalancePeriod.process, 3.343s"
      ]
     },
     "metadata": {
      "is_log": true,
      "status": "INFO"
     },
     "output_type": "display_data"
    },
    {
     "data": {
      "text/plain": [
       "[2021-10-27 14:16:01.432796] INFO: 因子分析: RebalancePeriodsReturns.process, 0.000s"
      ]
     },
     "metadata": {
      "is_log": true,
      "status": "INFO"
     },
     "output_type": "display_data"
    },
    {
     "data": {
      "text/plain": [
       "[2021-10-27 14:16:01.433967] INFO: 因子分析: RebalancePrice.process, 0.000s"
      ]
     },
     "metadata": {
      "is_log": true,
      "status": "INFO"
     },
     "output_type": "display_data"
    },
    {
     "data": {
      "text/plain": [
       "[2021-10-27 14:16:01.434982] INFO: 因子分析: ReturnsCalculationMethod.process, 0.000s"
      ]
     },
     "metadata": {
      "is_log": true,
      "status": "INFO"
     },
     "output_type": "display_data"
    },
    {
     "data": {
      "text/plain": [
       "[2021-10-27 14:16:01.435979] INFO: 因子分析: FactorCoverage.process, 0.000s"
      ]
     },
     "metadata": {
      "is_log": true,
      "status": "INFO"
     },
     "output_type": "display_data"
    },
    {
     "data": {
      "text/plain": [
       "[2021-10-27 14:16:01.466443] INFO: 因子分析: QuantileReturns.process, 0.029s"
      ]
     },
     "metadata": {
      "is_log": true,
      "status": "INFO"
     },
     "output_type": "display_data"
    },
    {
     "data": {
      "text/plain": [
       "[2021-10-27 14:16:01.808113] INFO: 因子分析: IC.process, 0.340s"
      ]
     },
     "metadata": {
      "is_log": true,
      "status": "INFO"
     },
     "output_type": "display_data"
    },
    {
     "data": {
      "text/plain": [
       "[2021-10-27 14:16:01.824611] INFO: 因子分析: BasicDescription.process, 0.015s"
      ]
     },
     "metadata": {
      "is_log": true,
      "status": "INFO"
     },
     "output_type": "display_data"
    },
    {
     "data": {
      "text/plain": [
       "[2021-10-27 14:16:01.961746] INFO: 因子分析: Industry.process, 0.136s"
      ]
     },
     "metadata": {
      "is_log": true,
      "status": "INFO"
     },
     "output_type": "display_data"
    },
    {
     "data": {
      "text/plain": [
       "[2021-10-27 14:16:02.065517] INFO: 因子分析: RebalanceOverlap.process, 0.102s"
      ]
     },
     "metadata": {
      "is_log": true,
      "status": "INFO"
     },
     "output_type": "display_data"
    },
    {
     "data": {
      "text/plain": [
       "[2021-10-27 14:16:02.082298] INFO: 因子分析: PBRatio.process, 0.015s"
      ]
     },
     "metadata": {
      "is_log": true,
      "status": "INFO"
     },
     "output_type": "display_data"
    },
    {
     "data": {
      "text/plain": [
       "[2021-10-27 14:16:02.095682] INFO: 因子分析: Turnover.process, 0.012s"
      ]
     },
     "metadata": {
      "is_log": true,
      "status": "INFO"
     },
     "output_type": "display_data"
    },
    {
     "data": {
      "text/plain": [
       "[2021-10-27 14:16:02.104389] INFO: 因子分析: Stocks.process, 0.007s"
      ]
     },
     "metadata": {
      "is_log": true,
      "status": "INFO"
     },
     "output_type": "display_data"
    },
    {
     "data": {
      "text/plain": [
       "[2021-10-27 14:16:02.146571] INFO: 因子分析: MarketCap.process, 0.041s"
      ]
     },
     "metadata": {
      "is_log": true,
      "status": "INFO"
     },
     "output_type": "display_data"
    },
    {
     "data": {
      "text/plain": [
       "[2021-10-27 14:16:02.160350] INFO: 因子分析: FactorValue.process, 0.012s"
      ]
     },
     "metadata": {
      "is_log": true,
      "status": "INFO"
     },
     "output_type": "display_data"
    },
    {
     "data": {
      "text/plain": [
       "[2021-10-27 14:16:02.171414] INFO: 因子分析: process metrics, 13.538s"
      ]
     },
     "metadata": {
      "is_log": true,
      "status": "INFO"
     },
     "output_type": "display_data"
    },
    {
     "data": {
      "text/plain": [
       "[2021-10-27 14:16:02.174129] INFO: 因子分析: QuantileReturns.after_process"
      ]
     },
     "metadata": {
      "is_log": true,
      "status": "INFO"
     },
     "output_type": "display_data"
    },
    {
     "data": {
      "text/plain": [
       "[2021-10-27 14:16:02.175726] INFO: 因子分析: IC.after_process"
      ]
     },
     "metadata": {
      "is_log": true,
      "status": "INFO"
     },
     "output_type": "display_data"
    },
    {
     "data": {
      "text/plain": [
       "[2021-10-27 14:16:02.177004] INFO: 因子分析: BasicDescription.after_process"
      ]
     },
     "metadata": {
      "is_log": true,
      "status": "INFO"
     },
     "output_type": "display_data"
    },
    {
     "data": {
      "text/plain": [
       "[2021-10-27 14:16:02.178236] INFO: 因子分析: Industry.after_process"
      ]
     },
     "metadata": {
      "is_log": true,
      "status": "INFO"
     },
     "output_type": "display_data"
    },
    {
     "data": {
      "text/plain": [
       "[2021-10-27 14:16:02.179489] INFO: 因子分析: RebalanceOverlap.after_process"
      ]
     },
     "metadata": {
      "is_log": true,
      "status": "INFO"
     },
     "output_type": "display_data"
    },
    {
     "data": {
      "text/plain": [
       "[2021-10-27 14:16:02.180697] INFO: 因子分析: PBRatio.after_process"
      ]
     },
     "metadata": {
      "is_log": true,
      "status": "INFO"
     },
     "output_type": "display_data"
    },
    {
     "data": {
      "text/plain": [
       "[2021-10-27 14:16:02.181860] INFO: 因子分析: Turnover.after_process"
      ]
     },
     "metadata": {
      "is_log": true,
      "status": "INFO"
     },
     "output_type": "display_data"
    },
    {
     "data": {
      "text/plain": [
       "[2021-10-27 14:16:02.183088] INFO: 因子分析: Stocks.after_process"
      ]
     },
     "metadata": {
      "is_log": true,
      "status": "INFO"
     },
     "output_type": "display_data"
    },
    {
     "data": {
      "text/plain": [
       "[2021-10-27 14:16:02.184250] INFO: 因子分析: MarketCap.after_process"
      ]
     },
     "metadata": {
      "is_log": true,
      "status": "INFO"
     },
     "output_type": "display_data"
    },
    {
     "data": {
      "text/plain": [
       "[2021-10-27 14:16:02.185474] INFO: 因子分析: FactorValue.after_process"
      ]
     },
     "metadata": {
      "is_log": true,
      "status": "INFO"
     },
     "output_type": "display_data"
    },
    {
     "data": {
      "text/plain": [
       "[2021-10-27 14:16:02.186656] INFO: 因子分析: FactorPairwiseCorrelationMerged.after_process"
      ]
     },
     "metadata": {
      "is_log": true,
      "status": "INFO"
     },
     "output_type": "display_data"
    },
    {
     "data": {
      "text/plain": [
       "[2021-10-27 14:16:02.187976] INFO: 因子分析: QuantileReturns.before_merged_process"
      ]
     },
     "metadata": {
      "is_log": true,
      "status": "INFO"
     },
     "output_type": "display_data"
    },
    {
     "data": {
      "text/plain": [
       "[2021-10-27 14:16:02.189217] INFO: 因子分析: IC.before_merged_process"
      ]
     },
     "metadata": {
      "is_log": true,
      "status": "INFO"
     },
     "output_type": "display_data"
    },
    {
     "data": {
      "text/plain": [
       "[2021-10-27 14:16:02.190412] INFO: 因子分析: BasicDescription.before_merged_process"
      ]
     },
     "metadata": {
      "is_log": true,
      "status": "INFO"
     },
     "output_type": "display_data"
    },
    {
     "data": {
      "text/plain": [
       "[2021-10-27 14:16:02.191523] INFO: 因子分析: Industry.before_merged_process"
      ]
     },
     "metadata": {
      "is_log": true,
      "status": "INFO"
     },
     "output_type": "display_data"
    },
    {
     "data": {
      "text/plain": [
       "[2021-10-27 14:16:02.192620] INFO: 因子分析: RebalanceOverlap.before_merged_process"
      ]
     },
     "metadata": {
      "is_log": true,
      "status": "INFO"
     },
     "output_type": "display_data"
    },
    {
     "data": {
      "text/plain": [
       "[2021-10-27 14:16:02.193711] INFO: 因子分析: PBRatio.before_merged_process"
      ]
     },
     "metadata": {
      "is_log": true,
      "status": "INFO"
     },
     "output_type": "display_data"
    },
    {
     "data": {
      "text/plain": [
       "[2021-10-27 14:16:02.194792] INFO: 因子分析: Turnover.before_merged_process"
      ]
     },
     "metadata": {
      "is_log": true,
      "status": "INFO"
     },
     "output_type": "display_data"
    },
    {
     "data": {
      "text/plain": [
       "[2021-10-27 14:16:02.195880] INFO: 因子分析: Stocks.before_merged_process"
      ]
     },
     "metadata": {
      "is_log": true,
      "status": "INFO"
     },
     "output_type": "display_data"
    },
    {
     "data": {
      "text/plain": [
       "[2021-10-27 14:16:02.196960] INFO: 因子分析: MarketCap.before_merged_process"
      ]
     },
     "metadata": {
      "is_log": true,
      "status": "INFO"
     },
     "output_type": "display_data"
    },
    {
     "data": {
      "text/plain": [
       "[2021-10-27 14:16:02.198045] INFO: 因子分析: FactorValue.before_merged_process"
      ]
     },
     "metadata": {
      "is_log": true,
      "status": "INFO"
     },
     "output_type": "display_data"
    },
    {
     "data": {
      "text/plain": [
       "[2021-10-27 14:16:02.199137] INFO: 因子分析: FactorPairwiseCorrelationMerged.before_merged_process"
      ]
     },
     "metadata": {
      "is_log": true,
      "status": "INFO"
     },
     "output_type": "display_data"
    },
    {
     "data": {
      "text/plain": [
       "[2021-10-27 14:16:02.276116] INFO: 因子分析: FactorPairwiseCorrelationMerged.merged_process, 0.076s"
      ]
     },
     "metadata": {
      "is_log": true,
      "status": "INFO"
     },
     "output_type": "display_data"
    },
    {
     "data": {
      "text/plain": [
       "[2021-10-27 14:16:02.277929] INFO: 因子分析: QuantileReturns.after_merged_process"
      ]
     },
     "metadata": {
      "is_log": true,
      "status": "INFO"
     },
     "output_type": "display_data"
    },
    {
     "data": {
      "text/plain": [
       "[2021-10-27 14:16:02.279381] INFO: 因子分析: IC.after_merged_process"
      ]
     },
     "metadata": {
      "is_log": true,
      "status": "INFO"
     },
     "output_type": "display_data"
    },
    {
     "data": {
      "text/plain": [
       "[2021-10-27 14:16:02.280797] INFO: 因子分析: BasicDescription.after_merged_process"
      ]
     },
     "metadata": {
      "is_log": true,
      "status": "INFO"
     },
     "output_type": "display_data"
    },
    {
     "data": {
      "text/plain": [
       "[2021-10-27 14:16:02.282215] INFO: 因子分析: Industry.after_merged_process"
      ]
     },
     "metadata": {
      "is_log": true,
      "status": "INFO"
     },
     "output_type": "display_data"
    },
    {
     "data": {
      "text/plain": [
       "[2021-10-27 14:16:02.283760] INFO: 因子分析: RebalanceOverlap.after_merged_process"
      ]
     },
     "metadata": {
      "is_log": true,
      "status": "INFO"
     },
     "output_type": "display_data"
    },
    {
     "data": {
      "text/plain": [
       "[2021-10-27 14:16:02.285168] INFO: 因子分析: PBRatio.after_merged_process"
      ]
     },
     "metadata": {
      "is_log": true,
      "status": "INFO"
     },
     "output_type": "display_data"
    },
    {
     "data": {
      "text/plain": [
       "[2021-10-27 14:16:02.286735] INFO: 因子分析: Turnover.after_merged_process"
      ]
     },
     "metadata": {
      "is_log": true,
      "status": "INFO"
     },
     "output_type": "display_data"
    },
    {
     "data": {
      "text/plain": [
       "[2021-10-27 14:16:02.288448] INFO: 因子分析: Stocks.after_merged_process"
      ]
     },
     "metadata": {
      "is_log": true,
      "status": "INFO"
     },
     "output_type": "display_data"
    },
    {
     "data": {
      "text/plain": [
       "[2021-10-27 14:16:02.290117] INFO: 因子分析: MarketCap.after_merged_process"
      ]
     },
     "metadata": {
      "is_log": true,
      "status": "INFO"
     },
     "output_type": "display_data"
    },
    {
     "data": {
      "text/plain": [
       "[2021-10-27 14:16:02.291516] INFO: 因子分析: FactorValue.after_merged_process"
      ]
     },
     "metadata": {
      "is_log": true,
      "status": "INFO"
     },
     "output_type": "display_data"
    },
    {
     "data": {
      "text/plain": [
       "[2021-10-27 14:16:02.292643] INFO: 因子分析: FactorPairwiseCorrelationMerged.after_merged_process"
      ]
     },
     "metadata": {
      "is_log": true,
      "status": "INFO"
     },
     "output_type": "display_data"
    },
    {
     "data": {
      "text/plain": [
       "[2021-10-27 14:16:02.296979] INFO: 因子分析: batch_process ended, 165.360s"
      ]
     },
     "metadata": {
      "is_log": true,
      "status": "INFO"
     },
     "output_type": "display_data"
    },
    {
     "data": {
      "text/html": [
       "<div id='bigchart-3484b99291b0431493c7d05c9a5d409d' class='bigchart display' style='display:none'><ul class='nav nav-tabs' style='padding-left: 0;'><li class='tabtitle' style='margin: 0;'><span style='margin: 0;font-size: 1.2em;display: inline-block;padding: 10px 10px;'>因子分析</span></li><li class='active'><a>多因子对比</a></li><li><a>因子1</a></li><li><a>因子2</a></li><li><a>因子3</a></li><li><a>因子4</a></li></ul><div class='tab-content' style='min-height: 100px;text-align: center;'><div class='tab-pane active' id='多因子对比'><div class=\"factorlens-container\"><code style=\"display:none\" class=\"bq-template-label-inject\">\n",
       "                    {\n",
       "                        \"type\": \"factor-track\",\n",
       "                        \"data\": {\n",
       "                            \"exprs\": [\"-1 * correlation(sum((close_0 * volume_0), 2) / sum(volume_0, 2), volume_0, 2)\", \"open_0 - close_1\", \"-1 * (volume_0 / mean(volume_0, 2))\", \"-1 * correlation(high_0/low_0, volume_0, 2)\"],\n",
       "                            \"options\": {\"BacktestInterval\": [\"2021-01-01\", \"2021-12-31\"], \"Benchmark\": \"none\", \"StockPool\": \"in_csi500_0\", \"UserDataMerge\": \"left\", \"DropSTStocks\": 1, \"DropPriceLimitStocks\": 1, \"DropNewStocks\": 60, \"DropSuspendedStocks\": 1, \"QuantileCount\": 5, \"CommissionRates\": 0.0016, \"Normalization\": 0, \"Neutralization\": \"industry,size\", \"DelayRebalanceDays\": 0, \"RebalancePeriod\": 2, \"RebalancePeriodsReturns\": 0, \"RebalancePrice\": \"close_0\", \"ReturnsCalculationMethod\": \"cumprod\", \"FactorCoverage\": 0.5, \"_HASH\": \"427c36e0d1fb6c659ba1ca9111dc079b\"}\n",
       "                        }\n",
       "                    }\n",
       "                    </code><div class=\"type_title_left\"><p>分析结果</p></div><table class=\"factor_table\">\n",
       "            <thead>\n",
       "                <tr>\n",
       "                    <th>因子名称</th>\n",
       "                    <th>因子</th>\n",
       "                    <th>最低分位累计收益</th>\n",
       "                    <th>最高分位累计收益</th>\n",
       "                    <th>最低分位近1年收益</th>\n",
       "                    <th>最高分位近1年收益</th>\n",
       "                    <th>最低分位近1月收益</th>\n",
       "                    <th>最高分位近1月收益</th>\n",
       "                    <th>IC均值</th>\n",
       "                    <th>IR值</th>\n",
       "                    <th>拥挤度</th>\n",
       "                    <th>估值</th>\n",
       "                </tr>\n",
       "            </thead>\n",
       "            <tbody>\n",
       "                    \n",
       "                        <tr>\n",
       "                        <th>因子1</th>\n",
       "                        <td title=\"-1 * correlation(sum((close_0 * volume_0), 2) / sum(volume_0, 2), volume_0, 2)\" style=\"max-width: 100px; overflow: hidden; text-overflow: ellipsis; white-space: nowrap;\">-1 * correlation(sum((close_0 * volume_0), 2) / sum(volume_0, 2), volume_0, 2)</td>\n",
       "                            \n",
       "                                <td><span class=\"pct down\">-22.86%</span></td>\n",
       "                            \n",
       "                                <td><span class=\"pct down\">-15.45%</span></td>\n",
       "                            \n",
       "                                <td><span class=\"pct down\">-22.86%</span></td>\n",
       "                            \n",
       "                                <td><span class=\"pct down\">-15.45%</span></td>\n",
       "                            \n",
       "                                <td><span class=\"pct down\">-6.24%</span></td>\n",
       "                            \n",
       "                                <td><span class=\"pct down\">-8.33%</span></td>\n",
       "                            \n",
       "                                <td>0.01</td>\n",
       "                            \n",
       "                                <td>0.25</td>\n",
       "                            \n",
       "                                <td>1.13</td>\n",
       "                            \n",
       "                                <td>1.09</td>\n",
       "                            \n",
       "                        </tr>\n",
       "                    \n",
       "                        <tr>\n",
       "                        <th>因子2</th>\n",
       "                        <td title=\"open_0 - close_1\" style=\"max-width: 100px; overflow: hidden; text-overflow: ellipsis; white-space: nowrap;\">open_0 - close_1</td>\n",
       "                            \n",
       "                                <td><span class=\"pct down\">-28.13%</span></td>\n",
       "                            \n",
       "                                <td><span class=\"pct down\">-25.66%</span></td>\n",
       "                            \n",
       "                                <td><span class=\"pct down\">-28.13%</span></td>\n",
       "                            \n",
       "                                <td><span class=\"pct down\">-25.66%</span></td>\n",
       "                            \n",
       "                                <td><span class=\"pct down\">-7.50%</span></td>\n",
       "                            \n",
       "                                <td><span class=\"pct down\">-9.67%</span></td>\n",
       "                            \n",
       "                                <td>-0.01</td>\n",
       "                            \n",
       "                                <td>-0.10</td>\n",
       "                            \n",
       "                                <td>1.02</td>\n",
       "                            \n",
       "                                <td>0.97</td>\n",
       "                            \n",
       "                        </tr>\n",
       "                    \n",
       "                        <tr>\n",
       "                        <th>因子3</th>\n",
       "                        <td title=\"-1 * (volume_0 / mean(volume_0, 2))\" style=\"max-width: 100px; overflow: hidden; text-overflow: ellipsis; white-space: nowrap;\">-1 * (volume_0 / mean(volume_0, 2))</td>\n",
       "                            \n",
       "                                <td><span class=\"pct down\">-31.99%</span></td>\n",
       "                            \n",
       "                                <td><span class=\"pct down\">-19.79%</span></td>\n",
       "                            \n",
       "                                <td><span class=\"pct down\">-31.99%</span></td>\n",
       "                            \n",
       "                                <td><span class=\"pct down\">-19.79%</span></td>\n",
       "                            \n",
       "                                <td><span class=\"pct down\">-9.45%</span></td>\n",
       "                            \n",
       "                                <td><span class=\"pct down\">-8.01%</span></td>\n",
       "                            \n",
       "                                <td>0.01</td>\n",
       "                            \n",
       "                                <td>0.28</td>\n",
       "                            \n",
       "                                <td>0.84</td>\n",
       "                            \n",
       "                                <td>0.81</td>\n",
       "                            \n",
       "                        </tr>\n",
       "                    \n",
       "                        <tr>\n",
       "                        <th>因子4</th>\n",
       "                        <td title=\"-1 * correlation(high_0/low_0, volume_0, 2)\" style=\"max-width: 100px; overflow: hidden; text-overflow: ellipsis; white-space: nowrap;\">-1 * correlation(high_0/low_0, volume_0, 2)</td>\n",
       "                            \n",
       "                                <td><span class=\"pct down\">-19.92%</span></td>\n",
       "                            \n",
       "                                <td><span class=\"pct down\">-19.62%</span></td>\n",
       "                            \n",
       "                                <td><span class=\"pct down\">-19.92%</span></td>\n",
       "                            \n",
       "                                <td><span class=\"pct down\">-19.62%</span></td>\n",
       "                            \n",
       "                                <td><span class=\"pct down\">-6.29%</span></td>\n",
       "                            \n",
       "                                <td><span class=\"pct down\">-8.99%</span></td>\n",
       "                            \n",
       "                                <td>-0.00</td>\n",
       "                            \n",
       "                                <td>-0.03</td>\n",
       "                            \n",
       "                                <td>0.93</td>\n",
       "                            \n",
       "                                <td>0.81</td>\n",
       "                            \n",
       "                        </tr>\n",
       "                    \n",
       "            </tbody>\n",
       "        </table><div id=\"bigchart-115d6119f1384a8886779c9d58de8066\" class=\"bigchart\"></div><div class=\"bigchart-data\"><pre style=\"display:none\">bigcharts-data-start/{\"chart\":{\"height\":500,\"renderTo\":\"bigchart-115d6119f1384a8886779c9d58de8066\"},\"legend\":{\"enabled\":true},\"title\":{\"text\":\"\\u6700\\u4f4e\\u5206\\u4f4d\\u6536\\u76ca\\u5bf9\\u6bd4\"},\"stock\":true,\"series\":[{\"name\":\"\\u56e0\\u5b501\",\"yAxis\":0,\"data\":[[1609718400000,1.0],[1609804800000,1.0],[1609891200000,0.9937],[1609977600000,0.9878],[1610064000000,0.9938],[1610323200000,0.9775],[1610409600000,0.9861],[1610496000000,0.9798],[1610582400000,0.9738],[1610668800000,0.9674],[1610928000000,0.9764],[1611014400000,0.9728],[1611100800000,0.9779],[1611187200000,0.985],[1611273600000,0.9714],[1611532800000,0.9576],[1611619200000,0.9489],[1611705600000,0.945],[1611792000000,0.93],[1611878400000,0.9149],[1612137600000,0.9205],[1612224000000,0.9176],[1612310400000,0.9056],[1612396800000,0.8885],[1612483200000,0.8804],[1612742400000,0.8833],[1612828800000,0.8966],[1612915200000,0.8987],[1613606400000,0.9179],[1613692800000,0.9375],[1613952000000,0.9438],[1614038400000,0.9428],[1614124800000,0.9377],[1614211200000,0.9318],[1614297600000,0.9174],[1614556800000,0.9342],[1614643200000,0.9315],[1614729600000,0.9388],[1614816000000,0.9239],[1614902400000,0.9222],[1615161600000,0.9059],[1615248000000,0.8846],[1615334400000,0.8746],[1615420800000,0.888],[1615507200000,0.8942],[1615766400000,0.8843],[1615852800000,0.8933],[1615939200000,0.8932],[1616025600000,0.8945],[1616112000000,0.885],[1616371200000,0.899],[1616457600000,0.886],[1616544000000,0.8801],[1616630400000,0.8779],[1616716800000,0.8859],[1616976000000,0.8818],[1617062400000,0.8758],[1617148800000,0.8758],[1617235200000,0.8829],[1617321600000,0.8813],[1617667200000,0.8859],[1617753600000,0.886],[1617840000000,0.8852],[1617926400000,0.8798],[1618185600000,0.8621],[1618272000000,0.8558],[1618358400000,0.862],[1618444800000,0.856],[1618531200000,0.8673],[1618790400000,0.8714],[1618876800000,0.8697],[1618963200000,0.8711],[1619049600000,0.8745],[1619136000000,0.8728],[1619395200000,0.8659],[1619481600000,0.8588],[1619568000000,0.8628],[1619654400000,0.8617],[1619740800000,0.8545],[1620259200000,0.8642],[1620345600000,0.8564],[1620604800000,0.8559],[1620691200000,0.8534],[1620777600000,0.8572],[1620864000000,0.8567],[1620950400000,0.8699],[1621209600000,0.8702],[1621296000000,0.8729],[1621382400000,0.8705],[1621468800000,0.863],[1621555200000,0.8613],[1621814400000,0.8654],[1621900800000,0.8744],[1621987200000,0.8757],[1622073600000,0.8816],[1622160000000,0.8791],[1622419200000,0.887],[1622505600000,0.8903],[1622592000000,0.8831],[1622678400000,0.8791],[1622764800000,0.8804],[1623024000000,0.8821],[1623110400000,0.8805],[1623196800000,0.8794],[1623283200000,0.882],[1623369600000,0.8728],[1623715200000,0.8626],[1623801600000,0.8512],[1623888000000,0.8565],[1623974400000,0.8555],[1624233600000,0.8597],[1624320000000,0.8612],[1624406400000,0.8647],[1624492800000,0.8563],[1624579200000,0.8594],[1624838400000,0.8575],[1624924800000,0.85],[1625011200000,0.8509],[1625097600000,0.841],[1625184000000,0.8313],[1625443200000,0.8285],[1625529600000,0.8279],[1625616000000,0.8323],[1625702400000,0.829],[1625788800000,0.8332],[1626048000000,0.8415],[1626134400000,0.8455],[1626220800000,0.8365],[1626307200000,0.8343],[1626393600000,0.8317],[1626652800000,0.824],[1626739200000,0.8234],[1626825600000,0.8318],[1626912000000,0.8259],[1626998400000,0.8161],[1627257600000,0.8022],[1627344000000,0.7868],[1627430400000,0.7779],[1627516800000,0.785],[1627603200000,0.786],[1627862400000,0.7988],[1627948800000,0.7957],[1628035200000,0.7984],[1628121600000,0.7935],[1628208000000,0.7906],[1628467200000,0.7982],[1628553600000,0.8032],[1628640000000,0.8064],[1628726400000,0.8028],[1628812800000,0.7982],[1629072000000,0.7982],[1629158400000,0.7803],[1629244800000,0.7847],[1629331200000,0.7825],[1629417600000,0.778],[1629676800000,0.789],[1629763200000,0.7924],[1629849600000,0.7938],[1629936000000,0.7877],[1630022400000,0.7895],[1630281600000,0.7941],[1630368000000,0.7963],[1630454400000,0.7942],[1630540800000,0.7999],[1630627200000,0.7998],[1630886400000,0.8082],[1630972800000,0.819],[1631059200000,0.8302],[1631145600000,0.8408],[1631232000000,0.8345],[1631491200000,0.8385],[1631577600000,0.8227],[1631664000000,0.8222],[1631750400000,0.8087],[1631836800000,0.8016],[1632268800000,0.8067],[1632355200000,0.8163],[1632441600000,0.8057],[1632700800000,0.7878],[1632787200000,0.7908],[1632873600000,0.7747],[1632960000000,0.7796],[1633651200000,0.7825],[1633910400000,0.7831],[1633996800000,0.7716],[1634083200000,0.7732],[1634169600000,0.7729],[1634256000000,0.7703],[1634515200000,0.7735],[1634601600000,0.7764],[1634688000000,0.7776],[1634774400000,0.7746],[1634860800000,0.7678],[1635120000000,0.7714]],\"color\":\"#F08B55\"},{\"name\":\"\\u56e0\\u5b502\",\"yAxis\":0,\"data\":[[1609718400000,1.0],[1609804800000,1.0],[1609891200000,0.9927],[1609977600000,0.9913],[1610064000000,0.9937],[1610323200000,0.975],[1610409600000,0.9879],[1610496000000,0.9784],[1610582400000,0.9701],[1610668800000,0.9608],[1610928000000,0.9722],[1611014400000,0.9652],[1611100800000,0.9717],[1611187200000,0.9843],[1611273600000,0.9896],[1611532800000,0.9839],[1611619200000,0.9652],[1611705600000,0.9606],[1611792000000,0.9382],[1611878400000,0.9255],[1612137600000,0.9337],[1612224000000,0.9348],[1612310400000,0.9235],[1612396800000,0.9105],[1612483200000,0.8939],[1612742400000,0.9008],[1612828800000,0.92],[1612915200000,0.926],[1613606400000,0.9344],[1613692800000,0.939],[1613952000000,0.9397],[1614038400000,0.9299],[1614124800000,0.9203],[1614211200000,0.9112],[1614297600000,0.8937],[1614556800000,0.9101],[1614643200000,0.9014],[1614729600000,0.911],[1614816000000,0.8928],[1614902400000,0.8898],[1615161600000,0.8666],[1615248000000,0.8427],[1615334400000,0.8398],[1615420800000,0.853],[1615507200000,0.8533],[1615766400000,0.845],[1615852800000,0.8506],[1615939200000,0.8527],[1616025600000,0.8567],[1616112000000,0.8467],[1616371200000,0.8619],[1616457600000,0.8464],[1616544000000,0.8358],[1616630400000,0.835],[1616716800000,0.8451],[1616976000000,0.8445],[1617062400000,0.8446],[1617148800000,0.8411],[1617235200000,0.8495],[1617321600000,0.851],[1617667200000,0.8526],[1617753600000,0.8491],[1617840000000,0.848],[1617926400000,0.8442],[1618185600000,0.832],[1618272000000,0.8282],[1618358400000,0.837],[1618444800000,0.8353],[1618531200000,0.8474],[1618790400000,0.8559],[1618876800000,0.8567],[1618963200000,0.8538],[1619049600000,0.8571],[1619136000000,0.8551],[1619395200000,0.8525],[1619481600000,0.8496],[1619568000000,0.8551],[1619654400000,0.8526],[1619740800000,0.8512],[1620259200000,0.8454],[1620345600000,0.8409],[1620604800000,0.8382],[1620691200000,0.8356],[1620777600000,0.8409],[1620864000000,0.8339],[1620950400000,0.8423],[1621209600000,0.8506],[1621296000000,0.8516],[1621382400000,0.8476],[1621468800000,0.8421],[1621555200000,0.8403],[1621814400000,0.8427],[1621900800000,0.8521],[1621987200000,0.8528],[1622073600000,0.8603],[1622160000000,0.8514],[1622419200000,0.859],[1622505600000,0.8599],[1622592000000,0.8487],[1622678400000,0.8414],[1622764800000,0.8496],[1623024000000,0.852],[1623110400000,0.8521],[1623196800000,0.8483],[1623283200000,0.8552],[1623369600000,0.8484],[1623715200000,0.8414],[1623801600000,0.828],[1623888000000,0.8359],[1623974400000,0.8405],[1624233600000,0.8425],[1624320000000,0.8453],[1624406400000,0.8525],[1624492800000,0.8394],[1624579200000,0.8467],[1624838400000,0.8464],[1624924800000,0.8329],[1625011200000,0.8336],[1625097600000,0.8218],[1625184000000,0.8096],[1625443200000,0.8133],[1625529600000,0.8095],[1625616000000,0.8147],[1625702400000,0.8098],[1625788800000,0.8165],[1626048000000,0.8263],[1626134400000,0.8276],[1626220800000,0.817],[1626307200000,0.8155],[1626393600000,0.812],[1626652800000,0.8059],[1626739200000,0.8073],[1626825600000,0.8141],[1626912000000,0.8122],[1626998400000,0.8053],[1627257600000,0.7904],[1627344000000,0.7734],[1627430400000,0.7622],[1627516800000,0.776],[1627603200000,0.7749],[1627862400000,0.7856],[1627948800000,0.7817],[1628035200000,0.7883],[1628121600000,0.7803],[1628208000000,0.7814],[1628467200000,0.7836],[1628553600000,0.7847],[1628640000000,0.7872],[1628726400000,0.7864],[1628812800000,0.7837],[1629072000000,0.7808],[1629158400000,0.7645],[1629244800000,0.7708],[1629331200000,0.7702],[1629417600000,0.762],[1629676800000,0.7719],[1629763200000,0.7752],[1629849600000,0.7796],[1629936000000,0.7727],[1630022400000,0.7716],[1630281600000,0.7776],[1630368000000,0.7759],[1630454400000,0.7711],[1630540800000,0.7742],[1630627200000,0.7708],[1630886400000,0.7777],[1630972800000,0.7859],[1631059200000,0.7845],[1631145600000,0.787],[1631232000000,0.7834],[1631491200000,0.787],[1631577600000,0.7769],[1631664000000,0.7773],[1631750400000,0.7625],[1631836800000,0.7577],[1632268800000,0.7594],[1632355200000,0.7676],[1632441600000,0.7575],[1632700800000,0.7365],[1632787200000,0.7377],[1632873600000,0.7192],[1632960000000,0.728],[1633651200000,0.7309],[1633910400000,0.7338],[1633996800000,0.7188],[1634083200000,0.7222],[1634169600000,0.7247],[1634256000000,0.7222],[1634515200000,0.7231],[1634601600000,0.726],[1634688000000,0.727],[1634774400000,0.7217],[1634860800000,0.7139],[1635120000000,0.7187]],\"color\":\"#648FD5\"},{\"name\":\"\\u56e0\\u5b503\",\"yAxis\":0,\"data\":[[1609718400000,null],[1609804800000,1.0],[1609891200000,0.9938],[1609977600000,0.9845],[1610064000000,0.9879],[1610323200000,0.9656],[1610409600000,0.9722],[1610496000000,0.9678],[1610582400000,0.9715],[1610668800000,0.9653],[1610928000000,0.9765],[1611014400000,0.9731],[1611100800000,0.9705],[1611187200000,0.9757],[1611273600000,0.9696],[1611532800000,0.9565],[1611619200000,0.9427],[1611705600000,0.9461],[1611792000000,0.9313],[1611878400000,0.9187],[1612137600000,0.9239],[1612224000000,0.9223],[1612310400000,0.9113],[1612396800000,0.8936],[1612483200000,0.8829],[1612742400000,0.8888],[1612828800000,0.9063],[1612915200000,0.9105],[1613606400000,0.9244],[1613692800000,0.9421],[1613952000000,0.9471],[1614038400000,0.9404],[1614124800000,0.9291],[1614211200000,0.9214],[1614297600000,0.9039],[1614556800000,0.9162],[1614643200000,0.9151],[1614729600000,0.9254],[1614816000000,0.9163],[1614902400000,0.9123],[1615161600000,0.8949],[1615248000000,0.8762],[1615334400000,0.8634],[1615420800000,0.8786],[1615507200000,0.8782],[1615766400000,0.8718],[1615852800000,0.8754],[1615939200000,0.8741],[1616025600000,0.8766],[1616112000000,0.8663],[1616371200000,0.8794],[1616457600000,0.8641],[1616544000000,0.8536],[1616630400000,0.8529],[1616716800000,0.8628],[1616976000000,0.8583],[1617062400000,0.8584],[1617148800000,0.8536],[1617235200000,0.8588],[1617321600000,0.8566],[1617667200000,0.8575],[1617753600000,0.8553],[1617840000000,0.8535],[1617926400000,0.8513],[1618185600000,0.8372],[1618272000000,0.8299],[1618358400000,0.8351],[1618444800000,0.8366],[1618531200000,0.8476],[1618790400000,0.8559],[1618876800000,0.8512],[1618963200000,0.848],[1619049600000,0.8522],[1619136000000,0.8464],[1619395200000,0.8418],[1619481600000,0.8391],[1619568000000,0.8397],[1619654400000,0.8372],[1619740800000,0.8316],[1620259200000,0.8328],[1620345600000,0.8302],[1620604800000,0.8344],[1620691200000,0.8366],[1620777600000,0.8395],[1620864000000,0.8354],[1620950400000,0.8428],[1621209600000,0.842],[1621296000000,0.8413],[1621382400000,0.8381],[1621468800000,0.8348],[1621555200000,0.8313],[1621814400000,0.8337],[1621900800000,0.8389],[1621987200000,0.8378],[1622073600000,0.8413],[1622160000000,0.8352],[1622419200000,0.8406],[1622505600000,0.8397],[1622592000000,0.8317],[1622678400000,0.8283],[1622764800000,0.8281],[1623024000000,0.8295],[1623110400000,0.8279],[1623196800000,0.8256],[1623283200000,0.8295],[1623369600000,0.8241],[1623715200000,0.8159],[1623801600000,0.8058],[1623888000000,0.8105],[1623974400000,0.8151],[1624233600000,0.8185],[1624320000000,0.8212],[1624406400000,0.8223],[1624492800000,0.8177],[1624579200000,0.8227],[1624838400000,0.8179],[1624924800000,0.8122],[1625011200000,0.8153],[1625097600000,0.8041],[1625184000000,0.7959],[1625443200000,0.8006],[1625529600000,0.8008],[1625616000000,0.802],[1625702400000,0.7959],[1625788800000,0.7998],[1626048000000,0.8048],[1626134400000,0.81],[1626220800000,0.8017],[1626307200000,0.7991],[1626393600000,0.7975],[1626652800000,0.7936],[1626739200000,0.7894],[1626825600000,0.794],[1626912000000,0.7963],[1626998400000,0.7914],[1627257600000,0.776],[1627344000000,0.7629],[1627430400000,0.7559],[1627516800000,0.7608],[1627603200000,0.7598],[1627862400000,0.7656],[1627948800000,0.7663],[1628035200000,0.7711],[1628121600000,0.7635],[1628208000000,0.7609],[1628467200000,0.7687],[1628553600000,0.7716],[1628640000000,0.77],[1628726400000,0.7702],[1628812800000,0.7677],[1629072000000,0.7673],[1629158400000,0.75],[1629244800000,0.7525],[1629331200000,0.7515],[1629417600000,0.7441],[1629676800000,0.749],[1629763200000,0.751],[1629849600000,0.7514],[1629936000000,0.7488],[1630022400000,0.7451],[1630281600000,0.7486],[1630368000000,0.7474],[1630454400000,0.7537],[1630540800000,0.7577],[1630627200000,0.7553],[1630886400000,0.7597],[1630972800000,0.7678],[1631059200000,0.769],[1631145600000,0.7699],[1631232000000,0.7638],[1631491200000,0.7632],[1631577600000,0.7511],[1631664000000,0.7512],[1631750400000,0.7391],[1631836800000,0.7324],[1632268800000,0.732],[1632355200000,0.7364],[1632441600000,0.727],[1632700800000,0.7106],[1632787200000,0.7079],[1632873600000,0.6877],[1632960000000,0.6949],[1633651200000,0.6969],[1633910400000,0.6967],[1633996800000,0.685],[1634083200000,0.6853],[1634169600000,0.6885],[1634256000000,0.6855],[1634515200000,0.6855],[1634601600000,0.6875],[1634688000000,0.6864],[1634774400000,0.6833],[1634860800000,0.6782],[1635120000000,0.6801]],\"color\":\"#E06681\"},{\"name\":\"\\u56e0\\u5b504\",\"yAxis\":0,\"data\":[[1609718400000,null],[1609804800000,1.0],[1609891200000,0.9942],[1609977600000,0.9782],[1610064000000,0.9805],[1610323200000,0.966],[1610409600000,0.9779],[1610496000000,0.9651],[1610582400000,0.9633],[1610668800000,0.964],[1610928000000,0.9744],[1611014400000,0.9689],[1611100800000,0.9749],[1611187200000,0.9843],[1611273600000,0.9814],[1611532800000,0.9735],[1611619200000,0.9582],[1611705600000,0.958],[1611792000000,0.9379],[1611878400000,0.9246],[1612137600000,0.9264],[1612224000000,0.9314],[1612310400000,0.9153],[1612396800000,0.8969],[1612483200000,0.8832],[1612742400000,0.8887],[1612828800000,0.9007],[1612915200000,0.9033],[1613606400000,0.923],[1613692800000,0.9497],[1613952000000,0.9459],[1614038400000,0.9386],[1614124800000,0.9316],[1614211200000,0.9231],[1614297600000,0.9077],[1614556800000,0.9264],[1614643200000,0.9203],[1614729600000,0.9292],[1614816000000,0.9107],[1614902400000,0.9122],[1615161600000,0.8914],[1615248000000,0.8713],[1615334400000,0.8593],[1615420800000,0.877],[1615507200000,0.8818],[1615766400000,0.8693],[1615852800000,0.8656],[1615939200000,0.8641],[1616025600000,0.8664],[1616112000000,0.8591],[1616371200000,0.872],[1616457600000,0.8554],[1616544000000,0.8469],[1616630400000,0.8444],[1616716800000,0.8541],[1616976000000,0.8503],[1617062400000,0.85],[1617148800000,0.8449],[1617235200000,0.8512],[1617321600000,0.8522],[1617667200000,0.857],[1617753600000,0.8596],[1617840000000,0.8587],[1617926400000,0.8544],[1618185600000,0.8461],[1618272000000,0.8378],[1618358400000,0.8431],[1618444800000,0.8383],[1618531200000,0.8497],[1618790400000,0.8556],[1618876800000,0.8545],[1618963200000,0.853],[1619049600000,0.8559],[1619136000000,0.8542],[1619395200000,0.8541],[1619481600000,0.8516],[1619568000000,0.8571],[1619654400000,0.8545],[1619740800000,0.8497],[1620259200000,0.848],[1620345600000,0.8528],[1620604800000,0.8551],[1620691200000,0.8566],[1620777600000,0.8581],[1620864000000,0.8486],[1620950400000,0.8558],[1621209600000,0.8595],[1621296000000,0.8624],[1621382400000,0.8563],[1621468800000,0.8425],[1621555200000,0.8421],[1621814400000,0.8444],[1621900800000,0.8545],[1621987200000,0.8566],[1622073600000,0.8609],[1622160000000,0.8545],[1622419200000,0.8574],[1622505600000,0.8578],[1622592000000,0.8498],[1622678400000,0.8464],[1622764800000,0.8518],[1623024000000,0.8544],[1623110400000,0.8514],[1623196800000,0.8496],[1623283200000,0.8578],[1623369600000,0.8486],[1623715200000,0.8422],[1623801600000,0.8324],[1623888000000,0.8414],[1623974400000,0.844],[1624233600000,0.8489],[1624320000000,0.8477],[1624406400000,0.8538],[1624492800000,0.8458],[1624579200000,0.8534],[1624838400000,0.8499],[1624924800000,0.8388],[1625011200000,0.8412],[1625097600000,0.8388],[1625184000000,0.8254],[1625443200000,0.8251],[1625529600000,0.8186],[1625616000000,0.823],[1625702400000,0.8197],[1625788800000,0.8272],[1626048000000,0.8388],[1626134400000,0.8428],[1626220800000,0.8326],[1626307200000,0.8354],[1626393600000,0.8402],[1626652800000,0.8381],[1626739200000,0.8353],[1626825600000,0.8408],[1626912000000,0.847],[1626998400000,0.8434],[1627257600000,0.8316],[1627344000000,0.8157],[1627430400000,0.7996],[1627516800000,0.8174],[1627603200000,0.8188],[1627862400000,0.8321],[1627948800000,0.8221],[1628035200000,0.8278],[1628121600000,0.8177],[1628208000000,0.8114],[1628467200000,0.8167],[1628553600000,0.8201],[1628640000000,0.8282],[1628726400000,0.8294],[1628812800000,0.8235],[1629072000000,0.828],[1629158400000,0.8116],[1629244800000,0.8178],[1629331200000,0.8144],[1629417600000,0.8034],[1629676800000,0.8112],[1629763200000,0.8165],[1629849600000,0.821],[1629936000000,0.8184],[1630022400000,0.8186],[1630281600000,0.8236],[1630368000000,0.8318],[1630454400000,0.8302],[1630540800000,0.8414],[1630627200000,0.8371],[1630886400000,0.8433],[1630972800000,0.8625],[1631059200000,0.8667],[1631145600000,0.877],[1631232000000,0.8662],[1631491200000,0.8736],[1631577600000,0.8545],[1631664000000,0.8565],[1631750400000,0.8473],[1631836800000,0.8445],[1632268800000,0.85],[1632355200000,0.8629],[1632441600000,0.8504],[1632700800000,0.8316],[1632787200000,0.8326],[1632873600000,0.8111],[1632960000000,0.817],[1633651200000,0.8234],[1633910400000,0.8189],[1633996800000,0.8049],[1634083200000,0.8069],[1634169600000,0.8026],[1634256000000,0.7966],[1634515200000,0.8067],[1634601600000,0.8093],[1634688000000,0.8087],[1634774400000,0.8067],[1634860800000,0.7988],[1635120000000,0.8008]],\"color\":\"#E2D269\"}],\"xAxis\":{\"title\":{\"text\":\"date\"},\"type\":\"datetime\"},\"plotOptions\":{\"series\":{\"compare\":\"percent\"}}}/bigcharts-data-end</pre></div><div id=\"bigchart-b1df1195545f4662a882d6e55670cd70\" class=\"bigchart\"></div><div class=\"bigchart-data\"><pre style=\"display:none\">bigcharts-data-start/{\"chart\":{\"height\":500,\"renderTo\":\"bigchart-b1df1195545f4662a882d6e55670cd70\"},\"legend\":{\"enabled\":true},\"title\":{\"text\":\"\\u6700\\u9ad8\\u5206\\u4f4d\\u6536\\u76ca\\u5bf9\\u6bd4\"},\"stock\":true,\"series\":[{\"name\":\"\\u56e0\\u5b501\",\"yAxis\":0,\"data\":[[1609718400000,1.0],[1609804800000,1.0],[1609891200000,0.9935],[1609977600000,0.9794],[1610064000000,0.9804],[1610323200000,0.9614],[1610409600000,0.9697],[1610496000000,0.9575],[1610582400000,0.9611],[1610668800000,0.9582],[1610928000000,0.9699],[1611014400000,0.9614],[1611100800000,0.9589],[1611187200000,0.9637],[1611273600000,0.9607],[1611532800000,0.9511],[1611619200000,0.938],[1611705600000,0.9399],[1611792000000,0.9225],[1611878400000,0.9103],[1612137600000,0.9186],[1612224000000,0.9258],[1612310400000,0.9114],[1612396800000,0.899],[1612483200000,0.8909],[1612742400000,0.8976],[1612828800000,0.915],[1612915200000,0.9249],[1613606400000,0.943],[1613692800000,0.9685],[1613952000000,0.9723],[1614038400000,0.9639],[1614124800000,0.9594],[1614211200000,0.9547],[1614297600000,0.94],[1614556800000,0.9516],[1614643200000,0.9413],[1614729600000,0.9523],[1614816000000,0.9407],[1614902400000,0.9433],[1615161600000,0.9261],[1615248000000,0.9053],[1615334400000,0.8957],[1615420800000,0.9118],[1615507200000,0.9108],[1615766400000,0.9037],[1615852800000,0.9076],[1615939200000,0.9106],[1616025600000,0.9139],[1616112000000,0.9033],[1616371200000,0.9205],[1616457600000,0.9099],[1616544000000,0.8956],[1616630400000,0.8953],[1616716800000,0.9095],[1616976000000,0.9041],[1617062400000,0.9015],[1617148800000,0.8994],[1617235200000,0.9062],[1617321600000,0.9058],[1617667200000,0.9092],[1617753600000,0.9121],[1617840000000,0.9091],[1617926400000,0.9037],[1618185600000,0.8932],[1618272000000,0.8869],[1618358400000,0.8953],[1618444800000,0.8958],[1618531200000,0.9107],[1618790400000,0.9177],[1618876800000,0.9139],[1618963200000,0.9089],[1619049600000,0.9096],[1619136000000,0.9038],[1619395200000,0.9004],[1619481600000,0.9009],[1619568000000,0.9046],[1619654400000,0.9049],[1619740800000,0.9034],[1620259200000,0.8992],[1620345600000,0.8985],[1620604800000,0.8928],[1620691200000,0.8962],[1620777600000,0.9],[1620864000000,0.8925],[1620950400000,0.8981],[1621209600000,0.9059],[1621296000000,0.9075],[1621382400000,0.9054],[1621468800000,0.8993],[1621555200000,0.8929],[1621814400000,0.896],[1621900800000,0.9032],[1621987200000,0.9077],[1622073600000,0.912],[1622160000000,0.9072],[1622419200000,0.9107],[1622505600000,0.9074],[1622592000000,0.9013],[1622678400000,0.9],[1622764800000,0.8999],[1623024000000,0.9014],[1623110400000,0.8971],[1623196800000,0.8951],[1623283200000,0.9007],[1623369600000,0.8959],[1623715200000,0.8832],[1623801600000,0.871],[1623888000000,0.8725],[1623974400000,0.8772],[1624233600000,0.8797],[1624320000000,0.8807],[1624406400000,0.8849],[1624492800000,0.8813],[1624579200000,0.8889],[1624838400000,0.8896],[1624924800000,0.882],[1625011200000,0.8851],[1625097600000,0.8786],[1625184000000,0.871],[1625443200000,0.8814],[1625529600000,0.8847],[1625616000000,0.8861],[1625702400000,0.8739],[1625788800000,0.8837],[1626048000000,0.8933],[1626134400000,0.9019],[1626220800000,0.894],[1626307200000,0.897],[1626393600000,0.896],[1626652800000,0.8969],[1626739200000,0.8959],[1626825600000,0.901],[1626912000000,0.9054],[1626998400000,0.8984],[1627257600000,0.8792],[1627344000000,0.8682],[1627430400000,0.8498],[1627516800000,0.8612],[1627603200000,0.862],[1627862400000,0.8731],[1627948800000,0.874],[1628035200000,0.8787],[1628121600000,0.8718],[1628208000000,0.8693],[1628467200000,0.8814],[1628553600000,0.8852],[1628640000000,0.8864],[1628726400000,0.8921],[1628812800000,0.8876],[1629072000000,0.8896],[1629158400000,0.8689],[1629244800000,0.8744],[1629331200000,0.8699],[1629417600000,0.8657],[1629676800000,0.8746],[1629763200000,0.8787],[1629849600000,0.883],[1629936000000,0.8806],[1630022400000,0.8864],[1630281600000,0.8915],[1630368000000,0.8944],[1630454400000,0.9033],[1630540800000,0.9095],[1630627200000,0.9102],[1630886400000,0.9188],[1630972800000,0.9346],[1631059200000,0.9378],[1631145600000,0.9424],[1631232000000,0.9375],[1631491200000,0.9386],[1631577600000,0.9223],[1631664000000,0.9237],[1631750400000,0.9066],[1631836800000,0.9083],[1632268800000,0.9065],[1632355200000,0.9158],[1632441600000,0.9024],[1632700800000,0.8818],[1632787200000,0.8817],[1632873600000,0.8637],[1632960000000,0.8696],[1633651200000,0.8748],[1633910400000,0.8707],[1633996800000,0.8549],[1634083200000,0.8556],[1634169600000,0.857],[1634256000000,0.8523],[1634515200000,0.8504],[1634601600000,0.8552],[1634688000000,0.8546],[1634774400000,0.849],[1634860800000,0.8445],[1635120000000,0.8455]],\"color\":\"#F08B55\"},{\"name\":\"\\u56e0\\u5b502\",\"yAxis\":0,\"data\":[[1609718400000,1.0],[1609804800000,1.0],[1609891200000,0.9949],[1609977600000,0.9907],[1610064000000,0.9884],[1610323200000,0.9743],[1610409600000,0.9861],[1610496000000,0.9756],[1610582400000,0.9696],[1610668800000,0.9695],[1610928000000,0.9852],[1611014400000,0.9745],[1611100800000,0.9824],[1611187200000,0.9893],[1611273600000,0.9842],[1611532800000,0.9733],[1611619200000,0.9564],[1611705600000,0.9557],[1611792000000,0.9336],[1611878400000,0.9184],[1612137600000,0.9219],[1612224000000,0.9257],[1612310400000,0.9162],[1612396800000,0.8995],[1612483200000,0.8893],[1612742400000,0.9005],[1612828800000,0.915],[1612915200000,0.9211],[1613606400000,0.9312],[1613692800000,0.9499],[1613952000000,0.9426],[1614038400000,0.9388],[1614124800000,0.9276],[1614211200000,0.9225],[1614297600000,0.9017],[1614556800000,0.9167],[1614643200000,0.9095],[1614729600000,0.9223],[1614816000000,0.905],[1614902400000,0.9028],[1615161600000,0.8825],[1615248000000,0.86],[1615334400000,0.8544],[1615420800000,0.8719],[1615507200000,0.8686],[1615766400000,0.8562],[1615852800000,0.8584],[1615939200000,0.8595],[1616025600000,0.8682],[1616112000000,0.8616],[1616371200000,0.8735],[1616457600000,0.8604],[1616544000000,0.8515],[1616630400000,0.8521],[1616716800000,0.8641],[1616976000000,0.8641],[1617062400000,0.8646],[1617148800000,0.8617],[1617235200000,0.8649],[1617321600000,0.8646],[1617667200000,0.8655],[1617753600000,0.8622],[1617840000000,0.8632],[1617926400000,0.8596],[1618185600000,0.8418],[1618272000000,0.84],[1618358400000,0.8486],[1618444800000,0.8476],[1618531200000,0.8552],[1618790400000,0.8613],[1618876800000,0.8623],[1618963200000,0.8628],[1619049600000,0.8654],[1619136000000,0.8621],[1619395200000,0.8565],[1619481600000,0.8552],[1619568000000,0.8622],[1619654400000,0.8584],[1619740800000,0.8602],[1620259200000,0.86],[1620345600000,0.853],[1620604800000,0.8546],[1620691200000,0.8522],[1620777600000,0.8611],[1620864000000,0.8553],[1620950400000,0.8663],[1621209600000,0.8696],[1621296000000,0.8687],[1621382400000,0.8667],[1621468800000,0.8598],[1621555200000,0.8529],[1621814400000,0.854],[1621900800000,0.863],[1621987200000,0.8625],[1622073600000,0.8687],[1622160000000,0.8662],[1622419200000,0.8764],[1622505600000,0.875],[1622592000000,0.8669],[1622678400000,0.8649],[1622764800000,0.8709],[1623024000000,0.8768],[1623110400000,0.8715],[1623196800000,0.8703],[1623283200000,0.8763],[1623369600000,0.8675],[1623715200000,0.8603],[1623801600000,0.8442],[1623888000000,0.8491],[1623974400000,0.85],[1624233600000,0.8582],[1624320000000,0.8599],[1624406400000,0.8661],[1624492800000,0.8615],[1624579200000,0.8661],[1624838400000,0.8666],[1624924800000,0.8612],[1625011200000,0.864],[1625097600000,0.8489],[1625184000000,0.8441],[1625443200000,0.8503],[1625529600000,0.8439],[1625616000000,0.8506],[1625702400000,0.8435],[1625788800000,0.845],[1626048000000,0.8509],[1626134400000,0.8566],[1626220800000,0.851],[1626307200000,0.853],[1626393600000,0.8534],[1626652800000,0.8503],[1626739200000,0.8471],[1626825600000,0.8544],[1626912000000,0.8553],[1626998400000,0.8481],[1627257600000,0.8343],[1627344000000,0.8224],[1627430400000,0.8089],[1627516800000,0.8234],[1627603200000,0.8238],[1627862400000,0.8336],[1627948800000,0.8242],[1628035200000,0.8349],[1628121600000,0.828],[1628208000000,0.8213],[1628467200000,0.8291],[1628553600000,0.8339],[1628640000000,0.837],[1628726400000,0.8359],[1628812800000,0.8336],[1629072000000,0.8277],[1629158400000,0.8046],[1629244800000,0.8033],[1629331200000,0.7999],[1629417600000,0.7962],[1629676800000,0.8054],[1629763200000,0.8061],[1629849600000,0.8099],[1629936000000,0.8016],[1630022400000,0.8052],[1630281600000,0.8109],[1630368000000,0.8112],[1630454400000,0.8057],[1630540800000,0.81],[1630627200000,0.8049],[1630886400000,0.8143],[1630972800000,0.8266],[1631059200000,0.832],[1631145600000,0.8395],[1631232000000,0.8349],[1631491200000,0.8423],[1631577600000,0.823],[1631664000000,0.8261],[1631750400000,0.8072],[1631836800000,0.7988],[1632268800000,0.8055],[1632355200000,0.8067],[1632441600000,0.795],[1632700800000,0.7786],[1632787200000,0.7764],[1632873600000,0.7543],[1632960000000,0.7628],[1633651200000,0.7646],[1633910400000,0.7638],[1633996800000,0.7496],[1634083200000,0.7517],[1634169600000,0.7507],[1634256000000,0.7488],[1634515200000,0.7504],[1634601600000,0.7544],[1634688000000,0.7503],[1634774400000,0.7464],[1634860800000,0.7367],[1635120000000,0.7434]],\"color\":\"#648FD5\"},{\"name\":\"\\u56e0\\u5b503\",\"yAxis\":0,\"data\":[[1609718400000,null],[1609804800000,1.0],[1609891200000,0.9962],[1609977600000,0.9825],[1610064000000,0.9916],[1610323200000,0.9774],[1610409600000,0.9886],[1610496000000,0.9815],[1610582400000,0.982],[1610668800000,0.9811],[1610928000000,0.9896],[1611014400000,0.9841],[1611100800000,0.9899],[1611187200000,0.9978],[1611273600000,0.9957],[1611532800000,0.989],[1611619200000,0.9838],[1611705600000,0.9773],[1611792000000,0.9597],[1611878400000,0.9447],[1612137600000,0.9509],[1612224000000,0.9529],[1612310400000,0.9384],[1612396800000,0.9259],[1612483200000,0.9153],[1612742400000,0.9234],[1612828800000,0.9404],[1612915200000,0.9455],[1613606400000,0.962],[1613692800000,0.9754],[1613952000000,0.975],[1614038400000,0.9708],[1614124800000,0.9649],[1614211200000,0.9591],[1614297600000,0.9397],[1614556800000,0.9586],[1614643200000,0.9496],[1614729600000,0.961],[1614816000000,0.953],[1614902400000,0.9514],[1615161600000,0.935],[1615248000000,0.915],[1615334400000,0.9057],[1615420800000,0.9216],[1615507200000,0.9222],[1615766400000,0.9208],[1615852800000,0.9227],[1615939200000,0.9262],[1616025600000,0.929],[1616112000000,0.9188],[1616371200000,0.9313],[1616457600000,0.9201],[1616544000000,0.9113],[1616630400000,0.9072],[1616716800000,0.9175],[1616976000000,0.9166],[1617062400000,0.9141],[1617148800000,0.9123],[1617235200000,0.9184],[1617321600000,0.9154],[1617667200000,0.9194],[1617753600000,0.9191],[1617840000000,0.9167],[1617926400000,0.9122],[1618185600000,0.9015],[1618272000000,0.8972],[1618358400000,0.9062],[1618444800000,0.9011],[1618531200000,0.9078],[1618790400000,0.9157],[1618876800000,0.9145],[1618963200000,0.9123],[1619049600000,0.912],[1619136000000,0.9096],[1619395200000,0.9053],[1619481600000,0.8996],[1619568000000,0.9058],[1619654400000,0.9031],[1619740800000,0.8992],[1620259200000,0.8986],[1620345600000,0.8931],[1620604800000,0.8895],[1620691200000,0.891],[1620777600000,0.8963],[1620864000000,0.8879],[1620950400000,0.894],[1621209600000,0.8932],[1621296000000,0.8956],[1621382400000,0.8919],[1621468800000,0.8868],[1621555200000,0.8836],[1621814400000,0.8846],[1621900800000,0.8927],[1621987200000,0.8946],[1622073600000,0.901],[1622160000000,0.8953],[1622419200000,0.9036],[1622505600000,0.9035],[1622592000000,0.8975],[1622678400000,0.8955],[1622764800000,0.8924],[1623024000000,0.8918],[1623110400000,0.8922],[1623196800000,0.8898],[1623283200000,0.8948],[1623369600000,0.8894],[1623715200000,0.8791],[1623801600000,0.8675],[1623888000000,0.8698],[1623974400000,0.87],[1624233600000,0.8746],[1624320000000,0.8771],[1624406400000,0.8849],[1624492800000,0.8803],[1624579200000,0.8836],[1624838400000,0.8846],[1624924800000,0.8742],[1625011200000,0.8751],[1625097600000,0.8693],[1625184000000,0.8617],[1625443200000,0.8645],[1625529600000,0.861],[1625616000000,0.8645],[1625702400000,0.858],[1625788800000,0.8603],[1626048000000,0.8672],[1626134400000,0.8765],[1626220800000,0.8716],[1626307200000,0.8727],[1626393600000,0.8684],[1626652800000,0.8681],[1626739200000,0.8661],[1626825600000,0.8708],[1626912000000,0.8679],[1626998400000,0.8611],[1627257600000,0.8489],[1627344000000,0.8363],[1627430400000,0.8225],[1627516800000,0.8357],[1627603200000,0.8392],[1627862400000,0.8543],[1627948800000,0.8503],[1628035200000,0.8515],[1628121600000,0.8463],[1628208000000,0.8442],[1628467200000,0.8504],[1628553600000,0.8547],[1628640000000,0.8558],[1628726400000,0.8563],[1628812800000,0.8546],[1629072000000,0.8571],[1629158400000,0.8352],[1629244800000,0.839],[1629331200000,0.8342],[1629417600000,0.8281],[1629676800000,0.8378],[1629763200000,0.8427],[1629849600000,0.8496],[1629936000000,0.8424],[1630022400000,0.8426],[1630281600000,0.8476],[1630368000000,0.8507],[1630454400000,0.85],[1630540800000,0.8569],[1630627200000,0.8555],[1630886400000,0.8629],[1630972800000,0.8733],[1631059200000,0.8824],[1631145600000,0.8863],[1631232000000,0.8811],[1631491200000,0.884],[1631577600000,0.8719],[1631664000000,0.8739],[1631750400000,0.8552],[1631836800000,0.855],[1632268800000,0.8582],[1632355200000,0.8683],[1632441600000,0.8576],[1632700800000,0.8423],[1632787200000,0.8454],[1632873600000,0.8264],[1632960000000,0.8303],[1633651200000,0.8404],[1633910400000,0.8384],[1633996800000,0.8209],[1634083200000,0.8186],[1634169600000,0.8159],[1634256000000,0.8092],[1634515200000,0.807],[1634601600000,0.8125],[1634688000000,0.8097],[1634774400000,0.807],[1634860800000,0.7993],[1635120000000,0.8021]],\"color\":\"#E06681\"},{\"name\":\"\\u56e0\\u5b504\",\"yAxis\":0,\"data\":[[1609718400000,null],[1609804800000,1.0],[1609891200000,0.9979],[1609977600000,0.9899],[1610064000000,0.9935],[1610323200000,0.9747],[1610409600000,0.9866],[1610496000000,0.9807],[1610582400000,0.9734],[1610668800000,0.9654],[1610928000000,0.9762],[1611014400000,0.9693],[1611100800000,0.9736],[1611187200000,0.9813],[1611273600000,0.9748],[1611532800000,0.9709],[1611619200000,0.9585],[1611705600000,0.9556],[1611792000000,0.9349],[1611878400000,0.9199],[1612137600000,0.9238],[1612224000000,0.9228],[1612310400000,0.9086],[1612396800000,0.8977],[1612483200000,0.8884],[1612742400000,0.8946],[1612828800000,0.9099],[1612915200000,0.9153],[1613606400000,0.931],[1613692800000,0.951],[1613952000000,0.9584],[1614038400000,0.9525],[1614124800000,0.9449],[1614211200000,0.9362],[1614297600000,0.9248],[1614556800000,0.9412],[1614643200000,0.9336],[1614729600000,0.9438],[1614816000000,0.9348],[1614902400000,0.9349],[1615161600000,0.9217],[1615248000000,0.9018],[1615334400000,0.8925],[1615420800000,0.9079],[1615507200000,0.9073],[1615766400000,0.9011],[1615852800000,0.9065],[1615939200000,0.9057],[1616025600000,0.9092],[1616112000000,0.9019],[1616371200000,0.917],[1616457600000,0.9021],[1616544000000,0.8949],[1616630400000,0.8932],[1616716800000,0.9028],[1616976000000,0.9021],[1617062400000,0.9036],[1617148800000,0.901],[1617235200000,0.9045],[1617321600000,0.9018],[1617667200000,0.903],[1617753600000,0.9015],[1617840000000,0.9018],[1617926400000,0.8985],[1618185600000,0.8873],[1618272000000,0.8809],[1618358400000,0.8897],[1618444800000,0.8878],[1618531200000,0.9024],[1618790400000,0.9092],[1618876800000,0.9061],[1618963200000,0.9035],[1619049600000,0.9056],[1619136000000,0.9051],[1619395200000,0.8969],[1619481600000,0.8928],[1619568000000,0.8932],[1619654400000,0.8883],[1619740800000,0.8841],[1620259200000,0.8837],[1620345600000,0.8827],[1620604800000,0.8845],[1620691200000,0.8857],[1620777600000,0.8887],[1620864000000,0.8823],[1620950400000,0.891],[1621209600000,0.8935],[1621296000000,0.8961],[1621382400000,0.8905],[1621468800000,0.8831],[1621555200000,0.8835],[1621814400000,0.8874],[1621900800000,0.8971],[1621987200000,0.8996],[1622073600000,0.9054],[1622160000000,0.9028],[1622419200000,0.9114],[1622505600000,0.9124],[1622592000000,0.9036],[1622678400000,0.8982],[1622764800000,0.8989],[1623024000000,0.9012],[1623110400000,0.8967],[1623196800000,0.8965],[1623283200000,0.9015],[1623369600000,0.888],[1623715200000,0.8829],[1623801600000,0.8679],[1623888000000,0.8717],[1623974400000,0.8708],[1624233600000,0.8764],[1624320000000,0.8752],[1624406400000,0.8776],[1624492800000,0.8711],[1624579200000,0.8762],[1624838400000,0.8788],[1624924800000,0.868],[1625011200000,0.8692],[1625097600000,0.8593],[1625184000000,0.8486],[1625443200000,0.8471],[1625529600000,0.8426],[1625616000000,0.8484],[1625702400000,0.8434],[1625788800000,0.8478],[1626048000000,0.8559],[1626134400000,0.8611],[1626220800000,0.8543],[1626307200000,0.8584],[1626393600000,0.8575],[1626652800000,0.8537],[1626739200000,0.8482],[1626825600000,0.853],[1626912000000,0.8574],[1626998400000,0.8527],[1627257600000,0.8374],[1627344000000,0.8297],[1627430400000,0.819],[1627516800000,0.8313],[1627603200000,0.8326],[1627862400000,0.8458],[1627948800000,0.8408],[1628035200000,0.8474],[1628121600000,0.8404],[1628208000000,0.8407],[1628467200000,0.8484],[1628553600000,0.8514],[1628640000000,0.8553],[1628726400000,0.8567],[1628812800000,0.8536],[1629072000000,0.8563],[1629158400000,0.837],[1629244800000,0.8401],[1629331200000,0.8371],[1629417600000,0.834],[1629676800000,0.842],[1629763200000,0.8434],[1629849600000,0.8441],[1629936000000,0.8428],[1630022400000,0.846],[1630281600000,0.8512],[1630368000000,0.8566],[1630454400000,0.8568],[1630540800000,0.8618],[1630627200000,0.8576],[1630886400000,0.8679],[1630972800000,0.8815],[1631059200000,0.8887],[1631145600000,0.896],[1631232000000,0.8942],[1631491200000,0.905],[1631577600000,0.8832],[1631664000000,0.8847],[1631750400000,0.867],[1631836800000,0.8618],[1632268800000,0.8617],[1632355200000,0.8723],[1632441600000,0.8615],[1632700800000,0.8425],[1632787200000,0.8457],[1632873600000,0.8248],[1632960000000,0.8316],[1633651200000,0.8343],[1633910400000,0.8308],[1633996800000,0.8158],[1634083200000,0.8135],[1634169600000,0.8122],[1634256000000,0.8063],[1634515200000,0.8083],[1634601600000,0.8107],[1634688000000,0.8098],[1634774400000,0.8049],[1634860800000,0.8012],[1635120000000,0.8038]],\"color\":\"#E2D269\"}],\"xAxis\":{\"title\":{\"text\":\"date\"},\"type\":\"datetime\"},\"plotOptions\":{\"series\":{\"compare\":\"percent\"}}}/bigcharts-data-end</pre></div><div id=\"bigchart-eb8220cc23264b5fb368fd0620bd6510\" class=\"bigchart\"></div><div class=\"bigchart-data\"><pre style=\"display:none\">bigcharts-data-start/{\"chart\":{\"height\":500,\"renderTo\":\"bigchart-eb8220cc23264b5fb368fd0620bd6510\"},\"legend\":{\"enabled\":true},\"title\":{\"text\":\"\\u591a\\u7a7a\\uff08\\u6700\\u4f4e-\\u6700\\u9ad8\\u5206\\u4f4d\\uff09\\u6536\\u76ca\\u5bf9\\u6bd4\"},\"stock\":true,\"series\":[{\"name\":\"\\u56e0\\u5b501\",\"yAxis\":0,\"data\":[[1609718400000,1.0],[1609804800000,1.0],[1609891200000,1.0001],[1609977600000,1.0042],[1610064000000,1.0068],[1610323200000,1.0083],[1610409600000,1.0083],[1610496000000,1.0115],[1610582400000,1.0065],[1610668800000,1.0047],[1610928000000,1.0033],[1611014400000,1.0058],[1611100800000,1.0097],[1611187200000,1.0109],[1611273600000,1.0054],[1611532800000,1.0033],[1611619200000,1.0057],[1611705600000,1.0026],[1611792000000,1.0039],[1611878400000,1.0024],[1612137600000,1.0009],[1612224000000,0.9954],[1612310400000,0.9966],[1612396800000,0.994],[1612483200000,0.994],[1612742400000,0.9918],[1612828800000,0.9897],[1612915200000,0.9855],[1613606400000,0.9864],[1613692800000,0.9836],[1613952000000,0.985],[1614038400000,0.9887],[1614124800000,0.9884],[1614211200000,0.9876],[1614297600000,0.9876],[1614556800000,0.9906],[1614643200000,0.9945],[1614729600000,0.9926],[1614816000000,0.9907],[1614902400000,0.9885],[1615161600000,0.9887],[1615248000000,0.9882],[1615334400000,0.9878],[1615420800000,0.9866],[1615507200000,0.9906],[1615766400000,0.989],[1615852800000,0.9918],[1615939200000,0.9901],[1616025600000,0.9891],[1616112000000,0.9896],[1616371200000,0.988],[1616457600000,0.9865],[1616544000000,0.991],[1616630400000,0.9899],[1616716800000,0.9865],[1616976000000,0.9872],[1617062400000,0.9853],[1617148800000,0.9864],[1617235200000,0.9866],[1617321600000,0.986],[1617667200000,0.9867],[1617753600000,0.9852],[1617840000000,0.9863],[1617926400000,0.9863],[1618185600000,0.9821],[1618272000000,0.982],[1618358400000,0.9809],[1618444800000,0.9772],[1618531200000,0.9755],[1618790400000,0.9741],[1618876800000,0.9751],[1618963200000,0.9786],[1619049600000,0.9801],[1619136000000,0.9823],[1619395200000,0.9803],[1619481600000,0.976],[1619568000000,0.9763],[1619654400000,0.9755],[1619740800000,0.9722],[1620259200000,0.98],[1620345600000,0.9759],[1620604800000,0.9787],[1620691200000,0.9754],[1620777600000,0.9755],[1620864000000,0.9793],[1620950400000,0.9838],[1621209600000,0.9797],[1621296000000,0.9803],[1621382400000,0.9801],[1621468800000,0.9792],[1621555200000,0.9817],[1621814400000,0.9824],[1621900800000,0.9835],[1621987200000,0.9818],[1622073600000,0.9828],[1622160000000,0.984],[1622419200000,0.9865],[1622505600000,0.9902],[1622592000000,0.9895],[1622678400000,0.9879],[1622764800000,0.9887],[1623024000000,0.9889],[1623110400000,0.9903],[1623196800000,0.9908],[1623283200000,0.9892],[1623369600000,0.9866],[1623715200000,0.9879],[1623801600000,0.9882],[1623888000000,0.9904],[1623974400000,0.9872],[1624233600000,0.9881],[1624320000000,0.9885],[1624406400000,0.9881],[1624492800000,0.9854],[1624579200000,0.9829],[1624838400000,0.9814],[1624924800000,0.9813],[1625011200000,0.9801],[1625097600000,0.978],[1625184000000,0.9766],[1625443200000,0.9691],[1625529600000,0.9669],[1625616000000,0.9688],[1625702400000,0.9735],[1625788800000,0.9705],[1626048000000,0.9701],[1626134400000,0.9676],[1626220800000,0.9668],[1626307200000,0.9639],[1626393600000,0.9629],[1626652800000,0.958],[1626739200000,0.9582],[1626825600000,0.9603],[1626912000000,0.9546],[1626998400000,0.9526],[1627257600000,0.9547],[1627344000000,0.9515],[1627430400000,0.9562],[1627516800000,0.9541],[1627603200000,0.9543],[1627862400000,0.9559],[1627948800000,0.9535],[1628035200000,0.9526],[1628121600000,0.9535],[1628208000000,0.9531],[1628467200000,0.951],[1628553600000,0.9519],[1628640000000,0.9532],[1628726400000,0.948],[1628812800000,0.9476],[1629072000000,0.9466],[1629158400000,0.947],[1629244800000,0.9467],[1629331200000,0.9478],[1629417600000,0.9473],[1629676800000,0.9492],[1629763200000,0.949],[1629849600000,0.9475],[1629936000000,0.9452],[1630022400000,0.9431],[1630281600000,0.9432],[1630368000000,0.9429],[1630454400000,0.937],[1630540800000,0.9371],[1630627200000,0.9367],[1630886400000,0.9372],[1630972800000,0.9354],[1631059200000,0.9402],[1631145600000,0.9439],[1631232000000,0.9428],[1631491200000,0.9445],[1631577600000,0.9438],[1631664000000,0.9429],[1631750400000,0.9438],[1631836800000,0.9388],[1632268800000,0.9427],[1632355200000,0.9435],[1632441600000,0.9442],[1632700800000,0.9445],[1632787200000,0.9464],[1632873600000,0.9464],[1632960000000,0.9462],[1633651200000,0.9451],[1633910400000,0.9477],[1633996800000,0.9494],[1634083200000,0.9499],[1634169600000,0.949],[1634256000000,0.95],[1634515200000,0.953],[1634601600000,0.9521],[1634688000000,0.9532],[1634774400000,0.9545],[1634860800000,0.9528],[1635120000000,0.9544]],\"color\":\"#F08B55\"},{\"name\":\"\\u56e0\\u5b502\",\"yAxis\":0,\"data\":[[1609718400000,1.0],[1609804800000,1.0],[1609891200000,0.9989],[1609977600000,1.0003],[1610064000000,1.0027],[1610323200000,1.0004],[1610409600000,1.0009],[1610496000000,1.0015],[1610582400000,1.0003],[1610668800000,0.9956],[1610928000000,0.9934],[1611014400000,0.9952],[1611100800000,0.9946],[1611187200000,0.9975],[1611273600000,1.0028],[1611532800000,1.0054],[1611619200000,1.0046],[1611705600000,1.0026],[1611792000000,1.0024],[1611878400000,1.0039],[1612137600000,1.0064],[1612224000000,1.0049],[1612310400000,1.004],[1612396800000,1.006],[1612483200000,1.0026],[1612742400000,1.0001],[1612828800000,1.0027],[1612915200000,1.0026],[1613606400000,1.0017],[1613692800000,0.9941],[1613952000000,0.9983],[1614038400000,0.9952],[1614124800000,0.9959],[1614211200000,0.9937],[1614297600000,0.9954],[1614556800000,0.9963],[1614643200000,0.9954],[1614729600000,0.9937],[1614816000000,0.9931],[1614902400000,0.9926],[1615161600000,0.9909],[1615248000000,0.9898],[1615334400000,0.9913],[1615420800000,0.989],[1615507200000,0.991],[1615766400000,0.9933],[1615852800000,0.9953],[1615939200000,0.9959],[1616025600000,0.9932],[1616112000000,0.9911],[1616371200000,0.9932],[1616457600000,0.9918],[1616544000000,0.9906],[1616630400000,0.9899],[1616716800000,0.9888],[1616976000000,0.9885],[1617062400000,0.9883],[1617148800000,0.9879],[1617235200000,0.991],[1617321600000,0.9921],[1617667200000,0.9924],[1617753600000,0.9923],[1617840000000,0.9911],[1617926400000,0.9909],[1618185600000,0.994],[1618272000000,0.9928],[1618358400000,0.993],[1618444800000,0.9926],[1618531200000,0.9953],[1618790400000,0.9968],[1618876800000,0.9967],[1618963200000,0.9947],[1619049600000,0.9951],[1619136000000,0.9958],[1619395200000,0.9976],[1619481600000,0.9966],[1619568000000,0.9958],[1619654400000,0.9965],[1619740800000,0.9947],[1620259200000,0.9914],[1620345600000,0.9928],[1620604800000,0.9902],[1620691200000,0.9901],[1620777600000,0.9881],[1620864000000,0.9873],[1620950400000,0.986],[1621209600000,0.9889],[1621296000000,0.99],[1621382400000,0.9888],[1621468800000,0.9895],[1621555200000,0.9925],[1621814400000,0.9932],[1621900800000,0.9935],[1621987200000,0.9942],[1622073600000,0.995],[1622160000000,0.9913],[1622419200000,0.9899],[1622505600000,0.9912],[1622592000000,0.9893],[1622678400000,0.9862],[1622764800000,0.9876],[1623024000000,0.9857],[1623110400000,0.9887],[1623196800000,0.9872],[1623283200000,0.9878],[1623369600000,0.9888],[1623715200000,0.9888],[1623801600000,0.9902],[1623888000000,0.9921],[1623974400000,0.9943],[1624233600000,0.9906],[1624320000000,0.9913],[1624406400000,0.9919],[1624492800000,0.987],[1624579200000,0.9886],[1624838400000,0.9882],[1624924800000,0.9833],[1625011200000,0.9821],[1625097600000,0.9838],[1625184000000,0.9793],[1625443200000,0.9779],[1625529600000,0.9793],[1625616000000,0.9786],[1625702400000,0.9797],[1625788800000,0.9829],[1626048000000,0.9854],[1626134400000,0.9829],[1626220800000,0.9798],[1626307200000,0.9777],[1626393600000,0.9754],[1626652800000,0.9735],[1626739200000,0.9762],[1626825600000,0.9761],[1626912000000,0.9744],[1626998400000,0.9744],[1627257600000,0.9733],[1627344000000,0.9698],[1627430400000,0.9707],[1627516800000,0.9708],[1627603200000,0.9699],[1627862400000,0.9708],[1627948800000,0.9739],[1628035200000,0.9717],[1628121600000,0.9707],[1628208000000,0.9754],[1628467200000,0.9722],[1628553600000,0.97],[1628640000000,0.9697],[1628726400000,0.9699],[1628812800000,0.9695],[1629072000000,0.9712],[1629158400000,0.9745],[1629244800000,0.9794],[1629331200000,0.9811],[1629417600000,0.9782],[1629676800000,0.9788],[1629763200000,0.9805],[1629849600000,0.9809],[1629936000000,0.9816],[1630022400000,0.9787],[1630281600000,0.9791],[1630368000000,0.9778],[1630454400000,0.9782],[1630540800000,0.9775],[1630627200000,0.9785],[1630886400000,0.9771],[1630972800000,0.9748],[1631059200000,0.9708],[1631145600000,0.9679],[1631232000000,0.9684],[1631491200000,0.9664],[1631577600000,0.9713],[1631664000000,0.9696],[1631750400000,0.9715],[1631836800000,0.9735],[1632268800000,0.9705],[1632355200000,0.975],[1632441600000,0.9757],[1632700800000,0.9722],[1632787200000,0.9744],[1632873600000,0.976],[1632960000000,0.9765],[1633651200000,0.9773],[1633910400000,0.9797],[1633996800000,0.9788],[1634083200000,0.9798],[1634169600000,0.9821],[1634256000000,0.9817],[1634515200000,0.9813],[1634601600000,0.9806],[1634688000000,0.9839],[1634774400000,0.9829],[1634860800000,0.984],[1635120000000,0.9828]],\"color\":\"#648FD5\"},{\"name\":\"\\u56e0\\u5b503\",\"yAxis\":0,\"data\":[[1609718400000,null],[1609804800000,1.0],[1609891200000,0.9988],[1609977600000,1.001],[1610064000000,0.9981],[1610323200000,0.994],[1610409600000,0.9917],[1610496000000,0.993],[1610582400000,0.9946],[1610668800000,0.9919],[1610928000000,0.9933],[1611014400000,0.9944],[1611100800000,0.9902],[1611187200000,0.9888],[1611273600000,0.9868],[1611532800000,0.9835],[1611619200000,0.9789],[1611705600000,0.984],[1611792000000,0.9851],[1611878400000,0.9862],[1612137600000,0.9857],[1612224000000,0.9838],[1612310400000,0.9854],[1612396800000,0.9825],[1612483200000,0.9821],[1612742400000,0.9811],[1612828800000,0.9817],[1612915200000,0.9813],[1613606400000,0.9803],[1613692800000,0.9828],[1613952000000,0.9857],[1614038400000,0.9842],[1614124800000,0.9813],[1614211200000,0.9802],[1614297600000,0.9808],[1614556800000,0.9777],[1614643200000,0.9817],[1614729600000,0.9813],[1614816000000,0.9805],[1614902400000,0.9792],[1615161600000,0.9783],[1615248000000,0.9786],[1615334400000,0.9764],[1615420800000,0.9764],[1615507200000,0.9759],[1615766400000,0.973],[1615852800000,0.974],[1615939200000,0.9715],[1616025600000,0.9714],[1616112000000,0.971],[1616371200000,0.9718],[1616457600000,0.9692],[1616544000000,0.9679],[1616630400000,0.9697],[1616716800000,0.9698],[1616976000000,0.9677],[1617062400000,0.9692],[1617148800000,0.9673],[1617235200000,0.9671],[1617321600000,0.9674],[1617667200000,0.9658],[1617753600000,0.9648],[1617840000000,0.965],[1617926400000,0.9661],[1618185600000,0.9638],[1618272000000,0.9619],[1618358400000,0.96],[1618444800000,0.9636],[1618531200000,0.9664],[1618790400000,0.9669],[1618876800000,0.9649],[1618963200000,0.9642],[1619049600000,0.9668],[1619136000000,0.9647],[1619395200000,0.9644],[1619481600000,0.9659],[1619568000000,0.9629],[1619654400000,0.9629],[1619740800000,0.9618],[1620259200000,0.9628],[1620345600000,0.9642],[1620604800000,0.9686],[1620691200000,0.9691],[1620777600000,0.9679],[1620864000000,0.97],[1620950400000,0.971],[1621209600000,0.971],[1621296000000,0.9693],[1621382400000,0.9694],[1621468800000,0.9703],[1621555200000,0.97],[1621814400000,0.9709],[1621900800000,0.9695],[1621987200000,0.9678],[1622073600000,0.9664],[1622160000000,0.9659],[1622419200000,0.9645],[1622505600000,0.9641],[1622592000000,0.9627],[1622678400000,0.9617],[1622764800000,0.9634],[1623024000000,0.9645],[1623110400000,0.9633],[1623196800000,0.9633],[1623283200000,0.9629],[1623369600000,0.9627],[1623715200000,0.9634],[1623801600000,0.9638],[1623888000000,0.9654],[1623974400000,0.968],[1624233600000,0.9674],[1624320000000,0.9676],[1624406400000,0.964],[1624492800000,0.9638],[1624579200000,0.9649],[1624838400000,0.9615],[1624924800000,0.9639],[1625011200000,0.9652],[1625097600000,0.9618],[1625184000000,0.9611],[1625443200000,0.9624],[1625529600000,0.9644],[1625616000000,0.9632],[1625702400000,0.9631],[1625788800000,0.9642],[1626048000000,0.9633],[1626134400000,0.9613],[1626220800000,0.9591],[1626307200000,0.957],[1626393600000,0.9583],[1626652800000,0.9562],[1626739200000,0.9547],[1626825600000,0.9549],[1626912000000,0.9579],[1626998400000,0.9587],[1627257600000,0.9561],[1627344000000,0.9552],[1627430400000,0.9587],[1627516800000,0.9541],[1627603200000,0.9515],[1627862400000,0.9466],[1627948800000,0.9492],[1628035200000,0.9515],[1628121600000,0.9498],[1628208000000,0.9493],[1628467200000,0.9507],[1628553600000,0.95],[1628640000000,0.9484],[1628726400000,0.9483],[1628812800000,0.9477],[1629072000000,0.9461],[1629158400000,0.9475],[1629244800000,0.947],[1629331200000,0.949],[1629417600000,0.9478],[1629676800000,0.9454],[1629763200000,0.9438],[1629849600000,0.9403],[1629936000000,0.9426],[1630022400000,0.9401],[1630281600000,0.9396],[1630368000000,0.9371],[1630454400000,0.9415],[1630540800000,0.9401],[1630627200000,0.9394],[1630886400000,0.938],[1630972800000,0.9374],[1631059200000,0.9333],[1631145600000,0.9318],[1631232000000,0.9308],[1631491200000,0.9289],[1631577600000,0.9279],[1631664000000,0.9269],[1631750400000,0.9293],[1631836800000,0.9253],[1632268800000,0.9233],[1632355200000,0.9206],[1632441600000,0.9204],[1632700800000,0.9182],[1632787200000,0.9148],[1632873600000,0.912],[1632960000000,0.9146],[1633651200000,0.9103],[1633910400000,0.9113],[1633996800000,0.9132],[1634083200000,0.9147],[1634169600000,0.9184],[1634256000000,0.9201],[1634515200000,0.9213],[1634601600000,0.9196],[1634688000000,0.9204],[1634774400000,0.9198],[1634860800000,0.9208],[1635120000000,0.9205]],\"color\":\"#E06681\"},{\"name\":\"\\u56e0\\u5b504\",\"yAxis\":0,\"data\":[[1609718400000,null],[1609804800000,1.0],[1609891200000,0.9981],[1609977600000,0.9941],[1610064000000,0.9935],[1610323200000,0.9955],[1610409600000,0.9956],[1610496000000,0.9921],[1610582400000,0.9948],[1610668800000,0.9993],[1610928000000,0.9991],[1611014400000,0.9998],[1611100800000,1.0006],[1611187200000,1.0015],[1611273600000,1.0034],[1611532800000,1.0013],[1611619200000,0.9998],[1611705600000,1.0013],[1611792000000,1.0016],[1611878400000,1.0026],[1612137600000,1.0014],[1612224000000,1.0046],[1612310400000,1.0037],[1612396800000,0.9996],[1612483200000,0.9972],[1612742400000,0.9968],[1612828800000,0.995],[1612915200000,0.9935],[1613606400000,0.9958],[1613692800000,0.9995],[1613952000000,0.9936],[1614038400000,0.9929],[1614124800000,0.9931],[1614211200000,0.9932],[1614297600000,0.9909],[1614556800000,0.9923],[1614643200000,0.993],[1614729600000,0.9924],[1614816000000,0.9873],[1614902400000,0.988],[1615161600000,0.9838],[1615248000000,0.9832],[1615334400000,0.9816],[1615420800000,0.9832],[1615507200000,0.9862],[1615766400000,0.9826],[1615852800000,0.9775],[1615939200000,0.9772],[1616025600000,0.9766],[1616112000000,0.9764],[1616371200000,0.9755],[1616457600000,0.9742],[1616544000000,0.9733],[1616630400000,0.9727],[1616716800000,0.973],[1616976000000,0.9712],[1617062400000,0.9703],[1617148800000,0.9688],[1617235200000,0.9705],[1617321600000,0.9726],[1617667200000,0.9746],[1617753600000,0.9769],[1617840000000,0.9762],[1617926400000,0.9756],[1618185600000,0.9769],[1618272000000,0.9756],[1618358400000,0.9739],[1618444800000,0.9721],[1618531200000,0.9708],[1618790400000,0.9704],[1618876800000,0.9715],[1618963200000,0.9721],[1619049600000,0.9726],[1619136000000,0.9718],[1619395200000,0.9762],[1619481600000,0.977],[1619568000000,0.9799],[1619654400000,0.9812],[1619740800000,0.9808],[1620259200000,0.98],[1620345600000,0.9833],[1620604800000,0.9836],[1620691200000,0.9838],[1620777600000,0.983],[1620864000000,0.9811],[1620950400000,0.9804],[1621209600000,0.9812],[1621296000000,0.9814],[1621382400000,0.981],[1621468800000,0.9772],[1621555200000,0.9767],[1621814400000,0.9759],[1621900800000,0.9764],[1621987200000,0.9762],[1622073600000,0.9755],[1622160000000,0.9733],[1622419200000,0.9703],[1622505600000,0.97],[1622592000000,0.9702],[1622678400000,0.9711],[1622764800000,0.9739],[1623024000000,0.9741],[1623110400000,0.9748],[1623196800000,0.9739],[1623283200000,0.9759],[1623369600000,0.978],[1623715200000,0.977],[1623801600000,0.9797],[1623888000000,0.9828],[1623974400000,0.9848],[1624233600000,0.9845],[1624320000000,0.9845],[1624406400000,0.9867],[1624492800000,0.9857],[1624579200000,0.9873],[1624838400000,0.9838],[1624924800000,0.9834],[1625011200000,0.9842],[1625097600000,0.9883],[1625184000000,0.9866],[1625443200000,0.9873],[1625529600000,0.986],[1625616000000,0.9853],[1625702400000,0.9862],[1625788800000,0.9882],[1626048000000,0.9904],[1626134400000,0.9897],[1626220800000,0.9877],[1626307200000,0.9869],[1626393600000,0.9903],[1626652800000,0.9913],[1626739200000,0.9928],[1626825600000,0.9932],[1626912000000,0.9943],[1626998400000,0.9949],[1627257600000,0.997],[1627344000000,0.992],[1627430400000,0.9886],[1627516800000,0.9922],[1627603200000,0.9922],[1627862400000,0.9924],[1627948800000,0.9894],[1628035200000,0.9889],[1628121600000,0.987],[1628208000000,0.983],[1628467200000,0.9817],[1628553600000,0.982],[1628640000000,0.9847],[1628726400000,0.9845],[1628812800000,0.9829],[1629072000000,0.984],[1629158400000,0.9853],[1629244800000,0.9872],[1629331200000,0.987],[1629417600000,0.9821],[1629676800000,0.9821],[1629763200000,0.9846],[1629849600000,0.9869],[1629936000000,0.9861],[1630022400000,0.9843],[1630281600000,0.9843],[1630368000000,0.986],[1630454400000,0.985],[1630540800000,0.9887],[1630627200000,0.9886],[1630886400000,0.9864],[1630972800000,0.9899],[1631059200000,0.9883],[1631145600000,0.99],[1631232000000,0.9849],[1631491200000,0.9832],[1631577600000,0.9843],[1631664000000,0.9846],[1631750400000,0.9892],[1631836800000,0.9905],[1632268800000,0.9938],[1632355200000,0.9952],[1632441600000,0.9942],[1632700800000,0.9942],[1632787200000,0.9928],[1632873600000,0.9923],[1632960000000,0.9918],[1633651200000,0.9941],[1633910400000,0.9935],[1633996800000,0.9939],[1634083200000,0.9966],[1634169600000,0.9947],[1634256000000,0.9947],[1634515200000,0.9997],[1634601600000,0.9998],[1634688000000,1.0],[1634774400000,1.0019],[1634860800000,0.9992],[1635120000000,0.9988]],\"color\":\"#E2D269\"}],\"xAxis\":{\"title\":{\"text\":\"date\"},\"type\":\"datetime\"},\"plotOptions\":{\"series\":{\"compare\":\"percent\"}}}/bigcharts-data-end</pre></div><div id=\"bigchart-f92ff317568443d3bf0bbc7ca9e792e5\" class=\"bigchart\"></div><div class=\"bigchart-data\"><pre style=\"display:none\">bigcharts-data-start/{\"chart\":{\"height\":400,\"type\":\"heatmap\",\"marginTop\":40,\"marginBottom\":80,\"plotBorderWidth\":1,\"renderTo\":\"bigchart-f92ff317568443d3bf0bbc7ca9e792e5\"},\"legend\":{\"enabled\":true,\"align\":\"right\",\"layout\":\"vertical\",\"margin\":0,\"verticalAlign\":\"top\",\"y\":25,\"symbolHeight\":280},\"title\":{\"text\":\"\\u76f8\\u5173\\u6027\\u5206\\u6790\"},\"stock\":false,\"series\":[{\"name\":\"\\u76f8\\u5173\\u6027\\u5206\\u6790\",\"borderWidth\":1,\"data\":[[0,0,1.0],[0,1,-0.006],[0,2,0.0007],[0,3,-0.0035],[1,0,-0.006],[1,1,1.0],[1,2,0.0041],[1,3,0.0043],[2,0,0.0007],[2,1,0.0041],[2,2,1.0],[2,3,0.0038],[3,0,-0.0035],[3,1,0.0043],[3,2,0.0038],[3,3,1.0]],\"dataLabels\":{\"enabled\":true,\"color\":\"#000000\"}}],\"xAxis\":{\"categories\":[\"\\u56e0\\u5b501\",\"\\u56e0\\u5b502\",\"\\u56e0\\u5b503\",\"\\u56e0\\u5b504\"]},\"colorAxis\":{\"min\":-1,\"stops\":[[0,\"#648FD5\"],[0.5,\"#FFFFFF\"],[1,\"#F08B55\"]],\"max\":1},\"yAxis\":{\"categories\":[\"\\u56e0\\u5b501\",\"\\u56e0\\u5b502\",\"\\u56e0\\u5b503\",\"\\u56e0\\u5b504\"],\"title\":\"\"}}/bigcharts-data-end</pre></div><div id=\"bigchart-d5ecb9f0851648a59427d8a621a49712\" class=\"bigchart\"></div><div class=\"bigchart-data\"><pre style=\"display:none\">bigcharts-data-start/{\"chart\":{\"height\":500,\"type\":\"spline\",\"renderTo\":\"bigchart-d5ecb9f0851648a59427d8a621a49712\"},\"legend\":{\"enabled\":true},\"title\":{\"text\":\"IC\\u5bf9\\u6bd4\"},\"stock\":true,\"series\":[{\"name\":\"\\u56e0\\u5b501\",\"yAxis\":0,\"data\":[[1609804800000,-0.0686],[1609977600000,0.0218],[1610323200000,-0.0846],[1610496000000,0.1326],[1610668800000,0.0149],[1611014400000,0.0211],[1611187200000,0.073],[1611532800000,0.0007],[1611705600000,0.0061],[1611878400000,0.0654],[1612224000000,0.0366],[1612396800000,0.0329],[1612742400000,0.083],[1612915200000,0.1034],[1613692800000,-0.0223],[1614038400000,-0.0044],[1614211200000,-0.093],[1614556800000,-0.0319],[1614729600000,0.0063],[1614902400000,0.0787],[1615248000000,-0.0372],[1615420800000,-0.0325],[1615766400000,0.0026],[1615939200000,0.0418],[1616112000000,0.0388],[1616457600000,-0.0236],[1616630400000,0.0928],[1616976000000,0.0289],[1617148800000,-0.0032],[1617321600000,-0.0071],[1617753600000,0.0351],[1617926400000,0.1037],[1618272000000,0.0737],[1618444800000,0.0231],[1618790400000,-0.0693],[1618963200000,-0.0928],[1619136000000,0.0898],[1619481600000,0.012],[1619654400000,-0.095],[1620259200000,0.0052],[1620604800000,0.0192],[1620777600000,-0.0187],[1620950400000,0.1245],[1621296000000,0.0584],[1621468800000,-0.0637],[1621814400000,0.0389],[1621987200000,0.0015],[1622160000000,-0.1339],[1622505600000,0.008],[1622678400000,0.0645],[1623024000000,-0.034],[1623196800000,0.0361],[1623369600000,-0.0173],[1623801600000,0.0363],[1623974400000,-0.0722],[1624320000000,0.0019],[1624492800000,0.0769],[1625011200000,-0.0129],[1625184000000,0.1155],[1625529600000,-0.0181],[1626048000000,0.0295],[1626220800000,0.0758],[1626393600000,0.0772],[1626739200000,0.0406],[1627257600000,0.0337],[1627603200000,0.0361],[1627948800000,-0.0429],[1628467200000,0.0315],[1628640000000,0.1065],[1628812800000,0.042],[1629158400000,0.0202],[1629676800000,0.0121],[1629849600000,0.0303],[1630022400000,0.035],[1630368000000,0.0074],[1630540800000,-0.0113],[1630886400000,-0.0663],[1631059200000,0.0139],[1631232000000,0.0138],[1631750400000,0.038],[1632268800000,-0.0802],[1632441600000,0.0233],[1632787200000,0.0279],[1632960000000,0.0654],[1633910400000,-0.0022],[1634083200000,0.0573],[1634256000000,-0.0352],[1634601600000,-0.0567],[1634774400000,0.0091],[1624838400000,-0.03],[1625702400000,0.041],[1626912000000,-0.0211],[1627430400000,0.0194],[1628121600000,0.0095],[1629331200000,-0.0221],[1631577600000,-0.0049]],\"color\":\"#F08B55\"},{\"name\":\"\\u56e0\\u5b502\",\"yAxis\":0,\"data\":[[1609804800000,0.0308],[1609977600000,-0.0228],[1610323200000,-0.0182],[1610496000000,0.1714],[1610668800000,-0.0374],[1611014400000,-0.0405],[1611187200000,-0.1922],[1611532800000,0.0709],[1611705600000,-0.04],[1611878400000,0.0042],[1612224000000,-0.0444],[1612396800000,0.0825],[1612742400000,-0.063],[1612915200000,0.1383],[1613692800000,-0.0721],[1614038400000,-0.0244],[1614211200000,-0.0518],[1614556800000,0.0386],[1614729600000,-0.0367],[1614902400000,0.0011],[1615248000000,-0.0036],[1615420800000,-0.0834],[1615766400000,-0.069],[1615939200000,0.1633],[1616112000000,0.0093],[1616457600000,-0.0081],[1616630400000,0.0485],[1616976000000,-0.0288],[1617148800000,-0.1038],[1617321600000,-0.0145],[1617753600000,0.0427],[1617926400000,-0.029],[1618272000000,0.0151],[1618444800000,-0.1441],[1618790400000,0.0564],[1618963200000,-0.0186],[1619136000000,-0.0063],[1619481600000,-0.0304],[1619654400000,0.1453],[1620259200000,-0.0091],[1620604800000,0.01],[1620777600000,-0.0087],[1620950400000,-0.1259],[1621296000000,0.0129],[1621468800000,-0.0451],[1621814400000,-0.0173],[1621987200000,-0.0087],[1622160000000,-0.0394],[1622505600000,0.0104],[1622678400000,0.0123],[1623024000000,-0.0106],[1623196800000,-0.0367],[1623369600000,-0.0619],[1623801600000,-0.1034],[1623974400000,0.0465],[1624320000000,0.0828],[1624492800000,-0.0576],[1625011200000,-0.002],[1625184000000,-0.0136],[1625529600000,-0.0181],[1626048000000,0.0639],[1626220800000,0.0412],[1626393600000,-0.0131],[1626739200000,0.043],[1627257600000,0.021],[1627603200000,-0.0612],[1627948800000,0.0344],[1628467200000,0.0006],[1628640000000,-0.0086],[1628812800000,-0.0908],[1629158400000,-0.0774],[1629676800000,0.0042],[1629849600000,0.0579],[1630022400000,0.0121],[1630368000000,-0.0046],[1630540800000,-0.007],[1630886400000,0.0687],[1631059200000,0.1127],[1631232000000,-0.076],[1631750400000,-0.0037],[1632268800000,-0.0555],[1632441600000,0.0166],[1632787200000,-0.0362],[1632960000000,-0.0802],[1633910400000,-0.0159],[1634083200000,-0.064],[1634256000000,0.0131],[1634601600000,-0.0183],[1634774400000,-0.0372],[1624838400000,0.1091],[1625702400000,-0.0953],[1626912000000,0.0622],[1627430400000,-0.0037],[1628121600000,-0.0904],[1629331200000,0.073],[1631577600000,0.0398]],\"color\":\"#648FD5\"},{\"name\":\"\\u56e0\\u5b503\",\"yAxis\":0,\"data\":[[1609804800000,0.0093],[1609977600000,0.0686],[1610323200000,-0.0124],[1610496000000,-0.04],[1610668800000,-0.0796],[1611014400000,0.055],[1611187200000,0.0769],[1611532800000,0.0015],[1611705600000,-0.0708],[1611878400000,0.07],[1612224000000,0.0019],[1612396800000,-0.0151],[1612742400000,-0.0143],[1612915200000,-0.0166],[1613692800000,-0.0165],[1614038400000,0.0704],[1614211200000,0.0362],[1614556800000,-0.1005],[1614729600000,-0.0892],[1614902400000,-0.0033],[1615248000000,0.1225],[1615420800000,0.0732],[1615766400000,0.0431],[1615939200000,0.0478],[1616112000000,0.0374],[1616457600000,-0.0316],[1616630400000,0.0427],[1616976000000,0.0221],[1617148800000,0.0453],[1617321600000,0.0784],[1617753600000,-0.0279],[1617926400000,0.1078],[1618272000000,-0.0168],[1618444800000,-0.0757],[1618790400000,0.0058],[1618963200000,0.03],[1619136000000,0.0682],[1619481600000,0.0556],[1619654400000,-0.0382],[1620259200000,-0.0485],[1620604800000,0.0582],[1620777600000,-0.0631],[1620950400000,0.0722],[1621296000000,0.0233],[1621468800000,0.0109],[1621814400000,0.0823],[1621987200000,0.0351],[1622160000000,0.0461],[1622505600000,0.0061],[1622678400000,-0.0138],[1623024000000,-0.0252],[1623196800000,-0.0601],[1623369600000,-0.0316],[1623801600000,-0.1051],[1623974400000,0.0399],[1624320000000,0.0628],[1624492800000,0.1197],[1625011200000,0.0434],[1625184000000,-0.0116],[1625529600000,0.0385],[1626048000000,0.0842],[1626220800000,0.043],[1626393600000,0.0765],[1626739200000,-0.0386],[1627257600000,-0.0546],[1627603200000,-0.028],[1627948800000,-0.0093],[1628467200000,-0.0086],[1628640000000,0.0189],[1628812800000,0.0344],[1629158400000,-0.063],[1629676800000,0.0265],[1629849600000,-0.0249],[1630022400000,-0.0035],[1630368000000,0.0058],[1630540800000,0.018],[1630886400000,0.1082],[1631059200000,0.0769],[1631232000000,0.0536],[1631750400000,0.1038],[1632268800000,0.07],[1632441600000,0.0625],[1632787200000,0.0012],[1632960000000,0.0121],[1633910400000,-0.0401],[1634083200000,-0.0525],[1634256000000,0.006],[1634601600000,0.0458],[1634774400000,0.0467],[1624838400000,-0.0247],[1625702400000,0.0135],[1626912000000,0.0158],[1627430400000,0.1313],[1628121600000,-0.0773],[1629331200000,0.0667],[1631577600000,-0.0597]],\"color\":\"#E06681\"},{\"name\":\"\\u56e0\\u5b504\",\"yAxis\":0,\"data\":[[1609804800000,0.0893],[1609977600000,-0.0041],[1610323200000,0.0453],[1610496000000,-0.0938],[1610668800000,0.0393],[1611014400000,-0.0798],[1611187200000,-0.0646],[1611532800000,-0.057],[1611705600000,0.0073],[1611878400000,-0.0324],[1612224000000,0.0529],[1612396800000,0.0465],[1612742400000,0.0525],[1612915200000,-0.0766],[1613692800000,0.0463],[1614038400000,0.0293],[1614211200000,-0.0217],[1614556800000,0.0783],[1614729600000,0.0651],[1614902400000,0.1016],[1615248000000,0.0384],[1615420800000,-0.0137],[1615766400000,0.1057],[1615939200000,-0.0882],[1616112000000,0.0768],[1616457600000,-0.0153],[1616630400000,0.0219],[1616976000000,0.017],[1617148800000,-0.1589],[1617321600000,-0.1335],[1617753600000,0.0241],[1617926400000,-0.0286],[1618272000000,0.0787],[1618444800000,0.0952],[1618790400000,0.0045],[1618963200000,-0.0147],[1619136000000,-0.0232],[1619481600000,-0.0616],[1619654400000,0.0075],[1620259200000,-0.0132],[1620604800000,0.0305],[1620777600000,0.089],[1620950400000,-0.0589],[1621296000000,0.0552],[1621468800000,0.0068],[1621814400000,-0.0105],[1621987200000,0.1209],[1622160000000,0.0266],[1622505600000,0.0428],[1622678400000,-0.0913],[1623024000000,0.0037],[1623196800000,0.0007],[1623369600000,0.0018],[1623801600000,-0.0846],[1623974400000,0.0407],[1624320000000,0.0148],[1624492800000,0.0348],[1625011200000,-0.1084],[1625184000000,-0.0076],[1625529600000,0.0065],[1626048000000,0.0372],[1626220800000,-0.0549],[1626393600000,0.0252],[1626739200000,-0.0249],[1627257600000,0.0479],[1627603200000,0.0206],[1627948800000,0.0496],[1628467200000,-0.0765],[1628640000000,0.0489],[1628812800000,-0.0059],[1629158400000,-0.0111],[1629676800000,-0.059],[1629849600000,0.0266],[1630022400000,0.0009],[1630368000000,-0.0077],[1630540800000,-0.0549],[1630886400000,-0.0988],[1631059200000,0.0399],[1631232000000,-0.0175],[1631750400000,-0.082],[1632268800000,-0.1614],[1632441600000,-0.0086],[1632787200000,0.0055],[1632960000000,0.0841],[1633910400000,-0.0924],[1634083200000,0.1342],[1634256000000,-0.1128],[1634601600000,-0.0714],[1634774400000,-0.0001],[1624838400000,0.0468],[1625702400000,-0.0873],[1626912000000,-0.0493],[1627430400000,-0.0445],[1628121600000,0.1408],[1629331200000,0.0628],[1631577600000,-0.0852]],\"color\":\"#E2D269\"}],\"xAxis\":{\"title\":{\"text\":\"date\"},\"type\":\"datetime\"},\"plotOptions\":{\"series\":{\"compare\":\"percent\"}}}/bigcharts-data-end</pre></div><div id=\"bigchart-2f35e74c75364e43a712497ab4c62362\" class=\"bigchart\"></div><div class=\"bigchart-data\"><pre style=\"display:none\">bigcharts-data-start/{\"chart\":{\"height\":500,\"renderTo\":\"bigchart-2f35e74c75364e43a712497ab4c62362\"},\"legend\":{\"enabled\":true},\"title\":{\"text\":\"\\u56e0\\u5b50\\u4f30\\u503c\\uff08\\u6700\\u5c0f\\/\\u6700\\u5927\\u5206\\u4f4d\\uff09\\u5bf9\\u6bd4\"},\"stock\":true,\"series\":[{\"name\":\"\\u56e0\\u5b501\",\"yAxis\":0,\"data\":[[1609718400000,null],[1609804800000,null],[1609891200000,1.1109],[1609977600000,1.0961],[1610064000000,0.88],[1610323200000,0.8066],[1610409600000,0.9965],[1610496000000,1.015],[1610582400000,1.2338],[1610668800000,1.3545],[1610928000000,0.6129],[1611014400000,0.5738],[1611100800000,1.9551],[1611187200000,1.9791],[1611273600000,0.7515],[1611532800000,0.762],[1611619200000,0.7859],[1611705600000,0.7623],[1611792000000,0.5824],[1611878400000,0.5958],[1612137600000,0.462],[1612224000000,0.5402],[1612310400000,1.3056],[1612396800000,1.3379],[1612483200000,0.785],[1612742400000,0.7528],[1612828800000,0.562],[1612915200000,0.5844],[1613606400000,1.1913],[1613692800000,1.1527],[1613952000000,0.9183],[1614038400000,0.9252],[1614124800000,0.9528],[1614211200000,0.9204],[1614297600000,0.876],[1614556800000,0.8939],[1614643200000,0.9168],[1614729600000,0.9077],[1614816000000,1.0148],[1614902400000,1.0107],[1615161600000,0.926],[1615248000000,0.971],[1615334400000,1.3209],[1615420800000,1.4055],[1615507200000,1.1179],[1615766400000,1.1425],[1615852800000,1.391],[1615939200000,1.3756],[1616025600000,0.8354],[1616112000000,0.8284],[1616371200000,1.4976],[1616457600000,1.5215],[1616544000000,1.1356],[1616630400000,1.0964],[1616716800000,1.1416],[1616976000000,1.159],[1617062400000,1.2303],[1617148800000,1.2524],[1617235200000,0.9927],[1617321600000,1.0021],[1617667200000,1.105],[1617753600000,1.1196],[1617840000000,1.647],[1617926400000,1.6622],[1618185600000,1.0727],[1618272000000,1.0384],[1618358400000,0.6498],[1618444800000,0.6433],[1618531200000,1.2211],[1618790400000,1.1536],[1618876800000,1.0319],[1618963200000,1.0297],[1619049600000,1.284],[1619136000000,1.3022],[1619395200000,0.8081],[1619481600000,0.8085],[1619568000000,1.0141],[1619654400000,1.0073],[1619740800000,0.8194],[1620259200000,0.8411],[1620345600000,1.2543],[1620604800000,1.3081],[1620691200000,0.9439],[1620777600000,0.9436],[1620864000000,1.3357],[1620950400000,1.4237],[1621209600000,1.1935],[1621296000000,1.1742],[1621382400000,1.3175],[1621468800000,1.3071],[1621555200000,1.4777],[1621814400000,1.5262],[1621900800000,0.9011],[1621987200000,0.9],[1622073600000,1.5546],[1622160000000,1.5779],[1622419200000,1.1135],[1622505600000,1.1109],[1622592000000,0.9772],[1622678400000,1.0049],[1622764800000,1.0433],[1623024000000,1.078],[1623110400000,1.0652],[1623196800000,1.0645],[1623283200000,0.8191],[1623369600000,0.7863],[1623715200000,0.6942],[1623801600000,0.696],[1623888000000,1.249],[1623974400000,1.214],[1624233600000,0.9454],[1624320000000,0.9664],[1624406400000,1.1183],[1624492800000,1.1233],[1624579200000,1.1007],[1624838400000,1.0899],[1624924800000,0.8526],[1625011200000,0.8221],[1625097600000,1.083],[1625184000000,1.076],[1625443200000,0.7562],[1625529600000,0.7448],[1625616000000,0.9419],[1625702400000,0.9337],[1625788800000,1.057],[1626048000000,1.0348],[1626134400000,0.9421],[1626220800000,0.9824],[1626307200000,0.4947],[1626393600000,0.5106],[1626652800000,0.7602],[1626739200000,0.7636],[1626825600000,1.8177],[1626912000000,1.8628],[1626998400000,1.1222],[1627257600000,1.1183],[1627344000000,1.0934],[1627430400000,1.0888],[1627516800000,0.853],[1627603200000,0.8371],[1627862400000,1.1157],[1627948800000,1.1031],[1628035200000,1.6671],[1628121600000,1.7166],[1628208000000,1.0242],[1628467200000,1.0417],[1628553600000,1.2146],[1628640000000,1.157],[1628726400000,0.9004],[1628812800000,0.9092],[1629072000000,0.9745],[1629158400000,0.9964],[1629244800000,0.9573],[1629331200000,0.9829],[1629417600000,0.6927],[1629676800000,0.7048],[1629763200000,0.8124],[1629849600000,0.7267],[1629936000000,1.0853],[1630022400000,1.1304],[1630281600000,0.6972],[1630368000000,0.7041],[1630454400000,1.7331],[1630540800000,1.7444],[1630627200000,0.6699],[1630886400000,0.6505],[1630972800000,0.8251],[1631059200000,0.8102],[1631145600000,1.144],[1631232000000,1.1248],[1631491200000,0.8756],[1631577600000,0.9124],[1631664000000,0.7573],[1631750400000,0.7633],[1631836800000,1.0234],[1632268800000,1.1426],[1632355200000,0.9417],[1632441600000,0.9078],[1632700800000,1.1466],[1632787200000,1.1215],[1632873600000,0.8386],[1632960000000,0.909],[1633651200000,0.8746],[1633910400000,0.954],[1633996800000,1.0984],[1634083200000,1.1259],[1634169600000,0.6964],[1634256000000,0.7161],[1634515200000,1.091],[1634601600000,1.0666],[1634688000000,1.4492],[1634774400000,1.4521],[1634860800000,1.0903],[1635120000000,1.0851]],\"color\":\"#F08B55\"},{\"name\":\"\\u56e0\\u5b502\",\"yAxis\":0,\"data\":[[1609718400000,null],[1609804800000,null],[1609891200000,1.1317],[1609977600000,1.1342],[1610064000000,0.8078],[1610323200000,0.8371],[1610409600000,0.8183],[1610496000000,0.8057],[1610582400000,1.106],[1610668800000,1.185],[1610928000000,0.8634],[1611014400000,0.8679],[1611100800000,0.8146],[1611187200000,0.7971],[1611273600000,1.6801],[1611532800000,1.7223],[1611619200000,0.7614],[1611705600000,0.7768],[1611792000000,1.2024],[1611878400000,1.1549],[1612137600000,1.2477],[1612224000000,1.253],[1612310400000,1.1807],[1612396800000,1.1506],[1612483200000,1.1238],[1612742400000,1.0659],[1612828800000,0.8748],[1612915200000,0.8958],[1613606400000,1.4947],[1613692800000,1.3356],[1613952000000,0.842],[1614038400000,0.8011],[1614124800000,0.904],[1614211200000,0.9393],[1614297600000,1.277],[1614556800000,1.2014],[1614643200000,1.277],[1614729600000,1.1589],[1614816000000,0.9632],[1614902400000,0.9608],[1615161600000,0.9858],[1615248000000,1.0237],[1615334400000,0.9486],[1615420800000,0.9957],[1615507200000,0.6942],[1615766400000,0.7126],[1615852800000,0.9929],[1615939200000,0.9671],[1616025600000,0.7633],[1616112000000,0.7559],[1616371200000,0.8078],[1616457600000,0.7901],[1616544000000,1.0431],[1616630400000,0.9943],[1616716800000,0.8112],[1616976000000,0.815],[1617062400000,1.3337],[1617148800000,1.3083],[1617235200000,1.3469],[1617321600000,1.4349],[1617667200000,1.1844],[1617753600000,1.1156],[1617840000000,0.91],[1617926400000,0.8674],[1618185600000,0.6903],[1618272000000,0.6934],[1618358400000,1.1152],[1618444800000,1.098],[1618531200000,0.9306],[1618790400000,0.9037],[1618876800000,0.9077],[1618963200000,0.8915],[1619049600000,0.7293],[1619136000000,0.7022],[1619395200000,0.8307],[1619481600000,0.8383],[1619568000000,0.8172],[1619654400000,0.8086],[1619740800000,1.0249],[1620259200000,1.0236],[1620345600000,1.0522],[1620604800000,1.0355],[1620691200000,0.8251],[1620777600000,0.7759],[1620864000000,0.7162],[1620950400000,0.716],[1621209600000,1.1193],[1621296000000,1.1827],[1621382400000,1.0429],[1621468800000,1.0145],[1621555200000,0.8131],[1621814400000,0.8219],[1621900800000,0.9869],[1621987200000,0.9993],[1622073600000,1.2495],[1622160000000,1.2184],[1622419200000,1.1584],[1622505600000,1.1195],[1622592000000,0.7966],[1622678400000,0.7267],[1622764800000,1.2188],[1623024000000,1.2155],[1623110400000,0.815],[1623196800000,0.8068],[1623283200000,0.6301],[1623369600000,0.6387],[1623715200000,0.834],[1623801600000,0.8106],[1623888000000,1.4193],[1623974400000,1.4094],[1624233600000,0.9924],[1624320000000,0.9787],[1624406400000,1.2668],[1624492800000,1.2521],[1624579200000,0.9116],[1624838400000,0.9154],[1624924800000,1.0791],[1625011200000,1.0233],[1625097600000,0.7385],[1625184000000,0.7436],[1625443200000,1.0347],[1625529600000,1.0391],[1625616000000,1.5855],[1625702400000,1.6178],[1625788800000,0.702],[1626048000000,0.6721],[1626134400000,1.012],[1626220800000,1.0353],[1626307200000,0.7331],[1626393600000,0.7832],[1626652800000,1.106],[1626739200000,1.0943],[1626825600000,0.6751],[1626912000000,0.698],[1626998400000,1.436],[1627257600000,1.3522],[1627344000000,0.9397],[1627430400000,0.9842],[1627516800000,0.6679],[1627603200000,0.6695],[1627862400000,0.6282],[1627948800000,0.7168],[1628035200000,0.7953],[1628121600000,0.8717],[1628208000000,0.9364],[1628467200000,0.9388],[1628553600000,0.8147],[1628640000000,0.8202],[1628726400000,1.1638],[1628812800000,1.2851],[1629072000000,0.7914],[1629158400000,0.7846],[1629244800000,0.8505],[1629331200000,0.8808],[1629417600000,0.9217],[1629676800000,0.8524],[1629763200000,1.2324],[1629849600000,1.1792],[1629936000000,1.2299],[1630022400000,1.1905],[1630281600000,1.0138],[1630368000000,1.056],[1630454400000,0.7368],[1630540800000,0.725],[1630627200000,1.1008],[1630886400000,1.128],[1630972800000,1.3854],[1631059200000,1.3465],[1631145600000,1.0709],[1631232000000,1.0095],[1631491200000,1.1991],[1631577600000,1.1749],[1631664000000,0.8713],[1631750400000,0.8551],[1631836800000,1.2731],[1632268800000,1.2843],[1632355200000,0.8696],[1632441600000,0.8033],[1632700800000,0.8956],[1632787200000,0.8929],[1632873600000,1.013],[1632960000000,1.0371],[1633651200000,1.2009],[1633910400000,1.186],[1633996800000,0.8793],[1634083200000,0.7883],[1634169600000,1.3455],[1634256000000,1.2525],[1634515200000,0.9805],[1634601600000,0.9605],[1634688000000,1.19],[1634774400000,1.2031],[1634860800000,0.9317],[1635120000000,0.9714]],\"color\":\"#648FD5\"},{\"name\":\"\\u56e0\\u5b503\",\"yAxis\":0,\"data\":[[1609718400000,null],[1609804800000,null],[1609891200000,0.9832],[1609977600000,1.0463],[1610064000000,0.8049],[1610323200000,0.7701],[1610409600000,1.116],[1610496000000,1.0657],[1610582400000,0.9989],[1610668800000,1.0052],[1610928000000,1.0848],[1611014400000,1.1201],[1611100800000,0.866],[1611187200000,0.904],[1611273600000,0.8961],[1611532800000,0.9963],[1611619200000,0.9022],[1611705600000,0.9402],[1611792000000,0.8296],[1611878400000,0.8833],[1612137600000,0.8867],[1612224000000,0.9481],[1612310400000,1.2303],[1612396800000,1.2376],[1612483200000,0.9114],[1612742400000,0.825],[1612828800000,1.0929],[1612915200000,0.982],[1613606400000,1.0588],[1613692800000,1.0722],[1613952000000,0.9041],[1614038400000,0.9071],[1614124800000,1.1191],[1614211200000,1.1126],[1614297600000,1.0689],[1614556800000,1.0844],[1614643200000,1.04],[1614729600000,1.0552],[1614816000000,0.9935],[1614902400000,0.9706],[1615161600000,1.1267],[1615248000000,1.2019],[1615334400000,0.8412],[1615420800000,0.8428],[1615507200000,1.1134],[1615766400000,1.0737],[1615852800000,0.7638],[1615939200000,0.7715],[1616025600000,0.8615],[1616112000000,0.877],[1616371200000,0.8575],[1616457600000,0.872],[1616544000000,1.0618],[1616630400000,1.0381],[1616716800000,1.3074],[1616976000000,1.3013],[1617062400000,0.9158],[1617148800000,0.9066],[1617235200000,0.8446],[1617321600000,0.8357],[1617667200000,1.2302],[1617753600000,1.2328],[1617840000000,1.059],[1617926400000,1.058],[1618185600000,1.106],[1618272000000,1.1365],[1618358400000,1.0364],[1618444800000,1.0309],[1618531200000,0.9932],[1618790400000,1.0143],[1618876800000,1.0309],[1618963200000,1.0276],[1619049600000,0.9724],[1619136000000,1.0058],[1619395200000,0.9768],[1619481600000,0.9734],[1619568000000,0.8699],[1619654400000,0.8635],[1619740800000,0.8559],[1620259200000,0.8658],[1620345600000,0.8718],[1620604800000,0.873],[1620691200000,0.8448],[1620777600000,0.8874],[1620864000000,1.3709],[1620950400000,1.4242],[1621209600000,0.9818],[1621296000000,0.9612],[1621382400000,1.2551],[1621468800000,1.2317],[1621555200000,0.8314],[1621814400000,0.8216],[1621900800000,0.8876],[1621987200000,0.872],[1622073600000,0.8383],[1622160000000,0.8301],[1622419200000,0.9737],[1622505600000,0.9899],[1622592000000,0.944],[1622678400000,0.9328],[1622764800000,0.9804],[1623024000000,0.9639],[1623110400000,1.0253],[1623196800000,1.025],[1623283200000,0.8849],[1623369600000,0.8762],[1623715200000,1.0049],[1623801600000,0.9989],[1623888000000,1.0852],[1623974400000,1.1282],[1624233600000,1.16],[1624320000000,1.1177],[1624406400000,0.7705],[1624492800000,0.7846],[1624579200000,1.0348],[1624838400000,1.0595],[1624924800000,1.0828],[1625011200000,1.1428],[1625097600000,1.1374],[1625184000000,1.2278],[1625443200000,1.0747],[1625529600000,1.1399],[1625616000000,0.942],[1625702400000,0.9191],[1625788800000,0.8947],[1626048000000,0.9172],[1626134400000,0.9928],[1626220800000,0.9937],[1626307200000,0.7348],[1626393600000,0.7408],[1626652800000,0.9959],[1626739200000,0.9934],[1626825600000,0.9734],[1626912000000,0.9935],[1626998400000,0.768],[1627257600000,0.7653],[1627344000000,0.9306],[1627430400000,0.9546],[1627516800000,0.9528],[1627603200000,0.9255],[1627862400000,1.0504],[1627948800000,1.1187],[1628035200000,1.4812],[1628121600000,1.4478],[1628208000000,0.8575],[1628467200000,0.869],[1628553600000,1.099],[1628640000000,1.0719],[1628726400000,0.7381],[1628812800000,0.7318],[1629072000000,0.9011],[1629158400000,0.8849],[1629244800000,0.9878],[1629331200000,0.9571],[1629417600000,1.1289],[1629676800000,1.0823],[1629763200000,0.9593],[1629849600000,0.9394],[1629936000000,0.8472],[1630022400000,0.8457],[1630281600000,1.221],[1630368000000,1.1997],[1630454400000,0.7453],[1630540800000,0.6986],[1630627200000,0.8031],[1630886400000,0.79],[1630972800000,1.1091],[1631059200000,1.0351],[1631145600000,0.8705],[1631232000000,0.8652],[1631491200000,0.9033],[1631577600000,0.9016],[1631664000000,1.1001],[1631750400000,1.1185],[1631836800000,0.9895],[1632268800000,0.9336],[1632355200000,0.926],[1632441600000,0.8913],[1632700800000,1.0193],[1632787200000,0.9744],[1632873600000,1.425],[1632960000000,1.4635],[1633651200000,1.109],[1633910400000,1.1645],[1633996800000,1.1398],[1634083200000,1.1439],[1634169600000,1.2388],[1634256000000,1.2608],[1634515200000,0.8221],[1634601600000,0.8048],[1634688000000,1.055],[1634774400000,1.0227],[1634860800000,0.8393],[1635120000000,0.8094]],\"color\":\"#E06681\"},{\"name\":\"\\u56e0\\u5b504\",\"yAxis\":0,\"data\":[[1609718400000,null],[1609804800000,null],[1609891200000,0.7565],[1609977600000,0.7527],[1610064000000,1.0472],[1610323200000,1.0519],[1610409600000,1.5785],[1610496000000,1.5085],[1610582400000,0.6988],[1610668800000,0.7136],[1610928000000,1.2441],[1611014400000,1.1664],[1611100800000,1.6862],[1611187200000,1.7063],[1611273600000,0.927],[1611532800000,0.9825],[1611619200000,1.355],[1611705600000,1.3747],[1611792000000,1.4016],[1611878400000,1.5566],[1612137600000,1.1684],[1612224000000,1.1784],[1612310400000,0.8078],[1612396800000,0.81],[1612483200000,0.9986],[1612742400000,1.0054],[1612828800000,0.7493],[1612915200000,0.769],[1613606400000,0.8893],[1613692800000,0.9219],[1613952000000,1.5835],[1614038400000,1.5119],[1614124800000,0.9585],[1614211200000,0.9119],[1614297600000,0.8928],[1614556800000,0.8973],[1614643200000,0.7708],[1614729600000,0.8013],[1614816000000,1.1868],[1614902400000,1.1818],[1615161600000,1.283],[1615248000000,1.2323],[1615334400000,0.7373],[1615420800000,0.7735],[1615507200000,2.0101],[1615766400000,1.938],[1615852800000,1.366],[1615939200000,1.3502],[1616025600000,0.7477],[1616112000000,0.7184],[1616371200000,1.0047],[1616457600000,0.947],[1616544000000,0.9786],[1616630400000,0.9416],[1616716800000,1.1678],[1616976000000,1.1149],[1617062400000,1.044],[1617148800000,1.0677],[1617235200000,0.7631],[1617321600000,0.7949],[1617667200000,1.238],[1617753600000,1.2399],[1617840000000,1.1747],[1617926400000,1.1514],[1618185600000,0.8523],[1618272000000,0.8365],[1618358400000,1.081],[1618444800000,1.0667],[1618531200000,0.791],[1618790400000,0.7984],[1618876800000,0.8518],[1618963200000,0.8762],[1619049600000,0.9934],[1619136000000,0.9798],[1619395200000,1.1145],[1619481600000,1.0843],[1619568000000,0.7741],[1619654400000,0.7533],[1619740800000,0.9217],[1620259200000,0.9922],[1620345600000,1.1361],[1620604800000,1.186],[1620691200000,0.6962],[1620777600000,0.6703],[1620864000000,0.837],[1620950400000,0.8124],[1621209600000,1.0987],[1621296000000,1.0361],[1621382400000,0.9931],[1621468800000,0.9473],[1621555200000,0.8077],[1621814400000,0.8127],[1621900800000,0.877],[1621987200000,0.8795],[1622073600000,1.1443],[1622160000000,1.1414],[1622419200000,0.7285],[1622505600000,0.7175],[1622592000000,1.3646],[1622678400000,1.3734],[1622764800000,1.4092],[1623024000000,1.4382],[1623110400000,0.9975],[1623196800000,0.9989],[1623283200000,0.857],[1623369600000,0.8397],[1623715200000,0.967],[1623801600000,1.0236],[1623888000000,1.2766],[1623974400000,1.3681],[1624233600000,1.0754],[1624320000000,1.0685],[1624406400000,0.8006],[1624492800000,0.7549],[1624579200000,1.1897],[1624838400000,1.1699],[1624924800000,1.3472],[1625011200000,1.2948],[1625097600000,1.0009],[1625184000000,1.0141],[1625443200000,1.0201],[1625529600000,1.0103],[1625616000000,1.0382],[1625702400000,1.1348],[1625788800000,0.9198],[1626048000000,0.9482],[1626134400000,0.986],[1626220800000,0.9891],[1626307200000,1.1578],[1626393600000,1.112],[1626652800000,1.2553],[1626739200000,1.2818],[1626825600000,0.8508],[1626912000000,0.8021],[1626998400000,0.9394],[1627257600000,0.952],[1627344000000,1.0106],[1627430400000,1.0737],[1627516800000,1.4196],[1627603200000,1.4023],[1627862400000,1.0315],[1627948800000,1.0929],[1628035200000,1.3378],[1628121600000,1.34],[1628208000000,1.3854],[1628467200000,1.2817],[1628553600000,1.0878],[1628640000000,1.106],[1628726400000,0.912],[1628812800000,0.9012],[1629072000000,0.7128],[1629158400000,0.717],[1629244800000,0.9635],[1629331200000,0.9232],[1629417600000,1.2402],[1629676800000,1.3073],[1629763200000,0.6584],[1629849600000,0.7007],[1629936000000,0.8917],[1630022400000,0.9464],[1630281600000,0.7649],[1630368000000,0.8065],[1630454400000,0.8696],[1630540800000,0.8691],[1630627200000,0.968],[1630886400000,0.9671],[1630972800000,0.8861],[1631059200000,0.8959],[1631145600000,0.8854],[1631232000000,0.9497],[1631491200000,0.8323],[1631577600000,0.8286],[1631664000000,0.6076],[1631750400000,0.6081],[1631836800000,0.8964],[1632268800000,0.8898],[1632355200000,0.8335],[1632441600000,0.8345],[1632700800000,0.8772],[1632787200000,0.8499],[1632873600000,0.8888],[1632960000000,0.8793],[1633651200000,1.1465],[1633910400000,1.2088],[1633996800000,1.0369],[1634083200000,1.004],[1634169600000,0.8008],[1634256000000,0.947],[1634515200000,0.8024],[1634601600000,0.8435],[1634688000000,0.7518],[1634774400000,0.7228],[1634860800000,0.7798],[1635120000000,0.808]],\"color\":\"#E2D269\"}],\"xAxis\":{\"title\":{\"text\":\"date\"},\"type\":\"datetime\"},\"plotOptions\":{\"series\":{\"compare\":\"percent\"}}}/bigcharts-data-end</pre></div><div id=\"bigchart-8ff2d3a216f34f1f98bb3bd09abbd4a8\" class=\"bigchart\"></div><div class=\"bigchart-data\"><pre style=\"display:none\">bigcharts-data-start/{\"chart\":{\"height\":500,\"renderTo\":\"bigchart-8ff2d3a216f34f1f98bb3bd09abbd4a8\"},\"legend\":{\"enabled\":true},\"title\":{\"text\":\"\\u56e0\\u5b50\\u62e5\\u6324\\u5ea6\\uff08\\u6700\\u5c0f\\/\\u6700\\u5927\\u5206\\u4f4d\\uff09\\u5bf9\\u6bd4\"},\"stock\":true,\"series\":[{\"name\":\"\\u56e0\\u5b501\",\"yAxis\":0,\"data\":[[1609718400000,null],[1609804800000,null],[1609891200000,1.3181],[1609977600000,1.478],[1610064000000,0.8728],[1610323200000,0.8666],[1610409600000,0.8243],[1610496000000,0.8646],[1610582400000,1.2235],[1610668800000,1.2212],[1610928000000,0.955],[1611014400000,0.9736],[1611100800000,1.2597],[1611187200000,1.2146],[1611273600000,0.8568],[1611532800000,0.978],[1611619200000,1.0276],[1611705600000,0.9174],[1611792000000,0.915],[1611878400000,0.8939],[1612137600000,0.8652],[1612224000000,0.9143],[1612310400000,0.9501],[1612396800000,0.8743],[1612483200000,1.0232],[1612742400000,0.9922],[1612828800000,0.7567],[1612915200000,0.7026],[1613606400000,0.9948],[1613692800000,0.8776],[1613952000000,1.193],[1614038400000,1.428],[1614124800000,1.16],[1614211200000,1.317],[1614297600000,1.0882],[1614556800000,1.0472],[1614643200000,0.8936],[1614729600000,0.9098],[1614816000000,1.561],[1614902400000,1.5173],[1615161600000,1.1989],[1615248000000,1.2085],[1615334400000,1.0882],[1615420800000,1.058],[1615507200000,1.0654],[1615766400000,1.0919],[1615852800000,1.1615],[1615939200000,1.0621],[1616025600000,1.0368],[1616112000000,1.0621],[1616371200000,1.0011],[1616457600000,0.9226],[1616544000000,1.0522],[1616630400000,1.2837],[1616716800000,0.7677],[1616976000000,0.7707],[1617062400000,0.9965],[1617148800000,1.2394],[1617235200000,1.1512],[1617321600000,1.1612],[1617667200000,1.1039],[1617753600000,0.9137],[1617840000000,1.1171],[1617926400000,1.1687],[1618185600000,0.8769],[1618272000000,1.1051],[1618358400000,0.9392],[1618444800000,0.8969],[1618531200000,0.7797],[1618790400000,0.6644],[1618876800000,1.0761],[1618963200000,1.2836],[1619049600000,1.2345],[1619136000000,1.3257],[1619395200000,1.1784],[1619481600000,1.2886],[1619568000000,1.1804],[1619654400000,0.9937],[1619740800000,1.3131],[1620259200000,1.5278],[1620345600000,1.1086],[1620604800000,1.1623],[1620691200000,1.2085],[1620777600000,1.2493],[1620864000000,1.1353],[1620950400000,1.2503],[1621209600000,1.5663],[1621296000000,1.7441],[1621382400000,1.4062],[1621468800000,1.3809],[1621555200000,1.3997],[1621814400000,1.6663],[1621900800000,1.7492],[1621987200000,1.7216],[1622073600000,1.4339],[1622160000000,1.2132],[1622419200000,1.0586],[1622505600000,1.0896],[1622592000000,1.2657],[1622678400000,1.2456],[1622764800000,1.4976],[1623024000000,1.5975],[1623110400000,0.8526],[1623196800000,0.8077],[1623283200000,0.6953],[1623369600000,0.6262],[1623715200000,0.7836],[1623801600000,0.7623],[1623888000000,1.173],[1623974400000,1.1814],[1624233600000,1.4348],[1624320000000,1.4957],[1624406400000,1.2384],[1624492800000,1.1688],[1624579200000,1.1312],[1624838400000,0.9469],[1624924800000,0.8289],[1625011200000,0.9277],[1625097600000,0.858],[1625184000000,0.8845],[1625443200000,0.9417],[1625529600000,0.944],[1625616000000,1.6883],[1625702400000,1.5954],[1625788800000,1.0127],[1626048000000,0.8102],[1626134400000,1.33],[1626220800000,1.2248],[1626307200000,0.5913],[1626393600000,0.5229],[1626652800000,0.9564],[1626739200000,0.8042],[1626825600000,1.1299],[1626912000000,1.0437],[1626998400000,1.0958],[1627257600000,1.1753],[1627344000000,1.1171],[1627430400000,1.1401],[1627516800000,1.0496],[1627603200000,1.0625],[1627862400000,1.1736],[1627948800000,1.0429],[1628035200000,1.1758],[1628121600000,1.1328],[1628208000000,1.2798],[1628467200000,1.2395],[1628553600000,1.4497],[1628640000000,1.3073],[1628726400000,0.8966],[1628812800000,0.8617],[1629072000000,1.5523],[1629158400000,1.5274],[1629244800000,0.9459],[1629331200000,1.1097],[1629417600000,1.1655],[1629676800000,1.1893],[1629763200000,0.9986],[1629849600000,0.7949],[1629936000000,0.9458],[1630022400000,0.8768],[1630281600000,1.0373],[1630368000000,0.9805],[1630454400000,1.3981],[1630540800000,1.2325],[1630627200000,0.8739],[1630886400000,0.8749],[1630972800000,1.0145],[1631059200000,0.9573],[1631145600000,1.6159],[1631232000000,1.5127],[1631491200000,1.0485],[1631577600000,1.1329],[1631664000000,0.8017],[1631750400000,0.7845],[1631836800000,1.1543],[1632268800000,1.1865],[1632355200000,1.0068],[1632441600000,0.907],[1632700800000,1.0309],[1632787200000,1.0342],[1632873600000,0.9809],[1632960000000,1.0689],[1633651200000,0.8844],[1633910400000,0.9605],[1633996800000,0.8163],[1634083200000,0.8708],[1634169600000,0.9273],[1634256000000,0.8226],[1634515200000,1.3967],[1634601600000,1.1215],[1634688000000,1.593],[1634774400000,1.5971],[1634860800000,1.1566],[1635120000000,1.1347]],\"color\":\"#F08B55\"},{\"name\":\"\\u56e0\\u5b502\",\"yAxis\":0,\"data\":[[1609718400000,null],[1609804800000,null],[1609891200000,0.9784],[1609977600000,0.962],[1610064000000,0.9041],[1610323200000,1.0335],[1610409600000,0.6156],[1610496000000,0.6567],[1610582400000,1.3277],[1610668800000,1.1837],[1610928000000,0.9661],[1611014400000,1.1582],[1611100800000,1.0278],[1611187200000,1.2099],[1611273600000,0.9069],[1611532800000,0.9529],[1611619200000,0.8821],[1611705600000,0.8224],[1611792000000,1.0308],[1611878400000,1.2089],[1612137600000,0.8263],[1612224000000,0.7499],[1612310400000,0.9799],[1612396800000,1.1412],[1612483200000,0.9942],[1612742400000,0.9406],[1612828800000,1.0539],[1612915200000,1.0787],[1613606400000,1.0756],[1613692800000,1.0055],[1613952000000,0.8435],[1614038400000,0.7867],[1614124800000,1.0471],[1614211200000,1.095],[1614297600000,0.8687],[1614556800000,0.8899],[1614643200000,0.8424],[1614729600000,0.884],[1614816000000,1.151],[1614902400000,1.2344],[1615161600000,1.1408],[1615248000000,1.2245],[1615334400000,1.1992],[1615420800000,1.1588],[1615507200000,1.1992],[1615766400000,1.1453],[1615852800000,1.3493],[1615939200000,1.3201],[1616025600000,1.0594],[1616112000000,1.1572],[1616371200000,1.547],[1616457600000,1.3377],[1616544000000,1.0756],[1616630400000,1.1454],[1616716800000,1.0657],[1616976000000,1.1744],[1617062400000,0.9271],[1617148800000,0.9482],[1617235200000,1.0434],[1617321600000,1.2505],[1617667200000,1.1347],[1617753600000,1.1569],[1617840000000,0.8604],[1617926400000,0.8814],[1618185600000,1.764],[1618272000000,1.4085],[1618358400000,1.0992],[1618444800000,1.1247],[1618531200000,1.1438],[1618790400000,1.2448],[1618876800000,1.3584],[1618963200000,1.4045],[1619049600000,0.8645],[1619136000000,0.9557],[1619395200000,1.2386],[1619481600000,1.1805],[1619568000000,0.9504],[1619654400000,0.9782],[1619740800000,0.7796],[1620259200000,0.8043],[1620345600000,0.6837],[1620604800000,0.7806],[1620691200000,1.0275],[1620777600000,0.9642],[1620864000000,1.5309],[1620950400000,1.4962],[1621209600000,0.9402],[1621296000000,1.1037],[1621382400000,0.995],[1621468800000,1.0715],[1621555200000,1.306],[1621814400000,1.5101],[1621900800000,0.8169],[1621987200000,0.9133],[1622073600000,1.308],[1622160000000,1.0864],[1622419200000,0.7914],[1622505600000,0.9017],[1622592000000,1.1645],[1622678400000,1.2053],[1622764800000,1.2283],[1623024000000,1.1977],[1623110400000,0.9656],[1623196800000,1.047],[1623283200000,1.0977],[1623369600000,1.2764],[1623715200000,1.2937],[1623801600000,1.0753],[1623888000000,1.1259],[1623974400000,1.1758],[1624233600000,0.9244],[1624320000000,0.9785],[1624406400000,1.0537],[1624492800000,0.9901],[1624579200000,1.1859],[1624838400000,1.1364],[1624924800000,1.1762],[1625011200000,1.1757],[1625097600000,0.9476],[1625184000000,0.9497],[1625443200000,0.8488],[1625529600000,0.9494],[1625616000000,0.9012],[1625702400000,1.1664],[1625788800000,1.2091],[1626048000000,1.0391],[1626134400000,1.0584],[1626220800000,0.9855],[1626307200000,0.9581],[1626393600000,0.9567],[1626652800000,0.9375],[1626739200000,0.8901],[1626825600000,1.4897],[1626912000000,1.4053],[1626998400000,1.0355],[1627257600000,1.0927],[1627344000000,0.9965],[1627430400000,0.9984],[1627516800000,0.9876],[1627603200000,0.9942],[1627862400000,1.018],[1627948800000,1.1776],[1628035200000,0.9822],[1628121600000,1.0781],[1628208000000,1.585],[1628467200000,1.6144],[1628553600000,0.8766],[1628640000000,1.1555],[1628726400000,0.9041],[1628812800000,0.9675],[1629072000000,1.0195],[1629158400000,0.977],[1629244800000,1.1031],[1629331200000,1.0613],[1629417600000,0.744],[1629676800000,0.814],[1629763200000,0.8284],[1629849600000,0.8324],[1629936000000,1.1014],[1630022400000,1.0288],[1630281600000,0.8216],[1630368000000,0.7844],[1630454400000,1.0857],[1630540800000,1.2217],[1630627200000,1.352],[1630886400000,1.3159],[1630972800000,0.9261],[1631059200000,0.9075],[1631145600000,0.7716],[1631232000000,0.896],[1631491200000,1.2222],[1631577600000,1.2884],[1631664000000,1.0212],[1631750400000,0.9765],[1631836800000,1.0176],[1632268800000,0.937],[1632355200000,1.056],[1632441600000,1.1414],[1632700800000,0.8608],[1632787200000,0.8164],[1632873600000,0.9811],[1632960000000,0.9905],[1633651200000,0.9819],[1633910400000,1.0601],[1633996800000,1.0072],[1634083200000,0.853],[1634169600000,0.8671],[1634256000000,0.8492],[1634515200000,1.184],[1634601600000,1.1808],[1634688000000,1.0068],[1634774400000,1.0224],[1634860800000,1.0335],[1635120000000,1.0172]],\"color\":\"#648FD5\"},{\"name\":\"\\u56e0\\u5b503\",\"yAxis\":0,\"data\":[[1609718400000,null],[1609804800000,null],[1609891200000,1.5596],[1609977600000,1.5857],[1610064000000,1.0194],[1610323200000,0.7461],[1610409600000,1.5282],[1610496000000,1.402],[1610582400000,0.939],[1610668800000,0.8632],[1610928000000,0.9805],[1611014400000,0.8002],[1611100800000,1.4464],[1611187200000,1.2099],[1611273600000,1.2123],[1611532800000,1.2978],[1611619200000,1.0694],[1611705600000,1.1887],[1611792000000,1.5327],[1611878400000,1.4531],[1612137600000,0.9143],[1612224000000,0.6695],[1612310400000,1.123],[1612396800000,1.066],[1612483200000,0.7533],[1612742400000,0.7458],[1612828800000,0.8437],[1612915200000,0.7791],[1613606400000,0.9577],[1613692800000,0.9036],[1613952000000,1.186],[1614038400000,1.2076],[1614124800000,1.4939],[1614211200000,1.441],[1614297600000,1.0253],[1614556800000,0.932],[1614643200000,1.3717],[1614729600000,1.4117],[1614816000000,1.0695],[1614902400000,1.008],[1615161600000,1.061],[1615248000000,0.9786],[1615334400000,0.9096],[1615420800000,0.9114],[1615507200000,1.3652],[1615766400000,1.1021],[1615852800000,1.0752],[1615939200000,0.9399],[1616025600000,1.0324],[1616112000000,1.0144],[1616371200000,1.1423],[1616457600000,0.8815],[1616544000000,1.0364],[1616630400000,1.0682],[1616716800000,1.3449],[1616976000000,1.1528],[1617062400000,0.9168],[1617148800000,0.9574],[1617235200000,0.9818],[1617321600000,0.9316],[1617667200000,1.0855],[1617753600000,1.0232],[1617840000000,1.7035],[1617926400000,1.592],[1618185600000,1.7534],[1618272000000,1.2317],[1618358400000,1.0075],[1618444800000,1.108],[1618531200000,1.2557],[1618790400000,1.076],[1618876800000,0.9116],[1618963200000,0.9382],[1619049600000,1.657],[1619136000000,1.3276],[1619395200000,1.1442],[1619481600000,1.1624],[1619568000000,1.1564],[1619654400000,1.1171],[1619740800000,1.385],[1620259200000,1.1336],[1620345600000,0.9148],[1620604800000,1.1338],[1620691200000,0.7845],[1620777600000,0.6588],[1620864000000,1.2148],[1620950400000,1.1353],[1621209600000,0.9026],[1621296000000,0.7416],[1621382400000,2.197],[1621468800000,1.8782],[1621555200000,1.1334],[1621814400000,0.9038],[1621900800000,1.0459],[1621987200000,1.0209],[1622073600000,1.7403],[1622160000000,1.3119],[1622419200000,1.2034],[1622505600000,1.1398],[1622592000000,0.9621],[1622678400000,0.9812],[1622764800000,0.9979],[1623024000000,0.7836],[1623110400000,1.011],[1623196800000,1.0721],[1623283200000,0.9072],[1623369600000,0.8082],[1623715200000,0.8882],[1623801600000,0.7737],[1623888000000,1.3294],[1623974400000,1.3328],[1624233600000,1.0065],[1624320000000,0.8859],[1624406400000,0.8563],[1624492800000,0.8249],[1624579200000,1.0601],[1624838400000,0.9461],[1624924800000,1.1846],[1625011200000,1.1044],[1625097600000,1.5455],[1625184000000,1.5474],[1625443200000,1.0198],[1625529600000,1.013],[1625616000000,1.3964],[1625702400000,1.5027],[1625788800000,1.0293],[1626048000000,0.9323],[1626134400000,1.0061],[1626220800000,0.8979],[1626307200000,0.9718],[1626393600000,0.8661],[1626652800000,1.2383],[1626739200000,0.9938],[1626825600000,1.503],[1626912000000,1.3532],[1626998400000,1.0179],[1627257600000,0.9631],[1627344000000,0.8051],[1627430400000,0.7908],[1627516800000,0.7352],[1627603200000,0.6601],[1627862400000,1.1602],[1627948800000,1.1727],[1628035200000,1.5388],[1628121600000,1.5257],[1628208000000,1.4835],[1628467200000,1.3732],[1628553600000,1.0903],[1628640000000,0.853],[1628726400000,1.1053],[1628812800000,0.9278],[1629072000000,0.9008],[1629158400000,0.9896],[1629244800000,0.8184],[1629331200000,0.9032],[1629417600000,1.5663],[1629676800000,1.422],[1629763200000,1.1753],[1629849600000,0.9254],[1629936000000,1.1122],[1630022400000,1.0228],[1630281600000,1.5702],[1630368000000,1.4396],[1630454400000,1.0024],[1630540800000,0.9442],[1630627200000,1.6129],[1630886400000,1.6028],[1630972800000,0.9869],[1631059200000,0.712],[1631145600000,1.6065],[1631232000000,1.3733],[1631491200000,1.1212],[1631577600000,0.9906],[1631664000000,0.9625],[1631750400000,0.9982],[1631836800000,1.1078],[1632268800000,0.8719],[1632355200000,1.536],[1632441600000,1.1876],[1632700800000,1.4267],[1632787200000,1.1734],[1632873600000,1.2036],[1632960000000,1.3026],[1633651200000,1.6556],[1633910400000,1.617],[1633996800000,0.9279],[1634083200000,1.0686],[1634169600000,1.4207],[1634256000000,1.0941],[1634515200000,1.055],[1634601600000,0.9735],[1634688000000,1.2779],[1634774400000,1.2428],[1634860800000,0.9689],[1635120000000,0.8356]],\"color\":\"#E06681\"},{\"name\":\"\\u56e0\\u5b504\",\"yAxis\":0,\"data\":[[1609718400000,null],[1609804800000,null],[1609891200000,0.6493],[1609977600000,0.7031],[1610064000000,1.1189],[1610323200000,1.086],[1610409600000,1.0396],[1610496000000,1.0074],[1610582400000,0.783],[1610668800000,0.7945],[1610928000000,0.7888],[1611014400000,0.7392],[1611100800000,1.1216],[1611187200000,1.2666],[1611273600000,1.1214],[1611532800000,1.2002],[1611619200000,0.8203],[1611705600000,0.8688],[1611792000000,1.1892],[1611878400000,1.0325],[1612137600000,1.2081],[1612224000000,1.0826],[1612310400000,0.8789],[1612396800000,0.8785],[1612483200000,0.7924],[1612742400000,0.9305],[1612828800000,1.1303],[1612915200000,1.0338],[1613606400000,1.0876],[1613692800000,1.098],[1613952000000,1.1689],[1614038400000,1.3488],[1614124800000,1.0095],[1614211200000,0.9856],[1614297600000,0.8349],[1614556800000,1.0583],[1614643200000,1.2108],[1614729600000,1.0514],[1614816000000,0.9858],[1614902400000,1.0946],[1615161600000,0.9411],[1615248000000,0.9744],[1615334400000,0.9035],[1615420800000,0.9836],[1615507200000,1.0249],[1615766400000,0.9412],[1615852800000,1.256],[1615939200000,1.1456],[1616025600000,1.0659],[1616112000000,1.0938],[1616371200000,1.0428],[1616457600000,1.0608],[1616544000000,1.047],[1616630400000,1.1278],[1616716800000,1.0093],[1616976000000,0.9216],[1617062400000,1.0685],[1617148800000,1.032],[1617235200000,0.8326],[1617321600000,0.8289],[1617667200000,1.4921],[1617753600000,1.6222],[1617840000000,0.8021],[1617926400000,0.9074],[1618185600000,0.9746],[1618272000000,1.0067],[1618358400000,1.0048],[1618444800000,0.9827],[1618531200000,1.146],[1618790400000,1.1862],[1618876800000,1.2384],[1618963200000,1.2738],[1619049600000,0.9138],[1619136000000,0.8257],[1619395200000,1.278],[1619481600000,1.1842],[1619568000000,1.1236],[1619654400000,1.0304],[1619740800000,0.8816],[1620259200000,1.0389],[1620345600000,1.1614],[1620604800000,1.2037],[1620691200000,0.695],[1620777600000,0.7034],[1620864000000,1.161],[1620950400000,1.1939],[1621209600000,1.2803],[1621296000000,1.2389],[1621382400000,1.1665],[1621468800000,1.1738],[1621555200000,0.8501],[1621814400000,0.8648],[1621900800000,0.9805],[1621987200000,0.9223],[1622073600000,0.9946],[1622160000000,1.0055],[1622419200000,0.8254],[1622505600000,0.9199],[1622592000000,1.177],[1622678400000,1.0905],[1622764800000,0.8101],[1623024000000,0.8794],[1623110400000,1.1191],[1623196800000,1.1457],[1623283200000,1.3647],[1623369600000,1.2803],[1623715200000,1.2218],[1623801600000,1.0151],[1623888000000,1.4286],[1623974400000,1.5189],[1624233600000,0.996],[1624320000000,0.9547],[1624406400000,1.2152],[1624492800000,1.1139],[1624579200000,1.0579],[1624838400000,1.0114],[1624924800000,0.8482],[1625011200000,0.801],[1625097600000,0.769],[1625184000000,0.7437],[1625443200000,0.9135],[1625529600000,0.9451],[1625616000000,1.0856],[1625702400000,1.1521],[1625788800000,1.1135],[1626048000000,1.4244],[1626134400000,0.8831],[1626220800000,0.8227],[1626307200000,1.0645],[1626393600000,1.1698],[1626652800000,1.0846],[1626739200000,1.14],[1626825600000,0.964],[1626912000000,0.8588],[1626998400000,1.3395],[1627257600000,1.384],[1627344000000,1.1412],[1627430400000,1.1224],[1627516800000,0.9471],[1627603200000,0.886],[1627862400000,1.2851],[1627948800000,1.3022],[1628035200000,1.1652],[1628121600000,1.0254],[1628208000000,0.7517],[1628467200000,0.7275],[1628553600000,0.8952],[1628640000000,1.0777],[1628726400000,0.9298],[1628812800000,1.0175],[1629072000000,0.7156],[1629158400000,0.8823],[1629244800000,0.7456],[1629331200000,0.8363],[1629417600000,1.0499],[1629676800000,0.9338],[1629763200000,0.95],[1629849600000,1.051],[1629936000000,1.0131],[1630022400000,1.1842],[1630281600000,1.0338],[1630368000000,1.1264],[1630454400000,0.9967],[1630540800000,1.1383],[1630627200000,0.8602],[1630886400000,0.7784],[1630972800000,0.9449],[1631059200000,0.9603],[1631145600000,0.8159],[1631232000000,0.7398],[1631491200000,0.8884],[1631577600000,1.0369],[1631664000000,0.9051],[1631750400000,0.8624],[1631836800000,0.8153],[1632268800000,1.0413],[1632355200000,0.9481],[1632441600000,0.8207],[1632700800000,0.9377],[1632787200000,0.8344],[1632873600000,1.0379],[1632960000000,1.189],[1633651200000,0.791],[1633910400000,0.773],[1633996800000,1.022],[1634083200000,1.2085],[1634169600000,0.9857],[1634256000000,0.9079],[1634515200000,0.9111],[1634601600000,1.0037],[1634688000000,0.8871],[1634774400000,0.8579],[1634860800000,0.8438],[1635120000000,0.9312]],\"color\":\"#E2D269\"}],\"xAxis\":{\"title\":{\"text\":\"date\"},\"type\":\"datetime\"},\"plotOptions\":{\"series\":{\"compare\":\"percent\"}}}/bigcharts-data-end</pre></div></div></div><div class='tab-pane' id='因子1'><div class=\"factorlens-container\">\n",
       "            <div style=\"display:flex\">\n",
       "                <div style=\"flex:1\">\n",
       "                    \n",
       "                    <h2 class=\"factorlens-title\">因子分析: -1 * correlation(sum((close_0 * volume_0), 2) / sum(volume_0, 2), volume_0, 2)</h2>\n",
       "                    \n",
       "                </div>\n",
       "                <div style=\"width:180px;\">\n",
       "                    \n",
       "                    <code style=\"display:none\" class=\"bq-template-label-inject\">\n",
       "                    {\n",
       "                        \"type\": \"factor-track\",\n",
       "                        \"data\": {\n",
       "                            \"exprs\": [\"-1 * correlation(sum((close_0 * volume_0), 2) / sum(volume_0, 2), volume_0, 2)\"],\n",
       "                            \"options\": {\"BacktestInterval\": [\"2021-01-01\", \"2021-12-31\"], \"Benchmark\": \"none\", \"StockPool\": \"in_csi500_0\", \"UserDataMerge\": \"left\", \"DropSTStocks\": 1, \"DropPriceLimitStocks\": 1, \"DropNewStocks\": 60, \"DropSuspendedStocks\": 1, \"QuantileCount\": 5, \"CommissionRates\": 0.0016, \"Normalization\": 0, \"Neutralization\": \"industry,size\", \"DelayRebalanceDays\": 0, \"RebalancePeriod\": 2, \"RebalancePeriodsReturns\": 0, \"RebalancePrice\": \"close_0\", \"ReturnsCalculationMethod\": \"cumprod\", \"FactorCoverage\": 0.5, \"_HASH\": \"427c36e0d1fb6c659ba1ca9111dc079b\"}\n",
       "                        }\n",
       "                    }\n",
       "                    </code>\n",
       "                    \n",
       "                </div>\n",
       "            </div>\n",
       "            <div class=\"type_title_left\"><p>因子表现概览<i class=\"fa fa-question-circle-o\" title=\"按因子值升序排列将股票分组，1分位组对应最小因子分组。多空组合表示做多最小分位组，做空最大分位组。\"></i></p></div><table class=\"factor_table\">\n",
       "            <thead>\n",
       "                <tr>\n",
       "                    <th>&nbsp;</th>\n",
       "                    <th>累计收益</th>\n",
       "                    <th>近1年收益</th>\n",
       "                    <th>近3月收益</th>\n",
       "                    <th>近1月收益</th>\n",
       "                    <th>近1周收益</th>\n",
       "                    <th>昨日收益</th>\n",
       "                    <th>最大回撤</th>\n",
       "                    <th>盈亏比</th>\n",
       "                    <th>胜率</th>\n",
       "                    <th>夏普比率</th>\n",
       "                    <th>收益波动率</th>\n",
       "                </tr>\n",
       "            </thead>\n",
       "            <tbody>\n",
       "                \n",
       "                    <tr>\n",
       "                    <th>最小分位</th>\n",
       "                        \n",
       "                            <td><span class=\"pct down\">-22.86%</span></td>\n",
       "                        \n",
       "                            <td><span class=\"pct down\">-22.86%</span></td>\n",
       "                        \n",
       "                            <td><span class=\"pct down\">-7.79%</span></td>\n",
       "                        \n",
       "                            <td><span class=\"pct down\">-6.24%</span></td>\n",
       "                        \n",
       "                            <td><span class=\"pct down\">-0.28%</span></td>\n",
       "                        \n",
       "                            <td><span class=\"pct up\">0.46%</span></td>\n",
       "                        \n",
       "                            <td>23.22%</td>\n",
       "                        \n",
       "                            <td>0.84</td>\n",
       "                        \n",
       "                            <td>0.45</td>\n",
       "                        \n",
       "                            <td><span class=\"pct down\">-2.52</span></td>\n",
       "                        \n",
       "                            <td>14.37%</td>\n",
       "                        \n",
       "                    </tr>\n",
       "                \n",
       "                    <tr>\n",
       "                    <th>最大分位</th>\n",
       "                        \n",
       "                            <td><span class=\"pct down\">-15.45%</span></td>\n",
       "                        \n",
       "                            <td><span class=\"pct down\">-15.45%</span></td>\n",
       "                        \n",
       "                            <td><span class=\"pct down\">-5.42%</span></td>\n",
       "                        \n",
       "                            <td><span class=\"pct down\">-8.33%</span></td>\n",
       "                        \n",
       "                            <td><span class=\"pct down\">-0.57%</span></td>\n",
       "                        \n",
       "                            <td><span class=\"pct up\">0.12%</span></td>\n",
       "                        \n",
       "                            <td>15.55%</td>\n",
       "                        \n",
       "                            <td>0.75</td>\n",
       "                        \n",
       "                            <td>0.52</td>\n",
       "                        \n",
       "                            <td><span class=\"pct down\">-1.64</span></td>\n",
       "                        \n",
       "                            <td>14.72%</td>\n",
       "                        \n",
       "                    </tr>\n",
       "                \n",
       "                    <tr>\n",
       "                    <th>多空组合</th>\n",
       "                        \n",
       "                            <td><span class=\"pct down\">-4.56%</span></td>\n",
       "                        \n",
       "                            <td><span class=\"pct down\">-4.56%</span></td>\n",
       "                        \n",
       "                            <td><span class=\"pct down\">-1.28%</span></td>\n",
       "                        \n",
       "                            <td><span class=\"pct up\">1.13%</span></td>\n",
       "                        \n",
       "                            <td><span class=\"pct up\">0.15%</span></td>\n",
       "                        \n",
       "                            <td><span class=\"pct up\">0.17%</span></td>\n",
       "                        \n",
       "                            <td>7.52%</td>\n",
       "                        \n",
       "                            <td>0.88</td>\n",
       "                        \n",
       "                            <td>0.47</td>\n",
       "                        \n",
       "                            <td><span class=\"pct down\">-2.43</span></td>\n",
       "                        \n",
       "                            <td>3.90%</td>\n",
       "                        \n",
       "                    </tr>\n",
       "                \n",
       "            </tbody>\n",
       "        </table><div id=\"bigchart-01c761b6c73640ef832eefad8d869d25\" class=\"bigchart\"></div><div class=\"bigchart-data\"><pre style=\"display:none\">bigcharts-data-start/{\"chart\":{\"height\":500,\"renderTo\":\"bigchart-01c761b6c73640ef832eefad8d869d25\"},\"legend\":{\"enabled\":true},\"stock\":true,\"series\":[{\"name\":\"1\\u5206\\u4f4d\\u6570\",\"yAxis\":0,\"data\":[[1609718400000,1.0],[1609804800000,1.0],[1609891200000,0.9937],[1609977600000,0.9878],[1610064000000,0.9938],[1610323200000,0.9775],[1610409600000,0.9861],[1610496000000,0.9798],[1610582400000,0.9738],[1610668800000,0.9674],[1610928000000,0.9764],[1611014400000,0.9728],[1611100800000,0.9779],[1611187200000,0.985],[1611273600000,0.9714],[1611532800000,0.9576],[1611619200000,0.9489],[1611705600000,0.945],[1611792000000,0.93],[1611878400000,0.9149],[1612137600000,0.9205],[1612224000000,0.9176],[1612310400000,0.9056],[1612396800000,0.8885],[1612483200000,0.8804],[1612742400000,0.8833],[1612828800000,0.8966],[1612915200000,0.8987],[1613606400000,0.9179],[1613692800000,0.9375],[1613952000000,0.9438],[1614038400000,0.9428],[1614124800000,0.9377],[1614211200000,0.9318],[1614297600000,0.9174],[1614556800000,0.9342],[1614643200000,0.9315],[1614729600000,0.9388],[1614816000000,0.9239],[1614902400000,0.9222],[1615161600000,0.9059],[1615248000000,0.8846],[1615334400000,0.8746],[1615420800000,0.888],[1615507200000,0.8942],[1615766400000,0.8843],[1615852800000,0.8933],[1615939200000,0.8932],[1616025600000,0.8945],[1616112000000,0.885],[1616371200000,0.899],[1616457600000,0.886],[1616544000000,0.8801],[1616630400000,0.8779],[1616716800000,0.8859],[1616976000000,0.8818],[1617062400000,0.8758],[1617148800000,0.8758],[1617235200000,0.8829],[1617321600000,0.8813],[1617667200000,0.8859],[1617753600000,0.886],[1617840000000,0.8852],[1617926400000,0.8798],[1618185600000,0.8621],[1618272000000,0.8558],[1618358400000,0.862],[1618444800000,0.856],[1618531200000,0.8673],[1618790400000,0.8714],[1618876800000,0.8697],[1618963200000,0.8711],[1619049600000,0.8745],[1619136000000,0.8728],[1619395200000,0.8659],[1619481600000,0.8588],[1619568000000,0.8628],[1619654400000,0.8617],[1619740800000,0.8545],[1620259200000,0.8642],[1620345600000,0.8564],[1620604800000,0.8559],[1620691200000,0.8534],[1620777600000,0.8572],[1620864000000,0.8567],[1620950400000,0.8699],[1621209600000,0.8702],[1621296000000,0.8729],[1621382400000,0.8705],[1621468800000,0.863],[1621555200000,0.8613],[1621814400000,0.8654],[1621900800000,0.8744],[1621987200000,0.8757],[1622073600000,0.8816],[1622160000000,0.8791],[1622419200000,0.887],[1622505600000,0.8903],[1622592000000,0.8831],[1622678400000,0.8791],[1622764800000,0.8804],[1623024000000,0.8821],[1623110400000,0.8805],[1623196800000,0.8794],[1623283200000,0.882],[1623369600000,0.8728],[1623715200000,0.8626],[1623801600000,0.8512],[1623888000000,0.8565],[1623974400000,0.8555],[1624233600000,0.8597],[1624320000000,0.8612],[1624406400000,0.8647],[1624492800000,0.8563],[1624579200000,0.8594],[1624838400000,0.8575],[1624924800000,0.85],[1625011200000,0.8509],[1625097600000,0.841],[1625184000000,0.8313],[1625443200000,0.8285],[1625529600000,0.8279],[1625616000000,0.8323],[1625702400000,0.829],[1625788800000,0.8332],[1626048000000,0.8415],[1626134400000,0.8455],[1626220800000,0.8365],[1626307200000,0.8343],[1626393600000,0.8317],[1626652800000,0.824],[1626739200000,0.8234],[1626825600000,0.8318],[1626912000000,0.8259],[1626998400000,0.8161],[1627257600000,0.8022],[1627344000000,0.7868],[1627430400000,0.7779],[1627516800000,0.785],[1627603200000,0.786],[1627862400000,0.7988],[1627948800000,0.7957],[1628035200000,0.7984],[1628121600000,0.7935],[1628208000000,0.7906],[1628467200000,0.7982],[1628553600000,0.8032],[1628640000000,0.8064],[1628726400000,0.8028],[1628812800000,0.7982],[1629072000000,0.7982],[1629158400000,0.7803],[1629244800000,0.7847],[1629331200000,0.7825],[1629417600000,0.778],[1629676800000,0.789],[1629763200000,0.7924],[1629849600000,0.7938],[1629936000000,0.7877],[1630022400000,0.7895],[1630281600000,0.7941],[1630368000000,0.7963],[1630454400000,0.7942],[1630540800000,0.7999],[1630627200000,0.7998],[1630886400000,0.8082],[1630972800000,0.819],[1631059200000,0.8302],[1631145600000,0.8408],[1631232000000,0.8345],[1631491200000,0.8385],[1631577600000,0.8227],[1631664000000,0.8222],[1631750400000,0.8087],[1631836800000,0.8016],[1632268800000,0.8067],[1632355200000,0.8163],[1632441600000,0.8057],[1632700800000,0.7878],[1632787200000,0.7908],[1632873600000,0.7747],[1632960000000,0.7796],[1633651200000,0.7825],[1633910400000,0.7831],[1633996800000,0.7716],[1634083200000,0.7732],[1634169600000,0.7729],[1634256000000,0.7703],[1634515200000,0.7735],[1634601600000,0.7764],[1634688000000,0.7776],[1634774400000,0.7746],[1634860800000,0.7678],[1635120000000,0.7714]],\"color\":\"#F08B55\"},{\"name\":\"2\\u5206\\u4f4d\\u6570\",\"yAxis\":0,\"data\":[[1609718400000,1.0],[1609804800000,1.0],[1609891200000,0.9996],[1609977600000,0.9808],[1610064000000,0.9757],[1610323200000,0.9503],[1610409600000,0.9593],[1610496000000,0.9528],[1610582400000,0.9532],[1610668800000,0.9485],[1610928000000,0.9606],[1611014400000,0.9485],[1611100800000,0.9459],[1611187200000,0.9488],[1611273600000,0.947],[1611532800000,0.9401],[1611619200000,0.9297],[1611705600000,0.9301],[1611792000000,0.9095],[1611878400000,0.8976],[1612137600000,0.902],[1612224000000,0.9045],[1612310400000,0.8932],[1612396800000,0.8799],[1612483200000,0.8659],[1612742400000,0.8744],[1612828800000,0.8893],[1612915200000,0.8935],[1613606400000,0.903],[1613692800000,0.921],[1613952000000,0.9144],[1614038400000,0.9073],[1614124800000,0.9057],[1614211200000,0.9006],[1614297600000,0.8914],[1614556800000,0.9011],[1614643200000,0.8941],[1614729600000,0.9052],[1614816000000,0.8949],[1614902400000,0.8992],[1615161600000,0.881],[1615248000000,0.861],[1615334400000,0.853],[1615420800000,0.8704],[1615507200000,0.8715],[1615766400000,0.8683],[1615852800000,0.8696],[1615939200000,0.8682],[1616025600000,0.8726],[1616112000000,0.8629],[1616371200000,0.8763],[1616457600000,0.8635],[1616544000000,0.8543],[1616630400000,0.8527],[1616716800000,0.8623],[1616976000000,0.859],[1617062400000,0.8581],[1617148800000,0.8546],[1617235200000,0.8579],[1617321600000,0.8581],[1617667200000,0.8591],[1617753600000,0.8619],[1617840000000,0.855],[1617926400000,0.8541],[1618185600000,0.8449],[1618272000000,0.8367],[1618358400000,0.8441],[1618444800000,0.8413],[1618531200000,0.8527],[1618790400000,0.8592],[1618876800000,0.8579],[1618963200000,0.8515],[1619049600000,0.8532],[1619136000000,0.8501],[1619395200000,0.8472],[1619481600000,0.8474],[1619568000000,0.8513],[1619654400000,0.8486],[1619740800000,0.8467],[1620259200000,0.8431],[1620345600000,0.8432],[1620604800000,0.8396],[1620691200000,0.8463],[1620777600000,0.85],[1620864000000,0.8386],[1620950400000,0.8438],[1621209600000,0.8447],[1621296000000,0.8424],[1621382400000,0.8379],[1621468800000,0.8304],[1621555200000,0.8248],[1621814400000,0.8289],[1621900800000,0.8371],[1621987200000,0.8372],[1622073600000,0.8394],[1622160000000,0.8338],[1622419200000,0.839],[1622505600000,0.8381],[1622592000000,0.8307],[1622678400000,0.8301],[1622764800000,0.8268],[1623024000000,0.8241],[1623110400000,0.8214],[1623196800000,0.8246],[1623283200000,0.8282],[1623369600000,0.8202],[1623715200000,0.8089],[1623801600000,0.7948],[1623888000000,0.7975],[1623974400000,0.7981],[1624233600000,0.8023],[1624320000000,0.8031],[1624406400000,0.8083],[1624492800000,0.805],[1624579200000,0.8117],[1624838400000,0.8105],[1624924800000,0.8029],[1625011200000,0.8074],[1625097600000,0.8033],[1625184000000,0.7966],[1625443200000,0.8051],[1625529600000,0.8036],[1625616000000,0.8055],[1625702400000,0.799],[1625788800000,0.8036],[1626048000000,0.8121],[1626134400000,0.8212],[1626220800000,0.8182],[1626307200000,0.8197],[1626393600000,0.8196],[1626652800000,0.8193],[1626739200000,0.8154],[1626825600000,0.8199],[1626912000000,0.8251],[1626998400000,0.8189],[1627257600000,0.8025],[1627344000000,0.7902],[1627430400000,0.7715],[1627516800000,0.7802],[1627603200000,0.7792],[1627862400000,0.7872],[1627948800000,0.7942],[1628035200000,0.8025],[1628121600000,0.7933],[1628208000000,0.7886],[1628467200000,0.7984],[1628553600000,0.8008],[1628640000000,0.7965],[1628726400000,0.7995],[1628812800000,0.797],[1629072000000,0.7985],[1629158400000,0.7805],[1629244800000,0.7858],[1629331200000,0.7778],[1629417600000,0.7696],[1629676800000,0.7786],[1629763200000,0.782],[1629849600000,0.7874],[1629936000000,0.7814],[1630022400000,0.7798],[1630281600000,0.7851],[1630368000000,0.7818],[1630454400000,0.789],[1630540800000,0.7958],[1630627200000,0.7946],[1630886400000,0.7998],[1630972800000,0.8138],[1631059200000,0.8167],[1631145600000,0.8159],[1631232000000,0.8115],[1631491200000,0.8097],[1631577600000,0.7977],[1631664000000,0.8019],[1631750400000,0.7844],[1631836800000,0.78],[1632268800000,0.7817],[1632355200000,0.7907],[1632441600000,0.7791],[1632700800000,0.7607],[1632787200000,0.7607],[1632873600000,0.7347],[1632960000000,0.7406],[1633651200000,0.7485],[1633910400000,0.7449],[1633996800000,0.7288],[1634083200000,0.7264],[1634169600000,0.7228],[1634256000000,0.719],[1634515200000,0.7189],[1634601600000,0.7245],[1634688000000,0.7225],[1634774400000,0.7182],[1634860800000,0.7159],[1635120000000,0.7129]],\"color\":\"#648FD5\"},{\"name\":\"3\\u5206\\u4f4d\\u6570\",\"yAxis\":0,\"data\":[[1609718400000,1.0],[1609804800000,1.0],[1609891200000,0.9919],[1609977600000,0.9834],[1610064000000,0.9963],[1610323200000,0.9791],[1610409600000,0.9873],[1610496000000,0.9777],[1610582400000,0.9753],[1610668800000,0.9742],[1610928000000,0.9819],[1611014400000,0.9822],[1611100800000,0.979],[1611187200000,0.9798],[1611273600000,0.9728],[1611532800000,0.9716],[1611619200000,0.9608],[1611705600000,0.9617],[1611792000000,0.9474],[1611878400000,0.9316],[1612137600000,0.9309],[1612224000000,0.9303],[1612310400000,0.922],[1612396800000,0.9066],[1612483200000,0.8929],[1612742400000,0.8988],[1612828800000,0.9188],[1612915200000,0.9228],[1613606400000,0.935],[1613692800000,0.9469],[1613952000000,0.9512],[1614038400000,0.9395],[1614124800000,0.9263],[1614211200000,0.9191],[1614297600000,0.8958],[1614556800000,0.9128],[1614643200000,0.9048],[1614729600000,0.9223],[1614816000000,0.9185],[1614902400000,0.9104],[1615161600000,0.8954],[1615248000000,0.8705],[1615334400000,0.8601],[1615420800000,0.8785],[1615507200000,0.8751],[1615766400000,0.878],[1615852800000,0.8825],[1615939200000,0.8816],[1616025600000,0.8811],[1616112000000,0.8737],[1616371200000,0.8828],[1616457600000,0.8687],[1616544000000,0.8562],[1616630400000,0.8581],[1616716800000,0.8668],[1616976000000,0.8681],[1617062400000,0.8723],[1617148800000,0.8646],[1617235200000,0.8677],[1617321600000,0.8646],[1617667200000,0.8656],[1617753600000,0.8654],[1617840000000,0.8667],[1617926400000,0.8672],[1618185600000,0.8632],[1618272000000,0.8535],[1618358400000,0.8632],[1618444800000,0.8619],[1618531200000,0.8697],[1618790400000,0.8784],[1618876800000,0.8761],[1618963200000,0.8707],[1619049600000,0.8726],[1619136000000,0.8686],[1619395200000,0.8662],[1619481600000,0.8617],[1619568000000,0.8681],[1619654400000,0.8655],[1619740800000,0.8566],[1620259200000,0.8543],[1620345600000,0.8585],[1620604800000,0.8628],[1620691200000,0.8576],[1620777600000,0.8636],[1620864000000,0.8459],[1620950400000,0.851],[1621209600000,0.8463],[1621296000000,0.8534],[1621382400000,0.8469],[1621468800000,0.8378],[1621555200000,0.841],[1621814400000,0.8391],[1621900800000,0.846],[1621987200000,0.8474],[1622073600000,0.849],[1622160000000,0.8454],[1622419200000,0.8476],[1622505600000,0.8482],[1622592000000,0.8387],[1622678400000,0.8378],[1622764800000,0.8396],[1623024000000,0.8405],[1623110400000,0.8385],[1623196800000,0.8367],[1623283200000,0.843],[1623369600000,0.8407],[1623715200000,0.8396],[1623801600000,0.8321],[1623888000000,0.8321],[1623974400000,0.8333],[1624233600000,0.8402],[1624320000000,0.842],[1624406400000,0.8489],[1624492800000,0.8421],[1624579200000,0.8469],[1624838400000,0.8418],[1624924800000,0.8308],[1625011200000,0.8379],[1625097600000,0.8221],[1625184000000,0.8157],[1625443200000,0.8206],[1625529600000,0.8181],[1625616000000,0.8175],[1625702400000,0.8059],[1625788800000,0.8066],[1626048000000,0.8105],[1626134400000,0.8136],[1626220800000,0.8039],[1626307200000,0.8061],[1626393600000,0.8044],[1626652800000,0.8052],[1626739200000,0.8019],[1626825600000,0.8044],[1626912000000,0.8125],[1626998400000,0.8106],[1627257600000,0.792],[1627344000000,0.7808],[1627430400000,0.7715],[1627516800000,0.7901],[1627603200000,0.7968],[1627862400000,0.7993],[1627948800000,0.7845],[1628035200000,0.7875],[1628121600000,0.7819],[1628208000000,0.7888],[1628467200000,0.7965],[1628553600000,0.8001],[1628640000000,0.8009],[1628726400000,0.8021],[1628812800000,0.8031],[1629072000000,0.8012],[1629158400000,0.7865],[1629244800000,0.7935],[1629331200000,0.7922],[1629417600000,0.7896],[1629676800000,0.7931],[1629763200000,0.795],[1629849600000,0.8031],[1629936000000,0.8046],[1630022400000,0.8022],[1630281600000,0.7999],[1630368000000,0.7997],[1630454400000,0.7997],[1630540800000,0.8118],[1630627200000,0.8099],[1630886400000,0.8179],[1630972800000,0.8293],[1631059200000,0.8264],[1631145600000,0.8268],[1631232000000,0.82],[1631491200000,0.8313],[1631577600000,0.8078],[1631664000000,0.8064],[1631750400000,0.7943],[1631836800000,0.7873],[1632268800000,0.7844],[1632355200000,0.7883],[1632441600000,0.7716],[1632700800000,0.7527],[1632787200000,0.7516],[1632873600000,0.736],[1632960000000,0.7388],[1633651200000,0.7466],[1633910400000,0.7431],[1633996800000,0.7281],[1634083200000,0.7257],[1634169600000,0.7279],[1634256000000,0.7213],[1634515200000,0.7256],[1634601600000,0.7292],[1634688000000,0.7259],[1634774400000,0.7216],[1634860800000,0.7108],[1635120000000,0.7141]],\"color\":\"#E06681\"},{\"name\":\"4\\u5206\\u4f4d\\u6570\",\"yAxis\":0,\"data\":[[1609718400000,1.0],[1609804800000,1.0],[1609891200000,0.9884],[1609977600000,0.9862],[1610064000000,0.9959],[1610323200000,0.9792],[1610409600000,0.9874],[1610496000000,0.9785],[1610582400000,0.9735],[1610668800000,0.9747],[1610928000000,0.9831],[1611014400000,0.9885],[1611100800000,1.0035],[1611187200000,1.0174],[1611273600000,1.0016],[1611532800000,0.987],[1611619200000,0.9725],[1611705600000,0.9699],[1611792000000,0.9591],[1611878400000,0.9449],[1612137600000,0.9463],[1612224000000,0.9441],[1612310400000,0.9302],[1612396800000,0.9174],[1612483200000,0.9105],[1612742400000,0.9166],[1612828800000,0.9261],[1612915200000,0.927],[1613606400000,0.9515],[1613692800000,0.9709],[1613952000000,0.9721],[1614038400000,0.9697],[1614124800000,0.9621],[1614211200000,0.9602],[1614297600000,0.9422],[1614556800000,0.955],[1614643200000,0.9504],[1614729600000,0.9584],[1614816000000,0.9449],[1614902400000,0.9471],[1615161600000,0.9373],[1615248000000,0.929],[1615334400000,0.9152],[1615420800000,0.9301],[1615507200000,0.93],[1615766400000,0.9266],[1615852800000,0.9333],[1615939200000,0.9305],[1616025600000,0.9331],[1616112000000,0.9297],[1616371200000,0.943],[1616457600000,0.9311],[1616544000000,0.9271],[1616630400000,0.9225],[1616716800000,0.931],[1616976000000,0.9327],[1617062400000,0.9287],[1617148800000,0.9259],[1617235200000,0.9363],[1617321600000,0.9336],[1617667200000,0.9357],[1617753600000,0.9339],[1617840000000,0.9343],[1617926400000,0.9299],[1618185600000,0.9186],[1618272000000,0.9151],[1618358400000,0.9222],[1618444800000,0.9237],[1618531200000,0.934],[1618790400000,0.9394],[1618876800000,0.9397],[1618963200000,0.9382],[1619049600000,0.941],[1619136000000,0.9365],[1619395200000,0.9311],[1619481600000,0.9209],[1619568000000,0.9238],[1619654400000,0.9228],[1619740800000,0.9173],[1620259200000,0.9236],[1620345600000,0.9142],[1620604800000,0.9205],[1620691200000,0.9188],[1620777600000,0.9242],[1620864000000,0.924],[1620950400000,0.9379],[1621209600000,0.9368],[1621296000000,0.9385],[1621382400000,0.9351],[1621468800000,0.9313],[1621555200000,0.9306],[1621814400000,0.9341],[1621900800000,0.9449],[1621987200000,0.9446],[1622073600000,0.9543],[1622160000000,0.9482],[1622419200000,0.9561],[1622505600000,0.9592],[1622592000000,0.9504],[1622678400000,0.9464],[1622764800000,0.951],[1623024000000,0.9561],[1623110400000,0.9546],[1623196800000,0.9496],[1623283200000,0.9524],[1623369600000,0.9398],[1623715200000,0.9308],[1623801600000,0.9199],[1623888000000,0.9277],[1623974400000,0.9291],[1624233600000,0.9315],[1624320000000,0.9348],[1624406400000,0.9399],[1624492800000,0.931],[1624579200000,0.9396],[1624838400000,0.9389],[1624924800000,0.9331],[1625011200000,0.9299],[1625097600000,0.9153],[1625184000000,0.9016],[1625443200000,0.9007],[1625529600000,0.8946],[1625616000000,0.9048],[1625702400000,0.9029],[1625788800000,0.9087],[1626048000000,0.9136],[1626134400000,0.9174],[1626220800000,0.9085],[1626307200000,0.9101],[1626393600000,0.9102],[1626652800000,0.903],[1626739200000,0.9033],[1626825600000,0.9066],[1626912000000,0.9031],[1626998400000,0.8929],[1627257600000,0.878],[1627344000000,0.8643],[1627430400000,0.8588],[1627516800000,0.8647],[1627603200000,0.8602],[1627862400000,0.8772],[1627948800000,0.8736],[1628035200000,0.8798],[1628121600000,0.8699],[1628208000000,0.8717],[1628467200000,0.8718],[1628553600000,0.8763],[1628640000000,0.8874],[1628726400000,0.8821],[1628812800000,0.8814],[1629072000000,0.8771],[1629158400000,0.8584],[1629244800000,0.8635],[1629331200000,0.8586],[1629417600000,0.8566],[1629676800000,0.8671],[1629763200000,0.8713],[1629849600000,0.8735],[1629936000000,0.8637],[1630022400000,0.862],[1630281600000,0.8644],[1630368000000,0.8689],[1630454400000,0.8598],[1630540800000,0.8607],[1630627200000,0.8619],[1630886400000,0.8718],[1630972800000,0.8787],[1631059200000,0.8898],[1631145600000,0.9034],[1631232000000,0.8984],[1631491200000,0.9056],[1631577600000,0.8916],[1631664000000,0.8956],[1631750400000,0.8833],[1631836800000,0.8741],[1632268800000,0.8781],[1632355200000,0.8828],[1632441600000,0.8689],[1632700800000,0.8563],[1632787200000,0.8595],[1632873600000,0.838],[1632960000000,0.8457],[1633651200000,0.8521],[1633910400000,0.8559],[1633996800000,0.8432],[1634083200000,0.8477],[1634169600000,0.8532],[1634256000000,0.8469],[1634515200000,0.8511],[1634601600000,0.8531],[1634688000000,0.8459],[1634774400000,0.8468],[1634860800000,0.8373],[1635120000000,0.8433]],\"color\":\"#E2D269\"},{\"name\":\"5\\u5206\\u4f4d\\u6570\",\"yAxis\":0,\"data\":[[1609718400000,1.0],[1609804800000,1.0],[1609891200000,0.9935],[1609977600000,0.9794],[1610064000000,0.9804],[1610323200000,0.9614],[1610409600000,0.9697],[1610496000000,0.9575],[1610582400000,0.9611],[1610668800000,0.9582],[1610928000000,0.9699],[1611014400000,0.9614],[1611100800000,0.9589],[1611187200000,0.9637],[1611273600000,0.9607],[1611532800000,0.9511],[1611619200000,0.938],[1611705600000,0.9399],[1611792000000,0.9225],[1611878400000,0.9103],[1612137600000,0.9186],[1612224000000,0.9258],[1612310400000,0.9114],[1612396800000,0.899],[1612483200000,0.8909],[1612742400000,0.8976],[1612828800000,0.915],[1612915200000,0.9249],[1613606400000,0.943],[1613692800000,0.9685],[1613952000000,0.9723],[1614038400000,0.9639],[1614124800000,0.9594],[1614211200000,0.9547],[1614297600000,0.94],[1614556800000,0.9516],[1614643200000,0.9413],[1614729600000,0.9523],[1614816000000,0.9407],[1614902400000,0.9433],[1615161600000,0.9261],[1615248000000,0.9053],[1615334400000,0.8957],[1615420800000,0.9118],[1615507200000,0.9108],[1615766400000,0.9037],[1615852800000,0.9076],[1615939200000,0.9106],[1616025600000,0.9139],[1616112000000,0.9033],[1616371200000,0.9205],[1616457600000,0.9099],[1616544000000,0.8956],[1616630400000,0.8953],[1616716800000,0.9095],[1616976000000,0.9041],[1617062400000,0.9015],[1617148800000,0.8994],[1617235200000,0.9062],[1617321600000,0.9058],[1617667200000,0.9092],[1617753600000,0.9121],[1617840000000,0.9091],[1617926400000,0.9037],[1618185600000,0.8932],[1618272000000,0.8869],[1618358400000,0.8953],[1618444800000,0.8958],[1618531200000,0.9107],[1618790400000,0.9177],[1618876800000,0.9139],[1618963200000,0.9089],[1619049600000,0.9096],[1619136000000,0.9038],[1619395200000,0.9004],[1619481600000,0.9009],[1619568000000,0.9046],[1619654400000,0.9049],[1619740800000,0.9034],[1620259200000,0.8992],[1620345600000,0.8985],[1620604800000,0.8928],[1620691200000,0.8962],[1620777600000,0.9],[1620864000000,0.8925],[1620950400000,0.8981],[1621209600000,0.9059],[1621296000000,0.9075],[1621382400000,0.9054],[1621468800000,0.8993],[1621555200000,0.8929],[1621814400000,0.896],[1621900800000,0.9032],[1621987200000,0.9077],[1622073600000,0.912],[1622160000000,0.9072],[1622419200000,0.9107],[1622505600000,0.9074],[1622592000000,0.9013],[1622678400000,0.9],[1622764800000,0.8999],[1623024000000,0.9014],[1623110400000,0.8971],[1623196800000,0.8951],[1623283200000,0.9007],[1623369600000,0.8959],[1623715200000,0.8832],[1623801600000,0.871],[1623888000000,0.8725],[1623974400000,0.8772],[1624233600000,0.8797],[1624320000000,0.8807],[1624406400000,0.8849],[1624492800000,0.8813],[1624579200000,0.8889],[1624838400000,0.8896],[1624924800000,0.882],[1625011200000,0.8851],[1625097600000,0.8786],[1625184000000,0.871],[1625443200000,0.8814],[1625529600000,0.8847],[1625616000000,0.8861],[1625702400000,0.8739],[1625788800000,0.8837],[1626048000000,0.8933],[1626134400000,0.9019],[1626220800000,0.894],[1626307200000,0.897],[1626393600000,0.896],[1626652800000,0.8969],[1626739200000,0.8959],[1626825600000,0.901],[1626912000000,0.9054],[1626998400000,0.8984],[1627257600000,0.8792],[1627344000000,0.8682],[1627430400000,0.8498],[1627516800000,0.8612],[1627603200000,0.862],[1627862400000,0.8731],[1627948800000,0.874],[1628035200000,0.8787],[1628121600000,0.8718],[1628208000000,0.8693],[1628467200000,0.8814],[1628553600000,0.8852],[1628640000000,0.8864],[1628726400000,0.8921],[1628812800000,0.8876],[1629072000000,0.8896],[1629158400000,0.8689],[1629244800000,0.8744],[1629331200000,0.8699],[1629417600000,0.8657],[1629676800000,0.8746],[1629763200000,0.8787],[1629849600000,0.883],[1629936000000,0.8806],[1630022400000,0.8864],[1630281600000,0.8915],[1630368000000,0.8944],[1630454400000,0.9033],[1630540800000,0.9095],[1630627200000,0.9102],[1630886400000,0.9188],[1630972800000,0.9346],[1631059200000,0.9378],[1631145600000,0.9424],[1631232000000,0.9375],[1631491200000,0.9386],[1631577600000,0.9223],[1631664000000,0.9237],[1631750400000,0.9066],[1631836800000,0.9083],[1632268800000,0.9065],[1632355200000,0.9158],[1632441600000,0.9024],[1632700800000,0.8818],[1632787200000,0.8817],[1632873600000,0.8637],[1632960000000,0.8696],[1633651200000,0.8748],[1633910400000,0.8707],[1633996800000,0.8549],[1634083200000,0.8556],[1634169600000,0.857],[1634256000000,0.8523],[1634515200000,0.8504],[1634601600000,0.8552],[1634688000000,0.8546],[1634774400000,0.849],[1634860800000,0.8445],[1635120000000,0.8455]],\"color\":\"#4A8E8E\"},{\"name\":\"\\u6700\\u5c0f-\\u6700\\u5927\\u5206\\u4f4d\",\"yAxis\":0,\"data\":[[1609718400000,1.0],[1609804800000,1.0],[1609891200000,1.0001],[1609977600000,1.0042],[1610064000000,1.0068],[1610323200000,1.0083],[1610409600000,1.0083],[1610496000000,1.0115],[1610582400000,1.0065],[1610668800000,1.0047],[1610928000000,1.0033],[1611014400000,1.0058],[1611100800000,1.0097],[1611187200000,1.0109],[1611273600000,1.0054],[1611532800000,1.0033],[1611619200000,1.0057],[1611705600000,1.0026],[1611792000000,1.0039],[1611878400000,1.0024],[1612137600000,1.0009],[1612224000000,0.9954],[1612310400000,0.9966],[1612396800000,0.994],[1612483200000,0.994],[1612742400000,0.9918],[1612828800000,0.9897],[1612915200000,0.9855],[1613606400000,0.9864],[1613692800000,0.9836],[1613952000000,0.985],[1614038400000,0.9887],[1614124800000,0.9884],[1614211200000,0.9876],[1614297600000,0.9876],[1614556800000,0.9906],[1614643200000,0.9945],[1614729600000,0.9926],[1614816000000,0.9907],[1614902400000,0.9885],[1615161600000,0.9887],[1615248000000,0.9882],[1615334400000,0.9878],[1615420800000,0.9866],[1615507200000,0.9906],[1615766400000,0.989],[1615852800000,0.9918],[1615939200000,0.9901],[1616025600000,0.9891],[1616112000000,0.9896],[1616371200000,0.988],[1616457600000,0.9865],[1616544000000,0.991],[1616630400000,0.9899],[1616716800000,0.9865],[1616976000000,0.9872],[1617062400000,0.9853],[1617148800000,0.9864],[1617235200000,0.9866],[1617321600000,0.986],[1617667200000,0.9867],[1617753600000,0.9852],[1617840000000,0.9863],[1617926400000,0.9863],[1618185600000,0.9821],[1618272000000,0.982],[1618358400000,0.9809],[1618444800000,0.9772],[1618531200000,0.9755],[1618790400000,0.9741],[1618876800000,0.9751],[1618963200000,0.9786],[1619049600000,0.9801],[1619136000000,0.9823],[1619395200000,0.9803],[1619481600000,0.976],[1619568000000,0.9763],[1619654400000,0.9755],[1619740800000,0.9722],[1620259200000,0.98],[1620345600000,0.9759],[1620604800000,0.9787],[1620691200000,0.9754],[1620777600000,0.9755],[1620864000000,0.9793],[1620950400000,0.9838],[1621209600000,0.9797],[1621296000000,0.9803],[1621382400000,0.9801],[1621468800000,0.9792],[1621555200000,0.9817],[1621814400000,0.9824],[1621900800000,0.9835],[1621987200000,0.9818],[1622073600000,0.9828],[1622160000000,0.984],[1622419200000,0.9865],[1622505600000,0.9902],[1622592000000,0.9895],[1622678400000,0.9879],[1622764800000,0.9887],[1623024000000,0.9889],[1623110400000,0.9903],[1623196800000,0.9908],[1623283200000,0.9892],[1623369600000,0.9866],[1623715200000,0.9879],[1623801600000,0.9882],[1623888000000,0.9904],[1623974400000,0.9872],[1624233600000,0.9881],[1624320000000,0.9885],[1624406400000,0.9881],[1624492800000,0.9854],[1624579200000,0.9829],[1624838400000,0.9814],[1624924800000,0.9813],[1625011200000,0.9801],[1625097600000,0.978],[1625184000000,0.9766],[1625443200000,0.9691],[1625529600000,0.9669],[1625616000000,0.9688],[1625702400000,0.9735],[1625788800000,0.9705],[1626048000000,0.9701],[1626134400000,0.9676],[1626220800000,0.9668],[1626307200000,0.9639],[1626393600000,0.9629],[1626652800000,0.958],[1626739200000,0.9582],[1626825600000,0.9603],[1626912000000,0.9546],[1626998400000,0.9526],[1627257600000,0.9547],[1627344000000,0.9515],[1627430400000,0.9562],[1627516800000,0.9541],[1627603200000,0.9543],[1627862400000,0.9559],[1627948800000,0.9535],[1628035200000,0.9526],[1628121600000,0.9535],[1628208000000,0.9531],[1628467200000,0.951],[1628553600000,0.9519],[1628640000000,0.9532],[1628726400000,0.948],[1628812800000,0.9476],[1629072000000,0.9466],[1629158400000,0.947],[1629244800000,0.9467],[1629331200000,0.9478],[1629417600000,0.9473],[1629676800000,0.9492],[1629763200000,0.949],[1629849600000,0.9475],[1629936000000,0.9452],[1630022400000,0.9431],[1630281600000,0.9432],[1630368000000,0.9429],[1630454400000,0.937],[1630540800000,0.9371],[1630627200000,0.9367],[1630886400000,0.9372],[1630972800000,0.9354],[1631059200000,0.9402],[1631145600000,0.9439],[1631232000000,0.9428],[1631491200000,0.9445],[1631577600000,0.9438],[1631664000000,0.9429],[1631750400000,0.9438],[1631836800000,0.9388],[1632268800000,0.9427],[1632355200000,0.9435],[1632441600000,0.9442],[1632700800000,0.9445],[1632787200000,0.9464],[1632873600000,0.9464],[1632960000000,0.9462],[1633651200000,0.9451],[1633910400000,0.9477],[1633996800000,0.9494],[1634083200000,0.9499],[1634169600000,0.949],[1634256000000,0.95],[1634515200000,0.953],[1634601600000,0.9521],[1634688000000,0.9532],[1634774400000,0.9545],[1634860800000,0.9528],[1635120000000,0.9544]]}],\"xAxis\":{\"title\":{\"text\":\"date\"},\"type\":\"datetime\"},\"plotOptions\":{\"series\":{\"compare\":\"percent\"}}}/bigcharts-data-end</pre></div><div class=\"type_title_left\"><p>基本特征分析<i class=\"fa fa-question-circle-o\" title=\"处理后因子表示对因子做去极值、标准化和中性化(如果启用的话)等处理后的因子值。\"></i></p></div><div class=\"cols\">\n",
       "            \n",
       "                \n",
       "                <div class=\"col\"><div id=\"bigchart-f9ff004321b841e2bdd0b7b5223a6d8d\" class=\"bigchart\"></div><div class=\"bigchart-data\"><pre style=\"display:none\">bigcharts-data-start/{\"chart\":{\"height\":500,\"type\":\"column\",\"renderTo\":\"bigchart-f9ff004321b841e2bdd0b7b5223a6d8d\"},\"legend\":{\"enabled\":true},\"title\":{\"text\":\"\\u56e0\\u5b50\\u5206\\u5e03\"},\"stock\":false,\"series\":[{\"name\":\"count\",\"yAxis\":0,\"data\":[[-3.3852,0.0],[-3.2453,0.0],[-3.1053,0.0],[-2.9654,0.0],[-2.8254,0.0],[-2.6855,0.0],[-2.5456,0.0],[-2.4056,0.0],[-2.2657,0.0],[-2.1257,0.0],[-1.9858,0.0],[-1.8459,0.0],[-1.7059,0.0],[-1.566,0.0],[-1.4261,0.0],[-1.2861,0.0],[-1.1462,0.0],[-1.0062,0.0001],[-0.8663,0.5779],[-0.7264,0.0001],[-0.5864,0.0001],[-0.4465,0.0001],[-0.3065,0.0001],[-0.1666,0.0001],[-0.0267,0.0001],[0.1133,0.0001],[0.2532,0.0001],[0.3931,0.0001],[0.5331,0.0001],[0.673,0.0001],[0.813,0.0001],[0.9529,0.0001],[1.0928,0.4206],[1.2328,0.0],[1.3727,0.0],[1.5127,0.0],[1.6526,0.0],[1.7925,0.0],[1.9325,0.0],[2.0724,0.0],[2.2123,0.0],[2.3523,0.0],[2.4922,0.0],[2.6322,0.0],[2.7721,0.0],[2.912,0.0],[3.052,0.0],[3.1919,0.0],[3.3319,0.0],[3.4718,0.0],[3.6117,0.0],[3.7517,0.0],[3.8916,0.0],[4.0315,0.0],[4.1715,0.0],[4.3114,0.0],[4.4514,0.0],[4.5913,0.0],[4.7312,0.0],[4.8712,0.0],[5.0111,0.0],[5.1511,0.0],[5.291,0.0],[5.4309,0.0],[5.5709,0.0],[5.7108,0.0],[5.8507,0.0],[5.9907,0.0],[6.1306,0.0],[6.2706,0.0],[6.4105,0.0],[6.5504,0.0],[6.6904,0.0],[6.8303,0.0],[6.9703,0.0],[7.1102,0.0],[7.2501,0.0],[7.3901,0.0],[7.53,0.0],[7.6699,0.0],[7.8099,0.0],[7.9498,0.0],[8.0898,0.0],[8.2297,0.0],[8.3696,0.0],[8.5096,0.0],[8.6495,0.0],[8.7894,0.0],[8.9294,0.0],[9.0693,0.0],[9.2093,0.0],[9.3492,0.0],[9.4891,0.0],[9.6291,0.0],[9.769,0.0],[9.909,0.0],[10.0489,0.0],[10.1888,0.0],[10.3288,0.0],[10.4687,0.0]],\"color\":\"#F08B55\"}],\"xAxis\":{\"title\":{\"text\":\"value\"}}}/bigcharts-data-end</pre></div></div>\n",
       "                \n",
       "            \n",
       "                \n",
       "                <div class=\"col\"><div id=\"bigchart-a9fdf88007b348b185148dc32195a315\" class=\"bigchart\"></div><div class=\"bigchart-data\"><pre style=\"display:none\">bigcharts-data-start/{\"chart\":{\"height\":500,\"type\":\"column\",\"renderTo\":\"bigchart-a9fdf88007b348b185148dc32195a315\"},\"legend\":{\"enabled\":true},\"title\":{\"text\":\"\\u5904\\u7406\\u540e\\u56e0\\u5b50\\u5206\\u5e03\"},\"stock\":false,\"series\":[{\"name\":\"count\",\"yAxis\":0,\"data\":[[-2.2369,0.0],[-2.1151,0.0],[-1.9932,0.0],[-1.8714,0.0001],[-1.7495,0.0004],[-1.6277,0.0015],[-1.5059,0.0039],[-1.384,0.0092],[-1.2622,0.0186],[-1.1403,0.0362],[-1.0185,0.0563],[-0.8967,0.064],[-0.7748,0.0807],[-0.653,0.0781],[-0.5311,0.0726],[-0.4093,0.0549],[-0.2875,0.0403],[-0.1656,0.0261],[-0.0438,0.0167],[0.0781,0.0123],[0.1999,0.005],[0.3218,0.0046],[0.4436,0.0123],[0.5654,0.0179],[0.6873,0.0284],[0.8091,0.049],[0.931,0.0637],[1.0528,0.0623],[1.1746,0.059],[1.2965,0.0496],[1.4183,0.036],[1.5402,0.021],[1.662,0.0118],[1.7838,0.0051],[1.9057,0.0021],[2.0275,0.0004],[2.1494,0.0],[2.2712,0.0],[2.3931,0.0],[2.5149,0.0],[2.6367,0.0],[2.7586,0.0],[2.8804,0.0],[3.0023,0.0],[3.1241,0.0],[3.2459,0.0],[3.3678,0.0],[3.4896,0.0],[3.6115,0.0],[3.7333,0.0],[3.8551,0.0],[3.977,0.0],[4.0988,0.0],[4.2207,0.0],[4.3425,0.0],[4.4644,0.0],[4.5862,0.0],[4.708,0.0],[4.8299,0.0],[4.9517,0.0],[5.0736,0.0],[5.1954,0.0],[5.3172,0.0],[5.4391,0.0],[5.5609,0.0],[5.6828,0.0],[5.8046,0.0],[5.9264,0.0],[6.0483,0.0],[6.1701,0.0],[6.292,0.0],[6.4138,0.0],[6.5356,0.0],[6.6575,0.0],[6.7793,0.0],[6.9012,0.0],[7.023,0.0],[7.1449,0.0],[7.2667,0.0],[7.3885,0.0],[7.5104,0.0],[7.6322,0.0],[7.7541,0.0],[7.8759,0.0],[7.9977,0.0],[8.1196,0.0],[8.2414,0.0],[8.3633,0.0],[8.4851,0.0],[8.6069,0.0],[8.7288,0.0],[8.8506,0.0],[8.9725,0.0],[9.0943,0.0],[9.2162,0.0],[9.338,0.0],[9.4598,0.0],[9.5817,0.0],[9.7035,0.0],[9.8254,0.0]],\"color\":\"#F08B55\"}],\"xAxis\":{\"title\":{\"text\":\"value\"}}}/bigcharts-data-end</pre></div></div>\n",
       "                \n",
       "            \n",
       "            </div><div class=\"cols\">\n",
       "            \n",
       "                \n",
       "                <div class=\"col\"><div id=\"bigchart-ace84a5529be4b0696b62369c0af5f7c\" class=\"bigchart\"></div><div class=\"bigchart-data\"><pre style=\"display:none\">bigcharts-data-start/{\"chart\":{\"height\":500,\"type\":\"boxplot\",\"renderTo\":\"bigchart-ace84a5529be4b0696b62369c0af5f7c\"},\"legend\":{\"enabled\":true},\"title\":{\"text\":\"\\u5904\\u7406\\u540e\\u56e0\\u5b50\\u884c\\u4e1a\\u5206\\u5e03\"},\"stock\":false,\"series\":[{\"name\":\"\\u5904\\u7406\\u540e\\u56e0\\u5b50\",\"data\":[[-1.5041,-0.7403,-0.4039,0.9217,1.8927],[-1.8536,-0.629,-0.2614,0.8069,1.9143],[-1.5809,-0.845,-0.5361,1.0123,1.8479],[-2.2515,-0.7136,-0.1033,0.7782,1.9596],[-1.7104,-0.6824,-0.3177,0.8656,1.9698],[-1.5543,-0.8401,-0.4384,0.9463,1.7938],[-1.6004,-0.8473,-0.4315,0.9445,1.9198],[-1.716,-0.8533,-0.2897,0.859,1.7402],[-1.9255,-0.8305,-0.4005,0.9297,1.9538],[-1.5352,-0.6813,-0.0182,0.6775,1.5726],[-1.8409,-0.8399,-0.2237,0.8903,1.8512],[-2.3587,-0.8549,-0.4792,0.9616,1.7415],[-1.6619,-0.8165,-0.4385,0.9467,9.8254],[-1.6657,-0.7888,-0.3744,0.9228,1.967],[-1.6947,-0.8235,-0.2516,0.9097,1.9755],[-1.6803,-0.8277,-0.3891,0.9287,1.7729],[-1.2617,-0.1239,0.0,0.1239,1.2617],[-1.869,-0.7637,-0.0143,0.826,1.9857],[-1.8145,-0.69,-0.2238,0.8019,1.9403],[-1.5583,-0.6219,-0.0,0.6108,1.5005],[-1.8408,-0.8068,-0.2689,0.8901,1.8699],[-1.7458,-0.7496,-0.2571,0.8908,1.8369],[-1.7173,-0.7936,-0.4598,0.9992,1.7867],[-1.6198,-0.8229,-0.4957,0.9825,1.8436],[-1.8587,-0.6796,-0.2361,0.8139,1.8925],[-1.6934,-0.8252,-0.41,0.9827,1.8421],[-1.6947,-0.8063,-0.4108,0.9569,1.9243],[-1.7411,-0.8186,-0.268,0.8471,1.9267]],\"color\":\"#F08B55\"}],\"xAxis\":{\"categories\":[\"\\u519c\\u6797\\u7267\\u6e14\",\"\\u91c7\\u6398\",\"\\u5316\\u5de5\",\"\\u94a2\\u94c1\",\"\\u6709\\u8272\\u91d1\\u5c5e\",\"\\u7535\\u5b50\",\"\\u6c7d\\u8f66\",\"\\u5bb6\\u7528\\u7535\\u5668\",\"\\u98df\\u54c1\\u996e\\u6599\",\"\\u7eba\\u7ec7\\u670d\\u88c5\",\"\\u8f7b\\u5de5\\u5236\\u9020\",\"\\u533b\\u836f\\u751f\\u7269\",\"\\u516c\\u7528\\u4e8b\\u4e1a\",\"\\u4ea4\\u901a\\u8fd0\\u8f93\",\"\\u623f\\u5730\\u4ea7\",\"\\u5546\\u4e1a\\u8d38\\u6613\",\"\\u4f11\\u95f2\\u670d\\u52a1\",\"\\u94f6\\u884c\",\"\\u975e\\u94f6\\u91d1\\u878d\",\"\\u7efc\\u5408\",\"\\u5efa\\u7b51\\u6750\\u6599\",\"\\u5efa\\u7b51\\u88c5\\u9970\",\"\\u7535\\u6c14\\u8bbe\\u5907\",\"\\u673a\\u68b0\\u8bbe\\u5907\",\"\\u56fd\\u9632\\u519b\\u5de5\",\"\\u8ba1\\u7b97\\u673a\",\"\\u4f20\\u5a92\",\"\\u901a\\u4fe1\"]}}/bigcharts-data-end</pre></div></div>\n",
       "                \n",
       "            \n",
       "                \n",
       "                <div class=\"col\"><div id=\"bigchart-09342cdafafe47caa3823be7c08b5da0\" class=\"bigchart\"></div><div class=\"bigchart-data\"><pre style=\"display:none\">bigcharts-data-start/{\"chart\":{\"height\":500,\"type\":\"boxplot\",\"renderTo\":\"bigchart-09342cdafafe47caa3823be7c08b5da0\"},\"legend\":{\"enabled\":true},\"title\":{\"text\":\"\\u5904\\u7406\\u540e\\u56e0\\u5b50\\u5e02\\u503c\\u5206\\u5e03\"},\"stock\":false,\"series\":[{\"name\":\"\\u5904\\u7406\\u540e\\u56e0\\u5b50\",\"data\":[[-2.3587,-0.7842,-0.306,0.8993,1.9857],[-1.928,-0.813,-0.3414,0.9231,9.8254],[-2.2515,-0.8076,-0.3379,0.937,1.9107],[-1.869,-0.8148,-0.3655,0.9203,1.8925],[-1.8409,-0.8134,-0.3685,0.9426,1.9538]],\"color\":\"#F08B55\"}],\"xAxis\":{\"categories\":[\"\\u8d85\\u5c0f\\u578b\",\"\\u5c0f\\u578b\",\"\\u4e2d\\u578b\",\"\\u5927\\u578b\",\"\\u8d85\\u5927\\u578b\"]}}/bigcharts-data-end</pre></div></div>\n",
       "                \n",
       "            \n",
       "            </div><div class=\"type_title_left\"><p>IC分析<i class=\"fa fa-question-circle-o\" title=\"期初因子值与因子当期收益相关性分析，绝对值越大越好。以及因子值与滞后n期因子收益的相关性分析。\"></i></p></div>\n",
       "        <div class=\"ic_summary\">\n",
       "          <div class=\"item ic_mean\"><label>IC均值</label><p>0.01</p></div>\n",
       "          <div class=\"item ic_std\"><label>IC标准差</label><p>0.05</p></div>\n",
       "          <div class=\"item ir\"><label>IR值</label><p>0.25</p></div>\n",
       "          <div class=\"item ic_significance_ratio\"><label>|IC| > 0.02比率</label><p>70.83%</p></div>\n",
       "        </div>\n",
       "        <div class=\"cols\">\n",
       "            \n",
       "                \n",
       "                <div class=\"col\"><div id=\"bigchart-f6044634fe6046b7adc60f15cb6c6c2b\" class=\"bigchart\"></div><div class=\"bigchart-data\"><pre style=\"display:none\">bigcharts-data-start/{\"chart\":{\"height\":500,\"type\":\"column\",\"renderTo\":\"bigchart-f6044634fe6046b7adc60f15cb6c6c2b\"},\"legend\":{\"enabled\":true},\"title\":{\"text\":\"IC\\u65f6\\u5e8f\\u56fe\"},\"stock\":true,\"series\":[{\"name\":\"IC\",\"yAxis\":0,\"data\":[[1609804800000,-0.0686],[1609977600000,0.0218],[1610323200000,-0.0846],[1610496000000,0.1326],[1610668800000,0.0149],[1611014400000,0.0211],[1611187200000,0.073],[1611532800000,0.0007],[1611705600000,0.0061],[1611878400000,0.0654],[1612224000000,0.0366],[1612396800000,0.0329],[1612742400000,0.083],[1612915200000,0.1034],[1613692800000,-0.0223],[1614038400000,-0.0044],[1614211200000,-0.093],[1614556800000,-0.0319],[1614729600000,0.0063],[1614902400000,0.0787],[1615248000000,-0.0372],[1615420800000,-0.0325],[1615766400000,0.0026],[1615939200000,0.0418],[1616112000000,0.0388],[1616457600000,-0.0236],[1616630400000,0.0928],[1616976000000,0.0289],[1617148800000,-0.0032],[1617321600000,-0.0071],[1617753600000,0.0351],[1617926400000,0.1037],[1618272000000,0.0737],[1618444800000,0.0231],[1618790400000,-0.0693],[1618963200000,-0.0928],[1619136000000,0.0898],[1619481600000,0.012],[1619654400000,-0.095],[1620259200000,0.0052],[1620604800000,0.0192],[1620777600000,-0.0187],[1620950400000,0.1245],[1621296000000,0.0584],[1621468800000,-0.0637],[1621814400000,0.0389],[1621987200000,0.0015],[1622160000000,-0.1339],[1622505600000,0.008],[1622678400000,0.0645],[1623024000000,-0.034],[1623196800000,0.0361],[1623369600000,-0.0173],[1623801600000,0.0363],[1623974400000,-0.0722],[1624320000000,0.0019],[1624492800000,0.0769],[1625011200000,-0.0129],[1625184000000,0.1155],[1625529600000,-0.0181],[1626048000000,0.0295],[1626220800000,0.0758],[1626393600000,0.0772],[1626739200000,0.0406],[1627257600000,0.0337],[1627603200000,0.0361],[1627948800000,-0.0429],[1628467200000,0.0315],[1628640000000,0.1065],[1628812800000,0.042],[1629158400000,0.0202],[1629676800000,0.0121],[1629849600000,0.0303],[1630022400000,0.035],[1630368000000,0.0074],[1630540800000,-0.0113],[1630886400000,-0.0663],[1631059200000,0.0139],[1631232000000,0.0138],[1631750400000,0.038],[1632268800000,-0.0802],[1632441600000,0.0233],[1632787200000,0.0279],[1632960000000,0.0654],[1633910400000,-0.0022],[1634083200000,0.0573],[1634256000000,-0.0352],[1634601600000,-0.0567],[1634774400000,0.0091],[1624838400000,-0.03],[1625702400000,0.041],[1626912000000,-0.0211],[1627430400000,0.0194],[1628121600000,0.0095],[1629331200000,-0.0221],[1631577600000,-0.0049]],\"color\":\"#F08B55\"}],\"xAxis\":{\"title\":{\"text\":\"date\"},\"type\":\"datetime\"}}/bigcharts-data-end</pre></div></div>\n",
       "                \n",
       "            \n",
       "                \n",
       "                <div class=\"col\"><div id=\"bigchart-461a86a64faf41eaa7f0839f4614dc23\" class=\"bigchart\"></div><div class=\"bigchart-data\"><pre style=\"display:none\">bigcharts-data-start/{\"chart\":{\"height\":500,\"type\":\"column\",\"renderTo\":\"bigchart-461a86a64faf41eaa7f0839f4614dc23\"},\"legend\":{\"enabled\":true},\"title\":{\"text\":\"IC\\u4fe1\\u53f7\\u8870\\u51cf\"},\"stock\":false,\"series\":[{\"name\":\"IC\",\"yAxis\":0,\"data\":[[\"\\u6ede\\u540e0\\u671f\",0.0135],[\"\\u6ede\\u540e1\\u671f\",0.0157],[\"\\u6ede\\u540e2\\u671f\",-0.0195],[\"\\u6ede\\u540e3\\u671f\",-0.0074],[\"\\u6ede\\u540e4\\u671f\",-0.0037]],\"color\":\"#F08B55\"}],\"xAxis\":{\"categories\":[\"\\u6ede\\u540e0\\u671f\",\"\\u6ede\\u540e1\\u671f\",\"\\u6ede\\u540e2\\u671f\",\"\\u6ede\\u540e3\\u671f\",\"\\u6ede\\u540e4\\u671f\"]}}/bigcharts-data-end</pre></div></div>\n",
       "                \n",
       "            \n",
       "            </div><div class=\"type_title_left\"><p>买入信号重合分析<i class=\"fa fa-question-circle-o\" title=\"分布对最小和最大分位组，计算当期和滞后n期所选股票的重合度。\"></i></p></div><div id=\"bigchart-7c38295da3de44e8a417d5c7058c7d51\" class=\"bigchart\"></div><div class=\"bigchart-data\"><pre style=\"display:none\">bigcharts-data-start/{\"chart\":{\"height\":500,\"type\":\"column\",\"renderTo\":\"bigchart-7c38295da3de44e8a417d5c7058c7d51\"},\"legend\":{\"enabled\":true},\"title\":{\"text\":\"\\u4e70\\u5165\\u4fe1\\u53f7\\u91cd\\u5408\\u5ea6\"},\"stock\":false,\"series\":[{\"name\":\"\\u6700\\u5c0f\\u5206\\u4f4d\",\"yAxis\":0,\"data\":[[\"\\u6ede\\u540e1\\u671f\",0.2109],[\"\\u6ede\\u540e2\\u671f\",0.1985],[\"\\u6ede\\u540e3\\u671f\",0.2077],[\"\\u6ede\\u540e4\\u671f\",0.2042],[\"\\u6ede\\u540e5\\u671f\",0.2014],[\"\\u6ede\\u540e6\\u671f\",0.1885],[\"\\u6ede\\u540e7\\u671f\",0.1901],[\"\\u6ede\\u540e8\\u671f\",0.1924],[\"\\u6ede\\u540e9\\u671f\",0.1921],[\"\\u6ede\\u540e10\\u671f\",0.1905]],\"color\":\"#F08B55\"},{\"name\":\"\\u6700\\u5927\\u5206\\u4f4d\",\"yAxis\":0,\"data\":[[\"\\u6ede\\u540e1\\u671f\",0.2032],[\"\\u6ede\\u540e2\\u671f\",0.2033],[\"\\u6ede\\u540e3\\u671f\",0.195],[\"\\u6ede\\u540e4\\u671f\",0.1951],[\"\\u6ede\\u540e5\\u671f\",0.1929],[\"\\u6ede\\u540e6\\u671f\",0.1899],[\"\\u6ede\\u540e7\\u671f\",0.1976],[\"\\u6ede\\u540e8\\u671f\",0.189],[\"\\u6ede\\u540e9\\u671f\",0.1901],[\"\\u6ede\\u540e10\\u671f\",0.1831]],\"color\":\"#648FD5\"}],\"xAxis\":{\"categories\":[\"\\u6ede\\u540e1\\u671f\",\"\\u6ede\\u540e2\\u671f\",\"\\u6ede\\u540e3\\u671f\",\"\\u6ede\\u540e4\\u671f\",\"\\u6ede\\u540e5\\u671f\",\"\\u6ede\\u540e6\\u671f\",\"\\u6ede\\u540e7\\u671f\",\"\\u6ede\\u540e8\\u671f\",\"\\u6ede\\u540e9\\u671f\",\"\\u6ede\\u540e10\\u671f\"]}}/bigcharts-data-end</pre></div><div class=\"type_title_left\"><p>因子估值分析<i class=\"fa fa-question-circle-o\" title=\"衡量因子估值高低，估值越低，该因子越可以加大配置。\"></i></p></div><div id=\"bigchart-c132c8982b2e4bcf98c59b86c71bc272\" class=\"bigchart\"></div><div class=\"bigchart-data\"><pre style=\"display:none\">bigcharts-data-start/{\"chart\":{\"height\":500,\"renderTo\":\"bigchart-c132c8982b2e4bcf98c59b86c71bc272\"},\"legend\":{\"enabled\":true},\"title\":{\"text\":\"PB\\u4f30\\u503c\\u5206\\u6790\"},\"stock\":true,\"series\":[{\"name\":\"1\\u5206\\u4f4d\\u6570\",\"yAxis\":0,\"data\":[[1609718400000,null],[1609804800000,null],[1609891200000,2.1077],[1609977600000,2.1959],[1610064000000,2.2299],[1610323200000,2.1771],[1610409600000,2.1943],[1610496000000,2.222],[1610582400000,2.316],[1610668800000,2.3336],[1610928000000,2.0515],[1611014400000,2.068],[1611100800000,3.3612],[1611187200000,3.4044],[1611273600000,1.7939],[1611532800000,1.8384],[1611619200000,1.8182],[1611705600000,1.831],[1611792000000,1.4023],[1611878400000,1.4324],[1612137600000,1.6805],[1612224000000,1.6941],[1612310400000,2.1036],[1612396800000,2.0611],[1612483200000,1.6309],[1612742400000,1.6249],[1612828800000,1.6973],[1612915200000,1.7684],[1613606400000,1.9099],[1613692800000,1.9719],[1613952000000,2.0148],[1614038400000,2.0284],[1614124800000,1.8211],[1614211200000,1.7817],[1614297600000,1.9555],[1614556800000,2.0083],[1614643200000,2.0831],[1614729600000,2.0377],[1614816000000,2.2587],[1614902400000,2.2383],[1615161600000,2.013],[1615248000000,2.0068],[1615334400000,2.5375],[1615420800000,2.7225],[1615507200000,2.7287],[1615766400000,2.7694],[1615852800000,2.8376],[1615939200000,2.8473],[1616025600000,2.0332],[1616112000000,2.0273],[1616371200000,2.7069],[1616457600000,2.6986],[1616544000000,2.0848],[1616630400000,2.0049],[1616716800000,2.4137],[1616976000000,2.3887],[1617062400000,2.3378],[1617148800000,2.3798],[1617235200000,2.2244],[1617321600000,2.1995],[1617667200000,2.3331],[1617753600000,2.4458],[1617840000000,2.8182],[1617926400000,2.8135],[1618185600000,2.4269],[1618272000000,2.2882],[1618358400000,1.3879],[1618444800000,1.3592],[1618531200000,2.2496],[1618790400000,2.2807],[1618876800000,2.104],[1618963200000,2.1008],[1619049600000,2.6772],[1619136000000,2.6892],[1619395200000,1.8257],[1619481600000,1.832],[1619568000000,2.0584],[1619654400000,2.0406],[1619740800000,1.8892],[1620259200000,1.9119],[1620345600000,2.5102],[1620604800000,2.5221],[1620691200000,1.9636],[1620777600000,1.9793],[1620864000000,2.6266],[1620950400000,2.7743],[1621209600000,2.1834],[1621296000000,2.1898],[1621382400000,2.6664],[1621468800000,2.6383],[1621555200000,2.7413],[1621814400000,2.882],[1621900800000,1.891],[1621987200000,1.9093],[1622073600000,3.1509],[1622160000000,3.2442],[1622419200000,2.1498],[1622505600000,2.1451],[1622592000000,2.0202],[1622678400000,2.0851],[1622764800000,2.0461],[1623024000000,2.0611],[1623110400000,2.1244],[1623196800000,2.1356],[1623283200000,1.9029],[1623369600000,1.9017],[1623715200000,1.5603],[1623801600000,1.5985],[1623888000000,2.526],[1623974400000,2.5108],[1624233600000,1.9222],[1624320000000,1.9627],[1624406400000,2.1988],[1624492800000,2.2409],[1624579200000,2.2468],[1624838400000,2.2393],[1624924800000,2.1425],[1625011200000,2.1637],[1625097600000,2.189],[1625184000000,2.1755],[1625443200000,1.6374],[1625529600000,1.6352],[1625616000000,2.048],[1625702400000,2.0302],[1625788800000,1.9612],[1626048000000,1.9743],[1626134400000,1.9275],[1626220800000,1.92],[1626307200000,1.3193],[1626393600000,1.3426],[1626652800000,1.8492],[1626739200000,1.8629],[1626825600000,3.3509],[1626912000000,3.3943],[1626998400000,2.3693],[1627257600000,2.3215],[1627344000000,2.1761],[1627430400000,2.1226],[1627516800000,1.9348],[1627603200000,1.9354],[1627862400000,2.1514],[1627948800000,2.0723],[1628035200000,2.4446],[1628121600000,2.4415],[1628208000000,2.1482],[1628467200000,2.185],[1628553600000,2.6287],[1628640000000,2.523],[1628726400000,2.1839],[1628812800000,2.1744],[1629072000000,2.1303],[1629158400000,2.0863],[1629244800000,2.0516],[1629331200000,2.0325],[1629417600000,1.8994],[1629676800000,1.958],[1629763200000,1.8706],[1629849600000,1.8141],[1629936000000,2.2885],[1630022400000,2.4151],[1630281600000,1.6566],[1630368000000,1.6829],[1630454400000,3.1016],[1630540800000,3.1741],[1630627200000,1.8338],[1630886400000,1.7953],[1630972800000,1.7578],[1631059200000,1.7596],[1631145600000,2.6935],[1631232000000,2.6561],[1631491200000,2.111],[1631577600000,2.1924],[1631664000000,2.0527],[1631750400000,2.0153],[1631836800000,2.2234],[1632268800000,2.438],[1632355200000,2.1841],[1632441600000,2.0743],[1632700800000,2.2312],[1632787200000,2.272],[1632873600000,2.3476],[1632960000000,2.5227],[1633651200000,2.0113],[1633910400000,2.129],[1633996800000,2.4426],[1634083200000,2.4999],[1634169600000,2.144],[1634256000000,2.1497],[1634515200000,2.1621],[1634601600000,2.2613],[1634688000000,2.6155],[1634774400000,2.5992],[1634860800000,2.3219],[1635120000000,2.3272]],\"color\":\"#F08B55\"},{\"name\":\"2\\u5206\\u4f4d\\u6570\",\"yAxis\":0,\"data\":[[1609718400000,null],[1609804800000,null],[1609891200000,1.9235],[1609977600000,1.9096],[1610064000000,2.2502],[1610323200000,2.184],[1610409600000,2.2751],[1610496000000,2.3421],[1610582400000,1.847],[1610668800000,1.8116],[1610928000000,2.5722],[1611014400000,2.5837],[1611100800000,1.7858],[1611187200000,1.7953],[1611273600000,2.429],[1611532800000,2.4629],[1611619200000,2.2756],[1611705600000,2.3247],[1611792000000,2.2377],[1611878400000,2.2128],[1612137600000,2.7375],[1612224000000,2.6795],[1612310400000,1.8738],[1612396800000,1.8812],[1612483200000,3.4326],[1612742400000,3.316],[1612828800000,2.0725],[1612915200000,2.0648],[1613606400000,1.8291],[1613692800000,1.869],[1613952000000,2.3569],[1614038400000,2.2798],[1614124800000,2.3883],[1614211200000,2.346],[1614297600000,2.0744],[1614556800000,2.0694],[1614643200000,2.5322],[1614729600000,2.4707],[1614816000000,2.4092],[1614902400000,2.4464],[1615161600000,3.0206],[1615248000000,2.8682],[1615334400000,1.6464],[1615420800000,1.6558],[1615507200000,1.6938],[1615766400000,1.7232],[1615852800000,2.1923],[1615939200000,2.1767],[1616025600000,1.9172],[1616112000000,1.9325],[1616371200000,2.1005],[1616457600000,2.0609],[1616544000000,2.422],[1616630400000,2.4558],[1616716800000,2.6717],[1616976000000,2.6798],[1617062400000,1.8363],[1617148800000,1.8046],[1617235200000,1.6604],[1617321600000,1.719],[1617667200000,1.8048],[1617753600000,1.8616],[1617840000000,1.4286],[1617926400000,1.4464],[1618185600000,1.7514],[1618272000000,1.7425],[1618358400000,2.6215],[1618444800000,2.6169],[1618531200000,2.0239],[1618790400000,2.0635],[1618876800000,1.9144],[1618963200000,1.9319],[1619049600000,1.747],[1619136000000,1.7419],[1619395200000,2.671],[1619481600000,2.613],[1619568000000,2.1853],[1619654400000,2.1931],[1619740800000,2.0762],[1620259200000,2.1391],[1620345600000,2.0346],[1620604800000,2.0455],[1620691200000,2.5068],[1620777600000,2.4378],[1620864000000,1.7954],[1620950400000,1.8226],[1621209600000,2.0906],[1621296000000,2.0936],[1621382400000,1.5929],[1621468800000,1.6222],[1621555200000,2.0544],[1621814400000,2.0267],[1621900800000,2.4616],[1621987200000,2.4829],[1622073600000,1.802],[1622160000000,1.7922],[1622419200000,1.521],[1622505600000,1.5541],[1622592000000,1.7969],[1622678400000,1.7887],[1622764800000,1.8941],[1623024000000,1.8918],[1623110400000,1.6861],[1623196800000,1.6205],[1623283200000,2.4009],[1623369600000,2.4119],[1623715200000,1.9266],[1623801600000,2.0208],[1623888000000,1.9418],[1623974400000,2.019],[1624233600000,2.0118],[1624320000000,2.0408],[1624406400000,1.9549],[1624492800000,1.7919],[1624579200000,2.2047],[1624838400000,2.2381],[1624924800000,2.2597],[1625011200000,2.2898],[1625097600000,1.31],[1625184000000,1.3024],[1625443200000,2.4349],[1625529600000,2.5427],[1625616000000,1.7747],[1625702400000,1.7772],[1625788800000,2.8239],[1626048000000,2.8459],[1626134400000,2.5546],[1626220800000,2.5239],[1626307200000,2.783],[1626393600000,2.8377],[1626652800000,2.2232],[1626739200000,2.2129],[1626825600000,1.9649],[1626912000000,2.0299],[1626998400000,1.8284],[1627257600000,1.8506],[1627344000000,2.3181],[1627430400000,2.312],[1627516800000,2.1857],[1627603200000,2.2061],[1627862400000,2.0407],[1627948800000,2.0987],[1628035200000,2.1026],[1628121600000,2.0718],[1628208000000,1.6907],[1628467200000,1.7035],[1628553600000,2.4453],[1628640000000,2.4718],[1628726400000,2.1595],[1628812800000,2.1264],[1629072000000,2.0425],[1629158400000,1.9753],[1629244800000,2.1836],[1629331200000,2.128],[1629417600000,2.1009],[1629676800000,2.1184],[1629763200000,2.427],[1629849600000,2.4302],[1629936000000,2.1445],[1630022400000,2.2268],[1630281600000,2.5852],[1630368000000,2.5618],[1630454400000,1.7365],[1630540800000,1.7279],[1630627200000,2.8465],[1630886400000,2.9889],[1630972800000,2.8156],[1631059200000,2.8575],[1631145600000,2.1917],[1631232000000,2.1477],[1631491200000,2.6833],[1631577600000,2.5745],[1631664000000,2.4815],[1631750400000,2.4568],[1631836800000,2.5601],[1632268800000,2.5276],[1632355200000,2.4293],[1632441600000,2.4177],[1632700800000,2.1074],[1632787200000,2.1531],[1632873600000,2.0684],[1632960000000,2.1599],[1633651200000,1.8329],[1633910400000,1.8329],[1633996800000,2.4189],[1634083200000,2.3563],[1634169600000,2.2082],[1634256000000,2.0669],[1634515200000,3.0844],[1634601600000,3.1701],[1634688000000,1.8162],[1634774400000,1.7947],[1634860800000,2.2554],[1635120000000,2.3055]],\"color\":\"#648FD5\"},{\"name\":\"3\\u5206\\u4f4d\\u6570\",\"yAxis\":0,\"data\":[[1609718400000,null],[1609804800000,null],[1609891200000,2.2102],[1609977600000,2.1738],[1610064000000,1.4198],[1610323200000,1.449],[1610409600000,1.8872],[1610496000000,1.792],[1610582400000,1.9291],[1610668800000,1.9712],[1610928000000,1.6668],[1611014400000,1.6764],[1611100800000,1.4412],[1611187200000,1.435],[1611273600000,1.8354],[1611532800000,1.8195],[1611619200000,1.8025],[1611705600000,1.8111],[1611792000000,2.2739],[1611878400000,2.2942],[1612137600000,1.5415],[1612224000000,1.5409],[1612310400000,1.9633],[1612396800000,1.9186],[1612483200000,1.5821],[1612742400000,1.6274],[1612828800000,1.9582],[1612915200000,1.9501],[1613606400000,2.6766],[1613692800000,2.7165],[1613952000000,1.5507],[1614038400000,1.5216],[1614124800000,3.9586],[1614211200000,3.8333],[1614297600000,2.7159],[1614556800000,2.6449],[1614643200000,1.3721],[1614729600000,1.4673],[1614816000000,1.4923],[1614902400000,1.4049],[1615161600000,2.182],[1615248000000,2.1234],[1615334400000,1.6337],[1615420800000,1.8367],[1615507200000,1.487],[1615766400000,1.506],[1615852800000,1.5316],[1615939200000,1.5259],[1616025600000,1.7345],[1616112000000,1.7335],[1616371200000,1.5776],[1616457600000,1.5315],[1616544000000,1.9939],[1616630400000,2.0337],[1616716800000,1.703],[1616976000000,1.7546],[1617062400000,1.5834],[1617148800000,1.5695],[1617235200000,1.8604],[1617321600000,1.8648],[1617667200000,1.7634],[1617753600000,1.8109],[1617840000000,2.1288],[1617926400000,2.1207],[1618185600000,1.5163],[1618272000000,1.4941],[1618358400000,2.4205],[1618444800000,2.3748],[1618531200000,1.881],[1618790400000,1.8881],[1618876800000,2.3079],[1618963200000,2.2549],[1619049600000,1.599],[1619136000000,1.6441],[1619395200000,1.6132],[1619481600000,1.6089],[1619568000000,1.6593],[1619654400000,1.6428],[1619740800000,1.4556],[1620259200000,1.467],[1620345600000,1.2877],[1620604800000,1.3542],[1620691200000,1.9279],[1620777600000,1.9519],[1620864000000,1.4145],[1620950400000,1.333],[1621209600000,1.7265],[1621296000000,1.7647],[1621382400000,1.3671],[1621468800000,1.3288],[1621555200000,1.4428],[1621814400000,1.5408],[1621900800000,1.8586],[1621987200000,1.8669],[1622073600000,1.5872],[1622160000000,1.5943],[1622419200000,1.9266],[1622505600000,1.9121],[1622592000000,2.1667],[1622678400000,2.1386],[1622764800000,2.1694],[1623024000000,2.2418],[1623110400000,2.4831],[1623196800000,2.5021],[1623283200000,2.0608],[1623369600000,2.0216],[1623715200000,2.275],[1623801600000,2.2659],[1623888000000,1.6693],[1623974400000,1.6871],[1624233600000,2.3223],[1624320000000,2.4119],[1624406400000,2.0216],[1624492800000,2.0216],[1624579200000,1.4991],[1624838400000,1.4635],[1624924800000,1.5925],[1625011200000,1.5862],[1625097600000,1.7838],[1625184000000,1.8669],[1625443200000,1.8627],[1625529600000,1.8194],[1625616000000,1.9506],[1625702400000,1.8779],[1625788800000,2.0065],[1626048000000,2.0092],[1626134400000,2.0654],[1626220800000,1.9906],[1626307200000,2.4743],[1626393600000,2.5337],[1626652800000,1.8795],[1626739200000,1.8973],[1626825600000,1.2479],[1626912000000,1.2689],[1626998400000,1.2482],[1627257600000,1.2362],[1627344000000,1.1437],[1627430400000,1.1658],[1627516800000,2.4982],[1627603200000,2.9063],[1627862400000,2.2141],[1627948800000,2.0608],[1628035200000,1.7547],[1628121600000,1.6979],[1628208000000,1.6644],[1628467200000,1.6868],[1628553600000,1.3923],[1628640000000,1.3921],[1628726400000,1.749],[1628812800000,1.6623],[1629072000000,2.2567],[1629158400000,2.2233],[1629244800000,2.11],[1629331200000,2.1343],[1629417600000,2.0572],[1629676800000,2.066],[1629763200000,2.1468],[1629849600000,2.1862],[1629936000000,1.4194],[1630022400000,1.422],[1630281600000,2.0465],[1630368000000,2.0868],[1630454400000,1.2815],[1630540800000,1.3023],[1630627200000,1.7563],[1630886400000,1.9512],[1630972800000,2.858],[1631059200000,2.9252],[1631145600000,1.8414],[1631232000000,1.7641],[1631491200000,2.0494],[1631577600000,1.9371],[1631664000000,2.4689],[1631750400000,2.5192],[1631836800000,2.1165],[1632268800000,2.1013],[1632355200000,2.549],[1632441600000,2.4789],[1632700800000,2.4906],[1632787200000,2.509],[1632873600000,1.7416],[1632960000000,1.7924],[1633651200000,2.0263],[1633910400000,2.0254],[1633996800000,1.9539],[1634083200000,1.8637],[1634169600000,1.9313],[1634256000000,1.9096],[1634515200000,1.6085],[1634601600000,1.6727],[1634688000000,2.7766],[1634774400000,2.7168],[1634860800000,1.6873],[1635120000000,1.6593]],\"color\":\"#E06681\"},{\"name\":\"4\\u5206\\u4f4d\\u6570\",\"yAxis\":0,\"data\":[[1609718400000,null],[1609804800000,null],[1609891200000,2.05],[1609977600000,2.0323],[1610064000000,2.0051],[1610323200000,1.9629],[1610409600000,1.8743],[1610496000000,1.8694],[1610582400000,2.2753],[1610668800000,2.233],[1610928000000,1.4541],[1611014400000,1.4596],[1611100800000,3.7549],[1611187200000,3.9387],[1611273600000,1.5935],[1611532800000,1.5805],[1611619200000,1.8827],[1611705600000,1.9042],[1611792000000,1.4389],[1611878400000,1.4276],[1612137600000,1.7779],[1612224000000,1.6921],[1612310400000,1.9747],[1612396800000,1.9044],[1612483200000,1.6461],[1612742400000,1.6246],[1612828800000,1.4031],[1612915200000,1.4219],[1613606400000,2.1567],[1613692800000,2.2169],[1613952000000,2.4258],[1614038400000,2.2544],[1614124800000,1.4834],[1614211200000,1.4834],[1614297600000,1.3842],[1614556800000,1.3973],[1614643200000,1.9563],[1614729600000,2.003],[1614816000000,2.0681],[1614902400000,2.0675],[1615161600000,1.3204],[1615248000000,1.3112],[1615334400000,2.1216],[1615420800000,2.1761],[1615507200000,2.0748],[1615766400000,2.1446],[1615852800000,1.707],[1615939200000,1.7359],[1616025600000,2.005],[1616112000000,1.9938],[1616371200000,2.5945],[1616457600000,2.5092],[1616544000000,1.6036],[1616630400000,1.5905],[1616716800000,1.428],[1616976000000,1.4641],[1617062400000,2.4587],[1617148800000,2.4052],[1617235200000,2.1234],[1617321600000,2.0805],[1617667200000,2.1846],[1617753600000,2.2391],[1617840000000,2.7399],[1617926400000,2.7754],[1618185600000,3.3475],[1618272000000,3.3181],[1618358400000,1.5663],[1618444800000,1.6358],[1618531200000,2.3811],[1618790400000,2.2818],[1618876800000,1.7886],[1618963200000,1.7648],[1619049600000,2.2344],[1619136000000,2.1894],[1619395200000,1.7523],[1619481600000,1.8369],[1619568000000,1.8785],[1619654400000,1.8751],[1619740800000,2.107],[1620259200000,2.1546],[1620345600000,2.6835],[1620604800000,2.695],[1620691200000,1.8755],[1620777600000,1.8669],[1620864000000,2.5478],[1620950400000,2.5476],[1621209600000,2.0865],[1621296000000,2.0999],[1621382400000,3.9119],[1621468800000,3.7955],[1621555200000,2.0378],[1621814400000,2.0519],[1621900800000,2.3039],[1621987200000,2.2422],[1622073600000,2.6483],[1622160000000,2.6801],[1622419200000,2.3163],[1622505600000,2.301],[1622592000000,2.2184],[1622678400000,2.1512],[1622764800000,2.7589],[1623024000000,2.7816],[1623110400000,1.8992],[1623196800000,1.8328],[1623283200000,1.7424],[1623369600000,1.7196],[1623715200000,1.8877],[1623801600000,1.8822],[1623888000000,1.7705],[1623974400000,1.8407],[1624233600000,1.889],[1624320000000,1.9062],[1624406400000,2.277],[1624492800000,2.2731],[1624579200000,2.2148],[1624838400000,2.3014],[1624924800000,1.7756],[1625011200000,1.7945],[1625097600000,3.1673],[1625184000000,3.224],[1625443200000,1.975],[1625529600000,1.9763],[1625616000000,2.6797],[1625702400000,2.6405],[1625788800000,1.956],[1626048000000,1.9536],[1626134400000,1.9795],[1626220800000,1.9468],[1626307200000,1.6128],[1626393600000,1.6272],[1626652800000,2.1172],[1626739200000,2.0759],[1626825600000,2.8346],[1626912000000,2.866],[1626998400000,3.5711],[1627257600000,3.5154],[1627344000000,2.2775],[1627430400000,2.2757],[1627516800000,1.486],[1627603200000,1.502],[1627862400000,2.1194],[1627948800000,2.0923],[1628035200000,2.4054],[1628121600000,2.3615],[1628208000000,2.7827],[1628467200000,2.7157],[1628553600000,1.9867],[1628640000000,2.1159],[1628726400000,2.2367],[1628812800000,2.1983],[1629072000000,1.942],[1629158400000,1.9304],[1629244800000,2.0087],[1629331200000,2.0038],[1629417600000,1.7638],[1629676800000,1.6909],[1629763200000,1.2917],[1629849600000,1.3123],[1629936000000,2.411],[1630022400000,2.3886],[1630281600000,1.6046],[1630368000000,1.6015],[1630454400000,3.2986],[1630540800000,3.5257],[1630627200000,1.6958],[1630886400000,1.7029],[1630972800000,1.6694],[1631059200000,1.7551],[1631145600000,2.7372],[1631232000000,2.6594],[1631491200000,2.1633],[1631577600000,2.1625],[1631664000000,1.8575],[1631750400000,1.86],[1631836800000,2.3459],[1632268800000,2.3619],[1632355200000,2.293],[1632441600000,2.2954],[1632700800000,1.6338],[1632787200000,1.6227],[1632873600000,1.6129],[1632960000000,1.6717],[1633651200000,2.4043],[1633910400000,2.4701],[1633996800000,1.8963],[1634083200000,1.9261],[1634169600000,1.474],[1634256000000,1.5436],[1634515200000,1.9755],[1634601600000,1.9413],[1634688000000,1.9905],[1634774400000,2.0591],[1634860800000,2.2522],[1635120000000,2.2226]],\"color\":\"#E2D269\"},{\"name\":\"5\\u5206\\u4f4d\\u6570\",\"yAxis\":0,\"data\":[[1609718400000,null],[1609804800000,null],[1609891200000,1.8972],[1609977600000,2.0034],[1610064000000,2.534],[1610323200000,2.6992],[1610409600000,2.2019],[1610496000000,2.1891],[1610582400000,1.8771],[1610668800000,1.7228],[1610928000000,3.3473],[1611014400000,3.6039],[1611100800000,1.7192],[1611187200000,1.7202],[1611273600000,2.3871],[1611532800000,2.4126],[1611619200000,2.3136],[1611705600000,2.402],[1611792000000,2.408],[1611878400000,2.404],[1612137600000,3.6377],[1612224000000,3.1361],[1612310400000,1.6111],[1612396800000,1.5406],[1612483200000,2.0777],[1612742400000,2.1584],[1612828800000,3.0202],[1612915200000,3.0259],[1613606400000,1.6032],[1613692800000,1.7108],[1613952000000,2.1941],[1614038400000,2.1925],[1614124800000,1.9114],[1614211200000,1.9358],[1614297600000,2.2324],[1614556800000,2.2466],[1614643200000,2.2723],[1614729600000,2.2448],[1614816000000,2.2257],[1614902400000,2.2146],[1615161600000,2.1738],[1615248000000,2.0667],[1615334400000,1.921],[1615420800000,1.9371],[1615507200000,2.441],[1615766400000,2.424],[1615852800000,2.04],[1615939200000,2.0698],[1616025600000,2.4337],[1616112000000,2.4473],[1616371200000,1.8075],[1616457600000,1.7737],[1616544000000,1.8358],[1616630400000,1.8286],[1616716800000,2.1144],[1616976000000,2.061],[1617062400000,1.9002],[1617148800000,1.9002],[1617235200000,2.2408],[1617321600000,2.1949],[1617667200000,2.1113],[1617753600000,2.1846],[1617840000000,1.7111],[1617926400000,1.6926],[1618185600000,2.2624],[1618272000000,2.2035],[1618358400000,2.136],[1618444800000,2.1128],[1618531200000,1.8423],[1618790400000,1.977],[1618876800000,2.039],[1618963200000,2.0403],[1619049600000,2.0851],[1619136000000,2.0651],[1619395200000,2.2591],[1619481600000,2.2658],[1619568000000,2.0299],[1619654400000,2.0259],[1619740800000,2.3056],[1620259200000,2.273],[1620345600000,2.0012],[1620604800000,1.9281],[1620691200000,2.0802],[1620777600000,2.0975],[1620864000000,1.9665],[1620950400000,1.9486],[1621209600000,1.8294],[1621296000000,1.8649],[1621382400000,2.0238],[1621468800000,2.0185],[1621555200000,1.8551],[1621814400000,1.8883],[1621900800000,2.0985],[1621987200000,2.1214],[1622073600000,2.0268],[1622160000000,2.056],[1622419200000,1.9307],[1622505600000,1.9311],[1622592000000,2.0674],[1622678400000,2.0749],[1622764800000,1.9611],[1623024000000,1.9119],[1623110400000,1.9943],[1623196800000,2.0062],[1623283200000,2.3232],[1623369600000,2.4186],[1623715200000,2.2477],[1623801600000,2.2967],[1623888000000,2.0224],[1623974400000,2.0683],[1624233600000,2.0332],[1624320000000,2.0308],[1624406400000,1.9662],[1624492800000,1.9949],[1624579200000,2.0411],[1624838400000,2.0547],[1624924800000,2.5129],[1625011200000,2.6321],[1625097600000,2.0212],[1625184000000,2.0218],[1625443200000,2.1653],[1625529600000,2.1955],[1625616000000,2.1744],[1625702400000,2.1745],[1625788800000,1.8554],[1626048000000,1.9079],[1626134400000,2.0461],[1626220800000,1.9544],[1626307200000,2.6672],[1626393600000,2.6297],[1626652800000,2.4323],[1626739200000,2.4398],[1626825600000,1.8435],[1626912000000,1.8222],[1626998400000,2.1113],[1627257600000,2.0759],[1627344000000,1.9903],[1627430400000,1.9495],[1627516800000,2.2683],[1627603200000,2.3121],[1627862400000,1.9284],[1627948800000,1.8785],[1628035200000,1.4664],[1628121600000,1.4222],[1628208000000,2.0975],[1628467200000,2.0976],[1628553600000,2.1643],[1628640000000,2.1807],[1628726400000,2.4255],[1628812800000,2.3916],[1629072000000,2.1861],[1629158400000,2.0939],[1629244800000,2.1432],[1629331200000,2.0679],[1629417600000,2.7418],[1629676800000,2.778],[1629763200000,2.3024],[1629849600000,2.4964],[1629936000000,2.1087],[1630022400000,2.1365],[1630281600000,2.3761],[1630368000000,2.39],[1630454400000,1.7896],[1630540800000,1.8196],[1630627200000,2.7373],[1630886400000,2.76],[1630972800000,2.1304],[1631059200000,2.1719],[1631145600000,2.3545],[1631232000000,2.3615],[1631491200000,2.4108],[1631577600000,2.403],[1631664000000,2.7106],[1631750400000,2.6401],[1631836800000,2.1725],[1632268800000,2.1338],[1632355200000,2.3193],[1632441600000,2.2851],[1632700800000,1.9459],[1632787200000,2.0258],[1632873600000,2.7994],[1632960000000,2.7752],[1633651200000,2.2997],[1633910400000,2.2317],[1633996800000,2.2237],[1634083200000,2.2204],[1634169600000,3.0785],[1634256000000,3.0022],[1634515200000,1.9817],[1634601600000,2.12],[1634688000000,1.8047],[1634774400000,1.79],[1634860800000,2.1296],[1635120000000,2.1447]],\"color\":\"#4A8E8E\"},{\"name\":\"\\u6700\\u5c0f\\/\\u6700\\u5927\\u5206\\u4f4d\",\"yAxis\":0,\"data\":[[1609718400000,null],[1609804800000,null],[1609891200000,1.1109],[1609977600000,1.0961],[1610064000000,0.88],[1610323200000,0.8066],[1610409600000,0.9965],[1610496000000,1.015],[1610582400000,1.2338],[1610668800000,1.3545],[1610928000000,0.6129],[1611014400000,0.5738],[1611100800000,1.9551],[1611187200000,1.9791],[1611273600000,0.7515],[1611532800000,0.762],[1611619200000,0.7859],[1611705600000,0.7623],[1611792000000,0.5824],[1611878400000,0.5958],[1612137600000,0.462],[1612224000000,0.5402],[1612310400000,1.3056],[1612396800000,1.3379],[1612483200000,0.785],[1612742400000,0.7528],[1612828800000,0.562],[1612915200000,0.5844],[1613606400000,1.1913],[1613692800000,1.1527],[1613952000000,0.9183],[1614038400000,0.9252],[1614124800000,0.9528],[1614211200000,0.9204],[1614297600000,0.876],[1614556800000,0.8939],[1614643200000,0.9168],[1614729600000,0.9077],[1614816000000,1.0148],[1614902400000,1.0107],[1615161600000,0.926],[1615248000000,0.971],[1615334400000,1.3209],[1615420800000,1.4055],[1615507200000,1.1179],[1615766400000,1.1425],[1615852800000,1.391],[1615939200000,1.3756],[1616025600000,0.8354],[1616112000000,0.8284],[1616371200000,1.4976],[1616457600000,1.5215],[1616544000000,1.1356],[1616630400000,1.0964],[1616716800000,1.1416],[1616976000000,1.159],[1617062400000,1.2303],[1617148800000,1.2524],[1617235200000,0.9927],[1617321600000,1.0021],[1617667200000,1.105],[1617753600000,1.1196],[1617840000000,1.647],[1617926400000,1.6622],[1618185600000,1.0727],[1618272000000,1.0384],[1618358400000,0.6498],[1618444800000,0.6433],[1618531200000,1.2211],[1618790400000,1.1536],[1618876800000,1.0319],[1618963200000,1.0297],[1619049600000,1.284],[1619136000000,1.3022],[1619395200000,0.8081],[1619481600000,0.8085],[1619568000000,1.0141],[1619654400000,1.0073],[1619740800000,0.8194],[1620259200000,0.8411],[1620345600000,1.2543],[1620604800000,1.3081],[1620691200000,0.9439],[1620777600000,0.9436],[1620864000000,1.3357],[1620950400000,1.4237],[1621209600000,1.1935],[1621296000000,1.1742],[1621382400000,1.3175],[1621468800000,1.3071],[1621555200000,1.4777],[1621814400000,1.5262],[1621900800000,0.9011],[1621987200000,0.9],[1622073600000,1.5546],[1622160000000,1.5779],[1622419200000,1.1135],[1622505600000,1.1109],[1622592000000,0.9772],[1622678400000,1.0049],[1622764800000,1.0433],[1623024000000,1.078],[1623110400000,1.0652],[1623196800000,1.0645],[1623283200000,0.8191],[1623369600000,0.7863],[1623715200000,0.6942],[1623801600000,0.696],[1623888000000,1.249],[1623974400000,1.214],[1624233600000,0.9454],[1624320000000,0.9664],[1624406400000,1.1183],[1624492800000,1.1233],[1624579200000,1.1007],[1624838400000,1.0899],[1624924800000,0.8526],[1625011200000,0.8221],[1625097600000,1.083],[1625184000000,1.076],[1625443200000,0.7562],[1625529600000,0.7448],[1625616000000,0.9419],[1625702400000,0.9337],[1625788800000,1.057],[1626048000000,1.0348],[1626134400000,0.9421],[1626220800000,0.9824],[1626307200000,0.4947],[1626393600000,0.5106],[1626652800000,0.7602],[1626739200000,0.7636],[1626825600000,1.8177],[1626912000000,1.8628],[1626998400000,1.1222],[1627257600000,1.1183],[1627344000000,1.0934],[1627430400000,1.0888],[1627516800000,0.853],[1627603200000,0.8371],[1627862400000,1.1157],[1627948800000,1.1031],[1628035200000,1.6671],[1628121600000,1.7166],[1628208000000,1.0242],[1628467200000,1.0417],[1628553600000,1.2146],[1628640000000,1.157],[1628726400000,0.9004],[1628812800000,0.9092],[1629072000000,0.9745],[1629158400000,0.9964],[1629244800000,0.9573],[1629331200000,0.9829],[1629417600000,0.6927],[1629676800000,0.7048],[1629763200000,0.8124],[1629849600000,0.7267],[1629936000000,1.0853],[1630022400000,1.1304],[1630281600000,0.6972],[1630368000000,0.7041],[1630454400000,1.7331],[1630540800000,1.7444],[1630627200000,0.6699],[1630886400000,0.6505],[1630972800000,0.8251],[1631059200000,0.8102],[1631145600000,1.144],[1631232000000,1.1248],[1631491200000,0.8756],[1631577600000,0.9124],[1631664000000,0.7573],[1631750400000,0.7633],[1631836800000,1.0234],[1632268800000,1.1426],[1632355200000,0.9417],[1632441600000,0.9078],[1632700800000,1.1466],[1632787200000,1.1215],[1632873600000,0.8386],[1632960000000,0.909],[1633651200000,0.8746],[1633910400000,0.954],[1633996800000,1.0984],[1634083200000,1.1259],[1634169600000,0.6964],[1634256000000,0.7161],[1634515200000,1.091],[1634601600000,1.0666],[1634688000000,1.4492],[1634774400000,1.4521],[1634860800000,1.0903],[1635120000000,1.0851]]}],\"xAxis\":{\"title\":{\"text\":\"date\"},\"type\":\"datetime\"},\"plotOptions\":{\"series\":{\"compare\":\"percent\"}}}/bigcharts-data-end</pre></div><div class=\"type_title_left\"><p>因子拥挤度分析<i class=\"fa fa-question-circle-o\" title=\"衡量因子拥挤度。使用换手率衡量，换手率越高，拥挤度越高。\"></i></p></div><div id=\"bigchart-b0c778a4888b4621b62270c5a9d848ac\" class=\"bigchart\"></div><div class=\"bigchart-data\"><pre style=\"display:none\">bigcharts-data-start/{\"chart\":{\"height\":500,\"renderTo\":\"bigchart-b0c778a4888b4621b62270c5a9d848ac\"},\"legend\":{\"enabled\":true},\"title\":{\"text\":\"\\u6362\\u624b\\u7387\\u5206\\u6790\"},\"stock\":true,\"series\":[{\"name\":\"1\\u5206\\u4f4d\\u6570\",\"yAxis\":0,\"data\":[[1609718400000,null],[1609804800000,null],[1609891200000,2.0734],[1609977600000,2.3534],[1610064000000,1.7897],[1610323200000,2.0122],[1610409600000,1.8082],[1610496000000,2.1203],[1610582400000,2.0038],[1610668800000,1.6795],[1610928000000,1.6069],[1611014400000,1.7222],[1611100800000,1.5126],[1611187200000,1.819],[1611273600000,1.6412],[1611532800000,1.7966],[1611619200000,1.7101],[1611705600000,1.5762],[1611792000000,1.5941],[1611878400000,1.6012],[1612137600000,1.3767],[1612224000000,1.5915],[1612310400000,1.4989],[1612396800000,1.4419],[1612483200000,1.5256],[1612742400000,1.2907],[1612828800000,1.184],[1612915200000,1.1258],[1613606400000,1.8405],[1613692800000,1.7431],[1613952000000,2.7519],[1614038400000,2.411],[1614124800000,2.0208],[1614211200000,2.0443],[1614297600000,1.6433],[1614556800000,1.5219],[1614643200000,1.5784],[1614729600000,1.4939],[1614816000000,2.3737],[1614902400000,2.1704],[1615161600000,1.7831],[1615248000000,1.8668],[1615334400000,1.5006],[1615420800000,1.4282],[1615507200000,1.7767],[1615766400000,1.5645],[1615852800000,1.4981],[1615939200000,1.357],[1616025600000,1.4162],[1616112000000,1.4399],[1616371200000,1.481],[1616457600000,1.4527],[1616544000000,1.2868],[1616630400000,1.2348],[1616716800000,1.2117],[1616976000000,1.237],[1617062400000,1.1611],[1617148800000,1.2362],[1617235200000,1.4191],[1617321600000,1.4049],[1617667200000,1.2281],[1617753600000,1.3963],[1617840000000,1.621],[1617926400000,1.2285],[1618185600000,1.7582],[1618272000000,1.3791],[1618358400000,1.0439],[1618444800000,1.1105],[1618531200000,1.2573],[1618790400000,1.2724],[1618876800000,1.3071],[1618963200000,1.3756],[1619049600000,1.7211],[1619136000000,1.7469],[1619395200000,1.6984],[1619481600000,1.4767],[1619568000000,1.3658],[1619654400000,1.5033],[1619740800000,1.9538],[1620259200000,1.9584],[1620345600000,1.8354],[1620604800000,1.7574],[1620691200000,1.834],[1620777600000,1.4685],[1620864000000,1.6037],[1620950400000,1.7077],[1621209600000,1.9323],[1621296000000,1.6922],[1621382400000,1.829],[1621468800000,2.0421],[1621555200000,1.6353],[1621814400000,2.2513],[1621900800000,1.9288],[1621987200000,2.2571],[1622073600000,1.9276],[1622160000000,1.894],[1622419200000,1.6203],[1622505600000,1.8252],[1622592000000,1.7467],[1622678400000,1.6542],[1622764800000,1.6775],[1623024000000,1.8072],[1623110400000,1.451],[1623196800000,1.2954],[1623283200000,1.3814],[1623369600000,1.4619],[1623715200000,1.4324],[1623801600000,1.2487],[1623888000000,1.5613],[1623974400000,1.8174],[1624233600000,1.8123],[1624320000000,1.784],[1624406400000,2.1146],[1624492800000,1.8656],[1624579200000,1.5654],[1624838400000,1.4419],[1624924800000,1.2786],[1625011200000,1.359],[1625097600000,1.504],[1625184000000,1.548],[1625443200000,1.469],[1625529600000,1.5959],[1625616000000,1.7944],[1625702400000,2.1993],[1625788800000,1.4727],[1626048000000,1.7364],[1626134400000,2.1504],[1626220800000,1.9901],[1626307200000,1.2581],[1626393600000,1.2002],[1626652800000,1.7531],[1626739200000,1.4561],[1626825600000,1.8295],[1626912000000,1.86],[1626998400000,2.2217],[1627257600000,2.1565],[1627344000000,2.2614],[1627430400000,2.2124],[1627516800000,1.749],[1627603200000,1.8869],[1627862400000,2.1396],[1627948800000,1.9296],[1628035200000,1.7314],[1628121600000,1.655],[1628208000000,1.9325],[1628467200000,1.9619],[1628553600000,2.3649],[1628640000000,2.1673],[1628726400000,1.8624],[1628812800000,1.7378],[1629072000000,1.8814],[1629158400000,2.1174],[1629244800000,1.8091],[1629331200000,1.8611],[1629417600000,2.0901],[1629676800000,2.3119],[1629763200000,1.8372],[1629849600000,1.6531],[1629936000000,2.1639],[1630022400000,2.0317],[1630281600000,2.5139],[1630368000000,2.3881],[1630454400000,3.0615],[1630540800000,2.4995],[1630627200000,2.1408],[1630886400000,2.0555],[1630972800000,2.2833],[1631059200000,2.4085],[1631145600000,3.149],[1631232000000,3.0256],[1631491200000,2.158],[1631577600000,2.3323],[1631664000000,1.7727],[1631750400000,2.1093],[1631836800000,2.0186],[1632268800000,1.8755],[1632355200000,1.887],[1632441600000,1.7701],[1632700800000,1.8358],[1632787200000,1.4128],[1632873600000,1.6183],[1632960000000,1.4614],[1633651200000,1.5991],[1633910400000,1.654],[1633996800000,1.3466],[1634083200000,1.1545],[1634169600000,1.2676],[1634256000000,1.3353],[1634515200000,1.8383],[1634601600000,1.5971],[1634688000000,2.2641],[1634774400000,2.1826],[1634860800000,1.5838],[1635120000000,1.4934]],\"color\":\"#F08B55\"},{\"name\":\"2\\u5206\\u4f4d\\u6570\",\"yAxis\":0,\"data\":[[1609718400000,null],[1609804800000,null],[1609891200000,1.5461],[1609977600000,1.5337],[1610064000000,2.4027],[1610323200000,2.6222],[1610409600000,2.3474],[1610496000000,2.6092],[1610582400000,1.9003],[1610668800000,1.5099],[1610928000000,1.9911],[1611014400000,2.2161],[1611100800000,1.4392],[1611187200000,1.7213],[1611273600000,2.3252],[1611532800000,2.4532],[1611619200000,1.973],[1611705600000,1.9631],[1611792000000,1.8655],[1611878400000,1.9504],[1612137600000,2.1351],[1612224000000,2.0707],[1612310400000,1.8916],[1612396800000,1.8461],[1612483200000,1.8925],[1612742400000,1.8306],[1612828800000,1.258],[1612915200000,1.2865],[1613606400000,1.684],[1613692800000,1.7883],[1613952000000,2.1374],[1614038400000,1.6373],[1614124800000,1.8323],[1614211200000,1.7784],[1614297600000,1.409],[1614556800000,1.3642],[1614643200000,1.7345],[1614729600000,1.8396],[1614816000000,1.3954],[1614902400000,1.3905],[1615161600000,1.5946],[1615248000000,1.7119],[1615334400000,1.5116],[1615420800000,1.8226],[1615507200000,1.3207],[1615766400000,1.2555],[1615852800000,1.9966],[1615939200000,1.6396],[1616025600000,1.262],[1616112000000,1.4043],[1616371200000,1.4318],[1616457600000,1.5427],[1616544000000,1.5604],[1616630400000,1.3973],[1616716800000,1.1935],[1616976000000,1.3189],[1617062400000,1.4655],[1617148800000,1.2874],[1617235200000,1.1438],[1617321600000,1.678],[1617667200000,1.3119],[1617753600000,1.5659],[1617840000000,1.5296],[1617926400000,1.3926],[1618185600000,1.3098],[1618272000000,1.0945],[1618358400000,1.1246],[1618444800000,1.191],[1618531200000,1.2895],[1618790400000,1.404],[1618876800000,1.4379],[1618963200000,1.1291],[1619049600000,1.278],[1619136000000,1.1659],[1619395200000,1.7305],[1619481600000,1.4682],[1619568000000,1.2469],[1619654400000,1.2223],[1619740800000,1.6084],[1620259200000,1.5332],[1620345600000,1.577],[1620604800000,1.7279],[1620691200000,1.4943],[1620777600000,1.4401],[1620864000000,1.5532],[1620950400000,1.477],[1621209600000,1.2751],[1621296000000,0.9364],[1621382400000,1.3693],[1621468800000,1.7654],[1621555200000,1.6647],[1621814400000,1.6012],[1621900800000,1.575],[1621987200000,1.5244],[1622073600000,2.1673],[1622160000000,2.2156],[1622419200000,2.0614],[1622505600000,2.0064],[1622592000000,1.7132],[1622678400000,1.6346],[1622764800000,1.173],[1623024000000,1.0532],[1623110400000,1.5908],[1623196800000,1.4943],[1623283200000,1.6471],[1623369600000,2.0079],[1623715200000,2.0547],[1623801600000,1.7593],[1623888000000,1.1049],[1623974400000,1.2975],[1624233600000,1.449],[1624320000000,1.3029],[1624406400000,1.4973],[1624492800000,1.5262],[1624579200000,1.2785],[1624838400000,1.3653],[1624924800000,1.5367],[1625011200000,1.4369],[1625097600000,1.1219],[1625184000000,0.9915],[1625443200000,1.8784],[1625529600000,2.1029],[1625616000000,1.3555],[1625702400000,1.5704],[1625788800000,2.2634],[1626048000000,2.941],[1626134400000,1.7781],[1626220800000,1.7803],[1626307200000,2.0043],[1626393600000,2.2535],[1626652800000,1.5944],[1626739200000,1.2977],[1626825600000,2.2393],[1626912000000,2.4403],[1626998400000,2.1424],[1627257600000,2.1972],[1627344000000,2.6828],[1627430400000,2.35],[1627516800000,2.1401],[1627603200000,2.2361],[1627862400000,2.2261],[1627948800000,2.4002],[1628035200000,2.0272],[1628121600000,2.1982],[1628208000000,1.2262],[1628467200000,1.3405],[1628553600000,1.6345],[1628640000000,1.7036],[1628726400000,1.826],[1628812800000,1.9261],[1629072000000,1.6602],[1629158400000,1.6558],[1629244800000,2.2009],[1629331200000,2.4565],[1629417600000,1.9902],[1629676800000,2.0298],[1629763200000,1.8882],[1629849600000,1.8134],[1629936000000,2.0851],[1630022400000,2.1673],[1630281600000,3.0276],[1630368000000,2.9591],[1630454400000,2.2309],[1630540800000,2.3567],[1630627200000,3.6739],[1630886400000,2.9771],[1630972800000,2.7081],[1631059200000,3.0274],[1631145600000,2.6547],[1631232000000,2.9125],[1631491200000,2.5353],[1631577600000,2.4782],[1631664000000,2.0561],[1631750400000,2.9271],[1631836800000,2.3211],[1632268800000,1.6796],[1632355200000,1.8914],[1632441600000,1.9488],[1632700800000,2.7732],[1632787200000,2.0275],[1632873600000,1.9089],[1632960000000,1.5939],[1633651200000,1.2157],[1633910400000,1.1443],[1633996800000,2.0919],[1634083200000,1.6512],[1634169600000,1.4332],[1634256000000,1.6082],[1634515200000,1.7321],[1634601600000,1.7005],[1634688000000,1.048],[1634774400000,1.0299],[1634860800000,1.7958],[1635120000000,1.5274]],\"color\":\"#648FD5\"},{\"name\":\"3\\u5206\\u4f4d\\u6570\",\"yAxis\":0,\"data\":[[1609718400000,null],[1609804800000,null],[1609891200000,2.5656],[1609977600000,2.6758],[1610064000000,1.5858],[1610323200000,1.7857],[1610409600000,1.6043],[1610496000000,1.7948],[1610582400000,2.2579],[1610668800000,2.2549],[1610928000000,1.9964],[1611014400000,2.1542],[1611100800000,1.4759],[1611187200000,1.7145],[1611273600000,1.79],[1611532800000,1.9813],[1611619200000,1.5653],[1611705600000,1.6332],[1611792000000,1.8359],[1611878400000,1.8205],[1612137600000,1.3411],[1612224000000,1.3982],[1612310400000,1.4755],[1612396800000,1.6129],[1612483200000,1.3121],[1612742400000,1.2979],[1612828800000,1.6428],[1612915200000,1.5679],[1613606400000,1.9162],[1613692800000,1.9453],[1613952000000,2.5851],[1614038400000,1.7677],[1614124800000,1.7437],[1614211200000,1.5036],[1614297600000,1.923],[1614556800000,1.9417],[1614643200000,1.8598],[1614729600000,1.9393],[1614816000000,2.0064],[1614902400000,1.7346],[1615161600000,2.0373],[1615248000000,2.0571],[1615334400000,1.4328],[1615420800000,1.497],[1615507200000,1.4714],[1615766400000,1.3674],[1615852800000,1.2354],[1615939200000,1.2156],[1616025600000,1.836],[1616112000000,1.8823],[1616371200000,1.5914],[1616457600000,1.5465],[1616544000000,1.4668],[1616630400000,1.1923],[1616716800000,1.415],[1616976000000,1.5984],[1617062400000,1.6883],[1617148800000,1.4667],[1617235200000,1.1455],[1617321600000,1.2268],[1617667200000,1.4025],[1617753600000,1.6503],[1617840000000,2.058],[1617926400000,1.7127],[1618185600000,1.2034],[1618272000000,1.1218],[1618358400000,1.2015],[1618444800000,1.3051],[1618531200000,1.2788],[1618790400000,1.5798],[1618876800000,1.8859],[1618963200000,1.4875],[1619049600000,1.2347],[1619136000000,1.305],[1619395200000,1.6944],[1619481600000,1.4001],[1619568000000,1.36],[1619654400000,1.5198],[1619740800000,1.1688],[1620259200000,1.0107],[1620345600000,1.343],[1620604800000,1.5993],[1620691200000,1.4773],[1620777600000,1.3779],[1620864000000,1.6947],[1620950400000,1.6642],[1621209600000,1.8132],[1621296000000,1.7978],[1621382400000,1.1633],[1621468800000,1.5338],[1621555200000,1.4201],[1621814400000,1.3403],[1621900800000,1.8197],[1621987200000,2.0149],[1622073600000,1.2377],[1622160000000,1.2965],[1622419200000,1.5836],[1622505600000,1.6236],[1622592000000,1.7049],[1622678400000,1.6709],[1622764800000,1.7523],[1623024000000,1.734],[1623110400000,1.6852],[1623196800000,1.5752],[1623283200000,1.7889],[1623369600000,1.8527],[1623715200000,1.6447],[1623801600000,1.7071],[1623888000000,1.0119],[1623974400000,1.0719],[1624233600000,1.7732],[1624320000000,1.7937],[1624406400000,1.5811],[1624492800000,1.4947],[1624579200000,1.8584],[1624838400000,1.6945],[1624924800000,1.6867],[1625011200000,1.6194],[1625097600000,1.8851],[1625184000000,1.6731],[1625443200000,1.4206],[1625529600000,1.7661],[1625616000000,1.0639],[1625702400000,1.3897],[1625788800000,1.2718],[1626048000000,1.4486],[1626134400000,1.7983],[1626220800000,1.6002],[1626307200000,2.1809],[1626393600000,2.4942],[1626652800000,2.0966],[1626739200000,1.6358],[1626825600000,1.2905],[1626912000000,1.4603],[1626998400000,1.9604],[1627257600000,1.6347],[1627344000000,1.4443],[1627430400000,1.1886],[1627516800000,2.4923],[1627603200000,2.8366],[1627862400000,2.5854],[1627948800000,2.2755],[1628035200000,1.7004],[1628121600000,1.866],[1628208000000,1.9375],[1628467200000,2.088],[1628553600000,1.1795],[1628640000000,1.5342],[1628726400000,2.2011],[1628812800000,2.0653],[1629072000000,2.2487],[1629158400000,2.5981],[1629244800000,1.6444],[1629331200000,1.7001],[1629417600000,1.5944],[1629676800000,1.5819],[1629763200000,2.3769],[1629849600000,2.4815],[1629936000000,2.0664],[1630022400000,2.0195],[1630281600000,1.8784],[1630368000000,1.9993],[1630454400000,2.3189],[1630540800000,1.8826],[1630627200000,2.3734],[1630886400000,2.0567],[1630972800000,2.3065],[1631059200000,2.1828],[1631145600000,1.9068],[1631232000000,1.9061],[1631491200000,2.8284],[1631577600000,2.8584],[1631664000000,1.9758],[1631750400000,2.3114],[1631836800000,1.8614],[1632268800000,1.4793],[1632355200000,2.2275],[1632441600000,2.0073],[1632700800000,2.3425],[1632787200000,1.5088],[1632873600000,1.2461],[1632960000000,1.0476],[1633651200000,1.7117],[1633910400000,1.7167],[1633996800000,1.8785],[1634083200000,1.3688],[1634169600000,1.2735],[1634256000000,1.497],[1634515200000,1.3896],[1634601600000,1.3353],[1634688000000,1.0349],[1634774400000,1.11],[1634860800000,1.5858],[1635120000000,1.563]],\"color\":\"#E06681\"},{\"name\":\"4\\u5206\\u4f4d\\u6570\",\"yAxis\":0,\"data\":[[1609718400000,null],[1609804800000,null],[1609891200000,2.0722],[1609977600000,2.7122],[1610064000000,2.0068],[1610323200000,2.0349],[1610409600000,1.5198],[1610496000000,1.8408],[1610582400000,1.8614],[1610668800000,1.5538],[1610928000000,1.0295],[1611014400000,1.189],[1611100800000,1.7335],[1611187200000,2.2446],[1611273600000,1.5054],[1611532800000,1.638],[1611619200000,1.5687],[1611705600000,1.292],[1611792000000,1.3086],[1611878400000,1.455],[1612137600000,1.2287],[1612224000000,1.1559],[1612310400000,1.8888],[1612396800000,1.8576],[1612483200000,1.4601],[1612742400000,1.3587],[1612828800000,1.2985],[1612915200000,1.3144],[1613606400000,1.7884],[1613692800000,1.7489],[1613952000000,2.4157],[1614038400000,1.9652],[1614124800000,1.8455],[1614211200000,1.7887],[1614297600000,1.7959],[1614556800000,1.7858],[1614643200000,1.312],[1614729600000,1.2697],[1614816000000,1.6048],[1614902400000,1.3867],[1615161600000,1.8302],[1615248000000,1.879],[1615334400000,1.0444],[1615420800000,1.053],[1615507200000,1.5631],[1615766400000,1.6877],[1615852800000,1.3695],[1615939200000,1.3908],[1616025600000,1.3101],[1616112000000,1.4773],[1616371200000,1.4346],[1616457600000,1.3271],[1616544000000,1.4513],[1616630400000,1.3275],[1616716800000,1.1572],[1616976000000,1.317],[1617062400000,1.3676],[1617148800000,1.428],[1617235200000,1.1682],[1617321600000,1.2397],[1617667200000,1.0056],[1617753600000,1.255],[1617840000000,1.2162],[1617926400000,1.1345],[1618185600000,1.5626],[1618272000000,1.2767],[1618358400000,1.0536],[1618444800000,0.9788],[1618531200000,1.2162],[1618790400000,1.404],[1618876800000,1.6109],[1618963200000,1.3931],[1619049600000,1.1591],[1619136000000,1.2449],[1619395200000,1.3285],[1619481600000,1.228],[1619568000000,1.4561],[1619654400000,1.421],[1619740800000,1.6366],[1620259200000,1.8125],[1620345600000,1.4231],[1620604800000,1.5796],[1620691200000,1.6666],[1620777600000,1.4321],[1620864000000,1.1939],[1620950400000,1.315],[1621209600000,1.8865],[1621296000000,1.4278],[1621382400000,1.3122],[1621468800000,1.6007],[1621555200000,1.1045],[1621814400000,1.1775],[1621900800000,1.5948],[1621987200000,1.6821],[1622073600000,1.5314],[1622160000000,1.6499],[1622419200000,1.4924],[1622505600000,1.5039],[1622592000000,1.6899],[1622678400000,1.7693],[1622764800000,1.8815],[1623024000000,2.0397],[1623110400000,1.3433],[1623196800000,1.2155],[1623283200000,1.5113],[1623369600000,1.766],[1623715200000,0.9751],[1623801600000,0.9462],[1623888000000,1.7074],[1623974400000,1.8574],[1624233600000,1.5803],[1624320000000,1.6581],[1624406400000,1.7235],[1624492800000,1.5404],[1624579200000,1.6486],[1624838400000,1.7005],[1624924800000,1.2789],[1625011200000,1.2307],[1625097600000,1.5471],[1625184000000,1.5715],[1625443200000,1.1545],[1625529600000,1.2471],[1625616000000,2.1628],[1625702400000,2.6044],[1625788800000,1.5457],[1626048000000,1.7007],[1626134400000,1.9905],[1626220800000,1.9495],[1626307200000,1.5326],[1626393600000,1.4046],[1626652800000,1.6566],[1626739200000,1.3068],[1626825600000,1.5479],[1626912000000,1.7987],[1626998400000,2.1906],[1627257600000,2.5419],[1627344000000,2.312],[1627430400000,2.1488],[1627516800000,1.1809],[1627603200000,1.3125],[1627862400000,2.1196],[1627948800000,2.0924],[1628035200000,1.9042],[1628121600000,1.982],[1628208000000,1.9718],[1628467200000,2.038],[1628553600000,2.3616],[1628640000000,2.3632],[1628726400000,1.2253],[1628812800000,1.2881],[1629072000000,1.956],[1629158400000,2.1392],[1629244800000,1.1031],[1629331200000,1.0188],[1629417600000,1.2541],[1629676800000,1.4544],[1629763200000,1.54],[1629849600000,1.349],[1629936000000,1.7119],[1630022400000,1.7217],[1630281600000,1.9877],[1630368000000,1.7758],[1630454400000,2.9331],[1630540800000,2.3625],[1630627200000,1.5826],[1630886400000,1.6013],[1630972800000,1.9598],[1631059200000,2.6107],[1631145600000,2.6235],[1631232000000,2.9923],[1631491200000,1.9143],[1631577600000,1.9903],[1631664000000,1.4521],[1631750400000,1.5931],[1631836800000,2.0396],[1632268800000,1.7459],[1632355200000,1.8383],[1632441600000,1.8775],[1632700800000,1.5909],[1632787200000,1.3351],[1632873600000,1.7067],[1632960000000,1.4894],[1633651200000,1.5894],[1633910400000,1.5662],[1633996800000,1.2387],[1634083200000,1.1833],[1634169600000,1.2056],[1634256000000,1.2305],[1634515200000,1.3674],[1634601600000,1.3626],[1634688000000,1.9437],[1634774400000,1.8828],[1634860800000,1.6474],[1635120000000,1.6117]],\"color\":\"#E2D269\"},{\"name\":\"5\\u5206\\u4f4d\\u6570\",\"yAxis\":0,\"data\":[[1609718400000,null],[1609804800000,null],[1609891200000,1.5731],[1609977600000,1.5923],[1610064000000,2.0504],[1610323200000,2.3219],[1610409600000,2.1937],[1610496000000,2.4524],[1610582400000,1.6378],[1610668800000,1.3752],[1610928000000,1.6825],[1611014400000,1.769],[1611100800000,1.2007],[1611187200000,1.4976],[1611273600000,1.9154],[1611532800000,1.837],[1611619200000,1.6641],[1611705600000,1.7181],[1611792000000,1.7422],[1611878400000,1.7913],[1612137600000,1.5912],[1612224000000,1.7406],[1612310400000,1.5776],[1612396800000,1.6492],[1612483200000,1.4911],[1612742400000,1.3008],[1612828800000,1.5647],[1612915200000,1.6024],[1613606400000,1.85],[1613692800000,1.9861],[1613952000000,2.3067],[1614038400000,1.6883],[1614124800000,1.742],[1614211200000,1.5522],[1614297600000,1.5102],[1614556800000,1.4532],[1614643200000,1.7664],[1614729600000,1.6421],[1614816000000,1.5207],[1614902400000,1.4304],[1615161600000,1.4873],[1615248000000,1.5447],[1615334400000,1.379],[1615420800000,1.3499],[1615507200000,1.6676],[1615766400000,1.4328],[1615852800000,1.2898],[1615939200000,1.2777],[1616025600000,1.366],[1616112000000,1.3557],[1616371200000,1.4795],[1616457600000,1.5745],[1616544000000,1.223],[1616630400000,0.9619],[1616716800000,1.5783],[1616976000000,1.605],[1617062400000,1.1652],[1617148800000,0.9974],[1617235200000,1.2328],[1617321600000,1.2098],[1617667200000,1.1125],[1617753600000,1.5282],[1617840000000,1.4511],[1617926400000,1.0512],[1618185600000,2.0051],[1618272000000,1.2479],[1618358400000,1.1116],[1618444800000,1.2382],[1618531200000,1.6125],[1618790400000,1.9149],[1618876800000,1.2147],[1618963200000,1.0717],[1619049600000,1.3942],[1619136000000,1.3177],[1619395200000,1.4412],[1619481600000,1.146],[1619568000000,1.157],[1619654400000,1.5128],[1619740800000,1.488],[1620259200000,1.2818],[1620345600000,1.6557],[1620604800000,1.5119],[1620691200000,1.5175],[1620777600000,1.1755],[1620864000000,1.4126],[1620950400000,1.3659],[1621209600000,1.2336],[1621296000000,0.9702],[1621382400000,1.3006],[1621468800000,1.4788],[1621555200000,1.1683],[1621814400000,1.3511],[1621900800000,1.1026],[1621987200000,1.3111],[1622073600000,1.3443],[1622160000000,1.5612],[1622419200000,1.5306],[1622505600000,1.6751],[1622592000000,1.3801],[1622678400000,1.328],[1622764800000,1.1201],[1623024000000,1.1313],[1623110400000,1.7019],[1623196800000,1.6038],[1623283200000,1.9868],[1623369600000,2.3344],[1623715200000,1.828],[1623801600000,1.6381],[1623888000000,1.331],[1623974400000,1.5383],[1624233600000,1.2631],[1624320000000,1.1928],[1624406400000,1.7074],[1624492800000,1.5962],[1624579200000,1.3838],[1624838400000,1.5227],[1624924800000,1.5425],[1625011200000,1.4649],[1625097600000,1.7529],[1625184000000,1.7501],[1625443200000,1.5599],[1625529600000,1.6906],[1625616000000,1.0628],[1625702400000,1.3785],[1625788800000,1.4542],[1626048000000,2.1432],[1626134400000,1.6168],[1626220800000,1.6248],[1626307200000,2.1278],[1626393600000,2.2954],[1626652800000,1.833],[1626739200000,1.8105],[1626825600000,1.6191],[1626912000000,1.7821],[1626998400000,2.0275],[1627257600000,1.8348],[1627344000000,2.0243],[1627430400000,1.9405],[1627516800000,1.6664],[1627603200000,1.7759],[1627862400000,1.823],[1627948800000,1.8503],[1628035200000,1.4725],[1628121600000,1.461],[1628208000000,1.51],[1628467200000,1.5828],[1628553600000,1.6313],[1628640000000,1.6579],[1628726400000,2.0772],[1628812800000,2.0167],[1629072000000,1.212],[1629158400000,1.3862],[1629244800000,1.9125],[1629331200000,1.6771],[1629417600000,1.7934],[1629676800000,1.944],[1629763200000,1.8398],[1629849600000,2.0797],[1629936000000,2.2879],[1630022400000,2.3172],[1630281600000,2.4236],[1630368000000,2.4357],[1630454400000,2.1898],[1630540800000,2.028],[1630627200000,2.4497],[1630886400000,2.3495],[1630972800000,2.2506],[1631059200000,2.5159],[1631145600000,1.9488],[1631232000000,2.0002],[1631491200000,2.0583],[1631577600000,2.0587],[1631664000000,2.211],[1631750400000,2.6888],[1631836800000,1.7487],[1632268800000,1.5807],[1632355200000,1.8743],[1632441600000,1.9515],[1632700800000,1.7807],[1632787200000,1.3661],[1632873600000,1.6498],[1632960000000,1.3672],[1633651200000,1.8082],[1633910400000,1.7221],[1633996800000,1.6496],[1634083200000,1.3257],[1634169600000,1.3669],[1634256000000,1.6232],[1634515200000,1.3162],[1634601600000,1.424],[1634688000000,1.4213],[1634774400000,1.3666],[1634860800000,1.3694],[1635120000000,1.3161]],\"color\":\"#4A8E8E\"},{\"name\":\"\\u6700\\u5c0f\\/\\u6700\\u5927\\u5206\\u4f4d\",\"yAxis\":0,\"data\":[[1609718400000,null],[1609804800000,null],[1609891200000,1.3181],[1609977600000,1.478],[1610064000000,0.8728],[1610323200000,0.8666],[1610409600000,0.8243],[1610496000000,0.8646],[1610582400000,1.2235],[1610668800000,1.2212],[1610928000000,0.955],[1611014400000,0.9736],[1611100800000,1.2597],[1611187200000,1.2146],[1611273600000,0.8568],[1611532800000,0.978],[1611619200000,1.0276],[1611705600000,0.9174],[1611792000000,0.915],[1611878400000,0.8939],[1612137600000,0.8652],[1612224000000,0.9143],[1612310400000,0.9501],[1612396800000,0.8743],[1612483200000,1.0232],[1612742400000,0.9922],[1612828800000,0.7567],[1612915200000,0.7026],[1613606400000,0.9948],[1613692800000,0.8776],[1613952000000,1.193],[1614038400000,1.428],[1614124800000,1.16],[1614211200000,1.317],[1614297600000,1.0882],[1614556800000,1.0472],[1614643200000,0.8936],[1614729600000,0.9098],[1614816000000,1.561],[1614902400000,1.5173],[1615161600000,1.1989],[1615248000000,1.2085],[1615334400000,1.0882],[1615420800000,1.058],[1615507200000,1.0654],[1615766400000,1.0919],[1615852800000,1.1615],[1615939200000,1.0621],[1616025600000,1.0368],[1616112000000,1.0621],[1616371200000,1.0011],[1616457600000,0.9226],[1616544000000,1.0522],[1616630400000,1.2837],[1616716800000,0.7677],[1616976000000,0.7707],[1617062400000,0.9965],[1617148800000,1.2394],[1617235200000,1.1512],[1617321600000,1.1612],[1617667200000,1.1039],[1617753600000,0.9137],[1617840000000,1.1171],[1617926400000,1.1687],[1618185600000,0.8769],[1618272000000,1.1051],[1618358400000,0.9392],[1618444800000,0.8969],[1618531200000,0.7797],[1618790400000,0.6644],[1618876800000,1.0761],[1618963200000,1.2836],[1619049600000,1.2345],[1619136000000,1.3257],[1619395200000,1.1784],[1619481600000,1.2886],[1619568000000,1.1804],[1619654400000,0.9937],[1619740800000,1.3131],[1620259200000,1.5278],[1620345600000,1.1086],[1620604800000,1.1623],[1620691200000,1.2085],[1620777600000,1.2493],[1620864000000,1.1353],[1620950400000,1.2503],[1621209600000,1.5663],[1621296000000,1.7441],[1621382400000,1.4062],[1621468800000,1.3809],[1621555200000,1.3997],[1621814400000,1.6663],[1621900800000,1.7492],[1621987200000,1.7216],[1622073600000,1.4339],[1622160000000,1.2132],[1622419200000,1.0586],[1622505600000,1.0896],[1622592000000,1.2657],[1622678400000,1.2456],[1622764800000,1.4976],[1623024000000,1.5975],[1623110400000,0.8526],[1623196800000,0.8077],[1623283200000,0.6953],[1623369600000,0.6262],[1623715200000,0.7836],[1623801600000,0.7623],[1623888000000,1.173],[1623974400000,1.1814],[1624233600000,1.4348],[1624320000000,1.4957],[1624406400000,1.2384],[1624492800000,1.1688],[1624579200000,1.1312],[1624838400000,0.9469],[1624924800000,0.8289],[1625011200000,0.9277],[1625097600000,0.858],[1625184000000,0.8845],[1625443200000,0.9417],[1625529600000,0.944],[1625616000000,1.6883],[1625702400000,1.5954],[1625788800000,1.0127],[1626048000000,0.8102],[1626134400000,1.33],[1626220800000,1.2248],[1626307200000,0.5913],[1626393600000,0.5229],[1626652800000,0.9564],[1626739200000,0.8042],[1626825600000,1.1299],[1626912000000,1.0437],[1626998400000,1.0958],[1627257600000,1.1753],[1627344000000,1.1171],[1627430400000,1.1401],[1627516800000,1.0496],[1627603200000,1.0625],[1627862400000,1.1736],[1627948800000,1.0429],[1628035200000,1.1758],[1628121600000,1.1328],[1628208000000,1.2798],[1628467200000,1.2395],[1628553600000,1.4497],[1628640000000,1.3073],[1628726400000,0.8966],[1628812800000,0.8617],[1629072000000,1.5523],[1629158400000,1.5274],[1629244800000,0.9459],[1629331200000,1.1097],[1629417600000,1.1655],[1629676800000,1.1893],[1629763200000,0.9986],[1629849600000,0.7949],[1629936000000,0.9458],[1630022400000,0.8768],[1630281600000,1.0373],[1630368000000,0.9805],[1630454400000,1.3981],[1630540800000,1.2325],[1630627200000,0.8739],[1630886400000,0.8749],[1630972800000,1.0145],[1631059200000,0.9573],[1631145600000,1.6159],[1631232000000,1.5127],[1631491200000,1.0485],[1631577600000,1.1329],[1631664000000,0.8017],[1631750400000,0.7845],[1631836800000,1.1543],[1632268800000,1.1865],[1632355200000,1.0068],[1632441600000,0.907],[1632700800000,1.0309],[1632787200000,1.0342],[1632873600000,0.9809],[1632960000000,1.0689],[1633651200000,0.8844],[1633910400000,0.9605],[1633996800000,0.8163],[1634083200000,0.8708],[1634169600000,0.9273],[1634256000000,0.8226],[1634515200000,1.3967],[1634601600000,1.1215],[1634688000000,1.593],[1634774400000,1.5971],[1634860800000,1.1566],[1635120000000,1.1347]]}],\"xAxis\":{\"title\":{\"text\":\"date\"},\"type\":\"datetime\"},\"plotOptions\":{\"series\":{\"compare\":\"percent\"}}}/bigcharts-data-end</pre></div><div class=\"cols\">\n",
       "            \n",
       "                \n",
       "                <div class=\"col\"><div class=\"type_title_left\"><p>因子值最小的20只股票 <span>(2021-10-25)</span></p></div>\n",
       "        <div class=\"factorlens-stocks-wrapper\">\n",
       "            <table class=\"factor_table stocks\">\n",
       "                <thead>\n",
       "                    <tr>\n",
       "                        <th>股票名称</th>\n",
       "                        <th>股票代码</th>\n",
       "                        <th>因子值</th>\n",
       "                    </tr>\n",
       "                </thead>\n",
       "                <tbody>\n",
       "            <tr>\n",
       "                <td>中直股份</td>\n",
       "                <td>600038.SHA</td>\n",
       "                <td>-1.0000</td>\n",
       "            </tr>\n",
       "            \n",
       "            <tr>\n",
       "                <td>中际旭创</td>\n",
       "                <td>300308.SZA</td>\n",
       "                <td>-1.0000</td>\n",
       "            </tr>\n",
       "            \n",
       "            <tr>\n",
       "                <td>华宇软件</td>\n",
       "                <td>300271.SZA</td>\n",
       "                <td>-1.0000</td>\n",
       "            </tr>\n",
       "            \n",
       "            <tr>\n",
       "                <td>福田汽车</td>\n",
       "                <td>600166.SHA</td>\n",
       "                <td>-1.0000</td>\n",
       "            </tr>\n",
       "            \n",
       "            <tr>\n",
       "                <td>中科软</td>\n",
       "                <td>603927.SHA</td>\n",
       "                <td>-1.0000</td>\n",
       "            </tr>\n",
       "            \n",
       "            <tr>\n",
       "                <td>华胜天成</td>\n",
       "                <td>600410.SHA</td>\n",
       "                <td>-1.0000</td>\n",
       "            </tr>\n",
       "            \n",
       "            <tr>\n",
       "                <td>四川长虹</td>\n",
       "                <td>600839.SHA</td>\n",
       "                <td>-1.0000</td>\n",
       "            </tr>\n",
       "            \n",
       "            <tr>\n",
       "                <td>贵阳银行</td>\n",
       "                <td>601997.SHA</td>\n",
       "                <td>-1.0000</td>\n",
       "            </tr>\n",
       "            \n",
       "            <tr>\n",
       "                <td>维信诺</td>\n",
       "                <td>002387.SZA</td>\n",
       "                <td>-1.0000</td>\n",
       "            </tr>\n",
       "            \n",
       "            <tr>\n",
       "                <td>虹软科技</td>\n",
       "                <td>688088.SHA</td>\n",
       "                <td>-1.0000</td>\n",
       "            </tr>\n",
       "            \n",
       "            <tr>\n",
       "                <td>达安基因</td>\n",
       "                <td>002030.SZA</td>\n",
       "                <td>-1.0000</td>\n",
       "            </tr>\n",
       "            \n",
       "            <tr>\n",
       "                <td>星网锐捷</td>\n",
       "                <td>002396.SZA</td>\n",
       "                <td>-1.0000</td>\n",
       "            </tr>\n",
       "            \n",
       "            <tr>\n",
       "                <td>光迅科技</td>\n",
       "                <td>002281.SZA</td>\n",
       "                <td>-1.0000</td>\n",
       "            </tr>\n",
       "            \n",
       "            <tr>\n",
       "                <td>鄂武商A</td>\n",
       "                <td>000501.SZA</td>\n",
       "                <td>-1.0000</td>\n",
       "            </tr>\n",
       "            \n",
       "            <tr>\n",
       "                <td>新宙邦</td>\n",
       "                <td>300037.SZA</td>\n",
       "                <td>-1.0000</td>\n",
       "            </tr>\n",
       "            \n",
       "            <tr>\n",
       "                <td>中远海能</td>\n",
       "                <td>600026.SHA</td>\n",
       "                <td>-1.0000</td>\n",
       "            </tr>\n",
       "            \n",
       "            <tr>\n",
       "                <td>燕京啤酒</td>\n",
       "                <td>000729.SZA</td>\n",
       "                <td>-1.0000</td>\n",
       "            </tr>\n",
       "            \n",
       "            <tr>\n",
       "                <td>太极实业</td>\n",
       "                <td>600667.SHA</td>\n",
       "                <td>-1.0000</td>\n",
       "            </tr>\n",
       "            \n",
       "            <tr>\n",
       "                <td>红日药业</td>\n",
       "                <td>300026.SZA</td>\n",
       "                <td>-1.0000</td>\n",
       "            </tr>\n",
       "            \n",
       "            <tr>\n",
       "                <td>丸美股份</td>\n",
       "                <td>603983.SHA</td>\n",
       "                <td>-1.0000</td>\n",
       "            </tr>\n",
       "            \n",
       "                </tbody>\n",
       "            </table>\n",
       "        </div>\n",
       "        </div>\n",
       "                \n",
       "            \n",
       "                \n",
       "                <div class=\"col\"><div class=\"type_title_left\"><p>因子值最大的20只股票 <span>(2021-10-25)</span></p></div>\n",
       "        <div class=\"factorlens-stocks-wrapper\">\n",
       "            <table class=\"factor_table stocks\">\n",
       "                <thead>\n",
       "                    <tr>\n",
       "                        <th>股票名称</th>\n",
       "                        <th>股票代码</th>\n",
       "                        <th>因子值</th>\n",
       "                    </tr>\n",
       "                </thead>\n",
       "                <tbody>\n",
       "            <tr>\n",
       "                <td>科伦药业</td>\n",
       "                <td>002422.SZA</td>\n",
       "                <td>1.0000</td>\n",
       "            </tr>\n",
       "            \n",
       "            <tr>\n",
       "                <td>掌趣科技</td>\n",
       "                <td>300315.SZA</td>\n",
       "                <td>1.0000</td>\n",
       "            </tr>\n",
       "            \n",
       "            <tr>\n",
       "                <td>闰土股份</td>\n",
       "                <td>002440.SZA</td>\n",
       "                <td>1.0000</td>\n",
       "            </tr>\n",
       "            \n",
       "            <tr>\n",
       "                <td>丽珠集团</td>\n",
       "                <td>000513.SZA</td>\n",
       "                <td>1.0000</td>\n",
       "            </tr>\n",
       "            \n",
       "            <tr>\n",
       "                <td>青岛港</td>\n",
       "                <td>601298.SHA</td>\n",
       "                <td>1.0000</td>\n",
       "            </tr>\n",
       "            \n",
       "            <tr>\n",
       "                <td>千方科技</td>\n",
       "                <td>002373.SZA</td>\n",
       "                <td>1.0000</td>\n",
       "            </tr>\n",
       "            \n",
       "            <tr>\n",
       "                <td>新国脉</td>\n",
       "                <td>600640.SHA</td>\n",
       "                <td>1.0000</td>\n",
       "            </tr>\n",
       "            \n",
       "            <tr>\n",
       "                <td>步长制药</td>\n",
       "                <td>603858.SHA</td>\n",
       "                <td>1.0000</td>\n",
       "            </tr>\n",
       "            \n",
       "            <tr>\n",
       "                <td>华润双鹤</td>\n",
       "                <td>600062.SHA</td>\n",
       "                <td>1.0000</td>\n",
       "            </tr>\n",
       "            \n",
       "            <tr>\n",
       "                <td>烽火通信</td>\n",
       "                <td>600498.SHA</td>\n",
       "                <td>1.0000</td>\n",
       "            </tr>\n",
       "            \n",
       "            <tr>\n",
       "                <td>海思科</td>\n",
       "                <td>002653.SZA</td>\n",
       "                <td>1.0000</td>\n",
       "            </tr>\n",
       "            \n",
       "            <tr>\n",
       "                <td>森马服饰</td>\n",
       "                <td>002563.SZA</td>\n",
       "                <td>1.0000</td>\n",
       "            </tr>\n",
       "            \n",
       "            <tr>\n",
       "                <td>晶盛机电</td>\n",
       "                <td>300316.SZA</td>\n",
       "                <td>1.0000</td>\n",
       "            </tr>\n",
       "            \n",
       "            <tr>\n",
       "                <td>天津港</td>\n",
       "                <td>600717.SHA</td>\n",
       "                <td>1.0000</td>\n",
       "            </tr>\n",
       "            \n",
       "            <tr>\n",
       "                <td>吉比特</td>\n",
       "                <td>603444.SHA</td>\n",
       "                <td>1.0000</td>\n",
       "            </tr>\n",
       "            \n",
       "            <tr>\n",
       "                <td>光环新网</td>\n",
       "                <td>300383.SZA</td>\n",
       "                <td>1.0000</td>\n",
       "            </tr>\n",
       "            \n",
       "            <tr>\n",
       "                <td>视觉中国</td>\n",
       "                <td>000681.SZA</td>\n",
       "                <td>1.0000</td>\n",
       "            </tr>\n",
       "            \n",
       "            <tr>\n",
       "                <td>新乳业</td>\n",
       "                <td>002946.SZA</td>\n",
       "                <td>1.0000</td>\n",
       "            </tr>\n",
       "            \n",
       "            <tr>\n",
       "                <td>百联股份</td>\n",
       "                <td>600827.SHA</td>\n",
       "                <td>1.0000</td>\n",
       "            </tr>\n",
       "            \n",
       "            <tr>\n",
       "                <td>张裕A</td>\n",
       "                <td>000869.SZA</td>\n",
       "                <td>1.0000</td>\n",
       "            </tr>\n",
       "            \n",
       "                </tbody>\n",
       "            </table>\n",
       "        </div>\n",
       "        </div>\n",
       "                \n",
       "            \n",
       "            </div>\n",
       "        </div></div><div class='tab-pane' id='因子2'><div class=\"factorlens-container\">\n",
       "            <div style=\"display:flex\">\n",
       "                <div style=\"flex:1\">\n",
       "                    \n",
       "                    <h2 class=\"factorlens-title\">因子分析: open_0 - close_1</h2>\n",
       "                    \n",
       "                </div>\n",
       "                <div style=\"width:180px;\">\n",
       "                    \n",
       "                    <code style=\"display:none\" class=\"bq-template-label-inject\">\n",
       "                    {\n",
       "                        \"type\": \"factor-track\",\n",
       "                        \"data\": {\n",
       "                            \"exprs\": [\"open_0 - close_1\"],\n",
       "                            \"options\": {\"BacktestInterval\": [\"2021-01-01\", \"2021-12-31\"], \"Benchmark\": \"none\", \"StockPool\": \"in_csi500_0\", \"UserDataMerge\": \"left\", \"DropSTStocks\": 1, \"DropPriceLimitStocks\": 1, \"DropNewStocks\": 60, \"DropSuspendedStocks\": 1, \"QuantileCount\": 5, \"CommissionRates\": 0.0016, \"Normalization\": 0, \"Neutralization\": \"industry,size\", \"DelayRebalanceDays\": 0, \"RebalancePeriod\": 2, \"RebalancePeriodsReturns\": 0, \"RebalancePrice\": \"close_0\", \"ReturnsCalculationMethod\": \"cumprod\", \"FactorCoverage\": 0.5, \"_HASH\": \"427c36e0d1fb6c659ba1ca9111dc079b\"}\n",
       "                        }\n",
       "                    }\n",
       "                    </code>\n",
       "                    \n",
       "                </div>\n",
       "            </div>\n",
       "            <div class=\"type_title_left\"><p>因子表现概览<i class=\"fa fa-question-circle-o\" title=\"按因子值升序排列将股票分组，1分位组对应最小因子分组。多空组合表示做多最小分位组，做空最大分位组。\"></i></p></div><table class=\"factor_table\">\n",
       "            <thead>\n",
       "                <tr>\n",
       "                    <th>&nbsp;</th>\n",
       "                    <th>累计收益</th>\n",
       "                    <th>近1年收益</th>\n",
       "                    <th>近3月收益</th>\n",
       "                    <th>近1月收益</th>\n",
       "                    <th>近1周收益</th>\n",
       "                    <th>昨日收益</th>\n",
       "                    <th>最大回撤</th>\n",
       "                    <th>盈亏比</th>\n",
       "                    <th>胜率</th>\n",
       "                    <th>夏普比率</th>\n",
       "                    <th>收益波动率</th>\n",
       "                </tr>\n",
       "            </thead>\n",
       "            <tbody>\n",
       "                \n",
       "                    <tr>\n",
       "                    <th>最小分位</th>\n",
       "                        \n",
       "                            <td><span class=\"pct down\">-28.13%</span></td>\n",
       "                        \n",
       "                            <td><span class=\"pct down\">-28.13%</span></td>\n",
       "                        \n",
       "                            <td><span class=\"pct down\">-12.03%</span></td>\n",
       "                        \n",
       "                            <td><span class=\"pct down\">-7.50%</span></td>\n",
       "                        \n",
       "                            <td><span class=\"pct down\">-0.61%</span></td>\n",
       "                        \n",
       "                            <td><span class=\"pct up\">0.67%</span></td>\n",
       "                        \n",
       "                            <td>28.61%</td>\n",
       "                        \n",
       "                            <td>0.71</td>\n",
       "                        \n",
       "                            <td>0.48</td>\n",
       "                        \n",
       "                            <td><span class=\"pct down\">-2.89</span></td>\n",
       "                        \n",
       "                            <td>15.62%</td>\n",
       "                        \n",
       "                    </tr>\n",
       "                \n",
       "                    <tr>\n",
       "                    <th>最大分位</th>\n",
       "                        \n",
       "                            <td><span class=\"pct down\">-25.66%</span></td>\n",
       "                        \n",
       "                            <td><span class=\"pct down\">-25.66%</span></td>\n",
       "                        \n",
       "                            <td><span class=\"pct down\">-12.64%</span></td>\n",
       "                        \n",
       "                            <td><span class=\"pct down\">-9.67%</span></td>\n",
       "                        \n",
       "                            <td><span class=\"pct down\">-0.93%</span></td>\n",
       "                        \n",
       "                            <td><span class=\"pct up\">0.91%</span></td>\n",
       "                        \n",
       "                            <td>26.33%</td>\n",
       "                        \n",
       "                            <td>0.79</td>\n",
       "                        \n",
       "                            <td>0.46</td>\n",
       "                        \n",
       "                            <td><span class=\"pct down\">-2.60</span></td>\n",
       "                        \n",
       "                            <td>15.66%</td>\n",
       "                        \n",
       "                    </tr>\n",
       "                \n",
       "                    <tr>\n",
       "                    <th>多空组合</th>\n",
       "                        \n",
       "                            <td><span class=\"pct down\">-1.72%</span></td>\n",
       "                        \n",
       "                            <td><span class=\"pct down\">-1.72%</span></td>\n",
       "                        \n",
       "                            <td><span class=\"pct up\">0.31%</span></td>\n",
       "                        \n",
       "                            <td><span class=\"pct up\">1.19%</span></td>\n",
       "                        \n",
       "                            <td><span class=\"pct up\">0.16%</span></td>\n",
       "                        \n",
       "                            <td><span class=\"pct down\">-0.12%</span></td>\n",
       "                        \n",
       "                            <td>3.98%</td>\n",
       "                        \n",
       "                            <td>0.96</td>\n",
       "                        \n",
       "                            <td>0.48</td>\n",
       "                        \n",
       "                            <td><span class=\"pct down\">-1.67</span></td>\n",
       "                        \n",
       "                            <td>3.41%</td>\n",
       "                        \n",
       "                    </tr>\n",
       "                \n",
       "            </tbody>\n",
       "        </table><div id=\"bigchart-b4db03f6032d40d79c34d9632288d87e\" class=\"bigchart\"></div><div class=\"bigchart-data\"><pre style=\"display:none\">bigcharts-data-start/{\"chart\":{\"height\":500,\"renderTo\":\"bigchart-b4db03f6032d40d79c34d9632288d87e\"},\"legend\":{\"enabled\":true},\"stock\":true,\"series\":[{\"name\":\"1\\u5206\\u4f4d\\u6570\",\"yAxis\":0,\"data\":[[1609718400000,1.0],[1609804800000,1.0],[1609891200000,0.9927],[1609977600000,0.9913],[1610064000000,0.9937],[1610323200000,0.975],[1610409600000,0.9879],[1610496000000,0.9784],[1610582400000,0.9701],[1610668800000,0.9608],[1610928000000,0.9722],[1611014400000,0.9652],[1611100800000,0.9717],[1611187200000,0.9843],[1611273600000,0.9896],[1611532800000,0.9839],[1611619200000,0.9652],[1611705600000,0.9606],[1611792000000,0.9382],[1611878400000,0.9255],[1612137600000,0.9337],[1612224000000,0.9348],[1612310400000,0.9235],[1612396800000,0.9105],[1612483200000,0.8939],[1612742400000,0.9008],[1612828800000,0.92],[1612915200000,0.926],[1613606400000,0.9344],[1613692800000,0.939],[1613952000000,0.9397],[1614038400000,0.9299],[1614124800000,0.9203],[1614211200000,0.9112],[1614297600000,0.8937],[1614556800000,0.9101],[1614643200000,0.9014],[1614729600000,0.911],[1614816000000,0.8928],[1614902400000,0.8898],[1615161600000,0.8666],[1615248000000,0.8427],[1615334400000,0.8398],[1615420800000,0.853],[1615507200000,0.8533],[1615766400000,0.845],[1615852800000,0.8506],[1615939200000,0.8527],[1616025600000,0.8567],[1616112000000,0.8467],[1616371200000,0.8619],[1616457600000,0.8464],[1616544000000,0.8358],[1616630400000,0.835],[1616716800000,0.8451],[1616976000000,0.8445],[1617062400000,0.8446],[1617148800000,0.8411],[1617235200000,0.8495],[1617321600000,0.851],[1617667200000,0.8526],[1617753600000,0.8491],[1617840000000,0.848],[1617926400000,0.8442],[1618185600000,0.832],[1618272000000,0.8282],[1618358400000,0.837],[1618444800000,0.8353],[1618531200000,0.8474],[1618790400000,0.8559],[1618876800000,0.8567],[1618963200000,0.8538],[1619049600000,0.8571],[1619136000000,0.8551],[1619395200000,0.8525],[1619481600000,0.8496],[1619568000000,0.8551],[1619654400000,0.8526],[1619740800000,0.8512],[1620259200000,0.8454],[1620345600000,0.8409],[1620604800000,0.8382],[1620691200000,0.8356],[1620777600000,0.8409],[1620864000000,0.8339],[1620950400000,0.8423],[1621209600000,0.8506],[1621296000000,0.8516],[1621382400000,0.8476],[1621468800000,0.8421],[1621555200000,0.8403],[1621814400000,0.8427],[1621900800000,0.8521],[1621987200000,0.8528],[1622073600000,0.8603],[1622160000000,0.8514],[1622419200000,0.859],[1622505600000,0.8599],[1622592000000,0.8487],[1622678400000,0.8414],[1622764800000,0.8496],[1623024000000,0.852],[1623110400000,0.8521],[1623196800000,0.8483],[1623283200000,0.8552],[1623369600000,0.8484],[1623715200000,0.8414],[1623801600000,0.828],[1623888000000,0.8359],[1623974400000,0.8405],[1624233600000,0.8425],[1624320000000,0.8453],[1624406400000,0.8525],[1624492800000,0.8394],[1624579200000,0.8467],[1624838400000,0.8464],[1624924800000,0.8329],[1625011200000,0.8336],[1625097600000,0.8218],[1625184000000,0.8096],[1625443200000,0.8133],[1625529600000,0.8095],[1625616000000,0.8147],[1625702400000,0.8098],[1625788800000,0.8165],[1626048000000,0.8263],[1626134400000,0.8276],[1626220800000,0.817],[1626307200000,0.8155],[1626393600000,0.812],[1626652800000,0.8059],[1626739200000,0.8073],[1626825600000,0.8141],[1626912000000,0.8122],[1626998400000,0.8053],[1627257600000,0.7904],[1627344000000,0.7734],[1627430400000,0.7622],[1627516800000,0.776],[1627603200000,0.7749],[1627862400000,0.7856],[1627948800000,0.7817],[1628035200000,0.7883],[1628121600000,0.7803],[1628208000000,0.7814],[1628467200000,0.7836],[1628553600000,0.7847],[1628640000000,0.7872],[1628726400000,0.7864],[1628812800000,0.7837],[1629072000000,0.7808],[1629158400000,0.7645],[1629244800000,0.7708],[1629331200000,0.7702],[1629417600000,0.762],[1629676800000,0.7719],[1629763200000,0.7752],[1629849600000,0.7796],[1629936000000,0.7727],[1630022400000,0.7716],[1630281600000,0.7776],[1630368000000,0.7759],[1630454400000,0.7711],[1630540800000,0.7742],[1630627200000,0.7708],[1630886400000,0.7777],[1630972800000,0.7859],[1631059200000,0.7845],[1631145600000,0.787],[1631232000000,0.7834],[1631491200000,0.787],[1631577600000,0.7769],[1631664000000,0.7773],[1631750400000,0.7625],[1631836800000,0.7577],[1632268800000,0.7594],[1632355200000,0.7676],[1632441600000,0.7575],[1632700800000,0.7365],[1632787200000,0.7377],[1632873600000,0.7192],[1632960000000,0.728],[1633651200000,0.7309],[1633910400000,0.7338],[1633996800000,0.7188],[1634083200000,0.7222],[1634169600000,0.7247],[1634256000000,0.7222],[1634515200000,0.7231],[1634601600000,0.726],[1634688000000,0.727],[1634774400000,0.7217],[1634860800000,0.7139],[1635120000000,0.7187]],\"color\":\"#F08B55\"},{\"name\":\"2\\u5206\\u4f4d\\u6570\",\"yAxis\":0,\"data\":[[1609718400000,1.0],[1609804800000,1.0],[1609891200000,0.9924],[1609977600000,0.9776],[1610064000000,0.9882],[1610323200000,0.9673],[1610409600000,0.9721],[1610496000000,0.9638],[1610582400000,0.9641],[1610668800000,0.9611],[1610928000000,0.9687],[1611014400000,0.9721],[1611100800000,0.9728],[1611187200000,0.9786],[1611273600000,0.9691],[1611532800000,0.9643],[1611619200000,0.9553],[1611705600000,0.9572],[1611792000000,0.9454],[1611878400000,0.9313],[1612137600000,0.9329],[1612224000000,0.9362],[1612310400000,0.9232],[1612396800000,0.9096],[1612483200000,0.9004],[1612742400000,0.9057],[1612828800000,0.9197],[1612915200000,0.9241],[1613606400000,0.9443],[1613692800000,0.9678],[1613952000000,0.9758],[1614038400000,0.9704],[1614124800000,0.9676],[1614211200000,0.9632],[1614297600000,0.9493],[1614556800000,0.9646],[1614643200000,0.9625],[1614729600000,0.9714],[1614816000000,0.9679],[1614902400000,0.9724],[1615161600000,0.963],[1615248000000,0.9493],[1615334400000,0.9337],[1615420800000,0.9508],[1615507200000,0.9544],[1615766400000,0.952],[1615852800000,0.959],[1615939200000,0.9583],[1616025600000,0.956],[1616112000000,0.9447],[1616371200000,0.958],[1616457600000,0.9464],[1616544000000,0.9351],[1616630400000,0.9362],[1616716800000,0.9448],[1616976000000,0.9392],[1617062400000,0.9371],[1617148800000,0.9334],[1617235200000,0.9392],[1617321600000,0.9376],[1617667200000,0.9413],[1617753600000,0.9456],[1617840000000,0.9445],[1617926400000,0.9407],[1618185600000,0.9378],[1618272000000,0.9248],[1618358400000,0.9348],[1618444800000,0.9328],[1618531200000,0.9469],[1618790400000,0.9555],[1618876800000,0.9519],[1618963200000,0.9456],[1619049600000,0.9469],[1619136000000,0.9402],[1619395200000,0.9394],[1619481600000,0.933],[1619568000000,0.9385],[1619654400000,0.9389],[1619740800000,0.9277],[1620259200000,0.9269],[1620345600000,0.925],[1620604800000,0.9312],[1620691200000,0.9291],[1620777600000,0.9323],[1620864000000,0.9264],[1620950400000,0.9349],[1621209600000,0.9349],[1621296000000,0.9386],[1621382400000,0.9365],[1621468800000,0.9266],[1621555200000,0.9234],[1621814400000,0.9252],[1621900800000,0.9315],[1621987200000,0.9343],[1622073600000,0.9383],[1622160000000,0.9341],[1622419200000,0.9366],[1622505600000,0.9402],[1622592000000,0.9363],[1622678400000,0.9349],[1622764800000,0.9318],[1623024000000,0.9331],[1623110400000,0.9289],[1623196800000,0.9282],[1623283200000,0.9307],[1623369600000,0.9245],[1623715200000,0.9166],[1623801600000,0.9074],[1623888000000,0.9111],[1623974400000,0.9102],[1624233600000,0.9132],[1624320000000,0.9157],[1624406400000,0.9209],[1624492800000,0.9179],[1624579200000,0.9235],[1624838400000,0.9233],[1624924800000,0.918],[1625011200000,0.92],[1625097600000,0.9104],[1625184000000,0.9029],[1625443200000,0.9081],[1625529600000,0.9098],[1625616000000,0.9122],[1625702400000,0.9054],[1625788800000,0.9114],[1626048000000,0.9221],[1626134400000,0.9296],[1626220800000,0.9241],[1626307200000,0.9292],[1626393600000,0.9274],[1626652800000,0.9239],[1626739200000,0.9218],[1626825600000,0.9246],[1626912000000,0.9271],[1626998400000,0.9151],[1627257600000,0.8968],[1627344000000,0.8874],[1627430400000,0.8702],[1627516800000,0.8782],[1627603200000,0.8827],[1627862400000,0.8953],[1627948800000,0.895],[1628035200000,0.8964],[1628121600000,0.8875],[1628208000000,0.8928],[1628467200000,0.9012],[1628553600000,0.9073],[1628640000000,0.9102],[1628726400000,0.9134],[1628812800000,0.9103],[1629072000000,0.9117],[1629158400000,0.8921],[1629244800000,0.8966],[1629331200000,0.8892],[1629417600000,0.8839],[1629676800000,0.8952],[1629763200000,0.9009],[1629849600000,0.9054],[1629936000000,0.9032],[1630022400000,0.9013],[1630281600000,0.9005],[1630368000000,0.9034],[1630454400000,0.9135],[1630540800000,0.9227],[1630627200000,0.9272],[1630886400000,0.9347],[1630972800000,0.9469],[1631059200000,0.9556],[1631145600000,0.9575],[1631232000000,0.951],[1631491200000,0.9548],[1631577600000,0.9388],[1631664000000,0.9405],[1631750400000,0.9263],[1631836800000,0.9192],[1632268800000,0.9209],[1632355200000,0.9293],[1632441600000,0.9115],[1632700800000,0.8932],[1632787200000,0.8968],[1632873600000,0.8762],[1632960000000,0.8782],[1633651200000,0.8842],[1633910400000,0.8826],[1633996800000,0.8675],[1634083200000,0.8639],[1634169600000,0.8685],[1634256000000,0.8654],[1634515200000,0.8709],[1634601600000,0.8731],[1634688000000,0.8676],[1634774400000,0.8633],[1634860800000,0.8575],[1635120000000,0.8599]],\"color\":\"#648FD5\"},{\"name\":\"3\\u5206\\u4f4d\\u6570\",\"yAxis\":0,\"data\":[[1609718400000,1.0],[1609804800000,1.0],[1609891200000,0.9926],[1609977600000,0.979],[1610064000000,0.9882],[1610323200000,0.9719],[1610409600000,0.9792],[1610496000000,0.9712],[1610582400000,0.9731],[1610668800000,0.9727],[1610928000000,0.9784],[1611014400000,0.9789],[1611100800000,0.9774],[1611187200000,0.9797],[1611273600000,0.9658],[1611532800000,0.954],[1611619200000,0.9494],[1611705600000,0.9488],[1611792000000,0.9394],[1611878400000,0.9273],[1612137600000,0.9305],[1612224000000,0.9296],[1612310400000,0.9152],[1612396800000,0.9007],[1612483200000,0.8971],[1612742400000,0.897],[1612828800000,0.91],[1612915200000,0.9086],[1613606400000,0.9283],[1613692800000,0.9523],[1613952000000,0.9604],[1614038400000,0.9542],[1614124800000,0.9509],[1614211200000,0.9487],[1614297600000,0.9362],[1614556800000,0.9439],[1614643200000,0.9368],[1614729600000,0.949],[1614816000000,0.942],[1614902400000,0.9428],[1615161600000,0.9311],[1615248000000,0.912],[1615334400000,0.8971],[1615420800000,0.9132],[1615507200000,0.9136],[1615766400000,0.9168],[1615852800000,0.9221],[1615939200000,0.9171],[1616025600000,0.9151],[1616112000000,0.9078],[1616371200000,0.9215],[1616457600000,0.9113],[1616544000000,0.9052],[1616630400000,0.9],[1616716800000,0.9104],[1616976000000,0.9076],[1617062400000,0.9065],[1617148800000,0.9024],[1617235200000,0.9096],[1617321600000,0.907],[1617667200000,0.9097],[1617753600000,0.9147],[1617840000000,0.9106],[1617926400000,0.9063],[1618185600000,0.898],[1618272000000,0.8901],[1618358400000,0.8948],[1618444800000,0.8926],[1618531200000,0.9053],[1618790400000,0.9084],[1618876800000,0.9023],[1618963200000,0.8969],[1619049600000,0.8972],[1619136000000,0.8928],[1619395200000,0.8854],[1619481600000,0.8799],[1619568000000,0.8797],[1619654400000,0.881],[1619740800000,0.8712],[1620259200000,0.876],[1620345600000,0.8759],[1620604800000,0.8743],[1620691200000,0.8786],[1620777600000,0.8837],[1620864000000,0.8747],[1620950400000,0.8839],[1621209600000,0.879],[1621296000000,0.8829],[1621382400000,0.8771],[1621468800000,0.8679],[1621555200000,0.8694],[1621814400000,0.8724],[1621900800000,0.8805],[1621987200000,0.8825],[1622073600000,0.8858],[1622160000000,0.8839],[1622419200000,0.8858],[1622505600000,0.8853],[1622592000000,0.877],[1622678400000,0.8776],[1622764800000,0.8718],[1623024000000,0.8677],[1623110400000,0.8689],[1623196800000,0.8705],[1623283200000,0.8741],[1623369600000,0.8664],[1623715200000,0.8557],[1623801600000,0.8467],[1623888000000,0.845],[1623974400000,0.8456],[1624233600000,0.8479],[1624320000000,0.8472],[1624406400000,0.8489],[1624492800000,0.8437],[1624579200000,0.8524],[1624838400000,0.846],[1624924800000,0.8376],[1625011200000,0.8413],[1625097600000,0.8344],[1625184000000,0.8251],[1625443200000,0.8268],[1625529600000,0.8263],[1625616000000,0.8264],[1625702400000,0.8177],[1625788800000,0.8244],[1626048000000,0.8269],[1626134400000,0.8342],[1626220800000,0.8263],[1626307200000,0.8273],[1626393600000,0.8274],[1626652800000,0.8248],[1626739200000,0.8211],[1626825600000,0.8216],[1626912000000,0.8279],[1626998400000,0.8244],[1627257600000,0.8058],[1627344000000,0.7942],[1627430400000,0.7872],[1627516800000,0.7928],[1627603200000,0.7932],[1627862400000,0.8011],[1627948800000,0.8006],[1628035200000,0.8029],[1628121600000,0.7964],[1628208000000,0.7988],[1628467200000,0.8078],[1628553600000,0.8125],[1628640000000,0.8146],[1628726400000,0.8159],[1628812800000,0.812],[1629072000000,0.8198],[1629158400000,0.8071],[1629244800000,0.8139],[1629331200000,0.809],[1629417600000,0.8044],[1629676800000,0.8105],[1629763200000,0.8136],[1629849600000,0.8163],[1629936000000,0.8141],[1630022400000,0.8143],[1630281600000,0.8145],[1630368000000,0.8162],[1630454400000,0.8224],[1630540800000,0.8318],[1630627200000,0.8329],[1630886400000,0.8402],[1630972800000,0.8512],[1631059200000,0.8622],[1631145600000,0.8676],[1631232000000,0.8632],[1631491200000,0.8693],[1631577600000,0.8488],[1631664000000,0.8488],[1631750400000,0.8374],[1631836800000,0.8368],[1632268800000,0.8346],[1632355200000,0.8467],[1632441600000,0.8318],[1632700800000,0.8159],[1632787200000,0.817],[1632873600000,0.7998],[1632960000000,0.8031],[1633651200000,0.8138],[1633910400000,0.8118],[1633996800000,0.7991],[1634083200000,0.7971],[1634169600000,0.7956],[1634256000000,0.7864],[1634515200000,0.7875],[1634601600000,0.7917],[1634688000000,0.7893],[1634774400000,0.7874],[1634860800000,0.7814],[1635120000000,0.7792]],\"color\":\"#E06681\"},{\"name\":\"4\\u5206\\u4f4d\\u6570\",\"yAxis\":0,\"data\":[[1609718400000,1.0],[1609804800000,1.0],[1609891200000,0.9945],[1609977600000,0.9792],[1610064000000,0.9838],[1610323200000,0.9592],[1610409600000,0.9648],[1610496000000,0.9576],[1610582400000,0.9603],[1610668800000,0.9593],[1610928000000,0.9677],[1611014400000,0.9632],[1611100800000,0.9607],[1611187200000,0.9624],[1611273600000,0.9449],[1611532800000,0.9318],[1611619200000,0.923],[1611705600000,0.9239],[1611792000000,0.9109],[1611878400000,0.8959],[1612137600000,0.8985],[1612224000000,0.8952],[1612310400000,0.8834],[1612396800000,0.8703],[1612483200000,0.8592],[1612742400000,0.8662],[1612828800000,0.8806],[1612915200000,0.8865],[1613606400000,0.9108],[1613692800000,0.9338],[1613952000000,0.9329],[1614038400000,0.9275],[1614124800000,0.9226],[1614211200000,0.9185],[1614297600000,0.9044],[1614556800000,0.9174],[1614643200000,0.9101],[1614729600000,0.9213],[1614816000000,0.914],[1614902400000,0.9133],[1615161600000,0.9023],[1615248000000,0.8862],[1615334400000,0.8729],[1615420800000,0.8891],[1615507200000,0.8912],[1615766400000,0.8915],[1615852800000,0.8968],[1615939200000,0.8969],[1616025600000,0.8988],[1616112000000,0.8933],[1616371200000,0.9058],[1616457600000,0.8941],[1616544000000,0.8846],[1616630400000,0.8825],[1616716800000,0.8901],[1616976000000,0.8889],[1617062400000,0.8823],[1617148800000,0.8803],[1617235200000,0.8857],[1617321600000,0.881],[1617667200000,0.8842],[1617753600000,0.886],[1617840000000,0.8819],[1617926400000,0.8822],[1618185600000,0.8721],[1618272000000,0.8636],[1618358400000,0.8703],[1618444800000,0.8685],[1618531200000,0.8779],[1618790400000,0.8832],[1618876800000,0.8818],[1618963200000,0.8787],[1619049600000,0.8817],[1619136000000,0.8788],[1619395200000,0.8746],[1619481600000,0.8694],[1619568000000,0.8726],[1619654400000,0.8699],[1619740800000,0.8649],[1620259200000,0.8725],[1620345600000,0.8732],[1620604800000,0.8711],[1620691200000,0.8748],[1620777600000,0.8747],[1620864000000,0.8647],[1620950400000,0.8702],[1621209600000,0.8661],[1621296000000,0.8693],[1621382400000,0.8647],[1621468800000,0.8618],[1621555200000,0.8609],[1621814400000,0.8654],[1621900800000,0.8742],[1621987200000,0.8761],[1622073600000,0.8782],[1622160000000,0.8735],[1622419200000,0.8772],[1622505600000,0.8772],[1622592000000,0.8704],[1622678400000,0.8701],[1622764800000,0.868],[1623024000000,0.8681],[1623110400000,0.8642],[1623196800000,0.8623],[1623283200000,0.8644],[1623369600000,0.8573],[1623715200000,0.8457],[1623801600000,0.8369],[1623888000000,0.8389],[1623974400000,0.8404],[1624233600000,0.8453],[1624320000000,0.8475],[1624406400000,0.8521],[1624492800000,0.8477],[1624579200000,0.8518],[1624838400000,0.85],[1624924800000,0.8431],[1625011200000,0.8469],[1625097600000,0.8403],[1625184000000,0.8306],[1625443200000,0.8343],[1625529600000,0.8362],[1625616000000,0.8391],[1625702400000,0.8308],[1625788800000,0.8343],[1626048000000,0.8407],[1626134400000,0.8473],[1626220800000,0.839],[1626307200000,0.8386],[1626393600000,0.8379],[1626652800000,0.8399],[1626739200000,0.8386],[1626825600000,0.8448],[1626912000000,0.8457],[1626998400000,0.8404],[1627257600000,0.8229],[1627344000000,0.8097],[1627430400000,0.7972],[1627516800000,0.8069],[1627603200000,0.8065],[1627862400000,0.8164],[1627948800000,0.8162],[1628035200000,0.8199],[1628121600000,0.8139],[1628208000000,0.8107],[1628467200000,0.821],[1628553600000,0.824],[1628640000000,0.8243],[1628726400000,0.823],[1628812800000,0.8236],[1629072000000,0.8207],[1629158400000,0.8027],[1629244800000,0.8135],[1629331200000,0.8086],[1629417600000,0.8086],[1629676800000,0.8145],[1629763200000,0.8185],[1629849600000,0.8247],[1629936000000,0.8221],[1630022400000,0.8226],[1630281600000,0.8256],[1630368000000,0.8282],[1630454400000,0.8276],[1630540800000,0.8343],[1630627200000,0.8365],[1630886400000,0.8452],[1630972800000,0.8599],[1631059200000,0.8631],[1631145600000,0.8731],[1631232000000,0.8644],[1631491200000,0.8652],[1631577600000,0.8495],[1631664000000,0.8516],[1631750400000,0.839],[1631836800000,0.8336],[1632268800000,0.8317],[1632355200000,0.8384],[1632441600000,0.826],[1632700800000,0.8097],[1632787200000,0.811],[1632873600000,0.7923],[1632960000000,0.796],[1633651200000,0.8054],[1633910400000,0.7997],[1633996800000,0.7854],[1634083200000,0.7863],[1634169600000,0.7867],[1634256000000,0.7793],[1634515200000,0.7808],[1634601600000,0.7864],[1634688000000,0.7854],[1634774400000,0.7844],[1634860800000,0.7801],[1635120000000,0.7783]],\"color\":\"#E2D269\"},{\"name\":\"5\\u5206\\u4f4d\\u6570\",\"yAxis\":0,\"data\":[[1609718400000,1.0],[1609804800000,1.0],[1609891200000,0.9949],[1609977600000,0.9907],[1610064000000,0.9884],[1610323200000,0.9743],[1610409600000,0.9861],[1610496000000,0.9756],[1610582400000,0.9696],[1610668800000,0.9695],[1610928000000,0.9852],[1611014400000,0.9745],[1611100800000,0.9824],[1611187200000,0.9893],[1611273600000,0.9842],[1611532800000,0.9733],[1611619200000,0.9564],[1611705600000,0.9557],[1611792000000,0.9336],[1611878400000,0.9184],[1612137600000,0.9219],[1612224000000,0.9257],[1612310400000,0.9162],[1612396800000,0.8995],[1612483200000,0.8893],[1612742400000,0.9005],[1612828800000,0.915],[1612915200000,0.9211],[1613606400000,0.9312],[1613692800000,0.9499],[1613952000000,0.9426],[1614038400000,0.9388],[1614124800000,0.9276],[1614211200000,0.9225],[1614297600000,0.9017],[1614556800000,0.9167],[1614643200000,0.9095],[1614729600000,0.9223],[1614816000000,0.905],[1614902400000,0.9028],[1615161600000,0.8825],[1615248000000,0.86],[1615334400000,0.8544],[1615420800000,0.8719],[1615507200000,0.8686],[1615766400000,0.8562],[1615852800000,0.8584],[1615939200000,0.8595],[1616025600000,0.8682],[1616112000000,0.8616],[1616371200000,0.8735],[1616457600000,0.8604],[1616544000000,0.8515],[1616630400000,0.8521],[1616716800000,0.8641],[1616976000000,0.8641],[1617062400000,0.8646],[1617148800000,0.8617],[1617235200000,0.8649],[1617321600000,0.8646],[1617667200000,0.8655],[1617753600000,0.8622],[1617840000000,0.8632],[1617926400000,0.8596],[1618185600000,0.8418],[1618272000000,0.84],[1618358400000,0.8486],[1618444800000,0.8476],[1618531200000,0.8552],[1618790400000,0.8613],[1618876800000,0.8623],[1618963200000,0.8628],[1619049600000,0.8654],[1619136000000,0.8621],[1619395200000,0.8565],[1619481600000,0.8552],[1619568000000,0.8622],[1619654400000,0.8584],[1619740800000,0.8602],[1620259200000,0.86],[1620345600000,0.853],[1620604800000,0.8546],[1620691200000,0.8522],[1620777600000,0.8611],[1620864000000,0.8553],[1620950400000,0.8663],[1621209600000,0.8696],[1621296000000,0.8687],[1621382400000,0.8667],[1621468800000,0.8598],[1621555200000,0.8529],[1621814400000,0.854],[1621900800000,0.863],[1621987200000,0.8625],[1622073600000,0.8687],[1622160000000,0.8662],[1622419200000,0.8764],[1622505600000,0.875],[1622592000000,0.8669],[1622678400000,0.8649],[1622764800000,0.8709],[1623024000000,0.8768],[1623110400000,0.8715],[1623196800000,0.8703],[1623283200000,0.8763],[1623369600000,0.8675],[1623715200000,0.8603],[1623801600000,0.8442],[1623888000000,0.8491],[1623974400000,0.85],[1624233600000,0.8582],[1624320000000,0.8599],[1624406400000,0.8661],[1624492800000,0.8615],[1624579200000,0.8661],[1624838400000,0.8666],[1624924800000,0.8612],[1625011200000,0.864],[1625097600000,0.8489],[1625184000000,0.8441],[1625443200000,0.8503],[1625529600000,0.8439],[1625616000000,0.8506],[1625702400000,0.8435],[1625788800000,0.845],[1626048000000,0.8509],[1626134400000,0.8566],[1626220800000,0.851],[1626307200000,0.853],[1626393600000,0.8534],[1626652800000,0.8503],[1626739200000,0.8471],[1626825600000,0.8544],[1626912000000,0.8553],[1626998400000,0.8481],[1627257600000,0.8343],[1627344000000,0.8224],[1627430400000,0.8089],[1627516800000,0.8234],[1627603200000,0.8238],[1627862400000,0.8336],[1627948800000,0.8242],[1628035200000,0.8349],[1628121600000,0.828],[1628208000000,0.8213],[1628467200000,0.8291],[1628553600000,0.8339],[1628640000000,0.837],[1628726400000,0.8359],[1628812800000,0.8336],[1629072000000,0.8277],[1629158400000,0.8046],[1629244800000,0.8033],[1629331200000,0.7999],[1629417600000,0.7962],[1629676800000,0.8054],[1629763200000,0.8061],[1629849600000,0.8099],[1629936000000,0.8016],[1630022400000,0.8052],[1630281600000,0.8109],[1630368000000,0.8112],[1630454400000,0.8057],[1630540800000,0.81],[1630627200000,0.8049],[1630886400000,0.8143],[1630972800000,0.8266],[1631059200000,0.832],[1631145600000,0.8395],[1631232000000,0.8349],[1631491200000,0.8423],[1631577600000,0.823],[1631664000000,0.8261],[1631750400000,0.8072],[1631836800000,0.7988],[1632268800000,0.8055],[1632355200000,0.8067],[1632441600000,0.795],[1632700800000,0.7786],[1632787200000,0.7764],[1632873600000,0.7543],[1632960000000,0.7628],[1633651200000,0.7646],[1633910400000,0.7638],[1633996800000,0.7496],[1634083200000,0.7517],[1634169600000,0.7507],[1634256000000,0.7488],[1634515200000,0.7504],[1634601600000,0.7544],[1634688000000,0.7503],[1634774400000,0.7464],[1634860800000,0.7367],[1635120000000,0.7434]],\"color\":\"#4A8E8E\"},{\"name\":\"\\u6700\\u5c0f-\\u6700\\u5927\\u5206\\u4f4d\",\"yAxis\":0,\"data\":[[1609718400000,1.0],[1609804800000,1.0],[1609891200000,0.9989],[1609977600000,1.0003],[1610064000000,1.0027],[1610323200000,1.0004],[1610409600000,1.0009],[1610496000000,1.0015],[1610582400000,1.0003],[1610668800000,0.9956],[1610928000000,0.9934],[1611014400000,0.9952],[1611100800000,0.9946],[1611187200000,0.9975],[1611273600000,1.0028],[1611532800000,1.0054],[1611619200000,1.0046],[1611705600000,1.0026],[1611792000000,1.0024],[1611878400000,1.0039],[1612137600000,1.0064],[1612224000000,1.0049],[1612310400000,1.004],[1612396800000,1.006],[1612483200000,1.0026],[1612742400000,1.0001],[1612828800000,1.0027],[1612915200000,1.0026],[1613606400000,1.0017],[1613692800000,0.9941],[1613952000000,0.9983],[1614038400000,0.9952],[1614124800000,0.9959],[1614211200000,0.9937],[1614297600000,0.9954],[1614556800000,0.9963],[1614643200000,0.9954],[1614729600000,0.9937],[1614816000000,0.9931],[1614902400000,0.9926],[1615161600000,0.9909],[1615248000000,0.9898],[1615334400000,0.9913],[1615420800000,0.989],[1615507200000,0.991],[1615766400000,0.9933],[1615852800000,0.9953],[1615939200000,0.9959],[1616025600000,0.9932],[1616112000000,0.9911],[1616371200000,0.9932],[1616457600000,0.9918],[1616544000000,0.9906],[1616630400000,0.9899],[1616716800000,0.9888],[1616976000000,0.9885],[1617062400000,0.9883],[1617148800000,0.9879],[1617235200000,0.991],[1617321600000,0.9921],[1617667200000,0.9924],[1617753600000,0.9923],[1617840000000,0.9911],[1617926400000,0.9909],[1618185600000,0.994],[1618272000000,0.9928],[1618358400000,0.993],[1618444800000,0.9926],[1618531200000,0.9953],[1618790400000,0.9968],[1618876800000,0.9967],[1618963200000,0.9947],[1619049600000,0.9951],[1619136000000,0.9958],[1619395200000,0.9976],[1619481600000,0.9966],[1619568000000,0.9958],[1619654400000,0.9965],[1619740800000,0.9947],[1620259200000,0.9914],[1620345600000,0.9928],[1620604800000,0.9902],[1620691200000,0.9901],[1620777600000,0.9881],[1620864000000,0.9873],[1620950400000,0.986],[1621209600000,0.9889],[1621296000000,0.99],[1621382400000,0.9888],[1621468800000,0.9895],[1621555200000,0.9925],[1621814400000,0.9932],[1621900800000,0.9935],[1621987200000,0.9942],[1622073600000,0.995],[1622160000000,0.9913],[1622419200000,0.9899],[1622505600000,0.9912],[1622592000000,0.9893],[1622678400000,0.9862],[1622764800000,0.9876],[1623024000000,0.9857],[1623110400000,0.9887],[1623196800000,0.9872],[1623283200000,0.9878],[1623369600000,0.9888],[1623715200000,0.9888],[1623801600000,0.9902],[1623888000000,0.9921],[1623974400000,0.9943],[1624233600000,0.9906],[1624320000000,0.9913],[1624406400000,0.9919],[1624492800000,0.987],[1624579200000,0.9886],[1624838400000,0.9882],[1624924800000,0.9833],[1625011200000,0.9821],[1625097600000,0.9838],[1625184000000,0.9793],[1625443200000,0.9779],[1625529600000,0.9793],[1625616000000,0.9786],[1625702400000,0.9797],[1625788800000,0.9829],[1626048000000,0.9854],[1626134400000,0.9829],[1626220800000,0.9798],[1626307200000,0.9777],[1626393600000,0.9754],[1626652800000,0.9735],[1626739200000,0.9762],[1626825600000,0.9761],[1626912000000,0.9744],[1626998400000,0.9744],[1627257600000,0.9733],[1627344000000,0.9698],[1627430400000,0.9707],[1627516800000,0.9708],[1627603200000,0.9699],[1627862400000,0.9708],[1627948800000,0.9739],[1628035200000,0.9717],[1628121600000,0.9707],[1628208000000,0.9754],[1628467200000,0.9722],[1628553600000,0.97],[1628640000000,0.9697],[1628726400000,0.9699],[1628812800000,0.9695],[1629072000000,0.9712],[1629158400000,0.9745],[1629244800000,0.9794],[1629331200000,0.9811],[1629417600000,0.9782],[1629676800000,0.9788],[1629763200000,0.9805],[1629849600000,0.9809],[1629936000000,0.9816],[1630022400000,0.9787],[1630281600000,0.9791],[1630368000000,0.9778],[1630454400000,0.9782],[1630540800000,0.9775],[1630627200000,0.9785],[1630886400000,0.9771],[1630972800000,0.9748],[1631059200000,0.9708],[1631145600000,0.9679],[1631232000000,0.9684],[1631491200000,0.9664],[1631577600000,0.9713],[1631664000000,0.9696],[1631750400000,0.9715],[1631836800000,0.9735],[1632268800000,0.9705],[1632355200000,0.975],[1632441600000,0.9757],[1632700800000,0.9722],[1632787200000,0.9744],[1632873600000,0.976],[1632960000000,0.9765],[1633651200000,0.9773],[1633910400000,0.9797],[1633996800000,0.9788],[1634083200000,0.9798],[1634169600000,0.9821],[1634256000000,0.9817],[1634515200000,0.9813],[1634601600000,0.9806],[1634688000000,0.9839],[1634774400000,0.9829],[1634860800000,0.984],[1635120000000,0.9828]]}],\"xAxis\":{\"title\":{\"text\":\"date\"},\"type\":\"datetime\"},\"plotOptions\":{\"series\":{\"compare\":\"percent\"}}}/bigcharts-data-end</pre></div><div class=\"type_title_left\"><p>基本特征分析<i class=\"fa fa-question-circle-o\" title=\"处理后因子表示对因子做去极值、标准化和中性化(如果启用的话)等处理后的因子值。\"></i></p></div><div class=\"cols\">\n",
       "            \n",
       "                \n",
       "                <div class=\"col\"><div id=\"bigchart-6800a800030642188cb55bee8819364d\" class=\"bigchart\"></div><div class=\"bigchart-data\"><pre style=\"display:none\">bigcharts-data-start/{\"chart\":{\"height\":500,\"type\":\"column\",\"renderTo\":\"bigchart-6800a800030642188cb55bee8819364d\"},\"legend\":{\"enabled\":true},\"title\":{\"text\":\"\\u56e0\\u5b50\\u5206\\u5e03\"},\"stock\":false,\"series\":[{\"name\":\"count\",\"yAxis\":0,\"data\":[[-76.4043,0.0],[-74.8263,0.0],[-73.2484,0.0],[-71.6704,0.0],[-70.0924,0.0],[-68.5145,0.0],[-66.9365,0.0],[-65.3586,0.0],[-63.7806,0.0],[-62.2026,0.0],[-60.6247,0.0],[-59.0467,0.0],[-57.4688,0.0],[-55.8908,0.0],[-54.3128,0.0],[-52.7349,0.0],[-51.1569,0.0],[-49.5789,0.0],[-48.001,0.0],[-46.423,0.0],[-44.8451,0.0],[-43.2671,0.0],[-41.6891,0.0],[-40.1112,0.0],[-38.5332,0.0],[-36.9553,0.0],[-35.3773,0.0],[-33.7993,0.0],[-32.2214,0.0],[-30.6434,0.0],[-29.0655,0.0],[-27.4875,0.0001],[-25.9095,0.0],[-24.3316,0.0001],[-22.7536,0.0001],[-21.1756,0.0001],[-19.5977,0.0001],[-18.0197,0.0002],[-16.4418,0.0003],[-14.8638,0.0004],[-13.2858,0.0006],[-11.7079,0.0008],[-10.1299,0.0008],[-8.552,0.0018],[-6.974,0.0027],[-5.396,0.0048],[-3.8181,0.0088],[-2.2401,0.0229],[-0.6622,0.1056],[0.9158,0.7539],[2.4938,0.0597],[4.0717,0.0169],[5.6497,0.0079],[7.2276,0.0038],[8.8056,0.0022],[10.3836,0.0013],[11.9615,0.0011],[13.5395,0.0006],[15.1174,0.0005],[16.6954,0.0004],[18.2734,0.0002],[19.8513,0.0003],[21.4293,0.0001],[23.0073,0.0001],[24.5852,0.0001],[26.1632,0.0001],[27.7411,0.0001],[29.3191,0.0001],[30.8971,0.0],[32.475,0.0],[34.053,0.0],[35.6309,0.0],[37.2089,0.0],[38.7869,0.0],[40.3648,0.0],[41.9428,0.0],[43.5207,0.0],[45.0987,0.0],[46.6767,0.0],[48.2546,0.0],[49.8326,0.0],[51.4105,0.0],[52.9885,0.0],[54.5665,0.0],[56.1444,0.0],[57.7224,0.0],[59.3004,0.0],[60.8783,0.0],[62.4563,0.0],[64.0342,0.0],[65.6122,0.0],[67.1902,0.0],[68.7681,0.0],[70.3461,0.0],[71.924,0.0],[73.502,0.0],[75.08,0.0],[76.6579,0.0],[78.2359,0.0],[79.8138,0.0]],\"color\":\"#F08B55\"}],\"xAxis\":{\"title\":{\"text\":\"value\"}}}/bigcharts-data-end</pre></div></div>\n",
       "                \n",
       "            \n",
       "                \n",
       "                <div class=\"col\"><div id=\"bigchart-7048467d70bc4970bed55a053f02b09c\" class=\"bigchart\"></div><div class=\"bigchart-data\"><pre style=\"display:none\">bigcharts-data-start/{\"chart\":{\"height\":500,\"type\":\"column\",\"renderTo\":\"bigchart-7048467d70bc4970bed55a053f02b09c\"},\"legend\":{\"enabled\":true},\"title\":{\"text\":\"\\u5904\\u7406\\u540e\\u56e0\\u5b50\\u5206\\u5e03\"},\"stock\":false,\"series\":[{\"name\":\"count\",\"yAxis\":0,\"data\":[[-68.1219,0.0],[-66.9363,0.0],[-65.7507,0.0],[-64.5651,0.0],[-63.3795,0.0],[-62.1939,0.0],[-61.0083,0.0],[-59.8227,0.0],[-58.6371,0.0],[-57.4515,0.0],[-56.2659,0.0],[-55.0804,0.0],[-53.8948,0.0],[-52.7092,0.0],[-51.5236,0.0],[-50.338,0.0],[-49.1524,0.0],[-47.9668,0.0],[-46.7812,0.0],[-45.5956,0.0],[-44.41,0.0],[-43.2244,0.0],[-42.0388,0.0],[-40.8532,0.0],[-39.6676,0.0],[-38.482,0.0],[-37.2964,0.0],[-36.1108,0.0],[-34.9253,0.0],[-33.7397,0.0],[-32.5541,0.0],[-31.3685,0.0],[-30.1829,0.0],[-28.9973,0.0],[-27.8117,0.0],[-26.6261,0.0],[-25.4405,0.0001],[-24.2549,0.0001],[-23.0693,0.0],[-21.8837,0.0],[-20.6981,0.0001],[-19.5125,0.0001],[-18.3269,0.0001],[-17.1413,0.0001],[-15.9558,0.0001],[-14.7702,0.0003],[-13.5846,0.0003],[-12.399,0.0005],[-11.2134,0.0007],[-10.0278,0.0008],[-8.8422,0.001],[-7.6566,0.0013],[-6.471,0.0023],[-5.2854,0.003],[-4.0998,0.0053],[-2.9142,0.0102],[-1.7286,0.0296],[-0.543,0.1409],[0.6426,0.6286],[1.8282,0.1208],[3.0138,0.0286],[4.1993,0.0103],[5.3849,0.0049],[6.5705,0.0034],[7.7561,0.0021],[8.9417,0.0009],[10.1273,0.0006],[11.3129,0.0007],[12.4985,0.0003],[13.6841,0.0004],[14.8697,0.0004],[16.0553,0.0002],[17.2409,0.0001],[18.4265,0.0001],[19.6121,0.0001],[20.7977,0.0001],[21.9833,0.0001],[23.1688,0.0001],[24.3544,0.0],[25.54,0.0],[26.7256,0.0],[27.9112,0.0001],[29.0968,0.0],[30.2824,0.0],[31.468,0.0],[32.6536,0.0],[33.8392,0.0],[35.0248,0.0],[36.2104,0.0],[37.396,0.0],[38.5816,0.0],[39.7672,0.0],[40.9528,0.0],[42.1384,0.0],[43.3239,0.0],[44.5095,0.0],[45.6951,0.0],[46.8807,0.0],[48.0663,0.0],[49.2519,0.0]],\"color\":\"#F08B55\"}],\"xAxis\":{\"title\":{\"text\":\"value\"}}}/bigcharts-data-end</pre></div></div>\n",
       "                \n",
       "            \n",
       "            </div><div class=\"cols\">\n",
       "            \n",
       "                \n",
       "                <div class=\"col\"><div id=\"bigchart-faa73e5852294a2aaac06a280b8b4b69\" class=\"bigchart\"></div><div class=\"bigchart-data\"><pre style=\"display:none\">bigcharts-data-start/{\"chart\":{\"height\":500,\"type\":\"boxplot\",\"renderTo\":\"bigchart-faa73e5852294a2aaac06a280b8b4b69\"},\"legend\":{\"enabled\":true},\"title\":{\"text\":\"\\u5904\\u7406\\u540e\\u56e0\\u5b50\\u884c\\u4e1a\\u5206\\u5e03\"},\"stock\":false,\"series\":[{\"name\":\"\\u5904\\u7406\\u540e\\u56e0\\u5b50\",\"data\":[[-9.746,-0.4924,0.0104,0.4226,17.5626],[-6.179,-0.2642,-0.0072,0.2769,7.157],[-20.4821,-0.5332,-0.0229,0.5659,42.1207],[-8.5867,-0.1813,0.0176,0.2103,5.8195],[-12.9449,-0.5955,0.0333,0.6192,12.6043],[-36.5116,-0.5791,0.0642,0.7756,27.3718],[-5.9799,-0.4406,-0.0308,0.3832,15.0696],[-3.2307,-0.2029,0.0045,0.2451,1.5758],[-69.3075,-0.6978,0.2835,1.2034,28.7413],[-2.607,-0.1768,0.0243,0.2651,2.4233],[-12.9815,-0.4488,-0.0059,0.4817,10.4203],[-24.5328,-0.5426,-0.0112,0.5127,49.2519],[-10.914,-0.2583,-0.0071,0.2427,9.3602],[-12.3158,-0.228,-0.0137,0.1845,15.1455],[-10.2333,-0.2292,0.0274,0.2543,13.8755],[-5.841,-0.328,-0.0025,0.3209,14.5377],[-2.5861,-0.3849,0.0,0.3849,2.5861],[-1.5276,-0.0877,0.0079,0.1078,1.2009],[-5.7404,-0.1904,-0.0016,0.16,14.038],[-7.9769,-1.1533,0.0,1.1649,5.6664],[-10.1916,-0.4743,-0.0012,0.4467,11.3887],[-3.7832,-0.2754,0.0031,0.2984,5.8549],[-21.5583,-0.9782,0.1041,1.0967,22.3829],[-15.5562,-0.6747,-0.0811,0.6305,27.1798],[-14.8966,-0.6353,0.0458,0.5988,28.9249],[-33.5827,-0.5215,-0.0014,0.501,13.0982],[-15.0038,-0.3416,-0.0193,0.2601,21.7441],[-2.8206,-0.265,0.0013,0.2663,5.1129]],\"color\":\"#F08B55\"}],\"xAxis\":{\"categories\":[\"\\u519c\\u6797\\u7267\\u6e14\",\"\\u91c7\\u6398\",\"\\u5316\\u5de5\",\"\\u94a2\\u94c1\",\"\\u6709\\u8272\\u91d1\\u5c5e\",\"\\u7535\\u5b50\",\"\\u6c7d\\u8f66\",\"\\u5bb6\\u7528\\u7535\\u5668\",\"\\u98df\\u54c1\\u996e\\u6599\",\"\\u7eba\\u7ec7\\u670d\\u88c5\",\"\\u8f7b\\u5de5\\u5236\\u9020\",\"\\u533b\\u836f\\u751f\\u7269\",\"\\u516c\\u7528\\u4e8b\\u4e1a\",\"\\u4ea4\\u901a\\u8fd0\\u8f93\",\"\\u623f\\u5730\\u4ea7\",\"\\u5546\\u4e1a\\u8d38\\u6613\",\"\\u4f11\\u95f2\\u670d\\u52a1\",\"\\u94f6\\u884c\",\"\\u975e\\u94f6\\u91d1\\u878d\",\"\\u7efc\\u5408\",\"\\u5efa\\u7b51\\u6750\\u6599\",\"\\u5efa\\u7b51\\u88c5\\u9970\",\"\\u7535\\u6c14\\u8bbe\\u5907\",\"\\u673a\\u68b0\\u8bbe\\u5907\",\"\\u56fd\\u9632\\u519b\\u5de5\",\"\\u8ba1\\u7b97\\u673a\",\"\\u4f20\\u5a92\",\"\\u901a\\u4fe1\"]}}/bigcharts-data-end</pre></div></div>\n",
       "                \n",
       "            \n",
       "                \n",
       "                <div class=\"col\"><div id=\"bigchart-cb7e7062ebab40929ac5dfe8a50ae8c6\" class=\"bigchart\"></div><div class=\"bigchart-data\"><pre style=\"display:none\">bigcharts-data-start/{\"chart\":{\"height\":500,\"type\":\"boxplot\",\"renderTo\":\"bigchart-cb7e7062ebab40929ac5dfe8a50ae8c6\"},\"legend\":{\"enabled\":true},\"title\":{\"text\":\"\\u5904\\u7406\\u540e\\u56e0\\u5b50\\u5e02\\u503c\\u5206\\u5e03\"},\"stock\":false,\"series\":[{\"name\":\"\\u5904\\u7406\\u540e\\u56e0\\u5b50\",\"data\":[[-12.6324,-0.3581,-0.039,0.2511,19.5373],[-10.2333,-0.2974,-0.0031,0.2762,14.038],[-24.5328,-0.3093,0.0173,0.3623,14.846],[-15.6621,-0.3992,0.0309,0.4861,49.2519],[-69.3075,-0.7888,0.0375,0.9226,43.1135]],\"color\":\"#F08B55\"}],\"xAxis\":{\"categories\":[\"\\u8d85\\u5c0f\\u578b\",\"\\u5c0f\\u578b\",\"\\u4e2d\\u578b\",\"\\u5927\\u578b\",\"\\u8d85\\u5927\\u578b\"]}}/bigcharts-data-end</pre></div></div>\n",
       "                \n",
       "            \n",
       "            </div><div class=\"type_title_left\"><p>IC分析<i class=\"fa fa-question-circle-o\" title=\"期初因子值与因子当期收益相关性分析，绝对值越大越好。以及因子值与滞后n期因子收益的相关性分析。\"></i></p></div>\n",
       "        <div class=\"ic_summary\">\n",
       "          <div class=\"item ic_mean\"><label>IC均值</label><p>-0.01</p></div>\n",
       "          <div class=\"item ic_std\"><label>IC标准差</label><p>0.06</p></div>\n",
       "          <div class=\"item ir\"><label>IR值</label><p>-0.10</p></div>\n",
       "          <div class=\"item ic_significance_ratio\"><label>|IC| > 0.02比率</label><p>63.54%</p></div>\n",
       "        </div>\n",
       "        <div class=\"cols\">\n",
       "            \n",
       "                \n",
       "                <div class=\"col\"><div id=\"bigchart-dfa84f6b23e54125be87d5e9799c85ed\" class=\"bigchart\"></div><div class=\"bigchart-data\"><pre style=\"display:none\">bigcharts-data-start/{\"chart\":{\"height\":500,\"type\":\"column\",\"renderTo\":\"bigchart-dfa84f6b23e54125be87d5e9799c85ed\"},\"legend\":{\"enabled\":true},\"title\":{\"text\":\"IC\\u65f6\\u5e8f\\u56fe\"},\"stock\":true,\"series\":[{\"name\":\"IC\",\"yAxis\":0,\"data\":[[1609804800000,0.0308],[1609977600000,-0.0228],[1610323200000,-0.0182],[1610496000000,0.1714],[1610668800000,-0.0374],[1611014400000,-0.0405],[1611187200000,-0.1922],[1611532800000,0.0709],[1611705600000,-0.04],[1611878400000,0.0042],[1612224000000,-0.0444],[1612396800000,0.0825],[1612742400000,-0.063],[1612915200000,0.1383],[1613692800000,-0.0721],[1614038400000,-0.0244],[1614211200000,-0.0518],[1614556800000,0.0386],[1614729600000,-0.0367],[1614902400000,0.0011],[1615248000000,-0.0036],[1615420800000,-0.0834],[1615766400000,-0.069],[1615939200000,0.1633],[1616112000000,0.0093],[1616457600000,-0.0081],[1616630400000,0.0485],[1616976000000,-0.0288],[1617148800000,-0.1038],[1617321600000,-0.0145],[1617753600000,0.0427],[1617926400000,-0.029],[1618272000000,0.0151],[1618444800000,-0.1441],[1618790400000,0.0564],[1618963200000,-0.0186],[1619136000000,-0.0063],[1619481600000,-0.0304],[1619654400000,0.1453],[1620259200000,-0.0091],[1620604800000,0.01],[1620777600000,-0.0087],[1620950400000,-0.1259],[1621296000000,0.0129],[1621468800000,-0.0451],[1621814400000,-0.0173],[1621987200000,-0.0087],[1622160000000,-0.0394],[1622505600000,0.0104],[1622678400000,0.0123],[1623024000000,-0.0106],[1623196800000,-0.0367],[1623369600000,-0.0619],[1623801600000,-0.1034],[1623974400000,0.0465],[1624320000000,0.0828],[1624492800000,-0.0576],[1625011200000,-0.002],[1625184000000,-0.0136],[1625529600000,-0.0181],[1626048000000,0.0639],[1626220800000,0.0412],[1626393600000,-0.0131],[1626739200000,0.043],[1627257600000,0.021],[1627603200000,-0.0612],[1627948800000,0.0344],[1628467200000,0.0006],[1628640000000,-0.0086],[1628812800000,-0.0908],[1629158400000,-0.0774],[1629676800000,0.0042],[1629849600000,0.0579],[1630022400000,0.0121],[1630368000000,-0.0046],[1630540800000,-0.007],[1630886400000,0.0687],[1631059200000,0.1127],[1631232000000,-0.076],[1631750400000,-0.0037],[1632268800000,-0.0555],[1632441600000,0.0166],[1632787200000,-0.0362],[1632960000000,-0.0802],[1633910400000,-0.0159],[1634083200000,-0.064],[1634256000000,0.0131],[1634601600000,-0.0183],[1634774400000,-0.0372],[1624838400000,0.1091],[1625702400000,-0.0953],[1626912000000,0.0622],[1627430400000,-0.0037],[1628121600000,-0.0904],[1629331200000,0.073],[1631577600000,0.0398]],\"color\":\"#F08B55\"}],\"xAxis\":{\"title\":{\"text\":\"date\"},\"type\":\"datetime\"}}/bigcharts-data-end</pre></div></div>\n",
       "                \n",
       "            \n",
       "                \n",
       "                <div class=\"col\"><div id=\"bigchart-502e103501764b228b64a373ed9e898f\" class=\"bigchart\"></div><div class=\"bigchart-data\"><pre style=\"display:none\">bigcharts-data-start/{\"chart\":{\"height\":500,\"type\":\"column\",\"renderTo\":\"bigchart-502e103501764b228b64a373ed9e898f\"},\"legend\":{\"enabled\":true},\"title\":{\"text\":\"IC\\u4fe1\\u53f7\\u8870\\u51cf\"},\"stock\":false,\"series\":[{\"name\":\"IC\",\"yAxis\":0,\"data\":[[\"\\u6ede\\u540e0\\u671f\",-0.0064],[\"\\u6ede\\u540e1\\u671f\",0.0499],[\"\\u6ede\\u540e2\\u671f\",-0.0079],[\"\\u6ede\\u540e3\\u671f\",-0.0164],[\"\\u6ede\\u540e4\\u671f\",-0.0123]],\"color\":\"#F08B55\"}],\"xAxis\":{\"categories\":[\"\\u6ede\\u540e0\\u671f\",\"\\u6ede\\u540e1\\u671f\",\"\\u6ede\\u540e2\\u671f\",\"\\u6ede\\u540e3\\u671f\",\"\\u6ede\\u540e4\\u671f\"]}}/bigcharts-data-end</pre></div></div>\n",
       "                \n",
       "            \n",
       "            </div><div class=\"type_title_left\"><p>买入信号重合分析<i class=\"fa fa-question-circle-o\" title=\"分布对最小和最大分位组，计算当期和滞后n期所选股票的重合度。\"></i></p></div><div id=\"bigchart-2c58255f0eb3496dbb48b0923597a89a\" class=\"bigchart\"></div><div class=\"bigchart-data\"><pre style=\"display:none\">bigcharts-data-start/{\"chart\":{\"height\":500,\"type\":\"column\",\"renderTo\":\"bigchart-2c58255f0eb3496dbb48b0923597a89a\"},\"legend\":{\"enabled\":true},\"title\":{\"text\":\"\\u4e70\\u5165\\u4fe1\\u53f7\\u91cd\\u5408\\u5ea6\"},\"stock\":false,\"series\":[{\"name\":\"\\u6700\\u5c0f\\u5206\\u4f4d\",\"yAxis\":0,\"data\":[[\"\\u6ede\\u540e1\\u671f\",0.29],[\"\\u6ede\\u540e2\\u671f\",0.2869],[\"\\u6ede\\u540e3\\u671f\",0.2666],[\"\\u6ede\\u540e4\\u671f\",0.2582],[\"\\u6ede\\u540e5\\u671f\",0.2732],[\"\\u6ede\\u540e6\\u671f\",0.2656],[\"\\u6ede\\u540e7\\u671f\",0.2587],[\"\\u6ede\\u540e8\\u671f\",0.2576],[\"\\u6ede\\u540e9\\u671f\",0.2577],[\"\\u6ede\\u540e10\\u671f\",0.2617]],\"color\":\"#F08B55\"},{\"name\":\"\\u6700\\u5927\\u5206\\u4f4d\",\"yAxis\":0,\"data\":[[\"\\u6ede\\u540e1\\u671f\",0.2759],[\"\\u6ede\\u540e2\\u671f\",0.2765],[\"\\u6ede\\u540e3\\u671f\",0.2618],[\"\\u6ede\\u540e4\\u671f\",0.2618],[\"\\u6ede\\u540e5\\u671f\",0.2639],[\"\\u6ede\\u540e6\\u671f\",0.2467],[\"\\u6ede\\u540e7\\u671f\",0.2546],[\"\\u6ede\\u540e8\\u671f\",0.249],[\"\\u6ede\\u540e9\\u671f\",0.2476],[\"\\u6ede\\u540e10\\u671f\",0.255]],\"color\":\"#648FD5\"}],\"xAxis\":{\"categories\":[\"\\u6ede\\u540e1\\u671f\",\"\\u6ede\\u540e2\\u671f\",\"\\u6ede\\u540e3\\u671f\",\"\\u6ede\\u540e4\\u671f\",\"\\u6ede\\u540e5\\u671f\",\"\\u6ede\\u540e6\\u671f\",\"\\u6ede\\u540e7\\u671f\",\"\\u6ede\\u540e8\\u671f\",\"\\u6ede\\u540e9\\u671f\",\"\\u6ede\\u540e10\\u671f\"]}}/bigcharts-data-end</pre></div><div class=\"type_title_left\"><p>因子估值分析<i class=\"fa fa-question-circle-o\" title=\"衡量因子估值高低，估值越低，该因子越可以加大配置。\"></i></p></div><div id=\"bigchart-39bdcdf2b082499aa4d319c2fa5ad2c8\" class=\"bigchart\"></div><div class=\"bigchart-data\"><pre style=\"display:none\">bigcharts-data-start/{\"chart\":{\"height\":500,\"renderTo\":\"bigchart-39bdcdf2b082499aa4d319c2fa5ad2c8\"},\"legend\":{\"enabled\":true},\"title\":{\"text\":\"PB\\u4f30\\u503c\\u5206\\u6790\"},\"stock\":true,\"series\":[{\"name\":\"1\\u5206\\u4f4d\\u6570\",\"yAxis\":0,\"data\":[[1609718400000,null],[1609804800000,null],[1609891200000,3.3044],[1609977600000,3.2646],[1610064000000,2.824],[1610323200000,2.8446],[1610409600000,3.006],[1610496000000,3.06],[1610582400000,3.5325],[1610668800000,3.7795],[1610928000000,3.0149],[1611014400000,3.0862],[1611100800000,3.205],[1611187200000,3.1994],[1611273600000,3.8498],[1611532800000,3.8579],[1611619200000,2.7769],[1611705600000,2.7887],[1611792000000,3.3278],[1611878400000,3.0975],[1612137600000,3.3852],[1612224000000,3.3504],[1612310400000,3.059],[1612396800000,2.8959],[1612483200000,2.9915],[1612742400000,3.095],[1612828800000,2.5375],[1612915200000,2.5335],[1613606400000,3.5129],[1613692800000,3.3131],[1613952000000,2.7743],[1614038400000,2.568],[1614124800000,2.816],[1614211200000,2.8545],[1614297600000,3.5222],[1614556800000,3.2952],[1614643200000,3.4704],[1614729600000,3.2414],[1614816000000,3.1176],[1614902400000,3.1509],[1615161600000,2.9371],[1615248000000,2.9098],[1615334400000,2.8432],[1615420800000,3.0705],[1615507200000,2.2966],[1615766400000,2.2692],[1615852800000,2.885],[1615939200000,2.8188],[1616025600000,2.4381],[1616112000000,2.4473],[1616371200000,2.4989],[1616457600000,2.3845],[1616544000000,2.5522],[1616630400000,2.5344],[1616716800000,2.5425],[1616976000000,2.6151],[1617062400000,3.3027],[1617148800000,3.3228],[1617235200000,3.1703],[1617321600000,3.1692],[1617667200000,3.0713],[1617753600000,3.0547],[1617840000000,2.9637],[1617926400000,2.9568],[1618185600000,2.4323],[1618272000000,2.4281],[1618358400000,2.8575],[1618444800000,2.9225],[1618531200000,2.3922],[1618790400000,2.3564],[1618876800000,2.4037],[1618963200000,2.358],[1619049600000,2.7721],[1619136000000,2.7472],[1619395200000,2.4196],[1619481600000,2.4453],[1619568000000,2.7939],[1619654400000,2.7757],[1619740800000,2.5664],[1620259200000,2.5455],[1620345600000,2.6835],[1620604800000,2.6556],[1620691200000,2.5444],[1620777600000,2.4265],[1620864000000,2.3712],[1620950400000,2.4002],[1621209600000,3.1649],[1621296000000,3.3098],[1621382400000,3.1392],[1621468800000,3.0554],[1621555200000,2.4153],[1621814400000,2.4468],[1621900800000,3.1568],[1621987200000,3.18],[1622073600000,3.7038],[1622160000000,3.6655],[1622419200000,3.5153],[1622505600000,3.4953],[1622592000000,2.7283],[1622678400000,2.5747],[1622764800000,3.3887],[1623024000000,3.3254],[1623110400000,2.4789],[1623196800000,2.4478],[1623283200000,2.3117],[1623369600000,2.3162],[1623715200000,2.5147],[1623801600000,2.4406],[1623888000000,2.9347],[1623974400000,2.9731],[1624233600000,2.943],[1624320000000,2.9403],[1624406400000,3.2259],[1624492800000,3.1406],[1624579200000,3.2351],[1624838400000,3.2243],[1624924800000,3.1803],[1625011200000,3.073],[1625097600000,2.4229],[1625184000000,2.4389],[1625443200000,2.9245],[1625529600000,2.9146],[1625616000000,3.369],[1625702400000,3.3452],[1625788800000,2.2195],[1626048000000,2.2223],[1626134400000,3.0775],[1626220800000,2.977],[1626307200000,2.1085],[1626393600000,2.229],[1626652800000,2.701],[1626739200000,2.6593],[1626825600000,2.3734],[1626912000000,2.4787],[1626998400000,3.6271],[1627257600000,3.4202],[1627344000000,2.4692],[1627430400000,2.459],[1627516800000,1.9815],[1627603200000,1.9968],[1627862400000,2.3633],[1627948800000,2.3279],[1628035200000,2.5625],[1628121600000,2.895],[1628208000000,2.9285],[1628467200000,2.8616],[1628553600000,2.4847],[1628640000000,2.5421],[1628726400000,2.9934],[1628812800000,3.2672],[1629072000000,2.2533],[1629158400000,2.2028],[1629244800000,2.8309],[1629331200000,2.7132],[1629417600000,2.7969],[1629676800000,2.7173],[1629763200000,3.525],[1629849600000,3.4724],[1629936000000,3.3932],[1630022400000,3.2694],[1630281600000,2.8571],[1630368000000,2.9382],[1630454400000,2.5552],[1630540800000,2.6337],[1630627200000,3.0646],[1630886400000,3.1418],[1630972800000,3.7676],[1631059200000,3.7297],[1631145600000,3.1729],[1631232000000,2.9275],[1631491200000,2.9153],[1631577600000,2.8352],[1631664000000,2.7855],[1631750400000,2.7001],[1631836800000,3.5773],[1632268800000,3.6817],[1632355200000,2.5588],[1632441600000,2.5276],[1632700800000,2.7626],[1632787200000,2.7902],[1632873600000,2.7349],[1632960000000,2.825],[1633651200000,3.2918],[1633910400000,3.3217],[1633996800000,2.4158],[1634083200000,2.337],[1634169600000,3.3855],[1634256000000,3.1194],[1634515200000,2.7939],[1634601600000,2.793],[1634688000000,3.083],[1634774400000,3.1242],[1634860800000,2.6917],[1635120000000,2.7388]],\"color\":\"#F08B55\"},{\"name\":\"2\\u5206\\u4f4d\\u6570\",\"yAxis\":0,\"data\":[[1609718400000,null],[1609804800000,null],[1609891200000,1.9132],[1609977600000,1.8415],[1610064000000,1.5996],[1610323200000,1.5125],[1610409600000,1.9461],[1610496000000,1.9344],[1610582400000,1.8379],[1610668800000,1.8024],[1610928000000,1.5059],[1611014400000,1.5693],[1611100800000,1.4802],[1611187200000,1.5157],[1611273600000,1.8586],[1611532800000,1.8351],[1611619200000,1.7361],[1611705600000,1.7952],[1611792000000,1.5094],[1611878400000,1.4682],[1612137600000,1.9902],[1612224000000,2.0155],[1612310400000,1.8898],[1612396800000,1.9186],[1612483200000,1.437],[1612742400000,1.455],[1612828800000,1.7922],[1612915200000,1.8104],[1613606400000,1.8289],[1613692800000,1.8436],[1613952000000,1.6559],[1614038400000,1.6391],[1614124800000,1.6046],[1614211200000,1.6059],[1614297600000,1.8871],[1614556800000,1.935],[1614643200000,2.121],[1614729600000,2.1495],[1614816000000,1.4473],[1614902400000,1.5016],[1615161600000,1.5715],[1615248000000,1.5394],[1615334400000,1.6013],[1615420800000,1.6401],[1615507200000,1.8307],[1615766400000,1.8453],[1615852800000,1.5737],[1615939200000,1.611],[1616025600000,1.6437],[1616112000000,1.6619],[1616371200000,1.7611],[1616457600000,1.7195],[1616544000000,1.9501],[1616630400000,1.9213],[1616716800000,1.8243],[1616976000000,1.7846],[1617062400000,1.7803],[1617148800000,1.788],[1617235200000,2.1336],[1617321600000,2.0936],[1617667200000,1.9364],[1617753600000,1.9427],[1617840000000,2.0033],[1617926400000,1.9987],[1618185600000,1.6595],[1618272000000,1.5976],[1618358400000,2.2046],[1618444800000,2.1771],[1618531200000,2.003],[1618790400000,1.982],[1618876800000,1.5754],[1618963200000,1.551],[1619049600000,1.6343],[1619136000000,1.6333],[1619395200000,1.835],[1619481600000,1.8153],[1619568000000,1.4551],[1619654400000,1.4464],[1619740800000,2.0178],[1620259200000,2.0837],[1620345600000,1.6978],[1620604800000,1.7727],[1620691200000,1.8722],[1620777600000,1.8406],[1620864000000,1.7807],[1620950400000,1.7867],[1621209600000,1.8775],[1621296000000,1.8647],[1621382400000,1.8823],[1621468800000,1.8138],[1621555200000,1.9702],[1621814400000,1.9654],[1621900800000,1.7812],[1621987200000,1.77],[1622073600000,1.9374],[1622160000000,1.8884],[1622419200000,1.8825],[1622505600000,1.851],[1622592000000,1.6788],[1622678400000,1.6989],[1622764800000,1.5263],[1623024000000,1.539],[1623110400000,2.3053],[1623196800000,2.3146],[1623283200000,1.4492],[1623369600000,1.4311],[1623715200000,1.7443],[1623801600000,1.7369],[1623888000000,2.0409],[1623974400000,2.0476],[1624233600000,1.5062],[1624320000000,1.5158],[1624406400000,2.05],[1624492800000,2.0508],[1624579200000,1.82],[1624838400000,1.8288],[1624924800000,2.0766],[1625011200000,2.2482],[1625097600000,1.584],[1625184000000,1.6289],[1625443200000,1.7161],[1625529600000,1.6996],[1625616000000,2.0019],[1625702400000,2.0229],[1625788800000,2.2787],[1626048000000,2.2439],[1626134400000,1.9622],[1626220800000,1.9696],[1626307200000,1.7893],[1626393600000,1.7988],[1626652800000,2.0616],[1626739200000,2.0333],[1626825600000,1.702],[1626912000000,1.7207],[1626998400000,1.9151],[1627257600000,1.8892],[1627344000000,1.6222],[1627430400000,1.6429],[1627516800000,1.7639],[1627603200000,1.745],[1627862400000,1.4537],[1627948800000,1.567],[1628035200000,1.7533],[1628121600000,1.7344],[1628208000000,1.6695],[1628467200000,1.7099],[1628553600000,1.7892],[1628640000000,1.8013],[1628726400000,2.0046],[1628812800000,2.0327],[1629072000000,1.6257],[1629158400000,1.5844],[1629244800000,1.6384],[1629331200000,1.6204],[1629417600000,1.8833],[1629676800000,1.934],[1629763200000,1.8265],[1629849600000,1.8165],[1629936000000,2.0074],[1630022400000,1.9991],[1630281600000,1.6553],[1630368000000,1.6615],[1630454400000,1.6828],[1630540800000,1.7223],[1630627200000,1.5124],[1630886400000,1.5328],[1630972800000,2.0235],[1631059200000,2.0687],[1631145600000,2.0548],[1631232000000,2.0439],[1631491200000,1.8705],[1631577600000,1.7962],[1631664000000,1.68],[1631750400000,1.6463],[1631836800000,1.5045],[1632268800000,1.484],[1632355200000,2.0188],[1632441600000,1.985],[1632700800000,1.5836],[1632787200000,1.5914],[1632873600000,1.6372],[1632960000000,1.6685],[1633651200000,1.9625],[1633910400000,1.9562],[1633996800000,2.2634],[1634083200000,2.2236],[1634169600000,2.2576],[1634256000000,2.2563],[1634515200000,1.6966],[1634601600000,1.6865],[1634688000000,1.9135],[1634774400000,1.9039],[1634860800000,2.0695],[1635120000000,1.9296]],\"color\":\"#648FD5\"},{\"name\":\"3\\u5206\\u4f4d\\u6570\",\"yAxis\":0,\"data\":[[1609718400000,null],[1609804800000,null],[1609891200000,1.206],[1609977600000,1.1781],[1610064000000,1.3222],[1610323200000,1.3351],[1610409600000,1.3221],[1610496000000,1.3095],[1610582400000,1.5514],[1610668800000,1.6481],[1610928000000,1.3533],[1611014400000,1.3843],[1611100800000,1.2183],[1611187200000,1.2115],[1611273600000,1.7905],[1611532800000,1.8493],[1611619200000,1.2214],[1611705600000,1.2113],[1611792000000,1.2897],[1611878400000,1.3162],[1612137600000,1.2705],[1612224000000,1.2864],[1612310400000,1.4625],[1612396800000,1.42],[1612483200000,1.2227],[1612742400000,1.2081],[1612828800000,1.2105],[1612915200000,1.2135],[1613606400000,1.5862],[1613692800000,1.6574],[1613952000000,1.4563],[1614038400000,1.4752],[1614124800000,1.4834],[1614211200000,1.4916],[1614297600000,1.4462],[1614556800000,1.4607],[1614643200000,1.559],[1614729600000,1.5449],[1614816000000,1.3658],[1614902400000,1.3434],[1615161600000,1.8385],[1615248000000,1.7395],[1615334400000,1.4025],[1615420800000,1.4045],[1615507200000,1.7055],[1615766400000,1.7241],[1615852800000,1.6165],[1615939200000,1.6254],[1616025600000,1.51],[1616112000000,1.505],[1616371200000,1.5966],[1616457600000,1.543],[1616544000000,1.4788],[1616630400000,1.4521],[1616716800000,1.4796],[1616976000000,1.4694],[1617062400000,1.6228],[1617148800000,1.6365],[1617235200000,1.3969],[1617321600000,1.3578],[1617667200000,1.4606],[1617753600000,1.4468],[1617840000000,1.3632],[1617926400000,1.3657],[1618185600000,1.523],[1618272000000,1.4919],[1618358400000,1.2854],[1618444800000,1.2868],[1618531200000,1.369],[1618790400000,1.3714],[1618876800000,1.6567],[1618963200000,1.662],[1619049600000,1.5349],[1619136000000,1.4977],[1619395200000,1.417],[1619481600000,1.4102],[1619568000000,1.3443],[1619654400000,1.3366],[1619740800000,1.5569],[1620259200000,1.5897],[1620345600000,1.5649],[1620604800000,1.5927],[1620691200000,1.6713],[1620777600000,1.6615],[1620864000000,1.4689],[1620950400000,1.4553],[1621209600000,1.3819],[1621296000000,1.3769],[1621382400000,1.4597],[1621468800000,1.4437],[1621555200000,1.3588],[1621814400000,1.4392],[1621900800000,1.3798],[1621987200000,1.3807],[1622073600000,1.5865],[1622160000000,1.5943],[1622419200000,1.4247],[1622505600000,1.4274],[1622592000000,1.547],[1622678400000,1.528],[1622764800000,1.3156],[1623024000000,1.2996],[1623110400000,1.3462],[1623196800000,1.4609],[1623283200000,1.6956],[1623369600000,1.7164],[1623715200000,1.3574],[1623801600000,1.3492],[1623888000000,1.365],[1623974400000,1.3867],[1624233600000,1.3889],[1624320000000,1.3719],[1624406400000,1.6986],[1624492800000,1.6795],[1624579200000,1.279],[1624838400000,1.2836],[1624924800000,1.6228],[1625011200000,1.6248],[1625097600000,1.319],[1625184000000,1.3237],[1625443200000,1.6268],[1625529600000,1.656],[1625616000000,1.8878],[1625702400000,1.8766],[1625788800000,1.3018],[1626048000000,1.3147],[1626134400000,1.504],[1626220800000,1.4479],[1626307200000,1.4157],[1626393600000,1.4517],[1626652800000,1.4092],[1626739200000,1.4028],[1626825600000,1.7537],[1626912000000,1.8007],[1626998400000,1.3608],[1627257600000,1.3439],[1627344000000,1.5718],[1627430400000,1.4964],[1627516800000,1.5433],[1627603200000,1.543],[1627862400000,1.7255],[1627948800000,1.7026],[1628035200000,1.7347],[1628121600000,1.7475],[1628208000000,1.2306],[1628467200000,1.2541],[1628553600000,1.6765],[1628640000000,1.7024],[1628726400000,1.5496],[1628812800000,1.592],[1629072000000,1.942],[1629158400000,1.9518],[1629244800000,1.3746],[1629331200000,1.3804],[1629417600000,1.3759],[1629676800000,1.389],[1629763200000,1.7027],[1629849600000,1.7601],[1629936000000,1.7468],[1630022400000,1.7532],[1630281600000,1.6042],[1630368000000,1.6864],[1630454400000,1.4964],[1630540800000,1.5155],[1630627200000,1.662],[1630886400000,1.6897],[1630972800000,1.4847],[1631059200000,1.4804],[1631145600000,1.5816],[1631232000000,1.5572],[1631491200000,1.8504],[1631577600000,1.8361],[1631664000000,1.7483],[1631750400000,1.6791],[1631836800000,1.727],[1632268800000,1.7938],[1632355200000,1.7588],[1632441600000,1.7101],[1632700800000,1.8178],[1632787200000,1.8725],[1632873600000,1.5581],[1632960000000,1.6221],[1633651200000,1.4676],[1633910400000,1.4313],[1633996800000,1.5335],[1634083200000,1.5081],[1634169600000,1.4561],[1634256000000,1.4431],[1634515200000,1.5877],[1634601600000,1.6056],[1634688000000,1.193],[1634774400000,1.2071],[1634860800000,1.349],[1635120000000,1.3438]],\"color\":\"#E06681\"},{\"name\":\"4\\u5206\\u4f4d\\u6570\",\"yAxis\":0,\"data\":[[1609718400000,null],[1609804800000,null],[1609891200000,1.7597],[1609977600000,1.7695],[1610064000000,2.0512],[1610323200000,2.0514],[1610409600000,1.3377],[1610496000000,1.3173],[1610582400000,1.3313],[1610668800000,1.2858],[1610928000000,1.9082],[1611014400000,1.9368],[1611100800000,1.7623],[1611187200000,1.7799],[1611273600000,1.4086],[1611532800000,1.4097],[1611619200000,1.4292],[1611705600000,1.4177],[1611792000000,1.8266],[1611878400000,1.8378],[1612137600000,1.5209],[1612224000000,1.4915],[1612310400000,1.479],[1612396800000,1.437],[1612483200000,1.8157],[1612742400000,1.8394],[1612828800000,1.7533],[1612915200000,1.7336],[1613606400000,1.5028],[1613692800000,1.536],[1613952000000,2.3254],[1614038400000,2.2647],[1614124800000,2.1517],[1614211200000,2.1456],[1614297600000,1.6232],[1614556800000,1.6749],[1614643200000,1.6079],[1614729600000,1.6385],[1614816000000,2.0852],[1614902400000,2.0674],[1615161600000,1.7724],[1615248000000,1.7271],[1615334400000,1.8396],[1615420800000,1.8828],[1615507200000,1.6274],[1615766400000,1.639],[1615852800000,1.8307],[1615939200000,1.9002],[1616025600000,1.8049],[1616112000000,1.7299],[1616371200000,1.848],[1616457600000,1.7633],[1616544000000,1.6645],[1616630400000,1.6913],[1616716800000,1.879],[1616976000000,1.8857],[1617062400000,1.4788],[1617148800000,1.4686],[1617235200000,1.6094],[1617321600000,1.6096],[1617667200000,1.6676],[1617753600000,1.7208],[1617840000000,1.754],[1617926400000,1.7145],[1618185600000,1.777],[1618272000000,1.7873],[1618358400000,1.7674],[1618444800000,1.7463],[1618531200000,1.8755],[1618790400000,1.9046],[1618876800000,1.9039],[1618963200000,1.9278],[1619049600000,1.7452],[1619136000000,1.7276],[1619395200000,2.0173],[1619481600000,1.9783],[1619568000000,1.9267],[1619654400000,1.9155],[1619740800000,1.4722],[1620259200000,1.4383],[1620345600000,1.9274],[1620604800000,1.894],[1620691200000,1.4438],[1620777600000,1.4706],[1620864000000,1.7954],[1620950400000,1.8128],[1621209600000,1.8917],[1621296000000,1.8848],[1621382400000,1.6595],[1621468800000,1.6698],[1621555200000,1.6595],[1621814400000,1.7069],[1621900800000,1.8452],[1621987200000,1.8756],[1622073600000,1.6865],[1622160000000,1.714],[1622419200000,1.7945],[1622505600000,1.8113],[1622592000000,1.823],[1622678400000,1.826],[1622764800000,2.0582],[1623024000000,2.0458],[1623110400000,1.6287],[1623196800000,1.6465],[1623283200000,1.8818],[1623369600000,1.8896],[1623715200000,2.0505],[1623801600000,2.024],[1623888000000,1.7371],[1623974400000,1.7443],[1624233600000,1.7325],[1624320000000,1.7419],[1624406400000,1.3979],[1624492800000,1.3854],[1624579200000,1.6311],[1624838400000,1.6425],[1624924800000,1.4416],[1625011200000,1.4687],[1625097600000,1.8248],[1625184000000,1.7765],[1625443200000,1.6375],[1625529600000,1.6563],[1625616000000,1.3003],[1625702400000,1.2762],[1625788800000,1.4419],[1626048000000,1.4991],[1626134400000,1.6721],[1626220800000,1.6739],[1626307200000,2.1755],[1626393600000,2.2063],[1626652800000,1.9016],[1626739200000,1.9769],[1626825600000,1.9228],[1626912000000,1.9424],[1626998400000,1.7675],[1627257600000,1.7289],[1627344000000,1.9606],[1627430400000,1.9236],[1627516800000,1.9698],[1627603200000,2.0874],[1627862400000,1.7727],[1627948800000,1.7847],[1628035200000,1.3968],[1628121600000,1.3807],[1628208000000,2.1852],[1628467200000,2.1734],[1628553600000,2.0385],[1628640000000,2.0497],[1628726400000,1.6656],[1628812800000,1.6741],[1629072000000,2.0145],[1629158400000,1.9681],[1629244800000,2.1078],[1629331200000,2.0752],[1629417600000,1.6882],[1629676800000,1.6284],[1629763200000,1.6775],[1629849600000,1.71],[1629936000000,1.5718],[1630022400000,1.5439],[1630281600000,2.1899],[1630368000000,2.2233],[1630454400000,1.8678],[1630540800000,1.8819],[1630627200000,2.2846],[1630886400000,2.161],[1630972800000,2.2462],[1631059200000,2.2961],[1631145600000,2.4498],[1631232000000,2.3636],[1631491200000,2.5533],[1631577600000,2.5189],[1631664000000,1.9996],[1631750400000,1.9829],[1631836800000,1.993],[1632268800000,1.9829],[1632355200000,2.1384],[1632441600000,1.9923],[1632700800000,1.8556],[1632787200000,1.845],[1632873600000,2.1091],[1632960000000,2.1522],[1633651200000,1.875],[1633910400000,1.8686],[1633996800000,1.9237],[1634083200000,1.9107],[1634169600000,1.7654],[1634256000000,1.7504],[1634515200000,1.7602],[1634601600000,1.7705],[1634688000000,2.0018],[1634774400000,1.9963],[1634860800000,1.7138],[1635120000000,1.6628]],\"color\":\"#E2D269\"},{\"name\":\"5\\u5206\\u4f4d\\u6570\",\"yAxis\":0,\"data\":[[1609718400000,null],[1609804800000,null],[1609891200000,2.9198],[1609977600000,2.8784],[1610064000000,3.496],[1610323200000,3.398],[1610409600000,3.6734],[1610496000000,3.7979],[1610582400000,3.194],[1610668800000,3.1896],[1610928000000,3.492],[1611014400000,3.556],[1611100800000,3.9344],[1611187200000,4.0136],[1611273600000,2.2914],[1611532800000,2.2399],[1611619200000,3.6473],[1611705600000,3.5902],[1611792000000,2.7675],[1611878400000,2.6819],[1612137600000,2.7132],[1612224000000,2.6739],[1612310400000,2.5909],[1612396800000,2.5169],[1612483200000,2.662],[1612742400000,2.9037],[1612828800000,2.9005],[1612915200000,2.8282],[1613606400000,2.3502],[1613692800000,2.4805],[1613952000000,3.2951],[1614038400000,3.2055],[1614124800000,3.115],[1614211200000,3.039],[1614297600000,2.7582],[1614556800000,2.7429],[1614643200000,2.7176],[1614729600000,2.7971],[1614816000000,3.2366],[1614902400000,3.2795],[1615161600000,2.9794],[1615248000000,2.8424],[1615334400000,2.9974],[1615420800000,3.0838],[1615507200000,3.3081],[1615766400000,3.1846],[1615852800000,2.9055],[1615939200000,2.9147],[1616025600000,3.1941],[1616112000000,3.2374],[1616371200000,3.0935],[1616457600000,3.0179],[1616544000000,2.4467],[1616630400000,2.5488],[1616716800000,3.1343],[1616976000000,3.2086],[1617062400000,2.4764],[1617148800000,2.5397],[1617235200000,2.3538],[1617321600000,2.2087],[1617667200000,2.5931],[1617753600000,2.7381],[1617840000000,3.2567],[1617926400000,3.4089],[1618185600000,3.5237],[1618272000000,3.5019],[1618358400000,2.5623],[1618444800000,2.6616],[1618531200000,2.5705],[1618790400000,2.6075],[1618876800000,2.6481],[1618963200000,2.6451],[1619049600000,3.8011],[1619136000000,3.9125],[1619395200000,2.9128],[1619481600000,2.9169],[1619568000000,3.4187],[1619654400000,3.4328],[1619740800000,2.5041],[1620259200000,2.4868],[1620345600000,2.5505],[1620604800000,2.5646],[1620691200000,3.0839],[1620777600000,3.1274],[1620864000000,3.311],[1620950400000,3.3524],[1621209600000,2.8275],[1621296000000,2.7984],[1621382400000,3.01],[1621468800000,3.0118],[1621555200000,2.9703],[1621814400000,2.9769],[1621900800000,3.1988],[1621987200000,3.1823],[1622073600000,2.9642],[1622160000000,3.0084],[1622419200000,3.0345],[1622505600000,3.1222],[1622592000000,3.4248],[1622678400000,3.5429],[1622764800000,2.7803],[1623024000000,2.7358],[1623110400000,3.0417],[1623196800000,3.0339],[1623283200000,3.6686],[1623369600000,3.6265],[1623715200000,3.0154],[1623801600000,3.0109],[1623888000000,2.0676],[1623974400000,2.1095],[1624233600000,2.9656],[1624320000000,3.0042],[1624406400000,2.5464],[1624492800000,2.5084],[1624579200000,3.5487],[1624838400000,3.5224],[1624924800000,2.9472],[1625011200000,3.0032],[1625097600000,3.2808],[1625184000000,3.28],[1625443200000,2.8265],[1625529600000,2.8048],[1625616000000,2.1249],[1625702400000,2.0678],[1625788800000,3.1618],[1626048000000,3.3068],[1626134400000,3.041],[1626220800000,2.8756],[1626307200000,2.876],[1626393600000,2.846],[1626652800000,2.4421],[1626739200000,2.4302],[1626825600000,3.5156],[1626912000000,3.551],[1626998400000,2.5258],[1627257600000,2.5294],[1627344000000,2.6276],[1627430400000,2.4986],[1627516800000,2.9666],[1627603200000,2.9824],[1627862400000,3.7618],[1627948800000,3.2478],[1628035200000,3.2221],[1628121600000,3.3212],[1628208000000,3.1274],[1628467200000,3.0481],[1628553600000,3.0498],[1628640000000,3.0992],[1628726400000,2.5721],[1628812800000,2.5424],[1629072000000,2.8471],[1629158400000,2.8076],[1629244800000,3.3286],[1629331200000,3.0805],[1629417600000,3.0346],[1629676800000,3.1878],[1629763200000,2.8603],[1629849600000,2.9446],[1629936000000,2.759],[1630022400000,2.7462],[1630281600000,2.8183],[1630368000000,2.7824],[1630454400000,3.4678],[1630540800000,3.6328],[1630627200000,2.784],[1630886400000,2.7854],[1630972800000,2.7195],[1631059200000,2.77],[1631145600000,2.9628],[1631232000000,2.9001],[1631491200000,2.4313],[1631577600000,2.4132],[1631664000000,3.1971],[1631750400000,3.1578],[1631836800000,2.81],[1632268800000,2.8667],[1632355200000,2.9426],[1632441600000,3.1465],[1632700800000,3.0848],[1632787200000,3.1247],[1632873600000,2.6998],[1632960000000,2.7239],[1633651200000,2.7411],[1633910400000,2.8009],[1633996800000,2.7474],[1634083200000,2.9646],[1634169600000,2.5162],[1634256000000,2.4905],[1634515200000,2.8494],[1634601600000,2.9079],[1634688000000,2.5908],[1634774400000,2.5967],[1634860800000,2.8889],[1635120000000,2.8195]],\"color\":\"#4A8E8E\"},{\"name\":\"\\u6700\\u5c0f\\/\\u6700\\u5927\\u5206\\u4f4d\",\"yAxis\":0,\"data\":[[1609718400000,null],[1609804800000,null],[1609891200000,1.1317],[1609977600000,1.1342],[1610064000000,0.8078],[1610323200000,0.8371],[1610409600000,0.8183],[1610496000000,0.8057],[1610582400000,1.106],[1610668800000,1.185],[1610928000000,0.8634],[1611014400000,0.8679],[1611100800000,0.8146],[1611187200000,0.7971],[1611273600000,1.6801],[1611532800000,1.7223],[1611619200000,0.7614],[1611705600000,0.7768],[1611792000000,1.2024],[1611878400000,1.1549],[1612137600000,1.2477],[1612224000000,1.253],[1612310400000,1.1807],[1612396800000,1.1506],[1612483200000,1.1238],[1612742400000,1.0659],[1612828800000,0.8748],[1612915200000,0.8958],[1613606400000,1.4947],[1613692800000,1.3356],[1613952000000,0.842],[1614038400000,0.8011],[1614124800000,0.904],[1614211200000,0.9393],[1614297600000,1.277],[1614556800000,1.2014],[1614643200000,1.277],[1614729600000,1.1589],[1614816000000,0.9632],[1614902400000,0.9608],[1615161600000,0.9858],[1615248000000,1.0237],[1615334400000,0.9486],[1615420800000,0.9957],[1615507200000,0.6942],[1615766400000,0.7126],[1615852800000,0.9929],[1615939200000,0.9671],[1616025600000,0.7633],[1616112000000,0.7559],[1616371200000,0.8078],[1616457600000,0.7901],[1616544000000,1.0431],[1616630400000,0.9943],[1616716800000,0.8112],[1616976000000,0.815],[1617062400000,1.3337],[1617148800000,1.3083],[1617235200000,1.3469],[1617321600000,1.4349],[1617667200000,1.1844],[1617753600000,1.1156],[1617840000000,0.91],[1617926400000,0.8674],[1618185600000,0.6903],[1618272000000,0.6934],[1618358400000,1.1152],[1618444800000,1.098],[1618531200000,0.9306],[1618790400000,0.9037],[1618876800000,0.9077],[1618963200000,0.8915],[1619049600000,0.7293],[1619136000000,0.7022],[1619395200000,0.8307],[1619481600000,0.8383],[1619568000000,0.8172],[1619654400000,0.8086],[1619740800000,1.0249],[1620259200000,1.0236],[1620345600000,1.0522],[1620604800000,1.0355],[1620691200000,0.8251],[1620777600000,0.7759],[1620864000000,0.7162],[1620950400000,0.716],[1621209600000,1.1193],[1621296000000,1.1827],[1621382400000,1.0429],[1621468800000,1.0145],[1621555200000,0.8131],[1621814400000,0.8219],[1621900800000,0.9869],[1621987200000,0.9993],[1622073600000,1.2495],[1622160000000,1.2184],[1622419200000,1.1584],[1622505600000,1.1195],[1622592000000,0.7966],[1622678400000,0.7267],[1622764800000,1.2188],[1623024000000,1.2155],[1623110400000,0.815],[1623196800000,0.8068],[1623283200000,0.6301],[1623369600000,0.6387],[1623715200000,0.834],[1623801600000,0.8106],[1623888000000,1.4193],[1623974400000,1.4094],[1624233600000,0.9924],[1624320000000,0.9787],[1624406400000,1.2668],[1624492800000,1.2521],[1624579200000,0.9116],[1624838400000,0.9154],[1624924800000,1.0791],[1625011200000,1.0233],[1625097600000,0.7385],[1625184000000,0.7436],[1625443200000,1.0347],[1625529600000,1.0391],[1625616000000,1.5855],[1625702400000,1.6178],[1625788800000,0.702],[1626048000000,0.6721],[1626134400000,1.012],[1626220800000,1.0353],[1626307200000,0.7331],[1626393600000,0.7832],[1626652800000,1.106],[1626739200000,1.0943],[1626825600000,0.6751],[1626912000000,0.698],[1626998400000,1.436],[1627257600000,1.3522],[1627344000000,0.9397],[1627430400000,0.9842],[1627516800000,0.6679],[1627603200000,0.6695],[1627862400000,0.6282],[1627948800000,0.7168],[1628035200000,0.7953],[1628121600000,0.8717],[1628208000000,0.9364],[1628467200000,0.9388],[1628553600000,0.8147],[1628640000000,0.8202],[1628726400000,1.1638],[1628812800000,1.2851],[1629072000000,0.7914],[1629158400000,0.7846],[1629244800000,0.8505],[1629331200000,0.8808],[1629417600000,0.9217],[1629676800000,0.8524],[1629763200000,1.2324],[1629849600000,1.1792],[1629936000000,1.2299],[1630022400000,1.1905],[1630281600000,1.0138],[1630368000000,1.056],[1630454400000,0.7368],[1630540800000,0.725],[1630627200000,1.1008],[1630886400000,1.128],[1630972800000,1.3854],[1631059200000,1.3465],[1631145600000,1.0709],[1631232000000,1.0095],[1631491200000,1.1991],[1631577600000,1.1749],[1631664000000,0.8713],[1631750400000,0.8551],[1631836800000,1.2731],[1632268800000,1.2843],[1632355200000,0.8696],[1632441600000,0.8033],[1632700800000,0.8956],[1632787200000,0.8929],[1632873600000,1.013],[1632960000000,1.0371],[1633651200000,1.2009],[1633910400000,1.186],[1633996800000,0.8793],[1634083200000,0.7883],[1634169600000,1.3455],[1634256000000,1.2525],[1634515200000,0.9805],[1634601600000,0.9605],[1634688000000,1.19],[1634774400000,1.2031],[1634860800000,0.9317],[1635120000000,0.9714]]}],\"xAxis\":{\"title\":{\"text\":\"date\"},\"type\":\"datetime\"},\"plotOptions\":{\"series\":{\"compare\":\"percent\"}}}/bigcharts-data-end</pre></div><div class=\"type_title_left\"><p>因子拥挤度分析<i class=\"fa fa-question-circle-o\" title=\"衡量因子拥挤度。使用换手率衡量，换手率越高，拥挤度越高。\"></i></p></div><div id=\"bigchart-e12d3b791c074f08b1c1f8a0881bee2f\" class=\"bigchart\"></div><div class=\"bigchart-data\"><pre style=\"display:none\">bigcharts-data-start/{\"chart\":{\"height\":500,\"renderTo\":\"bigchart-e12d3b791c074f08b1c1f8a0881bee2f\"},\"legend\":{\"enabled\":true},\"title\":{\"text\":\"\\u6362\\u624b\\u7387\\u5206\\u6790\"},\"stock\":true,\"series\":[{\"name\":\"1\\u5206\\u4f4d\\u6570\",\"yAxis\":0,\"data\":[[1609718400000,null],[1609804800000,null],[1609891200000,2.4579],[1609977600000,2.6644],[1610064000000,2.3603],[1610323200000,2.7653],[1610409600000,1.8281],[1610496000000,2.2113],[1610582400000,2.6358],[1610668800000,2.145],[1610928000000,2.0381],[1611014400000,2.3584],[1611100800000,1.9098],[1611187200000,2.5923],[1611273600000,1.8941],[1611532800000,2.2053],[1611619200000,2.0838],[1611705600000,1.7451],[1611792000000,2.2153],[1611878400000,2.4318],[1612137600000,1.5893],[1612224000000,1.5562],[1612310400000,2.1116],[1612396800000,2.208],[1612483200000,1.9672],[1612742400000,1.7501],[1612828800000,1.781],[1612915200000,1.8092],[1613606400000,2.0497],[1613692800000,1.8894],[1613952000000,2.6365],[1614038400000,1.9156],[1614124800000,2.3202],[1614211200000,2.169],[1614297600000,1.7278],[1614556800000,1.7334],[1614643200000,1.6449],[1614729600000,1.613],[1614816000000,2.446],[1614902400000,2.1332],[1615161600000,2.0882],[1615248000000,2.2325],[1615334400000,1.7062],[1615420800000,1.7424],[1615507200000,1.8054],[1615766400000,1.5879],[1615852800000,2.0427],[1615939200000,1.8409],[1616025600000,1.6401],[1616112000000,1.844],[1616371200000,2.0684],[1616457600000,1.9398],[1616544000000,1.623],[1616630400000,1.4904],[1616716800000,1.6688],[1616976000000,1.7651],[1617062400000,1.5253],[1617148800000,1.4075],[1617235200000,1.5],[1617321600000,1.9718],[1617667200000,1.4813],[1617753600000,1.6571],[1617840000000,1.4813],[1617926400000,1.3418],[1618185600000,2.5341],[1618272000000,1.6581],[1618358400000,1.3413],[1618444800000,1.4006],[1618531200000,1.4343],[1618790400000,1.7193],[1618876800000,1.8633],[1618963200000,1.7308],[1619049600000,1.4887],[1619136000000,1.5719],[1619395200000,2.0305],[1619481600000,1.5036],[1619568000000,1.6233],[1619654400000,1.6431],[1619740800000,1.5839],[1620259200000,1.582],[1620345600000,1.5595],[1620604800000,1.678],[1620691200000,1.9794],[1620777600000,1.6625],[1620864000000,1.9114],[1620950400000,1.9228],[1621209600000,1.8857],[1621296000000,1.6181],[1621382400000,1.6286],[1621468800000,1.8953],[1621555200000,1.9603],[1621814400000,2.0759],[1621900800000,1.6817],[1621987200000,1.9245],[1622073600000,2.1961],[1622160000000,2.1767],[1622419200000,1.7227],[1622505600000,1.8778],[1622592000000,1.8073],[1622678400000,1.748],[1622764800000,2.1173],[1623024000000,2.2883],[1623110400000,1.7969],[1623196800000,1.7033],[1623283200000,2.1565],[1623369600000,2.637],[1623715200000,2.2719],[1623801600000,2.0488],[1623888000000,1.7675],[1623974400000,1.9921],[1624233600000,1.8873],[1624320000000,1.8509],[1624406400000,2.3064],[1624492800000,2.0826],[1624579200000,2.1251],[1624838400000,1.9881],[1624924800000,2.0182],[1625011200000,1.8807],[1625097600000,1.8988],[1625184000000,1.8716],[1625443200000,1.7882],[1625529600000,2.1007],[1625616000000,1.931],[1625702400000,2.5664],[1625788800000,2.2863],[1626048000000,2.7074],[1626134400000,2.3286],[1626220800000,2.1543],[1626307200000,2.045],[1626393600000,2.1987],[1626652800000,2.046],[1626739200000,1.6668],[1626825600000,2.4591],[1626912000000,2.4654],[1626998400000,2.4657],[1627257600000,2.7206],[1627344000000,2.6271],[1627430400000,2.4074],[1627516800000,2.2709],[1627603200000,2.439],[1627862400000,2.7943],[1627948800000,2.8225],[1628035200000,2.2404],[1628121600000,2.5088],[1628208000000,2.5911],[1628467200000,2.6973],[1628553600000,2.1194],[1628640000000,2.4335],[1628726400000,2.2064],[1628812800000,2.1693],[1629072000000,2.2456],[1629158400000,2.4158],[1629244800000,2.055],[1629331200000,2.1156],[1629417600000,1.9482],[1629676800000,2.1537],[1629763200000,2.0037],[1629849600000,2.0011],[1629936000000,2.6029],[1630022400000,2.4883],[1630281600000,2.6137],[1630368000000,2.3781],[1630454400000,3.0223],[1630540800000,2.7395],[1630627200000,3.4632],[1630886400000,2.8854],[1630972800000,2.5252],[1631059200000,2.7656],[1631145600000,2.7091],[1631232000000,2.7971],[1631491200000,3.1018],[1631577600000,3.2283],[1631664000000,2.418],[1631750400000,2.8226],[1631836800000,2.66],[1632268800000,2.1444],[1632355200000,2.1868],[1632441600000,2.1532],[1632700800000,2.5046],[1632787200000,1.7812],[1632873600000,1.8765],[1632960000000,1.6271],[1633651200000,1.78],[1633910400000,1.8824],[1633996800000,1.9688],[1634083200000,1.3184],[1634169600000,1.4981],[1634256000000,1.5529],[1634515200000,2.0622],[1634601600000,1.891],[1634688000000,1.9606],[1634774400000,1.8887],[1634860800000,1.8066],[1635120000000,1.7577]],\"color\":\"#F08B55\"},{\"name\":\"2\\u5206\\u4f4d\\u6570\",\"yAxis\":0,\"data\":[[1609718400000,null],[1609804800000,null],[1609891200000,1.9462],[1609977600000,2.285],[1610064000000,1.7473],[1610323200000,1.7318],[1610409600000,1.7477],[1610496000000,1.9948],[1610582400000,1.9951],[1610668800000,1.6009],[1610928000000,1.2434],[1611014400000,1.4431],[1611100800000,1.2894],[1611187200000,1.6033],[1611273600000,2.2823],[1611532800000,2.1025],[1611619200000,1.6821],[1611705600000,1.7909],[1611792000000,1.3612],[1611878400000,1.4433],[1612137600000,1.4148],[1612224000000,1.4645],[1612310400000,1.5251],[1612396800000,1.646],[1612483200000,1.3215],[1612742400000,1.2612],[1612828800000,1.0359],[1612915200000,1.0383],[1613606400000,1.8612],[1613692800000,2.0096],[1613952000000,2.2432],[1614038400000,1.6591],[1614124800000,1.4281],[1614211200000,1.3619],[1614297600000,1.7708],[1614556800000,1.6134],[1614643200000,1.5878],[1614729600000,1.5255],[1614816000000,1.5129],[1614902400000,1.5658],[1615161600000,1.5789],[1615248000000,1.6205],[1615334400000,1.3871],[1615420800000,1.3383],[1615507200000,1.5479],[1615766400000,1.3728],[1615852800000,1.3125],[1615939200000,1.231],[1616025600000,1.4806],[1616112000000,1.5299],[1616371200000,1.2953],[1616457600000,1.3696],[1616544000000,1.2158],[1616630400000,1.1202],[1616716800000,1.0272],[1616976000000,1.3105],[1617062400000,1.3656],[1617148800000,1.3426],[1617235200000,1.0961],[1617321600000,1.1286],[1617667200000,1.261],[1617753600000,1.688],[1617840000000,1.6439],[1617926400000,1.2389],[1618185600000,1.6061],[1618272000000,1.2606],[1618358400000,1.2703],[1618444800000,1.2993],[1618531200000,1.5429],[1618790400000,1.7933],[1618876800000,1.295],[1618963200000,1.03],[1619049600000,1.3711],[1619136000000,1.4141],[1619395200000,1.5123],[1619481600000,1.4909],[1619568000000,1.0768],[1619654400000,1.1915],[1619740800000,1.7751],[1620259200000,1.4999],[1620345600000,1.2815],[1620604800000,1.4548],[1620691200000,1.6893],[1620777600000,1.4301],[1620864000000,1.4822],[1620950400000,1.4898],[1621209600000,1.3436],[1621296000000,1.1545],[1621382400000,1.1573],[1621468800000,1.6017],[1621555200000,1.2354],[1621814400000,1.3462],[1621900800000,1.48],[1621987200000,1.8619],[1622073600000,1.6628],[1622160000000,1.5349],[1622419200000,1.3676],[1622505600000,1.7168],[1622592000000,1.6524],[1622678400000,1.8127],[1622764800000,1.0821],[1623024000000,1.0775],[1623110400000,1.4197],[1623196800000,1.2652],[1623283200000,1.5183],[1623369600000,1.6162],[1623715200000,1.5199],[1623801600000,1.2491],[1623888000000,1.464],[1623974400000,1.789],[1624233600000,1.4666],[1624320000000,1.5778],[1624406400000,1.5479],[1624492800000,1.3928],[1624579200000,1.2044],[1624838400000,1.4882],[1624924800000,1.3011],[1625011200000,1.4963],[1625097600000,1.1966],[1625184000000,1.1781],[1625443200000,1.0089],[1625529600000,1.1858],[1625616000000,1.1903],[1625702400000,1.6961],[1625788800000,1.5112],[1626048000000,1.819],[1626134400000,1.8314],[1626220800000,1.7821],[1626307200000,1.7267],[1626393600000,1.912],[1626652800000,1.9194],[1626739200000,1.4797],[1626825600000,1.2609],[1626912000000,1.3216],[1626998400000,2.4424],[1627257600000,2.139],[1627344000000,1.8554],[1627430400000,1.6945],[1627516800000,1.5453],[1627603200000,1.7036],[1627862400000,1.7529],[1627948800000,1.5673],[1628035200000,1.4438],[1628121600000,1.5244],[1628208000000,1.5152],[1628467200000,1.6231],[1628553600000,1.6724],[1628640000000,1.7474],[1628726400000,1.8756],[1628812800000,2.0428],[1629072000000,1.0523],[1629158400000,1.2027],[1629244800000,1.621],[1629331200000,1.5923],[1629417600000,1.5016],[1629676800000,1.6025],[1629763200000,1.8343],[1629849600000,1.7874],[1629936000000,1.6783],[1630022400000,1.7013],[1630281600000,1.8998],[1630368000000,1.8876],[1630454400000,2.0966],[1630540800000,1.9314],[1630627200000,1.758],[1630886400000,1.7393],[1630972800000,2.2018],[1631059200000,2.5626],[1631145600000,1.8789],[1631232000000,2.1205],[1631491200000,1.9205],[1631577600000,2.0808],[1631664000000,1.3556],[1631750400000,1.644],[1631836800000,1.9643],[1632268800000,1.5428],[1632355200000,1.9488],[1632441600000,1.8846],[1632700800000,1.6442],[1632787200000,1.1457],[1632873600000,1.5121],[1632960000000,1.3564],[1633651200000,1.2397],[1633910400000,1.1619],[1633996800000,1.484],[1634083200000,1.5071],[1634169600000,1.3734],[1634256000000,1.515],[1634515200000,1.2852],[1634601600000,1.2366],[1634688000000,1.4222],[1634774400000,1.2877],[1634860800000,1.3849],[1635120000000,1.2907]],\"color\":\"#648FD5\"},{\"name\":\"3\\u5206\\u4f4d\\u6570\",\"yAxis\":0,\"data\":[[1609718400000,null],[1609804800000,null],[1609891200000,1.3979],[1609977600000,1.5814],[1610064000000,1.3652],[1610323200000,1.4296],[1610409600000,1.5099],[1610496000000,1.6524],[1610582400000,1.6374],[1610668800000,1.5261],[1610928000000,1.2995],[1611014400000,1.4362],[1611100800000,1.1277],[1611187200000,1.2991],[1611273600000,1.5738],[1611532800000,1.6193],[1611619200000,1.0668],[1611705600000,1.0941],[1611792000000,1.1436],[1611878400000,1.2414],[1612137600000,1.2523],[1612224000000,1.2493],[1612310400000,1.348],[1612396800000,1.3378],[1612483200000,0.9895],[1612742400000,1.041],[1612828800000,1.2678],[1612915200000,1.1508],[1613606400000,1.5544],[1613692800000,1.7527],[1613952000000,1.9466],[1614038400000,1.4835],[1614124800000,1.5692],[1614211200000,1.5821],[1614297600000,1.3267],[1614556800000,1.4087],[1614643200000,1.5574],[1614729600000,1.5543],[1614816000000,1.3091],[1614902400000,1.3071],[1615161600000,1.5964],[1615248000000,1.6533],[1615334400000,1.1461],[1615420800000,1.3091],[1615507200000,1.5396],[1615766400000,1.5287],[1615852800000,1.3848],[1615939200000,1.2273],[1616025600000,1.4281],[1616112000000,1.4131],[1616371200000,1.115],[1616457600000,1.1913],[1616544000000,1.4006],[1616630400000,1.1294],[1616716800000,1.171],[1616976000000,1.3361],[1617062400000,1.1499],[1617148800000,1.0866],[1617235200000,0.9779],[1617321600000,0.9952],[1617667200000,1.0548],[1617753600000,1.2648],[1617840000000,1.2321],[1617926400000,0.9101],[1618185600000,1.0987],[1618272000000,0.9544],[1618358400000,0.686],[1618444800000,0.7673],[1618531200000,1.2386],[1618790400000,1.3293],[1618876800000,1.2901],[1618963200000,1.0142],[1619049600000,1.0466],[1619136000000,1.0156],[1619395200000,1.246],[1619481600000,1.092],[1619568000000,0.7905],[1619654400000,0.9644],[1619740800000,1.1574],[1620259200000,1.1424],[1620345600000,1.1452],[1620604800000,1.278],[1620691200000,1.1163],[1620777600000,1.0219],[1620864000000,1.2728],[1620950400000,1.4216],[1621209600000,1.4502],[1621296000000,1.431],[1621382400000,1.3477],[1621468800000,1.4295],[1621555200000,1.1077],[1621814400000,1.6663],[1621900800000,1.3571],[1621987200000,1.4004],[1622073600000,1.3909],[1622160000000,1.5449],[1622419200000,1.604],[1622505600000,1.5072],[1622592000000,1.6758],[1622678400000,1.6114],[1622764800000,1.5324],[1623024000000,1.4037],[1623110400000,1.3216],[1623196800000,1.3739],[1623283200000,1.2963],[1623369600000,1.6005],[1623715200000,1.1437],[1623801600000,1.0179],[1623888000000,0.9013],[1623974400000,1.0431],[1624233600000,1.2278],[1624320000000,1.1532],[1624406400000,1.3573],[1624492800000,1.1789],[1624579200000,1.3998],[1624838400000,1.3591],[1624924800000,1.0993],[1625011200000,1.0526],[1625097600000,1.2767],[1625184000000,1.2178],[1625443200000,1.3811],[1625529600000,1.5171],[1625616000000,1.1313],[1625702400000,1.3006],[1625788800000,1.1272],[1626048000000,1.3772],[1626134400000,1.5676],[1626220800000,1.4996],[1626307200000,1.4419],[1626393600000,1.521],[1626652800000,1.1439],[1626739200000,1.0421],[1626825600000,1.3465],[1626912000000,1.7901],[1626998400000,1.5462],[1627257600000,1.441],[1627344000000,1.4494],[1627430400000,1.4909],[1627516800000,1.5179],[1627603200000,1.702],[1627862400000,1.6092],[1627948800000,1.5981],[1628035200000,1.2932],[1628121600000,1.3614],[1628208000000,1.3797],[1628467200000,1.5308],[1628553600000,1.6191],[1628640000000,1.5941],[1628726400000,1.4597],[1628812800000,1.3792],[1629072000000,1.2903],[1629158400000,1.5291],[1629244800000,1.3615],[1629331200000,1.2924],[1629417600000,1.1923],[1629676800000,1.4288],[1629763200000,1.5585],[1629849600000,1.3557],[1629936000000,1.8428],[1630022400000,1.726],[1630281600000,1.585],[1630368000000,1.792],[1630454400000,2.6379],[1630540800000,2.3276],[1630627200000,2.2552],[1630886400000,2.068],[1630972800000,1.8983],[1631059200000,2.2936],[1631145600000,1.888],[1631232000000,2.2414],[1631491200000,2.1397],[1631577600000,2.1097],[1631664000000,1.4102],[1631750400000,1.6236],[1631836800000,1.1877],[1632268800000,1.118],[1632355200000,1.5812],[1632441600000,1.7368],[1632700800000,1.5563],[1632787200000,1.1879],[1632873600000,1.5566],[1632960000000,1.2917],[1633651200000,1.1869],[1633910400000,1.2454],[1633996800000,1.3597],[1634083200000,1.1472],[1634169600000,0.9774],[1634256000000,1.124],[1634515200000,1.0704],[1634601600000,1.1807],[1634688000000,1.1582],[1634774400000,1.2628],[1634860800000,1.4808],[1635120000000,1.4343]],\"color\":\"#E06681\"},{\"name\":\"4\\u5206\\u4f4d\\u6570\",\"yAxis\":0,\"data\":[[1609718400000,null],[1609804800000,null],[1609891200000,1.5516],[1609977600000,1.6073],[1610064000000,1.7402],[1610323200000,2.127],[1610409600000,1.4426],[1610496000000,1.6075],[1610582400000,1.384],[1610668800000,1.2739],[1610928000000,1.5906],[1611014400000,1.7306],[1611100800000,1.1852],[1611187200000,1.3668],[1611273600000,1.3123],[1611532800000,1.4495],[1611619200000,1.3069],[1611705600000,1.4308],[1611792000000,1.4878],[1611878400000,1.4987],[1612137600000,1.4934],[1612224000000,1.6131],[1612310400000,1.1988],[1612396800000,1.2873],[1612483200000,1.408],[1612742400000,1.1751],[1612828800000,1.1649],[1612915200000,1.2029],[1613606400000,1.71],[1613692800000,1.6812],[1613952000000,2.2324],[1614038400000,1.9762],[1614124800000,1.6671],[1614211200000,1.5485],[1614297600000,1.4486],[1614556800000,1.3497],[1614643200000,1.5056],[1614729600000,1.6513],[1614816000000,1.5082],[1614902400000,1.378],[1615161600000,1.6179],[1615248000000,1.7235],[1615334400000,1.215],[1615420800000,1.2583],[1615507200000,1.4032],[1615766400000,1.4321],[1615852800000,1.1337],[1615939200000,1.1961],[1616025600000,1.1002],[1616112000000,1.1754],[1616371200000,1.5867],[1616457600000,1.4979],[1616544000000,1.2508],[1616630400000,1.0743],[1616716800000,1.1371],[1616976000000,1.1549],[1617062400000,1.1317],[1617148800000,1.0906],[1617235200000,1.1005],[1617321600000,1.0839],[1617667200000,0.9248],[1617753600000,1.3255],[1617840000000,1.7642],[1617926400000,1.4711],[1618185600000,1.1649],[1618272000000,1.0655],[1618358400000,1.0117],[1618444800000,1.0965],[1618531200000,1.1698],[1618790400000,1.337],[1618876800000,1.6422],[1618963200000,1.447],[1619049600000,1.1587],[1619136000000,1.1267],[1619395200000,1.4686],[1619481600000,1.3569],[1619568000000,1.3598],[1619654400000,1.6772],[1619740800000,1.2869],[1620259200000,1.3367],[1620345600000,1.5735],[1620604800000,1.6114],[1620691200000,1.2823],[1620777600000,1.0424],[1620864000000,1.5214],[1620950400000,1.3772],[1621209600000,1.4427],[1621296000000,1.146],[1621382400000,1.2126],[1621468800000,1.74],[1621555200000,1.1806],[1621814400000,1.1953],[1621900800000,1.3879],[1621987200000,1.4407],[1622073600000,1.2627],[1622160000000,1.3251],[1622419200000,1.4035],[1622505600000,1.4197],[1622592000000,1.5237],[1622678400000,1.4139],[1622764800000,1.135],[1623024000000,1.0537],[1623110400000,1.3314],[1623196800000,1.2035],[1623283200000,1.3433],[1623369600000,1.5024],[1623715200000,1.2607],[1623801600000,1.0977],[1623888000000,1.0027],[1623974400000,1.0616],[1624233600000,1.2414],[1624320000000,1.2588],[1624406400000,1.2324],[1624492800000,1.2366],[1624579200000,1.206],[1624838400000,1.0932],[1624924800000,1.1681],[1625011200000,1.0409],[1625097600000,1.3891],[1625184000000,1.29],[1625443200000,1.1914],[1625529600000,1.3674],[1625616000000,1.0504],[1625702400000,1.3569],[1625788800000,1.1797],[1626048000000,1.4612],[1626134400000,1.3533],[1626220800000,1.301],[1626307200000,1.7241],[1626393600000,1.7069],[1626652800000,1.6272],[1626739200000,1.45],[1626825600000,1.7967],[1626912000000,1.9893],[1626998400000,1.703],[1627257600000,1.5459],[1627344000000,2.1727],[1627430400000,1.8567],[1627516800000,1.6084],[1627603200000,1.7144],[1627862400000,1.9635],[1627948800000,2.1381],[1628035200000,1.6144],[1628121600000,1.4736],[1628208000000,1.461],[1628467200000,1.4598],[1628553600000,1.2833],[1628640000000,1.4943],[1628726400000,1.1886],[1628812800000,1.2042],[1629072000000,2.1833],[1629158400000,2.2689],[1629244800000,1.7504],[1629331200000,1.7078],[1629417600000,1.4712],[1629676800000,1.4751],[1629763200000,1.6148],[1629849600000,1.7921],[1629936000000,1.7831],[1630022400000,1.8914],[1630281600000,2.5232],[1630368000000,2.4954],[1630454400000,2.2225],[1630540800000,1.8979],[1630627200000,2.1691],[1630886400000,2.0803],[1630972800000,2.1329],[1631059200000,2.0381],[1631145600000,2.3163],[1631232000000,2.5517],[1631491200000,1.806],[1631577600000,1.8194],[1631664000000,1.9378],[1631750400000,2.6261],[1631836800000,1.5361],[1632268800000,1.2641],[1632355200000,1.9147],[1632441600000,1.8961],[1632700800000,1.7588],[1632787200000,1.3547],[1632873600000,1.2658],[1632960000000,1.0371],[1633651200000,1.8827],[1633910400000,1.7128],[1633996800000,1.4342],[1634083200000,1.1691],[1634169600000,0.9734],[1634256000000,1.2735],[1634515200000,1.4884],[1634601600000,1.4983],[1634688000000,1.2263],[1634774400000,1.2922],[1634860800000,1.5634],[1635120000000,1.2972]],\"color\":\"#E2D269\"},{\"name\":\"5\\u5206\\u4f4d\\u6570\",\"yAxis\":0,\"data\":[[1609718400000,null],[1609804800000,null],[1609891200000,2.5121],[1609977600000,2.7697],[1610064000000,2.6105],[1610323200000,2.6757],[1610409600000,2.9697],[1610496000000,3.3673],[1610582400000,1.9853],[1610668800000,1.812],[1610928000000,2.1095],[1611014400000,2.0362],[1611100800000,1.8582],[1611187200000,2.1426],[1611273600000,2.0885],[1611532800000,2.3142],[1611619200000,2.3623],[1611705600000,2.1219],[1611792000000,2.1491],[1611878400000,2.0116],[1612137600000,1.9234],[1612224000000,2.0753],[1612310400000,2.155],[1612396800000,1.9349],[1612483200000,1.9787],[1612742400000,1.8605],[1612828800000,1.6899],[1612915200000,1.6771],[1613606400000,1.9057],[1613692800000,1.879],[1613952000000,3.1256],[1614038400000,2.435],[1614124800000,2.2158],[1614211200000,1.9809],[1614297600000,1.9889],[1614556800000,1.9478],[1614643200000,1.9525],[1614729600000,1.8245],[1614816000000,2.1251],[1614902400000,1.7282],[1615161600000,1.8304],[1615248000000,1.8232],[1615334400000,1.4227],[1615420800000,1.5035],[1615507200000,1.5055],[1615766400000,1.3865],[1615852800000,1.5139],[1615939200000,1.3945],[1616025600000,1.5481],[1616112000000,1.5935],[1616371200000,1.337],[1616457600000,1.4501],[1616544000000,1.5089],[1616630400000,1.3012],[1616716800000,1.5659],[1616976000000,1.503],[1617062400000,1.6453],[1617148800000,1.4844],[1617235200000,1.4377],[1617321600000,1.5768],[1617667200000,1.3055],[1617753600000,1.4324],[1617840000000,1.7217],[1617926400000,1.5223],[1618185600000,1.4365],[1618272000000,1.1772],[1618358400000,1.2203],[1618444800000,1.2454],[1618531200000,1.2539],[1618790400000,1.3812],[1618876800000,1.3717],[1618963200000,1.2323],[1619049600000,1.722],[1619136000000,1.6447],[1619395200000,1.6393],[1619481600000,1.2737],[1619568000000,1.708],[1619654400000,1.6796],[1619740800000,2.0316],[1620259200000,1.967],[1620345600000,2.2808],[1620604800000,2.1495],[1620691200000,1.9263],[1620777600000,1.7243],[1620864000000,1.2485],[1620950400000,1.2851],[1621209600000,2.0057],[1621296000000,1.4661],[1621382400000,1.6368],[1621468800000,1.7689],[1621555200000,1.501],[1621814400000,1.3746],[1621900800000,2.0586],[1621987200000,2.1072],[1622073600000,1.6789],[1622160000000,2.0036],[1622419200000,2.1768],[1622505600000,2.0826],[1622592000000,1.5519],[1622678400000,1.4502],[1622764800000,1.7238],[1623024000000,1.9106],[1623110400000,1.8609],[1623196800000,1.6269],[1623283200000,1.9646],[1623369600000,2.066],[1623715200000,1.7562],[1623801600000,1.9053],[1623888000000,1.5699],[1623974400000,1.6942],[1624233600000,2.0417],[1624320000000,1.8916],[1624406400000,2.1888],[1624492800000,2.1034],[1624579200000,1.7919],[1624838400000,1.7495],[1624924800000,1.7159],[1625011200000,1.5997],[1625097600000,2.0038],[1625184000000,1.9708],[1625443200000,2.1068],[1625529600000,2.2126],[1625616000000,2.1428],[1625702400000,2.2003],[1625788800000,1.8908],[1626048000000,2.6054],[1626134400000,2.2002],[1626220800000,2.1859],[1626307200000,2.1345],[1626393600000,2.2982],[1626652800000,2.1824],[1626739200000,1.8725],[1626825600000,1.6508],[1626912000000,1.7543],[1626998400000,2.381],[1627257600000,2.4899],[1627344000000,2.6364],[1627430400000,2.4112],[1627516800000,2.2995],[1627603200000,2.4534],[1627862400000,2.7449],[1627948800000,2.3968],[1628035200000,2.281],[1628121600000,2.3271],[1628208000000,1.6347],[1628467200000,1.6707],[1628553600000,2.4176],[1628640000000,2.106],[1628726400000,2.4404],[1628812800000,2.2422],[1629072000000,2.2026],[1629158400000,2.4728],[1629244800000,1.863],[1629331200000,1.9935],[1629417600000,2.6184],[1629676800000,2.6457],[1629763200000,2.4188],[1629849600000,2.4041],[1629936000000,2.3633],[1630022400000,2.4186],[1630281600000,3.1812],[1630368000000,3.0318],[1630454400000,2.7837],[1630540800000,2.2424],[1630627200000,2.5615],[1630886400000,2.1928],[1630972800000,2.7267],[1631059200000,3.0475],[1631145600000,3.511],[1631232000000,3.1219],[1631491200000,2.5378],[1631577600000,2.5057],[1631664000000,2.3678],[1631750400000,2.8905],[1631836800000,2.6139],[1632268800000,2.2885],[1632355200000,2.0708],[1632441600000,1.8865],[1632700800000,2.9098],[1632787200000,2.1819],[1632873600000,1.9125],[1632960000000,1.6428],[1633651200000,1.8128],[1633910400000,1.7757],[1633996800000,1.9546],[1634083200000,1.5455],[1634169600000,1.7276],[1634256000000,1.8287],[1634515200000,1.7418],[1634601600000,1.6015],[1634688000000,1.9473],[1634774400000,1.8473],[1634860800000,1.7481],[1635120000000,1.728]],\"color\":\"#4A8E8E\"},{\"name\":\"\\u6700\\u5c0f\\/\\u6700\\u5927\\u5206\\u4f4d\",\"yAxis\":0,\"data\":[[1609718400000,null],[1609804800000,null],[1609891200000,0.9784],[1609977600000,0.962],[1610064000000,0.9041],[1610323200000,1.0335],[1610409600000,0.6156],[1610496000000,0.6567],[1610582400000,1.3277],[1610668800000,1.1837],[1610928000000,0.9661],[1611014400000,1.1582],[1611100800000,1.0278],[1611187200000,1.2099],[1611273600000,0.9069],[1611532800000,0.9529],[1611619200000,0.8821],[1611705600000,0.8224],[1611792000000,1.0308],[1611878400000,1.2089],[1612137600000,0.8263],[1612224000000,0.7499],[1612310400000,0.9799],[1612396800000,1.1412],[1612483200000,0.9942],[1612742400000,0.9406],[1612828800000,1.0539],[1612915200000,1.0787],[1613606400000,1.0756],[1613692800000,1.0055],[1613952000000,0.8435],[1614038400000,0.7867],[1614124800000,1.0471],[1614211200000,1.095],[1614297600000,0.8687],[1614556800000,0.8899],[1614643200000,0.8424],[1614729600000,0.884],[1614816000000,1.151],[1614902400000,1.2344],[1615161600000,1.1408],[1615248000000,1.2245],[1615334400000,1.1992],[1615420800000,1.1588],[1615507200000,1.1992],[1615766400000,1.1453],[1615852800000,1.3493],[1615939200000,1.3201],[1616025600000,1.0594],[1616112000000,1.1572],[1616371200000,1.547],[1616457600000,1.3377],[1616544000000,1.0756],[1616630400000,1.1454],[1616716800000,1.0657],[1616976000000,1.1744],[1617062400000,0.9271],[1617148800000,0.9482],[1617235200000,1.0434],[1617321600000,1.2505],[1617667200000,1.1347],[1617753600000,1.1569],[1617840000000,0.8604],[1617926400000,0.8814],[1618185600000,1.764],[1618272000000,1.4085],[1618358400000,1.0992],[1618444800000,1.1247],[1618531200000,1.1438],[1618790400000,1.2448],[1618876800000,1.3584],[1618963200000,1.4045],[1619049600000,0.8645],[1619136000000,0.9557],[1619395200000,1.2386],[1619481600000,1.1805],[1619568000000,0.9504],[1619654400000,0.9782],[1619740800000,0.7796],[1620259200000,0.8043],[1620345600000,0.6837],[1620604800000,0.7806],[1620691200000,1.0275],[1620777600000,0.9642],[1620864000000,1.5309],[1620950400000,1.4962],[1621209600000,0.9402],[1621296000000,1.1037],[1621382400000,0.995],[1621468800000,1.0715],[1621555200000,1.306],[1621814400000,1.5101],[1621900800000,0.8169],[1621987200000,0.9133],[1622073600000,1.308],[1622160000000,1.0864],[1622419200000,0.7914],[1622505600000,0.9017],[1622592000000,1.1645],[1622678400000,1.2053],[1622764800000,1.2283],[1623024000000,1.1977],[1623110400000,0.9656],[1623196800000,1.047],[1623283200000,1.0977],[1623369600000,1.2764],[1623715200000,1.2937],[1623801600000,1.0753],[1623888000000,1.1259],[1623974400000,1.1758],[1624233600000,0.9244],[1624320000000,0.9785],[1624406400000,1.0537],[1624492800000,0.9901],[1624579200000,1.1859],[1624838400000,1.1364],[1624924800000,1.1762],[1625011200000,1.1757],[1625097600000,0.9476],[1625184000000,0.9497],[1625443200000,0.8488],[1625529600000,0.9494],[1625616000000,0.9012],[1625702400000,1.1664],[1625788800000,1.2091],[1626048000000,1.0391],[1626134400000,1.0584],[1626220800000,0.9855],[1626307200000,0.9581],[1626393600000,0.9567],[1626652800000,0.9375],[1626739200000,0.8901],[1626825600000,1.4897],[1626912000000,1.4053],[1626998400000,1.0355],[1627257600000,1.0927],[1627344000000,0.9965],[1627430400000,0.9984],[1627516800000,0.9876],[1627603200000,0.9942],[1627862400000,1.018],[1627948800000,1.1776],[1628035200000,0.9822],[1628121600000,1.0781],[1628208000000,1.585],[1628467200000,1.6144],[1628553600000,0.8766],[1628640000000,1.1555],[1628726400000,0.9041],[1628812800000,0.9675],[1629072000000,1.0195],[1629158400000,0.977],[1629244800000,1.1031],[1629331200000,1.0613],[1629417600000,0.744],[1629676800000,0.814],[1629763200000,0.8284],[1629849600000,0.8324],[1629936000000,1.1014],[1630022400000,1.0288],[1630281600000,0.8216],[1630368000000,0.7844],[1630454400000,1.0857],[1630540800000,1.2217],[1630627200000,1.352],[1630886400000,1.3159],[1630972800000,0.9261],[1631059200000,0.9075],[1631145600000,0.7716],[1631232000000,0.896],[1631491200000,1.2222],[1631577600000,1.2884],[1631664000000,1.0212],[1631750400000,0.9765],[1631836800000,1.0176],[1632268800000,0.937],[1632355200000,1.056],[1632441600000,1.1414],[1632700800000,0.8608],[1632787200000,0.8164],[1632873600000,0.9811],[1632960000000,0.9905],[1633651200000,0.9819],[1633910400000,1.0601],[1633996800000,1.0072],[1634083200000,0.853],[1634169600000,0.8671],[1634256000000,0.8492],[1634515200000,1.184],[1634601600000,1.1808],[1634688000000,1.0068],[1634774400000,1.0224],[1634860800000,1.0335],[1635120000000,1.0172]]}],\"xAxis\":{\"title\":{\"text\":\"date\"},\"type\":\"datetime\"},\"plotOptions\":{\"series\":{\"compare\":\"percent\"}}}/bigcharts-data-end</pre></div><div class=\"cols\">\n",
       "            \n",
       "                \n",
       "                <div class=\"col\"><div class=\"type_title_left\"><p>因子值最小的20只股票 <span>(2021-10-25)</span></p></div>\n",
       "        <div class=\"factorlens-stocks-wrapper\">\n",
       "            <table class=\"factor_table stocks\">\n",
       "                <thead>\n",
       "                    <tr>\n",
       "                        <th>股票名称</th>\n",
       "                        <th>股票代码</th>\n",
       "                        <th>因子值</th>\n",
       "                    </tr>\n",
       "                </thead>\n",
       "                <tbody>\n",
       "            <tr>\n",
       "                <td>普洛药业</td>\n",
       "                <td>000739.SZA</td>\n",
       "                <td>-16.8310</td>\n",
       "            </tr>\n",
       "            \n",
       "            <tr>\n",
       "                <td>中集集团</td>\n",
       "                <td>000039.SZA</td>\n",
       "                <td>-6.8999</td>\n",
       "            </tr>\n",
       "            \n",
       "            <tr>\n",
       "                <td>风华高科</td>\n",
       "                <td>000636.SZA</td>\n",
       "                <td>-6.2533</td>\n",
       "            </tr>\n",
       "            \n",
       "            <tr>\n",
       "                <td>景嘉微</td>\n",
       "                <td>300474.SZA</td>\n",
       "                <td>-6.0328</td>\n",
       "            </tr>\n",
       "            \n",
       "            <tr>\n",
       "                <td>士兰微</td>\n",
       "                <td>600460.SHA</td>\n",
       "                <td>-5.9508</td>\n",
       "            </tr>\n",
       "            \n",
       "            <tr>\n",
       "                <td>斯达半导</td>\n",
       "                <td>603290.SHA</td>\n",
       "                <td>-5.9194</td>\n",
       "            </tr>\n",
       "            \n",
       "            <tr>\n",
       "                <td>华新水泥</td>\n",
       "                <td>600801.SHA</td>\n",
       "                <td>-4.2962</td>\n",
       "            </tr>\n",
       "            \n",
       "            <tr>\n",
       "                <td>水井坊</td>\n",
       "                <td>600779.SHA</td>\n",
       "                <td>-3.9561</td>\n",
       "            </tr>\n",
       "            \n",
       "            <tr>\n",
       "                <td>启迪环境</td>\n",
       "                <td>000826.SZA</td>\n",
       "                <td>-3.7449</td>\n",
       "            </tr>\n",
       "            \n",
       "            <tr>\n",
       "                <td>阳光城</td>\n",
       "                <td>000671.SZA</td>\n",
       "                <td>-3.4748</td>\n",
       "            </tr>\n",
       "            \n",
       "            <tr>\n",
       "                <td>锦江酒店</td>\n",
       "                <td>600754.SHA</td>\n",
       "                <td>-3.3536</td>\n",
       "            </tr>\n",
       "            \n",
       "            <tr>\n",
       "                <td>小商品城</td>\n",
       "                <td>600415.SHA</td>\n",
       "                <td>-3.2906</td>\n",
       "            </tr>\n",
       "            \n",
       "            <tr>\n",
       "                <td>普利制药</td>\n",
       "                <td>300630.SZA</td>\n",
       "                <td>-3.2419</td>\n",
       "            </tr>\n",
       "            \n",
       "            <tr>\n",
       "                <td>卫宁健康</td>\n",
       "                <td>300253.SZA</td>\n",
       "                <td>-3.1688</td>\n",
       "            </tr>\n",
       "            \n",
       "            <tr>\n",
       "                <td>宏大爆破</td>\n",
       "                <td>002683.SZA</td>\n",
       "                <td>-2.7688</td>\n",
       "            </tr>\n",
       "            \n",
       "            <tr>\n",
       "                <td>赤峰黄金</td>\n",
       "                <td>600988.SHA</td>\n",
       "                <td>-2.7292</td>\n",
       "            </tr>\n",
       "            \n",
       "            <tr>\n",
       "                <td>巨化股份</td>\n",
       "                <td>600160.SHA</td>\n",
       "                <td>-2.7026</td>\n",
       "            </tr>\n",
       "            \n",
       "            <tr>\n",
       "                <td>江淮汽车</td>\n",
       "                <td>600418.SHA</td>\n",
       "                <td>-2.5957</td>\n",
       "            </tr>\n",
       "            \n",
       "            <tr>\n",
       "                <td>首开股份</td>\n",
       "                <td>600376.SHA</td>\n",
       "                <td>-2.4381</td>\n",
       "            </tr>\n",
       "            \n",
       "            <tr>\n",
       "                <td>宏发股份</td>\n",
       "                <td>600885.SHA</td>\n",
       "                <td>-2.4335</td>\n",
       "            </tr>\n",
       "            \n",
       "                </tbody>\n",
       "            </table>\n",
       "        </div>\n",
       "        </div>\n",
       "                \n",
       "            \n",
       "                \n",
       "                <div class=\"col\"><div class=\"type_title_left\"><p>因子值最大的20只股票 <span>(2021-10-25)</span></p></div>\n",
       "        <div class=\"factorlens-stocks-wrapper\">\n",
       "            <table class=\"factor_table stocks\">\n",
       "                <thead>\n",
       "                    <tr>\n",
       "                        <th>股票名称</th>\n",
       "                        <th>股票代码</th>\n",
       "                        <th>因子值</th>\n",
       "                    </tr>\n",
       "                </thead>\n",
       "                <tbody>\n",
       "            <tr>\n",
       "                <td>宇通客车</td>\n",
       "                <td>600066.SHA</td>\n",
       "                <td>2.7708</td>\n",
       "            </tr>\n",
       "            \n",
       "            <tr>\n",
       "                <td>辽宁成大</td>\n",
       "                <td>600739.SHA</td>\n",
       "                <td>3.0940</td>\n",
       "            </tr>\n",
       "            \n",
       "            <tr>\n",
       "                <td>欣旺达</td>\n",
       "                <td>300207.SZA</td>\n",
       "                <td>3.1011</td>\n",
       "            </tr>\n",
       "            \n",
       "            <tr>\n",
       "                <td>新宙邦</td>\n",
       "                <td>300037.SZA</td>\n",
       "                <td>3.3573</td>\n",
       "            </tr>\n",
       "            \n",
       "            <tr>\n",
       "                <td>丽珠集团</td>\n",
       "                <td>000513.SZA</td>\n",
       "                <td>3.3642</td>\n",
       "            </tr>\n",
       "            \n",
       "            <tr>\n",
       "                <td>中际旭创</td>\n",
       "                <td>300308.SZA</td>\n",
       "                <td>3.5416</td>\n",
       "            </tr>\n",
       "            \n",
       "            <tr>\n",
       "                <td>晶盛机电</td>\n",
       "                <td>300316.SZA</td>\n",
       "                <td>3.6832</td>\n",
       "            </tr>\n",
       "            \n",
       "            <tr>\n",
       "                <td>天邦股份</td>\n",
       "                <td>002124.SZA</td>\n",
       "                <td>4.2865</td>\n",
       "            </tr>\n",
       "            \n",
       "            <tr>\n",
       "                <td>生物股份</td>\n",
       "                <td>600201.SHA</td>\n",
       "                <td>4.3489</td>\n",
       "            </tr>\n",
       "            \n",
       "            <tr>\n",
       "                <td>浙江东方</td>\n",
       "                <td>600120.SHA</td>\n",
       "                <td>4.6722</td>\n",
       "            </tr>\n",
       "            \n",
       "            <tr>\n",
       "                <td>广汇能源</td>\n",
       "                <td>600256.SHA</td>\n",
       "                <td>5.1096</td>\n",
       "            </tr>\n",
       "            \n",
       "            <tr>\n",
       "                <td>北京君正</td>\n",
       "                <td>300223.SZA</td>\n",
       "                <td>5.3346</td>\n",
       "            </tr>\n",
       "            \n",
       "            <tr>\n",
       "                <td>四川路桥</td>\n",
       "                <td>600039.SHA</td>\n",
       "                <td>5.4127</td>\n",
       "            </tr>\n",
       "            \n",
       "            <tr>\n",
       "                <td>迪安诊断</td>\n",
       "                <td>300244.SZA</td>\n",
       "                <td>5.6242</td>\n",
       "            </tr>\n",
       "            \n",
       "            <tr>\n",
       "                <td>鱼跃医疗</td>\n",
       "                <td>002223.SZA</td>\n",
       "                <td>6.6216</td>\n",
       "            </tr>\n",
       "            \n",
       "            <tr>\n",
       "                <td>达安基因</td>\n",
       "                <td>002030.SZA</td>\n",
       "                <td>7.3716</td>\n",
       "            </tr>\n",
       "            \n",
       "            <tr>\n",
       "                <td>特变电工</td>\n",
       "                <td>600089.SHA</td>\n",
       "                <td>7.9023</td>\n",
       "            </tr>\n",
       "            \n",
       "            <tr>\n",
       "                <td>三棵树</td>\n",
       "                <td>603737.SHA</td>\n",
       "                <td>9.3978</td>\n",
       "            </tr>\n",
       "            \n",
       "            <tr>\n",
       "                <td>天赐材料</td>\n",
       "                <td>002709.SZA</td>\n",
       "                <td>10.3929</td>\n",
       "            </tr>\n",
       "            \n",
       "            <tr>\n",
       "                <td>中航重机</td>\n",
       "                <td>600765.SHA</td>\n",
       "                <td>16.1502</td>\n",
       "            </tr>\n",
       "            \n",
       "                </tbody>\n",
       "            </table>\n",
       "        </div>\n",
       "        </div>\n",
       "                \n",
       "            \n",
       "            </div>\n",
       "        </div></div><div class='tab-pane' id='因子3'><div class=\"factorlens-container\">\n",
       "            <div style=\"display:flex\">\n",
       "                <div style=\"flex:1\">\n",
       "                    \n",
       "                    <h2 class=\"factorlens-title\">因子分析: -1 * (volume_0 / mean(volume_0, 2))</h2>\n",
       "                    \n",
       "                </div>\n",
       "                <div style=\"width:180px;\">\n",
       "                    \n",
       "                    <code style=\"display:none\" class=\"bq-template-label-inject\">\n",
       "                    {\n",
       "                        \"type\": \"factor-track\",\n",
       "                        \"data\": {\n",
       "                            \"exprs\": [\"-1 * (volume_0 / mean(volume_0, 2))\"],\n",
       "                            \"options\": {\"BacktestInterval\": [\"2021-01-01\", \"2021-12-31\"], \"Benchmark\": \"none\", \"StockPool\": \"in_csi500_0\", \"UserDataMerge\": \"left\", \"DropSTStocks\": 1, \"DropPriceLimitStocks\": 1, \"DropNewStocks\": 60, \"DropSuspendedStocks\": 1, \"QuantileCount\": 5, \"CommissionRates\": 0.0016, \"Normalization\": 0, \"Neutralization\": \"industry,size\", \"DelayRebalanceDays\": 0, \"RebalancePeriod\": 2, \"RebalancePeriodsReturns\": 0, \"RebalancePrice\": \"close_0\", \"ReturnsCalculationMethod\": \"cumprod\", \"FactorCoverage\": 0.5, \"_HASH\": \"427c36e0d1fb6c659ba1ca9111dc079b\"}\n",
       "                        }\n",
       "                    }\n",
       "                    </code>\n",
       "                    \n",
       "                </div>\n",
       "            </div>\n",
       "            <div class=\"type_title_left\"><p>因子表现概览<i class=\"fa fa-question-circle-o\" title=\"按因子值升序排列将股票分组，1分位组对应最小因子分组。多空组合表示做多最小分位组，做空最大分位组。\"></i></p></div><table class=\"factor_table\">\n",
       "            <thead>\n",
       "                <tr>\n",
       "                    <th>&nbsp;</th>\n",
       "                    <th>累计收益</th>\n",
       "                    <th>近1年收益</th>\n",
       "                    <th>近3月收益</th>\n",
       "                    <th>近1月收益</th>\n",
       "                    <th>近1周收益</th>\n",
       "                    <th>昨日收益</th>\n",
       "                    <th>最大回撤</th>\n",
       "                    <th>盈亏比</th>\n",
       "                    <th>胜率</th>\n",
       "                    <th>夏普比率</th>\n",
       "                    <th>收益波动率</th>\n",
       "                </tr>\n",
       "            </thead>\n",
       "            <tbody>\n",
       "                \n",
       "                    <tr>\n",
       "                    <th>最小分位</th>\n",
       "                        \n",
       "                            <td><span class=\"pct down\">-31.99%</span></td>\n",
       "                        \n",
       "                            <td><span class=\"pct down\">-31.99%</span></td>\n",
       "                        \n",
       "                            <td><span class=\"pct down\">-15.16%</span></td>\n",
       "                        \n",
       "                            <td><span class=\"pct down\">-9.45%</span></td>\n",
       "                        \n",
       "                            <td><span class=\"pct down\">-0.78%</span></td>\n",
       "                        \n",
       "                            <td><span class=\"pct up\">0.29%</span></td>\n",
       "                        \n",
       "                            <td>32.18%</td>\n",
       "                        \n",
       "                            <td>0.73</td>\n",
       "                        \n",
       "                            <td>0.43</td>\n",
       "                        \n",
       "                            <td><span class=\"pct down\">-3.91</span></td>\n",
       "                        \n",
       "                            <td>13.53%</td>\n",
       "                        \n",
       "                    </tr>\n",
       "                \n",
       "                    <tr>\n",
       "                    <th>最大分位</th>\n",
       "                        \n",
       "                            <td><span class=\"pct down\">-19.79%</span></td>\n",
       "                        \n",
       "                            <td><span class=\"pct down\">-19.79%</span></td>\n",
       "                        \n",
       "                            <td><span class=\"pct down\">-7.98%</span></td>\n",
       "                        \n",
       "                            <td><span class=\"pct down\">-8.01%</span></td>\n",
       "                        \n",
       "                            <td><span class=\"pct down\">-0.61%</span></td>\n",
       "                        \n",
       "                            <td><span class=\"pct up\">0.35%</span></td>\n",
       "                        \n",
       "                            <td>20.07%</td>\n",
       "                        \n",
       "                            <td>0.92</td>\n",
       "                        \n",
       "                            <td>0.44</td>\n",
       "                        \n",
       "                            <td><span class=\"pct down\">-2.29</span></td>\n",
       "                        \n",
       "                            <td>13.67%</td>\n",
       "                        \n",
       "                    </tr>\n",
       "                \n",
       "                    <tr>\n",
       "                    <th>多空组合</th>\n",
       "                        \n",
       "                            <td><span class=\"pct down\">-7.95%</span></td>\n",
       "                        \n",
       "                            <td><span class=\"pct down\">-7.95%</span></td>\n",
       "                        \n",
       "                            <td><span class=\"pct down\">-4.02%</span></td>\n",
       "                        \n",
       "                            <td><span class=\"pct down\">-0.80%</span></td>\n",
       "                        \n",
       "                            <td><span class=\"pct down\">-0.09%</span></td>\n",
       "                        \n",
       "                            <td><span class=\"pct down\">-0.03%</span></td>\n",
       "                        \n",
       "                            <td>9.06%</td>\n",
       "                        \n",
       "                            <td>0.92</td>\n",
       "                        \n",
       "                            <td>0.39</td>\n",
       "                        \n",
       "                            <td><span class=\"pct down\">-4.39</span></td>\n",
       "                        \n",
       "                            <td>3.24%</td>\n",
       "                        \n",
       "                    </tr>\n",
       "                \n",
       "            </tbody>\n",
       "        </table><div id=\"bigchart-27329fe8bf9248df9a3ca1b699194d44\" class=\"bigchart\"></div><div class=\"bigchart-data\"><pre style=\"display:none\">bigcharts-data-start/{\"chart\":{\"height\":500,\"renderTo\":\"bigchart-27329fe8bf9248df9a3ca1b699194d44\"},\"legend\":{\"enabled\":true},\"stock\":true,\"series\":[{\"name\":\"1\\u5206\\u4f4d\\u6570\",\"yAxis\":0,\"data\":[[1609804800000,1.0],[1609891200000,0.9938],[1609977600000,0.9845],[1610064000000,0.9879],[1610323200000,0.9656],[1610409600000,0.9722],[1610496000000,0.9678],[1610582400000,0.9715],[1610668800000,0.9653],[1610928000000,0.9765],[1611014400000,0.9731],[1611100800000,0.9705],[1611187200000,0.9757],[1611273600000,0.9696],[1611532800000,0.9565],[1611619200000,0.9427],[1611705600000,0.9461],[1611792000000,0.9313],[1611878400000,0.9187],[1612137600000,0.9239],[1612224000000,0.9223],[1612310400000,0.9113],[1612396800000,0.8936],[1612483200000,0.8829],[1612742400000,0.8888],[1612828800000,0.9063],[1612915200000,0.9105],[1613606400000,0.9244],[1613692800000,0.9421],[1613952000000,0.9471],[1614038400000,0.9404],[1614124800000,0.9291],[1614211200000,0.9214],[1614297600000,0.9039],[1614556800000,0.9162],[1614643200000,0.9151],[1614729600000,0.9254],[1614816000000,0.9163],[1614902400000,0.9123],[1615161600000,0.8949],[1615248000000,0.8762],[1615334400000,0.8634],[1615420800000,0.8786],[1615507200000,0.8782],[1615766400000,0.8718],[1615852800000,0.8754],[1615939200000,0.8741],[1616025600000,0.8766],[1616112000000,0.8663],[1616371200000,0.8794],[1616457600000,0.8641],[1616544000000,0.8536],[1616630400000,0.8529],[1616716800000,0.8628],[1616976000000,0.8583],[1617062400000,0.8584],[1617148800000,0.8536],[1617235200000,0.8588],[1617321600000,0.8566],[1617667200000,0.8575],[1617753600000,0.8553],[1617840000000,0.8535],[1617926400000,0.8513],[1618185600000,0.8372],[1618272000000,0.8299],[1618358400000,0.8351],[1618444800000,0.8366],[1618531200000,0.8476],[1618790400000,0.8559],[1618876800000,0.8512],[1618963200000,0.848],[1619049600000,0.8522],[1619136000000,0.8464],[1619395200000,0.8418],[1619481600000,0.8391],[1619568000000,0.8397],[1619654400000,0.8372],[1619740800000,0.8316],[1620259200000,0.8328],[1620345600000,0.8302],[1620604800000,0.8344],[1620691200000,0.8366],[1620777600000,0.8395],[1620864000000,0.8354],[1620950400000,0.8428],[1621209600000,0.842],[1621296000000,0.8413],[1621382400000,0.8381],[1621468800000,0.8348],[1621555200000,0.8313],[1621814400000,0.8337],[1621900800000,0.8389],[1621987200000,0.8378],[1622073600000,0.8413],[1622160000000,0.8352],[1622419200000,0.8406],[1622505600000,0.8397],[1622592000000,0.8317],[1622678400000,0.8283],[1622764800000,0.8281],[1623024000000,0.8295],[1623110400000,0.8279],[1623196800000,0.8256],[1623283200000,0.8295],[1623369600000,0.8241],[1623715200000,0.8159],[1623801600000,0.8058],[1623888000000,0.8105],[1623974400000,0.8151],[1624233600000,0.8185],[1624320000000,0.8212],[1624406400000,0.8223],[1624492800000,0.8177],[1624579200000,0.8227],[1624838400000,0.8179],[1624924800000,0.8122],[1625011200000,0.8153],[1625097600000,0.8041],[1625184000000,0.7959],[1625443200000,0.8006],[1625529600000,0.8008],[1625616000000,0.802],[1625702400000,0.7959],[1625788800000,0.7998],[1626048000000,0.8048],[1626134400000,0.81],[1626220800000,0.8017],[1626307200000,0.7991],[1626393600000,0.7975],[1626652800000,0.7936],[1626739200000,0.7894],[1626825600000,0.794],[1626912000000,0.7963],[1626998400000,0.7914],[1627257600000,0.776],[1627344000000,0.7629],[1627430400000,0.7559],[1627516800000,0.7608],[1627603200000,0.7598],[1627862400000,0.7656],[1627948800000,0.7663],[1628035200000,0.7711],[1628121600000,0.7635],[1628208000000,0.7609],[1628467200000,0.7687],[1628553600000,0.7716],[1628640000000,0.77],[1628726400000,0.7702],[1628812800000,0.7677],[1629072000000,0.7673],[1629158400000,0.75],[1629244800000,0.7525],[1629331200000,0.7515],[1629417600000,0.7441],[1629676800000,0.749],[1629763200000,0.751],[1629849600000,0.7514],[1629936000000,0.7488],[1630022400000,0.7451],[1630281600000,0.7486],[1630368000000,0.7474],[1630454400000,0.7537],[1630540800000,0.7577],[1630627200000,0.7553],[1630886400000,0.7597],[1630972800000,0.7678],[1631059200000,0.769],[1631145600000,0.7699],[1631232000000,0.7638],[1631491200000,0.7632],[1631577600000,0.7511],[1631664000000,0.7512],[1631750400000,0.7391],[1631836800000,0.7324],[1632268800000,0.732],[1632355200000,0.7364],[1632441600000,0.727],[1632700800000,0.7106],[1632787200000,0.7079],[1632873600000,0.6877],[1632960000000,0.6949],[1633651200000,0.6969],[1633910400000,0.6967],[1633996800000,0.685],[1634083200000,0.6853],[1634169600000,0.6885],[1634256000000,0.6855],[1634515200000,0.6855],[1634601600000,0.6875],[1634688000000,0.6864],[1634774400000,0.6833],[1634860800000,0.6782],[1635120000000,0.6801]],\"color\":\"#F08B55\"},{\"name\":\"2\\u5206\\u4f4d\\u6570\",\"yAxis\":0,\"data\":[[1609804800000,1.0],[1609891200000,0.9898],[1609977600000,0.9778],[1610064000000,0.9826],[1610323200000,0.9644],[1610409600000,0.9714],[1610496000000,0.9631],[1610582400000,0.9615],[1610668800000,0.9635],[1610928000000,0.9774],[1611014400000,0.9728],[1611100800000,0.9767],[1611187200000,0.9791],[1611273600000,0.964],[1611532800000,0.9516],[1611619200000,0.9391],[1611705600000,0.9366],[1611792000000,0.9212],[1611878400000,0.9083],[1612137600000,0.91],[1612224000000,0.9117],[1612310400000,0.901],[1612396800000,0.8877],[1612483200000,0.8768],[1612742400000,0.8849],[1612828800000,0.8975],[1612915200000,0.9049],[1613606400000,0.9227],[1613692800000,0.9438],[1613952000000,0.9458],[1614038400000,0.9399],[1614124800000,0.9343],[1614211200000,0.93],[1614297600000,0.9165],[1614556800000,0.9284],[1614643200000,0.9191],[1614729600000,0.933],[1614816000000,0.926],[1614902400000,0.929],[1615161600000,0.9151],[1615248000000,0.8981],[1615334400000,0.8879],[1615420800000,0.9055],[1615507200000,0.9043],[1615766400000,0.9026],[1615852800000,0.91],[1615939200000,0.9077],[1616025600000,0.9074],[1616112000000,0.9009],[1616371200000,0.9138],[1616457600000,0.9005],[1616544000000,0.891],[1616630400000,0.8926],[1616716800000,0.9019],[1616976000000,0.9008],[1617062400000,0.8977],[1617148800000,0.896],[1617235200000,0.9001],[1617321600000,0.9001],[1617667200000,0.9009],[1617753600000,0.9012],[1617840000000,0.9013],[1617926400000,0.8981],[1618185600000,0.8859],[1618272000000,0.8756],[1618358400000,0.8843],[1618444800000,0.8807],[1618531200000,0.8929],[1618790400000,0.8985],[1618876800000,0.9],[1618963200000,0.8966],[1619049600000,0.8972],[1619136000000,0.8937],[1619395200000,0.8865],[1619481600000,0.8782],[1619568000000,0.8822],[1619654400000,0.8784],[1619740800000,0.8738],[1620259200000,0.8741],[1620345600000,0.8721],[1620604800000,0.8716],[1620691200000,0.8679],[1620777600000,0.8722],[1620864000000,0.8647],[1620950400000,0.8745],[1621209600000,0.8751],[1621296000000,0.88],[1621382400000,0.8764],[1621468800000,0.8654],[1621555200000,0.865],[1621814400000,0.8682],[1621900800000,0.8772],[1621987200000,0.8791],[1622073600000,0.8817],[1622160000000,0.8781],[1622419200000,0.8816],[1622505600000,0.8829],[1622592000000,0.8766],[1622678400000,0.8764],[1622764800000,0.8786],[1623024000000,0.881],[1623110400000,0.8788],[1623196800000,0.879],[1623283200000,0.8851],[1623369600000,0.8785],[1623715200000,0.869],[1623801600000,0.8572],[1623888000000,0.8581],[1623974400000,0.8597],[1624233600000,0.8648],[1624320000000,0.8653],[1624406400000,0.8696],[1624492800000,0.8628],[1624579200000,0.8705],[1624838400000,0.8669],[1624924800000,0.8578],[1625011200000,0.8608],[1625097600000,0.849],[1625184000000,0.8405],[1625443200000,0.8446],[1625529600000,0.8425],[1625616000000,0.8478],[1625702400000,0.8399],[1625788800000,0.8438],[1626048000000,0.8539],[1626134400000,0.859],[1626220800000,0.8524],[1626307200000,0.8579],[1626393600000,0.8559],[1626652800000,0.8521],[1626739200000,0.851],[1626825600000,0.8565],[1626912000000,0.859],[1626998400000,0.8478],[1627257600000,0.8303],[1627344000000,0.82],[1627430400000,0.8038],[1627516800000,0.8166],[1627603200000,0.8149],[1627862400000,0.8253],[1627948800000,0.8211],[1628035200000,0.8274],[1628121600000,0.8204],[1628208000000,0.82],[1628467200000,0.8297],[1628553600000,0.8337],[1628640000000,0.8393],[1628726400000,0.8385],[1628812800000,0.8362],[1629072000000,0.8327],[1629158400000,0.8144],[1629244800000,0.822],[1629331200000,0.8161],[1629417600000,0.8145],[1629676800000,0.8232],[1629763200000,0.8264],[1629849600000,0.8318],[1629936000000,0.8278],[1630022400000,0.8302],[1630281600000,0.8337],[1630368000000,0.8363],[1630454400000,0.8333],[1630540800000,0.8401],[1630627200000,0.842],[1630886400000,0.8535],[1630972800000,0.8661],[1631059200000,0.8705],[1631145600000,0.875],[1631232000000,0.8717],[1631491200000,0.8731],[1631577600000,0.8562],[1631664000000,0.8602],[1631750400000,0.8473],[1631836800000,0.839],[1632268800000,0.8418],[1632355200000,0.8493],[1632441600000,0.8342],[1632700800000,0.8145],[1632787200000,0.8193],[1632873600000,0.8003],[1632960000000,0.8041],[1633651200000,0.8096],[1633910400000,0.8092],[1633996800000,0.7966],[1634083200000,0.7962],[1634169600000,0.7952],[1634256000000,0.7911],[1634515200000,0.7963],[1634601600000,0.7999],[1634688000000,0.7983],[1634774400000,0.7926],[1634860800000,0.7854],[1635120000000,0.7847]],\"color\":\"#648FD5\"},{\"name\":\"3\\u5206\\u4f4d\\u6570\",\"yAxis\":0,\"data\":[[1609804800000,1.0],[1609891200000,0.992],[1609977600000,0.9854],[1610064000000,0.9894],[1610323200000,0.9654],[1610409600000,0.9745],[1610496000000,0.9617],[1610582400000,0.9576],[1610668800000,0.955],[1610928000000,0.9621],[1611014400000,0.9614],[1611100800000,0.9648],[1611187200000,0.9741],[1611273600000,0.965],[1611532800000,0.9606],[1611619200000,0.9456],[1611705600000,0.9477],[1611792000000,0.9366],[1611878400000,0.9239],[1612137600000,0.9266],[1612224000000,0.9276],[1612310400000,0.9144],[1612396800000,0.9003],[1612483200000,0.8936],[1612742400000,0.8982],[1612828800000,0.9138],[1612915200000,0.9155],[1613606400000,0.9338],[1613692800000,0.9574],[1613952000000,0.9566],[1614038400000,0.9522],[1614124800000,0.949],[1614211200000,0.9457],[1614297600000,0.9354],[1614556800000,0.9478],[1614643200000,0.9411],[1614729600000,0.9501],[1614816000000,0.9378],[1614902400000,0.9398],[1615161600000,0.9272],[1615248000000,0.9108],[1615334400000,0.8983],[1615420800000,0.912],[1615507200000,0.9141],[1615766400000,0.9098],[1615852800000,0.9153],[1615939200000,0.9139],[1616025600000,0.9157],[1616112000000,0.9084],[1616371200000,0.9244],[1616457600000,0.9113],[1616544000000,0.8999],[1616630400000,0.8984],[1616716800000,0.907],[1616976000000,0.9055],[1617062400000,0.9042],[1617148800000,0.8975],[1617235200000,0.9043],[1617321600000,0.9029],[1617667200000,0.9048],[1617753600000,0.9092],[1617840000000,0.9072],[1617926400000,0.9045],[1618185600000,0.8942],[1618272000000,0.8896],[1618358400000,0.8978],[1618444800000,0.8969],[1618531200000,0.91],[1618790400000,0.9137],[1618876800000,0.9117],[1618963200000,0.9062],[1619049600000,0.9091],[1619136000000,0.9047],[1619395200000,0.9018],[1619481600000,0.8984],[1619568000000,0.903],[1619654400000,0.9064],[1619740800000,0.9004],[1620259200000,0.9037],[1620345600000,0.9015],[1620604800000,0.9024],[1620691200000,0.9015],[1620777600000,0.9076],[1620864000000,0.8985],[1620950400000,0.909],[1621209600000,0.9077],[1621296000000,0.9089],[1621382400000,0.9062],[1621468800000,0.8969],[1621555200000,0.8941],[1621814400000,0.8955],[1621900800000,0.9054],[1621987200000,0.9067],[1622073600000,0.9111],[1622160000000,0.909],[1622419200000,0.9138],[1622505600000,0.9151],[1622592000000,0.9063],[1622678400000,0.9051],[1622764800000,0.9085],[1623024000000,0.9104],[1623110400000,0.907],[1623196800000,0.9077],[1623283200000,0.9106],[1623369600000,0.9012],[1623715200000,0.8909],[1623801600000,0.8791],[1623888000000,0.8846],[1623974400000,0.883],[1624233600000,0.886],[1624320000000,0.8876],[1624406400000,0.8927],[1624492800000,0.8853],[1624579200000,0.8914],[1624838400000,0.8924],[1624924800000,0.8862],[1625011200000,0.8891],[1625097600000,0.8773],[1625184000000,0.8659],[1625443200000,0.8702],[1625529600000,0.8704],[1625616000000,0.8741],[1625702400000,0.8645],[1625788800000,0.8733],[1626048000000,0.8793],[1626134400000,0.8826],[1626220800000,0.8725],[1626307200000,0.8731],[1626393600000,0.8748],[1626652800000,0.8728],[1626739200000,0.873],[1626825600000,0.877],[1626912000000,0.8801],[1626998400000,0.8737],[1627257600000,0.8547],[1627344000000,0.8394],[1627430400000,0.828],[1627516800000,0.8361],[1627603200000,0.8356],[1627862400000,0.846],[1627948800000,0.8419],[1628035200000,0.8454],[1628121600000,0.8371],[1628208000000,0.8391],[1628467200000,0.8477],[1628553600000,0.8521],[1628640000000,0.8555],[1628726400000,0.8559],[1628812800000,0.8519],[1629072000000,0.8518],[1629158400000,0.8351],[1629244800000,0.8417],[1629331200000,0.8362],[1629417600000,0.834],[1629676800000,0.8398],[1629763200000,0.8422],[1629849600000,0.8446],[1629936000000,0.8424],[1630022400000,0.8433],[1630281600000,0.8464],[1630368000000,0.8497],[1630454400000,0.8527],[1630540800000,0.8586],[1630627200000,0.8602],[1630886400000,0.8665],[1630972800000,0.8783],[1631059200000,0.8849],[1631145600000,0.8961],[1631232000000,0.8871],[1631491200000,0.8984],[1631577600000,0.8781],[1631664000000,0.8775],[1631750400000,0.8632],[1631836800000,0.8573],[1632268800000,0.8584],[1632355200000,0.8662],[1632441600000,0.8493],[1632700800000,0.8304],[1632787200000,0.8318],[1632873600000,0.8097],[1632960000000,0.8167],[1633651200000,0.8202],[1633910400000,0.8157],[1633996800000,0.8015],[1634083200000,0.8028],[1634169600000,0.8032],[1634256000000,0.7968],[1634515200000,0.7996],[1634601600000,0.8028],[1634688000000,0.7987],[1634774400000,0.7942],[1634860800000,0.7906],[1635120000000,0.7914]],\"color\":\"#E06681\"},{\"name\":\"4\\u5206\\u4f4d\\u6570\",\"yAxis\":0,\"data\":[[1609804800000,1.0],[1609891200000,0.9952],[1609977600000,0.9875],[1610064000000,0.9912],[1610323200000,0.9759],[1610409600000,0.9842],[1610496000000,0.9735],[1610582400000,0.9658],[1610668800000,0.9593],[1610928000000,0.9673],[1611014400000,0.9629],[1611100800000,0.9633],[1611187200000,0.9672],[1611273600000,0.9587],[1611532800000,0.9489],[1611619200000,0.9382],[1611705600000,0.9382],[1611792000000,0.9187],[1611878400000,0.9029],[1612137600000,0.9064],[1612224000000,0.9071],[1612310400000,0.8964],[1612396800000,0.8833],[1612483200000,0.8712],[1612742400000,0.8749],[1612828800000,0.8874],[1612915200000,0.8901],[1613606400000,0.9069],[1613692800000,0.9249],[1613952000000,0.9276],[1614038400000,0.9184],[1614124800000,0.9126],[1614211200000,0.9086],[1614297600000,0.8904],[1614556800000,0.9027],[1614643200000,0.8959],[1614729600000,0.9061],[1614816000000,0.889],[1614902400000,0.8888],[1615161600000,0.8728],[1615248000000,0.8493],[1615334400000,0.8425],[1615420800000,0.8602],[1615507200000,0.862],[1615766400000,0.8557],[1615852800000,0.8625],[1615939200000,0.8619],[1616025600000,0.8658],[1616112000000,0.8594],[1616371200000,0.8717],[1616457600000,0.8621],[1616544000000,0.8558],[1616630400000,0.854],[1616716800000,0.8648],[1616976000000,0.8631],[1617062400000,0.8607],[1617148800000,0.8596],[1617235200000,0.8676],[1617321600000,0.8665],[1617667200000,0.8708],[1617753600000,0.8725],[1617840000000,0.8693],[1617926400000,0.8669],[1618185600000,0.8618],[1618272000000,0.8543],[1618358400000,0.8622],[1618444800000,0.8613],[1618531200000,0.8737],[1618790400000,0.88],[1618876800000,0.8776],[1618963200000,0.875],[1619049600000,0.8779],[1619136000000,0.8753],[1619395200000,0.8734],[1619481600000,0.8723],[1619568000000,0.8783],[1619654400000,0.8767],[1619740800000,0.8717],[1620259200000,0.8734],[1620345600000,0.8726],[1620604800000,0.8723],[1620691200000,0.874],[1620777600000,0.8782],[1620864000000,0.8693],[1620950400000,0.8781],[1621209600000,0.8832],[1621296000000,0.8864],[1621382400000,0.8809],[1621468800000,0.8753],[1621555200000,0.8741],[1621814400000,0.879],[1621900800000,0.8887],[1621987200000,0.8916],[1622073600000,0.8979],[1622160000000,0.8932],[1622419200000,0.8974],[1622505600000,0.8984],[1622592000000,0.8887],[1622678400000,0.8851],[1622764800000,0.8865],[1623024000000,0.8872],[1623110400000,0.882],[1623196800000,0.8798],[1623283200000,0.8829],[1623369600000,0.8731],[1623715200000,0.8669],[1623801600000,0.8558],[1623888000000,0.8589],[1623974400000,0.8607],[1624233600000,0.8649],[1624320000000,0.8659],[1624406400000,0.8727],[1624492800000,0.8656],[1624579200000,0.8739],[1624838400000,0.8722],[1624924800000,0.8637],[1625011200000,0.8666],[1625097600000,0.8573],[1625184000000,0.8493],[1625443200000,0.8538],[1625529600000,0.8515],[1625616000000,0.8553],[1625702400000,0.8495],[1625788800000,0.8553],[1626048000000,0.8623],[1626134400000,0.8677],[1626220800000,0.8591],[1626307200000,0.8607],[1626393600000,0.8614],[1626652800000,0.858],[1626739200000,0.8566],[1626825600000,0.8615],[1626912000000,0.8652],[1626998400000,0.8599],[1627257600000,0.8409],[1627344000000,0.8286],[1627430400000,0.8156],[1627516800000,0.8289],[1627603200000,0.8322],[1627862400000,0.8413],[1627948800000,0.8387],[1628035200000,0.8475],[1628121600000,0.8393],[1628208000000,0.8412],[1628467200000,0.8463],[1628553600000,0.8503],[1628640000000,0.8529],[1628726400000,0.8535],[1628812800000,0.8528],[1629072000000,0.8516],[1629158400000,0.8365],[1629244800000,0.8433],[1629331200000,0.8393],[1629417600000,0.8351],[1629676800000,0.8488],[1629763200000,0.8532],[1629849600000,0.86],[1629936000000,0.853],[1630022400000,0.8552],[1630281600000,0.8547],[1630368000000,0.8529],[1630454400000,0.851],[1630540800000,0.8601],[1630627200000,0.859],[1630886400000,0.8694],[1630972800000,0.8854],[1631059200000,0.8905],[1631145600000,0.898],[1631232000000,0.8943],[1631491200000,0.902],[1631577600000,0.8811],[1631664000000,0.8831],[1631750400000,0.8685],[1631836800000,0.8637],[1632268800000,0.8635],[1632355200000,0.8704],[1632441600000,0.8559],[1632700800000,0.8378],[1632787200000,0.8366],[1632873600000,0.8199],[1632960000000,0.8245],[1633651200000,0.8347],[1633910400000,0.8345],[1633996800000,0.8186],[1634083200000,0.8209],[1634169600000,0.825],[1634256000000,0.8211],[1634515200000,0.8257],[1634601600000,0.8309],[1634688000000,0.8287],[1634774400000,0.8282],[1634860800000,0.8176],[1635120000000,0.8232]],\"color\":\"#E2D269\"},{\"name\":\"5\\u5206\\u4f4d\\u6570\",\"yAxis\":0,\"data\":[[1609804800000,1.0],[1609891200000,0.9962],[1609977600000,0.9825],[1610064000000,0.9916],[1610323200000,0.9774],[1610409600000,0.9886],[1610496000000,0.9815],[1610582400000,0.982],[1610668800000,0.9811],[1610928000000,0.9896],[1611014400000,0.9841],[1611100800000,0.9899],[1611187200000,0.9978],[1611273600000,0.9957],[1611532800000,0.989],[1611619200000,0.9838],[1611705600000,0.9773],[1611792000000,0.9597],[1611878400000,0.9447],[1612137600000,0.9509],[1612224000000,0.9529],[1612310400000,0.9384],[1612396800000,0.9259],[1612483200000,0.9153],[1612742400000,0.9234],[1612828800000,0.9404],[1612915200000,0.9455],[1613606400000,0.962],[1613692800000,0.9754],[1613952000000,0.975],[1614038400000,0.9708],[1614124800000,0.9649],[1614211200000,0.9591],[1614297600000,0.9397],[1614556800000,0.9586],[1614643200000,0.9496],[1614729600000,0.961],[1614816000000,0.953],[1614902400000,0.9514],[1615161600000,0.935],[1615248000000,0.915],[1615334400000,0.9057],[1615420800000,0.9216],[1615507200000,0.9222],[1615766400000,0.9208],[1615852800000,0.9227],[1615939200000,0.9262],[1616025600000,0.929],[1616112000000,0.9188],[1616371200000,0.9313],[1616457600000,0.9201],[1616544000000,0.9113],[1616630400000,0.9072],[1616716800000,0.9175],[1616976000000,0.9166],[1617062400000,0.9141],[1617148800000,0.9123],[1617235200000,0.9184],[1617321600000,0.9154],[1617667200000,0.9194],[1617753600000,0.9191],[1617840000000,0.9167],[1617926400000,0.9122],[1618185600000,0.9015],[1618272000000,0.8972],[1618358400000,0.9062],[1618444800000,0.9011],[1618531200000,0.9078],[1618790400000,0.9157],[1618876800000,0.9145],[1618963200000,0.9123],[1619049600000,0.912],[1619136000000,0.9096],[1619395200000,0.9053],[1619481600000,0.8996],[1619568000000,0.9058],[1619654400000,0.9031],[1619740800000,0.8992],[1620259200000,0.8986],[1620345600000,0.8931],[1620604800000,0.8895],[1620691200000,0.891],[1620777600000,0.8963],[1620864000000,0.8879],[1620950400000,0.894],[1621209600000,0.8932],[1621296000000,0.8956],[1621382400000,0.8919],[1621468800000,0.8868],[1621555200000,0.8836],[1621814400000,0.8846],[1621900800000,0.8927],[1621987200000,0.8946],[1622073600000,0.901],[1622160000000,0.8953],[1622419200000,0.9036],[1622505600000,0.9035],[1622592000000,0.8975],[1622678400000,0.8955],[1622764800000,0.8924],[1623024000000,0.8918],[1623110400000,0.8922],[1623196800000,0.8898],[1623283200000,0.8948],[1623369600000,0.8894],[1623715200000,0.8791],[1623801600000,0.8675],[1623888000000,0.8698],[1623974400000,0.87],[1624233600000,0.8746],[1624320000000,0.8771],[1624406400000,0.8849],[1624492800000,0.8803],[1624579200000,0.8836],[1624838400000,0.8846],[1624924800000,0.8742],[1625011200000,0.8751],[1625097600000,0.8693],[1625184000000,0.8617],[1625443200000,0.8645],[1625529600000,0.861],[1625616000000,0.8645],[1625702400000,0.858],[1625788800000,0.8603],[1626048000000,0.8672],[1626134400000,0.8765],[1626220800000,0.8716],[1626307200000,0.8727],[1626393600000,0.8684],[1626652800000,0.8681],[1626739200000,0.8661],[1626825600000,0.8708],[1626912000000,0.8679],[1626998400000,0.8611],[1627257600000,0.8489],[1627344000000,0.8363],[1627430400000,0.8225],[1627516800000,0.8357],[1627603200000,0.8392],[1627862400000,0.8543],[1627948800000,0.8503],[1628035200000,0.8515],[1628121600000,0.8463],[1628208000000,0.8442],[1628467200000,0.8504],[1628553600000,0.8547],[1628640000000,0.8558],[1628726400000,0.8563],[1628812800000,0.8546],[1629072000000,0.8571],[1629158400000,0.8352],[1629244800000,0.839],[1629331200000,0.8342],[1629417600000,0.8281],[1629676800000,0.8378],[1629763200000,0.8427],[1629849600000,0.8496],[1629936000000,0.8424],[1630022400000,0.8426],[1630281600000,0.8476],[1630368000000,0.8507],[1630454400000,0.85],[1630540800000,0.8569],[1630627200000,0.8555],[1630886400000,0.8629],[1630972800000,0.8733],[1631059200000,0.8824],[1631145600000,0.8863],[1631232000000,0.8811],[1631491200000,0.884],[1631577600000,0.8719],[1631664000000,0.8739],[1631750400000,0.8552],[1631836800000,0.855],[1632268800000,0.8582],[1632355200000,0.8683],[1632441600000,0.8576],[1632700800000,0.8423],[1632787200000,0.8454],[1632873600000,0.8264],[1632960000000,0.8303],[1633651200000,0.8404],[1633910400000,0.8384],[1633996800000,0.8209],[1634083200000,0.8186],[1634169600000,0.8159],[1634256000000,0.8092],[1634515200000,0.807],[1634601600000,0.8125],[1634688000000,0.8097],[1634774400000,0.807],[1634860800000,0.7993],[1635120000000,0.8021]],\"color\":\"#4A8E8E\"},{\"name\":\"\\u6700\\u5c0f-\\u6700\\u5927\\u5206\\u4f4d\",\"yAxis\":0,\"data\":[[1609804800000,1.0],[1609891200000,0.9988],[1609977600000,1.001],[1610064000000,0.9981],[1610323200000,0.994],[1610409600000,0.9917],[1610496000000,0.993],[1610582400000,0.9946],[1610668800000,0.9919],[1610928000000,0.9933],[1611014400000,0.9944],[1611100800000,0.9902],[1611187200000,0.9888],[1611273600000,0.9868],[1611532800000,0.9835],[1611619200000,0.9789],[1611705600000,0.984],[1611792000000,0.9851],[1611878400000,0.9862],[1612137600000,0.9857],[1612224000000,0.9838],[1612310400000,0.9854],[1612396800000,0.9825],[1612483200000,0.9821],[1612742400000,0.9811],[1612828800000,0.9817],[1612915200000,0.9813],[1613606400000,0.9803],[1613692800000,0.9828],[1613952000000,0.9857],[1614038400000,0.9842],[1614124800000,0.9813],[1614211200000,0.9802],[1614297600000,0.9808],[1614556800000,0.9777],[1614643200000,0.9817],[1614729600000,0.9813],[1614816000000,0.9805],[1614902400000,0.9792],[1615161600000,0.9783],[1615248000000,0.9786],[1615334400000,0.9764],[1615420800000,0.9764],[1615507200000,0.9759],[1615766400000,0.973],[1615852800000,0.974],[1615939200000,0.9715],[1616025600000,0.9714],[1616112000000,0.971],[1616371200000,0.9718],[1616457600000,0.9692],[1616544000000,0.9679],[1616630400000,0.9697],[1616716800000,0.9698],[1616976000000,0.9677],[1617062400000,0.9692],[1617148800000,0.9673],[1617235200000,0.9671],[1617321600000,0.9674],[1617667200000,0.9658],[1617753600000,0.9648],[1617840000000,0.965],[1617926400000,0.9661],[1618185600000,0.9638],[1618272000000,0.9619],[1618358400000,0.96],[1618444800000,0.9636],[1618531200000,0.9664],[1618790400000,0.9669],[1618876800000,0.9649],[1618963200000,0.9642],[1619049600000,0.9668],[1619136000000,0.9647],[1619395200000,0.9644],[1619481600000,0.9659],[1619568000000,0.9629],[1619654400000,0.9629],[1619740800000,0.9618],[1620259200000,0.9628],[1620345600000,0.9642],[1620604800000,0.9686],[1620691200000,0.9691],[1620777600000,0.9679],[1620864000000,0.97],[1620950400000,0.971],[1621209600000,0.971],[1621296000000,0.9693],[1621382400000,0.9694],[1621468800000,0.9703],[1621555200000,0.97],[1621814400000,0.9709],[1621900800000,0.9695],[1621987200000,0.9678],[1622073600000,0.9664],[1622160000000,0.9659],[1622419200000,0.9645],[1622505600000,0.9641],[1622592000000,0.9627],[1622678400000,0.9617],[1622764800000,0.9634],[1623024000000,0.9645],[1623110400000,0.9633],[1623196800000,0.9633],[1623283200000,0.9629],[1623369600000,0.9627],[1623715200000,0.9634],[1623801600000,0.9638],[1623888000000,0.9654],[1623974400000,0.968],[1624233600000,0.9674],[1624320000000,0.9676],[1624406400000,0.964],[1624492800000,0.9638],[1624579200000,0.9649],[1624838400000,0.9615],[1624924800000,0.9639],[1625011200000,0.9652],[1625097600000,0.9618],[1625184000000,0.9611],[1625443200000,0.9624],[1625529600000,0.9644],[1625616000000,0.9632],[1625702400000,0.9631],[1625788800000,0.9642],[1626048000000,0.9633],[1626134400000,0.9613],[1626220800000,0.9591],[1626307200000,0.957],[1626393600000,0.9583],[1626652800000,0.9562],[1626739200000,0.9547],[1626825600000,0.9549],[1626912000000,0.9579],[1626998400000,0.9587],[1627257600000,0.9561],[1627344000000,0.9552],[1627430400000,0.9587],[1627516800000,0.9541],[1627603200000,0.9515],[1627862400000,0.9466],[1627948800000,0.9492],[1628035200000,0.9515],[1628121600000,0.9498],[1628208000000,0.9493],[1628467200000,0.9507],[1628553600000,0.95],[1628640000000,0.9484],[1628726400000,0.9483],[1628812800000,0.9477],[1629072000000,0.9461],[1629158400000,0.9475],[1629244800000,0.947],[1629331200000,0.949],[1629417600000,0.9478],[1629676800000,0.9454],[1629763200000,0.9438],[1629849600000,0.9403],[1629936000000,0.9426],[1630022400000,0.9401],[1630281600000,0.9396],[1630368000000,0.9371],[1630454400000,0.9415],[1630540800000,0.9401],[1630627200000,0.9394],[1630886400000,0.938],[1630972800000,0.9374],[1631059200000,0.9333],[1631145600000,0.9318],[1631232000000,0.9308],[1631491200000,0.9289],[1631577600000,0.9279],[1631664000000,0.9269],[1631750400000,0.9293],[1631836800000,0.9253],[1632268800000,0.9233],[1632355200000,0.9206],[1632441600000,0.9204],[1632700800000,0.9182],[1632787200000,0.9148],[1632873600000,0.912],[1632960000000,0.9146],[1633651200000,0.9103],[1633910400000,0.9113],[1633996800000,0.9132],[1634083200000,0.9147],[1634169600000,0.9184],[1634256000000,0.9201],[1634515200000,0.9213],[1634601600000,0.9196],[1634688000000,0.9204],[1634774400000,0.9198],[1634860800000,0.9208],[1635120000000,0.9205]]}],\"xAxis\":{\"title\":{\"text\":\"date\"},\"type\":\"datetime\"},\"plotOptions\":{\"series\":{\"compare\":\"percent\"}}}/bigcharts-data-end</pre></div><div class=\"type_title_left\"><p>基本特征分析<i class=\"fa fa-question-circle-o\" title=\"处理后因子表示对因子做去极值、标准化和中性化(如果启用的话)等处理后的因子值。\"></i></p></div><div class=\"cols\">\n",
       "            \n",
       "                \n",
       "                <div class=\"col\"><div id=\"bigchart-085a30936fbe4876ab679411ff12c71a\" class=\"bigchart\"></div><div class=\"bigchart-data\"><pre style=\"display:none\">bigcharts-data-start/{\"chart\":{\"height\":500,\"type\":\"column\",\"renderTo\":\"bigchart-085a30936fbe4876ab679411ff12c71a\"},\"legend\":{\"enabled\":true},\"title\":{\"text\":\"\\u56e0\\u5b50\\u5206\\u5e03\"},\"stock\":false,\"series\":[{\"name\":\"count\",\"yAxis\":0,\"data\":[[-1.9499,0.0],[-1.9341,0.0],[-1.9184,0.0],[-1.9026,0.0],[-1.8868,0.0],[-1.8711,0.0],[-1.8553,0.0],[-1.8395,0.0],[-1.8238,0.0],[-1.808,0.0001],[-1.7923,0.0],[-1.7765,0.0001],[-1.7607,0.0001],[-1.745,0.0001],[-1.7292,0.0001],[-1.7134,0.0001],[-1.6977,0.0001],[-1.6819,0.0002],[-1.6662,0.0002],[-1.6504,0.0003],[-1.6346,0.0004],[-1.6189,0.0005],[-1.6031,0.0006],[-1.5874,0.0006],[-1.5716,0.0007],[-1.5558,0.0009],[-1.5401,0.0009],[-1.5243,0.0011],[-1.5085,0.0015],[-1.4928,0.0014],[-1.477,0.0016],[-1.4613,0.0019],[-1.4455,0.0023],[-1.4297,0.0025],[-1.414,0.0029],[-1.3982,0.0031],[-1.3824,0.0036],[-1.3667,0.004],[-1.3509,0.0048],[-1.3352,0.0057],[-1.3194,0.0064],[-1.3036,0.0068],[-1.2879,0.0082],[-1.2721,0.0089],[-1.2564,0.0096],[-1.2406,0.0112],[-1.2248,0.0117],[-1.2091,0.0133],[-1.1933,0.0147],[-1.1775,0.0167],[-1.1618,0.0184],[-1.146,0.0192],[-1.1303,0.0213],[-1.1145,0.0241],[-1.0987,0.0251],[-1.083,0.0268],[-1.0672,0.0283],[-1.0514,0.0307],[-1.0357,0.033],[-1.0199,0.0333],[-1.0042,0.0341],[-0.9884,0.0353],[-0.9726,0.0377],[-0.9569,0.0374],[-0.9411,0.0367],[-0.9254,0.0362],[-0.9096,0.0351],[-0.8938,0.034],[-0.8781,0.0333],[-0.8623,0.0315],[-0.8465,0.0312],[-0.8308,0.0279],[-0.815,0.0258],[-0.7993,0.0242],[-0.7835,0.022],[-0.7677,0.0184],[-0.752,0.0163],[-0.7362,0.0148],[-0.7204,0.0122],[-0.7047,0.0097],[-0.6889,0.0082],[-0.6732,0.0065],[-0.6574,0.0057],[-0.6416,0.0042],[-0.6259,0.0032],[-0.6101,0.0025],[-0.5944,0.0017],[-0.5786,0.0013],[-0.5628,0.0008],[-0.5471,0.0005],[-0.5313,0.0005],[-0.5155,0.0004],[-0.4998,0.0002],[-0.484,0.0001],[-0.4683,0.0001],[-0.4525,0.0],[-0.4367,0.0],[-0.421,0.0],[-0.4052,0.0],[-0.3895,0.0]],\"color\":\"#F08B55\"}],\"xAxis\":{\"title\":{\"text\":\"value\"}}}/bigcharts-data-end</pre></div></div>\n",
       "                \n",
       "            \n",
       "                \n",
       "                <div class=\"col\"><div id=\"bigchart-2793fda206c34140ae5146fde616816d\" class=\"bigchart\"></div><div class=\"bigchart-data\"><pre style=\"display:none\">bigcharts-data-start/{\"chart\":{\"height\":500,\"type\":\"column\",\"renderTo\":\"bigchart-2793fda206c34140ae5146fde616816d\"},\"legend\":{\"enabled\":true},\"title\":{\"text\":\"\\u5904\\u7406\\u540e\\u56e0\\u5b50\\u5206\\u5e03\"},\"stock\":false,\"series\":[{\"name\":\"count\",\"yAxis\":0,\"data\":[[-1.0575,0.0],[-1.0403,0.0],[-1.023,0.0],[-1.0058,0.0],[-0.9885,0.0],[-0.9713,0.0],[-0.954,0.0],[-0.9368,0.0],[-0.9196,0.0],[-0.9023,0.0],[-0.8851,0.0],[-0.8678,0.0],[-0.8506,0.0001],[-0.8333,0.0],[-0.8161,0.0001],[-0.7988,0.0001],[-0.7816,0.0],[-0.7643,0.0001],[-0.7471,0.0],[-0.7298,0.0001],[-0.7126,0.0001],[-0.6953,0.0002],[-0.6781,0.0001],[-0.6608,0.0002],[-0.6436,0.0003],[-0.6263,0.0003],[-0.6091,0.0004],[-0.5918,0.0003],[-0.5746,0.0003],[-0.5573,0.0004],[-0.5401,0.0006],[-0.5228,0.0007],[-0.5056,0.0009],[-0.4883,0.0009],[-0.4711,0.0012],[-0.4538,0.0014],[-0.4366,0.0015],[-0.4193,0.002],[-0.4021,0.0026],[-0.3848,0.0026],[-0.3676,0.0035],[-0.3503,0.004],[-0.3331,0.0046],[-0.3158,0.005],[-0.2986,0.0065],[-0.2813,0.0076],[-0.2641,0.0083],[-0.2469,0.0097],[-0.2296,0.0117],[-0.2124,0.0135],[-0.1951,0.0149],[-0.1779,0.0166],[-0.1606,0.0187],[-0.1434,0.0232],[-0.1261,0.0252],[-0.1089,0.029],[-0.0916,0.0318],[-0.0744,0.0333],[-0.0571,0.0387],[-0.0399,0.0396],[-0.0226,0.0431],[-0.0054,0.046],[0.0119,0.0484],[0.0291,0.0489],[0.0464,0.0487],[0.0636,0.0477],[0.0809,0.0457],[0.0981,0.0435],[0.1154,0.0412],[0.1326,0.0347],[0.1499,0.0325],[0.1671,0.0283],[0.1844,0.0246],[0.2016,0.0204],[0.2189,0.0167],[0.2361,0.0144],[0.2534,0.0113],[0.2706,0.009],[0.2879,0.0073],[0.3051,0.0055],[0.3224,0.0049],[0.3396,0.0038],[0.3569,0.003],[0.3741,0.002],[0.3914,0.0012],[0.4086,0.0012],[0.4259,0.0009],[0.4431,0.0004],[0.4603,0.0005],[0.4776,0.0003],[0.4948,0.0002],[0.5121,0.0003],[0.5293,0.0],[0.5466,0.0],[0.5638,0.0001],[0.5811,0.0],[0.5983,0.0],[0.6156,0.0],[0.6328,0.0],[0.6501,0.0]],\"color\":\"#F08B55\"}],\"xAxis\":{\"title\":{\"text\":\"value\"}}}/bigcharts-data-end</pre></div></div>\n",
       "                \n",
       "            \n",
       "            </div><div class=\"cols\">\n",
       "            \n",
       "                \n",
       "                <div class=\"col\"><div id=\"bigchart-7d6f36decdb245a78534053face99ed0\" class=\"bigchart\"></div><div class=\"bigchart-data\"><pre style=\"display:none\">bigcharts-data-start/{\"chart\":{\"height\":500,\"type\":\"boxplot\",\"renderTo\":\"bigchart-7d6f36decdb245a78534053face99ed0\"},\"legend\":{\"enabled\":true},\"title\":{\"text\":\"\\u5904\\u7406\\u540e\\u56e0\\u5b50\\u884c\\u4e1a\\u5206\\u5e03\"},\"stock\":false,\"series\":[{\"name\":\"\\u5904\\u7406\\u540e\\u56e0\\u5b50\",\"data\":[[-0.7245,-0.1016,0.0106,0.1101,0.5649],[-0.8397,-0.0813,0.011,0.0942,0.4185],[-0.8772,-0.1008,0.0124,0.1103,0.551],[-0.7163,-0.0755,0.0068,0.0803,0.4906],[-0.9809,-0.0827,0.0169,0.0953,0.4446],[-0.8086,-0.0977,0.0153,0.1114,0.5085],[-1.0748,-0.0896,0.0144,0.1058,0.4629],[-0.579,-0.0982,0.0066,0.1055,0.4888],[-0.7025,-0.089,0.0142,0.1056,0.501],[-0.4687,-0.0821,0.0011,0.0904,0.4643],[-0.8525,-0.0992,0.0127,0.1138,0.4966],[-0.8578,-0.0999,0.0163,0.1112,0.4981],[-0.6697,-0.0937,0.0129,0.1087,0.556],[-0.6924,-0.1007,0.0101,0.1122,0.6501],[-0.8065,-0.1015,0.0088,0.11,0.5889],[-0.8655,-0.0974,0.0132,0.1104,0.5018],[-0.3095,-0.0735,0.0,0.0735,0.3095],[-0.5993,-0.0753,0.005,0.0829,0.4984],[-0.7416,-0.0747,0.0079,0.0795,0.5181],[-0.4298,-0.0729,-0.0,0.0838,0.3422],[-0.5521,-0.0914,0.0067,0.0942,0.4888],[-0.8165,-0.0984,0.017,0.1094,0.4703],[-0.8259,-0.0938,0.0133,0.1071,0.4279],[-0.839,-0.1004,0.0069,0.1129,0.6038],[-0.6192,-0.0748,0.0111,0.0903,0.4852],[-0.9099,-0.0873,0.0126,0.105,0.4869],[-0.7989,-0.1026,0.0135,0.113,0.6369],[-0.6554,-0.0872,0.0081,0.0985,0.4759]],\"color\":\"#F08B55\"}],\"xAxis\":{\"categories\":[\"\\u519c\\u6797\\u7267\\u6e14\",\"\\u91c7\\u6398\",\"\\u5316\\u5de5\",\"\\u94a2\\u94c1\",\"\\u6709\\u8272\\u91d1\\u5c5e\",\"\\u7535\\u5b50\",\"\\u6c7d\\u8f66\",\"\\u5bb6\\u7528\\u7535\\u5668\",\"\\u98df\\u54c1\\u996e\\u6599\",\"\\u7eba\\u7ec7\\u670d\\u88c5\",\"\\u8f7b\\u5de5\\u5236\\u9020\",\"\\u533b\\u836f\\u751f\\u7269\",\"\\u516c\\u7528\\u4e8b\\u4e1a\",\"\\u4ea4\\u901a\\u8fd0\\u8f93\",\"\\u623f\\u5730\\u4ea7\",\"\\u5546\\u4e1a\\u8d38\\u6613\",\"\\u4f11\\u95f2\\u670d\\u52a1\",\"\\u94f6\\u884c\",\"\\u975e\\u94f6\\u91d1\\u878d\",\"\\u7efc\\u5408\",\"\\u5efa\\u7b51\\u6750\\u6599\",\"\\u5efa\\u7b51\\u88c5\\u9970\",\"\\u7535\\u6c14\\u8bbe\\u5907\",\"\\u673a\\u68b0\\u8bbe\\u5907\",\"\\u56fd\\u9632\\u519b\\u5de5\",\"\\u8ba1\\u7b97\\u673a\",\"\\u4f20\\u5a92\",\"\\u901a\\u4fe1\"]}}/bigcharts-data-end</pre></div></div>\n",
       "                \n",
       "            \n",
       "                \n",
       "                <div class=\"col\"><div id=\"bigchart-85fb775cb87a4c298008b39471a46e13\" class=\"bigchart\"></div><div class=\"bigchart-data\"><pre style=\"display:none\">bigcharts-data-start/{\"chart\":{\"height\":500,\"type\":\"boxplot\",\"renderTo\":\"bigchart-85fb775cb87a4c298008b39471a46e13\"},\"legend\":{\"enabled\":true},\"title\":{\"text\":\"\\u5904\\u7406\\u540e\\u56e0\\u5b50\\u5e02\\u503c\\u5206\\u5e03\"},\"stock\":false,\"series\":[{\"name\":\"\\u5904\\u7406\\u540e\\u56e0\\u5b50\",\"data\":[[-0.839,-0.0911,0.0102,0.1032,0.5532],[-0.9099,-0.094,0.0123,0.1054,0.6369],[-0.8525,-0.0901,0.0142,0.1064,0.6501],[-0.9809,-0.0909,0.0117,0.1035,0.501],[-1.0748,-0.0952,0.0107,0.1029,0.5649]],\"color\":\"#F08B55\"}],\"xAxis\":{\"categories\":[\"\\u8d85\\u5c0f\\u578b\",\"\\u5c0f\\u578b\",\"\\u4e2d\\u578b\",\"\\u5927\\u578b\",\"\\u8d85\\u5927\\u578b\"]}}/bigcharts-data-end</pre></div></div>\n",
       "                \n",
       "            \n",
       "            </div><div class=\"type_title_left\"><p>IC分析<i class=\"fa fa-question-circle-o\" title=\"期初因子值与因子当期收益相关性分析，绝对值越大越好。以及因子值与滞后n期因子收益的相关性分析。\"></i></p></div>\n",
       "        <div class=\"ic_summary\">\n",
       "          <div class=\"item ic_mean\"><label>IC均值</label><p>0.01</p></div>\n",
       "          <div class=\"item ic_std\"><label>IC标准差</label><p>0.05</p></div>\n",
       "          <div class=\"item ir\"><label>IR值</label><p>0.28</p></div>\n",
       "          <div class=\"item ic_significance_ratio\"><label>|IC| > 0.02比率</label><p>72.92%</p></div>\n",
       "        </div>\n",
       "        <div class=\"cols\">\n",
       "            \n",
       "                \n",
       "                <div class=\"col\"><div id=\"bigchart-3382a40a1e314b4eba23431f27a5ca61\" class=\"bigchart\"></div><div class=\"bigchart-data\"><pre style=\"display:none\">bigcharts-data-start/{\"chart\":{\"height\":500,\"type\":\"column\",\"renderTo\":\"bigchart-3382a40a1e314b4eba23431f27a5ca61\"},\"legend\":{\"enabled\":true},\"title\":{\"text\":\"IC\\u65f6\\u5e8f\\u56fe\"},\"stock\":true,\"series\":[{\"name\":\"IC\",\"yAxis\":0,\"data\":[[1609804800000,0.0093],[1609977600000,0.0686],[1610323200000,-0.0124],[1610496000000,-0.04],[1610668800000,-0.0796],[1611014400000,0.055],[1611187200000,0.0769],[1611532800000,0.0015],[1611705600000,-0.0708],[1611878400000,0.07],[1612224000000,0.0019],[1612396800000,-0.0151],[1612742400000,-0.0143],[1612915200000,-0.0166],[1613692800000,-0.0165],[1614038400000,0.0704],[1614211200000,0.0362],[1614556800000,-0.1005],[1614729600000,-0.0892],[1614902400000,-0.0033],[1615248000000,0.1225],[1615420800000,0.0732],[1615766400000,0.0431],[1615939200000,0.0478],[1616112000000,0.0374],[1616457600000,-0.0316],[1616630400000,0.0427],[1616976000000,0.0221],[1617148800000,0.0453],[1617321600000,0.0784],[1617753600000,-0.0279],[1617926400000,0.1078],[1618272000000,-0.0168],[1618444800000,-0.0757],[1618790400000,0.0058],[1618963200000,0.03],[1619136000000,0.0682],[1619481600000,0.0556],[1619654400000,-0.0382],[1620259200000,-0.0485],[1620604800000,0.0582],[1620777600000,-0.0631],[1620950400000,0.0722],[1621296000000,0.0233],[1621468800000,0.0109],[1621814400000,0.0823],[1621987200000,0.0351],[1622160000000,0.0461],[1622505600000,0.0061],[1622678400000,-0.0138],[1623024000000,-0.0252],[1623196800000,-0.0601],[1623369600000,-0.0316],[1623801600000,-0.1051],[1623974400000,0.0399],[1624320000000,0.0628],[1624492800000,0.1197],[1625011200000,0.0434],[1625184000000,-0.0116],[1625529600000,0.0385],[1626048000000,0.0842],[1626220800000,0.043],[1626393600000,0.0765],[1626739200000,-0.0386],[1627257600000,-0.0546],[1627603200000,-0.028],[1627948800000,-0.0093],[1628467200000,-0.0086],[1628640000000,0.0189],[1628812800000,0.0344],[1629158400000,-0.063],[1629676800000,0.0265],[1629849600000,-0.0249],[1630022400000,-0.0035],[1630368000000,0.0058],[1630540800000,0.018],[1630886400000,0.1082],[1631059200000,0.0769],[1631232000000,0.0536],[1631750400000,0.1038],[1632268800000,0.07],[1632441600000,0.0625],[1632787200000,0.0012],[1632960000000,0.0121],[1633910400000,-0.0401],[1634083200000,-0.0525],[1634256000000,0.006],[1634601600000,0.0458],[1634774400000,0.0467],[1624838400000,-0.0247],[1625702400000,0.0135],[1626912000000,0.0158],[1627430400000,0.1313],[1628121600000,-0.0773],[1629331200000,0.0667],[1631577600000,-0.0597]],\"color\":\"#F08B55\"}],\"xAxis\":{\"title\":{\"text\":\"date\"},\"type\":\"datetime\"}}/bigcharts-data-end</pre></div></div>\n",
       "                \n",
       "            \n",
       "                \n",
       "                <div class=\"col\"><div id=\"bigchart-963303ba25ad434da1fe04543d6c52bb\" class=\"bigchart\"></div><div class=\"bigchart-data\"><pre style=\"display:none\">bigcharts-data-start/{\"chart\":{\"height\":500,\"type\":\"column\",\"renderTo\":\"bigchart-963303ba25ad434da1fe04543d6c52bb\"},\"legend\":{\"enabled\":true},\"title\":{\"text\":\"IC\\u4fe1\\u53f7\\u8870\\u51cf\"},\"stock\":false,\"series\":[{\"name\":\"IC\",\"yAxis\":0,\"data\":[[\"\\u6ede\\u540e0\\u671f\",0.015],[\"\\u6ede\\u540e1\\u671f\",-0.1104],[\"\\u6ede\\u540e2\\u671f\",0.0327],[\"\\u6ede\\u540e3\\u671f\",0.0115],[\"\\u6ede\\u540e4\\u671f\",0.0091]],\"color\":\"#F08B55\"}],\"xAxis\":{\"categories\":[\"\\u6ede\\u540e0\\u671f\",\"\\u6ede\\u540e1\\u671f\",\"\\u6ede\\u540e2\\u671f\",\"\\u6ede\\u540e3\\u671f\",\"\\u6ede\\u540e4\\u671f\"]}}/bigcharts-data-end</pre></div></div>\n",
       "                \n",
       "            \n",
       "            </div><div class=\"type_title_left\"><p>买入信号重合分析<i class=\"fa fa-question-circle-o\" title=\"分布对最小和最大分位组，计算当期和滞后n期所选股票的重合度。\"></i></p></div><div id=\"bigchart-396baab41cb54de595b43e5a50814e6e\" class=\"bigchart\"></div><div class=\"bigchart-data\"><pre style=\"display:none\">bigcharts-data-start/{\"chart\":{\"height\":500,\"type\":\"column\",\"renderTo\":\"bigchart-396baab41cb54de595b43e5a50814e6e\"},\"legend\":{\"enabled\":true},\"title\":{\"text\":\"\\u4e70\\u5165\\u4fe1\\u53f7\\u91cd\\u5408\\u5ea6\"},\"stock\":false,\"series\":[{\"name\":\"\\u6700\\u5c0f\\u5206\\u4f4d\",\"yAxis\":0,\"data\":[[\"\\u6ede\\u540e1\\u671f\",0.199],[\"\\u6ede\\u540e2\\u671f\",0.1988],[\"\\u6ede\\u540e3\\u671f\",0.1952],[\"\\u6ede\\u540e4\\u671f\",0.197],[\"\\u6ede\\u540e5\\u671f\",0.1857],[\"\\u6ede\\u540e6\\u671f\",0.1861],[\"\\u6ede\\u540e7\\u671f\",0.1862],[\"\\u6ede\\u540e8\\u671f\",0.1856],[\"\\u6ede\\u540e9\\u671f\",0.1937],[\"\\u6ede\\u540e10\\u671f\",0.1822]],\"color\":\"#F08B55\"},{\"name\":\"\\u6700\\u5927\\u5206\\u4f4d\",\"yAxis\":0,\"data\":[[\"\\u6ede\\u540e1\\u671f\",0.2095],[\"\\u6ede\\u540e2\\u671f\",0.1993],[\"\\u6ede\\u540e3\\u671f\",0.2038],[\"\\u6ede\\u540e4\\u671f\",0.1986],[\"\\u6ede\\u540e5\\u671f\",0.2042],[\"\\u6ede\\u540e6\\u671f\",0.1953],[\"\\u6ede\\u540e7\\u671f\",0.1955],[\"\\u6ede\\u540e8\\u671f\",0.1871],[\"\\u6ede\\u540e9\\u671f\",0.1831],[\"\\u6ede\\u540e10\\u671f\",0.1939]],\"color\":\"#648FD5\"}],\"xAxis\":{\"categories\":[\"\\u6ede\\u540e1\\u671f\",\"\\u6ede\\u540e2\\u671f\",\"\\u6ede\\u540e3\\u671f\",\"\\u6ede\\u540e4\\u671f\",\"\\u6ede\\u540e5\\u671f\",\"\\u6ede\\u540e6\\u671f\",\"\\u6ede\\u540e7\\u671f\",\"\\u6ede\\u540e8\\u671f\",\"\\u6ede\\u540e9\\u671f\",\"\\u6ede\\u540e10\\u671f\"]}}/bigcharts-data-end</pre></div><div class=\"type_title_left\"><p>因子估值分析<i class=\"fa fa-question-circle-o\" title=\"衡量因子估值高低，估值越低，该因子越可以加大配置。\"></i></p></div><div id=\"bigchart-6b0d9ea881dd4e0caacf52d2d5a7594e\" class=\"bigchart\"></div><div class=\"bigchart-data\"><pre style=\"display:none\">bigcharts-data-start/{\"chart\":{\"height\":500,\"renderTo\":\"bigchart-6b0d9ea881dd4e0caacf52d2d5a7594e\"},\"legend\":{\"enabled\":true},\"title\":{\"text\":\"PB\\u4f30\\u503c\\u5206\\u6790\"},\"stock\":true,\"series\":[{\"name\":\"1\\u5206\\u4f4d\\u6570\",\"yAxis\":0,\"data\":[[1609804800000,null],[1609891200000,2.0095],[1609977600000,2.136],[1610064000000,1.8],[1610323200000,1.7058],[1610409600000,2.1268],[1610496000000,2.0162],[1610582400000,1.9897],[1610668800000,1.9784],[1610928000000,2.2256],[1611014400000,2.2747],[1611100800000,1.813],[1611187200000,1.9193],[1611273600000,2.0199],[1611532800000,2.2222],[1611619200000,1.875],[1611705600000,1.9148],[1611792000000,1.8993],[1611878400000,1.9682],[1612137600000,1.9559],[1612224000000,1.9212],[1612310400000,2.145],[1612396800000,2.0585],[1612483200000,1.6805],[1612742400000,1.7185],[1612828800000,2.0087],[1612915200000,1.8698],[1613606400000,2.2917],[1613692800000,2.3511],[1613952000000,1.8995],[1614038400000,1.9045],[1614124800000,2.3432],[1614211200000,2.3123],[1614297600000,2.252],[1614556800000,2.3978],[1614643200000,2.088],[1614729600000,2.1322],[1614816000000,2.1775],[1614902400000,2.122],[1615161600000,2.1074],[1615248000000,2.1043],[1615334400000,1.8925],[1615420800000,1.9371],[1615507200000,2.0984],[1615766400000,2.0791],[1615852800000,1.8412],[1615939200000,1.8408],[1616025600000,2.0401],[1616112000000,2.0506],[1616371200000,1.8505],[1616457600000,1.8154],[1616544000000,2.1683],[1616630400000,2.136],[1616716800000,2.5784],[1616976000000,2.5588],[1617062400000,1.7867],[1617148800000,1.797],[1617235200000,1.7919],[1617321600000,1.7545],[1617667200000,2.4463],[1617753600000,2.4747],[1617840000000,2.09],[1617926400000,2.0437],[1618185600000,2.5268],[1618272000000,2.4988],[1618358400000,2.2888],[1618444800000,2.2472],[1618531200000,2.3176],[1618790400000,2.3863],[1618876800000,2.2089],[1618963200000,2.1792],[1619049600000,2.2411],[1619136000000,2.266],[1619395200000,2.0673],[1619481600000,2.0608],[1619568000000,1.9115],[1619654400000,1.8952],[1619740800000,1.9281],[1620259200000,1.9682],[1620345600000,1.9001],[1620604800000,1.9274],[1620691200000,1.987],[1620777600000,1.9955],[1620864000000,2.4925],[1620950400000,2.6111],[1621209600000,1.9474],[1621296000000,1.9533],[1621382400000,2.0633],[1621468800000,2.034],[1621555200000,2.0081],[1621814400000,1.9755],[1621900800000,1.899],[1621987200000,1.9048],[1622073600000,2.0977],[1622160000000,2.1187],[1622419200000,2.1285],[1622505600000,2.2046],[1622592000000,2.0553],[1622678400000,2.038],[1622764800000,2.0803],[1623024000000,2.0851],[1623110400000,2.1904],[1623196800000,2.186],[1623283200000,1.8984],[1623369600000,1.8539],[1623715200000,1.9222],[1623801600000,1.9074],[1623888000000,2.1367],[1623974400000,2.2017],[1624233600000,2.2584],[1624320000000,2.2675],[1624406400000,1.7721],[1624492800000,1.7666],[1624579200000,2.1553],[1624838400000,2.1662],[1624924800000,2.2453],[1625011200000,2.3786],[1625097600000,2.0071],[1625184000000,2.1086],[1625443200000,2.108],[1625529600000,2.1919],[1625616000000,2.0605],[1625702400000,2.0081],[1625788800000,2.008],[1626048000000,2.0107],[1626134400000,2.1548],[1626220800000,2.1369],[1626307200000,1.7891],[1626393600000,1.8605],[1626652800000,1.9622],[1626739200000,1.9431],[1626825600000,2.3126],[1626912000000,2.3439],[1626998400000,1.8569],[1627257600000,1.8185],[1627344000000,1.9314],[1627430400000,1.9292],[1627516800000,2.0698],[1627603200000,2.0565],[1627862400000,1.9181],[1627948800000,2.0682],[1628035200000,2.4791],[1628121600000,2.4483],[1628208000000,2.1294],[1628467200000,2.0321],[1628553600000,2.5373],[1628640000000,2.5925],[1628726400000,1.9172],[1628812800000,1.9059],[1629072000000,1.9432],[1629158400000,1.8506],[1629244800000,2.2237],[1629331200000,2.1334],[1629417600000,2.3756],[1629676800000,2.2758],[1629763200000,2.2536],[1629849600000,2.2654],[1629936000000,2.0064],[1630022400000,2.0485],[1630281600000,2.2795],[1630368000000,2.2961],[1630454400000,1.7877],[1630540800000,1.7657],[1630627200000,1.9706],[1630886400000,2.0018],[1630972800000,2.3332],[1631059200000,2.3455],[1631145600000,2.3822],[1631232000000,2.3647],[1631491200000,2.4368],[1631577600000,2.4071],[1631664000000,2.8501],[1631750400000,2.8003],[1631836800000,2.433],[1632268800000,2.4324],[1632355200000,2.3605],[1632441600000,2.2095],[1632700800000,2.4269],[1632787200000,2.3625],[1632873600000,2.5836],[1632960000000,2.6484],[1633651200000,2.2778],[1633910400000,2.3731],[1633996800000,2.5042],[1634083200000,2.4733],[1634169600000,2.9549],[1634256000000,2.9489],[1634515200000,2.0658],[1634601600000,2.0972],[1634688000000,2.3016],[1634774400000,2.3217],[1634860800000,1.8939],[1635120000000,1.8584]],\"color\":\"#F08B55\"},{\"name\":\"2\\u5206\\u4f4d\\u6570\",\"yAxis\":0,\"data\":[[1609804800000,null],[1609891200000,2.1958],[1609977600000,2.1424],[1610064000000,2.0781],[1610323200000,2.0507],[1610409600000,2.4267],[1610496000000,2.3698],[1610582400000,1.6633],[1610668800000,1.6751],[1610928000000,2.2143],[1611014400000,2.1533],[1611100800000,1.8673],[1611187200000,1.8732],[1611273600000,1.6619],[1611532800000,1.6453],[1611619200000,1.8215],[1611705600000,1.7894],[1611792000000,1.7959],[1611878400000,1.7637],[1612137600000,1.9928],[1612224000000,1.943],[1612310400000,1.6731],[1612396800000,1.6664],[1612483200000,1.9848],[1612742400000,1.9401],[1612828800000,1.9525],[1612915200000,1.9266],[1613606400000,1.6894],[1613692800000,1.8088],[1613952000000,1.9052],[1614038400000,1.8984],[1614124800000,2.2145],[1614211200000,2.1559],[1614297600000,1.8338],[1614556800000,1.9085],[1614643200000,2.1223],[1614729600000,2.1495],[1614816000000,1.9335],[1614902400000,1.9308],[1615161600000,1.9921],[1615248000000,1.9304],[1615334400000,2.3059],[1615420800000,2.373],[1615507200000,1.973],[1615766400000,1.9656],[1615852800000,2.1015],[1615939200000,2.0613],[1616025600000,1.8434],[1616112000000,1.8627],[1616371200000,2.3878],[1616457600000,2.3831],[1616544000000,1.723],[1616630400000,1.7421],[1616716800000,1.9311],[1616976000000,2.0076],[1617062400000,2.1098],[1617148800000,2.1065],[1617235200000,2.3276],[1617321600000,2.1846],[1617667200000,1.9438],[1617753600000,2.0485],[1617840000000,1.768],[1617926400000,1.7693],[1618185600000,1.9814],[1618272000000,1.961],[1618358400000,1.79],[1618444800000,1.8128],[1618531200000,1.7633],[1618790400000,1.757],[1618876800000,2.1482],[1618963200000,2.1506],[1619049600000,1.6237],[1619136000000,1.6451],[1619395200000,1.6374],[1619481600000,1.5934],[1619568000000,2.0053],[1619654400000,1.9518],[1619740800000,1.9891],[1620259200000,1.9455],[1620345600000,2.0672],[1620604800000,2.0828],[1620691200000,2.2878],[1620777600000,2.333],[1620864000000,1.6461],[1620950400000,1.7143],[1621209600000,2.0099],[1621296000000,2.0215],[1621382400000,2.076],[1621468800000,2.0495],[1621555200000,1.7346],[1621814400000,1.7393],[1621900800000,1.9703],[1621987200000,2.0639],[1622073600000,1.891],[1622160000000,1.9112],[1622419200000,2.06],[1622505600000,2.0888],[1622592000000,2.1702],[1622678400000,2.2309],[1622764800000,2.2985],[1623024000000,2.2958],[1623110400000,1.8113],[1623196800000,1.8236],[1623283200000,1.8682],[1623369600000,1.9174],[1623715200000,2.0169],[1623801600000,1.9166],[1623888000000,1.912],[1623974400000,2.0704],[1624233600000,2.1261],[1624320000000,2.1291],[1624406400000,2.2149],[1624492800000,2.1871],[1624579200000,1.8486],[1624838400000,1.8407],[1624924800000,2.1207],[1625011200000,2.1594],[1625097600000,2.1019],[1625184000000,2.1175],[1625443200000,1.9994],[1625529600000,2.0406],[1625616000000,2.0783],[1625702400000,2.0584],[1625788800000,2.0705],[1626048000000,2.1098],[1626134400000,1.9646],[1626220800000,1.9491],[1626307200000,1.8478],[1626393600000,1.8826],[1626652800000,2.0459],[1626739200000,2.0732],[1626825600000,1.9459],[1626912000000,1.9298],[1626998400000,2.3127],[1627257600000,2.253],[1627344000000,1.8821],[1627430400000,1.8535],[1627516800000,1.8826],[1627603200000,1.8596],[1627862400000,2.0656],[1627948800000,2.0492],[1628035200000,2.0296],[1628121600000,1.9892],[1628208000000,2.165],[1628467200000,2.1851],[1628553600000,1.7287],[1628640000000,1.7183],[1628726400000,1.8162],[1628812800000,1.8533],[1629072000000,2.4269],[1629158400000,2.3658],[1629244800000,1.8854],[1629331200000,1.8691],[1629417600000,2.0867],[1629676800000,2.1094],[1629763200000,1.6537],[1629849600000,1.618],[1629936000000,2.0315],[1630022400000,2.0623],[1630281600000,2.4468],[1630368000000,2.493],[1630454400000,2.1356],[1630540800000,2.2746],[1630627200000,2.0855],[1630886400000,2.0491],[1630972800000,2.5962],[1631059200000,2.5815],[1631145600000,2.1701],[1631232000000,2.0825],[1631491200000,2.0778],[1631577600000,2.0485],[1631664000000,1.9286],[1631750400000,1.9487],[1631836800000,2.2164],[1632268800000,2.1738],[1632355200000,2.0762],[1632441600000,1.993],[1632700800000,1.8556],[1632787200000,1.9079],[1632873600000,1.8839],[1632960000000,1.892],[1633651200000,2.096],[1633910400000,2.1089],[1633996800000,2.0883],[1634083200000,2.1715],[1634169600000,2.144],[1634256000000,2.1256],[1634515200000,1.7848],[1634601600000,1.8258],[1634688000000,2.2009],[1634774400000,2.1711],[1634860800000,1.7874],[1635120000000,1.8499]],\"color\":\"#648FD5\"},{\"name\":\"3\\u5206\\u4f4d\\u6570\",\"yAxis\":0,\"data\":[[1609804800000,null],[1609891200000,2.0324],[1609977600000,2.0312],[1610064000000,2.007],[1610323200000,2.0283],[1610409600000,1.8572],[1610496000000,1.8674],[1610582400000,2.225],[1610668800000,2.2636],[1610928000000,1.8505],[1611014400000,1.8793],[1611100800000,2.009],[1611187200000,2.0158],[1611273600000,2.3516],[1611532800000,2.343],[1611619200000,2.1672],[1611705600000,2.2137],[1611792000000,1.6167],[1611878400000,1.5851],[1612137600000,1.5758],[1612224000000,1.5769],[1612310400000,2.6098],[1612396800000,2.528],[1612483200000,1.6871],[1612742400000,1.6562],[1612828800000,1.765],[1612915200000,1.8144],[1613606400000,1.6989],[1613692800000,1.7421],[1613952000000,2.2151],[1614038400000,2.1507],[1614124800000,1.7672],[1614211200000,1.7395],[1614297600000,1.8833],[1614556800000,1.9138],[1614643200000,1.9899],[1614729600000,2.0521],[1614816000000,1.7759],[1614902400000,1.8023],[1615161600000,1.8132],[1615248000000,1.7989],[1615334400000,1.7992],[1615420800000,1.8298],[1615507200000,2.0551],[1615766400000,2.0329],[1615852800000,1.9156],[1615939200000,1.9346],[1616025600000,1.6068],[1616112000000,1.6],[1616371200000,1.9656],[1616457600000,1.9096],[1616544000000,1.9341],[1616630400000,1.9728],[1616716800000,2.0421],[1616976000000,2.0486],[1617062400000,2.1638],[1617148800000,2.1769],[1617235200000,1.9594],[1617321600000,1.9102],[1617667200000,2.0169],[1617753600000,2.127],[1617840000000,2.0636],[1617926400000,2.1003],[1618185600000,1.8732],[1618272000000,1.8363],[1618358400000,1.7553],[1618444800000,1.7252],[1618531200000,1.6933],[1618790400000,1.7127],[1618876800000,1.6946],[1618963200000,1.6912],[1619049600000,1.9166],[1619136000000,1.8912],[1619395200000,2.0173],[1619481600000,2.0161],[1619568000000,1.9832],[1619654400000,1.9461],[1619740800000,1.8883],[1620259200000,1.9123],[1620345600000,1.8518],[1620604800000,1.8503],[1620691200000,1.9433],[1620777600000,1.9058],[1620864000000,2.3753],[1620950400000,2.3607],[1621209600000,2.1581],[1621296000000,2.1912],[1621382400000,2.042],[1621468800000,2.0239],[1621555200000,1.8998],[1621814400000,1.8883],[1621900800000,2.0357],[1621987200000,2.0631],[1622073600000,1.822],[1622160000000,1.8026],[1622419200000,1.5528],[1622505600000,1.531],[1622592000000,1.7397],[1622678400000,1.7495],[1622764800000,2.0138],[1623024000000,2.0303],[1623110400000,2.158],[1623196800000,2.1742],[1623283200000,2.0215],[1623369600000,1.9882],[1623715200000,1.9642],[1623801600000,1.9532],[1623888000000,1.8246],[1623974400000,1.8264],[1624233600000,1.6471],[1624320000000,1.6623],[1624406400000,2.0855],[1624492800000,2.0769],[1624579200000,2.3776],[1624838400000,2.3518],[1624924800000,1.7788],[1625011200000,1.8135],[1625097600000,2.1691],[1625184000000,2.1205],[1625443200000,2.0101],[1625529600000,2.0175],[1625616000000,1.6847],[1625702400000,1.7118],[1625788800000,1.8385],[1626048000000,1.8892],[1626134400000,2.264],[1626220800000,2.2764],[1626307200000,2.2222],[1626393600000,2.2801],[1626652800000,2.2229],[1626739200000,2.2439],[1626825600000,1.8875],[1626912000000,1.9075],[1626998400000,2.2492],[1627257600000,2.2149],[1627344000000,2.1727],[1627430400000,2.1305],[1627516800000,1.5867],[1627603200000,1.6678],[1627862400000,1.9907],[1627948800000,1.9486],[1628035200000,2.3302],[1628121600000,2.2682],[1628208000000,1.7491],[1628467200000,1.8069],[1628553600000,1.7201],[1628640000000,1.7782],[1628726400000,2.1629],[1628812800000,2.2818],[1629072000000,2.0819],[1629158400000,2.0467],[1629244800000,2.1612],[1629331200000,2.1359],[1629417600000,1.7025],[1629676800000,1.6693],[1629763200000,1.8582],[1629849600000,1.8389],[1629936000000,2.021],[1630022400000,2.0538],[1630281600000,2.0063],[1630368000000,1.9314],[1630454400000,2.1268],[1630540800000,2.1134],[1630627200000,2.0712],[1630886400000,2.1182],[1630972800000,1.9657],[1631059200000,2.119],[1631145600000,2.0658],[1631232000000,1.9676],[1631491200000,1.9909],[1631577600000,2.0085],[1631664000000,1.8934],[1631750400000,1.8526],[1631836800000,1.8606],[1632268800000,1.9189],[1632355200000,2.3565],[1632441600000,2.3082],[1632700800000,1.903],[1632787200000,1.9866],[1632873600000,2.0325],[1632960000000,2.0337],[1633651200000,2.2065],[1633910400000,2.1514],[1633996800000,1.8515],[1634083200000,1.8704],[1634169600000,1.5172],[1634256000000,1.5301],[1634515200000,2.0203],[1634601600000,2.1094],[1634688000000,2.1451],[1634774400000,2.1036],[1634860800000,2.1377],[1635120000000,2.0923]],\"color\":\"#E06681\"},{\"name\":\"4\\u5206\\u4f4d\\u6570\",\"yAxis\":0,\"data\":[[1609804800000,null],[1609891200000,2.0299],[1609977600000,1.9919],[1610064000000,2.2408],[1610323200000,2.2684],[1610409600000,2.3949],[1610496000000,2.3746],[1610582400000,2.0852],[1610668800000,2.0054],[1610928000000,1.9736],[1611014400000,2.1023],[1611100800000,2.2343],[1611187200000,2.3482],[1611273600000,2.0462],[1611532800000,1.9009],[1611619200000,1.9273],[1611705600000,2.0029],[1611792000000,2.1863],[1611878400000,2.1373],[1612137600000,1.9456],[1612224000000,1.9693],[1612310400000,1.8371],[1612396800000,1.7705],[1612483200000,2.23],[1612742400000,2.2302],[1612828800000,1.9002],[1612915200000,1.8892],[1613606400000,2.1039],[1613692800000,2.1928],[1613952000000,2.4708],[1614038400000,2.4487],[1614124800000,1.6319],[1614211200000,1.6586],[1614297600000,1.9703],[1614556800000,2.054],[1614643200000,1.998],[1614729600000,2.0613],[1614816000000,2.517],[1614902400000,2.5347],[1615161600000,2.4128],[1615248000000,2.346],[1615334400000,1.7221],[1615420800000,1.8828],[1615507200000,2.3767],[1615766400000,2.3313],[1615852800000,1.9569],[1615939200000,2.1136],[1616025600000,2.1323],[1616112000000,2.123],[1616371200000,1.8173],[1616457600000,1.7899],[1616544000000,2.0008],[1616630400000,1.8701],[1616716800000,1.6565],[1616976000000,1.6586],[1617062400000,1.8363],[1617148800000,1.8484],[1617235200000,2.0359],[1617321600000,2.0158],[1617667200000,1.8404],[1617753600000,1.8237],[1617840000000,2.68],[1617926400000,2.647],[1618185600000,1.7299],[1618272000000,1.7236],[1618358400000,2.0179],[1618444800000,2.0084],[1618531200000,2.0245],[1618790400000,2.0526],[1618876800000,1.8936],[1618963200000,1.9096],[1619049600000,2.0313],[1619136000000,2.0189],[1619395200000,1.9547],[1619481600000,1.9065],[1619568000000,1.9069],[1619654400000,1.905],[1619740800000,1.9107],[1620259200000,1.8966],[1620345600000,1.9301],[1620604800000,1.9189],[1620691200000,1.8869],[1620777600000,1.8825],[1620864000000,1.9486],[1620950400000,1.9625],[1621209600000,2.0045],[1621296000000,2.002],[1621382400000,2.0833],[1621468800000,2.073],[1621555200000,2.0656],[1621814400000,2.0673],[1621900800000,2.0971],[1621987200000,2.1181],[1622073600000,2.056],[1622160000000,2.0537],[1622419200000,2.6802],[1622505600000,2.4959],[1622592000000,2.1499],[1622678400000,2.0989],[1622764800000,1.762],[1623024000000,1.755],[1623110400000,1.939],[1623196800000,1.9209],[1623283200000,2.2116],[1623369600000,2.2373],[1623715200000,2.1212],[1623801600000,2.0633],[1623888000000,2.0401],[1623974400000,2.0832],[1624233600000,1.989],[1624320000000,1.9772],[1624406400000,2.0613],[1624492800000,2.0596],[1624579200000,2.0587],[1624838400000,2.059],[1624924800000,1.9869],[1625011200000,1.9944],[1625097600000,2.1203],[1625184000000,2.0964],[1625443200000,2.1007],[1625529600000,2.0749],[1625616000000,2.1008],[1625702400000,2.0606],[1625788800000,2.2262],[1626048000000,2.3547],[1626134400000,2.0122],[1626220800000,1.9583],[1626307200000,2.2742],[1626393600000,2.2275],[1626652800000,2.5885],[1626739200000,2.6239],[1626825600000,2.213],[1626912000000,2.2369],[1626998400000,2.0204],[1627257600000,2.0168],[1627344000000,2.2292],[1627430400000,2.1832],[1627516800000,2.2902],[1627603200000,2.3262],[1627862400000,2.3593],[1627948800000,2.3196],[1628035200000,1.9776],[1628121600000,1.9035],[1628208000000,2.0838],[1628467200000,2.0992],[1628553600000,2.1899],[1628640000000,2.2578],[1628726400000,2.2461],[1628812800000,2.1755],[1629072000000,2.1062],[1629158400000,2.0867],[1629244800000,2.0518],[1629331200000,2.0594],[1629417600000,2.0277],[1629676800000,2.0625],[1629763200000,2.2401],[1629849600000,2.27],[1629936000000,2.1243],[1630022400000,2.2141],[1630281600000,2.0907],[1630368000000,2.1188],[1630454400000,2.2912],[1630540800000,2.3396],[1630627200000,2.2959],[1630886400000,2.3091],[1630972800000,2.3199],[1631059200000,2.4361],[1631145600000,2.3784],[1631232000000,2.3615],[1631491200000,2.169],[1631577600000,2.1364],[1631664000000,2.2056],[1631750400000,2.2426],[1631836800000,2.073],[1632268800000,2.0856],[1632355200000,2.3053],[1632441600000,2.2322],[1632700800000,2.2021],[1632787200000,2.2391],[1632873600000,2.1867],[1632960000000,2.2027],[1633651200000,2.1597],[1633910400000,2.1373],[1633996800000,2.1001],[1634083200000,2.0866],[1634169600000,2.0263],[1634256000000,1.9863],[1634515200000,2.1108],[1634601600000,2.1354],[1634688000000,1.9865],[1634774400000,1.9699],[1634860800000,2.1906],[1635120000000,2.1944]],\"color\":\"#E2D269\"},{\"name\":\"5\\u5206\\u4f4d\\u6570\",\"yAxis\":0,\"data\":[[1609804800000,null],[1609891200000,2.0439],[1609977600000,2.0414],[1610064000000,2.2364],[1610323200000,2.215],[1610409600000,1.9058],[1610496000000,1.892],[1610582400000,1.9919],[1610668800000,1.9681],[1610928000000,2.0515],[1611014400000,2.0308],[1611100800000,2.0935],[1611187200000,2.123],[1611273600000,2.254],[1611532800000,2.2304],[1611619200000,2.0783],[1611705600000,2.0366],[1611792000000,2.2895],[1611878400000,2.2283],[1612137600000,2.2057],[1612224000000,2.0264],[1612310400000,1.7434],[1612396800000,1.6634],[1612483200000,1.8438],[1612742400000,2.0831],[1612828800000,1.8379],[1612915200000,1.9041],[1613606400000,2.1644],[1613692800000,2.1927],[1613952000000,2.101],[1614038400000,2.0996],[1614124800000,2.0938],[1614211200000,2.0784],[1614297600000,2.1069],[1614556800000,2.2111],[1614643200000,2.0078],[1614729600000,2.0205],[1614816000000,2.1918],[1614902400000,2.1862],[1615161600000,1.8704],[1615248000000,1.7508],[1615334400000,2.2498],[1615420800000,2.2984],[1615507200000,1.8847],[1615766400000,1.9364],[1615852800000,2.4105],[1615939200000,2.386],[1616025600000,2.368],[1616112000000,2.3381],[1616371200000,2.158],[1616457600000,2.0819],[1616544000000,2.042],[1616630400000,2.0575],[1616716800000,1.9721],[1616976000000,1.9663],[1617062400000,1.951],[1617148800000,1.9822],[1617235200000,2.1217],[1617321600000,2.0994],[1617667200000,1.9885],[1617753600000,2.0073],[1617840000000,1.9736],[1617926400000,1.9316],[1618185600000,2.2847],[1618272000000,2.1986],[1618358400000,2.2085],[1618444800000,2.1799],[1618531200000,2.3334],[1618790400000,2.3527],[1618876800000,2.1427],[1618963200000,2.1207],[1619049600000,2.3047],[1619136000000,2.2529],[1619395200000,2.1163],[1619481600000,2.1172],[1619568000000,2.1974],[1619654400000,2.1948],[1619740800000,2.2526],[1620259200000,2.2732],[1620345600000,2.1794],[1620604800000,2.2079],[1620691200000,2.3519],[1620777600000,2.2488],[1620864000000,1.8181],[1620950400000,1.8334],[1621209600000,1.9835],[1621296000000,2.0322],[1621382400000,1.6439],[1621468800000,1.6513],[1621555200000,2.4152],[1621814400000,2.4046],[1621900800000,2.1394],[1621987200000,2.1844],[1622073600000,2.5023],[1622160000000,2.5522],[1622419200000,2.1859],[1622505600000,2.2271],[1622592000000,2.1773],[1622678400000,2.1848],[1622764800000,2.1219],[1623024000000,2.1631],[1623110400000,2.1363],[1623196800000,2.1326],[1623283200000,2.1454],[1623369600000,2.1158],[1623715200000,1.9129],[1623801600000,1.9095],[1623888000000,1.9689],[1623974400000,1.9515],[1624233600000,1.9469],[1624320000000,2.0287],[1624406400000,2.2998],[1624492800000,2.2517],[1624579200000,2.0828],[1624838400000,2.0446],[1624924800000,2.0736],[1625011200000,2.0813],[1625097600000,1.7646],[1625184000000,1.7174],[1625443200000,1.9615],[1625529600000,1.9228],[1625616000000,2.1873],[1625702400000,2.1848],[1625788800000,2.2443],[1626048000000,2.1921],[1626134400000,2.1704],[1626220800000,2.1504],[1626307200000,2.4347],[1626393600000,2.5116],[1626652800000,1.9704],[1626739200000,1.956],[1626825600000,2.3758],[1626912000000,2.3592],[1626998400000,2.418],[1627257600000,2.3761],[1627344000000,2.0754],[1627430400000,2.021],[1627516800000,2.1723],[1627603200000,2.2219],[1627862400000,1.8261],[1627948800000,1.8487],[1628035200000,1.6737],[1628121600000,1.691],[1628208000000,2.4832],[1628467200000,2.3384],[1628553600000,2.3088],[1628640000000,2.4186],[1628726400000,2.5975],[1628812800000,2.6043],[1629072000000,2.1566],[1629158400000,2.0913],[1629244800000,2.2511],[1629331200000,2.229],[1629417600000,2.1044],[1629676800000,2.1028],[1629763200000,2.3493],[1629849600000,2.4115],[1629936000000,2.3683],[1630022400000,2.4224],[1630281600000,1.8669],[1630368000000,1.9139],[1630454400000,2.3987],[1630540800000,2.5276],[1630627200000,2.4537],[1630886400000,2.534],[1630972800000,2.1036],[1631059200000,2.2661],[1631145600000,2.7365],[1631232000000,2.733],[1631491200000,2.6977],[1631577600000,2.6699],[1631664000000,2.5908],[1631750400000,2.5036],[1631836800000,2.4588],[1632268800000,2.6055],[1632355200000,2.549],[1632441600000,2.4789],[1632700800000,2.3809],[1632787200000,2.4247],[1632873600000,1.8131],[1632960000000,1.8097],[1633651200000,2.0539],[1633910400000,2.0379],[1633996800000,2.1972],[1634083200000,2.1622],[1634169600000,2.3854],[1634256000000,2.3388],[1634515200000,2.5128],[1634601600000,2.606],[1634688000000,2.1815],[1634774400000,2.2702],[1634860800000,2.2566],[1635120000000,2.2959]],\"color\":\"#4A8E8E\"},{\"name\":\"\\u6700\\u5c0f\\/\\u6700\\u5927\\u5206\\u4f4d\",\"yAxis\":0,\"data\":[[1609804800000,null],[1609891200000,0.9832],[1609977600000,1.0463],[1610064000000,0.8049],[1610323200000,0.7701],[1610409600000,1.116],[1610496000000,1.0657],[1610582400000,0.9989],[1610668800000,1.0052],[1610928000000,1.0848],[1611014400000,1.1201],[1611100800000,0.866],[1611187200000,0.904],[1611273600000,0.8961],[1611532800000,0.9963],[1611619200000,0.9022],[1611705600000,0.9402],[1611792000000,0.8296],[1611878400000,0.8833],[1612137600000,0.8867],[1612224000000,0.9481],[1612310400000,1.2303],[1612396800000,1.2376],[1612483200000,0.9114],[1612742400000,0.825],[1612828800000,1.0929],[1612915200000,0.982],[1613606400000,1.0588],[1613692800000,1.0722],[1613952000000,0.9041],[1614038400000,0.9071],[1614124800000,1.1191],[1614211200000,1.1126],[1614297600000,1.0689],[1614556800000,1.0844],[1614643200000,1.04],[1614729600000,1.0552],[1614816000000,0.9935],[1614902400000,0.9706],[1615161600000,1.1267],[1615248000000,1.2019],[1615334400000,0.8412],[1615420800000,0.8428],[1615507200000,1.1134],[1615766400000,1.0737],[1615852800000,0.7638],[1615939200000,0.7715],[1616025600000,0.8615],[1616112000000,0.877],[1616371200000,0.8575],[1616457600000,0.872],[1616544000000,1.0618],[1616630400000,1.0381],[1616716800000,1.3074],[1616976000000,1.3013],[1617062400000,0.9158],[1617148800000,0.9066],[1617235200000,0.8446],[1617321600000,0.8357],[1617667200000,1.2302],[1617753600000,1.2328],[1617840000000,1.059],[1617926400000,1.058],[1618185600000,1.106],[1618272000000,1.1365],[1618358400000,1.0364],[1618444800000,1.0309],[1618531200000,0.9932],[1618790400000,1.0143],[1618876800000,1.0309],[1618963200000,1.0276],[1619049600000,0.9724],[1619136000000,1.0058],[1619395200000,0.9768],[1619481600000,0.9734],[1619568000000,0.8699],[1619654400000,0.8635],[1619740800000,0.8559],[1620259200000,0.8658],[1620345600000,0.8718],[1620604800000,0.873],[1620691200000,0.8448],[1620777600000,0.8874],[1620864000000,1.3709],[1620950400000,1.4242],[1621209600000,0.9818],[1621296000000,0.9612],[1621382400000,1.2551],[1621468800000,1.2317],[1621555200000,0.8314],[1621814400000,0.8216],[1621900800000,0.8876],[1621987200000,0.872],[1622073600000,0.8383],[1622160000000,0.8301],[1622419200000,0.9737],[1622505600000,0.9899],[1622592000000,0.944],[1622678400000,0.9328],[1622764800000,0.9804],[1623024000000,0.9639],[1623110400000,1.0253],[1623196800000,1.025],[1623283200000,0.8849],[1623369600000,0.8762],[1623715200000,1.0049],[1623801600000,0.9989],[1623888000000,1.0852],[1623974400000,1.1282],[1624233600000,1.16],[1624320000000,1.1177],[1624406400000,0.7705],[1624492800000,0.7846],[1624579200000,1.0348],[1624838400000,1.0595],[1624924800000,1.0828],[1625011200000,1.1428],[1625097600000,1.1374],[1625184000000,1.2278],[1625443200000,1.0747],[1625529600000,1.1399],[1625616000000,0.942],[1625702400000,0.9191],[1625788800000,0.8947],[1626048000000,0.9172],[1626134400000,0.9928],[1626220800000,0.9937],[1626307200000,0.7348],[1626393600000,0.7408],[1626652800000,0.9959],[1626739200000,0.9934],[1626825600000,0.9734],[1626912000000,0.9935],[1626998400000,0.768],[1627257600000,0.7653],[1627344000000,0.9306],[1627430400000,0.9546],[1627516800000,0.9528],[1627603200000,0.9255],[1627862400000,1.0504],[1627948800000,1.1187],[1628035200000,1.4812],[1628121600000,1.4478],[1628208000000,0.8575],[1628467200000,0.869],[1628553600000,1.099],[1628640000000,1.0719],[1628726400000,0.7381],[1628812800000,0.7318],[1629072000000,0.9011],[1629158400000,0.8849],[1629244800000,0.9878],[1629331200000,0.9571],[1629417600000,1.1289],[1629676800000,1.0823],[1629763200000,0.9593],[1629849600000,0.9394],[1629936000000,0.8472],[1630022400000,0.8457],[1630281600000,1.221],[1630368000000,1.1997],[1630454400000,0.7453],[1630540800000,0.6986],[1630627200000,0.8031],[1630886400000,0.79],[1630972800000,1.1091],[1631059200000,1.0351],[1631145600000,0.8705],[1631232000000,0.8652],[1631491200000,0.9033],[1631577600000,0.9016],[1631664000000,1.1001],[1631750400000,1.1185],[1631836800000,0.9895],[1632268800000,0.9336],[1632355200000,0.926],[1632441600000,0.8913],[1632700800000,1.0193],[1632787200000,0.9744],[1632873600000,1.425],[1632960000000,1.4635],[1633651200000,1.109],[1633910400000,1.1645],[1633996800000,1.1398],[1634083200000,1.1439],[1634169600000,1.2388],[1634256000000,1.2608],[1634515200000,0.8221],[1634601600000,0.8048],[1634688000000,1.055],[1634774400000,1.0227],[1634860800000,0.8393],[1635120000000,0.8094]]}],\"xAxis\":{\"title\":{\"text\":\"date\"},\"type\":\"datetime\"},\"plotOptions\":{\"series\":{\"compare\":\"percent\"}}}/bigcharts-data-end</pre></div><div class=\"type_title_left\"><p>因子拥挤度分析<i class=\"fa fa-question-circle-o\" title=\"衡量因子拥挤度。使用换手率衡量，换手率越高，拥挤度越高。\"></i></p></div><div id=\"bigchart-a30633ac2b524e80a70bbf44c9ac20c0\" class=\"bigchart\"></div><div class=\"bigchart-data\"><pre style=\"display:none\">bigcharts-data-start/{\"chart\":{\"height\":500,\"renderTo\":\"bigchart-a30633ac2b524e80a70bbf44c9ac20c0\"},\"legend\":{\"enabled\":true},\"title\":{\"text\":\"\\u6362\\u624b\\u7387\\u5206\\u6790\"},\"stock\":true,\"series\":[{\"name\":\"1\\u5206\\u4f4d\\u6570\",\"yAxis\":0,\"data\":[[1609804800000,null],[1609891200000,2.4935],[1609977600000,2.6312],[1610064000000,1.9872],[1610323200000,1.7489],[1610409600000,2.3416],[1610496000000,2.4878],[1610582400000,1.8516],[1610668800000,1.4514],[1610928000000,1.5851],[1611014400000,1.5169],[1611100800000,1.7419],[1611187200000,2.0018],[1611273600000,2.1321],[1611532800000,2.3253],[1611619200000,1.7407],[1611705600000,1.7755],[1611792000000,2.1219],[1611878400000,2.0605],[1612137600000,1.5181],[1612224000000,1.3331],[1612310400000,1.6785],[1612396800000,1.5784],[1612483200000,1.3439],[1612742400000,1.2267],[1612828800000,1.3633],[1612915200000,1.263],[1613606400000,1.8562],[1613692800000,1.7413],[1613952000000,3.0167],[1614038400000,2.3955],[1614124800000,2.3144],[1614211200000,2.0411],[1614297600000,1.6533],[1614556800000,1.4781],[1614643200000,2.127],[1614729600000,1.9995],[1614816000000,1.8868],[1614902400000,1.5761],[1615161600000,1.8832],[1615248000000,1.8221],[1615334400000,1.3003],[1615420800000,1.2749],[1615507200000,1.9839],[1615766400000,1.6356],[1615852800000,1.5547],[1615939200000,1.3557],[1616025600000,1.4344],[1616112000000,1.4759],[1616371200000,1.7428],[1616457600000,1.4952],[1616544000000,1.5266],[1616630400000,1.3267],[1616716800000,1.4628],[1616976000000,1.3413],[1617062400000,1.3362],[1617148800000,1.2152],[1617235200000,1.2177],[1617321600000,1.1853],[1617667200000,1.1661],[1617753600000,1.3157],[1617840000000,2.1156],[1617926400000,1.696],[1618185600000,2.171],[1618272000000,1.268],[1618358400000,1.0816],[1618444800000,1.1566],[1618531200000,1.5047],[1618790400000,1.6114],[1618876800000,1.5795],[1618963200000,1.4108],[1619049600000,1.9753],[1619136000000,1.7005],[1619395200000,1.5682],[1619481600000,1.3264],[1619568000000,1.4011],[1619654400000,1.3756],[1619740800000,1.8911],[1620259200000,1.6048],[1620345600000,1.5042],[1620604800000,1.7338],[1620691200000,1.6726],[1620777600000,1.3553],[1620864000000,1.6154],[1620950400000,1.5111],[1621209600000,1.57],[1621296000000,1.1518],[1621382400000,1.9733],[1621468800000,2.309],[1621555200000,1.7659],[1621814400000,1.5718],[1621900800000,1.6531],[1621987200000,1.6393],[1622073600000,2.4445],[1622160000000,2.1973],[1622419200000,2.0098],[1622505600000,1.9271],[1622592000000,1.7392],[1622678400000,1.6358],[1622764800000,1.4659],[1623024000000,1.3206],[1623110400000,1.7572],[1623196800000,1.6429],[1623283200000,1.6583],[1623369600000,1.6462],[1623715200000,1.5304],[1623801600000,1.3238],[1623888000000,1.5734],[1623974400000,1.8195],[1624233600000,1.7495],[1624320000000,1.5947],[1624406400000,1.6515],[1624492800000,1.5135],[1624579200000,1.4487],[1624838400000,1.2499],[1624924800000,1.422],[1625011200000,1.3615],[1625097600000,1.8118],[1625184000000,1.8089],[1625443200000,1.6237],[1625529600000,1.7856],[1625616000000,1.8133],[1625702400000,2.2573],[1625788800000,1.6897],[1626048000000,1.8455],[1626134400000,2.0541],[1626220800000,1.8016],[1626307200000,1.7502],[1626393600000,1.6779],[1626652800000,2.1093],[1626739200000,1.4976],[1626825600000,2.148],[1626912000000,2.1641],[1626998400000,2.2781],[1627257600000,2.0062],[1627344000000,1.7665],[1627430400000,1.6614],[1627516800000,1.5495],[1627603200000,1.5681],[1627862400000,2.236],[1627948800000,2.1606],[1628035200000,2.0432],[1628121600000,1.9979],[1628208000000,1.9732],[1628467200000,1.9497],[1628553600000,1.917],[1628640000000,1.6052],[1628726400000,1.9445],[1628812800000,1.7969],[1629072000000,1.9656],[1629158400000,2.124],[1629244800000,1.5814],[1629331200000,1.8057],[1629417600000,2.2521],[1629676800000,2.1526],[1629763200000,2.0843],[1629849600000,1.8637],[1629936000000,1.9691],[1630022400000,1.9832],[1630281600000,2.8643],[1630368000000,2.6823],[1630454400000,2.5028],[1630540800000,1.9943],[1630627200000,3.2694],[1630886400000,2.8466],[1630972800000,2.3012],[1631059200000,2.0117],[1631145600000,3.1431],[1631232000000,2.9271],[1631491200000,2.6691],[1631577600000,2.5572],[1631664000000,1.9502],[1631750400000,2.3994],[1631836800000,2.1359],[1632268800000,1.5796],[1632355200000,2.4755],[1632441600000,2.1141],[1632700800000,2.7658],[1632787200000,1.704],[1632873600000,1.8766],[1632960000000,1.6285],[1633651200000,2.0094],[1633910400000,1.9133],[1633996800000,1.8012],[1634083200000,1.4032],[1634169600000,1.5536],[1634256000000,1.4813],[1634515200000,1.5813],[1634601600000,1.4604],[1634688000000,1.8754],[1634774400000,1.7619],[1634860800000,1.5018],[1635120000000,1.3474]],\"color\":\"#F08B55\"},{\"name\":\"2\\u5206\\u4f4d\\u6570\",\"yAxis\":0,\"data\":[[1609804800000,null],[1609891200000,1.6419],[1609977600000,1.867],[1610064000000,2.1579],[1610323200000,2.3371],[1610409600000,1.8905],[1610496000000,2.3118],[1610582400000,2.0985],[1610668800000,2.0183],[1610928000000,1.8884],[1611014400000,1.9645],[1611100800000,1.644],[1611187200000,1.7083],[1611273600000,1.685],[1611532800000,1.7165],[1611619200000,1.9146],[1611705600000,1.7888],[1611792000000,1.5877],[1611878400000,1.646],[1612137600000,1.6141],[1612224000000,1.6423],[1612310400000,1.4937],[1612396800000,1.5287],[1612483200000,1.3281],[1612742400000,1.3863],[1612828800000,1.2102],[1612915200000,1.2567],[1613606400000,1.6726],[1613692800000,1.7533],[1613952000000,2.2041],[1614038400000,1.6758],[1614124800000,1.8138],[1614211200000,1.7722],[1614297600000,1.665],[1614556800000,1.6866],[1614643200000,1.6283],[1614729600000,1.7138],[1614816000000,1.8052],[1614902400000,1.7914],[1615161600000,1.6755],[1615248000000,1.776],[1615334400000,1.2606],[1615420800000,1.3225],[1615507200000,1.6086],[1615766400000,1.547],[1615852800000,1.2836],[1615939200000,1.1421],[1616025600000,1.4596],[1616112000000,1.3679],[1616371200000,1.6523],[1616457600000,1.6953],[1616544000000,1.1855],[1616630400000,0.9993],[1616716800000,1.5848],[1616976000000,1.7663],[1617062400000,1.0064],[1617148800000,1.0213],[1617235200000,1.268],[1617321600000,1.4644],[1617667200000,1.133],[1617753600000,1.5429],[1617840000000,1.4976],[1617926400000,1.2186],[1618185600000,1.5508],[1618272000000,1.3104],[1618358400000,1.0905],[1618444800000,1.2038],[1618531200000,1.1198],[1618790400000,1.3011],[1618876800000,1.4204],[1618963200000,1.1275],[1619049600000,1.0022],[1619136000000,1.0419],[1619395200000,1.4084],[1619481600000,1.2563],[1619568000000,1.5237],[1619654400000,1.7732],[1619740800000,1.5095],[1620259200000,1.3786],[1620345600000,2.0358],[1620604800000,1.9893],[1620691200000,1.4831],[1620777600000,1.1649],[1620864000000,1.2316],[1620950400000,1.3655],[1621209600000,1.4654],[1621296000000,1.2606],[1621382400000,1.4887],[1621468800000,1.6564],[1621555200000,1.4162],[1621814400000,1.3134],[1621900800000,1.9177],[1621987200000,2.3526],[1622073600000,1.3576],[1622160000000,1.5661],[1622419200000,1.388],[1622505600000,1.4759],[1622592000000,1.4629],[1622678400000,1.4302],[1622764800000,1.4663],[1623024000000,1.5335],[1623110400000,1.4304],[1623196800000,1.3431],[1623283200000,1.758],[1623369600000,2.1438],[1623715200000,1.369],[1623801600000,1.1872],[1623888000000,1.5332],[1623974400000,1.7455],[1624233600000,1.5384],[1624320000000,1.5377],[1624406400000,1.6092],[1624492800000,1.5692],[1624579200000,1.9034],[1624838400000,2.0285],[1624924800000,1.762],[1625011200000,1.6848],[1625097600000,1.6567],[1625184000000,1.5114],[1625443200000,1.3453],[1625529600000,1.5312],[1625616000000,1.6214],[1625702400000,2.0663],[1625788800000,1.3985],[1626048000000,1.9288],[1626134400000,1.5485],[1626220800000,1.4734],[1626307200000,1.7061],[1626393600000,1.6734],[1626652800000,1.5953],[1626739200000,1.5245],[1626825600000,1.4246],[1626912000000,1.8043],[1626998400000,1.688],[1627257600000,1.9003],[1627344000000,2.1108],[1627430400000,1.8342],[1627516800000,2.0635],[1627603200000,2.0599],[1627862400000,2.462],[1627948800000,2.3724],[1628035200000,2.0058],[1628121600000,1.8749],[1628208000000,1.7268],[1628467200000,1.8037],[1628553600000,1.586],[1628640000000,1.7405],[1628726400000,1.5157],[1628812800000,1.4291],[1629072000000,1.6365],[1629158400000,1.8852],[1629244800000,1.3421],[1629331200000,1.2182],[1629417600000,1.7872],[1629676800000,1.967],[1629763200000,1.7826],[1629849600000,1.8705],[1629936000000,2.1431],[1630022400000,2.0605],[1630281600000,2.3935],[1630368000000,2.5144],[1630454400000,2.4273],[1630540800000,2.3262],[1630627200000,2.0508],[1630886400000,1.9922],[1630972800000,2.1145],[1631059200000,2.5484],[1631145600000,2.4325],[1631232000000,2.6036],[1631491200000,1.6958],[1631577600000,1.7727],[1631664000000,1.928],[1631750400000,2.4278],[1631836800000,1.8692],[1632268800000,1.6144],[1632355200000,1.6503],[1632441600000,1.8914],[1632700800000,1.8236],[1632787200000,1.4491],[1632873600000,1.552],[1632960000000,1.39],[1633651200000,1.5118],[1633910400000,1.4984],[1633996800000,1.312],[1634083200000,0.9369],[1634169600000,1.4246],[1634256000000,1.5673],[1634515200000,1.5193],[1634601600000,1.4352],[1634688000000,1.4697],[1634774400000,1.4425],[1634860800000,1.34],[1635120000000,1.2272]],\"color\":\"#648FD5\"},{\"name\":\"3\\u5206\\u4f4d\\u6570\",\"yAxis\":0,\"data\":[[1609804800000,null],[1609891200000,1.9001],[1609977600000,2.2365],[1610064000000,1.786],[1610323200000,2.0658],[1610409600000,1.9537],[1610496000000,2.043],[1610582400000,1.8872],[1610668800000,1.6351],[1610928000000,1.446],[1611014400000,1.7166],[1611100800000,1.3144],[1611187200000,1.8173],[1611273600000,1.8579],[1611532800000,2.0407],[1611619200000,1.4041],[1611705600000,1.3812],[1611792000000,1.377],[1611878400000,1.4542],[1612137600000,1.5097],[1612224000000,1.4914],[1612310400000,2.0006],[1612396800000,2.0378],[1612483200000,1.4485],[1612742400000,1.2993],[1612828800000,1.3565],[1612915200000,1.3532],[1613606400000,1.8411],[1613692800000,1.9476],[1613952000000,2.2476],[1614038400000,1.7287],[1614124800000,1.8147],[1614211200000,1.7063],[1614297600000,1.6162],[1614556800000,1.6856],[1614643200000,1.3423],[1614729600000,1.2559],[1614816000000,1.7975],[1614902400000,1.6537],[1615161600000,1.7458],[1615248000000,1.8669],[1615334400000,1.3641],[1615420800000,1.5541],[1615507200000,1.4153],[1615766400000,1.3832],[1615852800000,1.3279],[1615939200000,1.1575],[1616025600000,1.3871],[1616112000000,1.4828],[1616371200000,1.3777],[1616457600000,1.3956],[1616544000000,1.2959],[1616630400000,1.2057],[1616716800000,1.1044],[1616976000000,1.2368],[1617062400000,1.6447],[1617148800000,1.4412],[1617235200000,1.1435],[1617321600000,1.6196],[1617667200000,1.2693],[1617753600000,1.6387],[1617840000000,1.278],[1617926400000,1.0712],[1618185600000,1.4402],[1618272000000,1.2572],[1618358400000,1.048],[1618444800000,1.1561],[1618531200000,1.5634],[1618790400000,1.6536],[1618876800000,1.4314],[1618963200000,1.1774],[1619049600000,1.3741],[1619136000000,1.4243],[1619395200000,1.6378],[1619481600000,1.309],[1619568000000,1.0861],[1619654400000,1.2432],[1619740800000,1.3286],[1620259200000,1.2702],[1620345600000,1.2916],[1620604800000,1.4583],[1620691200000,1.3464],[1620777600000,1.1418],[1620864000000,1.5797],[1620950400000,1.6104],[1621209600000,1.6402],[1621296000000,1.4753],[1621382400000,1.3623],[1621468800000,1.7278],[1621555200000,1.0104],[1621814400000,0.982],[1621900800000,1.2214],[1621987200000,1.3639],[1622073600000,1.519],[1622160000000,1.5856],[1622419200000,1.3838],[1622505600000,1.4805],[1622592000000,1.4677],[1622678400000,1.4342],[1622764800000,1.552],[1623024000000,1.6492],[1623110400000,1.3775],[1623196800000,1.4151],[1623283200000,1.3175],[1623369600000,1.6376],[1623715200000,1.3808],[1623801600000,1.2661],[1623888000000,1.3128],[1623974400000,1.3113],[1624233600000,1.5064],[1624320000000,1.4514],[1624406400000,1.4963],[1624492800000,1.3424],[1624579200000,1.3457],[1624838400000,1.4699],[1624924800000,1.6318],[1625011200000,1.5956],[1625097600000,1.5739],[1625184000000,1.5593],[1625443200000,1.3697],[1625529600000,1.621],[1625616000000,1.1329],[1625702400000,1.5318],[1625788800000,1.4998],[1626048000000,1.9606],[1626134400000,1.7003],[1626220800000,1.6511],[1626307200000,2.0915],[1626393600000,2.3197],[1626652800000,1.8661],[1626739200000,1.5879],[1626825600000,1.4895],[1626912000000,1.58],[1626998400000,1.9279],[1627257600000,2.0267],[1627344000000,2.3747],[1627430400000,2.0918],[1627516800000,1.4809],[1627603200000,1.6193],[1627862400000,2.0015],[1627948800000,2.019],[1628035200000,1.5913],[1628121600000,1.9542],[1628208000000,1.5467],[1628467200000,1.6363],[1628553600000,1.9327],[1628640000000,1.9779],[1628726400000,1.8526],[1628812800000,1.8986],[1629072000000,1.7074],[1629158400000,2.0474],[1629244800000,1.876],[1629331200000,1.7217],[1629417600000,1.4795],[1629676800000,1.504],[1629763200000,1.8266],[1629849600000,1.5636],[1629936000000,2.3616],[1630022400000,2.3436],[1630281600000,1.9845],[1630368000000,1.9024],[1630454400000,2.5934],[1630540800000,2.1504],[1630627200000,2.214],[1630886400000,2.0588],[1630972800000,2.1703],[1631059200000,2.6377],[1631145600000,2.5983],[1631232000000,2.7868],[1631491200000,2.3511],[1631577600000,2.4163],[1631664000000,1.6928],[1631750400000,2.0428],[1631836800000,2.3513],[1632268800000,1.8628],[1632355200000,2.2026],[1632441600000,1.9662],[1632700800000,1.8441],[1632787200000,1.5403],[1632873600000,1.5714],[1632960000000,1.3223],[1633651200000,1.7453],[1633910400000,1.7767],[1633996800000,1.4432],[1634083200000,1.3709],[1634169600000,1.0071],[1634256000000,1.3083],[1634515200000,1.7289],[1634601600000,1.6565],[1634688000000,1.5784],[1634774400000,1.596],[1634860800000,1.8889],[1635120000000,1.642]],\"color\":\"#E06681\"},{\"name\":\"4\\u5206\\u4f4d\\u6570\",\"yAxis\":0,\"data\":[[1609804800000,null],[1609891200000,2.2458],[1609977600000,2.4996],[1610064000000,1.9212],[1610323200000,2.2337],[1610409600000,1.7599],[1610496000000,2.1881],[1610582400000,1.8333],[1610668800000,1.5664],[1610928000000,1.7279],[1611014400000,1.9232],[1611100800000,1.4656],[1611187200000,1.7777],[1611273600000,1.7296],[1611532800000,1.8099],[1611619200000,1.8038],[1611705600000,1.7452],[1611792000000,1.8741],[1611878400000,2.0341],[1612137600000,1.3704],[1612224000000,1.4972],[1612310400000,1.6674],[1612396800000,1.7863],[1612483200000,1.7636],[1612742400000,1.5275],[1612828800000,1.4003],[1612915200000,1.3982],[1613606400000,1.7732],[1613692800000,1.8465],[1613952000000,2.1784],[1614038400000,1.6748],[1614124800000,1.6948],[1614211200000,1.7238],[1614297600000,1.7162],[1614556800000,1.6163],[1614643200000,1.6009],[1614729600000,1.7788],[1614816000000,1.652],[1614902400000,1.5253],[1615161600000,1.6253],[1615248000000,1.7268],[1615334400000,1.5145],[1615420800000,1.5906],[1615507200000,1.3328],[1615766400000,1.2565],[1615852800000,1.7931],[1615939200000,1.7767],[1616025600000,1.5278],[1616112000000,1.7776],[1616371200000,1.1181],[1616457600000,1.1771],[1616544000000,1.5134],[1616630400000,1.3457],[1616716800000,1.3251],[1616976000000,1.5705],[1617062400000,1.3797],[1617148800000,1.4754],[1617235200000,1.2337],[1617321600000,1.2091],[1617667200000,1.3747],[1617753600000,1.5809],[1617840000000,1.7102],[1617926400000,1.4382],[1618185600000,1.4294],[1618272000000,1.2506],[1618358400000,1.235],[1618444800000,1.2423],[1618531200000,1.2545],[1618790400000,1.4984],[1618876800000,1.2999],[1618963200000,1.2416],[1619049600000,1.2378],[1619136000000,1.326],[1619395200000,1.9017],[1619481600000,1.6834],[1619568000000,1.3501],[1619654400000,1.5211],[1619740800000,1.721],[1620259200000,1.8415],[1620345600000,1.3316],[1620604800000,1.4523],[1620691200000,1.356],[1620777600000,1.1805],[1620864000000,1.6745],[1620950400000,1.687],[1621209600000,1.7098],[1621296000000,1.3663],[1621382400000,1.2527],[1621468800000,1.4914],[1621555200000,1.2355],[1621814400000,2.0556],[1621900800000,1.59],[1621987200000,1.763],[1622073600000,1.4496],[1622160000000,1.5723],[1622419200000,1.822],[1622505600000,2.0218],[1622592000000,1.7299],[1622678400000,1.8651],[1622764800000,1.6268],[1623024000000,1.5497],[1623110400000,1.4179],[1623196800000,1.2432],[1623283200000,1.7139],[1623369600000,1.9374],[1623715200000,1.8745],[1623801600000,1.7193],[1623888000000,1.0911],[1623974400000,1.3125],[1624233600000,1.3386],[1624320000000,1.3524],[1624406400000,1.9465],[1624492800000,1.7275],[1624579200000,1.6607],[1624838400000,1.6005],[1624924800000,1.2875],[1625011200000,1.2039],[1625097600000,1.5584],[1625184000000,1.4786],[1625443200000,1.5491],[1625529600000,1.6811],[1625616000000,1.5648],[1625702400000,1.7546],[1625788800000,1.7516],[1626048000000,2.2179],[1626134400000,1.93],[1626220800000,1.9834],[1626307200000,1.7241],[1626393600000,2.0258],[1626652800000,1.6288],[1626739200000,1.3917],[1626825600000,2.0089],[1626912000000,2.1772],[1626998400000,2.3847],[1627257600000,2.3274],[1627344000000,2.2811],[1627430400000,2.1642],[1627516800000,2.0224],[1627603200000,2.3807],[1627862400000,2.2347],[1627948800000,2.1105],[1628035200000,1.8405],[1628121600000,2.0326],[1628208000000,2.0046],[1628467200000,2.1685],[1628553600000,1.9149],[1628640000000,2.1705],[1628726400000,2.0968],[1628812800000,1.9577],[1629072000000,1.4511],[1629158400000,1.6788],[1629244800000,1.9209],[1629331200000,1.9622],[1629417600000,1.7626],[1629676800000,2.1511],[1629763200000,1.9519],[1629849600000,2.0257],[1629936000000,2.018],[1630022400000,1.8788],[1630281600000,2.7223],[1630368000000,2.5821],[1630454400000,2.7251],[1630540800000,2.5362],[1630627200000,2.6453],[1630886400000,2.3094],[1630972800000,2.5376],[1631059200000,2.6814],[1631145600000,2.124],[1631232000000,2.3598],[1631491200000,2.4007],[1631577600000,2.3957],[1631664000000,1.8663],[1631750400000,2.3442],[1631836800000,1.6821],[1632268800000,1.4968],[1632355200000,1.761],[1632441600000,1.8151],[1632700800000,1.898],[1632787200000,1.4889],[1632873600000,1.5692],[1632960000000,1.3545],[1633651200000,1.434],[1633910400000,1.4031],[1633996800000,1.7016],[1634083200000,1.6445],[1634169600000,1.4579],[1634256000000,1.5708],[1634515200000,1.3298],[1634601600000,1.3598],[1634688000000,1.3244],[1634774400000,1.3635],[1634860800000,1.6841],[1635120000000,1.6827]],\"color\":\"#E2D269\"},{\"name\":\"5\\u5206\\u4f4d\\u6570\",\"yAxis\":0,\"data\":[[1609804800000,null],[1609891200000,1.5988],[1609977600000,1.6593],[1610064000000,1.9494],[1610323200000,2.3441],[1610409600000,1.5323],[1610496000000,1.7745],[1610582400000,1.9719],[1610668800000,1.6814],[1610928000000,1.6166],[1611014400000,1.8956],[1611100800000,1.2043],[1611187200000,1.6545],[1611273600000,1.7588],[1611532800000,1.7917],[1611619200000,1.6277],[1611705600000,1.4937],[1611792000000,1.3844],[1611878400000,1.418],[1612137600000,1.6603],[1612224000000,1.9913],[1612310400000,1.4947],[1612396800000,1.4806],[1612483200000,1.7839],[1612742400000,1.6447],[1612828800000,1.6159],[1612915200000,1.6211],[1613606400000,1.9382],[1613692800000,1.927],[1613952000000,2.5436],[1614038400000,1.9836],[1614124800000,1.5492],[1614211200000,1.4164],[1614297600000,1.6125],[1614556800000,1.5859],[1614643200000,1.5506],[1614729600000,1.4164],[1614816000000,1.7641],[1614902400000,1.5636],[1615161600000,1.7748],[1615248000000,1.862],[1615334400000,1.4295],[1615420800000,1.3989],[1615507200000,1.4532],[1615766400000,1.4841],[1615852800000,1.4459],[1615939200000,1.4424],[1616025600000,1.3893],[1616112000000,1.4549],[1616371200000,1.5257],[1616457600000,1.6961],[1616544000000,1.473],[1616630400000,1.2419],[1616716800000,1.0877],[1616976000000,1.1635],[1617062400000,1.4574],[1617148800000,1.2693],[1617235200000,1.2402],[1617321600000,1.2723],[1617667200000,1.0743],[1617753600000,1.2859],[1617840000000,1.2419],[1617926400000,1.0654],[1618185600000,1.2381],[1618272000000,1.0295],[1618358400000,1.0736],[1618444800000,1.0438],[1618531200000,1.1982],[1618790400000,1.4976],[1618876800000,1.7326],[1618963200000,1.5037],[1619049600000,1.1921],[1619136000000,1.2808],[1619395200000,1.3705],[1619481600000,1.1412],[1619568000000,1.2117],[1619654400000,1.2314],[1619740800000,1.3655],[1620259200000,1.4157],[1620345600000,1.6444],[1620604800000,1.5292],[1620691200000,2.132],[1620777600000,2.0572],[1620864000000,1.3298],[1620950400000,1.331],[1621209600000,1.7394],[1621296000000,1.5532],[1621382400000,0.8982],[1621468800000,1.2294],[1621555200000,1.5581],[1621814400000,1.7392],[1621900800000,1.5806],[1621987200000,1.6057],[1622073600000,1.4046],[1622160000000,1.6749],[1622419200000,1.6701],[1622505600000,1.6908],[1622592000000,1.8076],[1622678400000,1.6671],[1622764800000,1.4691],[1623024000000,1.6852],[1623110400000,1.7381],[1623196800000,1.5324],[1623283200000,1.8278],[1623369600000,2.0368],[1623715200000,1.7229],[1623801600000,1.7111],[1623888000000,1.1835],[1623974400000,1.3652],[1624233600000,1.7382],[1624320000000,1.8002],[1624406400000,1.9288],[1624492800000,1.8348],[1624579200000,1.3666],[1624838400000,1.3211],[1624924800000,1.2004],[1625011200000,1.2328],[1625097600000,1.1723],[1625184000000,1.169],[1625443200000,1.5921],[1625529600000,1.7627],[1625616000000,1.2986],[1625702400000,1.5021],[1625788800000,1.6416],[1626048000000,1.9795],[1626134400000,2.0417],[1626220800000,2.0065],[1626307200000,1.8009],[1626393600000,1.9372],[1626652800000,1.7034],[1626739200000,1.507],[1626825600000,1.4291],[1626912000000,1.5992],[1626998400000,2.2381],[1627257600000,2.0831],[1627344000000,2.194],[1627430400000,2.1009],[1627516800000,2.1076],[1627603200000,2.3757],[1627862400000,1.9272],[1627948800000,1.8424],[1628035200000,1.3277],[1628121600000,1.3095],[1628208000000,1.3301],[1628467200000,1.4199],[1628553600000,1.7583],[1628640000000,1.8818],[1628726400000,1.7593],[1628812800000,1.9366],[1629072000000,2.1821],[1629158400000,2.1463],[1629244800000,1.9323],[1629331200000,1.9992],[1629417600000,1.4378],[1629676800000,1.5138],[1629763200000,1.7734],[1629849600000,2.014],[1629936000000,1.7705],[1630022400000,1.9389],[1630281600000,1.8241],[1630368000000,1.8632],[1630454400000,2.4968],[1630540800000,2.112],[1630627200000,2.027],[1630886400000,1.776],[1630972800000,2.3317],[1631059200000,2.8255],[1631145600000,1.9565],[1631232000000,2.1315],[1631491200000,2.3806],[1631577600000,2.5814],[1631664000000,2.0262],[1631750400000,2.4039],[1631836800000,1.9281],[1632268800000,1.8117],[1632355200000,1.6116],[1632441600000,1.7803],[1632700800000,1.9386],[1632787200000,1.4521],[1632873600000,1.5592],[1632960000000,1.2502],[1633651200000,1.2138],[1633910400000,1.1832],[1633996800000,1.9411],[1634083200000,1.3131],[1634169600000,1.0936],[1634256000000,1.3538],[1634515200000,1.4989],[1634601600000,1.5001],[1634688000000,1.4675],[1634774400000,1.4176],[1634860800000,1.55],[1635120000000,1.6124]],\"color\":\"#4A8E8E\"},{\"name\":\"\\u6700\\u5c0f\\/\\u6700\\u5927\\u5206\\u4f4d\",\"yAxis\":0,\"data\":[[1609804800000,null],[1609891200000,1.5596],[1609977600000,1.5857],[1610064000000,1.0194],[1610323200000,0.7461],[1610409600000,1.5282],[1610496000000,1.402],[1610582400000,0.939],[1610668800000,0.8632],[1610928000000,0.9805],[1611014400000,0.8002],[1611100800000,1.4464],[1611187200000,1.2099],[1611273600000,1.2123],[1611532800000,1.2978],[1611619200000,1.0694],[1611705600000,1.1887],[1611792000000,1.5327],[1611878400000,1.4531],[1612137600000,0.9143],[1612224000000,0.6695],[1612310400000,1.123],[1612396800000,1.066],[1612483200000,0.7533],[1612742400000,0.7458],[1612828800000,0.8437],[1612915200000,0.7791],[1613606400000,0.9577],[1613692800000,0.9036],[1613952000000,1.186],[1614038400000,1.2076],[1614124800000,1.4939],[1614211200000,1.441],[1614297600000,1.0253],[1614556800000,0.932],[1614643200000,1.3717],[1614729600000,1.4117],[1614816000000,1.0695],[1614902400000,1.008],[1615161600000,1.061],[1615248000000,0.9786],[1615334400000,0.9096],[1615420800000,0.9114],[1615507200000,1.3652],[1615766400000,1.1021],[1615852800000,1.0752],[1615939200000,0.9399],[1616025600000,1.0324],[1616112000000,1.0144],[1616371200000,1.1423],[1616457600000,0.8815],[1616544000000,1.0364],[1616630400000,1.0682],[1616716800000,1.3449],[1616976000000,1.1528],[1617062400000,0.9168],[1617148800000,0.9574],[1617235200000,0.9818],[1617321600000,0.9316],[1617667200000,1.0855],[1617753600000,1.0232],[1617840000000,1.7035],[1617926400000,1.592],[1618185600000,1.7534],[1618272000000,1.2317],[1618358400000,1.0075],[1618444800000,1.108],[1618531200000,1.2557],[1618790400000,1.076],[1618876800000,0.9116],[1618963200000,0.9382],[1619049600000,1.657],[1619136000000,1.3276],[1619395200000,1.1442],[1619481600000,1.1624],[1619568000000,1.1564],[1619654400000,1.1171],[1619740800000,1.385],[1620259200000,1.1336],[1620345600000,0.9148],[1620604800000,1.1338],[1620691200000,0.7845],[1620777600000,0.6588],[1620864000000,1.2148],[1620950400000,1.1353],[1621209600000,0.9026],[1621296000000,0.7416],[1621382400000,2.197],[1621468800000,1.8782],[1621555200000,1.1334],[1621814400000,0.9038],[1621900800000,1.0459],[1621987200000,1.0209],[1622073600000,1.7403],[1622160000000,1.3119],[1622419200000,1.2034],[1622505600000,1.1398],[1622592000000,0.9621],[1622678400000,0.9812],[1622764800000,0.9979],[1623024000000,0.7836],[1623110400000,1.011],[1623196800000,1.0721],[1623283200000,0.9072],[1623369600000,0.8082],[1623715200000,0.8882],[1623801600000,0.7737],[1623888000000,1.3294],[1623974400000,1.3328],[1624233600000,1.0065],[1624320000000,0.8859],[1624406400000,0.8563],[1624492800000,0.8249],[1624579200000,1.0601],[1624838400000,0.9461],[1624924800000,1.1846],[1625011200000,1.1044],[1625097600000,1.5455],[1625184000000,1.5474],[1625443200000,1.0198],[1625529600000,1.013],[1625616000000,1.3964],[1625702400000,1.5027],[1625788800000,1.0293],[1626048000000,0.9323],[1626134400000,1.0061],[1626220800000,0.8979],[1626307200000,0.9718],[1626393600000,0.8661],[1626652800000,1.2383],[1626739200000,0.9938],[1626825600000,1.503],[1626912000000,1.3532],[1626998400000,1.0179],[1627257600000,0.9631],[1627344000000,0.8051],[1627430400000,0.7908],[1627516800000,0.7352],[1627603200000,0.6601],[1627862400000,1.1602],[1627948800000,1.1727],[1628035200000,1.5388],[1628121600000,1.5257],[1628208000000,1.4835],[1628467200000,1.3732],[1628553600000,1.0903],[1628640000000,0.853],[1628726400000,1.1053],[1628812800000,0.9278],[1629072000000,0.9008],[1629158400000,0.9896],[1629244800000,0.8184],[1629331200000,0.9032],[1629417600000,1.5663],[1629676800000,1.422],[1629763200000,1.1753],[1629849600000,0.9254],[1629936000000,1.1122],[1630022400000,1.0228],[1630281600000,1.5702],[1630368000000,1.4396],[1630454400000,1.0024],[1630540800000,0.9442],[1630627200000,1.6129],[1630886400000,1.6028],[1630972800000,0.9869],[1631059200000,0.712],[1631145600000,1.6065],[1631232000000,1.3733],[1631491200000,1.1212],[1631577600000,0.9906],[1631664000000,0.9625],[1631750400000,0.9982],[1631836800000,1.1078],[1632268800000,0.8719],[1632355200000,1.536],[1632441600000,1.1876],[1632700800000,1.4267],[1632787200000,1.1734],[1632873600000,1.2036],[1632960000000,1.3026],[1633651200000,1.6556],[1633910400000,1.617],[1633996800000,0.9279],[1634083200000,1.0686],[1634169600000,1.4207],[1634256000000,1.0941],[1634515200000,1.055],[1634601600000,0.9735],[1634688000000,1.2779],[1634774400000,1.2428],[1634860800000,0.9689],[1635120000000,0.8356]]}],\"xAxis\":{\"title\":{\"text\":\"date\"},\"type\":\"datetime\"},\"plotOptions\":{\"series\":{\"compare\":\"percent\"}}}/bigcharts-data-end</pre></div><div class=\"cols\">\n",
       "            \n",
       "                \n",
       "                <div class=\"col\"><div class=\"type_title_left\"><p>因子值最小的20只股票 <span>(2021-10-25)</span></p></div>\n",
       "        <div class=\"factorlens-stocks-wrapper\">\n",
       "            <table class=\"factor_table stocks\">\n",
       "                <thead>\n",
       "                    <tr>\n",
       "                        <th>股票名称</th>\n",
       "                        <th>股票代码</th>\n",
       "                        <th>因子值</th>\n",
       "                    </tr>\n",
       "                </thead>\n",
       "                <tbody>\n",
       "            <tr>\n",
       "                <td>四川路桥</td>\n",
       "                <td>600039.SHA</td>\n",
       "                <td>-1.9496</td>\n",
       "            </tr>\n",
       "            \n",
       "            <tr>\n",
       "                <td>普洛药业</td>\n",
       "                <td>000739.SZA</td>\n",
       "                <td>-1.9315</td>\n",
       "            </tr>\n",
       "            \n",
       "            <tr>\n",
       "                <td>海澜之家</td>\n",
       "                <td>600398.SHA</td>\n",
       "                <td>-1.6228</td>\n",
       "            </tr>\n",
       "            \n",
       "            <tr>\n",
       "                <td>盈峰环境</td>\n",
       "                <td>000967.SZA</td>\n",
       "                <td>-1.6111</td>\n",
       "            </tr>\n",
       "            \n",
       "            <tr>\n",
       "                <td>东北证券</td>\n",
       "                <td>000686.SZA</td>\n",
       "                <td>-1.6032</td>\n",
       "            </tr>\n",
       "            \n",
       "            <tr>\n",
       "                <td>兆驰股份</td>\n",
       "                <td>002429.SZA</td>\n",
       "                <td>-1.5395</td>\n",
       "            </tr>\n",
       "            \n",
       "            <tr>\n",
       "                <td>迪安诊断</td>\n",
       "                <td>300244.SZA</td>\n",
       "                <td>-1.5372</td>\n",
       "            </tr>\n",
       "            \n",
       "            <tr>\n",
       "                <td>中航重机</td>\n",
       "                <td>600765.SHA</td>\n",
       "                <td>-1.5135</td>\n",
       "            </tr>\n",
       "            \n",
       "            <tr>\n",
       "                <td>豪迈科技</td>\n",
       "                <td>002595.SZA</td>\n",
       "                <td>-1.4781</td>\n",
       "            </tr>\n",
       "            \n",
       "            <tr>\n",
       "                <td>开山股份</td>\n",
       "                <td>300257.SZA</td>\n",
       "                <td>-1.4775</td>\n",
       "            </tr>\n",
       "            \n",
       "            <tr>\n",
       "                <td>西部建设</td>\n",
       "                <td>002302.SZA</td>\n",
       "                <td>-1.4541</td>\n",
       "            </tr>\n",
       "            \n",
       "            <tr>\n",
       "                <td>鱼跃医疗</td>\n",
       "                <td>002223.SZA</td>\n",
       "                <td>-1.4335</td>\n",
       "            </tr>\n",
       "            \n",
       "            <tr>\n",
       "                <td>亚厦股份</td>\n",
       "                <td>002375.SZA</td>\n",
       "                <td>-1.4286</td>\n",
       "            </tr>\n",
       "            \n",
       "            <tr>\n",
       "                <td>卫宁健康</td>\n",
       "                <td>300253.SZA</td>\n",
       "                <td>-1.4223</td>\n",
       "            </tr>\n",
       "            \n",
       "            <tr>\n",
       "                <td>天赐材料</td>\n",
       "                <td>002709.SZA</td>\n",
       "                <td>-1.3895</td>\n",
       "            </tr>\n",
       "            \n",
       "            <tr>\n",
       "                <td>国盛金控</td>\n",
       "                <td>002670.SZA</td>\n",
       "                <td>-1.3794</td>\n",
       "            </tr>\n",
       "            \n",
       "            <tr>\n",
       "                <td>易事特</td>\n",
       "                <td>300376.SZA</td>\n",
       "                <td>-1.3538</td>\n",
       "            </tr>\n",
       "            \n",
       "            <tr>\n",
       "                <td>广电运通</td>\n",
       "                <td>002152.SZA</td>\n",
       "                <td>-1.3505</td>\n",
       "            </tr>\n",
       "            \n",
       "            <tr>\n",
       "                <td>科博达</td>\n",
       "                <td>603786.SHA</td>\n",
       "                <td>-1.3419</td>\n",
       "            </tr>\n",
       "            \n",
       "            <tr>\n",
       "                <td>生物股份</td>\n",
       "                <td>600201.SHA</td>\n",
       "                <td>-1.3409</td>\n",
       "            </tr>\n",
       "            \n",
       "                </tbody>\n",
       "            </table>\n",
       "        </div>\n",
       "        </div>\n",
       "                \n",
       "            \n",
       "                \n",
       "                <div class=\"col\"><div class=\"type_title_left\"><p>因子值最大的20只股票 <span>(2021-10-25)</span></p></div>\n",
       "        <div class=\"factorlens-stocks-wrapper\">\n",
       "            <table class=\"factor_table stocks\">\n",
       "                <thead>\n",
       "                    <tr>\n",
       "                        <th>股票名称</th>\n",
       "                        <th>股票代码</th>\n",
       "                        <th>因子值</th>\n",
       "                    </tr>\n",
       "                </thead>\n",
       "                <tbody>\n",
       "            <tr>\n",
       "                <td>辽港股份</td>\n",
       "                <td>601880.SHA</td>\n",
       "                <td>-0.6975</td>\n",
       "            </tr>\n",
       "            \n",
       "            <tr>\n",
       "                <td>华工科技</td>\n",
       "                <td>000988.SZA</td>\n",
       "                <td>-0.6958</td>\n",
       "            </tr>\n",
       "            \n",
       "            <tr>\n",
       "                <td>华新水泥</td>\n",
       "                <td>600801.SHA</td>\n",
       "                <td>-0.6946</td>\n",
       "            </tr>\n",
       "            \n",
       "            <tr>\n",
       "                <td>鞍钢股份</td>\n",
       "                <td>000898.SZA</td>\n",
       "                <td>-0.6933</td>\n",
       "            </tr>\n",
       "            \n",
       "            <tr>\n",
       "                <td>桐昆股份</td>\n",
       "                <td>601233.SHA</td>\n",
       "                <td>-0.6912</td>\n",
       "            </tr>\n",
       "            \n",
       "            <tr>\n",
       "                <td>新宝股份</td>\n",
       "                <td>002705.SZA</td>\n",
       "                <td>-0.6907</td>\n",
       "            </tr>\n",
       "            \n",
       "            <tr>\n",
       "                <td>新钢股份</td>\n",
       "                <td>600782.SHA</td>\n",
       "                <td>-0.6890</td>\n",
       "            </tr>\n",
       "            \n",
       "            <tr>\n",
       "                <td>中国外运</td>\n",
       "                <td>601598.SHA</td>\n",
       "                <td>-0.6717</td>\n",
       "            </tr>\n",
       "            \n",
       "            <tr>\n",
       "                <td>云铝股份</td>\n",
       "                <td>000807.SZA</td>\n",
       "                <td>-0.6548</td>\n",
       "            </tr>\n",
       "            \n",
       "            <tr>\n",
       "                <td>天山铝业</td>\n",
       "                <td>002532.SZA</td>\n",
       "                <td>-0.6499</td>\n",
       "            </tr>\n",
       "            \n",
       "            <tr>\n",
       "                <td>安道麦A</td>\n",
       "                <td>000553.SZA</td>\n",
       "                <td>-0.6485</td>\n",
       "            </tr>\n",
       "            \n",
       "            <tr>\n",
       "                <td>太钢不锈</td>\n",
       "                <td>000825.SZA</td>\n",
       "                <td>-0.6445</td>\n",
       "            </tr>\n",
       "            \n",
       "            <tr>\n",
       "                <td>光明乳业</td>\n",
       "                <td>600597.SHA</td>\n",
       "                <td>-0.6408</td>\n",
       "            </tr>\n",
       "            \n",
       "            <tr>\n",
       "                <td>中体产业</td>\n",
       "                <td>600158.SHA</td>\n",
       "                <td>-0.6368</td>\n",
       "            </tr>\n",
       "            \n",
       "            <tr>\n",
       "                <td>华邦健康</td>\n",
       "                <td>002004.SZA</td>\n",
       "                <td>-0.6304</td>\n",
       "            </tr>\n",
       "            \n",
       "            <tr>\n",
       "                <td>金螳螂</td>\n",
       "                <td>002081.SZA</td>\n",
       "                <td>-0.6258</td>\n",
       "            </tr>\n",
       "            \n",
       "            <tr>\n",
       "                <td>柳钢股份</td>\n",
       "                <td>601003.SHA</td>\n",
       "                <td>-0.6193</td>\n",
       "            </tr>\n",
       "            \n",
       "            <tr>\n",
       "                <td>亚泰集团</td>\n",
       "                <td>600881.SHA</td>\n",
       "                <td>-0.5901</td>\n",
       "            </tr>\n",
       "            \n",
       "            <tr>\n",
       "                <td>德邦股份</td>\n",
       "                <td>603056.SHA</td>\n",
       "                <td>-0.5370</td>\n",
       "            </tr>\n",
       "            \n",
       "            <tr>\n",
       "                <td>中粮糖业</td>\n",
       "                <td>600737.SHA</td>\n",
       "                <td>-0.5212</td>\n",
       "            </tr>\n",
       "            \n",
       "                </tbody>\n",
       "            </table>\n",
       "        </div>\n",
       "        </div>\n",
       "                \n",
       "            \n",
       "            </div>\n",
       "        </div></div><div class='tab-pane' id='因子4'><div class=\"factorlens-container\">\n",
       "            <div style=\"display:flex\">\n",
       "                <div style=\"flex:1\">\n",
       "                    \n",
       "                    <h2 class=\"factorlens-title\">因子分析: -1 * correlation(high_0/low_0, volume_0, 2)</h2>\n",
       "                    \n",
       "                </div>\n",
       "                <div style=\"width:180px;\">\n",
       "                    \n",
       "                    <code style=\"display:none\" class=\"bq-template-label-inject\">\n",
       "                    {\n",
       "                        \"type\": \"factor-track\",\n",
       "                        \"data\": {\n",
       "                            \"exprs\": [\"-1 * correlation(high_0/low_0, volume_0, 2)\"],\n",
       "                            \"options\": {\"BacktestInterval\": [\"2021-01-01\", \"2021-12-31\"], \"Benchmark\": \"none\", \"StockPool\": \"in_csi500_0\", \"UserDataMerge\": \"left\", \"DropSTStocks\": 1, \"DropPriceLimitStocks\": 1, \"DropNewStocks\": 60, \"DropSuspendedStocks\": 1, \"QuantileCount\": 5, \"CommissionRates\": 0.0016, \"Normalization\": 0, \"Neutralization\": \"industry,size\", \"DelayRebalanceDays\": 0, \"RebalancePeriod\": 2, \"RebalancePeriodsReturns\": 0, \"RebalancePrice\": \"close_0\", \"ReturnsCalculationMethod\": \"cumprod\", \"FactorCoverage\": 0.5, \"_HASH\": \"427c36e0d1fb6c659ba1ca9111dc079b\"}\n",
       "                        }\n",
       "                    }\n",
       "                    </code>\n",
       "                    \n",
       "                </div>\n",
       "            </div>\n",
       "            <div class=\"type_title_left\"><p>因子表现概览<i class=\"fa fa-question-circle-o\" title=\"按因子值升序排列将股票分组，1分位组对应最小因子分组。多空组合表示做多最小分位组，做空最大分位组。\"></i></p></div><table class=\"factor_table\">\n",
       "            <thead>\n",
       "                <tr>\n",
       "                    <th>&nbsp;</th>\n",
       "                    <th>累计收益</th>\n",
       "                    <th>近1年收益</th>\n",
       "                    <th>近3月收益</th>\n",
       "                    <th>近1月收益</th>\n",
       "                    <th>近1周收益</th>\n",
       "                    <th>昨日收益</th>\n",
       "                    <th>最大回撤</th>\n",
       "                    <th>盈亏比</th>\n",
       "                    <th>胜率</th>\n",
       "                    <th>夏普比率</th>\n",
       "                    <th>收益波动率</th>\n",
       "                </tr>\n",
       "            </thead>\n",
       "            <tbody>\n",
       "                \n",
       "                    <tr>\n",
       "                    <th>最小分位</th>\n",
       "                        \n",
       "                            <td><span class=\"pct down\">-19.92%</span></td>\n",
       "                        \n",
       "                            <td><span class=\"pct down\">-19.92%</span></td>\n",
       "                        \n",
       "                            <td><span class=\"pct down\">-3.83%</span></td>\n",
       "                        \n",
       "                            <td><span class=\"pct down\">-6.29%</span></td>\n",
       "                        \n",
       "                            <td><span class=\"pct down\">-0.74%</span></td>\n",
       "                        \n",
       "                            <td><span class=\"pct up\">0.25%</span></td>\n",
       "                        \n",
       "                            <td>20.34%</td>\n",
       "                        \n",
       "                            <td>0.82</td>\n",
       "                        \n",
       "                            <td>0.48</td>\n",
       "                        \n",
       "                            <td><span class=\"pct down\">-1.93</span></td>\n",
       "                        \n",
       "                            <td>16.18%</td>\n",
       "                        \n",
       "                    </tr>\n",
       "                \n",
       "                    <tr>\n",
       "                    <th>最大分位</th>\n",
       "                        \n",
       "                            <td><span class=\"pct down\">-19.62%</span></td>\n",
       "                        \n",
       "                            <td><span class=\"pct down\">-19.62%</span></td>\n",
       "                        \n",
       "                            <td><span class=\"pct down\">-5.91%</span></td>\n",
       "                        \n",
       "                            <td><span class=\"pct down\">-8.99%</span></td>\n",
       "                        \n",
       "                            <td><span class=\"pct down\">-0.55%</span></td>\n",
       "                        \n",
       "                            <td><span class=\"pct up\">0.33%</span></td>\n",
       "                        \n",
       "                            <td>19.88%</td>\n",
       "                        \n",
       "                            <td>0.82</td>\n",
       "                        \n",
       "                            <td>0.47</td>\n",
       "                        \n",
       "                            <td><span class=\"pct down\">-2.17</span></td>\n",
       "                        \n",
       "                            <td>14.25%</td>\n",
       "                        \n",
       "                    </tr>\n",
       "                \n",
       "                    <tr>\n",
       "                    <th>多空组合</th>\n",
       "                        \n",
       "                            <td><span class=\"pct down\">-0.12%</span></td>\n",
       "                        \n",
       "                            <td><span class=\"pct down\">-0.12%</span></td>\n",
       "                        \n",
       "                            <td><span class=\"pct up\">1.13%</span></td>\n",
       "                        \n",
       "                            <td><span class=\"pct up\">1.48%</span></td>\n",
       "                        \n",
       "                            <td><span class=\"pct down\">-0.09%</span></td>\n",
       "                        \n",
       "                            <td><span class=\"pct down\">-0.04%</span></td>\n",
       "                        \n",
       "                            <td>3.56%</td>\n",
       "                        \n",
       "                            <td>1.03</td>\n",
       "                        \n",
       "                            <td>0.49</td>\n",
       "                        \n",
       "                            <td><span class=\"pct down\">-1.09</span></td>\n",
       "                        \n",
       "                            <td>3.31%</td>\n",
       "                        \n",
       "                    </tr>\n",
       "                \n",
       "            </tbody>\n",
       "        </table><div id=\"bigchart-e0ed69e80ad54401877dccb4a1b7bf31\" class=\"bigchart\"></div><div class=\"bigchart-data\"><pre style=\"display:none\">bigcharts-data-start/{\"chart\":{\"height\":500,\"renderTo\":\"bigchart-e0ed69e80ad54401877dccb4a1b7bf31\"},\"legend\":{\"enabled\":true},\"stock\":true,\"series\":[{\"name\":\"1\\u5206\\u4f4d\\u6570\",\"yAxis\":0,\"data\":[[1609804800000,1.0],[1609891200000,0.9942],[1609977600000,0.9782],[1610064000000,0.9805],[1610323200000,0.966],[1610409600000,0.9779],[1610496000000,0.9651],[1610582400000,0.9633],[1610668800000,0.964],[1610928000000,0.9744],[1611014400000,0.9689],[1611100800000,0.9749],[1611187200000,0.9843],[1611273600000,0.9814],[1611532800000,0.9735],[1611619200000,0.9582],[1611705600000,0.958],[1611792000000,0.9379],[1611878400000,0.9246],[1612137600000,0.9264],[1612224000000,0.9314],[1612310400000,0.9153],[1612396800000,0.8969],[1612483200000,0.8832],[1612742400000,0.8887],[1612828800000,0.9007],[1612915200000,0.9033],[1613606400000,0.923],[1613692800000,0.9497],[1613952000000,0.9459],[1614038400000,0.9386],[1614124800000,0.9316],[1614211200000,0.9231],[1614297600000,0.9077],[1614556800000,0.9264],[1614643200000,0.9203],[1614729600000,0.9292],[1614816000000,0.9107],[1614902400000,0.9122],[1615161600000,0.8914],[1615248000000,0.8713],[1615334400000,0.8593],[1615420800000,0.877],[1615507200000,0.8818],[1615766400000,0.8693],[1615852800000,0.8656],[1615939200000,0.8641],[1616025600000,0.8664],[1616112000000,0.8591],[1616371200000,0.872],[1616457600000,0.8554],[1616544000000,0.8469],[1616630400000,0.8444],[1616716800000,0.8541],[1616976000000,0.8503],[1617062400000,0.85],[1617148800000,0.8449],[1617235200000,0.8512],[1617321600000,0.8522],[1617667200000,0.857],[1617753600000,0.8596],[1617840000000,0.8587],[1617926400000,0.8544],[1618185600000,0.8461],[1618272000000,0.8378],[1618358400000,0.8431],[1618444800000,0.8383],[1618531200000,0.8497],[1618790400000,0.8556],[1618876800000,0.8545],[1618963200000,0.853],[1619049600000,0.8559],[1619136000000,0.8542],[1619395200000,0.8541],[1619481600000,0.8516],[1619568000000,0.8571],[1619654400000,0.8545],[1619740800000,0.8497],[1620259200000,0.848],[1620345600000,0.8528],[1620604800000,0.8551],[1620691200000,0.8566],[1620777600000,0.8581],[1620864000000,0.8486],[1620950400000,0.8558],[1621209600000,0.8595],[1621296000000,0.8624],[1621382400000,0.8563],[1621468800000,0.8425],[1621555200000,0.8421],[1621814400000,0.8444],[1621900800000,0.8545],[1621987200000,0.8566],[1622073600000,0.8609],[1622160000000,0.8545],[1622419200000,0.8574],[1622505600000,0.8578],[1622592000000,0.8498],[1622678400000,0.8464],[1622764800000,0.8518],[1623024000000,0.8544],[1623110400000,0.8514],[1623196800000,0.8496],[1623283200000,0.8578],[1623369600000,0.8486],[1623715200000,0.8422],[1623801600000,0.8324],[1623888000000,0.8414],[1623974400000,0.844],[1624233600000,0.8489],[1624320000000,0.8477],[1624406400000,0.8538],[1624492800000,0.8458],[1624579200000,0.8534],[1624838400000,0.8499],[1624924800000,0.8388],[1625011200000,0.8412],[1625097600000,0.8388],[1625184000000,0.8254],[1625443200000,0.8251],[1625529600000,0.8186],[1625616000000,0.823],[1625702400000,0.8197],[1625788800000,0.8272],[1626048000000,0.8388],[1626134400000,0.8428],[1626220800000,0.8326],[1626307200000,0.8354],[1626393600000,0.8402],[1626652800000,0.8381],[1626739200000,0.8353],[1626825600000,0.8408],[1626912000000,0.847],[1626998400000,0.8434],[1627257600000,0.8316],[1627344000000,0.8157],[1627430400000,0.7996],[1627516800000,0.8174],[1627603200000,0.8188],[1627862400000,0.8321],[1627948800000,0.8221],[1628035200000,0.8278],[1628121600000,0.8177],[1628208000000,0.8114],[1628467200000,0.8167],[1628553600000,0.8201],[1628640000000,0.8282],[1628726400000,0.8294],[1628812800000,0.8235],[1629072000000,0.828],[1629158400000,0.8116],[1629244800000,0.8178],[1629331200000,0.8144],[1629417600000,0.8034],[1629676800000,0.8112],[1629763200000,0.8165],[1629849600000,0.821],[1629936000000,0.8184],[1630022400000,0.8186],[1630281600000,0.8236],[1630368000000,0.8318],[1630454400000,0.8302],[1630540800000,0.8414],[1630627200000,0.8371],[1630886400000,0.8433],[1630972800000,0.8625],[1631059200000,0.8667],[1631145600000,0.877],[1631232000000,0.8662],[1631491200000,0.8736],[1631577600000,0.8545],[1631664000000,0.8565],[1631750400000,0.8473],[1631836800000,0.8445],[1632268800000,0.85],[1632355200000,0.8629],[1632441600000,0.8504],[1632700800000,0.8316],[1632787200000,0.8326],[1632873600000,0.8111],[1632960000000,0.817],[1633651200000,0.8234],[1633910400000,0.8189],[1633996800000,0.8049],[1634083200000,0.8069],[1634169600000,0.8026],[1634256000000,0.7966],[1634515200000,0.8067],[1634601600000,0.8093],[1634688000000,0.8087],[1634774400000,0.8067],[1634860800000,0.7988],[1635120000000,0.8008]],\"color\":\"#F08B55\"},{\"name\":\"2\\u5206\\u4f4d\\u6570\",\"yAxis\":0,\"data\":[[1609804800000,1.0],[1609891200000,0.9886],[1609977600000,0.979],[1610064000000,0.9847],[1610323200000,0.9666],[1610409600000,0.973],[1610496000000,0.966],[1610582400000,0.9698],[1610668800000,0.9658],[1610928000000,0.9721],[1611014400000,0.9716],[1611100800000,0.9711],[1611187200000,0.975],[1611273600000,0.9721],[1611532800000,0.9602],[1611619200000,0.9498],[1611705600000,0.9525],[1611792000000,0.9361],[1611878400000,0.9238],[1612137600000,0.9297],[1612224000000,0.9356],[1612310400000,0.9256],[1612396800000,0.9139],[1612483200000,0.9056],[1612742400000,0.9109],[1612828800000,0.9249],[1612915200000,0.9332],[1613606400000,0.9468],[1613692800000,0.9609],[1613952000000,0.9611],[1614038400000,0.9563],[1614124800000,0.9509],[1614211200000,0.9466],[1614297600000,0.9286],[1614556800000,0.9394],[1614643200000,0.9311],[1614729600000,0.9395],[1614816000000,0.9274],[1614902400000,0.9245],[1615161600000,0.9046],[1615248000000,0.8798],[1615334400000,0.8711],[1615420800000,0.884],[1615507200000,0.8877],[1615766400000,0.8865],[1615852800000,0.8921],[1615939200000,0.8917],[1616025600000,0.8998],[1616112000000,0.8918],[1616371200000,0.9043],[1616457600000,0.8907],[1616544000000,0.8867],[1616630400000,0.8862],[1616716800000,0.8983],[1616976000000,0.8987],[1617062400000,0.8973],[1617148800000,0.8944],[1617235200000,0.9028],[1617321600000,0.907],[1617667200000,0.9097],[1617753600000,0.9109],[1617840000000,0.9108],[1617926400000,0.9052],[1618185600000,0.8909],[1618272000000,0.8891],[1618358400000,0.8939],[1618444800000,0.894],[1618531200000,0.9031],[1618790400000,0.9093],[1618876800000,0.9103],[1618963200000,0.9037],[1619049600000,0.9068],[1619136000000,0.905],[1619395200000,0.901],[1619481600000,0.891],[1619568000000,0.8944],[1619654400000,0.8955],[1619740800000,0.8911],[1620259200000,0.8885],[1620345600000,0.8807],[1620604800000,0.8799],[1620691200000,0.8739],[1620777600000,0.8803],[1620864000000,0.8714],[1620950400000,0.8771],[1621209600000,0.8762],[1621296000000,0.8795],[1621382400000,0.8758],[1621468800000,0.8737],[1621555200000,0.8729],[1621814400000,0.8696],[1621900800000,0.8759],[1621987200000,0.878],[1622073600000,0.8774],[1622160000000,0.8719],[1622419200000,0.8768],[1622505600000,0.8787],[1622592000000,0.8713],[1622678400000,0.8698],[1622764800000,0.8706],[1623024000000,0.8711],[1623110400000,0.8679],[1623196800000,0.8647],[1623283200000,0.8697],[1623369600000,0.8616],[1623715200000,0.8476],[1623801600000,0.8358],[1623888000000,0.8358],[1623974400000,0.8361],[1624233600000,0.8363],[1624320000000,0.8387],[1624406400000,0.8439],[1624492800000,0.8369],[1624579200000,0.8431],[1624838400000,0.8432],[1624924800000,0.8364],[1625011200000,0.8377],[1625097600000,0.8312],[1625184000000,0.8254],[1625443200000,0.8335],[1625529600000,0.835],[1625616000000,0.8414],[1625702400000,0.8298],[1625788800000,0.8325],[1626048000000,0.8379],[1626134400000,0.8466],[1626220800000,0.8392],[1626307200000,0.8403],[1626393600000,0.8361],[1626652800000,0.8339],[1626739200000,0.8323],[1626825600000,0.8375],[1626912000000,0.8345],[1626998400000,0.8244],[1627257600000,0.8058],[1627344000000,0.7975],[1627430400000,0.7915],[1627516800000,0.8014],[1627603200000,0.8001],[1627862400000,0.8108],[1627948800000,0.8042],[1628035200000,0.8081],[1628121600000,0.8002],[1628208000000,0.8006],[1628467200000,0.8064],[1628553600000,0.8138],[1628640000000,0.8162],[1628726400000,0.8168],[1628812800000,0.8145],[1629072000000,0.8146],[1629158400000,0.7933],[1629244800000,0.7946],[1629331200000,0.7911],[1629417600000,0.7906],[1629676800000,0.8013],[1629763200000,0.8049],[1629849600000,0.8064],[1629936000000,0.7996],[1630022400000,0.7993],[1630281600000,0.7976],[1630368000000,0.7962],[1630454400000,0.7949],[1630540800000,0.7974],[1630627200000,0.7989],[1630886400000,0.8109],[1630972800000,0.8191],[1631059200000,0.8255],[1631145600000,0.8243],[1631232000000,0.8242],[1631491200000,0.8332],[1631577600000,0.8186],[1631664000000,0.8183],[1631750400000,0.8041],[1631836800000,0.8026],[1632268800000,0.8048],[1632355200000,0.809],[1632441600000,0.8032],[1632700800000,0.7914],[1632787200000,0.7857],[1632873600000,0.7705],[1632960000000,0.7745],[1633651200000,0.782],[1633910400000,0.7796],[1633996800000,0.7669],[1634083200000,0.7691],[1634169600000,0.7707],[1634256000000,0.7653],[1634515200000,0.7642],[1634601600000,0.7704],[1634688000000,0.7678],[1634774400000,0.7656],[1634860800000,0.7585],[1635120000000,0.7603]],\"color\":\"#648FD5\"},{\"name\":\"3\\u5206\\u4f4d\\u6570\",\"yAxis\":0,\"data\":[[1609804800000,1.0],[1609891200000,0.9909],[1609977600000,0.9809],[1610064000000,0.9922],[1610323200000,0.9692],[1610409600000,0.9741],[1610496000000,0.9646],[1610582400000,0.9602],[1610668800000,0.9572],[1610928000000,0.9695],[1611014400000,0.9649],[1611100800000,0.9697],[1611187200000,0.9764],[1611273600000,0.9643],[1611532800000,0.9555],[1611619200000,0.9456],[1611705600000,0.9457],[1611792000000,0.9324],[1611878400000,0.9198],[1612137600000,0.9241],[1612224000000,0.9205],[1612310400000,0.9087],[1612396800000,0.8943],[1612483200000,0.8838],[1612742400000,0.8913],[1612828800000,0.9124],[1612915200000,0.9153],[1613606400000,0.9335],[1613692800000,0.9504],[1613952000000,0.9609],[1614038400000,0.9525],[1614124800000,0.9454],[1614211200000,0.9401],[1614297600000,0.9248],[1614556800000,0.9352],[1614643200000,0.9315],[1614729600000,0.9439],[1614816000000,0.9348],[1614902400000,0.9349],[1615161600000,0.9267],[1615248000000,0.9145],[1615334400000,0.9002],[1615420800000,0.9152],[1615507200000,0.9127],[1615766400000,0.9144],[1615852800000,0.9211],[1615939200000,0.9244],[1616025600000,0.9246],[1616112000000,0.9152],[1616371200000,0.9266],[1616457600000,0.9164],[1616544000000,0.9034],[1616630400000,0.9013],[1616716800000,0.9121],[1616976000000,0.9122],[1617062400000,0.9055],[1617148800000,0.9072],[1617235200000,0.9171],[1617321600000,0.912],[1617667200000,0.9133],[1617753600000,0.9144],[1617840000000,0.9104],[1617926400000,0.9078],[1618185600000,0.8976],[1618272000000,0.892],[1618358400000,0.9046],[1618444800000,0.9023],[1618531200000,0.9172],[1618790400000,0.9219],[1618876800000,0.9193],[1618963200000,0.9158],[1619049600000,0.9168],[1619136000000,0.9102],[1619395200000,0.9049],[1619481600000,0.9037],[1619568000000,0.9071],[1619654400000,0.9084],[1619740800000,0.9047],[1620259200000,0.9138],[1620345600000,0.9027],[1620604800000,0.9015],[1620691200000,0.9066],[1620777600000,0.914],[1620864000000,0.9117],[1620950400000,0.9173],[1621209600000,0.9137],[1621296000000,0.9151],[1621382400000,0.9157],[1621468800000,0.9094],[1621555200000,0.9028],[1621814400000,0.9087],[1621900800000,0.9168],[1621987200000,0.9164],[1622073600000,0.9242],[1622160000000,0.9219],[1622419200000,0.9307],[1622505600000,0.9311],[1622592000000,0.9204],[1622678400000,0.915],[1622764800000,0.9157],[1623024000000,0.9166],[1623110400000,0.9212],[1623196800000,0.9189],[1623283200000,0.9209],[1623369600000,0.9101],[1623715200000,0.899],[1623801600000,0.8906],[1623888000000,0.8952],[1623974400000,0.8963],[1624233600000,0.9015],[1624320000000,0.9024],[1624406400000,0.9014],[1624492800000,0.8953],[1624579200000,0.9],[1624838400000,0.8982],[1624924800000,0.8927],[1625011200000,0.8971],[1625097600000,0.8804],[1625184000000,0.8759],[1625443200000,0.8863],[1625529600000,0.8889],[1625616000000,0.8874],[1625702400000,0.8782],[1625788800000,0.8815],[1626048000000,0.8883],[1626134400000,0.8954],[1626220800000,0.8906],[1626307200000,0.8927],[1626393600000,0.8869],[1626652800000,0.8801],[1626739200000,0.8796],[1626825600000,0.8843],[1626912000000,0.8849],[1626998400000,0.875],[1627257600000,0.8605],[1627344000000,0.85],[1627430400000,0.831],[1627516800000,0.8348],[1627603200000,0.8406],[1627862400000,0.8499],[1627948800000,0.8569],[1628035200000,0.8644],[1628121600000,0.8559],[1628208000000,0.8559],[1628467200000,0.8669],[1628553600000,0.8705],[1628640000000,0.8678],[1628726400000,0.8702],[1628812800000,0.8693],[1629072000000,0.8638],[1629158400000,0.8439],[1629244800000,0.8474],[1629331200000,0.845],[1629417600000,0.8408],[1629676800000,0.85],[1629763200000,0.8553],[1629849600000,0.8593],[1629936000000,0.8496],[1630022400000,0.8468],[1630281600000,0.8487],[1630368000000,0.8466],[1630454400000,0.8544],[1630540800000,0.8555],[1630627200000,0.866],[1630886400000,0.8701],[1630972800000,0.8792],[1631059200000,0.8828],[1631145600000,0.8903],[1631232000000,0.8859],[1631491200000,0.8838],[1631577600000,0.8711],[1631664000000,0.8763],[1631750400000,0.8615],[1631836800000,0.8563],[1632268800000,0.855],[1632355200000,0.8609],[1632441600000,0.8508],[1632700800000,0.8372],[1632787200000,0.8395],[1632873600000,0.818],[1632960000000,0.8239],[1633651200000,0.8295],[1633910400000,0.8325],[1633996800000,0.8185],[1634083200000,0.8178],[1634169600000,0.8213],[1634256000000,0.8162],[1634515200000,0.8183],[1634601600000,0.8251],[1634688000000,0.8251],[1634774400000,0.819],[1634860800000,0.812],[1635120000000,0.8151]],\"color\":\"#E06681\"},{\"name\":\"4\\u5206\\u4f4d\\u6570\",\"yAxis\":0,\"data\":[[1609804800000,1.0],[1609891200000,0.9956],[1609977600000,0.99],[1610064000000,0.9918],[1610323200000,0.9725],[1610409600000,0.9795],[1610496000000,0.9714],[1610582400000,0.9715],[1610668800000,0.9715],[1610928000000,0.9811],[1611014400000,0.9801],[1611100800000,0.9769],[1611187200000,0.9789],[1611273600000,0.9627],[1611532800000,0.9494],[1611619200000,0.9397],[1611705600000,0.9371],[1611792000000,0.9282],[1611878400000,0.9123],[1612137600000,0.9155],[1612224000000,0.9135],[1612310400000,0.9054],[1612396800000,0.8893],[1612483200000,0.8796],[1612742400000,0.8855],[1612828800000,0.8995],[1612915200000,0.9014],[1613606400000,0.9175],[1613692800000,0.9343],[1613952000000,0.9287],[1614038400000,0.9241],[1614124800000,0.9186],[1614211200000,0.9202],[1614297600000,0.9011],[1614556800000,0.9131],[1614643200000,0.9061],[1614729600000,0.9214],[1614816000000,0.9149],[1614902400000,0.9144],[1615161600000,0.8999],[1615248000000,0.8804],[1615334400000,0.8734],[1615420800000,0.8925],[1615507200000,0.89],[1615766400000,0.8875],[1615852800000,0.8991],[1615939200000,0.8959],[1616025600000,0.8933],[1616112000000,0.8844],[1616371200000,0.8993],[1616457600000,0.8922],[1616544000000,0.8778],[1616630400000,0.8786],[1616716800000,0.886],[1616976000000,0.8811],[1617062400000,0.8792],[1617148800000,0.8721],[1617235200000,0.8744],[1617321600000,0.869],[1617667200000,0.8713],[1617753600000,0.8713],[1617840000000,0.8671],[1617926400000,0.8678],[1618185600000,0.8588],[1618272000000,0.8473],[1618358400000,0.8552],[1618444800000,0.8557],[1618531200000,0.8617],[1618790400000,0.8698],[1618876800000,0.867],[1618963200000,0.8639],[1619049600000,0.8661],[1619136000000,0.8577],[1619395200000,0.8546],[1619481600000,0.8512],[1619568000000,0.8596],[1619654400000,0.8568],[1619740800000,0.8496],[1620259200000,0.8511],[1620345600000,0.8516],[1620604800000,0.8509],[1620691200000,0.8503],[1620777600000,0.8542],[1620864000000,0.8435],[1620950400000,0.8591],[1621209600000,0.8606],[1621296000000,0.8613],[1621382400000,0.8575],[1621468800000,0.8527],[1621555200000,0.8485],[1621814400000,0.853],[1621900800000,0.8607],[1621987200000,0.8613],[1622073600000,0.8684],[1622160000000,0.863],[1622419200000,0.8651],[1622505600000,0.8639],[1622592000000,0.8593],[1622678400000,0.8638],[1622764800000,0.8599],[1623024000000,0.8597],[1623110400000,0.8542],[1623196800000,0.8553],[1623283200000,0.857],[1623369600000,0.8602],[1623715200000,0.8525],[1623801600000,0.8398],[1623888000000,0.8395],[1623974400000,0.8432],[1624233600000,0.8482],[1624320000000,0.8554],[1624406400000,0.8673],[1624492800000,0.8643],[1624579200000,0.8701],[1624838400000,0.8646],[1624924800000,0.8586],[1625011200000,0.8622],[1625097600000,0.8465],[1625184000000,0.8367],[1625443200000,0.8408],[1625529600000,0.8404],[1625616000000,0.8431],[1625702400000,0.8364],[1625788800000,0.843],[1626048000000,0.8469],[1626134400000,0.85],[1626220800000,0.8408],[1626307200000,0.8371],[1626393600000,0.8375],[1626652800000,0.8386],[1626739200000,0.8402],[1626825600000,0.8445],[1626912000000,0.845],[1626998400000,0.8379],[1627257600000,0.8159],[1627344000000,0.7946],[1627430400000,0.785],[1627516800000,0.7932],[1627603200000,0.7899],[1627862400000,0.7943],[1627948800000,0.7951],[1628035200000,0.7963],[1628121600000,0.7935],[1628208000000,0.7976],[1628467200000,0.8055],[1628553600000,0.8072],[1628640000000,0.8057],[1628726400000,0.8014],[1628812800000,0.8023],[1629072000000,0.7973],[1629158400000,0.7843],[1629244800000,0.7968],[1629331200000,0.7885],[1629417600000,0.7854],[1629676800000,0.7921],[1629763200000,0.7938],[1629849600000,0.8046],[1629936000000,0.8023],[1630022400000,0.8035],[1630281600000,0.8079],[1630368000000,0.804],[1630454400000,0.8039],[1630540800000,0.8161],[1630627200000,0.8112],[1630886400000,0.818],[1630972800000,0.827],[1631059200000,0.8314],[1631145600000,0.8356],[1631232000000,0.8256],[1631491200000,0.8225],[1631577600000,0.8088],[1631664000000,0.8081],[1631750400000,0.791],[1631836800000,0.7796],[1632268800000,0.7796],[1632355200000,0.7828],[1632441600000,0.7567],[1632700800000,0.7314],[1632787200000,0.7355],[1632873600000,0.7165],[1632960000000,0.721],[1633651200000,0.729],[1633910400000,0.7292],[1633996800000,0.7137],[1634083200000,0.7138],[1634169600000,0.7183],[1634256000000,0.7163],[1634515200000,0.7145],[1634601600000,0.7161],[1634688000000,0.7096],[1634774400000,0.7079],[1634860800000,0.6997],[1635120000000,0.7006]],\"color\":\"#E2D269\"},{\"name\":\"5\\u5206\\u4f4d\\u6570\",\"yAxis\":0,\"data\":[[1609804800000,1.0],[1609891200000,0.9979],[1609977600000,0.9899],[1610064000000,0.9935],[1610323200000,0.9747],[1610409600000,0.9866],[1610496000000,0.9807],[1610582400000,0.9734],[1610668800000,0.9654],[1610928000000,0.9762],[1611014400000,0.9693],[1611100800000,0.9736],[1611187200000,0.9813],[1611273600000,0.9748],[1611532800000,0.9709],[1611619200000,0.9585],[1611705600000,0.9556],[1611792000000,0.9349],[1611878400000,0.9199],[1612137600000,0.9238],[1612224000000,0.9228],[1612310400000,0.9086],[1612396800000,0.8977],[1612483200000,0.8884],[1612742400000,0.8946],[1612828800000,0.9099],[1612915200000,0.9153],[1613606400000,0.931],[1613692800000,0.951],[1613952000000,0.9584],[1614038400000,0.9525],[1614124800000,0.9449],[1614211200000,0.9362],[1614297600000,0.9248],[1614556800000,0.9412],[1614643200000,0.9336],[1614729600000,0.9438],[1614816000000,0.9348],[1614902400000,0.9349],[1615161600000,0.9217],[1615248000000,0.9018],[1615334400000,0.8925],[1615420800000,0.9079],[1615507200000,0.9073],[1615766400000,0.9011],[1615852800000,0.9065],[1615939200000,0.9057],[1616025600000,0.9092],[1616112000000,0.9019],[1616371200000,0.917],[1616457600000,0.9021],[1616544000000,0.8949],[1616630400000,0.8932],[1616716800000,0.9028],[1616976000000,0.9021],[1617062400000,0.9036],[1617148800000,0.901],[1617235200000,0.9045],[1617321600000,0.9018],[1617667200000,0.903],[1617753600000,0.9015],[1617840000000,0.9018],[1617926400000,0.8985],[1618185600000,0.8873],[1618272000000,0.8809],[1618358400000,0.8897],[1618444800000,0.8878],[1618531200000,0.9024],[1618790400000,0.9092],[1618876800000,0.9061],[1618963200000,0.9035],[1619049600000,0.9056],[1619136000000,0.9051],[1619395200000,0.8969],[1619481600000,0.8928],[1619568000000,0.8932],[1619654400000,0.8883],[1619740800000,0.8841],[1620259200000,0.8837],[1620345600000,0.8827],[1620604800000,0.8845],[1620691200000,0.8857],[1620777600000,0.8887],[1620864000000,0.8823],[1620950400000,0.891],[1621209600000,0.8935],[1621296000000,0.8961],[1621382400000,0.8905],[1621468800000,0.8831],[1621555200000,0.8835],[1621814400000,0.8874],[1621900800000,0.8971],[1621987200000,0.8996],[1622073600000,0.9054],[1622160000000,0.9028],[1622419200000,0.9114],[1622505600000,0.9124],[1622592000000,0.9036],[1622678400000,0.8982],[1622764800000,0.8989],[1623024000000,0.9012],[1623110400000,0.8967],[1623196800000,0.8965],[1623283200000,0.9015],[1623369600000,0.888],[1623715200000,0.8829],[1623801600000,0.8679],[1623888000000,0.8717],[1623974400000,0.8708],[1624233600000,0.8764],[1624320000000,0.8752],[1624406400000,0.8776],[1624492800000,0.8711],[1624579200000,0.8762],[1624838400000,0.8788],[1624924800000,0.868],[1625011200000,0.8692],[1625097600000,0.8593],[1625184000000,0.8486],[1625443200000,0.8471],[1625529600000,0.8426],[1625616000000,0.8484],[1625702400000,0.8434],[1625788800000,0.8478],[1626048000000,0.8559],[1626134400000,0.8611],[1626220800000,0.8543],[1626307200000,0.8584],[1626393600000,0.8575],[1626652800000,0.8537],[1626739200000,0.8482],[1626825600000,0.853],[1626912000000,0.8574],[1626998400000,0.8527],[1627257600000,0.8374],[1627344000000,0.8297],[1627430400000,0.819],[1627516800000,0.8313],[1627603200000,0.8326],[1627862400000,0.8458],[1627948800000,0.8408],[1628035200000,0.8474],[1628121600000,0.8404],[1628208000000,0.8407],[1628467200000,0.8484],[1628553600000,0.8514],[1628640000000,0.8553],[1628726400000,0.8567],[1628812800000,0.8536],[1629072000000,0.8563],[1629158400000,0.837],[1629244800000,0.8401],[1629331200000,0.8371],[1629417600000,0.834],[1629676800000,0.842],[1629763200000,0.8434],[1629849600000,0.8441],[1629936000000,0.8428],[1630022400000,0.846],[1630281600000,0.8512],[1630368000000,0.8566],[1630454400000,0.8568],[1630540800000,0.8618],[1630627200000,0.8576],[1630886400000,0.8679],[1630972800000,0.8815],[1631059200000,0.8887],[1631145600000,0.896],[1631232000000,0.8942],[1631491200000,0.905],[1631577600000,0.8832],[1631664000000,0.8847],[1631750400000,0.867],[1631836800000,0.8618],[1632268800000,0.8617],[1632355200000,0.8723],[1632441600000,0.8615],[1632700800000,0.8425],[1632787200000,0.8457],[1632873600000,0.8248],[1632960000000,0.8316],[1633651200000,0.8343],[1633910400000,0.8308],[1633996800000,0.8158],[1634083200000,0.8135],[1634169600000,0.8122],[1634256000000,0.8063],[1634515200000,0.8083],[1634601600000,0.8107],[1634688000000,0.8098],[1634774400000,0.8049],[1634860800000,0.8012],[1635120000000,0.8038]],\"color\":\"#4A8E8E\"},{\"name\":\"\\u6700\\u5c0f-\\u6700\\u5927\\u5206\\u4f4d\",\"yAxis\":0,\"data\":[[1609804800000,1.0],[1609891200000,0.9981],[1609977600000,0.9941],[1610064000000,0.9935],[1610323200000,0.9955],[1610409600000,0.9956],[1610496000000,0.9921],[1610582400000,0.9948],[1610668800000,0.9993],[1610928000000,0.9991],[1611014400000,0.9998],[1611100800000,1.0006],[1611187200000,1.0015],[1611273600000,1.0034],[1611532800000,1.0013],[1611619200000,0.9998],[1611705600000,1.0013],[1611792000000,1.0016],[1611878400000,1.0026],[1612137600000,1.0014],[1612224000000,1.0046],[1612310400000,1.0037],[1612396800000,0.9996],[1612483200000,0.9972],[1612742400000,0.9968],[1612828800000,0.995],[1612915200000,0.9935],[1613606400000,0.9958],[1613692800000,0.9995],[1613952000000,0.9936],[1614038400000,0.9929],[1614124800000,0.9931],[1614211200000,0.9932],[1614297600000,0.9909],[1614556800000,0.9923],[1614643200000,0.993],[1614729600000,0.9924],[1614816000000,0.9873],[1614902400000,0.988],[1615161600000,0.9838],[1615248000000,0.9832],[1615334400000,0.9816],[1615420800000,0.9832],[1615507200000,0.9862],[1615766400000,0.9826],[1615852800000,0.9775],[1615939200000,0.9772],[1616025600000,0.9766],[1616112000000,0.9764],[1616371200000,0.9755],[1616457600000,0.9742],[1616544000000,0.9733],[1616630400000,0.9727],[1616716800000,0.973],[1616976000000,0.9712],[1617062400000,0.9703],[1617148800000,0.9688],[1617235200000,0.9705],[1617321600000,0.9726],[1617667200000,0.9746],[1617753600000,0.9769],[1617840000000,0.9762],[1617926400000,0.9756],[1618185600000,0.9769],[1618272000000,0.9756],[1618358400000,0.9739],[1618444800000,0.9721],[1618531200000,0.9708],[1618790400000,0.9704],[1618876800000,0.9715],[1618963200000,0.9721],[1619049600000,0.9726],[1619136000000,0.9718],[1619395200000,0.9762],[1619481600000,0.977],[1619568000000,0.9799],[1619654400000,0.9812],[1619740800000,0.9808],[1620259200000,0.98],[1620345600000,0.9833],[1620604800000,0.9836],[1620691200000,0.9838],[1620777600000,0.983],[1620864000000,0.9811],[1620950400000,0.9804],[1621209600000,0.9812],[1621296000000,0.9814],[1621382400000,0.981],[1621468800000,0.9772],[1621555200000,0.9767],[1621814400000,0.9759],[1621900800000,0.9764],[1621987200000,0.9762],[1622073600000,0.9755],[1622160000000,0.9733],[1622419200000,0.9703],[1622505600000,0.97],[1622592000000,0.9702],[1622678400000,0.9711],[1622764800000,0.9739],[1623024000000,0.9741],[1623110400000,0.9748],[1623196800000,0.9739],[1623283200000,0.9759],[1623369600000,0.978],[1623715200000,0.977],[1623801600000,0.9797],[1623888000000,0.9828],[1623974400000,0.9848],[1624233600000,0.9845],[1624320000000,0.9845],[1624406400000,0.9867],[1624492800000,0.9857],[1624579200000,0.9873],[1624838400000,0.9838],[1624924800000,0.9834],[1625011200000,0.9842],[1625097600000,0.9883],[1625184000000,0.9866],[1625443200000,0.9873],[1625529600000,0.986],[1625616000000,0.9853],[1625702400000,0.9862],[1625788800000,0.9882],[1626048000000,0.9904],[1626134400000,0.9897],[1626220800000,0.9877],[1626307200000,0.9869],[1626393600000,0.9903],[1626652800000,0.9913],[1626739200000,0.9928],[1626825600000,0.9932],[1626912000000,0.9943],[1626998400000,0.9949],[1627257600000,0.997],[1627344000000,0.992],[1627430400000,0.9886],[1627516800000,0.9922],[1627603200000,0.9922],[1627862400000,0.9924],[1627948800000,0.9894],[1628035200000,0.9889],[1628121600000,0.987],[1628208000000,0.983],[1628467200000,0.9817],[1628553600000,0.982],[1628640000000,0.9847],[1628726400000,0.9845],[1628812800000,0.9829],[1629072000000,0.984],[1629158400000,0.9853],[1629244800000,0.9872],[1629331200000,0.987],[1629417600000,0.9821],[1629676800000,0.9821],[1629763200000,0.9846],[1629849600000,0.9869],[1629936000000,0.9861],[1630022400000,0.9843],[1630281600000,0.9843],[1630368000000,0.986],[1630454400000,0.985],[1630540800000,0.9887],[1630627200000,0.9886],[1630886400000,0.9864],[1630972800000,0.9899],[1631059200000,0.9883],[1631145600000,0.99],[1631232000000,0.9849],[1631491200000,0.9832],[1631577600000,0.9843],[1631664000000,0.9846],[1631750400000,0.9892],[1631836800000,0.9905],[1632268800000,0.9938],[1632355200000,0.9952],[1632441600000,0.9942],[1632700800000,0.9942],[1632787200000,0.9928],[1632873600000,0.9923],[1632960000000,0.9918],[1633651200000,0.9941],[1633910400000,0.9935],[1633996800000,0.9939],[1634083200000,0.9966],[1634169600000,0.9947],[1634256000000,0.9947],[1634515200000,0.9997],[1634601600000,0.9998],[1634688000000,1.0],[1634774400000,1.0019],[1634860800000,0.9992],[1635120000000,0.9988]]}],\"xAxis\":{\"title\":{\"text\":\"date\"},\"type\":\"datetime\"},\"plotOptions\":{\"series\":{\"compare\":\"percent\"}}}/bigcharts-data-end</pre></div><div class=\"type_title_left\"><p>基本特征分析<i class=\"fa fa-question-circle-o\" title=\"处理后因子表示对因子做去极值、标准化和中性化(如果启用的话)等处理后的因子值。\"></i></p></div><div class=\"cols\">\n",
       "            \n",
       "                \n",
       "                <div class=\"col\"><div id=\"bigchart-f2abd8a663f24e7fa646ab0f6c3434b1\" class=\"bigchart\"></div><div class=\"bigchart-data\"><pre style=\"display:none\">bigcharts-data-start/{\"chart\":{\"height\":500,\"type\":\"column\",\"renderTo\":\"bigchart-f2abd8a663f24e7fa646ab0f6c3434b1\"},\"legend\":{\"enabled\":true},\"title\":{\"text\":\"\\u56e0\\u5b50\\u5206\\u5e03\"},\"stock\":false,\"series\":[{\"name\":\"count\",\"yAxis\":0,\"data\":[[-0.98,0.7655],[-0.96,0.0],[-0.94,0.0],[-0.92,0.0],[-0.9,0.0],[-0.88,0.0],[-0.86,0.0],[-0.84,0.0],[-0.82,0.0],[-0.8,0.0],[-0.78,0.0],[-0.76,0.0],[-0.74,0.0],[-0.72,0.0],[-0.7,0.0],[-0.68,0.0],[-0.66,0.0],[-0.64,0.0],[-0.62,0.0],[-0.6,0.0],[-0.58,0.0],[-0.56,0.0],[-0.54,0.0],[-0.52,0.0],[-0.5,0.0],[-0.48,0.0],[-0.46,0.0],[-0.44,0.0],[-0.42,0.0],[-0.4,0.0],[-0.38,0.0],[-0.36,0.0],[-0.34,0.0],[-0.32,0.0],[-0.3,0.0],[-0.28,0.0],[-0.26,0.0],[-0.24,0.0],[-0.22,0.0],[-0.2,0.0],[-0.18,0.0],[-0.16,0.0],[-0.14,0.0],[-0.12,0.0],[-0.1,0.0],[-0.08,0.0],[-0.06,0.0],[-0.04,0.0],[-0.02,0.0],[0.0,0.0],[0.02,0.0],[0.04,0.0],[0.06,0.0],[0.08,0.0],[0.1,0.0],[0.12,0.0],[0.14,0.0],[0.16,0.0],[0.18,0.0],[0.2,0.0],[0.22,0.0],[0.24,0.0],[0.26,0.0],[0.28,0.0],[0.3,0.0],[0.32,0.0],[0.34,0.0],[0.36,0.0],[0.38,0.0],[0.4,0.0],[0.42,0.0],[0.44,0.0],[0.46,0.0],[0.48,0.0],[0.5,0.0],[0.52,0.0],[0.54,0.0],[0.56,0.0],[0.58,0.0],[0.6,0.0],[0.62,0.0],[0.64,0.0],[0.66,0.0],[0.68,0.0],[0.7,0.0],[0.72,0.0],[0.74,0.0],[0.76,0.0],[0.78,0.0],[0.8,0.0],[0.82,0.0],[0.84,0.0],[0.86,0.0],[0.88,0.0],[0.9,0.0],[0.92,0.0],[0.94,0.0],[0.96,0.0],[0.98,0.0],[1.0,0.2345]],\"color\":\"#F08B55\"}],\"xAxis\":{\"title\":{\"text\":\"value\"}}}/bigcharts-data-end</pre></div></div>\n",
       "                \n",
       "            \n",
       "                \n",
       "                <div class=\"col\"><div id=\"bigchart-09c82329a8aa45bda37df5e0c40d6e35\" class=\"bigchart\"></div><div class=\"bigchart-data\"><pre style=\"display:none\">bigcharts-data-start/{\"chart\":{\"height\":500,\"type\":\"column\",\"renderTo\":\"bigchart-09c82329a8aa45bda37df5e0c40d6e35\"},\"legend\":{\"enabled\":true},\"title\":{\"text\":\"\\u5904\\u7406\\u540e\\u56e0\\u5b50\\u5206\\u5e03\"},\"stock\":false,\"series\":[{\"name\":\"count\",\"yAxis\":0,\"data\":[[-1.5664,0.0001],[-1.5298,0.0001],[-1.4932,0.0],[-1.4565,0.0],[-1.4199,0.0],[-1.3833,0.0],[-1.3467,0.0002],[-1.31,0.0003],[-1.2734,0.0003],[-1.2368,0.0003],[-1.2001,0.0004],[-1.1635,0.0007],[-1.1269,0.001],[-1.0903,0.0015],[-1.0536,0.0016],[-1.017,0.0018],[-0.9804,0.0033],[-0.9438,0.003],[-0.9071,0.0048],[-0.8705,0.0062],[-0.8339,0.0076],[-0.7973,0.0098],[-0.7606,0.0127],[-0.724,0.016],[-0.6874,0.019],[-0.6508,0.0244],[-0.6141,0.0274],[-0.5775,0.0362],[-0.5409,0.0409],[-0.5043,0.0454],[-0.4676,0.0514],[-0.431,0.0537],[-0.3944,0.0533],[-0.3578,0.0617],[-0.3211,0.0509],[-0.2845,0.043],[-0.2479,0.0389],[-0.2112,0.0346],[-0.1746,0.0296],[-0.138,0.0225],[-0.1014,0.0158],[-0.0647,0.0096],[-0.0281,0.0065],[0.0085,0.0185],[0.0451,0.0075],[0.0818,0.0024],[0.1184,0.0005],[0.155,0.0003],[0.1916,0.0001],[0.2283,0.0],[0.2649,0.0],[0.3015,0.0],[0.3381,0.0],[0.3748,0.0],[0.4114,0.0003],[0.448,0.0],[0.4846,0.0002],[0.5213,0.0],[0.5579,0.0002],[0.5945,0.0001],[0.6311,0.0002],[0.6678,0.0005],[0.7044,0.0004],[0.741,0.0004],[0.7776,0.0007],[0.8143,0.0008],[0.8509,0.0011],[0.8875,0.0015],[0.9242,0.0019],[0.9608,0.0019],[0.9974,0.0026],[1.034,0.0032],[1.0707,0.0034],[1.1073,0.0045],[1.1439,0.0055],[1.1805,0.0057],[1.2172,0.0071],[1.2538,0.0088],[1.2904,0.0098],[1.327,0.01],[1.3637,0.013],[1.4003,0.014],[1.4369,0.0161],[1.4735,0.0154],[1.5102,0.0171],[1.5468,0.0149],[1.5834,0.0161],[1.62,0.0135],[1.6567,0.0132],[1.6933,0.0082],[1.7299,0.0074],[1.7665,0.0053],[1.8032,0.0039],[1.8398,0.0029],[1.8764,0.0015],[1.9131,0.0008],[1.9497,0.0003],[1.9863,0.0],[2.0229,0.0],[2.0596,0.0]],\"color\":\"#F08B55\"}],\"xAxis\":{\"title\":{\"text\":\"value\"}}}/bigcharts-data-end</pre></div></div>\n",
       "                \n",
       "            \n",
       "            </div><div class=\"cols\">\n",
       "            \n",
       "                \n",
       "                <div class=\"col\"><div id=\"bigchart-303b75f947784fe5939756ecfe7448dd\" class=\"bigchart\"></div><div class=\"bigchart-data\"><pre style=\"display:none\">bigcharts-data-start/{\"chart\":{\"height\":500,\"type\":\"boxplot\",\"renderTo\":\"bigchart-303b75f947784fe5939756ecfe7448dd\"},\"legend\":{\"enabled\":true},\"title\":{\"text\":\"\\u5904\\u7406\\u540e\\u56e0\\u5b50\\u884c\\u4e1a\\u5206\\u5e03\"},\"stock\":false,\"series\":[{\"name\":\"\\u5904\\u7406\\u540e\\u56e0\\u5b50\",\"data\":[[-1.4571,-0.5407,-0.3393,0.0095,1.8709],[-1.5419,-0.5688,-0.3142,0.901,1.9561],[-1.0106,-0.5335,-0.4176,-0.1171,1.8728],[-1.3682,-0.5274,-0.246,0.0012,1.899],[-1.2494,-0.5023,-0.2942,-0.0474,2.0596],[-1.2144,-0.5139,-0.3767,-0.0943,1.9456],[-1.1083,-0.5273,-0.3674,0.0017,1.8442],[-1.2044,-0.569,-0.2861,0.0246,1.7693],[-1.1839,-0.5447,-0.367,0.8566,1.9219],[-1.405,-0.5427,-0.0217,0.0457,1.6489],[-1.2038,-0.5617,-0.3551,0.0359,1.8056],[-0.877,-0.5099,-0.3848,-0.1995,1.8846],[-1.2771,-0.5405,-0.3871,0.8339,1.8754],[-1.2191,-0.465,-0.3355,-0.1633,1.9089],[-0.9384,-0.5121,-0.3422,-0.0926,1.932],[-1.0806,-0.5207,-0.3207,-0.0141,1.883],[-1.0705,-0.038,0.0,0.038,1.0705],[-1.3054,-0.4991,-0.216,0.0087,1.8609],[-1.603,-0.4949,-0.2967,-0.0529,1.9279],[-1.3564,-0.3536,-0.0,0.0697,1.4865],[-1.2963,-0.4747,-0.2223,0.0697,1.8251],[-1.136,-0.4547,-0.225,0.0183,1.9153],[-1.2059,-0.541,-0.3433,-0.0018,1.9134],[-1.2647,-0.5325,-0.3762,0.8374,2.0133],[-1.3623,-0.511,-0.266,0.0005,1.9248],[-1.1578,-0.5093,-0.343,-0.1465,1.8601],[-1.0639,-0.5025,-0.3303,-0.1156,1.9119],[-1.3542,-0.5029,-0.3198,-0.0006,1.9042]],\"color\":\"#F08B55\"}],\"xAxis\":{\"categories\":[\"\\u519c\\u6797\\u7267\\u6e14\",\"\\u91c7\\u6398\",\"\\u5316\\u5de5\",\"\\u94a2\\u94c1\",\"\\u6709\\u8272\\u91d1\\u5c5e\",\"\\u7535\\u5b50\",\"\\u6c7d\\u8f66\",\"\\u5bb6\\u7528\\u7535\\u5668\",\"\\u98df\\u54c1\\u996e\\u6599\",\"\\u7eba\\u7ec7\\u670d\\u88c5\",\"\\u8f7b\\u5de5\\u5236\\u9020\",\"\\u533b\\u836f\\u751f\\u7269\",\"\\u516c\\u7528\\u4e8b\\u4e1a\",\"\\u4ea4\\u901a\\u8fd0\\u8f93\",\"\\u623f\\u5730\\u4ea7\",\"\\u5546\\u4e1a\\u8d38\\u6613\",\"\\u4f11\\u95f2\\u670d\\u52a1\",\"\\u94f6\\u884c\",\"\\u975e\\u94f6\\u91d1\\u878d\",\"\\u7efc\\u5408\",\"\\u5efa\\u7b51\\u6750\\u6599\",\"\\u5efa\\u7b51\\u88c5\\u9970\",\"\\u7535\\u6c14\\u8bbe\\u5907\",\"\\u673a\\u68b0\\u8bbe\\u5907\",\"\\u56fd\\u9632\\u519b\\u5de5\",\"\\u8ba1\\u7b97\\u673a\",\"\\u4f20\\u5a92\",\"\\u901a\\u4fe1\"]}}/bigcharts-data-end</pre></div></div>\n",
       "                \n",
       "            \n",
       "                \n",
       "                <div class=\"col\"><div id=\"bigchart-7e0cc63f92ce407cadf8fcfcc5dea33a\" class=\"bigchart\"></div><div class=\"bigchart-data\"><pre style=\"display:none\">bigcharts-data-start/{\"chart\":{\"height\":500,\"type\":\"boxplot\",\"renderTo\":\"bigchart-7e0cc63f92ce407cadf8fcfcc5dea33a\"},\"legend\":{\"enabled\":true},\"title\":{\"text\":\"\\u5904\\u7406\\u540e\\u56e0\\u5b50\\u5e02\\u503c\\u5206\\u5e03\"},\"stock\":false,\"series\":[{\"name\":\"\\u5904\\u7406\\u540e\\u56e0\\u5b50\",\"data\":[[-1.4419,-0.4992,-0.3281,-0.0066,2.0596],[-1.5976,-0.5105,-0.3384,-0.0005,1.9561],[-1.6016,-0.5182,-0.353,-0.0029,1.9119],[-1.603,-0.5209,-0.3545,0.0001,1.9456],[-1.5419,-0.535,-0.3647,0.3429,2.0157]],\"color\":\"#F08B55\"}],\"xAxis\":{\"categories\":[\"\\u8d85\\u5c0f\\u578b\",\"\\u5c0f\\u578b\",\"\\u4e2d\\u578b\",\"\\u5927\\u578b\",\"\\u8d85\\u5927\\u578b\"]}}/bigcharts-data-end</pre></div></div>\n",
       "                \n",
       "            \n",
       "            </div><div class=\"type_title_left\"><p>IC分析<i class=\"fa fa-question-circle-o\" title=\"期初因子值与因子当期收益相关性分析，绝对值越大越好。以及因子值与滞后n期因子收益的相关性分析。\"></i></p></div>\n",
       "        <div class=\"ic_summary\">\n",
       "          <div class=\"item ic_mean\"><label>IC均值</label><p>-0.00</p></div>\n",
       "          <div class=\"item ic_std\"><label>IC标准差</label><p>0.06</p></div>\n",
       "          <div class=\"item ir\"><label>IR值</label><p>-0.03</p></div>\n",
       "          <div class=\"item ic_significance_ratio\"><label>|IC| > 0.02比率</label><p>73.96%</p></div>\n",
       "        </div>\n",
       "        <div class=\"cols\">\n",
       "            \n",
       "                \n",
       "                <div class=\"col\"><div id=\"bigchart-90f31bc9ee614f8c845d18ecfc0da7f8\" class=\"bigchart\"></div><div class=\"bigchart-data\"><pre style=\"display:none\">bigcharts-data-start/{\"chart\":{\"height\":500,\"type\":\"column\",\"renderTo\":\"bigchart-90f31bc9ee614f8c845d18ecfc0da7f8\"},\"legend\":{\"enabled\":true},\"title\":{\"text\":\"IC\\u65f6\\u5e8f\\u56fe\"},\"stock\":true,\"series\":[{\"name\":\"IC\",\"yAxis\":0,\"data\":[[1609804800000,0.0893],[1609977600000,-0.0041],[1610323200000,0.0453],[1610496000000,-0.0938],[1610668800000,0.0393],[1611014400000,-0.0798],[1611187200000,-0.0646],[1611532800000,-0.057],[1611705600000,0.0073],[1611878400000,-0.0324],[1612224000000,0.0529],[1612396800000,0.0465],[1612742400000,0.0525],[1612915200000,-0.0766],[1613692800000,0.0463],[1614038400000,0.0293],[1614211200000,-0.0217],[1614556800000,0.0783],[1614902400000,0.1016],[1615248000000,0.0384],[1615420800000,-0.0137],[1615766400000,0.1057],[1615939200000,-0.0882],[1616112000000,0.0768],[1616457600000,-0.0153],[1616630400000,0.0219],[1616976000000,0.017],[1617148800000,-0.1589],[1617321600000,-0.1335],[1617753600000,0.0241],[1617926400000,-0.0286],[1618272000000,0.0787],[1618444800000,0.0952],[1618790400000,0.0045],[1618963200000,-0.0147],[1619136000000,-0.0232],[1620259200000,-0.0132],[1620604800000,0.0305],[1620777600000,0.089],[1620950400000,-0.0589],[1621296000000,0.0552],[1621814400000,-0.0105],[1621987200000,0.1209],[1622505600000,0.0428],[1622678400000,-0.0913],[1623024000000,0.0037],[1623196800000,0.0007],[1623369600000,0.0018],[1614729600000,0.0651],[1619481600000,-0.0616],[1619654400000,0.0075],[1621468800000,0.0068],[1622160000000,0.0266],[1623801600000,-0.0846],[1623974400000,0.0407],[1624320000000,0.0148],[1624492800000,0.0348],[1625011200000,-0.1084],[1625184000000,-0.0076],[1625529600000,0.0065],[1626048000000,0.0372],[1626220800000,-0.0549],[1626393600000,0.0252],[1626739200000,-0.0249],[1627257600000,0.0479],[1627603200000,0.0206],[1627948800000,0.0496],[1628467200000,-0.0765],[1628640000000,0.0489],[1628812800000,-0.0059],[1629158400000,-0.0111],[1629676800000,-0.059],[1629849600000,0.0266],[1630022400000,0.0009],[1630368000000,-0.0077],[1630540800000,-0.0549],[1630886400000,-0.0988],[1631059200000,0.0399],[1631232000000,-0.0175],[1631750400000,-0.082],[1632268800000,-0.1614],[1632441600000,-0.0086],[1632787200000,0.0055],[1632960000000,0.0841],[1633910400000,-0.0924],[1634083200000,0.1342],[1634256000000,-0.1128],[1634601600000,-0.0714],[1634774400000,-0.0001],[1624838400000,0.0468],[1625702400000,-0.0873],[1626912000000,-0.0493],[1627430400000,-0.0445],[1628121600000,0.1408],[1629331200000,0.0628],[1631577600000,-0.0852]],\"color\":\"#F08B55\"}],\"xAxis\":{\"title\":{\"text\":\"date\"},\"type\":\"datetime\"}}/bigcharts-data-end</pre></div></div>\n",
       "                \n",
       "            \n",
       "                \n",
       "                <div class=\"col\"><div id=\"bigchart-114492e6b1574ced83a269330d3cc9de\" class=\"bigchart\"></div><div class=\"bigchart-data\"><pre style=\"display:none\">bigcharts-data-start/{\"chart\":{\"height\":500,\"type\":\"column\",\"renderTo\":\"bigchart-114492e6b1574ced83a269330d3cc9de\"},\"legend\":{\"enabled\":true},\"title\":{\"text\":\"IC\\u4fe1\\u53f7\\u8870\\u51cf\"},\"stock\":false,\"series\":[{\"name\":\"IC\",\"yAxis\":0,\"data\":[[\"\\u6ede\\u540e0\\u671f\",-0.0019],[\"\\u6ede\\u540e1\\u671f\",-0.0131],[\"\\u6ede\\u540e2\\u671f\",-0.0026],[\"\\u6ede\\u540e3\\u671f\",0.0032],[\"\\u6ede\\u540e4\\u671f\",-0.0043]],\"color\":\"#F08B55\"}],\"xAxis\":{\"categories\":[\"\\u6ede\\u540e0\\u671f\",\"\\u6ede\\u540e1\\u671f\",\"\\u6ede\\u540e2\\u671f\",\"\\u6ede\\u540e3\\u671f\",\"\\u6ede\\u540e4\\u671f\"]}}/bigcharts-data-end</pre></div></div>\n",
       "                \n",
       "            \n",
       "            </div><div class=\"type_title_left\"><p>买入信号重合分析<i class=\"fa fa-question-circle-o\" title=\"分布对最小和最大分位组，计算当期和滞后n期所选股票的重合度。\"></i></p></div><div id=\"bigchart-7da41cc1fe504c9488a90384dc16de5e\" class=\"bigchart\"></div><div class=\"bigchart-data\"><pre style=\"display:none\">bigcharts-data-start/{\"chart\":{\"height\":500,\"type\":\"column\",\"renderTo\":\"bigchart-7da41cc1fe504c9488a90384dc16de5e\"},\"legend\":{\"enabled\":true},\"title\":{\"text\":\"\\u4e70\\u5165\\u4fe1\\u53f7\\u91cd\\u5408\\u5ea6\"},\"stock\":false,\"series\":[{\"name\":\"\\u6700\\u5c0f\\u5206\\u4f4d\",\"yAxis\":0,\"data\":[[\"\\u6ede\\u540e1\\u671f\",0.2165],[\"\\u6ede\\u540e2\\u671f\",0.2156],[\"\\u6ede\\u540e3\\u671f\",0.2106],[\"\\u6ede\\u540e4\\u671f\",0.1851],[\"\\u6ede\\u540e5\\u671f\",0.1829],[\"\\u6ede\\u540e6\\u671f\",0.1951],[\"\\u6ede\\u540e7\\u671f\",0.1752],[\"\\u6ede\\u540e8\\u671f\",0.1825],[\"\\u6ede\\u540e9\\u671f\",0.1791],[\"\\u6ede\\u540e10\\u671f\",0.1949]],\"color\":\"#F08B55\"},{\"name\":\"\\u6700\\u5927\\u5206\\u4f4d\",\"yAxis\":0,\"data\":[[\"\\u6ede\\u540e1\\u671f\",0.1911],[\"\\u6ede\\u540e2\\u671f\",0.1912],[\"\\u6ede\\u540e3\\u671f\",0.1958],[\"\\u6ede\\u540e4\\u671f\",0.179],[\"\\u6ede\\u540e5\\u671f\",0.1854],[\"\\u6ede\\u540e6\\u671f\",0.1952],[\"\\u6ede\\u540e7\\u671f\",0.1823],[\"\\u6ede\\u540e8\\u671f\",0.193],[\"\\u6ede\\u540e9\\u671f\",0.183],[\"\\u6ede\\u540e10\\u671f\",0.1808]],\"color\":\"#648FD5\"}],\"xAxis\":{\"categories\":[\"\\u6ede\\u540e1\\u671f\",\"\\u6ede\\u540e2\\u671f\",\"\\u6ede\\u540e3\\u671f\",\"\\u6ede\\u540e4\\u671f\",\"\\u6ede\\u540e5\\u671f\",\"\\u6ede\\u540e6\\u671f\",\"\\u6ede\\u540e7\\u671f\",\"\\u6ede\\u540e8\\u671f\",\"\\u6ede\\u540e9\\u671f\",\"\\u6ede\\u540e10\\u671f\"]}}/bigcharts-data-end</pre></div><div class=\"type_title_left\"><p>因子估值分析<i class=\"fa fa-question-circle-o\" title=\"衡量因子估值高低，估值越低，该因子越可以加大配置。\"></i></p></div><div id=\"bigchart-51a502369a304f6d94731d40cf83d347\" class=\"bigchart\"></div><div class=\"bigchart-data\"><pre style=\"display:none\">bigcharts-data-start/{\"chart\":{\"height\":500,\"renderTo\":\"bigchart-51a502369a304f6d94731d40cf83d347\"},\"legend\":{\"enabled\":true},\"title\":{\"text\":\"PB\\u4f30\\u503c\\u5206\\u6790\"},\"stock\":true,\"series\":[{\"name\":\"1\\u5206\\u4f4d\\u6570\",\"yAxis\":0,\"data\":[[1609804800000,null],[1609891200000,1.4506],[1609977600000,1.403],[1610064000000,2.8402],[1610323200000,2.7756],[1610409600000,3.4469],[1610496000000,3.36],[1610582400000,1.3208],[1610668800000,1.3304],[1610928000000,2.7688],[1611014400000,2.6516],[1611100800000,3.7931],[1611187200000,3.9719],[1611273600000,2.3824],[1611532800000,2.4229],[1611619200000,2.9751],[1611705600000,3.0979],[1611792000000,3.035],[1611878400000,3.2793],[1612137600000,2.8043],[1612224000000,2.7339],[1612310400000,1.9388],[1612396800000,1.9092],[1612483200000,2.0823],[1612742400000,2.1328],[1612828800000,1.6647],[1612915200000,1.6488],[1613606400000,1.781],[1613692800000,1.8623],[1613952000000,3.1176],[1614038400000,2.9652],[1614124800000,2.5441],[1614211200000,2.4792],[1614297600000,2.0276],[1614556800000,2.108],[1614643200000,1.9189],[1614729600000,1.9225],[1614816000000,2.2365],[1614902400000,2.2171],[1615161600000,2.4128],[1615248000000,2.3596],[1615334400000,1.6975],[1615420800000,1.8367],[1615507200000,3.8906],[1615766400000,3.7657],[1615852800000,2.552],[1615939200000,2.5665],[1616025600000,1.7735],[1616112000000,1.6732],[1616371200000,2.1495],[1616457600000,2.0478],[1616544000000,1.7681],[1616630400000,1.8046],[1616716800000,2.4152],[1616976000000,2.3689],[1617062400000,2.4253],[1617148800000,2.4124],[1617235200000,1.9437],[1617321600000,1.9636],[1617667200000,2.1494],[1617753600000,2.276],[1617840000000,2.8326],[1617926400000,2.7754],[1618185600000,1.6918],[1618272000000,1.6519],[1618358400000,2.0272],[1618444800000,2.0217],[1618531200000,1.6368],[1618790400000,1.6378],[1618876800000,1.7972],[1618963200000,1.8086],[1619049600000,1.6503],[1619136000000,1.6298],[1619395200000,2.074],[1619481600000,2.0632],[1619568000000,1.7112],[1619654400000,1.6513],[1619740800000,1.781],[1620259200000,1.891],[1620345600000,1.9718],[1620604800000,2.0262],[1620691200000,1.4285],[1620777600000,1.3582],[1620864000000,1.6062],[1620950400000,1.6187],[1621209600000,1.9936],[1621296000000,1.9663],[1621382400000,2.0906],[1621468800000,2.0598],[1621555200000,1.6575],[1621814400000,1.6722],[1621900800000,1.9422],[1621987200000,1.9667],[1622073600000,2.2793],[1622160000000,2.2721],[1622419200000,1.6266],[1622505600000,1.6302],[1622592000000,3.1896],[1622678400000,3.0279],[1622764800000,3.5942],[1623024000000,3.6432],[1623110400000,2.1904],[1623196800000,2.172],[1623283200000,2.3122],[1623369600000,2.2379],[1623715200000,2.3504],[1623801600000,2.448],[1623888000000,2.6092],[1623974400000,2.6961],[1624233600000,2.1191],[1624320000000,2.118],[1624406400000,1.686],[1624492800000,1.635],[1624579200000,2.8572],[1624838400000,2.8842],[1624924800000,2.5977],[1625011200000,2.611],[1625097600000,2.1744],[1625184000000,2.1517],[1625443200000,2.14],[1625529600000,2.1658],[1625616000000,2.0763],[1625702400000,2.0818],[1625788800000,1.922],[1626048000000,2.0091],[1626134400000,1.9207],[1626220800000,1.9229],[1626307200000,2.0603],[1626393600000,2.0352],[1626652800000,2.7421],[1626739200000,2.7547],[1626825600000,1.8583],[1626912000000,1.8471],[1626998400000,2.2396],[1627257600000,2.2308],[1627344000000,2.2737],[1627430400000,2.2949],[1627516800000,3.0934],[1627603200000,3.0922],[1627862400000,2.3633],[1627948800000,2.3697],[1628035200000,2.6439],[1628121600000,2.6241],[1628208000000,2.9285],[1628467200000,2.8004],[1628553600000,2.3634],[1628640000000,2.4283],[1628726400000,2.0936],[1628812800000,2.0751],[1629072000000,1.7472],[1629158400000,1.6907],[1629244800000,2.0553],[1629331200000,1.946],[1629417600000,2.3607],[1629676800000,2.4732],[1629763200000,1.5787],[1629849600000,1.6008],[1629936000000,2.1499],[1630022400000,2.2889],[1630281600000,2.1531],[1630368000000,2.2583],[1630454400000,2.1755],[1630540800000,2.2621],[1630627200000,2.099],[1630886400000,2.0716],[1630972800000,2.3787],[1631059200000,2.4135],[1631145600000,2.4073],[1631232000000,2.512],[1631491200000,1.7477],[1631577600000,1.7183],[1631664000000,1.477],[1631750400000,1.4651],[1631836800000,1.8178],[1632268800000,1.8506],[1632355200000,1.6279],[1632441600000,1.6059],[1632700800000,1.6989],[1632787200000,1.7085],[1632873600000,2.2274],[1632960000000,2.2441],[1633651200000,2.2559],[1633910400000,2.3214],[1633996800000,2.0849],[1634083200000,2.0637],[1634169600000,1.6732],[1634256000000,1.8709],[1634515200000,1.8388],[1634601600000,1.935],[1634688000000,1.7323],[1634774400000,1.6751],[1634860800000,2.0716],[1635120000000,2.0561]],\"color\":\"#F08B55\"},{\"name\":\"2\\u5206\\u4f4d\\u6570\",\"yAxis\":0,\"data\":[[1609804800000,null],[1609891200000,2.2661],[1609977600000,2.2703],[1610064000000,1.9312],[1610323200000,1.9904],[1610409600000,1.9945],[1610496000000,1.9327],[1610582400000,2.7149],[1610668800000,2.4702],[1610928000000,2.4272],[1611014400000,2.4794],[1611100800000,1.854],[1611187200000,1.8732],[1611273600000,1.8644],[1611532800000,1.8617],[1611619200000,1.74],[1611705600000,1.7772],[1611792000000,2.0482],[1611878400000,2.0138],[1612137600000,2.3537],[1612224000000,2.359],[1612310400000,1.9489],[1612396800000,1.8912],[1612483200000,2.5125],[1612742400000,2.5214],[1612828800000,1.8093],[1612915200000,1.8104],[1613606400000,2.6111],[1613692800000,2.6467],[1613952000000,2.1836],[1614038400000,2.1602],[1614124800000,2.2965],[1614211200000,2.3019],[1614297600000,1.8899],[1614556800000,1.9119],[1614643200000,2.6841],[1614729600000,2.7212],[1614816000000,2.024],[1614902400000,1.964],[1615161600000,2.6363],[1615248000000,2.4911],[1615334400000,2.1558],[1615420800000,2.2159],[1615507200000,1.6381],[1615766400000,1.6406],[1615852800000,1.6794],[1615939200000,1.6536],[1616025600000,2.312],[1616112000000,2.3538],[1616371200000,2.1048],[1616457600000,2.0972],[1616544000000,2.1762],[1616630400000,2.1459],[1616716800000,2.6465],[1616976000000,2.6232],[1617062400000,2.4156],[1617148800000,2.4052],[1617235200000,2.5807],[1617321600000,2.5195],[1617667200000,1.9006],[1617753600000,1.9147],[1617840000000,1.7642],[1617926400000,1.752],[1618185600000,2.7212],[1618272000000,2.7209],[1618358400000,1.4413],[1618444800000,1.4213],[1618531200000,2.003],[1618790400000,2.0117],[1618876800000,2.2488],[1618963200000,2.2052],[1619049600000,2.0574],[1619136000000,2.0316],[1619395200000,1.7175],[1619481600000,1.7816],[1619568000000,2.3449],[1619654400000,2.3318],[1619740800000,2.9202],[1620259200000,3.0051],[1620345600000,2.0665],[1620604800000,2.0245],[1620691200000,2.2201],[1620777600000,2.2571],[1620864000000,2.2996],[1620950400000,2.2764],[1621209600000,1.9417],[1621296000000,1.9592],[1621382400000,2.6664],[1621468800000,2.6383],[1621555200000,2.7994],[1621814400000,2.8073],[1621900800000,2.0686],[1621987200000,2.1208],[1622073600000,2.3369],[1622160000000,2.387],[1622419200000,2.0955],[1622505600000,2.0911],[1622592000000,1.7969],[1622678400000,1.7793],[1622764800000,1.8981],[1623024000000,1.9284],[1623110400000,2.7075],[1623196800000,2.729],[1623283200000,2.2035],[1623369600000,2.1279],[1623715200000,1.2918],[1623801600000,1.2856],[1623888000000,1.4113],[1623974400000,1.3956],[1624233600000,1.6471],[1624320000000,1.6844],[1624406400000,2.1707],[1624492800000,2.1722],[1624579200000,2.4363],[1624838400000,2.4265],[1624924800000,2.5263],[1625011200000,2.522],[1625097600000,1.9429],[1625184000000,2.0185],[1625443200000,1.7013],[1625529600000,1.8686],[1625616000000,2.0441],[1625702400000,2.0081],[1625788800000,1.9473],[1626048000000,1.8526],[1626134400000,2.0981],[1626220800000,2.1369],[1626307200000,1.8067],[1626393600000,1.8728],[1626652800000,2.0819],[1626739200000,2.1098],[1626825600000,2.3292],[1626912000000,2.8489],[1626998400000,2.3991],[1627257600000,2.3069],[1627344000000,2.0578],[1627430400000,2.104],[1627516800000,2.0555],[1627603200000,2.0816],[1627862400000,2.184],[1627948800000,2.2422],[1628035200000,1.5513],[1628121600000,1.5608],[1628208000000,2.3477],[1628467200000,2.4157],[1628553600000,2.6548],[1628640000000,2.639],[1628726400000,2.5306],[1628812800000,2.5747],[1629072000000,3.0312],[1629158400000,2.9986],[1629244800000,2.997],[1629331200000,2.8063],[1629417600000,2.3523],[1629676800000,2.3368],[1629763200000,2.8588],[1629849600000,2.7983],[1629936000000,1.8929],[1630022400000,1.8927],[1630281600000,2.0729],[1630368000000,2.0716],[1630454400000,2.2874],[1630540800000,2.4941],[1630627200000,2.0417],[1630886400000,2.0831],[1630972800000,2.3157],[1631059200000,2.4102],[1631145600000,2.216],[1631232000000,2.1935],[1631491200000,2.7813],[1631577600000,2.7678],[1631664000000,2.4043],[1631750400000,2.3857],[1631836800000,3.0855],[1632268800000,3.0363],[1632355200000,3.3301],[1632441600000,3.3166],[1632700800000,2.3791],[1632787200000,2.4571],[1632873600000,2.2443],[1632960000000,2.2268],[1633651200000,1.2638],[1633910400000,1.2446],[1633996800000,1.8515],[1634083200000,1.739],[1634169600000,2.3408],[1634256000000,2.3834],[1634515200000,1.8698],[1634601600000,1.9077],[1634688000000,2.2488],[1634774400000,2.2349],[1634860800000,2.6464],[1635120000000,2.6587]],\"color\":\"#648FD5\"},{\"name\":\"3\\u5206\\u4f4d\\u6570\",\"yAxis\":0,\"data\":[[1609804800000,null],[1609891200000,2.5539],[1609977600000,2.4618],[1610064000000,1.8224],[1610323200000,1.7875],[1610409600000,1.6412],[1610496000000,1.6242],[1610582400000,2.4027],[1610668800000,2.5442],[1610928000000,1.7281],[1611014400000,1.8439],[1611100800000,2.0373],[1611187200000,2.0259],[1611273600000,1.8208],[1611532800000,1.8013],[1611619200000,1.8683],[1611705600000,1.873],[1611792000000,1.8887],[1611878400000,1.8622],[1612137600000,1.4269],[1612224000000,1.4146],[1612310400000,1.5558],[1612396800000,1.5541],[1612483200000,1.7279],[1612742400000,1.8548],[1612828800000,2.7969],[1612915200000,2.7464],[1613606400000,2.0286],[1613692800000,2.145],[1613952000000,1.4531],[1614038400000,1.3993],[1614124800000,1.694],[1614211200000,1.6062],[1614297600000,2.1365],[1614556800000,2.1804],[1614643200000,1.8178],[1614729600000,1.8581],[1614816000000,2.4097],[1614902400000,2.4723],[1615161600000,1.5045],[1615248000000,1.5068],[1615334400000,2.2374],[1615420800000,2.3094],[1615507200000,1.6077],[1615766400000,1.621],[1615852800000,2.3683],[1615939200000,2.3608],[1616025600000,1.7501],[1616112000000,1.7111],[1616371200000,2.1073],[1616457600000,2.0806],[1616544000000,2.1436],[1616630400000,2.1565],[1616716800000,1.8243],[1616976000000,1.8028],[1617062400000,1.6362],[1617148800000,1.666],[1617235200000,2.2244],[1617321600000,2.1791],[1617667200000,2.181],[1617753600000,2.1967],[1617840000000,2.0254],[1617926400000,2.0188],[1618185600000,2.2934],[1618272000000,2.2397],[1618358400000,2.4267],[1618444800000,2.4899],[1618531200000,2.3149],[1618790400000,2.3063],[1618876800000,2.8042],[1618963200000,2.8],[1619049600000,2.3043],[1619136000000,2.28],[1619395200000,1.9763],[1619481600000,1.9628],[1619568000000,1.7078],[1619654400000,1.7134],[1619740800000,1.6824],[1620259200000,1.7258],[1620345600000,2.9889],[1620604800000,3.0813],[1620691200000,2.9536],[1620777600000,3.031],[1620864000000,2.0471],[1620950400000,1.9877],[1621209600000,2.1127],[1621296000000,2.1469],[1621382400000,1.8378],[1621468800000,1.9309],[1621555200000,2.4241],[1621814400000,2.4816],[1621900800000,1.7291],[1621987200000,1.7785],[1622073600000,1.7819],[1622160000000,1.7901],[1622419200000,2.7949],[1622505600000,2.7684],[1622592000000,2.2105],[1622678400000,2.2252],[1622764800000,2.0482],[1623024000000,2.0587],[1623110400000,1.6343],[1623196800000,1.6958],[1623283200000,2.0884],[1623369600000,2.0965],[1623715200000,2.2893],[1623801600000,2.2683],[1623888000000,2.456],[1623974400000,2.4711],[1624233600000,2.2566],[1624320000000,2.2935],[1624406400000,2.1685],[1624492800000,2.2127],[1624579200000,1.7876],[1624838400000,1.8055],[1624924800000,2.136],[1625011200000,2.1259],[1625097600000,2.7375],[1625184000000,2.7759],[1625443200000,1.9639],[1625529600000,2.0221],[1625616000000,1.7584],[1625702400000,1.7402],[1625788800000,2.2195],[1626048000000,2.2971],[1626134400000,2.7654],[1626220800000,2.7292],[1626307200000,2.368],[1626393600000,2.3838],[1626652800000,1.8584],[1626739200000,1.9104],[1626825600000,2.191],[1626912000000,2.1849],[1626998400000,2.3319],[1627257600000,2.2984],[1627344000000,1.9049],[1627430400000,1.8465],[1627516800000,1.2447],[1627603200000,1.2727],[1627862400000,1.6583],[1627948800000,1.6644],[1628035200000,2.2608],[1628121600000,2.2085],[1628208000000,1.1699],[1628467200000,1.1915],[1628553600000,1.5311],[1628640000000,1.5663],[1628726400000,2.2043],[1628812800000,2.2058],[1629072000000,2.2396],[1629158400000,2.2111],[1629244800000,2.5521],[1629331200000,2.5751],[1629417600000,1.7818],[1629676800000,1.7901],[1629763200000,2.2689],[1629849600000,2.3781],[1629936000000,2.1445],[1630022400000,2.1592],[1630281600000,2.0363],[1630368000000,2.0999],[1630454400000,2.0539],[1630540800000,2.0916],[1630627200000,1.8956],[1630886400000,1.906],[1630972800000,2.5273],[1631059200000,2.5285],[1631145600000,2.529],[1631232000000,2.5241],[1631491200000,2.523],[1631577600000,2.5394],[1631664000000,2.4705],[1631750400000,2.4719],[1631836800000,1.924],[1632268800000,1.921],[1632355200000,2.5539],[1632441600000,2.488],[1632700800000,2.4835],[1632787200000,2.4893],[1632873600000,1.8265],[1632960000000,1.8177],[1633651200000,2.8135],[1633910400000,2.8308],[1633996800000,2.3167],[1634083200000,2.2945],[1634169600000,1.8962],[1634256000000,1.8929],[1634515200000,2.3475],[1634601600000,2.3995],[1634688000000,2.4401],[1634774400000,2.3219],[1634860800000,1.8755],[1635120000000,2.0159]],\"color\":\"#E06681\"},{\"name\":\"4\\u5206\\u4f4d\\u6570\",\"yAxis\":0,\"data\":[[1609804800000,null],[1609891200000,1.987],[1609977600000,2.0011],[1610064000000,1.4976],[1610323200000,1.4387],[1610409600000,1.7528],[1610496000000,1.7804],[1610582400000,1.746],[1610668800000,1.7086],[1610928000000,1.3264],[1611014400000,1.3771],[1611100800000,1.495],[1611187200000,1.4877],[1611273600000,1.5502],[1611532800000,1.5634],[1611619200000,1.6443],[1611705600000,1.6442],[1611792000000,1.475],[1611878400000,1.4763],[1612137600000,1.5472],[1612224000000,1.5277],[1612310400000,2.0205],[1612396800000,2.0728],[1612483200000,1.3491],[1612742400000,1.3673],[1612828800000,1.6378],[1612915200000,1.6405],[1613606400000,1.5865],[1613692800000,1.5442],[1613952000000,2.5573],[1614038400000,2.568],[1614124800000,1.4329],[1614211200000,1.4416],[1614297600000,1.8152],[1614556800000,1.9395],[1614643200000,1.2681],[1614729600000,1.3439],[1614816000000,1.9438],[1614902400000,2.0008],[1615161600000,1.9935],[1615248000000,1.9118],[1615334400000,1.2986],[1615420800000,1.372],[1615507200000,1.9873],[1615766400000,2.0153],[1615852800000,1.9238],[1615939200000,1.9649],[1616025600000,1.9238],[1616112000000,1.9099],[1616371200000,1.7872],[1616457600000,1.7445],[1616544000000,1.9363],[1616630400000,1.9693],[1616716800000,1.5427],[1616976000000,1.5176],[1617062400000,1.6406],[1617148800000,1.6773],[1617235200000,1.3559],[1617321600000,1.3397],[1617667200000,2.1566],[1617753600000,2.2292],[1617840000000,1.6926],[1617926400000,1.7257],[1618185600000,1.6363],[1618272000000,1.6521],[1618358400000,2.8021],[1618444800000,2.8499],[1618531200000,2.2271],[1618790400000,2.2718],[1618876800000,1.5635],[1618963200000,1.5676],[1619049600000,2.2407],[1619136000000,2.2456],[1619395200000,2.5427],[1619481600000,2.6139],[1619568000000,1.8982],[1619654400000,1.8751],[1619740800000,1.8246],[1620259200000,1.8686],[1620345600000,1.5833],[1620604800000,1.6689],[1620691200000,1.9773],[1620777600000,1.9934],[1620864000000,2.5919],[1620950400000,2.5476],[1621209600000,2.5421],[1621296000000,2.5371],[1621382400000,1.6284],[1621468800000,1.646],[1621555200000,1.477],[1621814400000,1.5135],[1621900800000,2.3373],[1621987200000,2.3112],[1622073600000,2.0471],[1622160000000,2.0493],[1622419200000,1.9864],[1622505600000,1.9002],[1622592000000,1.4609],[1622678400000,1.466],[1622764800000,1.2991],[1623024000000,1.2802],[1623110400000,2.1023],[1623196800000,2.1214],[1623283200000,1.5323],[1623369600000,1.5804],[1623715200000,1.7449],[1623801600000,1.7165],[1623888000000,1.7463],[1623974400000,1.7769],[1624233600000,2.3301],[1624320000000,2.3661],[1624406400000,2.1621],[1624492800000,2.1503],[1624579200000,1.8454],[1624838400000,1.7969],[1624924800000,1.168],[1625011200000,1.2802],[1625097600000,1.4852],[1625184000000,1.4728],[1625443200000,2.3279],[1625529600000,2.3337],[1625616000000,2.8055],[1625702400000,2.8137],[1625788800000,1.9359],[1626048000000,2.046],[1626134400000,2.3074],[1626220800000,2.2059],[1626307200000,2.9403],[1626393600000,3.0024],[1626652800000,1.9794],[1626739200000,2.024],[1626825600000,2.1591],[1626912000000,2.1521],[1626998400000,1.3459],[1627257600000,1.2884],[1627344000000,1.2668],[1627430400000,1.2228],[1627516800000,1.9539],[1627603200000,1.9816],[1627862400000,1.7723],[1627948800000,1.747],[1628035200000,1.6137],[1628121600000,1.6082],[1628208000000,2.1602],[1628467200000,2.1551],[1628553600000,1.7608],[1628640000000,1.8702],[1628726400000,1.6894],[1628812800000,1.6155],[1629072000000,1.8322],[1629158400000,1.7972],[1629244800000,1.3426],[1629331200000,1.3029],[1629417600000,1.7832],[1629676800000,1.8259],[1629763200000,1.4621],[1629849600000,1.5118],[1629936000000,1.9819],[1630022400000,2.0294],[1630281600000,1.7647],[1630368000000,1.7591],[1630454400000,1.5767],[1630540800000,1.5785],[1630627200000,2.8465],[1630886400000,2.7833],[1630972800000,1.4777],[1631059200000,1.4906],[1631145600000,1.7051],[1631232000000,1.641],[1631491200000,2.4011],[1631577600000,2.293],[1631664000000,2.475],[1631750400000,2.4995],[1631836800000,2.3924],[1632268800000,2.4206],[1632355200000,2.4421],[1632441600000,2.3334],[1632700800000,1.9228],[1632787200000,2.1895],[1632873600000,1.8239],[1632960000000,1.8265],[1633651200000,2.3958],[1633910400000,2.4152],[1633996800000,2.3058],[1634083200000,2.207],[1634169600000,2.4001],[1634256000000,2.2718],[1634515200000,2.2413],[1634601600000,2.3241],[1634688000000,2.0904],[1634774400000,2.1638],[1634860800000,1.3538],[1635120000000,1.3535]],\"color\":\"#E2D269\"},{\"name\":\"5\\u5206\\u4f4d\\u6570\",\"yAxis\":0,\"data\":[[1609804800000,null],[1609891200000,1.9176],[1609977600000,1.864],[1610064000000,2.7123],[1610323200000,2.6386],[1610409600000,2.1836],[1610496000000,2.2273],[1610582400000,1.8901],[1610668800000,1.8645],[1610928000000,2.2256],[1611014400000,2.2735],[1611100800000,2.2495],[1611187200000,2.3278],[1611273600000,2.5701],[1611532800000,2.466],[1611619200000,2.1957],[1611705600000,2.2536],[1611792000000,2.1653],[1611878400000,2.1067],[1612137600000,2.4],[1612224000000,2.3201],[1612310400000,2.4001],[1612396800000,2.3569],[1612483200000,2.0853],[1612742400000,2.1213],[1612828800000,2.2218],[1612915200000,2.1442],[1613606400000,2.0027],[1613692800000,2.0202],[1613952000000,1.9688],[1614038400000,1.9613],[1614124800000,2.6543],[1614211200000,2.7187],[1614297600000,2.271],[1614556800000,2.3492],[1614643200000,2.4895],[1614729600000,2.3993],[1614816000000,1.8846],[1614902400000,1.876],[1615161600000,1.8806],[1615248000000,1.9148],[1615334400000,2.3024],[1615420800000,2.3744],[1615507200000,1.9355],[1615766400000,1.9431],[1615852800000,1.8683],[1615939200000,1.9008],[1616025600000,2.3719],[1616112000000,2.3291],[1616371200000,2.1393],[1616457600000,2.1623],[1616544000000,1.8068],[1616630400000,1.9166],[1616716800000,2.0682],[1616976000000,2.1247],[1617062400000,2.3231],[1617148800000,2.2593],[1617235200000,2.5471],[1617321600000,2.4702],[1617667200000,1.7361],[1617753600000,1.8356],[1617840000000,2.4114],[1617926400000,2.4104],[1618185600000,1.985],[1618272000000,1.9748],[1618358400000,1.8753],[1618444800000,1.8952],[1618531200000,2.0694],[1618790400000,2.0515],[1618876800000,2.11],[1618963200000,2.064],[1619049600000,1.6613],[1619136000000,1.6634],[1619395200000,1.8609],[1619481600000,1.9029],[1619568000000,2.2106],[1619654400000,2.1922],[1619740800000,1.9323],[1620259200000,1.906],[1620345600000,1.7356],[1620604800000,1.7085],[1620691200000,2.0519],[1620777600000,2.0262],[1620864000000,1.9189],[1620950400000,1.9924],[1621209600000,1.8145],[1621296000000,1.8978],[1621382400000,2.1052],[1621468800000,2.1743],[1621555200000,2.052],[1621814400000,2.0576],[1621900800000,2.2147],[1621987200000,2.2362],[1622073600000,1.9919],[1622160000000,1.9905],[1622419200000,2.2326],[1622505600000,2.2719],[1622592000000,2.3373],[1622678400000,2.2046],[1622764800000,2.5506],[1623024000000,2.5332],[1623110400000,2.1959],[1623196800000,2.1745],[1623283200000,2.6982],[1623369600000,2.6652],[1623715200000,2.4307],[1623801600000,2.3917],[1623888000000,2.0438],[1623974400000,1.9707],[1624233600000,1.9705],[1624320000000,1.9823],[1624406400000,2.1058],[1624492800000,2.1658],[1624579200000,2.4017],[1624838400000,2.4654],[1624924800000,1.9283],[1625011200000,2.0165],[1625097600000,2.1723],[1625184000000,2.1219],[1625443200000,2.0979],[1625529600000,2.1438],[1625616000000,1.9998],[1625702400000,1.8346],[1625788800000,2.0897],[1626048000000,2.1189],[1626134400000,1.948],[1626220800000,1.944],[1626307200000,1.7795],[1626393600000,1.8302],[1626652800000,2.1843],[1626739200000,2.1491],[1626825600000,2.1841],[1626912000000,2.3029],[1626998400000,2.3842],[1627257600000,2.3433],[1627344000000,2.2498],[1627430400000,2.1374],[1627516800000,2.1791],[1627603200000,2.2051],[1627862400000,2.2912],[1627948800000,2.1683],[1628035200000,1.9763],[1628121600000,1.9582],[1628208000000,2.1139],[1628467200000,2.185],[1628553600000,2.1726],[1628640000000,2.1956],[1628726400000,2.2956],[1628812800000,2.3026],[1629072000000,2.4513],[1629158400000,2.3581],[1629244800000,2.1332],[1629331200000,2.108],[1629417600000,1.9035],[1629676800000,1.8919],[1629763200000,2.3977],[1629849600000,2.2847],[1629936000000,2.411],[1630022400000,2.4186],[1630281600000,2.8147],[1630368000000,2.8002],[1630454400000,2.5016],[1630540800000,2.6027],[1630627200000,2.1684],[1630886400000,2.1421],[1630972800000,2.6844],[1631059200000,2.694],[1631145600000,2.7187],[1631232000000,2.6449],[1631491200000,2.0999],[1631577600000,2.0737],[1631664000000,2.4309],[1631750400000,2.4093],[1631836800000,2.0279],[1632268800000,2.0797],[1632355200000,1.953],[1632441600000,1.9244],[1632700800000,1.9369],[1632787200000,2.0102],[1632873600000,2.5061],[1632960000000,2.5523],[1633651200000,1.9676],[1633910400000,1.9204],[1633996800000,2.0107],[1634083200000,2.0555],[1634169600000,2.0894],[1634256000000,1.9757],[1634515200000,2.2916],[1634601600000,2.2939],[1634688000000,2.3043],[1634774400000,2.3175],[1634860800000,2.6565],[1635120000000,2.5448]],\"color\":\"#4A8E8E\"},{\"name\":\"\\u6700\\u5c0f\\/\\u6700\\u5927\\u5206\\u4f4d\",\"yAxis\":0,\"data\":[[1609804800000,null],[1609891200000,0.7565],[1609977600000,0.7527],[1610064000000,1.0472],[1610323200000,1.0519],[1610409600000,1.5785],[1610496000000,1.5085],[1610582400000,0.6988],[1610668800000,0.7136],[1610928000000,1.2441],[1611014400000,1.1664],[1611100800000,1.6862],[1611187200000,1.7063],[1611273600000,0.927],[1611532800000,0.9825],[1611619200000,1.355],[1611705600000,1.3747],[1611792000000,1.4016],[1611878400000,1.5566],[1612137600000,1.1684],[1612224000000,1.1784],[1612310400000,0.8078],[1612396800000,0.81],[1612483200000,0.9986],[1612742400000,1.0054],[1612828800000,0.7493],[1612915200000,0.769],[1613606400000,0.8893],[1613692800000,0.9219],[1613952000000,1.5835],[1614038400000,1.5119],[1614124800000,0.9585],[1614211200000,0.9119],[1614297600000,0.8928],[1614556800000,0.8973],[1614643200000,0.7708],[1614729600000,0.8013],[1614816000000,1.1868],[1614902400000,1.1818],[1615161600000,1.283],[1615248000000,1.2323],[1615334400000,0.7373],[1615420800000,0.7735],[1615507200000,2.0101],[1615766400000,1.938],[1615852800000,1.366],[1615939200000,1.3502],[1616025600000,0.7477],[1616112000000,0.7184],[1616371200000,1.0047],[1616457600000,0.947],[1616544000000,0.9786],[1616630400000,0.9416],[1616716800000,1.1678],[1616976000000,1.1149],[1617062400000,1.044],[1617148800000,1.0677],[1617235200000,0.7631],[1617321600000,0.7949],[1617667200000,1.238],[1617753600000,1.2399],[1617840000000,1.1747],[1617926400000,1.1514],[1618185600000,0.8523],[1618272000000,0.8365],[1618358400000,1.081],[1618444800000,1.0667],[1618531200000,0.791],[1618790400000,0.7984],[1618876800000,0.8518],[1618963200000,0.8762],[1619049600000,0.9934],[1619136000000,0.9798],[1619395200000,1.1145],[1619481600000,1.0843],[1619568000000,0.7741],[1619654400000,0.7533],[1619740800000,0.9217],[1620259200000,0.9922],[1620345600000,1.1361],[1620604800000,1.186],[1620691200000,0.6962],[1620777600000,0.6703],[1620864000000,0.837],[1620950400000,0.8124],[1621209600000,1.0987],[1621296000000,1.0361],[1621382400000,0.9931],[1621468800000,0.9473],[1621555200000,0.8077],[1621814400000,0.8127],[1621900800000,0.877],[1621987200000,0.8795],[1622073600000,1.1443],[1622160000000,1.1414],[1622419200000,0.7285],[1622505600000,0.7175],[1622592000000,1.3646],[1622678400000,1.3734],[1622764800000,1.4092],[1623024000000,1.4382],[1623110400000,0.9975],[1623196800000,0.9989],[1623283200000,0.857],[1623369600000,0.8397],[1623715200000,0.967],[1623801600000,1.0236],[1623888000000,1.2766],[1623974400000,1.3681],[1624233600000,1.0754],[1624320000000,1.0685],[1624406400000,0.8006],[1624492800000,0.7549],[1624579200000,1.1897],[1624838400000,1.1699],[1624924800000,1.3472],[1625011200000,1.2948],[1625097600000,1.0009],[1625184000000,1.0141],[1625443200000,1.0201],[1625529600000,1.0103],[1625616000000,1.0382],[1625702400000,1.1348],[1625788800000,0.9198],[1626048000000,0.9482],[1626134400000,0.986],[1626220800000,0.9891],[1626307200000,1.1578],[1626393600000,1.112],[1626652800000,1.2553],[1626739200000,1.2818],[1626825600000,0.8508],[1626912000000,0.8021],[1626998400000,0.9394],[1627257600000,0.952],[1627344000000,1.0106],[1627430400000,1.0737],[1627516800000,1.4196],[1627603200000,1.4023],[1627862400000,1.0315],[1627948800000,1.0929],[1628035200000,1.3378],[1628121600000,1.34],[1628208000000,1.3854],[1628467200000,1.2817],[1628553600000,1.0878],[1628640000000,1.106],[1628726400000,0.912],[1628812800000,0.9012],[1629072000000,0.7128],[1629158400000,0.717],[1629244800000,0.9635],[1629331200000,0.9232],[1629417600000,1.2402],[1629676800000,1.3073],[1629763200000,0.6584],[1629849600000,0.7007],[1629936000000,0.8917],[1630022400000,0.9464],[1630281600000,0.7649],[1630368000000,0.8065],[1630454400000,0.8696],[1630540800000,0.8691],[1630627200000,0.968],[1630886400000,0.9671],[1630972800000,0.8861],[1631059200000,0.8959],[1631145600000,0.8854],[1631232000000,0.9497],[1631491200000,0.8323],[1631577600000,0.8286],[1631664000000,0.6076],[1631750400000,0.6081],[1631836800000,0.8964],[1632268800000,0.8898],[1632355200000,0.8335],[1632441600000,0.8345],[1632700800000,0.8772],[1632787200000,0.8499],[1632873600000,0.8888],[1632960000000,0.8793],[1633651200000,1.1465],[1633910400000,1.2088],[1633996800000,1.0369],[1634083200000,1.004],[1634169600000,0.8008],[1634256000000,0.947],[1634515200000,0.8024],[1634601600000,0.8435],[1634688000000,0.7518],[1634774400000,0.7228],[1634860800000,0.7798],[1635120000000,0.808]]}],\"xAxis\":{\"title\":{\"text\":\"date\"},\"type\":\"datetime\"},\"plotOptions\":{\"series\":{\"compare\":\"percent\"}}}/bigcharts-data-end</pre></div><div class=\"type_title_left\"><p>因子拥挤度分析<i class=\"fa fa-question-circle-o\" title=\"衡量因子拥挤度。使用换手率衡量，换手率越高，拥挤度越高。\"></i></p></div><div id=\"bigchart-c18dba2911e34049a8dafe9622f7effd\" class=\"bigchart\"></div><div class=\"bigchart-data\"><pre style=\"display:none\">bigcharts-data-start/{\"chart\":{\"height\":500,\"renderTo\":\"bigchart-c18dba2911e34049a8dafe9622f7effd\"},\"legend\":{\"enabled\":true},\"title\":{\"text\":\"\\u6362\\u624b\\u7387\\u5206\\u6790\"},\"stock\":true,\"series\":[{\"name\":\"1\\u5206\\u4f4d\\u6570\",\"yAxis\":0,\"data\":[[1609804800000,null],[1609891200000,1.4455],[1609977600000,1.599],[1610064000000,2.2498],[1610323200000,2.3629],[1610409600000,2.1286],[1610496000000,2.4034],[1610582400000,1.5689],[1610668800000,1.3741],[1610928000000,1.4797],[1611014400000,1.4807],[1611100800000,1.6026],[1611187200000,2.0758],[1611273600000,1.9915],[1611532800000,2.2289],[1611619200000,1.6558],[1611705600000,1.6353],[1611792000000,1.9416],[1611878400000,1.857],[1612137600000,2.1422],[1612224000000,2.0836],[1612310400000,1.4777],[1612396800000,1.4315],[1612483200000,1.4735],[1612742400000,1.4691],[1612828800000,1.411],[1612915200000,1.3211],[1613606400000,1.7539],[1613692800000,1.8475],[1613952000000,2.8186],[1614038400000,2.3763],[1614124800000,2.0671],[1614211200000,1.896],[1614297600000,1.5123],[1614556800000,1.8276],[1614643200000,1.8368],[1614729600000,1.6585],[1614816000000,1.6903],[1614902400000,1.6722],[1615161600000,1.7555],[1615248000000,1.8655],[1615334400000,1.4188],[1615420800000,1.4952],[1615507200000,1.5588],[1615766400000,1.374],[1615852800000,1.7933],[1615939200000,1.5651],[1616025600000,1.4263],[1616112000000,1.4586],[1616371200000,1.5053],[1616457600000,1.6207],[1616544000000,1.3497],[1616630400000,1.2329],[1616716800000,1.5128],[1616976000000,1.4576],[1617062400000,1.4689],[1617148800000,1.276],[1617235200000,1.1052],[1617321600000,1.1989],[1617667200000,1.5551],[1617753600000,1.8298],[1617840000000,1.3814],[1617926400000,1.2367],[1618185600000,1.2816],[1618272000000,1.1065],[1618358400000,1.0198],[1618444800000,1.0933],[1618531200000,1.4535],[1618790400000,1.6532],[1618876800000,1.7126],[1618963200000,1.5882],[1619049600000,1.202],[1619136000000,1.229],[1619395200000,1.9697],[1619481600000,1.5559],[1619568000000,1.4299],[1619654400000,1.5005],[1619740800000,1.2815],[1620259200000,1.3532],[1620345600000,1.7759],[1620604800000,1.9048],[1620691200000,1.3312],[1620777600000,1.0183],[1620864000000,1.6878],[1620950400000,1.7225],[1621209600000,1.9066],[1621296000000,1.7237],[1621382400000,1.5788],[1621468800000,1.9166],[1621555200000,1.1764],[1621814400000,1.196],[1621900800000,1.8053],[1621987200000,1.9289],[1622073600000,1.5785],[1622160000000,1.6137],[1622419200000,1.4626],[1622505600000,1.6924],[1622592000000,1.8761],[1622678400000,1.6721],[1622764800000,1.5757],[1623024000000,1.6104],[1623110400000,1.6979],[1623196800000,1.5775],[1623283200000,2.3182],[1623369600000,2.4452],[1623715200000,1.8908],[1623801600000,1.7265],[1623888000000,1.7763],[1623974400000,2.0454],[1624233600000,1.6024],[1624320000000,1.4476],[1624406400000,1.953],[1624492800000,1.6366],[1624579200000,1.9154],[1624838400000,1.9735],[1624924800000,1.4519],[1625011200000,1.3853],[1625097600000,1.4109],[1625184000000,1.278],[1625443200000,1.1531],[1625529600000,1.2942],[1625616000000,1.8109],[1625702400000,2.4663],[1625788800000,1.7716],[1626048000000,2.6394],[1626134400000,1.6897],[1626220800000,1.6013],[1626307200000,1.8886],[1626393600000,2.1381],[1626652800000,1.9881],[1626739200000,1.6889],[1626825600000,1.5359],[1626912000000,1.6514],[1626998400000,2.6116],[1627257600000,2.7821],[1627344000000,2.4391],[1627430400000,2.3184],[1627516800000,2.2563],[1627603200000,2.3051],[1627862400000,2.7865],[1627948800000,2.6705],[1628035200000,1.9878],[1628121600000,1.9661],[1628208000000,1.6042],[1628467200000,1.617],[1628553600000,1.9343],[1628640000000,2.1945],[1628726400000,1.803],[1628812800000,1.8673],[1629072000000,1.4386],[1629158400000,1.6984],[1629244800000,1.5863],[1629331200000,1.6711],[1629417600000,1.9056],[1629676800000,1.8767],[1629763200000,1.7718],[1629849600000,1.766],[1629936000000,2.5372],[1630022400000,2.7156],[1630281600000,2.87],[1630368000000,2.822],[1630454400000,2.8219],[1630540800000,2.7024],[1630627200000,2.1794],[1630886400000,1.9386],[1630972800000,2.6481],[1631059200000,3.0097],[1631145600000,2.2264],[1631232000000,2.1458],[1631491200000,1.9879],[1631577600000,2.2411],[1631664000000,1.7047],[1631750400000,2.0557],[1631836800000,1.9018],[1632268800000,1.8364],[1632355200000,1.464],[1632441600000,1.3242],[1632700800000,1.8756],[1632787200000,1.372],[1632873600000,1.9543],[1632960000000,1.8285],[1633651200000,1.5325],[1633910400000,1.5097],[1633996800000,1.6028],[1634083200000,1.5406],[1634169600000,1.2615],[1634256000000,1.3733],[1634515200000,1.7607],[1634601600000,1.6872],[1634688000000,1.4756],[1634774400000,1.4287],[1634860800000,1.3859],[1635120000000,1.3518]],\"color\":\"#F08B55\"},{\"name\":\"2\\u5206\\u4f4d\\u6570\",\"yAxis\":0,\"data\":[[1609804800000,null],[1609891200000,2.3185],[1609977600000,2.536],[1610064000000,2.1184],[1610323200000,2.3924],[1610409600000,1.8616],[1610496000000,2.2278],[1610582400000,2.2767],[1610668800000,1.8067],[1610928000000,1.521],[1611014400000,1.9539],[1611100800000,1.4887],[1611187200000,1.7027],[1611273600000,1.5998],[1611532800000,1.7097],[1611619200000,1.7728],[1611705600000,1.8185],[1611792000000,1.6789],[1611878400000,1.7132],[1612137600000,1.4097],[1612224000000,1.6351],[1612310400000,1.6945],[1612396800000,1.856],[1612483200000,1.593],[1612742400000,1.3835],[1612828800000,1.2545],[1612915200000,1.3435],[1613606400000,1.843],[1613692800000,1.8199],[1613952000000,2.3535],[1614038400000,1.9459],[1614124800000,1.3982],[1614211200000,1.3629],[1614297600000,1.656],[1614556800000,1.4124],[1614643200000,1.6521],[1614729600000,1.7137],[1614816000000,1.7355],[1614902400000,1.6108],[1615161600000,2.0918],[1615248000000,2.0849],[1615334400000,1.1614],[1615420800000,1.1858],[1615507200000,1.4126],[1615766400000,1.3348],[1615852800000,1.5039],[1615939200000,1.2731],[1616025600000,1.4784],[1616112000000,1.7334],[1616371200000,1.8105],[1616457600000,1.8208],[1616544000000,1.2131],[1616630400000,0.9784],[1616716800000,1.1045],[1616976000000,1.1878],[1617062400000,1.0313],[1617148800000,0.9559],[1617235200000,1.386],[1617321600000,1.5734],[1617667200000,1.107],[1617753600000,1.2386],[1617840000000,1.5348],[1617926400000,1.2524],[1618185600000,1.4313],[1618272000000,1.2568],[1618358400000,0.8877],[1618444800000,0.9279],[1618531200000,1.2086],[1618790400000,1.3843],[1618876800000,1.8409],[1618963200000,1.468],[1619049600000,1.4443],[1619136000000,1.3384],[1619395200000,1.2616],[1619481600000,1.1153],[1619568000000,1.4319],[1619654400000,1.5205],[1619740800000,1.8373],[1620259200000,1.6188],[1620345600000,1.4116],[1620604800000,1.4355],[1620691200000,1.9658],[1620777600000,1.6899],[1620864000000,1.3976],[1620950400000,1.3182],[1621209600000,1.5537],[1621296000000,1.1888],[1621382400000,1.5669],[1621468800000,1.717],[1621555200000,1.575],[1621814400000,1.522],[1621900800000,1.1622],[1621987200000,1.4569],[1622073600000,1.6022],[1622160000000,1.7893],[1622419200000,1.508],[1622505600000,1.3838],[1622592000000,1.5229],[1622678400000,1.4317],[1622764800000,1.5727],[1623024000000,1.6392],[1623110400000,1.4068],[1623196800000,1.2711],[1623283200000,1.7587],[1623369600000,1.7518],[1623715200000,1.4576],[1623801600000,1.2756],[1623888000000,0.9624],[1623974400000,1.0106],[1624233600000,1.2579],[1624320000000,1.3674],[1624406400000,2.0062],[1624492800000,1.8014],[1624579200000,1.3678],[1624838400000,1.3122],[1624924800000,1.8863],[1625011200000,1.5944],[1625097600000,1.4898],[1625184000000,1.5687],[1625443200000,1.9203],[1625529600000,2.1626],[1625616000000,1.5234],[1625702400000,1.6151],[1625788800000,1.9047],[1626048000000,1.9351],[1626134400000,1.846],[1626220800000,1.8361],[1626307200000,1.7245],[1626393600000,1.8932],[1626652800000,1.8928],[1626739200000,1.5321],[1626825600000,1.7999],[1626912000000,1.9786],[1626998400000,2.4811],[1627257600000,2.3636],[1627344000000,1.9228],[1627430400000,1.8051],[1627516800000,1.8644],[1627603200000,1.9895],[1627862400000,2.3564],[1627948800000,2.2448],[1628035200000,1.4578],[1628121600000,1.5051],[1628208000000,1.9223],[1628467200000,2.0656],[1628553600000,2.2942],[1628640000000,2.1725],[1628726400000,2.138],[1628812800000,1.9644],[1629072000000,1.8769],[1629158400000,1.9569],[1629244800000,2.0237],[1629331200000,2.2978],[1629417600000,1.8633],[1629676800000,2.0712],[1629763200000,1.7457],[1629849600000,1.6792],[1629936000000,1.6968],[1630022400000,1.6753],[1630281600000,2.4777],[1630368000000,2.4771],[1630454400000,2.1525],[1630540800000,1.8247],[1630627200000,1.8003],[1630886400000,1.8194],[1630972800000,1.8298],[1631059200000,2.1147],[1631145600000,1.8096],[1631232000000,1.8478],[1631491200000,2.6889],[1631577600000,2.9892],[1631664000000,1.6982],[1631750400000,2.6417],[1631836800000,2.3413],[1632268800000,1.9538],[1632355200000,2.1368],[1632441600000,2.3138],[1632700800000,2.5333],[1632787200000,1.6265],[1632873600000,1.1767],[1632960000000,1.0469],[1633651200000,1.2312],[1633910400000,1.1521],[1633996800000,1.6637],[1634083200000,1.3629],[1634169600000,1.0458],[1634256000000,1.2439],[1634515200000,1.1036],[1634601600000,1.0924],[1634688000000,1.7309],[1634774400000,1.6457],[1634860800000,1.7537],[1635120000000,1.5459]],\"color\":\"#648FD5\"},{\"name\":\"3\\u5206\\u4f4d\\u6570\",\"yAxis\":0,\"data\":[[1609804800000,null],[1609891200000,1.9417],[1609977600000,2.1536],[1610064000000,1.5657],[1610323200000,1.6621],[1610409600000,1.7266],[1610496000000,1.9934],[1610582400000,1.5697],[1610668800000,1.3613],[1610928000000,1.7129],[1611014400000,1.9073],[1611100800000,1.481],[1611187200000,1.8354],[1611273600000,2.1164],[1611532800000,2.206],[1611619200000,1.7643],[1611705600000,1.7927],[1611792000000,1.9813],[1611878400000,1.8718],[1612137600000,0.9288],[1612224000000,1.0802],[1612310400000,1.3922],[1612396800000,1.4207],[1612483200000,1.3498],[1612742400000,1.2189],[1612828800000,1.5044],[1612915200000,1.475],[1613606400000,1.9847],[1613692800000,1.9417],[1613952000000,2.0],[1614038400000,1.3827],[1614124800000,2.1674],[1614211200000,1.9266],[1614297600000,1.5315],[1614556800000,1.474],[1614643200000,1.7795],[1614729600000,1.6332],[1614816000000,1.6723],[1614902400000,1.5098],[1615161600000,1.4],[1615248000000,1.5276],[1615334400000,1.2826],[1615420800000,1.1756],[1615507200000,1.5227],[1615766400000,1.4656],[1615852800000,1.0958],[1615939200000,1.0424],[1616025600000,1.4625],[1616112000000,1.5436],[1616371200000,1.259],[1616457600000,1.0828],[1616544000000,1.681],[1616630400000,1.4384],[1616716800000,1.2188],[1616976000000,1.3665],[1617062400000,1.409],[1617148800000,1.389],[1617235200000,1.1554],[1617321600000,1.0308],[1617667200000,1.0553],[1617753600000,1.5159],[1617840000000,1.3457],[1617926400000,1.1603],[1618185600000,2.0585],[1618272000000,1.297],[1618358400000,1.2557],[1618444800000,1.1968],[1618531200000,1.3422],[1618790400000,1.4587],[1618876800000,1.3265],[1618963200000,1.2023],[1619049600000,1.6134],[1619136000000,1.5799],[1619395200000,1.7029],[1619481600000,1.4488],[1619568000000,1.2103],[1619654400000,1.3185],[1619740800000,1.7062],[1620259200000,1.8746],[1620345600000,1.5018],[1620604800000,1.6403],[1620691200000,1.3695],[1620777600000,1.3776],[1620864000000,1.2765],[1620950400000,1.2834],[1621209600000,1.7202],[1621296000000,1.355],[1621382400000,1.2183],[1621468800000,1.4527],[1621555200000,1.6727],[1621814400000,1.9785],[1621900800000,1.7536],[1621987200000,1.8113],[1622073600000,1.9137],[1622160000000,1.9821],[1622419200000,1.8553],[1622505600000,2.0257],[1622592000000,1.9213],[1622678400000,1.9249],[1622764800000,1.4602],[1623024000000,1.5654],[1623110400000,1.7452],[1623196800000,1.6509],[1623283200000,1.217],[1623369600000,1.4877],[1623715200000,1.3323],[1623801600000,1.116],[1623888000000,1.4852],[1623974400000,1.5694],[1624233600000,1.9377],[1624320000000,1.9589],[1624406400000,1.3853],[1624492800000,1.4058],[1624579200000,1.4762],[1624838400000,1.4253],[1624924800000,1.178],[1625011200000,1.2431],[1625097600000,1.7105],[1625184000000,1.7676],[1625443200000,1.6958],[1625529600000,2.0765],[1625616000000,1.3426],[1625702400000,1.4452],[1625788800000,1.1418],[1626048000000,1.4002],[1626134400000,1.764],[1626220800000,1.649],[1626307200000,1.6548],[1626393600000,1.7742],[1626652800000,1.5494],[1626739200000,1.4513],[1626825600000,1.926],[1626912000000,2.1433],[1626998400000,1.9481],[1627257600000,1.8426],[1627344000000,2.2995],[1627430400000,1.9507],[1627516800000,0.9756],[1627603200000,1.1899],[1627862400000,1.6471],[1627948800000,1.8317],[1628035200000,2.1412],[1628121600000,2.1018],[1628208000000,1.0971],[1628467200000,1.1433],[1628553600000,0.995],[1628640000000,1.141],[1628726400000,1.8339],[1628812800000,1.9665],[1629072000000,1.8919],[1629158400000,2.2349],[1629244800000,1.4074],[1629331200000,1.4665],[1629417600000,1.7496],[1629676800000,1.8492],[1629763200000,2.3243],[1629849600000,2.2928],[1629936000000,1.5972],[1630022400000,1.5804],[1630281600000,1.7425],[1630368000000,1.692],[1630454400000,2.2582],[1630540800000,1.9576],[1630627200000,2.8366],[1630886400000,2.3052],[1630972800000,2.0908],[1631059200000,2.2309],[1631145600000,3.4123],[1631232000000,3.7505],[1631491200000,2.5649],[1631577600000,2.3677],[1631664000000,2.0946],[1631750400000,2.169],[1631836800000,1.3107],[1632268800000,1.0893],[1632355200000,1.9752],[1632441600000,1.6067],[1632700800000,1.7358],[1632787200000,1.4478],[1632873600000,1.3492],[1632960000000,1.0603],[1633651200000,1.4972],[1633910400000,1.5427],[1633996800000,1.5121],[1634083200000,1.1884],[1634169600000,1.4878],[1634256000000,1.6014],[1634515200000,1.5291],[1634601600000,1.4824],[1634688000000,1.3347],[1634774400000,1.223],[1634860800000,1.6722],[1635120000000,1.6013]],\"color\":\"#E06681\"},{\"name\":\"4\\u5206\\u4f4d\\u6570\",\"yAxis\":0,\"data\":[[1609804800000,null],[1609891200000,2.0293],[1609977600000,2.3962],[1610064000000,1.8877],[1610323200000,2.1881],[1610409600000,1.7282],[1610496000000,1.856],[1610582400000,2.2647],[1610668800000,2.1376],[1610928000000,1.7486],[1611014400000,1.6944],[1611100800000,1.3964],[1611187200000,1.7555],[1611273600000,1.7228],[1611532800000,1.7507],[1611619200000,1.3094],[1611705600000,1.1557],[1611792000000,1.1852],[1611878400000,1.4594],[1612137600000,1.4816],[1612224000000,1.2921],[1612310400000,2.1335],[1612396800000,2.1415],[1612483200000,1.4248],[1612742400000,1.4979],[1612828800000,1.6147],[1612915200000,1.552],[1613606400000,1.9109],[1613692800000,1.9325],[1613952000000,2.5953],[1614038400000,2.035],[1614124800000,1.5386],[1614211200000,1.6093],[1614297600000,1.8072],[1614556800000,1.6748],[1614643200000,1.481],[1614729600000,1.6759],[1614816000000,2.1532],[1614902400000,1.8555],[1615161600000,1.6537],[1615248000000,1.7117],[1615334400000,1.4472],[1615420800000,1.7952],[1615507200000,1.7878],[1615766400000,1.7102],[1615852800000,1.6232],[1615939200000,1.6635],[1616025600000,1.5435],[1616112000000,1.5195],[1616371200000,1.4163],[1616457600000,1.4061],[1616544000000,1.4665],[1616630400000,1.4291],[1616716800000,1.3183],[1616976000000,1.5281],[1617062400000,1.5523],[1617148800000,1.574],[1617235200000,1.172],[1617321600000,1.5794],[1617667200000,1.368],[1617753600000,1.72],[1617840000000,1.9508],[1617926400000,1.5333],[1618185600000,1.8005],[1618272000000,1.3961],[1618358400000,1.3778],[1618444800000,1.5154],[1618531200000,1.4125],[1618790400000,1.697],[1618876800000,1.2833],[1618963200000,0.9786],[1619049600000,1.2587],[1619136000000,1.1918],[1619395200000,1.4627],[1619481600000,1.3419],[1619568000000,1.2622],[1619654400000,1.4279],[1619740800000,1.6182],[1620259200000,1.5203],[1620345600000,1.6771],[1620604800000,1.6967],[1620691200000,1.4343],[1620777600000,1.3698],[1620864000000,1.7313],[1620950400000,1.7904],[1621209600000,1.5038],[1621296000000,1.1912],[1621382400000,1.2732],[1621468800000,1.7215],[1621555200000,1.2575],[1621814400000,1.6957],[1621900800000,1.4761],[1621987200000,1.5505],[1622073600000,1.6869],[1622160000000,1.7257],[1622419200000,1.7859],[1622505600000,1.7513],[1622592000000,1.4104],[1622678400000,1.564],[1622764800000,1.1159],[1623024000000,1.2],[1623110400000,1.4819],[1623196800000,1.4508],[1623283200000,1.5376],[1623369600000,2.0456],[1623715200000,1.7801],[1623801600000,1.5584],[1623888000000,1.2962],[1623974400000,1.6426],[1624233600000,1.5441],[1624320000000,1.5747],[1624406400000,1.833],[1624492800000,1.8117],[1624579200000,1.2304],[1624838400000,1.0663],[1624924800000,1.1125],[1625011200000,1.2126],[1625097600000,1.4583],[1625184000000,1.3083],[1625443200000,1.5122],[1625529600000,1.6532],[1625616000000,1.2801],[1625702400000,1.6515],[1625788800000,1.6532],[1626048000000,2.2071],[1626134400000,2.1454],[1626220800000,2.0501],[1626307200000,2.1234],[1626393600000,2.1597],[1626652800000,1.7545],[1626739200000,1.475],[1626825600000,1.8018],[1626912000000,1.8113],[1626998400000,1.7463],[1627257600000,1.4999],[1627344000000,1.9352],[1627430400000,1.7203],[1627516800000,1.7719],[1627603200000,1.9539],[1627862400000,1.9202],[1627948800000,1.7198],[1628035200000,1.5262],[1628121600000,1.698],[1628208000000,1.8584],[1628467200000,2.0015],[1628553600000,1.7677],[1628640000000,1.913],[1628726400000,1.5373],[1628812800000,1.4757],[1629072000000,1.8703],[1629158400000,2.1051],[1629244800000,1.5519],[1629331200000,1.2949],[1629417600000,1.3921],[1629676800000,1.5039],[1629763200000,1.8104],[1629849600000,1.9894],[1629936000000,2.0542],[1630022400000,2.0942],[1630281600000,2.0097],[1630368000000,2.1971],[1630454400000,2.7375],[1630540800000,2.3675],[1630627200000,2.8801],[1630886400000,2.4463],[1630972800000,2.0948],[1631059200000,2.2168],[1631145600000,2.1069],[1631232000000,2.2253],[1631491200000,2.0565],[1631577600000,2.0001],[1631664000000,2.1],[1631750400000,2.3754],[1631836800000,2.1017],[1632268800000,1.7451],[1632355200000,2.5851],[1632441600000,2.7044],[1632700800000,2.1556],[1632787200000,1.5662],[1632873600000,1.8182],[1632960000000,1.4809],[1633651200000,1.7175],[1633910400000,1.652],[1633996800000,1.8695],[1634083200000,1.3232],[1634169600000,1.4976],[1634256000000,1.5842],[1634515200000,1.4393],[1634601600000,1.5315],[1634688000000,1.6151],[1634774400000,1.6591],[1634860800000,1.5933],[1635120000000,1.573]],\"color\":\"#E2D269\"},{\"name\":\"5\\u5206\\u4f4d\\u6570\",\"yAxis\":0,\"data\":[[1609804800000,null],[1609891200000,2.2264],[1609977600000,2.2743],[1610064000000,2.0107],[1610323200000,2.1758],[1610409600000,2.0476],[1610496000000,2.3857],[1610582400000,2.0038],[1610668800000,1.7294],[1610928000000,1.8758],[1611014400000,2.003],[1611100800000,1.4288],[1611187200000,1.6389],[1611273600000,1.7759],[1611532800000,1.857],[1611619200000,2.0184],[1611705600000,1.8823],[1611792000000,1.6327],[1611878400000,1.7985],[1612137600000,1.7733],[1612224000000,1.9247],[1612310400000,1.6813],[1612396800000,1.6295],[1612483200000,1.8595],[1612742400000,1.5789],[1612828800000,1.2483],[1612915200000,1.2779],[1613606400000,1.6127],[1613692800000,1.6825],[1613952000000,2.4113],[1614038400000,1.7618],[1614124800000,2.0475],[1614211200000,1.9238],[1614297600000,1.8112],[1614556800000,1.727],[1614643200000,1.5169],[1614729600000,1.5774],[1614816000000,1.7147],[1614902400000,1.5276],[1615161600000,1.8653],[1615248000000,1.9144],[1615334400000,1.5704],[1615420800000,1.5201],[1615507200000,1.5209],[1615766400000,1.4599],[1615852800000,1.4277],[1615939200000,1.3662],[1616025600000,1.3381],[1616112000000,1.3335],[1616371200000,1.4436],[1616457600000,1.5278],[1616544000000,1.2892],[1616630400000,1.0932],[1616716800000,1.4989],[1616976000000,1.5815],[1617062400000,1.3747],[1617148800000,1.2365],[1617235200000,1.3273],[1617321600000,1.4464],[1617667200000,1.0423],[1617753600000,1.1279],[1617840000000,1.7223],[1617926400000,1.3629],[1618185600000,1.315],[1618272000000,1.0991],[1618358400000,1.0149],[1618444800000,1.1126],[1618531200000,1.2684],[1618790400000,1.3936],[1618876800000,1.3829],[1618963200000,1.2468],[1619049600000,1.3154],[1619136000000,1.4884],[1619395200000,1.5413],[1619481600000,1.3139],[1619568000000,1.2726],[1619654400000,1.4562],[1619740800000,1.4536],[1620259200000,1.3026],[1620345600000,1.5291],[1620604800000,1.5825],[1620691200000,1.9153],[1620777600000,1.4476],[1620864000000,1.4538],[1620950400000,1.4427],[1621209600000,1.4891],[1621296000000,1.3913],[1621382400000,1.3534],[1621468800000,1.6328],[1621555200000,1.3838],[1621814400000,1.383],[1621900800000,1.8412],[1621987200000,2.0913],[1622073600000,1.587],[1622160000000,1.6049],[1622419200000,1.7719],[1622505600000,1.8397],[1622592000000,1.5939],[1622678400000,1.5334],[1622764800000,1.945],[1623024000000,1.8312],[1623110400000,1.5172],[1623196800000,1.3769],[1623283200000,1.6987],[1623369600000,1.9099],[1623715200000,1.5475],[1623801600000,1.7008],[1623888000000,1.2434],[1623974400000,1.3466],[1624233600000,1.6088],[1624320000000,1.5163],[1624406400000,1.6072],[1624492800000,1.4692],[1624579200000,1.8105],[1624838400000,1.9512],[1624924800000,1.7117],[1625011200000,1.7294],[1625097600000,1.8347],[1625184000000,1.7186],[1625443200000,1.2623],[1625529600000,1.3694],[1625616000000,1.6681],[1625702400000,2.1408],[1625788800000,1.591],[1626048000000,1.853],[1626134400000,1.9134],[1626220800000,1.9464],[1626307200000,1.7742],[1626393600000,1.8277],[1626652800000,1.8331],[1626739200000,1.4815],[1626825600000,1.5932],[1626912000000,1.923],[1626998400000,1.9497],[1627257600000,2.0101],[1627344000000,2.1373],[1627430400000,2.0656],[1627516800000,2.3823],[1627603200000,2.6017],[1627862400000,2.1683],[1627948800000,2.0508],[1628035200000,1.706],[1628121600000,1.9174],[1628208000000,2.1342],[1628467200000,2.2227],[1628553600000,2.1608],[1628640000000,2.0363],[1628726400000,1.9391],[1628812800000,1.8352],[1629072000000,2.0104],[1629158400000,1.925],[1629244800000,2.1277],[1629331200000,1.9981],[1629417600000,1.815],[1629676800000,2.0097],[1629763200000,1.8652],[1629849600000,1.6803],[1629936000000,2.5044],[1630022400000,2.2932],[1630281600000,2.7761],[1630368000000,2.5053],[1630454400000,2.8311],[1630540800000,2.3741],[1630627200000,2.5335],[1630886400000,2.4905],[1630972800000,2.8026],[1631059200000,3.1342],[1631145600000,2.7289],[1631232000000,2.9006],[1631491200000,2.2376],[1631577600000,2.1614],[1631664000000,1.8834],[1631750400000,2.3838],[1631836800000,2.3325],[1632268800000,1.7635],[1632355200000,1.544],[1632441600000,1.6135],[1632700800000,2.0003],[1632787200000,1.6442],[1632873600000,1.8829],[1632960000000,1.5379],[1633651200000,1.9373],[1633910400000,1.9529],[1633996800000,1.5683],[1634083200000,1.2748],[1634169600000,1.2797],[1634256000000,1.5126],[1634515200000,1.9326],[1634601600000,1.6809],[1634688000000,1.6635],[1634774400000,1.6654],[1634860800000,1.6425],[1635120000000,1.4517]],\"color\":\"#4A8E8E\"},{\"name\":\"\\u6700\\u5c0f\\/\\u6700\\u5927\\u5206\\u4f4d\",\"yAxis\":0,\"data\":[[1609804800000,null],[1609891200000,0.6493],[1609977600000,0.7031],[1610064000000,1.1189],[1610323200000,1.086],[1610409600000,1.0396],[1610496000000,1.0074],[1610582400000,0.783],[1610668800000,0.7945],[1610928000000,0.7888],[1611014400000,0.7392],[1611100800000,1.1216],[1611187200000,1.2666],[1611273600000,1.1214],[1611532800000,1.2002],[1611619200000,0.8203],[1611705600000,0.8688],[1611792000000,1.1892],[1611878400000,1.0325],[1612137600000,1.2081],[1612224000000,1.0826],[1612310400000,0.8789],[1612396800000,0.8785],[1612483200000,0.7924],[1612742400000,0.9305],[1612828800000,1.1303],[1612915200000,1.0338],[1613606400000,1.0876],[1613692800000,1.098],[1613952000000,1.1689],[1614038400000,1.3488],[1614124800000,1.0095],[1614211200000,0.9856],[1614297600000,0.8349],[1614556800000,1.0583],[1614643200000,1.2108],[1614729600000,1.0514],[1614816000000,0.9858],[1614902400000,1.0946],[1615161600000,0.9411],[1615248000000,0.9744],[1615334400000,0.9035],[1615420800000,0.9836],[1615507200000,1.0249],[1615766400000,0.9412],[1615852800000,1.256],[1615939200000,1.1456],[1616025600000,1.0659],[1616112000000,1.0938],[1616371200000,1.0428],[1616457600000,1.0608],[1616544000000,1.047],[1616630400000,1.1278],[1616716800000,1.0093],[1616976000000,0.9216],[1617062400000,1.0685],[1617148800000,1.032],[1617235200000,0.8326],[1617321600000,0.8289],[1617667200000,1.4921],[1617753600000,1.6222],[1617840000000,0.8021],[1617926400000,0.9074],[1618185600000,0.9746],[1618272000000,1.0067],[1618358400000,1.0048],[1618444800000,0.9827],[1618531200000,1.146],[1618790400000,1.1862],[1618876800000,1.2384],[1618963200000,1.2738],[1619049600000,0.9138],[1619136000000,0.8257],[1619395200000,1.278],[1619481600000,1.1842],[1619568000000,1.1236],[1619654400000,1.0304],[1619740800000,0.8816],[1620259200000,1.0389],[1620345600000,1.1614],[1620604800000,1.2037],[1620691200000,0.695],[1620777600000,0.7034],[1620864000000,1.161],[1620950400000,1.1939],[1621209600000,1.2803],[1621296000000,1.2389],[1621382400000,1.1665],[1621468800000,1.1738],[1621555200000,0.8501],[1621814400000,0.8648],[1621900800000,0.9805],[1621987200000,0.9223],[1622073600000,0.9946],[1622160000000,1.0055],[1622419200000,0.8254],[1622505600000,0.9199],[1622592000000,1.177],[1622678400000,1.0905],[1622764800000,0.8101],[1623024000000,0.8794],[1623110400000,1.1191],[1623196800000,1.1457],[1623283200000,1.3647],[1623369600000,1.2803],[1623715200000,1.2218],[1623801600000,1.0151],[1623888000000,1.4286],[1623974400000,1.5189],[1624233600000,0.996],[1624320000000,0.9547],[1624406400000,1.2152],[1624492800000,1.1139],[1624579200000,1.0579],[1624838400000,1.0114],[1624924800000,0.8482],[1625011200000,0.801],[1625097600000,0.769],[1625184000000,0.7437],[1625443200000,0.9135],[1625529600000,0.9451],[1625616000000,1.0856],[1625702400000,1.1521],[1625788800000,1.1135],[1626048000000,1.4244],[1626134400000,0.8831],[1626220800000,0.8227],[1626307200000,1.0645],[1626393600000,1.1698],[1626652800000,1.0846],[1626739200000,1.14],[1626825600000,0.964],[1626912000000,0.8588],[1626998400000,1.3395],[1627257600000,1.384],[1627344000000,1.1412],[1627430400000,1.1224],[1627516800000,0.9471],[1627603200000,0.886],[1627862400000,1.2851],[1627948800000,1.3022],[1628035200000,1.1652],[1628121600000,1.0254],[1628208000000,0.7517],[1628467200000,0.7275],[1628553600000,0.8952],[1628640000000,1.0777],[1628726400000,0.9298],[1628812800000,1.0175],[1629072000000,0.7156],[1629158400000,0.8823],[1629244800000,0.7456],[1629331200000,0.8363],[1629417600000,1.0499],[1629676800000,0.9338],[1629763200000,0.95],[1629849600000,1.051],[1629936000000,1.0131],[1630022400000,1.1842],[1630281600000,1.0338],[1630368000000,1.1264],[1630454400000,0.9967],[1630540800000,1.1383],[1630627200000,0.8602],[1630886400000,0.7784],[1630972800000,0.9449],[1631059200000,0.9603],[1631145600000,0.8159],[1631232000000,0.7398],[1631491200000,0.8884],[1631577600000,1.0369],[1631664000000,0.9051],[1631750400000,0.8624],[1631836800000,0.8153],[1632268800000,1.0413],[1632355200000,0.9481],[1632441600000,0.8207],[1632700800000,0.9377],[1632787200000,0.8344],[1632873600000,1.0379],[1632960000000,1.189],[1633651200000,0.791],[1633910400000,0.773],[1633996800000,1.022],[1634083200000,1.2085],[1634169600000,0.9857],[1634256000000,0.9079],[1634515200000,0.9111],[1634601600000,1.0037],[1634688000000,0.8871],[1634774400000,0.8579],[1634860800000,0.8438],[1635120000000,0.9312]]}],\"xAxis\":{\"title\":{\"text\":\"date\"},\"type\":\"datetime\"},\"plotOptions\":{\"series\":{\"compare\":\"percent\"}}}/bigcharts-data-end</pre></div><div class=\"cols\">\n",
       "            \n",
       "                \n",
       "                <div class=\"col\"><div class=\"type_title_left\"><p>因子值最小的20只股票 <span>(2021-10-25)</span></p></div>\n",
       "        <div class=\"factorlens-stocks-wrapper\">\n",
       "            <table class=\"factor_table stocks\">\n",
       "                <thead>\n",
       "                    <tr>\n",
       "                        <th>股票名称</th>\n",
       "                        <th>股票代码</th>\n",
       "                        <th>因子值</th>\n",
       "                    </tr>\n",
       "                </thead>\n",
       "                <tbody>\n",
       "            <tr>\n",
       "                <td>南玻A</td>\n",
       "                <td>000012.SZA</td>\n",
       "                <td>-1.0000</td>\n",
       "            </tr>\n",
       "            \n",
       "            <tr>\n",
       "                <td>方大炭素</td>\n",
       "                <td>600516.SHA</td>\n",
       "                <td>-1.0000</td>\n",
       "            </tr>\n",
       "            \n",
       "            <tr>\n",
       "                <td>国药股份</td>\n",
       "                <td>600511.SHA</td>\n",
       "                <td>-1.0000</td>\n",
       "            </tr>\n",
       "            \n",
       "            <tr>\n",
       "                <td>方大特钢</td>\n",
       "                <td>600507.SHA</td>\n",
       "                <td>-1.0000</td>\n",
       "            </tr>\n",
       "            \n",
       "            <tr>\n",
       "                <td>烽火通信</td>\n",
       "                <td>600498.SHA</td>\n",
       "                <td>-1.0000</td>\n",
       "            </tr>\n",
       "            \n",
       "            <tr>\n",
       "                <td>驰宏锌锗</td>\n",
       "                <td>600497.SHA</td>\n",
       "                <td>-1.0000</td>\n",
       "            </tr>\n",
       "            \n",
       "            <tr>\n",
       "                <td>扬农化工</td>\n",
       "                <td>600486.SHA</td>\n",
       "                <td>-1.0000</td>\n",
       "            </tr>\n",
       "            \n",
       "            <tr>\n",
       "                <td>蓝光发展</td>\n",
       "                <td>600466.SHA</td>\n",
       "                <td>-1.0000</td>\n",
       "            </tr>\n",
       "            \n",
       "            <tr>\n",
       "                <td>金证股份</td>\n",
       "                <td>600446.SHA</td>\n",
       "                <td>-1.0000</td>\n",
       "            </tr>\n",
       "            \n",
       "            <tr>\n",
       "                <td>北方导航</td>\n",
       "                <td>600435.SHA</td>\n",
       "                <td>-1.0000</td>\n",
       "            </tr>\n",
       "            \n",
       "            <tr>\n",
       "                <td>江淮汽车</td>\n",
       "                <td>600418.SHA</td>\n",
       "                <td>-1.0000</td>\n",
       "            </tr>\n",
       "            \n",
       "            <tr>\n",
       "                <td>国网英大</td>\n",
       "                <td>600517.SHA</td>\n",
       "                <td>-1.0000</td>\n",
       "            </tr>\n",
       "            \n",
       "            <tr>\n",
       "                <td>小商品城</td>\n",
       "                <td>600415.SHA</td>\n",
       "                <td>-1.0000</td>\n",
       "            </tr>\n",
       "            \n",
       "            <tr>\n",
       "                <td>海澜之家</td>\n",
       "                <td>600398.SHA</td>\n",
       "                <td>-1.0000</td>\n",
       "            </tr>\n",
       "            \n",
       "            <tr>\n",
       "                <td>五矿资本</td>\n",
       "                <td>600390.SHA</td>\n",
       "                <td>-1.0000</td>\n",
       "            </tr>\n",
       "            \n",
       "            <tr>\n",
       "                <td>龙净环保</td>\n",
       "                <td>600388.SHA</td>\n",
       "                <td>-1.0000</td>\n",
       "            </tr>\n",
       "            \n",
       "            <tr>\n",
       "                <td>宁沪高速</td>\n",
       "                <td>600377.SHA</td>\n",
       "                <td>-1.0000</td>\n",
       "            </tr>\n",
       "            \n",
       "            <tr>\n",
       "                <td>中文传媒</td>\n",
       "                <td>600373.SHA</td>\n",
       "                <td>-1.0000</td>\n",
       "            </tr>\n",
       "            \n",
       "            <tr>\n",
       "                <td>中航电子</td>\n",
       "                <td>600372.SHA</td>\n",
       "                <td>-1.0000</td>\n",
       "            </tr>\n",
       "            \n",
       "            <tr>\n",
       "                <td>西南证券</td>\n",
       "                <td>600369.SHA</td>\n",
       "                <td>-1.0000</td>\n",
       "            </tr>\n",
       "            \n",
       "                </tbody>\n",
       "            </table>\n",
       "        </div>\n",
       "        </div>\n",
       "                \n",
       "            \n",
       "                \n",
       "                <div class=\"col\"><div class=\"type_title_left\"><p>因子值最大的20只股票 <span>(2021-10-25)</span></p></div>\n",
       "        <div class=\"factorlens-stocks-wrapper\">\n",
       "            <table class=\"factor_table stocks\">\n",
       "                <thead>\n",
       "                    <tr>\n",
       "                        <th>股票名称</th>\n",
       "                        <th>股票代码</th>\n",
       "                        <th>因子值</th>\n",
       "                    </tr>\n",
       "                </thead>\n",
       "                <tbody>\n",
       "            <tr>\n",
       "                <td>上海环境</td>\n",
       "                <td>601200.SHA</td>\n",
       "                <td>1.0000</td>\n",
       "            </tr>\n",
       "            \n",
       "            <tr>\n",
       "                <td>华润双鹤</td>\n",
       "                <td>600062.SHA</td>\n",
       "                <td>1.0000</td>\n",
       "            </tr>\n",
       "            \n",
       "            <tr>\n",
       "                <td>南京高科</td>\n",
       "                <td>600064.SHA</td>\n",
       "                <td>1.0000</td>\n",
       "            </tr>\n",
       "            \n",
       "            <tr>\n",
       "                <td>旗滨集团</td>\n",
       "                <td>601636.SHA</td>\n",
       "                <td>1.0000</td>\n",
       "            </tr>\n",
       "            \n",
       "            <tr>\n",
       "                <td>宇通客车</td>\n",
       "                <td>600066.SHA</td>\n",
       "                <td>1.0000</td>\n",
       "            </tr>\n",
       "            \n",
       "            <tr>\n",
       "                <td>美亚光电</td>\n",
       "                <td>002690.SZA</td>\n",
       "                <td>1.0000</td>\n",
       "            </tr>\n",
       "            \n",
       "            <tr>\n",
       "                <td>张裕A</td>\n",
       "                <td>000869.SZA</td>\n",
       "                <td>1.0000</td>\n",
       "            </tr>\n",
       "            \n",
       "            <tr>\n",
       "                <td>大名城</td>\n",
       "                <td>600094.SHA</td>\n",
       "                <td>1.0000</td>\n",
       "            </tr>\n",
       "            \n",
       "            <tr>\n",
       "                <td>湘财股份</td>\n",
       "                <td>600095.SHA</td>\n",
       "                <td>1.0000</td>\n",
       "            </tr>\n",
       "            \n",
       "            <tr>\n",
       "                <td>外高桥</td>\n",
       "                <td>600648.SHA</td>\n",
       "                <td>1.0000</td>\n",
       "            </tr>\n",
       "            \n",
       "            <tr>\n",
       "                <td>杭钢股份</td>\n",
       "                <td>600126.SHA</td>\n",
       "                <td>1.0000</td>\n",
       "            </tr>\n",
       "            \n",
       "            <tr>\n",
       "                <td>三友化工</td>\n",
       "                <td>600409.SHA</td>\n",
       "                <td>1.0000</td>\n",
       "            </tr>\n",
       "            \n",
       "            <tr>\n",
       "                <td>信达地产</td>\n",
       "                <td>600657.SHA</td>\n",
       "                <td>1.0000</td>\n",
       "            </tr>\n",
       "            \n",
       "            <tr>\n",
       "                <td>中粮科技</td>\n",
       "                <td>000930.SZA</td>\n",
       "                <td>1.0000</td>\n",
       "            </tr>\n",
       "            \n",
       "            <tr>\n",
       "                <td>节能风电</td>\n",
       "                <td>601016.SHA</td>\n",
       "                <td>1.0000</td>\n",
       "            </tr>\n",
       "            \n",
       "            <tr>\n",
       "                <td>陆家嘴</td>\n",
       "                <td>600663.SHA</td>\n",
       "                <td>1.0000</td>\n",
       "            </tr>\n",
       "            \n",
       "            <tr>\n",
       "                <td>建发股份</td>\n",
       "                <td>600153.SHA</td>\n",
       "                <td>1.0000</td>\n",
       "            </tr>\n",
       "            \n",
       "            <tr>\n",
       "                <td>九州通</td>\n",
       "                <td>600998.SHA</td>\n",
       "                <td>1.0000</td>\n",
       "            </tr>\n",
       "            \n",
       "            <tr>\n",
       "                <td>启迪环境</td>\n",
       "                <td>000826.SZA</td>\n",
       "                <td>1.0000</td>\n",
       "            </tr>\n",
       "            \n",
       "            <tr>\n",
       "                <td>中南传媒</td>\n",
       "                <td>601098.SHA</td>\n",
       "                <td>1.0000</td>\n",
       "            </tr>\n",
       "            \n",
       "                </tbody>\n",
       "            </table>\n",
       "        </div>\n",
       "        </div>\n",
       "                \n",
       "            \n",
       "            </div>\n",
       "        </div></div></div></div><div class='bigchart-data'><pre style='display:none'>bigcharts-data-start/{\"__type\":\"tabs\",\"__id\":\"bigchart-3484b99291b0431493c7d05c9a5d409d\"}/bigcharts-data-end</pre></div>"
      ],
      "text/plain": [
       "<IPython.core.display.HTML object>"
      ]
     },
     "metadata": {},
     "output_type": "display_data"
    },
    {
     "data": {
      "text/plain": [
       "[2021-10-27 14:16:03.306513] INFO: moduleinvoker: factorlens.v2 运行完成[166.406711s]."
      ]
     },
     "metadata": {
      "is_log": true,
      "status": "INFO"
     },
     "output_type": "display_data"
    }
   ],
   "source": [
    "# 本代码由可视化策略环境自动生成 2021年11月1日 12:01\n",
    "# 本代码单元只能在可视化模式下编辑。您也可以拷贝代码，粘贴到新建的代码单元或者策略，然后修改。\n",
    "\n",
    "\n",
    "m1 = M.input_features.v1(\n",
    "    features=\"\"\"# 量价背离\n",
    "-1 * correlation(sum((close_0 * volume_0), 2) / sum(volume_0, 2), volume_0, 2)\n",
    "\n",
    "# 开盘缺口\n",
    "open_0 - close_1\n",
    "\n",
    "# 异常成交量\n",
    "-1 * (volume_0 / mean(volume_0, 2))\n",
    "\n",
    "# 量幅背离\n",
    "-1 * correlation(high_0/low_0, volume_0, 2)\"\"\"\n",
    ")\n",
    "\n",
    "m2 = M.factorlens.v2(\n",
    "    features=m1.data,\n",
    "    title='因子分析: {factor_name}',\n",
    "    start_date='2021-01-01',\n",
    "    end_date='2021-12-31',\n",
    "    rebalance_period=2,\n",
    "    delay_rebalance_days=0,\n",
    "    rebalance_price='close_0',\n",
    "    stock_pool='中证500',\n",
    "    quantile_count=5,\n",
    "    commission_rate=0.0016,\n",
    "    returns_calculation_method='累乘',\n",
    "    benchmark='无',\n",
    "    drop_new_stocks=60,\n",
    "    drop_price_limit_stocks=True,\n",
    "    drop_st_stocks=True,\n",
    "    drop_suspended_stocks=True,\n",
    "    normalization=False,\n",
    "    neutralization=['行业', '市值'],\n",
    "    metrics=['因子表现概览', '因子分布', '因子行业分布', '因子市值分布', 'IC分析', '买入信号重合分析', '因子估值分析', '因子拥挤度分析', '因子值最大/最小股票', '表达式因子值', '多因子相关性分析'],\n",
    "    factor_coverage=0.5,\n",
    "    user_data_merge='left'\n",
    ")\n"
   ]
  }
 ],
 "metadata": {
  "is_mlstudio": "true",
  "kernelspec": {
   "display_name": "Python 3",
   "language": "python",
   "name": "python3"
  },
  "language_info": {
   "codemirror_mode": {
    "name": "ipython",
    "version": 3
   },
   "file_extension": ".py",
   "mimetype": "text/x-python",
   "name": "python",
   "nbconvert_exporter": "python",
   "pygments_lexer": "ipython3",
   "version": "3.8.7"
  }
 },
 "nbformat": 4,
 "nbformat_minor": 4
}
