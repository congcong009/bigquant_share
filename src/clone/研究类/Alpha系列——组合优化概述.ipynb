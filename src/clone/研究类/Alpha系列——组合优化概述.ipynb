{
 "cells": [
  {
   "cell_type": "markdown",
   "metadata": {},
   "source": [
    "# Alpha系列——组合优化概述\n",
    "\n",
    "在股票投资组合管理中，核心工作就是两个，其中一个是预测（alpha挖掘），另一个就是组合优化。在这边教程中，我们基于实战视角，介绍了各种组合优化场景，并给出相应的实验代码。"
   ]
  },
  {
   "cell_type": "markdown",
   "metadata": {},
   "source": [
    "## 股票投资组合优化工作流简介\n",
    "\n",
    "![work flow](https://raw.githubusercontent.com/feynman0825/markdown_pictures/master/quant%20equity%20workflow.png)\n",
    "\n",
    "#### 数据搜集\n",
    "\n",
    "第一步当然是数据搜集了，没有数据啥都干不了。搜集数据是一个苦活、脏活、累活，但它能帮助你构建数据上的竞争优势。在数据维度上，大致我们分为行情数据、财务数据、高频数据、宏观经济数据、三方投研数据、舆情数据以及不属于任何一类的其他数据。在个人投资者和机构投资者很大的一个竞争能力上的差异就是在数据的广度和丰度上，大部分散户还是基于低频历史行情阶段。在数据科学里，我们认为最结果影响最重要的是数据，远远大于算法本身。\n",
    "\n",
    "#### Alpha构建\n",
    "\n",
    "在这个环节大致包含两个流程，分别是alpha研究和alpha组合。在研究阶段，我们要找出信息含量高，能够产生alpha因子，当然还会对alpha的生成来源和结构做探索和检验，现在主要的手段是统计检验和可视化；在alpha组合阶段，我们会把所有的alpha因子组合在一起，在这里阶段我们会处理alpha因子之间的相关性，大致上就是把之间收集到的alpha通过信息最大化或者alpha最大化的方式结合起来。在这个阶段，数据质量和预测对alpha起到了决定性的作用。\n",
    "\n",
    "#### 组合构建\n",
    "\n",
    "组合构建阶段的任务就是综合收益（alpha向量）、风险以及交易者自身的偏好或者约束。对于风险的建模，首先我们要决定合适的风险度量及风险建模方法，到底是协方差矩阵就足够描述风险了，还是要用VAR或者risk parity进行建模，业界比较普遍的做法是用风险模型来对系统系风险进行建模。然后就是定义目标函数，是收益最大化、风险最小化、夏普或IR最大化还是其他的效用函数，业界比较普遍的做法是用风险厌恶表述，即$w^{\\prime} \\mu - \\lambda w^{\\prime} \\Sigma w$。最后，我们可能还有一些其他的约束，比如对空约束、净杠杆约束、单头寸范围约束、行业头寸约束等等，这些或满足投资者的偏好或先验信息，或为了满足投资机构本身的风险管理制度。\n",
    "\n",
    "#### 交易执行\n",
    "\n",
    "组合构建完后，实际上我们得到的是理想组合和交易列表，这个交易列表可以理解为让当前组合变换到理想组合。在交易执行中，我们会面临很多复杂的问题，比如如何执行这些交易？分笔缓慢得执行还是激进地下单？alpha的预测能力衰减程度如何？在回测中，我们大多数考虑的是确定性的线性交易成本，而市场冲击造成的成本更多是非线性的（二次型）。对这些场景的完全建模将是非常复杂的，实际中在这部分对于小资金基本是激进一次性下单，大资金的话一般会把具体的交易执行给到交易员，由交易员具体把控。\n",
    "\n",
    "总结下，可以看到在给出了alpha预测向量后，我们基本上转而在解决最优化问题。而最优化问题也是我们在这篇教程中的核心议题。"
   ]
  },
  {
   "cell_type": "markdown",
   "metadata": {},
   "source": [
    "## 常见组合优化问题"
   ]
  },
  {
   "cell_type": "markdown",
   "metadata": {},
   "source": [
    "#### 马科维茨问题（经典均值方差优化）\n",
    "\n",
    "\\begin{align*}\n",
    "\\mathop{maximize} \\quad & \\mu^{\\prime}w − \\gamma w^{\\prime} \\Sigma w\\\\\n",
    "\\mathop{subject \\, to} \\quad & \\boldsymbol{1}w=1, w \\in \\mathcal{W}\n",
    "\\end{align*}\n",
    "\n",
    "但这个经典无约束的均值方差问题很敏感，权重向量很容易发散。所以在实践中，我们会加入一些权重约束。"
   ]
  },
  {
   "cell_type": "code",
   "execution_count": 2,
   "metadata": {},
   "outputs": [],
   "source": [
    "import matplotlib.pyplot as plt\n",
    "import pandas as pd\n",
    "import numpy as np\n",
    "import cvxpy as cvx\n",
    "from sklearn.linear_model import LinearRegression"
   ]
  },
  {
   "cell_type": "code",
   "execution_count": 39,
   "metadata": {},
   "outputs": [
    {
     "data": {
      "text/html": [
       "<div>\n",
       "<style scoped>\n",
       "    .dataframe tbody tr th:only-of-type {\n",
       "        vertical-align: middle;\n",
       "    }\n",
       "\n",
       "    .dataframe tbody tr th {\n",
       "        vertical-align: top;\n",
       "    }\n",
       "\n",
       "    .dataframe thead th {\n",
       "        text-align: right;\n",
       "    }\n",
       "</style>\n",
       "<table border=\"1\" class=\"dataframe\">\n",
       "  <thead>\n",
       "    <tr style=\"text-align: right;\">\n",
       "      <th>instrument</th>\n",
       "      <th>159902.ZOF</th>\n",
       "      <th>159915.ZOF</th>\n",
       "      <th>159920.ZOF</th>\n",
       "      <th>159938.ZOF</th>\n",
       "      <th>510330.HOF</th>\n",
       "      <th>512400.HOF</th>\n",
       "      <th>512580.HOF</th>\n",
       "      <th>512680.HOF</th>\n",
       "      <th>512690.HOF</th>\n",
       "      <th>512700.HOF</th>\n",
       "      <th>512880.HOF</th>\n",
       "      <th>512980.HOF</th>\n",
       "      <th>513050.HOF</th>\n",
       "      <th>513100.HOF</th>\n",
       "      <th>513500.HOF</th>\n",
       "      <th>515000.HOF</th>\n",
       "      <th>515700.HOF</th>\n",
       "    </tr>\n",
       "    <tr>\n",
       "      <th>date</th>\n",
       "      <th></th>\n",
       "      <th></th>\n",
       "      <th></th>\n",
       "      <th></th>\n",
       "      <th></th>\n",
       "      <th></th>\n",
       "      <th></th>\n",
       "      <th></th>\n",
       "      <th></th>\n",
       "      <th></th>\n",
       "      <th></th>\n",
       "      <th></th>\n",
       "      <th></th>\n",
       "      <th></th>\n",
       "      <th></th>\n",
       "      <th></th>\n",
       "      <th></th>\n",
       "    </tr>\n",
       "  </thead>\n",
       "  <tbody>\n",
       "    <tr>\n",
       "      <th>2020-02-12</th>\n",
       "      <td>0.018417</td>\n",
       "      <td>0.030303</td>\n",
       "      <td>0.005906</td>\n",
       "      <td>0.010000</td>\n",
       "      <td>0.008605</td>\n",
       "      <td>0.052039</td>\n",
       "      <td>0.037851</td>\n",
       "      <td>0.020202</td>\n",
       "      <td>0.004509</td>\n",
       "      <td>0.002616</td>\n",
       "      <td>0.017076</td>\n",
       "      <td>0.024123</td>\n",
       "      <td>0.008626</td>\n",
       "      <td>0.025833</td>\n",
       "      <td>0.017575</td>\n",
       "      <td>0.018842</td>\n",
       "      <td>0.040210</td>\n",
       "    </tr>\n",
       "    <tr>\n",
       "      <th>2020-02-13</th>\n",
       "      <td>-0.007347</td>\n",
       "      <td>-0.008973</td>\n",
       "      <td>-0.002609</td>\n",
       "      <td>-0.009901</td>\n",
       "      <td>-0.007026</td>\n",
       "      <td>-0.001337</td>\n",
       "      <td>-0.009412</td>\n",
       "      <td>-0.009901</td>\n",
       "      <td>-0.008977</td>\n",
       "      <td>-0.006957</td>\n",
       "      <td>-0.016789</td>\n",
       "      <td>-0.019272</td>\n",
       "      <td>0.005921</td>\n",
       "      <td>0.056913</td>\n",
       "      <td>0.040301</td>\n",
       "      <td>-0.004795</td>\n",
       "      <td>-0.010084</td>\n",
       "    </tr>\n",
       "    <tr>\n",
       "      <th>2020-02-14</th>\n",
       "      <td>0.005978</td>\n",
       "      <td>-0.000503</td>\n",
       "      <td>0.004578</td>\n",
       "      <td>0.002667</td>\n",
       "      <td>0.007076</td>\n",
       "      <td>0.024096</td>\n",
       "      <td>-0.005938</td>\n",
       "      <td>0.001250</td>\n",
       "      <td>-0.002717</td>\n",
       "      <td>0.007881</td>\n",
       "      <td>0.018143</td>\n",
       "      <td>0.002183</td>\n",
       "      <td>-0.003270</td>\n",
       "      <td>-0.044556</td>\n",
       "      <td>-0.042997</td>\n",
       "      <td>-0.000688</td>\n",
       "      <td>-0.010187</td>\n",
       "    </tr>\n",
       "    <tr>\n",
       "      <th>2020-02-17</th>\n",
       "      <td>0.031409</td>\n",
       "      <td>0.042275</td>\n",
       "      <td>0.005859</td>\n",
       "      <td>0.021942</td>\n",
       "      <td>0.020828</td>\n",
       "      <td>0.020915</td>\n",
       "      <td>0.031063</td>\n",
       "      <td>0.066167</td>\n",
       "      <td>0.013624</td>\n",
       "      <td>0.019983</td>\n",
       "      <td>0.052411</td>\n",
       "      <td>0.031590</td>\n",
       "      <td>0.014436</td>\n",
       "      <td>-0.008479</td>\n",
       "      <td>0.006228</td>\n",
       "      <td>0.037879</td>\n",
       "      <td>0.042024</td>\n",
       "    </tr>\n",
       "    <tr>\n",
       "      <th>2020-02-18</th>\n",
       "      <td>-0.000549</td>\n",
       "      <td>0.009174</td>\n",
       "      <td>-0.012298</td>\n",
       "      <td>-0.002602</td>\n",
       "      <td>-0.004671</td>\n",
       "      <td>0.003841</td>\n",
       "      <td>0.019699</td>\n",
       "      <td>0.030445</td>\n",
       "      <td>-0.007168</td>\n",
       "      <td>-0.006814</td>\n",
       "      <td>-0.006972</td>\n",
       "      <td>0.012672</td>\n",
       "      <td>-0.010349</td>\n",
       "      <td>-0.034960</td>\n",
       "      <td>-0.014147</td>\n",
       "      <td>0.007299</td>\n",
       "      <td>0.003292</td>\n",
       "    </tr>\n",
       "    <tr>\n",
       "      <th>...</th>\n",
       "      <td>...</td>\n",
       "      <td>...</td>\n",
       "      <td>...</td>\n",
       "      <td>...</td>\n",
       "      <td>...</td>\n",
       "      <td>...</td>\n",
       "      <td>...</td>\n",
       "      <td>...</td>\n",
       "      <td>...</td>\n",
       "      <td>...</td>\n",
       "      <td>...</td>\n",
       "      <td>...</td>\n",
       "      <td>...</td>\n",
       "      <td>...</td>\n",
       "      <td>...</td>\n",
       "      <td>...</td>\n",
       "      <td>...</td>\n",
       "    </tr>\n",
       "    <tr>\n",
       "      <th>2021-04-28</th>\n",
       "      <td>0.006848</td>\n",
       "      <td>0.022538</td>\n",
       "      <td>0.002653</td>\n",
       "      <td>0.011861</td>\n",
       "      <td>0.007667</td>\n",
       "      <td>0.001838</td>\n",
       "      <td>0.019199</td>\n",
       "      <td>0.007663</td>\n",
       "      <td>0.025095</td>\n",
       "      <td>0.000000</td>\n",
       "      <td>0.002959</td>\n",
       "      <td>0.009913</td>\n",
       "      <td>0.003378</td>\n",
       "      <td>-0.003437</td>\n",
       "      <td>-0.001555</td>\n",
       "      <td>0.004566</td>\n",
       "      <td>0.026369</td>\n",
       "    </tr>\n",
       "    <tr>\n",
       "      <th>2021-04-29</th>\n",
       "      <td>0.006582</td>\n",
       "      <td>0.001017</td>\n",
       "      <td>0.007275</td>\n",
       "      <td>-0.005410</td>\n",
       "      <td>0.008584</td>\n",
       "      <td>0.011009</td>\n",
       "      <td>0.002457</td>\n",
       "      <td>0.001901</td>\n",
       "      <td>-0.002226</td>\n",
       "      <td>0.016317</td>\n",
       "      <td>0.024582</td>\n",
       "      <td>-0.002454</td>\n",
       "      <td>0.003848</td>\n",
       "      <td>0.002802</td>\n",
       "      <td>0.004282</td>\n",
       "      <td>0.001136</td>\n",
       "      <td>0.000494</td>\n",
       "    </tr>\n",
       "    <tr>\n",
       "      <th>2021-04-30</th>\n",
       "      <td>-0.004141</td>\n",
       "      <td>0.012534</td>\n",
       "      <td>-0.015102</td>\n",
       "      <td>0.018132</td>\n",
       "      <td>-0.008317</td>\n",
       "      <td>-0.005445</td>\n",
       "      <td>0.020425</td>\n",
       "      <td>-0.034156</td>\n",
       "      <td>-0.010037</td>\n",
       "      <td>-0.014526</td>\n",
       "      <td>-0.010557</td>\n",
       "      <td>-0.009840</td>\n",
       "      <td>-0.025395</td>\n",
       "      <td>-0.007307</td>\n",
       "      <td>0.000000</td>\n",
       "      <td>0.003405</td>\n",
       "      <td>0.019259</td>\n",
       "    </tr>\n",
       "    <tr>\n",
       "      <th>2021-05-06</th>\n",
       "      <td>-0.014883</td>\n",
       "      <td>-0.028438</td>\n",
       "      <td>-0.006667</td>\n",
       "      <td>-0.033838</td>\n",
       "      <td>-0.013263</td>\n",
       "      <td>0.027372</td>\n",
       "      <td>-0.004003</td>\n",
       "      <td>0.009823</td>\n",
       "      <td>-0.030041</td>\n",
       "      <td>0.006982</td>\n",
       "      <td>-0.008729</td>\n",
       "      <td>-0.011180</td>\n",
       "      <td>-0.016716</td>\n",
       "      <td>-0.023165</td>\n",
       "      <td>-0.005426</td>\n",
       "      <td>-0.026584</td>\n",
       "      <td>-0.007752</td>\n",
       "    </tr>\n",
       "    <tr>\n",
       "      <th>2021-05-07</th>\n",
       "      <td>-0.016885</td>\n",
       "      <td>-0.029270</td>\n",
       "      <td>-0.002685</td>\n",
       "      <td>-0.027189</td>\n",
       "      <td>-0.012058</td>\n",
       "      <td>0.026643</td>\n",
       "      <td>-0.023312</td>\n",
       "      <td>-0.012646</td>\n",
       "      <td>-0.015099</td>\n",
       "      <td>0.010015</td>\n",
       "      <td>-0.014677</td>\n",
       "      <td>-0.006281</td>\n",
       "      <td>-0.023000</td>\n",
       "      <td>-0.002216</td>\n",
       "      <td>0.005066</td>\n",
       "      <td>-0.031958</td>\n",
       "      <td>-0.030273</td>\n",
       "    </tr>\n",
       "  </tbody>\n",
       "</table>\n",
       "<p>301 rows × 17 columns</p>\n",
       "</div>"
      ],
      "text/plain": [
       "instrument  159902.ZOF  159915.ZOF  159920.ZOF  159938.ZOF  510330.HOF  \\\n",
       "date                                                                     \n",
       "2020-02-12    0.018417    0.030303    0.005906    0.010000    0.008605   \n",
       "2020-02-13   -0.007347   -0.008973   -0.002609   -0.009901   -0.007026   \n",
       "2020-02-14    0.005978   -0.000503    0.004578    0.002667    0.007076   \n",
       "2020-02-17    0.031409    0.042275    0.005859    0.021942    0.020828   \n",
       "2020-02-18   -0.000549    0.009174   -0.012298   -0.002602   -0.004671   \n",
       "...                ...         ...         ...         ...         ...   \n",
       "2021-04-28    0.006848    0.022538    0.002653    0.011861    0.007667   \n",
       "2021-04-29    0.006582    0.001017    0.007275   -0.005410    0.008584   \n",
       "2021-04-30   -0.004141    0.012534   -0.015102    0.018132   -0.008317   \n",
       "2021-05-06   -0.014883   -0.028438   -0.006667   -0.033838   -0.013263   \n",
       "2021-05-07   -0.016885   -0.029270   -0.002685   -0.027189   -0.012058   \n",
       "\n",
       "instrument  512400.HOF  512580.HOF  512680.HOF  512690.HOF  512700.HOF  \\\n",
       "date                                                                     \n",
       "2020-02-12    0.052039    0.037851    0.020202    0.004509    0.002616   \n",
       "2020-02-13   -0.001337   -0.009412   -0.009901   -0.008977   -0.006957   \n",
       "2020-02-14    0.024096   -0.005938    0.001250   -0.002717    0.007881   \n",
       "2020-02-17    0.020915    0.031063    0.066167    0.013624    0.019983   \n",
       "2020-02-18    0.003841    0.019699    0.030445   -0.007168   -0.006814   \n",
       "...                ...         ...         ...         ...         ...   \n",
       "2021-04-28    0.001838    0.019199    0.007663    0.025095    0.000000   \n",
       "2021-04-29    0.011009    0.002457    0.001901   -0.002226    0.016317   \n",
       "2021-04-30   -0.005445    0.020425   -0.034156   -0.010037   -0.014526   \n",
       "2021-05-06    0.027372   -0.004003    0.009823   -0.030041    0.006982   \n",
       "2021-05-07    0.026643   -0.023312   -0.012646   -0.015099    0.010015   \n",
       "\n",
       "instrument  512880.HOF  512980.HOF  513050.HOF  513100.HOF  513500.HOF  \\\n",
       "date                                                                     \n",
       "2020-02-12    0.017076    0.024123    0.008626    0.025833    0.017575   \n",
       "2020-02-13   -0.016789   -0.019272    0.005921    0.056913    0.040301   \n",
       "2020-02-14    0.018143    0.002183   -0.003270   -0.044556   -0.042997   \n",
       "2020-02-17    0.052411    0.031590    0.014436   -0.008479    0.006228   \n",
       "2020-02-18   -0.006972    0.012672   -0.010349   -0.034960   -0.014147   \n",
       "...                ...         ...         ...         ...         ...   \n",
       "2021-04-28    0.002959    0.009913    0.003378   -0.003437   -0.001555   \n",
       "2021-04-29    0.024582   -0.002454    0.003848    0.002802    0.004282   \n",
       "2021-04-30   -0.010557   -0.009840   -0.025395   -0.007307    0.000000   \n",
       "2021-05-06   -0.008729   -0.011180   -0.016716   -0.023165   -0.005426   \n",
       "2021-05-07   -0.014677   -0.006281   -0.023000   -0.002216    0.005066   \n",
       "\n",
       "instrument  515000.HOF  515700.HOF  \n",
       "date                                \n",
       "2020-02-12    0.018842    0.040210  \n",
       "2020-02-13   -0.004795   -0.010084  \n",
       "2020-02-14   -0.000688   -0.010187  \n",
       "2020-02-17    0.037879    0.042024  \n",
       "2020-02-18    0.007299    0.003292  \n",
       "...                ...         ...  \n",
       "2021-04-28    0.004566    0.026369  \n",
       "2021-04-29    0.001136    0.000494  \n",
       "2021-04-30    0.003405    0.019259  \n",
       "2021-05-06   -0.026584   -0.007752  \n",
       "2021-05-07   -0.031958   -0.030273  \n",
       "\n",
       "[301 rows x 17 columns]"
      ]
     },
     "execution_count": 39,
     "metadata": {},
     "output_type": "execute_result"
    }
   ],
   "source": [
    "## 获取数据\n",
    "start_date = '2020-02-11'\n",
    "end_date = '2021-05-07'\n",
    "instruments =['512700.HOF','515000.HOF','159902.ZOF','159920.ZOF','512400.HOF','515700.HOF','159938.ZOF','159915.ZOF','512580.HOF','512690.HOF','510330.HOF','512980.HOF','513500.HOF','512680.HOF','513100.HOF','512880.HOF','513050.HOF']\n",
    "\n",
    "data = DataSource('bar1d_CN_FUND').read(instruments, start_date=start_date, end_date=end_date, fields=['close'])\n",
    "benchmark = D.history_data('000300.SHA',start_date,end_date,fields=['close'])\n",
    "\n",
    "# 整理数据\n",
    "data = pd.pivot_table(data,values='close',index=['date'],columns=['instrument'])\n",
    "benchmark_returns = benchmark.drop('instrument',axis=1).set_index('date').pct_change().dropna()\n",
    "returns = data.pct_change().dropna()\n",
    "# returns['cash'] = 0.002\n",
    "\n",
    "meanReturns = returns.mean()\n",
    "stdReturns = returns.std()\n",
    "covMatrix = np.cov(returns.T)\n",
    "reg=LinearRegression()\n",
    "reg.fit(benchmark_returns,returns)\n",
    "B = reg.coef_\n",
    "returns"
   ]
  },
  {
   "cell_type": "code",
   "execution_count": 48,
   "metadata": {},
   "outputs": [
    {
     "data": {
      "text/plain": [
       "array([[1.1443301 ],\n",
       "       [1.2179074 ],\n",
       "       [0.612148  ],\n",
       "       [0.8764337 ],\n",
       "       [0.9865658 ],\n",
       "       [1.1990108 ],\n",
       "       [1.090183  ],\n",
       "       [1.1073022 ],\n",
       "       [1.2119395 ],\n",
       "       [0.5668468 ],\n",
       "       [1.2513231 ],\n",
       "       [0.7966421 ],\n",
       "       [0.8315789 ],\n",
       "       [0.72143745],\n",
       "       [0.51474124],\n",
       "       [1.1658688 ],\n",
       "       [1.3809456 ]], dtype=float32)"
      ]
     },
     "execution_count": 48,
     "metadata": {},
     "output_type": "execute_result"
    }
   ],
   "source": [
    "B"
   ]
  },
  {
   "cell_type": "code",
   "execution_count": 40,
   "metadata": {},
   "outputs": [],
   "source": [
    "def MV_problem():\n",
    "    n = len(meanReturns)\n",
    "    w = cvx.Variable(n)\n",
    "    gamma = cvx.Parameter(nonneg=True)\n",
    "    ret = meanReturns.values.T*w \n",
    "    risk = cvx.quad_form(w, covMatrix)\n",
    "    prob = cvx.Problem(cvx.Maximize(ret - gamma*risk), \n",
    "                   [cvx.sum(w) == 1])\n",
    "    return prob,ret,risk,gamma\n",
    "\n",
    "def plot_frontier(prob_fun,show_mv=False):\n",
    "    prob,ret,risk,gamma = prob_fun()\n",
    "    SAMPLES = 100\n",
    "    risk_data = np.zeros(SAMPLES)\n",
    "    ret_data = np.zeros(SAMPLES)\n",
    "    gamma_vals = np.logspace(-2, 3, num=SAMPLES)\n",
    "    for i in range(SAMPLES):\n",
    "        gamma.value = gamma_vals[i]\n",
    "        prob.solve()\n",
    "        risk_data[i] = cvx.sqrt(risk).value\n",
    "        ret_data[i] = ret.value\n",
    "    fig = plt.figure()\n",
    "    ax = fig.add_subplot(111)\n",
    "    plt.plot(risk_data, ret_data, 'g-',label='prob')\n",
    "    plt.plot(stdReturns, meanReturns, 'ro')\n",
    "    if show_mv:\n",
    "        mv_prob,mv_ret,mv_risk,gamma = MV_problem()\n",
    "        mv_risk_data = np.zeros(SAMPLES)\n",
    "        mv_ret_data = np.zeros(SAMPLES)\n",
    "        gamma_vals = np.logspace(-2, 3, num=SAMPLES)\n",
    "        for i in range(SAMPLES):\n",
    "            gamma.value = gamma_vals[i]\n",
    "            mv_prob.solve()\n",
    "            mv_risk_data[i] = cvx.sqrt(mv_risk).value\n",
    "            mv_ret_data[i] = mv_ret.value\n",
    "        plt.plot(mv_risk_data, mv_ret_data, 'b-',label='MV')\n",
    "        plt.legend()\n",
    "    plt.xlim(0,0.05)\n",
    "    plt.ylim(-0.002,0.01)\n",
    "    plt.xlabel('Standard deviation')\n",
    "    plt.ylabel('Return')\n",
    "    plt.show()"
   ]
  },
  {
   "cell_type": "code",
   "execution_count": 41,
   "metadata": {},
   "outputs": [
    {
     "data": {
      "image/png": "[encoded data removed]",
      "text/plain": [
       "<Figure size 432x288 with 1 Axes>"
      ]
     },
     "metadata": {
      "needs_background": "light"
     },
     "output_type": "display_data"
    }
   ],
   "source": [
    "plot_frontier(MV_problem)"
   ]
  },
  {
   "cell_type": "markdown",
   "metadata": {},
   "source": [
    "#### 禁止做空约束\n",
    "\n",
    "\\begin{align*}\n",
    "\\mathop{maximize} \\quad      & \\mu^{\\prime}w − \\gamma w^{\\prime} \\Sigma w\\\\\n",
    "\\mathop{subject \\, to} \\quad & \\boldsymbol{1}w=1, w \\in \\mathcal{W}\\\\\n",
    "                             & w >=0\n",
    "\\end{align*}\n",
    "\n",
    "在下面的实验中我们可以看到，在禁止做空的约束下，意味着同样不能够用多头杠杆，因为我们设定组合是全额投资没有任何净杠杆敞口。所以我们的投资组合可用的资产配置空间也被大大挤压，并且在这样的条件下，组合的最大收益取决于组合中最大收益的股票。"
   ]
  },
  {
   "cell_type": "code",
   "execution_count": 42,
   "metadata": {},
   "outputs": [
    {
     "data": {
      "image/png": "[encoded data removed]",
      "text/plain": [
       "<Figure size 432x288 with 1 Axes>"
      ]
     },
     "metadata": {
      "needs_background": "light"
     },
     "output_type": "display_data"
    }
   ],
   "source": [
    "def longonly_problem():\n",
    "    n = len(meanReturns)\n",
    "    w = cvx.Variable(n)\n",
    "    gamma = cvx.Parameter(nonneg=True)\n",
    "    ret = meanReturns.values.T*w \n",
    "    risk = cvx.quad_form(w, covMatrix)\n",
    "    prob = cvx.Problem(cvx.Maximize(ret - gamma*risk), \n",
    "                   [cvx.sum(w) == 1,\n",
    "                    w >= 0])\n",
    "    return prob,ret,risk,gamma\n",
    "plot_frontier(longonly_problem,True)"
   ]
  },
  {
   "cell_type": "markdown",
   "metadata": {},
   "source": [
    "#### 换手率约束\n",
    "\n",
    "\\begin{align*}\n",
    "\\mathop{maximize} \\quad      & \\mu^{\\prime}w − \\gamma w^{\\prime} \\Sigma w\\\\\n",
    "\\mathop{subject \\, to} \\quad & \\boldsymbol{1}w=1, w \\in \\mathcal{W}\\\\\n",
    "                             & \\sum_{i \\in \\mathcal{I}}\\left\\lvert w_i \\right\\lvert <= U\n",
    "\\end{align*}\n",
    "\n",
    "较高组合换手率意味着较大的交易成本，这会让组合再平衡变得没有效率。所以一个可行的办法是给组合换手率或者单只股票的还手设上限，比如设定每个行业或者板块5%的换手上限。\n",
    "\n",
    "在下面的实验中我们设定了单只股票10%的换手上限，换手上限这个参数对前沿曲线与马科维茨前沿的离差比较敏感。"
   ]
  },
  {
   "cell_type": "code",
   "execution_count": 43,
   "metadata": {},
   "outputs": [
    {
     "data": {
      "image/png": "[encoded data removed]",
      "text/plain": [
       "<Figure size 432x288 with 1 Axes>"
      ]
     },
     "metadata": {
      "needs_background": "light"
     },
     "output_type": "display_data"
    }
   ],
   "source": [
    "def turnover_problem(U=0.1):\n",
    "    n = len(meanReturns)\n",
    "    w = cvx.Variable(n)\n",
    "    gamma = cvx.Parameter(nonneg=True)\n",
    "    ret = meanReturns.values.T*w \n",
    "    risk = cvx.quad_form(w, covMatrix)\n",
    "    prob = cvx.Problem(cvx.Maximize(ret - gamma*risk), \n",
    "                   [cvx.sum(w) == 1,\n",
    "                    cvx.abs(w) <= U])\n",
    "    return prob,ret,risk,gamma\n",
    "plot_frontier(turnover_problem,True)"
   ]
  },
  {
   "cell_type": "markdown",
   "metadata": {},
   "source": [
    "#### 持有约束\n",
    "\n",
    "\\begin{align*}\n",
    "\\mathop{maximize} \\quad      & \\mu^{\\prime}w − \\gamma w^{\\prime} \\Sigma w\\\\\n",
    "\\mathop{subject \\, to} \\quad & \\boldsymbol{1}w=1, w \\in \\mathcal{W}\\\\\n",
    "                             & L_i <= w_i <= U_i\n",
    "\\end{align*}\n",
    "\n",
    "对于一些大型的共同基金，持有一家上市公司的股票，其市值不得超过基金资产净值的10％，有些可能还规定必须持有最低限度某类股票，如蓝筹股。于是，在这些场景中，我们就可以设定持有约束。这个问题也可以对一些投资人偏爱某类股票做建模，对某类股票设定上下限区间。\n",
    "\n",
    "在我们的实验中，我们对每个股票设定了1%下限和10%的上限，可以看到这样的有效前沿非常”无效“。这样我们就可以理解为什么总体上来说，私募比共同基金更有可能获取更高的收益了。"
   ]
  },
  {
   "cell_type": "code",
   "execution_count": 44,
   "metadata": {},
   "outputs": [
    {
     "data": {
      "image/png": "[encoded data removed]",
      "text/plain": [
       "<Figure size 432x288 with 1 Axes>"
      ]
     },
     "metadata": {
      "needs_background": "light"
     },
     "output_type": "display_data"
    }
   ],
   "source": [
    "def holding_problem(L=np.ones(len(meanReturns))*0.01,U=np.ones(len(meanReturns))*0.1):\n",
    "    n = len(meanReturns)\n",
    "    w = cvx.Variable(n)\n",
    "    gamma = cvx.Parameter(nonneg=True)\n",
    "    ret = meanReturns.values.T*w \n",
    "    risk = cvx.quad_form(w, covMatrix)\n",
    "    prob = cvx.Problem(cvx.Maximize(ret - gamma*risk), \n",
    "                   [cvx.sum(w) == 1,\n",
    "                    w <= U,\n",
    "                    w >= L])\n",
    "    return prob,ret,risk,gamma\n",
    "plot_frontier(holding_problem,True)"
   ]
  },
  {
   "cell_type": "markdown",
   "metadata": {},
   "source": [
    "#### 交易成本约束\n",
    "\n",
    "\\begin{align*}\n",
    "\\mathop{maximize} \\quad      & \\boldsymbol{\\mu^{\\prime}w} − \\gamma \\boldsymbol{w^{\\prime} \\Sigma w} - \\lambda \\boldsymbol{\\theta^{\\prime} |w-w_0|}\\\\\n",
    "\\mathop{subject \\, to} \\quad & \\boldsymbol{1^{\\prime} w}=1, \\boldsymbol{w} \\in \\mathcal{W}\\\\\n",
    "                             & L_i <= w_i <= U_i\n",
    "\\end{align*}\n",
    "\n",
    "在实践中，我们一定要考虑到交易成本的因素。交易成本主要分线性成本和非线性成本，线性成本包括手续费、佣金等与交易规模成比例的部分；非线性成本主要是对价格冲击成本的建模。\n",
    "\n",
    "在我们的这个案例中，暂且只包含线性成本，设定了0.3%的交易佣金，对交易成本的厌恶系数暂且设为0.5。我们可以看到交易成本下的前沿曲线都不是平滑的（我也不知道为啥），并会整体拉低前沿曲线和均值方差前沿的离差，离差与交易成本的厌恶系数比较敏感。"
   ]
  },
  {
   "cell_type": "code",
   "execution_count": 45,
   "metadata": {},
   "outputs": [
    {
     "data": {
      "image/png": "[encoded data removed]",
      "text/plain": [
       "<Figure size 432x288 with 1 Axes>"
      ]
     },
     "metadata": {
      "needs_background": "light"
     },
     "output_type": "display_data"
    }
   ],
   "source": [
    "def transaction_problem(w0=np.ones(len(meanReturns))/len(meanReturns),lam=.5,theta=0.003):\n",
    "    n = len(meanReturns)\n",
    "    w = cvx.Variable(n)\n",
    "    gamma = cvx.Parameter(nonneg=True)\n",
    "    ret = meanReturns.values.T*w \n",
    "    risk = cvx.quad_form(w, covMatrix)\n",
    "    dws = cvx.sum(cvx.abs(w-w0))\n",
    "    TC = theta*dws\n",
    "    prob = cvx.Problem(cvx.Maximize(ret - gamma*risk - lam*TC), \n",
    "                   [cvx.sum(w) == 1])\n",
    "    return prob,ret,risk,gamma\n",
    "plot_frontier(transaction_problem,True)"
   ]
  },
  {
   "cell_type": "markdown",
   "metadata": {},
   "source": [
    "#### 因子模型\n",
    "\n",
    "\\begin{align*}\n",
    "\\mathop{maximize} \\quad      & \\boldsymbol{\\mu^{\\prime}w} − \\gamma \\boldsymbol{w^{\\prime} S w}\\\\\n",
    "\\mathop{subject \\, to} \\quad & \\boldsymbol{1^{\\prime} w}=1, \\boldsymbol{w} \\in \\mathcal{W}\\\\\n",
    "                             & \\boldsymbol{B^{\\prime} w = 0}\n",
    "\\end{align*}\n",
    "\n",
    "在之前的很多篇文章都提高过，对协方差的估计难度是非常大的，用因子模型对协方差建模是业界的一个流行做法。因子组合中可能包含基准（市场因子）因子、规模因子、价值因子、波动率因子、行业因子等，对于风险中性的策略来说，在所有的这些因子暴露都为0，那么整个组合的风险就只有股票自身的特异风险。\n",
    "\n",
    "一个真正的风险模型在于它对协方差有较高的解释程度，在我们下面的案例中，为简单演示，只考虑了市场因子，会对协方差估计有较大的偏误，不过不影响阐述基本概念。同时，我们的组合还是风险因子中性的，简单说在我们的例子里，模型是市场中性的。"
   ]
  },
  {
   "cell_type": "code",
   "execution_count": 46,
   "metadata": {},
   "outputs": [
    {
     "data": {
      "image/png": "[encoded data removed]",
      "text/plain": [
       "<Figure size 432x288 with 1 Axes>"
      ]
     },
     "metadata": {
      "needs_background": "light"
     },
     "output_type": "display_data"
    }
   ],
   "source": [
    "def factor_problem():\n",
    "    n = len(meanReturns)\n",
    "    w = cvx.Variable(n)\n",
    "    gamma = cvx.Parameter(nonneg=True)\n",
    "    ret = meanReturns.values.T*w \n",
    "    f = B.T*w # 因子收益\n",
    "    D = np.diag(returns.var())\n",
    "    #Sigma_tilde = np.cov(benchmark_returns.values.T).reshape(m,m) # 系统风险\n",
    "    risk = cvx.quad_form(w, D)\n",
    "    prob = cvx.Problem(cvx.Maximize(ret - gamma*risk), \n",
    "                   [cvx.sum(w) == 1,\n",
    "                    f == 0])\n",
    "    return prob,ret,risk,gamma\n",
    "plot_frontier(factor_problem,True)"
   ]
  },
  {
   "cell_type": "markdown",
   "metadata": {},
   "source": [
    "#### All in one\n",
    "\n",
    "在这个实验中，我们把持有约束、交易成本约束以及风险模型综合在一个优化问题中。"
   ]
  },
  {
   "cell_type": "code",
   "execution_count": 47,
   "metadata": {},
   "outputs": [
    {
     "data": {
      "image/png": "[encoded data removed]",
      "text/plain": [
       "<Figure size 432x288 with 1 Axes>"
      ]
     },
     "metadata": {
      "needs_background": "light"
     },
     "output_type": "display_data"
    }
   ],
   "source": [
    "def all_in_one_problem(w0=np.ones(len(meanReturns))/len(meanReturns),lam=.1,theta=0.003,L=-0.1,U=0.1):\n",
    "    n = len(meanReturns)\n",
    "    w = cvx.Variable(n)\n",
    "    gamma = cvx.Parameter(nonneg=True)\n",
    "    ret = meanReturns.values.T*w \n",
    "    f = B.T*w # 因子收益\n",
    "    D = np.diag(returns.var())\n",
    "    #risk = cvx.quad_form(w, covMatrix)\n",
    "    risk = cvx.quad_form(w, D)\n",
    "    dws = cvx.sum(cvx.abs(w-w0))\n",
    "    TC = theta*dws\n",
    "    prob = cvx.Problem(cvx.Maximize(ret - gamma*risk - lam*TC), \n",
    "                   [cvx.sum(w) == 1,\n",
    "                    w >= L,\n",
    "                    w <= U,\n",
    "                    f == 0])\n",
    "    return prob,ret,risk,gamma\n",
    "plot_frontier(all_in_one_problem,True)"
   ]
  },
  {
   "cell_type": "markdown",
   "metadata": {},
   "source": [
    "#### 主动投资\n",
    "\n",
    "\\begin{align*}\n",
    "Maximize \\qquad & \\boldsymbol{w_a^{\\prime} \\alpha} - \\lambda \\boldsymbol{w_a^{\\prime} (\\Sigma - \\beta \\beta^{\\prime} \\sigma_b^2) w_a}\n",
    "                        = \\alpha_p - \\lambda \\omega_p^2\\\\\n",
    "s.t \\qquad      & \\boldsymbol{w_a^{\\prime}} \\boldsymbol{1} = 0\\\\\n",
    "    \\qquad      & \\boldsymbol{\\beta^{\\prime} w_a} = 1\n",
    "\\end{align*}\n",
    "\n",
    "上面的定义在我们之前的主动投资——信息率的教程里出现过。这里就留给读者自己动手实验一下。"
   ]
  },
  {
   "cell_type": "markdown",
   "metadata": {},
   "source": [
    "## 总结\n",
    "\n",
    "我们这里展现了一些最常见的组合优化场景，当然我们还有很多的现实场景没有包含在这篇教程内，其中包括交易整数手约束、股票数量约束、非线性交易成本约束、多账户约束等。另外，我们也没有对其他不同的目标函数做实验，不过基本原理都是相同的。当然不是所有的优化问题都是凸优化问题，但在实践中我们尽可能地将问题表述为优化问题，有几方面原因，其一是实现相对简单，其二是在实际中可行。更一般的问题是MIPS混合整型规划，这个问题在最一般的情景下是NP完全问题，问题的复杂性呈指数级别上升。还有一点需要提醒读者的是，在我们的实验中得到的前沿曲线都是后验曲线，还有一种类型是先验曲线，只需要把$\\boldsymbol{\\mu}$换成alpha预测向量就ok了。\n",
    "\n",
    "在这里我们主要想阐述的是量化股票投资组合的pipeline，也就是从alpha生成->组合构建的整条工作流。组合构建或者组合优化是把信息、风险、约束以及偏好系统性地结合在一起。在我个人看来，组合优化与alpha预测都同等重要。"
   ]
  },
  {
   "cell_type": "markdown",
   "metadata": {},
   "source": [
    "## Alpha系列回顾\n",
    "\n",
    "- [Alpha系列——股票主动投资组合管理思想和框架](https://community.bigquant.com/t/Alpha%E7%B3%BB%E5%88%97%E2%80%94%E2%80%94%E8%82%A1%E7%A5%A8%E4%B8%BB%E5%8A%A8%E6%8A%95%E8%B5%84%E7%BB%84%E5%90%88%E7%AE%A1%E7%90%86%E6%80%9D%E6%83%B3%E5%92%8C%E6%A1%86%E6%9E%B6/9263/4)\n",
    "- [Alpha系列——从均值方差到有效前沿](https://community.bigquant.com/t/Alpha%E7%B3%BB%E5%88%97%EF%BC%88%E4%B8%80%EF%BC%89%E2%80%94%E2%80%94%E4%BB%8E%E5%9D%87%E5%80%BC%E6%96%B9%E5%B7%AE%E5%88%B0%E6%9C%89%E6%95%88%E5%89%8D%E6%B2%BF%E3%80%90%E4%BB%A3%E7%A0%81%E5%AE%8C%E6%95%B4%E7%89%88%E3%80%91/9403/1)\n",
    "- [Alpha系列——从MPT到APT](https://community.bigquant.com/t/Alpha%E7%B3%BB%E5%88%97%EF%BC%88%E4%BA%8C%EF%BC%89%E2%80%94%E2%80%94%E4%BB%8EMPT%E5%88%B0APT/9882)\n",
    "- [Alpha系列——主动投资管理之信息率](https://community.bigquant.com/t/Alpha%E7%B3%BB%E5%88%97%E4%B8%89%E2%80%94%E2%80%94%E4%B8%BB%E5%8A%A8%E6%8A%95%E8%B5%84%E7%AE%A1%E7%90%86%E4%B9%8B%E4%BF%A1%E6%81%AF%E7%8E%87/10073)\n",
    "- [Alpha系列——主动管理基本定律（初级篇）](https://community.bigquant.com/t/Alpha%E7%B3%BB%E5%88%97%E2%80%94%E2%80%94%E4%B8%BB%E5%8A%A8%E6%8A%95%E8%B5%84%E7%AE%A1%E7%90%86%E5%AE%9A%E5%BE%8B%EF%BC%88%E5%9F%BA%E6%9C%AC%E7%AF%87%EF%BC%89/10314)\n",
    "- [Alpha系列——因子模型](https://community.bigquant.com/t/Alpha%E7%B3%BB%E5%88%97%E2%80%94%E2%80%94%E5%9B%A0%E5%AD%90%E6%A8%A1%E5%9E%8B/110235/2)\n",
    "\n",
    "## 参考文献\n",
    "\n",
    "1. 《[CVXPY文档](http://www.cvxpy.org/index.html)》\n",
    "2. 《[A professional quant equity workflow](https://blog.quantopian.com/a-professional-quant-equity-workflow)》\n",
    "3. 《Quantitative Equity Portfolio Management》\n",
    "4. 《Optimization and Management》\n",
    "5. 《主动投资组合管理》\n"
   ]
  }
 ],
 "metadata": {
  "kernelspec": {
   "display_name": "Python 3",
   "language": "python",
   "name": "python3"
  },
  "language_info": {
   "codemirror_mode": {
    "name": "ipython",
    "version": 3
   },
   "file_extension": ".py",
   "mimetype": "text/x-python",
   "name": "python",
   "nbconvert_exporter": "python",
   "pygments_lexer": "ipython3",
   "version": "3.8.7"
  }
 },
 "nbformat": 4,
 "nbformat_minor": 4
}
