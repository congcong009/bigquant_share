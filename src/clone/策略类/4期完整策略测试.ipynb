{
 "cells": [
  {
   "cell_type": "code",
   "execution_count": null,
   "metadata": {
    "machine_learning_studio": "true",
    "ml_studio_json": "{\"Description\":\"实验创建于2017/8/26\",\"Summary\":\"\",\"Graph\":{\"EdgesInternal\":[{\"DestinationInputPortId\":\"287d2cb0-f53c-4101-bdf8-104b137c8601-15:instruments\",\"SourceOutputPortId\":\"287d2cb0-f53c-4101-bdf8-104b137c8601-8:data\"},{\"DestinationInputPortId\":\"287d2cb0-f53c-4101-bdf8-104b137c8601-53:data1\",\"SourceOutputPortId\":\"287d2cb0-f53c-4101-bdf8-104b137c8601-15:data\"},{\"DestinationInputPortId\":\"-186:input_data\",\"SourceOutputPortId\":\"287d2cb0-f53c-4101-bdf8-104b137c8601-53:data\"},{\"DestinationInputPortId\":\"287d2cb0-f53c-4101-bdf8-104b137c8601-53:data2\",\"SourceOutputPortId\":\"-346:data\"},{\"DestinationInputPortId\":\"-190:input_data\",\"SourceOutputPortId\":\"-360:data\"},{\"DestinationInputPortId\":\"-360:input_data\",\"SourceOutputPortId\":\"-7016:data\"},{\"DestinationInputPortId\":\"-346:input_data\",\"SourceOutputPortId\":\"-308:data\"},{\"DestinationInputPortId\":\"-170:input_data\",\"SourceOutputPortId\":\"-565:data_1\"},{\"DestinationInputPortId\":\"-174:input_data\",\"SourceOutputPortId\":\"-2040:data_1\"},{\"DestinationInputPortId\":\"-568:training_ds\",\"SourceOutputPortId\":\"-805:transform_trainds\"},{\"DestinationInputPortId\":\"-568:predict_ds\",\"SourceOutputPortId\":\"-805:transform_predictds\"},{\"DestinationInputPortId\":\"-370:instruments\",\"SourceOutputPortId\":\"-764:data\"},{\"DestinationInputPortId\":\"-557:sort_by_ds\",\"SourceOutputPortId\":\"-421:data\"},{\"DestinationInputPortId\":\"-370:options_data\",\"SourceOutputPortId\":\"-557:sorted_data\"},{\"DestinationInputPortId\":\"-557:input_ds\",\"SourceOutputPortId\":\"-568:predictions\"},{\"DestinationInputPortId\":\"-805:training_ds\",\"SourceOutputPortId\":\"-170:data\"},{\"DestinationInputPortId\":\"-805:predict_ds\",\"SourceOutputPortId\":\"-174:data\"},{\"DestinationInputPortId\":\"-360:features\",\"SourceOutputPortId\":\"-177:feature_list\"},{\"DestinationInputPortId\":\"-346:features\",\"SourceOutputPortId\":\"-177:feature_list\"},{\"DestinationInputPortId\":\"-805:features\",\"SourceOutputPortId\":\"-177:feature_list\"},{\"DestinationInputPortId\":\"-568:features\",\"SourceOutputPortId\":\"-177:feature_list\"},{\"DestinationInputPortId\":\"-565:input_2\",\"SourceOutputPortId\":\"-181:feature_list\"},{\"DestinationInputPortId\":\"-2040:input_2\",\"SourceOutputPortId\":\"-181:feature_list\"},{\"DestinationInputPortId\":\"-565:input_1\",\"SourceOutputPortId\":\"-186:data\"},{\"DestinationInputPortId\":\"-2040:input_1\",\"SourceOutputPortId\":\"-190:data\"}],\"ModuleNodes\":[{\"Id\":\"287d2cb0-f53c-4101-bdf8-104b137c8601-8\",\"ModuleId\":\"BigQuantSpace.instruments.instruments-v2\",\"ModuleParameters\":[{\"Name\":\"start_date\",\"Value\":\"2014-10-31\",\"ValueType\":\"Literal\",\"LinkedGlobalParameter\":null},{\"Name\":\"end_date\",\"Value\":\"2016-10-31\",\"ValueType\":\"Literal\",\"LinkedGlobalParameter\":null},{\"Name\":\"market\",\"Value\":\"CN_STOCK_A\",\"ValueType\":\"Literal\",\"LinkedGlobalParameter\":null},{\"Name\":\"instrument_list\",\"Value\":\"\",\"ValueType\":\"Literal\",\"LinkedGlobalParameter\":null},{\"Name\":\"max_count\",\"Value\":\"0\",\"ValueType\":\"Literal\",\"LinkedGlobalParameter\":null}],\"InputPortsInternal\":[{\"DataSourceId\":null,\"TrainedModelId\":null,\"TransformModuleId\":null,\"Name\":\"rolling_conf\",\"NodeId\":\"287d2cb0-f53c-4101-bdf8-104b137c8601-8\"}],\"OutputPortsInternal\":[{\"Name\":\"data\",\"NodeId\":\"287d2cb0-f53c-4101-bdf8-104b137c8601-8\",\"OutputType\":null}],\"UsePreviousResults\":true,\"moduleIdForCode\":1,\"IsPartOfPartialRun\":null,\"Comment\":\"\",\"CommentCollapsed\":true},{\"Id\":\"287d2cb0-f53c-4101-bdf8-104b137c8601-15\",\"ModuleId\":\"BigQuantSpace.advanced_auto_labeler.advanced_auto_labeler-v2\",\"ModuleParameters\":[{\"Name\":\"label_expr\",\"Value\":\"# 计算收益：5日经波动率调整后收益率\\nshift(close, -5) / shift(open, -1)/ std(shift(close, -7) / shift(open, -6),5)\\n\\n# 极值处理：用1%和99%分位的值做clip\\nclip(label, all_quantile(label, 0.01), all_quantile(label, 0.99))\\n\\n# 将分数映射到分类，这里使用50个分类\\nall_wbins(label, 50)\\n\\n# 过滤掉一字涨停的情况 (设置label为NaN，在后续处理和训练中会忽略NaN的label)\\nwhere(shift(high, -1) == shift(low, -1), NaN, label)\",\"ValueType\":\"Literal\",\"LinkedGlobalParameter\":null},{\"Name\":\"start_date\",\"Value\":\"\",\"ValueType\":\"Literal\",\"LinkedGlobalParameter\":null},{\"Name\":\"end_date\",\"Value\":\"\",\"ValueType\":\"Literal\",\"LinkedGlobalParameter\":null},{\"Name\":\"benchmark\",\"Value\":\"399102.ZIX\",\"ValueType\":\"Literal\",\"LinkedGlobalParameter\":null},{\"Name\":\"drop_na_label\",\"Value\":\"True\",\"ValueType\":\"Literal\",\"LinkedGlobalParameter\":null},{\"Name\":\"cast_label_int\",\"Value\":\"True\",\"ValueType\":\"Literal\",\"LinkedGlobalParameter\":null},{\"Name\":\"user_functions\",\"Value\":\"\",\"ValueType\":\"Literal\",\"LinkedGlobalParameter\":null}],\"InputPortsInternal\":[{\"DataSourceId\":null,\"TrainedModelId\":null,\"TransformModuleId\":null,\"Name\":\"instruments\",\"NodeId\":\"287d2cb0-f53c-4101-bdf8-104b137c8601-15\"}],\"OutputPortsInternal\":[{\"Name\":\"data\",\"NodeId\":\"287d2cb0-f53c-4101-bdf8-104b137c8601-15\",\"OutputType\":null}],\"UsePreviousResults\":true,\"moduleIdForCode\":2,\"IsPartOfPartialRun\":null,\"Comment\":\"\",\"CommentCollapsed\":true},{\"Id\":\"287d2cb0-f53c-4101-bdf8-104b137c8601-53\",\"ModuleId\":\"BigQuantSpace.join.join-v3\",\"ModuleParameters\":[{\"Name\":\"on\",\"Value\":\"date,instrument\",\"ValueType\":\"Literal\",\"LinkedGlobalParameter\":null},{\"Name\":\"how\",\"Value\":\"inner\",\"ValueType\":\"Literal\",\"LinkedGlobalParameter\":null},{\"Name\":\"sort\",\"Value\":\"False\",\"ValueType\":\"Literal\",\"LinkedGlobalParameter\":null}],\"InputPortsInternal\":[{\"DataSourceId\":null,\"TrainedModelId\":null,\"TransformModuleId\":null,\"Name\":\"data1\",\"NodeId\":\"287d2cb0-f53c-4101-bdf8-104b137c8601-53\"},{\"DataSourceId\":null,\"TrainedModelId\":null,\"TransformModuleId\":null,\"Name\":\"data2\",\"NodeId\":\"287d2cb0-f53c-4101-bdf8-104b137c8601-53\"}],\"OutputPortsInternal\":[{\"Name\":\"data\",\"NodeId\":\"287d2cb0-f53c-4101-bdf8-104b137c8601-53\",\"OutputType\":null}],\"UsePreviousResults\":true,\"moduleIdForCode\":7,\"IsPartOfPartialRun\":null,\"Comment\":\"\",\"CommentCollapsed\":true},{\"Id\":\"-346\",\"ModuleId\":\"BigQuantSpace.derived_feature_extractor.derived_feature_extractor-v3\",\"ModuleParameters\":[{\"Name\":\"date_col\",\"Value\":\"date\",\"ValueType\":\"Literal\",\"LinkedGlobalParameter\":null},{\"Name\":\"instrument_col\",\"Value\":\"instrument\",\"ValueType\":\"Literal\",\"LinkedGlobalParameter\":null},{\"Name\":\"drop_na\",\"Value\":\"False\",\"ValueType\":\"Literal\",\"LinkedGlobalParameter\":null},{\"Name\":\"remove_extra_columns\",\"Value\":\"True\",\"ValueType\":\"Literal\",\"LinkedGlobalParameter\":null},{\"Name\":\"user_functions\",\"Value\":\"\",\"ValueType\":\"Literal\",\"LinkedGlobalParameter\":null}],\"InputPortsInternal\":[{\"DataSourceId\":null,\"TrainedModelId\":null,\"TransformModuleId\":null,\"Name\":\"input_data\",\"NodeId\":\"-346\"},{\"DataSourceId\":null,\"TrainedModelId\":null,\"TransformModuleId\":null,\"Name\":\"features\",\"NodeId\":\"-346\"}],\"OutputPortsInternal\":[{\"Name\":\"data\",\"NodeId\":\"-346\",\"OutputType\":null}],\"UsePreviousResults\":true,\"moduleIdForCode\":16,\"IsPartOfPartialRun\":null,\"Comment\":\"\",\"CommentCollapsed\":true},{\"Id\":\"-360\",\"ModuleId\":\"BigQuantSpace.derived_feature_extractor.derived_feature_extractor-v3\",\"ModuleParameters\":[{\"Name\":\"date_col\",\"Value\":\"date\",\"ValueType\":\"Literal\",\"LinkedGlobalParameter\":null},{\"Name\":\"instrument_col\",\"Value\":\"instrument\",\"ValueType\":\"Literal\",\"LinkedGlobalParameter\":null},{\"Name\":\"drop_na\",\"Value\":\"False\",\"ValueType\":\"Literal\",\"LinkedGlobalParameter\":null},{\"Name\":\"remove_extra_columns\",\"Value\":\"True\",\"ValueType\":\"Literal\",\"LinkedGlobalParameter\":null},{\"Name\":\"user_functions\",\"Value\":\"\",\"ValueType\":\"Literal\",\"LinkedGlobalParameter\":null}],\"InputPortsInternal\":[{\"DataSourceId\":null,\"TrainedModelId\":null,\"TransformModuleId\":null,\"Name\":\"input_data\",\"NodeId\":\"-360\"},{\"DataSourceId\":null,\"TrainedModelId\":null,\"TransformModuleId\":null,\"Name\":\"features\",\"NodeId\":\"-360\"}],\"OutputPortsInternal\":[{\"Name\":\"data\",\"NodeId\":\"-360\",\"OutputType\":null}],\"UsePreviousResults\":true,\"moduleIdForCode\":18,\"IsPartOfPartialRun\":null,\"Comment\":\"\",\"CommentCollapsed\":true},{\"Id\":\"-7016\",\"ModuleId\":\"BigQuantSpace.chinaa_stock_filter.chinaa_stock_filter-v1\",\"ModuleParameters\":[{\"Name\":\"index_constituent_cond\",\"Value\":\"%7B%22enumItems%22%3A%5B%7B%22value%22%3A%22%E5%85%A8%E9%83%A8%22%2C%22displayValue%22%3A%22%E5%85%A8%E9%83%A8%22%2C%22selected%22%3Afalse%7D%2C%7B%22value%22%3A%22%E4%B8%8A%E8%AF%8150%22%2C%22displayValue%22%3A%22%E4%B8%8A%E8%AF%8150%22%2C%22selected%22%3Afalse%7D%2C%7B%22value%22%3A%22%E6%B2%AA%E6%B7%B1300%22%2C%22displayValue%22%3A%22%E6%B2%AA%E6%B7%B1300%22%2C%22selected%22%3Afalse%7D%2C%7B%22value%22%3A%22%E4%B8%AD%E8%AF%81500%22%2C%22displayValue%22%3A%22%E4%B8%AD%E8%AF%81500%22%2C%22selected%22%3Afalse%7D%2C%7B%22value%22%3A%22%E4%B8%AD%E8%AF%81800%22%2C%22displayValue%22%3A%22%E4%B8%AD%E8%AF%81800%22%2C%22selected%22%3Atrue%7D%2C%7B%22value%22%3A%22%E4%B8%8A%E8%AF%81180%22%2C%22displayValue%22%3A%22%E4%B8%8A%E8%AF%81180%22%2C%22selected%22%3Afalse%7D%2C%7B%22value%22%3A%22%E4%B8%AD%E8%AF%81100%22%2C%22displayValue%22%3A%22%E4%B8%AD%E8%AF%81100%22%2C%22selected%22%3Afalse%7D%2C%7B%22value%22%3A%22%E6%B7%B1%E8%AF%81100%22%2C%22displayValue%22%3A%22%E6%B7%B1%E8%AF%81100%22%2C%22selected%22%3Afalse%7D%5D%7D\",\"ValueType\":\"Literal\",\"LinkedGlobalParameter\":null},{\"Name\":\"board_cond\",\"Value\":\"%7B%22enumItems%22%3A%5B%7B%22value%22%3A%22%E5%85%A8%E9%83%A8%22%2C%22displayValue%22%3A%22%E5%85%A8%E9%83%A8%22%2C%22selected%22%3Atrue%7D%2C%7B%22value%22%3A%22%E4%B8%8A%E8%AF%81%E4%B8%BB%E6%9D%BF%22%2C%22displayValue%22%3A%22%E4%B8%8A%E8%AF%81%E4%B8%BB%E6%9D%BF%22%2C%22selected%22%3Afalse%7D%2C%7B%22value%22%3A%22%E6%B7%B1%E8%AF%81%E4%B8%BB%E6%9D%BF%22%2C%22displayValue%22%3A%22%E6%B7%B1%E8%AF%81%E4%B8%BB%E6%9D%BF%22%2C%22selected%22%3Afalse%7D%2C%7B%22value%22%3A%22%E5%88%9B%E4%B8%9A%E6%9D%BF%22%2C%22displayValue%22%3A%22%E5%88%9B%E4%B8%9A%E6%9D%BF%22%2C%22selected%22%3Afalse%7D%5D%7D\",\"ValueType\":\"Literal\",\"LinkedGlobalParameter\":null},{\"Name\":\"industry_cond\",\"Value\":\"%7B%22enumItems%22%3A%5B%7B%22value%22%3A%22%E5%85%A8%E9%83%A8%22%2C%22displayValue%22%3A%22%E5%85%A8%E9%83%A8%22%2C%22selected%22%3Atrue%7D%2C%7B%22value%22%3A%22%E4%BA%A4%E9%80%9A%E8%BF%90%E8%BE%93%22%2C%22displayValue%22%3A%22%E4%BA%A4%E9%80%9A%E8%BF%90%E8%BE%93%22%2C%22selected%22%3Afalse%7D%2C%7B%22value%22%3A%22%E4%BC%91%E9%97%B2%E6%9C%8D%E5%8A%A1%22%2C%22displayValue%22%3A%22%E4%BC%91%E9%97%B2%E6%9C%8D%E5%8A%A1%22%2C%22selected%22%3Afalse%7D%2C%7B%22value%22%3A%22%E4%BC%A0%E5%AA%92%2F%E4%BF%A1%E6%81%AF%E6%9C%8D%E5%8A%A1%22%2C%22displayValue%22%3A%22%E4%BC%A0%E5%AA%92%2F%E4%BF%A1%E6%81%AF%E6%9C%8D%E5%8A%A1%22%2C%22selected%22%3Afalse%7D%2C%7B%22value%22%3A%22%E5%85%AC%E7%94%A8%E4%BA%8B%E4%B8%9A%22%2C%22displayValue%22%3A%22%E5%85%AC%E7%94%A8%E4%BA%8B%E4%B8%9A%22%2C%22selected%22%3Afalse%7D%2C%7B%22value%22%3A%22%E5%86%9C%E6%9E%97%E7%89%A7%E6%B8%94%22%2C%22displayValue%22%3A%22%E5%86%9C%E6%9E%97%E7%89%A7%E6%B8%94%22%2C%22selected%22%3Afalse%7D%2C%7B%22value%22%3A%22%E5%8C%96%E5%B7%A5%22%2C%22displayValue%22%3A%22%E5%8C%96%E5%B7%A5%22%2C%22selected%22%3Afalse%7D%2C%7B%22value%22%3A%22%E5%8C%BB%E8%8D%AF%E7%94%9F%E7%89%A9%22%2C%22displayValue%22%3A%22%E5%8C%BB%E8%8D%AF%E7%94%9F%E7%89%A9%22%2C%22selected%22%3Afalse%7D%2C%7B%22value%22%3A%22%E5%95%86%E4%B8%9A%E8%B4%B8%E6%98%93%22%2C%22displayValue%22%3A%22%E5%95%86%E4%B8%9A%E8%B4%B8%E6%98%93%22%2C%22selected%22%3Afalse%7D%2C%7B%22value%22%3A%22%E5%9B%BD%E9%98%B2%E5%86%9B%E5%B7%A5%22%2C%22displayValue%22%3A%22%E5%9B%BD%E9%98%B2%E5%86%9B%E5%B7%A5%22%2C%22selected%22%3Afalse%7D%2C%7B%22value%22%3A%22%E5%AE%B6%E7%94%A8%E7%94%B5%E5%99%A8%22%2C%22displayValue%22%3A%22%E5%AE%B6%E7%94%A8%E7%94%B5%E5%99%A8%22%2C%22selected%22%3Afalse%7D%2C%7B%22value%22%3A%22%E5%BB%BA%E7%AD%91%E6%9D%90%E6%96%99%2F%E5%BB%BA%E7%AD%91%E5%BB%BA%E6%9D%90%22%2C%22displayValue%22%3A%22%E5%BB%BA%E7%AD%91%E6%9D%90%E6%96%99%2F%E5%BB%BA%E7%AD%91%E5%BB%BA%E6%9D%90%22%2C%22selected%22%3Afalse%7D%2C%7B%22value%22%3A%22%E5%BB%BA%E7%AD%91%E8%A3%85%E9%A5%B0%22%2C%22displayValue%22%3A%22%E5%BB%BA%E7%AD%91%E8%A3%85%E9%A5%B0%22%2C%22selected%22%3Afalse%7D%2C%7B%22value%22%3A%22%E6%88%BF%E5%9C%B0%E4%BA%A7%22%2C%22displayValue%22%3A%22%E6%88%BF%E5%9C%B0%E4%BA%A7%22%2C%22selected%22%3Afalse%7D%2C%7B%22value%22%3A%22%E6%9C%89%E8%89%B2%E9%87%91%E5%B1%9E%22%2C%22displayValue%22%3A%22%E6%9C%89%E8%89%B2%E9%87%91%E5%B1%9E%22%2C%22selected%22%3Afalse%7D%2C%7B%22value%22%3A%22%E6%9C%BA%E6%A2%B0%E8%AE%BE%E5%A4%87%22%2C%22displayValue%22%3A%22%E6%9C%BA%E6%A2%B0%E8%AE%BE%E5%A4%87%22%2C%22selected%22%3Afalse%7D%2C%7B%22value%22%3A%22%E6%B1%BD%E8%BD%A6%2F%E4%BA%A4%E8%BF%90%E8%AE%BE%E5%A4%87%22%2C%22displayValue%22%3A%22%E6%B1%BD%E8%BD%A6%2F%E4%BA%A4%E8%BF%90%E8%AE%BE%E5%A4%87%22%2C%22selected%22%3Afalse%7D%2C%7B%22value%22%3A%22%E7%94%B5%E5%AD%90%22%2C%22displayValue%22%3A%22%E7%94%B5%E5%AD%90%22%2C%22selected%22%3Afalse%7D%2C%7B%22value%22%3A%22%E7%94%B5%E6%B0%94%E8%AE%BE%E5%A4%87%22%2C%22displayValue%22%3A%22%E7%94%B5%E6%B0%94%E8%AE%BE%E5%A4%87%22%2C%22selected%22%3Afalse%7D%2C%7B%22value%22%3A%22%E7%BA%BA%E7%BB%87%E6%9C%8D%E8%A3%85%22%2C%22displayValue%22%3A%22%E7%BA%BA%E7%BB%87%E6%9C%8D%E8%A3%85%22%2C%22selected%22%3Afalse%7D%2C%7B%22value%22%3A%22%E7%BB%BC%E5%90%88%22%2C%22displayValue%22%3A%22%E7%BB%BC%E5%90%88%22%2C%22selected%22%3Afalse%7D%2C%7B%22value%22%3A%22%E8%AE%A1%E7%AE%97%E6%9C%BA%22%2C%22displayValue%22%3A%22%E8%AE%A1%E7%AE%97%E6%9C%BA%22%2C%22selected%22%3Afalse%7D%2C%7B%22value%22%3A%22%E8%BD%BB%E5%B7%A5%E5%88%B6%E9%80%A0%22%2C%22displayValue%22%3A%22%E8%BD%BB%E5%B7%A5%E5%88%B6%E9%80%A0%22%2C%22selected%22%3Afalse%7D%2C%7B%22value%22%3A%22%E9%80%9A%E4%BF%A1%22%2C%22displayValue%22%3A%22%E9%80%9A%E4%BF%A1%22%2C%22selected%22%3Afalse%7D%2C%7B%22value%22%3A%22%E9%87%87%E6%8E%98%22%2C%22displayValue%22%3A%22%E9%87%87%E6%8E%98%22%2C%22selected%22%3Afalse%7D%2C%7B%22value%22%3A%22%E9%92%A2%E9%93%81%22%2C%22displayValue%22%3A%22%E9%92%A2%E9%93%81%22%2C%22selected%22%3Afalse%7D%2C%7B%22value%22%3A%22%E9%93%B6%E8%A1%8C%22%2C%22displayValue%22%3A%22%E9%93%B6%E8%A1%8C%22%2C%22selected%22%3Afalse%7D%2C%7B%22value%22%3A%22%E9%9D%9E%E9%93%B6%E9%87%91%E8%9E%8D%22%2C%22displayValue%22%3A%22%E9%9D%9E%E9%93%B6%E9%87%91%E8%9E%8D%22%2C%22selected%22%3Afalse%7D%2C%7B%22value%22%3A%22%E9%A3%9F%E5%93%81%E9%A5%AE%E6%96%99%22%2C%22displayValue%22%3A%22%E9%A3%9F%E5%93%81%E9%A5%AE%E6%96%99%22%2C%22selected%22%3Afalse%7D%5D%7D\",\"ValueType\":\"Literal\",\"LinkedGlobalParameter\":null},{\"Name\":\"st_cond\",\"Value\":\"%7B%22enumItems%22%3A%5B%7B%22value%22%3A%22%E5%85%A8%E9%83%A8%22%2C%22displayValue%22%3A%22%E5%85%A8%E9%83%A8%22%2C%22selected%22%3Afalse%7D%2C%7B%22value%22%3A%22*ST%22%2C%22displayValue%22%3A%22*ST%22%2C%22selected%22%3Afalse%7D%2C%7B%22value%22%3A%22%E6%9A%82%E5%81%9C%E4%B8%8A%E5%B8%82%22%2C%22displayValue%22%3A%22%E6%9A%82%E5%81%9C%E4%B8%8A%E5%B8%82%22%2C%22selected%22%3Afalse%7D%2C%7B%22value%22%3A%22ST%22%2C%22displayValue%22%3A%22ST%22%2C%22selected%22%3Afalse%7D%2C%7B%22value%22%3A%22%E6%AD%A3%E5%B8%B8%22%2C%22displayValue%22%3A%22%E6%AD%A3%E5%B8%B8%22%2C%22selected%22%3Atrue%7D%5D%7D\",\"ValueType\":\"Literal\",\"LinkedGlobalParameter\":null},{\"Name\":\"delist_cond\",\"Value\":\"%7B%22enumItems%22%3A%5B%7B%22value%22%3A%22%E5%85%A8%E9%83%A8%22%2C%22displayValue%22%3A%22%E5%85%A8%E9%83%A8%22%2C%22selected%22%3Afalse%7D%2C%7B%22value%22%3A%22%E9%80%80%E5%B8%82%22%2C%22displayValue%22%3A%22%E9%80%80%E5%B8%82%22%2C%22selected%22%3Afalse%7D%2C%7B%22value%22%3A%22%E9%9D%9E%E9%80%80%E5%B8%82%22%2C%22displayValue%22%3A%22%E9%9D%9E%E9%80%80%E5%B8%82%22%2C%22selected%22%3Atrue%7D%5D%7D\",\"ValueType\":\"Literal\",\"LinkedGlobalParameter\":null},{\"Name\":\"output_left_data\",\"Value\":\"False\",\"ValueType\":\"Literal\",\"LinkedGlobalParameter\":null}],\"InputPortsInternal\":[{\"DataSourceId\":null,\"TrainedModelId\":null,\"TransformModuleId\":null,\"Name\":\"input_data\",\"NodeId\":\"-7016\"}],\"OutputPortsInternal\":[{\"Name\":\"data\",\"NodeId\":\"-7016\",\"OutputType\":null},{\"Name\":\"left_data\",\"NodeId\":\"-7016\",\"OutputType\":null}],\"UsePreviousResults\":true,\"moduleIdForCode\":14,\"IsPartOfPartialRun\":null,\"Comment\":\"\",\"CommentCollapsed\":true},{\"Id\":\"-308\",\"ModuleId\":\"BigQuantSpace.chinaa_stock_filter.chinaa_stock_filter-v1\",\"ModuleParameters\":[{\"Name\":\"index_constituent_cond\",\"Value\":\"%7B%22enumItems%22%3A%5B%7B%22value%22%3A%22%E5%85%A8%E9%83%A8%22%2C%22displayValue%22%3A%22%E5%85%A8%E9%83%A8%22%2C%22selected%22%3Afalse%7D%2C%7B%22value%22%3A%22%E4%B8%8A%E8%AF%8150%22%2C%22displayValue%22%3A%22%E4%B8%8A%E8%AF%8150%22%2C%22selected%22%3Afalse%7D%2C%7B%22value%22%3A%22%E6%B2%AA%E6%B7%B1300%22%2C%22displayValue%22%3A%22%E6%B2%AA%E6%B7%B1300%22%2C%22selected%22%3Afalse%7D%2C%7B%22value%22%3A%22%E4%B8%AD%E8%AF%81500%22%2C%22displayValue%22%3A%22%E4%B8%AD%E8%AF%81500%22%2C%22selected%22%3Afalse%7D%2C%7B%22value%22%3A%22%E4%B8%AD%E8%AF%81800%22%2C%22displayValue%22%3A%22%E4%B8%AD%E8%AF%81800%22%2C%22selected%22%3Atrue%7D%2C%7B%22value%22%3A%22%E4%B8%8A%E8%AF%81180%22%2C%22displayValue%22%3A%22%E4%B8%8A%E8%AF%81180%22%2C%22selected%22%3Afalse%7D%2C%7B%22value%22%3A%22%E4%B8%AD%E8%AF%81100%22%2C%22displayValue%22%3A%22%E4%B8%AD%E8%AF%81100%22%2C%22selected%22%3Afalse%7D%2C%7B%22value%22%3A%22%E6%B7%B1%E8%AF%81100%22%2C%22displayValue%22%3A%22%E6%B7%B1%E8%AF%81100%22%2C%22selected%22%3Afalse%7D%5D%7D\",\"ValueType\":\"Literal\",\"LinkedGlobalParameter\":null},{\"Name\":\"board_cond\",\"Value\":\"%7B%22enumItems%22%3A%5B%7B%22value%22%3A%22%E5%85%A8%E9%83%A8%22%2C%22displayValue%22%3A%22%E5%85%A8%E9%83%A8%22%2C%22selected%22%3Atrue%7D%2C%7B%22value%22%3A%22%E4%B8%8A%E8%AF%81%E4%B8%BB%E6%9D%BF%22%2C%22displayValue%22%3A%22%E4%B8%8A%E8%AF%81%E4%B8%BB%E6%9D%BF%22%2C%22selected%22%3Afalse%7D%2C%7B%22value%22%3A%22%E6%B7%B1%E8%AF%81%E4%B8%BB%E6%9D%BF%22%2C%22displayValue%22%3A%22%E6%B7%B1%E8%AF%81%E4%B8%BB%E6%9D%BF%22%2C%22selected%22%3Afalse%7D%2C%7B%22value%22%3A%22%E5%88%9B%E4%B8%9A%E6%9D%BF%22%2C%22displayValue%22%3A%22%E5%88%9B%E4%B8%9A%E6%9D%BF%22%2C%22selected%22%3Afalse%7D%5D%7D\",\"ValueType\":\"Literal\",\"LinkedGlobalParameter\":null},{\"Name\":\"industry_cond\",\"Value\":\"%7B%22enumItems%22%3A%5B%7B%22value%22%3A%22%E5%85%A8%E9%83%A8%22%2C%22displayValue%22%3A%22%E5%85%A8%E9%83%A8%22%2C%22selected%22%3Atrue%7D%2C%7B%22value%22%3A%22%E4%BA%A4%E9%80%9A%E8%BF%90%E8%BE%93%22%2C%22displayValue%22%3A%22%E4%BA%A4%E9%80%9A%E8%BF%90%E8%BE%93%22%2C%22selected%22%3Afalse%7D%2C%7B%22value%22%3A%22%E4%BC%91%E9%97%B2%E6%9C%8D%E5%8A%A1%22%2C%22displayValue%22%3A%22%E4%BC%91%E9%97%B2%E6%9C%8D%E5%8A%A1%22%2C%22selected%22%3Afalse%7D%2C%7B%22value%22%3A%22%E4%BC%A0%E5%AA%92%2F%E4%BF%A1%E6%81%AF%E6%9C%8D%E5%8A%A1%22%2C%22displayValue%22%3A%22%E4%BC%A0%E5%AA%92%2F%E4%BF%A1%E6%81%AF%E6%9C%8D%E5%8A%A1%22%2C%22selected%22%3Afalse%7D%2C%7B%22value%22%3A%22%E5%85%AC%E7%94%A8%E4%BA%8B%E4%B8%9A%22%2C%22displayValue%22%3A%22%E5%85%AC%E7%94%A8%E4%BA%8B%E4%B8%9A%22%2C%22selected%22%3Afalse%7D%2C%7B%22value%22%3A%22%E5%86%9C%E6%9E%97%E7%89%A7%E6%B8%94%22%2C%22displayValue%22%3A%22%E5%86%9C%E6%9E%97%E7%89%A7%E6%B8%94%22%2C%22selected%22%3Afalse%7D%2C%7B%22value%22%3A%22%E5%8C%96%E5%B7%A5%22%2C%22displayValue%22%3A%22%E5%8C%96%E5%B7%A5%22%2C%22selected%22%3Afalse%7D%2C%7B%22value%22%3A%22%E5%8C%BB%E8%8D%AF%E7%94%9F%E7%89%A9%22%2C%22displayValue%22%3A%22%E5%8C%BB%E8%8D%AF%E7%94%9F%E7%89%A9%22%2C%22selected%22%3Afalse%7D%2C%7B%22value%22%3A%22%E5%95%86%E4%B8%9A%E8%B4%B8%E6%98%93%22%2C%22displayValue%22%3A%22%E5%95%86%E4%B8%9A%E8%B4%B8%E6%98%93%22%2C%22selected%22%3Afalse%7D%2C%7B%22value%22%3A%22%E5%9B%BD%E9%98%B2%E5%86%9B%E5%B7%A5%22%2C%22displayValue%22%3A%22%E5%9B%BD%E9%98%B2%E5%86%9B%E5%B7%A5%22%2C%22selected%22%3Afalse%7D%2C%7B%22value%22%3A%22%E5%AE%B6%E7%94%A8%E7%94%B5%E5%99%A8%22%2C%22displayValue%22%3A%22%E5%AE%B6%E7%94%A8%E7%94%B5%E5%99%A8%22%2C%22selected%22%3Afalse%7D%2C%7B%22value%22%3A%22%E5%BB%BA%E7%AD%91%E6%9D%90%E6%96%99%2F%E5%BB%BA%E7%AD%91%E5%BB%BA%E6%9D%90%22%2C%22displayValue%22%3A%22%E5%BB%BA%E7%AD%91%E6%9D%90%E6%96%99%2F%E5%BB%BA%E7%AD%91%E5%BB%BA%E6%9D%90%22%2C%22selected%22%3Afalse%7D%2C%7B%22value%22%3A%22%E5%BB%BA%E7%AD%91%E8%A3%85%E9%A5%B0%22%2C%22displayValue%22%3A%22%E5%BB%BA%E7%AD%91%E8%A3%85%E9%A5%B0%22%2C%22selected%22%3Afalse%7D%2C%7B%22value%22%3A%22%E6%88%BF%E5%9C%B0%E4%BA%A7%22%2C%22displayValue%22%3A%22%E6%88%BF%E5%9C%B0%E4%BA%A7%22%2C%22selected%22%3Afalse%7D%2C%7B%22value%22%3A%22%E6%9C%89%E8%89%B2%E9%87%91%E5%B1%9E%22%2C%22displayValue%22%3A%22%E6%9C%89%E8%89%B2%E9%87%91%E5%B1%9E%22%2C%22selected%22%3Afalse%7D%2C%7B%22value%22%3A%22%E6%9C%BA%E6%A2%B0%E8%AE%BE%E5%A4%87%22%2C%22displayValue%22%3A%22%E6%9C%BA%E6%A2%B0%E8%AE%BE%E5%A4%87%22%2C%22selected%22%3Afalse%7D%2C%7B%22value%22%3A%22%E6%B1%BD%E8%BD%A6%2F%E4%BA%A4%E8%BF%90%E8%AE%BE%E5%A4%87%22%2C%22displayValue%22%3A%22%E6%B1%BD%E8%BD%A6%2F%E4%BA%A4%E8%BF%90%E8%AE%BE%E5%A4%87%22%2C%22selected%22%3Afalse%7D%2C%7B%22value%22%3A%22%E7%94%B5%E5%AD%90%22%2C%22displayValue%22%3A%22%E7%94%B5%E5%AD%90%22%2C%22selected%22%3Afalse%7D%2C%7B%22value%22%3A%22%E7%94%B5%E6%B0%94%E8%AE%BE%E5%A4%87%22%2C%22displayValue%22%3A%22%E7%94%B5%E6%B0%94%E8%AE%BE%E5%A4%87%22%2C%22selected%22%3Afalse%7D%2C%7B%22value%22%3A%22%E7%BA%BA%E7%BB%87%E6%9C%8D%E8%A3%85%22%2C%22displayValue%22%3A%22%E7%BA%BA%E7%BB%87%E6%9C%8D%E8%A3%85%22%2C%22selected%22%3Afalse%7D%2C%7B%22value%22%3A%22%E7%BB%BC%E5%90%88%22%2C%22displayValue%22%3A%22%E7%BB%BC%E5%90%88%22%2C%22selected%22%3Afalse%7D%2C%7B%22value%22%3A%22%E8%AE%A1%E7%AE%97%E6%9C%BA%22%2C%22displayValue%22%3A%22%E8%AE%A1%E7%AE%97%E6%9C%BA%22%2C%22selected%22%3Afalse%7D%2C%7B%22value%22%3A%22%E8%BD%BB%E5%B7%A5%E5%88%B6%E9%80%A0%22%2C%22displayValue%22%3A%22%E8%BD%BB%E5%B7%A5%E5%88%B6%E9%80%A0%22%2C%22selected%22%3Afalse%7D%2C%7B%22value%22%3A%22%E9%80%9A%E4%BF%A1%22%2C%22displayValue%22%3A%22%E9%80%9A%E4%BF%A1%22%2C%22selected%22%3Afalse%7D%2C%7B%22value%22%3A%22%E9%87%87%E6%8E%98%22%2C%22displayValue%22%3A%22%E9%87%87%E6%8E%98%22%2C%22selected%22%3Afalse%7D%2C%7B%22value%22%3A%22%E9%92%A2%E9%93%81%22%2C%22displayValue%22%3A%22%E9%92%A2%E9%93%81%22%2C%22selected%22%3Afalse%7D%2C%7B%22value%22%3A%22%E9%93%B6%E8%A1%8C%22%2C%22displayValue%22%3A%22%E9%93%B6%E8%A1%8C%22%2C%22selected%22%3Afalse%7D%2C%7B%22value%22%3A%22%E9%9D%9E%E9%93%B6%E9%87%91%E8%9E%8D%22%2C%22displayValue%22%3A%22%E9%9D%9E%E9%93%B6%E9%87%91%E8%9E%8D%22%2C%22selected%22%3Afalse%7D%2C%7B%22value%22%3A%22%E9%A3%9F%E5%93%81%E9%A5%AE%E6%96%99%22%2C%22displayValue%22%3A%22%E9%A3%9F%E5%93%81%E9%A5%AE%E6%96%99%22%2C%22selected%22%3Afalse%7D%5D%7D\",\"ValueType\":\"Literal\",\"LinkedGlobalParameter\":null},{\"Name\":\"st_cond\",\"Value\":\"%7B%22enumItems%22%3A%5B%7B%22value%22%3A%22%E5%85%A8%E9%83%A8%22%2C%22displayValue%22%3A%22%E5%85%A8%E9%83%A8%22%2C%22selected%22%3Afalse%7D%2C%7B%22value%22%3A%22*ST%22%2C%22displayValue%22%3A%22*ST%22%2C%22selected%22%3Afalse%7D%2C%7B%22value%22%3A%22%E6%9A%82%E5%81%9C%E4%B8%8A%E5%B8%82%22%2C%22displayValue%22%3A%22%E6%9A%82%E5%81%9C%E4%B8%8A%E5%B8%82%22%2C%22selected%22%3Afalse%7D%2C%7B%22value%22%3A%22ST%22%2C%22displayValue%22%3A%22ST%22%2C%22selected%22%3Afalse%7D%2C%7B%22value%22%3A%22%E6%AD%A3%E5%B8%B8%22%2C%22displayValue%22%3A%22%E6%AD%A3%E5%B8%B8%22%2C%22selected%22%3Atrue%7D%5D%7D\",\"ValueType\":\"Literal\",\"LinkedGlobalParameter\":null},{\"Name\":\"delist_cond\",\"Value\":\"%7B%22enumItems%22%3A%5B%7B%22value%22%3A%22%E5%85%A8%E9%83%A8%22%2C%22displayValue%22%3A%22%E5%85%A8%E9%83%A8%22%2C%22selected%22%3Afalse%7D%2C%7B%22value%22%3A%22%E9%80%80%E5%B8%82%22%2C%22displayValue%22%3A%22%E9%80%80%E5%B8%82%22%2C%22selected%22%3Afalse%7D%2C%7B%22value%22%3A%22%E9%9D%9E%E9%80%80%E5%B8%82%22%2C%22displayValue%22%3A%22%E9%9D%9E%E9%80%80%E5%B8%82%22%2C%22selected%22%3Atrue%7D%5D%7D\",\"ValueType\":\"Literal\",\"LinkedGlobalParameter\":null},{\"Name\":\"output_left_data\",\"Value\":\"False\",\"ValueType\":\"Literal\",\"LinkedGlobalParameter\":null}],\"InputPortsInternal\":[{\"DataSourceId\":null,\"TrainedModelId\":null,\"TransformModuleId\":null,\"Name\":\"input_data\",\"NodeId\":\"-308\"}],\"OutputPortsInternal\":[{\"Name\":\"data\",\"NodeId\":\"-308\",\"OutputType\":null},{\"Name\":\"left_data\",\"NodeId\":\"-308\",\"OutputType\":null}],\"UsePreviousResults\":true,\"moduleIdForCode\":8,\"IsPartOfPartialRun\":null,\"Comment\":\"\",\"CommentCollapsed\":true},{\"Id\":\"-565\",\"ModuleId\":\"BigQuantSpace.cached.cached-v3\",\"ModuleParameters\":[{\"Name\":\"run\",\"Value\":\"from sklearn.linear_model import LinearRegression\\n# 行业、市值中性模块\\ndef bigquant_run(input_1, input_2, input_3):    \\n    \\n    # 1、获取特征数值\\n    df = input_1.read_df()   \\n    df = df[df['industry_sw_level1_0']>0]                # 去除没有查出行业的股票\\n    industry_List = df['industry_sw_level1_0'].unique()          # 所有行业代码\\n    factors_all=df.columns    #获取因子列表\\n\\n    # 2、获取用来中性化的因子列表 通常是行业和市值\\n    factor0 = input_2.read_pickle()                         \\n\\n    #3、需要做清洗的因子列表 \\n    factors_need_cal=[k for k in set(factors_all)-set(factor0) if k!='date' and k!='instrument' and k[:2]!='m:' and k!='label']\\n\\n    #4、缺失值处理 按中信一级行业相同个股的平均值填充\\n    for fac in factors_need_cal:\\n        df['fac_mean'] = df[['date']+['industry_sw_level1_0']+[fac]].groupby(['date','industry_sw_level1_0']).transform(np.mean)\\n        df[fac]=df[fac].fillna(df['fac_mean'])\\n        del df['fac_mean']\\n\\n    #5、因子异常值处理  \\n    #  固定比例法\\n    #for fac in factors_need_cal:\\n       # df[fac][df[fac]>df[fac].quantile(0.99)]=df[fac].quantile(0.99)\\n        #df[fac][df[fac]<df[fac].quantile(0.01)]=df[fac].quantile(0.01)\\n    #  均值标准差法\\n    #print(df[factors_need_cal].head())\\n    #for fac in factors_need_cal:\\n        #df[fac][df[fac]>df[fac].mean()+3*df[fac].std()]=df[fac].mean()+3*df[fac].std()\\n        #df[fac][df[fac]<=df[fac].mean()-3*df[fac].std()]=df[fac].mean()-3*df[fac].std()\\n    #  MAD法\\n    #print(df[factors_need_cal].head())\\n    for fac in factors_need_cal:\\n\\n        median = np.median(list(df[fac]))\\n        MAD = np.mean(abs(df[fac]) - median)\\n        df[fac][df[fac]>median+6*MAD] = median+6*MAD  # 剔除偏离中位数6倍以上的数据\\n        df[fac][df[fac]<median-6*MAD] = median-6*MAD\\n       \\n    #计算行业哑变量\\n    dfTmp = df.copy()  #copy一份用于计算行业哑变量\\n    for n in range(len(industry_List)):                         # 行业哑变量赋值\\n        dfTmp['industry_%d' % n] = 0\\n        dfTmp['industry_%d' % n][df['industry_sw_level1_0']==industry_List[n]]=1\\n                          \\n    # 准备线性回归参数\\n    model0 = LinearRegression()\\n    X = dfTmp[list('industry_%d' % n for n in range(len(industry_List)))+factor0] #组装行业哑变量列和中性化因子列矩阵\\n    del X['industry_sw_level1_0'] #删去中性化因子中的行业列\\n    \\n    #需要计算中性化的因子列表\\n    factors_need_cal=[k for k in set(factors_all)-set(factor0) if k!='date' and k!='instrument' and k[:2]!='m:' and k!='label']\\n\\n    # 逐个特征进行行业市值中性化\\n    from sklearn.preprocessing import scale\\n    for fac in factors_need_cal:\\n\\n            y = df[fac] #获取需要中性化的因子暴露值\\n            model0.fit(X, y)\\n            df[fac] = y-model0.predict(X)  # 计算因子暴露相对于行业哑变量和中性化因子回归后的残差\\n            #df[fac]=(df[fac]-np.mean(df[fac]))/np.std(df[fac])#一种与scale基本等效的处理\\n            df[fac] = scale(df[fac])\\n             #对残差取Z-Score标准化将计算后的结果返回给df中的各列，即完成中性化后的结果\\n    #多重共线性分析\\n    from sklearn.decomposition import PCA\\n    import matplotlib.pyplot as plt\\n    pca = PCA(n_components=len(factors_need_cal))\\n    pca.fit(df[factors_need_cal])\\n    var= pca.explained_variance_ratio_ #计算每个因子解释程度\\n    var1=np.cumsum(np.round(pca.explained_variance_ratio_, decimals=4)*100)#累计解释程度\\n    plt.plot(var1)\\n    print(var)\\n    data_1 = DataSource.write_df(df)\\n    print(data_1)\\n    return Outputs(data_1=data_1, data_2=None, data_3=None)\\n\",\"ValueType\":\"Literal\",\"LinkedGlobalParameter\":null},{\"Name\":\"post_run\",\"Value\":\"# 后处理函数，可选。输入是主函数的输出，可以在这里对数据做处理，或者返回更友好的outputs数据格式。此函数输出不会被缓存。\\ndef bigquant_run(outputs):\\n    return outputs\\n\",\"ValueType\":\"Literal\",\"LinkedGlobalParameter\":null},{\"Name\":\"input_ports\",\"Value\":\"\",\"ValueType\":\"Literal\",\"LinkedGlobalParameter\":null},{\"Name\":\"params\",\"Value\":\"{}\",\"ValueType\":\"Literal\",\"LinkedGlobalParameter\":null},{\"Name\":\"output_ports\",\"Value\":\"\",\"ValueType\":\"Literal\",\"LinkedGlobalParameter\":null}],\"InputPortsInternal\":[{\"DataSourceId\":null,\"TrainedModelId\":null,\"TransformModuleId\":null,\"Name\":\"input_1\",\"NodeId\":\"-565\"},{\"DataSourceId\":null,\"TrainedModelId\":null,\"TransformModuleId\":null,\"Name\":\"input_2\",\"NodeId\":\"-565\"},{\"DataSourceId\":null,\"TrainedModelId\":null,\"TransformModuleId\":null,\"Name\":\"input_3\",\"NodeId\":\"-565\"}],\"OutputPortsInternal\":[{\"Name\":\"data_1\",\"NodeId\":\"-565\",\"OutputType\":null},{\"Name\":\"data_2\",\"NodeId\":\"-565\",\"OutputType\":null},{\"Name\":\"data_3\",\"NodeId\":\"-565\",\"OutputType\":null}],\"UsePreviousResults\":true,\"moduleIdForCode\":20,\"IsPartOfPartialRun\":null,\"Comment\":\"\",\"CommentCollapsed\":true},{\"Id\":\"-2040\",\"ModuleId\":\"BigQuantSpace.cached.cached-v3\",\"ModuleParameters\":[{\"Name\":\"run\",\"Value\":\"from sklearn.linear_model import LinearRegression\\n# 行业、市值中性模块\\ndef bigquant_run(input_1, input_2, input_3):    \\n    \\n    # 1、获取特征数值\\n    df = input_1.read_df()   \\n    df = df[df['industry_sw_level1_0']>0]                # 去除没有查出行业的股票\\n    industry_List = df['industry_sw_level1_0'].unique()          # 所有行业代码\\n    factors_all=df.columns    #获取因子列表\\n\\n    # 2、获取用来中性化的因子列表 通常是行业和市值\\n    factor0 = input_2.read_pickle()                         \\n\\n    #3、需要做清洗的因子列表 \\n    factors_need_cal=[k for k in set(factors_all)-set(factor0) if k!='date' and k!='instrument' and k[:2]!='m:' and k!='label']\\n\\n    #4、缺失值处理 按中信一级行业相同个股的平均值填充\\n    for fac in factors_need_cal:\\n        df['fac_mean'] = df[['date']+['industry_sw_level1_0']+[fac]].groupby(['date','industry_sw_level1_0']).transform(np.mean)\\n        df[fac]=df[fac].fillna(df['fac_mean'])\\n        del df['fac_mean']\\n\\n    #5、因子异常值处理  \\n    #  固定比例法\\n    #for fac in factors_need_cal:\\n       # df[fac][df[fac]>df[fac].quantile(0.99)]=df[fac].quantile(0.99)\\n        #df[fac][df[fac]<df[fac].quantile(0.01)]=df[fac].quantile(0.01)\\n    #  均值标准差法\\n    #print(df[factors_need_cal].head())\\n    #for fac in factors_need_cal:\\n        #df[fac][df[fac]>df[fac].mean()+3*df[fac].std()]=df[fac].mean()+3*df[fac].std()\\n        #df[fac][df[fac]<=df[fac].mean()-3*df[fac].std()]=df[fac].mean()-3*df[fac].std()\\n    #  MAD法\\n    #print(df[factors_need_cal].head())\\n    for fac in factors_need_cal:\\n\\n        median = np.median(list(df[fac]))\\n        MAD = np.mean(abs(df[fac]) - median)\\n        df[fac][df[fac]>median+6*MAD] = median+6*MAD  # 剔除偏离中位数6倍以上的数据\\n        df[fac][df[fac]<median-6*MAD] = median-6*MAD\\n             \\n    #计算行业哑变量\\n    dfTmp = df.copy()  #copy一份用于计算行业哑变量\\n    for n in range(len(industry_List)):                         # 行业哑变量赋值\\n        dfTmp['industry_%d' % n] = 0\\n        dfTmp['industry_%d' % n][df['industry_sw_level1_0']==industry_List[n]]=1\\n                          \\n    # 准备线性回归参数\\n    model0 = LinearRegression()\\n    X = dfTmp[list('industry_%d' % n for n in range(len(industry_List)))+factor0] #组装行业哑变量列和中性化因子列矩阵\\n    del X['industry_sw_level1_0'] #删去中性化因子中的行业列\\n    \\n    #需要计算中性化的因子列表\\n    factors_need_cal=[k for k in set(factors_all)-set(factor0) if k!='date' and k!='instrument' and k[:2]!='m:' and k!='label']\\n\\n    # 逐个特征进行行业市值中性化\\n    from sklearn.preprocessing import scale\\n    for fac in factors_need_cal:\\n\\n            y = df[fac] #获取需要中性化的因子暴露值\\n            model0.fit(X, y)\\n            df[fac] = y-model0.predict(X)  # 计算因子暴露相对于行业哑变量和中性化因子回归后的残差\\n            #df[fac]=(df[fac]-np.mean(df[fac]))/np.std(df[fac])#一种与scale基本等效的处理\\n            df[fac] = scale(df[fac])\\n             #对残差取Z-Score标准化将计算后的结果返回给df中的各列，即完成中性化后的结果\\n    data_1 = DataSource.write_df(df)\\n    return Outputs(data_1=data_1, data_2=None, data_3=None)\\n    \",\"ValueType\":\"Literal\",\"LinkedGlobalParameter\":null},{\"Name\":\"post_run\",\"Value\":\"# 后处理函数，可选。输入是主函数的输出，可以在这里对数据做处理，或者返回更友好的outputs数据格式。此函数输出不会被缓存。\\ndef bigquant_run(outputs):\\n    return outputs\\n\",\"ValueType\":\"Literal\",\"LinkedGlobalParameter\":null},{\"Name\":\"input_ports\",\"Value\":\"\",\"ValueType\":\"Literal\",\"LinkedGlobalParameter\":null},{\"Name\":\"params\",\"Value\":\"{}\",\"ValueType\":\"Literal\",\"LinkedGlobalParameter\":null},{\"Name\":\"output_ports\",\"Value\":\"\",\"ValueType\":\"Literal\",\"LinkedGlobalParameter\":null}],\"InputPortsInternal\":[{\"DataSourceId\":null,\"TrainedModelId\":null,\"TransformModuleId\":null,\"Name\":\"input_1\",\"NodeId\":\"-2040\"},{\"DataSourceId\":null,\"TrainedModelId\":null,\"TransformModuleId\":null,\"Name\":\"input_2\",\"NodeId\":\"-2040\"},{\"DataSourceId\":null,\"TrainedModelId\":null,\"TransformModuleId\":null,\"Name\":\"input_3\",\"NodeId\":\"-2040\"}],\"OutputPortsInternal\":[{\"Name\":\"data_1\",\"NodeId\":\"-2040\",\"OutputType\":null},{\"Name\":\"data_2\",\"NodeId\":\"-2040\",\"OutputType\":null},{\"Name\":\"data_3\",\"NodeId\":\"-2040\",\"OutputType\":null}],\"UsePreviousResults\":true,\"moduleIdForCode\":5,\"IsPartOfPartialRun\":null,\"Comment\":\"\",\"CommentCollapsed\":true},{\"Id\":\"-805\",\"ModuleId\":\"BigQuantSpace.preprocessing_standard_scaler.preprocessing_standard_scaler-v1\",\"ModuleParameters\":[{\"Name\":\"with_mean\",\"Value\":\"True\",\"ValueType\":\"Literal\",\"LinkedGlobalParameter\":null},{\"Name\":\"with_std\",\"Value\":\"True\",\"ValueType\":\"Literal\",\"LinkedGlobalParameter\":null}],\"InputPortsInternal\":[{\"DataSourceId\":null,\"TrainedModelId\":null,\"TransformModuleId\":null,\"Name\":\"training_ds\",\"NodeId\":\"-805\"},{\"DataSourceId\":null,\"TrainedModelId\":null,\"TransformModuleId\":null,\"Name\":\"features\",\"NodeId\":\"-805\"},{\"DataSourceId\":null,\"TrainedModelId\":null,\"TransformModuleId\":null,\"Name\":\"model\",\"NodeId\":\"-805\"},{\"DataSourceId\":null,\"TrainedModelId\":null,\"TransformModuleId\":null,\"Name\":\"predict_ds\",\"NodeId\":\"-805\"}],\"OutputPortsInternal\":[{\"Name\":\"output_model\",\"NodeId\":\"-805\",\"OutputType\":null},{\"Name\":\"transform_trainds\",\"NodeId\":\"-805\",\"OutputType\":null},{\"Name\":\"transform_predictds\",\"NodeId\":\"-805\",\"OutputType\":null}],\"UsePreviousResults\":true,\"moduleIdForCode\":4,\"IsPartOfPartialRun\":null,\"Comment\":\"\",\"CommentCollapsed\":true},{\"Id\":\"-764\",\"ModuleId\":\"BigQuantSpace.instruments.instruments-v2\",\"ModuleParameters\":[{\"Name\":\"start_date\",\"Value\":\"2016-11-01\",\"ValueType\":\"Literal\",\"LinkedGlobalParameter\":null},{\"Name\":\"end_date\",\"Value\":\"2017-04-30\",\"ValueType\":\"Literal\",\"LinkedGlobalParameter\":null},{\"Name\":\"market\",\"Value\":\"CN_STOCK_A\",\"ValueType\":\"Literal\",\"LinkedGlobalParameter\":null},{\"Name\":\"instrument_list\",\"Value\":\"\",\"ValueType\":\"Literal\",\"LinkedGlobalParameter\":null},{\"Name\":\"max_count\",\"Value\":\"0\",\"ValueType\":\"Literal\",\"LinkedGlobalParameter\":null}],\"InputPortsInternal\":[{\"DataSourceId\":null,\"TrainedModelId\":null,\"TransformModuleId\":null,\"Name\":\"rolling_conf\",\"NodeId\":\"-764\"}],\"OutputPortsInternal\":[{\"Name\":\"data\",\"NodeId\":\"-764\",\"OutputType\":null}],\"UsePreviousResults\":true,\"moduleIdForCode\":11,\"IsPartOfPartialRun\":null,\"Comment\":\"\",\"CommentCollapsed\":true},{\"Id\":\"-370\",\"ModuleId\":\"BigQuantSpace.trade.trade-v4\",\"ModuleParameters\":[{\"Name\":\"start_date\",\"Value\":\"\",\"ValueType\":\"Literal\",\"LinkedGlobalParameter\":null},{\"Name\":\"end_date\",\"Value\":\"\",\"ValueType\":\"Literal\",\"LinkedGlobalParameter\":null},{\"Name\":\"initialize\",\"Value\":\"# 回测引擎：初始化函数，只执行一次\\ndef bigquant_run(context):\\n    # 加载预测数据\\n    context.ranker_prediction = context.options['data'].read_df()\\n\\n    # 系统已经设置了默认的交易手续费和滑点，要修改手续费可使用如下函数\\n    context.set_commission(PerOrder(buy_cost=0.0003, sell_cost=0.0013, min_cost=5))\\n    # 预测数据，通过options传入进来，使用 read_df 函数，加载到内存 (DataFrame)\\n    # 设置买入的股票数量，这里买入预测股票列表排名靠前的5只\\n    stock_count = 5\\n    # 每只的股票的权重，如下的权重分配会使得靠前的股票分配多一点的资金，[0.339160, 0.213986, 0.169580, ..]\\n    context.stock_weights = T.norm([1 / math.log(i + 2) for i in range(0, stock_count)])\\n    # 设置每只股票占用的最大资金比例\\n    context.max_cash_per_instrument = 0.2\\n    context.options['hold_days'] = 5\\n\",\"ValueType\":\"Literal\",\"LinkedGlobalParameter\":null},{\"Name\":\"handle_data\",\"Value\":\"# 回测引擎：每日数据处理函数，每天执行一次\\ndef bigquant_run(context, data):\\n    #------------------------START:加入下面if的两行代码到之前到主函数的最前部分-------------------\\n    # 相隔几天（以5天举例）运行一下handle_data函数\\n    if context.trading_day_index % 5 != 0:\\n        return \\n    #------------------------END：加上这两句代码在主函数就能实现隔几天运行---------------------\\n    # 按日期过滤得到今日的预测数据\\n    ranker_prediction = context.ranker_prediction[\\n        context.ranker_prediction.date == data.current_dt.strftime('%Y-%m-%d')]\\n\\n    # 1. 资金分配\\n    # 平均持仓时间是hold_days，每日都将买入股票，每日预期使用 1/hold_days 的资金\\n    # 实际操作中，会存在一定的买入误差，所以在前hold_days天，等量使用资金；之后，尽量使用剩余资金（这里设置最多用等量的1.5倍）\\n    is_staging = context.trading_day_index < context.options['hold_days'] # 是否在建仓期间（前 hold_days 天）\\n    cash_avg = context.portfolio.portfolio_value / context.options['hold_days']\\n    cash_for_buy = min(context.portfolio.cash, (1 if is_staging else 1.5) * cash_avg)\\n    cash_for_sell = cash_avg - (context.portfolio.cash - cash_for_buy)\\n    positions = {e.symbol: p.amount * p.last_sale_price\\n                 for e, p in context.perf_tracker.position_tracker.positions.items()}\\n\\n    # 2. 生成卖出订单：hold_days天之后才开始卖出；对持仓的股票，按机器学习算法预测的排序末位淘汰\\n    if not is_staging and cash_for_sell > 0:\\n        equities = {e.symbol: e for e, p in context.perf_tracker.position_tracker.positions.items()}\\n        instruments = list(reversed(list(ranker_prediction.instrument[ranker_prediction.instrument.apply(\\n                lambda x: x in equities and not context.has_unfinished_sell_order(equities[x]))])))\\n        # print('rank order for sell %s' % instruments)\\n        for instrument in instruments:\\n            context.order_target(context.symbol(instrument), 0)\\n            cash_for_sell -= positions[instrument]\\n            if cash_for_sell <= 0:\\n                break\\n\\n    # 3. 生成买入订单：按机器学习算法预测的排序，买入前面的stock_count只股票\\n    buy_cash_weights = context.stock_weights\\n    buy_instruments = list(ranker_prediction.instrument[:len(buy_cash_weights)])\\n    max_cash_per_instrument = context.portfolio.portfolio_value * context.max_cash_per_instrument\\n    for i, instrument in enumerate(buy_instruments):\\n        cash = cash_for_buy * buy_cash_weights[i]\\n        if cash > max_cash_per_instrument - positions.get(instrument, 0):\\n            # 确保股票持仓量不会超过每次股票最大的占用资金量\\n            cash = max_cash_per_instrument - positions.get(instrument, 0)\\n        if cash > 0:\\n            price = data.current(context.symbol(instrument), 'price')  # 最新价格\\n            stock_num = np.floor(cash/price/100)*100  # 向下取整\\n            context.order(context.symbol(instrument), stock_num) # 整百下单\\n\\n\",\"ValueType\":\"Literal\",\"LinkedGlobalParameter\":null},{\"Name\":\"prepare\",\"Value\":\"# 回测引擎：准备数据，只执行一次\\ndef bigquant_run(context):\\n    pass\\n\",\"ValueType\":\"Literal\",\"LinkedGlobalParameter\":null},{\"Name\":\"before_trading_start\",\"Value\":\"# 回测引擎：每个单位时间开始前调用一次，即每日开盘前调用一次。\\ndef bigquant_run(context, data):\\n    pass\\n\",\"ValueType\":\"Literal\",\"LinkedGlobalParameter\":null},{\"Name\":\"volume_limit\",\"Value\":0.025,\"ValueType\":\"Literal\",\"LinkedGlobalParameter\":null},{\"Name\":\"order_price_field_buy\",\"Value\":\"open\",\"ValueType\":\"Literal\",\"LinkedGlobalParameter\":null},{\"Name\":\"order_price_field_sell\",\"Value\":\"close\",\"ValueType\":\"Literal\",\"LinkedGlobalParameter\":null},{\"Name\":\"capital_base\",\"Value\":1000000,\"ValueType\":\"Literal\",\"LinkedGlobalParameter\":null},{\"Name\":\"auto_cancel_non_tradable_orders\",\"Value\":\"True\",\"ValueType\":\"Literal\",\"LinkedGlobalParameter\":null},{\"Name\":\"data_frequency\",\"Value\":\"daily\",\"ValueType\":\"Literal\",\"LinkedGlobalParameter\":null},{\"Name\":\"price_type\",\"Value\":\"真实价格\",\"ValueType\":\"Literal\",\"LinkedGlobalParameter\":null},{\"Name\":\"product_type\",\"Value\":\"股票\",\"ValueType\":\"Literal\",\"LinkedGlobalParameter\":null},{\"Name\":\"plot_charts\",\"Value\":\"True\",\"ValueType\":\"Literal\",\"LinkedGlobalParameter\":null},{\"Name\":\"backtest_only\",\"Value\":\"False\",\"ValueType\":\"Literal\",\"LinkedGlobalParameter\":null},{\"Name\":\"benchmark\",\"Value\":\"399102.ZIX\",\"ValueType\":\"Literal\",\"LinkedGlobalParameter\":null}],\"InputPortsInternal\":[{\"DataSourceId\":null,\"TrainedModelId\":null,\"TransformModuleId\":null,\"Name\":\"instruments\",\"NodeId\":\"-370\"},{\"DataSourceId\":null,\"TrainedModelId\":null,\"TransformModuleId\":null,\"Name\":\"options_data\",\"NodeId\":\"-370\"},{\"DataSourceId\":null,\"TrainedModelId\":null,\"TransformModuleId\":null,\"Name\":\"history_ds\",\"NodeId\":\"-370\"},{\"DataSourceId\":null,\"TrainedModelId\":null,\"TransformModuleId\":null,\"Name\":\"benchmark_ds\",\"NodeId\":\"-370\"},{\"DataSourceId\":null,\"TrainedModelId\":null,\"TransformModuleId\":null,\"Name\":\"trading_calendar\",\"NodeId\":\"-370\"}],\"OutputPortsInternal\":[{\"Name\":\"raw_perf\",\"NodeId\":\"-370\",\"OutputType\":null}],\"UsePreviousResults\":false,\"moduleIdForCode\":19,\"IsPartOfPartialRun\":null,\"Comment\":\"\",\"CommentCollapsed\":true},{\"Id\":\"-421\",\"ModuleId\":\"BigQuantSpace.input_features.input_features-v1\",\"ModuleParameters\":[{\"Name\":\"features\",\"Value\":\"date\\npred_label\",\"ValueType\":\"Literal\",\"LinkedGlobalParameter\":null}],\"InputPortsInternal\":[{\"DataSourceId\":null,\"TrainedModelId\":null,\"TransformModuleId\":null,\"Name\":\"features_ds\",\"NodeId\":\"-421\"}],\"OutputPortsInternal\":[{\"Name\":\"data\",\"NodeId\":\"-421\",\"OutputType\":null}],\"UsePreviousResults\":true,\"moduleIdForCode\":26,\"IsPartOfPartialRun\":null,\"Comment\":\"\",\"CommentCollapsed\":true},{\"Id\":\"-557\",\"ModuleId\":\"BigQuantSpace.sort.sort-v4\",\"ModuleParameters\":[{\"Name\":\"sort_by\",\"Value\":\"pred_label\",\"ValueType\":\"Literal\",\"LinkedGlobalParameter\":null},{\"Name\":\"group_by\",\"Value\":\"date\",\"ValueType\":\"Literal\",\"LinkedGlobalParameter\":null},{\"Name\":\"keep_columns\",\"Value\":\"--\",\"ValueType\":\"Literal\",\"LinkedGlobalParameter\":null},{\"Name\":\"ascending\",\"Value\":\"False\",\"ValueType\":\"Literal\",\"LinkedGlobalParameter\":null}],\"InputPortsInternal\":[{\"DataSourceId\":null,\"TrainedModelId\":null,\"TransformModuleId\":null,\"Name\":\"input_ds\",\"NodeId\":\"-557\"},{\"DataSourceId\":null,\"TrainedModelId\":null,\"TransformModuleId\":null,\"Name\":\"sort_by_ds\",\"NodeId\":\"-557\"}],\"OutputPortsInternal\":[{\"Name\":\"sorted_data\",\"NodeId\":\"-557\",\"OutputType\":null}],\"UsePreviousResults\":true,\"moduleIdForCode\":17,\"IsPartOfPartialRun\":null,\"Comment\":\"\",\"CommentCollapsed\":true},{\"Id\":\"-568\",\"ModuleId\":\"BigQuantSpace.logistic_regression.logistic_regression-v1\",\"ModuleParameters\":[{\"Name\":\"penalty\",\"Value\":\"l2\",\"ValueType\":\"Literal\",\"LinkedGlobalParameter\":null},{\"Name\":\"dual\",\"Value\":\"False\",\"ValueType\":\"Literal\",\"LinkedGlobalParameter\":null},{\"Name\":\"fit_intercept\",\"Value\":\"True\",\"ValueType\":\"Literal\",\"LinkedGlobalParameter\":null},{\"Name\":\"tol\",\"Value\":0.0001,\"ValueType\":\"Literal\",\"LinkedGlobalParameter\":null},{\"Name\":\"C\",\"Value\":1,\"ValueType\":\"Literal\",\"LinkedGlobalParameter\":null},{\"Name\":\"key_cols\",\"Value\":\"date,instrument\",\"ValueType\":\"Literal\",\"LinkedGlobalParameter\":null},{\"Name\":\"workers\",\"Value\":1,\"ValueType\":\"Literal\",\"LinkedGlobalParameter\":null},{\"Name\":\"other_train_parameters\",\"Value\":\"{}\",\"ValueType\":\"Literal\",\"LinkedGlobalParameter\":null}],\"InputPortsInternal\":[{\"DataSourceId\":null,\"TrainedModelId\":null,\"TransformModuleId\":null,\"Name\":\"training_ds\",\"NodeId\":\"-568\"},{\"DataSourceId\":null,\"TrainedModelId\":null,\"TransformModuleId\":null,\"Name\":\"features\",\"NodeId\":\"-568\"},{\"DataSourceId\":null,\"TrainedModelId\":null,\"TransformModuleId\":null,\"Name\":\"model\",\"NodeId\":\"-568\"},{\"DataSourceId\":null,\"TrainedModelId\":null,\"TransformModuleId\":null,\"Name\":\"predict_ds\",\"NodeId\":\"-568\"}],\"OutputPortsInternal\":[{\"Name\":\"output_model\",\"NodeId\":\"-568\",\"OutputType\":null},{\"Name\":\"predictions\",\"NodeId\":\"-568\",\"OutputType\":null}],\"UsePreviousResults\":true,\"moduleIdForCode\":3,\"IsPartOfPartialRun\":null,\"Comment\":\"\",\"CommentCollapsed\":true},{\"Id\":\"-316\",\"ModuleId\":\"BigQuantSpace.hyper_run.hyper_run-v1\",\"ModuleParameters\":[{\"Name\":\"run\",\"Value\":\"def bigquant_run(bq_graph, inputs):\\n    features =['pe_ttm_0', 'shift(close_0,5)/close_0','mean(close_0,10)/close_0']\\n\\n    parameters_list = []\\n    for feature in features:\\n        feature = [feature]\\n        feature.append('industry_sw_level1_0')\\n        feature.append('market_cap_float_0')\\n        parameters = {'m24.feature_list':feature}\\n        parameters_list.append({'parameters': parameters})\\n    \\n    def run(parameters):\\n        try:\\n            print(parameters)\\n            return g.run(parameters)\\n        except Exception as e:\\n            print('ERROR --------', e)\\n            return None\\n \\n    results = T.parallel_map(run, parameters_list, max_workers=2, remote_run=False, silent=True)\\n\\n    return results\\n\",\"ValueType\":\"Literal\",\"LinkedGlobalParameter\":null},{\"Name\":\"run_now\",\"Value\":\"True\",\"ValueType\":\"Literal\",\"LinkedGlobalParameter\":null},{\"Name\":\"bq_graph\",\"Value\":\"True\",\"ValueType\":\"Literal\",\"LinkedGlobalParameter\":null}],\"InputPortsInternal\":[{\"DataSourceId\":null,\"TrainedModelId\":null,\"TransformModuleId\":null,\"Name\":\"bq_graph_port\",\"NodeId\":\"-316\"},{\"DataSourceId\":null,\"TrainedModelId\":null,\"TransformModuleId\":null,\"Name\":\"input_1\",\"NodeId\":\"-316\"},{\"DataSourceId\":null,\"TrainedModelId\":null,\"TransformModuleId\":null,\"Name\":\"input_2\",\"NodeId\":\"-316\"},{\"DataSourceId\":null,\"TrainedModelId\":null,\"TransformModuleId\":null,\"Name\":\"input_3\",\"NodeId\":\"-316\"}],\"OutputPortsInternal\":[{\"Name\":\"result\",\"NodeId\":\"-316\",\"OutputType\":null}],\"UsePreviousResults\":false,\"moduleIdForCode\":9,\"IsPartOfPartialRun\":null,\"Comment\":\"\",\"CommentCollapsed\":true},{\"Id\":\"-170\",\"ModuleId\":\"BigQuantSpace.dropnan.dropnan-v2\",\"ModuleParameters\":[],\"InputPortsInternal\":[{\"DataSourceId\":null,\"TrainedModelId\":null,\"TransformModuleId\":null,\"Name\":\"input_data\",\"NodeId\":\"-170\"},{\"DataSourceId\":null,\"TrainedModelId\":null,\"TransformModuleId\":null,\"Name\":\"features\",\"NodeId\":\"-170\"}],\"OutputPortsInternal\":[{\"Name\":\"data\",\"NodeId\":\"-170\",\"OutputType\":null}],\"UsePreviousResults\":true,\"moduleIdForCode\":15,\"Comment\":\"\",\"CommentCollapsed\":true},{\"Id\":\"-174\",\"ModuleId\":\"BigQuantSpace.dropnan.dropnan-v2\",\"ModuleParameters\":[],\"InputPortsInternal\":[{\"DataSourceId\":null,\"TrainedModelId\":null,\"TransformModuleId\":null,\"Name\":\"input_data\",\"NodeId\":\"-174\"},{\"DataSourceId\":null,\"TrainedModelId\":null,\"TransformModuleId\":null,\"Name\":\"features\",\"NodeId\":\"-174\"}],\"OutputPortsInternal\":[{\"Name\":\"data\",\"NodeId\":\"-174\",\"OutputType\":null}],\"UsePreviousResults\":true,\"moduleIdForCode\":21,\"Comment\":\"\",\"CommentCollapsed\":true},{\"Id\":\"-177\",\"ModuleId\":\"BigQuantSpace.list_input_feature.list_input_feature-v11\",\"ModuleParameters\":[{\"Name\":\"feature_list\",\"Value\":\"['mean(close_0,10)/close_0', 'industry_sw_level1_0', 'market_cap_float_0']\",\"ValueType\":\"Literal\",\"LinkedGlobalParameter\":null}],\"InputPortsInternal\":[{\"DataSourceId\":null,\"TrainedModelId\":null,\"TransformModuleId\":null,\"Name\":\"input_features\",\"NodeId\":\"-177\"}],\"OutputPortsInternal\":[{\"Name\":\"feature_list\",\"NodeId\":\"-177\",\"OutputType\":null}],\"UsePreviousResults\":true,\"moduleIdForCode\":22,\"Comment\":\"\",\"CommentCollapsed\":true},{\"Id\":\"-181\",\"ModuleId\":\"BigQuantSpace.list_input_feature.list_input_feature-v11\",\"ModuleParameters\":[{\"Name\":\"feature_list\",\"Value\":\"[\\n'industry_sw_level1_0',\\n'market_cap_float_0'\\n]\",\"ValueType\":\"Literal\",\"LinkedGlobalParameter\":null}],\"InputPortsInternal\":[{\"DataSourceId\":null,\"TrainedModelId\":null,\"TransformModuleId\":null,\"Name\":\"input_features\",\"NodeId\":\"-181\"}],\"OutputPortsInternal\":[{\"Name\":\"feature_list\",\"NodeId\":\"-181\",\"OutputType\":null}],\"UsePreviousResults\":true,\"moduleIdForCode\":25,\"Comment\":\"\",\"CommentCollapsed\":true},{\"Id\":\"-186\",\"ModuleId\":\"BigQuantSpace.dropnan.dropnan-v2\",\"ModuleParameters\":[],\"InputPortsInternal\":[{\"DataSourceId\":null,\"TrainedModelId\":null,\"TransformModuleId\":null,\"Name\":\"input_data\",\"NodeId\":\"-186\"},{\"DataSourceId\":null,\"TrainedModelId\":null,\"TransformModuleId\":null,\"Name\":\"features\",\"NodeId\":\"-186\"}],\"OutputPortsInternal\":[{\"Name\":\"data\",\"NodeId\":\"-186\",\"OutputType\":null}],\"UsePreviousResults\":true,\"moduleIdForCode\":27,\"Comment\":\"\",\"CommentCollapsed\":true},{\"Id\":\"-190\",\"ModuleId\":\"BigQuantSpace.dropnan.dropnan-v2\",\"ModuleParameters\":[],\"InputPortsInternal\":[{\"DataSourceId\":null,\"TrainedModelId\":null,\"TransformModuleId\":null,\"Name\":\"input_data\",\"NodeId\":\"-190\"},{\"DataSourceId\":null,\"TrainedModelId\":null,\"TransformModuleId\":null,\"Name\":\"features\",\"NodeId\":\"-190\"}],\"OutputPortsInternal\":[{\"Name\":\"data\",\"NodeId\":\"-190\",\"OutputType\":null}],\"UsePreviousResults\":true,\"moduleIdForCode\":28,\"Comment\":\"\",\"CommentCollapsed\":true}],\"SerializedClientData\":\"<?xml version='1.0' encoding='utf-16'?><DataV1 xmlns:xsd='http://www.w3.org/2001/XMLSchema' xmlns:xsi='http://www.w3.org/2001/XMLSchema-instance'><Meta /><NodePositions><NodePosition Node='287d2cb0-f53c-4101-bdf8-104b137c8601-8' Position='299,-232,200,200'/><NodePosition Node='287d2cb0-f53c-4101-bdf8-104b137c8601-15' Position='53,-131,200,200'/><NodePosition Node='287d2cb0-f53c-4101-bdf8-104b137c8601-53' Position='61,45,200,200'/><NodePosition Node='-346' Position='422.26361083984375,-46.13636016845703,200,200'/><NodePosition Node='-360' Position='1255,12,200,200'/><NodePosition Node='-7016' Position='1400,-121,200,200'/><NodePosition Node='-308' Position='378.2545166015625,-116.44545555114746,200,200'/><NodePosition Node='-565' Position='120,290,200,200'/><NodePosition Node='-2040' Position='1239,190,200,200'/><NodePosition Node='-805' Position='634,198,200,200'/><NodePosition Node='-764' Position='1067,-258,200,200'/><NodePosition Node='-370' Position='1173,463,200,200'/><NodePosition Node='-421' Position='958,359,200,200'/><NodePosition Node='-557' Position='575,510,200,200'/><NodePosition Node='-568' Position='584,330,200,200'/><NodePosition Node='-316' Position='-26,-299,200,200'/><NodePosition Node='-170' Position='147,378,200,200'/><NodePosition Node='-174' Position='1205,272,200,200'/><NodePosition Node='-177' Position='640,-243,200,200'/><NodePosition Node='-181' Position='829,50,200,200'/><NodePosition Node='-186' Position='38,180,200,200'/><NodePosition Node='-190' Position='1417,104,200,200'/></NodePositions><NodeGroups /></DataV1>\"},\"IsDraft\":true,\"ParentExperimentId\":null,\"WebService\":{\"IsWebServiceExperiment\":false,\"Inputs\":[],\"Outputs\":[],\"Parameters\":[{\"Name\":\"交易日期\",\"Value\":\"\",\"ParameterDefinition\":{\"Name\":\"交易日期\",\"FriendlyName\":\"交易日期\",\"DefaultValue\":\"\",\"ParameterType\":\"String\",\"HasDefaultValue\":true,\"IsOptional\":true,\"ParameterRules\":[],\"HasRules\":false,\"MarkupType\":0,\"CredentialDescriptor\":null}}],\"WebServiceGroupId\":null,\"SerializedClientData\":\"<?xml version='1.0' encoding='utf-16'?><DataV1 xmlns:xsd='http://www.w3.org/2001/XMLSchema' xmlns:xsi='http://www.w3.org/2001/XMLSchema-instance'><Meta /><NodePositions></NodePositions><NodeGroups /></DataV1>\"},\"DisableNodesUpdate\":false,\"Category\":\"user\",\"Tags\":[],\"IsPartialRun\":true}"
   },
   "outputs": [
    {
     "name": "stdout",
     "output_type": "stream",
     "text": [
      "[2020-03-12 10:17:41.857910] INFO: bigquant: T.parallel_map  开始并行运算..\n",
      "{'m24.feature_list': ['pe_ttm_0', 'industry_sw_level1_0', 'market_cap_float_0']}\n",
      "{'m24.feature_list': ['shift(close_0,5)/close_0', 'industry_sw_level1_0', 'market_cap_float_0']}\n",
      "并行运算进度:   0%|          | 0/3 [00:00<?, ?it/s]"
     ]
    },
    {
     "data": {
      "text/plain": [
       "[2020-03-12 10:17:41.864940] INFO: bigquant: instruments.v2 开始运行.."
      ]
     },
     "metadata": {
      "is_log": true,
      "status": "INFO"
     },
     "output_type": "display_data"
    },
    {
     "data": {
      "text/plain": [
       "[2020-03-12 10:17:41.865966] INFO: bigquant: instruments.v2 开始运行.."
      ]
     },
     "metadata": {
      "is_log": true,
      "status": "INFO"
     },
     "output_type": "display_data"
    },
    {
     "data": {
      "text/plain": [
       "[2020-03-12 10:17:41.899170] INFO: bigquant: 命中缓存"
      ]
     },
     "metadata": {
      "is_log": true,
      "status": "INFO"
     },
     "output_type": "display_data"
    },
    {
     "data": {
      "text/plain": [
       "[2020-03-12 10:17:41.900767] INFO: bigquant: instruments.v2 运行完成[0.034779s]."
      ]
     },
     "metadata": {
      "is_log": true,
      "status": "INFO"
     },
     "output_type": "display_data"
    },
    {
     "data": {
      "text/plain": [
       "[2020-03-12 10:17:41.902790] INFO: bigquant: 命中缓存"
      ]
     },
     "metadata": {
      "is_log": true,
      "status": "INFO"
     },
     "output_type": "display_data"
    },
    {
     "data": {
      "text/plain": [
       "[2020-03-12 10:17:41.903858] INFO: bigquant: instruments.v2 运行完成[0.038914s]."
      ]
     },
     "metadata": {
      "is_log": true,
      "status": "INFO"
     },
     "output_type": "display_data"
    },
    {
     "data": {
      "text/plain": [
       "[2020-03-12 10:17:41.906683] INFO: bigquant: list_input_feature.v7 开始运行.."
      ]
     },
     "metadata": {
      "is_log": true,
      "status": "INFO"
     },
     "output_type": "display_data"
    },
    {
     "data": {
      "text/plain": [
       "[2020-03-12 10:17:41.908376] INFO: bigquant: list_input_feature.v7 开始运行.."
      ]
     },
     "metadata": {
      "is_log": true,
      "status": "INFO"
     },
     "output_type": "display_data"
    },
    {
     "data": {
      "text/plain": [
       "[2020-03-12 10:17:42.012764] INFO: bigquant: list_input_feature.v7 运行完成[0.10607s]."
      ]
     },
     "metadata": {
      "is_log": true,
      "status": "INFO"
     },
     "output_type": "display_data"
    },
    {
     "data": {
      "text/plain": [
       "[2020-03-12 10:17:42.014665] INFO: bigquant: list_input_feature.v7 开始运行.."
      ]
     },
     "metadata": {
      "is_log": true,
      "status": "INFO"
     },
     "output_type": "display_data"
    },
    {
     "data": {
      "text/plain": [
       "[2020-03-12 10:17:42.059684] INFO: bigquant: 命中缓存"
      ]
     },
     "metadata": {
      "is_log": true,
      "status": "INFO"
     },
     "output_type": "display_data"
    },
    {
     "data": {
      "text/plain": [
       "[2020-03-12 10:17:42.061382] INFO: bigquant: list_input_feature.v7 运行完成[0.046699s]."
      ]
     },
     "metadata": {
      "is_log": true,
      "status": "INFO"
     },
     "output_type": "display_data"
    },
    {
     "data": {
      "text/plain": [
       "[2020-03-12 10:17:42.063347] INFO: bigquant: instruments.v2 开始运行.."
      ]
     },
     "metadata": {
      "is_log": true,
      "status": "INFO"
     },
     "output_type": "display_data"
    },
    {
     "data": {
      "text/plain": [
       "[2020-03-12 10:17:42.089247] INFO: bigquant: 命中缓存"
      ]
     },
     "metadata": {
      "is_log": true,
      "status": "INFO"
     },
     "output_type": "display_data"
    },
    {
     "data": {
      "text/plain": [
       "[2020-03-12 10:17:42.090368] INFO: bigquant: instruments.v2 运行完成[0.027012s]."
      ]
     },
     "metadata": {
      "is_log": true,
      "status": "INFO"
     },
     "output_type": "display_data"
    },
    {
     "data": {
      "text/plain": [
       "[2020-03-12 10:17:42.092692] INFO: bigquant: input_features.v1 开始运行.."
      ]
     },
     "metadata": {
      "is_log": true,
      "status": "INFO"
     },
     "output_type": "display_data"
    },
    {
     "data": {
      "text/plain": [
       "[2020-03-12 10:17:42.138247] INFO: bigquant: 命中缓存"
      ]
     },
     "metadata": {
      "is_log": true,
      "status": "INFO"
     },
     "output_type": "display_data"
    },
    {
     "data": {
      "text/plain": [
       "[2020-03-12 10:17:42.139801] INFO: bigquant: input_features.v1 运行完成[0.047089s]."
      ]
     },
     "metadata": {
      "is_log": true,
      "status": "INFO"
     },
     "output_type": "display_data"
    },
    {
     "data": {
      "text/plain": [
       "[2020-03-12 10:17:42.142991] INFO: bigquant: advanced_auto_labeler.v2 开始运行.."
      ]
     },
     "metadata": {
      "is_log": true,
      "status": "INFO"
     },
     "output_type": "display_data"
    },
    {
     "data": {
      "text/plain": [
       "[2020-03-12 10:17:42.888045] INFO: bigquant: list_input_feature.v7 运行完成[0.979652s]."
      ]
     },
     "metadata": {
      "is_log": true,
      "status": "INFO"
     },
     "output_type": "display_data"
    },
    {
     "data": {
      "text/plain": [
       "[2020-03-12 10:17:42.889835] INFO: bigquant: list_input_feature.v7 开始运行.."
      ]
     },
     "metadata": {
      "is_log": true,
      "status": "INFO"
     },
     "output_type": "display_data"
    },
    {
     "data": {
      "text/plain": [
       "[2020-03-12 10:17:43.020280] INFO: bigquant: 命中缓存"
      ]
     },
     "metadata": {
      "is_log": true,
      "status": "INFO"
     },
     "output_type": "display_data"
    },
    {
     "data": {
      "text/plain": [
       "[2020-03-12 10:17:43.021792] INFO: bigquant: list_input_feature.v7 运行完成[0.131956s]."
      ]
     },
     "metadata": {
      "is_log": true,
      "status": "INFO"
     },
     "output_type": "display_data"
    },
    {
     "data": {
      "text/plain": [
       "[2020-03-12 10:17:43.066113] INFO: bigquant: instruments.v2 开始运行.."
      ]
     },
     "metadata": {
      "is_log": true,
      "status": "INFO"
     },
     "output_type": "display_data"
    },
    {
     "data": {
      "text/plain": [
       "[2020-03-12 10:17:43.134665] INFO: bigquant: 命中缓存"
      ]
     },
     "metadata": {
      "is_log": true,
      "status": "INFO"
     },
     "output_type": "display_data"
    },
    {
     "data": {
      "text/plain": [
       "[2020-03-12 10:17:43.136130] INFO: bigquant: instruments.v2 运行完成[0.069984s]."
      ]
     },
     "metadata": {
      "is_log": true,
      "status": "INFO"
     },
     "output_type": "display_data"
    },
    {
     "data": {
      "text/plain": [
       "[2020-03-12 10:17:43.138185] INFO: bigquant: input_features.v1 开始运行.."
      ]
     },
     "metadata": {
      "is_log": true,
      "status": "INFO"
     },
     "output_type": "display_data"
    },
    {
     "data": {
      "text/plain": [
       "[2020-03-12 10:17:43.175030] INFO: bigquant: 命中缓存"
      ]
     },
     "metadata": {
      "is_log": true,
      "status": "INFO"
     },
     "output_type": "display_data"
    },
    {
     "data": {
      "text/plain": [
       "[2020-03-12 10:17:43.177076] INFO: bigquant: input_features.v1 运行完成[0.038864s]."
      ]
     },
     "metadata": {
      "is_log": true,
      "status": "INFO"
     },
     "output_type": "display_data"
    },
    {
     "data": {
      "text/plain": [
       "[2020-03-12 10:17:43.180407] INFO: bigquant: advanced_auto_labeler.v2 开始运行.."
      ]
     },
     "metadata": {
      "is_log": true,
      "status": "INFO"
     },
     "output_type": "display_data"
    },
    {
     "data": {
      "text/plain": [
       "[2020-03-12 10:17:43.703853] INFO: 自动标注(股票): 加载历史数据: 1191303 行"
      ]
     },
     "metadata": {
      "is_log": true,
      "status": "INFO"
     },
     "output_type": "display_data"
    },
    {
     "data": {
      "text/plain": [
       "[2020-03-12 10:17:43.704938] INFO: 自动标注(股票): 开始标注 .."
      ]
     },
     "metadata": {
      "is_log": true,
      "status": "INFO"
     },
     "output_type": "display_data"
    },
    {
     "data": {
      "text/plain": [
       "[2020-03-12 10:17:44.794855] INFO: 自动标注(股票): 加载历史数据: 1191303 行"
      ]
     },
     "metadata": {
      "is_log": true,
      "status": "INFO"
     },
     "output_type": "display_data"
    },
    {
     "data": {
      "text/plain": [
       "[2020-03-12 10:17:44.796098] INFO: 自动标注(股票): 开始标注 .."
      ]
     },
     "metadata": {
      "is_log": true,
      "status": "INFO"
     },
     "output_type": "display_data"
    }
   ],
   "source": [
    "# 本代码由可视化策略环境自动生成 2021年8月22日10:04\n",
    "# 本代码单元只能在可视化模式下编辑。您也可以拷贝代码，粘贴到新建的代码单元或者策略，然后修改。\n",
    "\n",
    "\n",
    "from sklearn.linear_model import LinearRegression\n",
    "# 行业、市值中性模块\n",
    "def m20_run_bigquant_run(input_1, input_2, input_3):    \n",
    "    \n",
    "    # 1、获取特征数值\n",
    "    df = input_1.read_df()   \n",
    "    df = df[df['industry_sw_level1_0']>0]                # 去除没有查出行业的股票\n",
    "    industry_List = df['industry_sw_level1_0'].unique()          # 所有行业代码\n",
    "    factors_all=df.columns    #获取因子列表\n",
    "\n",
    "    # 2、获取用来中性化的因子列表 通常是行业和市值\n",
    "    factor0 = input_2.read_pickle()                         \n",
    "\n",
    "    #3、需要做清洗的因子列表 \n",
    "    factors_need_cal=[k for k in set(factors_all)-set(factor0) if k!='date' and k!='instrument' and k[:2]!='m:' and k!='label']\n",
    "\n",
    "    #4、缺失值处理 按中信一级行业相同个股的平均值填充\n",
    "    for fac in factors_need_cal:\n",
    "        df['fac_mean'] = df[['date']+['industry_sw_level1_0']+[fac]].groupby(['date','industry_sw_level1_0']).transform(np.mean)\n",
    "        df[fac]=df[fac].fillna(df['fac_mean'])\n",
    "        del df['fac_mean']\n",
    "\n",
    "    #5、因子异常值处理  \n",
    "    #  固定比例法\n",
    "    #for fac in factors_need_cal:\n",
    "       # df[fac][df[fac]>df[fac].quantile(0.99)]=df[fac].quantile(0.99)\n",
    "        #df[fac][df[fac]<df[fac].quantile(0.01)]=df[fac].quantile(0.01)\n",
    "    #  均值标准差法\n",
    "    #print(df[factors_need_cal].head())\n",
    "    #for fac in factors_need_cal:\n",
    "        #df[fac][df[fac]>df[fac].mean()+3*df[fac].std()]=df[fac].mean()+3*df[fac].std()\n",
    "        #df[fac][df[fac]<=df[fac].mean()-3*df[fac].std()]=df[fac].mean()-3*df[fac].std()\n",
    "    #  MAD法\n",
    "    #print(df[factors_need_cal].head())\n",
    "    for fac in factors_need_cal:\n",
    "\n",
    "        median = np.median(list(df[fac]))\n",
    "        MAD = np.mean(abs(df[fac]) - median)\n",
    "        df[fac][df[fac]>median+6*MAD] = median+6*MAD  # 剔除偏离中位数6倍以上的数据\n",
    "        df[fac][df[fac]<median-6*MAD] = median-6*MAD\n",
    "       \n",
    "    #计算行业哑变量\n",
    "    dfTmp = df.copy()  #copy一份用于计算行业哑变量\n",
    "    for n in range(len(industry_List)):                         # 行业哑变量赋值\n",
    "        dfTmp['industry_%d' % n] = 0\n",
    "        dfTmp['industry_%d' % n][df['industry_sw_level1_0']==industry_List[n]]=1\n",
    "                          \n",
    "    # 准备线性回归参数\n",
    "    model0 = LinearRegression()\n",
    "    X = dfTmp[list('industry_%d' % n for n in range(len(industry_List)))+factor0] #组装行业哑变量列和中性化因子列矩阵\n",
    "    del X['industry_sw_level1_0'] #删去中性化因子中的行业列\n",
    "    \n",
    "    #需要计算中性化的因子列表\n",
    "    factors_need_cal=[k for k in set(factors_all)-set(factor0) if k!='date' and k!='instrument' and k[:2]!='m:' and k!='label']\n",
    "\n",
    "    # 逐个特征进行行业市值中性化\n",
    "    from sklearn.preprocessing import scale\n",
    "    for fac in factors_need_cal:\n",
    "\n",
    "            y = df[fac] #获取需要中性化的因子暴露值\n",
    "            model0.fit(X, y)\n",
    "            df[fac] = y-model0.predict(X)  # 计算因子暴露相对于行业哑变量和中性化因子回归后的残差\n",
    "            #df[fac]=(df[fac]-np.mean(df[fac]))/np.std(df[fac])#一种与scale基本等效的处理\n",
    "            df[fac] = scale(df[fac])\n",
    "             #对残差取Z-Score标准化将计算后的结果返回给df中的各列，即完成中性化后的结果\n",
    "    #多重共线性分析\n",
    "    from sklearn.decomposition import PCA\n",
    "    import matplotlib.pyplot as plt\n",
    "    pca = PCA(n_components=len(factors_need_cal))\n",
    "    pca.fit(df[factors_need_cal])\n",
    "    var= pca.explained_variance_ratio_ #计算每个因子解释程度\n",
    "    var1=np.cumsum(np.round(pca.explained_variance_ratio_, decimals=4)*100)#累计解释程度\n",
    "    plt.plot(var1)\n",
    "    print(var)\n",
    "    data_1 = DataSource.write_df(df)\n",
    "    print(data_1)\n",
    "    return Outputs(data_1=data_1, data_2=None, data_3=None)\n",
    "\n",
    "# 后处理函数，可选。输入是主函数的输出，可以在这里对数据做处理，或者返回更友好的outputs数据格式。此函数输出不会被缓存。\n",
    "def m20_post_run_bigquant_run(outputs):\n",
    "    return outputs\n",
    "\n",
    "from sklearn.linear_model import LinearRegression\n",
    "# 行业、市值中性模块\n",
    "def m5_run_bigquant_run(input_1, input_2, input_3):    \n",
    "    \n",
    "    # 1、获取特征数值\n",
    "    df = input_1.read_df()   \n",
    "    df = df[df['industry_sw_level1_0']>0]                # 去除没有查出行业的股票\n",
    "    industry_List = df['industry_sw_level1_0'].unique()          # 所有行业代码\n",
    "    factors_all=df.columns    #获取因子列表\n",
    "\n",
    "    # 2、获取用来中性化的因子列表 通常是行业和市值\n",
    "    factor0 = input_2.read_pickle()                         \n",
    "\n",
    "    #3、需要做清洗的因子列表 \n",
    "    factors_need_cal=[k for k in set(factors_all)-set(factor0) if k!='date' and k!='instrument' and k[:2]!='m:' and k!='label']\n",
    "\n",
    "    #4、缺失值处理 按中信一级行业相同个股的平均值填充\n",
    "    for fac in factors_need_cal:\n",
    "        df['fac_mean'] = df[['date']+['industry_sw_level1_0']+[fac]].groupby(['date','industry_sw_level1_0']).transform(np.mean)\n",
    "        df[fac]=df[fac].fillna(df['fac_mean'])\n",
    "        del df['fac_mean']\n",
    "\n",
    "    #5、因子异常值处理  \n",
    "    #  固定比例法\n",
    "    #for fac in factors_need_cal:\n",
    "       # df[fac][df[fac]>df[fac].quantile(0.99)]=df[fac].quantile(0.99)\n",
    "        #df[fac][df[fac]<df[fac].quantile(0.01)]=df[fac].quantile(0.01)\n",
    "    #  均值标准差法\n",
    "    #print(df[factors_need_cal].head())\n",
    "    #for fac in factors_need_cal:\n",
    "        #df[fac][df[fac]>df[fac].mean()+3*df[fac].std()]=df[fac].mean()+3*df[fac].std()\n",
    "        #df[fac][df[fac]<=df[fac].mean()-3*df[fac].std()]=df[fac].mean()-3*df[fac].std()\n",
    "    #  MAD法\n",
    "    #print(df[factors_need_cal].head())\n",
    "    for fac in factors_need_cal:\n",
    "\n",
    "        median = np.median(list(df[fac]))\n",
    "        MAD = np.mean(abs(df[fac]) - median)\n",
    "        df[fac][df[fac]>median+6*MAD] = median+6*MAD  # 剔除偏离中位数6倍以上的数据\n",
    "        df[fac][df[fac]<median-6*MAD] = median-6*MAD\n",
    "             \n",
    "    #计算行业哑变量\n",
    "    dfTmp = df.copy()  #copy一份用于计算行业哑变量\n",
    "    for n in range(len(industry_List)):                         # 行业哑变量赋值\n",
    "        dfTmp['industry_%d' % n] = 0\n",
    "        dfTmp['industry_%d' % n][df['industry_sw_level1_0']==industry_List[n]]=1\n",
    "                          \n",
    "    # 准备线性回归参数\n",
    "    model0 = LinearRegression()\n",
    "    X = dfTmp[list('industry_%d' % n for n in range(len(industry_List)))+factor0] #组装行业哑变量列和中性化因子列矩阵\n",
    "    del X['industry_sw_level1_0'] #删去中性化因子中的行业列\n",
    "    \n",
    "    #需要计算中性化的因子列表\n",
    "    factors_need_cal=[k for k in set(factors_all)-set(factor0) if k!='date' and k!='instrument' and k[:2]!='m:' and k!='label']\n",
    "\n",
    "    # 逐个特征进行行业市值中性化\n",
    "    from sklearn.preprocessing import scale\n",
    "    for fac in factors_need_cal:\n",
    "\n",
    "            y = df[fac] #获取需要中性化的因子暴露值\n",
    "            model0.fit(X, y)\n",
    "            df[fac] = y-model0.predict(X)  # 计算因子暴露相对于行业哑变量和中性化因子回归后的残差\n",
    "            #df[fac]=(df[fac]-np.mean(df[fac]))/np.std(df[fac])#一种与scale基本等效的处理\n",
    "            df[fac] = scale(df[fac])\n",
    "             #对残差取Z-Score标准化将计算后的结果返回给df中的各列，即完成中性化后的结果\n",
    "    data_1 = DataSource.write_df(df)\n",
    "    return Outputs(data_1=data_1, data_2=None, data_3=None)\n",
    "    \n",
    "# 后处理函数，可选。输入是主函数的输出，可以在这里对数据做处理，或者返回更友好的outputs数据格式。此函数输出不会被缓存。\n",
    "def m5_post_run_bigquant_run(outputs):\n",
    "    return outputs\n",
    "\n",
    "# 回测引擎：初始化函数，只执行一次\n",
    "def m19_initialize_bigquant_run(context):\n",
    "    # 加载预测数据\n",
    "    context.ranker_prediction = context.options['data'].read_df()\n",
    "\n",
    "    # 系统已经设置了默认的交易手续费和滑点，要修改手续费可使用如下函数\n",
    "    context.set_commission(PerOrder(buy_cost=0.0003, sell_cost=0.0013, min_cost=5))\n",
    "    # 预测数据，通过options传入进来，使用 read_df 函数，加载到内存 (DataFrame)\n",
    "    # 设置买入的股票数量，这里买入预测股票列表排名靠前的5只\n",
    "    stock_count = 5\n",
    "    # 每只的股票的权重，如下的权重分配会使得靠前的股票分配多一点的资金，[0.339160, 0.213986, 0.169580, ..]\n",
    "    context.stock_weights = T.norm([1 / math.log(i + 2) for i in range(0, stock_count)])\n",
    "    # 设置每只股票占用的最大资金比例\n",
    "    context.max_cash_per_instrument = 0.2\n",
    "    context.options['hold_days'] = 5\n",
    "\n",
    "# 回测引擎：每日数据处理函数，每天执行一次\n",
    "def m19_handle_data_bigquant_run(context, data):\n",
    "    #------------------------START:加入下面if的两行代码到之前到主函数的最前部分-------------------\n",
    "    # 相隔几天（以5天举例）运行一下handle_data函数\n",
    "    if context.trading_day_index % 5 != 0:\n",
    "        return \n",
    "    #------------------------END：加上这两句代码在主函数就能实现隔几天运行---------------------\n",
    "    # 按日期过滤得到今日的预测数据\n",
    "    ranker_prediction = context.ranker_prediction[\n",
    "        context.ranker_prediction.date == data.current_dt.strftime('%Y-%m-%d')]\n",
    "\n",
    "    # 1. 资金分配\n",
    "    # 平均持仓时间是hold_days，每日都将买入股票，每日预期使用 1/hold_days 的资金\n",
    "    # 实际操作中，会存在一定的买入误差，所以在前hold_days天，等量使用资金；之后，尽量使用剩余资金（这里设置最多用等量的1.5倍）\n",
    "    is_staging = context.trading_day_index < context.options['hold_days'] # 是否在建仓期间（前 hold_days 天）\n",
    "    cash_avg = context.portfolio.portfolio_value / context.options['hold_days']\n",
    "    cash_for_buy = min(context.portfolio.cash, (1 if is_staging else 1.5) * cash_avg)\n",
    "    cash_for_sell = cash_avg - (context.portfolio.cash - cash_for_buy)\n",
    "    positions = {e.symbol: p.amount * p.last_sale_price\n",
    "                 for e, p in context.perf_tracker.position_tracker.positions.items()}\n",
    "\n",
    "    # 2. 生成卖出订单：hold_days天之后才开始卖出；对持仓的股票，按机器学习算法预测的排序末位淘汰\n",
    "    if not is_staging and cash_for_sell > 0:\n",
    "        equities = {e.symbol: e for e, p in context.perf_tracker.position_tracker.positions.items()}\n",
    "        instruments = list(reversed(list(ranker_prediction.instrument[ranker_prediction.instrument.apply(\n",
    "                lambda x: x in equities and not context.has_unfinished_sell_order(equities[x]))])))\n",
    "        # print('rank order for sell %s' % instruments)\n",
    "        for instrument in instruments:\n",
    "            context.order_target(context.symbol(instrument), 0)\n",
    "            cash_for_sell -= positions[instrument]\n",
    "            if cash_for_sell <= 0:\n",
    "                break\n",
    "\n",
    "    # 3. 生成买入订单：按机器学习算法预测的排序，买入前面的stock_count只股票\n",
    "    buy_cash_weights = context.stock_weights\n",
    "    buy_instruments = list(ranker_prediction.instrument[:len(buy_cash_weights)])\n",
    "    max_cash_per_instrument = context.portfolio.portfolio_value * context.max_cash_per_instrument\n",
    "    for i, instrument in enumerate(buy_instruments):\n",
    "        cash = cash_for_buy * buy_cash_weights[i]\n",
    "        if cash > max_cash_per_instrument - positions.get(instrument, 0):\n",
    "            # 确保股票持仓量不会超过每次股票最大的占用资金量\n",
    "            cash = max_cash_per_instrument - positions.get(instrument, 0)\n",
    "        if cash > 0:\n",
    "            price = data.current(context.symbol(instrument), 'price')  # 最新价格\n",
    "            stock_num = np.floor(cash/price/100)*100  # 向下取整\n",
    "            context.order(context.symbol(instrument), stock_num) # 整百下单\n",
    "\n",
    "\n",
    "# 回测引擎：准备数据，只执行一次\n",
    "def m19_prepare_bigquant_run(context):\n",
    "    pass\n",
    "\n",
    "# 回测引擎：每个单位时间开始前调用一次，即每日开盘前调用一次。\n",
    "def m19_before_trading_start_bigquant_run(context, data):\n",
    "    pass\n",
    "\n",
    "\n",
    "g = T.Graph({\n",
    "\n",
    "    'm1': 'M.instruments.v2',\n",
    "    'm1.start_date': '2014-10-31',\n",
    "    'm1.end_date': '2016-10-31',\n",
    "    'm1.market': 'CN_STOCK_A',\n",
    "    'm1.instrument_list': '',\n",
    "    'm1.max_count': 0,\n",
    "\n",
    "    'm2': 'M.advanced_auto_labeler.v2',\n",
    "    'm2.instruments': T.Graph.OutputPort('m1.data'),\n",
    "    'm2.label_expr': \"\"\"# 计算收益：5日经波动率调整后收益率\n",
    "shift(close, -5) / shift(open, -1)/ std(shift(close, -7) / shift(open, -6),5)\n",
    "\n",
    "# 极值处理：用1%和99%分位的值做clip\n",
    "clip(label, all_quantile(label, 0.01), all_quantile(label, 0.99))\n",
    "\n",
    "# 将分数映射到分类，这里使用50个分类\n",
    "all_wbins(label, 50)\n",
    "\n",
    "# 过滤掉一字涨停的情况 (设置label为NaN，在后续处理和训练中会忽略NaN的label)\n",
    "where(shift(high, -1) == shift(low, -1), NaN, label)\"\"\",\n",
    "    'm2.start_date': '',\n",
    "    'm2.end_date': '',\n",
    "    'm2.benchmark': '399102.ZIX',\n",
    "    'm2.drop_na_label': True,\n",
    "    'm2.cast_label_int': True,\n",
    "\n",
    "    'm14': 'M.chinaa_stock_filter.v1',\n",
    "    'm14.index_constituent_cond': ['中证800'],\n",
    "    'm14.board_cond': ['全部'],\n",
    "    'm14.industry_cond': ['全部'],\n",
    "    'm14.st_cond': ['正常'],\n",
    "    'm14.delist_cond': ['非退市'],\n",
    "    'm14.output_left_data': False,\n",
    "\n",
    "    'm8': 'M.chinaa_stock_filter.v1',\n",
    "    'm8.index_constituent_cond': ['中证800'],\n",
    "    'm8.board_cond': ['全部'],\n",
    "    'm8.industry_cond': ['全部'],\n",
    "    'm8.st_cond': ['正常'],\n",
    "    'm8.delist_cond': ['非退市'],\n",
    "    'm8.output_left_data': False,\n",
    "\n",
    "    'm11': 'M.instruments.v2',\n",
    "    'm11.start_date': '2016-11-01',\n",
    "    'm11.end_date': '2017-04-30',\n",
    "    'm11.market': 'CN_STOCK_A',\n",
    "    'm11.instrument_list': '',\n",
    "    'm11.max_count': 0,\n",
    "\n",
    "    'm26': 'M.input_features.v1',\n",
    "    'm26.features': \"\"\"date\n",
    "pred_label\"\"\",\n",
    "\n",
    "    'm22': 'M.list_input_feature.v11',\n",
    "    'm22.feature_list': ['mean(close_0,10)/close_0', 'industry_sw_level1_0', 'market_cap_float_0'],\n",
    "\n",
    "    'm18': 'M.derived_feature_extractor.v3',\n",
    "    'm18.input_data': T.Graph.OutputPort('m14.data'),\n",
    "    'm18.features': T.Graph.OutputPort('m22.feature_list'),\n",
    "    'm18.date_col': 'date',\n",
    "    'm18.instrument_col': 'instrument',\n",
    "    'm18.drop_na': False,\n",
    "    'm18.remove_extra_columns': True,\n",
    "\n",
    "    'm28': 'M.dropnan.v2',\n",
    "    'm28.input_data': T.Graph.OutputPort('m18.data'),\n",
    "\n",
    "    'm16': 'M.derived_feature_extractor.v3',\n",
    "    'm16.input_data': T.Graph.OutputPort('m8.data'),\n",
    "    'm16.features': T.Graph.OutputPort('m22.feature_list'),\n",
    "    'm16.date_col': 'date',\n",
    "    'm16.instrument_col': 'instrument',\n",
    "    'm16.drop_na': False,\n",
    "    'm16.remove_extra_columns': True,\n",
    "\n",
    "    'm7': 'M.join.v3',\n",
    "    'm7.data1': T.Graph.OutputPort('m2.data'),\n",
    "    'm7.data2': T.Graph.OutputPort('m16.data'),\n",
    "    'm7.on': 'date,instrument',\n",
    "    'm7.how': 'inner',\n",
    "    'm7.sort': False,\n",
    "\n",
    "    'm27': 'M.dropnan.v2',\n",
    "    'm27.input_data': T.Graph.OutputPort('m7.data'),\n",
    "\n",
    "    'm25': 'M.list_input_feature.v11',\n",
    "    'm25.feature_list': [\n",
    "'industry_sw_level1_0',\n",
    "'market_cap_float_0'\n",
    "],\n",
    "\n",
    "    'm20': 'M.cached.v3',\n",
    "    'm20.input_1': T.Graph.OutputPort('m27.data'),\n",
    "    'm20.input_2': T.Graph.OutputPort('m25.feature_list'),\n",
    "    'm20.run': m20_run_bigquant_run,\n",
    "    'm20.post_run': m20_post_run_bigquant_run,\n",
    "    'm20.input_ports': '',\n",
    "    'm20.params': '{}',\n",
    "    'm20.output_ports': '',\n",
    "\n",
    "    'm15': 'M.dropnan.v2',\n",
    "    'm15.input_data': T.Graph.OutputPort('m20.data_1'),\n",
    "\n",
    "    'm5': 'M.cached.v3',\n",
    "    'm5.input_1': T.Graph.OutputPort('m28.data'),\n",
    "    'm5.input_2': T.Graph.OutputPort('m25.feature_list'),\n",
    "    'm5.run': m5_run_bigquant_run,\n",
    "    'm5.post_run': m5_post_run_bigquant_run,\n",
    "    'm5.input_ports': '',\n",
    "    'm5.params': '{}',\n",
    "    'm5.output_ports': '',\n",
    "\n",
    "    'm21': 'M.dropnan.v2',\n",
    "    'm21.input_data': T.Graph.OutputPort('m5.data_1'),\n",
    "\n",
    "    'm4': 'M.preprocessing_standard_scaler.v1',\n",
    "    'm4.training_ds': T.Graph.OutputPort('m15.data'),\n",
    "    'm4.features': T.Graph.OutputPort('m22.feature_list'),\n",
    "    'm4.predict_ds': T.Graph.OutputPort('m21.data'),\n",
    "    'm4.with_mean': True,\n",
    "    'm4.with_std': True,\n",
    "\n",
    "    'm3': 'M.logistic_regression.v1',\n",
    "    'm3.training_ds': T.Graph.OutputPort('m4.transform_trainds'),\n",
    "    'm3.features': T.Graph.OutputPort('m22.feature_list'),\n",
    "    'm3.predict_ds': T.Graph.OutputPort('m4.transform_predictds'),\n",
    "    'm3.penalty': 'l2',\n",
    "    'm3.dual': False,\n",
    "    'm3.fit_intercept': True,\n",
    "    'm3.tol': 0.0001,\n",
    "    'm3.C': 1,\n",
    "    'm3.key_cols': 'date,instrument',\n",
    "    'm3.workers': 1,\n",
    "    'm3.other_train_parameters': {},\n",
    "\n",
    "    'm17': 'M.sort.v4',\n",
    "    'm17.input_ds': T.Graph.OutputPort('m3.predictions'),\n",
    "    'm17.sort_by_ds': T.Graph.OutputPort('m26.data'),\n",
    "    'm17.sort_by': 'pred_label',\n",
    "    'm17.group_by': 'date',\n",
    "    'm17.keep_columns': '--',\n",
    "    'm17.ascending': False,\n",
    "\n",
    "    'm19': 'M.trade.v4',\n",
    "    'm19.instruments': T.Graph.OutputPort('m11.data'),\n",
    "    'm19.options_data': T.Graph.OutputPort('m17.sorted_data'),\n",
    "    'm19.start_date': '',\n",
    "    'm19.end_date': '',\n",
    "    'm19.initialize': m19_initialize_bigquant_run,\n",
    "    'm19.handle_data': m19_handle_data_bigquant_run,\n",
    "    'm19.prepare': m19_prepare_bigquant_run,\n",
    "    'm19.before_trading_start': m19_before_trading_start_bigquant_run,\n",
    "    'm19.volume_limit': 0.025,\n",
    "    'm19.order_price_field_buy': 'open',\n",
    "    'm19.order_price_field_sell': 'close',\n",
    "    'm19.capital_base': 1000000,\n",
    "    'm19.auto_cancel_non_tradable_orders': True,\n",
    "    'm19.data_frequency': 'daily',\n",
    "    'm19.price_type': '真实价格',\n",
    "    'm19.product_type': '股票',\n",
    "    'm19.plot_charts': True,\n",
    "    'm19.backtest_only': False,\n",
    "    'm19.benchmark': '399102.ZIX',\n",
    "})\n",
    "\n",
    "# g.run({})\n",
    "\n",
    "\n",
    "def m9_run_bigquant_run(bq_graph, inputs):\n",
    "    features =['pe_ttm_0', 'shift(close_0,5)/close_0','mean(close_0,10)/close_0']\n",
    "\n",
    "    parameters_list = []\n",
    "    for feature in features:\n",
    "        feature = [feature]\n",
    "        feature.append('industry_sw_level1_0')\n",
    "        feature.append('market_cap_float_0')\n",
    "        parameters = {'m24.feature_list':feature}\n",
    "        parameters_list.append({'parameters': parameters})\n",
    "    \n",
    "    def run(parameters):\n",
    "        try:\n",
    "            print(parameters)\n",
    "            return g.run(parameters)\n",
    "        except Exception as e:\n",
    "            print('ERROR --------', e)\n",
    "            return None\n",
    " \n",
    "    results = T.parallel_map(run, parameters_list, max_workers=2, remote_run=False, silent=True)\n",
    "\n",
    "    return results\n",
    "\n",
    "\n",
    "m9 = M.hyper_run.v1(\n",
    "    run=m9_run_bigquant_run,\n",
    "    run_now=True,\n",
    "    bq_graph=g\n",
    ")\n"
   ]
  },
  {
   "cell_type": "code",
   "execution_count": null,
   "metadata": {},
   "outputs": [],
   "source": [
    "#超参搜索代码\n",
    "#print(m17.result.best_params_)\n",
    "#print(m17.result.best_score_)\n",
    "#自定义运行-并行计算代码\n",
    "\n",
    "# 查看所有并行任务的运算结果\n",
    "m4.result\n",
    "# 查看第一个并行任务的运算结果\n",
    "m4.result[0]\n",
    "# 查看第一个并行任务的预测结果前5条记录\n",
    "m4.result[0].predictions.read_df().head()\n",
    "# 查看第一个并行任务的运算结果中m19回测模块的回测曲线\n",
    "m4.result[0]['m19'].display()"
   ]
  },
  {
   "cell_type": "code",
   "execution_count": null,
   "metadata": {},
   "outputs": [],
   "source": [
    "features =['pe_ttm_0', 'shift(close_0,5)/close_0','mean(close_0,10)/close_0']\n",
    "for feature in features:\n",
    "        feature = [feature]\n",
    "        feature.append('industry_sw_level1_0')\n",
    "        feature.append('market_cap_float_0')\n",
    "        print(feature)"
   ]
  }
 ],
 "metadata": {
  "kernelspec": {
   "display_name": "Python 3",
   "language": "python",
   "name": "python3"
  },
  "language_info": {
   "codemirror_mode": {
    "name": "ipython",
    "version": 3
   },
   "file_extension": ".py",
   "mimetype": "text/x-python",
   "name": "python",
   "nbconvert_exporter": "python",
   "pygments_lexer": "ipython3",
   "version": "3.8.7"
  }
 },
 "nbformat": 4,
 "nbformat_minor": 4
}
