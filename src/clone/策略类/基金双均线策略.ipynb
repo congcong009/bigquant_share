{
 "cells": [
  {
   "cell_type": "code",
   "execution_count": 3,
   "metadata": {},
   "outputs": [
    {
     "data": {
      "text/html": [
       "<div>\n",
       "<style scoped>\n",
       "    .dataframe tbody tr th:only-of-type {\n",
       "        vertical-align: middle;\n",
       "    }\n",
       "\n",
       "    .dataframe tbody tr th {\n",
       "        vertical-align: top;\n",
       "    }\n",
       "\n",
       "    .dataframe thead th {\n",
       "        text-align: right;\n",
       "    }\n",
       "</style>\n",
       "<table border=\"1\" class=\"dataframe\">\n",
       "  <thead>\n",
       "    <tr style=\"text-align: right;\">\n",
       "      <th></th>\n",
       "      <th>date</th>\n",
       "      <th>instrument</th>\n",
       "      <th>name</th>\n",
       "    </tr>\n",
       "  </thead>\n",
       "  <tbody>\n",
       "    <tr>\n",
       "      <th>0</th>\n",
       "      <td>2005-01-04</td>\n",
       "      <td>510050.OFA</td>\n",
       "      <td>华夏上证50ETF</td>\n",
       "    </tr>\n",
       "    <tr>\n",
       "      <th>1</th>\n",
       "      <td>2005-01-05</td>\n",
       "      <td>510050.OFA</td>\n",
       "      <td>华夏上证50ETF</td>\n",
       "    </tr>\n",
       "    <tr>\n",
       "      <th>2</th>\n",
       "      <td>2005-01-06</td>\n",
       "      <td>510050.OFA</td>\n",
       "      <td>华夏上证50ETF</td>\n",
       "    </tr>\n",
       "    <tr>\n",
       "      <th>3</th>\n",
       "      <td>2005-01-07</td>\n",
       "      <td>510050.OFA</td>\n",
       "      <td>华夏上证50ETF</td>\n",
       "    </tr>\n",
       "    <tr>\n",
       "      <th>4</th>\n",
       "      <td>2005-01-10</td>\n",
       "      <td>510050.OFA</td>\n",
       "      <td>华夏上证50ETF</td>\n",
       "    </tr>\n",
       "  </tbody>\n",
       "</table>\n",
       "</div>"
      ],
      "text/plain": [
       "        date  instrument       name\n",
       "0 2005-01-04  510050.OFA  华夏上证50ETF\n",
       "1 2005-01-05  510050.OFA  华夏上证50ETF\n",
       "2 2005-01-06  510050.OFA  华夏上证50ETF\n",
       "3 2005-01-07  510050.OFA  华夏上证50ETF\n",
       "4 2005-01-10  510050.OFA  华夏上证50ETF"
      ]
     },
     "execution_count": 3,
     "metadata": {},
     "output_type": "execute_result"
    }
   ],
   "source": [
    "DataSource('instruments_CN_FUND').read().head()"
   ]
  },
  {
   "cell_type": "code",
   "execution_count": 4,
   "metadata": {},
   "outputs": [
    {
     "data": {
      "text/html": [
       "<div>\n",
       "<style scoped>\n",
       "    .dataframe tbody tr th:only-of-type {\n",
       "        vertical-align: middle;\n",
       "    }\n",
       "\n",
       "    .dataframe tbody tr th {\n",
       "        vertical-align: top;\n",
       "    }\n",
       "\n",
       "    .dataframe thead th {\n",
       "        text-align: right;\n",
       "    }\n",
       "</style>\n",
       "<table border=\"1\" class=\"dataframe\">\n",
       "  <thead>\n",
       "    <tr style=\"text-align: right;\">\n",
       "      <th></th>\n",
       "      <th>abbreviation_name</th>\n",
       "      <th>delist_date</th>\n",
       "      <th>display_name</th>\n",
       "      <th>instrument</th>\n",
       "      <th>list_date</th>\n",
       "      <th>name</th>\n",
       "      <th>type</th>\n",
       "    </tr>\n",
       "  </thead>\n",
       "  <tbody>\n",
       "    <tr>\n",
       "      <th>1072</th>\n",
       "      <td>NaN</td>\n",
       "      <td>2200-01-01</td>\n",
       "      <td>300ETF</td>\n",
       "      <td>510300.HOF</td>\n",
       "      <td>2012-05-28</td>\n",
       "      <td>300ETF</td>\n",
       "      <td>etf</td>\n",
       "    </tr>\n",
       "  </tbody>\n",
       "</table>\n",
       "</div>"
      ],
      "text/plain": [
       "     abbreviation_name delist_date display_name  instrument  list_date  \\\n",
       "1072               NaN  2200-01-01       300ETF  510300.HOF 2012-05-28   \n",
       "\n",
       "        name type  \n",
       "1072  300ETF  etf  "
      ]
     },
     "execution_count": 4,
     "metadata": {},
     "output_type": "execute_result"
    }
   ],
   "source": [
    "df = DataSource('basic_info_CN_FUND').read()  # .read(instrument='510300.HOF', start_date='2017-1-1').head()  # \n",
    "df[df['instrument']=='510300.HOF']"
   ]
  },
  {
   "cell_type": "code",
   "execution_count": 18,
   "metadata": {},
   "outputs": [
    {
     "data": {
      "text/html": [
       "<div>\n",
       "<style scoped>\n",
       "    .dataframe tbody tr th:only-of-type {\n",
       "        vertical-align: middle;\n",
       "    }\n",
       "\n",
       "    .dataframe tbody tr th {\n",
       "        vertical-align: top;\n",
       "    }\n",
       "\n",
       "    .dataframe thead th {\n",
       "        text-align: right;\n",
       "    }\n",
       "</style>\n",
       "<table border=\"1\" class=\"dataframe\">\n",
       "  <thead>\n",
       "    <tr style=\"text-align: right;\">\n",
       "      <th></th>\n",
       "      <th>adjust_factor</th>\n",
       "      <th>amount</th>\n",
       "      <th>close</th>\n",
       "      <th>date</th>\n",
       "      <th>high</th>\n",
       "      <th>instrument</th>\n",
       "      <th>low</th>\n",
       "      <th>open</th>\n",
       "      <th>paused</th>\n",
       "      <th>turn</th>\n",
       "      <th>volume</th>\n",
       "      <th>mean(close,20)</th>\n",
       "      <th>mean(close,60)</th>\n",
       "    </tr>\n",
       "  </thead>\n",
       "  <tbody>\n",
       "    <tr>\n",
       "      <th>200</th>\n",
       "      <td>1.013924</td>\n",
       "      <td>1.012514e+09</td>\n",
       "      <td>2.467</td>\n",
       "      <td>2013-04-18</td>\n",
       "      <td>2.486</td>\n",
       "      <td>510300.HOF</td>\n",
       "      <td>2.438</td>\n",
       "      <td>2.439</td>\n",
       "      <td>0.0</td>\n",
       "      <td>0.063927</td>\n",
       "      <td>411305194.0</td>\n",
       "      <td>2.51080</td>\n",
       "      <td>2.587783</td>\n",
       "    </tr>\n",
       "    <tr>\n",
       "      <th>201</th>\n",
       "      <td>0.382228</td>\n",
       "      <td>1.266655e+08</td>\n",
       "      <td>2.463</td>\n",
       "      <td>2013-04-18</td>\n",
       "      <td>2.476</td>\n",
       "      <td>159919.ZOF</td>\n",
       "      <td>2.431</td>\n",
       "      <td>2.446</td>\n",
       "      <td>0.0</td>\n",
       "      <td>0.003891</td>\n",
       "      <td>51543848.0</td>\n",
       "      <td>2.50555</td>\n",
       "      <td>2.583583</td>\n",
       "    </tr>\n",
       "    <tr>\n",
       "      <th>202</th>\n",
       "      <td>1.141400</td>\n",
       "      <td>7.082894e+08</td>\n",
       "      <td>1.766</td>\n",
       "      <td>2013-04-18</td>\n",
       "      <td>1.774</td>\n",
       "      <td>510050.HOF</td>\n",
       "      <td>1.742</td>\n",
       "      <td>1.750</td>\n",
       "      <td>0.0</td>\n",
       "      <td>0.044012</td>\n",
       "      <td>402712905.0</td>\n",
       "      <td>1.81165</td>\n",
       "      <td>1.885900</td>\n",
       "    </tr>\n",
       "  </tbody>\n",
       "</table>\n",
       "</div>"
      ],
      "text/plain": [
       "     adjust_factor        amount  close       date   high  instrument    low  \\\n",
       "200       1.013924  1.012514e+09  2.467 2013-04-18  2.486  510300.HOF  2.438   \n",
       "201       0.382228  1.266655e+08  2.463 2013-04-18  2.476  159919.ZOF  2.431   \n",
       "202       1.141400  7.082894e+08  1.766 2013-04-18  1.774  510050.HOF  1.742   \n",
       "\n",
       "      open  paused      turn       volume  mean(close,20)  mean(close,60)  \n",
       "200  2.439     0.0  0.063927  411305194.0         2.51080        2.587783  \n",
       "201  2.446     0.0  0.003891   51543848.0         2.50555        2.583583  \n",
       "202  1.750     0.0  0.044012  402712905.0         1.81165        1.885900  "
      ]
     },
     "execution_count": 18,
     "metadata": {},
     "output_type": "execute_result"
    }
   ],
   "source": [
    "m7.data.read().head(3)"
   ]
  },
  {
   "cell_type": "code",
   "execution_count": 3,
   "metadata": {
    "machine_learning_studio": "true",
    "ml_studio_json": "{\"description\":\"实验创建于2018/10/17\",\"graph\":{\"edges\":[{\"to_node_id\":\"-314:features\",\"from_node_id\":\"-24:data\"},{\"to_node_id\":\"-61:input_data\",\"from_node_id\":\"-314:data\"},{\"to_node_id\":\"-314:input_data\",\"from_node_id\":\"-418:data_1\"},{\"to_node_id\":\"-418:input_1\",\"from_node_id\":\"-357:data\"},{\"to_node_id\":\"-112:instruments\",\"from_node_id\":\"-357:data\"},{\"to_node_id\":\"-112:options_data\",\"from_node_id\":\"-61:data\"},{\"to_node_id\":\"-112:history_ds\",\"from_node_id\":\"-61:data\"}],\"nodes\":[{\"node_id\":\"-24\",\"module_id\":\"BigQuantSpace.input_features.input_features-v1\",\"parameters\":[{\"name\":\"features\",\"value\":\"\\n# #号开始的表示注释\\n# 多个特征，每行一个，可以包含基础特征和衍生特征\\n\\nmean(close,20)\\nmean(close,60)\\n\",\"type\":\"Literal\",\"bound_global_parameter\":null}],\"input_ports\":[{\"name\":\"features_ds\",\"node_id\":\"-24\"}],\"output_ports\":[{\"name\":\"data\",\"node_id\":\"-24\"}],\"cacheable\":false,\"seq_num\":3,\"comment\":\"定义指标\",\"comment_collapsed\":false},{\"node_id\":\"-314\",\"module_id\":\"BigQuantSpace.derived_feature_extractor.derived_feature_extractor-v3\",\"parameters\":[{\"name\":\"date_col\",\"value\":\"date\",\"type\":\"Literal\",\"bound_global_parameter\":null},{\"name\":\"instrument_col\",\"value\":\"instrument\",\"type\":\"Literal\",\"bound_global_parameter\":null},{\"name\":\"drop_na\",\"value\":\"True\",\"type\":\"Literal\",\"bound_global_parameter\":null},{\"name\":\"remove_extra_columns\",\"value\":\"False\",\"type\":\"Literal\",\"bound_global_parameter\":null},{\"name\":\"user_functions\",\"value\":\"{}\",\"type\":\"Literal\",\"bound_global_parameter\":null}],\"input_ports\":[{\"name\":\"input_data\",\"node_id\":\"-314\"},{\"name\":\"features\",\"node_id\":\"-314\"}],\"output_ports\":[{\"name\":\"data\",\"node_id\":\"-314\"}],\"cacheable\":true,\"seq_num\":5,\"comment\":\"\",\"comment_collapsed\":true},{\"node_id\":\"-418\",\"module_id\":\"BigQuantSpace.cached.cached-v3\",\"parameters\":[{\"name\":\"run\",\"value\":\"# Python 代码入口函数，input_1/2/3 对应三个输入端，data_1/2/3 对应三个输出端\\ndef bigquant_run(input_1, start_date,end_date):\\n    # 示例代码如下。在这里编写您的代码\\n    ins=input_1.read_pickle()['instruments']\\n    start_date=input_1.read_pickle()['start_date']\\n    end_date=input_1.read_pickle()['end_date']\\n    df=DataSource('bar1d_CN_FUND').read(ins,start_date=start_date,end_date=end_date)\\n    data_1 = DataSource.write_df(df)\\n    return Outputs(data_1=data_1, data_2=None, data_3=None)\\n\",\"type\":\"Literal\",\"bound_global_parameter\":null},{\"name\":\"post_run\",\"value\":\"# 后处理函数，可选。输入是主函数的输出，可以在这里对数据做处理，或者返回更友好的outputs数据格式。此函数输出不会被缓存。\\ndef bigquant_run(outputs):\\n    return outputs\\n\",\"type\":\"Literal\",\"bound_global_parameter\":null},{\"name\":\"input_ports\",\"value\":\"\",\"type\":\"Literal\",\"bound_global_parameter\":null},{\"name\":\"params\",\"value\":\"{'start':'2018-08-29'}\",\"type\":\"Literal\",\"bound_global_parameter\":null},{\"name\":\"output_ports\",\"value\":\"\",\"type\":\"Literal\",\"bound_global_parameter\":null}],\"input_ports\":[{\"name\":\"input_1\",\"node_id\":\"-418\"},{\"name\":\"input_2\",\"node_id\":\"-418\"},{\"name\":\"input_3\",\"node_id\":\"-418\"}],\"output_ports\":[{\"name\":\"data_1\",\"node_id\":\"-418\"},{\"name\":\"data_2\",\"node_id\":\"-418\"},{\"name\":\"data_3\",\"node_id\":\"-418\"}],\"cacheable\":true,\"seq_num\":2,\"comment\":\"\",\"comment_collapsed\":true},{\"node_id\":\"-357\",\"module_id\":\"BigQuantSpace.instruments.instruments-v2\",\"parameters\":[{\"name\":\"start_date\",\"value\":\"2018-08-29\",\"type\":\"Literal\",\"bound_global_parameter\":null},{\"name\":\"end_date\",\"value\":\"2021-09-01\",\"type\":\"Literal\",\"bound_global_parameter\":null},{\"name\":\"market\",\"value\":\"CN_FUND\",\"type\":\"Literal\",\"bound_global_parameter\":null},{\"name\":\"instrument_list\",\"value\":\"\",\"type\":\"Literal\",\"bound_global_parameter\":null},{\"name\":\"max_count\",\"value\":0,\"type\":\"Literal\",\"bound_global_parameter\":null}],\"input_ports\":[{\"name\":\"rolling_conf\",\"node_id\":\"-357\"}],\"output_ports\":[{\"name\":\"data\",\"node_id\":\"-357\"}],\"cacheable\":true,\"seq_num\":1,\"comment\":\"\",\"comment_collapsed\":true},{\"node_id\":\"-112\",\"module_id\":\"BigQuantSpace.trade.trade-v4\",\"parameters\":[{\"name\":\"start_date\",\"value\":\"2020-1-1\",\"type\":\"Literal\",\"bound_global_parameter\":null},{\"name\":\"end_date\",\"value\":\"\",\"type\":\"Literal\",\"bound_global_parameter\":null},{\"name\":\"initialize\",\"value\":\"# 回测引擎：初始化函数，只执行一次\\ndef bigquant_run(context):\\n\\n    # 系统已经设置了默认的交易手续费和滑点，要修改手续费可使用如下函数\\n    context.set_commission(PerOrder(buy_cost=0.0003, sell_cost=0.0013, min_cost=5))\\n\",\"type\":\"Literal\",\"bound_global_parameter\":null},{\"name\":\"handle_data\",\"value\":\"# 回测引擎：每日数据处理函数，每天执行一次\\ndef bigquant_run(context, data):\\n    # 获取今日的日期\\n    today = data.current_dt.strftime('%Y-%m-%d')  \\n    data_today=context.data[context.data['date']==today]\\n    sid = context.symbol(context.instruments[0]) \\n    price = data.current(sid, 'price')\\n    cash = context.portfolio.cash \\n    #cur_position = context.portfolio.positions[sid].amount\\n\\n    short_avg=np.array(data_today['mean(close,20)'])[0]\\n    long_avg=np.array(data_today['mean(close,60)'])[0]\\n    \\n    \\n    if short_avg>long_avg :\\n        context.order(sid,int(cash/price/100)*100)\\n    if short_avg<long_avg :\\n        context.order_target_percent(sid, 0)\",\"type\":\"Literal\",\"bound_global_parameter\":null},{\"name\":\"prepare\",\"value\":\"# 回测引擎：准备数据，只执行一次\\ndef bigquant_run(context):\\n    # 加载预测数据\\n    \\n    df = context.options['data'].read_df()\\n    context.data=df\\n    pass\",\"type\":\"Literal\",\"bound_global_parameter\":null},{\"name\":\"before_trading_start\",\"value\":\"# 回测引擎：每个单位时间开始前调用一次，即每日开盘前调用一次。\\ndef bigquant_run(context, data):\\n    pass\",\"type\":\"Literal\",\"bound_global_parameter\":null},{\"name\":\"volume_limit\",\"value\":0.025,\"type\":\"Literal\",\"bound_global_parameter\":null},{\"name\":\"order_price_field_buy\",\"value\":\"open\",\"type\":\"Literal\",\"bound_global_parameter\":null},{\"name\":\"order_price_field_sell\",\"value\":\"close\",\"type\":\"Literal\",\"bound_global_parameter\":null},{\"name\":\"capital_base\",\"value\":\"1000000\",\"type\":\"Literal\",\"bound_global_parameter\":null},{\"name\":\"auto_cancel_non_tradable_orders\",\"value\":\"True\",\"type\":\"Literal\",\"bound_global_parameter\":null},{\"name\":\"data_frequency\",\"value\":\"daily\",\"type\":\"Literal\",\"bound_global_parameter\":null},{\"name\":\"price_type\",\"value\":\"后复权\",\"type\":\"Literal\",\"bound_global_parameter\":null},{\"name\":\"product_type\",\"value\":\"股票\",\"type\":\"Literal\",\"bound_global_parameter\":null},{\"name\":\"plot_charts\",\"value\":\"True\",\"type\":\"Literal\",\"bound_global_parameter\":null},{\"name\":\"backtest_only\",\"value\":\"False\",\"type\":\"Literal\",\"bound_global_parameter\":null},{\"name\":\"benchmark\",\"value\":\"510300.HOF\",\"type\":\"Literal\",\"bound_global_parameter\":null}],\"input_ports\":[{\"name\":\"instruments\",\"node_id\":\"-112\"},{\"name\":\"options_data\",\"node_id\":\"-112\"},{\"name\":\"history_ds\",\"node_id\":\"-112\"},{\"name\":\"benchmark_ds\",\"node_id\":\"-112\"},{\"name\":\"trading_calendar\",\"node_id\":\"-112\"}],\"output_ports\":[{\"name\":\"raw_perf\",\"node_id\":\"-112\"}],\"cacheable\":false,\"seq_num\":4,\"comment\":\"\",\"comment_collapsed\":true},{\"node_id\":\"-61\",\"module_id\":\"BigQuantSpace.dropnan.dropnan-v2\",\"parameters\":[],\"input_ports\":[{\"name\":\"input_data\",\"node_id\":\"-61\"},{\"name\":\"features\",\"node_id\":\"-61\"}],\"output_ports\":[{\"name\":\"data\",\"node_id\":\"-61\"}],\"cacheable\":true,\"seq_num\":7,\"comment\":\"\",\"comment_collapsed\":true}],\"node_layout\":\"<node_postions><node_position Node='-24' Position='589,154,200,200'/><node_position Node='-314' Position='388,433,200,200'/><node_position Node='-418' Position='173,311,200,200'/><node_position Node='-357' Position='-87,186,200,200'/><node_position Node='-112' Position='320,740,200,200'/><node_position Node='-61' Position='388,509,200,200'/></node_postions>\"},\"nodes_readonly\":false,\"studio_version\":\"v2\"}"
   },
   "outputs": [
    {
     "data": {
      "text/plain": [
       "[2021-08-22 10:08:32.370713] INFO: moduleinvoker: input_features.v1 开始运行.."
      ]
     },
     "metadata": {
      "is_log": true,
      "status": "INFO"
     },
     "output_type": "display_data"
    },
    {
     "data": {
      "text/plain": [
       "[2021-08-22 10:08:32.413332] INFO: moduleinvoker: input_features.v1 运行完成[0.042633s]."
      ]
     },
     "metadata": {
      "is_log": true,
      "status": "INFO"
     },
     "output_type": "display_data"
    },
    {
     "data": {
      "text/plain": [
       "[2021-08-22 10:08:32.421341] INFO: moduleinvoker: instruments.v2 开始运行.."
      ]
     },
     "metadata": {
      "is_log": true,
      "status": "INFO"
     },
     "output_type": "display_data"
    },
    {
     "data": {
      "text/plain": [
       "[2021-08-22 10:08:32.627406] INFO: moduleinvoker: instruments.v2 运行完成[0.206058s]."
      ]
     },
     "metadata": {
      "is_log": true,
      "status": "INFO"
     },
     "output_type": "display_data"
    },
    {
     "data": {
      "text/plain": [
       "[2021-08-22 10:08:32.642850] INFO: moduleinvoker: cached.v3 开始运行.."
      ]
     },
     "metadata": {
      "is_log": true,
      "status": "INFO"
     },
     "output_type": "display_data"
    },
    {
     "data": {
      "text/plain": [
       "[2021-08-22 10:08:35.654590] INFO: moduleinvoker: cached.v3 运行完成[3.011739s]."
      ]
     },
     "metadata": {
      "is_log": true,
      "status": "INFO"
     },
     "output_type": "display_data"
    },
    {
     "data": {
      "text/plain": [
       "[2021-08-22 10:08:35.665273] INFO: moduleinvoker: derived_feature_extractor.v3 开始运行.."
      ]
     },
     "metadata": {
      "is_log": true,
      "status": "INFO"
     },
     "output_type": "display_data"
    },
    {
     "data": {
      "text/plain": [
       "[2021-08-22 10:08:37.468390] INFO: derived_feature_extractor: 提取完成 mean(close,20), 0.427s"
      ]
     },
     "metadata": {
      "is_log": true,
      "status": "INFO"
     },
     "output_type": "display_data"
    },
    {
     "data": {
      "text/plain": [
       "[2021-08-22 10:08:37.895080] INFO: derived_feature_extractor: 提取完成 mean(close,60), 0.425s"
      ]
     },
     "metadata": {
      "is_log": true,
      "status": "INFO"
     },
     "output_type": "display_data"
    },
    {
     "data": {
      "text/plain": [
       "[2021-08-22 10:08:39.664190] INFO: derived_feature_extractor: /data, 569379"
      ]
     },
     "metadata": {
      "is_log": true,
      "status": "INFO"
     },
     "output_type": "display_data"
    },
    {
     "data": {
      "text/plain": [
       "[2021-08-22 10:08:40.084246] INFO: moduleinvoker: derived_feature_extractor.v3 运行完成[4.41896s]."
      ]
     },
     "metadata": {
      "is_log": true,
      "status": "INFO"
     },
     "output_type": "display_data"
    },
    {
     "data": {
      "text/plain": [
       "[2021-08-22 10:08:40.095919] INFO: moduleinvoker: dropnan.v2 开始运行.."
      ]
     },
     "metadata": {
      "is_log": true,
      "status": "INFO"
     },
     "output_type": "display_data"
    },
    {
     "data": {
      "text/plain": [
       "[2021-08-22 10:08:40.132751] INFO: dropnan: /data, 0/0"
      ]
     },
     "metadata": {
      "is_log": true,
      "status": "INFO"
     },
     "output_type": "display_data"
    },
    {
     "data": {
      "text/plain": [
       "[2021-08-22 10:08:40.159392] ERROR: moduleinvoker: module name: dropnan, module version: v2, trackeback: Exception: no data left after dropnan\\n"
      ]
     },
     "metadata": {
      "is_log": true,
      "status": "ERROR"
     },
     "output_type": "display_data"
    },
    {
     "ename": "Exception",
     "evalue": "no data left after dropnan",
     "output_type": "error",
     "traceback": [
      "\u001b[0;31m---------------------------------------------------------------------------\u001b[0m",
      "\u001b[0;31mException\u001b[0m                                 Traceback (most recent call last)",
      "\u001b[0;32m<ipython-input-3-b6e2b2889248>\u001b[0m in \u001b[0;36m<module>\u001b[0;34m\u001b[0m\n\u001b[1;32m     90\u001b[0m )\n\u001b[1;32m     91\u001b[0m \u001b[0;34m\u001b[0m\u001b[0m\n\u001b[0;32m---> 92\u001b[0;31m m7 = M.dropnan.v2(\n\u001b[0m\u001b[1;32m     93\u001b[0m     \u001b[0minput_data\u001b[0m\u001b[0;34m=\u001b[0m\u001b[0mm5\u001b[0m\u001b[0;34m.\u001b[0m\u001b[0mdata\u001b[0m\u001b[0;34m\u001b[0m\u001b[0;34m\u001b[0m\u001b[0m\n\u001b[1;32m     94\u001b[0m )\n",
      "\u001b[0;31mException\u001b[0m: no data left after dropnan"
     ]
    }
   ],
   "source": [
    "# 本代码由可视化策略环境自动生成 2021年8月22日10:08\n",
    "# 本代码单元只能在可视化模式下编辑。您也可以拷贝代码，粘贴到新建的代码单元或者策略，然后修改。\n",
    "\n",
    "\n",
    "# Python 代码入口函数，input_1/2/3 对应三个输入端，data_1/2/3 对应三个输出端\n",
    "def m2_run_bigquant_run(input_1, start_date,end_date):\n",
    "    # 示例代码如下。在这里编写您的代码\n",
    "    ins=input_1.read_pickle()['instruments']\n",
    "    start_date=input_1.read_pickle()['start_date']\n",
    "    end_date=input_1.read_pickle()['end_date']\n",
    "    df=DataSource('bar1d_CN_FUND').read(ins,start_date=start_date,end_date=end_date)\n",
    "    data_1 = DataSource.write_df(df)\n",
    "    return Outputs(data_1=data_1, data_2=None, data_3=None)\n",
    "\n",
    "# 后处理函数，可选。输入是主函数的输出，可以在这里对数据做处理，或者返回更友好的outputs数据格式。此函数输出不会被缓存。\n",
    "def m2_post_run_bigquant_run(outputs):\n",
    "    return outputs\n",
    "\n",
    "# 回测引擎：初始化函数，只执行一次\n",
    "def m4_initialize_bigquant_run(context):\n",
    "\n",
    "    # 系统已经设置了默认的交易手续费和滑点，要修改手续费可使用如下函数\n",
    "    context.set_commission(PerOrder(buy_cost=0.0003, sell_cost=0.0013, min_cost=5))\n",
    "\n",
    "# 回测引擎：每日数据处理函数，每天执行一次\n",
    "def m4_handle_data_bigquant_run(context, data):\n",
    "    # 获取今日的日期\n",
    "    today = data.current_dt.strftime('%Y-%m-%d')  \n",
    "    data_today=context.data[context.data['date']==today]\n",
    "    sid = context.symbol(context.instruments[0]) \n",
    "    price = data.current(sid, 'price')\n",
    "    cash = context.portfolio.cash \n",
    "    #cur_position = context.portfolio.positions[sid].amount\n",
    "\n",
    "    short_avg=np.array(data_today['mean(close,20)'])[0]\n",
    "    long_avg=np.array(data_today['mean(close,60)'])[0]\n",
    "    \n",
    "    \n",
    "    if short_avg>long_avg :\n",
    "        context.order(sid,int(cash/price/100)*100)\n",
    "    if short_avg<long_avg :\n",
    "        context.order_target_percent(sid, 0)\n",
    "# 回测引擎：准备数据，只执行一次\n",
    "def m4_prepare_bigquant_run(context):\n",
    "    # 加载预测数据\n",
    "    \n",
    "    df = context.options['data'].read_df()\n",
    "    context.data=df\n",
    "    pass\n",
    "# 回测引擎：每个单位时间开始前调用一次，即每日开盘前调用一次。\n",
    "def m4_before_trading_start_bigquant_run(context, data):\n",
    "    pass\n",
    "\n",
    "m3 = M.input_features.v1(\n",
    "    features=\"\"\"\n",
    "# #号开始的表示注释\n",
    "# 多个特征，每行一个，可以包含基础特征和衍生特征\n",
    "\n",
    "mean(close,20)\n",
    "mean(close,60)\n",
    "\"\"\",\n",
    "    m_cached=False\n",
    ")\n",
    "\n",
    "m1 = M.instruments.v2(\n",
    "    start_date='2018-08-29',\n",
    "    end_date='2021-09-01',\n",
    "    market='CN_FUND',\n",
    "    instrument_list='',\n",
    "    max_count=0\n",
    ")\n",
    "\n",
    "m2 = M.cached.v3(\n",
    "    input_1=m1.data,\n",
    "    run=m2_run_bigquant_run,\n",
    "    post_run=m2_post_run_bigquant_run,\n",
    "    input_ports='',\n",
    "    params='{\\'start\\':\\'2018-08-29\\'}',\n",
    "    output_ports=''\n",
    ")\n",
    "\n",
    "m5 = M.derived_feature_extractor.v3(\n",
    "    input_data=m2.data_1,\n",
    "    features=m3.data,\n",
    "    date_col='date',\n",
    "    instrument_col='instrument',\n",
    "    drop_na=True,\n",
    "    remove_extra_columns=False,\n",
    "    user_functions={}\n",
    ")\n",
    "\n",
    "m7 = M.dropnan.v2(\n",
    "    input_data=m5.data\n",
    ")\n",
    "\n",
    "m4 = M.trade.v4(\n",
    "    instruments=m1.data,\n",
    "    options_data=m7.data,\n",
    "    history_ds=m7.data,\n",
    "    start_date='2020-1-1',\n",
    "    end_date='',\n",
    "    initialize=m4_initialize_bigquant_run,\n",
    "    handle_data=m4_handle_data_bigquant_run,\n",
    "    prepare=m4_prepare_bigquant_run,\n",
    "    before_trading_start=m4_before_trading_start_bigquant_run,\n",
    "    volume_limit=0.025,\n",
    "    order_price_field_buy='open',\n",
    "    order_price_field_sell='close',\n",
    "    capital_base=1000000,\n",
    "    auto_cancel_non_tradable_orders=True,\n",
    "    data_frequency='daily',\n",
    "    price_type='后复权',\n",
    "    product_type='股票',\n",
    "    plot_charts=True,\n",
    "    backtest_only=False,\n",
    "    benchmark='510300.HOF'\n",
    ")\n"
   ]
  }
 ],
 "metadata": {
  "kernelspec": {
   "display_name": "Python 3",
   "language": "python",
   "name": "python3"
  },
  "language_info": {
   "codemirror_mode": {
    "name": "ipython",
    "version": 3
   },
   "file_extension": ".py",
   "mimetype": "text/x-python",
   "name": "python",
   "nbconvert_exporter": "python",
   "pygments_lexer": "ipython3",
   "version": "3.8.7"
  }
 },
 "nbformat": 4,
 "nbformat_minor": 4
}
