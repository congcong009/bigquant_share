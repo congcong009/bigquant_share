{
 "cells": [
  {
   "cell_type": "markdown",
   "metadata": {},
   "source": [
    "## <b>使用深度学习技术预测股票价格</b>"
   ]
  },
  {
   "cell_type": "markdown",
   "metadata": {},
   "source": [
    "版本 v1.0\n",
    "\n",
    "## <b>目录</b>\n",
    "* ### <b>深度学习策略的交易规则</b>\n",
    "\n",
    "* ### <b>策略构建步骤</b>\n",
    "\n",
    "* ### <b>策略的实现</b>\n",
    "\n",
    "## <b>正文</b>\n",
    "\n",
    "### <b>一、深度学习策略的交易规则</b>\n",
    "\n",
    "* 买入条件：预测的上涨概率>0.5，则买入或保持已有持仓。\n",
    "* 卖出条件 :预测的上涨概率<0.5，则卖出已有股票。\n",
    "\n",
    "### <b>二、策略构建步骤</b>\n",
    "#### 1、确定股票池和数据起止时间\n",
    "\n",
    "* 在证券代码列表m24模块中输入要回测的单只股票，以及数据的起止日期(含训练集和验证集)。\n",
    "\n",
    "#### 2、确定因子\n",
    "\n",
    "* 在输入特征列表m8模块中输入用于预测的N个因子表达式。\n",
    "\n",
    "#### 3、获取基础数据\n",
    "\n",
    "* 通过自定义模块m23获取指定股票池的基础数据，如收盘价等字段。\n",
    "\n",
    "#### 4、确定并计算模型标注\n",
    "\n",
    "* 通过自定义模块m16计算需要的标注指标，本例中首先计算未来10天收益df['return']，然后根据df['return']的正负来给每日数据标注1或0，来标识涨跌。\n",
    "\n",
    "#### 5、抽取因子数据\n",
    "\n",
    "* 通过衍生数据抽取模块m26计算因子数据。\n",
    "\n",
    "#### 6、合并标注与因子数据\n",
    "\n",
    "* 通过连接数据m17模块合并因子数据和标注数据。\n",
    "\n",
    "#### 7、划分训练集和预测集\n",
    "\n",
    "* 通过数据过滤模块m19和m20中设置的日期范围划分训练集数据和预测集数据。\n",
    "\n",
    "#### 8、生成序列窗口滚动数据集\n",
    "\n",
    "* 通过序列窗口滚动(深度学习)模块将训练集和预测集的数据生成固定窗口长度的数据序列，为后续模型训练和预测做准备。\n",
    "\n",
    "\n",
    "#### 9、构建LSTM + CNN模型构架\n",
    "\n",
    "* 在画布左侧模块列表中依次拖入输入层模块、Reshape层模块、Conv2D层模块、Reshape层模块、LSTM层模块、Dropout层模块和全连接层模块(两组)，构成深度学习网络构架，\n",
    "\n",
    "  最后通过“构建(深度学习)”模块组装各层。这里需要注意：\n",
    "    \n",
    "    输入层的shape参数是 窗口滚动数据集的大小 X 因子数量 , 本例为 50 行 X 5个因子\n",
    "\n",
    "    ReShape层的参数是 窗口滚动数据集的大小 X 因子数量 X 1 ，本例为 50 行 X 5个因子 X1\n",
    "    \n",
    "    Conv2D层中的 kernel_size参数是滑动窗口的尺寸，本例中使用 3行 X 5列 的窗口, 每次滑动的步长为 1行 X 1列 ， 卷积核数目为32，这里的窗口设置决定了后面ReShape层的参数\n",
    "    \n",
    "    ReShape层中的target_shape 参数，这是由 窗口滚动数据集 X 因子数量 和 Conv2D层中设置的窗口尺寸以及步长决定的。本例中 50行 X 5因子 的输入数据，使用 3行 X5列 的窗口滑动取数据，\n",
    "    \n",
    "    每次移动1行，共计可以得到48次数据(即可以通过滑动3行 X 5列的窗口48次来获取完整的数据)，因此target_shape= 48 X 卷积核数32\n",
    "    \n",
    "    LSTM层的输出空间维度设置为卷积核数32，并设置激活函数\n",
    "    \n",
    "    Dropout层是防止过度拟合采用的主动裁剪数据技术，这里设置rate 为0.8\n",
    "    \n",
    "    全连接层共两层，第一层的输出空间维度与LSTM的输出维度保持一致为32，第二层将第一层的32维数据转变为1维数据输出，即获取预测的label值，此例为0到1之间的连续值，可以认为是上涨的概率。\n",
    "    \n",
    "\n",
    "#### 10、训练深度学习模型\n",
    "\n",
    "* 在画布左侧模块列表中拖入“训练(深度学习)”模块m6,设置属性中的优化器、目标函数、评估指标、每次训练的数据量batch_size、迭代次数epochs和GPU的数量以及日志输出频率。\n",
    "\n",
    "#### 11、使用深度学习模型预测\n",
    "\n",
    "* 在画布左侧模块列表中拖入“预测(深度学习)”模块m7，并将“训练(深度学习)”模块m6的模型输出和验证集的序列窗口滚动数据集传给预测模块，通过预测模块即根据股票验证集的数据预测上涨的概率。\n",
    "\n",
    "#### 12、根据模型预测结果构建策略\n",
    "\n",
    "* 如果当日预测的上涨概率大于0.5，则保持持仓或买入\n",
    "\n",
    "* 如果当日预测的上涨概率小于0.5，则卖出股票或保持空仓。\n",
    "\n",
    "#### 13、模拟回测\n",
    "\n",
    "* 通过 trade 模块中的初始化函数定义交易手续费和滑点，通过 context.prediction 获取每日的上涨概率预测结果；\n",
    "\n",
    "* 通过 trade 模块中的主函数(handle函数)查看每日的买卖交易信号，按照买卖原则执行相应的买入/卖出操作。\n",
    "\n",
    "### <b>三、策略的实现</b>\n",
    "可视化策略实现如下："
   ]
  },
  {
   "cell_type": "code",
   "execution_count": 4,
   "metadata": {
    "machine_learning_studio": "true",
    "ml_studio_json": "{\"description\":\"实验创建于2017/11/15\",\"graph\":{\"edges\":[{\"to_node_id\":\"-281:options_data\",\"from_node_id\":\"-214:data_1\"},{\"to_node_id\":\"-316:inputs\",\"from_node_id\":\"-210:data\"},{\"to_node_id\":\"-403:inputs\",\"from_node_id\":\"-210:data\"},{\"to_node_id\":\"-14834:inputs\",\"from_node_id\":\"-218:data\"},{\"to_node_id\":\"-320:input_model\",\"from_node_id\":\"-316:data\"},{\"to_node_id\":\"-332:trained_model\",\"from_node_id\":\"-320:data\"},{\"to_node_id\":\"-214:input_1\",\"from_node_id\":\"-332:data\"},{\"to_node_id\":\"-692:features\",\"from_node_id\":\"-2295:data\"},{\"to_node_id\":\"-285:features\",\"from_node_id\":\"-2295:data\"},{\"to_node_id\":\"-293:features\",\"from_node_id\":\"-2295:data\"},{\"to_node_id\":\"-316:outputs\",\"from_node_id\":\"-259:data\"},{\"to_node_id\":\"-14841:inputs\",\"from_node_id\":\"-14806:data\"},{\"to_node_id\":\"-14806:inputs\",\"from_node_id\":\"-14834:data\"},{\"to_node_id\":\"-259:inputs\",\"from_node_id\":\"-14841:data\"},{\"to_node_id\":\"-408:inputs\",\"from_node_id\":\"-403:data\"},{\"to_node_id\":\"-446:inputs\",\"from_node_id\":\"-408:data\"},{\"to_node_id\":\"-218:inputs\",\"from_node_id\":\"-446:data\"},{\"to_node_id\":\"-2290:data1\",\"from_node_id\":\"-1966:data_1\"},{\"to_node_id\":\"-290:input_data\",\"from_node_id\":\"-2290:data\"},{\"to_node_id\":\"-285:input_data\",\"from_node_id\":\"-2300:data\"},{\"to_node_id\":\"-214:input_3\",\"from_node_id\":\"-2306:data\"},{\"to_node_id\":\"-293:input_data\",\"from_node_id\":\"-2306:data\"},{\"to_node_id\":\"-1966:input_1\",\"from_node_id\":\"-616:data_1\"},{\"to_node_id\":\"-692:input_data\",\"from_node_id\":\"-616:data_1\"},{\"to_node_id\":\"-616:input_1\",\"from_node_id\":\"-620:data\"},{\"to_node_id\":\"-281:instruments\",\"from_node_id\":\"-620:data\"},{\"to_node_id\":\"-2290:data2\",\"from_node_id\":\"-692:data\"},{\"to_node_id\":\"-320:training_data\",\"from_node_id\":\"-285:data\"},{\"to_node_id\":\"-332:input_data\",\"from_node_id\":\"-293:data\"},{\"to_node_id\":\"-214:input_2\",\"from_node_id\":\"-293:data\"},{\"to_node_id\":\"-2300:input_data\",\"from_node_id\":\"-290:data\"},{\"to_node_id\":\"-2306:input_data\",\"from_node_id\":\"-290:data\"}],\"nodes\":[{\"node_id\":\"-214\",\"module_id\":\"BigQuantSpace.cached.cached-v3\",\"parameters\":[{\"name\":\"run\",\"value\":\"# Python 代码入口函数，input_1/2/3 对应三个输入端，data_1/2/3 对应三个输出端\\ndef bigquant_run(input_1, input_2, input_3):\\n    import numpy as np\\n    input_series = input_1\\n    input_df = input_2\\n    test_data = input_df.read_pickle()\\n    pred_label = input_series.read_pickle()\\n  \\n    pred_result = pred_label.reshape(pred_label.shape[0]) \\n    dt = input_3.read_df()['date'][-1*len(pred_result):]\\n    pred_df = pd.Series(pred_result, index=dt)\\n    ds = DataSource.write_df(pred_df)\\n    \\n    pred_label = np.where(pred_label>0.5,1,0)\\n    labels = test_data['y']\\n    print('准确率%s'%(np.mean(pred_label==labels)))\\n    \\n    return Outputs(data_1=ds)\\n\",\"type\":\"Literal\",\"bound_global_parameter\":null},{\"name\":\"post_run\",\"value\":\"# 后处理函数，可选。输入是主函数的输出，可以在这里对数据做处理，或者返回更友好的outputs数据格式。此函数输出不会被缓存。\\ndef bigquant_run(outputs):\\n    return outputs\\n\",\"type\":\"Literal\",\"bound_global_parameter\":null},{\"name\":\"input_ports\",\"value\":\"\",\"type\":\"Literal\",\"bound_global_parameter\":null},{\"name\":\"params\",\"value\":\"{}\",\"type\":\"Literal\",\"bound_global_parameter\":null},{\"name\":\"output_ports\",\"value\":\"\",\"type\":\"Literal\",\"bound_global_parameter\":null}],\"input_ports\":[{\"name\":\"input_1\",\"node_id\":\"-214\"},{\"name\":\"input_2\",\"node_id\":\"-214\"},{\"name\":\"input_3\",\"node_id\":\"-214\"}],\"output_ports\":[{\"name\":\"data_1\",\"node_id\":\"-214\"},{\"name\":\"data_2\",\"node_id\":\"-214\"},{\"name\":\"data_3\",\"node_id\":\"-214\"}],\"cacheable\":true,\"seq_num\":2,\"comment\":\"模型预测结果输出\",\"comment_collapsed\":false},{\"node_id\":\"-210\",\"module_id\":\"BigQuantSpace.dl_layer_input.dl_layer_input-v1\",\"parameters\":[{\"name\":\"shape\",\"value\":\"50,5\",\"type\":\"Literal\",\"bound_global_parameter\":null},{\"name\":\"batch_shape\",\"value\":\"\",\"type\":\"Literal\",\"bound_global_parameter\":null},{\"name\":\"dtype\",\"value\":\"float32\",\"type\":\"Literal\",\"bound_global_parameter\":null},{\"name\":\"sparse\",\"value\":\"False\",\"type\":\"Literal\",\"bound_global_parameter\":null},{\"name\":\"name\",\"value\":\"\",\"type\":\"Literal\",\"bound_global_parameter\":null}],\"input_ports\":[{\"name\":\"inputs\",\"node_id\":\"-210\"}],\"output_ports\":[{\"name\":\"data\",\"node_id\":\"-210\"}],\"cacheable\":false,\"seq_num\":3,\"comment\":\"\",\"comment_collapsed\":true},{\"node_id\":\"-218\",\"module_id\":\"BigQuantSpace.dl_layer_lstm.dl_layer_lstm-v1\",\"parameters\":[{\"name\":\"units\",\"value\":\"32\",\"type\":\"Literal\",\"bound_global_parameter\":null},{\"name\":\"activation\",\"value\":\"tanh\",\"type\":\"Literal\",\"bound_global_parameter\":null},{\"name\":\"user_activation\",\"value\":\"\",\"type\":\"Literal\",\"bound_global_parameter\":null},{\"name\":\"recurrent_activation\",\"value\":\"hard_sigmoid\",\"type\":\"Literal\",\"bound_global_parameter\":null},{\"name\":\"user_recurrent_activation\",\"value\":\"\",\"type\":\"Literal\",\"bound_global_parameter\":null},{\"name\":\"use_bias\",\"value\":\"True\",\"type\":\"Literal\",\"bound_global_parameter\":null},{\"name\":\"kernel_initializer\",\"value\":\"glorot_uniform\",\"type\":\"Literal\",\"bound_global_parameter\":null},{\"name\":\"user_kernel_initializer\",\"value\":\"\",\"type\":\"Literal\",\"bound_global_parameter\":null},{\"name\":\"recurrent_initializer\",\"value\":\"Orthogonal\",\"type\":\"Literal\",\"bound_global_parameter\":null},{\"name\":\"user_recurrent_initializer\",\"value\":\"\",\"type\":\"Literal\",\"bound_global_parameter\":null},{\"name\":\"bias_initializer\",\"value\":\"Ones\",\"type\":\"Literal\",\"bound_global_parameter\":null},{\"name\":\"user_bias_initializer\",\"value\":\"\",\"type\":\"Literal\",\"bound_global_parameter\":null},{\"name\":\"unit_forget_bias\",\"value\":\"True\",\"type\":\"Literal\",\"bound_global_parameter\":null},{\"name\":\"kernel_regularizer\",\"value\":\"None\",\"type\":\"Literal\",\"bound_global_parameter\":null},{\"name\":\"kernel_regularizer_l1\",\"value\":0,\"type\":\"Literal\",\"bound_global_parameter\":null},{\"name\":\"kernel_regularizer_l2\",\"value\":0,\"type\":\"Literal\",\"bound_global_parameter\":null},{\"name\":\"user_kernel_regularizer\",\"value\":\"\",\"type\":\"Literal\",\"bound_global_parameter\":null},{\"name\":\"recurrent_regularizer\",\"value\":\"None\",\"type\":\"Literal\",\"bound_global_parameter\":null},{\"name\":\"recurrent_regularizer_l1\",\"value\":0,\"type\":\"Literal\",\"bound_global_parameter\":null},{\"name\":\"recurrent_regularizer_l2\",\"value\":0,\"type\":\"Literal\",\"bound_global_parameter\":null},{\"name\":\"user_recurrent_regularizer\",\"value\":\"\",\"type\":\"Literal\",\"bound_global_parameter\":null},{\"name\":\"bias_regularizer\",\"value\":\"None\",\"type\":\"Literal\",\"bound_global_parameter\":null},{\"name\":\"bias_regularizer_l1\",\"value\":0,\"type\":\"Literal\",\"bound_global_parameter\":null},{\"name\":\"bias_regularizer_l2\",\"value\":0,\"type\":\"Literal\",\"bound_global_parameter\":null},{\"name\":\"user_bias_regularizer\",\"value\":\"\",\"type\":\"Literal\",\"bound_global_parameter\":null},{\"name\":\"activity_regularizer\",\"value\":\"None\",\"type\":\"Literal\",\"bound_global_parameter\":null},{\"name\":\"activity_regularizer_l1\",\"value\":0,\"type\":\"Literal\",\"bound_global_parameter\":null},{\"name\":\"activity_regularizer_l2\",\"value\":0,\"type\":\"Literal\",\"bound_global_parameter\":null},{\"name\":\"user_activity_regularizer\",\"value\":\"\",\"type\":\"Literal\",\"bound_global_parameter\":null},{\"name\":\"kernel_constraint\",\"value\":\"None\",\"type\":\"Literal\",\"bound_global_parameter\":null},{\"name\":\"user_kernel_constraint\",\"value\":\"\",\"type\":\"Literal\",\"bound_global_parameter\":null},{\"name\":\"recurrent_constraint\",\"value\":\"None\",\"type\":\"Literal\",\"bound_global_parameter\":null},{\"name\":\"user_recurrent_constraint\",\"value\":\"\",\"type\":\"Literal\",\"bound_global_parameter\":null},{\"name\":\"bias_constraint\",\"value\":\"None\",\"type\":\"Literal\",\"bound_global_parameter\":null},{\"name\":\"user_bias_constraint\",\"value\":\"\",\"type\":\"Literal\",\"bound_global_parameter\":null},{\"name\":\"dropout\",\"value\":\"0\",\"type\":\"Literal\",\"bound_global_parameter\":null},{\"name\":\"recurrent_dropout\",\"value\":0,\"type\":\"Literal\",\"bound_global_parameter\":null},{\"name\":\"return_sequences\",\"value\":\"False\",\"type\":\"Literal\",\"bound_global_parameter\":null},{\"name\":\"implementation\",\"value\":\"0\",\"type\":\"Literal\",\"bound_global_parameter\":null},{\"name\":\"name\",\"value\":\"\",\"type\":\"Literal\",\"bound_global_parameter\":null}],\"input_ports\":[{\"name\":\"inputs\",\"node_id\":\"-218\"}],\"output_ports\":[{\"name\":\"data\",\"node_id\":\"-218\"}],\"cacheable\":false,\"seq_num\":4,\"comment\":\"\",\"comment_collapsed\":true},{\"node_id\":\"-316\",\"module_id\":\"BigQuantSpace.dl_model_init.dl_model_init-v1\",\"parameters\":[],\"input_ports\":[{\"name\":\"inputs\",\"node_id\":\"-316\"},{\"name\":\"outputs\",\"node_id\":\"-316\"}],\"output_ports\":[{\"name\":\"data\",\"node_id\":\"-316\"}],\"cacheable\":false,\"seq_num\":5,\"comment\":\"\",\"comment_collapsed\":true},{\"node_id\":\"-320\",\"module_id\":\"BigQuantSpace.dl_model_train.dl_model_train-v1\",\"parameters\":[{\"name\":\"optimizer\",\"value\":\"Adam\",\"type\":\"Literal\",\"bound_global_parameter\":null},{\"name\":\"user_optimizer\",\"value\":\"\",\"type\":\"Literal\",\"bound_global_parameter\":null},{\"name\":\"loss\",\"value\":\"binary_crossentropy\",\"type\":\"Literal\",\"bound_global_parameter\":null},{\"name\":\"user_loss\",\"value\":\"\",\"type\":\"Literal\",\"bound_global_parameter\":null},{\"name\":\"metrics\",\"value\":\"accuracy\",\"type\":\"Literal\",\"bound_global_parameter\":null},{\"name\":\"batch_size\",\"value\":\"2048\",\"type\":\"Literal\",\"bound_global_parameter\":null},{\"name\":\"epochs\",\"value\":\"10\",\"type\":\"Literal\",\"bound_global_parameter\":null},{\"name\":\"custom_objects\",\"value\":\"# 用户的自定义层需要写到字典中，比如\\n# {\\n#   \\\"MyLayer\\\": MyLayer\\n# }\\nbigquant_run = {\\n    \\n}\\n\",\"type\":\"Literal\",\"bound_global_parameter\":null},{\"name\":\"n_gpus\",\"value\":\"1\",\"type\":\"Literal\",\"bound_global_parameter\":null},{\"name\":\"verbose\",\"value\":\"1:输出进度条记录\",\"type\":\"Literal\",\"bound_global_parameter\":null}],\"input_ports\":[{\"name\":\"input_model\",\"node_id\":\"-320\"},{\"name\":\"training_data\",\"node_id\":\"-320\"},{\"name\":\"validation_data\",\"node_id\":\"-320\"}],\"output_ports\":[{\"name\":\"data\",\"node_id\":\"-320\"}],\"cacheable\":true,\"seq_num\":6,\"comment\":\"\",\"comment_collapsed\":true},{\"node_id\":\"-332\",\"module_id\":\"BigQuantSpace.dl_model_predict.dl_model_predict-v1\",\"parameters\":[{\"name\":\"batch_size\",\"value\":\"10240\",\"type\":\"Literal\",\"bound_global_parameter\":null},{\"name\":\"n_gpus\",\"value\":\"2\",\"type\":\"Literal\",\"bound_global_parameter\":null},{\"name\":\"verbose\",\"value\":\"2:每个epoch输出一行记录\",\"type\":\"Literal\",\"bound_global_parameter\":null}],\"input_ports\":[{\"name\":\"trained_model\",\"node_id\":\"-332\"},{\"name\":\"input_data\",\"node_id\":\"-332\"}],\"output_ports\":[{\"name\":\"data\",\"node_id\":\"-332\"}],\"cacheable\":true,\"seq_num\":7,\"comment\":\"\",\"comment_collapsed\":true},{\"node_id\":\"-2295\",\"module_id\":\"BigQuantSpace.input_features.input_features-v1\",\"parameters\":[{\"name\":\"features\",\"value\":\"(close/shift(close,1)-1)*10\\n(high/shift(high,1)-1)*10\\n(low/shift(low,1)-1)*10\\n(open/shift(open,1)-1)*10\\n(volume/shift(volume,1)-1)*10\",\"type\":\"Literal\",\"bound_global_parameter\":null}],\"input_ports\":[{\"name\":\"features_ds\",\"node_id\":\"-2295\"}],\"output_ports\":[{\"name\":\"data\",\"node_id\":\"-2295\"}],\"cacheable\":true,\"seq_num\":8,\"comment\":\"\",\"comment_collapsed\":true},{\"node_id\":\"-259\",\"module_id\":\"BigQuantSpace.dl_layer_dense.dl_layer_dense-v1\",\"parameters\":[{\"name\":\"units\",\"value\":\"1\",\"type\":\"Literal\",\"bound_global_parameter\":null},{\"name\":\"activation\",\"value\":\"sigmoid\",\"type\":\"Literal\",\"bound_global_parameter\":null},{\"name\":\"user_activation\",\"value\":\"\",\"type\":\"Literal\",\"bound_global_parameter\":null},{\"name\":\"use_bias\",\"value\":\"True\",\"type\":\"Literal\",\"bound_global_parameter\":null},{\"name\":\"kernel_initializer\",\"value\":\"glorot_uniform\",\"type\":\"Literal\",\"bound_global_parameter\":null},{\"name\":\"user_kernel_initializer\",\"value\":\"\",\"type\":\"Literal\",\"bound_global_parameter\":null},{\"name\":\"bias_initializer\",\"value\":\"Zeros\",\"type\":\"Literal\",\"bound_global_parameter\":null},{\"name\":\"user_bias_initializer\",\"value\":\"\",\"type\":\"Literal\",\"bound_global_parameter\":null},{\"name\":\"kernel_regularizer\",\"value\":\"None\",\"type\":\"Literal\",\"bound_global_parameter\":null},{\"name\":\"kernel_regularizer_l1\",\"value\":0,\"type\":\"Literal\",\"bound_global_parameter\":null},{\"name\":\"kernel_regularizer_l2\",\"value\":0,\"type\":\"Literal\",\"bound_global_parameter\":null},{\"name\":\"user_kernel_regularizer\",\"value\":\"\",\"type\":\"Literal\",\"bound_global_parameter\":null},{\"name\":\"bias_regularizer\",\"value\":\"None\",\"type\":\"Literal\",\"bound_global_parameter\":null},{\"name\":\"bias_regularizer_l1\",\"value\":0,\"type\":\"Literal\",\"bound_global_parameter\":null},{\"name\":\"bias_regularizer_l2\",\"value\":0,\"type\":\"Literal\",\"bound_global_parameter\":null},{\"name\":\"user_bias_regularizer\",\"value\":\"\",\"type\":\"Literal\",\"bound_global_parameter\":null},{\"name\":\"activity_regularizer\",\"value\":\"None\",\"type\":\"Literal\",\"bound_global_parameter\":null},{\"name\":\"activity_regularizer_l1\",\"value\":0,\"type\":\"Literal\",\"bound_global_parameter\":null},{\"name\":\"activity_regularizer_l2\",\"value\":0,\"type\":\"Literal\",\"bound_global_parameter\":null},{\"name\":\"user_activity_regularizer\",\"value\":\"\",\"type\":\"Literal\",\"bound_global_parameter\":null},{\"name\":\"kernel_constraint\",\"value\":\"None\",\"type\":\"Literal\",\"bound_global_parameter\":null},{\"name\":\"user_kernel_constraint\",\"value\":\"\",\"type\":\"Literal\",\"bound_global_parameter\":null},{\"name\":\"bias_constraint\",\"value\":\"None\",\"type\":\"Literal\",\"bound_global_parameter\":null},{\"name\":\"user_bias_constraint\",\"value\":\"\",\"type\":\"Literal\",\"bound_global_parameter\":null},{\"name\":\"name\",\"value\":\"\",\"type\":\"Literal\",\"bound_global_parameter\":null}],\"input_ports\":[{\"name\":\"inputs\",\"node_id\":\"-259\"}],\"output_ports\":[{\"name\":\"data\",\"node_id\":\"-259\"}],\"cacheable\":false,\"seq_num\":9,\"comment\":\"\",\"comment_collapsed\":true},{\"node_id\":\"-14806\",\"module_id\":\"BigQuantSpace.dl_layer_dense.dl_layer_dense-v1\",\"parameters\":[{\"name\":\"units\",\"value\":\"32\",\"type\":\"Literal\",\"bound_global_parameter\":null},{\"name\":\"activation\",\"value\":\"tanh\",\"type\":\"Literal\",\"bound_global_parameter\":null},{\"name\":\"user_activation\",\"value\":\"\",\"type\":\"Literal\",\"bound_global_parameter\":null},{\"name\":\"use_bias\",\"value\":\"True\",\"type\":\"Literal\",\"bound_global_parameter\":null},{\"name\":\"kernel_initializer\",\"value\":\"glorot_uniform\",\"type\":\"Literal\",\"bound_global_parameter\":null},{\"name\":\"user_kernel_initializer\",\"value\":\"\",\"type\":\"Literal\",\"bound_global_parameter\":null},{\"name\":\"bias_initializer\",\"value\":\"Zeros\",\"type\":\"Literal\",\"bound_global_parameter\":null},{\"name\":\"user_bias_initializer\",\"value\":\"\",\"type\":\"Literal\",\"bound_global_parameter\":null},{\"name\":\"kernel_regularizer\",\"value\":\"None\",\"type\":\"Literal\",\"bound_global_parameter\":null},{\"name\":\"kernel_regularizer_l1\",\"value\":0,\"type\":\"Literal\",\"bound_global_parameter\":null},{\"name\":\"kernel_regularizer_l2\",\"value\":0,\"type\":\"Literal\",\"bound_global_parameter\":null},{\"name\":\"user_kernel_regularizer\",\"value\":\"\",\"type\":\"Literal\",\"bound_global_parameter\":null},{\"name\":\"bias_regularizer\",\"value\":\"None\",\"type\":\"Literal\",\"bound_global_parameter\":null},{\"name\":\"bias_regularizer_l1\",\"value\":0,\"type\":\"Literal\",\"bound_global_parameter\":null},{\"name\":\"bias_regularizer_l2\",\"value\":0,\"type\":\"Literal\",\"bound_global_parameter\":null},{\"name\":\"user_bias_regularizer\",\"value\":\"\",\"type\":\"Literal\",\"bound_global_parameter\":null},{\"name\":\"activity_regularizer\",\"value\":\"None\",\"type\":\"Literal\",\"bound_global_parameter\":null},{\"name\":\"activity_regularizer_l1\",\"value\":0,\"type\":\"Literal\",\"bound_global_parameter\":null},{\"name\":\"activity_regularizer_l2\",\"value\":0,\"type\":\"Literal\",\"bound_global_parameter\":null},{\"name\":\"user_activity_regularizer\",\"value\":\"\",\"type\":\"Literal\",\"bound_global_parameter\":null},{\"name\":\"kernel_constraint\",\"value\":\"None\",\"type\":\"Literal\",\"bound_global_parameter\":null},{\"name\":\"user_kernel_constraint\",\"value\":\"\",\"type\":\"Literal\",\"bound_global_parameter\":null},{\"name\":\"bias_constraint\",\"value\":\"None\",\"type\":\"Literal\",\"bound_global_parameter\":null},{\"name\":\"user_bias_constraint\",\"value\":\"\",\"type\":\"Literal\",\"bound_global_parameter\":null},{\"name\":\"name\",\"value\":\"\",\"type\":\"Literal\",\"bound_global_parameter\":null}],\"input_ports\":[{\"name\":\"inputs\",\"node_id\":\"-14806\"}],\"output_ports\":[{\"name\":\"data\",\"node_id\":\"-14806\"}],\"cacheable\":false,\"seq_num\":10,\"comment\":\"\",\"comment_collapsed\":true},{\"node_id\":\"-14834\",\"module_id\":\"BigQuantSpace.dl_layer_dropout.dl_layer_dropout-v1\",\"parameters\":[{\"name\":\"rate\",\"value\":\"0.8\",\"type\":\"Literal\",\"bound_global_parameter\":null},{\"name\":\"noise_shape\",\"value\":\"\",\"type\":\"Literal\",\"bound_global_parameter\":null},{\"name\":\"seed\",\"value\":\"\",\"type\":\"Literal\",\"bound_global_parameter\":null},{\"name\":\"name\",\"value\":\"\",\"type\":\"Literal\",\"bound_global_parameter\":null}],\"input_ports\":[{\"name\":\"inputs\",\"node_id\":\"-14834\"}],\"output_ports\":[{\"name\":\"data\",\"node_id\":\"-14834\"}],\"cacheable\":false,\"seq_num\":11,\"comment\":\"\",\"comment_collapsed\":true},{\"node_id\":\"-14841\",\"module_id\":\"BigQuantSpace.dl_layer_dropout.dl_layer_dropout-v1\",\"parameters\":[{\"name\":\"rate\",\"value\":\"0.8\",\"type\":\"Literal\",\"bound_global_parameter\":null},{\"name\":\"noise_shape\",\"value\":\"\",\"type\":\"Literal\",\"bound_global_parameter\":null},{\"name\":\"seed\",\"value\":\"\",\"type\":\"Literal\",\"bound_global_parameter\":null},{\"name\":\"name\",\"value\":\"\",\"type\":\"Literal\",\"bound_global_parameter\":null}],\"input_ports\":[{\"name\":\"inputs\",\"node_id\":\"-14841\"}],\"output_ports\":[{\"name\":\"data\",\"node_id\":\"-14841\"}],\"cacheable\":false,\"seq_num\":12,\"comment\":\"\",\"comment_collapsed\":true},{\"node_id\":\"-403\",\"module_id\":\"BigQuantSpace.dl_layer_reshape.dl_layer_reshape-v1\",\"parameters\":[{\"name\":\"target_shape\",\"value\":\"50,5,1\",\"type\":\"Literal\",\"bound_global_parameter\":null},{\"name\":\"name\",\"value\":\"\",\"type\":\"Literal\",\"bound_global_parameter\":null}],\"input_ports\":[{\"name\":\"inputs\",\"node_id\":\"-403\"}],\"output_ports\":[{\"name\":\"data\",\"node_id\":\"-403\"}],\"cacheable\":false,\"seq_num\":13,\"comment\":\"\",\"comment_collapsed\":true},{\"node_id\":\"-408\",\"module_id\":\"BigQuantSpace.dl_layer_conv2d.dl_layer_conv2d-v1\",\"parameters\":[{\"name\":\"filters\",\"value\":\"32\",\"type\":\"Literal\",\"bound_global_parameter\":null},{\"name\":\"kernel_size\",\"value\":\"3,5\",\"type\":\"Literal\",\"bound_global_parameter\":null},{\"name\":\"strides\",\"value\":\"1,1\",\"type\":\"Literal\",\"bound_global_parameter\":null},{\"name\":\"padding\",\"value\":\"valid\",\"type\":\"Literal\",\"bound_global_parameter\":null},{\"name\":\"data_format\",\"value\":\"channels_last\",\"type\":\"Literal\",\"bound_global_parameter\":null},{\"name\":\"dilation_rate\",\"value\":\"1,1\",\"type\":\"Literal\",\"bound_global_parameter\":null},{\"name\":\"activation\",\"value\":\"relu\",\"type\":\"Literal\",\"bound_global_parameter\":null},{\"name\":\"user_activation\",\"value\":\"\",\"type\":\"Literal\",\"bound_global_parameter\":null},{\"name\":\"use_bias\",\"value\":\"True\",\"type\":\"Literal\",\"bound_global_parameter\":null},{\"name\":\"kernel_initializer\",\"value\":\"glorot_uniform\",\"type\":\"Literal\",\"bound_global_parameter\":null},{\"name\":\"user_kernel_initializer\",\"value\":\"\",\"type\":\"Literal\",\"bound_global_parameter\":null},{\"name\":\"bias_initializer\",\"value\":\"Zeros\",\"type\":\"Literal\",\"bound_global_parameter\":null},{\"name\":\"user_bias_initializer\",\"value\":\"\",\"type\":\"Literal\",\"bound_global_parameter\":null},{\"name\":\"kernel_regularizer\",\"value\":\"None\",\"type\":\"Literal\",\"bound_global_parameter\":null},{\"name\":\"kernel_regularizer_l1\",\"value\":0,\"type\":\"Literal\",\"bound_global_parameter\":null},{\"name\":\"kernel_regularizer_l2\",\"value\":0,\"type\":\"Literal\",\"bound_global_parameter\":null},{\"name\":\"user_kernel_regularizer\",\"value\":\"\",\"type\":\"Literal\",\"bound_global_parameter\":null},{\"name\":\"bias_regularizer\",\"value\":\"None\",\"type\":\"Literal\",\"bound_global_parameter\":null},{\"name\":\"bias_regularizer_l1\",\"value\":0,\"type\":\"Literal\",\"bound_global_parameter\":null},{\"name\":\"bias_regularizer_l2\",\"value\":0,\"type\":\"Literal\",\"bound_global_parameter\":null},{\"name\":\"user_bias_regularizer\",\"value\":\"\",\"type\":\"Literal\",\"bound_global_parameter\":null},{\"name\":\"activity_regularizer\",\"value\":\"None\",\"type\":\"Literal\",\"bound_global_parameter\":null},{\"name\":\"activity_regularizer_l1\",\"value\":0,\"type\":\"Literal\",\"bound_global_parameter\":null},{\"name\":\"activity_regularizer_l2\",\"value\":0,\"type\":\"Literal\",\"bound_global_parameter\":null},{\"name\":\"user_activity_regularizer\",\"value\":\"\",\"type\":\"Literal\",\"bound_global_parameter\":null},{\"name\":\"kernel_constraint\",\"value\":\"None\",\"type\":\"Literal\",\"bound_global_parameter\":null},{\"name\":\"user_kernel_constraint\",\"value\":\"\",\"type\":\"Literal\",\"bound_global_parameter\":null},{\"name\":\"bias_constraint\",\"value\":\"None\",\"type\":\"Literal\",\"bound_global_parameter\":null},{\"name\":\"user_bias_constraint\",\"value\":\"\",\"type\":\"Literal\",\"bound_global_parameter\":null},{\"name\":\"name\",\"value\":\"\",\"type\":\"Literal\",\"bound_global_parameter\":null}],\"input_ports\":[{\"name\":\"inputs\",\"node_id\":\"-408\"}],\"output_ports\":[{\"name\":\"data\",\"node_id\":\"-408\"}],\"cacheable\":false,\"seq_num\":14,\"comment\":\"\",\"comment_collapsed\":true},{\"node_id\":\"-446\",\"module_id\":\"BigQuantSpace.dl_layer_reshape.dl_layer_reshape-v1\",\"parameters\":[{\"name\":\"target_shape\",\"value\":\"48,32\",\"type\":\"Literal\",\"bound_global_parameter\":null},{\"name\":\"name\",\"value\":\"\",\"type\":\"Literal\",\"bound_global_parameter\":null}],\"input_ports\":[{\"name\":\"inputs\",\"node_id\":\"-446\"}],\"output_ports\":[{\"name\":\"data\",\"node_id\":\"-446\"}],\"cacheable\":false,\"seq_num\":15,\"comment\":\"\",\"comment_collapsed\":true},{\"node_id\":\"-1966\",\"module_id\":\"BigQuantSpace.cached.cached-v3\",\"parameters\":[{\"name\":\"run\",\"value\":\"# Python 代码入口函数，input_1/2/3 对应三个输入端，data_1/2/3 对应三个输出端\\ndef bigquant_run(input_1, input_2, input_3):\\n    input_ds = input_1\\n    df = input_ds.read_df()\\n    df['return'] = (df.close.shift(-10)/df.close - 1)\\n    df['label'] = np.where(df['return'] > 0, 1, 0)\\n    ds = DataSource.write_df(df[['date','instrument','label']])\\n    return Outputs(data_1=ds)\\n\\n\",\"type\":\"Literal\",\"bound_global_parameter\":null},{\"name\":\"post_run\",\"value\":\"# 后处理函数，可选。输入是主函数的输出，可以在这里对数据做处理，或者返回更友好的outputs数据格式。此函数输出不会被缓存。\\ndef bigquant_run(outputs):\\n    return outputs\\n\",\"type\":\"Literal\",\"bound_global_parameter\":null},{\"name\":\"input_ports\",\"value\":\"\",\"type\":\"Literal\",\"bound_global_parameter\":null},{\"name\":\"params\",\"value\":\"{}\",\"type\":\"Literal\",\"bound_global_parameter\":null},{\"name\":\"output_ports\",\"value\":\"\",\"type\":\"Literal\",\"bound_global_parameter\":null}],\"input_ports\":[{\"name\":\"input_1\",\"node_id\":\"-1966\"},{\"name\":\"input_2\",\"node_id\":\"-1966\"},{\"name\":\"input_3\",\"node_id\":\"-1966\"}],\"output_ports\":[{\"name\":\"data_1\",\"node_id\":\"-1966\"},{\"name\":\"data_2\",\"node_id\":\"-1966\"},{\"name\":\"data_3\",\"node_id\":\"-1966\"}],\"cacheable\":true,\"seq_num\":16,\"comment\":\"数据标注\",\"comment_collapsed\":false},{\"node_id\":\"-2290\",\"module_id\":\"BigQuantSpace.join.join-v3\",\"parameters\":[{\"name\":\"on\",\"value\":\"date,instrument\",\"type\":\"Literal\",\"bound_global_parameter\":null},{\"name\":\"how\",\"value\":\"inner\",\"type\":\"Literal\",\"bound_global_parameter\":null},{\"name\":\"sort\",\"value\":\"True\",\"type\":\"Literal\",\"bound_global_parameter\":null}],\"input_ports\":[{\"name\":\"data1\",\"node_id\":\"-2290\"},{\"name\":\"data2\",\"node_id\":\"-2290\"}],\"output_ports\":[{\"name\":\"data\",\"node_id\":\"-2290\"}],\"cacheable\":true,\"seq_num\":17,\"comment\":\"标注特征连接\",\"comment_collapsed\":false},{\"node_id\":\"-2300\",\"module_id\":\"BigQuantSpace.filter.filter-v3\",\"parameters\":[{\"name\":\"expr\",\"value\":\"date<'2017-03-01'\",\"type\":\"Literal\",\"bound_global_parameter\":null},{\"name\":\"output_left_data\",\"value\":\"False\",\"type\":\"Literal\",\"bound_global_parameter\":null}],\"input_ports\":[{\"name\":\"input_data\",\"node_id\":\"-2300\"}],\"output_ports\":[{\"name\":\"data\",\"node_id\":\"-2300\"},{\"name\":\"left_data\",\"node_id\":\"-2300\"}],\"cacheable\":true,\"seq_num\":19,\"comment\":\"训练数据\",\"comment_collapsed\":false},{\"node_id\":\"-2306\",\"module_id\":\"BigQuantSpace.filter.filter-v3\",\"parameters\":[{\"name\":\"expr\",\"value\":\"date>'2017-03-01'\",\"type\":\"Literal\",\"bound_global_parameter\":null},{\"name\":\"output_left_data\",\"value\":\"False\",\"type\":\"Literal\",\"bound_global_parameter\":null}],\"input_ports\":[{\"name\":\"input_data\",\"node_id\":\"-2306\"}],\"output_ports\":[{\"name\":\"data\",\"node_id\":\"-2306\"},{\"name\":\"left_data\",\"node_id\":\"-2306\"}],\"cacheable\":true,\"seq_num\":20,\"comment\":\"测试数据\",\"comment_collapsed\":false},{\"node_id\":\"-616\",\"module_id\":\"BigQuantSpace.cached.cached-v3\",\"parameters\":[{\"name\":\"run\",\"value\":\"# Python 代码入口函数，input_1/2/3 对应三个输入端，data_1/2/3 对应三个输出端\\ndef bigquant_run(input_1, input_2, input_3):\\n    fields = ['open','high','low','close','volume']\\n    input_1_df = input_1.read_pickle()\\n    ins = input_1_df['instruments']\\n    start_date = input_1_df['start_date']\\n    end_date = input_1_df['end_date']\\n    df = D.history_data(ins, start_date, end_date, fields)     \\n    data_1 = DataSource.write_df(df)\\n    return Outputs(data_1=data_1, data_2=None, data_3=None)\\n\",\"type\":\"Literal\",\"bound_global_parameter\":null},{\"name\":\"post_run\",\"value\":\"# 后处理函数，可选。输入是主函数的输出，可以在这里对数据做处理，或者返回更友好的outputs数据格式。此函数输出不会被缓存。\\ndef bigquant_run(outputs):\\n    return outputs\\n\",\"type\":\"Literal\",\"bound_global_parameter\":null},{\"name\":\"input_ports\",\"value\":\"\",\"type\":\"Literal\",\"bound_global_parameter\":null},{\"name\":\"params\",\"value\":\"{}\",\"type\":\"Literal\",\"bound_global_parameter\":null},{\"name\":\"output_ports\",\"value\":\"\",\"type\":\"Literal\",\"bound_global_parameter\":null}],\"input_ports\":[{\"name\":\"input_1\",\"node_id\":\"-616\"},{\"name\":\"input_2\",\"node_id\":\"-616\"},{\"name\":\"input_3\",\"node_id\":\"-616\"}],\"output_ports\":[{\"name\":\"data_1\",\"node_id\":\"-616\"},{\"name\":\"data_2\",\"node_id\":\"-616\"},{\"name\":\"data_3\",\"node_id\":\"-616\"}],\"cacheable\":true,\"seq_num\":23,\"comment\":\"获取基本数据\",\"comment_collapsed\":false},{\"node_id\":\"-620\",\"module_id\":\"BigQuantSpace.instruments.instruments-v2\",\"parameters\":[{\"name\":\"start_date\",\"value\":\"2015-01-01\",\"type\":\"Literal\",\"bound_global_parameter\":null},{\"name\":\"end_date\",\"value\":\"2020-01-01\",\"type\":\"Literal\",\"bound_global_parameter\":null},{\"name\":\"market\",\"value\":\"CN_STOCK_A\",\"type\":\"Literal\",\"bound_global_parameter\":null},{\"name\":\"instrument_list\",\"value\":\"600009.SHA\",\"type\":\"Literal\",\"bound_global_parameter\":null},{\"name\":\"max_count\",\"value\":0,\"type\":\"Literal\",\"bound_global_parameter\":null}],\"input_ports\":[{\"name\":\"rolling_conf\",\"node_id\":\"-620\"}],\"output_ports\":[{\"name\":\"data\",\"node_id\":\"-620\"}],\"cacheable\":true,\"seq_num\":24,\"comment\":\"证券标的及起始截止时间\",\"comment_collapsed\":false},{\"node_id\":\"-692\",\"module_id\":\"BigQuantSpace.derived_feature_extractor.derived_feature_extractor-v3\",\"parameters\":[{\"name\":\"date_col\",\"value\":\"date\",\"type\":\"Literal\",\"bound_global_parameter\":null},{\"name\":\"instrument_col\",\"value\":\"instrument\",\"type\":\"Literal\",\"bound_global_parameter\":null},{\"name\":\"drop_na\",\"value\":\"False\",\"type\":\"Literal\",\"bound_global_parameter\":null},{\"name\":\"remove_extra_columns\",\"value\":\"False\",\"type\":\"Literal\",\"bound_global_parameter\":null},{\"name\":\"user_functions\",\"value\":\"{}\",\"type\":\"Literal\",\"bound_global_parameter\":null}],\"input_ports\":[{\"name\":\"input_data\",\"node_id\":\"-692\"},{\"name\":\"features\",\"node_id\":\"-692\"}],\"output_ports\":[{\"name\":\"data\",\"node_id\":\"-692\"}],\"cacheable\":true,\"seq_num\":26,\"comment\":\"计算需要使用的特征\",\"comment_collapsed\":false},{\"node_id\":\"-281\",\"module_id\":\"BigQuantSpace.trade.trade-v4\",\"parameters\":[{\"name\":\"start_date\",\"value\":\"2020-01-02\",\"type\":\"Literal\",\"bound_global_parameter\":null},{\"name\":\"end_date\",\"value\":\"\",\"type\":\"Literal\",\"bound_global_parameter\":null},{\"name\":\"initialize\",\"value\":\"# 回测引擎：初始化函数，只执行一次\\ndef bigquant_run(context):\\n    # 加载预测数据\\n    context.prediction = context.options['data'].read_df()\\n\\n    # 系统已经设置了默认的交易手续费和滑点，要修改手续费可使用如下函数\\n    context.set_commission(PerOrder(buy_cost=0.0003, sell_cost=0.0013, min_cost=5))\",\"type\":\"Literal\",\"bound_global_parameter\":null},{\"name\":\"handle_data\",\"value\":\"# 回测引擎：每日数据处理函数，每天执行一次\\ndef bigquant_run(context, data):\\n    # 按日期过滤得到今日的预测数据\\n    try:\\n        prediction = context.prediction[data.current_dt.strftime('%Y-%m-%d')]\\n    except KeyError as e:\\n        return\\n    \\n    instrument = context.instruments[0]\\n    sid = context.symbol(instrument)\\n    cur_position = context.portfolio.positions[sid].amount\\n    \\n    # 交易逻辑\\n    if prediction > 0.5 and cur_position == 0:\\n        context.order_target_percent(context.symbol(instrument), 1)\\n        print(data.current_dt, '买入！')\\n        \\n    elif prediction < 0.5 and cur_position > 0:\\n        context.order_target_percent(context.symbol(instrument), 0)\\n        print(data.current_dt, '卖出！')\\n    \",\"type\":\"Literal\",\"bound_global_parameter\":null},{\"name\":\"prepare\",\"value\":\"# 回测引擎：准备数据，只执行一次\\ndef bigquant_run(context):\\n    pass\\n\",\"type\":\"Literal\",\"bound_global_parameter\":null},{\"name\":\"before_trading_start\",\"value\":\"# 回测引擎：每个单位时间开始前调用一次，即每日开盘前调用一次。\\ndef bigquant_run(context, data):\\n    pass\\n\",\"type\":\"Literal\",\"bound_global_parameter\":null},{\"name\":\"volume_limit\",\"value\":0.025,\"type\":\"Literal\",\"bound_global_parameter\":null},{\"name\":\"order_price_field_buy\",\"value\":\"open\",\"type\":\"Literal\",\"bound_global_parameter\":null},{\"name\":\"order_price_field_sell\",\"value\":\"close\",\"type\":\"Literal\",\"bound_global_parameter\":null},{\"name\":\"capital_base\",\"value\":1000000,\"type\":\"Literal\",\"bound_global_parameter\":null},{\"name\":\"auto_cancel_non_tradable_orders\",\"value\":\"True\",\"type\":\"Literal\",\"bound_global_parameter\":null},{\"name\":\"data_frequency\",\"value\":\"daily\",\"type\":\"Literal\",\"bound_global_parameter\":null},{\"name\":\"price_type\",\"value\":\"真实价格\",\"type\":\"Literal\",\"bound_global_parameter\":null},{\"name\":\"product_type\",\"value\":\"股票\",\"type\":\"Literal\",\"bound_global_parameter\":null},{\"name\":\"plot_charts\",\"value\":\"True\",\"type\":\"Literal\",\"bound_global_parameter\":null},{\"name\":\"backtest_only\",\"value\":\"False\",\"type\":\"Literal\",\"bound_global_parameter\":null},{\"name\":\"benchmark\",\"value\":\"\",\"type\":\"Literal\",\"bound_global_parameter\":null}],\"input_ports\":[{\"name\":\"instruments\",\"node_id\":\"-281\"},{\"name\":\"options_data\",\"node_id\":\"-281\"},{\"name\":\"history_ds\",\"node_id\":\"-281\"},{\"name\":\"benchmark_ds\",\"node_id\":\"-281\"},{\"name\":\"trading_calendar\",\"node_id\":\"-281\"}],\"output_ports\":[{\"name\":\"raw_perf\",\"node_id\":\"-281\"}],\"cacheable\":false,\"seq_num\":1,\"comment\":\"\",\"comment_collapsed\":true},{\"node_id\":\"-285\",\"module_id\":\"BigQuantSpace.dl_convert_to_bin.dl_convert_to_bin-v2\",\"parameters\":[{\"name\":\"window_size\",\"value\":\"50\",\"type\":\"Literal\",\"bound_global_parameter\":null},{\"name\":\"feature_clip\",\"value\":5,\"type\":\"Literal\",\"bound_global_parameter\":null},{\"name\":\"flatten\",\"value\":\"False\",\"type\":\"Literal\",\"bound_global_parameter\":null},{\"name\":\"window_along_col\",\"value\":\"instrument\",\"type\":\"Literal\",\"bound_global_parameter\":null}],\"input_ports\":[{\"name\":\"input_data\",\"node_id\":\"-285\"},{\"name\":\"features\",\"node_id\":\"-285\"}],\"output_ports\":[{\"name\":\"data\",\"node_id\":\"-285\"}],\"cacheable\":true,\"seq_num\":25,\"comment\":\"\",\"comment_collapsed\":true},{\"node_id\":\"-293\",\"module_id\":\"BigQuantSpace.dl_convert_to_bin.dl_convert_to_bin-v2\",\"parameters\":[{\"name\":\"window_size\",\"value\":\"50\",\"type\":\"Literal\",\"bound_global_parameter\":null},{\"name\":\"feature_clip\",\"value\":5,\"type\":\"Literal\",\"bound_global_parameter\":null},{\"name\":\"flatten\",\"value\":\"False\",\"type\":\"Literal\",\"bound_global_parameter\":null},{\"name\":\"window_along_col\",\"value\":\"instrument\",\"type\":\"Literal\",\"bound_global_parameter\":null}],\"input_ports\":[{\"name\":\"input_data\",\"node_id\":\"-293\"},{\"name\":\"features\",\"node_id\":\"-293\"}],\"output_ports\":[{\"name\":\"data\",\"node_id\":\"-293\"}],\"cacheable\":true,\"seq_num\":27,\"comment\":\"\",\"comment_collapsed\":true},{\"node_id\":\"-290\",\"module_id\":\"BigQuantSpace.dropnan.dropnan-v2\",\"parameters\":[],\"input_ports\":[{\"name\":\"input_data\",\"node_id\":\"-290\"},{\"name\":\"features\",\"node_id\":\"-290\"}],\"output_ports\":[{\"name\":\"data\",\"node_id\":\"-290\"}],\"cacheable\":true,\"seq_num\":21,\"comment\":\"去掉为nan的数据\",\"comment_collapsed\":true}],\"node_layout\":\"<node_postions><node_position Node='-214' Position='791,762,200,200'/><node_position Node='-210' Position='-20,-256,200,200'/><node_position Node='-218' Position='280,67,200,200'/><node_position Node='-316' Position='89,485,200,200'/><node_position Node='-320' Position='332,582,200,200'/><node_position Node='-332' Position='550,695,200,200'/><node_position Node='-2295' Position='1054,-339,200,200'/><node_position Node='-259' Position='281,387,200,200'/><node_position Node='-14806' Position='279,211,200,200'/><node_position Node='-14834' Position='279,146,200,200'/><node_position Node='-14841' Position='280,301,200,200'/><node_position Node='-403' Position='279,-195,200,200'/><node_position Node='-408' Position='280,-107,200,200'/><node_position Node='-446' Position='278,-23,200,200'/><node_position Node='-1966' Position='715,-224,200,200'/><node_position Node='-2290' Position='710,-72,200,200'/><node_position Node='-2300' Position='707,211,200,200'/><node_position Node='-2306' Position='1057,212,200,200'/><node_position Node='-616' Position='717,-346,200,200'/><node_position Node='-620' Position='423,-457,200,200'/><node_position Node='-692' Position='1045,-227,200,200'/><node_position Node='-281' Position='976,893,200,200'/><node_position Node='-285' Position='710,373,200,200'/><node_position Node='-293' Position='1060,372,200,200'/><node_position Node='-290' Position='710,52,200,200'/></node_postions>\"},\"nodes_readonly\":false,\"studio_version\":\"v2\"}"
   },
   "outputs": [
    {
     "data": {
      "text/plain": [
       "[2021-08-22 14:38:09.004511] INFO: moduleinvoker: dl_layer_input.v1 运行完成[0.00193s]."
      ]
     },
     "metadata": {
      "is_log": true,
      "status": "INFO"
     },
     "output_type": "display_data"
    },
    {
     "data": {
      "text/plain": [
       "[2021-08-22 14:38:09.022955] INFO: moduleinvoker: dl_layer_reshape.v1 运行完成[0.015439s]."
      ]
     },
     "metadata": {
      "is_log": true,
      "status": "INFO"
     },
     "output_type": "display_data"
    },
    {
     "data": {
      "text/plain": [
       "[2021-08-22 14:38:09.039447] INFO: moduleinvoker: dl_layer_conv2d.v1 运行完成[0.013485s]."
      ]
     },
     "metadata": {
      "is_log": true,
      "status": "INFO"
     },
     "output_type": "display_data"
    },
    {
     "data": {
      "text/plain": [
       "[2021-08-22 14:38:09.050245] INFO: moduleinvoker: dl_layer_reshape.v1 运行完成[0.008251s]."
      ]
     },
     "metadata": {
      "is_log": true,
      "status": "INFO"
     },
     "output_type": "display_data"
    },
    {
     "data": {
      "text/plain": [
       "[2021-08-22 14:38:09.212530] INFO: moduleinvoker: dl_layer_lstm.v1 运行完成[0.159166s]."
      ]
     },
     "metadata": {
      "is_log": true,
      "status": "INFO"
     },
     "output_type": "display_data"
    },
    {
     "data": {
      "text/plain": [
       "[2021-08-22 14:38:09.218578] INFO: moduleinvoker: dl_layer_dropout.v1 运行完成[0.002916s]."
      ]
     },
     "metadata": {
      "is_log": true,
      "status": "INFO"
     },
     "output_type": "display_data"
    },
    {
     "data": {
      "text/plain": [
       "[2021-08-22 14:38:09.229508] INFO: moduleinvoker: dl_layer_dense.v1 运行完成[0.008169s]."
      ]
     },
     "metadata": {
      "is_log": true,
      "status": "INFO"
     },
     "output_type": "display_data"
    },
    {
     "data": {
      "text/plain": [
       "[2021-08-22 14:38:09.234659] INFO: moduleinvoker: dl_layer_dropout.v1 运行完成[0.00292s]."
      ]
     },
     "metadata": {
      "is_log": true,
      "status": "INFO"
     },
     "output_type": "display_data"
    },
    {
     "data": {
      "text/plain": [
       "[2021-08-22 14:38:09.244754] INFO: moduleinvoker: dl_layer_dense.v1 运行完成[0.007862s]."
      ]
     },
     "metadata": {
      "is_log": true,
      "status": "INFO"
     },
     "output_type": "display_data"
    },
    {
     "data": {
      "text/plain": [
       "[2021-08-22 14:38:09.286360] INFO: moduleinvoker: cached.v3 开始运行.."
      ]
     },
     "metadata": {
      "is_log": true,
      "status": "INFO"
     },
     "output_type": "display_data"
    },
    {
     "data": {
      "text/plain": [
       "[2021-08-22 14:38:09.292855] INFO: moduleinvoker: 命中缓存"
      ]
     },
     "metadata": {
      "is_log": true,
      "status": "INFO"
     },
     "output_type": "display_data"
    },
    {
     "data": {
      "text/plain": [
       "[2021-08-22 14:38:09.294243] INFO: moduleinvoker: cached.v3 运行完成[0.007895s]."
      ]
     },
     "metadata": {
      "is_log": true,
      "status": "INFO"
     },
     "output_type": "display_data"
    },
    {
     "data": {
      "text/plain": [
       "[2021-08-22 14:38:09.295705] INFO: moduleinvoker: dl_model_init.v1 运行完成[0.048519s]."
      ]
     },
     "metadata": {
      "is_log": true,
      "status": "INFO"
     },
     "output_type": "display_data"
    },
    {
     "data": {
      "text/plain": [
       "[2021-08-22 14:38:09.297901] INFO: moduleinvoker: input_features.v1 开始运行.."
      ]
     },
     "metadata": {
      "is_log": true,
      "status": "INFO"
     },
     "output_type": "display_data"
    },
    {
     "data": {
      "text/plain": [
       "[2021-08-22 14:38:09.302723] INFO: moduleinvoker: 命中缓存"
      ]
     },
     "metadata": {
      "is_log": true,
      "status": "INFO"
     },
     "output_type": "display_data"
    },
    {
     "data": {
      "text/plain": [
       "[2021-08-22 14:38:09.303900] INFO: moduleinvoker: input_features.v1 运行完成[0.006001s]."
      ]
     },
     "metadata": {
      "is_log": true,
      "status": "INFO"
     },
     "output_type": "display_data"
    },
    {
     "data": {
      "text/plain": [
       "[2021-08-22 14:38:09.306486] INFO: moduleinvoker: instruments.v2 开始运行.."
      ]
     },
     "metadata": {
      "is_log": true,
      "status": "INFO"
     },
     "output_type": "display_data"
    },
    {
     "data": {
      "text/plain": [
       "[2021-08-22 14:38:09.310937] INFO: moduleinvoker: 命中缓存"
      ]
     },
     "metadata": {
      "is_log": true,
      "status": "INFO"
     },
     "output_type": "display_data"
    },
    {
     "data": {
      "text/plain": [
       "[2021-08-22 14:38:09.312109] INFO: moduleinvoker: instruments.v2 运行完成[0.005626s]."
      ]
     },
     "metadata": {
      "is_log": true,
      "status": "INFO"
     },
     "output_type": "display_data"
    },
    {
     "data": {
      "text/plain": [
       "[2021-08-22 14:38:09.316592] INFO: moduleinvoker: cached.v3 开始运行.."
      ]
     },
     "metadata": {
      "is_log": true,
      "status": "INFO"
     },
     "output_type": "display_data"
    },
    {
     "data": {
      "text/plain": [
       "[2021-08-22 14:38:09.320977] INFO: moduleinvoker: 命中缓存"
      ]
     },
     "metadata": {
      "is_log": true,
      "status": "INFO"
     },
     "output_type": "display_data"
    },
    {
     "data": {
      "text/plain": [
       "[2021-08-22 14:38:09.322218] INFO: moduleinvoker: cached.v3 运行完成[0.005628s]."
      ]
     },
     "metadata": {
      "is_log": true,
      "status": "INFO"
     },
     "output_type": "display_data"
    },
    {
     "data": {
      "text/plain": [
       "[2021-08-22 14:38:09.325956] INFO: moduleinvoker: cached.v3 开始运行.."
      ]
     },
     "metadata": {
      "is_log": true,
      "status": "INFO"
     },
     "output_type": "display_data"
    },
    {
     "data": {
      "text/plain": [
       "[2021-08-22 14:38:09.330672] INFO: moduleinvoker: 命中缓存"
      ]
     },
     "metadata": {
      "is_log": true,
      "status": "INFO"
     },
     "output_type": "display_data"
    },
    {
     "data": {
      "text/plain": [
       "[2021-08-22 14:38:09.331833] INFO: moduleinvoker: cached.v3 运行完成[0.005881s]."
      ]
     },
     "metadata": {
      "is_log": true,
      "status": "INFO"
     },
     "output_type": "display_data"
    },
    {
     "data": {
      "text/plain": [
       "[2021-08-22 14:38:09.334935] INFO: moduleinvoker: derived_feature_extractor.v3 开始运行.."
      ]
     },
     "metadata": {
      "is_log": true,
      "status": "INFO"
     },
     "output_type": "display_data"
    },
    {
     "data": {
      "text/plain": [
       "[2021-08-22 14:38:09.338940] INFO: moduleinvoker: 命中缓存"
      ]
     },
     "metadata": {
      "is_log": true,
      "status": "INFO"
     },
     "output_type": "display_data"
    },
    {
     "data": {
      "text/plain": [
       "[2021-08-22 14:38:09.340154] INFO: moduleinvoker: derived_feature_extractor.v3 运行完成[0.005218s]."
      ]
     },
     "metadata": {
      "is_log": true,
      "status": "INFO"
     },
     "output_type": "display_data"
    },
    {
     "data": {
      "text/plain": [
       "[2021-08-22 14:38:09.343016] INFO: moduleinvoker: join.v3 开始运行.."
      ]
     },
     "metadata": {
      "is_log": true,
      "status": "INFO"
     },
     "output_type": "display_data"
    },
    {
     "data": {
      "text/plain": [
       "[2021-08-22 14:38:09.347325] INFO: moduleinvoker: 命中缓存"
      ]
     },
     "metadata": {
      "is_log": true,
      "status": "INFO"
     },
     "output_type": "display_data"
    },
    {
     "data": {
      "text/plain": [
       "[2021-08-22 14:38:09.367838] INFO: moduleinvoker: join.v3 运行完成[0.024829s]."
      ]
     },
     "metadata": {
      "is_log": true,
      "status": "INFO"
     },
     "output_type": "display_data"
    },
    {
     "data": {
      "text/plain": [
       "[2021-08-22 14:38:09.371158] INFO: moduleinvoker: dropnan.v2 开始运行.."
      ]
     },
     "metadata": {
      "is_log": true,
      "status": "INFO"
     },
     "output_type": "display_data"
    },
    {
     "data": {
      "text/plain": [
       "[2021-08-22 14:38:09.375576] INFO: moduleinvoker: 命中缓存"
      ]
     },
     "metadata": {
      "is_log": true,
      "status": "INFO"
     },
     "output_type": "display_data"
    },
    {
     "data": {
      "text/plain": [
       "[2021-08-22 14:38:09.376749] INFO: moduleinvoker: dropnan.v2 运行完成[0.005596s]."
      ]
     },
     "metadata": {
      "is_log": true,
      "status": "INFO"
     },
     "output_type": "display_data"
    },
    {
     "data": {
      "text/plain": [
       "[2021-08-22 14:38:09.380386] INFO: moduleinvoker: filter.v3 开始运行.."
      ]
     },
     "metadata": {
      "is_log": true,
      "status": "INFO"
     },
     "output_type": "display_data"
    },
    {
     "data": {
      "text/plain": [
       "[2021-08-22 14:38:09.385135] INFO: moduleinvoker: 命中缓存"
      ]
     },
     "metadata": {
      "is_log": true,
      "status": "INFO"
     },
     "output_type": "display_data"
    },
    {
     "data": {
      "text/plain": [
       "[2021-08-22 14:38:09.386280] INFO: moduleinvoker: filter.v3 运行完成[0.005897s]."
      ]
     },
     "metadata": {
      "is_log": true,
      "status": "INFO"
     },
     "output_type": "display_data"
    },
    {
     "data": {
      "text/plain": [
       "[2021-08-22 14:38:09.396383] INFO: moduleinvoker: dl_convert_to_bin.v2 开始运行.."
      ]
     },
     "metadata": {
      "is_log": true,
      "status": "INFO"
     },
     "output_type": "display_data"
    },
    {
     "data": {
      "text/plain": [
       "[2021-08-22 14:38:09.404922] INFO: moduleinvoker: 命中缓存"
      ]
     },
     "metadata": {
      "is_log": true,
      "status": "INFO"
     },
     "output_type": "display_data"
    },
    {
     "data": {
      "text/plain": [
       "[2021-08-22 14:38:09.406197] INFO: moduleinvoker: dl_convert_to_bin.v2 运行完成[0.009819s]."
      ]
     },
     "metadata": {
      "is_log": true,
      "status": "INFO"
     },
     "output_type": "display_data"
    },
    {
     "data": {
      "text/plain": [
       "[2021-08-22 14:38:09.408512] INFO: moduleinvoker: dl_model_train.v1 开始运行.."
      ]
     },
     "metadata": {
      "is_log": true,
      "status": "INFO"
     },
     "output_type": "display_data"
    },
    {
     "data": {
      "text/plain": [
       "[2021-08-22 14:38:09.412876] INFO: moduleinvoker: 命中缓存"
      ]
     },
     "metadata": {
      "is_log": true,
      "status": "INFO"
     },
     "output_type": "display_data"
    },
    {
     "data": {
      "text/plain": [
       "[2021-08-22 14:38:09.414066] INFO: moduleinvoker: dl_model_train.v1 运行完成[0.005552s]."
      ]
     },
     "metadata": {
      "is_log": true,
      "status": "INFO"
     },
     "output_type": "display_data"
    },
    {
     "data": {
      "text/plain": [
       "[2021-08-22 14:38:09.416639] INFO: moduleinvoker: filter.v3 开始运行.."
      ]
     },
     "metadata": {
      "is_log": true,
      "status": "INFO"
     },
     "output_type": "display_data"
    },
    {
     "data": {
      "text/plain": [
       "[2021-08-22 14:38:09.420867] INFO: moduleinvoker: 命中缓存"
      ]
     },
     "metadata": {
      "is_log": true,
      "status": "INFO"
     },
     "output_type": "display_data"
    },
    {
     "data": {
      "text/plain": [
       "[2021-08-22 14:38:09.422040] INFO: moduleinvoker: filter.v3 运行完成[0.005405s]."
      ]
     },
     "metadata": {
      "is_log": true,
      "status": "INFO"
     },
     "output_type": "display_data"
    },
    {
     "data": {
      "text/plain": [
       "[2021-08-22 14:38:09.428321] INFO: moduleinvoker: dl_convert_to_bin.v2 开始运行.."
      ]
     },
     "metadata": {
      "is_log": true,
      "status": "INFO"
     },
     "output_type": "display_data"
    },
    {
     "data": {
      "text/plain": [
       "[2021-08-22 14:38:09.433078] INFO: moduleinvoker: 命中缓存"
      ]
     },
     "metadata": {
      "is_log": true,
      "status": "INFO"
     },
     "output_type": "display_data"
    },
    {
     "data": {
      "text/plain": [
       "[2021-08-22 14:38:09.434239] INFO: moduleinvoker: dl_convert_to_bin.v2 运行完成[0.005923s]."
      ]
     },
     "metadata": {
      "is_log": true,
      "status": "INFO"
     },
     "output_type": "display_data"
    },
    {
     "data": {
      "text/plain": [
       "[2021-08-22 14:38:09.436076] INFO: moduleinvoker: dl_model_predict.v1 开始运行.."
      ]
     },
     "metadata": {
      "is_log": true,
      "status": "INFO"
     },
     "output_type": "display_data"
    },
    {
     "data": {
      "text/plain": [
       "[2021-08-22 14:38:09.440238] INFO: moduleinvoker: 命中缓存"
      ]
     },
     "metadata": {
      "is_log": true,
      "status": "INFO"
     },
     "output_type": "display_data"
    },
    {
     "name": "stdout",
     "output_type": "stream",
     "text": [
      "DataSource(468cd8d1cbd64adfbb91f5feef2a4c03T)\n"
     ]
    },
    {
     "data": {
      "text/plain": [
       "[2021-08-22 14:38:09.441429] INFO: moduleinvoker: dl_model_predict.v1 运行完成[0.005366s]."
      ]
     },
     "metadata": {
      "is_log": true,
      "status": "INFO"
     },
     "output_type": "display_data"
    },
    {
     "data": {
      "text/plain": [
       "[2021-08-22 14:38:09.445794] INFO: moduleinvoker: cached.v3 开始运行.."
      ]
     },
     "metadata": {
      "is_log": true,
      "status": "INFO"
     },
     "output_type": "display_data"
    },
    {
     "data": {
      "text/plain": [
       "[2021-08-22 14:38:09.501247] ERROR: moduleinvoker: module name: cached, module version: v3, trackeback: TypeError: 'numpy.dtype' object is not iterable\\n"
      ]
     },
     "metadata": {
      "is_log": true,
      "status": "ERROR"
     },
     "output_type": "display_data"
    },
    {
     "ename": "TypeError",
     "evalue": "'numpy.dtype' object is not iterable",
     "output_type": "error",
     "traceback": [
      "\u001b[0;31m---------------------------------------------------------------------------\u001b[0m",
      "\u001b[0;31mTypeError\u001b[0m                                 Traceback (most recent call last)",
      "\u001b[0;32m<ipython-input-4-9c42172845e5>\u001b[0m in \u001b[0;36m<module>\u001b[0;34m\u001b[0m\n\u001b[1;32m    346\u001b[0m )\n\u001b[1;32m    347\u001b[0m \u001b[0;34m\u001b[0m\u001b[0m\n\u001b[0;32m--> 348\u001b[0;31m m2 = M.cached.v3(\n\u001b[0m\u001b[1;32m    349\u001b[0m     \u001b[0minput_1\u001b[0m\u001b[0;34m=\u001b[0m\u001b[0mm7\u001b[0m\u001b[0;34m.\u001b[0m\u001b[0mdata\u001b[0m\u001b[0;34m,\u001b[0m\u001b[0;34m\u001b[0m\u001b[0;34m\u001b[0m\u001b[0m\n\u001b[1;32m    350\u001b[0m     \u001b[0minput_2\u001b[0m\u001b[0;34m=\u001b[0m\u001b[0mm27\u001b[0m\u001b[0;34m.\u001b[0m\u001b[0mdata\u001b[0m\u001b[0;34m,\u001b[0m\u001b[0;34m\u001b[0m\u001b[0;34m\u001b[0m\u001b[0m\n",
      "\u001b[0;32m<ipython-input-4-9c42172845e5>\u001b[0m in \u001b[0;36mm2_run_bigquant_run\u001b[0;34m(input_1, input_2, input_3)\u001b[0m\n\u001b[1;32m     51\u001b[0m     \u001b[0mdt\u001b[0m \u001b[0;34m=\u001b[0m \u001b[0minput_3\u001b[0m\u001b[0;34m.\u001b[0m\u001b[0mread_df\u001b[0m\u001b[0;34m(\u001b[0m\u001b[0;34m)\u001b[0m\u001b[0;34m[\u001b[0m\u001b[0;34m'date'\u001b[0m\u001b[0;34m]\u001b[0m\u001b[0;34m[\u001b[0m\u001b[0;34m-\u001b[0m\u001b[0;36m1\u001b[0m\u001b[0;34m*\u001b[0m\u001b[0mlen\u001b[0m\u001b[0;34m(\u001b[0m\u001b[0mpred_result\u001b[0m\u001b[0;34m)\u001b[0m\u001b[0;34m:\u001b[0m\u001b[0;34m]\u001b[0m\u001b[0;34m\u001b[0m\u001b[0;34m\u001b[0m\u001b[0m\n\u001b[1;32m     52\u001b[0m     \u001b[0mpred_df\u001b[0m \u001b[0;34m=\u001b[0m \u001b[0mpd\u001b[0m\u001b[0;34m.\u001b[0m\u001b[0mSeries\u001b[0m\u001b[0;34m(\u001b[0m\u001b[0mpred_result\u001b[0m\u001b[0;34m,\u001b[0m \u001b[0mindex\u001b[0m\u001b[0;34m=\u001b[0m\u001b[0mdt\u001b[0m\u001b[0;34m)\u001b[0m\u001b[0;34m\u001b[0m\u001b[0;34m\u001b[0m\u001b[0m\n\u001b[0;32m---> 53\u001b[0;31m     \u001b[0mds\u001b[0m \u001b[0;34m=\u001b[0m \u001b[0mDataSource\u001b[0m\u001b[0;34m.\u001b[0m\u001b[0mwrite_df\u001b[0m\u001b[0;34m(\u001b[0m\u001b[0mpred_df\u001b[0m\u001b[0;34m)\u001b[0m\u001b[0;34m\u001b[0m\u001b[0;34m\u001b[0m\u001b[0m\n\u001b[0m\u001b[1;32m     54\u001b[0m \u001b[0;34m\u001b[0m\u001b[0m\n\u001b[1;32m     55\u001b[0m     \u001b[0mpred_label\u001b[0m \u001b[0;34m=\u001b[0m \u001b[0mnp\u001b[0m\u001b[0;34m.\u001b[0m\u001b[0mwhere\u001b[0m\u001b[0;34m(\u001b[0m\u001b[0mpred_label\u001b[0m\u001b[0;34m>\u001b[0m\u001b[0;36m0.5\u001b[0m\u001b[0;34m,\u001b[0m\u001b[0;36m1\u001b[0m\u001b[0;34m,\u001b[0m\u001b[0;36m0\u001b[0m\u001b[0;34m)\u001b[0m\u001b[0;34m\u001b[0m\u001b[0;34m\u001b[0m\u001b[0m\n",
      "\u001b[0;31mTypeError\u001b[0m: 'numpy.dtype' object is not iterable"
     ]
    }
   ],
   "source": [
    "# 本代码由可视化策略环境自动生成 2021年8月22日14:38\n",
    "# 本代码单元只能在可视化模式下编辑。您也可以拷贝代码，粘贴到新建的代码单元或者策略，然后修改。\n",
    "\n",
    "\n",
    "# Python 代码入口函数，input_1/2/3 对应三个输入端，data_1/2/3 对应三个输出端\n",
    "def m23_run_bigquant_run(input_1, input_2, input_3):\n",
    "    fields = ['open','high','low','close','volume']\n",
    "    input_1_df = input_1.read_pickle()\n",
    "    ins = input_1_df['instruments']\n",
    "    start_date = input_1_df['start_date']\n",
    "    end_date = input_1_df['end_date']\n",
    "    df = D.history_data(ins, start_date, end_date, fields)     \n",
    "    data_1 = DataSource.write_df(df)\n",
    "    return Outputs(data_1=data_1, data_2=None, data_3=None)\n",
    "\n",
    "# 后处理函数，可选。输入是主函数的输出，可以在这里对数据做处理，或者返回更友好的outputs数据格式。此函数输出不会被缓存。\n",
    "def m23_post_run_bigquant_run(outputs):\n",
    "    return outputs\n",
    "\n",
    "# Python 代码入口函数，input_1/2/3 对应三个输入端，data_1/2/3 对应三个输出端\n",
    "def m16_run_bigquant_run(input_1, input_2, input_3):\n",
    "    input_ds = input_1\n",
    "    df = input_ds.read_df()\n",
    "    df['return'] = (df.close.shift(-10)/df.close - 1)\n",
    "    df['label'] = np.where(df['return'] > 0, 1, 0)\n",
    "    ds = DataSource.write_df(df[['date','instrument','label']])\n",
    "    return Outputs(data_1=ds)\n",
    "\n",
    "\n",
    "# 后处理函数，可选。输入是主函数的输出，可以在这里对数据做处理，或者返回更友好的outputs数据格式。此函数输出不会被缓存。\n",
    "def m16_post_run_bigquant_run(outputs):\n",
    "    return outputs\n",
    "\n",
    "# 用户的自定义层需要写到字典中，比如\n",
    "# {\n",
    "#   \"MyLayer\": MyLayer\n",
    "# }\n",
    "m6_custom_objects_bigquant_run = {\n",
    "    \n",
    "}\n",
    "\n",
    "# Python 代码入口函数，input_1/2/3 对应三个输入端，data_1/2/3 对应三个输出端\n",
    "def m2_run_bigquant_run(input_1, input_2, input_3):\n",
    "    import numpy as np\n",
    "    input_series = input_1\n",
    "    input_df = input_2\n",
    "    test_data = input_df.read_pickle()\n",
    "    pred_label = input_series.read_pickle()\n",
    "  \n",
    "    pred_result = pred_label.reshape(pred_label.shape[0]) \n",
    "    dt = input_3.read_df()['date'][-1*len(pred_result):]\n",
    "    pred_df = pd.Series(pred_result, index=dt)\n",
    "    ds = DataSource.write_df(pred_df)\n",
    "    \n",
    "    pred_label = np.where(pred_label>0.5,1,0)\n",
    "    labels = test_data['y']\n",
    "    print('准确率%s'%(np.mean(pred_label==labels)))\n",
    "    \n",
    "    return Outputs(data_1=ds)\n",
    "\n",
    "# 后处理函数，可选。输入是主函数的输出，可以在这里对数据做处理，或者返回更友好的outputs数据格式。此函数输出不会被缓存。\n",
    "def m2_post_run_bigquant_run(outputs):\n",
    "    return outputs\n",
    "\n",
    "# 回测引擎：初始化函数，只执行一次\n",
    "def m1_initialize_bigquant_run(context):\n",
    "    # 加载预测数据\n",
    "    context.prediction = context.options['data'].read_df()\n",
    "\n",
    "    # 系统已经设置了默认的交易手续费和滑点，要修改手续费可使用如下函数\n",
    "    context.set_commission(PerOrder(buy_cost=0.0003, sell_cost=0.0013, min_cost=5))\n",
    "# 回测引擎：每日数据处理函数，每天执行一次\n",
    "def m1_handle_data_bigquant_run(context, data):\n",
    "    # 按日期过滤得到今日的预测数据\n",
    "    try:\n",
    "        prediction = context.prediction[data.current_dt.strftime('%Y-%m-%d')]\n",
    "    except KeyError as e:\n",
    "        return\n",
    "    \n",
    "    instrument = context.instruments[0]\n",
    "    sid = context.symbol(instrument)\n",
    "    cur_position = context.portfolio.positions[sid].amount\n",
    "    \n",
    "    # 交易逻辑\n",
    "    if prediction > 0.5 and cur_position == 0:\n",
    "        context.order_target_percent(context.symbol(instrument), 1)\n",
    "        print(data.current_dt, '买入！')\n",
    "        \n",
    "    elif prediction < 0.5 and cur_position > 0:\n",
    "        context.order_target_percent(context.symbol(instrument), 0)\n",
    "        print(data.current_dt, '卖出！')\n",
    "    \n",
    "# 回测引擎：准备数据，只执行一次\n",
    "def m1_prepare_bigquant_run(context):\n",
    "    pass\n",
    "\n",
    "# 回测引擎：每个单位时间开始前调用一次，即每日开盘前调用一次。\n",
    "def m1_before_trading_start_bigquant_run(context, data):\n",
    "    pass\n",
    "\n",
    "\n",
    "m3 = M.dl_layer_input.v1(\n",
    "    shape='50,5',\n",
    "    batch_shape='',\n",
    "    dtype='float32',\n",
    "    sparse=False,\n",
    "    name=''\n",
    ")\n",
    "\n",
    "m13 = M.dl_layer_reshape.v1(\n",
    "    inputs=m3.data,\n",
    "    target_shape='50,5,1',\n",
    "    name=''\n",
    ")\n",
    "\n",
    "m14 = M.dl_layer_conv2d.v1(\n",
    "    inputs=m13.data,\n",
    "    filters=32,\n",
    "    kernel_size='3,5',\n",
    "    strides='1,1',\n",
    "    padding='valid',\n",
    "    data_format='channels_last',\n",
    "    dilation_rate='1,1',\n",
    "    activation='relu',\n",
    "    use_bias=True,\n",
    "    kernel_initializer='glorot_uniform',\n",
    "    bias_initializer='Zeros',\n",
    "    kernel_regularizer='None',\n",
    "    kernel_regularizer_l1=0,\n",
    "    kernel_regularizer_l2=0,\n",
    "    bias_regularizer='None',\n",
    "    bias_regularizer_l1=0,\n",
    "    bias_regularizer_l2=0,\n",
    "    activity_regularizer='None',\n",
    "    activity_regularizer_l1=0,\n",
    "    activity_regularizer_l2=0,\n",
    "    kernel_constraint='None',\n",
    "    bias_constraint='None',\n",
    "    name=''\n",
    ")\n",
    "\n",
    "m15 = M.dl_layer_reshape.v1(\n",
    "    inputs=m14.data,\n",
    "    target_shape='48,32',\n",
    "    name=''\n",
    ")\n",
    "\n",
    "m4 = M.dl_layer_lstm.v1(\n",
    "    inputs=m15.data,\n",
    "    units=32,\n",
    "    activation='tanh',\n",
    "    recurrent_activation='hard_sigmoid',\n",
    "    use_bias=True,\n",
    "    kernel_initializer='glorot_uniform',\n",
    "    recurrent_initializer='Orthogonal',\n",
    "    bias_initializer='Ones',\n",
    "    unit_forget_bias=True,\n",
    "    kernel_regularizer='None',\n",
    "    kernel_regularizer_l1=0,\n",
    "    kernel_regularizer_l2=0,\n",
    "    recurrent_regularizer='None',\n",
    "    recurrent_regularizer_l1=0,\n",
    "    recurrent_regularizer_l2=0,\n",
    "    bias_regularizer='None',\n",
    "    bias_regularizer_l1=0,\n",
    "    bias_regularizer_l2=0,\n",
    "    activity_regularizer='None',\n",
    "    activity_regularizer_l1=0,\n",
    "    activity_regularizer_l2=0,\n",
    "    kernel_constraint='None',\n",
    "    recurrent_constraint='None',\n",
    "    bias_constraint='None',\n",
    "    dropout=0,\n",
    "    recurrent_dropout=0,\n",
    "    return_sequences=False,\n",
    "    implementation='0',\n",
    "    name=''\n",
    ")\n",
    "\n",
    "m11 = M.dl_layer_dropout.v1(\n",
    "    inputs=m4.data,\n",
    "    rate=0.8,\n",
    "    noise_shape='',\n",
    "    name=''\n",
    ")\n",
    "\n",
    "m10 = M.dl_layer_dense.v1(\n",
    "    inputs=m11.data,\n",
    "    units=32,\n",
    "    activation='tanh',\n",
    "    use_bias=True,\n",
    "    kernel_initializer='glorot_uniform',\n",
    "    bias_initializer='Zeros',\n",
    "    kernel_regularizer='None',\n",
    "    kernel_regularizer_l1=0,\n",
    "    kernel_regularizer_l2=0,\n",
    "    bias_regularizer='None',\n",
    "    bias_regularizer_l1=0,\n",
    "    bias_regularizer_l2=0,\n",
    "    activity_regularizer='None',\n",
    "    activity_regularizer_l1=0,\n",
    "    activity_regularizer_l2=0,\n",
    "    kernel_constraint='None',\n",
    "    bias_constraint='None',\n",
    "    name=''\n",
    ")\n",
    "\n",
    "m12 = M.dl_layer_dropout.v1(\n",
    "    inputs=m10.data,\n",
    "    rate=0.8,\n",
    "    noise_shape='',\n",
    "    name=''\n",
    ")\n",
    "\n",
    "m9 = M.dl_layer_dense.v1(\n",
    "    inputs=m12.data,\n",
    "    units=1,\n",
    "    activation='sigmoid',\n",
    "    use_bias=True,\n",
    "    kernel_initializer='glorot_uniform',\n",
    "    bias_initializer='Zeros',\n",
    "    kernel_regularizer='None',\n",
    "    kernel_regularizer_l1=0,\n",
    "    kernel_regularizer_l2=0,\n",
    "    bias_regularizer='None',\n",
    "    bias_regularizer_l1=0,\n",
    "    bias_regularizer_l2=0,\n",
    "    activity_regularizer='None',\n",
    "    activity_regularizer_l1=0,\n",
    "    activity_regularizer_l2=0,\n",
    "    kernel_constraint='None',\n",
    "    bias_constraint='None',\n",
    "    name=''\n",
    ")\n",
    "\n",
    "m5 = M.dl_model_init.v1(\n",
    "    inputs=m3.data,\n",
    "    outputs=m9.data\n",
    ")\n",
    "\n",
    "m8 = M.input_features.v1(\n",
    "    features=\"\"\"(close/shift(close,1)-1)*10\n",
    "(high/shift(high,1)-1)*10\n",
    "(low/shift(low,1)-1)*10\n",
    "(open/shift(open,1)-1)*10\n",
    "(volume/shift(volume,1)-1)*10\"\"\"\n",
    ")\n",
    "\n",
    "m24 = M.instruments.v2(\n",
    "    start_date='2015-01-01',\n",
    "    end_date='2020-01-01',\n",
    "    market='CN_STOCK_A',\n",
    "    instrument_list='600009.SHA',\n",
    "    max_count=0\n",
    ")\n",
    "\n",
    "m23 = M.cached.v3(\n",
    "    input_1=m24.data,\n",
    "    run=m23_run_bigquant_run,\n",
    "    post_run=m23_post_run_bigquant_run,\n",
    "    input_ports='',\n",
    "    params='{}',\n",
    "    output_ports=''\n",
    ")\n",
    "\n",
    "m16 = M.cached.v3(\n",
    "    input_1=m23.data_1,\n",
    "    run=m16_run_bigquant_run,\n",
    "    post_run=m16_post_run_bigquant_run,\n",
    "    input_ports='',\n",
    "    params='{}',\n",
    "    output_ports=''\n",
    ")\n",
    "\n",
    "m26 = M.derived_feature_extractor.v3(\n",
    "    input_data=m23.data_1,\n",
    "    features=m8.data,\n",
    "    date_col='date',\n",
    "    instrument_col='instrument',\n",
    "    drop_na=False,\n",
    "    remove_extra_columns=False,\n",
    "    user_functions={}\n",
    ")\n",
    "\n",
    "m17 = M.join.v3(\n",
    "    data1=m16.data_1,\n",
    "    data2=m26.data,\n",
    "    on='date,instrument',\n",
    "    how='inner',\n",
    "    sort=True\n",
    ")\n",
    "\n",
    "m21 = M.dropnan.v2(\n",
    "    input_data=m17.data\n",
    ")\n",
    "\n",
    "m19 = M.filter.v3(\n",
    "    input_data=m21.data,\n",
    "    expr='date<\\'2017-03-01\\'',\n",
    "    output_left_data=False\n",
    ")\n",
    "\n",
    "m25 = M.dl_convert_to_bin.v2(\n",
    "    input_data=m19.data,\n",
    "    features=m8.data,\n",
    "    window_size=50,\n",
    "    feature_clip=5,\n",
    "    flatten=False,\n",
    "    window_along_col='instrument'\n",
    ")\n",
    "\n",
    "m6 = M.dl_model_train.v1(\n",
    "    input_model=m5.data,\n",
    "    training_data=m25.data,\n",
    "    optimizer='Adam',\n",
    "    loss='binary_crossentropy',\n",
    "    metrics='accuracy',\n",
    "    batch_size=2048,\n",
    "    epochs=10,\n",
    "    custom_objects=m6_custom_objects_bigquant_run,\n",
    "    n_gpus=1,\n",
    "    verbose='1:输出进度条记录'\n",
    ")\n",
    "\n",
    "m20 = M.filter.v3(\n",
    "    input_data=m21.data,\n",
    "    expr='date>\\'2017-03-01\\'',\n",
    "    output_left_data=False\n",
    ")\n",
    "\n",
    "m27 = M.dl_convert_to_bin.v2(\n",
    "    input_data=m20.data,\n",
    "    features=m8.data,\n",
    "    window_size=50,\n",
    "    feature_clip=5,\n",
    "    flatten=False,\n",
    "    window_along_col='instrument'\n",
    ")\n",
    "\n",
    "m7 = M.dl_model_predict.v1(\n",
    "    trained_model=m6.data,\n",
    "    input_data=m27.data,\n",
    "    batch_size=10240,\n",
    "    n_gpus=2,\n",
    "    verbose='2:每个epoch输出一行记录'\n",
    ")\n",
    "\n",
    "m2 = M.cached.v3(\n",
    "    input_1=m7.data,\n",
    "    input_2=m27.data,\n",
    "    input_3=m20.data,\n",
    "    run=m2_run_bigquant_run,\n",
    "    post_run=m2_post_run_bigquant_run,\n",
    "    input_ports='',\n",
    "    params='{}',\n",
    "    output_ports=''\n",
    ")\n",
    "\n",
    "m1 = M.trade.v4(\n",
    "    instruments=m24.data,\n",
    "    options_data=m2.data_1,\n",
    "    start_date='2020-01-02',\n",
    "    end_date='',\n",
    "    initialize=m1_initialize_bigquant_run,\n",
    "    handle_data=m1_handle_data_bigquant_run,\n",
    "    prepare=m1_prepare_bigquant_run,\n",
    "    before_trading_start=m1_before_trading_start_bigquant_run,\n",
    "    volume_limit=0.025,\n",
    "    order_price_field_buy='open',\n",
    "    order_price_field_sell='close',\n",
    "    capital_base=1000000,\n",
    "    auto_cancel_non_tradable_orders=True,\n",
    "    data_frequency='daily',\n",
    "    price_type='真实价格',\n",
    "    product_type='股票',\n",
    "    plot_charts=True,\n",
    "    backtest_only=False,\n",
    "    benchmark=''\n",
    ")\n"
   ]
  }
 ],
 "metadata": {
  "kernelspec": {
   "display_name": "Python 3",
   "language": "python",
   "name": "python3"
  },
  "language_info": {
   "codemirror_mode": {
    "name": "ipython",
    "version": 3
   },
   "file_extension": ".py",
   "mimetype": "text/x-python",
   "name": "python",
   "nbconvert_exporter": "python",
   "pygments_lexer": "ipython3",
   "version": "3.8.7"
  }
 },
 "nbformat": 4,
 "nbformat_minor": 4
}
