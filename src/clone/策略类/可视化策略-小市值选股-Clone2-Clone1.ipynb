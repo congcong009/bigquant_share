{
 "cells": [
  {
   "cell_type": "code",
   "execution_count": 8,
   "metadata": {
    "machine_learning_studio": "true",
    "ml_studio_json": "{\"description\":\"实验创建于2019/4/20\",\"graph\":{\"edges\":[{\"to_node_id\":\"-53:input_data\",\"from_node_id\":\"-606:sorted_data\"},{\"to_node_id\":\"-32:options_data\",\"from_node_id\":\"-53:data\"},{\"to_node_id\":\"-2031:data1\",\"from_node_id\":\"-1735:data\"},{\"to_node_id\":\"-2042:input_data\",\"from_node_id\":\"-1880:data\"},{\"to_node_id\":\"-606:input_ds\",\"from_node_id\":\"-2031:data\"},{\"to_node_id\":\"-2042:features\",\"from_node_id\":\"-2037:data\"},{\"to_node_id\":\"-2031:data2\",\"from_node_id\":\"-2042:data\"}],\"nodes\":[{\"node_id\":\"-606\",\"module_id\":\"BigQuantSpace.sort.sort-v4\",\"parameters\":[{\"name\":\"sort_by\",\"value\":\"nav_chg_pct\",\"type\":\"Literal\",\"bound_global_parameter\":null},{\"name\":\"group_by\",\"value\":\"instrument\",\"type\":\"Literal\",\"bound_global_parameter\":null},{\"name\":\"keep_columns\",\"value\":\"--\",\"type\":\"Literal\",\"bound_global_parameter\":null},{\"name\":\"ascending\",\"value\":\"True\",\"type\":\"Literal\",\"bound_global_parameter\":null}],\"input_ports\":[{\"name\":\"input_ds\",\"node_id\":\"-606\"},{\"name\":\"sort_by_ds\",\"node_id\":\"-606\"}],\"output_ports\":[{\"name\":\"sorted_data\",\"node_id\":\"-606\"}],\"cacheable\":true,\"seq_num\":4,\"comment\":\"依据某个因子排序\",\"comment_collapsed\":true},{\"node_id\":\"-32\",\"module_id\":\"BigQuantSpace.trade.trade-v4\",\"parameters\":[{\"name\":\"start_date\",\"value\":\"2020-01-01\",\"type\":\"Literal\",\"bound_global_parameter\":null},{\"name\":\"end_date\",\"value\":\"2021-01-01\",\"type\":\"Literal\",\"bound_global_parameter\":null},{\"name\":\"initialize\",\"value\":\"# 回测引擎：初始化函数，只执行一次\\ndef bigquant_run(context):\\n    # 加载股票指标数据,数据继承自m6模块\\n    context.indicator_data = context.options['data'].read_df()\\n\\n    # 系统已经设置了默认的交易手续费和滑点，要修改手续费可使用如下函数\\n    context.set_commission(PerOrder(buy_cost=0.0003, sell_cost=0.0013, min_cost=5))\\n    \\n    # 设置股票数量\\n    context.stock_num = 30\\n    \\n    # 调仓天数,22个交易日大概就是一个月。可以理解为一个月换仓一次\\n    context.rebalance_days = 22\\n    \\n    # 如果策略运行中，需要将数据进行保存，可以借用extension这个对象，类型为dict\\n    # 比如当前运行的k线的索引，比如个股持仓天数、买入均价\\n    if 'index' not in context.extension:\\n        context.extension['index'] = 0\\n \\n    \\n\",\"type\":\"Literal\",\"bound_global_parameter\":null},{\"name\":\"handle_data\",\"value\":\"# 回测引擎：每日数据处理函数，每天执行一次\\ndef bigquant_run(context, data):\\n    \\n    \\n    context.extension['index'] += 1\\n    # 不在换仓日就return,相当于后面的代码只会一个月运行一次，买入的股票会持有1个月\\n    if  context.extension['index'] % context.rebalance_days != 0:\\n        return \\n    \\n    # 当前的日期\\n    date = data.current_dt.strftime('%Y-%m-%d')\\n    \\n    cur_data = context.indicator_data[context.indicator_data['date'] == date]\\n    # 根据日期获取调仓需要买入的股票的列表\\n    stock_to_buy = list(cur_data.instrument[:context.stock_num])\\n    # 通过positions对象，使用列表生成式的方法获取目前持仓的股票列表\\n    stock_hold_now = [equity.symbol for equity in context.portfolio.positions]\\n    # 继续持有的股票：调仓时，如果买入的股票已经存在于目前的持仓里，那么应继续持有\\n    no_need_to_sell = [i for i in stock_hold_now if i in stock_to_buy]\\n    # 需要卖出的股票\\n    stock_to_sell = [i for i in stock_hold_now if i not in no_need_to_sell]\\n  \\n    # 卖出\\n    for stock in stock_to_sell:\\n        # 如果该股票停牌，则没法成交。因此需要用can_trade方法检查下该股票的状态\\n        # 如果返回真值，则可以正常下单，否则会出错\\n        # 因为stock是字符串格式，我们用symbol方法将其转化成平台可以接受的形式：Equity格式\\n\\n        if data.can_trade(context.symbol(stock)):\\n            # order_target_percent是平台的一个下单接口，表明下单使得该股票的权重为0，\\n            #   即卖出全部股票，可参考回测文档\\n            context.order_target_percent(context.symbol(stock), 0)\\n    \\n    # 如果当天没有买入的股票，就返回\\n    if len(stock_to_buy) == 0:\\n        return\\n\\n    # 等权重买入 \\n    weight =  1 / len(stock_to_buy)\\n    \\n    # 买入\\n    for stock in stock_to_buy:\\n        if data.can_trade(context.symbol(stock)):\\n            # 下单使得某只股票的持仓权重达到weight，因为\\n            # weight大于0,因此是等权重买入\\n            context.order_target_percent(context.symbol(stock), weight)\\n \",\"type\":\"Literal\",\"bound_global_parameter\":null},{\"name\":\"prepare\",\"value\":\"# 回测引擎：准备数据，只执行一次\\ndef bigquant_run(context):\\n    pass\\n\",\"type\":\"Literal\",\"bound_global_parameter\":null},{\"name\":\"before_trading_start\",\"value\":\"# 回测引擎：每个单位时间开始前调用一次，即每日开盘前调用一次。\\ndef bigquant_run(context, data):\\n    pass\\n\",\"type\":\"Literal\",\"bound_global_parameter\":null},{\"name\":\"volume_limit\",\"value\":0.025,\"type\":\"Literal\",\"bound_global_parameter\":null},{\"name\":\"order_price_field_buy\",\"value\":\"open\",\"type\":\"Literal\",\"bound_global_parameter\":null},{\"name\":\"order_price_field_sell\",\"value\":\"open\",\"type\":\"Literal\",\"bound_global_parameter\":null},{\"name\":\"capital_base\",\"value\":1000000,\"type\":\"Literal\",\"bound_global_parameter\":null},{\"name\":\"auto_cancel_non_tradable_orders\",\"value\":\"True\",\"type\":\"Literal\",\"bound_global_parameter\":null},{\"name\":\"data_frequency\",\"value\":\"daily\",\"type\":\"Literal\",\"bound_global_parameter\":null},{\"name\":\"price_type\",\"value\":\"后复权\",\"type\":\"Literal\",\"bound_global_parameter\":null},{\"name\":\"product_type\",\"value\":\"股票\",\"type\":\"Literal\",\"bound_global_parameter\":null},{\"name\":\"plot_charts\",\"value\":\"True\",\"type\":\"Literal\",\"bound_global_parameter\":null},{\"name\":\"backtest_only\",\"value\":\"False\",\"type\":\"Literal\",\"bound_global_parameter\":null},{\"name\":\"benchmark\",\"value\":\"\",\"type\":\"Literal\",\"bound_global_parameter\":null}],\"input_ports\":[{\"name\":\"instruments\",\"node_id\":\"-32\"},{\"name\":\"options_data\",\"node_id\":\"-32\"},{\"name\":\"history_ds\",\"node_id\":\"-32\"},{\"name\":\"benchmark_ds\",\"node_id\":\"-32\"},{\"name\":\"trading_calendar\",\"node_id\":\"-32\"}],\"output_ports\":[{\"name\":\"raw_perf\",\"node_id\":\"-32\"}],\"cacheable\":false,\"seq_num\":5,\"comment\":\"回测\",\"comment_collapsed\":true},{\"node_id\":\"-53\",\"module_id\":\"BigQuantSpace.filter.filter-v3\",\"parameters\":[{\"name\":\"expr\",\"value\":\"amount > 3000\",\"type\":\"Literal\",\"bound_global_parameter\":null},{\"name\":\"output_left_data\",\"value\":\"False\",\"type\":\"Literal\",\"bound_global_parameter\":null}],\"input_ports\":[{\"name\":\"input_data\",\"node_id\":\"-53\"}],\"output_ports\":[{\"name\":\"data\",\"node_id\":\"-53\"},{\"name\":\"left_data\",\"node_id\":\"-53\"}],\"cacheable\":true,\"seq_num\":6,\"comment\":\"过滤掉不需要的股票数据\",\"comment_collapsed\":true},{\"node_id\":\"-1735\",\"module_id\":\"BigQuantSpace.use_datasource.use_datasource-v1\",\"parameters\":[{\"name\":\"datasource_id\",\"value\":\"bar1d_CN_FUND\",\"type\":\"Literal\",\"bound_global_parameter\":null},{\"name\":\"start_date\",\"value\":\"2020-01-01\",\"type\":\"Literal\",\"bound_global_parameter\":null},{\"name\":\"end_date\",\"value\":\"2021-01-01\",\"type\":\"Literal\",\"bound_global_parameter\":null}],\"input_ports\":[{\"name\":\"instruments\",\"node_id\":\"-1735\"},{\"name\":\"features\",\"node_id\":\"-1735\"}],\"output_ports\":[{\"name\":\"data\",\"node_id\":\"-1735\"}],\"cacheable\":true,\"seq_num\":1,\"comment\":\"\",\"comment_collapsed\":true},{\"node_id\":\"-1880\",\"module_id\":\"BigQuantSpace.use_datasource.use_datasource-v1\",\"parameters\":[{\"name\":\"datasource_id\",\"value\":\"history_nav_CN_FUND\",\"type\":\"Literal\",\"bound_global_parameter\":null},{\"name\":\"start_date\",\"value\":\"2020-01-01\",\"type\":\"Literal\",\"bound_global_parameter\":null},{\"name\":\"end_date\",\"value\":\"2021-01-01\",\"type\":\"Literal\",\"bound_global_parameter\":null}],\"input_ports\":[{\"name\":\"instruments\",\"node_id\":\"-1880\"},{\"name\":\"features\",\"node_id\":\"-1880\"}],\"output_ports\":[{\"name\":\"data\",\"node_id\":\"-1880\"}],\"cacheable\":true,\"seq_num\":2,\"comment\":\"\",\"comment_collapsed\":true},{\"node_id\":\"-2031\",\"module_id\":\"BigQuantSpace.join.join-v3\",\"parameters\":[{\"name\":\"on\",\"value\":\"date,instrument\",\"type\":\"Literal\",\"bound_global_parameter\":null},{\"name\":\"how\",\"value\":\"inner\",\"type\":\"Literal\",\"bound_global_parameter\":null},{\"name\":\"sort\",\"value\":\"False\",\"type\":\"Literal\",\"bound_global_parameter\":null}],\"input_ports\":[{\"name\":\"data1\",\"node_id\":\"-2031\"},{\"name\":\"data2\",\"node_id\":\"-2031\"}],\"output_ports\":[{\"name\":\"data\",\"node_id\":\"-2031\"}],\"cacheable\":true,\"seq_num\":3,\"comment\":\"\",\"comment_collapsed\":true},{\"node_id\":\"-2037\",\"module_id\":\"BigQuantSpace.input_features.input_features-v1\",\"parameters\":[{\"name\":\"features\",\"value\":\"\\n# #号开始的表示注释，注释需单独一行\\n# 多个特征，每行一个，可以包含基础特征和衍生特征，特征须为本平台特征\\nnav_chg_pct\",\"type\":\"Literal\",\"bound_global_parameter\":null}],\"input_ports\":[{\"name\":\"features_ds\",\"node_id\":\"-2037\"}],\"output_ports\":[{\"name\":\"data\",\"node_id\":\"-2037\"}],\"cacheable\":true,\"seq_num\":7,\"comment\":\"\",\"comment_collapsed\":true},{\"node_id\":\"-2042\",\"module_id\":\"BigQuantSpace.derived_feature_extractor.derived_feature_extractor-v3\",\"parameters\":[{\"name\":\"date_col\",\"value\":\"date\",\"type\":\"Literal\",\"bound_global_parameter\":null},{\"name\":\"instrument_col\",\"value\":\"instrument\",\"type\":\"Literal\",\"bound_global_parameter\":null},{\"name\":\"drop_na\",\"value\":\"False\",\"type\":\"Literal\",\"bound_global_parameter\":null},{\"name\":\"remove_extra_columns\",\"value\":\"False\",\"type\":\"Literal\",\"bound_global_parameter\":null},{\"name\":\"user_functions\",\"value\":\"{}\",\"type\":\"Literal\",\"bound_global_parameter\":null}],\"input_ports\":[{\"name\":\"input_data\",\"node_id\":\"-2042\"},{\"name\":\"features\",\"node_id\":\"-2042\"}],\"output_ports\":[{\"name\":\"data\",\"node_id\":\"-2042\"}],\"cacheable\":true,\"seq_num\":8,\"comment\":\"\",\"comment_collapsed\":true}],\"node_layout\":\"<node_postions><node_position Node='-606' Position='230,257,200,200'/><node_position Node='-32' Position='74,498,200,200'/><node_position Node='-53' Position='244,352,200,200'/><node_position Node='-1735' Position='-43,-11,200,200'/><node_position Node='-1880' Position='311,-29,200,200'/><node_position Node='-2031' Position='192,166,200,200'/><node_position Node='-2037' Position='625,-33,200,200'/><node_position Node='-2042' Position='464,72,200,200'/></node_postions>\"},\"nodes_readonly\":false,\"studio_version\":\"v2\"}"
   },
   "outputs": [
    {
     "data": {
      "text/plain": [
       "[2021-12-29 10:54:01.510355] INFO: moduleinvoker: use_datasource.v1 开始运行.."
      ]
     },
     "metadata": {
      "is_log": true,
      "status": "INFO"
     },
     "output_type": "display_data"
    },
    {
     "data": {
      "text/plain": [
       "[2021-12-29 10:54:01.520804] INFO: moduleinvoker: 命中缓存"
      ]
     },
     "metadata": {
      "is_log": true,
      "status": "INFO"
     },
     "output_type": "display_data"
    },
    {
     "data": {
      "text/plain": [
       "[2021-12-29 10:54:01.523213] INFO: moduleinvoker: use_datasource.v1 运行完成[0.012864s]."
      ]
     },
     "metadata": {
      "is_log": true,
      "status": "INFO"
     },
     "output_type": "display_data"
    },
    {
     "data": {
      "text/plain": [
       "[2021-12-29 10:54:01.530601] INFO: moduleinvoker: use_datasource.v1 开始运行.."
      ]
     },
     "metadata": {
      "is_log": true,
      "status": "INFO"
     },
     "output_type": "display_data"
    },
    {
     "data": {
      "text/plain": [
       "[2021-12-29 10:54:01.538574] INFO: moduleinvoker: 命中缓存"
      ]
     },
     "metadata": {
      "is_log": true,
      "status": "INFO"
     },
     "output_type": "display_data"
    },
    {
     "data": {
      "text/plain": [
       "[2021-12-29 10:54:01.540274] INFO: moduleinvoker: use_datasource.v1 运行完成[0.009704s]."
      ]
     },
     "metadata": {
      "is_log": true,
      "status": "INFO"
     },
     "output_type": "display_data"
    },
    {
     "data": {
      "text/plain": [
       "[2021-12-29 10:54:02.453927] INFO: moduleinvoker: input_features.v1 开始运行.."
      ]
     },
     "metadata": {
      "is_log": true,
      "status": "INFO"
     },
     "output_type": "display_data"
    },
    {
     "data": {
      "text/plain": [
       "[2021-12-29 10:54:02.465641] INFO: moduleinvoker: 命中缓存"
      ]
     },
     "metadata": {
      "is_log": true,
      "status": "INFO"
     },
     "output_type": "display_data"
    },
    {
     "data": {
      "text/plain": [
       "[2021-12-29 10:54:02.467540] INFO: moduleinvoker: input_features.v1 运行完成[0.013632s]."
      ]
     },
     "metadata": {
      "is_log": true,
      "status": "INFO"
     },
     "output_type": "display_data"
    },
    {
     "data": {
      "text/plain": [
       "[2021-12-29 10:54:02.475282] INFO: moduleinvoker: derived_feature_extractor.v3 开始运行.."
      ]
     },
     "metadata": {
      "is_log": true,
      "status": "INFO"
     },
     "output_type": "display_data"
    },
    {
     "data": {
      "text/plain": [
       "[2021-12-29 10:54:02.487149] INFO: moduleinvoker: 命中缓存"
      ]
     },
     "metadata": {
      "is_log": true,
      "status": "INFO"
     },
     "output_type": "display_data"
    },
    {
     "data": {
      "text/plain": [
       "[2021-12-29 10:54:02.489488] INFO: moduleinvoker: derived_feature_extractor.v3 运行完成[0.014199s]."
      ]
     },
     "metadata": {
      "is_log": true,
      "status": "INFO"
     },
     "output_type": "display_data"
    },
    {
     "data": {
      "text/plain": [
       "[2021-12-29 10:54:02.499393] INFO: moduleinvoker: join.v3 开始运行.."
      ]
     },
     "metadata": {
      "is_log": true,
      "status": "INFO"
     },
     "output_type": "display_data"
    },
    {
     "data": {
      "text/plain": [
       "[2021-12-29 10:54:02.508517] INFO: moduleinvoker: 命中缓存"
      ]
     },
     "metadata": {
      "is_log": true,
      "status": "INFO"
     },
     "output_type": "display_data"
    },
    {
     "data": {
      "text/plain": [
       "[2021-12-29 10:54:02.510573] INFO: moduleinvoker: join.v3 运行完成[0.011181s]."
      ]
     },
     "metadata": {
      "is_log": true,
      "status": "INFO"
     },
     "output_type": "display_data"
    },
    {
     "data": {
      "text/plain": [
       "[2021-12-29 10:54:02.516497] INFO: moduleinvoker: sort.v4 开始运行.."
      ]
     },
     "metadata": {
      "is_log": true,
      "status": "INFO"
     },
     "output_type": "display_data"
    },
    {
     "data": {
      "text/plain": [
       "[2021-12-29 10:54:02.525608] INFO: moduleinvoker: 命中缓存"
      ]
     },
     "metadata": {
      "is_log": true,
      "status": "INFO"
     },
     "output_type": "display_data"
    },
    {
     "data": {
      "text/plain": [
       "[2021-12-29 10:54:02.527858] INFO: moduleinvoker: sort.v4 运行完成[0.011329s]."
      ]
     },
     "metadata": {
      "is_log": true,
      "status": "INFO"
     },
     "output_type": "display_data"
    },
    {
     "data": {
      "text/plain": [
       "[2021-12-29 10:54:02.537687] INFO: moduleinvoker: filter.v3 开始运行.."
      ]
     },
     "metadata": {
      "is_log": true,
      "status": "INFO"
     },
     "output_type": "display_data"
    },
    {
     "data": {
      "text/plain": [
       "[2021-12-29 10:54:02.547344] INFO: moduleinvoker: 命中缓存"
      ]
     },
     "metadata": {
      "is_log": true,
      "status": "INFO"
     },
     "output_type": "display_data"
    },
    {
     "data": {
      "text/plain": [
       "[2021-12-29 10:54:02.549374] INFO: moduleinvoker: filter.v3 运行完成[0.01187s]."
      ]
     },
     "metadata": {
      "is_log": true,
      "status": "INFO"
     },
     "output_type": "display_data"
    }
   ],
   "source": [
    "# 本代码由可视化策略环境自动生成 2021年12月29日 10:55\n",
    "# 本代码单元只能在可视化模式下编辑。您也可以拷贝代码，粘贴到新建的代码单元或者策略，然后修改。\n",
    "\n",
    "\n",
    "# 回测引擎：初始化函数，只执行一次\n",
    "def m5_initialize_bigquant_run(context):\n",
    "    # 加载股票指标数据,数据继承自m6模块\n",
    "    context.indicator_data = context.options['data'].read_df()\n",
    "\n",
    "    # 系统已经设置了默认的交易手续费和滑点，要修改手续费可使用如下函数\n",
    "    context.set_commission(PerOrder(buy_cost=0.0003, sell_cost=0.0013, min_cost=5))\n",
    "    \n",
    "    # 设置股票数量\n",
    "    context.stock_num = 30\n",
    "    \n",
    "    # 调仓天数,22个交易日大概就是一个月。可以理解为一个月换仓一次\n",
    "    context.rebalance_days = 22\n",
    "    \n",
    "    # 如果策略运行中，需要将数据进行保存，可以借用extension这个对象，类型为dict\n",
    "    # 比如当前运行的k线的索引，比如个股持仓天数、买入均价\n",
    "    if 'index' not in context.extension:\n",
    "        context.extension['index'] = 0\n",
    " \n",
    "    \n",
    "\n",
    "# 回测引擎：每日数据处理函数，每天执行一次\n",
    "def m5_handle_data_bigquant_run(context, data):\n",
    "    \n",
    "    \n",
    "    context.extension['index'] += 1\n",
    "    # 不在换仓日就return,相当于后面的代码只会一个月运行一次，买入的股票会持有1个月\n",
    "    if  context.extension['index'] % context.rebalance_days != 0:\n",
    "        return \n",
    "    \n",
    "    # 当前的日期\n",
    "    date = data.current_dt.strftime('%Y-%m-%d')\n",
    "    \n",
    "    cur_data = context.indicator_data[context.indicator_data['date'] == date]\n",
    "    # 根据日期获取调仓需要买入的股票的列表\n",
    "    stock_to_buy = list(cur_data.instrument[:context.stock_num])\n",
    "    # 通过positions对象，使用列表生成式的方法获取目前持仓的股票列表\n",
    "    stock_hold_now = [equity.symbol for equity in context.portfolio.positions]\n",
    "    # 继续持有的股票：调仓时，如果买入的股票已经存在于目前的持仓里，那么应继续持有\n",
    "    no_need_to_sell = [i for i in stock_hold_now if i in stock_to_buy]\n",
    "    # 需要卖出的股票\n",
    "    stock_to_sell = [i for i in stock_hold_now if i not in no_need_to_sell]\n",
    "  \n",
    "    # 卖出\n",
    "    for stock in stock_to_sell:\n",
    "        # 如果该股票停牌，则没法成交。因此需要用can_trade方法检查下该股票的状态\n",
    "        # 如果返回真值，则可以正常下单，否则会出错\n",
    "        # 因为stock是字符串格式，我们用symbol方法将其转化成平台可以接受的形式：Equity格式\n",
    "\n",
    "        if data.can_trade(context.symbol(stock)):\n",
    "            # order_target_percent是平台的一个下单接口，表明下单使得该股票的权重为0，\n",
    "            #   即卖出全部股票，可参考回测文档\n",
    "            context.order_target_percent(context.symbol(stock), 0)\n",
    "    \n",
    "    # 如果当天没有买入的股票，就返回\n",
    "    if len(stock_to_buy) == 0:\n",
    "        return\n",
    "\n",
    "    # 等权重买入 \n",
    "    weight =  1 / len(stock_to_buy)\n",
    "    \n",
    "    # 买入\n",
    "    for stock in stock_to_buy:\n",
    "        if data.can_trade(context.symbol(stock)):\n",
    "            # 下单使得某只股票的持仓权重达到weight，因为\n",
    "            # weight大于0,因此是等权重买入\n",
    "            context.order_target_percent(context.symbol(stock), weight)\n",
    " \n",
    "# 回测引擎：准备数据，只执行一次\n",
    "def m5_prepare_bigquant_run(context):\n",
    "    pass\n",
    "\n",
    "# 回测引擎：每个单位时间开始前调用一次，即每日开盘前调用一次。\n",
    "def m5_before_trading_start_bigquant_run(context, data):\n",
    "    pass\n",
    "\n",
    "\n",
    "m1 = M.use_datasource.v1(\n",
    "    datasource_id='bar1d_CN_FUND',\n",
    "    start_date='2020-01-01',\n",
    "    end_date='2021-01-01'\n",
    ")\n",
    "\n",
    "m2 = M.use_datasource.v1(\n",
    "    datasource_id='history_nav_CN_FUND',\n",
    "    start_date='2020-01-01',\n",
    "    end_date='2021-01-01'\n",
    ")\n",
    "\n",
    "m7 = M.input_features.v1(\n",
    "    features=\"\"\"\n",
    "# #号开始的表示注释，注释需单独一行\n",
    "# 多个特征，每行一个，可以包含基础特征和衍生特征，特征须为本平台特征\n",
    "nav_chg_pct\"\"\"\n",
    ")\n",
    "\n",
    "m8 = M.derived_feature_extractor.v3(\n",
    "    input_data=m2.data,\n",
    "    features=m7.data,\n",
    "    date_col='date',\n",
    "    instrument_col='instrument',\n",
    "    drop_na=False,\n",
    "    remove_extra_columns=False,\n",
    "    user_functions={}\n",
    ")\n",
    "\n",
    "m3 = M.join.v3(\n",
    "    data1=m1.data,\n",
    "    data2=m8.data,\n",
    "    on='date,instrument',\n",
    "    how='inner',\n",
    "    sort=False\n",
    ")\n",
    "\n",
    "m4 = M.sort.v4(\n",
    "    input_ds=m3.data,\n",
    "    sort_by='nav_chg_pct',\n",
    "    group_by='instrument',\n",
    "    keep_columns='--',\n",
    "    ascending=True\n",
    ")\n",
    "\n",
    "m6 = M.filter.v3(\n",
    "    input_data=m4.sorted_data,\n",
    "    expr='amount > 3000',\n",
    "    output_left_data=False\n",
    ")\n",
    "\n",
    "m5 = M.trade.v4(\n",
    "    options_data=m6.data,\n",
    "    start_date='2020-01-01',\n",
    "    end_date='2021-01-01',\n",
    "    initialize=m5_initialize_bigquant_run,\n",
    "    handle_data=m5_handle_data_bigquant_run,\n",
    "    prepare=m5_prepare_bigquant_run,\n",
    "    before_trading_start=m5_before_trading_start_bigquant_run,\n",
    "    volume_limit=0.025,\n",
    "    order_price_field_buy='open',\n",
    "    order_price_field_sell='open',\n",
    "    capital_base=1000000,\n",
    "    auto_cancel_non_tradable_orders=True,\n",
    "    data_frequency='daily',\n",
    "    price_type='后复权',\n",
    "    product_type='股票',\n",
    "    plot_charts=True,\n",
    "    backtest_only=False,\n",
    "    benchmark=''\n",
    ")\n"
   ]
  },
  {
   "cell_type": "code",
   "execution_count": 9,
   "metadata": {},
   "outputs": [
    {
     "data": {
      "text/html": [
       "<div>\n",
       "<style scoped>\n",
       "    .dataframe tbody tr th:only-of-type {\n",
       "        vertical-align: middle;\n",
       "    }\n",
       "\n",
       "    .dataframe tbody tr th {\n",
       "        vertical-align: top;\n",
       "    }\n",
       "\n",
       "    .dataframe thead th {\n",
       "        text-align: right;\n",
       "    }\n",
       "</style>\n",
       "<table border=\"1\" class=\"dataframe\">\n",
       "  <thead>\n",
       "    <tr style=\"text-align: right;\">\n",
       "      <th></th>\n",
       "      <th>instrument</th>\n",
       "      <th>date</th>\n",
       "      <th>end_date</th>\n",
       "      <th>nav</th>\n",
       "      <th>cumulative_nav</th>\n",
       "      <th>adjust_nav</th>\n",
       "      <th>publish_date</th>\n",
       "      <th>nav_chg</th>\n",
       "      <th>nav_chg_pct</th>\n",
       "      <th>nav_chg_pct_adj</th>\n",
       "      <th>open</th>\n",
       "      <th>high</th>\n",
       "      <th>low</th>\n",
       "      <th>close</th>\n",
       "      <th>volume</th>\n",
       "      <th>amount</th>\n",
       "      <th>adjust_factor</th>\n",
       "    </tr>\n",
       "  </thead>\n",
       "  <tbody>\n",
       "    <tr>\n",
       "      <th>0</th>\n",
       "      <td>150221.ZOF</td>\n",
       "      <td>2020-01-02</td>\n",
       "      <td>2020-01-02</td>\n",
       "      <td>1.0000</td>\n",
       "      <td>1.3170</td>\n",
       "      <td>1.3530</td>\n",
       "      <td>2020-01-02</td>\n",
       "      <td>-0.0650</td>\n",
       "      <td>-6.1033</td>\n",
       "      <td>-0.0074</td>\n",
       "      <td>1.8147</td>\n",
       "      <td>1.8198</td>\n",
       "      <td>1.8130</td>\n",
       "      <td>1.8164</td>\n",
       "      <td>6494782.0</td>\n",
       "      <td>6.982747e+06</td>\n",
       "      <td>0.591830</td>\n",
       "    </tr>\n",
       "    <tr>\n",
       "      <th>1</th>\n",
       "      <td>150219.ZOF</td>\n",
       "      <td>2020-01-02</td>\n",
       "      <td>2020-01-02</td>\n",
       "      <td>1.0000</td>\n",
       "      <td>1.2900</td>\n",
       "      <td>1.3211</td>\n",
       "      <td>2020-01-02</td>\n",
       "      <td>-0.0600</td>\n",
       "      <td>-5.6604</td>\n",
       "      <td>0.0000</td>\n",
       "      <td>1.9950</td>\n",
       "      <td>1.9950</td>\n",
       "      <td>1.9950</td>\n",
       "      <td>1.9950</td>\n",
       "      <td>39000.0</td>\n",
       "      <td>4.520100e+04</td>\n",
       "      <td>0.580952</td>\n",
       "    </tr>\n",
       "    <tr>\n",
       "      <th>2</th>\n",
       "      <td>150123.ZOF</td>\n",
       "      <td>2020-01-02</td>\n",
       "      <td>2020-01-02</td>\n",
       "      <td>1.0003</td>\n",
       "      <td>1.4451</td>\n",
       "      <td>1.5027</td>\n",
       "      <td>2020-01-02</td>\n",
       "      <td>-0.0597</td>\n",
       "      <td>-5.6321</td>\n",
       "      <td>0.0332</td>\n",
       "      <td>2.2733</td>\n",
       "      <td>2.2754</td>\n",
       "      <td>2.2733</td>\n",
       "      <td>2.2733</td>\n",
       "      <td>407800.0</td>\n",
       "      <td>4.330704e+05</td>\n",
       "      <td>0.466722</td>\n",
       "    </tr>\n",
       "    <tr>\n",
       "      <th>3</th>\n",
       "      <td>150130.ZOF</td>\n",
       "      <td>2020-01-02</td>\n",
       "      <td>2020-01-02</td>\n",
       "      <td>1.0000</td>\n",
       "      <td>1.3803</td>\n",
       "      <td>1.4571</td>\n",
       "      <td>2020-01-02</td>\n",
       "      <td>-0.0567</td>\n",
       "      <td>-5.3658</td>\n",
       "      <td>0.0274</td>\n",
       "      <td>1.3903</td>\n",
       "      <td>1.3969</td>\n",
       "      <td>1.3836</td>\n",
       "      <td>1.3969</td>\n",
       "      <td>499177.0</td>\n",
       "      <td>5.259953e+05</td>\n",
       "      <td>0.756675</td>\n",
       "    </tr>\n",
       "    <tr>\n",
       "      <th>4</th>\n",
       "      <td>150190.ZOF</td>\n",
       "      <td>2020-01-02</td>\n",
       "      <td>2020-01-02</td>\n",
       "      <td>1.0000</td>\n",
       "      <td>1.3490</td>\n",
       "      <td>1.3438</td>\n",
       "      <td>2020-01-02</td>\n",
       "      <td>-0.0550</td>\n",
       "      <td>-5.2133</td>\n",
       "      <td>0.0000</td>\n",
       "      <td>1.2989</td>\n",
       "      <td>1.3725</td>\n",
       "      <td>1.2989</td>\n",
       "      <td>1.3663</td>\n",
       "      <td>26907.0</td>\n",
       "      <td>2.920381e+04</td>\n",
       "      <td>0.801435</td>\n",
       "    </tr>\n",
       "    <tr>\n",
       "      <th>...</th>\n",
       "      <td>...</td>\n",
       "      <td>...</td>\n",
       "      <td>...</td>\n",
       "      <td>...</td>\n",
       "      <td>...</td>\n",
       "      <td>...</td>\n",
       "      <td>...</td>\n",
       "      <td>...</td>\n",
       "      <td>...</td>\n",
       "      <td>...</td>\n",
       "      <td>...</td>\n",
       "      <td>...</td>\n",
       "      <td>...</td>\n",
       "      <td>...</td>\n",
       "      <td>...</td>\n",
       "      <td>...</td>\n",
       "      <td>...</td>\n",
       "    </tr>\n",
       "    <tr>\n",
       "      <th>205376</th>\n",
       "      <td>150236.ZOF</td>\n",
       "      <td>2020-12-31</td>\n",
       "      <td>2020-12-31</td>\n",
       "      <td>1.4260</td>\n",
       "      <td>0.1120</td>\n",
       "      <td>0.1298</td>\n",
       "      <td>2020-12-31</td>\n",
       "      <td>0.0990</td>\n",
       "      <td>7.4604</td>\n",
       "      <td>7.4503</td>\n",
       "      <td>0.2241</td>\n",
       "      <td>0.2438</td>\n",
       "      <td>0.2241</td>\n",
       "      <td>0.2408</td>\n",
       "      <td>2297568.0</td>\n",
       "      <td>3.152809e+06</td>\n",
       "      <td>5.739202</td>\n",
       "    </tr>\n",
       "    <tr>\n",
       "      <th>205377</th>\n",
       "      <td>150302.ZOF</td>\n",
       "      <td>2020-12-31</td>\n",
       "      <td>2020-12-31</td>\n",
       "      <td>1.4216</td>\n",
       "      <td>0.1227</td>\n",
       "      <td>0.1227</td>\n",
       "      <td>2020-12-31</td>\n",
       "      <td>0.0991</td>\n",
       "      <td>7.4934</td>\n",
       "      <td>7.5372</td>\n",
       "      <td>0.2268</td>\n",
       "      <td>0.2386</td>\n",
       "      <td>0.2268</td>\n",
       "      <td>0.2360</td>\n",
       "      <td>691223.0</td>\n",
       "      <td>9.470867e+05</td>\n",
       "      <td>5.838983</td>\n",
       "    </tr>\n",
       "    <tr>\n",
       "      <th>205378</th>\n",
       "      <td>150172.ZOF</td>\n",
       "      <td>2020-12-31</td>\n",
       "      <td>2020-12-31</td>\n",
       "      <td>1.0666</td>\n",
       "      <td>2.8419</td>\n",
       "      <td>0.2492</td>\n",
       "      <td>2020-12-31</td>\n",
       "      <td>0.0776</td>\n",
       "      <td>7.8463</td>\n",
       "      <td>7.8321</td>\n",
       "      <td>1.0804</td>\n",
       "      <td>1.1746</td>\n",
       "      <td>1.0804</td>\n",
       "      <td>1.1634</td>\n",
       "      <td>108671931.0</td>\n",
       "      <td>1.111816e+08</td>\n",
       "      <td>0.892212</td>\n",
       "    </tr>\n",
       "    <tr>\n",
       "      <th>205379</th>\n",
       "      <td>150224.ZOF</td>\n",
       "      <td>2020-12-31</td>\n",
       "      <td>2020-12-31</td>\n",
       "      <td>1.2690</td>\n",
       "      <td>0.0490</td>\n",
       "      <td>0.0552</td>\n",
       "      <td>2020-12-31</td>\n",
       "      <td>0.0950</td>\n",
       "      <td>8.0920</td>\n",
       "      <td>8.0234</td>\n",
       "      <td>0.2339</td>\n",
       "      <td>0.2526</td>\n",
       "      <td>0.2339</td>\n",
       "      <td>0.2506</td>\n",
       "      <td>126755702.0</td>\n",
       "      <td>1.542177e+08</td>\n",
       "      <td>4.920191</td>\n",
       "    </tr>\n",
       "    <tr>\n",
       "      <th>205380</th>\n",
       "      <td>150178.ZOF</td>\n",
       "      <td>2020-12-31</td>\n",
       "      <td>2020-12-31</td>\n",
       "      <td>0.8440</td>\n",
       "      <td>2.2570</td>\n",
       "      <td>0.6390</td>\n",
       "      <td>2020-12-31</td>\n",
       "      <td>0.0650</td>\n",
       "      <td>8.3440</td>\n",
       "      <td>8.3418</td>\n",
       "      <td>3.5514</td>\n",
       "      <td>3.8999</td>\n",
       "      <td>3.5514</td>\n",
       "      <td>3.8764</td>\n",
       "      <td>4804062.0</td>\n",
       "      <td>3.909175e+06</td>\n",
       "      <td>0.212310</td>\n",
       "    </tr>\n",
       "  </tbody>\n",
       "</table>\n",
       "<p>173115 rows × 17 columns</p>\n",
       "</div>"
      ],
      "text/plain": [
       "        instrument       date   end_date     nav  cumulative_nav  adjust_nav  \\\n",
       "0       150221.ZOF 2020-01-02 2020-01-02  1.0000          1.3170      1.3530   \n",
       "1       150219.ZOF 2020-01-02 2020-01-02  1.0000          1.2900      1.3211   \n",
       "2       150123.ZOF 2020-01-02 2020-01-02  1.0003          1.4451      1.5027   \n",
       "3       150130.ZOF 2020-01-02 2020-01-02  1.0000          1.3803      1.4571   \n",
       "4       150190.ZOF 2020-01-02 2020-01-02  1.0000          1.3490      1.3438   \n",
       "...            ...        ...        ...     ...             ...         ...   \n",
       "205376  150236.ZOF 2020-12-31 2020-12-31  1.4260          0.1120      0.1298   \n",
       "205377  150302.ZOF 2020-12-31 2020-12-31  1.4216          0.1227      0.1227   \n",
       "205378  150172.ZOF 2020-12-31 2020-12-31  1.0666          2.8419      0.2492   \n",
       "205379  150224.ZOF 2020-12-31 2020-12-31  1.2690          0.0490      0.0552   \n",
       "205380  150178.ZOF 2020-12-31 2020-12-31  0.8440          2.2570      0.6390   \n",
       "\n",
       "       publish_date  nav_chg  nav_chg_pct  nav_chg_pct_adj    open    high  \\\n",
       "0        2020-01-02  -0.0650      -6.1033          -0.0074  1.8147  1.8198   \n",
       "1        2020-01-02  -0.0600      -5.6604           0.0000  1.9950  1.9950   \n",
       "2        2020-01-02  -0.0597      -5.6321           0.0332  2.2733  2.2754   \n",
       "3        2020-01-02  -0.0567      -5.3658           0.0274  1.3903  1.3969   \n",
       "4        2020-01-02  -0.0550      -5.2133           0.0000  1.2989  1.3725   \n",
       "...             ...      ...          ...              ...     ...     ...   \n",
       "205376   2020-12-31   0.0990       7.4604           7.4503  0.2241  0.2438   \n",
       "205377   2020-12-31   0.0991       7.4934           7.5372  0.2268  0.2386   \n",
       "205378   2020-12-31   0.0776       7.8463           7.8321  1.0804  1.1746   \n",
       "205379   2020-12-31   0.0950       8.0920           8.0234  0.2339  0.2526   \n",
       "205380   2020-12-31   0.0650       8.3440           8.3418  3.5514  3.8999   \n",
       "\n",
       "           low   close       volume        amount  adjust_factor  \n",
       "0       1.8130  1.8164    6494782.0  6.982747e+06       0.591830  \n",
       "1       1.9950  1.9950      39000.0  4.520100e+04       0.580952  \n",
       "2       2.2733  2.2733     407800.0  4.330704e+05       0.466722  \n",
       "3       1.3836  1.3969     499177.0  5.259953e+05       0.756675  \n",
       "4       1.2989  1.3663      26907.0  2.920381e+04       0.801435  \n",
       "...        ...     ...          ...           ...            ...  \n",
       "205376  0.2241  0.2408    2297568.0  3.152809e+06       5.739202  \n",
       "205377  0.2268  0.2360     691223.0  9.470867e+05       5.838983  \n",
       "205378  1.0804  1.1634  108671931.0  1.111816e+08       0.892212  \n",
       "205379  0.2339  0.2506  126755702.0  1.542177e+08       4.920191  \n",
       "205380  3.5514  3.8764    4804062.0  3.909175e+06       0.212310  \n",
       "\n",
       "[173115 rows x 17 columns]"
      ]
     },
     "execution_count": 9,
     "metadata": {},
     "output_type": "execute_result"
    }
   ],
   "source": [
    "m6.data.read()"
   ]
  },
  {
   "cell_type": "code",
   "execution_count": null,
   "metadata": {},
   "outputs": [],
   "source": []
  }
 ],
 "metadata": {
  "kernelspec": {
   "display_name": "Python 3",
   "language": "python",
   "name": "python3"
  },
  "language_info": {
   "codemirror_mode": {
    "name": "ipython",
    "version": 3
   },
   "file_extension": ".py",
   "mimetype": "text/x-python",
   "name": "python",
   "nbconvert_exporter": "python",
   "pygments_lexer": "ipython3",
   "version": "3.8.7"
  }
 },
 "nbformat": 4,
 "nbformat_minor": 4
}
