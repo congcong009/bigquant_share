{
 "cells": [
  {
   "cell_type": "code",
   "execution_count": 23,
   "metadata": {
    "machine_learning_studio": "true",
    "ml_studio_json": "{\"description\":\"实验创建于2018/10/18\",\"graph\":{\"edges\":[{\"to_node_id\":\"-401:instruments\",\"from_node_id\":\"-392:data_1\"},{\"to_node_id\":\"-612:instruments\",\"from_node_id\":\"-392:data_1\"},{\"to_node_id\":\"-635:instruments\",\"from_node_id\":\"-392:data_1\"},{\"to_node_id\":\"-612:options_data\",\"from_node_id\":\"-392:data_2\"},{\"to_node_id\":\"-415:input_data\",\"from_node_id\":\"-401:data\"},{\"to_node_id\":\"-224:input_data\",\"from_node_id\":\"-415:data\"},{\"to_node_id\":\"-965:features_ds\",\"from_node_id\":\"-645:data\"},{\"to_node_id\":\"-210:features\",\"from_node_id\":\"-645:data\"},{\"to_node_id\":\"-657:input_data\",\"from_node_id\":\"-650:data\"},{\"to_node_id\":\"-899:data2\",\"from_node_id\":\"-657:data\"},{\"to_node_id\":\"-650:instruments\",\"from_node_id\":\"-663:data\"},{\"to_node_id\":\"-883:instruments\",\"from_node_id\":\"-663:data\"},{\"to_node_id\":\"-899:data1\",\"from_node_id\":\"-883:data\"},{\"to_node_id\":\"-5069:input_data\",\"from_node_id\":\"-899:data\"},{\"to_node_id\":\"-635:options_data\",\"from_node_id\":\"-932:predictions\"},{\"to_node_id\":\"-650:features\",\"from_node_id\":\"-965:data\"},{\"to_node_id\":\"-657:features\",\"from_node_id\":\"-965:data\"},{\"to_node_id\":\"-401:features\",\"from_node_id\":\"-965:data\"},{\"to_node_id\":\"-415:features\",\"from_node_id\":\"-965:data\"},{\"to_node_id\":\"-202:input_data\",\"from_node_id\":\"-5069:data\"},{\"to_node_id\":\"-210:training_ds\",\"from_node_id\":\"-202:data\"},{\"to_node_id\":\"-932:model\",\"from_node_id\":\"-210:model\"},{\"to_node_id\":\"-932:data\",\"from_node_id\":\"-224:data\"}],\"nodes\":[{\"node_id\":\"-392\",\"module_id\":\"BigQuantSpace.cached.cached-v3\",\"parameters\":[{\"name\":\"run\",\"value\":\"# Python 代码入口函数，input_1/2/3 对应三个输入端，data_1/2/3 对应三个输出端\\ndef bigquant_run(input_1, input_2, input_3):\\n    import re\\n    import requests\\n    import json\\n    df1 = pd.DataFrame()\\n    url = \\\"http://fundf10.eastmoney.com/FundArchivesDatas.aspx?type=jjcc&code=004190&topline=10&year=&month=6&rt=0.6632225928306066\\\"\\n    response = requests.get(url)\\n    data = response.text\\n    ins_para = re.compile(\\\">([0-9]{6})<\\\")\\n    ins_list = ins_para.findall(data)\\n    instrument = [str(s) + '.SHA'  if s[0] == '6' else str(s) + '.SZA' for s in ins_list]\\n    percent_para = re.compile(\\\"<td class='tor'>([0-9]*.[0-9]*)%</td><td class='tor'>[0-9]*.[0-9]*</td><td class='tor'>[0-9]*.[0-9]*</td>\\\")\\n    percent_list = percent_para.findall(data)\\n    percent = [ float(s)/100 for s in percent_list ]\\n    print(instrument[:len(percent_list)], '\\\\n', percent)\\n    buy_list=pd.DataFrame({'instrument':instrument[:len(percent_list)],\\n                           'buy_percent':percent},\\n                          index=range(len(percent)))\\n    print(buy_list)\\n    #data_1输出证券代码列表\\n    data_1 = {'instruments':instrument,\\n            'start_date':'2018-03-31',\\n            'end_date':'2018-06-30'}\\n    #data_2输出招商基金的持仓量数据\\n    data_2 = DataSource().write_df(buy_list)\\n    return Outputs(data_1=data_1, data_2=data_2, data_3=None)\\n\",\"type\":\"Literal\",\"bound_global_parameter\":null},{\"name\":\"post_run\",\"value\":\"# 后处理函数，可选。输入是主函数的输出，可以在这里对数据做处理，或者返回更友好的outputs数据格式。此函数输出不会被缓存。\\ndef bigquant_run(outputs):\\n    return outputs\\n\",\"type\":\"Literal\",\"bound_global_parameter\":null},{\"name\":\"input_ports\",\"value\":\"\",\"type\":\"Literal\",\"bound_global_parameter\":null},{\"name\":\"params\",\"value\":\"{}\",\"type\":\"Literal\",\"bound_global_parameter\":null},{\"name\":\"output_ports\",\"value\":\"\",\"type\":\"Literal\",\"bound_global_parameter\":null}],\"input_ports\":[{\"name\":\"input_1\",\"node_id\":\"-392\"},{\"name\":\"input_2\",\"node_id\":\"-392\"},{\"name\":\"input_3\",\"node_id\":\"-392\"}],\"output_ports\":[{\"name\":\"data_1\",\"node_id\":\"-392\"},{\"name\":\"data_2\",\"node_id\":\"-392\"},{\"name\":\"data_3\",\"node_id\":\"-392\"}],\"cacheable\":true,\"seq_num\":1,\"comment\":\"招商基金证券代码列表\",\"comment_collapsed\":false},{\"node_id\":\"-401\",\"module_id\":\"BigQuantSpace.general_feature_extractor.general_feature_extractor-v7\",\"parameters\":[{\"name\":\"start_date\",\"value\":\"\",\"type\":\"Literal\",\"bound_global_parameter\":null},{\"name\":\"end_date\",\"value\":\"\",\"type\":\"Literal\",\"bound_global_parameter\":null},{\"name\":\"before_start_days\",\"value\":90,\"type\":\"Literal\",\"bound_global_parameter\":null}],\"input_ports\":[{\"name\":\"instruments\",\"node_id\":\"-401\"},{\"name\":\"features\",\"node_id\":\"-401\"}],\"output_ports\":[{\"name\":\"data\",\"node_id\":\"-401\"}],\"cacheable\":true,\"seq_num\":2,\"comment\":\"\",\"comment_collapsed\":true},{\"node_id\":\"-415\",\"module_id\":\"BigQuantSpace.derived_feature_extractor.derived_feature_extractor-v3\",\"parameters\":[{\"name\":\"date_col\",\"value\":\"date\",\"type\":\"Literal\",\"bound_global_parameter\":null},{\"name\":\"instrument_col\",\"value\":\"instrument\",\"type\":\"Literal\",\"bound_global_parameter\":null},{\"name\":\"drop_na\",\"value\":\"False\",\"type\":\"Literal\",\"bound_global_parameter\":null},{\"name\":\"remove_extra_columns\",\"value\":\"False\",\"type\":\"Literal\",\"bound_global_parameter\":null},{\"name\":\"user_functions\",\"value\":\"{}\",\"type\":\"Literal\",\"bound_global_parameter\":null}],\"input_ports\":[{\"name\":\"input_data\",\"node_id\":\"-415\"},{\"name\":\"features\",\"node_id\":\"-415\"}],\"output_ports\":[{\"name\":\"data\",\"node_id\":\"-415\"}],\"cacheable\":true,\"seq_num\":4,\"comment\":\"\",\"comment_collapsed\":true},{\"node_id\":\"-645\",\"module_id\":\"BigQuantSpace.input_features.input_features-v1\",\"parameters\":[{\"name\":\"features\",\"value\":\"# #号开始的表示注释\\n# 多个特征，每行一个，可以包含基础特征和衍生特征\\nreturn_5\\nreturn_10\\nreturn_20\\navg_amount_0/avg_amount_5\\navg_amount_5/avg_amount_20\\nrank_avg_amount_0/rank_avg_amount_5\\nrank_avg_amount_5/rank_avg_amount_10\\nrank_return_0\\nrank_return_5\\nrank_return_10\\nrank_return_0/rank_return_5\\nrank_return_5/rank_return_10\\npe_ttm_0\",\"type\":\"Literal\",\"bound_global_parameter\":null}],\"input_ports\":[{\"name\":\"features_ds\",\"node_id\":\"-645\"}],\"output_ports\":[{\"name\":\"data\",\"node_id\":\"-645\"}],\"cacheable\":false,\"seq_num\":3,\"comment\":\"\",\"comment_collapsed\":true},{\"node_id\":\"-650\",\"module_id\":\"BigQuantSpace.general_feature_extractor.general_feature_extractor-v7\",\"parameters\":[{\"name\":\"start_date\",\"value\":\"\",\"type\":\"Literal\",\"bound_global_parameter\":null},{\"name\":\"end_date\",\"value\":\"\",\"type\":\"Literal\",\"bound_global_parameter\":null},{\"name\":\"before_start_days\",\"value\":90,\"type\":\"Literal\",\"bound_global_parameter\":null}],\"input_ports\":[{\"name\":\"instruments\",\"node_id\":\"-650\"},{\"name\":\"features\",\"node_id\":\"-650\"}],\"output_ports\":[{\"name\":\"data\",\"node_id\":\"-650\"}],\"cacheable\":true,\"seq_num\":6,\"comment\":\"\",\"comment_collapsed\":true},{\"node_id\":\"-657\",\"module_id\":\"BigQuantSpace.derived_feature_extractor.derived_feature_extractor-v3\",\"parameters\":[{\"name\":\"date_col\",\"value\":\"date\",\"type\":\"Literal\",\"bound_global_parameter\":null},{\"name\":\"instrument_col\",\"value\":\"instrument\",\"type\":\"Literal\",\"bound_global_parameter\":null},{\"name\":\"drop_na\",\"value\":\"False\",\"type\":\"Literal\",\"bound_global_parameter\":null},{\"name\":\"remove_extra_columns\",\"value\":\"False\",\"type\":\"Literal\",\"bound_global_parameter\":null},{\"name\":\"user_functions\",\"value\":\"{}\",\"type\":\"Literal\",\"bound_global_parameter\":null}],\"input_ports\":[{\"name\":\"input_data\",\"node_id\":\"-657\"},{\"name\":\"features\",\"node_id\":\"-657\"}],\"output_ports\":[{\"name\":\"data\",\"node_id\":\"-657\"}],\"cacheable\":true,\"seq_num\":7,\"comment\":\"\",\"comment_collapsed\":true},{\"node_id\":\"-663\",\"module_id\":\"BigQuantSpace.instruments.instruments-v2\",\"parameters\":[{\"name\":\"start_date\",\"value\":\"2010-01-01\",\"type\":\"Literal\",\"bound_global_parameter\":null},{\"name\":\"end_date\",\"value\":\"2018-01-01\",\"type\":\"Literal\",\"bound_global_parameter\":null},{\"name\":\"market\",\"value\":\"CN_STOCK_A\",\"type\":\"Literal\",\"bound_global_parameter\":null},{\"name\":\"instrument_list\",\"value\":\"\",\"type\":\"Literal\",\"bound_global_parameter\":null},{\"name\":\"max_count\",\"value\":0,\"type\":\"Literal\",\"bound_global_parameter\":null}],\"input_ports\":[{\"name\":\"rolling_conf\",\"node_id\":\"-663\"}],\"output_ports\":[{\"name\":\"data\",\"node_id\":\"-663\"}],\"cacheable\":true,\"seq_num\":8,\"comment\":\"\",\"comment_collapsed\":true},{\"node_id\":\"-883\",\"module_id\":\"BigQuantSpace.advanced_auto_labeler.advanced_auto_labeler-v2\",\"parameters\":[{\"name\":\"label_expr\",\"value\":\"# #号开始的表示注释\\n# 0. 每行一个，顺序执行，从第二个开始，可以使用label字段\\n# 1. 可用数据字段见 https://bigquant.com/docs/data_history_data.html\\n#   添加benchmark_前缀，可使用对应的benchmark数据\\n# 2. 可用操作符和函数见 `表达式引擎 <https://bigquant.com/docs/big_expr.html>`_\\n\\n# 计算收益：5日收盘价(作为卖出价格)除以明日开盘价(作为买入价格)\\nshift(close, -10) / shift(open, -1)\\n\\n# 极值处理：用1%和99%分位的值做clip\\nclip(label, all_quantile(label, 0.01), all_quantile(label, 0.99))\\n\\n# 将分数映射到分类，这里使用20个分类\\nall_wbins(label, 20)\\n\\n# 过滤掉一字涨停的情况 (设置label为NaN，在后续处理和训练中会忽略NaN的label)\\nwhere(shift(high, -1) == shift(low, -1), NaN, label)\\n\",\"type\":\"Literal\",\"bound_global_parameter\":null},{\"name\":\"start_date\",\"value\":\"\",\"type\":\"Literal\",\"bound_global_parameter\":null},{\"name\":\"end_date\",\"value\":\"\",\"type\":\"Literal\",\"bound_global_parameter\":null},{\"name\":\"benchmark\",\"value\":\"000300.SHA\",\"type\":\"Literal\",\"bound_global_parameter\":null},{\"name\":\"drop_na_label\",\"value\":\"True\",\"type\":\"Literal\",\"bound_global_parameter\":null},{\"name\":\"cast_label_int\",\"value\":\"True\",\"type\":\"Literal\",\"bound_global_parameter\":null},{\"name\":\"user_functions\",\"value\":\"{}\",\"type\":\"Literal\",\"bound_global_parameter\":null}],\"input_ports\":[{\"name\":\"instruments\",\"node_id\":\"-883\"}],\"output_ports\":[{\"name\":\"data\",\"node_id\":\"-883\"}],\"cacheable\":true,\"seq_num\":9,\"comment\":\"\",\"comment_collapsed\":true},{\"node_id\":\"-899\",\"module_id\":\"BigQuantSpace.join.join-v3\",\"parameters\":[{\"name\":\"on\",\"value\":\"date,instrument\",\"type\":\"Literal\",\"bound_global_parameter\":null},{\"name\":\"how\",\"value\":\"inner\",\"type\":\"Literal\",\"bound_global_parameter\":null},{\"name\":\"sort\",\"value\":\"False\",\"type\":\"Literal\",\"bound_global_parameter\":null}],\"input_ports\":[{\"name\":\"data1\",\"node_id\":\"-899\"},{\"name\":\"data2\",\"node_id\":\"-899\"}],\"output_ports\":[{\"name\":\"data\",\"node_id\":\"-899\"}],\"cacheable\":true,\"seq_num\":11,\"comment\":\"\",\"comment_collapsed\":true},{\"node_id\":\"-932\",\"module_id\":\"BigQuantSpace.stock_ranker_predict.stock_ranker_predict-v5\",\"parameters\":[{\"name\":\"m_lazy_run\",\"value\":\"False\",\"type\":\"Literal\",\"bound_global_parameter\":null}],\"input_ports\":[{\"name\":\"model\",\"node_id\":\"-932\"},{\"name\":\"data\",\"node_id\":\"-932\"}],\"output_ports\":[{\"name\":\"predictions\",\"node_id\":\"-932\"},{\"name\":\"m_lazy_run\",\"node_id\":\"-932\"}],\"cacheable\":true,\"seq_num\":15,\"comment\":\"\",\"comment_collapsed\":true},{\"node_id\":\"-965\",\"module_id\":\"BigQuantSpace.input_features.input_features-v1\",\"parameters\":[{\"name\":\"features\",\"value\":\"\\n# #号开始的表示注释\\n# 多个特征，每行一个，可以包含基础特征和衍生特征\\nin_csi300_0\\n\",\"type\":\"Literal\",\"bound_global_parameter\":null}],\"input_ports\":[{\"name\":\"features_ds\",\"node_id\":\"-965\"}],\"output_ports\":[{\"name\":\"data\",\"node_id\":\"-965\"}],\"cacheable\":true,\"seq_num\":19,\"comment\":\"\",\"comment_collapsed\":true},{\"node_id\":\"-5069\",\"module_id\":\"BigQuantSpace.filter.filter-v3\",\"parameters\":[{\"name\":\"expr\",\"value\":\"in_csi300_0==1\",\"type\":\"Literal\",\"bound_global_parameter\":null},{\"name\":\"output_left_data\",\"value\":\"False\",\"type\":\"Literal\",\"bound_global_parameter\":null}],\"input_ports\":[{\"name\":\"input_data\",\"node_id\":\"-5069\"}],\"output_ports\":[{\"name\":\"data\",\"node_id\":\"-5069\"},{\"name\":\"left_data\",\"node_id\":\"-5069\"}],\"cacheable\":true,\"seq_num\":10,\"comment\":\"\",\"comment_collapsed\":true},{\"node_id\":\"-612\",\"module_id\":\"BigQuantSpace.trade.trade-v4\",\"parameters\":[{\"name\":\"start_date\",\"value\":\"\",\"type\":\"Literal\",\"bound_global_parameter\":null},{\"name\":\"end_date\",\"value\":\"\",\"type\":\"Literal\",\"bound_global_parameter\":null},{\"name\":\"initialize\",\"value\":\"# 回测引擎：初始化函数，只执行一次\\ndef bigquant_run(context):\\n    # 加载仓位数据\\n    context.buy_list = context.options['data'].read_df()\\n    context.extension['ix'] = 0\\n    # 系统已经设置了默认的交易手续费和滑点，要修改手续费可使用如下函数\\n    context.set_commission(PerOrder(buy_cost=0.0003, sell_cost=0.0013, min_cost=5))\",\"type\":\"Literal\",\"bound_global_parameter\":null},{\"name\":\"handle_data\",\"value\":\"# 回测引擎：每日数据处理函数，每天执行一次\\ndef bigquant_run(context, data):\\n    #买入并持有\\n    context.extension['ix'] += 1\\n    if  context.extension['ix'] != 1:\\n        return\\n    \\n    buy_list = dict(zip(context.buy_list.instrument,context.buy_list.buy_percent))\\n    \\n    for i,instrument in enumerate(buy_list):\\n        sid=symbol(instrument)\\n        order_target_percent(sid,buy_list[instrument])\\n        \\n    \",\"type\":\"Literal\",\"bound_global_parameter\":null},{\"name\":\"prepare\",\"value\":\"# 回测引擎：准备数据，只执行一次\\ndef bigquant_run(context):\\n    pass\",\"type\":\"Literal\",\"bound_global_parameter\":null},{\"name\":\"before_trading_start\",\"value\":\"# 回测引擎：每个单位时间开始前调用一次，即每日开盘前调用一次。\\ndef bigquant_run(context, data):\\n    pass\\n\",\"type\":\"Literal\",\"bound_global_parameter\":null},{\"name\":\"volume_limit\",\"value\":0.025,\"type\":\"Literal\",\"bound_global_parameter\":null},{\"name\":\"order_price_field_buy\",\"value\":\"open\",\"type\":\"Literal\",\"bound_global_parameter\":null},{\"name\":\"order_price_field_sell\",\"value\":\"close\",\"type\":\"Literal\",\"bound_global_parameter\":null},{\"name\":\"capital_base\",\"value\":\"1000000\",\"type\":\"Literal\",\"bound_global_parameter\":null},{\"name\":\"auto_cancel_non_tradable_orders\",\"value\":\"True\",\"type\":\"Literal\",\"bound_global_parameter\":null},{\"name\":\"data_frequency\",\"value\":\"daily\",\"type\":\"Literal\",\"bound_global_parameter\":null},{\"name\":\"price_type\",\"value\":\"后复权\",\"type\":\"Literal\",\"bound_global_parameter\":null},{\"name\":\"product_type\",\"value\":\"股票\",\"type\":\"Literal\",\"bound_global_parameter\":null},{\"name\":\"plot_charts\",\"value\":\"True\",\"type\":\"Literal\",\"bound_global_parameter\":null},{\"name\":\"backtest_only\",\"value\":\"False\",\"type\":\"Literal\",\"bound_global_parameter\":null},{\"name\":\"benchmark\",\"value\":\"\",\"type\":\"Literal\",\"bound_global_parameter\":null}],\"input_ports\":[{\"name\":\"instruments\",\"node_id\":\"-612\"},{\"name\":\"options_data\",\"node_id\":\"-612\"},{\"name\":\"history_ds\",\"node_id\":\"-612\"},{\"name\":\"benchmark_ds\",\"node_id\":\"-612\"},{\"name\":\"trading_calendar\",\"node_id\":\"-612\"}],\"output_ports\":[{\"name\":\"raw_perf\",\"node_id\":\"-612\"}],\"cacheable\":false,\"seq_num\":12,\"comment\":\"招商基金持仓回测结果\",\"comment_collapsed\":false},{\"node_id\":\"-635\",\"module_id\":\"BigQuantSpace.trade.trade-v4\",\"parameters\":[{\"name\":\"start_date\",\"value\":\"\",\"type\":\"Literal\",\"bound_global_parameter\":null},{\"name\":\"end_date\",\"value\":\"\",\"type\":\"Literal\",\"bound_global_parameter\":null},{\"name\":\"initialize\",\"value\":\"# 回测引擎：初始化函数，只执行一次\\ndef bigquant_run(context):\\n    # 加载预测数据\\n    context.ranker_prediction = context.options['data'].read_df()\\n\\n    # 系统已经设置了默认的交易手续费和滑点，要修改手续费可使用如下函数\\n    context.set_commission(PerOrder(buy_cost=0.0003, sell_cost=0.0013, min_cost=5))\\n    # 预测数据，通过options传入进来，使用 read_df 函数，加载到内存 (DataFrame)\\n    context.extension['ix'] = 0    \",\"type\":\"Literal\",\"bound_global_parameter\":null},{\"name\":\"handle_data\",\"value\":\"# 回测引擎：每日数据处理函数，每天执行一次\\ndef bigquant_run(context, data):\\n    #买入并持有\\n    context.extension['ix'] += 1\\n    if context.extension['ix'] % 10 != 1:\\n            return\\n    # 按日期过滤得到今日的预测数据\\n    ranker_prediction = context.ranker_prediction[\\n        context.ranker_prediction.date == data.current_dt.strftime('%Y-%m-%d')]\\n    buy_instruments = list(ranker_prediction.instrument)[:10]\\n    stock_count = len(buy_instruments)\\n    # 每只的股票的权重，如下的权重分配会使得靠前的股票分配多一点的资金，[0.339160, 0.213986, 0.169580, ..]\\n    stock_weights = T.norm([1 / math.log(i+2) for i in range(0, stock_count)])\\n    max_per_instrument = 0.15\\n    buy_list = dict(zip(buy_instruments,stock_weights))\\n    for i, instrument in enumerate(buy_list):\\n        if buy_list[instrument] > max_per_instrument:\\n            context.order_target_percent(symbol(instrument), max_per_instrument)\\n        else:\\n            context.order_target_percent(symbol(instrument), buy_list[instrument])\\n \\n    stock_hold_now = [equity.symbol for equity in context.portfolio.positions]\\n\\n    # 卖出\\n    for stock in stock_hold_now:\\n        if data.can_trade(context.symbol(stock)):\\n            # order_target_percent是平台的一个下单接口，表明下单使得该股票的权重为0，\\n            #   即卖出全部股票，可参考回测文档\\n            context.order_target_percent(context.symbol(stock), 0)\",\"type\":\"Literal\",\"bound_global_parameter\":null},{\"name\":\"prepare\",\"value\":\"# 回测引擎：准备数据，只执行一次\\ndef bigquant_run(context):\\n    pass\\n\",\"type\":\"Literal\",\"bound_global_parameter\":null},{\"name\":\"before_trading_start\",\"value\":\"# 回测引擎：每个单位时间开始前调用一次，即每日开盘前调用一次。\\ndef bigquant_run(context, data):\\n    pass\\n\",\"type\":\"Literal\",\"bound_global_parameter\":null},{\"name\":\"volume_limit\",\"value\":0.025,\"type\":\"Literal\",\"bound_global_parameter\":null},{\"name\":\"order_price_field_buy\",\"value\":\"open\",\"type\":\"Literal\",\"bound_global_parameter\":null},{\"name\":\"order_price_field_sell\",\"value\":\"close\",\"type\":\"Literal\",\"bound_global_parameter\":null},{\"name\":\"capital_base\",\"value\":1000000,\"type\":\"Literal\",\"bound_global_parameter\":null},{\"name\":\"auto_cancel_non_tradable_orders\",\"value\":\"True\",\"type\":\"Literal\",\"bound_global_parameter\":null},{\"name\":\"data_frequency\",\"value\":\"daily\",\"type\":\"Literal\",\"bound_global_parameter\":null},{\"name\":\"price_type\",\"value\":\"后复权\",\"type\":\"Literal\",\"bound_global_parameter\":null},{\"name\":\"product_type\",\"value\":\"股票\",\"type\":\"Literal\",\"bound_global_parameter\":null},{\"name\":\"plot_charts\",\"value\":\"True\",\"type\":\"Literal\",\"bound_global_parameter\":null},{\"name\":\"backtest_only\",\"value\":\"False\",\"type\":\"Literal\",\"bound_global_parameter\":null},{\"name\":\"benchmark\",\"value\":\"\",\"type\":\"Literal\",\"bound_global_parameter\":null}],\"input_ports\":[{\"name\":\"instruments\",\"node_id\":\"-635\"},{\"name\":\"options_data\",\"node_id\":\"-635\"},{\"name\":\"history_ds\",\"node_id\":\"-635\"},{\"name\":\"benchmark_ds\",\"node_id\":\"-635\"},{\"name\":\"trading_calendar\",\"node_id\":\"-635\"}],\"output_ports\":[{\"name\":\"raw_perf\",\"node_id\":\"-635\"}],\"cacheable\":false,\"seq_num\":16,\"comment\":\"\",\"comment_collapsed\":true},{\"node_id\":\"-202\",\"module_id\":\"BigQuantSpace.dropnan.dropnan-v2\",\"parameters\":[],\"input_ports\":[{\"name\":\"input_data\",\"node_id\":\"-202\"},{\"name\":\"features\",\"node_id\":\"-202\"}],\"output_ports\":[{\"name\":\"data\",\"node_id\":\"-202\"}],\"cacheable\":true,\"seq_num\":5,\"comment\":\"\",\"comment_collapsed\":true},{\"node_id\":\"-210\",\"module_id\":\"BigQuantSpace.stock_ranker_train.stock_ranker_train-v6\",\"parameters\":[{\"name\":\"learning_algorithm\",\"value\":\"排序\",\"type\":\"Literal\",\"bound_global_parameter\":null},{\"name\":\"number_of_leaves\",\"value\":\"30\",\"type\":\"Literal\",\"bound_global_parameter\":null},{\"name\":\"minimum_docs_per_leaf\",\"value\":\"1000\",\"type\":\"Literal\",\"bound_global_parameter\":null},{\"name\":\"number_of_trees\",\"value\":\"20\",\"type\":\"Literal\",\"bound_global_parameter\":null},{\"name\":\"learning_rate\",\"value\":0.1,\"type\":\"Literal\",\"bound_global_parameter\":null},{\"name\":\"max_bins\",\"value\":1023,\"type\":\"Literal\",\"bound_global_parameter\":null},{\"name\":\"feature_fraction\",\"value\":1,\"type\":\"Literal\",\"bound_global_parameter\":null},{\"name\":\"data_row_fraction\",\"value\":1,\"type\":\"Literal\",\"bound_global_parameter\":null},{\"name\":\"ndcg_discount_base\",\"value\":1,\"type\":\"Literal\",\"bound_global_parameter\":null},{\"name\":\"m_lazy_run\",\"value\":\"False\",\"type\":\"Literal\",\"bound_global_parameter\":null}],\"input_ports\":[{\"name\":\"training_ds\",\"node_id\":\"-210\"},{\"name\":\"features\",\"node_id\":\"-210\"},{\"name\":\"test_ds\",\"node_id\":\"-210\"},{\"name\":\"base_model\",\"node_id\":\"-210\"}],\"output_ports\":[{\"name\":\"model\",\"node_id\":\"-210\"},{\"name\":\"feature_gains\",\"node_id\":\"-210\"},{\"name\":\"m_lazy_run\",\"node_id\":\"-210\"}],\"cacheable\":true,\"seq_num\":18,\"comment\":\"\",\"comment_collapsed\":true},{\"node_id\":\"-224\",\"module_id\":\"BigQuantSpace.dropnan.dropnan-v2\",\"parameters\":[],\"input_ports\":[{\"name\":\"input_data\",\"node_id\":\"-224\"},{\"name\":\"features\",\"node_id\":\"-224\"}],\"output_ports\":[{\"name\":\"data\",\"node_id\":\"-224\"}],\"cacheable\":true,\"seq_num\":20,\"comment\":\"\",\"comment_collapsed\":true}],\"node_layout\":\"<node_postions><node_position Node='-392' Position='258,163,200,200'/><node_position Node='-401' Position='-39,349,200,200'/><node_position Node='-415' Position='33,489,200,200'/><node_position Node='-645' Position='-40,65,200,200'/><node_position Node='-650' Position='-523,297,200,200'/><node_position Node='-657' Position='-411,386,200,200'/><node_position Node='-663' Position='-697,164,200,200'/><node_position Node='-883' Position='-842,348,200,200'/><node_position Node='-899' Position='-658,472,200,200'/><node_position Node='-932' Position='-145,831,200,200'/><node_position Node='-965' Position='-277,173,200,200'/><node_position Node='-5069' Position='-607,560,200,200'/><node_position Node='-612' Position='359,346,200,200'/><node_position Node='-635' Position='-8,937,200,200'/><node_position Node='-202' Position='-570,646,200,200'/><node_position Node='-210' Position='-397,738,200,200'/><node_position Node='-224' Position='28,637,200,200'/></node_postions>\"},\"nodes_readonly\":false,\"studio_version\":\"v2\"}"
   },
   "outputs": [
    {
     "data": {
      "text/plain": [
       "[2021-08-22 11:14:16.927972] INFO: moduleinvoker: cached.v3 开始运行.."
      ]
     },
     "metadata": {
      "is_log": true,
      "status": "INFO"
     },
     "output_type": "display_data"
    },
    {
     "data": {
      "text/plain": [
       "[2021-08-22 11:14:16.934525] INFO: moduleinvoker: 命中缓存"
      ]
     },
     "metadata": {
      "is_log": true,
      "status": "INFO"
     },
     "output_type": "display_data"
    },
    {
     "data": {
      "text/plain": [
       "[2021-08-22 11:14:16.935793] INFO: moduleinvoker: cached.v3 运行完成[0.007832s]."
      ]
     },
     "metadata": {
      "is_log": true,
      "status": "INFO"
     },
     "output_type": "display_data"
    },
    {
     "data": {
      "text/plain": [
       "[2021-08-22 11:14:18.551350] INFO: moduleinvoker: backtest.v8 开始运行.."
      ]
     },
     "metadata": {
      "is_log": true,
      "status": "INFO"
     },
     "output_type": "display_data"
    },
    {
     "data": {
      "text/plain": [
       "[2021-08-22 11:14:18.556864] INFO: backtest: biglearning backtest:V8.5.0"
      ]
     },
     "metadata": {
      "is_log": true,
      "status": "INFO"
     },
     "output_type": "display_data"
    },
    {
     "data": {
      "text/plain": [
       "[2021-08-22 11:14:18.558105] INFO: backtest: product_type:stock by specified"
      ]
     },
     "metadata": {
      "is_log": true,
      "status": "INFO"
     },
     "output_type": "display_data"
    },
    {
     "data": {
      "text/plain": [
       "[2021-08-22 11:14:18.915468] INFO: moduleinvoker: cached.v2 开始运行.."
      ]
     },
     "metadata": {
      "is_log": true,
      "status": "INFO"
     },
     "output_type": "display_data"
    },
    {
     "data": {
      "text/plain": [
       "[2021-08-22 11:14:26.106672] INFO: backtest: 读取股票行情完成:96603"
      ]
     },
     "metadata": {
      "is_log": true,
      "status": "INFO"
     },
     "output_type": "display_data"
    },
    {
     "data": {
      "text/plain": [
       "[2021-08-22 11:14:26.317104] INFO: moduleinvoker: cached.v2 运行完成[7.401636s]."
      ]
     },
     "metadata": {
      "is_log": true,
      "status": "INFO"
     },
     "output_type": "display_data"
    },
    {
     "data": {
      "text/plain": [
       "[2021-08-22 11:14:26.429020] INFO: algo: TradingAlgorithm V1.8.5"
      ]
     },
     "metadata": {
      "is_log": true,
      "status": "INFO"
     },
     "output_type": "display_data"
    },
    {
     "data": {
      "text/plain": [
       "[2021-08-22 11:14:26.533935] INFO: algo: trading transform..."
      ]
     },
     "metadata": {
      "is_log": true,
      "status": "INFO"
     },
     "output_type": "display_data"
    },
    {
     "data": {
      "text/plain": [
       "[2021-08-22 11:14:26.687528] INFO: Performance: Simulated 60 trading days out of 60."
      ]
     },
     "metadata": {
      "is_log": true,
      "status": "INFO"
     },
     "output_type": "display_data"
    },
    {
     "data": {
      "text/plain": [
       "[2021-08-22 11:14:26.688937] INFO: Performance: first open: 2018-04-02 09:30:00+00:00"
      ]
     },
     "metadata": {
      "is_log": true,
      "status": "INFO"
     },
     "output_type": "display_data"
    },
    {
     "data": {
      "text/plain": [
       "[2021-08-22 11:14:26.690071] INFO: Performance: last close: 2018-06-29 15:00:00+00:00"
      ]
     },
     "metadata": {
      "is_log": true,
      "status": "INFO"
     },
     "output_type": "display_data"
    },
    {
     "data": {
      "text/html": [
       "<div id='bigchart-bd2df35aa2c34fdc9d6f5c94871eced3' class='bigchart display' style='display:none'><ul class='nav nav-tabs' style='padding-left: 0;'><li class='tabtitle' style='margin: 0;'><span style='margin: 0;font-size: 1.2em;display: inline-block;padding: 10px 10px;'>Trade(回测/模拟)</span></li><li class='active'><a>收益概况</a></li><li><a>交易详情</a></li><li><a>每日持仓和收益</a></li><li><a>输出日志</a></li></ul><div class='tab-content' style='min-height: 100px;text-align: center;'><div class='tab-pane active' id='收益概况'>\n",
       "<div class='kpicontainer'>\n",
       "    <ul class='kpi'>\n",
       "        <li><span class='title'>收益率</span><span class='value'>-0.52%</span></li>\n",
       "        <li><span class='title'>年化收益率</span><span class='value'>-2.16%</span></li>\n",
       "        <li><span class='title'>基准收益率</span><span class='value'>-9.94%</span></li>\n",
       "        <li><span class='title'>阿尔法</span><span class='value'>-0.02</span></li>\n",
       "        <li><span class='title'>贝塔</span><span class='value'>0.07</span></li>\n",
       "        <li><span class='title'>夏普比率</span><span class='value'>-3.53</span></li>\n",
       "        <li><span class='title'>胜率</span><span class='value'>0.0</span></li>\n",
       "        <li><span class='title'>盈亏比</span><span class='value'>0.0</span></li>\n",
       "        <li><span class='title'>收益波动率</span><span class='value'>1.46%</span></li>\n",
       "        <li><span class='title'>信息比率</span><span class='value'>0.15</span></li>\n",
       "        <li><span class='title'>最大回撤</span><span class='value'>1.02%</span></li>\n",
       "    </ul>\n",
       "</div>\n",
       "<div id=\"bigchart-83aba19e329b4a4ea0672cba7aef5a55\" class=\"bigchart\"></div><div class=\"bigchart-data\"><pre style=\"display:none\">bigcharts-data-start/{\"chart\":{\"height\":400,\"renderTo\":\"bigchart-83aba19e329b4a4ea0672cba7aef5a55\"},\"legend\":{\"enabled\":true,\"symbolHeight\":8,\"symbolWidth\":8,\"symbolPadding\":8,\"symbolRadius\":0},\"stock\":true,\"series\":[{\"name\":\"\\u7b56\\u7565\\u6536\\u76ca\\u7387\",\"yAxis\":0,\"data\":[[1522681200000,0.0],[1522767600000,0.0186],[1522854000000,0.0816],[1523286000000,0.1163],[1523372400000,0.3196],[1523458800000,0.355],[1523545200000,0.2559],[1523631600000,0.2101],[1523890800000,0.014],[1523977200000,-0.0803],[1524063600000,-0.0846],[1524150000000,0.0077],[1524236400000,-0.0577],[1524495600000,0.0231],[1524582000000,0.1463],[1524668400000,0.0795],[1524754800000,-0.092],[1524841200000,-0.1604],[1525273200000,-0.0896],[1525359600000,-0.022],[1525446000000,-0.1074],[1525705200000,-0.0023],[1525791600000,0.1118],[1525878000000,0.1095],[1525964400000,0.1381],[1526050800000,0.1196],[1526310000000,0.2314],[1526396400000,0.2207],[1526482800000,0.1226],[1526569200000,0.0516],[1526655600000,0.1288],[1526914800000,0.1359],[1527001200000,0.0936],[1527087600000,-0.0048],[1527174000000,-0.0994],[1527260400000,-0.1096],[1527519600000,-0.0754],[1527606000000,-0.1007],[1527692400000,-0.2223],[1527778800000,-0.0771],[1527865200000,-0.1192],[1528124400000,0.0253],[1528210800000,0.0855],[1528297200000,0.0109],[1528383600000,0.0243],[1528470000000,-0.0819],[1528729200000,-0.0211],[1528815600000,0.0761],[1528902000000,0.0377],[1528988400000,0.032],[1529074800000,0.0307],[1529420400000,-0.1719],[1529506800000,-0.1564],[1529593200000,-0.2259],[1529679600000,-0.2327],[1529938800000,-0.3211],[1530025200000,-0.3771],[1530111600000,-0.571],[1530198000000,-0.6712],[1530284400000,-0.5193]],\"color\":\"#ff0000\",\"tooltip\":{\"valueDecimals\":2,\"valueSuffix\":\" %\"},\"type\":\"area\",\"fillColor\":{\"linearGradient\":[0,0,0,1],\"stops\":[[0,\"rgba(238,149,148,0.5)\"],[1,\"rgba(238,149,148,0.5)\"]]}},{\"name\":\"\\u57fa\\u51c6\\u6536\\u76ca\\u7387\",\"yAxis\":0,\"data\":[[1522681200000,-0.297],[1522767600000,-0.9239],[1522854000000,-1.1193],[1523286000000,-1.1689],[1523372400000,0.7355],[1523458800000,1.0221],[1523545200000,0.0035],[1523631600000,-0.7016],[1523890800000,-2.2992],[1523977200000,-3.844],[1524063600000,-3.3915],[1524150000000,-2.2228],[1524236400000,-3.5307],[1524495600000,-3.3903],[1524582000000,-1.411],[1524668400000,-1.7904],[1524754800000,-3.6682],[1524841200000,-3.6327],[1525273200000,-3.4591],[1525359600000,-2.7061],[1525446000000,-3.1781],[1525705200000,-1.6496],[1525791600000,-0.5084],[1525878000000,-0.6896],[1525964400000,-0.1396],[1526050800000,-0.6582],[1526310000000,0.2769],[1526396400000,0.6566],[1526482800000,-0.145],[1526569200000,-0.8836],[1526655600000,0.1171],[1526914800000,0.5834],[1527001200000,0.1978],[1527087600000,-1.1265],[1527174000000,-1.8284],[1527260400000,-2.1034],[1527519600000,-1.6734],[1527606000000,-2.4237],[1527692400000,-4.4921],[1527778800000,-2.4656],[1527865200000,-3.281],[1528124400000,-2.3322],[1528210800000,-1.3641],[1528297200000,-1.5685],[1528383600000,-1.731],[1528470000000,-3.0494],[1528729200000,-3.04],[1528815600000,-1.8608],[1528902000000,-2.8257],[1528988400000,-3.2098],[1529074800000,-3.721],[1529420400000,-7.1151],[1529506800000,-6.7476],[1529593200000,-7.8372],[1529679600000,-7.4283],[1529938800000,-8.6705],[1530025200000,-9.4238],[1530111600000,-11.2668],[1530198000000,-12.1835],[1530284400000,-9.9401]],\"color\":\"#2776B6\",\"tooltip\":{\"valueDecimals\":2,\"valueSuffix\":\" %\"}},{\"name\":\"\\u76f8\\u5bf9\\u6536\\u76ca\\u7387\",\"yAxis\":0,\"data\":[[1522681200000,0.297],[1522767600000,0.9463],[1522854000000,1.209],[1523286000000,1.2948],[1523372400000,-0.4514],[1523458800000,-0.6994],[1523545200000,0.2037],[1523631600000,0.8645],[1523890800000,2.2899],[1523977200000,3.8107],[1524063600000,3.3178],[1524150000000,2.1634],[1524236400000,3.4631],[1524495600000,3.3963],[1524582000000,1.4053],[1524668400000,1.7278],[1524754800000,3.4985],[1524841200000,3.3896],[1525273200000,3.2767],[1525359600000,2.541],[1525446000000,2.9509],[1525705200000,1.4339],[1525791600000,0.3727],[1525878000000,0.5532],[1525964400000,0.025],[1526050800000,0.526],[1526310000000,-0.308],[1526396400000,-0.6961],[1526482800000,-0.0025],[1526569200000,0.6663],[1526655600000,-0.2724],[1526914800000,-0.7299],[1527001200000,-0.3912],[1527087600000,0.8274],[1527174000000,1.4478],[1527260400000,1.7215],[1527519600000,1.3096],[1527606000000,2.057],[1527692400000,4.0961],[1527778800000,2.0389],[1527865200000,2.8489],[1528124400000,1.9889],[1528210800000,1.0393],[1528297200000,1.1734],[1528383600000,1.354],[1528470000000,2.6061],[1528729200000,2.6587],[1528815600000,1.5099],[1528902000000,2.469],[1528988400000,2.8682],[1529074800000,3.4102],[1529420400000,6.8462],[1529506800000,6.44],[1529593200000,7.6096],[1529679600000,7.1249],[1529938800000,8.4675],[1530025200000,9.3011],[1530111600000,11.3125],[1530198000000,12.3502],[1530284400000,9.6519]],\"color\":\"#8f4e4f\",\"tooltip\":{\"valueDecimals\":2,\"valueSuffix\":\" %\"},\"visible\":false},{\"name\":\"\\u6301\\u4ed3\\u5360\\u6bd4\",\"yAxis\":1,\"data\":[[1522681200000,0.0],[1522767600000,6.0879],[1522854000000,6.147],[1523286000000,6.1795],[1523372400000,6.3696],[1523458800000,6.4027],[1523545200000,6.3102],[1523631600000,6.2674],[1523890800000,6.0836],[1523977200000,5.9949],[1524063600000,5.9909],[1524150000000,6.0776],[1524236400000,6.0162],[1524495600000,6.0921],[1524582000000,6.2076],[1524668400000,6.145],[1524754800000,5.9839],[1524841200000,5.9195],[1525273200000,5.9862],[1525359600000,6.0497],[1525446000000,5.9694],[1525705200000,6.0682],[1525791600000,6.1753],[1525878000000,6.1731],[1525964400000,6.1999],[1526050800000,6.1826],[1526310000000,6.2872],[1526396400000,6.2773],[1526482800000,6.1854],[1526569200000,6.1189],[1526655600000,6.1913],[1526914800000,6.1979],[1527001200000,6.1582],[1527087600000,6.0659],[1527174000000,5.9769],[1527260400000,5.9673],[1527519600000,5.9996],[1527606000000,5.9757],[1527692400000,5.8611],[1527778800000,5.9979],[1527865200000,5.9583],[1528124400000,6.0942],[1528210800000,6.1506],[1528297200000,6.0807],[1528383600000,6.0932],[1528470000000,5.9934],[1528729200000,6.0506],[1528815600000,6.1418],[1528902000000,6.1058],[1528988400000,6.1005],[1529074800000,6.0992],[1529420400000,5.9087],[1529506800000,5.9233],[1529593200000,5.8577],[1529679600000,5.8513],[1529938800000,5.7678],[1530025200000,5.7148],[1530111600000,5.531],[1530198000000,5.4357],[1530284400000,5.5801]],\"color\":\"#66ff99\",\"tooltip\":{\"valueDecimals\":2,\"valueSuffix\":\" %\"}}],\"xAxis\":{\"type\":\"datetime\"},\"yAxis\":[{\"labels\":{\"align\":\"right\",\"x\":-3,\"format\":\"{value}%\"},\"title\":{\"text\":\"\\u51c0\\u503c\\u66f2\\u7ebf\"},\"top\":\"0%\",\"height\":\"76%\",\"offset\":0,\"lineWidth\":2,\"gridLineColor\":\"#cfcfcf\",\"gridLineWidth\":1},{\"labels\":{\"align\":\"right\",\"x\":-3,\"format\":\"{value}%\"},\"title\":{\"text\":\"\\u6301\\u4ed3\\u5360\\u6bd4\"},\"top\":\"80%\",\"height\":\"19%\",\"offset\":0,\"lineWidth\":2,\"gridLineColor\":\"#cfcfcf\",\"gridLineWidth\":1}],\"plotOptions\":{\"series\":{\"showInNavigator\":true},\"area\":{\"showInNavigator\":true}},\"rangeSelector\":{\"enabled\":true},\"navigator\":{\"enabled\":true}}/bigcharts-data-end</pre></div></div><div class='tab-pane' id='交易详情'><table id=\"bigchart-54c5a24b99b7494291e767828cd8ac5f\" width=\"100%\" class=\"display bigchart\"></table><div class=\"bigchart-data\"><pre style=\"display:none\">bigcharts-data-start/{\"deferRender\":true,\"data\":[[\"2018-04-03\",\"09:30\",\"000001.SZA\",\"\\u5e73\\u5b89\\u94f6\\u884c\",\"\\u4e70\\u5165\",8.168,1126.873,9204.482,5],[\"\",\"09:30\",\"000725.SZA\",\"\\u4eac\\u4e1c\\u65b9A\",\"\\u4e70\\u5165\",449.126,24.685,11086.792,5],[\"\",\"09:30\",\"000858.SZA\",\"\\u4e94\\u7cae\\u6db2\",\"\\u4e70\\u5165\",10.538,1101.367,11606.654,5],[\"\",\"09:30\",\"601318.SHA\",\"\\u4e2d\\u56fd\\u5e73\\u5b89\",\"\\u4e70\\u5165\",80.564,146.087,11769.332,5],[\"\",\"09:30\",\"600036.SHA\",\"\\u62db\\u5546\\u94f6\\u884c\",\"\\u4e70\\u5165\",127.345,133.587,17011.584,5.1],[\"\",\"\",\"\",\"\",\"\",\"\",\"\\uff085 \\u7b14\\u4ea4\\u6613\",\"\\u4e70\\u5165 \\uffe560678.844\",\"\\u5356\\u51fa \\uffe50.0\\uff09\"]],\"columns\":[{\"title\":\"\\u65e5\\u671f\",\"orderable\":false},{\"title\":\"\\u65f6\\u95f4\",\"orderable\":false},{\"title\":\"\\u80a1\\u7968\\u4ee3\\u7801\",\"orderable\":false},{\"title\":\"\\u80a1\\u7968\\u540d\\u79f0\",\"orderable\":false},{\"title\":\"\\u4e70\\/\\u5356\",\"orderable\":false},{\"title\":\"\\u6570\\u91cf\",\"orderable\":false},{\"title\":\"\\u6210\\u4ea4\\u4ef7\",\"orderable\":false},{\"title\":\"\\u603b\\u6210\\u672c\",\"orderable\":false},{\"title\":\"\\u4ea4\\u6613\\u4f63\\u91d1\",\"orderable\":false}],\"searching\":false,\"info\":false,\"pageLength\":20,\"lengthChange\":false,\"order\":[],\"__type\":\"datatable\",\"__id\":\"bigchart-54c5a24b99b7494291e767828cd8ac5f\",\"language\":{\"sProcessing\":\"\\u5904\\u7406\\u4e2d...\",\"sLengthMenu\":\"\\u663e\\u793a _MENU_ \\u9879\\u7ed3\\u679c\",\"sZeroRecords\":\"\\u6ca1\\u6709\\u5339\\u914d\\u7ed3\\u679c\",\"sInfo\":\"\\u663e\\u793a\\u7b2c _START_ \\u81f3 _END_ \\u9879\\u7ed3\\u679c\\uff0c\\u5171 _TOTAL_ \\u9879\",\"sInfoEmpty\":\"\\u663e\\u793a\\u7b2c 0 \\u81f3 0 \\u9879\\u7ed3\\u679c\\uff0c\\u5171 0 \\u9879\",\"sInfoFiltered\":\"(\\u7531 _MAX_ \\u9879\\u7ed3\\u679c\\u8fc7\\u6ee4)\",\"sInfoPostFix\":\"\",\"sSearch\":\"\\u641c\\u7d22:\",\"sUrl\":\"\",\"sEmptyTable\":\"\\u8868\\u4e2d\\u6570\\u636e\\u4e3a\\u7a7a\",\"sLoadingRecords\":\"\\u8f7d\\u5165\\u4e2d...\",\"sInfoThousands\":\",\",\"oPaginate\":{\"sFirst\":\"\\u9996\\u9875\",\"sPrevious\":\"\\u4e0a\\u9875\",\"sNext\":\"\\u4e0b\\u9875\",\"sLast\":\"\\u672b\\u9875\"}},\"hasWholeData\":true}/bigcharts-data-end</pre></div></div><div class='tab-pane' id='每日持仓和收益'><table id=\"bigchart-4b7327095c434d77b60c1dd395402bc3\" width=\"100%\" class=\"display bigchart\"></table><div class=\"bigchart-data\"><pre style=\"display:none\">bigcharts-data-start/{\"deferRender\":true,\"data\":[[\"2018-06-29\",\"600036.SHA\",\"\\u62db\\u5546\\u94f6\\u884c\",133.587,\"122.385\",127.345,15585.114,-1426.474],[\"2018-06-29\",\"601318.SHA\",\"\\u4e2d\\u56fd\\u5e73\\u5b89\",146.087,\"136.385\",80.564,10987.699,-781.663],[\"2018-06-29\",\"000858.SZA\",\"\\u4e94\\u7cae\\u6db2\",1101.367,\"1270.165\",10.538,13385.003,1778.864],[\"2018-06-29\",\"000725.SZA\",\"\\u4eac\\u4e1c\\u65b9A\",24.685,\"17.054\",449.126,7659.522,-3427.263],[\"2018-06-29\",\"000001.SZA\",\"\\u5e73\\u5b89\\u94f6\\u884c\",1126.873,\"966.347\",8.168,7893.123,-1311.203],[\"\",\"\",\"\\uff08\\u603b\\u8d44\\u4ea7\\uffe5994807.157\",\"\\u5269\\u4f59\\u91d1\\u989d\\uffe5939296.052\",\"\\u5f53\\u65e5\\u4ea4\\u6613\\u4f63\\u91d1\\uffe50.0\\uff09\",\"\\uffe555510.461\",\"\\uffe5-5167.739\",null],[\"2018-06-28\",\"600036.SHA\",\"\\u62db\\u5546\\u94f6\\u884c\",133.587,\"119.654\",127.345,15237.338,-1774.251],[\"2018-06-28\",\"601318.SHA\",\"\\u4e2d\\u56fd\\u5e73\\u5b89\",146.087,\"132.310\",80.564,10659.456,-1109.905],[\"2018-06-28\",\"000858.SZA\",\"\\u4e94\\u7cae\\u6db2\",1101.367,\"1230.891\",10.538,12971.125,1364.971],[\"2018-06-28\",\"000725.SZA\",\"\\u4eac\\u4e1c\\u65b9A\",24.685,\"16.428\",449.126,7378.24,-3708.546],[\"2018-06-28\",\"000001.SZA\",\"\\u5e73\\u5b89\\u94f6\\u884c\",1126.873,\"948.275\",8.168,7745.506,-1458.822],[\"\",\"\",\"\\uff08\\u603b\\u8d44\\u4ea7\\uffe5993288.344\",\"\\u5269\\u4f59\\u91d1\\u989d\\uffe5939296.052\",\"\\u5f53\\u65e5\\u4ea4\\u6613\\u4f63\\u91d1\\uffe50.0\\uff09\",\"\\uffe553991.665\",\"\\uffe5-6686.553\",null],[\"2018-06-27\",\"600036.SHA\",\"\\u62db\\u5546\\u94f6\\u884c\",133.587,\"121.876\",127.345,15520.274,-1491.314],[\"2018-06-27\",\"601318.SHA\",\"\\u4e2d\\u56fd\\u5e73\\u5b89\",146.087,\"133.870\",80.564,10785.126,-984.235],[\"2018-06-27\",\"000858.SZA\",\"\\u4e94\\u7cae\\u6db2\",1101.367,\"1279.357\",10.538,13481.869,1875.733],[\"2018-06-27\",\"000725.SZA\",\"\\u4eac\\u4e1c\\u65b9A\",24.685,\"16.283\",449.126,7313.329,-3773.457],[\"2018-06-27\",\"000001.SZA\",\"\\u5e73\\u5b89\\u94f6\\u884c\",1126.873,\"966.347\",8.168,7893.123,-1311.203],[\"\",\"\",\"\\uff08\\u603b\\u8d44\\u4ea7\\uffe5994290.42\",\"\\u5269\\u4f59\\u91d1\\u989d\\uffe5939296.052\",\"\\u5f53\\u65e5\\u4ea4\\u6613\\u4f63\\u91d1\\uffe50.0\\uff09\",\"\\uffe554993.721\",\"\\uffe5-5684.476\",null],[\"2018-06-26\",\"600036.SHA\",\"\\u62db\\u5546\\u94f6\\u884c\",133.587,\"124.514\",127.345,15856.262,-1155.327],[\"2018-06-26\",\"601318.SHA\",\"\\u4e2d\\u56fd\\u5e73\\u5b89\",146.087,\"137.921\",80.564,11111.494,-657.868],[\"2018-06-26\",\"000858.SZA\",\"\\u4e94\\u7cae\\u6db2\",1101.367,\"1361.751\",10.538,14350.133,2744.031],[\"2018-06-26\",\"000725.SZA\",\"\\u4eac\\u4e1c\\u65b9A\",24.685,\"16.669\",449.126,7486.425,-3600.36],[\"2018-06-26\",\"000001.SZA\",\"\\u5e73\\u5b89\\u94f6\\u884c\",1126.873,\"995.050\",8.168,8127.572,-1076.75],[\"\",\"\",\"\\uff08\\u603b\\u8d44\\u4ea7\\uffe5996228.623\",\"\\u5269\\u4f59\\u91d1\\u989d\\uffe5939296.052\",\"\\u5f53\\u65e5\\u4ea4\\u6613\\u4f63\\u91d1\\uffe50.0\\uff09\",\"\\uffe556931.886\",\"\\uffe5-3746.274\",null],[\"2018-06-25\",\"600036.SHA\",\"\\u62db\\u5546\\u94f6\\u884c\",133.587,\"128.078\",127.345,16310.14,-701.449],[\"2018-06-25\",\"601318.SHA\",\"\\u4e2d\\u56fd\\u5e73\\u5b89\",146.087,\"139.202\",80.564,11214.656,-554.706],[\"2018-06-25\",\"000858.SZA\",\"\\u4e94\\u7cae\\u6db2\",1101.367,\"1372.280\",10.538,14461.087,2854.989],[\"2018-06-25\",\"000725.SZA\",\"\\u4eac\\u4e1c\\u65b9A\",24.685,\"16.235\",449.126,7291.691,-3795.095],[\"2018-06-25\",\"000001.SZA\",\"\\u5e73\\u5b89\\u94f6\\u884c\",1126.873,\"1005.681\",8.168,8214.405,-989.915],[\"\",\"\",\"\\uff08\\u603b\\u8d44\\u4ea7\\uffe5996788.722\",\"\\u5269\\u4f59\\u91d1\\u989d\\uffe5939296.052\",\"\\u5f53\\u65e5\\u4ea4\\u6613\\u4f63\\u91d1\\uffe50.0\\uff09\",\"\\uffe557491.979\",\"\\uffe5-3186.176\",null],[\"2018-06-22\",\"600036.SHA\",\"\\u62db\\u5546\\u94f6\\u884c\",133.587,\"132.476\",127.345,16870.119,-141.47],[\"2018-06-22\",\"601318.SHA\",\"\\u4e2d\\u56fd\\u5e73\\u5b89\",146.087,\"142.182\",80.564,11454.741,-314.621],[\"2018-06-22\",\"000858.SZA\",\"\\u4e94\\u7cae\\u6db2\",1101.367,\"1340.025\",10.538,14121.179,2515.068],[\"2018-06-22\",\"000725.SZA\",\"\\u4eac\\u4e1c\\u65b9A\",24.685,\"16.425\",449.126,7376.974,-3709.812],[\"2018-06-22\",\"000001.SZA\",\"\\u5e73\\u5b89\\u94f6\\u884c\",1126.873,\"1047.142\",8.168,8553.054,-651.259],[\"\",\"\",\"\\uff08\\u603b\\u8d44\\u4ea7\\uffe5997672.803\",\"\\u5269\\u4f59\\u91d1\\u989d\\uffe5939296.052\",\"\\u5f53\\u65e5\\u4ea4\\u6613\\u4f63\\u91d1\\uffe50.0\\uff09\",\"\\uffe558376.067\",\"\\uffe5-2302.094\",null],[\"2018-06-21\",\"600036.SHA\",\"\\u62db\\u5546\\u94f6\\u884c\",133.587,\"132.615\",127.345,16887.803,-123.785],[\"2018-06-21\",\"601318.SHA\",\"\\u4e2d\\u56fd\\u5e73\\u5b89\",146.087,\"142.228\",80.564,11458.493,-310.869],[\"2018-06-21\",\"000858.SZA\",\"\\u4e94\\u7cae\\u6db2\",1101.367,\"1351.723\",10.538,14244.461,2638.355],[\"2018-06-21\",\"000725.SZA\",\"\\u4eac\\u4e1c\\u65b9A\",24.685,\"16.235\",449.126,7291.691,-3795.095],[\"2018-06-21\",\"000001.SZA\",\"\\u5e73\\u5b89\\u94f6\\u884c\",1126.873,\"1048.205\",8.168,8561.737,-642.576],[\"\",\"\",\"\\uff08\\u603b\\u8d44\\u4ea7\\uffe5997740.927\",\"\\u5269\\u4f59\\u91d1\\u989d\\uffe5939296.052\",\"\\u5f53\\u65e5\\u4ea4\\u6613\\u4f63\\u91d1\\uffe50.0\\uff09\",\"\\uffe558444.185\",\"\\uffe5-2233.97\",null],[\"2018-06-20\",\"600036.SHA\",\"\\u62db\\u5546\\u94f6\\u884c\",133.587,\"131.967\",127.345,16805.281,-206.308],[\"2018-06-20\",\"601318.SHA\",\"\\u4e2d\\u56fd\\u5e73\\u5b89\",146.087,\"143.998\",80.564,11601.044,-168.319],[\"2018-06-20\",\"000858.SZA\",\"\\u4e94\\u7cae\\u6db2\",1101.367,\"1371.444\",10.538,14452.282,2846.184],[\"2018-06-20\",\"000725.SZA\",\"\\u4eac\\u4e1c\\u65b9A\",24.685,\"17.090\",449.126,7675.464,-3411.321],[\"2018-06-20\",\"000001.SZA\",\"\\u5e73\\u5b89\\u94f6\\u884c\",1126.873,\"1053.520\",8.168,8605.154,-599.158],[\"\",\"\",\"\\uff08\\u603b\\u8d44\\u4ea7\\uffe5998435.974\",\"\\u5269\\u4f59\\u91d1\\u989d\\uffe5939296.052\",\"\\u5f53\\u65e5\\u4ea4\\u6613\\u4f63\\u91d1\\uffe50.0\\uff09\",\"\\uffe559139.225\",\"\\uffe5-1538.922\",null],[\"2018-06-19\",\"600036.SHA\",\"\\u62db\\u5546\\u94f6\\u884c\",133.587,\"134.188\",127.345,17088.216,76.627],[\"2018-06-19\",\"601318.SHA\",\"\\u4e2d\\u56fd\\u5e73\\u5b89\",146.087,\"144.557\",80.564,11646.061,-123.302],[\"2018-06-19\",\"000858.SZA\",\"\\u4e94\\u7cae\\u6db2\",1101.367,\"1335.011\",10.538,14068.343,2462.231],[\"2018-06-19\",\"000725.SZA\",\"\\u4eac\\u4e1c\\u65b9A\",24.685,\"16.947\",449.126,7611.502,-3475.283],[\"2018-06-19\",\"000001.SZA\",\"\\u5e73\\u5b89\\u94f6\\u884c\",1126.873,\"1049.268\",8.168,8570.421,-633.892],[\"\",\"\",\"\\uff08\\u603b\\u8d44\\u4ea7\\uffe5998281.277\",\"\\u5269\\u4f59\\u91d1\\u989d\\uffe5939296.052\",\"\\u5f53\\u65e5\\u4ea4\\u6613\\u4f63\\u91d1\\uffe50.0\\uff09\",\"\\uffe558984.543\",\"\\uffe5-1693.619\",null],[\"2018-06-15\",\"600036.SHA\",\"\\u62db\\u5546\\u94f6\\u884c\",133.587,\"133.957\",127.345,17058.745,47.156],[\"2018-06-15\",\"601318.SHA\",\"\\u4e2d\\u56fd\\u5e73\\u5b89\",146.087,\"150.470\",80.564,12122.482,353.118],[\"2018-06-15\",\"000858.SZA\",\"\\u4e94\\u7cae\\u6db2\",1101.367,\"1391.333\",10.538,14661.862,3055.772],[\"2018-06-15\",\"000725.SZA\",\"\\u4eac\\u4e1c\\u65b9A\",24.685,\"18.561\",449.126,8336.407,-2750.378],[\"2018-06-15\",\"000001.SZA\",\"\\u5e73\\u5b89\\u94f6\\u884c\",1126.873,\"1081.161\",8.168,8830.919,-373.388],[\"\",\"\",\"\\uff08\\u603b\\u8d44\\u4ea7\\uffe51000307.177\",\"\\u5269\\u4f59\\u91d1\\u989d\\uffe5939296.052\",\"\\u5f53\\u65e5\\u4ea4\\u6613\\u4f63\\u91d1\\uffe50.0\\uff09\",\"\\uffe561010.415\",\"\\uffe5332.28\",null],[\"2018-06-14\",\"600036.SHA\",\"\\u62db\\u5546\\u94f6\\u884c\",133.587,\"132.244\",127.345,16840.648,-170.941],[\"2018-06-14\",\"601318.SHA\",\"\\u4e2d\\u56fd\\u5e73\\u5b89\",146.087,\"150.028\",80.564,12086.843,317.479],[\"2018-06-14\",\"000858.SZA\",\"\\u4e94\\u7cae\\u6db2\",1101.367,\"1410.719\",10.538,14866.159,3260.077],[\"2018-06-14\",\"000725.SZA\",\"\\u4eac\\u4e1c\\u65b9A\",24.685,\"18.894\",449.126,8485.653,-2601.132],[\"2018-06-14\",\"000001.SZA\",\"\\u5e73\\u5b89\\u94f6\\u884c\",1126.873,\"1070.530\",8.168,8744.086,-460.223],[\"\",\"\",\"\\uff08\\u603b\\u8d44\\u4ea7\\uffe51000320.157\",\"\\u5269\\u4f59\\u91d1\\u989d\\uffe5939296.052\",\"\\u5f53\\u65e5\\u4ea4\\u6613\\u4f63\\u91d1\\uffe50.0\\uff09\",\"\\uffe561023.389\",\"\\uffe5345.26\",null],[\"2018-06-13\",\"600036.SHA\",\"\\u62db\\u5546\\u94f6\\u884c\",133.587,\"132.892\",127.345,16923.17,-88.418],[\"2018-06-13\",\"601318.SHA\",\"\\u4e2d\\u56fd\\u5e73\\u5b89\",146.087,\"148.421\",80.564,11957.423,188.059],[\"2018-06-13\",\"000858.SZA\",\"\\u4e94\\u7cae\\u6db2\",1101.367,\"1428.435\",10.538,15052.845,3446.77],[\"2018-06-13\",\"000725.SZA\",\"\\u4eac\\u4e1c\\u65b9A\",24.685,\"18.941\",449.126,8506.973,-2579.812],[\"2018-06-13\",\"000001.SZA\",\"\\u5e73\\u5b89\\u94f6\\u884c\",1126.873,\"1057.773\",8.168,8639.886,-564.425],[\"\",\"\",\"\\uff08\\u603b\\u8d44\\u4ea7\\uffe51000377.071\",\"\\u5269\\u4f59\\u91d1\\u989d\\uffe5939296.052\",\"\\u5f53\\u65e5\\u4ea4\\u6613\\u4f63\\u91d1\\uffe50.0\\uff09\",\"\\uffe561080.297\",\"\\uffe5402.174\",null],[\"2018-06-12\",\"600036.SHA\",\"\\u62db\\u5546\\u94f6\\u884c\",133.587,\"133.031\",127.345,16940.853,-70.736],[\"2018-06-12\",\"601318.SHA\",\"\\u4e2d\\u56fd\\u5e73\\u5b89\",146.087,\"148.771\",80.564,11985.558,216.194],[\"2018-06-12\",\"000858.SZA\",\"\\u4e94\\u7cae\\u6db2\",1101.367,\"1437.292\",10.538,15146.188,3540.117],[\"2018-06-12\",\"000725.SZA\",\"\\u4eac\\u4e1c\\u65b9A\",24.685,\"19.273\",449.126,8656.218,-2430.566],[\"2018-06-12\",\"000001.SZA\",\"\\u5e73\\u5b89\\u94f6\\u884c\",1126.873,\"1069.467\",8.168,8735.403,-468.906],[\"\",\"\",\"\\uff08\\u603b\\u8d44\\u4ea7\\uffe51000760.999\",\"\\u5269\\u4f59\\u91d1\\u989d\\uffe5939296.052\",\"\\u5f53\\u65e5\\u4ea4\\u6613\\u4f63\\u91d1\\uffe50.0\\uff09\",\"\\uffe561464.22\",\"\\uffe5786.103\",null],[\"2018-06-11\",\"600036.SHA\",\"\\u62db\\u5546\\u94f6\\u884c\",133.587,\"132.522\",127.345,16876.014,-135.574],[\"2018-06-11\",\"601318.SHA\",\"\\u4e2d\\u56fd\\u5e73\\u5b89\",146.087,\"146.745\",80.564,11822.374,53.01],[\"2018-06-11\",\"000858.SZA\",\"\\u4e94\\u7cae\\u6db2\",1101.367,\"1378.464\",10.538,14526.251,2920.156],[\"2018-06-11\",\"000725.SZA\",\"\\u4eac\\u4e1c\\u65b9A\",24.685,\"19.036\",449.126,8549.614,-2537.17],[\"2018-06-11\",\"000001.SZA\",\"\\u5e73\\u5b89\\u94f6\\u884c\",1126.873,\"1067.340\",8.168,8718.036,-486.274],[\"\",\"\",\"\\uff08\\u603b\\u8d44\\u4ea7\\uffe5999789.045\",\"\\u5269\\u4f59\\u91d1\\u989d\\uffe5939296.052\",\"\\u5f53\\u65e5\\u4ea4\\u6613\\u4f63\\u91d1\\uffe50.0\\uff09\",\"\\uffe560492.289\",\"\\uffe5-185.852\",null],[\"2018-06-08\",\"600036.SHA\",\"\\u62db\\u5546\\u94f6\\u884c\",133.587,\"130.532\",127.345,16622.551,-389.038],[\"2018-06-08\",\"601318.SHA\",\"\\u4e2d\\u56fd\\u5e73\\u5b89\",146.087,\"145.255\",80.564,11702.33,-67.033],[\"2018-06-08\",\"000858.SZA\",\"\\u4e94\\u7cae\\u6db2\",1101.367,\"1343.534\",10.538,14158.163,2552.054],[\"2018-06-08\",\"000725.SZA\",\"\\u4eac\\u4e1c\\u65b9A\",24.685,\"19.179\",449.126,8613.576,-2473.208],[\"2018-06-08\",\"000001.SZA\",\"\\u5e73\\u5b89\\u94f6\\u884c\",1126.873,\"1075.845\",8.168,8787.503,-416.806],[\"\",\"\",\"\\uff08\\u603b\\u8d44\\u4ea7\\uffe5999180.866\",\"\\u5269\\u4f59\\u91d1\\u989d\\uffe5939296.052\",\"\\u5f53\\u65e5\\u4ea4\\u6613\\u4f63\\u91d1\\uffe50.0\\uff09\",\"\\uffe559884.123\",\"\\uffe5-794.031\",null],[\"2018-06-07\",\"600036.SHA\",\"\\u62db\\u5546\\u94f6\\u884c\",133.587,\"133.772\",127.345,17035.167,23.578],[\"2018-06-07\",\"601318.SHA\",\"\\u4e2d\\u56fd\\u5e73\\u5b89\",146.087,\"147.234\",80.564,11861.763,92.4],[\"2018-06-07\",\"000858.SZA\",\"\\u4e94\\u7cae\\u6db2\",1101.367,\"1351.222\",10.538,14239.178,2633.072],[\"2018-06-07\",\"000725.SZA\",\"\\u4eac\\u4e1c\\u65b9A\",24.685,\"19.606\",449.126,8805.464,-2281.321],[\"2018-06-07\",\"000001.SZA\",\"\\u5e73\\u5b89\\u94f6\\u884c\",1126.873,\"1102.422\",8.168,9004.585,-199.719],[\"\",\"\",\"\\uff08\\u603b\\u8d44\\u4ea7\\uffe51000242.906\",\"\\u5269\\u4f59\\u91d1\\u989d\\uffe5939296.052\",\"\\u5f53\\u65e5\\u4ea4\\u6613\\u4f63\\u91d1\\uffe50.0\\uff09\",\"\\uffe560946.157\",\"\\uffe5268.01\",null],[\"2018-06-06\",\"600036.SHA\",\"\\u62db\\u5546\\u94f6\\u884c\",133.587,\"133.309\",127.345,16976.222,-35.367],[\"2018-06-06\",\"601318.SHA\",\"\\u4e2d\\u56fd\\u5e73\\u5b89\",146.087,\"145.767\",80.564,11743.597,-25.766],[\"2018-06-06\",\"000858.SZA\",\"\\u4e94\\u7cae\\u6db2\",1101.367,\"1372.280\",10.538,14461.087,2854.989],[\"2018-06-06\",\"000725.SZA\",\"\\u4eac\\u4e1c\\u65b9A\",24.685,\"19.653\",449.126,8826.784,-2260.001],[\"2018-06-06\",\"000001.SZA\",\"\\u5e73\\u5b89\\u94f6\\u884c\",1126.873,\"1077.971\",8.168,8804.87,-399.438],[\"\",\"\",\"\\uff08\\u603b\\u8d44\\u4ea7\\uffe51000109.314\",\"\\u5269\\u4f59\\u91d1\\u989d\\uffe5939296.052\",\"\\u5f53\\u65e5\\u4ea4\\u6613\\u4f63\\u91d1\\uffe50.0\\uff09\",\"\\uffe560812.56\",\"\\uffe5134.417\",null],[\"2018-06-05\",\"600036.SHA\",\"\\u62db\\u5546\\u94f6\\u884c\",133.587,\"135.438\",127.345,17247.368,235.779],[\"2018-06-05\",\"601318.SHA\",\"\\u4e2d\\u56fd\\u5e73\\u5b89\",146.087,\"147.526\",80.564,11885.308,115.944],[\"2018-06-05\",\"000858.SZA\",\"\\u4e94\\u7cae\\u6db2\",1101.367,\"1383.812\",10.538,14582.608,2976.516],[\"2018-06-05\",\"000725.SZA\",\"\\u4eac\\u4e1c\\u65b9A\",24.685,\"19.891\",449.126,8933.387,-2153.397],[\"2018-06-05\",\"000001.SZA\",\"\\u5e73\\u5b89\\u94f6\\u884c\",1126.873,\"1090.728\",8.168,8909.069,-295.237],[\"\",\"\",\"\\uff08\\u603b\\u8d44\\u4ea7\\uffe51000854.502\",\"\\u5269\\u4f59\\u91d1\\u989d\\uffe5939296.052\",\"\\u5f53\\u65e5\\u4ea4\\u6613\\u4f63\\u91d1\\uffe50.0\\uff09\",\"\\uffe561557.74\",\"\\uffe5879.605\",null],[\"2018-06-04\",\"600036.SHA\",\"\\u62db\\u5546\\u94f6\\u884c\",133.587,\"135.392\",127.345,17241.475,229.886],[\"2018-06-04\",\"601318.SHA\",\"\\u4e2d\\u56fd\\u5e73\\u5b89\",146.087,\"145.128\",80.564,11692.066,-77.298],[\"2018-06-04\",\"000858.SZA\",\"\\u4e94\\u7cae\\u6db2\",1101.367,\"1367.099\",10.538,14406.491,2800.391],[\"2018-06-04\",\"000725.SZA\",\"\\u4eac\\u4e1c\\u65b9A\",24.685,\"19.368\",449.126,8698.86,-2387.924],[\"2018-06-04\",\"000001.SZA\",\"\\u5e73\\u5b89\\u94f6\\u884c\",1126.873,\"1091.791\",8.168,8917.752,-286.554],[\"\",\"\",\"\\uff08\\u603b\\u8d44\\u4ea7\\uffe51000253.398\",\"\\u5269\\u4f59\\u91d1\\u989d\\uffe5939296.052\",\"\\u5f53\\u65e5\\u4ea4\\u6613\\u4f63\\u91d1\\uffe50.0\\uff09\",\"\\uffe560956.644\",\"\\uffe5278.501\",null],[\"2018-06-01\",\"600036.SHA\",\"\\u62db\\u5546\\u94f6\\u884c\",133.587,\"132.383\",127.345,16858.33,-153.259],[\"2018-06-01\",\"601318.SHA\",\"\\u4e2d\\u56fd\\u5e73\\u5b89\",146.087,\"140.810\",80.564,11344.23,-425.132],[\"2018-06-01\",\"000858.SZA\",\"\\u4e94\\u7cae\\u6db2\",1101.367,\"1313.953\",10.538,13846.434,2240.313],[\"2018-06-01\",\"000725.SZA\",\"\\u4eac\\u4e1c\\u65b9A\",24.685,\"19.179\",449.126,8613.576,-2473.208],[\"2018-06-01\",\"000001.SZA\",\"\\u5e73\\u5b89\\u94f6\\u884c\",1126.873,\"1083.287\",8.168,8848.286,-356.021],[\"\",\"\",\"\\uff08\\u603b\\u8d44\\u4ea7\\uffe5998807.59\",\"\\u5269\\u4f59\\u91d1\\u989d\\uffe5939296.052\",\"\\u5f53\\u65e5\\u4ea4\\u6613\\u4f63\\u91d1\\uffe50.0\\uff09\",\"\\uffe559510.856\",\"\\uffe5-1167.307\",null],[\"2018-05-31\",\"600036.SHA\",\"\\u62db\\u5546\\u94f6\\u884c\",133.587,\"133.216\",127.345,16964.433,-47.156],[\"2018-05-31\",\"601318.SHA\",\"\\u4e2d\\u56fd\\u5e73\\u5b89\",146.087,\"141.930\",80.564,11434.41,-334.953],[\"2018-05-31\",\"000858.SZA\",\"\\u4e94\\u7cae\\u6db2\",1101.367,\"1319.969\",10.538,13909.836,2303.717],[\"2018-05-31\",\"000725.SZA\",\"\\u4eac\\u4e1c\\u65b9A\",24.685,\"19.558\",449.126,8784.143,-2302.642],[\"2018-05-31\",\"000001.SZA\",\"\\u5e73\\u5b89\\u94f6\\u884c\",1126.873,\"1082.224\",8.168,8839.603,-364.705],[\"\",\"\",\"\\uff08\\u603b\\u8d44\\u4ea7\\uffe5999229.159\",\"\\u5269\\u4f59\\u91d1\\u989d\\uffe5939296.052\",\"\\u5f53\\u65e5\\u4ea4\\u6613\\u4f63\\u91d1\\uffe50.0\\uff09\",\"\\uffe559932.425\",\"\\uffe5-745.739\",null],[\"2018-05-30\",\"600036.SHA\",\"\\u62db\\u5546\\u94f6\\u884c\",133.587,\"130.995\",127.345,16681.495,-330.093],[\"2018-05-30\",\"601318.SHA\",\"\\u4e2d\\u56fd\\u5e73\\u5b89\",146.087,\"138.549\",80.564,11162.031,-607.331],[\"2018-05-30\",\"000858.SZA\",\"\\u4e94\\u7cae\\u6db2\",1101.367,\"1283.536\",10.538,13525.899,1919.765],[\"2018-05-30\",\"000725.SZA\",\"\\u4eac\\u4e1c\\u65b9A\",24.685,\"18.609\",449.126,8357.728,-2729.057],[\"2018-05-30\",\"000001.SZA\",\"\\u5e73\\u5b89\\u94f6\\u884c\",1126.873,\"1071.593\",8.168,8752.77,-451.539],[\"\",\"\",\"\\uff08\\u603b\\u8d44\\u4ea7\\uffe5997776.642\",\"\\u5269\\u4f59\\u91d1\\u989d\\uffe5939296.052\",\"\\u5f53\\u65e5\\u4ea4\\u6613\\u4f63\\u91d1\\uffe50.0\\uff09\",\"\\uffe558479.923\",\"\\uffe5-2198.255\",null],[\"2018-05-29\",\"600036.SHA\",\"\\u62db\\u5546\\u94f6\\u884c\",133.587,\"133.957\",127.345,17058.745,47.156],[\"2018-05-29\",\"601318.SHA\",\"\\u4e2d\\u56fd\\u5e73\\u5b89\",146.087,\"142.501\",80.564,11480.42,-288.942],[\"2018-05-29\",\"000858.SZA\",\"\\u4e94\\u7cae\\u6db2\",1101.367,\"1275.848\",10.538,13444.884,1838.747],[\"2018-05-29\",\"000725.SZA\",\"\\u4eac\\u4e1c\\u65b9A\",24.685,\"19.368\",449.126,8698.86,-2387.924],[\"2018-05-29\",\"000001.SZA\",\"\\u5e73\\u5b89\\u94f6\\u884c\",1126.873,\"1103.485\",8.168,9013.268,-191.035],[\"\",\"\",\"\\uff08\\u603b\\u8d44\\u4ea7\\uffe5998992.898\",\"\\u5269\\u4f59\\u91d1\\u989d\\uffe5939296.052\",\"\\u5f53\\u65e5\\u4ea4\\u6613\\u4f63\\u91d1\\uffe50.0\\uff09\",\"\\uffe559696.177\",\"\\uffe5-981.998\",null],[\"2018-05-28\",\"600036.SHA\",\"\\u62db\\u5546\\u94f6\\u884c\",133.587,\"133.309\",127.345,16976.222,-35.367],[\"2018-05-28\",\"601318.SHA\",\"\\u4e2d\\u56fd\\u5e73\\u5b89\",146.087,\"142.775\",80.564,11502.505,-266.858],[\"2018-05-28\",\"000858.SZA\",\"\\u4e94\\u7cae\\u6db2\",1101.367,\"1294.399\",10.538,13640.375,2034.245],[\"2018-05-28\",\"000725.SZA\",\"\\u4eac\\u4e1c\\u65b9A\",24.685,\"19.226\",449.126,8634.897,-2451.887],[\"2018-05-28\",\"000001.SZA\",\"\\u5e73\\u5b89\\u94f6\\u884c\",1126.873,\"1125.810\",8.168,9195.618,-8.683],[\"\",\"\",\"\\uff08\\u603b\\u8d44\\u4ea7\\uffe5999246.348\",\"\\u5269\\u4f59\\u91d1\\u989d\\uffe5939296.052\",\"\\u5f53\\u65e5\\u4ea4\\u6613\\u4f63\\u91d1\\uffe50.0\\uff09\",\"\\uffe559949.617\",\"\\uffe5-728.55\",null],[\"2018-05-25\",\"600036.SHA\",\"\\u62db\\u5546\\u94f6\\u884c\",133.587,\"135.207\",127.345,17217.897,206.308],[\"2018-05-25\",\"601318.SHA\",\"\\u4e2d\\u56fd\\u5e73\\u5b89\",146.087,\"140.559\",80.564,11323.986,-445.376],[\"2018-05-25\",\"000858.SZA\",\"\\u4e94\\u7cae\\u6db2\",1101.367,\"1241.754\",10.538,13085.601,1479.451],[\"2018-05-25\",\"000725.SZA\",\"\\u4eac\\u4e1c\\u65b9A\",24.685,\"19.558\",449.126,8784.143,-2302.642],[\"2018-05-25\",\"000001.SZA\",\"\\u5e73\\u5b89\\u94f6\\u884c\",1126.873,\"1125.810\",8.168,9195.618,-8.683],[\"\",\"\",\"\\uff08\\u603b\\u8d44\\u4ea7\\uffe5998903.955\",\"\\u5269\\u4f59\\u91d1\\u989d\\uffe5939296.052\",\"\\u5f53\\u65e5\\u4ea4\\u6613\\u4f63\\u91d1\\uffe50.0\\uff09\",\"\\uffe559607.245\",\"\\uffe5-1070.942\",null],[\"2018-05-24\",\"600036.SHA\",\"\\u62db\\u5546\\u94f6\\u884c\",133.587,\"134.698\",127.345,17153.056,141.468],[\"2018-05-24\",\"601318.SHA\",\"\\u4e2d\\u56fd\\u5e73\\u5b89\",146.087,\"139.851\",80.564,11266.934,-502.428],[\"2018-05-24\",\"000858.SZA\",\"\\u4e94\\u7cae\\u6db2\",1101.367,\"1237.074\",10.538,13036.288,1430.136],[\"2018-05-24\",\"000725.SZA\",\"\\u4eac\\u4e1c\\u65b9A\",24.685,\"20.128\",449.126,9039.991,-2046.793],[\"2018-05-24\",\"000001.SZA\",\"\\u5e73\\u5b89\\u94f6\\u884c\",1126.873,\"1127.936\",8.168,9212.985,8.685],[\"\",\"\",\"\\uff08\\u603b\\u8d44\\u4ea7\\uffe5999005.963\",\"\\u5269\\u4f59\\u91d1\\u989d\\uffe5939296.052\",\"\\u5f53\\u65e5\\u4ea4\\u6613\\u4f63\\u91d1\\uffe50.0\\uff09\",\"\\uffe559709.254\",\"\\uffe5-968.932\",null],[\"2018-05-23\",\"600036.SHA\",\"\\u62db\\u5546\\u94f6\\u884c\",133.587,\"137.058\",127.345,17453.678,442.089],[\"2018-05-23\",\"601318.SHA\",\"\\u4e2d\\u56fd\\u5e73\\u5b89\",146.087,\"141.084\",80.564,11366.315,-403.048],[\"2018-05-23\",\"000858.SZA\",\"\\u4e94\\u7cae\\u6db2\",1101.367,\"1277.519\",10.538,13462.496,1856.36],[\"2018-05-23\",\"000725.SZA\",\"\\u4eac\\u4e1c\\u65b9A\",24.685,\"20.318\",449.126,9125.274,-1961.51],[\"2018-05-23\",\"000001.SZA\",\"\\u5e73\\u5b89\\u94f6\\u884c\",1126.873,\"1132.189\",8.168,9247.717,43.418],[\"\",\"\",\"\\uff08\\u603b\\u8d44\\u4ea7\\uffe5999952.206\",\"\\u5269\\u4f59\\u91d1\\u989d\\uffe5939296.052\",\"\\u5f53\\u65e5\\u4ea4\\u6613\\u4f63\\u91d1\\uffe50.0\\uff09\",\"\\uffe560655.48\",\"\\uffe5-22.691\",null],[\"2018-05-22\",\"600036.SHA\",\"\\u62db\\u5546\\u94f6\\u884c\",133.587,\"138.030\",127.345,17577.461,565.872],[\"2018-05-22\",\"601318.SHA\",\"\\u4e2d\\u56fd\\u5e73\\u5b89\",146.087,\"143.940\",80.564,11596.365,-172.998],[\"2018-05-22\",\"000858.SZA\",\"\\u4e94\\u7cae\\u6db2\",1101.367,\"1297.741\",10.538,13675.598,2069.47],[\"2018-05-22\",\"000725.SZA\",\"\\u4eac\\u4e1c\\u65b9A\",24.685,\"20.840\",449.126,9359.802,-1726.982],[\"2018-05-22\",\"000001.SZA\",\"\\u5e73\\u5b89\\u94f6\\u884c\",1126.873,\"1154.514\",8.168,9430.067,225.771],[\"\",\"\",\"\\uff08\\u603b\\u8d44\\u4ea7\\uffe51000936.031\",\"\\u5269\\u4f59\\u91d1\\u989d\\uffe5939296.052\",\"\\u5f53\\u65e5\\u4ea4\\u6613\\u4f63\\u91d1\\uffe50.0\\uff09\",\"\\uffe561639.293\",\"\\uffe5961.133\",null],[\"2018-05-21\",\"600036.SHA\",\"\\u62db\\u5546\\u94f6\\u884c\",133.587,\"140.113\",127.345,17842.716,831.127],[\"2018-05-21\",\"601318.SHA\",\"\\u4e2d\\u56fd\\u5e73\\u5b89\",146.087,\"145.425\",80.564,11715.992,-53.372],[\"2018-05-21\",\"000858.SZA\",\"\\u4e94\\u7cae\\u6db2\",1101.367,\"1289.886\",10.538,13592.824,1986.693],[\"2018-05-21\",\"000725.SZA\",\"\\u4eac\\u4e1c\\u65b9A\",24.685,\"20.935\",449.126,9402.444,-1684.34],[\"2018-05-21\",\"000001.SZA\",\"\\u5e73\\u5b89\\u94f6\\u884c\",1126.873,\"1164.081\",8.168,9508.217,303.923],[\"\",\"\",\"\\uff08\\u603b\\u8d44\\u4ea7\\uffe51001358.928\",\"\\u5269\\u4f59\\u91d1\\u989d\\uffe5939296.052\",\"\\u5f53\\u65e5\\u4ea4\\u6613\\u4f63\\u91d1\\uffe50.0\\uff09\",\"\\uffe562062.193\",\"\\uffe51384.031\",null],[\"2018-05-18\",\"600036.SHA\",\"\\u62db\\u5546\\u94f6\\u884c\",133.587,\"140.993\",127.345,17954.712,943.123],[\"2018-05-18\",\"601318.SHA\",\"\\u4e2d\\u56fd\\u5e73\\u5b89\",146.087,\"144.008\",80.564,11601.887,-167.476],[\"2018-05-18\",\"000858.SZA\",\"\\u4e94\\u7cae\\u6db2\",1101.367,\"1296.739\",10.538,13665.032,2058.904],[\"2018-05-18\",\"000725.SZA\",\"\\u4eac\\u4e1c\\u65b9A\",24.685,\"20.603\",449.126,9253.198,-1833.585],[\"2018-05-18\",\"000001.SZA\",\"\\u5e73\\u5b89\\u94f6\\u884c\",1126.873,\"1165.145\",8.168,9516.901,312.607],[\"\",\"\",\"\\uff08\\u603b\\u8d44\\u4ea7\\uffe51001288.469\",\"\\u5269\\u4f59\\u91d1\\u989d\\uffe5939296.052\",\"\\u5f53\\u65e5\\u4ea4\\u6613\\u4f63\\u91d1\\uffe50.0\\uff09\",\"\\uffe561991.73\",\"\\uffe51313.573\",null],[\"2018-05-17\",\"600036.SHA\",\"\\u62db\\u5546\\u94f6\\u884c\",133.587,\"137.938\",127.345,17565.672,554.083],[\"2018-05-17\",\"601318.SHA\",\"\\u4e2d\\u56fd\\u5e73\\u5b89\",146.087,\"141.633\",80.564,11410.485,-358.877],[\"2018-05-17\",\"000858.SZA\",\"\\u4e94\\u7cae\\u6db2\",1101.367,\"1288.048\",10.538,13573.45,1967.318],[\"2018-05-17\",\"000725.SZA\",\"\\u4eac\\u4e1c\\u65b9A\",24.685,\"20.650\",449.126,9274.519,-1812.264],[\"2018-05-17\",\"000001.SZA\",\"\\u5e73\\u5b89\\u94f6\\u884c\",1126.873,\"1150.261\",8.168,9395.334,191.037],[\"\",\"\",\"\\uff08\\u603b\\u8d44\\u4ea7\\uffe51000516.194\",\"\\u5269\\u4f59\\u91d1\\u989d\\uffe5939296.052\",\"\\u5f53\\u65e5\\u4ea4\\u6613\\u4f63\\u91d1\\uffe50.0\\uff09\",\"\\uffe561219.46\",\"\\uffe5541.297\",null],[\"2018-05-16\",\"600036.SHA\",\"\\u62db\\u5546\\u94f6\\u884c\",133.587,\"138.725\",127.345,17665.88,654.291],[\"2018-05-16\",\"601318.SHA\",\"\\u4e2d\\u56fd\\u5e73\\u5b89\",146.087,\"143.483\",80.564,11559.557,-209.806],[\"2018-05-16\",\"000858.SZA\",\"\\u4e94\\u7cae\\u6db2\",1101.367,\"1323.145\",10.538,13943.298,2337.181],[\"2018-05-16\",\"000725.SZA\",\"\\u4eac\\u4e1c\\u65b9A\",24.685,\"20.698\",449.126,9295.84,-1790.943],[\"2018-05-16\",\"000001.SZA\",\"\\u5e73\\u5b89\\u94f6\\u884c\",1126.873,\"1158.766\",8.168,9464.801,260.506],[\"\",\"\",\"\\uff08\\u603b\\u8d44\\u4ea7\\uffe51001226.125\",\"\\u5269\\u4f59\\u91d1\\u989d\\uffe5939296.052\",\"\\u5f53\\u65e5\\u4ea4\\u6613\\u4f63\\u91d1\\uffe50.0\\uff09\",\"\\uffe561929.376\",\"\\uffe51251.229\",null],[\"2018-05-15\",\"600036.SHA\",\"\\u62db\\u5546\\u94f6\\u884c\",133.587,\"141.456\",127.345,18013.657,1002.068],[\"2018-05-15\",\"601318.SHA\",\"\\u4e2d\\u56fd\\u5e73\\u5b89\",146.087,\"146.133\",80.564,11773.044,3.681],[\"2018-05-15\",\"000858.SZA\",\"\\u4e94\\u7cae\\u6db2\",1101.367,\"1326.654\",10.538,13980.284,2374.168],[\"2018-05-15\",\"000725.SZA\",\"\\u4eac\\u4e1c\\u65b9A\",24.685,\"21.125\",449.126,9487.727,-1599.057],[\"2018-05-15\",\"000001.SZA\",\"\\u5e73\\u5b89\\u94f6\\u884c\",1126.873,\"1182.154\",8.168,9655.833,451.542],[\"\",\"\",\"\\uff08\\u603b\\u8d44\\u4ea7\\uffe51002207.299\",\"\\u5269\\u4f59\\u91d1\\u989d\\uffe5939296.052\",\"\\u5f53\\u65e5\\u4ea4\\u6613\\u4f63\\u91d1\\uffe50.0\\uff09\",\"\\uffe562910.545\",\"\\uffe52232.402\",null],[\"2018-05-14\",\"600036.SHA\",\"\\u62db\\u5546\\u94f6\\u884c\",133.587,\"142.659\",127.345,18166.914,1155.325],[\"2018-05-14\",\"601318.SHA\",\"\\u4e2d\\u56fd\\u5e73\\u5b89\",146.087,\"146.430\",80.564,11796.969,27.605],[\"2018-05-14\",\"000858.SZA\",\"\\u4e94\\u7cae\\u6db2\",1101.367,\"1308.939\",10.538,13793.598,2187.474],[\"2018-05-14\",\"000725.SZA\",\"\\u4eac\\u4e1c\\u65b9A\",24.685,\"21.267\",449.126,9551.689,-1535.095],[\"2018-05-14\",\"000001.SZA\",\"\\u5e73\\u5b89\\u94f6\\u884c\",1126.873,\"1188.532\",8.168,9707.933,503.643],[\"\",\"\",\"\\uff08\\u603b\\u8d44\\u4ea7\\uffe51002313.849\",\"\\u5269\\u4f59\\u91d1\\u989d\\uffe5939296.052\",\"\\u5f53\\u65e5\\u4ea4\\u6613\\u4f63\\u91d1\\uffe50.0\\uff09\",\"\\uffe563017.103\",\"\\uffe52338.952\",null],[\"2018-05-11\",\"600036.SHA\",\"\\u62db\\u5546\\u94f6\\u884c\",133.587,\"139.234\",127.345,17730.72,719.131],[\"2018-05-11\",\"601318.SHA\",\"\\u4e2d\\u56fd\\u5e73\\u5b89\",146.087,\"144.145\",80.564,11612.929,-156.434],[\"2018-05-11\",\"000858.SZA\",\"\\u4e94\\u7cae\\u6db2\",1101.367,\"1287.881\",10.538,13571.688,1965.557],[\"2018-05-11\",\"000725.SZA\",\"\\u4eac\\u4e1c\\u65b9A\",24.685,\"20.982\",449.126,9423.765,-1663.019],[\"2018-05-11\",\"000001.SZA\",\"\\u5e73\\u5b89\\u94f6\\u884c\",1126.873,\"1170.460\",8.168,9560.316,356.023],[\"\",\"\",\"\\uff08\\u603b\\u8d44\\u4ea7\\uffe51001196.154\",\"\\u5269\\u4f59\\u91d1\\u989d\\uffe5939296.052\",\"\\u5f53\\u65e5\\u4ea4\\u6613\\u4f63\\u91d1\\uffe50.0\\uff09\",\"\\uffe561899.418\",\"\\uffe51221.258\",null],[\"2018-05-10\",\"600036.SHA\",\"\\u62db\\u5546\\u94f6\\u884c\",133.587,\"138.123\",127.345,17589.25,577.661],[\"2018-05-10\",\"601318.SHA\",\"\\u4e2d\\u56fd\\u5e73\\u5b89\",146.087,\"144.328\",80.564,11627.652,-141.711],[\"2018-05-10\",\"000858.SZA\",\"\\u4e94\\u7cae\\u6db2\",1101.367,\"1303.257\",10.538,13733.718,2127.592],[\"2018-05-10\",\"000725.SZA\",\"\\u4eac\\u4e1c\\u65b9A\",24.685,\"21.315\",449.126,9573.01,-1513.774],[\"2018-05-10\",\"000001.SZA\",\"\\u5e73\\u5b89\\u94f6\\u884c\",1126.873,\"1170.460\",8.168,9560.316,356.023],[\"\",\"\",\"\\uff08\\u603b\\u8d44\\u4ea7\\uffe51001380.689\",\"\\u5269\\u4f59\\u91d1\\u989d\\uffe5939296.052\",\"\\u5f53\\u65e5\\u4ea4\\u6613\\u4f63\\u91d1\\uffe50.0\\uff09\",\"\\uffe562083.946\",\"\\uffe51405.791\",null],[\"2018-05-09\",\"600036.SHA\",\"\\u62db\\u5546\\u94f6\\u884c\",133.587,\"137.706\",127.345,17536.201,524.612],[\"2018-05-09\",\"601318.SHA\",\"\\u4e2d\\u56fd\\u5e73\\u5b89\",146.087,\"143.803\",80.564,11585.323,-184.039],[\"2018-05-09\",\"000858.SZA\",\"\\u4e94\\u7cae\\u6db2\",1101.367,\"1274.344\",10.538,13429.033,1822.896],[\"2018-05-09\",\"000725.SZA\",\"\\u4eac\\u4e1c\\u65b9A\",24.685,\"21.647\",449.126,9722.255,-1364.528],[\"2018-05-09\",\"000001.SZA\",\"\\u5e73\\u5b89\\u94f6\\u884c\",1126.873,\"1166.207\",8.168,9525.582,321.288],[\"\",\"\",\"\\uff08\\u603b\\u8d44\\u4ea7\\uffe51001095.125\",\"\\u5269\\u4f59\\u91d1\\u989d\\uffe5939296.052\",\"\\u5f53\\u65e5\\u4ea4\\u6613\\u4f63\\u91d1\\uffe50.0\\uff09\",\"\\uffe561798.394\",\"\\uffe51120.229\",null],[\"2018-05-08\",\"600036.SHA\",\"\\u62db\\u5546\\u94f6\\u884c\",133.587,\"137.382\",127.345,17494.938,483.35],[\"2018-05-08\",\"601318.SHA\",\"\\u4e2d\\u56fd\\u5e73\\u5b89\",146.087,\"144.100\",80.564,11609.248,-160.115],[\"2018-05-08\",\"000858.SZA\",\"\\u4e94\\u7cae\\u6db2\",1101.367,\"1270.834\",10.538,13392.049,1785.91],[\"2018-05-08\",\"000725.SZA\",\"\\u4eac\\u4e1c\\u65b9A\",24.685,\"21.742\",449.126,9764.896,-1321.887],[\"2018-05-08\",\"000001.SZA\",\"\\u5e73\\u5b89\\u94f6\\u884c\",1126.873,\"1170.460\",8.168,9560.316,356.023],[\"\",\"\",\"\\uff08\\u603b\\u8d44\\u4ea7\\uffe51001118.177\",\"\\u5269\\u4f59\\u91d1\\u989d\\uffe5939296.052\",\"\\u5f53\\u65e5\\u4ea4\\u6613\\u4f63\\u91d1\\uffe50.0\\uff09\",\"\\uffe561821.447\",\"\\uffe51143.281\",null],[\"2018-05-07\",\"600036.SHA\",\"\\u62db\\u5546\\u94f6\\u884c\",133.587,\"133.911\",127.345,17052.849,41.26],[\"2018-05-07\",\"601318.SHA\",\"\\u4e2d\\u56fd\\u5e73\\u5b89\",146.087,\"139.782\",80.564,11261.413,-507.949],[\"2018-05-07\",\"000858.SZA\",\"\\u4e94\\u7cae\\u6db2\",1101.367,\"1270.165\",10.538,13385.003,1778.864],[\"2018-05-07\",\"000725.SZA\",\"\\u4eac\\u4e1c\\u65b9A\",24.685,\"21.362\",449.126,9594.33,-1492.453],[\"2018-05-07\",\"000001.SZA\",\"\\u5e73\\u5b89\\u94f6\\u884c\",1126.873,\"1149.198\",8.168,9386.649,182.353],[\"\",\"\",\"\\uff08\\u603b\\u8d44\\u4ea7\\uffe5999976.972\",\"\\u5269\\u4f59\\u91d1\\u989d\\uffe5939296.052\",\"\\u5f53\\u65e5\\u4ea4\\u6613\\u4f63\\u91d1\\uffe50.0\\uff09\",\"\\uffe560680.244\",\"\\uffe52.075\",null],[\"2018-05-04\",\"600036.SHA\",\"\\u62db\\u5546\\u94f6\\u884c\",133.587,\"133.031\",127.345,16940.853,-70.736],[\"2018-05-04\",\"601318.SHA\",\"\\u4e2d\\u56fd\\u5e73\\u5b89\",146.087,\"138.686\",80.564,11173.073,-596.288],[\"2018-05-04\",\"000858.SZA\",\"\\u4e94\\u7cae\\u6db2\",1101.367,\"1218.356\",10.538,12839.036,1232.876],[\"2018-05-04\",\"000725.SZA\",\"\\u4eac\\u4e1c\\u65b9A\",24.685,\"20.935\",449.126,9402.444,-1684.34],[\"2018-05-04\",\"000001.SZA\",\"\\u5e73\\u5b89\\u94f6\\u884c\",1126.873,\"1135.378\",8.168,9273.767,69.468],[\"\",\"\",\"\\uff08\\u603b\\u8d44\\u4ea7\\uffe5998925.877\",\"\\u5269\\u4f59\\u91d1\\u989d\\uffe5939296.052\",\"\\u5f53\\u65e5\\u4ea4\\u6613\\u4f63\\u91d1\\uffe50.0\\uff09\",\"\\uffe559629.173\",\"\\uffe5-1049.02\",null],[\"2018-05-03\",\"600036.SHA\",\"\\u62db\\u5546\\u94f6\\u884c\",133.587,\"135.623\",127.345,17270.946,259.357],[\"2018-05-03\",\"601318.SHA\",\"\\u4e2d\\u56fd\\u5e73\\u5b89\",146.087,\"140.353\",80.564,11307.422,-461.94],[\"2018-05-03\",\"000858.SZA\",\"\\u4e94\\u7cae\\u6db2\",1101.367,\"1233.397\",10.538,12997.542,1391.389],[\"2018-05-03\",\"000725.SZA\",\"\\u4eac\\u4e1c\\u65b9A\",24.685,\"21.315\",449.126,9573.01,-1513.774],[\"2018-05-03\",\"000001.SZA\",\"\\u5e73\\u5b89\\u94f6\\u884c\",1126.873,\"1142.819\",8.168,9334.549,130.252],[\"\",\"\",\"\\uff08\\u603b\\u8d44\\u4ea7\\uffe5999780.18\",\"\\u5269\\u4f59\\u91d1\\u989d\\uffe5939296.052\",\"\\u5f53\\u65e5\\u4ea4\\u6613\\u4f63\\u91d1\\uffe50.0\\uff09\",\"\\uffe560483.469\",\"\\uffe5-194.716\",null],[\"2018-05-02\",\"600036.SHA\",\"\\u62db\\u5546\\u94f6\\u884c\",133.587,\"136.827\",127.345,17424.205,412.616],[\"2018-05-02\",\"601318.SHA\",\"\\u4e2d\\u56fd\\u5e73\\u5b89\",146.087,\"140.125\",80.564,11289.018,-480.344],[\"2018-05-02\",\"000858.SZA\",\"\\u4e94\\u7cae\\u6db2\",1101.367,\"1190.279\",10.538,12543.157,936.985],[\"2018-05-02\",\"000725.SZA\",\"\\u4eac\\u4e1c\\u65b9A\",24.685,\"20.270\",449.126,9103.954,-1982.83],[\"2018-05-02\",\"000001.SZA\",\"\\u5e73\\u5b89\\u94f6\\u884c\",1126.873,\"1156.640\",8.168,9447.433,243.137],[\"\",\"\",\"\\uff08\\u603b\\u8d44\\u4ea7\\uffe5999104.461\",\"\\u5269\\u4f59\\u91d1\\u989d\\uffe5939296.052\",\"\\u5f53\\u65e5\\u4ea4\\u6613\\u4f63\\u91d1\\uffe50.0\\uff09\",\"\\uffe559807.767\",\"\\uffe5-870.436\",null],[\"2018-04-27\",\"600036.SHA\",\"\\u62db\\u5546\\u94f6\\u884c\",133.587,\"135.762\",127.345,17288.63,277.042],[\"2018-04-27\",\"601318.SHA\",\"\\u4e2d\\u56fd\\u5e73\\u5b89\",146.087,\"139.097\",80.564,11206.201,-563.161],[\"2018-04-27\",\"000858.SZA\",\"\\u4e94\\u7cae\\u6db2\",1101.367,\"1136.130\",10.538,11972.533,366.34],[\"2018-04-27\",\"000725.SZA\",\"\\u4eac\\u4e1c\\u65b9A\",24.685,\"20.508\",449.126,9210.558,-1876.226],[\"2018-04-27\",\"000001.SZA\",\"\\u5e73\\u5b89\\u94f6\\u884c\",1126.873,\"1153.450\",8.168,9421.383,217.087],[\"\",\"\",\"\\uff08\\u603b\\u8d44\\u4ea7\\uffe5998395.978\",\"\\u5269\\u4f59\\u91d1\\u989d\\uffe5939296.052\",\"\\u5f53\\u65e5\\u4ea4\\u6613\\u4f63\\u91d1\\uffe50.0\\uff09\",\"\\uffe559099.305\",\"\\uffe5-1578.918\",null],[\"2018-04-26\",\"600036.SHA\",\"\\u62db\\u5546\\u94f6\\u884c\",133.587,\"133.309\",127.345,16976.222,-35.367],[\"2018-04-26\",\"601318.SHA\",\"\\u4e2d\\u56fd\\u5e73\\u5b89\",146.087,\"144.191\",80.564,11616.609,-152.754],[\"2018-04-26\",\"000858.SZA\",\"\\u4e94\\u7cae\\u6db2\",1101.367,\"1154.848\",10.538,12169.786,563.6],[\"2018-04-26\",\"000725.SZA\",\"\\u4eac\\u4e1c\\u65b9A\",24.685,\"20.270\",449.126,9103.954,-1982.83],[\"2018-04-26\",\"000001.SZA\",\"\\u5e73\\u5b89\\u94f6\\u884c\",1126.873,\"1214.046\",8.168,9916.331,712.045],[\"\",\"\",\"\\uff08\\u603b\\u8d44\\u4ea7\\uffe5999079.591\",\"\\u5269\\u4f59\\u91d1\\u989d\\uffe5939296.052\",\"\\u5f53\\u65e5\\u4ea4\\u6613\\u4f63\\u91d1\\uffe50.0\\uff09\",\"\\uffe559782.902\",\"\\uffe5-895.306\",null],[\"2018-04-25\",\"600036.SHA\",\"\\u62db\\u5546\\u94f6\\u884c\",133.587,\"133.401\",127.345,16988.011,-23.578],[\"2018-04-25\",\"601318.SHA\",\"\\u4e2d\\u56fd\\u5e73\\u5b89\",146.087,\"149.628\",80.564,12054.626,285.262],[\"2018-04-25\",\"000858.SZA\",\"\\u4e94\\u7cae\\u6db2\",1101.367,\"1208.997\",10.538,12740.41,1134.246],[\"2018-04-25\",\"000725.SZA\",\"\\u4eac\\u4e1c\\u65b9A\",24.685,\"21.315\",449.126,9573.01,-1513.774],[\"2018-04-25\",\"000001.SZA\",\"\\u5e73\\u5b89\\u94f6\\u884c\",1126.873,\"1241.687\",8.168,10142.097,937.815],[\"\",\"\",\"\\uff08\\u603b\\u8d44\\u4ea7\\uffe51000794.867\",\"\\u5269\\u4f59\\u91d1\\u989d\\uffe5939296.052\",\"\\u5f53\\u65e5\\u4ea4\\u6613\\u4f63\\u91d1\\uffe50.0\\uff09\",\"\\uffe561498.154\",\"\\uffe5819.971\",null],[\"2018-04-24\",\"600036.SHA\",\"\\u62db\\u5546\\u94f6\\u884c\",133.587,\"133.587\",127.345,17011.589,0.0],[\"2018-04-24\",\"601318.SHA\",\"\\u4e2d\\u56fd\\u5e73\\u5b89\",146.087,\"152.049\",80.564,12249.707,480.343],[\"2018-04-24\",\"000858.SZA\",\"\\u4e94\\u7cae\\u6db2\",1101.367,\"1210.501\",10.538,12756.261,1150.097],[\"2018-04-24\",\"000725.SZA\",\"\\u4eac\\u4e1c\\u65b9A\",24.685,\"21.932\",449.126,9850.18,-1236.604],[\"2018-04-24\",\"000001.SZA\",\"\\u5e73\\u5b89\\u94f6\\u884c\",1126.873,\"1260.822\",8.168,10298.396,1094.118],[\"\",\"\",\"\\uff08\\u603b\\u8d44\\u4ea7\\uffe51001462.851\",\"\\u5269\\u4f59\\u91d1\\u989d\\uffe5939296.052\",\"\\u5f53\\u65e5\\u4ea4\\u6613\\u4f63\\u91d1\\uffe50.0\\uff09\",\"\\uffe562166.133\",\"\\uffe51487.954\",null],[\"2018-04-23\",\"600036.SHA\",\"\\u62db\\u5546\\u94f6\\u884c\",133.587,\"130.948\",127.345,16675.6,-335.989],[\"2018-04-23\",\"601318.SHA\",\"\\u4e2d\\u56fd\\u5e73\\u5b89\",146.087,\"148.463\",80.564,11960.764,191.4],[\"2018-04-23\",\"000858.SZA\",\"\\u4e94\\u7cae\\u6db2\",1101.367,\"1164.708\",10.538,12273.696,667.514],[\"2018-04-23\",\"000725.SZA\",\"\\u4eac\\u4e1c\\u65b9A\",24.685,\"22.217\",449.126,9978.103,-1108.68],[\"2018-04-23\",\"000001.SZA\",\"\\u5e73\\u5b89\\u94f6\\u884c\",1126.873,\"1229.993\",8.168,10046.58,842.297],[\"\",\"\",\"\\uff08\\u603b\\u8d44\\u4ea7\\uffe51000231.439\",\"\\u5269\\u4f59\\u91d1\\u989d\\uffe5939296.052\",\"\\u5f53\\u65e5\\u4ea4\\u6613\\u4f63\\u91d1\\uffe50.0\\uff09\",\"\\uffe560934.743\",\"\\uffe5256.542\",null],[\"2018-04-20\",\"600036.SHA\",\"\\u62db\\u5546\\u94f6\\u884c\",133.587,\"130.578\",127.345,16628.444,-383.144],[\"2018-04-20\",\"601318.SHA\",\"\\u4e2d\\u56fd\\u5e73\\u5b89\",146.087,\"146.544\",80.564,11806.171,36.808],[\"2018-04-20\",\"000858.SZA\",\"\\u4e94\\u7cae\\u6db2\",1101.367,\"1163.706\",10.538,12263.129,656.947],[\"2018-04-20\",\"000725.SZA\",\"\\u4eac\\u4e1c\\u65b9A\",24.685,\"21.315\",449.126,9573.01,-1513.774],[\"2018-04-20\",\"000001.SZA\",\"\\u5e73\\u5b89\\u94f6\\u884c\",1126.873,\"1206.605\",8.168,9855.547,651.26],[\"\",\"\",\"\\uff08\\u603b\\u8d44\\u4ea7\\uffe5999422.993\",\"\\u5269\\u4f59\\u91d1\\u989d\\uffe5939296.052\",\"\\u5f53\\u65e5\\u4ea4\\u6613\\u4f63\\u91d1\\uffe50.0\\uff09\",\"\\uffe560126.301\",\"\\uffe5-551.903\",null],[\"2018-04-19\",\"600036.SHA\",\"\\u62db\\u5546\\u94f6\\u884c\",133.587,\"130.717\",127.345,16646.129,-365.46],[\"2018-04-19\",\"601318.SHA\",\"\\u4e2d\\u56fd\\u5e73\\u5b89\",146.087,\"147.298\",80.564,11866.904,97.54],[\"2018-04-19\",\"000858.SZA\",\"\\u4e94\\u7cae\\u6db2\",1101.367,\"1176.073\",10.538,12393.456,787.279],[\"2018-04-19\",\"000725.SZA\",\"\\u4eac\\u4e1c\\u65b9A\",24.685,\"22.074\",449.126,9914.142,-1172.642],[\"2018-04-19\",\"000001.SZA\",\"\\u5e73\\u5b89\\u94f6\\u884c\",1126.873,\"1219.362\",8.168,9959.747,755.462],[\"\",\"\",\"\\uff08\\u603b\\u8d44\\u4ea7\\uffe51000077.076\",\"\\u5269\\u4f59\\u91d1\\u989d\\uffe5939296.052\",\"\\u5f53\\u65e5\\u4ea4\\u6613\\u4f63\\u91d1\\uffe50.0\\uff09\",\"\\uffe560780.378\",\"\\uffe5102.179\",null],[\"2018-04-18\",\"600036.SHA\",\"\\u62db\\u5546\\u94f6\\u884c\",133.587,\"130.254\",127.345,16587.182,-424.407],[\"2018-04-18\",\"601318.SHA\",\"\\u4e2d\\u56fd\\u5e73\\u5b89\",146.087,\"145.082\",80.564,11688.385,-80.978],[\"2018-04-18\",\"000858.SZA\",\"\\u4e94\\u7cae\\u6db2\",1101.367,\"1108.554\",10.538,11681.938,75.733],[\"2018-04-18\",\"000725.SZA\",\"\\u4eac\\u4e1c\\u65b9A\",24.685,\"22.074\",449.126,9914.142,-1172.642],[\"2018-04-18\",\"000001.SZA\",\"\\u5e73\\u5b89\\u94f6\\u884c\",1126.873,\"1222.551\",8.168,9985.798,781.513],[\"\",\"\",\"\\uff08\\u603b\\u8d44\\u4ea7\\uffe5999154.116\",\"\\u5269\\u4f59\\u91d1\\u989d\\uffe5939296.052\",\"\\u5f53\\u65e5\\u4ea4\\u6613\\u4f63\\u91d1\\uffe50.0\\uff09\",\"\\uffe559857.445\",\"\\uffe5-820.781\",null],[\"2018-04-17\",\"600036.SHA\",\"\\u62db\\u5546\\u94f6\\u884c\",133.587,\"128.171\",127.345,16321.929,-689.66],[\"2018-04-17\",\"601318.SHA\",\"\\u4e2d\\u56fd\\u5e73\\u5b89\",146.087,\"144.214\",80.564,11618.45,-150.913],[\"2018-04-17\",\"000858.SZA\",\"\\u4e94\\u7cae\\u6db2\",1101.367,\"1119.751\",10.538,11799.937,193.737],[\"2018-04-17\",\"000725.SZA\",\"\\u4eac\\u4e1c\\u65b9A\",24.685,\"23.214\",449.126,10425.839,-660.944],[\"2018-04-17\",\"000001.SZA\",\"\\u5e73\\u5b89\\u94f6\\u884c\",1126.873,\"1191.722\",8.168,9733.982,529.692],[\"\",\"\",\"\\uff08\\u603b\\u8d44\\u4ea7\\uffe5999196.809\",\"\\u5269\\u4f59\\u91d1\\u989d\\uffe5939296.052\",\"\\u5f53\\u65e5\\u4ea4\\u6613\\u4f63\\u91d1\\uffe50.0\\uff09\",\"\\uffe559900.137\",\"\\uffe5-778.088\",null],[\"2018-04-16\",\"600036.SHA\",\"\\u62db\\u5546\\u94f6\\u884c\",133.587,\"130.115\",127.345,16569.499,-442.089],[\"2018-04-16\",\"601318.SHA\",\"\\u4e2d\\u56fd\\u5e73\\u5b89\",146.087,\"146.887\",80.564,11833.777,64.413],[\"2018-04-16\",\"000858.SZA\",\"\\u4e94\\u7cae\\u6db2\",1101.367,\"1135.962\",10.538,11970.772,364.578],[\"2018-04-16\",\"000725.SZA\",\"\\u4eac\\u4e1c\\u65b9A\",24.685,\"24.116\",449.126,10830.933,-255.849],[\"2018-04-16\",\"000001.SZA\",\"\\u5e73\\u5b89\\u94f6\\u884c\",1126.873,\"1180.028\",8.168,9638.465,434.174],[\"\",\"\",\"\\uff08\\u603b\\u8d44\\u4ea7\\uffe51000140.123\",\"\\u5269\\u4f59\\u91d1\\u989d\\uffe5939296.052\",\"\\u5f53\\u65e5\\u4ea4\\u6613\\u4f63\\u91d1\\uffe50.0\\uff09\",\"\\uffe560843.446\",\"\\uffe5165.227\",null],[\"2018-04-13\",\"600036.SHA\",\"\\u62db\\u5546\\u94f6\\u884c\",133.587,\"136.734\",127.345,17412.416,400.827],[\"2018-04-13\",\"601318.SHA\",\"\\u4e2d\\u56fd\\u5e73\\u5b89\",146.087,\"151.181\",80.564,12179.772,410.407],[\"2018-04-13\",\"000858.SZA\",\"\\u4e94\\u7cae\\u6db2\",1101.367,\"1136.130\",10.538,11972.533,366.34],[\"2018-04-13\",\"000725.SZA\",\"\\u4eac\\u4e1c\\u65b9A\",24.685,\"24.923\",449.126,11193.386,106.604],[\"2018-04-13\",\"000001.SZA\",\"\\u5e73\\u5b89\\u94f6\\u884c\",1126.873,\"1229.993\",8.168,10046.58,842.297],[\"\",\"\",\"\\uff08\\u603b\\u8d44\\u4ea7\\uffe51002101.371\",\"\\u5269\\u4f59\\u91d1\\u989d\\uffe5939296.052\",\"\\u5f53\\u65e5\\u4ea4\\u6613\\u4f63\\u91d1\\uffe50.0\\uff09\",\"\\uffe562804.687\",\"\\uffe52126.475\",null],[\"2018-04-12\",\"600036.SHA\",\"\\u62db\\u5546\\u94f6\\u884c\",133.587,\"138.539\",127.345,17642.302,630.713],[\"2018-04-12\",\"601318.SHA\",\"\\u4e2d\\u56fd\\u5e73\\u5b89\",146.087,\"152.415\",80.564,12279.154,509.789],[\"2018-04-12\",\"000858.SZA\",\"\\u4e94\\u7cae\\u6db2\",1101.367,\"1156.519\",10.538,12187.398,581.213],[\"2018-04-12\",\"000725.SZA\",\"\\u4eac\\u4e1c\\u65b9A\",24.685,\"24.828\",449.126,11150.744,63.962],[\"2018-04-12\",\"000001.SZA\",\"\\u5e73\\u5b89\\u94f6\\u884c\",1126.873,\"1224.677\",8.168,10003.164,798.879],[\"\",\"\",\"\\uff08\\u603b\\u8d44\\u4ea7\\uffe51002559.453\",\"\\u5269\\u4f59\\u91d1\\u989d\\uffe5939296.052\",\"\\u5f53\\u65e5\\u4ea4\\u6613\\u4f63\\u91d1\\uffe50.0\\uff09\",\"\\uffe563262.762\",\"\\uffe52584.556\",null],[\"2018-04-11\",\"600036.SHA\",\"\\u62db\\u5546\\u94f6\\u884c\",133.587,\"141.132\",127.345,17972.395,960.806],[\"2018-04-11\",\"601318.SHA\",\"\\u4e2d\\u56fd\\u5e73\\u5b89\",146.087,\"154.585\",80.564,12453.993,684.627],[\"2018-04-11\",\"000858.SZA\",\"\\u4e94\\u7cae\\u6db2\",1101.367,\"1175.070\",10.538,12382.89,776.712],[\"2018-04-11\",\"000725.SZA\",\"\\u4eac\\u4e1c\\u65b9A\",24.685,\"24.875\",449.126,11172.065,85.283],[\"2018-04-11\",\"000001.SZA\",\"\\u5e73\\u5b89\\u94f6\\u884c\",1126.873,\"1257.633\",8.168,10272.347,1068.068],[\"\",\"\",\"\\uff08\\u603b\\u8d44\\u4ea7\\uffe51003550.393\",\"\\u5269\\u4f59\\u91d1\\u989d\\uffe5939296.052\",\"\\u5f53\\u65e5\\u4ea4\\u6613\\u4f63\\u91d1\\uffe50.0\\uff09\",\"\\uffe564253.69\",\"\\uffe53575.496\",null],[\"2018-04-10\",\"600036.SHA\",\"\\u62db\\u5546\\u94f6\\u884c\",133.587,\"140.206\",127.345,17854.505,842.916],[\"2018-04-10\",\"601318.SHA\",\"\\u4e2d\\u56fd\\u5e73\\u5b89\",146.087,\"155.910\",80.564,12560.736,791.371],[\"2018-04-10\",\"000858.SZA\",\"\\u4e94\\u7cae\\u6db2\",1101.367,\"1176.240\",10.538,12395.217,789.04],[\"2018-04-10\",\"000725.SZA\",\"\\u4eac\\u4e1c\\u65b9A\",24.685,\"24.875\",449.126,11172.065,85.283],[\"2018-04-10\",\"000001.SZA\",\"\\u5e73\\u5b89\\u94f6\\u884c\",1126.873,\"1214.046\",8.168,9916.331,712.045],[\"\",\"\",\"\\uff08\\u603b\\u8d44\\u4ea7\\uffe51003195.551\",\"\\u5269\\u4f59\\u91d1\\u989d\\uffe5939296.052\",\"\\u5f53\\u65e5\\u4ea4\\u6613\\u4f63\\u91d1\\uffe50.0\\uff09\",\"\\uffe563898.854\",\"\\uffe53220.655\",null],[\"2018-04-09\",\"600036.SHA\",\"\\u62db\\u5546\\u94f6\\u884c\",133.587,\"133.494\",127.345,16999.8,-11.789],[\"2018-04-09\",\"601318.SHA\",\"\\u4e2d\\u56fd\\u5e73\\u5b89\",146.087,\"150.679\",80.564,12139.283,369.919],[\"2018-04-09\",\"000858.SZA\",\"\\u4e94\\u7cae\\u6db2\",1101.367,\"1165.711\",10.538,12284.263,678.082],[\"2018-04-09\",\"000725.SZA\",\"\\u4eac\\u4e1c\\u65b9A\",24.685,\"24.211\",449.126,10873.575,-213.208],[\"2018-04-09\",\"000001.SZA\",\"\\u5e73\\u5b89\\u94f6\\u884c\",1126.873,\"1171.523\",8.168,9568.998,364.706],[\"\",\"\",\"\\uff08\\u603b\\u8d44\\u4ea7\\uffe51001162.606\",\"\\u5269\\u4f59\\u91d1\\u989d\\uffe5939296.052\",\"\\u5f53\\u65e5\\u4ea4\\u6613\\u4f63\\u91d1\\uffe50.0\\uff09\",\"\\uffe561865.919\",\"\\uffe51187.71\",null],[\"2018-04-04\",\"600036.SHA\",\"\\u62db\\u5546\\u94f6\\u884c\",133.587,\"133.124\",127.345,16952.644,-58.945],[\"2018-04-04\",\"601318.SHA\",\"\\u4e2d\\u56fd\\u5e73\\u5b89\",146.087,\"147.458\",80.564,11879.787,110.424],[\"2018-04-04\",\"000858.SZA\",\"\\u4e94\\u7cae\\u6db2\",1101.367,\"1168.218\",10.538,12310.68,704.5],[\"2018-04-04\",\"000725.SZA\",\"\\u4eac\\u4e1c\\u65b9A\",24.685,\"24.353\",449.126,10937.537,-149.246],[\"2018-04-04\",\"000001.SZA\",\"\\u5e73\\u5b89\\u94f6\\u884c\",1126.873,\"1155.577\",8.168,9438.749,234.454],[\"\",\"\",\"\\uff08\\u603b\\u8d44\\u4ea7\\uffe51000816.083\",\"\\u5269\\u4f59\\u91d1\\u989d\\uffe5939296.052\",\"\\u5f53\\u65e5\\u4ea4\\u6613\\u4f63\\u91d1\\uffe50.0\\uff09\",\"\\uffe561519.397\",\"\\uffe5841.187\",null],[\"2018-04-03\",\"600036.SHA\",\"\\u62db\\u5546\\u94f6\\u884c\",133.587,\"133.355\",127.345,16982.115,-29.473],[\"2018-04-03\",\"601318.SHA\",\"\\u4e2d\\u56fd\\u5e73\\u5b89\",146.087,\"147.366\",80.564,11872.425,103.061],[\"2018-04-03\",\"000858.SZA\",\"\\u4e94\\u7cae\\u6db2\",1101.367,\"1121.757\",10.538,11821.071,214.872],[\"2018-04-03\",\"000725.SZA\",\"\\u4eac\\u4e1c\\u65b9A\",24.685,\"24.590\",449.126,11044.14,-42.642],[\"2018-04-03\",\"000001.SZA\",\"\\u5e73\\u5b89\\u94f6\\u884c\",1126.873,\"1122.621\",8.168,9169.567,-34.734],[\"\",\"\",\"\\uff08\\u603b\\u8d44\\u4ea7\\uffe51000185.981\",\"\\u5269\\u4f59\\u91d1\\u989d\\uffe5939296.052\",\"\\u5f53\\u65e5\\u4ea4\\u6613\\u4f63\\u91d1\\uffe525.1\\uff09\",\"\\uffe560889.318\",\"\\uffe5211.084\",null],[\"2018-04-02\",\"--\",\"--\",\"--\",\"--\",\"--\",\"--\",\"--\"],[\"\",\"\",\"\\uff08\\u603b\\u8d44\\u4ea7\\uffe51000000.0\",\"\\u5269\\u4f59\\u91d1\\u989d\\uffe51000000.0\",\"\\u5f53\\u65e5\\u4ea4\\u6613\\u4f63\\u91d1\\uffe50.0\\uff09\",\"\\uffe50.0\",\"\\uffe50.0\",null]],\"columns\":[{\"title\":\"\\u65e5\\u671f\",\"orderable\":false},{\"title\":\"\\u80a1\\u7968\\u4ee3\\u7801\",\"orderable\":false},{\"title\":\"\\u80a1\\u7968\\u540d\\u79f0\",\"orderable\":false},{\"title\":\"\\u6301\\u4ed3\\u5747\\u4ef7\",\"orderable\":false},{\"title\":\"\\u6536\\u76d8\\u4ef7\",\"orderable\":false},{\"title\":\"\\u80a1\\u6570\",\"orderable\":false},{\"title\":\"\\u6301\\u4ed3\\u4ef7\\u503c\",\"orderable\":false},{\"title\":\"\\u6536\\u76ca\",\"orderable\":false}],\"searching\":false,\"info\":false,\"pageLength\":20,\"lengthChange\":false,\"order\":[],\"__type\":\"datatable\",\"__id\":\"bigchart-4b7327095c434d77b60c1dd395402bc3\",\"language\":{\"sProcessing\":\"\\u5904\\u7406\\u4e2d...\",\"sLengthMenu\":\"\\u663e\\u793a _MENU_ \\u9879\\u7ed3\\u679c\",\"sZeroRecords\":\"\\u6ca1\\u6709\\u5339\\u914d\\u7ed3\\u679c\",\"sInfo\":\"\\u663e\\u793a\\u7b2c _START_ \\u81f3 _END_ \\u9879\\u7ed3\\u679c\\uff0c\\u5171 _TOTAL_ \\u9879\",\"sInfoEmpty\":\"\\u663e\\u793a\\u7b2c 0 \\u81f3 0 \\u9879\\u7ed3\\u679c\\uff0c\\u5171 0 \\u9879\",\"sInfoFiltered\":\"(\\u7531 _MAX_ \\u9879\\u7ed3\\u679c\\u8fc7\\u6ee4)\",\"sInfoPostFix\":\"\",\"sSearch\":\"\\u641c\\u7d22:\",\"sUrl\":\"\",\"sEmptyTable\":\"\\u8868\\u4e2d\\u6570\\u636e\\u4e3a\\u7a7a\",\"sLoadingRecords\":\"\\u8f7d\\u5165\\u4e2d...\",\"sInfoThousands\":\",\",\"oPaginate\":{\"sFirst\":\"\\u9996\\u9875\",\"sPrevious\":\"\\u4e0a\\u9875\",\"sNext\":\"\\u4e0b\\u9875\",\"sLast\":\"\\u672b\\u9875\"}},\"hasWholeData\":true}/bigcharts-data-end</pre></div></div><div class='tab-pane' id='输出日志'><table id=\"bigchart-aef5785b5d08433890aefc9571d4fb72\" width=\"100%\" class=\"display bigchart\"></table><div class=\"bigchart-data\"><pre style=\"display:none\">bigcharts-data-start/{\"deferRender\":true,\"data\":[[\"2018-04-02 15:00:00\",\"ERROR\",\"place order [600519.SHA, invalid amount:3.7429073547430796] failed\"],[\"2018-04-02 15:00:00\",\"INFO\",\"order[09:30:00][id:b63333,600036.SHA 127.3449629470122@MARKET]\"],[\"2018-04-02 15:00:00\",\"INFO\",\"order[09:30:00][id:28b789,601318.SHA 80.56378650986647@MARKET]\"],[\"2018-04-02 15:00:00\",\"INFO\",\"order[09:30:00][id:c656d3,000858.SZA 10.538405767940535@MARKET]\"],[\"2018-04-02 15:00:00\",\"INFO\",\"order[09:30:00][id:0ea8db,000725.SZA 449.12641605353684@MARKET]\"],[\"2018-04-02 15:00:00\",\"INFO\",\"order[09:30:00][id:b87e2b,000001.SZA 8.16816126526218@MARKET]\"]],\"columns\":[{\"title\":\"\\u65f6\\u95f4\",\"orderable\":false},{\"title\":\"\\u7ea7\\u522b\",\"orderable\":false},{\"title\":\"\\u5185\\u5bb9\",\"orderable\":false}],\"searching\":false,\"info\":false,\"pageLength\":20,\"lengthChange\":false,\"order\":[],\"__type\":\"datatable\",\"__id\":\"bigchart-aef5785b5d08433890aefc9571d4fb72\",\"language\":{\"sProcessing\":\"\\u5904\\u7406\\u4e2d...\",\"sLengthMenu\":\"\\u663e\\u793a _MENU_ \\u9879\\u7ed3\\u679c\",\"sZeroRecords\":\"\\u6ca1\\u6709\\u5339\\u914d\\u7ed3\\u679c\",\"sInfo\":\"\\u663e\\u793a\\u7b2c _START_ \\u81f3 _END_ \\u9879\\u7ed3\\u679c\\uff0c\\u5171 _TOTAL_ \\u9879\",\"sInfoEmpty\":\"\\u663e\\u793a\\u7b2c 0 \\u81f3 0 \\u9879\\u7ed3\\u679c\\uff0c\\u5171 0 \\u9879\",\"sInfoFiltered\":\"(\\u7531 _MAX_ \\u9879\\u7ed3\\u679c\\u8fc7\\u6ee4)\",\"sInfoPostFix\":\"\",\"sSearch\":\"\\u641c\\u7d22:\",\"sUrl\":\"\",\"sEmptyTable\":\"\\u8868\\u4e2d\\u6570\\u636e\\u4e3a\\u7a7a\",\"sLoadingRecords\":\"\\u8f7d\\u5165\\u4e2d...\",\"sInfoThousands\":\",\",\"oPaginate\":{\"sFirst\":\"\\u9996\\u9875\",\"sPrevious\":\"\\u4e0a\\u9875\",\"sNext\":\"\\u4e0b\\u9875\",\"sLast\":\"\\u672b\\u9875\"}},\"hasWholeData\":true}/bigcharts-data-end</pre></div></div></div></div><div class='bigchart-data'><pre style='display:none'>bigcharts-data-start/{\"__type\":\"tabs\",\"__id\":\"bigchart-bd2df35aa2c34fdc9d6f5c94871eced3\"}/bigcharts-data-end</pre></div>"
      ],
      "text/plain": [
       "<IPython.core.display.HTML object>"
      ]
     },
     "metadata": {},
     "output_type": "display_data"
    },
    {
     "data": {
      "text/plain": [
       "[2021-08-22 11:14:27.549125] INFO: moduleinvoker: backtest.v8 运行完成[8.997788s]."
      ]
     },
     "metadata": {
      "is_log": true,
      "status": "INFO"
     },
     "output_type": "display_data"
    },
    {
     "data": {
      "text/plain": [
       "[2021-08-22 11:14:27.550565] INFO: moduleinvoker: trade.v4 运行完成[10.602853s]."
      ]
     },
     "metadata": {
      "is_log": true,
      "status": "INFO"
     },
     "output_type": "display_data"
    }
   ],
   "source": [
    "# 本代码由可视化策略环境自动生成 2021年8月22日11:14\n",
    "# 本代码单元只能在可视化模式下编辑。您也可以拷贝代码，粘贴到新建的代码单元或者策略，然后修改。\n",
    "\n",
    "\n",
    "# Python 代码入口函数，input_1/2/3 对应三个输入端，data_1/2/3 对应三个输出端\n",
    "def m1_run_bigquant_run(input_1, input_2, input_3):\n",
    "    import re\n",
    "    import requests\n",
    "    import json\n",
    "    df1 = pd.DataFrame()\n",
    "    url = \"http://fundf10.eastmoney.com/FundArchivesDatas.aspx?type=jjcc&code=004190&topline=10&year=&month=6&rt=0.6632225928306066\"\n",
    "    response = requests.get(url)\n",
    "    data = response.text\n",
    "    ins_para = re.compile(\">([0-9]{6})<\")\n",
    "    ins_list = ins_para.findall(data)\n",
    "    instrument = [str(s) + '.SHA'  if s[0] == '6' else str(s) + '.SZA' for s in ins_list]\n",
    "    percent_para = re.compile(\"<td class='tor'>([0-9]*.[0-9]*)%</td><td class='tor'>[0-9]*.[0-9]*</td><td class='tor'>[0-9]*.[0-9]*</td>\")\n",
    "    percent_list = percent_para.findall(data)\n",
    "    percent = [ float(s)/100 for s in percent_list ]\n",
    "    print(instrument[:len(percent_list)], '\\n', percent)\n",
    "    buy_list=pd.DataFrame({'instrument':instrument[:len(percent_list)],\n",
    "                           'buy_percent':percent},\n",
    "                          index=range(len(percent)))\n",
    "    print(buy_list)\n",
    "    #data_1输出证券代码列表\n",
    "    data_1 = {'instruments':instrument,\n",
    "            'start_date':'2018-03-31',\n",
    "            'end_date':'2018-06-30'}\n",
    "    #data_2输出招商基金的持仓量数据\n",
    "    data_2 = DataSource().write_df(buy_list)\n",
    "    return Outputs(data_1=data_1, data_2=data_2, data_3=None)\n",
    "\n",
    "# 后处理函数，可选。输入是主函数的输出，可以在这里对数据做处理，或者返回更友好的outputs数据格式。此函数输出不会被缓存。\n",
    "def m1_post_run_bigquant_run(outputs):\n",
    "    return outputs\n",
    "\n",
    "# 回测引擎：初始化函数，只执行一次\n",
    "def m12_initialize_bigquant_run(context):\n",
    "    # 加载仓位数据\n",
    "    context.buy_list = context.options['data'].read_df()\n",
    "    context.extension['ix'] = 0\n",
    "    # 系统已经设置了默认的交易手续费和滑点，要修改手续费可使用如下函数\n",
    "    context.set_commission(PerOrder(buy_cost=0.0003, sell_cost=0.0013, min_cost=5))\n",
    "# 回测引擎：每日数据处理函数，每天执行一次\n",
    "def m12_handle_data_bigquant_run(context, data):\n",
    "    #买入并持有\n",
    "    context.extension['ix'] += 1\n",
    "    if  context.extension['ix'] != 1:\n",
    "        return\n",
    "    \n",
    "    buy_list = dict(zip(context.buy_list.instrument,context.buy_list.buy_percent))\n",
    "    \n",
    "    for i,instrument in enumerate(buy_list):\n",
    "        sid=symbol(instrument)\n",
    "        order_target_percent(sid,buy_list[instrument])\n",
    "        \n",
    "    \n",
    "# 回测引擎：准备数据，只执行一次\n",
    "def m12_prepare_bigquant_run(context):\n",
    "    pass\n",
    "# 回测引擎：每个单位时间开始前调用一次，即每日开盘前调用一次。\n",
    "def m12_before_trading_start_bigquant_run(context, data):\n",
    "    pass\n",
    "\n",
    "# 回测引擎：初始化函数，只执行一次\n",
    "def m16_initialize_bigquant_run(context):\n",
    "    # 加载预测数据\n",
    "    context.ranker_prediction = context.options['data'].read_df()\n",
    "\n",
    "    # 系统已经设置了默认的交易手续费和滑点，要修改手续费可使用如下函数\n",
    "    context.set_commission(PerOrder(buy_cost=0.0003, sell_cost=0.0013, min_cost=5))\n",
    "    # 预测数据，通过options传入进来，使用 read_df 函数，加载到内存 (DataFrame)\n",
    "    context.extension['ix'] = 0    \n",
    "# 回测引擎：每日数据处理函数，每天执行一次\n",
    "def m16_handle_data_bigquant_run(context, data):\n",
    "    #买入并持有\n",
    "    context.extension['ix'] += 1\n",
    "    if context.extension['ix'] % 10 != 1:\n",
    "            return\n",
    "    # 按日期过滤得到今日的预测数据\n",
    "    ranker_prediction = context.ranker_prediction[\n",
    "        context.ranker_prediction.date == data.current_dt.strftime('%Y-%m-%d')]\n",
    "    buy_instruments = list(ranker_prediction.instrument)[:10]\n",
    "    stock_count = len(buy_instruments)\n",
    "    # 每只的股票的权重，如下的权重分配会使得靠前的股票分配多一点的资金，[0.339160, 0.213986, 0.169580, ..]\n",
    "    stock_weights = T.norm([1 / math.log(i+2) for i in range(0, stock_count)])\n",
    "    max_per_instrument = 0.15\n",
    "    buy_list = dict(zip(buy_instruments,stock_weights))\n",
    "    for i, instrument in enumerate(buy_list):\n",
    "        if buy_list[instrument] > max_per_instrument:\n",
    "            context.order_target_percent(symbol(instrument), max_per_instrument)\n",
    "        else:\n",
    "            context.order_target_percent(symbol(instrument), buy_list[instrument])\n",
    " \n",
    "    stock_hold_now = [equity.symbol for equity in context.portfolio.positions]\n",
    "\n",
    "    # 卖出\n",
    "    for stock in stock_hold_now:\n",
    "        if data.can_trade(context.symbol(stock)):\n",
    "            # order_target_percent是平台的一个下单接口，表明下单使得该股票的权重为0，\n",
    "            #   即卖出全部股票，可参考回测文档\n",
    "            context.order_target_percent(context.symbol(stock), 0)\n",
    "# 回测引擎：准备数据，只执行一次\n",
    "def m16_prepare_bigquant_run(context):\n",
    "    pass\n",
    "\n",
    "# 回测引擎：每个单位时间开始前调用一次，即每日开盘前调用一次。\n",
    "def m16_before_trading_start_bigquant_run(context, data):\n",
    "    pass\n",
    "\n",
    "\n",
    "m1 = M.cached.v3(\n",
    "    run=m1_run_bigquant_run,\n",
    "    post_run=m1_post_run_bigquant_run,\n",
    "    input_ports='',\n",
    "    params='{}',\n",
    "    output_ports=''\n",
    ")\n",
    "\n",
    "m12 = M.trade.v4(\n",
    "    instruments=m1.data_1,\n",
    "    options_data=m1.data_2,\n",
    "    start_date='',\n",
    "    end_date='',\n",
    "    initialize=m12_initialize_bigquant_run,\n",
    "    handle_data=m12_handle_data_bigquant_run,\n",
    "    prepare=m12_prepare_bigquant_run,\n",
    "    before_trading_start=m12_before_trading_start_bigquant_run,\n",
    "    volume_limit=0.025,\n",
    "    order_price_field_buy='open',\n",
    "    order_price_field_sell='close',\n",
    "    capital_base=1000000,\n",
    "    auto_cancel_non_tradable_orders=True,\n",
    "    data_frequency='daily',\n",
    "    price_type='后复权',\n",
    "    product_type='股票',\n",
    "    plot_charts=True,\n",
    "    backtest_only=False,\n",
    "    benchmark=''\n",
    ")\n",
    "\n",
    "m3 = M.input_features.v1(\n",
    "    features=\"\"\"# #号开始的表示注释\n",
    "# 多个特征，每行一个，可以包含基础特征和衍生特征\n",
    "return_5\n",
    "return_10\n",
    "return_20\n",
    "avg_amount_0/avg_amount_5\n",
    "avg_amount_5/avg_amount_20\n",
    "rank_avg_amount_0/rank_avg_amount_5\n",
    "rank_avg_amount_5/rank_avg_amount_10\n",
    "rank_return_0\n",
    "rank_return_5\n",
    "rank_return_10\n",
    "rank_return_0/rank_return_5\n",
    "rank_return_5/rank_return_10\n",
    "pe_ttm_0\"\"\",\n",
    "    m_cached=False\n",
    ")\n",
    "\n",
    "m19 = M.input_features.v1(\n",
    "    features_ds=m3.data,\n",
    "    features=\"\"\"\n",
    "# #号开始的表示注释\n",
    "# 多个特征，每行一个，可以包含基础特征和衍生特征\n",
    "in_csi300_0\n",
    "\"\"\"\n",
    ")\n",
    "\n",
    "m2 = M.general_feature_extractor.v7(\n",
    "    instruments=m1.data_1,\n",
    "    features=m19.data,\n",
    "    start_date='',\n",
    "    end_date='',\n",
    "    before_start_days=90\n",
    ")\n",
    "\n",
    "m4 = M.derived_feature_extractor.v3(\n",
    "    input_data=m2.data,\n",
    "    features=m19.data,\n",
    "    date_col='date',\n",
    "    instrument_col='instrument',\n",
    "    drop_na=False,\n",
    "    remove_extra_columns=False,\n",
    "    user_functions={}\n",
    ")\n",
    "\n",
    "m20 = M.dropnan.v2(\n",
    "    input_data=m4.data\n",
    ")\n",
    "\n",
    "m8 = M.instruments.v2(\n",
    "    start_date='2010-01-01',\n",
    "    end_date='2018-01-01',\n",
    "    market='CN_STOCK_A',\n",
    "    instrument_list='',\n",
    "    max_count=0\n",
    ")\n",
    "\n",
    "m6 = M.general_feature_extractor.v7(\n",
    "    instruments=m8.data,\n",
    "    features=m19.data,\n",
    "    start_date='',\n",
    "    end_date='',\n",
    "    before_start_days=90\n",
    ")\n",
    "\n",
    "m7 = M.derived_feature_extractor.v3(\n",
    "    input_data=m6.data,\n",
    "    features=m19.data,\n",
    "    date_col='date',\n",
    "    instrument_col='instrument',\n",
    "    drop_na=False,\n",
    "    remove_extra_columns=False,\n",
    "    user_functions={}\n",
    ")\n",
    "\n",
    "m9 = M.advanced_auto_labeler.v2(\n",
    "    instruments=m8.data,\n",
    "    label_expr=\"\"\"# #号开始的表示注释\n",
    "# 0. 每行一个，顺序执行，从第二个开始，可以使用label字段\n",
    "# 1. 可用数据字段见 https://bigquant.com/docs/data_history_data.html\n",
    "#   添加benchmark_前缀，可使用对应的benchmark数据\n",
    "# 2. 可用操作符和函数见 `表达式引擎 <https://bigquant.com/docs/big_expr.html>`_\n",
    "\n",
    "# 计算收益：5日收盘价(作为卖出价格)除以明日开盘价(作为买入价格)\n",
    "shift(close, -10) / shift(open, -1)\n",
    "\n",
    "# 极值处理：用1%和99%分位的值做clip\n",
    "clip(label, all_quantile(label, 0.01), all_quantile(label, 0.99))\n",
    "\n",
    "# 将分数映射到分类，这里使用20个分类\n",
    "all_wbins(label, 20)\n",
    "\n",
    "# 过滤掉一字涨停的情况 (设置label为NaN，在后续处理和训练中会忽略NaN的label)\n",
    "where(shift(high, -1) == shift(low, -1), NaN, label)\n",
    "\"\"\",\n",
    "    start_date='',\n",
    "    end_date='',\n",
    "    benchmark='000300.SHA',\n",
    "    drop_na_label=True,\n",
    "    cast_label_int=True,\n",
    "    user_functions={}\n",
    ")\n",
    "\n",
    "m11 = M.join.v3(\n",
    "    data1=m9.data,\n",
    "    data2=m7.data,\n",
    "    on='date,instrument',\n",
    "    how='inner',\n",
    "    sort=False\n",
    ")\n",
    "\n",
    "m10 = M.filter.v3(\n",
    "    input_data=m11.data,\n",
    "    expr='in_csi300_0==1',\n",
    "    output_left_data=False\n",
    ")\n",
    "\n",
    "m5 = M.dropnan.v2(\n",
    "    input_data=m10.data\n",
    ")\n",
    "\n",
    "m18 = M.stock_ranker_train.v6(\n",
    "    training_ds=m5.data,\n",
    "    features=m3.data,\n",
    "    learning_algorithm='排序',\n",
    "    number_of_leaves=30,\n",
    "    minimum_docs_per_leaf=1000,\n",
    "    number_of_trees=20,\n",
    "    learning_rate=0.1,\n",
    "    max_bins=1023,\n",
    "    feature_fraction=1,\n",
    "    data_row_fraction=1,\n",
    "    ndcg_discount_base=1,\n",
    "    m_lazy_run=False\n",
    ")\n",
    "\n",
    "m15 = M.stock_ranker_predict.v5(\n",
    "    model=m18.model,\n",
    "    data=m20.data,\n",
    "    m_lazy_run=False\n",
    ")\n",
    "\n",
    "m16 = M.trade.v4(\n",
    "    instruments=m1.data_1,\n",
    "    options_data=m15.predictions,\n",
    "    start_date='',\n",
    "    end_date='',\n",
    "    initialize=m16_initialize_bigquant_run,\n",
    "    handle_data=m16_handle_data_bigquant_run,\n",
    "    prepare=m16_prepare_bigquant_run,\n",
    "    before_trading_start=m16_before_trading_start_bigquant_run,\n",
    "    volume_limit=0.025,\n",
    "    order_price_field_buy='open',\n",
    "    order_price_field_sell='close',\n",
    "    capital_base=1000000,\n",
    "    auto_cancel_non_tradable_orders=True,\n",
    "    data_frequency='daily',\n",
    "    price_type='后复权',\n",
    "    product_type='股票',\n",
    "    plot_charts=True,\n",
    "    backtest_only=False,\n",
    "    benchmark=''\n",
    ")\n"
   ]
  }
 ],
 "metadata": {
  "kernelspec": {
   "display_name": "Python 3",
   "language": "python",
   "name": "python3"
  },
  "language_info": {
   "codemirror_mode": {
    "name": "ipython",
    "version": 3
   },
   "file_extension": ".py",
   "mimetype": "text/x-python",
   "name": "python",
   "nbconvert_exporter": "python",
   "pygments_lexer": "ipython3",
   "version": "3.8.7"
  }
 },
 "nbformat": 4,
 "nbformat_minor": 4
}
