{
 "cells": [
  {
   "cell_type": "markdown",
   "metadata": {},
   "source": [
    "## DeepAlpha短周期因子系列研究：DNN\n",
    "\n",
    "### 回测\n",
    "\n",
    "- 策略思想：基于模型的预测结果进行选股，选择当日排名靠前的50只股票买入，卖出其他持有的股票。\n",
    "- 调仓周期：日频，每日换仓\n",
    "- 资金管理：每只股票最大资金占用20%\n",
    "- 手续费：买入0.0003，卖出0.0013"
   ]
  },
  {
   "cell_type": "code",
   "execution_count": 6,
   "metadata": {},
   "outputs": [],
   "source": [
    "import matplotlib.pyplot as plt\n",
    "\n",
    "plt.rcParams[\"figure.figsize\"] = (16, 9)"
   ]
  },
  {
   "cell_type": "code",
   "execution_count": null,
   "metadata": {
    "machine_learning_studio": "true",
    "ml_studio_json": "{\"description\":\"实验创建于2017/8/26\",\"graph\":{\"edges\":[{\"to_node_id\":\"287d2cb0-f53c-4101-bdf8-104b137c8601-15:instruments\",\"from_node_id\":\"287d2cb0-f53c-4101-bdf8-104b137c8601-8:data\"},{\"to_node_id\":\"-106:instruments\",\"from_node_id\":\"287d2cb0-f53c-4101-bdf8-104b137c8601-8:data\"},{\"to_node_id\":\"-2469:input_1\",\"from_node_id\":\"287d2cb0-f53c-4101-bdf8-104b137c8601-15:data\"},{\"to_node_id\":\"-106:features\",\"from_node_id\":\"287d2cb0-f53c-4101-bdf8-104b137c8601-24:data\"},{\"to_node_id\":\"-113:features\",\"from_node_id\":\"287d2cb0-f53c-4101-bdf8-104b137c8601-24:data\"},{\"to_node_id\":\"-122:features\",\"from_node_id\":\"287d2cb0-f53c-4101-bdf8-104b137c8601-24:data\"},{\"to_node_id\":\"-129:features\",\"from_node_id\":\"287d2cb0-f53c-4101-bdf8-104b137c8601-24:data\"},{\"to_node_id\":\"-243:features\",\"from_node_id\":\"287d2cb0-f53c-4101-bdf8-104b137c8601-24:data\"},{\"to_node_id\":\"-251:features\",\"from_node_id\":\"287d2cb0-f53c-4101-bdf8-104b137c8601-24:data\"},{\"to_node_id\":\"-266:input_2\",\"from_node_id\":\"287d2cb0-f53c-4101-bdf8-104b137c8601-24:data\"},{\"to_node_id\":\"-288:features\",\"from_node_id\":\"287d2cb0-f53c-4101-bdf8-104b137c8601-24:data\"},{\"to_node_id\":\"-298:input_2\",\"from_node_id\":\"287d2cb0-f53c-4101-bdf8-104b137c8601-24:data\"},{\"to_node_id\":\"-293:features\",\"from_node_id\":\"287d2cb0-f53c-4101-bdf8-104b137c8601-24:data\"},{\"to_node_id\":\"-364:input_data\",\"from_node_id\":\"287d2cb0-f53c-4101-bdf8-104b137c8601-53:data\"},{\"to_node_id\":\"-122:instruments\",\"from_node_id\":\"287d2cb0-f53c-4101-bdf8-104b137c8601-62:data\"},{\"to_node_id\":\"-141:instruments\",\"from_node_id\":\"287d2cb0-f53c-4101-bdf8-104b137c8601-62:data\"},{\"to_node_id\":\"-113:input_data\",\"from_node_id\":\"-106:data\"},{\"to_node_id\":\"-266:input_1\",\"from_node_id\":\"-113:data\"},{\"to_node_id\":\"-129:input_data\",\"from_node_id\":\"-122:data\"},{\"to_node_id\":\"-2431:input_2\",\"from_node_id\":\"-129:data\"},{\"to_node_id\":\"-298:input_1\",\"from_node_id\":\"-129:data\"},{\"to_node_id\":\"-682:inputs\",\"from_node_id\":\"-160:data\"},{\"to_node_id\":\"-270:inputs\",\"from_node_id\":\"-160:data\"},{\"to_node_id\":\"-224:inputs\",\"from_node_id\":\"-168:data\"},{\"to_node_id\":\"-231:inputs\",\"from_node_id\":\"-196:data\"},{\"to_node_id\":\"-196:inputs\",\"from_node_id\":\"-224:data\"},{\"to_node_id\":\"-238:inputs\",\"from_node_id\":\"-231:data\"},{\"to_node_id\":\"-682:outputs\",\"from_node_id\":\"-238:data\"},{\"to_node_id\":\"-1098:input_model\",\"from_node_id\":\"-682:data\"},{\"to_node_id\":\"-1540:trained_model\",\"from_node_id\":\"-1098:data\"},{\"to_node_id\":\"-2431:input_1\",\"from_node_id\":\"-1540:data\"},{\"to_node_id\":\"-141:options_data\",\"from_node_id\":\"-2431:data_1\"},{\"to_node_id\":\"-436:input_1\",\"from_node_id\":\"-243:data\"},{\"to_node_id\":\"-1540:input_data\",\"from_node_id\":\"-251:data\"},{\"to_node_id\":\"-1098:training_data\",\"from_node_id\":\"-436:data_1\"},{\"to_node_id\":\"-1098:validation_data\",\"from_node_id\":\"-436:data_2\"},{\"to_node_id\":\"-288:input_data\",\"from_node_id\":\"-266:data\"},{\"to_node_id\":\"287d2cb0-f53c-4101-bdf8-104b137c8601-53:data2\",\"from_node_id\":\"-288:data\"},{\"to_node_id\":\"-374:input_data\",\"from_node_id\":\"-293:data\"},{\"to_node_id\":\"-293:input_data\",\"from_node_id\":\"-298:data\"},{\"to_node_id\":\"287d2cb0-f53c-4101-bdf8-104b137c8601-53:data1\",\"from_node_id\":\"-2469:data\"},{\"to_node_id\":\"-168:inputs\",\"from_node_id\":\"-270:data\"},{\"to_node_id\":\"-243:input_data\",\"from_node_id\":\"-364:data\"},{\"to_node_id\":\"-251:input_data\",\"from_node_id\":\"-374:data\"}],\"nodes\":[{\"node_id\":\"287d2cb0-f53c-4101-bdf8-104b137c8601-8\",\"module_id\":\"BigQuantSpace.instruments.instruments-v2\",\"parameters\":[{\"name\":\"start_date\",\"value\":\"2019-01-01\",\"type\":\"Literal\",\"bound_global_parameter\":null},{\"name\":\"end_date\",\"value\":\"2021-01-01\",\"type\":\"Literal\",\"bound_global_parameter\":null},{\"name\":\"market\",\"value\":\"CN_STOCK_A\",\"type\":\"Literal\",\"bound_global_parameter\":null},{\"name\":\"instrument_list\",\"value\":\"\",\"type\":\"Literal\",\"bound_global_parameter\":null},{\"name\":\"max_count\",\"value\":\"0\",\"type\":\"Literal\",\"bound_global_parameter\":null}],\"input_ports\":[{\"name\":\"rolling_conf\",\"node_id\":\"287d2cb0-f53c-4101-bdf8-104b137c8601-8\"}],\"output_ports\":[{\"name\":\"data\",\"node_id\":\"287d2cb0-f53c-4101-bdf8-104b137c8601-8\"}],\"cacheable\":true,\"seq_num\":1,\"comment\":\"\",\"comment_collapsed\":true},{\"node_id\":\"287d2cb0-f53c-4101-bdf8-104b137c8601-15\",\"module_id\":\"BigQuantSpace.advanced_auto_labeler.advanced_auto_labeler-v2\",\"parameters\":[{\"name\":\"label_expr\",\"value\":\"# #号开始的表示注释\\n# 0. 每行一个，顺序执行，从第二个开始，可以使用label字段\\n# 1. 可用数据字段见 https://bigquant.com/docs/data_history_data.html\\n#   添加benchmark_前缀，可使用对应的benchmark数据\\n# 2. 可用操作符和函数见 `表达式引擎 <https://bigquant.com/docs/big_expr.html>`_\\n\\n# 计算收益：5日收盘价(作为卖出价格)除以明日开盘价(作为买入价格)\\nshift(close, -5) / shift(open, -1) - 1\\n\\n# 极值处理：用1%和99%分位的值做clip\\nclip(label, all_quantile(label, 0.01), all_quantile(label, 0.99))\\n\\n# 过滤掉一字涨停的情况 (设置label为NaN，在后续处理和训练中会忽略NaN的label)\\nwhere(shift(high, -1) == shift(low, -1), NaN, label)\\n\",\"type\":\"Literal\",\"bound_global_parameter\":null},{\"name\":\"start_date\",\"value\":\"\",\"type\":\"Literal\",\"bound_global_parameter\":null},{\"name\":\"end_date\",\"value\":\"\",\"type\":\"Literal\",\"bound_global_parameter\":null},{\"name\":\"benchmark\",\"value\":\"000300.SHA\",\"type\":\"Literal\",\"bound_global_parameter\":null},{\"name\":\"drop_na_label\",\"value\":\"True\",\"type\":\"Literal\",\"bound_global_parameter\":null},{\"name\":\"cast_label_int\",\"value\":\"False\",\"type\":\"Literal\",\"bound_global_parameter\":null},{\"name\":\"user_functions\",\"value\":\"\",\"type\":\"Literal\",\"bound_global_parameter\":null}],\"input_ports\":[{\"name\":\"instruments\",\"node_id\":\"287d2cb0-f53c-4101-bdf8-104b137c8601-15\"}],\"output_ports\":[{\"name\":\"data\",\"node_id\":\"287d2cb0-f53c-4101-bdf8-104b137c8601-15\"}],\"cacheable\":true,\"seq_num\":2,\"comment\":\"\",\"comment_collapsed\":true},{\"node_id\":\"287d2cb0-f53c-4101-bdf8-104b137c8601-24\",\"module_id\":\"BigQuantSpace.input_features.input_features-v1\",\"parameters\":[{\"name\":\"features\",\"value\":\"close_0\\nopen_0\\nhigh_0\\nlow_0 \\namount_0\\nturn_0 \\nreturn_0\\n \\nclose_1\\nopen_1\\nhigh_1\\nlow_1\\nreturn_1\\namount_1\\nturn_1\\n \\nclose_2\\nopen_2\\nhigh_2\\nlow_2\\namount_2\\nturn_2\\nreturn_2\\n \\nclose_3\\nopen_3\\nhigh_3\\nlow_3\\namount_3\\nturn_3\\nreturn_3\\n \\nclose_4\\nopen_4\\nhigh_4\\nlow_4\\namount_4\\nturn_4\\nreturn_4\\n \\nmean(close_0, 5)\\nmean(low_0, 5)\\nmean(open_0, 5)\\nmean(high_0, 5)\\nmean(turn_0, 5)\\nmean(amount_0, 5)\\nmean(return_0, 5)\\n \\nts_max(close_0, 5)\\nts_max(low_0, 5)\\nts_max(open_0, 5)\\nts_max(high_0, 5)\\nts_max(turn_0, 5)\\nts_max(amount_0, 5)\\nts_max(return_0, 5)\\n \\nts_min(close_0, 5)\\nts_min(low_0, 5)\\nts_min(open_0, 5)\\nts_min(high_0, 5)\\nts_min(turn_0, 5)\\nts_min(amount_0, 5)\\nts_min(return_0, 5) \\n \\nstd(close_0, 5)\\nstd(low_0, 5)\\nstd(open_0, 5)\\nstd(high_0, 5)\\nstd(turn_0, 5)\\nstd(amount_0, 5)\\nstd(return_0, 5)\\n \\nts_rank(close_0, 5)\\nts_rank(low_0, 5)\\nts_rank(open_0, 5)\\nts_rank(high_0, 5)\\nts_rank(turn_0, 5)\\nts_rank(amount_0, 5)\\nts_rank(return_0, 5)\\n \\ndecay_linear(close_0, 5)\\ndecay_linear(low_0, 5)\\ndecay_linear(open_0, 5)\\ndecay_linear(high_0, 5)\\ndecay_linear(turn_0, 5)\\ndecay_linear(amount_0, 5)\\ndecay_linear(return_0, 5)\\n \\ncorrelation(volume_0, return_0, 5)\\ncorrelation(volume_0, high_0, 5)\\ncorrelation(volume_0, low_0, 5)\\ncorrelation(volume_0, close_0, 5)\\ncorrelation(volume_0, open_0, 5)\\ncorrelation(volume_0, turn_0, 5)\\n  \\ncorrelation(return_0, high_0, 5)\\ncorrelation(return_0, low_0, 5)\\ncorrelation(return_0, close_0, 5)\\ncorrelation(return_0, open_0, 5)\\ncorrelation(return_0, turn_0, 5)\\n \\ncorrelation(high_0, low_0, 5)\\ncorrelation(high_0, close_0, 5)\\ncorrelation(high_0, open_0, 5)\\ncorrelation(high_0, turn_0, 5)\\n \\ncorrelation(low_0, close_0, 5)\\ncorrelation(low_0, open_0, 5)\\ncorrelation(low_0, turn_0, 5)\\n \\ncorrelation(close_0, open_0, 5)\\ncorrelation(close_0, turn_0, 5)\\n\\ncorrelation(open_0, turn_0, 5)\",\"type\":\"Literal\",\"bound_global_parameter\":null}],\"input_ports\":[{\"name\":\"features_ds\",\"node_id\":\"287d2cb0-f53c-4101-bdf8-104b137c8601-24\"}],\"output_ports\":[{\"name\":\"data\",\"node_id\":\"287d2cb0-f53c-4101-bdf8-104b137c8601-24\"}],\"cacheable\":true,\"seq_num\":3,\"comment\":\"\",\"comment_collapsed\":true},{\"node_id\":\"287d2cb0-f53c-4101-bdf8-104b137c8601-53\",\"module_id\":\"BigQuantSpace.join.join-v3\",\"parameters\":[{\"name\":\"on\",\"value\":\"date,instrument\",\"type\":\"Literal\",\"bound_global_parameter\":null},{\"name\":\"how\",\"value\":\"inner\",\"type\":\"Literal\",\"bound_global_parameter\":null},{\"name\":\"sort\",\"value\":\"True\",\"type\":\"Literal\",\"bound_global_parameter\":null}],\"input_ports\":[{\"name\":\"data1\",\"node_id\":\"287d2cb0-f53c-4101-bdf8-104b137c8601-53\"},{\"name\":\"data2\",\"node_id\":\"287d2cb0-f53c-4101-bdf8-104b137c8601-53\"}],\"output_ports\":[{\"name\":\"data\",\"node_id\":\"287d2cb0-f53c-4101-bdf8-104b137c8601-53\"}],\"cacheable\":true,\"seq_num\":7,\"comment\":\"\",\"comment_collapsed\":true},{\"node_id\":\"287d2cb0-f53c-4101-bdf8-104b137c8601-62\",\"module_id\":\"BigQuantSpace.instruments.instruments-v2\",\"parameters\":[{\"name\":\"start_date\",\"value\":\"2021-01-02\",\"type\":\"Literal\",\"bound_global_parameter\":\"交易日期\"},{\"name\":\"end_date\",\"value\":\"2021-12-31\",\"type\":\"Literal\",\"bound_global_parameter\":\"交易日期\"},{\"name\":\"market\",\"value\":\"CN_STOCK_A\",\"type\":\"Literal\",\"bound_global_parameter\":null},{\"name\":\"instrument_list\",\"value\":\"\",\"type\":\"Literal\",\"bound_global_parameter\":null},{\"name\":\"max_count\",\"value\":\"0\",\"type\":\"Literal\",\"bound_global_parameter\":null}],\"input_ports\":[{\"name\":\"rolling_conf\",\"node_id\":\"287d2cb0-f53c-4101-bdf8-104b137c8601-62\"}],\"output_ports\":[{\"name\":\"data\",\"node_id\":\"287d2cb0-f53c-4101-bdf8-104b137c8601-62\"}],\"cacheable\":true,\"seq_num\":9,\"comment\":\"预测数据，用于回测和模拟\",\"comment_collapsed\":false},{\"node_id\":\"-106\",\"module_id\":\"BigQuantSpace.general_feature_extractor.general_feature_extractor-v7\",\"parameters\":[{\"name\":\"start_date\",\"value\":\"\",\"type\":\"Literal\",\"bound_global_parameter\":null},{\"name\":\"end_date\",\"value\":\"\",\"type\":\"Literal\",\"bound_global_parameter\":null},{\"name\":\"before_start_days\",\"value\":\"10\",\"type\":\"Literal\",\"bound_global_parameter\":null}],\"input_ports\":[{\"name\":\"instruments\",\"node_id\":\"-106\"},{\"name\":\"features\",\"node_id\":\"-106\"}],\"output_ports\":[{\"name\":\"data\",\"node_id\":\"-106\"}],\"cacheable\":true,\"seq_num\":15,\"comment\":\"\",\"comment_collapsed\":true},{\"node_id\":\"-113\",\"module_id\":\"BigQuantSpace.derived_feature_extractor.derived_feature_extractor-v3\",\"parameters\":[{\"name\":\"date_col\",\"value\":\"date\",\"type\":\"Literal\",\"bound_global_parameter\":null},{\"name\":\"instrument_col\",\"value\":\"instrument\",\"type\":\"Literal\",\"bound_global_parameter\":null},{\"name\":\"drop_na\",\"value\":\"True\",\"type\":\"Literal\",\"bound_global_parameter\":null},{\"name\":\"remove_extra_columns\",\"value\":\"False\",\"type\":\"Literal\",\"bound_global_parameter\":null},{\"name\":\"user_functions\",\"value\":\"\",\"type\":\"Literal\",\"bound_global_parameter\":null}],\"input_ports\":[{\"name\":\"input_data\",\"node_id\":\"-113\"},{\"name\":\"features\",\"node_id\":\"-113\"}],\"output_ports\":[{\"name\":\"data\",\"node_id\":\"-113\"}],\"cacheable\":true,\"seq_num\":16,\"comment\":\"\",\"comment_collapsed\":true},{\"node_id\":\"-122\",\"module_id\":\"BigQuantSpace.general_feature_extractor.general_feature_extractor-v7\",\"parameters\":[{\"name\":\"start_date\",\"value\":\"\",\"type\":\"Literal\",\"bound_global_parameter\":null},{\"name\":\"end_date\",\"value\":\"\",\"type\":\"Literal\",\"bound_global_parameter\":null},{\"name\":\"before_start_days\",\"value\":\"10\",\"type\":\"Literal\",\"bound_global_parameter\":null}],\"input_ports\":[{\"name\":\"instruments\",\"node_id\":\"-122\"},{\"name\":\"features\",\"node_id\":\"-122\"}],\"output_ports\":[{\"name\":\"data\",\"node_id\":\"-122\"}],\"cacheable\":true,\"seq_num\":17,\"comment\":\"\",\"comment_collapsed\":true},{\"node_id\":\"-129\",\"module_id\":\"BigQuantSpace.derived_feature_extractor.derived_feature_extractor-v3\",\"parameters\":[{\"name\":\"date_col\",\"value\":\"date\",\"type\":\"Literal\",\"bound_global_parameter\":null},{\"name\":\"instrument_col\",\"value\":\"instrument\",\"type\":\"Literal\",\"bound_global_parameter\":null},{\"name\":\"drop_na\",\"value\":\"True\",\"type\":\"Literal\",\"bound_global_parameter\":null},{\"name\":\"remove_extra_columns\",\"value\":\"False\",\"type\":\"Literal\",\"bound_global_parameter\":null},{\"name\":\"user_functions\",\"value\":\"\",\"type\":\"Literal\",\"bound_global_parameter\":null}],\"input_ports\":[{\"name\":\"input_data\",\"node_id\":\"-129\"},{\"name\":\"features\",\"node_id\":\"-129\"}],\"output_ports\":[{\"name\":\"data\",\"node_id\":\"-129\"}],\"cacheable\":true,\"seq_num\":18,\"comment\":\"\",\"comment_collapsed\":true},{\"node_id\":\"-141\",\"module_id\":\"BigQuantSpace.trade.trade-v4\",\"parameters\":[{\"name\":\"start_date\",\"value\":\"\",\"type\":\"Literal\",\"bound_global_parameter\":null},{\"name\":\"end_date\",\"value\":\"\",\"type\":\"Literal\",\"bound_global_parameter\":null},{\"name\":\"initialize\",\"value\":\"# 回测引擎：初始化函数，只执行一次\\ndef bigquant_run(context):\\n    # 加载预测数据\\n    context.ranker_prediction = context.options['data'].read_df()\\n\\n    # 系统已经设置了默认的交易手续费和滑点，要修改手续费可使用如下函数\\n    context.set_commission(PerOrder(buy_cost=0.0003, sell_cost=0.0013, min_cost=5))\\n    # 预测数据，通过options传入进来，使用 read_df 函数，加载到内存 (DataFrame)\\n    # 设置买入的股票数量，这里买入预测股票列表排名靠前的5只\\n    stock_count = 50\\n    # 每只的股票的权重，如下的权重分配会使得靠前的股票分配多一点的资金，[0.339160, 0.213986, 0.169580, ..]\\n    context.stock_weights = T.norm([1 / math.log(i + 2) for i in range(0, stock_count)])\\n    # 设置每只股票占用的最大资金比例\\n    context.max_cash_per_instrument = 0.2\\n    context.options['hold_days'] = 5\\n\",\"type\":\"Literal\",\"bound_global_parameter\":null},{\"name\":\"handle_data\",\"value\":\"# 回测引擎：每日数据处理函数，每天执行一次\\ndef bigquant_run(context, data):\\n    # 按日期过滤得到今日的预测数据\\n    ranker_prediction = context.ranker_prediction[context.ranker_prediction.date == data.current_dt.strftime('%Y-%m-%d')]\\n\\n    # 1. 资金分配\\n    # 平均持仓时间是hold_days，每日都将买入股票，每日预期使用 1/hold_days 的资金\\n    # 实际操作中，会存在一定的买入误差，所以在前hold_days天，等量使用资金；之后，尽量使用剩余资金（这里设置最多用等量的1.5倍）\\n    is_staging = context.trading_day_index < context.options['hold_days'] # 是否在建仓期间（前 hold_days 天）\\n    cash_avg = context.portfolio.portfolio_value / context.options['hold_days']\\n    cash_for_buy = min(context.portfolio.cash, (1 if is_staging else 1.5) * cash_avg)\\n    cash_for_sell = cash_avg - (context.portfolio.cash - cash_for_buy)\\n    positions = {e.symbol: p.amount * p.last_sale_price\\n                 for e, p in context.perf_tracker.position_tracker.positions.items()}\\n        \\n    # 2. 生成卖出订单：hold_days天之后才开始卖出；对持仓的股票，按机器学习算法预测的排序末位淘汰\\n    if not is_staging and cash_for_sell > 0:\\n        equities = {e.symbol: e for e, p in context.perf_tracker.position_tracker.positions.items()}\\n        instruments = list(reversed(list(ranker_prediction.instrument[ranker_prediction.instrument.apply(\\n                lambda x: x in equities and not context.has_unfinished_sell_order(equities[x]))])))\\n        # print('rank order for sell %s' % instruments)\\n        for instrument in instruments:\\n            context.order_target(context.symbol(instrument), 0)\\n            cash_for_sell -= positions[instrument]\\n            if cash_for_sell <= 0:\\n                break\\n\\n    # 3. 生成买入订单：按机器学习算法预测的排序，买入前面的stock_count只股票\\n    buy_cash_weights = context.stock_weights\\n    buy_instruments = list(ranker_prediction.instrument[:len(buy_cash_weights)])\\n    max_cash_per_instrument = context.portfolio.portfolio_value * context.max_cash_per_instrument\\n    for i, instrument in enumerate(buy_instruments):\\n        cash = cash_for_buy * buy_cash_weights[i]\\n        if cash > max_cash_per_instrument - positions.get(instrument, 0):\\n            # 确保股票持仓量不会超过每次股票最大的占用资金量\\n            cash = max_cash_per_instrument - positions.get(instrument, 0)\\n        if cash > 0:\\n            context.order_value(context.symbol(instrument), cash)\\n\",\"type\":\"Literal\",\"bound_global_parameter\":null},{\"name\":\"prepare\",\"value\":\"# 回测引擎：准备数据，只执行一次\\ndef bigquant_run(context):\\n    pass\\n\",\"type\":\"Literal\",\"bound_global_parameter\":null},{\"name\":\"before_trading_start\",\"value\":\"\",\"type\":\"Literal\",\"bound_global_parameter\":null},{\"name\":\"volume_limit\",\"value\":0.025,\"type\":\"Literal\",\"bound_global_parameter\":null},{\"name\":\"order_price_field_buy\",\"value\":\"open\",\"type\":\"Literal\",\"bound_global_parameter\":null},{\"name\":\"order_price_field_sell\",\"value\":\"open\",\"type\":\"Literal\",\"bound_global_parameter\":null},{\"name\":\"capital_base\",\"value\":1000000,\"type\":\"Literal\",\"bound_global_parameter\":null},{\"name\":\"auto_cancel_non_tradable_orders\",\"value\":\"True\",\"type\":\"Literal\",\"bound_global_parameter\":null},{\"name\":\"data_frequency\",\"value\":\"daily\",\"type\":\"Literal\",\"bound_global_parameter\":null},{\"name\":\"price_type\",\"value\":\"后复权\",\"type\":\"Literal\",\"bound_global_parameter\":null},{\"name\":\"product_type\",\"value\":\"股票\",\"type\":\"Literal\",\"bound_global_parameter\":null},{\"name\":\"plot_charts\",\"value\":\"True\",\"type\":\"Literal\",\"bound_global_parameter\":null},{\"name\":\"backtest_only\",\"value\":\"False\",\"type\":\"Literal\",\"bound_global_parameter\":null},{\"name\":\"benchmark\",\"value\":\"000300.SHA\",\"type\":\"Literal\",\"bound_global_parameter\":null}],\"input_ports\":[{\"name\":\"instruments\",\"node_id\":\"-141\"},{\"name\":\"options_data\",\"node_id\":\"-141\"},{\"name\":\"history_ds\",\"node_id\":\"-141\"},{\"name\":\"benchmark_ds\",\"node_id\":\"-141\"},{\"name\":\"trading_calendar\",\"node_id\":\"-141\"}],\"output_ports\":[{\"name\":\"raw_perf\",\"node_id\":\"-141\"}],\"cacheable\":false,\"seq_num\":19,\"comment\":\"\",\"comment_collapsed\":true},{\"node_id\":\"-160\",\"module_id\":\"BigQuantSpace.dl_layer_input.dl_layer_input-v1\",\"parameters\":[{\"name\":\"shape\",\"value\":\"98\",\"type\":\"Literal\",\"bound_global_parameter\":null},{\"name\":\"batch_shape\",\"value\":\"\",\"type\":\"Literal\",\"bound_global_parameter\":null},{\"name\":\"dtype\",\"value\":\"float32\",\"type\":\"Literal\",\"bound_global_parameter\":null},{\"name\":\"sparse\",\"value\":\"False\",\"type\":\"Literal\",\"bound_global_parameter\":null},{\"name\":\"name\",\"value\":\"\",\"type\":\"Literal\",\"bound_global_parameter\":null}],\"input_ports\":[{\"name\":\"inputs\",\"node_id\":\"-160\"}],\"output_ports\":[{\"name\":\"data\",\"node_id\":\"-160\"}],\"cacheable\":false,\"seq_num\":6,\"comment\":\"\",\"comment_collapsed\":true},{\"node_id\":\"-168\",\"module_id\":\"BigQuantSpace.dl_layer_dense.dl_layer_dense-v1\",\"parameters\":[{\"name\":\"units\",\"value\":\"256\",\"type\":\"Literal\",\"bound_global_parameter\":null},{\"name\":\"activation\",\"value\":\"relu\",\"type\":\"Literal\",\"bound_global_parameter\":null},{\"name\":\"user_activation\",\"value\":\"\",\"type\":\"Literal\",\"bound_global_parameter\":null},{\"name\":\"use_bias\",\"value\":\"True\",\"type\":\"Literal\",\"bound_global_parameter\":null},{\"name\":\"kernel_initializer\",\"value\":\"glorot_uniform\",\"type\":\"Literal\",\"bound_global_parameter\":null},{\"name\":\"user_kernel_initializer\",\"value\":\"\",\"type\":\"Literal\",\"bound_global_parameter\":null},{\"name\":\"bias_initializer\",\"value\":\"Zeros\",\"type\":\"Literal\",\"bound_global_parameter\":null},{\"name\":\"user_bias_initializer\",\"value\":\"\",\"type\":\"Literal\",\"bound_global_parameter\":null},{\"name\":\"kernel_regularizer\",\"value\":\"None\",\"type\":\"Literal\",\"bound_global_parameter\":null},{\"name\":\"kernel_regularizer_l1\",\"value\":0,\"type\":\"Literal\",\"bound_global_parameter\":null},{\"name\":\"kernel_regularizer_l2\",\"value\":0,\"type\":\"Literal\",\"bound_global_parameter\":null},{\"name\":\"user_kernel_regularizer\",\"value\":\"\",\"type\":\"Literal\",\"bound_global_parameter\":null},{\"name\":\"bias_regularizer\",\"value\":\"None\",\"type\":\"Literal\",\"bound_global_parameter\":null},{\"name\":\"bias_regularizer_l1\",\"value\":0,\"type\":\"Literal\",\"bound_global_parameter\":null},{\"name\":\"bias_regularizer_l2\",\"value\":0,\"type\":\"Literal\",\"bound_global_parameter\":null},{\"name\":\"user_bias_regularizer\",\"value\":\"\",\"type\":\"Literal\",\"bound_global_parameter\":null},{\"name\":\"activity_regularizer\",\"value\":\"None\",\"type\":\"Literal\",\"bound_global_parameter\":null},{\"name\":\"activity_regularizer_l1\",\"value\":0,\"type\":\"Literal\",\"bound_global_parameter\":null},{\"name\":\"activity_regularizer_l2\",\"value\":0,\"type\":\"Literal\",\"bound_global_parameter\":null},{\"name\":\"user_activity_regularizer\",\"value\":\"\",\"type\":\"Literal\",\"bound_global_parameter\":null},{\"name\":\"kernel_constraint\",\"value\":\"None\",\"type\":\"Literal\",\"bound_global_parameter\":null},{\"name\":\"user_kernel_constraint\",\"value\":\"\",\"type\":\"Literal\",\"bound_global_parameter\":null},{\"name\":\"bias_constraint\",\"value\":\"None\",\"type\":\"Literal\",\"bound_global_parameter\":null},{\"name\":\"user_bias_constraint\",\"value\":\"\",\"type\":\"Literal\",\"bound_global_parameter\":null},{\"name\":\"name\",\"value\":\"\",\"type\":\"Literal\",\"bound_global_parameter\":null}],\"input_ports\":[{\"name\":\"inputs\",\"node_id\":\"-168\"}],\"output_ports\":[{\"name\":\"data\",\"node_id\":\"-168\"}],\"cacheable\":false,\"seq_num\":8,\"comment\":\"\",\"comment_collapsed\":true},{\"node_id\":\"-196\",\"module_id\":\"BigQuantSpace.dl_layer_dense.dl_layer_dense-v1\",\"parameters\":[{\"name\":\"units\",\"value\":\"128\",\"type\":\"Literal\",\"bound_global_parameter\":null},{\"name\":\"activation\",\"value\":\"relu\",\"type\":\"Literal\",\"bound_global_parameter\":null},{\"name\":\"user_activation\",\"value\":\"\",\"type\":\"Literal\",\"bound_global_parameter\":null},{\"name\":\"use_bias\",\"value\":\"True\",\"type\":\"Literal\",\"bound_global_parameter\":null},{\"name\":\"kernel_initializer\",\"value\":\"glorot_uniform\",\"type\":\"Literal\",\"bound_global_parameter\":null},{\"name\":\"user_kernel_initializer\",\"value\":\"\",\"type\":\"Literal\",\"bound_global_parameter\":null},{\"name\":\"bias_initializer\",\"value\":\"Zeros\",\"type\":\"Literal\",\"bound_global_parameter\":null},{\"name\":\"user_bias_initializer\",\"value\":\"\",\"type\":\"Literal\",\"bound_global_parameter\":null},{\"name\":\"kernel_regularizer\",\"value\":\"None\",\"type\":\"Literal\",\"bound_global_parameter\":null},{\"name\":\"kernel_regularizer_l1\",\"value\":0,\"type\":\"Literal\",\"bound_global_parameter\":null},{\"name\":\"kernel_regularizer_l2\",\"value\":0,\"type\":\"Literal\",\"bound_global_parameter\":null},{\"name\":\"user_kernel_regularizer\",\"value\":\"\",\"type\":\"Literal\",\"bound_global_parameter\":null},{\"name\":\"bias_regularizer\",\"value\":\"None\",\"type\":\"Literal\",\"bound_global_parameter\":null},{\"name\":\"bias_regularizer_l1\",\"value\":0,\"type\":\"Literal\",\"bound_global_parameter\":null},{\"name\":\"bias_regularizer_l2\",\"value\":0,\"type\":\"Literal\",\"bound_global_parameter\":null},{\"name\":\"user_bias_regularizer\",\"value\":\"\",\"type\":\"Literal\",\"bound_global_parameter\":null},{\"name\":\"activity_regularizer\",\"value\":\"None\",\"type\":\"Literal\",\"bound_global_parameter\":null},{\"name\":\"activity_regularizer_l1\",\"value\":0,\"type\":\"Literal\",\"bound_global_parameter\":null},{\"name\":\"activity_regularizer_l2\",\"value\":0,\"type\":\"Literal\",\"bound_global_parameter\":null},{\"name\":\"user_activity_regularizer\",\"value\":\"\",\"type\":\"Literal\",\"bound_global_parameter\":null},{\"name\":\"kernel_constraint\",\"value\":\"None\",\"type\":\"Literal\",\"bound_global_parameter\":null},{\"name\":\"user_kernel_constraint\",\"value\":\"\",\"type\":\"Literal\",\"bound_global_parameter\":null},{\"name\":\"bias_constraint\",\"value\":\"None\",\"type\":\"Literal\",\"bound_global_parameter\":null},{\"name\":\"user_bias_constraint\",\"value\":\"\",\"type\":\"Literal\",\"bound_global_parameter\":null},{\"name\":\"name\",\"value\":\"\",\"type\":\"Literal\",\"bound_global_parameter\":null}],\"input_ports\":[{\"name\":\"inputs\",\"node_id\":\"-196\"}],\"output_ports\":[{\"name\":\"data\",\"node_id\":\"-196\"}],\"cacheable\":false,\"seq_num\":20,\"comment\":\"\",\"comment_collapsed\":true},{\"node_id\":\"-224\",\"module_id\":\"BigQuantSpace.dl_layer_dropout.dl_layer_dropout-v1\",\"parameters\":[{\"name\":\"rate\",\"value\":\"0.1\",\"type\":\"Literal\",\"bound_global_parameter\":null},{\"name\":\"noise_shape\",\"value\":\"\",\"type\":\"Literal\",\"bound_global_parameter\":null},{\"name\":\"seed\",\"value\":\"\",\"type\":\"Literal\",\"bound_global_parameter\":null},{\"name\":\"name\",\"value\":\"\",\"type\":\"Literal\",\"bound_global_parameter\":null}],\"input_ports\":[{\"name\":\"inputs\",\"node_id\":\"-224\"}],\"output_ports\":[{\"name\":\"data\",\"node_id\":\"-224\"}],\"cacheable\":false,\"seq_num\":21,\"comment\":\"\",\"comment_collapsed\":true},{\"node_id\":\"-231\",\"module_id\":\"BigQuantSpace.dl_layer_dropout.dl_layer_dropout-v1\",\"parameters\":[{\"name\":\"rate\",\"value\":\"0.1\",\"type\":\"Literal\",\"bound_global_parameter\":null},{\"name\":\"noise_shape\",\"value\":\"\",\"type\":\"Literal\",\"bound_global_parameter\":null},{\"name\":\"seed\",\"value\":\"\",\"type\":\"Literal\",\"bound_global_parameter\":null},{\"name\":\"name\",\"value\":\"\",\"type\":\"Literal\",\"bound_global_parameter\":null}],\"input_ports\":[{\"name\":\"inputs\",\"node_id\":\"-231\"}],\"output_ports\":[{\"name\":\"data\",\"node_id\":\"-231\"}],\"cacheable\":false,\"seq_num\":22,\"comment\":\"\",\"comment_collapsed\":true},{\"node_id\":\"-238\",\"module_id\":\"BigQuantSpace.dl_layer_dense.dl_layer_dense-v1\",\"parameters\":[{\"name\":\"units\",\"value\":\"1\",\"type\":\"Literal\",\"bound_global_parameter\":null},{\"name\":\"activation\",\"value\":\"linear\",\"type\":\"Literal\",\"bound_global_parameter\":null},{\"name\":\"user_activation\",\"value\":\"\",\"type\":\"Literal\",\"bound_global_parameter\":null},{\"name\":\"use_bias\",\"value\":\"True\",\"type\":\"Literal\",\"bound_global_parameter\":null},{\"name\":\"kernel_initializer\",\"value\":\"glorot_uniform\",\"type\":\"Literal\",\"bound_global_parameter\":null},{\"name\":\"user_kernel_initializer\",\"value\":\"\",\"type\":\"Literal\",\"bound_global_parameter\":null},{\"name\":\"bias_initializer\",\"value\":\"Zeros\",\"type\":\"Literal\",\"bound_global_parameter\":null},{\"name\":\"user_bias_initializer\",\"value\":\"\",\"type\":\"Literal\",\"bound_global_parameter\":null},{\"name\":\"kernel_regularizer\",\"value\":\"None\",\"type\":\"Literal\",\"bound_global_parameter\":null},{\"name\":\"kernel_regularizer_l1\",\"value\":0,\"type\":\"Literal\",\"bound_global_parameter\":null},{\"name\":\"kernel_regularizer_l2\",\"value\":0,\"type\":\"Literal\",\"bound_global_parameter\":null},{\"name\":\"user_kernel_regularizer\",\"value\":\"\",\"type\":\"Literal\",\"bound_global_parameter\":null},{\"name\":\"bias_regularizer\",\"value\":\"None\",\"type\":\"Literal\",\"bound_global_parameter\":null},{\"name\":\"bias_regularizer_l1\",\"value\":0,\"type\":\"Literal\",\"bound_global_parameter\":null},{\"name\":\"bias_regularizer_l2\",\"value\":0,\"type\":\"Literal\",\"bound_global_parameter\":null},{\"name\":\"user_bias_regularizer\",\"value\":\"\",\"type\":\"Literal\",\"bound_global_parameter\":null},{\"name\":\"activity_regularizer\",\"value\":\"None\",\"type\":\"Literal\",\"bound_global_parameter\":null},{\"name\":\"activity_regularizer_l1\",\"value\":0,\"type\":\"Literal\",\"bound_global_parameter\":null},{\"name\":\"activity_regularizer_l2\",\"value\":0,\"type\":\"Literal\",\"bound_global_parameter\":null},{\"name\":\"user_activity_regularizer\",\"value\":\"\",\"type\":\"Literal\",\"bound_global_parameter\":null},{\"name\":\"kernel_constraint\",\"value\":\"None\",\"type\":\"Literal\",\"bound_global_parameter\":null},{\"name\":\"user_kernel_constraint\",\"value\":\"\",\"type\":\"Literal\",\"bound_global_parameter\":null},{\"name\":\"bias_constraint\",\"value\":\"None\",\"type\":\"Literal\",\"bound_global_parameter\":null},{\"name\":\"user_bias_constraint\",\"value\":\"\",\"type\":\"Literal\",\"bound_global_parameter\":null},{\"name\":\"name\",\"value\":\"\",\"type\":\"Literal\",\"bound_global_parameter\":null}],\"input_ports\":[{\"name\":\"inputs\",\"node_id\":\"-238\"}],\"output_ports\":[{\"name\":\"data\",\"node_id\":\"-238\"}],\"cacheable\":false,\"seq_num\":23,\"comment\":\"\",\"comment_collapsed\":true},{\"node_id\":\"-682\",\"module_id\":\"BigQuantSpace.dl_model_init.dl_model_init-v1\",\"parameters\":[],\"input_ports\":[{\"name\":\"inputs\",\"node_id\":\"-682\"},{\"name\":\"outputs\",\"node_id\":\"-682\"}],\"output_ports\":[{\"name\":\"data\",\"node_id\":\"-682\"}],\"cacheable\":false,\"seq_num\":4,\"comment\":\"\",\"comment_collapsed\":true},{\"node_id\":\"-1098\",\"module_id\":\"BigQuantSpace.dl_model_train.dl_model_train-v1\",\"parameters\":[{\"name\":\"optimizer\",\"value\":\"Adam\",\"type\":\"Literal\",\"bound_global_parameter\":null},{\"name\":\"user_optimizer\",\"value\":\"\",\"type\":\"Literal\",\"bound_global_parameter\":null},{\"name\":\"loss\",\"value\":\"mean_squared_error\",\"type\":\"Literal\",\"bound_global_parameter\":null},{\"name\":\"user_loss\",\"value\":\"\",\"type\":\"Literal\",\"bound_global_parameter\":null},{\"name\":\"metrics\",\"value\":\"mse\",\"type\":\"Literal\",\"bound_global_parameter\":null},{\"name\":\"batch_size\",\"value\":\"1024\",\"type\":\"Literal\",\"bound_global_parameter\":null},{\"name\":\"epochs\",\"value\":\"10\",\"type\":\"Literal\",\"bound_global_parameter\":null},{\"name\":\"earlystop\",\"value\":\"from tensorflow.keras.callbacks import EarlyStopping\\nbigquant_run=EarlyStopping(monitor='val_mse', min_delta=0.0001, patience=3)\",\"type\":\"Literal\",\"bound_global_parameter\":null},{\"name\":\"custom_objects\",\"value\":\"# 用户的自定义层需要写到字典中，比如\\n# {\\n#   \\\"MyLayer\\\": MyLayer\\n# }\\nbigquant_run = {\\n \\n}\\n\",\"type\":\"Literal\",\"bound_global_parameter\":null},{\"name\":\"n_gpus\",\"value\":\"0\",\"type\":\"Literal\",\"bound_global_parameter\":null},{\"name\":\"verbose\",\"value\":\"2:每个epoch输出一行记录\",\"type\":\"Literal\",\"bound_global_parameter\":null}],\"input_ports\":[{\"name\":\"input_model\",\"node_id\":\"-1098\"},{\"name\":\"training_data\",\"node_id\":\"-1098\"},{\"name\":\"validation_data\",\"node_id\":\"-1098\"}],\"output_ports\":[{\"name\":\"data\",\"node_id\":\"-1098\"}],\"cacheable\":true,\"seq_num\":5,\"comment\":\"\",\"comment_collapsed\":true},{\"node_id\":\"-1540\",\"module_id\":\"BigQuantSpace.dl_model_predict.dl_model_predict-v1\",\"parameters\":[{\"name\":\"batch_size\",\"value\":\"1024\",\"type\":\"Literal\",\"bound_global_parameter\":null},{\"name\":\"n_gpus\",\"value\":0,\"type\":\"Literal\",\"bound_global_parameter\":null},{\"name\":\"verbose\",\"value\":\"2:每个epoch输出一行记录\",\"type\":\"Literal\",\"bound_global_parameter\":null}],\"input_ports\":[{\"name\":\"trained_model\",\"node_id\":\"-1540\"},{\"name\":\"input_data\",\"node_id\":\"-1540\"}],\"output_ports\":[{\"name\":\"data\",\"node_id\":\"-1540\"}],\"cacheable\":true,\"seq_num\":11,\"comment\":\"\",\"comment_collapsed\":true},{\"node_id\":\"-2431\",\"module_id\":\"BigQuantSpace.cached.cached-v3\",\"parameters\":[{\"name\":\"run\",\"value\":\"# Python 代码入口函数，input_1/2/3 对应三个输入端，data_1/2/3 对应三个输出端\\ndef bigquant_run(input_1, input_2, input_3):\\n    # 示例代码如下。在这里编写您的代码\\n    pred_label = input_1.read_pickle()\\n    df = input_2.read_df()\\n    df = pd.DataFrame({'pred_label':pred_label[:,0], 'instrument':df.instrument, 'date':df.date})\\n    df.sort_values(['date','pred_label'],inplace=True, ascending=[True,False])\\n    return Outputs(data_1=DataSource.write_df(df), data_2=None, data_3=None)\\n\",\"type\":\"Literal\",\"bound_global_parameter\":null},{\"name\":\"post_run\",\"value\":\"# 后处理函数，可选。输入是主函数的输出，可以在这里对数据做处理，或者返回更友好的outputs数据格式。此函数输出不会被缓存。\\ndef bigquant_run(outputs):\\n    return outputs\\n\",\"type\":\"Literal\",\"bound_global_parameter\":null},{\"name\":\"input_ports\",\"value\":\"\",\"type\":\"Literal\",\"bound_global_parameter\":null},{\"name\":\"params\",\"value\":\"{}\",\"type\":\"Literal\",\"bound_global_parameter\":null},{\"name\":\"output_ports\",\"value\":\"\",\"type\":\"Literal\",\"bound_global_parameter\":null}],\"input_ports\":[{\"name\":\"input_1\",\"node_id\":\"-2431\"},{\"name\":\"input_2\",\"node_id\":\"-2431\"},{\"name\":\"input_3\",\"node_id\":\"-2431\"}],\"output_ports\":[{\"name\":\"data_1\",\"node_id\":\"-2431\"},{\"name\":\"data_2\",\"node_id\":\"-2431\"},{\"name\":\"data_3\",\"node_id\":\"-2431\"}],\"cacheable\":true,\"seq_num\":24,\"comment\":\"\",\"comment_collapsed\":true},{\"node_id\":\"-243\",\"module_id\":\"BigQuantSpace.dl_convert_to_bin.dl_convert_to_bin-v2\",\"parameters\":[{\"name\":\"window_size\",\"value\":1,\"type\":\"Literal\",\"bound_global_parameter\":null},{\"name\":\"feature_clip\",\"value\":\"3\",\"type\":\"Literal\",\"bound_global_parameter\":null},{\"name\":\"flatten\",\"value\":\"True\",\"type\":\"Literal\",\"bound_global_parameter\":null},{\"name\":\"window_along_col\",\"value\":\"instrument\",\"type\":\"Literal\",\"bound_global_parameter\":null}],\"input_ports\":[{\"name\":\"input_data\",\"node_id\":\"-243\"},{\"name\":\"features\",\"node_id\":\"-243\"}],\"output_ports\":[{\"name\":\"data\",\"node_id\":\"-243\"}],\"cacheable\":true,\"seq_num\":26,\"comment\":\"\",\"comment_collapsed\":true},{\"node_id\":\"-251\",\"module_id\":\"BigQuantSpace.dl_convert_to_bin.dl_convert_to_bin-v2\",\"parameters\":[{\"name\":\"window_size\",\"value\":1,\"type\":\"Literal\",\"bound_global_parameter\":null},{\"name\":\"feature_clip\",\"value\":\"3\",\"type\":\"Literal\",\"bound_global_parameter\":null},{\"name\":\"flatten\",\"value\":\"True\",\"type\":\"Literal\",\"bound_global_parameter\":null},{\"name\":\"window_along_col\",\"value\":\"instrument\",\"type\":\"Literal\",\"bound_global_parameter\":null}],\"input_ports\":[{\"name\":\"input_data\",\"node_id\":\"-251\"},{\"name\":\"features\",\"node_id\":\"-251\"}],\"output_ports\":[{\"name\":\"data\",\"node_id\":\"-251\"}],\"cacheable\":true,\"seq_num\":27,\"comment\":\"\",\"comment_collapsed\":true},{\"node_id\":\"-436\",\"module_id\":\"BigQuantSpace.cached.cached-v3\",\"parameters\":[{\"name\":\"run\",\"value\":\"# Python 代码入口函数，input_1/2/3 对应三个输入端，data_1/2/3 对应三个输出端\\ndef bigquant_run(input_1, input_2, input_3):\\n    # 示例代码如下。在这里编写您的代码\\n    from sklearn.model_selection import train_test_split\\n    data = input_1.read()\\n    x_train, x_val, y_train, y_val = train_test_split(data[\\\"x\\\"], data['y'], test_size=0.1)\\n    data_1 = DataSource.write_pickle({'x': x_train, 'y': y_train})\\n    data_2 = DataSource.write_pickle({'x': x_val, 'y': y_val})\\n    return Outputs(data_1=data_1, data_2=data_2, data_3=None)\\n\",\"type\":\"Literal\",\"bound_global_parameter\":null},{\"name\":\"post_run\",\"value\":\"# 后处理函数，可选。输入是主函数的输出，可以在这里对数据做处理，或者返回更友好的outputs数据格式。此函数输出不会被缓存。\\ndef bigquant_run(outputs):\\n    return outputs\\n\",\"type\":\"Literal\",\"bound_global_parameter\":null},{\"name\":\"input_ports\",\"value\":\"\",\"type\":\"Literal\",\"bound_global_parameter\":null},{\"name\":\"params\",\"value\":\"{}\",\"type\":\"Literal\",\"bound_global_parameter\":null},{\"name\":\"output_ports\",\"value\":\"\",\"type\":\"Literal\",\"bound_global_parameter\":null}],\"input_ports\":[{\"name\":\"input_1\",\"node_id\":\"-436\"},{\"name\":\"input_2\",\"node_id\":\"-436\"},{\"name\":\"input_3\",\"node_id\":\"-436\"}],\"output_ports\":[{\"name\":\"data_1\",\"node_id\":\"-436\"},{\"name\":\"data_2\",\"node_id\":\"-436\"},{\"name\":\"data_3\",\"node_id\":\"-436\"}],\"cacheable\":true,\"seq_num\":10,\"comment\":\"\",\"comment_collapsed\":true},{\"node_id\":\"-266\",\"module_id\":\"BigQuantSpace.standardlize.standardlize-v8\",\"parameters\":[{\"name\":\"columns_input\",\"value\":\"[]\",\"type\":\"Literal\",\"bound_global_parameter\":null}],\"input_ports\":[{\"name\":\"input_1\",\"node_id\":\"-266\"},{\"name\":\"input_2\",\"node_id\":\"-266\"}],\"output_ports\":[{\"name\":\"data\",\"node_id\":\"-266\"}],\"cacheable\":true,\"seq_num\":28,\"comment\":\"\",\"comment_collapsed\":true},{\"node_id\":\"-288\",\"module_id\":\"BigQuantSpace.fillnan.fillnan-v1\",\"parameters\":[{\"name\":\"fill_value\",\"value\":\"0.0\",\"type\":\"Literal\",\"bound_global_parameter\":null}],\"input_ports\":[{\"name\":\"input_data\",\"node_id\":\"-288\"},{\"name\":\"features\",\"node_id\":\"-288\"}],\"output_ports\":[{\"name\":\"data\",\"node_id\":\"-288\"}],\"cacheable\":true,\"seq_num\":13,\"comment\":\"\",\"comment_collapsed\":true},{\"node_id\":\"-293\",\"module_id\":\"BigQuantSpace.fillnan.fillnan-v1\",\"parameters\":[{\"name\":\"fill_value\",\"value\":\"0.0\",\"type\":\"Literal\",\"bound_global_parameter\":null}],\"input_ports\":[{\"name\":\"input_data\",\"node_id\":\"-293\"},{\"name\":\"features\",\"node_id\":\"-293\"}],\"output_ports\":[{\"name\":\"data\",\"node_id\":\"-293\"}],\"cacheable\":true,\"seq_num\":14,\"comment\":\"\",\"comment_collapsed\":true},{\"node_id\":\"-298\",\"module_id\":\"BigQuantSpace.standardlize.standardlize-v8\",\"parameters\":[{\"name\":\"columns_input\",\"value\":\"[]\",\"type\":\"Literal\",\"bound_global_parameter\":null}],\"input_ports\":[{\"name\":\"input_1\",\"node_id\":\"-298\"},{\"name\":\"input_2\",\"node_id\":\"-298\"}],\"output_ports\":[{\"name\":\"data\",\"node_id\":\"-298\"}],\"cacheable\":true,\"seq_num\":25,\"comment\":\"\",\"comment_collapsed\":true},{\"node_id\":\"-2469\",\"module_id\":\"BigQuantSpace.standardlize.standardlize-v9\",\"parameters\":[{\"name\":\"standard_func\",\"value\":\"ZScoreNorm\",\"type\":\"Literal\",\"bound_global_parameter\":null},{\"name\":\"columns_input\",\"value\":\"label\",\"type\":\"Literal\",\"bound_global_parameter\":null}],\"input_ports\":[{\"name\":\"input_1\",\"node_id\":\"-2469\"},{\"name\":\"input_2\",\"node_id\":\"-2469\"}],\"output_ports\":[{\"name\":\"data\",\"node_id\":\"-2469\"}],\"cacheable\":true,\"seq_num\":12,\"comment\":\"\",\"comment_collapsed\":true},{\"node_id\":\"-270\",\"module_id\":\"BigQuantSpace.dl_layer_batchnormalization.dl_layer_batchnormalization-v1\",\"parameters\":[{\"name\":\"axis\",\"value\":-1,\"type\":\"Literal\",\"bound_global_parameter\":null},{\"name\":\"momentum\",\"value\":0.99,\"type\":\"Literal\",\"bound_global_parameter\":null},{\"name\":\"epsilon\",\"value\":0.001,\"type\":\"Literal\",\"bound_global_parameter\":null},{\"name\":\"center\",\"value\":\"True\",\"type\":\"Literal\",\"bound_global_parameter\":null},{\"name\":\"scale\",\"value\":\"True\",\"type\":\"Literal\",\"bound_global_parameter\":null},{\"name\":\"beta_initializer\",\"value\":\"he_normal\",\"type\":\"Literal\",\"bound_global_parameter\":null},{\"name\":\"user_beta_initializer\",\"value\":\"\",\"type\":\"Literal\",\"bound_global_parameter\":null},{\"name\":\"gamma_initializer\",\"value\":\"he_normal\",\"type\":\"Literal\",\"bound_global_parameter\":null},{\"name\":\"user_gamma_initializer\",\"value\":\"\",\"type\":\"Literal\",\"bound_global_parameter\":null},{\"name\":\"moving_mean_initializer\",\"value\":\"he_normal\",\"type\":\"Literal\",\"bound_global_parameter\":null},{\"name\":\"user_moving_mean_initializer\",\"value\":\"\",\"type\":\"Literal\",\"bound_global_parameter\":null},{\"name\":\"moving_variance_initializer\",\"value\":\"he_normal\",\"type\":\"Literal\",\"bound_global_parameter\":null},{\"name\":\"user_moving_variance_initializer\",\"value\":\"\",\"type\":\"Literal\",\"bound_global_parameter\":null},{\"name\":\"beta_regularizer\",\"value\":\"None\",\"type\":\"Literal\",\"bound_global_parameter\":null},{\"name\":\"beta_regularizer_l1\",\"value\":0,\"type\":\"Literal\",\"bound_global_parameter\":null},{\"name\":\"beta_regularizer_l2\",\"value\":0,\"type\":\"Literal\",\"bound_global_parameter\":null},{\"name\":\"user_beta_regularizer\",\"value\":\"\",\"type\":\"Literal\",\"bound_global_parameter\":null},{\"name\":\"gamma_regularizer\",\"value\":\"None\",\"type\":\"Literal\",\"bound_global_parameter\":null},{\"name\":\"gamma_regularizer_l1\",\"value\":0,\"type\":\"Literal\",\"bound_global_parameter\":null},{\"name\":\"gamma_regularizer_l2\",\"value\":0,\"type\":\"Literal\",\"bound_global_parameter\":null},{\"name\":\"user_gamma_regularizer\",\"value\":\"\",\"type\":\"Literal\",\"bound_global_parameter\":null},{\"name\":\"beta_constraint\",\"value\":\"None\",\"type\":\"Literal\",\"bound_global_parameter\":null},{\"name\":\"user_beta_constraint\",\"value\":\"\",\"type\":\"Literal\",\"bound_global_parameter\":null},{\"name\":\"gamma_constraint\",\"value\":\"None\",\"type\":\"Literal\",\"bound_global_parameter\":null},{\"name\":\"user_gamma_constraint\",\"value\":\"\",\"type\":\"Literal\",\"bound_global_parameter\":null},{\"name\":\"name\",\"value\":\"\",\"type\":\"Literal\",\"bound_global_parameter\":null}],\"input_ports\":[{\"name\":\"inputs\",\"node_id\":\"-270\"}],\"output_ports\":[{\"name\":\"data\",\"node_id\":\"-270\"}],\"cacheable\":false,\"seq_num\":29,\"comment\":\"\",\"comment_collapsed\":true},{\"node_id\":\"-364\",\"module_id\":\"BigQuantSpace.chinaa_stock_filter.chinaa_stock_filter-v1\",\"parameters\":[{\"name\":\"index_constituent_cond\",\"value\":\"%7B%22enumItems%22%3A%5B%7B%22value%22%3A%22%E5%85%A8%E9%83%A8%22%2C%22displayValue%22%3A%22%E5%85%A8%E9%83%A8%22%2C%22selected%22%3Atrue%7D%2C%7B%22value%22%3A%22%E4%B8%8A%E8%AF%8150%22%2C%22displayValue%22%3A%22%E4%B8%8A%E8%AF%8150%22%2C%22selected%22%3Afalse%7D%2C%7B%22value%22%3A%22%E6%B2%AA%E6%B7%B1300%22%2C%22displayValue%22%3A%22%E6%B2%AA%E6%B7%B1300%22%2C%22selected%22%3Afalse%7D%2C%7B%22value%22%3A%22%E4%B8%AD%E8%AF%81500%22%2C%22displayValue%22%3A%22%E4%B8%AD%E8%AF%81500%22%2C%22selected%22%3Afalse%7D%2C%7B%22value%22%3A%22%E4%B8%AD%E8%AF%81800%22%2C%22displayValue%22%3A%22%E4%B8%AD%E8%AF%81800%22%2C%22selected%22%3Afalse%7D%2C%7B%22value%22%3A%22%E4%B8%8A%E8%AF%81180%22%2C%22displayValue%22%3A%22%E4%B8%8A%E8%AF%81180%22%2C%22selected%22%3Afalse%7D%2C%7B%22value%22%3A%22%E4%B8%AD%E8%AF%81100%22%2C%22displayValue%22%3A%22%E4%B8%AD%E8%AF%81100%22%2C%22selected%22%3Afalse%7D%2C%7B%22value%22%3A%22%E6%B7%B1%E8%AF%81100%22%2C%22displayValue%22%3A%22%E6%B7%B1%E8%AF%81100%22%2C%22selected%22%3Afalse%7D%5D%7D\",\"type\":\"Literal\",\"bound_global_parameter\":null},{\"name\":\"board_cond\",\"value\":\"%7B%22enumItems%22%3A%5B%7B%22value%22%3A%22%E5%85%A8%E9%83%A8%22%2C%22displayValue%22%3A%22%E5%85%A8%E9%83%A8%22%2C%22selected%22%3Atrue%7D%2C%7B%22value%22%3A%22%E4%B8%8A%E8%AF%81%E4%B8%BB%E6%9D%BF%22%2C%22displayValue%22%3A%22%E4%B8%8A%E8%AF%81%E4%B8%BB%E6%9D%BF%22%2C%22selected%22%3Afalse%7D%2C%7B%22value%22%3A%22%E6%B7%B1%E8%AF%81%E4%B8%BB%E6%9D%BF%22%2C%22displayValue%22%3A%22%E6%B7%B1%E8%AF%81%E4%B8%BB%E6%9D%BF%22%2C%22selected%22%3Afalse%7D%2C%7B%22value%22%3A%22%E5%88%9B%E4%B8%9A%E6%9D%BF%22%2C%22displayValue%22%3A%22%E5%88%9B%E4%B8%9A%E6%9D%BF%22%2C%22selected%22%3Afalse%7D%2C%7B%22value%22%3A%22%E7%A7%91%E5%88%9B%E6%9D%BF%22%2C%22displayValue%22%3A%22%E7%A7%91%E5%88%9B%E6%9D%BF%22%2C%22selected%22%3Afalse%7D%2C%7B%22value%22%3A%22%E5%8C%97%E4%BA%A4%E6%89%80%22%2C%22displayValue%22%3A%22%E5%8C%97%E4%BA%A4%E6%89%80%22%2C%22selected%22%3Afalse%7D%5D%7D\",\"type\":\"Literal\",\"bound_global_parameter\":null},{\"name\":\"industry_cond\",\"value\":\"%7B%22enumItems%22%3A%5B%7B%22value%22%3A%22%E5%85%A8%E9%83%A8%22%2C%22displayValue%22%3A%22%E5%85%A8%E9%83%A8%22%2C%22selected%22%3Atrue%7D%2C%7B%22value%22%3A%22%E4%BA%A4%E9%80%9A%E8%BF%90%E8%BE%93%22%2C%22displayValue%22%3A%22%E4%BA%A4%E9%80%9A%E8%BF%90%E8%BE%93%22%2C%22selected%22%3Afalse%7D%2C%7B%22value%22%3A%22%E4%BC%91%E9%97%B2%E6%9C%8D%E5%8A%A1%22%2C%22displayValue%22%3A%22%E4%BC%91%E9%97%B2%E6%9C%8D%E5%8A%A1%22%2C%22selected%22%3Afalse%7D%2C%7B%22value%22%3A%22%E4%BC%A0%E5%AA%92%2F%E4%BF%A1%E6%81%AF%E6%9C%8D%E5%8A%A1%22%2C%22displayValue%22%3A%22%E4%BC%A0%E5%AA%92%2F%E4%BF%A1%E6%81%AF%E6%9C%8D%E5%8A%A1%22%2C%22selected%22%3Afalse%7D%2C%7B%22value%22%3A%22%E5%85%AC%E7%94%A8%E4%BA%8B%E4%B8%9A%22%2C%22displayValue%22%3A%22%E5%85%AC%E7%94%A8%E4%BA%8B%E4%B8%9A%22%2C%22selected%22%3Afalse%7D%2C%7B%22value%22%3A%22%E5%86%9C%E6%9E%97%E7%89%A7%E6%B8%94%22%2C%22displayValue%22%3A%22%E5%86%9C%E6%9E%97%E7%89%A7%E6%B8%94%22%2C%22selected%22%3Afalse%7D%2C%7B%22value%22%3A%22%E5%8C%96%E5%B7%A5%22%2C%22displayValue%22%3A%22%E5%8C%96%E5%B7%A5%22%2C%22selected%22%3Afalse%7D%2C%7B%22value%22%3A%22%E5%8C%BB%E8%8D%AF%E7%94%9F%E7%89%A9%22%2C%22displayValue%22%3A%22%E5%8C%BB%E8%8D%AF%E7%94%9F%E7%89%A9%22%2C%22selected%22%3Afalse%7D%2C%7B%22value%22%3A%22%E5%95%86%E4%B8%9A%E8%B4%B8%E6%98%93%22%2C%22displayValue%22%3A%22%E5%95%86%E4%B8%9A%E8%B4%B8%E6%98%93%22%2C%22selected%22%3Afalse%7D%2C%7B%22value%22%3A%22%E5%9B%BD%E9%98%B2%E5%86%9B%E5%B7%A5%22%2C%22displayValue%22%3A%22%E5%9B%BD%E9%98%B2%E5%86%9B%E5%B7%A5%22%2C%22selected%22%3Afalse%7D%2C%7B%22value%22%3A%22%E5%AE%B6%E7%94%A8%E7%94%B5%E5%99%A8%22%2C%22displayValue%22%3A%22%E5%AE%B6%E7%94%A8%E7%94%B5%E5%99%A8%22%2C%22selected%22%3Afalse%7D%2C%7B%22value%22%3A%22%E5%BB%BA%E7%AD%91%E6%9D%90%E6%96%99%2F%E5%BB%BA%E7%AD%91%E5%BB%BA%E6%9D%90%22%2C%22displayValue%22%3A%22%E5%BB%BA%E7%AD%91%E6%9D%90%E6%96%99%2F%E5%BB%BA%E7%AD%91%E5%BB%BA%E6%9D%90%22%2C%22selected%22%3Afalse%7D%2C%7B%22value%22%3A%22%E5%BB%BA%E7%AD%91%E8%A3%85%E9%A5%B0%22%2C%22displayValue%22%3A%22%E5%BB%BA%E7%AD%91%E8%A3%85%E9%A5%B0%22%2C%22selected%22%3Afalse%7D%2C%7B%22value%22%3A%22%E6%88%BF%E5%9C%B0%E4%BA%A7%22%2C%22displayValue%22%3A%22%E6%88%BF%E5%9C%B0%E4%BA%A7%22%2C%22selected%22%3Afalse%7D%2C%7B%22value%22%3A%22%E6%9C%89%E8%89%B2%E9%87%91%E5%B1%9E%22%2C%22displayValue%22%3A%22%E6%9C%89%E8%89%B2%E9%87%91%E5%B1%9E%22%2C%22selected%22%3Afalse%7D%2C%7B%22value%22%3A%22%E6%9C%BA%E6%A2%B0%E8%AE%BE%E5%A4%87%22%2C%22displayValue%22%3A%22%E6%9C%BA%E6%A2%B0%E8%AE%BE%E5%A4%87%22%2C%22selected%22%3Afalse%7D%2C%7B%22value%22%3A%22%E6%B1%BD%E8%BD%A6%2F%E4%BA%A4%E8%BF%90%E8%AE%BE%E5%A4%87%22%2C%22displayValue%22%3A%22%E6%B1%BD%E8%BD%A6%2F%E4%BA%A4%E8%BF%90%E8%AE%BE%E5%A4%87%22%2C%22selected%22%3Afalse%7D%2C%7B%22value%22%3A%22%E7%94%B5%E5%AD%90%22%2C%22displayValue%22%3A%22%E7%94%B5%E5%AD%90%22%2C%22selected%22%3Afalse%7D%2C%7B%22value%22%3A%22%E7%94%B5%E6%B0%94%E8%AE%BE%E5%A4%87%22%2C%22displayValue%22%3A%22%E7%94%B5%E6%B0%94%E8%AE%BE%E5%A4%87%22%2C%22selected%22%3Afalse%7D%2C%7B%22value%22%3A%22%E7%BA%BA%E7%BB%87%E6%9C%8D%E8%A3%85%22%2C%22displayValue%22%3A%22%E7%BA%BA%E7%BB%87%E6%9C%8D%E8%A3%85%22%2C%22selected%22%3Afalse%7D%2C%7B%22value%22%3A%22%E7%BB%BC%E5%90%88%22%2C%22displayValue%22%3A%22%E7%BB%BC%E5%90%88%22%2C%22selected%22%3Afalse%7D%2C%7B%22value%22%3A%22%E8%AE%A1%E7%AE%97%E6%9C%BA%22%2C%22displayValue%22%3A%22%E8%AE%A1%E7%AE%97%E6%9C%BA%22%2C%22selected%22%3Afalse%7D%2C%7B%22value%22%3A%22%E8%BD%BB%E5%B7%A5%E5%88%B6%E9%80%A0%22%2C%22displayValue%22%3A%22%E8%BD%BB%E5%B7%A5%E5%88%B6%E9%80%A0%22%2C%22selected%22%3Afalse%7D%2C%7B%22value%22%3A%22%E9%80%9A%E4%BF%A1%22%2C%22displayValue%22%3A%22%E9%80%9A%E4%BF%A1%22%2C%22selected%22%3Afalse%7D%2C%7B%22value%22%3A%22%E9%87%87%E6%8E%98%22%2C%22displayValue%22%3A%22%E9%87%87%E6%8E%98%22%2C%22selected%22%3Afalse%7D%2C%7B%22value%22%3A%22%E9%92%A2%E9%93%81%22%2C%22displayValue%22%3A%22%E9%92%A2%E9%93%81%22%2C%22selected%22%3Afalse%7D%2C%7B%22value%22%3A%22%E9%93%B6%E8%A1%8C%22%2C%22displayValue%22%3A%22%E9%93%B6%E8%A1%8C%22%2C%22selected%22%3Afalse%7D%2C%7B%22value%22%3A%22%E9%9D%9E%E9%93%B6%E9%87%91%E8%9E%8D%22%2C%22displayValue%22%3A%22%E9%9D%9E%E9%93%B6%E9%87%91%E8%9E%8D%22%2C%22selected%22%3Afalse%7D%2C%7B%22value%22%3A%22%E9%A3%9F%E5%93%81%E9%A5%AE%E6%96%99%22%2C%22displayValue%22%3A%22%E9%A3%9F%E5%93%81%E9%A5%AE%E6%96%99%22%2C%22selected%22%3Afalse%7D%5D%7D\",\"type\":\"Literal\",\"bound_global_parameter\":null},{\"name\":\"st_cond\",\"value\":\"%7B%22enumItems%22%3A%5B%7B%22value%22%3A%22%E5%85%A8%E9%83%A8%22%2C%22displayValue%22%3A%22%E5%85%A8%E9%83%A8%22%2C%22selected%22%3Atrue%7D%2C%7B%22value%22%3A%22%E6%AD%A3%E5%B8%B8%22%2C%22displayValue%22%3A%22%E6%AD%A3%E5%B8%B8%22%2C%22selected%22%3Afalse%7D%2C%7B%22value%22%3A%22ST%22%2C%22displayValue%22%3A%22ST%22%2C%22selected%22%3Afalse%7D%2C%7B%22value%22%3A%22*ST%22%2C%22displayValue%22%3A%22*ST%22%2C%22selected%22%3Afalse%7D%2C%7B%22value%22%3A%22%E6%9A%82%E5%81%9C%E4%B8%8A%E5%B8%82%22%2C%22displayValue%22%3A%22%E6%9A%82%E5%81%9C%E4%B8%8A%E5%B8%82%22%2C%22selected%22%3Afalse%7D%5D%7D\",\"type\":\"Literal\",\"bound_global_parameter\":null},{\"name\":\"delist_cond\",\"value\":\"%7B%22enumItems%22%3A%5B%7B%22value%22%3A%22%E5%85%A8%E9%83%A8%22%2C%22displayValue%22%3A%22%E5%85%A8%E9%83%A8%22%2C%22selected%22%3Atrue%7D%2C%7B%22value%22%3A%22%E9%80%80%E5%B8%82%22%2C%22displayValue%22%3A%22%E9%80%80%E5%B8%82%22%2C%22selected%22%3Afalse%7D%2C%7B%22value%22%3A%22%E9%9D%9E%E9%80%80%E5%B8%82%22%2C%22displayValue%22%3A%22%E9%9D%9E%E9%80%80%E5%B8%82%22%2C%22selected%22%3Afalse%7D%5D%7D\",\"type\":\"Literal\",\"bound_global_parameter\":null},{\"name\":\"output_left_data\",\"value\":\"False\",\"type\":\"Literal\",\"bound_global_parameter\":null}],\"input_ports\":[{\"name\":\"input_data\",\"node_id\":\"-364\"}],\"output_ports\":[{\"name\":\"data\",\"node_id\":\"-364\"},{\"name\":\"left_data\",\"node_id\":\"-364\"}],\"cacheable\":true,\"seq_num\":30,\"comment\":\"\",\"comment_collapsed\":true},{\"node_id\":\"-374\",\"module_id\":\"BigQuantSpace.chinaa_stock_filter.chinaa_stock_filter-v1\",\"parameters\":[{\"name\":\"index_constituent_cond\",\"value\":\"%7B%22enumItems%22%3A%5B%7B%22value%22%3A%22%E5%85%A8%E9%83%A8%22%2C%22displayValue%22%3A%22%E5%85%A8%E9%83%A8%22%2C%22selected%22%3Atrue%7D%2C%7B%22value%22%3A%22%E4%B8%8A%E8%AF%8150%22%2C%22displayValue%22%3A%22%E4%B8%8A%E8%AF%8150%22%2C%22selected%22%3Afalse%7D%2C%7B%22value%22%3A%22%E6%B2%AA%E6%B7%B1300%22%2C%22displayValue%22%3A%22%E6%B2%AA%E6%B7%B1300%22%2C%22selected%22%3Afalse%7D%2C%7B%22value%22%3A%22%E4%B8%AD%E8%AF%81500%22%2C%22displayValue%22%3A%22%E4%B8%AD%E8%AF%81500%22%2C%22selected%22%3Afalse%7D%2C%7B%22value%22%3A%22%E4%B8%AD%E8%AF%81800%22%2C%22displayValue%22%3A%22%E4%B8%AD%E8%AF%81800%22%2C%22selected%22%3Afalse%7D%2C%7B%22value%22%3A%22%E4%B8%8A%E8%AF%81180%22%2C%22displayValue%22%3A%22%E4%B8%8A%E8%AF%81180%22%2C%22selected%22%3Afalse%7D%2C%7B%22value%22%3A%22%E4%B8%AD%E8%AF%81100%22%2C%22displayValue%22%3A%22%E4%B8%AD%E8%AF%81100%22%2C%22selected%22%3Afalse%7D%2C%7B%22value%22%3A%22%E6%B7%B1%E8%AF%81100%22%2C%22displayValue%22%3A%22%E6%B7%B1%E8%AF%81100%22%2C%22selected%22%3Afalse%7D%5D%7D\",\"type\":\"Literal\",\"bound_global_parameter\":null},{\"name\":\"board_cond\",\"value\":\"%7B%22enumItems%22%3A%5B%7B%22value%22%3A%22%E5%85%A8%E9%83%A8%22%2C%22displayValue%22%3A%22%E5%85%A8%E9%83%A8%22%2C%22selected%22%3Atrue%7D%2C%7B%22value%22%3A%22%E4%B8%8A%E8%AF%81%E4%B8%BB%E6%9D%BF%22%2C%22displayValue%22%3A%22%E4%B8%8A%E8%AF%81%E4%B8%BB%E6%9D%BF%22%2C%22selected%22%3Afalse%7D%2C%7B%22value%22%3A%22%E6%B7%B1%E8%AF%81%E4%B8%BB%E6%9D%BF%22%2C%22displayValue%22%3A%22%E6%B7%B1%E8%AF%81%E4%B8%BB%E6%9D%BF%22%2C%22selected%22%3Afalse%7D%2C%7B%22value%22%3A%22%E5%88%9B%E4%B8%9A%E6%9D%BF%22%2C%22displayValue%22%3A%22%E5%88%9B%E4%B8%9A%E6%9D%BF%22%2C%22selected%22%3Afalse%7D%2C%7B%22value%22%3A%22%E7%A7%91%E5%88%9B%E6%9D%BF%22%2C%22displayValue%22%3A%22%E7%A7%91%E5%88%9B%E6%9D%BF%22%2C%22selected%22%3Afalse%7D%2C%7B%22value%22%3A%22%E5%8C%97%E4%BA%A4%E6%89%80%22%2C%22displayValue%22%3A%22%E5%8C%97%E4%BA%A4%E6%89%80%22%2C%22selected%22%3Afalse%7D%5D%7D\",\"type\":\"Literal\",\"bound_global_parameter\":null},{\"name\":\"industry_cond\",\"value\":\"%7B%22enumItems%22%3A%5B%7B%22value%22%3A%22%E5%85%A8%E9%83%A8%22%2C%22displayValue%22%3A%22%E5%85%A8%E9%83%A8%22%2C%22selected%22%3Atrue%7D%2C%7B%22value%22%3A%22%E4%BA%A4%E9%80%9A%E8%BF%90%E8%BE%93%22%2C%22displayValue%22%3A%22%E4%BA%A4%E9%80%9A%E8%BF%90%E8%BE%93%22%2C%22selected%22%3Afalse%7D%2C%7B%22value%22%3A%22%E4%BC%91%E9%97%B2%E6%9C%8D%E5%8A%A1%22%2C%22displayValue%22%3A%22%E4%BC%91%E9%97%B2%E6%9C%8D%E5%8A%A1%22%2C%22selected%22%3Afalse%7D%2C%7B%22value%22%3A%22%E4%BC%A0%E5%AA%92%2F%E4%BF%A1%E6%81%AF%E6%9C%8D%E5%8A%A1%22%2C%22displayValue%22%3A%22%E4%BC%A0%E5%AA%92%2F%E4%BF%A1%E6%81%AF%E6%9C%8D%E5%8A%A1%22%2C%22selected%22%3Afalse%7D%2C%7B%22value%22%3A%22%E5%85%AC%E7%94%A8%E4%BA%8B%E4%B8%9A%22%2C%22displayValue%22%3A%22%E5%85%AC%E7%94%A8%E4%BA%8B%E4%B8%9A%22%2C%22selected%22%3Afalse%7D%2C%7B%22value%22%3A%22%E5%86%9C%E6%9E%97%E7%89%A7%E6%B8%94%22%2C%22displayValue%22%3A%22%E5%86%9C%E6%9E%97%E7%89%A7%E6%B8%94%22%2C%22selected%22%3Afalse%7D%2C%7B%22value%22%3A%22%E5%8C%96%E5%B7%A5%22%2C%22displayValue%22%3A%22%E5%8C%96%E5%B7%A5%22%2C%22selected%22%3Afalse%7D%2C%7B%22value%22%3A%22%E5%8C%BB%E8%8D%AF%E7%94%9F%E7%89%A9%22%2C%22displayValue%22%3A%22%E5%8C%BB%E8%8D%AF%E7%94%9F%E7%89%A9%22%2C%22selected%22%3Afalse%7D%2C%7B%22value%22%3A%22%E5%95%86%E4%B8%9A%E8%B4%B8%E6%98%93%22%2C%22displayValue%22%3A%22%E5%95%86%E4%B8%9A%E8%B4%B8%E6%98%93%22%2C%22selected%22%3Afalse%7D%2C%7B%22value%22%3A%22%E5%9B%BD%E9%98%B2%E5%86%9B%E5%B7%A5%22%2C%22displayValue%22%3A%22%E5%9B%BD%E9%98%B2%E5%86%9B%E5%B7%A5%22%2C%22selected%22%3Afalse%7D%2C%7B%22value%22%3A%22%E5%AE%B6%E7%94%A8%E7%94%B5%E5%99%A8%22%2C%22displayValue%22%3A%22%E5%AE%B6%E7%94%A8%E7%94%B5%E5%99%A8%22%2C%22selected%22%3Afalse%7D%2C%7B%22value%22%3A%22%E5%BB%BA%E7%AD%91%E6%9D%90%E6%96%99%2F%E5%BB%BA%E7%AD%91%E5%BB%BA%E6%9D%90%22%2C%22displayValue%22%3A%22%E5%BB%BA%E7%AD%91%E6%9D%90%E6%96%99%2F%E5%BB%BA%E7%AD%91%E5%BB%BA%E6%9D%90%22%2C%22selected%22%3Afalse%7D%2C%7B%22value%22%3A%22%E5%BB%BA%E7%AD%91%E8%A3%85%E9%A5%B0%22%2C%22displayValue%22%3A%22%E5%BB%BA%E7%AD%91%E8%A3%85%E9%A5%B0%22%2C%22selected%22%3Afalse%7D%2C%7B%22value%22%3A%22%E6%88%BF%E5%9C%B0%E4%BA%A7%22%2C%22displayValue%22%3A%22%E6%88%BF%E5%9C%B0%E4%BA%A7%22%2C%22selected%22%3Afalse%7D%2C%7B%22value%22%3A%22%E6%9C%89%E8%89%B2%E9%87%91%E5%B1%9E%22%2C%22displayValue%22%3A%22%E6%9C%89%E8%89%B2%E9%87%91%E5%B1%9E%22%2C%22selected%22%3Afalse%7D%2C%7B%22value%22%3A%22%E6%9C%BA%E6%A2%B0%E8%AE%BE%E5%A4%87%22%2C%22displayValue%22%3A%22%E6%9C%BA%E6%A2%B0%E8%AE%BE%E5%A4%87%22%2C%22selected%22%3Afalse%7D%2C%7B%22value%22%3A%22%E6%B1%BD%E8%BD%A6%2F%E4%BA%A4%E8%BF%90%E8%AE%BE%E5%A4%87%22%2C%22displayValue%22%3A%22%E6%B1%BD%E8%BD%A6%2F%E4%BA%A4%E8%BF%90%E8%AE%BE%E5%A4%87%22%2C%22selected%22%3Afalse%7D%2C%7B%22value%22%3A%22%E7%94%B5%E5%AD%90%22%2C%22displayValue%22%3A%22%E7%94%B5%E5%AD%90%22%2C%22selected%22%3Afalse%7D%2C%7B%22value%22%3A%22%E7%94%B5%E6%B0%94%E8%AE%BE%E5%A4%87%22%2C%22displayValue%22%3A%22%E7%94%B5%E6%B0%94%E8%AE%BE%E5%A4%87%22%2C%22selected%22%3Afalse%7D%2C%7B%22value%22%3A%22%E7%BA%BA%E7%BB%87%E6%9C%8D%E8%A3%85%22%2C%22displayValue%22%3A%22%E7%BA%BA%E7%BB%87%E6%9C%8D%E8%A3%85%22%2C%22selected%22%3Afalse%7D%2C%7B%22value%22%3A%22%E7%BB%BC%E5%90%88%22%2C%22displayValue%22%3A%22%E7%BB%BC%E5%90%88%22%2C%22selected%22%3Afalse%7D%2C%7B%22value%22%3A%22%E8%AE%A1%E7%AE%97%E6%9C%BA%22%2C%22displayValue%22%3A%22%E8%AE%A1%E7%AE%97%E6%9C%BA%22%2C%22selected%22%3Afalse%7D%2C%7B%22value%22%3A%22%E8%BD%BB%E5%B7%A5%E5%88%B6%E9%80%A0%22%2C%22displayValue%22%3A%22%E8%BD%BB%E5%B7%A5%E5%88%B6%E9%80%A0%22%2C%22selected%22%3Afalse%7D%2C%7B%22value%22%3A%22%E9%80%9A%E4%BF%A1%22%2C%22displayValue%22%3A%22%E9%80%9A%E4%BF%A1%22%2C%22selected%22%3Afalse%7D%2C%7B%22value%22%3A%22%E9%87%87%E6%8E%98%22%2C%22displayValue%22%3A%22%E9%87%87%E6%8E%98%22%2C%22selected%22%3Afalse%7D%2C%7B%22value%22%3A%22%E9%92%A2%E9%93%81%22%2C%22displayValue%22%3A%22%E9%92%A2%E9%93%81%22%2C%22selected%22%3Afalse%7D%2C%7B%22value%22%3A%22%E9%93%B6%E8%A1%8C%22%2C%22displayValue%22%3A%22%E9%93%B6%E8%A1%8C%22%2C%22selected%22%3Afalse%7D%2C%7B%22value%22%3A%22%E9%9D%9E%E9%93%B6%E9%87%91%E8%9E%8D%22%2C%22displayValue%22%3A%22%E9%9D%9E%E9%93%B6%E9%87%91%E8%9E%8D%22%2C%22selected%22%3Afalse%7D%2C%7B%22value%22%3A%22%E9%A3%9F%E5%93%81%E9%A5%AE%E6%96%99%22%2C%22displayValue%22%3A%22%E9%A3%9F%E5%93%81%E9%A5%AE%E6%96%99%22%2C%22selected%22%3Afalse%7D%5D%7D\",\"type\":\"Literal\",\"bound_global_parameter\":null},{\"name\":\"st_cond\",\"value\":\"%7B%22enumItems%22%3A%5B%7B%22value%22%3A%22%E5%85%A8%E9%83%A8%22%2C%22displayValue%22%3A%22%E5%85%A8%E9%83%A8%22%2C%22selected%22%3Atrue%7D%2C%7B%22value%22%3A%22%E6%AD%A3%E5%B8%B8%22%2C%22displayValue%22%3A%22%E6%AD%A3%E5%B8%B8%22%2C%22selected%22%3Afalse%7D%2C%7B%22value%22%3A%22ST%22%2C%22displayValue%22%3A%22ST%22%2C%22selected%22%3Afalse%7D%2C%7B%22value%22%3A%22*ST%22%2C%22displayValue%22%3A%22*ST%22%2C%22selected%22%3Afalse%7D%2C%7B%22value%22%3A%22%E6%9A%82%E5%81%9C%E4%B8%8A%E5%B8%82%22%2C%22displayValue%22%3A%22%E6%9A%82%E5%81%9C%E4%B8%8A%E5%B8%82%22%2C%22selected%22%3Afalse%7D%5D%7D\",\"type\":\"Literal\",\"bound_global_parameter\":null},{\"name\":\"delist_cond\",\"value\":\"%7B%22enumItems%22%3A%5B%7B%22value%22%3A%22%E5%85%A8%E9%83%A8%22%2C%22displayValue%22%3A%22%E5%85%A8%E9%83%A8%22%2C%22selected%22%3Atrue%7D%2C%7B%22value%22%3A%22%E9%80%80%E5%B8%82%22%2C%22displayValue%22%3A%22%E9%80%80%E5%B8%82%22%2C%22selected%22%3Afalse%7D%2C%7B%22value%22%3A%22%E9%9D%9E%E9%80%80%E5%B8%82%22%2C%22displayValue%22%3A%22%E9%9D%9E%E9%80%80%E5%B8%82%22%2C%22selected%22%3Afalse%7D%5D%7D\",\"type\":\"Literal\",\"bound_global_parameter\":null},{\"name\":\"output_left_data\",\"value\":\"False\",\"type\":\"Literal\",\"bound_global_parameter\":null}],\"input_ports\":[{\"name\":\"input_data\",\"node_id\":\"-374\"}],\"output_ports\":[{\"name\":\"data\",\"node_id\":\"-374\"},{\"name\":\"left_data\",\"node_id\":\"-374\"}],\"cacheable\":true,\"seq_num\":31,\"comment\":\"\",\"comment_collapsed\":true}],\"node_layout\":\"<node_postions><node_position Node='287d2cb0-f53c-4101-bdf8-104b137c8601-8' Position='310,-43,200,200'/><node_position Node='287d2cb0-f53c-4101-bdf8-104b137c8601-15' Position='88,96,200,200'/><node_position Node='287d2cb0-f53c-4101-bdf8-104b137c8601-24' Position='772,-47,200,200'/><node_position Node='287d2cb0-f53c-4101-bdf8-104b137c8601-53' Position='284,388,200,200'/><node_position Node='287d2cb0-f53c-4101-bdf8-104b137c8601-62' Position='1119,-39,200,200'/><node_position Node='-106' Position='419,86,200,200'/><node_position Node='-113' Position='428,163,200,200'/><node_position Node='-122' Position='1154,236,200,200'/><node_position Node='-129' Position='1124,367,200,200'/><node_position Node='-141' Position='579,1031,200,200'/><node_position Node='-160' Position='-382,-33,200,200'/><node_position Node='-168' Position='-208,152,200,200'/><node_position Node='-196' Position='-203,311,200,200'/><node_position Node='-224' Position='-203,240,200,200'/><node_position Node='-231' Position='-201,392,200,200'/><node_position Node='-238' Position='-195,470,200,200'/><node_position Node='-682' Position='-327,569,200,200'/><node_position Node='-1098' Position='76,753,200,200'/><node_position Node='-1540' Position='260,841,200,200'/><node_position Node='-2431' Position='438,934,200,200'/><node_position Node='-243' Position='322,565,200,200'/><node_position Node='-251' Position='905,746,200,200'/><node_position Node='-436' Position='325,660,200,200'/><node_position Node='-266' Position='433,231,200,200'/><node_position Node='-288' Position='435,302,200,200'/><node_position Node='-293' Position='1205,557,200,200'/><node_position Node='-298' Position='1193,465,200,200'/><node_position Node='-2469' Position='97,240,200,200'/><node_position Node='-270' Position='-204,68,200,200'/><node_position Node='-364' Position='306,469,200,200'/><node_position Node='-374' Position='1167,647,200,200'/></node_postions>\"},\"nodes_readonly\":false,\"studio_version\":\"v2\"}"
   },
   "outputs": [
    {
     "data": {
      "text/plain": [
       "[2022-06-02 17:19:23.275507] INFO: moduleinvoker: instruments.v2 开始运行.."
      ]
     },
     "metadata": {
      "is_log": true,
      "status": "INFO"
     },
     "output_type": "display_data"
    },
    {
     "data": {
      "text/plain": [
       "[2022-06-02 17:19:23.290455] INFO: moduleinvoker: 命中缓存"
      ]
     },
     "metadata": {
      "is_log": true,
      "status": "INFO"
     },
     "output_type": "display_data"
    },
    {
     "data": {
      "text/plain": [
       "[2022-06-02 17:19:23.293480] INFO: moduleinvoker: instruments.v2 运行完成[0.017958s]."
      ]
     },
     "metadata": {
      "is_log": true,
      "status": "INFO"
     },
     "output_type": "display_data"
    },
    {
     "data": {
      "text/plain": [
       "[2022-06-02 17:19:23.311381] INFO: moduleinvoker: advanced_auto_labeler.v2 开始运行.."
      ]
     },
     "metadata": {
      "is_log": true,
      "status": "INFO"
     },
     "output_type": "display_data"
    },
    {
     "data": {
      "text/plain": [
       "[2022-06-02 17:19:23.321694] INFO: moduleinvoker: 命中缓存"
      ]
     },
     "metadata": {
      "is_log": true,
      "status": "INFO"
     },
     "output_type": "display_data"
    },
    {
     "data": {
      "text/plain": [
       "[2022-06-02 17:19:23.925004] INFO: moduleinvoker: advanced_auto_labeler.v2 运行完成[0.613606s]."
      ]
     },
     "metadata": {
      "is_log": true,
      "status": "INFO"
     },
     "output_type": "display_data"
    },
    {
     "data": {
      "text/plain": [
       "[2022-06-02 17:19:23.942864] INFO: moduleinvoker: standardlize.v9 开始运行.."
      ]
     },
     "metadata": {
      "is_log": true,
      "status": "INFO"
     },
     "output_type": "display_data"
    },
    {
     "data": {
      "text/plain": [
       "[2022-06-02 17:19:23.954909] INFO: moduleinvoker: 命中缓存"
      ]
     },
     "metadata": {
      "is_log": true,
      "status": "INFO"
     },
     "output_type": "display_data"
    },
    {
     "data": {
      "text/plain": [
       "[2022-06-02 17:19:23.959230] INFO: moduleinvoker: standardlize.v9 运行完成[0.016349s]."
      ]
     },
     "metadata": {
      "is_log": true,
      "status": "INFO"
     },
     "output_type": "display_data"
    },
    {
     "data": {
      "text/plain": [
       "[2022-06-02 17:19:23.970361] INFO: moduleinvoker: input_features.v1 开始运行.."
      ]
     },
     "metadata": {
      "is_log": true,
      "status": "INFO"
     },
     "output_type": "display_data"
    },
    {
     "data": {
      "text/plain": [
       "[2022-06-02 17:19:23.980428] INFO: moduleinvoker: 命中缓存"
      ]
     },
     "metadata": {
      "is_log": true,
      "status": "INFO"
     },
     "output_type": "display_data"
    },
    {
     "data": {
      "text/plain": [
       "[2022-06-02 17:19:23.986599] INFO: moduleinvoker: input_features.v1 运行完成[0.016244s]."
      ]
     },
     "metadata": {
      "is_log": true,
      "status": "INFO"
     },
     "output_type": "display_data"
    },
    {
     "data": {
      "text/plain": [
       "[2022-06-02 17:19:24.064319] INFO: moduleinvoker: general_feature_extractor.v7 开始运行.."
      ]
     },
     "metadata": {
      "is_log": true,
      "status": "INFO"
     },
     "output_type": "display_data"
    },
    {
     "data": {
      "text/plain": [
       "[2022-06-02 17:19:24.075780] INFO: moduleinvoker: 命中缓存"
      ]
     },
     "metadata": {
      "is_log": true,
      "status": "INFO"
     },
     "output_type": "display_data"
    },
    {
     "data": {
      "text/plain": [
       "[2022-06-02 17:19:24.078603] INFO: moduleinvoker: general_feature_extractor.v7 运行完成[0.014282s]."
      ]
     },
     "metadata": {
      "is_log": true,
      "status": "INFO"
     },
     "output_type": "display_data"
    },
    {
     "data": {
      "text/plain": [
       "[2022-06-02 17:19:24.121273] INFO: moduleinvoker: derived_feature_extractor.v3 开始运行.."
      ]
     },
     "metadata": {
      "is_log": true,
      "status": "INFO"
     },
     "output_type": "display_data"
    },
    {
     "data": {
      "text/plain": [
       "[2022-06-02 17:19:24.134795] INFO: moduleinvoker: 命中缓存"
      ]
     },
     "metadata": {
      "is_log": true,
      "status": "INFO"
     },
     "output_type": "display_data"
    },
    {
     "data": {
      "text/plain": [
       "[2022-06-02 17:19:24.137132] INFO: moduleinvoker: derived_feature_extractor.v3 运行完成[0.015876s]."
      ]
     },
     "metadata": {
      "is_log": true,
      "status": "INFO"
     },
     "output_type": "display_data"
    },
    {
     "data": {
      "text/plain": [
       "[2022-06-02 17:19:24.156469] INFO: moduleinvoker: standardlize.v8 开始运行.."
      ]
     },
     "metadata": {
      "is_log": true,
      "status": "INFO"
     },
     "output_type": "display_data"
    }
   ],
   "source": [
    "# 本代码由可视化策略环境自动生成 2022年6月2日 17:21\n",
    "# 本代码单元只能在可视化模式下编辑。您也可以拷贝代码，粘贴到新建的代码单元或者策略，然后修改。\n",
    "\n",
    "\n",
    "# Python 代码入口函数，input_1/2/3 对应三个输入端，data_1/2/3 对应三个输出端\n",
    "def m10_run_bigquant_run(input_1, input_2, input_3):\n",
    "    # 示例代码如下。在这里编写您的代码\n",
    "    from sklearn.model_selection import train_test_split\n",
    "    data = input_1.read()\n",
    "    x_train, x_val, y_train, y_val = train_test_split(data[\"x\"], data['y'], test_size=0.1)\n",
    "    data_1 = DataSource.write_pickle({'x': x_train, 'y': y_train})\n",
    "    data_2 = DataSource.write_pickle({'x': x_val, 'y': y_val})\n",
    "    return Outputs(data_1=data_1, data_2=data_2, data_3=None)\n",
    "\n",
    "# 后处理函数，可选。输入是主函数的输出，可以在这里对数据做处理，或者返回更友好的outputs数据格式。此函数输出不会被缓存。\n",
    "def m10_post_run_bigquant_run(outputs):\n",
    "    return outputs\n",
    "\n",
    "from tensorflow.keras.callbacks import EarlyStopping\n",
    "m5_earlystop_bigquant_run=EarlyStopping(monitor='val_mse', min_delta=0.0001, patience=3)\n",
    "# 用户的自定义层需要写到字典中，比如\n",
    "# {\n",
    "#   \"MyLayer\": MyLayer\n",
    "# }\n",
    "m5_custom_objects_bigquant_run = {\n",
    " \n",
    "}\n",
    "\n",
    "# Python 代码入口函数，input_1/2/3 对应三个输入端，data_1/2/3 对应三个输出端\n",
    "def m24_run_bigquant_run(input_1, input_2, input_3):\n",
    "    # 示例代码如下。在这里编写您的代码\n",
    "    pred_label = input_1.read_pickle()\n",
    "    df = input_2.read_df()\n",
    "    df = pd.DataFrame({'pred_label':pred_label[:,0], 'instrument':df.instrument, 'date':df.date})\n",
    "    df.sort_values(['date','pred_label'],inplace=True, ascending=[True,False])\n",
    "    return Outputs(data_1=DataSource.write_df(df), data_2=None, data_3=None)\n",
    "\n",
    "# 后处理函数，可选。输入是主函数的输出，可以在这里对数据做处理，或者返回更友好的outputs数据格式。此函数输出不会被缓存。\n",
    "def m24_post_run_bigquant_run(outputs):\n",
    "    return outputs\n",
    "\n",
    "# 回测引擎：初始化函数，只执行一次\n",
    "def m19_initialize_bigquant_run(context):\n",
    "    # 加载预测数据\n",
    "    context.ranker_prediction = context.options['data'].read_df()\n",
    "\n",
    "    # 系统已经设置了默认的交易手续费和滑点，要修改手续费可使用如下函数\n",
    "    context.set_commission(PerOrder(buy_cost=0.0003, sell_cost=0.0013, min_cost=5))\n",
    "    # 预测数据，通过options传入进来，使用 read_df 函数，加载到内存 (DataFrame)\n",
    "    # 设置买入的股票数量，这里买入预测股票列表排名靠前的5只\n",
    "    stock_count = 50\n",
    "    # 每只的股票的权重，如下的权重分配会使得靠前的股票分配多一点的资金，[0.339160, 0.213986, 0.169580, ..]\n",
    "    context.stock_weights = T.norm([1 / math.log(i + 2) for i in range(0, stock_count)])\n",
    "    # 设置每只股票占用的最大资金比例\n",
    "    context.max_cash_per_instrument = 0.2\n",
    "    context.options['hold_days'] = 5\n",
    "\n",
    "# 回测引擎：每日数据处理函数，每天执行一次\n",
    "def m19_handle_data_bigquant_run(context, data):\n",
    "    # 按日期过滤得到今日的预测数据\n",
    "    ranker_prediction = context.ranker_prediction[context.ranker_prediction.date == data.current_dt.strftime('%Y-%m-%d')]\n",
    "\n",
    "    # 1. 资金分配\n",
    "    # 平均持仓时间是hold_days，每日都将买入股票，每日预期使用 1/hold_days 的资金\n",
    "    # 实际操作中，会存在一定的买入误差，所以在前hold_days天，等量使用资金；之后，尽量使用剩余资金（这里设置最多用等量的1.5倍）\n",
    "    is_staging = context.trading_day_index < context.options['hold_days'] # 是否在建仓期间（前 hold_days 天）\n",
    "    cash_avg = context.portfolio.portfolio_value / context.options['hold_days']\n",
    "    cash_for_buy = min(context.portfolio.cash, (1 if is_staging else 1.5) * cash_avg)\n",
    "    cash_for_sell = cash_avg - (context.portfolio.cash - cash_for_buy)\n",
    "    positions = {e.symbol: p.amount * p.last_sale_price\n",
    "                 for e, p in context.perf_tracker.position_tracker.positions.items()}\n",
    "        \n",
    "    # 2. 生成卖出订单：hold_days天之后才开始卖出；对持仓的股票，按机器学习算法预测的排序末位淘汰\n",
    "    if not is_staging and cash_for_sell > 0:\n",
    "        equities = {e.symbol: e for e, p in context.perf_tracker.position_tracker.positions.items()}\n",
    "        instruments = list(reversed(list(ranker_prediction.instrument[ranker_prediction.instrument.apply(\n",
    "                lambda x: x in equities and not context.has_unfinished_sell_order(equities[x]))])))\n",
    "        # print('rank order for sell %s' % instruments)\n",
    "        for instrument in instruments:\n",
    "            context.order_target(context.symbol(instrument), 0)\n",
    "            cash_for_sell -= positions[instrument]\n",
    "            if cash_for_sell <= 0:\n",
    "                break\n",
    "\n",
    "    # 3. 生成买入订单：按机器学习算法预测的排序，买入前面的stock_count只股票\n",
    "    buy_cash_weights = context.stock_weights\n",
    "    buy_instruments = list(ranker_prediction.instrument[:len(buy_cash_weights)])\n",
    "    max_cash_per_instrument = context.portfolio.portfolio_value * context.max_cash_per_instrument\n",
    "    for i, instrument in enumerate(buy_instruments):\n",
    "        cash = cash_for_buy * buy_cash_weights[i]\n",
    "        if cash > max_cash_per_instrument - positions.get(instrument, 0):\n",
    "            # 确保股票持仓量不会超过每次股票最大的占用资金量\n",
    "            cash = max_cash_per_instrument - positions.get(instrument, 0)\n",
    "        if cash > 0:\n",
    "            context.order_value(context.symbol(instrument), cash)\n",
    "\n",
    "# 回测引擎：准备数据，只执行一次\n",
    "def m19_prepare_bigquant_run(context):\n",
    "    pass\n",
    "\n",
    "\n",
    "m1 = M.instruments.v2(\n",
    "    start_date='2019-01-01',\n",
    "    end_date='2021-01-01',\n",
    "    market='CN_STOCK_A',\n",
    "    instrument_list='',\n",
    "    max_count=0\n",
    ")\n",
    "\n",
    "m2 = M.advanced_auto_labeler.v2(\n",
    "    instruments=m1.data,\n",
    "    label_expr=\"\"\"# #号开始的表示注释\n",
    "# 0. 每行一个，顺序执行，从第二个开始，可以使用label字段\n",
    "# 1. 可用数据字段见 https://bigquant.com/docs/data_history_data.html\n",
    "#   添加benchmark_前缀，可使用对应的benchmark数据\n",
    "# 2. 可用操作符和函数见 `表达式引擎 <https://bigquant.com/docs/big_expr.html>`_\n",
    "\n",
    "# 计算收益：5日收盘价(作为卖出价格)除以明日开盘价(作为买入价格)\n",
    "shift(close, -5) / shift(open, -1) - 1\n",
    "\n",
    "# 极值处理：用1%和99%分位的值做clip\n",
    "clip(label, all_quantile(label, 0.01), all_quantile(label, 0.99))\n",
    "\n",
    "# 过滤掉一字涨停的情况 (设置label为NaN，在后续处理和训练中会忽略NaN的label)\n",
    "where(shift(high, -1) == shift(low, -1), NaN, label)\n",
    "\"\"\",\n",
    "    start_date='',\n",
    "    end_date='',\n",
    "    benchmark='000300.SHA',\n",
    "    drop_na_label=True,\n",
    "    cast_label_int=False\n",
    ")\n",
    "\n",
    "m12 = M.standardlize.v9(\n",
    "    input_1=m2.data,\n",
    "    standard_func='ZScoreNorm',\n",
    "    columns_input='label'\n",
    ")\n",
    "\n",
    "m3 = M.input_features.v1(\n",
    "    features=\"\"\"close_0\n",
    "open_0\n",
    "high_0\n",
    "low_0 \n",
    "amount_0\n",
    "turn_0 \n",
    "return_0\n",
    " \n",
    "close_1\n",
    "open_1\n",
    "high_1\n",
    "low_1\n",
    "return_1\n",
    "amount_1\n",
    "turn_1\n",
    " \n",
    "close_2\n",
    "open_2\n",
    "high_2\n",
    "low_2\n",
    "amount_2\n",
    "turn_2\n",
    "return_2\n",
    " \n",
    "close_3\n",
    "open_3\n",
    "high_3\n",
    "low_3\n",
    "amount_3\n",
    "turn_3\n",
    "return_3\n",
    " \n",
    "close_4\n",
    "open_4\n",
    "high_4\n",
    "low_4\n",
    "amount_4\n",
    "turn_4\n",
    "return_4\n",
    " \n",
    "mean(close_0, 5)\n",
    "mean(low_0, 5)\n",
    "mean(open_0, 5)\n",
    "mean(high_0, 5)\n",
    "mean(turn_0, 5)\n",
    "mean(amount_0, 5)\n",
    "mean(return_0, 5)\n",
    " \n",
    "ts_max(close_0, 5)\n",
    "ts_max(low_0, 5)\n",
    "ts_max(open_0, 5)\n",
    "ts_max(high_0, 5)\n",
    "ts_max(turn_0, 5)\n",
    "ts_max(amount_0, 5)\n",
    "ts_max(return_0, 5)\n",
    " \n",
    "ts_min(close_0, 5)\n",
    "ts_min(low_0, 5)\n",
    "ts_min(open_0, 5)\n",
    "ts_min(high_0, 5)\n",
    "ts_min(turn_0, 5)\n",
    "ts_min(amount_0, 5)\n",
    "ts_min(return_0, 5) \n",
    " \n",
    "std(close_0, 5)\n",
    "std(low_0, 5)\n",
    "std(open_0, 5)\n",
    "std(high_0, 5)\n",
    "std(turn_0, 5)\n",
    "std(amount_0, 5)\n",
    "std(return_0, 5)\n",
    " \n",
    "ts_rank(close_0, 5)\n",
    "ts_rank(low_0, 5)\n",
    "ts_rank(open_0, 5)\n",
    "ts_rank(high_0, 5)\n",
    "ts_rank(turn_0, 5)\n",
    "ts_rank(amount_0, 5)\n",
    "ts_rank(return_0, 5)\n",
    " \n",
    "decay_linear(close_0, 5)\n",
    "decay_linear(low_0, 5)\n",
    "decay_linear(open_0, 5)\n",
    "decay_linear(high_0, 5)\n",
    "decay_linear(turn_0, 5)\n",
    "decay_linear(amount_0, 5)\n",
    "decay_linear(return_0, 5)\n",
    " \n",
    "correlation(volume_0, return_0, 5)\n",
    "correlation(volume_0, high_0, 5)\n",
    "correlation(volume_0, low_0, 5)\n",
    "correlation(volume_0, close_0, 5)\n",
    "correlation(volume_0, open_0, 5)\n",
    "correlation(volume_0, turn_0, 5)\n",
    "  \n",
    "correlation(return_0, high_0, 5)\n",
    "correlation(return_0, low_0, 5)\n",
    "correlation(return_0, close_0, 5)\n",
    "correlation(return_0, open_0, 5)\n",
    "correlation(return_0, turn_0, 5)\n",
    " \n",
    "correlation(high_0, low_0, 5)\n",
    "correlation(high_0, close_0, 5)\n",
    "correlation(high_0, open_0, 5)\n",
    "correlation(high_0, turn_0, 5)\n",
    " \n",
    "correlation(low_0, close_0, 5)\n",
    "correlation(low_0, open_0, 5)\n",
    "correlation(low_0, turn_0, 5)\n",
    " \n",
    "correlation(close_0, open_0, 5)\n",
    "correlation(close_0, turn_0, 5)\n",
    "\n",
    "correlation(open_0, turn_0, 5)\"\"\"\n",
    ")\n",
    "\n",
    "m15 = M.general_feature_extractor.v7(\n",
    "    instruments=m1.data,\n",
    "    features=m3.data,\n",
    "    start_date='',\n",
    "    end_date='',\n",
    "    before_start_days=10\n",
    ")\n",
    "\n",
    "m16 = M.derived_feature_extractor.v3(\n",
    "    input_data=m15.data,\n",
    "    features=m3.data,\n",
    "    date_col='date',\n",
    "    instrument_col='instrument',\n",
    "    drop_na=True,\n",
    "    remove_extra_columns=False\n",
    ")\n",
    "\n",
    "m28 = M.standardlize.v8(\n",
    "    input_1=m16.data,\n",
    "    input_2=m3.data,\n",
    "    columns_input='[]'\n",
    ")\n",
    "\n",
    "m13 = M.fillnan.v1(\n",
    "    input_data=m28.data,\n",
    "    features=m3.data,\n",
    "    fill_value='0.0'\n",
    ")\n",
    "\n",
    "m7 = M.join.v3(\n",
    "    data1=m12.data,\n",
    "    data2=m13.data,\n",
    "    on='date,instrument',\n",
    "    how='inner',\n",
    "    sort=True\n",
    ")\n",
    "\n",
    "m30 = M.chinaa_stock_filter.v1(\n",
    "    input_data=m7.data,\n",
    "    index_constituent_cond=['全部'],\n",
    "    board_cond=['全部'],\n",
    "    industry_cond=['全部'],\n",
    "    st_cond=['全部'],\n",
    "    delist_cond=['全部'],\n",
    "    output_left_data=False\n",
    ")\n",
    "\n",
    "m26 = M.dl_convert_to_bin.v2(\n",
    "    input_data=m30.data,\n",
    "    features=m3.data,\n",
    "    window_size=1,\n",
    "    feature_clip=3,\n",
    "    flatten=True,\n",
    "    window_along_col='instrument'\n",
    ")\n",
    "\n",
    "m10 = M.cached.v3(\n",
    "    input_1=m26.data,\n",
    "    run=m10_run_bigquant_run,\n",
    "    post_run=m10_post_run_bigquant_run,\n",
    "    input_ports='',\n",
    "    params='{}',\n",
    "    output_ports=''\n",
    ")\n",
    "\n",
    "m9 = M.instruments.v2(\n",
    "    start_date=T.live_run_param('trading_date', '2021-01-02'),\n",
    "    end_date=T.live_run_param('trading_date', '2021-12-31'),\n",
    "    market='CN_STOCK_A',\n",
    "    instrument_list='',\n",
    "    max_count=0\n",
    ")\n",
    "\n",
    "m17 = M.general_feature_extractor.v7(\n",
    "    instruments=m9.data,\n",
    "    features=m3.data,\n",
    "    start_date='',\n",
    "    end_date='',\n",
    "    before_start_days=10\n",
    ")\n",
    "\n",
    "m18 = M.derived_feature_extractor.v3(\n",
    "    input_data=m17.data,\n",
    "    features=m3.data,\n",
    "    date_col='date',\n",
    "    instrument_col='instrument',\n",
    "    drop_na=True,\n",
    "    remove_extra_columns=False\n",
    ")\n",
    "\n",
    "m25 = M.standardlize.v8(\n",
    "    input_1=m18.data,\n",
    "    input_2=m3.data,\n",
    "    columns_input='[]'\n",
    ")\n",
    "\n",
    "m14 = M.fillnan.v1(\n",
    "    input_data=m25.data,\n",
    "    features=m3.data,\n",
    "    fill_value='0.0'\n",
    ")\n",
    "\n",
    "m31 = M.chinaa_stock_filter.v1(\n",
    "    input_data=m14.data,\n",
    "    index_constituent_cond=['全部'],\n",
    "    board_cond=['全部'],\n",
    "    industry_cond=['全部'],\n",
    "    st_cond=['全部'],\n",
    "    delist_cond=['全部'],\n",
    "    output_left_data=False\n",
    ")\n",
    "\n",
    "m27 = M.dl_convert_to_bin.v2(\n",
    "    input_data=m31.data,\n",
    "    features=m3.data,\n",
    "    window_size=1,\n",
    "    feature_clip=3,\n",
    "    flatten=True,\n",
    "    window_along_col='instrument'\n",
    ")\n",
    "\n",
    "m6 = M.dl_layer_input.v1(\n",
    "    shape='98',\n",
    "    batch_shape='',\n",
    "    dtype='float32',\n",
    "    sparse=False,\n",
    "    name=''\n",
    ")\n",
    "\n",
    "m29 = M.dl_layer_batchnormalization.v1(\n",
    "    inputs=m6.data,\n",
    "    axis=-1,\n",
    "    momentum=0.99,\n",
    "    epsilon=0.001,\n",
    "    center=True,\n",
    "    scale=True,\n",
    "    beta_initializer='he_normal',\n",
    "    gamma_initializer='he_normal',\n",
    "    moving_mean_initializer='he_normal',\n",
    "    moving_variance_initializer='he_normal',\n",
    "    beta_regularizer='None',\n",
    "    beta_regularizer_l1=0,\n",
    "    beta_regularizer_l2=0,\n",
    "    gamma_regularizer='None',\n",
    "    gamma_regularizer_l1=0,\n",
    "    gamma_regularizer_l2=0,\n",
    "    beta_constraint='None',\n",
    "    gamma_constraint='None',\n",
    "    name=''\n",
    ")\n",
    "\n",
    "m8 = M.dl_layer_dense.v1(\n",
    "    inputs=m29.data,\n",
    "    units=256,\n",
    "    activation='relu',\n",
    "    use_bias=True,\n",
    "    kernel_initializer='glorot_uniform',\n",
    "    bias_initializer='Zeros',\n",
    "    kernel_regularizer='None',\n",
    "    kernel_regularizer_l1=0,\n",
    "    kernel_regularizer_l2=0,\n",
    "    bias_regularizer='None',\n",
    "    bias_regularizer_l1=0,\n",
    "    bias_regularizer_l2=0,\n",
    "    activity_regularizer='None',\n",
    "    activity_regularizer_l1=0,\n",
    "    activity_regularizer_l2=0,\n",
    "    kernel_constraint='None',\n",
    "    bias_constraint='None',\n",
    "    name=''\n",
    ")\n",
    "\n",
    "m21 = M.dl_layer_dropout.v1(\n",
    "    inputs=m8.data,\n",
    "    rate=0.1,\n",
    "    noise_shape='',\n",
    "    name=''\n",
    ")\n",
    "\n",
    "m20 = M.dl_layer_dense.v1(\n",
    "    inputs=m21.data,\n",
    "    units=128,\n",
    "    activation='relu',\n",
    "    use_bias=True,\n",
    "    kernel_initializer='glorot_uniform',\n",
    "    bias_initializer='Zeros',\n",
    "    kernel_regularizer='None',\n",
    "    kernel_regularizer_l1=0,\n",
    "    kernel_regularizer_l2=0,\n",
    "    bias_regularizer='None',\n",
    "    bias_regularizer_l1=0,\n",
    "    bias_regularizer_l2=0,\n",
    "    activity_regularizer='None',\n",
    "    activity_regularizer_l1=0,\n",
    "    activity_regularizer_l2=0,\n",
    "    kernel_constraint='None',\n",
    "    bias_constraint='None',\n",
    "    name=''\n",
    ")\n",
    "\n",
    "m22 = M.dl_layer_dropout.v1(\n",
    "    inputs=m20.data,\n",
    "    rate=0.1,\n",
    "    noise_shape='',\n",
    "    name=''\n",
    ")\n",
    "\n",
    "m23 = M.dl_layer_dense.v1(\n",
    "    inputs=m22.data,\n",
    "    units=1,\n",
    "    activation='linear',\n",
    "    use_bias=True,\n",
    "    kernel_initializer='glorot_uniform',\n",
    "    bias_initializer='Zeros',\n",
    "    kernel_regularizer='None',\n",
    "    kernel_regularizer_l1=0,\n",
    "    kernel_regularizer_l2=0,\n",
    "    bias_regularizer='None',\n",
    "    bias_regularizer_l1=0,\n",
    "    bias_regularizer_l2=0,\n",
    "    activity_regularizer='None',\n",
    "    activity_regularizer_l1=0,\n",
    "    activity_regularizer_l2=0,\n",
    "    kernel_constraint='None',\n",
    "    bias_constraint='None',\n",
    "    name=''\n",
    ")\n",
    "\n",
    "m4 = M.dl_model_init.v1(\n",
    "    inputs=m6.data,\n",
    "    outputs=m23.data\n",
    ")\n",
    "\n",
    "m5 = M.dl_model_train.v1(\n",
    "    input_model=m4.data,\n",
    "    training_data=m10.data_1,\n",
    "    validation_data=m10.data_2,\n",
    "    optimizer='Adam',\n",
    "    loss='mean_squared_error',\n",
    "    metrics='mse',\n",
    "    batch_size=1024,\n",
    "    epochs=10,\n",
    "    earlystop=m5_earlystop_bigquant_run,\n",
    "    custom_objects=m5_custom_objects_bigquant_run,\n",
    "    n_gpus=0,\n",
    "    verbose='2:每个epoch输出一行记录'\n",
    ")\n",
    "\n",
    "m11 = M.dl_model_predict.v1(\n",
    "    trained_model=m5.data,\n",
    "    input_data=m27.data,\n",
    "    batch_size=1024,\n",
    "    n_gpus=0,\n",
    "    verbose='2:每个epoch输出一行记录'\n",
    ")\n",
    "\n",
    "m24 = M.cached.v3(\n",
    "    input_1=m11.data,\n",
    "    input_2=m18.data,\n",
    "    run=m24_run_bigquant_run,\n",
    "    post_run=m24_post_run_bigquant_run,\n",
    "    input_ports='',\n",
    "    params='{}',\n",
    "    output_ports=''\n",
    ")\n",
    "\n",
    "m19 = M.trade.v4(\n",
    "    instruments=m9.data,\n",
    "    options_data=m24.data_1,\n",
    "    start_date='',\n",
    "    end_date='',\n",
    "    initialize=m19_initialize_bigquant_run,\n",
    "    handle_data=m19_handle_data_bigquant_run,\n",
    "    prepare=m19_prepare_bigquant_run,\n",
    "    volume_limit=0.025,\n",
    "    order_price_field_buy='open',\n",
    "    order_price_field_sell='open',\n",
    "    capital_base=1000000,\n",
    "    auto_cancel_non_tradable_orders=True,\n",
    "    data_frequency='daily',\n",
    "    price_type='后复权',\n",
    "    product_type='股票',\n",
    "    plot_charts=True,\n",
    "    backtest_only=False,\n",
    "    benchmark='000300.SHA'\n",
    ")\n"
   ]
  },
  {
   "cell_type": "markdown",
   "metadata": {},
   "source": [
    "## Target分析"
   ]
  },
  {
   "cell_type": "code",
   "execution_count": null,
   "metadata": {},
   "outputs": [],
   "source": [
    "no_normal_df  = m2.data.read()\n",
    "no_normal_df.head()"
   ]
  },
  {
   "cell_type": "code",
   "execution_count": null,
   "metadata": {},
   "outputs": [],
   "source": [
    "# label收益率\n",
    "plt.figure(figsize=(18, 6))\n",
    "plt.subplot(131)\n",
    "plt.hist(no_normal_df[\"label\"])\n",
    "plt.title(\"所有数据\")\n",
    "\n",
    "plt.subplot(132)\n",
    "plt.hist(no_normal_df[no_normal_df[\"instrument\"] == \"000001.SZA\"][\"label\"])\n",
    "plt.title(\"单票数据\")\n",
    "\n",
    "plt.subplot(133)\n",
    "plt.hist(no_normal_df[no_normal_df[\"date\"] == \"2019-01-02\"][\"label\"])\n",
    "plt.title(\"单天数据\")\n",
    "\n",
    "plt.show()"
   ]
  },
  {
   "cell_type": "code",
   "execution_count": null,
   "metadata": {},
   "outputs": [],
   "source": [
    "norm_df = m12.data.read()\n",
    "norm_df.head()"
   ]
  },
  {
   "cell_type": "code",
   "execution_count": null,
   "metadata": {},
   "outputs": [],
   "source": [
    "# label标准化\n",
    "plt.figure(figsize=(18, 6))\n",
    "plt.subplot(131)\n",
    "plt.hist(norm_df[\"label\"])\n",
    "plt.title(\"所有数据\")\n",
    "\n",
    "plt.subplot(132)\n",
    "plt.hist(norm_df[norm_df[\"instrument\"] == \"000001.SZA\"][\"label\"])\n",
    "plt.title(\"单票数据\")\n",
    "\n",
    "plt.subplot(133)\n",
    "plt.hist(norm_df[norm_df[\"date\"] == \"2019-01-02\"][\"label\"])\n",
    "plt.title(\"单天数据\")\n",
    "\n",
    "plt.show()"
   ]
  },
  {
   "cell_type": "markdown",
   "metadata": {},
   "source": [
    "## Feature分析"
   ]
  },
  {
   "cell_type": "code",
   "execution_count": null,
   "metadata": {},
   "outputs": [],
   "source": [
    "no_norm_feature = m16.data.read()\n",
    "no_norm_feature.head()\n",
    "# std(close_0, 5)"
   ]
  },
  {
   "cell_type": "code",
   "execution_count": null,
   "metadata": {},
   "outputs": [],
   "source": [
    "feature_name = \"std(close_0, 5)\""
   ]
  },
  {
   "cell_type": "code",
   "execution_count": null,
   "metadata": {},
   "outputs": [],
   "source": [
    "plt.figure(figsize=(18, 6))\n",
    "plt.subplot(131)\n",
    "plt.hist(no_norm_feature[feature_name])\n",
    "plt.title(\"所有数据\")\n",
    "\n",
    "plt.subplot(132)\n",
    "plt.hist(no_norm_feature[no_norm_feature[\"instrument\"] == \"000002.SZA\"][feature_name])\n",
    "plt.title(\"单票数据\")\n",
    "\n",
    "plt.subplot(133)\n",
    "plt.hist(no_norm_feature[no_norm_feature[\"date\"] == \"2019-01-02\"][feature_name])\n",
    "plt.title(\"单天数据\")\n",
    "\n",
    "plt.show()"
   ]
  },
  {
   "cell_type": "code",
   "execution_count": null,
   "metadata": {},
   "outputs": [],
   "source": [
    "norm_feature = m13.data.read()\n",
    "norm_feature.head()\n",
    "\n",
    "# std(close_0, 5)"
   ]
  },
  {
   "cell_type": "code",
   "execution_count": null,
   "metadata": {},
   "outputs": [],
   "source": [
    "plt.figure(figsize=(18, 6))\n",
    "plt.subplot(131)\n",
    "plt.hist(norm_feature[feature_name])\n",
    "plt.title(\"所有数据\")\n",
    "\n",
    "plt.subplot(132)\n",
    "plt.hist(norm_feature[norm_feature[\"instrument\"] == \"000002.SZA\"][feature_name])\n",
    "plt.title(\"单票数据\")\n",
    "\n",
    "plt.subplot(133)\n",
    "plt.hist(norm_feature[norm_feature[\"date\"] == \"2019-01-02\"][feature_name])\n",
    "plt.title(\"单天数据\")\n",
    "\n",
    "plt.show()"
   ]
  },
  {
   "cell_type": "code",
   "execution_count": null,
   "metadata": {},
   "outputs": [],
   "source": []
  }
 ],
 "metadata": {
  "kernelspec": {
   "display_name": "Python 3",
   "language": "python",
   "name": "python3"
  },
  "language_info": {
   "codemirror_mode": {
    "name": "ipython",
    "version": 3
   },
   "file_extension": ".py",
   "mimetype": "text/x-python",
   "name": "python",
   "nbconvert_exporter": "python",
   "pygments_lexer": "ipython3",
   "version": "3.8.7"
  }
 },
 "nbformat": 4,
 "nbformat_minor": 4
}
