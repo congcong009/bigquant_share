{
 "cells": [
  {
   "cell_type": "code",
   "execution_count": 2,
   "metadata": {},
   "outputs": [
    {
     "data": {
      "text/html": [
       "<div>\n",
       "<style scoped>\n",
       "    .dataframe tbody tr th:only-of-type {\n",
       "        vertical-align: middle;\n",
       "    }\n",
       "\n",
       "    .dataframe tbody tr th {\n",
       "        vertical-align: top;\n",
       "    }\n",
       "\n",
       "    .dataframe thead th {\n",
       "        text-align: right;\n",
       "    }\n",
       "</style>\n",
       "<table border=\"1\" class=\"dataframe\">\n",
       "  <thead>\n",
       "    <tr style=\"text-align: right;\">\n",
       "      <th></th>\n",
       "      <th>close_0</th>\n",
       "      <th>date</th>\n",
       "      <th>instrument</th>\n",
       "      <th>KAMA</th>\n",
       "    </tr>\n",
       "  </thead>\n",
       "  <tbody>\n",
       "    <tr>\n",
       "      <th>569943</th>\n",
       "      <td>34.900002</td>\n",
       "      <td>2014-12-25</td>\n",
       "      <td>603998.SHA</td>\n",
       "      <td>35.162839</td>\n",
       "    </tr>\n",
       "    <tr>\n",
       "      <th>569944</th>\n",
       "      <td>34.560001</td>\n",
       "      <td>2014-12-26</td>\n",
       "      <td>603998.SHA</td>\n",
       "      <td>35.147484</td>\n",
       "    </tr>\n",
       "    <tr>\n",
       "      <th>569945</th>\n",
       "      <td>35.189999</td>\n",
       "      <td>2014-12-29</td>\n",
       "      <td>603998.SHA</td>\n",
       "      <td>35.156138</td>\n",
       "    </tr>\n",
       "    <tr>\n",
       "      <th>569946</th>\n",
       "      <td>37.459999</td>\n",
       "      <td>2014-12-30</td>\n",
       "      <td>603998.SHA</td>\n",
       "      <td>35.576622</td>\n",
       "    </tr>\n",
       "    <tr>\n",
       "      <th>569947</th>\n",
       "      <td>35.259998</td>\n",
       "      <td>2014-12-31</td>\n",
       "      <td>603998.SHA</td>\n",
       "      <td>35.571593</td>\n",
       "    </tr>\n",
       "  </tbody>\n",
       "</table>\n",
       "</div>"
      ],
      "text/plain": [
       "          close_0       date  instrument       KAMA\n",
       "569943  34.900002 2014-12-25  603998.SHA  35.162839\n",
       "569944  34.560001 2014-12-26  603998.SHA  35.147484\n",
       "569945  35.189999 2014-12-29  603998.SHA  35.156138\n",
       "569946  37.459999 2014-12-30  603998.SHA  35.576622\n",
       "569947  35.259998 2014-12-31  603998.SHA  35.571593"
      ]
     },
     "execution_count": 2,
     "metadata": {},
     "output_type": "execute_result"
    }
   ],
   "source": [
    "m2.data.read_df().tail(5)"
   ]
  },
  {
   "cell_type": "code",
   "execution_count": 1,
   "metadata": {
    "machine_learning_studio": "true",
    "ml_studio_json": "{\"Description\":\"实验创建于2017/8/26\",\"Summary\":\"\",\"Graph\":{\"EdgesInternal\":[{\"DestinationInputPortId\":\"-580:instruments\",\"SourceOutputPortId\":\"287d2cb0-f53c-4101-bdf8-104b137c8601-8:data\"},{\"DestinationInputPortId\":\"-587:input_data\",\"SourceOutputPortId\":\"-580:data\"},{\"DestinationInputPortId\":\"-643:input_1\",\"SourceOutputPortId\":\"-580:data\"},{\"DestinationInputPortId\":\"-659:data2\",\"SourceOutputPortId\":\"-587:data\"},{\"DestinationInputPortId\":\"-580:features\",\"SourceOutputPortId\":\"-635:data\"},{\"DestinationInputPortId\":\"-587:features\",\"SourceOutputPortId\":\"-635:data\"},{\"DestinationInputPortId\":\"-659:data1\",\"SourceOutputPortId\":\"-643:data_1\"},{\"DestinationInputPortId\":\"-50:input_data\",\"SourceOutputPortId\":\"-659:data\"}],\"ModuleNodes\":[{\"Id\":\"287d2cb0-f53c-4101-bdf8-104b137c8601-8\",\"ModuleId\":\"BigQuantSpace.instruments.instruments-v2\",\"ModuleParameters\":[{\"Name\":\"start_date\",\"Value\":\"2010-01-01\",\"ValueType\":\"Literal\",\"LinkedGlobalParameter\":null},{\"Name\":\"end_date\",\"Value\":\"2015-01-01\",\"ValueType\":\"Literal\",\"LinkedGlobalParameter\":null},{\"Name\":\"market\",\"Value\":\"CN_STOCK_A\",\"ValueType\":\"Literal\",\"LinkedGlobalParameter\":null},{\"Name\":\"instrument_list\",\"Value\":\"\",\"ValueType\":\"Literal\",\"LinkedGlobalParameter\":null},{\"Name\":\"max_count\",\"Value\":\"0\",\"ValueType\":\"Literal\",\"LinkedGlobalParameter\":null}],\"InputPortsInternal\":[{\"DataSourceId\":null,\"TrainedModelId\":null,\"TransformModuleId\":null,\"Name\":\"rolling_conf\",\"NodeId\":\"287d2cb0-f53c-4101-bdf8-104b137c8601-8\"}],\"OutputPortsInternal\":[{\"Name\":\"data\",\"NodeId\":\"287d2cb0-f53c-4101-bdf8-104b137c8601-8\",\"OutputType\":null}],\"UsePreviousResults\":true,\"moduleIdForCode\":1,\"IsPartOfPartialRun\":null,\"Comment\":\"\",\"CommentCollapsed\":true},{\"Id\":\"-580\",\"ModuleId\":\"BigQuantSpace.general_feature_extractor.general_feature_extractor-v7\",\"ModuleParameters\":[{\"Name\":\"start_date\",\"Value\":\"\",\"ValueType\":\"Literal\",\"LinkedGlobalParameter\":null},{\"Name\":\"end_date\",\"Value\":\"\",\"ValueType\":\"Literal\",\"LinkedGlobalParameter\":null},{\"Name\":\"before_start_days\",\"Value\":0,\"ValueType\":\"Literal\",\"LinkedGlobalParameter\":null}],\"InputPortsInternal\":[{\"DataSourceId\":null,\"TrainedModelId\":null,\"TransformModuleId\":null,\"Name\":\"instruments\",\"NodeId\":\"-580\"},{\"DataSourceId\":null,\"TrainedModelId\":null,\"TransformModuleId\":null,\"Name\":\"features\",\"NodeId\":\"-580\"}],\"OutputPortsInternal\":[{\"Name\":\"data\",\"NodeId\":\"-580\",\"OutputType\":null}],\"UsePreviousResults\":true,\"moduleIdForCode\":15,\"IsPartOfPartialRun\":null,\"Comment\":\"\",\"CommentCollapsed\":true},{\"Id\":\"-587\",\"ModuleId\":\"BigQuantSpace.derived_feature_extractor.derived_feature_extractor-v3\",\"ModuleParameters\":[{\"Name\":\"date_col\",\"Value\":\"date\",\"ValueType\":\"Literal\",\"LinkedGlobalParameter\":null},{\"Name\":\"instrument_col\",\"Value\":\"instrument\",\"ValueType\":\"Literal\",\"LinkedGlobalParameter\":null},{\"Name\":\"drop_na\",\"Value\":\"False\",\"ValueType\":\"Literal\",\"LinkedGlobalParameter\":null},{\"Name\":\"remove_extra_columns\",\"Value\":\"False\",\"ValueType\":\"Literal\",\"LinkedGlobalParameter\":null},{\"Name\":\"user_functions\",\"Value\":\"\",\"ValueType\":\"Literal\",\"LinkedGlobalParameter\":null}],\"InputPortsInternal\":[{\"DataSourceId\":null,\"TrainedModelId\":null,\"TransformModuleId\":null,\"Name\":\"input_data\",\"NodeId\":\"-587\"},{\"DataSourceId\":null,\"TrainedModelId\":null,\"TransformModuleId\":null,\"Name\":\"features\",\"NodeId\":\"-587\"}],\"OutputPortsInternal\":[{\"Name\":\"data\",\"NodeId\":\"-587\",\"OutputType\":null}],\"UsePreviousResults\":true,\"moduleIdForCode\":16,\"IsPartOfPartialRun\":null,\"Comment\":\"\",\"CommentCollapsed\":true},{\"Id\":\"-635\",\"ModuleId\":\"BigQuantSpace.input_features.input_features-v1\",\"ModuleParameters\":[{\"Name\":\"features\",\"Value\":\"\\n# #号开始的表示注释，注释需单独一行\\n# 多个特征，每行一个，可以包含基础特征和衍生特征，特征须为本平台特征\\nclose_0\\n\",\"ValueType\":\"Literal\",\"LinkedGlobalParameter\":null}],\"InputPortsInternal\":[{\"DataSourceId\":null,\"TrainedModelId\":null,\"TransformModuleId\":null,\"Name\":\"features_ds\",\"NodeId\":\"-635\"}],\"OutputPortsInternal\":[{\"Name\":\"data\",\"NodeId\":\"-635\",\"OutputType\":null}],\"UsePreviousResults\":true,\"moduleIdForCode\":20,\"IsPartOfPartialRun\":null,\"Comment\":\"\",\"CommentCollapsed\":true},{\"Id\":\"-643\",\"ModuleId\":\"BigQuantSpace.cached.cached-v3\",\"ModuleParameters\":[{\"Name\":\"run\",\"Value\":\"# Python 代码入口函数，input_1/2/3 对应三个输入端，data_1/2/3 对应三个输出端\\ndef bigquant_run(input_1, input_2, input_3):\\n    # 示例代码如下。在这里编写您的代码\\n    input_df = input_1.read_df().reset_index(drop='True')\\n    import talib\\n\\n    def cal_kama(df):\\n        # 取出close_0列的数据转化为float\\n        close = [float(x) for x in df['close_0']]\\n         # 调用talib计算MACD指标\\n        df['KAMA'] = talib.KAMA(np.array(close), timeperiod=5)\\n        return df[['date','instrument','KAMA']]    \\n    \\n    result = input_df.groupby('instrument').apply(cal_kama)\\n    \\n    data_1 = DataSource.write_df(result)\\n    return Outputs(data_1=data_1, data_2=None, data_3=None)\\n\",\"ValueType\":\"Literal\",\"LinkedGlobalParameter\":null},{\"Name\":\"post_run\",\"Value\":\"# 后处理函数，可选。输入是主函数的输出，可以在这里对数据做处理，或者返回更友好的outputs数据格式。此函数输出不会被缓存。\\ndef bigquant_run(outputs):\\n    return outputs\\n\",\"ValueType\":\"Literal\",\"LinkedGlobalParameter\":null},{\"Name\":\"input_ports\",\"Value\":\"\",\"ValueType\":\"Literal\",\"LinkedGlobalParameter\":null},{\"Name\":\"params\",\"Value\":\"{}\",\"ValueType\":\"Literal\",\"LinkedGlobalParameter\":null},{\"Name\":\"output_ports\",\"Value\":\"\",\"ValueType\":\"Literal\",\"LinkedGlobalParameter\":null}],\"InputPortsInternal\":[{\"DataSourceId\":null,\"TrainedModelId\":null,\"TransformModuleId\":null,\"Name\":\"input_1\",\"NodeId\":\"-643\"},{\"DataSourceId\":null,\"TrainedModelId\":null,\"TransformModuleId\":null,\"Name\":\"input_2\",\"NodeId\":\"-643\"},{\"DataSourceId\":null,\"TrainedModelId\":null,\"TransformModuleId\":null,\"Name\":\"input_3\",\"NodeId\":\"-643\"}],\"OutputPortsInternal\":[{\"Name\":\"data_1\",\"NodeId\":\"-643\",\"OutputType\":null},{\"Name\":\"data_2\",\"NodeId\":\"-643\",\"OutputType\":null},{\"Name\":\"data_3\",\"NodeId\":\"-643\",\"OutputType\":null}],\"UsePreviousResults\":true,\"moduleIdForCode\":21,\"IsPartOfPartialRun\":null,\"Comment\":\"使用TALIB计算自适应均线KAMA\",\"CommentCollapsed\":false},{\"Id\":\"-659\",\"ModuleId\":\"BigQuantSpace.join.join-v3\",\"ModuleParameters\":[{\"Name\":\"on\",\"Value\":\"date,instrument\",\"ValueType\":\"Literal\",\"LinkedGlobalParameter\":null},{\"Name\":\"how\",\"Value\":\"inner\",\"ValueType\":\"Literal\",\"LinkedGlobalParameter\":null},{\"Name\":\"sort\",\"Value\":\"False\",\"ValueType\":\"Literal\",\"LinkedGlobalParameter\":null}],\"InputPortsInternal\":[{\"DataSourceId\":null,\"TrainedModelId\":null,\"TransformModuleId\":null,\"Name\":\"data1\",\"NodeId\":\"-659\"},{\"DataSourceId\":null,\"TrainedModelId\":null,\"TransformModuleId\":null,\"Name\":\"data2\",\"NodeId\":\"-659\"}],\"OutputPortsInternal\":[{\"Name\":\"data\",\"NodeId\":\"-659\",\"OutputType\":null}],\"UsePreviousResults\":true,\"moduleIdForCode\":22,\"IsPartOfPartialRun\":null,\"Comment\":\"\",\"CommentCollapsed\":true},{\"Id\":\"-50\",\"ModuleId\":\"BigQuantSpace.dropnan.dropnan-v2\",\"ModuleParameters\":[],\"InputPortsInternal\":[{\"DataSourceId\":null,\"TrainedModelId\":null,\"TransformModuleId\":null,\"Name\":\"input_data\",\"NodeId\":\"-50\"},{\"DataSourceId\":null,\"TrainedModelId\":null,\"TransformModuleId\":null,\"Name\":\"features\",\"NodeId\":\"-50\"}],\"OutputPortsInternal\":[{\"Name\":\"data\",\"NodeId\":\"-50\",\"OutputType\":null}],\"UsePreviousResults\":true,\"moduleIdForCode\":2,\"Comment\":\"\",\"CommentCollapsed\":true}],\"SerializedClientData\":\"<?xml version='1.0' encoding='utf-16'?><DataV1 xmlns:xsd='http://www.w3.org/2001/XMLSchema' xmlns:xsi='http://www.w3.org/2001/XMLSchema-instance'><Meta /><NodePositions><NodePosition Node='287d2cb0-f53c-4101-bdf8-104b137c8601-8' Position='83.17279052734375,46.681968688964844,200,200'/><NodePosition Node='-580' Position='189.34939575195312,143.40281677246094,200,200'/><NodePosition Node='-587' Position='650.1593017578125,300.3887634277344,200,200'/><NodePosition Node='-635' Position='650.2617797851562,86.98283386230469,200,200'/><NodePosition Node='-643' Position='218,245,200,200'/><NodePosition Node='-659' Position='421.70684814453125,393.07073974609375,200,200'/><NodePosition Node='-50' Position='506.12042236328125,515.3747253417969,200,200'/></NodePositions><NodeGroups /></DataV1>\"},\"IsDraft\":true,\"ParentExperimentId\":null,\"WebService\":{\"IsWebServiceExperiment\":false,\"Inputs\":[],\"Outputs\":[],\"Parameters\":[{\"Name\":\"交易日期\",\"Value\":\"\",\"ParameterDefinition\":{\"Name\":\"交易日期\",\"FriendlyName\":\"交易日期\",\"DefaultValue\":\"\",\"ParameterType\":\"String\",\"HasDefaultValue\":true,\"IsOptional\":true,\"ParameterRules\":[],\"HasRules\":false,\"MarkupType\":0,\"CredentialDescriptor\":null}}],\"WebServiceGroupId\":null,\"SerializedClientData\":\"<?xml version='1.0' encoding='utf-16'?><DataV1 xmlns:xsd='http://www.w3.org/2001/XMLSchema' xmlns:xsi='http://www.w3.org/2001/XMLSchema-instance'><Meta /><NodePositions></NodePositions><NodeGroups /></DataV1>\"},\"DisableNodesUpdate\":false,\"Category\":\"user\",\"Tags\":[],\"IsPartialRun\":true}"
   },
   "outputs": [
    {
     "data": {
      "text/plain": [
       "[2020-11-02 17:25:23.203331] INFO: moduleinvoker: instruments.v2 开始运行.."
      ]
     },
     "metadata": {
      "is_log": true,
      "status": "INFO"
     },
     "output_type": "display_data"
    },
    {
     "data": {
      "text/plain": [
       "[2020-11-02 17:25:23.218443] INFO: moduleinvoker: 命中缓存"
      ]
     },
     "metadata": {
      "is_log": true,
      "status": "INFO"
     },
     "output_type": "display_data"
    },
    {
     "data": {
      "text/plain": [
       "[2020-11-02 17:25:23.219638] INFO: moduleinvoker: instruments.v2 运行完成[0.016311s]."
      ]
     },
     "metadata": {
      "is_log": true,
      "status": "INFO"
     },
     "output_type": "display_data"
    },
    {
     "data": {
      "text/plain": [
       "[2020-11-02 17:25:23.222243] INFO: moduleinvoker: input_features.v1 开始运行.."
      ]
     },
     "metadata": {
      "is_log": true,
      "status": "INFO"
     },
     "output_type": "display_data"
    },
    {
     "data": {
      "text/plain": [
       "[2020-11-02 17:25:23.233132] INFO: moduleinvoker: 命中缓存"
      ]
     },
     "metadata": {
      "is_log": true,
      "status": "INFO"
     },
     "output_type": "display_data"
    },
    {
     "data": {
      "text/plain": [
       "[2020-11-02 17:25:23.234172] INFO: moduleinvoker: input_features.v1 运行完成[0.011928s]."
      ]
     },
     "metadata": {
      "is_log": true,
      "status": "INFO"
     },
     "output_type": "display_data"
    },
    {
     "data": {
      "text/plain": [
       "[2020-11-02 17:25:23.241000] INFO: moduleinvoker: general_feature_extractor.v7 开始运行.."
      ]
     },
     "metadata": {
      "is_log": true,
      "status": "INFO"
     },
     "output_type": "display_data"
    },
    {
     "data": {
      "text/plain": [
       "[2020-11-02 17:25:23.246287] INFO: moduleinvoker: 命中缓存"
      ]
     },
     "metadata": {
      "is_log": true,
      "status": "INFO"
     },
     "output_type": "display_data"
    },
    {
     "data": {
      "text/plain": [
       "[2020-11-02 17:25:23.247114] INFO: moduleinvoker: general_feature_extractor.v7 运行完成[0.006114s]."
      ]
     },
     "metadata": {
      "is_log": true,
      "status": "INFO"
     },
     "output_type": "display_data"
    },
    {
     "data": {
      "text/plain": [
       "[2020-11-02 17:25:23.252475] INFO: moduleinvoker: cached.v3 开始运行.."
      ]
     },
     "metadata": {
      "is_log": true,
      "status": "INFO"
     },
     "output_type": "display_data"
    },
    {
     "data": {
      "text/plain": [
       "[2020-11-02 17:25:30.632530] INFO: moduleinvoker: cached.v3 运行完成[7.380036s]."
      ]
     },
     "metadata": {
      "is_log": true,
      "status": "INFO"
     },
     "output_type": "display_data"
    },
    {
     "data": {
      "text/plain": [
       "[2020-11-02 17:25:30.635396] INFO: moduleinvoker: derived_feature_extractor.v3 开始运行.."
      ]
     },
     "metadata": {
      "is_log": true,
      "status": "INFO"
     },
     "output_type": "display_data"
    },
    {
     "data": {
      "text/plain": [
       "[2020-11-02 17:25:30.643139] INFO: moduleinvoker: 命中缓存"
      ]
     },
     "metadata": {
      "is_log": true,
      "status": "INFO"
     },
     "output_type": "display_data"
    },
    {
     "data": {
      "text/plain": [
       "[2020-11-02 17:25:30.644047] INFO: moduleinvoker: derived_feature_extractor.v3 运行完成[0.00865s]."
      ]
     },
     "metadata": {
      "is_log": true,
      "status": "INFO"
     },
     "output_type": "display_data"
    },
    {
     "data": {
      "text/plain": [
       "[2020-11-02 17:25:30.648380] INFO: moduleinvoker: join.v3 开始运行.."
      ]
     },
     "metadata": {
      "is_log": true,
      "status": "INFO"
     },
     "output_type": "display_data"
    },
    {
     "data": {
      "text/plain": [
       "[2020-11-02 17:25:32.397498] INFO: join: /y_2010, 行数=431567/431567, 耗时=0.887191s"
      ]
     },
     "metadata": {
      "is_log": true,
      "status": "INFO"
     },
     "output_type": "display_data"
    },
    {
     "data": {
      "text/plain": [
       "[2020-11-02 17:25:33.351439] INFO: join: /y_2011, 行数=511455/511455, 耗时=0.942526s"
      ]
     },
     "metadata": {
      "is_log": true,
      "status": "INFO"
     },
     "output_type": "display_data"
    },
    {
     "data": {
      "text/plain": [
       "[2020-11-02 17:25:34.262059] INFO: join: /y_2012, 行数=565675/565675, 耗时=0.89764s"
      ]
     },
     "metadata": {
      "is_log": true,
      "status": "INFO"
     },
     "output_type": "display_data"
    },
    {
     "data": {
      "text/plain": [
       "[2020-11-02 17:25:35.176316] INFO: join: /y_2013, 行数=564168/564168, 耗时=0.900564s"
      ]
     },
     "metadata": {
      "is_log": true,
      "status": "INFO"
     },
     "output_type": "display_data"
    },
    {
     "data": {
      "text/plain": [
       "[2020-11-02 17:25:36.147819] INFO: join: /y_2014, 行数=569948/569948, 耗时=0.956969s"
      ]
     },
     "metadata": {
      "is_log": true,
      "status": "INFO"
     },
     "output_type": "display_data"
    },
    {
     "data": {
      "text/plain": [
       "[2020-11-02 17:25:36.731424] INFO: join: 最终行数: 2642813"
      ]
     },
     "metadata": {
      "is_log": true,
      "status": "INFO"
     },
     "output_type": "display_data"
    },
    {
     "data": {
      "text/plain": [
       "[2020-11-02 17:25:36.780783] INFO: moduleinvoker: join.v3 运行完成[6.132389s]."
      ]
     },
     "metadata": {
      "is_log": true,
      "status": "INFO"
     },
     "output_type": "display_data"
    },
    {
     "data": {
      "text/plain": [
       "[2020-11-02 17:25:36.783445] INFO: moduleinvoker: dropnan.v2 开始运行.."
      ]
     },
     "metadata": {
      "is_log": true,
      "status": "INFO"
     },
     "output_type": "display_data"
    },
    {
     "data": {
      "text/plain": [
       "[2020-11-02 17:25:37.112496] INFO: dropnan: /y_2010, 421499/431567"
      ]
     },
     "metadata": {
      "is_log": true,
      "status": "INFO"
     },
     "output_type": "display_data"
    },
    {
     "data": {
      "text/plain": [
       "[2020-11-02 17:25:37.463481] INFO: dropnan: /y_2011, 509994/511455"
      ]
     },
     "metadata": {
      "is_log": true,
      "status": "INFO"
     },
     "output_type": "display_data"
    },
    {
     "data": {
      "text/plain": [
       "[2020-11-02 17:25:37.848533] INFO: dropnan: /y_2012, 564864/565675"
      ]
     },
     "metadata": {
      "is_log": true,
      "status": "INFO"
     },
     "output_type": "display_data"
    },
    {
     "data": {
      "text/plain": [
       "[2020-11-02 17:25:38.205209] INFO: dropnan: /y_2013, 564108/564168"
      ]
     },
     "metadata": {
      "is_log": true,
      "status": "INFO"
     },
     "output_type": "display_data"
    },
    {
     "data": {
      "text/plain": [
       "[2020-11-02 17:25:38.590455] INFO: dropnan: /y_2014, 569351/569948"
      ]
     },
     "metadata": {
      "is_log": true,
      "status": "INFO"
     },
     "output_type": "display_data"
    },
    {
     "data": {
      "text/plain": [
       "[2020-11-02 17:25:39.053800] INFO: dropnan: 行数: 2629816/2642813"
      ]
     },
     "metadata": {
      "is_log": true,
      "status": "INFO"
     },
     "output_type": "display_data"
    },
    {
     "data": {
      "text/plain": [
       "[2020-11-02 17:25:39.062056] INFO: moduleinvoker: dropnan.v2 运行完成[2.278591s]."
      ]
     },
     "metadata": {
      "is_log": true,
      "status": "INFO"
     },
     "output_type": "display_data"
    }
   ],
   "source": [
    "# 本代码由可视化策略环境自动生成 2021年8月22日14:41\n",
    "# 本代码单元只能在可视化模式下编辑。您也可以拷贝代码，粘贴到新建的代码单元或者策略，然后修改。\n",
    "\n",
    "\n",
    "# Python 代码入口函数，input_1/2/3 对应三个输入端，data_1/2/3 对应三个输出端\n",
    "def m21_run_bigquant_run(input_1, input_2, input_3):\n",
    "    # 示例代码如下。在这里编写您的代码\n",
    "    input_df = input_1.read_df().reset_index(drop='True')\n",
    "    import talib\n",
    "\n",
    "    def cal_kama(df):\n",
    "        # 取出close_0列的数据转化为float\n",
    "        close = [float(x) for x in df['close_0']]\n",
    "         # 调用talib计算MACD指标\n",
    "        df['KAMA'] = talib.KAMA(np.array(close), timeperiod=5)\n",
    "        return df[['date','instrument','KAMA']]    \n",
    "    \n",
    "    result = input_df.groupby('instrument').apply(cal_kama)\n",
    "    \n",
    "    data_1 = DataSource.write_df(result)\n",
    "    return Outputs(data_1=data_1, data_2=None, data_3=None)\n",
    "\n",
    "# 后处理函数，可选。输入是主函数的输出，可以在这里对数据做处理，或者返回更友好的outputs数据格式。此函数输出不会被缓存。\n",
    "def m21_post_run_bigquant_run(outputs):\n",
    "    return outputs\n",
    "\n",
    "\n",
    "m1 = M.instruments.v2(\n",
    "    start_date='2010-01-01',\n",
    "    end_date='2015-01-01',\n",
    "    market='CN_STOCK_A',\n",
    "    instrument_list='',\n",
    "    max_count=0\n",
    ")\n",
    "\n",
    "m20 = M.input_features.v1(\n",
    "    features=\"\"\"\n",
    "# #号开始的表示注释，注释需单独一行\n",
    "# 多个特征，每行一个，可以包含基础特征和衍生特征，特征须为本平台特征\n",
    "close_0\n",
    "\"\"\"\n",
    ")\n",
    "\n",
    "m15 = M.general_feature_extractor.v7(\n",
    "    instruments=m1.data,\n",
    "    features=m20.data,\n",
    "    start_date='',\n",
    "    end_date='',\n",
    "    before_start_days=0\n",
    ")\n",
    "\n",
    "m21 = M.cached.v3(\n",
    "    input_1=m15.data,\n",
    "    run=m21_run_bigquant_run,\n",
    "    post_run=m21_post_run_bigquant_run,\n",
    "    input_ports='',\n",
    "    params='{}',\n",
    "    output_ports=''\n",
    ")\n",
    "\n",
    "m16 = M.derived_feature_extractor.v3(\n",
    "    input_data=m15.data,\n",
    "    features=m20.data,\n",
    "    date_col='date',\n",
    "    instrument_col='instrument',\n",
    "    drop_na=False,\n",
    "    remove_extra_columns=False\n",
    ")\n",
    "\n",
    "m22 = M.join.v3(\n",
    "    data1=m21.data_1,\n",
    "    data2=m16.data,\n",
    "    on='date,instrument',\n",
    "    how='inner',\n",
    "    sort=False\n",
    ")\n",
    "\n",
    "m2 = M.dropnan.v2(\n",
    "    input_data=m22.data\n",
    ")\n"
   ]
  }
 ],
 "metadata": {
  "kernelspec": {
   "display_name": "Python 3",
   "language": "python",
   "name": "python3"
  },
  "language_info": {
   "codemirror_mode": {
    "name": "ipython",
    "version": 3
   },
   "file_extension": ".py",
   "mimetype": "text/x-python",
   "name": "python",
   "nbconvert_exporter": "python",
   "pygments_lexer": "ipython3",
   "version": "3.8.7"
  }
 },
 "nbformat": 4,
 "nbformat_minor": 4
}
