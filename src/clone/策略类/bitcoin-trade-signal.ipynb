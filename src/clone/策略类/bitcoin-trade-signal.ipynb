{
 "cells": [
  {
   "cell_type": "code",
   "execution_count": 46,
   "metadata": {
    "machine_learning_studio": "true",
    "ml_studio_json": "{\"description\":\"实验创建于2020/3/24\",\"graph\":{\"edges\":[{\"to_node_id\":\"-65:input_1\",\"from_node_id\":\"-35:data\"},{\"to_node_id\":\"-243:input_data\",\"from_node_id\":\"-78:data\"},{\"to_node_id\":\"-392:input_1\",\"from_node_id\":\"-78:data\"},{\"to_node_id\":\"-416:input_1\",\"from_node_id\":\"-78:data\"},{\"to_node_id\":\"-327:input_1\",\"from_node_id\":\"-65:data_1\"},{\"to_node_id\":\"-726:input_1\",\"from_node_id\":\"-87:data_1\"},{\"to_node_id\":\"-194:input_1\",\"from_node_id\":\"-157:data_1\"},{\"to_node_id\":\"-252:features\",\"from_node_id\":\"-177:data\"},{\"to_node_id\":\"-78:data1\",\"from_node_id\":\"-181:data\"},{\"to_node_id\":\"-181:input_data\",\"from_node_id\":\"-194:data_1\"},{\"to_node_id\":\"-78:data2\",\"from_node_id\":\"-693:data_1\"},{\"to_node_id\":\"-678:input_1\",\"from_node_id\":\"-726:data_1\"},{\"to_node_id\":\"-252:training_ds\",\"from_node_id\":\"-243:data\"},{\"to_node_id\":\"-252:predict_ds\",\"from_node_id\":\"-243:left_data\"},{\"to_node_id\":\"-260:predictions\",\"from_node_id\":\"-252:predictions\"},{\"to_node_id\":\"-386:input_1\",\"from_node_id\":\"-252:predictions\"},{\"to_node_id\":\"-768:input_1\",\"from_node_id\":\"-252:predictions\"},{\"to_node_id\":\"-775:input_1\",\"from_node_id\":\"-768:data_1\"},{\"to_node_id\":\"-157:input_1\",\"from_node_id\":\"-316:sorted_data\"},{\"to_node_id\":\"-343:input_data\",\"from_node_id\":\"-327:data_1\"},{\"to_node_id\":\"-316:input_ds\",\"from_node_id\":\"-343:data\"},{\"to_node_id\":\"-693:input_1\",\"from_node_id\":\"-678:data_1\"}],\"nodes\":[{\"node_id\":\"-35\",\"module_id\":\"BigQuantSpace.rename_columns1.rename_columns1-v1\",\"parameters\":[{\"name\":\"columns\",\"value\":\"Date@date|Value@market_cap\",\"type\":\"Literal\",\"bound_global_parameter\":null},{\"name\":\"keep_old_columns\",\"value\":\"False\",\"type\":\"Literal\",\"bound_global_parameter\":null}],\"input_ports\":[{\"name\":\"input_ds\",\"node_id\":\"-35\"}],\"output_ports\":[{\"name\":\"data\",\"node_id\":\"-35\"}],\"cacheable\":true,\"seq_num\":8,\"comment\":\"\",\"comment_collapsed\":true},{\"node_id\":\"-78\",\"module_id\":\"BigQuantSpace.join.join-v3\",\"parameters\":[{\"name\":\"on\",\"value\":\"date\",\"type\":\"Literal\",\"bound_global_parameter\":null},{\"name\":\"how\",\"value\":\"inner\",\"type\":\"Literal\",\"bound_global_parameter\":null},{\"name\":\"sort\",\"value\":\"False\",\"type\":\"Literal\",\"bound_global_parameter\":null}],\"input_ports\":[{\"name\":\"data1\",\"node_id\":\"-78\"},{\"name\":\"data2\",\"node_id\":\"-78\"}],\"output_ports\":[{\"name\":\"data\",\"node_id\":\"-78\"}],\"cacheable\":true,\"seq_num\":14,\"comment\":\"\",\"comment_collapsed\":true},{\"node_id\":\"-65\",\"module_id\":\"BigQuantSpace.cached.cached-v3\",\"parameters\":[{\"name\":\"run\",\"value\":\"# Python 代码入口函数，input_1/2/3 对应三个输入端，data_1/2/3 对应三个输出端\\ndef bigquant_run(input_1, input_2, input_3):\\n    # 示例代码如下。在这里编写您的代码\\n    df = input_1.read_df()\\n    df['date0'] = df['date'].apply(lambda x: x[0:11] + ' 00:00:00')\\n    df['date1'] = df['date0'].apply(lambda x: datetime.datetime.strptime(x, '%Y-%m-%d %H:%M:%S'))\\n    df = df.drop(['date','date0'], axis=1)\\n    df = df.rename(columns={'date1': 'date'})\\n    #df = pd.DataFrame({'data': [1, 2, 3]})\\n    data_1 = DataSource.write_df(df)\\n    data_2 = DataSource.write_pickle(df)\\n    return Outputs(data_1=data_1, data_2=None, data_3=None)\\n\",\"type\":\"Literal\",\"bound_global_parameter\":null},{\"name\":\"post_run\",\"value\":\"# 后处理函数，可选。输入是主函数的输出，可以在这里对数据做处理，或者返回更友好的outputs数据格式。此函数输出不会被缓存。\\ndef bigquant_run(outputs):\\n    return outputs\\n\",\"type\":\"Literal\",\"bound_global_parameter\":null},{\"name\":\"input_ports\",\"value\":\"\",\"type\":\"Literal\",\"bound_global_parameter\":null},{\"name\":\"params\",\"value\":\"{}\",\"type\":\"Literal\",\"bound_global_parameter\":null},{\"name\":\"output_ports\",\"value\":\"\",\"type\":\"Literal\",\"bound_global_parameter\":null}],\"input_ports\":[{\"name\":\"input_1\",\"node_id\":\"-65\"},{\"name\":\"input_2\",\"node_id\":\"-65\"},{\"name\":\"input_3\",\"node_id\":\"-65\"}],\"output_ports\":[{\"name\":\"data_1\",\"node_id\":\"-65\"},{\"name\":\"data_2\",\"node_id\":\"-65\"},{\"name\":\"data_3\",\"node_id\":\"-65\"}],\"cacheable\":true,\"seq_num\":15,\"comment\":\"修改日期为datetime格式\",\"comment_collapsed\":false},{\"node_id\":\"-87\",\"module_id\":\"BigQuantSpace.cached.cached-v3\",\"parameters\":[{\"name\":\"run\",\"value\":\"# Python 代码入口函数，input_1/2/3 对应三个输入端，data_1/2/3 对应三个输出端\\ndef bigquant_run(input_1, input_2, input_3):\\n    # 示例代码如下。在这里编写您的代码\\n    df = input_1.read_df()\\n    df['date0'] = df['date'].apply(lambda x: x[0:11] + ' 00:00:00')\\n    df['date1'] = df['date0'].apply(lambda x: datetime.datetime.strptime(x, '%Y-%m-%d %H:%M:%S'))\\n    df = df.drop(['date','date0'], axis=1)\\n    df = df.rename(columns={'date1': 'date'})\\n    #df = pd.DataFrame({'data': [1, 2, 3]})\\n    data_1 = DataSource.write_df(df)\\n    data_2 = DataSource.write_pickle(df)\\n    return Outputs(data_1=data_1, data_2=None, data_3=None)\\n\",\"type\":\"Literal\",\"bound_global_parameter\":null},{\"name\":\"post_run\",\"value\":\"# 后处理函数，可选。输入是主函数的输出，可以在这里对数据做处理，或者返回更友好的outputs数据格式。此函数输出不会被缓存。\\ndef bigquant_run(outputs):\\n    return outputs\\n\",\"type\":\"Literal\",\"bound_global_parameter\":null},{\"name\":\"input_ports\",\"value\":\"\",\"type\":\"Literal\",\"bound_global_parameter\":null},{\"name\":\"params\",\"value\":\"{}\",\"type\":\"Literal\",\"bound_global_parameter\":null},{\"name\":\"output_ports\",\"value\":\"\",\"type\":\"Literal\",\"bound_global_parameter\":null}],\"input_ports\":[{\"name\":\"input_1\",\"node_id\":\"-87\"},{\"name\":\"input_2\",\"node_id\":\"-87\"},{\"name\":\"input_3\",\"node_id\":\"-87\"}],\"output_ports\":[{\"name\":\"data_1\",\"node_id\":\"-87\"},{\"name\":\"data_2\",\"node_id\":\"-87\"},{\"name\":\"data_3\",\"node_id\":\"-87\"}],\"cacheable\":true,\"seq_num\":4,\"comment\":\"修改日期为datetime格式\",\"comment_collapsed\":false},{\"node_id\":\"-157\",\"module_id\":\"BigQuantSpace.cached.cached-v3\",\"parameters\":[{\"name\":\"run\",\"value\":\"# Python 代码入口函数，input_1/2/3 对应三个输入端，data_1/2/3 对应三个输出端\\ndef bigquant_run(input_1, input_2, input_3):\\n    # 示例代码如下。在这里编写您的代码\\n    #df = pd.DataFrame({'data': [1, 2, 3]})\\n    df = input_1.read_df()\\n    df1 = df[df.columns.difference(['date'])]\\n    df2 = df1.applymap(lambda x: np.log(x))\\n    df2['date'] = df['date']\\n    data_1 = DataSource.write_df(df2)\\n    #data_2 = DataSource.write_pickle(df)\\n    return Outputs(data_1=data_1, data_2=None, data_3=None)\\n\",\"type\":\"Literal\",\"bound_global_parameter\":null},{\"name\":\"post_run\",\"value\":\"# 后处理函数，可选。输入是主函数的输出，可以在这里对数据做处理，或者返回更友好的outputs数据格式。此函数输出不会被缓存。\\ndef bigquant_run(outputs):\\n    return outputs\\n\",\"type\":\"Literal\",\"bound_global_parameter\":null},{\"name\":\"input_ports\",\"value\":\"\",\"type\":\"Literal\",\"bound_global_parameter\":null},{\"name\":\"params\",\"value\":\"{}\",\"type\":\"Literal\",\"bound_global_parameter\":null},{\"name\":\"output_ports\",\"value\":\"\",\"type\":\"Literal\",\"bound_global_parameter\":null}],\"input_ports\":[{\"name\":\"input_1\",\"node_id\":\"-157\"},{\"name\":\"input_2\",\"node_id\":\"-157\"},{\"name\":\"input_3\",\"node_id\":\"-157\"}],\"output_ports\":[{\"name\":\"data_1\",\"node_id\":\"-157\"},{\"name\":\"data_2\",\"node_id\":\"-157\"},{\"name\":\"data_3\",\"node_id\":\"-157\"}],\"cacheable\":true,\"seq_num\":17,\"comment\":\"对date以外的列取对数\",\"comment_collapsed\":false},{\"node_id\":\"-177\",\"module_id\":\"BigQuantSpace.input_features.input_features-v1\",\"parameters\":[{\"name\":\"features\",\"value\":\"\\n# #号开始的表示注释，注释需单独一行\\n# 多个特征，每行一个，可以包含基础特征和衍生特征，特征须为本平台特征\\nfactor1\\n\",\"type\":\"Literal\",\"bound_global_parameter\":null}],\"input_ports\":[{\"name\":\"features_ds\",\"node_id\":\"-177\"}],\"output_ports\":[{\"name\":\"data\",\"node_id\":\"-177\"}],\"cacheable\":true,\"seq_num\":19,\"comment\":\"\",\"comment_collapsed\":true},{\"node_id\":\"-181\",\"module_id\":\"BigQuantSpace.auto_labeler_on_datasource.auto_labeler_on_datasource-v1\",\"parameters\":[{\"name\":\"label_expr\",\"value\":\"# #号开始的表示注释\\n# 0. 每行一个，顺序执行，从第二个开始，可以使用label字段\\n# 1. 可用数据字段见 https://bigquant.com/docs/develop/datasource/deprecated/history_data.html\\n# 2. 可用操作符和函数见 `表达式引擎 <https://bigquant.com/docs/develop/bigexpr/usage.html>`_\\n\\n# 计算收益：5日收盘价(作为卖出价格)除以明日开盘价(作为买入价格)\\nmarket_cap\\n\\n# 极值处理：用1%和99%分位的值做clip\\n#clip(label, all_quantile(label, 0.01), all_quantile(label, 0.99))\\n\\n# 将分数映射到分类，这里使用20个分类\\n#all_wbins(label, 20)\\n\\n# 过滤掉一字涨停的情况 (设置label为NaN，在后续处理和训练中会忽略NaN的label)\\n#where(shift(high, -1) == shift(low, -1), NaN, label)\\n\",\"type\":\"Literal\",\"bound_global_parameter\":null},{\"name\":\"drop_na_label\",\"value\":\"True\",\"type\":\"Literal\",\"bound_global_parameter\":null},{\"name\":\"cast_label_int\",\"value\":\"False\",\"type\":\"Literal\",\"bound_global_parameter\":null},{\"name\":\"date_col\",\"value\":\"date\",\"type\":\"Literal\",\"bound_global_parameter\":null},{\"name\":\"instrument_col\",\"value\":\"instrument\",\"type\":\"Literal\",\"bound_global_parameter\":null},{\"name\":\"user_functions\",\"value\":\"{}\",\"type\":\"Literal\",\"bound_global_parameter\":null}],\"input_ports\":[{\"name\":\"input_data\",\"node_id\":\"-181\"}],\"output_ports\":[{\"name\":\"data\",\"node_id\":\"-181\"}],\"cacheable\":true,\"seq_num\":20,\"comment\":\"\",\"comment_collapsed\":true},{\"node_id\":\"-194\",\"module_id\":\"BigQuantSpace.cached.cached-v3\",\"parameters\":[{\"name\":\"run\",\"value\":\"# Python 代码入口函数，input_1/2/3 对应三个输入端，data_1/2/3 对应三个输出端\\ndef bigquant_run(input_1, input_2, input_3):\\n    # 示例代码如下。在这里编写您的代码\\n    #df = pd.DataFrame({'data': [1, 2, 3]})\\n    df = input_1.read_df()\\n    df['instrument'] = 'BTC_USDT.HBI'\\n    data_1 = DataSource.write_df(df)\\n    #data_2 = DataSource.write_pickle(df)\\n    return Outputs(data_1=data_1, data_2=None, data_3=None)\\n\",\"type\":\"Literal\",\"bound_global_parameter\":null},{\"name\":\"post_run\",\"value\":\"# 后处理函数，可选。输入是主函数的输出，可以在这里对数据做处理，或者返回更友好的outputs数据格式。此函数输出不会被缓存。\\ndef bigquant_run(outputs):\\n    return outputs\\n\",\"type\":\"Literal\",\"bound_global_parameter\":null},{\"name\":\"input_ports\",\"value\":\"\",\"type\":\"Literal\",\"bound_global_parameter\":null},{\"name\":\"params\",\"value\":\"{}\",\"type\":\"Literal\",\"bound_global_parameter\":null},{\"name\":\"output_ports\",\"value\":\"\",\"type\":\"Literal\",\"bound_global_parameter\":null}],\"input_ports\":[{\"name\":\"input_1\",\"node_id\":\"-194\"},{\"name\":\"input_2\",\"node_id\":\"-194\"},{\"name\":\"input_3\",\"node_id\":\"-194\"}],\"output_ports\":[{\"name\":\"data_1\",\"node_id\":\"-194\"},{\"name\":\"data_2\",\"node_id\":\"-194\"},{\"name\":\"data_3\",\"node_id\":\"-194\"}],\"cacheable\":true,\"seq_num\":21,\"comment\":\"增加instrument列\",\"comment_collapsed\":false},{\"node_id\":\"-693\",\"module_id\":\"BigQuantSpace.cached.cached-v3\",\"parameters\":[{\"name\":\"run\",\"value\":\"# Python 代码入口函数，input_1/2/3 对应三个输入端，data_1/2/3 对应三个输出端\\ndef bigquant_run(input_1, input_2, input_3):\\n    # 示例代码如下。在这里编写您的代码\\n    #df = pd.DataFrame({'data': [1, 2, 3]})\\n    df = input_1.read_df()\\n    df1 = df[df.columns.difference(['date'])]\\n    df2 = df1.applymap(lambda x: np.log(x))\\n    df2['date'] = df['date']\\n    data_1 = DataSource.write_df(df2)\\n    #data_2 = DataSource.write_pickle(df)\\n    return Outputs(data_1=data_1, data_2=None, data_3=None)\\n\",\"type\":\"Literal\",\"bound_global_parameter\":null},{\"name\":\"post_run\",\"value\":\"# 后处理函数，可选。输入是主函数的输出，可以在这里对数据做处理，或者返回更友好的outputs数据格式。此函数输出不会被缓存。\\ndef bigquant_run(outputs):\\n    return outputs\\n\",\"type\":\"Literal\",\"bound_global_parameter\":null},{\"name\":\"input_ports\",\"value\":\"\",\"type\":\"Literal\",\"bound_global_parameter\":null},{\"name\":\"params\",\"value\":\"{}\",\"type\":\"Literal\",\"bound_global_parameter\":null},{\"name\":\"output_ports\",\"value\":\"\",\"type\":\"Literal\",\"bound_global_parameter\":null}],\"input_ports\":[{\"name\":\"input_1\",\"node_id\":\"-693\"},{\"name\":\"input_2\",\"node_id\":\"-693\"},{\"name\":\"input_3\",\"node_id\":\"-693\"}],\"output_ports\":[{\"name\":\"data_1\",\"node_id\":\"-693\"},{\"name\":\"data_2\",\"node_id\":\"-693\"},{\"name\":\"data_3\",\"node_id\":\"-693\"}],\"cacheable\":true,\"seq_num\":22,\"comment\":\"对date以外的列取对数\",\"comment_collapsed\":false},{\"node_id\":\"-726\",\"module_id\":\"BigQuantSpace.cached.cached-v3\",\"parameters\":[{\"name\":\"run\",\"value\":\"# Python 代码入口函数，input_1/2/3 对应三个输入端，data_1/2/3 对应三个输出端\\ndef bigquant_run(input_1, input_2, input_3):\\n    # 示例代码如下。在这里编写您的代码\\n    #df = pd.DataFrame({'data': [1, 2, 3]})\\n    df = input_1.read_df()\\n    df1 = df[df.columns.difference(['date'])]\\n    df2 = df1.apply(lambda col: np.cumsum(col))\\n    df2['date'] = df['date']\\n    data_1 = DataSource.write_df(df2)\\n    #data_2 = DataSource.write_pickle(df)\\n    return Outputs(data_1=data_1, data_2=None, data_3=None)\\n\",\"type\":\"Literal\",\"bound_global_parameter\":null},{\"name\":\"post_run\",\"value\":\"# 后处理函数，可选。输入是主函数的输出，可以在这里对数据做处理，或者返回更友好的outputs数据格式。此函数输出不会被缓存。\\ndef bigquant_run(outputs):\\n    return outputs\\n\",\"type\":\"Literal\",\"bound_global_parameter\":null},{\"name\":\"input_ports\",\"value\":\"\",\"type\":\"Literal\",\"bound_global_parameter\":null},{\"name\":\"params\",\"value\":\"{}\",\"type\":\"Literal\",\"bound_global_parameter\":null},{\"name\":\"output_ports\",\"value\":\"\",\"type\":\"Literal\",\"bound_global_parameter\":null}],\"input_ports\":[{\"name\":\"input_1\",\"node_id\":\"-726\"},{\"name\":\"input_2\",\"node_id\":\"-726\"},{\"name\":\"input_3\",\"node_id\":\"-726\"}],\"output_ports\":[{\"name\":\"data_1\",\"node_id\":\"-726\"},{\"name\":\"data_2\",\"node_id\":\"-726\"},{\"name\":\"data_3\",\"node_id\":\"-726\"}],\"cacheable\":true,\"seq_num\":25,\"comment\":\"计算累计数\",\"comment_collapsed\":false},{\"node_id\":\"-243\",\"module_id\":\"BigQuantSpace.filter.filter-v3\",\"parameters\":[{\"name\":\"expr\",\"value\":\"date<'2014-06-01'\",\"type\":\"Literal\",\"bound_global_parameter\":null},{\"name\":\"output_left_data\",\"value\":\"True\",\"type\":\"Literal\",\"bound_global_parameter\":null}],\"input_ports\":[{\"name\":\"input_data\",\"node_id\":\"-243\"}],\"output_ports\":[{\"name\":\"data\",\"node_id\":\"-243\"},{\"name\":\"left_data\",\"node_id\":\"-243\"}],\"cacheable\":true,\"seq_num\":31,\"comment\":\"\",\"comment_collapsed\":true},{\"node_id\":\"-252\",\"module_id\":\"BigQuantSpace.linear_regression.linear_regression-v1\",\"parameters\":[{\"name\":\"fit_intercept\",\"value\":\"True\",\"type\":\"Literal\",\"bound_global_parameter\":null},{\"name\":\"normalize\",\"value\":\"False\",\"type\":\"Literal\",\"bound_global_parameter\":null},{\"name\":\"key_cols\",\"value\":\"date,instrument\",\"type\":\"Literal\",\"bound_global_parameter\":null},{\"name\":\"workers\",\"value\":1,\"type\":\"Literal\",\"bound_global_parameter\":null},{\"name\":\"other_train_parameters\",\"value\":\"{}\",\"type\":\"Literal\",\"bound_global_parameter\":null}],\"input_ports\":[{\"name\":\"training_ds\",\"node_id\":\"-252\"},{\"name\":\"features\",\"node_id\":\"-252\"},{\"name\":\"model\",\"node_id\":\"-252\"},{\"name\":\"predict_ds\",\"node_id\":\"-252\"}],\"output_ports\":[{\"name\":\"output_model\",\"node_id\":\"-252\"},{\"name\":\"predictions\",\"node_id\":\"-252\"}],\"cacheable\":true,\"seq_num\":32,\"comment\":\"\",\"comment_collapsed\":true},{\"node_id\":\"-260\",\"module_id\":\"BigQuantSpace.metrics_regression.metrics_regression-v1\",\"parameters\":[{\"name\":\"explained_variance_score\",\"value\":\"True\",\"type\":\"Literal\",\"bound_global_parameter\":null},{\"name\":\"mean_absolute_error\",\"value\":\"True\",\"type\":\"Literal\",\"bound_global_parameter\":null},{\"name\":\"mean_squared_error\",\"value\":\"True\",\"type\":\"Literal\",\"bound_global_parameter\":null},{\"name\":\"mean_squared_log_error\",\"value\":\"True\",\"type\":\"Literal\",\"bound_global_parameter\":null},{\"name\":\"median_absolute_error\",\"value\":\"True\",\"type\":\"Literal\",\"bound_global_parameter\":null},{\"name\":\"r2_score\",\"value\":\"True\",\"type\":\"Literal\",\"bound_global_parameter\":null}],\"input_ports\":[{\"name\":\"predictions\",\"node_id\":\"-260\"}],\"output_ports\":[{\"name\":\"report\",\"node_id\":\"-260\"}],\"cacheable\":false,\"seq_num\":33,\"comment\":\"\",\"comment_collapsed\":true},{\"node_id\":\"-768\",\"module_id\":\"BigQuantSpace.cached.cached-v3\",\"parameters\":[{\"name\":\"run\",\"value\":\"# Python 代码入口函数，input_1/2/3 对应三个输入端，data_1/2/3 对应三个输出端\\ndef bigquant_run(input_1, input_2, input_3):\\n    # 示例代码如下。在这里编写您的代码\\n    #df = pd.DataFrame({'data': [1, 2, 3]})\\n    df = input_1.read()\\n    df['residual'] = df['label'] - df['pred_label']\\n    data_1 = DataSource.write_df(df)\\n    #data_2 = DataSource.write_pickle(df)\\n    return Outputs(data_1=data_1, data_2=None, data_3=None)\\n\",\"type\":\"Literal\",\"bound_global_parameter\":null},{\"name\":\"post_run\",\"value\":\"# 后处理函数，可选。输入是主函数的输出，可以在这里对数据做处理，或者返回更友好的outputs数据格式。此函数输出不会被缓存。\\ndef bigquant_run(outputs):\\n    return outputs\\n\",\"type\":\"Literal\",\"bound_global_parameter\":null},{\"name\":\"input_ports\",\"value\":\"\",\"type\":\"Literal\",\"bound_global_parameter\":null},{\"name\":\"params\",\"value\":\"{}\",\"type\":\"Literal\",\"bound_global_parameter\":null},{\"name\":\"output_ports\",\"value\":\"\",\"type\":\"Literal\",\"bound_global_parameter\":null}],\"input_ports\":[{\"name\":\"input_1\",\"node_id\":\"-768\"},{\"name\":\"input_2\",\"node_id\":\"-768\"},{\"name\":\"input_3\",\"node_id\":\"-768\"}],\"output_ports\":[{\"name\":\"data_1\",\"node_id\":\"-768\"},{\"name\":\"data_2\",\"node_id\":\"-768\"},{\"name\":\"data_3\",\"node_id\":\"-768\"}],\"cacheable\":true,\"seq_num\":27,\"comment\":\"计算交易信号\",\"comment_collapsed\":false},{\"node_id\":\"-775\",\"module_id\":\"BigQuantSpace.Tplot_COPY.Tplot_COPY-v11\",\"parameters\":[{\"name\":\"y\",\"value\":\"residual,label\",\"type\":\"Literal\",\"bound_global_parameter\":null},{\"name\":\"title\",\"value\":\"交易信号图\",\"type\":\"Literal\",\"bound_global_parameter\":null},{\"name\":\"chart_type\",\"value\":\"line\",\"type\":\"Literal\",\"bound_global_parameter\":null},{\"name\":\"chart_options\",\"value\":\"{\\n    \\\"chart\\\": {\\\"height\\\": 400},\\n    # 设置多个子图各自的y轴名称、子图位置等相关配置\\n    \\\"yAxis\\\": [\\n              {\\\"title\\\": {\\\"text\\\": \\\"交易信号\\\"},\\\"top\\\": \\\"5%\\\",\\\"height\\\": \\\"95%\\\",\\\"offset\\\": 10},\\n              {\\\"title\\\": {\\\"text\\\": \\\"市值对数\\\"},\\\"top\\\": \\\"10%\\\",\\\"height\\\": \\\"90%\\\",\\\"offset\\\": 10}\\n             ],\\n    # 设置子图绘制的数据data、绘图类型type和对应的y轴配置yAxis(0表示yAxis配置列表的第一项，\\n    \\\"series\\\":[\\n              {},\\n              {\\\"type\\\":\\\"line\\\",\\\"yAxis\\\":1}\\n              # 多个变量绘制在相同子图可设置相同的yAxis序号)\\n              #{\\\"data\\\":[m5.data.read()[[\\\"date\\\"]],m5.data.read()[[\\\"volume\\\"]]],\\\"type\\\":\\\"column\\\",\\\"yAxis\\\":1},\\n             ]\\n}\",\"type\":\"Literal\",\"bound_global_parameter\":null}],\"input_ports\":[{\"name\":\"input_1\",\"node_id\":\"-775\"}],\"output_ports\":[],\"cacheable\":true,\"seq_num\":36,\"comment\":\"\",\"comment_collapsed\":true},{\"node_id\":\"-316\",\"module_id\":\"BigQuantSpace.sort.sort-v4\",\"parameters\":[{\"name\":\"sort_by\",\"value\":\"date\",\"type\":\"Literal\",\"bound_global_parameter\":null},{\"name\":\"group_by\",\"value\":\"\",\"type\":\"Literal\",\"bound_global_parameter\":null},{\"name\":\"keep_columns\",\"value\":\"date,market_cap\",\"type\":\"Literal\",\"bound_global_parameter\":null},{\"name\":\"ascending\",\"value\":\"True\",\"type\":\"Literal\",\"bound_global_parameter\":null}],\"input_ports\":[{\"name\":\"input_ds\",\"node_id\":\"-316\"},{\"name\":\"sort_by_ds\",\"node_id\":\"-316\"}],\"output_ports\":[{\"name\":\"sorted_data\",\"node_id\":\"-316\"}],\"cacheable\":true,\"seq_num\":3,\"comment\":\"\",\"comment_collapsed\":true},{\"node_id\":\"-327\",\"module_id\":\"BigQuantSpace.cached.cached-v3\",\"parameters\":[{\"name\":\"run\",\"value\":\"# Python 代码入口函数，input_1/2/3 对应三个输入端，data_1/2/3 对应三个输出端\\ndef bigquant_run(input_1, input_2, input_3):\\n    # 示例代码如下。在这里编写您的代码\\n    #df = pd.DataFrame({'data': [1, 2, 3]})\\n    df = input_1.read_df()\\n    df1 = df[df!= 0]\\n    data_1 = DataSource.write_df(df1)\\n    #data_2 = DataSource.write_pickle(df)\\n    return Outputs(data_1=data_1, data_2=None, data_3=None)\\n\",\"type\":\"Literal\",\"bound_global_parameter\":null},{\"name\":\"post_run\",\"value\":\"# 后处理函数，可选。输入是主函数的输出，可以在这里对数据做处理，或者返回更友好的outputs数据格式。此函数输出不会被缓存。\\ndef bigquant_run(outputs):\\n    return outputs\\n\",\"type\":\"Literal\",\"bound_global_parameter\":null},{\"name\":\"input_ports\",\"value\":\"\",\"type\":\"Literal\",\"bound_global_parameter\":null},{\"name\":\"params\",\"value\":\"{}\",\"type\":\"Literal\",\"bound_global_parameter\":null},{\"name\":\"output_ports\",\"value\":\"\",\"type\":\"Literal\",\"bound_global_parameter\":null}],\"input_ports\":[{\"name\":\"input_1\",\"node_id\":\"-327\"},{\"name\":\"input_2\",\"node_id\":\"-327\"},{\"name\":\"input_3\",\"node_id\":\"-327\"}],\"output_ports\":[{\"name\":\"data_1\",\"node_id\":\"-327\"},{\"name\":\"data_2\",\"node_id\":\"-327\"},{\"name\":\"data_3\",\"node_id\":\"-327\"}],\"cacheable\":true,\"seq_num\":7,\"comment\":\"设0为nan\",\"comment_collapsed\":false},{\"node_id\":\"-343\",\"module_id\":\"BigQuantSpace.dropnan.dropnan-v2\",\"parameters\":[],\"input_ports\":[{\"name\":\"input_data\",\"node_id\":\"-343\"},{\"name\":\"features\",\"node_id\":\"-343\"}],\"output_ports\":[{\"name\":\"data\",\"node_id\":\"-343\"}],\"cacheable\":true,\"seq_num\":43,\"comment\":\"\",\"comment_collapsed\":true},{\"node_id\":\"-678\",\"module_id\":\"BigQuantSpace.cached.cached-v3\",\"parameters\":[{\"name\":\"run\",\"value\":\"# Python 代码入口函数，input_1/2/3 对应三个输入端，data_1/2/3 对应三个输出端\\ndef bigquant_run(input_1, input_2, input_3):\\n    # 示例代码如下。在这里编写您的代码\\n    #df = pd.DataFrame({'data': [1, 2, 3]})\\n    df = input_1.read_df()\\n    df1 = df[df!= 0]\\n    data_1 = DataSource.write_df(df1)\\n    #data_2 = DataSource.write_pickle(df)\\n    return Outputs(data_1=data_1, data_2=None, data_3=None)\\n\",\"type\":\"Literal\",\"bound_global_parameter\":null},{\"name\":\"post_run\",\"value\":\"# 后处理函数，可选。输入是主函数的输出，可以在这里对数据做处理，或者返回更友好的outputs数据格式。此函数输出不会被缓存。\\ndef bigquant_run(outputs):\\n    return outputs\\n\",\"type\":\"Literal\",\"bound_global_parameter\":null},{\"name\":\"input_ports\",\"value\":\"\",\"type\":\"Literal\",\"bound_global_parameter\":null},{\"name\":\"params\",\"value\":\"{}\",\"type\":\"Literal\",\"bound_global_parameter\":null},{\"name\":\"output_ports\",\"value\":\"\",\"type\":\"Literal\",\"bound_global_parameter\":null}],\"input_ports\":[{\"name\":\"input_1\",\"node_id\":\"-678\"},{\"name\":\"input_2\",\"node_id\":\"-678\"},{\"name\":\"input_3\",\"node_id\":\"-678\"}],\"output_ports\":[{\"name\":\"data_1\",\"node_id\":\"-678\"},{\"name\":\"data_2\",\"node_id\":\"-678\"},{\"name\":\"data_3\",\"node_id\":\"-678\"}],\"cacheable\":true,\"seq_num\":5,\"comment\":\"设0为nan\",\"comment_collapsed\":false},{\"node_id\":\"-386\",\"module_id\":\"BigQuantSpace.Tplot_COPY.Tplot_COPY-v11\",\"parameters\":[{\"name\":\"y\",\"value\":\"pred_label,label\",\"type\":\"Literal\",\"bound_global_parameter\":null},{\"name\":\"title\",\"value\":\"预测图\",\"type\":\"Literal\",\"bound_global_parameter\":null},{\"name\":\"chart_type\",\"value\":\"line\",\"type\":\"Literal\",\"bound_global_parameter\":null},{\"name\":\"chart_options\",\"value\":\"{\\n    \\\"chart\\\": {\\\"height\\\": 400},\\n    # 设置多个子图各自的y轴名称、子图位置等相关配置\\n    \\\"yAxis\\\": [\\n              {},\\n              {\\\"title\\\": {\\\"text\\\": \\\"市值对数\\\"},\\\"top\\\": \\\"10%\\\",\\\"height\\\": \\\"90%\\\",\\\"offset\\\": 10}\\n             ],\\n    # 设置子图绘制的数据data、绘图类型type和对应的y轴配置yAxis(0表示yAxis配置列表的第一项，\\n    \\\"series\\\":[\\n              {},\\n              {\\\"type\\\":\\\"line\\\",\\\"yAxis\\\":0}\\n              # 多个变量绘制在相同子图可设置相同的yAxis序号)\\n              #{\\\"data\\\":[m5.data.read()[[\\\"date\\\"]],m5.data.read()[[\\\"volume\\\"]]],\\\"type\\\":\\\"column\\\",\\\"yAxis\\\":1},\\n             ]\\n}\",\"type\":\"Literal\",\"bound_global_parameter\":null}],\"input_ports\":[{\"name\":\"input_1\",\"node_id\":\"-386\"}],\"output_ports\":[],\"cacheable\":true,\"seq_num\":47,\"comment\":\"\",\"comment_collapsed\":true},{\"node_id\":\"-392\",\"module_id\":\"BigQuantSpace.df_stastic.df_stastic-v6\",\"parameters\":[{\"name\":\"type_num\",\"value\":\"0\",\"type\":\"Literal\",\"bound_global_parameter\":null},{\"name\":\"columns\",\"value\":\"['factor1', 'm:market_cap']\",\"type\":\"Literal\",\"bound_global_parameter\":null}],\"input_ports\":[{\"name\":\"input_1\",\"node_id\":\"-392\"}],\"output_ports\":[],\"cacheable\":true,\"seq_num\":50,\"comment\":\"\",\"comment_collapsed\":true},{\"node_id\":\"-416\",\"module_id\":\"BigQuantSpace.Tplot_COPY.Tplot_COPY-v11\",\"parameters\":[{\"name\":\"y\",\"value\":\"factor1,m:market_cap\",\"type\":\"Literal\",\"bound_global_parameter\":null},{\"name\":\"title\",\"value\":\"比特币因子和市值图\",\"type\":\"Literal\",\"bound_global_parameter\":null},{\"name\":\"chart_type\",\"value\":\"line\",\"type\":\"Literal\",\"bound_global_parameter\":null},{\"name\":\"chart_options\",\"value\":\"{\\n    \\\"chart\\\": {\\\"height\\\": 500},\\n    # 设置多个子图各自的y轴名称、子图位置等相关配置\\n    \\\"yAxis\\\": [\\n              {\\\"title\\\": {\\\"text\\\": \\\"比特币因子\\\"},\\\"top\\\": \\\"10%\\\",\\\"height\\\": \\\"90%\\\",\\\"offset\\\": 10},\\n              {\\\"title\\\": {\\\"text\\\": \\\"比特币市值对数\\\"},\\\"top\\\": \\\"10%\\\",\\\"height\\\": \\\"90%\\\",\\\"offset\\\": 10}\\n             ],\\n    # 设置子图绘制的数据data、绘图类型type和对应的y轴配置yAxis(0表示yAxis配置列表的第一项，\\n    \\\"series\\\":[\\n              {\\\"type\\\":\\\"line\\\",\\\"yAxis\\\":0},\\n              {\\\"type\\\":\\\"line\\\",\\\"yAxis\\\":1}\\n              # 多个变量绘制在相同子图可设置相同的yAxis序号)\\n              #{\\\"data\\\":[m5.data.read()[[\\\"date\\\"]],m5.data.read()[[\\\"volume\\\"]]],\\\"type\\\":\\\"column\\\",\\\"yAxis\\\":1},\\n             ]\\n}\",\"type\":\"Literal\",\"bound_global_parameter\":null}],\"input_ports\":[{\"name\":\"input_1\",\"node_id\":\"-416\"}],\"output_ports\":[],\"cacheable\":true,\"seq_num\":51,\"comment\":\"\",\"comment_collapsed\":true}],\"node_layout\":\"<node_postions><node_position Node='-35' Position='-62,444,200,200'/><node_position Node='-78' Position='212,1172,200,200'/><node_position Node='-65' Position='-51,529,200,200'/><node_position Node='-87' Position='354.518798828125,661,200,200'/><node_position Node='-157' Position='9,876,200,200'/><node_position Node='-177' Position='-438,1267,200,200'/><node_position Node='-181' Position='-23,1092,200,200'/><node_position Node='-194' Position='18,989,200,200'/><node_position Node='-693' Position='342,1034,200,200'/><node_position Node='-726' Position='344,760,200,200'/><node_position Node='-243' Position='-134,1266,200,200'/><node_position Node='-252' Position='-114,1368,200,200'/><node_position Node='-260' Position='-332,1459,200,200'/><node_position Node='-768' Position='238,1446,200,200'/><node_position Node='-775' Position='172,1558,200,200'/><node_position Node='-316' Position='-42,797,200,200'/><node_position Node='-327' Position='6,630,200,200'/><node_position Node='-343' Position='-60,723,200,200'/><node_position Node='-678' Position='332,856,200,200'/><node_position Node='-386' Position='-45,1461,200,200'/><node_position Node='-392' Position='443,1265,200,200'/><node_position Node='-416' Position='150,1267,200,200'/></node_postions>\"},\"nodes_readonly\":false,\"studio_version\":\"v2\"}"
   },
   "outputs": [
    {
     "data": {
      "text/plain": [
       "[2021-05-16 21:36:05.857808] INFO: moduleinvoker: btc_market_cap.v1 开始运行.."
      ]
     },
     "metadata": {
      "is_log": true,
      "status": "INFO"
     },
     "output_type": "display_data"
    },
    {
     "data": {
      "text/plain": [
       "[2021-05-16 21:36:05.867333] INFO: moduleinvoker: 命中缓存"
      ]
     },
     "metadata": {
      "is_log": true,
      "status": "INFO"
     },
     "output_type": "display_data"
    },
    {
     "data": {
      "text/plain": [
       "[2021-05-16 21:36:05.870869] INFO: moduleinvoker: btc_market_cap.v1 运行完成[0.013062s]."
      ]
     },
     "metadata": {
      "is_log": true,
      "status": "INFO"
     },
     "output_type": "display_data"
    },
    {
     "data": {
      "text/plain": [
       "[2021-05-16 21:36:05.882792] INFO: moduleinvoker: rename_columns1.v1 开始运行.."
      ]
     },
     "metadata": {
      "is_log": true,
      "status": "INFO"
     },
     "output_type": "display_data"
    },
    {
     "data": {
      "text/plain": [
       "[2021-05-16 21:36:05.897873] INFO: moduleinvoker: 命中缓存"
      ]
     },
     "metadata": {
      "is_log": true,
      "status": "INFO"
     },
     "output_type": "display_data"
    },
    {
     "data": {
      "text/plain": [
       "[2021-05-16 21:36:05.899837] INFO: moduleinvoker: rename_columns1.v1 运行完成[0.017112s]."
      ]
     },
     "metadata": {
      "is_log": true,
      "status": "INFO"
     },
     "output_type": "display_data"
    },
    {
     "data": {
      "text/plain": [
       "[2021-05-16 21:36:05.904950] INFO: moduleinvoker: cached.v3 开始运行.."
      ]
     },
     "metadata": {
      "is_log": true,
      "status": "INFO"
     },
     "output_type": "display_data"
    },
    {
     "data": {
      "text/plain": [
       "[2021-05-16 21:36:05.910187] INFO: moduleinvoker: 命中缓存"
      ]
     },
     "metadata": {
      "is_log": true,
      "status": "INFO"
     },
     "output_type": "display_data"
    },
    {
     "data": {
      "text/plain": [
       "[2021-05-16 21:36:05.911379] INFO: moduleinvoker: cached.v3 运行完成[0.006432s]."
      ]
     },
     "metadata": {
      "is_log": true,
      "status": "INFO"
     },
     "output_type": "display_data"
    },
    {
     "data": {
      "text/plain": [
       "[2021-05-16 21:36:05.915366] INFO: moduleinvoker: cached.v3 开始运行.."
      ]
     },
     "metadata": {
      "is_log": true,
      "status": "INFO"
     },
     "output_type": "display_data"
    },
    {
     "data": {
      "text/plain": [
       "[2021-05-16 21:36:05.921040] INFO: moduleinvoker: 命中缓存"
      ]
     },
     "metadata": {
      "is_log": true,
      "status": "INFO"
     },
     "output_type": "display_data"
    },
    {
     "data": {
      "text/plain": [
       "[2021-05-16 21:36:05.922168] INFO: moduleinvoker: cached.v3 运行完成[0.006804s]."
      ]
     },
     "metadata": {
      "is_log": true,
      "status": "INFO"
     },
     "output_type": "display_data"
    },
    {
     "data": {
      "text/plain": [
       "[2021-05-16 21:36:05.924711] INFO: moduleinvoker: dropnan.v2 开始运行.."
      ]
     },
     "metadata": {
      "is_log": true,
      "status": "INFO"
     },
     "output_type": "display_data"
    },
    {
     "data": {
      "text/plain": [
       "[2021-05-16 21:36:05.931030] INFO: moduleinvoker: 命中缓存"
      ]
     },
     "metadata": {
      "is_log": true,
      "status": "INFO"
     },
     "output_type": "display_data"
    },
    {
     "data": {
      "text/plain": [
       "[2021-05-16 21:36:05.937113] INFO: moduleinvoker: dropnan.v2 运行完成[0.01234s]."
      ]
     },
     "metadata": {
      "is_log": true,
      "status": "INFO"
     },
     "output_type": "display_data"
    },
    {
     "data": {
      "text/plain": [
       "[2021-05-16 21:36:05.943895] INFO: moduleinvoker: sort.v4 开始运行.."
      ]
     },
     "metadata": {
      "is_log": true,
      "status": "INFO"
     },
     "output_type": "display_data"
    },
    {
     "data": {
      "text/plain": [
       "[2021-05-16 21:36:05.951698] INFO: moduleinvoker: 命中缓存"
      ]
     },
     "metadata": {
      "is_log": true,
      "status": "INFO"
     },
     "output_type": "display_data"
    },
    {
     "data": {
      "text/plain": [
       "[2021-05-16 21:36:05.954935] INFO: moduleinvoker: sort.v4 运行完成[0.011037s]."
      ]
     },
     "metadata": {
      "is_log": true,
      "status": "INFO"
     },
     "output_type": "display_data"
    },
    {
     "data": {
      "text/plain": [
       "[2021-05-16 21:36:05.967745] INFO: moduleinvoker: cached.v3 开始运行.."
      ]
     },
     "metadata": {
      "is_log": true,
      "status": "INFO"
     },
     "output_type": "display_data"
    },
    {
     "data": {
      "text/plain": [
       "[2021-05-16 21:36:06.333172] INFO: moduleinvoker: cached.v3 运行完成[0.365435s]."
      ]
     },
     "metadata": {
      "is_log": true,
      "status": "INFO"
     },
     "output_type": "display_data"
    },
    {
     "data": {
      "text/plain": [
       "[2021-05-16 21:36:06.342828] INFO: moduleinvoker: dropnan.v2 开始运行.."
      ]
     },
     "metadata": {
      "is_log": true,
      "status": "INFO"
     },
     "output_type": "display_data"
    },
    {
     "data": {
      "text/plain": [
       "[2021-05-16 21:36:06.544113] INFO: dropnan: /data, 3835/3925"
      ]
     },
     "metadata": {
      "is_log": true,
      "status": "INFO"
     },
     "output_type": "display_data"
    },
    {
     "data": {
      "text/plain": [
       "[2021-05-16 21:36:06.648372] INFO: dropnan: 行数: 3835/3925"
      ]
     },
     "metadata": {
      "is_log": true,
      "status": "INFO"
     },
     "output_type": "display_data"
    },
    {
     "data": {
      "text/plain": [
       "[2021-05-16 21:36:06.655167] INFO: moduleinvoker: dropnan.v2 运行完成[0.31233s]."
      ]
     },
     "metadata": {
      "is_log": true,
      "status": "INFO"
     },
     "output_type": "display_data"
    },
    {
     "data": {
      "text/plain": [
       "[2021-05-16 21:36:06.664135] INFO: moduleinvoker: Tplot_COPY.v11 开始运行.."
      ]
     },
     "metadata": {
      "is_log": true,
      "status": "INFO"
     },
     "output_type": "display_data"
    },
    {
     "data": {
      "text/html": [
       "<div id=\"bigchart-016aff84eac3459eac6a4dacc2353ad6\" class=\"bigchart\"></div><div class=\"bigchart-data\"><pre style=\"display:none\">bigcharts-data-start/{\"chart\":{\"height\":600,\"type\":\"line\",\"renderTo\":\"bigchart-016aff84eac3459eac6a4dacc2353ad6\"},\"legend\":{\"enabled\":true},\"title\":{\"text\":\"\\u5e02\\u503c\\u65e5\\u6536\\u76ca\\u7387\\u5f02\\u5e38\\u56fe\"},\"stock\":true,\"series\":[{\"name\":\"market_cap_origin\",\"yAxis\":0,\"data\":[[1289779200000,1380315.0],[1289865600000,1294538.0],[1289952000000,1294566.0],[1290038400000,1314478.4],[1290124800000,1347325.5],[1290211200000,1350617.0],[1290297600000,1315614.6],[1290384000000,1345212.75],[1290470400000,1307110.0],[1290556800000,1327039.1565],[1290643200000,1313312.0],[1290729600000,1339135.3513],[1290816000000,1342491.1395],[1290902400000,1319570.0],[1290988800000,1302963.75],[1291075200000,1325870.0],[1291161600000,1189137.5],[1291248000000,1094225.0],[1291334400000,1236791.19],[1291420800000,1125415.0],[1291507200000,1194987.5],[1291593600000,1104540.5],[1291680000000,1194954.34],[1291766400000,1109681.0],[1291852800000,988216.8],[1291939200000,1104012.0],[1292025600000,1017838.5],[1292112000000,1107622.868],[1292198400000,1119927.5],[1292284800000,1205914.16],[1292371200000,1203803.45],[1292457600000,1223050.0],[1292544000000,1223100.45],[1292630400000,1229820.375],[1292716800000,1228650.0],[1292803200000,1329048.9645],[1292889600000,1332963.0],[1292976000000,1238525.0],[1293062400000,1240400.0],[1293148800000,1239862.5],[1293235200000,1343798.5229],[1293321600000,1321051.5],[1293408000000,1345018.5],[1293494400000,1505647.15],[1293580800000,1451145.5],[1293667200000,1505499.9816],[1293753600000,1508164.9455],[1293840000000,1507845.0],[1293926400000,1513324.9111],[1294012800000,1514954.7934],[1294099200000,1514520.0],[1294185600000,1514853.6],[1294272000000,1633699.2],[1294358400000,1521165.0],[1294444800000,1644318.2184],[1294531200000,1629648.0],[1294617600000,1680285.25],[1294704000000,1790460.0],[1294790400000,1687966.5],[1294876800000,2310097.5],[1294963200000,2056860.0],[1295049600000,2260412.0],[1295136000000,2063780.0],[1295222400000,2063820.0],[1295308800000,1760391.61],[1295395200000,1905303.75],[1295481600000,1813700.0],[1295568000000,2236167.84],[1295654400000,2314847.43],[1295740800000,2237849.0],[1295827200000,2221432.5],[1295913600000,2299616.0],[1296000000000,2189116.91],[1296086400000,2363760.0],[1296172800000,2256898.0],[1296259200000,2528880.0],[1296345600000,2638000.0],[1296432000000,2529936.0],[1296518400000,4446686.012],[1296604800000,4869376.0],[1296691200000,4672800.0],[1296777600000,4876064.805],[1296864000000,4730617.0],[1296950400000,4835608.47],[1297036800000,4910408.0],[1297123200000,5007813.25],[1297209600000,5901940.0],[1297296000000,5198812.0],[1297382400000,5868512.055],[1297468800000,5543099.5],[1297555200000,5836266.0],[1297641600000,5836050.0],[1297728000000,5698435.959],[1297814400000,5859918.0],[1297900800000,5722380.291],[1297987200000,5720557.5],[1298073600000,5220511.9216],[1298160000000,4817041.44],[1298246400000,5142129.0],[1298332800000,5224192.5],[1298419200000,4888414.0],[1298505600000,5520950.0],[1298592000000,5294112.0],[1298678400000,5536700.0],[1298764800000,5273357.8974],[1298851200000,5395043.0],[1298937600000,5280860.0],[1299024000000,5244730.0],[1299110400000,5301902.5],[1299196800000,5148326.6327],[1299283200000,5210836.5],[1299369600000,5115806.55],[1299456000000,5118795.5],[1299542400000,4989216.2705],[1299628800000,5082615.0],[1299715200000,5278534.78],[1299801600000,5210146.485],[1299888000000,5215051.6],[1299974400000,5215894.0],[1300060800000,5112876.6045],[1300147200000,5063210.0],[1300233600000,5012084.0],[1300320000000,5065524.0],[1300406400000,4703309.6],[1300492800000,4514178.5],[1300579200000,4685316.0],[1300665600000,4580532.2172],[1300752000000,4875260.0],[1300838400000,4646079.0],[1300924800000,5118657.0],[1301011200000,5211306.75],[1301097600000,5124842.5],[1301184000000,4951333.625],[1301270400000,4625480.0],[1301356800000,4855578.0],[1301443200000,4645483.755],[1301529600000,4646625.745],[1301616000000,4642280.0],[1301702400000,4659874.74],[1301788800000,4660200.0],[1301875200000,4150234.0],[1301961600000,4376644.8334],[1302048000000,4210704.0],[1302134400000,4688731.75],[1302220800000,4510571.12],[1302307200000,4637576.5],[1302393600000,4601886.3],[1302480000000,4478338.0],[1302566400000,5910700.0],[1302652800000,5563719.0],[1302739200000,5855454.0],[1302825600000,6497675.25],[1302912000000,6447992.25],[1302998400000,6471166.5],[1303084800000,7089663.0],[1303171200000,7150740.0],[1303257600000,7155236.385],[1303344000000,7967757.6],[1303430400000,7356568.5],[1303516800000,11696490.0],[1303603200000,10218927.6],[1303689600000,11345764.5],[1303776000000,11752162.5],[1303862400000,10724678.0],[1303948800000,16320960.0],[1304035200000,25124065.338],[1304121600000,18443655.0],[1304208000000,21224261.25],[1304294400000,23973537.5],[1304380800000,21810792.0],[1304467200000,21380638.5],[1304553600000,22008277.25],[1304640000000,21519520.0],[1304726400000,23926500.0],[1304812800000,23008687.5],[1304899200000,32018740.0],[1304985600000,26109496.0],[1305072000000,36741126.5],[1305158400000,52263672.5],[1305244800000,40479327.5],[1305331200000,53085667.5],[1305417600000,54702081.0],[1305504000000,52289118.7805],[1305590400000,52718127.0],[1305676800000,51655660.5],[1305763200000,44498895.0],[1305849600000,45633588.0],[1305936000000,41582188.0],[1306022400000,41579544.0],[1306108800000,45499680.0],[1306195200000,46650114.0],[1306281600000,46052542.0],[1306368000000,56729416.0],[1306454400000,58671879.5],[1306540800000,54192599.04],[1306627200000,57454650.0],[1306713600000,54984825.0],[1306800000000,60104747.75],[1306886400000,60616523.0],[1306972800000,91804570.0],[1307059200000,111958487.0],[1307145600000,96665397.5],[1307232000000,124102728.0],[1307318400000,122777250.0],[1307404800000,206495344.88],[1307491200000,143180487.0],[1307577600000,227258500.0],[1307664000000,209857494.0],[1307750400000,162849834.0],[1307836800000,187519680.0],[1307923200000,137276699.0],[1308009600000,154575512.0],[1308096000000,136021437.5],[1308182400000,127454002.85],[1308268800000,113233620.0],[1308355200000,124112707.5],[1308441600000,114612365.0],[1308528000000,122152117.5],[1308614400000,99795797.5],[1308700800000,101902576.5],[1308787200000,101513444.0],[1308873600000,117258240.0],[1308960000000,116794393.202],[1309046400000,117180369.0],[1309132800000,117135216.0],[1309219200000,119640269.5],[1309305600000,117314750.0],[1309392000000,114115900.0],[1309478400000,116612848.0],[1309564800000,105652365.0],[1309651200000,106791752.5],[1309737600000,105956171.0],[1309824000000,111424500.0],[1309910400000,103736064.0],[1309996800000,105856903.334],[1310083200000,101625750.0],[1310169600000,104954818.5],[1310256000000,103202761.03],[1310342400000,99505800.372],[1310428800000,102440585.5],[1310515200000,96073875.0],[1310601600000,97551740.0],[1310688000000,96498755.0],[1310774400000,95461272.0],[1310860800000,93720371.085],[1310947200000,95101020.0],[1311033600000,96331248.0],[1311120000000,95745607.155],[1311206400000,96231177.0],[1311292800000,95816232.0],[1311379200000,96352250.1079],[1311465600000,95919890.5],[1311552000000,99481680.0],[1311638400000,101270547.0],[1311724800000,96961200.0],[1311811200000,95687130.0],[1311897600000,96673500.0],[1311984000000,103552070.015],[1312070400000,94289725.86],[1312156800000,101363805.0],[1312243200000,91358090.0],[1312329600000,93249065.0],[1312416000000,80705047.5],[1312502400000,76930150.0],[1312588800000,68600980.0],[1312675200000,74935728.0],[1312761600000,84859720.0],[1312848000000,75130050.0],[1312934400000,82546380.0],[1313020800000,69613745.6504],[1313107200000,70767075.0],[1313193600000,69928053.0],[1313280000000,83881572.0],[1313366400000,80360439.0],[1313452800000,79868400.0],[1313539200000,80253856.0],[1313625600000,83646096.5],[1313712000000,83646640.2],[1313798400000,83699241.5],[1313884800000,81725530.95],[1313971200000,81745030.5],[1314057600000,81764425.0],[1314144000000,78155789.796],[1314230400000,73491530.0],[1314316800000,77105568.0],[1314403200000,67756878.0],[1314489600000,67823996.96],[1314576000000,67827978.0],[1314662400000,64520100.0],[1314748800000,60626126.8328],[1314835200000,61050573.315],[1314921600000,60719112.0],[1315008000000,61848869.4914],[1315094400000,61000078.15],[1315180800000,61628148.0],[1315267200000,54860615.788],[1315353600000,52855548.5495],[1315440000000,54383919.0],[1315526400000,44950718.1254],[1315612800000,53624840.0],[1315699200000,47019401.0],[1315785600000,45374375.0],[1315872000000,43532325.0065],[1315958400000,44985825.0],[1316044800000,38080676.0],[1316131200000,36597071.7],[1316217600000,36478500.0],[1316304000000,36598812.0],[1316390400000,49662956.25],[1316476800000,45994001.236],[1316563200000,48775709.0],[1316649600000,41830862.1855],[1316736000000,41524873.0],[1316822400000,41809500.0],[1316908800000,40134759.07],[1316995200000,37744273.314],[1317081600000,39584157.0],[1317168000000,35445455.85],[1317254400000,39465880.0],[1317340800000,39133080.0],[1317427200000,39407865.0],[1317513600000,37541401.209],[1317600000000,37237844.5],[1317686400000,37455891.0],[1317772800000,36564084.5],[1317859200000,36001792.5],[1317945600000,34131123.0],[1318032000000,35567905.5],[1318118400000,31696314.8235],[1318204800000,30830033.4685],[1318291200000,31504194.0],[1318377600000,33185207.5],[1318464000000,30711001.2],[1318550400000,30257752.5],[1318636800000,30627820.0],[1318723200000,28135216.686],[1318809600000,21718680.0],[1318896000000,19863795.042],[1318982400000,21279410.0],[1319068800000,20421502.157],[1319155200000,24791415.0],[1319241600000,25259808.0],[1319328000000,24874650.0],[1319414400000,22892568.0],[1319500800000,21673248.4],[1319587200000,22611600.0],[1319673600000,24564671.25],[1319760000000,28905466.859],[1319846400000,27587022.463],[1319932800000,25628187.2],[1320019200000,27137887.0],[1320105600000,26072620.0],[1320192000000,25024894.4],[1320278400000,25852915.0],[1320364800000,24396802.5],[1320451200000,23203332.5],[1320537600000,24105631.0],[1320624000000,24463249.5],[1320710400000,23757951.6],[1320796800000,24331884.5],[1320883200000,22928250.0],[1320969600000,23789945.0],[1321056000000,23181924.0],[1321142400000,23220859.5],[1321228800000,20638487.0],[1321315200000,22636087.5],[1321401600000,19986502.722],[1321488000000,18385518.645],[1321574400000,17708160.0],[1321660800000,18237742.5],[1321747200000,17661281.5],[1321833600000,18139885.0],[1321920000000,17752435.0],[1322006400000,19018875.0],[1322092800000,19808640.0],[1322179200000,19602253.125],[1322265600000,19739167.5],[1322352000000,19692406.44],[1322438400000,23141353.95],[1322524800000,20496300.0],[1322611200000,24427630.0],[1322697600000,24436704.3],[1322784000000,24454948.0],[1322870400000,23327083.0],[1322956800000,22882421.0],[1323043200000,23843832.5],[1323129600000,23124260.0],[1323216000000,24281370.0],[1323302400000,23826519.75],[1323388800000,24212622.0],[1323475200000,26551083.0],[1323561600000,26277880.0585],[1323648000000,26483313.5],[1323734400000,25808668.9],[1323820800000,25169111.605],[1323907200000,25691571.0],[1323993600000,25501980.5],[1324080000000,25683775.0],[1324166400000,25529435.5],[1324252800000,35626500.0],[1324339200000,32570722.5],[1324425600000,31663067.4835],[1324512000000,32342364.0],[1324598400000,31385312.915],[1324684800000,34918088.135],[1324771200000,32280248.0],[1324857600000,32362666.0],[1324944000000,33421397.968],[1325030400000,32616932.0],[1325116800000,34365600.0],[1325203200000,39960249.75],[1325289600000,35751060.0],[1325376000000,44082248.49],[1325462400000,42442728.0],[1325548800000,43715812.5],[1325635200000,51436761.75],[1325721600000,58097535.0],[1325808000000,53094690.0],[1325894400000,58059720.0],[1325980800000,58117680.0],[1326067200000,58087440.0],[1326153600000,57723578.4],[1326240000000,56641414.7],[1326326400000,57453200.0],[1326412800000,54737775.0],[1326499200000,56735651.833],[1326585600000,55269279.0],[1326672000000,56764850.0],[1326758400000,56570220.0],[1326844800000,56733709.0],[1326931200000,53648714.0],[1327017600000,53462737.5],[1327104000000,53625654.0],[1327190400000,52783244.905],[1327276800000,53319085.75],[1327363200000,52837110.0],[1327449600000,53209650.0],[1327536000000,46679667.25],[1327622400000,47209555.95],[1327708800000,46793010.0],[1327795200000,46084920.0],[1327881600000,46541027.5],[1327968000000,46185166.5],[1328054400000,51163950.0],[1328140800000,50784017.0],[1328227200000,51101545.0],[1328313600000,49341178.125],[1328400000000,47956543.5],[1328486400000,49007240.0],[1328572800000,48528962.16],[1328659200000,48160880.0],[1328745600000,48477256.0],[1328832000000,49907100.0],[1328918400000,48706222.5],[1329004800000,49608060.0],[1329091200000,46704000.0],[1329177600000,40733848.0],[1329264000000,45320137.5],[1329350400000,39880133.287],[1329436800000,37635099.45],[1329523200000,39333830.0],[1329609600000,37898166.0],[1329696000000,37217219.63],[1329782400000,37762650.0],[1329868800000,41403862.632],[1329955200000,43736459.921],[1330041600000,41987107.5],[1330128000000,42158154.192],[1330214400000,43035330.0],[1330300800000,42359011.0],[1330387200000,41429990.0],[1330473600000,42180870.809],[1330560000000,41628120.0],[1330646400000,40512466.225],[1330732800000,41561800.0],[1330819200000,42782544.0],[1330905600000,41824148.0],[1330992000000,43112491.5],[1331078400000,42556250.0],[1331164800000,42959592.5],[1331251200000,42129308.0],[1331337600000,42588901.5],[1331424000000,42225480.0],[1331510400000,46260369.0],[1331596800000,46592086.32],[1331683200000,46362951.0],[1331769600000,46285560.0],[1331856000000,46330284.0],[1331942400000,46316070.0],[1332028800000,45642307.43],[1332115200000,42843438.0],[1332201600000,44981661.0],[1332288000000,42060720.0],[1332374400000,41661165.0],[1332460800000,42001315.0],[1332547200000,40472074.803],[1332633600000,40983331.3965],[1332720000000,40647480.0],[1332806400000,41991835.168],[1332892800000,42155599.562],[1332979200000,42060897.5],[1333065600000,43005600.0],[1333152000000,42860119.5],[1333238400000,42957746.0],[1333324800000,43628332.5],[1333411200000,43315041.0],[1333497600000,43125360.275],[1333584000000,43247728.0],[1333670400000,43495320.0],[1333756800000,41958240.0],[1333843200000,43188197.0],[1333929600000,42904400.0],[1334016000000,42887732.415],[1334102400000,43674849.0],[1334188800000,43042778.5],[1334275200000,44178490.0],[1334361600000,43802661.6265],[1334448000000,44122035.0],[1334534400000,44207273.382],[1334620800000,45613210.34],[1334707200000,45757635.0],[1334793600000,45645642.0],[1334880000000,48397168.0],[1334966400000,47100645.735],[1335052800000,48072736.0],[1335139200000,46033520.0],[1335225600000,45715020.0],[1335312000000,45984178.5],[1335398400000,45584944.2],[1335484800000,45450940.88],[1335571200000,44611568.64],[1335657600000,45220578.0],[1335744000000,44535000.0],[1335830400000,44536750.0],[1335916800000,46256832.0],[1336003200000,45993362.5],[1336089600000,46259990.0],[1336176000000,45621517.85],[1336262400000,45626604.79],[1336348800000,45664125.0],[1336435200000,45728234.788],[1336521600000,46024550.0],[1336608000000,45784230.0],[1336694400000,44967000.0],[1336780800000,44989920.0],[1336867200000,45000250.0],[1336953600000,45879733.0],[1337040000000,45908056.614],[1337126400000,46339889.4],[1337212800000,46018320.0],[1337299200000,46490363.527],[1337385600000,46591020.0],[1337472000000,46493613.0],[1337558400000,46383360.0],[1337644800000,46776948.0],[1337731200000,47468594.42],[1337817600000,46973017.0],[1337904000000,46776605.4],[1337990400000,46809734.4],[1338076800000,46819165.0],[1338163200000,46979431.785],[1338249600000,47134406.25],[1338336000000,47027208.0],[1338422400000,48101134.5],[1338508800000,48224456.85],[1338595200000,48135049.613],[1338681600000,48245472.0],[1338768000000,50365700.0],[1338854400000,50137199.5],[1338940800000,50291694.0],[1339027200000,51956253.0],[1339113600000,52370938.121],[1339200000000,52072713.0],[1339286400000,51040876.345],[1339372800000,52503270.0],[1339459200000,51376455.0],[1339545600000,54897675.0],[1339632000000,56930384.25],[1339718400000,55384200.0],[1339804800000,60406325.494],[1339891200000,59872544.46],[1339977600000,60246469.5],[1340064000000,61674334.7565],[1340150400000,63107060.0],[1340236800000,62074837.5],[1340323200000,61821503.272],[1340409600000,61318087.9],[1340496000000,61760300.0],[1340582400000,60111887.21],[1340668800000,61135420.4125],[1340755200000,60422112.0],[1340841600000,62219749.0],[1340928000000,62556793.8],[1341014400000,62344823.5],[1341100800000,63190462.5],[1341187200000,63379932.0],[1341273600000,63251550.0],[1341360000000,63526972.0],[1341446400000,63245279.2125],[1341532800000,63448312.5],[1341619200000,63312864.0],[1341705600000,64930667.2],[1341792000000,64789304.0],[1341878400000,68434235.7],[1341964800000,69083598.0],[1342051200000,74621030.0],[1342137600000,70427249.0],[1342224000000,72361953.462],[1342310400000,78488773.2],[1342396800000,73825830.0],[1342483200000,89143780.756],[1342569600000,88033272.0105],[1342656000000,88903965.5],[1342742400000,92208200.0],[1342828800000,85616550.0],[1342915200000,90641259.5],[1343001600000,85375360.0],[1343088000000,83632283.276],[1343174400000,84956850.0],[1343260800000,85503825.0],[1343347200000,85388660.0],[1343433600000,85556182.5],[1343520000000,87643275.0],[1343606400000,90483816.0],[1343692800000,88365863.0],[1343779200000,94079020.0],[1343865600000,106835545.74],[1343952000000,97238020.0],[1344038400000,107654894.77],[1344124800000,108737437.492],[1344211200000,106401312.0],[1344297600000,108165114.0],[1344384000000,115851000.0],[1344470400000,109584817.5],[1344556800000,112155558.858],[1344643200000,113871082.0],[1344729600000,112665306.0],[1344816000000,118069273.102],[1344902400000,122938910.5],[1344988800000,119342595.0],[1345075200000,149657200.0],[1345161600000,148410965.556],[1345248000000,149497073.5],[1345334400000,102298875.0],[1345420800000,100443442.482],[1345507200000,101893770.0],[1345593600000,100116875.0],[1345680000000,100196825.0],[1345766400000,100184012.5],[1345852800000,103968185.134],[1345939200000,119046817.019],[1346025600000,107678921.0],[1346112000000,110013720.861],[1346198400000,107421026.6],[1346284800000,109416523.0],[1346371200000,102502582.0],[1346457600000,100317904.052],[1346544000000,102007150.0],[1346630400000,104452513.01],[1346716800000,104404553.552],[1346803200000,104527536.0],[1346889600000,111624794.5],[1346976000000,110912300.5],[1347062400000,111509888.0],[1347148800000,110256330.3],[1347235200000,111008758.368],[1347321600000,110488748.0],[1347408000000,113204608.9],[1347494400000,116785600.0],[1347580800000,117356983.65],[1347667200000,116930268.0],[1347753600000,119178200.625],[1347840000000,120549390.0],[1347926400000,119517519.0],[1348012800000,126682643.43],[1348099200000,125620280.436],[1348185600000,126505683.0],[1348272000000,122868066.53],[1348358400000,123204030.4],[1348444800000,123009988.0],[1348531200000,123194188.0],[1348617600000,125089055.0],[1348704000000,123705736.0],[1348790400000,125597566.5],[1348876800000,125541438.116],[1348963200000,125694278.85],[1349049600000,125633664.0],[1349136000000,130089686.545],[1349222400000,132093453.375],[1349308800000,130685572.5],[1349395200000,130356333.949],[1349481600000,128795532.8],[1349568000000,122253224.0],[1349654400000,127267457.0],[1349740800000,123140250.0],[1349827200000,123629761.0],[1349913600000,123310912.0],[1350000000000,123272474.75],[1350086400000,121963800.0],[1350172800000,122992265.0],[1350259200000,122047409.0],[1350345600000,122131938.5],[1350432000000,121918840.122],[1350518400000,122068413.0],[1350604800000,120973687.5],[1350691200000,120520711.725],[1350777600000,120929616.0],[1350864000000,122781600.0],[1350950400000,121032072.0],[1351036800000,122444686.0],[1351123200000,113824274.454],[1351209600000,111243789.763],[1351296000000,113306280.0],[1351382400000,112563810.0],[1351468800000,111616662.5],[1351555200000,112446200.5],[1351641600000,116184415.05],[1351728000000,115554818.918],[1351814400000,109352715.89],[1351900800000,114056250.0],[1351987200000,112607900.0],[1352073600000,112578331.866],[1352160000000,112685290.0],[1352246400000,114904882.125],[1352332800000,114696270.0],[1352419200000,114919016.0],[1352505600000,113498688.4],[1352592000000,116078027.0],[1352678400000,115624189.05],[1352764800000,116018322.0],[1352851200000,115623943.3],[1352937600000,122843900.0],[1353024000000,117429876.0],[1353110400000,123354516.0],[1353196800000,123093261.367],[1353283200000,123604864.0],[1353369600000,123233807.0],[1353456000000,128383102.0],[1353542400000,130041417.0],[1353628800000,128861040.0],[1353715200000,132010830.0],[1353801600000,132650977.5],[1353888000000,132196304.5],[1353974400000,130281273.738],[1354060800000,132348085.35],[1354147200000,130771998.75],[1354233600000,133372357.388],[1354320000000,133338442.0],[1354406400000,133447405.5],[1354492800000,136438412.681],[1354579200000,142089862.5],[1354665600000,144125953.0],[1354752000000,142657110.0],[1354838400000,142752298.75],[1354924800000,142585566.75],[1355011200000,142844438.75],[1355097600000,142606538.25],[1355184000000,143886549.511],[1355270400000,145620234.25],[1355356800000,145620015.0],[1355443200000,145404477.465],[1355529600000,144317034.636],[1355616000000,142590847.3],[1355702400000,143980845.75],[1355788800000,141635134.425],[1355875200000,145065333.0],[1355961600000,144340054.25],[1356048000000,144875787.5],[1356134400000,142721448.924],[1356220800000,142388761.25],[1356307200000,142707368.0],[1356393600000,141937227.48],[1356480000000,142744620.75],[1356566400000,144711121.088],[1356652800000,143185735.0],[1356739200000,143963578.57],[1356825600000,144828206.25],[1356912000000,143980866.275],[1356998400000,142323745.0],[1357084800000,143603694.0],[1357171200000,143379674.982],[1357257600000,144048093.9],[1357344000000,143548200.0],[1357430400000,144014430.25],[1357516800000,147203062.5],[1357603200000,147781535.058],[1357689600000,147322648.0],[1357776000000,152348875.962],[1357862400000,152924255.933],[1357948800000,152487360.0],[1358035200000,152490195.0],[1358121600000,154444852.507],[1358208000000,152972667.0],[1358294400000,164257085.25],[1358380800000,170657458.5],[1358467200000,169197726.06],[1358553600000,170328455.0],[1358640000000,181458043.5],[1358726400000,188033142.25],[1358812800000,183129121.5],[1358899200000,205271964.782],[1358985600000,201538010.44],[1359072000000,188597440.003],[1359158400000,198416007.0],[1359244800000,197628097.5],[1359331200000,212168880.0],[1359417600000,201094741.25],[1359504000000,229814784.25],[1359590400000,228502140.0],[1359676800000,229525700.0],[1359763200000,222019446.0],[1359849600000,225478050.0],[1359936000000,223381273.5],[1360022400000,229307424.15],[1360108800000,224861758.0],[1360195200000,238245400.0],[1360281600000,254997457.218],[1360368000000,251786925.0],[1360454400000,260524441.362],[1360540800000,277569635.368],[1360627200000,265524253.75],[1360713600000,285978776.499],[1360800000000,291142825.855],[1360886400000,293298960.0],[1360972800000,276386540.655],[1361059200000,289525221.094],[1361145600000,290480667.75],[1361232000000,322132443.859],[1361318400000,318559406.0],[1361404800000,334172684.3],[1361491200000,316761071.633],[1361577600000,330143233.0],[1361664000000,327526689.523],[1361750400000,337705984.8],[1361836800000,329191720.0],[1361923200000,363158533.406],[1362009600000,338968363.5],[1362096000000,370801863.6],[1362182400000,370055664.644],[1362268800000,371656168.75],[1362355200000,434841407.0],[1362441600000,516050687.5],[1362528000000,441568755.0],[1362614400000,467264591.5],[1362700800000,500413490.286],[1362787200000,478449400.0],[1362873600000,519656182.44],[1362960000000,496361700.0],[1363046400000,509745491.08],[1363132800000,515147644.871],[1363219200000,512895901.5],[1363305600000,513747505.25],[1363392000000,517607733.665],[1363478400000,515394731.25],[1363564800000,630724760.0],[1363651200000,569103492.0],[1363737600000,806634000.0],[1363824000000,720641272.0],[1363910400000,689275125.0],[1363996800000,768654425.0],[1364083200000,809051214.606],[1364169600000,854380800.0],[1364256000000,811609890.0],[1364342400000,1025609049.19],[1364428800000,976502263.75],[1364515200000,959356562.5],[1364601600000,1015081234.74],[1364688000000,1125488152.79],[1364774400000,1023444393.75],[1364860800000,1525041868.75],[1364947200000,1289164710.5],[1365033600000,1581185255.0],[1365120000000,1567463462.68],[1365206400000,1562798037.5],[1365292800000,2025508800.0],[1365379200000,2620841076.0],[1365465600000,2058237966.0],[1365552000000,1360014540.68],[1365638400000,1761905579.0],[1365724800000,1207719189.71],[1365811200000,1004046225.0],[1365897600000,1103122500.0],[1365984000000,1004826550.0],[1366070400000,751992547.5],[1366156800000,1066353950.0],[1366243200000,1322210698.5],[1366329600000,1226960700.0],[1366416000000,1382675000.0],[1366502400000,1366749056.75],[1366588800000,1316720125.0],[1366675200000,1696508264.02],[1366761600000,1674073468.78],[1366848000000,1717563073.5],[1366934400000,1419014510.86],[1367020800000,1508159586.85],[1367107200000,1424698775.0],[1367193600000,1543897758.78],[1367280000000,1604144668.5],[1367366400000,1166088333.17],[1367452800000,1034828966.25],[1367539200000,1147606185.0],[1367625600000,1310580293.92],[1367712000000,1345090886.29],[1367798400000,1289761389.0],[1367884800000,1268209485.05],[1367971200000,1219822578.86],[1368057600000,1261789530.0],[1368144000000,1285812765.0],[1368230400000,1305942020.0],[1368316800000,1310296293.0],[1368403200000,1327427150.0],[1368489600000,1316075208.75],[1368576000000,1284654522.42],[1368662400000,1390077125.75],[1368748800000,1310912002.5],[1368835200000,1352646555.84],[1368921600000,1370877559.27],[1369008000000,1363405986.25],[1369094400000,1371731466.0],[1369180800000,1406127913.5],[1369267200000,1376062500.0],[1369353600000,1485783006.0],[1369440000000,1501517528.99],[1369526400000,1478106513.75],[1369612800000,1438449537.78],[1369699200000,1454586892.0],[1369785600000,1469538093.2],[1369872000000,1429125799.45],[1369958400000,1446152814.0],[1370044800000,1354720652.4],[1370131200000,1452329925.0],[1370217600000,1355575833.58],[1370304000000,1372056508.0],[1370390400000,1358109258.69],[1370476800000,1241579898.07],[1370563200000,1338983556.0],[1370649600000,1109296698.62],[1370736000000,1216618039.75],[1370822400000,1217610900.0],[1370908800000,1219978239.14],[1370995200000,1229242050.0],[1371081600000,1128830000.0],[1371168000000,1172875150.0],[1371254400000,1129737500.0],[1371340800000,1136058016.38],[1371427200000,1128840030.0],[1371513600000,1219398180.0],[1371600000000,1266565450.5],[1371686400000,1217941560.0],[1371772800000,1234928799.75],[1371859200000,1219485056.99],[1371945600000,1226717030.0],[1372032000000,1177011684.47],[1372118400000,1167062042.0],[1372204800000,1165723515.16],[1372291200000,1096326263.97],[1372377600000,1154476335.75],[1372464000000,1095578975.0],[1372550400000,1033462011.05],[1372636800000,1104285906.25],[1372723200000,941044770.0],[1372809600000,1034897062.5],[1372896000000,771818503.638],[1372982400000,789064090.473],[1373068800000,783452928.5],[1373155200000,884162379.0],[1373241600000,854145000.0],[1373328000000,895700331.002],[1373414400000,993690836.25],[1373500800000,1002035827.5],[1373587200000,1095300550.12],[1373673600000,1081481237.5],[1373760000000,1118268200.0],[1373846400000,1108089449.25],[1373932800000,1123929720.0],[1374019200000,1033357994.31],[1374105600000,1068169073.59],[1374192000000,1030142582.5],[1374278400000,1017893727.05],[1374364800000,1023039498.25],[1374451200000,1092556078.6],[1374537600000,1072594584.72],[1374624000000,1094721026.0],[1374710400000,1105124840.98],[1374796800000,1091873110.71],[1374883200000,1101078143.5],[1374969600000,1159687050.1],[1375056000000,1132918080.0],[1375142400000,1205611283.41],[1375228800000,1197299385.0],[1375315200000,1220198175.0],[1375401600000,1193775370.01],[1375488000000,1201828375.0],[1375574400000,1224642720.0],[1375660800000,1230715956.9],[1375747200000,1228568644.0],[1375833600000,1174293052.5],[1375920000000,1221346617.75],[1376006400000,1183611635.38],[1376092800000,1185738890.0],[1376179200000,1212190667.97],[1376265600000,1212285375.0],[1376352000000,1155734116.25],[1376438400000,1135925154.0],[1376524800000,1146371066.75],[1376611200000,1138079589.75],[1376697600000,1145854489.0],[1376784000000,1153505106.0],[1376870400000,1211248945.75],[1376956800000,1191005571.25],[1377043200000,1286747437.75],[1377129600000,1280032780.5],[1377216000000,1262105427.0],[1377302400000,1310190387.5],[1377388800000,1265152956.0],[1377475200000,1364789140.0],[1377561600000,1298303907.25],[1377648000000,1388641365.0],[1377734400000,1450961407.75],[1377820800000,1377550650.0],[1377907200000,1522502783.0],[1377993600000,1495477998.0],[1378080000000,1519566392.5],[1378166400000,1515203761.5],[1378252800000,1451422408.25],[1378339200000,1427873853.0],[1378425600000,1429678789.25],[1378512000000,1382967258.75],[1378598400000,1399454408.0],[1378684800000,1441084149.0],[1378771200000,1449999912.5],[1378857600000,1425330872.5],[1378944000000,1500297026.75],[1379030400000,1485746914.5],[1379116800000,1468452843.0],[1379203200000,1451853288.75],[1379289600000,1494135792.0],[1379376000000,1490750729.25],[1379462400000,1630142250.0],[1379548800000,1453873166.5],[1379635200000,1456184352.0],[1379721600000,1441007470.0],[1379808000000,1448654592.0],[1379894400000,1440070859.5],[1379980800000,1459413032.0],[1380067200000,1453944937.5],[1380153600000,1477191020.0],[1380240000000,1465949441.25],[1380326400000,1507679355.0],[1380412800000,1481125170.0],[1380499200000,1495149019.0],[1380585600000,1230956951.25],[1380672000000,1502905852.0],[1380758400000,1438688050.0],[1380844800000,1433550678.0],[1380931200000,1438321930.5],[1381017600000,1459305030.0],[1381104000000,1446184309.5],[1381190400000,1489654112.0],[1381276800000,1494405760.75],[1381363200000,1487889347.5],[1381449600000,1508600193.75],[1381536000000,1507193409.75],[1381622400000,1606779919.5],[1381708800000,1570406468.0],[1381795200000,1681142901.75],[1381881600000,1671517111.0],[1381968000000,1786302344.75],[1382054400000,1958730875.0],[1382140800000,1995650950.0],[1382227200000,2103224179.75],[1382313600000,2210379732.0],[1382400000000,2377290528.75],[1382486400000,2255686331.25],[1382572800000,2056551326.5],[1382659200000,2324251203.0],[1382745600000,2251714053.0],[1382832000000,2138685292.0],[1382918400000,2408599560.5],[1383004800000,2425090156.5],[1383091200000,2575179000.0],[1383177600000,2425328973.0],[1383264000000,2428954767.0],[1383350400000,2470544002.5],[1383436800000,2689641115.0],[1383523200000,2506034775.0],[1383609600000,3087643198.5],[1383696000000,3020060761.25],[1383782400000,3895040535.0],[1383868800000,4305490758.0],[1383955200000,3997161700.0],[1384041600000,4064669415.0],[1384128000000,4240843076.25],[1384214400000,4116138551.0],[1384300800000,4994001600.0],[1384387200000,4712335275.0],[1384473600000,5202089043.75],[1384560000000,5557944600.0],[1384646400000,5247984031.0],[1384732800000,6726697878.25],[1384819200000,7149668750.0],[1384905600000,6571644325.0],[1384992000000,9150340100.0],[1385078400000,10079469418.5],[1385164800000,9560232750.0],[1385251200000,9798077300.0],[1385337600000,9719998625.0],[1385424000000,11575437200.0],[1385510400000,12158197750.0],[1385596800000,11627140250.0],[1385683200000,13504897665.0],[1385769600000,11701352500.0],[1385856000000,13498251500.0],[1385942400000,12796399500.0],[1386028800000,12602874361.0],[1386115200000,12423144163.5],[1386201600000,10804928700.0],[1386288000000,12506784750.0],[1386374400000,8744799021.75],[1386460800000,8538510882.5],[1386547200000,11342353720.5],[1386633600000,10731150885.0],[1386720000000,11850067541.0],[1386806400000,10590673150.0],[1386892800000,10482304132.5],[1386979200000,10725248625.0],[1387065600000,8601410750.0],[1387152000000,10468724082.0],[1387238400000,6995691508.0],[1387324800000,8179632936.0],[1387411200000,8020567500.0],[1387497600000,7445825625.0],[1387584000000,7461190834.5],[1387670400000,7784111542.5],[1387756800000,7876450630.75],[1387843200000,8029355841.25],[1387929600000,8943399550.0],[1388016000000,8268664197.0],[1388102400000,8549801919.75],[1388188800000,8713093532.75],[1388275200000,8715135000.0],[1388361600000,8917322800.0],[1388448000000,9115018220.0],[1388534400000,8930820900.0],[1388620800000,9845053570.25],[1388707200000,9540634659.75],[1388793600000,10948873600.0],[1388880000000,11419923171.5],[1388966400000,11062611267.0],[1389052800000,10096391537.5],[1389139200000,9902844981.75],[1389225600000,10073795887.5],[1389312000000,10923824725.0],[1389398400000,10459221175.25],[1389484800000,9902642684.75],[1389571200000,10064180131.2],[1389657600000,10089342175.0],[1389744000000,10196347805.0],[1389830400000,10329885472.5],[1389916800000,9842267405.5],[1390003200000,10232530350.0],[1390089600000,9963300360.0],[1390176000000,10111586132.0],[1390262400000,9998543353.75],[1390348800000,10139845320.0],[1390435200000,9711394517.5],[1390521600000,9982995003.0],[1390608000000,10181507196.0],[1390694400000,9571727025.0],[1390780800000,10029642332.5],[1390867200000,9905916930.0],[1390953600000,9856971517.25],[1391040000000,9790139100.0],[1391126400000,10069683795.5],[1391212800000,10117509693.0],[1391299200000,10084217517.0],[1391385600000,9994983473.75],[1391472000000,9987845175.0],[1391558400000,9617966650.0],[1391644800000,9185626009.0],[1391731200000,9446928332.75],[1391817600000,8786037000.0],[1391904000000,8231719125.0],[1391990400000,8507853438.0],[1392076800000,8262169493.75],[1392163200000,7856007836.25],[1392249600000,8089065217.5],[1392336000000,8078031423.0],[1392422400000,8312551163.25],[1392508800000,7966979250.0],[1392595200000,7780597426.0],[1392681600000,7820087205.0],[1392768000000,7238794695.0],[1392854400000,7035698628.0],[1392940800000,6995697250.0],[1393027200000,7794323689.0],[1393113600000,6779936250.0],[1393200000000,7600239900.0],[1393286400000,7287410254.5],[1393372800000,7287458482.75],[1393459200000,7286054693.25],[1393545600000,7122018712.5],[1393632000000,6891914575.0],[1393718400000,8310755125.0],[1393804800000,8451643187.25],[1393891200000,8295167237.5],[1393977600000,8398949184.0],[1394064000000,7756914967.5],[1394150400000,7606014150.0],[1394236800000,7891690729.5],[1394323200000,7773366674.25],[1394409600000,7787355647.5],[1394496000000,7866184469.0],[1394582400000,8039179622.0],[1394668800000,7964578727.25],[1394755200000,8020124817.0],[1394841600000,7950718680.0],[1394928000000,7825273315.0],[1395014400000,7952408388.25],[1395100800000,7625780519.5],[1395187200000,7397493750.0],[1395273600000,7661667040.0],[1395360000000,6988706850.0],[1395446400000,7188423208.5],[1395532800000,7182689800.0],[1395619200000,7285587718.5],[1395705600000,7354826242.0],[1395792000000,6538419810.0],[1395878400000,6324533375.0],[1395964800000,5961618690.0],[1396051200000,5649401257.5],[1396137600000,5751722025.0],[1396224000000,5771777440.0],[1396310400000,5604741625.0],[1396396800000,6033543875.0],[1396483200000,5622022951.5],[1396569600000,5697532960.0],[1396656000000,5698838600.0],[1396742400000,5649057225.5],[1396828800000,5730692600.75],[1396915200000,5679065045.75],[1397001600000,5064118725.0],[1397088000000,5406562275.5],[1397174400000,4661392500.0],[1397260800000,5119777125.0],[1397347200000,5730397111.5],[1397433600000,5280132068.0],[1397520000000,6472815112.5],[1397606400000,6266167875.0],[1397692800000,6661278844.5],[1397779200000,6332183310.0],[1397865600000,6337982518.5],[1397952000000,6382906695.0],[1398038400000,6255140735.25],[1398124800000,6180815740.0],[1398211200000,6195288510.0],[1398297600000,5827336661.25],[1398384000000,5889432077.0],[1398470400000,5879169050.25],[1398556800000,5678844450.0],[1398643200000,5689505910.0],[1398729600000,5622007653.0],[1398816000000,5849556161.5],[1398902400000,5692506204.0],[1398988800000,5863169624.0],[1399075200000,5551993638.0],[1399161600000,5446671642.75],[1399248000000,5560373437.5],[1399334400000,5690164672.5],[1399420800000,5626277325.0],[1399507200000,5618354280.0],[1399593600000,5769316392.5],[1399680000000,5548979625.0],[1399766400000,5829377750.0],[1399852800000,5602955327.5],[1399939200000,5713641818.0],[1400025600000,5606596336.0],[1400112000000,5743344319.0],[1400198400000,5739904793.0],[1400284800000,5739686232.0],[1400371200000,5709600195.0],[1400457600000,6205327067.25],[1400544000000,5731295850.0],[1400630400000,6706644944.0],[1400716800000,6755202796.0],[1400803200000,6764965896.0],[1400889600000,7368495625.0],[1400976000000,7486296000.0],[1401062400000,7304593334.5],[1401148800000,7366729894.5],[1401235200000,7287397400.0],[1401321600000,7453329450.0],[1401408000000,7965213010.0],[1401494400000,8668278779.5],[1401580800000,8044275662.5],[1401667200000,8660592155.0],[1401753600000,8507908150.0],[1401840000000,8470908648.0],[1401926400000,8435141762.5],[1402012800000,8509080276.0],[1402099200000,8391843100.0],[1402185600000,8380284372.25],[1402272000000,8369770837.5],[1402358400000,8353753155.0],[1402444800000,7950831675.0],[1402531200000,7502256450.0],[1402617600000,7408465602.5],[1402704000000,7230054767.25],[1402790400000,7382240316.0],[1402876800000,7715093732.5],[1402963200000,7807381180.0],[1403049600000,7850344000.0],[1403136000000,7666832261.0],[1403222400000,7639387910.75],[1403308800000,7670091009.0],[1403395200000,7651170800.0],[1403481600000,7745499484.0],[1403568000000,7339701600.0],[1403654400000,7368023675.0],[1403740800000,7260552252.0],[1403827200000,7737216399.0],[1403913600000,7725813900.0],[1404000000000,7646252500.0],[1404086400000,8487791107.5],[1404172800000,8484227550.0],[1404259200000,8292095300.0],[1404345600000,8248755523.5],[1404432000000,8215983881.0],[1404518400000,8129623128.0],[1404604800000,8080235477.0],[1404691200000,8105106240.0],[1404777600000,8113490685.0],[1404864000000,8059014834.5],[1404950400000,8198300350.25],[1405036800000,8022810120.0],[1405123200000,8211005775.0],[1405209600000,8107843950.0],[1405296000000,8207568170.0],[1405382400000,8069315506.0],[1405468800000,8156920850.0],[1405555200000,8045392533.75],[1405641600000,8226250420.0],[1405728000000,8135676167.5],[1405814400000,8217058500.0],[1405900800000,8104472551.5],[1405987200000,8119531937.0],[1406073600000,7849862761.5],[1406160000000,8099543031.75],[1406246400000,7785082818.0],[1406332800000,7743439126.25],[1406419200000,7786357145.0],[1406505600000,7603694000.0],[1406592000000,7501333455.0],[1406678400000,7657549575.0],[1406764800000,7878220817.0],[1406851200000,7745258967.25],[1406937600000,7799138842.0],[1407024000000,7780287333.0],[1407110400000,7602346577.5],[1407196800000,7711071362.5],[1407283200000,7699010020.0],[1407369600000,7728389582.5],[1407456000000,7672478798.0],[1407542400000,7729507191.75],[1407628800000,7600645788.75],[1407715200000,7754673517.0],[1407801600000,7226817835.5],[1407888000000,6854912354.5],[1407974400000,7226173470.5],[1408060800000,6692802825.0],[1408147200000,6469722234.0],[1408233600000,6889388716.0],[1408320000000,6416755312.5],[1408406400000,6251873713.75],[1408492800000,6924903790.5],[1408579200000,6827814187.5],[1408665600000,6865782056.0],[1408752000000,6733102331.25],[1408838400000,6643037913.75],[1408924800000,6763841117.25],[1409011200000,6613964927.5],[1409097600000,6723349466.75],[1409184000000,6754839435.75],[1409270400000,6654881727.0],[1409356800000,6315143457.0],[1409443200000,6618711000.0],[1409529600000,6393599083.75],[1409616000000,6251518222.0],[1409702400000,6261427998.75],[1409788800000,6429245278.5],[1409875200000,6367490749.5],[1409961600000,6431140327.5],[1410048000000,6311972619.75],[1410134400000,6179355602.0],[1410220800000,6197737608.75],[1410307200000,6216466025.0],[1410393600000,6237313762.5],[1410480000000,6334329559.25],[1410566400000,6308527913.25],[1410652800000,6307765712.5],[1410739200000,6295193720.0],[1410825600000,5949473600.0],[1410912000000,5688375693.0],[1410998400000,6029267175.0],[1411084800000,5524070247.0],[1411171200000,5402753935.0],[1411257600000,5473787377.5],[1411344000000,5628078450.0],[1411430400000,5748387369.75],[1411516800000,5855677223.5],[1411603200000,5395279765.5],[1411689600000,5337967003.5],[1411776000000,5390443785.25],[1411862400000,5090190768.0],[1411948800000,5101373770.0],[1412035200000,4984042276.5],[1412121600000,5013209451.25],[1412208000000,4853097937.5],[1412294400000,5013863439.0],[1412380800000,3920457791.25],[1412467200000,4422803400.0],[1412553600000,4326089124.0],[1412640000000,4626353890.5],[1412726400000,5064334156.5],[1412812800000,4798872496.5],[1412899200000,4860038530.75],[1412985600000,4879865751.75],[1413072000000,5103763143.0],[1413158400000,5094332880.0],[1413244800000,5274369650.0],[1413331200000,5061867359.5],[1413417600000,5286877987.0],[1413504000000,5220952124.0],[1413590400000,5213010586.0],[1413676800000,5240045150.0],[1413763200000,5189031450.0],[1413849600000,5165201887.5],[1413936000000,4883362638.0],[1414022400000,5151722945.0],[1414108800000,4683525526.75],[1414195200000,4772474124.75],[1414281600000,4658553075.0],[1414368000000,4768547912.0],[1414454400000,4616493552.0],[1414540800000,4780679072.0],[1414627200000,4584899553.75],[1414713600000,4403862030.75],[1414800000000,4542768815.0],[1414886400000,4385207114.0],[1414972800000,4365982908.0],[1415059200000,4605750325.0],[1415145600000,4687412655.0],[1415232000000,4611859378.5],[1415318400000,4714766108.0],[1415404800000,4804211514.0],[1415491200000,5069001613.5],[1415577600000,4934316663.0],[1415664000000,5802913006.5],[1415750400000,5487177696.0],[1415836800000,5670663640.25],[1415923200000,5038882560.0],[1416009600000,5182200331.25],[1416096000000,5092069903.25],[1416182400000,5134550134.25],[1416268800000,5066365722.0],[1416355200000,5068440377.0],[1416441600000,4827117112.5],[1416528000000,4867761185.0],[1416614400000,4912198474.0],[1416700800000,4776745938.0],[1416787200000,5159022365.25],[1416873600000,5030504780.0],[1416960000000,5093968124.0],[1417046400000,5096576448.0],[1417132800000,5112905893.5],[1417219200000,5109511524.0],[1417305600000,5176753038.0],[1417392000000,5180956836.0],[1417478400000,5119909881.0],[1417564800000,5044277364.75],[1417651200000,5077030936.5],[1417737600000,5079337165.0],[1417824000000,5105064800.0],[1417910400000,4986234561.0],[1417996800000,4760292226.75],[1418083200000,4932734633.25],[1418169600000,4841998530.0],[1418256000000,4829389818.0],[1418342400000,4746340970.0],[1418428800000,4807337088.0],[1418515200000,4793307332.5],[1418601600000,4584536858.75],[1418688000000,4736822975.0],[1418774400000,4327558492.5],[1418860800000,4327589638.75],[1418947200000,4254550306.5],[1419033600000,4456636200.75],[1419120000000,4534046550.0],[1419206400000,4595814288.0],[1419292800000,4527252757.5],[1419379200000,4357639535.5],[1419465600000,4478641758.5],[1419552000000,4364974756.5],[1419638400000,4336676937.5],[1419724800000,4296892594.5],[1419811200000,4335987240.25],[1419897600000,4339040505.0],[1419984000000,4317110682.5],[1420070400000,4388454300.75],[1420156800000,4136728482.25],[1420243200000,3708212136.75],[1420329600000,3901249959.75],[1420416000000,3790803680.0],[1420502400000,3791827840.0],[1420588800000,3935256831.0],[1420675200000,3793813880.0],[1420761600000,3811241000.0],[1420848000000,3986467101.5],[1420934400000,3703664250.0],[1421020800000,3167787711.0],[1421107200000,3663474347.0],[1421193600000,2994028686.5],[1421280000000,2819635181.25],[1421366400000,2707305216.0],[1421452800000,2858004737.25],[1421539200000,2918642141.0],[1421625600000,2927526251.0],[1421712000000,2968733435.0],[1421798400000,3216610342.5],[1421884800000,3205368430.25],[1421971200000,3212011778.5],[1422057600000,3400567198.5],[1422144000000,3736655601.75],[1422230400000,3662740944.5],[1422316800000,3778070949.25],[1422403200000,3212507056.5],[1422489600000,3170875530.75],[1422576000000,3251759307.75],[1422662400000,3043276324.0],[1422748800000,3075532375.0],[1422835200000,3130383321.0],[1422921600000,3071111004.0],[1423008000000,3000292899.0],[1423094400000,3129306468.75],[1423180800000,3109769195.0],[1423267200000,3087557512.5],[1423353600000,3167842557.5],[1423440000000,3043095552.0],[1423526400000,3069222640.5],[1423612800000,3046917720.0],[1423699200000,3319054029.0],[1423785600000,3394323806.25],[1423872000000,3376876497.75],[1423958400000,3563400875.0],[1424044800000,3378924200.0],[1424131200000,3253436855.25],[1424217600000,3397340087.0],[1424304000000,3375820757.0],[1424390400000,3405774966.5],[1424476800000,3407014649.0],[1424563200000,3288669462.75],[1424649600000,3331249442.5],[1424736000000,3314438875.0],[1424822400000,3296957187.5],[1424908800000,3527012250.0],[1424995200000,3285200018.75],[1425081600000,3439351080.0],[1425168000000,3666101617.5],[1425254400000,3572333096.25],[1425340800000,3916209466.25],[1425427200000,3694216021.25],[1425513600000,3785549759.0],[1425600000000,3798775750.75],[1425686400000,3811928062.5],[1425772800000,4002310934.0],[1425859200000,3828309375.0],[1425945600000,4085522367.75],[1426032000000,4143624087.0],[1426118400000,4131992722.0],[1426204800000,3961922926.25],[1426291200000,3954043366.0],[1426377600000,3935144955.0],[1426464000000,4004115563.0],[1426550400000,3709717423.75],[1426636800000,3637668805.0],[1426723200000,3586603838.0],[1426809600000,3600557275.5],[1426896000000,3638709587.5],[1426982400000,3631475322.5],[1427068800000,3463709254.5],[1427155200000,3434680104.0],[1427241600000,3424946875.0],[1427328000000,3477917244.75],[1427414400000,3519286704.0],[1427500800000,3463745680.75],[1427587200000,3432372892.0],[1427673600000,3401639125.0],[1427760000000,3472657200.0],[1427846400000,3536772754.0],[1427932800000,3565053258.75],[1428019200000,3549560900.0],[1428105600000,3604010402.5],[1428192000000,3572161132.5],[1428278400000,3584116146.0],[1428364800000,3579212095.5],[1428451200000,3438416790.0],[1428537600000,3309144475.5],[1428624000000,3411246150.0],[1428710400000,3325501365.0],[1428796800000,3175023906.0],[1428883200000,3322759962.5],[1428969600000,3077794818.0],[1429056000000,3228428497.5],[1429142400000,3131458310.75],[1429228800000,3198951437.5],[1429315200000,3175869114.0],[1429401600000,3161465083.0],[1429488000000,3132796095.25],[1429574400000,3342138811.0],[1429660800000,3316759348.0],[1429747200000,3290056752.5],[1429833600000,3221419770.0],[1429920000000,3078777333.5],[1430006400000,3189846069.75],[1430092800000,3140185113.0],[1430179200000,3183645204.75],[1430265600000,3317590248.0],[1430352000000,3183007476.5],[1430438400000,3305201503.5],[1430524800000,3396097404.0],[1430611200000,3300750580.5],[1430697600000,3315170883.0],[1430784000000,3331977963.75],[1430870400000,3333149731.0],[1430956800000,3460059372.0],[1431043200000,3409353360.0],[1431129600000,3385659603.75],[1431216000000,3425293170.0],[1431302400000,3418066879.0],[1431388800000,3436174904.0],[1431475200000,3412716252.5],[1431561600000,3365503020.0],[1431648000000,3352520598.25],[1431734400000,3362779250.25],[1431820800000,3351802886.25],[1431907200000,3290077757.0],[1431993600000,3300879124.25],[1432080000000,3347966800.0],[1432166400000,3412658925.0],[1432252800000,3334644125.0],[1432339200000,3413660332.5],[1432425600000,3346224108.75],[1432512000000,3351138399.0],[1432598400000,3345737274.75],[1432684800000,3360445832.0],[1432771200000,3352703354.0],[1432857600000,3360545364.0],[1432944000000,3298555151.25],[1433030400000,3163506560.0],[1433116800000,3248062289.5],[1433203200000,3220468764.0],[1433289600000,3210595731.0],[1433376000000,3191604605.0],[1433462400000,3172969828.0],[1433548800000,3171359940.0],[1433635200000,3249096900.0],[1433721600000,3167034326.0],[1433808000000,3251063484.25],[1433894400000,3263748692.0],[1433980800000,3280825686.0],[1434067200000,3285158823.0],[1434153600000,3312113463.75],[1434240000000,3303869612.5],[1434326400000,3503622535.0],[1434412800000,3570341154.0],[1434499200000,3570545583.5],[1434585600000,3522146336.25],[1434672000000,3489093090.0],[1434758400000,3485829653.75],[1434844800000,3523205318.75],[1434931200000,3489324384.0],[1435017600000,3443311744.0],[1435104000000,3488837958.5],[1435190400000,3453038843.25],[1435276800000,3558488937.5],[1435363200000,3479066608.5],[1435449600000,3636186255.0],[1435536000000,3762199291.5],[1435622400000,3669183697.5],[1435708800000,3656967385.5],[1435795200000,3658574047.5],[1435881600000,3652486853.0],[1435968000000,3887492037.0],[1436054400000,3923809460.75],[1436140800000,3894583721.0],[1436227200000,3872881222.0],[1436313600000,3888176093.0],[1436400000000,3882922057.0],[1436486400000,4218182000.0],[1436572800000,4446326685.0],[1436659200000,4168493842.5],[1436745600000,4464575492.5],[1436832000000,4185723080.0],[1436918400000,3968131248.0],[1437004800000,4109983240.5],[1437091200000,4003628992.0],[1437177600000,3975965187.75],[1437264000000,3984827689.5],[1437350400000,4019420682.75],[1437436800000,3999837095.0],[1437523200000,3988333008.0],[1437609600000,4142772627.5],[1437696000000,4141275320.0],[1437782400000,4168174750.0],[1437868800000,4196339601.75],[1437955200000,4261604875.0],[1438041600000,4242747281.5],[1438128000000,4152804929.0],[1438214400000,4113647100.0],[1438300800000,4166991967.5],[1438387200000,4056819587.25],[1438473600000,4111340913.0],[1438560000000,4121185500.0],[1438646400000,4064369708.0],[1438732800000,4008791845.0],[1438819200000,4042912995.0],[1438905600000,4009167498.0],[1438992000000,3842697676.0],[1439078400000,3824307952.25],[1439164800000,3838149292.5],[1439251200000,3881585457.75],[1439337600000,3854756404.0],[1439424000000,3877131707.25],[1439510400000,3848418459.0],[1439596800000,3734235455.25],[1439683200000,3791767648.5],[1439769600000,3734872203.75],[1439856000000,3684437228.0],[1439942400000,3386111034.0],[1440028800000,3284171468.75],[1440115200000,3392269896.75],[1440201600000,3391990951.5],[1440288000000,3322623211.0],[1440374400000,3099123540.0],[1440460800000,3227493639.0],[1440547200000,3229525857.0],[1440633600000,3320084428.5],[1440720000000,3406769556.75],[1440806400000,3368789640.0],[1440892800000,3296497320.0],[1440979200000,3362480626.5],[1441065600000,3353061675.0],[1441152000000,3360459735.0],[1441238400000,3313827788.0],[1441324800000,3311858251.0],[1441411200000,3421248063.25],[1441497600000,3502824590.0],[1441584000000,3503551195.0],[1441670400000,3546494661.0],[1441756800000,3503571468.0],[1441843200000,3478584250.0],[1441929600000,3503433867.0],[1442016000000,3434144189.0],[1442102400000,3429240989.0],[1442188800000,3373797492.0],[1442275200000,3361875500.0],[1442361600000,3356058432.0],[1442448000000,3422039400.0],[1442534400000,3408107823.0],[1442620800000,3375518010.0],[1442707200000,3369138881.25],[1442793600000,3316226688.0],[1442880000000,3359153459.0],[1442966400000,3374299282.5],[1443052800000,3426325082.5],[1443139200000,3454966027.75],[1443225600000,3430952042.5],[1443312000000,3503720584.0],[1443398400000,3486272414.0],[1443484800000,3493517059.0],[1443571200000,3507186837.0],[1443657600000,3490319119.5],[1443744000000,3486829710.375],[1443830400000,3516940234.5],[1443916800000,3514153761.0],[1444003200000,3533578124.0],[1444089600000,3604476037.5],[1444176000000,3585617248.25],[1444262400000,3599220642.0],[1444348800000,3587250775.5],[1444435200000,3649597910.0],[1444521600000,3629129621.25],[1444608000000,3644523044.5],[1444694400000,3748227565.0],[1444780800000,3751179453.0],[1444867200000,3762403575.0],[1444953600000,3964275577.5],[1445040000000,3867532353.0],[1445126400000,3912700050.0],[1445212800000,3893975956.0],[1445299200000,3977971670.0],[1445385600000,3968626252.5],[1445472000000,3958169002.25],[1445558400000,4093632236.5],[1445644800000,4131051097.5],[1445731200000,4273215412.5],[1445817600000,4207771165.0],[1445904000000,4353353674.5],[1445990400000,4476037200.0],[1446076800000,4586422490.0],[1446163200000,4866185020.0],[1446249600000,4901141952.0],[1446336000000,4606968187.5],[1446422400000,5039912342.5],[1446508800000,5605108278.0],[1446595200000,6468809828.75],[1446681600000,5921920000.0],[1446768000000,5564785531.0],[1446854400000,5737988774.0],[1446940800000,5652375858.0],[1447027200000,5767695492.0],[1447113600000,5241134019.0],[1447200000000,4595034502.5],[1447286400000,4977460026.0],[1447372800000,4928286660.0],[1447459200000,4925097290.0],[1447545600000,4949863704.75],[1447632000000,4889455205.0],[1447718400000,4989243842.5],[1447804800000,4950324488.0],[1447891200000,4888331350.0],[1447977600000,4765094517.5],[1448064000000,4880715740.75],[1448150400000,4793345255.25],[1448236800000,4826764413.25],[1448323200000,4756082623.5],[1448409600000,4836836875.0],[1448496000000,5233277779.6667],[1448582400000,5353676439.0],[1448668800000,5270688720.0],[1448755200000,5422546741.5],[1448841600000,5660543360.45],[1448928000000,5356194597.0],[1449014400000,5397709600.0],[1449100800000,5406085237.5],[1449187200000,5636186752.0],[1449273600000,5665038165.75],[1449360000000,5821698036.0],[1449446400000,5905880836.5],[1449532800000,5944757476.5],[1449619200000,6184512430.75],[1449705600000,6210898129.0],[1449792000000,6367993059.3333],[1449878400000,6370246741.5],[1449964800000,6562214147.5],[1450051200000,6581014710.8333],[1450137600000,6875876973.0],[1450224000000,6892176791.5],[1450310400000,6788449783.5],[1450396800000,6873533517.5],[1450483200000,6952138385.3125],[1450569600000,6518066555.0],[1450656000000,6575498820.0],[1450742400000,6618138384.0],[1450828800000,6619344750.0],[1450915200000,6809238651.25],[1451001600000,6809994039.0],[1451088000000,6273183470.25],[1451174400000,6420190465.5],[1451260800000,6366854662.5],[1451347200000,6475863612.75],[1451433600000,6386793644.25],[1451520000000,6452379124.0],[1451606400000,6498773751.75],[1451692800000,6542065064.1511],[1451779200000,6438700586.25],[1451865600000,6513835500.0],[1451952000000,6515127960.0],[1452038400000,6483207481.25],[1452124800000,6830411223.25],[1452211200000,6764390560.3086],[1452297600000,6780575688.75],[1452384000000,6723576172.0],[1452470400000,6712389565.0],[1452556800000,6733767994.5],[1452643200000,6477765250.5],[1452729600000,6472656106.0],[1452816000000,5907989110.5],[1452902400000,5589150800.0],[1452988800000,5810766500.0],[1453075200000,5816707008.0],[1453161600000,5718173059.5],[1453248000000,5802069767.0],[1453334400000,6164094600.0],[1453420800000,5828775540.0],[1453507200000,5911120817.5],[1453593600000,6120153918.75],[1453680000000,5854794313.5],[1453766400000,5929753063.9317],[1453852800000,5969251295.0],[1453939200000,5722695239.4673],[1454025600000,5712112523.0],[1454112000000,5728624464.0],[1454198400000,5708910071.25],[1454284800000,5637418200.0],[1454371200000,5661377906.0],[1454457600000,5633613930.0],[1454544000000,5840368670.5],[1454630400000,5886697200.0],[1454716800000,5661516168.0],[1454803200000,5673840375.0],[1454889600000,5711170083.75],[1454976000000,5659759595.0],[1455062400000,5790453507.5273],[1455148800000,5726044293.75],[1455235200000,5799145650.0],[1455321600000,5965034245.75],[1455408000000,6120531763.5],[1455494400000,6125976346.0],[1455580800000,6086607831.0],[1455667200000,6363300370.0],[1455753600000,6379341962.5],[1455840000000,6416512216.0],[1455926400000,6694895489.0],[1456012800000,6622990722.75],[1456099200000,6687788747.5],[1456185600000,6356518650.0],[1456272000000,6450804727.5],[1456358400000,6451043813.8123],[1456444800000,6472839926.0],[1456531200000,6591099600.0],[1456617600000,6624944506.3639],[1456704000000,6657971469.5],[1456790400000,6593564428.25],[1456876800000,6566549286.0],[1456963200000,6454470314.0012],[1457049600000,6363200092.0],[1457136000000,6128282500.0],[1457222400000,6055796763.5],[1457308800000,6298500809.0],[1457395200000,6306762748.0],[1457481600000,6282890369.5],[1457568000000,6365361600.0],[1457654400000,6457687322.4547],[1457740800000,6315415323.0],[1457827200000,6339180629.0],[1457913600000,6367032912.0],[1458000000000,6354388122.0],[1458086400000,6374693158.5],[1458172800000,6407995815.0],[1458259200000,6268375748.25],[1458345600000,6219459016.5],[1458432000000,6300441606.25],[1458518400000,6258935382.0],[1458604800000,6373545750.0],[1458691200000,6412718195.0],[1458777600000,6380588830.0],[1458864000000,6394925517.0],[1458950400000,6385243243.5],[1459036800000,6389909181.8319],[1459123200000,6499721486.0],[1459209600000,6373203601.5],[1459296000000,6340066807.5],[1459382400000,6411943060.5],[1459468800000,6402757500.0],[1459555200000,6474108694.8693],[1459641600000,6433856909.75],[1459728000000,6449733039.75],[1459814400000,6458741521.2618],[1459900800000,6485259726.25],[1459987200000,6475089075.75],[1460073600000,6487078107.25],[1460160000000,6438200965.5],[1460246400000,6497600027.1326],[1460332800000,6487239627.75],[1460419200000,6569044479.75],[1460505600000,6550890236.4521],[1460592000000,6539602042.0],[1460678400000,6623411785.5],[1460764800000,6659673930.0],[1460851200000,6574388528.5],[1460937600000,6600076658.0],[1461024000000,6634178628.0],[1461110400000,6836596928.5],[1461196800000,6972144300.0],[1461283200000,6937929152.0],[1461369600000,6979865502.75],[1461456000000,7106814635.0],[1461542400000,7279774147.5],[1461628800000,7242797765.5],[1461715200000,6924336434.5],[1461801600000,6967496250.0],[1461888000000,6914501548.0],[1461974400000,6927076932.25],[1462060800000,7002100120.0],[1462147200000,7011377799.0],[1462233600000,6991007400.0],[1462320000000,6932390364.25],[1462406400000,6956636780.5],[1462492800000,7150834286.0],[1462579200000,7120317194.1255],[1462665600000,7106510950.0],[1462752000000,7167648224.75],[1462838400000,7067929302.0],[1462924800000,7029335591.0],[1463011200000,7064935352.5],[1463097600000,7070518000.0],[1463184000000,7083067858.75],[1463270400000,7106885526.0],[1463356800000,7133637246.8659],[1463443200000,7044930395.0],[1463529600000,7046818292.5],[1463616000000,6939473474.0],[1463702400000,6868519562.5],[1463788800000,6911178646.75],[1463875200000,6835891158.0],[1463961600000,6888422724.75],[1464048000000,6939443749.0],[1464134400000,6982863948.1401],[1464220800000,7053945795.75],[1464307200000,7333067368.5],[1464393600000,7839188917.0],[1464480000000,7989516744.0],[1464566400000,8194046737.5],[1464652800000,8230835046.784],[1464739200000,8421126700.0],[1464825600000,8431106865.5],[1464912000000,8870456000.0],[1464998400000,8929390330.0],[1465084800000,8968617634.5],[1465171200000,9259529244.0],[1465257600000,9028090841.5],[1465344000000,9047994541.0],[1465430400000,9059163482.4549],[1465516800000,9064666618.0],[1465603200000,9376115184.0],[1465689600000,10830528212.0],[1465776000000,11010699782.5],[1465862400000,10717864205.8],[1465948800000,10868668073.0428],[1466035200000,12027967803.0],[1466121600000,11680772866.2],[1466208000000,12129905513.75],[1466294400000,12010449024.0],[1466380800000,11665765410.0],[1466467200000,10681520095.0],[1466553600000,9256421500.0],[1466640000000,9820115706.5],[1466726400000,10322130650.0],[1466812800000,10441035606.2],[1466899200000,9815960169.75],[1466985600000,10031547638.0727],[1467072000000,10196368956.5],[1467158400000,10063752006.0],[1467244800000,10489428358.5],[1467331200000,10608368893.8],[1467417600000,11079978477.0],[1467504000000,10326296832.6926],[1467590400000,10651112509.5],[1467676800000,10505010226.0],[1467763200000,10652662800.0],[1467849600000,10012128070.5],[1467936000000,10423237155.0],[1468022400000,10238422518.0],[1468108800000,10235998867.5],[1468195200000,10240153706.8],[1468281600000,10619464847.5899],[1468368000000,10366219391.2],[1468454400000,10423167437.6],[1468540800000,10514437454.2],[1468627200000,10482808510.02],[1468713600000,10721461200.0],[1468800000000,10660597959.0],[1468886400000,10599746757.1985],[1468972800000,10522118543.2],[1469059200000,10488529407.4],[1469145600000,10498817825.0761],[1469232000000,10320160372.5],[1469318400000,10437607074.2],[1469404800000,10313064014.125],[1469491200000,10326456540.0],[1469577600000,10351333852.6],[1469664000000,10354974233.6],[1469750400000,10330686529.7492],[1469836800000,10334265005.8],[1469923200000,9858709806.75],[1470009600000,9833806358.2051],[1470096000000,9538466775.75],[1470182400000,8908098000.0],[1470268800000,8955623250.0],[1470355200000,9110061456.0],[1470441600000,9212809770.0],[1470528000000,9364531870.0],[1470614400000,9547377630.0],[1470700800000,9238166678.0],[1470787200000,9306805453.12],[1470873600000,9354231524.0],[1470960000000,9242646221.0],[1471046400000,9223231165.62],[1471132800000,8995884840.0],[1471219200000,8959733146.1889],[1471305600000,9111780000.0],[1471392000000,9046693698.0],[1471478400000,9051340691.75],[1471564800000,9071049473.5],[1471651200000,9205418289.37],[1471737600000,9170656481.0905],[1471824000000,9309383328.0],[1471910400000,9246976634.25],[1471996800000,9106637525.0],[1472083200000,9143727625.12],[1472169600000,9154182799.12],[1472256000000,9001339218.75],[1472342400000,9098184553.25],[1472428800000,9106383600.25],[1472515200000,9141383524.0],[1472601600000,9105038419.0],[1472688000000,9065313400.0],[1472774400000,9083576790.75],[1472860800000,9658268480.0],[1472947200000,9752220126.0],[1473033600000,9627070874.7006],[1473120000000,9735788868.75],[1473206400000,9819424903.75],[1473292800000,9905335012.5],[1473379200000,9943784235.0],[1473465600000,9971334719.12],[1473552000000,9507061734.25],[1473638400000,9696828831.25],[1473724800000,9743639430.0],[1473811200000,9636746168.25],[1473897600000,9723634531.87],[1473984000000,9687705824.0],[1474070400000,9595163220.9886],[1474156800000,9751671939.0],[1474243200000,9679951822.5],[1474329600000,9646782990.0],[1474416000000,9500151312.75],[1474502400000,9481980780.0],[1474588800000,9503173518.75],[1474675200000,9583875364.37],[1474761600000,9541084296.25],[1474848000000,9519374995.0],[1474934400000,9602149537.5],[1475020800000,9610103889.75],[1475107200000,9589288438.5897],[1475193600000,9716425271.0],[1475280000000,9767249440.0],[1475366400000,9736289710.8722],[1475452800000,9750081669.0],[1475539200000,9676305057.5],[1475625600000,9762755868.75],[1475712000000,9772903063.5],[1475798400000,9761961445.5],[1475884800000,9881956035.0],[1475971200000,9802318240.0],[1476057600000,9797831148.0],[1476144000000,10207866900.8],[1476230400000,10152323420.2],[1476316800000,10111198708.25],[1476403200000,10216074251.6],[1476489600000,10189651485.0],[1476576000000,10264938207.2],[1476662400000,10129699179.0],[1476748800000,10183048859.2],[1476835200000,10065628111.2],[1476921600000,10010467772.75],[1477008000000,10128718512.0],[1477094400000,10587003806.9],[1477180800000,10443459187.5],[1477267200000,10445223778.5],[1477353600000,10491018708.6],[1477440000000,10552649020.757],[1477526400000,10933937742.5],[1477612800000,11016448598.4],[1477699200000,11221327325.0],[1477785600000,11232230640.0],[1477872000000,11251559127.4],[1477958400000,11358474200.0862],[1478044800000,11811455982.0],[1478131200000,11015560588.1],[1478217600000,11231334072.0],[1478304000000,11320441822.5],[1478390400000,11416026125.0],[1478476800000,11180428468.125],[1478563200000,11371555020.0],[1478649600000,11575767274.8],[1478736000000,11407818975.0],[1478822400000,11437973770.5],[1478908800000,11243629708.3359],[1478995200000,11247332051.8],[1479081600000,11300322593.8],[1479168000000,11422263913.875],[1479254400000,11832832521.1],[1479340800000,11777848098.0],[1479427200000,11957661234.1787],[1479513600000,12049740050.2],[1479600000000,11678347786.5],[1479686400000,11724369480.0],[1479772800000,11968547386.5],[1479859200000,11842534500.0],[1479945600000,11691154088.25],[1480032000000,11852162087.0],[1480118400000,11718620057.4],[1480204800000,11727700406.25],[1480291200000,11713912056.0],[1480377600000,11707747473.8],[1480464000000,11874274186.2488],[1480550400000,12069035148.0],[1480636800000,12394634059.0],[1480723200000,12214197853.4438],[1480809600000,12265688032.0],[1480896000000,12116495500.5],[1480982400000,12128658736.5],[1481068800000,12284990287.5],[1481155200000,12312787200.0],[1481241600000,12334528485.8625],[1481328000000,12395528462.5],[1481414400000,12460596315.0],[1481500800000,12345410864.1841],[1481587200000,12503873910.0],[1481673600000,12473756989.7236],[1481760000000,12472128285.0],[1481846400000,12573714999.4],[1481932800000,12694529298.4],[1482019200000,12674898449.5177],[1482105600000,12697576937.5],[1482192000000,12756094676.0],[1482278400000,12929261602.5],[1482364800000,13815565559.2],[1482451200000,14503611550.5],[1482537600000,14711303500.0],[1482624000000,14372404881.2],[1482710400000,14514728615.2],[1482796800000,14461581729.5],[1482883200000,15706536997.5],[1482969600000,15557063384.875],[1483056000000,15333684493.5],[1483142400000,15485593574.0],[1483228800000,16107435624.5],[1483315200000,16441122593.8],[1483401600000,16604032593.8],[1483488000000,17461882515.9264],[1483574400000,16020709800.0],[1483660800000,14246702550.0],[1483747200000,14028651419.125],[1483833600000,14753884196.2],[1483920000000,14483317500.0],[1484006400000,14566167737.625],[1484092800000,12637835230.9],[1484179200000,12943143563.6],[1484265600000,12369791506.875],[1484352000000,13128500736.2],[1484438400000,13167373987.125],[1484524800000,13370306561.2],[1484611200000,14562228011.6],[1484697600000,13906884735.2166],[1484784000000,14500148590.1],[1484870400000,14465048400.0],[1484956800000,14745991312.5],[1485043200000,14797873125.0],[1485129600000,14864541079.5],[1485216000000,14334397638.8],[1485302400000,14391685218.8],[1485388800000,14706085913.75],[1485475200000,14801282964.0],[1485561600000,14818028460.0],[1485648000000,14799679501.25],[1485734400000,14820631418.2],[1485820800000,15554584256.0],[1485907200000,15622193218.5],[1485993600000,16260607102.5],[1486080000000,16352884325.0],[1486166400000,16314310862.25],[1486252800000,16350262337.5],[1486339200000,16511713437.5],[1486425600000,16907932528.2289],[1486512000000,16925772491.3],[1486598400000,15798807600.0],[1486684800000,15696450606.296],[1486771200000,16190090550.0],[1486857600000,16104421019.8],[1486944000000,16179530599.3671],[1487030400000,16370570040.0],[1487116800000,16390111733.8],[1487203200000,16330533666.8219],[1487289600000,17119935725.0],[1487376000000,17138105285.0],[1487462400000,16999433401.6361],[1487548800000,17714421920.0],[1487635200000,18279247250.0],[1487721600000,17859087374.058],[1487808000000,19140851275.0],[1487894400000,19102806731.2],[1487980800000,19005140412.0],[1488067200000,19133795677.5],[1488153600000,19305811405.3887],[1488240000000,19241800143.8],[1488326400000,19898087658.8],[1488412800000,20508763334.875],[1488499200000,20890752811.2],[1488585600000,20515484347.5],[1488672000000,20621209257.2371],[1488758400000,20707990380.0],[1488844800000,20046119625.0],[1488931200000,18928046456.3861],[1489017600000,19314832212.5],[1489104000000,17733596763.8],[1489190400000,19028079153.75],[1489276800000,19853444812.5],[1489363200000,20016183000.0],[1489449600000,20333326767.0],[1489536000000,20421359320.0],[1489622400000,19100245120.0],[1489708800000,18630436724.9568],[1489795200000,15295539370.0],[1489881600000,16629604628.8],[1489968000000,16942394496.3515],[1490054400000,18168435468.8],[1490140800000,16558917210.0],[1490227200000,16915387245.75],[1490313600000,15205794660.0],[1490400000000,15551246387.2],[1490486400000,15737860980.8903],[1490572800000,16789415977.5],[1490659200000,16971709882.5],[1490745600000,16968309506.0],[1490832000000,16896048000.0],[1490918400000,17563966387.5],[1491004800000,17837946362.5],[1491091200000,17970922522.5],[1491177600000,18556863561.2],[1491264000000,18757563175.0],[1491350400000,18469918530.0],[1491436800000,19525598223.8],[1491523200000,19278728893.9059],[1491609600000,19268254300.0],[1491696000000,19815481983.8],[1491782400000,19710608637.5],[1491868800000,20153773955.0],[1491955200000,20033943606.2],[1492041600000,19271490840.0],[1492128000000,19626308325.0],[1492214400000,19498363475.0],[1492300800000,19391985917.5],[1492387200000,20183091637.5],[1492473600000,20637969895.0],[1492560000000,19652660662.5],[1492646400000,21072337100.0],[1492732800000,21588070556.2],[1492819200000,19972491953.799],[1492905600000,22086609057.5],[1492992000000,20575227796.6],[1493078400000,20963040192.5],[1493164800000,21332959973.3],[1493251200000,21926056741.3],[1493337600000,21470543361.6959],[1493424000000,21762127405.3],[1493510400000,22058522827.6],[1493596800000,22614237475.0],[1493683200000,23679316586.5],[1493769600000,24586863671.3],[1493856000000,25500645912.5],[1493942400000,25012643352.8],[1494028800000,25457585279.7],[1494115200000,25647069971.6439],[1494201600000,26773285640.5],[1494288000000,28093005954.4],[1494374400000,28271322810.0],[1494460800000,29726737675.1],[1494547200000,28089241688.4],[1494633600000,26393414633.0257],[1494720000000,29008025583.5],[1494806400000,28323214530.0],[1494892800000,28405717823.9],[1494979200000,29527347103.8],[1495065600000,30692050185.0],[1495152000000,32051195727.7],[1495238400000,33548728731.4],[1495324800000,32929964052.5],[1495411200000,34173338961.4],[1495497600000,37399030238.0],[1495584000000,39215803877.1377],[1495670400000,39035030222.5],[1495756800000,36173950629.2],[1495843200000,33035761750.0],[1495929600000,35872423567.0],[1496016000000,37233600371.1],[1496102400000,37223765121.1784],[1496188800000,37407051147.5],[1496275200000,39445011896.3655],[1496361600000,40038367306.7],[1496448000000,41347691234.0],[1496534400000,41397189656.25],[1496620800000,44183337149.2],[1496707200000,47218046131.7],[1496793600000,46433892657.5],[1496880000000,45750548628.4],[1496966400000,46482251332.5],[1497052800000,46618837861.6],[1497139200000,48532280870.3],[1497225600000,42958786426.8595],[1497312000000,45041413814.6],[1497398400000,40110100599.3],[1497484800000,38697463337.5],[1497571200000,40413077779.2],[1497657600000,43712771805.9],[1497744000000,41037465218.75],[1497830400000,42923655055.5],[1497916800000,45187876438.3],[1498003200000,43815826861.0],[1498089600000,43390650228.75],[1498176000000,44471767180.9],[1498262400000,42487095408.8],[1498348800000,41607071881.9977],[1498435200000,39989166644.5],[1498521600000,41330152143.2],[1498608000000,41105302320.0],[1498694400000,41774133240.2],[1498780800000,40682623613.4],[1498867200000,40852607008.3399],[1498953600000,42071777410.5],[1499040000000,42187666290.0],[1499126400000,42709239179.3],[1499212800000,43033774511.9],[1499299200000,42686594985.0],[1499385600000,40939964795.4],[1499472000000,42110891329.2],[1499558400000,41737814340.0],[1499644800000,38900014611.3],[1499731200000,38965835960.2],[1499817600000,38229771562.5],[1499904000000,38727739418.7],[1499990400000,36037038604.8],[1500076800000,34787959274.2582],[1500163200000,31771903140.4],[1500249600000,35813346629.5],[1500336000000,35620745558.2695],[1500422400000,37272494746.0],[1500508800000,45283307620.0],[1500595200000,44152958959.8],[1500681600000,46223084883.1],[1500768000000,45609602584.7167],[1500854400000,45316644720.9],[1500940800000,42178931413.1],[1501027200000,41588201875.0],[1501113600000,43615617342.2],[1501200000000,45828471053.7],[1501286400000,44818305662.9804],[1501372800000,45251045529.0],[1501459200000,47241588637.5],[1501545600000,45500925663.75],[1501632000000,44403849136.3],[1501718400000,46065116956.4],[1501804800000,46310860968.75],[1501891200000,53069653154.8],[1501977600000,53643416122.4],[1502064000000,53192159457.6168],[1502150400000,57035007861.6],[1502236800000,55268159146.2095],[1502323200000,56502754910.1],[1502409600000,59942989324.7],[1502496000000,63584781056.0],[1502582400000,66936107806.506],[1502668800000,70699295406.6],[1502755200000,69618446260.7],[1502841600000,67642313680.0],[1502928000000,71479165577.9],[1503014400000,68212617155.5],[1503100800000,68124220312.5],[1503187200000,68681670539.4],[1503273600000,66800518311.6],[1503360000000,67555526370.0],[1503446400000,68981289804.4],[1503532800000,71719067902.4],[1503619200000,72100292859.0],[1503705600000,70675091600.0],[1503792000000,71969913143.2],[1503878400000,72594582814.2],[1503964800000,75930832650.0],[1504051200000,75973586549.2],[1504137600000,78517382092.8],[1504224000000,79695291120.0],[1504310400000,75760868525.8],[1504396800000,76890792076.3],[1504483200000,75692148975.0],[1504569600000,74274178848.6],[1504656000000,75912811282.5],[1504742400000,77039601932.9],[1504828800000,71356979356.6],[1504915200000,70814966282.5],[1505001600000,71691497930.5],[1505088000000,69746785362.6532],[1505174400000,69874102306.5],[1505260800000,65614497261.1],[1505347200000,63345088094.5974],[1505433600000,62533631277.0],[1505520000000,61528837960.0],[1505606400000,62082482021.2],[1505692800000,67843960761.3],[1505779200000,64889284260.0],[1505865600000,65938973200.1],[1505952000000,60664303198.5],[1506038400000,59119056155.0],[1506124800000,62626656252.9],[1506211200000,61417012140.6],[1506297600000,65134901265.0],[1506384000000,64867502636.0],[1506470400000,69723276430.1],[1506556800000,69352809025.0],[1506643200000,69592424013.0],[1506729600000,71952969917.5],[1506816000000,71427295275.0],[1506902400000,72823312134.9],[1506988800000,71279730159.2],[1507075200000,70215884325.0],[1507161600000,72049945834.6],[1507248000000,72170693759.2],[1507334400000,72152763497.5],[1507420800000,76453090033.9],[1507507200000,79381217030.7],[1507593600000,80118562455.0],[1507680000000,80089009599.0],[1507766400000,88501874725.4],[1507852800000,93265072580.0],[1507939200000,95407407494.0],[1508025600000,94730863792.5],[1508112000000,94964431959.4],[1508198400000,93188555403.2],[1508284800000,90250395092.5],[1508371200000,95272882875.6],[1508457600000,99475116074.0],[1508544000000,101248836087.5],[1508630400000,99562135447.0],[1508716800000,99162176293.75],[1508803200000,91642025553.7],[1508889600000,94381426739.3],[1508976000000,95501011083.7919],[1509062400000,96114589130.8],[1509148800000,96190524845.5],[1509235200000,103231443993.75],[1509321600000,101694785279.0],[1509408000000,106415422967.0],[1509494400000,109472811337.5],[1509580800000,117758780932.0],[1509667200000,119930391013.0],[1509753600000,123938478075.0],[1509840000000,124096421156.397],[1509926400000,116489128917.0],[1510012800000,118220619187.0],[1510099200000,123386340595.0],[1510185600000,119345862426.0],[1510272000000,112042515457.0],[1510358400000,107930879250.0],[1510444800000,95327831900.7],[1510531200000,109246250480.0],[1510617600000,110677604469.0],[1510704000000,119017775562.5],[1510790400000,130383139250.0],[1510876800000,129929811149.0],[1510963200000,129360928375.0],[1511049600000,133643141972.0],[1511136000000,137799223020.0],[1511222400000,137164736974.78],[1511308800000,138037428086.0],[1511395200000,136242741281.25],[1511481600000,137786800129.0],[1511568000000,145425891724.0],[1511654400000,155588445000.0],[1511740800000,162348370564.0],[1511827200000,166280421453.0],[1511913600000,181062238815.517],[1512000000000,169579202442.0],[1512086400000,181912888875.0],[1512172800000,183411490506.25],[1512259200000,189460332832.0],[1512345600000,189148569338.095],[1512432000000,198638586221.0],[1512518400000,226472551976.0],[1512604800000,237597125750.0],[1512691200000,267785606695.0],[1512777600000,248115354125.0],[1512864000000,248817190555.0],[1512950400000,280517165314.0],[1513036800000,281176318093.75],[1513123200000,281363023503.0],[1513209600000,277695407250.0],[1513296000000,297570694261.0],[1513382400000,326525438567.0],[1513468800000,334669169962.5],[1513555200000,317622713304.0],[1513641600000,297138524343.0],[1513728000000,282954580875.0],[1513814400000,268887463901.0],[1513900800000,254564539479.0],[1513987200000,242099142112.5],[1514073600000,233806132563.0],[1514160000000,236676918976.0],[1514246400000,258842032918.75],[1514332800000,261381479588.0],[1514419200000,241141682464.0],[1514505600000,241126663387.5],[1514592000000,221657719331.0],[1514678400000,237620437837.0],[1514764800000,224791879943.75],[1514851200000,251777079094.0],[1514937600000,252713577000.0],[1515024000000,255085455191.0],[1515110400000,288257943758.0],[1515196800000,278772664625.0],[1515283200000,279554272793.0],[1515369600000,256324304949.0],[1515456000000,249773190625.0],[1515542400000,254044267489.0],[1515628800000,224601252643.75],[1515715200000,233728069871.0],[1515801600000,243614497964.0],[1515888000000,222679339660.324],[1515974400000,235476004695.0],[1516060800000,187919737801.0],[1516147200000,182610291868.794],[1516233600000,190731457101.0],[1516320000000,192049767135.0],[1516406400000,195247228831.954],[1516492800000,193494205427.0],[1516579200000,189753227225.0],[1516665600000,188797048086.0],[1516752000000,189817650188.0],[1516838400000,193146695000.0],[1516924800000,184603886255.0],[1517011200000,193125827812.5],[1517097600000,198043813362.0],[1517184000000,188755376010.0],[1517270400000,174843810283.589],[1517356800000,170481810440.0],[1517443200000,152959231815.0],[1517529600000,152286777062.5],[1517616000000,152885414136.0],[1517702400000,141517216815.0],[1517788800000,134361254625.0],[1517875200000,129506188061.0],[1517961600000,136502016576.0],[1518048000000,129231574981.25],[1518134400000,143870507869.0],[1518220800000,140250655239.0],[1518307200000,134862400000.0],[1518393600000,148570372921.0],[1518480000000,143220219225.0],[1518566400000,157433725215.0],[1518652800000,168286527234.0],[1518739200000,169076356149.14],[1518825600000,182915376933.0],[1518912000000,177222546652.0],[1518998400000,187094632812.5],[1519084800000,192233646840.0],[1519171200000,177782332242.0],[1519257600000,172934575500.0],[1519344000000,171563458942.0],[1519430400000,163744774409.0],[1519516800000,161964996600.0],[1519603200000,174770964462.0],[1519689600000,181805891408.0],[1519776000000,184499846850.0],[1519862400000,185996484778.0],[1519948800000,186802505182.0],[1520035200000,190364417250.0],[1520121600000,193174785117.0],[1520208000000,196164757075.0],[1520294400000,181943526346.0],[1520380800000,171057785684.0],[1520467200000,168187604937.5],[1520553600000,153700037465.0],[1520640000000,147910527299.0],[1520726400000,156987046125.0],[1520812800000,155334337759.0],[1520899200000,154876353756.0],[1520985600000,147056688500.0],[1521072000000,141430179682.0],[1521158400000,144362019016.0],[1521244800000,139471714125.0],[1521331200000,138317439562.0],[1521417600000,142406681398.0],[1521504000000,144342302475.0],[1521590400000,151507050388.0],[1521676800000,147165112798.0],[1521763200000,145828791925.0],[1521849600000,146721740014.0],[1521936000000,145972696885.0],[1522022400000,136770943287.5],[1522108800000,133448537839.0],[1522195200000,134888340586.0],[1522281600000,125546385731.25],[1522368000000,116651254934.0],[1522454400000,117559767046.0],[1522540800000,109830550225.0],[1522627200000,119289026723.0],[1522713600000,125655041078.0],[1522800000000,119608315550.0],[1522886400000,115779572222.0],[1522972800000,112015038568.0],[1523059200000,116229362550.0],[1523145600000,119063492862.0],[1523232000000,113674023588.0],[1523318400000,114180111262.5],[1523404800000,117553809963.0],[1523491200000,131106307050.0],[1523577600000,134033734871.0],[1523664000000,136442880067.0],[1523750400000,140810164200.0],[1523836800000,136597253971.0],[1523923200000,134093392445.0],[1524009600000,137552313881.25],[1524096000000,140228950403.0],[1524182400000,150404475373.0],[1524268800000,149668874050.0],[1524355200000,150198975921.0],[1524441600000,151835780976.0],[1524528000000,156864235893.75],[1524614400000,152915180046.0],[1524700800000,157400409845.0],[1524787200000,157467661450.0],[1524873600000,158584116595.0],[1524960000000,158740427523.0],[1525046400000,156421997468.75],[1525132800000,154368868774.0],[1525219200000,156873400630.0],[1525305600000,156949164706.25],[1525392000000,165232440779.0],[1525478400000,166827403576.0],[1525564800000,165160539187.5],[1525651200000,159073456774.0],[1525737600000,157096638579.0],[1525824000000,155127555000.0],[1525910400000,154968340040.0],[1525996800000,144209062700.0],[1526083200000,146016768218.75],[1526169600000,148651217813.0],[1526256000000,147377631315.0],[1526342400000,149939429400.0],[1526428800000,142108277841.0],[1526515200000,138124811300.0],[1526601600000,138077145750.0],[1526688000000,140152381216.0],[1526774400000,145010022744.0],[1526860800000,144863412606.25],[1526947200000,136657623420.0],[1527033600000,128833111634.0],[1527120000000,129120969250.0],[1527206400000,126978632840.0],[1527292800000,128698767201.813],[1527379200000,125586130562.0],[1527465600000,121654438770.0],[1527552000000,126764636456.25],[1527638400000,126031396405.0],[1527724800000,127856865936.0],[1527811200000,128759954700.0],[1527897600000,130510681004.0],[1527984000000,131460827418.0],[1528070400000,131362643425.0],[1528156800000,130057970864.0],[1528243200000,129389746400.0],[1528329600000,131119835639.0],[1528416000000,130175079393.0],[1528502400000,129952678762.5],[1528588800000,115792455396.0],[1528675200000,117492450820.0],[1528761600000,111375204150.0],[1528848000000,107946207582.0],[1528934400000,113621636378.0],[1529020800000,110231784000.0],[1529107200000,111295736112.0],[1529193600000,110538772930.0],[1529280000000,113995432650.0],[1529366400000,115226784775.0],[1529452800000,113466252649.0],[1529539200000,115375042168.75],[1529625600000,115050947720.0],[1529712000000,103508812532.0],[1529798400000,100550773050.0],[1529884800000,105409486219.0],[1529971200000,106880330753.0],[1530057600000,103921177262.5],[1530144000000,105148160888.0],[1530230400000,101936041059.0],[1530316800000,109528388887.5],[1530403200000,108801529651.0],[1530489600000,109535706816.0],[1530576000000,113357736600.0],[1530662400000,113421540536.0],[1530748800000,114730704216.0],[1530835200000,112417732237.5],[1530921600000,113496217572.0],[1531008000000,113353504838.0],[1531094400000,114939331150.0],[1531180800000,114919205800.0],[1531267200000,109835780196.0],[1531353600000,105898177068.75],[1531440000000,105670188706.0],[1531526400000,106478738166.0],[1531612800000,109191045687.5],[1531699200000,109131978227.0],[1531785600000,114383451581.0],[1531872000000,125267728406.25],[1531958400000,125718181056.0],[1532044800000,128763223280.0],[1532131200000,126063103725.0],[1532217600000,127316113960.0],[1532304000000,127251335647.0],[1532390400000,137082387687.5],[1532476800000,144832483724.0],[1532563200000,137092059000.0],[1532649600000,136316470864.0],[1532736000000,139902300789.0],[1532822400000,141353801531.25],[1532908800000,141731222829.0],[1532995200000,140229324915.0],[1533081600000,129585015312.5],[1533168000000,130472558925.0],[1533254400000,129842882851.0],[1533340800000,126936416587.5],[1533427200000,120490483524.0],[1533513600000,120942650691.0],[1533600000000,121233964418.75],[1533686400000,110934781046.0],[1533772800000,110024966758.0],[1533859200000,110866547868.75],[1533945600000,106592498208.0],[1534032000000,108863231962.5],[1534118400000,109221729312.0],[1534204800000,104136190968.0],[1534291200000,109294056875.0],[1534377600000,109181385316.0],[1534464000000,111505015020.0],[1534550400000,109199853156.25],[1534636800000,110275489025.0],[1534723200000,110812680257.0],[1534809600000,110621482387.5],[1534896000000,113260541536.0],[1534982400000,110854993448.0],[1535068800000,111751043625.0],[1535155200000,115780553239.0],[1535241600000,114999699555.0],[1535328000000,115337122843.75],[1535414400000,120660389484.0],[1535500800000,121607525032.0],[1535587200000,120873351950.0],[1535673600000,120387602947.0],[1535760000000,122452896126.0],[1535846400000,123395166400.0],[1535932800000,125238213760.0],[1536019200000,126386465498.0],[1536105600000,127186461900.0],[1536192000000,110995085631.0],[1536278400000,111206304297.0],[1536364800000,110946246468.75],[1536451200000,108498052100.0],[1536537600000,108706328548.0],[1536624000000,109100283668.75],[1536710400000,108303523339.0],[1536796800000,111372019688.0],[1536883200000,112951181043.75],[1536969600000,112576519985.0],[1537056000000,111931336813.0],[1537142400000,111717721500.0],[1537228800000,108774941705.0],[1537315200000,109464394111.0],[1537401600000,110431857637.5],[1537488000000,115262610843.0],[1537574400000,115955119010.0],[1537660800000,116646004050.0],[1537747200000,114769916521.0],[1537833600000,110862120926.0],[1537920000000,111228701081.25],[1538006400000,113011952681.0],[1538092800000,115477961195.0],[1538179200000,112068522000.0],[1538265600000,114047637159.0],[1538352000000,114023175457.0],[1538438400000,113531496093.75],[1538524800000,111960205259.0],[1538611200000,113585639442.0],[1538697600000,113221642656.25],[1538784000000,113915661970.0],[1538870400000,113530087723.0],[1538956800000,113708042456.25],[1539043200000,114645584341.0],[1539129600000,113641046887.0],[1539216000000,107060111343.75],[1539302400000,108426290016.0],[1539388800000,108439316092.0],[1539475200000,107371346775.0],[1539561600000,111785884039.0],[1539648000000,114292514497.0],[1539734400000,114297964497.0],[1539820800000,111564235487.5],[1539907200000,112434867969.0],[1539993600000,112470412618.0],[1540080000000,111435223162.5],[1540166400000,112661649498.0],[1540252800000,112378366737.0],[1540339200000,111201832618.75],[1540425600000,112340639386.0],[1540512000000,112277136327.0],[1540598400000,111219922968.75],[1540684800000,111856575827.0],[1540771200000,110731077898.0],[1540857600000,108704858625.0],[1540944000000,109500310302.0],[1541030400000,110067746950.0],[1541116800000,110249305031.25],[1541203200000,110465313593.0],[1541289600000,110962521575.0],[1541376000000,111421534175.0],[1541462400000,111912859703.0],[1541548800000,113545843145.0],[1541635200000,111595924125.0],[1541721600000,111351526218.0],[1541808000000,111149289290.0],[1541894400000,110800247809.0],[1541980800000,110519630175.0],[1542067200000,110713166702.0],[1542153600000,107319725752.0],[1542240000000,94393833100.0],[1542326400000,97259727077.8],[1542412800000,96610259108.1],[1542499200000,96127367875.0],[1542585600000,92206653588.4],[1542672000000,81227804814.0],[1542758400000,78829432160.6],[1542844800000,77178413400.0],[1542931200000,74941964727.5],[1543017600000,74680143636.7],[1543104000000,68706053125.0],[1543190400000,68199156511.2],[1543276800000,65267773995.0],[1543363200000,71393839156.0],[1543449600000,74678385750.0],[1543536000000,71463879215.2],[1543622400000,71642632121.5],[1543708800000,72532086375.3],[1543795200000,69106403606.25],[1543881600000,68958407714.7],[1543968000000,67169228972.7],[1544054400000,61171747831.25],[1544140800000,59298763726.2],[1544227200000,59821293090.0],[1544313600000,61454462930.3],[1544400000000,59545346737.5],[1544486400000,59678105485.4],[1544572800000,60307741463.5],[1544659200000,59350401879.4],[1544745600000,56977179275.0],[1544832000000,56200958927.9],[1544918400000,57006153034.9],[1545004800000,56402687781.25],[1545091200000,62181269660.2],[1545177600000,66381558857.3],[1545264000000,69207273125.0],[1545350400000,70013651674.3],[1545436800000,68197841935.8],[1545523200000,69726142887.5],[1545609600000,72881571040.6],[1545696000000,65518255500.0],[1545782400000,66736082607.2],[1545868800000,65391501364.2],[1545955200000,67091885625.0],[1546041600000,68275647449.0],[1546128000000,66899048185.7],[1546214400000,66388856362.5],[1546300800000,65505657848.0],[1546387200000,67518253391.6],[1546473600000,66916312312.5],[1546560000000,66755628485.2],[1546646400000,67564391445.9],[1546732800000,66369897500.0],[1546819200000,70505909026.0],[1546905600000,70510271360.4],[1546992000000,70304762700.0],[1547078400000,66624794465.5],[1547164800000,63908086521.2],[1547251200000,63615916000.0],[1547337600000,62926132293.8],[1547424000000,63007587598.2],[1547510400000,64099311262.5],[1547596800000,63319459560.9],[1547683200000,63302358632.1],[1547769600000,63044059750.0],[1547856000000,64548729309.3],[1547942400000,63324582526.2],[1548028800000,61935692493.75],[1548115200000,62669239200.0],[1548201600000,62090544093.8],[1548288000000,62191490425.0],[1548374400000,61980057112.5],[1548460800000,62206594925.0],[1548547200000,62158701437.5],[1548633600000,60092219718.8],[1548720000000,59468172181.2],[1548806400000,60243499050.0],[1548892800000,59804077625.0],[1548979200000,60309846393.8],[1549065600000,59973457200.0],[1549152000000,59857126650.0],[1549238400000,59741921250.0],[1549324800000,59948614725.0],[1549411200000,58895769287.5],[1549497600000,58850083325.0],[1549584000000,59354042556.25],[1549670400000,63439441450.0],[1549756800000,63269333887.5],[1549843200000,63036935212.5],[1549929600000,63080588593.8],[1550016000000,62640690550.0],[1550102400000,62443069862.5],[1550188800000,62538201468.8],[1550275200000,62834951475.0],[1550361600000,62585544375.0],[1550448000000,67770411093.8],[1550534400000,68580087312.1],[1550620800000,68756100450.0],[1550707200000,68404194281.2],[1550793600000,69157687250.0],[1550880000000,68909404650.0],[1550966400000,66221562050.0],[1551052800000,67395567318.8],[1551139200000,66683435437.5],[1551225600000,65250078356.2],[1551312000000,66645886531.2],[1551398400000,67319155968.75],[1551484800000,66773212275.0],[1551571200000,66271588200.0],[1551657600000,65064903837.5],[1551744000000,67356877787.5],[1551830400000,67546870093.8],[1551916800000,67886913750.0],[1552003200000,67757070187.5],[1552089600000,68674414412.5],[1552176000000,68188781162.5],[1552262400000,68710211750.0],[1552348800000,67789066687.5],[1552435200000,67707976875.0],[1552521600000,67623745250.0],[1552608000000,68506543018.8],[1552694400000,70035792262.5],[1552780800000,69448416843.75],[1552867200000,69892751850.0],[1552953600000,70139021025.0],[1553040000000,70683859000.0],[1553126400000,69801077981.2],[1553212800000,70213952850.0],[1553299200000,69842605300.0],[1553385600000,69807510675.0],[1553472000000,69223435875.0],[1553558400000,68931166375.0],[1553644800000,70832941593.8],[1553731200000,70601571300.0],[1553817600000,71975274875.0],[1553904000000,71690185125.0],[1553990400000,71998078050.0],[1554076800000,72761650900.0],[1554163200000,84349720325.0],[1554249600000,91345578937.5],[1554336000000,87760849800.0],[1554422400000,88245713625.0],[1554508800000,90906789450.0],[1554595200000,89040337500.0],[1554681600000,92946453362.5],[1554768000000,91851477900.0],[1554854400000,92048872987.5],[1554940800000,88767310500.0],[1555027200000,89138857562.5],[1555113600000,89219449962.5],[1555200000000,89939878050.0],[1555286400000,89135880925.0],[1555372800000,89485578387.5],[1555459200000,92075528612.5],[1555545600000,93119509062.5],[1555632000000,92753196550.0],[1555718400000,93710812250.0],[1555804800000,93306985600.0],[1555891200000,93956771193.75],[1555977600000,97854233312.5],[1556064000000,95904244725.0],[1556150400000,96468087162.5],[1556236800000,90836680025.0],[1556323200000,91241618650.0],[1556409600000,91541571956.25],[1556496000000,90627208100.0],[1556582400000,92606001206.2],[1556668800000,93647249325.0],[1556755200000,95397974950.0],[1556841600000,99916531837.5],[1556928000000,101695362931.25],[1557014400000,101021635156.0],[1557100800000,100900769375.0],[1557187200000,103752161975.0],[1557273600000,104847740950.0],[1557360000000,108282432381.0],[1557446400000,111180141300.0],[1557532800000,122810325619.0],[1557619200000,125267241206.0],[1557705600000,130860028675.0],[1557792000000,140288284812.0],[1557878400000,145835666400.0],[1557964800000,138973750625.0],[1558051200000,127760980169.0],[1558137600000,129492309375.0],[1558224000000,141407762375.0],[1558310400000,141910947600.0],[1558396800000,141785357250.0],[1558483200000,140672234175.0],[1558569600000,139797485625.0],[1558656000000,143008315823.722],[1558742400000,141844887000.0],[1558828800000,152612071475.0],[1558915200000,155454608250.0],[1559001600000,154030814062.0],[1559088000000,154571556675.0],[1559174400000,154474867800.0],[1559260800000,150835473812.0],[1559347200000,152084377812.0],[1559433600000,156802069893.75],[1559520000000,149742607794.0],[1559606400000,135486585062.0],[1559692800000,135684239250.0],[1559779200000,137078193750.0],[1559865600000,141734119381.0],[1559952000000,139382739975.0],[1560038400000,134599956175.0],[1560124800000,140756103562.0],[1560211200000,137517642750.0],[1560297600000,144812634600.0],[1560384000000,146330163719.0],[1560470400000,149520848062.5],[1560556800000,157037749656.0],[1560643200000,158915002031.0],[1560729600000,166336959400.0],[1560816000000,161871037050.0],[1560902400000,162724724325.0],[1560988800000,164842477350.0],[1561075200000,176113120425.0],[1561161600000,188846757812.0],[1561248000000,190703378900.0],[1561334400000,194752250419.0],[1561420800000,209116460500.0],[1561507200000,217594222656.25],[1561593600000,203599408469.0],[1561680000000,219472352169.0],[1561766400000,220098425525.0],[1561852800000,195009195562.0],[1561939200000,182456575437.5],[1562025600000,192113595781.0],[1562112000000,199938621750.0],[1562198400000,209040242612.5],[1562284800000,195674469562.0],[1562371200000,199242134606.25],[1562457600000,204764821181.0],[1562544000000,217527868800.0],[1562630400000,222895683931.096],[1562716800000,213725700000.0],[1562803200000,203298403350.0],[1562889600000,207355687500.0],[1562976000000,197193628875.0],[1563062400000,181894670181.0],[1563148800000,193012591218.75],[1563235200000,171292428544.0],[1563321600000,172706565750.0],[1563408000000,188408532375.0],[1563494400000,188945927500.0],[1563580800000,194693813644.0],[1563667200000,188940760794.0],[1563753600000,188897376400.0],[1563840000000,179881506269.0],[1563926400000,171596908912.0],[1564012800000,180234043125.0],[1564099200000,175926448088.0],[1564185600000,168361683482.408],[1564272000000,169392572703.0],[1564358400000,169339270650.0],[1564444800000,172796348350.0],[1564531200000,178952292669.0],[1564617600000,185909296075.0],[1564704000000,187765640781.25],[1564790400000,193806310500.0],[1564876800000,196449266606.25],[1564963200000,211993155250.0],[1565049600000,208464776025.0],[1565136000000,210736786134.175],[1565222400000,212968225856.0],[1565308800000,212024540419.0],[1565395200000,202030164475.0],[1565481600000,205295553594.0],[1565568000000,203820128250.0],[1565654400000,193673728875.0],[1565740800000,182718261750.0],[1565827200000,184749029775.0],[1565913600000,186188605200.0],[1566000000000,181010545000.0],[1566086400000,184925365800.0],[1566172800000,191367378431.0],[1566259200000,194964305440.183],[1566345600000,180322506000.0],[1566432000000,180880663875.0],[1566518400000,180435273250.0],[1566604800000,180381096000.0],[1566691200000,179909466843.75],[1566777600000,184443398438.0],[1566864000000,181453947262.0],[1566950400000,173911650488.0],[1567036800000,173108223750.0],[1567123200000,172258004750.0],[1567209600000,171523183175.0],[1567296000000,174929900100.0],[1567382400000,186304012125.0],[1567468800000,191845565331.25],[1567555200000,189904962500.0],[1567641600000,188539129781.0],[1567728000000,195793046150.0],[1567814400000,188492005625.0],[1567900800000,186410250000.0],[1567987200000,184498165125.0],[1568073600000,180795798394.0],[1568160000000,181103480075.0],[1568246400000,186557902788.0],[1568332800000,183879352600.0],[1568419200000,185732623575.0],[1568505600000,184994851825.0],[1568592000000,181650077744.0],[1568678400000,183448642187.5],[1568764800000,182631360275.0],[1568851200000,184017643125.0],[1568937600000,182760346743.75],[1569024000000,179604197900.0],[1569110400000,179544302606.0],[1569196800000,178606686525.0],[1569283200000,156192719750.0],[1569369600000,152384905275.0],[1569456000000,150351575843.75],[1569542400000,144090919125.0],[1569628800000,146074506100.0],[1569715200000,147029712812.5],[1569801600000,148813827525.0],[1569888000000,149235196556.0],[1569974400000,147416445400.0],[1570060800000,147432276562.0],[1570147200000,146998007681.0],[1570233600000,146005746587.5],[1570320000000,141404431248.0],[1570406400000,147583802294.0],[1570492800000,148765692600.0],[1570579200000,154554141481.0],[1570665600000,154123207331.0],[1570752000000,153487616950.0],[1570838400000,149647267388.0],[1570924800000,149017175175.0],[1571011200000,149172065568.75],[1571097600000,146400709500.0],[1571184000000,143968700000.0],[1571270400000,143432105000.0],[1571356800000,142765116269.0],[1571443200000,142852986319.0],[1571529600000,142585336031.25],[1571616000000,147968069025.0],[1571702400000,145384257681.25],[1571788800000,134746891950.0],[1571875200000,134047704781.0],[1571961600000,154966806837.5],[1572048000000,163499602000.0],[1572134400000,174622503125.0],[1572220800000,169600492438.0],[1572307200000,170284897431.25],[1572393600000,164649209119.0],[1572480000000,167025372250.0],[1572566400000,164812713300.0],[1572652800000,168479775338.0],[1572739200000,165214512981.0],[1572825600000,170073924275.0],[1572912000000,168522165350.0],[1572998400000,167948715638.0],[1573084800000,165854049338.0],[1573171200000,166275411156.25],[1573257600000,159006733000.0],[1573344000000,163045632975.0],[1573430400000,161347000450.0],[1573516800000,156554644662.0],[1573603200000,158039971075.0],[1573689600000,157001940000.0],[1573776000000,152842848450.0],[1573862400000,153139263988.0],[1573948800000,152970317650.0],[1574035200000,151696114525.0],[1574121600000,146550409100.0],[1574208000000,146958929125.0],[1574294400000,136724176312.0],[1574380800000,131977937950.0],[1574467200000,130431388537.5],[1574553600000,127173143175.0],[1574640000000,129903887000.0],[1574726400000,128971614625.0],[1574812800000,136783703562.0],[1574899200000,137026263650.0],[1574985600000,139954857475.0],[1575072000000,135261585550.0],[1575158400000,132417138125.0],[1575244800000,131509464675.0],[1575331200000,132066636900.0],[1575417600000,134540496000.0],[1575504000000,132363383100.0],[1575590400000,135916921919.0],[1575676800000,135984997188.0],[1575763200000,136103312487.5],[1575849600000,132620865375.0],[1575936000000,130906378444.0],[1576022400000,129901597612.5],[1576108800000,130503145305.0],[1576195200000,130799017681.0],[1576281600000,128248684687.5],[1576368000000,129030914375.0],[1576454400000,124337804375.0],[1576540800000,119143813250.0],[1576627200000,125582707562.0],[1576713600000,129219576938.0],[1576800000000,130183593750.0],[1576886400000,129350068244.0],[1576972800000,134091125125.0],[1577059200000,136374280087.5],[1577145600000,130707641225.0],[1577232000000,129443838825.0],[1577318400000,130634548400.0],[1577404800000,131249822925.0],[1577491200000,132504514519.0],[1577577600000,133593153675.0],[1577664000000,130818862688.0],[1577750400000,130126623900.0],[1577836800000,130569120000.0],[1577923200000,125847564138.0],[1578009600000,132471764338.0],[1578096000000,133103167187.5],[1578182400000,134761310469.0],[1578268800000,136678342375.0],[1578355200000,143514044712.5],[1578441600000,146139572700.0],[1578528000000,144519555825.0],[1578614400000,146823384900.0],[1578700800000,148154591544.0],[1578787200000,147904478200.0],[1578873600000,147514636500.0],[1578960000000,160768371344.0],[1579046400000,158964764906.25],[1579132800000,157749491694.0],[1579219200000,161372797425.0],[1579305600000,162301259618.75],[1579392000000,155899672500.0],[1579478400000,156988555925.0],[1579564800000,159003013650.0],[1579651200000,158200805700.0],[1579737600000,152420433750.0],[1579824000000,154427992556.0],[1579910400000,150813330631.25],[1579996800000,155807033450.0],[1580083200000,159564611544.0],[1580169600000,164561946850.0],[1580256000000,169893070181.0],[1580342400000,173613830300.0],[1580428800000,172343191950.0],[1580515200000,170774632925.0],[1580601600000,170728661250.0],[1580688000000,173223247662.5],[1580774400000,166821543725.0],[1580860800000,174386536369.0],[1580947200000,175277964531.25],[1581033600000,178155230925.0],[1581120000000,179355925625.0],[1581206400000,184480669700.0],[1581292800000,178962706000.0],[1581379200000,187348515638.0],[1581465600000,189235797375.0],[1581552000000,186838050262.0],[1581638400000,187994717288.0],[1581724800000,186778881300.0],[1581811200000,177863559388.0],[1581897600000,175698380206.0],[1581984000000,176119756000.0],[1582070400000,181291498556.0],[1582156800000,175010988412.0],[1582243200000,177330622687.5],[1582329600000,176612536388.0],[1582416000000,180449440931.0],[1582502400000,174776472462.5],[1582588800000,170672719219.0],[1582675200000,160210827000.0],[1582761600000,161778098650.0],[1582848000000,157326554000.0],[1582934400000,155692527500.0],[1583020800000,156188756000.0],[1583107200000,161633164400.0],[1583193600000,159200092837.5],[1583280000000,159658276562.5],[1583366400000,166828903637.5],[1583452800000,165962190456.25],[1583539200000,166160711162.5],[1583625600000,151352672281.25],[1583712000000,143470396400.0],[1583798400000,143510064650.0],[1583884800000,142088199637.5],[1583971200000,106015798968.75],[1584057600000,101262087637.5],[1584144000000,100350995875.0],[1584230400000,96906347525.0],[1584316800000,90765219550.0],[1584403200000,97446038343.75],[1584489600000,94716536062.5],[1584576000000,113670337837.5],[1584662400000,112152415068.75],[1584748800000,114082359500.0],[1584835200000,108495493356.25],[1584921600000,114280860487.5],[1585008000000,122216940000.0],[1585094400000,120571872912.5],[1585180800000,122798552906.25],[1585267200000,121586264937.5],[1585353600000,113839795237.5],[1585440000000,107971925750.0],[1585526400000,119453767875.0],[1585612800000,117908974781.25],[1585699200000,120705728150.0],[1585785600000,124039009281.25],[1585872000000,123382798087.5],[1585958400000,123632645400.0],[1586044800000,124424205150.0],[1586131200000,132676440243.75],[1586217600000,131218327925.0],[1586304000000,134579389262.5],[1586390400000,133633938200.0],[1586476800000,125416413412.5],[1586563200000,124384312500.0],[1586649600000,128145797343.75],[1586736000000,124594360000.0],[1586822400000,126331774425.0],[1586908800000,123854372850.0],[1586995200000,128604200612.5],[1587081600000,129753063618.75],[1587168000000,133343438962.5],[1587254400000,131366871625.0],[1587340800000,124054068512.5],[1587427200000,126361434250.0],[1587513600000,130515275656.25],[1587600000000,138744749531.25],[1587686400000,137532359343.75],[1587772800000,138413590875.0],[1587859200000,139903809356.25],[1587945600000,141531926100.0],[1588032000000,141952516706.25],[1588118400000,160777514275.0],[1588204800000,159673559081.25],[1588291200000,162892364175.0],[1588377600000,163862503825.0],[1588464000000,163248718006.25],[1588550400000,164154827250.0],[1588636800000,164798760350.0],[1588723200000,170664428812.5],[1588809600000,181600214025.0],[1588896000000,184106685093.75],[1588982400000,176481852068.75],[1589068800000,160656025900.0],[1589155200000,158401956890.625],[1589241600000,161404772546.875],[1589328000000,171409485406.25],[1589414400000,179758966040.625],[1589500800000,174169253700.0],[1589587200000,171806658300.0],[1589673600000,177519668428.125],[1589760000000,178575990637.5],[1589846400000,178086135093.75],[1589932800000,175914244687.5],[1590019200000,167558481406.25],[1590105600000,168979983000.0],[1590192000000,168792982921.875],[1590278400000,166392594015.625],[1590364800000,161967612843.75],[1590451200000,162425788875.0],[1590537600000,167618968650.0],[1590624000000,174079136831.25],[1590710400000,173508230062.5],[1590796800000,175364656000.0],[1590883200000,174060140671.875],[1590969600000,189811797862.5],[1591056000000,174736818065.625],[1591142400000,175968282543.75],[1591228800000,181513287175.0],[1591315200000,177865606050.0],[1591401600000,178317880312.5],[1591488000000,179791095703.125],[1591574400000,178576204975.0],[1591660800000,180307247681.25],[1591747200000,179828208662.5],[1591833600000,171551013562.5],[1591920000000,173436246150.0],[1592006400000,173170556100.0],[1592092800000,172702437796.875],[1592179200000,173842603906.25],[1592265600000,174651676434.375],[1592352000000,172994154900.0],[1592438400000,172991118234.375],[1592524800000,171545023628.125],[1592611200000,170651089459.375],[1592697600000,171819140968.75],[1592784000000,176191002387.5],[1592870400000,177324650971.875],[1592956800000,171182903946.875],[1593043200000,170813539725.0],[1593129600000,168558673275.0],[1593216000000,165933115500.0],[1593302400000,167672237200.0],[1593388800000,168822137800.0],[1593475200000,168019714350.0],[1593561600000,170203398750.0],[1593648000000,166748306375.0],[1593734400000,167513576081.25],[1593820800000,168122280425.0],[1593907200000,166214145837.5],[1593993600000,172009679884.375],[1594080000000,170184498650.0],[1594166400000,173610804881.25],[1594252800000,170248867959.375],[1594339200000,170102381312.5],[1594425600000,169751069271.875],[1594512000000,169565602500.0],[1594598400000,170349814775.0],[1594684800000,170579155512.5],[1594771200000,169849897012.5],[1594857600000,168420047300.0],[1594944000000,168656485612.5],[1595030400000,169107019078.125],[1595116800000,168781230421.875],[1595203200000,169305500234.375],[1595289600000,172567968781.25],[1595376000000,173027927953.125],[1595462400000,176733452500.0],[1595548800000,176052376406.25],[1595635200000,179020801481.25],[1595721600000,182607360825.0],[1595808000000,201004959712.5],[1595894400000,201512512656.25],[1595980800000,208072854000.0],[1596067200000,202869026671.875],[1596153600000,209854370837.5],[1596240000000,217603596000.0],[1596326400000,206267366500.0],[1596412800000,210880561225.0],[1596499200000,206842926437.5],[1596585600000,215227627200.0],[1596672000000,217473245343.75],[1596758400000,213709731637.5],[1596844800000,215925255000.0],[1596931200000,215836542534.375],[1597017600000,219360256500.0],[1597104000000,209738182981.25],[1597190400000,213532193700.0],[1597276800000,216941479300.0],[1597363200000,217570274015.625],[1597449600000,220592534896.875],[1597536000000,218322905625.0],[1597622400000,228045158700.0],[1597708800000,221381096896.875],[1597795200000,216581336356.25],[1597881600000,218733693656.25],[1597968000000,214653571846.875],[1598054400000,214950070412.5],[1598140800000,215652840631.25],[1598227200000,217087879593.75],[1598313600000,207324652762.5],[1598400000000,211933902600.0],[1598486400000,208166391206.25],[1598572800000,212122896703.125],[1598659200000,212770312631.25],[1598745600000,215216585512.5],[1598832000000,216208638675.0],[1598918400000,221124544656.25],[1599004800000,210713516640.625],[1599091200000,198213317484.375],[1599177600000,194914899437.5],[1599264000000,186533999184.375],[1599350400000,189056312446.875],[1599436800000,187699917356.25],[1599523200000,186821597218.75],[1599609600000,189790181296.875],[1599696000000,190594038903.125],[1599782400000,190806474468.75],[1599868800000,193248922862.5],[1599955200000,190764407487.5],[1600041600000,197108447428.125],[1600128000000,200520023915.625],[1600214400000,204625348262.5],[1600300800000,201530720100.0],[1600387200000,201329964034.375],[1600473600000,204696226725.0],[1600560000000,201749050350.0],[1600646400000,193749659062.5],[1600732800000,193841208772.6329],[1600819200000,190658048556.25],[1600905600000,197382129312.5],[1600992000000,198217312481.25],[1601078400000,198236005031.25],[1601164800000,198617896500.0],[1601251200000,201076530046.875],[1601337600000,198403108593.75],[1601424000000,198858945078.125],[1601510400000,195488800750.0],[1601596800000,194711536593.75],[1601683200000,195664662796.875],[1601769600000,197101345356.25],[1601856000000,198970943750.0],[1601942400000,195759710900.0],[1602028800000,197231308718.75],[1602115200000,201452078906.25],[1602201600000,204916592031.25],[1602288000000,209249257593.75],[1602374400000,210490426768.75],[1602460800000,216397495703.125],[1602547200000,211679413350.0001],[1602633600000,210893244975.0],[1602720000000,213875445609.375],[1602806400000,210403973546.875],[1602892800000,210147929293.75],[1602979200000,212090798056.25],[1603065600000,217064696915.625],[1603152000000,220029297206.25],[1603238400000,238368694612.5],[1603324800000,241260646000.0],[1603411200000,238647990437.5],[1603497600000,242358113150.0],[1603584000000,241505205209.375],[1603670400000,240633708850.0],[1603756800000,253802265407.0592],[1603843200000,244060036400.0],[1603929600000,249534840618.75],[1604016000000,250766659162.5],[1604102400000,255371146043.75],[1604188800000,255865110850.0],[1604275200000,251880481246.875],[1604361600000,258814479656.25],[1604448000000,260253813662.5],[1604534400000,279755947143.7499],[1604620800000,287415242587.5],[1604707200000,274512026537.5],[1604793600000,287130822525.0],[1604880000000,283022971862.4999],[1604966400000,285103506599.9999],[1605052800000,291337325262.5],[1605139200000,301228052049.9999],[1605225600000,303217355046.2438],[1605312000000,296732186887.5],[1605398400000,294279794243.75],[1605484800000,311071476568.75],[1605571200000,325839725087.5],[1605657600000,327519042168.75],[1605744000000,330187006153.125],[1605830400000,345950805509.375],[1605916800000,346342209243.75],[1606003200000,344925018137.5],[1606089600000,341195973907.3539],[1606176000000,357582931931.25],[1606262400000,350822459075.0],[1606348800000,311762160125.0],[1606435200000,311647075281.25],[1606521600000,329257516362.5],[1606608000000,339452285137.5],[1606694400000,357753770756.25],[1606780800000,350063310012.5],[1606867200000,353175382118.75],[1606953600000,361493154309.375],[1607040000000,351662891906.25],[1607126400000,353730819406.25],[1607212800000,356374307812.5],[1607299200000,352724530031.25],[1607385600000,349668748050.0],[1607472000000,338870125050.0],[1607558400000,340854372796.8751],[1607644800000,335949794703.125],[1607731200000,349094377828.125],[1607817600000,355898362125.0],[1607904000000,356379409000.0],[1607990400000,362515788009.375],[1608076800000,385136033628.125],[1608163200000,425710206750.0],[1608249600000,423055516650.0],[1608336000000,446207340093.75],[1608422400000,451253327078.125],[1608508800000,425619240987.5],[1608595200000,436489190915.625],[1608681600000,438284065187.5],[1608768000000,434486494603.1249],[1608854400000,454750935112.5],[1608940800000,482973806052.429],[1609027200000,503387776137.5],[1609113600000,494599376803.125],[1609200000000,502084592900.0],[1609286400000,536005719840.625],[1609372800000,541436761125.0001],[1609459200000,543813604993.75],[1609545600000,611009747250.0],[1609632000000,619812801770.347],[1609718400000,582591741171.875],[1609804800000,631822244400.0],[1609891200000,659286121398.0999],[1609977600000,739800224341.1525],[1610064000000,729200711081.25],[1610150400000,755348290021.8749],[1610236800000,716360177445.0898],[1610323200000,635529262515.625],[1610409600000,638766751771.8159],[1610496000000,689972848250.0],[1610582400000,724844589393.75],[1610668800000,663707921709.375],[1610755200000,676063388900.0],[1610841600000,682039132578.125],[1610928000000,668081186406.25],[1611014400000,688680366500.0],[1611100800000,649901248937.5],[1611187200000,599191358831.2501],[1611273600000,618971470684.375],[1611360000000,595151548406.25],[1611446400000,597366354375.0],[1611532800000,602717224050.0],[1611619200000,594435815971.875],[1611705600000,583752452725.0],[1611792000000,599740591959.3751],[1611878400000,633886476937.5],[1611964800000,636570743062.5],[1612051200000,615488400390.6251],[1612137600000,631799801953.125],[1612224000000,659997689659.375],[1612310400000,700094482087.5],[1612396800000,701756582978.125],[1612483200000,704712152612.5],[1612569600000,749586087187.5],[1612656000000,719405797500.0],[1612742400000,805042212984.375],[1612828800000,866774336006.25],[1612915200000,842760685200.0],[1613001600000,890165972484.375],[1613088000000,882087346837.5],[1613174400000,878041272387.5],[1613260800000,910729663200.0],[1613347200000,905798594156.25],[1613433600000,910890045375.0],[1613520000000,977177235234.375],[1613606400000,969163199100.0],[1613692800000,1047973707087.5],[1613779200000,1059473615534.375],[1613865600000,1083311361650.0],[1613952000000,1014632936625.0],[1614038400000,881631726568.75],[1614124800000,897907870687.5],[1614211200000,924053642203.125],[1614297600000,890415846225.0],[1614384000000,877587479478.125],[1614470400000,849955487906.25],[1614556800000,902742733583.9884],[1614643200000,882352476356.25],[1614729600000,951946868068.75],[1614816000000,897743207812.5],[1614902400000,909244400750.0],[1614988800000,904961037750.0],[1615075200000,934009786718.75],[1615161600000,948273046875.0],[1615248000000,1006521423293.75],[1615334400000,1063063831046.8748],[1615420800000,1060620645656.25],[1615507200000,1062482776468.75],[1615593600000,1135652501593.75],[1615680000000,1122526789453.125],[1615766400000,1054259342500.0],[1615852800000,1050997374000.0],[1615939200000,1088992129097.7094],[1616025600000,1076555012568.75],[1616112000000,1098501632887.5],[1616198400000,1087995355843.75],[1616284800000,1078128686900.0],[1616371200000,1054012768368.75],[1616457600000,1020090883499.9998],[1616544000000,1014119780625.0],[1616630400000,965894943165.625],[1616716800000,1001607266975.0],[1616803200000,1042143976981.25],[1616889600000,1040244974434.375],[1616976000000,1076958402781.25],[1617062400000,1096742447321.875],[1617148800000,1112962019248.0903],[1617235200000,1100835035481.25],[1617321600000,1104686359237.5],[1617408000000,1093494000862.5],[1617494400000,1083771142050.0],[1617580800000,1100764718437.5],[1617667200000,1082317391512.5],[1617753600000,1049541432975.0],[1617840000000,1078663248731.25],[1617926400000,1085215664125.0],[1618012800000,1115505392709.375],[1618099200000,1118903250337.5],[1618185600000,1119732396750.0002],[1618272000000,1177557126850.0],[1618358400000,1168021767581.25],[1618444800000,1185967117396.875],[1618531200000,1145924744146.8752],[1618617600000,1139011148284.0051],[1618704000000,1037095455837.5],[1618790400000,1044878435078.125],[1618876800000,1046757206312.5],[1618963200000,1050754362156.25],[1619049600000,969583639893.75],[1619136000000,934855321096.875],[1619222400000,954556428000.0],[1619308800000,923705354700.0],[1619395200000,1002499341803.8368],[1619481600000,1033610396412.5],[1619568000000,1018351223906.25],[1619654400000,990445281762.5],[1619740800000,1066187095225.0],[1619827200000,1081655740200.0],[1619913600000,1064062886459.375],[1620000000000,1067334429843.75],[1620086400000,1020310026006.25],[1620172800000,1062847420659.375],[1620259200000,1052724322000.0],[1620345600000,1079534245893.75],[1620432000000,1102783049500.0],[1620518400000,1079845062187.5],[1620604800000,1037167684718.75],[1620691200000,1064170914340.625],[1620777600000,1015937559600.0],[1620864000000,927258122181.25],[1620950400000,935290788825.0],[1621036800000,899836936528.2262]],\"type\":\"line\"},{\"name\":\"daily_return_abnormal\",\"yAxis\":1,\"data\":[[1289779200000,0.0],[1289865600000,0.0],[1289952000000,0.0],[1290038400000,0.0],[1290124800000,0.0],[1290211200000,0.0],[1290297600000,0.0],[1290384000000,0.0],[1290470400000,0.0],[1290556800000,0.0],[1290643200000,0.0],[1290729600000,0.0],[1290816000000,0.0],[1290902400000,0.0],[1290988800000,0.0],[1291075200000,0.0],[1291161600000,0.0],[1291248000000,0.0],[1291334400000,0.0],[1291420800000,0.0],[1291507200000,0.0],[1291593600000,0.0],[1291680000000,0.0],[1291766400000,0.0],[1291852800000,0.0],[1291939200000,0.0],[1292025600000,0.0],[1292112000000,0.0],[1292198400000,0.0],[1292284800000,0.0],[1292371200000,0.0],[1292457600000,0.0],[1292544000000,0.0],[1292630400000,0.0],[1292716800000,0.0],[1292803200000,0.0],[1292889600000,0.0],[1292976000000,0.0],[1293062400000,0.0],[1293148800000,0.0],[1293235200000,0.0],[1293321600000,0.0],[1293408000000,0.0],[1293494400000,0.0],[1293580800000,0.0],[1293667200000,0.0],[1293753600000,0.0],[1293840000000,0.0],[1293926400000,0.0],[1294012800000,0.0],[1294099200000,0.0],[1294185600000,0.0],[1294272000000,0.0],[1294358400000,0.0],[1294444800000,0.0],[1294531200000,0.0],[1294617600000,0.0],[1294704000000,0.0],[1294790400000,0.0],[1294876800000,0.0],[1294963200000,0.0],[1295049600000,0.0],[1295136000000,0.0],[1295222400000,0.0],[1295308800000,0.0],[1295395200000,0.0],[1295481600000,0.0],[1295568000000,0.0],[1295654400000,0.0],[1295740800000,0.0],[1295827200000,0.0],[1295913600000,0.0],[1296000000000,0.0],[1296086400000,0.0],[1296172800000,0.0],[1296259200000,0.0],[1296345600000,0.0],[1296432000000,0.0],[1296518400000,23.0628],[1296604800000,0.0],[1296691200000,0.0],[1296777600000,0.0],[1296864000000,0.0],[1296950400000,0.0],[1297036800000,0.0],[1297123200000,0.0],[1297209600000,0.0],[1297296000000,0.0],[1297382400000,0.0],[1297468800000,0.0],[1297555200000,0.0],[1297641600000,0.0],[1297728000000,0.0],[1297814400000,0.0],[1297900800000,0.0],[1297987200000,0.0],[1298073600000,0.0],[1298160000000,0.0],[1298246400000,0.0],[1298332800000,0.0],[1298419200000,0.0],[1298505600000,0.0],[1298592000000,0.0],[1298678400000,0.0],[1298764800000,0.0],[1298851200000,0.0],[1298937600000,0.0],[1299024000000,0.0],[1299110400000,0.0],[1299196800000,0.0],[1299283200000,0.0],[1299369600000,0.0],[1299456000000,0.0],[1299542400000,0.0],[1299628800000,0.0],[1299715200000,0.0],[1299801600000,0.0],[1299888000000,0.0],[1299974400000,0.0],[1300060800000,0.0],[1300147200000,0.0],[1300233600000,0.0],[1300320000000,0.0],[1300406400000,0.0],[1300492800000,0.0],[1300579200000,0.0],[1300665600000,0.0],[1300752000000,0.0],[1300838400000,0.0],[1300924800000,0.0],[1301011200000,0.0],[1301097600000,0.0],[1301184000000,0.0],[1301270400000,0.0],[1301356800000,0.0],[1301443200000,0.0],[1301529600000,0.0],[1301616000000,0.0],[1301702400000,0.0],[1301788800000,0.0],[1301875200000,0.0],[1301961600000,0.0],[1302048000000,0.0],[1302134400000,0.0],[1302220800000,0.0],[1302307200000,0.0],[1302393600000,0.0],[1302480000000,0.0],[1302566400000,0.0],[1302652800000,0.0],[1302739200000,0.0],[1302825600000,0.0],[1302912000000,0.0],[1302998400000,0.0],[1303084800000,0.0],[1303171200000,0.0],[1303257600000,0.0],[1303344000000,0.0],[1303430400000,0.0],[1303516800000,20.9993],[1303603200000,0.0],[1303689600000,0.0],[1303776000000,0.0],[1303862400000,0.0],[1303948800000,9.9973],[1304035200000,8.1898],[1304121600000,0.0],[1304208000000,0.0],[1304294400000,0.0],[1304380800000,0.0],[1304467200000,0.0],[1304553600000,0.0],[1304640000000,0.0],[1304726400000,0.0],[1304812800000,0.0],[1304899200000,0.0],[1304985600000,0.0],[1305072000000,0.0],[1305158400000,0.0],[1305244800000,0.0],[1305331200000,0.0],[1305417600000,0.0],[1305504000000,0.0],[1305590400000,0.0],[1305676800000,0.0],[1305763200000,0.0],[1305849600000,0.0],[1305936000000,0.0],[1306022400000,0.0],[1306108800000,0.0],[1306195200000,0.0],[1306281600000,0.0],[1306368000000,0.0],[1306454400000,0.0],[1306540800000,0.0],[1306627200000,0.0],[1306713600000,0.0],[1306800000000,0.0],[1306886400000,0.0],[1306972800000,0.0262],[1307059200000,0.0],[1307145600000,0.0],[1307232000000,0.0],[1307318400000,0.0],[1307404800000,10.4213],[1307491200000,0.0],[1307577600000,0.0],[1307664000000,0.0],[1307750400000,0.0],[1307836800000,0.0],[1307923200000,0.0],[1308009600000,0.0],[1308096000000,0.0],[1308182400000,0.0],[1308268800000,0.0],[1308355200000,0.0],[1308441600000,0.0],[1308528000000,0.0],[1308614400000,0.0],[1308700800000,0.0],[1308787200000,0.0],[1308873600000,0.0],[1308960000000,0.0],[1309046400000,0.0],[1309132800000,0.0],[1309219200000,0.0],[1309305600000,0.0],[1309392000000,0.0],[1309478400000,0.0],[1309564800000,0.0],[1309651200000,0.0],[1309737600000,0.0],[1309824000000,0.0],[1309910400000,0.0],[1309996800000,0.0],[1310083200000,0.0],[1310169600000,0.0],[1310256000000,0.0],[1310342400000,0.0],[1310428800000,0.0],[1310515200000,0.0],[1310601600000,0.0],[1310688000000,0.0],[1310774400000,0.0],[1310860800000,0.0],[1310947200000,0.0],[1311033600000,0.0],[1311120000000,0.0],[1311206400000,0.0],[1311292800000,0.0],[1311379200000,0.0],[1311465600000,0.0],[1311552000000,0.0],[1311638400000,0.0],[1311724800000,0.0],[1311811200000,0.0],[1311897600000,0.0],[1311984000000,0.0],[1312070400000,0.0],[1312156800000,0.0],[1312243200000,0.0],[1312329600000,0.0],[1312416000000,0.0],[1312502400000,0.0],[1312588800000,0.0],[1312675200000,0.0],[1312761600000,0.0],[1312848000000,0.0],[1312934400000,0.0],[1313020800000,0.0],[1313107200000,0.0],[1313193600000,0.0],[1313280000000,0.0],[1313366400000,0.0],[1313452800000,0.0],[1313539200000,0.0],[1313625600000,0.0],[1313712000000,0.0],[1313798400000,0.0],[1313884800000,0.0],[1313971200000,0.0],[1314057600000,0.0],[1314144000000,0.0],[1314230400000,0.0],[1314316800000,0.0],[1314403200000,0.0],[1314489600000,0.0],[1314576000000,0.0],[1314662400000,0.0],[1314748800000,0.0],[1314835200000,0.0],[1314921600000,0.0],[1315008000000,0.0],[1315094400000,0.0],[1315180800000,0.0],[1315267200000,0.0],[1315353600000,0.0],[1315440000000,0.0],[1315526400000,0.0],[1315612800000,0.0],[1315699200000,0.0],[1315785600000,0.0],[1315872000000,0.0],[1315958400000,0.0],[1316044800000,0.0],[1316131200000,0.0],[1316217600000,0.0],[1316304000000,0.0],[1316390400000,13.3349],[1316476800000,0.0],[1316563200000,0.0],[1316649600000,0.0],[1316736000000,0.0],[1316822400000,0.0],[1316908800000,0.0],[1316995200000,0.0],[1317081600000,0.0],[1317168000000,0.0],[1317254400000,0.0],[1317340800000,0.0],[1317427200000,0.0],[1317513600000,0.0],[1317600000000,0.0],[1317686400000,0.0],[1317772800000,0.0],[1317859200000,0.0],[1317945600000,0.0],[1318032000000,0.0],[1318118400000,0.0],[1318204800000,0.0],[1318291200000,0.0],[1318377600000,0.0],[1318464000000,0.0],[1318550400000,0.0],[1318636800000,0.0],[1318723200000,0.0],[1318809600000,0.0],[1318896000000,0.0],[1318982400000,0.0],[1319068800000,0.0],[1319155200000,0.0],[1319241600000,0.0],[1319328000000,0.0],[1319414400000,0.0],[1319500800000,0.0],[1319587200000,0.0],[1319673600000,0.0],[1319760000000,0.0],[1319846400000,0.0],[1319932800000,0.0],[1320019200000,0.0],[1320105600000,0.0],[1320192000000,0.0],[1320278400000,0.0],[1320364800000,0.0],[1320451200000,0.0],[1320537600000,0.0],[1320624000000,0.0],[1320710400000,0.0],[1320796800000,0.0],[1320883200000,0.0],[1320969600000,0.0],[1321056000000,0.0],[1321142400000,0.0],[1321228800000,0.0],[1321315200000,0.0],[1321401600000,0.0],[1321488000000,0.0],[1321574400000,0.0],[1321660800000,0.0],[1321747200000,0.0],[1321833600000,0.0],[1321920000000,0.0],[1322006400000,0.0],[1322092800000,0.0],[1322179200000,0.0],[1322265600000,0.0],[1322352000000,0.0],[1322438400000,0.0],[1322524800000,0.0],[1322611200000,0.0],[1322697600000,0.0],[1322784000000,0.0],[1322870400000,0.0],[1322956800000,0.0],[1323043200000,0.0],[1323129600000,0.0],[1323216000000,0.0],[1323302400000,0.0],[1323388800000,0.0],[1323475200000,0.0],[1323561600000,0.0],[1323648000000,0.0],[1323734400000,0.0],[1323820800000,0.0],[1323907200000,0.0],[1323993600000,0.0],[1324080000000,0.0],[1324166400000,0.0],[1324252800000,15.0455],[1324339200000,0.0],[1324425600000,0.0],[1324512000000,0.0],[1324598400000,0.0],[1324684800000,0.0],[1324771200000,0.0],[1324857600000,0.0],[1324944000000,0.0],[1325030400000,0.0],[1325116800000,0.0],[1325203200000,0.0],[1325289600000,0.0],[1325376000000,0.0],[1325462400000,0.0],[1325548800000,0.0],[1325635200000,0.0],[1325721600000,0.0],[1325808000000,0.0],[1325894400000,0.0],[1325980800000,0.0],[1326067200000,0.0],[1326153600000,0.0],[1326240000000,0.0],[1326326400000,0.0],[1326412800000,0.0],[1326499200000,0.0],[1326585600000,0.0],[1326672000000,0.0],[1326758400000,0.0],[1326844800000,0.0],[1326931200000,0.0],[1327017600000,0.0],[1327104000000,0.0],[1327190400000,0.0],[1327276800000,0.0],[1327363200000,0.0],[1327449600000,0.0],[1327536000000,0.0],[1327622400000,0.0],[1327708800000,0.0],[1327795200000,0.0],[1327881600000,0.0],[1327968000000,0.0],[1328054400000,0.0],[1328140800000,0.0],[1328227200000,0.0],[1328313600000,0.0],[1328400000000,0.0],[1328486400000,0.0],[1328572800000,0.0],[1328659200000,0.0],[1328745600000,0.0],[1328832000000,0.0],[1328918400000,0.0],[1329004800000,0.0],[1329091200000,0.0],[1329177600000,0.0],[1329264000000,0.0],[1329350400000,0.0],[1329436800000,0.0],[1329523200000,0.0],[1329609600000,0.0],[1329696000000,0.0],[1329782400000,0.0],[1329868800000,0.0],[1329955200000,0.0],[1330041600000,0.0],[1330128000000,0.0],[1330214400000,0.0],[1330300800000,0.0],[1330387200000,0.0],[1330473600000,0.0],[1330560000000,0.0],[1330646400000,0.0],[1330732800000,0.0],[1330819200000,0.0],[1330905600000,0.0],[1330992000000,0.0],[1331078400000,0.0],[1331164800000,0.0],[1331251200000,0.0],[1331337600000,0.0],[1331424000000,0.0],[1331510400000,0.0],[1331596800000,0.0],[1331683200000,0.0],[1331769600000,0.0],[1331856000000,0.0],[1331942400000,0.0],[1332028800000,0.0],[1332115200000,0.0],[1332201600000,0.0],[1332288000000,0.0],[1332374400000,0.0],[1332460800000,0.0],[1332547200000,0.0],[1332633600000,0.0],[1332720000000,0.0],[1332806400000,0.0],[1332892800000,0.0],[1332979200000,0.0],[1333065600000,0.0],[1333152000000,0.0],[1333238400000,0.0],[1333324800000,0.0],[1333411200000,0.0],[1333497600000,0.0],[1333584000000,0.0],[1333670400000,0.0],[1333756800000,0.0],[1333843200000,0.0],[1333929600000,0.0],[1334016000000,0.0],[1334102400000,0.0],[1334188800000,0.0],[1334275200000,0.0],[1334361600000,0.0],[1334448000000,0.0],[1334534400000,0.0],[1334620800000,0.0],[1334707200000,0.0],[1334793600000,0.0],[1334880000000,0.0],[1334966400000,0.0],[1335052800000,0.0],[1335139200000,0.0],[1335225600000,0.0],[1335312000000,0.0],[1335398400000,0.0],[1335484800000,0.0],[1335571200000,0.0],[1335657600000,0.0],[1335744000000,0.0],[1335830400000,0.0],[1335916800000,0.0],[1336003200000,0.0],[1336089600000,0.0],[1336176000000,0.0],[1336262400000,0.0],[1336348800000,0.0],[1336435200000,0.0],[1336521600000,0.0],[1336608000000,0.0],[1336694400000,0.0],[1336780800000,0.0],[1336867200000,0.0],[1336953600000,0.0],[1337040000000,0.0],[1337126400000,0.0],[1337212800000,0.0],[1337299200000,0.0],[1337385600000,0.0],[1337472000000,0.0],[1337558400000,0.0],[1337644800000,0.0],[1337731200000,0.0],[1337817600000,0.0],[1337904000000,0.0],[1337990400000,0.0],[1338076800000,0.0],[1338163200000,0.0],[1338249600000,0.0],[1338336000000,0.0],[1338422400000,0.0],[1338508800000,0.0],[1338595200000,0.0],[1338681600000,0.0],[1338768000000,0.0],[1338854400000,0.0],[1338940800000,0.0],[1339027200000,0.0],[1339113600000,0.0],[1339200000000,0.0],[1339286400000,0.0],[1339372800000,0.0],[1339459200000,0.0],[1339545600000,0.337],[1339632000000,0.0],[1339718400000,0.0],[1339804800000,1.7041],[1339891200000,0.0],[1339977600000,0.0],[1340064000000,0.0],[1340150400000,0.0],[1340236800000,0.0],[1340323200000,0.0],[1340409600000,0.0],[1340496000000,0.0],[1340582400000,0.0],[1340668800000,0.0],[1340755200000,0.0],[1340841600000,0.0],[1340928000000,0.0],[1341014400000,0.0],[1341100800000,0.0],[1341187200000,0.0],[1341273600000,0.0],[1341360000000,0.0],[1341446400000,0.0],[1341532800000,0.0],[1341619200000,0.0],[1341705600000,0.0],[1341792000000,0.0],[1341878400000,0.0],[1341964800000,0.0],[1342051200000,0.7966],[1342137600000,0.0],[1342224000000,0.0],[1342310400000,0.4446],[1342396800000,0.0],[1342483200000,10.031],[1342569600000,0.0],[1342656000000,0.0],[1342742400000,0.0],[1342828800000,0.0],[1342915200000,0.0],[1343001600000,0.0],[1343088000000,0.0],[1343174400000,0.0],[1343260800000,0.0],[1343347200000,0.0],[1343433600000,0.0],[1343520000000,0.0],[1343606400000,0.0],[1343692800000,0.0],[1343779200000,0.0],[1343865600000,1.3601],[1343952000000,0.0],[1344038400000,0.0],[1344124800000,0.0],[1344211200000,0.0],[1344297600000,0.0],[1344384000000,0.0],[1344470400000,0.0],[1344556800000,0.0],[1344643200000,0.0],[1344729600000,0.0],[1344816000000,0.0],[1344902400000,0.0],[1344988800000,0.0],[1345075200000,9.329],[1345161600000,0.0],[1345248000000,0.0],[1345334400000,-14.6509],[1345420800000,0.0],[1345507200000,0.0],[1345593600000,0.0],[1345680000000,0.0],[1345766400000,0.0],[1345852800000,0.0],[1345939200000,0.0],[1346025600000,0.0],[1346112000000,0.0],[1346198400000,0.0],[1346284800000,0.0],[1346371200000,0.0],[1346457600000,0.0],[1346544000000,0.0],[1346630400000,0.0],[1346716800000,0.0],[1346803200000,0.0],[1346889600000,0.0],[1346976000000,0.0],[1347062400000,0.0],[1347148800000,0.0],[1347235200000,0.0],[1347321600000,0.0],[1347408000000,0.0],[1347494400000,0.0],[1347580800000,0.0],[1347667200000,0.0],[1347753600000,0.0],[1347840000000,0.0],[1347926400000,0.0],[1348012800000,0.0],[1348099200000,0.0],[1348185600000,0.0],[1348272000000,0.0],[1348358400000,0.0],[1348444800000,0.0],[1348531200000,0.0],[1348617600000,0.0],[1348704000000,0.0],[1348790400000,0.0],[1348876800000,0.0],[1348963200000,0.0],[1349049600000,0.0],[1349136000000,0.0],[1349222400000,0.0],[1349308800000,0.0],[1349395200000,0.0],[1349481600000,0.0],[1349568000000,0.0],[1349654400000,0.0],[1349740800000,0.0],[1349827200000,0.0],[1349913600000,0.0],[1350000000000,0.0],[1350086400000,0.0],[1350172800000,0.0],[1350259200000,0.0],[1350345600000,0.0],[1350432000000,0.0],[1350518400000,0.0],[1350604800000,0.0],[1350691200000,0.0],[1350777600000,0.0],[1350864000000,0.0],[1350950400000,0.0],[1351036800000,0.0],[1351123200000,0.0],[1351209600000,0.0],[1351296000000,0.0],[1351382400000,0.0],[1351468800000,0.0],[1351555200000,0.0],[1351641600000,0.0],[1351728000000,0.0],[1351814400000,0.0],[1351900800000,0.0],[1351987200000,0.0],[1352073600000,0.0],[1352160000000,0.0],[1352246400000,0.0],[1352332800000,0.0],[1352419200000,0.0],[1352505600000,0.0],[1352592000000,0.0],[1352678400000,0.0],[1352764800000,0.0],[1352851200000,0.0],[1352937600000,0.0],[1353024000000,0.0],[1353110400000,0.0],[1353196800000,0.0],[1353283200000,0.0],[1353369600000,0.0],[1353456000000,0.0],[1353542400000,0.0],[1353628800000,0.0],[1353715200000,0.0],[1353801600000,0.0],[1353888000000,0.0],[1353974400000,0.0],[1354060800000,0.0],[1354147200000,0.0],[1354233600000,0.0],[1354320000000,0.0],[1354406400000,0.0],[1354492800000,0.0],[1354579200000,0.0],[1354665600000,0.0],[1354752000000,0.0],[1354838400000,0.0],[1354924800000,0.0],[1355011200000,0.0],[1355097600000,0.0],[1355184000000,0.0],[1355270400000,0.0],[1355356800000,0.0],[1355443200000,0.0],[1355529600000,0.0],[1355616000000,0.0],[1355702400000,0.0],[1355788800000,0.0],[1355875200000,0.0],[1355961600000,0.0],[1356048000000,0.0],[1356134400000,0.0],[1356220800000,0.0],[1356307200000,0.0],[1356393600000,0.0],[1356480000000,0.0],[1356566400000,0.0],[1356652800000,0.0],[1356739200000,0.0],[1356825600000,0.0],[1356912000000,0.0],[1356998400000,0.0],[1357084800000,0.0],[1357171200000,0.0],[1357257600000,0.0],[1357344000000,0.0],[1357430400000,0.0],[1357516800000,0.0],[1357603200000,0.0],[1357689600000,0.0],[1357776000000,0.0],[1357862400000,0.0],[1357948800000,0.0],[1358035200000,0.0],[1358121600000,0.0],[1358208000000,0.0],[1358294400000,0.9065],[1358380800000,0.0],[1358467200000,0.0],[1358553600000,0.0],[1358640000000,0.0],[1358726400000,0.0],[1358812800000,0.0],[1358899200000,4.2392],[1358985600000,0.0],[1359072000000,0.0],[1359158400000,0.0],[1359244800000,0.0],[1359331200000,0.0],[1359417600000,0.0],[1359504000000,4.3284],[1359590400000,0.0],[1359676800000,0.0],[1359763200000,0.0],[1359849600000,0.0],[1359936000000,0.0],[1360022400000,0.0],[1360108800000,0.0],[1360195200000,0.0],[1360281600000,0.0],[1360368000000,0.0],[1360454400000,0.0],[1360540800000,0.0],[1360627200000,0.0],[1360713600000,0.0],[1360800000000,0.0],[1360886400000,0.0],[1360972800000,0.0],[1361059200000,0.0],[1361145600000,0.0],[1361232000000,0.0],[1361318400000,0.0],[1361404800000,0.0],[1361491200000,0.0],[1361577600000,0.0],[1361664000000,0.0],[1361750400000,0.0],[1361836800000,0.0],[1361923200000,0.0],[1362009600000,0.0],[1362096000000,0.0],[1362182400000,0.0],[1362268800000,0.0],[1362355200000,3.1011],[1362441600000,3.4395],[1362528000000,-1.2185],[1362614400000,0.0],[1362700800000,0.0],[1362787200000,0.0],[1362873600000,0.0],[1362960000000,0.0],[1363046400000,0.0],[1363132800000,0.0],[1363219200000,0.0],[1363305600000,0.0],[1363392000000,0.0],[1363478400000,0.0],[1363564800000,4.1026],[1363651200000,0.0],[1363737600000,18.516],[1363824000000,0.0],[1363910400000,0.0],[1363996800000,0.0],[1364083200000,0.0],[1364169600000,0.0],[1364256000000,0.0],[1364342400000,0.7525],[1364428800000,0.0],[1364515200000,0.0],[1364601600000,0.0],[1364688000000,0.0],[1364774400000,0.0],[1364860800000,18.1159],[1364947200000,0.0],[1365033600000,0.0],[1365120000000,0.0],[1365206400000,0.0],[1365292800000,0.0],[1365379200000,0.0],[1365465600000,0.0],[1365552000000,-2.5318],[1365638400000,0.0],[1365724800000,0.0],[1365811200000,0.0],[1365897600000,0.0],[1365984000000,0.0],[1366070400000,0.0],[1366156800000,0.0],[1366243200000,0.0],[1366329600000,0.0],[1366416000000,0.0],[1366502400000,0.0],[1366588800000,0.0],[1366675200000,0.0],[1366761600000,0.0],[1366848000000,0.0],[1366934400000,0.0],[1367020800000,0.0],[1367107200000,0.0],[1367193600000,0.0],[1367280000000,0.0],[1367366400000,0.0],[1367452800000,0.0],[1367539200000,0.0],[1367625600000,0.0],[1367712000000,0.0],[1367798400000,0.0],[1367884800000,0.0],[1367971200000,0.0],[1368057600000,0.0],[1368144000000,0.0],[1368230400000,0.0],[1368316800000,0.0],[1368403200000,0.0],[1368489600000,0.0],[1368576000000,0.0],[1368662400000,0.0],[1368748800000,0.0],[1368835200000,0.0],[1368921600000,0.0],[1369008000000,0.0],[1369094400000,0.0],[1369180800000,0.0],[1369267200000,0.0],[1369353600000,0.0],[1369440000000,0.0],[1369526400000,0.0],[1369612800000,0.0],[1369699200000,0.0],[1369785600000,0.0],[1369872000000,0.0],[1369958400000,0.0],[1370044800000,0.0],[1370131200000,0.0],[1370217600000,0.0],[1370304000000,0.0],[1370390400000,0.0],[1370476800000,0.0],[1370563200000,0.0],[1370649600000,0.0],[1370736000000,0.0],[1370822400000,0.0],[1370908800000,0.0],[1370995200000,0.0],[1371081600000,0.0],[1371168000000,0.0],[1371254400000,0.0],[1371340800000,0.0],[1371427200000,0.0],[1371513600000,0.0],[1371600000000,0.0],[1371686400000,0.0],[1371772800000,0.0],[1371859200000,0.0],[1371945600000,0.0],[1372032000000,0.0],[1372118400000,0.0],[1372204800000,0.0],[1372291200000,0.0],[1372377600000,0.0],[1372464000000,0.0],[1372550400000,0.0],[1372636800000,0.0],[1372723200000,0.0],[1372809600000,0.0],[1372896000000,0.0],[1372982400000,0.0],[1373068800000,0.0],[1373155200000,0.0],[1373241600000,0.0],[1373328000000,0.0],[1373414400000,0.0],[1373500800000,0.0],[1373587200000,0.0],[1373673600000,0.0],[1373760000000,0.0],[1373846400000,0.0],[1373932800000,0.0],[1374019200000,0.0],[1374105600000,0.0],[1374192000000,0.0],[1374278400000,0.0],[1374364800000,0.0],[1374451200000,0.0],[1374537600000,0.0],[1374624000000,0.0],[1374710400000,0.0],[1374796800000,0.0],[1374883200000,0.0],[1374969600000,0.0],[1375056000000,0.0],[1375142400000,0.0],[1375228800000,0.0],[1375315200000,0.0],[1375401600000,0.0],[1375488000000,0.0],[1375574400000,0.0],[1375660800000,0.0],[1375747200000,0.0],[1375833600000,0.0],[1375920000000,0.0],[1376006400000,0.0],[1376092800000,0.0],[1376179200000,0.0],[1376265600000,0.0],[1376352000000,0.0],[1376438400000,0.0],[1376524800000,0.0],[1376611200000,0.0],[1376697600000,0.0],[1376784000000,0.0],[1376870400000,0.0],[1376956800000,0.0],[1377043200000,0.0],[1377129600000,0.0],[1377216000000,0.0],[1377302400000,0.0],[1377388800000,0.0],[1377475200000,0.0],[1377561600000,0.0],[1377648000000,0.0],[1377734400000,0.0],[1377820800000,0.0],[1377907200000,0.0],[1377993600000,0.0],[1378080000000,0.0],[1378166400000,0.0],[1378252800000,0.0],[1378339200000,0.0],[1378425600000,0.0],[1378512000000,0.0],[1378598400000,0.0],[1378684800000,0.0],[1378771200000,0.0],[1378857600000,0.0],[1378944000000,0.0],[1379030400000,0.0],[1379116800000,0.0],[1379203200000,0.0],[1379289600000,0.0],[1379376000000,0.0],[1379462400000,0.0],[1379548800000,0.0],[1379635200000,0.0],[1379721600000,0.0],[1379808000000,0.0],[1379894400000,0.0],[1379980800000,0.0],[1380067200000,0.0],[1380153600000,0.0],[1380240000000,0.0],[1380326400000,0.0],[1380412800000,0.0],[1380499200000,0.0],[1380585600000,-2.3779],[1380672000000,6.3141],[1380758400000,0.0],[1380844800000,0.0],[1380931200000,0.0],[1381017600000,0.0],[1381104000000,0.0],[1381190400000,0.0],[1381276800000,0.0],[1381363200000,0.0],[1381449600000,0.0],[1381536000000,0.0],[1381622400000,0.0],[1381708800000,0.0],[1381795200000,0.0],[1381881600000,0.0],[1381968000000,0.0],[1382054400000,0.0],[1382140800000,0.0],[1382227200000,0.0],[1382313600000,0.0],[1382400000000,0.0],[1382486400000,0.0],[1382572800000,0.0],[1382659200000,0.0],[1382745600000,0.0],[1382832000000,0.0],[1382918400000,0.0],[1383004800000,0.0],[1383091200000,0.0],[1383177600000,0.0],[1383264000000,0.0],[1383350400000,0.0],[1383436800000,0.0],[1383523200000,0.0],[1383609600000,4.4359],[1383696000000,0.0],[1383782400000,7.8765],[1383868800000,0.0],[1383955200000,0.0],[1384041600000,0.0],[1384128000000,0.0],[1384214400000,0.0],[1384300800000,0.0],[1384387200000,0.0],[1384473600000,0.0],[1384560000000,0.0],[1384646400000,0.0],[1384732800000,3.1329],[1384819200000,0.0],[1384905600000,0.0],[1384992000000,10.8779],[1385078400000,0.0],[1385164800000,0.0],[1385251200000,0.0],[1385337600000,0.0],[1385424000000,0.0],[1385510400000,0.0],[1385596800000,0.0],[1385683200000,0.0],[1385769600000,0.0],[1385856000000,0.0],[1385942400000,0.0],[1386028800000,0.0],[1386115200000,0.0],[1386201600000,0.0],[1386288000000,0.0],[1386374400000,-2.7408],[1386460800000,0.0],[1386547200000,0.0],[1386633600000,0.0],[1386720000000,0.0],[1386806400000,0.0],[1386892800000,0.0],[1386979200000,0.0],[1387065600000,0.0],[1387152000000,0.0],[1387238400000,-0.5068],[1387324800000,0.0],[1387411200000,0.0],[1387497600000,0.0],[1387584000000,0.0],[1387670400000,0.0],[1387756800000,0.0],[1387843200000,0.0],[1387929600000,0.0],[1388016000000,0.0],[1388102400000,0.0],[1388188800000,0.0],[1388275200000,0.0],[1388361600000,0.0],[1388448000000,0.0],[1388534400000,0.0],[1388620800000,0.0],[1388707200000,0.0],[1388793600000,0.0],[1388880000000,0.0],[1388966400000,0.0],[1389052800000,0.0],[1389139200000,0.0],[1389225600000,0.0],[1389312000000,0.0],[1389398400000,0.0],[1389484800000,0.0],[1389571200000,0.0],[1389657600000,0.0],[1389744000000,0.0],[1389830400000,0.0],[1389916800000,0.0],[1390003200000,0.0],[1390089600000,0.0],[1390176000000,0.0],[1390262400000,0.0],[1390348800000,0.0],[1390435200000,0.0],[1390521600000,0.0],[1390608000000,0.0],[1390694400000,0.0],[1390780800000,0.0],[1390867200000,0.0],[1390953600000,0.0],[1391040000000,0.0],[1391126400000,0.0],[1391212800000,0.0],[1391299200000,0.0],[1391385600000,0.0],[1391472000000,0.0],[1391558400000,0.0],[1391644800000,0.0],[1391731200000,0.0],[1391817600000,0.0],[1391904000000,0.0],[1391990400000,0.0],[1392076800000,0.0],[1392163200000,0.0],[1392249600000,0.0],[1392336000000,0.0],[1392422400000,0.0],[1392508800000,0.0],[1392595200000,0.0],[1392681600000,0.0],[1392768000000,0.0],[1392854400000,0.0],[1392940800000,0.0],[1393027200000,0.0],[1393113600000,0.0],[1393200000000,0.0],[1393286400000,0.0],[1393372800000,0.0],[1393459200000,0.0],[1393545600000,0.0],[1393632000000,0.0],[1393718400000,0.0],[1393804800000,0.0],[1393891200000,0.0],[1393977600000,0.0],[1394064000000,0.0],[1394150400000,0.0],[1394236800000,0.0],[1394323200000,0.0],[1394409600000,0.0],[1394496000000,0.0],[1394582400000,0.0],[1394668800000,0.0],[1394755200000,0.0],[1394841600000,0.0],[1394928000000,0.0],[1395014400000,0.0],[1395100800000,0.0],[1395187200000,0.0],[1395273600000,0.0],[1395360000000,0.0],[1395446400000,0.0],[1395532800000,0.0],[1395619200000,0.0],[1395705600000,0.0],[1395792000000,0.0],[1395878400000,0.0],[1395964800000,0.0],[1396051200000,0.0],[1396137600000,0.0],[1396224000000,0.0],[1396310400000,0.0],[1396396800000,0.0],[1396483200000,0.0],[1396569600000,0.0],[1396656000000,0.0],[1396742400000,0.0],[1396828800000,0.0],[1396915200000,0.0],[1397001600000,0.0],[1397088000000,0.0],[1397174400000,0.0],[1397260800000,0.0],[1397347200000,0.0],[1397433600000,0.0],[1397520000000,5.4268],[1397606400000,0.0],[1397692800000,0.0],[1397779200000,0.0],[1397865600000,0.0],[1397952000000,0.0],[1398038400000,0.0],[1398124800000,0.0],[1398211200000,0.0],[1398297600000,0.0],[1398384000000,0.0],[1398470400000,0.0],[1398556800000,0.0],[1398643200000,0.0],[1398729600000,0.0],[1398816000000,0.0],[1398902400000,0.0],[1398988800000,0.0],[1399075200000,0.0],[1399161600000,0.0],[1399248000000,0.0],[1399334400000,0.0],[1399420800000,0.0],[1399507200000,0.0],[1399593600000,0.0],[1399680000000,0.0],[1399766400000,0.0],[1399852800000,0.0],[1399939200000,0.0],[1400025600000,0.0],[1400112000000,0.0],[1400198400000,0.0],[1400284800000,0.0],[1400371200000,0.0],[1400457600000,0.0],[1400544000000,0.0],[1400630400000,0.0],[1400716800000,0.0],[1400803200000,0.0],[1400889600000,0.0],[1400976000000,0.0],[1401062400000,0.0],[1401148800000,0.0],[1401235200000,0.0],[1401321600000,0.0],[1401408000000,0.0],[1401494400000,0.0],[1401580800000,0.0],[1401667200000,0.0],[1401753600000,0.0],[1401840000000,0.0],[1401926400000,0.0],[1402012800000,0.0],[1402099200000,0.0],[1402185600000,0.0],[1402272000000,0.0],[1402358400000,0.0],[1402444800000,0.0],[1402531200000,0.0],[1402617600000,0.0],[1402704000000,0.0],[1402790400000,0.0],[1402876800000,0.0],[1402963200000,0.0],[1403049600000,0.0],[1403136000000,0.0],[1403222400000,0.0],[1403308800000,0.0],[1403395200000,0.0],[1403481600000,0.0],[1403568000000,0.0],[1403654400000,0.0],[1403740800000,0.0],[1403827200000,0.0],[1403913600000,0.0],[1404000000000,0.0],[1404086400000,0.0],[1404172800000,0.0],[1404259200000,0.0],[1404345600000,0.0],[1404432000000,0.0],[1404518400000,0.0],[1404604800000,0.0],[1404691200000,0.0],[1404777600000,0.0],[1404864000000,0.0],[1404950400000,0.0],[1405036800000,0.0],[1405123200000,0.0],[1405209600000,0.0],[1405296000000,0.0],[1405382400000,0.0],[1405468800000,0.0],[1405555200000,0.0],[1405641600000,0.0],[1405728000000,0.0],[1405814400000,0.0],[1405900800000,0.0],[1405987200000,0.0],[1406073600000,0.0],[1406160000000,0.0],[1406246400000,0.0],[1406332800000,0.0],[1406419200000,0.0],[1406505600000,0.0],[1406592000000,0.0],[1406678400000,0.0],[1406764800000,0.0],[1406851200000,0.0],[1406937600000,0.0],[1407024000000,0.0],[1407110400000,0.0],[1407196800000,0.0],[1407283200000,0.0],[1407369600000,0.0],[1407456000000,0.0],[1407542400000,0.0],[1407628800000,0.0],[1407715200000,0.0],[1407801600000,0.0],[1407888000000,0.0],[1407974400000,0.0],[1408060800000,0.0],[1408147200000,0.0],[1408233600000,0.0],[1408320000000,0.0],[1408406400000,0.0],[1408492800000,0.0279],[1408579200000,0.0],[1408665600000,0.0],[1408752000000,0.0],[1408838400000,0.0],[1408924800000,0.0],[1409011200000,0.0],[1409097600000,0.0],[1409184000000,0.0],[1409270400000,0.0],[1409356800000,0.0],[1409443200000,0.0],[1409529600000,0.0],[1409616000000,0.0],[1409702400000,0.0],[1409788800000,0.0],[1409875200000,0.0],[1409961600000,0.0],[1410048000000,0.0],[1410134400000,0.0],[1410220800000,0.0],[1410307200000,0.0],[1410393600000,0.0],[1410480000000,0.0],[1410566400000,0.0],[1410652800000,0.0],[1410739200000,0.0],[1410825600000,0.0],[1410912000000,0.0],[1410998400000,0.0],[1411084800000,0.0],[1411171200000,0.0],[1411257600000,0.0],[1411344000000,0.0],[1411430400000,0.0],[1411516800000,0.0],[1411603200000,0.0],[1411689600000,0.0],[1411776000000,0.0],[1411862400000,0.0],[1411948800000,0.0],[1412035200000,0.0],[1412121600000,0.0],[1412208000000,0.0],[1412294400000,0.0],[1412380800000,-9.5232],[1412467200000,1.0712],[1412553600000,0.0],[1412640000000,0.0],[1412726400000,0.0],[1412812800000,0.0],[1412899200000,0.0],[1412985600000,0.0],[1413072000000,0.0],[1413158400000,0.0],[1413244800000,0.0],[1413331200000,0.0],[1413417600000,0.0],[1413504000000,0.0],[1413590400000,0.0],[1413676800000,0.0],[1413763200000,0.0],[1413849600000,0.0],[1413936000000,0.0],[1414022400000,0.0],[1414108800000,0.0],[1414195200000,0.0],[1414281600000,0.0],[1414368000000,0.0],[1414454400000,0.0],[1414540800000,0.0],[1414627200000,0.0],[1414713600000,0.0],[1414800000000,0.0],[1414886400000,0.0],[1414972800000,0.0],[1415059200000,0.0],[1415145600000,0.0],[1415232000000,0.0],[1415318400000,0.0],[1415404800000,0.0],[1415491200000,0.0],[1415577600000,0.0],[1415664000000,2.6672],[1415750400000,0.0],[1415836800000,0.0],[1415923200000,0.0],[1416009600000,0.0],[1416096000000,0.0],[1416182400000,0.0],[1416268800000,0.0],[1416355200000,0.0],[1416441600000,0.0],[1416528000000,0.0],[1416614400000,0.0],[1416700800000,0.0],[1416787200000,0.0],[1416873600000,0.0],[1416960000000,0.0],[1417046400000,0.0],[1417132800000,0.0],[1417219200000,0.0],[1417305600000,0.0],[1417392000000,0.0],[1417478400000,0.0],[1417564800000,0.0],[1417651200000,0.0],[1417737600000,0.0],[1417824000000,0.0],[1417910400000,0.0],[1417996800000,0.0],[1418083200000,0.0],[1418169600000,0.0],[1418256000000,0.0],[1418342400000,0.0],[1418428800000,0.0],[1418515200000,0.0],[1418601600000,0.0],[1418688000000,0.0],[1418774400000,0.0],[1418860800000,0.0],[1418947200000,0.0],[1419033600000,0.0],[1419120000000,0.0],[1419206400000,0.0],[1419292800000,0.0],[1419379200000,0.0],[1419465600000,0.0],[1419552000000,0.0],[1419638400000,0.0],[1419724800000,0.0],[1419811200000,0.0],[1419897600000,0.0],[1419984000000,0.0],[1420070400000,0.0],[1420156800000,0.0],[1420243200000,0.0],[1420329600000,0.0],[1420416000000,0.0],[1420502400000,0.0],[1420588800000,0.0],[1420675200000,0.0],[1420761600000,0.0],[1420848000000,0.0],[1420934400000,0.0],[1421020800000,-1.1375],[1421107200000,2.1224],[1421193600000,-2.9368],[1421280000000,0.0],[1421366400000,0.0],[1421452800000,0.0],[1421539200000,0.0],[1421625600000,0.0],[1421712000000,0.0],[1421798400000,0.0],[1421884800000,0.0],[1421971200000,0.0],[1422057600000,0.0],[1422144000000,0.0],[1422230400000,0.0],[1422316800000,0.0],[1422403200000,0.0],[1422489600000,0.0],[1422576000000,0.0],[1422662400000,0.0],[1422748800000,0.0],[1422835200000,0.0],[1422921600000,0.0],[1423008000000,0.0],[1423094400000,0.0],[1423180800000,0.0],[1423267200000,0.0],[1423353600000,0.0],[1423440000000,0.0],[1423526400000,0.0],[1423612800000,0.0],[1423699200000,0.0],[1423785600000,0.0],[1423872000000,0.0],[1423958400000,0.0],[1424044800000,0.0],[1424131200000,0.0],[1424217600000,0.0],[1424304000000,0.0],[1424390400000,0.0],[1424476800000,0.0],[1424563200000,0.0],[1424649600000,0.0],[1424736000000,0.0],[1424822400000,0.0],[1424908800000,0.0],[1424995200000,0.0],[1425081600000,0.0],[1425168000000,0.0],[1425254400000,0.0],[1425340800000,0.0],[1425427200000,0.0],[1425513600000,0.0],[1425600000000,0.0],[1425686400000,0.0],[1425772800000,0.0],[1425859200000,0.0],[1425945600000,0.0],[1426032000000,0.0],[1426118400000,0.0],[1426204800000,0.0],[1426291200000,0.0],[1426377600000,0.0],[1426464000000,0.0],[1426550400000,0.0],[1426636800000,0.0],[1426723200000,0.0],[1426809600000,0.0],[1426896000000,0.0],[1426982400000,0.0],[1427068800000,0.0],[1427155200000,0.0],[1427241600000,0.0],[1427328000000,0.0],[1427414400000,0.0],[1427500800000,0.0],[1427587200000,0.0],[1427673600000,0.0],[1427760000000,0.0],[1427846400000,0.0],[1427932800000,0.0],[1428019200000,0.0],[1428105600000,0.0],[1428192000000,0.0],[1428278400000,0.0],[1428364800000,0.0],[1428451200000,0.0],[1428537600000,0.0],[1428624000000,0.0],[1428710400000,0.0],[1428796800000,0.0],[1428883200000,0.0],[1428969600000,0.0],[1429056000000,0.0],[1429142400000,0.0],[1429228800000,0.0],[1429315200000,0.0],[1429401600000,0.0],[1429488000000,0.0],[1429574400000,0.0],[1429660800000,0.0],[1429747200000,0.0],[1429833600000,0.0],[1429920000000,0.0],[1430006400000,0.0],[1430092800000,0.0],[1430179200000,0.0],[1430265600000,0.0],[1430352000000,0.0],[1430438400000,0.0],[1430524800000,0.0],[1430611200000,0.0],[1430697600000,0.0],[1430784000000,0.0],[1430870400000,0.0],[1430956800000,0.0],[1431043200000,0.0],[1431129600000,0.0],[1431216000000,0.0],[1431302400000,0.0],[1431388800000,0.0],[1431475200000,0.0],[1431561600000,0.0],[1431648000000,0.0],[1431734400000,0.0],[1431820800000,0.0],[1431907200000,0.0],[1431993600000,0.0],[1432080000000,0.0],[1432166400000,0.0],[1432252800000,0.0],[1432339200000,0.0],[1432425600000,0.0],[1432512000000,0.0],[1432598400000,0.0],[1432684800000,0.0],[1432771200000,0.0],[1432857600000,0.0],[1432944000000,0.0],[1433030400000,0.0],[1433116800000,0.0],[1433203200000,0.0],[1433289600000,0.0],[1433376000000,0.0],[1433462400000,0.0],[1433548800000,0.0],[1433635200000,0.0],[1433721600000,0.0],[1433808000000,0.0],[1433894400000,0.0],[1433980800000,0.0],[1434067200000,0.0],[1434153600000,0.0],[1434240000000,0.0],[1434326400000,0.0],[1434412800000,0.0],[1434499200000,0.0],[1434585600000,0.0],[1434672000000,0.0],[1434758400000,0.0],[1434844800000,0.0],[1434931200000,0.0],[1435017600000,0.0],[1435104000000,0.0],[1435190400000,0.0],[1435276800000,0.0],[1435363200000,0.0],[1435449600000,0.0],[1435536000000,0.0],[1435622400000,0.0],[1435708800000,0.0],[1435795200000,0.0],[1435881600000,0.0],[1435968000000,0.0],[1436054400000,0.0],[1436140800000,0.0],[1436227200000,0.0],[1436313600000,0.0],[1436400000000,0.0],[1436486400000,0.5778],[1436572800000,0.0],[1436659200000,0.0],[1436745600000,0.0],[1436832000000,0.0],[1436918400000,0.0],[1437004800000,0.0],[1437091200000,0.0],[1437177600000,0.0],[1437264000000,0.0],[1437350400000,0.0],[1437436800000,0.0],[1437523200000,0.0],[1437609600000,0.0],[1437696000000,0.0],[1437782400000,0.0],[1437868800000,0.0],[1437955200000,0.0],[1438041600000,0.0],[1438128000000,0.0],[1438214400000,0.0],[1438300800000,0.0],[1438387200000,0.0],[1438473600000,0.0],[1438560000000,0.0],[1438646400000,0.0],[1438732800000,0.0],[1438819200000,0.0],[1438905600000,0.0],[1438992000000,0.0],[1439078400000,0.0],[1439164800000,0.0],[1439251200000,0.0],[1439337600000,0.0],[1439424000000,0.0],[1439510400000,0.0],[1439596800000,0.0],[1439683200000,0.0],[1439769600000,0.0],[1439856000000,0.0],[1439942400000,-0.1331],[1440028800000,0.0],[1440115200000,0.0],[1440201600000,0.0],[1440288000000,0.0],[1440374400000,0.0],[1440460800000,0.0],[1440547200000,0.0],[1440633600000,0.0],[1440720000000,0.0],[1440806400000,0.0],[1440892800000,0.0],[1440979200000,0.0],[1441065600000,0.0],[1441152000000,0.0],[1441238400000,0.0],[1441324800000,0.0],[1441411200000,0.0],[1441497600000,0.0],[1441584000000,0.0],[1441670400000,0.0],[1441756800000,0.0],[1441843200000,0.0],[1441929600000,0.0],[1442016000000,0.0],[1442102400000,0.0],[1442188800000,0.0],[1442275200000,0.0],[1442361600000,0.0],[1442448000000,0.0],[1442534400000,0.0],[1442620800000,0.0],[1442707200000,0.0],[1442793600000,0.0],[1442880000000,0.0],[1442966400000,0.0],[1443052800000,0.0],[1443139200000,0.0],[1443225600000,0.0],[1443312000000,0.0],[1443398400000,0.0],[1443484800000,0.0],[1443571200000,0.0],[1443657600000,0.0],[1443744000000,0.0],[1443830400000,0.0],[1443916800000,0.0],[1444003200000,0.0],[1444089600000,0.0],[1444176000000,0.0],[1444262400000,0.0],[1444348800000,0.0],[1444435200000,0.0],[1444521600000,0.0],[1444608000000,0.0],[1444694400000,0.0],[1444780800000,0.0],[1444867200000,0.0],[1444953600000,0.0],[1445040000000,0.0],[1445126400000,0.0],[1445212800000,0.0],[1445299200000,0.0],[1445385600000,0.0],[1445472000000,0.0],[1445558400000,0.0],[1445644800000,0.0],[1445731200000,0.0],[1445817600000,0.0],[1445904000000,0.0],[1445990400000,0.0],[1446076800000,0.0],[1446163200000,0.0],[1446249600000,0.0],[1446336000000,0.0],[1446422400000,1.8114],[1446508800000,2.7305],[1446595200000,5.4736],[1446681600000,0.0],[1446768000000,0.0],[1446854400000,0.0],[1446940800000,0.0],[1447027200000,0.0],[1447113600000,0.0],[1447200000000,-1.4339],[1447286400000,0.0],[1447372800000,0.0],[1447459200000,0.0],[1447545600000,0.0],[1447632000000,0.0],[1447718400000,0.0],[1447804800000,0.0],[1447891200000,0.0],[1447977600000,0.0],[1448064000000,0.0],[1448150400000,0.0],[1448236800000,0.0],[1448323200000,0.0],[1448409600000,0.0],[1448496000000,0.0],[1448582400000,0.0],[1448668800000,0.0],[1448755200000,0.0],[1448841600000,0.0],[1448928000000,0.0],[1449014400000,0.0],[1449100800000,0.0],[1449187200000,0.0],[1449273600000,0.0],[1449360000000,0.0],[1449446400000,0.0],[1449532800000,0.0],[1449619200000,0.0],[1449705600000,0.0],[1449792000000,0.0],[1449878400000,0.0],[1449964800000,0.0],[1450051200000,0.0],[1450137600000,0.0],[1450224000000,0.0],[1450310400000,0.0],[1450396800000,0.0],[1450483200000,0.0],[1450569600000,0.0],[1450656000000,0.0],[1450742400000,0.0],[1450828800000,0.0],[1450915200000,0.0],[1451001600000,0.0],[1451088000000,0.0],[1451174400000,0.0],[1451260800000,0.0],[1451347200000,0.0],[1451433600000,0.0],[1451520000000,0.0],[1451606400000,0.0],[1451692800000,0.0],[1451779200000,0.0],[1451865600000,0.0],[1451952000000,0.0],[1452038400000,0.0],[1452124800000,0.0],[1452211200000,0.0],[1452297600000,0.0],[1452384000000,0.0],[1452470400000,0.0],[1452556800000,0.0],[1452643200000,0.0],[1452729600000,0.0],[1452816000000,0.0],[1452902400000,0.0],[1452988800000,0.0],[1453075200000,0.0],[1453161600000,0.0],[1453248000000,0.0],[1453334400000,0.0],[1453420800000,0.0],[1453507200000,0.0],[1453593600000,0.0],[1453680000000,0.0],[1453766400000,0.0],[1453852800000,0.0],[1453939200000,0.0],[1454025600000,0.0],[1454112000000,0.0],[1454198400000,0.0],[1454284800000,0.0],[1454371200000,0.0],[1454457600000,0.0],[1454544000000,0.0],[1454630400000,0.0],[1454716800000,0.0],[1454803200000,0.0],[1454889600000,0.0],[1454976000000,0.0],[1455062400000,0.0],[1455148800000,0.0],[1455235200000,0.0],[1455321600000,0.0],[1455408000000,0.0],[1455494400000,0.0],[1455580800000,0.0],[1455667200000,0.0],[1455753600000,0.0],[1455840000000,0.0],[1455926400000,0.0],[1456012800000,0.0],[1456099200000,0.0],[1456185600000,0.0],[1456272000000,0.0],[1456358400000,0.0],[1456444800000,0.0],[1456531200000,0.0],[1456617600000,0.0],[1456704000000,0.0],[1456790400000,0.0],[1456876800000,0.0],[1456963200000,0.0],[1457049600000,0.0],[1457136000000,0.0],[1457222400000,0.0],[1457308800000,0.0],[1457395200000,0.0],[1457481600000,0.0],[1457568000000,0.0],[1457654400000,0.0],[1457740800000,0.0],[1457827200000,0.0],[1457913600000,0.0],[1458000000000,0.0],[1458086400000,0.0],[1458172800000,0.0],[1458259200000,0.0],[1458345600000,0.0],[1458432000000,0.0],[1458518400000,0.0],[1458604800000,0.0],[1458691200000,0.0],[1458777600000,0.0],[1458864000000,0.0],[1458950400000,0.0],[1459036800000,0.0],[1459123200000,0.0],[1459209600000,0.0],[1459296000000,0.0],[1459382400000,0.0],[1459468800000,0.0],[1459555200000,0.0],[1459641600000,0.0],[1459728000000,0.0],[1459814400000,0.0],[1459900800000,0.0],[1459987200000,0.0],[1460073600000,0.0],[1460160000000,0.0],[1460246400000,0.0],[1460332800000,0.0],[1460419200000,0.0],[1460505600000,0.0],[1460592000000,0.0],[1460678400000,0.0],[1460764800000,0.0],[1460851200000,0.0],[1460937600000,0.0],[1461024000000,0.0],[1461110400000,0.0],[1461196800000,0.0],[1461283200000,0.0],[1461369600000,0.0],[1461456000000,0.0],[1461542400000,0.0],[1461628800000,0.0],[1461715200000,0.0],[1461801600000,0.0],[1461888000000,0.0],[1461974400000,0.0],[1462060800000,0.0],[1462147200000,0.0],[1462233600000,0.0],[1462320000000,0.0],[1462406400000,0.0],[1462492800000,0.0],[1462579200000,0.0],[1462665600000,0.0],[1462752000000,0.0],[1462838400000,0.0],[1462924800000,0.0],[1463011200000,0.0],[1463097600000,0.0],[1463184000000,0.0],[1463270400000,0.0],[1463356800000,0.0],[1463443200000,0.0],[1463529600000,0.0],[1463616000000,0.0],[1463702400000,0.0],[1463788800000,0.0],[1463875200000,0.0],[1463961600000,0.0],[1464048000000,0.0],[1464134400000,0.0],[1464220800000,0.0],[1464307200000,0.0],[1464393600000,2.184],[1464480000000,0.0],[1464566400000,0.0],[1464652800000,0.0],[1464739200000,0.0],[1464825600000,0.0],[1464912000000,0.1525],[1464998400000,0.0],[1465084800000,0.0],[1465171200000,0.0],[1465257600000,0.0],[1465344000000,0.0],[1465430400000,0.0],[1465516800000,0.0],[1465603200000,0.0],[1465689600000,8.2431],[1465776000000,0.0],[1465862400000,0.0],[1465948800000,0.0],[1466035200000,2.5151],[1466121600000,0.0],[1466208000000,0.0],[1466294400000,0.0],[1466380800000,0.0],[1466467200000,-0.8926],[1466553600000,-4.5426],[1466640000000,0.0],[1466726400000,0.0],[1466812800000,0.0],[1466899200000,0.0],[1466985600000,0.0],[1467072000000,0.0],[1467158400000,0.0],[1467244800000,0.0],[1467331200000,0.0],[1467417600000,0.0],[1467504000000,0.0],[1467590400000,0.0],[1467676800000,0.0],[1467763200000,0.0],[1467849600000,0.0],[1467936000000,0.0],[1468022400000,0.0],[1468108800000,0.0],[1468195200000,0.0],[1468281600000,0.0],[1468368000000,0.0],[1468454400000,0.0],[1468540800000,0.0],[1468627200000,0.0],[1468713600000,0.0],[1468800000000,0.0],[1468886400000,0.0],[1468972800000,0.0],[1469059200000,0.0],[1469145600000,0.0],[1469232000000,0.0],[1469318400000,0.0],[1469404800000,0.0],[1469491200000,0.0],[1469577600000,0.0],[1469664000000,0.0],[1469750400000,0.0],[1469836800000,0.0],[1469923200000,0.0],[1470009600000,0.0],[1470096000000,0.0],[1470182400000,0.0],[1470268800000,0.0],[1470355200000,0.0],[1470441600000,0.0],[1470528000000,0.0],[1470614400000,0.0],[1470700800000,0.0],[1470787200000,0.0],[1470873600000,0.0],[1470960000000,0.0],[1471046400000,0.0],[1471132800000,0.0],[1471219200000,0.0],[1471305600000,0.0],[1471392000000,0.0],[1471478400000,0.0],[1471564800000,0.0],[1471651200000,0.0],[1471737600000,0.0],[1471824000000,0.0],[1471910400000,0.0],[1471996800000,0.0],[1472083200000,0.0],[1472169600000,0.0],[1472256000000,0.0],[1472342400000,0.0],[1472428800000,0.0],[1472515200000,0.0],[1472601600000,0.0],[1472688000000,0.0],[1472774400000,0.0],[1472860800000,0.0],[1472947200000,0.0],[1473033600000,0.0],[1473120000000,0.0],[1473206400000,0.0],[1473292800000,0.0],[1473379200000,0.0],[1473465600000,0.0],[1473552000000,0.0],[1473638400000,0.0],[1473724800000,0.0],[1473811200000,0.0],[1473897600000,0.0],[1473984000000,0.0],[1474070400000,0.0],[1474156800000,0.0],[1474243200000,0.0],[1474329600000,0.0],[1474416000000,0.0],[1474502400000,0.0],[1474588800000,0.0],[1474675200000,0.0],[1474761600000,0.0],[1474848000000,0.0],[1474934400000,0.0],[1475020800000,0.0],[1475107200000,0.0],[1475193600000,0.0],[1475280000000,0.0],[1475366400000,0.0],[1475452800000,0.0],[1475539200000,0.0],[1475625600000,0.0],[1475712000000,0.0],[1475798400000,0.0],[1475884800000,0.0],[1475971200000,0.0],[1476057600000,0.0],[1476144000000,0.0],[1476230400000,0.0],[1476316800000,0.0],[1476403200000,0.0],[1476489600000,0.0],[1476576000000,0.0],[1476662400000,0.0],[1476748800000,0.0],[1476835200000,0.0],[1476921600000,0.0],[1477008000000,0.0],[1477094400000,0.0],[1477180800000,0.0],[1477267200000,0.0],[1477353600000,0.0],[1477440000000,0.0],[1477526400000,0.0],[1477612800000,0.0],[1477699200000,0.0],[1477785600000,0.0],[1477872000000,0.0],[1477958400000,0.0],[1478044800000,0.0],[1478131200000,-1.9115],[1478217600000,0.0],[1478304000000,0.0],[1478390400000,0.0],[1478476800000,0.0],[1478563200000,0.0],[1478649600000,0.0],[1478736000000,0.0],[1478822400000,0.0],[1478908800000,0.0],[1478995200000,0.0],[1479081600000,0.0],[1479168000000,0.0],[1479254400000,0.0],[1479340800000,0.0],[1479427200000,0.0],[1479513600000,0.0],[1479600000000,0.0],[1479686400000,0.0],[1479772800000,0.0],[1479859200000,0.0],[1479945600000,0.0],[1480032000000,0.0],[1480118400000,0.0],[1480204800000,0.0],[1480291200000,0.0],[1480377600000,0.0],[1480464000000,0.0],[1480550400000,0.0],[1480636800000,0.0],[1480723200000,0.0],[1480809600000,0.0],[1480896000000,0.0],[1480982400000,0.0],[1481068800000,0.0],[1481155200000,0.0],[1481241600000,0.0],[1481328000000,0.0],[1481414400000,0.0],[1481500800000,0.0],[1481587200000,0.0],[1481673600000,0.0],[1481760000000,0.0],[1481846400000,0.0],[1481932800000,0.0],[1482019200000,0.0],[1482105600000,0.0],[1482192000000,0.0],[1482278400000,0.0],[1482364800000,1.4268],[1482451200000,0.0],[1482537600000,0.0],[1482624000000,0.0],[1482710400000,0.0],[1482796800000,0.0],[1482883200000,2.1749],[1482969600000,0.0],[1483056000000,0.0],[1483142400000,0.0],[1483228800000,0.0],[1483315200000,0.0],[1483401600000,0.0],[1483488000000,0.0],[1483574400000,-2.0405],[1483660800000,-3.7926],[1483747200000,0.0],[1483833600000,0.0],[1483920000000,0.0],[1484006400000,0.0],[1484092800000,-4.6014],[1484179200000,0.0],[1484265600000,0.0],[1484352000000,0.0],[1484438400000,0.0],[1484524800000,0.0],[1484611200000,0.0],[1484697600000,0.0],[1484784000000,0.0],[1484870400000,0.0],[1484956800000,0.0],[1485043200000,0.0],[1485129600000,0.0],[1485216000000,0.0],[1485302400000,0.0],[1485388800000,0.0],[1485475200000,0.0],[1485561600000,0.0],[1485648000000,0.0],[1485734400000,0.0],[1485820800000,0.0],[1485907200000,0.0],[1485993600000,0.0],[1486080000000,0.0],[1486166400000,0.0],[1486252800000,0.0],[1486339200000,0.0],[1486425600000,0.0],[1486512000000,0.0],[1486598400000,0.0],[1486684800000,0.0],[1486771200000,0.0],[1486857600000,0.0],[1486944000000,0.0],[1487030400000,0.0],[1487116800000,0.0],[1487203200000,0.0],[1487289600000,0.0],[1487376000000,0.0],[1487462400000,0.0],[1487548800000,0.0],[1487635200000,0.0],[1487721600000,0.0],[1487808000000,0.0],[1487894400000,0.0],[1487980800000,0.0],[1488067200000,0.0],[1488153600000,0.0],[1488240000000,0.0],[1488326400000,0.0],[1488412800000,0.0],[1488499200000,0.0],[1488585600000,0.0],[1488672000000,0.0],[1488758400000,0.0],[1488844800000,0.0],[1488931200000,0.0],[1489017600000,0.0],[1489104000000,0.0],[1489190400000,0.0],[1489276800000,0.0],[1489363200000,0.0],[1489449600000,0.0],[1489536000000,0.0],[1489622400000,0.0],[1489708800000,0.0],[1489795200000,-5.4626],[1489881600000,0.0],[1489968000000,0.0],[1490054400000,0.0],[1490140800000,0.0],[1490227200000,0.0],[1490313600000,0.0],[1490400000000,0.0],[1490486400000,0.0],[1490572800000,0.0],[1490659200000,0.0],[1490745600000,0.0],[1490832000000,0.0],[1490918400000,0.0],[1491004800000,0.0],[1491091200000,0.0],[1491177600000,0.0],[1491264000000,0.0],[1491350400000,0.0],[1491436800000,0.0],[1491523200000,0.0],[1491609600000,0.0],[1491696000000,0.0],[1491782400000,0.0],[1491868800000,0.0],[1491955200000,0.0],[1492041600000,0.0],[1492128000000,0.0],[1492214400000,0.0],[1492300800000,0.0],[1492387200000,0.0],[1492473600000,0.0],[1492560000000,0.0],[1492646400000,0.0],[1492732800000,0.0],[1492819200000,0.0],[1492905600000,0.0],[1492992000000,0.0],[1493078400000,0.0],[1493164800000,0.0],[1493251200000,0.0],[1493337600000,0.0],[1493424000000,0.0],[1493510400000,0.0],[1493596800000,0.0],[1493683200000,0.0],[1493769600000,0.0],[1493856000000,0.0],[1493942400000,0.0],[1494028800000,0.0],[1494115200000,0.0],[1494201600000,0.0],[1494288000000,0.0],[1494374400000,0.0],[1494460800000,0.0],[1494547200000,0.0],[1494633600000,0.0],[1494720000000,0.0],[1494806400000,0.0],[1494892800000,0.0],[1494979200000,0.0],[1495065600000,0.0],[1495152000000,0.0],[1495238400000,0.0],[1495324800000,0.0],[1495411200000,0.0],[1495497600000,0.0],[1495584000000,0.0],[1495670400000,0.0],[1495756800000,0.0],[1495843200000,0.0],[1495929600000,0.0],[1496016000000,0.0],[1496102400000,0.0],[1496188800000,0.0],[1496275200000,0.0],[1496361600000,0.0],[1496448000000,0.0],[1496534400000,0.0],[1496620800000,0.0],[1496707200000,0.0],[1496793600000,0.0],[1496880000000,0.0],[1496966400000,0.0],[1497052800000,0.0],[1497139200000,0.0],[1497225600000,0.0],[1497312000000,0.0],[1497398400000,0.0],[1497484800000,0.0],[1497571200000,0.0],[1497657600000,0.0],[1497744000000,0.0],[1497830400000,0.0],[1497916800000,0.0],[1498003200000,0.0],[1498089600000,0.0],[1498176000000,0.0],[1498262400000,0.0],[1498348800000,0.0],[1498435200000,0.0],[1498521600000,0.0],[1498608000000,0.0],[1498694400000,0.0],[1498780800000,0.0],[1498867200000,0.0],[1498953600000,0.0],[1499040000000,0.0],[1499126400000,0.0],[1499212800000,0.0],[1499299200000,0.0],[1499385600000,0.0],[1499472000000,0.0],[1499558400000,0.0],[1499644800000,0.0],[1499731200000,0.0],[1499817600000,0.0],[1499904000000,0.0],[1499990400000,0.0],[1500076800000,0.0],[1500163200000,0.0],[1500249600000,0.0],[1500336000000,0.0],[1500422400000,0.0],[1500508800000,4.8017],[1500595200000,0.0],[1500681600000,0.0],[1500768000000,0.0],[1500854400000,0.0],[1500940800000,0.0],[1501027200000,0.0],[1501113600000,0.0],[1501200000000,0.0],[1501286400000,0.0],[1501372800000,0.0],[1501459200000,0.0],[1501545600000,0.0],[1501632000000,0.0],[1501718400000,0.0],[1501804800000,0.0],[1501891200000,0.0],[1501977600000,0.0],[1502064000000,0.0],[1502150400000,0.0],[1502236800000,0.0],[1502323200000,0.0],[1502409600000,0.0],[1502496000000,0.0],[1502582400000,0.0],[1502668800000,0.0],[1502755200000,0.0],[1502841600000,0.0],[1502928000000,0.0],[1503014400000,0.0],[1503100800000,0.0],[1503187200000,0.0],[1503273600000,0.0],[1503360000000,0.0],[1503446400000,0.0],[1503532800000,0.0],[1503619200000,0.0],[1503705600000,0.0],[1503792000000,0.0],[1503878400000,0.0],[1503964800000,0.0],[1504051200000,0.0],[1504137600000,0.0],[1504224000000,0.0],[1504310400000,0.0],[1504396800000,0.0],[1504483200000,0.0],[1504569600000,0.0],[1504656000000,0.0],[1504742400000,0.0],[1504828800000,0.0],[1504915200000,0.0],[1505001600000,0.0],[1505088000000,0.0],[1505174400000,0.0],[1505260800000,0.0],[1505347200000,0.0],[1505433600000,0.0],[1505520000000,0.0],[1505606400000,0.0],[1505692800000,0.0],[1505779200000,0.0],[1505865600000,0.0],[1505952000000,0.0],[1506038400000,0.0],[1506124800000,0.0],[1506211200000,0.0],[1506297600000,0.0],[1506384000000,0.0],[1506470400000,0.0],[1506556800000,0.0],[1506643200000,0.0],[1506729600000,0.0],[1506816000000,0.0],[1506902400000,0.0],[1506988800000,0.0],[1507075200000,0.0],[1507161600000,0.0],[1507248000000,0.0],[1507334400000,0.0],[1507420800000,0.0],[1507507200000,0.0],[1507593600000,0.0],[1507680000000,0.0],[1507766400000,0.0],[1507852800000,0.0],[1507939200000,0.0],[1508025600000,0.0],[1508112000000,0.0],[1508198400000,0.0],[1508284800000,0.0],[1508371200000,0.0],[1508457600000,0.0],[1508544000000,0.0],[1508630400000,0.0],[1508716800000,0.0],[1508803200000,0.0],[1508889600000,0.0],[1508976000000,0.0],[1509062400000,0.0],[1509148800000,0.0],[1509235200000,0.0],[1509321600000,0.0],[1509408000000,0.0],[1509494400000,0.0],[1509580800000,0.0],[1509667200000,0.0],[1509753600000,0.0],[1509840000000,0.0],[1509926400000,0.0],[1510012800000,0.0],[1510099200000,0.0],[1510185600000,0.0],[1510272000000,0.0],[1510358400000,0.0],[1510444800000,-0.3273],[1510531200000,1.4445],[1510617600000,0.0],[1510704000000,0.0],[1510790400000,0.0],[1510876800000,0.0],[1510963200000,0.0],[1511049600000,0.0],[1511136000000,0.0],[1511222400000,0.0],[1511308800000,0.0],[1511395200000,0.0],[1511481600000,0.0],[1511568000000,0.0],[1511654400000,0.0],[1511740800000,0.0],[1511827200000,0.0],[1511913600000,0.0],[1512000000000,0.0],[1512086400000,0.0],[1512172800000,0.0],[1512259200000,0.0],[1512345600000,0.0],[1512432000000,0.0],[1512518400000,0.0],[1512604800000,0.0],[1512691200000,0.0],[1512777600000,0.0],[1512864000000,0.0],[1512950400000,0.0],[1513036800000,0.0],[1513123200000,0.0],[1513209600000,0.0],[1513296000000,0.0],[1513382400000,0.0],[1513468800000,0.0],[1513555200000,0.0],[1513641600000,0.0],[1513728000000,0.0],[1513814400000,0.0],[1513900800000,0.0],[1513987200000,0.0],[1514073600000,0.0],[1514160000000,0.0],[1514246400000,0.0],[1514332800000,0.0],[1514419200000,0.0],[1514505600000,0.0],[1514592000000,0.0],[1514678400000,0.0],[1514764800000,0.0],[1514851200000,0.0],[1514937600000,0.0],[1515024000000,0.0],[1515110400000,0.0],[1515196800000,0.0],[1515283200000,0.0],[1515369600000,0.0],[1515456000000,0.0],[1515542400000,0.0],[1515628800000,0.0],[1515715200000,0.0],[1515801600000,0.0],[1515888000000,0.0],[1515974400000,0.0],[1516060800000,-2.496],[1516147200000,0.0],[1516233600000,0.0],[1516320000000,0.0],[1516406400000,0.0],[1516492800000,0.0],[1516579200000,0.0],[1516665600000,0.0],[1516752000000,0.0],[1516838400000,0.0],[1516924800000,0.0],[1517011200000,0.0],[1517097600000,0.0],[1517184000000,0.0],[1517270400000,0.0],[1517356800000,0.0],[1517443200000,0.0],[1517529600000,0.0],[1517616000000,0.0],[1517702400000,0.0],[1517788800000,0.0],[1517875200000,0.0],[1517961600000,0.0],[1518048000000,0.0],[1518134400000,0.0],[1518220800000,0.0],[1518307200000,0.0],[1518393600000,0.0],[1518480000000,0.0],[1518566400000,0.0],[1518652800000,0.0],[1518739200000,0.0],[1518825600000,0.0],[1518912000000,0.0],[1518998400000,0.0],[1519084800000,0.0],[1519171200000,0.0],[1519257600000,0.0],[1519344000000,0.0],[1519430400000,0.0],[1519516800000,0.0],[1519603200000,0.0],[1519689600000,0.0],[1519776000000,0.0],[1519862400000,0.0],[1519948800000,0.0],[1520035200000,0.0],[1520121600000,0.0],[1520208000000,0.0],[1520294400000,0.0],[1520380800000,0.0],[1520467200000,0.0],[1520553600000,0.0],[1520640000000,0.0],[1520726400000,0.0],[1520812800000,0.0],[1520899200000,0.0],[1520985600000,0.0],[1521072000000,0.0],[1521158400000,0.0],[1521244800000,0.0],[1521331200000,0.0],[1521417600000,0.0],[1521504000000,0.0],[1521590400000,0.0],[1521676800000,0.0],[1521763200000,0.0],[1521849600000,0.0],[1521936000000,0.0],[1522022400000,0.0],[1522108800000,0.0],[1522195200000,0.0],[1522281600000,0.0],[1522368000000,0.0],[1522454400000,0.0],[1522540800000,0.0],[1522627200000,0.0],[1522713600000,0.0],[1522800000000,0.0],[1522886400000,0.0],[1522972800000,0.0],[1523059200000,0.0],[1523145600000,0.0],[1523232000000,0.0],[1523318400000,0.0],[1523404800000,0.0],[1523491200000,0.0],[1523577600000,0.0],[1523664000000,0.0],[1523750400000,0.0],[1523836800000,0.0],[1523923200000,0.0],[1524009600000,0.0],[1524096000000,0.0],[1524182400000,0.0],[1524268800000,0.0],[1524355200000,0.0],[1524441600000,0.0],[1524528000000,0.0],[1524614400000,0.0],[1524700800000,0.0],[1524787200000,0.0],[1524873600000,0.0],[1524960000000,0.0],[1525046400000,0.0],[1525132800000,0.0],[1525219200000,0.0],[1525305600000,0.0],[1525392000000,0.0],[1525478400000,0.0],[1525564800000,0.0],[1525651200000,0.0],[1525737600000,0.0],[1525824000000,0.0],[1525910400000,0.0],[1525996800000,0.0],[1526083200000,0.0],[1526169600000,0.0],[1526256000000,0.0],[1526342400000,0.0],[1526428800000,0.0],[1526515200000,0.0],[1526601600000,0.0],[1526688000000,0.0],[1526774400000,0.0],[1526860800000,0.0],[1526947200000,0.0],[1527033600000,0.0],[1527120000000,0.0],[1527206400000,0.0],[1527292800000,0.0],[1527379200000,0.0],[1527465600000,0.0],[1527552000000,0.0],[1527638400000,0.0],[1527724800000,0.0],[1527811200000,0.0],[1527897600000,0.0],[1527984000000,0.0],[1528070400000,0.0],[1528156800000,0.0],[1528243200000,0.0],[1528329600000,0.0],[1528416000000,0.0],[1528502400000,0.0],[1528588800000,0.0],[1528675200000,0.0],[1528761600000,0.0],[1528848000000,0.0],[1528934400000,0.0],[1529020800000,0.0],[1529107200000,0.0],[1529193600000,0.0],[1529280000000,0.0],[1529366400000,0.0],[1529452800000,0.0],[1529539200000,0.0],[1529625600000,0.0],[1529712000000,0.0],[1529798400000,0.0],[1529884800000,0.0],[1529971200000,0.0],[1530057600000,0.0],[1530144000000,0.0],[1530230400000,0.0],[1530316800000,0.0],[1530403200000,0.0],[1530489600000,0.0],[1530576000000,0.0],[1530662400000,0.0],[1530748800000,0.0],[1530835200000,0.0],[1530921600000,0.0],[1531008000000,0.0],[1531094400000,0.0],[1531180800000,0.0],[1531267200000,0.0],[1531353600000,0.0],[1531440000000,0.0],[1531526400000,0.0],[1531612800000,0.0],[1531699200000,0.0],[1531785600000,0.0],[1531872000000,0.0],[1531958400000,0.0],[1532044800000,0.0],[1532131200000,0.0],[1532217600000,0.0],[1532304000000,0.0],[1532390400000,0.0],[1532476800000,0.0],[1532563200000,0.0],[1532649600000,0.0],[1532736000000,0.0],[1532822400000,0.0],[1532908800000,0.0],[1532995200000,0.0],[1533081600000,0.0],[1533168000000,0.0],[1533254400000,0.0],[1533340800000,0.0],[1533427200000,0.0],[1533513600000,0.0],[1533600000000,0.0],[1533686400000,0.0],[1533772800000,0.0],[1533859200000,0.0],[1533945600000,0.0],[1534032000000,0.0],[1534118400000,0.0],[1534204800000,0.0],[1534291200000,0.0],[1534377600000,0.0],[1534464000000,0.0],[1534550400000,0.0],[1534636800000,0.0],[1534723200000,0.0],[1534809600000,0.0],[1534896000000,0.0],[1534982400000,0.0],[1535068800000,0.0],[1535155200000,0.0],[1535241600000,0.0],[1535328000000,0.0],[1535414400000,0.0],[1535500800000,0.0],[1535587200000,0.0],[1535673600000,0.0],[1535760000000,0.0],[1535846400000,0.0],[1535932800000,0.0],[1536019200000,0.0],[1536105600000,0.0],[1536192000000,-1.6573],[1536278400000,0.0],[1536364800000,0.0],[1536451200000,0.0],[1536537600000,0.0],[1536624000000,0.0],[1536710400000,0.0],[1536796800000,0.0],[1536883200000,0.0],[1536969600000,0.0],[1537056000000,0.0],[1537142400000,0.0],[1537228800000,0.0],[1537315200000,0.0],[1537401600000,0.0],[1537488000000,0.0],[1537574400000,0.0],[1537660800000,0.0],[1537747200000,0.0],[1537833600000,0.0],[1537920000000,0.0],[1538006400000,0.0],[1538092800000,0.0],[1538179200000,0.0],[1538265600000,0.0],[1538352000000,0.0],[1538438400000,0.0],[1538524800000,0.0],[1538611200000,0.0],[1538697600000,0.0],[1538784000000,0.0],[1538870400000,0.0],[1538956800000,0.0],[1539043200000,0.0],[1539129600000,0.0],[1539216000000,0.0],[1539302400000,0.0],[1539388800000,0.0],[1539475200000,0.0],[1539561600000,0.0],[1539648000000,0.0],[1539734400000,0.0],[1539820800000,0.0],[1539907200000,0.0],[1539993600000,0.0],[1540080000000,0.0],[1540166400000,0.0],[1540252800000,0.0],[1540339200000,0.0],[1540425600000,0.0],[1540512000000,0.0],[1540598400000,0.0],[1540684800000,0.0],[1540771200000,0.0],[1540857600000,0.0],[1540944000000,0.0],[1541030400000,0.0],[1541116800000,0.0],[1541203200000,0.0],[1541289600000,0.0],[1541376000000,0.0],[1541462400000,0.0],[1541548800000,0.0],[1541635200000,0.0],[1541721600000,0.0],[1541808000000,0.0],[1541894400000,0.0],[1541980800000,0.0],[1542067200000,0.0],[1542153600000,0.0],[1542240000000,-4.5102],[1542326400000,0.0],[1542412800000,0.0],[1542499200000,0.0],[1542585600000,0.0],[1542672000000,-3.2361],[1542758400000,0.0],[1542844800000,0.0],[1542931200000,0.0],[1543017600000,0.0],[1543104000000,0.0],[1543190400000,0.0],[1543276800000,0.0],[1543363200000,0.7942],[1543449600000,0.0],[1543536000000,0.0],[1543622400000,0.0],[1543708800000,0.0],[1543795200000,0.0],[1543881600000,0.0],[1543968000000,0.0],[1544054400000,0.0],[1544140800000,0.0],[1544227200000,0.0],[1544313600000,0.0],[1544400000000,0.0],[1544486400000,0.0],[1544572800000,0.0],[1544659200000,0.0],[1544745600000,0.0],[1544832000000,0.0],[1544918400000,0.0],[1545004800000,0.0],[1545091200000,1.0983],[1545177600000,0.0],[1545264000000,0.0],[1545350400000,0.0],[1545436800000,0.0],[1545523200000,0.0],[1545609600000,0.0],[1545696000000,0.0],[1545782400000,0.0],[1545868800000,0.0],[1545955200000,0.0],[1546041600000,0.0],[1546128000000,0.0],[1546214400000,0.0],[1546300800000,0.0],[1546387200000,0.0],[1546473600000,0.0],[1546560000000,0.0],[1546646400000,0.0],[1546732800000,0.0],[1546819200000,0.0],[1546905600000,0.0],[1546992000000,0.0],[1547078400000,0.0],[1547164800000,0.0],[1547251200000,0.0],[1547337600000,0.0],[1547424000000,0.0],[1547510400000,0.0],[1547596800000,0.0],[1547683200000,0.0],[1547769600000,0.0],[1547856000000,0.0],[1547942400000,0.0],[1548028800000,0.0],[1548115200000,0.0],[1548201600000,0.0],[1548288000000,0.0],[1548374400000,0.0],[1548460800000,0.0],[1548547200000,0.0],[1548633600000,0.0],[1548720000000,0.0],[1548806400000,0.0],[1548892800000,0.0],[1548979200000,0.0],[1549065600000,0.0],[1549152000000,0.0],[1549238400000,0.0],[1549324800000,0.0],[1549411200000,0.0],[1549497600000,0.0],[1549584000000,0.0],[1549670400000,0.0],[1549756800000,0.0],[1549843200000,0.0],[1549929600000,0.0],[1550016000000,0.0],[1550102400000,0.0],[1550188800000,0.0],[1550275200000,0.0],[1550361600000,0.0],[1550448000000,0.0],[1550534400000,0.0],[1550620800000,0.0],[1550707200000,0.0],[1550793600000,0.0],[1550880000000,0.0],[1550966400000,0.0],[1551052800000,0.0],[1551139200000,0.0],[1551225600000,0.0],[1551312000000,0.0],[1551398400000,0.0],[1551484800000,0.0],[1551571200000,0.0],[1551657600000,0.0],[1551744000000,0.0],[1551830400000,0.0],[1551916800000,0.0],[1552003200000,0.0],[1552089600000,0.0],[1552176000000,0.0],[1552262400000,0.0],[1552348800000,0.0],[1552435200000,0.0],[1552521600000,0.0],[1552608000000,0.0],[1552694400000,0.0],[1552780800000,0.0],[1552867200000,0.0],[1552953600000,0.0],[1553040000000,0.0],[1553126400000,0.0],[1553212800000,0.0],[1553299200000,0.0],[1553385600000,0.0],[1553472000000,0.0],[1553558400000,0.0],[1553644800000,0.0],[1553731200000,0.0],[1553817600000,0.0],[1553904000000,0.0],[1553990400000,0.0],[1554076800000,0.0],[1554163200000,8.0307],[1554249600000,0.0],[1554336000000,0.0],[1554422400000,0.0],[1554508800000,0.0],[1554595200000,0.0],[1554681600000,0.0],[1554768000000,0.0],[1554854400000,0.0],[1554940800000,0.0],[1555027200000,0.0],[1555113600000,0.0],[1555200000000,0.0],[1555286400000,0.0],[1555372800000,0.0],[1555459200000,0.0],[1555545600000,0.0],[1555632000000,0.0],[1555718400000,0.0],[1555804800000,0.0],[1555891200000,0.0],[1555977600000,0.0],[1556064000000,0.0],[1556150400000,0.0],[1556236800000,0.0],[1556323200000,0.0],[1556409600000,0.0],[1556496000000,0.0],[1556582400000,0.0],[1556668800000,0.0],[1556755200000,0.0],[1556841600000,0.0],[1556928000000,0.0],[1557014400000,0.0],[1557100800000,0.0],[1557187200000,0.0],[1557273600000,0.0],[1557360000000,0.0],[1557446400000,0.0],[1557532800000,1.1393],[1557619200000,0.0],[1557705600000,0.0],[1557792000000,0.0],[1557878400000,0.0],[1557964800000,0.0],[1558051200000,0.0],[1558137600000,0.0],[1558224000000,0.0],[1558310400000,0.0],[1558396800000,0.0],[1558483200000,0.0],[1558569600000,0.0],[1558656000000,0.0],[1558742400000,0.0],[1558828800000,0.0],[1558915200000,0.0],[1559001600000,0.0],[1559088000000,0.0],[1559174400000,0.0],[1559260800000,0.0],[1559347200000,0.0],[1559433600000,0.0],[1559520000000,0.0],[1559606400000,-0.0237],[1559692800000,0.0],[1559779200000,0.0],[1559865600000,0.0],[1559952000000,0.0],[1560038400000,0.0],[1560124800000,0.0],[1560211200000,0.0],[1560297600000,0.0],[1560384000000,0.0],[1560470400000,0.0],[1560556800000,0.0],[1560643200000,0.0],[1560729600000,0.0],[1560816000000,0.0],[1560902400000,0.0],[1560988800000,0.0],[1561075200000,0.0],[1561161600000,0.0],[1561248000000,0.0],[1561334400000,0.0],[1561420800000,0.0],[1561507200000,0.0],[1561593600000,0.0],[1561680000000,0.0],[1561766400000,0.0],[1561852800000,-0.2084],[1561939200000,0.0],[1562025600000,0.0],[1562112000000,0.0],[1562198400000,0.0],[1562284800000,0.0],[1562371200000,0.0],[1562457600000,0.0],[1562544000000,0.0],[1562630400000,0.0],[1562716800000,0.0],[1562803200000,0.0],[1562889600000,0.0],[1562976000000,0.0],[1563062400000,0.0],[1563148800000,0.0],[1563235200000,0.0],[1563321600000,0.0],[1563408000000,0.0],[1563494400000,0.0],[1563580800000,0.0],[1563667200000,0.0],[1563753600000,0.0],[1563840000000,0.0],[1563926400000,0.0],[1564012800000,0.0],[1564099200000,0.0],[1564185600000,0.0],[1564272000000,0.0],[1564358400000,0.0],[1564444800000,0.0],[1564531200000,0.0],[1564617600000,0.0],[1564704000000,0.0],[1564790400000,0.0],[1564876800000,0.0],[1564963200000,0.0],[1565049600000,0.0],[1565136000000,0.0],[1565222400000,0.0],[1565308800000,0.0],[1565395200000,0.0],[1565481600000,0.0],[1565568000000,0.0],[1565654400000,0.0],[1565740800000,0.0],[1565827200000,0.0],[1565913600000,0.0],[1566000000000,0.0],[1566086400000,0.0],[1566172800000,0.0],[1566259200000,0.0],[1566345600000,0.0],[1566432000000,0.0],[1566518400000,0.0],[1566604800000,0.0],[1566691200000,0.0],[1566777600000,0.0],[1566864000000,0.0],[1566950400000,0.0],[1567036800000,0.0],[1567123200000,0.0],[1567209600000,0.0],[1567296000000,0.0],[1567382400000,0.0],[1567468800000,0.0],[1567555200000,0.0],[1567641600000,0.0],[1567728000000,0.0],[1567814400000,0.0],[1567900800000,0.0],[1567987200000,0.0],[1568073600000,0.0],[1568160000000,0.0],[1568246400000,0.0],[1568332800000,0.0],[1568419200000,0.0],[1568505600000,0.0],[1568592000000,0.0],[1568678400000,0.0],[1568764800000,0.0],[1568851200000,0.0],[1568937600000,0.0],[1569024000000,0.0],[1569110400000,0.0],[1569196800000,0.0],[1569283200000,0.0],[1569369600000,0.0],[1569456000000,0.0],[1569542400000,0.0],[1569628800000,0.0],[1569715200000,0.0],[1569801600000,0.0],[1569888000000,0.0],[1569974400000,0.0],[1570060800000,0.0],[1570147200000,0.0],[1570233600000,0.0],[1570320000000,0.0],[1570406400000,0.0],[1570492800000,0.0],[1570579200000,0.0],[1570665600000,0.0],[1570752000000,0.0],[1570838400000,0.0],[1570924800000,0.0],[1571011200000,0.0],[1571097600000,0.0],[1571184000000,0.0],[1571270400000,0.0],[1571356800000,0.0],[1571443200000,0.0],[1571529600000,0.0],[1571616000000,0.0],[1571702400000,0.0],[1571788800000,0.0],[1571875200000,0.0],[1571961600000,5.6745],[1572048000000,0.0],[1572134400000,0.0],[1572220800000,0.0],[1572307200000,0.0],[1572393600000,0.0],[1572480000000,0.0],[1572566400000,0.0],[1572652800000,0.0],[1572739200000,0.0],[1572825600000,0.0],[1572912000000,0.0],[1572998400000,0.0],[1573084800000,0.0],[1573171200000,0.0],[1573257600000,0.0],[1573344000000,0.0],[1573430400000,0.0],[1573516800000,0.0],[1573603200000,0.0],[1573689600000,0.0],[1573776000000,0.0],[1573862400000,0.0],[1573948800000,0.0],[1574035200000,0.0],[1574121600000,0.0],[1574208000000,0.0],[1574294400000,0.0],[1574380800000,0.0],[1574467200000,0.0],[1574553600000,0.0],[1574640000000,0.0],[1574726400000,0.0],[1574812800000,0.0],[1574899200000,0.0],[1574985600000,0.0],[1575072000000,0.0],[1575158400000,0.0],[1575244800000,0.0],[1575331200000,0.0],[1575417600000,0.0],[1575504000000,0.0],[1575590400000,0.0],[1575676800000,0.0],[1575763200000,0.0],[1575849600000,0.0],[1575936000000,0.0],[1576022400000,0.0],[1576108800000,0.0],[1576195200000,0.0],[1576281600000,0.0],[1576368000000,0.0],[1576454400000,0.0],[1576540800000,0.0],[1576627200000,0.0],[1576713600000,0.0],[1576800000000,0.0],[1576886400000,0.0],[1576972800000,0.0],[1577059200000,0.0],[1577145600000,0.0],[1577232000000,0.0],[1577318400000,0.0],[1577404800000,0.0],[1577491200000,0.0],[1577577600000,0.0],[1577664000000,0.0],[1577750400000,0.0],[1577836800000,0.0],[1577923200000,0.0],[1578009600000,0.0],[1578096000000,0.0],[1578182400000,0.0],[1578268800000,0.0],[1578355200000,0.0],[1578441600000,0.0],[1578528000000,0.0],[1578614400000,0.0],[1578700800000,0.0],[1578787200000,0.0],[1578873600000,0.0],[1578960000000,0.0],[1579046400000,0.0],[1579132800000,0.0],[1579219200000,0.0],[1579305600000,0.0],[1579392000000,0.0],[1579478400000,0.0],[1579564800000,0.0],[1579651200000,0.0],[1579737600000,0.0],[1579824000000,0.0],[1579910400000,0.0],[1579996800000,0.0],[1580083200000,0.0],[1580169600000,0.0],[1580256000000,0.0],[1580342400000,0.0],[1580428800000,0.0],[1580515200000,0.0],[1580601600000,0.0],[1580688000000,0.0],[1580774400000,0.0],[1580860800000,0.0],[1580947200000,0.0],[1581033600000,0.0],[1581120000000,0.0],[1581206400000,0.0],[1581292800000,0.0],[1581379200000,0.0],[1581465600000,0.0],[1581552000000,0.0],[1581638400000,0.0],[1581724800000,0.0],[1581811200000,0.0],[1581897600000,0.0],[1581984000000,0.0],[1582070400000,0.0],[1582156800000,0.0],[1582243200000,0.0],[1582329600000,0.0],[1582416000000,0.0],[1582502400000,0.0],[1582588800000,0.0],[1582675200000,0.0],[1582761600000,0.0],[1582848000000,0.0],[1582934400000,0.0],[1583020800000,0.0],[1583107200000,0.0],[1583193600000,0.0],[1583280000000,0.0],[1583366400000,0.0],[1583452800000,0.0],[1583539200000,0.0],[1583625600000,-0.8451],[1583712000000,0.0],[1583798400000,0.0],[1583884800000,0.0],[1583971200000,-13.5767],[1584057600000,0.0],[1584144000000,0.0],[1584230400000,0.0],[1584316800000,0.0],[1584403200000,0.0],[1584489600000,0.0],[1584576000000,6.5328],[1584662400000,0.0],[1584748800000,0.0],[1584835200000,0.0],[1584921600000,0.0],[1585008000000,0.0],[1585094400000,0.0],[1585180800000,0.0],[1585267200000,0.0],[1585353600000,0.0],[1585440000000,0.0],[1585526400000,0.0],[1585612800000,0.0],[1585699200000,0.0],[1585785600000,0.0],[1585872000000,0.0],[1585958400000,0.0],[1586044800000,0.0],[1586131200000,0.0],[1586217600000,0.0],[1586304000000,0.0],[1586390400000,0.0],[1586476800000,0.0],[1586563200000,0.0],[1586649600000,0.0],[1586736000000,0.0],[1586822400000,0.0],[1586908800000,0.0],[1586995200000,0.0],[1587081600000,0.0],[1587168000000,0.0],[1587254400000,0.0],[1587340800000,0.0],[1587427200000,0.0],[1587513600000,0.0],[1587600000000,0.0],[1587686400000,0.0],[1587772800000,0.0],[1587859200000,0.0],[1587945600000,0.0],[1588032000000,0.0],[1588118400000,0.0],[1588204800000,0.0],[1588291200000,0.0],[1588377600000,0.0],[1588464000000,0.0],[1588550400000,0.0],[1588636800000,0.0],[1588723200000,0.0],[1588809600000,0.0],[1588896000000,0.0],[1588982400000,0.0],[1589068800000,0.0],[1589155200000,0.0],[1589241600000,0.0],[1589328000000,0.0],[1589414400000,0.0],[1589500800000,0.0],[1589587200000,0.0],[1589673600000,0.0],[1589760000000,0.0],[1589846400000,0.0],[1589932800000,0.0],[1590019200000,0.0],[1590105600000,0.0],[1590192000000,0.0],[1590278400000,0.0],[1590364800000,0.0],[1590451200000,0.0],[1590537600000,0.0],[1590624000000,0.0],[1590710400000,0.0],[1590796800000,0.0],[1590883200000,0.0],[1590969600000,0.0],[1591056000000,0.0],[1591142400000,0.0],[1591228800000,0.0],[1591315200000,0.0],[1591401600000,0.0],[1591488000000,0.0],[1591574400000,0.0],[1591660800000,0.0],[1591747200000,0.0],[1591833600000,0.0],[1591920000000,0.0],[1592006400000,0.0],[1592092800000,0.0],[1592179200000,0.0],[1592265600000,0.0],[1592352000000,0.0],[1592438400000,0.0],[1592524800000,0.0],[1592611200000,0.0],[1592697600000,0.0],[1592784000000,0.0],[1592870400000,0.0],[1592956800000,0.0],[1593043200000,0.0],[1593129600000,0.0],[1593216000000,0.0],[1593302400000,0.0],[1593388800000,0.0],[1593475200000,0.0],[1593561600000,0.0],[1593648000000,0.0],[1593734400000,0.0],[1593820800000,0.0],[1593907200000,0.0],[1593993600000,0.0],[1594080000000,0.0],[1594166400000,0.0],[1594252800000,0.0],[1594339200000,0.0],[1594425600000,0.0],[1594512000000,0.0],[1594598400000,0.0],[1594684800000,0.0],[1594771200000,0.0],[1594857600000,0.0],[1594944000000,0.0],[1595030400000,0.0],[1595116800000,0.0],[1595203200000,0.0],[1595289600000,0.0],[1595376000000,0.0],[1595462400000,0.0],[1595548800000,0.0],[1595635200000,0.0],[1595721600000,0.0],[1595808000000,0.4915],[1595894400000,0.0],[1595980800000,0.0],[1596067200000,0.0],[1596153600000,0.0],[1596240000000,0.0],[1596326400000,0.0],[1596412800000,0.0],[1596499200000,0.0],[1596585600000,0.0],[1596672000000,0.0],[1596758400000,0.0],[1596844800000,0.0],[1596931200000,0.0],[1597017600000,0.0],[1597104000000,0.0],[1597190400000,0.0],[1597276800000,0.0],[1597363200000,0.0],[1597449600000,0.0],[1597536000000,0.0],[1597622400000,0.0],[1597708800000,0.0],[1597795200000,0.0],[1597881600000,0.0],[1597968000000,0.0],[1598054400000,0.0],[1598140800000,0.0],[1598227200000,0.0],[1598313600000,0.0],[1598400000000,0.0],[1598486400000,0.0],[1598572800000,0.0],[1598659200000,0.0],[1598745600000,0.0],[1598832000000,0.0],[1598918400000,0.0],[1599004800000,0.0],[1599091200000,0.0],[1599177600000,0.0],[1599264000000,0.0],[1599350400000,0.0],[1599436800000,0.0],[1599523200000,0.0],[1599609600000,0.0],[1599696000000,0.0],[1599782400000,0.0],[1599868800000,0.0],[1599955200000,0.0],[1600041600000,0.0],[1600128000000,0.0],[1600214400000,0.0],[1600300800000,0.0],[1600387200000,0.0],[1600473600000,0.0],[1600560000000,0.0],[1600646400000,0.0],[1600732800000,0.0],[1600819200000,0.0],[1600905600000,0.0],[1600992000000,0.0],[1601078400000,0.0],[1601164800000,0.0],[1601251200000,0.0],[1601337600000,0.0],[1601424000000,0.0],[1601510400000,0.0],[1601596800000,0.0],[1601683200000,0.0],[1601769600000,0.0],[1601856000000,0.0],[1601942400000,0.0],[1602028800000,0.0],[1602115200000,0.0],[1602201600000,0.0],[1602288000000,0.0],[1602374400000,0.0],[1602460800000,0.0],[1602547200000,0.0],[1602633600000,0.0],[1602720000000,0.0],[1602806400000,0.0],[1602892800000,0.0],[1602979200000,0.0],[1603065600000,0.0],[1603152000000,0.0],[1603238400000,0.4027],[1603324800000,0.0],[1603411200000,0.0],[1603497600000,0.0],[1603584000000,0.0],[1603670400000,0.0],[1603756800000,0.0],[1603843200000,0.0],[1603929600000,0.0],[1604016000000,0.0],[1604102400000,0.0],[1604188800000,0.0],[1604275200000,0.0],[1604361600000,0.0],[1604448000000,0.0],[1604534400000,0.1519],[1604620800000,0.0],[1604707200000,0.0],[1604793600000,0.0],[1604880000000,0.0],[1604966400000,0.0],[1605052800000,0.0],[1605139200000,0.0],[1605225600000,0.0],[1605312000000,0.0],[1605398400000,0.0],[1605484800000,0.0],[1605571200000,0.0],[1605657600000,0.0],[1605744000000,0.0],[1605830400000,0.0],[1605916800000,0.0],[1606003200000,0.0],[1606089600000,0.0],[1606176000000,0.0],[1606262400000,0.0],[1606348800000,-3.3152],[1606435200000,0.0],[1606521600000,0.0],[1606608000000,0.0],[1606694400000,0.0],[1606780800000,0.0],[1606867200000,0.0],[1606953600000,0.0],[1607040000000,0.0],[1607126400000,0.0],[1607212800000,0.0],[1607299200000,0.0],[1607385600000,0.0],[1607472000000,0.0],[1607558400000,0.0],[1607644800000,0.0],[1607731200000,0.0],[1607817600000,0.0],[1607904000000,0.0],[1607990400000,0.0],[1608076800000,0.0],[1608163200000,0.718],[1608249600000,0.0],[1608336000000,0.0],[1608422400000,0.0],[1608508800000,0.0],[1608595200000,0.0],[1608681600000,0.0],[1608768000000,0.0],[1608854400000,0.0],[1608940800000,0.0],[1609027200000,0.0],[1609113600000,0.0],[1609200000000,0.0],[1609286400000,0.0],[1609372800000,0.0],[1609459200000,0.0],[1609545600000,0.9106],[1609632000000,0.0],[1609718400000,0.0],[1609804800000,0.0],[1609891200000,0.0],[1609977600000,0.0],[1610064000000,0.0],[1610150400000,0.0],[1610236800000,0.0],[1610323200000,-0.5488],[1610409600000,0.0],[1610496000000,0.0],[1610582400000,0.0],[1610668800000,0.0],[1610755200000,0.0],[1610841600000,0.0],[1610928000000,0.0],[1611014400000,0.0],[1611100800000,0.0],[1611187200000,0.0],[1611273600000,0.0],[1611360000000,0.0],[1611446400000,0.0],[1611532800000,0.0],[1611619200000,0.0],[1611705600000,0.0],[1611792000000,0.0],[1611878400000,0.0],[1611964800000,0.0],[1612051200000,0.0],[1612137600000,0.0],[1612224000000,0.0],[1612310400000,0.0],[1612396800000,0.0],[1612483200000,0.0],[1612569600000,0.0],[1612656000000,0.0],[1612742400000,0.0],[1612828800000,0.0],[1612915200000,0.0],[1613001600000,0.0],[1613088000000,0.0],[1613174400000,0.0],[1613260800000,0.0],[1613347200000,0.0],[1613433600000,0.0],[1613520000000,0.0],[1613606400000,0.0],[1613692800000,0.0],[1613779200000,0.0],[1613865600000,0.0],[1613952000000,0.0],[1614038400000,0.0],[1614124800000,0.0],[1614211200000,0.0],[1614297600000,0.0],[1614384000000,0.0],[1614470400000,0.0],[1614556800000,0.0],[1614643200000,0.0],[1614729600000,0.0],[1614816000000,0.0],[1614902400000,0.0],[1614988800000,0.0],[1615075200000,0.0],[1615161600000,0.0],[1615248000000,0.0],[1615334400000,0.0],[1615420800000,0.0],[1615507200000,0.0],[1615593600000,0.0],[1615680000000,0.0],[1615766400000,0.0],[1615852800000,0.0],[1615939200000,0.0],[1616025600000,0.0],[1616112000000,0.0],[1616198400000,0.0],[1616284800000,0.0],[1616371200000,0.0],[1616457600000,0.0],[1616544000000,0.0],[1616630400000,0.0],[1616716800000,0.0],[1616803200000,0.0],[1616889600000,0.0],[1616976000000,0.0],[1617062400000,0.0],[1617148800000,0.0],[1617235200000,0.0],[1617321600000,0.0],[1617408000000,0.0],[1617494400000,0.0],[1617580800000,0.0],[1617667200000,0.0],[1617753600000,0.0],[1617840000000,0.0],[1617926400000,0.0],[1618012800000,0.0],[1618099200000,0.0],[1618185600000,0.0],[1618272000000,0.0],[1618358400000,0.0],[1618444800000,0.0],[1618531200000,0.0],[1618617600000,0.0],[1618704000000,0.0],[1618790400000,0.0],[1618876800000,0.0],[1618963200000,0.0],[1619049600000,0.0],[1619136000000,0.0],[1619222400000,0.0],[1619308800000,0.0],[1619395200000,0.0],[1619481600000,0.0],[1619568000000,0.0],[1619654400000,0.0],[1619740800000,0.0],[1619827200000,0.0],[1619913600000,0.0],[1620000000000,0.0],[1620086400000,0.0],[1620172800000,0.0],[1620259200000,0.0],[1620345600000,0.0],[1620432000000,0.0],[1620518400000,0.0],[1620604800000,0.0],[1620691200000,0.0],[1620777600000,0.0],[1620864000000,0.0],[1620950400000,0.0],[1621036800000,0.0]],\"type\":\"line\"}],\"xAxis\":{\"title\":{\"text\":\"date\"},\"type\":\"datetime\"},\"yAxis\":[{\"title\":{\"text\":\"\\u5e02\\u503c\"},\"top\":\"1%\",\"height\":\"49%\",\"offset\":0},{\"title\":{\"text\":\"\\u5e02\\u503c\\u65e5\\u6536\\u76ca\\u7387\\u5f02\\u5e38\\u503c\"},\"top\":\"50%\",\"height\":\"50%\",\"offset\":0}]}/bigcharts-data-end</pre></div>"
      ],
      "text/plain": [
       "<IPython.core.display.HTML object>"
      ]
     },
     "metadata": {},
     "output_type": "display_data"
    },
    {
     "data": {
      "text/plain": [
       "[2021-05-16 21:36:07.094644] INFO: moduleinvoker: Tplot_COPY.v11 运行完成[0.430547s]."
      ]
     },
     "metadata": {
      "is_log": true,
      "status": "INFO"
     },
     "output_type": "display_data"
    }
   ],
   "source": [
    "# 本代码由可视化策略环境自动生成 2021年8月22日09:58\n",
    "# 本代码单元只能在可视化模式下编辑。您也可以拷贝代码，粘贴到新建的代码单元或者策略，然后修改。\n",
    "\n",
    "\n",
    "# Python 代码入口函数，input_1/2/3 对应三个输入端，data_1/2/3 对应三个输出端\n",
    "def m15_run_bigquant_run(input_1, input_2, input_3):\n",
    "    # 示例代码如下。在这里编写您的代码\n",
    "    df = input_1.read_df()\n",
    "    df['date0'] = df['date'].apply(lambda x: x[0:11] + ' 00:00:00')\n",
    "    df['date1'] = df['date0'].apply(lambda x: datetime.datetime.strptime(x, '%Y-%m-%d %H:%M:%S'))\n",
    "    df = df.drop(['date','date0'], axis=1)\n",
    "    df = df.rename(columns={'date1': 'date'})\n",
    "    #df = pd.DataFrame({'data': [1, 2, 3]})\n",
    "    data_1 = DataSource.write_df(df)\n",
    "    data_2 = DataSource.write_pickle(df)\n",
    "    return Outputs(data_1=data_1, data_2=None, data_3=None)\n",
    "\n",
    "# 后处理函数，可选。输入是主函数的输出，可以在这里对数据做处理，或者返回更友好的outputs数据格式。此函数输出不会被缓存。\n",
    "def m15_post_run_bigquant_run(outputs):\n",
    "    return outputs\n",
    "\n",
    "# Python 代码入口函数，input_1/2/3 对应三个输入端，data_1/2/3 对应三个输出端\n",
    "def m7_run_bigquant_run(input_1, input_2, input_3):\n",
    "    # 示例代码如下。在这里编写您的代码\n",
    "    #df = pd.DataFrame({'data': [1, 2, 3]})\n",
    "    df = input_1.read_df()\n",
    "    df1 = df[df!= 0]\n",
    "    data_1 = DataSource.write_df(df1)\n",
    "    #data_2 = DataSource.write_pickle(df)\n",
    "    return Outputs(data_1=data_1, data_2=None, data_3=None)\n",
    "\n",
    "# 后处理函数，可选。输入是主函数的输出，可以在这里对数据做处理，或者返回更友好的outputs数据格式。此函数输出不会被缓存。\n",
    "def m7_post_run_bigquant_run(outputs):\n",
    "    return outputs\n",
    "\n",
    "# Python 代码入口函数，input_1/2/3 对应三个输入端，data_1/2/3 对应三个输出端\n",
    "def m17_run_bigquant_run(input_1, input_2, input_3):\n",
    "    # 示例代码如下。在这里编写您的代码\n",
    "    #df = pd.DataFrame({'data': [1, 2, 3]})\n",
    "    df = input_1.read_df()\n",
    "    df1 = df[df.columns.difference(['date'])]\n",
    "    df2 = df1.applymap(lambda x: np.log(x))\n",
    "    df2['date'] = df['date']\n",
    "    data_1 = DataSource.write_df(df2)\n",
    "    #data_2 = DataSource.write_pickle(df)\n",
    "    return Outputs(data_1=data_1, data_2=None, data_3=None)\n",
    "\n",
    "# 后处理函数，可选。输入是主函数的输出，可以在这里对数据做处理，或者返回更友好的outputs数据格式。此函数输出不会被缓存。\n",
    "def m17_post_run_bigquant_run(outputs):\n",
    "    return outputs\n",
    "\n",
    "# Python 代码入口函数，input_1/2/3 对应三个输入端，data_1/2/3 对应三个输出端\n",
    "def m21_run_bigquant_run(input_1, input_2, input_3):\n",
    "    # 示例代码如下。在这里编写您的代码\n",
    "    #df = pd.DataFrame({'data': [1, 2, 3]})\n",
    "    df = input_1.read_df()\n",
    "    df['instrument'] = 'BTC_USDT.HBI'\n",
    "    data_1 = DataSource.write_df(df)\n",
    "    #data_2 = DataSource.write_pickle(df)\n",
    "    return Outputs(data_1=data_1, data_2=None, data_3=None)\n",
    "\n",
    "# 后处理函数，可选。输入是主函数的输出，可以在这里对数据做处理，或者返回更友好的outputs数据格式。此函数输出不会被缓存。\n",
    "def m21_post_run_bigquant_run(outputs):\n",
    "    return outputs\n",
    "\n",
    "# Python 代码入口函数，input_1/2/3 对应三个输入端，data_1/2/3 对应三个输出端\n",
    "def m4_run_bigquant_run(input_1, input_2, input_3):\n",
    "    # 示例代码如下。在这里编写您的代码\n",
    "    df = input_1.read_df()\n",
    "    df['date0'] = df['date'].apply(lambda x: x[0:11] + ' 00:00:00')\n",
    "    df['date1'] = df['date0'].apply(lambda x: datetime.datetime.strptime(x, '%Y-%m-%d %H:%M:%S'))\n",
    "    df = df.drop(['date','date0'], axis=1)\n",
    "    df = df.rename(columns={'date1': 'date'})\n",
    "    #df = pd.DataFrame({'data': [1, 2, 3]})\n",
    "    data_1 = DataSource.write_df(df)\n",
    "    data_2 = DataSource.write_pickle(df)\n",
    "    return Outputs(data_1=data_1, data_2=None, data_3=None)\n",
    "\n",
    "# 后处理函数，可选。输入是主函数的输出，可以在这里对数据做处理，或者返回更友好的outputs数据格式。此函数输出不会被缓存。\n",
    "def m4_post_run_bigquant_run(outputs):\n",
    "    return outputs\n",
    "\n",
    "# Python 代码入口函数，input_1/2/3 对应三个输入端，data_1/2/3 对应三个输出端\n",
    "def m25_run_bigquant_run(input_1, input_2, input_3):\n",
    "    # 示例代码如下。在这里编写您的代码\n",
    "    #df = pd.DataFrame({'data': [1, 2, 3]})\n",
    "    df = input_1.read_df()\n",
    "    df1 = df[df.columns.difference(['date'])]\n",
    "    df2 = df1.apply(lambda col: np.cumsum(col))\n",
    "    df2['date'] = df['date']\n",
    "    data_1 = DataSource.write_df(df2)\n",
    "    #data_2 = DataSource.write_pickle(df)\n",
    "    return Outputs(data_1=data_1, data_2=None, data_3=None)\n",
    "\n",
    "# 后处理函数，可选。输入是主函数的输出，可以在这里对数据做处理，或者返回更友好的outputs数据格式。此函数输出不会被缓存。\n",
    "def m25_post_run_bigquant_run(outputs):\n",
    "    return outputs\n",
    "\n",
    "# Python 代码入口函数，input_1/2/3 对应三个输入端，data_1/2/3 对应三个输出端\n",
    "def m5_run_bigquant_run(input_1, input_2, input_3):\n",
    "    # 示例代码如下。在这里编写您的代码\n",
    "    #df = pd.DataFrame({'data': [1, 2, 3]})\n",
    "    df = input_1.read_df()\n",
    "    df1 = df[df!= 0]\n",
    "    data_1 = DataSource.write_df(df1)\n",
    "    #data_2 = DataSource.write_pickle(df)\n",
    "    return Outputs(data_1=data_1, data_2=None, data_3=None)\n",
    "\n",
    "# 后处理函数，可选。输入是主函数的输出，可以在这里对数据做处理，或者返回更友好的outputs数据格式。此函数输出不会被缓存。\n",
    "def m5_post_run_bigquant_run(outputs):\n",
    "    return outputs\n",
    "\n",
    "# Python 代码入口函数，input_1/2/3 对应三个输入端，data_1/2/3 对应三个输出端\n",
    "def m22_run_bigquant_run(input_1, input_2, input_3):\n",
    "    # 示例代码如下。在这里编写您的代码\n",
    "    #df = pd.DataFrame({'data': [1, 2, 3]})\n",
    "    df = input_1.read_df()\n",
    "    df1 = df[df.columns.difference(['date'])]\n",
    "    df2 = df1.applymap(lambda x: np.log(x))\n",
    "    df2['date'] = df['date']\n",
    "    data_1 = DataSource.write_df(df2)\n",
    "    #data_2 = DataSource.write_pickle(df)\n",
    "    return Outputs(data_1=data_1, data_2=None, data_3=None)\n",
    "\n",
    "# 后处理函数，可选。输入是主函数的输出，可以在这里对数据做处理，或者返回更友好的outputs数据格式。此函数输出不会被缓存。\n",
    "def m22_post_run_bigquant_run(outputs):\n",
    "    return outputs\n",
    "\n",
    "# Python 代码入口函数，input_1/2/3 对应三个输入端，data_1/2/3 对应三个输出端\n",
    "def m27_run_bigquant_run(input_1, input_2, input_3):\n",
    "    # 示例代码如下。在这里编写您的代码\n",
    "    #df = pd.DataFrame({'data': [1, 2, 3]})\n",
    "    df = input_1.read()\n",
    "    df['residual'] = df['label'] - df['pred_label']\n",
    "    data_1 = DataSource.write_df(df)\n",
    "    #data_2 = DataSource.write_pickle(df)\n",
    "    return Outputs(data_1=data_1, data_2=None, data_3=None)\n",
    "\n",
    "# 后处理函数，可选。输入是主函数的输出，可以在这里对数据做处理，或者返回更友好的outputs数据格式。此函数输出不会被缓存。\n",
    "def m27_post_run_bigquant_run(outputs):\n",
    "    return outputs\n",
    "\n",
    "\n",
    "m8 = M.rename_columns1.v1(\n",
    "    columns='Date@date|Value@market_cap',\n",
    "    keep_old_columns=False\n",
    ")\n",
    "\n",
    "m15 = M.cached.v3(\n",
    "    input_1=m8.data,\n",
    "    run=m15_run_bigquant_run,\n",
    "    post_run=m15_post_run_bigquant_run,\n",
    "    input_ports='',\n",
    "    params='{}',\n",
    "    output_ports=''\n",
    ")\n",
    "\n",
    "m7 = M.cached.v3(\n",
    "    input_1=m15.data_1,\n",
    "    run=m7_run_bigquant_run,\n",
    "    post_run=m7_post_run_bigquant_run,\n",
    "    input_ports='',\n",
    "    params='{}',\n",
    "    output_ports=''\n",
    ")\n",
    "\n",
    "m43 = M.dropnan.v2(\n",
    "    input_data=m7.data_1\n",
    ")\n",
    "\n",
    "m3 = M.sort.v4(\n",
    "    input_ds=m43.data,\n",
    "    sort_by='date',\n",
    "    group_by='',\n",
    "    keep_columns='date,market_cap',\n",
    "    ascending=True\n",
    ")\n",
    "\n",
    "m17 = M.cached.v3(\n",
    "    input_1=m3.sorted_data,\n",
    "    run=m17_run_bigquant_run,\n",
    "    post_run=m17_post_run_bigquant_run,\n",
    "    input_ports='',\n",
    "    params='{}',\n",
    "    output_ports=''\n",
    ")\n",
    "\n",
    "m21 = M.cached.v3(\n",
    "    input_1=m17.data_1,\n",
    "    run=m21_run_bigquant_run,\n",
    "    post_run=m21_post_run_bigquant_run,\n",
    "    input_ports='',\n",
    "    params='{}',\n",
    "    output_ports=''\n",
    ")\n",
    "\n",
    "m20 = M.auto_labeler_on_datasource.v1(\n",
    "    input_data=m21.data_1,\n",
    "    label_expr=\"\"\"# #号开始的表示注释\n",
    "# 0. 每行一个，顺序执行，从第二个开始，可以使用label字段\n",
    "# 1. 可用数据字段见 https://bigquant.com/docs/develop/datasource/deprecated/history_data.html\n",
    "# 2. 可用操作符和函数见 `表达式引擎 <https://bigquant.com/docs/develop/bigexpr/usage.html>`_\n",
    "\n",
    "# 计算收益：5日收盘价(作为卖出价格)除以明日开盘价(作为买入价格)\n",
    "market_cap\n",
    "\n",
    "# 极值处理：用1%和99%分位的值做clip\n",
    "#clip(label, all_quantile(label, 0.01), all_quantile(label, 0.99))\n",
    "\n",
    "# 将分数映射到分类，这里使用20个分类\n",
    "#all_wbins(label, 20)\n",
    "\n",
    "# 过滤掉一字涨停的情况 (设置label为NaN，在后续处理和训练中会忽略NaN的label)\n",
    "#where(shift(high, -1) == shift(low, -1), NaN, label)\n",
    "\"\"\",\n",
    "    drop_na_label=True,\n",
    "    cast_label_int=False,\n",
    "    date_col='date',\n",
    "    instrument_col='instrument',\n",
    "    user_functions={}\n",
    ")\n",
    "\n",
    "m4 = M.cached.v3(\n",
    "    run=m4_run_bigquant_run,\n",
    "    post_run=m4_post_run_bigquant_run,\n",
    "    input_ports='',\n",
    "    params='{}',\n",
    "    output_ports=''\n",
    ")\n",
    "\n",
    "m25 = M.cached.v3(\n",
    "    input_1=m4.data_1,\n",
    "    run=m25_run_bigquant_run,\n",
    "    post_run=m25_post_run_bigquant_run,\n",
    "    input_ports='',\n",
    "    params='{}',\n",
    "    output_ports=''\n",
    ")\n",
    "\n",
    "m5 = M.cached.v3(\n",
    "    input_1=m25.data_1,\n",
    "    run=m5_run_bigquant_run,\n",
    "    post_run=m5_post_run_bigquant_run,\n",
    "    input_ports='',\n",
    "    params='{}',\n",
    "    output_ports=''\n",
    ")\n",
    "\n",
    "m22 = M.cached.v3(\n",
    "    input_1=m5.data_1,\n",
    "    run=m22_run_bigquant_run,\n",
    "    post_run=m22_post_run_bigquant_run,\n",
    "    input_ports='',\n",
    "    params='{}',\n",
    "    output_ports=''\n",
    ")\n",
    "\n",
    "m14 = M.join.v3(\n",
    "    data1=m20.data,\n",
    "    data2=m22.data_1,\n",
    "    on='date',\n",
    "    how='inner',\n",
    "    sort=False\n",
    ")\n",
    "\n",
    "m31 = M.filter.v3(\n",
    "    input_data=m14.data,\n",
    "    expr='date<\\'2014-06-01\\'',\n",
    "    output_left_data=True\n",
    ")\n",
    "\n",
    "m50 = M.df_stastic.v6(\n",
    "    input_1=m14.data,\n",
    "    type_num=0,\n",
    "    columns=['factor1', 'm:market_cap']\n",
    ")\n",
    "\n",
    "m51 = M.Tplot_COPY.v11(\n",
    "    input_1=m14.data,\n",
    "    y='factor1,m:market_cap',\n",
    "    title='比特币因子和市值图',\n",
    "    chart_type='line',\n",
    "    chart_options={\n",
    "    \"chart\": {\"height\": 500},\n",
    "    # 设置多个子图各自的y轴名称、子图位置等相关配置\n",
    "    \"yAxis\": [\n",
    "              {\"title\": {\"text\": \"比特币因子\"},\"top\": \"10%\",\"height\": \"90%\",\"offset\": 10},\n",
    "              {\"title\": {\"text\": \"比特币市值对数\"},\"top\": \"10%\",\"height\": \"90%\",\"offset\": 10}\n",
    "             ],\n",
    "    # 设置子图绘制的数据data、绘图类型type和对应的y轴配置yAxis(0表示yAxis配置列表的第一项，\n",
    "    \"series\":[\n",
    "              {\"type\":\"line\",\"yAxis\":0},\n",
    "              {\"type\":\"line\",\"yAxis\":1}\n",
    "              # 多个变量绘制在相同子图可设置相同的yAxis序号)\n",
    "              #{\"data\":[m5.data.read()[[\"date\"]],m5.data.read()[[\"volume\"]]],\"type\":\"column\",\"yAxis\":1},\n",
    "             ]\n",
    "}\n",
    ")\n",
    "\n",
    "m19 = M.input_features.v1(\n",
    "    features=\"\"\"\n",
    "# #号开始的表示注释，注释需单独一行\n",
    "# 多个特征，每行一个，可以包含基础特征和衍生特征，特征须为本平台特征\n",
    "factor1\n",
    "\"\"\"\n",
    ")\n",
    "\n",
    "m32 = M.linear_regression.v1(\n",
    "    training_ds=m31.data,\n",
    "    features=m19.data,\n",
    "    predict_ds=m31.left_data,\n",
    "    fit_intercept=True,\n",
    "    normalize=False,\n",
    "    key_cols='date,instrument',\n",
    "    workers=1,\n",
    "    other_train_parameters={}\n",
    ")\n",
    "\n",
    "m33 = M.metrics_regression.v1(\n",
    "    predictions=m32.predictions,\n",
    "    explained_variance_score=True,\n",
    "    mean_absolute_error=True,\n",
    "    mean_squared_error=True,\n",
    "    mean_squared_log_error=True,\n",
    "    median_absolute_error=True,\n",
    "    r2_score=True\n",
    ")\n",
    "\n",
    "m47 = M.Tplot_COPY.v11(\n",
    "    input_1=m32.predictions,\n",
    "    y='pred_label,label',\n",
    "    title='预测图',\n",
    "    chart_type='line',\n",
    "    chart_options={\n",
    "    \"chart\": {\"height\": 400},\n",
    "    # 设置多个子图各自的y轴名称、子图位置等相关配置\n",
    "    \"yAxis\": [\n",
    "              {},\n",
    "              {\"title\": {\"text\": \"市值对数\"},\"top\": \"10%\",\"height\": \"90%\",\"offset\": 10}\n",
    "             ],\n",
    "    # 设置子图绘制的数据data、绘图类型type和对应的y轴配置yAxis(0表示yAxis配置列表的第一项，\n",
    "    \"series\":[\n",
    "              {},\n",
    "              {\"type\":\"line\",\"yAxis\":0}\n",
    "              # 多个变量绘制在相同子图可设置相同的yAxis序号)\n",
    "              #{\"data\":[m5.data.read()[[\"date\"]],m5.data.read()[[\"volume\"]]],\"type\":\"column\",\"yAxis\":1},\n",
    "             ]\n",
    "}\n",
    ")\n",
    "\n",
    "m27 = M.cached.v3(\n",
    "    input_1=m32.predictions,\n",
    "    run=m27_run_bigquant_run,\n",
    "    post_run=m27_post_run_bigquant_run,\n",
    "    input_ports='',\n",
    "    params='{}',\n",
    "    output_ports=''\n",
    ")\n",
    "\n",
    "m36 = M.Tplot_COPY.v11(\n",
    "    input_1=m27.data_1,\n",
    "    y='residual,label',\n",
    "    title='交易信号图',\n",
    "    chart_type='line',\n",
    "    chart_options={\n",
    "    \"chart\": {\"height\": 400},\n",
    "    # 设置多个子图各自的y轴名称、子图位置等相关配置\n",
    "    \"yAxis\": [\n",
    "              {\"title\": {\"text\": \"交易信号\"},\"top\": \"5%\",\"height\": \"95%\",\"offset\": 10},\n",
    "              {\"title\": {\"text\": \"市值对数\"},\"top\": \"10%\",\"height\": \"90%\",\"offset\": 10}\n",
    "             ],\n",
    "    # 设置子图绘制的数据data、绘图类型type和对应的y轴配置yAxis(0表示yAxis配置列表的第一项，\n",
    "    \"series\":[\n",
    "              {},\n",
    "              {\"type\":\"line\",\"yAxis\":1}\n",
    "              # 多个变量绘制在相同子图可设置相同的yAxis序号)\n",
    "              #{\"data\":[m5.data.read()[[\"date\"]],m5.data.read()[[\"volume\"]]],\"type\":\"column\",\"yAxis\":1},\n",
    "             ]\n",
    "}\n",
    ")\n"
   ]
  },
  {
   "cell_type": "code",
   "execution_count": 27,
   "metadata": {},
   "outputs": [
    {
     "data": {
      "text/plain": [
       "Index(['date', 'open', 'high', 'low', 'close', 'volume', 'Volume (Currency)',\n",
       "       'vwap_11'],\n",
       "      dtype='object')"
      ]
     },
     "execution_count": 27,
     "metadata": {},
     "output_type": "execute_result"
    }
   ],
   "source": [
    "m39.data.read_df().columns"
   ]
  },
  {
   "cell_type": "code",
   "execution_count": 41,
   "metadata": {},
   "outputs": [
    {
     "data": {
      "text/plain": [
       "hot_word                     object\n",
       "emotion                      object\n",
       "emotion_index                 int64\n",
       "cum_emotion_index             int64\n",
       "date                 datetime64[ns]\n",
       "dtype: object"
      ]
     },
     "execution_count": 41,
     "metadata": {},
     "output_type": "execute_result"
    }
   ],
   "source": [
    "m18.data.read_df().dtypes"
   ]
  },
  {
   "cell_type": "code",
   "execution_count": 39,
   "metadata": {},
   "outputs": [
    {
     "data": {
      "text/html": [
       "<div>\n",
       "<style scoped>\n",
       "    .dataframe tbody tr th:only-of-type {\n",
       "        vertical-align: middle;\n",
       "    }\n",
       "\n",
       "    .dataframe tbody tr th {\n",
       "        vertical-align: top;\n",
       "    }\n",
       "\n",
       "    .dataframe thead th {\n",
       "        text-align: right;\n",
       "    }\n",
       "</style>\n",
       "<table border=\"1\" class=\"dataframe\">\n",
       "  <thead>\n",
       "    <tr style=\"text-align: right;\">\n",
       "      <th></th>\n",
       "      <th>date</th>\n",
       "      <th>market_cap</th>\n",
       "    </tr>\n",
       "  </thead>\n",
       "  <tbody>\n",
       "    <tr>\n",
       "      <th>0</th>\n",
       "      <td>2021-03-31</td>\n",
       "      <td>1.098557e+12</td>\n",
       "    </tr>\n",
       "    <tr>\n",
       "      <th>1</th>\n",
       "      <td>2021-03-30</td>\n",
       "      <td>1.099743e+12</td>\n",
       "    </tr>\n",
       "    <tr>\n",
       "      <th>2</th>\n",
       "      <td>2021-03-29</td>\n",
       "      <td>1.071727e+12</td>\n",
       "    </tr>\n",
       "    <tr>\n",
       "      <th>3</th>\n",
       "      <td>2021-03-28</td>\n",
       "      <td>1.027089e+12</td>\n",
       "    </tr>\n",
       "    <tr>\n",
       "      <th>4</th>\n",
       "      <td>2021-03-27</td>\n",
       "      <td>1.041561e+12</td>\n",
       "    </tr>\n",
       "  </tbody>\n",
       "</table>\n",
       "</div>"
      ],
      "text/plain": [
       "         date    market_cap\n",
       "0  2021-03-31  1.098557e+12\n",
       "1  2021-03-30  1.099743e+12\n",
       "2  2021-03-29  1.071727e+12\n",
       "3  2021-03-28  1.027089e+12\n",
       "4  2021-03-27  1.041561e+12"
      ]
     },
     "execution_count": 39,
     "metadata": {},
     "output_type": "execute_result"
    }
   ],
   "source": [
    "m8.data.read_df().head()"
   ]
  },
  {
   "cell_type": "code",
   "execution_count": null,
   "metadata": {},
   "outputs": [],
   "source": [
    "intercept: 4.3474586137228135\n",
    "coef: [-0.00210041]"
   ]
  },
  {
   "cell_type": "code",
   "execution_count": 3,
   "metadata": {},
   "outputs": [
    {
     "data": {
      "text/html": [
       "<div>\n",
       "<style scoped>\n",
       "    .dataframe tbody tr th:only-of-type {\n",
       "        vertical-align: middle;\n",
       "    }\n",
       "\n",
       "    .dataframe tbody tr th {\n",
       "        vertical-align: top;\n",
       "    }\n",
       "\n",
       "    .dataframe thead th {\n",
       "        text-align: right;\n",
       "    }\n",
       "</style>\n",
       "<table border=\"1\" class=\"dataframe\">\n",
       "  <thead>\n",
       "    <tr style=\"text-align: right;\">\n",
       "      <th></th>\n",
       "      <th>date</th>\n",
       "      <th>peak_valley_id</th>\n",
       "      <th>peak_valley</th>\n",
       "    </tr>\n",
       "  </thead>\n",
       "  <tbody>\n",
       "    <tr>\n",
       "      <th>0</th>\n",
       "      <td>2011-06-10</td>\n",
       "      <td>297</td>\n",
       "      <td>2.693731</td>\n",
       "    </tr>\n",
       "    <tr>\n",
       "      <th>1</th>\n",
       "      <td>2011-11-21</td>\n",
       "      <td>461</td>\n",
       "      <td>-1.328831</td>\n",
       "    </tr>\n",
       "    <tr>\n",
       "      <th>2</th>\n",
       "      <td>2013-12-04</td>\n",
       "      <td>1205</td>\n",
       "      <td>1.809302</td>\n",
       "    </tr>\n",
       "    <tr>\n",
       "      <th>3</th>\n",
       "      <td>2015-08-25</td>\n",
       "      <td>1834</td>\n",
       "      <td>-1.050734</td>\n",
       "    </tr>\n",
       "    <tr>\n",
       "      <th>4</th>\n",
       "      <td>2017-12-17</td>\n",
       "      <td>2679</td>\n",
       "      <td>1.718188</td>\n",
       "    </tr>\n",
       "    <tr>\n",
       "      <th>5</th>\n",
       "      <td>2020-03-17</td>\n",
       "      <td>3500</td>\n",
       "      <td>-0.512596</td>\n",
       "    </tr>\n",
       "    <tr>\n",
       "      <th>6</th>\n",
       "      <td>2021-02-18</td>\n",
       "      <td>3838</td>\n",
       "      <td>1.529516</td>\n",
       "    </tr>\n",
       "  </tbody>\n",
       "</table>\n",
       "</div>"
      ],
      "text/plain": [
       "        date  peak_valley_id  peak_valley\n",
       "0 2011-06-10             297     2.693731\n",
       "1 2011-11-21             461    -1.328831\n",
       "2 2013-12-04            1205     1.809302\n",
       "3 2015-08-25            1834    -1.050734\n",
       "4 2017-12-17            2679     1.718188\n",
       "5 2020-03-17            3500    -0.512596\n",
       "6 2021-02-18            3838     1.529516"
      ]
     },
     "execution_count": 3,
     "metadata": {},
     "output_type": "execute_result"
    }
   ],
   "source": [
    "m12.data_1.read_df()"
   ]
  },
  {
   "cell_type": "code",
   "execution_count": 4,
   "metadata": {},
   "outputs": [
    {
     "data": {
      "text/html": [
       "<div>\n",
       "<style scoped>\n",
       "    .dataframe tbody tr th:only-of-type {\n",
       "        vertical-align: middle;\n",
       "    }\n",
       "\n",
       "    .dataframe tbody tr th {\n",
       "        vertical-align: top;\n",
       "    }\n",
       "\n",
       "    .dataframe thead th {\n",
       "        text-align: right;\n",
       "    }\n",
       "</style>\n",
       "<table border=\"1\" class=\"dataframe\">\n",
       "  <thead>\n",
       "    <tr style=\"text-align: right;\">\n",
       "      <th></th>\n",
       "      <th>date_str</th>\n",
       "      <th>date</th>\n",
       "      <th>peak_valley_diff</th>\n",
       "      <th>instrument</th>\n",
       "    </tr>\n",
       "  </thead>\n",
       "  <tbody>\n",
       "    <tr>\n",
       "      <th>0</th>\n",
       "      <td>2011-11-21</td>\n",
       "      <td>164</td>\n",
       "      <td>4.022562</td>\n",
       "      <td>BTC_USDT.HBI</td>\n",
       "    </tr>\n",
       "    <tr>\n",
       "      <th>1</th>\n",
       "      <td>2013-12-04</td>\n",
       "      <td>744</td>\n",
       "      <td>3.138133</td>\n",
       "      <td>BTC_USDT.HBI</td>\n",
       "    </tr>\n",
       "    <tr>\n",
       "      <th>2</th>\n",
       "      <td>2015-08-25</td>\n",
       "      <td>629</td>\n",
       "      <td>2.860036</td>\n",
       "      <td>BTC_USDT.HBI</td>\n",
       "    </tr>\n",
       "    <tr>\n",
       "      <th>3</th>\n",
       "      <td>2017-12-17</td>\n",
       "      <td>845</td>\n",
       "      <td>2.768922</td>\n",
       "      <td>BTC_USDT.HBI</td>\n",
       "    </tr>\n",
       "    <tr>\n",
       "      <th>4</th>\n",
       "      <td>2020-03-17</td>\n",
       "      <td>821</td>\n",
       "      <td>2.230784</td>\n",
       "      <td>BTC_USDT.HBI</td>\n",
       "    </tr>\n",
       "  </tbody>\n",
       "</table>\n",
       "</div>"
      ],
      "text/plain": [
       "    date_str  date  peak_valley_diff    instrument\n",
       "0 2011-11-21   164          4.022562  BTC_USDT.HBI\n",
       "1 2013-12-04   744          3.138133  BTC_USDT.HBI\n",
       "2 2015-08-25   629          2.860036  BTC_USDT.HBI\n",
       "3 2017-12-17   845          2.768922  BTC_USDT.HBI\n",
       "4 2020-03-17   821          2.230784  BTC_USDT.HBI"
      ]
     },
     "execution_count": 4,
     "metadata": {},
     "output_type": "execute_result"
    }
   ],
   "source": [
    "m12.data_2.read_df()"
   ]
  },
  {
   "cell_type": "code",
   "execution_count": 57,
   "metadata": {},
   "outputs": [
    {
     "data": {
      "text/html": [
       "<div>\n",
       "<style scoped>\n",
       "    .dataframe tbody tr th:only-of-type {\n",
       "        vertical-align: middle;\n",
       "    }\n",
       "\n",
       "    .dataframe tbody tr th {\n",
       "        vertical-align: top;\n",
       "    }\n",
       "\n",
       "    .dataframe thead th {\n",
       "        text-align: right;\n",
       "    }\n",
       "</style>\n",
       "<table border=\"1\" class=\"dataframe\">\n",
       "  <thead>\n",
       "    <tr style=\"text-align: right;\">\n",
       "      <th></th>\n",
       "      <th>pred_label</th>\n",
       "      <th>date</th>\n",
       "      <th>instrument</th>\n",
       "      <th>label</th>\n",
       "    </tr>\n",
       "  </thead>\n",
       "  <tbody>\n",
       "    <tr>\n",
       "      <th>0</th>\n",
       "      <td>3.466249</td>\n",
       "      <td>164.0</td>\n",
       "      <td>BTC_USDT.HBI</td>\n",
       "      <td>4.017238</td>\n",
       "    </tr>\n",
       "    <tr>\n",
       "      <th>1</th>\n",
       "      <td>2.797394</td>\n",
       "      <td>744.0</td>\n",
       "      <td>BTC_USDT.HBI</td>\n",
       "      <td>3.150937</td>\n",
       "    </tr>\n",
       "    <tr>\n",
       "      <th>2</th>\n",
       "      <td>2.930012</td>\n",
       "      <td>629.0</td>\n",
       "      <td>BTC_USDT.HBI</td>\n",
       "      <td>2.855106</td>\n",
       "    </tr>\n",
       "    <tr>\n",
       "      <th>3</th>\n",
       "      <td>2.680921</td>\n",
       "      <td>845.0</td>\n",
       "      <td>BTC_USDT.HBI</td>\n",
       "      <td>2.775772</td>\n",
       "    </tr>\n",
       "    <tr>\n",
       "      <th>4</th>\n",
       "      <td>3.173336</td>\n",
       "      <td>418.0</td>\n",
       "      <td>BTC_USDT.HBI</td>\n",
       "      <td>2.248858</td>\n",
       "    </tr>\n",
       "  </tbody>\n",
       "</table>\n",
       "</div>"
      ],
      "text/plain": [
       "   pred_label   date    instrument     label\n",
       "0    3.466249  164.0  BTC_USDT.HBI  4.017238\n",
       "1    2.797394  744.0  BTC_USDT.HBI  3.150937\n",
       "2    2.930012  629.0  BTC_USDT.HBI  2.855106\n",
       "3    2.680921  845.0  BTC_USDT.HBI  2.775772\n",
       "4    3.173336  418.0  BTC_USDT.HBI  2.248858"
      ]
     },
     "execution_count": 57,
     "metadata": {},
     "output_type": "execute_result"
    }
   ],
   "source": [
    "m26.predictions.read_df() # peak_valley_pred_df"
   ]
  },
  {
   "cell_type": "code",
   "execution_count": 120,
   "metadata": {},
   "outputs": [
    {
     "data": {
      "text/html": [
       "<div>\n",
       "<style scoped>\n",
       "    .dataframe tbody tr th:only-of-type {\n",
       "        vertical-align: middle;\n",
       "    }\n",
       "\n",
       "    .dataframe tbody tr th {\n",
       "        vertical-align: top;\n",
       "    }\n",
       "\n",
       "    .dataframe thead th {\n",
       "        text-align: right;\n",
       "    }\n",
       "</style>\n",
       "<table border=\"1\" class=\"dataframe\">\n",
       "  <thead>\n",
       "    <tr style=\"text-align: right;\">\n",
       "      <th></th>\n",
       "      <th>peak_valley</th>\n",
       "      <th>peak_valley_id</th>\n",
       "      <th>date</th>\n",
       "      <th>peak_valley_diff</th>\n",
       "      <th>instrument</th>\n",
       "    </tr>\n",
       "  </thead>\n",
       "  <tbody>\n",
       "    <tr>\n",
       "      <th>0</th>\n",
       "      <td>2.684046</td>\n",
       "      <td>297</td>\n",
       "      <td>NaN</td>\n",
       "      <td>NaN</td>\n",
       "      <td>BTC_USDT.HBI</td>\n",
       "    </tr>\n",
       "    <tr>\n",
       "      <th>1</th>\n",
       "      <td>-1.333193</td>\n",
       "      <td>461</td>\n",
       "      <td>164.0</td>\n",
       "      <td>4.017238</td>\n",
       "      <td>BTC_USDT.HBI</td>\n",
       "    </tr>\n",
       "    <tr>\n",
       "      <th>2</th>\n",
       "      <td>1.817744</td>\n",
       "      <td>1205</td>\n",
       "      <td>744.0</td>\n",
       "      <td>3.150937</td>\n",
       "      <td>BTC_USDT.HBI</td>\n",
       "    </tr>\n",
       "    <tr>\n",
       "      <th>3</th>\n",
       "      <td>-1.037361</td>\n",
       "      <td>1834</td>\n",
       "      <td>629.0</td>\n",
       "      <td>2.855106</td>\n",
       "      <td>BTC_USDT.HBI</td>\n",
       "    </tr>\n",
       "    <tr>\n",
       "      <th>4</th>\n",
       "      <td>1.738410</td>\n",
       "      <td>2679</td>\n",
       "      <td>845.0</td>\n",
       "      <td>2.775772</td>\n",
       "      <td>BTC_USDT.HBI</td>\n",
       "    </tr>\n",
       "    <tr>\n",
       "      <th>5</th>\n",
       "      <td>-0.450692</td>\n",
       "      <td>3500</td>\n",
       "      <td>821.0</td>\n",
       "      <td>2.189103</td>\n",
       "      <td>BTC_USDT.HBI</td>\n",
       "    </tr>\n",
       "  </tbody>\n",
       "</table>\n",
       "</div>"
      ],
      "text/plain": [
       "   peak_valley  peak_valley_id   date  peak_valley_diff    instrument\n",
       "0     2.684046             297    NaN               NaN  BTC_USDT.HBI\n",
       "1    -1.333193             461  164.0          4.017238  BTC_USDT.HBI\n",
       "2     1.817744            1205  744.0          3.150937  BTC_USDT.HBI\n",
       "3    -1.037361            1834  629.0          2.855106  BTC_USDT.HBI\n",
       "4     1.738410            2679  845.0          2.775772  BTC_USDT.HBI\n",
       "5    -0.450692            3500  821.0          2.189103  BTC_USDT.HBI"
      ]
     },
     "execution_count": 120,
     "metadata": {},
     "output_type": "execute_result"
    }
   ],
   "source": [
    "m12.data_1.read_df() #peak_valley_df"
   ]
  },
  {
   "cell_type": "code",
   "execution_count": 154,
   "metadata": {},
   "outputs": [
    {
     "data": {
      "text/html": [
       "<div>\n",
       "<style scoped>\n",
       "    .dataframe tbody tr th:only-of-type {\n",
       "        vertical-align: middle;\n",
       "    }\n",
       "\n",
       "    .dataframe tbody tr th {\n",
       "        vertical-align: top;\n",
       "    }\n",
       "\n",
       "    .dataframe thead th {\n",
       "        text-align: right;\n",
       "    }\n",
       "</style>\n",
       "<table border=\"1\" class=\"dataframe\">\n",
       "  <thead>\n",
       "    <tr style=\"text-align: right;\">\n",
       "      <th></th>\n",
       "      <th>m:peak_valley</th>\n",
       "      <th>m:peak_valley_id</th>\n",
       "      <th>date</th>\n",
       "      <th>m:peak_valley_diff</th>\n",
       "      <th>instrument</th>\n",
       "      <th>label</th>\n",
       "    </tr>\n",
       "  </thead>\n",
       "  <tbody>\n",
       "    <tr>\n",
       "      <th>0</th>\n",
       "      <td>-1.333193</td>\n",
       "      <td>461</td>\n",
       "      <td>164.0</td>\n",
       "      <td>4.017238</td>\n",
       "      <td>BTC_USDT.HBI</td>\n",
       "      <td>4.017238</td>\n",
       "    </tr>\n",
       "    <tr>\n",
       "      <th>1</th>\n",
       "      <td>1.817744</td>\n",
       "      <td>1205</td>\n",
       "      <td>744.0</td>\n",
       "      <td>3.150937</td>\n",
       "      <td>BTC_USDT.HBI</td>\n",
       "      <td>3.150937</td>\n",
       "    </tr>\n",
       "    <tr>\n",
       "      <th>2</th>\n",
       "      <td>-1.037361</td>\n",
       "      <td>1834</td>\n",
       "      <td>629.0</td>\n",
       "      <td>2.855106</td>\n",
       "      <td>BTC_USDT.HBI</td>\n",
       "      <td>2.855106</td>\n",
       "    </tr>\n",
       "    <tr>\n",
       "      <th>3</th>\n",
       "      <td>1.738410</td>\n",
       "      <td>2679</td>\n",
       "      <td>845.0</td>\n",
       "      <td>2.775772</td>\n",
       "      <td>BTC_USDT.HBI</td>\n",
       "      <td>2.775772</td>\n",
       "    </tr>\n",
       "    <tr>\n",
       "      <th>4</th>\n",
       "      <td>-0.450692</td>\n",
       "      <td>3500</td>\n",
       "      <td>821.0</td>\n",
       "      <td>2.189103</td>\n",
       "      <td>BTC_USDT.HBI</td>\n",
       "      <td>2.189103</td>\n",
       "    </tr>\n",
       "  </tbody>\n",
       "</table>\n",
       "</div>"
      ],
      "text/plain": [
       "   m:peak_valley  m:peak_valley_id   date  m:peak_valley_diff    instrument  \\\n",
       "0      -1.333193               461  164.0            4.017238  BTC_USDT.HBI   \n",
       "1       1.817744              1205  744.0            3.150937  BTC_USDT.HBI   \n",
       "2      -1.037361              1834  629.0            2.855106  BTC_USDT.HBI   \n",
       "3       1.738410              2679  845.0            2.775772  BTC_USDT.HBI   \n",
       "4      -0.450692              3500  821.0            2.189103  BTC_USDT.HBI   \n",
       "\n",
       "      label  \n",
       "0  4.017238  \n",
       "1  3.150937  \n",
       "2  2.855106  \n",
       "3  2.775772  \n",
       "4  2.189103  "
      ]
     },
     "execution_count": 154,
     "metadata": {},
     "output_type": "execute_result"
    }
   ],
   "source": [
    "m35.data.read_df()"
   ]
  },
  {
   "cell_type": "code",
   "execution_count": 151,
   "metadata": {},
   "outputs": [
    {
     "name": "stdout",
     "output_type": "stream",
     "text": [
      "next_top_residual:  1.164047946494314 next_low_residual:  -0.7146159709898928\n"
     ]
    }
   ],
   "source": [
    "import pandas as pd\n",
    "top_residual = [2.4446, 1.6869]\n",
    "#, 1.6219\n",
    "low_residual = [-1.2961, -0.9624]\n",
    "#, -0.4713\n",
    "top_low_residual = pd.DataFrame({'top_residual': top_residual, 'low_residual': low_residual})\n",
    "top_low_residual['top_residual_pct'] = top_low_residual['top_residual'].pct_change()\n",
    "top_low_residual['low_residual_pct'] = top_low_residual['low_residual'].pct_change()\n",
    "top_residual_pct_average = top_low_residual['top_residual_pct'].mean()\n",
    "low_residual_pct_average = top_low_residual['low_residual_pct'].mean()\n",
    "next_top_residual = top_residual[-1] * (1 + top_residual_pct_average)\n",
    "next_low_residual = low_residual[-1] * (1 + low_residual_pct_average)\n",
    "print('next_top_residual: ', next_top_residual, 'next_low_residual: ', next_low_residual)\n",
    "# initial_max_daily_residual = [1.16, 1.16, 1.16, 1.34]\n",
    "# initial_min_daily_residual = [-0.71, -0.71, -0.47, -0.29]"
   ]
  },
  {
   "cell_type": "code",
   "execution_count": 165,
   "metadata": {},
   "outputs": [
    {
     "data": {
      "text/plain": [
       "<function bigdatasource.impl.bigdatasource.DataSource.convert_list>"
      ]
     },
     "execution_count": 165,
     "metadata": {},
     "output_type": "execute_result"
    }
   ],
   "source": [
    "m26.output_model."
   ]
  },
  {
   "cell_type": "code",
   "execution_count": 4,
   "metadata": {},
   "outputs": [
    {
     "name": "stdout",
     "output_type": "stream",
     "text": [
      "second_low_top_residual_average_pct_per_day:  -0.01553218520609825 second_low_top_residual_third_pct_per_day:  -0.011881763297962212\n"
     ]
    }
   ],
   "source": [
    "import pandas as pd\n",
    "import datetime \n",
    "low_before_second_top_residual = [- 1.077, - 0.46, - 0.4747]\n",
    "date_low_before_second_top_residual = ['2012-12-31', '2019-02-04', '2020-03-17']\n",
    "second_top_residual = [0.6145, 0.6403, 1.1779]\n",
    "date_second_top_residual = ['2013-04-01', '2019-07-08', '2021-01-04']\n",
    "#second_low_residual = [ -0.2847, -0.3207]\n",
    "second_low_top_residual = pd.DataFrame({'second_top_residual': second_top_residual, 'low_before_second_top_residual': low_before_second_top_residual})\n",
    "date_second_low_top_residual = pd.DataFrame({'date_low_before_second_top_residual': date_low_before_second_top_residual, 'date_second_top_residual': date_second_top_residual})\n",
    "\n",
    "second_low_top_residual_T = second_low_top_residual.T\n",
    "second_low_top_residual_T = second_low_top_residual_T.rename(columns={0: 'second_low_top_residual_first', 1: 'second_low_top_residual_second', 2: 'second_low_top_residual_third'})\n",
    "second_low_top_residual_T = second_low_top_residual_T.applymap(float)\n",
    "second_low_top_residual_T['second_low_top_residual_first_pct'] = second_low_top_residual_T['second_low_top_residual_first'].pct_change()\n",
    "second_low_top_residual_T['second_low_top_residual_second_pct'] = second_low_top_residual_T['second_low_top_residual_second'].pct_change()\n",
    "second_low_top_residual_T['second_low_top_residual_third_pct'] = second_low_top_residual_T['second_low_top_residual_third'].pct_change()\n",
    "\n",
    "date_second_low_top_residual['datetime_low_before_second_top_residual'] = date_second_low_top_residual['date_low_before_second_top_residual'].apply(lambda x: datetime.datetime.strptime(x, '%Y-%m-%d'))\n",
    "date_second_low_top_residual['datetime_second_top_residual'] = date_second_low_top_residual['date_second_top_residual'].apply(lambda x: datetime.datetime.strptime(x, '%Y-%m-%d'))\n",
    "date_second_low_top_residual['delta_days_between_low_before_second_top_residual_and_second_top_residual'] = date_second_low_top_residual.apply(lambda x: (x['datetime_second_top_residual'] - x['datetime_low_before_second_top_residual']).days, axis=1)\n",
    "\n",
    "second_low_top_residual_first_pct_per_day = second_low_top_residual_T['second_low_top_residual_first_pct'].iloc[1] / date_second_low_top_residual['delta_days_between_low_before_second_top_residual_and_second_top_residual'].iloc[0]\n",
    "second_low_top_residual_second_pct_per_day = second_low_top_residual_T['second_low_top_residual_second_pct'].iloc[1] / date_second_low_top_residual['delta_days_between_low_before_second_top_residual_and_second_top_residual'].iloc[1]\n",
    "second_low_top_residual_third_pct_per_day = second_low_top_residual_T['second_low_top_residual_third_pct'].iloc[1] / date_second_low_top_residual['delta_days_between_low_before_second_top_residual_and_second_top_residual'].iloc[2]\n",
    "\n",
    "second_low_top_residual_average_pct_per_day = (second_low_top_residual_second_pct_per_day + second_low_top_residual_second_pct_per_day) / 2\n",
    "print('second_low_top_residual_average_pct_per_day: ', second_low_top_residual_average_pct_per_day, 'second_low_top_residual_third_pct_per_day: ', second_low_top_residual_third_pct_per_day)\n",
    "#second_top_low_residual['second_top_residual_pct'] = second_top_low_residual['second_top_residual'].pct_change()\n",
    "#second_top_low_residual['second_low_residual_pct'] = second_top_low_residual['second_low_residual'].pct_change()\n",
    "#second_top_residual_pct_average = second_top_low_residual['second_top_residual_pct'].mean()\n",
    "#second_low_residual_pct_average = second_top_low_residual['second_low_residual_pct'].mean()\n"
   ]
  },
  {
   "cell_type": "code",
   "execution_count": 21,
   "metadata": {},
   "outputs": [
    {
     "data": {
      "text/html": [
       "<div>\n",
       "<style scoped>\n",
       "    .dataframe tbody tr th:only-of-type {\n",
       "        vertical-align: middle;\n",
       "    }\n",
       "\n",
       "    .dataframe tbody tr th {\n",
       "        vertical-align: top;\n",
       "    }\n",
       "\n",
       "    .dataframe thead th {\n",
       "        text-align: right;\n",
       "    }\n",
       "</style>\n",
       "<table border=\"1\" class=\"dataframe\">\n",
       "  <thead>\n",
       "    <tr style=\"text-align: right;\">\n",
       "      <th></th>\n",
       "      <th>date_low_before_second_top_residual</th>\n",
       "      <th>date_second_top_residual</th>\n",
       "      <th>datetime_low_before_second_top_residual</th>\n",
       "      <th>datetime_second_top_residual</th>\n",
       "      <th>delta_days_between_low_before_second_top_residual_and_second_top_residual</th>\n",
       "    </tr>\n",
       "  </thead>\n",
       "  <tbody>\n",
       "    <tr>\n",
       "      <th>0</th>\n",
       "      <td>2012-12-31</td>\n",
       "      <td>2013-04-01</td>\n",
       "      <td>2012-12-31</td>\n",
       "      <td>2013-04-01</td>\n",
       "      <td>91</td>\n",
       "    </tr>\n",
       "    <tr>\n",
       "      <th>1</th>\n",
       "      <td>2019-02-04</td>\n",
       "      <td>2019-07-08</td>\n",
       "      <td>2019-02-04</td>\n",
       "      <td>2019-07-08</td>\n",
       "      <td>154</td>\n",
       "    </tr>\n",
       "  </tbody>\n",
       "</table>\n",
       "</div>"
      ],
      "text/plain": [
       "  date_low_before_second_top_residual date_second_top_residual  \\\n",
       "0                          2012-12-31               2013-04-01   \n",
       "1                          2019-02-04               2019-07-08   \n",
       "\n",
       "  datetime_low_before_second_top_residual datetime_second_top_residual  \\\n",
       "0                              2012-12-31                   2013-04-01   \n",
       "1                              2019-02-04                   2019-07-08   \n",
       "\n",
       "   delta_days_between_low_before_second_top_residual_and_second_top_residual  \n",
       "0                                                 91                          \n",
       "1                                                154                          "
      ]
     },
     "execution_count": 21,
     "metadata": {},
     "output_type": "execute_result"
    }
   ],
   "source": [
    "date_second_low_top_residual.head()"
   ]
  },
  {
   "cell_type": "code",
   "execution_count": 3,
   "metadata": {},
   "outputs": [
    {
     "data": {
      "text/html": [
       "<div>\n",
       "<style scoped>\n",
       "    .dataframe tbody tr th:only-of-type {\n",
       "        vertical-align: middle;\n",
       "    }\n",
       "\n",
       "    .dataframe tbody tr th {\n",
       "        vertical-align: top;\n",
       "    }\n",
       "\n",
       "    .dataframe thead th {\n",
       "        text-align: right;\n",
       "    }\n",
       "</style>\n",
       "<table border=\"1\" class=\"dataframe\">\n",
       "  <thead>\n",
       "    <tr style=\"text-align: right;\">\n",
       "      <th></th>\n",
       "      <th>second_low_residual</th>\n",
       "      <th>second_top_residual</th>\n",
       "      <th>second_top_residual_pct</th>\n",
       "      <th>second_low_residual_pct</th>\n",
       "    </tr>\n",
       "  </thead>\n",
       "  <tbody>\n",
       "    <tr>\n",
       "      <th>0</th>\n",
       "      <td>-0.2847</td>\n",
       "      <td>0.6145</td>\n",
       "      <td>NaN</td>\n",
       "      <td>NaN</td>\n",
       "    </tr>\n",
       "    <tr>\n",
       "      <th>1</th>\n",
       "      <td>-0.3207</td>\n",
       "      <td>0.6403</td>\n",
       "      <td>0.041985</td>\n",
       "      <td>0.126449</td>\n",
       "    </tr>\n",
       "  </tbody>\n",
       "</table>\n",
       "</div>"
      ],
      "text/plain": [
       "   second_low_residual  second_top_residual  second_top_residual_pct  \\\n",
       "0              -0.2847               0.6145                      NaN   \n",
       "1              -0.3207               0.6403                 0.041985   \n",
       "\n",
       "   second_low_residual_pct  \n",
       "0                      NaN  \n",
       "1                 0.126449  "
      ]
     },
     "execution_count": 3,
     "metadata": {},
     "output_type": "execute_result"
    }
   ],
   "source": [
    "second_low_top_residual.head()"
   ]
  },
  {
   "cell_type": "code",
   "execution_count": 26,
   "metadata": {},
   "outputs": [
    {
     "data": {
      "text/html": [
       "<div>\n",
       "<style scoped>\n",
       "    .dataframe tbody tr th:only-of-type {\n",
       "        vertical-align: middle;\n",
       "    }\n",
       "\n",
       "    .dataframe tbody tr th {\n",
       "        vertical-align: top;\n",
       "    }\n",
       "\n",
       "    .dataframe thead th {\n",
       "        text-align: right;\n",
       "    }\n",
       "</style>\n",
       "<table border=\"1\" class=\"dataframe\">\n",
       "  <thead>\n",
       "    <tr style=\"text-align: right;\">\n",
       "      <th></th>\n",
       "      <th>second_top_low_residual_first</th>\n",
       "      <th>second_top_low_residual_second</th>\n",
       "      <th>second_top_low_residual_first_pct</th>\n",
       "      <th>second_top_low_residual_second_pct</th>\n",
       "    </tr>\n",
       "  </thead>\n",
       "  <tbody>\n",
       "    <tr>\n",
       "      <th>second_low_residual</th>\n",
       "      <td>-0.2847</td>\n",
       "      <td>-0.3207</td>\n",
       "      <td>NaN</td>\n",
       "      <td>NaN</td>\n",
       "    </tr>\n",
       "    <tr>\n",
       "      <th>second_top_residual</th>\n",
       "      <td>0.6145</td>\n",
       "      <td>0.6403</td>\n",
       "      <td>-3.158412</td>\n",
       "      <td>-2.99657</td>\n",
       "    </tr>\n",
       "  </tbody>\n",
       "</table>\n",
       "</div>"
      ],
      "text/plain": [
       "                     second_top_low_residual_first  \\\n",
       "second_low_residual                        -0.2847   \n",
       "second_top_residual                         0.6145   \n",
       "\n",
       "                     second_top_low_residual_second  \\\n",
       "second_low_residual                         -0.3207   \n",
       "second_top_residual                          0.6403   \n",
       "\n",
       "                     second_top_low_residual_first_pct  \\\n",
       "second_low_residual                                NaN   \n",
       "second_top_residual                          -3.158412   \n",
       "\n",
       "                     second_top_low_residual_second_pct  \n",
       "second_low_residual                                 NaN  \n",
       "second_top_residual                            -2.99657  "
      ]
     },
     "execution_count": 26,
     "metadata": {},
     "output_type": "execute_result"
    }
   ],
   "source": [
    "second_low_top_residual_T.head()"
   ]
  },
  {
   "cell_type": "code",
   "execution_count": 18,
   "metadata": {},
   "outputs": [
    {
     "data": {
      "text/html": [
       "<div>\n",
       "<style scoped>\n",
       "    .dataframe tbody tr th:only-of-type {\n",
       "        vertical-align: middle;\n",
       "    }\n",
       "\n",
       "    .dataframe tbody tr th {\n",
       "        vertical-align: top;\n",
       "    }\n",
       "\n",
       "    .dataframe thead th {\n",
       "        text-align: right;\n",
       "    }\n",
       "</style>\n",
       "<table border=\"1\" class=\"dataframe\">\n",
       "  <thead>\n",
       "    <tr style=\"text-align: right;\">\n",
       "      <th></th>\n",
       "      <th>m:market_cap</th>\n",
       "      <th>date</th>\n",
       "      <th>instrument</th>\n",
       "      <th>label</th>\n",
       "    </tr>\n",
       "  </thead>\n",
       "  <tbody>\n",
       "    <tr>\n",
       "      <th>3743</th>\n",
       "      <td>26.410572</td>\n",
       "      <td>2020-11-15</td>\n",
       "      <td>BTC_USDT.HBI</td>\n",
       "      <td>26.263695</td>\n",
       "    </tr>\n",
       "    <tr>\n",
       "      <th>3744</th>\n",
       "      <td>26.406318</td>\n",
       "      <td>2020-11-16</td>\n",
       "      <td>BTC_USDT.HBI</td>\n",
       "      <td>26.263695</td>\n",
       "    </tr>\n",
       "    <tr>\n",
       "      <th>3745</th>\n",
       "      <td>26.459307</td>\n",
       "      <td>2020-11-17</td>\n",
       "      <td>BTC_USDT.HBI</td>\n",
       "      <td>26.263695</td>\n",
       "    </tr>\n",
       "    <tr>\n",
       "      <th>3746</th>\n",
       "      <td>26.510357</td>\n",
       "      <td>2020-11-18</td>\n",
       "      <td>BTC_USDT.HBI</td>\n",
       "      <td>26.263695</td>\n",
       "    </tr>\n",
       "    <tr>\n",
       "      <th>3747</th>\n",
       "      <td>26.522644</td>\n",
       "      <td>2020-11-19</td>\n",
       "      <td>BTC_USDT.HBI</td>\n",
       "      <td>26.263695</td>\n",
       "    </tr>\n",
       "  </tbody>\n",
       "</table>\n",
       "</div>"
      ],
      "text/plain": [
       "      m:market_cap       date    instrument      label\n",
       "3743     26.410572 2020-11-15  BTC_USDT.HBI  26.263695\n",
       "3744     26.406318 2020-11-16  BTC_USDT.HBI  26.263695\n",
       "3745     26.459307 2020-11-17  BTC_USDT.HBI  26.263695\n",
       "3746     26.510357 2020-11-18  BTC_USDT.HBI  26.263695\n",
       "3747     26.522644 2020-11-19  BTC_USDT.HBI  26.263695"
      ]
     },
     "execution_count": 18,
     "metadata": {},
     "output_type": "execute_result"
    }
   ],
   "source": [
    "m20.data.read_df().tail()"
   ]
  },
  {
   "cell_type": "code",
   "execution_count": 6,
   "metadata": {},
   "outputs": [
    {
     "data": {
      "text/plain": [
       "open                        float64\n",
       "high                        float64\n",
       "low                         float64\n",
       "close                       float64\n",
       "volume                      float64\n",
       "Volume (Currency)           float64\n",
       "vwap_11                     float64\n",
       "date                 datetime64[ns]\n",
       "instrument                   object\n",
       "dtype: object"
      ]
     },
     "execution_count": 6,
     "metadata": {},
     "output_type": "execute_result"
    }
   ],
   "source": [
    "m13.sorted_data.read().dtypes"
   ]
  },
  {
   "cell_type": "code",
   "execution_count": 5,
   "metadata": {},
   "outputs": [
    {
     "data": {
      "text/plain": [
       "{'alpha': 0.43,\n",
       " 'annual_return': 1.36,\n",
       " 'annual_volatility': 0.61,\n",
       " 'beta': 0.65,\n",
       " 'cum_returns_final': 108655.77,\n",
       " 'max_drawdown': -0.71,\n",
       " 'sharp_ratio': 1.67}"
      ]
     },
     "execution_count": 5,
     "metadata": {},
     "output_type": "execute_result"
    }
   ],
   "source": [
    "import empyrical\n",
    "\n",
    "# 统计策略指标\n",
    "def get_stats(results):\n",
    "    cum_returns_final  = round(empyrical.cum_returns_final(results.returns), 2)\n",
    "    annual_return  = round(empyrical.annual_return(results.returns, annualization=252), 2)\n",
    "    sharp_ratio = round(empyrical.sharpe_ratio(results.returns,0.035/365, annualization=252), 2)\n",
    "    annual_volatility = round(empyrical.annual_volatility(results.returns, annualization=252), 2)\n",
    "    max_drawdown  = round(empyrical.max_drawdown(results.returns), 2)\n",
    "    benchmark_returns = (results.benchmark_period_return+1)/(results.benchmark_period_return+1).shift(1)-1\n",
    "    alpha, beta =empyrical.alpha_beta_aligned(results.returns, benchmark_returns, annualization=252)\n",
    "    \n",
    "    return {\n",
    "      'cum_returns_final': cum_returns_final,\n",
    "      'annual_return': annual_return,\n",
    "      'annual_volatility': annual_volatility,\n",
    "      'sharp_ratio': sharp_ratio,\n",
    "      'max_drawdown': max_drawdown,\n",
    "      'beta': round(beta, 2),\n",
    "      'alpha': round(alpha, 2)\n",
    "    }\n",
    "get_stats(m24.raw_perf.read_df())"
   ]
  },
  {
   "cell_type": "code",
   "execution_count": 59,
   "metadata": {},
   "outputs": [
    {
     "data": {
      "text/plain": [
       "{'alpha': 0.87,\n",
       " 'annual_return': 6.91,\n",
       " 'annual_volatility': 0.78,\n",
       " 'beta': 0.7,\n",
       " 'cum_returns_final': 5.03,\n",
       " 'max_drawdown': -0.17,\n",
       " 'sharp_ratio': 2.95}"
      ]
     },
     "execution_count": 59,
     "metadata": {},
     "output_type": "execute_result"
    }
   ],
   "source": [
    "import empyrical\n",
    "\n",
    "# 统计策略指标\n",
    "def get_stats(results):\n",
    "    cum_returns_final  = round(empyrical.cum_returns_final(results.returns), 2)\n",
    "    annual_return  = round(empyrical.annual_return(results.returns, annualization=365), 2)\n",
    "    sharp_ratio = round(empyrical.sharpe_ratio(results.returns,0.035/365, annualization=365), 2)\n",
    "    annual_volatility = round(empyrical.annual_volatility(results.returns, annualization=365), 2)\n",
    "    max_drawdown  = round(empyrical.max_drawdown(results.returns), 2)\n",
    "    benchmark_returns = (results.benchmark_period_return+1)/(results.benchmark_period_return+1).shift(1)-1\n",
    "    alpha, beta =empyrical.alpha_beta_aligned(results.returns, benchmark_returns, annualization=365)\n",
    "    \n",
    "    return {\n",
    "      'cum_returns_final': cum_returns_final,\n",
    "      'annual_return': annual_return,\n",
    "      'annual_volatility': annual_volatility,\n",
    "      'sharp_ratio': sharp_ratio,\n",
    "      'max_drawdown': max_drawdown,\n",
    "      'beta': round(beta, 2),\n",
    "      'alpha': round(alpha, 2)\n",
    "    }\n",
    "get_stats(m24.raw_perf.read_df())"
   ]
  },
  {
   "cell_type": "code",
   "execution_count": 6,
   "metadata": {},
   "outputs": [],
   "source": [
    "import pandas as pd\n",
    "results = m24.raw_perf.read_df()\n",
    "returns = results.returns\n",
    "returns_df = pd.DataFrame(returns)\n",
    "returns_df = returns_df.reset_index()\n",
    "returns_df['date'] = returns_df['index'].apply(lambda x: datetime.datetime.strftime(x, '%Y-%m-%d'))\n",
    "returns_df = returns_df.drop(['index'], axis = 1)\n",
    "returns_df = returns_df.set_index('date')\n",
    "returns_df.to_csv('btc_strategy_returns.csv')"
   ]
  },
  {
   "cell_type": "code",
   "execution_count": 5,
   "metadata": {},
   "outputs": [
    {
     "data": {
      "text/html": [
       "<div>\n",
       "<style scoped>\n",
       "    .dataframe tbody tr th:only-of-type {\n",
       "        vertical-align: middle;\n",
       "    }\n",
       "\n",
       "    .dataframe tbody tr th {\n",
       "        vertical-align: top;\n",
       "    }\n",
       "\n",
       "    .dataframe thead th {\n",
       "        text-align: right;\n",
       "    }\n",
       "</style>\n",
       "<table border=\"1\" class=\"dataframe\">\n",
       "  <thead>\n",
       "    <tr style=\"text-align: right;\">\n",
       "      <th></th>\n",
       "      <th>LOG</th>\n",
       "      <th>POS_FAC</th>\n",
       "      <th>TRA_FAC</th>\n",
       "      <th>algo_volatility</th>\n",
       "      <th>algorithm_period_return</th>\n",
       "      <th>alpha</th>\n",
       "      <th>benchmark_period_return</th>\n",
       "      <th>benchmark_volatility</th>\n",
       "      <th>beta</th>\n",
       "      <th>capital_used</th>\n",
       "      <th>...</th>\n",
       "      <th>shorts_count</th>\n",
       "      <th>sortino</th>\n",
       "      <th>starting_cash</th>\n",
       "      <th>starting_exposure</th>\n",
       "      <th>starting_value</th>\n",
       "      <th>trade_times</th>\n",
       "      <th>trading_days</th>\n",
       "      <th>transactions</th>\n",
       "      <th>treasury_period_return</th>\n",
       "      <th>win_percent</th>\n",
       "    </tr>\n",
       "  </thead>\n",
       "  <tbody>\n",
       "    <tr>\n",
       "      <th>2015-02-22 23:59:00+00:00</th>\n",
       "      <td>[{'level': 'INFO', 'msg': 'order[00:00:00][id:...</td>\n",
       "      <td>{}</td>\n",
       "      <td>{}</td>\n",
       "      <td>0.000000</td>\n",
       "      <td>0.000000</td>\n",
       "      <td>0.000000</td>\n",
       "      <td>-0.036307</td>\n",
       "      <td>0.000000</td>\n",
       "      <td>0.000000</td>\n",
       "      <td>0.000000</td>\n",
       "      <td>...</td>\n",
       "      <td>0</td>\n",
       "      <td>0.000000</td>\n",
       "      <td>6000.000000</td>\n",
       "      <td>0.00</td>\n",
       "      <td>0.000000</td>\n",
       "      <td>0</td>\n",
       "      <td>1</td>\n",
       "      <td>[]</td>\n",
       "      <td>0</td>\n",
       "      <td>0.0</td>\n",
       "    </tr>\n",
       "    <tr>\n",
       "      <th>2015-02-23 23:59:00+00:00</th>\n",
       "      <td>[{'level': 'INFO', 'msg': 'order[00:00:00][id:...</td>\n",
       "      <td>{'BTC_USDT.HBI': 1.0}</td>\n",
       "      <td>{'BTC_USDT.HBI': 1.0}</td>\n",
       "      <td>0.011670</td>\n",
       "      <td>0.001040</td>\n",
       "      <td>0.162741</td>\n",
       "      <td>-0.023471</td>\n",
       "      <td>0.557049</td>\n",
       "      <td>0.020951</td>\n",
       "      <td>-0.141876</td>\n",
       "      <td>...</td>\n",
       "      <td>0</td>\n",
       "      <td>0.000000</td>\n",
       "      <td>6000.000000</td>\n",
       "      <td>0.00</td>\n",
       "      <td>0.000000</td>\n",
       "      <td>0</td>\n",
       "      <td>2</td>\n",
       "      <td>[{'amount': 2, 'dt': 2015-02-23 00:00:00+00:00...</td>\n",
       "      <td>0</td>\n",
       "      <td>1.0</td>\n",
       "    </tr>\n",
       "    <tr>\n",
       "      <th>2015-02-24 23:59:00+00:00</th>\n",
       "      <td>[{'level': 'INFO', 'msg': 'order[00:00:00][id:...</td>\n",
       "      <td>{'BTC_USDT.HBI': 1.0}</td>\n",
       "      <td>{'BTC_USDT.HBI': 1.0}</td>\n",
       "      <td>0.009936</td>\n",
       "      <td>0.000956</td>\n",
       "      <td>0.083157</td>\n",
       "      <td>-0.023878</td>\n",
       "      <td>0.406764</td>\n",
       "      <td>0.016251</td>\n",
       "      <td>-0.143778</td>\n",
       "      <td>...</td>\n",
       "      <td>0</td>\n",
       "      <td>104.440299</td>\n",
       "      <td>5999.858124</td>\n",
       "      <td>479.30</td>\n",
       "      <td>6.379995</td>\n",
       "      <td>0</td>\n",
       "      <td>3</td>\n",
       "      <td>[{'amount': 2, 'dt': 2015-02-24 00:00:00+00:00...</td>\n",
       "      <td>0</td>\n",
       "      <td>1.0</td>\n",
       "    </tr>\n",
       "    <tr>\n",
       "      <th>2015-02-25 23:59:00+00:00</th>\n",
       "      <td>[{'level': 'INFO', 'msg': 'order[00:00:00][id:...</td>\n",
       "      <td>{'BTC_USDT.HBI': 1.0}</td>\n",
       "      <td>{'BTC_USDT.HBI': 1.0}</td>\n",
       "      <td>0.017225</td>\n",
       "      <td>-0.000642</td>\n",
       "      <td>-0.041237</td>\n",
       "      <td>-0.030317</td>\n",
       "      <td>0.332260</td>\n",
       "      <td>0.014920</td>\n",
       "      <td>-0.143718</td>\n",
       "      <td>...</td>\n",
       "      <td>0</td>\n",
       "      <td>-3.178713</td>\n",
       "      <td>5999.714346</td>\n",
       "      <td>958.20</td>\n",
       "      <td>6.019988</td>\n",
       "      <td>0</td>\n",
       "      <td>4</td>\n",
       "      <td>[{'amount': 2, 'dt': 2015-02-25 00:00:00+00:00...</td>\n",
       "      <td>0</td>\n",
       "      <td>0.0</td>\n",
       "    </tr>\n",
       "    <tr>\n",
       "      <th>2015-02-26 23:59:00+00:00</th>\n",
       "      <td>[{'level': 'INFO', 'msg': 'order[00:00:00][id:...</td>\n",
       "      <td>{'BTC_USDT.HBI': 1.0}</td>\n",
       "      <td>{'BTC_USDT.HBI': 1.0}</td>\n",
       "      <td>0.017839</td>\n",
       "      <td>-0.002179</td>\n",
       "      <td>-0.116978</td>\n",
       "      <td>-0.034921</td>\n",
       "      <td>0.288408</td>\n",
       "      <td>0.012554</td>\n",
       "      <td>-0.142794</td>\n",
       "      <td>...</td>\n",
       "      <td>0</td>\n",
       "      <td>-6.971654</td>\n",
       "      <td>5999.570628</td>\n",
       "      <td>1427.82</td>\n",
       "      <td>-3.420025</td>\n",
       "      <td>0</td>\n",
       "      <td>5</td>\n",
       "      <td>[{'amount': 2, 'dt': 2015-02-26 00:00:00+00:00...</td>\n",
       "      <td>0</td>\n",
       "      <td>0.0</td>\n",
       "    </tr>\n",
       "  </tbody>\n",
       "</table>\n",
       "<p>5 rows × 45 columns</p>\n",
       "</div>"
      ],
      "text/plain": [
       "                                                                         LOG  \\\n",
       "2015-02-22 23:59:00+00:00  [{'level': 'INFO', 'msg': 'order[00:00:00][id:...   \n",
       "2015-02-23 23:59:00+00:00  [{'level': 'INFO', 'msg': 'order[00:00:00][id:...   \n",
       "2015-02-24 23:59:00+00:00  [{'level': 'INFO', 'msg': 'order[00:00:00][id:...   \n",
       "2015-02-25 23:59:00+00:00  [{'level': 'INFO', 'msg': 'order[00:00:00][id:...   \n",
       "2015-02-26 23:59:00+00:00  [{'level': 'INFO', 'msg': 'order[00:00:00][id:...   \n",
       "\n",
       "                                         POS_FAC                TRA_FAC  \\\n",
       "2015-02-22 23:59:00+00:00                     {}                     {}   \n",
       "2015-02-23 23:59:00+00:00  {'BTC_USDT.HBI': 1.0}  {'BTC_USDT.HBI': 1.0}   \n",
       "2015-02-24 23:59:00+00:00  {'BTC_USDT.HBI': 1.0}  {'BTC_USDT.HBI': 1.0}   \n",
       "2015-02-25 23:59:00+00:00  {'BTC_USDT.HBI': 1.0}  {'BTC_USDT.HBI': 1.0}   \n",
       "2015-02-26 23:59:00+00:00  {'BTC_USDT.HBI': 1.0}  {'BTC_USDT.HBI': 1.0}   \n",
       "\n",
       "                           algo_volatility  algorithm_period_return     alpha  \\\n",
       "2015-02-22 23:59:00+00:00         0.000000                 0.000000  0.000000   \n",
       "2015-02-23 23:59:00+00:00         0.011670                 0.001040  0.162741   \n",
       "2015-02-24 23:59:00+00:00         0.009936                 0.000956  0.083157   \n",
       "2015-02-25 23:59:00+00:00         0.017225                -0.000642 -0.041237   \n",
       "2015-02-26 23:59:00+00:00         0.017839                -0.002179 -0.116978   \n",
       "\n",
       "                           benchmark_period_return  benchmark_volatility  \\\n",
       "2015-02-22 23:59:00+00:00                -0.036307              0.000000   \n",
       "2015-02-23 23:59:00+00:00                -0.023471              0.557049   \n",
       "2015-02-24 23:59:00+00:00                -0.023878              0.406764   \n",
       "2015-02-25 23:59:00+00:00                -0.030317              0.332260   \n",
       "2015-02-26 23:59:00+00:00                -0.034921              0.288408   \n",
       "\n",
       "                               beta  capital_used     ...       shorts_count  \\\n",
       "2015-02-22 23:59:00+00:00  0.000000      0.000000     ...                  0   \n",
       "2015-02-23 23:59:00+00:00  0.020951     -0.141876     ...                  0   \n",
       "2015-02-24 23:59:00+00:00  0.016251     -0.143778     ...                  0   \n",
       "2015-02-25 23:59:00+00:00  0.014920     -0.143718     ...                  0   \n",
       "2015-02-26 23:59:00+00:00  0.012554     -0.142794     ...                  0   \n",
       "\n",
       "                              sortino  starting_cash  starting_exposure  \\\n",
       "2015-02-22 23:59:00+00:00    0.000000    6000.000000               0.00   \n",
       "2015-02-23 23:59:00+00:00    0.000000    6000.000000               0.00   \n",
       "2015-02-24 23:59:00+00:00  104.440299    5999.858124             479.30   \n",
       "2015-02-25 23:59:00+00:00   -3.178713    5999.714346             958.20   \n",
       "2015-02-26 23:59:00+00:00   -6.971654    5999.570628            1427.82   \n",
       "\n",
       "                           starting_value  trade_times  trading_days  \\\n",
       "2015-02-22 23:59:00+00:00        0.000000            0             1   \n",
       "2015-02-23 23:59:00+00:00        0.000000            0             2   \n",
       "2015-02-24 23:59:00+00:00        6.379995            0             3   \n",
       "2015-02-25 23:59:00+00:00        6.019988            0             4   \n",
       "2015-02-26 23:59:00+00:00       -3.420025            0             5   \n",
       "\n",
       "                                                                transactions  \\\n",
       "2015-02-22 23:59:00+00:00                                                 []   \n",
       "2015-02-23 23:59:00+00:00  [{'amount': 2, 'dt': 2015-02-23 00:00:00+00:00...   \n",
       "2015-02-24 23:59:00+00:00  [{'amount': 2, 'dt': 2015-02-24 00:00:00+00:00...   \n",
       "2015-02-25 23:59:00+00:00  [{'amount': 2, 'dt': 2015-02-25 00:00:00+00:00...   \n",
       "2015-02-26 23:59:00+00:00  [{'amount': 2, 'dt': 2015-02-26 00:00:00+00:00...   \n",
       "\n",
       "                           treasury_period_return  win_percent  \n",
       "2015-02-22 23:59:00+00:00                       0          0.0  \n",
       "2015-02-23 23:59:00+00:00                       0          1.0  \n",
       "2015-02-24 23:59:00+00:00                       0          1.0  \n",
       "2015-02-25 23:59:00+00:00                       0          0.0  \n",
       "2015-02-26 23:59:00+00:00                       0          0.0  \n",
       "\n",
       "[5 rows x 45 columns]"
      ]
     },
     "execution_count": 5,
     "metadata": {},
     "output_type": "execute_result"
    }
   ],
   "source": [
    "results = m24.raw_perf.read_df()\n",
    "results.head()"
   ]
  },
  {
   "cell_type": "code",
   "execution_count": 17,
   "metadata": {},
   "outputs": [],
   "source": [
    "positions = results.positions\n",
    "positions_df = pd.DataFrame(positions)\n",
    "positions_df['cash'] = results['ending_cash']\n",
    "positions_df = positions_df.reset_index()\n",
    "positions_df['date0'] = positions_df['index'].apply(lambda x: datetime.datetime.strftime(x, '%Y-%m-%d %H:%M:%S'))\n",
    "positions_df['date1'] = positions_df['date0'].apply(lambda x: x[0:10] + ' 00:00:00+00:00')\n",
    "positions_df = positions_df.drop(['index', 'date0'], axis = 1)\n",
    "positions_df = positions_df.rename(columns = {'date1': 'date'})\n",
    "positions_df['BTCUSD'] = 0\n",
    "for index, row in positions_df.iterrows():\n",
    "    if len(row['positions']):\n",
    "        positions_df.loc[index, 'BTCUSD'] = row['positions'][0]['margin_used']\n",
    "positions_df = positions_df.drop('positions', axis = 1)\n",
    "positions_df.to_csv('bitcoin_strategy_positions.csv',index=False)"
   ]
  },
  {
   "cell_type": "code",
   "execution_count": 6,
   "metadata": {},
   "outputs": [
    {
     "data": {
      "text/html": [
       "<div>\n",
       "<style scoped>\n",
       "    .dataframe tbody tr th:only-of-type {\n",
       "        vertical-align: middle;\n",
       "    }\n",
       "\n",
       "    .dataframe tbody tr th {\n",
       "        vertical-align: top;\n",
       "    }\n",
       "\n",
       "    .dataframe thead th {\n",
       "        text-align: right;\n",
       "    }\n",
       "</style>\n",
       "<table border=\"1\" class=\"dataframe\">\n",
       "  <thead>\n",
       "    <tr style=\"text-align: right;\">\n",
       "      <th></th>\n",
       "      <th>positions</th>\n",
       "    </tr>\n",
       "  </thead>\n",
       "  <tbody>\n",
       "    <tr>\n",
       "      <th>2015-02-22 23:59:00+00:00</th>\n",
       "      <td>[]</td>\n",
       "    </tr>\n",
       "    <tr>\n",
       "      <th>2015-02-23 23:59:00+00:00</th>\n",
       "      <td>[{'sid': Future(0 [BTC_USDT.HBI]), 'name': 'BT...</td>\n",
       "    </tr>\n",
       "    <tr>\n",
       "      <th>2015-02-24 23:59:00+00:00</th>\n",
       "      <td>[{'sid': Future(0 [BTC_USDT.HBI]), 'name': 'BT...</td>\n",
       "    </tr>\n",
       "    <tr>\n",
       "      <th>2015-02-25 23:59:00+00:00</th>\n",
       "      <td>[{'sid': Future(0 [BTC_USDT.HBI]), 'name': 'BT...</td>\n",
       "    </tr>\n",
       "    <tr>\n",
       "      <th>2015-02-26 23:59:00+00:00</th>\n",
       "      <td>[{'sid': Future(0 [BTC_USDT.HBI]), 'name': 'BT...</td>\n",
       "    </tr>\n",
       "  </tbody>\n",
       "</table>\n",
       "</div>"
      ],
      "text/plain": [
       "                                                                   positions\n",
       "2015-02-22 23:59:00+00:00                                                 []\n",
       "2015-02-23 23:59:00+00:00  [{'sid': Future(0 [BTC_USDT.HBI]), 'name': 'BT...\n",
       "2015-02-24 23:59:00+00:00  [{'sid': Future(0 [BTC_USDT.HBI]), 'name': 'BT...\n",
       "2015-02-25 23:59:00+00:00  [{'sid': Future(0 [BTC_USDT.HBI]), 'name': 'BT...\n",
       "2015-02-26 23:59:00+00:00  [{'sid': Future(0 [BTC_USDT.HBI]), 'name': 'BT..."
      ]
     },
     "execution_count": 6,
     "metadata": {},
     "output_type": "execute_result"
    }
   ],
   "source": [
    "positions = results.positions\n",
    "positions_df = pd.DataFrame(positions)\n",
    "positions_df.head()"
   ]
  },
  {
   "cell_type": "code",
   "execution_count": 18,
   "metadata": {},
   "outputs": [],
   "source": [
    "import pandas as pd\n",
    "results = m24.raw_perf.read_df()\n",
    "transactions = results.transactions\n",
    "transactions_df = pd.DataFrame(transactions)\n",
    "transactions_df = transactions_df.reset_index()\n",
    "transactions_df['date0'] = transactions_df['index'].apply(lambda x: datetime.datetime.strftime(x, '%Y-%m-%d %H:%M:%S'))\n",
    "transactions_df['date1'] = transactions_df['date0'].apply(lambda x: x[0:10] + ' 00:00:00+00:00')\n",
    "transactions_df = transactions_df.drop(['index', 'date0'], axis = 1)\n",
    "transactions_df = transactions_df.rename(columns = {'date1': 'date'})\n",
    "transactions_df['txn_volume'] = 0\n",
    "transactions_df['amount'] = 0\n",
    "transactions_df['price'] = 0\n",
    "transactions_df['symbol'] = 'BTCUSD'\n",
    "for index, row in transactions_df.iterrows():\n",
    "    if len(row['transactions']):\n",
    "        transactions_df.loc[index, 'txn_volume'] = row['transactions'][0]['transaction_money']\n",
    "        transactions_df.loc[index, 'amount'] = row['transactions'][0]['amount']\n",
    "        transactions_df.loc[index, 'price'] = row['transactions'][0]['price']\n",
    "transactions_df = transactions_df.drop('transactions', axis = 1)\n",
    "transactions_df.to_csv('bitcoin_strategy_transactions.csv',index=False)"
   ]
  },
  {
   "cell_type": "code",
   "execution_count": 7,
   "metadata": {},
   "outputs": [
    {
     "data": {
      "text/plain": [
       "[{'amount': 431,\n",
       "  'bar_volume': 14974.444163,\n",
       "  'commission': 760.1491401,\n",
       "  'dt': Timestamp('2020-03-30 00:00:00+0000', tz='UTC'),\n",
       "  'name': 'BTC_USDT',\n",
       "  'order_id': '1f58455d2bb2494caa57695c75e76e59',\n",
       "  'position_effect': 0,\n",
       "  'price': 5878.957,\n",
       "  'realized_pnl': 0.0,\n",
       "  'sid': Future(0 [BTC_USDT.HBI]),\n",
       "  'transaction_money': 2533830.467,\n",
       "  'underlying_price': 0.0}]"
      ]
     },
     "execution_count": 7,
     "metadata": {},
     "output_type": "execute_result"
    }
   ],
   "source": [
    "import pandas as pd\n",
    "results = m24.raw_perf.read_df()\n",
    "transactions = results.transactions\n",
    "transactions.head()\n",
    "transactions['2020-03-30 23:59:00']"
   ]
  },
  {
   "cell_type": "code",
   "execution_count": 9,
   "metadata": {},
   "outputs": [
    {
     "data": {
      "text/html": [
       "<div>\n",
       "<style scoped>\n",
       "    .dataframe tbody tr th:only-of-type {\n",
       "        vertical-align: middle;\n",
       "    }\n",
       "\n",
       "    .dataframe tbody tr th {\n",
       "        vertical-align: top;\n",
       "    }\n",
       "\n",
       "    .dataframe thead th {\n",
       "        text-align: right;\n",
       "    }\n",
       "</style>\n",
       "<table border=\"1\" class=\"dataframe\">\n",
       "  <thead>\n",
       "    <tr style=\"text-align: right;\">\n",
       "      <th></th>\n",
       "      <th>date</th>\n",
       "      <th>txn_volume</th>\n",
       "      <th>amount</th>\n",
       "      <th>price</th>\n",
       "      <th>symbol</th>\n",
       "    </tr>\n",
       "  </thead>\n",
       "  <tbody>\n",
       "    <tr>\n",
       "      <th>0</th>\n",
       "      <td>2011-09-13</td>\n",
       "      <td>0.0</td>\n",
       "      <td>0</td>\n",
       "      <td>0.0</td>\n",
       "      <td>BTCUSD</td>\n",
       "    </tr>\n",
       "    <tr>\n",
       "      <th>1</th>\n",
       "      <td>2011-09-14</td>\n",
       "      <td>0.0</td>\n",
       "      <td>0</td>\n",
       "      <td>0.0</td>\n",
       "      <td>BTCUSD</td>\n",
       "    </tr>\n",
       "    <tr>\n",
       "      <th>2</th>\n",
       "      <td>2011-09-15</td>\n",
       "      <td>0.0</td>\n",
       "      <td>0</td>\n",
       "      <td>0.0</td>\n",
       "      <td>BTCUSD</td>\n",
       "    </tr>\n",
       "    <tr>\n",
       "      <th>3</th>\n",
       "      <td>2011-09-16</td>\n",
       "      <td>0.0</td>\n",
       "      <td>0</td>\n",
       "      <td>0.0</td>\n",
       "      <td>BTCUSD</td>\n",
       "    </tr>\n",
       "    <tr>\n",
       "      <th>4</th>\n",
       "      <td>2011-09-17</td>\n",
       "      <td>0.0</td>\n",
       "      <td>0</td>\n",
       "      <td>0.0</td>\n",
       "      <td>BTCUSD</td>\n",
       "    </tr>\n",
       "  </tbody>\n",
       "</table>\n",
       "</div>"
      ],
      "text/plain": [
       "        date  txn_volume  amount  price  symbol\n",
       "0 2011-09-13         0.0       0    0.0  BTCUSD\n",
       "1 2011-09-14         0.0       0    0.0  BTCUSD\n",
       "2 2011-09-15         0.0       0    0.0  BTCUSD\n",
       "3 2011-09-16         0.0       0    0.0  BTCUSD\n",
       "4 2011-09-17         0.0       0    0.0  BTCUSD"
      ]
     },
     "execution_count": 9,
     "metadata": {},
     "output_type": "execute_result"
    }
   ],
   "source": [
    "transactions_df.head()"
   ]
  }
 ],
 "metadata": {
  "is_mlstudio": "true",
  "kernelspec": {
   "display_name": "Python 3",
   "language": "python",
   "name": "python3"
  },
  "language_info": {
   "codemirror_mode": {
    "name": "ipython",
    "version": 3
   },
   "file_extension": ".py",
   "mimetype": "text/x-python",
   "name": "python",
   "nbconvert_exporter": "python",
   "pygments_lexer": "ipython3",
   "version": "3.8.7"
  }
 },
 "nbformat": 4,
 "nbformat_minor": 4
}
