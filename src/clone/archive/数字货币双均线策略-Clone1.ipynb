{
 "cells": [
  {
   "cell_type": "code",
   "execution_count": 1,
   "metadata": {},
   "outputs": [],
   "source": [
    "# 回测起始时间\n",
    "start_date = '2017-11-01'\n",
    "# 回测结束时间\n",
    "end_date = '2018-04-01'\n",
    "# 策略比较参考标准\n",
    "benchmark = 'BTC_USDT.HBI'\n",
    "# 交易标的 \n",
    "instruments = ['BTC_USDT.HBI']\n",
    "# 起始资金\n",
    "capital_base = 1000000"
   ]
  },
  {
   "cell_type": "code",
   "execution_count": 2,
   "metadata": {},
   "outputs": [],
   "source": [
    "# 初始化虚拟账户状态，只在第一个交易日运行\n",
    "def initialize(context):\n",
    "    # context.set_commission是设置手续费，这里作演示不考虑手续费，股票的手续费设置如下，作为参考。\n",
    "    # context.set_commission(PerOrder(buy_cost=0.0003, sell_cost=0.0013, min_cost=5))\n",
    "    #短均线参数\n",
    "    context.short_period = 5\n",
    "    #长均线参数\n",
    "    context.long_period = 20"
   ]
  },
  {
   "cell_type": "code",
   "execution_count": 3,
   "metadata": {},
   "outputs": [],
   "source": [
    "def handle_data(context, data):\n",
    "    # 当前支持的K线数量还达不到长均线时直接返回\n",
    "    if context.trading_day_index < context.long_period:\n",
    "        return\n",
    "    # 投资标的字符串格式\n",
    "    instr = instruments[0]\n",
    "    # 将标的转化为equity格式\n",
    "    sid = context.symbol(instr)    \n",
    "    # 最新价格\n",
    "    price = data.current(sid, 'price')\n",
    "    # 短周期均线值\n",
    "    short_mavg = data.history(sid, 'price', context.short_period, '1d').mean()\n",
    "    # 长周期均线值\n",
    "    long_mavg = data.history(sid, 'price', context.long_period, '1d').mean()\n",
    "    # 账户资金\n",
    "    cash = context.portfolio.cash;\n",
    "    # 账户持仓\n",
    "    cur_pos = context.portfolio.positions[sid].amount\n",
    "    \n",
    "    # 策略逻辑部分\n",
    "    # 空仓状态下，短周期均线上穿（大于）长周期均线形成金叉，且该股票可以交易，买入\n",
    "    # 持仓状态下，短周期均线下穿（小于）长周期均线形成死叉，且该股票可以交易，卖出\n",
    "    if (short_mavg > long_mavg and cur_pos == 0 and data.can_trade(sid)):\n",
    "        context.order_target_percent(sid,1)\n",
    "    elif (short_mavg < long_mavg and cur_pos > 0 and data.can_trade(sid)):\n",
    "        context.order_target_percent(sid, 0)"
   ]
  },
  {
   "cell_type": "code",
   "execution_count": 5,
   "metadata": {},
   "outputs": [
    {
     "data": {
      "text/plain": [
       "[2021-08-22 10:00:15.782501] WARNING: bigdatasource: No data in table bar1d_HBI! return is None!"
      ]
     },
     "metadata": {
      "is_log": true,
      "status": "WARNING"
     },
     "output_type": "display_data"
    },
    {
     "data": {
      "text/plain": [
       "[2021-08-22 10:00:15.870103] WARNING: bigdatasource: No data in table bar1d_HBI! return is None!"
      ]
     },
     "metadata": {
      "is_log": true,
      "status": "WARNING"
     },
     "output_type": "display_data"
    },
    {
     "data": {
      "text/plain": [
       "[2021-08-22 10:00:15.907530] INFO: moduleinvoker: backtest.v8 开始运行.."
      ]
     },
     "metadata": {
      "is_log": true,
      "status": "INFO"
     },
     "output_type": "display_data"
    },
    {
     "data": {
      "text/plain": [
       "[2021-08-22 10:00:15.911180] INFO: backtest: biglearning backtest:V8.5.0"
      ]
     },
     "metadata": {
      "is_log": true,
      "status": "INFO"
     },
     "output_type": "display_data"
    },
    {
     "data": {
      "text/plain": [
       "[2021-08-22 10:00:15.912337] INFO: backtest: product_type:stock by specified"
      ]
     },
     "metadata": {
      "is_log": true,
      "status": "INFO"
     },
     "output_type": "display_data"
    },
    {
     "data": {
      "text/plain": [
       "[2021-08-22 10:00:16.418676] INFO: moduleinvoker: cached.v2 开始运行.."
      ]
     },
     "metadata": {
      "is_log": true,
      "status": "INFO"
     },
     "output_type": "display_data"
    },
    {
     "data": {
      "text/plain": [
       "[2021-08-22 10:00:16.517337] WARNING: bigdatasource: No data in table bar1d_HBI! return is None!"
      ]
     },
     "metadata": {
      "is_log": true,
      "status": "WARNING"
     },
     "output_type": "display_data"
    },
    {
     "data": {
      "text/plain": [
       "[2021-08-22 10:00:16.518910] INFO: backtest: read empty data from bar1d_HBI"
      ]
     },
     "metadata": {
      "is_log": true,
      "status": "INFO"
     },
     "output_type": "display_data"
    },
    {
     "data": {
      "text/plain": [
       "[2021-08-22 10:00:16.520442] ERROR: moduleinvoker: module name: cached, module version: v2, trackeback: ValueError: No objects to concatenate\\n"
      ]
     },
     "metadata": {
      "is_log": true,
      "status": "ERROR"
     },
     "output_type": "display_data"
    },
    {
     "data": {
      "text/plain": [
       "[2021-08-22 10:00:17.040493] ERROR: moduleinvoker: module name: backtest, module version: v8, trackeback: ValueError: No objects to concatenate\\n"
      ]
     },
     "metadata": {
      "is_log": true,
      "status": "ERROR"
     },
     "output_type": "display_data"
    },
    {
     "data": {
      "text/plain": [
       "[2021-08-22 10:00:17.042929] ERROR: moduleinvoker: module name: trade, module version: v4, trackeback: ValueError: No objects to concatenate\\n"
      ]
     },
     "metadata": {
      "is_log": true,
      "status": "ERROR"
     },
     "output_type": "display_data"
    },
    {
     "ename": "ValueError",
     "evalue": "No objects to concatenate",
     "output_type": "error",
     "traceback": [
      "\u001b[0;31m---------------------------------------------------------------------------\u001b[0m",
      "\u001b[0;31mValueError\u001b[0m                                Traceback (most recent call last)",
      "\u001b[0;32m<ipython-input-5-0158222c362c>\u001b[0m in \u001b[0;36m<module>\u001b[0;34m\u001b[0m\n\u001b[1;32m      2\u001b[0m \u001b[0mbenchmark_ds\u001b[0m \u001b[0;34m=\u001b[0m \u001b[0mDataSource\u001b[0m\u001b[0;34m(\u001b[0m\u001b[0;34m'bar1d_HBI'\u001b[0m\u001b[0;34m)\u001b[0m\u001b[0;34m.\u001b[0m\u001b[0mread\u001b[0m\u001b[0;34m(\u001b[0m\u001b[0;34m[\u001b[0m\u001b[0mbenchmark\u001b[0m\u001b[0;34m]\u001b[0m\u001b[0;34m,\u001b[0m\u001b[0mstart\u001b[0m\u001b[0;34m=\u001b[0m\u001b[0;34m'2017-05-01'\u001b[0m\u001b[0;34m,\u001b[0m \u001b[0mend\u001b[0m\u001b[0;34m=\u001b[0m\u001b[0mend_date\u001b[0m\u001b[0;34m)\u001b[0m\u001b[0;34m\u001b[0m\u001b[0;34m\u001b[0m\u001b[0m\n\u001b[1;32m      3\u001b[0m \u001b[0;34m\u001b[0m\u001b[0m\n\u001b[0;32m----> 4\u001b[0;31m m = M.trade.v4(\n\u001b[0m\u001b[1;32m      5\u001b[0m     \u001b[0minstruments\u001b[0m\u001b[0;34m=\u001b[0m\u001b[0minstruments\u001b[0m\u001b[0;34m,\u001b[0m\u001b[0;34m\u001b[0m\u001b[0;34m\u001b[0m\u001b[0m\n\u001b[1;32m      6\u001b[0m     \u001b[0mstart_date\u001b[0m\u001b[0;34m=\u001b[0m\u001b[0mstart_date\u001b[0m\u001b[0;34m,\u001b[0m\u001b[0;34m\u001b[0m\u001b[0;34m\u001b[0m\u001b[0m\n",
      "\u001b[0;31mValueError\u001b[0m: No objects to concatenate"
     ]
    }
   ],
   "source": [
    "history_ds=DataSource('bar1d_HBI').read(instruments,start='2017-05-01', end=end_date)\n",
    "benchmark_ds = DataSource('bar1d_HBI').read([benchmark],start='2017-05-01', end=end_date)\n",
    "\n",
    "m = M.trade.v4(\n",
    "    instruments=instruments,\n",
    "    start_date=start_date,\n",
    "    end_date=end_date,\n",
    "    initialize=initialize,\n",
    "    handle_data=handle_data,\n",
    "    # 买入的时候，假设以次日开盘价成交\n",
    "    order_price_field_buy='open',\n",
    "    # 卖出的时候，假设以次日开盘价成交\n",
    "    order_price_field_sell='close',\n",
    "    capital_base=capital_base+1,\n",
    ")"
   ]
  },
  {
   "cell_type": "code",
   "execution_count": 6,
   "metadata": {},
   "outputs": [
    {
     "data": {
      "text/plain": [
       "[2021-08-22 10:00:29.434940] WARNING: bigdatasource: No data in table bar1d_HBI! return is None!"
      ]
     },
     "metadata": {
      "is_log": true,
      "status": "WARNING"
     },
     "output_type": "display_data"
    }
   ],
   "source": [
    "history_ds=DataSource('bar1d_HBI').read(instruments,start='2017-05-01', end=end_date)"
   ]
  },
  {
   "cell_type": "code",
   "execution_count": null,
   "metadata": {},
   "outputs": [],
   "source": []
  }
 ],
 "metadata": {
  "kernelspec": {
   "display_name": "Python 3",
   "language": "python",
   "name": "python3"
  },
  "language_info": {
   "codemirror_mode": {
    "name": "ipython",
    "version": 3
   },
   "file_extension": ".py",
   "mimetype": "text/x-python",
   "name": "python",
   "nbconvert_exporter": "python",
   "pygments_lexer": "ipython3",
   "version": "3.8.7"
  }
 },
 "nbformat": 4,
 "nbformat_minor": 4
}
