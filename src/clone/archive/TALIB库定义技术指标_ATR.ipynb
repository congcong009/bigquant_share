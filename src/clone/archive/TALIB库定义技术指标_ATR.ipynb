{
 "cells": [
  {
   "cell_type": "code",
   "execution_count": 4,
   "metadata": {},
   "outputs": [
    {
     "data": {
      "text/html": [
       "<div>\n",
       "<style scoped>\n",
       "    .dataframe tbody tr th:only-of-type {\n",
       "        vertical-align: middle;\n",
       "    }\n",
       "\n",
       "    .dataframe tbody tr th {\n",
       "        vertical-align: top;\n",
       "    }\n",
       "\n",
       "    .dataframe thead th {\n",
       "        text-align: right;\n",
       "    }\n",
       "</style>\n",
       "<table border=\"1\" class=\"dataframe\">\n",
       "  <thead>\n",
       "    <tr style=\"text-align: right;\">\n",
       "      <th></th>\n",
       "      <th>date</th>\n",
       "      <th>instrument</th>\n",
       "      <th>ATR</th>\n",
       "    </tr>\n",
       "  </thead>\n",
       "  <tbody>\n",
       "    <tr>\n",
       "      <th>1745</th>\n",
       "      <td>2015-02-27 14:40:00</td>\n",
       "      <td>000001.SZA</td>\n",
       "      <td>0.030817</td>\n",
       "    </tr>\n",
       "    <tr>\n",
       "      <th>1746</th>\n",
       "      <td>2015-02-27 14:45:00</td>\n",
       "      <td>000001.SZA</td>\n",
       "      <td>0.030759</td>\n",
       "    </tr>\n",
       "    <tr>\n",
       "      <th>1747</th>\n",
       "      <td>2015-02-27 14:50:00</td>\n",
       "      <td>000001.SZA</td>\n",
       "      <td>0.030705</td>\n",
       "    </tr>\n",
       "    <tr>\n",
       "      <th>1748</th>\n",
       "      <td>2015-02-27 14:55:00</td>\n",
       "      <td>000001.SZA</td>\n",
       "      <td>0.029940</td>\n",
       "    </tr>\n",
       "    <tr>\n",
       "      <th>1749</th>\n",
       "      <td>2015-02-27 15:00:00</td>\n",
       "      <td>000001.SZA</td>\n",
       "      <td>0.027802</td>\n",
       "    </tr>\n",
       "  </tbody>\n",
       "</table>\n",
       "</div>"
      ],
      "text/plain": [
       "                    date  instrument       ATR\n",
       "1745 2015-02-27 14:40:00  000001.SZA  0.030817\n",
       "1746 2015-02-27 14:45:00  000001.SZA  0.030759\n",
       "1747 2015-02-27 14:50:00  000001.SZA  0.030705\n",
       "1748 2015-02-27 14:55:00  000001.SZA  0.029940\n",
       "1749 2015-02-27 15:00:00  000001.SZA  0.027802"
      ]
     },
     "execution_count": 4,
     "metadata": {},
     "output_type": "execute_result"
    }
   ],
   "source": [
    "m4.data.read_df().tail(5)"
   ]
  },
  {
   "cell_type": "code",
   "execution_count": 1,
   "metadata": {
    "machine_learning_studio": "true",
    "ml_studio_json": "{\"Description\":\"实验创建于2017/8/26\",\"Summary\":\"\",\"Graph\":{\"EdgesInternal\":[{\"DestinationInputPortId\":\"-758:instruments\",\"SourceOutputPortId\":\"287d2cb0-f53c-4101-bdf8-104b137c8601-8:data\"},{\"DestinationInputPortId\":\"-758:features\",\"SourceOutputPortId\":\"-635:data\"},{\"DestinationInputPortId\":\"-47:input_data\",\"SourceOutputPortId\":\"-643:data_1\"},{\"DestinationInputPortId\":\"-786:input_1\",\"SourceOutputPortId\":\"-758:data\"},{\"DestinationInputPortId\":\"-643:input_1\",\"SourceOutputPortId\":\"-786:data_1\"}],\"ModuleNodes\":[{\"Id\":\"287d2cb0-f53c-4101-bdf8-104b137c8601-8\",\"ModuleId\":\"BigQuantSpace.instruments.instruments-v2\",\"ModuleParameters\":[{\"Name\":\"start_date\",\"Value\":\"2015-01-01 09:30:00\",\"ValueType\":\"Literal\",\"LinkedGlobalParameter\":null},{\"Name\":\"end_date\",\"Value\":\"2015-03-01 15:00:00\",\"ValueType\":\"Literal\",\"LinkedGlobalParameter\":null},{\"Name\":\"market\",\"Value\":\"CN_STOCK_A\",\"ValueType\":\"Literal\",\"LinkedGlobalParameter\":null},{\"Name\":\"instrument_list\",\"Value\":\"\",\"ValueType\":\"Literal\",\"LinkedGlobalParameter\":null},{\"Name\":\"max_count\",\"Value\":\"0\",\"ValueType\":\"Literal\",\"LinkedGlobalParameter\":null}],\"InputPortsInternal\":[{\"DataSourceId\":null,\"TrainedModelId\":null,\"TransformModuleId\":null,\"Name\":\"rolling_conf\",\"NodeId\":\"287d2cb0-f53c-4101-bdf8-104b137c8601-8\"}],\"OutputPortsInternal\":[{\"Name\":\"data\",\"NodeId\":\"287d2cb0-f53c-4101-bdf8-104b137c8601-8\",\"OutputType\":null}],\"UsePreviousResults\":true,\"moduleIdForCode\":1,\"IsPartOfPartialRun\":null,\"Comment\":\"\",\"CommentCollapsed\":true},{\"Id\":\"-635\",\"ModuleId\":\"BigQuantSpace.input_features.input_features-v1\",\"ModuleParameters\":[{\"Name\":\"features\",\"Value\":\"\\n# #号开始的表示注释，注释需单独一行\\n# 多个特征，每行一个，可以包含基础特征和衍生特征，特征须为本平台特征\\nclose\\nopen\\nhigh\\nlow\\nvolume\\namount\",\"ValueType\":\"Literal\",\"LinkedGlobalParameter\":null}],\"InputPortsInternal\":[{\"DataSourceId\":null,\"TrainedModelId\":null,\"TransformModuleId\":null,\"Name\":\"features_ds\",\"NodeId\":\"-635\"}],\"OutputPortsInternal\":[{\"Name\":\"data\",\"NodeId\":\"-635\",\"OutputType\":null}],\"UsePreviousResults\":true,\"moduleIdForCode\":20,\"IsPartOfPartialRun\":null,\"Comment\":\"\",\"CommentCollapsed\":true},{\"Id\":\"-643\",\"ModuleId\":\"BigQuantSpace.cached.cached-v3\",\"ModuleParameters\":[{\"Name\":\"run\",\"Value\":\"# Python 代码入口函数，input_1/2/3 对应三个输入端，data_1/2/3 对应三个输出端\\ndef bigquant_run(input_1, input_2, input_3):\\n    # 示例代码如下。在这里编写您的代码\\n    input_df = input_1.read_df()\\n    import talib\\n\\n    def cal_kama(df):\\n        # 取出close_0列的数据转化为float\\n        high = np.array([float(x) for x in df['high']])\\n        low = np.array([float(x) for x in df['low']])\\n        close = np.array([float(x) for x in df['close']])\\n         # 调用talib计算MACD指标\\n        df['ATR'] = talib.ATR(high, low, close, timeperiod=14)\\n        return df[['date','instrument','ATR']]\\n    \\n    result = input_df.groupby('instrument').apply(cal_kama)\\n    \\n    data_1 = DataSource.write_df(result)\\n    return Outputs(data_1=data_1, data_2=None, data_3=None)\\n\",\"ValueType\":\"Literal\",\"LinkedGlobalParameter\":null},{\"Name\":\"post_run\",\"Value\":\"# 后处理函数，可选。输入是主函数的输出，可以在这里对数据做处理，或者返回更友好的outputs数据格式。此函数输出不会被缓存。\\ndef bigquant_run(outputs):\\n    return outputs\\n\",\"ValueType\":\"Literal\",\"LinkedGlobalParameter\":null},{\"Name\":\"input_ports\",\"Value\":\"\",\"ValueType\":\"Literal\",\"LinkedGlobalParameter\":null},{\"Name\":\"params\",\"Value\":\"{}\",\"ValueType\":\"Literal\",\"LinkedGlobalParameter\":null},{\"Name\":\"output_ports\",\"Value\":\"\",\"ValueType\":\"Literal\",\"LinkedGlobalParameter\":null}],\"InputPortsInternal\":[{\"DataSourceId\":null,\"TrainedModelId\":null,\"TransformModuleId\":null,\"Name\":\"input_1\",\"NodeId\":\"-643\"},{\"DataSourceId\":null,\"TrainedModelId\":null,\"TransformModuleId\":null,\"Name\":\"input_2\",\"NodeId\":\"-643\"},{\"DataSourceId\":null,\"TrainedModelId\":null,\"TransformModuleId\":null,\"Name\":\"input_3\",\"NodeId\":\"-643\"}],\"OutputPortsInternal\":[{\"Name\":\"data_1\",\"NodeId\":\"-643\",\"OutputType\":null},{\"Name\":\"data_2\",\"NodeId\":\"-643\",\"OutputType\":null},{\"Name\":\"data_3\",\"NodeId\":\"-643\",\"OutputType\":null}],\"UsePreviousResults\":true,\"moduleIdForCode\":21,\"IsPartOfPartialRun\":null,\"Comment\":\"使用TALIB计算ATR\",\"CommentCollapsed\":false},{\"Id\":\"-758\",\"ModuleId\":\"BigQuantSpace.use_datasource.use_datasource-v1\",\"ModuleParameters\":[{\"Name\":\"datasource_id\",\"Value\":\"bar1m_000001.SZA\",\"ValueType\":\"Literal\",\"LinkedGlobalParameter\":null},{\"Name\":\"start_date\",\"Value\":\"\",\"ValueType\":\"Literal\",\"LinkedGlobalParameter\":null},{\"Name\":\"end_date\",\"Value\":\"\",\"ValueType\":\"Literal\",\"LinkedGlobalParameter\":null}],\"InputPortsInternal\":[{\"DataSourceId\":null,\"TrainedModelId\":null,\"TransformModuleId\":null,\"Name\":\"instruments\",\"NodeId\":\"-758\"},{\"DataSourceId\":null,\"TrainedModelId\":null,\"TransformModuleId\":null,\"Name\":\"features\",\"NodeId\":\"-758\"}],\"OutputPortsInternal\":[{\"Name\":\"data\",\"NodeId\":\"-758\",\"OutputType\":null}],\"UsePreviousResults\":true,\"moduleIdForCode\":2,\"IsPartOfPartialRun\":null,\"Comment\":\"\",\"CommentCollapsed\":true},{\"Id\":\"-786\",\"ModuleId\":\"BigQuantSpace.cached.cached-v3\",\"ModuleParameters\":[{\"Name\":\"run\",\"Value\":\"# Python 代码入口函数，input_1/2/3 对应三个输入端，data_1/2/3 对应三个输出端\\ndef bigquant_run(input_1, input_2, input_3):\\n    # 示例代码如下。在这里编写您的代码\\n    df = input_1.read_df().set_index('date')\\n    \\n    def resample(df,period):\\n        # https://pandas-docs.github.io/pandas-docs-travis/timeseries.html#offset-aliases\\n        Xmin_df=pd.DataFrame()\\n        Xmin_df['open'] = df['open'].resample(period, how='first')\\n        Xmin_df['high'] = df['high'].resample(period, how='max')\\n        Xmin_df['low'] = df['low'].resample(period, how='min')\\n        Xmin_df['close'] = df['close'].resample(period, how='last')\\n        Xmin_df['volume'] = df['volume'].resample(period, how='sum')\\n        Xmin_df['amount'] = df['amount'].resample(period, how='sum')\\n        Xmin_df.dropna(inplace=True)\\n        return Xmin_df\\n    \\n    resample_df = df.groupby('instrument').apply(lambda x:resample(x, '5min')).reset_index()\\n    \\n    data_1 = DataSource.write_df(resample_df)\\n    return Outputs(data_1=data_1, data_2=None, data_3=None)\\n\",\"ValueType\":\"Literal\",\"LinkedGlobalParameter\":null},{\"Name\":\"post_run\",\"Value\":\"# 后处理函数，可选。输入是主函数的输出，可以在这里对数据做处理，或者返回更友好的outputs数据格式。此函数输出不会被缓存。\\ndef bigquant_run(outputs):\\n    return outputs\\n\",\"ValueType\":\"Literal\",\"LinkedGlobalParameter\":null},{\"Name\":\"input_ports\",\"Value\":\"\",\"ValueType\":\"Literal\",\"LinkedGlobalParameter\":null},{\"Name\":\"params\",\"Value\":\"{}\",\"ValueType\":\"Literal\",\"LinkedGlobalParameter\":null},{\"Name\":\"output_ports\",\"Value\":\"\",\"ValueType\":\"Literal\",\"LinkedGlobalParameter\":null}],\"InputPortsInternal\":[{\"DataSourceId\":null,\"TrainedModelId\":null,\"TransformModuleId\":null,\"Name\":\"input_1\",\"NodeId\":\"-786\"},{\"DataSourceId\":null,\"TrainedModelId\":null,\"TransformModuleId\":null,\"Name\":\"input_2\",\"NodeId\":\"-786\"},{\"DataSourceId\":null,\"TrainedModelId\":null,\"TransformModuleId\":null,\"Name\":\"input_3\",\"NodeId\":\"-786\"}],\"OutputPortsInternal\":[{\"Name\":\"data_1\",\"NodeId\":\"-786\",\"OutputType\":null},{\"Name\":\"data_2\",\"NodeId\":\"-786\",\"OutputType\":null},{\"Name\":\"data_3\",\"NodeId\":\"-786\",\"OutputType\":null}],\"UsePreviousResults\":true,\"moduleIdForCode\":3,\"IsPartOfPartialRun\":null,\"Comment\":\"5min周期转换\",\"CommentCollapsed\":false},{\"Id\":\"-47\",\"ModuleId\":\"BigQuantSpace.dropnan.dropnan-v2\",\"ModuleParameters\":[],\"InputPortsInternal\":[{\"DataSourceId\":null,\"TrainedModelId\":null,\"TransformModuleId\":null,\"Name\":\"input_data\",\"NodeId\":\"-47\"},{\"DataSourceId\":null,\"TrainedModelId\":null,\"TransformModuleId\":null,\"Name\":\"features\",\"NodeId\":\"-47\"}],\"OutputPortsInternal\":[{\"Name\":\"data\",\"NodeId\":\"-47\",\"OutputType\":null}],\"UsePreviousResults\":true,\"moduleIdForCode\":4,\"Comment\":\"\",\"CommentCollapsed\":true}],\"SerializedClientData\":\"<?xml version='1.0' encoding='utf-16'?><DataV1 xmlns:xsd='http://www.w3.org/2001/XMLSchema' xmlns:xsi='http://www.w3.org/2001/XMLSchema-instance'><Meta /><NodePositions><NodePosition Node='287d2cb0-f53c-4101-bdf8-104b137c8601-8' Position='116,15,200,200'/><NodePosition Node='-635' Position='426.58203125,42.20916748046875,200,200'/><NodePosition Node='-643' Position='364.29736328125,378.8467102050781,200,200'/><NodePosition Node='-758' Position='225.00613403320312,135.69650268554688,200,200'/><NodePosition Node='-786' Position='330.20782470703125,246.45370483398438,200,200'/><NodePosition Node='-47' Position='416.1698303222656,509.0576171875,200,200'/></NodePositions><NodeGroups /></DataV1>\"},\"IsDraft\":true,\"ParentExperimentId\":null,\"WebService\":{\"IsWebServiceExperiment\":false,\"Inputs\":[],\"Outputs\":[],\"Parameters\":[{\"Name\":\"交易日期\",\"Value\":\"\",\"ParameterDefinition\":{\"Name\":\"交易日期\",\"FriendlyName\":\"交易日期\",\"DefaultValue\":\"\",\"ParameterType\":\"String\",\"HasDefaultValue\":true,\"IsOptional\":true,\"ParameterRules\":[],\"HasRules\":false,\"MarkupType\":0,\"CredentialDescriptor\":null}}],\"WebServiceGroupId\":null,\"SerializedClientData\":\"<?xml version='1.0' encoding='utf-16'?><DataV1 xmlns:xsd='http://www.w3.org/2001/XMLSchema' xmlns:xsi='http://www.w3.org/2001/XMLSchema-instance'><Meta /><NodePositions></NodePositions><NodeGroups /></DataV1>\"},\"DisableNodesUpdate\":false,\"Category\":\"user\",\"Tags\":[],\"IsPartialRun\":true}"
   },
   "outputs": [
    {
     "data": {
      "text/plain": [
       "[2020-11-02 17:35:47.693662] INFO: moduleinvoker: instruments.v2 开始运行.."
      ]
     },
     "metadata": {
      "is_log": true,
      "status": "INFO"
     },
     "output_type": "display_data"
    },
    {
     "data": {
      "text/plain": [
       "[2020-11-02 17:35:47.787964] INFO: moduleinvoker: instruments.v2 运行完成[0.094301s]."
      ]
     },
     "metadata": {
      "is_log": true,
      "status": "INFO"
     },
     "output_type": "display_data"
    },
    {
     "data": {
      "text/plain": [
       "[2020-11-02 17:35:47.790500] INFO: moduleinvoker: input_features.v1 开始运行.."
      ]
     },
     "metadata": {
      "is_log": true,
      "status": "INFO"
     },
     "output_type": "display_data"
    },
    {
     "data": {
      "text/plain": [
       "[2020-11-02 17:35:49.194256] INFO: moduleinvoker: input_features.v1 运行完成[1.403735s]."
      ]
     },
     "metadata": {
      "is_log": true,
      "status": "INFO"
     },
     "output_type": "display_data"
    },
    {
     "data": {
      "text/plain": [
       "[2020-11-02 17:35:49.203052] INFO: moduleinvoker: use_datasource.v1 开始运行.."
      ]
     },
     "metadata": {
      "is_log": true,
      "status": "INFO"
     },
     "output_type": "display_data"
    },
    {
     "data": {
      "text/plain": [
       "[2020-11-02 17:35:49.921064] INFO: moduleinvoker: use_datasource.v1 运行完成[0.718s]."
      ]
     },
     "metadata": {
      "is_log": true,
      "status": "INFO"
     },
     "output_type": "display_data"
    },
    {
     "data": {
      "text/plain": [
       "[2020-11-02 17:35:49.926061] INFO: moduleinvoker: cached.v3 开始运行.."
      ]
     },
     "metadata": {
      "is_log": true,
      "status": "INFO"
     },
     "output_type": "display_data"
    },
    {
     "data": {
      "text/plain": [
       "[2020-11-02 17:35:50.251580] INFO: moduleinvoker: cached.v3 运行完成[0.325505s]."
      ]
     },
     "metadata": {
      "is_log": true,
      "status": "INFO"
     },
     "output_type": "display_data"
    },
    {
     "data": {
      "text/plain": [
       "[2020-11-02 17:35:50.254550] INFO: moduleinvoker: cached.v3 开始运行.."
      ]
     },
     "metadata": {
      "is_log": true,
      "status": "INFO"
     },
     "output_type": "display_data"
    },
    {
     "data": {
      "text/plain": [
       "[2020-11-02 17:35:50.390907] INFO: moduleinvoker: cached.v3 运行完成[0.136338s]."
      ]
     },
     "metadata": {
      "is_log": true,
      "status": "INFO"
     },
     "output_type": "display_data"
    },
    {
     "data": {
      "text/plain": [
       "[2020-11-02 17:35:50.427776] INFO: moduleinvoker: dropnan.v2 开始运行.."
      ]
     },
     "metadata": {
      "is_log": true,
      "status": "INFO"
     },
     "output_type": "display_data"
    },
    {
     "data": {
      "text/plain": [
       "[2020-11-02 17:35:50.477932] INFO: dropnan: /data, 1736/1750"
      ]
     },
     "metadata": {
      "is_log": true,
      "status": "INFO"
     },
     "output_type": "display_data"
    },
    {
     "data": {
      "text/plain": [
       "[2020-11-02 17:35:50.538110] INFO: dropnan: 行数: 1736/1750"
      ]
     },
     "metadata": {
      "is_log": true,
      "status": "INFO"
     },
     "output_type": "display_data"
    },
    {
     "data": {
      "text/plain": [
       "[2020-11-02 17:35:50.542193] INFO: moduleinvoker: dropnan.v2 运行完成[0.114411s]."
      ]
     },
     "metadata": {
      "is_log": true,
      "status": "INFO"
     },
     "output_type": "display_data"
    }
   ],
   "source": [
    "# 本代码由可视化策略环境自动生成 2021年8月22日14:41\n",
    "# 本代码单元只能在可视化模式下编辑。您也可以拷贝代码，粘贴到新建的代码单元或者策略，然后修改。\n",
    "\n",
    "\n",
    "# Python 代码入口函数，input_1/2/3 对应三个输入端，data_1/2/3 对应三个输出端\n",
    "def m3_run_bigquant_run(input_1, input_2, input_3):\n",
    "    # 示例代码如下。在这里编写您的代码\n",
    "    df = input_1.read_df().set_index('date')\n",
    "    \n",
    "    def resample(df,period):\n",
    "        # https://pandas-docs.github.io/pandas-docs-travis/timeseries.html#offset-aliases\n",
    "        Xmin_df=pd.DataFrame()\n",
    "        Xmin_df['open'] = df['open'].resample(period, how='first')\n",
    "        Xmin_df['high'] = df['high'].resample(period, how='max')\n",
    "        Xmin_df['low'] = df['low'].resample(period, how='min')\n",
    "        Xmin_df['close'] = df['close'].resample(period, how='last')\n",
    "        Xmin_df['volume'] = df['volume'].resample(period, how='sum')\n",
    "        Xmin_df['amount'] = df['amount'].resample(period, how='sum')\n",
    "        Xmin_df.dropna(inplace=True)\n",
    "        return Xmin_df\n",
    "    \n",
    "    resample_df = df.groupby('instrument').apply(lambda x:resample(x, '5min')).reset_index()\n",
    "    \n",
    "    data_1 = DataSource.write_df(resample_df)\n",
    "    return Outputs(data_1=data_1, data_2=None, data_3=None)\n",
    "\n",
    "# 后处理函数，可选。输入是主函数的输出，可以在这里对数据做处理，或者返回更友好的outputs数据格式。此函数输出不会被缓存。\n",
    "def m3_post_run_bigquant_run(outputs):\n",
    "    return outputs\n",
    "\n",
    "# Python 代码入口函数，input_1/2/3 对应三个输入端，data_1/2/3 对应三个输出端\n",
    "def m21_run_bigquant_run(input_1, input_2, input_3):\n",
    "    # 示例代码如下。在这里编写您的代码\n",
    "    input_df = input_1.read_df()\n",
    "    import talib\n",
    "\n",
    "    def cal_kama(df):\n",
    "        # 取出close_0列的数据转化为float\n",
    "        high = np.array([float(x) for x in df['high']])\n",
    "        low = np.array([float(x) for x in df['low']])\n",
    "        close = np.array([float(x) for x in df['close']])\n",
    "         # 调用talib计算MACD指标\n",
    "        df['ATR'] = talib.ATR(high, low, close, timeperiod=14)\n",
    "        return df[['date','instrument','ATR']]\n",
    "    \n",
    "    result = input_df.groupby('instrument').apply(cal_kama)\n",
    "    \n",
    "    data_1 = DataSource.write_df(result)\n",
    "    return Outputs(data_1=data_1, data_2=None, data_3=None)\n",
    "\n",
    "# 后处理函数，可选。输入是主函数的输出，可以在这里对数据做处理，或者返回更友好的outputs数据格式。此函数输出不会被缓存。\n",
    "def m21_post_run_bigquant_run(outputs):\n",
    "    return outputs\n",
    "\n",
    "\n",
    "m1 = M.instruments.v2(\n",
    "    start_date='2015-01-01 09:30:00',\n",
    "    end_date='2015-03-01 15:00:00',\n",
    "    market='CN_STOCK_A',\n",
    "    instrument_list='',\n",
    "    max_count=0\n",
    ")\n",
    "\n",
    "m20 = M.input_features.v1(\n",
    "    features=\"\"\"\n",
    "# #号开始的表示注释，注释需单独一行\n",
    "# 多个特征，每行一个，可以包含基础特征和衍生特征，特征须为本平台特征\n",
    "close\n",
    "open\n",
    "high\n",
    "low\n",
    "volume\n",
    "amount\"\"\"\n",
    ")\n",
    "\n",
    "m2 = M.use_datasource.v1(\n",
    "    instruments=m1.data,\n",
    "    features=m20.data,\n",
    "    datasource_id='bar1m_000001.SZA',\n",
    "    start_date='',\n",
    "    end_date=''\n",
    ")\n",
    "\n",
    "m3 = M.cached.v3(\n",
    "    input_1=m2.data,\n",
    "    run=m3_run_bigquant_run,\n",
    "    post_run=m3_post_run_bigquant_run,\n",
    "    input_ports='',\n",
    "    params='{}',\n",
    "    output_ports=''\n",
    ")\n",
    "\n",
    "m21 = M.cached.v3(\n",
    "    input_1=m3.data_1,\n",
    "    run=m21_run_bigquant_run,\n",
    "    post_run=m21_post_run_bigquant_run,\n",
    "    input_ports='',\n",
    "    params='{}',\n",
    "    output_ports=''\n",
    ")\n",
    "\n",
    "m4 = M.dropnan.v2(\n",
    "    input_data=m21.data_1\n",
    ")\n"
   ]
  }
 ],
 "metadata": {
  "kernelspec": {
   "display_name": "Python 3",
   "language": "python",
   "name": "python3"
  },
  "language_info": {
   "codemirror_mode": {
    "name": "ipython",
    "version": 3
   },
   "file_extension": ".py",
   "mimetype": "text/x-python",
   "name": "python",
   "nbconvert_exporter": "python",
   "pygments_lexer": "ipython3",
   "version": "3.8.7"
  }
 },
 "nbformat": 4,
 "nbformat_minor": 4
}
