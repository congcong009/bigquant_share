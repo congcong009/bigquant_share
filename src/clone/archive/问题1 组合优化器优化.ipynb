{
 "cells": [
  {
   "cell_type": "code",
   "execution_count": 13,
   "metadata": {
    "machine_learning_studio": "true",
    "ml_studio_json": "{\"description\":\"实验创建于2017/8/26\",\"graph\":{\"edges\":[{\"to_node_id\":\"287d2cb0-f53c-4101-bdf8-104b137c8601-15:instruments\",\"from_node_id\":\"287d2cb0-f53c-4101-bdf8-104b137c8601-8:data\"},{\"to_node_id\":\"-215:instruments\",\"from_node_id\":\"287d2cb0-f53c-4101-bdf8-104b137c8601-8:data\"},{\"to_node_id\":\"287d2cb0-f53c-4101-bdf8-104b137c8601-53:data1\",\"from_node_id\":\"287d2cb0-f53c-4101-bdf8-104b137c8601-15:data\"},{\"to_node_id\":\"-215:features\",\"from_node_id\":\"287d2cb0-f53c-4101-bdf8-104b137c8601-24:data\"},{\"to_node_id\":\"-222:features\",\"from_node_id\":\"287d2cb0-f53c-4101-bdf8-104b137c8601-24:data\"},{\"to_node_id\":\"-858:features\",\"from_node_id\":\"287d2cb0-f53c-4101-bdf8-104b137c8601-24:data\"},{\"to_node_id\":\"-5332:features_ds\",\"from_node_id\":\"287d2cb0-f53c-4101-bdf8-104b137c8601-24:data\"},{\"to_node_id\":\"-872:input_data\",\"from_node_id\":\"287d2cb0-f53c-4101-bdf8-104b137c8601-53:data\"},{\"to_node_id\":\"-3834:input_1\",\"from_node_id\":\"287d2cb0-f53c-4101-bdf8-104b137c8601-60:predictions\"},{\"to_node_id\":\"-6306:options_data\",\"from_node_id\":\"287d2cb0-f53c-4101-bdf8-104b137c8601-60:predictions\"},{\"to_node_id\":\"-231:instruments\",\"from_node_id\":\"287d2cb0-f53c-4101-bdf8-104b137c8601-62:data\"},{\"to_node_id\":\"-250:instruments\",\"from_node_id\":\"287d2cb0-f53c-4101-bdf8-104b137c8601-62:data\"},{\"to_node_id\":\"-3834:input_2\",\"from_node_id\":\"287d2cb0-f53c-4101-bdf8-104b137c8601-62:data\"},{\"to_node_id\":\"-6306:instruments\",\"from_node_id\":\"287d2cb0-f53c-4101-bdf8-104b137c8601-62:data\"},{\"to_node_id\":\"-222:input_data\",\"from_node_id\":\"-215:data\"},{\"to_node_id\":\"287d2cb0-f53c-4101-bdf8-104b137c8601-53:data2\",\"from_node_id\":\"-222:data\"},{\"to_node_id\":\"-238:input_data\",\"from_node_id\":\"-231:data\"},{\"to_node_id\":\"-5337:input_data\",\"from_node_id\":\"-238:data\"},{\"to_node_id\":\"287d2cb0-f53c-4101-bdf8-104b137c8601-60:model\",\"from_node_id\":\"-858:model\"},{\"to_node_id\":\"-858:training_ds\",\"from_node_id\":\"-872:data\"},{\"to_node_id\":\"287d2cb0-f53c-4101-bdf8-104b137c8601-60:data\",\"from_node_id\":\"-876:data\"},{\"to_node_id\":\"-4161:input_1\",\"from_node_id\":\"-3834:data_1\"},{\"to_node_id\":\"-250:options_data\",\"from_node_id\":\"-4161:data_1\"},{\"to_node_id\":\"-231:features\",\"from_node_id\":\"-5332:data\"},{\"to_node_id\":\"-238:features\",\"from_node_id\":\"-5332:data\"},{\"to_node_id\":\"-876:input_data\",\"from_node_id\":\"-5337:data\"}],\"nodes\":[{\"node_id\":\"287d2cb0-f53c-4101-bdf8-104b137c8601-8\",\"module_id\":\"BigQuantSpace.instruments.instruments-v2\",\"parameters\":[{\"name\":\"start_date\",\"value\":\"2019-01-01\",\"type\":\"Literal\",\"bound_global_parameter\":null},{\"name\":\"end_date\",\"value\":\"2020-01-01\",\"type\":\"Literal\",\"bound_global_parameter\":null},{\"name\":\"market\",\"value\":\"CN_STOCK_A\",\"type\":\"Literal\",\"bound_global_parameter\":null},{\"name\":\"instrument_list\",\"value\":\"\",\"type\":\"Literal\",\"bound_global_parameter\":null},{\"name\":\"max_count\",\"value\":\"0\",\"type\":\"Literal\",\"bound_global_parameter\":null}],\"input_ports\":[{\"name\":\"rolling_conf\",\"node_id\":\"287d2cb0-f53c-4101-bdf8-104b137c8601-8\"}],\"output_ports\":[{\"name\":\"data\",\"node_id\":\"287d2cb0-f53c-4101-bdf8-104b137c8601-8\"}],\"cacheable\":true,\"seq_num\":1,\"comment\":\"\",\"comment_collapsed\":true},{\"node_id\":\"287d2cb0-f53c-4101-bdf8-104b137c8601-15\",\"module_id\":\"BigQuantSpace.advanced_auto_labeler.advanced_auto_labeler-v2\",\"parameters\":[{\"name\":\"label_expr\",\"value\":\"# #号开始的表示注释\\n# 0. 每行一个，顺序执行，从第二个开始，可以使用label字段\\n# 1. 可用数据字段见 https://bigquant.com/docs/develop/datasource/deprecated/history_data.html\\n#   添加benchmark_前缀，可使用对应的benchmark数据\\n# 2. 可用操作符和函数见 `表达式引擎 <https://bigquant.com/docs/develop/bigexpr/usage.html>`_\\n\\n# 计算收益：5日收盘价(作为卖出价格)除以明日开盘价(作为买入价格)\\nshift(close, -5) / shift(open, -1)\\n\\n# 极值处理：用1%和99%分位的值做clip\\nclip(label, all_quantile(label, 0.01), all_quantile(label, 0.99))\\n\\n# 将分数映射到分类，这里使用20个分类\\nall_wbins(label, 20)\\n\\n# 过滤掉一字涨停的情况 (设置label为NaN，在后续处理和训练中会忽略NaN的label)\\nwhere(shift(high, -1) == shift(low, -1), NaN, label)\\n\",\"type\":\"Literal\",\"bound_global_parameter\":null},{\"name\":\"start_date\",\"value\":\"\",\"type\":\"Literal\",\"bound_global_parameter\":null},{\"name\":\"end_date\",\"value\":\"\",\"type\":\"Literal\",\"bound_global_parameter\":null},{\"name\":\"benchmark\",\"value\":\"000300.SHA\",\"type\":\"Literal\",\"bound_global_parameter\":null},{\"name\":\"drop_na_label\",\"value\":\"True\",\"type\":\"Literal\",\"bound_global_parameter\":null},{\"name\":\"cast_label_int\",\"value\":\"True\",\"type\":\"Literal\",\"bound_global_parameter\":null},{\"name\":\"user_functions\",\"value\":\"\",\"type\":\"Literal\",\"bound_global_parameter\":null}],\"input_ports\":[{\"name\":\"instruments\",\"node_id\":\"287d2cb0-f53c-4101-bdf8-104b137c8601-15\"}],\"output_ports\":[{\"name\":\"data\",\"node_id\":\"287d2cb0-f53c-4101-bdf8-104b137c8601-15\"}],\"cacheable\":true,\"seq_num\":2,\"comment\":\"\",\"comment_collapsed\":true},{\"node_id\":\"287d2cb0-f53c-4101-bdf8-104b137c8601-24\",\"module_id\":\"BigQuantSpace.input_features.input_features-v1\",\"parameters\":[{\"name\":\"features\",\"value\":\"# #号开始的表示注释\\n# 多个特征，每行一个，可以包含基础特征和衍生特征\\nreturn_5\\nreturn_10\\nreturn_20\\navg_amount_0/avg_amount_5\\navg_amount_5/avg_amount_20\\nrank_avg_amount_0/rank_avg_amount_5\\nrank_avg_amount_5/rank_avg_amount_10\\nrank_return_0\\nrank_return_5\\nrank_return_10\\nrank_return_0/rank_return_5\\nrank_return_5/rank_return_10\\npe_ttm_0\\n\",\"type\":\"Literal\",\"bound_global_parameter\":null}],\"input_ports\":[{\"name\":\"features_ds\",\"node_id\":\"287d2cb0-f53c-4101-bdf8-104b137c8601-24\"}],\"output_ports\":[{\"name\":\"data\",\"node_id\":\"287d2cb0-f53c-4101-bdf8-104b137c8601-24\"}],\"cacheable\":true,\"seq_num\":3,\"comment\":\"\",\"comment_collapsed\":true},{\"node_id\":\"287d2cb0-f53c-4101-bdf8-104b137c8601-53\",\"module_id\":\"BigQuantSpace.join.join-v3\",\"parameters\":[{\"name\":\"on\",\"value\":\"date,instrument\",\"type\":\"Literal\",\"bound_global_parameter\":null},{\"name\":\"how\",\"value\":\"inner\",\"type\":\"Literal\",\"bound_global_parameter\":null},{\"name\":\"sort\",\"value\":\"False\",\"type\":\"Literal\",\"bound_global_parameter\":null}],\"input_ports\":[{\"name\":\"data1\",\"node_id\":\"287d2cb0-f53c-4101-bdf8-104b137c8601-53\"},{\"name\":\"data2\",\"node_id\":\"287d2cb0-f53c-4101-bdf8-104b137c8601-53\"}],\"output_ports\":[{\"name\":\"data\",\"node_id\":\"287d2cb0-f53c-4101-bdf8-104b137c8601-53\"}],\"cacheable\":true,\"seq_num\":7,\"comment\":\"\",\"comment_collapsed\":true},{\"node_id\":\"287d2cb0-f53c-4101-bdf8-104b137c8601-60\",\"module_id\":\"BigQuantSpace.stock_ranker_predict.stock_ranker_predict-v5\",\"parameters\":[{\"name\":\"m_lazy_run\",\"value\":\"False\",\"type\":\"Literal\",\"bound_global_parameter\":null}],\"input_ports\":[{\"name\":\"model\",\"node_id\":\"287d2cb0-f53c-4101-bdf8-104b137c8601-60\"},{\"name\":\"data\",\"node_id\":\"287d2cb0-f53c-4101-bdf8-104b137c8601-60\"}],\"output_ports\":[{\"name\":\"predictions\",\"node_id\":\"287d2cb0-f53c-4101-bdf8-104b137c8601-60\"},{\"name\":\"m_lazy_run\",\"node_id\":\"287d2cb0-f53c-4101-bdf8-104b137c8601-60\"}],\"cacheable\":true,\"seq_num\":8,\"comment\":\"\",\"comment_collapsed\":true},{\"node_id\":\"287d2cb0-f53c-4101-bdf8-104b137c8601-62\",\"module_id\":\"BigQuantSpace.instruments.instruments-v2\",\"parameters\":[{\"name\":\"start_date\",\"value\":\"2020-01-01\",\"type\":\"Literal\",\"bound_global_parameter\":\"交易日期\"},{\"name\":\"end_date\",\"value\":\"2021-09-01\",\"type\":\"Literal\",\"bound_global_parameter\":\"交易日期\"},{\"name\":\"market\",\"value\":\"CN_STOCK_A\",\"type\":\"Literal\",\"bound_global_parameter\":null},{\"name\":\"instrument_list\",\"value\":\"\",\"type\":\"Literal\",\"bound_global_parameter\":null},{\"name\":\"max_count\",\"value\":\"0\",\"type\":\"Literal\",\"bound_global_parameter\":null}],\"input_ports\":[{\"name\":\"rolling_conf\",\"node_id\":\"287d2cb0-f53c-4101-bdf8-104b137c8601-62\"}],\"output_ports\":[{\"name\":\"data\",\"node_id\":\"287d2cb0-f53c-4101-bdf8-104b137c8601-62\"}],\"cacheable\":true,\"seq_num\":9,\"comment\":\"预测数据，用于回测和模拟\",\"comment_collapsed\":false},{\"node_id\":\"-215\",\"module_id\":\"BigQuantSpace.general_feature_extractor.general_feature_extractor-v7\",\"parameters\":[{\"name\":\"start_date\",\"value\":\"\",\"type\":\"Literal\",\"bound_global_parameter\":null},{\"name\":\"end_date\",\"value\":\"\",\"type\":\"Literal\",\"bound_global_parameter\":null},{\"name\":\"before_start_days\",\"value\":90,\"type\":\"Literal\",\"bound_global_parameter\":null}],\"input_ports\":[{\"name\":\"instruments\",\"node_id\":\"-215\"},{\"name\":\"features\",\"node_id\":\"-215\"}],\"output_ports\":[{\"name\":\"data\",\"node_id\":\"-215\"}],\"cacheable\":true,\"seq_num\":15,\"comment\":\"\",\"comment_collapsed\":true},{\"node_id\":\"-222\",\"module_id\":\"BigQuantSpace.derived_feature_extractor.derived_feature_extractor-v3\",\"parameters\":[{\"name\":\"date_col\",\"value\":\"date\",\"type\":\"Literal\",\"bound_global_parameter\":null},{\"name\":\"instrument_col\",\"value\":\"instrument\",\"type\":\"Literal\",\"bound_global_parameter\":null},{\"name\":\"drop_na\",\"value\":\"False\",\"type\":\"Literal\",\"bound_global_parameter\":null},{\"name\":\"remove_extra_columns\",\"value\":\"False\",\"type\":\"Literal\",\"bound_global_parameter\":null},{\"name\":\"user_functions\",\"value\":\"\",\"type\":\"Literal\",\"bound_global_parameter\":null}],\"input_ports\":[{\"name\":\"input_data\",\"node_id\":\"-222\"},{\"name\":\"features\",\"node_id\":\"-222\"}],\"output_ports\":[{\"name\":\"data\",\"node_id\":\"-222\"}],\"cacheable\":true,\"seq_num\":16,\"comment\":\"\",\"comment_collapsed\":true},{\"node_id\":\"-231\",\"module_id\":\"BigQuantSpace.general_feature_extractor.general_feature_extractor-v7\",\"parameters\":[{\"name\":\"start_date\",\"value\":\"\",\"type\":\"Literal\",\"bound_global_parameter\":null},{\"name\":\"end_date\",\"value\":\"\",\"type\":\"Literal\",\"bound_global_parameter\":null},{\"name\":\"before_start_days\",\"value\":90,\"type\":\"Literal\",\"bound_global_parameter\":null}],\"input_ports\":[{\"name\":\"instruments\",\"node_id\":\"-231\"},{\"name\":\"features\",\"node_id\":\"-231\"}],\"output_ports\":[{\"name\":\"data\",\"node_id\":\"-231\"}],\"cacheable\":true,\"seq_num\":17,\"comment\":\"\",\"comment_collapsed\":true},{\"node_id\":\"-238\",\"module_id\":\"BigQuantSpace.derived_feature_extractor.derived_feature_extractor-v3\",\"parameters\":[{\"name\":\"date_col\",\"value\":\"date\",\"type\":\"Literal\",\"bound_global_parameter\":null},{\"name\":\"instrument_col\",\"value\":\"instrument\",\"type\":\"Literal\",\"bound_global_parameter\":null},{\"name\":\"drop_na\",\"value\":\"False\",\"type\":\"Literal\",\"bound_global_parameter\":null},{\"name\":\"remove_extra_columns\",\"value\":\"False\",\"type\":\"Literal\",\"bound_global_parameter\":null},{\"name\":\"user_functions\",\"value\":\"\",\"type\":\"Literal\",\"bound_global_parameter\":null}],\"input_ports\":[{\"name\":\"input_data\",\"node_id\":\"-238\"},{\"name\":\"features\",\"node_id\":\"-238\"}],\"output_ports\":[{\"name\":\"data\",\"node_id\":\"-238\"}],\"cacheable\":true,\"seq_num\":18,\"comment\":\"\",\"comment_collapsed\":true},{\"node_id\":\"-250\",\"module_id\":\"BigQuantSpace.trade.trade-v4\",\"parameters\":[{\"name\":\"start_date\",\"value\":\"\",\"type\":\"Literal\",\"bound_global_parameter\":null},{\"name\":\"end_date\",\"value\":\"\",\"type\":\"Literal\",\"bound_global_parameter\":null},{\"name\":\"initialize\",\"value\":\"# 回测引擎：初始化函数，只执行一次\\ndef bigquant_run(context):\\n    # 加载仓位数据\\n    context.ratios_dict = context.options['data'].read_pickle()\\n    \\n    # 系统已经设置了默认的交易手续费和滑点，要修改手续费可使用如下函数\\n    context.set_commission(PerOrder(buy_cost=0.0003, sell_cost=0.0013, min_cost=5))\\n\\n    context.couter =0\",\"type\":\"Literal\",\"bound_global_parameter\":null},{\"name\":\"handle_data\",\"value\":\"# 回测引擎：每日数据处理函数，每天执行一次\\ndef bigquant_run(context, data):\\n    if context.couter % 5 !=0:\\n        context.couter += 1\\n        return\\n    \\n    context.couter += 1\\n    # 按日期过滤得到今日的预测数据\\n    try:\\n        ratio_today = context.ratios_dict[data.current_dt.strftime('%Y-%m-%d')]\\n\\n    except:\\n        return\\n    \\n    positions = {e.symbol: p.amount * p.last_sale_price\\n                 for e, p in context.portfolio.positions.items()}\\n\\n\\n    stock_to_sell = [k for k in positions if k not in ratio_today]\\n    \\n    for instrument in stock_to_sell:\\n        context.order_target( context.symbol(instrument), 0)\\n        \\n    for instrument in ratio_today:\\n        context.order_target_percent( context.symbol(instrument), ratio_today[instrument])\\n    \",\"type\":\"Literal\",\"bound_global_parameter\":null},{\"name\":\"prepare\",\"value\":\"# 回测引擎：准备数据，只执行一次\\ndef bigquant_run(context):\\n    pass\\n\",\"type\":\"Literal\",\"bound_global_parameter\":null},{\"name\":\"before_trading_start\",\"value\":\"\",\"type\":\"Literal\",\"bound_global_parameter\":null},{\"name\":\"volume_limit\",\"value\":0.025,\"type\":\"Literal\",\"bound_global_parameter\":null},{\"name\":\"order_price_field_buy\",\"value\":\"open\",\"type\":\"Literal\",\"bound_global_parameter\":null},{\"name\":\"order_price_field_sell\",\"value\":\"close\",\"type\":\"Literal\",\"bound_global_parameter\":null},{\"name\":\"capital_base\",\"value\":1000000,\"type\":\"Literal\",\"bound_global_parameter\":null},{\"name\":\"auto_cancel_non_tradable_orders\",\"value\":\"True\",\"type\":\"Literal\",\"bound_global_parameter\":null},{\"name\":\"data_frequency\",\"value\":\"daily\",\"type\":\"Literal\",\"bound_global_parameter\":null},{\"name\":\"price_type\",\"value\":\"真实价格\",\"type\":\"Literal\",\"bound_global_parameter\":null},{\"name\":\"product_type\",\"value\":\"股票\",\"type\":\"Literal\",\"bound_global_parameter\":null},{\"name\":\"plot_charts\",\"value\":\"True\",\"type\":\"Literal\",\"bound_global_parameter\":null},{\"name\":\"backtest_only\",\"value\":\"False\",\"type\":\"Literal\",\"bound_global_parameter\":null},{\"name\":\"benchmark\",\"value\":\"000300.SHA\",\"type\":\"Literal\",\"bound_global_parameter\":null}],\"input_ports\":[{\"name\":\"instruments\",\"node_id\":\"-250\"},{\"name\":\"options_data\",\"node_id\":\"-250\"},{\"name\":\"history_ds\",\"node_id\":\"-250\"},{\"name\":\"benchmark_ds\",\"node_id\":\"-250\"},{\"name\":\"trading_calendar\",\"node_id\":\"-250\"}],\"output_ports\":[{\"name\":\"raw_perf\",\"node_id\":\"-250\"}],\"cacheable\":false,\"seq_num\":19,\"comment\":\"\",\"comment_collapsed\":true},{\"node_id\":\"-858\",\"module_id\":\"BigQuantSpace.stock_ranker_train.stock_ranker_train-v6\",\"parameters\":[{\"name\":\"learning_algorithm\",\"value\":\"排序\",\"type\":\"Literal\",\"bound_global_parameter\":null},{\"name\":\"number_of_leaves\",\"value\":30,\"type\":\"Literal\",\"bound_global_parameter\":null},{\"name\":\"minimum_docs_per_leaf\",\"value\":1000,\"type\":\"Literal\",\"bound_global_parameter\":null},{\"name\":\"number_of_trees\",\"value\":20,\"type\":\"Literal\",\"bound_global_parameter\":null},{\"name\":\"learning_rate\",\"value\":0.1,\"type\":\"Literal\",\"bound_global_parameter\":null},{\"name\":\"max_bins\",\"value\":1023,\"type\":\"Literal\",\"bound_global_parameter\":null},{\"name\":\"feature_fraction\",\"value\":1,\"type\":\"Literal\",\"bound_global_parameter\":null},{\"name\":\"data_row_fraction\",\"value\":1,\"type\":\"Literal\",\"bound_global_parameter\":null},{\"name\":\"ndcg_discount_base\",\"value\":1,\"type\":\"Literal\",\"bound_global_parameter\":null},{\"name\":\"m_lazy_run\",\"value\":\"False\",\"type\":\"Literal\",\"bound_global_parameter\":null}],\"input_ports\":[{\"name\":\"training_ds\",\"node_id\":\"-858\"},{\"name\":\"features\",\"node_id\":\"-858\"},{\"name\":\"test_ds\",\"node_id\":\"-858\"},{\"name\":\"base_model\",\"node_id\":\"-858\"}],\"output_ports\":[{\"name\":\"model\",\"node_id\":\"-858\"},{\"name\":\"feature_gains\",\"node_id\":\"-858\"},{\"name\":\"m_lazy_run\",\"node_id\":\"-858\"}],\"cacheable\":true,\"seq_num\":4,\"comment\":\"\",\"comment_collapsed\":true},{\"node_id\":\"-872\",\"module_id\":\"BigQuantSpace.dropnan.dropnan-v2\",\"parameters\":[],\"input_ports\":[{\"name\":\"input_data\",\"node_id\":\"-872\"},{\"name\":\"features\",\"node_id\":\"-872\"}],\"output_ports\":[{\"name\":\"data\",\"node_id\":\"-872\"}],\"cacheable\":true,\"seq_num\":5,\"comment\":\"\",\"comment_collapsed\":true},{\"node_id\":\"-876\",\"module_id\":\"BigQuantSpace.dropnan.dropnan-v2\",\"parameters\":[],\"input_ports\":[{\"name\":\"input_data\",\"node_id\":\"-876\"},{\"name\":\"features\",\"node_id\":\"-876\"}],\"output_ports\":[{\"name\":\"data\",\"node_id\":\"-876\"}],\"cacheable\":true,\"seq_num\":10,\"comment\":\"\",\"comment_collapsed\":true},{\"node_id\":\"-3834\",\"module_id\":\"BigQuantSpace.cached.cached-v3\",\"parameters\":[{\"name\":\"run\",\"value\":\"# Python 代码入口函数，input_1/2/3 对应三个输入端，data_1/2/3 对应三个输出端\\ndef bigquant_run(input_1, input_2, input_3):\\n    # 示例代码如下。在这里编写您的代码\\n    df = input_1.read()\\n    start = input_2.read()['start_date']\\n    final = df[df.date>=start].groupby('date').apply(lambda x:list(x.instrument.values[:5]))\\n    data_1 = DataSource().write_pickle(final)\\n    return Outputs(data_1=data_1)\\n\",\"type\":\"Literal\",\"bound_global_parameter\":null},{\"name\":\"post_run\",\"value\":\"# 后处理函数，可选。输入是主函数的输出，可以在这里对数据做处理，或者返回更友好的outputs数据格式。此函数输出不会被缓存。\\ndef bigquant_run(outputs):\\n    return outputs\\n\",\"type\":\"Literal\",\"bound_global_parameter\":null},{\"name\":\"input_ports\",\"value\":\"\",\"type\":\"Literal\",\"bound_global_parameter\":null},{\"name\":\"params\",\"value\":\"{}\",\"type\":\"Literal\",\"bound_global_parameter\":null},{\"name\":\"output_ports\",\"value\":\"\",\"type\":\"Literal\",\"bound_global_parameter\":null}],\"input_ports\":[{\"name\":\"input_1\",\"node_id\":\"-3834\"},{\"name\":\"input_2\",\"node_id\":\"-3834\"},{\"name\":\"input_3\",\"node_id\":\"-3834\"}],\"output_ports\":[{\"name\":\"data_1\",\"node_id\":\"-3834\"},{\"name\":\"data_2\",\"node_id\":\"-3834\"},{\"name\":\"data_3\",\"node_id\":\"-3834\"}],\"cacheable\":true,\"seq_num\":6,\"comment\":\"\",\"comment_collapsed\":true},{\"node_id\":\"-4161\",\"module_id\":\"BigQuantSpace.classical_portfolio_optimizer.classical_portfolio_optimizer-v6\",\"parameters\":[{\"name\":\"symbols\",\"value\":\"\",\"type\":\"Literal\",\"bound_global_parameter\":null},{\"name\":\"date\",\"value\":\"\",\"type\":\"Literal\",\"bound_global_parameter\":null},{\"name\":\"weight_sum\",\"value\":1,\"type\":\"Literal\",\"bound_global_parameter\":null},{\"name\":\"upper_weight\",\"value\":\"0.6\",\"type\":\"Literal\",\"bound_global_parameter\":null},{\"name\":\"lower_weight\",\"value\":0.01,\"type\":\"Literal\",\"bound_global_parameter\":null},{\"name\":\"before_start_days\",\"value\":\"10\",\"type\":\"Literal\",\"bound_global_parameter\":null},{\"name\":\"target\",\"value\":\"风险平价\",\"type\":\"Literal\",\"bound_global_parameter\":null},{\"name\":\"return_equal_weight_if_fail\",\"value\":\"True\",\"type\":\"Literal\",\"bound_global_parameter\":null}],\"input_ports\":[{\"name\":\"input_1\",\"node_id\":\"-4161\"}],\"output_ports\":[{\"name\":\"data_1\",\"node_id\":\"-4161\"}],\"cacheable\":true,\"seq_num\":11,\"comment\":\"\",\"comment_collapsed\":true},{\"node_id\":\"-5332\",\"module_id\":\"BigQuantSpace.input_features.input_features-v1\",\"parameters\":[{\"name\":\"features\",\"value\":\"\\n# #号开始的表示注释，注释需单独一行\\n# 多个特征，每行一个，可以包含基础特征和衍生特征，特征须为本平台特征\\nlist_days_0\\n\",\"type\":\"Literal\",\"bound_global_parameter\":null}],\"input_ports\":[{\"name\":\"features_ds\",\"node_id\":\"-5332\"}],\"output_ports\":[{\"name\":\"data\",\"node_id\":\"-5332\"}],\"cacheable\":true,\"seq_num\":12,\"comment\":\"\",\"comment_collapsed\":true},{\"node_id\":\"-5337\",\"module_id\":\"BigQuantSpace.filter.filter-v3\",\"parameters\":[{\"name\":\"expr\",\"value\":\"list_days_0>200\",\"type\":\"Literal\",\"bound_global_parameter\":null},{\"name\":\"output_left_data\",\"value\":\"False\",\"type\":\"Literal\",\"bound_global_parameter\":null}],\"input_ports\":[{\"name\":\"input_data\",\"node_id\":\"-5337\"}],\"output_ports\":[{\"name\":\"data\",\"node_id\":\"-5337\"},{\"name\":\"left_data\",\"node_id\":\"-5337\"}],\"cacheable\":true,\"seq_num\":13,\"comment\":\"\",\"comment_collapsed\":true},{\"node_id\":\"-6306\",\"module_id\":\"BigQuantSpace.trade.trade-v4\",\"parameters\":[{\"name\":\"start_date\",\"value\":\"\",\"type\":\"Literal\",\"bound_global_parameter\":null},{\"name\":\"end_date\",\"value\":\"\",\"type\":\"Literal\",\"bound_global_parameter\":null},{\"name\":\"initialize\",\"value\":\"# 回测引擎：初始化函数，只执行一次\\ndef bigquant_run(context):\\n    # 加载预测数据\\n    context.ranker_prediction = context.options['data'].read_df()\\n\\n    # 系统已经设置了默认的交易手续费和滑点，要修改手续费可使用如下函数\\n    context.set_commission(PerOrder(buy_cost=0.0003, sell_cost=0.0013, min_cost=5))\\n    # 预测数据，通过options传入进来，使用 read_df 函数，加载到内存 (DataFrame)\\n    # 设置买入的股票数量，这里买入预测股票列表排名靠前的5只\\n    stock_count = 5\\n    # 每只的股票的权重，如下的权重分配会使得靠前的股票分配多一点的资金，[0.339160, 0.213986, 0.169580, ..]\\n    context.stock_weights = T.norm([1 / math.log(i + 2) for i in range(0, stock_count)])\\n    # 设置每只股票占用的最大资金比例\\n    context.max_cash_per_instrument = 0.2\\n    context.hold_days = 5\\n\",\"type\":\"Literal\",\"bound_global_parameter\":null},{\"name\":\"handle_data\",\"value\":\"# 回测引擎：每日数据处理函数，每天执行一次\\ndef bigquant_run(context, data):\\n    # 按日期过滤得到今日的预测数据\\n    ranker_prediction = context.ranker_prediction[\\n        context.ranker_prediction.date == data.current_dt.strftime('%Y-%m-%d')]\\n\\n    # 1. 资金分配\\n    # 平均持仓时间是hold_days，每日都将买入股票，每日预期使用 1/hold_days 的资金\\n    # 实际操作中，会存在一定的买入误差，所以在前hold_days天，等量使用资金；之后，尽量使用剩余资金（这里设置最多用等量的1.5倍）\\n    is_staging = context.trading_day_index < context.hold_days # 是否在建仓期间（前 hold_days 天）\\n    cash_avg = context.portfolio.portfolio_value / context.hold_days\\n    cash_for_buy = min(context.portfolio.cash, (1 if is_staging else 1.5) * cash_avg)\\n    cash_for_sell = cash_avg - (context.portfolio.cash - cash_for_buy)\\n    positions = {e.symbol: p.amount * p.last_sale_price\\n                 for e, p in context.perf_tracker.position_tracker.positions.items()}\\n\\n    # 2. 生成卖出订单：hold_days天之后才开始卖出；对持仓的股票，按StockRanker预测的排序末位淘汰\\n    if not is_staging and cash_for_sell > 0:\\n        equities = {e.symbol: e for e, p in context.perf_tracker.position_tracker.positions.items()}\\n        instruments = list(reversed(list(ranker_prediction.instrument[ranker_prediction.instrument.apply(\\n                lambda x: x in equities and not context.has_unfinished_sell_order(equities[x]))])))\\n        # print('rank order for sell %s' % instruments)\\n        for instrument in instruments:\\n            context.order_target(context.symbol(instrument), 0)\\n            cash_for_sell -= positions[instrument]\\n            if cash_for_sell <= 0:\\n                break\\n\\n    # 3. 生成买入订单：按StockRanker预测的排序，买入前面的stock_count只股票\\n    buy_cash_weights = context.stock_weights\\n    buy_instruments = list(ranker_prediction.instrument[:len(buy_cash_weights)])\\n    max_cash_per_instrument = context.portfolio.portfolio_value * context.max_cash_per_instrument\\n    for i, instrument in enumerate(buy_instruments):\\n        cash = cash_for_buy * buy_cash_weights[i]\\n        if cash > max_cash_per_instrument - positions.get(instrument, 0):\\n            # 确保股票持仓量不会超过每次股票最大的占用资金量\\n            cash = max_cash_per_instrument - positions.get(instrument, 0)\\n        if cash > 0:\\n            context.order_value(context.symbol(instrument), cash)\\n\",\"type\":\"Literal\",\"bound_global_parameter\":null},{\"name\":\"prepare\",\"value\":\"# 回测引擎：准备数据，只执行一次\\ndef bigquant_run(context):\\n    pass\\n\",\"type\":\"Literal\",\"bound_global_parameter\":null},{\"name\":\"before_trading_start\",\"value\":\"# 回测引擎：每个单位时间开始前调用一次，即每日开盘前调用一次。\\ndef bigquant_run(context, data):\\n    pass\\n\",\"type\":\"Literal\",\"bound_global_parameter\":null},{\"name\":\"volume_limit\",\"value\":0.025,\"type\":\"Literal\",\"bound_global_parameter\":null},{\"name\":\"order_price_field_buy\",\"value\":\"open\",\"type\":\"Literal\",\"bound_global_parameter\":null},{\"name\":\"order_price_field_sell\",\"value\":\"close\",\"type\":\"Literal\",\"bound_global_parameter\":null},{\"name\":\"capital_base\",\"value\":1000000,\"type\":\"Literal\",\"bound_global_parameter\":null},{\"name\":\"auto_cancel_non_tradable_orders\",\"value\":\"True\",\"type\":\"Literal\",\"bound_global_parameter\":null},{\"name\":\"data_frequency\",\"value\":\"daily\",\"type\":\"Literal\",\"bound_global_parameter\":null},{\"name\":\"price_type\",\"value\":\"真实价格\",\"type\":\"Literal\",\"bound_global_parameter\":null},{\"name\":\"product_type\",\"value\":\"股票\",\"type\":\"Literal\",\"bound_global_parameter\":null},{\"name\":\"plot_charts\",\"value\":\"True\",\"type\":\"Literal\",\"bound_global_parameter\":null},{\"name\":\"backtest_only\",\"value\":\"False\",\"type\":\"Literal\",\"bound_global_parameter\":null},{\"name\":\"benchmark\",\"value\":\"\",\"type\":\"Literal\",\"bound_global_parameter\":null}],\"input_ports\":[{\"name\":\"instruments\",\"node_id\":\"-6306\"},{\"name\":\"options_data\",\"node_id\":\"-6306\"},{\"name\":\"history_ds\",\"node_id\":\"-6306\"},{\"name\":\"benchmark_ds\",\"node_id\":\"-6306\"},{\"name\":\"trading_calendar\",\"node_id\":\"-6306\"}],\"output_ports\":[{\"name\":\"raw_perf\",\"node_id\":\"-6306\"}],\"cacheable\":false,\"seq_num\":14,\"comment\":\"\",\"comment_collapsed\":true}],\"node_layout\":\"<node_postions><node_position Node='287d2cb0-f53c-4101-bdf8-104b137c8601-8' Position='203.13714599609375,2.4077320098876953,200,200'/><node_position Node='287d2cb0-f53c-4101-bdf8-104b137c8601-15' Position='70,183,200,200'/><node_position Node='287d2cb0-f53c-4101-bdf8-104b137c8601-24' Position='608.7867431640625,-53.30673408508301,200,200'/><node_position Node='287d2cb0-f53c-4101-bdf8-104b137c8601-53' Position='249,375,200,200'/><node_position Node='287d2cb0-f53c-4101-bdf8-104b137c8601-60' Position='695.0137329101562,667.967529296875,200,200'/><node_position Node='287d2cb0-f53c-4101-bdf8-104b137c8601-62' Position='983.39111328125,-45.26656150817871,200,200'/><node_position Node='-215' Position='381,188,200,200'/><node_position Node='-222' Position='385,280,200,200'/><node_position Node='-231' Position='1078,236,200,200'/><node_position Node='-238' Position='1065.2742919921875,344.0361633300781,200,200'/><node_position Node='-250' Position='892.6209716796875,1022.805419921875,200,200'/><node_position Node='-858' Position='535.7830200195312,567.5523071289062,200,200'/><node_position Node='-872' Position='376,467,200,200'/><node_position Node='-876' Position='950.8116455078125,544.6932373046875,200,200'/><node_position Node='-3834' Position='1053.0399169921875,810.3179931640625,200,200'/><node_position Node='-4161' Position='1018.0399169921875,922.5960083007812,200,200'/><node_position Node='-5332' Position='775.8240356445312,51.366849422454834,200,200'/><node_position Node='-5337' Position='1056.9600830078125,432.20947265625,200,200'/><node_position Node='-6306' Position='349,848,200,200'/></node_postions>\"},\"nodes_readonly\":false,\"studio_version\":\"v2\"}"
   },
   "outputs": [
    {
     "data": {
      "text/plain": [
       "[2021-08-20 22:17:29.475273] INFO: moduleinvoker: instruments.v2 开始运行.."
      ]
     },
     "metadata": {
      "is_log": true,
      "status": "INFO"
     },
     "output_type": "display_data"
    },
    {
     "data": {
      "text/plain": [
       "[2021-08-20 22:17:29.483249] INFO: moduleinvoker: 命中缓存"
      ]
     },
     "metadata": {
      "is_log": true,
      "status": "INFO"
     },
     "output_type": "display_data"
    },
    {
     "data": {
      "text/plain": [
       "[2021-08-20 22:17:29.484866] INFO: moduleinvoker: instruments.v2 运行完成[0.009601s]."
      ]
     },
     "metadata": {
      "is_log": true,
      "status": "INFO"
     },
     "output_type": "display_data"
    },
    {
     "data": {
      "text/plain": [
       "[2021-08-20 22:17:29.487704] INFO: moduleinvoker: advanced_auto_labeler.v2 开始运行.."
      ]
     },
     "metadata": {
      "is_log": true,
      "status": "INFO"
     },
     "output_type": "display_data"
    },
    {
     "data": {
      "text/plain": [
       "[2021-08-20 22:17:29.493896] INFO: moduleinvoker: 命中缓存"
      ]
     },
     "metadata": {
      "is_log": true,
      "status": "INFO"
     },
     "output_type": "display_data"
    },
    {
     "data": {
      "text/plain": [
       "[2021-08-20 22:17:29.495077] INFO: moduleinvoker: advanced_auto_labeler.v2 运行完成[0.007374s]."
      ]
     },
     "metadata": {
      "is_log": true,
      "status": "INFO"
     },
     "output_type": "display_data"
    },
    {
     "data": {
      "text/plain": [
       "[2021-08-20 22:17:29.496992] INFO: moduleinvoker: input_features.v1 开始运行.."
      ]
     },
     "metadata": {
      "is_log": true,
      "status": "INFO"
     },
     "output_type": "display_data"
    },
    {
     "data": {
      "text/plain": [
       "[2021-08-20 22:17:29.502893] INFO: moduleinvoker: 命中缓存"
      ]
     },
     "metadata": {
      "is_log": true,
      "status": "INFO"
     },
     "output_type": "display_data"
    },
    {
     "data": {
      "text/plain": [
       "[2021-08-20 22:17:29.504068] INFO: moduleinvoker: input_features.v1 运行完成[0.007078s]."
      ]
     },
     "metadata": {
      "is_log": true,
      "status": "INFO"
     },
     "output_type": "display_data"
    },
    {
     "data": {
      "text/plain": [
       "[2021-08-20 22:17:29.516811] INFO: moduleinvoker: general_feature_extractor.v7 开始运行.."
      ]
     },
     "metadata": {
      "is_log": true,
      "status": "INFO"
     },
     "output_type": "display_data"
    },
    {
     "data": {
      "text/plain": [
       "[2021-08-20 22:17:29.522997] INFO: moduleinvoker: 命中缓存"
      ]
     },
     "metadata": {
      "is_log": true,
      "status": "INFO"
     },
     "output_type": "display_data"
    },
    {
     "data": {
      "text/plain": [
       "[2021-08-20 22:17:29.524157] INFO: moduleinvoker: general_feature_extractor.v7 运行完成[0.007351s]."
      ]
     },
     "metadata": {
      "is_log": true,
      "status": "INFO"
     },
     "output_type": "display_data"
    },
    {
     "data": {
      "text/plain": [
       "[2021-08-20 22:17:29.526562] INFO: moduleinvoker: derived_feature_extractor.v3 开始运行.."
      ]
     },
     "metadata": {
      "is_log": true,
      "status": "INFO"
     },
     "output_type": "display_data"
    },
    {
     "data": {
      "text/plain": [
       "[2021-08-20 22:17:29.532697] INFO: moduleinvoker: 命中缓存"
      ]
     },
     "metadata": {
      "is_log": true,
      "status": "INFO"
     },
     "output_type": "display_data"
    },
    {
     "data": {
      "text/plain": [
       "[2021-08-20 22:17:29.533841] INFO: moduleinvoker: derived_feature_extractor.v3 运行完成[0.007281s]."
      ]
     },
     "metadata": {
      "is_log": true,
      "status": "INFO"
     },
     "output_type": "display_data"
    },
    {
     "data": {
      "text/plain": [
       "[2021-08-20 22:17:29.536380] INFO: moduleinvoker: join.v3 开始运行.."
      ]
     },
     "metadata": {
      "is_log": true,
      "status": "INFO"
     },
     "output_type": "display_data"
    },
    {
     "data": {
      "text/plain": [
       "[2021-08-20 22:17:29.541670] INFO: moduleinvoker: 命中缓存"
      ]
     },
     "metadata": {
      "is_log": true,
      "status": "INFO"
     },
     "output_type": "display_data"
    },
    {
     "data": {
      "text/plain": [
       "[2021-08-20 22:17:29.542905] INFO: moduleinvoker: join.v3 运行完成[0.006526s]."
      ]
     },
     "metadata": {
      "is_log": true,
      "status": "INFO"
     },
     "output_type": "display_data"
    },
    {
     "data": {
      "text/plain": [
       "[2021-08-20 22:17:29.545407] INFO: moduleinvoker: dropnan.v2 开始运行.."
      ]
     },
     "metadata": {
      "is_log": true,
      "status": "INFO"
     },
     "output_type": "display_data"
    },
    {
     "data": {
      "text/plain": [
       "[2021-08-20 22:17:29.550791] INFO: moduleinvoker: 命中缓存"
      ]
     },
     "metadata": {
      "is_log": true,
      "status": "INFO"
     },
     "output_type": "display_data"
    },
    {
     "data": {
      "text/plain": [
       "[2021-08-20 22:17:29.551987] INFO: moduleinvoker: dropnan.v2 运行完成[0.006581s]."
      ]
     },
     "metadata": {
      "is_log": true,
      "status": "INFO"
     },
     "output_type": "display_data"
    },
    {
     "data": {
      "text/plain": [
       "[2021-08-20 22:17:29.554325] INFO: moduleinvoker: stock_ranker_train.v6 开始运行.."
      ]
     },
     "metadata": {
      "is_log": true,
      "status": "INFO"
     },
     "output_type": "display_data"
    },
    {
     "data": {
      "text/plain": [
       "[2021-08-20 22:17:29.561468] INFO: moduleinvoker: 命中缓存"
      ]
     },
     "metadata": {
      "is_log": true,
      "status": "INFO"
     },
     "output_type": "display_data"
    },
    {
     "data": {
      "text/html": [
       "<div id='bigchart-e80f6f0e82804d49bd6f6536cce6c786' class='bigchart display' style='display:none'><ul class='nav nav-tabs' style='padding-left: 0;'><li class='tabtitle' style='margin: 0;'><span style='margin: 0;font-size: 1.2em;display: inline-block;padding: 10px 10px;'>StockRanker</span></li><li class='active'><a>特征重要性</a></li><li><a>模型</a></li><li><a>训练曲线</a></li></ul><div class='tab-content' style='min-height: 100px;text-align: center;'><div class='tab-pane active' id='特征重要性'><div id=\"bigchart-d7048dd90a114fcc853eb6b93723c43a\" class=\"bigchart\"></div><div class=\"bigchart-data\"><pre style=\"display:none\">bigcharts-data-start/{\"chart\":{\"height\":400,\"type\":\"column\",\"renderTo\":\"bigchart-d7048dd90a114fcc853eb6b93723c43a\"},\"legend\":{\"enabled\":true},\"title\":{\"text\":\"\\u7279\\u5f81\\u91cd\\u8981\\u6027\"},\"stock\":false,\"series\":[{\"name\":\"\\u7279\\u5f81\\u91cd\\u8981\\u6027\",\"yAxis\":0,\"data\":[[\"rank_return_0\",77.6146],[\"rank_return_10\",59.8621],[\"return_20\",56.3746],[\"pe_ttm_0\",47.2359],[\"rank_avg_amount_5\\/rank_avg_amount_10\",23.4661],[\"return_5\",22.1874],[\"avg_amount_5\\/avg_amount_20\",17.5751],[\"rank_return_5\",13.9301],[\"return_10\",12.6432],[\"rank_return_0\\/rank_return_5\",12.3533],[\"rank_return_5\\/rank_return_10\",10.6211],[\"rank_avg_amount_0\\/rank_avg_amount_5\",6.4445],[\"avg_amount_0\\/avg_amount_5\",3.1624]]}],\"xAxis\":{\"title\":{\"text\":\"\\u7279\\u5f81\"},\"categories\":[\"rank_return_0\",\"rank_return_10\",\"return_20\",\"pe_ttm_0\",\"rank_avg_amount_5\\/rank_avg_amount_10\",\"return_5\",\"avg_amount_5\\/avg_amount_20\",\"rank_return_5\",\"return_10\",\"rank_return_0\\/rank_return_5\",\"rank_return_5\\/rank_return_10\",\"rank_avg_amount_0\\/rank_avg_amount_5\",\"avg_amount_0\\/avg_amount_5\"]}}/bigcharts-data-end</pre></div></div><div class='tab-pane' id='模型'><div id=\"bigchart-7645f6d9ec3b4ad19ec64a0b795e4c9e\" class=\"bigchart\"></div><div class=\"bigchart-data\"><pre style=\"display:none\">bigcharts-data-start/{\"name\":\"sum()\",\"tips\":\"sum()\",\"type\":\"agg\",\"c\":[{\"c\":[{\"c\":[{\"c\":[{\"c\":[{\"v\":\"-0.308\"},{\"c\":[{\"c\":[{\"v\":\"-0.128\"},{\"v\":\"-0.021\"}],\"f\":1,\"v\":24.5},{\"c\":[{\"c\":[{\"c\":[{\"v\":\"0.1398\"},{\"v\":\"0.0090\"}],\"f\":7,\"v\":842.5},{\"v\":\"-0.014\"}],\"f\":8,\"v\":978.5},{\"c\":[{\"v\":\"-0.031\"},{\"c\":[{\"v\":\"-0.270\"},{\"v\":\"-0.102\"}],\"f\":9,\"v\":783.5}],\"f\":6,\"v\":888.5}],\"f\":1,\"v\":916.5}],\"f\":1,\"v\":82.5}],\"f\":6,\"v\":1.5},{\"c\":[{\"v\":\"-0.017\"},{\"c\":[{\"v\":\"-0.124\"},{\"v\":\"-0.243\"}],\"f\":7,\"v\":962.5}],\"f\":6,\"v\":897.5}],\"f\":3,\"v\":797.5},{\"c\":[{\"c\":[{\"c\":[{\"c\":[{\"v\":\"-0.126\"},{\"c\":[{\"v\":\"-0.177\"},{\"v\":\"-0.283\"}],\"f\":1,\"v\":970.5}],\"f\":6,\"v\":921.5},{\"v\":\"-0.249\"}],\"f\":7,\"v\":1007.5},{\"c\":[{\"v\":\"-0.263\"},{\"v\":\"-0.347\"}],\"f\":7,\"v\":986.5}],\"f\":6,\"v\":997.5},{\"c\":[{\"v\":\"-0.340\"},{\"v\":\"-0.397\"}],\"f\":7,\"v\":1010.5}],\"f\":4,\"v\":1010.5}],\"f\":3,\"v\":941.5},{\"c\":[{\"c\":[{\"c\":[{\"c\":[{\"c\":[{\"v\":\"-0.208\"},{\"v\":\"-0.309\"}],\"f\":2,\"v\":963.5},{\"v\":\"-0.342\"}],\"f\":6,\"v\":941.5},{\"c\":[{\"v\":\"-0.304\"},{\"v\":\"-0.377\"}],\"f\":3,\"v\":919.5}],\"f\":1,\"v\":1014.5},{\"c\":[{\"v\":\"-0.345\"},{\"v\":\"-0.417\"}],\"f\":1,\"v\":1014.5}],\"f\":3,\"v\":997.5},{\"c\":[{\"c\":[{\"v\":\"-0.412\"},{\"v\":\"-0.429\"}],\"f\":7,\"v\":1018.5},{\"v\":\"-0.456\"}],\"f\":5,\"v\":842.5}],\"f\":2,\"v\":1000.5}],\"f\":1,\"v\":1002.5},{\"c\":[{\"c\":[{\"c\":[{\"v\":\"-0.098\"},{\"c\":[{\"v\":\"-0.179\"},{\"v\":\"-0.325\"}],\"f\":11,\"v\":898.5}],\"f\":10,\"v\":127.5},{\"v\":\"-0.000\"}],\"f\":2,\"v\":489.5},{\"c\":[{\"c\":[{\"c\":[{\"v\":\"0.0149\"},{\"c\":[{\"v\":\"0.0936\"},{\"v\":\"0.0244\"}],\"f\":1,\"v\":773.5}],\"f\":1,\"v\":259.5},{\"c\":[{\"c\":[{\"v\":\"0.0622\"},{\"c\":[{\"c\":[{\"v\":\"-0.043\"},{\"v\":\"0.0349\"}],\"f\":9,\"v\":684.5},{\"v\":\"0.0600\"}],\"f\":5,\"v\":758.5}],\"f\":5,\"v\":162.5},{\"c\":[{\"v\":\"-0.086\"},{\"c\":[{\"v\":\"-0.093\"},{\"v\":\"-0.328\"}],\"f\":5,\"v\":275.5}],\"f\":10,\"v\":897.5}],\"f\":11,\"v\":997.5}],\"f\":10,\"v\":574.5},{\"c\":[{\"c\":[{\"c\":[{\"c\":[{\"v\":\"0.0307\"},{\"c\":[{\"v\":\"-0.061\"},{\"c\":[{\"c\":[{\"v\":\"0.2497\"},{\"c\":[{\"c\":[{\"c\":[{\"c\":[{\"v\":\"-0.183\"},{\"v\":\"-0.265\"}],\"f\":3,\"v\":677.5},{\"v\":\"-0.165\"}],\"f\":7,\"v\":838.5},{\"v\":\"0.0823\"}],\"f\":8,\"v\":976.5},{\"v\":\"0.2344\"}],\"f\":1,\"v\":916.5}],\"f\":1,\"v\":82.5},{\"v\":\"-0.054\"}],\"f\":12,\"v\":694.5}],\"f\":10,\"v\":655.5}],\"f\":5,\"v\":151.5},{\"v\":\"0.0120\"}],\"f\":5,\"v\":677.5},{\"c\":[{\"v\":\"-0.070\"},{\"c\":[{\"c\":[{\"c\":[{\"v\":\"-0.302\"},{\"v\":\"-0.235\"}],\"f\":8,\"v\":570.5},{\"v\":\"-0.221\"}],\"f\":7,\"v\":810.5},{\"v\":\"-0.106\"}],\"f\":8,\"v\":886.5}],\"f\":1,\"v\":94.5}],\"f\":6,\"v\":985.5},{\"v\":\"0.2247\"}],\"f\":3,\"v\":797.5}],\"f\":6,\"v\":728.5}],\"f\":10,\"v\":143.5},{\"c\":[{\"c\":[{\"v\":\"0.0735\"},{\"c\":[{\"v\":\"0.1236\"},{\"c\":[{\"c\":[{\"c\":[{\"c\":[{\"c\":[{\"v\":\"-0.067\"},{\"c\":[{\"c\":[{\"c\":[{\"v\":\"-0.098\"},{\"c\":[{\"v\":\"-0.244\"},{\"v\":\"-0.101\"}],\"f\":4,\"v\":569.5}],\"f\":12,\"v\":695.5},{\"v\":\"-0.212\"}],\"f\":10,\"v\":538.5},{\"c\":[{\"c\":[{\"v\":\"-0.178\"},{\"v\":\"-0.266\"}],\"f\":6,\"v\":512.5},{\"v\":\"-0.096\"}],\"f\":9,\"v\":672.5}],\"f\":8,\"v\":919.5}],\"f\":9,\"v\":144.5},{\"v\":\"0.1358\"}],\"f\":8,\"v\":978.5},{\"c\":[{\"c\":[{\"c\":[{\"c\":[{\"v\":\"-0.007\"},{\"v\":\"-0.082\"}],\"f\":10,\"v\":443.5},{\"c\":[{\"c\":[{\"c\":[{\"v\":\"-0.055\"},{\"c\":[{\"c\":[{\"c\":[{\"v\":\"-0.062\"},{\"c\":[{\"c\":[{\"v\":\"-0.133\"},{\"c\":[{\"v\":\"-0.265\"},{\"v\":\"-0.158\"}],\"f\":12,\"v\":226.5}],\"f\":10,\"v\":422.5},{\"v\":\"-0.077\"}],\"f\":4,\"v\":499.5}],\"f\":6,\"v\":168.5},{\"v\":\"-0.074\"}],\"f\":2,\"v\":595.5},{\"c\":[{\"v\":\"-0.242\"},{\"v\":\"-0.147\"}],\"f\":8,\"v\":397.5}],\"f\":6,\"v\":623.5}],\"f\":10,\"v\":255.5},{\"c\":[{\"v\":\"-0.036\"},{\"v\":\"-0.124\"}],\"f\":12,\"v\":846.5}],\"f\":5,\"v\":696.5},{\"v\":\"-0.244\"}],\"f\":11,\"v\":990.5}],\"f\":5,\"v\":222.5},{\"v\":\"0.1502\"}],\"f\":3,\"v\":797.5},{\"v\":\"-0.008\"}],\"f\":9,\"v\":804.5}],\"f\":7,\"v\":245.5},{\"v\":\"0.0660\"}],\"f\":6,\"v\":728.5},{\"v\":\"0.1017\"}],\"f\":1,\"v\":770.5}],\"f\":1,\"v\":259.5}],\"f\":10,\"v\":168.5},{\"v\":\"0.1337\"}],\"f\":10,\"v\":574.5},{\"c\":[{\"c\":[{\"c\":[{\"c\":[{\"v\":\"0.0525\"},{\"v\":\"-0.018\"}],\"f\":10,\"v\":576.5},{\"v\":\"0.0516\"}],\"f\":12,\"v\":107.5},{\"c\":[{\"v\":\"0.0580\"},{\"c\":[{\"c\":[{\"v\":\"0.0502\"},{\"c\":[{\"v\":\"0.1099\"},{\"v\":\"0.0443\"}],\"f\":1,\"v\":914.5}],\"f\":1,\"v\":84.5},{\"v\":\"0.0399\"}],\"f\":3,\"v\":795.5}],\"f\":10,\"v\":574.5}],\"f\":5,\"v\":758.5},{\"c\":[{\"v\":\"0.0336\"},{\"c\":[{\"c\":[{\"c\":[{\"c\":[{\"v\":\"-0.101\"},{\"c\":[{\"v\":\"-0.202\"},{\"v\":\"-0.145\"}],\"f\":13,\"v\":445.5}],\"f\":1,\"v\":25.5},{\"v\":\"-0.015\"}],\"f\":12,\"v\":665.5},{\"v\":\"0.0323\"}],\"f\":1,\"v\":82.5},{\"c\":[{\"c\":[{\"c\":[{\"c\":[{\"v\":\"-0.252\"},{\"c\":[{\"v\":\"-0.121\"},{\"c\":[{\"c\":[{\"v\":\"-0.217\"},{\"c\":[{\"v\":\"-0.126\"},{\"v\":\"-0.191\"}],\"f\":8,\"v\":447.5}],\"f\":9,\"v\":424.5},{\"c\":[{\"v\":\"-0.243\"},{\"v\":\"-0.215\"}],\"f\":2,\"v\":717.5}],\"f\":10,\"v\":840.5}],\"f\":5,\"v\":310.5}],\"f\":8,\"v\":65.5},{\"c\":[{\"c\":[{\"c\":[{\"v\":\"-0.147\"},{\"v\":\"-0.087\"}],\"f\":4,\"v\":889.5},{\"c\":[{\"v\":\"-0.135\"},{\"c\":[{\"v\":\"-0.154\"},{\"v\":\"-0.217\"}],\"f\":6,\"v\":831.5}],\"f\":10,\"v\":757.5}],\"f\":3,\"v\":856.5},{\"c\":[{\"v\":\"-0.227\"},{\"v\":\"-0.230\"}],\"f\":13,\"v\":935.5}],\"f\":1,\"v\":904.5}],\"f\":4,\"v\":824.5},{\"v\":\"-0.023\"}],\"f\":3,\"v\":941.5},{\"v\":\"-0.034\"}],\"f\":6,\"v\":897.5}],\"f\":3,\"v\":797.5}],\"f\":10,\"v\":574.5}],\"f\":6,\"v\":728.5},{\"c\":[{\"v\":\"0.0441\"},{\"c\":[{\"v\":\"0.0357\"},{\"c\":[{\"c\":[{\"c\":[{\"c\":[{\"v\":\"0.0477\"},{\"c\":[{\"c\":[{\"c\":[{\"c\":[{\"v\":\"-0.130\"},{\"c\":[{\"v\":\"-0.238\"},{\"v\":\"-0.152\"}],\"f\":4,\"v\":455.5}],\"f\":4,\"v\":217.5},{\"v\":\"-0.245\"}],\"f\":7,\"v\":655.5},{\"v\":\"-0.097\"}],\"f\":5,\"v\":958.5},{\"c\":[{\"c\":[{\"c\":[{\"c\":[{\"c\":[{\"c\":[{\"c\":[{\"v\":\"-0.097\"},{\"v\":\"-0.222\"}],\"f\":3,\"v\":485.5},{\"c\":[{\"c\":[{\"v\":\"0.0408\"},{\"c\":[{\"c\":[{\"v\":\"-0.078\"},{\"v\":\"0.0204\"}],\"f\":8,\"v\":380.5},{\"c\":[{\"v\":\"-0.153\"},{\"c\":[{\"v\":\"-0.124\"},{\"v\":\"-0.014\"}],\"f\":11,\"v\":477.5}],\"f\":6,\"v\":158.5}],\"f\":8,\"v\":585.5}],\"f\":2,\"v\":89.5},{\"c\":[{\"v\":\"-0.092\"},{\"v\":\"-0.162\"}],\"f\":11,\"v\":798.5}],\"f\":7,\"v\":585.5}],\"f\":11,\"v\":179.5},{\"c\":[{\"c\":[{\"v\":\"-0.190\"},{\"v\":\"-0.117\"}],\"f\":5,\"v\":832.5},{\"v\":\"-0.224\"}],\"f\":12,\"v\":664.5}],\"f\":1,\"v\":764.5},{\"v\":\"0.0487\"}],\"f\":1,\"v\":909.5},{\"c\":[{\"v\":\"-0.010\"},{\"v\":\"-0.119\"}],\"f\":10,\"v\":947.5}],\"f\":5,\"v\":977.5},{\"c\":[{\"v\":\"-0.245\"},{\"v\":\"-0.159\"}],\"f\":5,\"v\":931.5}],\"f\":12,\"v\":935.5},{\"v\":\"-0.208\"}],\"f\":10,\"v\":997.5}],\"f\":1,\"v\":205.5}],\"f\":1,\"v\":84.5},{\"v\":\"0.0681\"}],\"f\":7,\"v\":842.5},{\"v\":\"0.0278\"}],\"f\":6,\"v\":728.5},{\"v\":\"0.0036\"}],\"f\":3,\"v\":794.5}],\"f\":10,\"v\":574.5}],\"f\":5,\"v\":758.5},{\"c\":[{\"c\":[{\"v\":\"0.0238\"},{\"v\":\"-0.006\"}],\"f\":3,\"v\":688.5},{\"c\":[{\"c\":[{\"v\":\"0.0356\"},{\"c\":[{\"v\":\"-0.010\"},{\"c\":[{\"c\":[{\"v\":\"-0.013\"},{\"c\":[{\"c\":[{\"c\":[{\"v\":\"-0.102\"},{\"v\":\"-0.060\"}],\"f\":6,\"v\":490.5},{\"c\":[{\"v\":\"-0.019\"},{\"c\":[{\"c\":[{\"v\":\"-0.092\"},{\"c\":[{\"v\":\"-0.059\"},{\"v\":\"0.0043\"}],\"f\":2,\"v\":718.5}],\"f\":7,\"v\":295.5},{\"v\":\"-0.104\"}],\"f\":12,\"v\":559.5}],\"f\":4,\"v\":226.5}],\"f\":11,\"v\":382.5},{\"v\":\"0.0252\"}],\"f\":3,\"v\":792.5}],\"f\":2,\"v\":145.5},{\"v\":\"-0.007\"}],\"f\":6,\"v\":728.5}],\"f\":12,\"v\":104.5}],\"f\":4,\"v\":122.5},{\"c\":[{\"c\":[{\"c\":[{\"v\":\"0.0133\"},{\"c\":[{\"c\":[{\"c\":[{\"v\":\"-0.007\"},{\"c\":[{\"v\":\"-0.030\"},{\"c\":[{\"v\":\"-0.047\"},{\"v\":\"-0.104\"}],\"f\":2,\"v\":294.5}],\"f\":5,\"v\":768.5}],\"f\":8,\"v\":397.5},{\"v\":\"0.0003\"}],\"f\":7,\"v\":585.5},{\"v\":\"0.0142\"}],\"f\":8,\"v\":596.5}],\"f\":5,\"v\":634.5},{\"v\":\"-0.085\"}],\"f\":6,\"v\":983.5},{\"c\":[{\"c\":[{\"c\":[{\"v\":\"-0.007\"},{\"c\":[{\"c\":[{\"c\":[{\"v\":\"-0.024\"},{\"c\":[{\"v\":\"-0.092\"},{\"v\":\"-0.021\"}],\"f\":4,\"v\":371.5}],\"f\":2,\"v\":202.5},{\"v\":\"-0.100\"}],\"f\":2,\"v\":549.5},{\"v\":\"0.0068\"}],\"f\":6,\"v\":720.5}],\"f\":8,\"v\":201.5},{\"v\":\"0.0513\"}],\"f\":10,\"v\":943.5},{\"v\":\"0.0116\"}],\"f\":7,\"v\":793.5}],\"f\":5,\"v\":977.5}],\"f\":5,\"v\":159.5}],\"f\":10,\"v\":574.5},{\"c\":[{\"c\":[{\"c\":[{\"c\":[{\"c\":[{\"c\":[{\"v\":\"0.0370\"},{\"v\":\"0.0919\"}],\"f\":10,\"v\":655.5},{\"v\":\"-0.063\"}],\"f\":4,\"v\":128.5},{\"c\":[{\"v\":\"-0.013\"},{\"c\":[{\"c\":[{\"v\":\"-0.029\"},{\"c\":[{\"c\":[{\"c\":[{\"v\":\"-0.018\"},{\"v\":\"0.0061\"}],\"f\":1,\"v\":236.5},{\"v\":\"0.0158\"}],\"f\":10,\"v\":510.5},{\"v\":\"-0.007\"}],\"f\":9,\"v\":682.5}],\"f\":13,\"v\":57.5},{\"c\":[{\"c\":[{\"c\":[{\"c\":[{\"c\":[{\"c\":[{\"v\":\"0.0288\"},{\"v\":\"-0.070\"}],\"f\":10,\"v\":618.5},{\"v\":\"0.0082\"}],\"f\":4,\"v\":115.5},{\"v\":\"0.0152\"}],\"f\":5,\"v\":153.5},{\"c\":[{\"c\":[{\"c\":[{\"v\":\"0.0420\"},{\"c\":[{\"v\":\"0.1381\"},{\"v\":\"0.0574\"}],\"f\":10,\"v\":959.5}],\"f\":10,\"v\":927.5},{\"v\":\"-0.014\"}],\"f\":6,\"v\":840.5},{\"v\":\"-0.010\"}],\"f\":8,\"v\":699.5}],\"f\":2,\"v\":553.5},{\"v\":\"-0.030\"}],\"f\":12,\"v\":823.5},{\"v\":\"0.1476\"}],\"f\":2,\"v\":956.5}],\"f\":11,\"v\":818.5}],\"f\":12,\"v\":124.5}],\"f\":2,\"v\":17.5},{\"v\":\"-0.052\"}],\"f\":6,\"v\":968.5},{\"c\":[{\"v\":\"0.0162\"},{\"c\":[{\"c\":[{\"c\":[{\"v\":\"0.1113\"},{\"v\":\"0.0174\"}],\"f\":7,\"v\":246.5},{\"c\":[{\"v\":\"0.0617\"},{\"v\":\"0.1612\"}],\"f\":5,\"v\":1009.5}],\"f\":6,\"v\":445.5},{\"v\":\"-0.035\"}],\"f\":13,\"v\":943.5}],\"f\":10,\"v\":565.5}],\"f\":5,\"v\":978.5},{\"c\":[{\"c\":[{\"v\":\"-0.028\"},{\"v\":\"-0.084\"}],\"f\":13,\"v\":859.5},{\"v\":\"-0.123\"}],\"f\":11,\"v\":868.5}],\"f\":12,\"v\":943.5},{\"c\":[{\"c\":[{\"c\":[{\"c\":[{\"v\":\"0.0085\"},{\"c\":[{\"c\":[{\"c\":[{\"v\":\"0.0599\"},{\"v\":\"-0.110\"}],\"f\":10,\"v\":125.5},{\"v\":\"-0.014\"}],\"f\":4,\"v\":108.5},{\"c\":[{\"v\":\"0.0290\"},{\"c\":[{\"v\":\"-0.005\"},{\"c\":[{\"c\":[{\"v\":\"0.0534\"},{\"v\":\"0.0047\"}],\"f\":2,\"v\":685.5},{\"v\":\"-0.018\"}],\"f\":13,\"v\":690.5}],\"f\":5,\"v\":978.5}],\"f\":6,\"v\":160.5}],\"f\":10,\"v\":522.5}],\"f\":3,\"v\":330.5},{\"c\":[{\"v\":\"-0.005\"},{\"c\":[{\"v\":\"-0.005\"},{\"c\":[{\"v\":\"0.0840\"},{\"v\":\"0.0441\"}],\"f\":12,\"v\":819.5}],\"f\":6,\"v\":454.5}],\"f\":10,\"v\":693.5}],\"f\":5,\"v\":1009.5},{\"c\":[{\"v\":\"-0.033\"},{\"v\":\"-0.127\"}],\"f\":2,\"v\":953.5}],\"f\":6,\"v\":955.5},{\"c\":[{\"c\":[{\"c\":[{\"c\":[{\"v\":\"-0.006\"},{\"c\":[{\"c\":[{\"v\":\"-0.165\"},{\"v\":\"0.0166\"}],\"f\":6,\"v\":4.5},{\"c\":[{\"v\":\"0.0392\"},{\"v\":\"-0.053\"}],\"f\":4,\"v\":651.5}],\"f\":10,\"v\":661.5}],\"f\":12,\"v\":117.5},{\"v\":\"0.1369\"}],\"f\":2,\"v\":959.5},{\"c\":[{\"v\":\"-0.014\"},{\"v\":\"-0.113\"}],\"f\":2,\"v\":948.5}],\"f\":6,\"v\":747.5},{\"c\":[{\"c\":[{\"c\":[{\"v\":\"0.0363\"},{\"v\":\"-0.031\"}],\"f\":6,\"v\":232.5},{\"v\":\"0.0885\"}],\"f\":5,\"v\":764.5},{\"c\":[{\"v\":\"0.1189\"},{\"c\":[{\"c\":[{\"v\":\"0.0288\"},{\"v\":\"0.1004\"}],\"f\":6,\"v\":275.5},{\"v\":\"0.0015\"}],\"f\":6,\"v\":713.5}],\"f\":10,\"v\":956.5}],\"f\":2,\"v\":618.5}],\"f\":10,\"v\":927.5}],\"f\":11,\"v\":815.5},{\"c\":[{\"c\":[{\"c\":[{\"c\":[{\"c\":[{\"c\":[{\"v\":\"-0.002\"},{\"c\":[{\"v\":\"0.0345\"},{\"v\":\"0.1141\"}],\"f\":10,\"v\":655.5}],\"f\":7,\"v\":19.5},{\"v\":\"0.0042\"}],\"f\":2,\"v\":17.5},{\"c\":[{\"c\":[{\"v\":\"-0.055\"},{\"v\":\"-0.016\"}],\"f\":4,\"v\":247.5},{\"c\":[{\"v\":\"0.0239\"},{\"v\":\"-0.005\"}],\"f\":6,\"v\":159.5}],\"f\":10,\"v\":522.5}],\"f\":3,\"v\":376.5},{\"c\":[{\"v\":\"-0.005\"},{\"c\":[{\"v\":\"0.0003\"},{\"v\":\"0.0723\"}],\"f\":6,\"v\":456.5}],\"f\":10,\"v\":694.5}],\"f\":5,\"v\":1009.5},{\"v\":\"-0.069\"}],\"f\":6,\"v\":955.5},{\"c\":[{\"c\":[{\"c\":[{\"v\":\"0.0850\"},{\"v\":\"-0.016\"}],\"f\":2,\"v\":32.5},{\"c\":[{\"c\":[{\"v\":\"0.0148\"},{\"v\":\"-0.064\"}],\"f\":12,\"v\":862.5},{\"c\":[{\"c\":[{\"c\":[{\"c\":[{\"v\":\"0.0371\"},{\"v\":\"0.0035\"}],\"f\":4,\"v\":213.5},{\"c\":[{\"c\":[{\"c\":[{\"v\":\"-0.006\"},{\"c\":[{\"v\":\"0.0115\"},{\"c\":[{\"v\":\"0.1119\"},{\"v\":\"0.0635\"}],\"f\":5,\"v\":292.5}],\"f\":7,\"v\":544.5}],\"f\":11,\"v\":871.5},{\"v\":\"0.0076\"}],\"f\":12,\"v\":536.5},{\"c\":[{\"v\":\"0.0693\"},{\"c\":[{\"v\":\"0.0108\"},{\"v\":\"0.0681\"}],\"f\":3,\"v\":244.5}],\"f\":10,\"v\":959.5}],\"f\":10,\"v\":927.5}],\"f\":2,\"v\":616.5},{\"v\":\"-0.006\"}],\"f\":6,\"v\":856.5},{\"v\":\"0.0654\"}],\"f\":5,\"v\":980.5}],\"f\":10,\"v\":662.5}],\"f\":12,\"v\":117.5},{\"c\":[{\"v\":\"0.1167\"},{\"v\":\"-0.096\"}],\"f\":6,\"v\":779.5}],\"f\":2,\"v\":956.5}],\"f\":11,\"v\":815.5},{\"c\":[{\"c\":[{\"c\":[{\"c\":[{\"c\":[{\"v\":\"-0.012\"},{\"c\":[{\"c\":[{\"c\":[{\"v\":\"0.0098\"},{\"v\":\"0.1199\"}],\"f\":7,\"v\":27.5},{\"v\":\"0.0213\"}],\"f\":2,\"v\":16.5},{\"v\":\"7.0895\"}],\"f\":6,\"v\":107.5}],\"f\":10,\"v\":523.5},{\"v\":\"-0.059\"}],\"f\":12,\"v\":976.5},{\"c\":[{\"v\":\"-0.002\"},{\"c\":[{\"v\":\"-0.003\"},{\"v\":\"0.0745\"}],\"f\":6,\"v\":457.5}],\"f\":10,\"v\":689.5}],\"f\":5,\"v\":1009.5},{\"v\":\"-0.055\"}],\"f\":1,\"v\":951.5},{\"c\":[{\"c\":[{\"c\":[{\"v\":\"0.0801\"},{\"v\":\"-0.017\"}],\"f\":2,\"v\":32.5},{\"c\":[{\"c\":[{\"v\":\"0.0168\"},{\"c\":[{\"v\":\"0.0022\"},{\"v\":\"-0.064\"}],\"f\":11,\"v\":964.5}],\"f\":6,\"v\":670.5},{\"c\":[{\"c\":[{\"c\":[{\"v\":\"-0.027\"},{\"c\":[{\"v\":\"0.0058\"},{\"c\":[{\"c\":[{\"c\":[{\"c\":[{\"v\":\"0.0473\"},{\"v\":\"0.0888\"}],\"f\":9,\"v\":569.5},{\"v\":\"0.0183\"}],\"f\":4,\"v\":97.5},{\"c\":[{\"c\":[{\"v\":\"0.0949\"},{\"v\":\"0.0368\"}],\"f\":4,\"v\":242.5},{\"c\":[{\"v\":\"0.0768\"},{\"v\":\"0.0466\"}],\"f\":10,\"v\":969.5}],\"f\":10,\"v\":927.5}],\"f\":2,\"v\":609.5},{\"c\":[{\"v\":\"-0.046\"},{\"v\":\"0.0452\"}],\"f\":7,\"v\":762.5}],\"f\":1,\"v\":895.5}],\"f\":8,\"v\":123.5}],\"f\":3,\"v\":18.5},{\"v\":\"0.0598\"}],\"f\":5,\"v\":973.5},{\"v\":\"-0.077\"}],\"f\":12,\"v\":909.5}],\"f\":10,\"v\":662.5}],\"f\":12,\"v\":117.5},{\"c\":[{\"v\":\"0.1501\"},{\"v\":\"-0.010\"}],\"f\":5,\"v\":517.5}],\"f\":2,\"v\":956.5}],\"f\":11,\"v\":815.5},{\"c\":[{\"c\":[{\"c\":[{\"c\":[{\"v\":\"0.0025\"},{\"c\":[{\"v\":\"0.0317\"},{\"v\":\"0.1003\"}],\"f\":10,\"v\":657.5}],\"f\":11,\"v\":141.5},{\"c\":[{\"c\":[{\"v\":\"-0.035\"},{\"v\":\"-0.004\"}],\"f\":13,\"v\":61.5},{\"c\":[{\"v\":\"-0.006\"},{\"c\":[{\"v\":\"0.0105\"},{\"v\":\"0.0766\"}],\"f\":6,\"v\":590.5}],\"f\":10,\"v\":689.5}],\"f\":5,\"v\":1009.5}],\"f\":2,\"v\":17.5},{\"v\":\"-0.062\"}],\"f\":6,\"v\":949.5},{\"c\":[{\"c\":[{\"c\":[{\"v\":\"0.0102\"},{\"v\":\"-0.065\"}],\"f\":12,\"v\":862.5},{\"c\":[{\"c\":[{\"v\":\"0.0887\"},{\"v\":\"-0.015\"}],\"f\":2,\"v\":36.5},{\"c\":[{\"v\":\"-0.030\"},{\"c\":[{\"c\":[{\"c\":[{\"c\":[{\"v\":\"0.1002\"},{\"v\":\"0.0533\"}],\"f\":6,\"v\":135.5},{\"v\":\"0.0117\"}],\"f\":5,\"v\":388.5},{\"v\":\"0.0983\"}],\"f\":5,\"v\":701.5},{\"c\":[{\"c\":[{\"c\":[{\"v\":\"0.0201\"},{\"v\":\"-0.018\"}],\"f\":4,\"v\":247.5},{\"c\":[{\"v\":\"-0.000\"},{\"v\":\"0.1135\"}],\"f\":6,\"v\":446.5}],\"f\":5,\"v\":752.5},{\"c\":[{\"c\":[{\"c\":[{\"c\":[{\"v\":\"0.0279\"},{\"v\":\"0.0721\"}],\"f\":7,\"v\":655.5},{\"v\":\"0.0119\"}],\"f\":3,\"v\":313.5},{\"c\":[{\"v\":\"0.0821\"},{\"v\":\"0.0312\"}],\"f\":10,\"v\":959.5}],\"f\":10,\"v\":927.5},{\"v\":\"-0.007\"}],\"f\":12,\"v\":777.5}],\"f\":2,\"v\":539.5}],\"f\":4,\"v\":90.5}],\"f\":3,\"v\":18.5}],\"f\":12,\"v\":124.5}],\"f\":10,\"v\":662.5},{\"c\":[{\"v\":\"0.0957\"},{\"v\":\"-0.092\"}],\"f\":6,\"v\":779.5}],\"f\":2,\"v\":956.5}],\"f\":11,\"v\":815.5},{\"c\":[{\"c\":[{\"c\":[{\"c\":[{\"v\":\"-0.002\"},{\"c\":[{\"v\":\"0.0365\"},{\"v\":\"0.0882\"}],\"f\":10,\"v\":694.5}],\"f\":11,\"v\":141.5},{\"c\":[{\"v\":\"-0.006\"},{\"c\":[{\"v\":\"-0.010\"},{\"v\":\"0.0857\"}],\"f\":10,\"v\":662.5}],\"f\":5,\"v\":1018.5}],\"f\":2,\"v\":17.5},{\"v\":\"-0.083\"}],\"f\":2,\"v\":976.5},{\"c\":[{\"c\":[{\"v\":\"0.0725\"},{\"v\":\"-0.016\"}],\"f\":2,\"v\":32.5},{\"c\":[{\"c\":[{\"c\":[{\"v\":\"0.0133\"},{\"v\":\"-0.046\"}],\"f\":4,\"v\":730.5},{\"v\":\"0.0727\"}],\"f\":2,\"v\":956.5},{\"c\":[{\"c\":[{\"c\":[{\"c\":[{\"c\":[{\"c\":[{\"v\":\"0.0799\"},{\"c\":[{\"c\":[{\"v\":\"0.0551\"},{\"v\":\"0.0121\"}],\"f\":4,\"v\":255.5},{\"v\":\"-0.005\"}],\"f\":10,\"v\":874.5}],\"f\":2,\"v\":136.5},{\"c\":[{\"v\":\"0.0850\"},{\"v\":\"0.0045\"}],\"f\":7,\"v\":811.5}],\"f\":7,\"v\":681.5},{\"c\":[{\"v\":\"-0.025\"},{\"c\":[{\"c\":[{\"v\":\"0.0141\"},{\"v\":\"0.0684\"}],\"f\":1,\"v\":436.5},{\"v\":\"-0.012\"}],\"f\":1,\"v\":748.5}],\"f\":7,\"v\":298.5}],\"f\":5,\"v\":449.5},{\"c\":[{\"v\":\"0.0545\"},{\"v\":\"-0.013\"}],\"f\":5,\"v\":133.5}],\"f\":6,\"v\":696.5},{\"c\":[{\"v\":\"0.0952\"},{\"c\":[{\"v\":\"-0.017\"},{\"c\":[{\"c\":[{\"v\":\"0.0973\"},{\"v\":\"0.0470\"}],\"f\":13,\"v\":285.5},{\"v\":\"-0.034\"}],\"f\":12,\"v\":894.5}],\"f\":6,\"v\":234.5}],\"f\":4,\"v\":99.5}],\"f\":5,\"v\":765.5},{\"v\":\"0.0877\"}],\"f\":7,\"v\":942.5}],\"f\":10,\"v\":662.5}],\"f\":12,\"v\":117.5}],\"f\":11,\"v\":815.5},{\"c\":[{\"c\":[{\"c\":[{\"c\":[{\"v\":\"0.0027\"},{\"c\":[{\"v\":\"0.0386\"},{\"v\":\"0.0845\"}],\"f\":10,\"v\":694.5}],\"f\":11,\"v\":141.5},{\"c\":[{\"c\":[{\"v\":\"-0.004\"},{\"v\":\"-0.044\"}],\"f\":1,\"v\":948.5},{\"c\":[{\"v\":\"-0.011\"},{\"v\":\"0.0826\"}],\"f\":10,\"v\":662.5}],\"f\":5,\"v\":1018.5}],\"f\":2,\"v\":17.5},{\"v\":\"-0.056\"}],\"f\":12,\"v\":962.5},{\"c\":[{\"c\":[{\"c\":[{\"v\":\"0.0104\"},{\"v\":\"0.0746\"}],\"f\":2,\"v\":956.5},{\"v\":\"-0.039\"}],\"f\":6,\"v\":833.5},{\"c\":[{\"c\":[{\"v\":\"0.0736\"},{\"v\":\"-0.013\"}],\"f\":2,\"v\":36.5},{\"c\":[{\"c\":[{\"c\":[{\"c\":[{\"c\":[{\"v\":\"7.9102\"},{\"c\":[{\"c\":[{\"c\":[{\"c\":[{\"v\":\"-0.032\"},{\"c\":[{\"v\":\"0.0939\"},{\"v\":\"0.0470\"}],\"f\":6,\"v\":94.5}],\"f\":3,\"v\":21.5},{\"v\":\"0.0179\"}],\"f\":10,\"v\":872.5},{\"v\":\"0.0083\"}],\"f\":4,\"v\":256.5},{\"c\":[{\"c\":[{\"v\":\"0.0852\"},{\"v\":\"0.0317\"}],\"f\":5,\"v\":442.5},{\"v\":\"0.0119\"}],\"f\":7,\"v\":822.5}],\"f\":7,\"v\":668.5}],\"f\":8,\"v\":123.5},{\"c\":[{\"v\":\"0.0553\"},{\"v\":\"-0.014\"}],\"f\":5,\"v\":133.5}],\"f\":6,\"v\":696.5},{\"c\":[{\"v\":\"0.0826\"},{\"c\":[{\"v\":\"-0.004\"},{\"c\":[{\"v\":\"0.0928\"},{\"v\":\"0.0133\"}],\"f\":2,\"v\":722.5}],\"f\":6,\"v\":419.5}],\"f\":7,\"v\":396.5}],\"f\":5,\"v\":765.5},{\"v\":\"0.0862\"}],\"f\":7,\"v\":942.5},{\"v\":\"-0.079\"}],\"f\":12,\"v\":909.5}],\"f\":12,\"v\":125.5}],\"f\":10,\"v\":662.5}],\"f\":11,\"v\":815.5},{\"c\":[{\"c\":[{\"c\":[{\"c\":[{\"v\":\"-0.003\"},{\"c\":[{\"v\":\"0.0401\"},{\"v\":\"0.0768\"}],\"f\":10,\"v\":694.5}],\"f\":11,\"v\":141.5},{\"c\":[{\"v\":\"-0.006\"},{\"c\":[{\"v\":\"-0.007\"},{\"v\":\"0.1074\"}],\"f\":6,\"v\":619.5}],\"f\":5,\"v\":1018.5}],\"f\":2,\"v\":17.5},{\"v\":\"-0.077\"}],\"f\":6,\"v\":968.5},{\"c\":[{\"c\":[{\"c\":[{\"c\":[{\"v\":\"0.0047\"},{\"c\":[{\"c\":[{\"v\":\"0.1474\"},{\"v\":\"0.0541\"}],\"f\":7,\"v\":592.5},{\"v\":\"0.0176\"}],\"f\":10,\"v\":122.5}],\"f\":2,\"v\":706.5},{\"v\":\"0.0656\"}],\"f\":2,\"v\":955.5},{\"v\":\"-0.031\"}],\"f\":6,\"v\":790.5},{\"c\":[{\"c\":[{\"v\":\"0.0665\"},{\"v\":\"-0.012\"}],\"f\":2,\"v\":36.5},{\"c\":[{\"c\":[{\"c\":[{\"v\":\"-0.003\"},{\"c\":[{\"c\":[{\"v\":\"-0.026\"},{\"c\":[{\"c\":[{\"c\":[{\"v\":\"0.0211\"},{\"v\":\"0.0906\"}],\"f\":2,\"v\":252.5},{\"v\":\"0.0963\"}],\"f\":9,\"v\":569.5},{\"c\":[{\"c\":[{\"v\":\"0.0280\"},{\"v\":\"-0.013\"}],\"f\":7,\"v\":544.5},{\"c\":[{\"c\":[{\"c\":[{\"v\":\"0.0682\"},{\"v\":\"0.0294\"}],\"f\":4,\"v\":242.5},{\"c\":[{\"v\":\"0.0888\"},{\"v\":\"0.0396\"}],\"f\":10,\"v\":963.5}],\"f\":10,\"v\":927.5},{\"v\":\"-0.020\"}],\"f\":12,\"v\":839.5}],\"f\":2,\"v\":539.5}],\"f\":4,\"v\":89.5}],\"f\":3,\"v\":18.5},{\"v\":\"-0.004\"}],\"f\":1,\"v\":895.5}],\"f\":8,\"v\":123.5},{\"v\":\"0.0664\"}],\"f\":5,\"v\":978.5},{\"v\":\"0.0696\"}],\"f\":7,\"v\":942.5}],\"f\":12,\"v\":125.5}],\"f\":10,\"v\":662.5}],\"f\":11,\"v\":815.5},{\"c\":[{\"c\":[{\"c\":[{\"c\":[{\"v\":\"0.0126\"},{\"c\":[{\"v\":\"0.0392\"},{\"v\":\"0.0854\"}],\"f\":10,\"v\":694.5}],\"f\":11,\"v\":161.5},{\"v\":\"-0.002\"}],\"f\":2,\"v\":17.5},{\"c\":[{\"c\":[{\"v\":\"0.0158\"},{\"c\":[{\"v\":\"-0.014\"},{\"v\":\"-0.051\"}],\"f\":6,\"v\":834.5}],\"f\":5,\"v\":380.5},{\"v\":\"0.0563\"}],\"f\":5,\"v\":1018.5}],\"f\":12,\"v\":768.5},{\"c\":[{\"c\":[{\"v\":\"0.0595\"},{\"v\":\"-0.013\"}],\"f\":2,\"v\":32.5},{\"c\":[{\"c\":[{\"c\":[{\"c\":[{\"v\":\"-0.000\"},{\"c\":[{\"c\":[{\"v\":\"0.1359\"},{\"v\":\"0.0440\"}],\"f\":7,\"v\":644.5},{\"v\":\"0.0171\"}],\"f\":10,\"v\":133.5}],\"f\":2,\"v\":715.5},{\"c\":[{\"c\":[{\"c\":[{\"c\":[{\"c\":[{\"v\":\"0.0366\"},{\"v\":\"-0.072\"}],\"f\":12,\"v\":293.5},{\"c\":[{\"c\":[{\"v\":\"0.0345\"},{\"v\":\"-0.034\"}],\"f\":10,\"v\":946.5},{\"c\":[{\"v\":\"0.0706\"},{\"v\":\"0.0185\"}],\"f\":4,\"v\":245.5}],\"f\":11,\"v\":920.5}],\"f\":6,\"v\":24.5},{\"c\":[{\"c\":[{\"v\":\"0.0071\"},{\"v\":\"0.0416\"}],\"f\":5,\"v\":750.5},{\"c\":[{\"c\":[{\"v\":\"0.0436\"},{\"v\":\"0.0716\"}],\"f\":10,\"v\":926.5},{\"c\":[{\"v\":\"-0.026\"},{\"v\":\"0.0254\"}],\"f\":3,\"v\":179.5}],\"f\":8,\"v\":508.5}],\"f\":2,\"v\":609.5}],\"f\":6,\"v\":184.5},{\"v\":\"-0.012\"}],\"f\":6,\"v\":856.5},{\"v\":\"0.0665\"}],\"f\":5,\"v\":978.5}],\"f\":10,\"v\":427.5},{\"v\":\"0.0740\"}],\"f\":2,\"v\":961.5},{\"v\":\"-0.023\"}],\"f\":12,\"v\":823.5}],\"f\":12,\"v\":117.5}],\"f\":11,\"v\":815.5},{\"c\":[{\"c\":[{\"c\":[{\"c\":[{\"v\":\"-0.002\"},{\"c\":[{\"v\":\"0.0485\"},{\"v\":\"0.0829\"}],\"f\":10,\"v\":807.5}],\"f\":11,\"v\":161.5},{\"c\":[{\"v\":\"-0.005\"},{\"c\":[{\"v\":\"-0.007\"},{\"v\":\"0.0950\"}],\"f\":6,\"v\":617.5}],\"f\":5,\"v\":1017.5}],\"f\":2,\"v\":17.5},{\"v\":\"-0.052\"}],\"f\":1,\"v\":952.5},{\"c\":[{\"c\":[{\"v\":\"0.0561\"},{\"v\":\"-0.013\"}],\"f\":2,\"v\":32.5},{\"c\":[{\"c\":[{\"c\":[{\"c\":[{\"v\":\"-0.000\"},{\"c\":[{\"c\":[{\"v\":\"0.1245\"},{\"v\":\"0.0417\"}],\"f\":7,\"v\":644.5},{\"v\":\"0.0128\"}],\"f\":10,\"v\":133.5}],\"f\":2,\"v\":718.5},{\"c\":[{\"c\":[{\"c\":[{\"c\":[{\"v\":\"0.0711\"},{\"v\":\"-0.007\"}],\"f\":5,\"v\":447.5},{\"v\":\"-0.073\"}],\"f\":10,\"v\":870.5},{\"c\":[{\"v\":\"0.0313\"},{\"c\":[{\"v\":\"0.0889\"},{\"v\":\"0.0408\"}],\"f\":6,\"v\":114.5}],\"f\":11,\"v\":955.5}],\"f\":6,\"v\":33.5},{\"c\":[{\"c\":[{\"v\":\"-0.064\"},{\"c\":[{\"c\":[{\"v\":\"-0.007\"},{\"c\":[{\"c\":[{\"v\":\"0.0190\"},{\"v\":\"0.0568\"}],\"f\":5,\"v\":763.5},{\"c\":[{\"c\":[{\"v\":\"0.0026\"},{\"v\":\"0.0611\"}],\"f\":2,\"v\":680.5},{\"v\":\"0.0948\"}],\"f\":11,\"v\":965.5}],\"f\":7,\"v\":704.5}],\"f\":8,\"v\":117.5},{\"v\":\"-0.009\"}],\"f\":1,\"v\":849.5}],\"f\":3,\"v\":16.5},{\"v\":\"0.0713\"}],\"f\":5,\"v\":956.5}],\"f\":6,\"v\":184.5}],\"f\":10,\"v\":427.5},{\"v\":\"0.0679\"}],\"f\":2,\"v\":956.5},{\"v\":\"-0.026\"}],\"f\":12,\"v\":823.5}],\"f\":12,\"v\":117.5}],\"f\":11,\"v\":816.5},{\"c\":[{\"c\":[{\"c\":[{\"v\":\"-0.002\"},{\"c\":[{\"v\":\"0.0455\"},{\"v\":\"0.0823\"}],\"f\":10,\"v\":807.5}],\"f\":11,\"v\":161.5},{\"c\":[{\"v\":\"-0.005\"},{\"v\":\"-0.106\"}],\"f\":6,\"v\":993.5}],\"f\":2,\"v\":17.5},{\"c\":[{\"v\":\"-0.007\"},{\"c\":[{\"c\":[{\"c\":[{\"v\":\"-0.000\"},{\"c\":[{\"c\":[{\"c\":[{\"c\":[{\"v\":\"0.1284\"},{\"v\":\"0.0470\"}],\"f\":7,\"v\":670.5},{\"c\":[{\"v\":\"0.0177\"},{\"v\":\"0.1200\"}],\"f\":2,\"v\":880.5}],\"f\":10,\"v\":128.5},{\"v\":\"-0.019\"}],\"f\":1,\"v\":900.5},{\"v\":\"-0.043\"}],\"f\":6,\"v\":833.5}],\"f\":2,\"v\":718.5},{\"c\":[{\"c\":[{\"c\":[{\"c\":[{\"v\":\"0.0371\"},{\"v\":\"-0.069\"}],\"f\":10,\"v\":870.5},{\"c\":[{\"c\":[{\"v\":\"0.0484\"},{\"c\":[{\"v\":\"0.0518\"},{\"v\":\"0.1207\"}],\"f\":4,\"v\":54.5}],\"f\":11,\"v\":946.5},{\"v\":\"-0.014\"}],\"f\":4,\"v\":255.5}],\"f\":6,\"v\":33.5},{\"c\":[{\"c\":[{\"c\":[{\"v\":\"0.0115\"},{\"c\":[{\"v\":\"0.0149\"},{\"c\":[{\"v\":\"0.0250\"},{\"v\":\"0.0815\"}],\"f\":4,\"v\":223.5}],\"f\":11,\"v\":930.5}],\"f\":7,\"v\":709.5},{\"v\":\"-0.019\"}],\"f\":6,\"v\":845.5},{\"c\":[{\"v\":\"0.0183\"},{\"c\":[{\"v\":\"0.0974\"},{\"c\":[{\"v\":\"0.0778\"},{\"v\":\"0.0070\"}],\"f\":13,\"v\":486.5}],\"f\":2,\"v\":537.5}],\"f\":6,\"v\":446.5}],\"f\":5,\"v\":740.5}],\"f\":6,\"v\":101.5},{\"v\":\"0.0904\"}],\"f\":7,\"v\":950.5}],\"f\":10,\"v\":428.5},{\"v\":\"-0.027\"}],\"f\":12,\"v\":823.5}],\"f\":12,\"v\":117.5}],\"f\":11,\"v\":815.5},{\"c\":[{\"c\":[{\"c\":[{\"c\":[{\"c\":[{\"v\":\"0.0243\"},{\"v\":\"0.1225\"}],\"f\":13,\"v\":759.5},{\"v\":\"0.0942\"}],\"f\":10,\"v\":904.5},{\"c\":[{\"v\":\"-0.010\"},{\"v\":\"0.0165\"}],\"f\":10,\"v\":512.5}],\"f\":2,\"v\":16.5},{\"c\":[{\"c\":[{\"v\":\"-0.006\"},{\"v\":\"-0.038\"}],\"f\":6,\"v\":917.5},{\"c\":[{\"v\":\"-0.003\"},{\"v\":\"0.0796\"}],\"f\":6,\"v\":617.5}],\"f\":5,\"v\":1018.5}],\"f\":6,\"v\":184.5},{\"c\":[{\"c\":[{\"c\":[{\"v\":\"-0.004\"},{\"c\":[{\"c\":[{\"v\":\"-0.001\"},{\"c\":[{\"c\":[{\"v\":\"0.1126\"},{\"v\":\"0.0417\"}],\"f\":7,\"v\":670.5},{\"v\":\"0.0052\"}],\"f\":10,\"v\":122.5}],\"f\":2,\"v\":716.5},{\"c\":[{\"c\":[{\"c\":[{\"c\":[{\"v\":\"0.0214\"},{\"c\":[{\"v\":\"0.0684\"},{\"v\":\"0.1092\"}],\"f\":10,\"v\":665.5}],\"f\":9,\"v\":286.5},{\"v\":\"0.0106\"}],\"f\":10,\"v\":872.5},{\"v\":\"0.0175\"}],\"f\":5,\"v\":473.5},{\"c\":[{\"c\":[{\"c\":[{\"v\":\"0.0110\"},{\"c\":[{\"v\":\"0.0160\"},{\"c\":[{\"v\":\"0.0823\"},{\"v\":\"0.0231\"}],\"f\":2,\"v\":526.5}],\"f\":6,\"v\":446.5}],\"f\":5,\"v\":756.5},{\"v\":\"-0.066\"}],\"f\":4,\"v\":704.5},{\"c\":[{\"v\":\"0.0187\"},{\"c\":[{\"v\":\"0.0243\"},{\"v\":\"0.0819\"}],\"f\":2,\"v\":713.5}],\"f\":11,\"v\":930.5}],\"f\":7,\"v\":713.5}],\"f\":6,\"v\":101.5}],\"f\":10,\"v\":415.5}],\"f\":12,\"v\":117.5},{\"v\":\"0.0765\"}],\"f\":2,\"v\":956.5},{\"c\":[{\"v\":\"-0.029\"},{\"v\":\"0.0741\"}],\"f\":5,\"v\":875.5}],\"f\":6,\"v\":834.5}],\"f\":11,\"v\":815.5},{\"c\":[{\"c\":[{\"c\":[{\"c\":[{\"c\":[{\"v\":\"-0.000\"},{\"v\":\"-0.098\"}],\"f\":1,\"v\":324.5},{\"c\":[{\"c\":[{\"v\":\"0.0161\"},{\"c\":[{\"c\":[{\"c\":[{\"v\":\"0.0464\"},{\"v\":\"0.1433\"}],\"f\":13,\"v\":318.5},{\"v\":\"0.0224\"}],\"f\":7,\"v\":136.5},{\"v\":\"0.1165\"}],\"f\":10,\"v\":807.5}],\"f\":11,\"v\":141.5},{\"v\":\"0.0222\"}],\"f\":2,\"v\":17.5}],\"f\":3,\"v\":7.5},{\"c\":[{\"v\":\"-0.021\"},{\"c\":[{\"v\":\"0.0067\"},{\"v\":\"-0.046\"}],\"f\":12,\"v\":930.5}],\"f\":12,\"v\":128.5}],\"f\":4,\"v\":90.5},{\"c\":[{\"c\":[{\"c\":[{\"v\":\"0.0029\"},{\"c\":[{\"v\":\"0.0341\"},{\"c\":[{\"v\":\"0.0255\"},{\"c\":[{\"v\":\"0.0320\"},{\"c\":[{\"v\":\"0.0670\"},{\"v\":\"0.1200\"}],\"f\":13,\"v\":704.5}],\"f\":3,\"v\":135.5}],\"f\":11,\"v\":930.5}],\"f\":10,\"v\":662.5}],\"f\":2,\"v\":655.5},{\"v\":\"0.0793\"}],\"f\":2,\"v\":956.5},{\"v\":\"-0.051\"}],\"f\":6,\"v\":856.5}],\"f\":7,\"v\":713.5},{\"c\":[{\"c\":[{\"v\":\"-0.014\"},{\"c\":[{\"c\":[{\"c\":[{\"c\":[{\"v\":\"0.0018\"},{\"c\":[{\"v\":\"0.0962\"},{\"v\":\"0.0290\"}],\"f\":4,\"v\":349.5}],\"f\":2,\"v\":790.5},{\"c\":[{\"v\":\"-0.021\"},{\"c\":[{\"c\":[{\"v\":\"0.1830\"},{\"v\":\"0.0394\"}],\"f\":10,\"v\":143.5},{\"v\":\"-0.013\"}],\"f\":3,\"v\":842.5}],\"f\":4,\"v\":886.5}],\"f\":12,\"v\":763.5},{\"v\":\"0.0583\"}],\"f\":5,\"v\":1017.5},{\"v\":\"-0.029\"}],\"f\":1,\"v\":924.5}],\"f\":2,\"v\":494.5},{\"v\":\"-0.042\"}],\"f\":6,\"v\":912.5}],\"f\":3,\"v\":445.5},{\"c\":[{\"c\":[{\"c\":[{\"c\":[{\"c\":[{\"v\":\"-0.054\"},{\"c\":[{\"v\":\"0.0219\"},{\"v\":\"0.0757\"}],\"f\":10,\"v\":807.5}],\"f\":3,\"v\":9.5},{\"v\":\"0.1127\"}],\"f\":13,\"v\":759.5},{\"v\":\"0.0077\"}],\"f\":2,\"v\":17.5},{\"c\":[{\"c\":[{\"v\":\"-0.005\"},{\"c\":[{\"v\":\"-0.003\"},{\"v\":\"0.0836\"}],\"f\":6,\"v\":600.5}],\"f\":5,\"v\":1018.5},{\"v\":\"-0.053\"}],\"f\":12,\"v\":962.5}],\"f\":4,\"v\":90.5},{\"c\":[{\"c\":[{\"v\":\"-0.006\"},{\"c\":[{\"c\":[{\"c\":[{\"c\":[{\"v\":\"-0.008\"},{\"c\":[{\"c\":[{\"c\":[{\"v\":\"-0.001\"},{\"c\":[{\"c\":[{\"v\":\"0.0542\"},{\"v\":\"0.1048\"}],\"f\":13,\"v\":554.5},{\"v\":\"0.0132\"}],\"f\":10,\"v\":872.5}],\"f\":10,\"v\":418.5},{\"v\":\"0.0155\"}],\"f\":5,\"v\":473.5},{\"c\":[{\"v\":\"0.0092\"},{\"c\":[{\"v\":\"0.0071\"},{\"c\":[{\"v\":\"0.0467\"},{\"v\":\"0.0809\"}],\"f\":10,\"v\":759.5}],\"f\":6,\"v\":446.5}],\"f\":5,\"v\":751.5}],\"f\":6,\"v\":101.5}],\"f\":10,\"v\":271.5},{\"c\":[{\"c\":[{\"v\":\"0.0284\"},{\"c\":[{\"c\":[{\"v\":\"0.0955\"},{\"v\":\"-0.003\"}],\"f\":10,\"v\":281.5},{\"c\":[{\"v\":\"0.0425\"},{\"c\":[{\"v\":\"0.0408\"},{\"v\":\"0.0959\"}],\"f\":3,\"v\":157.5}],\"f\":10,\"v\":575.5}],\"f\":7,\"v\":704.5}],\"f\":11,\"v\":928.5},{\"v\":\"-0.021\"}],\"f\":8,\"v\":678.5}],\"f\":2,\"v\":715.5},{\"v\":\"0.0720\"}],\"f\":2,\"v\":956.5},{\"v\":\"-0.014\"}],\"f\":6,\"v\":834.5}],\"f\":12,\"v\":117.5},{\"v\":\"-0.085\"}],\"f\":12,\"v\":911.5}],\"f\":11,\"v\":816.5}],\"features\":[\"rank_return_0\",\"return_5\",\"rank_return_10\",\"return_10\",\"rank_avg_amount_5\\/rank_avg_amount_10\",\"return_20\",\"rank_return_5\",\"rank_return_0\\/rank_return_5\",\"rank_avg_amount_0\\/rank_avg_amount_5\",\"pe_ttm_0\",\"rank_return_5\\/rank_return_10\",\"avg_amount_5\\/avg_amount_20\",\"avg_amount_0\\/avg_amount_5\"],\"expand_depth\":1,\"__type\":\"tree\",\"renderTo\":\"bigchart-7645f6d9ec3b4ad19ec64a0b795e4c9e\"}/bigcharts-data-end</pre></div></div><div class='tab-pane' id='训练曲线'>设置评估测试数据集，查看训练曲线<br/><a href=\"https://bigquant.com/community/tags/stockranker%E8%AE%AD%E7%BB%83%E6%9B%B2%E7%BA%BF\" target=\"_blank\">[视频教程]StockRanker训练曲线</a></div></div></div><div class='bigchart-data'><pre style='display:none'>bigcharts-data-start/{\"__type\":\"tabs\",\"__id\":\"bigchart-e80f6f0e82804d49bd6f6536cce6c786\"}/bigcharts-data-end</pre></div>"
      ],
      "text/plain": [
       "<IPython.core.display.HTML object>"
      ]
     },
     "metadata": {},
     "output_type": "display_data"
    },
    {
     "data": {
      "text/plain": [
       "[2021-08-20 22:17:29.625762] INFO: moduleinvoker: stock_ranker_train.v6 运行完成[0.07143s]."
      ]
     },
     "metadata": {
      "is_log": true,
      "status": "INFO"
     },
     "output_type": "display_data"
    },
    {
     "data": {
      "text/plain": [
       "[2021-08-20 22:17:29.627780] INFO: moduleinvoker: input_features.v1 开始运行.."
      ]
     },
     "metadata": {
      "is_log": true,
      "status": "INFO"
     },
     "output_type": "display_data"
    },
    {
     "data": {
      "text/plain": [
       "[2021-08-20 22:17:29.634298] INFO: moduleinvoker: 命中缓存"
      ]
     },
     "metadata": {
      "is_log": true,
      "status": "INFO"
     },
     "output_type": "display_data"
    },
    {
     "data": {
      "text/plain": [
       "[2021-08-20 22:17:29.635501] INFO: moduleinvoker: input_features.v1 运行完成[0.007721s]."
      ]
     },
     "metadata": {
      "is_log": true,
      "status": "INFO"
     },
     "output_type": "display_data"
    },
    {
     "data": {
      "text/plain": [
       "[2021-08-20 22:17:29.637501] INFO: moduleinvoker: instruments.v2 开始运行.."
      ]
     },
     "metadata": {
      "is_log": true,
      "status": "INFO"
     },
     "output_type": "display_data"
    },
    {
     "data": {
      "text/plain": [
       "[2021-08-20 22:17:29.829759] INFO: moduleinvoker: instruments.v2 运行完成[0.192243s]."
      ]
     },
     "metadata": {
      "is_log": true,
      "status": "INFO"
     },
     "output_type": "display_data"
    },
    {
     "data": {
      "text/plain": [
       "[2021-08-20 22:17:29.840804] INFO: moduleinvoker: general_feature_extractor.v7 开始运行.."
      ]
     },
     "metadata": {
      "is_log": true,
      "status": "INFO"
     },
     "output_type": "display_data"
    },
    {
     "data": {
      "text/plain": [
       "[2021-08-20 22:17:32.202392] INFO: 基础特征抽取: 年份 2019, 特征行数=225729"
      ]
     },
     "metadata": {
      "is_log": true,
      "status": "INFO"
     },
     "output_type": "display_data"
    },
    {
     "data": {
      "text/plain": [
       "[2021-08-20 22:17:36.996081] INFO: 基础特征抽取: 年份 2020, 特征行数=945961"
      ]
     },
     "metadata": {
      "is_log": true,
      "status": "INFO"
     },
     "output_type": "display_data"
    },
    {
     "data": {
      "text/plain": [
       "[2021-08-20 22:17:40.481934] INFO: 基础特征抽取: 年份 2021, 特征行数=661554"
      ]
     },
     "metadata": {
      "is_log": true,
      "status": "INFO"
     },
     "output_type": "display_data"
    },
    {
     "data": {
      "text/plain": [
       "[2021-08-20 22:17:40.605235] INFO: 基础特征抽取: 总行数: 1833244"
      ]
     },
     "metadata": {
      "is_log": true,
      "status": "INFO"
     },
     "output_type": "display_data"
    },
    {
     "data": {
      "text/plain": [
       "[2021-08-20 22:17:40.642616] INFO: moduleinvoker: general_feature_extractor.v7 运行完成[10.80181s]."
      ]
     },
     "metadata": {
      "is_log": true,
      "status": "INFO"
     },
     "output_type": "display_data"
    },
    {
     "data": {
      "text/plain": [
       "[2021-08-20 22:17:40.645491] INFO: moduleinvoker: derived_feature_extractor.v3 开始运行.."
      ]
     },
     "metadata": {
      "is_log": true,
      "status": "INFO"
     },
     "output_type": "display_data"
    },
    {
     "data": {
      "text/plain": [
       "[2021-08-20 22:17:45.895489] INFO: derived_feature_extractor: 提取完成 avg_amount_0/avg_amount_5, 0.005s"
      ]
     },
     "metadata": {
      "is_log": true,
      "status": "INFO"
     },
     "output_type": "display_data"
    },
    {
     "data": {
      "text/plain": [
       "[2021-08-20 22:17:45.901705] INFO: derived_feature_extractor: 提取完成 avg_amount_5/avg_amount_20, 0.005s"
      ]
     },
     "metadata": {
      "is_log": true,
      "status": "INFO"
     },
     "output_type": "display_data"
    },
    {
     "data": {
      "text/plain": [
       "[2021-08-20 22:17:45.905973] INFO: derived_feature_extractor: 提取完成 rank_avg_amount_0/rank_avg_amount_5, 0.003s"
      ]
     },
     "metadata": {
      "is_log": true,
      "status": "INFO"
     },
     "output_type": "display_data"
    },
    {
     "data": {
      "text/plain": [
       "[2021-08-20 22:17:45.909596] INFO: derived_feature_extractor: 提取完成 rank_avg_amount_5/rank_avg_amount_10, 0.002s"
      ]
     },
     "metadata": {
      "is_log": true,
      "status": "INFO"
     },
     "output_type": "display_data"
    },
    {
     "data": {
      "text/plain": [
       "[2021-08-20 22:17:45.913975] INFO: derived_feature_extractor: 提取完成 rank_return_0/rank_return_5, 0.003s"
      ]
     },
     "metadata": {
      "is_log": true,
      "status": "INFO"
     },
     "output_type": "display_data"
    },
    {
     "data": {
      "text/plain": [
       "[2021-08-20 22:17:45.917897] INFO: derived_feature_extractor: 提取完成 rank_return_5/rank_return_10, 0.003s"
      ]
     },
     "metadata": {
      "is_log": true,
      "status": "INFO"
     },
     "output_type": "display_data"
    },
    {
     "data": {
      "text/plain": [
       "[2021-08-20 22:17:47.460530] INFO: derived_feature_extractor: /y_2019, 225729"
      ]
     },
     "metadata": {
      "is_log": true,
      "status": "INFO"
     },
     "output_type": "display_data"
    },
    {
     "data": {
      "text/plain": [
       "[2021-08-20 22:17:50.237975] INFO: derived_feature_extractor: /y_2020, 945961"
      ]
     },
     "metadata": {
      "is_log": true,
      "status": "INFO"
     },
     "output_type": "display_data"
    },
    {
     "data": {
      "text/plain": [
       "[2021-08-20 22:17:52.986694] INFO: derived_feature_extractor: /y_2021, 661554"
      ]
     },
     "metadata": {
      "is_log": true,
      "status": "INFO"
     },
     "output_type": "display_data"
    },
    {
     "data": {
      "text/plain": [
       "[2021-08-20 22:17:53.622173] INFO: moduleinvoker: derived_feature_extractor.v3 运行完成[12.976667s]."
      ]
     },
     "metadata": {
      "is_log": true,
      "status": "INFO"
     },
     "output_type": "display_data"
    },
    {
     "data": {
      "text/plain": [
       "[2021-08-20 22:17:53.627805] INFO: moduleinvoker: filter.v3 开始运行.."
      ]
     },
     "metadata": {
      "is_log": true,
      "status": "INFO"
     },
     "output_type": "display_data"
    },
    {
     "data": {
      "text/plain": [
       "[2021-08-20 22:17:53.639499] INFO: filter: 使用表达式 list_days_0>200 过滤"
      ]
     },
     "metadata": {
      "is_log": true,
      "status": "INFO"
     },
     "output_type": "display_data"
    },
    {
     "data": {
      "text/plain": [
       "[2021-08-20 22:17:54.012067] INFO: filter: 过滤 /y_2019, 218310/0/225729"
      ]
     },
     "metadata": {
      "is_log": true,
      "status": "INFO"
     },
     "output_type": "display_data"
    },
    {
     "data": {
      "text/plain": [
       "[2021-08-20 22:17:55.150025] INFO: filter: 过滤 /y_2020, 901881/0/945961"
      ]
     },
     "metadata": {
      "is_log": true,
      "status": "INFO"
     },
     "output_type": "display_data"
    },
    {
     "data": {
      "text/plain": [
       "[2021-08-20 22:17:56.368900] INFO: filter: 过滤 /y_2021, 619660/0/661554"
      ]
     },
     "metadata": {
      "is_log": true,
      "status": "INFO"
     },
     "output_type": "display_data"
    },
    {
     "data": {
      "text/plain": [
       "[2021-08-20 22:17:56.417679] INFO: moduleinvoker: filter.v3 运行完成[2.789862s]."
      ]
     },
     "metadata": {
      "is_log": true,
      "status": "INFO"
     },
     "output_type": "display_data"
    },
    {
     "data": {
      "text/plain": [
       "[2021-08-20 22:17:56.422198] INFO: moduleinvoker: dropnan.v2 开始运行.."
      ]
     },
     "metadata": {
      "is_log": true,
      "status": "INFO"
     },
     "output_type": "display_data"
    },
    {
     "data": {
      "text/plain": [
       "[2021-08-20 22:17:56.780943] INFO: dropnan: /y_2019, 218298/218310"
      ]
     },
     "metadata": {
      "is_log": true,
      "status": "INFO"
     },
     "output_type": "display_data"
    },
    {
     "data": {
      "text/plain": [
       "[2021-08-20 22:17:58.008900] INFO: dropnan: /y_2020, 900321/901881"
      ]
     },
     "metadata": {
      "is_log": true,
      "status": "INFO"
     },
     "output_type": "display_data"
    },
    {
     "data": {
      "text/plain": [
       "[2021-08-20 22:17:59.106843] INFO: dropnan: /y_2021, 619659/619660"
      ]
     },
     "metadata": {
      "is_log": true,
      "status": "INFO"
     },
     "output_type": "display_data"
    },
    {
     "data": {
      "text/plain": [
       "[2021-08-20 22:17:59.234154] INFO: dropnan: 行数: 1738278/1739851"
      ]
     },
     "metadata": {
      "is_log": true,
      "status": "INFO"
     },
     "output_type": "display_data"
    },
    {
     "data": {
      "text/plain": [
       "[2021-08-20 22:17:59.261823] INFO: moduleinvoker: dropnan.v2 运行完成[2.839627s]."
      ]
     },
     "metadata": {
      "is_log": true,
      "status": "INFO"
     },
     "output_type": "display_data"
    },
    {
     "data": {
      "text/plain": [
       "[2021-08-20 22:17:59.265236] INFO: moduleinvoker: stock_ranker_predict.v5 开始运行.."
      ]
     },
     "metadata": {
      "is_log": true,
      "status": "INFO"
     },
     "output_type": "display_data"
    },
    {
     "data": {
      "text/plain": [
       "[2021-08-20 22:17:59.655516] INFO: StockRanker预测: /y_2019 .."
      ]
     },
     "metadata": {
      "is_log": true,
      "status": "INFO"
     },
     "output_type": "display_data"
    },
    {
     "data": {
      "text/plain": [
       "[2021-08-20 22:18:01.090857] INFO: StockRanker预测: /y_2020 .."
      ]
     },
     "metadata": {
      "is_log": true,
      "status": "INFO"
     },
     "output_type": "display_data"
    },
    {
     "data": {
      "text/plain": [
       "[2021-08-20 22:18:04.898055] INFO: StockRanker预测: /y_2021 .."
      ]
     },
     "metadata": {
      "is_log": true,
      "status": "INFO"
     },
     "output_type": "display_data"
    },
    {
     "data": {
      "text/plain": [
       "[2021-08-20 22:18:11.212101] INFO: moduleinvoker: stock_ranker_predict.v5 运行完成[11.946848s]."
      ]
     },
     "metadata": {
      "is_log": true,
      "status": "INFO"
     },
     "output_type": "display_data"
    },
    {
     "data": {
      "text/plain": [
       "[2021-08-20 22:18:11.218373] INFO: moduleinvoker: cached.v3 开始运行.."
      ]
     },
     "metadata": {
      "is_log": true,
      "status": "INFO"
     },
     "output_type": "display_data"
    },
    {
     "data": {
      "text/plain": [
       "[2021-08-20 22:18:11.960636] INFO: moduleinvoker: cached.v3 运行完成[0.742229s]."
      ]
     },
     "metadata": {
      "is_log": true,
      "status": "INFO"
     },
     "output_type": "display_data"
    },
    {
     "data": {
      "text/plain": [
       "[2021-08-20 22:18:11.963508] INFO: moduleinvoker: classical_portfolio_optimizer.v6 开始运行.."
      ]
     },
     "metadata": {
      "is_log": true,
      "status": "INFO"
     },
     "output_type": "display_data"
    },
    {
     "data": {
      "text/plain": [
       "[2021-08-20 22:20:59.566750] INFO: moduleinvoker: classical_portfolio_optimizer.v6 运行完成[167.603223s]."
      ]
     },
     "metadata": {
      "is_log": true,
      "status": "INFO"
     },
     "output_type": "display_data"
    },
    {
     "data": {
      "text/plain": [
       "[2021-08-20 22:20:59.617696] INFO: moduleinvoker: backtest.v8 开始运行.."
      ]
     },
     "metadata": {
      "is_log": true,
      "status": "INFO"
     },
     "output_type": "display_data"
    },
    {
     "data": {
      "text/plain": [
       "[2021-08-20 22:20:59.623041] INFO: backtest: biglearning backtest:V8.5.0"
      ]
     },
     "metadata": {
      "is_log": true,
      "status": "INFO"
     },
     "output_type": "display_data"
    },
    {
     "data": {
      "text/plain": [
       "[2021-08-20 22:20:59.624216] INFO: backtest: product_type:stock by specified"
      ]
     },
     "metadata": {
      "is_log": true,
      "status": "INFO"
     },
     "output_type": "display_data"
    },
    {
     "data": {
      "text/plain": [
       "[2021-08-20 22:21:00.168243] INFO: moduleinvoker: cached.v2 开始运行.."
      ]
     },
     "metadata": {
      "is_log": true,
      "status": "INFO"
     },
     "output_type": "display_data"
    },
    {
     "data": {
      "text/plain": [
       "[2021-08-20 22:21:00.177735] INFO: moduleinvoker: 命中缓存"
      ]
     },
     "metadata": {
      "is_log": true,
      "status": "INFO"
     },
     "output_type": "display_data"
    },
    {
     "data": {
      "text/plain": [
       "[2021-08-20 22:21:00.179576] INFO: moduleinvoker: cached.v2 运行完成[0.011355s]."
      ]
     },
     "metadata": {
      "is_log": true,
      "status": "INFO"
     },
     "output_type": "display_data"
    },
    {
     "data": {
      "text/plain": [
       "[2021-08-20 22:21:06.981651] INFO: algo: TradingAlgorithm V1.8.5"
      ]
     },
     "metadata": {
      "is_log": true,
      "status": "INFO"
     },
     "output_type": "display_data"
    },
    {
     "data": {
      "text/plain": [
       "[2021-08-20 22:21:09.148245] INFO: algo: trading transform..."
      ]
     },
     "metadata": {
      "is_log": true,
      "status": "INFO"
     },
     "output_type": "display_data"
    },
    {
     "data": {
      "text/plain": [
       "[2021-08-20 22:21:10.148908] ERROR: moduleinvoker: module name: backtest, module version: v8, trackeback: ValueError: cannot convert float NaN to integer\\n"
      ]
     },
     "metadata": {
      "is_log": true,
      "status": "ERROR"
     },
     "output_type": "display_data"
    },
    {
     "data": {
      "text/plain": [
       "[2021-08-20 22:21:10.162224] ERROR: moduleinvoker: module name: trade, module version: v4, trackeback: ValueError: cannot convert float NaN to integer\\n"
      ]
     },
     "metadata": {
      "is_log": true,
      "status": "ERROR"
     },
     "output_type": "display_data"
    },
    {
     "ename": "ValueError",
     "evalue": "cannot convert float NaN to integer",
     "output_type": "error",
     "traceback": [
      "\u001b[0;31m---------------------------------------------------------------------------\u001b[0m",
      "\u001b[0;31mValueError\u001b[0m                                Traceback (most recent call last)",
      "\u001b[0;32m<ipython-input-13-4dba25321978>\u001b[0m in \u001b[0;36m<module>\u001b[0;34m\u001b[0m\n\u001b[1;32m    225\u001b[0m )\n\u001b[1;32m    226\u001b[0m \u001b[0;34m\u001b[0m\u001b[0m\n\u001b[0;32m--> 227\u001b[0;31m m19 = M.trade.v4(\n\u001b[0m\u001b[1;32m    228\u001b[0m     \u001b[0minstruments\u001b[0m\u001b[0;34m=\u001b[0m\u001b[0mm9\u001b[0m\u001b[0;34m.\u001b[0m\u001b[0mdata\u001b[0m\u001b[0;34m,\u001b[0m\u001b[0;34m\u001b[0m\u001b[0;34m\u001b[0m\u001b[0m\n\u001b[1;32m    229\u001b[0m     \u001b[0moptions_data\u001b[0m\u001b[0;34m=\u001b[0m\u001b[0mm11\u001b[0m\u001b[0;34m.\u001b[0m\u001b[0mdata_1\u001b[0m\u001b[0;34m,\u001b[0m\u001b[0;34m\u001b[0m\u001b[0;34m\u001b[0m\u001b[0m\n",
      "\u001b[0;32m<ipython-input-13-4dba25321978>\u001b[0m in \u001b[0;36mm19_handle_data_bigquant_run\u001b[0;34m(context, data)\u001b[0m\n\u001b[1;32m     49\u001b[0m \u001b[0;34m\u001b[0m\u001b[0m\n\u001b[1;32m     50\u001b[0m     \u001b[0;32mfor\u001b[0m \u001b[0minstrument\u001b[0m \u001b[0;32min\u001b[0m \u001b[0mratio_today\u001b[0m\u001b[0;34m:\u001b[0m\u001b[0;34m\u001b[0m\u001b[0;34m\u001b[0m\u001b[0m\n\u001b[0;32m---> 51\u001b[0;31m         \u001b[0mcontext\u001b[0m\u001b[0;34m.\u001b[0m\u001b[0morder_target_percent\u001b[0m\u001b[0;34m(\u001b[0m \u001b[0mcontext\u001b[0m\u001b[0;34m.\u001b[0m\u001b[0msymbol\u001b[0m\u001b[0;34m(\u001b[0m\u001b[0minstrument\u001b[0m\u001b[0;34m)\u001b[0m\u001b[0;34m,\u001b[0m \u001b[0mratio_today\u001b[0m\u001b[0;34m[\u001b[0m\u001b[0minstrument\u001b[0m\u001b[0;34m]\u001b[0m\u001b[0;34m)\u001b[0m\u001b[0;34m\u001b[0m\u001b[0;34m\u001b[0m\u001b[0m\n\u001b[0m\u001b[1;32m     52\u001b[0m \u001b[0;34m\u001b[0m\u001b[0m\n\u001b[1;32m     53\u001b[0m \u001b[0;31m# 回测引擎：准备数据，只执行一次\u001b[0m\u001b[0;34m\u001b[0m\u001b[0;34m\u001b[0m\u001b[0;34m\u001b[0m\u001b[0m\n",
      "\u001b[0;31mValueError\u001b[0m: cannot convert float NaN to integer"
     ]
    }
   ],
   "source": [
    "# 本代码由可视化策略环境自动生成 2021年8月20日22:21\n",
    "# 本代码单元只能在可视化模式下编辑。您也可以拷贝代码，粘贴到新建的代码单元或者策略，然后修改。\n",
    "\n",
    "\n",
    "# Python 代码入口函数，input_1/2/3 对应三个输入端，data_1/2/3 对应三个输出端\n",
    "def m6_run_bigquant_run(input_1, input_2, input_3):\n",
    "    # 示例代码如下。在这里编写您的代码\n",
    "    df = input_1.read()\n",
    "    start = input_2.read()['start_date']\n",
    "    final = df[df.date>=start].groupby('date').apply(lambda x:list(x.instrument.values[:5]))\n",
    "    data_1 = DataSource().write_pickle(final)\n",
    "    return Outputs(data_1=data_1)\n",
    "\n",
    "# 后处理函数，可选。输入是主函数的输出，可以在这里对数据做处理，或者返回更友好的outputs数据格式。此函数输出不会被缓存。\n",
    "def m6_post_run_bigquant_run(outputs):\n",
    "    return outputs\n",
    "\n",
    "# 回测引擎：初始化函数，只执行一次\n",
    "def m19_initialize_bigquant_run(context):\n",
    "    # 加载仓位数据\n",
    "    context.ratios_dict = context.options['data'].read_pickle()\n",
    "    \n",
    "    # 系统已经设置了默认的交易手续费和滑点，要修改手续费可使用如下函数\n",
    "    context.set_commission(PerOrder(buy_cost=0.0003, sell_cost=0.0013, min_cost=5))\n",
    "\n",
    "    context.couter =0\n",
    "# 回测引擎：每日数据处理函数，每天执行一次\n",
    "def m19_handle_data_bigquant_run(context, data):\n",
    "    if context.couter % 5 !=0:\n",
    "        context.couter += 1\n",
    "        return\n",
    "    \n",
    "    context.couter += 1\n",
    "    # 按日期过滤得到今日的预测数据\n",
    "    try:\n",
    "        ratio_today = context.ratios_dict[data.current_dt.strftime('%Y-%m-%d')]\n",
    "\n",
    "    except:\n",
    "        return\n",
    "    \n",
    "    positions = {e.symbol: p.amount * p.last_sale_price\n",
    "                 for e, p in context.portfolio.positions.items()}\n",
    "\n",
    "\n",
    "    stock_to_sell = [k for k in positions if k not in ratio_today]\n",
    "    \n",
    "    for instrument in stock_to_sell:\n",
    "        context.order_target( context.symbol(instrument), 0)\n",
    "        \n",
    "    for instrument in ratio_today:\n",
    "        context.order_target_percent( context.symbol(instrument), ratio_today[instrument])\n",
    "    \n",
    "# 回测引擎：准备数据，只执行一次\n",
    "def m19_prepare_bigquant_run(context):\n",
    "    pass\n",
    "\n",
    "# 回测引擎：初始化函数，只执行一次\n",
    "def m14_initialize_bigquant_run(context):\n",
    "    # 加载预测数据\n",
    "    context.ranker_prediction = context.options['data'].read_df()\n",
    "\n",
    "    # 系统已经设置了默认的交易手续费和滑点，要修改手续费可使用如下函数\n",
    "    context.set_commission(PerOrder(buy_cost=0.0003, sell_cost=0.0013, min_cost=5))\n",
    "    # 预测数据，通过options传入进来，使用 read_df 函数，加载到内存 (DataFrame)\n",
    "    # 设置买入的股票数量，这里买入预测股票列表排名靠前的5只\n",
    "    stock_count = 5\n",
    "    # 每只的股票的权重，如下的权重分配会使得靠前的股票分配多一点的资金，[0.339160, 0.213986, 0.169580, ..]\n",
    "    context.stock_weights = T.norm([1 / math.log(i + 2) for i in range(0, stock_count)])\n",
    "    # 设置每只股票占用的最大资金比例\n",
    "    context.max_cash_per_instrument = 0.2\n",
    "    context.hold_days = 5\n",
    "\n",
    "# 回测引擎：每日数据处理函数，每天执行一次\n",
    "def m14_handle_data_bigquant_run(context, data):\n",
    "    # 按日期过滤得到今日的预测数据\n",
    "    ranker_prediction = context.ranker_prediction[\n",
    "        context.ranker_prediction.date == data.current_dt.strftime('%Y-%m-%d')]\n",
    "\n",
    "    # 1. 资金分配\n",
    "    # 平均持仓时间是hold_days，每日都将买入股票，每日预期使用 1/hold_days 的资金\n",
    "    # 实际操作中，会存在一定的买入误差，所以在前hold_days天，等量使用资金；之后，尽量使用剩余资金（这里设置最多用等量的1.5倍）\n",
    "    is_staging = context.trading_day_index < context.hold_days # 是否在建仓期间（前 hold_days 天）\n",
    "    cash_avg = context.portfolio.portfolio_value / context.hold_days\n",
    "    cash_for_buy = min(context.portfolio.cash, (1 if is_staging else 1.5) * cash_avg)\n",
    "    cash_for_sell = cash_avg - (context.portfolio.cash - cash_for_buy)\n",
    "    positions = {e.symbol: p.amount * p.last_sale_price\n",
    "                 for e, p in context.perf_tracker.position_tracker.positions.items()}\n",
    "\n",
    "    # 2. 生成卖出订单：hold_days天之后才开始卖出；对持仓的股票，按StockRanker预测的排序末位淘汰\n",
    "    if not is_staging and cash_for_sell > 0:\n",
    "        equities = {e.symbol: e for e, p in context.perf_tracker.position_tracker.positions.items()}\n",
    "        instruments = list(reversed(list(ranker_prediction.instrument[ranker_prediction.instrument.apply(\n",
    "                lambda x: x in equities and not context.has_unfinished_sell_order(equities[x]))])))\n",
    "        # print('rank order for sell %s' % instruments)\n",
    "        for instrument in instruments:\n",
    "            context.order_target(context.symbol(instrument), 0)\n",
    "            cash_for_sell -= positions[instrument]\n",
    "            if cash_for_sell <= 0:\n",
    "                break\n",
    "\n",
    "    # 3. 生成买入订单：按StockRanker预测的排序，买入前面的stock_count只股票\n",
    "    buy_cash_weights = context.stock_weights\n",
    "    buy_instruments = list(ranker_prediction.instrument[:len(buy_cash_weights)])\n",
    "    max_cash_per_instrument = context.portfolio.portfolio_value * context.max_cash_per_instrument\n",
    "    for i, instrument in enumerate(buy_instruments):\n",
    "        cash = cash_for_buy * buy_cash_weights[i]\n",
    "        if cash > max_cash_per_instrument - positions.get(instrument, 0):\n",
    "            # 确保股票持仓量不会超过每次股票最大的占用资金量\n",
    "            cash = max_cash_per_instrument - positions.get(instrument, 0)\n",
    "        if cash > 0:\n",
    "            context.order_value(context.symbol(instrument), cash)\n",
    "\n",
    "# 回测引擎：准备数据，只执行一次\n",
    "def m14_prepare_bigquant_run(context):\n",
    "    pass\n",
    "\n",
    "# 回测引擎：每个单位时间开始前调用一次，即每日开盘前调用一次。\n",
    "def m14_before_trading_start_bigquant_run(context, data):\n",
    "    pass\n",
    "\n",
    "\n",
    "m1 = M.instruments.v2(\n",
    "    start_date='2019-01-01',\n",
    "    end_date='2020-01-01',\n",
    "    market='CN_STOCK_A',\n",
    "    instrument_list='',\n",
    "    max_count=0\n",
    ")\n",
    "\n",
    "m2 = M.advanced_auto_labeler.v2(\n",
    "    instruments=m1.data,\n",
    "    label_expr=\"\"\"# #号开始的表示注释\n",
    "# 0. 每行一个，顺序执行，从第二个开始，可以使用label字段\n",
    "# 1. 可用数据字段见 https://bigquant.com/docs/develop/datasource/deprecated/history_data.html\n",
    "#   添加benchmark_前缀，可使用对应的benchmark数据\n",
    "# 2. 可用操作符和函数见 `表达式引擎 <https://bigquant.com/docs/develop/bigexpr/usage.html>`_\n",
    "\n",
    "# 计算收益：5日收盘价(作为卖出价格)除以明日开盘价(作为买入价格)\n",
    "shift(close, -5) / shift(open, -1)\n",
    "\n",
    "# 极值处理：用1%和99%分位的值做clip\n",
    "clip(label, all_quantile(label, 0.01), all_quantile(label, 0.99))\n",
    "\n",
    "# 将分数映射到分类，这里使用20个分类\n",
    "all_wbins(label, 20)\n",
    "\n",
    "# 过滤掉一字涨停的情况 (设置label为NaN，在后续处理和训练中会忽略NaN的label)\n",
    "where(shift(high, -1) == shift(low, -1), NaN, label)\n",
    "\"\"\",\n",
    "    start_date='',\n",
    "    end_date='',\n",
    "    benchmark='000300.SHA',\n",
    "    drop_na_label=True,\n",
    "    cast_label_int=True\n",
    ")\n",
    "\n",
    "m3 = M.input_features.v1(\n",
    "    features=\"\"\"# #号开始的表示注释\n",
    "# 多个特征，每行一个，可以包含基础特征和衍生特征\n",
    "return_5\n",
    "return_10\n",
    "return_20\n",
    "avg_amount_0/avg_amount_5\n",
    "avg_amount_5/avg_amount_20\n",
    "rank_avg_amount_0/rank_avg_amount_5\n",
    "rank_avg_amount_5/rank_avg_amount_10\n",
    "rank_return_0\n",
    "rank_return_5\n",
    "rank_return_10\n",
    "rank_return_0/rank_return_5\n",
    "rank_return_5/rank_return_10\n",
    "pe_ttm_0\n",
    "\"\"\"\n",
    ")\n",
    "\n",
    "m15 = M.general_feature_extractor.v7(\n",
    "    instruments=m1.data,\n",
    "    features=m3.data,\n",
    "    start_date='',\n",
    "    end_date='',\n",
    "    before_start_days=90\n",
    ")\n",
    "\n",
    "m16 = M.derived_feature_extractor.v3(\n",
    "    input_data=m15.data,\n",
    "    features=m3.data,\n",
    "    date_col='date',\n",
    "    instrument_col='instrument',\n",
    "    drop_na=False,\n",
    "    remove_extra_columns=False\n",
    ")\n",
    "\n",
    "m7 = M.join.v3(\n",
    "    data1=m2.data,\n",
    "    data2=m16.data,\n",
    "    on='date,instrument',\n",
    "    how='inner',\n",
    "    sort=False\n",
    ")\n",
    "\n",
    "m5 = M.dropnan.v2(\n",
    "    input_data=m7.data\n",
    ")\n",
    "\n",
    "m4 = M.stock_ranker_train.v6(\n",
    "    training_ds=m5.data,\n",
    "    features=m3.data,\n",
    "    learning_algorithm='排序',\n",
    "    number_of_leaves=30,\n",
    "    minimum_docs_per_leaf=1000,\n",
    "    number_of_trees=20,\n",
    "    learning_rate=0.1,\n",
    "    max_bins=1023,\n",
    "    feature_fraction=1,\n",
    "    data_row_fraction=1,\n",
    "    ndcg_discount_base=1,\n",
    "    m_lazy_run=False\n",
    ")\n",
    "\n",
    "m12 = M.input_features.v1(\n",
    "    features_ds=m3.data,\n",
    "    features=\"\"\"\n",
    "# #号开始的表示注释，注释需单独一行\n",
    "# 多个特征，每行一个，可以包含基础特征和衍生特征，特征须为本平台特征\n",
    "list_days_0\n",
    "\"\"\"\n",
    ")\n",
    "\n",
    "m9 = M.instruments.v2(\n",
    "    start_date=T.live_run_param('trading_date', '2020-01-01'),\n",
    "    end_date=T.live_run_param('trading_date', '2021-09-01'),\n",
    "    market='CN_STOCK_A',\n",
    "    instrument_list='',\n",
    "    max_count=0\n",
    ")\n",
    "\n",
    "m17 = M.general_feature_extractor.v7(\n",
    "    instruments=m9.data,\n",
    "    features=m12.data,\n",
    "    start_date='',\n",
    "    end_date='',\n",
    "    before_start_days=90\n",
    ")\n",
    "\n",
    "m18 = M.derived_feature_extractor.v3(\n",
    "    input_data=m17.data,\n",
    "    features=m12.data,\n",
    "    date_col='date',\n",
    "    instrument_col='instrument',\n",
    "    drop_na=False,\n",
    "    remove_extra_columns=False\n",
    ")\n",
    "\n",
    "m13 = M.filter.v3(\n",
    "    input_data=m18.data,\n",
    "    expr='list_days_0>200',\n",
    "    output_left_data=False\n",
    ")\n",
    "\n",
    "m10 = M.dropnan.v2(\n",
    "    input_data=m13.data\n",
    ")\n",
    "\n",
    "m8 = M.stock_ranker_predict.v5(\n",
    "    model=m4.model,\n",
    "    data=m10.data,\n",
    "    m_lazy_run=False\n",
    ")\n",
    "\n",
    "m6 = M.cached.v3(\n",
    "    input_1=m8.predictions,\n",
    "    input_2=m9.data,\n",
    "    run=m6_run_bigquant_run,\n",
    "    post_run=m6_post_run_bigquant_run,\n",
    "    input_ports='',\n",
    "    params='{}',\n",
    "    output_ports=''\n",
    ")\n",
    "\n",
    "m11 = M.classical_portfolio_optimizer.v6(\n",
    "    input_1=m6.data_1,\n",
    "    date='',\n",
    "    weight_sum=1,\n",
    "    upper_weight=0.6,\n",
    "    lower_weight=0.01,\n",
    "    before_start_days=10,\n",
    "    target='风险平价',\n",
    "    return_equal_weight_if_fail=True\n",
    ")\n",
    "\n",
    "m19 = M.trade.v4(\n",
    "    instruments=m9.data,\n",
    "    options_data=m11.data_1,\n",
    "    start_date='',\n",
    "    end_date='',\n",
    "    initialize=m19_initialize_bigquant_run,\n",
    "    handle_data=m19_handle_data_bigquant_run,\n",
    "    prepare=m19_prepare_bigquant_run,\n",
    "    volume_limit=0.025,\n",
    "    order_price_field_buy='open',\n",
    "    order_price_field_sell='close',\n",
    "    capital_base=1000000,\n",
    "    auto_cancel_non_tradable_orders=True,\n",
    "    data_frequency='daily',\n",
    "    price_type='真实价格',\n",
    "    product_type='股票',\n",
    "    plot_charts=True,\n",
    "    backtest_only=False,\n",
    "    benchmark='000300.SHA'\n",
    ")\n",
    "\n",
    "m14 = M.trade.v4(\n",
    "    instruments=m9.data,\n",
    "    options_data=m8.predictions,\n",
    "    start_date='',\n",
    "    end_date='',\n",
    "    initialize=m14_initialize_bigquant_run,\n",
    "    handle_data=m14_handle_data_bigquant_run,\n",
    "    prepare=m14_prepare_bigquant_run,\n",
    "    before_trading_start=m14_before_trading_start_bigquant_run,\n",
    "    volume_limit=0.025,\n",
    "    order_price_field_buy='open',\n",
    "    order_price_field_sell='close',\n",
    "    capital_base=1000000,\n",
    "    auto_cancel_non_tradable_orders=True,\n",
    "    data_frequency='daily',\n",
    "    price_type='真实价格',\n",
    "    product_type='股票',\n",
    "    plot_charts=True,\n",
    "    backtest_only=False,\n",
    "    benchmark=''\n",
    ")\n"
   ]
  }
 ],
 "metadata": {
  "is_mlstudio": "true",
  "kernelspec": {
   "display_name": "Python 3",
   "language": "python",
   "name": "python3"
  },
  "language_info": {
   "codemirror_mode": {
    "name": "ipython",
    "version": 3
   },
   "file_extension": ".py",
   "mimetype": "text/x-python",
   "name": "python",
   "nbconvert_exporter": "python",
   "pygments_lexer": "ipython3",
   "version": "3.8.7"
  }
 },
 "nbformat": 4,
 "nbformat_minor": 4
}
