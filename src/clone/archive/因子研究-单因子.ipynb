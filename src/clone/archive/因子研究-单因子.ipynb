{
 "cells": [
  {
   "cell_type": "code",
   "execution_count": 1,
   "metadata": {
    "machine_learning_studio": "true",
    "ml_studio_json": "{\"Description\":\"实验创建于2020/2/14\",\"Summary\":\"\",\"Graph\":{\"EdgesInternal\":[{\"DestinationInputPortId\":\"-115:features\",\"SourceOutputPortId\":\"-70:data\"}],\"ModuleNodes\":[{\"Id\":\"-70\",\"ModuleId\":\"BigQuantSpace.input_features.input_features-v1\",\"ModuleParameters\":[{\"Name\":\"features\",\"Value\":\"\\n# #号开始的表示注释，注释需单独一行\\n# 多个特征，每行一个，可以包含基础特征和衍生特征，特征须为本平台特征\\n(close_0 - ta_ema_20_0) / ta_ema_20_0*100\",\"ValueType\":\"Literal\",\"LinkedGlobalParameter\":null}],\"InputPortsInternal\":[{\"DataSourceId\":null,\"TrainedModelId\":null,\"TransformModuleId\":null,\"Name\":\"features_ds\",\"NodeId\":\"-70\"}],\"OutputPortsInternal\":[{\"Name\":\"data\",\"NodeId\":\"-70\",\"OutputType\":null}],\"UsePreviousResults\":true,\"moduleIdForCode\":1,\"IsPartOfPartialRun\":null,\"Comment\":\"\",\"CommentCollapsed\":true},{\"Id\":\"-115\",\"ModuleId\":\"BigQuantSpace.factorlens.factorlens-v1\",\"ModuleParameters\":[{\"Name\":\"title\",\"Value\":\"因子分析: {factor_name}\",\"ValueType\":\"Literal\",\"LinkedGlobalParameter\":null},{\"Name\":\"start_date\",\"Value\":\"2019-01-01\",\"ValueType\":\"Literal\",\"LinkedGlobalParameter\":null},{\"Name\":\"end_date\",\"Value\":\"2019-12-31\",\"ValueType\":\"Literal\",\"LinkedGlobalParameter\":null},{\"Name\":\"rebalance_period\",\"Value\":22,\"ValueType\":\"Literal\",\"LinkedGlobalParameter\":null},{\"Name\":\"stock_pool\",\"Value\":\"全市场\",\"ValueType\":\"Literal\",\"LinkedGlobalParameter\":null},{\"Name\":\"quantile_count\",\"Value\":5,\"ValueType\":\"Literal\",\"LinkedGlobalParameter\":null},{\"Name\":\"commission_rate\",\"Value\":0.0016,\"ValueType\":\"Literal\",\"LinkedGlobalParameter\":null},{\"Name\":\"returns_calculation_method\",\"Value\":\"累乘\",\"ValueType\":\"Literal\",\"LinkedGlobalParameter\":null},{\"Name\":\"benchmark\",\"Value\":\"无\",\"ValueType\":\"Literal\",\"LinkedGlobalParameter\":null},{\"Name\":\"drop_price_limit_stocks\",\"Value\":\"True\",\"ValueType\":\"Literal\",\"LinkedGlobalParameter\":null},{\"Name\":\"drop_st_stocks\",\"Value\":\"True\",\"ValueType\":\"Literal\",\"LinkedGlobalParameter\":null},{\"Name\":\"drop_new_stocks\",\"Value\":\"True\",\"ValueType\":\"Literal\",\"LinkedGlobalParameter\":null},{\"Name\":\"normalization\",\"Value\":\"True\",\"ValueType\":\"Literal\",\"LinkedGlobalParameter\":null},{\"Name\":\"neutralization\",\"Value\":\"%7B%22enumItems%22%3A%5B%7B%22value%22%3A%22%E8%A1%8C%E4%B8%9A%22%2C%22displayValue%22%3A%22%E8%A1%8C%E4%B8%9A%22%2C%22selected%22%3Atrue%7D%2C%7B%22value%22%3A%22%E5%B8%82%E5%80%BC%22%2C%22displayValue%22%3A%22%E5%B8%82%E5%80%BC%22%2C%22selected%22%3Atrue%7D%5D%7D\",\"ValueType\":\"Literal\",\"LinkedGlobalParameter\":null},{\"Name\":\"metrics\",\"Value\":\"%7B%22enumItems%22%3A%5B%7B%22value%22%3A%22%E5%9B%A0%E5%AD%90%E8%A1%A8%E7%8E%B0%E6%A6%82%E8%A7%88%22%2C%22displayValue%22%3A%22%E5%9B%A0%E5%AD%90%E8%A1%A8%E7%8E%B0%E6%A6%82%E8%A7%88%22%2C%22selected%22%3Atrue%7D%2C%7B%22value%22%3A%22%E5%9B%A0%E5%AD%90%E5%88%86%E5%B8%83%22%2C%22displayValue%22%3A%22%E5%9B%A0%E5%AD%90%E5%88%86%E5%B8%83%22%2C%22selected%22%3Atrue%7D%2C%7B%22value%22%3A%22%E5%9B%A0%E5%AD%90%E8%A1%8C%E4%B8%9A%E5%88%86%E5%B8%83%22%2C%22displayValue%22%3A%22%E5%9B%A0%E5%AD%90%E8%A1%8C%E4%B8%9A%E5%88%86%E5%B8%83%22%2C%22selected%22%3Atrue%7D%2C%7B%22value%22%3A%22%E5%9B%A0%E5%AD%90%E5%B8%82%E5%80%BC%E5%88%86%E5%B8%83%22%2C%22displayValue%22%3A%22%E5%9B%A0%E5%AD%90%E5%B8%82%E5%80%BC%E5%88%86%E5%B8%83%22%2C%22selected%22%3Atrue%7D%2C%7B%22value%22%3A%22IC%E5%88%86%E6%9E%90%22%2C%22displayValue%22%3A%22IC%E5%88%86%E6%9E%90%22%2C%22selected%22%3Atrue%7D%2C%7B%22value%22%3A%22%E4%B9%B0%E5%85%A5%E4%BF%A1%E5%8F%B7%E9%87%8D%E5%90%88%E5%88%86%E6%9E%90%22%2C%22displayValue%22%3A%22%E4%B9%B0%E5%85%A5%E4%BF%A1%E5%8F%B7%E9%87%8D%E5%90%88%E5%88%86%E6%9E%90%22%2C%22selected%22%3Atrue%7D%2C%7B%22value%22%3A%22%E5%9B%A0%E5%AD%90%E4%BC%B0%E5%80%BC%E5%88%86%E6%9E%90%22%2C%22displayValue%22%3A%22%E5%9B%A0%E5%AD%90%E4%BC%B0%E5%80%BC%E5%88%86%E6%9E%90%22%2C%22selected%22%3Atrue%7D%2C%7B%22value%22%3A%22%E5%9B%A0%E5%AD%90%E6%8B%A5%E6%8C%A4%E5%BA%A6%E5%88%86%E6%9E%90%22%2C%22displayValue%22%3A%22%E5%9B%A0%E5%AD%90%E6%8B%A5%E6%8C%A4%E5%BA%A6%E5%88%86%E6%9E%90%22%2C%22selected%22%3Atrue%7D%2C%7B%22value%22%3A%22%E5%9B%A0%E5%AD%90%E5%80%BC%E6%9C%80%E5%A4%A7%2F%E6%9C%80%E5%B0%8F%E8%82%A1%E7%A5%A8%22%2C%22displayValue%22%3A%22%E5%9B%A0%E5%AD%90%E5%80%BC%E6%9C%80%E5%A4%A7%2F%E6%9C%80%E5%B0%8F%E8%82%A1%E7%A5%A8%22%2C%22selected%22%3Atrue%7D%2C%7B%22value%22%3A%22%E5%A4%9A%E5%9B%A0%E5%AD%90%E7%9B%B8%E5%85%B3%E6%80%A7%E5%88%86%E6%9E%90%22%2C%22displayValue%22%3A%22%E5%A4%9A%E5%9B%A0%E5%AD%90%E7%9B%B8%E5%85%B3%E6%80%A7%E5%88%86%E6%9E%90%22%2C%22selected%22%3Atrue%7D%5D%7D\",\"ValueType\":\"Literal\",\"LinkedGlobalParameter\":null}],\"InputPortsInternal\":[{\"DataSourceId\":null,\"TrainedModelId\":null,\"TransformModuleId\":null,\"Name\":\"features\",\"NodeId\":\"-115\"},{\"DataSourceId\":null,\"TrainedModelId\":null,\"TransformModuleId\":null,\"Name\":\"user_factor_data\",\"NodeId\":\"-115\"}],\"OutputPortsInternal\":[{\"Name\":\"data\",\"NodeId\":\"-115\",\"OutputType\":null}],\"UsePreviousResults\":true,\"moduleIdForCode\":2,\"IsPartOfPartialRun\":null,\"Comment\":\"\",\"CommentCollapsed\":true}],\"SerializedClientData\":\"<?xml version='1.0' encoding='utf-16'?><DataV1 xmlns:xsd='http://www.w3.org/2001/XMLSchema' xmlns:xsi='http://www.w3.org/2001/XMLSchema-instance'><Meta /><NodePositions><NodePosition Node='-70' Position='282,197,200,200'/><NodePosition Node='-115' Position='278,437,200,200'/></NodePositions><NodeGroups /></DataV1>\"},\"IsDraft\":true,\"ParentExperimentId\":null,\"WebService\":{\"IsWebServiceExperiment\":false,\"Inputs\":[],\"Outputs\":[],\"Parameters\":[{\"Name\":\"交易日期\",\"Value\":\"\",\"ParameterDefinition\":{\"Name\":\"交易日期\",\"FriendlyName\":\"交易日期\",\"DefaultValue\":\"\",\"ParameterType\":\"String\",\"HasDefaultValue\":true,\"IsOptional\":true,\"ParameterRules\":[],\"HasRules\":false,\"MarkupType\":0,\"CredentialDescriptor\":null}}],\"WebServiceGroupId\":null,\"SerializedClientData\":\"<?xml version='1.0' encoding='utf-16'?><DataV1 xmlns:xsd='http://www.w3.org/2001/XMLSchema' xmlns:xsi='http://www.w3.org/2001/XMLSchema-instance'><Meta /><NodePositions></NodePositions><NodeGroups /></DataV1>\"},\"DisableNodesUpdate\":false,\"Category\":\"user\",\"Tags\":[],\"IsPartialRun\":true}"
   },
   "outputs": [
    {
     "data": {
      "text/plain": [
       "[2020-10-29 18:17:01.536846] INFO: moduleinvoker: input_features.v1 开始运行.."
      ]
     },
     "metadata": {
      "is_log": true,
      "status": "INFO"
     },
     "output_type": "display_data"
    },
    {
     "data": {
      "text/plain": [
       "[2020-10-29 18:17:01.626273] INFO: moduleinvoker: input_features.v1 运行完成[0.089457s]."
      ]
     },
     "metadata": {
      "is_log": true,
      "status": "INFO"
     },
     "output_type": "display_data"
    },
    {
     "data": {
      "text/plain": [
       "[2020-10-29 18:17:01.634940] INFO: moduleinvoker: factorlens.v1 开始运行.."
      ]
     },
     "metadata": {
      "is_log": true,
      "status": "INFO"
     },
     "output_type": "display_data"
    },
    {
     "data": {
      "text/plain": [
       "[2020-10-29 18:17:01.865813] INFO: 因子分析: batch_process start"
      ]
     },
     "metadata": {
      "is_log": true,
      "status": "INFO"
     },
     "output_type": "display_data"
    },
    {
     "data": {
      "text/plain": [
       "[2020-10-29 18:17:01.866992] INFO: 因子分析: load_instruments 2019-01-01, 2019-12-31"
      ]
     },
     "metadata": {
      "is_log": true,
      "status": "INFO"
     },
     "output_type": "display_data"
    },
    {
     "data": {
      "text/plain": [
       "[2020-10-29 18:17:02.735026] INFO: 因子分析: load_instruments, 3775 rows."
      ]
     },
     "metadata": {
      "is_log": true,
      "status": "INFO"
     },
     "output_type": "display_data"
    },
    {
     "data": {
      "text/plain": [
       "[2020-10-29 18:17:02.736192] INFO: 因子分析: load_benchmark_data 2019-01-01, 2019-12-31"
      ]
     },
     "metadata": {
      "is_log": true,
      "status": "INFO"
     },
     "output_type": "display_data"
    },
    {
     "data": {
      "text/plain": [
       "[2020-10-29 18:17:02.780347] INFO: 因子分析: load_benchmark_data, 732 rows."
      ]
     },
     "metadata": {
      "is_log": true,
      "status": "INFO"
     },
     "output_type": "display_data"
    },
    {
     "data": {
      "text/plain": [
       "[2020-10-29 18:17:02.781698] INFO: 因子分析: StockPool.before_load_general_feature_data"
      ]
     },
     "metadata": {
      "is_log": true,
      "status": "INFO"
     },
     "output_type": "display_data"
    },
    {
     "data": {
      "text/plain": [
       "[2020-10-29 18:17:02.782703] INFO: 因子分析: DropSTStocks.before_load_general_feature_data"
      ]
     },
     "metadata": {
      "is_log": true,
      "status": "INFO"
     },
     "output_type": "display_data"
    },
    {
     "data": {
      "text/plain": [
       "[2020-10-29 18:17:02.783528] INFO: 因子分析: DropNewStocks.before_load_general_feature_data"
      ]
     },
     "metadata": {
      "is_log": true,
      "status": "INFO"
     },
     "output_type": "display_data"
    },
    {
     "data": {
      "text/plain": [
       "[2020-10-29 18:17:02.784291] INFO: 因子分析: Neutralization.before_load_general_feature_data"
      ]
     },
     "metadata": {
      "is_log": true,
      "status": "INFO"
     },
     "output_type": "display_data"
    },
    {
     "data": {
      "text/plain": [
       "[2020-10-29 18:17:02.785239] INFO: 因子分析: Industry.before_load_general_feature_data"
      ]
     },
     "metadata": {
      "is_log": true,
      "status": "INFO"
     },
     "output_type": "display_data"
    },
    {
     "data": {
      "text/plain": [
       "[2020-10-29 18:17:02.786047] INFO: 因子分析: PBRatio.before_load_general_feature_data"
      ]
     },
     "metadata": {
      "is_log": true,
      "status": "INFO"
     },
     "output_type": "display_data"
    },
    {
     "data": {
      "text/plain": [
       "[2020-10-29 18:17:02.786835] INFO: 因子分析: Turnover.before_load_general_feature_data"
      ]
     },
     "metadata": {
      "is_log": true,
      "status": "INFO"
     },
     "output_type": "display_data"
    },
    {
     "data": {
      "text/plain": [
       "[2020-10-29 18:17:02.787596] INFO: 因子分析: MarketCap.before_load_general_feature_data"
      ]
     },
     "metadata": {
      "is_log": true,
      "status": "INFO"
     },
     "output_type": "display_data"
    },
    {
     "data": {
      "text/plain": [
       "[2020-10-29 18:17:02.788424] INFO: 因子分析: load_general_feature_data, load data"
      ]
     },
     "metadata": {
      "is_log": true,
      "status": "INFO"
     },
     "output_type": "display_data"
    },
    {
     "data": {
      "text/plain": [
       "[2020-10-29 18:17:09.049970] INFO: 因子分析: RebalancePeriod.after_load_general_feature_data"
      ]
     },
     "metadata": {
      "is_log": true,
      "status": "INFO"
     },
     "output_type": "display_data"
    },
    {
     "data": {
      "text/plain": [
       "[2020-10-29 18:17:09.907157] INFO: 因子分析: load_general_feature_data, 1701263 rows."
      ]
     },
     "metadata": {
      "is_log": true,
      "status": "INFO"
     },
     "output_type": "display_data"
    },
    {
     "data": {
      "text/plain": [
       "[2020-10-29 18:17:09.908811] INFO: 因子分析: load_derived_feature_data, 1701263 rows, 15 columns."
      ]
     },
     "metadata": {
      "is_log": true,
      "status": "INFO"
     },
     "output_type": "display_data"
    },
    {
     "data": {
      "text/plain": [
       "[2020-10-29 18:17:09.909878] INFO: 因子分析: process, (close_0 - ta_ema_20_0) / ta_ema_20_0*100"
      ]
     },
     "metadata": {
      "is_log": true,
      "status": "INFO"
     },
     "output_type": "display_data"
    },
    {
     "data": {
      "text/plain": [
       "[2020-10-29 18:17:09.910804] INFO: 因子分析: calculate_factor, (close_0 - ta_ema_20_0) / ta_ema_20_0*100"
      ]
     },
     "metadata": {
      "is_log": true,
      "status": "INFO"
     },
     "output_type": "display_data"
    },
    {
     "data": {
      "text/plain": [
       "[2020-10-29 18:17:10.309874] INFO: 因子分析: calculate_factor, done"
      ]
     },
     "metadata": {
      "is_log": true,
      "status": "INFO"
     },
     "output_type": "display_data"
    },
    {
     "data": {
      "text/plain": [
       "[2020-10-29 18:17:10.425810] INFO: 因子分析: QuantileReturns.before_process"
      ]
     },
     "metadata": {
      "is_log": true,
      "status": "INFO"
     },
     "output_type": "display_data"
    },
    {
     "data": {
      "text/plain": [
       "[2020-10-29 18:17:10.426915] INFO: 因子分析: IC.before_process"
      ]
     },
     "metadata": {
      "is_log": true,
      "status": "INFO"
     },
     "output_type": "display_data"
    },
    {
     "data": {
      "text/plain": [
       "[2020-10-29 18:17:10.427846] INFO: 因子分析: BasicDescription.before_process"
      ]
     },
     "metadata": {
      "is_log": true,
      "status": "INFO"
     },
     "output_type": "display_data"
    },
    {
     "data": {
      "text/plain": [
       "[2020-10-29 18:17:10.428706] INFO: 因子分析: Industry.before_process"
      ]
     },
     "metadata": {
      "is_log": true,
      "status": "INFO"
     },
     "output_type": "display_data"
    },
    {
     "data": {
      "text/plain": [
       "[2020-10-29 18:17:10.429543] INFO: 因子分析: RebalanceOverlap.before_process"
      ]
     },
     "metadata": {
      "is_log": true,
      "status": "INFO"
     },
     "output_type": "display_data"
    },
    {
     "data": {
      "text/plain": [
       "[2020-10-29 18:17:10.430351] INFO: 因子分析: PBRatio.before_process"
      ]
     },
     "metadata": {
      "is_log": true,
      "status": "INFO"
     },
     "output_type": "display_data"
    },
    {
     "data": {
      "text/plain": [
       "[2020-10-29 18:17:10.431172] INFO: 因子分析: Turnover.before_process"
      ]
     },
     "metadata": {
      "is_log": true,
      "status": "INFO"
     },
     "output_type": "display_data"
    },
    {
     "data": {
      "text/plain": [
       "[2020-10-29 18:17:10.432029] INFO: 因子分析: Stocks.before_process"
      ]
     },
     "metadata": {
      "is_log": true,
      "status": "INFO"
     },
     "output_type": "display_data"
    },
    {
     "data": {
      "text/plain": [
       "[2020-10-29 18:17:10.432911] INFO: 因子分析: MarketCap.before_process"
      ]
     },
     "metadata": {
      "is_log": true,
      "status": "INFO"
     },
     "output_type": "display_data"
    },
    {
     "data": {
      "text/plain": [
       "[2020-10-29 18:17:10.433813] INFO: 因子分析: FactorPairwiseCorrelationMerged.before_process"
      ]
     },
     "metadata": {
      "is_log": true,
      "status": "INFO"
     },
     "output_type": "display_data"
    },
    {
     "data": {
      "text/plain": [
       "[2020-10-29 18:17:10.447933] INFO: 因子分析: process metrics, start .."
      ]
     },
     "metadata": {
      "is_log": true,
      "status": "INFO"
     },
     "output_type": "display_data"
    },
    {
     "data": {
      "text/plain": [
       "[2020-10-29 18:17:10.602744] INFO: 因子分析: process, 830620/884867 rows .."
      ]
     },
     "metadata": {
      "is_log": true,
      "status": "INFO"
     },
     "output_type": "display_data"
    },
    {
     "data": {
      "text/plain": [
       "[2020-10-29 18:17:10.603911] INFO: 因子分析: BacktestInterval.process, 0.000s"
      ]
     },
     "metadata": {
      "is_log": true,
      "status": "INFO"
     },
     "output_type": "display_data"
    },
    {
     "data": {
      "text/plain": [
       "[2020-10-29 18:17:10.604957] INFO: 因子分析: Benchmark.process, 0.000s"
      ]
     },
     "metadata": {
      "is_log": true,
      "status": "INFO"
     },
     "output_type": "display_data"
    },
    {
     "data": {
      "text/plain": [
       "[2020-10-29 18:17:10.605973] INFO: 因子分析: StockPool.process, 0.000s"
      ]
     },
     "metadata": {
      "is_log": true,
      "status": "INFO"
     },
     "output_type": "display_data"
    },
    {
     "data": {
      "text/plain": [
       "[2020-10-29 18:17:10.606955] INFO: 因子分析: DropSTStocks.process, 0.000s"
      ]
     },
     "metadata": {
      "is_log": true,
      "status": "INFO"
     },
     "output_type": "display_data"
    },
    {
     "data": {
      "text/plain": [
       "[2020-10-29 18:17:10.607911] INFO: 因子分析: DropPriceLimitStocks.process, 0.000s"
      ]
     },
     "metadata": {
      "is_log": true,
      "status": "INFO"
     },
     "output_type": "display_data"
    },
    {
     "data": {
      "text/plain": [
       "[2020-10-29 18:17:10.608878] INFO: 因子分析: DropNewStocks.process, 0.000s"
      ]
     },
     "metadata": {
      "is_log": true,
      "status": "INFO"
     },
     "output_type": "display_data"
    },
    {
     "data": {
      "text/plain": [
       "[2020-10-29 18:17:10.609793] INFO: 因子分析: QuantileCount.process, 0.000s"
      ]
     },
     "metadata": {
      "is_log": true,
      "status": "INFO"
     },
     "output_type": "display_data"
    },
    {
     "data": {
      "text/plain": [
       "[2020-10-29 18:17:10.610645] INFO: 因子分析: CommissionRates.process, 0.000s"
      ]
     },
     "metadata": {
      "is_log": true,
      "status": "INFO"
     },
     "output_type": "display_data"
    },
    {
     "data": {
      "text/plain": [
       "[2020-10-29 18:17:10.856160] INFO: 因子分析: Normalization.process, 0.245s"
      ]
     },
     "metadata": {
      "is_log": true,
      "status": "INFO"
     },
     "output_type": "display_data"
    },
    {
     "data": {
      "text/plain": [
       "[2020-10-29 18:17:13.738963] INFO: 因子分析: Neutralization.process, 2.882s"
      ]
     },
     "metadata": {
      "is_log": true,
      "status": "INFO"
     },
     "output_type": "display_data"
    },
    {
     "data": {
      "text/plain": [
       "[2020-10-29 18:17:14.069950] INFO: 因子分析: RebalancePeriod.process, 0.330s"
      ]
     },
     "metadata": {
      "is_log": true,
      "status": "INFO"
     },
     "output_type": "display_data"
    },
    {
     "data": {
      "text/plain": [
       "[2020-10-29 18:17:14.071120] INFO: 因子分析: ReturnsCalculationMethod.process, 0.000s"
      ]
     },
     "metadata": {
      "is_log": true,
      "status": "INFO"
     },
     "output_type": "display_data"
    },
    {
     "data": {
      "text/plain": [
       "[2020-10-29 18:17:14.124196] INFO: 因子分析: QuantileReturns.process, 0.052s"
      ]
     },
     "metadata": {
      "is_log": true,
      "status": "INFO"
     },
     "output_type": "display_data"
    },
    {
     "data": {
      "text/plain": [
       "[2020-10-29 18:17:14.227732] INFO: 因子分析: IC.process, 0.102s"
      ]
     },
     "metadata": {
      "is_log": true,
      "status": "INFO"
     },
     "output_type": "display_data"
    },
    {
     "data": {
      "text/plain": [
       "[2020-10-29 18:17:14.258379] INFO: 因子分析: BasicDescription.process, 0.029s"
      ]
     },
     "metadata": {
      "is_log": true,
      "status": "INFO"
     },
     "output_type": "display_data"
    },
    {
     "data": {
      "text/plain": [
       "[2020-10-29 18:17:14.384807] INFO: 因子分析: Industry.process, 0.125s"
      ]
     },
     "metadata": {
      "is_log": true,
      "status": "INFO"
     },
     "output_type": "display_data"
    },
    {
     "data": {
      "text/plain": [
       "[2020-10-29 18:17:14.442765] INFO: 因子分析: RebalanceOverlap.process, 0.057s"
      ]
     },
     "metadata": {
      "is_log": true,
      "status": "INFO"
     },
     "output_type": "display_data"
    },
    {
     "data": {
      "text/plain": [
       "[2020-10-29 18:17:14.506839] INFO: 因子分析: PBRatio.process, 0.063s"
      ]
     },
     "metadata": {
      "is_log": true,
      "status": "INFO"
     },
     "output_type": "display_data"
    },
    {
     "data": {
      "text/plain": [
       "[2020-10-29 18:17:14.566324] INFO: 因子分析: Turnover.process, 0.058s"
      ]
     },
     "metadata": {
      "is_log": true,
      "status": "INFO"
     },
     "output_type": "display_data"
    },
    {
     "data": {
      "text/plain": [
       "[2020-10-29 18:17:14.680248] INFO: 因子分析: Stocks.process, 0.112s"
      ]
     },
     "metadata": {
      "is_log": true,
      "status": "INFO"
     },
     "output_type": "display_data"
    },
    {
     "data": {
      "text/plain": [
       "[2020-10-29 18:17:14.722102] INFO: 因子分析: MarketCap.process, 0.041s"
      ]
     },
     "metadata": {
      "is_log": true,
      "status": "INFO"
     },
     "output_type": "display_data"
    },
    {
     "data": {
      "text/plain": [
       "[2020-10-29 18:17:14.831810] INFO: 因子分析: process metrics, 4.384s"
      ]
     },
     "metadata": {
      "is_log": true,
      "status": "INFO"
     },
     "output_type": "display_data"
    },
    {
     "data": {
      "text/plain": [
       "[2020-10-29 18:17:14.833043] INFO: 因子分析: QuantileReturns.after_process"
      ]
     },
     "metadata": {
      "is_log": true,
      "status": "INFO"
     },
     "output_type": "display_data"
    },
    {
     "data": {
      "text/plain": [
       "[2020-10-29 18:17:14.833978] INFO: 因子分析: IC.after_process"
      ]
     },
     "metadata": {
      "is_log": true,
      "status": "INFO"
     },
     "output_type": "display_data"
    },
    {
     "data": {
      "text/plain": [
       "[2020-10-29 18:17:14.834799] INFO: 因子分析: BasicDescription.after_process"
      ]
     },
     "metadata": {
      "is_log": true,
      "status": "INFO"
     },
     "output_type": "display_data"
    },
    {
     "data": {
      "text/plain": [
       "[2020-10-29 18:17:14.835596] INFO: 因子分析: Industry.after_process"
      ]
     },
     "metadata": {
      "is_log": true,
      "status": "INFO"
     },
     "output_type": "display_data"
    },
    {
     "data": {
      "text/plain": [
       "[2020-10-29 18:17:14.836455] INFO: 因子分析: RebalanceOverlap.after_process"
      ]
     },
     "metadata": {
      "is_log": true,
      "status": "INFO"
     },
     "output_type": "display_data"
    },
    {
     "data": {
      "text/plain": [
       "[2020-10-29 18:17:14.837321] INFO: 因子分析: PBRatio.after_process"
      ]
     },
     "metadata": {
      "is_log": true,
      "status": "INFO"
     },
     "output_type": "display_data"
    },
    {
     "data": {
      "text/plain": [
       "[2020-10-29 18:17:14.838167] INFO: 因子分析: Turnover.after_process"
      ]
     },
     "metadata": {
      "is_log": true,
      "status": "INFO"
     },
     "output_type": "display_data"
    },
    {
     "data": {
      "text/plain": [
       "[2020-10-29 18:17:14.839031] INFO: 因子分析: Stocks.after_process"
      ]
     },
     "metadata": {
      "is_log": true,
      "status": "INFO"
     },
     "output_type": "display_data"
    },
    {
     "data": {
      "text/plain": [
       "[2020-10-29 18:17:14.839877] INFO: 因子分析: MarketCap.after_process"
      ]
     },
     "metadata": {
      "is_log": true,
      "status": "INFO"
     },
     "output_type": "display_data"
    },
    {
     "data": {
      "text/plain": [
       "[2020-10-29 18:17:14.840715] INFO: 因子分析: FactorPairwiseCorrelationMerged.after_process"
      ]
     },
     "metadata": {
      "is_log": true,
      "status": "INFO"
     },
     "output_type": "display_data"
    },
    {
     "data": {
      "text/plain": [
       "[2020-10-29 18:17:14.841595] INFO: 因子分析: QuantileReturns.before_merged_process"
      ]
     },
     "metadata": {
      "is_log": true,
      "status": "INFO"
     },
     "output_type": "display_data"
    },
    {
     "data": {
      "text/plain": [
       "[2020-10-29 18:17:14.842477] INFO: 因子分析: IC.before_merged_process"
      ]
     },
     "metadata": {
      "is_log": true,
      "status": "INFO"
     },
     "output_type": "display_data"
    },
    {
     "data": {
      "text/plain": [
       "[2020-10-29 18:17:14.843347] INFO: 因子分析: BasicDescription.before_merged_process"
      ]
     },
     "metadata": {
      "is_log": true,
      "status": "INFO"
     },
     "output_type": "display_data"
    },
    {
     "data": {
      "text/plain": [
       "[2020-10-29 18:17:14.844233] INFO: 因子分析: Industry.before_merged_process"
      ]
     },
     "metadata": {
      "is_log": true,
      "status": "INFO"
     },
     "output_type": "display_data"
    },
    {
     "data": {
      "text/plain": [
       "[2020-10-29 18:17:14.845067] INFO: 因子分析: RebalanceOverlap.before_merged_process"
      ]
     },
     "metadata": {
      "is_log": true,
      "status": "INFO"
     },
     "output_type": "display_data"
    },
    {
     "data": {
      "text/plain": [
       "[2020-10-29 18:17:14.845884] INFO: 因子分析: PBRatio.before_merged_process"
      ]
     },
     "metadata": {
      "is_log": true,
      "status": "INFO"
     },
     "output_type": "display_data"
    },
    {
     "data": {
      "text/plain": [
       "[2020-10-29 18:17:14.846684] INFO: 因子分析: Turnover.before_merged_process"
      ]
     },
     "metadata": {
      "is_log": true,
      "status": "INFO"
     },
     "output_type": "display_data"
    },
    {
     "data": {
      "text/plain": [
       "[2020-10-29 18:17:14.847455] INFO: 因子分析: Stocks.before_merged_process"
      ]
     },
     "metadata": {
      "is_log": true,
      "status": "INFO"
     },
     "output_type": "display_data"
    },
    {
     "data": {
      "text/plain": [
       "[2020-10-29 18:17:14.848260] INFO: 因子分析: MarketCap.before_merged_process"
      ]
     },
     "metadata": {
      "is_log": true,
      "status": "INFO"
     },
     "output_type": "display_data"
    },
    {
     "data": {
      "text/plain": [
       "[2020-10-29 18:17:14.849060] INFO: 因子分析: FactorPairwiseCorrelationMerged.before_merged_process"
      ]
     },
     "metadata": {
      "is_log": true,
      "status": "INFO"
     },
     "output_type": "display_data"
    },
    {
     "data": {
      "text/plain": [
       "[2020-10-29 18:17:14.849958] INFO: 因子分析: QuantileReturns.after_merged_process"
      ]
     },
     "metadata": {
      "is_log": true,
      "status": "INFO"
     },
     "output_type": "display_data"
    },
    {
     "data": {
      "text/plain": [
       "[2020-10-29 18:17:14.850791] INFO: 因子分析: IC.after_merged_process"
      ]
     },
     "metadata": {
      "is_log": true,
      "status": "INFO"
     },
     "output_type": "display_data"
    },
    {
     "data": {
      "text/plain": [
       "[2020-10-29 18:17:14.851593] INFO: 因子分析: BasicDescription.after_merged_process"
      ]
     },
     "metadata": {
      "is_log": true,
      "status": "INFO"
     },
     "output_type": "display_data"
    },
    {
     "data": {
      "text/plain": [
       "[2020-10-29 18:17:14.852388] INFO: 因子分析: Industry.after_merged_process"
      ]
     },
     "metadata": {
      "is_log": true,
      "status": "INFO"
     },
     "output_type": "display_data"
    },
    {
     "data": {
      "text/plain": [
       "[2020-10-29 18:17:14.853188] INFO: 因子分析: RebalanceOverlap.after_merged_process"
      ]
     },
     "metadata": {
      "is_log": true,
      "status": "INFO"
     },
     "output_type": "display_data"
    },
    {
     "data": {
      "text/plain": [
       "[2020-10-29 18:17:14.853996] INFO: 因子分析: PBRatio.after_merged_process"
      ]
     },
     "metadata": {
      "is_log": true,
      "status": "INFO"
     },
     "output_type": "display_data"
    },
    {
     "data": {
      "text/plain": [
       "[2020-10-29 18:17:14.854792] INFO: 因子分析: Turnover.after_merged_process"
      ]
     },
     "metadata": {
      "is_log": true,
      "status": "INFO"
     },
     "output_type": "display_data"
    },
    {
     "data": {
      "text/plain": [
       "[2020-10-29 18:17:14.855647] INFO: 因子分析: Stocks.after_merged_process"
      ]
     },
     "metadata": {
      "is_log": true,
      "status": "INFO"
     },
     "output_type": "display_data"
    },
    {
     "data": {
      "text/plain": [
       "[2020-10-29 18:17:14.856596] INFO: 因子分析: MarketCap.after_merged_process"
      ]
     },
     "metadata": {
      "is_log": true,
      "status": "INFO"
     },
     "output_type": "display_data"
    },
    {
     "data": {
      "text/plain": [
       "[2020-10-29 18:17:14.857422] INFO: 因子分析: FactorPairwiseCorrelationMerged.after_merged_process"
      ]
     },
     "metadata": {
      "is_log": true,
      "status": "INFO"
     },
     "output_type": "display_data"
    },
    {
     "data": {
      "text/plain": [
       "[2020-10-29 18:17:14.858825] INFO: 因子分析: batch_process ended, 12.993s"
      ]
     },
     "metadata": {
      "is_log": true,
      "status": "INFO"
     },
     "output_type": "display_data"
    },
    {
     "data": {
      "text/html": [
       "<div class=\"factorlens-container\">\n",
       "            <div style=\"display:flex\">\n",
       "                <div style=\"flex:1\">\n",
       "                    \n",
       "                    <h2 class=\"factorlens-title\">因子分析: (close_0 - ta_ema_20_0) / ta_ema_20_0*100</h2>\n",
       "                    \n",
       "                </div>\n",
       "                <div style=\"width:180px;\">\n",
       "                    \n",
       "                    <code style=\"display:none\" class=\"bq-template-label-inject\">\n",
       "                    {\n",
       "                        \"type\": \"factor-track\",\n",
       "                        \"data\": {\n",
       "                            \"exprs\": [\"(close_0 - ta_ema_20_0) / ta_ema_20_0*100\"],\n",
       "                            \"options\": {\"BacktestInterval\": [\"2019-01-01\", \"2019-12-31\"], \"Benchmark\": \"none\", \"StockPool\": \"all\", \"DropSTStocks\": 1, \"DropPriceLimitStocks\": 1, \"DropNewStocks\": 1, \"QuantileCount\": 5, \"CommissionRates\": 0.0016, \"Normalization\": 1, \"Neutralization\": \"industry,size\", \"RebalancePeriod\": 22, \"ReturnsCalculationMethod\": \"cumprod\", \"_HASH\": \"afc8741f7f56173b0949cb327187a537\"}\n",
       "                        }\n",
       "                    }\n",
       "                    </code>\n",
       "                    \n",
       "                </div>\n",
       "            </div>\n",
       "            <div class=\"type_title_left\"><p>因子表现概览<i class=\"fa fa-question-circle-o\" title=\"按因子值升序排列将股票分组，1分位组对应最小因子分组。多空组合表示做多最小分位组，做空最大分位组。\"></i></p></div><table class=\"factor_table\">\n",
       "            <thead>\n",
       "                <tr>\n",
       "                    <th>&nbsp;</th>\n",
       "                    <th>累计收益</th>\n",
       "                    <th>近1年收益</th>\n",
       "                    <th>近3月收益</th>\n",
       "                    <th>近1月收益</th>\n",
       "                    <th>近1周收益</th>\n",
       "                    <th>昨日收益</th>\n",
       "                    <th>最大回撤</th>\n",
       "                    <th>盈亏比</th>\n",
       "                    <th>胜率</th>\n",
       "                    <th>夏普比率</th>\n",
       "                    <th>收益波动率</th>\n",
       "                </tr>\n",
       "            </thead>\n",
       "            <tbody>\n",
       "                \n",
       "                    <tr>\n",
       "                    <th>最小分位</th>\n",
       "                        \n",
       "                            <td><span class=\"pct up\">10.12%</span></td>\n",
       "                        \n",
       "                            <td><span class=\"pct up\">10.12%</span></td>\n",
       "                        \n",
       "                            <td><span class=\"pct down\">-4.90%</span></td>\n",
       "                        \n",
       "                            <td><span class=\"pct up\">6.85%</span></td>\n",
       "                        \n",
       "                            <td><span class=\"pct up\">1.01%</span></td>\n",
       "                        \n",
       "                            <td><span class=\"pct up\">0.61%</span></td>\n",
       "                        \n",
       "                            <td>27.77%</td>\n",
       "                        \n",
       "                            <td>0.75</td>\n",
       "                        \n",
       "                            <td>0.59</td>\n",
       "                        \n",
       "                            <td><span class=\"pct up\">0.39</span></td>\n",
       "                        \n",
       "                            <td>23.94%</td>\n",
       "                        \n",
       "                    </tr>\n",
       "                \n",
       "                    <tr>\n",
       "                    <th>最大分位</th>\n",
       "                        \n",
       "                            <td><span class=\"pct down\">-13.71%</span></td>\n",
       "                        \n",
       "                            <td><span class=\"pct down\">-13.71%</span></td>\n",
       "                        \n",
       "                            <td><span class=\"pct down\">-5.65%</span></td>\n",
       "                        \n",
       "                            <td><span class=\"pct up\">4.93%</span></td>\n",
       "                        \n",
       "                            <td><span class=\"pct up\">0.19%</span></td>\n",
       "                        \n",
       "                            <td><span class=\"pct up\">0.08%</span></td>\n",
       "                        \n",
       "                            <td>33.31%</td>\n",
       "                        \n",
       "                            <td>0.72</td>\n",
       "                        \n",
       "                            <td>0.56</td>\n",
       "                        \n",
       "                            <td><span class=\"pct down\">-0.72</span></td>\n",
       "                        \n",
       "                            <td>22.41%</td>\n",
       "                        \n",
       "                    </tr>\n",
       "                \n",
       "                    <tr>\n",
       "                    <th>多空组合</th>\n",
       "                        \n",
       "                            <td><span class=\"pct up\">13.09%</span></td>\n",
       "                        \n",
       "                            <td><span class=\"pct up\">13.09%</span></td>\n",
       "                        \n",
       "                            <td><span class=\"pct up\">0.39%</span></td>\n",
       "                        \n",
       "                            <td><span class=\"pct up\">0.93%</span></td>\n",
       "                        \n",
       "                            <td><span class=\"pct up\">0.41%</span></td>\n",
       "                        \n",
       "                            <td><span class=\"pct up\">0.26%</span></td>\n",
       "                        \n",
       "                            <td>1.61%</td>\n",
       "                        \n",
       "                            <td>1.20</td>\n",
       "                        \n",
       "                            <td>0.62</td>\n",
       "                        \n",
       "                            <td><span class=\"pct up\">2.65</span></td>\n",
       "                        \n",
       "                            <td>3.50%</td>\n",
       "                        \n",
       "                    </tr>\n",
       "                \n",
       "            </tbody>\n",
       "        </table><div id=\"bigchart-a97a24e569ba4ac0886f6a54007dba5c\" class=\"bigchart\"></div><div class=\"bigchart-data\"><pre style=\"display:none\">bigcharts-data-start/{\"chart\":{\"height\":500,\"renderTo\":\"bigchart-a97a24e569ba4ac0886f6a54007dba5c\"},\"legend\":{\"enabled\":true},\"stock\":true,\"series\":[{\"name\":\"1\\u5206\\u4f4d\\u6570\",\"yAxis\":0,\"data\":[[1546387200000,1.0],[1546473600000,1.0],[1546560000000,1.0],[1546819200000,1.0],[1546905600000,1.0],[1546992000000,1.0],[1547078400000,1.0],[1547164800000,1.0],[1547424000000,1.0],[1547510400000,1.0],[1547596800000,1.0],[1547683200000,1.0],[1547769600000,1.0],[1548028800000,1.0],[1548115200000,1.0],[1548201600000,1.0],[1548288000000,1.0],[1548374400000,1.0],[1548633600000,1.0],[1548720000000,1.0],[1548806400000,1.0],[1548892800000,1.0],[1548979200000,1.0383],[1549843200000,1.0713],[1549929600000,1.0901],[1550016000000,1.1104],[1550102400000,1.1191],[1550188800000,1.1202],[1550448000000,1.1588],[1550534400000,1.1692],[1550620800000,1.1694],[1550707200000,1.1631],[1550793600000,1.1874],[1551052800000,1.2474],[1551139200000,1.2445],[1551225600000,1.2416],[1551312000000,1.2433],[1551398400000,1.2453],[1551657600000,1.2671],[1551744000000,1.3032],[1551830400000,1.3325],[1551916800000,1.3563],[1552003200000,1.2871],[1552262400000,1.3353],[1552348800000,1.3596],[1552435200000,1.3404],[1552521600000,1.3136],[1552608000000,1.3355],[1552867200000,1.3656],[1552953600000,1.3693],[1553040000000,1.3693],[1553126400000,1.3794],[1553212800000,1.3838],[1553472000000,1.3706],[1553558400000,1.3409],[1553644800000,1.35],[1553731200000,1.3359],[1553817600000,1.3688],[1554076800000,1.4111],[1554163200000,1.4132],[1554249600000,1.425],[1554336000000,1.4255],[1554681600000,1.4201],[1554768000000,1.424],[1554854400000,1.4213],[1554940800000,1.3897],[1555027200000,1.3918],[1555286400000,1.3819],[1555372800000,1.4093],[1555459200000,1.4184],[1555545600000,1.4051],[1555632000000,1.4131],[1555891200000,1.3994],[1555977600000,1.3767],[1556064000000,1.3901],[1556150400000,1.3382],[1556236800000,1.3217],[1556496000000,1.2729],[1556582400000,1.285],[1557100800000,1.2018],[1557187200000,1.2222],[1557273600000,1.2217],[1557360000000,1.2138],[1557446400000,1.2539],[1557705600000,1.2442],[1557792000000,1.2343],[1557878400000,1.2566],[1557964800000,1.2598],[1558051200000,1.2049],[1558310400000,1.1966],[1558396800000,1.2208],[1558483200000,1.2127],[1558569600000,1.1828],[1558656000000,1.176],[1558915200000,1.2097],[1559001600000,1.2093],[1559088000000,1.2123],[1559174400000,1.2022],[1559260800000,1.202],[1559520000000,1.1828],[1559606400000,1.1658],[1559692800000,1.167],[1559779200000,1.1338],[1560124800000,1.1477],[1560211200000,1.1897],[1560297600000,1.182],[1560384000000,1.1896],[1560470400000,1.1601],[1560729600000,1.1598],[1560816000000,1.1576],[1560902400000,1.1782],[1560988800000,1.1995],[1561075200000,1.2243],[1561334400000,1.2208],[1561420800000,1.2063],[1561507200000,1.2056],[1561593600000,1.2149],[1561680000000,1.195],[1561939200000,1.2332],[1562025600000,1.2327],[1562112000000,1.2183],[1562198400000,1.2119],[1562284800000,1.2152],[1562544000000,1.1679],[1562630400000,1.1723],[1562716800000,1.1628],[1562803200000,1.1609],[1562889600000,1.1643],[1563148800000,1.1743],[1563235200000,1.1774],[1563321600000,1.1773],[1563408000000,1.1493],[1563494400000,1.1563],[1563753600000,1.1165],[1563840000000,1.1341],[1563926400000,1.1505],[1564012800000,1.1516],[1564099200000,1.1519],[1564358400000,1.1501],[1564444800000,1.1561],[1564531200000,1.1469],[1564617600000,1.1408],[1564704000000,1.1189],[1564963200000,1.1062],[1565049600000,1.0701],[1565136000000,1.0664],[1565222400000,1.074],[1565308800000,1.0587],[1565568000000,1.0771],[1565654400000,1.0683],[1565740800000,1.0746],[1565827200000,1.0797],[1565913600000,1.0827],[1566172800000,1.1154],[1566259200000,1.1182],[1566345600000,1.1178],[1566432000000,1.121],[1566518400000,1.1166],[1566777600000,1.1055],[1566864000000,1.1282],[1566950400000,1.1293],[1567036800000,1.1279],[1567123200000,1.1096],[1567382400000,1.1346],[1567468800000,1.1407],[1567555200000,1.1491],[1567641600000,1.1595],[1567728000000,1.1625],[1567987200000,1.1853],[1568073600000,1.1897],[1568160000000,1.183],[1568246400000,1.1891],[1568592000000,1.1919],[1568678400000,1.1597],[1568764800000,1.1601],[1568851200000,1.1686],[1568937600000,1.1709],[1569196800000,1.1579],[1569283200000,1.1585],[1569369600000,1.1343],[1569456000000,1.106],[1569542400000,1.1138],[1569801600000,1.1045],[1570492800000,1.1059],[1570579200000,1.1148],[1570665600000,1.125],[1570752000000,1.1258],[1571011200000,1.1404],[1571097600000,1.1272],[1571184000000,1.1191],[1571270400000,1.1156],[1571356800000,1.1004],[1571616000000,1.0966],[1571702400000,1.1064],[1571788800000,1.1008],[1571875200000,1.0969],[1571961600000,1.1033],[1572220800000,1.1179],[1572307200000,1.0962],[1572393600000,1.0791],[1572480000000,1.0663],[1572566400000,1.0768],[1572825600000,1.0803],[1572912000000,1.081],[1572998400000,1.0718],[1573084800000,1.078],[1573171200000,1.0774],[1573430400000,1.047],[1573516800000,1.0502],[1573603200000,1.0477],[1573689600000,1.053],[1573776000000,1.0416],[1574035200000,1.0485],[1574121600000,1.0662],[1574208000000,1.0602],[1574294400000,1.056],[1574380800000,1.0465],[1574640000000,1.039],[1574726400000,1.0371],[1574812800000,1.0319],[1574899200000,1.0297],[1574985600000,1.0306],[1575244800000,1.0307],[1575331200000,1.0377],[1575417600000,1.0395],[1575504000000,1.0519],[1575590400000,1.0593],[1575849600000,1.0641],[1575936000000,1.0703],[1576022400000,1.0677],[1576108800000,1.0663],[1576195200000,1.0771],[1576454400000,1.0961],[1576540800000,1.11],[1576627200000,1.1118],[1576713600000,1.1177],[1576800000000,1.1032],[1577059200000,1.0748],[1577145600000,1.0901],[1577232000000,1.0952],[1577318400000,1.1037],[1577404800000,1.0919],[1577664000000,1.0946],[1577750400000,1.1012]],\"color\":\"#F08B55\"},{\"name\":\"2\\u5206\\u4f4d\\u6570\",\"yAxis\":0,\"data\":[[1546387200000,1.0],[1546473600000,1.0],[1546560000000,1.0],[1546819200000,1.0],[1546905600000,1.0],[1546992000000,1.0],[1547078400000,1.0],[1547164800000,1.0],[1547424000000,1.0],[1547510400000,1.0],[1547596800000,1.0],[1547683200000,1.0],[1547769600000,1.0],[1548028800000,1.0],[1548115200000,1.0],[1548201600000,1.0],[1548288000000,1.0],[1548374400000,1.0],[1548633600000,1.0],[1548720000000,1.0],[1548806400000,1.0],[1548892800000,1.0],[1548979200000,1.0295],[1549843200000,1.0566],[1549929600000,1.0709],[1550016000000,1.0912],[1550102400000,1.0959],[1550188800000,1.0933],[1550448000000,1.1289],[1550534400000,1.1318],[1550620800000,1.1321],[1550707200000,1.1269],[1550793600000,1.15],[1551052800000,1.2042],[1551139200000,1.2012],[1551225600000,1.1992],[1551312000000,1.2028],[1551398400000,1.2095],[1551657600000,1.2282],[1551744000000,1.2558],[1551830400000,1.2795],[1551916800000,1.2951],[1552003200000,1.2362],[1552262400000,1.2823],[1552348800000,1.3023],[1552435200000,1.2876],[1552521600000,1.2597],[1552608000000,1.2808],[1552867200000,1.3133],[1552953600000,1.3154],[1553040000000,1.3148],[1553126400000,1.3233],[1553212800000,1.3311],[1553472000000,1.3152],[1553558400000,1.2827],[1553644800000,1.2936],[1553731200000,1.2781],[1553817600000,1.3091],[1554076800000,1.3492],[1554163200000,1.3534],[1554249600000,1.3681],[1554336000000,1.3716],[1554681600000,1.3661],[1554768000000,1.3692],[1554854400000,1.3669],[1554940800000,1.3374],[1555027200000,1.3373],[1555286400000,1.327],[1555372800000,1.3524],[1555459200000,1.3587],[1555545600000,1.3513],[1555632000000,1.3598],[1555891200000,1.3438],[1555977600000,1.3204],[1556064000000,1.3326],[1556150400000,1.2813],[1556236800000,1.2652],[1556496000000,1.2219],[1556582400000,1.2343],[1557100800000,1.152],[1557187200000,1.1699],[1557273600000,1.1691],[1557360000000,1.1608],[1557446400000,1.1968],[1557705600000,1.1911],[1557792000000,1.1814],[1557878400000,1.2025],[1557964800000,1.2089],[1558051200000,1.16],[1558310400000,1.1604],[1558396800000,1.1798],[1558483200000,1.173],[1558569600000,1.1488],[1558656000000,1.1428],[1558915200000,1.1726],[1559001600000,1.1715],[1559088000000,1.1746],[1559174400000,1.1652],[1559260800000,1.1654],[1559520000000,1.1495],[1559606400000,1.132],[1559692800000,1.1333],[1559779200000,1.1067],[1560124800000,1.1178],[1560211200000,1.1566],[1560297600000,1.1489],[1560384000000,1.1555],[1560470400000,1.1306],[1560729600000,1.1309],[1560816000000,1.128],[1560902400000,1.1448],[1560988800000,1.1652],[1561075200000,1.1862],[1561334400000,1.1836],[1561420800000,1.17],[1561507200000,1.1693],[1561593600000,1.1754],[1561680000000,1.1577],[1561939200000,1.1911],[1562025600000,1.1907],[1562112000000,1.1796],[1562198400000,1.1766],[1562284800000,1.1787],[1562544000000,1.1372],[1562630400000,1.1411],[1562716800000,1.1321],[1562803200000,1.1324],[1562889600000,1.1363],[1563148800000,1.1452],[1563235200000,1.1473],[1563321600000,1.1463],[1563408000000,1.1207],[1563494400000,1.1274],[1563753600000,1.0927],[1563840000000,1.1043],[1563926400000,1.1177],[1564012800000,1.1197],[1564099200000,1.1202],[1564358400000,1.1179],[1564444800000,1.1251],[1564531200000,1.1175],[1564617600000,1.1123],[1564704000000,1.0939],[1564963200000,1.0814],[1565049600000,1.0468],[1565136000000,1.0448],[1565222400000,1.0493],[1565308800000,1.0369],[1565568000000,1.0513],[1565654400000,1.044],[1565740800000,1.0491],[1565827200000,1.051],[1565913600000,1.0554],[1566172800000,1.0848],[1566259200000,1.0866],[1566345600000,1.0869],[1566432000000,1.0912],[1566518400000,1.0881],[1566777600000,1.0773],[1566864000000,1.0985],[1566950400000,1.0992],[1567036800000,1.0974],[1567123200000,1.082],[1567382400000,1.1068],[1567468800000,1.1111],[1567555200000,1.1192],[1567641600000,1.1275],[1567728000000,1.1312],[1567987200000,1.1515],[1568073600000,1.1542],[1568160000000,1.1489],[1568246400000,1.1557],[1568592000000,1.1586],[1568678400000,1.1302],[1568764800000,1.1293],[1568851200000,1.1367],[1568937600000,1.1382],[1569196800000,1.1246],[1569283200000,1.1261],[1569369600000,1.1047],[1569456000000,1.0791],[1569542400000,1.0874],[1569801600000,1.077],[1570492800000,1.0795],[1570579200000,1.0887],[1570665600000,1.0993],[1570752000000,1.102],[1571011200000,1.1168],[1571097600000,1.1063],[1571184000000,1.0996],[1571270400000,1.0964],[1571356800000,1.0832],[1571616000000,1.0805],[1571702400000,1.0914],[1571788800000,1.0839],[1571875200000,1.0839],[1571961600000,1.0905],[1572220800000,1.1032],[1572307200000,1.0863],[1572393600000,1.0713],[1572480000000,1.0601],[1572566400000,1.0696],[1572825600000,1.0715],[1572912000000,1.0718],[1572998400000,1.0625],[1573084800000,1.0672],[1573171200000,1.0649],[1573430400000,1.0379],[1573516800000,1.0404],[1573603200000,1.0358],[1573689600000,1.0407],[1573776000000,1.0281],[1574035200000,1.0344],[1574121600000,1.0501],[1574208000000,1.0433],[1574294400000,1.0423],[1574380800000,1.0356],[1574640000000,1.0372],[1574726400000,1.0335],[1574812800000,1.0301],[1574899200000,1.0265],[1574985600000,1.0272],[1575244800000,1.0285],[1575331200000,1.0353],[1575417600000,1.037],[1575504000000,1.0469],[1575590400000,1.0534],[1575849600000,1.0544],[1575936000000,1.0578],[1576022400000,1.0552],[1576108800000,1.0516],[1576195200000,1.064],[1576454400000,1.0801],[1576540800000,1.0926],[1576627200000,1.0932],[1576713600000,1.0997],[1576800000000,1.0884],[1577059200000,1.0656],[1577145600000,1.0811],[1577232000000,1.0837],[1577318400000,1.0923],[1577404800000,1.0833],[1577664000000,1.09],[1577750400000,1.0971]],\"color\":\"#648FD5\"},{\"name\":\"3\\u5206\\u4f4d\\u6570\",\"yAxis\":0,\"data\":[[1546387200000,1.0],[1546473600000,1.0],[1546560000000,1.0],[1546819200000,1.0],[1546905600000,1.0],[1546992000000,1.0],[1547078400000,1.0],[1547164800000,1.0],[1547424000000,1.0],[1547510400000,1.0],[1547596800000,1.0],[1547683200000,1.0],[1547769600000,1.0],[1548028800000,1.0],[1548115200000,1.0],[1548201600000,1.0],[1548288000000,1.0],[1548374400000,1.0],[1548633600000,1.0],[1548720000000,1.0],[1548806400000,1.0],[1548892800000,1.0],[1548979200000,1.0262],[1549843200000,1.0514],[1549929600000,1.065],[1550016000000,1.0836],[1550102400000,1.0877],[1550188800000,1.0849],[1550448000000,1.1181],[1550534400000,1.1184],[1550620800000,1.1192],[1550707200000,1.1129],[1550793600000,1.1332],[1551052800000,1.186],[1551139200000,1.1833],[1551225600000,1.1807],[1551312000000,1.1857],[1551398400000,1.1916],[1551657600000,1.2075],[1551744000000,1.2324],[1551830400000,1.2535],[1551916800000,1.2686],[1552003200000,1.2069],[1552262400000,1.252],[1552348800000,1.2711],[1552435200000,1.2496],[1552521600000,1.2171],[1552608000000,1.2372],[1552867200000,1.2649],[1552953600000,1.2666],[1553040000000,1.267],[1553126400000,1.2778],[1553212800000,1.2835],[1553472000000,1.2687],[1553558400000,1.2326],[1553644800000,1.2382],[1553731200000,1.2191],[1553817600000,1.2525],[1554076800000,1.2944],[1554163200000,1.3022],[1554249600000,1.3161],[1554336000000,1.3193],[1554681600000,1.3151],[1554768000000,1.3172],[1554854400000,1.3139],[1554940800000,1.2873],[1555027200000,1.2875],[1555286400000,1.2756],[1555372800000,1.2988],[1555459200000,1.3072],[1555545600000,1.2995],[1555632000000,1.3088],[1555891200000,1.29],[1555977600000,1.2666],[1556064000000,1.2778],[1556150400000,1.2277],[1556236800000,1.2141],[1556496000000,1.1755],[1556582400000,1.1883],[1557100800000,1.111],[1557187200000,1.1267],[1557273600000,1.1222],[1557360000000,1.1142],[1557446400000,1.1499],[1557705600000,1.1422],[1557792000000,1.1332],[1557878400000,1.1552],[1557964800000,1.1608],[1558051200000,1.118],[1558310400000,1.1184],[1558396800000,1.137],[1558483200000,1.1296],[1558569600000,1.1068],[1558656000000,1.1012],[1558915200000,1.1294],[1559001600000,1.1294],[1559088000000,1.1335],[1559174400000,1.126],[1559260800000,1.1245],[1559520000000,1.1104],[1559606400000,1.0938],[1559692800000,1.0967],[1559779200000,1.0702],[1560124800000,1.0814],[1560211200000,1.1186],[1560297600000,1.1138],[1560384000000,1.1196],[1560470400000,1.0965],[1560729600000,1.0982],[1560816000000,1.0935],[1560902400000,1.1082],[1560988800000,1.1269],[1561075200000,1.1443],[1561334400000,1.1434],[1561420800000,1.1319],[1561507200000,1.132],[1561593600000,1.1379],[1561680000000,1.1241],[1561939200000,1.1539],[1562025600000,1.1533],[1562112000000,1.1434],[1562198400000,1.1416],[1562284800000,1.1435],[1562544000000,1.105],[1562630400000,1.1087],[1562716800000,1.1015],[1562803200000,1.1015],[1562889600000,1.1051],[1563148800000,1.1149],[1563235200000,1.1173],[1563321600000,1.1169],[1563408000000,1.0954],[1563494400000,1.1018],[1563753600000,1.0735],[1563840000000,1.0836],[1563926400000,1.0954],[1564012800000,1.0975],[1564099200000,1.0993],[1564358400000,1.0975],[1564444800000,1.1029],[1564531200000,1.0967],[1564617600000,1.0914],[1564704000000,1.0738],[1564963200000,1.0609],[1565049600000,1.0298],[1565136000000,1.0273],[1565222400000,1.0334],[1565308800000,1.0214],[1565568000000,1.0361],[1565654400000,1.0301],[1565740800000,1.0356],[1565827200000,1.0377],[1565913600000,1.0415],[1566172800000,1.0673],[1566259200000,1.0692],[1566345600000,1.07],[1566432000000,1.0734],[1566518400000,1.0716],[1566777600000,1.0622],[1566864000000,1.0819],[1566950400000,1.0823],[1567036800000,1.0789],[1567123200000,1.0633],[1567382400000,1.0858],[1567468800000,1.0898],[1567555200000,1.0981],[1567641600000,1.1061],[1567728000000,1.1101],[1567987200000,1.1294],[1568073600000,1.1318],[1568160000000,1.1256],[1568246400000,1.132],[1568592000000,1.1352],[1568678400000,1.1085],[1568764800000,1.11],[1568851200000,1.1179],[1568937600000,1.1196],[1569196800000,1.1077],[1569283200000,1.1111],[1569369600000,1.091],[1569456000000,1.0656],[1569542400000,1.0737],[1569801600000,1.0631],[1570492800000,1.0642],[1570579200000,1.0732],[1570665600000,1.0853],[1570752000000,1.0878],[1571011200000,1.1025],[1571097600000,1.0933],[1571184000000,1.0863],[1571270400000,1.0846],[1571356800000,1.0699],[1571616000000,1.0666],[1571702400000,1.0773],[1571788800000,1.072],[1571875200000,1.0727],[1571961600000,1.0786],[1572220800000,1.0917],[1572307200000,1.0757],[1572393600000,1.0627],[1572480000000,1.0525],[1572566400000,1.0621],[1572825600000,1.0626],[1572912000000,1.0634],[1572998400000,1.0549],[1573084800000,1.0586],[1573171200000,1.0559],[1573430400000,1.0283],[1573516800000,1.03],[1573603200000,1.0241],[1573689600000,1.0275],[1573776000000,1.0143],[1574035200000,1.0206],[1574121600000,1.0361],[1574208000000,1.0293],[1574294400000,1.0292],[1574380800000,1.0253],[1574640000000,1.0286],[1574726400000,1.0255],[1574812800000,1.0216],[1574899200000,1.018],[1574985600000,1.0194],[1575244800000,1.0199],[1575331200000,1.0251],[1575417600000,1.0261],[1575504000000,1.0344],[1575590400000,1.0395],[1575849600000,1.0414],[1575936000000,1.0445],[1576022400000,1.0412],[1576108800000,1.0371],[1576195200000,1.0487],[1576454400000,1.0631],[1576540800000,1.0765],[1576627200000,1.0775],[1576713600000,1.0838],[1576800000000,1.0723],[1577059200000,1.0499],[1577145600000,1.0642],[1577232000000,1.0661],[1577318400000,1.075],[1577404800000,1.0667],[1577664000000,1.0746],[1577750400000,1.0797]],\"color\":\"#E06681\"},{\"name\":\"4\\u5206\\u4f4d\\u6570\",\"yAxis\":0,\"data\":[[1546387200000,1.0],[1546473600000,1.0],[1546560000000,1.0],[1546819200000,1.0],[1546905600000,1.0],[1546992000000,1.0],[1547078400000,1.0],[1547164800000,1.0],[1547424000000,1.0],[1547510400000,1.0],[1547596800000,1.0],[1547683200000,1.0],[1547769600000,1.0],[1548028800000,1.0],[1548115200000,1.0],[1548201600000,1.0],[1548288000000,1.0],[1548374400000,1.0],[1548633600000,1.0],[1548720000000,1.0],[1548806400000,1.0],[1548892800000,1.0],[1548979200000,1.0247],[1549843200000,1.0481],[1549929600000,1.0605],[1550016000000,1.0759],[1550102400000,1.0805],[1550188800000,1.0761],[1550448000000,1.1084],[1550534400000,1.1076],[1550620800000,1.1095],[1550707200000,1.105],[1550793600000,1.1255],[1551052800000,1.1754],[1551139200000,1.1697],[1551225600000,1.1652],[1551312000000,1.1719],[1551398400000,1.1776],[1551657600000,1.1922],[1551744000000,1.2172],[1551830400000,1.2383],[1551916800000,1.2518],[1552003200000,1.1953],[1552262400000,1.2395],[1552348800000,1.2555],[1552435200000,1.2286],[1552521600000,1.1903],[1552608000000,1.2072],[1552867200000,1.2328],[1552953600000,1.2358],[1553040000000,1.2348],[1553126400000,1.2471],[1553212800000,1.2513],[1553472000000,1.2373],[1553558400000,1.2023],[1553644800000,1.2073],[1553731200000,1.1888],[1553817600000,1.2195],[1554076800000,1.2611],[1554163200000,1.2666],[1554249600000,1.2803],[1554336000000,1.285],[1554681600000,1.2767],[1554768000000,1.2798],[1554854400000,1.2766],[1554940800000,1.2507],[1555027200000,1.2508],[1555286400000,1.238],[1555372800000,1.2619],[1555459200000,1.2685],[1555545600000,1.2593],[1555632000000,1.2671],[1555891200000,1.25],[1555977600000,1.2241],[1556064000000,1.2356],[1556150400000,1.1829],[1556236800000,1.1694],[1556496000000,1.1319],[1556582400000,1.1469],[1557100800000,1.0709],[1557187200000,1.0853],[1557273600000,1.0814],[1557360000000,1.0721],[1557446400000,1.1093],[1557705600000,1.102],[1557792000000,1.0927],[1557878400000,1.1156],[1557964800000,1.1216],[1558051200000,1.0828],[1558310400000,1.0823],[1558396800000,1.0999],[1558483200000,1.0937],[1558569600000,1.0721],[1558656000000,1.0659],[1558915200000,1.0927],[1559001600000,1.0929],[1559088000000,1.097],[1559174400000,1.0919],[1559260800000,1.0911],[1559520000000,1.0776],[1559606400000,1.0611],[1559692800000,1.061],[1559779200000,1.0363],[1560124800000,1.047],[1560211200000,1.0814],[1560297600000,1.0772],[1560384000000,1.0829],[1560470400000,1.0615],[1560729600000,1.0623],[1560816000000,1.0592],[1560902400000,1.0711],[1560988800000,1.0873],[1561075200000,1.1022],[1561334400000,1.0997],[1561420800000,1.0895],[1561507200000,1.0888],[1561593600000,1.0949],[1561680000000,1.0805],[1561939200000,1.1067],[1562025600000,1.1052],[1562112000000,1.0958],[1562198400000,1.0929],[1562284800000,1.0966],[1562544000000,1.0598],[1562630400000,1.0631],[1562716800000,1.057],[1562803200000,1.0579],[1562889600000,1.0616],[1563148800000,1.0702],[1563235200000,1.0726],[1563321600000,1.0727],[1563408000000,1.0529],[1563494400000,1.0583],[1563753600000,1.0322],[1563840000000,1.0425],[1563926400000,1.0531],[1564012800000,1.0556],[1564099200000,1.0567],[1564358400000,1.0553],[1564444800000,1.0599],[1564531200000,1.0537],[1564617600000,1.0491],[1564704000000,1.0331],[1564963200000,1.0205],[1565049600000,0.9936],[1565136000000,0.9897],[1565222400000,0.995],[1565308800000,0.9842],[1565568000000,0.9996],[1565654400000,0.9929],[1565740800000,0.9982],[1565827200000,0.9991],[1565913600000,1.0028],[1566172800000,1.0293],[1566259200000,1.0306],[1566345600000,1.0314],[1566432000000,1.0351],[1566518400000,1.0323],[1566777600000,1.0241],[1566864000000,1.0413],[1566950400000,1.0385],[1567036800000,1.0366],[1567123200000,1.0214],[1567382400000,1.0433],[1567468800000,1.0479],[1567555200000,1.0553],[1567641600000,1.0633],[1567728000000,1.0678],[1567987200000,1.0873],[1568073600000,1.0889],[1568160000000,1.0813],[1568246400000,1.0876],[1568592000000,1.0898],[1568678400000,1.0648],[1568764800000,1.0656],[1568851200000,1.074],[1568937600000,1.0727],[1569196800000,1.0637],[1569283200000,1.0651],[1569369600000,1.0462],[1569456000000,1.0182],[1569542400000,1.0286],[1569801600000,1.0175],[1570492800000,1.0195],[1570579200000,1.0294],[1570665600000,1.0414],[1570752000000,1.0425],[1571011200000,1.0567],[1571097600000,1.0453],[1571184000000,1.0388],[1571270400000,1.0369],[1571356800000,1.0225],[1571616000000,1.0187],[1571702400000,1.0294],[1571788800000,1.023],[1571875200000,1.0226],[1571961600000,1.0282],[1572220800000,1.0405],[1572307200000,1.0266],[1572393600000,1.0157],[1572480000000,1.007],[1572566400000,1.0165],[1572825600000,1.0183],[1572912000000,1.0195],[1572998400000,1.011],[1573084800000,1.0156],[1573171200000,1.0127],[1573430400000,0.9861],[1573516800000,0.9885],[1573603200000,0.9841],[1573689600000,0.9886],[1573776000000,0.9753],[1574035200000,0.9813],[1574121600000,0.9966],[1574208000000,0.989],[1574294400000,0.9894],[1574380800000,0.982],[1574640000000,0.9819],[1574726400000,0.9803],[1574812800000,0.9773],[1574899200000,0.9735],[1574985600000,0.9751],[1575244800000,0.9753],[1575331200000,0.9797],[1575417600000,0.9805],[1575504000000,0.9876],[1575590400000,0.9921],[1575849600000,0.9947],[1575936000000,0.9975],[1576022400000,0.9951],[1576108800000,0.9914],[1576195200000,1.0015],[1576454400000,1.0149],[1576540800000,1.0263],[1576627200000,1.0267],[1576713600000,1.0322],[1576800000000,1.0241],[1577059200000,1.0031],[1577145600000,1.0169],[1577232000000,1.0171],[1577318400000,1.0249],[1577404800000,1.018],[1577664000000,1.0254],[1577750400000,1.0307]],\"color\":\"#E2D269\"},{\"name\":\"5\\u5206\\u4f4d\\u6570\",\"yAxis\":0,\"data\":[[1546387200000,1.0],[1546473600000,1.0],[1546560000000,1.0],[1546819200000,1.0],[1546905600000,1.0],[1546992000000,1.0],[1547078400000,1.0],[1547164800000,1.0],[1547424000000,1.0],[1547510400000,1.0],[1547596800000,1.0],[1547683200000,1.0],[1547769600000,1.0],[1548028800000,1.0],[1548115200000,1.0],[1548201600000,1.0],[1548288000000,1.0],[1548374400000,1.0],[1548633600000,1.0],[1548720000000,1.0],[1548806400000,1.0],[1548892800000,1.0],[1548979200000,1.0221],[1549843200000,1.0451],[1549929600000,1.0527],[1550016000000,1.0657],[1550102400000,1.0689],[1550188800000,1.0622],[1550448000000,1.0956],[1550534400000,1.0925],[1550620800000,1.0942],[1550707200000,1.0895],[1550793600000,1.1083],[1551052800000,1.1561],[1551139200000,1.1484],[1551225600000,1.1428],[1551312000000,1.1507],[1551398400000,1.1592],[1551657600000,1.1768],[1551744000000,1.2003],[1551830400000,1.2137],[1551916800000,1.219],[1552003200000,1.1726],[1552262400000,1.2159],[1552348800000,1.2331],[1552435200000,1.1917],[1552521600000,1.1462],[1552608000000,1.1589],[1552867200000,1.1821],[1552953600000,1.1854],[1553040000000,1.1822],[1553126400000,1.1972],[1553212800000,1.1959],[1553472000000,1.1804],[1553558400000,1.1469],[1553644800000,1.1494],[1553731200000,1.1327],[1553817600000,1.1638],[1554076800000,1.2048],[1554163200000,1.2089],[1554249600000,1.2176],[1554336000000,1.2178],[1554681600000,1.2026],[1554768000000,1.2075],[1554854400000,1.2022],[1554940800000,1.177],[1555027200000,1.1705],[1555286400000,1.1587],[1555372800000,1.1771],[1555459200000,1.1858],[1555545600000,1.1775],[1555632000000,1.183],[1555891200000,1.1621],[1555977600000,1.1415],[1556064000000,1.1501],[1556150400000,1.1012],[1556236800000,1.086],[1556496000000,1.0482],[1556582400000,1.0615],[1557100800000,0.9873],[1557187200000,0.9993],[1557273600000,0.998],[1557360000000,0.9867],[1557446400000,1.0229],[1557705600000,1.0157],[1557792000000,1.0075],[1557878400000,1.0314],[1557964800000,1.0347],[1558051200000,1.0034],[1558310400000,0.9957],[1558396800000,1.0086],[1558483200000,1.0004],[1558569600000,0.9738],[1558656000000,0.9641],[1558915200000,0.9892],[1559001600000,0.9894],[1559088000000,0.9912],[1559174400000,0.985],[1559260800000,0.9831],[1559520000000,0.9683],[1559606400000,0.9503],[1559692800000,0.9491],[1559779200000,0.9287],[1560124800000,0.9385],[1560211200000,0.9697],[1560297600000,0.9635],[1560384000000,0.9659],[1560470400000,0.945],[1560729600000,0.9453],[1560816000000,0.9415],[1560902400000,0.9474],[1560988800000,0.9547],[1561075200000,0.9656],[1561334400000,0.9633],[1561420800000,0.9541],[1561507200000,0.9515],[1561593600000,0.9551],[1561680000000,0.943],[1561939200000,0.9645],[1562025600000,0.9623],[1562112000000,0.9519],[1562198400000,0.9452],[1562284800000,0.9482],[1562544000000,0.9171],[1562630400000,0.9192],[1562716800000,0.9125],[1562803200000,0.9126],[1562889600000,0.9128],[1563148800000,0.9212],[1563235200000,0.9226],[1563321600000,0.9213],[1563408000000,0.9056],[1563494400000,0.909],[1563753600000,0.8859],[1563840000000,0.8984],[1563926400000,0.9076],[1564012800000,0.9104],[1564099200000,0.9079],[1564358400000,0.9094],[1564444800000,0.9106],[1564531200000,0.9033],[1564617600000,0.9016],[1564704000000,0.8864],[1564963200000,0.8757],[1565049600000,0.8547],[1565136000000,0.85],[1565222400000,0.8556],[1565308800000,0.8458],[1565568000000,0.862],[1565654400000,0.8582],[1565740800000,0.863],[1565827200000,0.8663],[1565913600000,0.869],[1566172800000,0.8924],[1566259200000,0.8911],[1566345600000,0.8906],[1566432000000,0.8916],[1566518400000,0.8869],[1566777600000,0.882],[1566864000000,0.8933],[1566950400000,0.8884],[1567036800000,0.8876],[1567123200000,0.8738],[1567382400000,0.895],[1567468800000,0.9023],[1567555200000,0.9063],[1567641600000,0.9133],[1567728000000,0.9168],[1567987200000,0.9363],[1568073600000,0.9326],[1568160000000,0.9239],[1568246400000,0.9272],[1568592000000,0.9302],[1568678400000,0.9113],[1568764800000,0.9131],[1568851200000,0.923],[1568937600000,0.9195],[1569196800000,0.9146],[1569283200000,0.9151],[1569369600000,0.8971],[1569456000000,0.8688],[1569542400000,0.8769],[1569801600000,0.8652],[1570492800000,0.8654],[1570579200000,0.8751],[1570665600000,0.8874],[1570752000000,0.8866],[1571011200000,0.9002],[1571097600000,0.8869],[1571184000000,0.8809],[1571270400000,0.8796],[1571356800000,0.8664],[1571616000000,0.8608],[1571702400000,0.8718],[1571788800000,0.8634],[1571875200000,0.8629],[1571961600000,0.868],[1572220800000,0.8827],[1572307200000,0.8704],[1572393600000,0.8638],[1572480000000,0.8544],[1572566400000,0.863],[1572825600000,0.8672],[1572912000000,0.8683],[1572998400000,0.858],[1573084800000,0.8645],[1573171200000,0.8612],[1573430400000,0.8408],[1573516800000,0.8447],[1573603200000,0.8421],[1573689600000,0.848],[1573776000000,0.8356],[1574035200000,0.8413],[1574121600000,0.8554],[1574208000000,0.8483],[1574294400000,0.847],[1574380800000,0.8352],[1574640000000,0.8276],[1574726400000,0.8284],[1574812800000,0.8269],[1574899200000,0.8232],[1574985600000,0.8224],[1575244800000,0.8246],[1575331200000,0.8282],[1575417600000,0.8271],[1575504000000,0.8351],[1575590400000,0.839],[1575849600000,0.8416],[1575936000000,0.8456],[1576022400000,0.8415],[1576108800000,0.8395],[1576195200000,0.8483],[1576454400000,0.8612],[1576540800000,0.8692],[1576627200000,0.8694],[1576713600000,0.8728],[1576800000000,0.8634],[1577059200000,0.8475],[1577145600000,0.8613],[1577232000000,0.8632],[1577318400000,0.8681],[1577404800000,0.8592],[1577664000000,0.8622],[1577750400000,0.8629]],\"color\":\"#4A8E8E\"},{\"name\":\"\\u6700\\u5c0f-\\u6700\\u5927\\u5206\\u4f4d\",\"yAxis\":0,\"data\":[[1546387200000,1.0],[1546473600000,1.0],[1546560000000,1.0],[1546819200000,1.0],[1546905600000,1.0],[1546992000000,1.0],[1547078400000,1.0],[1547164800000,1.0],[1547424000000,1.0],[1547510400000,1.0],[1547596800000,1.0],[1547683200000,1.0],[1547769600000,1.0],[1548028800000,1.0],[1548115200000,1.0],[1548201600000,1.0],[1548288000000,1.0],[1548374400000,1.0],[1548633600000,1.0],[1548720000000,1.0],[1548806400000,1.0],[1548892800000,1.0],[1548979200000,1.0081],[1549843200000,1.0128],[1549929600000,1.018],[1550016000000,1.0212],[1550102400000,1.0237],[1550188800000,1.0273],[1550448000000,1.0289],[1550534400000,1.035],[1550620800000,1.0343],[1550707200000,1.0337],[1550793600000,1.0356],[1551052800000,1.0394],[1551139200000,1.0417],[1551225600000,1.043],[1551312000000,1.0401],[1551398400000,1.0371],[1551657600000,1.0383],[1551744000000,1.0427],[1551830400000,1.0486],[1551916800000,1.0557],[1552003200000,1.0489],[1552262400000,1.0492],[1552348800000,1.0512],[1552435200000,1.0615],[1552521600000,1.0711],[1552608000000,1.0742],[1552867200000,1.0755],[1552953600000,1.0754],[1553040000000,1.0769],[1553126400000,1.074],[1553212800000,1.0763],[1553472000000,1.0781],[1553558400000,1.0818],[1553644800000,1.0843],[1553731200000,1.0865],[1553817600000,1.085],[1554076800000,1.0826],[1554163200000,1.0815],[1554249600000,1.0822],[1554336000000,1.0823],[1554681600000,1.087],[1554768000000,1.0863],[1554854400000,1.0876],[1554940800000,1.0869],[1555027200000,1.0907],[1555286400000,1.0923],[1555372800000,1.0945],[1555459200000,1.094],[1555545600000,1.0927],[1555632000000,1.0933],[1555891200000,1.0976],[1555977600000,1.0985],[1556064000000,1.0997],[1556150400000,1.1026],[1556236800000,1.1034],[1556496000000,1.1022],[1556582400000,1.1004],[1557100800000,1.1032],[1557187200000,1.1059],[1557273600000,1.1064],[1557360000000,1.1091],[1557446400000,1.107],[1557705600000,1.1067],[1557792000000,1.1068],[1557878400000,1.1036],[1557964800000,1.1032],[1558051200000,1.0959],[1558310400000,1.0963],[1558396800000,1.1003],[1558483200000,1.1011],[1558569600000,1.1022],[1558656000000,1.1045],[1558915200000,1.106],[1559001600000,1.1057],[1559088000000,1.1061],[1559174400000,1.1049],[1559260800000,1.1058],[1559520000000,1.1054],[1559606400000,1.1077],[1559692800000,1.109],[1559779200000,1.1051],[1560124800000,1.106],[1560211200000,1.1079],[1560297600000,1.1079],[1560384000000,1.11],[1560470400000,1.1083],[1560729600000,1.1079],[1560816000000,1.1091],[1560902400000,1.1155],[1560988800000,1.1213],[1561075200000,1.1265],[1561334400000,1.1263],[1561420800000,1.1249],[1561507200000,1.1262],[1561593600000,1.1283],[1561680000000,1.1262],[1561939200000,1.1314],[1562025600000,1.1325],[1562112000000,1.132],[1562198400000,1.133],[1562284800000,1.1327],[1562544000000,1.1293],[1562630400000,1.1301],[1562716800000,1.1296],[1562803200000,1.1287],[1562889600000,1.1302],[1563148800000,1.1298],[1563235200000,1.1305],[1563321600000,1.1312],[1563408000000,1.1274],[1563494400000,1.1287],[1563753600000,1.1236],[1563840000000,1.1246],[1563926400000,1.1269],[1564012800000,1.1258],[1564099200000,1.1274],[1564358400000,1.1257],[1564444800000,1.1278],[1564531200000,1.1278],[1564617600000,1.1259],[1564704000000,1.1246],[1564963200000,1.125],[1565049600000,1.1202],[1565136000000,1.1212],[1565222400000,1.1216],[1565308800000,1.12],[1565568000000,1.1191],[1565654400000,1.1169],[1565740800000,1.1171],[1565827200000,1.1176],[1565913600000,1.1174],[1566172800000,1.1192],[1566259200000,1.1215],[1566345600000,1.1216],[1566432000000,1.1226],[1566518400000,1.1233],[1566777600000,1.1208],[1566864000000,1.1252],[1566950400000,1.1288],[1567036800000,1.1286],[1567123200000,1.1282],[1567382400000,1.1273],[1567468800000,1.1257],[1567555200000,1.1273],[1567641600000,1.1281],[1567728000000,1.1274],[1567987200000,1.1264],[1568073600000,1.1308],[1568160000000,1.1328],[1568246400000,1.1337],[1568592000000,1.1332],[1568678400000,1.1295],[1568764800000,1.1285],[1568851200000,1.1265],[1568937600000,1.1298],[1569196800000,1.1265],[1569283200000,1.1265],[1569369600000,1.1259],[1569456000000,1.1295],[1569542400000,1.1283],[1569801600000,1.1311],[1570492800000,1.1317],[1570579200000,1.1299],[1570665600000,1.1271],[1570752000000,1.128],[1571011200000,1.1266],[1571097600000,1.1284],[1571184000000,1.1283],[1571270400000,1.1273],[1571356800000,1.1281],[1571616000000,1.1298],[1571702400000,1.1276],[1571788800000,1.1301],[1571875200000,1.1285],[1571961600000,1.1284],[1572220800000,1.1264],[1572307200000,1.1233],[1572393600000,1.1188],[1572480000000,1.1183],[1572566400000,1.1181],[1572825600000,1.1173],[1572912000000,1.1169],[1572998400000,1.1188],[1573084800000,1.1177],[1573171200000,1.1196],[1573430400000,1.117],[1573516800000,1.1161],[1573603200000,1.1165],[1573689600000,1.1154],[1573776000000,1.1176],[1574035200000,1.1175],[1574121600000,1.1175],[1574208000000,1.119],[1574294400000,1.1176],[1574380800000,1.1204],[1574640000000,1.1215],[1574726400000,1.1199],[1574812800000,1.1182],[1574899200000,1.1194],[1574985600000,1.1205],[1575244800000,1.119],[1575331200000,1.1204],[1575417600000,1.1221],[1575504000000,1.1234],[1575590400000,1.1247],[1575849600000,1.1255],[1575936000000,1.1261],[1576022400000,1.1274],[1576108800000,1.1281],[1576195200000,1.1279],[1576454400000,1.1293],[1576540800000,1.1311],[1576627200000,1.1319],[1576713600000,1.1328],[1576800000000,1.1315],[1577059200000,1.1273],[1577145600000,1.1262],[1577232000000,1.1276],[1577318400000,1.1287],[1577404800000,1.1285],[1577664000000,1.1279],[1577750400000,1.1309]]}],\"xAxis\":{\"title\":{\"text\":\"date\"},\"type\":\"datetime\"},\"plotOptions\":{\"series\":{\"compare\":\"percent\"}}}/bigcharts-data-end</pre></div><div class=\"type_title_left\"><p>基本特征分析<i class=\"fa fa-question-circle-o\" title=\"处理后因子表示对因子做去极值、标准化和中性化(如果启用的话)等处理后的因子值。\"></i></p></div><div class=\"cols\">\n",
       "            \n",
       "                \n",
       "                <div class=\"col\"><div id=\"bigchart-3626fe6683384e97ac33a656ebf4e0ad\" class=\"bigchart\"></div><div class=\"bigchart-data\"><pre style=\"display:none\">bigcharts-data-start/{\"chart\":{\"height\":500,\"type\":\"column\",\"renderTo\":\"bigchart-3626fe6683384e97ac33a656ebf4e0ad\"},\"legend\":{\"enabled\":true},\"title\":{\"text\":\"\\u56e0\\u5b50\\u5206\\u5e03\"},\"stock\":false,\"series\":[{\"name\":\"count\",\"yAxis\":0,\"data\":[[-69.6077,0.0],[-68.2346,0.0],[-66.8614,0.0],[-65.4883,0.0],[-64.1152,0.0],[-62.742,0.0],[-61.3689,0.0],[-59.9957,0.0],[-58.6226,0.0],[-57.2494,0.0],[-55.8763,0.0],[-54.5031,0.0],[-53.13,0.0],[-51.7568,0.0],[-50.3837,0.0],[-49.0105,0.0],[-47.6374,0.0],[-46.2643,0.0],[-44.8911,0.0],[-43.518,0.0],[-42.1448,0.0],[-40.7717,0.0],[-39.3985,0.0],[-38.0254,0.0],[-36.6522,0.0],[-35.2791,0.0],[-33.9059,0.0],[-32.5328,0.0],[-31.1596,0.0],[-29.7865,0.0],[-28.4134,0.0],[-27.0402,0.0],[-25.6671,0.0],[-24.2939,0.0001],[-22.9208,0.0001],[-21.5476,0.0001],[-20.1745,0.0002],[-18.8013,0.0003],[-17.4282,0.0006],[-16.055,0.001],[-14.6819,0.0016],[-13.3088,0.0027],[-11.9356,0.0043],[-10.5625,0.0068],[-9.1893,0.0112],[-7.8162,0.0181],[-6.443,0.0298],[-5.0699,0.0467],[-3.6967,0.0704],[-2.3236,0.0979],[-0.9504,0.1216],[0.4227,0.1277],[1.7959,0.1187],[3.169,0.0958],[4.5421,0.0711],[5.9153,0.0516],[7.2884,0.0369],[8.6616,0.0256],[10.0347,0.0177],[11.4079,0.0118],[12.781,0.0081],[14.1542,0.0058],[15.5273,0.0041],[16.9005,0.003],[18.2736,0.0021],[19.6467,0.0016],[21.0199,0.0011],[22.393,0.0008],[23.7662,0.0006],[25.1393,0.0005],[26.5125,0.0004],[27.8856,0.0003],[29.2588,0.0002],[30.6319,0.0002],[32.0051,0.0001],[33.3782,0.0001],[34.7514,0.0001],[36.1245,0.0001],[37.4976,0.0001],[38.8708,0.0],[40.2439,0.0],[41.6171,0.0],[42.9902,0.0],[44.3634,0.0],[45.7365,0.0],[47.1097,0.0],[48.4828,0.0],[49.856,0.0],[51.2291,0.0],[52.6022,0.0],[53.9754,0.0],[55.3485,0.0],[56.7217,0.0],[58.0948,0.0],[59.468,0.0],[60.8411,0.0],[62.2143,0.0],[63.5874,0.0],[64.9606,0.0],[66.3337,0.0]],\"color\":\"#F08B55\"}],\"xAxis\":{\"title\":{\"text\":\"value\"}}}/bigcharts-data-end</pre></div></div>\n",
       "                \n",
       "            \n",
       "                \n",
       "                <div class=\"col\"><div id=\"bigchart-3bcc7d4e44fb4673abf24cf1d3aa0ef3\" class=\"bigchart\"></div><div class=\"bigchart-data\"><pre style=\"display:none\">bigcharts-data-start/{\"chart\":{\"height\":500,\"type\":\"column\",\"renderTo\":\"bigchart-3bcc7d4e44fb4673abf24cf1d3aa0ef3\"},\"legend\":{\"enabled\":true},\"title\":{\"text\":\"\\u5904\\u7406\\u540e\\u56e0\\u5b50\\u5206\\u5e03\"},\"stock\":false,\"series\":[{\"name\":\"count\",\"yAxis\":0,\"data\":[[-3.4439,0.0],[-3.3755,0.0],[-3.3071,0.0001],[-3.2387,0.0],[-3.1703,0.0],[-3.102,0.0001],[-3.0336,0.0],[-2.9652,0.0001],[-2.8968,0.0002],[-2.8284,0.0003],[-2.7601,0.0003],[-2.6917,0.0005],[-2.6233,0.0006],[-2.5549,0.0009],[-2.4865,0.0013],[-2.4182,0.001],[-2.3498,0.0013],[-2.2814,0.0017],[-2.213,0.0019],[-2.1446,0.0016],[-2.0763,0.002],[-2.0079,0.0022],[-1.9395,0.0026],[-1.8711,0.0027],[-1.8027,0.003],[-1.7344,0.0032],[-1.666,0.0046],[-1.5976,0.0048],[-1.5292,0.0052],[-1.4608,0.0056],[-1.3925,0.0064],[-1.3241,0.0077],[-1.2557,0.0085],[-1.1873,0.0104],[-1.1189,0.0113],[-1.0506,0.0119],[-0.9822,0.0132],[-0.9138,0.0159],[-0.8454,0.017],[-0.7771,0.0195],[-0.7087,0.0221],[-0.6403,0.0248],[-0.5719,0.0275],[-0.5035,0.0292],[-0.4352,0.0328],[-0.3668,0.0347],[-0.2984,0.0363],[-0.23,0.0382],[-0.1616,0.0386],[-0.0933,0.0375],[-0.0249,0.0376],[0.0435,0.0354],[0.1119,0.0351],[0.1803,0.0343],[0.2486,0.0298],[0.317,0.0277],[0.3854,0.0271],[0.4538,0.0235],[0.5222,0.0211],[0.5905,0.0191],[0.6589,0.0177],[0.7273,0.0161],[0.7957,0.013],[0.8641,0.0133],[0.9324,0.0126],[1.0008,0.0112],[1.0692,0.0104],[1.1376,0.0093],[1.206,0.0094],[1.2743,0.0085],[1.3427,0.0077],[1.4111,0.0064],[1.4795,0.0061],[1.5479,0.0054],[1.6162,0.0051],[1.6846,0.0058],[1.753,0.0058],[1.8214,0.0046],[1.8898,0.0048],[1.9581,0.0043],[2.0265,0.0044],[2.0949,0.005],[2.1633,0.0046],[2.2317,0.0037],[2.3,0.0042],[2.3684,0.0043],[2.4368,0.0029],[2.5052,0.0028],[2.5735,0.0025],[2.6419,0.0016],[2.7103,0.0019],[2.7787,0.0008],[2.8471,0.0005],[2.9154,0.0002],[2.9838,0.0002],[3.0522,0.0002],[3.1206,0.0001],[3.189,0.0],[3.2573,0.0],[3.3257,0.0]],\"color\":\"#F08B55\"}],\"xAxis\":{\"title\":{\"text\":\"value\"}}}/bigcharts-data-end</pre></div></div>\n",
       "                \n",
       "            \n",
       "            </div><div class=\"cols\">\n",
       "            \n",
       "                \n",
       "                <div class=\"col\"><div id=\"bigchart-674a32dcb74948108ca648fa78dc5fd4\" class=\"bigchart\"></div><div class=\"bigchart-data\"><pre style=\"display:none\">bigcharts-data-start/{\"chart\":{\"height\":500,\"type\":\"boxplot\",\"renderTo\":\"bigchart-674a32dcb74948108ca648fa78dc5fd4\"},\"legend\":{\"enabled\":true},\"title\":{\"text\":\"\\u5904\\u7406\\u540e\\u56e0\\u5b50\\u884c\\u4e1a\\u5206\\u5e03\"},\"stock\":false,\"series\":[{\"name\":\"\\u5904\\u7406\\u540e\\u56e0\\u5b50\",\"data\":[[-2.8709,-0.7107,-0.0975,0.6904,3.2109],[-2.8138,-0.3813,-0.0614,0.2831,2.6603],[-3.013,-0.5891,-0.1088,0.4934,2.9811],[-1.9974,-0.3861,-0.0979,0.2894,2.6897],[-3.3337,-0.5893,-0.1148,0.5258,2.8497],[-3.1541,-0.7178,-0.0713,0.6976,3.0511],[-2.8619,-0.5488,-0.1163,0.4726,3.1303],[-2.6303,-0.5941,-0.0202,0.4451,2.8004],[-2.9754,-0.5448,-0.0536,0.5057,2.8243],[-2.5703,-0.52,-0.051,0.4239,2.752],[-2.7647,-0.6329,-0.0776,0.5297,2.7956],[-3.5122,-0.5815,-0.0638,0.4934,2.7366],[-2.6465,-0.4805,-0.0375,0.4303,2.7938],[-2.6549,-0.4329,-0.0785,0.3671,2.9327],[-2.6868,-0.4941,-0.0714,0.4005,2.9916],[-2.4346,-0.448,-0.0506,0.3575,3.0181],[-2.1856,-0.5032,-0.0837,0.4427,2.7761],[-1.4601,-0.2654,-0.0459,0.2374,2.0706],[-2.7834,-0.4921,-0.0395,0.3837,2.8521],[-2.2285,-0.5814,-0.0853,0.5011,2.5614],[-2.7466,-0.5732,-0.1108,0.4588,2.6349],[-2.7692,-0.4803,-0.0353,0.4098,2.7504],[-2.5398,-0.5584,-0.0636,0.4683,3.0745],[-2.8588,-0.5547,-0.082,0.4965,2.8252],[-2.4981,-0.4964,-0.0958,0.3736,2.6906],[-3.3476,-0.6447,-0.1196,0.6029,3.0887],[-2.9061,-0.6447,-0.0965,0.5418,3.3257],[-3.1281,-0.676,-0.1341,0.5699,3.1201]],\"color\":\"#F08B55\"}],\"xAxis\":{\"categories\":[\"\\u519c\\u6797\\u7267\\u6e14\",\"\\u91c7\\u6398\",\"\\u5316\\u5de5\",\"\\u94a2\\u94c1\",\"\\u6709\\u8272\\u91d1\\u5c5e\",\"\\u7535\\u5b50\",\"\\u6c7d\\u8f66\",\"\\u5bb6\\u7528\\u7535\\u5668\",\"\\u98df\\u54c1\\u996e\\u6599\",\"\\u7eba\\u7ec7\\u670d\\u88c5\",\"\\u8f7b\\u5de5\\u5236\\u9020\",\"\\u533b\\u836f\\u751f\\u7269\",\"\\u516c\\u7528\\u4e8b\\u4e1a\",\"\\u4ea4\\u901a\\u8fd0\\u8f93\",\"\\u623f\\u5730\\u4ea7\",\"\\u5546\\u4e1a\\u8d38\\u6613\",\"\\u4f11\\u95f2\\u670d\\u52a1\",\"\\u94f6\\u884c\",\"\\u975e\\u94f6\\u91d1\\u878d\",\"\\u7efc\\u5408\",\"\\u5efa\\u7b51\\u6750\\u6599\",\"\\u5efa\\u7b51\\u88c5\\u9970\",\"\\u7535\\u6c14\\u8bbe\\u5907\",\"\\u673a\\u68b0\\u8bbe\\u5907\",\"\\u56fd\\u9632\\u519b\\u5de5\",\"\\u8ba1\\u7b97\\u673a\",\"\\u4f20\\u5a92\",\"\\u901a\\u4fe1\"]}}/bigcharts-data-end</pre></div></div>\n",
       "                \n",
       "            \n",
       "                \n",
       "                <div class=\"col\"><div id=\"bigchart-1a2676ce49d34757b913802951e94405\" class=\"bigchart\"></div><div class=\"bigchart-data\"><pre style=\"display:none\">bigcharts-data-start/{\"chart\":{\"height\":500,\"type\":\"boxplot\",\"renderTo\":\"bigchart-1a2676ce49d34757b913802951e94405\"},\"legend\":{\"enabled\":true},\"title\":{\"text\":\"\\u5904\\u7406\\u540e\\u56e0\\u5b50\\u5e02\\u503c\\u5206\\u5e03\"},\"stock\":false,\"series\":[{\"name\":\"\\u5904\\u7406\\u540e\\u56e0\\u5b50\",\"data\":[[-2.9061,-0.4952,-0.0631,0.3962,3.3257],[-2.9877,-0.5703,-0.0863,0.4691,3.1303],[-3.1281,-0.5798,-0.0519,0.5614,3.2109],[-3.3476,-0.5746,-0.0959,0.5284,3.0887],[-3.5122,-0.5693,-0.0949,0.4749,2.9916]],\"color\":\"#F08B55\"}],\"xAxis\":{\"categories\":[\"\\u8d85\\u5c0f\\u578b\",\"\\u5c0f\\u578b\",\"\\u4e2d\\u578b\",\"\\u5927\\u578b\",\"\\u8d85\\u5927\\u578b\"]}}/bigcharts-data-end</pre></div></div>\n",
       "                \n",
       "            \n",
       "            </div><div class=\"type_title_left\"><p>IC分析<i class=\"fa fa-question-circle-o\" title=\"期初因子值与因子当期收益相关性分析，绝对值越大越好。以及因子值与滞后n期因子收益的相关性分析。\"></i></p></div>\n",
       "        <div class=\"ic_summary\">\n",
       "          <div class=\"item ic_mean\"><label>IC均值</label><p>-0.10</p></div>\n",
       "          <div class=\"item ic_std\"><label>IC标准差</label><p>0.11</p></div>\n",
       "          <div class=\"item ir\"><label>IR值</label><p>-0.87</p></div>\n",
       "          <div class=\"item ic_significance_ratio\"><label>|IC| > 0.02比率</label><p>70.00%</p></div>\n",
       "        </div>\n",
       "        <div class=\"cols\">\n",
       "            \n",
       "                \n",
       "                <div class=\"col\"><div id=\"bigchart-a654857516724134860680b5ac1e974f\" class=\"bigchart\"></div><div class=\"bigchart-data\"><pre style=\"display:none\">bigcharts-data-start/{\"chart\":{\"height\":500,\"type\":\"column\",\"renderTo\":\"bigchart-a654857516724134860680b5ac1e974f\"},\"legend\":{\"enabled\":true},\"title\":{\"text\":\"IC\\u65f6\\u5e8f\\u56fe\"},\"stock\":true,\"series\":[{\"name\":\"IC\",\"yAxis\":0,\"data\":[[1548892800000,-0.3376],[1552262400000,-0.225],[1554940800000,-0.1128],[1557964800000,-0.0054],[1560816000000,-0.1419],[1563408000000,0.0242],[1566172800000,-0.0994],[1568851200000,-0.005],[1572220800000,0.006],[1574812800000,-0.1066]],\"color\":\"#F08B55\"}],\"xAxis\":{\"title\":{\"text\":\"date\"},\"type\":\"datetime\"}}/bigcharts-data-end</pre></div></div>\n",
       "                \n",
       "            \n",
       "                \n",
       "                <div class=\"col\"><div id=\"bigchart-e6bb0cb36b9747908c2f858300658520\" class=\"bigchart\"></div><div class=\"bigchart-data\"><pre style=\"display:none\">bigcharts-data-start/{\"chart\":{\"height\":500,\"type\":\"column\",\"renderTo\":\"bigchart-e6bb0cb36b9747908c2f858300658520\"},\"legend\":{\"enabled\":true},\"title\":{\"text\":\"IC\\u4fe1\\u53f7\\u8870\\u51cf\"},\"stock\":false,\"series\":[{\"name\":\"IC\",\"yAxis\":0,\"data\":[[\"\\u6ede\\u540e0\\u671f\",-0.1003],[\"\\u6ede\\u540e1\\u671f\",0.6711],[\"\\u6ede\\u540e2\\u671f\",0.0672],[\"\\u6ede\\u540e3\\u671f\",-0.0074],[\"\\u6ede\\u540e4\\u671f\",-0.0187]],\"color\":\"#F08B55\"}],\"xAxis\":{\"categories\":[\"\\u6ede\\u540e0\\u671f\",\"\\u6ede\\u540e1\\u671f\",\"\\u6ede\\u540e2\\u671f\",\"\\u6ede\\u540e3\\u671f\",\"\\u6ede\\u540e4\\u671f\"]}}/bigcharts-data-end</pre></div></div>\n",
       "                \n",
       "            \n",
       "            </div><div class=\"type_title_left\"><p>买入信号重合分析<i class=\"fa fa-question-circle-o\" title=\"分布对最小和最大分位组，计算当期和滞后n期所选股票的重合度。\"></i></p></div><div id=\"bigchart-17c8bdc8d45e490f9138a9d214d91430\" class=\"bigchart\"></div><div class=\"bigchart-data\"><pre style=\"display:none\">bigcharts-data-start/{\"chart\":{\"height\":500,\"type\":\"column\",\"renderTo\":\"bigchart-17c8bdc8d45e490f9138a9d214d91430\"},\"legend\":{\"enabled\":true},\"title\":{\"text\":\"\\u4e70\\u5165\\u4fe1\\u53f7\\u91cd\\u5408\\u5ea6\"},\"stock\":false,\"series\":[{\"name\":\"\\u6700\\u5c0f\\u5206\\u4f4d\",\"yAxis\":0,\"data\":[[\"\\u6ede\\u540e1\\u671f\",0.2235],[\"\\u6ede\\u540e2\\u671f\",0.2203],[\"\\u6ede\\u540e3\\u671f\",0.2095],[\"\\u6ede\\u540e4\\u671f\",0.214],[\"\\u6ede\\u540e5\\u671f\",0.2043],[\"\\u6ede\\u540e6\\u671f\",0.2149],[\"\\u6ede\\u540e7\\u671f\",0.2274],[\"\\u6ede\\u540e8\\u671f\",0.1869],[\"\\u6ede\\u540e9\\u671f\",0.2417]],\"color\":\"#F08B55\"},{\"name\":\"\\u6700\\u5927\\u5206\\u4f4d\",\"yAxis\":0,\"data\":[[\"\\u6ede\\u540e1\\u671f\",0.2113],[\"\\u6ede\\u540e2\\u671f\",0.2134],[\"\\u6ede\\u540e3\\u671f\",0.2],[\"\\u6ede\\u540e4\\u671f\",0.2031],[\"\\u6ede\\u540e5\\u671f\",0.2171],[\"\\u6ede\\u540e6\\u671f\",0.2032],[\"\\u6ede\\u540e7\\u671f\",0.2092],[\"\\u6ede\\u540e8\\u671f\",0.2564],[\"\\u6ede\\u540e9\\u671f\",0.2106]],\"color\":\"#648FD5\"}],\"xAxis\":{\"categories\":[\"\\u6ede\\u540e1\\u671f\",\"\\u6ede\\u540e2\\u671f\",\"\\u6ede\\u540e3\\u671f\",\"\\u6ede\\u540e4\\u671f\",\"\\u6ede\\u540e5\\u671f\",\"\\u6ede\\u540e6\\u671f\",\"\\u6ede\\u540e7\\u671f\",\"\\u6ede\\u540e8\\u671f\",\"\\u6ede\\u540e9\\u671f\"]}}/bigcharts-data-end</pre></div><div class=\"type_title_left\"><p>因子估值分析<i class=\"fa fa-question-circle-o\" title=\"衡量因子估值高低，估值越低，该因子越可以加大配置。\"></i></p></div><div id=\"bigchart-feef0a30419c42e08770e4f7000ba4f8\" class=\"bigchart\"></div><div class=\"bigchart-data\"><pre style=\"display:none\">bigcharts-data-start/{\"chart\":{\"height\":500,\"renderTo\":\"bigchart-feef0a30419c42e08770e4f7000ba4f8\"},\"legend\":{\"enabled\":true},\"title\":{\"text\":\"PB\\u4f30\\u503c\\u5206\\u6790\"},\"stock\":true,\"series\":[{\"name\":\"1\\u5206\\u4f4d\\u6570\",\"yAxis\":0,\"data\":[[1546387200000,null],[1546473600000,null],[1546560000000,null],[1546819200000,null],[1546905600000,null],[1546992000000,null],[1547078400000,null],[1547164800000,null],[1547424000000,null],[1547510400000,null],[1547596800000,null],[1547683200000,null],[1547769600000,null],[1548028800000,null],[1548115200000,null],[1548201600000,null],[1548288000000,null],[1548374400000,null],[1548633600000,null],[1548720000000,null],[1548806400000,null],[1548892800000,null],[1548979200000,1.9699],[1549843200000,2.0129],[1549929600000,2.0493],[1550016000000,2.0949],[1550102400000,2.1076],[1550188800000,2.1182],[1550448000000,2.2078],[1550534400000,2.2435],[1550620800000,2.2216],[1550707200000,2.3077],[1550793600000,2.3817],[1551052800000,2.5553],[1551139200000,2.5305],[1551225600000,2.5291],[1551312000000,2.5757],[1551398400000,2.5819],[1551657600000,2.6105],[1551744000000,2.7049],[1551830400000,2.7397],[1551916800000,2.854],[1552003200000,2.6575],[1552262400000,2.8533],[1552348800000,2.8755],[1552435200000,2.8519],[1552521600000,2.7791],[1552608000000,2.8297],[1552867200000,2.892],[1552953600000,2.9231],[1553040000000,2.9059],[1553126400000,2.9415],[1553212800000,2.9227],[1553472000000,2.8971],[1553558400000,2.8449],[1553644800000,2.85],[1553731200000,2.8257],[1553817600000,2.9008],[1554076800000,2.9398],[1554163200000,2.9761],[1554249600000,3.0068],[1554336000000,3.0242],[1554681600000,3.063],[1554768000000,3.0672],[1554854400000,3.0768],[1554940800000,2.9891],[1555027200000,3.214],[1555286400000,3.1995],[1555372800000,3.249],[1555459200000,3.3155],[1555545600000,3.2975],[1555632000000,3.3087],[1555891200000,3.3023],[1555977600000,3.2703],[1556064000000,3.2835],[1556150400000,3.1531],[1556236800000,3.1342],[1556496000000,3.0471],[1556582400000,3.0135],[1557100800000,2.6164],[1557187200000,2.8401],[1557273600000,2.8526],[1557360000000,2.8264],[1557446400000,2.908],[1557705600000,2.8629],[1557792000000,2.8439],[1557878400000,2.9293],[1557964800000,2.9439],[1558051200000,2.3679],[1558310400000,2.3432],[1558396800000,2.3846],[1558483200000,2.3594],[1558569600000,2.3056],[1558656000000,2.2831],[1558915200000,2.35],[1559001600000,2.3582],[1559088000000,2.3991],[1559174400000,2.39],[1559260800000,2.3908],[1559520000000,2.3519],[1559606400000,2.3093],[1559692800000,2.2955],[1559779200000,2.2338],[1560124800000,2.2789],[1560211200000,2.3601],[1560297600000,2.3643],[1560384000000,2.3946],[1560470400000,2.3302],[1560729600000,2.3304],[1560816000000,2.341],[1560902400000,2.4287],[1560988800000,2.5031],[1561075200000,2.5491],[1561334400000,2.5309],[1561420800000,2.5416],[1561507200000,2.5245],[1561593600000,2.5518],[1561680000000,2.4999],[1561939200000,2.5828],[1562025600000,2.6174],[1562112000000,2.6122],[1562198400000,2.6013],[1562284800000,2.6047],[1562544000000,2.5197],[1562630400000,2.5367],[1562716800000,2.5138],[1562803200000,2.5143],[1562889600000,2.5046],[1563148800000,2.5059],[1563235200000,2.5158],[1563321600000,2.5267],[1563408000000,2.4623],[1563494400000,2.5637],[1563753600000,2.4528],[1563840000000,2.4799],[1563926400000,2.5651],[1564012800000,2.5416],[1564099200000,2.5432],[1564358400000,2.5389],[1564444800000,2.5518],[1564531200000,2.5532],[1564617600000,2.5482],[1564704000000,2.5058],[1564963200000,2.5069],[1565049600000,2.3876],[1565136000000,2.3911],[1565222400000,2.4151],[1565308800000,2.385],[1565568000000,2.4004],[1565654400000,2.4079],[1565740800000,2.4365],[1565827200000,2.4353],[1565913600000,2.448],[1566172800000,2.4847],[1566259200000,2.0021],[1566345600000,2.0145],[1566432000000,2.0272],[1566518400000,2.0153],[1566777600000,2.0168],[1566864000000,2.0778],[1566950400000,2.0712],[1567036800000,2.0591],[1567123200000,2.0248],[1567382400000,2.0669],[1567468800000,2.0757],[1567555200000,2.0924],[1567641600000,2.1054],[1567728000000,2.1277],[1567987200000,2.1788],[1568073600000,2.1786],[1568160000000,2.1675],[1568246400000,2.2075],[1568592000000,2.1873],[1568678400000,2.1349],[1568764800000,2.1451],[1568851200000,2.1774],[1568937600000,2.2754],[1569196800000,2.232],[1569283200000,2.2306],[1569369600000,2.1867],[1569456000000,2.1074],[1569542400000,2.1376],[1569801600000,2.1245],[1570492800000,2.1458],[1570579200000,2.1735],[1570665600000,2.1769],[1570752000000,2.1868],[1571011200000,2.2023],[1571097600000,2.1699],[1571184000000,2.1674],[1571270400000,2.1676],[1571356800000,2.1379],[1571616000000,2.1487],[1571702400000,2.1541],[1571788800000,2.1576],[1571875200000,2.1414],[1571961600000,2.1319],[1572220800000,2.1796],[1572307200000,2.6572],[1572393600000,2.6612],[1572480000000,2.5867],[1572566400000,2.627],[1572825600000,2.6349],[1572912000000,2.6379],[1572998400000,2.5714],[1573084800000,2.6443],[1573171200000,2.6052],[1573430400000,2.5396],[1573516800000,2.5253],[1573603200000,2.544],[1573689600000,2.5933],[1573776000000,2.5462],[1574035200000,2.5741],[1574121600000,2.622],[1574208000000,2.6242],[1574294400000,2.5988],[1574380800000,2.5879],[1574640000000,2.6376],[1574726400000,2.6186],[1574812800000,2.557],[1574899200000,2.8522],[1574985600000,2.8713],[1575244800000,2.8723],[1575331200000,2.8969],[1575417600000,2.8854],[1575504000000,2.9131],[1575590400000,2.9098],[1575849600000,2.9431],[1575936000000,2.9515],[1576022400000,2.9652],[1576108800000,2.9488],[1576195200000,2.9749],[1576454400000,3.011],[1576540800000,3.0907],[1576627200000,3.106],[1576713600000,3.1121],[1576800000000,3.0596],[1577059200000,2.9962],[1577145600000,3.0533],[1577232000000,3.0459],[1577318400000,3.1047],[1577404800000,3.05],[1577664000000,2.8648],[1577750400000,2.8755]],\"color\":\"#F08B55\"},{\"name\":\"2\\u5206\\u4f4d\\u6570\",\"yAxis\":0,\"data\":[[1546387200000,null],[1546473600000,null],[1546560000000,null],[1546819200000,null],[1546905600000,null],[1546992000000,null],[1547078400000,null],[1547164800000,null],[1547424000000,null],[1547510400000,null],[1547596800000,null],[1547683200000,null],[1547769600000,null],[1548028800000,null],[1548115200000,null],[1548201600000,null],[1548288000000,null],[1548374400000,null],[1548633600000,null],[1548720000000,null],[1548806400000,null],[1548892800000,null],[1548979200000,1.9199],[1549843200000,1.9587],[1549929600000,1.9948],[1550016000000,2.0412],[1550102400000,2.0488],[1550188800000,2.0368],[1550448000000,2.126],[1550534400000,2.1392],[1550620800000,2.1205],[1550707200000,2.0945],[1550793600000,2.165],[1551052800000,2.2748],[1551139200000,2.2424],[1551225600000,2.2596],[1551312000000,2.248],[1551398400000,2.2663],[1551657600000,2.2994],[1551744000000,2.3762],[1551830400000,2.4083],[1551916800000,2.477],[1552003200000,2.3721],[1552262400000,2.4628],[1552348800000,2.4279],[1552435200000,2.4069],[1552521600000,2.3372],[1552608000000,2.3801],[1552867200000,2.4678],[1552953600000,2.4725],[1553040000000,2.4637],[1553126400000,2.5021],[1553212800000,2.5018],[1553472000000,2.4868],[1553558400000,2.4063],[1553644800000,2.4319],[1553731200000,2.4007],[1553817600000,2.4187],[1554076800000,2.5268],[1554163200000,2.5462],[1554249600000,2.5813],[1554336000000,2.6042],[1554681600000,2.6107],[1554768000000,2.6018],[1554854400000,2.5807],[1554940800000,2.5464],[1555027200000,2.5554],[1555286400000,2.5187],[1555372800000,2.5528],[1555459200000,2.5674],[1555545600000,2.5801],[1555632000000,2.5826],[1555891200000,2.5547],[1555977600000,2.4978],[1556064000000,2.5317],[1556150400000,2.4119],[1556236800000,2.3709],[1556496000000,2.2375],[1556582400000,2.2783],[1557100800000,1.9936],[1557187200000,2.1327],[1557273600000,2.1353],[1557360000000,2.1534],[1557446400000,2.1904],[1557705600000,2.1883],[1557792000000,2.1659],[1557878400000,2.1855],[1557964800000,2.2201],[1558051200000,2.0811],[1558310400000,2.0703],[1558396800000,2.1148],[1558483200000,2.1121],[1558569600000,2.0613],[1558656000000,2.038],[1558915200000,2.0851],[1559001600000,2.0866],[1559088000000,2.1194],[1559174400000,2.1036],[1559260800000,2.1282],[1559520000000,2.0971],[1559606400000,2.0622],[1559692800000,2.0407],[1559779200000,2.0035],[1560124800000,2.0035],[1560211200000,2.0784],[1560297600000,2.0718],[1560384000000,2.096],[1560470400000,2.0394],[1560729600000,2.0336],[1560816000000,2.0603],[1560902400000,2.1503],[1560988800000,2.2202],[1561075200000,2.269],[1561334400000,2.2804],[1561420800000,2.2677],[1561507200000,2.2372],[1561593600000,2.2531],[1561680000000,2.2359],[1561939200000,2.2955],[1562025600000,2.2884],[1562112000000,2.2802],[1562198400000,2.2892],[1562284800000,2.2894],[1562544000000,2.1867],[1562630400000,2.1977],[1562716800000,2.1855],[1562803200000,2.1751],[1562889600000,2.2008],[1563148800000,2.2092],[1563235200000,2.2117],[1563321600000,2.2225],[1563408000000,2.1561],[1563494400000,2.1448],[1563753600000,2.0837],[1563840000000,2.1117],[1563926400000,2.107],[1564012800000,2.1041],[1564099200000,2.1084],[1564358400000,2.0897],[1564444800000,2.1125],[1564531200000,2.1067],[1564617600000,2.0877],[1564704000000,2.0645],[1564963200000,2.0405],[1565049600000,1.9596],[1565136000000,1.9553],[1565222400000,1.9928],[1565308800000,1.9622],[1565568000000,1.9706],[1565654400000,1.9529],[1565740800000,1.9794],[1565827200000,1.9727],[1565913600000,1.9831],[1566172800000,2.0563],[1566259200000,1.9474],[1566345600000,1.9558],[1566432000000,1.9443],[1566518400000,1.9232],[1566777600000,1.9234],[1566864000000,1.9448],[1566950400000,1.9492],[1567036800000,1.9293],[1567123200000,1.9047],[1567382400000,1.9633],[1567468800000,1.9614],[1567555200000,1.9892],[1567641600000,2.0058],[1567728000000,2.008],[1567987200000,2.0478],[1568073600000,2.0532],[1568160000000,2.0424],[1568246400000,2.0706],[1568592000000,2.0683],[1568678400000,2.028],[1568764800000,2.0196],[1568851200000,2.0307],[1568937600000,1.9422],[1569196800000,1.9409],[1569283200000,1.9365],[1569369600000,1.8991],[1569456000000,1.8385],[1569542400000,1.8602],[1569801600000,1.8534],[1570492800000,1.8547],[1570579200000,1.8787],[1570665600000,1.8721],[1570752000000,1.8801],[1571011200000,1.9083],[1571097600000,1.8741],[1571184000000,1.8675],[1571270400000,1.8583],[1571356800000,1.831],[1571616000000,1.8306],[1571702400000,1.8499],[1571788800000,1.8429],[1571875200000,1.831],[1571961600000,1.8639],[1572220800000,1.8667],[1572307200000,1.9919],[1572393600000,1.9486],[1572480000000,1.9162],[1572566400000,1.9395],[1572825600000,1.9503],[1572912000000,1.9445],[1572998400000,1.9315],[1573084800000,1.9387],[1573171200000,1.9344],[1573430400000,1.8772],[1573516800000,1.8868],[1573603200000,1.8817],[1573689600000,1.8938],[1573776000000,1.8557],[1574035200000,1.8723],[1574121600000,1.8946],[1574208000000,1.889],[1574294400000,1.8818],[1574380800000,1.8692],[1574640000000,1.8657],[1574726400000,1.8632],[1574812800000,1.859],[1574899200000,2.1908],[1574985600000,2.1934],[1575244800000,2.2032],[1575331200000,2.2104],[1575417600000,2.2186],[1575504000000,2.2336],[1575590400000,2.2627],[1575849600000,2.2566],[1575936000000,2.2722],[1576022400000,2.2932],[1576108800000,2.2636],[1576195200000,2.2915],[1576454400000,2.3184],[1576540800000,2.3452],[1576627200000,2.3537],[1576713600000,2.397],[1576800000000,2.3665],[1577059200000,2.2843],[1577145600000,2.3251],[1577232000000,2.3402],[1577318400000,2.3636],[1577404800000,2.3587],[1577664000000,2.048],[1577750400000,2.0543]],\"color\":\"#648FD5\"},{\"name\":\"3\\u5206\\u4f4d\\u6570\",\"yAxis\":0,\"data\":[[1546387200000,null],[1546473600000,null],[1546560000000,null],[1546819200000,null],[1546905600000,null],[1546992000000,null],[1547078400000,null],[1547164800000,null],[1547424000000,null],[1547510400000,null],[1547596800000,null],[1547683200000,null],[1547769600000,null],[1548028800000,null],[1548115200000,null],[1548201600000,null],[1548288000000,null],[1548374400000,null],[1548633600000,null],[1548720000000,null],[1548806400000,null],[1548892800000,null],[1548979200000,1.8113],[1549843200000,1.8614],[1549929600000,1.8848],[1550016000000,1.9295],[1550102400000,1.9362],[1550188800000,1.9539],[1550448000000,2.0104],[1550534400000,2.0096],[1550620800000,2.0261],[1550707200000,1.9936],[1550793600000,2.0368],[1551052800000,2.1439],[1551139200000,2.1427],[1551225600000,2.1378],[1551312000000,2.1512],[1551398400000,2.1653],[1551657600000,2.1704],[1551744000000,2.2134],[1551830400000,2.246],[1551916800000,2.2748],[1552003200000,2.1575],[1552262400000,2.2604],[1552348800000,2.2736],[1552435200000,2.2436],[1552521600000,2.1785],[1552608000000,2.2146],[1552867200000,2.2644],[1552953600000,2.2836],[1553040000000,2.2764],[1553126400000,2.274],[1553212800000,2.3186],[1553472000000,2.2893],[1553558400000,2.2474],[1553644800000,2.2425],[1553731200000,2.1808],[1553817600000,2.2694],[1554076800000,2.3349],[1554163200000,2.3376],[1554249600000,2.3867],[1554336000000,2.3929],[1554681600000,2.4215],[1554768000000,2.4537],[1554854400000,2.3918],[1554940800000,2.3636],[1555027200000,2.3184],[1555286400000,2.2856],[1555372800000,2.31],[1555459200000,2.3701],[1555545600000,2.36],[1555632000000,2.3561],[1555891200000,2.3217],[1555977600000,2.3042],[1556064000000,2.3281],[1556150400000,2.2321],[1556236800000,2.2021],[1556496000000,2.1096],[1556582400000,2.1038],[1557100800000,1.8436],[1557187200000,1.9909],[1557273600000,1.991],[1557360000000,1.986],[1557446400000,2.0377],[1557705600000,2.0519],[1557792000000,2.0598],[1557878400000,2.0881],[1557964800000,2.0933],[1558051200000,2.0883],[1558310400000,2.0821],[1558396800000,2.1191],[1558483200000,2.1046],[1558569600000,2.0796],[1558656000000,2.0522],[1558915200000,2.0915],[1559001600000,2.1281],[1559088000000,2.1285],[1559174400000,2.1286],[1559260800000,2.1071],[1559520000000,2.0905],[1559606400000,2.0549],[1559692800000,2.0629],[1559779200000,1.995],[1560124800000,2.0329],[1560211200000,2.1093],[1560297600000,2.1014],[1560384000000,2.1206],[1560470400000,2.0651],[1560729600000,2.0754],[1560816000000,2.0669],[1560902400000,1.9432],[1560988800000,2.0044],[1561075200000,2.0231],[1561334400000,2.0166],[1561420800000,1.9967],[1561507200000,1.9876],[1561593600000,2.0017],[1561680000000,1.9781],[1561939200000,2.0147],[1562025600000,2.0411],[1562112000000,2.0052],[1562198400000,1.991],[1562284800000,2.0018],[1562544000000,1.9282],[1562630400000,1.9459],[1562716800000,1.9331],[1562803200000,1.9441],[1562889600000,1.946],[1563148800000,1.9725],[1563235200000,1.9853],[1563321600000,1.9824],[1563408000000,1.9376],[1563494400000,2.0536],[1563753600000,2.0239],[1563840000000,2.0419],[1563926400000,2.0551],[1564012800000,2.0401],[1564099200000,2.0439],[1564358400000,2.0467],[1564444800000,2.057],[1564531200000,2.0287],[1564617600000,2.0329],[1564704000000,1.9788],[1564963200000,1.9515],[1565049600000,1.8857],[1565136000000,1.8935],[1565222400000,1.8975],[1565308800000,1.8742],[1565568000000,1.9073],[1565654400000,1.8842],[1565740800000,1.9081],[1565827200000,1.9003],[1565913600000,1.9088],[1566172800000,1.9593],[1566259200000,1.9578],[1566345600000,1.9568],[1566432000000,1.9654],[1566518400000,1.9442],[1566777600000,1.9243],[1566864000000,1.9769],[1566950400000,1.9619],[1567036800000,1.9552],[1567123200000,1.9199],[1567382400000,1.9431],[1567468800000,1.9584],[1567555200000,2.0026],[1567641600000,2.0028],[1567728000000,2.0111],[1567987200000,2.0113],[1568073600000,2.0322],[1568160000000,2.0364],[1568246400000,2.0459],[1568592000000,2.0543],[1568678400000,2.0042],[1568764800000,1.9937],[1568851200000,2.0124],[1568937600000,2.0639],[1569196800000,2.0415],[1569283200000,2.0382],[1569369600000,2.0062],[1569456000000,1.9483],[1569542400000,1.99],[1569801600000,1.965],[1570492800000,1.96],[1570579200000,1.9691],[1570665600000,2.0042],[1570752000000,2.0009],[1571011200000,2.0488],[1571097600000,2.0083],[1571184000000,1.9843],[1571270400000,1.9762],[1571356800000,1.9523],[1571616000000,1.9475],[1571702400000,1.9638],[1571788800000,1.9721],[1571875200000,1.956],[1571961600000,1.9755],[1572220800000,1.9755],[1572307200000,1.8554],[1572393600000,1.8162],[1572480000000,1.786],[1572566400000,1.7996],[1572825600000,1.7984],[1572912000000,1.7918],[1572998400000,1.7703],[1573084800000,1.7853],[1573171200000,1.7753],[1573430400000,1.7247],[1573516800000,1.7297],[1573603200000,1.7161],[1573689600000,1.7199],[1573776000000,1.694],[1574035200000,1.7009],[1574121600000,1.7378],[1574208000000,1.7454],[1574294400000,1.7383],[1574380800000,1.7368],[1574640000000,1.72],[1574726400000,1.7037],[1574812800000,1.7264],[1574899200000,1.7679],[1574985600000,1.7738],[1575244800000,1.7713],[1575331200000,1.7775],[1575417600000,1.7763],[1575504000000,1.797],[1575590400000,1.8044],[1575849600000,1.8034],[1575936000000,1.7985],[1576022400000,1.7992],[1576108800000,1.7843],[1576195200000,1.807],[1576454400000,1.8411],[1576540800000,1.8632],[1576627200000,1.8516],[1576713600000,1.882],[1576800000000,1.8632],[1577059200000,1.8134],[1577145600000,1.842],[1577232000000,1.8583],[1577318400000,1.8837],[1577404800000,1.8799],[1577664000000,1.8445],[1577750400000,1.855]],\"color\":\"#E06681\"},{\"name\":\"4\\u5206\\u4f4d\\u6570\",\"yAxis\":0,\"data\":[[1546387200000,null],[1546473600000,null],[1546560000000,null],[1546819200000,null],[1546905600000,null],[1546992000000,null],[1547078400000,null],[1547164800000,null],[1547424000000,null],[1547510400000,null],[1547596800000,null],[1547683200000,null],[1547769600000,null],[1548028800000,null],[1548115200000,null],[1548201600000,null],[1548288000000,null],[1548374400000,null],[1548633600000,null],[1548720000000,null],[1548806400000,null],[1548892800000,null],[1548979200000,1.8683],[1549843200000,1.8992],[1549929600000,1.9178],[1550016000000,1.9414],[1550102400000,1.9496],[1550188800000,1.9376],[1550448000000,2.0172],[1550534400000,2.0058],[1550620800000,2.0194],[1550707200000,2.0078],[1550793600000,2.0481],[1551052800000,2.168],[1551139200000,2.1147],[1551225600000,2.0919],[1551312000000,2.1019],[1551398400000,2.1094],[1551657600000,2.1147],[1551744000000,2.1943],[1551830400000,2.2753],[1551916800000,2.288],[1552003200000,2.2342],[1552262400000,2.2867],[1552348800000,2.3989],[1552435200000,2.3499],[1552521600000,2.2887],[1552608000000,2.3163],[1552867200000,2.4014],[1552953600000,2.3936],[1553040000000,2.4157],[1553126400000,2.4516],[1553212800000,2.4305],[1553472000000,2.4046],[1553558400000,2.333],[1553644800000,2.3534],[1553731200000,2.3222],[1553817600000,2.3847],[1554076800000,2.4592],[1554163200000,2.5144],[1554249600000,2.5163],[1554336000000,2.5424],[1554681600000,2.5394],[1554768000000,2.5264],[1554854400000,2.5654],[1554940800000,2.5365],[1555027200000,2.4275],[1555286400000,2.3852],[1555372800000,2.422],[1555459200000,2.4073],[1555545600000,2.4027],[1555632000000,2.4341],[1555891200000,2.4315],[1555977600000,2.3808],[1556064000000,2.4166],[1556150400000,2.2992],[1556236800000,2.3017],[1556496000000,2.1941],[1556582400000,2.2679],[1557100800000,1.9009],[1557187200000,2.0906],[1557273600000,2.0875],[1557360000000,2.0902],[1557446400000,2.1135],[1557705600000,2.1574],[1557792000000,2.1345],[1557878400000,2.1795],[1557964800000,2.1769],[1558051200000,2.2344],[1558310400000,2.2191],[1558396800000,2.2739],[1558483200000,2.2382],[1558569600000,2.2057],[1558656000000,2.1904],[1558915200000,2.2561],[1559001600000,2.2598],[1559088000000,2.2657],[1559174400000,2.263],[1559260800000,2.2606],[1559520000000,2.2251],[1559606400000,2.1704],[1559692800000,2.1791],[1559779200000,2.1359],[1560124800000,2.1621],[1560211200000,2.2225],[1560297600000,2.222],[1560384000000,2.2465],[1560470400000,2.204],[1560729600000,2.2161],[1560816000000,2.2542],[1560902400000,2.1449],[1560988800000,2.1975],[1561075200000,2.2166],[1561334400000,2.2436],[1561420800000,2.2021],[1561507200000,2.1995],[1561593600000,2.2194],[1561680000000,2.1798],[1561939200000,2.2394],[1562025600000,2.2427],[1562112000000,2.2203],[1562198400000,2.2069],[1562284800000,2.2081],[1562544000000,2.1132],[1562630400000,2.1156],[1562716800000,2.0852],[1562803200000,2.099],[1562889600000,2.1152],[1563148800000,2.1302],[1563235200000,2.1373],[1563321600000,2.1394],[1563408000000,2.1011],[1563494400000,2.0809],[1563753600000,2.018],[1563840000000,2.0273],[1563926400000,2.0586],[1564012800000,2.0893],[1564099200000,2.068],[1564358400000,2.0697],[1564444800000,2.0753],[1564531200000,2.0651],[1564617600000,2.0565],[1564704000000,2.0056],[1564963200000,1.9868],[1565049600000,1.9165],[1565136000000,1.9065],[1565222400000,1.9166],[1565308800000,1.8998],[1565568000000,1.9223],[1565654400000,1.9033],[1565740800000,1.9071],[1565827200000,1.8988],[1565913600000,1.8983],[1566172800000,1.9371],[1566259200000,2.2346],[1566345600000,2.2451],[1566432000000,2.2423],[1566518400000,2.2377],[1566777600000,2.2116],[1566864000000,2.2384],[1566950400000,2.2378],[1567036800000,2.2313],[1567123200000,2.1666],[1567382400000,2.1883],[1567468800000,2.2168],[1567555200000,2.2322],[1567641600000,2.2432],[1567728000000,2.2581],[1567987200000,2.2914],[1568073600000,2.3163],[1568160000000,2.3417],[1568246400000,2.3316],[1568592000000,2.3196],[1568678400000,2.2424],[1568764800000,2.2942],[1568851200000,2.3137],[1568937600000,2.4673],[1569196800000,2.4408],[1569283200000,2.4388],[1569369600000,2.3886],[1569456000000,2.3019],[1569542400000,2.3626],[1569801600000,2.3357],[1570492800000,2.3288],[1570579200000,2.3561],[1570665600000,2.3745],[1570752000000,2.3978],[1571011200000,2.4369],[1571097600000,2.3821],[1571184000000,2.3668],[1571270400000,2.3585],[1571356800000,2.3307],[1571616000000,2.3491],[1571702400000,2.3548],[1571788800000,2.34],[1571875200000,2.3364],[1571961600000,2.3435],[1572220800000,2.3575],[1572307200000,2.0469],[1572393600000,1.9932],[1572480000000,1.9705],[1572566400000,1.9701],[1572825600000,1.9681],[1572912000000,1.9751],[1572998400000,1.9699],[1573084800000,1.9782],[1573171200000,1.9877],[1573430400000,1.9277],[1573516800000,1.9365],[1573603200000,1.9291],[1573689600000,1.9325],[1573776000000,1.8965],[1574035200000,1.9214],[1574121600000,1.9464],[1574208000000,1.9375],[1574294400000,1.9295],[1574380800000,1.9046],[1574640000000,1.9304],[1574726400000,1.9157],[1574812800000,1.9024],[1574899200000,1.7431],[1574985600000,1.7405],[1575244800000,1.7307],[1575331200000,1.7417],[1575417600000,1.7386],[1575504000000,1.7467],[1575590400000,1.7554],[1575849600000,1.7436],[1575936000000,1.7583],[1576022400000,1.7422],[1576108800000,1.7399],[1576195200000,1.7467],[1576454400000,1.7825],[1576540800000,1.8166],[1576627200000,1.8169],[1576713600000,1.8436],[1576800000000,1.8204],[1577059200000,1.784],[1577145600000,1.8081],[1577232000000,1.8151],[1577318400000,1.8237],[1577404800000,1.8144],[1577664000000,2.1318],[1577750400000,2.1585]],\"color\":\"#E2D269\"},{\"name\":\"5\\u5206\\u4f4d\\u6570\",\"yAxis\":0,\"data\":[[1546387200000,null],[1546473600000,null],[1546560000000,null],[1546819200000,null],[1546905600000,null],[1546992000000,null],[1547078400000,null],[1547164800000,null],[1547424000000,null],[1547510400000,null],[1547596800000,null],[1547683200000,null],[1547769600000,null],[1548028800000,null],[1548115200000,null],[1548201600000,null],[1548288000000,null],[1548374400000,null],[1548633600000,null],[1548720000000,null],[1548806400000,null],[1548892800000,null],[1548979200000,2.3227],[1549843200000,2.4052],[1549929600000,2.4145],[1550016000000,2.4403],[1550102400000,2.4451],[1550188800000,2.4173],[1550448000000,2.5101],[1550534400000,2.5093],[1550620800000,2.5084],[1550707200000,2.4885],[1550793600000,2.5386],[1551052800000,2.653],[1551139200000,2.5848],[1551225600000,2.591],[1551312000000,2.6007],[1551398400000,2.6305],[1551657600000,2.6708],[1551744000000,2.7215],[1551830400000,2.7783],[1551916800000,2.8255],[1552003200000,2.7212],[1552262400000,2.8441],[1552348800000,2.865],[1552435200000,2.7478],[1552521600000,2.6294],[1552608000000,2.6958],[1552867200000,2.7254],[1552953600000,2.7576],[1553040000000,2.7756],[1553126400000,2.7834],[1553212800000,2.8255],[1553472000000,2.7512],[1553558400000,2.7098],[1553644800000,2.689],[1553731200000,2.6669],[1553817600000,2.7348],[1554076800000,2.8287],[1554163200000,2.8584],[1554249600000,2.8699],[1554336000000,2.8967],[1554681600000,2.8574],[1554768000000,2.8573],[1554854400000,2.8763],[1554940800000,2.8495],[1555027200000,2.8783],[1555286400000,2.8923],[1555372800000,2.8927],[1555459200000,2.9329],[1555545600000,2.9011],[1555632000000,2.9228],[1555891200000,2.8812],[1555977600000,2.8284],[1556064000000,2.8583],[1556150400000,2.7114],[1556236800000,2.6544],[1556496000000,2.5496],[1556582400000,2.5679],[1557100800000,2.2601],[1557187200000,2.393],[1557273600000,2.4073],[1557360000000,2.36],[1557446400000,2.4397],[1557705600000,2.4414],[1557792000000,2.445],[1557878400000,2.516],[1557964800000,2.5373],[1558051200000,2.9466],[1558310400000,2.8658],[1558396800000,2.9259],[1558483200000,2.9057],[1558569600000,2.8386],[1558656000000,2.7992],[1558915200000,2.8715],[1559001600000,2.9222],[1559088000000,2.922],[1559174400000,2.9398],[1559260800000,2.8964],[1559520000000,2.8178],[1559606400000,2.7884],[1559692800000,2.764],[1559779200000,2.6955],[1560124800000,2.72],[1560211200000,2.8607],[1560297600000,2.8396],[1560384000000,2.9147],[1560470400000,2.8013],[1560729600000,2.8023],[1560816000000,2.8334],[1560902400000,2.8161],[1560988800000,2.868],[1561075200000,2.874],[1561334400000,2.8682],[1561420800000,2.8423],[1561507200000,2.8911],[1561593600000,2.9049],[1561680000000,2.8366],[1561939200000,2.889],[1562025600000,2.8996],[1562112000000,2.8647],[1562198400000,2.8385],[1562284800000,2.8251],[1562544000000,2.7233],[1562630400000,2.7383],[1562716800000,2.7379],[1562803200000,2.7352],[1562889600000,2.7253],[1563148800000,2.7702],[1563235200000,2.7709],[1563321600000,2.7639],[1563408000000,2.7331],[1563494400000,2.6996],[1563753600000,2.6275],[1563840000000,2.6598],[1563926400000,2.6937],[1564012800000,2.6846],[1564099200000,2.708],[1564358400000,2.7063],[1564444800000,2.6965],[1564531200000,2.6965],[1564617600000,2.6783],[1564704000000,2.6444],[1564963200000,2.6043],[1565049600000,2.5436],[1565136000000,2.5083],[1565222400000,2.5388],[1565308800000,2.5277],[1565568000000,2.5669],[1565654400000,2.5332],[1565740800000,2.551],[1565827200000,2.5509],[1565913600000,2.5774],[1566172800000,2.6131],[1566259200000,3.3455],[1566345600000,3.3346],[1566432000000,3.328],[1566518400000,3.2884],[1566777600000,3.2848],[1566864000000,3.2968],[1566950400000,3.275],[1567036800000,3.2909],[1567123200000,3.2222],[1567382400000,3.274],[1567468800000,3.3484],[1567555200000,3.3551],[1567641600000,3.3986],[1567728000000,3.4165],[1567987200000,3.4982],[1568073600000,3.5227],[1568160000000,3.4558],[1568246400000,3.4759],[1568592000000,3.4894],[1568678400000,3.3861],[1568764800000,3.3907],[1568851200000,3.4454],[1568937600000,3.0676],[1569196800000,3.0576],[1569283200000,3.0427],[1569369600000,3.0091],[1569456000000,2.8756],[1569542400000,2.9393],[1569801600000,2.8963],[1570492800000,2.904],[1570579200000,2.9358],[1570665600000,2.9657],[1570752000000,2.9559],[1571011200000,2.9721],[1571097600000,2.9426],[1571184000000,2.9139],[1571270400000,2.9196],[1571356800000,2.9012],[1571616000000,2.8065],[1571702400000,2.8767],[1571788800000,2.8786],[1571875200000,2.8772],[1571961600000,2.8969],[1572220800000,2.9456],[1572307200000,2.8124],[1572393600000,2.8149],[1572480000000,2.7571],[1572566400000,2.7809],[1572825600000,2.7933],[1572912000000,2.7997],[1572998400000,2.7781],[1573084800000,2.7993],[1573171200000,2.7828],[1573430400000,2.7018],[1573516800000,2.7169],[1573603200000,2.7286],[1573689600000,2.7664],[1573776000000,2.6844],[1574035200000,2.7296],[1574121600000,2.8084],[1574208000000,2.8171],[1574294400000,2.8014],[1574380800000,2.7386],[1574640000000,2.726],[1574726400000,2.6913],[1574812800000,2.6767],[1574899200000,2.3669],[1574985600000,2.3524],[1575244800000,2.3574],[1575331200000,2.3835],[1575417600000,2.3834],[1575504000000,2.3869],[1575590400000,2.4192],[1575849600000,2.4332],[1575936000000,2.4701],[1576022400000,2.4639],[1576108800000,2.4356],[1576195200000,2.4184],[1576454400000,2.4496],[1576540800000,2.5063],[1576627200000,2.5069],[1576713600000,2.5358],[1576800000000,2.5274],[1577059200000,2.4697],[1577145600000,2.5252],[1577232000000,2.5019],[1577318400000,2.5358],[1577404800000,2.5218],[1577664000000,2.8884],[1577750400000,2.8652]],\"color\":\"#4A8E8E\"},{\"name\":\"\\u6700\\u5c0f\\/\\u6700\\u5927\\u5206\\u4f4d\",\"yAxis\":0,\"data\":[[1546387200000,null],[1546473600000,null],[1546560000000,null],[1546819200000,null],[1546905600000,null],[1546992000000,null],[1547078400000,null],[1547164800000,null],[1547424000000,null],[1547510400000,null],[1547596800000,null],[1547683200000,null],[1547769600000,null],[1548028800000,null],[1548115200000,null],[1548201600000,null],[1548288000000,null],[1548374400000,null],[1548633600000,null],[1548720000000,null],[1548806400000,null],[1548892800000,null],[1548979200000,0.8481],[1549843200000,0.8369],[1549929600000,0.8487],[1550016000000,0.8585],[1550102400000,0.862],[1550188800000,0.8763],[1550448000000,0.8796],[1550534400000,0.894],[1550620800000,0.8857],[1550707200000,0.9274],[1550793600000,0.9382],[1551052800000,0.9632],[1551139200000,0.979],[1551225600000,0.9761],[1551312000000,0.9904],[1551398400000,0.9815],[1551657600000,0.9775],[1551744000000,0.9939],[1551830400000,0.9861],[1551916800000,1.0101],[1552003200000,0.9766],[1552262400000,1.0033],[1552348800000,1.0037],[1552435200000,1.0379],[1552521600000,1.057],[1552608000000,1.0497],[1552867200000,1.0611],[1552953600000,1.06],[1553040000000,1.0469],[1553126400000,1.0568],[1553212800000,1.0344],[1553472000000,1.053],[1553558400000,1.0499],[1553644800000,1.0599],[1553731200000,1.0595],[1553817600000,1.0607],[1554076800000,1.0393],[1554163200000,1.0412],[1554249600000,1.0477],[1554336000000,1.044],[1554681600000,1.072],[1554768000000,1.0735],[1554854400000,1.0697],[1554940800000,1.049],[1555027200000,1.1166],[1555286400000,1.1062],[1555372800000,1.1232],[1555459200000,1.1304],[1555545600000,1.1366],[1555632000000,1.132],[1555891200000,1.1461],[1555977600000,1.1562],[1556064000000,1.1488],[1556150400000,1.1629],[1556236800000,1.1808],[1556496000000,1.1951],[1556582400000,1.1735],[1557100800000,1.1577],[1557187200000,1.1868],[1557273600000,1.185],[1557360000000,1.1976],[1557446400000,1.192],[1557705600000,1.1727],[1557792000000,1.1631],[1557878400000,1.1643],[1557964800000,1.1603],[1558051200000,0.8036],[1558310400000,0.8176],[1558396800000,0.815],[1558483200000,0.812],[1558569600000,0.8122],[1558656000000,0.8156],[1558915200000,0.8184],[1559001600000,0.807],[1559088000000,0.821],[1559174400000,0.813],[1559260800000,0.8254],[1559520000000,0.8347],[1559606400000,0.8282],[1559692800000,0.8305],[1559779200000,0.8287],[1560124800000,0.8378],[1560211200000,0.825],[1560297600000,0.8326],[1560384000000,0.8216],[1560470400000,0.8318],[1560729600000,0.8316],[1560816000000,0.8262],[1560902400000,0.8624],[1560988800000,0.8727],[1561075200000,0.887],[1561334400000,0.8824],[1561420800000,0.8942],[1561507200000,0.8732],[1561593600000,0.8784],[1561680000000,0.8813],[1561939200000,0.894],[1562025600000,0.9027],[1562112000000,0.9119],[1562198400000,0.9165],[1562284800000,0.922],[1562544000000,0.9252],[1562630400000,0.9264],[1562716800000,0.9182],[1562803200000,0.9192],[1562889600000,0.919],[1563148800000,0.9046],[1563235200000,0.9079],[1563321600000,0.9142],[1563408000000,0.9009],[1563494400000,0.9496],[1563753600000,0.9335],[1563840000000,0.9324],[1563926400000,0.9523],[1564012800000,0.9467],[1564099200000,0.9391],[1564358400000,0.9382],[1564444800000,0.9463],[1564531200000,0.9469],[1564617600000,0.9514],[1564704000000,0.9476],[1564963200000,0.9626],[1565049600000,0.9387],[1565136000000,0.9533],[1565222400000,0.9513],[1565308800000,0.9436],[1565568000000,0.9351],[1565654400000,0.9505],[1565740800000,0.9551],[1565827200000,0.9547],[1565913600000,0.9498],[1566172800000,0.9508],[1566259200000,0.5984],[1566345600000,0.6041],[1566432000000,0.6091],[1566518400000,0.6129],[1566777600000,0.614],[1566864000000,0.6303],[1566950400000,0.6324],[1567036800000,0.6257],[1567123200000,0.6284],[1567382400000,0.6313],[1567468800000,0.6199],[1567555200000,0.6236],[1567641600000,0.6195],[1567728000000,0.6228],[1567987200000,0.6228],[1568073600000,0.6184],[1568160000000,0.6272],[1568246400000,0.6351],[1568592000000,0.6268],[1568678400000,0.6305],[1568764800000,0.6326],[1568851200000,0.632],[1568937600000,0.7418],[1569196800000,0.73],[1569283200000,0.7331],[1569369600000,0.7267],[1569456000000,0.7329],[1569542400000,0.7273],[1569801600000,0.7335],[1570492800000,0.7389],[1570579200000,0.7404],[1570665600000,0.734],[1570752000000,0.7398],[1571011200000,0.741],[1571097600000,0.7374],[1571184000000,0.7438],[1571270400000,0.7425],[1571356800000,0.7369],[1571616000000,0.7656],[1571702400000,0.7488],[1571788800000,0.7495],[1571875200000,0.7443],[1571961600000,0.7359],[1572220800000,0.74],[1572307200000,0.9448],[1572393600000,0.9454],[1572480000000,0.9382],[1572566400000,0.9447],[1572825600000,0.9433],[1572912000000,0.9422],[1572998400000,0.9256],[1573084800000,0.9446],[1573171200000,0.9362],[1573430400000,0.94],[1573516800000,0.9295],[1573603200000,0.9323],[1573689600000,0.9374],[1573776000000,0.9485],[1574035200000,0.943],[1574121600000,0.9336],[1574208000000,0.9316],[1574294400000,0.9277],[1574380800000,0.945],[1574640000000,0.9676],[1574726400000,0.973],[1574812800000,0.9553],[1574899200000,1.205],[1574985600000,1.2206],[1575244800000,1.2184],[1575331200000,1.2154],[1575417600000,1.2106],[1575504000000,1.2205],[1575590400000,1.2028],[1575849600000,1.2095],[1575936000000,1.1949],[1576022400000,1.2035],[1576108800000,1.2107],[1576195200000,1.2301],[1576454400000,1.2291],[1576540800000,1.2332],[1576627200000,1.239],[1576713600000,1.2272],[1576800000000,1.2106],[1577059200000,1.2132],[1577145600000,1.2091],[1577232000000,1.2174],[1577318400000,1.2244],[1577404800000,1.2095],[1577664000000,0.9918],[1577750400000,1.0036]]}],\"xAxis\":{\"title\":{\"text\":\"date\"},\"type\":\"datetime\"},\"plotOptions\":{\"series\":{\"compare\":\"percent\"}}}/bigcharts-data-end</pre></div><div class=\"type_title_left\"><p>因子拥挤度分析<i class=\"fa fa-question-circle-o\" title=\"衡量因子拥挤度。使用换手率衡量，换手率越高，拥挤度越高。\"></i></p></div><div id=\"bigchart-975a0c9fd4b643a48fad99b5c5261ef7\" class=\"bigchart\"></div><div class=\"bigchart-data\"><pre style=\"display:none\">bigcharts-data-start/{\"chart\":{\"height\":500,\"renderTo\":\"bigchart-975a0c9fd4b643a48fad99b5c5261ef7\"},\"legend\":{\"enabled\":true},\"title\":{\"text\":\"\\u6362\\u624b\\u7387\\u5206\\u6790\"},\"stock\":true,\"series\":[{\"name\":\"1\\u5206\\u4f4d\\u6570\",\"yAxis\":0,\"data\":[[1546387200000,null],[1546473600000,null],[1546560000000,null],[1546819200000,null],[1546905600000,null],[1546992000000,null],[1547078400000,null],[1547164800000,null],[1547424000000,null],[1547510400000,null],[1547596800000,null],[1547683200000,null],[1547769600000,null],[1548028800000,null],[1548115200000,null],[1548201600000,null],[1548288000000,null],[1548374400000,null],[1548633600000,null],[1548720000000,null],[1548806400000,null],[1548892800000,null],[1548979200000,1.8875],[1549843200000,2.0269],[1549929600000,2.6124],[1550016000000,3.1939],[1550102400000,3.2441],[1550188800000,3.1864],[1550448000000,4.0704],[1550534400000,4.779],[1550620800000,3.9709],[1550707200000,4.7945],[1550793600000,4.5191],[1551052800000,6.8208],[1551139200000,7.5102],[1551225600000,5.8198],[1551312000000,4.81],[1551398400000,4.3867],[1551657600000,6.4479],[1551744000000,6.4878],[1551830400000,7.7265],[1551916800000,8.1268],[1552003200000,7.3551],[1552262400000,6.0644],[1552348800000,4.5195],[1552435200000,4.2725],[1552521600000,3.3777],[1552608000000,3.2679],[1552867200000,3.5313],[1552953600000,3.437],[1553040000000,3.5526],[1553126400000,3.8733],[1553212800000,3.4776],[1553472000000,3.6548],[1553558400000,3.5992],[1553644800000,2.9232],[1553731200000,3.0833],[1553817600000,3.4954],[1554076800000,4.3444],[1554163200000,4.4078],[1554249600000,3.5955],[1554336000000,3.7177],[1554681600000,4.1606],[1554768000000,3.3563],[1554854400000,3.6042],[1554940800000,3.3362],[1555027200000,2.4404],[1555286400000,2.9437],[1555372800000,3.2109],[1555459200000,3.5847],[1555545600000,3.1359],[1555632000000,2.8912],[1555891200000,3.1834],[1555977600000,3.1347],[1556064000000,2.9272],[1556150400000,3.4607],[1556236800000,2.9616],[1556496000000,3.259],[1556582400000,2.2866],[1557100800000,2.8558],[1557187200000,2.4561],[1557273600000,2.5086],[1557360000000,2.2441],[1557446400000,3.2125],[1557705600000,2.451],[1557792000000,2.2906],[1557878400000,2.6511],[1557964800000,2.7286],[1558051200000,2.8973],[1558310400000,2.302],[1558396800000,2.2411],[1558483200000,2.224],[1558569600000,2.2273],[1558656000000,1.7948],[1558915200000,2.4067],[1559001600000,2.5163],[1559088000000,2.3345],[1559174400000,2.4662],[1559260800000,2.472],[1559520000000,2.626],[1559606400000,2.505],[1559692800000,2.3906],[1559779200000,2.2767],[1560124800000,2.0469],[1560211200000,2.9262],[1560297600000,2.8672],[1560384000000,2.6266],[1560470400000,2.5006],[1560729600000,1.8228],[1560816000000,1.7892],[1560902400000,2.6557],[1560988800000,2.9786],[1561075200000,3.3995],[1561334400000,2.7159],[1561420800000,2.7983],[1561507200000,2.2424],[1561593600000,2.6504],[1561680000000,2.5354],[1561939200000,3.2286],[1562025600000,3.2298],[1562112000000,2.7657],[1562198400000,2.4286],[1562284800000,2.1811],[1562544000000,2.7886],[1562630400000,2.0855],[1562716800000,2.1081],[1562803200000,2.1944],[1562889600000,2.091],[1563148800000,2.5073],[1563235200000,2.2142],[1563321600000,2.3732],[1563408000000,2.3992],[1563494400000,1.739],[1563753600000,2.2999],[1563840000000,1.8169],[1563926400000,2.3211],[1564012800000,2.1116],[1564099200000,1.9654],[1564358400000,1.83],[1564444800000,2.2005],[1564531200000,2.0934],[1564617600000,2.1309],[1564704000000,2.6807],[1564963200000,2.3072],[1565049600000,3.0424],[1565136000000,2.3842],[1565222400000,2.147],[1565308800000,2.4692],[1565568000000,2.0596],[1565654400000,2.2732],[1565740800000,2.6406],[1565827200000,2.6295],[1565913600000,2.7262],[1566172800000,3.6022],[1566259200000,2.0081],[1566345600000,1.7999],[1566432000000,1.7618],[1566518400000,1.8542],[1566777600000,1.8069],[1566864000000,2.1236],[1566950400000,2.2361],[1567036800000,2.1387],[1567123200000,2.3304],[1567382400000,2.2481],[1567468800000,2.3251],[1567555200000,2.4655],[1567641600000,3.1855],[1567728000000,2.6035],[1567987200000,2.9041],[1568073600000,2.9333],[1568160000000,2.6996],[1568246400000,2.3401],[1568592000000,2.3987],[1568678400000,2.5551],[1568764800000,2.0213],[1568851200000,2.1336],[1568937600000,1.7333],[1569196800000,1.6997],[1569283200000,1.7068],[1569369600000,1.7372],[1569456000000,1.7538],[1569542400000,1.3431],[1569801600000,1.2478],[1570492800000,1.2871],[1570579200000,1.2894],[1570665600000,1.4298],[1570752000000,1.4732],[1571011200000,1.7194],[1571097600000,1.6973],[1571184000000,1.4793],[1571270400000,1.3873],[1571356800000,1.5554],[1571616000000,1.4148],[1571702400000,1.3938],[1571788800000,1.4789],[1571875200000,1.3608],[1571961600000,1.5837],[1572220800000,1.8992],[1572307200000,2.5541],[1572393600000,2.2594],[1572480000000,2.1794],[1572566400000,1.9121],[1572825600000,2.0341],[1572912000000,2.1443],[1572998400000,2.1456],[1573084800000,2.0717],[1573171200000,2.3239],[1573430400000,2.2545],[1573516800000,1.9875],[1573603200000,2.0798],[1573689600000,2.3177],[1573776000000,2.4495],[1574035200000,2.1461],[1574121600000,2.5727],[1574208000000,2.6367],[1574294400000,2.2933],[1574380800000,2.6807],[1574640000000,2.2081],[1574726400000,2.0218],[1574812800000,2.065],[1574899200000,1.8857],[1574985600000,2.0008],[1575244800000,2.0297],[1575331200000,2.2388],[1575417600000,2.2208],[1575504000000,2.6267],[1575590400000,2.7331],[1575849600000,2.88],[1575936000000,3.1174],[1576022400000,3.1396],[1576108800000,3.0269],[1576195200000,3.2056],[1576454400000,3.6323],[1576540800000,4.3189],[1576627200000,4.1107],[1576713600000,3.8657],[1576800000000,3.7742],[1577059200000,3.5122],[1577145600000,2.8751],[1577232000000,3.3244],[1577318400000,3.4655],[1577404800000,4.0925],[1577664000000,2.4068],[1577750400000,2.0633]],\"color\":\"#F08B55\"},{\"name\":\"2\\u5206\\u4f4d\\u6570\",\"yAxis\":0,\"data\":[[1546387200000,null],[1546473600000,null],[1546560000000,null],[1546819200000,null],[1546905600000,null],[1546992000000,null],[1547078400000,null],[1547164800000,null],[1547424000000,null],[1547510400000,null],[1547596800000,null],[1547683200000,null],[1547769600000,null],[1548028800000,null],[1548115200000,null],[1548201600000,null],[1548288000000,null],[1548374400000,null],[1548633600000,null],[1548720000000,null],[1548806400000,null],[1548892800000,null],[1548979200000,1.0963],[1549843200000,1.37],[1549929600000,1.6448],[1550016000000,2.299],[1550102400000,2.1368],[1550188800000,2.0564],[1550448000000,2.8067],[1550534400000,3.3192],[1550620800000,2.6302],[1550707200000,3.406],[1550793600000,3.1696],[1551052800000,4.8984],[1551139200000,5.2084],[1551225600000,4.0299],[1551312000000,3.3561],[1551398400000,2.8815],[1551657600000,4.6182],[1551744000000,4.1752],[1551830400000,5.0466],[1551916800000,5.323],[1552003200000,5.2444],[1552262400000,4.2565],[1552348800000,4.2787],[1552435200000,4.0902],[1552521600000,3.4158],[1552608000000,3.0123],[1552867200000,3.3542],[1552953600000,3.3729],[1553040000000,3.4329],[1553126400000,3.7409],[1553212800000,3.5243],[1553472000000,3.2932],[1553558400000,3.3366],[1553644800000,2.7931],[1553731200000,2.9633],[1553817600000,3.3246],[1554076800000,4.3127],[1554163200000,4.224],[1554249600000,3.7512],[1554336000000,4.1169],[1554681600000,4.3476],[1554768000000,3.4468],[1554854400000,3.516],[1554940800000,3.4457],[1555027200000,2.0131],[1555286400000,2.4519],[1555372800000,2.6995],[1555459200000,2.8729],[1555545600000,2.7341],[1555632000000,2.6594],[1555891200000,2.9306],[1555977600000,2.6014],[1556064000000,2.3091],[1556150400000,2.9694],[1556236800000,2.2869],[1556496000000,2.5023],[1556582400000,1.8039],[1557100800000,2.1479],[1557187200000,2.0379],[1557273600000,1.9349],[1557360000000,1.663],[1557446400000,2.2994],[1557705600000,2.0999],[1557792000000,1.9393],[1557878400000,2.0682],[1557964800000,2.2133],[1558051200000,2.1598],[1558310400000,1.7892],[1558396800000,1.8246],[1558483200000,1.8399],[1558569600000,1.8115],[1558656000000,1.4626],[1558915200000,1.8501],[1559001600000,1.9575],[1559088000000,1.9043],[1559174400000,2.0432],[1559260800000,2.0543],[1559520000000,2.2905],[1559606400000,1.906],[1559692800000,1.7723],[1559779200000,1.7982],[1560124800000,1.5701],[1560211200000,2.3878],[1560297600000,2.215],[1560384000000,1.9815],[1560470400000,2.0164],[1560729600000,1.4651],[1560816000000,1.4502],[1560902400000,1.6694],[1560988800000,1.9809],[1561075200000,2.357],[1561334400000,1.9974],[1561420800000,1.8733],[1561507200000,1.5148],[1561593600000,1.8487],[1561680000000,1.8107],[1561939200000,2.307],[1562025600000,2.2142],[1562112000000,1.9476],[1562198400000,1.7383],[1562284800000,1.522],[1562544000000,1.9913],[1562630400000,1.4272],[1562716800000,1.4115],[1562803200000,1.485],[1562889600000,1.3721],[1563148800000,1.8348],[1563235200000,1.5467],[1563321600000,1.593],[1563408000000,1.532],[1563494400000,1.1441],[1563753600000,1.4431],[1563840000000,1.0004],[1563926400000,1.3475],[1564012800000,1.2855],[1564099200000,1.1951],[1564358400000,1.2515],[1564444800000,1.4278],[1564531200000,1.376],[1564617600000,1.4052],[1564704000000,1.5814],[1564963200000,1.4852],[1565049600000,2.1587],[1565136000000,1.5348],[1565222400000,1.4581],[1565308800000,1.5894],[1565568000000,1.4707],[1565654400000,1.4106],[1565740800000,1.6012],[1565827200000,1.5734],[1565913600000,1.5776],[1566172800000,2.1634],[1566259200000,1.598],[1566345600000,1.3474],[1566432000000,1.3742],[1566518400000,1.5767],[1566777600000,1.5057],[1566864000000,1.8326],[1566950400000,1.773],[1567036800000,1.7321],[1567123200000,2.0345],[1567382400000,2.0455],[1567468800000,1.9329],[1567555200000,2.0088],[1567641600000,2.7619],[1567728000000,2.1923],[1567987200000,2.6141],[1568073600000,2.5345],[1568160000000,2.4064],[1568246400000,2.0583],[1568592000000,2.3051],[1568678400000,2.5228],[1568764800000,1.9317],[1568851200000,1.9042],[1568937600000,1.4715],[1569196800000,1.5003],[1569283200000,1.5085],[1569369600000,1.6033],[1569456000000,1.6526],[1569542400000,1.1961],[1569801600000,0.9514],[1570492800000,1.0082],[1570579200000,1.0076],[1570665600000,1.2071],[1570752000000,1.3456],[1571011200000,1.5588],[1571097600000,1.4595],[1571184000000,1.2741],[1571270400000,1.0981],[1571356800000,1.2958],[1571616000000,1.1828],[1571702400000,1.2113],[1571788800000,1.2049],[1571875200000,1.1862],[1571961600000,1.2905],[1572220800000,1.6632],[1572307200000,1.5038],[1572393600000,1.3676],[1572480000000,1.298],[1572566400000,1.1569],[1572825600000,1.309],[1572912000000,1.2992],[1572998400000,1.3417],[1573084800000,1.1832],[1573171200000,1.2897],[1573430400000,1.4343],[1573516800000,1.2618],[1573603200000,1.2033],[1573689600000,1.3558],[1573776000000,1.3001],[1574035200000,1.2673],[1574121600000,1.4913],[1574208000000,1.4154],[1574294400000,1.2833],[1574380800000,1.5246],[1574640000000,1.3924],[1574726400000,1.2456],[1574812800000,1.1903],[1574899200000,1.046],[1574985600000,1.1038],[1575244800000,1.0953],[1575331200000,1.2484],[1575417600000,1.2785],[1575504000000,1.5079],[1575590400000,1.5586],[1575849600000,1.6045],[1575936000000,1.8221],[1576022400000,1.8086],[1576108800000,1.7675],[1576195200000,1.9527],[1576454400000,2.2799],[1576540800000,2.6832],[1576627200000,2.5602],[1576713600000,2.359],[1576800000000,2.3074],[1577059200000,2.0802],[1577145600000,1.7754],[1577232000000,2.0446],[1577318400000,1.9937],[1577404800000,2.3749],[1577664000000,1.5918],[1577750400000,1.4554]],\"color\":\"#648FD5\"},{\"name\":\"3\\u5206\\u4f4d\\u6570\",\"yAxis\":0,\"data\":[[1546387200000,null],[1546473600000,null],[1546560000000,null],[1546819200000,null],[1546905600000,null],[1546992000000,null],[1547078400000,null],[1547164800000,null],[1547424000000,null],[1547510400000,null],[1547596800000,null],[1547683200000,null],[1547769600000,null],[1548028800000,null],[1548115200000,null],[1548201600000,null],[1548288000000,null],[1548374400000,null],[1548633600000,null],[1548720000000,null],[1548806400000,null],[1548892800000,null],[1548979200000,0.9521],[1549843200000,1.1699],[1549929600000,1.4817],[1550016000000,1.9749],[1550102400000,1.8472],[1550188800000,1.7981],[1550448000000,2.4687],[1550534400000,2.6417],[1550620800000,2.2499],[1550707200000,2.7944],[1550793600000,2.5221],[1551052800000,4.1871],[1551139200000,4.2431],[1551225600000,3.3223],[1551312000000,2.5294],[1551398400000,2.4363],[1551657600000,3.8645],[1551744000000,3.4847],[1551830400000,4.2092],[1551916800000,4.4299],[1552003200000,4.2235],[1552262400000,3.3853],[1552348800000,4.2278],[1552435200000,3.9837],[1552521600000,3.0994],[1552608000000,2.7745],[1552867200000,2.9463],[1552953600000,3.0766],[1553040000000,3.0954],[1553126400000,3.3737],[1553212800000,3.218],[1553472000000,3.231],[1553558400000,3.2193],[1553644800000,2.5357],[1553731200000,2.5133],[1553817600000,2.9949],[1554076800000,3.8739],[1554163200000,4.165],[1554249600000,3.6489],[1554336000000,3.8177],[1554681600000,3.9737],[1554768000000,3.2466],[1554854400000,3.3718],[1554940800000,3.1834],[1555027200000,2.0248],[1555286400000,2.4028],[1555372800000,2.4005],[1555459200000,2.6722],[1555545600000,2.4433],[1555632000000,2.3811],[1555891200000,2.5848],[1555977600000,2.3533],[1556064000000,2.0355],[1556150400000,2.5331],[1556236800000,2.0854],[1556496000000,2.2365],[1556582400000,1.6631],[1557100800000,2.0423],[1557187200000,1.793],[1557273600000,1.6883],[1557360000000,1.5095],[1557446400000,2.1383],[1557705600000,1.7176],[1557792000000,1.672],[1557878400000,1.8049],[1557964800000,2.0232],[1558051200000,1.9755],[1558310400000,1.5333],[1558396800000,1.6147],[1558483200000,1.5731],[1558569600000,1.5456],[1558656000000,1.2901],[1558915200000,1.5828],[1559001600000,1.7751],[1559088000000,1.5828],[1559174400000,1.6374],[1559260800000,1.5792],[1559520000000,1.8354],[1559606400000,1.6188],[1559692800000,1.65],[1559779200000,1.5061],[1560124800000,1.3199],[1560211200000,2.0244],[1560297600000,2.0923],[1560384000000,1.8372],[1560470400000,1.928],[1560729600000,1.4467],[1560816000000,1.4235],[1560902400000,1.4948],[1560988800000,1.8778],[1561075200000,2.2034],[1561334400000,1.7655],[1561420800000,1.7474],[1561507200000,1.5139],[1561593600000,1.6894],[1561680000000,1.649],[1561939200000,2.1808],[1562025600000,1.9667],[1562112000000,1.7541],[1562198400000,1.7148],[1562284800000,1.5033],[1562544000000,1.8717],[1562630400000,1.4353],[1562716800000,1.4649],[1562803200000,1.4658],[1562889600000,1.4244],[1563148800000,1.6745],[1563235200000,1.4759],[1563321600000,1.5509],[1563408000000,1.5291],[1563494400000,1.0027],[1563753600000,1.2063],[1563840000000,0.8806],[1563926400000,1.1583],[1564012800000,1.1439],[1564099200000,1.0647],[1564358400000,1.031],[1564444800000,1.1311],[1564531200000,1.1051],[1564617600000,1.1717],[1564704000000,1.3509],[1564963200000,1.1749],[1565049600000,1.6197],[1565136000000,1.1305],[1565222400000,1.0421],[1565308800000,1.1327],[1565568000000,1.0415],[1565654400000,1.0382],[1565740800000,1.349],[1565827200000,1.3975],[1565913600000,1.364],[1566172800000,1.8803],[1566259200000,1.6539],[1566345600000,1.3429],[1566432000000,1.4312],[1566518400000,1.427],[1566777600000,1.4692],[1566864000000,1.8249],[1566950400000,1.7649],[1567036800000,1.7039],[1567123200000,1.8941],[1567382400000,1.8047],[1567468800000,1.7589],[1567555200000,2.0624],[1567641600000,2.6586],[1567728000000,2.1994],[1567987200000,2.5013],[1568073600000,2.4526],[1568160000000,2.2232],[1568246400000,1.9775],[1568592000000,2.1377],[1568678400000,2.2304],[1568764800000,1.8499],[1568851200000,1.8854],[1568937600000,1.8291],[1569196800000,1.732],[1569283200000,2.0135],[1569369600000,2.0136],[1569456000000,1.9343],[1569542400000,1.514],[1569801600000,1.2858],[1570492800000,1.238],[1570579200000,1.2447],[1570665600000,1.474],[1570752000000,1.6064],[1571011200000,1.9474],[1571097600000,1.7871],[1571184000000,1.6252],[1571270400000,1.4147],[1571356800000,1.6533],[1571616000000,1.5179],[1571702400000,1.4627],[1571788800000,1.5117],[1571875200000,1.441],[1571961600000,1.5622],[1572220800000,1.8902],[1572307200000,1.4032],[1572393600000,1.2327],[1572480000000,1.2195],[1572566400000,1.128],[1572825600000,1.1575],[1572912000000,1.1892],[1572998400000,1.1737],[1573084800000,1.0927],[1573171200000,1.1508],[1573430400000,1.2584],[1573516800000,1.0652],[1573603200000,0.9229],[1573689600000,1.0168],[1573776000000,1.0975],[1574035200000,1.0017],[1574121600000,1.1379],[1574208000000,1.2055],[1574294400000,1.0688],[1574380800000,1.3958],[1574640000000,1.2749],[1574726400000,1.0574],[1574812800000,1.1858],[1574899200000,0.8257],[1574985600000,0.8322],[1575244800000,0.8935],[1575331200000,0.9158],[1575417600000,0.9386],[1575504000000,1.1733],[1575590400000,1.2022],[1575849600000,1.3147],[1575936000000,1.2874],[1576022400000,1.3038],[1576108800000,1.2405],[1576195200000,1.454],[1576454400000,1.7936],[1576540800000,2.15],[1576627200000,2.0282],[1576713600000,1.8753],[1576800000000,1.8863],[1577059200000,1.6847],[1577145600000,1.4838],[1577232000000,1.6841],[1577318400000,1.6958],[1577404800000,2.0377],[1577664000000,1.6009],[1577750400000,1.4802]],\"color\":\"#E06681\"},{\"name\":\"4\\u5206\\u4f4d\\u6570\",\"yAxis\":0,\"data\":[[1546387200000,null],[1546473600000,null],[1546560000000,null],[1546819200000,null],[1546905600000,null],[1546992000000,null],[1547078400000,null],[1547164800000,null],[1547424000000,null],[1547510400000,null],[1547596800000,null],[1547683200000,null],[1547769600000,null],[1548028800000,null],[1548115200000,null],[1548201600000,null],[1548288000000,null],[1548374400000,null],[1548633600000,null],[1548720000000,null],[1548806400000,null],[1548892800000,null],[1548979200000,0.9226],[1549843200000,1.1945],[1549929600000,1.5272],[1550016000000,1.9402],[1550102400000,1.7294],[1550188800000,1.6616],[1550448000000,2.3479],[1550534400000,2.4498],[1550620800000,1.995],[1550707200000,2.4446],[1550793600000,2.2872],[1551052800000,3.8438],[1551139200000,3.8861],[1551225600000,3.0014],[1551312000000,2.2774],[1551398400000,2.1723],[1551657600000,3.5033],[1551744000000,3.1654],[1551830400000,3.865],[1551916800000,4.0648],[1552003200000,3.9815],[1552262400000,3.3546],[1552348800000,4.7873],[1552435200000,4.2995],[1552521600000,3.4523],[1552608000000,2.9878],[1552867200000,3.1055],[1552953600000,3.0743],[1553040000000,3.2833],[1553126400000,3.7493],[1553212800000,3.5095],[1553472000000,3.4659],[1553558400000,3.65],[1553644800000,2.751],[1553731200000,2.9267],[1553817600000,3.2012],[1554076800000,3.9942],[1554163200000,4.1593],[1554249600000,3.6239],[1554336000000,4.043],[1554681600000,4.1427],[1554768000000,3.1426],[1554854400000,3.5976],[1554940800000,3.4175],[1555027200000,2.7625],[1555286400000,2.9086],[1555372800000,2.97],[1555459200000,3.1737],[1555545600000,3.105],[1555632000000,2.9578],[1555891200000,3.1213],[1555977600000,2.9218],[1556064000000,2.3401],[1556150400000,3.1075],[1556236800000,2.3596],[1556496000000,2.5869],[1556582400000,1.9918],[1557100800000,2.4787],[1557187200000,2.0143],[1557273600000,2.1512],[1557360000000,1.8453],[1557446400000,2.6626],[1557705600000,2.0003],[1557792000000,1.9503],[1557878400000,2.122],[1557964800000,2.495],[1558051200000,2.0146],[1558310400000,1.5546],[1558396800000,1.6596],[1558483200000,1.6077],[1558569600000,1.6877],[1558656000000,1.4338],[1558915200000,1.7215],[1559001600000,1.8096],[1559088000000,1.8741],[1559174400000,1.8264],[1559260800000,1.8685],[1559520000000,1.9511],[1559606400000,1.8107],[1559692800000,1.6409],[1559779200000,1.6959],[1560124800000,1.4263],[1560211200000,2.2046],[1560297600000,2.0888],[1560384000000,1.9647],[1560470400000,1.9755],[1560729600000,1.4994],[1560816000000,1.546],[1560902400000,1.9172],[1560988800000,2.2491],[1561075200000,2.6879],[1561334400000,2.1638],[1561420800000,1.9727],[1561507200000,1.643],[1561593600000,1.9108],[1561680000000,1.928],[1561939200000,2.3655],[1562025600000,2.1903],[1562112000000,1.8634],[1562198400000,1.708],[1562284800000,1.5143],[1562544000000,1.9246],[1562630400000,1.324],[1562716800000,1.3235],[1562803200000,1.4393],[1562889600000,1.3864],[1563148800000,1.7468],[1563235200000,1.4968],[1563321600000,1.5264],[1563408000000,1.4544],[1563494400000,1.2777],[1563753600000,1.4445],[1563840000000,1.1197],[1563926400000,1.3697],[1564012800000,1.4717],[1564099200000,1.3074],[1564358400000,1.2348],[1564444800000,1.41],[1564531200000,1.3819],[1564617600000,1.4262],[1564704000000,1.7515],[1564963200000,1.5308],[1565049600000,2.0168],[1565136000000,1.5185],[1565222400000,1.3481],[1565308800000,1.4556],[1565568000000,1.3006],[1565654400000,1.1736],[1565740800000,1.4236],[1565827200000,1.3735],[1565913600000,1.4215],[1566172800000,1.9077],[1566259200000,2.1176],[1566345600000,1.8275],[1566432000000,1.7857],[1566518400000,1.8549],[1566777600000,1.7784],[1566864000000,2.0844],[1566950400000,1.9691],[1567036800000,1.8856],[1567123200000,2.1977],[1567382400000,2.0836],[1567468800000,2.1386],[1567555200000,2.2265],[1567641600000,2.9134],[1567728000000,2.3959],[1567987200000,2.7391],[1568073600000,2.7983],[1568160000000,2.481],[1568246400000,2.0354],[1568592000000,2.3325],[1568678400000,2.5131],[1568764800000,1.9725],[1568851200000,2.0511],[1568937600000,2.7303],[1569196800000,2.4607],[1569283200000,2.6739],[1569369600000,2.7507],[1569456000000,2.6948],[1569542400000,2.247],[1569801600000,1.8214],[1570492800000,1.9246],[1570579200000,1.9542],[1570665600000,2.2995],[1570752000000,2.4872],[1571011200000,2.7133],[1571097600000,2.4391],[1571184000000,2.2649],[1571270400000,2.0983],[1571356800000,2.2092],[1571616000000,2.1158],[1571702400000,2.0512],[1571788800000,1.9925],[1571875200000,1.9477],[1571961600000,2.0325],[1572220800000,2.4787],[1572307200000,1.6755],[1572393600000,1.4213],[1572480000000,1.3766],[1572566400000,1.2609],[1572825600000,1.3904],[1572912000000,1.3629],[1572998400000,1.36],[1573084800000,1.2353],[1573171200000,1.3809],[1573430400000,1.3925],[1573516800000,1.2087],[1573603200000,1.06],[1573689600000,1.1206],[1573776000000,1.1412],[1574035200000,1.0664],[1574121600000,1.2545],[1574208000000,1.3056],[1574294400000,1.1379],[1574380800000,1.3648],[1574640000000,1.2653],[1574726400000,1.134],[1574812800000,1.0502],[1574899200000,0.964],[1574985600000,0.9427],[1575244800000,0.9298],[1575331200000,0.9974],[1575417600000,1.0068],[1575504000000,1.1663],[1575590400000,1.1292],[1575849600000,1.2086],[1575936000000,1.3386],[1576022400000,1.3633],[1576108800000,1.378],[1576195200000,1.4842],[1576454400000,1.7237],[1576540800000,2.0786],[1576627200000,1.9344],[1576713600000,1.7032],[1576800000000,1.833],[1577059200000,1.7505],[1577145600000,1.45],[1577232000000,1.5145],[1577318400000,1.5251],[1577404800000,1.9114],[1577664000000,2.0807],[1577750400000,1.94]],\"color\":\"#E2D269\"},{\"name\":\"5\\u5206\\u4f4d\\u6570\",\"yAxis\":0,\"data\":[[1546387200000,null],[1546473600000,null],[1546560000000,null],[1546819200000,null],[1546905600000,null],[1546992000000,null],[1547078400000,null],[1547164800000,null],[1547424000000,null],[1547510400000,null],[1547596800000,null],[1547683200000,null],[1547769600000,null],[1548028800000,null],[1548115200000,null],[1548201600000,null],[1548288000000,null],[1548374400000,null],[1548633600000,null],[1548720000000,null],[1548806400000,null],[1548892800000,null],[1548979200000,1.8703],[1549843200000,2.1341],[1549929600000,2.3136],[1550016000000,2.7746],[1550102400000,2.4282],[1550188800000,2.234],[1550448000000,2.951],[1550534400000,3.0329],[1550620800000,2.5527],[1550707200000,3.0732],[1550793600000,2.7071],[1551052800000,4.4509],[1551139200000,4.0832],[1551225600000,3.5024],[1551312000000,2.8168],[1551398400000,2.6328],[1551657600000,4.1522],[1551744000000,3.508],[1551830400000,4.1159],[1551916800000,4.2334],[1552003200000,4.0748],[1552262400000,3.7379],[1552348800000,7.2069],[1552435200000,6.2051],[1552521600000,4.8261],[1552608000000,4.0492],[1552867200000,4.0806],[1552953600000,4.0175],[1553040000000,4.228],[1553126400000,5.2579],[1553212800000,4.2834],[1553472000000,4.1194],[1553558400000,4.4586],[1553644800000,3.6749],[1553731200000,3.5333],[1553817600000,4.1552],[1554076800000,4.8638],[1554163200000,5.1251],[1554249600000,4.4968],[1554336000000,4.6986],[1554681600000,4.7142],[1554768000000,3.8419],[1554854400000,4.082],[1554940800000,4.0448],[1555027200000,4.4707],[1555286400000,4.5285],[1555372800000,4.0677],[1555459200000,4.7669],[1555545600000,4.4905],[1555632000000,3.8421],[1555891200000,3.9541],[1555977600000,3.6668],[1556064000000,3.3098],[1556150400000,3.6401],[1556236800000,3.0548],[1556496000000,3.1745],[1556582400000,2.6558],[1557100800000,2.7875],[1557187200000,2.7568],[1557273600000,2.6852],[1557360000000,2.2589],[1557446400000,3.0883],[1557705600000,2.6699],[1557792000000,2.4475],[1557878400000,2.7823],[1557964800000,2.9156],[1558051200000,4.2716],[1558310400000,3.2312],[1558396800000,3.4109],[1558483200000,3.3445],[1558569600000,3.123],[1558656000000,2.4986],[1558915200000,2.7798],[1559001600000,3.2215],[1559088000000,2.9761],[1559174400000,3.2278],[1559260800000,3.075],[1559520000000,2.9422],[1559606400000,2.8197],[1559692800000,2.5625],[1559779200000,2.6218],[1560124800000,2.3995],[1560211200000,3.6938],[1560297600000,3.502],[1560384000000,3.2],[1560470400000,2.9566],[1560729600000,2.3431],[1560816000000,2.26],[1560902400000,3.9207],[1560988800000,4.098],[1561075200000,4.5181],[1561334400000,3.6633],[1561420800000,3.594],[1561507200000,3.1482],[1561593600000,3.4765],[1561680000000,3.2085],[1561939200000,3.5836],[1562025600000,3.574],[1562112000000,3.2185],[1562198400000,2.9741],[1562284800000,2.3724],[1562544000000,3.0656],[1562630400000,2.3647],[1562716800000,2.309],[1562803200000,2.4496],[1562889600000,2.1042],[1563148800000,2.5257],[1563235200000,2.2474],[1563321600000,2.301],[1563408000000,2.4766],[1563494400000,3.4613],[1563753600000,3.0871],[1563840000000,2.6806],[1563926400000,3.3022],[1564012800000,3.2422],[1564099200000,2.6595],[1564358400000,2.7481],[1564444800000,2.8376],[1564531200000,2.5847],[1564617600000,2.6504],[1564704000000,2.8897],[1564963200000,2.5579],[1565049600000,3.3392],[1565136000000,2.4639],[1565222400000,2.2394],[1565308800000,2.4499],[1565568000000,2.2855],[1565654400000,2.2772],[1565740800000,2.7092],[1565827200000,2.6424],[1565913600000,2.6846],[1566172800000,3.3829],[1566259200000,4.9596],[1566345600000,4.3789],[1566432000000,4.0413],[1566518400000,3.7993],[1566777600000,3.4875],[1566864000000,3.9174],[1566950400000,3.4799],[1567036800000,3.5715],[1567123200000,4.0009],[1567382400000,3.8052],[1567468800000,4.013],[1567555200000,3.8945],[1567641600000,5.2027],[1567728000000,4.3824],[1567987200000,4.8723],[1568073600000,4.6693],[1568160000000,4.0305],[1568246400000,3.3842],[1568592000000,3.8347],[1568678400000,4.018],[1568764800000,3.4885],[1568851200000,3.5941],[1568937600000,4.678],[1569196800000,4.0753],[1569283200000,4.3795],[1569369600000,4.1255],[1569456000000,4.0013],[1569542400000,3.3485],[1569801600000,2.7804],[1570492800000,2.8878],[1570579200000,2.9184],[1570665600000,3.2508],[1570752000000,3.5439],[1571011200000,3.7181],[1571097600000,3.4386],[1571184000000,3.0307],[1571270400000,2.8471],[1571356800000,3.0437],[1571616000000,2.6856],[1571702400000,2.5196],[1571788800000,2.6862],[1571875200000,2.4984],[1571961600000,2.6606],[1572220800000,3.1782],[1572307200000,3.6494],[1572393600000,3.219],[1572480000000,2.9246],[1572566400000,2.6702],[1572825600000,2.8461],[1572912000000,2.9877],[1572998400000,2.8683],[1573084800000,2.5281],[1573171200000,2.8118],[1573430400000,2.7617],[1573516800000,2.4575],[1573603200000,2.2922],[1573689600000,2.5191],[1573776000000,2.3499],[1574035200000,2.1959],[1574121600000,2.4951],[1574208000000,2.4782],[1574294400000,2.0925],[1574380800000,2.5533],[1574640000000,2.2279],[1574726400000,1.9267],[1574812800000,1.8821],[1574899200000,2.3307],[1574985600000,2.2215],[1575244800000,2.3614],[1575331200000,2.2428],[1575417600000,2.3146],[1575504000000,2.6439],[1575590400000,2.5058],[1575849600000,2.8243],[1575936000000,2.7597],[1576022400000,2.8915],[1576108800000,2.7849],[1576195200000,2.8403],[1576454400000,3.0245],[1576540800000,3.476],[1576627200000,3.3528],[1576713600000,3.1421],[1576800000000,3.0557],[1577059200000,2.7863],[1577145600000,2.4727],[1577232000000,2.5146],[1577318400000,2.5377],[1577404800000,2.9889],[1577664000000,4.1292],[1577750400000,3.5246]],\"color\":\"#4A8E8E\"},{\"name\":\"\\u6700\\u5c0f\\/\\u6700\\u5927\\u5206\\u4f4d\",\"yAxis\":0,\"data\":[[1546387200000,null],[1546473600000,null],[1546560000000,null],[1546819200000,null],[1546905600000,null],[1546992000000,null],[1547078400000,null],[1547164800000,null],[1547424000000,null],[1547510400000,null],[1547596800000,null],[1547683200000,null],[1547769600000,null],[1548028800000,null],[1548115200000,null],[1548201600000,null],[1548288000000,null],[1548374400000,null],[1548633600000,null],[1548720000000,null],[1548806400000,null],[1548892800000,null],[1548979200000,1.0092],[1549843200000,0.9498],[1549929600000,1.1291],[1550016000000,1.1511],[1550102400000,1.336],[1550188800000,1.4263],[1550448000000,1.3793],[1550534400000,1.5757],[1550620800000,1.5556],[1550707200000,1.5601],[1550793600000,1.6694],[1551052800000,1.5325],[1551139200000,1.8393],[1551225600000,1.6616],[1551312000000,1.7076],[1551398400000,1.6662],[1551657600000,1.5529],[1551744000000,1.8494],[1551830400000,1.8773],[1551916800000,1.9197],[1552003200000,1.805],[1552262400000,1.6224],[1552348800000,0.6271],[1552435200000,0.6885],[1552521600000,0.6999],[1552608000000,0.8071],[1552867200000,0.8654],[1552953600000,0.8555],[1553040000000,0.8402],[1553126400000,0.7367],[1553212800000,0.8119],[1553472000000,0.8872],[1553558400000,0.8072],[1553644800000,0.7955],[1553731200000,0.8727],[1553817600000,0.8412],[1554076800000,0.8932],[1554163200000,0.86],[1554249600000,0.7996],[1554336000000,0.7912],[1554681600000,0.8826],[1554768000000,0.8736],[1554854400000,0.8829],[1554940800000,0.8248],[1555027200000,0.5459],[1555286400000,0.65],[1555372800000,0.7894],[1555459200000,0.752],[1555545600000,0.6983],[1555632000000,0.7525],[1555891200000,0.8051],[1555977600000,0.8549],[1556064000000,0.8844],[1556150400000,0.9507],[1556236800000,0.9695],[1556496000000,1.0266],[1556582400000,0.861],[1557100800000,1.0245],[1557187200000,0.8909],[1557273600000,0.9342],[1557360000000,0.9934],[1557446400000,1.0402],[1557705600000,0.918],[1557792000000,0.9359],[1557878400000,0.9529],[1557964800000,0.9359],[1558051200000,0.6783],[1558310400000,0.7124],[1558396800000,0.657],[1558483200000,0.665],[1558569600000,0.7132],[1558656000000,0.7183],[1558915200000,0.8658],[1559001600000,0.7811],[1559088000000,0.7844],[1559174400000,0.764],[1559260800000,0.8039],[1559520000000,0.8925],[1559606400000,0.8884],[1559692800000,0.9329],[1559779200000,0.8684],[1560124800000,0.853],[1560211200000,0.7922],[1560297600000,0.8187],[1560384000000,0.8208],[1560470400000,0.8458],[1560729600000,0.7779],[1560816000000,0.7917],[1560902400000,0.6773],[1560988800000,0.7268],[1561075200000,0.7524],[1561334400000,0.7414],[1561420800000,0.7786],[1561507200000,0.7123],[1561593600000,0.7624],[1561680000000,0.7902],[1561939200000,0.901],[1562025600000,0.9037],[1562112000000,0.8593],[1562198400000,0.8166],[1562284800000,0.9194],[1562544000000,0.9096],[1562630400000,0.882],[1562716800000,0.913],[1562803200000,0.8958],[1562889600000,0.9938],[1563148800000,0.9927],[1563235200000,0.9852],[1563321600000,1.0314],[1563408000000,0.9687],[1563494400000,0.5024],[1563753600000,0.745],[1563840000000,0.6778],[1563926400000,0.7029],[1564012800000,0.6513],[1564099200000,0.739],[1564358400000,0.6659],[1564444800000,0.7755],[1564531200000,0.8099],[1564617600000,0.804],[1564704000000,0.9277],[1564963200000,0.902],[1565049600000,0.9111],[1565136000000,0.9677],[1565222400000,0.9587],[1565308800000,1.0079],[1565568000000,0.9012],[1565654400000,0.9982],[1565740800000,0.9747],[1565827200000,0.9951],[1565913600000,1.0155],[1566172800000,1.0648],[1566259200000,0.4049],[1566345600000,0.411],[1566432000000,0.4359],[1566518400000,0.4881],[1566777600000,0.5181],[1566864000000,0.5421],[1566950400000,0.6426],[1567036800000,0.5988],[1567123200000,0.5825],[1567382400000,0.5908],[1567468800000,0.5794],[1567555200000,0.6331],[1567641600000,0.6123],[1567728000000,0.5941],[1567987200000,0.596],[1568073600000,0.6282],[1568160000000,0.6698],[1568246400000,0.6915],[1568592000000,0.6255],[1568678400000,0.6359],[1568764800000,0.5794],[1568851200000,0.5937],[1568937600000,0.3705],[1569196800000,0.4171],[1569283200000,0.3897],[1569369600000,0.4211],[1569456000000,0.4383],[1569542400000,0.4011],[1569801600000,0.4488],[1570492800000,0.4457],[1570579200000,0.4418],[1570665600000,0.4398],[1570752000000,0.4157],[1571011200000,0.4624],[1571097600000,0.4936],[1571184000000,0.4881],[1571270400000,0.4873],[1571356800000,0.511],[1571616000000,0.5268],[1571702400000,0.5532],[1571788800000,0.5506],[1571875200000,0.5447],[1571961600000,0.5952],[1572220800000,0.5976],[1572307200000,0.6999],[1572393600000,0.7019],[1572480000000,0.7452],[1572566400000,0.7161],[1572825600000,0.7147],[1572912000000,0.7177],[1572998400000,0.7481],[1573084800000,0.8195],[1573171200000,0.8265],[1573430400000,0.8163],[1573516800000,0.8087],[1573603200000,0.9074],[1573689600000,0.9201],[1573776000000,1.0424],[1574035200000,0.9773],[1574121600000,1.0311],[1574208000000,1.0639],[1574294400000,1.096],[1574380800000,1.0499],[1574640000000,0.9911],[1574726400000,1.0494],[1574812800000,1.0972],[1574899200000,0.8091],[1574985600000,0.9006],[1575244800000,0.8596],[1575331200000,0.9982],[1575417600000,0.9595],[1575504000000,0.9935],[1575590400000,1.0907],[1575849600000,1.0197],[1575936000000,1.1296],[1576022400000,1.0858],[1576108800000,1.0869],[1576195200000,1.1286],[1576454400000,1.2009],[1576540800000,1.2425],[1576627200000,1.2261],[1576713600000,1.2303],[1576800000000,1.2351],[1577059200000,1.2605],[1577145600000,1.1627],[1577232000000,1.322],[1577318400000,1.3656],[1577404800000,1.3692],[1577664000000,0.5829],[1577750400000,0.5854]]}],\"xAxis\":{\"title\":{\"text\":\"date\"},\"type\":\"datetime\"},\"plotOptions\":{\"series\":{\"compare\":\"percent\"}}}/bigcharts-data-end</pre></div><div class=\"cols\">\n",
       "            \n",
       "                \n",
       "                <div class=\"col\"><div class=\"type_title_left\"><p>因子值最小的20只股票 <span>(2019-12-31)</span></p></div>\n",
       "        <div class=\"factorlens-stocks-wrapper\">\n",
       "            <table class=\"factor_table stocks\">\n",
       "                <thead>\n",
       "                    <tr>\n",
       "                        <th>股票名称</th>\n",
       "                        <th>股票代码</th>\n",
       "                        <th>因子值</th>\n",
       "                    </tr>\n",
       "                </thead>\n",
       "                <tbody>\n",
       "            <tr>\n",
       "                <td>退市华业</td>\n",
       "                <td>600240.SHA</td>\n",
       "                <td>-34.8854</td>\n",
       "            </tr>\n",
       "            \n",
       "            <tr>\n",
       "                <td>正川股份</td>\n",
       "                <td>603976.SHA</td>\n",
       "                <td>-18.4466</td>\n",
       "            </tr>\n",
       "            \n",
       "            <tr>\n",
       "                <td>神城A退</td>\n",
       "                <td>000018.SZA</td>\n",
       "                <td>-17.5751</td>\n",
       "            </tr>\n",
       "            \n",
       "            <tr>\n",
       "                <td>国统股份</td>\n",
       "                <td>002205.SZA</td>\n",
       "                <td>-14.7359</td>\n",
       "            </tr>\n",
       "            \n",
       "            <tr>\n",
       "                <td>创力集团</td>\n",
       "                <td>603012.SHA</td>\n",
       "                <td>-14.6554</td>\n",
       "            </tr>\n",
       "            \n",
       "            <tr>\n",
       "                <td>新华联</td>\n",
       "                <td>000620.SZA</td>\n",
       "                <td>-12.0998</td>\n",
       "            </tr>\n",
       "            \n",
       "            <tr>\n",
       "                <td>东旭光电</td>\n",
       "                <td>000413.SZA</td>\n",
       "                <td>-11.1585</td>\n",
       "            </tr>\n",
       "            \n",
       "            <tr>\n",
       "                <td>德威新材</td>\n",
       "                <td>300325.SZA</td>\n",
       "                <td>-10.7513</td>\n",
       "            </tr>\n",
       "            \n",
       "            <tr>\n",
       "                <td>众应互联</td>\n",
       "                <td>002464.SZA</td>\n",
       "                <td>-10.6876</td>\n",
       "            </tr>\n",
       "            \n",
       "            <tr>\n",
       "                <td>文化长城</td>\n",
       "                <td>300089.SZA</td>\n",
       "                <td>-9.7624</td>\n",
       "            </tr>\n",
       "            \n",
       "            <tr>\n",
       "                <td>天龙光电</td>\n",
       "                <td>300029.SZA</td>\n",
       "                <td>-8.8956</td>\n",
       "            </tr>\n",
       "            \n",
       "            <tr>\n",
       "                <td>万里石</td>\n",
       "                <td>002785.SZA</td>\n",
       "                <td>-8.4704</td>\n",
       "            </tr>\n",
       "            \n",
       "            <tr>\n",
       "                <td>恒久科技</td>\n",
       "                <td>002808.SZA</td>\n",
       "                <td>-8.3051</td>\n",
       "            </tr>\n",
       "            \n",
       "            <tr>\n",
       "                <td>共达电声</td>\n",
       "                <td>002655.SZA</td>\n",
       "                <td>-8.2788</td>\n",
       "            </tr>\n",
       "            \n",
       "            <tr>\n",
       "                <td>聚龙股份</td>\n",
       "                <td>300202.SZA</td>\n",
       "                <td>-7.8105</td>\n",
       "            </tr>\n",
       "            \n",
       "            <tr>\n",
       "                <td>汉邦高科</td>\n",
       "                <td>300449.SZA</td>\n",
       "                <td>-7.7907</td>\n",
       "            </tr>\n",
       "            \n",
       "            <tr>\n",
       "                <td>天夏智慧</td>\n",
       "                <td>000662.SZA</td>\n",
       "                <td>-7.4825</td>\n",
       "            </tr>\n",
       "            \n",
       "            <tr>\n",
       "                <td>GQY视讯</td>\n",
       "                <td>300076.SZA</td>\n",
       "                <td>-7.2374</td>\n",
       "            </tr>\n",
       "            \n",
       "            <tr>\n",
       "                <td>华培动力</td>\n",
       "                <td>603121.SHA</td>\n",
       "                <td>-7.2239</td>\n",
       "            </tr>\n",
       "            \n",
       "            <tr>\n",
       "                <td>昊华能源</td>\n",
       "                <td>601101.SHA</td>\n",
       "                <td>-7.1737</td>\n",
       "            </tr>\n",
       "            \n",
       "                </tbody>\n",
       "            </table>\n",
       "        </div>\n",
       "        </div>\n",
       "                \n",
       "            \n",
       "                \n",
       "                <div class=\"col\"><div class=\"type_title_left\"><p>因子值最大的20只股票 <span>(2019-12-31)</span></p></div>\n",
       "        <div class=\"factorlens-stocks-wrapper\">\n",
       "            <table class=\"factor_table stocks\">\n",
       "                <thead>\n",
       "                    <tr>\n",
       "                        <th>股票名称</th>\n",
       "                        <th>股票代码</th>\n",
       "                        <th>因子值</th>\n",
       "                    </tr>\n",
       "                </thead>\n",
       "                <tbody>\n",
       "            <tr>\n",
       "                <td>值得买</td>\n",
       "                <td>300785.SZA</td>\n",
       "                <td>16.8776</td>\n",
       "            </tr>\n",
       "            \n",
       "            <tr>\n",
       "                <td>众生药业</td>\n",
       "                <td>002317.SZA</td>\n",
       "                <td>17.2789</td>\n",
       "            </tr>\n",
       "            \n",
       "            <tr>\n",
       "                <td>三孚股份</td>\n",
       "                <td>603938.SHA</td>\n",
       "                <td>17.4674</td>\n",
       "            </tr>\n",
       "            \n",
       "            <tr>\n",
       "                <td>雅化集团</td>\n",
       "                <td>002497.SZA</td>\n",
       "                <td>17.9609</td>\n",
       "            </tr>\n",
       "            \n",
       "            <tr>\n",
       "                <td>中材科技</td>\n",
       "                <td>002080.SZA</td>\n",
       "                <td>18.1465</td>\n",
       "            </tr>\n",
       "            \n",
       "            <tr>\n",
       "                <td>拓维信息</td>\n",
       "                <td>002261.SZA</td>\n",
       "                <td>18.4945</td>\n",
       "            </tr>\n",
       "            \n",
       "            <tr>\n",
       "                <td>天齐锂业</td>\n",
       "                <td>002466.SZA</td>\n",
       "                <td>18.6421</td>\n",
       "            </tr>\n",
       "            \n",
       "            <tr>\n",
       "                <td>中国宝安</td>\n",
       "                <td>000009.SZA</td>\n",
       "                <td>18.8418</td>\n",
       "            </tr>\n",
       "            \n",
       "            <tr>\n",
       "                <td>洛阳玻璃</td>\n",
       "                <td>600876.SHA</td>\n",
       "                <td>19.1253</td>\n",
       "            </tr>\n",
       "            \n",
       "            <tr>\n",
       "                <td>惠伦晶体</td>\n",
       "                <td>300460.SZA</td>\n",
       "                <td>20.1056</td>\n",
       "            </tr>\n",
       "            \n",
       "            <tr>\n",
       "                <td>南京证券</td>\n",
       "                <td>601990.SHA</td>\n",
       "                <td>21.1388</td>\n",
       "            </tr>\n",
       "            \n",
       "            <tr>\n",
       "                <td>华扬联众</td>\n",
       "                <td>603825.SHA</td>\n",
       "                <td>21.2740</td>\n",
       "            </tr>\n",
       "            \n",
       "            <tr>\n",
       "                <td>威唐工业</td>\n",
       "                <td>300707.SZA</td>\n",
       "                <td>21.6936</td>\n",
       "            </tr>\n",
       "            \n",
       "            <tr>\n",
       "                <td>融捷股份</td>\n",
       "                <td>002192.SZA</td>\n",
       "                <td>26.8426</td>\n",
       "            </tr>\n",
       "            \n",
       "            <tr>\n",
       "                <td>拉卡拉</td>\n",
       "                <td>300773.SZA</td>\n",
       "                <td>26.8882</td>\n",
       "            </tr>\n",
       "            \n",
       "            <tr>\n",
       "                <td>天创时尚</td>\n",
       "                <td>603608.SHA</td>\n",
       "                <td>30.3768</td>\n",
       "            </tr>\n",
       "            \n",
       "            <tr>\n",
       "                <td>中广天择</td>\n",
       "                <td>603721.SHA</td>\n",
       "                <td>31.5549</td>\n",
       "            </tr>\n",
       "            \n",
       "            <tr>\n",
       "                <td>惠发食品</td>\n",
       "                <td>603536.SHA</td>\n",
       "                <td>34.6786</td>\n",
       "            </tr>\n",
       "            \n",
       "            <tr>\n",
       "                <td>智慧松德</td>\n",
       "                <td>300173.SZA</td>\n",
       "                <td>35.8487</td>\n",
       "            </tr>\n",
       "            \n",
       "            <tr>\n",
       "                <td>引力传媒</td>\n",
       "                <td>603598.SHA</td>\n",
       "                <td>54.4904</td>\n",
       "            </tr>\n",
       "            \n",
       "                </tbody>\n",
       "            </table>\n",
       "        </div>\n",
       "        </div>\n",
       "                \n",
       "            \n",
       "            </div>\n",
       "        </div>"
      ],
      "text/plain": [
       "<IPython.core.display.HTML object>"
      ]
     },
     "metadata": {},
     "output_type": "display_data"
    },
    {
     "data": {
      "text/plain": [
       "[2020-10-29 18:17:16.252873] INFO: moduleinvoker: factorlens.v1 运行完成[14.617913s]."
      ]
     },
     "metadata": {
      "is_log": true,
      "status": "INFO"
     },
     "output_type": "display_data"
    }
   ],
   "source": [
    "# 本代码由可视化策略环境自动生成 2021年8月22日11:07\n",
    "# 本代码单元只能在可视化模式下编辑。您也可以拷贝代码，粘贴到新建的代码单元或者策略，然后修改。\n",
    "\n",
    "\n",
    "m1 = M.input_features.v1(\n",
    "    features=\"\"\"\n",
    "# #号开始的表示注释，注释需单独一行\n",
    "# 多个特征，每行一个，可以包含基础特征和衍生特征，特征须为本平台特征\n",
    "(close_0 - ta_ema_20_0) / ta_ema_20_0*100\"\"\"\n",
    ")\n",
    "\n",
    "m2 = M.factorlens.v1(\n",
    "    features=m1.data,\n",
    "    title='因子分析: {factor_name}',\n",
    "    start_date='2019-01-01',\n",
    "    end_date='2019-12-31',\n",
    "    rebalance_period=22,\n",
    "    stock_pool='全市场',\n",
    "    quantile_count=5,\n",
    "    commission_rate=0.0016,\n",
    "    returns_calculation_method='累乘',\n",
    "    benchmark='无',\n",
    "    drop_price_limit_stocks=True,\n",
    "    drop_st_stocks=True,\n",
    "    drop_new_stocks=True,\n",
    "    normalization=True,\n",
    "    neutralization=['行业', '市值'],\n",
    "    metrics=['因子表现概览', '因子分布', '因子行业分布', '因子市值分布', 'IC分析', '买入信号重合分析', '因子估值分析', '因子拥挤度分析', '因子值最大/最小股票', '多因子相关性分析']\n",
    ")\n"
   ]
  }
 ],
 "metadata": {
  "is_mlstudio": "true",
  "kernelspec": {
   "display_name": "Python 3",
   "language": "python",
   "name": "python3"
  },
  "language_info": {
   "codemirror_mode": {
    "name": "ipython",
    "version": 3
   },
   "file_extension": ".py",
   "mimetype": "text/x-python",
   "name": "python",
   "nbconvert_exporter": "python",
   "pygments_lexer": "ipython3",
   "version": "3.8.7"
  }
 },
 "nbformat": 4,
 "nbformat_minor": 4
}
