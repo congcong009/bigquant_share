{
 "cells": [
  {
   "cell_type": "code",
   "execution_count": 36,
   "metadata": {
    "collapsed": false,
    "jupyter": {
     "outputs_hidden": false
    }
   },
   "outputs": [
    {
     "data": {
      "text/plain": [
       "[2021-05-07 17:57:27.273793] INFO: moduleinvoker: backtest.v7 开始运行.."
      ]
     },
     "metadata": {
      "is_log": true,
      "status": "INFO"
     },
     "output_type": "display_data"
    },
    {
     "data": {
      "text/plain": [
       "[2021-05-07 17:57:27.442972] INFO: backtest: biglearning backtest:V7.3.0"
      ]
     },
     "metadata": {
      "is_log": true,
      "status": "INFO"
     },
     "output_type": "display_data"
    },
    {
     "data": {
      "text/plain": [
       "[2021-05-07 17:57:28.805868] INFO: moduleinvoker: cached.v2 开始运行.."
      ]
     },
     "metadata": {
      "is_log": true,
      "status": "INFO"
     },
     "output_type": "display_data"
    },
    {
     "data": {
      "text/plain": [
       "[2021-05-07 17:57:28.843929] WARNING: DataReader: cannot find filed [settle] table in field_table_map!"
      ]
     },
     "metadata": {
      "is_log": true,
      "status": "WARNING"
     },
     "output_type": "display_data"
    },
    {
     "data": {
      "text/plain": [
       "[2021-05-07 17:57:33.724639] INFO: moduleinvoker: cached.v2 运行完成[4.918749s]."
      ]
     },
     "metadata": {
      "is_log": true,
      "status": "INFO"
     },
     "output_type": "display_data"
    },
    {
     "data": {
      "text/plain": [
       "[2021-05-07 17:57:33.783242] INFO: algo: TradingAlgorithm V1.8.2"
      ]
     },
     "metadata": {
      "is_log": true,
      "status": "INFO"
     },
     "output_type": "display_data"
    },
    {
     "data": {
      "text/plain": [
       "[2021-05-07 17:57:33.916559] INFO: algo: trading transform..."
      ]
     },
     "metadata": {
      "is_log": true,
      "status": "INFO"
     },
     "output_type": "display_data"
    },
    {
     "data": {
      "text/plain": [
       "[2021-05-07 17:57:35.004127] ERROR: moduleinvoker: module name: backtest, module version: v7, trackeback: KeyError: ('512700', 'HOF')\\n\\nDuring handling of the above exception, another exception occurred:\\n\\nzipline.errors.SymbolNotFound: Symbol '512700.HOF' was not found.\\n\\nDuring handling of the above exception, another exception occurred:\\n\\nzipline.errors.SymbolNotFound: Symbol '512700.HOF' was not found.\\n"
      ]
     },
     "metadata": {
      "is_log": true,
      "status": "ERROR"
     },
     "output_type": "display_data"
    },
    {
     "data": {
      "text/plain": [
       "[2021-05-07 17:57:35.009236] ERROR: moduleinvoker: module name: trade, module version: v3, trackeback: KeyError: ('512700', 'HOF')\\n\\nDuring handling of the above exception, another exception occurred:\\n\\nzipline.errors.SymbolNotFound: Symbol '512700.HOF' was not found.\\n\\nDuring handling of the above exception, another exception occurred:\\n\\nzipline.errors.SymbolNotFound: Symbol '512700.HOF' was not found.\\n"
      ]
     },
     "metadata": {
      "is_log": true,
      "status": "ERROR"
     },
     "output_type": "display_data"
    },
    {
     "ename": "SymbolNotFound",
     "evalue": "Symbol '512700.HOF' was not found.",
     "output_type": "error",
     "traceback": [
      "\u001b[0;31m---------------------------------------------------------------------------\u001b[0m",
      "\u001b[0;31mKeyError\u001b[0m                                  Traceback (most recent call last)",
      "\u001b[0;31mKeyError\u001b[0m: ('512700', 'HOF')",
      "\nDuring handling of the above exception, another exception occurred:\n",
      "\u001b[0;31mSymbolNotFound\u001b[0m                            Traceback (most recent call last)",
      "\u001b[0;31mSymbolNotFound\u001b[0m: Symbol '512700.HOF' was not found.",
      "\nDuring handling of the above exception, another exception occurred:\n",
      "\u001b[0;31mSymbolNotFound\u001b[0m                            Traceback (most recent call last)",
      "\u001b[0;32m<ipython-input-36-61ce2ed7a589>\u001b[0m in \u001b[0;36m<module>\u001b[0;34m\u001b[0m\n\u001b[1;32m     25\u001b[0m \u001b[0;34m\u001b[0m\u001b[0m\n\u001b[1;32m     26\u001b[0m \u001b[0;34m\u001b[0m\u001b[0m\n\u001b[0;32m---> 27\u001b[0;31m m=M.trade.v3(\n\u001b[0m\u001b[1;32m     28\u001b[0m     \u001b[0minstruments\u001b[0m\u001b[0;34m=\u001b[0m\u001b[0minstruments\u001b[0m\u001b[0;34m,\u001b[0m\u001b[0;34m\u001b[0m\u001b[0;34m\u001b[0m\u001b[0m\n\u001b[1;32m     29\u001b[0m     \u001b[0mstart_date\u001b[0m\u001b[0;34m=\u001b[0m\u001b[0mstart_date\u001b[0m\u001b[0;34m,\u001b[0m\u001b[0;34m\u001b[0m\u001b[0;34m\u001b[0m\u001b[0m\n",
      "\u001b[0;32m<ipython-input-36-61ce2ed7a589>\u001b[0m in \u001b[0;36mhandle_data\u001b[0;34m(context, data)\u001b[0m\n\u001b[1;32m     14\u001b[0m     \u001b[0;32mif\u001b[0m \u001b[0mdate\u001b[0m \u001b[0;34m==\u001b[0m \u001b[0;34m'2021-04-09'\u001b[0m\u001b[0;34m:\u001b[0m\u001b[0;34m\u001b[0m\u001b[0;34m\u001b[0m\u001b[0m\n\u001b[1;32m     15\u001b[0m         \u001b[0;32mfor\u001b[0m \u001b[0mi\u001b[0m \u001b[0;32min\u001b[0m \u001b[0mrange\u001b[0m\u001b[0;34m(\u001b[0m\u001b[0mlen\u001b[0m\u001b[0;34m(\u001b[0m\u001b[0minstruments\u001b[0m\u001b[0;34m)\u001b[0m\u001b[0;34m)\u001b[0m\u001b[0;34m:\u001b[0m\u001b[0;34m\u001b[0m\u001b[0;34m\u001b[0m\u001b[0m\n\u001b[0;32m---> 16\u001b[0;31m             \u001b[0mcontext\u001b[0m\u001b[0;34m.\u001b[0m\u001b[0morder_target_percent\u001b[0m\u001b[0;34m(\u001b[0m\u001b[0minstruments\u001b[0m\u001b[0;34m[\u001b[0m\u001b[0mi\u001b[0m\u001b[0;34m]\u001b[0m\u001b[0;34m,\u001b[0m \u001b[0mweights\u001b[0m\u001b[0;34m[\u001b[0m\u001b[0mi\u001b[0m\u001b[0;34m]\u001b[0m\u001b[0;34m)\u001b[0m\u001b[0;34m\u001b[0m\u001b[0;34m\u001b[0m\u001b[0m\n\u001b[0m\u001b[1;32m     17\u001b[0m \u001b[0;34m\u001b[0m\u001b[0m\n\u001b[1;32m     18\u001b[0m \u001b[0;31m#     if date == '2017-07-03':\u001b[0m\u001b[0;34m\u001b[0m\u001b[0;34m\u001b[0m\u001b[0;34m\u001b[0m\u001b[0m\n",
      "\u001b[0;31mSymbolNotFound\u001b[0m: Symbol '512700.HOF' was not found."
     ]
    }
   ],
   "source": [
    "datasource_id='bar1d_CN_FUND'\n",
    "start_date = '2021-04-09'  \n",
    "end_date = '2021-05-07'\n",
    "bench_mark = '000300.SHA'\n",
    "\n",
    "\n",
    "\n",
    "def initialize(context):\n",
    "    context.set_commission(PerOrder(buy_cost=0.00015, sell_cost=0.00015, min_cost=0)) # 设置手续费\n",
    "    context.date_record = {}\n",
    "\n",
    "def handle_data(context, data):\n",
    "    date = data.current_dt.strftime('%Y-%m-%d')\n",
    "    instruments = ['512700.HOF', '515000.HOF', '159902.ZOF', '159920.ZOF', '512400.HOF', '515700.HOF', '159938.ZOF', '159915.ZOF', '512580.HOF', '512690.HOF', '510330.HOF', '512980.HOF', '513500.HOF', '512680.HOF', '513100.HOF']\n",
    "    weights = [0.01, 0.01, 0.01, 0.01, 0.01, 0.02, 0.03, 0.04, 0.08, 0.08, 0.11, 0.13, 0.15, 0.15, 0.16]\n",
    "    \n",
    "    if date == '2021-04-09':\n",
    "        for i in range(len(instruments)):\n",
    "            context.order_target_percent(instruments[i], weights[i])\n",
    "            \n",
    "    if date == '2017-07-03':\n",
    "        for i in range(len(instruments)):\n",
    "            context.order_target_percent(instruments[i], 0)\n",
    "        instruments = ['000001.SZA', '000002.SZA']\n",
    "        weights = [0.1, 0.9]\n",
    "        for i in range(len(instruments)):\n",
    "            context.order_target_percent(instruments[i], weights[i])\n",
    "        \n",
    "        \n",
    "m=M.trade.v3(\n",
    "    instruments=instruments,\n",
    "    start_date=start_date,\n",
    "    end_date=end_date,\n",
    "    initialize=initialize,\n",
    "    handle_data=handle_data,\n",
    "    order_price_field_buy='open',\n",
    "    order_price_field_sell='close',\n",
    "    benchmark='000300.SHA',\n",
    "    capital_base=1000000,\n",
    "    )  \n",
    "        \n"
   ]
  }
 ],
 "metadata": {
  "kernelspec": {
   "display_name": "Python 3",
   "language": "python",
   "name": "python3"
  },
  "language_info": {
   "codemirror_mode": {
    "name": "ipython",
    "version": 3
   },
   "file_extension": ".py",
   "mimetype": "text/x-python",
   "name": "python",
   "nbconvert_exporter": "python",
   "pygments_lexer": "ipython3",
   "version": "3.8.7"
  }
 },
 "nbformat": 4,
 "nbformat_minor": 4
}
