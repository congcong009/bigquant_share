{
 "cells": [
  {
   "cell_type": "markdown",
   "metadata": {},
   "source": [
    "### ** 1、基本信息层面筛选可视化模块实现案例** "
   ]
  },
  {
   "cell_type": "code",
   "execution_count": 1,
   "metadata": {
    "machine_learning_studio": "true",
    "ml_studio_json": "{\"Description\":\"实验创建于2017/8/26\",\"Summary\":\"\",\"Graph\":{\"EdgesInternal\":[{\"DestinationInputPortId\":\"-336:instruments\",\"SourceOutputPortId\":\"-327:data\"},{\"DestinationInputPortId\":\"-411:input_data\",\"SourceOutputPortId\":\"-336:data\"},{\"DestinationInputPortId\":\"-435:input_data\",\"SourceOutputPortId\":\"-336:data\"},{\"DestinationInputPortId\":\"-451:input_data\",\"SourceOutputPortId\":\"-336:data\"},{\"DestinationInputPortId\":\"-467:input_data\",\"SourceOutputPortId\":\"-336:data\"},{\"DestinationInputPortId\":\"-393:input_1\",\"SourceOutputPortId\":\"-460:data\"},{\"DestinationInputPortId\":\"-460:instruments\",\"SourceOutputPortId\":\"-475:data\"},{\"DestinationInputPortId\":\"-460:features\",\"SourceOutputPortId\":\"-483:data\"}],\"ModuleNodes\":[{\"Id\":\"-327\",\"ModuleId\":\"BigQuantSpace.instruments.instruments-v2\",\"ModuleParameters\":[{\"Name\":\"start_date\",\"Value\":\"2016-01-01\",\"ValueType\":\"Literal\",\"LinkedGlobalParameter\":null},{\"Name\":\"end_date\",\"Value\":\"2017-09-14\",\"ValueType\":\"Literal\",\"LinkedGlobalParameter\":null},{\"Name\":\"market\",\"Value\":\"CN_STOCK_A\",\"ValueType\":\"Literal\",\"LinkedGlobalParameter\":null},{\"Name\":\"instrument_list\",\"Value\":\"\",\"ValueType\":\"Literal\",\"LinkedGlobalParameter\":null},{\"Name\":\"max_count\",\"Value\":0,\"ValueType\":\"Literal\",\"LinkedGlobalParameter\":null}],\"InputPortsInternal\":[{\"DataSourceId\":null,\"TrainedModelId\":null,\"TransformModuleId\":null,\"Name\":\"rolling_conf\",\"NodeId\":\"-327\"}],\"OutputPortsInternal\":[{\"Name\":\"data\",\"NodeId\":\"-327\",\"OutputType\":null}],\"UsePreviousResults\":true,\"moduleIdForCode\":1,\"IsPartOfPartialRun\":null,\"Comment\":\"\",\"CommentCollapsed\":true},{\"Id\":\"-336\",\"ModuleId\":\"BigQuantSpace.use_datasource.use_datasource-v1\",\"ModuleParameters\":[{\"Name\":\"datasource_id\",\"Value\":\"bar1d_CN_STOCK_A\",\"ValueType\":\"Literal\",\"LinkedGlobalParameter\":null},{\"Name\":\"start_date\",\"Value\":\"\",\"ValueType\":\"Literal\",\"LinkedGlobalParameter\":null},{\"Name\":\"end_date\",\"Value\":\"\",\"ValueType\":\"Literal\",\"LinkedGlobalParameter\":null}],\"InputPortsInternal\":[{\"DataSourceId\":null,\"TrainedModelId\":null,\"TransformModuleId\":null,\"Name\":\"instruments\",\"NodeId\":\"-336\"},{\"DataSourceId\":null,\"TrainedModelId\":null,\"TransformModuleId\":null,\"Name\":\"features\",\"NodeId\":\"-336\"}],\"OutputPortsInternal\":[{\"Name\":\"data\",\"NodeId\":\"-336\",\"OutputType\":null}],\"UsePreviousResults\":true,\"moduleIdForCode\":2,\"IsPartOfPartialRun\":null,\"Comment\":\"获取指数成份股列表\",\"CommentCollapsed\":false},{\"Id\":\"-411\",\"ModuleId\":\"BigQuantSpace.chinaa_stock_filter.chinaa_stock_filter-v1\",\"ModuleParameters\":[{\"Name\":\"index_constituent_cond\",\"Value\":\"%7B%22enumItems%22%3A%5B%7B%22value%22%3A%22%E5%85%A8%E9%83%A8%22%2C%22displayValue%22%3A%22%E5%85%A8%E9%83%A8%22%2C%22selected%22%3Afalse%7D%2C%7B%22value%22%3A%22%E4%B8%8A%E8%AF%8150%22%2C%22displayValue%22%3A%22%E4%B8%8A%E8%AF%8150%22%2C%22selected%22%3Afalse%7D%2C%7B%22value%22%3A%22%E6%B2%AA%E6%B7%B1300%22%2C%22displayValue%22%3A%22%E6%B2%AA%E6%B7%B1300%22%2C%22selected%22%3Atrue%7D%2C%7B%22value%22%3A%22%E4%B8%AD%E8%AF%81500%22%2C%22displayValue%22%3A%22%E4%B8%AD%E8%AF%81500%22%2C%22selected%22%3Afalse%7D%2C%7B%22value%22%3A%22%E4%B8%AD%E8%AF%81800%22%2C%22displayValue%22%3A%22%E4%B8%AD%E8%AF%81800%22%2C%22selected%22%3Afalse%7D%2C%7B%22value%22%3A%22%E4%B8%8A%E8%AF%81180%22%2C%22displayValue%22%3A%22%E4%B8%8A%E8%AF%81180%22%2C%22selected%22%3Afalse%7D%2C%7B%22value%22%3A%22%E4%B8%AD%E8%AF%81100%22%2C%22displayValue%22%3A%22%E4%B8%AD%E8%AF%81100%22%2C%22selected%22%3Afalse%7D%2C%7B%22value%22%3A%22%E6%B7%B1%E8%AF%81100%22%2C%22displayValue%22%3A%22%E6%B7%B1%E8%AF%81100%22%2C%22selected%22%3Afalse%7D%5D%7D\",\"ValueType\":\"Literal\",\"LinkedGlobalParameter\":null},{\"Name\":\"board_cond\",\"Value\":\"%7B%22enumItems%22%3A%5B%7B%22value%22%3A%22%E5%85%A8%E9%83%A8%22%2C%22displayValue%22%3A%22%E5%85%A8%E9%83%A8%22%2C%22selected%22%3Atrue%7D%2C%7B%22value%22%3A%22%E4%B8%8A%E8%AF%81%E4%B8%BB%E6%9D%BF%22%2C%22displayValue%22%3A%22%E4%B8%8A%E8%AF%81%E4%B8%BB%E6%9D%BF%22%2C%22selected%22%3Afalse%7D%2C%7B%22value%22%3A%22%E6%B7%B1%E8%AF%81%E4%B8%BB%E6%9D%BF%22%2C%22displayValue%22%3A%22%E6%B7%B1%E8%AF%81%E4%B8%BB%E6%9D%BF%22%2C%22selected%22%3Afalse%7D%2C%7B%22value%22%3A%22%E5%88%9B%E4%B8%9A%E6%9D%BF%22%2C%22displayValue%22%3A%22%E5%88%9B%E4%B8%9A%E6%9D%BF%22%2C%22selected%22%3Afalse%7D%5D%7D\",\"ValueType\":\"Literal\",\"LinkedGlobalParameter\":null},{\"Name\":\"industry_cond\",\"Value\":\"%7B%22enumItems%22%3A%5B%7B%22value%22%3A%22%E5%85%A8%E9%83%A8%22%2C%22displayValue%22%3A%22%E5%85%A8%E9%83%A8%22%2C%22selected%22%3Atrue%7D%2C%7B%22value%22%3A%22%E4%BA%A4%E9%80%9A%E8%BF%90%E8%BE%93%22%2C%22displayValue%22%3A%22%E4%BA%A4%E9%80%9A%E8%BF%90%E8%BE%93%22%2C%22selected%22%3Afalse%7D%2C%7B%22value%22%3A%22%E4%BC%91%E9%97%B2%E6%9C%8D%E5%8A%A1%22%2C%22displayValue%22%3A%22%E4%BC%91%E9%97%B2%E6%9C%8D%E5%8A%A1%22%2C%22selected%22%3Afalse%7D%2C%7B%22value%22%3A%22%E4%BC%A0%E5%AA%92%2F%E4%BF%A1%E6%81%AF%E6%9C%8D%E5%8A%A1%22%2C%22displayValue%22%3A%22%E4%BC%A0%E5%AA%92%2F%E4%BF%A1%E6%81%AF%E6%9C%8D%E5%8A%A1%22%2C%22selected%22%3Afalse%7D%2C%7B%22value%22%3A%22%E5%85%AC%E7%94%A8%E4%BA%8B%E4%B8%9A%22%2C%22displayValue%22%3A%22%E5%85%AC%E7%94%A8%E4%BA%8B%E4%B8%9A%22%2C%22selected%22%3Afalse%7D%2C%7B%22value%22%3A%22%E5%86%9C%E6%9E%97%E7%89%A7%E6%B8%94%22%2C%22displayValue%22%3A%22%E5%86%9C%E6%9E%97%E7%89%A7%E6%B8%94%22%2C%22selected%22%3Afalse%7D%2C%7B%22value%22%3A%22%E5%8C%96%E5%B7%A5%22%2C%22displayValue%22%3A%22%E5%8C%96%E5%B7%A5%22%2C%22selected%22%3Afalse%7D%2C%7B%22value%22%3A%22%E5%8C%BB%E8%8D%AF%E7%94%9F%E7%89%A9%22%2C%22displayValue%22%3A%22%E5%8C%BB%E8%8D%AF%E7%94%9F%E7%89%A9%22%2C%22selected%22%3Afalse%7D%2C%7B%22value%22%3A%22%E5%95%86%E4%B8%9A%E8%B4%B8%E6%98%93%22%2C%22displayValue%22%3A%22%E5%95%86%E4%B8%9A%E8%B4%B8%E6%98%93%22%2C%22selected%22%3Afalse%7D%2C%7B%22value%22%3A%22%E5%9B%BD%E9%98%B2%E5%86%9B%E5%B7%A5%22%2C%22displayValue%22%3A%22%E5%9B%BD%E9%98%B2%E5%86%9B%E5%B7%A5%22%2C%22selected%22%3Afalse%7D%2C%7B%22value%22%3A%22%E5%AE%B6%E7%94%A8%E7%94%B5%E5%99%A8%22%2C%22displayValue%22%3A%22%E5%AE%B6%E7%94%A8%E7%94%B5%E5%99%A8%22%2C%22selected%22%3Afalse%7D%2C%7B%22value%22%3A%22%E5%BB%BA%E7%AD%91%E6%9D%90%E6%96%99%2F%E5%BB%BA%E7%AD%91%E5%BB%BA%E6%9D%90%22%2C%22displayValue%22%3A%22%E5%BB%BA%E7%AD%91%E6%9D%90%E6%96%99%2F%E5%BB%BA%E7%AD%91%E5%BB%BA%E6%9D%90%22%2C%22selected%22%3Afalse%7D%2C%7B%22value%22%3A%22%E5%BB%BA%E7%AD%91%E8%A3%85%E9%A5%B0%22%2C%22displayValue%22%3A%22%E5%BB%BA%E7%AD%91%E8%A3%85%E9%A5%B0%22%2C%22selected%22%3Afalse%7D%2C%7B%22value%22%3A%22%E6%88%BF%E5%9C%B0%E4%BA%A7%22%2C%22displayValue%22%3A%22%E6%88%BF%E5%9C%B0%E4%BA%A7%22%2C%22selected%22%3Afalse%7D%2C%7B%22value%22%3A%22%E6%9C%89%E8%89%B2%E9%87%91%E5%B1%9E%22%2C%22displayValue%22%3A%22%E6%9C%89%E8%89%B2%E9%87%91%E5%B1%9E%22%2C%22selected%22%3Afalse%7D%2C%7B%22value%22%3A%22%E6%9C%BA%E6%A2%B0%E8%AE%BE%E5%A4%87%22%2C%22displayValue%22%3A%22%E6%9C%BA%E6%A2%B0%E8%AE%BE%E5%A4%87%22%2C%22selected%22%3Afalse%7D%2C%7B%22value%22%3A%22%E6%B1%BD%E8%BD%A6%2F%E4%BA%A4%E8%BF%90%E8%AE%BE%E5%A4%87%22%2C%22displayValue%22%3A%22%E6%B1%BD%E8%BD%A6%2F%E4%BA%A4%E8%BF%90%E8%AE%BE%E5%A4%87%22%2C%22selected%22%3Afalse%7D%2C%7B%22value%22%3A%22%E7%94%B5%E5%AD%90%22%2C%22displayValue%22%3A%22%E7%94%B5%E5%AD%90%22%2C%22selected%22%3Afalse%7D%2C%7B%22value%22%3A%22%E7%94%B5%E6%B0%94%E8%AE%BE%E5%A4%87%22%2C%22displayValue%22%3A%22%E7%94%B5%E6%B0%94%E8%AE%BE%E5%A4%87%22%2C%22selected%22%3Afalse%7D%2C%7B%22value%22%3A%22%E7%BA%BA%E7%BB%87%E6%9C%8D%E8%A3%85%22%2C%22displayValue%22%3A%22%E7%BA%BA%E7%BB%87%E6%9C%8D%E8%A3%85%22%2C%22selected%22%3Afalse%7D%2C%7B%22value%22%3A%22%E7%BB%BC%E5%90%88%22%2C%22displayValue%22%3A%22%E7%BB%BC%E5%90%88%22%2C%22selected%22%3Afalse%7D%2C%7B%22value%22%3A%22%E8%AE%A1%E7%AE%97%E6%9C%BA%22%2C%22displayValue%22%3A%22%E8%AE%A1%E7%AE%97%E6%9C%BA%22%2C%22selected%22%3Afalse%7D%2C%7B%22value%22%3A%22%E8%BD%BB%E5%B7%A5%E5%88%B6%E9%80%A0%22%2C%22displayValue%22%3A%22%E8%BD%BB%E5%B7%A5%E5%88%B6%E9%80%A0%22%2C%22selected%22%3Afalse%7D%2C%7B%22value%22%3A%22%E9%80%9A%E4%BF%A1%22%2C%22displayValue%22%3A%22%E9%80%9A%E4%BF%A1%22%2C%22selected%22%3Afalse%7D%2C%7B%22value%22%3A%22%E9%87%87%E6%8E%98%22%2C%22displayValue%22%3A%22%E9%87%87%E6%8E%98%22%2C%22selected%22%3Afalse%7D%2C%7B%22value%22%3A%22%E9%92%A2%E9%93%81%22%2C%22displayValue%22%3A%22%E9%92%A2%E9%93%81%22%2C%22selected%22%3Afalse%7D%2C%7B%22value%22%3A%22%E9%93%B6%E8%A1%8C%22%2C%22displayValue%22%3A%22%E9%93%B6%E8%A1%8C%22%2C%22selected%22%3Afalse%7D%2C%7B%22value%22%3A%22%E9%9D%9E%E9%93%B6%E9%87%91%E8%9E%8D%22%2C%22displayValue%22%3A%22%E9%9D%9E%E9%93%B6%E9%87%91%E8%9E%8D%22%2C%22selected%22%3Afalse%7D%2C%7B%22value%22%3A%22%E9%A3%9F%E5%93%81%E9%A5%AE%E6%96%99%22%2C%22displayValue%22%3A%22%E9%A3%9F%E5%93%81%E9%A5%AE%E6%96%99%22%2C%22selected%22%3Afalse%7D%5D%7D\",\"ValueType\":\"Literal\",\"LinkedGlobalParameter\":null},{\"Name\":\"st_cond\",\"Value\":\"%7B%22enumItems%22%3A%5B%7B%22value%22%3A%22%E5%85%A8%E9%83%A8%22%2C%22displayValue%22%3A%22%E5%85%A8%E9%83%A8%22%2C%22selected%22%3Atrue%7D%2C%7B%22value%22%3A%22%E6%AD%A3%E5%B8%B8%22%2C%22displayValue%22%3A%22%E6%AD%A3%E5%B8%B8%22%2C%22selected%22%3Afalse%7D%2C%7B%22value%22%3A%22ST%22%2C%22displayValue%22%3A%22ST%22%2C%22selected%22%3Afalse%7D%2C%7B%22value%22%3A%22*ST%22%2C%22displayValue%22%3A%22*ST%22%2C%22selected%22%3Afalse%7D%2C%7B%22value%22%3A%22%E6%9A%82%E5%81%9C%E4%B8%8A%E5%B8%82%22%2C%22displayValue%22%3A%22%E6%9A%82%E5%81%9C%E4%B8%8A%E5%B8%82%22%2C%22selected%22%3Afalse%7D%5D%7D\",\"ValueType\":\"Literal\",\"LinkedGlobalParameter\":null},{\"Name\":\"delist_cond\",\"Value\":\"%7B%22enumItems%22%3A%5B%7B%22value%22%3A%22%E5%85%A8%E9%83%A8%22%2C%22displayValue%22%3A%22%E5%85%A8%E9%83%A8%22%2C%22selected%22%3Atrue%7D%2C%7B%22value%22%3A%22%E9%80%80%E5%B8%82%22%2C%22displayValue%22%3A%22%E9%80%80%E5%B8%82%22%2C%22selected%22%3Afalse%7D%2C%7B%22value%22%3A%22%E9%9D%9E%E9%80%80%E5%B8%82%22%2C%22displayValue%22%3A%22%E9%9D%9E%E9%80%80%E5%B8%82%22%2C%22selected%22%3Afalse%7D%5D%7D\",\"ValueType\":\"Literal\",\"LinkedGlobalParameter\":null},{\"Name\":\"output_left_data\",\"Value\":\"False\",\"ValueType\":\"Literal\",\"LinkedGlobalParameter\":null}],\"InputPortsInternal\":[{\"DataSourceId\":null,\"TrainedModelId\":null,\"TransformModuleId\":null,\"Name\":\"input_data\",\"NodeId\":\"-411\"}],\"OutputPortsInternal\":[{\"Name\":\"data\",\"NodeId\":\"-411\",\"OutputType\":null},{\"Name\":\"left_data\",\"NodeId\":\"-411\",\"OutputType\":null}],\"UsePreviousResults\":true,\"moduleIdForCode\":3,\"IsPartOfPartialRun\":null,\"Comment\":\"\",\"CommentCollapsed\":true},{\"Id\":\"-393\",\"ModuleId\":\"BigQuantSpace.cached.cached-v3\",\"ModuleParameters\":[{\"Name\":\"run\",\"Value\":\"# Python 代码入口函数，input_1/2/3 对应三个输入端，data_1/2/3 对应三个输出端\\ndef bigquant_run(input_1, input_2, input_3):\\n    # 示例代码如下。在这里编写您的代码\\n    df = input_1.read_df()\\n    df['is_ai'] = df['concept'].map(lambda x: '人工智能' in x)  # 以人工智能为例，找到相关概念股票\\n    st = list(df[df['is_ai'] == True]['instrument'])\\n    data_1 = DataSource.write_pickle(st)\\n    return Outputs(data_1=data_1, data_2=None, data_3=None)\\n\",\"ValueType\":\"Literal\",\"LinkedGlobalParameter\":null},{\"Name\":\"post_run\",\"Value\":\"# 后处理函数，可选。输入是主函数的输出，可以在这里对数据做处理，或者返回更友好的outputs数据格式。此函数输出不会被缓存。\\ndef bigquant_run(outputs):\\n    return outputs\\n\",\"ValueType\":\"Literal\",\"LinkedGlobalParameter\":null},{\"Name\":\"input_ports\",\"Value\":\"\",\"ValueType\":\"Literal\",\"LinkedGlobalParameter\":null},{\"Name\":\"params\",\"Value\":\"{}\",\"ValueType\":\"Literal\",\"LinkedGlobalParameter\":null},{\"Name\":\"output_ports\",\"Value\":\"\",\"ValueType\":\"Literal\",\"LinkedGlobalParameter\":null}],\"InputPortsInternal\":[{\"DataSourceId\":null,\"TrainedModelId\":null,\"TransformModuleId\":null,\"Name\":\"input_1\",\"NodeId\":\"-393\"},{\"DataSourceId\":null,\"TrainedModelId\":null,\"TransformModuleId\":null,\"Name\":\"input_2\",\"NodeId\":\"-393\"},{\"DataSourceId\":null,\"TrainedModelId\":null,\"TransformModuleId\":null,\"Name\":\"input_3\",\"NodeId\":\"-393\"}],\"OutputPortsInternal\":[{\"Name\":\"data_1\",\"NodeId\":\"-393\",\"OutputType\":null},{\"Name\":\"data_2\",\"NodeId\":\"-393\",\"OutputType\":null},{\"Name\":\"data_3\",\"NodeId\":\"-393\",\"OutputType\":null}],\"UsePreviousResults\":true,\"moduleIdForCode\":9,\"IsPartOfPartialRun\":null,\"Comment\":\"\",\"CommentCollapsed\":true},{\"Id\":\"-435\",\"ModuleId\":\"BigQuantSpace.chinaa_stock_filter.chinaa_stock_filter-v1\",\"ModuleParameters\":[{\"Name\":\"index_constituent_cond\",\"Value\":\"%7B%22enumItems%22%3A%5B%7B%22value%22%3A%22%E5%85%A8%E9%83%A8%22%2C%22displayValue%22%3A%22%E5%85%A8%E9%83%A8%22%2C%22selected%22%3Atrue%7D%2C%7B%22value%22%3A%22%E4%B8%8A%E8%AF%8150%22%2C%22displayValue%22%3A%22%E4%B8%8A%E8%AF%8150%22%2C%22selected%22%3Afalse%7D%2C%7B%22value%22%3A%22%E6%B2%AA%E6%B7%B1300%22%2C%22displayValue%22%3A%22%E6%B2%AA%E6%B7%B1300%22%2C%22selected%22%3Afalse%7D%2C%7B%22value%22%3A%22%E4%B8%AD%E8%AF%81500%22%2C%22displayValue%22%3A%22%E4%B8%AD%E8%AF%81500%22%2C%22selected%22%3Afalse%7D%2C%7B%22value%22%3A%22%E4%B8%AD%E8%AF%81800%22%2C%22displayValue%22%3A%22%E4%B8%AD%E8%AF%81800%22%2C%22selected%22%3Afalse%7D%2C%7B%22value%22%3A%22%E4%B8%8A%E8%AF%81180%22%2C%22displayValue%22%3A%22%E4%B8%8A%E8%AF%81180%22%2C%22selected%22%3Afalse%7D%2C%7B%22value%22%3A%22%E4%B8%AD%E8%AF%81100%22%2C%22displayValue%22%3A%22%E4%B8%AD%E8%AF%81100%22%2C%22selected%22%3Afalse%7D%2C%7B%22value%22%3A%22%E6%B7%B1%E8%AF%81100%22%2C%22displayValue%22%3A%22%E6%B7%B1%E8%AF%81100%22%2C%22selected%22%3Afalse%7D%5D%7D\",\"ValueType\":\"Literal\",\"LinkedGlobalParameter\":null},{\"Name\":\"board_cond\",\"Value\":\"%7B%22enumItems%22%3A%5B%7B%22value%22%3A%22%E5%85%A8%E9%83%A8%22%2C%22displayValue%22%3A%22%E5%85%A8%E9%83%A8%22%2C%22selected%22%3Atrue%7D%2C%7B%22value%22%3A%22%E4%B8%8A%E8%AF%81%E4%B8%BB%E6%9D%BF%22%2C%22displayValue%22%3A%22%E4%B8%8A%E8%AF%81%E4%B8%BB%E6%9D%BF%22%2C%22selected%22%3Afalse%7D%2C%7B%22value%22%3A%22%E6%B7%B1%E8%AF%81%E4%B8%BB%E6%9D%BF%22%2C%22displayValue%22%3A%22%E6%B7%B1%E8%AF%81%E4%B8%BB%E6%9D%BF%22%2C%22selected%22%3Afalse%7D%2C%7B%22value%22%3A%22%E5%88%9B%E4%B8%9A%E6%9D%BF%22%2C%22displayValue%22%3A%22%E5%88%9B%E4%B8%9A%E6%9D%BF%22%2C%22selected%22%3Afalse%7D%5D%7D\",\"ValueType\":\"Literal\",\"LinkedGlobalParameter\":null},{\"Name\":\"industry_cond\",\"Value\":\"%7B%22enumItems%22%3A%5B%7B%22value%22%3A%22%E5%85%A8%E9%83%A8%22%2C%22displayValue%22%3A%22%E5%85%A8%E9%83%A8%22%2C%22selected%22%3Afalse%7D%2C%7B%22value%22%3A%22%E4%BA%A4%E9%80%9A%E8%BF%90%E8%BE%93%22%2C%22displayValue%22%3A%22%E4%BA%A4%E9%80%9A%E8%BF%90%E8%BE%93%22%2C%22selected%22%3Atrue%7D%2C%7B%22value%22%3A%22%E4%BC%91%E9%97%B2%E6%9C%8D%E5%8A%A1%22%2C%22displayValue%22%3A%22%E4%BC%91%E9%97%B2%E6%9C%8D%E5%8A%A1%22%2C%22selected%22%3Afalse%7D%2C%7B%22value%22%3A%22%E4%BC%A0%E5%AA%92%2F%E4%BF%A1%E6%81%AF%E6%9C%8D%E5%8A%A1%22%2C%22displayValue%22%3A%22%E4%BC%A0%E5%AA%92%2F%E4%BF%A1%E6%81%AF%E6%9C%8D%E5%8A%A1%22%2C%22selected%22%3Afalse%7D%2C%7B%22value%22%3A%22%E5%85%AC%E7%94%A8%E4%BA%8B%E4%B8%9A%22%2C%22displayValue%22%3A%22%E5%85%AC%E7%94%A8%E4%BA%8B%E4%B8%9A%22%2C%22selected%22%3Afalse%7D%2C%7B%22value%22%3A%22%E5%86%9C%E6%9E%97%E7%89%A7%E6%B8%94%22%2C%22displayValue%22%3A%22%E5%86%9C%E6%9E%97%E7%89%A7%E6%B8%94%22%2C%22selected%22%3Afalse%7D%2C%7B%22value%22%3A%22%E5%8C%96%E5%B7%A5%22%2C%22displayValue%22%3A%22%E5%8C%96%E5%B7%A5%22%2C%22selected%22%3Afalse%7D%2C%7B%22value%22%3A%22%E5%8C%BB%E8%8D%AF%E7%94%9F%E7%89%A9%22%2C%22displayValue%22%3A%22%E5%8C%BB%E8%8D%AF%E7%94%9F%E7%89%A9%22%2C%22selected%22%3Afalse%7D%2C%7B%22value%22%3A%22%E5%95%86%E4%B8%9A%E8%B4%B8%E6%98%93%22%2C%22displayValue%22%3A%22%E5%95%86%E4%B8%9A%E8%B4%B8%E6%98%93%22%2C%22selected%22%3Afalse%7D%2C%7B%22value%22%3A%22%E5%9B%BD%E9%98%B2%E5%86%9B%E5%B7%A5%22%2C%22displayValue%22%3A%22%E5%9B%BD%E9%98%B2%E5%86%9B%E5%B7%A5%22%2C%22selected%22%3Afalse%7D%2C%7B%22value%22%3A%22%E5%AE%B6%E7%94%A8%E7%94%B5%E5%99%A8%22%2C%22displayValue%22%3A%22%E5%AE%B6%E7%94%A8%E7%94%B5%E5%99%A8%22%2C%22selected%22%3Afalse%7D%2C%7B%22value%22%3A%22%E5%BB%BA%E7%AD%91%E6%9D%90%E6%96%99%2F%E5%BB%BA%E7%AD%91%E5%BB%BA%E6%9D%90%22%2C%22displayValue%22%3A%22%E5%BB%BA%E7%AD%91%E6%9D%90%E6%96%99%2F%E5%BB%BA%E7%AD%91%E5%BB%BA%E6%9D%90%22%2C%22selected%22%3Afalse%7D%2C%7B%22value%22%3A%22%E5%BB%BA%E7%AD%91%E8%A3%85%E9%A5%B0%22%2C%22displayValue%22%3A%22%E5%BB%BA%E7%AD%91%E8%A3%85%E9%A5%B0%22%2C%22selected%22%3Afalse%7D%2C%7B%22value%22%3A%22%E6%88%BF%E5%9C%B0%E4%BA%A7%22%2C%22displayValue%22%3A%22%E6%88%BF%E5%9C%B0%E4%BA%A7%22%2C%22selected%22%3Afalse%7D%2C%7B%22value%22%3A%22%E6%9C%89%E8%89%B2%E9%87%91%E5%B1%9E%22%2C%22displayValue%22%3A%22%E6%9C%89%E8%89%B2%E9%87%91%E5%B1%9E%22%2C%22selected%22%3Afalse%7D%2C%7B%22value%22%3A%22%E6%9C%BA%E6%A2%B0%E8%AE%BE%E5%A4%87%22%2C%22displayValue%22%3A%22%E6%9C%BA%E6%A2%B0%E8%AE%BE%E5%A4%87%22%2C%22selected%22%3Afalse%7D%2C%7B%22value%22%3A%22%E6%B1%BD%E8%BD%A6%2F%E4%BA%A4%E8%BF%90%E8%AE%BE%E5%A4%87%22%2C%22displayValue%22%3A%22%E6%B1%BD%E8%BD%A6%2F%E4%BA%A4%E8%BF%90%E8%AE%BE%E5%A4%87%22%2C%22selected%22%3Afalse%7D%2C%7B%22value%22%3A%22%E7%94%B5%E5%AD%90%22%2C%22displayValue%22%3A%22%E7%94%B5%E5%AD%90%22%2C%22selected%22%3Afalse%7D%2C%7B%22value%22%3A%22%E7%94%B5%E6%B0%94%E8%AE%BE%E5%A4%87%22%2C%22displayValue%22%3A%22%E7%94%B5%E6%B0%94%E8%AE%BE%E5%A4%87%22%2C%22selected%22%3Afalse%7D%2C%7B%22value%22%3A%22%E7%BA%BA%E7%BB%87%E6%9C%8D%E8%A3%85%22%2C%22displayValue%22%3A%22%E7%BA%BA%E7%BB%87%E6%9C%8D%E8%A3%85%22%2C%22selected%22%3Afalse%7D%2C%7B%22value%22%3A%22%E7%BB%BC%E5%90%88%22%2C%22displayValue%22%3A%22%E7%BB%BC%E5%90%88%22%2C%22selected%22%3Afalse%7D%2C%7B%22value%22%3A%22%E8%AE%A1%E7%AE%97%E6%9C%BA%22%2C%22displayValue%22%3A%22%E8%AE%A1%E7%AE%97%E6%9C%BA%22%2C%22selected%22%3Afalse%7D%2C%7B%22value%22%3A%22%E8%BD%BB%E5%B7%A5%E5%88%B6%E9%80%A0%22%2C%22displayValue%22%3A%22%E8%BD%BB%E5%B7%A5%E5%88%B6%E9%80%A0%22%2C%22selected%22%3Afalse%7D%2C%7B%22value%22%3A%22%E9%80%9A%E4%BF%A1%22%2C%22displayValue%22%3A%22%E9%80%9A%E4%BF%A1%22%2C%22selected%22%3Afalse%7D%2C%7B%22value%22%3A%22%E9%87%87%E6%8E%98%22%2C%22displayValue%22%3A%22%E9%87%87%E6%8E%98%22%2C%22selected%22%3Afalse%7D%2C%7B%22value%22%3A%22%E9%92%A2%E9%93%81%22%2C%22displayValue%22%3A%22%E9%92%A2%E9%93%81%22%2C%22selected%22%3Afalse%7D%2C%7B%22value%22%3A%22%E9%93%B6%E8%A1%8C%22%2C%22displayValue%22%3A%22%E9%93%B6%E8%A1%8C%22%2C%22selected%22%3Afalse%7D%2C%7B%22value%22%3A%22%E9%9D%9E%E9%93%B6%E9%87%91%E8%9E%8D%22%2C%22displayValue%22%3A%22%E9%9D%9E%E9%93%B6%E9%87%91%E8%9E%8D%22%2C%22selected%22%3Afalse%7D%2C%7B%22value%22%3A%22%E9%A3%9F%E5%93%81%E9%A5%AE%E6%96%99%22%2C%22displayValue%22%3A%22%E9%A3%9F%E5%93%81%E9%A5%AE%E6%96%99%22%2C%22selected%22%3Afalse%7D%5D%7D\",\"ValueType\":\"Literal\",\"LinkedGlobalParameter\":null},{\"Name\":\"st_cond\",\"Value\":\"%7B%22enumItems%22%3A%5B%7B%22value%22%3A%22%E5%85%A8%E9%83%A8%22%2C%22displayValue%22%3A%22%E5%85%A8%E9%83%A8%22%2C%22selected%22%3Atrue%7D%2C%7B%22value%22%3A%22%E6%AD%A3%E5%B8%B8%22%2C%22displayValue%22%3A%22%E6%AD%A3%E5%B8%B8%22%2C%22selected%22%3Afalse%7D%2C%7B%22value%22%3A%22ST%22%2C%22displayValue%22%3A%22ST%22%2C%22selected%22%3Afalse%7D%2C%7B%22value%22%3A%22*ST%22%2C%22displayValue%22%3A%22*ST%22%2C%22selected%22%3Afalse%7D%2C%7B%22value%22%3A%22%E6%9A%82%E5%81%9C%E4%B8%8A%E5%B8%82%22%2C%22displayValue%22%3A%22%E6%9A%82%E5%81%9C%E4%B8%8A%E5%B8%82%22%2C%22selected%22%3Afalse%7D%5D%7D\",\"ValueType\":\"Literal\",\"LinkedGlobalParameter\":null},{\"Name\":\"delist_cond\",\"Value\":\"%7B%22enumItems%22%3A%5B%7B%22value%22%3A%22%E5%85%A8%E9%83%A8%22%2C%22displayValue%22%3A%22%E5%85%A8%E9%83%A8%22%2C%22selected%22%3Atrue%7D%2C%7B%22value%22%3A%22%E9%80%80%E5%B8%82%22%2C%22displayValue%22%3A%22%E9%80%80%E5%B8%82%22%2C%22selected%22%3Afalse%7D%2C%7B%22value%22%3A%22%E9%9D%9E%E9%80%80%E5%B8%82%22%2C%22displayValue%22%3A%22%E9%9D%9E%E9%80%80%E5%B8%82%22%2C%22selected%22%3Afalse%7D%5D%7D\",\"ValueType\":\"Literal\",\"LinkedGlobalParameter\":null},{\"Name\":\"output_left_data\",\"Value\":\"False\",\"ValueType\":\"Literal\",\"LinkedGlobalParameter\":null}],\"InputPortsInternal\":[{\"DataSourceId\":null,\"TrainedModelId\":null,\"TransformModuleId\":null,\"Name\":\"input_data\",\"NodeId\":\"-435\"}],\"OutputPortsInternal\":[{\"Name\":\"data\",\"NodeId\":\"-435\",\"OutputType\":null},{\"Name\":\"left_data\",\"NodeId\":\"-435\",\"OutputType\":null}],\"UsePreviousResults\":true,\"moduleIdForCode\":4,\"IsPartOfPartialRun\":null,\"Comment\":\"\",\"CommentCollapsed\":true},{\"Id\":\"-451\",\"ModuleId\":\"BigQuantSpace.chinaa_stock_filter.chinaa_stock_filter-v1\",\"ModuleParameters\":[{\"Name\":\"index_constituent_cond\",\"Value\":\"%7B%22enumItems%22%3A%5B%7B%22value%22%3A%22%E5%85%A8%E9%83%A8%22%2C%22displayValue%22%3A%22%E5%85%A8%E9%83%A8%22%2C%22selected%22%3Atrue%7D%2C%7B%22value%22%3A%22%E4%B8%8A%E8%AF%8150%22%2C%22displayValue%22%3A%22%E4%B8%8A%E8%AF%8150%22%2C%22selected%22%3Afalse%7D%2C%7B%22value%22%3A%22%E6%B2%AA%E6%B7%B1300%22%2C%22displayValue%22%3A%22%E6%B2%AA%E6%B7%B1300%22%2C%22selected%22%3Afalse%7D%2C%7B%22value%22%3A%22%E4%B8%AD%E8%AF%81500%22%2C%22displayValue%22%3A%22%E4%B8%AD%E8%AF%81500%22%2C%22selected%22%3Afalse%7D%2C%7B%22value%22%3A%22%E4%B8%AD%E8%AF%81800%22%2C%22displayValue%22%3A%22%E4%B8%AD%E8%AF%81800%22%2C%22selected%22%3Afalse%7D%2C%7B%22value%22%3A%22%E4%B8%8A%E8%AF%81180%22%2C%22displayValue%22%3A%22%E4%B8%8A%E8%AF%81180%22%2C%22selected%22%3Afalse%7D%2C%7B%22value%22%3A%22%E4%B8%AD%E8%AF%81100%22%2C%22displayValue%22%3A%22%E4%B8%AD%E8%AF%81100%22%2C%22selected%22%3Afalse%7D%2C%7B%22value%22%3A%22%E6%B7%B1%E8%AF%81100%22%2C%22displayValue%22%3A%22%E6%B7%B1%E8%AF%81100%22%2C%22selected%22%3Afalse%7D%5D%7D\",\"ValueType\":\"Literal\",\"LinkedGlobalParameter\":null},{\"Name\":\"board_cond\",\"Value\":\"%7B%22enumItems%22%3A%5B%7B%22value%22%3A%22%E5%85%A8%E9%83%A8%22%2C%22displayValue%22%3A%22%E5%85%A8%E9%83%A8%22%2C%22selected%22%3Atrue%7D%2C%7B%22value%22%3A%22%E4%B8%8A%E8%AF%81%E4%B8%BB%E6%9D%BF%22%2C%22displayValue%22%3A%22%E4%B8%8A%E8%AF%81%E4%B8%BB%E6%9D%BF%22%2C%22selected%22%3Afalse%7D%2C%7B%22value%22%3A%22%E6%B7%B1%E8%AF%81%E4%B8%BB%E6%9D%BF%22%2C%22displayValue%22%3A%22%E6%B7%B1%E8%AF%81%E4%B8%BB%E6%9D%BF%22%2C%22selected%22%3Afalse%7D%2C%7B%22value%22%3A%22%E5%88%9B%E4%B8%9A%E6%9D%BF%22%2C%22displayValue%22%3A%22%E5%88%9B%E4%B8%9A%E6%9D%BF%22%2C%22selected%22%3Afalse%7D%5D%7D\",\"ValueType\":\"Literal\",\"LinkedGlobalParameter\":null},{\"Name\":\"industry_cond\",\"Value\":\"%7B%22enumItems%22%3A%5B%7B%22value%22%3A%22%E5%85%A8%E9%83%A8%22%2C%22displayValue%22%3A%22%E5%85%A8%E9%83%A8%22%2C%22selected%22%3Atrue%7D%2C%7B%22value%22%3A%22%E4%BA%A4%E9%80%9A%E8%BF%90%E8%BE%93%22%2C%22displayValue%22%3A%22%E4%BA%A4%E9%80%9A%E8%BF%90%E8%BE%93%22%2C%22selected%22%3Afalse%7D%2C%7B%22value%22%3A%22%E4%BC%91%E9%97%B2%E6%9C%8D%E5%8A%A1%22%2C%22displayValue%22%3A%22%E4%BC%91%E9%97%B2%E6%9C%8D%E5%8A%A1%22%2C%22selected%22%3Afalse%7D%2C%7B%22value%22%3A%22%E4%BC%A0%E5%AA%92%2F%E4%BF%A1%E6%81%AF%E6%9C%8D%E5%8A%A1%22%2C%22displayValue%22%3A%22%E4%BC%A0%E5%AA%92%2F%E4%BF%A1%E6%81%AF%E6%9C%8D%E5%8A%A1%22%2C%22selected%22%3Afalse%7D%2C%7B%22value%22%3A%22%E5%85%AC%E7%94%A8%E4%BA%8B%E4%B8%9A%22%2C%22displayValue%22%3A%22%E5%85%AC%E7%94%A8%E4%BA%8B%E4%B8%9A%22%2C%22selected%22%3Afalse%7D%2C%7B%22value%22%3A%22%E5%86%9C%E6%9E%97%E7%89%A7%E6%B8%94%22%2C%22displayValue%22%3A%22%E5%86%9C%E6%9E%97%E7%89%A7%E6%B8%94%22%2C%22selected%22%3Afalse%7D%2C%7B%22value%22%3A%22%E5%8C%96%E5%B7%A5%22%2C%22displayValue%22%3A%22%E5%8C%96%E5%B7%A5%22%2C%22selected%22%3Afalse%7D%2C%7B%22value%22%3A%22%E5%8C%BB%E8%8D%AF%E7%94%9F%E7%89%A9%22%2C%22displayValue%22%3A%22%E5%8C%BB%E8%8D%AF%E7%94%9F%E7%89%A9%22%2C%22selected%22%3Afalse%7D%2C%7B%22value%22%3A%22%E5%95%86%E4%B8%9A%E8%B4%B8%E6%98%93%22%2C%22displayValue%22%3A%22%E5%95%86%E4%B8%9A%E8%B4%B8%E6%98%93%22%2C%22selected%22%3Afalse%7D%2C%7B%22value%22%3A%22%E5%9B%BD%E9%98%B2%E5%86%9B%E5%B7%A5%22%2C%22displayValue%22%3A%22%E5%9B%BD%E9%98%B2%E5%86%9B%E5%B7%A5%22%2C%22selected%22%3Afalse%7D%2C%7B%22value%22%3A%22%E5%AE%B6%E7%94%A8%E7%94%B5%E5%99%A8%22%2C%22displayValue%22%3A%22%E5%AE%B6%E7%94%A8%E7%94%B5%E5%99%A8%22%2C%22selected%22%3Afalse%7D%2C%7B%22value%22%3A%22%E5%BB%BA%E7%AD%91%E6%9D%90%E6%96%99%2F%E5%BB%BA%E7%AD%91%E5%BB%BA%E6%9D%90%22%2C%22displayValue%22%3A%22%E5%BB%BA%E7%AD%91%E6%9D%90%E6%96%99%2F%E5%BB%BA%E7%AD%91%E5%BB%BA%E6%9D%90%22%2C%22selected%22%3Afalse%7D%2C%7B%22value%22%3A%22%E5%BB%BA%E7%AD%91%E8%A3%85%E9%A5%B0%22%2C%22displayValue%22%3A%22%E5%BB%BA%E7%AD%91%E8%A3%85%E9%A5%B0%22%2C%22selected%22%3Afalse%7D%2C%7B%22value%22%3A%22%E6%88%BF%E5%9C%B0%E4%BA%A7%22%2C%22displayValue%22%3A%22%E6%88%BF%E5%9C%B0%E4%BA%A7%22%2C%22selected%22%3Afalse%7D%2C%7B%22value%22%3A%22%E6%9C%89%E8%89%B2%E9%87%91%E5%B1%9E%22%2C%22displayValue%22%3A%22%E6%9C%89%E8%89%B2%E9%87%91%E5%B1%9E%22%2C%22selected%22%3Afalse%7D%2C%7B%22value%22%3A%22%E6%9C%BA%E6%A2%B0%E8%AE%BE%E5%A4%87%22%2C%22displayValue%22%3A%22%E6%9C%BA%E6%A2%B0%E8%AE%BE%E5%A4%87%22%2C%22selected%22%3Afalse%7D%2C%7B%22value%22%3A%22%E6%B1%BD%E8%BD%A6%2F%E4%BA%A4%E8%BF%90%E8%AE%BE%E5%A4%87%22%2C%22displayValue%22%3A%22%E6%B1%BD%E8%BD%A6%2F%E4%BA%A4%E8%BF%90%E8%AE%BE%E5%A4%87%22%2C%22selected%22%3Afalse%7D%2C%7B%22value%22%3A%22%E7%94%B5%E5%AD%90%22%2C%22displayValue%22%3A%22%E7%94%B5%E5%AD%90%22%2C%22selected%22%3Afalse%7D%2C%7B%22value%22%3A%22%E7%94%B5%E6%B0%94%E8%AE%BE%E5%A4%87%22%2C%22displayValue%22%3A%22%E7%94%B5%E6%B0%94%E8%AE%BE%E5%A4%87%22%2C%22selected%22%3Afalse%7D%2C%7B%22value%22%3A%22%E7%BA%BA%E7%BB%87%E6%9C%8D%E8%A3%85%22%2C%22displayValue%22%3A%22%E7%BA%BA%E7%BB%87%E6%9C%8D%E8%A3%85%22%2C%22selected%22%3Afalse%7D%2C%7B%22value%22%3A%22%E7%BB%BC%E5%90%88%22%2C%22displayValue%22%3A%22%E7%BB%BC%E5%90%88%22%2C%22selected%22%3Afalse%7D%2C%7B%22value%22%3A%22%E8%AE%A1%E7%AE%97%E6%9C%BA%22%2C%22displayValue%22%3A%22%E8%AE%A1%E7%AE%97%E6%9C%BA%22%2C%22selected%22%3Afalse%7D%2C%7B%22value%22%3A%22%E8%BD%BB%E5%B7%A5%E5%88%B6%E9%80%A0%22%2C%22displayValue%22%3A%22%E8%BD%BB%E5%B7%A5%E5%88%B6%E9%80%A0%22%2C%22selected%22%3Afalse%7D%2C%7B%22value%22%3A%22%E9%80%9A%E4%BF%A1%22%2C%22displayValue%22%3A%22%E9%80%9A%E4%BF%A1%22%2C%22selected%22%3Afalse%7D%2C%7B%22value%22%3A%22%E9%87%87%E6%8E%98%22%2C%22displayValue%22%3A%22%E9%87%87%E6%8E%98%22%2C%22selected%22%3Afalse%7D%2C%7B%22value%22%3A%22%E9%92%A2%E9%93%81%22%2C%22displayValue%22%3A%22%E9%92%A2%E9%93%81%22%2C%22selected%22%3Afalse%7D%2C%7B%22value%22%3A%22%E9%93%B6%E8%A1%8C%22%2C%22displayValue%22%3A%22%E9%93%B6%E8%A1%8C%22%2C%22selected%22%3Afalse%7D%2C%7B%22value%22%3A%22%E9%9D%9E%E9%93%B6%E9%87%91%E8%9E%8D%22%2C%22displayValue%22%3A%22%E9%9D%9E%E9%93%B6%E9%87%91%E8%9E%8D%22%2C%22selected%22%3Afalse%7D%2C%7B%22value%22%3A%22%E9%A3%9F%E5%93%81%E9%A5%AE%E6%96%99%22%2C%22displayValue%22%3A%22%E9%A3%9F%E5%93%81%E9%A5%AE%E6%96%99%22%2C%22selected%22%3Afalse%7D%5D%7D\",\"ValueType\":\"Literal\",\"LinkedGlobalParameter\":null},{\"Name\":\"st_cond\",\"Value\":\"%7B%22enumItems%22%3A%5B%7B%22value%22%3A%22%E5%85%A8%E9%83%A8%22%2C%22displayValue%22%3A%22%E5%85%A8%E9%83%A8%22%2C%22selected%22%3Afalse%7D%2C%7B%22value%22%3A%22%E6%AD%A3%E5%B8%B8%22%2C%22displayValue%22%3A%22%E6%AD%A3%E5%B8%B8%22%2C%22selected%22%3Atrue%7D%2C%7B%22value%22%3A%22ST%22%2C%22displayValue%22%3A%22ST%22%2C%22selected%22%3Afalse%7D%2C%7B%22value%22%3A%22*ST%22%2C%22displayValue%22%3A%22*ST%22%2C%22selected%22%3Afalse%7D%2C%7B%22value%22%3A%22%E6%9A%82%E5%81%9C%E4%B8%8A%E5%B8%82%22%2C%22displayValue%22%3A%22%E6%9A%82%E5%81%9C%E4%B8%8A%E5%B8%82%22%2C%22selected%22%3Afalse%7D%5D%7D\",\"ValueType\":\"Literal\",\"LinkedGlobalParameter\":null},{\"Name\":\"delist_cond\",\"Value\":\"%7B%22enumItems%22%3A%5B%7B%22value%22%3A%22%E5%85%A8%E9%83%A8%22%2C%22displayValue%22%3A%22%E5%85%A8%E9%83%A8%22%2C%22selected%22%3Atrue%7D%2C%7B%22value%22%3A%22%E9%80%80%E5%B8%82%22%2C%22displayValue%22%3A%22%E9%80%80%E5%B8%82%22%2C%22selected%22%3Afalse%7D%2C%7B%22value%22%3A%22%E9%9D%9E%E9%80%80%E5%B8%82%22%2C%22displayValue%22%3A%22%E9%9D%9E%E9%80%80%E5%B8%82%22%2C%22selected%22%3Afalse%7D%5D%7D\",\"ValueType\":\"Literal\",\"LinkedGlobalParameter\":null},{\"Name\":\"output_left_data\",\"Value\":\"False\",\"ValueType\":\"Literal\",\"LinkedGlobalParameter\":null}],\"InputPortsInternal\":[{\"DataSourceId\":null,\"TrainedModelId\":null,\"TransformModuleId\":null,\"Name\":\"input_data\",\"NodeId\":\"-451\"}],\"OutputPortsInternal\":[{\"Name\":\"data\",\"NodeId\":\"-451\",\"OutputType\":null},{\"Name\":\"left_data\",\"NodeId\":\"-451\",\"OutputType\":null}],\"UsePreviousResults\":true,\"moduleIdForCode\":5,\"IsPartOfPartialRun\":null,\"Comment\":\"\",\"CommentCollapsed\":true},{\"Id\":\"-460\",\"ModuleId\":\"BigQuantSpace.use_datasource.use_datasource-v1\",\"ModuleParameters\":[{\"Name\":\"datasource_id\",\"Value\":\"industry_CN_STOCK_A\",\"ValueType\":\"Literal\",\"LinkedGlobalParameter\":null},{\"Name\":\"start_date\",\"Value\":\"\",\"ValueType\":\"Literal\",\"LinkedGlobalParameter\":null},{\"Name\":\"end_date\",\"Value\":\"\",\"ValueType\":\"Literal\",\"LinkedGlobalParameter\":null}],\"InputPortsInternal\":[{\"DataSourceId\":null,\"TrainedModelId\":null,\"TransformModuleId\":null,\"Name\":\"instruments\",\"NodeId\":\"-460\"},{\"DataSourceId\":null,\"TrainedModelId\":null,\"TransformModuleId\":null,\"Name\":\"features\",\"NodeId\":\"-460\"}],\"OutputPortsInternal\":[{\"Name\":\"data\",\"NodeId\":\"-460\",\"OutputType\":null}],\"UsePreviousResults\":true,\"moduleIdForCode\":10,\"IsPartOfPartialRun\":null,\"Comment\":\"\",\"CommentCollapsed\":true},{\"Id\":\"-467\",\"ModuleId\":\"BigQuantSpace.chinaa_stock_filter.chinaa_stock_filter-v1\",\"ModuleParameters\":[{\"Name\":\"index_constituent_cond\",\"Value\":\"%7B%22enumItems%22%3A%5B%7B%22value%22%3A%22%E5%85%A8%E9%83%A8%22%2C%22displayValue%22%3A%22%E5%85%A8%E9%83%A8%22%2C%22selected%22%3Atrue%7D%2C%7B%22value%22%3A%22%E4%B8%8A%E8%AF%8150%22%2C%22displayValue%22%3A%22%E4%B8%8A%E8%AF%8150%22%2C%22selected%22%3Afalse%7D%2C%7B%22value%22%3A%22%E6%B2%AA%E6%B7%B1300%22%2C%22displayValue%22%3A%22%E6%B2%AA%E6%B7%B1300%22%2C%22selected%22%3Afalse%7D%2C%7B%22value%22%3A%22%E4%B8%AD%E8%AF%81500%22%2C%22displayValue%22%3A%22%E4%B8%AD%E8%AF%81500%22%2C%22selected%22%3Afalse%7D%2C%7B%22value%22%3A%22%E4%B8%AD%E8%AF%81800%22%2C%22displayValue%22%3A%22%E4%B8%AD%E8%AF%81800%22%2C%22selected%22%3Afalse%7D%2C%7B%22value%22%3A%22%E4%B8%8A%E8%AF%81180%22%2C%22displayValue%22%3A%22%E4%B8%8A%E8%AF%81180%22%2C%22selected%22%3Afalse%7D%2C%7B%22value%22%3A%22%E4%B8%AD%E8%AF%81100%22%2C%22displayValue%22%3A%22%E4%B8%AD%E8%AF%81100%22%2C%22selected%22%3Afalse%7D%2C%7B%22value%22%3A%22%E6%B7%B1%E8%AF%81100%22%2C%22displayValue%22%3A%22%E6%B7%B1%E8%AF%81100%22%2C%22selected%22%3Afalse%7D%5D%7D\",\"ValueType\":\"Literal\",\"LinkedGlobalParameter\":null},{\"Name\":\"board_cond\",\"Value\":\"%7B%22enumItems%22%3A%5B%7B%22value%22%3A%22%E5%85%A8%E9%83%A8%22%2C%22displayValue%22%3A%22%E5%85%A8%E9%83%A8%22%2C%22selected%22%3Afalse%7D%2C%7B%22value%22%3A%22%E4%B8%8A%E8%AF%81%E4%B8%BB%E6%9D%BF%22%2C%22displayValue%22%3A%22%E4%B8%8A%E8%AF%81%E4%B8%BB%E6%9D%BF%22%2C%22selected%22%3Afalse%7D%2C%7B%22value%22%3A%22%E6%B7%B1%E8%AF%81%E4%B8%BB%E6%9D%BF%22%2C%22displayValue%22%3A%22%E6%B7%B1%E8%AF%81%E4%B8%BB%E6%9D%BF%22%2C%22selected%22%3Afalse%7D%2C%7B%22value%22%3A%22%E5%88%9B%E4%B8%9A%E6%9D%BF%22%2C%22displayValue%22%3A%22%E5%88%9B%E4%B8%9A%E6%9D%BF%22%2C%22selected%22%3Atrue%7D%5D%7D\",\"ValueType\":\"Literal\",\"LinkedGlobalParameter\":null},{\"Name\":\"industry_cond\",\"Value\":\"%7B%22enumItems%22%3A%5B%7B%22value%22%3A%22%E5%85%A8%E9%83%A8%22%2C%22displayValue%22%3A%22%E5%85%A8%E9%83%A8%22%2C%22selected%22%3Atrue%7D%2C%7B%22value%22%3A%22%E4%BA%A4%E9%80%9A%E8%BF%90%E8%BE%93%22%2C%22displayValue%22%3A%22%E4%BA%A4%E9%80%9A%E8%BF%90%E8%BE%93%22%2C%22selected%22%3Afalse%7D%2C%7B%22value%22%3A%22%E4%BC%91%E9%97%B2%E6%9C%8D%E5%8A%A1%22%2C%22displayValue%22%3A%22%E4%BC%91%E9%97%B2%E6%9C%8D%E5%8A%A1%22%2C%22selected%22%3Afalse%7D%2C%7B%22value%22%3A%22%E4%BC%A0%E5%AA%92%2F%E4%BF%A1%E6%81%AF%E6%9C%8D%E5%8A%A1%22%2C%22displayValue%22%3A%22%E4%BC%A0%E5%AA%92%2F%E4%BF%A1%E6%81%AF%E6%9C%8D%E5%8A%A1%22%2C%22selected%22%3Afalse%7D%2C%7B%22value%22%3A%22%E5%85%AC%E7%94%A8%E4%BA%8B%E4%B8%9A%22%2C%22displayValue%22%3A%22%E5%85%AC%E7%94%A8%E4%BA%8B%E4%B8%9A%22%2C%22selected%22%3Afalse%7D%2C%7B%22value%22%3A%22%E5%86%9C%E6%9E%97%E7%89%A7%E6%B8%94%22%2C%22displayValue%22%3A%22%E5%86%9C%E6%9E%97%E7%89%A7%E6%B8%94%22%2C%22selected%22%3Afalse%7D%2C%7B%22value%22%3A%22%E5%8C%96%E5%B7%A5%22%2C%22displayValue%22%3A%22%E5%8C%96%E5%B7%A5%22%2C%22selected%22%3Afalse%7D%2C%7B%22value%22%3A%22%E5%8C%BB%E8%8D%AF%E7%94%9F%E7%89%A9%22%2C%22displayValue%22%3A%22%E5%8C%BB%E8%8D%AF%E7%94%9F%E7%89%A9%22%2C%22selected%22%3Afalse%7D%2C%7B%22value%22%3A%22%E5%95%86%E4%B8%9A%E8%B4%B8%E6%98%93%22%2C%22displayValue%22%3A%22%E5%95%86%E4%B8%9A%E8%B4%B8%E6%98%93%22%2C%22selected%22%3Afalse%7D%2C%7B%22value%22%3A%22%E5%9B%BD%E9%98%B2%E5%86%9B%E5%B7%A5%22%2C%22displayValue%22%3A%22%E5%9B%BD%E9%98%B2%E5%86%9B%E5%B7%A5%22%2C%22selected%22%3Afalse%7D%2C%7B%22value%22%3A%22%E5%AE%B6%E7%94%A8%E7%94%B5%E5%99%A8%22%2C%22displayValue%22%3A%22%E5%AE%B6%E7%94%A8%E7%94%B5%E5%99%A8%22%2C%22selected%22%3Afalse%7D%2C%7B%22value%22%3A%22%E5%BB%BA%E7%AD%91%E6%9D%90%E6%96%99%2F%E5%BB%BA%E7%AD%91%E5%BB%BA%E6%9D%90%22%2C%22displayValue%22%3A%22%E5%BB%BA%E7%AD%91%E6%9D%90%E6%96%99%2F%E5%BB%BA%E7%AD%91%E5%BB%BA%E6%9D%90%22%2C%22selected%22%3Afalse%7D%2C%7B%22value%22%3A%22%E5%BB%BA%E7%AD%91%E8%A3%85%E9%A5%B0%22%2C%22displayValue%22%3A%22%E5%BB%BA%E7%AD%91%E8%A3%85%E9%A5%B0%22%2C%22selected%22%3Afalse%7D%2C%7B%22value%22%3A%22%E6%88%BF%E5%9C%B0%E4%BA%A7%22%2C%22displayValue%22%3A%22%E6%88%BF%E5%9C%B0%E4%BA%A7%22%2C%22selected%22%3Afalse%7D%2C%7B%22value%22%3A%22%E6%9C%89%E8%89%B2%E9%87%91%E5%B1%9E%22%2C%22displayValue%22%3A%22%E6%9C%89%E8%89%B2%E9%87%91%E5%B1%9E%22%2C%22selected%22%3Afalse%7D%2C%7B%22value%22%3A%22%E6%9C%BA%E6%A2%B0%E8%AE%BE%E5%A4%87%22%2C%22displayValue%22%3A%22%E6%9C%BA%E6%A2%B0%E8%AE%BE%E5%A4%87%22%2C%22selected%22%3Afalse%7D%2C%7B%22value%22%3A%22%E6%B1%BD%E8%BD%A6%2F%E4%BA%A4%E8%BF%90%E8%AE%BE%E5%A4%87%22%2C%22displayValue%22%3A%22%E6%B1%BD%E8%BD%A6%2F%E4%BA%A4%E8%BF%90%E8%AE%BE%E5%A4%87%22%2C%22selected%22%3Afalse%7D%2C%7B%22value%22%3A%22%E7%94%B5%E5%AD%90%22%2C%22displayValue%22%3A%22%E7%94%B5%E5%AD%90%22%2C%22selected%22%3Afalse%7D%2C%7B%22value%22%3A%22%E7%94%B5%E6%B0%94%E8%AE%BE%E5%A4%87%22%2C%22displayValue%22%3A%22%E7%94%B5%E6%B0%94%E8%AE%BE%E5%A4%87%22%2C%22selected%22%3Afalse%7D%2C%7B%22value%22%3A%22%E7%BA%BA%E7%BB%87%E6%9C%8D%E8%A3%85%22%2C%22displayValue%22%3A%22%E7%BA%BA%E7%BB%87%E6%9C%8D%E8%A3%85%22%2C%22selected%22%3Afalse%7D%2C%7B%22value%22%3A%22%E7%BB%BC%E5%90%88%22%2C%22displayValue%22%3A%22%E7%BB%BC%E5%90%88%22%2C%22selected%22%3Afalse%7D%2C%7B%22value%22%3A%22%E8%AE%A1%E7%AE%97%E6%9C%BA%22%2C%22displayValue%22%3A%22%E8%AE%A1%E7%AE%97%E6%9C%BA%22%2C%22selected%22%3Afalse%7D%2C%7B%22value%22%3A%22%E8%BD%BB%E5%B7%A5%E5%88%B6%E9%80%A0%22%2C%22displayValue%22%3A%22%E8%BD%BB%E5%B7%A5%E5%88%B6%E9%80%A0%22%2C%22selected%22%3Afalse%7D%2C%7B%22value%22%3A%22%E9%80%9A%E4%BF%A1%22%2C%22displayValue%22%3A%22%E9%80%9A%E4%BF%A1%22%2C%22selected%22%3Afalse%7D%2C%7B%22value%22%3A%22%E9%87%87%E6%8E%98%22%2C%22displayValue%22%3A%22%E9%87%87%E6%8E%98%22%2C%22selected%22%3Afalse%7D%2C%7B%22value%22%3A%22%E9%92%A2%E9%93%81%22%2C%22displayValue%22%3A%22%E9%92%A2%E9%93%81%22%2C%22selected%22%3Afalse%7D%2C%7B%22value%22%3A%22%E9%93%B6%E8%A1%8C%22%2C%22displayValue%22%3A%22%E9%93%B6%E8%A1%8C%22%2C%22selected%22%3Afalse%7D%2C%7B%22value%22%3A%22%E9%9D%9E%E9%93%B6%E9%87%91%E8%9E%8D%22%2C%22displayValue%22%3A%22%E9%9D%9E%E9%93%B6%E9%87%91%E8%9E%8D%22%2C%22selected%22%3Afalse%7D%2C%7B%22value%22%3A%22%E9%A3%9F%E5%93%81%E9%A5%AE%E6%96%99%22%2C%22displayValue%22%3A%22%E9%A3%9F%E5%93%81%E9%A5%AE%E6%96%99%22%2C%22selected%22%3Afalse%7D%5D%7D\",\"ValueType\":\"Literal\",\"LinkedGlobalParameter\":null},{\"Name\":\"st_cond\",\"Value\":\"%7B%22enumItems%22%3A%5B%7B%22value%22%3A%22%E5%85%A8%E9%83%A8%22%2C%22displayValue%22%3A%22%E5%85%A8%E9%83%A8%22%2C%22selected%22%3Atrue%7D%2C%7B%22value%22%3A%22%E6%AD%A3%E5%B8%B8%22%2C%22displayValue%22%3A%22%E6%AD%A3%E5%B8%B8%22%2C%22selected%22%3Afalse%7D%2C%7B%22value%22%3A%22ST%22%2C%22displayValue%22%3A%22ST%22%2C%22selected%22%3Afalse%7D%2C%7B%22value%22%3A%22*ST%22%2C%22displayValue%22%3A%22*ST%22%2C%22selected%22%3Afalse%7D%2C%7B%22value%22%3A%22%E6%9A%82%E5%81%9C%E4%B8%8A%E5%B8%82%22%2C%22displayValue%22%3A%22%E6%9A%82%E5%81%9C%E4%B8%8A%E5%B8%82%22%2C%22selected%22%3Afalse%7D%5D%7D\",\"ValueType\":\"Literal\",\"LinkedGlobalParameter\":null},{\"Name\":\"delist_cond\",\"Value\":\"%7B%22enumItems%22%3A%5B%7B%22value%22%3A%22%E5%85%A8%E9%83%A8%22%2C%22displayValue%22%3A%22%E5%85%A8%E9%83%A8%22%2C%22selected%22%3Atrue%7D%2C%7B%22value%22%3A%22%E9%80%80%E5%B8%82%22%2C%22displayValue%22%3A%22%E9%80%80%E5%B8%82%22%2C%22selected%22%3Afalse%7D%2C%7B%22value%22%3A%22%E9%9D%9E%E9%80%80%E5%B8%82%22%2C%22displayValue%22%3A%22%E9%9D%9E%E9%80%80%E5%B8%82%22%2C%22selected%22%3Afalse%7D%5D%7D\",\"ValueType\":\"Literal\",\"LinkedGlobalParameter\":null},{\"Name\":\"output_left_data\",\"Value\":\"False\",\"ValueType\":\"Literal\",\"LinkedGlobalParameter\":null}],\"InputPortsInternal\":[{\"DataSourceId\":null,\"TrainedModelId\":null,\"TransformModuleId\":null,\"Name\":\"input_data\",\"NodeId\":\"-467\"}],\"OutputPortsInternal\":[{\"Name\":\"data\",\"NodeId\":\"-467\",\"OutputType\":null},{\"Name\":\"left_data\",\"NodeId\":\"-467\",\"OutputType\":null}],\"UsePreviousResults\":true,\"moduleIdForCode\":6,\"IsPartOfPartialRun\":null,\"Comment\":\"\",\"CommentCollapsed\":true},{\"Id\":\"-475\",\"ModuleId\":\"BigQuantSpace.instruments.instruments-v2\",\"ModuleParameters\":[{\"Name\":\"start_date\",\"Value\":\"2016-01-01\",\"ValueType\":\"Literal\",\"LinkedGlobalParameter\":null},{\"Name\":\"end_date\",\"Value\":\"2017-09-14\",\"ValueType\":\"Literal\",\"LinkedGlobalParameter\":null},{\"Name\":\"market\",\"Value\":\"CN_STOCK_A\",\"ValueType\":\"Literal\",\"LinkedGlobalParameter\":null},{\"Name\":\"instrument_list\",\"Value\":\"\",\"ValueType\":\"Literal\",\"LinkedGlobalParameter\":null},{\"Name\":\"max_count\",\"Value\":0,\"ValueType\":\"Literal\",\"LinkedGlobalParameter\":null}],\"InputPortsInternal\":[{\"DataSourceId\":null,\"TrainedModelId\":null,\"TransformModuleId\":null,\"Name\":\"rolling_conf\",\"NodeId\":\"-475\"}],\"OutputPortsInternal\":[{\"Name\":\"data\",\"NodeId\":\"-475\",\"OutputType\":null}],\"UsePreviousResults\":true,\"moduleIdForCode\":11,\"IsPartOfPartialRun\":null,\"Comment\":\"\",\"CommentCollapsed\":true},{\"Id\":\"-483\",\"ModuleId\":\"BigQuantSpace.input_features.input_features-v1\",\"ModuleParameters\":[{\"Name\":\"features\",\"Value\":\"\\n# #号开始的表示注释，注释需单独一行\\n# 多个特征，每行一个，可以包含基础特征和衍生特征，特征须为本平台特征\\nconcept\\n\",\"ValueType\":\"Literal\",\"LinkedGlobalParameter\":null}],\"InputPortsInternal\":[{\"DataSourceId\":null,\"TrainedModelId\":null,\"TransformModuleId\":null,\"Name\":\"features_ds\",\"NodeId\":\"-483\"}],\"OutputPortsInternal\":[{\"Name\":\"data\",\"NodeId\":\"-483\",\"OutputType\":null}],\"UsePreviousResults\":true,\"moduleIdForCode\":12,\"IsPartOfPartialRun\":null,\"Comment\":\"\",\"CommentCollapsed\":true}],\"SerializedClientData\":\"<?xml version='1.0' encoding='utf-16'?><DataV1 xmlns:xsd='http://www.w3.org/2001/XMLSchema' xmlns:xsi='http://www.w3.org/2001/XMLSchema-instance'><Meta /><NodePositions><NodePosition Node='-327' Position='-24,256,200,200'/><NodePosition Node='-336' Position='-22,338,200,200'/><NodePosition Node='-411' Position='-493,506,200,200'/><NodePosition Node='-393' Position='-2,949,200,200'/><NodePosition Node='-435' Position='-162,505,200,200'/><NodePosition Node='-451' Position='130,502,200,200'/><NodePosition Node='-460' Position='-23,843,200,200'/><NodePosition Node='-467' Position='425,501,200,200'/><NodePosition Node='-475' Position='-179,738,200,200'/><NodePosition Node='-483' Position='140,734,200,200'/></NodePositions><NodeGroups /></DataV1>\"},\"IsDraft\":true,\"ParentExperimentId\":null,\"WebService\":{\"IsWebServiceExperiment\":false,\"Inputs\":[],\"Outputs\":[],\"Parameters\":[{\"Name\":\"交易日期\",\"Value\":\"\",\"ParameterDefinition\":{\"Name\":\"交易日期\",\"FriendlyName\":\"交易日期\",\"DefaultValue\":\"\",\"ParameterType\":\"String\",\"HasDefaultValue\":true,\"IsOptional\":true,\"ParameterRules\":[],\"HasRules\":false,\"MarkupType\":0,\"CredentialDescriptor\":null}}],\"WebServiceGroupId\":null,\"SerializedClientData\":\"<?xml version='1.0' encoding='utf-16'?><DataV1 xmlns:xsd='http://www.w3.org/2001/XMLSchema' xmlns:xsi='http://www.w3.org/2001/XMLSchema-instance'><Meta /><NodePositions></NodePositions><NodeGroups /></DataV1>\"},\"DisableNodesUpdate\":false,\"Category\":\"user\",\"Tags\":[],\"IsPartialRun\":true}"
   },
   "outputs": [
    {
     "data": {
      "text/plain": [
       "[2020-11-03 16:16:49.297406] INFO: moduleinvoker: instruments.v2 开始运行.."
      ]
     },
     "metadata": {
      "is_log": true,
      "status": "INFO"
     },
     "output_type": "display_data"
    },
    {
     "data": {
      "text/plain": [
       "[2020-11-03 16:16:49.482974] INFO: moduleinvoker: instruments.v2 运行完成[0.185568s]."
      ]
     },
     "metadata": {
      "is_log": true,
      "status": "INFO"
     },
     "output_type": "display_data"
    },
    {
     "data": {
      "text/plain": [
       "[2020-11-03 16:16:49.488180] INFO: moduleinvoker: use_datasource.v1 开始运行.."
      ]
     },
     "metadata": {
      "is_log": true,
      "status": "INFO"
     },
     "output_type": "display_data"
    },
    {
     "data": {
      "text/plain": [
       "[2020-11-03 16:16:52.844299] INFO: moduleinvoker: use_datasource.v1 运行完成[3.356103s]."
      ]
     },
     "metadata": {
      "is_log": true,
      "status": "INFO"
     },
     "output_type": "display_data"
    },
    {
     "data": {
      "text/plain": [
       "[2020-11-03 16:16:52.850566] INFO: moduleinvoker: chinaa_stock_filter.v1 开始运行.."
      ]
     },
     "metadata": {
      "is_log": true,
      "status": "INFO"
     },
     "output_type": "display_data"
    },
    {
     "data": {
      "text/plain": [
       "[2020-11-03 16:16:54.135700] INFO: A股股票过滤: 过滤 /data, 125100/0/1260523"
      ]
     },
     "metadata": {
      "is_log": true,
      "status": "INFO"
     },
     "output_type": "display_data"
    },
    {
     "data": {
      "text/plain": [
       "[2020-11-03 16:16:54.137804] INFO: A股股票过滤: 过滤完成, 125100 + 0"
      ]
     },
     "metadata": {
      "is_log": true,
      "status": "INFO"
     },
     "output_type": "display_data"
    },
    {
     "data": {
      "text/plain": [
       "[2020-11-03 16:16:54.272430] INFO: moduleinvoker: chinaa_stock_filter.v1 运行完成[1.421847s]."
      ]
     },
     "metadata": {
      "is_log": true,
      "status": "INFO"
     },
     "output_type": "display_data"
    },
    {
     "data": {
      "text/plain": [
       "[2020-11-03 16:16:54.274394] INFO: moduleinvoker: chinaa_stock_filter.v1 开始运行.."
      ]
     },
     "metadata": {
      "is_log": true,
      "status": "INFO"
     },
     "output_type": "display_data"
    },
    {
     "data": {
      "text/plain": [
       "[2020-11-03 16:16:57.359663] INFO: A股股票过滤: 过滤 /data, 40634/0/1260523"
      ]
     },
     "metadata": {
      "is_log": true,
      "status": "INFO"
     },
     "output_type": "display_data"
    },
    {
     "data": {
      "text/plain": [
       "[2020-11-03 16:16:57.361569] INFO: A股股票过滤: 过滤完成, 40634 + 0"
      ]
     },
     "metadata": {
      "is_log": true,
      "status": "INFO"
     },
     "output_type": "display_data"
    },
    {
     "data": {
      "text/plain": [
       "[2020-11-03 16:16:57.491129] INFO: moduleinvoker: chinaa_stock_filter.v1 运行完成[3.216707s]."
      ]
     },
     "metadata": {
      "is_log": true,
      "status": "INFO"
     },
     "output_type": "display_data"
    },
    {
     "data": {
      "text/plain": [
       "[2020-11-03 16:16:57.493008] INFO: moduleinvoker: chinaa_stock_filter.v1 开始运行.."
      ]
     },
     "metadata": {
      "is_log": true,
      "status": "INFO"
     },
     "output_type": "display_data"
    },
    {
     "data": {
      "text/plain": [
       "[2020-11-03 16:17:00.884837] INFO: A股股票过滤: 过滤 /data, 1231735/0/1260523"
      ]
     },
     "metadata": {
      "is_log": true,
      "status": "INFO"
     },
     "output_type": "display_data"
    },
    {
     "data": {
      "text/plain": [
       "[2020-11-03 16:17:00.886978] INFO: A股股票过滤: 过滤完成, 1231735 + 0"
      ]
     },
     "metadata": {
      "is_log": true,
      "status": "INFO"
     },
     "output_type": "display_data"
    },
    {
     "data": {
      "text/plain": [
       "[2020-11-03 16:17:01.344003] INFO: moduleinvoker: chinaa_stock_filter.v1 运行完成[3.850971s]."
      ]
     },
     "metadata": {
      "is_log": true,
      "status": "INFO"
     },
     "output_type": "display_data"
    },
    {
     "data": {
      "text/plain": [
       "[2020-11-03 16:17:01.345877] INFO: moduleinvoker: chinaa_stock_filter.v1 开始运行.."
      ]
     },
     "metadata": {
      "is_log": true,
      "status": "INFO"
     },
     "output_type": "display_data"
    },
    {
     "data": {
      "text/plain": [
       "[2020-11-03 16:17:02.162796] INFO: A股股票过滤: 过滤 /data, 236429/0/1260523"
      ]
     },
     "metadata": {
      "is_log": true,
      "status": "INFO"
     },
     "output_type": "display_data"
    },
    {
     "data": {
      "text/plain": [
       "[2020-11-03 16:17:02.164647] INFO: A股股票过滤: 过滤完成, 236429 + 0"
      ]
     },
     "metadata": {
      "is_log": true,
      "status": "INFO"
     },
     "output_type": "display_data"
    },
    {
     "data": {
      "text/plain": [
       "[2020-11-03 16:17:02.416517] INFO: moduleinvoker: chinaa_stock_filter.v1 运行完成[1.070612s]."
      ]
     },
     "metadata": {
      "is_log": true,
      "status": "INFO"
     },
     "output_type": "display_data"
    },
    {
     "data": {
      "text/plain": [
       "[2020-11-03 16:17:02.418941] INFO: moduleinvoker: instruments.v2 开始运行.."
      ]
     },
     "metadata": {
      "is_log": true,
      "status": "INFO"
     },
     "output_type": "display_data"
    },
    {
     "data": {
      "text/plain": [
       "[2020-11-03 16:17:02.427815] INFO: moduleinvoker: 命中缓存"
      ]
     },
     "metadata": {
      "is_log": true,
      "status": "INFO"
     },
     "output_type": "display_data"
    },
    {
     "data": {
      "text/plain": [
       "[2020-11-03 16:17:02.428786] INFO: moduleinvoker: instruments.v2 运行完成[0.009844s]."
      ]
     },
     "metadata": {
      "is_log": true,
      "status": "INFO"
     },
     "output_type": "display_data"
    },
    {
     "data": {
      "text/plain": [
       "[2020-11-03 16:17:02.434032] INFO: moduleinvoker: input_features.v1 开始运行.."
      ]
     },
     "metadata": {
      "is_log": true,
      "status": "INFO"
     },
     "output_type": "display_data"
    },
    {
     "data": {
      "text/plain": [
       "[2020-11-03 16:17:02.448609] INFO: moduleinvoker: 命中缓存"
      ]
     },
     "metadata": {
      "is_log": true,
      "status": "INFO"
     },
     "output_type": "display_data"
    },
    {
     "data": {
      "text/plain": [
       "[2020-11-03 16:17:02.449604] INFO: moduleinvoker: input_features.v1 运行完成[0.015582s]."
      ]
     },
     "metadata": {
      "is_log": true,
      "status": "INFO"
     },
     "output_type": "display_data"
    },
    {
     "data": {
      "text/plain": [
       "[2020-11-03 16:17:02.451011] INFO: moduleinvoker: use_datasource.v1 开始运行.."
      ]
     },
     "metadata": {
      "is_log": true,
      "status": "INFO"
     },
     "output_type": "display_data"
    },
    {
     "data": {
      "text/plain": [
       "[2020-11-03 16:17:06.093769] INFO: moduleinvoker: use_datasource.v1 运行完成[3.64272s]."
      ]
     },
     "metadata": {
      "is_log": true,
      "status": "INFO"
     },
     "output_type": "display_data"
    },
    {
     "data": {
      "text/plain": [
       "[2020-11-03 16:17:06.790176] INFO: moduleinvoker: cached.v3 开始运行.."
      ]
     },
     "metadata": {
      "is_log": true,
      "status": "INFO"
     },
     "output_type": "display_data"
    },
    {
     "data": {
      "text/plain": [
       "[2020-11-03 16:17:08.675084] INFO: moduleinvoker: cached.v3 运行完成[1.884888s]."
      ]
     },
     "metadata": {
      "is_log": true,
      "status": "INFO"
     },
     "output_type": "display_data"
    }
   ],
   "source": [
    "# 本代码由可视化策略环境自动生成 2021年8月22日10:06\n",
    "# 本代码单元只能在可视化模式下编辑。您也可以拷贝代码，粘贴到新建的代码单元或者策略，然后修改。\n",
    "\n",
    "\n",
    "# Python 代码入口函数，input_1/2/3 对应三个输入端，data_1/2/3 对应三个输出端\n",
    "def m9_run_bigquant_run(input_1, input_2, input_3):\n",
    "    # 示例代码如下。在这里编写您的代码\n",
    "    df = input_1.read_df()\n",
    "    df['is_ai'] = df['concept'].map(lambda x: '人工智能' in x)  # 以人工智能为例，找到相关概念股票\n",
    "    st = list(df[df['is_ai'] == True]['instrument'])\n",
    "    data_1 = DataSource.write_pickle(st)\n",
    "    return Outputs(data_1=data_1, data_2=None, data_3=None)\n",
    "\n",
    "# 后处理函数，可选。输入是主函数的输出，可以在这里对数据做处理，或者返回更友好的outputs数据格式。此函数输出不会被缓存。\n",
    "def m9_post_run_bigquant_run(outputs):\n",
    "    return outputs\n",
    "\n",
    "\n",
    "m1 = M.instruments.v2(\n",
    "    start_date='2016-01-01',\n",
    "    end_date='2017-09-14',\n",
    "    market='CN_STOCK_A',\n",
    "    instrument_list='',\n",
    "    max_count=0\n",
    ")\n",
    "\n",
    "m2 = M.use_datasource.v1(\n",
    "    instruments=m1.data,\n",
    "    datasource_id='bar1d_CN_STOCK_A',\n",
    "    start_date='',\n",
    "    end_date=''\n",
    ")\n",
    "\n",
    "m3 = M.chinaa_stock_filter.v1(\n",
    "    input_data=m2.data,\n",
    "    index_constituent_cond=['沪深300'],\n",
    "    board_cond=['全部'],\n",
    "    industry_cond=['全部'],\n",
    "    st_cond=['全部'],\n",
    "    delist_cond=['全部'],\n",
    "    output_left_data=False\n",
    ")\n",
    "\n",
    "m4 = M.chinaa_stock_filter.v1(\n",
    "    input_data=m2.data,\n",
    "    index_constituent_cond=['全部'],\n",
    "    board_cond=['全部'],\n",
    "    industry_cond=['交通运输'],\n",
    "    st_cond=['全部'],\n",
    "    delist_cond=['全部'],\n",
    "    output_left_data=False\n",
    ")\n",
    "\n",
    "m5 = M.chinaa_stock_filter.v1(\n",
    "    input_data=m2.data,\n",
    "    index_constituent_cond=['全部'],\n",
    "    board_cond=['全部'],\n",
    "    industry_cond=['全部'],\n",
    "    st_cond=['正常'],\n",
    "    delist_cond=['全部'],\n",
    "    output_left_data=False\n",
    ")\n",
    "\n",
    "m6 = M.chinaa_stock_filter.v1(\n",
    "    input_data=m2.data,\n",
    "    index_constituent_cond=['全部'],\n",
    "    board_cond=['创业板'],\n",
    "    industry_cond=['全部'],\n",
    "    st_cond=['全部'],\n",
    "    delist_cond=['全部'],\n",
    "    output_left_data=False\n",
    ")\n",
    "\n",
    "m11 = M.instruments.v2(\n",
    "    start_date='2016-01-01',\n",
    "    end_date='2017-09-14',\n",
    "    market='CN_STOCK_A',\n",
    "    instrument_list='',\n",
    "    max_count=0\n",
    ")\n",
    "\n",
    "m12 = M.input_features.v1(\n",
    "    features=\"\"\"\n",
    "# #号开始的表示注释，注释需单独一行\n",
    "# 多个特征，每行一个，可以包含基础特征和衍生特征，特征须为本平台特征\n",
    "concept\n",
    "\"\"\"\n",
    ")\n",
    "\n",
    "m10 = M.use_datasource.v1(\n",
    "    instruments=m11.data,\n",
    "    features=m12.data,\n",
    "    datasource_id='industry_CN_STOCK_A',\n",
    "    start_date='',\n",
    "    end_date=''\n",
    ")\n",
    "\n",
    "m9 = M.cached.v3(\n",
    "    input_1=m10.data,\n",
    "    run=m9_run_bigquant_run,\n",
    "    post_run=m9_post_run_bigquant_run,\n",
    "    input_ports='',\n",
    "    params='{}',\n",
    "    output_ports=''\n",
    ")\n"
   ]
  },
  {
   "cell_type": "markdown",
   "metadata": {},
   "source": [
    "<b>获取指定时间段指数成分股列表</b>"
   ]
  },
  {
   "cell_type": "code",
   "execution_count": 65,
   "metadata": {},
   "outputs": [
    {
     "name": "stdout",
     "output_type": "stream",
     "text": [
      "沪深300指数成份股预览10只股票: ['002475.SZA', '600867.SHA', '000413.SZA', '000338.SZA', '600100.SHA', '002410.SZA', '600498.SHA', '600118.SHA', '601992.SHA', '600674.SHA']\n"
     ]
    }
   ],
   "source": [
    "# 获取沪深300指数成份股\n",
    "df = m10.data.read_df()\n",
    "instruments = list(set(df.instrument))\n",
    "print('沪深300指数成份股预览10只股票:', instruments[:10])"
   ]
  },
  {
   "cell_type": "markdown",
   "metadata": {},
   "source": [
    "**获取指定时间段某个行业股票列表**"
   ]
  },
  {
   "cell_type": "code",
   "execution_count": 71,
   "metadata": {},
   "outputs": [
    {
     "name": "stdout",
     "output_type": "stream",
     "text": [
      "交通运输行业成份股预览10只股票: ['002468.SZA', '600834.SHA', '000900.SZA', '600033.SHA', '000828.SZA', '600018.SHA', '600242.SHA', '002769.SZA', '002889.SZA', '600548.SHA']\n"
     ]
    }
   ],
   "source": [
    "# 交通运输行业为例\n",
    "df = m4.data.read_df()\n",
    "instruments = list(set(df.instrument))\n",
    "print('交通运输行业成份股预览10只股票:',instruments[:10])"
   ]
  },
  {
   "cell_type": "markdown",
   "metadata": {},
   "source": [
    "** 获取指定时间段正常的股票 **"
   ]
  },
  {
   "cell_type": "code",
   "execution_count": 74,
   "metadata": {},
   "outputs": [
    {
     "name": "stdout",
     "output_type": "stream",
     "text": [
      "正常股票池预览10只股票: ['000958.SZA', '002475.SZA', '000413.SZA', '002237.SZA', '600299.SHA', '002892.SZA', '603566.SHA', '002410.SZA', '603601.SHA', '002554.SZA']\n"
     ]
    }
   ],
   "source": [
    "df = m5.data.read_df()\n",
    "instruments = list(set(df.instrument))\n",
    "print('正常股票池预览10只股票:',instruments[:10])"
   ]
  },
  {
   "cell_type": "markdown",
   "metadata": {},
   "source": [
    "** 获取创业板股票 **"
   ]
  },
  {
   "cell_type": "code",
   "execution_count": 77,
   "metadata": {},
   "outputs": [
    {
     "name": "stdout",
     "output_type": "stream",
     "text": [
      "创业板股票预览10只股票: ['300229.SZA', '300598.SZA', '300639.SZA', '300001.SZA', '300421.SZA', '300369.SZA', '300542.SZA', '300474.SZA', '300446.SZA', '300505.SZA']\n"
     ]
    }
   ],
   "source": [
    "df = m6.data.read_df()\n",
    "instruments = list(set(df.instrument))\n",
    "print('创业板股票预览10只股票:',instruments[:10])"
   ]
  },
  {
   "cell_type": "markdown",
   "metadata": {},
   "source": [
    "** 获取指定时间段某个概念的股票列表 **"
   ]
  },
  {
   "cell_type": "code",
   "execution_count": 80,
   "metadata": {},
   "outputs": [
    {
     "name": "stdout",
     "output_type": "stream",
     "text": [
      "人工智能概念股预览10只股票: ['002184.SZA', '002253.SZA', '002230.SZA', '002073.SZA', '002415.SZA', '002362.SZA', '002348.SZA', '000977.SZA', '603019.SHA', '300367.SZA']\n"
     ]
    }
   ],
   "source": [
    "# 以人工智能为例，找到相关概念股票\n",
    "st = m9.data_1.read()\n",
    "print('人工智能概念股预览10只股票:',st[:10])"
   ]
  }
 ],
 "metadata": {
  "kernelspec": {
   "display_name": "Python 3",
   "language": "python",
   "name": "python3"
  },
  "language_info": {
   "codemirror_mode": {
    "name": "ipython",
    "version": 3
   },
   "file_extension": ".py",
   "mimetype": "text/x-python",
   "name": "python",
   "nbconvert_exporter": "python",
   "pygments_lexer": "ipython3",
   "version": "3.8.7"
  }
 },
 "nbformat": 4,
 "nbformat_minor": 4
}
