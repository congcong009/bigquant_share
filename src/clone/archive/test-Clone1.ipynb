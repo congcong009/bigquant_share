{
 "cells": [
  {
   "cell_type": "code",
   "execution_count": 1,
   "metadata": {
    "machine_learning_studio": "true",
    "ml_studio_json": "{\"description\":\"实验创建于2017/8/26\",\"graph\":{\"edges\":[{\"to_node_id\":\"287d2cb0-f53c-4101-bdf8-104b137c8601-15:instruments\",\"from_node_id\":\"287d2cb0-f53c-4101-bdf8-104b137c8601-8:data\"},{\"to_node_id\":\"-404:instruments\",\"from_node_id\":\"287d2cb0-f53c-4101-bdf8-104b137c8601-8:data\"},{\"to_node_id\":\"287d2cb0-f53c-4101-bdf8-104b137c8601-53:data1\",\"from_node_id\":\"287d2cb0-f53c-4101-bdf8-104b137c8601-15:data\"},{\"to_node_id\":\"-404:features\",\"from_node_id\":\"287d2cb0-f53c-4101-bdf8-104b137c8601-24:data\"},{\"to_node_id\":\"-411:features\",\"from_node_id\":\"287d2cb0-f53c-4101-bdf8-104b137c8601-24:data\"},{\"to_node_id\":\"-8068:features\",\"from_node_id\":\"287d2cb0-f53c-4101-bdf8-104b137c8601-24:data\"},{\"to_node_id\":\"-318:features_ds\",\"from_node_id\":\"287d2cb0-f53c-4101-bdf8-104b137c8601-24:data\"},{\"to_node_id\":\"-175:input_1\",\"from_node_id\":\"287d2cb0-f53c-4101-bdf8-104b137c8601-53:data\"},{\"to_node_id\":\"-329:data1\",\"from_node_id\":\"287d2cb0-f53c-4101-bdf8-104b137c8601-60:predictions\"},{\"to_node_id\":\"-418:instruments\",\"from_node_id\":\"287d2cb0-f53c-4101-bdf8-104b137c8601-62:data\"},{\"to_node_id\":\"-1918:instruments\",\"from_node_id\":\"287d2cb0-f53c-4101-bdf8-104b137c8601-62:data\"},{\"to_node_id\":\"-224:instruments\",\"from_node_id\":\"287d2cb0-f53c-4101-bdf8-104b137c8601-62:data\"},{\"to_node_id\":\"-1620:input_1\",\"from_node_id\":\"287d2cb0-f53c-4101-bdf8-104b137c8601-62:data\"},{\"to_node_id\":\"-411:input_data\",\"from_node_id\":\"-404:data\"},{\"to_node_id\":\"287d2cb0-f53c-4101-bdf8-104b137c8601-53:data2\",\"from_node_id\":\"-411:data\"},{\"to_node_id\":\"-425:input_data\",\"from_node_id\":\"-418:data\"},{\"to_node_id\":\"-187:input_data\",\"from_node_id\":\"-425:data\"},{\"to_node_id\":\"287d2cb0-f53c-4101-bdf8-104b137c8601-60:model\",\"from_node_id\":\"-8068:model\"},{\"to_node_id\":\"-224:features\",\"from_node_id\":\"-148:data\"},{\"to_node_id\":\"-1620:input_2\",\"from_node_id\":\"-184:data\"},{\"to_node_id\":\"-202:data2\",\"from_node_id\":\"-189:data\"},{\"to_node_id\":\"-189:data2\",\"from_node_id\":\"-196:data\"},{\"to_node_id\":\"-1626:input_ds\",\"from_node_id\":\"-202:data\"},{\"to_node_id\":\"-189:data1\",\"from_node_id\":\"-224:data\"},{\"to_node_id\":\"-418:features\",\"from_node_id\":\"-318:data\"},{\"to_node_id\":\"-425:features\",\"from_node_id\":\"-318:data\"},{\"to_node_id\":\"-329:data2\",\"from_node_id\":\"-323:data\"},{\"to_node_id\":\"-202:data1\",\"from_node_id\":\"-329:data\"},{\"to_node_id\":\"-196:input_ds\",\"from_node_id\":\"-1620:data_1\"},{\"to_node_id\":\"-1918:options_data\",\"from_node_id\":\"-1626:sorted_data\"},{\"to_node_id\":\"-183:input_data\",\"from_node_id\":\"-175:data_1\"},{\"to_node_id\":\"-8068:training_ds\",\"from_node_id\":\"-183:data\"},{\"to_node_id\":\"287d2cb0-f53c-4101-bdf8-104b137c8601-60:data\",\"from_node_id\":\"-187:data\"},{\"to_node_id\":\"-323:input_ds\",\"from_node_id\":\"-187:data\"}],\"nodes\":[{\"node_id\":\"287d2cb0-f53c-4101-bdf8-104b137c8601-8\",\"module_id\":\"BigQuantSpace.instruments.instruments-v2\",\"parameters\":[{\"name\":\"start_date\",\"value\":\"2016-03-24\",\"type\":\"Literal\",\"bound_global_parameter\":null},{\"name\":\"end_date\",\"value\":\"2020-01-01\",\"type\":\"Literal\",\"bound_global_parameter\":null},{\"name\":\"market\",\"value\":\"CN_STOCK_A\",\"type\":\"Literal\",\"bound_global_parameter\":null},{\"name\":\"instrument_list\",\"value\":\"\",\"type\":\"Literal\",\"bound_global_parameter\":null},{\"name\":\"max_count\",\"value\":\"0\",\"type\":\"Literal\",\"bound_global_parameter\":null}],\"input_ports\":[{\"name\":\"rolling_conf\",\"node_id\":\"287d2cb0-f53c-4101-bdf8-104b137c8601-8\"}],\"output_ports\":[{\"name\":\"data\",\"node_id\":\"287d2cb0-f53c-4101-bdf8-104b137c8601-8\"}],\"cacheable\":true,\"seq_num\":1,\"comment\":\"\",\"comment_collapsed\":true},{\"node_id\":\"287d2cb0-f53c-4101-bdf8-104b137c8601-15\",\"module_id\":\"BigQuantSpace.advanced_auto_labeler.advanced_auto_labeler-v2\",\"parameters\":[{\"name\":\"label_expr\",\"value\":\"# #号开始的表示注释\\n# 0. 每行一个，顺序执行，从第二个开始，可以使用label字段\\n# 1. 可用数据字段见 https://bigquant.com/docs/data_history_data.html\\n#   添加benchmark_前缀，可使用对应的benchmark数据\\n# 2. 可用操作符和函数见 `表达式引擎 <https://bigquant.com/docs/big_expr.html>`_\\n\\n# 计算收益：5日收盘价(作为卖出价格)除以明日开盘价(作为买入价格)\\nshift(close, -5) / shift(open, -1)\\n\\n# 极值处理：用1%和99%分位的值做clip\\nclip(label, all_quantile(label, 0.01), all_quantile(label, 0.99))\\n\\n# 将分数映射到分类，这里使用20个分类\\nall_wbins(label, 20)\\n\\n# 过滤掉一字涨停的情况 (设置label为NaN，在后续处理和训练中会忽略NaN的label)\\nwhere(shift(high, -1) == shift(low, -1), NaN, label)\\n\",\"type\":\"Literal\",\"bound_global_parameter\":null},{\"name\":\"start_date\",\"value\":\"\",\"type\":\"Literal\",\"bound_global_parameter\":null},{\"name\":\"end_date\",\"value\":\"\",\"type\":\"Literal\",\"bound_global_parameter\":null},{\"name\":\"benchmark\",\"value\":\"000300.SHA\",\"type\":\"Literal\",\"bound_global_parameter\":null},{\"name\":\"drop_na_label\",\"value\":\"True\",\"type\":\"Literal\",\"bound_global_parameter\":null},{\"name\":\"cast_label_int\",\"value\":\"True\",\"type\":\"Literal\",\"bound_global_parameter\":null},{\"name\":\"user_functions\",\"value\":\"\",\"type\":\"Literal\",\"bound_global_parameter\":null}],\"input_ports\":[{\"name\":\"instruments\",\"node_id\":\"287d2cb0-f53c-4101-bdf8-104b137c8601-15\"}],\"output_ports\":[{\"name\":\"data\",\"node_id\":\"287d2cb0-f53c-4101-bdf8-104b137c8601-15\"}],\"cacheable\":true,\"seq_num\":2,\"comment\":\"\",\"comment_collapsed\":true},{\"node_id\":\"287d2cb0-f53c-4101-bdf8-104b137c8601-24\",\"module_id\":\"BigQuantSpace.input_features.input_features-v1\",\"parameters\":[{\"name\":\"features\",\"value\":\"# #号开始的表示注释\\n# 多个特征，每行一个，可以包含基础特征和衍生特征\\n\\n# 在“自定义Python模块”中参与“量价相关系数”的计算\\nturn_0\\nclose_0/adjust_factor_0\",\"type\":\"Literal\",\"bound_global_parameter\":null}],\"input_ports\":[{\"name\":\"features_ds\",\"node_id\":\"287d2cb0-f53c-4101-bdf8-104b137c8601-24\"}],\"output_ports\":[{\"name\":\"data\",\"node_id\":\"287d2cb0-f53c-4101-bdf8-104b137c8601-24\"}],\"cacheable\":true,\"seq_num\":3,\"comment\":\"\",\"comment_collapsed\":true},{\"node_id\":\"287d2cb0-f53c-4101-bdf8-104b137c8601-53\",\"module_id\":\"BigQuantSpace.join.join-v3\",\"parameters\":[{\"name\":\"on\",\"value\":\"date,instrument\",\"type\":\"Literal\",\"bound_global_parameter\":null},{\"name\":\"how\",\"value\":\"inner\",\"type\":\"Literal\",\"bound_global_parameter\":null},{\"name\":\"sort\",\"value\":\"False\",\"type\":\"Literal\",\"bound_global_parameter\":null}],\"input_ports\":[{\"name\":\"data1\",\"node_id\":\"287d2cb0-f53c-4101-bdf8-104b137c8601-53\"},{\"name\":\"data2\",\"node_id\":\"287d2cb0-f53c-4101-bdf8-104b137c8601-53\"}],\"output_ports\":[{\"name\":\"data\",\"node_id\":\"287d2cb0-f53c-4101-bdf8-104b137c8601-53\"}],\"cacheable\":true,\"seq_num\":7,\"comment\":\"\",\"comment_collapsed\":true},{\"node_id\":\"287d2cb0-f53c-4101-bdf8-104b137c8601-60\",\"module_id\":\"BigQuantSpace.stock_ranker_predict.stock_ranker_predict-v5\",\"parameters\":[{\"name\":\"m_lazy_run\",\"value\":\"False\",\"type\":\"Literal\",\"bound_global_parameter\":null}],\"input_ports\":[{\"name\":\"model\",\"node_id\":\"287d2cb0-f53c-4101-bdf8-104b137c8601-60\"},{\"name\":\"data\",\"node_id\":\"287d2cb0-f53c-4101-bdf8-104b137c8601-60\"}],\"output_ports\":[{\"name\":\"predictions\",\"node_id\":\"287d2cb0-f53c-4101-bdf8-104b137c8601-60\"},{\"name\":\"m_lazy_run\",\"node_id\":\"287d2cb0-f53c-4101-bdf8-104b137c8601-60\"}],\"cacheable\":true,\"seq_num\":8,\"comment\":\"\",\"comment_collapsed\":true},{\"node_id\":\"287d2cb0-f53c-4101-bdf8-104b137c8601-62\",\"module_id\":\"BigQuantSpace.instruments.instruments-v2\",\"parameters\":[{\"name\":\"start_date\",\"value\":\"2020-01-02\",\"type\":\"Literal\",\"bound_global_parameter\":\"交易日期\"},{\"name\":\"end_date\",\"value\":\"2021-09-01\",\"type\":\"Literal\",\"bound_global_parameter\":\"交易日期\"},{\"name\":\"market\",\"value\":\"CN_STOCK_A\",\"type\":\"Literal\",\"bound_global_parameter\":null},{\"name\":\"instrument_list\",\"value\":\"\",\"type\":\"Literal\",\"bound_global_parameter\":null},{\"name\":\"max_count\",\"value\":\"0\",\"type\":\"Literal\",\"bound_global_parameter\":null}],\"input_ports\":[{\"name\":\"rolling_conf\",\"node_id\":\"287d2cb0-f53c-4101-bdf8-104b137c8601-62\"}],\"output_ports\":[{\"name\":\"data\",\"node_id\":\"287d2cb0-f53c-4101-bdf8-104b137c8601-62\"}],\"cacheable\":true,\"seq_num\":9,\"comment\":\"预测数据，用于回测和模拟\",\"comment_collapsed\":false},{\"node_id\":\"-404\",\"module_id\":\"BigQuantSpace.general_feature_extractor.general_feature_extractor-v7\",\"parameters\":[{\"name\":\"start_date\",\"value\":\"\",\"type\":\"Literal\",\"bound_global_parameter\":null},{\"name\":\"end_date\",\"value\":\"\",\"type\":\"Literal\",\"bound_global_parameter\":null},{\"name\":\"before_start_days\",\"value\":\"25\",\"type\":\"Literal\",\"bound_global_parameter\":null}],\"input_ports\":[{\"name\":\"instruments\",\"node_id\":\"-404\"},{\"name\":\"features\",\"node_id\":\"-404\"}],\"output_ports\":[{\"name\":\"data\",\"node_id\":\"-404\"}],\"cacheable\":true,\"seq_num\":15,\"comment\":\"\",\"comment_collapsed\":true},{\"node_id\":\"-411\",\"module_id\":\"BigQuantSpace.derived_feature_extractor.derived_feature_extractor-v3\",\"parameters\":[{\"name\":\"date_col\",\"value\":\"date\",\"type\":\"Literal\",\"bound_global_parameter\":null},{\"name\":\"instrument_col\",\"value\":\"instrument\",\"type\":\"Literal\",\"bound_global_parameter\":null},{\"name\":\"drop_na\",\"value\":\"False\",\"type\":\"Literal\",\"bound_global_parameter\":null},{\"name\":\"remove_extra_columns\",\"value\":\"False\",\"type\":\"Literal\",\"bound_global_parameter\":null},{\"name\":\"user_functions\",\"value\":\"\",\"type\":\"Literal\",\"bound_global_parameter\":null}],\"input_ports\":[{\"name\":\"input_data\",\"node_id\":\"-411\"},{\"name\":\"features\",\"node_id\":\"-411\"}],\"output_ports\":[{\"name\":\"data\",\"node_id\":\"-411\"}],\"cacheable\":true,\"seq_num\":16,\"comment\":\"\",\"comment_collapsed\":true},{\"node_id\":\"-418\",\"module_id\":\"BigQuantSpace.general_feature_extractor.general_feature_extractor-v7\",\"parameters\":[{\"name\":\"start_date\",\"value\":\"\",\"type\":\"Literal\",\"bound_global_parameter\":null},{\"name\":\"end_date\",\"value\":\"\",\"type\":\"Literal\",\"bound_global_parameter\":null},{\"name\":\"before_start_days\",\"value\":\"20\",\"type\":\"Literal\",\"bound_global_parameter\":null}],\"input_ports\":[{\"name\":\"instruments\",\"node_id\":\"-418\"},{\"name\":\"features\",\"node_id\":\"-418\"}],\"output_ports\":[{\"name\":\"data\",\"node_id\":\"-418\"}],\"cacheable\":true,\"seq_num\":17,\"comment\":\"\",\"comment_collapsed\":true},{\"node_id\":\"-425\",\"module_id\":\"BigQuantSpace.derived_feature_extractor.derived_feature_extractor-v3\",\"parameters\":[{\"name\":\"date_col\",\"value\":\"date\",\"type\":\"Literal\",\"bound_global_parameter\":null},{\"name\":\"instrument_col\",\"value\":\"instrument\",\"type\":\"Literal\",\"bound_global_parameter\":null},{\"name\":\"drop_na\",\"value\":\"False\",\"type\":\"Literal\",\"bound_global_parameter\":null},{\"name\":\"remove_extra_columns\",\"value\":\"False\",\"type\":\"Literal\",\"bound_global_parameter\":null},{\"name\":\"user_functions\",\"value\":\"\",\"type\":\"Literal\",\"bound_global_parameter\":null}],\"input_ports\":[{\"name\":\"input_data\",\"node_id\":\"-425\"},{\"name\":\"features\",\"node_id\":\"-425\"}],\"output_ports\":[{\"name\":\"data\",\"node_id\":\"-425\"}],\"cacheable\":true,\"seq_num\":18,\"comment\":\"\",\"comment_collapsed\":true},{\"node_id\":\"-1918\",\"module_id\":\"BigQuantSpace.trade.trade-v4\",\"parameters\":[{\"name\":\"start_date\",\"value\":\"\",\"type\":\"Literal\",\"bound_global_parameter\":null},{\"name\":\"end_date\",\"value\":\"\",\"type\":\"Literal\",\"bound_global_parameter\":null},{\"name\":\"initialize\",\"value\":\"# 回测引擎：初始化函数，只执行一次\\ndef bigquant_run(context):\\n    # 加载预测数据\\n    context.ranker_prediction = context.options['data'].read_df()\\n\\n    # 系统已经设置了默认的交易手续费和滑点，要修改手续费可使用如下函数\\n    context.set_commission(PerOrder(buy_cost=0.0003, sell_cost=0.0013, min_cost=5))\\n    # 预测数据，通过options传入进来，使用 read_df 函数，加载到内存 (DataFrame)\\n    # 设置买入的股票数量，这里买入预测股票列表排名靠前的5只\\n    stock_count = 3\\n    # 每只的股票的权重，如下的权重分配会使得靠前的股票分配多一点的资金，[0.339160, 0.213986, 0.169580, ..]\\n    context.stock_weights = T.norm([1 / math.log(i + 2) for i in range(0, stock_count)])\\n    # 设置每只股票占用的最大资金比例\\n    context.max_cash_per_instrument = 0.6\\n    context.options['hold_days'] = 5\\n\\n    from zipline.finance.slippage import SlippageModel\\n    class FixedPriceSlippage(SlippageModel):\\n        def process_order(self, data, order, bar_volume=0, trigger_check_price=0):\\n            if order.limit is None:\\n                price_field = self._price_field_buy if order.amount > 0 else self._price_field_sell\\n                price = data.current(order.asset, price_field)\\n            else:\\n                price = data.current(order.asset, self._price_field_buy)\\n            # 返回希望成交的价格和数量\\n            return (price, order.amount)\\n    # 设置price_field,默认是开盘买入，收盘卖出\\n    context.fix_slippage = FixedPriceSlippage(price_field_buy='open', price_field_sell='close')\\n    context.set_slippage(us_equities=context.fix_slippage)\",\"type\":\"Literal\",\"bound_global_parameter\":null},{\"name\":\"handle_data\",\"value\":\"# 回测引擎：每日数据处理函数，每天执行一次\\ndef bigquant_run(context, data):\\n    # 获取当前持仓\\n    positions = {e.symbol: p.amount * p.last_sale_price\\n                 for e, p in context.portfolio.positions.items()}\\n    \\n    today = data.current_dt.strftime('%Y-%m-%d')\\n    # 按日期过滤得到今日的预测数据\\n    ranker_prediction = context.ranker_prediction[\\n        context.ranker_prediction.date == today]\\n    \\n    #大盘风控模块，读取风控数据    \\n    benckmark_risk=ranker_prediction['bm_0'].values[0]\\n\\n    #当risk为1时，市场有风险，全部平仓，不再执行其它操作\\n    if benckmark_risk > 0:\\n        for instrument in positions.keys():\\n            context.order_target(context.symbol(instrument), 0)\\n        print(today,'大盘风控止损触发,全仓卖出')\\n        return\\n    \\n    # 1. 资金分配\\n    # 平均持仓时间是hold_days，每日都将买入股票，每日预期使用 1/hold_days 的资金\\n    # 实际操作中，会存在一定的买入误差，所以在前hold_days天，等量使用资金；之后，尽量使用剩余资金（这里设置最多用等量的1.5倍）\\n    is_staging = context.trading_day_index < context.options['hold_days'] # 是否在建仓期间（前 hold_days 天）\\n    cash_avg = context.portfolio.portfolio_value / context.options['hold_days']\\n    cash_for_buy = min(context.portfolio.cash, (1 if is_staging else 1.5) * cash_avg)\\n    cash_for_sell = cash_avg - (context.portfolio.cash - cash_for_buy)\\n   \\n    \\n    # 2. 根据需要加入移动止赢止损模块、固定天数卖出模块\\n    stock_sold = [] # 记录卖出的股票，防止多次卖出出现空单\\n    \\n    #------------------------START:止赢止损模块(含建仓期)---------------\\n    current_stopwin_stock=[]\\n    current_stoploss_stock = []   \\n    positions_cost={e.symbol:p.cost_basis for e,p in context.portfolio.positions.items()}\\n    if len(positions)>0:\\n        for instrument in positions.keys():\\n            stock_cost=positions_cost[instrument]  \\n            stock_market_price=data.current(context.symbol(instrument),'price')  \\n            # 赚9%且为可交易状态就止盈\\n            if stock_market_price/stock_cost-1>=0.09 and data.can_trade(context.symbol(instrument)):\\n                context.order_target_percent(context.symbol(instrument),0)\\n                cash_for_sell -= positions[instrument]\\n                current_stopwin_stock.append(instrument)\\n            # 亏5%并且为可交易状态就止损\\n            if stock_market_price/stock_cost-1 <= -0.05 and data.can_trade(context.symbol(instrument)):   \\n                context.order_target_percent(context.symbol(instrument),0)\\n                cash_for_sell -= positions[instrument]\\n                current_stoploss_stock.append(instrument)\\n        if len(current_stopwin_stock)>0:\\n            print(today,'止盈股票列表',current_stopwin_stock)\\n            stock_sold += current_stopwin_stock\\n        if len(current_stoploss_stock)>0:\\n            print(today,'止损股票列表',current_stoploss_stock)\\n            stock_sold += current_stoploss_stock\\n    #--------------------------END: 止赢止损模块--------------------------\\n    \\n    #--------------------------START：持有固定天数卖出(不含建仓期)-----------\\n    current_stopdays_stock = []\\n    positions_lastdate = {e.symbol:p.last_sale_date for e,p in context.portfolio.positions.items()}\\n    # 不是建仓期（在前hold_days属于建仓期）\\n    if not is_staging:\\n        for instrument in positions.keys():\\n            #如果上面的止盈止损已经卖出过了，就不要重复卖出以防止产生空单\\n            if instrument in stock_sold:\\n                continue\\n            # 今天和上次交易的时间相隔hold_days就全部卖出 datetime.timedelta(context.options['hold_days'])也可以换成自己需要的天数，比如datetime.timedelta(5)\\n            if data.current_dt - positions_lastdate[instrument]>=datetime.timedelta(5) and data.can_trade(context.symbol(instrument)):\\n                context.order_target_percent(context.symbol(instrument), 0)\\n                current_stopdays_stock.append(instrument)\\n                cash_for_sell -= positions[instrument]\\n        if len(current_stopdays_stock)>0:        \\n            print(today,'固定天数卖出列表',current_stopdays_stock)\\n            stock_sold += current_stopdays_stock\\n    #-------------------------  END:持有固定天数卖出-----------------------\\n    \\n    #-------------------------- START: ST和退市股卖出 ---------------------  \\n    st_stock_list = []\\n    for instrument in positions.keys():\\n        try:\\n            instrument_name = ranker_prediction[ranker_prediction.instrument==instrument].name.values[0]\\n            # 如果股票状态变为了st或者退市 则卖出\\n            if 'ST' in instrument_name or '退' in instrument_name:\\n                if instrument in stock_sold:\\n                    continue\\n                if data.can_trade(context.symbol(instrument)):\\n                    context.order_target(context.symbol(instrument), 0)\\n                    st_stock_list.append(instrument)\\n                    cash_for_sell -= positions[instrument]\\n        except:\\n            continue\\n    if st_stock_list!=[]:\\n        print(today,'持仓出现st股/退市股',st_stock_list,'进行卖出处理')    \\n        stock_sold += st_stock_list\\n\\n    #-------------------------- END: ST和退市股卖出 --------------------- \\n    \\n    \\n    # 3. 生成轮仓卖出订单：hold_days天之后才开始卖出；对持仓的股票，按机器学习算法预测的排序末位淘汰\\n    if not is_staging and cash_for_sell > 0:\\n        instruments = list(reversed(list(ranker_prediction.instrument[ranker_prediction.instrument.apply(\\n                lambda x: x in positions)])))\\n        for instrument in instruments:\\n            # 如果资金够了就不卖出了\\n            if cash_for_sell <= 0:\\n                break\\n            #防止多个止损条件同时满足，出现多次卖出产生空单\\n            if instrument in stock_sold:\\n                continue\\n            context.order_target(context.symbol(instrument), 0)\\n            cash_for_sell -= positions[instrument]\\n            stock_sold.append(instrument)\\n\\n    # 4. 生成轮仓买入订单：按机器学习算法预测的排序，买入前面的stock_count只股票\\n    # 计算今日跌停的股票\\n    dt_list = list(ranker_prediction[ranker_prediction.price_limit_status_0==1].instrument)\\n    # 计算今日ST/退市的股票\\n    st_list = list(ranker_prediction[ranker_prediction.name.str.contains('ST')|ranker_prediction.name.str.contains('退')].instrument)\\n    # 计算所有禁止买入的股票池\\n    banned_list = stock_sold+dt_list+st_list\\n    buy_cash_weights = context.stock_weights\\n    buy_instruments=[k for k in list(ranker_prediction.instrument) if k not in banned_list][:len(buy_cash_weights)]\\n    max_cash_per_instrument = context.portfolio.portfolio_value * context.max_cash_per_instrument\\n    for i, instrument in enumerate(buy_instruments):\\n        cash = cash_for_buy * buy_cash_weights[i]\\n        if cash > max_cash_per_instrument - positions.get(instrument, 0):\\n            # 确保股票持仓量不会超过每次股票最大的占用资金量\\n            cash = max_cash_per_instrument - positions.get(instrument, 0)\\n        if cash > 0:\\n            context.order_value(context.symbol(instrument), cash)\\n    \\n\\n\",\"type\":\"Literal\",\"bound_global_parameter\":null},{\"name\":\"prepare\",\"value\":\"# 回测引擎：准备数据，只执行一次\\ndef bigquant_run(context):\\n    pass\",\"type\":\"Literal\",\"bound_global_parameter\":null},{\"name\":\"before_trading_start\",\"value\":\"def bigquant_run(context, data):\\n    # 获取涨跌停状态数据\\n    df_price_limit_status = context.ranker_prediction.set_index('date')\\n    today=data.current_dt.strftime('%Y-%m-%d')\\n    # 得到当前未完成订单\\n    for orders in get_open_orders().values():\\n        # 循环，撤销订单\\n        for _order in orders:\\n            ins=str(_order.sid.symbol)\\n            try:\\n                #判断一下如果当日涨停，则取消卖单\\n                if  df_price_limit_status[df_price_limit_status.instrument==ins].price_limit_status_0.ix[today]>2 and _order.amount<0:\\n                    cancel_order(_order)\\n                    print(today,'尾盘涨停取消卖单',ins) \\n            except:\\n                continue\",\"type\":\"Literal\",\"bound_global_parameter\":null},{\"name\":\"volume_limit\",\"value\":0.025,\"type\":\"Literal\",\"bound_global_parameter\":null},{\"name\":\"order_price_field_buy\",\"value\":\"open\",\"type\":\"Literal\",\"bound_global_parameter\":null},{\"name\":\"order_price_field_sell\",\"value\":\"close\",\"type\":\"Literal\",\"bound_global_parameter\":null},{\"name\":\"capital_base\",\"value\":\"1000001\",\"type\":\"Literal\",\"bound_global_parameter\":null},{\"name\":\"auto_cancel_non_tradable_orders\",\"value\":\"True\",\"type\":\"Literal\",\"bound_global_parameter\":null},{\"name\":\"data_frequency\",\"value\":\"daily\",\"type\":\"Literal\",\"bound_global_parameter\":null},{\"name\":\"price_type\",\"value\":\"后复权\",\"type\":\"Literal\",\"bound_global_parameter\":null},{\"name\":\"product_type\",\"value\":\"股票\",\"type\":\"Literal\",\"bound_global_parameter\":null},{\"name\":\"plot_charts\",\"value\":\"True\",\"type\":\"Literal\",\"bound_global_parameter\":null},{\"name\":\"backtest_only\",\"value\":\"False\",\"type\":\"Literal\",\"bound_global_parameter\":null},{\"name\":\"benchmark\",\"value\":\"\",\"type\":\"Literal\",\"bound_global_parameter\":null}],\"input_ports\":[{\"name\":\"instruments\",\"node_id\":\"-1918\"},{\"name\":\"options_data\",\"node_id\":\"-1918\"},{\"name\":\"history_ds\",\"node_id\":\"-1918\"},{\"name\":\"benchmark_ds\",\"node_id\":\"-1918\"},{\"name\":\"trading_calendar\",\"node_id\":\"-1918\"}],\"output_ports\":[{\"name\":\"raw_perf\",\"node_id\":\"-1918\"}],\"cacheable\":false,\"seq_num\":4,\"comment\":\"\",\"comment_collapsed\":true},{\"node_id\":\"-8068\",\"module_id\":\"BigQuantSpace.stock_ranker_train.stock_ranker_train-v6\",\"parameters\":[{\"name\":\"learning_algorithm\",\"value\":\"排序\",\"type\":\"Literal\",\"bound_global_parameter\":null},{\"name\":\"number_of_leaves\",\"value\":30,\"type\":\"Literal\",\"bound_global_parameter\":null},{\"name\":\"minimum_docs_per_leaf\",\"value\":1000,\"type\":\"Literal\",\"bound_global_parameter\":null},{\"name\":\"number_of_trees\",\"value\":20,\"type\":\"Literal\",\"bound_global_parameter\":null},{\"name\":\"learning_rate\",\"value\":0.1,\"type\":\"Literal\",\"bound_global_parameter\":null},{\"name\":\"max_bins\",\"value\":1023,\"type\":\"Literal\",\"bound_global_parameter\":null},{\"name\":\"feature_fraction\",\"value\":1,\"type\":\"Literal\",\"bound_global_parameter\":null},{\"name\":\"data_row_fraction\",\"value\":1,\"type\":\"Literal\",\"bound_global_parameter\":null},{\"name\":\"ndcg_discount_base\",\"value\":1,\"type\":\"Literal\",\"bound_global_parameter\":null},{\"name\":\"m_lazy_run\",\"value\":\"False\",\"type\":\"Literal\",\"bound_global_parameter\":null}],\"input_ports\":[{\"name\":\"training_ds\",\"node_id\":\"-8068\"},{\"name\":\"features\",\"node_id\":\"-8068\"},{\"name\":\"test_ds\",\"node_id\":\"-8068\"},{\"name\":\"base_model\",\"node_id\":\"-8068\"}],\"output_ports\":[{\"name\":\"model\",\"node_id\":\"-8068\"},{\"name\":\"feature_gains\",\"node_id\":\"-8068\"},{\"name\":\"m_lazy_run\",\"node_id\":\"-8068\"}],\"cacheable\":true,\"seq_num\":5,\"comment\":\"\",\"comment_collapsed\":true},{\"node_id\":\"-148\",\"module_id\":\"BigQuantSpace.input_features.input_features-v1\",\"parameters\":[{\"name\":\"features\",\"value\":\"\\n# #号开始的表示注释，注释需单独一行\\n# 多个特征，每行一个，可以包含基础特征和衍生特征，特征须为本平台特征\\nname\",\"type\":\"Literal\",\"bound_global_parameter\":null}],\"input_ports\":[{\"name\":\"features_ds\",\"node_id\":\"-148\"}],\"output_ports\":[{\"name\":\"data\",\"node_id\":\"-148\"}],\"cacheable\":true,\"seq_num\":20,\"comment\":\"\",\"comment_collapsed\":true},{\"node_id\":\"-184\",\"module_id\":\"BigQuantSpace.input_features.input_features-v1\",\"parameters\":[{\"name\":\"features\",\"value\":\"\\n# #号开始的表示注释，注释需单独一行\\n# 多个特征，每行一个，可以包含基础特征和衍生特征，特征须为本平台特征\\nbm_0 = where(close/shift(close,5)-1<-0.05,1,0)\",\"type\":\"Literal\",\"bound_global_parameter\":null}],\"input_ports\":[{\"name\":\"features_ds\",\"node_id\":\"-184\"}],\"output_ports\":[{\"name\":\"data\",\"node_id\":\"-184\"}],\"cacheable\":true,\"seq_num\":24,\"comment\":\"\",\"comment_collapsed\":true},{\"node_id\":\"-189\",\"module_id\":\"BigQuantSpace.join.join-v3\",\"parameters\":[{\"name\":\"on\",\"value\":\"date\",\"type\":\"Literal\",\"bound_global_parameter\":null},{\"name\":\"how\",\"value\":\"left\",\"type\":\"Literal\",\"bound_global_parameter\":null},{\"name\":\"sort\",\"value\":\"True\",\"type\":\"Literal\",\"bound_global_parameter\":null}],\"input_ports\":[{\"name\":\"data1\",\"node_id\":\"-189\"},{\"name\":\"data2\",\"node_id\":\"-189\"}],\"output_ports\":[{\"name\":\"data\",\"node_id\":\"-189\"}],\"cacheable\":true,\"seq_num\":25,\"comment\":\"\",\"comment_collapsed\":true},{\"node_id\":\"-196\",\"module_id\":\"BigQuantSpace.select_columns.select_columns-v3\",\"parameters\":[{\"name\":\"columns\",\"value\":\"date,bm_0\",\"type\":\"Literal\",\"bound_global_parameter\":null},{\"name\":\"reverse_select\",\"value\":\"False\",\"type\":\"Literal\",\"bound_global_parameter\":null}],\"input_ports\":[{\"name\":\"input_ds\",\"node_id\":\"-196\"},{\"name\":\"columns_ds\",\"node_id\":\"-196\"}],\"output_ports\":[{\"name\":\"data\",\"node_id\":\"-196\"}],\"cacheable\":true,\"seq_num\":26,\"comment\":\"\",\"comment_collapsed\":true},{\"node_id\":\"-202\",\"module_id\":\"BigQuantSpace.join.join-v3\",\"parameters\":[{\"name\":\"on\",\"value\":\"date,instrument\",\"type\":\"Literal\",\"bound_global_parameter\":null},{\"name\":\"how\",\"value\":\"left\",\"type\":\"Literal\",\"bound_global_parameter\":null},{\"name\":\"sort\",\"value\":\"True\",\"type\":\"Literal\",\"bound_global_parameter\":null}],\"input_ports\":[{\"name\":\"data1\",\"node_id\":\"-202\"},{\"name\":\"data2\",\"node_id\":\"-202\"}],\"output_ports\":[{\"name\":\"data\",\"node_id\":\"-202\"}],\"cacheable\":true,\"seq_num\":27,\"comment\":\"\",\"comment_collapsed\":true},{\"node_id\":\"-224\",\"module_id\":\"BigQuantSpace.use_datasource.use_datasource-v1\",\"parameters\":[{\"name\":\"datasource_id\",\"value\":\"instruments_CN_STOCK_A\",\"type\":\"Literal\",\"bound_global_parameter\":null},{\"name\":\"start_date\",\"value\":\"\",\"type\":\"Literal\",\"bound_global_parameter\":null},{\"name\":\"end_date\",\"value\":\"\",\"type\":\"Literal\",\"bound_global_parameter\":null}],\"input_ports\":[{\"name\":\"instruments\",\"node_id\":\"-224\"},{\"name\":\"features\",\"node_id\":\"-224\"}],\"output_ports\":[{\"name\":\"data\",\"node_id\":\"-224\"}],\"cacheable\":true,\"seq_num\":22,\"comment\":\"\",\"comment_collapsed\":true},{\"node_id\":\"-318\",\"module_id\":\"BigQuantSpace.input_features.input_features-v1\",\"parameters\":[{\"name\":\"features\",\"value\":\"# #号开始的表示注释\\n# 多个特征，每行一个，可以包含基础特征和衍生特征\\nprice_limit_status_0\",\"type\":\"Literal\",\"bound_global_parameter\":null}],\"input_ports\":[{\"name\":\"features_ds\",\"node_id\":\"-318\"}],\"output_ports\":[{\"name\":\"data\",\"node_id\":\"-318\"}],\"cacheable\":true,\"seq_num\":6,\"comment\":\"\",\"comment_collapsed\":true},{\"node_id\":\"-323\",\"module_id\":\"BigQuantSpace.select_columns.select_columns-v3\",\"parameters\":[{\"name\":\"columns\",\"value\":\"date,instrument,price_limit_status_0\",\"type\":\"Literal\",\"bound_global_parameter\":null},{\"name\":\"reverse_select\",\"value\":\"False\",\"type\":\"Literal\",\"bound_global_parameter\":null}],\"input_ports\":[{\"name\":\"input_ds\",\"node_id\":\"-323\"},{\"name\":\"columns_ds\",\"node_id\":\"-323\"}],\"output_ports\":[{\"name\":\"data\",\"node_id\":\"-323\"}],\"cacheable\":true,\"seq_num\":10,\"comment\":\"\",\"comment_collapsed\":true},{\"node_id\":\"-329\",\"module_id\":\"BigQuantSpace.join.join-v3\",\"parameters\":[{\"name\":\"on\",\"value\":\"date,instrument\",\"type\":\"Literal\",\"bound_global_parameter\":null},{\"name\":\"how\",\"value\":\"left\",\"type\":\"Literal\",\"bound_global_parameter\":null},{\"name\":\"sort\",\"value\":\"True\",\"type\":\"Literal\",\"bound_global_parameter\":null}],\"input_ports\":[{\"name\":\"data1\",\"node_id\":\"-329\"},{\"name\":\"data2\",\"node_id\":\"-329\"}],\"output_ports\":[{\"name\":\"data\",\"node_id\":\"-329\"}],\"cacheable\":true,\"seq_num\":11,\"comment\":\"\",\"comment_collapsed\":true},{\"node_id\":\"-1620\",\"module_id\":\"BigQuantSpace.index_feature_extract.index_feature_extract-v3\",\"parameters\":[{\"name\":\"before_days\",\"value\":100,\"type\":\"Literal\",\"bound_global_parameter\":null},{\"name\":\"index\",\"value\":\"000300.HIX\",\"type\":\"Literal\",\"bound_global_parameter\":null}],\"input_ports\":[{\"name\":\"input_1\",\"node_id\":\"-1620\"},{\"name\":\"input_2\",\"node_id\":\"-1620\"}],\"output_ports\":[{\"name\":\"data_1\",\"node_id\":\"-1620\"},{\"name\":\"data_2\",\"node_id\":\"-1620\"}],\"cacheable\":true,\"seq_num\":12,\"comment\":\"\",\"comment_collapsed\":true},{\"node_id\":\"-1626\",\"module_id\":\"BigQuantSpace.sort.sort-v4\",\"parameters\":[{\"name\":\"sort_by\",\"value\":\"date,position\",\"type\":\"Literal\",\"bound_global_parameter\":null},{\"name\":\"group_by\",\"value\":\"--\",\"type\":\"Literal\",\"bound_global_parameter\":null},{\"name\":\"keep_columns\",\"value\":\"--\",\"type\":\"Literal\",\"bound_global_parameter\":null},{\"name\":\"ascending\",\"value\":\"True\",\"type\":\"Literal\",\"bound_global_parameter\":null}],\"input_ports\":[{\"name\":\"input_ds\",\"node_id\":\"-1626\"},{\"name\":\"sort_by_ds\",\"node_id\":\"-1626\"}],\"output_ports\":[{\"name\":\"sorted_data\",\"node_id\":\"-1626\"}],\"cacheable\":true,\"seq_num\":19,\"comment\":\"\",\"comment_collapsed\":true},{\"node_id\":\"-175\",\"module_id\":\"BigQuantSpace.cached.cached-v3\",\"parameters\":[{\"name\":\"run\",\"value\":\"# Python 代码入口函数，input_1/2/3 对应三个输入端，data_1/2/3 对应三个输出端\\ndef bigquant_run(input_1, input_2, input_3):\\n    df = input_1.read_df()\\n    \\n    # 计算因子“量价相关系数”\\n    df['涨跌幅'] = df['close_0/adjust_factor_0'] / df['close_0/adjust_factor_0'].shift() - 1\\n    df['复权因子'] = (1 + df['涨跌幅']).cumprod()\\n    df['量价相关系数'] = df['turn_0'].rolling(10).corr(df['复权因子'].rolling(10))\\n    \\n    # 删除不需要的列\\n    df.drop(['adjust_factor_0', 'close_0', 'turn_0', '涨跌幅', '复权因子'], axis=1, inplace=True)\\n    \\n    data_1 = DataSource().write_df(df)\\n    \\n    return Outputs(data_1=data_1, data_2=None, data_3=None)\",\"type\":\"Literal\",\"bound_global_parameter\":null},{\"name\":\"post_run\",\"value\":\"# 后处理函数，可选。输入是主函数的输出，可以在这里对数据做处理，或者返回更友好的outputs数据格式。此函数输出不会被缓存。\\ndef bigquant_run(outputs):\\n    return outputs\\n\",\"type\":\"Literal\",\"bound_global_parameter\":null},{\"name\":\"input_ports\",\"value\":\"\",\"type\":\"Literal\",\"bound_global_parameter\":null},{\"name\":\"params\",\"value\":\"{}\",\"type\":\"Literal\",\"bound_global_parameter\":null},{\"name\":\"output_ports\",\"value\":\"\",\"type\":\"Literal\",\"bound_global_parameter\":null}],\"input_ports\":[{\"name\":\"input_1\",\"node_id\":\"-175\"},{\"name\":\"input_2\",\"node_id\":\"-175\"},{\"name\":\"input_3\",\"node_id\":\"-175\"}],\"output_ports\":[{\"name\":\"data_1\",\"node_id\":\"-175\"},{\"name\":\"data_2\",\"node_id\":\"-175\"},{\"name\":\"data_3\",\"node_id\":\"-175\"}],\"cacheable\":true,\"seq_num\":21,\"comment\":\"\",\"comment_collapsed\":true},{\"node_id\":\"-183\",\"module_id\":\"BigQuantSpace.dropnan.dropnan-v2\",\"parameters\":[],\"input_ports\":[{\"name\":\"input_data\",\"node_id\":\"-183\"},{\"name\":\"features\",\"node_id\":\"-183\"}],\"output_ports\":[{\"name\":\"data\",\"node_id\":\"-183\"}],\"cacheable\":true,\"seq_num\":23,\"comment\":\"\",\"comment_collapsed\":true},{\"node_id\":\"-187\",\"module_id\":\"BigQuantSpace.dropnan.dropnan-v2\",\"parameters\":[],\"input_ports\":[{\"name\":\"input_data\",\"node_id\":\"-187\"},{\"name\":\"features\",\"node_id\":\"-187\"}],\"output_ports\":[{\"name\":\"data\",\"node_id\":\"-187\"}],\"cacheable\":true,\"seq_num\":28,\"comment\":\"\",\"comment_collapsed\":true}],\"node_layout\":\"<node_postions><node_position Node='287d2cb0-f53c-4101-bdf8-104b137c8601-8' Position='249,98,200,200'/><node_position Node='287d2cb0-f53c-4101-bdf8-104b137c8601-15' Position='84,198,200,200'/><node_position Node='287d2cb0-f53c-4101-bdf8-104b137c8601-24' Position='699,-10,200,200'/><node_position Node='287d2cb0-f53c-4101-bdf8-104b137c8601-53' Position='268,365,200,200'/><node_position Node='287d2cb0-f53c-4101-bdf8-104b137c8601-60' Position='790,700,200,200'/><node_position Node='287d2cb0-f53c-4101-bdf8-104b137c8601-62' Position='997,123,200,200'/><node_position Node='-404' Position='382,184,200,200'/><node_position Node='-411' Position='385,280,200,200'/><node_position Node='-418' Position='1002,254,200,200'/><node_position Node='-425' Position='1008,376,200,200'/><node_position Node='-1918' Position='1241,985,200,200'/><node_position Node='-8068' Position='599,607,200,200'/><node_position Node='-148' Position='1388,316,200,200'/><node_position Node='-184' Position='1827,225,200,200'/><node_position Node='-189' Position='1495,536,200,200'/><node_position Node='-196' Position='1681,416,200,200'/><node_position Node='-202' Position='1240,798,200,200'/><node_position Node='-224' Position='1385,414,200,200'/><node_position Node='-318' Position='697,157,200,200'/><node_position Node='-323' Position='1105,596,200,200'/><node_position Node='-329' Position='1130,698,200,200'/><node_position Node='-1620' Position='1698,316,200,200'/><node_position Node='-1626' Position='1301,909,200,200'/><node_position Node='-175' Position='298,438,200,200'/><node_position Node='-183' Position='384,518,200,200'/><node_position Node='-187' Position='1011,485,200,200'/></node_postions>\"},\"nodes_readonly\":false,\"studio_version\":\"v2\"}"
   },
   "outputs": [
    {
     "data": {
      "text/plain": [
       "[2021-08-22 14:54:15.714005] INFO: moduleinvoker: instruments.v2 开始运行.."
      ]
     },
     "metadata": {
      "is_log": true,
      "status": "INFO"
     },
     "output_type": "display_data"
    },
    {
     "data": {
      "text/plain": [
       "[2021-08-22 14:54:15.951477] INFO: moduleinvoker: instruments.v2 运行完成[0.237482s]."
      ]
     },
     "metadata": {
      "is_log": true,
      "status": "INFO"
     },
     "output_type": "display_data"
    },
    {
     "data": {
      "text/plain": [
       "[2021-08-22 14:54:15.962075] INFO: moduleinvoker: advanced_auto_labeler.v2 开始运行.."
      ]
     },
     "metadata": {
      "is_log": true,
      "status": "INFO"
     },
     "output_type": "display_data"
    },
    {
     "data": {
      "text/plain": [
       "[2021-08-22 14:54:24.958137] INFO: 自动标注(股票): 加载历史数据: 2951387 行"
      ]
     },
     "metadata": {
      "is_log": true,
      "status": "INFO"
     },
     "output_type": "display_data"
    },
    {
     "data": {
      "text/plain": [
       "[2021-08-22 14:54:24.959788] INFO: 自动标注(股票): 开始标注 .."
      ]
     },
     "metadata": {
      "is_log": true,
      "status": "INFO"
     },
     "output_type": "display_data"
    },
    {
     "data": {
      "text/plain": [
       "[2021-08-22 14:54:34.091141] INFO: moduleinvoker: advanced_auto_labeler.v2 运行完成[18.129054s]."
      ]
     },
     "metadata": {
      "is_log": true,
      "status": "INFO"
     },
     "output_type": "display_data"
    },
    {
     "data": {
      "text/plain": [
       "[2021-08-22 14:54:34.097561] INFO: moduleinvoker: input_features.v1 开始运行.."
      ]
     },
     "metadata": {
      "is_log": true,
      "status": "INFO"
     },
     "output_type": "display_data"
    },
    {
     "data": {
      "text/plain": [
       "[2021-08-22 14:54:34.105905] INFO: moduleinvoker: 命中缓存"
      ]
     },
     "metadata": {
      "is_log": true,
      "status": "INFO"
     },
     "output_type": "display_data"
    },
    {
     "data": {
      "text/plain": [
       "[2021-08-22 14:54:34.107173] INFO: moduleinvoker: input_features.v1 运行完成[0.00962s]."
      ]
     },
     "metadata": {
      "is_log": true,
      "status": "INFO"
     },
     "output_type": "display_data"
    },
    {
     "data": {
      "text/plain": [
       "[2021-08-22 14:54:34.123879] INFO: moduleinvoker: general_feature_extractor.v7 开始运行.."
      ]
     },
     "metadata": {
      "is_log": true,
      "status": "INFO"
     },
     "output_type": "display_data"
    },
    {
     "data": {
      "text/plain": [
       "[2021-08-22 14:54:35.301315] INFO: 基础特征抽取: 年份 2016, 特征行数=552168"
      ]
     },
     "metadata": {
      "is_log": true,
      "status": "INFO"
     },
     "output_type": "display_data"
    },
    {
     "data": {
      "text/plain": [
       "[2021-08-22 14:54:36.867153] INFO: 基础特征抽取: 年份 2017, 特征行数=743233"
      ]
     },
     "metadata": {
      "is_log": true,
      "status": "INFO"
     },
     "output_type": "display_data"
    },
    {
     "data": {
      "text/plain": [
       "[2021-08-22 14:54:38.911329] INFO: 基础特征抽取: 年份 2018, 特征行数=816987"
      ]
     },
     "metadata": {
      "is_log": true,
      "status": "INFO"
     },
     "output_type": "display_data"
    },
    {
     "data": {
      "text/plain": [
       "[2021-08-22 14:54:41.383580] INFO: 基础特征抽取: 年份 2019, 特征行数=884867"
      ]
     },
     "metadata": {
      "is_log": true,
      "status": "INFO"
     },
     "output_type": "display_data"
    },
    {
     "data": {
      "text/plain": [
       "[2021-08-22 14:54:42.141972] INFO: 基础特征抽取: 年份 2020, 特征行数=0"
      ]
     },
     "metadata": {
      "is_log": true,
      "status": "INFO"
     },
     "output_type": "display_data"
    },
    {
     "data": {
      "text/plain": [
       "[2021-08-22 14:54:42.235431] INFO: 基础特征抽取: 总行数: 2997255"
      ]
     },
     "metadata": {
      "is_log": true,
      "status": "INFO"
     },
     "output_type": "display_data"
    },
    {
     "data": {
      "text/plain": [
       "[2021-08-22 14:54:42.239365] INFO: moduleinvoker: general_feature_extractor.v7 运行完成[8.115482s]."
      ]
     },
     "metadata": {
      "is_log": true,
      "status": "INFO"
     },
     "output_type": "display_data"
    },
    {
     "data": {
      "text/plain": [
       "[2021-08-22 14:54:42.247876] INFO: moduleinvoker: derived_feature_extractor.v3 开始运行.."
      ]
     },
     "metadata": {
      "is_log": true,
      "status": "INFO"
     },
     "output_type": "display_data"
    },
    {
     "data": {
      "text/plain": [
       "[2021-08-22 14:54:50.239257] INFO: derived_feature_extractor: 提取完成 close_0/adjust_factor_0, 0.005s"
      ]
     },
     "metadata": {
      "is_log": true,
      "status": "INFO"
     },
     "output_type": "display_data"
    },
    {
     "data": {
      "text/plain": [
       "[2021-08-22 14:54:52.073911] INFO: derived_feature_extractor: /y_2016, 552168"
      ]
     },
     "metadata": {
      "is_log": true,
      "status": "INFO"
     },
     "output_type": "display_data"
    },
    {
     "data": {
      "text/plain": [
       "[2021-08-22 14:54:54.238522] INFO: derived_feature_extractor: /y_2017, 743233"
      ]
     },
     "metadata": {
      "is_log": true,
      "status": "INFO"
     },
     "output_type": "display_data"
    },
    {
     "data": {
      "text/plain": [
       "[2021-08-22 14:54:56.756969] INFO: derived_feature_extractor: /y_2018, 816987"
      ]
     },
     "metadata": {
      "is_log": true,
      "status": "INFO"
     },
     "output_type": "display_data"
    },
    {
     "data": {
      "text/plain": [
       "[2021-08-22 14:54:59.419578] INFO: derived_feature_extractor: /y_2019, 884867"
      ]
     },
     "metadata": {
      "is_log": true,
      "status": "INFO"
     },
     "output_type": "display_data"
    },
    {
     "data": {
      "text/plain": [
       "[2021-08-22 14:55:00.000089] INFO: moduleinvoker: derived_feature_extractor.v3 运行完成[17.752192s]."
      ]
     },
     "metadata": {
      "is_log": true,
      "status": "INFO"
     },
     "output_type": "display_data"
    },
    {
     "data": {
      "text/plain": [
       "[2021-08-22 14:55:00.007900] INFO: moduleinvoker: join.v3 开始运行.."
      ]
     },
     "metadata": {
      "is_log": true,
      "status": "INFO"
     },
     "output_type": "display_data"
    },
    {
     "data": {
      "text/plain": [
       "[2021-08-22 14:55:12.635792] INFO: join: /y_2016, 行数=502958/552168, 耗时=3.32007s"
      ]
     },
     "metadata": {
      "is_log": true,
      "status": "INFO"
     },
     "output_type": "display_data"
    },
    {
     "data": {
      "text/plain": [
       "[2021-08-22 14:55:16.998378] INFO: join: /y_2017, 行数=738259/743233, 耗时=4.349138s"
      ]
     },
     "metadata": {
      "is_log": true,
      "status": "INFO"
     },
     "output_type": "display_data"
    },
    {
     "data": {
      "text/plain": [
       "[2021-08-22 14:55:22.444612] INFO: join: /y_2018, 行数=813504/816987, 耗时=5.427691s"
      ]
     },
     "metadata": {
      "is_log": true,
      "status": "INFO"
     },
     "output_type": "display_data"
    },
    {
     "data": {
      "text/plain": [
       "[2021-08-22 14:55:28.078889] INFO: join: /y_2019, 行数=862599/884867, 耗时=5.614745s"
      ]
     },
     "metadata": {
      "is_log": true,
      "status": "INFO"
     },
     "output_type": "display_data"
    },
    {
     "data": {
      "text/plain": [
       "[2021-08-22 14:55:28.212595] INFO: join: 最终行数: 2917320"
      ]
     },
     "metadata": {
      "is_log": true,
      "status": "INFO"
     },
     "output_type": "display_data"
    },
    {
     "data": {
      "text/plain": [
       "[2021-08-22 14:55:28.289691] INFO: moduleinvoker: join.v3 运行完成[28.281784s]."
      ]
     },
     "metadata": {
      "is_log": true,
      "status": "INFO"
     },
     "output_type": "display_data"
    },
    {
     "data": {
      "text/plain": [
       "[2021-08-22 14:55:28.300434] INFO: moduleinvoker: cached.v3 开始运行.."
      ]
     },
     "metadata": {
      "is_log": true,
      "status": "INFO"
     },
     "output_type": "display_data"
    },
    {
     "data": {
      "text/plain": [
       "[2021-08-22 14:55:35.924875] INFO: moduleinvoker: cached.v3 运行完成[7.624433s]."
      ]
     },
     "metadata": {
      "is_log": true,
      "status": "INFO"
     },
     "output_type": "display_data"
    },
    {
     "data": {
      "text/plain": [
       "[2021-08-22 14:55:35.933437] INFO: moduleinvoker: dropnan.v2 开始运行.."
      ]
     },
     "metadata": {
      "is_log": true,
      "status": "INFO"
     },
     "output_type": "display_data"
    },
    {
     "data": {
      "text/plain": [
       "[2021-08-22 14:55:41.050069] INFO: dropnan: /data, 2917310/2917320"
      ]
     },
     "metadata": {
      "is_log": true,
      "status": "INFO"
     },
     "output_type": "display_data"
    },
    {
     "data": {
      "text/plain": [
       "[2021-08-22 14:55:41.091931] INFO: dropnan: 行数: 2917310/2917320"
      ]
     },
     "metadata": {
      "is_log": true,
      "status": "INFO"
     },
     "output_type": "display_data"
    },
    {
     "data": {
      "text/plain": [
       "[2021-08-22 14:55:41.192539] INFO: moduleinvoker: dropnan.v2 运行完成[5.259094s]."
      ]
     },
     "metadata": {
      "is_log": true,
      "status": "INFO"
     },
     "output_type": "display_data"
    },
    {
     "data": {
      "text/plain": [
       "[2021-08-22 14:55:41.207116] INFO: moduleinvoker: stock_ranker_train.v6 开始运行.."
      ]
     },
     "metadata": {
      "is_log": true,
      "status": "INFO"
     },
     "output_type": "display_data"
    },
    {
     "data": {
      "text/plain": [
       "[2021-08-22 14:55:44.517462] INFO: StockRanker: 特征预处理 .."
      ]
     },
     "metadata": {
      "is_log": true,
      "status": "INFO"
     },
     "output_type": "display_data"
    },
    {
     "data": {
      "text/plain": [
       "[2021-08-22 14:55:44.750650] INFO: StockRanker: prepare data: training .."
      ]
     },
     "metadata": {
      "is_log": true,
      "status": "INFO"
     },
     "output_type": "display_data"
    },
    {
     "data": {
      "text/plain": [
       "[2021-08-22 14:55:45.027631] INFO: StockRanker: sort .."
      ]
     },
     "metadata": {
      "is_log": true,
      "status": "INFO"
     },
     "output_type": "display_data"
    },
    {
     "data": {
      "text/plain": [
       "[2021-08-22 14:56:10.521213] INFO: StockRanker训练: f6d866aa 准备训练: 2917310 行数"
      ]
     },
     "metadata": {
      "is_log": true,
      "status": "INFO"
     },
     "output_type": "display_data"
    },
    {
     "data": {
      "text/plain": [
       "[2021-08-22 14:56:10.522901] INFO: StockRanker训练: AI模型训练，将在2917310*2=583.46万数据上对模型训练进行20轮迭代训练。预计将需要3～5分钟。请耐心等待。"
      ]
     },
     "metadata": {
      "is_log": true,
      "status": "INFO"
     },
     "output_type": "display_data"
    },
    {
     "data": {
      "text/plain": [
       "[2021-08-22 14:56:10.691921] INFO: StockRanker训练: 正在训练 .."
      ]
     },
     "metadata": {
      "is_log": true,
      "status": "INFO"
     },
     "output_type": "display_data"
    },
    {
     "data": {
      "text/plain": [
       "[2021-08-22 14:56:10.737404] INFO: StockRanker训练: 任务状态: Pending"
      ]
     },
     "metadata": {
      "is_log": true,
      "status": "INFO"
     },
     "output_type": "display_data"
    },
    {
     "data": {
      "text/plain": [
       "[2021-08-22 14:56:20.788297] INFO: StockRanker训练: 任务状态: Running"
      ]
     },
     "metadata": {
      "is_log": true,
      "status": "INFO"
     },
     "output_type": "display_data"
    },
    {
     "data": {
      "text/plain": [
       "[2021-08-22 14:56:40.891359] INFO: StockRanker训练: 00:00:17.2805817, finished iteration 1"
      ]
     },
     "metadata": {
      "is_log": true,
      "status": "INFO"
     },
     "output_type": "display_data"
    },
    {
     "data": {
      "text/plain": [
       "[2021-08-22 14:57:00.988901] INFO: StockRanker训练: 00:00:34.2213830, finished iteration 2"
      ]
     },
     "metadata": {
      "is_log": true,
      "status": "INFO"
     },
     "output_type": "display_data"
    },
    {
     "data": {
      "text/plain": [
       "[2021-08-22 14:57:11.044838] INFO: StockRanker训练: 00:00:49.2368224, finished iteration 3"
      ]
     },
     "metadata": {
      "is_log": true,
      "status": "INFO"
     },
     "output_type": "display_data"
    },
    {
     "data": {
      "text/plain": [
       "[2021-08-22 14:57:31.175258] INFO: StockRanker训练: 00:01:04.1690306, finished iteration 4"
      ]
     },
     "metadata": {
      "is_log": true,
      "status": "INFO"
     },
     "output_type": "display_data"
    },
    {
     "data": {
      "text/plain": [
       "[2021-08-22 14:57:41.237106] INFO: StockRanker训练: 00:01:20.0666530, finished iteration 5"
      ]
     },
     "metadata": {
      "is_log": true,
      "status": "INFO"
     },
     "output_type": "display_data"
    },
    {
     "data": {
      "text/plain": [
       "[2021-08-22 14:58:01.355373] INFO: StockRanker训练: 00:01:36.8220995, finished iteration 6"
      ]
     },
     "metadata": {
      "is_log": true,
      "status": "INFO"
     },
     "output_type": "display_data"
    },
    {
     "data": {
      "text/plain": [
       "[2021-08-22 14:58:11.406850] INFO: StockRanker训练: 00:01:53.9528101, finished iteration 7"
      ]
     },
     "metadata": {
      "is_log": true,
      "status": "INFO"
     },
     "output_type": "display_data"
    },
    {
     "data": {
      "text/plain": [
       "[2021-08-22 14:58:31.510431] INFO: StockRanker训练: 00:02:10.6560041, finished iteration 8"
      ]
     },
     "metadata": {
      "is_log": true,
      "status": "INFO"
     },
     "output_type": "display_data"
    },
    {
     "data": {
      "text/plain": [
       "[2021-08-22 14:58:51.625095] INFO: StockRanker训练: 00:02:27.9969797, finished iteration 9"
      ]
     },
     "metadata": {
      "is_log": true,
      "status": "INFO"
     },
     "output_type": "display_data"
    },
    {
     "data": {
      "text/plain": [
       "[2021-08-22 14:59:11.734252] INFO: StockRanker训练: 00:02:46.6655649, finished iteration 10"
      ]
     },
     "metadata": {
      "is_log": true,
      "status": "INFO"
     },
     "output_type": "display_data"
    },
    {
     "data": {
      "text/plain": [
       "[2021-08-22 14:59:31.831616] INFO: StockRanker训练: 00:03:05.0864662, finished iteration 11"
      ]
     },
     "metadata": {
      "is_log": true,
      "status": "INFO"
     },
     "output_type": "display_data"
    },
    {
     "data": {
      "text/plain": [
       "[2021-08-22 14:59:41.897394] INFO: StockRanker训练: 00:03:22.1298262, finished iteration 12"
      ]
     },
     "metadata": {
      "is_log": true,
      "status": "INFO"
     },
     "output_type": "display_data"
    },
    {
     "data": {
      "text/plain": [
       "[2021-08-22 15:00:02.017237] INFO: StockRanker训练: 00:03:38.8478755, finished iteration 13"
      ]
     },
     "metadata": {
      "is_log": true,
      "status": "INFO"
     },
     "output_type": "display_data"
    },
    {
     "data": {
      "text/plain": [
       "[2021-08-22 15:00:22.125796] INFO: StockRanker训练: 00:03:55.9282792, finished iteration 14"
      ]
     },
     "metadata": {
      "is_log": true,
      "status": "INFO"
     },
     "output_type": "display_data"
    },
    {
     "data": {
      "text/plain": [
       "[2021-08-22 15:00:32.183159] INFO: StockRanker训练: 00:04:13.9640097, finished iteration 15"
      ]
     },
     "metadata": {
      "is_log": true,
      "status": "INFO"
     },
     "output_type": "display_data"
    },
    {
     "data": {
      "text/plain": [
       "[2021-08-22 15:00:52.284228] INFO: StockRanker训练: 00:04:32.6527173, finished iteration 16"
      ]
     },
     "metadata": {
      "is_log": true,
      "status": "INFO"
     },
     "output_type": "display_data"
    },
    {
     "data": {
      "text/plain": [
       "[2021-08-22 15:01:12.386603] INFO: StockRanker训练: 00:04:51.6117790, finished iteration 17"
      ]
     },
     "metadata": {
      "is_log": true,
      "status": "INFO"
     },
     "output_type": "display_data"
    },
    {
     "data": {
      "text/plain": [
       "[2021-08-22 15:01:32.499169] INFO: StockRanker训练: 00:05:08.5803088, finished iteration 18"
      ]
     },
     "metadata": {
      "is_log": true,
      "status": "INFO"
     },
     "output_type": "display_data"
    },
    {
     "data": {
      "text/plain": [
       "[2021-08-22 15:01:42.536280] INFO: StockRanker训练: 00:05:24.9977801, finished iteration 19"
      ]
     },
     "metadata": {
      "is_log": true,
      "status": "INFO"
     },
     "output_type": "display_data"
    },
    {
     "data": {
      "text/plain": [
       "[2021-08-22 15:02:02.613297] INFO: StockRanker训练: 00:05:40.9336132, finished iteration 20"
      ]
     },
     "metadata": {
      "is_log": true,
      "status": "INFO"
     },
     "output_type": "display_data"
    },
    {
     "data": {
      "text/plain": [
       "[2021-08-22 15:02:02.614834] INFO: StockRanker训练: 任务状态: Succeeded"
      ]
     },
     "metadata": {
      "is_log": true,
      "status": "INFO"
     },
     "output_type": "display_data"
    },
    {
     "data": {
      "text/html": [
       "<div id='bigchart-d4178aff4eda4344b60df6d048097e59' class='bigchart display' style='display:none'><ul class='nav nav-tabs' style='padding-left: 0;'><li class='tabtitle' style='margin: 0;'><span style='margin: 0;font-size: 1.2em;display: inline-block;padding: 10px 10px;'>StockRanker</span></li><li class='active'><a>特征重要性</a></li><li><a>模型</a></li><li><a>训练曲线</a></li></ul><div class='tab-content' style='min-height: 100px;text-align: center;'><div class='tab-pane active' id='特征重要性'><div id=\"bigchart-5ffa3c5ce3cb4254a36cbc5e6f2625c3\" class=\"bigchart\"></div><div class=\"bigchart-data\"><pre style=\"display:none\">bigcharts-data-start/{\"chart\":{\"height\":400,\"type\":\"column\",\"renderTo\":\"bigchart-5ffa3c5ce3cb4254a36cbc5e6f2625c3\"},\"legend\":{\"enabled\":true},\"title\":{\"text\":\"\\u7279\\u5f81\\u91cd\\u8981\\u6027\"},\"stock\":false,\"series\":[{\"name\":\"\\u7279\\u5f81\\u91cd\\u8981\\u6027\",\"yAxis\":0,\"data\":[[\"close_0\\/adjust_factor_0\",1744.5611]]}],\"xAxis\":{\"title\":{\"text\":\"\\u7279\\u5f81\"},\"categories\":[\"close_0\\/adjust_factor_0\"]}}/bigcharts-data-end</pre></div></div><div class='tab-pane' id='模型'><div id=\"bigchart-5a87baecafc64747b868661949ed2cde\" class=\"bigchart\"></div><div class=\"bigchart-data\"><pre style=\"display:none\">bigcharts-data-start/{\"name\":\"sum()\",\"tips\":\"sum()\",\"type\":\"agg\",\"c\":[{\"c\":[{\"c\":[{\"c\":[{\"v\":\"-0.173\"},{\"c\":[{\"c\":[{\"v\":\"-0.022\"},{\"c\":[{\"c\":[{\"v\":\"0.0686\"},{\"v\":\"0.1026\"}],\"f\":1,\"v\":17.5},{\"v\":\"0.0766\"}],\"f\":1,\"v\":97.5}],\"f\":1,\"v\":4.5},{\"c\":[{\"c\":[{\"v\":\"0.0607\"},{\"c\":[{\"v\":\"0.0417\"},{\"c\":[{\"v\":\"0.0724\"},{\"v\":\"0.0458\"}],\"f\":1,\"v\":368.5}],\"f\":1,\"v\":347.5}],\"f\":1,\"v\":299.5},{\"c\":[{\"v\":\"-0.018\"},{\"c\":[{\"c\":[{\"v\":\"0.0314\"},{\"v\":\"0.0485\"}],\"f\":1,\"v\":446.5},{\"v\":\"0.0253\"}],\"f\":1,\"v\":477.5}],\"f\":1,\"v\":420.5}],\"f\":1,\"v\":418.5}],\"f\":1,\"v\":178.5}],\"f\":1,\"v\":0.5},{\"c\":[{\"c\":[{\"v\":\"0.0069\"},{\"v\":\"-0.013\"}],\"f\":1,\"v\":676.5},{\"c\":[{\"v\":\"-0.032\"},{\"c\":[{\"v\":\"-0.055\"},{\"v\":\"-0.032\"}],\"f\":1,\"v\":859.5}],\"f\":1,\"v\":849.5}],\"f\":1,\"v\":757.5}],\"f\":1,\"v\":508.5},{\"c\":[{\"c\":[{\"c\":[{\"v\":\"-0.064\"},{\"v\":\"-0.083\"}],\"f\":1,\"v\":924.5},{\"c\":[{\"v\":\"-0.097\"},{\"c\":[{\"c\":[{\"c\":[{\"v\":\"-0.117\"},{\"v\":\"-0.088\"}],\"f\":1,\"v\":972.5},{\"v\":\"-0.132\"}],\"f\":1,\"v\":974.5},{\"v\":\"-0.088\"}],\"f\":1,\"v\":980.5}],\"f\":1,\"v\":964.5}],\"f\":1,\"v\":931.5},{\"c\":[{\"c\":[{\"v\":\"-0.138\"},{\"c\":[{\"v\":\"-0.182\"},{\"v\":\"-0.136\"}],\"f\":1,\"v\":1012.5}],\"f\":1,\"v\":1011.5},{\"c\":[{\"v\":\"-0.188\"},{\"v\":\"-0.148\"}],\"f\":1,\"v\":1021.5}],\"f\":1,\"v\":1013.5}],\"f\":1,\"v\":984.5}],\"f\":1,\"v\":866.5},{\"c\":[{\"c\":[{\"c\":[{\"v\":\"0.1524\"},{\"v\":\"0.1355\"}],\"f\":1,\"v\":4.5},{\"c\":[{\"c\":[{\"c\":[{\"v\":\"-0.129\"},{\"c\":[{\"v\":\"-0.113\"},{\"v\":\"-0.085\"}],\"f\":1,\"v\":32.5}],\"f\":1,\"v\":23.5},{\"v\":\"-0.128\"}],\"f\":1,\"v\":33.5},{\"c\":[{\"c\":[{\"c\":[{\"c\":[{\"c\":[{\"c\":[{\"v\":\"-0.160\"},{\"v\":\"-0.122\"}],\"f\":1,\"v\":54.5},{\"c\":[{\"v\":\"-0.188\"},{\"v\":\"-0.159\"}],\"f\":1,\"v\":56.5}],\"f\":1,\"v\":55.5},{\"c\":[{\"c\":[{\"v\":\"-0.147\"},{\"v\":\"-0.116\"}],\"f\":1,\"v\":58.5},{\"v\":\"-0.164\"}],\"f\":1,\"v\":59.5}],\"f\":1,\"v\":57.5},{\"c\":[{\"v\":\"-0.207\"},{\"c\":[{\"v\":\"-0.147\"},{\"v\":\"-0.182\"}],\"f\":1,\"v\":62.5}],\"f\":1,\"v\":61.5}],\"f\":1,\"v\":60.5},{\"c\":[{\"c\":[{\"v\":\"-0.152\"},{\"v\":\"-0.167\"}],\"f\":1,\"v\":76.5},{\"c\":[{\"c\":[{\"v\":\"-0.148\"},{\"v\":\"-0.120\"}],\"f\":1,\"v\":78.5},{\"c\":[{\"v\":\"-0.157\"},{\"v\":\"-0.141\"}],\"f\":1,\"v\":86.5}],\"f\":1,\"v\":82.5}],\"f\":1,\"v\":77.5}],\"f\":1,\"v\":65.5},{\"c\":[{\"c\":[{\"v\":\"-0.168\"},{\"v\":\"-0.208\"}],\"f\":1,\"v\":91.5},{\"c\":[{\"v\":\"-0.152\"},{\"v\":\"-0.172\"}],\"f\":1,\"v\":93.5}],\"f\":1,\"v\":92.5}],\"f\":1,\"v\":90.5}],\"f\":1,\"v\":49.5}],\"f\":1,\"v\":17.5},{\"c\":[{\"c\":[{\"v\":\"0.0220\"},{\"v\":\"0.0730\"}],\"f\":1,\"v\":178.5},{\"c\":[{\"v\":\"0.0743\"},{\"v\":\"0.0721\"}],\"f\":1,\"v\":924.5}],\"f\":1,\"v\":477.5}],\"f\":1,\"v\":97.5},{\"c\":[{\"c\":[{\"c\":[{\"v\":\"0.1223\"},{\"v\":\"0.1270\"}],\"f\":1,\"v\":0.5},{\"c\":[{\"c\":[{\"c\":[{\"c\":[{\"v\":\"-0.173\"},{\"v\":\"-0.194\"}],\"f\":1,\"v\":5.5},{\"c\":[{\"v\":\"-0.151\"},{\"c\":[{\"v\":\"-0.184\"},{\"c\":[{\"v\":\"-0.156\"},{\"c\":[{\"v\":\"-0.179\"},{\"c\":[{\"v\":\"-0.156\"},{\"v\":\"-0.170\"}],\"f\":1,\"v\":13.5}],\"f\":1,\"v\":12.5}],\"f\":1,\"v\":11.5}],\"f\":1,\"v\":8.5}],\"f\":1,\"v\":7.5}],\"f\":1,\"v\":6.5},{\"v\":\"-0.146\"}],\"f\":1,\"v\":14.5},{\"v\":\"-0.177\"}],\"f\":1,\"v\":16.5}],\"f\":1,\"v\":4.5},{\"c\":[{\"c\":[{\"c\":[{\"c\":[{\"v\":\"0.1041\"},{\"v\":\"0.0716\"}],\"f\":1,\"v\":98.5},{\"c\":[{\"c\":[{\"v\":\"-0.070\"},{\"v\":\"-0.062\"}],\"f\":1,\"v\":284.5},{\"v\":\"0.0643\"}],\"f\":1,\"v\":299.5}],\"f\":1,\"v\":178.5},{\"c\":[{\"v\":\"-0.104\"},{\"c\":[{\"c\":[{\"v\":\"-0.132\"},{\"v\":\"-0.113\"}],\"f\":1,\"v\":354.5},{\"c\":[{\"v\":\"-0.125\"},{\"v\":\"-0.114\"}],\"f\":1,\"v\":366.5}],\"f\":1,\"v\":362.5}],\"f\":1,\"v\":353.5}],\"f\":1,\"v\":347.5},{\"c\":[{\"c\":[{\"c\":[{\"c\":[{\"c\":[{\"v\":\"0.0462\"},{\"v\":\"0.0589\"}],\"f\":1,\"v\":397.5},{\"v\":\"0.0432\"}],\"f\":1,\"v\":418.5},{\"v\":\"0.0492\"}],\"f\":1,\"v\":451.5},{\"c\":[{\"v\":\"0.0339\"},{\"v\":\"0.0646\"}],\"f\":1,\"v\":506.5}],\"f\":1,\"v\":477.5},{\"c\":[{\"v\":\"0.0737\"},{\"v\":\"0.0616\"}],\"f\":1,\"v\":924.5}],\"f\":1,\"v\":866.5}],\"f\":1,\"v\":368.5}],\"f\":1,\"v\":17.5},{\"c\":[{\"c\":[{\"c\":[{\"c\":[{\"v\":\"0.1070\"},{\"c\":[{\"v\":\"-0.177\"},{\"v\":\"-0.173\"}],\"f\":1,\"v\":3.5}],\"f\":1,\"v\":0.5},{\"c\":[{\"c\":[{\"v\":\"0.0906\"},{\"v\":\"-0.071\"}],\"f\":1,\"v\":97.5},{\"c\":[{\"v\":\"0.0390\"},{\"v\":\"0.0723\"}],\"f\":1,\"v\":170.5}],\"f\":1,\"v\":98.5}],\"f\":1,\"v\":4.5},{\"c\":[{\"c\":[{\"c\":[{\"c\":[{\"v\":\"-0.170\"},{\"c\":[{\"v\":\"-0.142\"},{\"v\":\"-0.160\"}],\"f\":1,\"v\":308.5}],\"f\":1,\"v\":307.5},{\"c\":[{\"v\":\"-0.191\"},{\"c\":[{\"c\":[{\"v\":\"-0.169\"},{\"v\":\"-0.160\"}],\"f\":1,\"v\":320.5},{\"c\":[{\"c\":[{\"v\":\"-0.171\"},{\"v\":\"-0.190\"}],\"f\":1,\"v\":325.5},{\"v\":\"-0.168\"}],\"f\":1,\"v\":326.5}],\"f\":1,\"v\":323.5}],\"f\":1,\"v\":312.5}],\"f\":1,\"v\":310.5},{\"v\":\"-0.148\"}],\"f\":1,\"v\":328.5},{\"c\":[{\"c\":[{\"v\":\"-0.179\"},{\"v\":\"-0.166\"}],\"f\":1,\"v\":339.5},{\"v\":\"-0.183\"}],\"f\":1,\"v\":341.5}],\"f\":1,\"v\":329.5}],\"f\":1,\"v\":299.5},{\"c\":[{\"c\":[{\"v\":\"0.0892\"},{\"c\":[{\"v\":\"0.0613\"},{\"v\":\"0.0484\"}],\"f\":1,\"v\":397.5}],\"f\":1,\"v\":368.5},{\"c\":[{\"v\":\"-0.001\"},{\"c\":[{\"c\":[{\"v\":\"0.0735\"},{\"c\":[{\"v\":\"0.0189\"},{\"c\":[{\"v\":\"0.0857\"},{\"v\":\"0.0583\"}],\"f\":1,\"v\":509.5}],\"f\":1,\"v\":477.5}],\"f\":1,\"v\":451.5},{\"c\":[{\"v\":\"0.0717\"},{\"v\":\"0.0668\"}],\"f\":1,\"v\":924.5}],\"f\":1,\"v\":866.5}],\"f\":1,\"v\":446.5}],\"f\":1,\"v\":418.5}],\"f\":1,\"v\":347.5},{\"c\":[{\"c\":[{\"c\":[{\"c\":[{\"v\":\"0.0661\"},{\"c\":[{\"c\":[{\"v\":\"0.0732\"},{\"v\":\"0.0719\"}],\"f\":1,\"v\":17.5},{\"v\":\"0.0663\"}],\"f\":1,\"v\":49.5}],\"f\":1,\"v\":0.5},{\"c\":[{\"c\":[{\"c\":[{\"v\":\"-0.043\"},{\"v\":\"-0.049\"}],\"f\":1,\"v\":118.5},{\"c\":[{\"c\":[{\"v\":\"-0.115\"},{\"c\":[{\"v\":\"-0.124\"},{\"v\":\"-0.118\"}],\"f\":1,\"v\":174.5}],\"f\":1,\"v\":171.5},{\"v\":\"-0.109\"}],\"f\":1,\"v\":177.5}],\"f\":1,\"v\":170.5},{\"c\":[{\"c\":[{\"v\":\"0.0693\"},{\"c\":[{\"v\":\"0.0623\"},{\"v\":\"0.0744\"}],\"f\":1,\"v\":347.5}],\"f\":1,\"v\":298.5},{\"c\":[{\"v\":\"-0.089\"},{\"c\":[{\"c\":[{\"c\":[{\"c\":[{\"v\":\"-0.009\"},{\"v\":\"0.0589\"}],\"f\":1,\"v\":418.5},{\"v\":\"-0.035\"}],\"f\":1,\"v\":446.5},{\"v\":\"0.0706\"}],\"f\":1,\"v\":451.5},{\"c\":[{\"v\":\"-0.025\"},{\"v\":\"-0.034\"}],\"f\":1,\"v\":489.5}],\"f\":1,\"v\":477.5}],\"f\":1,\"v\":397.5}],\"f\":1,\"v\":368.5}],\"f\":1,\"v\":178.5}],\"f\":1,\"v\":98.5},{\"c\":[{\"c\":[{\"v\":\"-0.151\"},{\"v\":\"-0.129\"}],\"f\":1,\"v\":507.5},{\"v\":\"-0.006\"}],\"f\":1,\"v\":508.5}],\"f\":1,\"v\":506.5},{\"c\":[{\"c\":[{\"c\":[{\"v\":\"0.0166\"},{\"v\":\"0.0018\"}],\"f\":1,\"v\":525.5},{\"c\":[{\"v\":\"0.0221\"},{\"v\":\"0.0120\"}],\"f\":1,\"v\":556.5}],\"f\":1,\"v\":548.5},{\"c\":[{\"v\":\"0.0549\"},{\"c\":[{\"v\":\"0.0539\"},{\"v\":\"0.0468\"}],\"f\":1,\"v\":984.5}],\"f\":1,\"v\":924.5}],\"f\":1,\"v\":674.5}],\"f\":1,\"v\":509.5},{\"c\":[{\"c\":[{\"c\":[{\"c\":[{\"v\":\"-0.018\"},{\"v\":\"0.0195\"}],\"f\":1,\"v\":0.5},{\"c\":[{\"v\":\"-0.091\"},{\"v\":\"-0.011\"}],\"f\":1,\"v\":33.5}],\"f\":1,\"v\":32.5},{\"c\":[{\"v\":\"0.0473\"},{\"c\":[{\"v\":\"0.0694\"},{\"c\":[{\"v\":\"0.0615\"},{\"c\":[{\"v\":\"0.0849\"},{\"c\":[{\"c\":[{\"v\":\"0.0728\"},{\"v\":\"0.0534\"}],\"f\":1,\"v\":368.5},{\"v\":\"0.0521\"}],\"f\":1,\"v\":401.5}],\"f\":1,\"v\":353.5}],\"f\":1,\"v\":347.5}],\"f\":1,\"v\":298.5}],\"f\":1,\"v\":178.5}],\"f\":1,\"v\":49.5},{\"c\":[{\"c\":[{\"c\":[{\"c\":[{\"c\":[{\"v\":\"-0.153\"},{\"v\":\"-0.173\"}],\"f\":1,\"v\":452.5},{\"v\":\"-0.144\"}],\"f\":1,\"v\":453.5},{\"c\":[{\"c\":[{\"v\":\"-0.163\"},{\"v\":\"-0.173\"}],\"f\":1,\"v\":458.5},{\"c\":[{\"v\":\"-0.152\"},{\"c\":[{\"v\":\"-0.175\"},{\"v\":\"-0.162\"}],\"f\":1,\"v\":462.5}],\"f\":1,\"v\":461.5}],\"f\":1,\"v\":460.5}],\"f\":1,\"v\":454.5},{\"c\":[{\"c\":[{\"v\":\"-0.183\"},{\"c\":[{\"v\":\"-0.157\"},{\"v\":\"-0.171\"}],\"f\":1,\"v\":471.5}],\"f\":1,\"v\":470.5},{\"v\":\"-0.189\"}],\"f\":1,\"v\":476.5}],\"f\":1,\"v\":468.5},{\"c\":[{\"c\":[{\"c\":[{\"v\":\"0.0640\"},{\"v\":\"-0.003\"}],\"f\":1,\"v\":509.5},{\"v\":\"0.0469\"}],\"f\":1,\"v\":525.5},{\"c\":[{\"v\":\"-0.050\"},{\"c\":[{\"v\":\"-0.013\"},{\"c\":[{\"v\":\"0.0631\"},{\"v\":\"0.0584\"}],\"f\":1,\"v\":924.5}],\"f\":1,\"v\":849.5}],\"f\":1,\"v\":757.5}],\"f\":1,\"v\":676.5}],\"f\":1,\"v\":477.5}],\"f\":1,\"v\":451.5},{\"c\":[{\"c\":[{\"c\":[{\"v\":\"0.0776\"},{\"c\":[{\"v\":\"-0.036\"},{\"c\":[{\"c\":[{\"c\":[{\"v\":\"0.0563\"},{\"c\":[{\"v\":\"-0.030\"},{\"v\":\"0.0488\"}],\"f\":1,\"v\":59.5}],\"f\":1,\"v\":58.5},{\"v\":\"0.0776\"}],\"f\":1,\"v\":65.5},{\"c\":[{\"v\":\"-0.041\"},{\"c\":[{\"v\":\"0.0731\"},{\"v\":\"0.0456\"}],\"f\":1,\"v\":94.5}],\"f\":1,\"v\":82.5}],\"f\":1,\"v\":78.5}],\"f\":1,\"v\":32.5}],\"f\":1,\"v\":23.5},{\"c\":[{\"v\":\"-0.080\"},{\"v\":\"-0.039\"}],\"f\":1,\"v\":284.5}],\"f\":1,\"v\":178.5},{\"c\":[{\"c\":[{\"c\":[{\"v\":\"0.0517\"},{\"v\":\"-0.040\"}],\"f\":1,\"v\":347.5},{\"c\":[{\"c\":[{\"c\":[{\"c\":[{\"v\":\"0.0611\"},{\"v\":\"0.0443\"}],\"f\":1,\"v\":368.5},{\"v\":\"0.0616\"}],\"f\":1,\"v\":397.5},{\"c\":[{\"v\":\"0.0656\"},{\"c\":[{\"v\":\"0.0716\"},{\"v\":\"0.0419\"}],\"f\":1,\"v\":489.5}],\"f\":1,\"v\":477.5}],\"f\":1,\"v\":451.5},{\"c\":[{\"c\":[{\"v\":\"0.0565\"},{\"v\":\"0.0697\"}],\"f\":1,\"v\":548.5},{\"v\":\"0.0438\"}],\"f\":1,\"v\":556.5}],\"f\":1,\"v\":538.5}],\"f\":1,\"v\":353.5},{\"c\":[{\"v\":\"-0.158\"},{\"c\":[{\"c\":[{\"v\":\"0.0546\"},{\"v\":\"0.0651\"}],\"f\":1,\"v\":849.5},{\"c\":[{\"c\":[{\"v\":\"-0.056\"},{\"c\":[{\"v\":\"-0.034\"},{\"v\":\"-0.053\"}],\"f\":1,\"v\":864.5}],\"f\":1,\"v\":862.5},{\"c\":[{\"v\":\"0.0197\"},{\"v\":\"0.0351\"}],\"f\":1,\"v\":924.5}],\"f\":1,\"v\":866.5}],\"f\":1,\"v\":859.5}],\"f\":1,\"v\":676.5}],\"f\":1,\"v\":674.5}],\"f\":1,\"v\":298.5},{\"c\":[{\"c\":[{\"c\":[{\"c\":[{\"c\":[{\"v\":\"0.0414\"},{\"c\":[{\"c\":[{\"c\":[{\"v\":\"0.0263\"},{\"v\":\"-0.011\"}],\"f\":1,\"v\":17.5},{\"v\":\"0.0544\"}],\"f\":1,\"v\":23.5},{\"v\":\"-0.014\"}],\"f\":1,\"v\":49.5}],\"f\":1,\"v\":0.5},{\"c\":[{\"v\":\"-0.104\"},{\"c\":[{\"v\":\"0.0145\"},{\"v\":\"-0.019\"}],\"f\":1,\"v\":65.5}],\"f\":1,\"v\":55.5}],\"f\":1,\"v\":54.5},{\"c\":[{\"c\":[{\"c\":[{\"v\":\"0.0199\"},{\"c\":[{\"v\":\"-0.011\"},{\"v\":\"0.0108\"}],\"f\":1,\"v\":90.5}],\"f\":1,\"v\":86.5},{\"v\":\"0.0369\"}],\"f\":1,\"v\":92.5},{\"c\":[{\"v\":\"-0.015\"},{\"c\":[{\"c\":[{\"v\":\"0.0156\"},{\"c\":[{\"v\":\"0.0402\"},{\"v\":\"0.0159\"}],\"f\":1,\"v\":525.5}],\"f\":1,\"v\":488.5},{\"v\":\"-0.023\"}],\"f\":1,\"v\":538.5}],\"f\":1,\"v\":446.5}],\"f\":1,\"v\":398.5}],\"f\":1,\"v\":76.5},{\"c\":[{\"c\":[{\"v\":\"-0.031\"},{\"c\":[{\"v\":\"-0.172\"},{\"c\":[{\"v\":\"-0.156\"},{\"c\":[{\"v\":\"-0.150\"},{\"v\":\"-0.158\"}],\"f\":1,\"v\":555.5}],\"f\":1,\"v\":552.5}],\"f\":1,\"v\":549.5}],\"f\":1,\"v\":548.5},{\"v\":\"-0.006\"}],\"f\":1,\"v\":556.5}],\"f\":1,\"v\":542.5},{\"c\":[{\"c\":[{\"v\":\"0.0454\"},{\"v\":\"0.0114\"}],\"f\":1,\"v\":757.5},{\"c\":[{\"c\":[{\"v\":\"0.0274\"},{\"v\":\"0.0371\"}],\"f\":1,\"v\":881.5},{\"c\":[{\"c\":[{\"v\":\"0.0220\"},{\"v\":\"0.0441\"}],\"f\":1,\"v\":949.5},{\"v\":\"0.0303\"}],\"f\":1,\"v\":984.5}],\"f\":1,\"v\":924.5}],\"f\":1,\"v\":862.5}],\"f\":1,\"v\":674.5},{\"c\":[{\"v\":\"-0.127\"},{\"c\":[{\"c\":[{\"c\":[{\"v\":\"0.0206\"},{\"c\":[{\"v\":\"-0.007\"},{\"c\":[{\"v\":\"0.0113\"},{\"v\":\"-0.003\"}],\"f\":1,\"v\":82.5}],\"f\":1,\"v\":49.5}],\"f\":1,\"v\":33.5},{\"c\":[{\"v\":\"0.0308\"},{\"v\":\"0.0526\"}],\"f\":1,\"v\":347.5}],\"f\":1,\"v\":98.5},{\"c\":[{\"c\":[{\"v\":\"-0.014\"},{\"v\":\"-0.051\"}],\"f\":1,\"v\":354.5},{\"c\":[{\"c\":[{\"c\":[{\"v\":\"-0.018\"},{\"c\":[{\"v\":\"0.0303\"},{\"c\":[{\"c\":[{\"c\":[{\"v\":\"-0.014\"},{\"v\":\"0.0060\"}],\"f\":1,\"v\":398.5},{\"v\":\"-0.022\"}],\"f\":1,\"v\":420.5},{\"v\":\"0.0473\"}],\"f\":1,\"v\":451.5}],\"f\":1,\"v\":397.5}],\"f\":1,\"v\":366.5},{\"c\":[{\"c\":[{\"c\":[{\"c\":[{\"c\":[{\"v\":\"-0.030\"},{\"c\":[{\"v\":\"-0.022\"},{\"v\":\"-0.041\"}],\"f\":1,\"v\":489.5}],\"f\":1,\"v\":488.5},{\"v\":\"-0.032\"}],\"f\":1,\"v\":490.5},{\"v\":\"0.0505\"}],\"f\":1,\"v\":506.5},{\"v\":\"-0.096\"}],\"f\":1,\"v\":508.5},{\"c\":[{\"v\":\"0.0395\"},{\"c\":[{\"c\":[{\"v\":\"-0.022\"},{\"v\":\"0.0299\"}],\"f\":1,\"v\":538.5},{\"v\":\"-0.016\"}],\"f\":1,\"v\":556.5}],\"f\":1,\"v\":525.5}],\"f\":1,\"v\":509.5}],\"f\":1,\"v\":477.5},{\"c\":[{\"v\":\"0.0361\"},{\"c\":[{\"c\":[{\"v\":\"-0.024\"},{\"c\":[{\"v\":\"0.0154\"},{\"v\":\"-0.022\"}],\"f\":1,\"v\":868.5}],\"f\":1,\"v\":859.5},{\"v\":\"0.0181\"}],\"f\":1,\"v\":924.5}],\"f\":1,\"v\":849.5}],\"f\":1,\"v\":674.5}],\"f\":1,\"v\":362.5}],\"f\":1,\"v\":353.5}],\"f\":1,\"v\":0.5},{\"c\":[{\"c\":[{\"c\":[{\"c\":[{\"c\":[{\"c\":[{\"c\":[{\"c\":[{\"c\":[{\"v\":\"0.0229\"},{\"c\":[{\"c\":[{\"c\":[{\"v\":\"-0.018\"},{\"v\":\"-0.000\"}],\"f\":1,\"v\":9.5},{\"c\":[{\"v\":\"-0.022\"},{\"v\":\"-0.012\"}],\"f\":1,\"v\":15.5}],\"f\":1,\"v\":14.5},{\"c\":[{\"v\":\"0.0308\"},{\"c\":[{\"v\":\"-0.007\"},{\"v\":\"0.0154\"}],\"f\":1,\"v\":49.5}],\"f\":1,\"v\":33.5}],\"f\":1,\"v\":23.5}],\"f\":1,\"v\":7.5},{\"c\":[{\"c\":[{\"c\":[{\"v\":\"-0.022\"},{\"v\":\"0.0127\"}],\"f\":1,\"v\":76.5},{\"v\":\"-0.025\"}],\"f\":1,\"v\":77.5},{\"c\":[{\"c\":[{\"v\":\"0.0528\"},{\"c\":[{\"v\":\"-0.012\"},{\"v\":\"0.0036\"}],\"f\":1,\"v\":87.5}],\"f\":1,\"v\":82.5},{\"v\":\"-0.022\"}],\"f\":1,\"v\":98.5}],\"f\":1,\"v\":78.5}],\"f\":1,\"v\":65.5},{\"c\":[{\"c\":[{\"v\":\"0.0262\"},{\"v\":\"0.0126\"}],\"f\":1,\"v\":297.5},{\"v\":\"-0.013\"}],\"f\":1,\"v\":362.5}],\"f\":1,\"v\":118.5},{\"c\":[{\"v\":\"-0.153\"},{\"v\":\"-0.137\"}],\"f\":1,\"v\":367.5}],\"f\":1,\"v\":366.5},{\"v\":\"0.0272\"}],\"f\":1,\"v\":368.5},{\"c\":[{\"c\":[{\"v\":\"-0.057\"},{\"v\":\"-0.034\"}],\"f\":1,\"v\":524.5},{\"v\":\"0.0074\"}],\"f\":1,\"v\":525.5}],\"f\":1,\"v\":509.5},{\"v\":\"0.0359\"}],\"f\":1,\"v\":549.5},{\"c\":[{\"v\":\"-0.060\"},{\"v\":\"0.0040\"}],\"f\":1,\"v\":757.5}],\"f\":1,\"v\":676.5},{\"c\":[{\"v\":\"0.0163\"},{\"c\":[{\"v\":\"0.0415\"},{\"v\":\"0.0224\"}],\"f\":1,\"v\":924.5}],\"f\":1,\"v\":881.5}],\"f\":1,\"v\":760.5},{\"c\":[{\"c\":[{\"c\":[{\"c\":[{\"c\":[{\"c\":[{\"c\":[{\"c\":[{\"v\":\"0.0153\"},{\"c\":[{\"v\":\"-0.034\"},{\"c\":[{\"v\":\"0.0059\"},{\"v\":\"-0.012\"}],\"f\":1,\"v\":12.5}],\"f\":1,\"v\":7.5}],\"f\":1,\"v\":6.5},{\"c\":[{\"v\":\"0.0245\"},{\"v\":\"0.0174\"}],\"f\":1,\"v\":33.5}],\"f\":1,\"v\":13.5},{\"c\":[{\"v\":\"-0.017\"},{\"v\":\"-0.005\"}],\"f\":1,\"v\":143.5}],\"f\":1,\"v\":118.5},{\"v\":\"0.0311\"}],\"f\":1,\"v\":169.5},{\"c\":[{\"v\":\"-0.116\"},{\"c\":[{\"v\":\"0.0320\"},{\"c\":[{\"v\":\"-0.029\"},{\"c\":[{\"v\":\"0.0214\"},{\"v\":\"-0.005\"}],\"f\":1,\"v\":368.5}],\"f\":1,\"v\":353.5}],\"f\":1,\"v\":347.5}],\"f\":1,\"v\":299.5}],\"f\":1,\"v\":298.5},{\"c\":[{\"v\":\"-0.034\"},{\"v\":\"-0.027\"}],\"f\":1,\"v\":398.5}],\"f\":1,\"v\":397.5},{\"c\":[{\"c\":[{\"c\":[{\"v\":\"0.0240\"},{\"c\":[{\"v\":\"-0.014\"},{\"v\":\"0.0210\"}],\"f\":1,\"v\":489.5}],\"f\":1,\"v\":488.5},{\"c\":[{\"v\":\"0.0376\"},{\"v\":\"0.0391\"}],\"f\":1,\"v\":674.5}],\"f\":1,\"v\":557.5},{\"c\":[{\"v\":\"0.0089\"},{\"c\":[{\"c\":[{\"v\":\"-0.040\"},{\"v\":\"-0.028\"}],\"f\":1,\"v\":867.5},{\"v\":\"0.0270\"}],\"f\":1,\"v\":868.5}],\"f\":1,\"v\":866.5}],\"f\":1,\"v\":760.5}],\"f\":1,\"v\":401.5},{\"c\":[{\"v\":\"-0.092\"},{\"c\":[{\"v\":\"-0.003\"},{\"c\":[{\"c\":[{\"v\":\"0.0167\"},{\"v\":\"0.0381\"}],\"f\":1,\"v\":965.5},{\"v\":\"0.0268\"}],\"f\":1,\"v\":984.5}],\"f\":1,\"v\":931.5}],\"f\":1,\"v\":924.5}],\"f\":1,\"v\":881.5},{\"c\":[{\"c\":[{\"c\":[{\"c\":[{\"c\":[{\"c\":[{\"c\":[{\"v\":\"0.0205\"},{\"v\":\"-0.012\"}],\"f\":1,\"v\":17.5},{\"c\":[{\"v\":\"0.0292\"},{\"v\":\"0.0168\"}],\"f\":1,\"v\":49.5}],\"f\":1,\"v\":32.5},{\"c\":[{\"v\":\"-0.011\"},{\"v\":\"-0.000\"}],\"f\":1,\"v\":77.5}],\"f\":1,\"v\":76.5},{\"v\":\"0.0436\"}],\"f\":1,\"v\":78.5},{\"v\":\"-0.101\"}],\"f\":1,\"v\":92.5},{\"c\":[{\"v\":\"0.0347\"},{\"c\":[{\"c\":[{\"v\":\"0.0309\"},{\"v\":\"-0.017\"}],\"f\":1,\"v\":284.5},{\"v\":\"0.0358\"}],\"f\":1,\"v\":297.5}],\"f\":1,\"v\":283.5}],\"f\":1,\"v\":93.5},{\"c\":[{\"v\":\"-0.058\"},{\"c\":[{\"c\":[{\"c\":[{\"v\":\"0.0406\"},{\"c\":[{\"c\":[{\"c\":[{\"v\":\"-0.021\"},{\"v\":\"0.0514\"}],\"f\":1,\"v\":451.5},{\"v\":\"-0.019\"}],\"f\":1,\"v\":477.5},{\"c\":[{\"v\":\"0.0297\"},{\"v\":\"0.0301\"}],\"f\":1,\"v\":509.5}],\"f\":1,\"v\":489.5}],\"f\":1,\"v\":446.5},{\"c\":[{\"v\":\"-0.052\"},{\"v\":\"-0.059\"}],\"f\":1,\"v\":661.5}],\"f\":1,\"v\":557.5},{\"c\":[{\"c\":[{\"c\":[{\"v\":\"0.0322\"},{\"v\":\"0.0290\"}],\"f\":1,\"v\":868.5},{\"v\":\"0.0401\"}],\"f\":1,\"v\":949.5},{\"c\":[{\"c\":[{\"v\":\"-0.075\"},{\"v\":\"-0.085\"}],\"f\":1,\"v\":973.5},{\"c\":[{\"c\":[{\"v\":\"0.0227\"},{\"c\":[{\"v\":\"-0.040\"},{\"v\":\"-0.070\"}],\"f\":1,\"v\":983.5}],\"f\":1,\"v\":980.5},{\"v\":\"0.0342\"}],\"f\":1,\"v\":984.5}],\"f\":1,\"v\":974.5}],\"f\":1,\"v\":972.5}],\"f\":1,\"v\":674.5}],\"f\":1,\"v\":418.5}],\"f\":1,\"v\":401.5},{\"c\":[{\"c\":[{\"c\":[{\"c\":[{\"c\":[{\"c\":[{\"v\":\"0.0159\"},{\"c\":[{\"v\":\"-0.022\"},{\"c\":[{\"v\":\"0.0120\"},{\"c\":[{\"c\":[{\"v\":\"-0.012\"},{\"v\":\"-0.005\"}],\"f\":1,\"v\":81.5},{\"v\":\"0.0129\"}],\"f\":1,\"v\":98.5}],\"f\":1,\"v\":78.5}],\"f\":1,\"v\":33.5}],\"f\":1,\"v\":32.5},{\"v\":\"-0.018\"}],\"f\":1,\"v\":143.5},{\"c\":[{\"v\":\"-0.073\"},{\"v\":\"-0.011\"}],\"f\":1,\"v\":170.5}],\"f\":1,\"v\":169.5},{\"c\":[{\"v\":\"0.0237\"},{\"c\":[{\"v\":\"-0.035\"},{\"c\":[{\"c\":[{\"c\":[{\"c\":[{\"c\":[{\"v\":\"-0.005\"},{\"v\":\"0.0158\"}],\"f\":1,\"v\":366.5},{\"v\":\"-0.020\"}],\"f\":1,\"v\":420.5},{\"v\":\"0.0332\"}],\"f\":1,\"v\":446.5},{\"c\":[{\"v\":\"-0.027\"},{\"v\":\"-0.000\"}],\"f\":1,\"v\":506.5}],\"f\":1,\"v\":489.5},{\"v\":\"0.0227\"}],\"f\":1,\"v\":508.5}],\"f\":1,\"v\":354.5}],\"f\":1,\"v\":353.5}],\"f\":1,\"v\":178.5},{\"c\":[{\"c\":[{\"c\":[{\"c\":[{\"v\":\"-0.019\"},{\"v\":\"-0.010\"}],\"f\":1,\"v\":771.5},{\"v\":\"0.0230\"}],\"f\":1,\"v\":859.5},{\"v\":\"-0.024\"}],\"f\":1,\"v\":868.5},{\"v\":\"0.0213\"}],\"f\":1,\"v\":881.5}],\"f\":1,\"v\":757.5},{\"c\":[{\"c\":[{\"c\":[{\"c\":[{\"v\":\"-0.044\"},{\"v\":\"-0.054\"}],\"f\":1,\"v\":959.5},{\"v\":\"-0.015\"}],\"f\":1,\"v\":964.5},{\"c\":[{\"v\":\"-0.075\"},{\"c\":[{\"v\":\"-0.058\"},{\"v\":\"-0.071\"}],\"f\":1,\"v\":971.5}],\"f\":1,\"v\":968.5}],\"f\":1,\"v\":965.5},{\"v\":\"0.0233\"}],\"f\":1,\"v\":972.5}],\"f\":1,\"v\":949.5},{\"c\":[{\"c\":[{\"c\":[{\"c\":[{\"c\":[{\"v\":\"0.0105\"},{\"v\":\"-0.011\"}],\"f\":1,\"v\":14.5},{\"v\":\"-0.091\"}],\"f\":1,\"v\":15.5},{\"c\":[{\"c\":[{\"c\":[{\"v\":\"-0.012\"},{\"v\":\"0.0347\"}],\"f\":1,\"v\":17.5},{\"c\":[{\"v\":\"-0.016\"},{\"c\":[{\"v\":\"0.0121\"},{\"c\":[{\"v\":\"-0.010\"},{\"v\":\"6.2024\"}],\"f\":1,\"v\":86.5}],\"f\":1,\"v\":82.5}],\"f\":1,\"v\":49.5}],\"f\":1,\"v\":33.5},{\"v\":\"0.0261\"}],\"f\":1,\"v\":94.5}],\"f\":1,\"v\":16.5},{\"v\":\"-0.041\"}],\"f\":1,\"v\":178.5},{\"c\":[{\"c\":[{\"c\":[{\"c\":[{\"v\":\"0.0345\"},{\"c\":[{\"v\":\"-0.044\"},{\"c\":[{\"c\":[{\"v\":\"0.0194\"},{\"v\":\"-0.003\"}],\"f\":1,\"v\":347.5},{\"c\":[{\"v\":\"0.0218\"},{\"v\":\"0.0082\"}],\"f\":1,\"v\":476.5}],\"f\":1,\"v\":362.5}],\"f\":1,\"v\":298.5}],\"f\":1,\"v\":297.5},{\"c\":[{\"c\":[{\"v\":\"-0.001\"},{\"c\":[{\"v\":\"-0.052\"},{\"v\":\"-0.040\"}],\"f\":1,\"v\":543.5}],\"f\":1,\"v\":538.5},{\"c\":[{\"v\":\"0.0293\"},{\"c\":[{\"v\":\"-0.003\"},{\"v\":\"0.0182\"}],\"f\":1,\"v\":760.5}],\"f\":1,\"v\":676.5}],\"f\":1,\"v\":548.5}],\"f\":1,\"v\":531.5},{\"c\":[{\"v\":\"0.0354\"},{\"v\":\"0.0180\"}],\"f\":1,\"v\":849.5}],\"f\":1,\"v\":771.5},{\"c\":[{\"v\":\"-0.050\"},{\"c\":[{\"c\":[{\"v\":\"0.0243\"},{\"c\":[{\"v\":\"-0.039\"},{\"v\":\"-0.022\"}],\"f\":1,\"v\":976.5}],\"f\":1,\"v\":974.5},{\"v\":\"0.0150\"}],\"f\":1,\"v\":980.5}],\"f\":1,\"v\":949.5}],\"f\":1,\"v\":931.5}],\"f\":1,\"v\":283.5},{\"c\":[{\"c\":[{\"v\":\"0.0395\"},{\"v\":\"-0.113\"}],\"f\":1,\"v\":4.5},{\"c\":[{\"c\":[{\"c\":[{\"c\":[{\"c\":[{\"v\":\"0.0212\"},{\"c\":[{\"c\":[{\"v\":\"0.0107\"},{\"c\":[{\"v\":\"-0.022\"},{\"v\":\"-0.004\"}],\"f\":1,\"v\":27.5}],\"f\":1,\"v\":24.5},{\"c\":[{\"v\":\"0.0191\"},{\"c\":[{\"v\":\"-0.011\"},{\"v\":\"0.0044\"}],\"f\":1,\"v\":102.5}],\"f\":1,\"v\":96.5}],\"f\":1,\"v\":33.5}],\"f\":1,\"v\":11.5},{\"v\":\"-0.040\"}],\"f\":1,\"v\":118.5},{\"c\":[{\"v\":\"0.0298\"},{\"v\":\"0.0300\"}],\"f\":1,\"v\":167.5}],\"f\":1,\"v\":143.5},{\"c\":[{\"c\":[{\"v\":\"-0.018\"},{\"c\":[{\"c\":[{\"c\":[{\"c\":[{\"v\":\"-0.071\"},{\"v\":\"-0.084\"}],\"f\":1,\"v\":289.5},{\"v\":\"-0.057\"}],\"f\":1,\"v\":291.5},{\"v\":\"-0.080\"}],\"f\":1,\"v\":292.5},{\"v\":\"-0.062\"}],\"f\":1,\"v\":294.5}],\"f\":1,\"v\":284.5},{\"c\":[{\"v\":\"0.0185\"},{\"v\":\"-0.036\"}],\"f\":1,\"v\":368.5}],\"f\":1,\"v\":297.5}],\"f\":1,\"v\":283.5},{\"c\":[{\"c\":[{\"c\":[{\"v\":\"0.0284\"},{\"v\":\"0.0094\"}],\"f\":1,\"v\":427.5},{\"v\":\"0.0317\"}],\"f\":1,\"v\":451.5},{\"c\":[{\"c\":[{\"v\":\"0.0156\"},{\"v\":\"-0.115\"}],\"f\":1,\"v\":556.5},{\"c\":[{\"c\":[{\"v\":\"0.0203\"},{\"v\":\"0.0324\"}],\"f\":1,\"v\":673.5},{\"c\":[{\"c\":[{\"v\":\"0.0080\"},{\"v\":\"-0.015\"}],\"f\":1,\"v\":770.5},{\"v\":\"0.0152\"}],\"f\":1,\"v\":849.5}],\"f\":1,\"v\":757.5}],\"f\":1,\"v\":557.5}],\"f\":1,\"v\":489.5}],\"f\":1,\"v\":398.5}],\"f\":1,\"v\":5.5},{\"c\":[{\"c\":[{\"c\":[{\"c\":[{\"c\":[{\"c\":[{\"c\":[{\"v\":\"0.0530\"},{\"v\":\"-0.008\"}],\"f\":1,\"v\":0.5},{\"v\":\"0.0110\"}],\"f\":1,\"v\":4.5},{\"c\":[{\"v\":\"-0.103\"},{\"c\":[{\"v\":\"0.0010\"},{\"c\":[{\"v\":\"-0.020\"},{\"v\":\"-0.014\"}],\"f\":1,\"v\":62.5}],\"f\":1,\"v\":61.5}],\"f\":1,\"v\":58.5}],\"f\":1,\"v\":57.5},{\"c\":[{\"c\":[{\"c\":[{\"v\":\"0.0075\"},{\"c\":[{\"v\":\"-0.011\"},{\"v\":\"-0.016\"}],\"f\":1,\"v\":174.5}],\"f\":1,\"v\":148.5},{\"c\":[{\"v\":\"0.0264\"},{\"c\":[{\"v\":\"-0.001\"},{\"v\":\"0.0205\"}],\"f\":1,\"v\":366.5}],\"f\":1,\"v\":297.5}],\"f\":1,\"v\":178.5},{\"c\":[{\"c\":[{\"c\":[{\"v\":\"-0.024\"},{\"c\":[{\"c\":[{\"v\":\"0.0020\"},{\"v\":\"0.0128\"}],\"f\":1,\"v\":451.5},{\"c\":[{\"v\":\"-0.051\"},{\"v\":\"0.0012\"}],\"f\":1,\"v\":454.5}],\"f\":1,\"v\":453.5}],\"f\":1,\"v\":401.5},{\"v\":\"-0.030\"}],\"f\":1,\"v\":477.5},{\"v\":\"0.0085\"}],\"f\":1,\"v\":488.5}],\"f\":1,\"v\":398.5}],\"f\":1,\"v\":65.5},{\"c\":[{\"v\":\"-0.022\"},{\"v\":\"0.0059\"}],\"f\":1,\"v\":757.5}],\"f\":1,\"v\":674.5},{\"c\":[{\"v\":\"0.0286\"},{\"c\":[{\"c\":[{\"c\":[{\"v\":\"-0.006\"},{\"v\":\"0.0259\"}],\"f\":1,\"v\":881.5},{\"c\":[{\"v\":\"-0.017\"},{\"v\":\"-0.002\"}],\"f\":1,\"v\":931.5}],\"f\":1,\"v\":924.5},{\"v\":\"0.0171\"}],\"f\":1,\"v\":965.5}],\"f\":1,\"v\":849.5}],\"f\":1,\"v\":760.5},{\"c\":[{\"v\":\"-0.030\"},{\"v\":\"0.0063\"}],\"f\":1,\"v\":1011.5}],\"f\":1,\"v\":984.5},{\"c\":[{\"c\":[{\"c\":[{\"v\":\"0.0284\"},{\"v\":\"0.0050\"}],\"f\":1,\"v\":0.5},{\"v\":\"-0.124\"}],\"f\":1,\"v\":9.5},{\"c\":[{\"c\":[{\"c\":[{\"c\":[{\"c\":[{\"c\":[{\"c\":[{\"c\":[{\"c\":[{\"c\":[{\"v\":\"0.0036\"},{\"c\":[{\"v\":\"0.0225\"},{\"v\":\"0.0206\"}],\"f\":1,\"v\":33.5}],\"f\":1,\"v\":32.5},{\"v\":\"-0.003\"}],\"f\":1,\"v\":49.5},{\"v\":\"0.0126\"}],\"f\":1,\"v\":65.5},{\"c\":[{\"c\":[{\"c\":[{\"v\":\"-0.015\"},{\"v\":\"0.0026\"}],\"f\":1,\"v\":95.5},{\"v\":\"-0.013\"}],\"f\":1,\"v\":103.5},{\"c\":[{\"v\":\"0.0093\"},{\"c\":[{\"v\":\"-0.000\"},{\"v\":\"-0.021\"}],\"f\":1,\"v\":283.5}],\"f\":1,\"v\":170.5}],\"f\":1,\"v\":118.5}],\"f\":1,\"v\":94.5},{\"v\":\"0.0135\"}],\"f\":1,\"v\":284.5},{\"v\":\"-0.013\"}],\"f\":1,\"v\":362.5},{\"v\":\"0.0263\"}],\"f\":1,\"v\":366.5},{\"c\":[{\"c\":[{\"c\":[{\"v\":\"-0.019\"},{\"v\":\"0.0038\"}],\"f\":1,\"v\":425.5},{\"c\":[{\"c\":[{\"v\":\"-0.016\"},{\"v\":\"-0.044\"}],\"f\":1,\"v\":451.5},{\"c\":[{\"v\":\"0.0067\"},{\"v\":\"-0.007\"}],\"f\":1,\"v\":459.5}],\"f\":1,\"v\":452.5}],\"f\":1,\"v\":446.5},{\"c\":[{\"v\":\"0.0143\"},{\"v\":\"-0.000\"}],\"f\":1,\"v\":525.5}],\"f\":1,\"v\":476.5}],\"f\":1,\"v\":418.5},{\"v\":\"0.0221\"}],\"f\":1,\"v\":549.5},{\"c\":[{\"c\":[{\"v\":\"-0.005\"},{\"v\":\"-0.045\"}],\"f\":1,\"v\":771.5},{\"c\":[{\"v\":\"0.0153\"},{\"v\":\"0.0616\"}],\"f\":1,\"v\":1021.5}],\"f\":1,\"v\":849.5}],\"f\":1,\"v\":770.5}],\"f\":1,\"v\":11.5},{\"c\":[{\"v\":\"-0.124\"},{\"c\":[{\"c\":[{\"c\":[{\"c\":[{\"c\":[{\"c\":[{\"c\":[{\"v\":\"0.0061\"},{\"c\":[{\"v\":\"-0.010\"},{\"v\":\"-0.000\"}],\"f\":1,\"v\":33.5}],\"f\":1,\"v\":32.5},{\"v\":\"0.0093\"}],\"f\":1,\"v\":49.5},{\"c\":[{\"c\":[{\"v\":\"-0.016\"},{\"c\":[{\"v\":\"0.0009\"},{\"v\":\"-0.014\"}],\"f\":1,\"v\":148.5}],\"f\":1,\"v\":146.5},{\"v\":\"0.0015\"}],\"f\":1,\"v\":168.5}],\"f\":1,\"v\":143.5},{\"c\":[{\"c\":[{\"c\":[{\"v\":\"0.0147\"},{\"v\":\"-0.001\"}],\"f\":1,\"v\":325.5},{\"c\":[{\"v\":\"0.0301\"},{\"v\":\"0.0122\"}],\"f\":1,\"v\":362.5}],\"f\":1,\"v\":354.5},{\"c\":[{\"v\":\"-0.012\"},{\"c\":[{\"c\":[{\"v\":\"0.0087\"},{\"v\":\"0.0203\"}],\"f\":1,\"v\":524.5},{\"v\":\"0.0041\"}],\"f\":1,\"v\":525.5}],\"f\":1,\"v\":418.5}],\"f\":1,\"v\":398.5}],\"f\":1,\"v\":178.5},{\"c\":[{\"v\":\"-0.036\"},{\"c\":[{\"c\":[{\"v\":\"0.0033\"},{\"v\":\"0.0190\"}],\"f\":1,\"v\":676.5},{\"c\":[{\"v\":\"-0.031\"},{\"v\":\"-0.007\"}],\"f\":1,\"v\":770.5}],\"f\":1,\"v\":760.5}],\"f\":1,\"v\":661.5}],\"f\":1,\"v\":557.5},{\"c\":[{\"c\":[{\"c\":[{\"v\":\"0.0194\"},{\"c\":[{\"v\":\"-0.027\"},{\"v\":\"0.0105\"}],\"f\":1,\"v\":965.5}],\"f\":1,\"v\":964.5},{\"v\":\"0.0258\"}],\"f\":1,\"v\":968.5},{\"c\":[{\"v\":\"-0.010\"},{\"c\":[{\"v\":\"0.0093\"},{\"v\":\"-0.001\"}],\"f\":1,\"v\":1009.5}],\"f\":1,\"v\":980.5}],\"f\":1,\"v\":974.5}],\"f\":1,\"v\":771.5},{\"v\":\"-0.028\"}],\"f\":1,\"v\":1021.5}],\"f\":1,\"v\":0.5},{\"c\":[{\"c\":[{\"c\":[{\"c\":[{\"c\":[{\"v\":\"0.0052\"},{\"c\":[{\"c\":[{\"v\":\"-0.003\"},{\"v\":\"-0.023\"}],\"f\":1,\"v\":81.5},{\"v\":\"-0.000\"}],\"f\":1,\"v\":82.5}],\"f\":1,\"v\":64.5},{\"v\":\"0.0162\"}],\"f\":1,\"v\":98.5},{\"c\":[{\"c\":[{\"c\":[{\"c\":[{\"c\":[{\"v\":\"-0.018\"},{\"v\":\"0.0206\"}],\"f\":1,\"v\":284.5},{\"c\":[{\"c\":[{\"v\":\"-0.015\"},{\"v\":\"-0.021\"}],\"f\":1,\"v\":307.5},{\"v\":\"-0.006\"}],\"f\":1,\"v\":308.5}],\"f\":1,\"v\":298.5},{\"v\":\"0.0028\"}],\"f\":1,\"v\":319.5},{\"c\":[{\"v\":\"-0.024\"},{\"c\":[{\"v\":\"-0.002\"},{\"v\":\"-0.026\"}],\"f\":1,\"v\":368.5}],\"f\":1,\"v\":362.5}],\"f\":1,\"v\":354.5},{\"c\":[{\"v\":\"0.0121\"},{\"c\":[{\"v\":\"-0.004\"},{\"v\":\"0.0130\"}],\"f\":1,\"v\":490.5}],\"f\":1,\"v\":471.5}],\"f\":1,\"v\":397.5}],\"f\":1,\"v\":177.5},{\"c\":[{\"v\":\"-0.077\"},{\"v\":\"-0.007\"}],\"f\":1,\"v\":508.5}],\"f\":1,\"v\":507.5},{\"c\":[{\"c\":[{\"c\":[{\"v\":\"0.0088\"},{\"v\":\"0.0299\"}],\"f\":1,\"v\":557.5},{\"c\":[{\"v\":\"0.0045\"},{\"v\":\"0.0206\"}],\"f\":1,\"v\":771.5}],\"f\":1,\"v\":661.5},{\"c\":[{\"c\":[{\"c\":[{\"v\":\"-0.013\"},{\"v\":\"-0.000\"}],\"f\":1,\"v\":859.5},{\"v\":\"-0.023\"}],\"f\":1,\"v\":867.5},{\"c\":[{\"v\":\"0.0193\"},{\"c\":[{\"v\":\"-0.022\"},{\"c\":[{\"v\":\"0.0018\"},{\"v\":\"0.0377\"}],\"f\":1,\"v\":1021.5}],\"f\":1,\"v\":931.5}],\"f\":1,\"v\":924.5}],\"f\":1,\"v\":881.5}],\"f\":1,\"v\":849.5}],\"f\":1,\"v\":538.5},{\"c\":[{\"c\":[{\"c\":[{\"c\":[{\"c\":[{\"c\":[{\"c\":[{\"c\":[{\"v\":\"0.0079\"},{\"v\":\"-0.021\"}],\"f\":1,\"v\":5.5},{\"v\":\"0.0025\"}],\"f\":1,\"v\":6.5},{\"c\":[{\"c\":[{\"v\":\"-0.006\"},{\"v\":\"-0.002\"}],\"f\":1,\"v\":147.5},{\"v\":\"-0.012\"}],\"f\":1,\"v\":170.5}],\"f\":1,\"v\":145.5},{\"c\":[{\"v\":\"0.0241\"},{\"c\":[{\"c\":[{\"c\":[{\"v\":\"0.0031\"},{\"v\":\"0.0125\"}],\"f\":1,\"v\":367.5},{\"c\":[{\"v\":\"-0.042\"},{\"c\":[{\"c\":[{\"v\":\"-0.006\"},{\"v\":\"0.0118\"}],\"f\":1,\"v\":401.5},{\"c\":[{\"c\":[{\"c\":[{\"v\":\"-0.001\"},{\"v\":\"0.0091\"}],\"f\":1,\"v\":451.5},{\"v\":\"-0.011\"}],\"f\":1,\"v\":454.5},{\"c\":[{\"v\":\"0.0055\"},{\"c\":[{\"v\":\"-0.007\"},{\"v\":\"0.0049\"}],\"f\":1,\"v\":505.5}],\"f\":1,\"v\":489.5}],\"f\":1,\"v\":458.5}],\"f\":1,\"v\":435.5}],\"f\":1,\"v\":398.5}],\"f\":1,\"v\":397.5},{\"c\":[{\"v\":\"0.0118\"},{\"v\":\"0.0022\"}],\"f\":1,\"v\":661.5}],\"f\":1,\"v\":538.5}],\"f\":1,\"v\":283.5}],\"f\":1,\"v\":177.5},{\"c\":[{\"v\":\"-0.016\"},{\"v\":\"0.0123\"}],\"f\":1,\"v\":760.5}],\"f\":1,\"v\":675.5},{\"c\":[{\"v\":\"0.0278\"},{\"v\":\"0.0033\"}],\"f\":1,\"v\":851.5}],\"f\":1,\"v\":771.5},{\"c\":[{\"v\":\"-0.039\"},{\"c\":[{\"c\":[{\"v\":\"0.0027\"},{\"v\":\"-0.003\"}],\"f\":1,\"v\":959.5},{\"c\":[{\"v\":\"0.0121\"},{\"v\":\"0.0012\"}],\"f\":1,\"v\":1009.5}],\"f\":1,\"v\":972.5}],\"f\":1,\"v\":924.5}],\"f\":1,\"v\":881.5},{\"v\":\"-0.070\"}],\"f\":1,\"v\":1021.5}],\"features\":[\"close_0\\/adjust_factor_0\"],\"expand_depth\":1,\"__type\":\"tree\",\"renderTo\":\"bigchart-5a87baecafc64747b868661949ed2cde\"}/bigcharts-data-end</pre></div></div><div class='tab-pane' id='训练曲线'>设置评估测试数据集，查看训练曲线<br/><a href=\"https://bigquant.com/community/tags/stockranker%E8%AE%AD%E7%BB%83%E6%9B%B2%E7%BA%BF\" target=\"_blank\">[视频教程]StockRanker训练曲线</a></div></div></div><div class='bigchart-data'><pre style='display:none'>bigcharts-data-start/{\"__type\":\"tabs\",\"__id\":\"bigchart-d4178aff4eda4344b60df6d048097e59\"}/bigcharts-data-end</pre></div>"
      ],
      "text/plain": [
       "<IPython.core.display.HTML object>"
      ]
     },
     "metadata": {},
     "output_type": "display_data"
    },
    {
     "data": {
      "text/plain": [
       "[2021-08-22 15:02:02.772684] INFO: moduleinvoker: stock_ranker_train.v6 运行完成[381.565559s]."
      ]
     },
     "metadata": {
      "is_log": true,
      "status": "INFO"
     },
     "output_type": "display_data"
    },
    {
     "data": {
      "text/plain": [
       "[2021-08-22 15:02:02.775112] INFO: moduleinvoker: input_features.v1 开始运行.."
      ]
     },
     "metadata": {
      "is_log": true,
      "status": "INFO"
     },
     "output_type": "display_data"
    },
    {
     "data": {
      "text/plain": [
       "[2021-08-22 15:02:02.783476] INFO: moduleinvoker: 命中缓存"
      ]
     },
     "metadata": {
      "is_log": true,
      "status": "INFO"
     },
     "output_type": "display_data"
    },
    {
     "data": {
      "text/plain": [
       "[2021-08-22 15:02:02.784696] INFO: moduleinvoker: input_features.v1 运行完成[0.009589s]."
      ]
     },
     "metadata": {
      "is_log": true,
      "status": "INFO"
     },
     "output_type": "display_data"
    },
    {
     "data": {
      "text/plain": [
       "[2021-08-22 15:02:02.786768] INFO: moduleinvoker: instruments.v2 开始运行.."
      ]
     },
     "metadata": {
      "is_log": true,
      "status": "INFO"
     },
     "output_type": "display_data"
    },
    {
     "data": {
      "text/plain": [
       "[2021-08-22 15:02:03.018719] INFO: moduleinvoker: instruments.v2 运行完成[0.23194s]."
      ]
     },
     "metadata": {
      "is_log": true,
      "status": "INFO"
     },
     "output_type": "display_data"
    },
    {
     "data": {
      "text/plain": [
       "[2021-08-22 15:02:03.027101] INFO: moduleinvoker: general_feature_extractor.v7 开始运行.."
      ]
     },
     "metadata": {
      "is_log": true,
      "status": "INFO"
     },
     "output_type": "display_data"
    },
    {
     "data": {
      "text/plain": [
       "[2021-08-22 15:02:03.699357] INFO: 基础特征抽取: 年份 2019, 特征行数=48545"
      ]
     },
     "metadata": {
      "is_log": true,
      "status": "INFO"
     },
     "output_type": "display_data"
    },
    {
     "data": {
      "text/plain": [
       "[2021-08-22 15:02:05.605477] INFO: 基础特征抽取: 年份 2020, 特征行数=945961"
      ]
     },
     "metadata": {
      "is_log": true,
      "status": "INFO"
     },
     "output_type": "display_data"
    },
    {
     "data": {
      "text/plain": [
       "[2021-08-22 15:02:06.895214] INFO: 基础特征抽取: 年份 2021, 特征行数=661554"
      ]
     },
     "metadata": {
      "is_log": true,
      "status": "INFO"
     },
     "output_type": "display_data"
    },
    {
     "data": {
      "text/plain": [
       "[2021-08-22 15:02:06.962701] INFO: 基础特征抽取: 总行数: 1656060"
      ]
     },
     "metadata": {
      "is_log": true,
      "status": "INFO"
     },
     "output_type": "display_data"
    },
    {
     "data": {
      "text/plain": [
       "[2021-08-22 15:02:07.000294] INFO: moduleinvoker: general_feature_extractor.v7 运行完成[3.973192s]."
      ]
     },
     "metadata": {
      "is_log": true,
      "status": "INFO"
     },
     "output_type": "display_data"
    },
    {
     "data": {
      "text/plain": [
       "[2021-08-22 15:02:07.004645] INFO: moduleinvoker: derived_feature_extractor.v3 开始运行.."
      ]
     },
     "metadata": {
      "is_log": true,
      "status": "INFO"
     },
     "output_type": "display_data"
    },
    {
     "data": {
      "text/plain": [
       "[2021-08-22 15:02:11.390845] INFO: derived_feature_extractor: 提取完成 close_0/adjust_factor_0, 0.003s"
      ]
     },
     "metadata": {
      "is_log": true,
      "status": "INFO"
     },
     "output_type": "display_data"
    },
    {
     "data": {
      "text/plain": [
       "[2021-08-22 15:02:11.618021] INFO: derived_feature_extractor: /y_2019, 48545"
      ]
     },
     "metadata": {
      "is_log": true,
      "status": "INFO"
     },
     "output_type": "display_data"
    },
    {
     "data": {
      "text/plain": [
       "[2021-08-22 15:02:14.123593] INFO: derived_feature_extractor: /y_2020, 945961"
      ]
     },
     "metadata": {
      "is_log": true,
      "status": "INFO"
     },
     "output_type": "display_data"
    },
    {
     "data": {
      "text/plain": [
       "[2021-08-22 15:02:16.395656] INFO: derived_feature_extractor: /y_2021, 661554"
      ]
     },
     "metadata": {
      "is_log": true,
      "status": "INFO"
     },
     "output_type": "display_data"
    },
    {
     "data": {
      "text/plain": [
       "[2021-08-22 15:02:16.736489] INFO: moduleinvoker: derived_feature_extractor.v3 运行完成[9.731833s]."
      ]
     },
     "metadata": {
      "is_log": true,
      "status": "INFO"
     },
     "output_type": "display_data"
    },
    {
     "data": {
      "text/plain": [
       "[2021-08-22 15:02:16.739926] INFO: moduleinvoker: dropnan.v2 开始运行.."
      ]
     },
     "metadata": {
      "is_log": true,
      "status": "INFO"
     },
     "output_type": "display_data"
    },
    {
     "data": {
      "text/plain": [
       "[2021-08-22 15:02:16.841019] INFO: dropnan: /y_2019, 48542/48545"
      ]
     },
     "metadata": {
      "is_log": true,
      "status": "INFO"
     },
     "output_type": "display_data"
    },
    {
     "data": {
      "text/plain": [
       "[2021-08-22 15:02:17.599447] INFO: dropnan: /y_2020, 945960/945961"
      ]
     },
     "metadata": {
      "is_log": true,
      "status": "INFO"
     },
     "output_type": "display_data"
    },
    {
     "data": {
      "text/plain": [
       "[2021-08-22 15:02:18.125958] INFO: dropnan: /y_2021, 661554/661554"
      ]
     },
     "metadata": {
      "is_log": true,
      "status": "INFO"
     },
     "output_type": "display_data"
    },
    {
     "data": {
      "text/plain": [
       "[2021-08-22 15:02:18.190997] INFO: dropnan: 行数: 1656056/1656060"
      ]
     },
     "metadata": {
      "is_log": true,
      "status": "INFO"
     },
     "output_type": "display_data"
    },
    {
     "data": {
      "text/plain": [
       "[2021-08-22 15:02:18.212742] INFO: moduleinvoker: dropnan.v2 运行完成[1.472813s]."
      ]
     },
     "metadata": {
      "is_log": true,
      "status": "INFO"
     },
     "output_type": "display_data"
    },
    {
     "data": {
      "text/plain": [
       "[2021-08-22 15:02:18.225454] INFO: moduleinvoker: stock_ranker_predict.v5 开始运行.."
      ]
     },
     "metadata": {
      "is_log": true,
      "status": "INFO"
     },
     "output_type": "display_data"
    },
    {
     "data": {
      "text/plain": [
       "[2021-08-22 15:02:18.534176] INFO: StockRanker预测: /y_2019 .."
      ]
     },
     "metadata": {
      "is_log": true,
      "status": "INFO"
     },
     "output_type": "display_data"
    },
    {
     "data": {
      "text/plain": [
       "[2021-08-22 15:02:19.093231] INFO: StockRanker预测: /y_2020 .."
      ]
     },
     "metadata": {
      "is_log": true,
      "status": "INFO"
     },
     "output_type": "display_data"
    },
    {
     "data": {
      "text/plain": [
       "[2021-08-22 15:02:21.534381] INFO: StockRanker预测: /y_2021 .."
      ]
     },
     "metadata": {
      "is_log": true,
      "status": "INFO"
     },
     "output_type": "display_data"
    },
    {
     "data": {
      "text/plain": [
       "[2021-08-22 15:02:26.888773] INFO: moduleinvoker: stock_ranker_predict.v5 运行完成[8.663294s]."
      ]
     },
     "metadata": {
      "is_log": true,
      "status": "INFO"
     },
     "output_type": "display_data"
    },
    {
     "data": {
      "text/plain": [
       "[2021-08-22 15:02:26.973476] INFO: moduleinvoker: select_columns.v3 开始运行.."
      ]
     },
     "metadata": {
      "is_log": true,
      "status": "INFO"
     },
     "output_type": "display_data"
    },
    {
     "name": "stdout",
     "output_type": "stream",
     "text": [
      "列： ['date', 'instrument', 'price_limit_status_0']\n",
      "/y_2019: 48542\n"
     ]
    },
    {
     "name": "stdout",
     "output_type": "stream",
     "text": [
      "/y_2020: 945960\n"
     ]
    },
    {
     "name": "stdout",
     "output_type": "stream",
     "text": [
      "/y_2021: 661554\n"
     ]
    },
    {
     "data": {
      "text/plain": [
       "[2021-08-22 15:02:28.231482] INFO: moduleinvoker: select_columns.v3 运行完成[1.258013s]."
      ]
     },
     "metadata": {
      "is_log": true,
      "status": "INFO"
     },
     "output_type": "display_data"
    },
    {
     "data": {
      "text/plain": [
       "[2021-08-22 15:02:28.235074] INFO: moduleinvoker: join.v3 开始运行.."
      ]
     },
     "metadata": {
      "is_log": true,
      "status": "INFO"
     },
     "output_type": "display_data"
    },
    {
     "data": {
      "text/plain": [
       "[2021-08-22 15:02:35.734409] INFO: join: /data, 行数=1656056/1656056, 耗时=7.032228s"
      ]
     },
     "metadata": {
      "is_log": true,
      "status": "INFO"
     },
     "output_type": "display_data"
    },
    {
     "data": {
      "text/plain": [
       "[2021-08-22 15:02:35.860548] INFO: join: 最终行数: 1656056"
      ]
     },
     "metadata": {
      "is_log": true,
      "status": "INFO"
     },
     "output_type": "display_data"
    },
    {
     "data": {
      "text/plain": [
       "[2021-08-22 15:02:35.896138] INFO: moduleinvoker: join.v3 运行完成[7.66106s]."
      ]
     },
     "metadata": {
      "is_log": true,
      "status": "INFO"
     },
     "output_type": "display_data"
    },
    {
     "data": {
      "text/plain": [
       "[2021-08-22 15:02:35.899746] INFO: moduleinvoker: input_features.v1 开始运行.."
      ]
     },
     "metadata": {
      "is_log": true,
      "status": "INFO"
     },
     "output_type": "display_data"
    },
    {
     "data": {
      "text/plain": [
       "[2021-08-22 15:02:35.909559] INFO: moduleinvoker: 命中缓存"
      ]
     },
     "metadata": {
      "is_log": true,
      "status": "INFO"
     },
     "output_type": "display_data"
    },
    {
     "data": {
      "text/plain": [
       "[2021-08-22 15:02:35.910753] INFO: moduleinvoker: input_features.v1 运行完成[0.011013s]."
      ]
     },
     "metadata": {
      "is_log": true,
      "status": "INFO"
     },
     "output_type": "display_data"
    },
    {
     "data": {
      "text/plain": [
       "[2021-08-22 15:02:35.916863] INFO: moduleinvoker: use_datasource.v1 开始运行.."
      ]
     },
     "metadata": {
      "is_log": true,
      "status": "INFO"
     },
     "output_type": "display_data"
    },
    {
     "data": {
      "text/plain": [
       "[2021-08-22 15:02:40.446514] INFO: moduleinvoker: use_datasource.v1 运行完成[4.52964s]."
      ]
     },
     "metadata": {
      "is_log": true,
      "status": "INFO"
     },
     "output_type": "display_data"
    },
    {
     "data": {
      "text/plain": [
       "[2021-08-22 15:02:40.450666] INFO: moduleinvoker: input_features.v1 开始运行.."
      ]
     },
     "metadata": {
      "is_log": true,
      "status": "INFO"
     },
     "output_type": "display_data"
    },
    {
     "data": {
      "text/plain": [
       "[2021-08-22 15:02:40.456835] INFO: moduleinvoker: 命中缓存"
      ]
     },
     "metadata": {
      "is_log": true,
      "status": "INFO"
     },
     "output_type": "display_data"
    },
    {
     "data": {
      "text/plain": [
       "[2021-08-22 15:02:40.458513] INFO: moduleinvoker: input_features.v1 运行完成[0.007855s]."
      ]
     },
     "metadata": {
      "is_log": true,
      "status": "INFO"
     },
     "output_type": "display_data"
    },
    {
     "data": {
      "text/plain": [
       "[2021-08-22 15:02:40.524128] INFO: moduleinvoker: index_feature_extract.v3 开始运行.."
      ]
     },
     "metadata": {
      "is_log": true,
      "status": "INFO"
     },
     "output_type": "display_data"
    },
    {
     "data": {
      "text/plain": [
       "[2021-08-22 15:02:41.219654] INFO: moduleinvoker: derived_feature_extractor.v3 开始运行.."
      ]
     },
     "metadata": {
      "is_log": true,
      "status": "INFO"
     },
     "output_type": "display_data"
    },
    {
     "data": {
      "text/plain": [
       "[2021-08-22 15:02:41.272297] INFO: derived_feature_extractor: 提取完成 bm_0 = where(close/shift(close,5)-1<-0.05,1,0), 0.003s"
      ]
     },
     "metadata": {
      "is_log": true,
      "status": "INFO"
     },
     "output_type": "display_data"
    },
    {
     "data": {
      "text/plain": [
       "[2021-08-22 15:02:41.318591] INFO: derived_feature_extractor: /data, 464"
      ]
     },
     "metadata": {
      "is_log": true,
      "status": "INFO"
     },
     "output_type": "display_data"
    },
    {
     "data": {
      "text/plain": [
       "[2021-08-22 15:02:41.375464] INFO: moduleinvoker: derived_feature_extractor.v3 运行完成[0.155799s]."
      ]
     },
     "metadata": {
      "is_log": true,
      "status": "INFO"
     },
     "output_type": "display_data"
    },
    {
     "data": {
      "text/plain": [
       "[2021-08-22 15:02:41.539825] INFO: moduleinvoker: index_feature_extract.v3 运行完成[1.015708s]."
      ]
     },
     "metadata": {
      "is_log": true,
      "status": "INFO"
     },
     "output_type": "display_data"
    },
    {
     "data": {
      "text/plain": [
       "[2021-08-22 15:02:41.554888] INFO: moduleinvoker: select_columns.v3 开始运行.."
      ]
     },
     "metadata": {
      "is_log": true,
      "status": "INFO"
     },
     "output_type": "display_data"
    },
    {
     "name": "stdout",
     "output_type": "stream",
     "text": [
      "列： ['date', 'bm_0']\n",
      "/data: 464\n"
     ]
    },
    {
     "data": {
      "text/plain": [
       "[2021-08-22 15:02:41.616732] INFO: moduleinvoker: select_columns.v3 运行完成[0.061836s]."
      ]
     },
     "metadata": {
      "is_log": true,
      "status": "INFO"
     },
     "output_type": "display_data"
    },
    {
     "data": {
      "text/plain": [
       "[2021-08-22 15:02:41.620174] INFO: moduleinvoker: join.v3 开始运行.."
      ]
     },
     "metadata": {
      "is_log": true,
      "status": "INFO"
     },
     "output_type": "display_data"
    },
    {
     "data": {
      "text/plain": [
       "[2021-08-22 15:02:52.636102] INFO: join: /data, 行数=1616303/1616303, 耗时=10.922527s"
      ]
     },
     "metadata": {
      "is_log": true,
      "status": "INFO"
     },
     "output_type": "display_data"
    },
    {
     "data": {
      "text/plain": [
       "[2021-08-22 15:02:52.785815] INFO: join: 最终行数: 1616303"
      ]
     },
     "metadata": {
      "is_log": true,
      "status": "INFO"
     },
     "output_type": "display_data"
    },
    {
     "data": {
      "text/plain": [
       "[2021-08-22 15:02:52.795089] INFO: moduleinvoker: join.v3 运行完成[11.174912s]."
      ]
     },
     "metadata": {
      "is_log": true,
      "status": "INFO"
     },
     "output_type": "display_data"
    },
    {
     "data": {
      "text/plain": [
       "[2021-08-22 15:02:52.799413] INFO: moduleinvoker: join.v3 开始运行.."
      ]
     },
     "metadata": {
      "is_log": true,
      "status": "INFO"
     },
     "output_type": "display_data"
    },
    {
     "data": {
      "text/plain": [
       "[2021-08-22 15:03:02.560189] INFO: join: /data, 行数=1656056/1656056, 耗时=8.56233s"
      ]
     },
     "metadata": {
      "is_log": true,
      "status": "INFO"
     },
     "output_type": "display_data"
    },
    {
     "data": {
      "text/plain": [
       "[2021-08-22 15:03:02.670605] INFO: join: 最终行数: 1656056"
      ]
     },
     "metadata": {
      "is_log": true,
      "status": "INFO"
     },
     "output_type": "display_data"
    },
    {
     "data": {
      "text/plain": [
       "[2021-08-22 15:03:02.774968] INFO: moduleinvoker: join.v3 运行完成[9.975545s]."
      ]
     },
     "metadata": {
      "is_log": true,
      "status": "INFO"
     },
     "output_type": "display_data"
    },
    {
     "data": {
      "text/plain": [
       "[2021-08-22 15:03:02.787755] INFO: moduleinvoker: sort.v4 开始运行.."
      ]
     },
     "metadata": {
      "is_log": true,
      "status": "INFO"
     },
     "output_type": "display_data"
    },
    {
     "data": {
      "text/plain": [
       "[2021-08-22 15:03:11.056442] INFO: moduleinvoker: sort.v4 运行完成[8.268663s]."
      ]
     },
     "metadata": {
      "is_log": true,
      "status": "INFO"
     },
     "output_type": "display_data"
    },
    {
     "data": {
      "text/plain": [
       "[2021-08-22 15:03:12.596209] INFO: moduleinvoker: backtest.v8 开始运行.."
      ]
     },
     "metadata": {
      "is_log": true,
      "status": "INFO"
     },
     "output_type": "display_data"
    },
    {
     "data": {
      "text/plain": [
       "[2021-08-22 15:03:12.601379] INFO: backtest: biglearning backtest:V8.5.0"
      ]
     },
     "metadata": {
      "is_log": true,
      "status": "INFO"
     },
     "output_type": "display_data"
    },
    {
     "data": {
      "text/plain": [
       "[2021-08-22 15:03:12.602503] INFO: backtest: product_type:stock by specified"
      ]
     },
     "metadata": {
      "is_log": true,
      "status": "INFO"
     },
     "output_type": "display_data"
    },
    {
     "data": {
      "text/plain": [
       "[2021-08-22 15:03:13.129027] INFO: moduleinvoker: cached.v2 开始运行.."
      ]
     },
     "metadata": {
      "is_log": true,
      "status": "INFO"
     },
     "output_type": "display_data"
    },
    {
     "data": {
      "text/plain": [
       "[2021-08-22 15:03:13.136937] INFO: moduleinvoker: 命中缓存"
      ]
     },
     "metadata": {
      "is_log": true,
      "status": "INFO"
     },
     "output_type": "display_data"
    },
    {
     "data": {
      "text/plain": [
       "[2021-08-22 15:03:13.138414] INFO: moduleinvoker: cached.v2 运行完成[0.009398s]."
      ]
     },
     "metadata": {
      "is_log": true,
      "status": "INFO"
     },
     "output_type": "display_data"
    },
    {
     "data": {
      "text/plain": [
       "[2021-08-22 15:03:21.601184] INFO: algo: TradingAlgorithm V1.8.5"
      ]
     },
     "metadata": {
      "is_log": true,
      "status": "INFO"
     },
     "output_type": "display_data"
    },
    {
     "data": {
      "text/plain": [
       "[2021-08-22 15:03:25.398545] INFO: algo: trading transform..."
      ]
     },
     "metadata": {
      "is_log": true,
      "status": "INFO"
     },
     "output_type": "display_data"
    },
    {
     "name": "stdout",
     "output_type": "stream",
     "text": [
      "2020-01-09 固定天数卖出列表 ['000546.SZA', '300232.SZA']\n"
     ]
    },
    {
     "name": "stdout",
     "output_type": "stream",
     "text": [
      "2020-01-13 固定天数卖出列表 ['300600.SZA', '000709.SZA', '600187.SHA', '600575.SHA', '000800.SZA', '603108.SHA']\n"
     ]
    },
    {
     "name": "stdout",
     "output_type": "stream",
     "text": [
      "2020-01-14 固定天数卖出列表 ['000903.SZA']\n"
     ]
    },
    {
     "name": "stdout",
     "output_type": "stream",
     "text": [
      "2020-01-15 止盈股票列表 ['300388.SZA']\n",
      "2020-01-15 止损股票列表 ['300071.SZA']\n"
     ]
    },
    {
     "name": "stdout",
     "output_type": "stream",
     "text": [
      "2020-01-16 止盈股票列表 ['600114.SHA']\n"
     ]
    },
    {
     "name": "stdout",
     "output_type": "stream",
     "text": [
      "2020-01-20 止损股票列表 ['002256.SZA']\n",
      "2020-01-20 固定天数卖出列表 ['002203.SZA', '000428.SZA']\n"
     ]
    },
    {
     "name": "stdout",
     "output_type": "stream",
     "text": [
      "2020-01-21 固定天数卖出列表 ['300054.SZA']\n"
     ]
    },
    {
     "name": "stdout",
     "output_type": "stream",
     "text": [
      "2020-01-22 固定天数卖出列表 ['000903.SZA']\n"
     ]
    },
    {
     "name": "stdout",
     "output_type": "stream",
     "text": [
      "2020-01-23 止损股票列表 ['300237.SZA']\n"
     ]
    },
    {
     "name": "stdout",
     "output_type": "stream",
     "text": [
      "2020-02-03 大盘风控止损触发,全仓卖出\n"
     ]
    },
    {
     "name": "stdout",
     "output_type": "stream",
     "text": [
      "2020-02-04 大盘风控止损触发,全仓卖出\n",
      "2020-02-05 大盘风控止损触发,全仓卖出\n",
      "2020-02-06 大盘风控止损触发,全仓卖出\n"
     ]
    },
    {
     "name": "stdout",
     "output_type": "stream",
     "text": [
      "2020-02-17 固定天数卖出列表 ['002836.SZA']\n"
     ]
    },
    {
     "name": "stdout",
     "output_type": "stream",
     "text": [
      "2020-02-18 固定天数卖出列表 ['000667.SZA', '000903.SZA']\n"
     ]
    },
    {
     "name": "stdout",
     "output_type": "stream",
     "text": [
      "2020-02-19 止盈股票列表 ['600516.SHA']\n"
     ]
    },
    {
     "name": "stdout",
     "output_type": "stream",
     "text": [
      "2020-02-20 止损股票列表 ['600633.SHA']\n"
     ]
    },
    {
     "name": "stdout",
     "output_type": "stream",
     "text": [
      "2020-02-24 止盈股票列表 ['600883.SHA']\n",
      "2020-02-24 固定天数卖出列表 ['000780.SZA']\n"
     ]
    },
    {
     "name": "stdout",
     "output_type": "stream",
     "text": [
      "2020-02-26 固定天数卖出列表 ['000887.SZA']\n"
     ]
    },
    {
     "name": "stdout",
     "output_type": "stream",
     "text": [
      "2020-02-28 大盘风控止损触发,全仓卖出\n"
     ]
    },
    {
     "name": "stdout",
     "output_type": "stream",
     "text": [
      "2020-03-09 固定天数卖出列表 ['000921.SZA', '002842.SZA']\n"
     ]
    },
    {
     "name": "stdout",
     "output_type": "stream",
     "text": [
      "2020-03-10 固定天数卖出列表 ['600198.SHA', '002354.SZA']\n"
     ]
    },
    {
     "name": "stdout",
     "output_type": "stream",
     "text": [
      "2020-03-11 止盈股票列表 ['002418.SZA']\n",
      "2020-03-11 固定天数卖出列表 ['002548.SZA']\n"
     ]
    },
    {
     "name": "stdout",
     "output_type": "stream",
     "text": [
      "2020-03-12 大盘风控止损触发,全仓卖出\n"
     ]
    },
    {
     "name": "stdout",
     "output_type": "stream",
     "text": [
      "2020-03-13 大盘风控止损触发,全仓卖出\n",
      "2020-03-16 大盘风控止损触发,全仓卖出\n",
      "2020-03-17 大盘风控止损触发,全仓卖出\n"
     ]
    },
    {
     "name": "stdout",
     "output_type": "stream",
     "text": [
      "2020-03-18 大盘风控止损触发,全仓卖出\n",
      "2020-03-19 大盘风控止损触发,全仓卖出\n",
      "2020-03-20 大盘风控止损触发,全仓卖出\n"
     ]
    },
    {
     "name": "stdout",
     "output_type": "stream",
     "text": [
      "2020-03-23 大盘风控止损触发,全仓卖出\n"
     ]
    },
    {
     "name": "stdout",
     "output_type": "stream",
     "text": [
      "2020-03-30 止盈股票列表 ['002041.SZA']\n",
      "2020-03-30 固定天数卖出列表 ['000595.SZA', '600256.SHA', '600808.SHA']\n"
     ]
    },
    {
     "name": "stdout",
     "output_type": "stream",
     "text": [
      "2020-03-31 止损股票列表 ['002471.SZA']\n"
     ]
    },
    {
     "name": "stdout",
     "output_type": "stream",
     "text": [
      "2020-04-07 固定天数卖出列表 ['002079.SZA', '002926.SZA']\n"
     ]
    },
    {
     "name": "stdout",
     "output_type": "stream",
     "text": [
      "2020-04-08 固定天数卖出列表 ['603056.SHA']\n"
     ]
    },
    {
     "name": "stdout",
     "output_type": "stream",
     "text": [
      "2020-04-10 止损股票列表 ['002280.SZA']\n"
     ]
    },
    {
     "name": "stdout",
     "output_type": "stream",
     "text": [
      "2020-04-13 固定天数卖出列表 ['000885.SZA', '600789.SHA']\n"
     ]
    },
    {
     "name": "stdout",
     "output_type": "stream",
     "text": [
      "2020-04-14 固定天数卖出列表 ['000595.SZA']\n"
     ]
    },
    {
     "name": "stdout",
     "output_type": "stream",
     "text": [
      "2020-04-17 止损股票列表 ['000885.SZA']\n"
     ]
    },
    {
     "name": "stdout",
     "output_type": "stream",
     "text": [
      "2020-04-20 固定天数卖出列表 ['300435.SZA']\n"
     ]
    },
    {
     "name": "stdout",
     "output_type": "stream",
     "text": [
      "2020-04-21 止盈股票列表 ['002645.SZA']\n",
      "2020-04-21 固定天数卖出列表 ['002725.SZA']\n"
     ]
    },
    {
     "name": "stdout",
     "output_type": "stream",
     "text": [
      "2020-04-22 止盈股票列表 ['600127.SHA']\n",
      "2020-04-22 固定天数卖出列表 ['000831.SZA']\n"
     ]
    },
    {
     "name": "stdout",
     "output_type": "stream",
     "text": [
      "2020-04-23 止盈股票列表 ['601952.SHA']\n"
     ]
    },
    {
     "name": "stdout",
     "output_type": "stream",
     "text": [
      "2020-04-28 固定天数卖出列表 ['000573.SZA']\n"
     ]
    },
    {
     "name": "stdout",
     "output_type": "stream",
     "text": [
      "2020-04-29 固定天数卖出列表 ['000517.SZA']\n"
     ]
    },
    {
     "name": "stdout",
     "output_type": "stream",
     "text": [
      "2020-04-30 止盈股票列表 ['300123.SZA']\n"
     ]
    },
    {
     "name": "stdout",
     "output_type": "stream",
     "text": [
      "2020-05-06 固定天数卖出列表 ['000692.SZA', '000753.SZA', '000810.SZA', '000838.SZA', '300464.SZA']\n"
     ]
    },
    {
     "name": "stdout",
     "output_type": "stream",
     "text": [
      "2020-05-11 固定天数卖出列表 ['002365.SZA', '002567.SZA']\n"
     ]
    },
    {
     "name": "stdout",
     "output_type": "stream",
     "text": [
      "2020-05-12 固定天数卖出列表 ['000751.SZA']\n"
     ]
    },
    {
     "name": "stdout",
     "output_type": "stream",
     "text": [
      "2020-05-13 固定天数卖出列表 ['000558.SZA']\n"
     ]
    },
    {
     "name": "stdout",
     "output_type": "stream",
     "text": [
      "2020-05-18 固定天数卖出列表 ['002826.SZA']\n"
     ]
    },
    {
     "name": "stdout",
     "output_type": "stream",
     "text": [
      "2020-05-19 固定天数卖出列表 ['000898.SZA', '300197.SZA']\n"
     ]
    },
    {
     "name": "stdout",
     "output_type": "stream",
     "text": [
      "2020-05-25 固定天数卖出列表 ['000005.SZA', '300703.SZA', '000751.SZA']\n"
     ]
    },
    {
     "name": "stdout",
     "output_type": "stream",
     "text": [
      "2020-05-26 固定天数卖出列表 ['000573.SZA']\n"
     ]
    },
    {
     "name": "stdout",
     "output_type": "stream",
     "text": [
      "2020-05-27 固定天数卖出列表 ['600839.SHA', '601015.SHA']\n"
     ]
    },
    {
     "name": "stdout",
     "output_type": "stream",
     "text": [
      "2020-05-28 止损股票列表 ['300276.SZA']\n"
     ]
    },
    {
     "name": "stdout",
     "output_type": "stream",
     "text": [
      "2020-06-01 固定天数卖出列表 ['000005.SZA', '002285.SZA']\n"
     ]
    },
    {
     "name": "stdout",
     "output_type": "stream",
     "text": [
      "2020-06-08 固定天数卖出列表 ['002172.SZA']\n"
     ]
    },
    {
     "name": "stdout",
     "output_type": "stream",
     "text": [
      "2020-06-09 固定天数卖出列表 ['000545.SZA']\n"
     ]
    },
    {
     "name": "stdout",
     "output_type": "stream",
     "text": [
      "2020-06-16 固定天数卖出列表 ['000692.SZA', '000005.SZA']\n"
     ]
    },
    {
     "name": "stdout",
     "output_type": "stream",
     "text": [
      "2020-06-17 固定天数卖出列表 ['002117.SZA', '300205.SZA']\n"
     ]
    },
    {
     "name": "stdout",
     "output_type": "stream",
     "text": [
      "2020-06-22 固定天数卖出列表 ['603225.SHA', '000617.SZA']\n"
     ]
    },
    {
     "name": "stdout",
     "output_type": "stream",
     "text": [
      "2020-06-23 固定天数卖出列表 ['000751.SZA']\n"
     ]
    },
    {
     "name": "stdout",
     "output_type": "stream",
     "text": [
      "2020-06-24 止损股票列表 ['002612.SZA']\n",
      "2020-06-24 固定天数卖出列表 ['300515.SZA']\n"
     ]
    },
    {
     "name": "stdout",
     "output_type": "stream",
     "text": [
      "2020-06-29 固定天数卖出列表 ['000838.SZA', '002132.SZA', '000692.SZA', '000835.SZA', '601811.SHA', '000592.SZA']\n"
     ]
    },
    {
     "name": "stdout",
     "output_type": "stream",
     "text": [
      "2020-06-30 固定天数卖出列表 ['000835.SZA']\n"
     ]
    },
    {
     "name": "stdout",
     "output_type": "stream",
     "text": [
      "2020-07-01 止损股票列表 ['000835.SZA']\n"
     ]
    },
    {
     "name": "stdout",
     "output_type": "stream",
     "text": [
      "2020-07-02 止盈股票列表 ['002614.SZA']\n"
     ]
    },
    {
     "name": "stdout",
     "output_type": "stream",
     "text": [
      "2020-07-06 止盈股票列表 ['000779.SZA', '002197.SZA', '002506.SZA', '300339.SZA']\n"
     ]
    },
    {
     "name": "stdout",
     "output_type": "stream",
     "text": [
      "2020-07-07 止盈股票列表 ['000901.SZA', '603020.SHA']\n",
      "2020-07-07 固定天数卖出列表 ['601811.SHA']\n"
     ]
    },
    {
     "name": "stdout",
     "output_type": "stream",
     "text": [
      "2020-07-08 止盈股票列表 ['000898.SZA']\n",
      "2020-07-08 固定天数卖出列表 ['000961.SZA']\n"
     ]
    },
    {
     "name": "stdout",
     "output_type": "stream",
     "text": [
      "2020-07-09 止盈股票列表 ['300448.SZA', '600655.SHA']\n"
     ]
    },
    {
     "name": "stdout",
     "output_type": "stream",
     "text": [
      "2020-07-13 固定天数卖出列表 ['000517.SZA', '603106.SHA', '002115.SZA']\n"
     ]
    },
    {
     "name": "stdout",
     "output_type": "stream",
     "text": [
      "2020-07-14 固定天数卖出列表 ['000586.SZA', '300637.SZA']\n"
     ]
    },
    {
     "name": "stdout",
     "output_type": "stream",
     "text": [
      "2020-07-15 止损股票列表 ['002093.SZA', '002369.SZA', '002381.SZA']\n"
     ]
    },
    {
     "name": "stdout",
     "output_type": "stream",
     "text": [
      "2020-07-16 大盘风控止损触发,全仓卖出\n"
     ]
    },
    {
     "name": "stdout",
     "output_type": "stream",
     "text": [
      "2020-07-23 止损股票列表 ['300152.SZA']\n"
     ]
    },
    {
     "name": "stdout",
     "output_type": "stream",
     "text": [
      "2020-07-24 止损股票列表 ['002205.SZA']\n"
     ]
    },
    {
     "name": "stdout",
     "output_type": "stream",
     "text": [
      "2020-07-27 固定天数卖出列表 ['002554.SZA']\n"
     ]
    },
    {
     "name": "stdout",
     "output_type": "stream",
     "text": [
      "2020-07-28 止盈股票列表 ['002082.SZA', '300411.SZA']\n"
     ]
    },
    {
     "name": "stdout",
     "output_type": "stream",
     "text": [
      "2020-07-29 止盈股票列表 ['002909.SZA']\n"
     ]
    },
    {
     "name": "stdout",
     "output_type": "stream",
     "text": [
      "2020-07-31 止盈股票列表 ['002600.SZA']\n"
     ]
    },
    {
     "name": "stdout",
     "output_type": "stream",
     "text": [
      "2020-08-05 止盈股票列表 ['002505.SZA']\n",
      "2020-08-05 固定天数卖出列表 ['600106.SHA']\n"
     ]
    },
    {
     "name": "stdout",
     "output_type": "stream",
     "text": [
      "2020-08-10 止盈股票列表 ['300402.SZA']\n",
      "2020-08-10 固定天数卖出列表 ['603637.SHA', '002554.SZA']\n"
     ]
    },
    {
     "name": "stdout",
     "output_type": "stream",
     "text": [
      "2020-08-11 固定天数卖出列表 ['002305.SZA']\n"
     ]
    },
    {
     "name": "stdout",
     "output_type": "stream",
     "text": [
      "2020-08-12 固定天数卖出列表 ['600295.SHA']\n"
     ]
    },
    {
     "name": "stdout",
     "output_type": "stream",
     "text": [
      "2020-08-17 固定天数卖出列表 ['300200.SZA', '000158.SZA', '000517.SZA']\n"
     ]
    },
    {
     "name": "stdout",
     "output_type": "stream",
     "text": [
      "2020-08-18 固定天数卖出列表 ['300328.SZA']\n"
     ]
    },
    {
     "name": "stdout",
     "output_type": "stream",
     "text": [
      "2020-08-24 固定天数卖出列表 ['603058.SHA', '300237.SZA']\n"
     ]
    },
    {
     "name": "stdout",
     "output_type": "stream",
     "text": [
      "2020-08-25 止盈股票列表 ['300064.SZA']\n",
      "2020-08-25 固定天数卖出列表 ['000683.SZA']\n"
     ]
    },
    {
     "name": "stdout",
     "output_type": "stream",
     "text": [
      "2020-08-26 固定天数卖出列表 ['002282.SZA']\n"
     ]
    },
    {
     "name": "stdout",
     "output_type": "stream",
     "text": [
      "2020-08-31 固定天数卖出列表 ['002619.SZA']\n"
     ]
    },
    {
     "name": "stdout",
     "output_type": "stream",
     "text": [
      "2020-09-02 固定天数卖出列表 ['600863.SHA']\n"
     ]
    },
    {
     "name": "stdout",
     "output_type": "stream",
     "text": [
      "2020-09-07 止损股票列表 ['002288.SZA']\n",
      "2020-09-07 固定天数卖出列表 ['002665.SZA']\n"
     ]
    },
    {
     "name": "stdout",
     "output_type": "stream",
     "text": [
      "2020-09-08 止盈股票列表 ['300432.SZA', '002630.SZA']\n",
      "2020-09-08 固定天数卖出列表 ['002235.SZA']\n"
     ]
    },
    {
     "name": "stdout",
     "output_type": "stream",
     "text": [
      "2020-09-09 大盘风控止损触发,全仓卖出\n"
     ]
    },
    {
     "name": "stdout",
     "output_type": "stream",
     "text": [
      "2020-09-14 固定天数卖出列表 ['002471.SZA']\n"
     ]
    },
    {
     "name": "stdout",
     "output_type": "stream",
     "text": [
      "2020-09-16 固定天数卖出列表 ['600397.SHA']\n"
     ]
    },
    {
     "name": "stdout",
     "output_type": "stream",
     "text": [
      "2020-09-22 固定天数卖出列表 ['002811.SZA']\n"
     ]
    },
    {
     "name": "stdout",
     "output_type": "stream",
     "text": [
      "2020-09-25 止损股票列表 ['002554.SZA']\n"
     ]
    },
    {
     "name": "stdout",
     "output_type": "stream",
     "text": [
      "2020-09-28 固定天数卖出列表 ['000545.SZA']\n"
     ]
    },
    {
     "name": "stdout",
     "output_type": "stream",
     "text": [
      "2020-09-30 止损股票列表 ['000610.SZA']\n",
      "2020-09-30 固定天数卖出列表 ['000005.SZA']\n"
     ]
    },
    {
     "name": "stdout",
     "output_type": "stream",
     "text": [
      "2020-10-09 止盈股票列表 ['603089.SHA']\n",
      "2020-10-09 固定天数卖出列表 ['000506.SZA', '000975.SZA', '002840.SZA', '600847.SHA']\n"
     ]
    },
    {
     "name": "stdout",
     "output_type": "stream",
     "text": [
      "2020-10-12 止盈股票列表 ['300393.SZA']\n"
     ]
    },
    {
     "name": "stdout",
     "output_type": "stream",
     "text": [
      "2020-10-13 止盈股票列表 ['300392.SZA']\n"
     ]
    },
    {
     "name": "stdout",
     "output_type": "stream",
     "text": [
      "2020-10-14 止盈股票列表 ['002202.SZA']\n"
     ]
    },
    {
     "name": "stdout",
     "output_type": "stream",
     "text": [
      "2020-10-19 固定天数卖出列表 ['002484.SZA', '600223.SHA', '002374.SZA', '002610.SZA']\n"
     ]
    },
    {
     "name": "stdout",
     "output_type": "stream",
     "text": [
      "2020-10-21 止损股票列表 ['002616.SZA']\n",
      "2020-10-21 固定天数卖出列表 ['600051.SHA']\n"
     ]
    },
    {
     "name": "stdout",
     "output_type": "stream",
     "text": [
      "2020-10-23 止损股票列表 ['300232.SZA']\n"
     ]
    },
    {
     "name": "stdout",
     "output_type": "stream",
     "text": [
      "2020-10-26 固定天数卖出列表 ['603357.SHA', '000897.SZA', '000506.SZA', '000545.SZA']\n"
     ]
    },
    {
     "name": "stdout",
     "output_type": "stream",
     "text": [
      "2020-10-27 止损股票列表 ['000861.SZA']\n",
      "2020-10-27 固定天数卖出列表 ['600071.SHA']\n"
     ]
    },
    {
     "name": "stdout",
     "output_type": "stream",
     "text": [
      "2020-10-28 固定天数卖出列表 ['000005.SZA']\n"
     ]
    },
    {
     "name": "stdout",
     "output_type": "stream",
     "text": [
      "2020-10-30 止损股票列表 ['002348.SZA']\n"
     ]
    },
    {
     "name": "stdout",
     "output_type": "stream",
     "text": [
      "2020-11-02 止损股票列表 ['600396.SHA']\n",
      "2020-11-02 固定天数卖出列表 ['000631.SZA']\n"
     ]
    },
    {
     "name": "stdout",
     "output_type": "stream",
     "text": [
      "2020-11-04 固定天数卖出列表 ['603818.SHA']\n"
     ]
    },
    {
     "name": "stdout",
     "output_type": "stream",
     "text": [
      "2020-11-05 止盈股票列表 ['601717.SHA']\n"
     ]
    },
    {
     "name": "stdout",
     "output_type": "stream",
     "text": [
      "2020-11-09 止盈股票列表 ['002141.SZA']\n",
      "2020-11-09 固定天数卖出列表 ['603798.SHA', '000517.SZA']\n"
     ]
    },
    {
     "name": "stdout",
     "output_type": "stream",
     "text": [
      "2020-11-10 固定天数卖出列表 ['600444.SHA']\n"
     ]
    },
    {
     "name": "stdout",
     "output_type": "stream",
     "text": [
      "2020-11-11 止损股票列表 ['300040.SZA']\n"
     ]
    },
    {
     "name": "stdout",
     "output_type": "stream",
     "text": [
      "2020-11-16 固定天数卖出列表 ['603339.SHA']\n"
     ]
    },
    {
     "name": "stdout",
     "output_type": "stream",
     "text": [
      "2020-11-17 固定天数卖出列表 ['600513.SHA']\n"
     ]
    },
    {
     "name": "stdout",
     "output_type": "stream",
     "text": [
      "2020-11-20 止盈股票列表 ['000506.SZA']\n"
     ]
    },
    {
     "name": "stdout",
     "output_type": "stream",
     "text": [
      "2020-11-23 固定天数卖出列表 ['002905.SZA', '300219.SZA']\n"
     ]
    },
    {
     "name": "stdout",
     "output_type": "stream",
     "text": [
      "2020-11-24 固定天数卖出列表 ['000070.SZA']\n"
     ]
    },
    {
     "name": "stdout",
     "output_type": "stream",
     "text": [
      "2020-11-30 固定天数卖出列表 ['000839.SZA']\n"
     ]
    },
    {
     "name": "stdout",
     "output_type": "stream",
     "text": [
      "2020-12-01 固定天数卖出列表 ['002905.SZA', '000413.SZA']\n"
     ]
    },
    {
     "name": "stdout",
     "output_type": "stream",
     "text": [
      "2020-12-07 固定天数卖出列表 ['600420.SHA']\n"
     ]
    },
    {
     "name": "stdout",
     "output_type": "stream",
     "text": [
      "2020-12-09 止损股票列表 ['002585.SZA']\n"
     ]
    },
    {
     "name": "stdout",
     "output_type": "stream",
     "text": [
      "2020-12-15 固定天数卖出列表 ['000659.SZA']\n"
     ]
    },
    {
     "name": "stdout",
     "output_type": "stream",
     "text": [
      "2020-12-16 止损股票列表 ['000503.SZA']\n"
     ]
    },
    {
     "name": "stdout",
     "output_type": "stream",
     "text": [
      "2020-12-21 固定天数卖出列表 ['002909.SZA', '000413.SZA', '002141.SZA', '002263.SZA']\n"
     ]
    },
    {
     "name": "stdout",
     "output_type": "stream",
     "text": [
      "2020-12-22 止损股票列表 ['600318.SHA']\n"
     ]
    },
    {
     "name": "stdout",
     "output_type": "stream",
     "text": [
      "2020-12-23 固定天数卖出列表 ['000070.SZA', '002365.SZA']\n"
     ]
    },
    {
     "name": "stdout",
     "output_type": "stream",
     "text": [
      "2020-12-24 止损股票列表 ['603758.SHA']\n"
     ]
    },
    {
     "name": "stdout",
     "output_type": "stream",
     "text": [
      "2020-12-28 止损股票列表 ['000620.SZA']\n",
      "2020-12-28 固定天数卖出列表 ['000008.SZA', '000892.SZA']\n"
     ]
    },
    {
     "name": "stdout",
     "output_type": "stream",
     "text": [
      "2021-01-04 止盈股票列表 ['600097.SHA']\n",
      "2021-01-04 固定天数卖出列表 ['600718.SHA', '300515.SZA']\n"
     ]
    },
    {
     "name": "stdout",
     "output_type": "stream",
     "text": [
      "2021-01-05 固定天数卖出列表 ['002840.SZA', '300097.SZA']\n"
     ]
    },
    {
     "name": "stdout",
     "output_type": "stream",
     "text": [
      "2021-01-06 止损股票列表 ['300218.SZA']\n"
     ]
    },
    {
     "name": "stdout",
     "output_type": "stream",
     "text": [
      "2021-01-07 止盈股票列表 ['000157.SZA']\n",
      "2021-01-07 止损股票列表 ['688571.SHA']\n"
     ]
    },
    {
     "name": "stdout",
     "output_type": "stream",
     "text": [
      "2021-01-08 止损股票列表 ['600231.SHA']\n"
     ]
    },
    {
     "name": "stdout",
     "output_type": "stream",
     "text": [
      "2021-01-11 止损股票列表 ['002014.SZA', '300499.SZA']\n",
      "2021-01-11 固定天数卖出列表 ['600055.SHA']\n"
     ]
    },
    {
     "name": "stdout",
     "output_type": "stream",
     "text": [
      "2021-01-12 止盈股票列表 ['600060.SHA']\n",
      "2021-01-12 固定天数卖出列表 ['000630.SZA']\n"
     ]
    },
    {
     "name": "stdout",
     "output_type": "stream",
     "text": [
      "2021-01-13 止损股票列表 ['002823.SZA', '002772.SZA', '300200.SZA', '600198.SHA']\n",
      "2021-01-13 固定天数卖出列表 ['002749.SZA']\n"
     ]
    },
    {
     "name": "stdout",
     "output_type": "stream",
     "text": [
      "2021-01-15 止盈股票列表 ['300830.SZA']\n",
      "2021-01-15 止损股票列表 ['002317.SZA']\n"
     ]
    },
    {
     "name": "stdout",
     "output_type": "stream",
     "text": [
      "2021-01-18 止盈股票列表 ['002172.SZA']\n",
      "2021-01-18 固定天数卖出列表 ['002379.SZA', '002128.SZA']\n"
     ]
    },
    {
     "name": "stdout",
     "output_type": "stream",
     "text": [
      "2021-01-19 固定天数卖出列表 ['002730.SZA', '300340.SZA']\n"
     ]
    },
    {
     "name": "stdout",
     "output_type": "stream",
     "text": [
      "2021-01-20 固定天数卖出列表 ['600064.SHA']\n"
     ]
    },
    {
     "name": "stdout",
     "output_type": "stream",
     "text": [
      "2021-01-22 止盈股票列表 ['603112.SHA']\n"
     ]
    },
    {
     "name": "stdout",
     "output_type": "stream",
     "text": [
      "2021-01-25 固定天数卖出列表 ['600647.SHA', '603018.SHA', '000677.SZA', '002152.SZA']\n"
     ]
    },
    {
     "name": "stdout",
     "output_type": "stream",
     "text": [
      "2021-01-26 止损股票列表 ['300237.SZA']\n"
     ]
    },
    {
     "name": "stdout",
     "output_type": "stream",
     "text": [
      "2021-01-28 止盈股票列表 ['002464.SZA']\n"
     ]
    },
    {
     "name": "stdout",
     "output_type": "stream",
     "text": [
      "2021-01-29 止损股票列表 ['000008.SZA', '300513.SZA', '300603.SZA']\n"
     ]
    },
    {
     "name": "stdout",
     "output_type": "stream",
     "text": [
      "2021-02-01 止损股票列表 ['000692.SZA']\n",
      "2021-02-01 固定天数卖出列表 ['300746.SZA', '000677.SZA']\n"
     ]
    },
    {
     "name": "stdout",
     "output_type": "stream",
     "text": [
      "2021-02-02 固定天数卖出列表 ['600339.SHA']\n"
     ]
    },
    {
     "name": "stdout",
     "output_type": "stream",
     "text": [
      "2021-02-04 止损股票列表 ['600330.SHA']\n"
     ]
    },
    {
     "name": "stdout",
     "output_type": "stream",
     "text": [
      "2021-02-08 止盈股票列表 ['000428.SZA']\n",
      "2021-02-08 固定天数卖出列表 ['600000.SHA']\n"
     ]
    },
    {
     "name": "stdout",
     "output_type": "stream",
     "text": [
      "2021-02-09 止损股票列表 ['605228.SHA']\n",
      "2021-02-09 固定天数卖出列表 ['002783.SZA', '002437.SZA']\n"
     ]
    },
    {
     "name": "stdout",
     "output_type": "stream",
     "text": [
      "2021-02-10 止盈股票列表 ['002795.SZA', '000892.SZA', '000545.SZA']\n",
      "2021-02-10 止损股票列表 ['002532.SZA']\n"
     ]
    },
    {
     "name": "stdout",
     "output_type": "stream",
     "text": [
      "2021-02-18 固定天数卖出列表 ['000540.SZA', '000533.SZA', '601990.SHA', '600184.SHA']\n"
     ]
    },
    {
     "name": "stdout",
     "output_type": "stream",
     "text": [
      "2021-02-19 止盈股票列表 ['002127.SZA']\n"
     ]
    },
    {
     "name": "stdout",
     "output_type": "stream",
     "text": [
      "2021-02-23 固定天数卖出列表 ['002438.SZA', '600655.SHA']\n"
     ]
    },
    {
     "name": "stdout",
     "output_type": "stream",
     "text": [
      "2021-02-24 大盘风控止损触发,全仓卖出\n"
     ]
    },
    {
     "name": "stdout",
     "output_type": "stream",
     "text": [
      "2021-02-25 大盘风控止损触发,全仓卖出\n",
      "2021-02-26 大盘风控止损触发,全仓卖出\n"
     ]
    },
    {
     "name": "stdout",
     "output_type": "stream",
     "text": [
      "2021-03-04 止盈股票列表 ['000970.SZA']\n"
     ]
    },
    {
     "name": "stdout",
     "output_type": "stream",
     "text": [
      "2021-03-08 大盘风控止损触发,全仓卖出\n"
     ]
    },
    {
     "name": "stdout",
     "output_type": "stream",
     "text": [
      "2021-03-09 大盘风控止损触发,全仓卖出\n",
      "2021-03-10 大盘风控止损触发,全仓卖出\n"
     ]
    },
    {
     "name": "stdout",
     "output_type": "stream",
     "text": [
      "2021-03-17 止损股票列表 ['002456.SZA']\n",
      "2021-03-17 固定天数卖出列表 ['002367.SZA']\n"
     ]
    },
    {
     "name": "stdout",
     "output_type": "stream",
     "text": [
      "2021-03-22 固定天数卖出列表 ['002282.SZA', '600647.SHA']\n"
     ]
    },
    {
     "name": "stdout",
     "output_type": "stream",
     "text": [
      "2021-03-23 止损股票列表 ['002408.SZA', '300062.SZA']\n",
      "2021-03-23 固定天数卖出列表 ['002524.SZA', '000838.SZA']\n"
     ]
    },
    {
     "name": "stdout",
     "output_type": "stream",
     "text": [
      "2021-03-24 止损股票列表 ['000970.SZA']\n"
     ]
    },
    {
     "name": "stdout",
     "output_type": "stream",
     "text": [
      "2021-03-29 止盈股票列表 ['002630.SZA']\n",
      "2021-03-29 固定天数卖出列表 ['600077.SHA', '600467.SHA']\n"
     ]
    },
    {
     "name": "stdout",
     "output_type": "stream",
     "text": [
      "2021-03-30 固定天数卖出列表 ['300621.SZA']\n"
     ]
    },
    {
     "name": "stdout",
     "output_type": "stream",
     "text": [
      "2021-03-31 固定天数卖出列表 ['000677.SZA']\n"
     ]
    },
    {
     "name": "stdout",
     "output_type": "stream",
     "text": [
      "2021-04-06 固定天数卖出列表 ['000056.SZA', '000683.SZA']\n"
     ]
    },
    {
     "name": "stdout",
     "output_type": "stream",
     "text": [
      "2021-04-07 固定天数卖出列表 ['002820.SZA', '300507.SZA']\n"
     ]
    },
    {
     "name": "stdout",
     "output_type": "stream",
     "text": [
      "2021-04-12 止盈股票列表 ['300201.SZA']\n",
      "2021-04-12 固定天数卖出列表 ['002577.SZA', '603269.SHA', '603121.SHA']\n"
     ]
    },
    {
     "name": "stdout",
     "output_type": "stream",
     "text": [
      "2021-04-13 止损股票列表 ['001896.SZA']\n",
      "2021-04-13 固定天数卖出列表 ['600077.SHA', '600397.SHA']\n"
     ]
    },
    {
     "name": "stdout",
     "output_type": "stream",
     "text": [
      "2021-04-19 固定天数卖出列表 ['601858.SHA']\n"
     ]
    },
    {
     "name": "stdout",
     "output_type": "stream",
     "text": [
      "2021-04-20 固定天数卖出列表 ['002437.SZA']\n"
     ]
    },
    {
     "name": "stdout",
     "output_type": "stream",
     "text": [
      "2021-04-21 固定天数卖出列表 ['601952.SHA', '605166.SHA']\n"
     ]
    },
    {
     "name": "stdout",
     "output_type": "stream",
     "text": [
      "2021-04-26 止损股票列表 ['002464.SZA', '000793.SZA']\n",
      "2021-04-26 固定天数卖出列表 ['300305.SZA']\n"
     ]
    },
    {
     "name": "stdout",
     "output_type": "stream",
     "text": [
      "2021-04-27 止损股票列表 ['002464.SZA']\n",
      "2021-04-27 固定天数卖出列表 ['002203.SZA', '600077.SHA']\n"
     ]
    },
    {
     "name": "stdout",
     "output_type": "stream",
     "text": [
      "2021-04-28 止损股票列表 ['002464.SZA']\n",
      "2021-04-28 固定天数卖出列表 ['601952.SHA']\n"
     ]
    },
    {
     "name": "stdout",
     "output_type": "stream",
     "text": [
      "2021-04-29 止损股票列表 ['002464.SZA']\n"
     ]
    },
    {
     "name": "stdout",
     "output_type": "stream",
     "text": [
      "2021-04-30 止损股票列表 ['002464.SZA', '002131.SZA']\n"
     ]
    },
    {
     "name": "stdout",
     "output_type": "stream",
     "text": [
      "2021-05-06 止损股票列表 ['002464.SZA', '000523.SZA']\n",
      "2021-05-06 固定天数卖出列表 ['000040.SZA', '002023.SZA', '000709.SZA']\n"
     ]
    },
    {
     "name": "stdout",
     "output_type": "stream",
     "text": [
      "2021-05-11 止盈股票列表 ['300479.SZA']\n"
     ]
    },
    {
     "name": "stdout",
     "output_type": "stream",
     "text": [
      "2021-05-12 固定天数卖出列表 ['605228.SHA']\n"
     ]
    },
    {
     "name": "stdout",
     "output_type": "stream",
     "text": [
      "2021-05-17 止盈股票列表 ['002622.SZA']\n",
      "2021-05-17 止损股票列表 ['300309.SZA']\n",
      "2021-05-17 固定天数卖出列表 ['002902.SZA']\n"
     ]
    },
    {
     "name": "stdout",
     "output_type": "stream",
     "text": [
      "2021-05-19 固定天数卖出列表 ['300258.SZA']\n"
     ]
    },
    {
     "name": "stdout",
     "output_type": "stream",
     "text": [
      "2021-05-24 止损股票列表 ['000009.SZA']\n",
      "2021-05-24 固定天数卖出列表 ['002482.SZA']\n"
     ]
    },
    {
     "name": "stdout",
     "output_type": "stream",
     "text": [
      "2021-05-25 固定天数卖出列表 ['000040.SZA', '000732.SZA']\n"
     ]
    },
    {
     "name": "stdout",
     "output_type": "stream",
     "text": [
      "2021-05-26 固定天数卖出列表 ['300336.SZA']\n"
     ]
    },
    {
     "name": "stdout",
     "output_type": "stream",
     "text": [
      "2021-05-28 止盈股票列表 ['601377.SHA']\n"
     ]
    },
    {
     "name": "stdout",
     "output_type": "stream",
     "text": [
      "2021-05-31 固定天数卖出列表 ['600106.SHA', '600397.SHA', '600396.SHA', '000068.SZA']\n"
     ]
    },
    {
     "name": "stdout",
     "output_type": "stream",
     "text": [
      "2021-06-01 止盈股票列表 ['601699.SHA']\n"
     ]
    },
    {
     "name": "stdout",
     "output_type": "stream",
     "text": [
      "2021-06-02 固定天数卖出列表 ['000040.SZA', '002482.SZA']\n"
     ]
    },
    {
     "name": "stdout",
     "output_type": "stream",
     "text": [
      "2021-06-04 止盈股票列表 ['300469.SZA']\n"
     ]
    },
    {
     "name": "stdout",
     "output_type": "stream",
     "text": [
      "2021-06-07 固定天数卖出列表 ['002282.SZA', '600476.SHA']\n"
     ]
    },
    {
     "name": "stdout",
     "output_type": "stream",
     "text": [
      "2021-06-08 止盈股票列表 ['002079.SZA']\n",
      "2021-06-08 固定天数卖出列表 ['600000.SHA']\n"
     ]
    },
    {
     "name": "stdout",
     "output_type": "stream",
     "text": [
      "2021-06-09 止盈股票列表 ['300703.SZA']\n",
      "2021-06-09 固定天数卖出列表 ['002013.SZA', '002809.SZA']\n"
     ]
    },
    {
     "name": "stdout",
     "output_type": "stream",
     "text": [
      "2021-06-15 止损股票列表 ['000732.SZA']\n",
      "2021-06-15 固定天数卖出列表 ['000655.SZA']\n"
     ]
    },
    {
     "name": "stdout",
     "output_type": "stream",
     "text": [
      "2021-06-16 固定天数卖出列表 ['603053.SHA']\n"
     ]
    },
    {
     "name": "stdout",
     "output_type": "stream",
     "text": [
      "2021-06-21 固定天数卖出列表 ['002348.SZA']\n"
     ]
    },
    {
     "name": "stdout",
     "output_type": "stream",
     "text": [
      "2021-06-22 止盈股票列表 ['600186.SHA']\n"
     ]
    },
    {
     "name": "stdout",
     "output_type": "stream",
     "text": [
      "2021-06-23 固定天数卖出列表 ['002649.SZA']\n"
     ]
    },
    {
     "name": "stdout",
     "output_type": "stream",
     "text": [
      "2021-06-24 止盈股票列表 ['000040.SZA']\n"
     ]
    },
    {
     "name": "stdout",
     "output_type": "stream",
     "text": [
      "2021-06-28 固定天数卖出列表 ['603053.SHA']\n"
     ]
    },
    {
     "name": "stdout",
     "output_type": "stream",
     "text": [
      "2021-06-29 止损股票列表 ['000982.SZA']\n",
      "2021-06-29 固定天数卖出列表 ['000012.SZA']\n"
     ]
    },
    {
     "name": "stdout",
     "output_type": "stream",
     "text": [
      "2021-06-30 固定天数卖出列表 ['002233.SZA', '300024.SZA']\n"
     ]
    },
    {
     "name": "stdout",
     "output_type": "stream",
     "text": [
      "2021-07-01 止损股票列表 ['300135.SZA', '300141.SZA']\n"
     ]
    },
    {
     "name": "stdout",
     "output_type": "stream",
     "text": [
      "2021-07-02 止损股票列表 ['002013.SZA']\n"
     ]
    },
    {
     "name": "stdout",
     "output_type": "stream",
     "text": [
      "2021-07-05 止损股票列表 ['000727.SZA']\n"
     ]
    },
    {
     "name": "stdout",
     "output_type": "stream",
     "text": [
      "2021-07-06 固定天数卖出列表 ['002827.SZA', '000711.SZA']\n"
     ]
    },
    {
     "name": "stdout",
     "output_type": "stream",
     "text": [
      "2021-07-12 固定天数卖出列表 ['600184.SHA', '000753.SZA']\n"
     ]
    },
    {
     "name": "stdout",
     "output_type": "stream",
     "text": [
      "2021-07-19 固定天数卖出列表 ['600812.SHA', '600373.SHA']\n"
     ]
    },
    {
     "name": "stdout",
     "output_type": "stream",
     "text": [
      "2021-07-20 止盈股票列表 ['000711.SZA']\n",
      "2021-07-20 固定天数卖出列表 ['000536.SZA']\n"
     ]
    },
    {
     "name": "stdout",
     "output_type": "stream",
     "text": [
      "2021-07-26 止损股票列表 ['600422.SHA', '600466.SHA']\n"
     ]
    },
    {
     "name": "stdout",
     "output_type": "stream",
     "text": [
      "2021-07-27 大盘风控止损触发,全仓卖出\n"
     ]
    },
    {
     "name": "stdout",
     "output_type": "stream",
     "text": [
      "2021-07-28 大盘风控止损触发,全仓卖出\n",
      "2021-07-29 大盘风控止损触发,全仓卖出\n",
      "2021-07-30 大盘风控止损触发,全仓卖出\n"
     ]
    },
    {
     "name": "stdout",
     "output_type": "stream",
     "text": [
      "2021-08-04 止盈股票列表 ['000012.SZA']\n"
     ]
    },
    {
     "name": "stdout",
     "output_type": "stream",
     "text": [
      "2021-08-05 止盈股票列表 ['601717.SHA']\n"
     ]
    },
    {
     "name": "stdout",
     "output_type": "stream",
     "text": [
      "2021-08-06 止盈股票列表 ['600623.SHA']\n"
     ]
    },
    {
     "name": "stdout",
     "output_type": "stream",
     "text": [
      "2021-08-09 固定天数卖出列表 ['000838.SZA', '300306.SZA', '300597.SZA']\n"
     ]
    },
    {
     "name": "stdout",
     "output_type": "stream",
     "text": [
      "2021-08-10 止盈股票列表 ['002374.SZA']\n",
      "2021-08-10 固定天数卖出列表 ['000595.SZA', '000753.SZA']\n"
     ]
    },
    {
     "name": "stdout",
     "output_type": "stream",
     "text": [
      "2021-08-11 止盈股票列表 ['002598.SZA']\n",
      "2021-08-11 固定天数卖出列表 ['300336.SZA']\n"
     ]
    },
    {
     "name": "stdout",
     "output_type": "stream",
     "text": [
      "2021-08-16 固定天数卖出列表 ['600981.SHA']\n"
     ]
    },
    {
     "name": "stdout",
     "output_type": "stream",
     "text": [
      "2021-08-17 止损股票列表 ['000713.SZA', '000415.SZA', '300412.SZA']\n",
      "2021-08-17 固定天数卖出列表 ['000536.SZA']\n"
     ]
    },
    {
     "data": {
      "text/plain": [
       "[2021-08-22 15:08:22.465863] ERROR: moduleinvoker: module name: backtest, module version: v8, trackeback: IndexError: index 0 is out of bounds for axis 0 with size 0\\n"
      ]
     },
     "metadata": {
      "is_log": true,
      "status": "ERROR"
     },
     "output_type": "display_data"
    },
    {
     "data": {
      "text/plain": [
       "[2021-08-22 15:08:22.474758] ERROR: moduleinvoker: module name: trade, module version: v4, trackeback: IndexError: index 0 is out of bounds for axis 0 with size 0\\n"
      ]
     },
     "metadata": {
      "is_log": true,
      "status": "ERROR"
     },
     "output_type": "display_data"
    },
    {
     "ename": "IndexError",
     "evalue": "index 0 is out of bounds for axis 0 with size 0",
     "output_type": "error",
     "traceback": [
      "\u001b[0;31m---------------------------------------------------------------------------\u001b[0m",
      "\u001b[0;31mIndexError\u001b[0m                                Traceback (most recent call last)",
      "\u001b[0;32m<ipython-input-1-01db157e7a99>\u001b[0m in \u001b[0;36m<module>\u001b[0;34m\u001b[0m\n\u001b[1;32m    418\u001b[0m )\n\u001b[1;32m    419\u001b[0m \u001b[0;34m\u001b[0m\u001b[0m\n\u001b[0;32m--> 420\u001b[0;31m m4 = M.trade.v4(\n\u001b[0m\u001b[1;32m    421\u001b[0m     \u001b[0minstruments\u001b[0m\u001b[0;34m=\u001b[0m\u001b[0mm9\u001b[0m\u001b[0;34m.\u001b[0m\u001b[0mdata\u001b[0m\u001b[0;34m,\u001b[0m\u001b[0;34m\u001b[0m\u001b[0;34m\u001b[0m\u001b[0m\n\u001b[1;32m    422\u001b[0m     \u001b[0moptions_data\u001b[0m\u001b[0;34m=\u001b[0m\u001b[0mm19\u001b[0m\u001b[0;34m.\u001b[0m\u001b[0msorted_data\u001b[0m\u001b[0;34m,\u001b[0m\u001b[0;34m\u001b[0m\u001b[0;34m\u001b[0m\u001b[0m\n",
      "\u001b[0;32m<ipython-input-1-01db157e7a99>\u001b[0m in \u001b[0;36mm4_handle_data_bigquant_run\u001b[0;34m(context, data)\u001b[0m\n\u001b[1;32m     63\u001b[0m \u001b[0;34m\u001b[0m\u001b[0m\n\u001b[1;32m     64\u001b[0m     \u001b[0;31m#大盘风控模块，读取风控数据\u001b[0m\u001b[0;34m\u001b[0m\u001b[0;34m\u001b[0m\u001b[0;34m\u001b[0m\u001b[0m\n\u001b[0;32m---> 65\u001b[0;31m     \u001b[0mbenckmark_risk\u001b[0m\u001b[0;34m=\u001b[0m\u001b[0mranker_prediction\u001b[0m\u001b[0;34m[\u001b[0m\u001b[0;34m'bm_0'\u001b[0m\u001b[0;34m]\u001b[0m\u001b[0;34m.\u001b[0m\u001b[0mvalues\u001b[0m\u001b[0;34m[\u001b[0m\u001b[0;36m0\u001b[0m\u001b[0;34m]\u001b[0m\u001b[0;34m\u001b[0m\u001b[0;34m\u001b[0m\u001b[0m\n\u001b[0m\u001b[1;32m     66\u001b[0m \u001b[0;34m\u001b[0m\u001b[0m\n\u001b[1;32m     67\u001b[0m     \u001b[0;31m#当risk为1时，市场有风险，全部平仓，不再执行其它操作\u001b[0m\u001b[0;34m\u001b[0m\u001b[0;34m\u001b[0m\u001b[0;34m\u001b[0m\u001b[0m\n",
      "\u001b[0;31mIndexError\u001b[0m: index 0 is out of bounds for axis 0 with size 0"
     ]
    }
   ],
   "source": [
    "# 本代码由可视化策略环境自动生成 2021年8月22日15:10\n",
    "# 本代码单元只能在可视化模式下编辑。您也可以拷贝代码，粘贴到新建的代码单元或者策略，然后修改。\n",
    "\n",
    "\n",
    "# Python 代码入口函数，input_1/2/3 对应三个输入端，data_1/2/3 对应三个输出端\n",
    "def m21_run_bigquant_run(input_1, input_2, input_3):\n",
    "    df = input_1.read_df()\n",
    "    \n",
    "    # 计算因子“量价相关系数”\n",
    "    df['涨跌幅'] = df['close_0/adjust_factor_0'] / df['close_0/adjust_factor_0'].shift() - 1\n",
    "    df['复权因子'] = (1 + df['涨跌幅']).cumprod()\n",
    "    df['量价相关系数'] = df['turn_0'].rolling(10).corr(df['复权因子'].rolling(10))\n",
    "    \n",
    "    # 删除不需要的列\n",
    "    df.drop(['adjust_factor_0', 'close_0', 'turn_0', '涨跌幅', '复权因子'], axis=1, inplace=True)\n",
    "    \n",
    "    data_1 = DataSource().write_df(df)\n",
    "    \n",
    "    return Outputs(data_1=data_1, data_2=None, data_3=None)\n",
    "# 后处理函数，可选。输入是主函数的输出，可以在这里对数据做处理，或者返回更友好的outputs数据格式。此函数输出不会被缓存。\n",
    "def m21_post_run_bigquant_run(outputs):\n",
    "    return outputs\n",
    "\n",
    "# 回测引擎：初始化函数，只执行一次\n",
    "def m4_initialize_bigquant_run(context):\n",
    "    # 加载预测数据\n",
    "    context.ranker_prediction = context.options['data'].read_df()\n",
    "\n",
    "    # 系统已经设置了默认的交易手续费和滑点，要修改手续费可使用如下函数\n",
    "    context.set_commission(PerOrder(buy_cost=0.0003, sell_cost=0.0013, min_cost=5))\n",
    "    # 预测数据，通过options传入进来，使用 read_df 函数，加载到内存 (DataFrame)\n",
    "    # 设置买入的股票数量，这里买入预测股票列表排名靠前的5只\n",
    "    stock_count = 3\n",
    "    # 每只的股票的权重，如下的权重分配会使得靠前的股票分配多一点的资金，[0.339160, 0.213986, 0.169580, ..]\n",
    "    context.stock_weights = T.norm([1 / math.log(i + 2) for i in range(0, stock_count)])\n",
    "    # 设置每只股票占用的最大资金比例\n",
    "    context.max_cash_per_instrument = 0.6\n",
    "    context.options['hold_days'] = 5\n",
    "\n",
    "    from zipline.finance.slippage import SlippageModel\n",
    "    class FixedPriceSlippage(SlippageModel):\n",
    "        def process_order(self, data, order, bar_volume=0, trigger_check_price=0):\n",
    "            if order.limit is None:\n",
    "                price_field = self._price_field_buy if order.amount > 0 else self._price_field_sell\n",
    "                price = data.current(order.asset, price_field)\n",
    "            else:\n",
    "                price = data.current(order.asset, self._price_field_buy)\n",
    "            # 返回希望成交的价格和数量\n",
    "            return (price, order.amount)\n",
    "    # 设置price_field,默认是开盘买入，收盘卖出\n",
    "    context.fix_slippage = FixedPriceSlippage(price_field_buy='open', price_field_sell='close')\n",
    "    context.set_slippage(us_equities=context.fix_slippage)\n",
    "# 回测引擎：每日数据处理函数，每天执行一次\n",
    "def m4_handle_data_bigquant_run(context, data):\n",
    "    # 获取当前持仓\n",
    "    positions = {e.symbol: p.amount * p.last_sale_price\n",
    "                 for e, p in context.portfolio.positions.items()}\n",
    "    \n",
    "    today = data.current_dt.strftime('%Y-%m-%d')\n",
    "    # 按日期过滤得到今日的预测数据\n",
    "    ranker_prediction = context.ranker_prediction[\n",
    "        context.ranker_prediction.date == today]\n",
    "    \n",
    "    #大盘风控模块，读取风控数据    \n",
    "    benckmark_risk=ranker_prediction['bm_0'].values[0]\n",
    "\n",
    "    #当risk为1时，市场有风险，全部平仓，不再执行其它操作\n",
    "    if benckmark_risk > 0:\n",
    "        for instrument in positions.keys():\n",
    "            context.order_target(context.symbol(instrument), 0)\n",
    "        print(today,'大盘风控止损触发,全仓卖出')\n",
    "        return\n",
    "    \n",
    "    # 1. 资金分配\n",
    "    # 平均持仓时间是hold_days，每日都将买入股票，每日预期使用 1/hold_days 的资金\n",
    "    # 实际操作中，会存在一定的买入误差，所以在前hold_days天，等量使用资金；之后，尽量使用剩余资金（这里设置最多用等量的1.5倍）\n",
    "    is_staging = context.trading_day_index < context.options['hold_days'] # 是否在建仓期间（前 hold_days 天）\n",
    "    cash_avg = context.portfolio.portfolio_value / context.options['hold_days']\n",
    "    cash_for_buy = min(context.portfolio.cash, (1 if is_staging else 1.5) * cash_avg)\n",
    "    cash_for_sell = cash_avg - (context.portfolio.cash - cash_for_buy)\n",
    "   \n",
    "    \n",
    "    # 2. 根据需要加入移动止赢止损模块、固定天数卖出模块\n",
    "    stock_sold = [] # 记录卖出的股票，防止多次卖出出现空单\n",
    "    \n",
    "    #------------------------START:止赢止损模块(含建仓期)---------------\n",
    "    current_stopwin_stock=[]\n",
    "    current_stoploss_stock = []   \n",
    "    positions_cost={e.symbol:p.cost_basis for e,p in context.portfolio.positions.items()}\n",
    "    if len(positions)>0:\n",
    "        for instrument in positions.keys():\n",
    "            stock_cost=positions_cost[instrument]  \n",
    "            stock_market_price=data.current(context.symbol(instrument),'price')  \n",
    "            # 赚9%且为可交易状态就止盈\n",
    "            if stock_market_price/stock_cost-1>=0.09 and data.can_trade(context.symbol(instrument)):\n",
    "                context.order_target_percent(context.symbol(instrument),0)\n",
    "                cash_for_sell -= positions[instrument]\n",
    "                current_stopwin_stock.append(instrument)\n",
    "            # 亏5%并且为可交易状态就止损\n",
    "            if stock_market_price/stock_cost-1 <= -0.05 and data.can_trade(context.symbol(instrument)):   \n",
    "                context.order_target_percent(context.symbol(instrument),0)\n",
    "                cash_for_sell -= positions[instrument]\n",
    "                current_stoploss_stock.append(instrument)\n",
    "        if len(current_stopwin_stock)>0:\n",
    "            print(today,'止盈股票列表',current_stopwin_stock)\n",
    "            stock_sold += current_stopwin_stock\n",
    "        if len(current_stoploss_stock)>0:\n",
    "            print(today,'止损股票列表',current_stoploss_stock)\n",
    "            stock_sold += current_stoploss_stock\n",
    "    #--------------------------END: 止赢止损模块--------------------------\n",
    "    \n",
    "    #--------------------------START：持有固定天数卖出(不含建仓期)-----------\n",
    "    current_stopdays_stock = []\n",
    "    positions_lastdate = {e.symbol:p.last_sale_date for e,p in context.portfolio.positions.items()}\n",
    "    # 不是建仓期（在前hold_days属于建仓期）\n",
    "    if not is_staging:\n",
    "        for instrument in positions.keys():\n",
    "            #如果上面的止盈止损已经卖出过了，就不要重复卖出以防止产生空单\n",
    "            if instrument in stock_sold:\n",
    "                continue\n",
    "            # 今天和上次交易的时间相隔hold_days就全部卖出 datetime.timedelta(context.options['hold_days'])也可以换成自己需要的天数，比如datetime.timedelta(5)\n",
    "            if data.current_dt - positions_lastdate[instrument]>=datetime.timedelta(5) and data.can_trade(context.symbol(instrument)):\n",
    "                context.order_target_percent(context.symbol(instrument), 0)\n",
    "                current_stopdays_stock.append(instrument)\n",
    "                cash_for_sell -= positions[instrument]\n",
    "        if len(current_stopdays_stock)>0:        \n",
    "            print(today,'固定天数卖出列表',current_stopdays_stock)\n",
    "            stock_sold += current_stopdays_stock\n",
    "    #-------------------------  END:持有固定天数卖出-----------------------\n",
    "    \n",
    "    #-------------------------- START: ST和退市股卖出 ---------------------  \n",
    "    st_stock_list = []\n",
    "    for instrument in positions.keys():\n",
    "        try:\n",
    "            instrument_name = ranker_prediction[ranker_prediction.instrument==instrument].name.values[0]\n",
    "            # 如果股票状态变为了st或者退市 则卖出\n",
    "            if 'ST' in instrument_name or '退' in instrument_name:\n",
    "                if instrument in stock_sold:\n",
    "                    continue\n",
    "                if data.can_trade(context.symbol(instrument)):\n",
    "                    context.order_target(context.symbol(instrument), 0)\n",
    "                    st_stock_list.append(instrument)\n",
    "                    cash_for_sell -= positions[instrument]\n",
    "        except:\n",
    "            continue\n",
    "    if st_stock_list!=[]:\n",
    "        print(today,'持仓出现st股/退市股',st_stock_list,'进行卖出处理')    \n",
    "        stock_sold += st_stock_list\n",
    "\n",
    "    #-------------------------- END: ST和退市股卖出 --------------------- \n",
    "    \n",
    "    \n",
    "    # 3. 生成轮仓卖出订单：hold_days天之后才开始卖出；对持仓的股票，按机器学习算法预测的排序末位淘汰\n",
    "    if not is_staging and cash_for_sell > 0:\n",
    "        instruments = list(reversed(list(ranker_prediction.instrument[ranker_prediction.instrument.apply(\n",
    "                lambda x: x in positions)])))\n",
    "        for instrument in instruments:\n",
    "            # 如果资金够了就不卖出了\n",
    "            if cash_for_sell <= 0:\n",
    "                break\n",
    "            #防止多个止损条件同时满足，出现多次卖出产生空单\n",
    "            if instrument in stock_sold:\n",
    "                continue\n",
    "            context.order_target(context.symbol(instrument), 0)\n",
    "            cash_for_sell -= positions[instrument]\n",
    "            stock_sold.append(instrument)\n",
    "\n",
    "    # 4. 生成轮仓买入订单：按机器学习算法预测的排序，买入前面的stock_count只股票\n",
    "    # 计算今日跌停的股票\n",
    "    dt_list = list(ranker_prediction[ranker_prediction.price_limit_status_0==1].instrument)\n",
    "    # 计算今日ST/退市的股票\n",
    "    st_list = list(ranker_prediction[ranker_prediction.name.str.contains('ST')|ranker_prediction.name.str.contains('退')].instrument)\n",
    "    # 计算所有禁止买入的股票池\n",
    "    banned_list = stock_sold+dt_list+st_list\n",
    "    buy_cash_weights = context.stock_weights\n",
    "    buy_instruments=[k for k in list(ranker_prediction.instrument) if k not in banned_list][:len(buy_cash_weights)]\n",
    "    max_cash_per_instrument = context.portfolio.portfolio_value * context.max_cash_per_instrument\n",
    "    for i, instrument in enumerate(buy_instruments):\n",
    "        cash = cash_for_buy * buy_cash_weights[i]\n",
    "        if cash > max_cash_per_instrument - positions.get(instrument, 0):\n",
    "            # 确保股票持仓量不会超过每次股票最大的占用资金量\n",
    "            cash = max_cash_per_instrument - positions.get(instrument, 0)\n",
    "        if cash > 0:\n",
    "            context.order_value(context.symbol(instrument), cash)\n",
    "    \n",
    "\n",
    "\n",
    "# 回测引擎：准备数据，只执行一次\n",
    "def m4_prepare_bigquant_run(context):\n",
    "    pass\n",
    "def m4_before_trading_start_bigquant_run(context, data):\n",
    "    # 获取涨跌停状态数据\n",
    "    df_price_limit_status = context.ranker_prediction.set_index('date')\n",
    "    today=data.current_dt.strftime('%Y-%m-%d')\n",
    "    # 得到当前未完成订单\n",
    "    for orders in get_open_orders().values():\n",
    "        # 循环，撤销订单\n",
    "        for _order in orders:\n",
    "            ins=str(_order.sid.symbol)\n",
    "            try:\n",
    "                #判断一下如果当日涨停，则取消卖单\n",
    "                if  df_price_limit_status[df_price_limit_status.instrument==ins].price_limit_status_0.ix[today]>2 and _order.amount<0:\n",
    "                    cancel_order(_order)\n",
    "                    print(today,'尾盘涨停取消卖单',ins) \n",
    "            except:\n",
    "                continue\n",
    "\n",
    "m1 = M.instruments.v2(\n",
    "    start_date='2016-03-24',\n",
    "    end_date='2020-01-01',\n",
    "    market='CN_STOCK_A',\n",
    "    instrument_list='',\n",
    "    max_count=0\n",
    ")\n",
    "\n",
    "m2 = M.advanced_auto_labeler.v2(\n",
    "    instruments=m1.data,\n",
    "    label_expr=\"\"\"# #号开始的表示注释\n",
    "# 0. 每行一个，顺序执行，从第二个开始，可以使用label字段\n",
    "# 1. 可用数据字段见 https://bigquant.com/docs/data_history_data.html\n",
    "#   添加benchmark_前缀，可使用对应的benchmark数据\n",
    "# 2. 可用操作符和函数见 `表达式引擎 <https://bigquant.com/docs/big_expr.html>`_\n",
    "\n",
    "# 计算收益：5日收盘价(作为卖出价格)除以明日开盘价(作为买入价格)\n",
    "shift(close, -5) / shift(open, -1)\n",
    "\n",
    "# 极值处理：用1%和99%分位的值做clip\n",
    "clip(label, all_quantile(label, 0.01), all_quantile(label, 0.99))\n",
    "\n",
    "# 将分数映射到分类，这里使用20个分类\n",
    "all_wbins(label, 20)\n",
    "\n",
    "# 过滤掉一字涨停的情况 (设置label为NaN，在后续处理和训练中会忽略NaN的label)\n",
    "where(shift(high, -1) == shift(low, -1), NaN, label)\n",
    "\"\"\",\n",
    "    start_date='',\n",
    "    end_date='',\n",
    "    benchmark='000300.SHA',\n",
    "    drop_na_label=True,\n",
    "    cast_label_int=True\n",
    ")\n",
    "\n",
    "m3 = M.input_features.v1(\n",
    "    features=\"\"\"# #号开始的表示注释\n",
    "# 多个特征，每行一个，可以包含基础特征和衍生特征\n",
    "\n",
    "# 在“自定义Python模块”中参与“量价相关系数”的计算\n",
    "turn_0\n",
    "close_0/adjust_factor_0\"\"\"\n",
    ")\n",
    "\n",
    "m15 = M.general_feature_extractor.v7(\n",
    "    instruments=m1.data,\n",
    "    features=m3.data,\n",
    "    start_date='',\n",
    "    end_date='',\n",
    "    before_start_days=25\n",
    ")\n",
    "\n",
    "m16 = M.derived_feature_extractor.v3(\n",
    "    input_data=m15.data,\n",
    "    features=m3.data,\n",
    "    date_col='date',\n",
    "    instrument_col='instrument',\n",
    "    drop_na=False,\n",
    "    remove_extra_columns=False\n",
    ")\n",
    "\n",
    "m7 = M.join.v3(\n",
    "    data1=m2.data,\n",
    "    data2=m16.data,\n",
    "    on='date,instrument',\n",
    "    how='inner',\n",
    "    sort=False\n",
    ")\n",
    "\n",
    "m21 = M.cached.v3(\n",
    "    input_1=m7.data,\n",
    "    run=m21_run_bigquant_run,\n",
    "    post_run=m21_post_run_bigquant_run,\n",
    "    input_ports='',\n",
    "    params='{}',\n",
    "    output_ports=''\n",
    ")\n",
    "\n",
    "m23 = M.dropnan.v2(\n",
    "    input_data=m21.data_1\n",
    ")\n",
    "\n",
    "m5 = M.stock_ranker_train.v6(\n",
    "    training_ds=m23.data,\n",
    "    features=m3.data,\n",
    "    learning_algorithm='排序',\n",
    "    number_of_leaves=30,\n",
    "    minimum_docs_per_leaf=1000,\n",
    "    number_of_trees=20,\n",
    "    learning_rate=0.1,\n",
    "    max_bins=1023,\n",
    "    feature_fraction=1,\n",
    "    data_row_fraction=1,\n",
    "    ndcg_discount_base=1,\n",
    "    m_lazy_run=False\n",
    ")\n",
    "\n",
    "m6 = M.input_features.v1(\n",
    "    features_ds=m3.data,\n",
    "    features=\"\"\"# #号开始的表示注释\n",
    "# 多个特征，每行一个，可以包含基础特征和衍生特征\n",
    "price_limit_status_0\"\"\"\n",
    ")\n",
    "\n",
    "m9 = M.instruments.v2(\n",
    "    start_date=T.live_run_param('trading_date', '2020-01-02'),\n",
    "    end_date=T.live_run_param('trading_date', '2021-09-01'),\n",
    "    market='CN_STOCK_A',\n",
    "    instrument_list='',\n",
    "    max_count=0\n",
    ")\n",
    "\n",
    "m17 = M.general_feature_extractor.v7(\n",
    "    instruments=m9.data,\n",
    "    features=m6.data,\n",
    "    start_date='',\n",
    "    end_date='',\n",
    "    before_start_days=20\n",
    ")\n",
    "\n",
    "m18 = M.derived_feature_extractor.v3(\n",
    "    input_data=m17.data,\n",
    "    features=m6.data,\n",
    "    date_col='date',\n",
    "    instrument_col='instrument',\n",
    "    drop_na=False,\n",
    "    remove_extra_columns=False\n",
    ")\n",
    "\n",
    "m28 = M.dropnan.v2(\n",
    "    input_data=m18.data\n",
    ")\n",
    "\n",
    "m8 = M.stock_ranker_predict.v5(\n",
    "    model=m5.model,\n",
    "    data=m28.data,\n",
    "    m_lazy_run=False\n",
    ")\n",
    "\n",
    "m10 = M.select_columns.v3(\n",
    "    input_ds=m28.data,\n",
    "    columns='date,instrument,price_limit_status_0',\n",
    "    reverse_select=False\n",
    ")\n",
    "\n",
    "m11 = M.join.v3(\n",
    "    data1=m8.predictions,\n",
    "    data2=m10.data,\n",
    "    on='date,instrument',\n",
    "    how='left',\n",
    "    sort=True\n",
    ")\n",
    "\n",
    "m20 = M.input_features.v1(\n",
    "    features=\"\"\"\n",
    "# #号开始的表示注释，注释需单独一行\n",
    "# 多个特征，每行一个，可以包含基础特征和衍生特征，特征须为本平台特征\n",
    "name\"\"\"\n",
    ")\n",
    "\n",
    "m22 = M.use_datasource.v1(\n",
    "    instruments=m9.data,\n",
    "    features=m20.data,\n",
    "    datasource_id='instruments_CN_STOCK_A',\n",
    "    start_date='',\n",
    "    end_date=''\n",
    ")\n",
    "\n",
    "m24 = M.input_features.v1(\n",
    "    features=\"\"\"\n",
    "# #号开始的表示注释，注释需单独一行\n",
    "# 多个特征，每行一个，可以包含基础特征和衍生特征，特征须为本平台特征\n",
    "bm_0 = where(close/shift(close,5)-1<-0.05,1,0)\"\"\"\n",
    ")\n",
    "\n",
    "m12 = M.index_feature_extract.v3(\n",
    "    input_1=m9.data,\n",
    "    input_2=m24.data,\n",
    "    before_days=100,\n",
    "    index='000300.HIX'\n",
    ")\n",
    "\n",
    "m26 = M.select_columns.v3(\n",
    "    input_ds=m12.data_1,\n",
    "    columns='date,bm_0',\n",
    "    reverse_select=False\n",
    ")\n",
    "\n",
    "m25 = M.join.v3(\n",
    "    data1=m22.data,\n",
    "    data2=m26.data,\n",
    "    on='date',\n",
    "    how='left',\n",
    "    sort=True\n",
    ")\n",
    "\n",
    "m27 = M.join.v3(\n",
    "    data1=m11.data,\n",
    "    data2=m25.data,\n",
    "    on='date,instrument',\n",
    "    how='left',\n",
    "    sort=True\n",
    ")\n",
    "\n",
    "m19 = M.sort.v4(\n",
    "    input_ds=m27.data,\n",
    "    sort_by='date,position',\n",
    "    group_by='--',\n",
    "    keep_columns='--',\n",
    "    ascending=True\n",
    ")\n",
    "\n",
    "m4 = M.trade.v4(\n",
    "    instruments=m9.data,\n",
    "    options_data=m19.sorted_data,\n",
    "    start_date='',\n",
    "    end_date='',\n",
    "    initialize=m4_initialize_bigquant_run,\n",
    "    handle_data=m4_handle_data_bigquant_run,\n",
    "    prepare=m4_prepare_bigquant_run,\n",
    "    before_trading_start=m4_before_trading_start_bigquant_run,\n",
    "    volume_limit=0.025,\n",
    "    order_price_field_buy='open',\n",
    "    order_price_field_sell='close',\n",
    "    capital_base=1000001,\n",
    "    auto_cancel_non_tradable_orders=True,\n",
    "    data_frequency='daily',\n",
    "    price_type='后复权',\n",
    "    product_type='股票',\n",
    "    plot_charts=True,\n",
    "    backtest_only=False,\n",
    "    benchmark=''\n",
    ")\n"
   ]
  }
 ],
 "metadata": {
  "kernelspec": {
   "display_name": "Python 3",
   "language": "python",
   "name": "python3"
  },
  "language_info": {
   "codemirror_mode": {
    "name": "ipython",
    "version": 3
   },
   "file_extension": ".py",
   "mimetype": "text/x-python",
   "name": "python",
   "nbconvert_exporter": "python",
   "pygments_lexer": "ipython3",
   "version": "3.8.7"
  }
 },
 "nbformat": 4,
 "nbformat_minor": 4
}
