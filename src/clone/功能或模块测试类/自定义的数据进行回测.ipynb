{
 "cells": [
  {
   "cell_type": "markdown",
   "metadata": {},
   "source": [
    "## 目标\n",
    "\n",
    "本示例旨在说明如何基于自定义的数据进行回测研究，例子以ETF回测为例，若是其他市场其他标的，同理即可。\n",
    "\n",
    "\n",
    "## 策略逻辑\n",
    "\n",
    "每日计算沪深300的5日均线和20日均线值\n",
    "\n",
    "若5日均线大于20日均线，只持有a(注:a没有持仓就买入。b和c若有持仓就买出平仓)，建仓20%；\n",
    "\n",
    "若5日均线小于20日均线，只持有b(注:b没有持仓就买入。a和c若有持仓就买出平仓)，建仓20%；\n",
    "\n",
    "若5日均线小于20日均线，只持有c(注:c没有持仓就买入。a和b若有持仓就买出平仓)，建仓20%。\n",
    "\n",
    "## 模块介绍\n",
    "\n",
    "m2,数据源模块,读取基金日线行情数据\n",
    "\n",
    "m1,自定义Python模块,过滤出三只ETF基金数据\n",
    "\n",
    "m4,数据源模块,读取指数日线行情数据\n",
    "\n",
    "m3,自定义Python模块,过滤出沪深300指数行情数据\n",
    "\n",
    "m6,自定义Python模块,将沪深300指数数据和回测标的的历史行情数据整理到一起\n",
    "\n",
    "m8,代码列表模块,指定回测标的、起始结束时间\n",
    "\n",
    "m7,自定义Python模块,读取基准数据\n",
    "\n",
    "m5,Trade(回测/模拟),回测执行模块\n",
    "\n",
    "\n",
    "\n"
   ]
  },
  {
   "cell_type": "code",
   "execution_count": 29,
   "metadata": {},
   "outputs": [
    {
     "data": {
      "text/html": [
       "<div>\n",
       "<style scoped>\n",
       "    .dataframe tbody tr th:only-of-type {\n",
       "        vertical-align: middle;\n",
       "    }\n",
       "\n",
       "    .dataframe tbody tr th {\n",
       "        vertical-align: top;\n",
       "    }\n",
       "\n",
       "    .dataframe thead th {\n",
       "        text-align: right;\n",
       "    }\n",
       "</style>\n",
       "<table border=\"1\" class=\"dataframe\">\n",
       "  <thead>\n",
       "    <tr style=\"text-align: right;\">\n",
       "      <th></th>\n",
       "      <th>instrument</th>\n",
       "      <th>open</th>\n",
       "      <th>high</th>\n",
       "      <th>low</th>\n",
       "      <th>close</th>\n",
       "      <th>volume</th>\n",
       "      <th>amount</th>\n",
       "      <th>date</th>\n",
       "      <th>adjust_factor</th>\n",
       "      <th>turn</th>\n",
       "    </tr>\n",
       "  </thead>\n",
       "  <tbody>\n",
       "    <tr>\n",
       "      <th>138</th>\n",
       "      <td>000300.HIX</td>\n",
       "      <td>4088.931885</td>\n",
       "      <td>4088.931885</td>\n",
       "      <td>4037.145752</td>\n",
       "      <td>4049.947510</td>\n",
       "      <td>1.434553e+10</td>\n",
       "      <td>1.830046e+11</td>\n",
       "      <td>2017-11-27</td>\n",
       "      <td>1.0</td>\n",
       "      <td>0.5655</td>\n",
       "    </tr>\n",
       "    <tr>\n",
       "      <th>162</th>\n",
       "      <td>518880.HOF</td>\n",
       "      <td>2.727000</td>\n",
       "      <td>2.732000</td>\n",
       "      <td>2.726000</td>\n",
       "      <td>2.731000</td>\n",
       "      <td>4.551696e+08</td>\n",
       "      <td>1.242201e+09</td>\n",
       "      <td>2017-11-27</td>\n",
       "      <td>1.0</td>\n",
       "      <td>NaN</td>\n",
       "    </tr>\n",
       "    <tr>\n",
       "      <th>165</th>\n",
       "      <td>513600.HOF</td>\n",
       "      <td>2.620000</td>\n",
       "      <td>2.627000</td>\n",
       "      <td>2.600000</td>\n",
       "      <td>2.611000</td>\n",
       "      <td>1.334900e+06</td>\n",
       "      <td>3.492694e+06</td>\n",
       "      <td>2017-11-27</td>\n",
       "      <td>1.0</td>\n",
       "      <td>NaN</td>\n",
       "    </tr>\n",
       "    <tr>\n",
       "      <th>171</th>\n",
       "      <td>512880.HOF</td>\n",
       "      <td>1.039000</td>\n",
       "      <td>1.050000</td>\n",
       "      <td>1.031000</td>\n",
       "      <td>1.040000</td>\n",
       "      <td>8.329925e+07</td>\n",
       "      <td>8.668271e+07</td>\n",
       "      <td>2017-11-27</td>\n",
       "      <td>1.0</td>\n",
       "      <td>NaN</td>\n",
       "    </tr>\n",
       "    <tr>\n",
       "      <th>311</th>\n",
       "      <td>000300.HIX</td>\n",
       "      <td>4034.205811</td>\n",
       "      <td>4056.475342</td>\n",
       "      <td>4010.295410</td>\n",
       "      <td>4055.823486</td>\n",
       "      <td>1.020581e+10</td>\n",
       "      <td>1.355396e+11</td>\n",
       "      <td>2017-11-28</td>\n",
       "      <td>1.0</td>\n",
       "      <td>0.4023</td>\n",
       "    </tr>\n",
       "    <tr>\n",
       "      <th>...</th>\n",
       "      <td>...</td>\n",
       "      <td>...</td>\n",
       "      <td>...</td>\n",
       "      <td>...</td>\n",
       "      <td>...</td>\n",
       "      <td>...</td>\n",
       "      <td>...</td>\n",
       "      <td>...</td>\n",
       "      <td>...</td>\n",
       "      <td>...</td>\n",
       "    </tr>\n",
       "    <tr>\n",
       "      <th>141721</th>\n",
       "      <td>513600.HOF</td>\n",
       "      <td>2.531000</td>\n",
       "      <td>2.558000</td>\n",
       "      <td>2.531000</td>\n",
       "      <td>2.558000</td>\n",
       "      <td>1.420000e+05</td>\n",
       "      <td>3.605710e+05</td>\n",
       "      <td>2018-09-04</td>\n",
       "      <td>1.0</td>\n",
       "      <td>NaN</td>\n",
       "    </tr>\n",
       "    <tr>\n",
       "      <th>141725</th>\n",
       "      <td>518880.HOF</td>\n",
       "      <td>2.637000</td>\n",
       "      <td>2.637000</td>\n",
       "      <td>2.626000</td>\n",
       "      <td>2.626000</td>\n",
       "      <td>3.115868e+08</td>\n",
       "      <td>8.204385e+08</td>\n",
       "      <td>2018-09-04</td>\n",
       "      <td>1.0</td>\n",
       "      <td>NaN</td>\n",
       "    </tr>\n",
       "    <tr>\n",
       "      <th>142464</th>\n",
       "      <td>512880.HOF</td>\n",
       "      <td>0.721000</td>\n",
       "      <td>0.722000</td>\n",
       "      <td>0.711000</td>\n",
       "      <td>0.712000</td>\n",
       "      <td>7.408700e+07</td>\n",
       "      <td>5.316836e+07</td>\n",
       "      <td>2018-09-05</td>\n",
       "      <td>1.0</td>\n",
       "      <td>NaN</td>\n",
       "    </tr>\n",
       "    <tr>\n",
       "      <th>142469</th>\n",
       "      <td>518880.HOF</td>\n",
       "      <td>2.625000</td>\n",
       "      <td>2.628000</td>\n",
       "      <td>2.623000</td>\n",
       "      <td>2.624000</td>\n",
       "      <td>3.148696e+08</td>\n",
       "      <td>8.266879e+08</td>\n",
       "      <td>2018-09-05</td>\n",
       "      <td>1.0</td>\n",
       "      <td>NaN</td>\n",
       "    </tr>\n",
       "    <tr>\n",
       "      <th>142472</th>\n",
       "      <td>513600.HOF</td>\n",
       "      <td>2.543000</td>\n",
       "      <td>2.543000</td>\n",
       "      <td>2.499000</td>\n",
       "      <td>2.505000</td>\n",
       "      <td>1.891000e+05</td>\n",
       "      <td>4.760760e+05</td>\n",
       "      <td>2018-09-05</td>\n",
       "      <td>1.0</td>\n",
       "      <td>NaN</td>\n",
       "    </tr>\n",
       "  </tbody>\n",
       "</table>\n",
       "<p>768 rows × 10 columns</p>\n",
       "</div>"
      ],
      "text/plain": [
       "        instrument         open         high          low        close  \\\n",
       "138     000300.HIX  4088.931885  4088.931885  4037.145752  4049.947510   \n",
       "162     518880.HOF     2.727000     2.732000     2.726000     2.731000   \n",
       "165     513600.HOF     2.620000     2.627000     2.600000     2.611000   \n",
       "171     512880.HOF     1.039000     1.050000     1.031000     1.040000   \n",
       "311     000300.HIX  4034.205811  4056.475342  4010.295410  4055.823486   \n",
       "...            ...          ...          ...          ...          ...   \n",
       "141721  513600.HOF     2.531000     2.558000     2.531000     2.558000   \n",
       "141725  518880.HOF     2.637000     2.637000     2.626000     2.626000   \n",
       "142464  512880.HOF     0.721000     0.722000     0.711000     0.712000   \n",
       "142469  518880.HOF     2.625000     2.628000     2.623000     2.624000   \n",
       "142472  513600.HOF     2.543000     2.543000     2.499000     2.505000   \n",
       "\n",
       "              volume        amount       date  adjust_factor    turn  \n",
       "138     1.434553e+10  1.830046e+11 2017-11-27            1.0  0.5655  \n",
       "162     4.551696e+08  1.242201e+09 2017-11-27            1.0     NaN  \n",
       "165     1.334900e+06  3.492694e+06 2017-11-27            1.0     NaN  \n",
       "171     8.329925e+07  8.668271e+07 2017-11-27            1.0     NaN  \n",
       "311     1.020581e+10  1.355396e+11 2017-11-28            1.0  0.4023  \n",
       "...              ...           ...        ...            ...     ...  \n",
       "141721  1.420000e+05  3.605710e+05 2018-09-04            1.0     NaN  \n",
       "141725  3.115868e+08  8.204385e+08 2018-09-04            1.0     NaN  \n",
       "142464  7.408700e+07  5.316836e+07 2018-09-05            1.0     NaN  \n",
       "142469  3.148696e+08  8.266879e+08 2018-09-05            1.0     NaN  \n",
       "142472  1.891000e+05  4.760760e+05 2018-09-05            1.0     NaN  \n",
       "\n",
       "[768 rows x 10 columns]"
      ]
     },
     "execution_count": 29,
     "metadata": {},
     "output_type": "execute_result"
    }
   ],
   "source": [
    "m6.data_1.read()#.info()\n",
    "# m8.data.read()"
   ]
  },
  {
   "cell_type": "code",
   "execution_count": 27,
   "metadata": {
    "machine_learning_studio": "true",
    "ml_studio_json": "{\"Description\":\"实验创建于2017/8/26\",\"Summary\":\"\",\"Graph\":{\"EdgesInternal\":[{\"DestinationInputPortId\":\"-2513:input_1\",\"SourceOutputPortId\":\"-2431:data_1\"},{\"DestinationInputPortId\":\"-2431:input_1\",\"SourceOutputPortId\":\"-2440:data\"},{\"DestinationInputPortId\":\"-2513:input_2\",\"SourceOutputPortId\":\"-2450:data_1\"},{\"DestinationInputPortId\":\"-2450:input_1\",\"SourceOutputPortId\":\"-2459:data\"},{\"DestinationInputPortId\":\"-2469:history_ds\",\"SourceOutputPortId\":\"-2513:data_1\"},{\"DestinationInputPortId\":\"-2469:benchmark_ds\",\"SourceOutputPortId\":\"-2525:data_1\"},{\"DestinationInputPortId\":\"-2469:instruments\",\"SourceOutputPortId\":\"-3435:data\"}],\"ModuleNodes\":[{\"Id\":\"-2431\",\"ModuleId\":\"BigQuantSpace.cached.cached-v3\",\"ModuleParameters\":[{\"Name\":\"run\",\"Value\":\"# Python 代码入口函数，input_1/2/3 对应三个输入端，data_1/2/3 对应三个输出端\\ndef bigquant_run(input_1, input_2, input_3):\\n    # 示例代码如下。在这里编写您的代码\\n    df = input_1.read()\\n    lt = ['518880.HOF','513600.HOF','512880.HOF']\\n    df = df[(df['instrument']==lt[0])|(df['instrument']==lt[1])|(df['instrument']==lt[2])]\\n    \\n    data_1 = DataSource.write_df(df)\\n    return Outputs(data_1=data_1, data_2=None, data_3=None)\\n\",\"ValueType\":\"Literal\",\"LinkedGlobalParameter\":null},{\"Name\":\"post_run\",\"Value\":\"# 后处理函数，可选。输入是主函数的输出，可以在这里对数据做处理，或者返回更友好的outputs数据格式。此函数输出不会被缓存。\\ndef bigquant_run(outputs):\\n    return outputs\\n\",\"ValueType\":\"Literal\",\"LinkedGlobalParameter\":null},{\"Name\":\"input_ports\",\"Value\":\"\",\"ValueType\":\"Literal\",\"LinkedGlobalParameter\":null},{\"Name\":\"params\",\"Value\":\"{}\",\"ValueType\":\"Literal\",\"LinkedGlobalParameter\":null},{\"Name\":\"output_ports\",\"Value\":\"\",\"ValueType\":\"Literal\",\"LinkedGlobalParameter\":null}],\"InputPortsInternal\":[{\"DataSourceId\":null,\"TrainedModelId\":null,\"TransformModuleId\":null,\"Name\":\"input_1\",\"NodeId\":\"-2431\"},{\"DataSourceId\":null,\"TrainedModelId\":null,\"TransformModuleId\":null,\"Name\":\"input_2\",\"NodeId\":\"-2431\"},{\"DataSourceId\":null,\"TrainedModelId\":null,\"TransformModuleId\":null,\"Name\":\"input_3\",\"NodeId\":\"-2431\"}],\"OutputPortsInternal\":[{\"Name\":\"data_1\",\"NodeId\":\"-2431\",\"OutputType\":null},{\"Name\":\"data_2\",\"NodeId\":\"-2431\",\"OutputType\":null},{\"Name\":\"data_3\",\"NodeId\":\"-2431\",\"OutputType\":null}],\"UsePreviousResults\":true,\"moduleIdForCode\":1,\"Comment\":\"\",\"CommentCollapsed\":true},{\"Id\":\"-2440\",\"ModuleId\":\"BigQuantSpace.use_datasource.use_datasource-v1\",\"ModuleParameters\":[{\"Name\":\"datasource_id\",\"Value\":\"bar1d_CN_FUND\",\"ValueType\":\"Literal\",\"LinkedGlobalParameter\":null},{\"Name\":\"start_date\",\"Value\":\"2017-11-27\",\"ValueType\":\"Literal\",\"LinkedGlobalParameter\":null},{\"Name\":\"end_date\",\"Value\":\"2018-09-05\",\"ValueType\":\"Literal\",\"LinkedGlobalParameter\":null}],\"InputPortsInternal\":[{\"DataSourceId\":null,\"TrainedModelId\":null,\"TransformModuleId\":null,\"Name\":\"instruments\",\"NodeId\":\"-2440\"},{\"DataSourceId\":null,\"TrainedModelId\":null,\"TransformModuleId\":null,\"Name\":\"features\",\"NodeId\":\"-2440\"}],\"OutputPortsInternal\":[{\"Name\":\"data\",\"NodeId\":\"-2440\",\"OutputType\":null}],\"UsePreviousResults\":true,\"moduleIdForCode\":2,\"Comment\":\"\",\"CommentCollapsed\":true},{\"Id\":\"-2450\",\"ModuleId\":\"BigQuantSpace.cached.cached-v3\",\"ModuleParameters\":[{\"Name\":\"run\",\"Value\":\"# Python 代码入口函数，input_1/2/3 对应三个输入端，data_1/2/3 对应三个输出端\\ndef bigquant_run(input_1, input_2, input_3):\\n    # 示例代码如下。在这里编写您的代码\\n    df = input_1.read()\\n    lt = '000300.HIX'\\n    df = df[df['instrument']==lt]\\n    \\n    data_1 = DataSource.write_df(df)\\n    return Outputs(data_1=data_1, data_2=None, data_3=None)\\n\",\"ValueType\":\"Literal\",\"LinkedGlobalParameter\":null},{\"Name\":\"post_run\",\"Value\":\"# 后处理函数，可选。输入是主函数的输出，可以在这里对数据做处理，或者返回更友好的outputs数据格式。此函数输出不会被缓存。\\ndef bigquant_run(outputs):\\n    return outputs\\n\",\"ValueType\":\"Literal\",\"LinkedGlobalParameter\":null},{\"Name\":\"input_ports\",\"Value\":\"\",\"ValueType\":\"Literal\",\"LinkedGlobalParameter\":null},{\"Name\":\"params\",\"Value\":\"{}\",\"ValueType\":\"Literal\",\"LinkedGlobalParameter\":null},{\"Name\":\"output_ports\",\"Value\":\"\",\"ValueType\":\"Literal\",\"LinkedGlobalParameter\":null}],\"InputPortsInternal\":[{\"DataSourceId\":null,\"TrainedModelId\":null,\"TransformModuleId\":null,\"Name\":\"input_1\",\"NodeId\":\"-2450\"},{\"DataSourceId\":null,\"TrainedModelId\":null,\"TransformModuleId\":null,\"Name\":\"input_2\",\"NodeId\":\"-2450\"},{\"DataSourceId\":null,\"TrainedModelId\":null,\"TransformModuleId\":null,\"Name\":\"input_3\",\"NodeId\":\"-2450\"}],\"OutputPortsInternal\":[{\"Name\":\"data_1\",\"NodeId\":\"-2450\",\"OutputType\":null},{\"Name\":\"data_2\",\"NodeId\":\"-2450\",\"OutputType\":null},{\"Name\":\"data_3\",\"NodeId\":\"-2450\",\"OutputType\":null}],\"UsePreviousResults\":true,\"moduleIdForCode\":3,\"Comment\":\"\",\"CommentCollapsed\":true},{\"Id\":\"-2459\",\"ModuleId\":\"BigQuantSpace.use_datasource.use_datasource-v1\",\"ModuleParameters\":[{\"Name\":\"datasource_id\",\"Value\":\"bar1d_index_CN_STOCK_A\",\"ValueType\":\"Literal\",\"LinkedGlobalParameter\":null},{\"Name\":\"start_date\",\"Value\":\"2017-11-27\",\"ValueType\":\"Literal\",\"LinkedGlobalParameter\":null},{\"Name\":\"end_date\",\"Value\":\"2018-09-05\",\"ValueType\":\"Literal\",\"LinkedGlobalParameter\":null}],\"InputPortsInternal\":[{\"DataSourceId\":null,\"TrainedModelId\":null,\"TransformModuleId\":null,\"Name\":\"instruments\",\"NodeId\":\"-2459\"},{\"DataSourceId\":null,\"TrainedModelId\":null,\"TransformModuleId\":null,\"Name\":\"features\",\"NodeId\":\"-2459\"}],\"OutputPortsInternal\":[{\"Name\":\"data\",\"NodeId\":\"-2459\",\"OutputType\":null}],\"UsePreviousResults\":true,\"moduleIdForCode\":4,\"Comment\":\"\",\"CommentCollapsed\":true},{\"Id\":\"-2469\",\"ModuleId\":\"BigQuantSpace.trade.trade-v4\",\"ModuleParameters\":[{\"Name\":\"start_date\",\"Value\":\"2018-01-16\",\"ValueType\":\"Literal\",\"LinkedGlobalParameter\":null},{\"Name\":\"end_date\",\"Value\":\"2018-09-05\",\"ValueType\":\"Literal\",\"LinkedGlobalParameter\":null},{\"Name\":\"initialize\",\"Value\":\"def bigquant_run(context):\\n    set_commission(futures_commission=PerContract(cost={'IC':(0.0023, 0.0015, 0.0023)}))\\n    set_need_settle(False)\\n    context.length_1 = 5\\n    context.length_2 = 20\\n\",\"ValueType\":\"Literal\",\"LinkedGlobalParameter\":null},{\"Name\":\"handle_data\",\"Value\":\"def bigquant_run(context, data):\\n    \\n    #instrument = ['IC0000.CFX','IF0000.CFX','IH0000.CFX']\\n    instrument = ['518880.HOF','513600.HOF','512880.HOF']\\n\\n    today = data.current_dt.strftime('%Y-%m-%d')\\n    \\n    sid_ind = symbol('000300.HIX')\\n    sid_a = future_symbol(instrument[0])\\n    sid_b = future_symbol(instrument[1])\\n    sid_c = future_symbol(instrument[2])\\n    \\n    # 最新价格\\n    #price = data.current(sid, 'price')\\n    position_a = context.portfolio.positions[sid_a]\\n    position_b = context.portfolio.positions[sid_b]\\n    position_c = context.portfolio.positions[sid_c]\\n    curr_position_a = position_a.amount\\n    curr_position_b = position_b.amount\\n    curr_position_c = position_c.amount\\n    ma5_ind_price = data.history(sid_ind, 'price', context.length_1, '1d').mean()\\n    ma20_ind_price = data.history(sid_ind, 'price', context.length_2, '1d').mean() \\n\\n\\n    if ma5_ind_price > ma20_ind_price:\\n        if data.can_trade(sid_a) and curr_position_a == 0 :\\n            order_target_percent(sid_a, 0.2)\\n            print(get_datetime(), 'buy_a')\\n            if data.can_trade(sid_b) and curr_position_b > 0:\\n                order_target_percent(sid_b, 0)\\n                print(get_datetime(), 'sell_b')\\n            elif data.can_trade(sid_c) and curr_position_c > 0:\\n                order_target_percent(sid_c, 0)\\n                print(get_datetime(), 'sell_c')\\n        \\n    elif ma5_ind_price < ma20_ind_price:\\n        if data.can_trade(sid_b) and curr_position_b == 0 :\\n            order_target_percent(sid_b, 0.2)\\n            print(get_datetime(), 'buy_b')\\n            if data.can_trade(sid_a) and curr_position_a > 0:\\n                order_target_percent(sid_a, 0)\\n                print('=='*10,curr_position_a)\\n                print(get_datetime(), 'sell_a')\\n            elif data.can_trade(sid_c) and curr_position_c > 0:\\n                order_target_percent(sid_c, 0)\\n                print(get_datetime(), 'sell_c')\\n            \\n    elif ma5_ind_price == ma20_ind_price:\\n        if data.can_trade(sid_c) and curr_position_c == 0 :\\n            order_target_percent(sid_c, 0.2)\\n            print(get_datetime(), 'buy_c')\\n            if data.can_trade(sid_a) and curr_position_a > 0:\\n                order_target_percent(sid_a, 0)\\n                print(get_datetime(), 'sell_a')\\n            elif data.can_trade(sid_b) and curr_position_b > 0:\\n                order_target_percent(sid_b, 0)\\n                print(get_datetime(), 'sell_b')\",\"ValueType\":\"Literal\",\"LinkedGlobalParameter\":null},{\"Name\":\"prepare\",\"Value\":\"# 回测引擎：准备数据，只执行一次\\ndef bigquant_run(context):\\n    pass\\n\",\"ValueType\":\"Literal\",\"LinkedGlobalParameter\":null},{\"Name\":\"before_trading_start\",\"Value\":\"# 回测引擎：每个单位时间开始前调用一次，即每日开盘前调用一次。\\ndef bigquant_run(context, data):\\n    pass\\n\",\"ValueType\":\"Literal\",\"LinkedGlobalParameter\":null},{\"Name\":\"volume_limit\",\"Value\":\"0.026\",\"ValueType\":\"Literal\",\"LinkedGlobalParameter\":null},{\"Name\":\"order_price_field_buy\",\"Value\":\"open\",\"ValueType\":\"Literal\",\"LinkedGlobalParameter\":null},{\"Name\":\"order_price_field_sell\",\"Value\":\"close\",\"ValueType\":\"Literal\",\"LinkedGlobalParameter\":null},{\"Name\":\"capital_base\",\"Value\":\"2000\",\"ValueType\":\"Literal\",\"LinkedGlobalParameter\":null},{\"Name\":\"auto_cancel_non_tradable_orders\",\"Value\":\"True\",\"ValueType\":\"Literal\",\"LinkedGlobalParameter\":null},{\"Name\":\"data_frequency\",\"Value\":\"daily\",\"ValueType\":\"Literal\",\"LinkedGlobalParameter\":null},{\"Name\":\"price_type\",\"Value\":\"真实价格\",\"ValueType\":\"Literal\",\"LinkedGlobalParameter\":null},{\"Name\":\"product_type\",\"Value\":\"股票\",\"ValueType\":\"Literal\",\"LinkedGlobalParameter\":null},{\"Name\":\"plot_charts\",\"Value\":\"True\",\"ValueType\":\"Literal\",\"LinkedGlobalParameter\":null},{\"Name\":\"backtest_only\",\"Value\":\"False\",\"ValueType\":\"Literal\",\"LinkedGlobalParameter\":null},{\"Name\":\"benchmark\",\"Value\":\"\",\"ValueType\":\"Literal\",\"LinkedGlobalParameter\":null}],\"InputPortsInternal\":[{\"DataSourceId\":null,\"TrainedModelId\":null,\"TransformModuleId\":null,\"Name\":\"instruments\",\"NodeId\":\"-2469\"},{\"DataSourceId\":null,\"TrainedModelId\":null,\"TransformModuleId\":null,\"Name\":\"options_data\",\"NodeId\":\"-2469\"},{\"DataSourceId\":null,\"TrainedModelId\":null,\"TransformModuleId\":null,\"Name\":\"history_ds\",\"NodeId\":\"-2469\"},{\"DataSourceId\":null,\"TrainedModelId\":null,\"TransformModuleId\":null,\"Name\":\"benchmark_ds\",\"NodeId\":\"-2469\"},{\"DataSourceId\":null,\"TrainedModelId\":null,\"TransformModuleId\":null,\"Name\":\"trading_calendar\",\"NodeId\":\"-2469\"}],\"OutputPortsInternal\":[{\"Name\":\"raw_perf\",\"NodeId\":\"-2469\",\"OutputType\":null}],\"UsePreviousResults\":false,\"moduleIdForCode\":5,\"Comment\":\"\",\"CommentCollapsed\":true},{\"Id\":\"-2513\",\"ModuleId\":\"BigQuantSpace.cached.cached-v3\",\"ModuleParameters\":[{\"Name\":\"run\",\"Value\":\"# Python 代码入口函数，input_1/2/3 对应三个输入端，data_1/2/3 对应三个输出端\\ndef bigquant_run(input_1, input_2, input_3):\\n    # 示例代码如下。在这里编写您的代码\\n    datadf = input_1.read()\\n    datadf_ind = input_2.read()   \\n    \\n    history_ds = DataSource.write_df(pd.concat([datadf,datadf_ind],axis=0))\\n    return Outputs(data_1=history_ds, data_2=None, data_3=None)\\n\",\"ValueType\":\"Literal\",\"LinkedGlobalParameter\":null},{\"Name\":\"post_run\",\"Value\":\"# 后处理函数，可选。输入是主函数的输出，可以在这里对数据做处理，或者返回更友好的outputs数据格式。此函数输出不会被缓存。\\ndef bigquant_run(outputs):\\n    return outputs\\n\",\"ValueType\":\"Literal\",\"LinkedGlobalParameter\":null},{\"Name\":\"input_ports\",\"Value\":\"\",\"ValueType\":\"Literal\",\"LinkedGlobalParameter\":null},{\"Name\":\"params\",\"Value\":\"{}\",\"ValueType\":\"Literal\",\"LinkedGlobalParameter\":null},{\"Name\":\"output_ports\",\"Value\":\"\",\"ValueType\":\"Literal\",\"LinkedGlobalParameter\":null}],\"InputPortsInternal\":[{\"DataSourceId\":null,\"TrainedModelId\":null,\"TransformModuleId\":null,\"Name\":\"input_1\",\"NodeId\":\"-2513\"},{\"DataSourceId\":null,\"TrainedModelId\":null,\"TransformModuleId\":null,\"Name\":\"input_2\",\"NodeId\":\"-2513\"},{\"DataSourceId\":null,\"TrainedModelId\":null,\"TransformModuleId\":null,\"Name\":\"input_3\",\"NodeId\":\"-2513\"}],\"OutputPortsInternal\":[{\"Name\":\"data_1\",\"NodeId\":\"-2513\",\"OutputType\":null},{\"Name\":\"data_2\",\"NodeId\":\"-2513\",\"OutputType\":null},{\"Name\":\"data_3\",\"NodeId\":\"-2513\",\"OutputType\":null}],\"UsePreviousResults\":true,\"moduleIdForCode\":6,\"Comment\":\"\",\"CommentCollapsed\":true},{\"Id\":\"-2525\",\"ModuleId\":\"BigQuantSpace.cached.cached-v3\",\"ModuleParameters\":[{\"Name\":\"run\",\"Value\":\"# Python 代码入口函数，input_1/2/3 对应三个输入端，data_1/2/3 对应三个输出端\\ndef bigquant_run(input_1, input_2, input_3):\\n    # 示例代码如下。在这里编写您的代码\\n    start_date = '2017-11-27'\\n    end_date = '2018-09-05'\\n    bm_instruments = ['000300.HIX']\\n    start = pd.to_datetime(start_date)-datetime.timedelta(50)\\n    start = start.strftime('%Y-%m-%d')\\n    id_ohlc = 'bar1d_index_CN_STOCK_A'\\n    origin_fields=['open', 'high', 'low', 'close', 'volume', 'amount']\\n    ohlc_df = DataSource(id_ohlc).read(instruments=bm_instruments, start_date=start, end_date=end_date,\\n                                  fields=origin_fields)\\n\\n    ohlc_df.rename({'s_dq_close':'close', 's_dq_high':'high', 's_dq_open':'open', 's_dq_low':'low', 's_dq_volume':'volume', 's_dq_amount':'amount'},axis=1, inplace=True)\\n    benchmark_ds = DataSource.write_df(ohlc_df)\\n    return Outputs(data_1=benchmark_ds, data_2=None, data_3=None)\\n\",\"ValueType\":\"Literal\",\"LinkedGlobalParameter\":null},{\"Name\":\"post_run\",\"Value\":\"# 后处理函数，可选。输入是主函数的输出，可以在这里对数据做处理，或者返回更友好的outputs数据格式。此函数输出不会被缓存。\\ndef bigquant_run(outputs):\\n    return outputs\\n\",\"ValueType\":\"Literal\",\"LinkedGlobalParameter\":null},{\"Name\":\"input_ports\",\"Value\":\"\",\"ValueType\":\"Literal\",\"LinkedGlobalParameter\":null},{\"Name\":\"params\",\"Value\":\"{}\",\"ValueType\":\"Literal\",\"LinkedGlobalParameter\":null},{\"Name\":\"output_ports\",\"Value\":\"\",\"ValueType\":\"Literal\",\"LinkedGlobalParameter\":null}],\"InputPortsInternal\":[{\"DataSourceId\":null,\"TrainedModelId\":null,\"TransformModuleId\":null,\"Name\":\"input_1\",\"NodeId\":\"-2525\"},{\"DataSourceId\":null,\"TrainedModelId\":null,\"TransformModuleId\":null,\"Name\":\"input_2\",\"NodeId\":\"-2525\"},{\"DataSourceId\":null,\"TrainedModelId\":null,\"TransformModuleId\":null,\"Name\":\"input_3\",\"NodeId\":\"-2525\"}],\"OutputPortsInternal\":[{\"Name\":\"data_1\",\"NodeId\":\"-2525\",\"OutputType\":null},{\"Name\":\"data_2\",\"NodeId\":\"-2525\",\"OutputType\":null},{\"Name\":\"data_3\",\"NodeId\":\"-2525\",\"OutputType\":null}],\"UsePreviousResults\":true,\"moduleIdForCode\":7,\"Comment\":\"\",\"CommentCollapsed\":true},{\"Id\":\"-3435\",\"ModuleId\":\"BigQuantSpace.instruments.instruments-v2\",\"ModuleParameters\":[{\"Name\":\"start_date\",\"Value\":\"2017-11-27\",\"ValueType\":\"Literal\",\"LinkedGlobalParameter\":null},{\"Name\":\"end_date\",\"Value\":\"2018-09-05\",\"ValueType\":\"Literal\",\"LinkedGlobalParameter\":null},{\"Name\":\"market\",\"Value\":\"CN_FUND\",\"ValueType\":\"Literal\",\"LinkedGlobalParameter\":null},{\"Name\":\"instrument_list\",\"Value\":\"['518880.HOF','513600.HOF','512880.HOF']\",\"ValueType\":\"Literal\",\"LinkedGlobalParameter\":null},{\"Name\":\"max_count\",\"Value\":0,\"ValueType\":\"Literal\",\"LinkedGlobalParameter\":null}],\"InputPortsInternal\":[{\"DataSourceId\":null,\"TrainedModelId\":null,\"TransformModuleId\":null,\"Name\":\"rolling_conf\",\"NodeId\":\"-3435\"}],\"OutputPortsInternal\":[{\"Name\":\"data\",\"NodeId\":\"-3435\",\"OutputType\":null}],\"UsePreviousResults\":true,\"moduleIdForCode\":8,\"Comment\":\"\",\"CommentCollapsed\":true}],\"SerializedClientData\":\"<?xml version='1.0' encoding='utf-16'?><DataV1 xmlns:xsd='http://www.w3.org/2001/XMLSchema' xmlns:xsi='http://www.w3.org/2001/XMLSchema-instance'><Meta /><NodePositions><NodePosition Node='-2431' Position='754.2525024414062,91.77722930908203,200,200'/><NodePosition Node='-2440' Position='602.9158325195312,-26.054458618164062,200,200'/><NodePosition Node='-2450' Position='1127,48.18316650390625,200,200'/><NodePosition Node='-2459' Position='1127.5989990234375,-29.504948139190674,200,200'/><NodePosition Node='-2469' Position='720.17822265625,436.5544738769531,200,200'/><NodePosition Node='-2513' Position='788.7574462890625,190.9851531982422,200,200'/><NodePosition Node='-2525' Position='1041.2178955078125,317.1435546875,200,200'/><NodePosition Node='-3435' Position='441.81683349609375,304.5940856933594,200,200'/></NodePositions><NodeGroups /></DataV1>\"},\"IsDraft\":true,\"ParentExperimentId\":null,\"WebService\":{\"IsWebServiceExperiment\":false,\"Inputs\":[],\"Outputs\":[],\"Parameters\":[{\"Name\":\"交易日期\",\"Value\":\"\",\"ParameterDefinition\":{\"Name\":\"交易日期\",\"FriendlyName\":\"交易日期\",\"DefaultValue\":\"\",\"ParameterType\":\"String\",\"HasDefaultValue\":true,\"IsOptional\":true,\"ParameterRules\":[],\"HasRules\":false,\"MarkupType\":0,\"CredentialDescriptor\":null}}],\"WebServiceGroupId\":null,\"SerializedClientData\":\"<?xml version='1.0' encoding='utf-16'?><DataV1 xmlns:xsd='http://www.w3.org/2001/XMLSchema' xmlns:xsi='http://www.w3.org/2001/XMLSchema-instance'><Meta /><NodePositions></NodePositions><NodeGroups /></DataV1>\"},\"DisableNodesUpdate\":false,\"Category\":\"user\",\"Tags\":[],\"IsPartialRun\":true}"
   },
   "outputs": [
    {
     "data": {
      "text/plain": [
       "[2021-12-10 22:09:26.930149] INFO: moduleinvoker: use_datasource.v1 开始运行.."
      ]
     },
     "metadata": {
      "is_log": true,
      "status": "INFO"
     },
     "output_type": "display_data"
    },
    {
     "data": {
      "text/plain": [
       "[2021-12-10 22:09:32.882798] INFO: moduleinvoker: use_datasource.v1 运行完成[5.958158s]."
      ]
     },
     "metadata": {
      "is_log": true,
      "status": "INFO"
     },
     "output_type": "display_data"
    },
    {
     "data": {
      "text/plain": [
       "[2021-12-10 22:09:32.948253] INFO: moduleinvoker: cached.v3 开始运行.."
      ]
     },
     "metadata": {
      "is_log": true,
      "status": "INFO"
     },
     "output_type": "display_data"
    },
    {
     "data": {
      "text/plain": [
       "[2021-12-10 22:09:33.766986] INFO: moduleinvoker: cached.v3 运行完成[0.818726s]."
      ]
     },
     "metadata": {
      "is_log": true,
      "status": "INFO"
     },
     "output_type": "display_data"
    },
    {
     "data": {
      "text/plain": [
       "[2021-12-10 22:09:33.777885] INFO: moduleinvoker: use_datasource.v1 开始运行.."
      ]
     },
     "metadata": {
      "is_log": true,
      "status": "INFO"
     },
     "output_type": "display_data"
    },
    {
     "data": {
      "text/plain": [
       "[2021-12-10 22:10:02.454898] INFO: moduleinvoker: use_datasource.v1 运行完成[28.677025s]."
      ]
     },
     "metadata": {
      "is_log": true,
      "status": "INFO"
     },
     "output_type": "display_data"
    },
    {
     "data": {
      "text/plain": [
       "[2021-12-10 22:10:02.472216] INFO: moduleinvoker: cached.v3 开始运行.."
      ]
     },
     "metadata": {
      "is_log": true,
      "status": "INFO"
     },
     "output_type": "display_data"
    },
    {
     "data": {
      "text/plain": [
       "[2021-12-10 22:10:02.794805] INFO: moduleinvoker: cached.v3 运行完成[0.322586s]."
      ]
     },
     "metadata": {
      "is_log": true,
      "status": "INFO"
     },
     "output_type": "display_data"
    },
    {
     "data": {
      "text/plain": [
       "[2021-12-10 22:10:02.812255] INFO: moduleinvoker: cached.v3 开始运行.."
      ]
     },
     "metadata": {
      "is_log": true,
      "status": "INFO"
     },
     "output_type": "display_data"
    },
    {
     "data": {
      "text/plain": [
       "[2021-12-10 22:10:03.192361] INFO: moduleinvoker: cached.v3 运行完成[0.380093s]."
      ]
     },
     "metadata": {
      "is_log": true,
      "status": "INFO"
     },
     "output_type": "display_data"
    },
    {
     "data": {
      "text/plain": [
       "[2021-12-10 22:10:03.213589] INFO: moduleinvoker: cached.v3 开始运行.."
      ]
     },
     "metadata": {
      "is_log": true,
      "status": "INFO"
     },
     "output_type": "display_data"
    },
    {
     "data": {
      "text/plain": [
       "[2021-12-10 22:10:03.483821] INFO: moduleinvoker: cached.v3 运行完成[0.270223s]."
      ]
     },
     "metadata": {
      "is_log": true,
      "status": "INFO"
     },
     "output_type": "display_data"
    },
    {
     "data": {
      "text/plain": [
       "[2021-12-10 22:10:03.502708] INFO: moduleinvoker: instruments.v2 开始运行.."
      ]
     },
     "metadata": {
      "is_log": true,
      "status": "INFO"
     },
     "output_type": "display_data"
    },
    {
     "data": {
      "text/plain": [
       "[2021-12-10 22:10:03.552932] INFO: moduleinvoker: instruments.v2 运行完成[0.050239s]."
      ]
     },
     "metadata": {
      "is_log": true,
      "status": "INFO"
     },
     "output_type": "display_data"
    },
    {
     "data": {
      "text/plain": [
       "[2021-12-10 22:10:03.645230] INFO: moduleinvoker: backtest.v8 开始运行.."
      ]
     },
     "metadata": {
      "is_log": true,
      "status": "INFO"
     },
     "output_type": "display_data"
    },
    {
     "data": {
      "text/plain": [
       "[2021-12-10 22:10:03.652822] INFO: backtest: biglearning backtest:V8.6.0"
      ]
     },
     "metadata": {
      "is_log": true,
      "status": "INFO"
     },
     "output_type": "display_data"
    },
    {
     "data": {
      "text/plain": [
       "[2021-12-10 22:10:03.654469] INFO: backtest: product_type:stock by specified"
      ]
     },
     "metadata": {
      "is_log": true,
      "status": "INFO"
     },
     "output_type": "display_data"
    },
    {
     "data": {
      "text/plain": [
       "[2021-12-10 22:10:03.656730] INFO: backtest: 其它市场:{\"HOF\\',\\'513600\"}"
      ]
     },
     "metadata": {
      "is_log": true,
      "status": "INFO"
     },
     "output_type": "display_data"
    },
    {
     "data": {
      "text/plain": [
       "[2021-12-10 22:10:04.002749] INFO: algo: TradingAlgorithm V1.8.5"
      ]
     },
     "metadata": {
      "is_log": true,
      "status": "INFO"
     },
     "output_type": "display_data"
    },
    {
     "data": {
      "text/plain": [
       "[2021-12-10 22:10:04.307318] INFO: algo: trading transform..."
      ]
     },
     "metadata": {
      "is_log": true,
      "status": "INFO"
     },
     "output_type": "display_data"
    },
    {
     "name": "stdout",
     "output_type": "stream",
     "text": [
      "2018-01-16 15:00:00+00:00 buy_a\n",
      "2018-02-02 15:00:00+00:00 buy_b\n",
      "==================== 100\n",
      "2018-02-02 15:00:00+00:00 sell_a\n"
     ]
    },
    {
     "name": "stdout",
     "output_type": "stream",
     "text": [
      "2018-03-09 15:00:00+00:00 buy_a\n",
      "2018-03-09 15:00:00+00:00 sell_b\n",
      "2018-03-22 15:00:00+00:00 buy_b\n",
      "==================== 100\n",
      "2018-03-22 15:00:00+00:00 sell_a\n"
     ]
    },
    {
     "name": "stdout",
     "output_type": "stream",
     "text": [
      "2018-05-09 15:00:00+00:00 buy_a\n",
      "2018-05-09 15:00:00+00:00 sell_b\n",
      "2018-05-28 15:00:00+00:00 buy_b\n",
      "==================== 100\n",
      "2018-05-28 15:00:00+00:00 sell_a\n"
     ]
    },
    {
     "name": "stdout",
     "output_type": "stream",
     "text": [
      "2018-07-18 15:00:00+00:00 buy_a\n",
      "2018-07-18 15:00:00+00:00 sell_b\n",
      "2018-08-02 15:00:00+00:00 buy_b\n",
      "==================== 100\n",
      "2018-08-02 15:00:00+00:00 sell_a\n"
     ]
    },
    {
     "name": "stdout",
     "output_type": "stream",
     "text": [
      "2018-08-28 15:00:00+00:00 buy_a\n",
      "2018-08-28 15:00:00+00:00 sell_b\n",
      "2018-09-05 15:00:00+00:00 buy_b\n",
      "==================== 100\n",
      "2018-09-05 15:00:00+00:00 sell_a\n"
     ]
    },
    {
     "data": {
      "text/plain": [
       "[2021-12-10 22:10:06.321965] INFO: Performance: Simulated 157 trading days out of 157."
      ]
     },
     "metadata": {
      "is_log": true,
      "status": "INFO"
     },
     "output_type": "display_data"
    },
    {
     "data": {
      "text/plain": [
       "[2021-12-10 22:10:06.324652] INFO: Performance: first open: 2018-01-16 09:30:00+00:00"
      ]
     },
     "metadata": {
      "is_log": true,
      "status": "INFO"
     },
     "output_type": "display_data"
    },
    {
     "data": {
      "text/plain": [
       "[2021-12-10 22:10:06.326112] INFO: Performance: last close: 2018-09-05 15:00:00+00:00"
      ]
     },
     "metadata": {
      "is_log": true,
      "status": "INFO"
     },
     "output_type": "display_data"
    },
    {
     "data": {
      "text/html": [
       "<div id='bigchart-d3837ee23a844911a10dfe8c4b783e92' class='bigchart display' style='display:none'><ul class='nav nav-tabs' style='padding-left: 0;'><li class='tabtitle' style='margin: 0;'><span style='margin: 0;font-size: 1.2em;display: inline-block;padding: 10px 10px;'>Trade(回测/模拟)</span></li><li class='active'><a>收益概况</a></li><li><a>交易详情</a></li><li><a>每日持仓和收益</a></li><li><a>输出日志</a></li></ul><div class='tab-content' style='min-height: 100px;text-align: center;'><div class='tab-pane active' id='收益概况'>\n",
       "<div class='kpicontainer'>\n",
       "    <ul class='kpi'>\n",
       "        <li><span class='title'>收益率</span><span class='value'>-4.93%</span></li>\n",
       "        <li><span class='title'>年化收益率</span><span class='value'>-7.79%</span></li>\n",
       "        <li><span class='title'>基准收益率</span><span class='value'>-21.94%</span></li>\n",
       "        <li><span class='title'>阿尔法</span><span class='value'>-0.07</span></li>\n",
       "        <li><span class='title'>贝塔</span><span class='value'>0.08</span></li>\n",
       "        <li><span class='title'>夏普比率</span><span class='value'>-3.75</span></li>\n",
       "        <li><span class='title'>胜率</span><span class='value'>0.5</span></li>\n",
       "        <li><span class='title'>盈亏比</span><span class='value'>0.53</span></li>\n",
       "        <li><span class='title'>收益波动率</span><span class='value'>2.94%</span></li>\n",
       "        <li><span class='title'>信息比率</span><span class='value'>0.1</span></li>\n",
       "        <li><span class='title'>最大回撤</span><span class='value'>4.93%</span></li>\n",
       "    </ul>\n",
       "</div>\n",
       "<div id=\"bigchart-4028e59ec62e4bd98f821c49e4368db6\" class=\"bigchart\"></div><div class=\"bigchart-data\"><pre style=\"display:none\">bigcharts-data-start/{\"chart\":{\"height\":400,\"renderTo\":\"bigchart-4028e59ec62e4bd98f821c49e4368db6\"},\"legend\":{\"enabled\":true,\"symbolHeight\":8,\"symbolWidth\":8,\"symbolPadding\":8,\"symbolRadius\":0},\"stock\":true,\"series\":[{\"name\":\"\\u7b56\\u7565\\u6536\\u76ca\\u7387\",\"yAxis\":0,\"data\":[[1516114800000,0.0],[1516201200000,-0.295],[1516287600000,-0.37],[1516374000000,-0.41],[1516633200000,-0.395],[1516719600000,-0.355],[1516806000000,-0.295],[1516892400000,-0.245],[1516978800000,-0.33],[1517238000000,-0.395],[1517324400000,-0.51],[1517410800000,-0.49],[1517497200000,-0.52],[1517583600000,-0.51],[1517842800000,-1.105],[1517929200000,-1.755],[1518015600000,-1.92],[1518102000000,-1.885],[1518188400000,-2.32],[1518447600000,-2.205],[1518534000000,-2.07],[1518620400000,-1.855],[1519311600000,-1.53],[1519398000000,-1.405],[1519657200000,-1.35],[1519743600000,-1.445],[1519830000000,-1.675],[1519916400000,-1.63],[1520002800000,-1.7],[1520262000000,-1.865],[1520348400000,-1.705],[1520434800000,-1.835],[1520521200000,-1.655],[1520607600000,-1.525],[1520866800000,-1.765],[1520953200000,-1.77],[1521039600000,-1.75],[1521126000000,-1.765],[1521212400000,-1.82],[1521471600000,-1.87],[1521558000000,-1.815],[1521644400000,-1.81],[1521730800000,-1.695],[1521817200000,-2.075],[1522076400000,-1.985],[1522162800000,-1.865],[1522249200000,-2.09],[1522335600000,-2.1],[1522422000000,-2.145],[1522681200000,-2.165],[1522767600000,-2.16],[1522854000000,-2.25],[1523286000000,-2.065],[1523372400000,-1.86],[1523458800000,-1.82],[1523545200000,-1.945],[1523631600000,-1.87],[1523890800000,-2.075],[1523977200000,-2.155],[1524063600000,-2.115],[1524150000000,-1.975],[1524236400000,-1.97],[1524495600000,-2.065],[1524582000000,-1.915],[1524668400000,-2.05],[1524754800000,-2.165],[1524841200000,-2.015],[1525273200000,-1.8],[1525359600000,-1.905],[1525446000000,-2.055],[1525705200000,-2.095],[1525791600000,-1.895],[1525878000000,-1.87],[1525964400000,-2.2],[1526050800000,-2.185],[1526310000000,-2.18],[1526396400000,-2.25],[1526482800000,-2.38],[1526569200000,-2.44],[1526655600000,-2.43],[1526914800000,-2.455],[1527001200000,-2.42],[1527087600000,-2.405],[1527174000000,-2.325],[1527260400000,-2.26],[1527519600000,-2.315],[1527606000000,-3.04],[1527692400000,-3.22],[1527778800000,-3.08],[1527865200000,-3.05],[1528124400000,-2.86],[1528210800000,-2.745],[1528297200000,-2.685],[1528383600000,-2.605],[1528470000000,-2.815],[1528729200000,-2.775],[1528815600000,-2.695],[1528902000000,-2.845],[1528988400000,-3.035],[1529074800000,-2.975],[1529420400000,-3.425],[1529506800000,-3.235],[1529593200000,-3.435],[1529679600000,-3.575],[1529938800000,-3.525],[1530025200000,-3.545],[1530111600000,-3.64],[1530198000000,-3.72],[1530284400000,-3.375],[1530543600000,-3.57],[1530630000000,-3.525],[1530716400000,-3.635],[1530802800000,-3.75],[1530889200000,-3.55],[1531148400000,-3.245],[1531234800000,-3.305],[1531321200000,-3.505],[1531407600000,-3.315],[1531494000000,-3.32],[1531753200000,-3.36],[1531839600000,-3.495],[1531926000000,-3.48],[1532012400000,-3.945],[1532098800000,-3.92],[1532358000000,-3.855],[1532444400000,-3.865],[1532530800000,-3.855],[1532617200000,-3.835],[1532703600000,-3.85],[1532962800000,-3.84],[1533049200000,-3.83],[1533135600000,-3.835],[1533222000000,-3.875],[1533308400000,-4.61],[1533567600000,-4.51],[1533654000000,-4.325],[1533740400000,-4.335],[1533826800000,-4.17],[1533913200000,-4.285],[1534172400000,-4.555],[1534258800000,-4.53],[1534345200000,-4.555],[1534431600000,-4.42],[1534518000000,-4.59],[1534777200000,-4.455],[1534863600000,-4.44],[1534950000000,-4.44],[1535036400000,-4.65],[1535122800000,-4.495],[1535382000000,-4.265],[1535468400000,-4.345],[1535554800000,-4.855],[1535641200000,-4.84],[1535727600000,-4.815],[1535986800000,-4.87],[1536073200000,-4.915],[1536159600000,-4.925]],\"color\":\"#ff0000\",\"tooltip\":{\"valueDecimals\":2,\"valueSuffix\":\" %\"},\"type\":\"area\",\"fillColor\":{\"linearGradient\":[0,0,0,1],\"stops\":[[0,\"rgba(238,149,148,0.5)\"],[1,\"rgba(238,149,148,0.5)\"]]}},{\"name\":\"\\u57fa\\u51c6\\u6536\\u76ca\\u7387\",\"yAxis\":0,\"data\":[[1516114800000,0.7866],[1516201200000,0.5414],[1516287600000,1.0929],[1516374000000,1.4237],[1516633200000,2.6355],[1516719600000,3.7246],[1516806000000,3.8967],[1516892400000,3.3096],[1516978800000,3.6935],[1517238000000,1.8171],[1517324400000,0.7304],[1517410800000,1.199],[1517497200000,0.4889],[1517583600000,1.0885],[1517842800000,1.1575],[1517929200000,-1.8071],[1518015600000,-4.1357],[1518102000000,-5.0457],[1518188400000,-9.1021],[1518447600000,-7.9317],[1518534000000,-6.8542],[1518620400000,-6.1127],[1519311600000,-4.0828],[1519398000000,-3.6483],[1519657200000,-2.5282],[1519743600000,-3.9349],[1519830000000,-4.7713],[1519916400000,-4.1691],[1520002800000,-4.9412],[1520262000000,-4.9025],[1520348400000,-3.7554],[1520434800000,-4.4633],[1520521200000,-3.4942],[1520607600000,-2.7543],[1520866800000,-2.3093],[1520953200000,-3.1711],[1521039600000,-3.5949],[1521126000000,-3.0549],[1521212400000,-3.9954],[1521471600000,-3.5736],[1521558000000,-3.4918],[1521644400000,-3.8859],[1521730800000,-4.8492],[1521817200000,-7.5807],[1522076400000,-8.1734],[1522162800000,-7.3835],[1522249200000,-9.0533],[1522335600000,-7.8384],[1522422000000,-7.7331],[1522681200000,-8.0071],[1522767600000,-8.5856],[1522854000000,-8.7658],[1523286000000,-8.8116],[1523372400000,-7.0544],[1523458800000,-6.7901],[1523545200000,-7.7298],[1523631600000,-8.3805],[1523890800000,-9.8545],[1523977200000,-11.2798],[1524063600000,-10.8623],[1524150000000,-9.784],[1524236400000,-10.9908],[1524495600000,-10.8613],[1524582000000,-9.035],[1524668400000,-9.385],[1524754800000,-11.1176],[1524841200000,-11.0849],[1525273200000,-10.9247],[1525359600000,-10.23],[1525446000000,-10.6655],[1525705200000,-9.2552],[1525791600000,-8.2022],[1525878000000,-8.3693],[1525964400000,-7.8619],[1526050800000,-8.3404],[1526310000000,-7.4776],[1526396400000,-7.1272],[1526482800000,-7.8669],[1526569200000,-8.5484],[1526655600000,-7.625],[1526914800000,-7.1948],[1527001200000,-7.5506],[1527087600000,-8.7725],[1527174000000,-9.4201],[1527260400000,-9.6738],[1527519600000,-9.2771],[1527606000000,-9.9694],[1527692400000,-11.8778],[1527778800000,-10.008],[1527865200000,-10.7603],[1528124400000,-9.8849],[1528210800000,-8.9918],[1528297200000,-9.1803],[1528383600000,-9.3303],[1528470000000,-10.5467],[1528729200000,-10.538],[1528815600000,-9.45],[1528902000000,-10.3403],[1528988400000,-10.6946],[1529074800000,-11.1664],[1529420400000,-14.298],[1529506800000,-13.9589],[1529593200000,-14.9642],[1529679600000,-14.587],[1529938800000,-15.7331],[1530025200000,-16.4282],[1530111600000,-18.1286],[1530198000000,-18.9744],[1530284400000,-16.9045],[1530543600000,-19.3427],[1530630000000,-19.3116],[1530716400000,-20.3892],[1530802800000,-20.8935],[1530889200000,-20.3566],[1531148400000,-18.1305],[1531234800000,-17.9333],[1531321200000,-19.353],[1531407600000,-17.6128],[1531494000000,-17.3375],[1531753200000,-17.8251],[1531839600000,-18.3625],[1531926000000,-18.7898],[1532012400000,-18.8604],[1532098800000,-17.3326],[1532358000000,-16.555],[1532444400000,-15.2307],[1532530800000,-15.3243],[1532617200000,-16.3066],[1532703600000,-16.6621],[1532962800000,-16.8076],[1533049200000,-16.7466],[1533135600000,-18.4096],[1533222000000,-20.2185],[1533308400000,-21.5362],[1533567600000,-22.5305],[1533654000000,-20.268],[1533740400000,-21.5546],[1533826800000,-19.5896],[1533913200000,-19.4124],[1534172400000,-19.7597],[1534258800000,-20.1722],[1534345200000,-22.0878],[1534431600000,-22.4487],[1534518000000,-23.5636],[1534777200000,-22.673],[1534863600000,-21.2672],[1534950000000,-21.7097],[1535036400000,-21.424],[1535122800000,-21.2983],[1535382000000,-19.3756],[1535468400000,-19.5272],[1535554800000,-19.849],[1535641200000,-20.6887],[1535727600000,-21.0813],[1535986800000,-21.3814],[1536073200000,-20.3856],[1536159600000,-21.9419]],\"color\":\"#2776B6\",\"tooltip\":{\"valueDecimals\":2,\"valueSuffix\":\" %\"}},{\"name\":\"\\u76f8\\u5bf9\\u6536\\u76ca\\u7387\",\"yAxis\":0,\"data\":[[1516114800000,-0.7866],[1516201200000,-0.8379],[1516287600000,-1.4564],[1516374000000,-1.8185],[1516633200000,-2.9768],[1516719600000,-3.9673],[1516806000000,-4.0689],[1516892400000,-3.4787],[1516978800000,-3.9196],[1517238000000,-2.2436],[1517324400000,-1.3131],[1517410800000,-1.7523],[1517497200000,-1.0926],[1517583600000,-1.6728],[1517842800000,-2.3279],[1517929200000,-0.1075],[1518015600000,2.0937],[1518102000000,3.0992],[1518188400000,7.0465],[1518447600000,5.7942],[1518534000000,4.7021],[1518620400000,4.0985],[1519311600000,2.1925],[1519398000000,1.8593],[1519657200000,0.732],[1519743600000,2.0888],[1519830000000,2.7393],[1519916400000,2.1366],[1520002800000,2.8869],[1520262000000,2.6723],[1520348400000,1.6012],[1520434800000,2.2142],[1520521200000,1.3648],[1520607600000,0.7216],[1520866800000,0.0152],[1520953200000,0.8924],[1521039600000,1.3546],[1521126000000,0.7714],[1521212400000,1.6926],[1521471600000,1.194],[1521558000000,1.1648],[1521644400000,1.5832],[1521730800000,2.7202],[1521817200000,5.272],[1522076400000,6.0438],[1522162800000,5.2615],[1522249200000,6.9179],[1522335600000,5.4787],[1522422000000,5.3097],[1522681200000,5.601],[1522767600000,6.2704],[1522854000000,6.3822],[1523286000000,6.6369],[1523372400000,4.8052],[1523458800000,4.5498],[1523545200000,5.4709],[1523631600000,6.2953],[1523890800000,7.7833],[1523977200000,9.3994],[1524063600000,8.9293],[1524150000000,7.7674],[1524236400000,9.2145],[1524495600000,8.9497],[1524582000000,6.8845],[1524668400000,7.1486],[1524754800000,9.0715],[1524841200000,9.1986],[1525273200000,9.2415],[1525359600000,8.2726],[1525446000000,8.6324],[1525705200000,6.873],[1525791600000,5.8513],[1525878000000,6.071],[1525964400000,5.1268],[1526050800000,5.6889],[1526310000000,4.6995],[1526396400000,4.2281],[1526482800000,4.9196],[1526569200000,5.6311],[1526655600000,4.5754],[1526914800000,4.0616],[1527001200000,4.4979],[1527087600000,5.895],[1527174000000,6.7336],[1527260400000,7.1036],[1527519600000,6.5729],[1527606000000,6.5952],[1527692400000,8.6569],[1527778800000,6.5086],[1527865200000,7.4319],[1528124400000,6.5886],[1528210800000,5.6583],[1528297200000,5.9423],[1528383600000,6.2044],[1528470000000,7.4003],[1528729200000,7.4341],[1528815600000,6.2159],[1528902000000,7.0964],[1528988400000,7.3103],[1529074800000,7.9435],[1529420400000,11.2481],[1529506800000,11.0268],[1529593200000,12.0946],[1529679600000,11.4349],[1529938800000,12.9879],[1530025200000,13.8964],[1530111600000,16.1018],[1530198000000,17.2048],[1530284400000,14.6306],[1530543600000,17.7628],[1530630000000,17.7723],[1530716400000,19.2109],[1530802800000,19.8238],[1530889200000,19.2596],[1531148400000,16.3032],[1531234800000,15.9509],[1531321200000,17.717],[1531407600000,15.4087],[1531494000000,15.017],[1531753200000,15.648],[1531839600000,16.2428],[1531926000000,16.8693],[1532012400000,16.4077],[1532098800000,14.2462],[1532358000000,13.2489],[1532444400000,11.4397],[1532530800000,11.5744],[1532617200000,12.892],[1532703600000,13.3538],[1532962800000,13.5635],[1533049200000,13.4921],[1533135600000,15.7533],[1533222000000,18.2714],[1533308400000,19.3204],[1533567600000,20.9575],[1533654000000,17.6593],[1533740400000,19.5456],[1533826800000,16.7574],[1533913200000,16.3599],[1534172400000,16.5332],[1534258800000,17.1628],[1534345200000,19.9436],[1534431600000,20.6689],[1534518000000,22.189],[1534777200000,20.9382],[1534863600000,18.7585],[1534950000000,19.4259],[1535036400000,18.7277],[1535122800000,18.7308],[1535382000000,16.1161],[1535468400000,16.2373],[1535554800000,16.0824],[1535641200000,17.3169],[1535727600000,17.9285],[1535986800000,18.3088],[1536073200000,16.7543],[1536159600000,19.0243]],\"color\":\"#8f4e4f\",\"tooltip\":{\"valueDecimals\":2,\"valueSuffix\":\" %\"},\"visible\":false},{\"name\":\"\\u6301\\u4ed3\\u5360\\u6bd4\",\"yAxis\":1,\"data\":[[1516114800000,0.0],[1516201200000,13.911],[1516287600000,13.8462],[1516374000000,13.8116],[1516633200000,13.8246],[1516719600000,13.8592],[1516806000000,13.911],[1516892400000,13.9542],[1516978800000,13.8808],[1517238000000,13.8246],[1517324400000,13.725],[1517410800000,13.7423],[1517497200000,13.7163],[1517583600000,13.725],[1517842800000,13.6256],[1517929200000,13.0541],[1518015600000,12.9078],[1518102000000,12.9389],[1518188400000,12.5512],[1518447600000,12.654],[1518534000000,12.7744],[1518620400000,12.9655],[1519311600000,13.2528],[1519398000000,13.3627],[1519657200000,13.411],[1519743600000,13.3276],[1519830000000,13.1248],[1519916400000,13.1646],[1520002800000,13.1027],[1520262000000,12.9566],[1520348400000,13.0983],[1520434800000,12.9832],[1520521200000,13.1425],[1520607600000,13.2572],[1520866800000,13.7375],[1520953200000,13.7331],[1521039600000,13.7506],[1521126000000,13.7375],[1521212400000,13.6891],[1521471600000,13.6452],[1521558000000,13.6935],[1521644400000,13.6979],[1521730800000,13.7989],[1521817200000,12.9283],[1522076400000,13.0082],[1522162800000,13.1146],[1522249200000,12.9149],[1522335600000,12.906],[1522422000000,12.866],[1522681200000,12.8482],[1522767600000,12.8526],[1522854000000,12.7724],[1523286000000,12.9372],[1523372400000,13.119],[1523458800000,13.1544],[1523545200000,13.0437],[1523631600000,13.1102],[1523890800000,12.9283],[1523977200000,12.8571],[1524063600000,12.8927],[1524150000000,13.0171],[1524236400000,13.0215],[1524495600000,12.9372],[1524582000000,13.0703],[1524668400000,12.9505],[1524754800000,12.8482],[1524841200000,12.9816],[1525273200000,13.1721],[1525359600000,13.0792],[1525446000000,12.946],[1525705200000,12.9105],[1525791600000,13.088],[1525878000000,13.1102],[1525964400000,13.7526],[1526050800000,13.7658],[1526310000000,13.7702],[1526396400000,13.7084],[1526482800000,13.5935],[1526569200000,13.5404],[1526655600000,13.5492],[1526914800000,13.5271],[1527001200000,13.5581],[1527087600000,13.5714],[1527174000000,13.6422],[1527260400000,13.6996],[1527519600000,13.651],[1527606000000,13.4385],[1527692400000,13.2775],[1527778800000,13.4028],[1527865200000,13.4296],[1528124400000,13.5989],[1528210800000,13.7011],[1528297200000,13.7543],[1528383600000,13.8251],[1528470000000,13.6389],[1528729200000,13.6745],[1528815600000,13.7454],[1528902000000,13.6123],[1528988400000,13.443],[1529074800000,13.4965],[1529420400000,13.0935],[1529506800000,13.2641],[1529593200000,13.0845],[1529679600000,12.9583],[1529938800000,13.0034],[1530025200000,12.9853],[1530111600000,12.8995],[1530198000000,12.8272],[1530284400000,13.1384],[1530543600000,12.9628],[1530630000000,13.0034],[1530716400000,12.9041],[1530802800000,12.8],[1530889200000,12.9808],[1531148400000,13.2551],[1531234800000,13.2013],[1531321200000,13.0214],[1531407600000,13.1923],[1531494000000,13.1878],[1531753200000,13.1519],[1531839600000,13.0304],[1531926000000,13.0439],[1532012400000,13.7942],[1532098800000,13.8166],[1532358000000,13.8749],[1532444400000,13.8659],[1532530800000,13.8749],[1532617200000,13.8928],[1532703600000,13.8794],[1532962800000,13.8883],[1533049200000,13.8973],[1533135600000,13.8928],[1533222000000,13.857],[1533308400000,13.2666],[1533567600000,13.3574],[1533654000000,13.525],[1533740400000,13.5159],[1533826800000,13.6648],[1533913200000,13.5611],[1534172400000,13.3166],[1534258800000,13.3393],[1534345200000,13.3166],[1534431600000,13.439],[1534518000000,13.2848],[1534777200000,13.4073],[1534863600000,13.4209],[1534950000000,13.4209],[1535036400000,13.2302],[1535122800000,13.371],[1535382000000,13.5792],[1535468400000,13.5069],[1535554800000,13.8631],[1535641200000,13.8766],[1535727600000,13.8992],[1535986800000,13.8495],[1536073200000,13.8087],[1536159600000,13.7996]],\"color\":\"#66ff99\",\"tooltip\":{\"valueDecimals\":2,\"valueSuffix\":\" %\"}}],\"xAxis\":{\"type\":\"datetime\"},\"yAxis\":[{\"labels\":{\"align\":\"right\",\"x\":-3,\"format\":\"{value}%\"},\"title\":{\"text\":\"\\u51c0\\u503c\\u66f2\\u7ebf\"},\"top\":\"0%\",\"height\":\"76%\",\"offset\":0,\"lineWidth\":2,\"gridLineColor\":\"#cfcfcf\",\"gridLineWidth\":1},{\"labels\":{\"align\":\"right\",\"x\":-3,\"format\":\"{value}%\"},\"title\":{\"text\":\"\\u6301\\u4ed3\\u5360\\u6bd4\"},\"top\":\"80%\",\"height\":\"19%\",\"offset\":0,\"lineWidth\":2,\"gridLineColor\":\"#cfcfcf\",\"gridLineWidth\":1}],\"plotOptions\":{\"series\":{\"showInNavigator\":true},\"area\":{\"showInNavigator\":true}},\"rangeSelector\":{\"enabled\":true},\"navigator\":{\"enabled\":true}}/bigcharts-data-end</pre></div></div><div class='tab-pane' id='交易详情'><table id=\"bigchart-c7a4fb173370493cba393d8729f647f6\" width=\"100%\" class=\"display bigchart\"></table><div class=\"bigchart-data\"><pre style=\"display:none\">bigcharts-data-start/{\"deferRender\":true,\"data\":[[\"2018-08-29\",\"15:00\",\"513600.HOF\",\"513600.HOF INC.\",\"\\u5356\\u51fa\",100,2.58,-258.0,5],[\"\",\"09:30\",\"518880.HOF\",\"518880.HOF INC.\",\"\\u4e70\\u5165\",100,2.636,263.6,5],[\"\",\"\",\"\",\"\",\"\",\"\",\"\\uff082 \\u7b14\\u4ea4\\u6613\",\"\\u4e70\\u5165 \\uffe5263.6\",\"\\u5356\\u51fa \\uffe5-258.0\\uff09\"],[\"2018-08-03\",\"15:00\",\"518880.HOF\",\"518880.HOF INC.\",\"\\u5356\\u51fa\",100,2.663,-266.3,5],[\"\",\"09:30\",\"513600.HOF\",\"513600.HOF INC.\",\"\\u4e70\\u5165\",100,2.577,257.7,5],[\"\",\"\",\"\",\"\",\"\",\"\",\"\\uff082 \\u7b14\\u4ea4\\u6613\",\"\\u4e70\\u5165 \\uffe5257.7\",\"\\u5356\\u51fa \\uffe5-266.3\\uff09\"],[\"2018-07-19\",\"15:00\",\"513600.HOF\",\"513600.HOF INC.\",\"\\u5356\\u51fa\",100,2.519,-251.9,5],[\"\",\"09:30\",\"518880.HOF\",\"518880.HOF INC.\",\"\\u4e70\\u5165\",100,2.644,264.4,5],[\"\",\"\",\"\",\"\",\"\",\"\",\"\\uff082 \\u7b14\\u4ea4\\u6613\",\"\\u4e70\\u5165 \\uffe5264.4\",\"\\u5356\\u51fa \\uffe5-251.9\\uff09\"],[\"2018-05-29\",\"15:00\",\"518880.HOF\",\"518880.HOF INC.\",\"\\u5356\\u51fa\",100,2.676,-267.6,5],[\"\",\"09:30\",\"513600.HOF\",\"513600.HOF INC.\",\"\\u4e70\\u5165\",100,2.66,266.0,5],[\"\",\"\",\"\",\"\",\"\",\"\",\"\\uff082 \\u7b14\\u4ea4\\u6613\",\"\\u4e70\\u5165 \\uffe5266.0\",\"\\u5356\\u51fa \\uffe5-267.6\\uff09\"],[\"2018-05-10\",\"15:00\",\"513600.HOF\",\"513600.HOF INC.\",\"\\u5356\\u51fa\",100,2.61,-261.0,5],[\"\",\"09:30\",\"518880.HOF\",\"518880.HOF INC.\",\"\\u4e70\\u5165\",100,2.693,269.3,5],[\"\",\"\",\"\",\"\",\"\",\"\",\"\\uff082 \\u7b14\\u4ea4\\u6613\",\"\\u4e70\\u5165 \\uffe5269.3\",\"\\u5356\\u51fa \\uffe5-261.0\\uff09\"],[\"2018-03-23\",\"15:00\",\"518880.HOF\",\"518880.HOF INC.\",\"\\u5356\\u51fa\",100,2.741,-274.1,5],[\"\",\"09:30\",\"513600.HOF\",\"513600.HOF INC.\",\"\\u4e70\\u5165\",100,2.536,253.6,5],[\"\",\"\",\"\",\"\",\"\",\"\",\"\\uff082 \\u7b14\\u4ea4\\u6613\",\"\\u4e70\\u5165 \\uffe5253.6\",\"\\u5356\\u51fa \\uffe5-274.1\\uff09\"],[\"2018-03-12\",\"15:00\",\"513600.HOF\",\"513600.HOF INC.\",\"\\u5356\\u51fa\",100,2.665,-266.5,5],[\"\",\"09:30\",\"518880.HOF\",\"518880.HOF INC.\",\"\\u4e70\\u5165\",100,2.701,270.1,5],[\"\",\"\",\"\",\"\",\"\",\"\",\"\\uff082 \\u7b14\\u4ea4\\u6613\",\"\\u4e70\\u5165 \\uffe5270.1\",\"\\u5356\\u51fa \\uffe5-266.5\\uff09\"],[\"2018-02-05\",\"15:00\",\"518880.HOF\",\"518880.HOF INC.\",\"\\u5356\\u51fa\",100,2.705,-270.5,5],[\"\",\"09:30\",\"513600.HOF\",\"513600.HOF INC.\",\"\\u4e70\\u5165\",100,2.688,268.8,5],[\"\",\"\",\"\",\"\",\"\",\"\",\"\\uff082 \\u7b14\\u4ea4\\u6613\",\"\\u4e70\\u5165 \\uffe5268.8\",\"\\u5356\\u51fa \\uffe5-270.5\\uff09\"],[\"2018-01-17\",\"09:30\",\"518880.HOF\",\"518880.HOF INC.\",\"\\u4e70\\u5165\",100,2.783,278.3,5],[\"\",\"\",\"\",\"\",\"\",\"\",\"\\uff081 \\u7b14\\u4ea4\\u6613\",\"\\u4e70\\u5165 \\uffe5278.3\",\"\\u5356\\u51fa \\uffe50.0\\uff09\"]],\"columns\":[{\"title\":\"\\u65e5\\u671f\",\"orderable\":false},{\"title\":\"\\u65f6\\u95f4\",\"orderable\":false},{\"title\":\"\\u80a1\\u7968\\u4ee3\\u7801\",\"orderable\":false},{\"title\":\"\\u80a1\\u7968\\u540d\\u79f0\",\"orderable\":false},{\"title\":\"\\u4e70\\/\\u5356\",\"orderable\":false},{\"title\":\"\\u6570\\u91cf\",\"orderable\":false},{\"title\":\"\\u6210\\u4ea4\\u4ef7\",\"orderable\":false},{\"title\":\"\\u603b\\u6210\\u672c\",\"orderable\":false},{\"title\":\"\\u4ea4\\u6613\\u4f63\\u91d1\",\"orderable\":false}],\"searching\":false,\"info\":false,\"pageLength\":20,\"lengthChange\":false,\"order\":[],\"__type\":\"datatable\",\"__id\":\"bigchart-c7a4fb173370493cba393d8729f647f6\",\"language\":{\"sProcessing\":\"\\u5904\\u7406\\u4e2d...\",\"sLengthMenu\":\"\\u663e\\u793a _MENU_ \\u9879\\u7ed3\\u679c\",\"sZeroRecords\":\"\\u6ca1\\u6709\\u5339\\u914d\\u7ed3\\u679c\",\"sInfo\":\"\\u663e\\u793a\\u7b2c _START_ \\u81f3 _END_ \\u9879\\u7ed3\\u679c\\uff0c\\u5171 _TOTAL_ \\u9879\",\"sInfoEmpty\":\"\\u663e\\u793a\\u7b2c 0 \\u81f3 0 \\u9879\\u7ed3\\u679c\\uff0c\\u5171 0 \\u9879\",\"sInfoFiltered\":\"(\\u7531 _MAX_ \\u9879\\u7ed3\\u679c\\u8fc7\\u6ee4)\",\"sInfoPostFix\":\"\",\"sSearch\":\"\\u641c\\u7d22:\",\"sUrl\":\"\",\"sEmptyTable\":\"\\u8868\\u4e2d\\u6570\\u636e\\u4e3a\\u7a7a\",\"sLoadingRecords\":\"\\u8f7d\\u5165\\u4e2d...\",\"sInfoThousands\":\",\",\"oPaginate\":{\"sFirst\":\"\\u9996\\u9875\",\"sPrevious\":\"\\u4e0a\\u9875\",\"sNext\":\"\\u4e0b\\u9875\",\"sLast\":\"\\u672b\\u9875\"}},\"hasWholeData\":true}/bigcharts-data-end</pre></div></div><div class='tab-pane' id='每日持仓和收益'><table id=\"bigchart-a557ea88820f41d5addc4d28871e3f45\" width=\"100%\" class=\"display bigchart\"></table><div class=\"bigchart-data\"><pre style=\"display:none\">bigcharts-data-start/{\"deferRender\":true,\"data\":[[\"2018-09-05\",\"518880.HOF\",\"518880.HOF INC.\",2.636,\"2.624\",100,262.4,-1.2],[\"\",\"\",\"\\uff08\\u603b\\u8d44\\u4ea7\\uffe51901.5\",\"\\u5269\\u4f59\\u91d1\\u989d\\uffe51639.1\",\"\\u5f53\\u65e5\\u4ea4\\u6613\\u4f63\\u91d1\\uffe50.0\\uff09\",\"\\uffe5262.4\",\"\\uffe5-1.2\",null],[\"2018-09-04\",\"518880.HOF\",\"518880.HOF INC.\",2.636,\"2.626\",100,262.6,-1.0],[\"\",\"\",\"\\uff08\\u603b\\u8d44\\u4ea7\\uffe51901.7\",\"\\u5269\\u4f59\\u91d1\\u989d\\uffe51639.1\",\"\\u5f53\\u65e5\\u4ea4\\u6613\\u4f63\\u91d1\\uffe50.0\\uff09\",\"\\uffe5262.6\",\"\\uffe5-1.0\",null],[\"2018-09-03\",\"518880.HOF\",\"518880.HOF INC.\",2.636,\"2.635\",100,263.5,-0.1],[\"\",\"\",\"\\uff08\\u603b\\u8d44\\u4ea7\\uffe51902.6\",\"\\u5269\\u4f59\\u91d1\\u989d\\uffe51639.1\",\"\\u5f53\\u65e5\\u4ea4\\u6613\\u4f63\\u91d1\\uffe50.0\\uff09\",\"\\uffe5263.5\",\"\\uffe5-0.1\",null],[\"2018-08-31\",\"518880.HOF\",\"518880.HOF INC.\",2.636,\"2.646\",100,264.6,1.0],[\"\",\"\",\"\\uff08\\u603b\\u8d44\\u4ea7\\uffe51903.7\",\"\\u5269\\u4f59\\u91d1\\u989d\\uffe51639.1\",\"\\u5f53\\u65e5\\u4ea4\\u6613\\u4f63\\u91d1\\uffe50.0\\uff09\",\"\\uffe5264.6\",\"\\uffe51.0\",null],[\"2018-08-30\",\"518880.HOF\",\"518880.HOF INC.\",2.636,\"2.641\",100,264.1,0.5],[\"\",\"\",\"\\uff08\\u603b\\u8d44\\u4ea7\\uffe51903.2\",\"\\u5269\\u4f59\\u91d1\\u989d\\uffe51639.1\",\"\\u5f53\\u65e5\\u4ea4\\u6613\\u4f63\\u91d1\\uffe50.0\\uff09\",\"\\uffe5264.1\",\"\\uffe50.5\",null],[\"2018-08-29\",\"518880.HOF\",\"518880.HOF INC.\",2.636,\"2.638\",100,263.8,0.2],[\"\",\"\",\"\\uff08\\u603b\\u8d44\\u4ea7\\uffe51902.9\",\"\\u5269\\u4f59\\u91d1\\u989d\\uffe51639.1\",\"\\u5f53\\u65e5\\u4ea4\\u6613\\u4f63\\u91d1\\uffe510.0\\uff09\",\"\\uffe5263.8\",\"\\uffe50.2\",null],[\"2018-08-28\",\"513600.HOF\",\"513600.HOF INC.\",2.577,\"2.584\",100,258.4,0.7],[\"\",\"\",\"\\uff08\\u603b\\u8d44\\u4ea7\\uffe51913.1\",\"\\u5269\\u4f59\\u91d1\\u989d\\uffe51654.7\",\"\\u5f53\\u65e5\\u4ea4\\u6613\\u4f63\\u91d1\\uffe50.0\\uff09\",\"\\uffe5258.4\",\"\\uffe50.7\",null],[\"2018-08-27\",\"513600.HOF\",\"513600.HOF INC.\",2.577,\"2.600\",100,260.0,2.3],[\"\",\"\",\"\\uff08\\u603b\\u8d44\\u4ea7\\uffe51914.7\",\"\\u5269\\u4f59\\u91d1\\u989d\\uffe51654.7\",\"\\u5f53\\u65e5\\u4ea4\\u6613\\u4f63\\u91d1\\uffe50.0\\uff09\",\"\\uffe5260.0\",\"\\uffe52.3\",null],[\"2018-08-24\",\"513600.HOF\",\"513600.HOF INC.\",2.577,\"2.554\",100,255.4,-2.3],[\"\",\"\",\"\\uff08\\u603b\\u8d44\\u4ea7\\uffe51910.1\",\"\\u5269\\u4f59\\u91d1\\u989d\\uffe51654.7\",\"\\u5f53\\u65e5\\u4ea4\\u6613\\u4f63\\u91d1\\uffe50.0\\uff09\",\"\\uffe5255.4\",\"\\uffe5-2.3\",null],[\"2018-08-23\",\"513600.HOF\",\"513600.HOF INC.\",2.577,\"2.523\",100,252.3,-5.4],[\"\",\"\",\"\\uff08\\u603b\\u8d44\\u4ea7\\uffe51907.0\",\"\\u5269\\u4f59\\u91d1\\u989d\\uffe51654.7\",\"\\u5f53\\u65e5\\u4ea4\\u6613\\u4f63\\u91d1\\uffe50.0\\uff09\",\"\\uffe5252.3\",\"\\uffe5-5.4\",null],[\"2018-08-22\",\"513600.HOF\",\"513600.HOF INC.\",2.577,\"2.565\",100,256.5,-1.2],[\"\",\"\",\"\\uff08\\u603b\\u8d44\\u4ea7\\uffe51911.2\",\"\\u5269\\u4f59\\u91d1\\u989d\\uffe51654.7\",\"\\u5f53\\u65e5\\u4ea4\\u6613\\u4f63\\u91d1\\uffe50.0\\uff09\",\"\\uffe5256.5\",\"\\uffe5-1.2\",null],[\"2018-08-21\",\"513600.HOF\",\"513600.HOF INC.\",2.577,\"2.565\",100,256.5,-1.2],[\"\",\"\",\"\\uff08\\u603b\\u8d44\\u4ea7\\uffe51911.2\",\"\\u5269\\u4f59\\u91d1\\u989d\\uffe51654.7\",\"\\u5f53\\u65e5\\u4ea4\\u6613\\u4f63\\u91d1\\uffe50.0\\uff09\",\"\\uffe5256.5\",\"\\uffe5-1.2\",null],[\"2018-08-20\",\"513600.HOF\",\"513600.HOF INC.\",2.577,\"2.562\",100,256.2,-1.5],[\"\",\"\",\"\\uff08\\u603b\\u8d44\\u4ea7\\uffe51910.9\",\"\\u5269\\u4f59\\u91d1\\u989d\\uffe51654.7\",\"\\u5f53\\u65e5\\u4ea4\\u6613\\u4f63\\u91d1\\uffe50.0\\uff09\",\"\\uffe5256.2\",\"\\uffe5-1.5\",null],[\"2018-08-17\",\"513600.HOF\",\"513600.HOF INC.\",2.577,\"2.535\",100,253.5,-4.2],[\"\",\"\",\"\\uff08\\u603b\\u8d44\\u4ea7\\uffe51908.2\",\"\\u5269\\u4f59\\u91d1\\u989d\\uffe51654.7\",\"\\u5f53\\u65e5\\u4ea4\\u6613\\u4f63\\u91d1\\uffe50.0\\uff09\",\"\\uffe5253.5\",\"\\uffe5-4.2\",null],[\"2018-08-16\",\"513600.HOF\",\"513600.HOF INC.\",2.577,\"2.569\",100,256.9,-0.8],[\"\",\"\",\"\\uff08\\u603b\\u8d44\\u4ea7\\uffe51911.6\",\"\\u5269\\u4f59\\u91d1\\u989d\\uffe51654.7\",\"\\u5f53\\u65e5\\u4ea4\\u6613\\u4f63\\u91d1\\uffe50.0\\uff09\",\"\\uffe5256.9\",\"\\uffe5-0.8\",null],[\"2018-08-15\",\"513600.HOF\",\"513600.HOF INC.\",2.577,\"2.542\",100,254.2,-3.5],[\"\",\"\",\"\\uff08\\u603b\\u8d44\\u4ea7\\uffe51908.9\",\"\\u5269\\u4f59\\u91d1\\u989d\\uffe51654.7\",\"\\u5f53\\u65e5\\u4ea4\\u6613\\u4f63\\u91d1\\uffe50.0\\uff09\",\"\\uffe5254.2\",\"\\uffe5-3.5\",null],[\"2018-08-14\",\"513600.HOF\",\"513600.HOF INC.\",2.577,\"2.547\",100,254.7,-3.0],[\"\",\"\",\"\\uff08\\u603b\\u8d44\\u4ea7\\uffe51909.4\",\"\\u5269\\u4f59\\u91d1\\u989d\\uffe51654.7\",\"\\u5f53\\u65e5\\u4ea4\\u6613\\u4f63\\u91d1\\uffe50.0\\uff09\",\"\\uffe5254.7\",\"\\uffe5-3.0\",null],[\"2018-08-13\",\"513600.HOF\",\"513600.HOF INC.\",2.577,\"2.542\",100,254.2,-3.5],[\"\",\"\",\"\\uff08\\u603b\\u8d44\\u4ea7\\uffe51908.9\",\"\\u5269\\u4f59\\u91d1\\u989d\\uffe51654.7\",\"\\u5f53\\u65e5\\u4ea4\\u6613\\u4f63\\u91d1\\uffe50.0\\uff09\",\"\\uffe5254.2\",\"\\uffe5-3.5\",null],[\"2018-08-10\",\"513600.HOF\",\"513600.HOF INC.\",2.577,\"2.596\",100,259.6,1.9],[\"\",\"\",\"\\uff08\\u603b\\u8d44\\u4ea7\\uffe51914.3\",\"\\u5269\\u4f59\\u91d1\\u989d\\uffe51654.7\",\"\\u5f53\\u65e5\\u4ea4\\u6613\\u4f63\\u91d1\\uffe50.0\\uff09\",\"\\uffe5259.6\",\"\\uffe51.9\",null],[\"2018-08-09\",\"513600.HOF\",\"513600.HOF INC.\",2.577,\"2.619\",100,261.9,4.2],[\"\",\"\",\"\\uff08\\u603b\\u8d44\\u4ea7\\uffe51916.6\",\"\\u5269\\u4f59\\u91d1\\u989d\\uffe51654.7\",\"\\u5f53\\u65e5\\u4ea4\\u6613\\u4f63\\u91d1\\uffe50.0\\uff09\",\"\\uffe5261.9\",\"\\uffe54.2\",null],[\"2018-08-08\",\"513600.HOF\",\"513600.HOF INC.\",2.577,\"2.586\",100,258.6,0.9],[\"\",\"\",\"\\uff08\\u603b\\u8d44\\u4ea7\\uffe51913.3\",\"\\u5269\\u4f59\\u91d1\\u989d\\uffe51654.7\",\"\\u5f53\\u65e5\\u4ea4\\u6613\\u4f63\\u91d1\\uffe50.0\\uff09\",\"\\uffe5258.6\",\"\\uffe50.9\",null],[\"2018-08-07\",\"513600.HOF\",\"513600.HOF INC.\",2.577,\"2.588\",100,258.8,1.1],[\"\",\"\",\"\\uff08\\u603b\\u8d44\\u4ea7\\uffe51913.5\",\"\\u5269\\u4f59\\u91d1\\u989d\\uffe51654.7\",\"\\u5f53\\u65e5\\u4ea4\\u6613\\u4f63\\u91d1\\uffe50.0\\uff09\",\"\\uffe5258.8\",\"\\uffe51.1\",null],[\"2018-08-06\",\"513600.HOF\",\"513600.HOF INC.\",2.577,\"2.551\",100,255.1,-2.6],[\"\",\"\",\"\\uff08\\u603b\\u8d44\\u4ea7\\uffe51909.8\",\"\\u5269\\u4f59\\u91d1\\u989d\\uffe51654.7\",\"\\u5f53\\u65e5\\u4ea4\\u6613\\u4f63\\u91d1\\uffe50.0\\uff09\",\"\\uffe5255.1\",\"\\uffe5-2.6\",null],[\"2018-08-03\",\"513600.HOF\",\"513600.HOF INC.\",2.577,\"2.531\",100,253.1,-4.6],[\"\",\"\",\"\\uff08\\u603b\\u8d44\\u4ea7\\uffe51907.8\",\"\\u5269\\u4f59\\u91d1\\u989d\\uffe51654.7\",\"\\u5f53\\u65e5\\u4ea4\\u6613\\u4f63\\u91d1\\uffe510.0\\uff09\",\"\\uffe5253.1\",\"\\uffe5-4.6\",null],[\"2018-08-02\",\"518880.HOF\",\"518880.HOF INC.\",2.644,\"2.664\",100,266.4,2.0],[\"\",\"\",\"\\uff08\\u603b\\u8d44\\u4ea7\\uffe51922.5\",\"\\u5269\\u4f59\\u91d1\\u989d\\uffe51656.1\",\"\\u5f53\\u65e5\\u4ea4\\u6613\\u4f63\\u91d1\\uffe50.0\\uff09\",\"\\uffe5266.4\",\"\\uffe52.0\",null],[\"2018-08-01\",\"518880.HOF\",\"518880.HOF INC.\",2.644,\"2.672\",100,267.2,2.8],[\"\",\"\",\"\\uff08\\u603b\\u8d44\\u4ea7\\uffe51923.3\",\"\\u5269\\u4f59\\u91d1\\u989d\\uffe51656.1\",\"\\u5f53\\u65e5\\u4ea4\\u6613\\u4f63\\u91d1\\uffe50.0\\uff09\",\"\\uffe5267.2\",\"\\uffe52.8\",null],[\"2018-07-31\",\"518880.HOF\",\"518880.HOF INC.\",2.644,\"2.673\",100,267.3,2.9],[\"\",\"\",\"\\uff08\\u603b\\u8d44\\u4ea7\\uffe51923.4\",\"\\u5269\\u4f59\\u91d1\\u989d\\uffe51656.1\",\"\\u5f53\\u65e5\\u4ea4\\u6613\\u4f63\\u91d1\\uffe50.0\\uff09\",\"\\uffe5267.3\",\"\\uffe52.9\",null],[\"2018-07-30\",\"518880.HOF\",\"518880.HOF INC.\",2.644,\"2.671\",100,267.1,2.7],[\"\",\"\",\"\\uff08\\u603b\\u8d44\\u4ea7\\uffe51923.2\",\"\\u5269\\u4f59\\u91d1\\u989d\\uffe51656.1\",\"\\u5f53\\u65e5\\u4ea4\\u6613\\u4f63\\u91d1\\uffe50.0\\uff09\",\"\\uffe5267.1\",\"\\uffe52.7\",null],[\"2018-07-27\",\"518880.HOF\",\"518880.HOF INC.\",2.644,\"2.669\",100,266.9,2.5],[\"\",\"\",\"\\uff08\\u603b\\u8d44\\u4ea7\\uffe51923.0\",\"\\u5269\\u4f59\\u91d1\\u989d\\uffe51656.1\",\"\\u5f53\\u65e5\\u4ea4\\u6613\\u4f63\\u91d1\\uffe50.0\\uff09\",\"\\uffe5266.9\",\"\\uffe52.5\",null],[\"2018-07-26\",\"518880.HOF\",\"518880.HOF INC.\",2.644,\"2.672\",100,267.2,2.8],[\"\",\"\",\"\\uff08\\u603b\\u8d44\\u4ea7\\uffe51923.3\",\"\\u5269\\u4f59\\u91d1\\u989d\\uffe51656.1\",\"\\u5f53\\u65e5\\u4ea4\\u6613\\u4f63\\u91d1\\uffe50.0\\uff09\",\"\\uffe5267.2\",\"\\uffe52.8\",null],[\"2018-07-25\",\"518880.HOF\",\"518880.HOF INC.\",2.644,\"2.668\",100,266.8,2.4],[\"\",\"\",\"\\uff08\\u603b\\u8d44\\u4ea7\\uffe51922.9\",\"\\u5269\\u4f59\\u91d1\\u989d\\uffe51656.1\",\"\\u5f53\\u65e5\\u4ea4\\u6613\\u4f63\\u91d1\\uffe50.0\\uff09\",\"\\uffe5266.8\",\"\\uffe52.4\",null],[\"2018-07-24\",\"518880.HOF\",\"518880.HOF INC.\",2.644,\"2.666\",100,266.6,2.2],[\"\",\"\",\"\\uff08\\u603b\\u8d44\\u4ea7\\uffe51922.7\",\"\\u5269\\u4f59\\u91d1\\u989d\\uffe51656.1\",\"\\u5f53\\u65e5\\u4ea4\\u6613\\u4f63\\u91d1\\uffe50.0\\uff09\",\"\\uffe5266.6\",\"\\uffe52.2\",null],[\"2018-07-23\",\"518880.HOF\",\"518880.HOF INC.\",2.644,\"2.668\",100,266.8,2.4],[\"\",\"\",\"\\uff08\\u603b\\u8d44\\u4ea7\\uffe51922.9\",\"\\u5269\\u4f59\\u91d1\\u989d\\uffe51656.1\",\"\\u5f53\\u65e5\\u4ea4\\u6613\\u4f63\\u91d1\\uffe50.0\\uff09\",\"\\uffe5266.8\",\"\\uffe52.4\",null],[\"2018-07-20\",\"518880.HOF\",\"518880.HOF INC.\",2.644,\"2.655\",100,265.5,1.1],[\"\",\"\",\"\\uff08\\u603b\\u8d44\\u4ea7\\uffe51921.6\",\"\\u5269\\u4f59\\u91d1\\u989d\\uffe51656.1\",\"\\u5f53\\u65e5\\u4ea4\\u6613\\u4f63\\u91d1\\uffe50.0\\uff09\",\"\\uffe5265.5\",\"\\uffe51.1\",null],[\"2018-07-19\",\"518880.HOF\",\"518880.HOF INC.\",2.644,\"2.650\",100,265.0,0.6],[\"\",\"\",\"\\uff08\\u603b\\u8d44\\u4ea7\\uffe51921.1\",\"\\u5269\\u4f59\\u91d1\\u989d\\uffe51656.1\",\"\\u5f53\\u65e5\\u4ea4\\u6613\\u4f63\\u91d1\\uffe510.0\\uff09\",\"\\uffe5265.0\",\"\\uffe50.6\",null],[\"2018-07-18\",\"513600.HOF\",\"513600.HOF INC.\",2.66,\"2.518\",100,251.8,-14.2],[\"\",\"\",\"\\uff08\\u603b\\u8d44\\u4ea7\\uffe51930.4\",\"\\u5269\\u4f59\\u91d1\\u989d\\uffe51678.6\",\"\\u5f53\\u65e5\\u4ea4\\u6613\\u4f63\\u91d1\\uffe50.0\\uff09\",\"\\uffe5251.8\",\"\\uffe5-14.2\",null],[\"2018-07-17\",\"513600.HOF\",\"513600.HOF INC.\",2.66,\"2.515\",100,251.5,-14.5],[\"\",\"\",\"\\uff08\\u603b\\u8d44\\u4ea7\\uffe51930.1\",\"\\u5269\\u4f59\\u91d1\\u989d\\uffe51678.6\",\"\\u5f53\\u65e5\\u4ea4\\u6613\\u4f63\\u91d1\\uffe50.0\\uff09\",\"\\uffe5251.5\",\"\\uffe5-14.5\",null],[\"2018-07-16\",\"513600.HOF\",\"513600.HOF INC.\",2.66,\"2.542\",100,254.2,-11.8],[\"\",\"\",\"\\uff08\\u603b\\u8d44\\u4ea7\\uffe51932.8\",\"\\u5269\\u4f59\\u91d1\\u989d\\uffe51678.6\",\"\\u5f53\\u65e5\\u4ea4\\u6613\\u4f63\\u91d1\\uffe50.0\\uff09\",\"\\uffe5254.2\",\"\\uffe5-11.8\",null],[\"2018-07-13\",\"513600.HOF\",\"513600.HOF INC.\",2.66,\"2.550\",100,255.0,-11.0],[\"\",\"\",\"\\uff08\\u603b\\u8d44\\u4ea7\\uffe51933.6\",\"\\u5269\\u4f59\\u91d1\\u989d\\uffe51678.6\",\"\\u5f53\\u65e5\\u4ea4\\u6613\\u4f63\\u91d1\\uffe50.0\\uff09\",\"\\uffe5255.0\",\"\\uffe5-11.0\",null],[\"2018-07-12\",\"513600.HOF\",\"513600.HOF INC.\",2.66,\"2.551\",100,255.1,-10.9],[\"\",\"\",\"\\uff08\\u603b\\u8d44\\u4ea7\\uffe51933.7\",\"\\u5269\\u4f59\\u91d1\\u989d\\uffe51678.6\",\"\\u5f53\\u65e5\\u4ea4\\u6613\\u4f63\\u91d1\\uffe50.0\\uff09\",\"\\uffe5255.1\",\"\\uffe5-10.9\",null],[\"2018-07-11\",\"513600.HOF\",\"513600.HOF INC.\",2.66,\"2.513\",100,251.3,-14.7],[\"\",\"\",\"\\uff08\\u603b\\u8d44\\u4ea7\\uffe51929.9\",\"\\u5269\\u4f59\\u91d1\\u989d\\uffe51678.6\",\"\\u5f53\\u65e5\\u4ea4\\u6613\\u4f63\\u91d1\\uffe50.0\\uff09\",\"\\uffe5251.3\",\"\\uffe5-14.7\",null],[\"2018-07-10\",\"513600.HOF\",\"513600.HOF INC.\",2.66,\"2.553\",100,255.3,-10.7],[\"\",\"\",\"\\uff08\\u603b\\u8d44\\u4ea7\\uffe51933.9\",\"\\u5269\\u4f59\\u91d1\\u989d\\uffe51678.6\",\"\\u5f53\\u65e5\\u4ea4\\u6613\\u4f63\\u91d1\\uffe50.0\\uff09\",\"\\uffe5255.3\",\"\\uffe5-10.7\",null],[\"2018-07-09\",\"513600.HOF\",\"513600.HOF INC.\",2.66,\"2.565\",100,256.5,-9.5],[\"\",\"\",\"\\uff08\\u603b\\u8d44\\u4ea7\\uffe51935.1\",\"\\u5269\\u4f59\\u91d1\\u989d\\uffe51678.6\",\"\\u5f53\\u65e5\\u4ea4\\u6613\\u4f63\\u91d1\\uffe50.0\\uff09\",\"\\uffe5256.5\",\"\\uffe5-9.5\",null],[\"2018-07-06\",\"513600.HOF\",\"513600.HOF INC.\",2.66,\"2.504\",100,250.4,-15.6],[\"\",\"\",\"\\uff08\\u603b\\u8d44\\u4ea7\\uffe51929.0\",\"\\u5269\\u4f59\\u91d1\\u989d\\uffe51678.6\",\"\\u5f53\\u65e5\\u4ea4\\u6613\\u4f63\\u91d1\\uffe50.0\\uff09\",\"\\uffe5250.4\",\"\\uffe5-15.6\",null],[\"2018-07-05\",\"513600.HOF\",\"513600.HOF INC.\",2.66,\"2.464\",100,246.4,-19.6],[\"\",\"\",\"\\uff08\\u603b\\u8d44\\u4ea7\\uffe51925.0\",\"\\u5269\\u4f59\\u91d1\\u989d\\uffe51678.6\",\"\\u5f53\\u65e5\\u4ea4\\u6613\\u4f63\\u91d1\\uffe50.0\\uff09\",\"\\uffe5246.4\",\"\\uffe5-19.6\",null],[\"2018-07-04\",\"513600.HOF\",\"513600.HOF INC.\",2.66,\"2.487\",100,248.7,-17.3],[\"\",\"\",\"\\uff08\\u603b\\u8d44\\u4ea7\\uffe51927.3\",\"\\u5269\\u4f59\\u91d1\\u989d\\uffe51678.6\",\"\\u5f53\\u65e5\\u4ea4\\u6613\\u4f63\\u91d1\\uffe50.0\\uff09\",\"\\uffe5248.7\",\"\\uffe5-17.3\",null],[\"2018-07-03\",\"513600.HOF\",\"513600.HOF INC.\",2.66,\"2.509\",100,250.9,-15.1],[\"\",\"\",\"\\uff08\\u603b\\u8d44\\u4ea7\\uffe51929.5\",\"\\u5269\\u4f59\\u91d1\\u989d\\uffe51678.6\",\"\\u5f53\\u65e5\\u4ea4\\u6613\\u4f63\\u91d1\\uffe50.0\\uff09\",\"\\uffe5250.9\",\"\\uffe5-15.1\",null],[\"2018-07-02\",\"513600.HOF\",\"513600.HOF INC.\",2.66,\"2.500\",100,250.0,-16.0],[\"\",\"\",\"\\uff08\\u603b\\u8d44\\u4ea7\\uffe51928.6\",\"\\u5269\\u4f59\\u91d1\\u989d\\uffe51678.6\",\"\\u5f53\\u65e5\\u4ea4\\u6613\\u4f63\\u91d1\\uffe50.0\\uff09\",\"\\uffe5250.0\",\"\\uffe5-16.0\",null],[\"2018-06-29\",\"513600.HOF\",\"513600.HOF INC.\",2.66,\"2.539\",100,253.9,-12.1],[\"\",\"\",\"\\uff08\\u603b\\u8d44\\u4ea7\\uffe51932.5\",\"\\u5269\\u4f59\\u91d1\\u989d\\uffe51678.6\",\"\\u5f53\\u65e5\\u4ea4\\u6613\\u4f63\\u91d1\\uffe50.0\\uff09\",\"\\uffe5253.9\",\"\\uffe5-12.1\",null],[\"2018-06-28\",\"513600.HOF\",\"513600.HOF INC.\",2.66,\"2.470\",100,247.0,-19.0],[\"\",\"\",\"\\uff08\\u603b\\u8d44\\u4ea7\\uffe51925.6\",\"\\u5269\\u4f59\\u91d1\\u989d\\uffe51678.6\",\"\\u5f53\\u65e5\\u4ea4\\u6613\\u4f63\\u91d1\\uffe50.0\\uff09\",\"\\uffe5247.0\",\"\\uffe5-19.0\",null],[\"2018-06-27\",\"513600.HOF\",\"513600.HOF INC.\",2.66,\"2.486\",100,248.6,-17.4],[\"\",\"\",\"\\uff08\\u603b\\u8d44\\u4ea7\\uffe51927.2\",\"\\u5269\\u4f59\\u91d1\\u989d\\uffe51678.6\",\"\\u5f53\\u65e5\\u4ea4\\u6613\\u4f63\\u91d1\\uffe50.0\\uff09\",\"\\uffe5248.6\",\"\\uffe5-17.4\",null],[\"2018-06-26\",\"513600.HOF\",\"513600.HOF INC.\",2.66,\"2.505\",100,250.5,-15.5],[\"\",\"\",\"\\uff08\\u603b\\u8d44\\u4ea7\\uffe51929.1\",\"\\u5269\\u4f59\\u91d1\\u989d\\uffe51678.6\",\"\\u5f53\\u65e5\\u4ea4\\u6613\\u4f63\\u91d1\\uffe50.0\\uff09\",\"\\uffe5250.5\",\"\\uffe5-15.5\",null],[\"2018-06-25\",\"513600.HOF\",\"513600.HOF INC.\",2.66,\"2.509\",100,250.9,-15.1],[\"\",\"\",\"\\uff08\\u603b\\u8d44\\u4ea7\\uffe51929.5\",\"\\u5269\\u4f59\\u91d1\\u989d\\uffe51678.6\",\"\\u5f53\\u65e5\\u4ea4\\u6613\\u4f63\\u91d1\\uffe50.0\\uff09\",\"\\uffe5250.9\",\"\\uffe5-15.1\",null],[\"2018-06-22\",\"513600.HOF\",\"513600.HOF INC.\",2.66,\"2.499\",100,249.9,-16.1],[\"\",\"\",\"\\uff08\\u603b\\u8d44\\u4ea7\\uffe51928.5\",\"\\u5269\\u4f59\\u91d1\\u989d\\uffe51678.6\",\"\\u5f53\\u65e5\\u4ea4\\u6613\\u4f63\\u91d1\\uffe50.0\\uff09\",\"\\uffe5249.9\",\"\\uffe5-16.1\",null],[\"2018-06-21\",\"513600.HOF\",\"513600.HOF INC.\",2.66,\"2.527\",100,252.7,-13.3],[\"\",\"\",\"\\uff08\\u603b\\u8d44\\u4ea7\\uffe51931.3\",\"\\u5269\\u4f59\\u91d1\\u989d\\uffe51678.6\",\"\\u5f53\\u65e5\\u4ea4\\u6613\\u4f63\\u91d1\\uffe50.0\\uff09\",\"\\uffe5252.7\",\"\\uffe5-13.3\",null],[\"2018-06-20\",\"513600.HOF\",\"513600.HOF INC.\",2.66,\"2.567\",100,256.7,-9.3],[\"\",\"\",\"\\uff08\\u603b\\u8d44\\u4ea7\\uffe51935.3\",\"\\u5269\\u4f59\\u91d1\\u989d\\uffe51678.6\",\"\\u5f53\\u65e5\\u4ea4\\u6613\\u4f63\\u91d1\\uffe50.0\\uff09\",\"\\uffe5256.7\",\"\\uffe5-9.3\",null],[\"2018-06-19\",\"513600.HOF\",\"513600.HOF INC.\",2.66,\"2.529\",100,252.9,-13.1],[\"\",\"\",\"\\uff08\\u603b\\u8d44\\u4ea7\\uffe51931.5\",\"\\u5269\\u4f59\\u91d1\\u989d\\uffe51678.6\",\"\\u5f53\\u65e5\\u4ea4\\u6613\\u4f63\\u91d1\\uffe50.0\\uff09\",\"\\uffe5252.9\",\"\\uffe5-13.1\",null],[\"2018-06-15\",\"513600.HOF\",\"513600.HOF INC.\",2.66,\"2.619\",100,261.9,-4.1],[\"\",\"\",\"\\uff08\\u603b\\u8d44\\u4ea7\\uffe51940.5\",\"\\u5269\\u4f59\\u91d1\\u989d\\uffe51678.6\",\"\\u5f53\\u65e5\\u4ea4\\u6613\\u4f63\\u91d1\\uffe50.0\\uff09\",\"\\uffe5261.9\",\"\\uffe5-4.1\",null],[\"2018-06-14\",\"513600.HOF\",\"513600.HOF INC.\",2.66,\"2.607\",100,260.7,-5.3],[\"\",\"\",\"\\uff08\\u603b\\u8d44\\u4ea7\\uffe51939.3\",\"\\u5269\\u4f59\\u91d1\\u989d\\uffe51678.6\",\"\\u5f53\\u65e5\\u4ea4\\u6613\\u4f63\\u91d1\\uffe50.0\\uff09\",\"\\uffe5260.7\",\"\\uffe5-5.3\",null],[\"2018-06-13\",\"513600.HOF\",\"513600.HOF INC.\",2.66,\"2.645\",100,264.5,-1.5],[\"\",\"\",\"\\uff08\\u603b\\u8d44\\u4ea7\\uffe51943.1\",\"\\u5269\\u4f59\\u91d1\\u989d\\uffe51678.6\",\"\\u5f53\\u65e5\\u4ea4\\u6613\\u4f63\\u91d1\\uffe50.0\\uff09\",\"\\uffe5264.5\",\"\\uffe5-1.5\",null],[\"2018-06-12\",\"513600.HOF\",\"513600.HOF INC.\",2.66,\"2.675\",100,267.5,1.5],[\"\",\"\",\"\\uff08\\u603b\\u8d44\\u4ea7\\uffe51946.1\",\"\\u5269\\u4f59\\u91d1\\u989d\\uffe51678.6\",\"\\u5f53\\u65e5\\u4ea4\\u6613\\u4f63\\u91d1\\uffe50.0\\uff09\",\"\\uffe5267.5\",\"\\uffe51.5\",null],[\"2018-06-11\",\"513600.HOF\",\"513600.HOF INC.\",2.66,\"2.659\",100,265.9,-0.1],[\"\",\"\",\"\\uff08\\u603b\\u8d44\\u4ea7\\uffe51944.5\",\"\\u5269\\u4f59\\u91d1\\u989d\\uffe51678.6\",\"\\u5f53\\u65e5\\u4ea4\\u6613\\u4f63\\u91d1\\uffe50.0\\uff09\",\"\\uffe5265.9\",\"\\uffe5-0.1\",null],[\"2018-06-08\",\"513600.HOF\",\"513600.HOF INC.\",2.66,\"2.651\",100,265.1,-0.9],[\"\",\"\",\"\\uff08\\u603b\\u8d44\\u4ea7\\uffe51943.7\",\"\\u5269\\u4f59\\u91d1\\u989d\\uffe51678.6\",\"\\u5f53\\u65e5\\u4ea4\\u6613\\u4f63\\u91d1\\uffe50.0\\uff09\",\"\\uffe5265.1\",\"\\uffe5-0.9\",null],[\"2018-06-07\",\"513600.HOF\",\"513600.HOF INC.\",2.66,\"2.693\",100,269.3,3.3],[\"\",\"\",\"\\uff08\\u603b\\u8d44\\u4ea7\\uffe51947.9\",\"\\u5269\\u4f59\\u91d1\\u989d\\uffe51678.6\",\"\\u5f53\\u65e5\\u4ea4\\u6613\\u4f63\\u91d1\\uffe50.0\\uff09\",\"\\uffe5269.3\",\"\\uffe53.3\",null],[\"2018-06-06\",\"513600.HOF\",\"513600.HOF INC.\",2.66,\"2.677\",100,267.7,1.7],[\"\",\"\",\"\\uff08\\u603b\\u8d44\\u4ea7\\uffe51946.3\",\"\\u5269\\u4f59\\u91d1\\u989d\\uffe51678.6\",\"\\u5f53\\u65e5\\u4ea4\\u6613\\u4f63\\u91d1\\uffe50.0\\uff09\",\"\\uffe5267.7\",\"\\uffe51.7\",null],[\"2018-06-05\",\"513600.HOF\",\"513600.HOF INC.\",2.66,\"2.665\",100,266.5,0.5],[\"\",\"\",\"\\uff08\\u603b\\u8d44\\u4ea7\\uffe51945.1\",\"\\u5269\\u4f59\\u91d1\\u989d\\uffe51678.6\",\"\\u5f53\\u65e5\\u4ea4\\u6613\\u4f63\\u91d1\\uffe50.0\\uff09\",\"\\uffe5266.5\",\"\\uffe50.5\",null],[\"2018-06-04\",\"513600.HOF\",\"513600.HOF INC.\",2.66,\"2.642\",100,264.2,-1.8],[\"\",\"\",\"\\uff08\\u603b\\u8d44\\u4ea7\\uffe51942.8\",\"\\u5269\\u4f59\\u91d1\\u989d\\uffe51678.6\",\"\\u5f53\\u65e5\\u4ea4\\u6613\\u4f63\\u91d1\\uffe50.0\\uff09\",\"\\uffe5264.2\",\"\\uffe5-1.8\",null],[\"2018-06-01\",\"513600.HOF\",\"513600.HOF INC.\",2.66,\"2.604\",100,260.4,-5.6],[\"\",\"\",\"\\uff08\\u603b\\u8d44\\u4ea7\\uffe51939.0\",\"\\u5269\\u4f59\\u91d1\\u989d\\uffe51678.6\",\"\\u5f53\\u65e5\\u4ea4\\u6613\\u4f63\\u91d1\\uffe50.0\\uff09\",\"\\uffe5260.4\",\"\\uffe5-5.6\",null],[\"2018-05-31\",\"513600.HOF\",\"513600.HOF INC.\",2.66,\"2.598\",100,259.8,-6.2],[\"\",\"\",\"\\uff08\\u603b\\u8d44\\u4ea7\\uffe51938.4\",\"\\u5269\\u4f59\\u91d1\\u989d\\uffe51678.6\",\"\\u5f53\\u65e5\\u4ea4\\u6613\\u4f63\\u91d1\\uffe50.0\\uff09\",\"\\uffe5259.8\",\"\\uffe5-6.2\",null],[\"2018-05-30\",\"513600.HOF\",\"513600.HOF INC.\",2.66,\"2.570\",100,257.0,-9.0],[\"\",\"\",\"\\uff08\\u603b\\u8d44\\u4ea7\\uffe51935.6\",\"\\u5269\\u4f59\\u91d1\\u989d\\uffe51678.6\",\"\\u5f53\\u65e5\\u4ea4\\u6613\\u4f63\\u91d1\\uffe50.0\\uff09\",\"\\uffe5257.0\",\"\\uffe5-9.0\",null],[\"2018-05-29\",\"513600.HOF\",\"513600.HOF INC.\",2.66,\"2.606\",100,260.6,-5.4],[\"\",\"\",\"\\uff08\\u603b\\u8d44\\u4ea7\\uffe51939.2\",\"\\u5269\\u4f59\\u91d1\\u989d\\uffe51678.6\",\"\\u5f53\\u65e5\\u4ea4\\u6613\\u4f63\\u91d1\\uffe510.0\\uff09\",\"\\uffe5260.6\",\"\\uffe5-5.4\",null],[\"2018-05-28\",\"518880.HOF\",\"518880.HOF INC.\",2.693,\"2.667\",100,266.7,-2.6],[\"\",\"\",\"\\uff08\\u603b\\u8d44\\u4ea7\\uffe51953.7\",\"\\u5269\\u4f59\\u91d1\\u989d\\uffe51687.0\",\"\\u5f53\\u65e5\\u4ea4\\u6613\\u4f63\\u91d1\\uffe50.0\\uff09\",\"\\uffe5266.7\",\"\\uffe5-2.6\",null],[\"2018-05-25\",\"518880.HOF\",\"518880.HOF INC.\",2.693,\"2.678\",100,267.8,-1.5],[\"\",\"\",\"\\uff08\\u603b\\u8d44\\u4ea7\\uffe51954.8\",\"\\u5269\\u4f59\\u91d1\\u989d\\uffe51687.0\",\"\\u5f53\\u65e5\\u4ea4\\u6613\\u4f63\\u91d1\\uffe50.0\\uff09\",\"\\uffe5267.8\",\"\\uffe5-1.5\",null],[\"2018-05-24\",\"518880.HOF\",\"518880.HOF INC.\",2.693,\"2.665\",100,266.5,-2.8],[\"\",\"\",\"\\uff08\\u603b\\u8d44\\u4ea7\\uffe51953.5\",\"\\u5269\\u4f59\\u91d1\\u989d\\uffe51687.0\",\"\\u5f53\\u65e5\\u4ea4\\u6613\\u4f63\\u91d1\\uffe50.0\\uff09\",\"\\uffe5266.5\",\"\\uffe5-2.8\",null],[\"2018-05-23\",\"518880.HOF\",\"518880.HOF INC.\",2.693,\"2.649\",100,264.9,-4.4],[\"\",\"\",\"\\uff08\\u603b\\u8d44\\u4ea7\\uffe51951.9\",\"\\u5269\\u4f59\\u91d1\\u989d\\uffe51687.0\",\"\\u5f53\\u65e5\\u4ea4\\u6613\\u4f63\\u91d1\\uffe50.0\\uff09\",\"\\uffe5264.9\",\"\\uffe5-4.4\",null],[\"2018-05-22\",\"518880.HOF\",\"518880.HOF INC.\",2.693,\"2.646\",100,264.6,-4.7],[\"\",\"\",\"\\uff08\\u603b\\u8d44\\u4ea7\\uffe51951.6\",\"\\u5269\\u4f59\\u91d1\\u989d\\uffe51687.0\",\"\\u5f53\\u65e5\\u4ea4\\u6613\\u4f63\\u91d1\\uffe50.0\\uff09\",\"\\uffe5264.6\",\"\\uffe5-4.7\",null],[\"2018-05-21\",\"518880.HOF\",\"518880.HOF INC.\",2.693,\"2.639\",100,263.9,-5.4],[\"\",\"\",\"\\uff08\\u603b\\u8d44\\u4ea7\\uffe51950.9\",\"\\u5269\\u4f59\\u91d1\\u989d\\uffe51687.0\",\"\\u5f53\\u65e5\\u4ea4\\u6613\\u4f63\\u91d1\\uffe50.0\\uff09\",\"\\uffe5263.9\",\"\\uffe5-5.4\",null],[\"2018-05-18\",\"518880.HOF\",\"518880.HOF INC.\",2.693,\"2.644\",100,264.4,-4.9],[\"\",\"\",\"\\uff08\\u603b\\u8d44\\u4ea7\\uffe51951.4\",\"\\u5269\\u4f59\\u91d1\\u989d\\uffe51687.0\",\"\\u5f53\\u65e5\\u4ea4\\u6613\\u4f63\\u91d1\\uffe50.0\\uff09\",\"\\uffe5264.4\",\"\\uffe5-4.9\",null],[\"2018-05-17\",\"518880.HOF\",\"518880.HOF INC.\",2.693,\"2.642\",100,264.2,-5.1],[\"\",\"\",\"\\uff08\\u603b\\u8d44\\u4ea7\\uffe51951.2\",\"\\u5269\\u4f59\\u91d1\\u989d\\uffe51687.0\",\"\\u5f53\\u65e5\\u4ea4\\u6613\\u4f63\\u91d1\\uffe50.0\\uff09\",\"\\uffe5264.2\",\"\\uffe5-5.1\",null],[\"2018-05-16\",\"518880.HOF\",\"518880.HOF INC.\",2.693,\"2.654\",100,265.4,-3.9],[\"\",\"\",\"\\uff08\\u603b\\u8d44\\u4ea7\\uffe51952.4\",\"\\u5269\\u4f59\\u91d1\\u989d\\uffe51687.0\",\"\\u5f53\\u65e5\\u4ea4\\u6613\\u4f63\\u91d1\\uffe50.0\\uff09\",\"\\uffe5265.4\",\"\\uffe5-3.9\",null],[\"2018-05-15\",\"518880.HOF\",\"518880.HOF INC.\",2.693,\"2.680\",100,268.0,-1.3],[\"\",\"\",\"\\uff08\\u603b\\u8d44\\u4ea7\\uffe51955.0\",\"\\u5269\\u4f59\\u91d1\\u989d\\uffe51687.0\",\"\\u5f53\\u65e5\\u4ea4\\u6613\\u4f63\\u91d1\\uffe50.0\\uff09\",\"\\uffe5268.0\",\"\\uffe5-1.3\",null],[\"2018-05-14\",\"518880.HOF\",\"518880.HOF INC.\",2.693,\"2.694\",100,269.4,0.1],[\"\",\"\",\"\\uff08\\u603b\\u8d44\\u4ea7\\uffe51956.4\",\"\\u5269\\u4f59\\u91d1\\u989d\\uffe51687.0\",\"\\u5f53\\u65e5\\u4ea4\\u6613\\u4f63\\u91d1\\uffe50.0\\uff09\",\"\\uffe5269.4\",\"\\uffe50.1\",null],[\"2018-05-11\",\"518880.HOF\",\"518880.HOF INC.\",2.693,\"2.693\",100,269.3,0.0],[\"\",\"\",\"\\uff08\\u603b\\u8d44\\u4ea7\\uffe51956.3\",\"\\u5269\\u4f59\\u91d1\\u989d\\uffe51687.0\",\"\\u5f53\\u65e5\\u4ea4\\u6613\\u4f63\\u91d1\\uffe50.0\\uff09\",\"\\uffe5269.3\",\"\\uffe50.0\",null],[\"2018-05-10\",\"518880.HOF\",\"518880.HOF INC.\",2.693,\"2.690\",100,269.0,-0.3],[\"\",\"\",\"\\uff08\\u603b\\u8d44\\u4ea7\\uffe51956.0\",\"\\u5269\\u4f59\\u91d1\\u989d\\uffe51687.0\",\"\\u5f53\\u65e5\\u4ea4\\u6613\\u4f63\\u91d1\\uffe510.0\\uff09\",\"\\uffe5269.0\",\"\\uffe5-0.3\",null],[\"2018-05-09\",\"513600.HOF\",\"513600.HOF INC.\",2.536,\"2.573\",100,257.3,3.7],[\"\",\"\",\"\\uff08\\u603b\\u8d44\\u4ea7\\uffe51962.6\",\"\\u5269\\u4f59\\u91d1\\u989d\\uffe51705.3\",\"\\u5f53\\u65e5\\u4ea4\\u6613\\u4f63\\u91d1\\uffe50.0\\uff09\",\"\\uffe5257.3\",\"\\uffe53.7\",null],[\"2018-05-08\",\"513600.HOF\",\"513600.HOF INC.\",2.536,\"2.568\",100,256.8,3.2],[\"\",\"\",\"\\uff08\\u603b\\u8d44\\u4ea7\\uffe51962.1\",\"\\u5269\\u4f59\\u91d1\\u989d\\uffe51705.3\",\"\\u5f53\\u65e5\\u4ea4\\u6613\\u4f63\\u91d1\\uffe50.0\\uff09\",\"\\uffe5256.8\",\"\\uffe53.2\",null],[\"2018-05-07\",\"513600.HOF\",\"513600.HOF INC.\",2.536,\"2.528\",100,252.8,-0.8],[\"\",\"\",\"\\uff08\\u603b\\u8d44\\u4ea7\\uffe51958.1\",\"\\u5269\\u4f59\\u91d1\\u989d\\uffe51705.3\",\"\\u5f53\\u65e5\\u4ea4\\u6613\\u4f63\\u91d1\\uffe50.0\\uff09\",\"\\uffe5252.8\",\"\\uffe5-0.8\",null],[\"2018-05-04\",\"513600.HOF\",\"513600.HOF INC.\",2.536,\"2.536\",100,253.6,0.0],[\"\",\"\",\"\\uff08\\u603b\\u8d44\\u4ea7\\uffe51958.9\",\"\\u5269\\u4f59\\u91d1\\u989d\\uffe51705.3\",\"\\u5f53\\u65e5\\u4ea4\\u6613\\u4f63\\u91d1\\uffe50.0\\uff09\",\"\\uffe5253.6\",\"\\uffe50.0\",null],[\"2018-05-03\",\"513600.HOF\",\"513600.HOF INC.\",2.536,\"2.566\",100,256.6,3.0],[\"\",\"\",\"\\uff08\\u603b\\u8d44\\u4ea7\\uffe51961.9\",\"\\u5269\\u4f59\\u91d1\\u989d\\uffe51705.3\",\"\\u5f53\\u65e5\\u4ea4\\u6613\\u4f63\\u91d1\\uffe50.0\\uff09\",\"\\uffe5256.6\",\"\\uffe53.0\",null],[\"2018-05-02\",\"513600.HOF\",\"513600.HOF INC.\",2.536,\"2.587\",100,258.7,5.1],[\"\",\"\",\"\\uff08\\u603b\\u8d44\\u4ea7\\uffe51964.0\",\"\\u5269\\u4f59\\u91d1\\u989d\\uffe51705.3\",\"\\u5f53\\u65e5\\u4ea4\\u6613\\u4f63\\u91d1\\uffe50.0\\uff09\",\"\\uffe5258.7\",\"\\uffe55.1\",null],[\"2018-04-27\",\"513600.HOF\",\"513600.HOF INC.\",2.536,\"2.544\",100,254.4,0.8],[\"\",\"\",\"\\uff08\\u603b\\u8d44\\u4ea7\\uffe51959.7\",\"\\u5269\\u4f59\\u91d1\\u989d\\uffe51705.3\",\"\\u5f53\\u65e5\\u4ea4\\u6613\\u4f63\\u91d1\\uffe50.0\\uff09\",\"\\uffe5254.4\",\"\\uffe50.8\",null],[\"2018-04-26\",\"513600.HOF\",\"513600.HOF INC.\",2.536,\"2.514\",100,251.4,-2.2],[\"\",\"\",\"\\uff08\\u603b\\u8d44\\u4ea7\\uffe51956.7\",\"\\u5269\\u4f59\\u91d1\\u989d\\uffe51705.3\",\"\\u5f53\\u65e5\\u4ea4\\u6613\\u4f63\\u91d1\\uffe50.0\\uff09\",\"\\uffe5251.4\",\"\\uffe5-2.2\",null],[\"2018-04-25\",\"513600.HOF\",\"513600.HOF INC.\",2.536,\"2.537\",100,253.7,0.1],[\"\",\"\",\"\\uff08\\u603b\\u8d44\\u4ea7\\uffe51959.0\",\"\\u5269\\u4f59\\u91d1\\u989d\\uffe51705.3\",\"\\u5f53\\u65e5\\u4ea4\\u6613\\u4f63\\u91d1\\uffe50.0\\uff09\",\"\\uffe5253.7\",\"\\uffe50.1\",null],[\"2018-04-24\",\"513600.HOF\",\"513600.HOF INC.\",2.536,\"2.564\",100,256.4,2.8],[\"\",\"\",\"\\uff08\\u603b\\u8d44\\u4ea7\\uffe51961.7\",\"\\u5269\\u4f59\\u91d1\\u989d\\uffe51705.3\",\"\\u5f53\\u65e5\\u4ea4\\u6613\\u4f63\\u91d1\\uffe50.0\\uff09\",\"\\uffe5256.4\",\"\\uffe52.8\",null],[\"2018-04-23\",\"513600.HOF\",\"513600.HOF INC.\",2.536,\"2.534\",100,253.4,-0.2],[\"\",\"\",\"\\uff08\\u603b\\u8d44\\u4ea7\\uffe51958.7\",\"\\u5269\\u4f59\\u91d1\\u989d\\uffe51705.3\",\"\\u5f53\\u65e5\\u4ea4\\u6613\\u4f63\\u91d1\\uffe50.0\\uff09\",\"\\uffe5253.4\",\"\\uffe5-0.2\",null],[\"2018-04-20\",\"513600.HOF\",\"513600.HOF INC.\",2.536,\"2.553\",100,255.3,1.7],[\"\",\"\",\"\\uff08\\u603b\\u8d44\\u4ea7\\uffe51960.6\",\"\\u5269\\u4f59\\u91d1\\u989d\\uffe51705.3\",\"\\u5f53\\u65e5\\u4ea4\\u6613\\u4f63\\u91d1\\uffe50.0\\uff09\",\"\\uffe5255.3\",\"\\uffe51.7\",null],[\"2018-04-19\",\"513600.HOF\",\"513600.HOF INC.\",2.536,\"2.552\",100,255.2,1.6],[\"\",\"\",\"\\uff08\\u603b\\u8d44\\u4ea7\\uffe51960.5\",\"\\u5269\\u4f59\\u91d1\\u989d\\uffe51705.3\",\"\\u5f53\\u65e5\\u4ea4\\u6613\\u4f63\\u91d1\\uffe50.0\\uff09\",\"\\uffe5255.2\",\"\\uffe51.6\",null],[\"2018-04-18\",\"513600.HOF\",\"513600.HOF INC.\",2.536,\"2.524\",100,252.4,-1.2],[\"\",\"\",\"\\uff08\\u603b\\u8d44\\u4ea7\\uffe51957.7\",\"\\u5269\\u4f59\\u91d1\\u989d\\uffe51705.3\",\"\\u5f53\\u65e5\\u4ea4\\u6613\\u4f63\\u91d1\\uffe50.0\\uff09\",\"\\uffe5252.4\",\"\\uffe5-1.2\",null],[\"2018-04-17\",\"513600.HOF\",\"513600.HOF INC.\",2.536,\"2.516\",100,251.6,-2.0],[\"\",\"\",\"\\uff08\\u603b\\u8d44\\u4ea7\\uffe51956.9\",\"\\u5269\\u4f59\\u91d1\\u989d\\uffe51705.3\",\"\\u5f53\\u65e5\\u4ea4\\u6613\\u4f63\\u91d1\\uffe50.0\\uff09\",\"\\uffe5251.6\",\"\\uffe5-2.0\",null],[\"2018-04-16\",\"513600.HOF\",\"513600.HOF INC.\",2.536,\"2.532\",100,253.2,-0.4],[\"\",\"\",\"\\uff08\\u603b\\u8d44\\u4ea7\\uffe51958.5\",\"\\u5269\\u4f59\\u91d1\\u989d\\uffe51705.3\",\"\\u5f53\\u65e5\\u4ea4\\u6613\\u4f63\\u91d1\\uffe50.0\\uff09\",\"\\uffe5253.2\",\"\\uffe5-0.4\",null],[\"2018-04-13\",\"513600.HOF\",\"513600.HOF INC.\",2.536,\"2.573\",100,257.3,3.7],[\"\",\"\",\"\\uff08\\u603b\\u8d44\\u4ea7\\uffe51962.6\",\"\\u5269\\u4f59\\u91d1\\u989d\\uffe51705.3\",\"\\u5f53\\u65e5\\u4ea4\\u6613\\u4f63\\u91d1\\uffe50.0\\uff09\",\"\\uffe5257.3\",\"\\uffe53.7\",null],[\"2018-04-12\",\"513600.HOF\",\"513600.HOF INC.\",2.536,\"2.558\",100,255.8,2.2],[\"\",\"\",\"\\uff08\\u603b\\u8d44\\u4ea7\\uffe51961.1\",\"\\u5269\\u4f59\\u91d1\\u989d\\uffe51705.3\",\"\\u5f53\\u65e5\\u4ea4\\u6613\\u4f63\\u91d1\\uffe50.0\\uff09\",\"\\uffe5255.8\",\"\\uffe52.2\",null],[\"2018-04-11\",\"513600.HOF\",\"513600.HOF INC.\",2.536,\"2.583\",100,258.3,4.7],[\"\",\"\",\"\\uff08\\u603b\\u8d44\\u4ea7\\uffe51963.6\",\"\\u5269\\u4f59\\u91d1\\u989d\\uffe51705.3\",\"\\u5f53\\u65e5\\u4ea4\\u6613\\u4f63\\u91d1\\uffe50.0\\uff09\",\"\\uffe5258.3\",\"\\uffe54.7\",null],[\"2018-04-10\",\"513600.HOF\",\"513600.HOF INC.\",2.536,\"2.575\",100,257.5,3.9],[\"\",\"\",\"\\uff08\\u603b\\u8d44\\u4ea7\\uffe51962.8\",\"\\u5269\\u4f59\\u91d1\\u989d\\uffe51705.3\",\"\\u5f53\\u65e5\\u4ea4\\u6613\\u4f63\\u91d1\\uffe50.0\\uff09\",\"\\uffe5257.5\",\"\\uffe53.9\",null],[\"2018-04-09\",\"513600.HOF\",\"513600.HOF INC.\",2.536,\"2.534\",100,253.4,-0.2],[\"\",\"\",\"\\uff08\\u603b\\u8d44\\u4ea7\\uffe51958.7\",\"\\u5269\\u4f59\\u91d1\\u989d\\uffe51705.3\",\"\\u5f53\\u65e5\\u4ea4\\u6613\\u4f63\\u91d1\\uffe50.0\\uff09\",\"\\uffe5253.4\",\"\\uffe5-0.2\",null],[\"2018-04-04\",\"513600.HOF\",\"513600.HOF INC.\",2.536,\"2.497\",100,249.7,-3.9],[\"\",\"\",\"\\uff08\\u603b\\u8d44\\u4ea7\\uffe51955.0\",\"\\u5269\\u4f59\\u91d1\\u989d\\uffe51705.3\",\"\\u5f53\\u65e5\\u4ea4\\u6613\\u4f63\\u91d1\\uffe50.0\\uff09\",\"\\uffe5249.7\",\"\\uffe5-3.9\",null],[\"2018-04-03\",\"513600.HOF\",\"513600.HOF INC.\",2.536,\"2.515\",100,251.5,-2.1],[\"\",\"\",\"\\uff08\\u603b\\u8d44\\u4ea7\\uffe51956.8\",\"\\u5269\\u4f59\\u91d1\\u989d\\uffe51705.3\",\"\\u5f53\\u65e5\\u4ea4\\u6613\\u4f63\\u91d1\\uffe50.0\\uff09\",\"\\uffe5251.5\",\"\\uffe5-2.1\",null],[\"2018-04-02\",\"513600.HOF\",\"513600.HOF INC.\",2.536,\"2.514\",100,251.4,-2.2],[\"\",\"\",\"\\uff08\\u603b\\u8d44\\u4ea7\\uffe51956.7\",\"\\u5269\\u4f59\\u91d1\\u989d\\uffe51705.3\",\"\\u5f53\\u65e5\\u4ea4\\u6613\\u4f63\\u91d1\\uffe50.0\\uff09\",\"\\uffe5251.4\",\"\\uffe5-2.2\",null],[\"2018-03-30\",\"513600.HOF\",\"513600.HOF INC.\",2.536,\"2.518\",100,251.8,-1.8],[\"\",\"\",\"\\uff08\\u603b\\u8d44\\u4ea7\\uffe51957.1\",\"\\u5269\\u4f59\\u91d1\\u989d\\uffe51705.3\",\"\\u5f53\\u65e5\\u4ea4\\u6613\\u4f63\\u91d1\\uffe50.0\\uff09\",\"\\uffe5251.8\",\"\\uffe5-1.8\",null],[\"2018-03-29\",\"513600.HOF\",\"513600.HOF INC.\",2.536,\"2.527\",100,252.7,-0.9],[\"\",\"\",\"\\uff08\\u603b\\u8d44\\u4ea7\\uffe51958.0\",\"\\u5269\\u4f59\\u91d1\\u989d\\uffe51705.3\",\"\\u5f53\\u65e5\\u4ea4\\u6613\\u4f63\\u91d1\\uffe50.0\\uff09\",\"\\uffe5252.7\",\"\\uffe5-0.9\",null],[\"2018-03-28\",\"513600.HOF\",\"513600.HOF INC.\",2.536,\"2.529\",100,252.9,-0.7],[\"\",\"\",\"\\uff08\\u603b\\u8d44\\u4ea7\\uffe51958.2\",\"\\u5269\\u4f59\\u91d1\\u989d\\uffe51705.3\",\"\\u5f53\\u65e5\\u4ea4\\u6613\\u4f63\\u91d1\\uffe50.0\\uff09\",\"\\uffe5252.9\",\"\\uffe5-0.7\",null],[\"2018-03-27\",\"513600.HOF\",\"513600.HOF INC.\",2.536,\"2.574\",100,257.4,3.8],[\"\",\"\",\"\\uff08\\u603b\\u8d44\\u4ea7\\uffe51962.7\",\"\\u5269\\u4f59\\u91d1\\u989d\\uffe51705.3\",\"\\u5f53\\u65e5\\u4ea4\\u6613\\u4f63\\u91d1\\uffe50.0\\uff09\",\"\\uffe5257.4\",\"\\uffe53.8\",null],[\"2018-03-26\",\"513600.HOF\",\"513600.HOF INC.\",2.536,\"2.550\",100,255.0,1.4],[\"\",\"\",\"\\uff08\\u603b\\u8d44\\u4ea7\\uffe51960.3\",\"\\u5269\\u4f59\\u91d1\\u989d\\uffe51705.3\",\"\\u5f53\\u65e5\\u4ea4\\u6613\\u4f63\\u91d1\\uffe50.0\\uff09\",\"\\uffe5255.0\",\"\\uffe51.4\",null],[\"2018-03-23\",\"513600.HOF\",\"513600.HOF INC.\",2.536,\"2.532\",100,253.2,-0.4],[\"\",\"\",\"\\uff08\\u603b\\u8d44\\u4ea7\\uffe51958.5\",\"\\u5269\\u4f59\\u91d1\\u989d\\uffe51705.3\",\"\\u5f53\\u65e5\\u4ea4\\u6613\\u4f63\\u91d1\\uffe510.0\\uff09\",\"\\uffe5253.2\",\"\\uffe5-0.4\",null],[\"2018-03-22\",\"518880.HOF\",\"518880.HOF INC.\",2.701,\"2.713\",100,271.3,1.2],[\"\",\"\",\"\\uff08\\u603b\\u8d44\\u4ea7\\uffe51966.1\",\"\\u5269\\u4f59\\u91d1\\u989d\\uffe51694.8\",\"\\u5f53\\u65e5\\u4ea4\\u6613\\u4f63\\u91d1\\uffe50.0\\uff09\",\"\\uffe5271.3\",\"\\uffe51.2\",null],[\"2018-03-21\",\"518880.HOF\",\"518880.HOF INC.\",2.701,\"2.690\",100,269.0,-1.1],[\"\",\"\",\"\\uff08\\u603b\\u8d44\\u4ea7\\uffe51963.8\",\"\\u5269\\u4f59\\u91d1\\u989d\\uffe51694.8\",\"\\u5f53\\u65e5\\u4ea4\\u6613\\u4f63\\u91d1\\uffe50.0\\uff09\",\"\\uffe5269.0\",\"\\uffe5-1.1\",null],[\"2018-03-20\",\"518880.HOF\",\"518880.HOF INC.\",2.701,\"2.689\",100,268.9,-1.2],[\"\",\"\",\"\\uff08\\u603b\\u8d44\\u4ea7\\uffe51963.7\",\"\\u5269\\u4f59\\u91d1\\u989d\\uffe51694.8\",\"\\u5f53\\u65e5\\u4ea4\\u6613\\u4f63\\u91d1\\uffe50.0\\uff09\",\"\\uffe5268.9\",\"\\uffe5-1.2\",null],[\"2018-03-19\",\"518880.HOF\",\"518880.HOF INC.\",2.701,\"2.678\",100,267.8,-2.3],[\"\",\"\",\"\\uff08\\u603b\\u8d44\\u4ea7\\uffe51962.6\",\"\\u5269\\u4f59\\u91d1\\u989d\\uffe51694.8\",\"\\u5f53\\u65e5\\u4ea4\\u6613\\u4f63\\u91d1\\uffe50.0\\uff09\",\"\\uffe5267.8\",\"\\uffe5-2.3\",null],[\"2018-03-16\",\"518880.HOF\",\"518880.HOF INC.\",2.701,\"2.688\",100,268.8,-1.3],[\"\",\"\",\"\\uff08\\u603b\\u8d44\\u4ea7\\uffe51963.6\",\"\\u5269\\u4f59\\u91d1\\u989d\\uffe51694.8\",\"\\u5f53\\u65e5\\u4ea4\\u6613\\u4f63\\u91d1\\uffe50.0\\uff09\",\"\\uffe5268.8\",\"\\uffe5-1.3\",null],[\"2018-03-15\",\"518880.HOF\",\"518880.HOF INC.\",2.701,\"2.699\",100,269.9,-0.2],[\"\",\"\",\"\\uff08\\u603b\\u8d44\\u4ea7\\uffe51964.7\",\"\\u5269\\u4f59\\u91d1\\u989d\\uffe51694.8\",\"\\u5f53\\u65e5\\u4ea4\\u6613\\u4f63\\u91d1\\uffe50.0\\uff09\",\"\\uffe5269.9\",\"\\uffe5-0.2\",null],[\"2018-03-14\",\"518880.HOF\",\"518880.HOF INC.\",2.701,\"2.702\",100,270.2,0.1],[\"\",\"\",\"\\uff08\\u603b\\u8d44\\u4ea7\\uffe51965.0\",\"\\u5269\\u4f59\\u91d1\\u989d\\uffe51694.8\",\"\\u5f53\\u65e5\\u4ea4\\u6613\\u4f63\\u91d1\\uffe50.0\\uff09\",\"\\uffe5270.2\",\"\\uffe50.1\",null],[\"2018-03-13\",\"518880.HOF\",\"518880.HOF INC.\",2.701,\"2.698\",100,269.8,-0.3],[\"\",\"\",\"\\uff08\\u603b\\u8d44\\u4ea7\\uffe51964.6\",\"\\u5269\\u4f59\\u91d1\\u989d\\uffe51694.8\",\"\\u5f53\\u65e5\\u4ea4\\u6613\\u4f63\\u91d1\\uffe50.0\\uff09\",\"\\uffe5269.8\",\"\\uffe5-0.3\",null],[\"2018-03-12\",\"518880.HOF\",\"518880.HOF INC.\",2.701,\"2.699\",100,269.9,-0.2],[\"\",\"\",\"\\uff08\\u603b\\u8d44\\u4ea7\\uffe51964.7\",\"\\u5269\\u4f59\\u91d1\\u989d\\uffe51694.8\",\"\\u5f53\\u65e5\\u4ea4\\u6613\\u4f63\\u91d1\\uffe510.0\\uff09\",\"\\uffe5269.9\",\"\\uffe5-0.2\",null],[\"2018-03-09\",\"513600.HOF\",\"513600.HOF INC.\",2.688,\"2.611\",100,261.1,-7.7],[\"\",\"\",\"\\uff08\\u603b\\u8d44\\u4ea7\\uffe51969.5\",\"\\u5269\\u4f59\\u91d1\\u989d\\uffe51708.4\",\"\\u5f53\\u65e5\\u4ea4\\u6613\\u4f63\\u91d1\\uffe50.0\\uff09\",\"\\uffe5261.1\",\"\\uffe5-7.7\",null],[\"2018-03-08\",\"513600.HOF\",\"513600.HOF INC.\",2.688,\"2.585\",100,258.5,-10.3],[\"\",\"\",\"\\uff08\\u603b\\u8d44\\u4ea7\\uffe51966.9\",\"\\u5269\\u4f59\\u91d1\\u989d\\uffe51708.4\",\"\\u5f53\\u65e5\\u4ea4\\u6613\\u4f63\\u91d1\\uffe50.0\\uff09\",\"\\uffe5258.5\",\"\\uffe5-10.3\",null],[\"2018-03-07\",\"513600.HOF\",\"513600.HOF INC.\",2.688,\"2.549\",100,254.9,-13.9],[\"\",\"\",\"\\uff08\\u603b\\u8d44\\u4ea7\\uffe51963.3\",\"\\u5269\\u4f59\\u91d1\\u989d\\uffe51708.4\",\"\\u5f53\\u65e5\\u4ea4\\u6613\\u4f63\\u91d1\\uffe50.0\\uff09\",\"\\uffe5254.9\",\"\\uffe5-13.9\",null],[\"2018-03-06\",\"513600.HOF\",\"513600.HOF INC.\",2.688,\"2.575\",100,257.5,-11.3],[\"\",\"\",\"\\uff08\\u603b\\u8d44\\u4ea7\\uffe51965.9\",\"\\u5269\\u4f59\\u91d1\\u989d\\uffe51708.4\",\"\\u5f53\\u65e5\\u4ea4\\u6613\\u4f63\\u91d1\\uffe50.0\\uff09\",\"\\uffe5257.5\",\"\\uffe5-11.3\",null],[\"2018-03-05\",\"513600.HOF\",\"513600.HOF INC.\",2.688,\"2.543\",100,254.3,-14.5],[\"\",\"\",\"\\uff08\\u603b\\u8d44\\u4ea7\\uffe51962.7\",\"\\u5269\\u4f59\\u91d1\\u989d\\uffe51708.4\",\"\\u5f53\\u65e5\\u4ea4\\u6613\\u4f63\\u91d1\\uffe50.0\\uff09\",\"\\uffe5254.3\",\"\\uffe5-14.5\",null],[\"2018-03-02\",\"513600.HOF\",\"513600.HOF INC.\",2.688,\"2.576\",100,257.6,-11.2],[\"\",\"\",\"\\uff08\\u603b\\u8d44\\u4ea7\\uffe51966.0\",\"\\u5269\\u4f59\\u91d1\\u989d\\uffe51708.4\",\"\\u5f53\\u65e5\\u4ea4\\u6613\\u4f63\\u91d1\\uffe50.0\\uff09\",\"\\uffe5257.6\",\"\\uffe5-11.2\",null],[\"2018-03-01\",\"513600.HOF\",\"513600.HOF INC.\",2.688,\"2.590\",100,259.0,-9.8],[\"\",\"\",\"\\uff08\\u603b\\u8d44\\u4ea7\\uffe51967.4\",\"\\u5269\\u4f59\\u91d1\\u989d\\uffe51708.4\",\"\\u5f53\\u65e5\\u4ea4\\u6613\\u4f63\\u91d1\\uffe50.0\\uff09\",\"\\uffe5259.0\",\"\\uffe5-9.8\",null],[\"2018-02-28\",\"513600.HOF\",\"513600.HOF INC.\",2.688,\"2.581\",100,258.1,-10.7],[\"\",\"\",\"\\uff08\\u603b\\u8d44\\u4ea7\\uffe51966.5\",\"\\u5269\\u4f59\\u91d1\\u989d\\uffe51708.4\",\"\\u5f53\\u65e5\\u4ea4\\u6613\\u4f63\\u91d1\\uffe50.0\\uff09\",\"\\uffe5258.1\",\"\\uffe5-10.7\",null],[\"2018-02-27\",\"513600.HOF\",\"513600.HOF INC.\",2.688,\"2.627\",100,262.7,-6.1],[\"\",\"\",\"\\uff08\\u603b\\u8d44\\u4ea7\\uffe51971.1\",\"\\u5269\\u4f59\\u91d1\\u989d\\uffe51708.4\",\"\\u5f53\\u65e5\\u4ea4\\u6613\\u4f63\\u91d1\\uffe50.0\\uff09\",\"\\uffe5262.7\",\"\\uffe5-6.1\",null],[\"2018-02-26\",\"513600.HOF\",\"513600.HOF INC.\",2.688,\"2.646\",100,264.6,-4.2],[\"\",\"\",\"\\uff08\\u603b\\u8d44\\u4ea7\\uffe51973.0\",\"\\u5269\\u4f59\\u91d1\\u989d\\uffe51708.4\",\"\\u5f53\\u65e5\\u4ea4\\u6613\\u4f63\\u91d1\\uffe50.0\\uff09\",\"\\uffe5264.6\",\"\\uffe5-4.2\",null],[\"2018-02-23\",\"513600.HOF\",\"513600.HOF INC.\",2.688,\"2.635\",100,263.5,-5.3],[\"\",\"\",\"\\uff08\\u603b\\u8d44\\u4ea7\\uffe51971.9\",\"\\u5269\\u4f59\\u91d1\\u989d\\uffe51708.4\",\"\\u5f53\\u65e5\\u4ea4\\u6613\\u4f63\\u91d1\\uffe50.0\\uff09\",\"\\uffe5263.5\",\"\\uffe5-5.3\",null],[\"2018-02-22\",\"513600.HOF\",\"513600.HOF INC.\",2.688,\"2.610\",100,261.0,-7.8],[\"\",\"\",\"\\uff08\\u603b\\u8d44\\u4ea7\\uffe51969.4\",\"\\u5269\\u4f59\\u91d1\\u989d\\uffe51708.4\",\"\\u5f53\\u65e5\\u4ea4\\u6613\\u4f63\\u91d1\\uffe50.0\\uff09\",\"\\uffe5261.0\",\"\\uffe5-7.8\",null],[\"2018-02-14\",\"513600.HOF\",\"513600.HOF INC.\",2.688,\"2.545\",100,254.5,-14.3],[\"\",\"\",\"\\uff08\\u603b\\u8d44\\u4ea7\\uffe51962.9\",\"\\u5269\\u4f59\\u91d1\\u989d\\uffe51708.4\",\"\\u5f53\\u65e5\\u4ea4\\u6613\\u4f63\\u91d1\\uffe50.0\\uff09\",\"\\uffe5254.5\",\"\\uffe5-14.3\",null],[\"2018-02-13\",\"513600.HOF\",\"513600.HOF INC.\",2.688,\"2.502\",100,250.2,-18.6],[\"\",\"\",\"\\uff08\\u603b\\u8d44\\u4ea7\\uffe51958.6\",\"\\u5269\\u4f59\\u91d1\\u989d\\uffe51708.4\",\"\\u5f53\\u65e5\\u4ea4\\u6613\\u4f63\\u91d1\\uffe50.0\\uff09\",\"\\uffe5250.2\",\"\\uffe5-18.6\",null],[\"2018-02-12\",\"513600.HOF\",\"513600.HOF INC.\",2.688,\"2.475\",100,247.5,-21.3],[\"\",\"\",\"\\uff08\\u603b\\u8d44\\u4ea7\\uffe51955.9\",\"\\u5269\\u4f59\\u91d1\\u989d\\uffe51708.4\",\"\\u5f53\\u65e5\\u4ea4\\u6613\\u4f63\\u91d1\\uffe50.0\\uff09\",\"\\uffe5247.5\",\"\\uffe5-21.3\",null],[\"2018-02-09\",\"513600.HOF\",\"513600.HOF INC.\",2.688,\"2.452\",100,245.2,-23.6],[\"\",\"\",\"\\uff08\\u603b\\u8d44\\u4ea7\\uffe51953.6\",\"\\u5269\\u4f59\\u91d1\\u989d\\uffe51708.4\",\"\\u5f53\\u65e5\\u4ea4\\u6613\\u4f63\\u91d1\\uffe50.0\\uff09\",\"\\uffe5245.2\",\"\\uffe5-23.6\",null],[\"2018-02-08\",\"513600.HOF\",\"513600.HOF INC.\",2.688,\"2.539\",100,253.9,-14.9],[\"\",\"\",\"\\uff08\\u603b\\u8d44\\u4ea7\\uffe51962.3\",\"\\u5269\\u4f59\\u91d1\\u989d\\uffe51708.4\",\"\\u5f53\\u65e5\\u4ea4\\u6613\\u4f63\\u91d1\\uffe50.0\\uff09\",\"\\uffe5253.9\",\"\\uffe5-14.9\",null],[\"2018-02-07\",\"513600.HOF\",\"513600.HOF INC.\",2.688,\"2.532\",100,253.2,-15.6],[\"\",\"\",\"\\uff08\\u603b\\u8d44\\u4ea7\\uffe51961.6\",\"\\u5269\\u4f59\\u91d1\\u989d\\uffe51708.4\",\"\\u5f53\\u65e5\\u4ea4\\u6613\\u4f63\\u91d1\\uffe50.0\\uff09\",\"\\uffe5253.2\",\"\\uffe5-15.6\",null],[\"2018-02-06\",\"513600.HOF\",\"513600.HOF INC.\",2.688,\"2.565\",100,256.5,-12.3],[\"\",\"\",\"\\uff08\\u603b\\u8d44\\u4ea7\\uffe51964.9\",\"\\u5269\\u4f59\\u91d1\\u989d\\uffe51708.4\",\"\\u5f53\\u65e5\\u4ea4\\u6613\\u4f63\\u91d1\\uffe50.0\\uff09\",\"\\uffe5256.5\",\"\\uffe5-12.3\",null],[\"2018-02-05\",\"513600.HOF\",\"513600.HOF INC.\",2.688,\"2.695\",100,269.5,0.7],[\"\",\"\",\"\\uff08\\u603b\\u8d44\\u4ea7\\uffe51977.9\",\"\\u5269\\u4f59\\u91d1\\u989d\\uffe51708.4\",\"\\u5f53\\u65e5\\u4ea4\\u6613\\u4f63\\u91d1\\uffe510.0\\uff09\",\"\\uffe5269.5\",\"\\uffe50.7\",null],[\"2018-02-02\",\"518880.HOF\",\"518880.HOF INC.\",2.783,\"2.731\",100,273.1,-5.2],[\"\",\"\",\"\\uff08\\u603b\\u8d44\\u4ea7\\uffe51989.8\",\"\\u5269\\u4f59\\u91d1\\u989d\\uffe51716.7\",\"\\u5f53\\u65e5\\u4ea4\\u6613\\u4f63\\u91d1\\uffe50.0\\uff09\",\"\\uffe5273.1\",\"\\uffe5-5.2\",null],[\"2018-02-01\",\"518880.HOF\",\"518880.HOF INC.\",2.783,\"2.729\",100,272.9,-5.4],[\"\",\"\",\"\\uff08\\u603b\\u8d44\\u4ea7\\uffe51989.6\",\"\\u5269\\u4f59\\u91d1\\u989d\\uffe51716.7\",\"\\u5f53\\u65e5\\u4ea4\\u6613\\u4f63\\u91d1\\uffe50.0\\uff09\",\"\\uffe5272.9\",\"\\uffe5-5.4\",null],[\"2018-01-31\",\"518880.HOF\",\"518880.HOF INC.\",2.783,\"2.735\",100,273.5,-4.8],[\"\",\"\",\"\\uff08\\u603b\\u8d44\\u4ea7\\uffe51990.2\",\"\\u5269\\u4f59\\u91d1\\u989d\\uffe51716.7\",\"\\u5f53\\u65e5\\u4ea4\\u6613\\u4f63\\u91d1\\uffe50.0\\uff09\",\"\\uffe5273.5\",\"\\uffe5-4.8\",null],[\"2018-01-30\",\"518880.HOF\",\"518880.HOF INC.\",2.783,\"2.731\",100,273.1,-5.2],[\"\",\"\",\"\\uff08\\u603b\\u8d44\\u4ea7\\uffe51989.8\",\"\\u5269\\u4f59\\u91d1\\u989d\\uffe51716.7\",\"\\u5f53\\u65e5\\u4ea4\\u6613\\u4f63\\u91d1\\uffe50.0\\uff09\",\"\\uffe5273.1\",\"\\uffe5-5.2\",null],[\"2018-01-29\",\"518880.HOF\",\"518880.HOF INC.\",2.783,\"2.754\",100,275.4,-2.9],[\"\",\"\",\"\\uff08\\u603b\\u8d44\\u4ea7\\uffe51992.1\",\"\\u5269\\u4f59\\u91d1\\u989d\\uffe51716.7\",\"\\u5f53\\u65e5\\u4ea4\\u6613\\u4f63\\u91d1\\uffe50.0\\uff09\",\"\\uffe5275.4\",\"\\uffe5-2.9\",null],[\"2018-01-26\",\"518880.HOF\",\"518880.HOF INC.\",2.783,\"2.767\",100,276.7,-1.6],[\"\",\"\",\"\\uff08\\u603b\\u8d44\\u4ea7\\uffe51993.4\",\"\\u5269\\u4f59\\u91d1\\u989d\\uffe51716.7\",\"\\u5f53\\u65e5\\u4ea4\\u6613\\u4f63\\u91d1\\uffe50.0\\uff09\",\"\\uffe5276.7\",\"\\uffe5-1.6\",null],[\"2018-01-25\",\"518880.HOF\",\"518880.HOF INC.\",2.783,\"2.784\",100,278.4,0.1],[\"\",\"\",\"\\uff08\\u603b\\u8d44\\u4ea7\\uffe51995.1\",\"\\u5269\\u4f59\\u91d1\\u989d\\uffe51716.7\",\"\\u5f53\\u65e5\\u4ea4\\u6613\\u4f63\\u91d1\\uffe50.0\\uff09\",\"\\uffe5278.4\",\"\\uffe50.1\",null],[\"2018-01-24\",\"518880.HOF\",\"518880.HOF INC.\",2.783,\"2.774\",100,277.4,-0.9],[\"\",\"\",\"\\uff08\\u603b\\u8d44\\u4ea7\\uffe51994.1\",\"\\u5269\\u4f59\\u91d1\\u989d\\uffe51716.7\",\"\\u5f53\\u65e5\\u4ea4\\u6613\\u4f63\\u91d1\\uffe50.0\\uff09\",\"\\uffe5277.4\",\"\\uffe5-0.9\",null],[\"2018-01-23\",\"518880.HOF\",\"518880.HOF INC.\",2.783,\"2.762\",100,276.2,-2.1],[\"\",\"\",\"\\uff08\\u603b\\u8d44\\u4ea7\\uffe51992.9\",\"\\u5269\\u4f59\\u91d1\\u989d\\uffe51716.7\",\"\\u5f53\\u65e5\\u4ea4\\u6613\\u4f63\\u91d1\\uffe50.0\\uff09\",\"\\uffe5276.2\",\"\\uffe5-2.1\",null],[\"2018-01-22\",\"518880.HOF\",\"518880.HOF INC.\",2.783,\"2.754\",100,275.4,-2.9],[\"\",\"\",\"\\uff08\\u603b\\u8d44\\u4ea7\\uffe51992.1\",\"\\u5269\\u4f59\\u91d1\\u989d\\uffe51716.7\",\"\\u5f53\\u65e5\\u4ea4\\u6613\\u4f63\\u91d1\\uffe50.0\\uff09\",\"\\uffe5275.4\",\"\\uffe5-2.9\",null],[\"2018-01-19\",\"518880.HOF\",\"518880.HOF INC.\",2.783,\"2.751\",100,275.1,-3.2],[\"\",\"\",\"\\uff08\\u603b\\u8d44\\u4ea7\\uffe51991.8\",\"\\u5269\\u4f59\\u91d1\\u989d\\uffe51716.7\",\"\\u5f53\\u65e5\\u4ea4\\u6613\\u4f63\\u91d1\\uffe50.0\\uff09\",\"\\uffe5275.1\",\"\\uffe5-3.2\",null],[\"2018-01-18\",\"518880.HOF\",\"518880.HOF INC.\",2.783,\"2.759\",100,275.9,-2.4],[\"\",\"\",\"\\uff08\\u603b\\u8d44\\u4ea7\\uffe51992.6\",\"\\u5269\\u4f59\\u91d1\\u989d\\uffe51716.7\",\"\\u5f53\\u65e5\\u4ea4\\u6613\\u4f63\\u91d1\\uffe50.0\\uff09\",\"\\uffe5275.9\",\"\\uffe5-2.4\",null],[\"2018-01-17\",\"518880.HOF\",\"518880.HOF INC.\",2.783,\"2.774\",100,277.4,-0.9],[\"\",\"\",\"\\uff08\\u603b\\u8d44\\u4ea7\\uffe51994.1\",\"\\u5269\\u4f59\\u91d1\\u989d\\uffe51716.7\",\"\\u5f53\\u65e5\\u4ea4\\u6613\\u4f63\\u91d1\\uffe55.0\\uff09\",\"\\uffe5277.4\",\"\\uffe5-0.9\",null],[\"2018-01-16\",\"--\",\"--\",\"--\",\"--\",\"--\",\"--\",\"--\"],[\"\",\"\",\"\\uff08\\u603b\\u8d44\\u4ea7\\uffe52000.0\",\"\\u5269\\u4f59\\u91d1\\u989d\\uffe52000.0\",\"\\u5f53\\u65e5\\u4ea4\\u6613\\u4f63\\u91d1\\uffe50.0\\uff09\",\"\\uffe50.0\",\"\\uffe50.0\",null]],\"columns\":[{\"title\":\"\\u65e5\\u671f\",\"orderable\":false},{\"title\":\"\\u80a1\\u7968\\u4ee3\\u7801\",\"orderable\":false},{\"title\":\"\\u80a1\\u7968\\u540d\\u79f0\",\"orderable\":false},{\"title\":\"\\u6301\\u4ed3\\u5747\\u4ef7\",\"orderable\":false},{\"title\":\"\\u6536\\u76d8\\u4ef7\",\"orderable\":false},{\"title\":\"\\u80a1\\u6570\",\"orderable\":false},{\"title\":\"\\u6301\\u4ed3\\u4ef7\\u503c\",\"orderable\":false},{\"title\":\"\\u6536\\u76ca\",\"orderable\":false}],\"searching\":false,\"info\":false,\"pageLength\":20,\"lengthChange\":false,\"order\":[],\"__type\":\"datatable\",\"__id\":\"bigchart-a557ea88820f41d5addc4d28871e3f45\",\"language\":{\"sProcessing\":\"\\u5904\\u7406\\u4e2d...\",\"sLengthMenu\":\"\\u663e\\u793a _MENU_ \\u9879\\u7ed3\\u679c\",\"sZeroRecords\":\"\\u6ca1\\u6709\\u5339\\u914d\\u7ed3\\u679c\",\"sInfo\":\"\\u663e\\u793a\\u7b2c _START_ \\u81f3 _END_ \\u9879\\u7ed3\\u679c\\uff0c\\u5171 _TOTAL_ \\u9879\",\"sInfoEmpty\":\"\\u663e\\u793a\\u7b2c 0 \\u81f3 0 \\u9879\\u7ed3\\u679c\\uff0c\\u5171 0 \\u9879\",\"sInfoFiltered\":\"(\\u7531 _MAX_ \\u9879\\u7ed3\\u679c\\u8fc7\\u6ee4)\",\"sInfoPostFix\":\"\",\"sSearch\":\"\\u641c\\u7d22:\",\"sUrl\":\"\",\"sEmptyTable\":\"\\u8868\\u4e2d\\u6570\\u636e\\u4e3a\\u7a7a\",\"sLoadingRecords\":\"\\u8f7d\\u5165\\u4e2d...\",\"sInfoThousands\":\",\",\"oPaginate\":{\"sFirst\":\"\\u9996\\u9875\",\"sPrevious\":\"\\u4e0a\\u9875\",\"sNext\":\"\\u4e0b\\u9875\",\"sLast\":\"\\u672b\\u9875\"}},\"hasWholeData\":true}/bigcharts-data-end</pre></div></div><div class='tab-pane' id='输出日志'><table id=\"bigchart-070bfbe593c94ff0b0e8b07229f976b1\" width=\"100%\" class=\"display bigchart\"></table><div class=\"bigchart-data\"><pre style=\"display:none\">bigcharts-data-start/{\"deferRender\":true,\"data\":[[\"2018-09-05 15:00:00\",\"INFO\",\"order[09:30:00][id:b868f2,513600.HOF 100@MARKET]\"],[\"2018-09-05 15:00:00\",\"INFO\",\"order[15:00:00][id:91749b,518880.HOF -100@MARKET]\"],[\"2018-08-28 15:00:00\",\"INFO\",\"order[09:30:00][id:c07276,518880.HOF 100@MARKET]\"],[\"2018-08-28 15:00:00\",\"INFO\",\"order[15:00:00][id:5aca3f,513600.HOF -100@MARKET]\"],[\"2018-08-02 15:00:00\",\"INFO\",\"order[09:30:00][id:7d1410,513600.HOF 100@MARKET]\"],[\"2018-08-02 15:00:00\",\"INFO\",\"order[15:00:00][id:740103,518880.HOF -100@MARKET]\"],[\"2018-07-18 15:00:00\",\"INFO\",\"order[09:30:00][id:9e4aad,518880.HOF 100@MARKET]\"],[\"2018-07-18 15:00:00\",\"INFO\",\"order[15:00:00][id:f5e12a,513600.HOF -100@MARKET]\"],[\"2018-05-28 15:00:00\",\"INFO\",\"order[09:30:00][id:093afa,513600.HOF 100@MARKET]\"],[\"2018-05-28 15:00:00\",\"INFO\",\"order[15:00:00][id:264f55,518880.HOF -100@MARKET]\"],[\"2018-05-09 15:00:00\",\"INFO\",\"order[09:30:00][id:c58be6,518880.HOF 100@MARKET]\"],[\"2018-05-09 15:00:00\",\"INFO\",\"order[15:00:00][id:bf8bd2,513600.HOF -100@MARKET]\"],[\"2018-03-22 15:00:00\",\"INFO\",\"order[09:30:00][id:754d23,513600.HOF 100@MARKET]\"],[\"2018-03-22 15:00:00\",\"INFO\",\"order[15:00:00][id:600ba0,518880.HOF -100@MARKET]\"],[\"2018-03-09 15:00:00\",\"INFO\",\"order[09:30:00][id:980b9a,518880.HOF 100@MARKET]\"],[\"2018-03-09 15:00:00\",\"INFO\",\"order[15:00:00][id:888158,513600.HOF -100@MARKET]\"],[\"2018-02-02 15:00:00\",\"INFO\",\"order[09:30:00][id:57a493,513600.HOF 100@MARKET]\"],[\"2018-02-02 15:00:00\",\"INFO\",\"order[15:00:00][id:e3d793,518880.HOF -100@MARKET]\"],[\"2018-01-16 15:00:00\",\"INFO\",\"order[09:30:00][id:dc5a67,518880.HOF 100@MARKET]\"]],\"columns\":[{\"title\":\"\\u65f6\\u95f4\",\"orderable\":false},{\"title\":\"\\u7ea7\\u522b\",\"orderable\":false},{\"title\":\"\\u5185\\u5bb9\",\"orderable\":false}],\"searching\":false,\"info\":false,\"pageLength\":20,\"lengthChange\":false,\"order\":[],\"__type\":\"datatable\",\"__id\":\"bigchart-070bfbe593c94ff0b0e8b07229f976b1\",\"language\":{\"sProcessing\":\"\\u5904\\u7406\\u4e2d...\",\"sLengthMenu\":\"\\u663e\\u793a _MENU_ \\u9879\\u7ed3\\u679c\",\"sZeroRecords\":\"\\u6ca1\\u6709\\u5339\\u914d\\u7ed3\\u679c\",\"sInfo\":\"\\u663e\\u793a\\u7b2c _START_ \\u81f3 _END_ \\u9879\\u7ed3\\u679c\\uff0c\\u5171 _TOTAL_ \\u9879\",\"sInfoEmpty\":\"\\u663e\\u793a\\u7b2c 0 \\u81f3 0 \\u9879\\u7ed3\\u679c\\uff0c\\u5171 0 \\u9879\",\"sInfoFiltered\":\"(\\u7531 _MAX_ \\u9879\\u7ed3\\u679c\\u8fc7\\u6ee4)\",\"sInfoPostFix\":\"\",\"sSearch\":\"\\u641c\\u7d22:\",\"sUrl\":\"\",\"sEmptyTable\":\"\\u8868\\u4e2d\\u6570\\u636e\\u4e3a\\u7a7a\",\"sLoadingRecords\":\"\\u8f7d\\u5165\\u4e2d...\",\"sInfoThousands\":\",\",\"oPaginate\":{\"sFirst\":\"\\u9996\\u9875\",\"sPrevious\":\"\\u4e0a\\u9875\",\"sNext\":\"\\u4e0b\\u9875\",\"sLast\":\"\\u672b\\u9875\"}},\"hasWholeData\":true}/bigcharts-data-end</pre></div></div></div></div><div class='bigchart-data'><pre style='display:none'>bigcharts-data-start/{\"__type\":\"tabs\",\"__id\":\"bigchart-d3837ee23a844911a10dfe8c4b783e92\"}/bigcharts-data-end</pre></div>"
      ],
      "text/plain": [
       "<IPython.core.display.HTML object>"
      ]
     },
     "metadata": {},
     "output_type": "display_data"
    },
    {
     "data": {
      "text/plain": [
       "[2021-12-10 22:10:08.007458] INFO: moduleinvoker: backtest.v8 运行完成[4.362226s]."
      ]
     },
     "metadata": {
      "is_log": true,
      "status": "INFO"
     },
     "output_type": "display_data"
    },
    {
     "data": {
      "text/plain": [
       "[2021-12-10 22:10:08.009597] INFO: moduleinvoker: trade.v4 运行完成[4.446302s]."
      ]
     },
     "metadata": {
      "is_log": true,
      "status": "INFO"
     },
     "output_type": "display_data"
    }
   ],
   "source": [
    "# 本代码由可视化策略环境自动生成 2021年12月10日 23:50\n",
    "# 本代码单元只能在可视化模式下编辑。您也可以拷贝代码，粘贴到新建的代码单元或者策略，然后修改。\n",
    "\n",
    "\n",
    "# Python 代码入口函数，input_1/2/3 对应三个输入端，data_1/2/3 对应三个输出端\n",
    "def m1_run_bigquant_run(input_1, input_2, input_3):\n",
    "    # 示例代码如下。在这里编写您的代码\n",
    "    df = input_1.read()\n",
    "    lt = ['518880.HOF','513600.HOF','512880.HOF']\n",
    "    df = df[(df['instrument']==lt[0])|(df['instrument']==lt[1])|(df['instrument']==lt[2])]\n",
    "    \n",
    "    data_1 = DataSource.write_df(df)\n",
    "    return Outputs(data_1=data_1, data_2=None, data_3=None)\n",
    "\n",
    "# 后处理函数，可选。输入是主函数的输出，可以在这里对数据做处理，或者返回更友好的outputs数据格式。此函数输出不会被缓存。\n",
    "def m1_post_run_bigquant_run(outputs):\n",
    "    return outputs\n",
    "\n",
    "# Python 代码入口函数，input_1/2/3 对应三个输入端，data_1/2/3 对应三个输出端\n",
    "def m3_run_bigquant_run(input_1, input_2, input_3):\n",
    "    # 示例代码如下。在这里编写您的代码\n",
    "    df = input_1.read()\n",
    "    lt = '000300.HIX'\n",
    "    df = df[df['instrument']==lt]\n",
    "    \n",
    "    data_1 = DataSource.write_df(df)\n",
    "    return Outputs(data_1=data_1, data_2=None, data_3=None)\n",
    "\n",
    "# 后处理函数，可选。输入是主函数的输出，可以在这里对数据做处理，或者返回更友好的outputs数据格式。此函数输出不会被缓存。\n",
    "def m3_post_run_bigquant_run(outputs):\n",
    "    return outputs\n",
    "\n",
    "# Python 代码入口函数，input_1/2/3 对应三个输入端，data_1/2/3 对应三个输出端\n",
    "def m6_run_bigquant_run(input_1, input_2, input_3):\n",
    "    # 示例代码如下。在这里编写您的代码\n",
    "    datadf = input_1.read()\n",
    "    datadf_ind = input_2.read()   \n",
    "    \n",
    "    history_ds = DataSource.write_df(pd.concat([datadf,datadf_ind],axis=0))\n",
    "    return Outputs(data_1=history_ds, data_2=None, data_3=None)\n",
    "\n",
    "# 后处理函数，可选。输入是主函数的输出，可以在这里对数据做处理，或者返回更友好的outputs数据格式。此函数输出不会被缓存。\n",
    "def m6_post_run_bigquant_run(outputs):\n",
    "    return outputs\n",
    "\n",
    "# Python 代码入口函数，input_1/2/3 对应三个输入端，data_1/2/3 对应三个输出端\n",
    "def m7_run_bigquant_run(input_1, input_2, input_3):\n",
    "    # 示例代码如下。在这里编写您的代码\n",
    "    start_date = '2017-11-27'\n",
    "    end_date = '2018-09-05'\n",
    "    bm_instruments = ['000300.HIX']\n",
    "    start = pd.to_datetime(start_date)-datetime.timedelta(50)\n",
    "    start = start.strftime('%Y-%m-%d')\n",
    "    id_ohlc = 'bar1d_index_CN_STOCK_A'\n",
    "    origin_fields=['open', 'high', 'low', 'close', 'volume', 'amount']\n",
    "    ohlc_df = DataSource(id_ohlc).read(instruments=bm_instruments, start_date=start, end_date=end_date,\n",
    "                                  fields=origin_fields)\n",
    "\n",
    "    ohlc_df.rename({'s_dq_close':'close', 's_dq_high':'high', 's_dq_open':'open', 's_dq_low':'low', 's_dq_volume':'volume', 's_dq_amount':'amount'},axis=1, inplace=True)\n",
    "    benchmark_ds = DataSource.write_df(ohlc_df)\n",
    "    return Outputs(data_1=benchmark_ds, data_2=None, data_3=None)\n",
    "\n",
    "# 后处理函数，可选。输入是主函数的输出，可以在这里对数据做处理，或者返回更友好的outputs数据格式。此函数输出不会被缓存。\n",
    "def m7_post_run_bigquant_run(outputs):\n",
    "    return outputs\n",
    "\n",
    "def m5_initialize_bigquant_run(context):\n",
    "    set_commission(futures_commission=PerContract(cost={'IC':(0.0023, 0.0015, 0.0023)}))\n",
    "    set_need_settle(False)\n",
    "    context.length_1 = 5\n",
    "    context.length_2 = 20\n",
    "\n",
    "def m5_handle_data_bigquant_run(context, data):\n",
    "    \n",
    "    #instrument = ['IC0000.CFX','IF0000.CFX','IH0000.CFX']\n",
    "    instrument = ['518880.HOF','513600.HOF','512880.HOF']\n",
    "\n",
    "    today = data.current_dt.strftime('%Y-%m-%d')\n",
    "    \n",
    "    sid_ind = symbol('000300.HIX')\n",
    "    sid_a = future_symbol(instrument[0])\n",
    "    sid_b = future_symbol(instrument[1])\n",
    "    sid_c = future_symbol(instrument[2])\n",
    "    \n",
    "    # 最新价格\n",
    "    #price = data.current(sid, 'price')\n",
    "    position_a = context.portfolio.positions[sid_a]\n",
    "    position_b = context.portfolio.positions[sid_b]\n",
    "    position_c = context.portfolio.positions[sid_c]\n",
    "    curr_position_a = position_a.amount\n",
    "    curr_position_b = position_b.amount\n",
    "    curr_position_c = position_c.amount\n",
    "    ma5_ind_price = data.history(sid_ind, 'price', context.length_1, '1d').mean()\n",
    "    ma20_ind_price = data.history(sid_ind, 'price', context.length_2, '1d').mean() \n",
    "\n",
    "\n",
    "    if ma5_ind_price > ma20_ind_price:\n",
    "        if data.can_trade(sid_a) and curr_position_a == 0 :\n",
    "            order_target_percent(sid_a, 0.2)\n",
    "            print(get_datetime(), 'buy_a')\n",
    "            if data.can_trade(sid_b) and curr_position_b > 0:\n",
    "                order_target_percent(sid_b, 0)\n",
    "                print(get_datetime(), 'sell_b')\n",
    "            elif data.can_trade(sid_c) and curr_position_c > 0:\n",
    "                order_target_percent(sid_c, 0)\n",
    "                print(get_datetime(), 'sell_c')\n",
    "        \n",
    "    elif ma5_ind_price < ma20_ind_price:\n",
    "        if data.can_trade(sid_b) and curr_position_b == 0 :\n",
    "            order_target_percent(sid_b, 0.2)\n",
    "            print(get_datetime(), 'buy_b')\n",
    "            if data.can_trade(sid_a) and curr_position_a > 0:\n",
    "                order_target_percent(sid_a, 0)\n",
    "                print('=='*10,curr_position_a)\n",
    "                print(get_datetime(), 'sell_a')\n",
    "            elif data.can_trade(sid_c) and curr_position_c > 0:\n",
    "                order_target_percent(sid_c, 0)\n",
    "                print(get_datetime(), 'sell_c')\n",
    "            \n",
    "    elif ma5_ind_price == ma20_ind_price:\n",
    "        if data.can_trade(sid_c) and curr_position_c == 0 :\n",
    "            order_target_percent(sid_c, 0.2)\n",
    "            print(get_datetime(), 'buy_c')\n",
    "            if data.can_trade(sid_a) and curr_position_a > 0:\n",
    "                order_target_percent(sid_a, 0)\n",
    "                print(get_datetime(), 'sell_a')\n",
    "            elif data.can_trade(sid_b) and curr_position_b > 0:\n",
    "                order_target_percent(sid_b, 0)\n",
    "                print(get_datetime(), 'sell_b')\n",
    "# 回测引擎：准备数据，只执行一次\n",
    "def m5_prepare_bigquant_run(context):\n",
    "    pass\n",
    "\n",
    "# 回测引擎：每个单位时间开始前调用一次，即每日开盘前调用一次。\n",
    "def m5_before_trading_start_bigquant_run(context, data):\n",
    "    pass\n",
    "\n",
    "\n",
    "m2 = M.use_datasource.v1(\n",
    "    datasource_id='bar1d_CN_FUND',\n",
    "    start_date='2017-11-27',\n",
    "    end_date='2018-09-05'\n",
    ")\n",
    "\n",
    "m1 = M.cached.v3(\n",
    "    input_1=m2.data,\n",
    "    run=m1_run_bigquant_run,\n",
    "    post_run=m1_post_run_bigquant_run,\n",
    "    input_ports='',\n",
    "    params='{}',\n",
    "    output_ports=''\n",
    ")\n",
    "\n",
    "m4 = M.use_datasource.v1(\n",
    "    datasource_id='bar1d_index_CN_STOCK_A',\n",
    "    start_date='2017-11-27',\n",
    "    end_date='2018-09-05'\n",
    ")\n",
    "\n",
    "m3 = M.cached.v3(\n",
    "    input_1=m4.data,\n",
    "    run=m3_run_bigquant_run,\n",
    "    post_run=m3_post_run_bigquant_run,\n",
    "    input_ports='',\n",
    "    params='{}',\n",
    "    output_ports=''\n",
    ")\n",
    "\n",
    "m6 = M.cached.v3(\n",
    "    input_1=m1.data_1,\n",
    "    input_2=m3.data_1,\n",
    "    run=m6_run_bigquant_run,\n",
    "    post_run=m6_post_run_bigquant_run,\n",
    "    input_ports='',\n",
    "    params='{}',\n",
    "    output_ports=''\n",
    ")\n",
    "\n",
    "m7 = M.cached.v3(\n",
    "    run=m7_run_bigquant_run,\n",
    "    post_run=m7_post_run_bigquant_run,\n",
    "    input_ports='',\n",
    "    params='{}',\n",
    "    output_ports=''\n",
    ")\n",
    "\n",
    "m8 = M.instruments.v2(\n",
    "    start_date='2017-11-27',\n",
    "    end_date='2018-09-05',\n",
    "    market='CN_FUND',\n",
    "    instrument_list='[\\'518880.HOF\\',\\'513600.HOF\\',\\'512880.HOF\\']',\n",
    "    max_count=0\n",
    ")\n",
    "\n",
    "m5 = M.trade.v4(\n",
    "    instruments=m8.data,\n",
    "    history_ds=m6.data_1,\n",
    "    benchmark_ds=m7.data_1,\n",
    "    start_date='2018-01-16',\n",
    "    end_date='2018-09-05',\n",
    "    initialize=m5_initialize_bigquant_run,\n",
    "    handle_data=m5_handle_data_bigquant_run,\n",
    "    prepare=m5_prepare_bigquant_run,\n",
    "    before_trading_start=m5_before_trading_start_bigquant_run,\n",
    "    volume_limit=0.026,\n",
    "    order_price_field_buy='open',\n",
    "    order_price_field_sell='close',\n",
    "    capital_base=2000,\n",
    "    auto_cancel_non_tradable_orders=True,\n",
    "    data_frequency='daily',\n",
    "    price_type='真实价格',\n",
    "    product_type='股票',\n",
    "    plot_charts=True,\n",
    "    backtest_only=False,\n",
    "    benchmark=''\n",
    ")\n"
   ]
  }
 ],
 "metadata": {
  "is_mlstudio": "true",
  "kernelspec": {
   "display_name": "Python 3",
   "language": "python",
   "name": "python3"
  },
  "language_info": {
   "codemirror_mode": {
    "name": "ipython",
    "version": 3
   },
   "file_extension": ".py",
   "mimetype": "text/x-python",
   "name": "python",
   "nbconvert_exporter": "python",
   "pygments_lexer": "ipython3",
   "version": "3.8.7"
  }
 },
 "nbformat": 4,
 "nbformat_minor": 4
}
