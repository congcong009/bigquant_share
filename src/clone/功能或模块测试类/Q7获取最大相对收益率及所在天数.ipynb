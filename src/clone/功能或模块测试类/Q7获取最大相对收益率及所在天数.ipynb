{
 "cells": [
  {
   "cell_type": "code",
   "execution_count": 1,
   "metadata": {
    "machine_learning_studio": "true",
    "ml_studio_json": "{\"description\":\"实验创建于2017/8/26\",\"graph\":{\"edges\":[{\"to_node_id\":\"-346:instruments\",\"from_node_id\":\"-338:data\"}],\"nodes\":[{\"node_id\":\"-338\",\"module_id\":\"BigQuantSpace.instruments.instruments-v2\",\"parameters\":[{\"name\":\"start_date\",\"value\":\"2010-01-01\",\"type\":\"Literal\",\"bound_global_parameter\":null},{\"name\":\"end_date\",\"value\":\"2010-12-31\",\"type\":\"Literal\",\"bound_global_parameter\":null},{\"name\":\"market\",\"value\":\"CN_STOCK_A\",\"type\":\"Literal\",\"bound_global_parameter\":null},{\"name\":\"instrument_list\",\"value\":\"\",\"type\":\"Literal\",\"bound_global_parameter\":null},{\"name\":\"max_count\",\"value\":\"0\",\"type\":\"Literal\",\"bound_global_parameter\":null}],\"input_ports\":[{\"name\":\"rolling_conf\",\"node_id\":\"-338\"}],\"output_ports\":[{\"name\":\"data\",\"node_id\":\"-338\"}],\"cacheable\":false,\"seq_num\":5,\"comment\":\"\",\"comment_collapsed\":true},{\"node_id\":\"-346\",\"module_id\":\"BigQuantSpace.advanced_auto_labeler.advanced_auto_labeler-v2\",\"parameters\":[{\"name\":\"label_expr\",\"value\":\"# #号开始的表示注释\\n# 0. 每行一个，顺序执行，从第二个开始，可以使用label字段\\n# 1. 可用数据字段见 https://bigquant.com/docs/develop/datasource/deprecated/history_data.html\\n#   添加benchmark_前缀，可使用对应的benchmark数据\\n# 2. 可用操作符和函数见 `表达式引擎 <https://bigquant.com/docs/develop/bigexpr/usage.html>`_\\n\\n# 未来5日最大相对收益率\\n# shift(cal_max_ret(close, open,benchmark_close,benchmark_open, 5), -1)\\n# 未来5日最大相对收益率所在天数\\nshift(cal_max_ret_date(close, open,benchmark_close,benchmark_open, 5), -1) + 1\",\"type\":\"Literal\",\"bound_global_parameter\":null},{\"name\":\"start_date\",\"value\":\"\",\"type\":\"Literal\",\"bound_global_parameter\":null},{\"name\":\"end_date\",\"value\":\"\",\"type\":\"Literal\",\"bound_global_parameter\":null},{\"name\":\"benchmark\",\"value\":\"000300.SHA\",\"type\":\"Literal\",\"bound_global_parameter\":null},{\"name\":\"drop_na_label\",\"value\":\"False\",\"type\":\"Literal\",\"bound_global_parameter\":null},{\"name\":\"cast_label_int\",\"value\":\"False\",\"type\":\"Literal\",\"bound_global_parameter\":null},{\"name\":\"user_functions\",\"value\":\"def cal_max_ret(df, close, open,benchmark_close,benchmark_open, N):\\n    ret = df.groupby('instrument', as_index=False, sort=False, group_keys=False).apply(lambda x: (pd.concat([x['close'].shift(-i) / x['open'] - x['benchmark_close'].shift(-i) / x['benchmark_open'] for i in range(N)], axis=1)).max(axis=1))\\n    \\n    return ret\\n\\ndef cal_max_ret_date(df, close, open,benchmark_close,benchmark_open, N):\\n    ret = df.groupby('instrument', as_index=False, sort=False, group_keys=False).apply(lambda x: pd.concat([x['close'].shift(-i) / x['open'] - x['benchmark_close'].shift(-i) / x['benchmark_open'] for i in range(N)], axis=1))\\n    return np.nanargmax(np.array(ret), axis=1)\\nbigquant_run={'cal_max_ret':cal_max_ret, 'cal_max_ret_date': cal_max_ret_date}\",\"type\":\"Literal\",\"bound_global_parameter\":null}],\"input_ports\":[{\"name\":\"instruments\",\"node_id\":\"-346\"}],\"output_ports\":[{\"name\":\"data\",\"node_id\":\"-346\"}],\"cacheable\":false,\"seq_num\":6,\"comment\":\"\",\"comment_collapsed\":true}],\"node_layout\":\"<node_postions><node_position Node='-338' Position='469,193,200,200'/><node_position Node='-346' Position='495,329,200,200'/></node_postions>\"},\"nodes_readonly\":false,\"studio_version\":\"v2\"}"
   },
   "outputs": [
    {
     "data": {
      "text/plain": [
       "[2020-07-30 09:51:08.050278] INFO: moduleinvoker: instruments.v2 开始运行.."
      ]
     },
     "metadata": {
      "is_log": true,
      "status": "INFO"
     },
     "output_type": "display_data"
    },
    {
     "data": {
      "text/plain": [
       "[2020-07-30 09:51:08.131774] INFO: moduleinvoker: instruments.v2 运行完成[0.081484s]."
      ]
     },
     "metadata": {
      "is_log": true,
      "status": "INFO"
     },
     "output_type": "display_data"
    },
    {
     "data": {
      "text/plain": [
       "[2020-07-30 09:51:08.135769] INFO: moduleinvoker: advanced_auto_labeler.v2 开始运行.."
      ]
     },
     "metadata": {
      "is_log": true,
      "status": "INFO"
     },
     "output_type": "display_data"
    },
    {
     "data": {
      "text/plain": [
       "[2020-07-30 09:51:09.028079] INFO: 自动标注(股票): 加载历史数据: 431567 行"
      ]
     },
     "metadata": {
      "is_log": true,
      "status": "INFO"
     },
     "output_type": "display_data"
    },
    {
     "data": {
      "text/plain": [
       "[2020-07-30 09:51:09.029431] INFO: 自动标注(股票): 开始标注 .."
      ]
     },
     "metadata": {
      "is_log": true,
      "status": "INFO"
     },
     "output_type": "display_data"
    },
    {
     "data": {
      "text/plain": [
       "[2020-07-30 09:51:17.314728] INFO: moduleinvoker: advanced_auto_labeler.v2 运行完成[9.178947s]."
      ]
     },
     "metadata": {
      "is_log": true,
      "status": "INFO"
     },
     "output_type": "display_data"
    }
   ],
   "source": [
    "# 本代码由可视化策略环境自动生成 2021年8月22日14:40\n",
    "# 本代码单元只能在可视化模式下编辑。您也可以拷贝代码，粘贴到新建的代码单元或者策略，然后修改。\n",
    "\n",
    "\n",
    "def cal_max_ret(df, close, open,benchmark_close,benchmark_open, N):\n",
    "    ret = df.groupby('instrument', as_index=False, sort=False, group_keys=False).apply(lambda x: (pd.concat([x['close'].shift(-i) / x['open'] - x['benchmark_close'].shift(-i) / x['benchmark_open'] for i in range(N)], axis=1)).max(axis=1))\n",
    "    \n",
    "    return ret\n",
    "\n",
    "def cal_max_ret_date(df, close, open,benchmark_close,benchmark_open, N):\n",
    "    ret = df.groupby('instrument', as_index=False, sort=False, group_keys=False).apply(lambda x: pd.concat([x['close'].shift(-i) / x['open'] - x['benchmark_close'].shift(-i) / x['benchmark_open'] for i in range(N)], axis=1))\n",
    "    return np.nanargmax(np.array(ret), axis=1)\n",
    "m6_user_functions_bigquant_run={'cal_max_ret':cal_max_ret, 'cal_max_ret_date': cal_max_ret_date}\n",
    "\n",
    "m5 = M.instruments.v2(\n",
    "    start_date='2010-01-01',\n",
    "    end_date='2010-12-31',\n",
    "    market='CN_STOCK_A',\n",
    "    instrument_list='',\n",
    "    max_count=0,\n",
    "    m_cached=False\n",
    ")\n",
    "\n",
    "m6 = M.advanced_auto_labeler.v2(\n",
    "    instruments=m5.data,\n",
    "    label_expr=\"\"\"# #号开始的表示注释\n",
    "# 0. 每行一个，顺序执行，从第二个开始，可以使用label字段\n",
    "# 1. 可用数据字段见 https://bigquant.com/docs/develop/datasource/deprecated/history_data.html\n",
    "#   添加benchmark_前缀，可使用对应的benchmark数据\n",
    "# 2. 可用操作符和函数见 `表达式引擎 <https://bigquant.com/docs/develop/bigexpr/usage.html>`_\n",
    "\n",
    "# 未来5日最大相对收益率\n",
    "# shift(cal_max_ret(close, open,benchmark_close,benchmark_open, 5), -1)\n",
    "# 未来5日最大相对收益率所在天数\n",
    "shift(cal_max_ret_date(close, open,benchmark_close,benchmark_open, 5), -1) + 1\"\"\",\n",
    "    start_date='',\n",
    "    end_date='',\n",
    "    benchmark='000300.SHA',\n",
    "    drop_na_label=False,\n",
    "    cast_label_int=False,\n",
    "    user_functions=m6_user_functions_bigquant_run,\n",
    "    m_cached=False\n",
    ")\n"
   ]
  },
  {
   "cell_type": "code",
   "execution_count": 172,
   "metadata": {},
   "outputs": [
    {
     "data": {
      "text/html": [
       "<div>\n",
       "<style scoped>\n",
       "    .dataframe tbody tr th:only-of-type {\n",
       "        vertical-align: middle;\n",
       "    }\n",
       "\n",
       "    .dataframe tbody tr th {\n",
       "        vertical-align: top;\n",
       "    }\n",
       "\n",
       "    .dataframe thead th {\n",
       "        text-align: right;\n",
       "    }\n",
       "</style>\n",
       "<table border=\"1\" class=\"dataframe\">\n",
       "  <thead>\n",
       "    <tr style=\"text-align: right;\">\n",
       "      <th></th>\n",
       "      <th>date</th>\n",
       "      <th>instrument</th>\n",
       "      <th>m:amount</th>\n",
       "      <th>m:close</th>\n",
       "      <th>m:open</th>\n",
       "      <th>m:benchmark_instrument</th>\n",
       "      <th>m:benchmark_close</th>\n",
       "      <th>m:benchmark_open</th>\n",
       "      <th>label</th>\n",
       "    </tr>\n",
       "  </thead>\n",
       "  <tbody>\n",
       "    <tr>\n",
       "      <th>0</th>\n",
       "      <td>2010-01-04</td>\n",
       "      <td>000001.SZA</td>\n",
       "      <td>5.802495e+08</td>\n",
       "      <td>851.320190</td>\n",
       "      <td>880.403625</td>\n",
       "      <td>000300.SHA</td>\n",
       "      <td>3535.229004</td>\n",
       "      <td>3592.468018</td>\n",
       "      <td>1.0</td>\n",
       "    </tr>\n",
       "    <tr>\n",
       "      <th>1</th>\n",
       "      <td>2010-01-04</td>\n",
       "      <td>000002.SZA</td>\n",
       "      <td>1.034345e+09</td>\n",
       "      <td>1174.523560</td>\n",
       "      <td>1202.224609</td>\n",
       "      <td>000300.SHA</td>\n",
       "      <td>3535.229004</td>\n",
       "      <td>3592.468018</td>\n",
       "      <td>4.0</td>\n",
       "    </tr>\n",
       "    <tr>\n",
       "      <th>2</th>\n",
       "      <td>2010-01-04</td>\n",
       "      <td>000005.SZA</td>\n",
       "      <td>1.334784e+08</td>\n",
       "      <td>55.512924</td>\n",
       "      <td>55.698277</td>\n",
       "      <td>000300.SHA</td>\n",
       "      <td>3535.229004</td>\n",
       "      <td>3592.468018</td>\n",
       "      <td>1.0</td>\n",
       "    </tr>\n",
       "    <tr>\n",
       "      <th>3</th>\n",
       "      <td>2010-01-04</td>\n",
       "      <td>000006.SZA</td>\n",
       "      <td>7.054856e+07</td>\n",
       "      <td>122.581490</td>\n",
       "      <td>124.896423</td>\n",
       "      <td>000300.SHA</td>\n",
       "      <td>3535.229004</td>\n",
       "      <td>3592.468018</td>\n",
       "      <td>4.0</td>\n",
       "    </tr>\n",
       "    <tr>\n",
       "      <th>4</th>\n",
       "      <td>2010-01-04</td>\n",
       "      <td>000007.SZA</td>\n",
       "      <td>1.810142e+07</td>\n",
       "      <td>38.261860</td>\n",
       "      <td>39.145252</td>\n",
       "      <td>000300.SHA</td>\n",
       "      <td>3535.229004</td>\n",
       "      <td>3592.468018</td>\n",
       "      <td>2.0</td>\n",
       "    </tr>\n",
       "    <tr>\n",
       "      <th>5</th>\n",
       "      <td>2010-01-04</td>\n",
       "      <td>000009.SZA</td>\n",
       "      <td>1.894014e+08</td>\n",
       "      <td>41.917858</td>\n",
       "      <td>42.536572</td>\n",
       "      <td>000300.SHA</td>\n",
       "      <td>3535.229004</td>\n",
       "      <td>3592.468018</td>\n",
       "      <td>4.0</td>\n",
       "    </tr>\n",
       "  </tbody>\n",
       "</table>\n",
       "</div>"
      ],
      "text/plain": [
       "        date  instrument      m:amount      m:close       m:open  \\\n",
       "0 2010-01-04  000001.SZA  5.802495e+08   851.320190   880.403625   \n",
       "1 2010-01-04  000002.SZA  1.034345e+09  1174.523560  1202.224609   \n",
       "2 2010-01-04  000005.SZA  1.334784e+08    55.512924    55.698277   \n",
       "3 2010-01-04  000006.SZA  7.054856e+07   122.581490   124.896423   \n",
       "4 2010-01-04  000007.SZA  1.810142e+07    38.261860    39.145252   \n",
       "5 2010-01-04  000009.SZA  1.894014e+08    41.917858    42.536572   \n",
       "\n",
       "  m:benchmark_instrument  m:benchmark_close  m:benchmark_open  label  \n",
       "0             000300.SHA        3535.229004       3592.468018    1.0  \n",
       "1             000300.SHA        3535.229004       3592.468018    4.0  \n",
       "2             000300.SHA        3535.229004       3592.468018    1.0  \n",
       "3             000300.SHA        3535.229004       3592.468018    4.0  \n",
       "4             000300.SHA        3535.229004       3592.468018    2.0  \n",
       "5             000300.SHA        3535.229004       3592.468018    4.0  "
      ]
     },
     "execution_count": 172,
     "metadata": {},
     "output_type": "execute_result"
    }
   ],
   "source": [
    "test = d.head(6)"
   ]
  }
 ],
 "metadata": {
  "is_mlstudio": "true",
  "kernelspec": {
   "display_name": "Python 3",
   "language": "python",
   "name": "python3"
  },
  "language_info": {
   "codemirror_mode": {
    "name": "ipython",
    "version": 3
   },
   "file_extension": ".py",
   "mimetype": "text/x-python",
   "name": "python",
   "nbconvert_exporter": "python",
   "pygments_lexer": "ipython3",
   "version": "3.8.7"
  }
 },
 "nbformat": 4,
 "nbformat_minor": 4
}
