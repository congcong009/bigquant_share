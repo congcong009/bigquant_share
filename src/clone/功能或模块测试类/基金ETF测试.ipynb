{
 "cells": [
  {
   "cell_type": "code",
   "execution_count": 2,
   "metadata": {
    "machine_learning_studio": "true",
    "ml_studio_json": "{\"Description\":\"实验创建于2017/8/26\",\"Summary\":\"\",\"Graph\":{\"EdgesInternal\":[{\"DestinationInputPortId\":\"-57:features\",\"SourceOutputPortId\":\"287d2cb0-f53c-4101-bdf8-104b137c8601-24:data\"},{\"DestinationInputPortId\":\"-102:instruments\",\"SourceOutputPortId\":\"287d2cb0-f53c-4101-bdf8-104b137c8601-62:data\"},{\"DestinationInputPortId\":\"-199:input_1\",\"SourceOutputPortId\":\"287d2cb0-f53c-4101-bdf8-104b137c8601-62:data\"},{\"DestinationInputPortId\":\"-192:input_data\",\"SourceOutputPortId\":\"-57:data\"},{\"DestinationInputPortId\":\"-102:options_data\",\"SourceOutputPortId\":\"-192:data\"},{\"DestinationInputPortId\":\"-57:input_data\",\"SourceOutputPortId\":\"-199:data_1\"}],\"ModuleNodes\":[{\"Id\":\"287d2cb0-f53c-4101-bdf8-104b137c8601-24\",\"ModuleId\":\"BigQuantSpace.input_features.input_features-v1\",\"ModuleParameters\":[{\"Name\":\"features\",\"Value\":\"# #号开始的表示注释\\n# 多个特征，每行一个，可以包含基础特征和衍生特征\\nbuy_condition=where(mean(close,5)>mean(close,10),1,0)\\nsell_condition=where(mean(close,5)<mean(close,10),1,0)\",\"ValueType\":\"Literal\",\"LinkedGlobalParameter\":null}],\"InputPortsInternal\":[{\"DataSourceId\":null,\"TrainedModelId\":null,\"TransformModuleId\":null,\"Name\":\"features_ds\",\"NodeId\":\"287d2cb0-f53c-4101-bdf8-104b137c8601-24\"}],\"OutputPortsInternal\":[{\"Name\":\"data\",\"NodeId\":\"287d2cb0-f53c-4101-bdf8-104b137c8601-24\",\"OutputType\":null}],\"UsePreviousResults\":false,\"moduleIdForCode\":1,\"Comment\":\"\",\"CommentCollapsed\":true},{\"Id\":\"287d2cb0-f53c-4101-bdf8-104b137c8601-62\",\"ModuleId\":\"BigQuantSpace.instruments.instruments-v2\",\"ModuleParameters\":[{\"Name\":\"start_date\",\"Value\":\"2016-01-01\",\"ValueType\":\"Literal\",\"LinkedGlobalParameter\":\"交易日期\"},{\"Name\":\"end_date\",\"Value\":\"2019-01-01\",\"ValueType\":\"Literal\",\"LinkedGlobalParameter\":\"交易日期\"},{\"Name\":\"market\",\"Value\":\"CN_FUND\",\"ValueType\":\"Literal\",\"LinkedGlobalParameter\":null},{\"Name\":\"instrument_list\",\"Value\":\"\",\"ValueType\":\"Literal\",\"LinkedGlobalParameter\":null},{\"Name\":\"max_count\",\"Value\":\"0\",\"ValueType\":\"Literal\",\"LinkedGlobalParameter\":null}],\"InputPortsInternal\":[{\"DataSourceId\":null,\"TrainedModelId\":null,\"TransformModuleId\":null,\"Name\":\"rolling_conf\",\"NodeId\":\"287d2cb0-f53c-4101-bdf8-104b137c8601-62\"}],\"OutputPortsInternal\":[{\"Name\":\"data\",\"NodeId\":\"287d2cb0-f53c-4101-bdf8-104b137c8601-62\",\"OutputType\":null}],\"UsePreviousResults\":true,\"moduleIdForCode\":2,\"Comment\":\"预测数据，用于回测和模拟\",\"CommentCollapsed\":false},{\"Id\":\"-57\",\"ModuleId\":\"BigQuantSpace.derived_feature_extractor.derived_feature_extractor-v3\",\"ModuleParameters\":[{\"Name\":\"date_col\",\"Value\":\"date\",\"ValueType\":\"Literal\",\"LinkedGlobalParameter\":null},{\"Name\":\"instrument_col\",\"Value\":\"instrument\",\"ValueType\":\"Literal\",\"LinkedGlobalParameter\":null},{\"Name\":\"drop_na\",\"Value\":\"False\",\"ValueType\":\"Literal\",\"LinkedGlobalParameter\":null},{\"Name\":\"remove_extra_columns\",\"Value\":\"False\",\"ValueType\":\"Literal\",\"LinkedGlobalParameter\":null},{\"Name\":\"user_functions\",\"Value\":\"\",\"ValueType\":\"Literal\",\"LinkedGlobalParameter\":null}],\"InputPortsInternal\":[{\"DataSourceId\":null,\"TrainedModelId\":null,\"TransformModuleId\":null,\"Name\":\"input_data\",\"NodeId\":\"-57\"},{\"DataSourceId\":null,\"TrainedModelId\":null,\"TransformModuleId\":null,\"Name\":\"features\",\"NodeId\":\"-57\"}],\"OutputPortsInternal\":[{\"Name\":\"data\",\"NodeId\":\"-57\",\"OutputType\":null}],\"UsePreviousResults\":true,\"moduleIdForCode\":8,\"Comment\":\"\",\"CommentCollapsed\":true},{\"Id\":\"-102\",\"ModuleId\":\"BigQuantSpace.trade.trade-v4\",\"ModuleParameters\":[{\"Name\":\"start_date\",\"Value\":\"\",\"ValueType\":\"Literal\",\"LinkedGlobalParameter\":null},{\"Name\":\"end_date\",\"Value\":\"\",\"ValueType\":\"Literal\",\"LinkedGlobalParameter\":null},{\"Name\":\"initialize\",\"Value\":\"# 回测引擎：初始化函数，只执行一次\\ndef bigquant_run(context):\\n\\n    # 系统已经设置了默认的交易手续费和滑点，要修改手续费可使用如下函数\\n    context.set_commission(PerOrder(buy_cost=0.0003, sell_cost=0.0013, min_cost=5))\\n\",\"ValueType\":\"Literal\",\"LinkedGlobalParameter\":null},{\"Name\":\"handle_data\",\"Value\":\"# 回测引擎：每日数据处理函数，每天执行一次\\ndef bigquant_run(context, data):\\n    # 获取今日的日期\\n    today = data.current_dt.strftime('%Y-%m-%d')  \\n    # 通过positions对象，使用列表生成式的方法获取目前持仓的股票列表\\n    stock_hold_now = {e.symbol: p.amount * p.last_sale_price\\n                 for e, p in context.perf_tracker.position_tracker.positions.items()}\\n\\n    # 记录用于买入股票的可用现金,因为是早盘卖股票，需要记录卖出的股票市值并在买入下单前更新可用现金；\\n    # 如果是早盘买尾盘卖，则卖出时不需更新可用现金，因为尾盘卖出股票所得现金无法使用\\n    cash_for_buy = context.portfolio.cash    \\n    \\n    try:\\n        buy_stock = context.daily_stock_buy[today]  # 当日符合买入条件的股票\\n    except:\\n        buy_stock=[]  # 如果没有符合条件的股票，就设置为空\\n    \\n    try:\\n        sell_stock = context.daily_stock_sell[today]  # 当日符合卖出条件的股票\\n    except:\\n        sell_stock=[] # 如果没有符合条件的股票，就设置为空\\n    \\n    # 需要卖出的股票:已有持仓中符合卖出条件的股票\\n    stock_to_sell = [ i for i in stock_hold_now if i in sell_stock ]\\n    # 需要买入的股票:没有持仓且符合买入条件的股票\\n    stock_to_buy = [ i for i in buy_stock if i not in stock_hold_now ]  \\n    # 需要调仓的股票：已有持仓且不符合卖出条件的股票\\n    stock_to_adjust=[ i for i in stock_hold_now if i not in sell_stock ]\\n    \\n    # 如果有卖出信号\\n    if len(stock_to_sell)>0:\\n        for instrument in stock_to_sell:\\n            sid = context.symbol(instrument) # 将标的转化为equity格式\\n            cur_position = context.portfolio.positions[sid].amount # 持仓\\n            if cur_position > 0 and data.can_trade(sid):\\n                context.order_target_percent(sid, 0) # 全部卖出 \\n                # 因为设置的是早盘卖出早盘买入，需要根据卖出的股票更新可用现金；如果设置尾盘卖出早盘买入，则不需更新可用现金(可以删除下面的语句)\\n                cash_for_buy += stock_hold_now[instrument]\\n    \\n    # 如果有买入信号/有持仓\\n    if len(stock_to_buy)+len(stock_to_adjust)>0:\\n        weight = 1/(len(stock_to_buy)+len(stock_to_adjust)) # 每只股票的比重为等资金比例持有\\n        for instrument in stock_to_buy+stock_to_adjust:\\n            sid = context.symbol(instrument) # 将标的转化为equity格式\\n            if  data.can_trade(sid):\\n                context.order_target_value(sid, weight*cash_for_buy) # 买入\",\"ValueType\":\"Literal\",\"LinkedGlobalParameter\":null},{\"Name\":\"prepare\",\"Value\":\"# 回测引擎：准备数据，只执行一次\\ndef bigquant_run(context):\\n    # 加载预测数据\\n    df = context.options['data'].read_df()\\n\\n    # 函数：求满足开仓条件的股票列表\\n    def open_pos_con(df):\\n        return list(df[df['buy_condition']>0].instrument)\\n\\n    # 函数：求满足平仓条件的股票列表\\n    def close_pos_con(df):\\n        return list(df[df['sell_condition']>0].instrument)\\n\\n    # 每日买入股票的数据框\\n    context.daily_stock_buy= df.groupby('date').apply(open_pos_con)\\n    # 每日卖出股票的数据框\\n    context.daily_stock_sell= df.groupby('date').apply(close_pos_con)\",\"ValueType\":\"Literal\",\"LinkedGlobalParameter\":null},{\"Name\":\"before_trading_start\",\"Value\":\"\",\"ValueType\":\"Literal\",\"LinkedGlobalParameter\":null},{\"Name\":\"volume_limit\",\"Value\":0.025,\"ValueType\":\"Literal\",\"LinkedGlobalParameter\":null},{\"Name\":\"order_price_field_buy\",\"Value\":\"open\",\"ValueType\":\"Literal\",\"LinkedGlobalParameter\":null},{\"Name\":\"order_price_field_sell\",\"Value\":\"open\",\"ValueType\":\"Literal\",\"LinkedGlobalParameter\":null},{\"Name\":\"capital_base\",\"Value\":1000000,\"ValueType\":\"Literal\",\"LinkedGlobalParameter\":null},{\"Name\":\"auto_cancel_non_tradable_orders\",\"Value\":\"True\",\"ValueType\":\"Literal\",\"LinkedGlobalParameter\":null},{\"Name\":\"data_frequency\",\"Value\":\"daily\",\"ValueType\":\"Literal\",\"LinkedGlobalParameter\":null},{\"Name\":\"price_type\",\"Value\":\"后复权\",\"ValueType\":\"Literal\",\"LinkedGlobalParameter\":null},{\"Name\":\"product_type\",\"Value\":\"股票\",\"ValueType\":\"Literal\",\"LinkedGlobalParameter\":null},{\"Name\":\"plot_charts\",\"Value\":\"True\",\"ValueType\":\"Literal\",\"LinkedGlobalParameter\":null},{\"Name\":\"backtest_only\",\"Value\":\"False\",\"ValueType\":\"Literal\",\"LinkedGlobalParameter\":null},{\"Name\":\"benchmark\",\"Value\":\"\",\"ValueType\":\"Literal\",\"LinkedGlobalParameter\":null}],\"InputPortsInternal\":[{\"DataSourceId\":null,\"TrainedModelId\":null,\"TransformModuleId\":null,\"Name\":\"instruments\",\"NodeId\":\"-102\"},{\"DataSourceId\":null,\"TrainedModelId\":null,\"TransformModuleId\":null,\"Name\":\"options_data\",\"NodeId\":\"-102\"},{\"DataSourceId\":null,\"TrainedModelId\":null,\"TransformModuleId\":null,\"Name\":\"history_ds\",\"NodeId\":\"-102\"},{\"DataSourceId\":null,\"TrainedModelId\":null,\"TransformModuleId\":null,\"Name\":\"benchmark_ds\",\"NodeId\":\"-102\"},{\"DataSourceId\":null,\"TrainedModelId\":null,\"TransformModuleId\":null,\"Name\":\"trading_calendar\",\"NodeId\":\"-102\"}],\"OutputPortsInternal\":[{\"Name\":\"raw_perf\",\"NodeId\":\"-102\",\"OutputType\":null}],\"UsePreviousResults\":false,\"moduleIdForCode\":3,\"Comment\":\"\",\"CommentCollapsed\":true},{\"Id\":\"-192\",\"ModuleId\":\"BigQuantSpace.dropnan.dropnan-v2\",\"ModuleParameters\":[],\"InputPortsInternal\":[{\"DataSourceId\":null,\"TrainedModelId\":null,\"TransformModuleId\":null,\"Name\":\"input_data\",\"NodeId\":\"-192\"},{\"DataSourceId\":null,\"TrainedModelId\":null,\"TransformModuleId\":null,\"Name\":\"features\",\"NodeId\":\"-192\"}],\"OutputPortsInternal\":[{\"Name\":\"data\",\"NodeId\":\"-192\",\"OutputType\":null}],\"UsePreviousResults\":true,\"moduleIdForCode\":4,\"Comment\":\"\",\"CommentCollapsed\":true},{\"Id\":\"-199\",\"ModuleId\":\"BigQuantSpace.cached.cached-v3\",\"ModuleParameters\":[{\"Name\":\"run\",\"Value\":\"# Python 代码入口函数，input_1/2/3 对应三个输入端，data_1/2/3 对应三个输出端\\ndef bigquant_run(input_1, start_date,end_date):\\n    # 示例代码如下。在这里编写您的代码\\n    ins=input_1.read_pickle()['instruments']\\n    start_date=input_1.read_pickle()['start_date']\\n    end_date=input_1.read_pickle()['end_date']\\n    df=DataSource('bar1d_CN_FUND').read(start_date=start_date,end_date=end_date)\\n    #df = df[['date', 'close', 'instrument']].rename(columns={'close': 'close_0'})\\n    data_1 = DataSource.write_df(df)\\n    return Outputs(data_1=data_1, data_2=None, data_3=None)\\n\",\"ValueType\":\"Literal\",\"LinkedGlobalParameter\":null},{\"Name\":\"post_run\",\"Value\":\"# 后处理函数，可选。输入是主函数的输出，可以在这里对数据做处理，或者返回更友好的outputs数据格式。此函数输出不会被缓存。\\ndef bigquant_run(outputs):\\n    return outputs\\n\",\"ValueType\":\"Literal\",\"LinkedGlobalParameter\":null},{\"Name\":\"input_ports\",\"Value\":\"\",\"ValueType\":\"Literal\",\"LinkedGlobalParameter\":null},{\"Name\":\"params\",\"Value\":\"{}\",\"ValueType\":\"Literal\",\"LinkedGlobalParameter\":null},{\"Name\":\"output_ports\",\"Value\":\"\",\"ValueType\":\"Literal\",\"LinkedGlobalParameter\":null}],\"InputPortsInternal\":[{\"DataSourceId\":null,\"TrainedModelId\":null,\"TransformModuleId\":null,\"Name\":\"input_1\",\"NodeId\":\"-199\"},{\"DataSourceId\":null,\"TrainedModelId\":null,\"TransformModuleId\":null,\"Name\":\"input_2\",\"NodeId\":\"-199\"},{\"DataSourceId\":null,\"TrainedModelId\":null,\"TransformModuleId\":null,\"Name\":\"input_3\",\"NodeId\":\"-199\"}],\"OutputPortsInternal\":[{\"Name\":\"data_1\",\"NodeId\":\"-199\",\"OutputType\":null},{\"Name\":\"data_2\",\"NodeId\":\"-199\",\"OutputType\":null},{\"Name\":\"data_3\",\"NodeId\":\"-199\",\"OutputType\":null}],\"UsePreviousResults\":true,\"moduleIdForCode\":5,\"Comment\":\"\",\"CommentCollapsed\":true}],\"SerializedClientData\":\"<?xml version='1.0' encoding='utf-16'?><DataV1 xmlns:xsd='http://www.w3.org/2001/XMLSchema' xmlns:xsi='http://www.w3.org/2001/XMLSchema-instance'><Meta /><NodePositions><NodePosition Node='287d2cb0-f53c-4101-bdf8-104b137c8601-24' Position='1371,27,200,200'/><NodePosition Node='287d2cb0-f53c-4101-bdf8-104b137c8601-62' Position='721,-34,200,200'/><NodePosition Node='-57' Position='1161,246,200,200'/><NodePosition Node='-102' Position='1047,531,200,200'/><NodePosition Node='-192' Position='1244.2813720703125,436.71856689453125,200,200'/><NodePosition Node='-199' Position='967,95,200,200'/></NodePositions><NodeGroups /></DataV1>\"},\"IsDraft\":true,\"ParentExperimentId\":null,\"WebService\":{\"IsWebServiceExperiment\":false,\"Inputs\":[],\"Outputs\":[],\"Parameters\":[{\"Name\":\"交易日期\",\"Value\":\"\",\"ParameterDefinition\":{\"Name\":\"交易日期\",\"FriendlyName\":\"交易日期\",\"DefaultValue\":\"\",\"ParameterType\":\"String\",\"HasDefaultValue\":true,\"IsOptional\":true,\"ParameterRules\":[],\"HasRules\":false,\"MarkupType\":0,\"CredentialDescriptor\":null}}],\"WebServiceGroupId\":null,\"SerializedClientData\":\"<?xml version='1.0' encoding='utf-16'?><DataV1 xmlns:xsd='http://www.w3.org/2001/XMLSchema' xmlns:xsi='http://www.w3.org/2001/XMLSchema-instance'><Meta /><NodePositions></NodePositions><NodeGroups /></DataV1>\"},\"DisableNodesUpdate\":false,\"Category\":\"user\",\"Tags\":[],\"IsPartialRun\":true}"
   },
   "outputs": [
    {
     "data": {
      "text/plain": [
       "[2020-11-10 16:07:55.571304] INFO: moduleinvoker: input_features.v1 开始运行.."
      ]
     },
     "metadata": {
      "is_log": true,
      "status": "INFO"
     },
     "output_type": "display_data"
    },
    {
     "data": {
      "text/plain": [
       "[2020-11-10 16:07:55.614960] INFO: moduleinvoker: input_features.v1 运行完成[0.043659s]."
      ]
     },
     "metadata": {
      "is_log": true,
      "status": "INFO"
     },
     "output_type": "display_data"
    },
    {
     "data": {
      "text/plain": [
       "[2020-11-10 16:07:55.621873] INFO: moduleinvoker: instruments.v2 开始运行.."
      ]
     },
     "metadata": {
      "is_log": true,
      "status": "INFO"
     },
     "output_type": "display_data"
    },
    {
     "data": {
      "text/plain": [
       "[2020-11-10 16:07:55.631850] INFO: moduleinvoker: 命中缓存"
      ]
     },
     "metadata": {
      "is_log": true,
      "status": "INFO"
     },
     "output_type": "display_data"
    },
    {
     "data": {
      "text/plain": [
       "[2020-11-10 16:07:55.633366] INFO: moduleinvoker: instruments.v2 运行完成[0.011494s]."
      ]
     },
     "metadata": {
      "is_log": true,
      "status": "INFO"
     },
     "output_type": "display_data"
    },
    {
     "data": {
      "text/plain": [
       "[2020-11-10 16:07:55.642581] INFO: moduleinvoker: cached.v3 开始运行.."
      ]
     },
     "metadata": {
      "is_log": true,
      "status": "INFO"
     },
     "output_type": "display_data"
    },
    {
     "data": {
      "text/plain": [
       "[2020-11-10 16:07:56.002887] INFO: moduleinvoker: 命中缓存"
      ]
     },
     "metadata": {
      "is_log": true,
      "status": "INFO"
     },
     "output_type": "display_data"
    },
    {
     "data": {
      "text/plain": [
       "[2020-11-10 16:07:56.004745] INFO: moduleinvoker: cached.v3 运行完成[0.362135s]."
      ]
     },
     "metadata": {
      "is_log": true,
      "status": "INFO"
     },
     "output_type": "display_data"
    },
    {
     "data": {
      "text/plain": [
       "[2020-11-10 16:07:56.009217] INFO: moduleinvoker: derived_feature_extractor.v3 开始运行.."
      ]
     },
     "metadata": {
      "is_log": true,
      "status": "INFO"
     },
     "output_type": "display_data"
    },
    {
     "data": {
      "text/plain": [
       "[2020-11-10 16:07:56.211835] INFO: derived_feature_extractor: 提取完成 buy_condition=where(mean(close,5)>mean(close,10),1,0), 0.019s"
      ]
     },
     "metadata": {
      "is_log": true,
      "status": "INFO"
     },
     "output_type": "display_data"
    },
    {
     "data": {
      "text/plain": [
       "[2020-11-10 16:07:56.233469] INFO: derived_feature_extractor: 提取完成 sell_condition=where(mean(close,5)<mean(close,10),1,0), 0.020s"
      ]
     },
     "metadata": {
      "is_log": true,
      "status": "INFO"
     },
     "output_type": "display_data"
    },
    {
     "data": {
      "text/plain": [
       "[2020-11-10 16:07:56.751555] INFO: derived_feature_extractor: /data, 3452"
      ]
     },
     "metadata": {
      "is_log": true,
      "status": "INFO"
     },
     "output_type": "display_data"
    },
    {
     "data": {
      "text/plain": [
       "[2020-11-10 16:07:59.282125] INFO: moduleinvoker: derived_feature_extractor.v3 运行完成[3.272891s]."
      ]
     },
     "metadata": {
      "is_log": true,
      "status": "INFO"
     },
     "output_type": "display_data"
    },
    {
     "data": {
      "text/plain": [
       "[2020-11-10 16:07:59.288206] INFO: moduleinvoker: dropnan.v2 开始运行.."
      ]
     },
     "metadata": {
      "is_log": true,
      "status": "INFO"
     },
     "output_type": "display_data"
    },
    {
     "data": {
      "text/plain": [
       "[2020-11-10 16:07:59.385451] INFO: dropnan: /data, 3452/3452"
      ]
     },
     "metadata": {
      "is_log": true,
      "status": "INFO"
     },
     "output_type": "display_data"
    },
    {
     "data": {
      "text/plain": [
       "[2020-11-10 16:07:59.779698] INFO: dropnan: 行数: 3452/3452"
      ]
     },
     "metadata": {
      "is_log": true,
      "status": "INFO"
     },
     "output_type": "display_data"
    },
    {
     "data": {
      "text/plain": [
       "[2020-11-10 16:07:59.786408] INFO: moduleinvoker: dropnan.v2 运行完成[0.498193s]."
      ]
     },
     "metadata": {
      "is_log": true,
      "status": "INFO"
     },
     "output_type": "display_data"
    }
   ],
   "source": [
    "# 本代码由可视化策略环境自动生成 2021年12月10日 19:08\n",
    "# 本代码单元只能在可视化模式下编辑。您也可以拷贝代码，粘贴到新建的代码单元或者策略，然后修改。\n",
    "\n",
    "\n",
    "# Python 代码入口函数，input_1/2/3 对应三个输入端，data_1/2/3 对应三个输出端\n",
    "def m5_run_bigquant_run(input_1, start_date,end_date):\n",
    "    # 示例代码如下。在这里编写您的代码\n",
    "    ins=input_1.read_pickle()['instruments']\n",
    "    start_date=input_1.read_pickle()['start_date']\n",
    "    end_date=input_1.read_pickle()['end_date']\n",
    "    df=DataSource('bar1d_CN_FUND').read(start_date=start_date,end_date=end_date)\n",
    "    #df = df[['date', 'close', 'instrument']].rename(columns={'close': 'close_0'})\n",
    "    data_1 = DataSource.write_df(df)\n",
    "    return Outputs(data_1=data_1, data_2=None, data_3=None)\n",
    "\n",
    "# 后处理函数，可选。输入是主函数的输出，可以在这里对数据做处理，或者返回更友好的outputs数据格式。此函数输出不会被缓存。\n",
    "def m5_post_run_bigquant_run(outputs):\n",
    "    return outputs\n",
    "\n",
    "# 回测引擎：初始化函数，只执行一次\n",
    "def m3_initialize_bigquant_run(context):\n",
    "\n",
    "    # 系统已经设置了默认的交易手续费和滑点，要修改手续费可使用如下函数\n",
    "    context.set_commission(PerOrder(buy_cost=0.0003, sell_cost=0.0013, min_cost=5))\n",
    "\n",
    "# 回测引擎：每日数据处理函数，每天执行一次\n",
    "def m3_handle_data_bigquant_run(context, data):\n",
    "    # 获取今日的日期\n",
    "    today = data.current_dt.strftime('%Y-%m-%d')  \n",
    "    # 通过positions对象，使用列表生成式的方法获取目前持仓的股票列表\n",
    "    stock_hold_now = {e.symbol: p.amount * p.last_sale_price\n",
    "                 for e, p in context.perf_tracker.position_tracker.positions.items()}\n",
    "\n",
    "    # 记录用于买入股票的可用现金,因为是早盘卖股票，需要记录卖出的股票市值并在买入下单前更新可用现金；\n",
    "    # 如果是早盘买尾盘卖，则卖出时不需更新可用现金，因为尾盘卖出股票所得现金无法使用\n",
    "    cash_for_buy = context.portfolio.cash    \n",
    "    \n",
    "    try:\n",
    "        buy_stock = context.daily_stock_buy[today]  # 当日符合买入条件的股票\n",
    "    except:\n",
    "        buy_stock=[]  # 如果没有符合条件的股票，就设置为空\n",
    "    \n",
    "    try:\n",
    "        sell_stock = context.daily_stock_sell[today]  # 当日符合卖出条件的股票\n",
    "    except:\n",
    "        sell_stock=[] # 如果没有符合条件的股票，就设置为空\n",
    "    \n",
    "    # 需要卖出的股票:已有持仓中符合卖出条件的股票\n",
    "    stock_to_sell = [ i for i in stock_hold_now if i in sell_stock ]\n",
    "    # 需要买入的股票:没有持仓且符合买入条件的股票\n",
    "    stock_to_buy = [ i for i in buy_stock if i not in stock_hold_now ]  \n",
    "    # 需要调仓的股票：已有持仓且不符合卖出条件的股票\n",
    "    stock_to_adjust=[ i for i in stock_hold_now if i not in sell_stock ]\n",
    "    \n",
    "    # 如果有卖出信号\n",
    "    if len(stock_to_sell)>0:\n",
    "        for instrument in stock_to_sell:\n",
    "            sid = context.symbol(instrument) # 将标的转化为equity格式\n",
    "            cur_position = context.portfolio.positions[sid].amount # 持仓\n",
    "            if cur_position > 0 and data.can_trade(sid):\n",
    "                context.order_target_percent(sid, 0) # 全部卖出 \n",
    "                # 因为设置的是早盘卖出早盘买入，需要根据卖出的股票更新可用现金；如果设置尾盘卖出早盘买入，则不需更新可用现金(可以删除下面的语句)\n",
    "                cash_for_buy += stock_hold_now[instrument]\n",
    "    \n",
    "    # 如果有买入信号/有持仓\n",
    "    if len(stock_to_buy)+len(stock_to_adjust)>0:\n",
    "        weight = 1/(len(stock_to_buy)+len(stock_to_adjust)) # 每只股票的比重为等资金比例持有\n",
    "        for instrument in stock_to_buy+stock_to_adjust:\n",
    "            sid = context.symbol(instrument) # 将标的转化为equity格式\n",
    "            if  data.can_trade(sid):\n",
    "                context.order_target_value(sid, weight*cash_for_buy) # 买入\n",
    "# 回测引擎：准备数据，只执行一次\n",
    "def m3_prepare_bigquant_run(context):\n",
    "    # 加载预测数据\n",
    "    df = context.options['data'].read_df()\n",
    "\n",
    "    # 函数：求满足开仓条件的股票列表\n",
    "    def open_pos_con(df):\n",
    "        return list(df[df['buy_condition']>0].instrument)\n",
    "\n",
    "    # 函数：求满足平仓条件的股票列表\n",
    "    def close_pos_con(df):\n",
    "        return list(df[df['sell_condition']>0].instrument)\n",
    "\n",
    "    # 每日买入股票的数据框\n",
    "    context.daily_stock_buy= df.groupby('date').apply(open_pos_con)\n",
    "    # 每日卖出股票的数据框\n",
    "    context.daily_stock_sell= df.groupby('date').apply(close_pos_con)\n",
    "\n",
    "m1 = M.input_features.v1(\n",
    "    features=\"\"\"# #号开始的表示注释\n",
    "# 多个特征，每行一个，可以包含基础特征和衍生特征\n",
    "buy_condition=where(mean(close,5)>mean(close,10),1,0)\n",
    "sell_condition=where(mean(close,5)<mean(close,10),1,0)\"\"\",\n",
    "    m_cached=False\n",
    ")\n",
    "\n",
    "m2 = M.instruments.v2(\n",
    "    start_date=T.live_run_param('trading_date', '2016-01-01'),\n",
    "    end_date=T.live_run_param('trading_date', '2019-01-01'),\n",
    "    market='CN_FUND',\n",
    "    instrument_list='',\n",
    "    max_count=0\n",
    ")\n",
    "\n",
    "m5 = M.cached.v3(\n",
    "    input_1=m2.data,\n",
    "    run=m5_run_bigquant_run,\n",
    "    post_run=m5_post_run_bigquant_run,\n",
    "    input_ports='',\n",
    "    params='{}',\n",
    "    output_ports=''\n",
    ")\n",
    "\n",
    "m8 = M.derived_feature_extractor.v3(\n",
    "    input_data=m5.data_1,\n",
    "    features=m1.data,\n",
    "    date_col='date',\n",
    "    instrument_col='instrument',\n",
    "    drop_na=False,\n",
    "    remove_extra_columns=False\n",
    ")\n",
    "\n",
    "m4 = M.dropnan.v2(\n",
    "    input_data=m8.data\n",
    ")\n",
    "\n",
    "m3 = M.trade.v4(\n",
    "    instruments=m2.data,\n",
    "    options_data=m4.data,\n",
    "    start_date='',\n",
    "    end_date='',\n",
    "    initialize=m3_initialize_bigquant_run,\n",
    "    handle_data=m3_handle_data_bigquant_run,\n",
    "    prepare=m3_prepare_bigquant_run,\n",
    "    volume_limit=0.025,\n",
    "    order_price_field_buy='open',\n",
    "    order_price_field_sell='open',\n",
    "    capital_base=1000000,\n",
    "    auto_cancel_non_tradable_orders=True,\n",
    "    data_frequency='daily',\n",
    "    price_type='后复权',\n",
    "    product_type='股票',\n",
    "    plot_charts=True,\n",
    "    backtest_only=False,\n",
    "    benchmark=''\n",
    ")\n"
   ]
  }
 ],
 "metadata": {
  "kernelspec": {
   "display_name": "Python 3",
   "language": "python",
   "name": "python3"
  },
  "language_info": {
   "codemirror_mode": {
    "name": "ipython",
    "version": 3
   },
   "file_extension": ".py",
   "mimetype": "text/x-python",
   "name": "python",
   "nbconvert_exporter": "python",
   "pygments_lexer": "ipython3",
   "version": "3.8.7"
  }
 },
 "nbformat": 4,
 "nbformat_minor": 4
}
