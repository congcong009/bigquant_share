{
 "cells": [
  {
   "cell_type": "code",
   "execution_count": 124,
   "metadata": {
    "machine_learning_studio": "true",
    "ml_studio_json": "{\"Description\":\"实验创建于2017/8/26\",\"Summary\":\"\",\"Graph\":{\"EdgesInternal\":[{\"DestinationInputPortId\":\"-784:instruments\",\"SourceOutputPortId\":\"287d2cb0-f53c-4101-bdf8-104b137c8601-8:data\"},{\"DestinationInputPortId\":\"-784:features\",\"SourceOutputPortId\":\"-714:data\"},{\"DestinationInputPortId\":\"-795:input_data\",\"SourceOutputPortId\":\"-784:data\"}],\"ModuleNodes\":[{\"Id\":\"287d2cb0-f53c-4101-bdf8-104b137c8601-8\",\"ModuleId\":\"BigQuantSpace.instruments.instruments-v2\",\"ModuleParameters\":[{\"Name\":\"start_date\",\"Value\":\"2018-01-01\",\"ValueType\":\"Literal\",\"LinkedGlobalParameter\":null},{\"Name\":\"end_date\",\"Value\":\"2018-09-01\",\"ValueType\":\"Literal\",\"LinkedGlobalParameter\":null},{\"Name\":\"market\",\"Value\":\"CN_STOCK_A\",\"ValueType\":\"Literal\",\"LinkedGlobalParameter\":null},{\"Name\":\"instrument_list\",\"Value\":\"600519.SHA\\n000858.SZA\\n000895.SZA\",\"ValueType\":\"Literal\",\"LinkedGlobalParameter\":null},{\"Name\":\"max_count\",\"Value\":\"0\",\"ValueType\":\"Literal\",\"LinkedGlobalParameter\":null}],\"InputPortsInternal\":[{\"DataSourceId\":null,\"TrainedModelId\":null,\"TransformModuleId\":null,\"Name\":\"rolling_conf\",\"NodeId\":\"287d2cb0-f53c-4101-bdf8-104b137c8601-8\"}],\"OutputPortsInternal\":[{\"Name\":\"data\",\"NodeId\":\"287d2cb0-f53c-4101-bdf8-104b137c8601-8\",\"OutputType\":null}],\"UsePreviousResults\":true,\"moduleIdForCode\":1,\"IsPartOfPartialRun\":null,\"Comment\":\"\",\"CommentCollapsed\":true},{\"Id\":\"-714\",\"ModuleId\":\"BigQuantSpace.input_features.input_features-v1\",\"ModuleParameters\":[{\"Name\":\"features\",\"Value\":\"\\n# #号开始的表示注释，注释需单独一行\\n# 多个特征，每行一个，可以包含基础特征和衍生特征，特征须为本平台特征\\nclose_0\\nopen_0\\nhigh_0\\nlow_0\\nindustry_sw_level1_0\",\"ValueType\":\"Literal\",\"LinkedGlobalParameter\":null}],\"InputPortsInternal\":[{\"DataSourceId\":null,\"TrainedModelId\":null,\"TransformModuleId\":null,\"Name\":\"features_ds\",\"NodeId\":\"-714\"}],\"OutputPortsInternal\":[{\"Name\":\"data\",\"NodeId\":\"-714\",\"OutputType\":null}],\"UsePreviousResults\":true,\"moduleIdForCode\":6,\"IsPartOfPartialRun\":null,\"Comment\":\"\",\"CommentCollapsed\":true},{\"Id\":\"-784\",\"ModuleId\":\"BigQuantSpace.general_feature_extractor.general_feature_extractor-v7\",\"ModuleParameters\":[{\"Name\":\"start_date\",\"Value\":\"\",\"ValueType\":\"Literal\",\"LinkedGlobalParameter\":null},{\"Name\":\"end_date\",\"Value\":\"\",\"ValueType\":\"Literal\",\"LinkedGlobalParameter\":null},{\"Name\":\"before_start_days\",\"Value\":90,\"ValueType\":\"Literal\",\"LinkedGlobalParameter\":null}],\"InputPortsInternal\":[{\"DataSourceId\":null,\"TrainedModelId\":null,\"TransformModuleId\":null,\"Name\":\"instruments\",\"NodeId\":\"-784\"},{\"DataSourceId\":null,\"TrainedModelId\":null,\"TransformModuleId\":null,\"Name\":\"features\",\"NodeId\":\"-784\"}],\"OutputPortsInternal\":[{\"Name\":\"data\",\"NodeId\":\"-784\",\"OutputType\":null}],\"UsePreviousResults\":true,\"moduleIdForCode\":2,\"IsPartOfPartialRun\":null,\"Comment\":\"\",\"CommentCollapsed\":true},{\"Id\":\"-795\",\"ModuleId\":\"BigQuantSpace.auto_labeler_on_datasource.auto_labeler_on_datasource-v1\",\"ModuleParameters\":[{\"Name\":\"label_expr\",\"Value\":\"# #号开始的表示注释\\n# 0. 每行一个，顺序执行，从第二个开始，可以使用label字段\\n# 1. 可用数据字段见 https://bigquant.com/docs/data_history_data.html\\n# 2. 可用操作符和函数见 `表达式引擎 <https://bigquant.com/docs/big_expr.html>`_\\n\\n# 计算收益：5日收盘价(作为卖出价格)除以明日开盘价(作为买入价格)\\ngroup_rank(industry_sw_level1_0,shift(close_0,-5)/shift(open_0,-1)-1)\\n\\n# 极值处理：用1%和99%分位的值做clip\\nclip(label, all_quantile(label, 0.01), all_quantile(label, 0.99))\\n\\n# 将分数映射到分类，这里使用20个分类\\nall_wbins(label, 20)\\n\\n# 过滤掉一字涨停的情况 (设置label为NaN，在后续处理和训练中会忽略NaN的label)\\nwhere(shift(high_0, -1) == shift(low_0, -1), NaN, label)\\n\",\"ValueType\":\"Literal\",\"LinkedGlobalParameter\":null},{\"Name\":\"drop_na_label\",\"Value\":\"True\",\"ValueType\":\"Literal\",\"LinkedGlobalParameter\":null},{\"Name\":\"cast_label_int\",\"Value\":\"True\",\"ValueType\":\"Literal\",\"LinkedGlobalParameter\":null},{\"Name\":\"date_col\",\"Value\":\"date\",\"ValueType\":\"Literal\",\"LinkedGlobalParameter\":null},{\"Name\":\"instrument_col\",\"Value\":\"instrument\",\"ValueType\":\"Literal\",\"LinkedGlobalParameter\":null},{\"Name\":\"user_functions\",\"Value\":\"{}\",\"ValueType\":\"Literal\",\"LinkedGlobalParameter\":null}],\"InputPortsInternal\":[{\"DataSourceId\":null,\"TrainedModelId\":null,\"TransformModuleId\":null,\"Name\":\"input_data\",\"NodeId\":\"-795\"}],\"OutputPortsInternal\":[{\"Name\":\"data\",\"NodeId\":\"-795\",\"OutputType\":null}],\"UsePreviousResults\":true,\"moduleIdForCode\":15,\"IsPartOfPartialRun\":null,\"Comment\":\"\",\"CommentCollapsed\":true}],\"SerializedClientData\":\"<?xml version='1.0' encoding='utf-16'?><DataV1 xmlns:xsd='http://www.w3.org/2001/XMLSchema' xmlns:xsi='http://www.w3.org/2001/XMLSchema-instance'><Meta /><NodePositions><NodePosition Node='287d2cb0-f53c-4101-bdf8-104b137c8601-8' Position='127,64,200,200'/><NodePosition Node='-714' Position='427,61,200,200'/><NodePosition Node='-784' Position='224,165,200,200'/><NodePosition Node='-795' Position='215,274,200,200'/></NodePositions><NodeGroups /></DataV1>\"},\"IsDraft\":true,\"ParentExperimentId\":null,\"WebService\":{\"IsWebServiceExperiment\":false,\"Inputs\":[],\"Outputs\":[],\"Parameters\":[{\"Name\":\"交易日期\",\"Value\":\"\",\"ParameterDefinition\":{\"Name\":\"交易日期\",\"FriendlyName\":\"交易日期\",\"DefaultValue\":\"\",\"ParameterType\":\"String\",\"HasDefaultValue\":true,\"IsOptional\":true,\"ParameterRules\":[],\"HasRules\":false,\"MarkupType\":0,\"CredentialDescriptor\":null}}],\"WebServiceGroupId\":null,\"SerializedClientData\":\"<?xml version='1.0' encoding='utf-16'?><DataV1 xmlns:xsd='http://www.w3.org/2001/XMLSchema' xmlns:xsi='http://www.w3.org/2001/XMLSchema-instance'><Meta /><NodePositions></NodePositions><NodeGroups /></DataV1>\"},\"DisableNodesUpdate\":false,\"Category\":\"user\",\"Tags\":[],\"IsPartialRun\":true}"
   },
   "outputs": [
    {
     "name": "stdout",
     "output_type": "stream",
     "text": [
      "[2019-01-24 19:06:26.652761] INFO: bigquant: instruments.v2 开始运行..\n",
      "[2019-01-24 19:06:26.659276] INFO: bigquant: 命中缓存\n",
      "[2019-01-24 19:06:26.660503] INFO: bigquant: instruments.v2 运行完成[0.007759s].\n",
      "[2019-01-24 19:06:26.663556] INFO: bigquant: input_features.v1 开始运行..\n",
      "[2019-01-24 19:06:26.668660] INFO: bigquant: 命中缓存\n",
      "[2019-01-24 19:06:26.669799] INFO: bigquant: input_features.v1 运行完成[0.006249s].\n",
      "[2019-01-24 19:06:26.675387] INFO: bigquant: general_feature_extractor.v7 开始运行..\n",
      "[2019-01-24 19:06:26.679937] INFO: bigquant: 命中缓存\n",
      "[2019-01-24 19:06:26.681620] INFO: bigquant: general_feature_extractor.v7 运行完成[0.00623s].\n",
      "[2019-01-24 19:06:26.684382] INFO: bigquant: auto_labeler_on_datasource.v1 开始运行..\n",
      "[2019-01-24 19:06:27.004980] INFO: 自动标注(任意数据源): 开始标注 ..\n",
      "[2019-01-24 19:06:29.736701] INFO: bigquant: auto_labeler_on_datasource.v1 运行完成[3.05228s].\n"
     ]
    }
   ],
   "source": [
    "# 本代码由可视化策略环境自动生成 2021年4月30日18:56\n",
    "# 本代码单元只能在可视化模式下编辑。您也可以拷贝代码，粘贴到新建的代码单元或者策略，然后修改。\n",
    "\n",
    "\n",
    "m1 = M.instruments.v2(\n",
    "    start_date='2018-01-01',\n",
    "    end_date='2018-09-01',\n",
    "    market='CN_STOCK_A',\n",
    "    instrument_list=\"\"\"600519.SHA\n",
    "000858.SZA\n",
    "000895.SZA\"\"\",\n",
    "    max_count=0\n",
    ")\n",
    "\n",
    "m6 = M.input_features.v1(\n",
    "    features=\"\"\"\n",
    "# #号开始的表示注释，注释需单独一行\n",
    "# 多个特征，每行一个，可以包含基础特征和衍生特征，特征须为本平台特征\n",
    "close_0\n",
    "open_0\n",
    "high_0\n",
    "low_0\n",
    "industry_sw_level1_0\"\"\"\n",
    ")\n",
    "\n",
    "m2 = M.general_feature_extractor.v7(\n",
    "    instruments=m1.data,\n",
    "    features=m6.data,\n",
    "    start_date='',\n",
    "    end_date='',\n",
    "    before_start_days=90\n",
    ")\n",
    "\n",
    "m15 = M.auto_labeler_on_datasource.v1(\n",
    "    input_data=m2.data,\n",
    "    label_expr=\"\"\"# #号开始的表示注释\n",
    "# 0. 每行一个，顺序执行，从第二个开始，可以使用label字段\n",
    "# 1. 可用数据字段见 https://bigquant.com/docs/data_history_data.html\n",
    "# 2. 可用操作符和函数见 `表达式引擎 <https://bigquant.com/docs/big_expr.html>`_\n",
    "\n",
    "# 计算收益：5日收盘价(作为卖出价格)除以明日开盘价(作为买入价格)\n",
    "group_rank(industry_sw_level1_0,shift(close_0,-5)/shift(open_0,-1)-1)\n",
    "\n",
    "# 极值处理：用1%和99%分位的值做clip\n",
    "clip(label, all_quantile(label, 0.01), all_quantile(label, 0.99))\n",
    "\n",
    "# 将分数映射到分类，这里使用20个分类\n",
    "all_wbins(label, 20)\n",
    "\n",
    "# 过滤掉一字涨停的情况 (设置label为NaN，在后续处理和训练中会忽略NaN的label)\n",
    "where(shift(high_0, -1) == shift(low_0, -1), NaN, label)\n",
    "\"\"\",\n",
    "    drop_na_label=True,\n",
    "    cast_label_int=True,\n",
    "    date_col='date',\n",
    "    instrument_col='instrument',\n",
    "    user_functions={}\n",
    ")\n"
   ]
  },
  {
   "cell_type": "code",
   "execution_count": 125,
   "metadata": {},
   "outputs": [
    {
     "data": {
      "text/html": [
       "<div id=\"bigchart-8849caa10b19476488d51fc60622d841\" class=\"bigchart\"></div><div class=\"bigchart-data\"><pre style=\"display:none\">bigcharts-data-start/{\"title\":{\"text\":\"\\u6570\\u636e\\u6807\\u6ce8\\u5206\\u5e03\"},\"chart\":{\"type\":\"column\",\"renderTo\":\"bigchart-8849caa10b19476488d51fc60622d841\",\"height\":400},\"xAxis\":{\"title\":{\"text\":\"label\"}},\"stock\":false,\"series\":[{\"name\":\"count\",\"yAxis\":0,\"data\":[[0,41024],[1,35115],[2,35028],[3,35193],[4,34932],[5,34911],[6,35252],[7,34946],[8,35086],[9,35010],[10,35205],[11,35006],[12,34968],[13,35071],[14,34486],[15,35611],[16,35198],[17,35087],[18,34863],[19,41093]]}],\"legend\":{\"enabled\":true}}/bigcharts-data-end</pre></div>"
      ],
      "text/plain": [
       "<IPython.core.display.HTML object>"
      ]
     },
     "metadata": {},
     "output_type": "display_data"
    }
   ],
   "source": [
    "m15.plot_label_counts()"
   ]
  }
 ],
 "metadata": {
  "kernelspec": {
   "display_name": "Python 3",
   "language": "python",
   "name": "python3"
  },
  "language_info": {
   "codemirror_mode": {
    "name": "ipython",
    "version": 3
   },
   "file_extension": ".py",
   "mimetype": "text/x-python",
   "name": "python",
   "nbconvert_exporter": "python",
   "pygments_lexer": "ipython3",
   "version": "3.8.7"
  }
 },
 "nbformat": 4,
 "nbformat_minor": 4
}
