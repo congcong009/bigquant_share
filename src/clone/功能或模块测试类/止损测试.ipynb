{
 "cells": [
  {
   "cell_type": "code",
   "execution_count": 1,
   "metadata": {
    "machine_learning_studio": "true",
    "ml_studio_json": "{\"description\":\"实验创建于2018/6/27\",\"graph\":{\"edges\":[{\"to_node_id\":\"-353:instruments\",\"from_node_id\":\"-51:data\"},{\"to_node_id\":\"-370:instruments\",\"from_node_id\":\"-51:data\"},{\"to_node_id\":\"-353:features\",\"from_node_id\":\"-59:data\"},{\"to_node_id\":\"-360:features\",\"from_node_id\":\"-59:data\"},{\"to_node_id\":\"-1372:input_1\",\"from_node_id\":\"-353:data\"},{\"to_node_id\":\"-865:input_data\",\"from_node_id\":\"-360:data\"},{\"to_node_id\":\"-531:input_data\",\"from_node_id\":\"-390:sorted_data\"},{\"to_node_id\":\"-370:options_data\",\"from_node_id\":\"-531:data\"},{\"to_node_id\":\"-93:input_data\",\"from_node_id\":\"-865:data\"},{\"to_node_id\":\"-390:input_ds\",\"from_node_id\":\"-93:data\"},{\"to_node_id\":\"-443:input_data\",\"from_node_id\":\"-220:data\"},{\"to_node_id\":\"-220:instruments\",\"from_node_id\":\"-226:data\"},{\"to_node_id\":\"-220:features\",\"from_node_id\":\"-234:data\"},{\"to_node_id\":\"-443:features\",\"from_node_id\":\"-234:data\"},{\"to_node_id\":\"-2883:input_1\",\"from_node_id\":\"-443:data\"},{\"to_node_id\":\"-360:input_data\",\"from_node_id\":\"-1372:data\"},{\"to_node_id\":\"-2883:input_2\",\"from_node_id\":\"-2864:data\"},{\"to_node_id\":\"-2864:instruments\",\"from_node_id\":\"-2870:data\"},{\"to_node_id\":\"-2864:features\",\"from_node_id\":\"-2878:data\"},{\"to_node_id\":\"-1372:input_2\",\"from_node_id\":\"-2883:data\"}],\"nodes\":[{\"node_id\":\"-51\",\"module_id\":\"BigQuantSpace.instruments.instruments-v2\",\"parameters\":[{\"name\":\"start_date\",\"value\":\"2019-01-01\",\"type\":\"Literal\",\"bound_global_parameter\":null},{\"name\":\"end_date\",\"value\":\"2022-05-01\",\"type\":\"Literal\",\"bound_global_parameter\":\"交易日期\"},{\"name\":\"market\",\"value\":\"CN_STOCK_A\",\"type\":\"Literal\",\"bound_global_parameter\":null},{\"name\":\"instrument_list\",\"value\":\"        \",\"type\":\"Literal\",\"bound_global_parameter\":null},{\"name\":\"max_count\",\"value\":\"0\",\"type\":\"Literal\",\"bound_global_parameter\":null}],\"input_ports\":[{\"name\":\"rolling_conf\",\"node_id\":\"-51\"}],\"output_ports\":[{\"name\":\"data\",\"node_id\":\"-51\"}],\"cacheable\":true,\"seq_num\":1,\"comment\":\"\",\"comment_collapsed\":true},{\"node_id\":\"-59\",\"module_id\":\"BigQuantSpace.input_features.input_features-v1\",\"parameters\":[{\"name\":\"features\",\"value\":\"isXiaDie0=where((return_0<1),1,0)\\n#当天A股下跌数\\nxd_num=group_sum(date, isXiaDie0)\\nisZhangtToday=where((return_0>1.09)&(close_0==high_0),1,0)\\nisDietToday=where((return_0<0.91)&(close_0==low_0),1,0)\\nreturn0=return_0\\npriceLowBl10=close_0/ts_min(close_0,10)\\nzgzzf=high_0/close_1\\nzdzzf=low_0/close_1\\nkp1=(open_0-close_1)/close_1\\nkp=shift((open_0-close_1)/close_1,-1)\\nzd=shift((low_0-close_1)/close_1,-1)\\nzg=shift((high_0-close_1)/close_1,-1)\\n\\n#逻辑一：大盘大跌情况下的涨停票后续效果\\n#myls=where((xd_num>3500)&(isZhangtToday==1),1,0)\\n#逻辑二：大盘大跌情况下的跌停票后续效果\\n#myls=where((xd_num>3500)&(isDietToday==1),1,0)\\n#逻辑三：大盘大跌情况下的跌停票后续效果，精选个股\\nmyls=where((xd_num>3500)&(isDietToday==1)&(priceLowBl10<1.05)&(kp1>-0.05),1,0)\\n\\nshouyi=(shift(open_0,-2)-shift(open_0,-1))/shift(open_0,-1)\\nshouyi2=(shift(close_0,-2)-shift(open_0,-1))/shift(open_0,-1)\\n\\nkp=where((kp<-0.096),1,kp)\\n#zhangf=(close_0-open_0)/open_0\\n\\n#附合这个选股逻辑，第二天开盘执行买入\\nbuy_condition=where(myls==1,1,0)\\n#卖出不做特别处理，按三天收盘执行卖出\\nsell_condition=where(myls==2,1,0)\",\"type\":\"Literal\",\"bound_global_parameter\":null}],\"input_ports\":[{\"name\":\"features_ds\",\"node_id\":\"-59\"}],\"output_ports\":[{\"name\":\"data\",\"node_id\":\"-59\"}],\"cacheable\":true,\"seq_num\":2,\"comment\":\"\",\"comment_collapsed\":true},{\"node_id\":\"-353\",\"module_id\":\"BigQuantSpace.general_feature_extractor.general_feature_extractor-v7\",\"parameters\":[{\"name\":\"start_date\",\"value\":\"\",\"type\":\"Literal\",\"bound_global_parameter\":null},{\"name\":\"end_date\",\"value\":\"\",\"type\":\"Literal\",\"bound_global_parameter\":null},{\"name\":\"before_start_days\",\"value\":\"0\",\"type\":\"Literal\",\"bound_global_parameter\":null}],\"input_ports\":[{\"name\":\"instruments\",\"node_id\":\"-353\"},{\"name\":\"features\",\"node_id\":\"-353\"}],\"output_ports\":[{\"name\":\"data\",\"node_id\":\"-353\"}],\"cacheable\":false,\"seq_num\":5,\"comment\":\"\",\"comment_collapsed\":true},{\"node_id\":\"-360\",\"module_id\":\"BigQuantSpace.derived_feature_extractor.derived_feature_extractor-v3\",\"parameters\":[{\"name\":\"date_col\",\"value\":\"date\",\"type\":\"Literal\",\"bound_global_parameter\":null},{\"name\":\"instrument_col\",\"value\":\"instrument\",\"type\":\"Literal\",\"bound_global_parameter\":null},{\"name\":\"drop_na\",\"value\":\"False\",\"type\":\"Literal\",\"bound_global_parameter\":null},{\"name\":\"remove_extra_columns\",\"value\":\"True\",\"type\":\"Literal\",\"bound_global_parameter\":null},{\"name\":\"user_functions\",\"value\":\"{}\",\"type\":\"Literal\",\"bound_global_parameter\":null}],\"input_ports\":[{\"name\":\"input_data\",\"node_id\":\"-360\"},{\"name\":\"features\",\"node_id\":\"-360\"}],\"output_ports\":[{\"name\":\"data\",\"node_id\":\"-360\"}],\"cacheable\":true,\"seq_num\":7,\"comment\":\"\",\"comment_collapsed\":true},{\"node_id\":\"-370\",\"module_id\":\"BigQuantSpace.trade.trade-v4\",\"parameters\":[{\"name\":\"start_date\",\"value\":\"\",\"type\":\"Literal\",\"bound_global_parameter\":null},{\"name\":\"end_date\",\"value\":\"\",\"type\":\"Literal\",\"bound_global_parameter\":null},{\"name\":\"initialize\",\"value\":\"# 回测引擎：初始化函数，只执行一次\\ndef bigquant_run(context):\\n\\n    # 系统已经设置了默认的交易手续费和滑点，要修改手续费可使用如下函数\\n    context.set_commission(PerOrder(buy_cost=0.0003, sell_cost=0.0013, min_cost=5))\\n    \\n    # 设置买入的股票数量，这里买入预测股票列表排名靠前的5只\\n    context.stock_count = 1\\n    # 每只的股票的权重，如下的权重分配会使得靠前的股票分配多一点的资金，[0.339160, 0.213986, 0.169580, ..]\\n    #context.stock_weights = T.norm([1 / math.log(i + 2) for i in range(0, stock_count)])\\n    # 每只股票的权重平均分配\\n    context.stock_weights = 1/context.stock_count\\n    # 设置每只股票占用的最大资金比例\\n    context.max_cash_per_instrument = 1\\n    context.options['hold_days'] = 0\\n\\n\",\"type\":\"Literal\",\"bound_global_parameter\":null},{\"name\":\"handle_data\",\"value\":\"# 回测引擎：每日数据处理函数，每天执行一次\\ndef bigquant_run(context, data):\\n    today = data.current_dt.strftime('%Y-%m-%d')\\n    equities = {e.symbol: p for e, p in context.portfolio.positions.items() if p.amount>0}\\n    stock_now = len(equities); #获取当前持仓股票数量\\n    stock_count = context.stock_count\\n    \\n    # 按日期过滤得到今日的预测数据\\n    # 加载预测数据\\n    df = context.options['data'].read_df()\\n    df_today = df[df.date == data.current_dt.strftime('%Y-%m-%d')]\\n    df_today.set_index('instrument')\\n    \\n    \\n\\n    #------------------------------------------止损模块START--------------------------------------------\\n    \\n    # 新建当日止损股票列表是为了handle_data 策略逻辑部分不再对该股票进行判断\\n    stoploss_stock = []\\n    stopwin_stock = []\\n    now_stock = []\\n    if len(equities) > 0:\\n        for i in equities.keys():\\n            now_stock.append(i)\\n            try :\\n                amount_zfs=list(df_today[df_today.instrument==i]['amount_zf'])\\n                amount_zf=amount_zfs[0]\\n                amount_bls=list(df_today[df_today.instrument==i]['amount_bl'])\\n                amount_bl=amount_bls[0]\\n                mc1s=list(df_today[df_today.instrument==i]['mc1'])\\n                mc1=mc1s[0]\\n                mc3s=list(df_today[df_today.instrument==i]['mc3'])\\n                mc3=mc3s[0]\\n                mc4s=list(df_today[df_today.instrument==i]['mc4'])\\n                mc4=mc4s[0]\\n                gzxzs=list(df_today[df_today.instrument==i]['gzxz'])\\n                gzxz=gzxzs[0]\\n                hasMdins=list(df_today[df_today.instrument==i]['hasMdin'])\\n                hasMdin=hasMdins[0]\\n                d2s=list(df_today[df_today.instrument==i]['d2'])\\n                d2=d2s[0]\\n            except :\\n                amount_bl=0\\n                amount_zf=0\\n                mc1=0\\n                gzxz=0\\n                mc3=0\\n                mc4=0\\n                hasMdin=0\\n                d2=0\\n            stock_market_price = data.current(context.symbol(i), 'price')  # 最新市场价格\\n            stock_market_today_high = data.current(context.symbol(i), 'high') #今日最高价      \\n            stock_market_today_close = data.current(context.symbol(i), 'close') #今日收盘价\\n            last_sale_date = equities[i].last_sale_date   # 上次交易日期\\n            last_cost_price = equities[i].cost_basis # 上次交易金额\\n            delta_days = data.current_dt - last_sale_date  \\n            hold_days = delta_days.days # 持仓天数\\n            # 建仓以来的最高价\\n            highest_price_since_buy = data.history(context.symbol(i), 'high', hold_days, '1d').max()\\n            # 建仓以来的收盘价的最高价\\n            highclose_price_since_buy = data.history(context.symbol(i), 'close', hold_days, '1d').max()\\n            # 确定止损位置\\n            stoploss_line = highest_price_since_buy - highest_price_since_buy * 0.05\\n            \\n            # 确定止盈位置\\n            stopwin_line = last_cost_price * 1.1\\n            # 最高收益\\n            high_return = (highclose_price_since_buy-last_cost_price)/last_cost_price\\n            # 今日回落（最高价-收盘价）/收盘价\\n            hui_luo = (stock_market_today_high - stock_market_price)/stock_market_price\\n            if(i=='603909.SHA'):\\n                print('日期:',today,'high_return:',high_return)   \\n            #record('止损位置', stoploss_line)\\n            # 如果价格下穿止损位置\\n            if stock_market_price < stoploss_line:\\n                if(i=='002735.SZA'):\\n                    print('日期:',today,'最高价:',highest_price_since_buy)\\n                    print('日期:',today,'止损价:',stoploss_line)\\n                    print('日期:',today,'当前价:',stock_market_price)\\n                    print('日期:',today,'建仓价:',last_cost_price)\\n                #context.order_target_percent(context.symbol(i), 0)\\n                context.order_target(context.symbol(i), 0)\\n                stoploss_stock.append(i)\\n                stock_now = stock_now -1\\n            #收益达6个点后，冲高回落时卖出\\n            elif high_return>0.06 and hui_luo>0.04 and amount_zf<1.5 and amount_bl<2:\\n                context.order_target(context.symbol(i), 0)\\n                stoploss_stock.append(i)\\n                stock_now = stock_now -1\\n                print('日期：', today, '股票：', context.symbol(i), 'huiluo:',hui_luo,'high_return:',high_return)\\n                print('日期：', today, '股票：', i, '出现冲高回落止损状况')\\n            #当天涨幅或相对前一天涨幅大于5个点，且成交量下降时卖出\\n            elif mc1==1 :\\n                context.order_target(context.symbol(i), 0)\\n                stoploss_stock.append(i)\\n                stock_now = stock_now -1\\n                print('日期：', today, '股票：', i, '大涨且成交量下降时卖出')\\n            #大涨后，出现高幅振汤且小涨卖出\\n            elif high_return>0.06 and gzxz==1 :\\n                context.order_target(context.symbol(i), 0)\\n                stoploss_stock.append(i)\\n                stock_now = stock_now -1\\n                print('日期：', today, '股票：', i, '大涨后出现高振小涨卖出')\\n            #大涨后，出现下跌时卖出\\n            elif mc3==1 and high_return>0.08:\\n                context.order_target(context.symbol(i), 0)\\n                stoploss_stock.append(i)\\n                stock_now = stock_now -1\\n                print('日期：', today, '股票：', i, '大涨后小跌时卖出')\\n            #高振幅小涨时卖出\\n            elif mc4==1:\\n                context.order_target(context.symbol(i), 0)\\n                stoploss_stock.append(i)\\n                stock_now = stock_now -1\\n                print('日期：', today, '股票：', i, '高振幅小涨时卖出')\\n            elif hasMdin==1:   \\n                #获取M顶的最大值\\n                if(i=='002633.SZA'):\\n                    mDinValue = data.history(context.symbol(i), 'close',29-int(d2), '1d')[0]\\n                    #M顶出现后的最高值\\n                    mDinLaterMax = data.history(context.symbol(i), 'close',29-int(d2), '1d').max()\\n                    print('日期：', today, '股票：', i, 'M顶值为：',mDinValue,'M顶后的最大值：',mDinLaterMax)\\n                    \\n            #elif stock_market_price > stopwin_line:\\n            #    context.order_target(context.symbol(i), 0)\\n            #    stopwin_stock.append(i)\\n            #    stock_now = stock_now -1\\n    if len(stoploss_stock)>0:\\n        print('日期：', today, '股票：', stoploss_stock, '出现跟踪止损状况')\\n    #if len(stopwin_stock)>0:\\n    #    print('日期：', today, '股票：', stopwin_stock, '出现跟踪止盈状况')\\n    \\n    #-------------------------------------------止损模块END---------------------------------------------   \\n    \\n    try:\\n        buy_list = context.daily_buy_stock[today]\\n    except:\\n        buy_list = []\\n\\n    \\n    # 1. 资金分配\\n    #is_staging = context.trading_day_index < context.options['hold_days'] # 是否在建仓期间（前 hold_days 天） \\n    stock_cash = context.portfolio.portfolio_value/stock_count\\n    #cash_avg = context.portfolio.portfolio_value\\n    #cash_for_buy = min(context.portfolio.cash,  stock_cash)\\n    #cash_for_sell = cash_avg - (context.portfolio.cash - cash_for_buy)\\n    \\n    positions = {e.symbol: p.amount * p.last_sale_price\\n                 for e, p in context.perf_tracker.position_tracker.positions.items()}\\n    \\n    # 2. 生成卖出订单：hold_days天之后才开始卖出；\\n    try:\\n        sell_stock_list = context.daily_sell_stock[today]  # 当日符合卖出条件的股票\\n    except:\\n        sell_stock_list = []\\n    # 需要卖出的股票:已有持仓中符合卖出条件的股票\\n    stock_to_sell = [i for i in positions if i in sell_stock_list]\\n    #print('日期：', today, '股票：', stock_to_sell, '需要卖出的股票')\\n    sell_stock = []\\n    \\n     # 卖出\\n    for instrument in stock_to_sell:\\n        # 如果该股票停牌，则没法成交。因此需要用can_trade方法检查下该股票的状态\\n        # 如果返回真值，则可以正常下单，否则会出错\\n        # 因为stock是字符串格式，我们用symbol方法将其转化成平台可以接受的形式：Equity格式\\n        if data.can_trade(context.symbol(instrument)):\\n            # order_target_percent是平台的一个下单接口，表明下单使得该股票的权重为0，即卖出全部股票，可参考回测文档\\n            context.order_target(context.symbol(instrument), 0)\\n            sell_stock.append(instrument)\\n            stock_now = stock_now -1\\n            if(instrument=='002735.SZA'):\\n                    print('日期:',today,'卖出1:',instrument)\\n            \\n    #if not is_staging :\\n    if 1==1 :    \\n        if len(equities) > 0:\\n            for i in equities.keys():\\n                last_sale_date = equities[i].last_sale_date\\t# 上次交易日期\\n                delta_days = data.current_dt - last_sale_date  \\n                hold_days = delta_days.days # 持仓天数\\n                print('日期:',today,'hold_days:',hold_days,'股票:',i)\\n                if hold_days >= context.options['hold_days'] and i not in buy_list + stoploss_stock + stopwin_stock + sell_stock:\\n                    print('日期:',today,'卖出2:',i)\\n                    context.order_target(context.symbol(i), 0)\\n                    sell_stock.append(i)\\n                    stock_now = stock_now -1\\n                    if(i=='002735.SZA'):\\n                        print('日期:',today,'卖出2:',i)\\n                    #print('日期：', today, '股票：', i, ' 卖出')\\n                 \\n# 3. 生成买入订单\\n    buy_num = stock_count - stock_now\\n    #if is_staging :\\n    #    buy_num = 1\\n    if len(buy_list)>0:\\n        print('日期：', today, '选出股票数量：', len(buy_list))\\n    if buy_num>0 and len(buy_list)>0 :\\n        # 不再买入已经轮仓卖出和移动止损的股票,以防止出现空头持仓\\n        buy_instruments = [i for i in buy_list if i not in sell_stock + stoploss_stock + stopwin_stock + now_stock][:buy_num]\\n        for i, instrument in enumerate(buy_instruments):\\n            current_price = data.current(context.symbol(instrument), 'price')\\n            #过滤不买入的\\n            try :\\n                hasMdins=list(df_today[df_today.instrument==instrument]['hasMdin'])\\n                hasMdin=hasMdins[0]\\n                d2s=list(df_today[df_today.instrument==instrument]['d2'])\\n                d2=d2s[0]\\n                zs_a1=list(df_today[df_today.instrument==instrument]['zs_a1'])[0]\\n                zs_a2=list(df_today[df_today.instrument==instrument]['zs_a2'])[0]\\n                zs_bmy1=list(df_today[df_today.instrument==instrument]['zs_bmy1'])[0]            \\n            except :\\n                hasMdin=0\\n                d2=0\\n                zs_bmy1=0\\n              #  bmy4=0\\n            if hasMdin==1: #需要优化M顶的逻辑\\n                mDinValue = data.history(context.symbol(instrument), 'close',29-int(d2), '1d')[0]\\n                #M顶出现后的最高值\\n                mDinLaterMax = data.history(context.symbol(instrument), 'close',29-int(d2), '1d').max()\\n                mDinLaterMin = data.history(context.symbol(instrument), 'close',29-int(d2), '1d').min()\\n                #当出现了M顶，且M顶未被突破，当前的价格低于M顶，且当前价格接近M顶的位置，不买入\\n                if mDinLaterMax/mDinValue<1.03 and current_price<mDinValue and mDinValue/current_price<1.04 and mDinValue/mDinLaterMin>1.07:\\n                    print('日期:',today,'买入时过滤有顶部压力的股票:',instrument)\\n                    continue\\n            if zs_bmy1==3:\\n                    print('日期:',today,'买入时过滤指数不买入股票:',instrument,'指数a1:',zs_a1,'指数a2:',zs_a2)\\n                    #continue\\n            cash_for_buy = min(context.portfolio.cash,  stock_cash)\\n            if cash_for_buy>0 and data.can_trade(context.symbol(instrument)):           \\n                amount = math.floor(cash_for_buy / current_price / 100) * 100\\n                context.order(context.symbol(instrument), amount)\\n                #if(instrument=='002735.SZA'):\\n                print('日期:',today,'买入:',instrument)\\n            else :\\n                print('日期:',today,'无资金或不能交易未买入:',instrument)\",\"type\":\"Literal\",\"bound_global_parameter\":null},{\"name\":\"prepare\",\"value\":\"# 回测引擎：准备数据，只执行一次\\ndef bigquant_run(context):\\n    # 加载预测数据\\n    df = context.options['data'].read_df()\\n    # 函数：求满足开仓条件的股票列表\\n    def open_pos_con(df):\\n        return list(df[df['buy_condition']>0].instrument)\\n    # 函数：求满足平仓条件的股票列表\\n    def close_pos_con(df):\\n        return list(df[df['sell_condition']>0].instrument)\\n    \\n    # 每日卖出股票的数据框\\n    context.daily_sell_stock= df.groupby('date').apply(close_pos_con)  \\n    # 每日买入股票的数据框\\n    context.daily_buy_stock= df.groupby('date').apply(open_pos_con)  \\n\\n\\n    \\n\",\"type\":\"Literal\",\"bound_global_parameter\":null},{\"name\":\"before_trading_start\",\"value\":\"# 回测引擎：每个单位时间开始前调用一次，即每日开盘前调用一次。\\ndef bigquant_run(context, data):\\n    pass\\n\",\"type\":\"Literal\",\"bound_global_parameter\":null},{\"name\":\"volume_limit\",\"value\":0.025,\"type\":\"Literal\",\"bound_global_parameter\":null},{\"name\":\"order_price_field_buy\",\"value\":\"open\",\"type\":\"Literal\",\"bound_global_parameter\":null},{\"name\":\"order_price_field_sell\",\"value\":\"close\",\"type\":\"Literal\",\"bound_global_parameter\":null},{\"name\":\"capital_base\",\"value\":\"200000\",\"type\":\"Literal\",\"bound_global_parameter\":null},{\"name\":\"auto_cancel_non_tradable_orders\",\"value\":\"True\",\"type\":\"Literal\",\"bound_global_parameter\":null},{\"name\":\"data_frequency\",\"value\":\"daily\",\"type\":\"Literal\",\"bound_global_parameter\":null},{\"name\":\"price_type\",\"value\":\"真实价格\",\"type\":\"Literal\",\"bound_global_parameter\":null},{\"name\":\"product_type\",\"value\":\"股票\",\"type\":\"Literal\",\"bound_global_parameter\":null},{\"name\":\"plot_charts\",\"value\":\"True\",\"type\":\"Literal\",\"bound_global_parameter\":null},{\"name\":\"backtest_only\",\"value\":\"False\",\"type\":\"Literal\",\"bound_global_parameter\":null},{\"name\":\"benchmark\",\"value\":\"\",\"type\":\"Literal\",\"bound_global_parameter\":null}],\"input_ports\":[{\"name\":\"instruments\",\"node_id\":\"-370\"},{\"name\":\"options_data\",\"node_id\":\"-370\"},{\"name\":\"history_ds\",\"node_id\":\"-370\"},{\"name\":\"benchmark_ds\",\"node_id\":\"-370\"},{\"name\":\"trading_calendar\",\"node_id\":\"-370\"}],\"output_ports\":[{\"name\":\"raw_perf\",\"node_id\":\"-370\"}],\"cacheable\":false,\"seq_num\":8,\"comment\":\"\",\"comment_collapsed\":true},{\"node_id\":\"-390\",\"module_id\":\"BigQuantSpace.sort.sort-v4\",\"parameters\":[{\"name\":\"sort_by\",\"value\":\"kp\",\"type\":\"Literal\",\"bound_global_parameter\":null},{\"name\":\"group_by\",\"value\":\"date\",\"type\":\"Literal\",\"bound_global_parameter\":null},{\"name\":\"keep_columns\",\"value\":\"--\",\"type\":\"Literal\",\"bound_global_parameter\":null},{\"name\":\"ascending\",\"value\":\"True\",\"type\":\"Literal\",\"bound_global_parameter\":null}],\"input_ports\":[{\"name\":\"input_ds\",\"node_id\":\"-390\"},{\"name\":\"sort_by_ds\",\"node_id\":\"-390\"}],\"output_ports\":[{\"name\":\"sorted_data\",\"node_id\":\"-390\"}],\"cacheable\":true,\"seq_num\":9,\"comment\":\"\",\"comment_collapsed\":true},{\"node_id\":\"-531\",\"module_id\":\"BigQuantSpace.filter.filter-v3\",\"parameters\":[{\"name\":\"expr\",\"value\":\"myls==1\",\"type\":\"Literal\",\"bound_global_parameter\":null},{\"name\":\"output_left_data\",\"value\":\"False\",\"type\":\"Literal\",\"bound_global_parameter\":null}],\"input_ports\":[{\"name\":\"input_data\",\"node_id\":\"-531\"}],\"output_ports\":[{\"name\":\"data\",\"node_id\":\"-531\"},{\"name\":\"left_data\",\"node_id\":\"-531\"}],\"cacheable\":true,\"seq_num\":3,\"comment\":\"\",\"comment_collapsed\":true},{\"node_id\":\"-865\",\"module_id\":\"BigQuantSpace.chinaa_stock_filter.chinaa_stock_filter-v1\",\"parameters\":[{\"name\":\"index_constituent_cond\",\"value\":\"%7B%22enumItems%22%3A%5B%7B%22value%22%3A%22%E5%85%A8%E9%83%A8%22%2C%22displayValue%22%3A%22%E5%85%A8%E9%83%A8%22%2C%22selected%22%3Atrue%7D%2C%7B%22value%22%3A%22%E4%B8%8A%E8%AF%8150%22%2C%22displayValue%22%3A%22%E4%B8%8A%E8%AF%8150%22%2C%22selected%22%3Afalse%7D%2C%7B%22value%22%3A%22%E6%B2%AA%E6%B7%B1300%22%2C%22displayValue%22%3A%22%E6%B2%AA%E6%B7%B1300%22%2C%22selected%22%3Afalse%7D%2C%7B%22value%22%3A%22%E4%B8%AD%E8%AF%81500%22%2C%22displayValue%22%3A%22%E4%B8%AD%E8%AF%81500%22%2C%22selected%22%3Afalse%7D%2C%7B%22value%22%3A%22%E4%B8%AD%E8%AF%81800%22%2C%22displayValue%22%3A%22%E4%B8%AD%E8%AF%81800%22%2C%22selected%22%3Afalse%7D%2C%7B%22value%22%3A%22%E4%B8%8A%E8%AF%81180%22%2C%22displayValue%22%3A%22%E4%B8%8A%E8%AF%81180%22%2C%22selected%22%3Afalse%7D%2C%7B%22value%22%3A%22%E4%B8%AD%E8%AF%81100%22%2C%22displayValue%22%3A%22%E4%B8%AD%E8%AF%81100%22%2C%22selected%22%3Afalse%7D%2C%7B%22value%22%3A%22%E6%B7%B1%E8%AF%81100%22%2C%22displayValue%22%3A%22%E6%B7%B1%E8%AF%81100%22%2C%22selected%22%3Afalse%7D%5D%7D\",\"type\":\"Literal\",\"bound_global_parameter\":null},{\"name\":\"board_cond\",\"value\":\"%7B%22enumItems%22%3A%5B%7B%22value%22%3A%22%E5%85%A8%E9%83%A8%22%2C%22displayValue%22%3A%22%E5%85%A8%E9%83%A8%22%2C%22selected%22%3Afalse%7D%2C%7B%22value%22%3A%22%E4%B8%8A%E8%AF%81%E4%B8%BB%E6%9D%BF%22%2C%22displayValue%22%3A%22%E4%B8%8A%E8%AF%81%E4%B8%BB%E6%9D%BF%22%2C%22selected%22%3Atrue%7D%2C%7B%22value%22%3A%22%E6%B7%B1%E8%AF%81%E4%B8%BB%E6%9D%BF%22%2C%22displayValue%22%3A%22%E6%B7%B1%E8%AF%81%E4%B8%BB%E6%9D%BF%22%2C%22selected%22%3Atrue%7D%2C%7B%22value%22%3A%22%E5%88%9B%E4%B8%9A%E6%9D%BF%22%2C%22displayValue%22%3A%22%E5%88%9B%E4%B8%9A%E6%9D%BF%22%2C%22selected%22%3Afalse%7D%2C%7B%22value%22%3A%22%E7%A7%91%E5%88%9B%E6%9D%BF%22%2C%22displayValue%22%3A%22%E7%A7%91%E5%88%9B%E6%9D%BF%22%2C%22selected%22%3Afalse%7D%5D%7D\",\"type\":\"Literal\",\"bound_global_parameter\":null},{\"name\":\"industry_cond\",\"value\":\"%7B%22enumItems%22%3A%5B%7B%22value%22%3A%22%E5%85%A8%E9%83%A8%22%2C%22displayValue%22%3A%22%E5%85%A8%E9%83%A8%22%2C%22selected%22%3Atrue%7D%2C%7B%22value%22%3A%22%E4%BA%A4%E9%80%9A%E8%BF%90%E8%BE%93%22%2C%22displayValue%22%3A%22%E4%BA%A4%E9%80%9A%E8%BF%90%E8%BE%93%22%2C%22selected%22%3Afalse%7D%2C%7B%22value%22%3A%22%E4%BC%91%E9%97%B2%E6%9C%8D%E5%8A%A1%22%2C%22displayValue%22%3A%22%E4%BC%91%E9%97%B2%E6%9C%8D%E5%8A%A1%22%2C%22selected%22%3Afalse%7D%2C%7B%22value%22%3A%22%E4%BC%A0%E5%AA%92%2F%E4%BF%A1%E6%81%AF%E6%9C%8D%E5%8A%A1%22%2C%22displayValue%22%3A%22%E4%BC%A0%E5%AA%92%2F%E4%BF%A1%E6%81%AF%E6%9C%8D%E5%8A%A1%22%2C%22selected%22%3Afalse%7D%2C%7B%22value%22%3A%22%E5%85%AC%E7%94%A8%E4%BA%8B%E4%B8%9A%22%2C%22displayValue%22%3A%22%E5%85%AC%E7%94%A8%E4%BA%8B%E4%B8%9A%22%2C%22selected%22%3Afalse%7D%2C%7B%22value%22%3A%22%E5%86%9C%E6%9E%97%E7%89%A7%E6%B8%94%22%2C%22displayValue%22%3A%22%E5%86%9C%E6%9E%97%E7%89%A7%E6%B8%94%22%2C%22selected%22%3Afalse%7D%2C%7B%22value%22%3A%22%E5%8C%96%E5%B7%A5%22%2C%22displayValue%22%3A%22%E5%8C%96%E5%B7%A5%22%2C%22selected%22%3Afalse%7D%2C%7B%22value%22%3A%22%E5%8C%BB%E8%8D%AF%E7%94%9F%E7%89%A9%22%2C%22displayValue%22%3A%22%E5%8C%BB%E8%8D%AF%E7%94%9F%E7%89%A9%22%2C%22selected%22%3Afalse%7D%2C%7B%22value%22%3A%22%E5%95%86%E4%B8%9A%E8%B4%B8%E6%98%93%22%2C%22displayValue%22%3A%22%E5%95%86%E4%B8%9A%E8%B4%B8%E6%98%93%22%2C%22selected%22%3Afalse%7D%2C%7B%22value%22%3A%22%E5%9B%BD%E9%98%B2%E5%86%9B%E5%B7%A5%22%2C%22displayValue%22%3A%22%E5%9B%BD%E9%98%B2%E5%86%9B%E5%B7%A5%22%2C%22selected%22%3Afalse%7D%2C%7B%22value%22%3A%22%E5%AE%B6%E7%94%A8%E7%94%B5%E5%99%A8%22%2C%22displayValue%22%3A%22%E5%AE%B6%E7%94%A8%E7%94%B5%E5%99%A8%22%2C%22selected%22%3Afalse%7D%2C%7B%22value%22%3A%22%E5%BB%BA%E7%AD%91%E6%9D%90%E6%96%99%2F%E5%BB%BA%E7%AD%91%E5%BB%BA%E6%9D%90%22%2C%22displayValue%22%3A%22%E5%BB%BA%E7%AD%91%E6%9D%90%E6%96%99%2F%E5%BB%BA%E7%AD%91%E5%BB%BA%E6%9D%90%22%2C%22selected%22%3Afalse%7D%2C%7B%22value%22%3A%22%E5%BB%BA%E7%AD%91%E8%A3%85%E9%A5%B0%22%2C%22displayValue%22%3A%22%E5%BB%BA%E7%AD%91%E8%A3%85%E9%A5%B0%22%2C%22selected%22%3Afalse%7D%2C%7B%22value%22%3A%22%E6%88%BF%E5%9C%B0%E4%BA%A7%22%2C%22displayValue%22%3A%22%E6%88%BF%E5%9C%B0%E4%BA%A7%22%2C%22selected%22%3Afalse%7D%2C%7B%22value%22%3A%22%E6%9C%89%E8%89%B2%E9%87%91%E5%B1%9E%22%2C%22displayValue%22%3A%22%E6%9C%89%E8%89%B2%E9%87%91%E5%B1%9E%22%2C%22selected%22%3Afalse%7D%2C%7B%22value%22%3A%22%E6%9C%BA%E6%A2%B0%E8%AE%BE%E5%A4%87%22%2C%22displayValue%22%3A%22%E6%9C%BA%E6%A2%B0%E8%AE%BE%E5%A4%87%22%2C%22selected%22%3Afalse%7D%2C%7B%22value%22%3A%22%E6%B1%BD%E8%BD%A6%2F%E4%BA%A4%E8%BF%90%E8%AE%BE%E5%A4%87%22%2C%22displayValue%22%3A%22%E6%B1%BD%E8%BD%A6%2F%E4%BA%A4%E8%BF%90%E8%AE%BE%E5%A4%87%22%2C%22selected%22%3Afalse%7D%2C%7B%22value%22%3A%22%E7%94%B5%E5%AD%90%22%2C%22displayValue%22%3A%22%E7%94%B5%E5%AD%90%22%2C%22selected%22%3Afalse%7D%2C%7B%22value%22%3A%22%E7%94%B5%E6%B0%94%E8%AE%BE%E5%A4%87%22%2C%22displayValue%22%3A%22%E7%94%B5%E6%B0%94%E8%AE%BE%E5%A4%87%22%2C%22selected%22%3Afalse%7D%2C%7B%22value%22%3A%22%E7%BA%BA%E7%BB%87%E6%9C%8D%E8%A3%85%22%2C%22displayValue%22%3A%22%E7%BA%BA%E7%BB%87%E6%9C%8D%E8%A3%85%22%2C%22selected%22%3Afalse%7D%2C%7B%22value%22%3A%22%E7%BB%BC%E5%90%88%22%2C%22displayValue%22%3A%22%E7%BB%BC%E5%90%88%22%2C%22selected%22%3Afalse%7D%2C%7B%22value%22%3A%22%E8%AE%A1%E7%AE%97%E6%9C%BA%22%2C%22displayValue%22%3A%22%E8%AE%A1%E7%AE%97%E6%9C%BA%22%2C%22selected%22%3Afalse%7D%2C%7B%22value%22%3A%22%E8%BD%BB%E5%B7%A5%E5%88%B6%E9%80%A0%22%2C%22displayValue%22%3A%22%E8%BD%BB%E5%B7%A5%E5%88%B6%E9%80%A0%22%2C%22selected%22%3Afalse%7D%2C%7B%22value%22%3A%22%E9%80%9A%E4%BF%A1%22%2C%22displayValue%22%3A%22%E9%80%9A%E4%BF%A1%22%2C%22selected%22%3Afalse%7D%2C%7B%22value%22%3A%22%E9%87%87%E6%8E%98%22%2C%22displayValue%22%3A%22%E9%87%87%E6%8E%98%22%2C%22selected%22%3Afalse%7D%2C%7B%22value%22%3A%22%E9%92%A2%E9%93%81%22%2C%22displayValue%22%3A%22%E9%92%A2%E9%93%81%22%2C%22selected%22%3Afalse%7D%2C%7B%22value%22%3A%22%E9%93%B6%E8%A1%8C%22%2C%22displayValue%22%3A%22%E9%93%B6%E8%A1%8C%22%2C%22selected%22%3Afalse%7D%2C%7B%22value%22%3A%22%E9%9D%9E%E9%93%B6%E9%87%91%E8%9E%8D%22%2C%22displayValue%22%3A%22%E9%9D%9E%E9%93%B6%E9%87%91%E8%9E%8D%22%2C%22selected%22%3Afalse%7D%2C%7B%22value%22%3A%22%E9%A3%9F%E5%93%81%E9%A5%AE%E6%96%99%22%2C%22displayValue%22%3A%22%E9%A3%9F%E5%93%81%E9%A5%AE%E6%96%99%22%2C%22selected%22%3Afalse%7D%5D%7D\",\"type\":\"Literal\",\"bound_global_parameter\":null},{\"name\":\"st_cond\",\"value\":\"%7B%22enumItems%22%3A%5B%7B%22value%22%3A%22%E5%85%A8%E9%83%A8%22%2C%22displayValue%22%3A%22%E5%85%A8%E9%83%A8%22%2C%22selected%22%3Afalse%7D%2C%7B%22value%22%3A%22%E6%AD%A3%E5%B8%B8%22%2C%22displayValue%22%3A%22%E6%AD%A3%E5%B8%B8%22%2C%22selected%22%3Atrue%7D%2C%7B%22value%22%3A%22ST%22%2C%22displayValue%22%3A%22ST%22%2C%22selected%22%3Afalse%7D%2C%7B%22value%22%3A%22*ST%22%2C%22displayValue%22%3A%22*ST%22%2C%22selected%22%3Afalse%7D%2C%7B%22value%22%3A%22%E6%9A%82%E5%81%9C%E4%B8%8A%E5%B8%82%22%2C%22displayValue%22%3A%22%E6%9A%82%E5%81%9C%E4%B8%8A%E5%B8%82%22%2C%22selected%22%3Afalse%7D%5D%7D\",\"type\":\"Literal\",\"bound_global_parameter\":null},{\"name\":\"delist_cond\",\"value\":\"%7B%22enumItems%22%3A%5B%7B%22value%22%3A%22%E5%85%A8%E9%83%A8%22%2C%22displayValue%22%3A%22%E5%85%A8%E9%83%A8%22%2C%22selected%22%3Afalse%7D%2C%7B%22value%22%3A%22%E9%80%80%E5%B8%82%22%2C%22displayValue%22%3A%22%E9%80%80%E5%B8%82%22%2C%22selected%22%3Afalse%7D%2C%7B%22value%22%3A%22%E9%9D%9E%E9%80%80%E5%B8%82%22%2C%22displayValue%22%3A%22%E9%9D%9E%E9%80%80%E5%B8%82%22%2C%22selected%22%3Atrue%7D%5D%7D\",\"type\":\"Literal\",\"bound_global_parameter\":null},{\"name\":\"output_left_data\",\"value\":\"False\",\"type\":\"Literal\",\"bound_global_parameter\":null}],\"input_ports\":[{\"name\":\"input_data\",\"node_id\":\"-865\"}],\"output_ports\":[{\"name\":\"data\",\"node_id\":\"-865\"},{\"name\":\"left_data\",\"node_id\":\"-865\"}],\"cacheable\":true,\"seq_num\":6,\"comment\":\"\",\"comment_collapsed\":true},{\"node_id\":\"-93\",\"module_id\":\"BigQuantSpace.dropnan.dropnan-v2\",\"parameters\":[],\"input_ports\":[{\"name\":\"input_data\",\"node_id\":\"-93\"},{\"name\":\"features\",\"node_id\":\"-93\"}],\"output_ports\":[{\"name\":\"data\",\"node_id\":\"-93\"}],\"cacheable\":true,\"seq_num\":11,\"comment\":\"\",\"comment_collapsed\":true},{\"node_id\":\"-220\",\"module_id\":\"BigQuantSpace.use_datasource.use_datasource-v1\",\"parameters\":[{\"name\":\"datasource_id\",\"value\":\"bar1d_index_CN_STOCK_A\",\"type\":\"Literal\",\"bound_global_parameter\":null},{\"name\":\"start_date\",\"value\":\"\",\"type\":\"Literal\",\"bound_global_parameter\":null},{\"name\":\"end_date\",\"value\":\"\",\"type\":\"Literal\",\"bound_global_parameter\":null}],\"input_ports\":[{\"name\":\"instruments\",\"node_id\":\"-220\"},{\"name\":\"features\",\"node_id\":\"-220\"}],\"output_ports\":[{\"name\":\"data\",\"node_id\":\"-220\"}],\"cacheable\":true,\"seq_num\":4,\"comment\":\"\",\"comment_collapsed\":true},{\"node_id\":\"-226\",\"module_id\":\"BigQuantSpace.instruments.instruments-v2\",\"parameters\":[{\"name\":\"start_date\",\"value\":\"2021-01-02\",\"type\":\"Literal\",\"bound_global_parameter\":null},{\"name\":\"end_date\",\"value\":\"2022-05-01\",\"type\":\"Literal\",\"bound_global_parameter\":null},{\"name\":\"market\",\"value\":\"CN_STOCK_A\",\"type\":\"Literal\",\"bound_global_parameter\":null},{\"name\":\"instrument_list\",\"value\":\"000002.HIX\",\"type\":\"Literal\",\"bound_global_parameter\":null},{\"name\":\"max_count\",\"value\":0,\"type\":\"Literal\",\"bound_global_parameter\":null}],\"input_ports\":[{\"name\":\"rolling_conf\",\"node_id\":\"-226\"}],\"output_ports\":[{\"name\":\"data\",\"node_id\":\"-226\"}],\"cacheable\":true,\"seq_num\":10,\"comment\":\"\",\"comment_collapsed\":true},{\"node_id\":\"-234\",\"module_id\":\"BigQuantSpace.input_features.input_features-v1\",\"parameters\":[{\"name\":\"features\",\"value\":\"\\n# #号开始的表示注释，注释需单独一行\\n# 多个特征，每行一个，可以包含基础特征和衍生特征，特征须为本平台特征\\nzs_zhangf=(close-open)/open\\nzs_open=open/shift(close,1)\\nzs_huiluo=(high-close)/close\\nzs_huishen=(close-low)/low\\nzs_zhenf=(high-low)/shift(close,1)\\nzs_volume_zf=volume/shift(volume,1)\\nzs_return_0=close/shift(close,1)\\nzs_return_1=shift(zs_return_0,1)\\nzs_return_2=shift(zs_return_0,2)\\nzs_max10=ts_max(close,10)\\nzs_max10d=ts_argmax(close,10)\\nzs_max30=ts_max(close,30)\\n#zs_max30d=ts_argmax(close,30)\\nzs_min10=ts_min(close,10)\\n#zs_min10d=ts_argmin(close,10)\\nzs_min30=ts_min(close,30)\\n#zs_min30d=ts_argmin(close,30)\\nzs_priceHighBl10=close/zs_max10\\nzs_priceLowBl10=close/zs_min10\\nzs_priceHighBl30=close/zs_max30\\nzs_priceLowBl30=close/zs_min30\",\"type\":\"Literal\",\"bound_global_parameter\":null}],\"input_ports\":[{\"name\":\"features_ds\",\"node_id\":\"-234\"}],\"output_ports\":[{\"name\":\"data\",\"node_id\":\"-234\"}],\"cacheable\":true,\"seq_num\":12,\"comment\":\"\",\"comment_collapsed\":true},{\"node_id\":\"-443\",\"module_id\":\"BigQuantSpace.derived_feature_extractor.derived_feature_extractor-v3\",\"parameters\":[{\"name\":\"date_col\",\"value\":\"date\",\"type\":\"Literal\",\"bound_global_parameter\":null},{\"name\":\"instrument_col\",\"value\":\"instrument\",\"type\":\"Literal\",\"bound_global_parameter\":null},{\"name\":\"drop_na\",\"value\":\"False\",\"type\":\"Literal\",\"bound_global_parameter\":null},{\"name\":\"remove_extra_columns\",\"value\":\"True\",\"type\":\"Literal\",\"bound_global_parameter\":null},{\"name\":\"user_functions\",\"value\":\"{}\",\"type\":\"Literal\",\"bound_global_parameter\":null}],\"input_ports\":[{\"name\":\"input_data\",\"node_id\":\"-443\"},{\"name\":\"features\",\"node_id\":\"-443\"}],\"output_ports\":[{\"name\":\"data\",\"node_id\":\"-443\"}],\"cacheable\":true,\"seq_num\":13,\"comment\":\"\",\"comment_collapsed\":true},{\"node_id\":\"-1372\",\"module_id\":\"BigQuantSpace.data_join.data_join-v3\",\"parameters\":[{\"name\":\"on\",\"value\":\"date\",\"type\":\"Literal\",\"bound_global_parameter\":null},{\"name\":\"how\",\"value\":\"left\",\"type\":\"Literal\",\"bound_global_parameter\":null},{\"name\":\"sort\",\"value\":\"False\",\"type\":\"Literal\",\"bound_global_parameter\":null}],\"input_ports\":[{\"name\":\"input_1\",\"node_id\":\"-1372\"},{\"name\":\"input_2\",\"node_id\":\"-1372\"}],\"output_ports\":[{\"name\":\"data\",\"node_id\":\"-1372\"}],\"cacheable\":true,\"seq_num\":14,\"comment\":\"\",\"comment_collapsed\":true},{\"node_id\":\"-2864\",\"module_id\":\"BigQuantSpace.use_datasource.use_datasource-v1\",\"parameters\":[{\"name\":\"datasource_id\",\"value\":\"bar1d_index_CN_STOCK_A\",\"type\":\"Literal\",\"bound_global_parameter\":null},{\"name\":\"start_date\",\"value\":\"\",\"type\":\"Literal\",\"bound_global_parameter\":null},{\"name\":\"end_date\",\"value\":\"\",\"type\":\"Literal\",\"bound_global_parameter\":null}],\"input_ports\":[{\"name\":\"instruments\",\"node_id\":\"-2864\"},{\"name\":\"features\",\"node_id\":\"-2864\"}],\"output_ports\":[{\"name\":\"data\",\"node_id\":\"-2864\"}],\"cacheable\":true,\"seq_num\":17,\"comment\":\"\",\"comment_collapsed\":true},{\"node_id\":\"-2870\",\"module_id\":\"BigQuantSpace.instruments.instruments-v2\",\"parameters\":[{\"name\":\"start_date\",\"value\":\"2021-01-02\",\"type\":\"Literal\",\"bound_global_parameter\":null},{\"name\":\"end_date\",\"value\":\"2022-05-01\",\"type\":\"Literal\",\"bound_global_parameter\":null},{\"name\":\"market\",\"value\":\"CN_STOCK_A\",\"type\":\"Literal\",\"bound_global_parameter\":null},{\"name\":\"instrument_list\",\"value\":\"000002.HIX\",\"type\":\"Literal\",\"bound_global_parameter\":null},{\"name\":\"max_count\",\"value\":0,\"type\":\"Literal\",\"bound_global_parameter\":null}],\"input_ports\":[{\"name\":\"rolling_conf\",\"node_id\":\"-2870\"}],\"output_ports\":[{\"name\":\"data\",\"node_id\":\"-2870\"}],\"cacheable\":true,\"seq_num\":18,\"comment\":\"\",\"comment_collapsed\":true},{\"node_id\":\"-2878\",\"module_id\":\"BigQuantSpace.input_features.input_features-v1\",\"parameters\":[{\"name\":\"features\",\"value\":\"\\n# #号开始的表示注释，注释需单独一行\\n# 多个特征，每行一个，可以包含基础特征和衍生特征，特征须为本平台特征\\nclose\\n\",\"type\":\"Literal\",\"bound_global_parameter\":null}],\"input_ports\":[{\"name\":\"features_ds\",\"node_id\":\"-2878\"}],\"output_ports\":[{\"name\":\"data\",\"node_id\":\"-2878\"}],\"cacheable\":true,\"seq_num\":19,\"comment\":\"\",\"comment_collapsed\":true},{\"node_id\":\"-2883\",\"module_id\":\"BigQuantSpace.data_join.data_join-v3\",\"parameters\":[{\"name\":\"on\",\"value\":\"date\",\"type\":\"Literal\",\"bound_global_parameter\":null},{\"name\":\"how\",\"value\":\"left\",\"type\":\"Literal\",\"bound_global_parameter\":null},{\"name\":\"sort\",\"value\":\"False\",\"type\":\"Literal\",\"bound_global_parameter\":null}],\"input_ports\":[{\"name\":\"input_1\",\"node_id\":\"-2883\"},{\"name\":\"input_2\",\"node_id\":\"-2883\"}],\"output_ports\":[{\"name\":\"data\",\"node_id\":\"-2883\"}],\"cacheable\":true,\"seq_num\":20,\"comment\":\"\",\"comment_collapsed\":true}],\"node_layout\":\"<node_postions><node_position Node='-51' Position='76,91,200,200'/><node_position Node='-59' Position='448,31,200,200'/><node_position Node='-353' Position='427,203,200,200'/><node_position Node='-360' Position='320.26129150390625,327.26220703125,200,200'/><node_position Node='-370' Position='277.4534912109375,949.11865234375,200,200'/><node_position Node='-390' Position='326.6899719238281,645.30908203125,200,200'/><node_position Node='-531' Position='449.11773681640625,799.28515625,200,200'/><node_position Node='-865' Position='487.28704833984375,430.6669616699219,200,200'/><node_position Node='-93' Position='348.95123291015625,528.97607421875,200,200'/><node_position Node='-220' Position='801,-38,200,200'/><node_position Node='-226' Position='664,-179,200,200'/><node_position Node='-234' Position='1057,-181,200,200'/><node_position Node='-443' Position='806,119,200,200'/><node_position Node='-1372' Position='784,320,200,200'/><node_position Node='-2864' Position='1340,90,200,200'/><node_position Node='-2870' Position='1137,-23,200,200'/><node_position Node='-2878' Position='1530,-25,200,200'/><node_position Node='-2883' Position='1092,261,200,200'/></node_postions>\"},\"nodes_readonly\":false,\"studio_version\":\"v2\"}"
   },
   "outputs": [
    {
     "data": {
      "text/plain": [
       "[2022-03-01 13:12:40.389223] INFO: moduleinvoker: instruments.v2 开始运行.."
      ]
     },
     "metadata": {
      "is_log": true,
      "status": "INFO"
     },
     "output_type": "display_data"
    },
    {
     "data": {
      "text/plain": [
       "[2022-03-01 13:12:40.409617] INFO: moduleinvoker: 命中缓存"
      ]
     },
     "metadata": {
      "is_log": true,
      "status": "INFO"
     },
     "output_type": "display_data"
    },
    {
     "data": {
      "text/plain": [
       "[2022-03-01 13:12:40.411728] INFO: moduleinvoker: instruments.v2 运行完成[0.022526s]."
      ]
     },
     "metadata": {
      "is_log": true,
      "status": "INFO"
     },
     "output_type": "display_data"
    },
    {
     "data": {
      "text/plain": [
       "[2022-03-01 13:12:40.421139] INFO: moduleinvoker: input_features.v1 开始运行.."
      ]
     },
     "metadata": {
      "is_log": true,
      "status": "INFO"
     },
     "output_type": "display_data"
    },
    {
     "data": {
      "text/plain": [
       "[2022-03-01 13:12:40.431099] INFO: moduleinvoker: 命中缓存"
      ]
     },
     "metadata": {
      "is_log": true,
      "status": "INFO"
     },
     "output_type": "display_data"
    },
    {
     "data": {
      "text/plain": [
       "[2022-03-01 13:12:40.433196] INFO: moduleinvoker: input_features.v1 运行完成[0.012067s]."
      ]
     },
     "metadata": {
      "is_log": true,
      "status": "INFO"
     },
     "output_type": "display_data"
    },
    {
     "data": {
      "text/plain": [
       "[2022-03-01 13:12:40.457385] INFO: moduleinvoker: general_feature_extractor.v7 开始运行.."
      ]
     },
     "metadata": {
      "is_log": true,
      "status": "INFO"
     },
     "output_type": "display_data"
    },
    {
     "data": {
      "text/plain": [
       "[2022-03-01 13:12:46.050093] INFO: 基础特征抽取: 年份 2020, 特征行数=945961"
      ]
     },
     "metadata": {
      "is_log": true,
      "status": "INFO"
     },
     "output_type": "display_data"
    },
    {
     "data": {
      "text/plain": [
       "[2022-03-01 13:12:52.738747] INFO: 基础特征抽取: 年份 2021, 特征行数=1061527"
      ]
     },
     "metadata": {
      "is_log": true,
      "status": "INFO"
     },
     "output_type": "display_data"
    },
    {
     "data": {
      "text/plain": [
       "[2022-03-01 13:12:54.942480] INFO: 基础特征抽取: 年份 2022, 特征行数=150268"
      ]
     },
     "metadata": {
      "is_log": true,
      "status": "INFO"
     },
     "output_type": "display_data"
    },
    {
     "data": {
      "text/plain": [
       "[2022-03-01 13:12:55.032017] INFO: 基础特征抽取: 总行数: 2157756"
      ]
     },
     "metadata": {
      "is_log": true,
      "status": "INFO"
     },
     "output_type": "display_data"
    },
    {
     "data": {
      "text/plain": [
       "[2022-03-01 13:12:55.034644] INFO: moduleinvoker: general_feature_extractor.v7 运行完成[14.577279s]."
      ]
     },
     "metadata": {
      "is_log": true,
      "status": "INFO"
     },
     "output_type": "display_data"
    },
    {
     "data": {
      "text/plain": [
       "[2022-03-01 13:12:55.040188] INFO: moduleinvoker: instruments.v2 开始运行.."
      ]
     },
     "metadata": {
      "is_log": true,
      "status": "INFO"
     },
     "output_type": "display_data"
    },
    {
     "data": {
      "text/plain": [
       "[2022-03-01 13:12:55.050506] INFO: moduleinvoker: 命中缓存"
      ]
     },
     "metadata": {
      "is_log": true,
      "status": "INFO"
     },
     "output_type": "display_data"
    },
    {
     "data": {
      "text/plain": [
       "[2022-03-01 13:12:55.052214] INFO: moduleinvoker: instruments.v2 运行完成[0.012024s]."
      ]
     },
     "metadata": {
      "is_log": true,
      "status": "INFO"
     },
     "output_type": "display_data"
    },
    {
     "data": {
      "text/plain": [
       "[2022-03-01 13:12:55.056839] INFO: moduleinvoker: input_features.v1 开始运行.."
      ]
     },
     "metadata": {
      "is_log": true,
      "status": "INFO"
     },
     "output_type": "display_data"
    },
    {
     "data": {
      "text/plain": [
       "[2022-03-01 13:12:55.066445] INFO: moduleinvoker: 命中缓存"
      ]
     },
     "metadata": {
      "is_log": true,
      "status": "INFO"
     },
     "output_type": "display_data"
    },
    {
     "data": {
      "text/plain": [
       "[2022-03-01 13:12:55.068210] INFO: moduleinvoker: input_features.v1 运行完成[0.011369s]."
      ]
     },
     "metadata": {
      "is_log": true,
      "status": "INFO"
     },
     "output_type": "display_data"
    },
    {
     "data": {
      "text/plain": [
       "[2022-03-01 13:12:55.077850] INFO: moduleinvoker: use_datasource.v1 开始运行.."
      ]
     },
     "metadata": {
      "is_log": true,
      "status": "INFO"
     },
     "output_type": "display_data"
    },
    {
     "data": {
      "text/plain": [
       "[2022-03-01 13:12:55.087822] INFO: moduleinvoker: 命中缓存"
      ]
     },
     "metadata": {
      "is_log": true,
      "status": "INFO"
     },
     "output_type": "display_data"
    },
    {
     "data": {
      "text/plain": [
       "[2022-03-01 13:12:55.089733] INFO: moduleinvoker: use_datasource.v1 运行完成[0.011892s]."
      ]
     },
     "metadata": {
      "is_log": true,
      "status": "INFO"
     },
     "output_type": "display_data"
    },
    {
     "data": {
      "text/plain": [
       "[2022-03-01 13:12:55.101101] INFO: moduleinvoker: derived_feature_extractor.v3 开始运行.."
      ]
     },
     "metadata": {
      "is_log": true,
      "status": "INFO"
     },
     "output_type": "display_data"
    },
    {
     "data": {
      "text/plain": [
       "[2022-03-01 13:12:55.149790] INFO: moduleinvoker: 命中缓存"
      ]
     },
     "metadata": {
      "is_log": true,
      "status": "INFO"
     },
     "output_type": "display_data"
    },
    {
     "data": {
      "text/plain": [
       "[2022-03-01 13:12:55.152210] INFO: moduleinvoker: derived_feature_extractor.v3 运行完成[0.051086s]."
      ]
     },
     "metadata": {
      "is_log": true,
      "status": "INFO"
     },
     "output_type": "display_data"
    },
    {
     "data": {
      "text/plain": [
       "[2022-03-01 13:12:55.158583] INFO: moduleinvoker: instruments.v2 开始运行.."
      ]
     },
     "metadata": {
      "is_log": true,
      "status": "INFO"
     },
     "output_type": "display_data"
    },
    {
     "data": {
      "text/plain": [
       "[2022-03-01 13:12:55.165736] INFO: moduleinvoker: 命中缓存"
      ]
     },
     "metadata": {
      "is_log": true,
      "status": "INFO"
     },
     "output_type": "display_data"
    },
    {
     "data": {
      "text/plain": [
       "[2022-03-01 13:12:55.167911] INFO: moduleinvoker: instruments.v2 运行完成[0.00933s]."
      ]
     },
     "metadata": {
      "is_log": true,
      "status": "INFO"
     },
     "output_type": "display_data"
    },
    {
     "data": {
      "text/plain": [
       "[2022-03-01 13:12:55.172572] INFO: moduleinvoker: input_features.v1 开始运行.."
      ]
     },
     "metadata": {
      "is_log": true,
      "status": "INFO"
     },
     "output_type": "display_data"
    },
    {
     "data": {
      "text/plain": [
       "[2022-03-01 13:12:55.185929] INFO: moduleinvoker: 命中缓存"
      ]
     },
     "metadata": {
      "is_log": true,
      "status": "INFO"
     },
     "output_type": "display_data"
    },
    {
     "data": {
      "text/plain": [
       "[2022-03-01 13:12:55.187718] INFO: moduleinvoker: input_features.v1 运行完成[0.015155s]."
      ]
     },
     "metadata": {
      "is_log": true,
      "status": "INFO"
     },
     "output_type": "display_data"
    },
    {
     "data": {
      "text/plain": [
       "[2022-03-01 13:12:55.192943] INFO: moduleinvoker: use_datasource.v1 开始运行.."
      ]
     },
     "metadata": {
      "is_log": true,
      "status": "INFO"
     },
     "output_type": "display_data"
    },
    {
     "data": {
      "text/plain": [
       "[2022-03-01 13:12:55.198706] INFO: moduleinvoker: 命中缓存"
      ]
     },
     "metadata": {
      "is_log": true,
      "status": "INFO"
     },
     "output_type": "display_data"
    },
    {
     "data": {
      "text/plain": [
       "[2022-03-01 13:12:55.200266] INFO: moduleinvoker: use_datasource.v1 运行完成[0.007322s]."
      ]
     },
     "metadata": {
      "is_log": true,
      "status": "INFO"
     },
     "output_type": "display_data"
    },
    {
     "data": {
      "text/plain": [
       "[2022-03-01 13:12:55.259763] INFO: moduleinvoker: data_join.v3 开始运行.."
      ]
     },
     "metadata": {
      "is_log": true,
      "status": "INFO"
     },
     "output_type": "display_data"
    },
    {
     "data": {
      "text/plain": [
       "[2022-03-01 13:12:55.269471] INFO: moduleinvoker: 命中缓存"
      ]
     },
     "metadata": {
      "is_log": true,
      "status": "INFO"
     },
     "output_type": "display_data"
    },
    {
     "data": {
      "text/plain": [
       "[2022-03-01 13:12:55.271724] INFO: moduleinvoker: data_join.v3 运行完成[0.011964s]."
      ]
     },
     "metadata": {
      "is_log": true,
      "status": "INFO"
     },
     "output_type": "display_data"
    },
    {
     "data": {
      "text/plain": [
       "[2022-03-01 13:12:55.283577] INFO: moduleinvoker: data_join.v3 开始运行.."
      ]
     },
     "metadata": {
      "is_log": true,
      "status": "INFO"
     },
     "output_type": "display_data"
    },
    {
     "data": {
      "text/plain": [
       "[2022-03-01 13:13:02.460391] INFO: moduleinvoker: data_join.v3 运行完成[7.176816s]."
      ]
     },
     "metadata": {
      "is_log": true,
      "status": "INFO"
     },
     "output_type": "display_data"
    },
    {
     "data": {
      "text/plain": [
       "[2022-03-01 13:13:02.482829] INFO: moduleinvoker: derived_feature_extractor.v3 开始运行.."
      ]
     },
     "metadata": {
      "is_log": true,
      "status": "INFO"
     },
     "output_type": "display_data"
    },
    {
     "data": {
      "text/plain": [
       "[2022-03-01 13:13:13.766178] INFO: derived_feature_extractor: 提取完成 isXiaDie0=where((return_0<1),1,0), 0.006s"
      ]
     },
     "metadata": {
      "is_log": true,
      "status": "INFO"
     },
     "output_type": "display_data"
    },
    {
     "data": {
      "text/plain": [
       "[2022-03-01 13:13:14.335475] INFO: derived_feature_extractor: 提取完成 xd_num=group_sum(date, isXiaDie0), 0.568s"
      ]
     },
     "metadata": {
      "is_log": true,
      "status": "INFO"
     },
     "output_type": "display_data"
    },
    {
     "data": {
      "text/plain": [
       "[2022-03-01 13:13:14.355820] INFO: derived_feature_extractor: 提取完成 isZhangtToday=where((return_0>1.09)&(close_0==high_0),1,0), 0.019s"
      ]
     },
     "metadata": {
      "is_log": true,
      "status": "INFO"
     },
     "output_type": "display_data"
    },
    {
     "data": {
      "text/plain": [
       "[2022-03-01 13:13:14.363296] INFO: derived_feature_extractor: 提取完成 isDietToday=where((return_0<0.91)&(close_0==low_0),1,0), 0.006s"
      ]
     },
     "metadata": {
      "is_log": true,
      "status": "INFO"
     },
     "output_type": "display_data"
    },
    {
     "data": {
      "text/plain": [
       "[2022-03-01 13:13:14.367146] INFO: derived_feature_extractor: 提取完成 return0=return_0, 0.003s"
      ]
     },
     "metadata": {
      "is_log": true,
      "status": "INFO"
     },
     "output_type": "display_data"
    },
    {
     "data": {
      "text/plain": [
       "[2022-03-01 13:13:16.166032] INFO: derived_feature_extractor: 提取完成 priceLowBl10=close_0/ts_min(close_0,10), 1.798s"
      ]
     },
     "metadata": {
      "is_log": true,
      "status": "INFO"
     },
     "output_type": "display_data"
    },
    {
     "data": {
      "text/plain": [
       "[2022-03-01 13:13:16.174118] INFO: derived_feature_extractor: 提取完成 zgzzf=high_0/close_1, 0.006s"
      ]
     },
     "metadata": {
      "is_log": true,
      "status": "INFO"
     },
     "output_type": "display_data"
    },
    {
     "data": {
      "text/plain": [
       "[2022-03-01 13:13:16.179273] INFO: derived_feature_extractor: 提取完成 zdzzf=low_0/close_1, 0.004s"
      ]
     },
     "metadata": {
      "is_log": true,
      "status": "INFO"
     },
     "output_type": "display_data"
    },
    {
     "data": {
      "text/plain": [
       "[2022-03-01 13:13:16.253683] INFO: derived_feature_extractor: 提取完成 kp1=(open_0-close_1)/close_1, 0.073s"
      ]
     },
     "metadata": {
      "is_log": true,
      "status": "INFO"
     },
     "output_type": "display_data"
    },
    {
     "data": {
      "text/plain": [
       "[2022-03-01 13:13:16.608849] INFO: derived_feature_extractor: 提取完成 kp=shift((open_0-close_1)/close_1,-1), 0.353s"
      ]
     },
     "metadata": {
      "is_log": true,
      "status": "INFO"
     },
     "output_type": "display_data"
    },
    {
     "data": {
      "text/plain": [
       "[2022-03-01 13:13:16.921405] INFO: derived_feature_extractor: 提取完成 zd=shift((low_0-close_1)/close_1,-1), 0.311s"
      ]
     },
     "metadata": {
      "is_log": true,
      "status": "INFO"
     },
     "output_type": "display_data"
    },
    {
     "data": {
      "text/plain": [
       "[2022-03-01 13:13:17.235338] INFO: derived_feature_extractor: 提取完成 zg=shift((high_0-close_1)/close_1,-1), 0.312s"
      ]
     },
     "metadata": {
      "is_log": true,
      "status": "INFO"
     },
     "output_type": "display_data"
    },
    {
     "data": {
      "text/plain": [
       "[2022-03-01 13:13:17.262510] INFO: derived_feature_extractor: 提取完成 myls=where((xd_num>3500)&(isDietToday==1)&(priceLowBl10<1.05)&(kp1>-0.05),1,0), 0.026s"
      ]
     },
     "metadata": {
      "is_log": true,
      "status": "INFO"
     },
     "output_type": "display_data"
    },
    {
     "data": {
      "text/plain": [
       "[2022-03-01 13:13:18.155204] INFO: derived_feature_extractor: 提取完成 shouyi=(shift(open_0,-2)-shift(open_0,-1))/shift(open_0,-1), 0.891s"
      ]
     },
     "metadata": {
      "is_log": true,
      "status": "INFO"
     },
     "output_type": "display_data"
    },
    {
     "data": {
      "text/plain": [
       "[2022-03-01 13:13:19.018168] INFO: derived_feature_extractor: 提取完成 shouyi2=(shift(close_0,-2)-shift(open_0,-1))/shift(open_0,-1), 0.861s"
      ]
     },
     "metadata": {
      "is_log": true,
      "status": "INFO"
     },
     "output_type": "display_data"
    },
    {
     "data": {
      "text/plain": [
       "[2022-03-01 13:13:19.055681] INFO: derived_feature_extractor: 提取完成 kp=where((kp<-0.096),1,kp), 0.036s"
      ]
     },
     "metadata": {
      "is_log": true,
      "status": "INFO"
     },
     "output_type": "display_data"
    },
    {
     "data": {
      "text/plain": [
       "[2022-03-01 13:13:19.061488] INFO: derived_feature_extractor: 提取完成 buy_condition=where(myls==1,1,0), 0.004s"
      ]
     },
     "metadata": {
      "is_log": true,
      "status": "INFO"
     },
     "output_type": "display_data"
    },
    {
     "data": {
      "text/plain": [
       "[2022-03-01 13:13:19.071306] INFO: derived_feature_extractor: 提取完成 sell_condition=where(myls==2,1,0), 0.009s"
      ]
     },
     "metadata": {
      "is_log": true,
      "status": "INFO"
     },
     "output_type": "display_data"
    },
    {
     "data": {
      "text/plain": [
       "[2022-03-01 13:13:30.305324] INFO: derived_feature_extractor: /data, 2157756"
      ]
     },
     "metadata": {
      "is_log": true,
      "status": "INFO"
     },
     "output_type": "display_data"
    },
    {
     "data": {
      "text/plain": [
       "[2022-03-01 13:13:32.590888] INFO: moduleinvoker: derived_feature_extractor.v3 运行完成[30.108047s]."
      ]
     },
     "metadata": {
      "is_log": true,
      "status": "INFO"
     },
     "output_type": "display_data"
    },
    {
     "data": {
      "text/plain": [
       "[2022-03-01 13:13:32.606272] INFO: moduleinvoker: chinaa_stock_filter.v1 开始运行.."
      ]
     },
     "metadata": {
      "is_log": true,
      "status": "INFO"
     },
     "output_type": "display_data"
    },
    {
     "data": {
      "text/plain": [
       "[2022-03-01 13:13:41.342331] INFO: A股股票过滤: 过滤 /data, 1471122/0/2157756"
      ]
     },
     "metadata": {
      "is_log": true,
      "status": "INFO"
     },
     "output_type": "display_data"
    },
    {
     "data": {
      "text/plain": [
       "[2022-03-01 13:13:41.346112] INFO: A股股票过滤: 过滤完成, 1471122 + 0"
      ]
     },
     "metadata": {
      "is_log": true,
      "status": "INFO"
     },
     "output_type": "display_data"
    },
    {
     "data": {
      "text/plain": [
       "[2022-03-01 13:13:41.372098] INFO: moduleinvoker: chinaa_stock_filter.v1 运行完成[8.765814s]."
      ]
     },
     "metadata": {
      "is_log": true,
      "status": "INFO"
     },
     "output_type": "display_data"
    },
    {
     "data": {
      "text/plain": [
       "[2022-03-01 13:13:41.384890] INFO: moduleinvoker: dropnan.v2 开始运行.."
      ]
     },
     "metadata": {
      "is_log": true,
      "status": "INFO"
     },
     "output_type": "display_data"
    },
    {
     "data": {
      "text/plain": [
       "[2022-03-01 13:13:42.906156] INFO: dropnan: /data, 1437657/1471122"
      ]
     },
     "metadata": {
      "is_log": true,
      "status": "INFO"
     },
     "output_type": "display_data"
    },
    {
     "data": {
      "text/plain": [
       "[2022-03-01 13:13:42.982824] INFO: dropnan: 行数: 1437657/1471122"
      ]
     },
     "metadata": {
      "is_log": true,
      "status": "INFO"
     },
     "output_type": "display_data"
    },
    {
     "data": {
      "text/plain": [
       "[2022-03-01 13:13:43.005572] INFO: moduleinvoker: dropnan.v2 运行完成[1.620668s]."
      ]
     },
     "metadata": {
      "is_log": true,
      "status": "INFO"
     },
     "output_type": "display_data"
    },
    {
     "data": {
      "text/plain": [
       "[2022-03-01 13:13:43.015074] INFO: moduleinvoker: sort.v4 开始运行.."
      ]
     },
     "metadata": {
      "is_log": true,
      "status": "INFO"
     },
     "output_type": "display_data"
    },
    {
     "data": {
      "text/plain": [
       "[2022-03-01 13:13:47.477126] INFO: moduleinvoker: sort.v4 运行完成[4.462028s]."
      ]
     },
     "metadata": {
      "is_log": true,
      "status": "INFO"
     },
     "output_type": "display_data"
    },
    {
     "data": {
      "text/plain": [
       "[2022-03-01 13:13:47.492653] INFO: moduleinvoker: filter.v3 开始运行.."
      ]
     },
     "metadata": {
      "is_log": true,
      "status": "INFO"
     },
     "output_type": "display_data"
    },
    {
     "data": {
      "text/plain": [
       "[2022-03-01 13:13:47.513491] INFO: filter: 使用表达式 myls==1 过滤"
      ]
     },
     "metadata": {
      "is_log": true,
      "status": "INFO"
     },
     "output_type": "display_data"
    },
    {
     "data": {
      "text/plain": [
       "[2022-03-01 13:13:48.346191] INFO: filter: 过滤 /data, 426/0/1437657"
      ]
     },
     "metadata": {
      "is_log": true,
      "status": "INFO"
     },
     "output_type": "display_data"
    },
    {
     "data": {
      "text/plain": [
       "[2022-03-01 13:13:48.390522] INFO: moduleinvoker: filter.v3 运行完成[0.897859s]."
      ]
     },
     "metadata": {
      "is_log": true,
      "status": "INFO"
     },
     "output_type": "display_data"
    },
    {
     "data": {
      "text/plain": [
       "[2022-03-01 13:13:50.497185] INFO: moduleinvoker: backtest.v8 开始运行.."
      ]
     },
     "metadata": {
      "is_log": true,
      "status": "INFO"
     },
     "output_type": "display_data"
    },
    {
     "data": {
      "text/plain": [
       "[2022-03-01 13:13:50.506710] INFO: backtest: biglearning backtest:V8.6.1"
      ]
     },
     "metadata": {
      "is_log": true,
      "status": "INFO"
     },
     "output_type": "display_data"
    },
    {
     "data": {
      "text/plain": [
       "[2022-03-01 13:13:50.589810] INFO: backtest: product_type:stock by specified"
      ]
     },
     "metadata": {
      "is_log": true,
      "status": "INFO"
     },
     "output_type": "display_data"
    },
    {
     "data": {
      "text/plain": [
       "[2022-03-01 13:13:50.679126] INFO: moduleinvoker: cached.v2 开始运行.."
      ]
     },
     "metadata": {
      "is_log": true,
      "status": "INFO"
     },
     "output_type": "display_data"
    },
    {
     "data": {
      "text/plain": [
       "[2022-03-01 13:13:50.686034] INFO: moduleinvoker: 命中缓存"
      ]
     },
     "metadata": {
      "is_log": true,
      "status": "INFO"
     },
     "output_type": "display_data"
    },
    {
     "data": {
      "text/plain": [
       "[2022-03-01 13:13:50.687695] INFO: moduleinvoker: cached.v2 运行完成[0.008585s]."
      ]
     },
     "metadata": {
      "is_log": true,
      "status": "INFO"
     },
     "output_type": "display_data"
    },
    {
     "data": {
      "text/plain": [
       "[2022-03-01 13:13:53.953924] INFO: algo: TradingAlgorithm V1.8.7"
      ]
     },
     "metadata": {
      "is_log": true,
      "status": "INFO"
     },
     "output_type": "display_data"
    },
    {
     "data": {
      "text/plain": [
       "[2022-03-01 13:13:55.308882] INFO: algo: trading transform..."
      ]
     },
     "metadata": {
      "is_log": true,
      "status": "INFO"
     },
     "output_type": "display_data"
    },
    {
     "name": "stdout",
     "output_type": "stream",
     "text": [
      "日期： 2020-02-03 选出股票数量： 11\n"
     ]
    },
    {
     "name": "stdout",
     "output_type": "stream",
     "text": [
      "日期: 2020-02-03 买入: 603268.SHA\n",
      "日期: 2020-02-04 hold_days: 0 股票: 603268.SHA\n",
      "日期: 2020-02-04 卖出2: 603268.SHA\n"
     ]
    },
    {
     "name": "stdout",
     "output_type": "stream",
     "text": [
      "日期： 2020-02-28 选出股票数量： 44\n",
      "日期: 2020-02-28 买入: 600083.SHA\n",
      "日期: 2020-03-02 hold_days: 0 股票: 600083.SHA\n",
      "日期: 2020-03-02 卖出2: 600083.SHA\n"
     ]
    },
    {
     "name": "stdout",
     "output_type": "stream",
     "text": [
      "日期： 2020-07-16 选出股票数量： 65\n",
      "日期: 2020-07-16 买入: 002989.SZA\n",
      "日期: 2020-07-17 hold_days: 0 股票: 002989.SZA\n",
      "日期: 2020-07-17 卖出2: 002989.SZA\n"
     ]
    },
    {
     "name": "stdout",
     "output_type": "stream",
     "text": [
      "日期： 2020-07-24 选出股票数量： 33\n",
      "日期: 2020-07-24 买入: 603538.SHA\n",
      "日期: 2020-07-27 hold_days: 0 股票: 603538.SHA\n",
      "日期: 2020-07-27 卖出2: 603538.SHA\n"
     ]
    },
    {
     "name": "stdout",
     "output_type": "stream",
     "text": [
      "日期： 2021-03-09 选出股票数量： 13\n",
      "日期: 2021-03-09 买入: 603353.SHA\n",
      "日期: 2021-03-10 hold_days: 0 股票: 603353.SHA\n",
      "日期: 2021-03-10 卖出2: 603353.SHA\n"
     ]
    },
    {
     "name": "stdout",
     "output_type": "stream",
     "text": [
      "日期： 2021-08-17 选出股票数量： 5\n",
      "日期: 2021-08-17 买入: 600293.SHA\n",
      "日期: 2021-08-18 hold_days: 0 股票: 600293.SHA\n",
      "日期: 2021-08-18 卖出2: 600293.SHA\n"
     ]
    },
    {
     "name": "stdout",
     "output_type": "stream",
     "text": [
      "日期： 2021-09-27 选出股票数量： 109\n",
      "日期: 2021-09-27 买入: 002136.SZA\n",
      "日期: 2021-09-28 hold_days: 0 股票: 002136.SZA\n",
      "日期: 2021-09-28 卖出2: 002136.SZA\n",
      "日期： 2021-09-29 股票： ['002136.SZA'] 出现跟踪止损状况\n",
      "日期: 2021-09-29 hold_days: 1 股票: 002136.SZA\n",
      "日期： 2021-09-29 选出股票数量： 38\n",
      "日期: 2021-09-29 买入: 603619.SHA\n",
      "日期: 2021-09-30 hold_days: 0 股票: 603619.SHA\n",
      "日期: 2021-09-30 卖出2: 603619.SHA\n"
     ]
    },
    {
     "name": "stdout",
     "output_type": "stream",
     "text": [
      "日期： 2021-10-12 选出股票数量： 6\n",
      "日期: 2021-10-12 买入: 002961.SZA\n",
      "日期: 2021-10-13 hold_days: 0 股票: 002961.SZA\n",
      "日期: 2021-10-13 卖出2: 002961.SZA\n"
     ]
    },
    {
     "name": "stdout",
     "output_type": "stream",
     "text": [
      "日期： 2021-10-27 选出股票数量： 6\n",
      "日期: 2021-10-27 买入: 605089.SHA\n",
      "日期: 2021-10-28 hold_days: 0 股票: 605089.SHA\n",
      "日期: 2021-10-28 卖出2: 605089.SHA\n"
     ]
    },
    {
     "name": "stdout",
     "output_type": "stream",
     "text": [
      "日期： 2021-12-06 选出股票数量： 2\n",
      "日期: 2021-12-06 买入: 603178.SHA\n",
      "日期: 2021-12-07 hold_days: 0 股票: 603178.SHA\n",
      "日期: 2021-12-07 卖出2: 603178.SHA\n"
     ]
    },
    {
     "name": "stdout",
     "output_type": "stream",
     "text": [
      "日期： 2021-12-24 选出股票数量： 6\n",
      "日期: 2021-12-24 买入: 002623.SZA\n",
      "日期: 2021-12-27 hold_days: 0 股票: 002623.SZA\n",
      "日期: 2021-12-27 卖出2: 002623.SZA\n"
     ]
    },
    {
     "name": "stdout",
     "output_type": "stream",
     "text": [
      "日期： 2022-01-20 选出股票数量： 9\n",
      "日期: 2022-01-20 买入: 002813.SZA\n",
      "日期: 2022-01-21 hold_days: 0 股票: 002813.SZA\n",
      "日期: 2022-01-21 卖出2: 002813.SZA\n",
      "日期： 2022-01-25 选出股票数量： 34\n",
      "日期: 2022-01-25 买入: 000798.SZA\n"
     ]
    },
    {
     "name": "stdout",
     "output_type": "stream",
     "text": [
      "日期: 2022-01-26 hold_days: 0 股票: 000798.SZA\n",
      "日期: 2022-01-26 卖出2: 000798.SZA\n",
      "日期： 2022-01-27 选出股票数量： 35\n",
      "日期: 2022-01-27 买入: 002516.SZA\n",
      "日期: 2022-01-28 hold_days: 0 股票: 002516.SZA\n",
      "日期: 2022-01-28 卖出2: 002516.SZA\n"
     ]
    },
    {
     "name": "stdout",
     "output_type": "stream",
     "text": [
      "日期： 2022-02-11 选出股票数量： 9\n",
      "日期: 2022-02-11 买入: 000999.SZA\n",
      "日期: 2022-02-14 hold_days: 0 股票: 000999.SZA\n",
      "日期: 2022-02-14 卖出2: 000999.SZA\n"
     ]
    },
    {
     "name": "stdout",
     "output_type": "stream",
     "text": [
      "日期： 2022-02-22 选出股票数量： 1\n",
      "日期: 2022-02-22 买入: 600053.SHA\n",
      "日期: 2022-02-23 hold_days: 0 股票: 600053.SHA\n",
      "日期: 2022-02-23 卖出2: 600053.SHA\n"
     ]
    },
    {
     "data": {
      "text/plain": [
       "[2022-03-01 13:14:19.692239] INFO: Performance: Simulated 518 trading days out of 518."
      ]
     },
     "metadata": {
      "is_log": true,
      "status": "INFO"
     },
     "output_type": "display_data"
    },
    {
     "data": {
      "text/plain": [
       "[2022-03-01 13:14:19.694969] INFO: Performance: first open: 2020-01-02 09:30:00+00:00"
      ]
     },
     "metadata": {
      "is_log": true,
      "status": "INFO"
     },
     "output_type": "display_data"
    },
    {
     "data": {
      "text/plain": [
       "[2022-03-01 13:14:19.696390] INFO: Performance: last close: 2022-02-23 15:00:00+00:00"
      ]
     },
     "metadata": {
      "is_log": true,
      "status": "INFO"
     },
     "output_type": "display_data"
    },
    {
     "data": {
      "text/html": [
       "<div id='bigchart-f568f220ca7848628162b6b0982c1263' class='bigchart display' style='display:none'><ul class='nav nav-tabs' style='padding-left: 0;'><li class='tabtitle' style='margin: 0;'><span style='margin: 0;font-size: 1.2em;display: inline-block;padding: 10px 10px;'>Trade(回测/模拟)</span></li><li class='active'><a>收益概况</a></li><li><a>交易详情</a></li><li><a>每日持仓和收益</a></li><li><a>输出日志</a></li></ul><div class='tab-content' style='min-height: 100px;text-align: center;'><div class='tab-pane active' id='收益概况'>\n",
       "<div class='kpicontainer'>\n",
       "    <ul class='kpi'>\n",
       "        <li><span class='title'>收益率</span><span class='value'>74.93%</span></li>\n",
       "        <li><span class='title'>年化收益率</span><span class='value'>31.27%</span></li>\n",
       "        <li><span class='title'>基准收益率</span><span class='value'>12.85%</span></li>\n",
       "        <li><span class='title'>阿尔法</span><span class='value'>0.29</span></li>\n",
       "        <li><span class='title'>贝塔</span><span class='value'>0.1</span></li>\n",
       "        <li><span class='title'>夏普比率</span><span class='value'>1.37</span></li>\n",
       "        <li><span class='title'>胜率</span><span class='value'>0.75</span></li>\n",
       "        <li><span class='title'>盈亏比</span><span class='value'>1.15</span></li>\n",
       "        <li><span class='title'>收益波动率</span><span class='value'>18.92%</span></li>\n",
       "        <li><span class='title'>信息比率</span><span class='value'>0.05</span></li>\n",
       "        <li><span class='title'>最大回撤</span><span class='value'>9.86%</span></li>\n",
       "    </ul>\n",
       "</div>\n",
       "<div id=\"bigchart-020f45f5efd04d31b30676a6f0a91810\" class=\"bigchart\"></div><div class=\"bigchart-data\"><pre style=\"display:none\">bigcharts-data-start/{\"chart\":{\"height\":400,\"renderTo\":\"bigchart-020f45f5efd04d31b30676a6f0a91810\"},\"legend\":{\"enabled\":true,\"symbolHeight\":8,\"symbolWidth\":8,\"symbolPadding\":8,\"symbolRadius\":0},\"stock\":true,\"series\":[{\"name\":\"\\u7b56\\u7565\\u6536\\u76ca\\u7387\",\"yAxis\":0,\"data\":[[1577977200000,0.0],[1578063600000,0.0],[1578322800000,0.0],[1578409200000,0.0],[1578495600000,0.0],[1578582000000,0.0],[1578668400000,0.0],[1578927600000,0.0],[1579014000000,0.0],[1579100400000,0.0],[1579186800000,0.0],[1579273200000,0.0],[1579532400000,0.0],[1579618800000,0.0],[1579705200000,0.0],[1579791600000,0.0],[1580742000000,0.0],[1580828400000,7.0747],[1580914800000,10.7617],[1581001200000,10.7617],[1581087600000,10.7617],[1581346800000,10.7617],[1581433200000,10.7617],[1581519600000,10.7617],[1581606000000,10.7617],[1581692400000,10.7617],[1581951600000,10.7617],[1582038000000,10.7617],[1582124400000,10.7617],[1582210800000,10.7617],[1582297200000,10.7617],[1582556400000,10.7617],[1582642800000,10.7617],[1582729200000,10.7617],[1582815600000,10.7617],[1582902000000,10.7617],[1583161200000,13.8891],[1583247600000,18.9254],[1583334000000,18.9254],[1583420400000,18.9254],[1583506800000,18.9254],[1583766000000,18.9254],[1583852400000,18.9254],[1583938800000,18.9254],[1584025200000,18.9254],[1584111600000,18.9254],[1584370800000,18.9254],[1584457200000,18.9254],[1584543600000,18.9254],[1584630000000,18.9254],[1584716400000,18.9254],[1584975600000,18.9254],[1585062000000,18.9254],[1585148400000,18.9254],[1585234800000,18.9254],[1585321200000,18.9254],[1585580400000,18.9254],[1585666800000,18.9254],[1585753200000,18.9254],[1585839600000,18.9254],[1585926000000,18.9254],[1586271600000,18.9254],[1586358000000,18.9254],[1586444400000,18.9254],[1586530800000,18.9254],[1586790000000,18.9254],[1586876400000,18.9254],[1586962800000,18.9254],[1587049200000,18.9254],[1587135600000,18.9254],[1587394800000,18.9254],[1587481200000,18.9254],[1587567600000,18.9254],[1587654000000,18.9254],[1587740400000,18.9254],[1587999600000,18.9254],[1588086000000,18.9254],[1588172400000,18.9254],[1588258800000,18.9254],[1588777200000,18.9254],[1588863600000,18.9254],[1588950000000,18.9254],[1589209200000,18.9254],[1589295600000,18.9254],[1589382000000,18.9254],[1589468400000,18.9254],[1589554800000,18.9254],[1589814000000,18.9254],[1589900400000,18.9254],[1589986800000,18.9254],[1590073200000,18.9254],[1590159600000,18.9254],[1590418800000,18.9254],[1590505200000,18.9254],[1590591600000,18.9254],[1590678000000,18.9254],[1590764400000,18.9254],[1591023600000,18.9254],[1591110000000,18.9254],[1591196400000,18.9254],[1591282800000,18.9254],[1591369200000,18.9254],[1591628400000,18.9254],[1591714800000,18.9254],[1591801200000,18.9254],[1591887600000,18.9254],[1591974000000,18.9254],[1592233200000,18.9254],[1592319600000,18.9254],[1592406000000,18.9254],[1592492400000,18.9254],[1592578800000,18.9254],[1592838000000,18.9254],[1592924400000,18.9254],[1593010800000,18.9254],[1593442800000,18.9254],[1593529200000,18.9254],[1593615600000,18.9254],[1593702000000,18.9254],[1593788400000,18.9254],[1594047600000,18.9254],[1594134000000,18.9254],[1594220400000,18.9254],[1594306800000,18.9254],[1594393200000,18.9254],[1594652400000,18.9254],[1594738800000,18.9254],[1594825200000,18.9254],[1594911600000,18.9254],[1594998000000,19.5903],[1595257200000,24.392],[1595343600000,24.392],[1595430000000,24.392],[1595516400000,24.392],[1595602800000,24.392],[1595862000000,19.6927],[1595948400000,24.548],[1596034800000,24.548],[1596121200000,24.548],[1596207600000,24.548],[1596466800000,24.548],[1596553200000,24.548],[1596639600000,24.548],[1596726000000,24.548],[1596812400000,24.548],[1597071600000,24.548],[1597158000000,24.548],[1597244400000,24.548],[1597330800000,24.548],[1597417200000,24.548],[1597676400000,24.548],[1597762800000,24.548],[1597849200000,24.548],[1597935600000,24.548],[1598022000000,24.548],[1598281200000,24.548],[1598367600000,24.548],[1598454000000,24.548],[1598540400000,24.548],[1598626800000,24.548],[1598886000000,24.548],[1598972400000,24.548],[1599058800000,24.548],[1599145200000,24.548],[1599231600000,24.548],[1599490800000,24.548],[1599577200000,24.548],[1599663600000,24.548],[1599750000000,24.548],[1599836400000,24.548],[1600095600000,24.548],[1600182000000,24.548],[1600268400000,24.548],[1600354800000,24.548],[1600441200000,24.548],[1600700400000,24.548],[1600786800000,24.548],[1600873200000,24.548],[1600959600000,24.548],[1601046000000,24.548],[1601305200000,24.548],[1601391600000,24.548],[1601478000000,24.548],[1602255600000,24.548],[1602514800000,24.548],[1602601200000,24.548],[1602687600000,24.548],[1602774000000,24.548],[1602860400000,24.548],[1603119600000,24.548],[1603206000000,24.548],[1603292400000,24.548],[1603378800000,24.548],[1603465200000,24.548],[1603724400000,24.548],[1603810800000,24.548],[1603897200000,24.548],[1603983600000,24.548],[1604070000000,24.548],[1604329200000,24.548],[1604415600000,24.548],[1604502000000,24.548],[1604588400000,24.548],[1604674800000,24.548],[1604934000000,24.548],[1605020400000,24.548],[1605106800000,24.548],[1605193200000,24.548],[1605279600000,24.548],[1605538800000,24.548],[1605625200000,24.548],[1605711600000,24.548],[1605798000000,24.548],[1605884400000,24.548],[1606143600000,24.548],[1606230000000,24.548],[1606316400000,24.548],[1606402800000,24.548],[1606489200000,24.548],[1606748400000,24.548],[1606834800000,24.548],[1606921200000,24.548],[1607007600000,24.548],[1607094000000,24.548],[1607353200000,24.548],[1607439600000,24.548],[1607526000000,24.548],[1607612400000,24.548],[1607698800000,24.548],[1607958000000,24.548],[1608044400000,24.548],[1608130800000,24.548],[1608217200000,24.548],[1608303600000,24.548],[1608562800000,24.548],[1608649200000,24.548],[1608735600000,24.548],[1608822000000,24.548],[1608908400000,24.548],[1609167600000,24.548],[1609254000000,24.548],[1609340400000,24.548],[1609426800000,24.548],[1609772400000,24.548],[1609858800000,24.548],[1609945200000,24.548],[1610031600000,24.548],[1610118000000,24.548],[1610377200000,24.548],[1610463600000,24.548],[1610550000000,24.548],[1610636400000,24.548],[1610722800000,24.548],[1610982000000,24.548],[1611068400000,24.548],[1611154800000,24.548],[1611241200000,24.548],[1611327600000,24.548],[1611586800000,24.548],[1611673200000,24.548],[1611759600000,24.548],[1611846000000,24.548],[1611932400000,24.548],[1612191600000,24.548],[1612278000000,24.548],[1612364400000,24.548],[1612450800000,24.548],[1612537200000,24.548],[1612796400000,24.548],[1612882800000,24.548],[1612969200000,24.548],[1613660400000,24.548],[1613746800000,24.548],[1614006000000,24.548],[1614092400000,24.548],[1614178800000,24.548],[1614265200000,24.548],[1614351600000,24.548],[1614610800000,24.548],[1614697200000,24.548],[1614783600000,24.548],[1614870000000,24.548],[1614956400000,24.548],[1615215600000,24.548],[1615302000000,24.548],[1615388400000,21.4218],[1615474800000,21.2993],[1615561200000,21.2993],[1615820400000,21.2993],[1615906800000,21.2993],[1615993200000,21.2993],[1616079600000,21.2993],[1616166000000,21.2993],[1616425200000,21.2993],[1616511600000,21.2993],[1616598000000,21.2993],[1616684400000,21.2993],[1616770800000,21.2993],[1617030000000,21.2993],[1617116400000,21.2993],[1617202800000,21.2993],[1617289200000,21.2993],[1617375600000,21.2993],[1617721200000,21.2993],[1617807600000,21.2993],[1617894000000,21.2993],[1617980400000,21.2993],[1618239600000,21.2993],[1618326000000,21.2993],[1618412400000,21.2993],[1618498800000,21.2993],[1618585200000,21.2993],[1618844400000,21.2993],[1618930800000,21.2993],[1619017200000,21.2993],[1619103600000,21.2993],[1619190000000,21.2993],[1619449200000,21.2993],[1619535600000,21.2993],[1619622000000,21.2993],[1619708400000,21.2993],[1619794800000,21.2993],[1620313200000,21.2993],[1620399600000,21.2993],[1620658800000,21.2993],[1620745200000,21.2993],[1620831600000,21.2993],[1620918000000,21.2993],[1621004400000,21.2993],[1621263600000,21.2993],[1621350000000,21.2993],[1621436400000,21.2993],[1621522800000,21.2993],[1621609200000,21.2993],[1621868400000,21.2993],[1621954800000,21.2993],[1622041200000,21.2993],[1622127600000,21.2993],[1622214000000,21.2993],[1622473200000,21.2993],[1622559600000,21.2993],[1622646000000,21.2993],[1622732400000,21.2993],[1622818800000,21.2993],[1623078000000,21.2993],[1623164400000,21.2993],[1623250800000,21.2993],[1623337200000,21.2993],[1623423600000,21.2993],[1623769200000,21.2993],[1623855600000,21.2993],[1623942000000,21.2993],[1624028400000,21.2993],[1624287600000,21.2993],[1624374000000,21.2993],[1624460400000,21.2993],[1624546800000,21.2993],[1624633200000,21.2993],[1624892400000,21.2993],[1624978800000,21.2993],[1625065200000,21.2993],[1625151600000,21.2993],[1625238000000,21.2993],[1625497200000,21.2993],[1625583600000,21.2993],[1625670000000,21.2993],[1625756400000,21.2993],[1625842800000,21.2993],[1626102000000,21.2993],[1626188400000,21.2993],[1626274800000,21.2993],[1626361200000,21.2993],[1626447600000,21.2993],[1626706800000,21.2993],[1626793200000,21.2993],[1626879600000,21.2993],[1626966000000,21.2993],[1627052400000,21.2993],[1627311600000,21.2993],[1627398000000,21.2993],[1627484400000,21.2993],[1627570800000,21.2993],[1627657200000,21.2993],[1627916400000,21.2993],[1628002800000,21.2993],[1628089200000,21.2993],[1628175600000,21.2993],[1628262000000,21.2993],[1628521200000,21.2993],[1628607600000,21.2993],[1628694000000,21.2993],[1628780400000,21.2993],[1628866800000,21.2993],[1629126000000,21.2993],[1629212400000,21.2993],[1629298800000,25.4268],[1629385200000,27.487],[1629471600000,27.487],[1629730800000,27.487],[1629817200000,27.487],[1629903600000,27.487],[1629990000000,27.487],[1630076400000,27.487],[1630335600000,27.487],[1630422000000,27.487],[1630508400000,27.487],[1630594800000,27.487],[1630681200000,27.487],[1630940400000,27.487],[1631026800000,27.487],[1631113200000,27.487],[1631199600000,27.487],[1631286000000,27.487],[1631545200000,27.487],[1631631600000,27.487],[1631718000000,27.487],[1631804400000,27.487],[1631890800000,27.487],[1632322800000,27.487],[1632409200000,27.487],[1632495600000,27.487],[1632754800000,27.487],[1632841200000,26.3603],[1632927600000,14.9203],[1633014000000,16.5972],[1633705200000,17.6864],[1633964400000,17.6864],[1634050800000,17.6864],[1634137200000,20.102],[1634223600000,26.1647],[1634310000000,26.1647],[1634569200000,26.1647],[1634655600000,26.1647],[1634742000000,26.1647],[1634828400000,26.1647],[1634914800000,26.1647],[1635174000000,26.1647],[1635260400000,26.1647],[1635346800000,26.1647],[1635433200000,25.7448],[1635519600000,26.9572],[1635778800000,26.9572],[1635865200000,26.9572],[1635951600000,26.9572],[1636038000000,26.9572],[1636124400000,26.9572],[1636383600000,26.9572],[1636470000000,26.9572],[1636556400000,26.9572],[1636642800000,26.9572],[1636729200000,26.9572],[1636988400000,26.9572],[1637074800000,26.9572],[1637161200000,26.9572],[1637247600000,26.9572],[1637334000000,26.9572],[1637593200000,26.9572],[1637679600000,26.9572],[1637766000000,26.9572],[1637852400000,26.9572],[1637938800000,26.9572],[1638198000000,26.9572],[1638284400000,26.9572],[1638370800000,26.9572],[1638457200000,26.9572],[1638543600000,26.9572],[1638802800000,26.9572],[1638889200000,40.7662],[1638975600000,54.4905],[1639062000000,54.4905],[1639148400000,54.4905],[1639407600000,54.4905],[1639494000000,54.4905],[1639580400000,54.4905],[1639666800000,54.4905],[1639753200000,54.4905],[1640012400000,54.4905],[1640098800000,54.4905],[1640185200000,54.4905],[1640271600000,54.4905],[1640358000000,54.4905],[1640617200000,49.6502],[1640703600000,51.7621],[1640790000000,51.7621],[1640876400000,51.7621],[1640962800000,51.7621],[1641308400000,51.7621],[1641394800000,51.7621],[1641481200000,51.7621],[1641567600000,51.7621],[1641826800000,51.7621],[1641913200000,51.7621],[1641999600000,51.7621],[1642086000000,51.7621],[1642172400000,51.7621],[1642431600000,51.7621],[1642518000000,51.7621],[1642604400000,51.7621],[1642690800000,51.7621],[1642777200000,51.1947],[1643036400000,56.5681],[1643122800000,56.5681],[1643209200000,49.2474],[1643295600000,42.6517],[1643382000000,58.5519],[1644246000000,58.1326],[1644332400000,58.1326],[1644418800000,58.1326],[1644505200000,58.1326],[1644591600000,58.1326],[1644850800000,59.0557],[1644937200000,71.2957],[1645023600000,71.2957],[1645110000000,71.2957],[1645196400000,71.2957],[1645455600000,71.2957],[1645542000000,71.2957],[1645628400000,74.9301]],\"color\":\"#ff0000\",\"tooltip\":{\"valueDecimals\":2,\"valueSuffix\":\" %\"},\"type\":\"area\",\"fillColor\":{\"linearGradient\":[0,0,0,1],\"stops\":[[0,\"rgba(238,149,148,0.5)\"],[1,\"rgba(238,149,148,0.5)\"]]}},{\"name\":\"\\u57fa\\u51c6\\u6536\\u76ca\\u7387\",\"yAxis\":0,\"data\":[[1577977200000,1.3587],[1578063600000,1.1811],[1578322800000,0.7986],[1578409200000,1.5536],[1578495600000,0.3841],[1578582000000,1.6547],[1578668400000,1.6258],[1578927600000,2.6219],[1579014000000,2.2776],[1579100400000,1.7125],[1579186800000,1.2806],[1579273200000,1.4224],[1579532400000,2.1786],[1579618800000,0.4327],[1579705200000,0.8629],[1579791600000,-2.2624],[1580742000000,-9.965],[1580828400000,-7.5903],[1580914800000,-6.5434],[1581001200000,-4.8042],[1581087600000,-4.8019],[1581346800000,-4.408],[1581433200000,-3.518],[1581519600000,-2.7376],[1581606000000,-3.336],[1581692400000,-2.657],[1581951600000,-0.4677],[1582038000000,-0.9538],[1582124400000,-1.1051],[1582210800000,1.1735],[1582297200000,1.2915],[1582556400000,0.8851],[1582642800000,0.6657],[1582729200000,-0.5753],[1582815600000,-0.2857],[1582902000000,-3.8211],[1583161200000,-0.657],[1583247600000,-0.1274],[1583334000000,0.4509],[1583420400000,2.6887],[1583506800000,1.0234],[1583766000000,-2.4276],[1583852400000,-0.3381],[1583938800000,-1.6636],[1584025200000,-3.5559],[1584111600000,-4.9131],[1584370800000,-9.0012],[1584457200000,-9.4444],[1584543600000,-11.2368],[1584630000000,-12.3881],[1584716400000,-10.8226],[1584975600000,-13.8231],[1585062000000,-11.5088],[1585148400000,-9.1311],[1585234800000,-9.7285],[1585321200000,-9.4352],[1585580400000,-10.3128],[1585666800000,-10.0187],[1585753200000,-10.2892],[1585839600000,-8.8379],[1585926000000,-9.3581],[1586271600000,-7.288],[1586358000000,-7.7195],[1586444400000,-7.4152],[1586530800000,-7.9921],[1586790000000,-8.3808],[1586876400000,-6.6124],[1586962800000,-7.3041],[1587049200000,-7.1816],[1587135600000,-6.2758],[1587394800000,-5.9349],[1587481200000,-7.0433],[1587567600000,-6.2784],[1587654000000,-6.5134],[1587740400000,-7.3136],[1587999600000,-6.6839],[1588086000000,-6.04],[1588172400000,-5.6034],[1588258800000,-4.4916],[1588777200000,-3.9137],[1588863600000,-4.191],[1588950000000,-3.2456],[1589209200000,-3.3296],[1589295600000,-3.3282],[1589382000000,-3.1326],[1589468400000,-4.1831],[1589554800000,-4.4858],[1589814000000,-4.2394],[1589900400000,-3.4256],[1589986800000,-3.9389],[1590073200000,-4.4619],[1590159600000,-6.6523],[1590418800000,-6.5239],[1590505200000,-5.4633],[1590591600000,-6.1263],[1590678000000,-5.8573],[1590764400000,-5.6036],[1591023600000,-3.0572],[1591110000000,-2.7587],[1591196400000,-2.7568],[1591282800000,-2.7925],[1591369200000,-2.327],[1591628400000,-1.8216],[1591714800000,-1.2096],[1591801200000,-1.3884],[1591887600000,-2.458],[1591974000000,-2.2823],[1592233200000,-3.4563],[1592319600000,-2.0019],[1592406000000,-1.9281],[1592492400000,-1.2741],[1592578800000,0.052],[1592838000000,0.1334],[1592924400000,0.6155],[1593010800000,1.0352],[1593442800000,0.3207],[1593529200000,1.6449],[1593615600000,3.691],[1593702000000,5.8406],[1593788400000,7.885],[1594047600000,13.9998],[1594134000000,14.6841],[1594220400000,16.5363],[1594306800000,18.1661],[1594393200000,16.0268],[1594652400000,18.4637],[1594738800000,17.3342],[1594825200000,15.8153],[1594911600000,10.2445],[1594998000000,10.9389],[1595257200000,14.2491],[1595343600000,14.5112],[1595430000000,15.0825],[1595516400000,15.0334],[1595602800000,9.9842],[1595862000000,10.5422],[1595948400000,11.5139],[1596034800000,14.2174],[1596121200000,13.6595],[1596207600000,14.6089],[1596466800000,16.4706],[1596553200000,16.5802],[1596639600000,16.6121],[1596726000000,16.262],[1596812400000,14.9233],[1597071600000,15.3369],[1597158000000,14.2852],[1597244400000,13.4518],[1597330800000,13.1606],[1597417200000,14.8429],[1597676400000,17.5426],[1597762800000,17.4823],[1597849200000,15.7228],[1597935600000,14.221],[1598022000000,15.1898],[1598281200000,16.0932],[1598367600000,16.2421],[1598454000000,14.8795],[1598540400000,15.495],[1598626800000,18.2514],[1598886000000,17.5667],[1598972400000,18.1991],[1599058800000,18.2422],[1599145200000,17.5882],[1599231600000,16.444],[1599490800000,13.9821],[1599577200000,14.5929],[1599663600000,11.9126],[1599750000000,11.8489],[1599836400000,12.9548],[1600095600000,13.535],[1600182000000,14.4487],[1600268400000,13.6889],[1600354800000,13.0874],[1600441200000,15.6352],[1600700400000,14.5206],[1600786800000,13.1617],[1600873200000,13.5661],[1600959600000,11.3872],[1601046000000,11.557],[1601305200000,11.8472],[1601391600000,12.0886],[1601478000000,11.9811],[1602255600000,14.2695],[1602514800000,17.7362],[1602601200000,18.1278],[1602687600000,17.3443],[1602774000000,17.1401],[1602860400000,16.9677],[1603119600000,16.0843],[1603206000000,17.0114],[1603292400000,16.9959],[1603378800000,16.6335],[1603465200000,15.1812],[1603724400000,14.5159],[1603810800000,14.7123],[1603897200000,15.6397],[1603983600000,16.5099],[1604070000000,14.616],[1604329200000,15.2384],[1604415600000,16.6232],[1604502000000,17.5043],[1604588400000,19.2485],[1604674800000,19.2633],[1604934000000,21.5978],[1605020400000,20.9271],[1605106800000,19.7316],[1605193200000,19.8186],[1605279600000,18.5587],[1605538800000,19.7138],[1605625200000,19.4847],[1605711600000,19.4087],[1605798000000,20.2952],[1605884400000,20.6687],[1606143600000,22.1758],[1606230000000,21.4254],[1606316400000,19.8732],[1606402800000,20.0902],[1606489200000,21.5835],[1606748400000,21.0828],[1606834800000,23.691],[1606921200000,23.6921],[1607007600000,23.4459],[1607094000000,23.6621],[1607353200000,22.5958],[1607439600000,22.2942],[1607526000000,20.6543],[1607612400000,20.6012],[1607698800000,19.3589],[1607958000000,20.4623],[1608044400000,20.7129],[1608130800000,20.9269],[1608217200000,22.4797],[1608303600000,22.0523],[1608562800000,23.1964],[1608649200000,21.1931],[1608735600000,22.2269],[1608822000000,22.0534],[1608908400000,23.0786],[1609167600000,23.6254],[1609254000000,23.1011],[1609340400000,24.8288],[1609426800000,27.2107],[1609772400000,28.5882],[1609858800000,31.0485],[1609945200000,32.2486],[1610031600000,34.5917],[1610118000000,34.1468],[1610377200000,32.822],[1610463600000,36.6104],[1610550000000,36.1617],[1610636400000,33.5372],[1610722800000,33.2351],[1610982000000,34.7104],[1611068400000,32.7333],[1611154800000,33.6831],[1611241200000,35.8443],[1611327600000,35.9616],[1611586800000,37.3322],[1611673200000,34.5749],[1611759600000,34.9419],[1611846000000,31.2593],[1611932400000,30.6447],[1612191600000,32.2481],[1612278000000,34.285],[1612364400000,33.8971],[1612450800000,33.6224],[1612537200000,33.8535],[1612796400000,35.8343],[1612882800000,38.8048],[1612969200000,41.77],[1613660400000,40.8097],[1613746800000,41.065],[1614006000000,36.6343],[1614092400000,36.2031],[1614178800000,32.7344],[1614265200000,33.5153],[1614351600000,30.2736],[1614610800000,32.2758],[1614697200000,30.5877],[1614783600000,33.0918],[1614870000000,28.9052],[1614956400000,28.4681],[1615215600000,24.0065],[1615302000000,21.3451],[1615388400000,22.1412],[1615474800000,25.1829],[1615561200000,25.6262],[1615820400000,22.9207],[1615906800000,23.9903],[1615993200000,24.515],[1616079600000,25.5137],[1616166000000,22.2261],[1616425200000,23.4482],[1616511600000,22.2788],[1616598000000,20.3122],[1616684400000,20.2551],[1616770800000,22.9804],[1617030000000,23.1974],[1617116400000,24.3654],[1617202800000,23.2336],[1617289200000,24.7572],[1617375600000,25.9968],[1617721200000,25.4789],[1617807600000,24.5855],[1617894000000,24.7922],[1617980400000,22.9157],[1618239600000,20.7775],[1618326000000,20.5797],[1618412400000,21.5802],[1618498800000,20.8075],[1618585200000,21.2275],[1618844400000,24.1772],[1618930800000,24.0881],[1619017200000,24.4635],[1619103600000,24.2316],[1619190000000,25.3596],[1619449200000,23.9385],[1619535600000,24.2627],[1619622000000,24.9639],[1619708400000,26.0606],[1619794800000,25.0675],[1620313200000,23.5452],[1620399600000,21.9567],[1620658800000,21.8681],[1620745200000,22.616],[1620831600000,23.1406],[1620918000000,21.8816],[1621004400000,24.7527],[1621263600000,26.5687],[1621350000000,26.6326],[1621436400000,26.2584],[1621522800000,26.6035],[1621609200000,25.3277],[1621868400000,25.8511],[1621954800000,29.8273],[1622041200000,29.879],[1622127600000,30.3096],[1622214000000,29.8911],[1622473200000,30.1469],[1622559600000,30.3937],[1622646000000,29.1315],[1622732400000,28.2848],[1622818800000,28.9437],[1623078000000,28.8302],[1623164400000,27.7192],[1623250800000,27.825],[1623337200000,28.6798],[1623423600000,27.5382],[1623769200000,26.1189],[1623855600000,24.0179],[1623942000000,24.5403],[1624028400000,24.5543],[1624287600000,24.2595],[1624374000000,25.0351],[1624460400000,25.6511],[1624546800000,25.8605],[1624633200000,27.9109],[1624892400000,28.1987],[1624978800000,26.7044],[1625065200000,27.5221],[1625151600000,27.6593],[1625238000000,24.0332],[1625497200000,24.1474],[1625583600000,24.0817],[1625670000000,25.4826],[1625756400000,24.2075],[1625842800000,23.7481],[1626102000000,25.2926],[1626188400000,25.5218],[1626274800000,24.0813],[1626361200000,25.7504],[1626447600000,24.3666],[1626706800000,24.8236],[1626793200000,24.7137],[1626879600000,25.5693],[1626966000000,25.7575],[1627052400000,24.2312],[1627311600000,20.2296],[1627398000000,15.9825],[1627484400000,16.2063],[1627570800000,18.3982],[1627657200000,17.4436],[1627916400000,20.4356],[1628002800000,20.4532],[1628089200000,21.5368],[1628175600000,20.8001],[1628262000000,20.1385],[1628521200000,21.7007],[1628607600000,23.1064],[1628694000000,22.4276],[1628780400000,21.4026],[1628866800000,20.7345],[1629126000000,20.6145],[1629212400000,18.084],[1629298800000,19.4714],[1629385200000,18.6878],[1629471600000,16.4208],[1629730800000,18.0468],[1629817200000,19.3287],[1629903600000,19.5671],[1629990000000,17.2103],[1630076400000,17.8311],[1630335600000,17.4949],[1630422000000,17.3079],[1630508400000,18.8665],[1630594800000,18.8654],[1630681200000,18.2222],[1630940400000,20.4353],[1631026800000,21.8781],[1631113200000,21.3728],[1631199600000,21.3211],[1631286000000,22.3832],[1631545200000,21.8495],[1631631600000,20.031],[1631718000000,18.8143],[1631804400000,17.3589],[1631890800000,18.5365],[1632322800000,17.7023],[1632409200000,18.4695],[1632495600000,18.3775],[1632754800000,19.0596],[1632841200000,19.2173],[1632927600000,17.9992],[1633014000000,18.7914],[1633705200000,20.3429],[1633964400000,20.4955],[1634050800000,19.2175],[1634137200000,20.5911],[1634223600000,19.9443],[1634310000000,20.3958],[1634569200000,18.9963],[1634655600000,20.1667],[1634742000000,19.8606],[1634828400000,20.2959],[1634914800000,21.07],[1635174000000,21.5532],[1635260400000,21.1523],[1635346800000,19.5672],[1635433200000,18.7366],[1635519600000,19.8261],[1635778800000,19.3846],[1635865200000,18.1436],[1635951600000,17.6863],[1636038000000,18.849],[1636124400000,18.2046],[1636383600000,18.347],[1636470000000,18.312],[1636556400000,17.6883],[1636642800000,19.5791],[1636729200000,19.3282],[1636988400000,19.1819],[1637074800000,19.2049],[1637161200000,19.2643],[1637247600000,18.0892],[1637334000000,19.3693],[1637593200000,19.9147],[1637679600000,19.9378],[1637766000000,20.0186],[1637852400000,19.5251],[1637938800000,18.6387],[1638198000000,18.4262],[1638284400000,17.9527],[1638370800000,18.2414],[1638457200000,18.5419],[1638543600000,19.6368],[1638802800000,19.4319],[1638889200000,20.1515],[1638975600000,21.9537],[1639062000000,23.9739],[1639148400000,23.3985],[1639407600000,24.0987],[1639494000000,23.2662],[1639580400000,22.1971],[1639666800000,22.9009],[1639753200000,20.9487],[1640012400000,19.134],[1640098800000,19.9412],[1640185200000,19.9649],[1640271600000,20.8018],[1640358000000,20.1331],[1640617200000,20.0837],[1640703600000,20.9781],[1640790000000,19.2088],[1640876400000,20.1371],[1640962800000,20.5976],[1641308400000,20.0457],[1641394800000,18.8338],[1641481200000,17.616],[1641567600000,17.717],[1641826800000,18.2461],[1641913200000,17.1166],[1641999600000,18.2835],[1642086000000,16.339],[1642172400000,15.3824],[1642431600000,16.3721],[1642518000000,17.4967],[1642604400000,16.692],[1642690800000,17.7448],[1642777200000,16.666],[1643036400000,16.8472],[1643122800000,14.2038],[1643209200000,15.0304],[1643295600000,12.774],[1643382000000,11.4045],[1644246000000,13.121],[1644332400000,12.503],[1644418800000,13.5596],[1644505200000,13.2619],[1644591600000,12.3229],[1644850800000,11.1095],[1644937200000,12.2913],[1645023600000,12.7279],[1645110000000,13.0007],[1645196400000,13.5395],[1645455600000,13.1264],[1645542000000,11.6579],[1645628400000,12.8514]],\"color\":\"#2776B6\",\"tooltip\":{\"valueDecimals\":2,\"valueSuffix\":\" %\"}},{\"name\":\"\\u76f8\\u5bf9\\u6536\\u76ca\\u7387\",\"yAxis\":0,\"data\":[[1577977200000,-1.3587],[1578063600000,-1.1858],[1578322800000,-0.8123],[1578409200000,-1.5553],[1578495600000,-0.4216],[1578582000000,-1.682],[1578668400000,-1.654],[1578927600000,-2.6179],[1579014000000,-2.2912],[1579100400000,-1.7513],[1579186800000,-1.3342],[1579273200000,-1.4724],[1579532400000,-2.2069],[1579618800000,-0.536],[1579705200000,-0.962],[1579791600000,2.1067],[1580742000000,10.1537],[1580828400000,15.0414],[1580914800000,17.6994],[1581001200000,15.509],[1581087600000,15.5062],[1581346800000,15.0283],[1581433200000,13.9574],[1581519600000,13.0356],[1581606000000,13.7311],[1581692400000,12.9322],[1581951600000,10.3922],[1582038000000,10.9313],[1582124400000,11.1008],[1582210800000,8.541],[1582297200000,8.4144],[1582556400000,8.8495],[1582642800000,9.0861],[1582729200000,10.4309],[1582815600000,10.1093],[1582902000000,14.0132],[1583161200000,13.4817],[1583247600000,17.8949],[1583334000000,17.2123],[1583420400000,14.6011],[1583506800000,16.4595],[1583766000000,20.4378],[1583852400000,17.8586],[1583938800000,19.4262],[1584025200000,21.7243],[1584111600000,23.4372],[1584370800000,28.7442],[1584457200000,29.3713],[1584543600000,31.932],[1584630000000,33.6432],[1584716400000,31.2552],[1584975600000,35.6715],[1585062000000,32.0279],[1585148400000,28.4805],[1585234800000,29.3251],[1585321200000,28.9049],[1585580400000,30.154],[1585666800000,29.7273],[1585753200000,30.1173],[1585839600000,28.0122],[1585926000000,28.7428],[1586271600000,25.8025],[1586358000000,26.388],[1586444400000,25.9713],[1586530800000,26.7562],[1586790000000,27.2916],[1586876400000,24.8347],[1586962800000,25.7594],[1587049200000,25.5932],[1587135600000,24.3676],[1587394800000,23.9151],[1587481200000,25.3753],[1587567600000,24.3436],[1587654000000,24.6555],[1587740400000,25.7225],[1587999600000,24.8683],[1588086000000,24.0067],[1588172400000,23.4305],[1588258800000,21.9767],[1588777200000,21.2386],[1588863600000,21.5885],[1588950000000,20.3888],[1589209200000,20.4933],[1589295600000,20.4915],[1589382000000,20.2477],[1589468400000,21.5517],[1589554800000,21.9358],[1589814000000,21.6212],[1589900400000,20.5876],[1589986800000,21.2285],[1590073200000,21.8886],[1590159600000,24.6831],[1590418800000,24.5116],[1590505200000,23.0989],[1590591600000,23.9621],[1590678000000,23.6069],[1590764400000,23.2739],[1591023600000,19.9485],[1591110000000,19.5792],[1591196400000,19.5768],[1591282800000,19.6207],[1591369200000,19.0479],[1591628400000,18.4319],[1591714800000,17.6936],[1591801200000,17.9066],[1591887600000,19.1856],[1591974000000,18.9709],[1592233200000,20.4002],[1592319600000,18.5864],[1592406000000,18.4971],[1592492400000,17.7069],[1592578800000,16.1258],[1592838000000,16.0313],[1592924400000,15.4727],[1593010800000,14.991],[1593442800000,15.8043],[1593529200000,14.2757],[1593615600000,11.9753],[1593702000000,9.654],[1593788400000,7.5359],[1594047600000,1.4408],[1594134000000,0.832],[1594220400000,-0.7966],[1594306800000,-2.184],[1594393200000,-0.4131],[1594652400000,-2.5047],[1594738800000,-1.5751],[1594825200000,-0.301],[1594911600000,4.4947],[1594998000000,4.4207],[1595257200000,5.4976],[1595343600000,5.2556],[1595430000000,4.7305],[1595516400000,4.7751],[1595602800000,9.3741],[1595862000000,4.6872],[1595948400000,8.0135],[1596034800000,5.3949],[1596121200000,5.9098],[1596207600000,5.025],[1596466800000,3.3191],[1596553200000,3.2218],[1596639600000,3.1936],[1596726000000,3.5034],[1596812400000,4.6952],[1597071600000,4.3184],[1597158000000,5.2696],[1597244400000,6.0373],[1597330800000,6.3095],[1597417200000,4.7291],[1597676400000,2.2671],[1597762800000,2.3195],[1597849200000,3.8519],[1597935600000,5.1997],[1598022000000,4.3074],[1598281200000,3.4894],[1598367600000,3.3566],[1598454000000,4.5682],[1598540400000,4.0079],[1598626800000,1.5256],[1598886000000,2.1135],[1598972400000,1.5642],[1599058800000,1.5272],[1599145200000,2.0887],[1599231600000,3.0822],[1599490800000,5.2615],[1599577200000,4.6975],[1599663600000,7.1463],[1599750000000,7.2073],[1599836400000,6.1473],[1600095600000,5.6021],[1600182000000,4.7522],[1600268400000,5.4476],[1600354800000,6.0055],[1600441200000,3.6173],[1600700400000,4.616],[1600786800000,5.8574],[1600873200000,5.4791],[1600959600000,7.5028],[1601046000000,7.339],[1601305200000,7.0598],[1601391600000,6.8287],[1601478000000,6.9311],[1602255600000,4.7459],[1602514800000,1.5681],[1602601200000,1.2303],[1602687600000,1.9018],[1602774000000,2.0791],[1602860400000,2.2293],[1603119600000,3.0014],[1603206000000,2.1788],[1603292400000,2.1924],[1603378800000,2.5089],[1603465200000,3.7853],[1603724400000,4.3848],[1603810800000,4.2058],[1603897200000,3.3633],[1603983600000,2.5855],[1604070000000,4.2531],[1604329200000,3.6869],[1604415600000,2.4409],[1604502000000,1.667],[1604588400000,0.1578],[1604674800000,0.1454],[1604934000000,-1.8149],[1605020400000,-1.2733],[1605106800000,-0.2972],[1605193200000,-0.3697],[1605279600000,0.6779],[1605538800000,-0.303],[1605625200000,-0.1122],[1605711600000,-0.0487],[1605798000000,-0.7907],[1605884400000,-1.0987],[1606143600000,-2.334],[1606230000000,-1.7341],[1606316400000,-0.478],[1606402800000,-0.6582],[1606489200000,-1.8935],[1606748400000,-1.4894],[1606834800000,-3.6114],[1606921200000,-3.6123],[1607007600000,-3.4204],[1607094000000,-3.5896],[1607353200000,-2.7583],[1607439600000,-2.519],[1607526000000,-1.2118],[1607612400000,-1.1684],[1607698800000,-0.1503],[1607958000000,-1.0734],[1608044400000,-1.2792],[1608130800000,-1.4542],[1608217200000,-2.7196],[1608303600000,-2.3801],[1608562800000,-3.2952],[1608649200000,-1.7227],[1608735600000,-2.561],[1608822000000,-2.4227],[1608908400000,-3.2423],[1609167600000,-3.6722],[1609254000000,-3.2637],[1609340400000,-4.6213],[1609426800000,-6.4413],[1609772400000,-7.4544],[1609858800000,-9.225],[1609945200000,-10.0563],[1610031600000,-11.6499],[1610118000000,-11.3579],[1610377200000,-10.4824],[1610463600000,-13.0357],[1610550000000,-12.75],[1610636400000,-11.0683],[1610722800000,-10.8671],[1610982000000,-11.8541],[1611068400000,-10.5604],[1611154800000,-11.2004],[1611241200000,-12.636],[1611327600000,-12.7115],[1611586800000,-13.5914],[1611673200000,-11.8565],[1611759600000,-12.0969],[1611846000000,-9.698],[1611932400000,-9.2752],[1612191600000,-10.3886],[1612278000000,-11.7688],[1612364400000,-11.514],[1612450800000,-11.3324],[1612537200000,-11.4858],[1612796400000,-12.7957],[1612882800000,-14.7027],[1612969200000,-16.5248],[1613660400000,-15.9594],[1613746800000,-16.1118],[1614006000000,-13.4769],[1614092400000,-13.2039],[1614178800000,-10.9934],[1614265200000,-11.517],[1614351600000,-9.3687],[1614610800000,-10.7617],[1614697200000,-9.6228],[1614783600000,-11.3559],[1614870000000,-8.5674],[1614956400000,-8.2573],[1615215600000,-5.0712],[1615302000000,-3.0339],[1615388400000,-6.1039],[1615474800000,-8.5369],[1615561200000,-8.8609],[1615820400000,-6.8981],[1615906800000,-7.7082],[1615993200000,-8.0988],[1616079600000,-8.8359],[1616166000000,-6.448],[1616425200000,-7.3834],[1616511600000,-6.506],[1616598000000,-5.0024],[1616684400000,-4.9573],[1616770800000,-7.1112],[1617030000000,-7.2751],[1617116400000,-8.1543],[1617202800000,-7.3184],[1617289200000,-8.4642],[1617375600000,-9.3737],[1617721200000,-9.0012],[1617807600000,-8.3533],[1617894000000,-8.5054],[1617980400000,-7.1296],[1618239600000,-5.5141],[1618326000000,-5.3593],[1618412400000,-6.1446],[1618498800000,-5.5481],[1618585200000,-5.8765],[1618844400000,-8.1667],[1618930800000,-8.1007],[1619017200000,-8.3788],[1619103600000,-8.2081],[1619190000000,-9.0415],[1619449200000,-8.0104],[1619535600000,-8.251],[1619622000000,-8.7687],[1619708400000,-9.5694],[1619794800000,-8.857],[1620313200000,-7.7476],[1620399600000,-6.5615],[1620658800000,-6.4936],[1620745200000,-7.0674],[1620831600000,-7.465],[1620918000000,-6.5189],[1621004400000,-8.721],[1621263600000,-10.0498],[1621350000000,-10.0952],[1621436400000,-9.8295],[1621522800000,-10.076],[1621609200000,-9.1698],[1621868400000,-9.5491],[1621954800000,-12.4069],[1622041200000,-12.4417],[1622127600000,-12.732],[1622214000000,-12.4518],[1622473200000,-12.6242],[1622559600000,-12.7899],[1622646000000,-11.9457],[1622732400000,-11.3683],[1622818800000,-11.8236],[1623078000000,-11.7459],[1623164400000,-10.9849],[1623250800000,-11.0586],[1623337200000,-11.6534],[1623423600000,-10.8696],[1623769200000,-9.8777],[1623855600000,-8.3764],[1623942000000,-8.7624],[1624028400000,-8.7726],[1624287600000,-8.5566],[1624374000000,-9.1274],[1624460400000,-9.5751],[1624546800000,-9.7258],[1624633200000,-11.1965],[1624892400000,-11.3963],[1624978800000,-10.3635],[1625065200000,-10.942],[1625151600000,-11.0379],[1625238000000,-8.5109],[1625497200000,-8.5951],[1625583600000,-8.5468],[1625670000000,-9.5792],[1625756400000,-8.6605],[1625842800000,-8.3226],[1626102000000,-9.4669],[1626188400000,-9.6325],[1626274800000,-8.5954],[1626361200000,-9.8249],[1626447600000,-8.8326],[1626706800000,-9.1676],[1626793200000,-9.0877],[1626879600000,-9.7114],[1626966000000,-9.8467],[1627052400000,-8.7525],[1627311600000,-5.8134],[1627398000000,-2.4862],[1627484400000,-2.6744],[1627570800000,-4.5102],[1627657200000,-3.7403],[1627916400000,-6.1925],[1628002800000,-6.2063],[1628089200000,-7.05],[1628175600000,-6.4866],[1628262000000,-5.9744],[1628521200000,-7.1971],[1628607600000,-8.269],[1628694000000,-7.7632],[1628780400000,-6.991],[1628866800000,-6.4792],[1629126000000,-6.3862],[1629212400000,-4.4222],[1629298800000,-2.2929],[1629385200000,-0.0472],[1629471600000,1.862],[1629730800000,0.4393],[1629817200000,-0.6513],[1629903600000,-0.8498],[1629990000000,1.1045],[1630076400000,0.569],[1630335600000,0.856],[1630422000000,1.0165],[1630508400000,-0.3257],[1630594800000,-0.3247],[1630681200000,0.2147],[1630940400000,-1.6614],[1631026800000,-2.8394],[1631113200000,-2.4367],[1631199600000,-2.3951],[1631286000000,-3.2495],[1631545200000,-2.8276],[1631631600000,-1.3774],[1631718000000,-0.3777],[1631804400000,0.8426],[1631890800000,-0.1693],[1632322800000,0.5332],[1632409200000,-0.122],[1632495600000,-0.0445],[1632754800000,-0.6204],[1632841200000,-1.6303],[1632927600000,-9.5311],[1633014000000,-8.8184],[1633705200000,-9.1575],[1633964400000,-9.2727],[1634050800000,-8.3104],[1634137200000,-7.4848],[1634223600000,-2.3185],[1634310000000,-2.6862],[1634569200000,-1.555],[1634655600000,-2.5232],[1634742000000,-2.275],[1634828400000,-2.6299],[1634914800000,-3.2564],[1635174000000,-3.6426],[1635260400000,-3.3247],[1635346800000,-2.0599],[1635433200000,-1.7055],[1635519600000,-1.6597],[1635778800000,-1.2974],[1635865200000,-0.2714],[1635951600000,0.1147],[1636038000000,-0.8744],[1636124400000,-0.337],[1636383600000,-0.4571],[1636470000000,-0.4276],[1636556400000,0.0973],[1636642800000,-1.5109],[1636729200000,-1.3043],[1636988400000,-1.1832],[1637074800000,-1.2023],[1637161200000,-1.2515],[1637247600000,-0.2786],[1637334000000,-1.3595],[1637593200000,-1.8102],[1637679600000,-1.8291],[1637766000000,-1.8953],[1637852400000,-1.4919],[1637938800000,-0.7613],[1638198000000,-0.5836],[1638284400000,-0.1861],[1638370800000,-0.4304],[1638457200000,-0.6835],[1638543600000,-1.6008],[1638802800000,-1.4322],[1638889200000,8.6949],[1638975600000,17.662],[1639062000000,15.7129],[1639148400000,16.25],[1639407600000,15.5903],[1639494000000,16.3658],[1639580400000,17.375],[1639666800000,16.699],[1639753200000,18.5526],[1640012400000,20.3314],[1640098800000,19.5161],[1640185200000,19.4925],[1640271600000,18.6589],[1640358000000,19.3158],[1640617200000,15.6266],[1640703600000,16.3971],[1640790000000,18.0994],[1640876400000,17.1797],[1640962800000,16.7306],[1641308400000,17.2648],[1641394800000,18.4486],[1641481200000,19.6625],[1641567600000,19.5597],[1641826800000,19.0223],[1641913200000,20.1592],[1641999600000,18.962],[1642086000000,20.9177],[1642172400000,21.9119],[1642431600000,20.8662],[1642518000000,19.6981],[1642604400000,20.518],[1642690800000,19.4306],[1642777200000,20.0784],[1643036400000,24.1595],[1643122800000,26.9682],[1643209200000,20.1126],[1643295600000,17.1605],[1643382000000,31.6422],[1644246000000,29.2657],[1644332400000,29.9719],[1644418800000,28.7512],[1644505200000,29.0888],[1644591600000,30.159],[1644850800000,32.3249],[1644937200000,41.1004],[1645023600000,40.5518],[1645110000000,40.2116],[1645196400000,39.5431],[1645455600000,40.0508],[1645542000000,41.8689],[1645628400000,43.3625]],\"color\":\"#8f4e4f\",\"tooltip\":{\"valueDecimals\":2,\"valueSuffix\":\" %\"},\"visible\":false},{\"name\":\"\\u6301\\u4ed3\\u5360\\u6bd4\",\"yAxis\":1,\"data\":[[1577977200000,0.0],[1578063600000,0.0],[1578322800000,0.0],[1578409200000,0.0],[1578495600000,0.0],[1578582000000,0.0],[1578668400000,0.0],[1578927600000,0.0],[1579014000000,0.0],[1579100400000,0.0],[1579186800000,0.0],[1579273200000,0.0],[1579532400000,0.0],[1579618800000,0.0],[1579705200000,0.0],[1579791600000,0.0],[1580742000000,0.0],[1580828400000,91.1065],[1580914800000,0.0],[1581001200000,0.0],[1581087600000,0.0],[1581346800000,0.0],[1581433200000,0.0],[1581519600000,0.0],[1581606000000,0.0],[1581692400000,0.0],[1581951600000,0.0],[1582038000000,0.0],[1582124400000,0.0],[1582210800000,0.0],[1582297200000,0.0],[1582556400000,0.0],[1582642800000,0.0],[1582729200000,0.0],[1582815600000,0.0],[1582902000000,0.0],[1583161200000,95.2321],[1583247600000,0.0],[1583334000000,0.0],[1583420400000,0.0],[1583506800000,0.0],[1583766000000,0.0],[1583852400000,0.0],[1583938800000,0.0],[1584025200000,0.0],[1584111600000,0.0],[1584370800000,0.0],[1584457200000,0.0],[1584543600000,0.0],[1584630000000,0.0],[1584716400000,0.0],[1584975600000,0.0],[1585062000000,0.0],[1585148400000,0.0],[1585234800000,0.0],[1585321200000,0.0],[1585580400000,0.0],[1585666800000,0.0],[1585753200000,0.0],[1585839600000,0.0],[1585926000000,0.0],[1586271600000,0.0],[1586358000000,0.0],[1586444400000,0.0],[1586530800000,0.0],[1586790000000,0.0],[1586876400000,0.0],[1586962800000,0.0],[1587049200000,0.0],[1587135600000,0.0],[1587394800000,0.0],[1587481200000,0.0],[1587567600000,0.0],[1587654000000,0.0],[1587740400000,0.0],[1587999600000,0.0],[1588086000000,0.0],[1588172400000,0.0],[1588258800000,0.0],[1588777200000,0.0],[1588863600000,0.0],[1588950000000,0.0],[1589209200000,0.0],[1589295600000,0.0],[1589382000000,0.0],[1589468400000,0.0],[1589554800000,0.0],[1589814000000,0.0],[1589900400000,0.0],[1589986800000,0.0],[1590073200000,0.0],[1590159600000,0.0],[1590418800000,0.0],[1590505200000,0.0],[1590591600000,0.0],[1590678000000,0.0],[1590764400000,0.0],[1591023600000,0.0],[1591110000000,0.0],[1591196400000,0.0],[1591282800000,0.0],[1591369200000,0.0],[1591628400000,0.0],[1591714800000,0.0],[1591801200000,0.0],[1591887600000,0.0],[1591974000000,0.0],[1592233200000,0.0],[1592319600000,0.0],[1592406000000,0.0],[1592492400000,0.0],[1592578800000,0.0],[1592838000000,0.0],[1592924400000,0.0],[1593010800000,0.0],[1593442800000,0.0],[1593529200000,0.0],[1593615600000,0.0],[1593702000000,0.0],[1593788400000,0.0],[1594047600000,0.0],[1594134000000,0.0],[1594220400000,0.0],[1594306800000,0.0],[1594393200000,0.0],[1594652400000,0.0],[1594738800000,0.0],[1594825200000,0.0],[1594911600000,0.0],[1594998000000,91.2678],[1595257200000,0.0],[1595343600000,0.0],[1595430000000,0.0],[1595516400000,0.0],[1595602800000,0.0],[1595862000000,94.2944],[1595948400000,0.0],[1596034800000,0.0],[1596121200000,0.0],[1596207600000,0.0],[1596466800000,0.0],[1596553200000,0.0],[1596639600000,0.0],[1596726000000,0.0],[1596812400000,0.0],[1597071600000,0.0],[1597158000000,0.0],[1597244400000,0.0],[1597330800000,0.0],[1597417200000,0.0],[1597676400000,0.0],[1597762800000,0.0],[1597849200000,0.0],[1597935600000,0.0],[1598022000000,0.0],[1598281200000,0.0],[1598367600000,0.0],[1598454000000,0.0],[1598540400000,0.0],[1598626800000,0.0],[1598886000000,0.0],[1598972400000,0.0],[1599058800000,0.0],[1599145200000,0.0],[1599231600000,0.0],[1599490800000,0.0],[1599577200000,0.0],[1599663600000,0.0],[1599750000000,0.0],[1599836400000,0.0],[1600095600000,0.0],[1600182000000,0.0],[1600268400000,0.0],[1600354800000,0.0],[1600441200000,0.0],[1600700400000,0.0],[1600786800000,0.0],[1600873200000,0.0],[1600959600000,0.0],[1601046000000,0.0],[1601305200000,0.0],[1601391600000,0.0],[1601478000000,0.0],[1602255600000,0.0],[1602514800000,0.0],[1602601200000,0.0],[1602687600000,0.0],[1602774000000,0.0],[1602860400000,0.0],[1603119600000,0.0],[1603206000000,0.0],[1603292400000,0.0],[1603378800000,0.0],[1603465200000,0.0],[1603724400000,0.0],[1603810800000,0.0],[1603897200000,0.0],[1603983600000,0.0],[1604070000000,0.0],[1604329200000,0.0],[1604415600000,0.0],[1604502000000,0.0],[1604588400000,0.0],[1604674800000,0.0],[1604934000000,0.0],[1605020400000,0.0],[1605106800000,0.0],[1605193200000,0.0],[1605279600000,0.0],[1605538800000,0.0],[1605625200000,0.0],[1605711600000,0.0],[1605798000000,0.0],[1605884400000,0.0],[1606143600000,0.0],[1606230000000,0.0],[1606316400000,0.0],[1606402800000,0.0],[1606489200000,0.0],[1606748400000,0.0],[1606834800000,0.0],[1606921200000,0.0],[1607007600000,0.0],[1607094000000,0.0],[1607353200000,0.0],[1607439600000,0.0],[1607526000000,0.0],[1607612400000,0.0],[1607698800000,0.0],[1607958000000,0.0],[1608044400000,0.0],[1608130800000,0.0],[1608217200000,0.0],[1608303600000,0.0],[1608562800000,0.0],[1608649200000,0.0],[1608735600000,0.0],[1608822000000,0.0],[1608908400000,0.0],[1609167600000,0.0],[1609254000000,0.0],[1609340400000,0.0],[1609426800000,0.0],[1609772400000,0.0],[1609858800000,0.0],[1609945200000,0.0],[1610031600000,0.0],[1610118000000,0.0],[1610377200000,0.0],[1610463600000,0.0],[1610550000000,0.0],[1610636400000,0.0],[1610722800000,0.0],[1610982000000,0.0],[1611068400000,0.0],[1611154800000,0.0],[1611241200000,0.0],[1611327600000,0.0],[1611586800000,0.0],[1611673200000,0.0],[1611759600000,0.0],[1611846000000,0.0],[1611932400000,0.0],[1612191600000,0.0],[1612278000000,0.0],[1612364400000,0.0],[1612450800000,0.0],[1612537200000,0.0],[1612796400000,0.0],[1612882800000,0.0],[1612969200000,0.0],[1613660400000,0.0],[1613746800000,0.0],[1614006000000,0.0],[1614092400000,0.0],[1614178800000,0.0],[1614265200000,0.0],[1614351600000,0.0],[1614610800000,0.0],[1614697200000,0.0],[1614783600000,0.0],[1614870000000,0.0],[1614956400000,0.0],[1615215600000,0.0],[1615302000000,0.0],[1615388400000,96.5313],[1615474800000,0.0],[1615561200000,0.0],[1615820400000,0.0],[1615906800000,0.0],[1615993200000,0.0],[1616079600000,0.0],[1616166000000,0.0],[1616425200000,0.0],[1616511600000,0.0],[1616598000000,0.0],[1616684400000,0.0],[1616770800000,0.0],[1617030000000,0.0],[1617116400000,0.0],[1617202800000,0.0],[1617289200000,0.0],[1617375600000,0.0],[1617721200000,0.0],[1617807600000,0.0],[1617894000000,0.0],[1617980400000,0.0],[1618239600000,0.0],[1618326000000,0.0],[1618412400000,0.0],[1618498800000,0.0],[1618585200000,0.0],[1618844400000,0.0],[1618930800000,0.0],[1619017200000,0.0],[1619103600000,0.0],[1619190000000,0.0],[1619449200000,0.0],[1619535600000,0.0],[1619622000000,0.0],[1619708400000,0.0],[1619794800000,0.0],[1620313200000,0.0],[1620399600000,0.0],[1620658800000,0.0],[1620745200000,0.0],[1620831600000,0.0],[1620918000000,0.0],[1621004400000,0.0],[1621263600000,0.0],[1621350000000,0.0],[1621436400000,0.0],[1621522800000,0.0],[1621609200000,0.0],[1621868400000,0.0],[1621954800000,0.0],[1622041200000,0.0],[1622127600000,0.0],[1622214000000,0.0],[1622473200000,0.0],[1622559600000,0.0],[1622646000000,0.0],[1622732400000,0.0],[1622818800000,0.0],[1623078000000,0.0],[1623164400000,0.0],[1623250800000,0.0],[1623337200000,0.0],[1623423600000,0.0],[1623769200000,0.0],[1623855600000,0.0],[1623942000000,0.0],[1624028400000,0.0],[1624287600000,0.0],[1624374000000,0.0],[1624460400000,0.0],[1624546800000,0.0],[1624633200000,0.0],[1624892400000,0.0],[1624978800000,0.0],[1625065200000,0.0],[1625151600000,0.0],[1625238000000,0.0],[1625497200000,0.0],[1625583600000,0.0],[1625670000000,0.0],[1625756400000,0.0],[1625842800000,0.0],[1626102000000,0.0],[1626188400000,0.0],[1626274800000,0.0],[1626361200000,0.0],[1626447600000,0.0],[1626706800000,0.0],[1626793200000,0.0],[1626879600000,0.0],[1626966000000,0.0],[1627052400000,0.0],[1627311600000,0.0],[1627398000000,0.0],[1627484400000,0.0],[1627570800000,0.0],[1627657200000,0.0],[1627916400000,0.0],[1628002800000,0.0],[1628089200000,0.0],[1628175600000,0.0],[1628262000000,0.0],[1628521200000,0.0],[1628607600000,0.0],[1628694000000,0.0],[1628780400000,0.0],[1628866800000,0.0],[1629126000000,0.0],[1629212400000,0.0],[1629298800000,96.2414],[1629385200000,0.0],[1629471600000,0.0],[1629730800000,0.0],[1629817200000,0.0],[1629903600000,0.0],[1629990000000,0.0],[1630076400000,0.0],[1630335600000,0.0],[1630422000000,0.0],[1630508400000,0.0],[1630594800000,0.0],[1630681200000,0.0],[1630940400000,0.0],[1631026800000,0.0],[1631113200000,0.0],[1631199600000,0.0],[1631286000000,0.0],[1631545200000,0.0],[1631631600000,0.0],[1631718000000,0.0],[1631804400000,0.0],[1631890800000,0.0],[1632322800000,0.0],[1632409200000,0.0],[1632495600000,0.0],[1632754800000,0.0],[1632841200000,90.4936],[1632927600000,89.5472],[1633014000000,9.4698],[1633705200000,0.0],[1633964400000,0.0],[1634050800000,0.0],[1634137200000,97.4272],[1634223600000,0.0],[1634310000000,0.0],[1634569200000,0.0],[1634655600000,0.0],[1634742000000,0.0],[1634828400000,0.0],[1634914800000,0.0],[1635174000000,0.0],[1635260400000,0.0],[1635346800000,0.0],[1635433200000,92.2424],[1635519600000,0.0],[1635778800000,0.0],[1635865200000,0.0],[1635951600000,0.0],[1636038000000,0.0],[1636124400000,0.0],[1636383600000,0.0],[1636470000000,0.0],[1636556400000,0.0],[1636642800000,0.0],[1636729200000,0.0],[1636988400000,0.0],[1637074800000,0.0],[1637161200000,0.0],[1637247600000,0.0],[1637334000000,0.0],[1637593200000,0.0],[1637679600000,0.0],[1637766000000,0.0],[1637852400000,0.0],[1637938800000,0.0],[1638198000000,0.0],[1638284400000,0.0],[1638370800000,0.0],[1638457200000,0.0],[1638543600000,0.0],[1638802800000,0.0],[1638889200000,98.6913],[1638975600000,0.0],[1639062000000,0.0],[1639148400000,0.0],[1639407600000,0.0],[1639494000000,0.0],[1639580400000,0.0],[1639666800000,0.0],[1639753200000,0.0],[1640012400000,0.0],[1640098800000,0.0],[1640185200000,0.0],[1640271600000,0.0],[1640358000000,0.0],[1640617200000,93.0684],[1640703600000,0.0],[1640790000000,0.0],[1640876400000,0.0],[1640962800000,0.0],[1641308400000,0.0],[1641394800000,0.0],[1641481200000,0.0],[1641567600000,0.0],[1641826800000,0.0],[1641913200000,0.0],[1641999600000,0.0],[1642086000000,0.0],[1642172400000,0.0],[1642431600000,0.0],[1642518000000,0.0],[1642604400000,0.0],[1642690800000,0.0],[1642777200000,94.961],[1643036400000,0.0],[1643122800000,0.0],[1643209200000,94.7782],[1643295600000,0.0],[1643382000000,91.4956],[1644246000000,0.0],[1644332400000,0.0],[1644418800000,0.0],[1644505200000,0.0],[1644591600000,0.0],[1644850800000,94.6637],[1644937200000,0.0],[1645023600000,0.0],[1645110000000,0.0],[1645196400000,0.0],[1645455600000,0.0],[1645542000000,0.0],[1645628400000,99.3457]],\"color\":\"#66ff99\",\"tooltip\":{\"valueDecimals\":2,\"valueSuffix\":\" %\"}}],\"xAxis\":{\"type\":\"datetime\"},\"yAxis\":[{\"labels\":{\"align\":\"right\",\"x\":-3,\"format\":\"{value}%\"},\"title\":{\"text\":\"\\u51c0\\u503c\\u66f2\\u7ebf\"},\"top\":\"0%\",\"height\":\"76%\",\"offset\":0,\"lineWidth\":2,\"gridLineColor\":\"#cfcfcf\",\"gridLineWidth\":1},{\"labels\":{\"align\":\"right\",\"x\":-3,\"format\":\"{value}%\"},\"title\":{\"text\":\"\\u6301\\u4ed3\\u5360\\u6bd4\"},\"top\":\"80%\",\"height\":\"19%\",\"offset\":0,\"lineWidth\":2,\"gridLineColor\":\"#cfcfcf\",\"gridLineWidth\":1}],\"plotOptions\":{\"series\":{\"showInNavigator\":true},\"area\":{\"showInNavigator\":true}},\"rangeSelector\":{\"enabled\":true},\"navigator\":{\"enabled\":true}}/bigcharts-data-end</pre></div></div><div class='tab-pane' id='交易详情'><table id=\"bigchart-aaf1f31880fb4e388da77af03da539b2\" width=\"100%\" class=\"display bigchart\"></table><div class=\"bigchart-data\"><pre style=\"display:none\">bigcharts-data-start/{\"deferRender\":true,\"data\":[[\"2022-02-23\",\"09:30\",\"600053.SHA\",\"\\u4e5d\\u9f0e\\u6295\\u8d44\",\"\\u4e70\\u5165\",18900,18.0,340200.144,102.06],[\"\",\"\",\"\",\"\",\"\",\"\",\"\\uff081 \\u7b14\\u4ea4\\u6613\",\"\\u4e70\\u5165 \\uffe5340200.144\",\"\\u5356\\u51fa \\uffe50.0\\uff09\"],[\"2022-02-15\",\"15:00\",\"000999.SZA\",\"\\u534e\\u6da6\\u4e09\\u4e5d\",\"\\u5356\\u51fa\",8800,37.05,-326039.982,423.85],[\"\",\"\",\"\",\"\",\"\",\"\",\"\\uff081 \\u7b14\\u4ea4\\u6613\",\"\\u4e70\\u5165 \\uffe50.0\",\"\\u5356\\u51fa \\uffe5-326039.982\\uff09\"],[\"2022-02-14\",\"09:30\",\"000999.SZA\",\"\\u534e\\u6da6\\u4e09\\u4e5d\",\"\\u4e70\\u5165\",8800,34.0,299200.007,89.76],[\"\",\"\",\"\",\"\",\"\",\"\",\"\\uff081 \\u7b14\\u4ea4\\u6613\",\"\\u4e70\\u5165 \\uffe5299200.007\",\"\\u5356\\u51fa \\uffe50.0\\uff09\"],[\"2022-02-07\",\"15:00\",\"002516.SZA\",\"\\u65f7\\u8fbe\\u79d1\\u6280\",\"\\u5356\\u51fa\",46200,6.27,-289673.838,376.58],[\"\",\"\",\"\",\"\",\"\",\"\",\"\\uff081 \\u7b14\\u4ea4\\u6613\",\"\\u4e70\\u5165 \\uffe50.0\",\"\\u5356\\u51fa \\uffe5-289673.838\\uff09\"],[\"2022-01-28\",\"09:30\",\"002516.SZA\",\"\\u65f7\\u8fbe\\u79d1\\u6280\",\"\\u4e70\\u5165\",46200,5.59,258258.013,77.48],[\"\",\"\",\"\",\"\",\"\",\"\",\"\\uff081 \\u7b14\\u4ea4\\u6613\",\"\\u4e70\\u5165 \\uffe5258258.013\",\"\\u5356\\u51fa \\uffe50.0\\uff09\"],[\"2022-01-27\",\"15:00\",\"000798.SZA\",\"\\u4e2d\\u6c34\\u6e14\\u4e1a\",\"\\u5356\\u51fa\",42800,6.31,-270067.539,351.09],[\"\",\"\",\"\",\"\",\"\",\"\",\"\\uff081 \\u7b14\\u4ea4\\u6613\",\"\\u4e70\\u5165 \\uffe50.0\",\"\\u5356\\u51fa \\uffe5-270067.539\\uff09\"],[\"2022-01-26\",\"09:30\",\"000798.SZA\",\"\\u4e2d\\u6c34\\u6e14\\u4e1a\",\"\\u4e70\\u5165\",42800,6.95,297460.162,89.24],[\"\",\"\",\"\",\"\",\"\",\"\",\"\\uff081 \\u7b14\\u4ea4\\u6613\",\"\\u4e70\\u5165 \\uffe5297460.162\",\"\\u5356\\u51fa \\uffe50.0\\uff09\"],[\"2022-01-24\",\"15:00\",\"002813.SZA\",\"\\u8def\\u7545\\u79d1\\u6280\",\"\\u5356\\u51fa\",13100,22.77,-298286.667,387.77],[\"\",\"\",\"\",\"\",\"\",\"\",\"\\uff081 \\u7b14\\u4ea4\\u6613\",\"\\u4e70\\u5165 \\uffe50.0\",\"\\u5356\\u51fa \\uffe5-298286.667\\uff09\"],[\"2022-01-21\",\"09:30\",\"002813.SZA\",\"\\u8def\\u7545\\u79d1\\u6280\",\"\\u4e70\\u5165\",13100,22.0,288200.318,86.46],[\"\",\"\",\"\",\"\",\"\",\"\",\"\\uff081 \\u7b14\\u4ea4\\u6613\",\"\\u4e70\\u5165 \\uffe5288200.318\",\"\\u5356\\u51fa \\uffe50.0\\uff09\"],[\"2021-12-28\",\"15:00\",\"002623.SZA\",\"\\u4e9a\\u739b\\u987f\",\"\\u5356\\u51fa\",8200,34.53,-283145.829,368.09],[\"\",\"\",\"\",\"\",\"\",\"\",\"\\uff081 \\u7b14\\u4ea4\\u6613\",\"\\u4e70\\u5165 \\uffe50.0\",\"\\u5356\\u51fa \\uffe5-283145.829\\uff09\"],[\"2021-12-27\",\"09:30\",\"002623.SZA\",\"\\u4e9a\\u739b\\u987f\",\"\\u4e70\\u5165\",8200,35.14,288148.061,86.44],[\"\",\"\",\"\",\"\",\"\",\"\",\"\\uff081 \\u7b14\\u4ea4\\u6613\",\"\\u4e70\\u5165 \\uffe5288148.061\",\"\\u5356\\u51fa \\uffe50.0\\uff09\"],[\"2021-12-08\",\"15:00\",\"603178.SHA\",\"\\u5723\\u9f99\\u80a1\\u4efd\",\"\\u5356\\u51fa\",15300,19.98,-305693.986,397.4],[\"\",\"\",\"\",\"\",\"\",\"\",\"\\uff081 \\u7b14\\u4ea4\\u6613\",\"\\u4e70\\u5165 \\uffe50.0\",\"\\u5356\\u51fa \\uffe5-305693.986\\uff09\"],[\"2021-12-07\",\"09:30\",\"603178.SHA\",\"\\u5723\\u9f99\\u80a1\\u4efd\",\"\\u4e70\\u5165\",15300,16.35,250155.014,75.05],[\"\",\"\",\"\",\"\",\"\",\"\",\"\\uff081 \\u7b14\\u4ea4\\u6613\",\"\\u4e70\\u5165 \\uffe5250155.014\",\"\\u5356\\u51fa \\uffe50.0\\uff09\"],[\"2021-10-29\",\"15:00\",\"605089.SHA\",\"\\u5473\\u77e5\\u9999\",\"\\u5356\\u51fa\",3500,67.06,-234709.921,305.12],[\"\",\"\",\"\",\"\",\"\",\"\",\"\\uff081 \\u7b14\\u4ea4\\u6613\",\"\\u4e70\\u5165 \\uffe50.0\",\"\\u5356\\u51fa \\uffe5-234709.921\\uff09\"],[\"2021-10-28\",\"09:30\",\"605089.SHA\",\"\\u5473\\u77e5\\u9999\",\"\\u4e70\\u5165\",3500,66.5,232750.026,69.83],[\"\",\"\",\"\",\"\",\"\",\"\",\"\\uff081 \\u7b14\\u4ea4\\u6613\",\"\\u4e70\\u5165 \\uffe5232750.026\",\"\\u5356\\u51fa \\uffe50.0\\uff09\"],[\"2021-10-14\",\"15:00\",\"002961.SZA\",\"\\u745e\\u8fbe\\u671f\\u8d27\",\"\\u5356\\u51fa\",9800,25.15,-246469.853,320.41],[\"\",\"\",\"\",\"\",\"\",\"\",\"\\uff081 \\u7b14\\u4ea4\\u6613\",\"\\u4e70\\u5165 \\uffe50.0\",\"\\u5356\\u51fa \\uffe5-246469.853\\uff09\"],[\"2021-10-13\",\"09:30\",\"002961.SZA\",\"\\u745e\\u8fbe\\u671f\\u8d27\",\"\\u4e70\\u5165\",9800,23.38,229124.095,68.74],[\"\",\"\",\"\",\"\",\"\",\"\",\"\\uff081 \\u7b14\\u4ea4\\u6613\",\"\\u4e70\\u5165 \\uffe5229124.095\",\"\\u5356\\u51fa \\uffe50.0\\uff09\"],[\"2021-10-08\",\"15:00\",\"603619.SHA\",\"\\u4e2d\\u66fc\\u77f3\\u6cb9\",\"\\u5356\\u51fa\",1700,14.29,-24293.0,31.58],[\"\",\"\",\"\",\"\",\"\",\"\",\"\\uff081 \\u7b14\\u4ea4\\u6613\",\"\\u4e70\\u5165 \\uffe50.0\",\"\\u5356\\u51fa \\uffe5-24293.0\\uff09\"],[\"2021-09-30\",\"09:30\",\"603619.SHA\",\"\\u4e2d\\u66fc\\u77f3\\u6cb9\",\"\\u4e70\\u5165\",1700,12.75,21675.0,6.5],[\"\",\"15:00\",\"002136.SZA\",\"\\u5b89\\u7eb3\\u8fbe\",\"\\u5356\\u51fa\",10400,20.1,-209039.994,271.75],[\"\",\"\",\"\",\"\",\"\",\"\",\"\\uff082 \\u7b14\\u4ea4\\u6613\",\"\\u4e70\\u5165 \\uffe521675.0\",\"\\u5356\\u51fa \\uffe5-209039.994\\uff09\"],[\"2021-09-28\",\"09:30\",\"002136.SZA\",\"\\u5b89\\u7eb3\\u8fbe\",\"\\u4e70\\u5165\",10400,22.2,230880.002,69.26],[\"\",\"\",\"\",\"\",\"\",\"\",\"\\uff081 \\u7b14\\u4ea4\\u6613\",\"\\u4e70\\u5165 \\uffe5230880.002\",\"\\u5356\\u51fa \\uffe50.0\\uff09\"],[\"2021-08-19\",\"15:00\",\"600293.SHA\",\"\\u4e09\\u5ce1\\u65b0\\u6750\",\"\\u5356\\u51fa\",55500,4.43,-245864.97,319.62],[\"\",\"\",\"\",\"\",\"\",\"\",\"\\uff081 \\u7b14\\u4ea4\\u6613\",\"\\u4e70\\u5165 \\uffe50.0\",\"\\u5356\\u51fa \\uffe5-245864.97\\uff09\"],[\"2021-08-18\",\"09:30\",\"600293.SHA\",\"\\u4e09\\u5ce1\\u65b0\\u6750\",\"\\u4e70\\u5165\",55500,4.2,233100.011,69.93],[\"\",\"\",\"\",\"\",\"\",\"\",\"\\uff081 \\u7b14\\u4ea4\\u6613\",\"\\u4e70\\u5165 \\uffe5233100.011\",\"\\u5356\\u51fa \\uffe50.0\\uff09\"],[\"2021-03-11\",\"15:00\",\"603353.SHA\",\"\\u548c\\u987a\\u77f3\\u6cb9\",\"\\u5356\\u51fa\",6000,39.08,-234479.745,304.82],[\"\",\"\",\"\",\"\",\"\",\"\",\"\\uff081 \\u7b14\\u4ea4\\u6613\",\"\\u4e70\\u5165 \\uffe50.0\",\"\\u5356\\u51fa \\uffe5-234479.745\\uff09\"],[\"2021-03-10\",\"09:30\",\"603353.SHA\",\"\\u548c\\u987a\\u77f3\\u6cb9\",\"\\u4e70\\u5165\",6000,40.1,240600.145,72.18],[\"\",\"\",\"\",\"\",\"\",\"\",\"\\uff081 \\u7b14\\u4ea4\\u6613\",\"\\u4e70\\u5165 \\uffe5240600.145\",\"\\u5356\\u51fa \\uffe50.0\\uff09\"],[\"2020-07-28\",\"15:00\",\"603538.SHA\",\"\\u7f8e\\u8bfa\\u534e\",\"\\u5356\\u51fa\",5300,44.48,-235743.986,306.47],[\"\",\"\",\"\",\"\",\"\",\"\",\"\\uff081 \\u7b14\\u4ea4\\u6613\",\"\\u4e70\\u5165 \\uffe50.0\",\"\\u5356\\u51fa \\uffe5-235743.986\\uff09\"],[\"2020-07-27\",\"09:30\",\"603538.SHA\",\"\\u7f8e\\u8bfa\\u534e\",\"\\u4e70\\u5165\",5300,44.35,235055.017,70.52],[\"\",\"\",\"\",\"\",\"\",\"\",\"\\uff081 \\u7b14\\u4ea4\\u6613\",\"\\u4e70\\u5165 \\uffe5235055.017\",\"\\u5356\\u51fa \\uffe50.0\\uff09\"],[\"2020-07-20\",\"15:00\",\"002989.SZA\",\"\\u4e2d\\u5929\\u7cbe\\u88c5\",\"\\u5356\\u51fa\",4500,50.71,-228194.975,296.65],[\"\",\"\",\"\",\"\",\"\",\"\",\"\\uff081 \\u7b14\\u4ea4\\u6613\",\"\\u4e70\\u5165 \\uffe50.0\",\"\\u5356\\u51fa \\uffe5-228194.975\\uff09\"],[\"2020-07-17\",\"09:30\",\"002989.SZA\",\"\\u4e2d\\u5929\\u7cbe\\u88c5\",\"\\u4e70\\u5165\",4500,48.2,216900.014,65.07],[\"\",\"\",\"\",\"\",\"\",\"\",\"\\uff081 \\u7b14\\u4ea4\\u6613\",\"\\u4e70\\u5165 \\uffe5216900.014\",\"\\u5356\\u51fa \\uffe50.0\\uff09\"],[\"2020-03-03\",\"15:00\",\"600083.SHA\",\"\\u535a\\u4fe1\\u80a1\\u4efd\",\"\\u5356\\u51fa\",16200,14.03,-227285.992,295.47],[\"\",\"\",\"\",\"\",\"\",\"\",\"\\uff081 \\u7b14\\u4ea4\\u6613\",\"\\u4e70\\u5165 \\uffe50.0\",\"\\u5356\\u51fa \\uffe5-227285.992\\uff09\"],[\"2020-03-02\",\"09:30\",\"600083.SHA\",\"\\u535a\\u4fe1\\u80a1\\u4efd\",\"\\u4e70\\u5165\",16200,13.0,210600.003,63.18],[\"\",\"\",\"\",\"\",\"\",\"\",\"\\uff081 \\u7b14\\u4ea4\\u6613\",\"\\u4e70\\u5165 \\uffe5210600.003\",\"\\u5356\\u51fa \\uffe50.0\\uff09\"],[\"2020-02-05\",\"15:00\",\"603268.SHA\",\"\\u677e\\u53d1\\u80a1\\u4efd\",\"\\u5356\\u51fa\",13400,15.13,-202741.522,263.56],[\"\",\"\",\"\",\"\",\"\",\"\",\"\\uff081 \\u7b14\\u4ea4\\u6613\",\"\\u4e70\\u5165 \\uffe50.0\",\"\\u5356\\u51fa \\uffe5-202741.522\\uff09\"],[\"2020-02-04\",\"09:30\",\"603268.SHA\",\"\\u677e\\u53d1\\u80a1\\u4efd\",\"\\u4e70\\u5165\",13400,13.5,180900.296,54.27],[\"\",\"\",\"\",\"\",\"\",\"\",\"\\uff081 \\u7b14\\u4ea4\\u6613\",\"\\u4e70\\u5165 \\uffe5180900.296\",\"\\u5356\\u51fa \\uffe50.0\\uff09\"]],\"columns\":[{\"title\":\"\\u65e5\\u671f\",\"orderable\":false},{\"title\":\"\\u65f6\\u95f4\",\"orderable\":false},{\"title\":\"\\u80a1\\u7968\\u4ee3\\u7801\",\"orderable\":false},{\"title\":\"\\u80a1\\u7968\\u540d\\u79f0\",\"orderable\":false},{\"title\":\"\\u4e70\\/\\u5356\",\"orderable\":false},{\"title\":\"\\u6570\\u91cf\",\"orderable\":false},{\"title\":\"\\u6210\\u4ea4\\u4ef7\",\"orderable\":false},{\"title\":\"\\u603b\\u6210\\u672c\",\"orderable\":false},{\"title\":\"\\u4ea4\\u6613\\u4f63\\u91d1\",\"orderable\":false}],\"searching\":false,\"info\":false,\"pageLength\":20,\"lengthChange\":false,\"order\":[],\"__type\":\"datatable\",\"__id\":\"bigchart-aaf1f31880fb4e388da77af03da539b2\",\"language\":{\"sProcessing\":\"\\u5904\\u7406\\u4e2d...\",\"sLengthMenu\":\"\\u663e\\u793a _MENU_ \\u9879\\u7ed3\\u679c\",\"sZeroRecords\":\"\\u6ca1\\u6709\\u5339\\u914d\\u7ed3\\u679c\",\"sInfo\":\"\\u663e\\u793a\\u7b2c _START_ \\u81f3 _END_ \\u9879\\u7ed3\\u679c\\uff0c\\u5171 _TOTAL_ \\u9879\",\"sInfoEmpty\":\"\\u663e\\u793a\\u7b2c 0 \\u81f3 0 \\u9879\\u7ed3\\u679c\\uff0c\\u5171 0 \\u9879\",\"sInfoFiltered\":\"(\\u7531 _MAX_ \\u9879\\u7ed3\\u679c\\u8fc7\\u6ee4)\",\"sInfoPostFix\":\"\",\"sSearch\":\"\\u641c\\u7d22:\",\"sUrl\":\"\",\"sEmptyTable\":\"\\u8868\\u4e2d\\u6570\\u636e\\u4e3a\\u7a7a\",\"sLoadingRecords\":\"\\u8f7d\\u5165\\u4e2d...\",\"sInfoThousands\":\",\",\"oPaginate\":{\"sFirst\":\"\\u9996\\u9875\",\"sPrevious\":\"\\u4e0a\\u9875\",\"sNext\":\"\\u4e0b\\u9875\",\"sLast\":\"\\u672b\\u9875\"}},\"hasWholeData\":true}/bigcharts-data-end</pre></div></div><div class='tab-pane' id='每日持仓和收益'><table id=\"bigchart-a28cc8a913924de0a583a684407d7148\" width=\"100%\" class=\"display bigchart\"></table><div class=\"bigchart-data\"><pre style=\"display:none\">bigcharts-data-start/{\"deferRender\":true,\"data\":[[\"2022-02-23\",\"600053.SHA\",\"\\u4e5d\\u9f0e\\u6295\\u8d44\",18.0,\"18.390\",18900,347570.988,7370.844],[\"\",\"\",\"\\uff08\\u603b\\u8d44\\u4ea7\\uffe5349860.248\",\"\\u5269\\u4f59\\u91d1\\u989d\\uffe52289.259\",\"\\u5f53\\u65e5\\u4ea4\\u6613\\u4f63\\u91d1\\uffe5102.06\\uff09\",\"\\uffe5347570.988\",\"\\uffe57370.844\",null],[\"2022-02-22\",\"--\",\"--\",\"--\",\"--\",\"--\",\"--\",\"--\"],[\"\",\"\",\"\\uff08\\u603b\\u8d44\\u4ea7\\uffe5342591.463\",\"\\u5269\\u4f59\\u91d1\\u989d\\uffe5342591.463\",\"\\u5f53\\u65e5\\u4ea4\\u6613\\u4f63\\u91d1\\uffe50.0\\uff09\",\"\\uffe50.0\",\"\\uffe50.0\",null],[\"2022-02-21\",\"--\",\"--\",\"--\",\"--\",\"--\",\"--\",\"--\"],[\"\",\"\",\"\\uff08\\u603b\\u8d44\\u4ea7\\uffe5342591.463\",\"\\u5269\\u4f59\\u91d1\\u989d\\uffe5342591.463\",\"\\u5f53\\u65e5\\u4ea4\\u6613\\u4f63\\u91d1\\uffe50.0\\uff09\",\"\\uffe50.0\",\"\\uffe50.0\",null],[\"2022-02-18\",\"--\",\"--\",\"--\",\"--\",\"--\",\"--\",\"--\"],[\"\",\"\",\"\\uff08\\u603b\\u8d44\\u4ea7\\uffe5342591.463\",\"\\u5269\\u4f59\\u91d1\\u989d\\uffe5342591.463\",\"\\u5f53\\u65e5\\u4ea4\\u6613\\u4f63\\u91d1\\uffe50.0\\uff09\",\"\\uffe50.0\",\"\\uffe50.0\",null],[\"2022-02-17\",\"--\",\"--\",\"--\",\"--\",\"--\",\"--\",\"--\"],[\"\",\"\",\"\\uff08\\u603b\\u8d44\\u4ea7\\uffe5342591.463\",\"\\u5269\\u4f59\\u91d1\\u989d\\uffe5342591.463\",\"\\u5f53\\u65e5\\u4ea4\\u6613\\u4f63\\u91d1\\uffe50.0\\uff09\",\"\\uffe50.0\",\"\\uffe50.0\",null],[\"2022-02-16\",\"--\",\"--\",\"--\",\"--\",\"--\",\"--\",\"--\"],[\"\",\"\",\"\\uff08\\u603b\\u8d44\\u4ea7\\uffe5342591.463\",\"\\u5269\\u4f59\\u91d1\\u989d\\uffe5342591.463\",\"\\u5f53\\u65e5\\u4ea4\\u6613\\u4f63\\u91d1\\uffe50.0\\uff09\",\"\\uffe50.0\",\"\\uffe50.0\",null],[\"2022-02-15\",\"--\",\"--\",\"--\",\"--\",\"--\",\"--\",\"--\"],[\"\",\"\",\"\\uff08\\u603b\\u8d44\\u4ea7\\uffe5342591.463\",\"\\u5269\\u4f59\\u91d1\\u989d\\uffe5342591.463\",\"\\u5f53\\u65e5\\u4ea4\\u6613\\u4f63\\u91d1\\uffe5423.85\\uff09\",\"\\uffe50.0\",\"\\uffe50.0\",null],[\"2022-02-14\",\"000999.SZA\",\"\\u534e\\u6da6\\u4e09\\u4e5d\",34.0,\"34.220\",8800,301136.011,1936.003],[\"\",\"\",\"\\uff08\\u603b\\u8d44\\u4ea7\\uffe5318111.344\",\"\\u5269\\u4f59\\u91d1\\u989d\\uffe516975.334\",\"\\u5f53\\u65e5\\u4ea4\\u6613\\u4f63\\u91d1\\uffe589.76\\uff09\",\"\\uffe5301136.011\",\"\\uffe51936.003\",null],[\"2022-02-11\",\"--\",\"--\",\"--\",\"--\",\"--\",\"--\",\"--\"],[\"\",\"\",\"\\uff08\\u603b\\u8d44\\u4ea7\\uffe5316265.101\",\"\\u5269\\u4f59\\u91d1\\u989d\\uffe5316265.101\",\"\\u5f53\\u65e5\\u4ea4\\u6613\\u4f63\\u91d1\\uffe50.0\\uff09\",\"\\uffe50.0\",\"\\uffe50.0\",null],[\"2022-02-10\",\"--\",\"--\",\"--\",\"--\",\"--\",\"--\",\"--\"],[\"\",\"\",\"\\uff08\\u603b\\u8d44\\u4ea7\\uffe5316265.101\",\"\\u5269\\u4f59\\u91d1\\u989d\\uffe5316265.101\",\"\\u5f53\\u65e5\\u4ea4\\u6613\\u4f63\\u91d1\\uffe50.0\\uff09\",\"\\uffe50.0\",\"\\uffe50.0\",null],[\"2022-02-09\",\"--\",\"--\",\"--\",\"--\",\"--\",\"--\",\"--\"],[\"\",\"\",\"\\uff08\\u603b\\u8d44\\u4ea7\\uffe5316265.101\",\"\\u5269\\u4f59\\u91d1\\u989d\\uffe5316265.101\",\"\\u5f53\\u65e5\\u4ea4\\u6613\\u4f63\\u91d1\\uffe50.0\\uff09\",\"\\uffe50.0\",\"\\uffe50.0\",null],[\"2022-02-08\",\"--\",\"--\",\"--\",\"--\",\"--\",\"--\",\"--\"],[\"\",\"\",\"\\uff08\\u603b\\u8d44\\u4ea7\\uffe5316265.101\",\"\\u5269\\u4f59\\u91d1\\u989d\\uffe5316265.101\",\"\\u5f53\\u65e5\\u4ea4\\u6613\\u4f63\\u91d1\\uffe50.0\\uff09\",\"\\uffe50.0\",\"\\uffe50.0\",null],[\"2022-02-07\",\"--\",\"--\",\"--\",\"--\",\"--\",\"--\",\"--\"],[\"\",\"\",\"\\uff08\\u603b\\u8d44\\u4ea7\\uffe5316265.101\",\"\\u5269\\u4f59\\u91d1\\u989d\\uffe5316265.101\",\"\\u5f53\\u65e5\\u4ea4\\u6613\\u4f63\\u91d1\\uffe5376.58\\uff09\",\"\\uffe50.0\",\"\\uffe50.0\",null],[\"2022-01-28\",\"002516.SZA\",\"\\u65f7\\u8fbe\\u79d1\\u6280\",5.59,\"6.280\",46200,290135.988,31877.975],[\"\",\"\",\"\\uff08\\u603b\\u8d44\\u4ea7\\uffe5317103.827\",\"\\u5269\\u4f59\\u91d1\\u989d\\uffe526967.839\",\"\\u5f53\\u65e5\\u4ea4\\u6613\\u4f63\\u91d1\\uffe577.48\\uff09\",\"\\uffe5290135.988\",\"\\uffe531877.975\",null],[\"2022-01-27\",\"--\",\"--\",\"--\",\"--\",\"--\",\"--\",\"--\"],[\"\",\"\",\"\\uff08\\u603b\\u8d44\\u4ea7\\uffe5285303.329\",\"\\u5269\\u4f59\\u91d1\\u989d\\uffe5285303.329\",\"\\u5f53\\u65e5\\u4ea4\\u6613\\u4f63\\u91d1\\uffe5351.09\\uff09\",\"\\uffe50.0\",\"\\uffe50.0\",null],[\"2022-01-26\",\"000798.SZA\",\"\\u4e2d\\u6c34\\u6e14\\u4e1a\",6.95,\"6.610\",42800,282907.985,-14552.177],[\"\",\"\",\"\\uff08\\u603b\\u8d44\\u4ea7\\uffe5298494.863\",\"\\u5269\\u4f59\\u91d1\\u989d\\uffe515586.878\",\"\\u5f53\\u65e5\\u4ea4\\u6613\\u4f63\\u91d1\\uffe589.24\\uff09\",\"\\uffe5282907.985\",\"\\uffe5-14552.177\",null],[\"2022-01-25\",\"--\",\"--\",\"--\",\"--\",\"--\",\"--\",\"--\"],[\"\",\"\",\"\\uff08\\u603b\\u8d44\\u4ea7\\uffe5313136.278\",\"\\u5269\\u4f59\\u91d1\\u989d\\uffe5313136.278\",\"\\u5f53\\u65e5\\u4ea4\\u6613\\u4f63\\u91d1\\uffe50.0\\uff09\",\"\\uffe50.0\",\"\\uffe50.0\",null],[\"2022-01-24\",\"--\",\"--\",\"--\",\"--\",\"--\",\"--\",\"--\"],[\"\",\"\",\"\\uff08\\u603b\\u8d44\\u4ea7\\uffe5313136.278\",\"\\u5269\\u4f59\\u91d1\\u989d\\uffe5313136.278\",\"\\u5f53\\u65e5\\u4ea4\\u6613\\u4f63\\u91d1\\uffe5387.77\\uff09\",\"\\uffe50.0\",\"\\uffe50.0\",null],[\"2022-01-21\",\"002813.SZA\",\"\\u8def\\u7545\\u79d1\\u6280\",22.0,\"21.920\",13100,287152.001,-1048.317],[\"\",\"\",\"\\uff08\\u603b\\u8d44\\u4ea7\\uffe5302389.385\",\"\\u5269\\u4f59\\u91d1\\u989d\\uffe515237.384\",\"\\u5f53\\u65e5\\u4ea4\\u6613\\u4f63\\u91d1\\uffe586.46\\uff09\",\"\\uffe5287152.001\",\"\\uffe5-1048.317\",null],[\"2022-01-20\",\"--\",\"--\",\"--\",\"--\",\"--\",\"--\",\"--\"],[\"\",\"\",\"\\uff08\\u603b\\u8d44\\u4ea7\\uffe5303524.161\",\"\\u5269\\u4f59\\u91d1\\u989d\\uffe5303524.161\",\"\\u5f53\\u65e5\\u4ea4\\u6613\\u4f63\\u91d1\\uffe50.0\\uff09\",\"\\uffe50.0\",\"\\uffe50.0\",null],[\"2022-01-19\",\"--\",\"--\",\"--\",\"--\",\"--\",\"--\",\"--\"],[\"\",\"\",\"\\uff08\\u603b\\u8d44\\u4ea7\\uffe5303524.161\",\"\\u5269\\u4f59\\u91d1\\u989d\\uffe5303524.161\",\"\\u5f53\\u65e5\\u4ea4\\u6613\\u4f63\\u91d1\\uffe50.0\\uff09\",\"\\uffe50.0\",\"\\uffe50.0\",null],[\"2022-01-18\",\"--\",\"--\",\"--\",\"--\",\"--\",\"--\",\"--\"],[\"\",\"\",\"\\uff08\\u603b\\u8d44\\u4ea7\\uffe5303524.161\",\"\\u5269\\u4f59\\u91d1\\u989d\\uffe5303524.161\",\"\\u5f53\\u65e5\\u4ea4\\u6613\\u4f63\\u91d1\\uffe50.0\\uff09\",\"\\uffe50.0\",\"\\uffe50.0\",null],[\"2022-01-17\",\"--\",\"--\",\"--\",\"--\",\"--\",\"--\",\"--\"],[\"\",\"\",\"\\uff08\\u603b\\u8d44\\u4ea7\\uffe5303524.161\",\"\\u5269\\u4f59\\u91d1\\u989d\\uffe5303524.161\",\"\\u5f53\\u65e5\\u4ea4\\u6613\\u4f63\\u91d1\\uffe50.0\\uff09\",\"\\uffe50.0\",\"\\uffe50.0\",null],[\"2022-01-14\",\"--\",\"--\",\"--\",\"--\",\"--\",\"--\",\"--\"],[\"\",\"\",\"\\uff08\\u603b\\u8d44\\u4ea7\\uffe5303524.161\",\"\\u5269\\u4f59\\u91d1\\u989d\\uffe5303524.161\",\"\\u5f53\\u65e5\\u4ea4\\u6613\\u4f63\\u91d1\\uffe50.0\\uff09\",\"\\uffe50.0\",\"\\uffe50.0\",null],[\"2022-01-13\",\"--\",\"--\",\"--\",\"--\",\"--\",\"--\",\"--\"],[\"\",\"\",\"\\uff08\\u603b\\u8d44\\u4ea7\\uffe5303524.161\",\"\\u5269\\u4f59\\u91d1\\u989d\\uffe5303524.161\",\"\\u5f53\\u65e5\\u4ea4\\u6613\\u4f63\\u91d1\\uffe50.0\\uff09\",\"\\uffe50.0\",\"\\uffe50.0\",null],[\"2022-01-12\",\"--\",\"--\",\"--\",\"--\",\"--\",\"--\",\"--\"],[\"\",\"\",\"\\uff08\\u603b\\u8d44\\u4ea7\\uffe5303524.161\",\"\\u5269\\u4f59\\u91d1\\u989d\\uffe5303524.161\",\"\\u5f53\\u65e5\\u4ea4\\u6613\\u4f63\\u91d1\\uffe50.0\\uff09\",\"\\uffe50.0\",\"\\uffe50.0\",null],[\"2022-01-11\",\"--\",\"--\",\"--\",\"--\",\"--\",\"--\",\"--\"],[\"\",\"\",\"\\uff08\\u603b\\u8d44\\u4ea7\\uffe5303524.161\",\"\\u5269\\u4f59\\u91d1\\u989d\\uffe5303524.161\",\"\\u5f53\\u65e5\\u4ea4\\u6613\\u4f63\\u91d1\\uffe50.0\\uff09\",\"\\uffe50.0\",\"\\uffe50.0\",null],[\"2022-01-10\",\"--\",\"--\",\"--\",\"--\",\"--\",\"--\",\"--\"],[\"\",\"\",\"\\uff08\\u603b\\u8d44\\u4ea7\\uffe5303524.161\",\"\\u5269\\u4f59\\u91d1\\u989d\\uffe5303524.161\",\"\\u5f53\\u65e5\\u4ea4\\u6613\\u4f63\\u91d1\\uffe50.0\\uff09\",\"\\uffe50.0\",\"\\uffe50.0\",null],[\"2022-01-07\",\"--\",\"--\",\"--\",\"--\",\"--\",\"--\",\"--\"],[\"\",\"\",\"\\uff08\\u603b\\u8d44\\u4ea7\\uffe5303524.161\",\"\\u5269\\u4f59\\u91d1\\u989d\\uffe5303524.161\",\"\\u5f53\\u65e5\\u4ea4\\u6613\\u4f63\\u91d1\\uffe50.0\\uff09\",\"\\uffe50.0\",\"\\uffe50.0\",null],[\"2022-01-06\",\"--\",\"--\",\"--\",\"--\",\"--\",\"--\",\"--\"],[\"\",\"\",\"\\uff08\\u603b\\u8d44\\u4ea7\\uffe5303524.161\",\"\\u5269\\u4f59\\u91d1\\u989d\\uffe5303524.161\",\"\\u5f53\\u65e5\\u4ea4\\u6613\\u4f63\\u91d1\\uffe50.0\\uff09\",\"\\uffe50.0\",\"\\uffe50.0\",null],[\"2022-01-05\",\"--\",\"--\",\"--\",\"--\",\"--\",\"--\",\"--\"],[\"\",\"\",\"\\uff08\\u603b\\u8d44\\u4ea7\\uffe5303524.161\",\"\\u5269\\u4f59\\u91d1\\u989d\\uffe5303524.161\",\"\\u5f53\\u65e5\\u4ea4\\u6613\\u4f63\\u91d1\\uffe50.0\\uff09\",\"\\uffe50.0\",\"\\uffe50.0\",null],[\"2022-01-04\",\"--\",\"--\",\"--\",\"--\",\"--\",\"--\",\"--\"],[\"\",\"\",\"\\uff08\\u603b\\u8d44\\u4ea7\\uffe5303524.161\",\"\\u5269\\u4f59\\u91d1\\u989d\\uffe5303524.161\",\"\\u5f53\\u65e5\\u4ea4\\u6613\\u4f63\\u91d1\\uffe50.0\\uff09\",\"\\uffe50.0\",\"\\uffe50.0\",null],[\"2021-12-31\",\"--\",\"--\",\"--\",\"--\",\"--\",\"--\",\"--\"],[\"\",\"\",\"\\uff08\\u603b\\u8d44\\u4ea7\\uffe5303524.161\",\"\\u5269\\u4f59\\u91d1\\u989d\\uffe5303524.161\",\"\\u5f53\\u65e5\\u4ea4\\u6613\\u4f63\\u91d1\\uffe50.0\\uff09\",\"\\uffe50.0\",\"\\uffe50.0\",null],[\"2021-12-30\",\"--\",\"--\",\"--\",\"--\",\"--\",\"--\",\"--\"],[\"\",\"\",\"\\uff08\\u603b\\u8d44\\u4ea7\\uffe5303524.161\",\"\\u5269\\u4f59\\u91d1\\u989d\\uffe5303524.161\",\"\\u5f53\\u65e5\\u4ea4\\u6613\\u4f63\\u91d1\\uffe50.0\\uff09\",\"\\uffe50.0\",\"\\uffe50.0\",null],[\"2021-12-29\",\"--\",\"--\",\"--\",\"--\",\"--\",\"--\",\"--\"],[\"\",\"\",\"\\uff08\\u603b\\u8d44\\u4ea7\\uffe5303524.161\",\"\\u5269\\u4f59\\u91d1\\u989d\\uffe5303524.161\",\"\\u5f53\\u65e5\\u4ea4\\u6613\\u4f63\\u91d1\\uffe50.0\\uff09\",\"\\uffe50.0\",\"\\uffe50.0\",null],[\"2021-12-28\",\"--\",\"--\",\"--\",\"--\",\"--\",\"--\",\"--\"],[\"\",\"\",\"\\uff08\\u603b\\u8d44\\u4ea7\\uffe5303524.161\",\"\\u5269\\u4f59\\u91d1\\u989d\\uffe5303524.161\",\"\\u5f53\\u65e5\\u4ea4\\u6613\\u4f63\\u91d1\\uffe5368.09\\uff09\",\"\\uffe50.0\",\"\\uffe50.0\",null],[\"2021-12-27\",\"002623.SZA\",\"\\u4e9a\\u739b\\u987f\",35.14,\"33.970\",8200,278554.01,-9594.051],[\"\",\"\",\"\\uff08\\u603b\\u8d44\\u4ea7\\uffe5299300.432\",\"\\u5269\\u4f59\\u91d1\\u989d\\uffe520746.422\",\"\\u5f53\\u65e5\\u4ea4\\u6613\\u4f63\\u91d1\\uffe586.44\\uff09\",\"\\uffe5278554.01\",\"\\uffe5-9594.051\",null],[\"2021-12-24\",\"--\",\"--\",\"--\",\"--\",\"--\",\"--\",\"--\"],[\"\",\"\",\"\\uff08\\u603b\\u8d44\\u4ea7\\uffe5308980.927\",\"\\u5269\\u4f59\\u91d1\\u989d\\uffe5308980.927\",\"\\u5f53\\u65e5\\u4ea4\\u6613\\u4f63\\u91d1\\uffe50.0\\uff09\",\"\\uffe50.0\",\"\\uffe50.0\",null],[\"2021-12-23\",\"--\",\"--\",\"--\",\"--\",\"--\",\"--\",\"--\"],[\"\",\"\",\"\\uff08\\u603b\\u8d44\\u4ea7\\uffe5308980.927\",\"\\u5269\\u4f59\\u91d1\\u989d\\uffe5308980.927\",\"\\u5f53\\u65e5\\u4ea4\\u6613\\u4f63\\u91d1\\uffe50.0\\uff09\",\"\\uffe50.0\",\"\\uffe50.0\",null],[\"2021-12-22\",\"--\",\"--\",\"--\",\"--\",\"--\",\"--\",\"--\"],[\"\",\"\",\"\\uff08\\u603b\\u8d44\\u4ea7\\uffe5308980.927\",\"\\u5269\\u4f59\\u91d1\\u989d\\uffe5308980.927\",\"\\u5f53\\u65e5\\u4ea4\\u6613\\u4f63\\u91d1\\uffe50.0\\uff09\",\"\\uffe50.0\",\"\\uffe50.0\",null],[\"2021-12-21\",\"--\",\"--\",\"--\",\"--\",\"--\",\"--\",\"--\"],[\"\",\"\",\"\\uff08\\u603b\\u8d44\\u4ea7\\uffe5308980.927\",\"\\u5269\\u4f59\\u91d1\\u989d\\uffe5308980.927\",\"\\u5f53\\u65e5\\u4ea4\\u6613\\u4f63\\u91d1\\uffe50.0\\uff09\",\"\\uffe50.0\",\"\\uffe50.0\",null],[\"2021-12-20\",\"--\",\"--\",\"--\",\"--\",\"--\",\"--\",\"--\"],[\"\",\"\",\"\\uff08\\u603b\\u8d44\\u4ea7\\uffe5308980.927\",\"\\u5269\\u4f59\\u91d1\\u989d\\uffe5308980.927\",\"\\u5f53\\u65e5\\u4ea4\\u6613\\u4f63\\u91d1\\uffe50.0\\uff09\",\"\\uffe50.0\",\"\\uffe50.0\",null],[\"2021-12-17\",\"--\",\"--\",\"--\",\"--\",\"--\",\"--\",\"--\"],[\"\",\"\",\"\\uff08\\u603b\\u8d44\\u4ea7\\uffe5308980.927\",\"\\u5269\\u4f59\\u91d1\\u989d\\uffe5308980.927\",\"\\u5f53\\u65e5\\u4ea4\\u6613\\u4f63\\u91d1\\uffe50.0\\uff09\",\"\\uffe50.0\",\"\\uffe50.0\",null],[\"2021-12-16\",\"--\",\"--\",\"--\",\"--\",\"--\",\"--\",\"--\"],[\"\",\"\",\"\\uff08\\u603b\\u8d44\\u4ea7\\uffe5308980.927\",\"\\u5269\\u4f59\\u91d1\\u989d\\uffe5308980.927\",\"\\u5f53\\u65e5\\u4ea4\\u6613\\u4f63\\u91d1\\uffe50.0\\uff09\",\"\\uffe50.0\",\"\\uffe50.0\",null],[\"2021-12-15\",\"--\",\"--\",\"--\",\"--\",\"--\",\"--\",\"--\"],[\"\",\"\",\"\\uff08\\u603b\\u8d44\\u4ea7\\uffe5308980.927\",\"\\u5269\\u4f59\\u91d1\\u989d\\uffe5308980.927\",\"\\u5f53\\u65e5\\u4ea4\\u6613\\u4f63\\u91d1\\uffe50.0\\uff09\",\"\\uffe50.0\",\"\\uffe50.0\",null],[\"2021-12-14\",\"--\",\"--\",\"--\",\"--\",\"--\",\"--\",\"--\"],[\"\",\"\",\"\\uff08\\u603b\\u8d44\\u4ea7\\uffe5308980.927\",\"\\u5269\\u4f59\\u91d1\\u989d\\uffe5308980.927\",\"\\u5f53\\u65e5\\u4ea4\\u6613\\u4f63\\u91d1\\uffe50.0\\uff09\",\"\\uffe50.0\",\"\\uffe50.0\",null],[\"2021-12-13\",\"--\",\"--\",\"--\",\"--\",\"--\",\"--\",\"--\"],[\"\",\"\",\"\\uff08\\u603b\\u8d44\\u4ea7\\uffe5308980.927\",\"\\u5269\\u4f59\\u91d1\\u989d\\uffe5308980.927\",\"\\u5f53\\u65e5\\u4ea4\\u6613\\u4f63\\u91d1\\uffe50.0\\uff09\",\"\\uffe50.0\",\"\\uffe50.0\",null],[\"2021-12-10\",\"--\",\"--\",\"--\",\"--\",\"--\",\"--\",\"--\"],[\"\",\"\",\"\\uff08\\u603b\\u8d44\\u4ea7\\uffe5308980.927\",\"\\u5269\\u4f59\\u91d1\\u989d\\uffe5308980.927\",\"\\u5f53\\u65e5\\u4ea4\\u6613\\u4f63\\u91d1\\uffe50.0\\uff09\",\"\\uffe50.0\",\"\\uffe50.0\",null],[\"2021-12-09\",\"--\",\"--\",\"--\",\"--\",\"--\",\"--\",\"--\"],[\"\",\"\",\"\\uff08\\u603b\\u8d44\\u4ea7\\uffe5308980.927\",\"\\u5269\\u4f59\\u91d1\\u989d\\uffe5308980.927\",\"\\u5f53\\u65e5\\u4ea4\\u6613\\u4f63\\u91d1\\uffe50.0\\uff09\",\"\\uffe50.0\",\"\\uffe50.0\",null],[\"2021-12-08\",\"--\",\"--\",\"--\",\"--\",\"--\",\"--\",\"--\"],[\"\",\"\",\"\\uff08\\u603b\\u8d44\\u4ea7\\uffe5308980.927\",\"\\u5269\\u4f59\\u91d1\\u989d\\uffe5308980.927\",\"\\u5f53\\u65e5\\u4ea4\\u6613\\u4f63\\u91d1\\uffe5397.4\\uff09\",\"\\uffe50.0\",\"\\uffe50.0\",null],[\"2021-12-07\",\"603178.SHA\",\"\\u5723\\u9f99\\u80a1\\u4efd\",16.35,\"18.160\",15300,277847.998,27692.983],[\"\",\"\",\"\\uff08\\u603b\\u8d44\\u4ea7\\uffe5281532.341\",\"\\u5269\\u4f59\\u91d1\\u989d\\uffe53684.343\",\"\\u5f53\\u65e5\\u4ea4\\u6613\\u4f63\\u91d1\\uffe575.05\\uff09\",\"\\uffe5277847.998\",\"\\uffe527692.983\",null],[\"2021-12-06\",\"--\",\"--\",\"--\",\"--\",\"--\",\"--\",\"--\"],[\"\",\"\",\"\\uff08\\u603b\\u8d44\\u4ea7\\uffe5253914.404\",\"\\u5269\\u4f59\\u91d1\\u989d\\uffe5253914.404\",\"\\u5f53\\u65e5\\u4ea4\\u6613\\u4f63\\u91d1\\uffe50.0\\uff09\",\"\\uffe50.0\",\"\\uffe50.0\",null],[\"2021-12-03\",\"--\",\"--\",\"--\",\"--\",\"--\",\"--\",\"--\"],[\"\",\"\",\"\\uff08\\u603b\\u8d44\\u4ea7\\uffe5253914.404\",\"\\u5269\\u4f59\\u91d1\\u989d\\uffe5253914.404\",\"\\u5f53\\u65e5\\u4ea4\\u6613\\u4f63\\u91d1\\uffe50.0\\uff09\",\"\\uffe50.0\",\"\\uffe50.0\",null],[\"2021-12-02\",\"--\",\"--\",\"--\",\"--\",\"--\",\"--\",\"--\"],[\"\",\"\",\"\\uff08\\u603b\\u8d44\\u4ea7\\uffe5253914.404\",\"\\u5269\\u4f59\\u91d1\\u989d\\uffe5253914.404\",\"\\u5f53\\u65e5\\u4ea4\\u6613\\u4f63\\u91d1\\uffe50.0\\uff09\",\"\\uffe50.0\",\"\\uffe50.0\",null],[\"2021-12-01\",\"--\",\"--\",\"--\",\"--\",\"--\",\"--\",\"--\"],[\"\",\"\",\"\\uff08\\u603b\\u8d44\\u4ea7\\uffe5253914.404\",\"\\u5269\\u4f59\\u91d1\\u989d\\uffe5253914.404\",\"\\u5f53\\u65e5\\u4ea4\\u6613\\u4f63\\u91d1\\uffe50.0\\uff09\",\"\\uffe50.0\",\"\\uffe50.0\",null],[\"2021-11-30\",\"--\",\"--\",\"--\",\"--\",\"--\",\"--\",\"--\"],[\"\",\"\",\"\\uff08\\u603b\\u8d44\\u4ea7\\uffe5253914.404\",\"\\u5269\\u4f59\\u91d1\\u989d\\uffe5253914.404\",\"\\u5f53\\u65e5\\u4ea4\\u6613\\u4f63\\u91d1\\uffe50.0\\uff09\",\"\\uffe50.0\",\"\\uffe50.0\",null],[\"2021-11-29\",\"--\",\"--\",\"--\",\"--\",\"--\",\"--\",\"--\"],[\"\",\"\",\"\\uff08\\u603b\\u8d44\\u4ea7\\uffe5253914.404\",\"\\u5269\\u4f59\\u91d1\\u989d\\uffe5253914.404\",\"\\u5f53\\u65e5\\u4ea4\\u6613\\u4f63\\u91d1\\uffe50.0\\uff09\",\"\\uffe50.0\",\"\\uffe50.0\",null],[\"2021-11-26\",\"--\",\"--\",\"--\",\"--\",\"--\",\"--\",\"--\"],[\"\",\"\",\"\\uff08\\u603b\\u8d44\\u4ea7\\uffe5253914.404\",\"\\u5269\\u4f59\\u91d1\\u989d\\uffe5253914.404\",\"\\u5f53\\u65e5\\u4ea4\\u6613\\u4f63\\u91d1\\uffe50.0\\uff09\",\"\\uffe50.0\",\"\\uffe50.0\",null],[\"2021-11-25\",\"--\",\"--\",\"--\",\"--\",\"--\",\"--\",\"--\"],[\"\",\"\",\"\\uff08\\u603b\\u8d44\\u4ea7\\uffe5253914.404\",\"\\u5269\\u4f59\\u91d1\\u989d\\uffe5253914.404\",\"\\u5f53\\u65e5\\u4ea4\\u6613\\u4f63\\u91d1\\uffe50.0\\uff09\",\"\\uffe50.0\",\"\\uffe50.0\",null],[\"2021-11-24\",\"--\",\"--\",\"--\",\"--\",\"--\",\"--\",\"--\"],[\"\",\"\",\"\\uff08\\u603b\\u8d44\\u4ea7\\uffe5253914.404\",\"\\u5269\\u4f59\\u91d1\\u989d\\uffe5253914.404\",\"\\u5f53\\u65e5\\u4ea4\\u6613\\u4f63\\u91d1\\uffe50.0\\uff09\",\"\\uffe50.0\",\"\\uffe50.0\",null],[\"2021-11-23\",\"--\",\"--\",\"--\",\"--\",\"--\",\"--\",\"--\"],[\"\",\"\",\"\\uff08\\u603b\\u8d44\\u4ea7\\uffe5253914.404\",\"\\u5269\\u4f59\\u91d1\\u989d\\uffe5253914.404\",\"\\u5f53\\u65e5\\u4ea4\\u6613\\u4f63\\u91d1\\uffe50.0\\uff09\",\"\\uffe50.0\",\"\\uffe50.0\",null],[\"2021-11-22\",\"--\",\"--\",\"--\",\"--\",\"--\",\"--\",\"--\"],[\"\",\"\",\"\\uff08\\u603b\\u8d44\\u4ea7\\uffe5253914.404\",\"\\u5269\\u4f59\\u91d1\\u989d\\uffe5253914.404\",\"\\u5f53\\u65e5\\u4ea4\\u6613\\u4f63\\u91d1\\uffe50.0\\uff09\",\"\\uffe50.0\",\"\\uffe50.0\",null],[\"2021-11-19\",\"--\",\"--\",\"--\",\"--\",\"--\",\"--\",\"--\"],[\"\",\"\",\"\\uff08\\u603b\\u8d44\\u4ea7\\uffe5253914.404\",\"\\u5269\\u4f59\\u91d1\\u989d\\uffe5253914.404\",\"\\u5f53\\u65e5\\u4ea4\\u6613\\u4f63\\u91d1\\uffe50.0\\uff09\",\"\\uffe50.0\",\"\\uffe50.0\",null],[\"2021-11-18\",\"--\",\"--\",\"--\",\"--\",\"--\",\"--\",\"--\"],[\"\",\"\",\"\\uff08\\u603b\\u8d44\\u4ea7\\uffe5253914.404\",\"\\u5269\\u4f59\\u91d1\\u989d\\uffe5253914.404\",\"\\u5f53\\u65e5\\u4ea4\\u6613\\u4f63\\u91d1\\uffe50.0\\uff09\",\"\\uffe50.0\",\"\\uffe50.0\",null],[\"2021-11-17\",\"--\",\"--\",\"--\",\"--\",\"--\",\"--\",\"--\"],[\"\",\"\",\"\\uff08\\u603b\\u8d44\\u4ea7\\uffe5253914.404\",\"\\u5269\\u4f59\\u91d1\\u989d\\uffe5253914.404\",\"\\u5f53\\u65e5\\u4ea4\\u6613\\u4f63\\u91d1\\uffe50.0\\uff09\",\"\\uffe50.0\",\"\\uffe50.0\",null],[\"2021-11-16\",\"--\",\"--\",\"--\",\"--\",\"--\",\"--\",\"--\"],[\"\",\"\",\"\\uff08\\u603b\\u8d44\\u4ea7\\uffe5253914.404\",\"\\u5269\\u4f59\\u91d1\\u989d\\uffe5253914.404\",\"\\u5f53\\u65e5\\u4ea4\\u6613\\u4f63\\u91d1\\uffe50.0\\uff09\",\"\\uffe50.0\",\"\\uffe50.0\",null],[\"2021-11-15\",\"--\",\"--\",\"--\",\"--\",\"--\",\"--\",\"--\"],[\"\",\"\",\"\\uff08\\u603b\\u8d44\\u4ea7\\uffe5253914.404\",\"\\u5269\\u4f59\\u91d1\\u989d\\uffe5253914.404\",\"\\u5f53\\u65e5\\u4ea4\\u6613\\u4f63\\u91d1\\uffe50.0\\uff09\",\"\\uffe50.0\",\"\\uffe50.0\",null],[\"2021-11-12\",\"--\",\"--\",\"--\",\"--\",\"--\",\"--\",\"--\"],[\"\",\"\",\"\\uff08\\u603b\\u8d44\\u4ea7\\uffe5253914.404\",\"\\u5269\\u4f59\\u91d1\\u989d\\uffe5253914.404\",\"\\u5f53\\u65e5\\u4ea4\\u6613\\u4f63\\u91d1\\uffe50.0\\uff09\",\"\\uffe50.0\",\"\\uffe50.0\",null],[\"2021-11-11\",\"--\",\"--\",\"--\",\"--\",\"--\",\"--\",\"--\"],[\"\",\"\",\"\\uff08\\u603b\\u8d44\\u4ea7\\uffe5253914.404\",\"\\u5269\\u4f59\\u91d1\\u989d\\uffe5253914.404\",\"\\u5f53\\u65e5\\u4ea4\\u6613\\u4f63\\u91d1\\uffe50.0\\uff09\",\"\\uffe50.0\",\"\\uffe50.0\",null],[\"2021-11-10\",\"--\",\"--\",\"--\",\"--\",\"--\",\"--\",\"--\"],[\"\",\"\",\"\\uff08\\u603b\\u8d44\\u4ea7\\uffe5253914.404\",\"\\u5269\\u4f59\\u91d1\\u989d\\uffe5253914.404\",\"\\u5f53\\u65e5\\u4ea4\\u6613\\u4f63\\u91d1\\uffe50.0\\uff09\",\"\\uffe50.0\",\"\\uffe50.0\",null],[\"2021-11-09\",\"--\",\"--\",\"--\",\"--\",\"--\",\"--\",\"--\"],[\"\",\"\",\"\\uff08\\u603b\\u8d44\\u4ea7\\uffe5253914.404\",\"\\u5269\\u4f59\\u91d1\\u989d\\uffe5253914.404\",\"\\u5f53\\u65e5\\u4ea4\\u6613\\u4f63\\u91d1\\uffe50.0\\uff09\",\"\\uffe50.0\",\"\\uffe50.0\",null],[\"2021-11-08\",\"--\",\"--\",\"--\",\"--\",\"--\",\"--\",\"--\"],[\"\",\"\",\"\\uff08\\u603b\\u8d44\\u4ea7\\uffe5253914.404\",\"\\u5269\\u4f59\\u91d1\\u989d\\uffe5253914.404\",\"\\u5f53\\u65e5\\u4ea4\\u6613\\u4f63\\u91d1\\uffe50.0\\uff09\",\"\\uffe50.0\",\"\\uffe50.0\",null],[\"2021-11-05\",\"--\",\"--\",\"--\",\"--\",\"--\",\"--\",\"--\"],[\"\",\"\",\"\\uff08\\u603b\\u8d44\\u4ea7\\uffe5253914.404\",\"\\u5269\\u4f59\\u91d1\\u989d\\uffe5253914.404\",\"\\u5f53\\u65e5\\u4ea4\\u6613\\u4f63\\u91d1\\uffe50.0\\uff09\",\"\\uffe50.0\",\"\\uffe50.0\",null],[\"2021-11-04\",\"--\",\"--\",\"--\",\"--\",\"--\",\"--\",\"--\"],[\"\",\"\",\"\\uff08\\u603b\\u8d44\\u4ea7\\uffe5253914.404\",\"\\u5269\\u4f59\\u91d1\\u989d\\uffe5253914.404\",\"\\u5f53\\u65e5\\u4ea4\\u6613\\u4f63\\u91d1\\uffe50.0\\uff09\",\"\\uffe50.0\",\"\\uffe50.0\",null],[\"2021-11-03\",\"--\",\"--\",\"--\",\"--\",\"--\",\"--\",\"--\"],[\"\",\"\",\"\\uff08\\u603b\\u8d44\\u4ea7\\uffe5253914.404\",\"\\u5269\\u4f59\\u91d1\\u989d\\uffe5253914.404\",\"\\u5f53\\u65e5\\u4ea4\\u6613\\u4f63\\u91d1\\uffe50.0\\uff09\",\"\\uffe50.0\",\"\\uffe50.0\",null],[\"2021-11-02\",\"--\",\"--\",\"--\",\"--\",\"--\",\"--\",\"--\"],[\"\",\"\",\"\\uff08\\u603b\\u8d44\\u4ea7\\uffe5253914.404\",\"\\u5269\\u4f59\\u91d1\\u989d\\uffe5253914.404\",\"\\u5f53\\u65e5\\u4ea4\\u6613\\u4f63\\u91d1\\uffe50.0\\uff09\",\"\\uffe50.0\",\"\\uffe50.0\",null],[\"2021-11-01\",\"--\",\"--\",\"--\",\"--\",\"--\",\"--\",\"--\"],[\"\",\"\",\"\\uff08\\u603b\\u8d44\\u4ea7\\uffe5253914.404\",\"\\u5269\\u4f59\\u91d1\\u989d\\uffe5253914.404\",\"\\u5f53\\u65e5\\u4ea4\\u6613\\u4f63\\u91d1\\uffe50.0\\uff09\",\"\\uffe50.0\",\"\\uffe50.0\",null],[\"2021-10-29\",\"--\",\"--\",\"--\",\"--\",\"--\",\"--\",\"--\"],[\"\",\"\",\"\\uff08\\u603b\\u8d44\\u4ea7\\uffe5253914.404\",\"\\u5269\\u4f59\\u91d1\\u989d\\uffe5253914.404\",\"\\u5f53\\u65e5\\u4ea4\\u6613\\u4f63\\u91d1\\uffe5305.12\\uff09\",\"\\uffe50.0\",\"\\uffe50.0\",null],[\"2021-10-28\",\"605089.SHA\",\"\\u5473\\u77e5\\u9999\",66.5,\"66.280\",3500,231979.996,-770.03],[\"\",\"\",\"\\uff08\\u603b\\u8d44\\u4ea7\\uffe5251489.601\",\"\\u5269\\u4f59\\u91d1\\u989d\\uffe519509.605\",\"\\u5f53\\u65e5\\u4ea4\\u6613\\u4f63\\u91d1\\uffe569.83\\uff09\",\"\\uffe5231979.996\",\"\\uffe5-770.03\",null],[\"2021-10-27\",\"--\",\"--\",\"--\",\"--\",\"--\",\"--\",\"--\"],[\"\",\"\",\"\\uff08\\u603b\\u8d44\\u4ea7\\uffe5252329.456\",\"\\u5269\\u4f59\\u91d1\\u989d\\uffe5252329.456\",\"\\u5f53\\u65e5\\u4ea4\\u6613\\u4f63\\u91d1\\uffe50.0\\uff09\",\"\\uffe50.0\",\"\\uffe50.0\",null],[\"2021-10-26\",\"--\",\"--\",\"--\",\"--\",\"--\",\"--\",\"--\"],[\"\",\"\",\"\\uff08\\u603b\\u8d44\\u4ea7\\uffe5252329.456\",\"\\u5269\\u4f59\\u91d1\\u989d\\uffe5252329.456\",\"\\u5f53\\u65e5\\u4ea4\\u6613\\u4f63\\u91d1\\uffe50.0\\uff09\",\"\\uffe50.0\",\"\\uffe50.0\",null],[\"2021-10-25\",\"--\",\"--\",\"--\",\"--\",\"--\",\"--\",\"--\"],[\"\",\"\",\"\\uff08\\u603b\\u8d44\\u4ea7\\uffe5252329.456\",\"\\u5269\\u4f59\\u91d1\\u989d\\uffe5252329.456\",\"\\u5f53\\u65e5\\u4ea4\\u6613\\u4f63\\u91d1\\uffe50.0\\uff09\",\"\\uffe50.0\",\"\\uffe50.0\",null],[\"2021-10-22\",\"--\",\"--\",\"--\",\"--\",\"--\",\"--\",\"--\"],[\"\",\"\",\"\\uff08\\u603b\\u8d44\\u4ea7\\uffe5252329.456\",\"\\u5269\\u4f59\\u91d1\\u989d\\uffe5252329.456\",\"\\u5f53\\u65e5\\u4ea4\\u6613\\u4f63\\u91d1\\uffe50.0\\uff09\",\"\\uffe50.0\",\"\\uffe50.0\",null],[\"2021-10-21\",\"--\",\"--\",\"--\",\"--\",\"--\",\"--\",\"--\"],[\"\",\"\",\"\\uff08\\u603b\\u8d44\\u4ea7\\uffe5252329.456\",\"\\u5269\\u4f59\\u91d1\\u989d\\uffe5252329.456\",\"\\u5f53\\u65e5\\u4ea4\\u6613\\u4f63\\u91d1\\uffe50.0\\uff09\",\"\\uffe50.0\",\"\\uffe50.0\",null],[\"2021-10-20\",\"--\",\"--\",\"--\",\"--\",\"--\",\"--\",\"--\"],[\"\",\"\",\"\\uff08\\u603b\\u8d44\\u4ea7\\uffe5252329.456\",\"\\u5269\\u4f59\\u91d1\\u989d\\uffe5252329.456\",\"\\u5f53\\u65e5\\u4ea4\\u6613\\u4f63\\u91d1\\uffe50.0\\uff09\",\"\\uffe50.0\",\"\\uffe50.0\",null],[\"2021-10-19\",\"--\",\"--\",\"--\",\"--\",\"--\",\"--\",\"--\"],[\"\",\"\",\"\\uff08\\u603b\\u8d44\\u4ea7\\uffe5252329.456\",\"\\u5269\\u4f59\\u91d1\\u989d\\uffe5252329.456\",\"\\u5f53\\u65e5\\u4ea4\\u6613\\u4f63\\u91d1\\uffe50.0\\uff09\",\"\\uffe50.0\",\"\\uffe50.0\",null],[\"2021-10-18\",\"--\",\"--\",\"--\",\"--\",\"--\",\"--\",\"--\"],[\"\",\"\",\"\\uff08\\u603b\\u8d44\\u4ea7\\uffe5252329.456\",\"\\u5269\\u4f59\\u91d1\\u989d\\uffe5252329.456\",\"\\u5f53\\u65e5\\u4ea4\\u6613\\u4f63\\u91d1\\uffe50.0\\uff09\",\"\\uffe50.0\",\"\\uffe50.0\",null],[\"2021-10-15\",\"--\",\"--\",\"--\",\"--\",\"--\",\"--\",\"--\"],[\"\",\"\",\"\\uff08\\u603b\\u8d44\\u4ea7\\uffe5252329.456\",\"\\u5269\\u4f59\\u91d1\\u989d\\uffe5252329.456\",\"\\u5f53\\u65e5\\u4ea4\\u6613\\u4f63\\u91d1\\uffe50.0\\uff09\",\"\\uffe50.0\",\"\\uffe50.0\",null],[\"2021-10-14\",\"--\",\"--\",\"--\",\"--\",\"--\",\"--\",\"--\"],[\"\",\"\",\"\\uff08\\u603b\\u8d44\\u4ea7\\uffe5252329.456\",\"\\u5269\\u4f59\\u91d1\\u989d\\uffe5252329.456\",\"\\u5f53\\u65e5\\u4ea4\\u6613\\u4f63\\u91d1\\uffe5320.41\\uff09\",\"\\uffe50.0\",\"\\uffe50.0\",null],[\"2021-10-13\",\"002961.SZA\",\"\\u745e\\u8fbe\\u671f\\u8d27\",23.38,\"23.880\",9800,234023.973,4899.878],[\"\",\"\",\"\\uff08\\u603b\\u8d44\\u4ea7\\uffe5240203.987\",\"\\u5269\\u4f59\\u91d1\\u989d\\uffe56180.014\",\"\\u5f53\\u65e5\\u4ea4\\u6613\\u4f63\\u91d1\\uffe568.74\\uff09\",\"\\uffe5234023.973\",\"\\uffe54899.878\",null],[\"2021-10-12\",\"--\",\"--\",\"--\",\"--\",\"--\",\"--\",\"--\"],[\"\",\"\",\"\\uff08\\u603b\\u8d44\\u4ea7\\uffe5235372.846\",\"\\u5269\\u4f59\\u91d1\\u989d\\uffe5235372.846\",\"\\u5f53\\u65e5\\u4ea4\\u6613\\u4f63\\u91d1\\uffe50.0\\uff09\",\"\\uffe50.0\",\"\\uffe50.0\",null],[\"2021-10-11\",\"--\",\"--\",\"--\",\"--\",\"--\",\"--\",\"--\"],[\"\",\"\",\"\\uff08\\u603b\\u8d44\\u4ea7\\uffe5235372.846\",\"\\u5269\\u4f59\\u91d1\\u989d\\uffe5235372.846\",\"\\u5f53\\u65e5\\u4ea4\\u6613\\u4f63\\u91d1\\uffe50.0\\uff09\",\"\\uffe50.0\",\"\\uffe50.0\",null],[\"2021-10-08\",\"--\",\"--\",\"--\",\"--\",\"--\",\"--\",\"--\"],[\"\",\"\",\"\\uff08\\u603b\\u8d44\\u4ea7\\uffe5235372.846\",\"\\u5269\\u4f59\\u91d1\\u989d\\uffe5235372.846\",\"\\u5f53\\u65e5\\u4ea4\\u6613\\u4f63\\u91d1\\uffe531.58\\uff09\",\"\\uffe50.0\",\"\\uffe50.0\",null],[\"2021-09-30\",\"603619.SHA\",\"\\u4e2d\\u66fc\\u77f3\\u6cb9\",12.75,\"12.990\",1700,22083.0,408.0],[\"\",\"\",\"\\uff08\\u603b\\u8d44\\u4ea7\\uffe5233194.426\",\"\\u5269\\u4f59\\u91d1\\u989d\\uffe5211111.427\",\"\\u5f53\\u65e5\\u4ea4\\u6613\\u4f63\\u91d1\\uffe5278.25\\uff09\",\"\\uffe522083.0\",\"\\uffe5408.0\",null],[\"2021-09-29\",\"002136.SZA\",\"\\u5b89\\u7eb3\\u8fbe\",22.2,\"19.790\",10400,205815.99,-25064.012],[\"\",\"\",\"\\uff08\\u603b\\u8d44\\u4ea7\\uffe5229840.677\",\"\\u5269\\u4f59\\u91d1\\u989d\\uffe524024.687\",\"\\u5f53\\u65e5\\u4ea4\\u6613\\u4f63\\u91d1\\uffe50.0\\uff09\",\"\\uffe5205815.99\",\"\\uffe5-25064.012\",null],[\"2021-09-28\",\"002136.SZA\",\"\\u5b89\\u7eb3\\u8fbe\",22.2,\"21.990\",10400,228695.998,-2184.004],[\"\",\"\",\"\\uff08\\u603b\\u8d44\\u4ea7\\uffe5252720.685\",\"\\u5269\\u4f59\\u91d1\\u989d\\uffe524024.687\",\"\\u5f53\\u65e5\\u4ea4\\u6613\\u4f63\\u91d1\\uffe569.26\\uff09\",\"\\uffe5228695.998\",\"\\uffe5-2184.004\",null],[\"2021-09-27\",\"--\",\"--\",\"--\",\"--\",\"--\",\"--\",\"--\"],[\"\",\"\",\"\\uff08\\u603b\\u8d44\\u4ea7\\uffe5254973.953\",\"\\u5269\\u4f59\\u91d1\\u989d\\uffe5254973.953\",\"\\u5f53\\u65e5\\u4ea4\\u6613\\u4f63\\u91d1\\uffe50.0\\uff09\",\"\\uffe50.0\",\"\\uffe50.0\",null],[\"2021-09-24\",\"--\",\"--\",\"--\",\"--\",\"--\",\"--\",\"--\"],[\"\",\"\",\"\\uff08\\u603b\\u8d44\\u4ea7\\uffe5254973.953\",\"\\u5269\\u4f59\\u91d1\\u989d\\uffe5254973.953\",\"\\u5f53\\u65e5\\u4ea4\\u6613\\u4f63\\u91d1\\uffe50.0\\uff09\",\"\\uffe50.0\",\"\\uffe50.0\",null],[\"2021-09-23\",\"--\",\"--\",\"--\",\"--\",\"--\",\"--\",\"--\"],[\"\",\"\",\"\\uff08\\u603b\\u8d44\\u4ea7\\uffe5254973.953\",\"\\u5269\\u4f59\\u91d1\\u989d\\uffe5254973.953\",\"\\u5f53\\u65e5\\u4ea4\\u6613\\u4f63\\u91d1\\uffe50.0\\uff09\",\"\\uffe50.0\",\"\\uffe50.0\",null],[\"2021-09-22\",\"--\",\"--\",\"--\",\"--\",\"--\",\"--\",\"--\"],[\"\",\"\",\"\\uff08\\u603b\\u8d44\\u4ea7\\uffe5254973.953\",\"\\u5269\\u4f59\\u91d1\\u989d\\uffe5254973.953\",\"\\u5f53\\u65e5\\u4ea4\\u6613\\u4f63\\u91d1\\uffe50.0\\uff09\",\"\\uffe50.0\",\"\\uffe50.0\",null],[\"2021-09-17\",\"--\",\"--\",\"--\",\"--\",\"--\",\"--\",\"--\"],[\"\",\"\",\"\\uff08\\u603b\\u8d44\\u4ea7\\uffe5254973.953\",\"\\u5269\\u4f59\\u91d1\\u989d\\uffe5254973.953\",\"\\u5f53\\u65e5\\u4ea4\\u6613\\u4f63\\u91d1\\uffe50.0\\uff09\",\"\\uffe50.0\",\"\\uffe50.0\",null],[\"2021-09-16\",\"--\",\"--\",\"--\",\"--\",\"--\",\"--\",\"--\"],[\"\",\"\",\"\\uff08\\u603b\\u8d44\\u4ea7\\uffe5254973.953\",\"\\u5269\\u4f59\\u91d1\\u989d\\uffe5254973.953\",\"\\u5f53\\u65e5\\u4ea4\\u6613\\u4f63\\u91d1\\uffe50.0\\uff09\",\"\\uffe50.0\",\"\\uffe50.0\",null],[\"2021-09-15\",\"--\",\"--\",\"--\",\"--\",\"--\",\"--\",\"--\"],[\"\",\"\",\"\\uff08\\u603b\\u8d44\\u4ea7\\uffe5254973.953\",\"\\u5269\\u4f59\\u91d1\\u989d\\uffe5254973.953\",\"\\u5f53\\u65e5\\u4ea4\\u6613\\u4f63\\u91d1\\uffe50.0\\uff09\",\"\\uffe50.0\",\"\\uffe50.0\",null],[\"2021-09-14\",\"--\",\"--\",\"--\",\"--\",\"--\",\"--\",\"--\"],[\"\",\"\",\"\\uff08\\u603b\\u8d44\\u4ea7\\uffe5254973.953\",\"\\u5269\\u4f59\\u91d1\\u989d\\uffe5254973.953\",\"\\u5f53\\u65e5\\u4ea4\\u6613\\u4f63\\u91d1\\uffe50.0\\uff09\",\"\\uffe50.0\",\"\\uffe50.0\",null],[\"2021-09-13\",\"--\",\"--\",\"--\",\"--\",\"--\",\"--\",\"--\"],[\"\",\"\",\"\\uff08\\u603b\\u8d44\\u4ea7\\uffe5254973.953\",\"\\u5269\\u4f59\\u91d1\\u989d\\uffe5254973.953\",\"\\u5f53\\u65e5\\u4ea4\\u6613\\u4f63\\u91d1\\uffe50.0\\uff09\",\"\\uffe50.0\",\"\\uffe50.0\",null],[\"2021-09-10\",\"--\",\"--\",\"--\",\"--\",\"--\",\"--\",\"--\"],[\"\",\"\",\"\\uff08\\u603b\\u8d44\\u4ea7\\uffe5254973.953\",\"\\u5269\\u4f59\\u91d1\\u989d\\uffe5254973.953\",\"\\u5f53\\u65e5\\u4ea4\\u6613\\u4f63\\u91d1\\uffe50.0\\uff09\",\"\\uffe50.0\",\"\\uffe50.0\",null],[\"2021-09-09\",\"--\",\"--\",\"--\",\"--\",\"--\",\"--\",\"--\"],[\"\",\"\",\"\\uff08\\u603b\\u8d44\\u4ea7\\uffe5254973.953\",\"\\u5269\\u4f59\\u91d1\\u989d\\uffe5254973.953\",\"\\u5f53\\u65e5\\u4ea4\\u6613\\u4f63\\u91d1\\uffe50.0\\uff09\",\"\\uffe50.0\",\"\\uffe50.0\",null],[\"2021-09-08\",\"--\",\"--\",\"--\",\"--\",\"--\",\"--\",\"--\"],[\"\",\"\",\"\\uff08\\u603b\\u8d44\\u4ea7\\uffe5254973.953\",\"\\u5269\\u4f59\\u91d1\\u989d\\uffe5254973.953\",\"\\u5f53\\u65e5\\u4ea4\\u6613\\u4f63\\u91d1\\uffe50.0\\uff09\",\"\\uffe50.0\",\"\\uffe50.0\",null],[\"2021-09-07\",\"--\",\"--\",\"--\",\"--\",\"--\",\"--\",\"--\"],[\"\",\"\",\"\\uff08\\u603b\\u8d44\\u4ea7\\uffe5254973.953\",\"\\u5269\\u4f59\\u91d1\\u989d\\uffe5254973.953\",\"\\u5f53\\u65e5\\u4ea4\\u6613\\u4f63\\u91d1\\uffe50.0\\uff09\",\"\\uffe50.0\",\"\\uffe50.0\",null],[\"2021-09-06\",\"--\",\"--\",\"--\",\"--\",\"--\",\"--\",\"--\"],[\"\",\"\",\"\\uff08\\u603b\\u8d44\\u4ea7\\uffe5254973.953\",\"\\u5269\\u4f59\\u91d1\\u989d\\uffe5254973.953\",\"\\u5f53\\u65e5\\u4ea4\\u6613\\u4f63\\u91d1\\uffe50.0\\uff09\",\"\\uffe50.0\",\"\\uffe50.0\",null],[\"2021-09-03\",\"--\",\"--\",\"--\",\"--\",\"--\",\"--\",\"--\"],[\"\",\"\",\"\\uff08\\u603b\\u8d44\\u4ea7\\uffe5254973.953\",\"\\u5269\\u4f59\\u91d1\\u989d\\uffe5254973.953\",\"\\u5f53\\u65e5\\u4ea4\\u6613\\u4f63\\u91d1\\uffe50.0\\uff09\",\"\\uffe50.0\",\"\\uffe50.0\",null],[\"2021-09-02\",\"--\",\"--\",\"--\",\"--\",\"--\",\"--\",\"--\"],[\"\",\"\",\"\\uff08\\u603b\\u8d44\\u4ea7\\uffe5254973.953\",\"\\u5269\\u4f59\\u91d1\\u989d\\uffe5254973.953\",\"\\u5f53\\u65e5\\u4ea4\\u6613\\u4f63\\u91d1\\uffe50.0\\uff09\",\"\\uffe50.0\",\"\\uffe50.0\",null],[\"2021-09-01\",\"--\",\"--\",\"--\",\"--\",\"--\",\"--\",\"--\"],[\"\",\"\",\"\\uff08\\u603b\\u8d44\\u4ea7\\uffe5254973.953\",\"\\u5269\\u4f59\\u91d1\\u989d\\uffe5254973.953\",\"\\u5f53\\u65e5\\u4ea4\\u6613\\u4f63\\u91d1\\uffe50.0\\uff09\",\"\\uffe50.0\",\"\\uffe50.0\",null],[\"2021-08-31\",\"--\",\"--\",\"--\",\"--\",\"--\",\"--\",\"--\"],[\"\",\"\",\"\\uff08\\u603b\\u8d44\\u4ea7\\uffe5254973.953\",\"\\u5269\\u4f59\\u91d1\\u989d\\uffe5254973.953\",\"\\u5f53\\u65e5\\u4ea4\\u6613\\u4f63\\u91d1\\uffe50.0\\uff09\",\"\\uffe50.0\",\"\\uffe50.0\",null],[\"2021-08-30\",\"--\",\"--\",\"--\",\"--\",\"--\",\"--\",\"--\"],[\"\",\"\",\"\\uff08\\u603b\\u8d44\\u4ea7\\uffe5254973.953\",\"\\u5269\\u4f59\\u91d1\\u989d\\uffe5254973.953\",\"\\u5f53\\u65e5\\u4ea4\\u6613\\u4f63\\u91d1\\uffe50.0\\uff09\",\"\\uffe50.0\",\"\\uffe50.0\",null],[\"2021-08-27\",\"--\",\"--\",\"--\",\"--\",\"--\",\"--\",\"--\"],[\"\",\"\",\"\\uff08\\u603b\\u8d44\\u4ea7\\uffe5254973.953\",\"\\u5269\\u4f59\\u91d1\\u989d\\uffe5254973.953\",\"\\u5f53\\u65e5\\u4ea4\\u6613\\u4f63\\u91d1\\uffe50.0\\uff09\",\"\\uffe50.0\",\"\\uffe50.0\",null],[\"2021-08-26\",\"--\",\"--\",\"--\",\"--\",\"--\",\"--\",\"--\"],[\"\",\"\",\"\\uff08\\u603b\\u8d44\\u4ea7\\uffe5254973.953\",\"\\u5269\\u4f59\\u91d1\\u989d\\uffe5254973.953\",\"\\u5f53\\u65e5\\u4ea4\\u6613\\u4f63\\u91d1\\uffe50.0\\uff09\",\"\\uffe50.0\",\"\\uffe50.0\",null],[\"2021-08-25\",\"--\",\"--\",\"--\",\"--\",\"--\",\"--\",\"--\"],[\"\",\"\",\"\\uff08\\u603b\\u8d44\\u4ea7\\uffe5254973.953\",\"\\u5269\\u4f59\\u91d1\\u989d\\uffe5254973.953\",\"\\u5f53\\u65e5\\u4ea4\\u6613\\u4f63\\u91d1\\uffe50.0\\uff09\",\"\\uffe50.0\",\"\\uffe50.0\",null],[\"2021-08-24\",\"--\",\"--\",\"--\",\"--\",\"--\",\"--\",\"--\"],[\"\",\"\",\"\\uff08\\u603b\\u8d44\\u4ea7\\uffe5254973.953\",\"\\u5269\\u4f59\\u91d1\\u989d\\uffe5254973.953\",\"\\u5f53\\u65e5\\u4ea4\\u6613\\u4f63\\u91d1\\uffe50.0\\uff09\",\"\\uffe50.0\",\"\\uffe50.0\",null],[\"2021-08-23\",\"--\",\"--\",\"--\",\"--\",\"--\",\"--\",\"--\"],[\"\",\"\",\"\\uff08\\u603b\\u8d44\\u4ea7\\uffe5254973.953\",\"\\u5269\\u4f59\\u91d1\\u989d\\uffe5254973.953\",\"\\u5f53\\u65e5\\u4ea4\\u6613\\u4f63\\u91d1\\uffe50.0\\uff09\",\"\\uffe50.0\",\"\\uffe50.0\",null],[\"2021-08-20\",\"--\",\"--\",\"--\",\"--\",\"--\",\"--\",\"--\"],[\"\",\"\",\"\\uff08\\u603b\\u8d44\\u4ea7\\uffe5254973.953\",\"\\u5269\\u4f59\\u91d1\\u989d\\uffe5254973.953\",\"\\u5f53\\u65e5\\u4ea4\\u6613\\u4f63\\u91d1\\uffe50.0\\uff09\",\"\\uffe50.0\",\"\\uffe50.0\",null],[\"2021-08-19\",\"--\",\"--\",\"--\",\"--\",\"--\",\"--\",\"--\"],[\"\",\"\",\"\\uff08\\u603b\\u8d44\\u4ea7\\uffe5254973.953\",\"\\u5269\\u4f59\\u91d1\\u989d\\uffe5254973.953\",\"\\u5f53\\u65e5\\u4ea4\\u6613\\u4f63\\u91d1\\uffe5319.62\\uff09\",\"\\uffe50.0\",\"\\uffe50.0\",null],[\"2021-08-18\",\"600293.SHA\",\"\\u4e09\\u5ce1\\u65b0\\u6750\",4.2,\"4.350\",55500,241424.995,8324.984],[\"\",\"\",\"\\uff08\\u603b\\u8d44\\u4ea7\\uffe5250853.602\",\"\\u5269\\u4f59\\u91d1\\u989d\\uffe59428.607\",\"\\u5f53\\u65e5\\u4ea4\\u6613\\u4f63\\u91d1\\uffe569.93\\uff09\",\"\\uffe5241424.995\",\"\\uffe58324.984\",null],[\"2021-08-17\",\"--\",\"--\",\"--\",\"--\",\"--\",\"--\",\"--\"],[\"\",\"\",\"\\uff08\\u603b\\u8d44\\u4ea7\\uffe5242598.548\",\"\\u5269\\u4f59\\u91d1\\u989d\\uffe5242598.548\",\"\\u5f53\\u65e5\\u4ea4\\u6613\\u4f63\\u91d1\\uffe50.0\\uff09\",\"\\uffe50.0\",\"\\uffe50.0\",null],[\"2021-08-16\",\"--\",\"--\",\"--\",\"--\",\"--\",\"--\",\"--\"],[\"\",\"\",\"\\uff08\\u603b\\u8d44\\u4ea7\\uffe5242598.548\",\"\\u5269\\u4f59\\u91d1\\u989d\\uffe5242598.548\",\"\\u5f53\\u65e5\\u4ea4\\u6613\\u4f63\\u91d1\\uffe50.0\\uff09\",\"\\uffe50.0\",\"\\uffe50.0\",null],[\"2021-08-13\",\"--\",\"--\",\"--\",\"--\",\"--\",\"--\",\"--\"],[\"\",\"\",\"\\uff08\\u603b\\u8d44\\u4ea7\\uffe5242598.548\",\"\\u5269\\u4f59\\u91d1\\u989d\\uffe5242598.548\",\"\\u5f53\\u65e5\\u4ea4\\u6613\\u4f63\\u91d1\\uffe50.0\\uff09\",\"\\uffe50.0\",\"\\uffe50.0\",null],[\"2021-08-12\",\"--\",\"--\",\"--\",\"--\",\"--\",\"--\",\"--\"],[\"\",\"\",\"\\uff08\\u603b\\u8d44\\u4ea7\\uffe5242598.548\",\"\\u5269\\u4f59\\u91d1\\u989d\\uffe5242598.548\",\"\\u5f53\\u65e5\\u4ea4\\u6613\\u4f63\\u91d1\\uffe50.0\\uff09\",\"\\uffe50.0\",\"\\uffe50.0\",null],[\"2021-08-11\",\"--\",\"--\",\"--\",\"--\",\"--\",\"--\",\"--\"],[\"\",\"\",\"\\uff08\\u603b\\u8d44\\u4ea7\\uffe5242598.548\",\"\\u5269\\u4f59\\u91d1\\u989d\\uffe5242598.548\",\"\\u5f53\\u65e5\\u4ea4\\u6613\\u4f63\\u91d1\\uffe50.0\\uff09\",\"\\uffe50.0\",\"\\uffe50.0\",null],[\"2021-08-10\",\"--\",\"--\",\"--\",\"--\",\"--\",\"--\",\"--\"],[\"\",\"\",\"\\uff08\\u603b\\u8d44\\u4ea7\\uffe5242598.548\",\"\\u5269\\u4f59\\u91d1\\u989d\\uffe5242598.548\",\"\\u5f53\\u65e5\\u4ea4\\u6613\\u4f63\\u91d1\\uffe50.0\\uff09\",\"\\uffe50.0\",\"\\uffe50.0\",null],[\"2021-08-09\",\"--\",\"--\",\"--\",\"--\",\"--\",\"--\",\"--\"],[\"\",\"\",\"\\uff08\\u603b\\u8d44\\u4ea7\\uffe5242598.548\",\"\\u5269\\u4f59\\u91d1\\u989d\\uffe5242598.548\",\"\\u5f53\\u65e5\\u4ea4\\u6613\\u4f63\\u91d1\\uffe50.0\\uff09\",\"\\uffe50.0\",\"\\uffe50.0\",null],[\"2021-08-06\",\"--\",\"--\",\"--\",\"--\",\"--\",\"--\",\"--\"],[\"\",\"\",\"\\uff08\\u603b\\u8d44\\u4ea7\\uffe5242598.548\",\"\\u5269\\u4f59\\u91d1\\u989d\\uffe5242598.548\",\"\\u5f53\\u65e5\\u4ea4\\u6613\\u4f63\\u91d1\\uffe50.0\\uff09\",\"\\uffe50.0\",\"\\uffe50.0\",null],[\"2021-08-05\",\"--\",\"--\",\"--\",\"--\",\"--\",\"--\",\"--\"],[\"\",\"\",\"\\uff08\\u603b\\u8d44\\u4ea7\\uffe5242598.548\",\"\\u5269\\u4f59\\u91d1\\u989d\\uffe5242598.548\",\"\\u5f53\\u65e5\\u4ea4\\u6613\\u4f63\\u91d1\\uffe50.0\\uff09\",\"\\uffe50.0\",\"\\uffe50.0\",null],[\"2021-08-04\",\"--\",\"--\",\"--\",\"--\",\"--\",\"--\",\"--\"],[\"\",\"\",\"\\uff08\\u603b\\u8d44\\u4ea7\\uffe5242598.548\",\"\\u5269\\u4f59\\u91d1\\u989d\\uffe5242598.548\",\"\\u5f53\\u65e5\\u4ea4\\u6613\\u4f63\\u91d1\\uffe50.0\\uff09\",\"\\uffe50.0\",\"\\uffe50.0\",null],[\"2021-08-03\",\"--\",\"--\",\"--\",\"--\",\"--\",\"--\",\"--\"],[\"\",\"\",\"\\uff08\\u603b\\u8d44\\u4ea7\\uffe5242598.548\",\"\\u5269\\u4f59\\u91d1\\u989d\\uffe5242598.548\",\"\\u5f53\\u65e5\\u4ea4\\u6613\\u4f63\\u91d1\\uffe50.0\\uff09\",\"\\uffe50.0\",\"\\uffe50.0\",null],[\"2021-08-02\",\"--\",\"--\",\"--\",\"--\",\"--\",\"--\",\"--\"],[\"\",\"\",\"\\uff08\\u603b\\u8d44\\u4ea7\\uffe5242598.548\",\"\\u5269\\u4f59\\u91d1\\u989d\\uffe5242598.548\",\"\\u5f53\\u65e5\\u4ea4\\u6613\\u4f63\\u91d1\\uffe50.0\\uff09\",\"\\uffe50.0\",\"\\uffe50.0\",null],[\"2021-07-30\",\"--\",\"--\",\"--\",\"--\",\"--\",\"--\",\"--\"],[\"\",\"\",\"\\uff08\\u603b\\u8d44\\u4ea7\\uffe5242598.548\",\"\\u5269\\u4f59\\u91d1\\u989d\\uffe5242598.548\",\"\\u5f53\\u65e5\\u4ea4\\u6613\\u4f63\\u91d1\\uffe50.0\\uff09\",\"\\uffe50.0\",\"\\uffe50.0\",null],[\"2021-07-29\",\"--\",\"--\",\"--\",\"--\",\"--\",\"--\",\"--\"],[\"\",\"\",\"\\uff08\\u603b\\u8d44\\u4ea7\\uffe5242598.548\",\"\\u5269\\u4f59\\u91d1\\u989d\\uffe5242598.548\",\"\\u5f53\\u65e5\\u4ea4\\u6613\\u4f63\\u91d1\\uffe50.0\\uff09\",\"\\uffe50.0\",\"\\uffe50.0\",null],[\"2021-07-28\",\"--\",\"--\",\"--\",\"--\",\"--\",\"--\",\"--\"],[\"\",\"\",\"\\uff08\\u603b\\u8d44\\u4ea7\\uffe5242598.548\",\"\\u5269\\u4f59\\u91d1\\u989d\\uffe5242598.548\",\"\\u5f53\\u65e5\\u4ea4\\u6613\\u4f63\\u91d1\\uffe50.0\\uff09\",\"\\uffe50.0\",\"\\uffe50.0\",null],[\"2021-07-27\",\"--\",\"--\",\"--\",\"--\",\"--\",\"--\",\"--\"],[\"\",\"\",\"\\uff08\\u603b\\u8d44\\u4ea7\\uffe5242598.548\",\"\\u5269\\u4f59\\u91d1\\u989d\\uffe5242598.548\",\"\\u5f53\\u65e5\\u4ea4\\u6613\\u4f63\\u91d1\\uffe50.0\\uff09\",\"\\uffe50.0\",\"\\uffe50.0\",null],[\"2021-07-26\",\"--\",\"--\",\"--\",\"--\",\"--\",\"--\",\"--\"],[\"\",\"\",\"\\uff08\\u603b\\u8d44\\u4ea7\\uffe5242598.548\",\"\\u5269\\u4f59\\u91d1\\u989d\\uffe5242598.548\",\"\\u5f53\\u65e5\\u4ea4\\u6613\\u4f63\\u91d1\\uffe50.0\\uff09\",\"\\uffe50.0\",\"\\uffe50.0\",null],[\"2021-07-23\",\"--\",\"--\",\"--\",\"--\",\"--\",\"--\",\"--\"],[\"\",\"\",\"\\uff08\\u603b\\u8d44\\u4ea7\\uffe5242598.548\",\"\\u5269\\u4f59\\u91d1\\u989d\\uffe5242598.548\",\"\\u5f53\\u65e5\\u4ea4\\u6613\\u4f63\\u91d1\\uffe50.0\\uff09\",\"\\uffe50.0\",\"\\uffe50.0\",null],[\"2021-07-22\",\"--\",\"--\",\"--\",\"--\",\"--\",\"--\",\"--\"],[\"\",\"\",\"\\uff08\\u603b\\u8d44\\u4ea7\\uffe5242598.548\",\"\\u5269\\u4f59\\u91d1\\u989d\\uffe5242598.548\",\"\\u5f53\\u65e5\\u4ea4\\u6613\\u4f63\\u91d1\\uffe50.0\\uff09\",\"\\uffe50.0\",\"\\uffe50.0\",null],[\"2021-07-21\",\"--\",\"--\",\"--\",\"--\",\"--\",\"--\",\"--\"],[\"\",\"\",\"\\uff08\\u603b\\u8d44\\u4ea7\\uffe5242598.548\",\"\\u5269\\u4f59\\u91d1\\u989d\\uffe5242598.548\",\"\\u5f53\\u65e5\\u4ea4\\u6613\\u4f63\\u91d1\\uffe50.0\\uff09\",\"\\uffe50.0\",\"\\uffe50.0\",null],[\"2021-07-20\",\"--\",\"--\",\"--\",\"--\",\"--\",\"--\",\"--\"],[\"\",\"\",\"\\uff08\\u603b\\u8d44\\u4ea7\\uffe5242598.548\",\"\\u5269\\u4f59\\u91d1\\u989d\\uffe5242598.548\",\"\\u5f53\\u65e5\\u4ea4\\u6613\\u4f63\\u91d1\\uffe50.0\\uff09\",\"\\uffe50.0\",\"\\uffe50.0\",null],[\"2021-07-19\",\"--\",\"--\",\"--\",\"--\",\"--\",\"--\",\"--\"],[\"\",\"\",\"\\uff08\\u603b\\u8d44\\u4ea7\\uffe5242598.548\",\"\\u5269\\u4f59\\u91d1\\u989d\\uffe5242598.548\",\"\\u5f53\\u65e5\\u4ea4\\u6613\\u4f63\\u91d1\\uffe50.0\\uff09\",\"\\uffe50.0\",\"\\uffe50.0\",null],[\"2021-07-16\",\"--\",\"--\",\"--\",\"--\",\"--\",\"--\",\"--\"],[\"\",\"\",\"\\uff08\\u603b\\u8d44\\u4ea7\\uffe5242598.548\",\"\\u5269\\u4f59\\u91d1\\u989d\\uffe5242598.548\",\"\\u5f53\\u65e5\\u4ea4\\u6613\\u4f63\\u91d1\\uffe50.0\\uff09\",\"\\uffe50.0\",\"\\uffe50.0\",null],[\"2021-07-15\",\"--\",\"--\",\"--\",\"--\",\"--\",\"--\",\"--\"],[\"\",\"\",\"\\uff08\\u603b\\u8d44\\u4ea7\\uffe5242598.548\",\"\\u5269\\u4f59\\u91d1\\u989d\\uffe5242598.548\",\"\\u5f53\\u65e5\\u4ea4\\u6613\\u4f63\\u91d1\\uffe50.0\\uff09\",\"\\uffe50.0\",\"\\uffe50.0\",null],[\"2021-07-14\",\"--\",\"--\",\"--\",\"--\",\"--\",\"--\",\"--\"],[\"\",\"\",\"\\uff08\\u603b\\u8d44\\u4ea7\\uffe5242598.548\",\"\\u5269\\u4f59\\u91d1\\u989d\\uffe5242598.548\",\"\\u5f53\\u65e5\\u4ea4\\u6613\\u4f63\\u91d1\\uffe50.0\\uff09\",\"\\uffe50.0\",\"\\uffe50.0\",null],[\"2021-07-13\",\"--\",\"--\",\"--\",\"--\",\"--\",\"--\",\"--\"],[\"\",\"\",\"\\uff08\\u603b\\u8d44\\u4ea7\\uffe5242598.548\",\"\\u5269\\u4f59\\u91d1\\u989d\\uffe5242598.548\",\"\\u5f53\\u65e5\\u4ea4\\u6613\\u4f63\\u91d1\\uffe50.0\\uff09\",\"\\uffe50.0\",\"\\uffe50.0\",null],[\"2021-07-12\",\"--\",\"--\",\"--\",\"--\",\"--\",\"--\",\"--\"],[\"\",\"\",\"\\uff08\\u603b\\u8d44\\u4ea7\\uffe5242598.548\",\"\\u5269\\u4f59\\u91d1\\u989d\\uffe5242598.548\",\"\\u5f53\\u65e5\\u4ea4\\u6613\\u4f63\\u91d1\\uffe50.0\\uff09\",\"\\uffe50.0\",\"\\uffe50.0\",null],[\"2021-07-09\",\"--\",\"--\",\"--\",\"--\",\"--\",\"--\",\"--\"],[\"\",\"\",\"\\uff08\\u603b\\u8d44\\u4ea7\\uffe5242598.548\",\"\\u5269\\u4f59\\u91d1\\u989d\\uffe5242598.548\",\"\\u5f53\\u65e5\\u4ea4\\u6613\\u4f63\\u91d1\\uffe50.0\\uff09\",\"\\uffe50.0\",\"\\uffe50.0\",null],[\"2021-07-08\",\"--\",\"--\",\"--\",\"--\",\"--\",\"--\",\"--\"],[\"\",\"\",\"\\uff08\\u603b\\u8d44\\u4ea7\\uffe5242598.548\",\"\\u5269\\u4f59\\u91d1\\u989d\\uffe5242598.548\",\"\\u5f53\\u65e5\\u4ea4\\u6613\\u4f63\\u91d1\\uffe50.0\\uff09\",\"\\uffe50.0\",\"\\uffe50.0\",null],[\"2021-07-07\",\"--\",\"--\",\"--\",\"--\",\"--\",\"--\",\"--\"],[\"\",\"\",\"\\uff08\\u603b\\u8d44\\u4ea7\\uffe5242598.548\",\"\\u5269\\u4f59\\u91d1\\u989d\\uffe5242598.548\",\"\\u5f53\\u65e5\\u4ea4\\u6613\\u4f63\\u91d1\\uffe50.0\\uff09\",\"\\uffe50.0\",\"\\uffe50.0\",null],[\"2021-07-06\",\"--\",\"--\",\"--\",\"--\",\"--\",\"--\",\"--\"],[\"\",\"\",\"\\uff08\\u603b\\u8d44\\u4ea7\\uffe5242598.548\",\"\\u5269\\u4f59\\u91d1\\u989d\\uffe5242598.548\",\"\\u5f53\\u65e5\\u4ea4\\u6613\\u4f63\\u91d1\\uffe50.0\\uff09\",\"\\uffe50.0\",\"\\uffe50.0\",null],[\"2021-07-05\",\"--\",\"--\",\"--\",\"--\",\"--\",\"--\",\"--\"],[\"\",\"\",\"\\uff08\\u603b\\u8d44\\u4ea7\\uffe5242598.548\",\"\\u5269\\u4f59\\u91d1\\u989d\\uffe5242598.548\",\"\\u5f53\\u65e5\\u4ea4\\u6613\\u4f63\\u91d1\\uffe50.0\\uff09\",\"\\uffe50.0\",\"\\uffe50.0\",null],[\"2021-07-02\",\"--\",\"--\",\"--\",\"--\",\"--\",\"--\",\"--\"],[\"\",\"\",\"\\uff08\\u603b\\u8d44\\u4ea7\\uffe5242598.548\",\"\\u5269\\u4f59\\u91d1\\u989d\\uffe5242598.548\",\"\\u5f53\\u65e5\\u4ea4\\u6613\\u4f63\\u91d1\\uffe50.0\\uff09\",\"\\uffe50.0\",\"\\uffe50.0\",null],[\"2021-07-01\",\"--\",\"--\",\"--\",\"--\",\"--\",\"--\",\"--\"],[\"\",\"\",\"\\uff08\\u603b\\u8d44\\u4ea7\\uffe5242598.548\",\"\\u5269\\u4f59\\u91d1\\u989d\\uffe5242598.548\",\"\\u5f53\\u65e5\\u4ea4\\u6613\\u4f63\\u91d1\\uffe50.0\\uff09\",\"\\uffe50.0\",\"\\uffe50.0\",null],[\"2021-06-30\",\"--\",\"--\",\"--\",\"--\",\"--\",\"--\",\"--\"],[\"\",\"\",\"\\uff08\\u603b\\u8d44\\u4ea7\\uffe5242598.548\",\"\\u5269\\u4f59\\u91d1\\u989d\\uffe5242598.548\",\"\\u5f53\\u65e5\\u4ea4\\u6613\\u4f63\\u91d1\\uffe50.0\\uff09\",\"\\uffe50.0\",\"\\uffe50.0\",null],[\"2021-06-29\",\"--\",\"--\",\"--\",\"--\",\"--\",\"--\",\"--\"],[\"\",\"\",\"\\uff08\\u603b\\u8d44\\u4ea7\\uffe5242598.548\",\"\\u5269\\u4f59\\u91d1\\u989d\\uffe5242598.548\",\"\\u5f53\\u65e5\\u4ea4\\u6613\\u4f63\\u91d1\\uffe50.0\\uff09\",\"\\uffe50.0\",\"\\uffe50.0\",null],[\"2021-06-28\",\"--\",\"--\",\"--\",\"--\",\"--\",\"--\",\"--\"],[\"\",\"\",\"\\uff08\\u603b\\u8d44\\u4ea7\\uffe5242598.548\",\"\\u5269\\u4f59\\u91d1\\u989d\\uffe5242598.548\",\"\\u5f53\\u65e5\\u4ea4\\u6613\\u4f63\\u91d1\\uffe50.0\\uff09\",\"\\uffe50.0\",\"\\uffe50.0\",null],[\"2021-06-25\",\"--\",\"--\",\"--\",\"--\",\"--\",\"--\",\"--\"],[\"\",\"\",\"\\uff08\\u603b\\u8d44\\u4ea7\\uffe5242598.548\",\"\\u5269\\u4f59\\u91d1\\u989d\\uffe5242598.548\",\"\\u5f53\\u65e5\\u4ea4\\u6613\\u4f63\\u91d1\\uffe50.0\\uff09\",\"\\uffe50.0\",\"\\uffe50.0\",null],[\"2021-06-24\",\"--\",\"--\",\"--\",\"--\",\"--\",\"--\",\"--\"],[\"\",\"\",\"\\uff08\\u603b\\u8d44\\u4ea7\\uffe5242598.548\",\"\\u5269\\u4f59\\u91d1\\u989d\\uffe5242598.548\",\"\\u5f53\\u65e5\\u4ea4\\u6613\\u4f63\\u91d1\\uffe50.0\\uff09\",\"\\uffe50.0\",\"\\uffe50.0\",null],[\"2021-06-23\",\"--\",\"--\",\"--\",\"--\",\"--\",\"--\",\"--\"],[\"\",\"\",\"\\uff08\\u603b\\u8d44\\u4ea7\\uffe5242598.548\",\"\\u5269\\u4f59\\u91d1\\u989d\\uffe5242598.548\",\"\\u5f53\\u65e5\\u4ea4\\u6613\\u4f63\\u91d1\\uffe50.0\\uff09\",\"\\uffe50.0\",\"\\uffe50.0\",null],[\"2021-06-22\",\"--\",\"--\",\"--\",\"--\",\"--\",\"--\",\"--\"],[\"\",\"\",\"\\uff08\\u603b\\u8d44\\u4ea7\\uffe5242598.548\",\"\\u5269\\u4f59\\u91d1\\u989d\\uffe5242598.548\",\"\\u5f53\\u65e5\\u4ea4\\u6613\\u4f63\\u91d1\\uffe50.0\\uff09\",\"\\uffe50.0\",\"\\uffe50.0\",null],[\"2021-06-21\",\"--\",\"--\",\"--\",\"--\",\"--\",\"--\",\"--\"],[\"\",\"\",\"\\uff08\\u603b\\u8d44\\u4ea7\\uffe5242598.548\",\"\\u5269\\u4f59\\u91d1\\u989d\\uffe5242598.548\",\"\\u5f53\\u65e5\\u4ea4\\u6613\\u4f63\\u91d1\\uffe50.0\\uff09\",\"\\uffe50.0\",\"\\uffe50.0\",null],[\"2021-06-18\",\"--\",\"--\",\"--\",\"--\",\"--\",\"--\",\"--\"],[\"\",\"\",\"\\uff08\\u603b\\u8d44\\u4ea7\\uffe5242598.548\",\"\\u5269\\u4f59\\u91d1\\u989d\\uffe5242598.548\",\"\\u5f53\\u65e5\\u4ea4\\u6613\\u4f63\\u91d1\\uffe50.0\\uff09\",\"\\uffe50.0\",\"\\uffe50.0\",null],[\"2021-06-17\",\"--\",\"--\",\"--\",\"--\",\"--\",\"--\",\"--\"],[\"\",\"\",\"\\uff08\\u603b\\u8d44\\u4ea7\\uffe5242598.548\",\"\\u5269\\u4f59\\u91d1\\u989d\\uffe5242598.548\",\"\\u5f53\\u65e5\\u4ea4\\u6613\\u4f63\\u91d1\\uffe50.0\\uff09\",\"\\uffe50.0\",\"\\uffe50.0\",null],[\"2021-06-16\",\"--\",\"--\",\"--\",\"--\",\"--\",\"--\",\"--\"],[\"\",\"\",\"\\uff08\\u603b\\u8d44\\u4ea7\\uffe5242598.548\",\"\\u5269\\u4f59\\u91d1\\u989d\\uffe5242598.548\",\"\\u5f53\\u65e5\\u4ea4\\u6613\\u4f63\\u91d1\\uffe50.0\\uff09\",\"\\uffe50.0\",\"\\uffe50.0\",null],[\"2021-06-15\",\"--\",\"--\",\"--\",\"--\",\"--\",\"--\",\"--\"],[\"\",\"\",\"\\uff08\\u603b\\u8d44\\u4ea7\\uffe5242598.548\",\"\\u5269\\u4f59\\u91d1\\u989d\\uffe5242598.548\",\"\\u5f53\\u65e5\\u4ea4\\u6613\\u4f63\\u91d1\\uffe50.0\\uff09\",\"\\uffe50.0\",\"\\uffe50.0\",null],[\"2021-06-11\",\"--\",\"--\",\"--\",\"--\",\"--\",\"--\",\"--\"],[\"\",\"\",\"\\uff08\\u603b\\u8d44\\u4ea7\\uffe5242598.548\",\"\\u5269\\u4f59\\u91d1\\u989d\\uffe5242598.548\",\"\\u5f53\\u65e5\\u4ea4\\u6613\\u4f63\\u91d1\\uffe50.0\\uff09\",\"\\uffe50.0\",\"\\uffe50.0\",null],[\"2021-06-10\",\"--\",\"--\",\"--\",\"--\",\"--\",\"--\",\"--\"],[\"\",\"\",\"\\uff08\\u603b\\u8d44\\u4ea7\\uffe5242598.548\",\"\\u5269\\u4f59\\u91d1\\u989d\\uffe5242598.548\",\"\\u5f53\\u65e5\\u4ea4\\u6613\\u4f63\\u91d1\\uffe50.0\\uff09\",\"\\uffe50.0\",\"\\uffe50.0\",null],[\"2021-06-09\",\"--\",\"--\",\"--\",\"--\",\"--\",\"--\",\"--\"],[\"\",\"\",\"\\uff08\\u603b\\u8d44\\u4ea7\\uffe5242598.548\",\"\\u5269\\u4f59\\u91d1\\u989d\\uffe5242598.548\",\"\\u5f53\\u65e5\\u4ea4\\u6613\\u4f63\\u91d1\\uffe50.0\\uff09\",\"\\uffe50.0\",\"\\uffe50.0\",null],[\"2021-06-08\",\"--\",\"--\",\"--\",\"--\",\"--\",\"--\",\"--\"],[\"\",\"\",\"\\uff08\\u603b\\u8d44\\u4ea7\\uffe5242598.548\",\"\\u5269\\u4f59\\u91d1\\u989d\\uffe5242598.548\",\"\\u5f53\\u65e5\\u4ea4\\u6613\\u4f63\\u91d1\\uffe50.0\\uff09\",\"\\uffe50.0\",\"\\uffe50.0\",null],[\"2021-06-07\",\"--\",\"--\",\"--\",\"--\",\"--\",\"--\",\"--\"],[\"\",\"\",\"\\uff08\\u603b\\u8d44\\u4ea7\\uffe5242598.548\",\"\\u5269\\u4f59\\u91d1\\u989d\\uffe5242598.548\",\"\\u5f53\\u65e5\\u4ea4\\u6613\\u4f63\\u91d1\\uffe50.0\\uff09\",\"\\uffe50.0\",\"\\uffe50.0\",null],[\"2021-06-04\",\"--\",\"--\",\"--\",\"--\",\"--\",\"--\",\"--\"],[\"\",\"\",\"\\uff08\\u603b\\u8d44\\u4ea7\\uffe5242598.548\",\"\\u5269\\u4f59\\u91d1\\u989d\\uffe5242598.548\",\"\\u5f53\\u65e5\\u4ea4\\u6613\\u4f63\\u91d1\\uffe50.0\\uff09\",\"\\uffe50.0\",\"\\uffe50.0\",null],[\"2021-06-03\",\"--\",\"--\",\"--\",\"--\",\"--\",\"--\",\"--\"],[\"\",\"\",\"\\uff08\\u603b\\u8d44\\u4ea7\\uffe5242598.548\",\"\\u5269\\u4f59\\u91d1\\u989d\\uffe5242598.548\",\"\\u5f53\\u65e5\\u4ea4\\u6613\\u4f63\\u91d1\\uffe50.0\\uff09\",\"\\uffe50.0\",\"\\uffe50.0\",null],[\"2021-06-02\",\"--\",\"--\",\"--\",\"--\",\"--\",\"--\",\"--\"],[\"\",\"\",\"\\uff08\\u603b\\u8d44\\u4ea7\\uffe5242598.548\",\"\\u5269\\u4f59\\u91d1\\u989d\\uffe5242598.548\",\"\\u5f53\\u65e5\\u4ea4\\u6613\\u4f63\\u91d1\\uffe50.0\\uff09\",\"\\uffe50.0\",\"\\uffe50.0\",null],[\"2021-06-01\",\"--\",\"--\",\"--\",\"--\",\"--\",\"--\",\"--\"],[\"\",\"\",\"\\uff08\\u603b\\u8d44\\u4ea7\\uffe5242598.548\",\"\\u5269\\u4f59\\u91d1\\u989d\\uffe5242598.548\",\"\\u5f53\\u65e5\\u4ea4\\u6613\\u4f63\\u91d1\\uffe50.0\\uff09\",\"\\uffe50.0\",\"\\uffe50.0\",null],[\"2021-05-31\",\"--\",\"--\",\"--\",\"--\",\"--\",\"--\",\"--\"],[\"\",\"\",\"\\uff08\\u603b\\u8d44\\u4ea7\\uffe5242598.548\",\"\\u5269\\u4f59\\u91d1\\u989d\\uffe5242598.548\",\"\\u5f53\\u65e5\\u4ea4\\u6613\\u4f63\\u91d1\\uffe50.0\\uff09\",\"\\uffe50.0\",\"\\uffe50.0\",null],[\"2021-05-28\",\"--\",\"--\",\"--\",\"--\",\"--\",\"--\",\"--\"],[\"\",\"\",\"\\uff08\\u603b\\u8d44\\u4ea7\\uffe5242598.548\",\"\\u5269\\u4f59\\u91d1\\u989d\\uffe5242598.548\",\"\\u5f53\\u65e5\\u4ea4\\u6613\\u4f63\\u91d1\\uffe50.0\\uff09\",\"\\uffe50.0\",\"\\uffe50.0\",null],[\"2021-05-27\",\"--\",\"--\",\"--\",\"--\",\"--\",\"--\",\"--\"],[\"\",\"\",\"\\uff08\\u603b\\u8d44\\u4ea7\\uffe5242598.548\",\"\\u5269\\u4f59\\u91d1\\u989d\\uffe5242598.548\",\"\\u5f53\\u65e5\\u4ea4\\u6613\\u4f63\\u91d1\\uffe50.0\\uff09\",\"\\uffe50.0\",\"\\uffe50.0\",null],[\"2021-05-26\",\"--\",\"--\",\"--\",\"--\",\"--\",\"--\",\"--\"],[\"\",\"\",\"\\uff08\\u603b\\u8d44\\u4ea7\\uffe5242598.548\",\"\\u5269\\u4f59\\u91d1\\u989d\\uffe5242598.548\",\"\\u5f53\\u65e5\\u4ea4\\u6613\\u4f63\\u91d1\\uffe50.0\\uff09\",\"\\uffe50.0\",\"\\uffe50.0\",null],[\"2021-05-25\",\"--\",\"--\",\"--\",\"--\",\"--\",\"--\",\"--\"],[\"\",\"\",\"\\uff08\\u603b\\u8d44\\u4ea7\\uffe5242598.548\",\"\\u5269\\u4f59\\u91d1\\u989d\\uffe5242598.548\",\"\\u5f53\\u65e5\\u4ea4\\u6613\\u4f63\\u91d1\\uffe50.0\\uff09\",\"\\uffe50.0\",\"\\uffe50.0\",null],[\"2021-05-24\",\"--\",\"--\",\"--\",\"--\",\"--\",\"--\",\"--\"],[\"\",\"\",\"\\uff08\\u603b\\u8d44\\u4ea7\\uffe5242598.548\",\"\\u5269\\u4f59\\u91d1\\u989d\\uffe5242598.548\",\"\\u5f53\\u65e5\\u4ea4\\u6613\\u4f63\\u91d1\\uffe50.0\\uff09\",\"\\uffe50.0\",\"\\uffe50.0\",null],[\"2021-05-21\",\"--\",\"--\",\"--\",\"--\",\"--\",\"--\",\"--\"],[\"\",\"\",\"\\uff08\\u603b\\u8d44\\u4ea7\\uffe5242598.548\",\"\\u5269\\u4f59\\u91d1\\u989d\\uffe5242598.548\",\"\\u5f53\\u65e5\\u4ea4\\u6613\\u4f63\\u91d1\\uffe50.0\\uff09\",\"\\uffe50.0\",\"\\uffe50.0\",null],[\"2021-05-20\",\"--\",\"--\",\"--\",\"--\",\"--\",\"--\",\"--\"],[\"\",\"\",\"\\uff08\\u603b\\u8d44\\u4ea7\\uffe5242598.548\",\"\\u5269\\u4f59\\u91d1\\u989d\\uffe5242598.548\",\"\\u5f53\\u65e5\\u4ea4\\u6613\\u4f63\\u91d1\\uffe50.0\\uff09\",\"\\uffe50.0\",\"\\uffe50.0\",null],[\"2021-05-19\",\"--\",\"--\",\"--\",\"--\",\"--\",\"--\",\"--\"],[\"\",\"\",\"\\uff08\\u603b\\u8d44\\u4ea7\\uffe5242598.548\",\"\\u5269\\u4f59\\u91d1\\u989d\\uffe5242598.548\",\"\\u5f53\\u65e5\\u4ea4\\u6613\\u4f63\\u91d1\\uffe50.0\\uff09\",\"\\uffe50.0\",\"\\uffe50.0\",null],[\"2021-05-18\",\"--\",\"--\",\"--\",\"--\",\"--\",\"--\",\"--\"],[\"\",\"\",\"\\uff08\\u603b\\u8d44\\u4ea7\\uffe5242598.548\",\"\\u5269\\u4f59\\u91d1\\u989d\\uffe5242598.548\",\"\\u5f53\\u65e5\\u4ea4\\u6613\\u4f63\\u91d1\\uffe50.0\\uff09\",\"\\uffe50.0\",\"\\uffe50.0\",null],[\"2021-05-17\",\"--\",\"--\",\"--\",\"--\",\"--\",\"--\",\"--\"],[\"\",\"\",\"\\uff08\\u603b\\u8d44\\u4ea7\\uffe5242598.548\",\"\\u5269\\u4f59\\u91d1\\u989d\\uffe5242598.548\",\"\\u5f53\\u65e5\\u4ea4\\u6613\\u4f63\\u91d1\\uffe50.0\\uff09\",\"\\uffe50.0\",\"\\uffe50.0\",null],[\"2021-05-14\",\"--\",\"--\",\"--\",\"--\",\"--\",\"--\",\"--\"],[\"\",\"\",\"\\uff08\\u603b\\u8d44\\u4ea7\\uffe5242598.548\",\"\\u5269\\u4f59\\u91d1\\u989d\\uffe5242598.548\",\"\\u5f53\\u65e5\\u4ea4\\u6613\\u4f63\\u91d1\\uffe50.0\\uff09\",\"\\uffe50.0\",\"\\uffe50.0\",null],[\"2021-05-13\",\"--\",\"--\",\"--\",\"--\",\"--\",\"--\",\"--\"],[\"\",\"\",\"\\uff08\\u603b\\u8d44\\u4ea7\\uffe5242598.548\",\"\\u5269\\u4f59\\u91d1\\u989d\\uffe5242598.548\",\"\\u5f53\\u65e5\\u4ea4\\u6613\\u4f63\\u91d1\\uffe50.0\\uff09\",\"\\uffe50.0\",\"\\uffe50.0\",null],[\"2021-05-12\",\"--\",\"--\",\"--\",\"--\",\"--\",\"--\",\"--\"],[\"\",\"\",\"\\uff08\\u603b\\u8d44\\u4ea7\\uffe5242598.548\",\"\\u5269\\u4f59\\u91d1\\u989d\\uffe5242598.548\",\"\\u5f53\\u65e5\\u4ea4\\u6613\\u4f63\\u91d1\\uffe50.0\\uff09\",\"\\uffe50.0\",\"\\uffe50.0\",null],[\"2021-05-11\",\"--\",\"--\",\"--\",\"--\",\"--\",\"--\",\"--\"],[\"\",\"\",\"\\uff08\\u603b\\u8d44\\u4ea7\\uffe5242598.548\",\"\\u5269\\u4f59\\u91d1\\u989d\\uffe5242598.548\",\"\\u5f53\\u65e5\\u4ea4\\u6613\\u4f63\\u91d1\\uffe50.0\\uff09\",\"\\uffe50.0\",\"\\uffe50.0\",null],[\"2021-05-10\",\"--\",\"--\",\"--\",\"--\",\"--\",\"--\",\"--\"],[\"\",\"\",\"\\uff08\\u603b\\u8d44\\u4ea7\\uffe5242598.548\",\"\\u5269\\u4f59\\u91d1\\u989d\\uffe5242598.548\",\"\\u5f53\\u65e5\\u4ea4\\u6613\\u4f63\\u91d1\\uffe50.0\\uff09\",\"\\uffe50.0\",\"\\uffe50.0\",null],[\"2021-05-07\",\"--\",\"--\",\"--\",\"--\",\"--\",\"--\",\"--\"],[\"\",\"\",\"\\uff08\\u603b\\u8d44\\u4ea7\\uffe5242598.548\",\"\\u5269\\u4f59\\u91d1\\u989d\\uffe5242598.548\",\"\\u5f53\\u65e5\\u4ea4\\u6613\\u4f63\\u91d1\\uffe50.0\\uff09\",\"\\uffe50.0\",\"\\uffe50.0\",null],[\"2021-05-06\",\"--\",\"--\",\"--\",\"--\",\"--\",\"--\",\"--\"],[\"\",\"\",\"\\uff08\\u603b\\u8d44\\u4ea7\\uffe5242598.548\",\"\\u5269\\u4f59\\u91d1\\u989d\\uffe5242598.548\",\"\\u5f53\\u65e5\\u4ea4\\u6613\\u4f63\\u91d1\\uffe50.0\\uff09\",\"\\uffe50.0\",\"\\uffe50.0\",null],[\"2021-04-30\",\"--\",\"--\",\"--\",\"--\",\"--\",\"--\",\"--\"],[\"\",\"\",\"\\uff08\\u603b\\u8d44\\u4ea7\\uffe5242598.548\",\"\\u5269\\u4f59\\u91d1\\u989d\\uffe5242598.548\",\"\\u5f53\\u65e5\\u4ea4\\u6613\\u4f63\\u91d1\\uffe50.0\\uff09\",\"\\uffe50.0\",\"\\uffe50.0\",null],[\"2021-04-29\",\"--\",\"--\",\"--\",\"--\",\"--\",\"--\",\"--\"],[\"\",\"\",\"\\uff08\\u603b\\u8d44\\u4ea7\\uffe5242598.548\",\"\\u5269\\u4f59\\u91d1\\u989d\\uffe5242598.548\",\"\\u5f53\\u65e5\\u4ea4\\u6613\\u4f63\\u91d1\\uffe50.0\\uff09\",\"\\uffe50.0\",\"\\uffe50.0\",null],[\"2021-04-28\",\"--\",\"--\",\"--\",\"--\",\"--\",\"--\",\"--\"],[\"\",\"\",\"\\uff08\\u603b\\u8d44\\u4ea7\\uffe5242598.548\",\"\\u5269\\u4f59\\u91d1\\u989d\\uffe5242598.548\",\"\\u5f53\\u65e5\\u4ea4\\u6613\\u4f63\\u91d1\\uffe50.0\\uff09\",\"\\uffe50.0\",\"\\uffe50.0\",null],[\"2021-04-27\",\"--\",\"--\",\"--\",\"--\",\"--\",\"--\",\"--\"],[\"\",\"\",\"\\uff08\\u603b\\u8d44\\u4ea7\\uffe5242598.548\",\"\\u5269\\u4f59\\u91d1\\u989d\\uffe5242598.548\",\"\\u5f53\\u65e5\\u4ea4\\u6613\\u4f63\\u91d1\\uffe50.0\\uff09\",\"\\uffe50.0\",\"\\uffe50.0\",null],[\"2021-04-26\",\"--\",\"--\",\"--\",\"--\",\"--\",\"--\",\"--\"],[\"\",\"\",\"\\uff08\\u603b\\u8d44\\u4ea7\\uffe5242598.548\",\"\\u5269\\u4f59\\u91d1\\u989d\\uffe5242598.548\",\"\\u5f53\\u65e5\\u4ea4\\u6613\\u4f63\\u91d1\\uffe50.0\\uff09\",\"\\uffe50.0\",\"\\uffe50.0\",null],[\"2021-04-23\",\"--\",\"--\",\"--\",\"--\",\"--\",\"--\",\"--\"],[\"\",\"\",\"\\uff08\\u603b\\u8d44\\u4ea7\\uffe5242598.548\",\"\\u5269\\u4f59\\u91d1\\u989d\\uffe5242598.548\",\"\\u5f53\\u65e5\\u4ea4\\u6613\\u4f63\\u91d1\\uffe50.0\\uff09\",\"\\uffe50.0\",\"\\uffe50.0\",null],[\"2021-04-22\",\"--\",\"--\",\"--\",\"--\",\"--\",\"--\",\"--\"],[\"\",\"\",\"\\uff08\\u603b\\u8d44\\u4ea7\\uffe5242598.548\",\"\\u5269\\u4f59\\u91d1\\u989d\\uffe5242598.548\",\"\\u5f53\\u65e5\\u4ea4\\u6613\\u4f63\\u91d1\\uffe50.0\\uff09\",\"\\uffe50.0\",\"\\uffe50.0\",null],[\"2021-04-21\",\"--\",\"--\",\"--\",\"--\",\"--\",\"--\",\"--\"],[\"\",\"\",\"\\uff08\\u603b\\u8d44\\u4ea7\\uffe5242598.548\",\"\\u5269\\u4f59\\u91d1\\u989d\\uffe5242598.548\",\"\\u5f53\\u65e5\\u4ea4\\u6613\\u4f63\\u91d1\\uffe50.0\\uff09\",\"\\uffe50.0\",\"\\uffe50.0\",null],[\"2021-04-20\",\"--\",\"--\",\"--\",\"--\",\"--\",\"--\",\"--\"],[\"\",\"\",\"\\uff08\\u603b\\u8d44\\u4ea7\\uffe5242598.548\",\"\\u5269\\u4f59\\u91d1\\u989d\\uffe5242598.548\",\"\\u5f53\\u65e5\\u4ea4\\u6613\\u4f63\\u91d1\\uffe50.0\\uff09\",\"\\uffe50.0\",\"\\uffe50.0\",null],[\"2021-04-19\",\"--\",\"--\",\"--\",\"--\",\"--\",\"--\",\"--\"],[\"\",\"\",\"\\uff08\\u603b\\u8d44\\u4ea7\\uffe5242598.548\",\"\\u5269\\u4f59\\u91d1\\u989d\\uffe5242598.548\",\"\\u5f53\\u65e5\\u4ea4\\u6613\\u4f63\\u91d1\\uffe50.0\\uff09\",\"\\uffe50.0\",\"\\uffe50.0\",null],[\"2021-04-16\",\"--\",\"--\",\"--\",\"--\",\"--\",\"--\",\"--\"],[\"\",\"\",\"\\uff08\\u603b\\u8d44\\u4ea7\\uffe5242598.548\",\"\\u5269\\u4f59\\u91d1\\u989d\\uffe5242598.548\",\"\\u5f53\\u65e5\\u4ea4\\u6613\\u4f63\\u91d1\\uffe50.0\\uff09\",\"\\uffe50.0\",\"\\uffe50.0\",null],[\"2021-04-15\",\"--\",\"--\",\"--\",\"--\",\"--\",\"--\",\"--\"],[\"\",\"\",\"\\uff08\\u603b\\u8d44\\u4ea7\\uffe5242598.548\",\"\\u5269\\u4f59\\u91d1\\u989d\\uffe5242598.548\",\"\\u5f53\\u65e5\\u4ea4\\u6613\\u4f63\\u91d1\\uffe50.0\\uff09\",\"\\uffe50.0\",\"\\uffe50.0\",null],[\"2021-04-14\",\"--\",\"--\",\"--\",\"--\",\"--\",\"--\",\"--\"],[\"\",\"\",\"\\uff08\\u603b\\u8d44\\u4ea7\\uffe5242598.548\",\"\\u5269\\u4f59\\u91d1\\u989d\\uffe5242598.548\",\"\\u5f53\\u65e5\\u4ea4\\u6613\\u4f63\\u91d1\\uffe50.0\\uff09\",\"\\uffe50.0\",\"\\uffe50.0\",null],[\"2021-04-13\",\"--\",\"--\",\"--\",\"--\",\"--\",\"--\",\"--\"],[\"\",\"\",\"\\uff08\\u603b\\u8d44\\u4ea7\\uffe5242598.548\",\"\\u5269\\u4f59\\u91d1\\u989d\\uffe5242598.548\",\"\\u5f53\\u65e5\\u4ea4\\u6613\\u4f63\\u91d1\\uffe50.0\\uff09\",\"\\uffe50.0\",\"\\uffe50.0\",null],[\"2021-04-12\",\"--\",\"--\",\"--\",\"--\",\"--\",\"--\",\"--\"],[\"\",\"\",\"\\uff08\\u603b\\u8d44\\u4ea7\\uffe5242598.548\",\"\\u5269\\u4f59\\u91d1\\u989d\\uffe5242598.548\",\"\\u5f53\\u65e5\\u4ea4\\u6613\\u4f63\\u91d1\\uffe50.0\\uff09\",\"\\uffe50.0\",\"\\uffe50.0\",null],[\"2021-04-09\",\"--\",\"--\",\"--\",\"--\",\"--\",\"--\",\"--\"],[\"\",\"\",\"\\uff08\\u603b\\u8d44\\u4ea7\\uffe5242598.548\",\"\\u5269\\u4f59\\u91d1\\u989d\\uffe5242598.548\",\"\\u5f53\\u65e5\\u4ea4\\u6613\\u4f63\\u91d1\\uffe50.0\\uff09\",\"\\uffe50.0\",\"\\uffe50.0\",null],[\"2021-04-08\",\"--\",\"--\",\"--\",\"--\",\"--\",\"--\",\"--\"],[\"\",\"\",\"\\uff08\\u603b\\u8d44\\u4ea7\\uffe5242598.548\",\"\\u5269\\u4f59\\u91d1\\u989d\\uffe5242598.548\",\"\\u5f53\\u65e5\\u4ea4\\u6613\\u4f63\\u91d1\\uffe50.0\\uff09\",\"\\uffe50.0\",\"\\uffe50.0\",null],[\"2021-04-07\",\"--\",\"--\",\"--\",\"--\",\"--\",\"--\",\"--\"],[\"\",\"\",\"\\uff08\\u603b\\u8d44\\u4ea7\\uffe5242598.548\",\"\\u5269\\u4f59\\u91d1\\u989d\\uffe5242598.548\",\"\\u5f53\\u65e5\\u4ea4\\u6613\\u4f63\\u91d1\\uffe50.0\\uff09\",\"\\uffe50.0\",\"\\uffe50.0\",null],[\"2021-04-06\",\"--\",\"--\",\"--\",\"--\",\"--\",\"--\",\"--\"],[\"\",\"\",\"\\uff08\\u603b\\u8d44\\u4ea7\\uffe5242598.548\",\"\\u5269\\u4f59\\u91d1\\u989d\\uffe5242598.548\",\"\\u5f53\\u65e5\\u4ea4\\u6613\\u4f63\\u91d1\\uffe50.0\\uff09\",\"\\uffe50.0\",\"\\uffe50.0\",null],[\"2021-04-02\",\"--\",\"--\",\"--\",\"--\",\"--\",\"--\",\"--\"],[\"\",\"\",\"\\uff08\\u603b\\u8d44\\u4ea7\\uffe5242598.548\",\"\\u5269\\u4f59\\u91d1\\u989d\\uffe5242598.548\",\"\\u5f53\\u65e5\\u4ea4\\u6613\\u4f63\\u91d1\\uffe50.0\\uff09\",\"\\uffe50.0\",\"\\uffe50.0\",null],[\"2021-04-01\",\"--\",\"--\",\"--\",\"--\",\"--\",\"--\",\"--\"],[\"\",\"\",\"\\uff08\\u603b\\u8d44\\u4ea7\\uffe5242598.548\",\"\\u5269\\u4f59\\u91d1\\u989d\\uffe5242598.548\",\"\\u5f53\\u65e5\\u4ea4\\u6613\\u4f63\\u91d1\\uffe50.0\\uff09\",\"\\uffe50.0\",\"\\uffe50.0\",null],[\"2021-03-31\",\"--\",\"--\",\"--\",\"--\",\"--\",\"--\",\"--\"],[\"\",\"\",\"\\uff08\\u603b\\u8d44\\u4ea7\\uffe5242598.548\",\"\\u5269\\u4f59\\u91d1\\u989d\\uffe5242598.548\",\"\\u5f53\\u65e5\\u4ea4\\u6613\\u4f63\\u91d1\\uffe50.0\\uff09\",\"\\uffe50.0\",\"\\uffe50.0\",null],[\"2021-03-30\",\"--\",\"--\",\"--\",\"--\",\"--\",\"--\",\"--\"],[\"\",\"\",\"\\uff08\\u603b\\u8d44\\u4ea7\\uffe5242598.548\",\"\\u5269\\u4f59\\u91d1\\u989d\\uffe5242598.548\",\"\\u5f53\\u65e5\\u4ea4\\u6613\\u4f63\\u91d1\\uffe50.0\\uff09\",\"\\uffe50.0\",\"\\uffe50.0\",null],[\"2021-03-29\",\"--\",\"--\",\"--\",\"--\",\"--\",\"--\",\"--\"],[\"\",\"\",\"\\uff08\\u603b\\u8d44\\u4ea7\\uffe5242598.548\",\"\\u5269\\u4f59\\u91d1\\u989d\\uffe5242598.548\",\"\\u5f53\\u65e5\\u4ea4\\u6613\\u4f63\\u91d1\\uffe50.0\\uff09\",\"\\uffe50.0\",\"\\uffe50.0\",null],[\"2021-03-26\",\"--\",\"--\",\"--\",\"--\",\"--\",\"--\",\"--\"],[\"\",\"\",\"\\uff08\\u603b\\u8d44\\u4ea7\\uffe5242598.548\",\"\\u5269\\u4f59\\u91d1\\u989d\\uffe5242598.548\",\"\\u5f53\\u65e5\\u4ea4\\u6613\\u4f63\\u91d1\\uffe50.0\\uff09\",\"\\uffe50.0\",\"\\uffe50.0\",null],[\"2021-03-25\",\"--\",\"--\",\"--\",\"--\",\"--\",\"--\",\"--\"],[\"\",\"\",\"\\uff08\\u603b\\u8d44\\u4ea7\\uffe5242598.548\",\"\\u5269\\u4f59\\u91d1\\u989d\\uffe5242598.548\",\"\\u5f53\\u65e5\\u4ea4\\u6613\\u4f63\\u91d1\\uffe50.0\\uff09\",\"\\uffe50.0\",\"\\uffe50.0\",null],[\"2021-03-24\",\"--\",\"--\",\"--\",\"--\",\"--\",\"--\",\"--\"],[\"\",\"\",\"\\uff08\\u603b\\u8d44\\u4ea7\\uffe5242598.548\",\"\\u5269\\u4f59\\u91d1\\u989d\\uffe5242598.548\",\"\\u5f53\\u65e5\\u4ea4\\u6613\\u4f63\\u91d1\\uffe50.0\\uff09\",\"\\uffe50.0\",\"\\uffe50.0\",null],[\"2021-03-23\",\"--\",\"--\",\"--\",\"--\",\"--\",\"--\",\"--\"],[\"\",\"\",\"\\uff08\\u603b\\u8d44\\u4ea7\\uffe5242598.548\",\"\\u5269\\u4f59\\u91d1\\u989d\\uffe5242598.548\",\"\\u5f53\\u65e5\\u4ea4\\u6613\\u4f63\\u91d1\\uffe50.0\\uff09\",\"\\uffe50.0\",\"\\uffe50.0\",null],[\"2021-03-22\",\"--\",\"--\",\"--\",\"--\",\"--\",\"--\",\"--\"],[\"\",\"\",\"\\uff08\\u603b\\u8d44\\u4ea7\\uffe5242598.548\",\"\\u5269\\u4f59\\u91d1\\u989d\\uffe5242598.548\",\"\\u5f53\\u65e5\\u4ea4\\u6613\\u4f63\\u91d1\\uffe50.0\\uff09\",\"\\uffe50.0\",\"\\uffe50.0\",null],[\"2021-03-19\",\"--\",\"--\",\"--\",\"--\",\"--\",\"--\",\"--\"],[\"\",\"\",\"\\uff08\\u603b\\u8d44\\u4ea7\\uffe5242598.548\",\"\\u5269\\u4f59\\u91d1\\u989d\\uffe5242598.548\",\"\\u5f53\\u65e5\\u4ea4\\u6613\\u4f63\\u91d1\\uffe50.0\\uff09\",\"\\uffe50.0\",\"\\uffe50.0\",null],[\"2021-03-18\",\"--\",\"--\",\"--\",\"--\",\"--\",\"--\",\"--\"],[\"\",\"\",\"\\uff08\\u603b\\u8d44\\u4ea7\\uffe5242598.548\",\"\\u5269\\u4f59\\u91d1\\u989d\\uffe5242598.548\",\"\\u5f53\\u65e5\\u4ea4\\u6613\\u4f63\\u91d1\\uffe50.0\\uff09\",\"\\uffe50.0\",\"\\uffe50.0\",null],[\"2021-03-17\",\"--\",\"--\",\"--\",\"--\",\"--\",\"--\",\"--\"],[\"\",\"\",\"\\uff08\\u603b\\u8d44\\u4ea7\\uffe5242598.548\",\"\\u5269\\u4f59\\u91d1\\u989d\\uffe5242598.548\",\"\\u5f53\\u65e5\\u4ea4\\u6613\\u4f63\\u91d1\\uffe50.0\\uff09\",\"\\uffe50.0\",\"\\uffe50.0\",null],[\"2021-03-16\",\"--\",\"--\",\"--\",\"--\",\"--\",\"--\",\"--\"],[\"\",\"\",\"\\uff08\\u603b\\u8d44\\u4ea7\\uffe5242598.548\",\"\\u5269\\u4f59\\u91d1\\u989d\\uffe5242598.548\",\"\\u5f53\\u65e5\\u4ea4\\u6613\\u4f63\\u91d1\\uffe50.0\\uff09\",\"\\uffe50.0\",\"\\uffe50.0\",null],[\"2021-03-15\",\"--\",\"--\",\"--\",\"--\",\"--\",\"--\",\"--\"],[\"\",\"\",\"\\uff08\\u603b\\u8d44\\u4ea7\\uffe5242598.548\",\"\\u5269\\u4f59\\u91d1\\u989d\\uffe5242598.548\",\"\\u5f53\\u65e5\\u4ea4\\u6613\\u4f63\\u91d1\\uffe50.0\\uff09\",\"\\uffe50.0\",\"\\uffe50.0\",null],[\"2021-03-12\",\"--\",\"--\",\"--\",\"--\",\"--\",\"--\",\"--\"],[\"\",\"\",\"\\uff08\\u603b\\u8d44\\u4ea7\\uffe5242598.548\",\"\\u5269\\u4f59\\u91d1\\u989d\\uffe5242598.548\",\"\\u5f53\\u65e5\\u4ea4\\u6613\\u4f63\\u91d1\\uffe50.0\\uff09\",\"\\uffe50.0\",\"\\uffe50.0\",null],[\"2021-03-11\",\"--\",\"--\",\"--\",\"--\",\"--\",\"--\",\"--\"],[\"\",\"\",\"\\uff08\\u603b\\u8d44\\u4ea7\\uffe5242598.548\",\"\\u5269\\u4f59\\u91d1\\u989d\\uffe5242598.548\",\"\\u5f53\\u65e5\\u4ea4\\u6613\\u4f63\\u91d1\\uffe5304.82\\uff09\",\"\\uffe50.0\",\"\\uffe50.0\",null],[\"2021-03-10\",\"603353.SHA\",\"\\u548c\\u987a\\u77f3\\u6cb9\",40.1,\"39.070\",6000,234419.998,-6180.147],[\"\",\"\",\"\\uff08\\u603b\\u8d44\\u4ea7\\uffe5242843.624\",\"\\u5269\\u4f59\\u91d1\\u989d\\uffe58423.626\",\"\\u5f53\\u65e5\\u4ea4\\u6613\\u4f63\\u91d1\\uffe572.18\\uff09\",\"\\uffe5234419.998\",\"\\uffe5-6180.147\",null],[\"2021-03-09\",\"--\",\"--\",\"--\",\"--\",\"--\",\"--\",\"--\"],[\"\",\"\",\"\\uff08\\u603b\\u8d44\\u4ea7\\uffe5249095.952\",\"\\u5269\\u4f59\\u91d1\\u989d\\uffe5249095.952\",\"\\u5f53\\u65e5\\u4ea4\\u6613\\u4f63\\u91d1\\uffe50.0\\uff09\",\"\\uffe50.0\",\"\\uffe50.0\",null],[\"2021-03-08\",\"--\",\"--\",\"--\",\"--\",\"--\",\"--\",\"--\"],[\"\",\"\",\"\\uff08\\u603b\\u8d44\\u4ea7\\uffe5249095.952\",\"\\u5269\\u4f59\\u91d1\\u989d\\uffe5249095.952\",\"\\u5f53\\u65e5\\u4ea4\\u6613\\u4f63\\u91d1\\uffe50.0\\uff09\",\"\\uffe50.0\",\"\\uffe50.0\",null],[\"2021-03-05\",\"--\",\"--\",\"--\",\"--\",\"--\",\"--\",\"--\"],[\"\",\"\",\"\\uff08\\u603b\\u8d44\\u4ea7\\uffe5249095.952\",\"\\u5269\\u4f59\\u91d1\\u989d\\uffe5249095.952\",\"\\u5f53\\u65e5\\u4ea4\\u6613\\u4f63\\u91d1\\uffe50.0\\uff09\",\"\\uffe50.0\",\"\\uffe50.0\",null],[\"2021-03-04\",\"--\",\"--\",\"--\",\"--\",\"--\",\"--\",\"--\"],[\"\",\"\",\"\\uff08\\u603b\\u8d44\\u4ea7\\uffe5249095.952\",\"\\u5269\\u4f59\\u91d1\\u989d\\uffe5249095.952\",\"\\u5f53\\u65e5\\u4ea4\\u6613\\u4f63\\u91d1\\uffe50.0\\uff09\",\"\\uffe50.0\",\"\\uffe50.0\",null],[\"2021-03-03\",\"--\",\"--\",\"--\",\"--\",\"--\",\"--\",\"--\"],[\"\",\"\",\"\\uff08\\u603b\\u8d44\\u4ea7\\uffe5249095.952\",\"\\u5269\\u4f59\\u91d1\\u989d\\uffe5249095.952\",\"\\u5f53\\u65e5\\u4ea4\\u6613\\u4f63\\u91d1\\uffe50.0\\uff09\",\"\\uffe50.0\",\"\\uffe50.0\",null],[\"2021-03-02\",\"--\",\"--\",\"--\",\"--\",\"--\",\"--\",\"--\"],[\"\",\"\",\"\\uff08\\u603b\\u8d44\\u4ea7\\uffe5249095.952\",\"\\u5269\\u4f59\\u91d1\\u989d\\uffe5249095.952\",\"\\u5f53\\u65e5\\u4ea4\\u6613\\u4f63\\u91d1\\uffe50.0\\uff09\",\"\\uffe50.0\",\"\\uffe50.0\",null],[\"2021-03-01\",\"--\",\"--\",\"--\",\"--\",\"--\",\"--\",\"--\"],[\"\",\"\",\"\\uff08\\u603b\\u8d44\\u4ea7\\uffe5249095.952\",\"\\u5269\\u4f59\\u91d1\\u989d\\uffe5249095.952\",\"\\u5f53\\u65e5\\u4ea4\\u6613\\u4f63\\u91d1\\uffe50.0\\uff09\",\"\\uffe50.0\",\"\\uffe50.0\",null],[\"2021-02-26\",\"--\",\"--\",\"--\",\"--\",\"--\",\"--\",\"--\"],[\"\",\"\",\"\\uff08\\u603b\\u8d44\\u4ea7\\uffe5249095.952\",\"\\u5269\\u4f59\\u91d1\\u989d\\uffe5249095.952\",\"\\u5f53\\u65e5\\u4ea4\\u6613\\u4f63\\u91d1\\uffe50.0\\uff09\",\"\\uffe50.0\",\"\\uffe50.0\",null],[\"2021-02-25\",\"--\",\"--\",\"--\",\"--\",\"--\",\"--\",\"--\"],[\"\",\"\",\"\\uff08\\u603b\\u8d44\\u4ea7\\uffe5249095.952\",\"\\u5269\\u4f59\\u91d1\\u989d\\uffe5249095.952\",\"\\u5f53\\u65e5\\u4ea4\\u6613\\u4f63\\u91d1\\uffe50.0\\uff09\",\"\\uffe50.0\",\"\\uffe50.0\",null],[\"2021-02-24\",\"--\",\"--\",\"--\",\"--\",\"--\",\"--\",\"--\"],[\"\",\"\",\"\\uff08\\u603b\\u8d44\\u4ea7\\uffe5249095.952\",\"\\u5269\\u4f59\\u91d1\\u989d\\uffe5249095.952\",\"\\u5f53\\u65e5\\u4ea4\\u6613\\u4f63\\u91d1\\uffe50.0\\uff09\",\"\\uffe50.0\",\"\\uffe50.0\",null],[\"2021-02-23\",\"--\",\"--\",\"--\",\"--\",\"--\",\"--\",\"--\"],[\"\",\"\",\"\\uff08\\u603b\\u8d44\\u4ea7\\uffe5249095.952\",\"\\u5269\\u4f59\\u91d1\\u989d\\uffe5249095.952\",\"\\u5f53\\u65e5\\u4ea4\\u6613\\u4f63\\u91d1\\uffe50.0\\uff09\",\"\\uffe50.0\",\"\\uffe50.0\",null],[\"2021-02-22\",\"--\",\"--\",\"--\",\"--\",\"--\",\"--\",\"--\"],[\"\",\"\",\"\\uff08\\u603b\\u8d44\\u4ea7\\uffe5249095.952\",\"\\u5269\\u4f59\\u91d1\\u989d\\uffe5249095.952\",\"\\u5f53\\u65e5\\u4ea4\\u6613\\u4f63\\u91d1\\uffe50.0\\uff09\",\"\\uffe50.0\",\"\\uffe50.0\",null],[\"2021-02-19\",\"--\",\"--\",\"--\",\"--\",\"--\",\"--\",\"--\"],[\"\",\"\",\"\\uff08\\u603b\\u8d44\\u4ea7\\uffe5249095.952\",\"\\u5269\\u4f59\\u91d1\\u989d\\uffe5249095.952\",\"\\u5f53\\u65e5\\u4ea4\\u6613\\u4f63\\u91d1\\uffe50.0\\uff09\",\"\\uffe50.0\",\"\\uffe50.0\",null],[\"2021-02-18\",\"--\",\"--\",\"--\",\"--\",\"--\",\"--\",\"--\"],[\"\",\"\",\"\\uff08\\u603b\\u8d44\\u4ea7\\uffe5249095.952\",\"\\u5269\\u4f59\\u91d1\\u989d\\uffe5249095.952\",\"\\u5f53\\u65e5\\u4ea4\\u6613\\u4f63\\u91d1\\uffe50.0\\uff09\",\"\\uffe50.0\",\"\\uffe50.0\",null],[\"2021-02-10\",\"--\",\"--\",\"--\",\"--\",\"--\",\"--\",\"--\"],[\"\",\"\",\"\\uff08\\u603b\\u8d44\\u4ea7\\uffe5249095.952\",\"\\u5269\\u4f59\\u91d1\\u989d\\uffe5249095.952\",\"\\u5f53\\u65e5\\u4ea4\\u6613\\u4f63\\u91d1\\uffe50.0\\uff09\",\"\\uffe50.0\",\"\\uffe50.0\",null],[\"2021-02-09\",\"--\",\"--\",\"--\",\"--\",\"--\",\"--\",\"--\"],[\"\",\"\",\"\\uff08\\u603b\\u8d44\\u4ea7\\uffe5249095.952\",\"\\u5269\\u4f59\\u91d1\\u989d\\uffe5249095.952\",\"\\u5f53\\u65e5\\u4ea4\\u6613\\u4f63\\u91d1\\uffe50.0\\uff09\",\"\\uffe50.0\",\"\\uffe50.0\",null],[\"2021-02-08\",\"--\",\"--\",\"--\",\"--\",\"--\",\"--\",\"--\"],[\"\",\"\",\"\\uff08\\u603b\\u8d44\\u4ea7\\uffe5249095.952\",\"\\u5269\\u4f59\\u91d1\\u989d\\uffe5249095.952\",\"\\u5f53\\u65e5\\u4ea4\\u6613\\u4f63\\u91d1\\uffe50.0\\uff09\",\"\\uffe50.0\",\"\\uffe50.0\",null],[\"2021-02-05\",\"--\",\"--\",\"--\",\"--\",\"--\",\"--\",\"--\"],[\"\",\"\",\"\\uff08\\u603b\\u8d44\\u4ea7\\uffe5249095.952\",\"\\u5269\\u4f59\\u91d1\\u989d\\uffe5249095.952\",\"\\u5f53\\u65e5\\u4ea4\\u6613\\u4f63\\u91d1\\uffe50.0\\uff09\",\"\\uffe50.0\",\"\\uffe50.0\",null],[\"2021-02-04\",\"--\",\"--\",\"--\",\"--\",\"--\",\"--\",\"--\"],[\"\",\"\",\"\\uff08\\u603b\\u8d44\\u4ea7\\uffe5249095.952\",\"\\u5269\\u4f59\\u91d1\\u989d\\uffe5249095.952\",\"\\u5f53\\u65e5\\u4ea4\\u6613\\u4f63\\u91d1\\uffe50.0\\uff09\",\"\\uffe50.0\",\"\\uffe50.0\",null],[\"2021-02-03\",\"--\",\"--\",\"--\",\"--\",\"--\",\"--\",\"--\"],[\"\",\"\",\"\\uff08\\u603b\\u8d44\\u4ea7\\uffe5249095.952\",\"\\u5269\\u4f59\\u91d1\\u989d\\uffe5249095.952\",\"\\u5f53\\u65e5\\u4ea4\\u6613\\u4f63\\u91d1\\uffe50.0\\uff09\",\"\\uffe50.0\",\"\\uffe50.0\",null],[\"2021-02-02\",\"--\",\"--\",\"--\",\"--\",\"--\",\"--\",\"--\"],[\"\",\"\",\"\\uff08\\u603b\\u8d44\\u4ea7\\uffe5249095.952\",\"\\u5269\\u4f59\\u91d1\\u989d\\uffe5249095.952\",\"\\u5f53\\u65e5\\u4ea4\\u6613\\u4f63\\u91d1\\uffe50.0\\uff09\",\"\\uffe50.0\",\"\\uffe50.0\",null],[\"2021-02-01\",\"--\",\"--\",\"--\",\"--\",\"--\",\"--\",\"--\"],[\"\",\"\",\"\\uff08\\u603b\\u8d44\\u4ea7\\uffe5249095.952\",\"\\u5269\\u4f59\\u91d1\\u989d\\uffe5249095.952\",\"\\u5f53\\u65e5\\u4ea4\\u6613\\u4f63\\u91d1\\uffe50.0\\uff09\",\"\\uffe50.0\",\"\\uffe50.0\",null],[\"2021-01-29\",\"--\",\"--\",\"--\",\"--\",\"--\",\"--\",\"--\"],[\"\",\"\",\"\\uff08\\u603b\\u8d44\\u4ea7\\uffe5249095.952\",\"\\u5269\\u4f59\\u91d1\\u989d\\uffe5249095.952\",\"\\u5f53\\u65e5\\u4ea4\\u6613\\u4f63\\u91d1\\uffe50.0\\uff09\",\"\\uffe50.0\",\"\\uffe50.0\",null],[\"2021-01-28\",\"--\",\"--\",\"--\",\"--\",\"--\",\"--\",\"--\"],[\"\",\"\",\"\\uff08\\u603b\\u8d44\\u4ea7\\uffe5249095.952\",\"\\u5269\\u4f59\\u91d1\\u989d\\uffe5249095.952\",\"\\u5f53\\u65e5\\u4ea4\\u6613\\u4f63\\u91d1\\uffe50.0\\uff09\",\"\\uffe50.0\",\"\\uffe50.0\",null],[\"2021-01-27\",\"--\",\"--\",\"--\",\"--\",\"--\",\"--\",\"--\"],[\"\",\"\",\"\\uff08\\u603b\\u8d44\\u4ea7\\uffe5249095.952\",\"\\u5269\\u4f59\\u91d1\\u989d\\uffe5249095.952\",\"\\u5f53\\u65e5\\u4ea4\\u6613\\u4f63\\u91d1\\uffe50.0\\uff09\",\"\\uffe50.0\",\"\\uffe50.0\",null],[\"2021-01-26\",\"--\",\"--\",\"--\",\"--\",\"--\",\"--\",\"--\"],[\"\",\"\",\"\\uff08\\u603b\\u8d44\\u4ea7\\uffe5249095.952\",\"\\u5269\\u4f59\\u91d1\\u989d\\uffe5249095.952\",\"\\u5f53\\u65e5\\u4ea4\\u6613\\u4f63\\u91d1\\uffe50.0\\uff09\",\"\\uffe50.0\",\"\\uffe50.0\",null],[\"2021-01-25\",\"--\",\"--\",\"--\",\"--\",\"--\",\"--\",\"--\"],[\"\",\"\",\"\\uff08\\u603b\\u8d44\\u4ea7\\uffe5249095.952\",\"\\u5269\\u4f59\\u91d1\\u989d\\uffe5249095.952\",\"\\u5f53\\u65e5\\u4ea4\\u6613\\u4f63\\u91d1\\uffe50.0\\uff09\",\"\\uffe50.0\",\"\\uffe50.0\",null],[\"2021-01-22\",\"--\",\"--\",\"--\",\"--\",\"--\",\"--\",\"--\"],[\"\",\"\",\"\\uff08\\u603b\\u8d44\\u4ea7\\uffe5249095.952\",\"\\u5269\\u4f59\\u91d1\\u989d\\uffe5249095.952\",\"\\u5f53\\u65e5\\u4ea4\\u6613\\u4f63\\u91d1\\uffe50.0\\uff09\",\"\\uffe50.0\",\"\\uffe50.0\",null],[\"2021-01-21\",\"--\",\"--\",\"--\",\"--\",\"--\",\"--\",\"--\"],[\"\",\"\",\"\\uff08\\u603b\\u8d44\\u4ea7\\uffe5249095.952\",\"\\u5269\\u4f59\\u91d1\\u989d\\uffe5249095.952\",\"\\u5f53\\u65e5\\u4ea4\\u6613\\u4f63\\u91d1\\uffe50.0\\uff09\",\"\\uffe50.0\",\"\\uffe50.0\",null],[\"2021-01-20\",\"--\",\"--\",\"--\",\"--\",\"--\",\"--\",\"--\"],[\"\",\"\",\"\\uff08\\u603b\\u8d44\\u4ea7\\uffe5249095.952\",\"\\u5269\\u4f59\\u91d1\\u989d\\uffe5249095.952\",\"\\u5f53\\u65e5\\u4ea4\\u6613\\u4f63\\u91d1\\uffe50.0\\uff09\",\"\\uffe50.0\",\"\\uffe50.0\",null],[\"2021-01-19\",\"--\",\"--\",\"--\",\"--\",\"--\",\"--\",\"--\"],[\"\",\"\",\"\\uff08\\u603b\\u8d44\\u4ea7\\uffe5249095.952\",\"\\u5269\\u4f59\\u91d1\\u989d\\uffe5249095.952\",\"\\u5f53\\u65e5\\u4ea4\\u6613\\u4f63\\u91d1\\uffe50.0\\uff09\",\"\\uffe50.0\",\"\\uffe50.0\",null],[\"2021-01-18\",\"--\",\"--\",\"--\",\"--\",\"--\",\"--\",\"--\"],[\"\",\"\",\"\\uff08\\u603b\\u8d44\\u4ea7\\uffe5249095.952\",\"\\u5269\\u4f59\\u91d1\\u989d\\uffe5249095.952\",\"\\u5f53\\u65e5\\u4ea4\\u6613\\u4f63\\u91d1\\uffe50.0\\uff09\",\"\\uffe50.0\",\"\\uffe50.0\",null],[\"2021-01-15\",\"--\",\"--\",\"--\",\"--\",\"--\",\"--\",\"--\"],[\"\",\"\",\"\\uff08\\u603b\\u8d44\\u4ea7\\uffe5249095.952\",\"\\u5269\\u4f59\\u91d1\\u989d\\uffe5249095.952\",\"\\u5f53\\u65e5\\u4ea4\\u6613\\u4f63\\u91d1\\uffe50.0\\uff09\",\"\\uffe50.0\",\"\\uffe50.0\",null],[\"2021-01-14\",\"--\",\"--\",\"--\",\"--\",\"--\",\"--\",\"--\"],[\"\",\"\",\"\\uff08\\u603b\\u8d44\\u4ea7\\uffe5249095.952\",\"\\u5269\\u4f59\\u91d1\\u989d\\uffe5249095.952\",\"\\u5f53\\u65e5\\u4ea4\\u6613\\u4f63\\u91d1\\uffe50.0\\uff09\",\"\\uffe50.0\",\"\\uffe50.0\",null],[\"2021-01-13\",\"--\",\"--\",\"--\",\"--\",\"--\",\"--\",\"--\"],[\"\",\"\",\"\\uff08\\u603b\\u8d44\\u4ea7\\uffe5249095.952\",\"\\u5269\\u4f59\\u91d1\\u989d\\uffe5249095.952\",\"\\u5f53\\u65e5\\u4ea4\\u6613\\u4f63\\u91d1\\uffe50.0\\uff09\",\"\\uffe50.0\",\"\\uffe50.0\",null],[\"2021-01-12\",\"--\",\"--\",\"--\",\"--\",\"--\",\"--\",\"--\"],[\"\",\"\",\"\\uff08\\u603b\\u8d44\\u4ea7\\uffe5249095.952\",\"\\u5269\\u4f59\\u91d1\\u989d\\uffe5249095.952\",\"\\u5f53\\u65e5\\u4ea4\\u6613\\u4f63\\u91d1\\uffe50.0\\uff09\",\"\\uffe50.0\",\"\\uffe50.0\",null],[\"2021-01-11\",\"--\",\"--\",\"--\",\"--\",\"--\",\"--\",\"--\"],[\"\",\"\",\"\\uff08\\u603b\\u8d44\\u4ea7\\uffe5249095.952\",\"\\u5269\\u4f59\\u91d1\\u989d\\uffe5249095.952\",\"\\u5f53\\u65e5\\u4ea4\\u6613\\u4f63\\u91d1\\uffe50.0\\uff09\",\"\\uffe50.0\",\"\\uffe50.0\",null],[\"2021-01-08\",\"--\",\"--\",\"--\",\"--\",\"--\",\"--\",\"--\"],[\"\",\"\",\"\\uff08\\u603b\\u8d44\\u4ea7\\uffe5249095.952\",\"\\u5269\\u4f59\\u91d1\\u989d\\uffe5249095.952\",\"\\u5f53\\u65e5\\u4ea4\\u6613\\u4f63\\u91d1\\uffe50.0\\uff09\",\"\\uffe50.0\",\"\\uffe50.0\",null],[\"2021-01-07\",\"--\",\"--\",\"--\",\"--\",\"--\",\"--\",\"--\"],[\"\",\"\",\"\\uff08\\u603b\\u8d44\\u4ea7\\uffe5249095.952\",\"\\u5269\\u4f59\\u91d1\\u989d\\uffe5249095.952\",\"\\u5f53\\u65e5\\u4ea4\\u6613\\u4f63\\u91d1\\uffe50.0\\uff09\",\"\\uffe50.0\",\"\\uffe50.0\",null],[\"2021-01-06\",\"--\",\"--\",\"--\",\"--\",\"--\",\"--\",\"--\"],[\"\",\"\",\"\\uff08\\u603b\\u8d44\\u4ea7\\uffe5249095.952\",\"\\u5269\\u4f59\\u91d1\\u989d\\uffe5249095.952\",\"\\u5f53\\u65e5\\u4ea4\\u6613\\u4f63\\u91d1\\uffe50.0\\uff09\",\"\\uffe50.0\",\"\\uffe50.0\",null],[\"2021-01-05\",\"--\",\"--\",\"--\",\"--\",\"--\",\"--\",\"--\"],[\"\",\"\",\"\\uff08\\u603b\\u8d44\\u4ea7\\uffe5249095.952\",\"\\u5269\\u4f59\\u91d1\\u989d\\uffe5249095.952\",\"\\u5f53\\u65e5\\u4ea4\\u6613\\u4f63\\u91d1\\uffe50.0\\uff09\",\"\\uffe50.0\",\"\\uffe50.0\",null],[\"2021-01-04\",\"--\",\"--\",\"--\",\"--\",\"--\",\"--\",\"--\"],[\"\",\"\",\"\\uff08\\u603b\\u8d44\\u4ea7\\uffe5249095.952\",\"\\u5269\\u4f59\\u91d1\\u989d\\uffe5249095.952\",\"\\u5f53\\u65e5\\u4ea4\\u6613\\u4f63\\u91d1\\uffe50.0\\uff09\",\"\\uffe50.0\",\"\\uffe50.0\",null],[\"2020-12-31\",\"--\",\"--\",\"--\",\"--\",\"--\",\"--\",\"--\"],[\"\",\"\",\"\\uff08\\u603b\\u8d44\\u4ea7\\uffe5249095.952\",\"\\u5269\\u4f59\\u91d1\\u989d\\uffe5249095.952\",\"\\u5f53\\u65e5\\u4ea4\\u6613\\u4f63\\u91d1\\uffe50.0\\uff09\",\"\\uffe50.0\",\"\\uffe50.0\",null],[\"2020-12-30\",\"--\",\"--\",\"--\",\"--\",\"--\",\"--\",\"--\"],[\"\",\"\",\"\\uff08\\u603b\\u8d44\\u4ea7\\uffe5249095.952\",\"\\u5269\\u4f59\\u91d1\\u989d\\uffe5249095.952\",\"\\u5f53\\u65e5\\u4ea4\\u6613\\u4f63\\u91d1\\uffe50.0\\uff09\",\"\\uffe50.0\",\"\\uffe50.0\",null],[\"2020-12-29\",\"--\",\"--\",\"--\",\"--\",\"--\",\"--\",\"--\"],[\"\",\"\",\"\\uff08\\u603b\\u8d44\\u4ea7\\uffe5249095.952\",\"\\u5269\\u4f59\\u91d1\\u989d\\uffe5249095.952\",\"\\u5f53\\u65e5\\u4ea4\\u6613\\u4f63\\u91d1\\uffe50.0\\uff09\",\"\\uffe50.0\",\"\\uffe50.0\",null],[\"2020-12-28\",\"--\",\"--\",\"--\",\"--\",\"--\",\"--\",\"--\"],[\"\",\"\",\"\\uff08\\u603b\\u8d44\\u4ea7\\uffe5249095.952\",\"\\u5269\\u4f59\\u91d1\\u989d\\uffe5249095.952\",\"\\u5f53\\u65e5\\u4ea4\\u6613\\u4f63\\u91d1\\uffe50.0\\uff09\",\"\\uffe50.0\",\"\\uffe50.0\",null],[\"2020-12-25\",\"--\",\"--\",\"--\",\"--\",\"--\",\"--\",\"--\"],[\"\",\"\",\"\\uff08\\u603b\\u8d44\\u4ea7\\uffe5249095.952\",\"\\u5269\\u4f59\\u91d1\\u989d\\uffe5249095.952\",\"\\u5f53\\u65e5\\u4ea4\\u6613\\u4f63\\u91d1\\uffe50.0\\uff09\",\"\\uffe50.0\",\"\\uffe50.0\",null],[\"2020-12-24\",\"--\",\"--\",\"--\",\"--\",\"--\",\"--\",\"--\"],[\"\",\"\",\"\\uff08\\u603b\\u8d44\\u4ea7\\uffe5249095.952\",\"\\u5269\\u4f59\\u91d1\\u989d\\uffe5249095.952\",\"\\u5f53\\u65e5\\u4ea4\\u6613\\u4f63\\u91d1\\uffe50.0\\uff09\",\"\\uffe50.0\",\"\\uffe50.0\",null],[\"2020-12-23\",\"--\",\"--\",\"--\",\"--\",\"--\",\"--\",\"--\"],[\"\",\"\",\"\\uff08\\u603b\\u8d44\\u4ea7\\uffe5249095.952\",\"\\u5269\\u4f59\\u91d1\\u989d\\uffe5249095.952\",\"\\u5f53\\u65e5\\u4ea4\\u6613\\u4f63\\u91d1\\uffe50.0\\uff09\",\"\\uffe50.0\",\"\\uffe50.0\",null],[\"2020-12-22\",\"--\",\"--\",\"--\",\"--\",\"--\",\"--\",\"--\"],[\"\",\"\",\"\\uff08\\u603b\\u8d44\\u4ea7\\uffe5249095.952\",\"\\u5269\\u4f59\\u91d1\\u989d\\uffe5249095.952\",\"\\u5f53\\u65e5\\u4ea4\\u6613\\u4f63\\u91d1\\uffe50.0\\uff09\",\"\\uffe50.0\",\"\\uffe50.0\",null],[\"2020-12-21\",\"--\",\"--\",\"--\",\"--\",\"--\",\"--\",\"--\"],[\"\",\"\",\"\\uff08\\u603b\\u8d44\\u4ea7\\uffe5249095.952\",\"\\u5269\\u4f59\\u91d1\\u989d\\uffe5249095.952\",\"\\u5f53\\u65e5\\u4ea4\\u6613\\u4f63\\u91d1\\uffe50.0\\uff09\",\"\\uffe50.0\",\"\\uffe50.0\",null],[\"2020-12-18\",\"--\",\"--\",\"--\",\"--\",\"--\",\"--\",\"--\"],[\"\",\"\",\"\\uff08\\u603b\\u8d44\\u4ea7\\uffe5249095.952\",\"\\u5269\\u4f59\\u91d1\\u989d\\uffe5249095.952\",\"\\u5f53\\u65e5\\u4ea4\\u6613\\u4f63\\u91d1\\uffe50.0\\uff09\",\"\\uffe50.0\",\"\\uffe50.0\",null],[\"2020-12-17\",\"--\",\"--\",\"--\",\"--\",\"--\",\"--\",\"--\"],[\"\",\"\",\"\\uff08\\u603b\\u8d44\\u4ea7\\uffe5249095.952\",\"\\u5269\\u4f59\\u91d1\\u989d\\uffe5249095.952\",\"\\u5f53\\u65e5\\u4ea4\\u6613\\u4f63\\u91d1\\uffe50.0\\uff09\",\"\\uffe50.0\",\"\\uffe50.0\",null],[\"2020-12-16\",\"--\",\"--\",\"--\",\"--\",\"--\",\"--\",\"--\"],[\"\",\"\",\"\\uff08\\u603b\\u8d44\\u4ea7\\uffe5249095.952\",\"\\u5269\\u4f59\\u91d1\\u989d\\uffe5249095.952\",\"\\u5f53\\u65e5\\u4ea4\\u6613\\u4f63\\u91d1\\uffe50.0\\uff09\",\"\\uffe50.0\",\"\\uffe50.0\",null],[\"2020-12-15\",\"--\",\"--\",\"--\",\"--\",\"--\",\"--\",\"--\"],[\"\",\"\",\"\\uff08\\u603b\\u8d44\\u4ea7\\uffe5249095.952\",\"\\u5269\\u4f59\\u91d1\\u989d\\uffe5249095.952\",\"\\u5f53\\u65e5\\u4ea4\\u6613\\u4f63\\u91d1\\uffe50.0\\uff09\",\"\\uffe50.0\",\"\\uffe50.0\",null],[\"2020-12-14\",\"--\",\"--\",\"--\",\"--\",\"--\",\"--\",\"--\"],[\"\",\"\",\"\\uff08\\u603b\\u8d44\\u4ea7\\uffe5249095.952\",\"\\u5269\\u4f59\\u91d1\\u989d\\uffe5249095.952\",\"\\u5f53\\u65e5\\u4ea4\\u6613\\u4f63\\u91d1\\uffe50.0\\uff09\",\"\\uffe50.0\",\"\\uffe50.0\",null],[\"2020-12-11\",\"--\",\"--\",\"--\",\"--\",\"--\",\"--\",\"--\"],[\"\",\"\",\"\\uff08\\u603b\\u8d44\\u4ea7\\uffe5249095.952\",\"\\u5269\\u4f59\\u91d1\\u989d\\uffe5249095.952\",\"\\u5f53\\u65e5\\u4ea4\\u6613\\u4f63\\u91d1\\uffe50.0\\uff09\",\"\\uffe50.0\",\"\\uffe50.0\",null],[\"2020-12-10\",\"--\",\"--\",\"--\",\"--\",\"--\",\"--\",\"--\"],[\"\",\"\",\"\\uff08\\u603b\\u8d44\\u4ea7\\uffe5249095.952\",\"\\u5269\\u4f59\\u91d1\\u989d\\uffe5249095.952\",\"\\u5f53\\u65e5\\u4ea4\\u6613\\u4f63\\u91d1\\uffe50.0\\uff09\",\"\\uffe50.0\",\"\\uffe50.0\",null],[\"2020-12-09\",\"--\",\"--\",\"--\",\"--\",\"--\",\"--\",\"--\"],[\"\",\"\",\"\\uff08\\u603b\\u8d44\\u4ea7\\uffe5249095.952\",\"\\u5269\\u4f59\\u91d1\\u989d\\uffe5249095.952\",\"\\u5f53\\u65e5\\u4ea4\\u6613\\u4f63\\u91d1\\uffe50.0\\uff09\",\"\\uffe50.0\",\"\\uffe50.0\",null],[\"2020-12-08\",\"--\",\"--\",\"--\",\"--\",\"--\",\"--\",\"--\"],[\"\",\"\",\"\\uff08\\u603b\\u8d44\\u4ea7\\uffe5249095.952\",\"\\u5269\\u4f59\\u91d1\\u989d\\uffe5249095.952\",\"\\u5f53\\u65e5\\u4ea4\\u6613\\u4f63\\u91d1\\uffe50.0\\uff09\",\"\\uffe50.0\",\"\\uffe50.0\",null],[\"2020-12-07\",\"--\",\"--\",\"--\",\"--\",\"--\",\"--\",\"--\"],[\"\",\"\",\"\\uff08\\u603b\\u8d44\\u4ea7\\uffe5249095.952\",\"\\u5269\\u4f59\\u91d1\\u989d\\uffe5249095.952\",\"\\u5f53\\u65e5\\u4ea4\\u6613\\u4f63\\u91d1\\uffe50.0\\uff09\",\"\\uffe50.0\",\"\\uffe50.0\",null],[\"2020-12-04\",\"--\",\"--\",\"--\",\"--\",\"--\",\"--\",\"--\"],[\"\",\"\",\"\\uff08\\u603b\\u8d44\\u4ea7\\uffe5249095.952\",\"\\u5269\\u4f59\\u91d1\\u989d\\uffe5249095.952\",\"\\u5f53\\u65e5\\u4ea4\\u6613\\u4f63\\u91d1\\uffe50.0\\uff09\",\"\\uffe50.0\",\"\\uffe50.0\",null],[\"2020-12-03\",\"--\",\"--\",\"--\",\"--\",\"--\",\"--\",\"--\"],[\"\",\"\",\"\\uff08\\u603b\\u8d44\\u4ea7\\uffe5249095.952\",\"\\u5269\\u4f59\\u91d1\\u989d\\uffe5249095.952\",\"\\u5f53\\u65e5\\u4ea4\\u6613\\u4f63\\u91d1\\uffe50.0\\uff09\",\"\\uffe50.0\",\"\\uffe50.0\",null],[\"2020-12-02\",\"--\",\"--\",\"--\",\"--\",\"--\",\"--\",\"--\"],[\"\",\"\",\"\\uff08\\u603b\\u8d44\\u4ea7\\uffe5249095.952\",\"\\u5269\\u4f59\\u91d1\\u989d\\uffe5249095.952\",\"\\u5f53\\u65e5\\u4ea4\\u6613\\u4f63\\u91d1\\uffe50.0\\uff09\",\"\\uffe50.0\",\"\\uffe50.0\",null],[\"2020-12-01\",\"--\",\"--\",\"--\",\"--\",\"--\",\"--\",\"--\"],[\"\",\"\",\"\\uff08\\u603b\\u8d44\\u4ea7\\uffe5249095.952\",\"\\u5269\\u4f59\\u91d1\\u989d\\uffe5249095.952\",\"\\u5f53\\u65e5\\u4ea4\\u6613\\u4f63\\u91d1\\uffe50.0\\uff09\",\"\\uffe50.0\",\"\\uffe50.0\",null],[\"2020-11-30\",\"--\",\"--\",\"--\",\"--\",\"--\",\"--\",\"--\"],[\"\",\"\",\"\\uff08\\u603b\\u8d44\\u4ea7\\uffe5249095.952\",\"\\u5269\\u4f59\\u91d1\\u989d\\uffe5249095.952\",\"\\u5f53\\u65e5\\u4ea4\\u6613\\u4f63\\u91d1\\uffe50.0\\uff09\",\"\\uffe50.0\",\"\\uffe50.0\",null],[\"2020-11-27\",\"--\",\"--\",\"--\",\"--\",\"--\",\"--\",\"--\"],[\"\",\"\",\"\\uff08\\u603b\\u8d44\\u4ea7\\uffe5249095.952\",\"\\u5269\\u4f59\\u91d1\\u989d\\uffe5249095.952\",\"\\u5f53\\u65e5\\u4ea4\\u6613\\u4f63\\u91d1\\uffe50.0\\uff09\",\"\\uffe50.0\",\"\\uffe50.0\",null],[\"2020-11-26\",\"--\",\"--\",\"--\",\"--\",\"--\",\"--\",\"--\"],[\"\",\"\",\"\\uff08\\u603b\\u8d44\\u4ea7\\uffe5249095.952\",\"\\u5269\\u4f59\\u91d1\\u989d\\uffe5249095.952\",\"\\u5f53\\u65e5\\u4ea4\\u6613\\u4f63\\u91d1\\uffe50.0\\uff09\",\"\\uffe50.0\",\"\\uffe50.0\",null],[\"2020-11-25\",\"--\",\"--\",\"--\",\"--\",\"--\",\"--\",\"--\"],[\"\",\"\",\"\\uff08\\u603b\\u8d44\\u4ea7\\uffe5249095.952\",\"\\u5269\\u4f59\\u91d1\\u989d\\uffe5249095.952\",\"\\u5f53\\u65e5\\u4ea4\\u6613\\u4f63\\u91d1\\uffe50.0\\uff09\",\"\\uffe50.0\",\"\\uffe50.0\",null],[\"2020-11-24\",\"--\",\"--\",\"--\",\"--\",\"--\",\"--\",\"--\"],[\"\",\"\",\"\\uff08\\u603b\\u8d44\\u4ea7\\uffe5249095.952\",\"\\u5269\\u4f59\\u91d1\\u989d\\uffe5249095.952\",\"\\u5f53\\u65e5\\u4ea4\\u6613\\u4f63\\u91d1\\uffe50.0\\uff09\",\"\\uffe50.0\",\"\\uffe50.0\",null],[\"2020-11-23\",\"--\",\"--\",\"--\",\"--\",\"--\",\"--\",\"--\"],[\"\",\"\",\"\\uff08\\u603b\\u8d44\\u4ea7\\uffe5249095.952\",\"\\u5269\\u4f59\\u91d1\\u989d\\uffe5249095.952\",\"\\u5f53\\u65e5\\u4ea4\\u6613\\u4f63\\u91d1\\uffe50.0\\uff09\",\"\\uffe50.0\",\"\\uffe50.0\",null],[\"2020-11-20\",\"--\",\"--\",\"--\",\"--\",\"--\",\"--\",\"--\"],[\"\",\"\",\"\\uff08\\u603b\\u8d44\\u4ea7\\uffe5249095.952\",\"\\u5269\\u4f59\\u91d1\\u989d\\uffe5249095.952\",\"\\u5f53\\u65e5\\u4ea4\\u6613\\u4f63\\u91d1\\uffe50.0\\uff09\",\"\\uffe50.0\",\"\\uffe50.0\",null],[\"2020-11-19\",\"--\",\"--\",\"--\",\"--\",\"--\",\"--\",\"--\"],[\"\",\"\",\"\\uff08\\u603b\\u8d44\\u4ea7\\uffe5249095.952\",\"\\u5269\\u4f59\\u91d1\\u989d\\uffe5249095.952\",\"\\u5f53\\u65e5\\u4ea4\\u6613\\u4f63\\u91d1\\uffe50.0\\uff09\",\"\\uffe50.0\",\"\\uffe50.0\",null],[\"2020-11-18\",\"--\",\"--\",\"--\",\"--\",\"--\",\"--\",\"--\"],[\"\",\"\",\"\\uff08\\u603b\\u8d44\\u4ea7\\uffe5249095.952\",\"\\u5269\\u4f59\\u91d1\\u989d\\uffe5249095.952\",\"\\u5f53\\u65e5\\u4ea4\\u6613\\u4f63\\u91d1\\uffe50.0\\uff09\",\"\\uffe50.0\",\"\\uffe50.0\",null],[\"2020-11-17\",\"--\",\"--\",\"--\",\"--\",\"--\",\"--\",\"--\"],[\"\",\"\",\"\\uff08\\u603b\\u8d44\\u4ea7\\uffe5249095.952\",\"\\u5269\\u4f59\\u91d1\\u989d\\uffe5249095.952\",\"\\u5f53\\u65e5\\u4ea4\\u6613\\u4f63\\u91d1\\uffe50.0\\uff09\",\"\\uffe50.0\",\"\\uffe50.0\",null],[\"2020-11-16\",\"--\",\"--\",\"--\",\"--\",\"--\",\"--\",\"--\"],[\"\",\"\",\"\\uff08\\u603b\\u8d44\\u4ea7\\uffe5249095.952\",\"\\u5269\\u4f59\\u91d1\\u989d\\uffe5249095.952\",\"\\u5f53\\u65e5\\u4ea4\\u6613\\u4f63\\u91d1\\uffe50.0\\uff09\",\"\\uffe50.0\",\"\\uffe50.0\",null],[\"2020-11-13\",\"--\",\"--\",\"--\",\"--\",\"--\",\"--\",\"--\"],[\"\",\"\",\"\\uff08\\u603b\\u8d44\\u4ea7\\uffe5249095.952\",\"\\u5269\\u4f59\\u91d1\\u989d\\uffe5249095.952\",\"\\u5f53\\u65e5\\u4ea4\\u6613\\u4f63\\u91d1\\uffe50.0\\uff09\",\"\\uffe50.0\",\"\\uffe50.0\",null],[\"2020-11-12\",\"--\",\"--\",\"--\",\"--\",\"--\",\"--\",\"--\"],[\"\",\"\",\"\\uff08\\u603b\\u8d44\\u4ea7\\uffe5249095.952\",\"\\u5269\\u4f59\\u91d1\\u989d\\uffe5249095.952\",\"\\u5f53\\u65e5\\u4ea4\\u6613\\u4f63\\u91d1\\uffe50.0\\uff09\",\"\\uffe50.0\",\"\\uffe50.0\",null],[\"2020-11-11\",\"--\",\"--\",\"--\",\"--\",\"--\",\"--\",\"--\"],[\"\",\"\",\"\\uff08\\u603b\\u8d44\\u4ea7\\uffe5249095.952\",\"\\u5269\\u4f59\\u91d1\\u989d\\uffe5249095.952\",\"\\u5f53\\u65e5\\u4ea4\\u6613\\u4f63\\u91d1\\uffe50.0\\uff09\",\"\\uffe50.0\",\"\\uffe50.0\",null],[\"2020-11-10\",\"--\",\"--\",\"--\",\"--\",\"--\",\"--\",\"--\"],[\"\",\"\",\"\\uff08\\u603b\\u8d44\\u4ea7\\uffe5249095.952\",\"\\u5269\\u4f59\\u91d1\\u989d\\uffe5249095.952\",\"\\u5f53\\u65e5\\u4ea4\\u6613\\u4f63\\u91d1\\uffe50.0\\uff09\",\"\\uffe50.0\",\"\\uffe50.0\",null],[\"2020-11-09\",\"--\",\"--\",\"--\",\"--\",\"--\",\"--\",\"--\"],[\"\",\"\",\"\\uff08\\u603b\\u8d44\\u4ea7\\uffe5249095.952\",\"\\u5269\\u4f59\\u91d1\\u989d\\uffe5249095.952\",\"\\u5f53\\u65e5\\u4ea4\\u6613\\u4f63\\u91d1\\uffe50.0\\uff09\",\"\\uffe50.0\",\"\\uffe50.0\",null],[\"2020-11-06\",\"--\",\"--\",\"--\",\"--\",\"--\",\"--\",\"--\"],[\"\",\"\",\"\\uff08\\u603b\\u8d44\\u4ea7\\uffe5249095.952\",\"\\u5269\\u4f59\\u91d1\\u989d\\uffe5249095.952\",\"\\u5f53\\u65e5\\u4ea4\\u6613\\u4f63\\u91d1\\uffe50.0\\uff09\",\"\\uffe50.0\",\"\\uffe50.0\",null],[\"2020-11-05\",\"--\",\"--\",\"--\",\"--\",\"--\",\"--\",\"--\"],[\"\",\"\",\"\\uff08\\u603b\\u8d44\\u4ea7\\uffe5249095.952\",\"\\u5269\\u4f59\\u91d1\\u989d\\uffe5249095.952\",\"\\u5f53\\u65e5\\u4ea4\\u6613\\u4f63\\u91d1\\uffe50.0\\uff09\",\"\\uffe50.0\",\"\\uffe50.0\",null],[\"2020-11-04\",\"--\",\"--\",\"--\",\"--\",\"--\",\"--\",\"--\"],[\"\",\"\",\"\\uff08\\u603b\\u8d44\\u4ea7\\uffe5249095.952\",\"\\u5269\\u4f59\\u91d1\\u989d\\uffe5249095.952\",\"\\u5f53\\u65e5\\u4ea4\\u6613\\u4f63\\u91d1\\uffe50.0\\uff09\",\"\\uffe50.0\",\"\\uffe50.0\",null],[\"2020-11-03\",\"--\",\"--\",\"--\",\"--\",\"--\",\"--\",\"--\"],[\"\",\"\",\"\\uff08\\u603b\\u8d44\\u4ea7\\uffe5249095.952\",\"\\u5269\\u4f59\\u91d1\\u989d\\uffe5249095.952\",\"\\u5f53\\u65e5\\u4ea4\\u6613\\u4f63\\u91d1\\uffe50.0\\uff09\",\"\\uffe50.0\",\"\\uffe50.0\",null],[\"2020-11-02\",\"--\",\"--\",\"--\",\"--\",\"--\",\"--\",\"--\"],[\"\",\"\",\"\\uff08\\u603b\\u8d44\\u4ea7\\uffe5249095.952\",\"\\u5269\\u4f59\\u91d1\\u989d\\uffe5249095.952\",\"\\u5f53\\u65e5\\u4ea4\\u6613\\u4f63\\u91d1\\uffe50.0\\uff09\",\"\\uffe50.0\",\"\\uffe50.0\",null],[\"2020-10-30\",\"--\",\"--\",\"--\",\"--\",\"--\",\"--\",\"--\"],[\"\",\"\",\"\\uff08\\u603b\\u8d44\\u4ea7\\uffe5249095.952\",\"\\u5269\\u4f59\\u91d1\\u989d\\uffe5249095.952\",\"\\u5f53\\u65e5\\u4ea4\\u6613\\u4f63\\u91d1\\uffe50.0\\uff09\",\"\\uffe50.0\",\"\\uffe50.0\",null],[\"2020-10-29\",\"--\",\"--\",\"--\",\"--\",\"--\",\"--\",\"--\"],[\"\",\"\",\"\\uff08\\u603b\\u8d44\\u4ea7\\uffe5249095.952\",\"\\u5269\\u4f59\\u91d1\\u989d\\uffe5249095.952\",\"\\u5f53\\u65e5\\u4ea4\\u6613\\u4f63\\u91d1\\uffe50.0\\uff09\",\"\\uffe50.0\",\"\\uffe50.0\",null],[\"2020-10-28\",\"--\",\"--\",\"--\",\"--\",\"--\",\"--\",\"--\"],[\"\",\"\",\"\\uff08\\u603b\\u8d44\\u4ea7\\uffe5249095.952\",\"\\u5269\\u4f59\\u91d1\\u989d\\uffe5249095.952\",\"\\u5f53\\u65e5\\u4ea4\\u6613\\u4f63\\u91d1\\uffe50.0\\uff09\",\"\\uffe50.0\",\"\\uffe50.0\",null],[\"2020-10-27\",\"--\",\"--\",\"--\",\"--\",\"--\",\"--\",\"--\"],[\"\",\"\",\"\\uff08\\u603b\\u8d44\\u4ea7\\uffe5249095.952\",\"\\u5269\\u4f59\\u91d1\\u989d\\uffe5249095.952\",\"\\u5f53\\u65e5\\u4ea4\\u6613\\u4f63\\u91d1\\uffe50.0\\uff09\",\"\\uffe50.0\",\"\\uffe50.0\",null],[\"2020-10-26\",\"--\",\"--\",\"--\",\"--\",\"--\",\"--\",\"--\"],[\"\",\"\",\"\\uff08\\u603b\\u8d44\\u4ea7\\uffe5249095.952\",\"\\u5269\\u4f59\\u91d1\\u989d\\uffe5249095.952\",\"\\u5f53\\u65e5\\u4ea4\\u6613\\u4f63\\u91d1\\uffe50.0\\uff09\",\"\\uffe50.0\",\"\\uffe50.0\",null],[\"2020-10-23\",\"--\",\"--\",\"--\",\"--\",\"--\",\"--\",\"--\"],[\"\",\"\",\"\\uff08\\u603b\\u8d44\\u4ea7\\uffe5249095.952\",\"\\u5269\\u4f59\\u91d1\\u989d\\uffe5249095.952\",\"\\u5f53\\u65e5\\u4ea4\\u6613\\u4f63\\u91d1\\uffe50.0\\uff09\",\"\\uffe50.0\",\"\\uffe50.0\",null],[\"2020-10-22\",\"--\",\"--\",\"--\",\"--\",\"--\",\"--\",\"--\"],[\"\",\"\",\"\\uff08\\u603b\\u8d44\\u4ea7\\uffe5249095.952\",\"\\u5269\\u4f59\\u91d1\\u989d\\uffe5249095.952\",\"\\u5f53\\u65e5\\u4ea4\\u6613\\u4f63\\u91d1\\uffe50.0\\uff09\",\"\\uffe50.0\",\"\\uffe50.0\",null],[\"2020-10-21\",\"--\",\"--\",\"--\",\"--\",\"--\",\"--\",\"--\"],[\"\",\"\",\"\\uff08\\u603b\\u8d44\\u4ea7\\uffe5249095.952\",\"\\u5269\\u4f59\\u91d1\\u989d\\uffe5249095.952\",\"\\u5f53\\u65e5\\u4ea4\\u6613\\u4f63\\u91d1\\uffe50.0\\uff09\",\"\\uffe50.0\",\"\\uffe50.0\",null],[\"2020-10-20\",\"--\",\"--\",\"--\",\"--\",\"--\",\"--\",\"--\"],[\"\",\"\",\"\\uff08\\u603b\\u8d44\\u4ea7\\uffe5249095.952\",\"\\u5269\\u4f59\\u91d1\\u989d\\uffe5249095.952\",\"\\u5f53\\u65e5\\u4ea4\\u6613\\u4f63\\u91d1\\uffe50.0\\uff09\",\"\\uffe50.0\",\"\\uffe50.0\",null],[\"2020-10-19\",\"--\",\"--\",\"--\",\"--\",\"--\",\"--\",\"--\"],[\"\",\"\",\"\\uff08\\u603b\\u8d44\\u4ea7\\uffe5249095.952\",\"\\u5269\\u4f59\\u91d1\\u989d\\uffe5249095.952\",\"\\u5f53\\u65e5\\u4ea4\\u6613\\u4f63\\u91d1\\uffe50.0\\uff09\",\"\\uffe50.0\",\"\\uffe50.0\",null],[\"2020-10-16\",\"--\",\"--\",\"--\",\"--\",\"--\",\"--\",\"--\"],[\"\",\"\",\"\\uff08\\u603b\\u8d44\\u4ea7\\uffe5249095.952\",\"\\u5269\\u4f59\\u91d1\\u989d\\uffe5249095.952\",\"\\u5f53\\u65e5\\u4ea4\\u6613\\u4f63\\u91d1\\uffe50.0\\uff09\",\"\\uffe50.0\",\"\\uffe50.0\",null],[\"2020-10-15\",\"--\",\"--\",\"--\",\"--\",\"--\",\"--\",\"--\"],[\"\",\"\",\"\\uff08\\u603b\\u8d44\\u4ea7\\uffe5249095.952\",\"\\u5269\\u4f59\\u91d1\\u989d\\uffe5249095.952\",\"\\u5f53\\u65e5\\u4ea4\\u6613\\u4f63\\u91d1\\uffe50.0\\uff09\",\"\\uffe50.0\",\"\\uffe50.0\",null],[\"2020-10-14\",\"--\",\"--\",\"--\",\"--\",\"--\",\"--\",\"--\"],[\"\",\"\",\"\\uff08\\u603b\\u8d44\\u4ea7\\uffe5249095.952\",\"\\u5269\\u4f59\\u91d1\\u989d\\uffe5249095.952\",\"\\u5f53\\u65e5\\u4ea4\\u6613\\u4f63\\u91d1\\uffe50.0\\uff09\",\"\\uffe50.0\",\"\\uffe50.0\",null],[\"2020-10-13\",\"--\",\"--\",\"--\",\"--\",\"--\",\"--\",\"--\"],[\"\",\"\",\"\\uff08\\u603b\\u8d44\\u4ea7\\uffe5249095.952\",\"\\u5269\\u4f59\\u91d1\\u989d\\uffe5249095.952\",\"\\u5f53\\u65e5\\u4ea4\\u6613\\u4f63\\u91d1\\uffe50.0\\uff09\",\"\\uffe50.0\",\"\\uffe50.0\",null],[\"2020-10-12\",\"--\",\"--\",\"--\",\"--\",\"--\",\"--\",\"--\"],[\"\",\"\",\"\\uff08\\u603b\\u8d44\\u4ea7\\uffe5249095.952\",\"\\u5269\\u4f59\\u91d1\\u989d\\uffe5249095.952\",\"\\u5f53\\u65e5\\u4ea4\\u6613\\u4f63\\u91d1\\uffe50.0\\uff09\",\"\\uffe50.0\",\"\\uffe50.0\",null],[\"2020-10-09\",\"--\",\"--\",\"--\",\"--\",\"--\",\"--\",\"--\"],[\"\",\"\",\"\\uff08\\u603b\\u8d44\\u4ea7\\uffe5249095.952\",\"\\u5269\\u4f59\\u91d1\\u989d\\uffe5249095.952\",\"\\u5f53\\u65e5\\u4ea4\\u6613\\u4f63\\u91d1\\uffe50.0\\uff09\",\"\\uffe50.0\",\"\\uffe50.0\",null],[\"2020-09-30\",\"--\",\"--\",\"--\",\"--\",\"--\",\"--\",\"--\"],[\"\",\"\",\"\\uff08\\u603b\\u8d44\\u4ea7\\uffe5249095.952\",\"\\u5269\\u4f59\\u91d1\\u989d\\uffe5249095.952\",\"\\u5f53\\u65e5\\u4ea4\\u6613\\u4f63\\u91d1\\uffe50.0\\uff09\",\"\\uffe50.0\",\"\\uffe50.0\",null],[\"2020-09-29\",\"--\",\"--\",\"--\",\"--\",\"--\",\"--\",\"--\"],[\"\",\"\",\"\\uff08\\u603b\\u8d44\\u4ea7\\uffe5249095.952\",\"\\u5269\\u4f59\\u91d1\\u989d\\uffe5249095.952\",\"\\u5f53\\u65e5\\u4ea4\\u6613\\u4f63\\u91d1\\uffe50.0\\uff09\",\"\\uffe50.0\",\"\\uffe50.0\",null],[\"2020-09-28\",\"--\",\"--\",\"--\",\"--\",\"--\",\"--\",\"--\"],[\"\",\"\",\"\\uff08\\u603b\\u8d44\\u4ea7\\uffe5249095.952\",\"\\u5269\\u4f59\\u91d1\\u989d\\uffe5249095.952\",\"\\u5f53\\u65e5\\u4ea4\\u6613\\u4f63\\u91d1\\uffe50.0\\uff09\",\"\\uffe50.0\",\"\\uffe50.0\",null],[\"2020-09-25\",\"--\",\"--\",\"--\",\"--\",\"--\",\"--\",\"--\"],[\"\",\"\",\"\\uff08\\u603b\\u8d44\\u4ea7\\uffe5249095.952\",\"\\u5269\\u4f59\\u91d1\\u989d\\uffe5249095.952\",\"\\u5f53\\u65e5\\u4ea4\\u6613\\u4f63\\u91d1\\uffe50.0\\uff09\",\"\\uffe50.0\",\"\\uffe50.0\",null],[\"2020-09-24\",\"--\",\"--\",\"--\",\"--\",\"--\",\"--\",\"--\"],[\"\",\"\",\"\\uff08\\u603b\\u8d44\\u4ea7\\uffe5249095.952\",\"\\u5269\\u4f59\\u91d1\\u989d\\uffe5249095.952\",\"\\u5f53\\u65e5\\u4ea4\\u6613\\u4f63\\u91d1\\uffe50.0\\uff09\",\"\\uffe50.0\",\"\\uffe50.0\",null],[\"2020-09-23\",\"--\",\"--\",\"--\",\"--\",\"--\",\"--\",\"--\"],[\"\",\"\",\"\\uff08\\u603b\\u8d44\\u4ea7\\uffe5249095.952\",\"\\u5269\\u4f59\\u91d1\\u989d\\uffe5249095.952\",\"\\u5f53\\u65e5\\u4ea4\\u6613\\u4f63\\u91d1\\uffe50.0\\uff09\",\"\\uffe50.0\",\"\\uffe50.0\",null],[\"2020-09-22\",\"--\",\"--\",\"--\",\"--\",\"--\",\"--\",\"--\"],[\"\",\"\",\"\\uff08\\u603b\\u8d44\\u4ea7\\uffe5249095.952\",\"\\u5269\\u4f59\\u91d1\\u989d\\uffe5249095.952\",\"\\u5f53\\u65e5\\u4ea4\\u6613\\u4f63\\u91d1\\uffe50.0\\uff09\",\"\\uffe50.0\",\"\\uffe50.0\",null],[\"2020-09-21\",\"--\",\"--\",\"--\",\"--\",\"--\",\"--\",\"--\"],[\"\",\"\",\"\\uff08\\u603b\\u8d44\\u4ea7\\uffe5249095.952\",\"\\u5269\\u4f59\\u91d1\\u989d\\uffe5249095.952\",\"\\u5f53\\u65e5\\u4ea4\\u6613\\u4f63\\u91d1\\uffe50.0\\uff09\",\"\\uffe50.0\",\"\\uffe50.0\",null],[\"2020-09-18\",\"--\",\"--\",\"--\",\"--\",\"--\",\"--\",\"--\"],[\"\",\"\",\"\\uff08\\u603b\\u8d44\\u4ea7\\uffe5249095.952\",\"\\u5269\\u4f59\\u91d1\\u989d\\uffe5249095.952\",\"\\u5f53\\u65e5\\u4ea4\\u6613\\u4f63\\u91d1\\uffe50.0\\uff09\",\"\\uffe50.0\",\"\\uffe50.0\",null],[\"2020-09-17\",\"--\",\"--\",\"--\",\"--\",\"--\",\"--\",\"--\"],[\"\",\"\",\"\\uff08\\u603b\\u8d44\\u4ea7\\uffe5249095.952\",\"\\u5269\\u4f59\\u91d1\\u989d\\uffe5249095.952\",\"\\u5f53\\u65e5\\u4ea4\\u6613\\u4f63\\u91d1\\uffe50.0\\uff09\",\"\\uffe50.0\",\"\\uffe50.0\",null],[\"2020-09-16\",\"--\",\"--\",\"--\",\"--\",\"--\",\"--\",\"--\"],[\"\",\"\",\"\\uff08\\u603b\\u8d44\\u4ea7\\uffe5249095.952\",\"\\u5269\\u4f59\\u91d1\\u989d\\uffe5249095.952\",\"\\u5f53\\u65e5\\u4ea4\\u6613\\u4f63\\u91d1\\uffe50.0\\uff09\",\"\\uffe50.0\",\"\\uffe50.0\",null],[\"2020-09-15\",\"--\",\"--\",\"--\",\"--\",\"--\",\"--\",\"--\"],[\"\",\"\",\"\\uff08\\u603b\\u8d44\\u4ea7\\uffe5249095.952\",\"\\u5269\\u4f59\\u91d1\\u989d\\uffe5249095.952\",\"\\u5f53\\u65e5\\u4ea4\\u6613\\u4f63\\u91d1\\uffe50.0\\uff09\",\"\\uffe50.0\",\"\\uffe50.0\",null],[\"2020-09-14\",\"--\",\"--\",\"--\",\"--\",\"--\",\"--\",\"--\"],[\"\",\"\",\"\\uff08\\u603b\\u8d44\\u4ea7\\uffe5249095.952\",\"\\u5269\\u4f59\\u91d1\\u989d\\uffe5249095.952\",\"\\u5f53\\u65e5\\u4ea4\\u6613\\u4f63\\u91d1\\uffe50.0\\uff09\",\"\\uffe50.0\",\"\\uffe50.0\",null],[\"2020-09-11\",\"--\",\"--\",\"--\",\"--\",\"--\",\"--\",\"--\"],[\"\",\"\",\"\\uff08\\u603b\\u8d44\\u4ea7\\uffe5249095.952\",\"\\u5269\\u4f59\\u91d1\\u989d\\uffe5249095.952\",\"\\u5f53\\u65e5\\u4ea4\\u6613\\u4f63\\u91d1\\uffe50.0\\uff09\",\"\\uffe50.0\",\"\\uffe50.0\",null],[\"2020-09-10\",\"--\",\"--\",\"--\",\"--\",\"--\",\"--\",\"--\"],[\"\",\"\",\"\\uff08\\u603b\\u8d44\\u4ea7\\uffe5249095.952\",\"\\u5269\\u4f59\\u91d1\\u989d\\uffe5249095.952\",\"\\u5f53\\u65e5\\u4ea4\\u6613\\u4f63\\u91d1\\uffe50.0\\uff09\",\"\\uffe50.0\",\"\\uffe50.0\",null],[\"2020-09-09\",\"--\",\"--\",\"--\",\"--\",\"--\",\"--\",\"--\"],[\"\",\"\",\"\\uff08\\u603b\\u8d44\\u4ea7\\uffe5249095.952\",\"\\u5269\\u4f59\\u91d1\\u989d\\uffe5249095.952\",\"\\u5f53\\u65e5\\u4ea4\\u6613\\u4f63\\u91d1\\uffe50.0\\uff09\",\"\\uffe50.0\",\"\\uffe50.0\",null],[\"2020-09-08\",\"--\",\"--\",\"--\",\"--\",\"--\",\"--\",\"--\"],[\"\",\"\",\"\\uff08\\u603b\\u8d44\\u4ea7\\uffe5249095.952\",\"\\u5269\\u4f59\\u91d1\\u989d\\uffe5249095.952\",\"\\u5f53\\u65e5\\u4ea4\\u6613\\u4f63\\u91d1\\uffe50.0\\uff09\",\"\\uffe50.0\",\"\\uffe50.0\",null],[\"2020-09-07\",\"--\",\"--\",\"--\",\"--\",\"--\",\"--\",\"--\"],[\"\",\"\",\"\\uff08\\u603b\\u8d44\\u4ea7\\uffe5249095.952\",\"\\u5269\\u4f59\\u91d1\\u989d\\uffe5249095.952\",\"\\u5f53\\u65e5\\u4ea4\\u6613\\u4f63\\u91d1\\uffe50.0\\uff09\",\"\\uffe50.0\",\"\\uffe50.0\",null],[\"2020-09-04\",\"--\",\"--\",\"--\",\"--\",\"--\",\"--\",\"--\"],[\"\",\"\",\"\\uff08\\u603b\\u8d44\\u4ea7\\uffe5249095.952\",\"\\u5269\\u4f59\\u91d1\\u989d\\uffe5249095.952\",\"\\u5f53\\u65e5\\u4ea4\\u6613\\u4f63\\u91d1\\uffe50.0\\uff09\",\"\\uffe50.0\",\"\\uffe50.0\",null],[\"2020-09-03\",\"--\",\"--\",\"--\",\"--\",\"--\",\"--\",\"--\"],[\"\",\"\",\"\\uff08\\u603b\\u8d44\\u4ea7\\uffe5249095.952\",\"\\u5269\\u4f59\\u91d1\\u989d\\uffe5249095.952\",\"\\u5f53\\u65e5\\u4ea4\\u6613\\u4f63\\u91d1\\uffe50.0\\uff09\",\"\\uffe50.0\",\"\\uffe50.0\",null],[\"2020-09-02\",\"--\",\"--\",\"--\",\"--\",\"--\",\"--\",\"--\"],[\"\",\"\",\"\\uff08\\u603b\\u8d44\\u4ea7\\uffe5249095.952\",\"\\u5269\\u4f59\\u91d1\\u989d\\uffe5249095.952\",\"\\u5f53\\u65e5\\u4ea4\\u6613\\u4f63\\u91d1\\uffe50.0\\uff09\",\"\\uffe50.0\",\"\\uffe50.0\",null],[\"2020-09-01\",\"--\",\"--\",\"--\",\"--\",\"--\",\"--\",\"--\"],[\"\",\"\",\"\\uff08\\u603b\\u8d44\\u4ea7\\uffe5249095.952\",\"\\u5269\\u4f59\\u91d1\\u989d\\uffe5249095.952\",\"\\u5f53\\u65e5\\u4ea4\\u6613\\u4f63\\u91d1\\uffe50.0\\uff09\",\"\\uffe50.0\",\"\\uffe50.0\",null],[\"2020-08-31\",\"--\",\"--\",\"--\",\"--\",\"--\",\"--\",\"--\"],[\"\",\"\",\"\\uff08\\u603b\\u8d44\\u4ea7\\uffe5249095.952\",\"\\u5269\\u4f59\\u91d1\\u989d\\uffe5249095.952\",\"\\u5f53\\u65e5\\u4ea4\\u6613\\u4f63\\u91d1\\uffe50.0\\uff09\",\"\\uffe50.0\",\"\\uffe50.0\",null],[\"2020-08-28\",\"--\",\"--\",\"--\",\"--\",\"--\",\"--\",\"--\"],[\"\",\"\",\"\\uff08\\u603b\\u8d44\\u4ea7\\uffe5249095.952\",\"\\u5269\\u4f59\\u91d1\\u989d\\uffe5249095.952\",\"\\u5f53\\u65e5\\u4ea4\\u6613\\u4f63\\u91d1\\uffe50.0\\uff09\",\"\\uffe50.0\",\"\\uffe50.0\",null],[\"2020-08-27\",\"--\",\"--\",\"--\",\"--\",\"--\",\"--\",\"--\"],[\"\",\"\",\"\\uff08\\u603b\\u8d44\\u4ea7\\uffe5249095.952\",\"\\u5269\\u4f59\\u91d1\\u989d\\uffe5249095.952\",\"\\u5f53\\u65e5\\u4ea4\\u6613\\u4f63\\u91d1\\uffe50.0\\uff09\",\"\\uffe50.0\",\"\\uffe50.0\",null],[\"2020-08-26\",\"--\",\"--\",\"--\",\"--\",\"--\",\"--\",\"--\"],[\"\",\"\",\"\\uff08\\u603b\\u8d44\\u4ea7\\uffe5249095.952\",\"\\u5269\\u4f59\\u91d1\\u989d\\uffe5249095.952\",\"\\u5f53\\u65e5\\u4ea4\\u6613\\u4f63\\u91d1\\uffe50.0\\uff09\",\"\\uffe50.0\",\"\\uffe50.0\",null],[\"2020-08-25\",\"--\",\"--\",\"--\",\"--\",\"--\",\"--\",\"--\"],[\"\",\"\",\"\\uff08\\u603b\\u8d44\\u4ea7\\uffe5249095.952\",\"\\u5269\\u4f59\\u91d1\\u989d\\uffe5249095.952\",\"\\u5f53\\u65e5\\u4ea4\\u6613\\u4f63\\u91d1\\uffe50.0\\uff09\",\"\\uffe50.0\",\"\\uffe50.0\",null],[\"2020-08-24\",\"--\",\"--\",\"--\",\"--\",\"--\",\"--\",\"--\"],[\"\",\"\",\"\\uff08\\u603b\\u8d44\\u4ea7\\uffe5249095.952\",\"\\u5269\\u4f59\\u91d1\\u989d\\uffe5249095.952\",\"\\u5f53\\u65e5\\u4ea4\\u6613\\u4f63\\u91d1\\uffe50.0\\uff09\",\"\\uffe50.0\",\"\\uffe50.0\",null],[\"2020-08-21\",\"--\",\"--\",\"--\",\"--\",\"--\",\"--\",\"--\"],[\"\",\"\",\"\\uff08\\u603b\\u8d44\\u4ea7\\uffe5249095.952\",\"\\u5269\\u4f59\\u91d1\\u989d\\uffe5249095.952\",\"\\u5f53\\u65e5\\u4ea4\\u6613\\u4f63\\u91d1\\uffe50.0\\uff09\",\"\\uffe50.0\",\"\\uffe50.0\",null],[\"2020-08-20\",\"--\",\"--\",\"--\",\"--\",\"--\",\"--\",\"--\"],[\"\",\"\",\"\\uff08\\u603b\\u8d44\\u4ea7\\uffe5249095.952\",\"\\u5269\\u4f59\\u91d1\\u989d\\uffe5249095.952\",\"\\u5f53\\u65e5\\u4ea4\\u6613\\u4f63\\u91d1\\uffe50.0\\uff09\",\"\\uffe50.0\",\"\\uffe50.0\",null],[\"2020-08-19\",\"--\",\"--\",\"--\",\"--\",\"--\",\"--\",\"--\"],[\"\",\"\",\"\\uff08\\u603b\\u8d44\\u4ea7\\uffe5249095.952\",\"\\u5269\\u4f59\\u91d1\\u989d\\uffe5249095.952\",\"\\u5f53\\u65e5\\u4ea4\\u6613\\u4f63\\u91d1\\uffe50.0\\uff09\",\"\\uffe50.0\",\"\\uffe50.0\",null],[\"2020-08-18\",\"--\",\"--\",\"--\",\"--\",\"--\",\"--\",\"--\"],[\"\",\"\",\"\\uff08\\u603b\\u8d44\\u4ea7\\uffe5249095.952\",\"\\u5269\\u4f59\\u91d1\\u989d\\uffe5249095.952\",\"\\u5f53\\u65e5\\u4ea4\\u6613\\u4f63\\u91d1\\uffe50.0\\uff09\",\"\\uffe50.0\",\"\\uffe50.0\",null],[\"2020-08-17\",\"--\",\"--\",\"--\",\"--\",\"--\",\"--\",\"--\"],[\"\",\"\",\"\\uff08\\u603b\\u8d44\\u4ea7\\uffe5249095.952\",\"\\u5269\\u4f59\\u91d1\\u989d\\uffe5249095.952\",\"\\u5f53\\u65e5\\u4ea4\\u6613\\u4f63\\u91d1\\uffe50.0\\uff09\",\"\\uffe50.0\",\"\\uffe50.0\",null],[\"2020-08-14\",\"--\",\"--\",\"--\",\"--\",\"--\",\"--\",\"--\"],[\"\",\"\",\"\\uff08\\u603b\\u8d44\\u4ea7\\uffe5249095.952\",\"\\u5269\\u4f59\\u91d1\\u989d\\uffe5249095.952\",\"\\u5f53\\u65e5\\u4ea4\\u6613\\u4f63\\u91d1\\uffe50.0\\uff09\",\"\\uffe50.0\",\"\\uffe50.0\",null],[\"2020-08-13\",\"--\",\"--\",\"--\",\"--\",\"--\",\"--\",\"--\"],[\"\",\"\",\"\\uff08\\u603b\\u8d44\\u4ea7\\uffe5249095.952\",\"\\u5269\\u4f59\\u91d1\\u989d\\uffe5249095.952\",\"\\u5f53\\u65e5\\u4ea4\\u6613\\u4f63\\u91d1\\uffe50.0\\uff09\",\"\\uffe50.0\",\"\\uffe50.0\",null],[\"2020-08-12\",\"--\",\"--\",\"--\",\"--\",\"--\",\"--\",\"--\"],[\"\",\"\",\"\\uff08\\u603b\\u8d44\\u4ea7\\uffe5249095.952\",\"\\u5269\\u4f59\\u91d1\\u989d\\uffe5249095.952\",\"\\u5f53\\u65e5\\u4ea4\\u6613\\u4f63\\u91d1\\uffe50.0\\uff09\",\"\\uffe50.0\",\"\\uffe50.0\",null],[\"2020-08-11\",\"--\",\"--\",\"--\",\"--\",\"--\",\"--\",\"--\"],[\"\",\"\",\"\\uff08\\u603b\\u8d44\\u4ea7\\uffe5249095.952\",\"\\u5269\\u4f59\\u91d1\\u989d\\uffe5249095.952\",\"\\u5f53\\u65e5\\u4ea4\\u6613\\u4f63\\u91d1\\uffe50.0\\uff09\",\"\\uffe50.0\",\"\\uffe50.0\",null],[\"2020-08-10\",\"--\",\"--\",\"--\",\"--\",\"--\",\"--\",\"--\"],[\"\",\"\",\"\\uff08\\u603b\\u8d44\\u4ea7\\uffe5249095.952\",\"\\u5269\\u4f59\\u91d1\\u989d\\uffe5249095.952\",\"\\u5f53\\u65e5\\u4ea4\\u6613\\u4f63\\u91d1\\uffe50.0\\uff09\",\"\\uffe50.0\",\"\\uffe50.0\",null],[\"2020-08-07\",\"--\",\"--\",\"--\",\"--\",\"--\",\"--\",\"--\"],[\"\",\"\",\"\\uff08\\u603b\\u8d44\\u4ea7\\uffe5249095.952\",\"\\u5269\\u4f59\\u91d1\\u989d\\uffe5249095.952\",\"\\u5f53\\u65e5\\u4ea4\\u6613\\u4f63\\u91d1\\uffe50.0\\uff09\",\"\\uffe50.0\",\"\\uffe50.0\",null],[\"2020-08-06\",\"--\",\"--\",\"--\",\"--\",\"--\",\"--\",\"--\"],[\"\",\"\",\"\\uff08\\u603b\\u8d44\\u4ea7\\uffe5249095.952\",\"\\u5269\\u4f59\\u91d1\\u989d\\uffe5249095.952\",\"\\u5f53\\u65e5\\u4ea4\\u6613\\u4f63\\u91d1\\uffe50.0\\uff09\",\"\\uffe50.0\",\"\\uffe50.0\",null],[\"2020-08-05\",\"--\",\"--\",\"--\",\"--\",\"--\",\"--\",\"--\"],[\"\",\"\",\"\\uff08\\u603b\\u8d44\\u4ea7\\uffe5249095.952\",\"\\u5269\\u4f59\\u91d1\\u989d\\uffe5249095.952\",\"\\u5f53\\u65e5\\u4ea4\\u6613\\u4f63\\u91d1\\uffe50.0\\uff09\",\"\\uffe50.0\",\"\\uffe50.0\",null],[\"2020-08-04\",\"--\",\"--\",\"--\",\"--\",\"--\",\"--\",\"--\"],[\"\",\"\",\"\\uff08\\u603b\\u8d44\\u4ea7\\uffe5249095.952\",\"\\u5269\\u4f59\\u91d1\\u989d\\uffe5249095.952\",\"\\u5f53\\u65e5\\u4ea4\\u6613\\u4f63\\u91d1\\uffe50.0\\uff09\",\"\\uffe50.0\",\"\\uffe50.0\",null],[\"2020-08-03\",\"--\",\"--\",\"--\",\"--\",\"--\",\"--\",\"--\"],[\"\",\"\",\"\\uff08\\u603b\\u8d44\\u4ea7\\uffe5249095.952\",\"\\u5269\\u4f59\\u91d1\\u989d\\uffe5249095.952\",\"\\u5f53\\u65e5\\u4ea4\\u6613\\u4f63\\u91d1\\uffe50.0\\uff09\",\"\\uffe50.0\",\"\\uffe50.0\",null],[\"2020-07-31\",\"--\",\"--\",\"--\",\"--\",\"--\",\"--\",\"--\"],[\"\",\"\",\"\\uff08\\u603b\\u8d44\\u4ea7\\uffe5249095.952\",\"\\u5269\\u4f59\\u91d1\\u989d\\uffe5249095.952\",\"\\u5f53\\u65e5\\u4ea4\\u6613\\u4f63\\u91d1\\uffe50.0\\uff09\",\"\\uffe50.0\",\"\\uffe50.0\",null],[\"2020-07-30\",\"--\",\"--\",\"--\",\"--\",\"--\",\"--\",\"--\"],[\"\",\"\",\"\\uff08\\u603b\\u8d44\\u4ea7\\uffe5249095.952\",\"\\u5269\\u4f59\\u91d1\\u989d\\uffe5249095.952\",\"\\u5f53\\u65e5\\u4ea4\\u6613\\u4f63\\u91d1\\uffe50.0\\uff09\",\"\\uffe50.0\",\"\\uffe50.0\",null],[\"2020-07-29\",\"--\",\"--\",\"--\",\"--\",\"--\",\"--\",\"--\"],[\"\",\"\",\"\\uff08\\u603b\\u8d44\\u4ea7\\uffe5249095.952\",\"\\u5269\\u4f59\\u91d1\\u989d\\uffe5249095.952\",\"\\u5f53\\u65e5\\u4ea4\\u6613\\u4f63\\u91d1\\uffe50.0\\uff09\",\"\\uffe50.0\",\"\\uffe50.0\",null],[\"2020-07-28\",\"--\",\"--\",\"--\",\"--\",\"--\",\"--\",\"--\"],[\"\",\"\",\"\\uff08\\u603b\\u8d44\\u4ea7\\uffe5249095.952\",\"\\u5269\\u4f59\\u91d1\\u989d\\uffe5249095.952\",\"\\u5f53\\u65e5\\u4ea4\\u6613\\u4f63\\u91d1\\uffe5306.47\\uff09\",\"\\uffe50.0\",\"\\uffe50.0\",null],[\"2020-07-27\",\"603538.SHA\",\"\\u7f8e\\u8bfa\\u534e\",44.35,\"42.590\",5300,225727.021,-9327.996],[\"\",\"\",\"\\uff08\\u603b\\u8d44\\u4ea7\\uffe5239385.454\",\"\\u5269\\u4f59\\u91d1\\u989d\\uffe513658.433\",\"\\u5f53\\u65e5\\u4ea4\\u6613\\u4f63\\u91d1\\uffe570.52\\uff09\",\"\\uffe5225727.021\",\"\\uffe5-9327.996\",null],[\"2020-07-24\",\"--\",\"--\",\"--\",\"--\",\"--\",\"--\",\"--\"],[\"\",\"\",\"\\uff08\\u603b\\u8d44\\u4ea7\\uffe5248783.967\",\"\\u5269\\u4f59\\u91d1\\u989d\\uffe5248783.967\",\"\\u5f53\\u65e5\\u4ea4\\u6613\\u4f63\\u91d1\\uffe50.0\\uff09\",\"\\uffe50.0\",\"\\uffe50.0\",null],[\"2020-07-23\",\"--\",\"--\",\"--\",\"--\",\"--\",\"--\",\"--\"],[\"\",\"\",\"\\uff08\\u603b\\u8d44\\u4ea7\\uffe5248783.967\",\"\\u5269\\u4f59\\u91d1\\u989d\\uffe5248783.967\",\"\\u5f53\\u65e5\\u4ea4\\u6613\\u4f63\\u91d1\\uffe50.0\\uff09\",\"\\uffe50.0\",\"\\uffe50.0\",null],[\"2020-07-22\",\"--\",\"--\",\"--\",\"--\",\"--\",\"--\",\"--\"],[\"\",\"\",\"\\uff08\\u603b\\u8d44\\u4ea7\\uffe5248783.967\",\"\\u5269\\u4f59\\u91d1\\u989d\\uffe5248783.967\",\"\\u5f53\\u65e5\\u4ea4\\u6613\\u4f63\\u91d1\\uffe50.0\\uff09\",\"\\uffe50.0\",\"\\uffe50.0\",null],[\"2020-07-21\",\"--\",\"--\",\"--\",\"--\",\"--\",\"--\",\"--\"],[\"\",\"\",\"\\uff08\\u603b\\u8d44\\u4ea7\\uffe5248783.967\",\"\\u5269\\u4f59\\u91d1\\u989d\\uffe5248783.967\",\"\\u5f53\\u65e5\\u4ea4\\u6613\\u4f63\\u91d1\\uffe50.0\\uff09\",\"\\uffe50.0\",\"\\uffe50.0\",null],[\"2020-07-20\",\"--\",\"--\",\"--\",\"--\",\"--\",\"--\",\"--\"],[\"\",\"\",\"\\uff08\\u603b\\u8d44\\u4ea7\\uffe5248783.967\",\"\\u5269\\u4f59\\u91d1\\u989d\\uffe5248783.967\",\"\\u5f53\\u65e5\\u4ea4\\u6613\\u4f63\\u91d1\\uffe5296.65\\uff09\",\"\\uffe50.0\",\"\\uffe50.0\",null],[\"2020-07-17\",\"002989.SZA\",\"\\u4e2d\\u5929\\u7cbe\\u88c5\",48.2,\"48.510\",4500,218294.992,1394.979],[\"\",\"\",\"\\uff08\\u603b\\u8d44\\u4ea7\\uffe5239180.638\",\"\\u5269\\u4f59\\u91d1\\u989d\\uffe520885.645\",\"\\u5f53\\u65e5\\u4ea4\\u6613\\u4f63\\u91d1\\uffe565.07\\uff09\",\"\\uffe5218294.992\",\"\\uffe51394.979\",null],[\"2020-07-16\",\"--\",\"--\",\"--\",\"--\",\"--\",\"--\",\"--\"],[\"\",\"\",\"\\uff08\\u603b\\u8d44\\u4ea7\\uffe5237850.729\",\"\\u5269\\u4f59\\u91d1\\u989d\\uffe5237850.729\",\"\\u5f53\\u65e5\\u4ea4\\u6613\\u4f63\\u91d1\\uffe50.0\\uff09\",\"\\uffe50.0\",\"\\uffe50.0\",null],[\"2020-07-15\",\"--\",\"--\",\"--\",\"--\",\"--\",\"--\",\"--\"],[\"\",\"\",\"\\uff08\\u603b\\u8d44\\u4ea7\\uffe5237850.729\",\"\\u5269\\u4f59\\u91d1\\u989d\\uffe5237850.729\",\"\\u5f53\\u65e5\\u4ea4\\u6613\\u4f63\\u91d1\\uffe50.0\\uff09\",\"\\uffe50.0\",\"\\uffe50.0\",null],[\"2020-07-14\",\"--\",\"--\",\"--\",\"--\",\"--\",\"--\",\"--\"],[\"\",\"\",\"\\uff08\\u603b\\u8d44\\u4ea7\\uffe5237850.729\",\"\\u5269\\u4f59\\u91d1\\u989d\\uffe5237850.729\",\"\\u5f53\\u65e5\\u4ea4\\u6613\\u4f63\\u91d1\\uffe50.0\\uff09\",\"\\uffe50.0\",\"\\uffe50.0\",null],[\"2020-07-13\",\"--\",\"--\",\"--\",\"--\",\"--\",\"--\",\"--\"],[\"\",\"\",\"\\uff08\\u603b\\u8d44\\u4ea7\\uffe5237850.729\",\"\\u5269\\u4f59\\u91d1\\u989d\\uffe5237850.729\",\"\\u5f53\\u65e5\\u4ea4\\u6613\\u4f63\\u91d1\\uffe50.0\\uff09\",\"\\uffe50.0\",\"\\uffe50.0\",null],[\"2020-07-10\",\"--\",\"--\",\"--\",\"--\",\"--\",\"--\",\"--\"],[\"\",\"\",\"\\uff08\\u603b\\u8d44\\u4ea7\\uffe5237850.729\",\"\\u5269\\u4f59\\u91d1\\u989d\\uffe5237850.729\",\"\\u5f53\\u65e5\\u4ea4\\u6613\\u4f63\\u91d1\\uffe50.0\\uff09\",\"\\uffe50.0\",\"\\uffe50.0\",null],[\"2020-07-09\",\"--\",\"--\",\"--\",\"--\",\"--\",\"--\",\"--\"],[\"\",\"\",\"\\uff08\\u603b\\u8d44\\u4ea7\\uffe5237850.729\",\"\\u5269\\u4f59\\u91d1\\u989d\\uffe5237850.729\",\"\\u5f53\\u65e5\\u4ea4\\u6613\\u4f63\\u91d1\\uffe50.0\\uff09\",\"\\uffe50.0\",\"\\uffe50.0\",null],[\"2020-07-08\",\"--\",\"--\",\"--\",\"--\",\"--\",\"--\",\"--\"],[\"\",\"\",\"\\uff08\\u603b\\u8d44\\u4ea7\\uffe5237850.729\",\"\\u5269\\u4f59\\u91d1\\u989d\\uffe5237850.729\",\"\\u5f53\\u65e5\\u4ea4\\u6613\\u4f63\\u91d1\\uffe50.0\\uff09\",\"\\uffe50.0\",\"\\uffe50.0\",null],[\"2020-07-07\",\"--\",\"--\",\"--\",\"--\",\"--\",\"--\",\"--\"],[\"\",\"\",\"\\uff08\\u603b\\u8d44\\u4ea7\\uffe5237850.729\",\"\\u5269\\u4f59\\u91d1\\u989d\\uffe5237850.729\",\"\\u5f53\\u65e5\\u4ea4\\u6613\\u4f63\\u91d1\\uffe50.0\\uff09\",\"\\uffe50.0\",\"\\uffe50.0\",null],[\"2020-07-06\",\"--\",\"--\",\"--\",\"--\",\"--\",\"--\",\"--\"],[\"\",\"\",\"\\uff08\\u603b\\u8d44\\u4ea7\\uffe5237850.729\",\"\\u5269\\u4f59\\u91d1\\u989d\\uffe5237850.729\",\"\\u5f53\\u65e5\\u4ea4\\u6613\\u4f63\\u91d1\\uffe50.0\\uff09\",\"\\uffe50.0\",\"\\uffe50.0\",null],[\"2020-07-03\",\"--\",\"--\",\"--\",\"--\",\"--\",\"--\",\"--\"],[\"\",\"\",\"\\uff08\\u603b\\u8d44\\u4ea7\\uffe5237850.729\",\"\\u5269\\u4f59\\u91d1\\u989d\\uffe5237850.729\",\"\\u5f53\\u65e5\\u4ea4\\u6613\\u4f63\\u91d1\\uffe50.0\\uff09\",\"\\uffe50.0\",\"\\uffe50.0\",null],[\"2020-07-02\",\"--\",\"--\",\"--\",\"--\",\"--\",\"--\",\"--\"],[\"\",\"\",\"\\uff08\\u603b\\u8d44\\u4ea7\\uffe5237850.729\",\"\\u5269\\u4f59\\u91d1\\u989d\\uffe5237850.729\",\"\\u5f53\\u65e5\\u4ea4\\u6613\\u4f63\\u91d1\\uffe50.0\\uff09\",\"\\uffe50.0\",\"\\uffe50.0\",null],[\"2020-07-01\",\"--\",\"--\",\"--\",\"--\",\"--\",\"--\",\"--\"],[\"\",\"\",\"\\uff08\\u603b\\u8d44\\u4ea7\\uffe5237850.729\",\"\\u5269\\u4f59\\u91d1\\u989d\\uffe5237850.729\",\"\\u5f53\\u65e5\\u4ea4\\u6613\\u4f63\\u91d1\\uffe50.0\\uff09\",\"\\uffe50.0\",\"\\uffe50.0\",null],[\"2020-06-30\",\"--\",\"--\",\"--\",\"--\",\"--\",\"--\",\"--\"],[\"\",\"\",\"\\uff08\\u603b\\u8d44\\u4ea7\\uffe5237850.729\",\"\\u5269\\u4f59\\u91d1\\u989d\\uffe5237850.729\",\"\\u5f53\\u65e5\\u4ea4\\u6613\\u4f63\\u91d1\\uffe50.0\\uff09\",\"\\uffe50.0\",\"\\uffe50.0\",null],[\"2020-06-29\",\"--\",\"--\",\"--\",\"--\",\"--\",\"--\",\"--\"],[\"\",\"\",\"\\uff08\\u603b\\u8d44\\u4ea7\\uffe5237850.729\",\"\\u5269\\u4f59\\u91d1\\u989d\\uffe5237850.729\",\"\\u5f53\\u65e5\\u4ea4\\u6613\\u4f63\\u91d1\\uffe50.0\\uff09\",\"\\uffe50.0\",\"\\uffe50.0\",null],[\"2020-06-24\",\"--\",\"--\",\"--\",\"--\",\"--\",\"--\",\"--\"],[\"\",\"\",\"\\uff08\\u603b\\u8d44\\u4ea7\\uffe5237850.729\",\"\\u5269\\u4f59\\u91d1\\u989d\\uffe5237850.729\",\"\\u5f53\\u65e5\\u4ea4\\u6613\\u4f63\\u91d1\\uffe50.0\\uff09\",\"\\uffe50.0\",\"\\uffe50.0\",null],[\"2020-06-23\",\"--\",\"--\",\"--\",\"--\",\"--\",\"--\",\"--\"],[\"\",\"\",\"\\uff08\\u603b\\u8d44\\u4ea7\\uffe5237850.729\",\"\\u5269\\u4f59\\u91d1\\u989d\\uffe5237850.729\",\"\\u5f53\\u65e5\\u4ea4\\u6613\\u4f63\\u91d1\\uffe50.0\\uff09\",\"\\uffe50.0\",\"\\uffe50.0\",null],[\"2020-06-22\",\"--\",\"--\",\"--\",\"--\",\"--\",\"--\",\"--\"],[\"\",\"\",\"\\uff08\\u603b\\u8d44\\u4ea7\\uffe5237850.729\",\"\\u5269\\u4f59\\u91d1\\u989d\\uffe5237850.729\",\"\\u5f53\\u65e5\\u4ea4\\u6613\\u4f63\\u91d1\\uffe50.0\\uff09\",\"\\uffe50.0\",\"\\uffe50.0\",null],[\"2020-06-19\",\"--\",\"--\",\"--\",\"--\",\"--\",\"--\",\"--\"],[\"\",\"\",\"\\uff08\\u603b\\u8d44\\u4ea7\\uffe5237850.729\",\"\\u5269\\u4f59\\u91d1\\u989d\\uffe5237850.729\",\"\\u5f53\\u65e5\\u4ea4\\u6613\\u4f63\\u91d1\\uffe50.0\\uff09\",\"\\uffe50.0\",\"\\uffe50.0\",null],[\"2020-06-18\",\"--\",\"--\",\"--\",\"--\",\"--\",\"--\",\"--\"],[\"\",\"\",\"\\uff08\\u603b\\u8d44\\u4ea7\\uffe5237850.729\",\"\\u5269\\u4f59\\u91d1\\u989d\\uffe5237850.729\",\"\\u5f53\\u65e5\\u4ea4\\u6613\\u4f63\\u91d1\\uffe50.0\\uff09\",\"\\uffe50.0\",\"\\uffe50.0\",null],[\"2020-06-17\",\"--\",\"--\",\"--\",\"--\",\"--\",\"--\",\"--\"],[\"\",\"\",\"\\uff08\\u603b\\u8d44\\u4ea7\\uffe5237850.729\",\"\\u5269\\u4f59\\u91d1\\u989d\\uffe5237850.729\",\"\\u5f53\\u65e5\\u4ea4\\u6613\\u4f63\\u91d1\\uffe50.0\\uff09\",\"\\uffe50.0\",\"\\uffe50.0\",null],[\"2020-06-16\",\"--\",\"--\",\"--\",\"--\",\"--\",\"--\",\"--\"],[\"\",\"\",\"\\uff08\\u603b\\u8d44\\u4ea7\\uffe5237850.729\",\"\\u5269\\u4f59\\u91d1\\u989d\\uffe5237850.729\",\"\\u5f53\\u65e5\\u4ea4\\u6613\\u4f63\\u91d1\\uffe50.0\\uff09\",\"\\uffe50.0\",\"\\uffe50.0\",null],[\"2020-06-15\",\"--\",\"--\",\"--\",\"--\",\"--\",\"--\",\"--\"],[\"\",\"\",\"\\uff08\\u603b\\u8d44\\u4ea7\\uffe5237850.729\",\"\\u5269\\u4f59\\u91d1\\u989d\\uffe5237850.729\",\"\\u5f53\\u65e5\\u4ea4\\u6613\\u4f63\\u91d1\\uffe50.0\\uff09\",\"\\uffe50.0\",\"\\uffe50.0\",null],[\"2020-06-12\",\"--\",\"--\",\"--\",\"--\",\"--\",\"--\",\"--\"],[\"\",\"\",\"\\uff08\\u603b\\u8d44\\u4ea7\\uffe5237850.729\",\"\\u5269\\u4f59\\u91d1\\u989d\\uffe5237850.729\",\"\\u5f53\\u65e5\\u4ea4\\u6613\\u4f63\\u91d1\\uffe50.0\\uff09\",\"\\uffe50.0\",\"\\uffe50.0\",null],[\"2020-06-11\",\"--\",\"--\",\"--\",\"--\",\"--\",\"--\",\"--\"],[\"\",\"\",\"\\uff08\\u603b\\u8d44\\u4ea7\\uffe5237850.729\",\"\\u5269\\u4f59\\u91d1\\u989d\\uffe5237850.729\",\"\\u5f53\\u65e5\\u4ea4\\u6613\\u4f63\\u91d1\\uffe50.0\\uff09\",\"\\uffe50.0\",\"\\uffe50.0\",null],[\"2020-06-10\",\"--\",\"--\",\"--\",\"--\",\"--\",\"--\",\"--\"],[\"\",\"\",\"\\uff08\\u603b\\u8d44\\u4ea7\\uffe5237850.729\",\"\\u5269\\u4f59\\u91d1\\u989d\\uffe5237850.729\",\"\\u5f53\\u65e5\\u4ea4\\u6613\\u4f63\\u91d1\\uffe50.0\\uff09\",\"\\uffe50.0\",\"\\uffe50.0\",null],[\"2020-06-09\",\"--\",\"--\",\"--\",\"--\",\"--\",\"--\",\"--\"],[\"\",\"\",\"\\uff08\\u603b\\u8d44\\u4ea7\\uffe5237850.729\",\"\\u5269\\u4f59\\u91d1\\u989d\\uffe5237850.729\",\"\\u5f53\\u65e5\\u4ea4\\u6613\\u4f63\\u91d1\\uffe50.0\\uff09\",\"\\uffe50.0\",\"\\uffe50.0\",null],[\"2020-06-08\",\"--\",\"--\",\"--\",\"--\",\"--\",\"--\",\"--\"],[\"\",\"\",\"\\uff08\\u603b\\u8d44\\u4ea7\\uffe5237850.729\",\"\\u5269\\u4f59\\u91d1\\u989d\\uffe5237850.729\",\"\\u5f53\\u65e5\\u4ea4\\u6613\\u4f63\\u91d1\\uffe50.0\\uff09\",\"\\uffe50.0\",\"\\uffe50.0\",null],[\"2020-06-05\",\"--\",\"--\",\"--\",\"--\",\"--\",\"--\",\"--\"],[\"\",\"\",\"\\uff08\\u603b\\u8d44\\u4ea7\\uffe5237850.729\",\"\\u5269\\u4f59\\u91d1\\u989d\\uffe5237850.729\",\"\\u5f53\\u65e5\\u4ea4\\u6613\\u4f63\\u91d1\\uffe50.0\\uff09\",\"\\uffe50.0\",\"\\uffe50.0\",null],[\"2020-06-04\",\"--\",\"--\",\"--\",\"--\",\"--\",\"--\",\"--\"],[\"\",\"\",\"\\uff08\\u603b\\u8d44\\u4ea7\\uffe5237850.729\",\"\\u5269\\u4f59\\u91d1\\u989d\\uffe5237850.729\",\"\\u5f53\\u65e5\\u4ea4\\u6613\\u4f63\\u91d1\\uffe50.0\\uff09\",\"\\uffe50.0\",\"\\uffe50.0\",null],[\"2020-06-03\",\"--\",\"--\",\"--\",\"--\",\"--\",\"--\",\"--\"],[\"\",\"\",\"\\uff08\\u603b\\u8d44\\u4ea7\\uffe5237850.729\",\"\\u5269\\u4f59\\u91d1\\u989d\\uffe5237850.729\",\"\\u5f53\\u65e5\\u4ea4\\u6613\\u4f63\\u91d1\\uffe50.0\\uff09\",\"\\uffe50.0\",\"\\uffe50.0\",null],[\"2020-06-02\",\"--\",\"--\",\"--\",\"--\",\"--\",\"--\",\"--\"],[\"\",\"\",\"\\uff08\\u603b\\u8d44\\u4ea7\\uffe5237850.729\",\"\\u5269\\u4f59\\u91d1\\u989d\\uffe5237850.729\",\"\\u5f53\\u65e5\\u4ea4\\u6613\\u4f63\\u91d1\\uffe50.0\\uff09\",\"\\uffe50.0\",\"\\uffe50.0\",null],[\"2020-06-01\",\"--\",\"--\",\"--\",\"--\",\"--\",\"--\",\"--\"],[\"\",\"\",\"\\uff08\\u603b\\u8d44\\u4ea7\\uffe5237850.729\",\"\\u5269\\u4f59\\u91d1\\u989d\\uffe5237850.729\",\"\\u5f53\\u65e5\\u4ea4\\u6613\\u4f63\\u91d1\\uffe50.0\\uff09\",\"\\uffe50.0\",\"\\uffe50.0\",null],[\"2020-05-29\",\"--\",\"--\",\"--\",\"--\",\"--\",\"--\",\"--\"],[\"\",\"\",\"\\uff08\\u603b\\u8d44\\u4ea7\\uffe5237850.729\",\"\\u5269\\u4f59\\u91d1\\u989d\\uffe5237850.729\",\"\\u5f53\\u65e5\\u4ea4\\u6613\\u4f63\\u91d1\\uffe50.0\\uff09\",\"\\uffe50.0\",\"\\uffe50.0\",null],[\"2020-05-28\",\"--\",\"--\",\"--\",\"--\",\"--\",\"--\",\"--\"],[\"\",\"\",\"\\uff08\\u603b\\u8d44\\u4ea7\\uffe5237850.729\",\"\\u5269\\u4f59\\u91d1\\u989d\\uffe5237850.729\",\"\\u5f53\\u65e5\\u4ea4\\u6613\\u4f63\\u91d1\\uffe50.0\\uff09\",\"\\uffe50.0\",\"\\uffe50.0\",null],[\"2020-05-27\",\"--\",\"--\",\"--\",\"--\",\"--\",\"--\",\"--\"],[\"\",\"\",\"\\uff08\\u603b\\u8d44\\u4ea7\\uffe5237850.729\",\"\\u5269\\u4f59\\u91d1\\u989d\\uffe5237850.729\",\"\\u5f53\\u65e5\\u4ea4\\u6613\\u4f63\\u91d1\\uffe50.0\\uff09\",\"\\uffe50.0\",\"\\uffe50.0\",null],[\"2020-05-26\",\"--\",\"--\",\"--\",\"--\",\"--\",\"--\",\"--\"],[\"\",\"\",\"\\uff08\\u603b\\u8d44\\u4ea7\\uffe5237850.729\",\"\\u5269\\u4f59\\u91d1\\u989d\\uffe5237850.729\",\"\\u5f53\\u65e5\\u4ea4\\u6613\\u4f63\\u91d1\\uffe50.0\\uff09\",\"\\uffe50.0\",\"\\uffe50.0\",null],[\"2020-05-25\",\"--\",\"--\",\"--\",\"--\",\"--\",\"--\",\"--\"],[\"\",\"\",\"\\uff08\\u603b\\u8d44\\u4ea7\\uffe5237850.729\",\"\\u5269\\u4f59\\u91d1\\u989d\\uffe5237850.729\",\"\\u5f53\\u65e5\\u4ea4\\u6613\\u4f63\\u91d1\\uffe50.0\\uff09\",\"\\uffe50.0\",\"\\uffe50.0\",null],[\"2020-05-22\",\"--\",\"--\",\"--\",\"--\",\"--\",\"--\",\"--\"],[\"\",\"\",\"\\uff08\\u603b\\u8d44\\u4ea7\\uffe5237850.729\",\"\\u5269\\u4f59\\u91d1\\u989d\\uffe5237850.729\",\"\\u5f53\\u65e5\\u4ea4\\u6613\\u4f63\\u91d1\\uffe50.0\\uff09\",\"\\uffe50.0\",\"\\uffe50.0\",null],[\"2020-05-21\",\"--\",\"--\",\"--\",\"--\",\"--\",\"--\",\"--\"],[\"\",\"\",\"\\uff08\\u603b\\u8d44\\u4ea7\\uffe5237850.729\",\"\\u5269\\u4f59\\u91d1\\u989d\\uffe5237850.729\",\"\\u5f53\\u65e5\\u4ea4\\u6613\\u4f63\\u91d1\\uffe50.0\\uff09\",\"\\uffe50.0\",\"\\uffe50.0\",null],[\"2020-05-20\",\"--\",\"--\",\"--\",\"--\",\"--\",\"--\",\"--\"],[\"\",\"\",\"\\uff08\\u603b\\u8d44\\u4ea7\\uffe5237850.729\",\"\\u5269\\u4f59\\u91d1\\u989d\\uffe5237850.729\",\"\\u5f53\\u65e5\\u4ea4\\u6613\\u4f63\\u91d1\\uffe50.0\\uff09\",\"\\uffe50.0\",\"\\uffe50.0\",null],[\"2020-05-19\",\"--\",\"--\",\"--\",\"--\",\"--\",\"--\",\"--\"],[\"\",\"\",\"\\uff08\\u603b\\u8d44\\u4ea7\\uffe5237850.729\",\"\\u5269\\u4f59\\u91d1\\u989d\\uffe5237850.729\",\"\\u5f53\\u65e5\\u4ea4\\u6613\\u4f63\\u91d1\\uffe50.0\\uff09\",\"\\uffe50.0\",\"\\uffe50.0\",null],[\"2020-05-18\",\"--\",\"--\",\"--\",\"--\",\"--\",\"--\",\"--\"],[\"\",\"\",\"\\uff08\\u603b\\u8d44\\u4ea7\\uffe5237850.729\",\"\\u5269\\u4f59\\u91d1\\u989d\\uffe5237850.729\",\"\\u5f53\\u65e5\\u4ea4\\u6613\\u4f63\\u91d1\\uffe50.0\\uff09\",\"\\uffe50.0\",\"\\uffe50.0\",null],[\"2020-05-15\",\"--\",\"--\",\"--\",\"--\",\"--\",\"--\",\"--\"],[\"\",\"\",\"\\uff08\\u603b\\u8d44\\u4ea7\\uffe5237850.729\",\"\\u5269\\u4f59\\u91d1\\u989d\\uffe5237850.729\",\"\\u5f53\\u65e5\\u4ea4\\u6613\\u4f63\\u91d1\\uffe50.0\\uff09\",\"\\uffe50.0\",\"\\uffe50.0\",null],[\"2020-05-14\",\"--\",\"--\",\"--\",\"--\",\"--\",\"--\",\"--\"],[\"\",\"\",\"\\uff08\\u603b\\u8d44\\u4ea7\\uffe5237850.729\",\"\\u5269\\u4f59\\u91d1\\u989d\\uffe5237850.729\",\"\\u5f53\\u65e5\\u4ea4\\u6613\\u4f63\\u91d1\\uffe50.0\\uff09\",\"\\uffe50.0\",\"\\uffe50.0\",null],[\"2020-05-13\",\"--\",\"--\",\"--\",\"--\",\"--\",\"--\",\"--\"],[\"\",\"\",\"\\uff08\\u603b\\u8d44\\u4ea7\\uffe5237850.729\",\"\\u5269\\u4f59\\u91d1\\u989d\\uffe5237850.729\",\"\\u5f53\\u65e5\\u4ea4\\u6613\\u4f63\\u91d1\\uffe50.0\\uff09\",\"\\uffe50.0\",\"\\uffe50.0\",null],[\"2020-05-12\",\"--\",\"--\",\"--\",\"--\",\"--\",\"--\",\"--\"],[\"\",\"\",\"\\uff08\\u603b\\u8d44\\u4ea7\\uffe5237850.729\",\"\\u5269\\u4f59\\u91d1\\u989d\\uffe5237850.729\",\"\\u5f53\\u65e5\\u4ea4\\u6613\\u4f63\\u91d1\\uffe50.0\\uff09\",\"\\uffe50.0\",\"\\uffe50.0\",null],[\"2020-05-11\",\"--\",\"--\",\"--\",\"--\",\"--\",\"--\",\"--\"],[\"\",\"\",\"\\uff08\\u603b\\u8d44\\u4ea7\\uffe5237850.729\",\"\\u5269\\u4f59\\u91d1\\u989d\\uffe5237850.729\",\"\\u5f53\\u65e5\\u4ea4\\u6613\\u4f63\\u91d1\\uffe50.0\\uff09\",\"\\uffe50.0\",\"\\uffe50.0\",null],[\"2020-05-08\",\"--\",\"--\",\"--\",\"--\",\"--\",\"--\",\"--\"],[\"\",\"\",\"\\uff08\\u603b\\u8d44\\u4ea7\\uffe5237850.729\",\"\\u5269\\u4f59\\u91d1\\u989d\\uffe5237850.729\",\"\\u5f53\\u65e5\\u4ea4\\u6613\\u4f63\\u91d1\\uffe50.0\\uff09\",\"\\uffe50.0\",\"\\uffe50.0\",null],[\"2020-05-07\",\"--\",\"--\",\"--\",\"--\",\"--\",\"--\",\"--\"],[\"\",\"\",\"\\uff08\\u603b\\u8d44\\u4ea7\\uffe5237850.729\",\"\\u5269\\u4f59\\u91d1\\u989d\\uffe5237850.729\",\"\\u5f53\\u65e5\\u4ea4\\u6613\\u4f63\\u91d1\\uffe50.0\\uff09\",\"\\uffe50.0\",\"\\uffe50.0\",null],[\"2020-05-06\",\"--\",\"--\",\"--\",\"--\",\"--\",\"--\",\"--\"],[\"\",\"\",\"\\uff08\\u603b\\u8d44\\u4ea7\\uffe5237850.729\",\"\\u5269\\u4f59\\u91d1\\u989d\\uffe5237850.729\",\"\\u5f53\\u65e5\\u4ea4\\u6613\\u4f63\\u91d1\\uffe50.0\\uff09\",\"\\uffe50.0\",\"\\uffe50.0\",null],[\"2020-04-30\",\"--\",\"--\",\"--\",\"--\",\"--\",\"--\",\"--\"],[\"\",\"\",\"\\uff08\\u603b\\u8d44\\u4ea7\\uffe5237850.729\",\"\\u5269\\u4f59\\u91d1\\u989d\\uffe5237850.729\",\"\\u5f53\\u65e5\\u4ea4\\u6613\\u4f63\\u91d1\\uffe50.0\\uff09\",\"\\uffe50.0\",\"\\uffe50.0\",null],[\"2020-04-29\",\"--\",\"--\",\"--\",\"--\",\"--\",\"--\",\"--\"],[\"\",\"\",\"\\uff08\\u603b\\u8d44\\u4ea7\\uffe5237850.729\",\"\\u5269\\u4f59\\u91d1\\u989d\\uffe5237850.729\",\"\\u5f53\\u65e5\\u4ea4\\u6613\\u4f63\\u91d1\\uffe50.0\\uff09\",\"\\uffe50.0\",\"\\uffe50.0\",null],[\"2020-04-28\",\"--\",\"--\",\"--\",\"--\",\"--\",\"--\",\"--\"],[\"\",\"\",\"\\uff08\\u603b\\u8d44\\u4ea7\\uffe5237850.729\",\"\\u5269\\u4f59\\u91d1\\u989d\\uffe5237850.729\",\"\\u5f53\\u65e5\\u4ea4\\u6613\\u4f63\\u91d1\\uffe50.0\\uff09\",\"\\uffe50.0\",\"\\uffe50.0\",null],[\"2020-04-27\",\"--\",\"--\",\"--\",\"--\",\"--\",\"--\",\"--\"],[\"\",\"\",\"\\uff08\\u603b\\u8d44\\u4ea7\\uffe5237850.729\",\"\\u5269\\u4f59\\u91d1\\u989d\\uffe5237850.729\",\"\\u5f53\\u65e5\\u4ea4\\u6613\\u4f63\\u91d1\\uffe50.0\\uff09\",\"\\uffe50.0\",\"\\uffe50.0\",null],[\"2020-04-24\",\"--\",\"--\",\"--\",\"--\",\"--\",\"--\",\"--\"],[\"\",\"\",\"\\uff08\\u603b\\u8d44\\u4ea7\\uffe5237850.729\",\"\\u5269\\u4f59\\u91d1\\u989d\\uffe5237850.729\",\"\\u5f53\\u65e5\\u4ea4\\u6613\\u4f63\\u91d1\\uffe50.0\\uff09\",\"\\uffe50.0\",\"\\uffe50.0\",null],[\"2020-04-23\",\"--\",\"--\",\"--\",\"--\",\"--\",\"--\",\"--\"],[\"\",\"\",\"\\uff08\\u603b\\u8d44\\u4ea7\\uffe5237850.729\",\"\\u5269\\u4f59\\u91d1\\u989d\\uffe5237850.729\",\"\\u5f53\\u65e5\\u4ea4\\u6613\\u4f63\\u91d1\\uffe50.0\\uff09\",\"\\uffe50.0\",\"\\uffe50.0\",null],[\"2020-04-22\",\"--\",\"--\",\"--\",\"--\",\"--\",\"--\",\"--\"],[\"\",\"\",\"\\uff08\\u603b\\u8d44\\u4ea7\\uffe5237850.729\",\"\\u5269\\u4f59\\u91d1\\u989d\\uffe5237850.729\",\"\\u5f53\\u65e5\\u4ea4\\u6613\\u4f63\\u91d1\\uffe50.0\\uff09\",\"\\uffe50.0\",\"\\uffe50.0\",null],[\"2020-04-21\",\"--\",\"--\",\"--\",\"--\",\"--\",\"--\",\"--\"],[\"\",\"\",\"\\uff08\\u603b\\u8d44\\u4ea7\\uffe5237850.729\",\"\\u5269\\u4f59\\u91d1\\u989d\\uffe5237850.729\",\"\\u5f53\\u65e5\\u4ea4\\u6613\\u4f63\\u91d1\\uffe50.0\\uff09\",\"\\uffe50.0\",\"\\uffe50.0\",null],[\"2020-04-20\",\"--\",\"--\",\"--\",\"--\",\"--\",\"--\",\"--\"],[\"\",\"\",\"\\uff08\\u603b\\u8d44\\u4ea7\\uffe5237850.729\",\"\\u5269\\u4f59\\u91d1\\u989d\\uffe5237850.729\",\"\\u5f53\\u65e5\\u4ea4\\u6613\\u4f63\\u91d1\\uffe50.0\\uff09\",\"\\uffe50.0\",\"\\uffe50.0\",null],[\"2020-04-17\",\"--\",\"--\",\"--\",\"--\",\"--\",\"--\",\"--\"],[\"\",\"\",\"\\uff08\\u603b\\u8d44\\u4ea7\\uffe5237850.729\",\"\\u5269\\u4f59\\u91d1\\u989d\\uffe5237850.729\",\"\\u5f53\\u65e5\\u4ea4\\u6613\\u4f63\\u91d1\\uffe50.0\\uff09\",\"\\uffe50.0\",\"\\uffe50.0\",null],[\"2020-04-16\",\"--\",\"--\",\"--\",\"--\",\"--\",\"--\",\"--\"],[\"\",\"\",\"\\uff08\\u603b\\u8d44\\u4ea7\\uffe5237850.729\",\"\\u5269\\u4f59\\u91d1\\u989d\\uffe5237850.729\",\"\\u5f53\\u65e5\\u4ea4\\u6613\\u4f63\\u91d1\\uffe50.0\\uff09\",\"\\uffe50.0\",\"\\uffe50.0\",null],[\"2020-04-15\",\"--\",\"--\",\"--\",\"--\",\"--\",\"--\",\"--\"],[\"\",\"\",\"\\uff08\\u603b\\u8d44\\u4ea7\\uffe5237850.729\",\"\\u5269\\u4f59\\u91d1\\u989d\\uffe5237850.729\",\"\\u5f53\\u65e5\\u4ea4\\u6613\\u4f63\\u91d1\\uffe50.0\\uff09\",\"\\uffe50.0\",\"\\uffe50.0\",null],[\"2020-04-14\",\"--\",\"--\",\"--\",\"--\",\"--\",\"--\",\"--\"],[\"\",\"\",\"\\uff08\\u603b\\u8d44\\u4ea7\\uffe5237850.729\",\"\\u5269\\u4f59\\u91d1\\u989d\\uffe5237850.729\",\"\\u5f53\\u65e5\\u4ea4\\u6613\\u4f63\\u91d1\\uffe50.0\\uff09\",\"\\uffe50.0\",\"\\uffe50.0\",null],[\"2020-04-13\",\"--\",\"--\",\"--\",\"--\",\"--\",\"--\",\"--\"],[\"\",\"\",\"\\uff08\\u603b\\u8d44\\u4ea7\\uffe5237850.729\",\"\\u5269\\u4f59\\u91d1\\u989d\\uffe5237850.729\",\"\\u5f53\\u65e5\\u4ea4\\u6613\\u4f63\\u91d1\\uffe50.0\\uff09\",\"\\uffe50.0\",\"\\uffe50.0\",null],[\"2020-04-10\",\"--\",\"--\",\"--\",\"--\",\"--\",\"--\",\"--\"],[\"\",\"\",\"\\uff08\\u603b\\u8d44\\u4ea7\\uffe5237850.729\",\"\\u5269\\u4f59\\u91d1\\u989d\\uffe5237850.729\",\"\\u5f53\\u65e5\\u4ea4\\u6613\\u4f63\\u91d1\\uffe50.0\\uff09\",\"\\uffe50.0\",\"\\uffe50.0\",null],[\"2020-04-09\",\"--\",\"--\",\"--\",\"--\",\"--\",\"--\",\"--\"],[\"\",\"\",\"\\uff08\\u603b\\u8d44\\u4ea7\\uffe5237850.729\",\"\\u5269\\u4f59\\u91d1\\u989d\\uffe5237850.729\",\"\\u5f53\\u65e5\\u4ea4\\u6613\\u4f63\\u91d1\\uffe50.0\\uff09\",\"\\uffe50.0\",\"\\uffe50.0\",null],[\"2020-04-08\",\"--\",\"--\",\"--\",\"--\",\"--\",\"--\",\"--\"],[\"\",\"\",\"\\uff08\\u603b\\u8d44\\u4ea7\\uffe5237850.729\",\"\\u5269\\u4f59\\u91d1\\u989d\\uffe5237850.729\",\"\\u5f53\\u65e5\\u4ea4\\u6613\\u4f63\\u91d1\\uffe50.0\\uff09\",\"\\uffe50.0\",\"\\uffe50.0\",null],[\"2020-04-07\",\"--\",\"--\",\"--\",\"--\",\"--\",\"--\",\"--\"],[\"\",\"\",\"\\uff08\\u603b\\u8d44\\u4ea7\\uffe5237850.729\",\"\\u5269\\u4f59\\u91d1\\u989d\\uffe5237850.729\",\"\\u5f53\\u65e5\\u4ea4\\u6613\\u4f63\\u91d1\\uffe50.0\\uff09\",\"\\uffe50.0\",\"\\uffe50.0\",null],[\"2020-04-03\",\"--\",\"--\",\"--\",\"--\",\"--\",\"--\",\"--\"],[\"\",\"\",\"\\uff08\\u603b\\u8d44\\u4ea7\\uffe5237850.729\",\"\\u5269\\u4f59\\u91d1\\u989d\\uffe5237850.729\",\"\\u5f53\\u65e5\\u4ea4\\u6613\\u4f63\\u91d1\\uffe50.0\\uff09\",\"\\uffe50.0\",\"\\uffe50.0\",null],[\"2020-04-02\",\"--\",\"--\",\"--\",\"--\",\"--\",\"--\",\"--\"],[\"\",\"\",\"\\uff08\\u603b\\u8d44\\u4ea7\\uffe5237850.729\",\"\\u5269\\u4f59\\u91d1\\u989d\\uffe5237850.729\",\"\\u5f53\\u65e5\\u4ea4\\u6613\\u4f63\\u91d1\\uffe50.0\\uff09\",\"\\uffe50.0\",\"\\uffe50.0\",null],[\"2020-04-01\",\"--\",\"--\",\"--\",\"--\",\"--\",\"--\",\"--\"],[\"\",\"\",\"\\uff08\\u603b\\u8d44\\u4ea7\\uffe5237850.729\",\"\\u5269\\u4f59\\u91d1\\u989d\\uffe5237850.729\",\"\\u5f53\\u65e5\\u4ea4\\u6613\\u4f63\\u91d1\\uffe50.0\\uff09\",\"\\uffe50.0\",\"\\uffe50.0\",null],[\"2020-03-31\",\"--\",\"--\",\"--\",\"--\",\"--\",\"--\",\"--\"],[\"\",\"\",\"\\uff08\\u603b\\u8d44\\u4ea7\\uffe5237850.729\",\"\\u5269\\u4f59\\u91d1\\u989d\\uffe5237850.729\",\"\\u5f53\\u65e5\\u4ea4\\u6613\\u4f63\\u91d1\\uffe50.0\\uff09\",\"\\uffe50.0\",\"\\uffe50.0\",null],[\"2020-03-30\",\"--\",\"--\",\"--\",\"--\",\"--\",\"--\",\"--\"],[\"\",\"\",\"\\uff08\\u603b\\u8d44\\u4ea7\\uffe5237850.729\",\"\\u5269\\u4f59\\u91d1\\u989d\\uffe5237850.729\",\"\\u5f53\\u65e5\\u4ea4\\u6613\\u4f63\\u91d1\\uffe50.0\\uff09\",\"\\uffe50.0\",\"\\uffe50.0\",null],[\"2020-03-27\",\"--\",\"--\",\"--\",\"--\",\"--\",\"--\",\"--\"],[\"\",\"\",\"\\uff08\\u603b\\u8d44\\u4ea7\\uffe5237850.729\",\"\\u5269\\u4f59\\u91d1\\u989d\\uffe5237850.729\",\"\\u5f53\\u65e5\\u4ea4\\u6613\\u4f63\\u91d1\\uffe50.0\\uff09\",\"\\uffe50.0\",\"\\uffe50.0\",null],[\"2020-03-26\",\"--\",\"--\",\"--\",\"--\",\"--\",\"--\",\"--\"],[\"\",\"\",\"\\uff08\\u603b\\u8d44\\u4ea7\\uffe5237850.729\",\"\\u5269\\u4f59\\u91d1\\u989d\\uffe5237850.729\",\"\\u5f53\\u65e5\\u4ea4\\u6613\\u4f63\\u91d1\\uffe50.0\\uff09\",\"\\uffe50.0\",\"\\uffe50.0\",null],[\"2020-03-25\",\"--\",\"--\",\"--\",\"--\",\"--\",\"--\",\"--\"],[\"\",\"\",\"\\uff08\\u603b\\u8d44\\u4ea7\\uffe5237850.729\",\"\\u5269\\u4f59\\u91d1\\u989d\\uffe5237850.729\",\"\\u5f53\\u65e5\\u4ea4\\u6613\\u4f63\\u91d1\\uffe50.0\\uff09\",\"\\uffe50.0\",\"\\uffe50.0\",null],[\"2020-03-24\",\"--\",\"--\",\"--\",\"--\",\"--\",\"--\",\"--\"],[\"\",\"\",\"\\uff08\\u603b\\u8d44\\u4ea7\\uffe5237850.729\",\"\\u5269\\u4f59\\u91d1\\u989d\\uffe5237850.729\",\"\\u5f53\\u65e5\\u4ea4\\u6613\\u4f63\\u91d1\\uffe50.0\\uff09\",\"\\uffe50.0\",\"\\uffe50.0\",null],[\"2020-03-23\",\"--\",\"--\",\"--\",\"--\",\"--\",\"--\",\"--\"],[\"\",\"\",\"\\uff08\\u603b\\u8d44\\u4ea7\\uffe5237850.729\",\"\\u5269\\u4f59\\u91d1\\u989d\\uffe5237850.729\",\"\\u5f53\\u65e5\\u4ea4\\u6613\\u4f63\\u91d1\\uffe50.0\\uff09\",\"\\uffe50.0\",\"\\uffe50.0\",null],[\"2020-03-20\",\"--\",\"--\",\"--\",\"--\",\"--\",\"--\",\"--\"],[\"\",\"\",\"\\uff08\\u603b\\u8d44\\u4ea7\\uffe5237850.729\",\"\\u5269\\u4f59\\u91d1\\u989d\\uffe5237850.729\",\"\\u5f53\\u65e5\\u4ea4\\u6613\\u4f63\\u91d1\\uffe50.0\\uff09\",\"\\uffe50.0\",\"\\uffe50.0\",null],[\"2020-03-19\",\"--\",\"--\",\"--\",\"--\",\"--\",\"--\",\"--\"],[\"\",\"\",\"\\uff08\\u603b\\u8d44\\u4ea7\\uffe5237850.729\",\"\\u5269\\u4f59\\u91d1\\u989d\\uffe5237850.729\",\"\\u5f53\\u65e5\\u4ea4\\u6613\\u4f63\\u91d1\\uffe50.0\\uff09\",\"\\uffe50.0\",\"\\uffe50.0\",null],[\"2020-03-18\",\"--\",\"--\",\"--\",\"--\",\"--\",\"--\",\"--\"],[\"\",\"\",\"\\uff08\\u603b\\u8d44\\u4ea7\\uffe5237850.729\",\"\\u5269\\u4f59\\u91d1\\u989d\\uffe5237850.729\",\"\\u5f53\\u65e5\\u4ea4\\u6613\\u4f63\\u91d1\\uffe50.0\\uff09\",\"\\uffe50.0\",\"\\uffe50.0\",null],[\"2020-03-17\",\"--\",\"--\",\"--\",\"--\",\"--\",\"--\",\"--\"],[\"\",\"\",\"\\uff08\\u603b\\u8d44\\u4ea7\\uffe5237850.729\",\"\\u5269\\u4f59\\u91d1\\u989d\\uffe5237850.729\",\"\\u5f53\\u65e5\\u4ea4\\u6613\\u4f63\\u91d1\\uffe50.0\\uff09\",\"\\uffe50.0\",\"\\uffe50.0\",null],[\"2020-03-16\",\"--\",\"--\",\"--\",\"--\",\"--\",\"--\",\"--\"],[\"\",\"\",\"\\uff08\\u603b\\u8d44\\u4ea7\\uffe5237850.729\",\"\\u5269\\u4f59\\u91d1\\u989d\\uffe5237850.729\",\"\\u5f53\\u65e5\\u4ea4\\u6613\\u4f63\\u91d1\\uffe50.0\\uff09\",\"\\uffe50.0\",\"\\uffe50.0\",null],[\"2020-03-13\",\"--\",\"--\",\"--\",\"--\",\"--\",\"--\",\"--\"],[\"\",\"\",\"\\uff08\\u603b\\u8d44\\u4ea7\\uffe5237850.729\",\"\\u5269\\u4f59\\u91d1\\u989d\\uffe5237850.729\",\"\\u5f53\\u65e5\\u4ea4\\u6613\\u4f63\\u91d1\\uffe50.0\\uff09\",\"\\uffe50.0\",\"\\uffe50.0\",null],[\"2020-03-12\",\"--\",\"--\",\"--\",\"--\",\"--\",\"--\",\"--\"],[\"\",\"\",\"\\uff08\\u603b\\u8d44\\u4ea7\\uffe5237850.729\",\"\\u5269\\u4f59\\u91d1\\u989d\\uffe5237850.729\",\"\\u5f53\\u65e5\\u4ea4\\u6613\\u4f63\\u91d1\\uffe50.0\\uff09\",\"\\uffe50.0\",\"\\uffe50.0\",null],[\"2020-03-11\",\"--\",\"--\",\"--\",\"--\",\"--\",\"--\",\"--\"],[\"\",\"\",\"\\uff08\\u603b\\u8d44\\u4ea7\\uffe5237850.729\",\"\\u5269\\u4f59\\u91d1\\u989d\\uffe5237850.729\",\"\\u5f53\\u65e5\\u4ea4\\u6613\\u4f63\\u91d1\\uffe50.0\\uff09\",\"\\uffe50.0\",\"\\uffe50.0\",null],[\"2020-03-10\",\"--\",\"--\",\"--\",\"--\",\"--\",\"--\",\"--\"],[\"\",\"\",\"\\uff08\\u603b\\u8d44\\u4ea7\\uffe5237850.729\",\"\\u5269\\u4f59\\u91d1\\u989d\\uffe5237850.729\",\"\\u5f53\\u65e5\\u4ea4\\u6613\\u4f63\\u91d1\\uffe50.0\\uff09\",\"\\uffe50.0\",\"\\uffe50.0\",null],[\"2020-03-09\",\"--\",\"--\",\"--\",\"--\",\"--\",\"--\",\"--\"],[\"\",\"\",\"\\uff08\\u603b\\u8d44\\u4ea7\\uffe5237850.729\",\"\\u5269\\u4f59\\u91d1\\u989d\\uffe5237850.729\",\"\\u5f53\\u65e5\\u4ea4\\u6613\\u4f63\\u91d1\\uffe50.0\\uff09\",\"\\uffe50.0\",\"\\uffe50.0\",null],[\"2020-03-06\",\"--\",\"--\",\"--\",\"--\",\"--\",\"--\",\"--\"],[\"\",\"\",\"\\uff08\\u603b\\u8d44\\u4ea7\\uffe5237850.729\",\"\\u5269\\u4f59\\u91d1\\u989d\\uffe5237850.729\",\"\\u5f53\\u65e5\\u4ea4\\u6613\\u4f63\\u91d1\\uffe50.0\\uff09\",\"\\uffe50.0\",\"\\uffe50.0\",null],[\"2020-03-05\",\"--\",\"--\",\"--\",\"--\",\"--\",\"--\",\"--\"],[\"\",\"\",\"\\uff08\\u603b\\u8d44\\u4ea7\\uffe5237850.729\",\"\\u5269\\u4f59\\u91d1\\u989d\\uffe5237850.729\",\"\\u5f53\\u65e5\\u4ea4\\u6613\\u4f63\\u91d1\\uffe50.0\\uff09\",\"\\uffe50.0\",\"\\uffe50.0\",null],[\"2020-03-04\",\"--\",\"--\",\"--\",\"--\",\"--\",\"--\",\"--\"],[\"\",\"\",\"\\uff08\\u603b\\u8d44\\u4ea7\\uffe5237850.729\",\"\\u5269\\u4f59\\u91d1\\u989d\\uffe5237850.729\",\"\\u5f53\\u65e5\\u4ea4\\u6613\\u4f63\\u91d1\\uffe50.0\\uff09\",\"\\uffe50.0\",\"\\uffe50.0\",null],[\"2020-03-03\",\"--\",\"--\",\"--\",\"--\",\"--\",\"--\",\"--\"],[\"\",\"\",\"\\uff08\\u603b\\u8d44\\u4ea7\\uffe5237850.729\",\"\\u5269\\u4f59\\u91d1\\u989d\\uffe5237850.729\",\"\\u5f53\\u65e5\\u4ea4\\u6613\\u4f63\\u91d1\\uffe5295.47\\uff09\",\"\\uffe50.0\",\"\\uffe50.0\",null],[\"2020-03-02\",\"600083.SHA\",\"\\u535a\\u4fe1\\u80a1\\u4efd\",13.0,\"13.390\",16200,216918.006,6318.002],[\"\",\"\",\"\\uff08\\u603b\\u8d44\\u4ea7\\uffe5227778.214\",\"\\u5269\\u4f59\\u91d1\\u989d\\uffe510860.208\",\"\\u5f53\\u65e5\\u4ea4\\u6613\\u4f63\\u91d1\\uffe563.18\\uff09\",\"\\uffe5216918.006\",\"\\uffe56318.002\",null],[\"2020-02-28\",\"--\",\"--\",\"--\",\"--\",\"--\",\"--\",\"--\"],[\"\",\"\",\"\\uff08\\u603b\\u8d44\\u4ea7\\uffe5221523.392\",\"\\u5269\\u4f59\\u91d1\\u989d\\uffe5221523.392\",\"\\u5f53\\u65e5\\u4ea4\\u6613\\u4f63\\u91d1\\uffe50.0\\uff09\",\"\\uffe50.0\",\"\\uffe50.0\",null],[\"2020-02-27\",\"--\",\"--\",\"--\",\"--\",\"--\",\"--\",\"--\"],[\"\",\"\",\"\\uff08\\u603b\\u8d44\\u4ea7\\uffe5221523.392\",\"\\u5269\\u4f59\\u91d1\\u989d\\uffe5221523.392\",\"\\u5f53\\u65e5\\u4ea4\\u6613\\u4f63\\u91d1\\uffe50.0\\uff09\",\"\\uffe50.0\",\"\\uffe50.0\",null],[\"2020-02-26\",\"--\",\"--\",\"--\",\"--\",\"--\",\"--\",\"--\"],[\"\",\"\",\"\\uff08\\u603b\\u8d44\\u4ea7\\uffe5221523.392\",\"\\u5269\\u4f59\\u91d1\\u989d\\uffe5221523.392\",\"\\u5f53\\u65e5\\u4ea4\\u6613\\u4f63\\u91d1\\uffe50.0\\uff09\",\"\\uffe50.0\",\"\\uffe50.0\",null],[\"2020-02-25\",\"--\",\"--\",\"--\",\"--\",\"--\",\"--\",\"--\"],[\"\",\"\",\"\\uff08\\u603b\\u8d44\\u4ea7\\uffe5221523.392\",\"\\u5269\\u4f59\\u91d1\\u989d\\uffe5221523.392\",\"\\u5f53\\u65e5\\u4ea4\\u6613\\u4f63\\u91d1\\uffe50.0\\uff09\",\"\\uffe50.0\",\"\\uffe50.0\",null],[\"2020-02-24\",\"--\",\"--\",\"--\",\"--\",\"--\",\"--\",\"--\"],[\"\",\"\",\"\\uff08\\u603b\\u8d44\\u4ea7\\uffe5221523.392\",\"\\u5269\\u4f59\\u91d1\\u989d\\uffe5221523.392\",\"\\u5f53\\u65e5\\u4ea4\\u6613\\u4f63\\u91d1\\uffe50.0\\uff09\",\"\\uffe50.0\",\"\\uffe50.0\",null],[\"2020-02-21\",\"--\",\"--\",\"--\",\"--\",\"--\",\"--\",\"--\"],[\"\",\"\",\"\\uff08\\u603b\\u8d44\\u4ea7\\uffe5221523.392\",\"\\u5269\\u4f59\\u91d1\\u989d\\uffe5221523.392\",\"\\u5f53\\u65e5\\u4ea4\\u6613\\u4f63\\u91d1\\uffe50.0\\uff09\",\"\\uffe50.0\",\"\\uffe50.0\",null],[\"2020-02-20\",\"--\",\"--\",\"--\",\"--\",\"--\",\"--\",\"--\"],[\"\",\"\",\"\\uff08\\u603b\\u8d44\\u4ea7\\uffe5221523.392\",\"\\u5269\\u4f59\\u91d1\\u989d\\uffe5221523.392\",\"\\u5f53\\u65e5\\u4ea4\\u6613\\u4f63\\u91d1\\uffe50.0\\uff09\",\"\\uffe50.0\",\"\\uffe50.0\",null],[\"2020-02-19\",\"--\",\"--\",\"--\",\"--\",\"--\",\"--\",\"--\"],[\"\",\"\",\"\\uff08\\u603b\\u8d44\\u4ea7\\uffe5221523.392\",\"\\u5269\\u4f59\\u91d1\\u989d\\uffe5221523.392\",\"\\u5f53\\u65e5\\u4ea4\\u6613\\u4f63\\u91d1\\uffe50.0\\uff09\",\"\\uffe50.0\",\"\\uffe50.0\",null],[\"2020-02-18\",\"--\",\"--\",\"--\",\"--\",\"--\",\"--\",\"--\"],[\"\",\"\",\"\\uff08\\u603b\\u8d44\\u4ea7\\uffe5221523.392\",\"\\u5269\\u4f59\\u91d1\\u989d\\uffe5221523.392\",\"\\u5f53\\u65e5\\u4ea4\\u6613\\u4f63\\u91d1\\uffe50.0\\uff09\",\"\\uffe50.0\",\"\\uffe50.0\",null],[\"2020-02-17\",\"--\",\"--\",\"--\",\"--\",\"--\",\"--\",\"--\"],[\"\",\"\",\"\\uff08\\u603b\\u8d44\\u4ea7\\uffe5221523.392\",\"\\u5269\\u4f59\\u91d1\\u989d\\uffe5221523.392\",\"\\u5f53\\u65e5\\u4ea4\\u6613\\u4f63\\u91d1\\uffe50.0\\uff09\",\"\\uffe50.0\",\"\\uffe50.0\",null],[\"2020-02-14\",\"--\",\"--\",\"--\",\"--\",\"--\",\"--\",\"--\"],[\"\",\"\",\"\\uff08\\u603b\\u8d44\\u4ea7\\uffe5221523.392\",\"\\u5269\\u4f59\\u91d1\\u989d\\uffe5221523.392\",\"\\u5f53\\u65e5\\u4ea4\\u6613\\u4f63\\u91d1\\uffe50.0\\uff09\",\"\\uffe50.0\",\"\\uffe50.0\",null],[\"2020-02-13\",\"--\",\"--\",\"--\",\"--\",\"--\",\"--\",\"--\"],[\"\",\"\",\"\\uff08\\u603b\\u8d44\\u4ea7\\uffe5221523.392\",\"\\u5269\\u4f59\\u91d1\\u989d\\uffe5221523.392\",\"\\u5f53\\u65e5\\u4ea4\\u6613\\u4f63\\u91d1\\uffe50.0\\uff09\",\"\\uffe50.0\",\"\\uffe50.0\",null],[\"2020-02-12\",\"--\",\"--\",\"--\",\"--\",\"--\",\"--\",\"--\"],[\"\",\"\",\"\\uff08\\u603b\\u8d44\\u4ea7\\uffe5221523.392\",\"\\u5269\\u4f59\\u91d1\\u989d\\uffe5221523.392\",\"\\u5f53\\u65e5\\u4ea4\\u6613\\u4f63\\u91d1\\uffe50.0\\uff09\",\"\\uffe50.0\",\"\\uffe50.0\",null],[\"2020-02-11\",\"--\",\"--\",\"--\",\"--\",\"--\",\"--\",\"--\"],[\"\",\"\",\"\\uff08\\u603b\\u8d44\\u4ea7\\uffe5221523.392\",\"\\u5269\\u4f59\\u91d1\\u989d\\uffe5221523.392\",\"\\u5f53\\u65e5\\u4ea4\\u6613\\u4f63\\u91d1\\uffe50.0\\uff09\",\"\\uffe50.0\",\"\\uffe50.0\",null],[\"2020-02-10\",\"--\",\"--\",\"--\",\"--\",\"--\",\"--\",\"--\"],[\"\",\"\",\"\\uff08\\u603b\\u8d44\\u4ea7\\uffe5221523.392\",\"\\u5269\\u4f59\\u91d1\\u989d\\uffe5221523.392\",\"\\u5f53\\u65e5\\u4ea4\\u6613\\u4f63\\u91d1\\uffe50.0\\uff09\",\"\\uffe50.0\",\"\\uffe50.0\",null],[\"2020-02-07\",\"--\",\"--\",\"--\",\"--\",\"--\",\"--\",\"--\"],[\"\",\"\",\"\\uff08\\u603b\\u8d44\\u4ea7\\uffe5221523.392\",\"\\u5269\\u4f59\\u91d1\\u989d\\uffe5221523.392\",\"\\u5f53\\u65e5\\u4ea4\\u6613\\u4f63\\u91d1\\uffe50.0\\uff09\",\"\\uffe50.0\",\"\\uffe50.0\",null],[\"2020-02-06\",\"--\",\"--\",\"--\",\"--\",\"--\",\"--\",\"--\"],[\"\",\"\",\"\\uff08\\u603b\\u8d44\\u4ea7\\uffe5221523.392\",\"\\u5269\\u4f59\\u91d1\\u989d\\uffe5221523.392\",\"\\u5f53\\u65e5\\u4ea4\\u6613\\u4f63\\u91d1\\uffe50.0\\uff09\",\"\\uffe50.0\",\"\\uffe50.0\",null],[\"2020-02-05\",\"--\",\"--\",\"--\",\"--\",\"--\",\"--\",\"--\"],[\"\",\"\",\"\\uff08\\u603b\\u8d44\\u4ea7\\uffe5221523.392\",\"\\u5269\\u4f59\\u91d1\\u989d\\uffe5221523.392\",\"\\u5f53\\u65e5\\u4ea4\\u6613\\u4f63\\u91d1\\uffe5263.56\\uff09\",\"\\uffe50.0\",\"\\uffe50.0\",null],[\"2020-02-04\",\"603268.SHA\",\"\\u677e\\u53d1\\u80a1\\u4efd\",13.5,\"14.560\",13400,195104.006,14203.709],[\"\",\"\",\"\\uff08\\u603b\\u8d44\\u4ea7\\uffe5214149.439\",\"\\u5269\\u4f59\\u91d1\\u989d\\uffe519045.434\",\"\\u5f53\\u65e5\\u4ea4\\u6613\\u4f63\\u91d1\\uffe554.27\\uff09\",\"\\uffe5195104.006\",\"\\uffe514203.709\",null],[\"2020-02-03\",\"--\",\"--\",\"--\",\"--\",\"--\",\"--\",\"--\"],[\"\",\"\",\"\\uff08\\u603b\\u8d44\\u4ea7\\uffe5200000.0\",\"\\u5269\\u4f59\\u91d1\\u989d\\uffe5200000.0\",\"\\u5f53\\u65e5\\u4ea4\\u6613\\u4f63\\u91d1\\uffe50.0\\uff09\",\"\\uffe50.0\",\"\\uffe50.0\",null],[\"2020-01-23\",\"--\",\"--\",\"--\",\"--\",\"--\",\"--\",\"--\"],[\"\",\"\",\"\\uff08\\u603b\\u8d44\\u4ea7\\uffe5200000.0\",\"\\u5269\\u4f59\\u91d1\\u989d\\uffe5200000.0\",\"\\u5f53\\u65e5\\u4ea4\\u6613\\u4f63\\u91d1\\uffe50.0\\uff09\",\"\\uffe50.0\",\"\\uffe50.0\",null],[\"2020-01-22\",\"--\",\"--\",\"--\",\"--\",\"--\",\"--\",\"--\"],[\"\",\"\",\"\\uff08\\u603b\\u8d44\\u4ea7\\uffe5200000.0\",\"\\u5269\\u4f59\\u91d1\\u989d\\uffe5200000.0\",\"\\u5f53\\u65e5\\u4ea4\\u6613\\u4f63\\u91d1\\uffe50.0\\uff09\",\"\\uffe50.0\",\"\\uffe50.0\",null],[\"2020-01-21\",\"--\",\"--\",\"--\",\"--\",\"--\",\"--\",\"--\"],[\"\",\"\",\"\\uff08\\u603b\\u8d44\\u4ea7\\uffe5200000.0\",\"\\u5269\\u4f59\\u91d1\\u989d\\uffe5200000.0\",\"\\u5f53\\u65e5\\u4ea4\\u6613\\u4f63\\u91d1\\uffe50.0\\uff09\",\"\\uffe50.0\",\"\\uffe50.0\",null],[\"2020-01-20\",\"--\",\"--\",\"--\",\"--\",\"--\",\"--\",\"--\"],[\"\",\"\",\"\\uff08\\u603b\\u8d44\\u4ea7\\uffe5200000.0\",\"\\u5269\\u4f59\\u91d1\\u989d\\uffe5200000.0\",\"\\u5f53\\u65e5\\u4ea4\\u6613\\u4f63\\u91d1\\uffe50.0\\uff09\",\"\\uffe50.0\",\"\\uffe50.0\",null],[\"2020-01-17\",\"--\",\"--\",\"--\",\"--\",\"--\",\"--\",\"--\"],[\"\",\"\",\"\\uff08\\u603b\\u8d44\\u4ea7\\uffe5200000.0\",\"\\u5269\\u4f59\\u91d1\\u989d\\uffe5200000.0\",\"\\u5f53\\u65e5\\u4ea4\\u6613\\u4f63\\u91d1\\uffe50.0\\uff09\",\"\\uffe50.0\",\"\\uffe50.0\",null],[\"2020-01-16\",\"--\",\"--\",\"--\",\"--\",\"--\",\"--\",\"--\"],[\"\",\"\",\"\\uff08\\u603b\\u8d44\\u4ea7\\uffe5200000.0\",\"\\u5269\\u4f59\\u91d1\\u989d\\uffe5200000.0\",\"\\u5f53\\u65e5\\u4ea4\\u6613\\u4f63\\u91d1\\uffe50.0\\uff09\",\"\\uffe50.0\",\"\\uffe50.0\",null],[\"2020-01-15\",\"--\",\"--\",\"--\",\"--\",\"--\",\"--\",\"--\"],[\"\",\"\",\"\\uff08\\u603b\\u8d44\\u4ea7\\uffe5200000.0\",\"\\u5269\\u4f59\\u91d1\\u989d\\uffe5200000.0\",\"\\u5f53\\u65e5\\u4ea4\\u6613\\u4f63\\u91d1\\uffe50.0\\uff09\",\"\\uffe50.0\",\"\\uffe50.0\",null],[\"2020-01-14\",\"--\",\"--\",\"--\",\"--\",\"--\",\"--\",\"--\"],[\"\",\"\",\"\\uff08\\u603b\\u8d44\\u4ea7\\uffe5200000.0\",\"\\u5269\\u4f59\\u91d1\\u989d\\uffe5200000.0\",\"\\u5f53\\u65e5\\u4ea4\\u6613\\u4f63\\u91d1\\uffe50.0\\uff09\",\"\\uffe50.0\",\"\\uffe50.0\",null],[\"2020-01-13\",\"--\",\"--\",\"--\",\"--\",\"--\",\"--\",\"--\"],[\"\",\"\",\"\\uff08\\u603b\\u8d44\\u4ea7\\uffe5200000.0\",\"\\u5269\\u4f59\\u91d1\\u989d\\uffe5200000.0\",\"\\u5f53\\u65e5\\u4ea4\\u6613\\u4f63\\u91d1\\uffe50.0\\uff09\",\"\\uffe50.0\",\"\\uffe50.0\",null],[\"2020-01-10\",\"--\",\"--\",\"--\",\"--\",\"--\",\"--\",\"--\"],[\"\",\"\",\"\\uff08\\u603b\\u8d44\\u4ea7\\uffe5200000.0\",\"\\u5269\\u4f59\\u91d1\\u989d\\uffe5200000.0\",\"\\u5f53\\u65e5\\u4ea4\\u6613\\u4f63\\u91d1\\uffe50.0\\uff09\",\"\\uffe50.0\",\"\\uffe50.0\",null],[\"2020-01-09\",\"--\",\"--\",\"--\",\"--\",\"--\",\"--\",\"--\"],[\"\",\"\",\"\\uff08\\u603b\\u8d44\\u4ea7\\uffe5200000.0\",\"\\u5269\\u4f59\\u91d1\\u989d\\uffe5200000.0\",\"\\u5f53\\u65e5\\u4ea4\\u6613\\u4f63\\u91d1\\uffe50.0\\uff09\",\"\\uffe50.0\",\"\\uffe50.0\",null],[\"2020-01-08\",\"--\",\"--\",\"--\",\"--\",\"--\",\"--\",\"--\"],[\"\",\"\",\"\\uff08\\u603b\\u8d44\\u4ea7\\uffe5200000.0\",\"\\u5269\\u4f59\\u91d1\\u989d\\uffe5200000.0\",\"\\u5f53\\u65e5\\u4ea4\\u6613\\u4f63\\u91d1\\uffe50.0\\uff09\",\"\\uffe50.0\",\"\\uffe50.0\",null],[\"2020-01-07\",\"--\",\"--\",\"--\",\"--\",\"--\",\"--\",\"--\"],[\"\",\"\",\"\\uff08\\u603b\\u8d44\\u4ea7\\uffe5200000.0\",\"\\u5269\\u4f59\\u91d1\\u989d\\uffe5200000.0\",\"\\u5f53\\u65e5\\u4ea4\\u6613\\u4f63\\u91d1\\uffe50.0\\uff09\",\"\\uffe50.0\",\"\\uffe50.0\",null],[\"2020-01-06\",\"--\",\"--\",\"--\",\"--\",\"--\",\"--\",\"--\"],[\"\",\"\",\"\\uff08\\u603b\\u8d44\\u4ea7\\uffe5200000.0\",\"\\u5269\\u4f59\\u91d1\\u989d\\uffe5200000.0\",\"\\u5f53\\u65e5\\u4ea4\\u6613\\u4f63\\u91d1\\uffe50.0\\uff09\",\"\\uffe50.0\",\"\\uffe50.0\",null],[\"2020-01-03\",\"--\",\"--\",\"--\",\"--\",\"--\",\"--\",\"--\"],[\"\",\"\",\"\\uff08\\u603b\\u8d44\\u4ea7\\uffe5200000.0\",\"\\u5269\\u4f59\\u91d1\\u989d\\uffe5200000.0\",\"\\u5f53\\u65e5\\u4ea4\\u6613\\u4f63\\u91d1\\uffe50.0\\uff09\",\"\\uffe50.0\",\"\\uffe50.0\",null],[\"2020-01-02\",\"--\",\"--\",\"--\",\"--\",\"--\",\"--\",\"--\"],[\"\",\"\",\"\\uff08\\u603b\\u8d44\\u4ea7\\uffe5200000.0\",\"\\u5269\\u4f59\\u91d1\\u989d\\uffe5200000.0\",\"\\u5f53\\u65e5\\u4ea4\\u6613\\u4f63\\u91d1\\uffe50.0\\uff09\",\"\\uffe50.0\",\"\\uffe50.0\",null]],\"columns\":[{\"title\":\"\\u65e5\\u671f\",\"orderable\":false},{\"title\":\"\\u80a1\\u7968\\u4ee3\\u7801\",\"orderable\":false},{\"title\":\"\\u80a1\\u7968\\u540d\\u79f0\",\"orderable\":false},{\"title\":\"\\u6301\\u4ed3\\u5747\\u4ef7\",\"orderable\":false},{\"title\":\"\\u6536\\u76d8\\u4ef7\",\"orderable\":false},{\"title\":\"\\u80a1\\u6570\",\"orderable\":false},{\"title\":\"\\u6301\\u4ed3\\u4ef7\\u503c\",\"orderable\":false},{\"title\":\"\\u6536\\u76ca\",\"orderable\":false}],\"searching\":false,\"info\":false,\"pageLength\":20,\"lengthChange\":false,\"order\":[],\"__type\":\"datatable\",\"__id\":\"bigchart-a28cc8a913924de0a583a684407d7148\",\"language\":{\"sProcessing\":\"\\u5904\\u7406\\u4e2d...\",\"sLengthMenu\":\"\\u663e\\u793a _MENU_ \\u9879\\u7ed3\\u679c\",\"sZeroRecords\":\"\\u6ca1\\u6709\\u5339\\u914d\\u7ed3\\u679c\",\"sInfo\":\"\\u663e\\u793a\\u7b2c _START_ \\u81f3 _END_ \\u9879\\u7ed3\\u679c\\uff0c\\u5171 _TOTAL_ \\u9879\",\"sInfoEmpty\":\"\\u663e\\u793a\\u7b2c 0 \\u81f3 0 \\u9879\\u7ed3\\u679c\\uff0c\\u5171 0 \\u9879\",\"sInfoFiltered\":\"(\\u7531 _MAX_ \\u9879\\u7ed3\\u679c\\u8fc7\\u6ee4)\",\"sInfoPostFix\":\"\",\"sSearch\":\"\\u641c\\u7d22:\",\"sUrl\":\"\",\"sEmptyTable\":\"\\u8868\\u4e2d\\u6570\\u636e\\u4e3a\\u7a7a\",\"sLoadingRecords\":\"\\u8f7d\\u5165\\u4e2d...\",\"sInfoThousands\":\",\",\"oPaginate\":{\"sFirst\":\"\\u9996\\u9875\",\"sPrevious\":\"\\u4e0a\\u9875\",\"sNext\":\"\\u4e0b\\u9875\",\"sLast\":\"\\u672b\\u9875\"}},\"hasWholeData\":true}/bigcharts-data-end</pre></div></div><div class='tab-pane' id='输出日志'><table id=\"bigchart-a88b33c836e34989aa9a1414225ee9cd\" width=\"100%\" class=\"display bigchart\"></table><div class=\"bigchart-data\"><pre style=\"display:none\">bigcharts-data-start/{\"deferRender\":true,\"data\":[[\"2022-02-23 15:00:00\",\"INFO\",\"order[15:00:00][id:695966,600053.SHA -18900@MARKET]\"],[\"2022-02-22 15:00:00\",\"INFO\",\"order[09:30:00][id:ecf891,600053.SHA 18900@MARKET]\"],[\"2022-02-14 15:00:00\",\"INFO\",\"order[15:00:00][id:78c3ea,000999.SZA -8800@MARKET]\"],[\"2022-02-11 15:00:00\",\"INFO\",\"order[09:30:00][id:5167df,000999.SZA 8800@MARKET]\"],[\"2022-01-28 15:00:00\",\"INFO\",\"order[15:00:00][id:3d66bf,002516.SZA -46200@MARKET]\"],[\"2022-01-27 15:00:00\",\"INFO\",\"order[09:30:00][id:281f19,002516.SZA 46200@MARKET]\"],[\"2022-01-26 15:00:00\",\"INFO\",\"order[15:00:00][id:118a8a,000798.SZA -42800@MARKET]\"],[\"2022-01-25 15:00:00\",\"INFO\",\"order[09:30:00][id:6a9ff0,000798.SZA 42800@MARKET]\"],[\"2022-01-21 15:00:00\",\"INFO\",\"order[15:00:00][id:e3aa2f,002813.SZA -13100@MARKET]\"],[\"2022-01-20 15:00:00\",\"INFO\",\"order[09:30:00][id:75cfda,002813.SZA 13100@MARKET]\"],[\"2021-12-27 15:00:00\",\"INFO\",\"order[15:00:00][id:65d051,002623.SZA -8200@MARKET]\"],[\"2021-12-24 15:00:00\",\"INFO\",\"order[09:30:00][id:814848,002623.SZA 8200@MARKET]\"],[\"2021-12-07 15:00:00\",\"INFO\",\"order[15:00:00][id:1c546c,603178.SHA -15300@MARKET]\"],[\"2021-12-06 15:00:00\",\"INFO\",\"order[09:30:00][id:cba847,603178.SHA 15300@MARKET]\"],[\"2021-10-28 15:00:00\",\"INFO\",\"order[15:00:00][id:4fbdff,605089.SHA -3500@MARKET]\"],[\"2021-10-27 15:00:00\",\"INFO\",\"order[09:30:00][id:127fa8,605089.SHA 3500@MARKET]\"],[\"2021-10-13 15:00:00\",\"INFO\",\"order[15:00:00][id:f0cbc9,002961.SZA -9800@MARKET]\"],[\"2021-10-12 15:00:00\",\"INFO\",\"order[09:30:00][id:c46fa4,002961.SZA 9800@MARKET]\"],[\"2021-09-30 15:00:00\",\"INFO\",\"order[15:00:00][id:007d62,603619.SHA -1700@MARKET]\"],[\"2021-09-29 09:30:00\",\"ERROR\",\"002136.SZA\\u5c3e\\u76d8\\u8dcc\\u505c\\uff0c\\u4e0d\\u80fd\\u5356\\u51fa\"],[\"2021-09-29 15:00:00\",\"INFO\",\"order[15:00:00][id:e0ee40,002136.SZA -10400@MARKET]\"],[\"2021-09-29 15:00:00\",\"INFO\",\"order[09:30:00][id:06f48e,603619.SHA 1700@MARKET]\"],[\"2021-09-28 15:00:00\",\"INFO\",\"order[15:00:00][id:a496db,002136.SZA -10400@MARKET]\"],[\"2021-09-27 15:00:00\",\"INFO\",\"order[09:30:00][id:059ec2,002136.SZA 10400@MARKET]\"],[\"2021-08-18 15:00:00\",\"INFO\",\"order[15:00:00][id:0d434d,600293.SHA -55500@MARKET]\"],[\"2021-08-17 15:00:00\",\"INFO\",\"order[09:30:00][id:76a8c8,600293.SHA 55500@MARKET]\"],[\"2021-03-10 15:00:00\",\"INFO\",\"order[15:00:00][id:c809ec,603353.SHA -6000@MARKET]\"],[\"2021-03-09 15:00:00\",\"INFO\",\"order[09:30:00][id:c0f331,603353.SHA 6000@MARKET]\"],[\"2020-07-27 15:00:00\",\"INFO\",\"order[15:00:00][id:e331dd,603538.SHA -5300@MARKET]\"],[\"2020-07-24 15:00:00\",\"INFO\",\"order[09:30:00][id:551460,603538.SHA 5300@MARKET]\"],[\"2020-07-17 15:00:00\",\"INFO\",\"order[15:00:00][id:dc928b,002989.SZA -4500@MARKET]\"],[\"2020-07-16 15:00:00\",\"INFO\",\"order[09:30:00][id:1ca85a,002989.SZA 4500@MARKET]\"],[\"2020-03-02 15:00:00\",\"INFO\",\"order[15:00:00][id:a2aed5,600083.SHA -16200@MARKET]\"],[\"2020-02-28 15:00:00\",\"INFO\",\"order[09:30:00][id:3db9c1,600083.SHA 16200@MARKET]\"],[\"2020-02-04 15:00:00\",\"INFO\",\"order[15:00:00][id:0fd348,603268.SHA -13400@MARKET]\"],[\"2020-02-03 15:00:00\",\"INFO\",\"order[09:30:00][id:994261,603268.SHA 13400@MARKET]\"]],\"columns\":[{\"title\":\"\\u65f6\\u95f4\",\"orderable\":false},{\"title\":\"\\u7ea7\\u522b\",\"orderable\":false},{\"title\":\"\\u5185\\u5bb9\",\"orderable\":false}],\"searching\":false,\"info\":false,\"pageLength\":20,\"lengthChange\":false,\"order\":[],\"__type\":\"datatable\",\"__id\":\"bigchart-a88b33c836e34989aa9a1414225ee9cd\",\"language\":{\"sProcessing\":\"\\u5904\\u7406\\u4e2d...\",\"sLengthMenu\":\"\\u663e\\u793a _MENU_ \\u9879\\u7ed3\\u679c\",\"sZeroRecords\":\"\\u6ca1\\u6709\\u5339\\u914d\\u7ed3\\u679c\",\"sInfo\":\"\\u663e\\u793a\\u7b2c _START_ \\u81f3 _END_ \\u9879\\u7ed3\\u679c\\uff0c\\u5171 _TOTAL_ \\u9879\",\"sInfoEmpty\":\"\\u663e\\u793a\\u7b2c 0 \\u81f3 0 \\u9879\\u7ed3\\u679c\\uff0c\\u5171 0 \\u9879\",\"sInfoFiltered\":\"(\\u7531 _MAX_ \\u9879\\u7ed3\\u679c\\u8fc7\\u6ee4)\",\"sInfoPostFix\":\"\",\"sSearch\":\"\\u641c\\u7d22:\",\"sUrl\":\"\",\"sEmptyTable\":\"\\u8868\\u4e2d\\u6570\\u636e\\u4e3a\\u7a7a\",\"sLoadingRecords\":\"\\u8f7d\\u5165\\u4e2d...\",\"sInfoThousands\":\",\",\"oPaginate\":{\"sFirst\":\"\\u9996\\u9875\",\"sPrevious\":\"\\u4e0a\\u9875\",\"sNext\":\"\\u4e0b\\u9875\",\"sLast\":\"\\u672b\\u9875\"}},\"hasWholeData\":true}/bigcharts-data-end</pre></div></div></div></div><div class='bigchart-data'><pre style='display:none'>bigcharts-data-start/{\"__type\":\"tabs\",\"__id\":\"bigchart-f568f220ca7848628162b6b0982c1263\"}/bigcharts-data-end</pre></div>"
      ],
      "text/plain": [
       "<IPython.core.display.HTML object>"
      ]
     },
     "metadata": {},
     "output_type": "display_data"
    },
    {
     "data": {
      "text/plain": [
       "[2022-03-01 13:14:29.551897] INFO: moduleinvoker: backtest.v8 运行完成[39.054719s]."
      ]
     },
     "metadata": {
      "is_log": true,
      "status": "INFO"
     },
     "output_type": "display_data"
    },
    {
     "data": {
      "text/plain": [
       "[2022-03-01 13:14:29.554157] INFO: moduleinvoker: trade.v4 运行完成[41.150615s]."
      ]
     },
     "metadata": {
      "is_log": true,
      "status": "INFO"
     },
     "output_type": "display_data"
    }
   ],
   "source": [
    "# 本代码由可视化策略环境自动生成 2022年4月15日 13:13\n",
    "# 本代码单元只能在可视化模式下编辑。您也可以拷贝代码，粘贴到新建的代码单元或者策略，然后修改。\n",
    "\n",
    "\n",
    "# 回测引擎：初始化函数，只执行一次\n",
    "def m8_initialize_bigquant_run(context):\n",
    "\n",
    "    # 系统已经设置了默认的交易手续费和滑点，要修改手续费可使用如下函数\n",
    "    context.set_commission(PerOrder(buy_cost=0.0003, sell_cost=0.0013, min_cost=5))\n",
    "    \n",
    "    # 设置买入的股票数量，这里买入预测股票列表排名靠前的5只\n",
    "    context.stock_count = 1\n",
    "    # 每只的股票的权重，如下的权重分配会使得靠前的股票分配多一点的资金，[0.339160, 0.213986, 0.169580, ..]\n",
    "    #context.stock_weights = T.norm([1 / math.log(i + 2) for i in range(0, stock_count)])\n",
    "    # 每只股票的权重平均分配\n",
    "    context.stock_weights = 1/context.stock_count\n",
    "    # 设置每只股票占用的最大资金比例\n",
    "    context.max_cash_per_instrument = 1\n",
    "    context.options['hold_days'] = 0\n",
    "\n",
    "\n",
    "# 回测引擎：每日数据处理函数，每天执行一次\n",
    "def m8_handle_data_bigquant_run(context, data):\n",
    "    today = data.current_dt.strftime('%Y-%m-%d')\n",
    "    equities = {e.symbol: p for e, p in context.portfolio.positions.items() if p.amount>0}\n",
    "    stock_now = len(equities); #获取当前持仓股票数量\n",
    "    stock_count = context.stock_count\n",
    "    \n",
    "    # 按日期过滤得到今日的预测数据\n",
    "    # 加载预测数据\n",
    "    df = context.options['data'].read_df()\n",
    "    df_today = df[df.date == data.current_dt.strftime('%Y-%m-%d')]\n",
    "    df_today.set_index('instrument')\n",
    "    \n",
    "    \n",
    "\n",
    "    #------------------------------------------止损模块START--------------------------------------------\n",
    "    \n",
    "    # 新建当日止损股票列表是为了handle_data 策略逻辑部分不再对该股票进行判断\n",
    "    stoploss_stock = []\n",
    "    stopwin_stock = []\n",
    "    now_stock = []\n",
    "    if len(equities) > 0:\n",
    "        for i in equities.keys():\n",
    "            now_stock.append(i)\n",
    "            try :\n",
    "                amount_zfs=list(df_today[df_today.instrument==i]['amount_zf'])\n",
    "                amount_zf=amount_zfs[0]\n",
    "                amount_bls=list(df_today[df_today.instrument==i]['amount_bl'])\n",
    "                amount_bl=amount_bls[0]\n",
    "                mc1s=list(df_today[df_today.instrument==i]['mc1'])\n",
    "                mc1=mc1s[0]\n",
    "                mc3s=list(df_today[df_today.instrument==i]['mc3'])\n",
    "                mc3=mc3s[0]\n",
    "                mc4s=list(df_today[df_today.instrument==i]['mc4'])\n",
    "                mc4=mc4s[0]\n",
    "                gzxzs=list(df_today[df_today.instrument==i]['gzxz'])\n",
    "                gzxz=gzxzs[0]\n",
    "                hasMdins=list(df_today[df_today.instrument==i]['hasMdin'])\n",
    "                hasMdin=hasMdins[0]\n",
    "                d2s=list(df_today[df_today.instrument==i]['d2'])\n",
    "                d2=d2s[0]\n",
    "            except :\n",
    "                amount_bl=0\n",
    "                amount_zf=0\n",
    "                mc1=0\n",
    "                gzxz=0\n",
    "                mc3=0\n",
    "                mc4=0\n",
    "                hasMdin=0\n",
    "                d2=0\n",
    "            stock_market_price = data.current(context.symbol(i), 'price')  # 最新市场价格\n",
    "            stock_market_today_high = data.current(context.symbol(i), 'high') #今日最高价      \n",
    "            stock_market_today_close = data.current(context.symbol(i), 'close') #今日收盘价\n",
    "            last_sale_date = equities[i].last_sale_date   # 上次交易日期\n",
    "            last_cost_price = equities[i].cost_basis # 上次交易金额\n",
    "            delta_days = data.current_dt - last_sale_date  \n",
    "            hold_days = delta_days.days # 持仓天数\n",
    "            # 建仓以来的最高价\n",
    "            highest_price_since_buy = data.history(context.symbol(i), 'high', hold_days, '1d').max()\n",
    "            # 建仓以来的收盘价的最高价\n",
    "            highclose_price_since_buy = data.history(context.symbol(i), 'close', hold_days, '1d').max()\n",
    "            # 确定止损位置\n",
    "            stoploss_line = highest_price_since_buy - highest_price_since_buy * 0.05\n",
    "            \n",
    "            # 确定止盈位置\n",
    "            stopwin_line = last_cost_price * 1.1\n",
    "            # 最高收益\n",
    "            high_return = (highclose_price_since_buy-last_cost_price)/last_cost_price\n",
    "            # 今日回落（最高价-收盘价）/收盘价\n",
    "            hui_luo = (stock_market_today_high - stock_market_price)/stock_market_price\n",
    "            if(i=='603909.SHA'):\n",
    "                print('日期:',today,'high_return:',high_return)   \n",
    "            #record('止损位置', stoploss_line)\n",
    "            # 如果价格下穿止损位置\n",
    "            if stock_market_price < stoploss_line:\n",
    "                if(i=='002735.SZA'):\n",
    "                    print('日期:',today,'最高价:',highest_price_since_buy)\n",
    "                    print('日期:',today,'止损价:',stoploss_line)\n",
    "                    print('日期:',today,'当前价:',stock_market_price)\n",
    "                    print('日期:',today,'建仓价:',last_cost_price)\n",
    "                #context.order_target_percent(context.symbol(i), 0)\n",
    "                context.order_target(context.symbol(i), 0)\n",
    "                stoploss_stock.append(i)\n",
    "                stock_now = stock_now -1\n",
    "            #收益达6个点后，冲高回落时卖出\n",
    "            elif high_return>0.06 and hui_luo>0.04 and amount_zf<1.5 and amount_bl<2:\n",
    "                context.order_target(context.symbol(i), 0)\n",
    "                stoploss_stock.append(i)\n",
    "                stock_now = stock_now -1\n",
    "                print('日期：', today, '股票：', context.symbol(i), 'huiluo:',hui_luo,'high_return:',high_return)\n",
    "                print('日期：', today, '股票：', i, '出现冲高回落止损状况')\n",
    "            #当天涨幅或相对前一天涨幅大于5个点，且成交量下降时卖出\n",
    "            elif mc1==1 :\n",
    "                context.order_target(context.symbol(i), 0)\n",
    "                stoploss_stock.append(i)\n",
    "                stock_now = stock_now -1\n",
    "                print('日期：', today, '股票：', i, '大涨且成交量下降时卖出')\n",
    "            #大涨后，出现高幅振汤且小涨卖出\n",
    "            elif high_return>0.06 and gzxz==1 :\n",
    "                context.order_target(context.symbol(i), 0)\n",
    "                stoploss_stock.append(i)\n",
    "                stock_now = stock_now -1\n",
    "                print('日期：', today, '股票：', i, '大涨后出现高振小涨卖出')\n",
    "            #大涨后，出现下跌时卖出\n",
    "            elif mc3==1 and high_return>0.08:\n",
    "                context.order_target(context.symbol(i), 0)\n",
    "                stoploss_stock.append(i)\n",
    "                stock_now = stock_now -1\n",
    "                print('日期：', today, '股票：', i, '大涨后小跌时卖出')\n",
    "            #高振幅小涨时卖出\n",
    "            elif mc4==1:\n",
    "                context.order_target(context.symbol(i), 0)\n",
    "                stoploss_stock.append(i)\n",
    "                stock_now = stock_now -1\n",
    "                print('日期：', today, '股票：', i, '高振幅小涨时卖出')\n",
    "            elif hasMdin==1:   \n",
    "                #获取M顶的最大值\n",
    "                if(i=='002633.SZA'):\n",
    "                    mDinValue = data.history(context.symbol(i), 'close',29-int(d2), '1d')[0]\n",
    "                    #M顶出现后的最高值\n",
    "                    mDinLaterMax = data.history(context.symbol(i), 'close',29-int(d2), '1d').max()\n",
    "                    print('日期：', today, '股票：', i, 'M顶值为：',mDinValue,'M顶后的最大值：',mDinLaterMax)\n",
    "                    \n",
    "            #elif stock_market_price > stopwin_line:\n",
    "            #    context.order_target(context.symbol(i), 0)\n",
    "            #    stopwin_stock.append(i)\n",
    "            #    stock_now = stock_now -1\n",
    "    if len(stoploss_stock)>0:\n",
    "        print('日期：', today, '股票：', stoploss_stock, '出现跟踪止损状况')\n",
    "    #if len(stopwin_stock)>0:\n",
    "    #    print('日期：', today, '股票：', stopwin_stock, '出现跟踪止盈状况')\n",
    "    \n",
    "    #-------------------------------------------止损模块END---------------------------------------------   \n",
    "    \n",
    "    try:\n",
    "        buy_list = context.daily_buy_stock[today]\n",
    "    except:\n",
    "        buy_list = []\n",
    "\n",
    "    \n",
    "    # 1. 资金分配\n",
    "    #is_staging = context.trading_day_index < context.options['hold_days'] # 是否在建仓期间（前 hold_days 天） \n",
    "    stock_cash = context.portfolio.portfolio_value/stock_count\n",
    "    #cash_avg = context.portfolio.portfolio_value\n",
    "    #cash_for_buy = min(context.portfolio.cash,  stock_cash)\n",
    "    #cash_for_sell = cash_avg - (context.portfolio.cash - cash_for_buy)\n",
    "    \n",
    "    positions = {e.symbol: p.amount * p.last_sale_price\n",
    "                 for e, p in context.perf_tracker.position_tracker.positions.items()}\n",
    "    \n",
    "    # 2. 生成卖出订单：hold_days天之后才开始卖出；\n",
    "    try:\n",
    "        sell_stock_list = context.daily_sell_stock[today]  # 当日符合卖出条件的股票\n",
    "    except:\n",
    "        sell_stock_list = []\n",
    "    # 需要卖出的股票:已有持仓中符合卖出条件的股票\n",
    "    stock_to_sell = [i for i in positions if i in sell_stock_list]\n",
    "    #print('日期：', today, '股票：', stock_to_sell, '需要卖出的股票')\n",
    "    sell_stock = []\n",
    "    \n",
    "     # 卖出\n",
    "    for instrument in stock_to_sell:\n",
    "        # 如果该股票停牌，则没法成交。因此需要用can_trade方法检查下该股票的状态\n",
    "        # 如果返回真值，则可以正常下单，否则会出错\n",
    "        # 因为stock是字符串格式，我们用symbol方法将其转化成平台可以接受的形式：Equity格式\n",
    "        if data.can_trade(context.symbol(instrument)):\n",
    "            # order_target_percent是平台的一个下单接口，表明下单使得该股票的权重为0，即卖出全部股票，可参考回测文档\n",
    "            context.order_target(context.symbol(instrument), 0)\n",
    "            sell_stock.append(instrument)\n",
    "            stock_now = stock_now -1\n",
    "            if(instrument=='002735.SZA'):\n",
    "                    print('日期:',today,'卖出1:',instrument)\n",
    "            \n",
    "    #if not is_staging :\n",
    "    if 1==1 :    \n",
    "        if len(equities) > 0:\n",
    "            for i in equities.keys():\n",
    "                last_sale_date = equities[i].last_sale_date\t# 上次交易日期\n",
    "                delta_days = data.current_dt - last_sale_date  \n",
    "                hold_days = delta_days.days # 持仓天数\n",
    "                print('日期:',today,'hold_days:',hold_days,'股票:',i)\n",
    "                if hold_days >= context.options['hold_days'] and i not in buy_list + stoploss_stock + stopwin_stock + sell_stock:\n",
    "                    print('日期:',today,'卖出2:',i)\n",
    "                    context.order_target(context.symbol(i), 0)\n",
    "                    sell_stock.append(i)\n",
    "                    stock_now = stock_now -1\n",
    "                    if(i=='002735.SZA'):\n",
    "                        print('日期:',today,'卖出2:',i)\n",
    "                    #print('日期：', today, '股票：', i, ' 卖出')\n",
    "                 \n",
    "# 3. 生成买入订单\n",
    "    buy_num = stock_count - stock_now\n",
    "    #if is_staging :\n",
    "    #    buy_num = 1\n",
    "    if len(buy_list)>0:\n",
    "        print('日期：', today, '选出股票数量：', len(buy_list))\n",
    "    if buy_num>0 and len(buy_list)>0 :\n",
    "        # 不再买入已经轮仓卖出和移动止损的股票,以防止出现空头持仓\n",
    "        buy_instruments = [i for i in buy_list if i not in sell_stock + stoploss_stock + stopwin_stock + now_stock][:buy_num]\n",
    "        for i, instrument in enumerate(buy_instruments):\n",
    "            current_price = data.current(context.symbol(instrument), 'price')\n",
    "            #过滤不买入的\n",
    "            try :\n",
    "                hasMdins=list(df_today[df_today.instrument==instrument]['hasMdin'])\n",
    "                hasMdin=hasMdins[0]\n",
    "                d2s=list(df_today[df_today.instrument==instrument]['d2'])\n",
    "                d2=d2s[0]\n",
    "                zs_a1=list(df_today[df_today.instrument==instrument]['zs_a1'])[0]\n",
    "                zs_a2=list(df_today[df_today.instrument==instrument]['zs_a2'])[0]\n",
    "                zs_bmy1=list(df_today[df_today.instrument==instrument]['zs_bmy1'])[0]            \n",
    "            except :\n",
    "                hasMdin=0\n",
    "                d2=0\n",
    "                zs_bmy1=0\n",
    "              #  bmy4=0\n",
    "            if hasMdin==1: #需要优化M顶的逻辑\n",
    "                mDinValue = data.history(context.symbol(instrument), 'close',29-int(d2), '1d')[0]\n",
    "                #M顶出现后的最高值\n",
    "                mDinLaterMax = data.history(context.symbol(instrument), 'close',29-int(d2), '1d').max()\n",
    "                mDinLaterMin = data.history(context.symbol(instrument), 'close',29-int(d2), '1d').min()\n",
    "                #当出现了M顶，且M顶未被突破，当前的价格低于M顶，且当前价格接近M顶的位置，不买入\n",
    "                if mDinLaterMax/mDinValue<1.03 and current_price<mDinValue and mDinValue/current_price<1.04 and mDinValue/mDinLaterMin>1.07:\n",
    "                    print('日期:',today,'买入时过滤有顶部压力的股票:',instrument)\n",
    "                    continue\n",
    "            if zs_bmy1==3:\n",
    "                    print('日期:',today,'买入时过滤指数不买入股票:',instrument,'指数a1:',zs_a1,'指数a2:',zs_a2)\n",
    "                    #continue\n",
    "            cash_for_buy = min(context.portfolio.cash,  stock_cash)\n",
    "            if cash_for_buy>0 and data.can_trade(context.symbol(instrument)):           \n",
    "                amount = math.floor(cash_for_buy / current_price / 100) * 100\n",
    "                context.order(context.symbol(instrument), amount)\n",
    "                #if(instrument=='002735.SZA'):\n",
    "                print('日期:',today,'买入:',instrument)\n",
    "            else :\n",
    "                print('日期:',today,'无资金或不能交易未买入:',instrument)\n",
    "# 回测引擎：准备数据，只执行一次\n",
    "def m8_prepare_bigquant_run(context):\n",
    "    # 加载预测数据\n",
    "    df = context.options['data'].read_df()\n",
    "    # 函数：求满足开仓条件的股票列表\n",
    "    def open_pos_con(df):\n",
    "        return list(df[df['buy_condition']>0].instrument)\n",
    "    # 函数：求满足平仓条件的股票列表\n",
    "    def close_pos_con(df):\n",
    "        return list(df[df['sell_condition']>0].instrument)\n",
    "    \n",
    "    # 每日卖出股票的数据框\n",
    "    context.daily_sell_stock= df.groupby('date').apply(close_pos_con)  \n",
    "    # 每日买入股票的数据框\n",
    "    context.daily_buy_stock= df.groupby('date').apply(open_pos_con)  \n",
    "\n",
    "\n",
    "    \n",
    "\n",
    "# 回测引擎：每个单位时间开始前调用一次，即每日开盘前调用一次。\n",
    "def m8_before_trading_start_bigquant_run(context, data):\n",
    "    pass\n",
    "\n",
    "\n",
    "m1 = M.instruments.v2(\n",
    "    start_date='2019-01-01',\n",
    "    end_date=T.live_run_param('trading_date', '2022-05-01'),\n",
    "    market='CN_STOCK_A',\n",
    "    instrument_list='        ',\n",
    "    max_count=0\n",
    ")\n",
    "\n",
    "m2 = M.input_features.v1(\n",
    "    features=\"\"\"isXiaDie0=where((return_0<1),1,0)\n",
    "#当天A股下跌数\n",
    "xd_num=group_sum(date, isXiaDie0)\n",
    "isZhangtToday=where((return_0>1.09)&(close_0==high_0),1,0)\n",
    "isDietToday=where((return_0<0.91)&(close_0==low_0),1,0)\n",
    "return0=return_0\n",
    "priceLowBl10=close_0/ts_min(close_0,10)\n",
    "zgzzf=high_0/close_1\n",
    "zdzzf=low_0/close_1\n",
    "kp1=(open_0-close_1)/close_1\n",
    "kp=shift((open_0-close_1)/close_1,-1)\n",
    "zd=shift((low_0-close_1)/close_1,-1)\n",
    "zg=shift((high_0-close_1)/close_1,-1)\n",
    "\n",
    "#逻辑一：大盘大跌情况下的涨停票后续效果\n",
    "#myls=where((xd_num>3500)&(isZhangtToday==1),1,0)\n",
    "#逻辑二：大盘大跌情况下的跌停票后续效果\n",
    "#myls=where((xd_num>3500)&(isDietToday==1),1,0)\n",
    "#逻辑三：大盘大跌情况下的跌停票后续效果，精选个股\n",
    "myls=where((xd_num>3500)&(isDietToday==1)&(priceLowBl10<1.05)&(kp1>-0.05),1,0)\n",
    "\n",
    "shouyi=(shift(open_0,-2)-shift(open_0,-1))/shift(open_0,-1)\n",
    "shouyi2=(shift(close_0,-2)-shift(open_0,-1))/shift(open_0,-1)\n",
    "\n",
    "kp=where((kp<-0.096),1,kp)\n",
    "#zhangf=(close_0-open_0)/open_0\n",
    "\n",
    "#附合这个选股逻辑，第二天开盘执行买入\n",
    "buy_condition=where(myls==1,1,0)\n",
    "#卖出不做特别处理，按三天收盘执行卖出\n",
    "sell_condition=where(myls==2,1,0)\"\"\"\n",
    ")\n",
    "\n",
    "m5 = M.general_feature_extractor.v7(\n",
    "    instruments=m1.data,\n",
    "    features=m2.data,\n",
    "    start_date='',\n",
    "    end_date='',\n",
    "    before_start_days=0,\n",
    "    m_cached=False\n",
    ")\n",
    "\n",
    "m10 = M.instruments.v2(\n",
    "    start_date='2021-01-02',\n",
    "    end_date='2022-05-01',\n",
    "    market='CN_STOCK_A',\n",
    "    instrument_list='000002.HIX',\n",
    "    max_count=0\n",
    ")\n",
    "\n",
    "m12 = M.input_features.v1(\n",
    "    features=\"\"\"\n",
    "# #号开始的表示注释，注释需单独一行\n",
    "# 多个特征，每行一个，可以包含基础特征和衍生特征，特征须为本平台特征\n",
    "zs_zhangf=(close-open)/open\n",
    "zs_open=open/shift(close,1)\n",
    "zs_huiluo=(high-close)/close\n",
    "zs_huishen=(close-low)/low\n",
    "zs_zhenf=(high-low)/shift(close,1)\n",
    "zs_volume_zf=volume/shift(volume,1)\n",
    "zs_return_0=close/shift(close,1)\n",
    "zs_return_1=shift(zs_return_0,1)\n",
    "zs_return_2=shift(zs_return_0,2)\n",
    "zs_max10=ts_max(close,10)\n",
    "zs_max10d=ts_argmax(close,10)\n",
    "zs_max30=ts_max(close,30)\n",
    "#zs_max30d=ts_argmax(close,30)\n",
    "zs_min10=ts_min(close,10)\n",
    "#zs_min10d=ts_argmin(close,10)\n",
    "zs_min30=ts_min(close,30)\n",
    "#zs_min30d=ts_argmin(close,30)\n",
    "zs_priceHighBl10=close/zs_max10\n",
    "zs_priceLowBl10=close/zs_min10\n",
    "zs_priceHighBl30=close/zs_max30\n",
    "zs_priceLowBl30=close/zs_min30\"\"\"\n",
    ")\n",
    "\n",
    "m4 = M.use_datasource.v1(\n",
    "    instruments=m10.data,\n",
    "    features=m12.data,\n",
    "    datasource_id='bar1d_index_CN_STOCK_A',\n",
    "    start_date='',\n",
    "    end_date=''\n",
    ")\n",
    "\n",
    "m13 = M.derived_feature_extractor.v3(\n",
    "    input_data=m4.data,\n",
    "    features=m12.data,\n",
    "    date_col='date',\n",
    "    instrument_col='instrument',\n",
    "    drop_na=False,\n",
    "    remove_extra_columns=True,\n",
    "    user_functions={}\n",
    ")\n",
    "\n",
    "m18 = M.instruments.v2(\n",
    "    start_date='2021-01-02',\n",
    "    end_date='2022-05-01',\n",
    "    market='CN_STOCK_A',\n",
    "    instrument_list='000002.HIX',\n",
    "    max_count=0\n",
    ")\n",
    "\n",
    "m19 = M.input_features.v1(\n",
    "    features=\"\"\"\n",
    "# #号开始的表示注释，注释需单独一行\n",
    "# 多个特征，每行一个，可以包含基础特征和衍生特征，特征须为本平台特征\n",
    "close\n",
    "\"\"\"\n",
    ")\n",
    "\n",
    "m17 = M.use_datasource.v1(\n",
    "    instruments=m18.data,\n",
    "    features=m19.data,\n",
    "    datasource_id='bar1d_index_CN_STOCK_A',\n",
    "    start_date='',\n",
    "    end_date=''\n",
    ")\n",
    "\n",
    "m20 = M.data_join.v3(\n",
    "    input_1=m13.data,\n",
    "    input_2=m17.data,\n",
    "    on='date',\n",
    "    how='left',\n",
    "    sort=False\n",
    ")\n",
    "\n",
    "m14 = M.data_join.v3(\n",
    "    input_1=m5.data,\n",
    "    input_2=m20.data,\n",
    "    on='date',\n",
    "    how='left',\n",
    "    sort=False\n",
    ")\n",
    "\n",
    "m7 = M.derived_feature_extractor.v3(\n",
    "    input_data=m14.data,\n",
    "    features=m2.data,\n",
    "    date_col='date',\n",
    "    instrument_col='instrument',\n",
    "    drop_na=False,\n",
    "    remove_extra_columns=True,\n",
    "    user_functions={}\n",
    ")\n",
    "\n",
    "m6 = M.chinaa_stock_filter.v1(\n",
    "    input_data=m7.data,\n",
    "    index_constituent_cond=['全部'],\n",
    "    board_cond=['上证主板', '深证主板'],\n",
    "    industry_cond=['全部'],\n",
    "    st_cond=['正常'],\n",
    "    delist_cond=['非退市'],\n",
    "    output_left_data=False\n",
    ")\n",
    "\n",
    "m11 = M.dropnan.v2(\n",
    "    input_data=m6.data\n",
    ")\n",
    "\n",
    "m9 = M.sort.v4(\n",
    "    input_ds=m11.data,\n",
    "    sort_by='kp',\n",
    "    group_by='date',\n",
    "    keep_columns='--',\n",
    "    ascending=True\n",
    ")\n",
    "\n",
    "m3 = M.filter.v3(\n",
    "    input_data=m9.sorted_data,\n",
    "    expr='myls==1',\n",
    "    output_left_data=False\n",
    ")\n",
    "\n",
    "m8 = M.trade.v4(\n",
    "    instruments=m1.data,\n",
    "    options_data=m3.data,\n",
    "    start_date='',\n",
    "    end_date='',\n",
    "    initialize=m8_initialize_bigquant_run,\n",
    "    handle_data=m8_handle_data_bigquant_run,\n",
    "    prepare=m8_prepare_bigquant_run,\n",
    "    before_trading_start=m8_before_trading_start_bigquant_run,\n",
    "    volume_limit=0.025,\n",
    "    order_price_field_buy='open',\n",
    "    order_price_field_sell='close',\n",
    "    capital_base=200000,\n",
    "    auto_cancel_non_tradable_orders=True,\n",
    "    data_frequency='daily',\n",
    "    price_type='真实价格',\n",
    "    product_type='股票',\n",
    "    plot_charts=True,\n",
    "    backtest_only=False,\n",
    "    benchmark=''\n",
    ")\n"
   ]
  },
  {
   "cell_type": "code",
   "execution_count": null,
   "metadata": {},
   "outputs": [],
   "source": []
  }
 ],
 "metadata": {
  "kernelspec": {
   "display_name": "Python 3",
   "language": "python",
   "name": "python3"
  },
  "language_info": {
   "codemirror_mode": {
    "name": "ipython",
    "version": 3
   },
   "file_extension": ".py",
   "mimetype": "text/x-python",
   "name": "python",
   "nbconvert_exporter": "python",
   "pygments_lexer": "ipython3",
   "version": "3.8.7"
  }
 },
 "nbformat": 4,
 "nbformat_minor": 4
}
