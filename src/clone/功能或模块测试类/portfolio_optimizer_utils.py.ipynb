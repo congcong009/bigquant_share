{
 "cells": [
  {
   "cell_type": "code",
   "execution_count": null,
   "metadata": {
    "custom_module": "true"
   },
   "outputs": [],
   "source": [
    "# 自定义Python模块\n",
    "# 函数bigquant_run、bigquant_postrun命名不可修改\n",
    "# 测试“自定义Python模块”时，如果依赖输入，点击按钮“在上方插入代码单元”，构建数据。\n",
    "\n",
    "# Python 代码入口函数，input_1/2/3 对应三个输入端，data_1/2/3 对应三个输出端\n",
    "def bigquant_run(input_1):\n",
    "    # 示例代码如下。在这里编写您的代码\n",
    "    print(input_1)\n",
    "    df = pd.DataFrame({'data': [1, 2, 3]})\n",
    "    data_1 = DataSource.write_df(df)\n",
    "    return Outputs(data_1=data_1, data_2=None, data_3=None)\n",
    "\n",
    "# 后处理函数，可选。输入是主函数的输出，可以在这里对数据做处理，或者返回更友好的outputs数据格式。此函数输出不会被缓存。\n",
    "def bigquant_postrun(outputs):\n",
    "    return outputs\n",
    "\n",
    "# 按约定配置参数\n",
    "m1 = M.cached.v3(\n",
    "    run=bigquant_run,\n",
    "    post_run=bigquant_postrun,\n",
    "\n",
    "    # 模块输入端:'input_1, input_2, input_3'    \n",
    "    input_ports='input_1',\n",
    "    # input_1=input_1_data, # input_1_data是“在上方插入代码单元”的数据，为了测试运行自定义模块\n",
    "\n",
    "    # 模块参数:\n",
    "#     \"\"\"\n",
    "#     {\n",
    "#         'param_1': 0,\n",
    "#         'param_2': 0.1,\n",
    "#         'param_3': False,\n",
    "#         'param_4': 'foo',\n",
    "#         'param_5': [\n",
    "#             'foo',\n",
    "#             'bar'\n",
    "#         ]\n",
    "#     }\n",
    "#     \"\"\"\n",
    "    params='',\n",
    "\n",
    "    # 模块输出端:'data_1, data_2, data_3'\n",
    "    output_ports='data_1',\n",
    ")\n"
   ]
  }
 ],
 "metadata": {
  "is_mlstudio": "false",
  "kernelspec": {
   "display_name": "Python 3",
   "language": "python",
   "name": "python3"
  },
  "language_info": {
   "codemirror_mode": {
    "name": "ipython",
    "version": 3
   },
   "file_extension": ".py",
   "mimetype": "text/x-python",
   "name": "python",
   "nbconvert_exporter": "python",
   "pygments_lexer": "ipython3",
   "version": "3.8.7"
  }
 },
 "nbformat": 4,
 "nbformat_minor": 4
}
