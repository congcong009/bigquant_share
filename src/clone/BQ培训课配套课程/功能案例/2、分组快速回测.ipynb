{
 "cells": [
  {
   "cell_type": "code",
   "execution_count": 1,
   "metadata": {
    "machine_learning_studio": "true",
    "ml_studio_json": "{\"description\":\"实验创建于2017/8/26\",\"graph\":{\"edges\":[{\"to_node_id\":\"287d2cb0-f53c-4101-bdf8-104b137c8601-15:instruments\",\"from_node_id\":\"287d2cb0-f53c-4101-bdf8-104b137c8601-8:data\"},{\"to_node_id\":\"-215:instruments\",\"from_node_id\":\"287d2cb0-f53c-4101-bdf8-104b137c8601-8:data\"},{\"to_node_id\":\"287d2cb0-f53c-4101-bdf8-104b137c8601-53:data1\",\"from_node_id\":\"287d2cb0-f53c-4101-bdf8-104b137c8601-15:data\"},{\"to_node_id\":\"-215:features\",\"from_node_id\":\"287d2cb0-f53c-4101-bdf8-104b137c8601-24:data\"},{\"to_node_id\":\"-222:features\",\"from_node_id\":\"287d2cb0-f53c-4101-bdf8-104b137c8601-24:data\"},{\"to_node_id\":\"-231:features\",\"from_node_id\":\"287d2cb0-f53c-4101-bdf8-104b137c8601-24:data\"},{\"to_node_id\":\"-238:features\",\"from_node_id\":\"287d2cb0-f53c-4101-bdf8-104b137c8601-24:data\"},{\"to_node_id\":\"-693:features\",\"from_node_id\":\"287d2cb0-f53c-4101-bdf8-104b137c8601-24:data\"},{\"to_node_id\":\"287d2cb0-f53c-4101-bdf8-104b137c8601-84:input_data\",\"from_node_id\":\"287d2cb0-f53c-4101-bdf8-104b137c8601-53:data\"},{\"to_node_id\":\"-706:input_1\",\"from_node_id\":\"287d2cb0-f53c-4101-bdf8-104b137c8601-60:predictions\"},{\"to_node_id\":\"-231:instruments\",\"from_node_id\":\"287d2cb0-f53c-4101-bdf8-104b137c8601-62:data\"},{\"to_node_id\":\"-706:input_2\",\"from_node_id\":\"287d2cb0-f53c-4101-bdf8-104b137c8601-62:data\"},{\"to_node_id\":\"-693:training_ds\",\"from_node_id\":\"287d2cb0-f53c-4101-bdf8-104b137c8601-84:data\"},{\"to_node_id\":\"287d2cb0-f53c-4101-bdf8-104b137c8601-60:data\",\"from_node_id\":\"-86:data\"},{\"to_node_id\":\"-222:input_data\",\"from_node_id\":\"-215:data\"},{\"to_node_id\":\"287d2cb0-f53c-4101-bdf8-104b137c8601-53:data2\",\"from_node_id\":\"-222:data\"},{\"to_node_id\":\"-238:input_data\",\"from_node_id\":\"-231:data\"},{\"to_node_id\":\"-86:input_data\",\"from_node_id\":\"-238:data\"},{\"to_node_id\":\"287d2cb0-f53c-4101-bdf8-104b137c8601-60:model\",\"from_node_id\":\"-693:model\"}],\"nodes\":[{\"node_id\":\"287d2cb0-f53c-4101-bdf8-104b137c8601-8\",\"module_id\":\"BigQuantSpace.instruments.instruments-v2\",\"parameters\":[{\"name\":\"start_date\",\"value\":\"2010-01-01\",\"type\":\"Literal\",\"bound_global_parameter\":null},{\"name\":\"end_date\",\"value\":\"2015-01-01\",\"type\":\"Literal\",\"bound_global_parameter\":null},{\"name\":\"market\",\"value\":\"CN_STOCK_A\",\"type\":\"Literal\",\"bound_global_parameter\":null},{\"name\":\"instrument_list\",\"value\":\"\",\"type\":\"Literal\",\"bound_global_parameter\":null},{\"name\":\"max_count\",\"value\":\"0\",\"type\":\"Literal\",\"bound_global_parameter\":null}],\"input_ports\":[{\"name\":\"rolling_conf\",\"node_id\":\"287d2cb0-f53c-4101-bdf8-104b137c8601-8\"}],\"output_ports\":[{\"name\":\"data\",\"node_id\":\"287d2cb0-f53c-4101-bdf8-104b137c8601-8\"}],\"cacheable\":true,\"seq_num\":1,\"comment\":\"\",\"comment_collapsed\":true},{\"node_id\":\"287d2cb0-f53c-4101-bdf8-104b137c8601-15\",\"module_id\":\"BigQuantSpace.advanced_auto_labeler.advanced_auto_labeler-v2\",\"parameters\":[{\"name\":\"label_expr\",\"value\":\"# #号开始的表示注释\\n# 0. 每行一个，顺序执行，从第二个开始，可以使用label字段\\n# 1. 可用数据字段见 https://bigquant.com/docs/develop/datasource/deprecated/history_data.html\\n#   添加benchmark_前缀，可使用对应的benchmark数据\\n# 2. 可用操作符和函数见 `表达式引擎 <https://bigquant.com/docs/develop/bigexpr/usage.html>`_\\n\\n# 计算收益：5日收盘价(作为卖出价格)除以明日开盘价(作为买入价格)\\nshift(close, -5) / shift(open, -1)\\n\\n# 极值处理：用1%和99%分位的值做clip\\nclip(label, all_quantile(label, 0.01), all_quantile(label, 0.99))\\n\\n# 将分数映射到分类，这里使用20个分类\\nall_wbins(label, 20)\\n\\n# 过滤掉一字涨停的情况 (设置label为NaN，在后续处理和训练中会忽略NaN的label)\\nwhere(shift(high, -1) == shift(low, -1), NaN, label)\\n\",\"type\":\"Literal\",\"bound_global_parameter\":null},{\"name\":\"start_date\",\"value\":\"\",\"type\":\"Literal\",\"bound_global_parameter\":null},{\"name\":\"end_date\",\"value\":\"\",\"type\":\"Literal\",\"bound_global_parameter\":null},{\"name\":\"benchmark\",\"value\":\"000300.SHA\",\"type\":\"Literal\",\"bound_global_parameter\":null},{\"name\":\"drop_na_label\",\"value\":\"True\",\"type\":\"Literal\",\"bound_global_parameter\":null},{\"name\":\"cast_label_int\",\"value\":\"True\",\"type\":\"Literal\",\"bound_global_parameter\":null},{\"name\":\"user_functions\",\"value\":\"\",\"type\":\"Literal\",\"bound_global_parameter\":null}],\"input_ports\":[{\"name\":\"instruments\",\"node_id\":\"287d2cb0-f53c-4101-bdf8-104b137c8601-15\"}],\"output_ports\":[{\"name\":\"data\",\"node_id\":\"287d2cb0-f53c-4101-bdf8-104b137c8601-15\"}],\"cacheable\":true,\"seq_num\":2,\"comment\":\"\",\"comment_collapsed\":true},{\"node_id\":\"287d2cb0-f53c-4101-bdf8-104b137c8601-24\",\"module_id\":\"BigQuantSpace.input_features.input_features-v1\",\"parameters\":[{\"name\":\"features\",\"value\":\"# #号开始的表示注释\\n# 多个特征，每行一个，可以包含基础特征和衍生特征\\nreturn_5\\nreturn_10\\nreturn_20\\navg_amount_0/avg_amount_5\\navg_amount_5/avg_amount_20\\nrank_avg_amount_0/rank_avg_amount_5\\nrank_avg_amount_5/rank_avg_amount_10\\nrank_return_0\\nrank_return_5\\nrank_return_10\\nrank_return_0/rank_return_5\\nrank_return_5/rank_return_10\\npe_ttm_0\\n\",\"type\":\"Literal\",\"bound_global_parameter\":null}],\"input_ports\":[{\"name\":\"features_ds\",\"node_id\":\"287d2cb0-f53c-4101-bdf8-104b137c8601-24\"}],\"output_ports\":[{\"name\":\"data\",\"node_id\":\"287d2cb0-f53c-4101-bdf8-104b137c8601-24\"}],\"cacheable\":true,\"seq_num\":3,\"comment\":\"\",\"comment_collapsed\":true},{\"node_id\":\"287d2cb0-f53c-4101-bdf8-104b137c8601-53\",\"module_id\":\"BigQuantSpace.join.join-v3\",\"parameters\":[{\"name\":\"on\",\"value\":\"date,instrument\",\"type\":\"Literal\",\"bound_global_parameter\":null},{\"name\":\"how\",\"value\":\"inner\",\"type\":\"Literal\",\"bound_global_parameter\":null},{\"name\":\"sort\",\"value\":\"False\",\"type\":\"Literal\",\"bound_global_parameter\":null}],\"input_ports\":[{\"name\":\"data1\",\"node_id\":\"287d2cb0-f53c-4101-bdf8-104b137c8601-53\"},{\"name\":\"data2\",\"node_id\":\"287d2cb0-f53c-4101-bdf8-104b137c8601-53\"}],\"output_ports\":[{\"name\":\"data\",\"node_id\":\"287d2cb0-f53c-4101-bdf8-104b137c8601-53\"}],\"cacheable\":true,\"seq_num\":7,\"comment\":\"\",\"comment_collapsed\":true},{\"node_id\":\"287d2cb0-f53c-4101-bdf8-104b137c8601-60\",\"module_id\":\"BigQuantSpace.stock_ranker_predict.stock_ranker_predict-v5\",\"parameters\":[{\"name\":\"m_lazy_run\",\"value\":\"False\",\"type\":\"Literal\",\"bound_global_parameter\":null}],\"input_ports\":[{\"name\":\"model\",\"node_id\":\"287d2cb0-f53c-4101-bdf8-104b137c8601-60\"},{\"name\":\"data\",\"node_id\":\"287d2cb0-f53c-4101-bdf8-104b137c8601-60\"}],\"output_ports\":[{\"name\":\"predictions\",\"node_id\":\"287d2cb0-f53c-4101-bdf8-104b137c8601-60\"},{\"name\":\"m_lazy_run\",\"node_id\":\"287d2cb0-f53c-4101-bdf8-104b137c8601-60\"}],\"cacheable\":true,\"seq_num\":8,\"comment\":\"\",\"comment_collapsed\":true},{\"node_id\":\"287d2cb0-f53c-4101-bdf8-104b137c8601-62\",\"module_id\":\"BigQuantSpace.instruments.instruments-v2\",\"parameters\":[{\"name\":\"start_date\",\"value\":\"2015-01-01\",\"type\":\"Literal\",\"bound_global_parameter\":\"交易日期\"},{\"name\":\"end_date\",\"value\":\"2017-01-01\",\"type\":\"Literal\",\"bound_global_parameter\":\"交易日期\"},{\"name\":\"market\",\"value\":\"CN_STOCK_A\",\"type\":\"Literal\",\"bound_global_parameter\":null},{\"name\":\"instrument_list\",\"value\":\"\",\"type\":\"Literal\",\"bound_global_parameter\":null},{\"name\":\"max_count\",\"value\":\"0\",\"type\":\"Literal\",\"bound_global_parameter\":null}],\"input_ports\":[{\"name\":\"rolling_conf\",\"node_id\":\"287d2cb0-f53c-4101-bdf8-104b137c8601-62\"}],\"output_ports\":[{\"name\":\"data\",\"node_id\":\"287d2cb0-f53c-4101-bdf8-104b137c8601-62\"}],\"cacheable\":true,\"seq_num\":9,\"comment\":\"预测数据，用于回测和模拟\",\"comment_collapsed\":false},{\"node_id\":\"287d2cb0-f53c-4101-bdf8-104b137c8601-84\",\"module_id\":\"BigQuantSpace.dropnan.dropnan-v1\",\"parameters\":[],\"input_ports\":[{\"name\":\"input_data\",\"node_id\":\"287d2cb0-f53c-4101-bdf8-104b137c8601-84\"}],\"output_ports\":[{\"name\":\"data\",\"node_id\":\"287d2cb0-f53c-4101-bdf8-104b137c8601-84\"}],\"cacheable\":true,\"seq_num\":13,\"comment\":\"\",\"comment_collapsed\":true},{\"node_id\":\"-86\",\"module_id\":\"BigQuantSpace.dropnan.dropnan-v1\",\"parameters\":[],\"input_ports\":[{\"name\":\"input_data\",\"node_id\":\"-86\"}],\"output_ports\":[{\"name\":\"data\",\"node_id\":\"-86\"}],\"cacheable\":true,\"seq_num\":14,\"comment\":\"\",\"comment_collapsed\":true},{\"node_id\":\"-215\",\"module_id\":\"BigQuantSpace.general_feature_extractor.general_feature_extractor-v7\",\"parameters\":[{\"name\":\"start_date\",\"value\":\"\",\"type\":\"Literal\",\"bound_global_parameter\":null},{\"name\":\"end_date\",\"value\":\"\",\"type\":\"Literal\",\"bound_global_parameter\":null},{\"name\":\"before_start_days\",\"value\":0,\"type\":\"Literal\",\"bound_global_parameter\":null}],\"input_ports\":[{\"name\":\"instruments\",\"node_id\":\"-215\"},{\"name\":\"features\",\"node_id\":\"-215\"}],\"output_ports\":[{\"name\":\"data\",\"node_id\":\"-215\"}],\"cacheable\":true,\"seq_num\":15,\"comment\":\"\",\"comment_collapsed\":true},{\"node_id\":\"-222\",\"module_id\":\"BigQuantSpace.derived_feature_extractor.derived_feature_extractor-v3\",\"parameters\":[{\"name\":\"date_col\",\"value\":\"date\",\"type\":\"Literal\",\"bound_global_parameter\":null},{\"name\":\"instrument_col\",\"value\":\"instrument\",\"type\":\"Literal\",\"bound_global_parameter\":null},{\"name\":\"drop_na\",\"value\":\"False\",\"type\":\"Literal\",\"bound_global_parameter\":null},{\"name\":\"remove_extra_columns\",\"value\":\"False\",\"type\":\"Literal\",\"bound_global_parameter\":null},{\"name\":\"user_functions\",\"value\":\"\",\"type\":\"Literal\",\"bound_global_parameter\":null}],\"input_ports\":[{\"name\":\"input_data\",\"node_id\":\"-222\"},{\"name\":\"features\",\"node_id\":\"-222\"}],\"output_ports\":[{\"name\":\"data\",\"node_id\":\"-222\"}],\"cacheable\":true,\"seq_num\":16,\"comment\":\"\",\"comment_collapsed\":true},{\"node_id\":\"-231\",\"module_id\":\"BigQuantSpace.general_feature_extractor.general_feature_extractor-v7\",\"parameters\":[{\"name\":\"start_date\",\"value\":\"\",\"type\":\"Literal\",\"bound_global_parameter\":null},{\"name\":\"end_date\",\"value\":\"\",\"type\":\"Literal\",\"bound_global_parameter\":null},{\"name\":\"before_start_days\",\"value\":0,\"type\":\"Literal\",\"bound_global_parameter\":null}],\"input_ports\":[{\"name\":\"instruments\",\"node_id\":\"-231\"},{\"name\":\"features\",\"node_id\":\"-231\"}],\"output_ports\":[{\"name\":\"data\",\"node_id\":\"-231\"}],\"cacheable\":true,\"seq_num\":17,\"comment\":\"\",\"comment_collapsed\":true},{\"node_id\":\"-238\",\"module_id\":\"BigQuantSpace.derived_feature_extractor.derived_feature_extractor-v3\",\"parameters\":[{\"name\":\"date_col\",\"value\":\"date\",\"type\":\"Literal\",\"bound_global_parameter\":null},{\"name\":\"instrument_col\",\"value\":\"instrument\",\"type\":\"Literal\",\"bound_global_parameter\":null},{\"name\":\"drop_na\",\"value\":\"False\",\"type\":\"Literal\",\"bound_global_parameter\":null},{\"name\":\"remove_extra_columns\",\"value\":\"False\",\"type\":\"Literal\",\"bound_global_parameter\":null},{\"name\":\"user_functions\",\"value\":\"\",\"type\":\"Literal\",\"bound_global_parameter\":null}],\"input_ports\":[{\"name\":\"input_data\",\"node_id\":\"-238\"},{\"name\":\"features\",\"node_id\":\"-238\"}],\"output_ports\":[{\"name\":\"data\",\"node_id\":\"-238\"}],\"cacheable\":true,\"seq_num\":18,\"comment\":\"\",\"comment_collapsed\":true},{\"node_id\":\"-693\",\"module_id\":\"BigQuantSpace.stock_ranker_train.stock_ranker_train-v6\",\"parameters\":[{\"name\":\"learning_algorithm\",\"value\":\"排序\",\"type\":\"Literal\",\"bound_global_parameter\":null},{\"name\":\"number_of_leaves\",\"value\":30,\"type\":\"Literal\",\"bound_global_parameter\":null},{\"name\":\"minimum_docs_per_leaf\",\"value\":1000,\"type\":\"Literal\",\"bound_global_parameter\":null},{\"name\":\"number_of_trees\",\"value\":20,\"type\":\"Literal\",\"bound_global_parameter\":null},{\"name\":\"learning_rate\",\"value\":0.1,\"type\":\"Literal\",\"bound_global_parameter\":null},{\"name\":\"max_bins\",\"value\":1023,\"type\":\"Literal\",\"bound_global_parameter\":null},{\"name\":\"feature_fraction\",\"value\":1,\"type\":\"Literal\",\"bound_global_parameter\":null},{\"name\":\"data_row_fraction\",\"value\":1,\"type\":\"Literal\",\"bound_global_parameter\":null},{\"name\":\"plot_charts\",\"value\":\"True\",\"type\":\"Literal\",\"bound_global_parameter\":null},{\"name\":\"ndcg_discount_base\",\"value\":1,\"type\":\"Literal\",\"bound_global_parameter\":null},{\"name\":\"m_lazy_run\",\"value\":\"False\",\"type\":\"Literal\",\"bound_global_parameter\":null}],\"input_ports\":[{\"name\":\"training_ds\",\"node_id\":\"-693\"},{\"name\":\"features\",\"node_id\":\"-693\"},{\"name\":\"test_ds\",\"node_id\":\"-693\"},{\"name\":\"base_model\",\"node_id\":\"-693\"}],\"output_ports\":[{\"name\":\"model\",\"node_id\":\"-693\"},{\"name\":\"feature_gains\",\"node_id\":\"-693\"},{\"name\":\"m_lazy_run\",\"node_id\":\"-693\"}],\"cacheable\":true,\"seq_num\":4,\"comment\":\"\",\"comment_collapsed\":true},{\"node_id\":\"-706\",\"module_id\":\"BigQuantSpace.factor_group__fast_backtest.factor_group__fast_backtest-v1\",\"parameters\":[{\"name\":\"rabalance_period\",\"value\":\"21\",\"type\":\"Literal\",\"bound_global_parameter\":null},{\"name\":\"long_port_is_big_factor\",\"value\":\"True\",\"type\":\"Literal\",\"bound_global_parameter\":null},{\"name\":\"buy_commission_rate\",\"value\":0.0003,\"type\":\"Literal\",\"bound_global_parameter\":null},{\"name\":\"stamp_tax\",\"value\":0.001,\"type\":\"Literal\",\"bound_global_parameter\":null},{\"name\":\"sell_commission_rate\",\"value\":0.0003,\"type\":\"Literal\",\"bound_global_parameter\":null},{\"name\":\"rename_factor\",\"value\":\"score\",\"type\":\"Literal\",\"bound_global_parameter\":null}],\"input_ports\":[{\"name\":\"input_1\",\"node_id\":\"-706\"},{\"name\":\"input_2\",\"node_id\":\"-706\"}],\"output_ports\":[],\"cacheable\":true,\"seq_num\":5,\"comment\":\"\",\"comment_collapsed\":true}],\"node_layout\":\"<node_postions><node_position Node='287d2cb0-f53c-4101-bdf8-104b137c8601-8' Position='211,64,200,200'/><node_position Node='287d2cb0-f53c-4101-bdf8-104b137c8601-15' Position='70,183,200,200'/><node_position Node='287d2cb0-f53c-4101-bdf8-104b137c8601-24' Position='765,21,200,200'/><node_position Node='287d2cb0-f53c-4101-bdf8-104b137c8601-53' Position='249,375,200,200'/><node_position Node='287d2cb0-f53c-4101-bdf8-104b137c8601-60' Position='703,665,200,200'/><node_position Node='287d2cb0-f53c-4101-bdf8-104b137c8601-62' Position='1090,107,200,200'/><node_position Node='287d2cb0-f53c-4101-bdf8-104b137c8601-84' Position='376,467,200,200'/><node_position Node='-86' Position='1078,418,200,200'/><node_position Node='-215' Position='381,188,200,200'/><node_position Node='-222' Position='385,280,200,200'/><node_position Node='-231' Position='1078,236,200,200'/><node_position Node='-238' Position='1081,327,200,200'/><node_position Node='-693' Position='479,563,200,200'/><node_position Node='-706' Position='832.9201049804688,765.19970703125,200,200'/></node_postions>\"},\"nodes_readonly\":false,\"studio_version\":\"v2\"}"
   },
   "outputs": [
    {
     "data": {
      "text/plain": [
       "[2020-03-25 18:29:11.697868] INFO: bigquant: instruments.v2 开始运行.."
      ]
     },
     "metadata": {
      "is_log": true,
      "status": "INFO"
     },
     "output_type": "display_data"
    },
    {
     "data": {
      "text/plain": [
       "[2020-03-25 18:29:12.458542] INFO: bigquant: 命中缓存"
      ]
     },
     "metadata": {
      "is_log": true,
      "status": "INFO"
     },
     "output_type": "display_data"
    },
    {
     "data": {
      "text/plain": [
       "[2020-03-25 18:29:12.460318] INFO: bigquant: instruments.v2 运行完成[0.762456s]."
      ]
     },
     "metadata": {
      "is_log": true,
      "status": "INFO"
     },
     "output_type": "display_data"
    },
    {
     "data": {
      "text/plain": [
       "[2020-03-25 18:29:12.467605] INFO: bigquant: advanced_auto_labeler.v2 开始运行.."
      ]
     },
     "metadata": {
      "is_log": true,
      "status": "INFO"
     },
     "output_type": "display_data"
    },
    {
     "data": {
      "text/plain": [
       "[2020-03-25 18:29:12.489074] INFO: bigquant: 命中缓存"
      ]
     },
     "metadata": {
      "is_log": true,
      "status": "INFO"
     },
     "output_type": "display_data"
    },
    {
     "data": {
      "text/plain": [
       "[2020-03-25 18:29:12.491020] INFO: bigquant: advanced_auto_labeler.v2 运行完成[0.023423s]."
      ]
     },
     "metadata": {
      "is_log": true,
      "status": "INFO"
     },
     "output_type": "display_data"
    },
    {
     "data": {
      "text/plain": [
       "[2020-03-25 18:29:12.494622] INFO: bigquant: input_features.v1 开始运行.."
      ]
     },
     "metadata": {
      "is_log": true,
      "status": "INFO"
     },
     "output_type": "display_data"
    },
    {
     "data": {
      "text/plain": [
       "[2020-03-25 18:29:12.515644] INFO: bigquant: 命中缓存"
      ]
     },
     "metadata": {
      "is_log": true,
      "status": "INFO"
     },
     "output_type": "display_data"
    },
    {
     "data": {
      "text/plain": [
       "[2020-03-25 18:29:12.517457] INFO: bigquant: input_features.v1 运行完成[0.022828s]."
      ]
     },
     "metadata": {
      "is_log": true,
      "status": "INFO"
     },
     "output_type": "display_data"
    },
    {
     "data": {
      "text/plain": [
       "[2020-03-25 18:29:12.668176] INFO: bigquant: general_feature_extractor.v7 开始运行.."
      ]
     },
     "metadata": {
      "is_log": true,
      "status": "INFO"
     },
     "output_type": "display_data"
    },
    {
     "data": {
      "text/plain": [
       "[2020-03-25 18:29:12.689650] INFO: bigquant: 命中缓存"
      ]
     },
     "metadata": {
      "is_log": true,
      "status": "INFO"
     },
     "output_type": "display_data"
    },
    {
     "data": {
      "text/plain": [
       "[2020-03-25 18:29:12.691601] INFO: bigquant: general_feature_extractor.v7 运行完成[0.023408s]."
      ]
     },
     "metadata": {
      "is_log": true,
      "status": "INFO"
     },
     "output_type": "display_data"
    },
    {
     "data": {
      "text/plain": [
       "[2020-03-25 18:29:12.696119] INFO: bigquant: derived_feature_extractor.v3 开始运行.."
      ]
     },
     "metadata": {
      "is_log": true,
      "status": "INFO"
     },
     "output_type": "display_data"
    },
    {
     "data": {
      "text/plain": [
       "[2020-03-25 18:29:12.717460] INFO: bigquant: 命中缓存"
      ]
     },
     "metadata": {
      "is_log": true,
      "status": "INFO"
     },
     "output_type": "display_data"
    },
    {
     "data": {
      "text/plain": [
       "[2020-03-25 18:29:12.719160] INFO: bigquant: derived_feature_extractor.v3 运行完成[0.023033s]."
      ]
     },
     "metadata": {
      "is_log": true,
      "status": "INFO"
     },
     "output_type": "display_data"
    },
    {
     "data": {
      "text/plain": [
       "[2020-03-25 18:29:12.722039] INFO: bigquant: join.v3 开始运行.."
      ]
     },
     "metadata": {
      "is_log": true,
      "status": "INFO"
     },
     "output_type": "display_data"
    },
    {
     "data": {
      "text/plain": [
       "[2020-03-25 18:29:12.911463] INFO: bigquant: 命中缓存"
      ]
     },
     "metadata": {
      "is_log": true,
      "status": "INFO"
     },
     "output_type": "display_data"
    },
    {
     "data": {
      "text/plain": [
       "[2020-03-25 18:29:12.913415] INFO: bigquant: join.v3 运行完成[0.191354s]."
      ]
     },
     "metadata": {
      "is_log": true,
      "status": "INFO"
     },
     "output_type": "display_data"
    },
    {
     "data": {
      "text/plain": [
       "[2020-03-25 18:29:12.936936] INFO: bigquant: dropnan.v1 开始运行.."
      ]
     },
     "metadata": {
      "is_log": true,
      "status": "INFO"
     },
     "output_type": "display_data"
    },
    {
     "data": {
      "text/plain": [
       "[2020-03-25 18:29:12.958400] INFO: bigquant: 命中缓存"
      ]
     },
     "metadata": {
      "is_log": true,
      "status": "INFO"
     },
     "output_type": "display_data"
    },
    {
     "data": {
      "text/plain": [
       "[2020-03-25 18:29:12.960337] INFO: bigquant: dropnan.v1 运行完成[0.023367s]."
      ]
     },
     "metadata": {
      "is_log": true,
      "status": "INFO"
     },
     "output_type": "display_data"
    },
    {
     "data": {
      "text/plain": [
       "[2020-03-25 18:29:12.970627] INFO: bigquant: stock_ranker_train.v6 开始运行.."
      ]
     },
     "metadata": {
      "is_log": true,
      "status": "INFO"
     },
     "output_type": "display_data"
    },
    {
     "data": {
      "text/plain": [
       "[2020-03-25 18:29:13.229681] INFO: bigquant: 命中缓存"
      ]
     },
     "metadata": {
      "is_log": true,
      "status": "INFO"
     },
     "output_type": "display_data"
    },
    {
     "data": {
      "text/html": [
       "<div id='bigchart-a6a5536ce185499b8ad009dfa9dd0aa0' class='bigchart display' style='display:none'><ul class='nav nav-tabs' style='padding-left: 0;'><li class='tabtitle' style='margin: 0;'><span style='margin: 0;font-size: 1.2em;display: inline-block;padding: 10px 10px;'>StockRanker</span></li><li class='active'><a>特征重要性</a></li><li><a>模型</a></li><li><a>NDCG</a></li></ul><div class='tab-content' style='min-height: 100px;text-align: center;'><div class='tab-pane active' id='特征重要性'><div id=\"bigchart-c2a3df77e00c49a481b40a7342b3a2b3\" class=\"bigchart\"></div><div class=\"bigchart-data\"><pre style=\"display:none\">bigcharts-data-start/{\"chart\":{\"height\":400,\"type\":\"column\",\"renderTo\":\"bigchart-c2a3df77e00c49a481b40a7342b3a2b3\"},\"legend\":{\"enabled\":true},\"title\":{\"text\":\"\\u7279\\u5f81\\u91cd\\u8981\\u6027\"},\"stock\":false,\"series\":[{\"name\":\"\\u7279\\u5f81\\u91cd\\u8981\\u6027\",\"yAxis\":0,\"data\":[[\"rank_avg_amount_5\\/rank_avg_amount_10\",650.0526],[\"rank_return_5\",417.1644],[\"rank_return_0\",283.3318],[\"return_20\",165.3231],[\"rank_avg_amount_0\\/rank_avg_amount_5\",148.0715],[\"rank_return_10\",99.2575],[\"rank_return_0\\/rank_return_5\",65.2453],[\"rank_return_5\\/rank_return_10\",65.1305],[\"pe_ttm_0\",39.8848],[\"return_10\",27.1068],[\"avg_amount_5\\/avg_amount_20\",19.9068],[\"avg_amount_0\\/avg_amount_5\",16.8924],[\"return_5\",10.942]]}],\"xAxis\":{\"title\":{\"text\":\"\\u7279\\u5f81\"},\"categories\":[\"rank_avg_amount_5\\/rank_avg_amount_10\",\"rank_return_5\",\"rank_return_0\",\"return_20\",\"rank_avg_amount_0\\/rank_avg_amount_5\",\"rank_return_10\",\"rank_return_0\\/rank_return_5\",\"rank_return_5\\/rank_return_10\",\"pe_ttm_0\",\"return_10\",\"avg_amount_5\\/avg_amount_20\",\"avg_amount_0\\/avg_amount_5\",\"return_5\"]}}/bigcharts-data-end</pre></div></div><div class='tab-pane' id='模型'><div id=\"bigchart-d21ef5b3c31e43d9b6975ac0bdb4d8e9\" class=\"bigchart\"></div><div class=\"bigchart-data\"><pre style=\"display:none\">bigcharts-data-start/{\"name\":\"sum()\",\"tips\":\"sum()\",\"type\":\"agg\",\"c\":[{\"c\":[{\"c\":[{\"c\":[{\"c\":[{\"c\":[{\"c\":[{\"v\":\"-0.199\"},{\"v\":\"-0.038\"}],\"f\":5,\"v\":5.5},{\"c\":[{\"c\":[{\"v\":\"0.1054\"},{\"c\":[{\"v\":\"0.0625\"},{\"v\":\"-0.027\"}],\"f\":6,\"v\":822.5}],\"f\":7,\"v\":236.5},{\"v\":\"0.1337\"}],\"f\":7,\"v\":723.5}],\"f\":5,\"v\":65.5},{\"c\":[{\"v\":\"-0.054\"},{\"v\":\"0.0177\"}],\"f\":4,\"v\":776.5}],\"f\":2,\"v\":859.5},{\"c\":[{\"c\":[{\"v\":\"-0.053\"},{\"v\":\"-0.131\"}],\"f\":8,\"v\":803.5},{\"v\":\"0.0025\"}],\"f\":7,\"v\":741.5}],\"f\":1,\"v\":794.5},{\"c\":[{\"c\":[{\"v\":\"-0.081\"},{\"v\":\"-0.172\"}],\"f\":2,\"v\":826.5},{\"c\":[{\"v\":\"-0.177\"},{\"c\":[{\"v\":\"-0.254\"},{\"v\":\"-0.336\"}],\"f\":3,\"v\":1013.5}],\"f\":2,\"v\":824.5}],\"f\":3,\"v\":996.5}],\"f\":3,\"v\":945.5},{\"c\":[{\"c\":[{\"c\":[{\"v\":\"-0.066\"},{\"c\":[{\"c\":[{\"v\":\"-0.134\"},{\"v\":\"-0.192\"}],\"f\":8,\"v\":820.5},{\"v\":\"-0.220\"}],\"f\":6,\"v\":989.5}],\"f\":4,\"v\":411.5},{\"c\":[{\"c\":[{\"v\":\"-0.244\"},{\"v\":\"-0.319\"}],\"f\":2,\"v\":984.5},{\"c\":[{\"v\":\"-0.307\"},{\"v\":\"-0.377\"}],\"f\":2,\"v\":835.5}],\"f\":3,\"v\":1016.5}],\"f\":3,\"v\":1002.5},{\"c\":[{\"v\":\"-0.429\"},{\"c\":[{\"c\":[{\"v\":\"-0.250\"},{\"v\":\"-0.312\"}],\"f\":1,\"v\":1010.5},{\"c\":[{\"v\":\"-0.345\"},{\"c\":[{\"v\":\"-0.403\"},{\"v\":\"-0.359\"}],\"f\":9,\"v\":873.5}],\"f\":6,\"v\":1015.5}],\"f\":3,\"v\":1006.5}],\"f\":4,\"v\":432.5}],\"f\":2,\"v\":1004.5}],\"f\":1,\"v\":925.5},{\"c\":[{\"c\":[{\"c\":[{\"v\":\"0.1312\"},{\"v\":\"0.1291\"}],\"f\":7,\"v\":236.5},{\"v\":\"0.1211\"}],\"f\":1,\"v\":789.5},{\"c\":[{\"c\":[{\"c\":[{\"v\":\"0.1536\"},{\"c\":[{\"c\":[{\"c\":[{\"c\":[{\"c\":[{\"v\":\"-0.210\"},{\"v\":\"-0.326\"}],\"f\":8,\"v\":651.5},{\"v\":\"-0.155\"}],\"f\":4,\"v\":804.5},{\"c\":[{\"v\":\"-0.168\"},{\"v\":\"-0.118\"}],\"f\":7,\"v\":898.5}],\"f\":2,\"v\":42.5},{\"c\":[{\"c\":[{\"c\":[{\"c\":[{\"c\":[{\"v\":\"-0.238\"},{\"v\":\"-0.112\"}],\"f\":7,\"v\":826.5},{\"v\":\"-0.284\"}],\"f\":11,\"v\":944.5},{\"c\":[{\"c\":[{\"v\":\"-0.082\"},{\"v\":\"-0.034\"}],\"f\":7,\"v\":838.5},{\"c\":[{\"c\":[{\"v\":\"-0.079\"},{\"v\":\"-0.145\"}],\"f\":3,\"v\":810.5},{\"v\":\"-0.149\"}],\"f\":5,\"v\":954.5}],\"f\":8,\"v\":589.5}],\"f\":1,\"v\":19.5},{\"c\":[{\"v\":\"-0.153\"},{\"v\":\"-0.081\"}],\"f\":7,\"v\":928.5}],\"f\":1,\"v\":688.5},{\"c\":[{\"c\":[{\"v\":\"-0.122\"},{\"v\":\"-0.186\"}],\"f\":10,\"v\":962.5},{\"v\":\"-0.226\"}],\"f\":1,\"v\":695.5}],\"f\":10,\"v\":899.5}],\"f\":2,\"v\":144.5},{\"c\":[{\"c\":[{\"c\":[{\"c\":[{\"v\":\"-0.188\"},{\"c\":[{\"v\":\"-0.203\"},{\"v\":\"-0.281\"}],\"f\":2,\"v\":635.5}],\"f\":8,\"v\":641.5},{\"v\":\"-0.291\"}],\"f\":6,\"v\":957.5},{\"v\":\"-0.123\"}],\"f\":7,\"v\":914.5},{\"v\":\"0.1109\"}],\"f\":3,\"v\":944.5}],\"f\":6,\"v\":797.5}],\"f\":5,\"v\":65.5},{\"v\":\"0.1973\"}],\"f\":2,\"v\":859.5},{\"v\":\"0.1494\"}],\"f\":1,\"v\":794.5}],\"f\":7,\"v\":723.5},{\"c\":[{\"c\":[{\"c\":[{\"c\":[{\"c\":[{\"c\":[{\"c\":[{\"c\":[{\"v\":\"-0.118\"},{\"v\":\"-0.038\"}],\"f\":5,\"v\":208.5},{\"v\":\"0.0075\"}],\"f\":11,\"v\":297.5},{\"v\":\"-0.093\"}],\"f\":6,\"v\":687.5},{\"c\":[{\"c\":[{\"c\":[{\"v\":\"-0.117\"},{\"c\":[{\"c\":[{\"v\":\"-0.089\"},{\"v\":\"-0.042\"}],\"f\":6,\"v\":152.5},{\"v\":\"-0.124\"}],\"f\":6,\"v\":731.5}],\"f\":5,\"v\":286.5},{\"v\":\"-0.024\"}],\"f\":4,\"v\":807.5},{\"c\":[{\"c\":[{\"c\":[{\"v\":\"-0.146\"},{\"c\":[{\"v\":\"-0.075\"},{\"v\":\"-0.134\"}],\"f\":10,\"v\":916.5}],\"f\":1,\"v\":53.5},{\"c\":[{\"c\":[{\"c\":[{\"v\":\"-0.154\"},{\"v\":\"-0.252\"}],\"f\":3,\"v\":905.5},{\"v\":\"0.1618\"}],\"f\":3,\"v\":945.5},{\"v\":\"0.1699\"}],\"f\":1,\"v\":789.5}],\"f\":6,\"v\":584.5},{\"v\":\"-0.047\"}],\"f\":11,\"v\":552.5}],\"f\":8,\"v\":579.5}],\"f\":7,\"v\":76.5},{\"v\":\"-0.160\"}],\"f\":10,\"v\":1000.5},{\"c\":[{\"c\":[{\"c\":[{\"v\":\"-0.168\"},{\"v\":\"-0.101\"}],\"f\":6,\"v\":196.5},{\"c\":[{\"v\":\"-0.123\"},{\"c\":[{\"c\":[{\"c\":[{\"c\":[{\"v\":\"-0.158\"},{\"v\":\"-0.262\"}],\"f\":1,\"v\":721.5},{\"v\":\"-0.251\"}],\"f\":5,\"v\":980.5},{\"v\":\"-0.264\"}],\"f\":6,\"v\":833.5},{\"v\":\"-0.133\"}],\"f\":3,\"v\":941.5}],\"f\":7,\"v\":87.5}],\"f\":8,\"v\":613.5},{\"v\":\"0.1752\"}],\"f\":1,\"v\":789.5}],\"f\":2,\"v\":735.5},{\"v\":\"0.1828\"}],\"f\":2,\"v\":859.5},{\"c\":[{\"v\":\"0.1409\"},{\"v\":\"0.1522\"}],\"f\":1,\"v\":693.5}],\"f\":7,\"v\":236.5},{\"c\":[{\"c\":[{\"v\":\"0.1095\"},{\"c\":[{\"v\":\"0.0757\"},{\"c\":[{\"v\":\"0.2189\"},{\"v\":\"0.0740\"}],\"f\":1,\"v\":789.5}],\"f\":4,\"v\":779.5}],\"f\":2,\"v\":859.5},{\"c\":[{\"c\":[{\"c\":[{\"c\":[{\"v\":\"0.0694\"},{\"c\":[{\"c\":[{\"v\":\"-0.015\"},{\"v\":\"0.0264\"}],\"f\":4,\"v\":701.5},{\"v\":\"-0.055\"}],\"f\":10,\"v\":897.5}],\"f\":3,\"v\":25.5},{\"c\":[{\"v\":\"0.0388\"},{\"c\":[{\"v\":\"0.1239\"},{\"c\":[{\"v\":\"0.1635\"},{\"v\":\"-0.070\"}],\"f\":7,\"v\":723.5}],\"f\":4,\"v\":783.5}],\"f\":2,\"v\":866.5}],\"f\":7,\"v\":584.5},{\"c\":[{\"c\":[{\"c\":[{\"c\":[{\"c\":[{\"v\":\"0.0523\"},{\"c\":[{\"c\":[{\"v\":\"-0.154\"},{\"v\":\"-0.121\"}],\"f\":13,\"v\":749.5},{\"v\":\"-0.007\"}],\"f\":3,\"v\":943.5}],\"f\":5,\"v\":65.5},{\"v\":\"0.0902\"}],\"f\":2,\"v\":859.5},{\"v\":\"0.0956\"}],\"f\":6,\"v\":822.5},{\"c\":[{\"v\":\"0.0931\"},{\"c\":[{\"v\":\"0.1521\"},{\"v\":\"-0.189\"}],\"f\":4,\"v\":776.5}],\"f\":2,\"v\":874.5}],\"f\":7,\"v\":723.5},{\"c\":[{\"c\":[{\"v\":\"-0.116\"},{\"v\":\"0.1170\"}],\"f\":7,\"v\":723.5},{\"c\":[{\"v\":\"0.1314\"},{\"c\":[{\"c\":[{\"v\":\"-0.214\"},{\"c\":[{\"c\":[{\"v\":\"-0.121\"},{\"v\":\"-0.186\"}],\"f\":12,\"v\":764.5},{\"v\":\"-0.176\"}],\"f\":2,\"v\":925.5}],\"f\":4,\"v\":907.5},{\"v\":\"-0.232\"}],\"f\":2,\"v\":987.5}],\"f\":7,\"v\":724.5}],\"f\":2,\"v\":859.5}],\"f\":4,\"v\":870.5}],\"f\":1,\"v\":693.5},{\"v\":\"0.0961\"}],\"f\":1,\"v\":794.5}],\"f\":7,\"v\":236.5},{\"c\":[{\"c\":[{\"c\":[{\"v\":\"0.0667\"},{\"c\":[{\"v\":\"0.0038\"},{\"v\":\"0.0756\"}],\"f\":7,\"v\":723.5}],\"f\":7,\"v\":235.5},{\"c\":[{\"v\":\"0.0368\"},{\"c\":[{\"c\":[{\"c\":[{\"v\":\"-0.139\"},{\"c\":[{\"v\":\"-0.031\"},{\"v\":\"-0.077\"}],\"f\":13,\"v\":519.5}],\"f\":2,\"v\":51.5},{\"v\":\"0.0480\"}],\"f\":3,\"v\":945.5},{\"v\":\"0.0096\"}],\"f\":1,\"v\":925.5}],\"f\":7,\"v\":741.5}],\"f\":1,\"v\":794.5},{\"c\":[{\"c\":[{\"v\":\"-0.023\"},{\"c\":[{\"c\":[{\"c\":[{\"c\":[{\"v\":\"-0.253\"},{\"c\":[{\"c\":[{\"c\":[{\"v\":\"-0.136\"},{\"v\":\"-0.203\"}],\"f\":9,\"v\":778.5},{\"c\":[{\"v\":\"-0.203\"},{\"v\":\"-0.265\"}],\"f\":3,\"v\":637.5}],\"f\":8,\"v\":681.5},{\"c\":[{\"c\":[{\"v\":\"-0.141\"},{\"v\":\"-0.090\"}],\"f\":10,\"v\":314.5},{\"c\":[{\"v\":\"-0.157\"},{\"v\":\"-0.199\"}],\"f\":12,\"v\":797.5}],\"f\":1,\"v\":548.5}],\"f\":4,\"v\":896.5}],\"f\":6,\"v\":127.5},{\"c\":[{\"v\":\"-0.259\"},{\"c\":[{\"v\":\"-0.178\"},{\"v\":\"-0.220\"}],\"f\":2,\"v\":975.5}],\"f\":4,\"v\":888.5}],\"f\":2,\"v\":956.5},{\"v\":\"0.0263\"}],\"f\":3,\"v\":945.5},{\"v\":\"-0.012\"}],\"f\":1,\"v\":789.5}],\"f\":4,\"v\":777.5},{\"c\":[{\"v\":\"0.0145\"},{\"c\":[{\"c\":[{\"c\":[{\"v\":\"-0.024\"},{\"v\":\"0.0673\"}],\"f\":4,\"v\":770.5},{\"c\":[{\"v\":\"-0.100\"},{\"v\":\"0.0516\"}],\"f\":3,\"v\":945.5}],\"f\":1,\"v\":794.5},{\"v\":\"-0.012\"}],\"f\":1,\"v\":925.5}],\"f\":7,\"v\":738.5}],\"f\":7,\"v\":236.5}],\"f\":2,\"v\":859.5},{\"c\":[{\"c\":[{\"c\":[{\"c\":[{\"c\":[{\"v\":\"0.0141\"},{\"v\":\"0.0388\"}],\"f\":3,\"v\":452.5},{\"v\":\"0.0029\"}],\"f\":13,\"v\":578.5},{\"c\":[{\"c\":[{\"c\":[{\"v\":\"0.0188\"},{\"c\":[{\"v\":\"-0.160\"},{\"c\":[{\"v\":\"0.0045\"},{\"v\":\"-0.052\"}],\"f\":5,\"v\":65.5}],\"f\":1,\"v\":4.5}],\"f\":3,\"v\":37.5},{\"v\":\"0.0386\"}],\"f\":7,\"v\":723.5},{\"v\":\"0.0020\"}],\"f\":6,\"v\":819.5}],\"f\":7,\"v\":584.5},{\"c\":[{\"v\":\"0.0469\"},{\"v\":\"-0.016\"}],\"f\":11,\"v\":973.5}],\"f\":7,\"v\":733.5},{\"c\":[{\"c\":[{\"c\":[{\"c\":[{\"v\":\"0.0388\"},{\"v\":\"0.0007\"}],\"f\":3,\"v\":9.5},{\"v\":\"-0.030\"}],\"f\":2,\"v\":844.5},{\"c\":[{\"c\":[{\"c\":[{\"v\":\"0.0530\"},{\"c\":[{\"c\":[{\"v\":\"-0.034\"},{\"c\":[{\"v\":\"-0.078\"},{\"v\":\"-0.055\"}],\"f\":12,\"v\":412.5}],\"f\":5,\"v\":64.5},{\"v\":\"0.0526\"}],\"f\":7,\"v\":723.5}],\"f\":3,\"v\":25.5},{\"c\":[{\"v\":\"0.0164\"},{\"c\":[{\"v\":\"-0.091\"},{\"v\":\"-0.155\"}],\"f\":10,\"v\":721.5}],\"f\":4,\"v\":787.5}],\"f\":2,\"v\":866.5},{\"c\":[{\"v\":\"-0.013\"},{\"c\":[{\"v\":\"-0.038\"},{\"v\":\"-0.082\"}],\"f\":4,\"v\":877.5}],\"f\":5,\"v\":631.5}],\"f\":1,\"v\":693.5}],\"f\":7,\"v\":584.5},{\"c\":[{\"v\":\"0.0385\"},{\"c\":[{\"c\":[{\"c\":[{\"v\":\"-0.108\"},{\"v\":\"-0.052\"}],\"f\":3,\"v\":427.5},{\"v\":\"-0.023\"}],\"f\":1,\"v\":794.5},{\"v\":\"-0.002\"}],\"f\":2,\"v\":121.5}],\"f\":1,\"v\":716.5}],\"f\":7,\"v\":733.5}],\"f\":10,\"v\":442.5},{\"c\":[{\"c\":[{\"c\":[{\"v\":\"-0.018\"},{\"c\":[{\"c\":[{\"v\":\"0.0768\"},{\"c\":[{\"v\":\"0.0907\"},{\"v\":\"0.0742\"}],\"f\":3,\"v\":6.5}],\"f\":7,\"v\":241.5},{\"v\":\"0.0831\"}],\"f\":7,\"v\":724.5}],\"f\":9,\"v\":83.5},{\"c\":[{\"v\":\"-0.035\"},{\"v\":\"0.0355\"}],\"f\":11,\"v\":62.5}],\"f\":1,\"v\":144.5},{\"c\":[{\"c\":[{\"c\":[{\"c\":[{\"c\":[{\"v\":\"-0.003\"},{\"c\":[{\"c\":[{\"v\":\"-0.019\"},{\"c\":[{\"v\":\"-0.085\"},{\"v\":\"-0.039\"}],\"f\":6,\"v\":337.5}],\"f\":3,\"v\":461.5},{\"v\":\"0.0132\"}],\"f\":13,\"v\":586.5}],\"f\":11,\"v\":302.5},{\"v\":\"0.0243\"}],\"f\":6,\"v\":680.5},{\"c\":[{\"c\":[{\"c\":[{\"v\":\"-0.007\"},{\"v\":\"0.0426\"}],\"f\":12,\"v\":540.5},{\"c\":[{\"c\":[{\"v\":\"0.0246\"},{\"v\":\"-0.020\"}],\"f\":5,\"v\":987.5},{\"v\":\"0.0721\"}],\"f\":1,\"v\":772.5}],\"f\":3,\"v\":403.5},{\"c\":[{\"v\":\"0.0107\"},{\"v\":\"-0.021\"}],\"f\":4,\"v\":300.5}],\"f\":13,\"v\":512.5}],\"f\":7,\"v\":77.5},{\"c\":[{\"v\":\"0.0038\"},{\"c\":[{\"v\":\"0.0455\"},{\"v\":\"0.0156\"}],\"f\":12,\"v\":676.5}],\"f\":3,\"v\":539.5}],\"f\":4,\"v\":766.5},{\"c\":[{\"v\":\"-0.022\"},{\"c\":[{\"c\":[{\"c\":[{\"v\":\"-0.024\"},{\"v\":\"-0.046\"}],\"f\":7,\"v\":780.5},{\"c\":[{\"v\":\"-0.003\"},{\"c\":[{\"v\":\"0.0092\"},{\"v\":\"0.0390\"}],\"f\":7,\"v\":791.5}],\"f\":3,\"v\":463.5}],\"f\":5,\"v\":63.5},{\"v\":\"-0.020\"}],\"f\":1,\"v\":788.5}],\"f\":11,\"v\":361.5}],\"f\":10,\"v\":429.5}],\"f\":3,\"v\":25.5},{\"c\":[{\"c\":[{\"c\":[{\"v\":\"0.0151\"},{\"c\":[{\"c\":[{\"v\":\"0.0526\"},{\"v\":\"0.1594\"}],\"f\":12,\"v\":1.5},{\"c\":[{\"c\":[{\"c\":[{\"v\":\"0.0861\"},{\"v\":\"0.0663\"}],\"f\":3,\"v\":10.5},{\"v\":\"0.0600\"}],\"f\":6,\"v\":36.5},{\"v\":\"0.0665\"}],\"f\":7,\"v\":723.5}],\"f\":3,\"v\":2.5}],\"f\":9,\"v\":153.5},{\"c\":[{\"c\":[{\"v\":\"0.0580\"},{\"v\":\"-0.058\"}],\"f\":10,\"v\":1018.5},{\"v\":\"0.0195\"}],\"f\":6,\"v\":204.5}],\"f\":1,\"v\":81.5},{\"c\":[{\"c\":[{\"c\":[{\"c\":[{\"c\":[{\"c\":[{\"v\":\"-0.008\"},{\"c\":[{\"v\":\"-0.002\"},{\"v\":\"0.0195\"}],\"f\":11,\"v\":400.5}],\"f\":8,\"v\":326.5},{\"v\":\"0.0416\"}],\"f\":1,\"v\":772.5},{\"v\":\"-0.020\"}],\"f\":13,\"v\":580.5},{\"c\":[{\"v\":\"-0.005\"},{\"c\":[{\"v\":\"0.0372\"},{\"v\":\"-0.012\"}],\"f\":11,\"v\":971.5}],\"f\":3,\"v\":282.5}],\"f\":7,\"v\":776.5},{\"c\":[{\"v\":\"0.0032\"},{\"c\":[{\"c\":[{\"c\":[{\"v\":\"0.0296\"},{\"c\":[{\"v\":\"0.0672\"},{\"c\":[{\"v\":\"-0.008\"},{\"v\":\"0.0810\"}],\"f\":7,\"v\":122.5}],\"f\":6,\"v\":520.5}],\"f\":3,\"v\":553.5},{\"v\":\"0.0248\"}],\"f\":9,\"v\":800.5},{\"c\":[{\"v\":\"0.0418\"},{\"v\":\"0.0075\"}],\"f\":6,\"v\":657.5}],\"f\":12,\"v\":676.5}],\"f\":3,\"v\":498.5}],\"f\":4,\"v\":766.5},{\"c\":[{\"c\":[{\"v\":\"-0.016\"},{\"c\":[{\"v\":\"-0.011\"},{\"v\":\"0.0216\"}],\"f\":3,\"v\":427.5}],\"f\":7,\"v\":758.5},{\"v\":\"-0.033\"}],\"f\":1,\"v\":789.5}],\"f\":10,\"v\":429.5}],\"f\":3,\"v\":23.5},{\"c\":[{\"c\":[{\"c\":[{\"c\":[{\"v\":\"0.0779\"},{\"v\":\"0.1484\"}],\"f\":12,\"v\":1.5},{\"c\":[{\"c\":[{\"c\":[{\"v\":\"0.0491\"},{\"v\":\"0.1234\"}],\"f\":8,\"v\":502.5},{\"v\":\"0.0665\"}],\"f\":6,\"v\":37.5},{\"v\":\"0.0636\"}],\"f\":7,\"v\":723.5}],\"f\":3,\"v\":2.5},{\"v\":\"0.0643\"}],\"f\":1,\"v\":85.5},{\"c\":[{\"c\":[{\"c\":[{\"c\":[{\"v\":\"0.0472\"},{\"c\":[{\"c\":[{\"c\":[{\"v\":\"-0.015\"},{\"v\":\"0.0223\"}],\"f\":3,\"v\":523.5},{\"c\":[{\"v\":\"0.0156\"},{\"v\":\"0.0529\"}],\"f\":1,\"v\":773.5}],\"f\":12,\"v\":488.5},{\"v\":\"-0.018\"}],\"f\":13,\"v\":519.5}],\"f\":3,\"v\":24.5},{\"c\":[{\"v\":\"-0.000\"},{\"c\":[{\"v\":\"0.0354\"},{\"v\":\"-0.015\"}],\"f\":11,\"v\":971.5}],\"f\":3,\"v\":337.5}],\"f\":7,\"v\":787.5},{\"c\":[{\"v\":\"0.0031\"},{\"c\":[{\"c\":[{\"c\":[{\"c\":[{\"c\":[{\"v\":\"0.0496\"},{\"v\":\"0.0290\"}],\"f\":6,\"v\":516.5},{\"v\":\"-0.015\"}],\"f\":8,\"v\":755.5},{\"c\":[{\"v\":\"0.0616\"},{\"c\":[{\"v\":\"0.0788\"},{\"v\":\"0.1283\"}],\"f\":5,\"v\":643.5}],\"f\":4,\"v\":911.5}],\"f\":7,\"v\":70.5},{\"v\":\"0.0281\"}],\"f\":9,\"v\":800.5},{\"c\":[{\"v\":\"0.0358\"},{\"v\":\"0.0042\"}],\"f\":6,\"v\":657.5}],\"f\":12,\"v\":676.5}],\"f\":3,\"v\":539.5}],\"f\":4,\"v\":766.5},{\"c\":[{\"c\":[{\"v\":\"0.0699\"},{\"v\":\"0.0213\"}],\"f\":1,\"v\":137.5},{\"c\":[{\"v\":\"-0.033\"},{\"v\":\"-0.012\"}],\"f\":11,\"v\":316.5}],\"f\":3,\"v\":25.5}],\"f\":10,\"v\":428.5}],\"f\":3,\"v\":9.5},{\"c\":[{\"c\":[{\"c\":[{\"c\":[{\"v\":\"0.0667\"},{\"v\":\"0.1345\"}],\"f\":12,\"v\":1.5},{\"c\":[{\"v\":\"0.0093\"},{\"c\":[{\"c\":[{\"v\":\"0.0648\"},{\"v\":\"0.1156\"}],\"f\":8,\"v\":519.5},{\"v\":\"0.0714\"}],\"f\":6,\"v\":37.5}],\"f\":9,\"v\":162.5}],\"f\":3,\"v\":2.5},{\"v\":\"0.0506\"}],\"f\":1,\"v\":85.5},{\"c\":[{\"c\":[{\"c\":[{\"c\":[{\"c\":[{\"c\":[{\"c\":[{\"v\":\"0.0376\"},{\"v\":\"-0.016\"}],\"f\":3,\"v\":46.5},{\"v\":\"0.0264\"}],\"f\":3,\"v\":568.5},{\"c\":[{\"v\":\"0.0161\"},{\"v\":\"0.0598\"}],\"f\":1,\"v\":773.5}],\"f\":12,\"v\":488.5},{\"v\":\"-0.016\"}],\"f\":13,\"v\":482.5},{\"c\":[{\"v\":\"-0.000\"},{\"c\":[{\"v\":\"0.0323\"},{\"v\":\"-0.017\"}],\"f\":11,\"v\":971.5}],\"f\":3,\"v\":337.5}],\"f\":7,\"v\":780.5},{\"c\":[{\"v\":\"0.0027\"},{\"c\":[{\"c\":[{\"c\":[{\"c\":[{\"v\":\"0.0348\"},{\"v\":\"0.0753\"}],\"f\":11,\"v\":439.5},{\"c\":[{\"v\":\"0.0658\"},{\"c\":[{\"v\":\"0.0800\"},{\"v\":\"0.1128\"}],\"f\":5,\"v\":643.5}],\"f\":7,\"v\":70.5}],\"f\":4,\"v\":911.5},{\"v\":\"0.0242\"}],\"f\":9,\"v\":800.5},{\"c\":[{\"v\":\"0.0326\"},{\"v\":\"0.0034\"}],\"f\":6,\"v\":657.5}],\"f\":12,\"v\":676.5}],\"f\":3,\"v\":539.5}],\"f\":4,\"v\":766.5},{\"c\":[{\"c\":[{\"v\":\"0.0568\"},{\"v\":\"0.0181\"}],\"f\":1,\"v\":137.5},{\"c\":[{\"c\":[{\"v\":\"-0.021\"},{\"v\":\"0.0067\"}],\"f\":7,\"v\":757.5},{\"v\":\"-0.035\"}],\"f\":1,\"v\":789.5}],\"f\":3,\"v\":25.5}],\"f\":10,\"v\":428.5}],\"f\":3,\"v\":12.5},{\"c\":[{\"c\":[{\"c\":[{\"c\":[{\"v\":\"0.0713\"},{\"v\":\"0.1300\"}],\"f\":12,\"v\":1.5},{\"c\":[{\"c\":[{\"v\":\"0.0349\"},{\"v\":\"0.0902\"}],\"f\":12,\"v\":26.5},{\"c\":[{\"v\":\"0.0674\"},{\"v\":\"0.1105\"}],\"f\":8,\"v\":502.5}],\"f\":10,\"v\":501.5}],\"f\":3,\"v\":2.5},{\"c\":[{\"v\":\"0.0637\"},{\"v\":\"0.0240\"}],\"f\":6,\"v\":176.5}],\"f\":1,\"v\":85.5},{\"c\":[{\"c\":[{\"c\":[{\"c\":[{\"c\":[{\"c\":[{\"c\":[{\"v\":\"0.0369\"},{\"v\":\"-0.015\"}],\"f\":3,\"v\":46.5},{\"v\":\"0.0262\"}],\"f\":3,\"v\":584.5},{\"c\":[{\"v\":\"0.0151\"},{\"v\":\"0.0570\"}],\"f\":1,\"v\":782.5}],\"f\":12,\"v\":488.5},{\"v\":\"-0.016\"}],\"f\":13,\"v\":485.5},{\"c\":[{\"v\":\"-0.001\"},{\"c\":[{\"v\":\"0.0294\"},{\"v\":\"-0.018\"}],\"f\":11,\"v\":973.5}],\"f\":3,\"v\":337.5}],\"f\":7,\"v\":780.5},{\"c\":[{\"v\":\"0.0019\"},{\"c\":[{\"c\":[{\"c\":[{\"c\":[{\"v\":\"0.0335\"},{\"v\":\"0.0729\"}],\"f\":11,\"v\":439.5},{\"c\":[{\"v\":\"0.0701\"},{\"c\":[{\"v\":\"0.0689\"},{\"v\":\"0.1136\"}],\"f\":5,\"v\":639.5}],\"f\":7,\"v\":70.5}],\"f\":4,\"v\":913.5},{\"v\":\"0.0249\"}],\"f\":9,\"v\":800.5},{\"c\":[{\"v\":\"0.0311\"},{\"v\":\"0.0046\"}],\"f\":6,\"v\":657.5}],\"f\":12,\"v\":676.5}],\"f\":3,\"v\":539.5}],\"f\":4,\"v\":766.5},{\"c\":[{\"c\":[{\"v\":\"0.0527\"},{\"v\":\"0.0168\"}],\"f\":1,\"v\":137.5},{\"c\":[{\"v\":\"-0.013\"},{\"v\":\"-0.036\"}],\"f\":2,\"v\":827.5}],\"f\":3,\"v\":25.5}],\"f\":10,\"v\":420.5}],\"f\":3,\"v\":12.5},{\"c\":[{\"c\":[{\"c\":[{\"c\":[{\"v\":\"0.0639\"},{\"v\":\"0.1255\"}],\"f\":12,\"v\":1.5},{\"c\":[{\"v\":\"0.0171\"},{\"c\":[{\"c\":[{\"v\":\"0.0440\"},{\"v\":\"0.0935\"}],\"f\":12,\"v\":28.5},{\"c\":[{\"v\":\"0.0639\"},{\"v\":\"0.1098\"}],\"f\":8,\"v\":502.5}],\"f\":10,\"v\":462.5}],\"f\":9,\"v\":162.5}],\"f\":3,\"v\":2.5},{\"c\":[{\"v\":\"0.0605\"},{\"v\":\"0.0225\"}],\"f\":6,\"v\":176.5}],\"f\":1,\"v\":85.5},{\"c\":[{\"c\":[{\"c\":[{\"c\":[{\"c\":[{\"v\":\"0.0040\"},{\"c\":[{\"v\":\"0.0618\"},{\"v\":\"0.0133\"}],\"f\":5,\"v\":271.5}],\"f\":6,\"v\":824.5},{\"v\":\"-0.017\"}],\"f\":13,\"v\":511.5},{\"c\":[{\"v\":\"-0.000\"},{\"c\":[{\"v\":\"0.0277\"},{\"v\":\"-0.017\"}],\"f\":11,\"v\":973.5}],\"f\":3,\"v\":337.5}],\"f\":7,\"v\":776.5},{\"c\":[{\"v\":\"0.0021\"},{\"c\":[{\"c\":[{\"c\":[{\"c\":[{\"v\":\"0.0325\"},{\"v\":\"0.0691\"}],\"f\":11,\"v\":439.5},{\"c\":[{\"v\":\"0.0612\"},{\"c\":[{\"v\":\"0.0686\"},{\"v\":\"0.1051\"}],\"f\":5,\"v\":639.5}],\"f\":7,\"v\":70.5}],\"f\":4,\"v\":910.5},{\"v\":\"0.0240\"}],\"f\":9,\"v\":800.5},{\"c\":[{\"v\":\"0.0289\"},{\"v\":\"0.0047\"}],\"f\":6,\"v\":657.5}],\"f\":12,\"v\":676.5}],\"f\":3,\"v\":539.5}],\"f\":4,\"v\":766.5},{\"c\":[{\"c\":[{\"v\":\"0.0493\"},{\"v\":\"0.0154\"}],\"f\":1,\"v\":137.5},{\"c\":[{\"c\":[{\"v\":\"-0.019\"},{\"v\":\"0.0066\"}],\"f\":7,\"v\":757.5},{\"v\":\"-0.031\"}],\"f\":1,\"v\":809.5}],\"f\":3,\"v\":25.5}],\"f\":10,\"v\":420.5}],\"f\":3,\"v\":12.5},{\"c\":[{\"c\":[{\"c\":[{\"v\":\"0.0082\"},{\"c\":[{\"c\":[{\"v\":\"0.0762\"},{\"v\":\"0.1277\"}],\"f\":12,\"v\":1.5},{\"c\":[{\"c\":[{\"v\":\"0.0504\"},{\"v\":\"0.0875\"}],\"f\":12,\"v\":27.5},{\"v\":\"0.0910\"}],\"f\":10,\"v\":780.5}],\"f\":3,\"v\":2.5}],\"f\":9,\"v\":153.5},{\"c\":[{\"v\":\"0.0567\"},{\"v\":\"0.0227\"}],\"f\":6,\"v\":176.5}],\"f\":1,\"v\":85.5},{\"c\":[{\"c\":[{\"c\":[{\"c\":[{\"c\":[{\"c\":[{\"v\":\"-0.017\"},{\"v\":\"0.0084\"}],\"f\":9,\"v\":76.5},{\"c\":[{\"v\":\"0.0624\"},{\"v\":\"0.0156\"}],\"f\":5,\"v\":271.5}],\"f\":6,\"v\":824.5},{\"v\":\"-0.012\"}],\"f\":13,\"v\":491.5},{\"c\":[{\"v\":\"0.0039\"},{\"v\":\"0.0302\"}],\"f\":3,\"v\":373.5}],\"f\":7,\"v\":863.5},{\"c\":[{\"v\":\"0.0022\"},{\"c\":[{\"c\":[{\"c\":[{\"c\":[{\"v\":\"0.0310\"},{\"v\":\"0.0675\"}],\"f\":11,\"v\":437.5},{\"c\":[{\"v\":\"0.0599\"},{\"c\":[{\"v\":\"0.0597\"},{\"v\":\"0.0998\"}],\"f\":5,\"v\":638.5}],\"f\":7,\"v\":70.5}],\"f\":4,\"v\":910.5},{\"v\":\"0.0249\"}],\"f\":9,\"v\":800.5},{\"c\":[{\"v\":\"0.0421\"},{\"v\":\"0.0046\"}],\"f\":2,\"v\":509.5}],\"f\":12,\"v\":676.5}],\"f\":3,\"v\":539.5}],\"f\":4,\"v\":766.5},{\"c\":[{\"v\":\"0.0246\"},{\"c\":[{\"c\":[{\"v\":\"-0.023\"},{\"c\":[{\"v\":\"-0.011\"},{\"c\":[{\"v\":\"0.0262\"},{\"v\":\"-0.006\"}],\"f\":1,\"v\":789.5}],\"f\":7,\"v\":787.5}],\"f\":3,\"v\":402.5},{\"v\":\"-0.031\"}],\"f\":2,\"v\":817.5}],\"f\":3,\"v\":34.5}],\"f\":10,\"v\":390.5}],\"f\":3,\"v\":12.5},{\"c\":[{\"c\":[{\"c\":[{\"c\":[{\"v\":\"0.0606\"},{\"v\":\"0.1137\"}],\"f\":12,\"v\":1.5},{\"c\":[{\"v\":\"0.0581\"},{\"c\":[{\"v\":\"0.0557\"},{\"v\":\"0.0997\"}],\"f\":8,\"v\":509.5}],\"f\":10,\"v\":780.5}],\"f\":3,\"v\":2.5},{\"c\":[{\"v\":\"0.0546\"},{\"v\":\"0.0222\"}],\"f\":6,\"v\":176.5}],\"f\":1,\"v\":85.5},{\"c\":[{\"c\":[{\"c\":[{\"c\":[{\"c\":[{\"c\":[{\"c\":[{\"v\":\"-0.010\"},{\"v\":\"0.0244\"}],\"f\":12,\"v\":544.5},{\"v\":\"0.0120\"}],\"f\":3,\"v\":505.5},{\"c\":[{\"v\":\"0.0592\"},{\"c\":[{\"v\":\"0.0526\"},{\"v\":\"-0.000\"}],\"f\":13,\"v\":162.5}],\"f\":5,\"v\":271.5}],\"f\":6,\"v\":824.5},{\"v\":\"-0.014\"}],\"f\":13,\"v\":485.5},{\"c\":[{\"v\":\"-0.000\"},{\"c\":[{\"v\":\"0.0283\"},{\"v\":\"-0.014\"}],\"f\":11,\"v\":973.5}],\"f\":3,\"v\":337.5}],\"f\":7,\"v\":787.5},{\"c\":[{\"v\":\"0.0009\"},{\"c\":[{\"c\":[{\"c\":[{\"c\":[{\"v\":\"0.0051\"},{\"c\":[{\"v\":\"0.0876\"},{\"v\":\"0.0425\"}],\"f\":1,\"v\":121.5}],\"f\":11,\"v\":362.5},{\"c\":[{\"c\":[{\"v\":\"0.0583\"},{\"c\":[{\"v\":\"0.0723\"},{\"c\":[{\"v\":\"0.0874\"},{\"v\":\"0.1087\"}],\"f\":4,\"v\":910.5}],\"f\":5,\"v\":622.5}],\"f\":7,\"v\":68.5},{\"v\":\"0.0447\"}],\"f\":13,\"v\":550.5}],\"f\":4,\"v\":853.5},{\"v\":\"0.0318\"}],\"f\":6,\"v\":656.5},{\"v\":\"0.0112\"}],\"f\":9,\"v\":800.5}],\"f\":3,\"v\":539.5}],\"f\":4,\"v\":766.5},{\"c\":[{\"v\":\"0.0226\"},{\"v\":\"-0.016\"}],\"f\":3,\"v\":34.5}],\"f\":10,\"v\":415.5}],\"f\":3,\"v\":12.5},{\"c\":[{\"c\":[{\"c\":[{\"c\":[{\"v\":\"0.0572\"},{\"v\":\"0.1090\"}],\"f\":12,\"v\":1.5},{\"c\":[{\"v\":\"0.0132\"},{\"c\":[{\"v\":\"0.0596\"},{\"v\":\"0.0798\"}],\"f\":10,\"v\":780.5}],\"f\":9,\"v\":153.5}],\"f\":3,\"v\":2.5},{\"c\":[{\"v\":\"0.0519\"},{\"v\":\"0.0221\"}],\"f\":6,\"v\":176.5}],\"f\":1,\"v\":85.5},{\"c\":[{\"c\":[{\"c\":[{\"c\":[{\"c\":[{\"v\":\"0.0036\"},{\"c\":[{\"v\":\"0.0550\"},{\"c\":[{\"v\":\"0.0503\"},{\"v\":\"-0.001\"}],\"f\":13,\"v\":162.5}],\"f\":5,\"v\":271.5}],\"f\":6,\"v\":824.5},{\"v\":\"-0.014\"}],\"f\":13,\"v\":489.5},{\"c\":[{\"v\":\"-0.000\"},{\"c\":[{\"v\":\"0.0265\"},{\"v\":\"-0.014\"}],\"f\":11,\"v\":973.5}],\"f\":3,\"v\":337.5}],\"f\":7,\"v\":787.5},{\"c\":[{\"v\":\"0.0008\"},{\"c\":[{\"c\":[{\"c\":[{\"c\":[{\"v\":\"0.0100\"},{\"v\":\"0.0589\"}],\"f\":11,\"v\":361.5},{\"c\":[{\"c\":[{\"v\":\"0.0678\"},{\"v\":\"0.1067\"}],\"f\":7,\"v\":67.5},{\"v\":\"0.0626\"}],\"f\":1,\"v\":242.5}],\"f\":4,\"v\":870.5},{\"v\":\"0.0300\"}],\"f\":6,\"v\":656.5},{\"v\":\"0.0110\"}],\"f\":9,\"v\":800.5}],\"f\":3,\"v\":539.5}],\"f\":4,\"v\":766.5},{\"c\":[{\"v\":\"0.0215\"},{\"c\":[{\"c\":[{\"v\":\"-0.022\"},{\"c\":[{\"c\":[{\"v\":\"-0.018\"},{\"v\":\"0.0163\"}],\"f\":4,\"v\":752.5},{\"c\":[{\"v\":\"0.0238\"},{\"v\":\"-0.005\"}],\"f\":1,\"v\":754.5}],\"f\":7,\"v\":750.5}],\"f\":3,\"v\":399.5},{\"v\":\"-0.032\"}],\"f\":2,\"v\":817.5}],\"f\":3,\"v\":34.5}],\"f\":10,\"v\":415.5}],\"f\":3,\"v\":12.5},{\"c\":[{\"c\":[{\"c\":[{\"c\":[{\"v\":\"0.0548\"},{\"v\":\"0.1038\"}],\"f\":12,\"v\":1.5},{\"c\":[{\"c\":[{\"v\":\"0.0352\"},{\"v\":\"0.0674\"}],\"f\":12,\"v\":27.5},{\"c\":[{\"v\":\"0.0493\"},{\"v\":\"0.0879\"}],\"f\":8,\"v\":502.5}],\"f\":10,\"v\":761.5}],\"f\":3,\"v\":2.5},{\"c\":[{\"v\":\"0.0721\"},{\"v\":\"0.0251\"}],\"f\":3,\"v\":3.5}],\"f\":1,\"v\":85.5},{\"c\":[{\"c\":[{\"c\":[{\"c\":[{\"c\":[{\"v\":\"0.0016\"},{\"c\":[{\"c\":[{\"v\":\"-0.003\"},{\"v\":\"0.0207\"}],\"f\":1,\"v\":305.5},{\"c\":[{\"v\":\"0.0260\"},{\"v\":\"-0.022\"}],\"f\":11,\"v\":961.5}],\"f\":8,\"v\":474.5}],\"f\":11,\"v\":423.5},{\"v\":\"-0.027\"}],\"f\":5,\"v\":1006.5},{\"v\":\"-0.011\"}],\"f\":13,\"v\":633.5},{\"c\":[{\"v\":\"0.0014\"},{\"c\":[{\"c\":[{\"c\":[{\"c\":[{\"v\":\"0.0844\"},{\"v\":\"0.0307\"}],\"f\":1,\"v\":98.5},{\"c\":[{\"v\":\"0.0939\"},{\"c\":[{\"v\":\"0.0734\"},{\"v\":\"0.0461\"}],\"f\":13,\"v\":566.5}],\"f\":6,\"v\":265.5}],\"f\":4,\"v\":853.5},{\"c\":[{\"v\":\"0.0590\"},{\"v\":\"0.0139\"}],\"f\":2,\"v\":475.5}],\"f\":6,\"v\":656.5},{\"v\":\"0.0121\"}],\"f\":9,\"v\":800.5}],\"f\":3,\"v\":539.5}],\"f\":4,\"v\":770.5},{\"c\":[{\"c\":[{\"c\":[{\"v\":\"0.0158\"},{\"v\":\"-0.016\"}],\"f\":3,\"v\":64.5},{\"c\":[{\"v\":\"-0.008\"},{\"v\":\"0.0207\"}],\"f\":3,\"v\":410.5}],\"f\":7,\"v\":710.5},{\"c\":[{\"v\":\"-0.004\"},{\"v\":\"-0.032\"}],\"f\":4,\"v\":391.5}],\"f\":1,\"v\":789.5}],\"f\":10,\"v\":370.5}],\"f\":3,\"v\":12.5},{\"c\":[{\"c\":[{\"c\":[{\"c\":[{\"v\":\"0.0502\"},{\"v\":\"0.0988\"}],\"f\":12,\"v\":1.5},{\"v\":\"0.0557\"}],\"f\":3,\"v\":2.5},{\"c\":[{\"v\":\"0.0705\"},{\"v\":\"0.0240\"}],\"f\":3,\"v\":3.5}],\"f\":1,\"v\":85.5},{\"c\":[{\"c\":[{\"c\":[{\"c\":[{\"c\":[{\"c\":[{\"v\":\"0.0321\"},{\"v\":\"-0.015\"}],\"f\":3,\"v\":46.5},{\"c\":[{\"v\":\"0.0502\"},{\"v\":\"0.0119\"}],\"f\":13,\"v\":273.5}],\"f\":12,\"v\":544.5},{\"c\":[{\"c\":[{\"c\":[{\"c\":[{\"v\":\"0.0466\"},{\"v\":\"0.0995\"}],\"f\":6,\"v\":829.5},{\"c\":[{\"v\":\"0.0087\"},{\"c\":[{\"v\":\"0.0620\"},{\"v\":\"0.0018\"}],\"f\":13,\"v\":482.5}],\"f\":1,\"v\":772.5}],\"f\":13,\"v\":116.5},{\"v\":\"-0.024\"}],\"f\":5,\"v\":984.5},{\"c\":[{\"c\":[{\"c\":[{\"v\":\"0.0322\"},{\"c\":[{\"c\":[{\"v\":\"0.0137\"},{\"v\":\"0.0665\"}],\"f\":11,\"v\":356.5},{\"c\":[{\"v\":\"0.0681\"},{\"v\":\"0.0940\"}],\"f\":7,\"v\":68.5}],\"f\":4,\"v\":889.5}],\"f\":3,\"v\":539.5},{\"v\":\"0.0337\"}],\"f\":6,\"v\":520.5},{\"v\":\"0.0134\"}],\"f\":9,\"v\":800.5}],\"f\":4,\"v\":767.5}],\"f\":3,\"v\":453.5},{\"v\":\"-0.009\"}],\"f\":13,\"v\":576.5},{\"c\":[{\"v\":\"-0.000\"},{\"c\":[{\"v\":\"0.0383\"},{\"v\":\"0.0129\"}],\"f\":11,\"v\":863.5}],\"f\":3,\"v\":381.5}],\"f\":7,\"v\":824.5},{\"c\":[{\"c\":[{\"v\":\"-0.013\"},{\"c\":[{\"v\":\"-0.005\"},{\"v\":\"0.0203\"}],\"f\":3,\"v\":437.5}],\"f\":7,\"v\":680.5},{\"v\":\"-0.023\"}],\"f\":1,\"v\":723.5}],\"f\":10,\"v\":413.5}],\"f\":3,\"v\":12.5},{\"c\":[{\"c\":[{\"c\":[{\"c\":[{\"v\":\"0.0524\"},{\"v\":\"0.0944\"}],\"f\":12,\"v\":1.5},{\"v\":\"0.0527\"}],\"f\":3,\"v\":2.5},{\"c\":[{\"v\":\"0.0665\"},{\"v\":\"0.0229\"}],\"f\":3,\"v\":3.5}],\"f\":1,\"v\":85.5},{\"c\":[{\"c\":[{\"c\":[{\"c\":[{\"c\":[{\"c\":[{\"v\":\"-0.017\"},{\"v\":\"0.0083\"}],\"f\":9,\"v\":75.5},{\"c\":[{\"v\":\"0.0708\"},{\"c\":[{\"c\":[{\"v\":\"0.0767\"},{\"v\":\"0.0025\"}],\"f\":5,\"v\":939.5},{\"v\":\"0.0030\"}],\"f\":13,\"v\":162.5}],\"f\":5,\"v\":90.5}],\"f\":6,\"v\":824.5},{\"v\":\"-0.010\"}],\"f\":13,\"v\":491.5},{\"c\":[{\"v\":\"0.0066\"},{\"v\":\"0.0310\"}],\"f\":3,\"v\":387.5}],\"f\":7,\"v\":863.5},{\"c\":[{\"v\":\"0.0044\"},{\"c\":[{\"c\":[{\"c\":[{\"c\":[{\"v\":\"0.0238\"},{\"c\":[{\"v\":\"0.0464\"},{\"v\":\"0.1138\"}],\"f\":3,\"v\":793.5}],\"f\":11,\"v\":358.5},{\"c\":[{\"v\":\"0.0569\"},{\"v\":\"0.1024\"}],\"f\":7,\"v\":67.5}],\"f\":4,\"v\":910.5},{\"c\":[{\"v\":\"0.0570\"},{\"v\":\"0.0148\"}],\"f\":2,\"v\":597.5}],\"f\":6,\"v\":522.5},{\"v\":\"0.0125\"}],\"f\":9,\"v\":800.5}],\"f\":3,\"v\":538.5}],\"f\":4,\"v\":770.5},{\"c\":[{\"v\":\"-0.025\"},{\"c\":[{\"c\":[{\"v\":\"0.0375\"},{\"c\":[{\"c\":[{\"v\":\"-0.019\"},{\"v\":\"0.0252\"}],\"f\":13,\"v\":762.5},{\"c\":[{\"v\":\"-0.002\"},{\"v\":\"0.0205\"}],\"f\":7,\"v\":787.5}],\"f\":3,\"v\":427.5}],\"f\":3,\"v\":39.5},{\"v\":\"-0.020\"}],\"f\":1,\"v\":812.5}],\"f\":11,\"v\":203.5}],\"f\":10,\"v\":323.5}],\"f\":3,\"v\":12.5},{\"c\":[{\"c\":[{\"c\":[{\"v\":\"0.1101\"},{\"c\":[{\"c\":[{\"v\":\"-0.035\"},{\"v\":\"0.0446\"}],\"f\":12,\"v\":3.5},{\"c\":[{\"c\":[{\"v\":\"0.0528\"},{\"v\":\"0.1010\"}],\"f\":12,\"v\":1.5},{\"v\":\"0.0494\"}],\"f\":6,\"v\":32.5}],\"f\":8,\"v\":306.5}],\"f\":3,\"v\":0.5},{\"v\":\"0.0373\"}],\"f\":1,\"v\":130.5},{\"c\":[{\"c\":[{\"c\":[{\"c\":[{\"c\":[{\"v\":\"0.0050\"},{\"c\":[{\"c\":[{\"v\":\"0.1087\"},{\"c\":[{\"v\":\"-0.027\"},{\"c\":[{\"v\":\"0.0265\"},{\"v\":\"0.1108\"}],\"f\":3,\"v\":842.5}],\"f\":10,\"v\":109.5}],\"f\":13,\"v\":283.5},{\"c\":[{\"c\":[{\"v\":\"0.0735\"},{\"v\":\"0.0017\"}],\"f\":5,\"v\":939.5},{\"v\":\"0.0071\"}],\"f\":13,\"v\":162.5}],\"f\":5,\"v\":90.5}],\"f\":6,\"v\":824.5},{\"v\":\"-0.009\"}],\"f\":13,\"v\":491.5},{\"c\":[{\"v\":\"0.0039\"},{\"v\":\"0.0295\"}],\"f\":3,\"v\":379.5}],\"f\":7,\"v\":863.5},{\"c\":[{\"v\":\"0.0002\"},{\"c\":[{\"c\":[{\"c\":[{\"c\":[{\"v\":\"0.0622\"},{\"c\":[{\"v\":\"0.0619\"},{\"v\":\"0.1042\"}],\"f\":7,\"v\":68.5}],\"f\":4,\"v\":910.5},{\"v\":\"0.0389\"}],\"f\":13,\"v\":506.5},{\"v\":\"0.0380\"}],\"f\":6,\"v\":522.5},{\"v\":\"0.0145\"}],\"f\":9,\"v\":802.5}],\"f\":3,\"v\":539.5}],\"f\":4,\"v\":840.5},{\"c\":[{\"v\":\"0.0202\"},{\"c\":[{\"c\":[{\"v\":\"-0.019\"},{\"c\":[{\"v\":\"-0.007\"},{\"v\":\"0.0117\"}],\"f\":7,\"v\":815.5}],\"f\":3,\"v\":402.5},{\"v\":\"-0.026\"}],\"f\":2,\"v\":805.5}],\"f\":3,\"v\":37.5}],\"f\":10,\"v\":370.5}],\"f\":3,\"v\":9.5},{\"c\":[{\"c\":[{\"c\":[{\"v\":\"0.1377\"},{\"c\":[{\"v\":\"0.0266\"},{\"c\":[{\"v\":\"0.1426\"},{\"v\":\"0.0636\"}],\"f\":6,\"v\":90.5}],\"f\":12,\"v\":3.5}],\"f\":3,\"v\":0.5},{\"c\":[{\"v\":\"-0.018\"},{\"v\":\"0.0587\"}],\"f\":7,\"v\":365.5}],\"f\":13,\"v\":62.5},{\"c\":[{\"c\":[{\"c\":[{\"c\":[{\"c\":[{\"c\":[{\"v\":\"0.0284\"},{\"v\":\"-0.010\"}],\"f\":3,\"v\":46.5},{\"c\":[{\"v\":\"0.0652\"},{\"v\":\"0.0117\"}],\"f\":13,\"v\":97.5}],\"f\":3,\"v\":606.5},{\"c\":[{\"c\":[{\"c\":[{\"v\":\"0.0570\"},{\"v\":\"0.1109\"}],\"f\":6,\"v\":876.5},{\"v\":\"0.0052\"}],\"f\":5,\"v\":927.5},{\"c\":[{\"c\":[{\"v\":\"0.0155\"},{\"v\":\"0.0659\"}],\"f\":1,\"v\":682.5},{\"v\":\"0.0006\"}],\"f\":13,\"v\":489.5}],\"f\":13,\"v\":120.5}],\"f\":12,\"v\":468.5},{\"v\":\"-0.010\"}],\"f\":2,\"v\":777.5},{\"c\":[{\"v\":\"0.0044\"},{\"c\":[{\"c\":[{\"c\":[{\"c\":[{\"v\":\"0.0614\"},{\"v\":\"0.1071\"}],\"f\":9,\"v\":677.5},{\"v\":\"0.0537\"}],\"f\":1,\"v\":125.5},{\"v\":\"0.0309\"}],\"f\":9,\"v\":798.5},{\"v\":\"0.0077\"}],\"f\":2,\"v\":651.5}],\"f\":3,\"v\":554.5}],\"f\":4,\"v\":770.5},{\"c\":[{\"c\":[{\"c\":[{\"v\":\"-0.001\"},{\"v\":\"0.0684\"}],\"f\":8,\"v\":214.5},{\"v\":\"0.0229\"}],\"f\":1,\"v\":85.5},{\"c\":[{\"c\":[{\"v\":\"-0.010\"},{\"c\":[{\"v\":\"-0.009\"},{\"v\":\"0.0183\"}],\"f\":3,\"v\":410.5}],\"f\":7,\"v\":787.5},{\"v\":\"-0.022\"}],\"f\":1,\"v\":819.5}],\"f\":3,\"v\":17.5}],\"f\":10,\"v\":323.5}],\"f\":3,\"v\":3.5}],\"features\":[\"rank_return_5\",\"rank_return_0\",\"return_20\",\"rank_avg_amount_0\\/rank_avg_amount_5\",\"rank_return_0\\/rank_return_5\",\"rank_return_10\",\"rank_avg_amount_5\\/rank_avg_amount_10\",\"pe_ttm_0\",\"avg_amount_0\\/avg_amount_5\",\"rank_return_5\\/rank_return_10\",\"avg_amount_5\\/avg_amount_20\",\"return_10\",\"return_5\"],\"expand_depth\":1,\"__type\":\"tree\",\"renderTo\":\"bigchart-d21ef5b3c31e43d9b6975ac0bdb4d8e9\"}/bigcharts-data-end</pre></div></div><div class='tab-pane' id='NDCG'>设置测试数据集，查看训练迭代过程的NDCG</div></div></div><div class='bigchart-data'><pre style='display:none'>bigcharts-data-start/{\"__type\":\"tabs\",\"__id\":\"bigchart-a6a5536ce185499b8ad009dfa9dd0aa0\"}/bigcharts-data-end</pre></div>"
      ],
      "text/plain": [
       "<IPython.core.display.HTML object>"
      ]
     },
     "metadata": {},
     "output_type": "display_data"
    },
    {
     "data": {
      "text/plain": [
       "[2020-03-25 18:29:13.629005] INFO: bigquant: stock_ranker_train.v6 运行完成[0.658387s]."
      ]
     },
     "metadata": {
      "is_log": true,
      "status": "INFO"
     },
     "output_type": "display_data"
    },
    {
     "data": {
      "text/plain": [
       "[2020-03-25 18:29:13.630627] INFO: bigquant: instruments.v2 开始运行.."
      ]
     },
     "metadata": {
      "is_log": true,
      "status": "INFO"
     },
     "output_type": "display_data"
    },
    {
     "data": {
      "text/plain": [
       "[2020-03-25 18:29:13.679871] INFO: bigquant: 命中缓存"
      ]
     },
     "metadata": {
      "is_log": true,
      "status": "INFO"
     },
     "output_type": "display_data"
    },
    {
     "data": {
      "text/plain": [
       "[2020-03-25 18:29:13.681170] INFO: bigquant: instruments.v2 运行完成[0.05053s]."
      ]
     },
     "metadata": {
      "is_log": true,
      "status": "INFO"
     },
     "output_type": "display_data"
    },
    {
     "data": {
      "text/plain": [
       "[2020-03-25 18:29:13.703878] INFO: bigquant: general_feature_extractor.v7 开始运行.."
      ]
     },
     "metadata": {
      "is_log": true,
      "status": "INFO"
     },
     "output_type": "display_data"
    },
    {
     "data": {
      "text/plain": [
       "[2020-03-25 18:29:13.750182] INFO: bigquant: 命中缓存"
      ]
     },
     "metadata": {
      "is_log": true,
      "status": "INFO"
     },
     "output_type": "display_data"
    },
    {
     "data": {
      "text/plain": [
       "[2020-03-25 18:29:13.758231] INFO: bigquant: general_feature_extractor.v7 运行完成[0.054354s]."
      ]
     },
     "metadata": {
      "is_log": true,
      "status": "INFO"
     },
     "output_type": "display_data"
    },
    {
     "data": {
      "text/plain": [
       "[2020-03-25 18:29:13.761696] INFO: bigquant: derived_feature_extractor.v3 开始运行.."
      ]
     },
     "metadata": {
      "is_log": true,
      "status": "INFO"
     },
     "output_type": "display_data"
    },
    {
     "data": {
      "text/plain": [
       "[2020-03-25 18:29:13.783244] INFO: bigquant: 命中缓存"
      ]
     },
     "metadata": {
      "is_log": true,
      "status": "INFO"
     },
     "output_type": "display_data"
    },
    {
     "data": {
      "text/plain": [
       "[2020-03-25 18:29:13.784799] INFO: bigquant: derived_feature_extractor.v3 运行完成[0.023102s]."
      ]
     },
     "metadata": {
      "is_log": true,
      "status": "INFO"
     },
     "output_type": "display_data"
    },
    {
     "data": {
      "text/plain": [
       "[2020-03-25 18:29:13.787211] INFO: bigquant: dropnan.v1 开始运行.."
      ]
     },
     "metadata": {
      "is_log": true,
      "status": "INFO"
     },
     "output_type": "display_data"
    },
    {
     "data": {
      "text/plain": [
       "[2020-03-25 18:29:13.815350] INFO: bigquant: 命中缓存"
      ]
     },
     "metadata": {
      "is_log": true,
      "status": "INFO"
     },
     "output_type": "display_data"
    },
    {
     "data": {
      "text/plain": [
       "[2020-03-25 18:29:13.817628] INFO: bigquant: dropnan.v1 运行完成[0.030401s]."
      ]
     },
     "metadata": {
      "is_log": true,
      "status": "INFO"
     },
     "output_type": "display_data"
    },
    {
     "data": {
      "text/plain": [
       "[2020-03-25 18:29:13.856463] INFO: bigquant: stock_ranker_predict.v5 开始运行.."
      ]
     },
     "metadata": {
      "is_log": true,
      "status": "INFO"
     },
     "output_type": "display_data"
    },
    {
     "data": {
      "text/plain": [
       "[2020-03-25 18:29:13.948878] INFO: bigquant: 命中缓存"
      ]
     },
     "metadata": {
      "is_log": true,
      "status": "INFO"
     },
     "output_type": "display_data"
    },
    {
     "data": {
      "text/plain": [
       "[2020-03-25 18:29:13.962643] INFO: bigquant: stock_ranker_predict.v5 运行完成[0.106186s]."
      ]
     },
     "metadata": {
      "is_log": true,
      "status": "INFO"
     },
     "output_type": "display_data"
    },
    {
     "data": {
      "text/plain": [
       "[2020-03-25 18:29:13.990336] INFO: bigquant: factor_group__fast_backtest.v1 开始运行.."
      ]
     },
     "metadata": {
      "is_log": true,
      "status": "INFO"
     },
     "output_type": "display_data"
    },
    {
     "data": {
      "text/plain": [
       "[2020-03-25 18:29:14.019660] INFO: bigquant: 命中缓存"
      ]
     },
     "metadata": {
      "is_log": true,
      "status": "INFO"
     },
     "output_type": "display_data"
    },
    {
     "data": {
      "text/html": [
       "<div id=\"bigchart-0642b9960c1f4d69a40d43cca18e0206\" class=\"bigchart\"></div><div class=\"bigchart-data\"><pre style=\"display:none\">bigcharts-data-start/{\"chart\":{\"height\":400,\"renderTo\":\"bigchart-0642b9960c1f4d69a40d43cca18e0206\"},\"legend\":{\"enabled\":true},\"stock\":true,\"series\":[{\"name\":\"top1_pv\",\"yAxis\":0,\"data\":[[1420416000000,null],[1423008000000,1.0098],[1426204800000,1.1975],[1429056000000,1.5164],[1431907200000,1.7643],[1434499200000,2.0289],[1437350400000,1.3397],[1439942400000,1.3403],[1442880000000,0.9598],[1446076800000,1.1363],[1448841600000,1.2603],[1451433600000,1.2735],[1454284800000,0.8247],[1457481600000,0.8463],[1460332800000,0.9855],[1463011200000,0.8707],[1465948800000,0.9107],[1468540800000,0.9617],[1471305600000,0.9559],[1474243200000,0.9193],[1477440000000,0.9577],[1480032000000,0.9774],[1482796800000,0.886]]},{\"name\":\"top2_pv\",\"yAxis\":0,\"data\":[[1420416000000,null],[1423008000000,1.0902],[1426204800000,1.2465],[1429056000000,1.563],[1431907200000,1.8293],[1434499200000,2.2465],[1437350400000,1.4785],[1439942400000,1.4801],[1442880000000,1.1665],[1446076800000,1.369],[1448841600000,1.5444],[1451433600000,1.6371],[1454284800000,1.1031],[1457481600000,1.1514],[1460332800000,1.3694],[1463011200000,1.2265],[1465948800000,1.291],[1468540800000,1.405],[1471305600000,1.3814],[1474243200000,1.3568],[1477440000000,1.406],[1480032000000,1.4523],[1482796800000,1.3473]]},{\"name\":\"top3_pv\",\"yAxis\":0,\"data\":[[1420416000000,null],[1423008000000,1.1152],[1426204800000,1.2937],[1429056000000,1.6578],[1431907200000,1.9389],[1434499200000,2.4726],[1437350400000,1.7084],[1439942400000,1.802],[1442880000000,1.3777],[1446076800000,1.6605],[1448841600000,1.8394],[1451433600000,2.005],[1454284800000,1.3783],[1457481600000,1.46],[1460332800000,1.7288],[1463011200000,1.577],[1465948800000,1.6958],[1468540800000,1.874],[1471305600000,1.8665],[1474243200000,1.8526],[1477440000000,1.935],[1480032000000,2.0005],[1482796800000,1.8783]]},{\"name\":\"top4_pv\",\"yAxis\":0,\"data\":[[1420416000000,null],[1423008000000,1.1147],[1426204800000,1.2848],[1429056000000,1.6165],[1431907200000,1.9496],[1434499200000,2.4601],[1437350400000,1.6694],[1439942400000,1.8668],[1442880000000,1.471],[1446076800000,1.8557],[1448841600000,2.0377],[1451433600000,2.2136],[1454284800000,1.5238],[1457481600000,1.6296],[1460332800000,1.9508],[1463011200000,1.7841],[1465948800000,1.9379],[1468540800000,2.138],[1471305600000,2.1286],[1474243200000,2.1506],[1477440000000,2.2514],[1480032000000,2.3284],[1482796800000,2.1838]]},{\"name\":\"top5_pv\",\"yAxis\":0,\"data\":[[1420416000000,null],[1423008000000,1.1824],[1426204800000,1.3649],[1429056000000,1.7572],[1431907200000,2.1623],[1434499200000,2.7768],[1437350400000,1.9249],[1439942400000,2.0508],[1442880000000,1.5908],[1446076800000,2.004],[1448841600000,2.215],[1451433600000,2.446],[1454284800000,1.6973],[1457481600000,1.8197],[1460332800000,2.0871],[1463011200000,1.9096],[1465948800000,2.0793],[1468540800000,2.3153],[1471305600000,2.3126],[1474243200000,2.3613],[1477440000000,2.4745],[1480032000000,2.5904],[1482796800000,2.4865]]},{\"name\":\"bm_pv\",\"yAxis\":0,\"data\":[[1420416000000,null],[1423008000000,1.0],[1426204800000,0.9896],[1429056000000,0.9965],[1431907200000,0.9835],[1434499200000,0.9745],[1437350400000,0.9887],[1439942400000,0.9909],[1442880000000,1.0066],[1446076800000,1.016],[1448841600000,1.0184],[1451433600000,1.0211],[1454284800000,1.022],[1457481600000,1.0064],[1460332800000,0.9948],[1463011200000,1.0087],[1465948800000,1.0111],[1468540800000,1.0243],[1471305600000,1.0242],[1474243200000,1.0196],[1477440000000,1.0273],[1480032000000,1.0234],[1482796800000,1.033]]}],\"xAxis\":{\"type\":\"datetime\"},\"title\":{\"text\":\"\\u5404\\u7ec4\\u51c0\\u503c\\u793a\\u610f\\u56fe\"},\"subtitle\":{\"text\":\"top1\\u8868\\u793a\\u56e0\\u5b50\\u503c\\u6700\\u5c0f\\u7684\\u4e00\\u4e2a\\u7ec4\\u5408,top5\\u8868\\u793a\\u56e0\\u5b50\\u503c\\u6700\\u5927\\u7684\\u4e00\\u4e2a\\u7ec4\\u5408,\\u57fa\\u51c6\\u6307\\u6570\\u4e3a\\u6caa\\u6df1300\"}}/bigcharts-data-end</pre></div>"
      ],
      "text/plain": [
       "<IPython.core.display.HTML object>"
      ]
     },
     "metadata": {},
     "output_type": "display_data"
    },
    {
     "data": {
      "text/html": [
       "<div id=\"bigchart-8f7d2b9e735c4da9b4ab6f8d0effd4a5\" class=\"bigchart\"></div><div class=\"bigchart-data\"><pre style=\"display:none\">bigcharts-data-start/{\"chart\":{\"height\":400,\"renderTo\":\"bigchart-8f7d2b9e735c4da9b4ab6f8d0effd4a5\"},\"legend\":{\"enabled\":true},\"stock\":true,\"series\":[{\"name\":\"top1_relative_pv\",\"yAxis\":0,\"data\":[[1420416000000,null],[1423008000000,1.0098],[1426204800000,1.208],[1429056000000,1.5213],[1431907200000,1.7898],[1434499200000,2.0746],[1437350400000,1.3396],[1439942400000,1.3372],[1442880000000,0.9364],[1446076800000,1.0998],[1448841600000,1.2173],[1451433600000,1.2268],[1454284800000,0.7934],[1457481600000,0.8263],[1460332800000,0.9717],[1463011200000,0.845],[1465948800000,0.8818],[1468540800000,0.9196],[1471305600000,0.9142],[1474243200000,0.8833],[1477440000000,0.9135],[1480032000000,0.9358],[1482796800000,0.8395]]},{\"name\":\"top2_relative_pv\",\"yAxis\":0,\"data\":[[1420416000000,null],[1423008000000,1.0902],[1426204800000,1.2578],[1429056000000,1.5685],[1431907200000,1.8561],[1434499200000,2.2964],[1437350400000,1.4778],[1439942400000,1.4761],[1442880000000,1.14],[1446076800000,1.3273],[1448841600000,1.4942],[1451433600000,1.5799],[1454284800000,1.0631],[1457481600000,1.1259],[1460332800000,1.3521],[1463011200000,1.1922],[1465948800000,1.252],[1468540800000,1.3461],[1471305600000,1.3238],[1474243200000,1.3061],[1477440000000,1.3437],[1480032000000,1.3929],[1482796800000,1.2792]]},{\"name\":\"top3_relative_pv\",\"yAxis\":0,\"data\":[[1420416000000,null],[1423008000000,1.1152],[1426204800000,1.3053],[1429056000000,1.6636],[1431907200000,1.9673],[1434499200000,2.5268],[1437350400000,1.709],[1439942400000,1.7988],[1442880000000,1.3468],[1446076800000,1.6107],[1448841600000,1.7803],[1451433600000,1.9359],[1454284800000,1.3292],[1457481600000,1.4283],[1460332800000,1.7076],[1463011200000,1.5339],[1465948800000,1.6458],[1468540800000,1.7971],[1471305600000,1.7902],[1474243200000,1.7849],[1477440000000,1.8508],[1480032000000,1.9205],[1482796800000,1.7852]]},{\"name\":\"top4_relative_pv\",\"yAxis\":0,\"data\":[[1420416000000,null],[1423008000000,1.1147],[1426204800000,1.2964],[1429056000000,1.6221],[1431907200000,1.9774],[1434499200000,2.5134],[1437350400000,1.6688],[1439942400000,1.8625],[1442880000000,1.4381],[1446076800000,1.8007],[1448841600000,1.9731],[1451433600000,2.1381],[1454284800000,1.47],[1457481600000,1.5946],[1460332800000,1.9272],[1463011200000,1.7357],[1465948800000,1.8812],[1468540800000,2.0507],[1471305600000,2.042],[1474243200000,2.0722],[1477440000000,2.1537],[1480032000000,2.2355],[1482796800000,2.0757]]},{\"name\":\"top5_relative_pv\",\"yAxis\":0,\"data\":[[1420416000000,null],[1423008000000,1.1824],[1426204800000,1.3772],[1429056000000,1.7635],[1431907200000,2.193],[1434499200000,2.8362],[1437350400000,1.9247],[1439942400000,2.0463],[1442880000000,1.5548],[1446076800000,1.9443],[1448841600000,2.1444],[1451433600000,2.3623],[1454284800000,1.6372],[1457481600000,1.7802],[1460332800000,2.0623],[1463011200000,1.8582],[1465948800000,2.0189],[1468540800000,2.2216],[1471305600000,2.2193],[1474243200000,2.276],[1477440000000,2.3679],[1480032000000,2.4877],[1482796800000,2.3648]]}],\"xAxis\":{\"type\":\"datetime\"},\"title\":{\"text\":\"\\u5404\\u7ec4\\u76f8\\u5bf9\\u51c0\\u503c\\u793a\\u610f\\u56fe\"},\"subtitle\":{\"text\":\"\\u5404\\u7ec4\\u4e0e\\u57fa\\u51c6\\u7ec4\\u5408\\u5bf9\\u6bd4\\u5f97\\u51fa\\u76f8\\u5bf9\\u51c0\\u503c\\u66f2\\u7ebf\"}}/bigcharts-data-end</pre></div>"
      ],
      "text/plain": [
       "<IPython.core.display.HTML object>"
      ]
     },
     "metadata": {},
     "output_type": "display_data"
    },
    {
     "data": {
      "text/html": [
       "<div id=\"bigchart-25ad2ee9681545b793a83251fed16e21\" class=\"bigchart\"></div><div class=\"bigchart-data\"><pre style=\"display:none\">bigcharts-data-start/{\"chart\":{\"height\":400,\"type\":\"column\",\"renderTo\":\"bigchart-25ad2ee9681545b793a83251fed16e21\"},\"legend\":{\"enabled\":false},\"title\":{\"text\":\"\\u591a\\u5934\\u7ec4\\u5408\\u8d85\\u989d\\u6536\\u76ca\\u5206\\u5e03\\u56fe\"},\"stock\":false,\"series\":[{\"name\":0,\"yAxis\":0,\"data\":[[\"(-0.321~-0.125]\",2],[\"(-0.125~-0.112]\",0],[\"(-0.112~-0.1]\",0],[\"(-0.1~-0.0875]\",1],[\"(-0.0875~-0.075]\",0],[\"(-0.075~-0.0625]\",0],[\"(-0.0625~-0.05]\",0],[\"(-0.05~-0.0375]\",1],[\"(-0.0375~-0.025]\",0],[\"(-0.025~-0.0125]\",0],[\"(-0.0125~0.0]\",1],[\"(0.0~0.0125]\",0],[\"(0.0125~0.025]\",0],[\"(0.025~0.0375]\",1],[\"(0.0375~0.05]\",1],[\"(0.05~0.0625]\",1],[\"(0.0625~0.075]\",1],[\"(0.075~0.0875]\",2],[\"(0.0875~0.1]\",0],[\"(0.1~0.112]\",3],[\"(0.112~0.293]\",7]]}],\"xAxis\":{\"categories\":[\"(-0.321~-0.125]\",\"(-0.125~-0.112]\",\"(-0.112~-0.1]\",\"(-0.1~-0.0875]\",\"(-0.0875~-0.075]\",\"(-0.075~-0.0625]\",\"(-0.0625~-0.05]\",\"(-0.05~-0.0375]\",\"(-0.0375~-0.025]\",\"(-0.025~-0.0125]\",\"(-0.0125~0.0]\",\"(0.0~0.0125]\",\"(0.0125~0.025]\",\"(0.025~0.0375]\",\"(0.0375~0.05]\",\"(0.05~0.0625]\",\"(0.0625~0.075]\",\"(0.075~0.0875]\",\"(0.0875~0.1]\",\"(0.1~0.112]\",\"(0.112~0.293]\"]}}/bigcharts-data-end</pre></div>"
      ],
      "text/plain": [
       "<IPython.core.display.HTML object>"
      ]
     },
     "metadata": {},
     "output_type": "display_data"
    },
    {
     "data": {
      "text/html": [
       "<div id=\"bigchart-76fbbf1eda304eec80b7b38ef75f035c\" class=\"bigchart\"></div><div class=\"bigchart-data\"><pre style=\"display:none\">bigcharts-data-start/{\"chart\":{\"height\":400,\"renderTo\":\"bigchart-76fbbf1eda304eec80b7b38ef75f035c\"},\"legend\":{\"enabled\":true},\"stock\":true,\"series\":[{\"name\":\"\\u6536\\u76ca\",\"yAxis\":0,\"data\":[[1420416000000,null],[1423008000000,0.1824],[1426204800000,0.1647],[1429056000000,0.2805],[1431907200000,0.2436],[1434499200000,0.2933],[1437350400000,-0.3214],[1439942400000,0.0632],[1442880000000,-0.2402],[1446076800000,0.2505],[1448841600000,0.1029],[1451433600000,0.1016],[1454284800000,-0.307],[1457481600000,0.0874],[1460332800000,0.1584],[1463011200000,-0.0989],[1465948800000,0.0865],[1468540800000,0.1004],[1471305600000,-0.001],[1474243200000,0.0256],[1477440000000,0.0404],[1480032000000,0.0506],[1482796800000,-0.0494]],\"type\":\"column\",\"tooltip\":{\"valueSuffix\":\" \"}},{\"name\":\"\\u51c0\\u503c\\u66f2\\u7ebf\",\"yAxis\":1,\"data\":[[1420416000000,null],[1423008000000,1.1726],[1426204800000,1.1356],[1429056000000,1.1596],[1431907200000,1.2374],[1434499200000,1.4035],[1437350400000,1.4496],[1439942400000,1.5438],[1442880000000,1.6358],[1446076800000,1.7599],[1448841600000,1.7531],[1451433600000,1.9175],[1454284800000,2.0064],[1457481600000,2.0986],[1460332800000,2.0618],[1463011200000,2.1265],[1465948800000,2.2179],[1468540800000,2.3455],[1471305600000,2.3568],[1474243200000,2.4967],[1477440000000,2.5121],[1480032000000,2.5779],[1482796800000,2.7157]],\"type\":\"spline\",\"tooltip\":{\"valueSuffix\":\" \"}}],\"xAxis\":{\"type\":\"datetime\"},\"title\":{\"text\":\"\\u591a\\u7a7a\\u6536\\u76ca\\u7387\\u53ca\\u51c0\\u503c\"},\"subtitle\":{\"text\":\"\\u591a\\u7a7a\\u7ec4\\u5408\\u4f9d\\u636e\\u56e0\\u5b50\\u65b9\\u5411\\u800c\\u5b9a,\\u5982\\u679c\\u56e0\\u5b50\\u503c\\u8d8a\\u5927\\u8d8a\\u597d,\\u90a3\\u4e48\\u591a\\u5934\\u4e3aTop5\\u7ec4\\u5408,\\u53cd\\u4e4b,\\u591a\\u5934\\u4e3atop1\\u7ec4\\u5408\"},\"yAxis\":[{\"labels\":{\"format\":\"{value}\"},\"title\":{\"text\":\"\\u51c0\\u503c\\u66f2\\u7ebf\"}},{\"title\":{\"text\":\"\\u6536\\u76ca\\u7387\"},\"labels\":{\"format\":\"{value}\"},\"opposite\":true}]}/bigcharts-data-end</pre></div>"
      ],
      "text/plain": [
       "<IPython.core.display.HTML object>"
      ]
     },
     "metadata": {},
     "output_type": "display_data"
    },
    {
     "data": {
      "text/plain": [
       "[2020-03-25 18:29:14.082684] INFO: bigquant: factor_group__fast_backtest.v1 运行完成[0.092341s]."
      ]
     },
     "metadata": {
      "is_log": true,
      "status": "INFO"
     },
     "output_type": "display_data"
    }
   ],
   "source": [
    "# 本代码由可视化策略环境自动生成 2021年12月6日 22:34\n",
    "# 本代码单元只能在可视化模式下编辑。您也可以拷贝代码，粘贴到新建的代码单元或者策略，然后修改。\n",
    "\n",
    "\n",
    "m1 = M.instruments.v2(\n",
    "    start_date='2010-01-01',\n",
    "    end_date='2015-01-01',\n",
    "    market='CN_STOCK_A',\n",
    "    instrument_list='',\n",
    "    max_count=0\n",
    ")\n",
    "\n",
    "m2 = M.advanced_auto_labeler.v2(\n",
    "    instruments=m1.data,\n",
    "    label_expr=\"\"\"# #号开始的表示注释\n",
    "# 0. 每行一个，顺序执行，从第二个开始，可以使用label字段\n",
    "# 1. 可用数据字段见 https://bigquant.com/docs/develop/datasource/deprecated/history_data.html\n",
    "#   添加benchmark_前缀，可使用对应的benchmark数据\n",
    "# 2. 可用操作符和函数见 `表达式引擎 <https://bigquant.com/docs/develop/bigexpr/usage.html>`_\n",
    "\n",
    "# 计算收益：5日收盘价(作为卖出价格)除以明日开盘价(作为买入价格)\n",
    "shift(close, -5) / shift(open, -1)\n",
    "\n",
    "# 极值处理：用1%和99%分位的值做clip\n",
    "clip(label, all_quantile(label, 0.01), all_quantile(label, 0.99))\n",
    "\n",
    "# 将分数映射到分类，这里使用20个分类\n",
    "all_wbins(label, 20)\n",
    "\n",
    "# 过滤掉一字涨停的情况 (设置label为NaN，在后续处理和训练中会忽略NaN的label)\n",
    "where(shift(high, -1) == shift(low, -1), NaN, label)\n",
    "\"\"\",\n",
    "    start_date='',\n",
    "    end_date='',\n",
    "    benchmark='000300.SHA',\n",
    "    drop_na_label=True,\n",
    "    cast_label_int=True\n",
    ")\n",
    "\n",
    "m3 = M.input_features.v1(\n",
    "    features=\"\"\"# #号开始的表示注释\n",
    "# 多个特征，每行一个，可以包含基础特征和衍生特征\n",
    "return_5\n",
    "return_10\n",
    "return_20\n",
    "avg_amount_0/avg_amount_5\n",
    "avg_amount_5/avg_amount_20\n",
    "rank_avg_amount_0/rank_avg_amount_5\n",
    "rank_avg_amount_5/rank_avg_amount_10\n",
    "rank_return_0\n",
    "rank_return_5\n",
    "rank_return_10\n",
    "rank_return_0/rank_return_5\n",
    "rank_return_5/rank_return_10\n",
    "pe_ttm_0\n",
    "\"\"\"\n",
    ")\n",
    "\n",
    "m15 = M.general_feature_extractor.v7(\n",
    "    instruments=m1.data,\n",
    "    features=m3.data,\n",
    "    start_date='',\n",
    "    end_date='',\n",
    "    before_start_days=0\n",
    ")\n",
    "\n",
    "m16 = M.derived_feature_extractor.v3(\n",
    "    input_data=m15.data,\n",
    "    features=m3.data,\n",
    "    date_col='date',\n",
    "    instrument_col='instrument',\n",
    "    drop_na=False,\n",
    "    remove_extra_columns=False\n",
    ")\n",
    "\n",
    "m7 = M.join.v3(\n",
    "    data1=m2.data,\n",
    "    data2=m16.data,\n",
    "    on='date,instrument',\n",
    "    how='inner',\n",
    "    sort=False\n",
    ")\n",
    "\n",
    "m13 = M.dropnan.v1(\n",
    "    input_data=m7.data\n",
    ")\n",
    "\n",
    "m4 = M.stock_ranker_train.v6(\n",
    "    training_ds=m13.data,\n",
    "    features=m3.data,\n",
    "    learning_algorithm='排序',\n",
    "    number_of_leaves=30,\n",
    "    minimum_docs_per_leaf=1000,\n",
    "    number_of_trees=20,\n",
    "    learning_rate=0.1,\n",
    "    max_bins=1023,\n",
    "    feature_fraction=1,\n",
    "    data_row_fraction=1,\n",
    "    plot_charts=True,\n",
    "    ndcg_discount_base=1,\n",
    "    m_lazy_run=False\n",
    ")\n",
    "\n",
    "m9 = M.instruments.v2(\n",
    "    start_date=T.live_run_param('trading_date', '2015-01-01'),\n",
    "    end_date=T.live_run_param('trading_date', '2017-01-01'),\n",
    "    market='CN_STOCK_A',\n",
    "    instrument_list='',\n",
    "    max_count=0\n",
    ")\n",
    "\n",
    "m17 = M.general_feature_extractor.v7(\n",
    "    instruments=m9.data,\n",
    "    features=m3.data,\n",
    "    start_date='',\n",
    "    end_date='',\n",
    "    before_start_days=0\n",
    ")\n",
    "\n",
    "m18 = M.derived_feature_extractor.v3(\n",
    "    input_data=m17.data,\n",
    "    features=m3.data,\n",
    "    date_col='date',\n",
    "    instrument_col='instrument',\n",
    "    drop_na=False,\n",
    "    remove_extra_columns=False\n",
    ")\n",
    "\n",
    "m14 = M.dropnan.v1(\n",
    "    input_data=m18.data\n",
    ")\n",
    "\n",
    "m8 = M.stock_ranker_predict.v5(\n",
    "    model=m4.model,\n",
    "    data=m14.data,\n",
    "    m_lazy_run=False\n",
    ")\n",
    "\n",
    "m5 = M.factor_group__fast_backtest.v1(\n",
    "    input_1=m8.predictions,\n",
    "    input_2=m9.data,\n",
    "    rabalance_period=21,\n",
    "    long_port_is_big_factor=True,\n",
    "    buy_commission_rate=0.0003,\n",
    "    stamp_tax=0.001,\n",
    "    sell_commission_rate=0.0003,\n",
    "    rename_factor='score'\n",
    ")\n"
   ]
  }
 ],
 "metadata": {
  "is_mlstudio": "true",
  "kernelspec": {
   "display_name": "Python 3",
   "language": "python",
   "name": "python3"
  },
  "language_info": {
   "codemirror_mode": {
    "name": "ipython",
    "version": 3
   },
   "file_extension": ".py",
   "mimetype": "text/x-python",
   "name": "python",
   "nbconvert_exporter": "python",
   "pygments_lexer": "ipython3",
   "version": "3.8.7"
  }
 },
 "nbformat": 4,
 "nbformat_minor": 4
}
