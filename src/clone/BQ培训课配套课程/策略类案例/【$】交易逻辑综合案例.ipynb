{
 "cells": [
  {
   "cell_type": "code",
   "execution_count": 24,
   "metadata": {},
   "outputs": [
    {
     "data": {
      "text/html": [
       "<div>\n",
       "<style scoped>\n",
       "    .dataframe tbody tr th:only-of-type {\n",
       "        vertical-align: middle;\n",
       "    }\n",
       "\n",
       "    .dataframe tbody tr th {\n",
       "        vertical-align: top;\n",
       "    }\n",
       "\n",
       "    .dataframe thead th {\n",
       "        text-align: right;\n",
       "    }\n",
       "</style>\n",
       "<table border=\"1\" class=\"dataframe\">\n",
       "  <thead>\n",
       "    <tr style=\"text-align: right;\">\n",
       "      <th></th>\n",
       "      <th>date</th>\n",
       "      <th>instrument</th>\n",
       "      <th>pe_ttm_0</th>\n",
       "      <th>price_limit_status_0</th>\n",
       "    </tr>\n",
       "  </thead>\n",
       "  <tbody>\n",
       "    <tr>\n",
       "      <th>0</th>\n",
       "      <td>2021-01-04</td>\n",
       "      <td>000001.SZA</td>\n",
       "      <td>13.382400</td>\n",
       "      <td>2.0</td>\n",
       "    </tr>\n",
       "    <tr>\n",
       "      <th>1</th>\n",
       "      <td>2021-01-05</td>\n",
       "      <td>000001.SZA</td>\n",
       "      <td>13.073022</td>\n",
       "      <td>2.0</td>\n",
       "    </tr>\n",
       "    <tr>\n",
       "      <th>2</th>\n",
       "      <td>2021-01-06</td>\n",
       "      <td>000001.SZA</td>\n",
       "      <td>14.073104</td>\n",
       "      <td>2.0</td>\n",
       "    </tr>\n",
       "    <tr>\n",
       "      <th>3</th>\n",
       "      <td>2021-01-07</td>\n",
       "      <td>000001.SZA</td>\n",
       "      <td>14.317728</td>\n",
       "      <td>2.0</td>\n",
       "    </tr>\n",
       "    <tr>\n",
       "      <th>4</th>\n",
       "      <td>2021-01-08</td>\n",
       "      <td>000001.SZA</td>\n",
       "      <td>14.281754</td>\n",
       "      <td>2.0</td>\n",
       "    </tr>\n",
       "    <tr>\n",
       "      <th>...</th>\n",
       "      <td>...</td>\n",
       "      <td>...</td>\n",
       "      <td>...</td>\n",
       "      <td>...</td>\n",
       "    </tr>\n",
       "    <tr>\n",
       "      <th>390974</th>\n",
       "      <td>2021-05-26</td>\n",
       "      <td>688036.SHA</td>\n",
       "      <td>44.940617</td>\n",
       "      <td>2.0</td>\n",
       "    </tr>\n",
       "    <tr>\n",
       "      <th>390975</th>\n",
       "      <td>2021-05-27</td>\n",
       "      <td>688036.SHA</td>\n",
       "      <td>44.948277</td>\n",
       "      <td>2.0</td>\n",
       "    </tr>\n",
       "    <tr>\n",
       "      <th>390976</th>\n",
       "      <td>2021-05-28</td>\n",
       "      <td>688036.SHA</td>\n",
       "      <td>41.621140</td>\n",
       "      <td>2.0</td>\n",
       "    </tr>\n",
       "    <tr>\n",
       "      <th>390977</th>\n",
       "      <td>2021-05-31</td>\n",
       "      <td>688036.SHA</td>\n",
       "      <td>45.451305</td>\n",
       "      <td>2.0</td>\n",
       "    </tr>\n",
       "    <tr>\n",
       "      <th>390978</th>\n",
       "      <td>2021-06-01</td>\n",
       "      <td>688036.SHA</td>\n",
       "      <td>44.429928</td>\n",
       "      <td>2.0</td>\n",
       "    </tr>\n",
       "  </tbody>\n",
       "</table>\n",
       "<p>29373 rows × 4 columns</p>\n",
       "</div>"
      ],
      "text/plain": [
       "             date  instrument   pe_ttm_0  price_limit_status_0\n",
       "0      2021-01-04  000001.SZA  13.382400                   2.0\n",
       "1      2021-01-05  000001.SZA  13.073022                   2.0\n",
       "2      2021-01-06  000001.SZA  14.073104                   2.0\n",
       "3      2021-01-07  000001.SZA  14.317728                   2.0\n",
       "4      2021-01-08  000001.SZA  14.281754                   2.0\n",
       "...           ...         ...        ...                   ...\n",
       "390974 2021-05-26  688036.SHA  44.940617                   2.0\n",
       "390975 2021-05-27  688036.SHA  44.948277                   2.0\n",
       "390976 2021-05-28  688036.SHA  41.621140                   2.0\n",
       "390977 2021-05-31  688036.SHA  45.451305                   2.0\n",
       "390978 2021-06-01  688036.SHA  44.429928                   2.0\n",
       "\n",
       "[29373 rows x 4 columns]"
      ]
     },
     "execution_count": 24,
     "metadata": {},
     "output_type": "execute_result"
    }
   ],
   "source": [
    "# df = m13.data.read_df()\n",
    "# m1.sorted_data.read_df()\n",
    "m14.data.read_df()"
   ]
  },
  {
   "cell_type": "code",
   "execution_count": 23,
   "metadata": {},
   "outputs": [
    {
     "data": {
      "text/html": [
       "<div>\n",
       "<style scoped>\n",
       "    .dataframe tbody tr th:only-of-type {\n",
       "        vertical-align: middle;\n",
       "    }\n",
       "\n",
       "    .dataframe tbody tr th {\n",
       "        vertical-align: top;\n",
       "    }\n",
       "\n",
       "    .dataframe thead th {\n",
       "        text-align: right;\n",
       "    }\n",
       "</style>\n",
       "<table border=\"1\" class=\"dataframe\">\n",
       "  <thead>\n",
       "    <tr style=\"text-align: right;\">\n",
       "      <th></th>\n",
       "      <th>count</th>\n",
       "      <th>mean</th>\n",
       "      <th>std</th>\n",
       "      <th>min</th>\n",
       "      <th>25%</th>\n",
       "      <th>50%</th>\n",
       "      <th>75%</th>\n",
       "      <th>max</th>\n",
       "    </tr>\n",
       "  </thead>\n",
       "  <tbody>\n",
       "    <tr>\n",
       "      <th>pe_ttm_0</th>\n",
       "      <td>214074.0</td>\n",
       "      <td>3.174231e+01</td>\n",
       "      <td>2.418404e+02</td>\n",
       "      <td>-1.236946e+04</td>\n",
       "      <td>1.118912e+01</td>\n",
       "      <td>2.073719e+01</td>\n",
       "      <td>3.829444e+01</td>\n",
       "      <td>6.785655e+03</td>\n",
       "    </tr>\n",
       "    <tr>\n",
       "      <th>m:open</th>\n",
       "      <td>214074.0</td>\n",
       "      <td>3.012336e+02</td>\n",
       "      <td>8.142983e+02</td>\n",
       "      <td>2.066906e+00</td>\n",
       "      <td>1.776812e+01</td>\n",
       "      <td>8.329990e+01</td>\n",
       "      <td>2.590475e+02</td>\n",
       "      <td>1.405279e+04</td>\n",
       "    </tr>\n",
       "    <tr>\n",
       "      <th>m:high</th>\n",
       "      <td>214074.0</td>\n",
       "      <td>3.064117e+02</td>\n",
       "      <td>8.262258e+02</td>\n",
       "      <td>2.127401e+00</td>\n",
       "      <td>1.805740e+01</td>\n",
       "      <td>8.482786e+01</td>\n",
       "      <td>2.638065e+02</td>\n",
       "      <td>1.411358e+04</td>\n",
       "    </tr>\n",
       "    <tr>\n",
       "      <th>m:close</th>\n",
       "      <td>214074.0</td>\n",
       "      <td>3.015462e+02</td>\n",
       "      <td>8.151627e+02</td>\n",
       "      <td>2.087071e+00</td>\n",
       "      <td>1.778547e+01</td>\n",
       "      <td>8.330581e+01</td>\n",
       "      <td>2.592585e+02</td>\n",
       "      <td>1.392700e+04</td>\n",
       "    </tr>\n",
       "    <tr>\n",
       "      <th>m:low</th>\n",
       "      <td>214074.0</td>\n",
       "      <td>2.964887e+02</td>\n",
       "      <td>8.034647e+02</td>\n",
       "      <td>2.056824e+00</td>\n",
       "      <td>1.752255e+01</td>\n",
       "      <td>8.192073e+01</td>\n",
       "      <td>2.546698e+02</td>\n",
       "      <td>1.364202e+04</td>\n",
       "    </tr>\n",
       "    <tr>\n",
       "      <th>m:amount</th>\n",
       "      <td>214074.0</td>\n",
       "      <td>5.977655e+08</td>\n",
       "      <td>9.472490e+08</td>\n",
       "      <td>4.279149e+06</td>\n",
       "      <td>1.282167e+08</td>\n",
       "      <td>2.882107e+08</td>\n",
       "      <td>6.653356e+08</td>\n",
       "      <td>2.490733e+10</td>\n",
       "    </tr>\n",
       "    <tr>\n",
       "      <th>label</th>\n",
       "      <td>214074.0</td>\n",
       "      <td>8.344516e+00</td>\n",
       "      <td>2.804756e+00</td>\n",
       "      <td>0.000000e+00</td>\n",
       "      <td>7.000000e+00</td>\n",
       "      <td>8.000000e+00</td>\n",
       "      <td>1.000000e+01</td>\n",
       "      <td>1.900000e+01</td>\n",
       "    </tr>\n",
       "  </tbody>\n",
       "</table>\n",
       "</div>"
      ],
      "text/plain": [
       "             count          mean           std           min           25%  \\\n",
       "pe_ttm_0  214074.0  3.174231e+01  2.418404e+02 -1.236946e+04  1.118912e+01   \n",
       "m:open    214074.0  3.012336e+02  8.142983e+02  2.066906e+00  1.776812e+01   \n",
       "m:high    214074.0  3.064117e+02  8.262258e+02  2.127401e+00  1.805740e+01   \n",
       "m:close   214074.0  3.015462e+02  8.151627e+02  2.087071e+00  1.778547e+01   \n",
       "m:low     214074.0  2.964887e+02  8.034647e+02  2.056824e+00  1.752255e+01   \n",
       "m:amount  214074.0  5.977655e+08  9.472490e+08  4.279149e+06  1.282167e+08   \n",
       "label     214074.0  8.344516e+00  2.804756e+00  0.000000e+00  7.000000e+00   \n",
       "\n",
       "                   50%           75%           max  \n",
       "pe_ttm_0  2.073719e+01  3.829444e+01  6.785655e+03  \n",
       "m:open    8.329990e+01  2.590475e+02  1.405279e+04  \n",
       "m:high    8.482786e+01  2.638065e+02  1.411358e+04  \n",
       "m:close   8.330581e+01  2.592585e+02  1.392700e+04  \n",
       "m:low     8.192073e+01  2.546698e+02  1.364202e+04  \n",
       "m:amount  2.882107e+08  6.653356e+08  2.490733e+10  \n",
       "label     8.000000e+00  1.000000e+01  1.900000e+01  "
      ]
     },
     "execution_count": 23,
     "metadata": {},
     "output_type": "execute_result"
    }
   ],
   "source": [
    "# df.info()\n",
    "df.describe().T "
   ]
  },
  {
   "cell_type": "code",
   "execution_count": 18,
   "metadata": {
    "machine_learning_studio": "true",
    "ml_studio_json": "{\"description\":\"实验创建于2017/8/26\",\"graph\":{\"edges\":[{\"to_node_id\":\"287d2cb0-f53c-4101-bdf8-104b137c8601-15:instruments\",\"from_node_id\":\"287d2cb0-f53c-4101-bdf8-104b137c8601-8:data\"},{\"to_node_id\":\"-404:instruments\",\"from_node_id\":\"287d2cb0-f53c-4101-bdf8-104b137c8601-8:data\"},{\"to_node_id\":\"287d2cb0-f53c-4101-bdf8-104b137c8601-53:data1\",\"from_node_id\":\"287d2cb0-f53c-4101-bdf8-104b137c8601-15:data\"},{\"to_node_id\":\"-404:features\",\"from_node_id\":\"287d2cb0-f53c-4101-bdf8-104b137c8601-24:data\"},{\"to_node_id\":\"-411:features\",\"from_node_id\":\"287d2cb0-f53c-4101-bdf8-104b137c8601-24:data\"},{\"to_node_id\":\"-8068:features\",\"from_node_id\":\"287d2cb0-f53c-4101-bdf8-104b137c8601-24:data\"},{\"to_node_id\":\"-318:features_ds\",\"from_node_id\":\"287d2cb0-f53c-4101-bdf8-104b137c8601-24:data\"},{\"to_node_id\":\"-5063:input_data\",\"from_node_id\":\"287d2cb0-f53c-4101-bdf8-104b137c8601-53:data\"},{\"to_node_id\":\"-329:data1\",\"from_node_id\":\"287d2cb0-f53c-4101-bdf8-104b137c8601-60:predictions\"},{\"to_node_id\":\"-418:instruments\",\"from_node_id\":\"287d2cb0-f53c-4101-bdf8-104b137c8601-62:data\"},{\"to_node_id\":\"-1918:instruments\",\"from_node_id\":\"287d2cb0-f53c-4101-bdf8-104b137c8601-62:data\"},{\"to_node_id\":\"-224:instruments\",\"from_node_id\":\"287d2cb0-f53c-4101-bdf8-104b137c8601-62:data\"},{\"to_node_id\":\"-1620:input_1\",\"from_node_id\":\"287d2cb0-f53c-4101-bdf8-104b137c8601-62:data\"},{\"to_node_id\":\"-8068:training_ds\",\"from_node_id\":\"287d2cb0-f53c-4101-bdf8-104b137c8601-84:data\"},{\"to_node_id\":\"-8068:test_ds\",\"from_node_id\":\"287d2cb0-f53c-4101-bdf8-104b137c8601-84:data\"},{\"to_node_id\":\"287d2cb0-f53c-4101-bdf8-104b137c8601-60:data\",\"from_node_id\":\"-86:data\"},{\"to_node_id\":\"-323:input_ds\",\"from_node_id\":\"-86:data\"},{\"to_node_id\":\"-411:input_data\",\"from_node_id\":\"-404:data\"},{\"to_node_id\":\"287d2cb0-f53c-4101-bdf8-104b137c8601-53:data2\",\"from_node_id\":\"-411:data\"},{\"to_node_id\":\"-425:input_data\",\"from_node_id\":\"-418:data\"},{\"to_node_id\":\"-5073:input_data\",\"from_node_id\":\"-425:data\"},{\"to_node_id\":\"287d2cb0-f53c-4101-bdf8-104b137c8601-60:model\",\"from_node_id\":\"-8068:model\"},{\"to_node_id\":\"-224:features\",\"from_node_id\":\"-148:data\"},{\"to_node_id\":\"-1620:input_2\",\"from_node_id\":\"-184:data\"},{\"to_node_id\":\"-202:data2\",\"from_node_id\":\"-189:data\"},{\"to_node_id\":\"-189:data2\",\"from_node_id\":\"-196:data\"},{\"to_node_id\":\"-1626:input_ds\",\"from_node_id\":\"-202:data\"},{\"to_node_id\":\"-189:data1\",\"from_node_id\":\"-224:data\"},{\"to_node_id\":\"-418:features\",\"from_node_id\":\"-318:data\"},{\"to_node_id\":\"-425:features\",\"from_node_id\":\"-318:data\"},{\"to_node_id\":\"-329:data2\",\"from_node_id\":\"-323:data\"},{\"to_node_id\":\"-202:data1\",\"from_node_id\":\"-329:data\"},{\"to_node_id\":\"-196:input_ds\",\"from_node_id\":\"-1620:data_1\"},{\"to_node_id\":\"-1918:options_data\",\"from_node_id\":\"-1626:sorted_data\"},{\"to_node_id\":\"287d2cb0-f53c-4101-bdf8-104b137c8601-84:input_data\",\"from_node_id\":\"-5063:data\"},{\"to_node_id\":\"-86:input_data\",\"from_node_id\":\"-5073:data\"}],\"nodes\":[{\"node_id\":\"287d2cb0-f53c-4101-bdf8-104b137c8601-8\",\"module_id\":\"BigQuantSpace.instruments.instruments-v2\",\"parameters\":[{\"name\":\"start_date\",\"value\":\"2018-01-01\",\"type\":\"Literal\",\"bound_global_parameter\":null},{\"name\":\"end_date\",\"value\":\"2021-01-01\",\"type\":\"Literal\",\"bound_global_parameter\":null},{\"name\":\"market\",\"value\":\"CN_STOCK_A\",\"type\":\"Literal\",\"bound_global_parameter\":null},{\"name\":\"instrument_list\",\"value\":\"\",\"type\":\"Literal\",\"bound_global_parameter\":null},{\"name\":\"max_count\",\"value\":\"0\",\"type\":\"Literal\",\"bound_global_parameter\":null}],\"input_ports\":[{\"name\":\"rolling_conf\",\"node_id\":\"287d2cb0-f53c-4101-bdf8-104b137c8601-8\"}],\"output_ports\":[{\"name\":\"data\",\"node_id\":\"287d2cb0-f53c-4101-bdf8-104b137c8601-8\"}],\"cacheable\":true,\"seq_num\":1,\"comment\":\"\",\"comment_collapsed\":true},{\"node_id\":\"287d2cb0-f53c-4101-bdf8-104b137c8601-15\",\"module_id\":\"BigQuantSpace.advanced_auto_labeler.advanced_auto_labeler-v2\",\"parameters\":[{\"name\":\"label_expr\",\"value\":\"# #号开始的表示注释\\n# 0. 每行一个，顺序执行，从第二个开始，可以使用label字段\\n# 1. 可用数据字段见 https://bigquant.com/docs/data_history_data.html\\n#   添加benchmark_前缀，可使用对应的benchmark数据\\n# 2. 可用操作符和函数见 `表达式引擎 <https://bigquant.com/docs/big_expr.html>`_\\n\\n# 计算收益：5日收盘价(作为卖出价格)除以明日开盘价(作为买入价格)\\nshift(close, -5) / shift(open, -1)\\n\\n# 极值处理：用1%和99%分位的值做clip\\nclip(label, all_quantile(label, 0.01), all_quantile(label, 0.99))\\n\\n# 将分数映射到分类，这里使用20个分类\\nall_wbins(label, 20)\\n\\n# 过滤掉一字涨停的情况 (设置label为NaN，在后续处理和训练中会忽略NaN的label)\\nwhere(shift(high, -1) == shift(low, -1), NaN, label)\\n\",\"type\":\"Literal\",\"bound_global_parameter\":null},{\"name\":\"start_date\",\"value\":\"\",\"type\":\"Literal\",\"bound_global_parameter\":null},{\"name\":\"end_date\",\"value\":\"\",\"type\":\"Literal\",\"bound_global_parameter\":null},{\"name\":\"benchmark\",\"value\":\"000300.SHA\",\"type\":\"Literal\",\"bound_global_parameter\":null},{\"name\":\"drop_na_label\",\"value\":\"True\",\"type\":\"Literal\",\"bound_global_parameter\":null},{\"name\":\"cast_label_int\",\"value\":\"True\",\"type\":\"Literal\",\"bound_global_parameter\":null},{\"name\":\"user_functions\",\"value\":\"\",\"type\":\"Literal\",\"bound_global_parameter\":null}],\"input_ports\":[{\"name\":\"instruments\",\"node_id\":\"287d2cb0-f53c-4101-bdf8-104b137c8601-15\"}],\"output_ports\":[{\"name\":\"data\",\"node_id\":\"287d2cb0-f53c-4101-bdf8-104b137c8601-15\"}],\"cacheable\":true,\"seq_num\":2,\"comment\":\"\",\"comment_collapsed\":true},{\"node_id\":\"287d2cb0-f53c-4101-bdf8-104b137c8601-24\",\"module_id\":\"BigQuantSpace.input_features.input_features-v1\",\"parameters\":[{\"name\":\"features\",\"value\":\"# #号开始的表示注释\\n# 多个特征，每行一个，可以包含基础特征和衍生特征\\n#return_5\\n#return_10\\n#return_20\\n#avg_amount_0/avg_amount_5\\n#avg_amount_5/avg_amount_20\\n#rank_avg_amount_0/rank_avg_amount_5\\n#rank_avg_amount_5/rank_avg_amount_10\\n#rank_return_0\\n#rank_return_5\\n#rank_return_10\\n#rank_return_0/rank_return_5\\n#rank_return_5/rank_return_10\\npe_ttm_0\\n\",\"type\":\"Literal\",\"bound_global_parameter\":null}],\"input_ports\":[{\"name\":\"features_ds\",\"node_id\":\"287d2cb0-f53c-4101-bdf8-104b137c8601-24\"}],\"output_ports\":[{\"name\":\"data\",\"node_id\":\"287d2cb0-f53c-4101-bdf8-104b137c8601-24\"}],\"cacheable\":true,\"seq_num\":3,\"comment\":\"\",\"comment_collapsed\":true},{\"node_id\":\"287d2cb0-f53c-4101-bdf8-104b137c8601-53\",\"module_id\":\"BigQuantSpace.join.join-v3\",\"parameters\":[{\"name\":\"on\",\"value\":\"date,instrument\",\"type\":\"Literal\",\"bound_global_parameter\":null},{\"name\":\"how\",\"value\":\"inner\",\"type\":\"Literal\",\"bound_global_parameter\":null},{\"name\":\"sort\",\"value\":\"False\",\"type\":\"Literal\",\"bound_global_parameter\":null}],\"input_ports\":[{\"name\":\"data1\",\"node_id\":\"287d2cb0-f53c-4101-bdf8-104b137c8601-53\"},{\"name\":\"data2\",\"node_id\":\"287d2cb0-f53c-4101-bdf8-104b137c8601-53\"}],\"output_ports\":[{\"name\":\"data\",\"node_id\":\"287d2cb0-f53c-4101-bdf8-104b137c8601-53\"}],\"cacheable\":true,\"seq_num\":7,\"comment\":\"\",\"comment_collapsed\":true},{\"node_id\":\"287d2cb0-f53c-4101-bdf8-104b137c8601-60\",\"module_id\":\"BigQuantSpace.stock_ranker_predict.stock_ranker_predict-v5\",\"parameters\":[{\"name\":\"m_lazy_run\",\"value\":\"False\",\"type\":\"Literal\",\"bound_global_parameter\":null}],\"input_ports\":[{\"name\":\"model\",\"node_id\":\"287d2cb0-f53c-4101-bdf8-104b137c8601-60\"},{\"name\":\"data\",\"node_id\":\"287d2cb0-f53c-4101-bdf8-104b137c8601-60\"}],\"output_ports\":[{\"name\":\"predictions\",\"node_id\":\"287d2cb0-f53c-4101-bdf8-104b137c8601-60\"},{\"name\":\"m_lazy_run\",\"node_id\":\"287d2cb0-f53c-4101-bdf8-104b137c8601-60\"}],\"cacheable\":true,\"seq_num\":8,\"comment\":\"\",\"comment_collapsed\":true},{\"node_id\":\"287d2cb0-f53c-4101-bdf8-104b137c8601-62\",\"module_id\":\"BigQuantSpace.instruments.instruments-v2\",\"parameters\":[{\"name\":\"start_date\",\"value\":\"2021-01-01\",\"type\":\"Literal\",\"bound_global_parameter\":\"交易日期\"},{\"name\":\"end_date\",\"value\":\"2021-06-01\",\"type\":\"Literal\",\"bound_global_parameter\":\"交易日期\"},{\"name\":\"market\",\"value\":\"CN_STOCK_A\",\"type\":\"Literal\",\"bound_global_parameter\":null},{\"name\":\"instrument_list\",\"value\":\"\",\"type\":\"Literal\",\"bound_global_parameter\":null},{\"name\":\"max_count\",\"value\":\"0\",\"type\":\"Literal\",\"bound_global_parameter\":null}],\"input_ports\":[{\"name\":\"rolling_conf\",\"node_id\":\"287d2cb0-f53c-4101-bdf8-104b137c8601-62\"}],\"output_ports\":[{\"name\":\"data\",\"node_id\":\"287d2cb0-f53c-4101-bdf8-104b137c8601-62\"}],\"cacheable\":true,\"seq_num\":9,\"comment\":\"预测数据，用于回测和模拟\",\"comment_collapsed\":false},{\"node_id\":\"287d2cb0-f53c-4101-bdf8-104b137c8601-84\",\"module_id\":\"BigQuantSpace.dropnan.dropnan-v1\",\"parameters\":[],\"input_ports\":[{\"name\":\"input_data\",\"node_id\":\"287d2cb0-f53c-4101-bdf8-104b137c8601-84\"}],\"output_ports\":[{\"name\":\"data\",\"node_id\":\"287d2cb0-f53c-4101-bdf8-104b137c8601-84\"}],\"cacheable\":true,\"seq_num\":13,\"comment\":\"\",\"comment_collapsed\":true},{\"node_id\":\"-86\",\"module_id\":\"BigQuantSpace.dropnan.dropnan-v1\",\"parameters\":[],\"input_ports\":[{\"name\":\"input_data\",\"node_id\":\"-86\"}],\"output_ports\":[{\"name\":\"data\",\"node_id\":\"-86\"}],\"cacheable\":true,\"seq_num\":14,\"comment\":\"\",\"comment_collapsed\":true},{\"node_id\":\"-404\",\"module_id\":\"BigQuantSpace.general_feature_extractor.general_feature_extractor-v7\",\"parameters\":[{\"name\":\"start_date\",\"value\":\"\",\"type\":\"Literal\",\"bound_global_parameter\":null},{\"name\":\"end_date\",\"value\":\"\",\"type\":\"Literal\",\"bound_global_parameter\":null},{\"name\":\"before_start_days\",\"value\":0,\"type\":\"Literal\",\"bound_global_parameter\":null}],\"input_ports\":[{\"name\":\"instruments\",\"node_id\":\"-404\"},{\"name\":\"features\",\"node_id\":\"-404\"}],\"output_ports\":[{\"name\":\"data\",\"node_id\":\"-404\"}],\"cacheable\":true,\"seq_num\":15,\"comment\":\"\",\"comment_collapsed\":true},{\"node_id\":\"-411\",\"module_id\":\"BigQuantSpace.derived_feature_extractor.derived_feature_extractor-v3\",\"parameters\":[{\"name\":\"date_col\",\"value\":\"date\",\"type\":\"Literal\",\"bound_global_parameter\":null},{\"name\":\"instrument_col\",\"value\":\"instrument\",\"type\":\"Literal\",\"bound_global_parameter\":null},{\"name\":\"drop_na\",\"value\":\"False\",\"type\":\"Literal\",\"bound_global_parameter\":null},{\"name\":\"remove_extra_columns\",\"value\":\"False\",\"type\":\"Literal\",\"bound_global_parameter\":null},{\"name\":\"user_functions\",\"value\":\"\",\"type\":\"Literal\",\"bound_global_parameter\":null}],\"input_ports\":[{\"name\":\"input_data\",\"node_id\":\"-411\"},{\"name\":\"features\",\"node_id\":\"-411\"}],\"output_ports\":[{\"name\":\"data\",\"node_id\":\"-411\"}],\"cacheable\":true,\"seq_num\":16,\"comment\":\"\",\"comment_collapsed\":true},{\"node_id\":\"-418\",\"module_id\":\"BigQuantSpace.general_feature_extractor.general_feature_extractor-v7\",\"parameters\":[{\"name\":\"start_date\",\"value\":\"\",\"type\":\"Literal\",\"bound_global_parameter\":null},{\"name\":\"end_date\",\"value\":\"\",\"type\":\"Literal\",\"bound_global_parameter\":null},{\"name\":\"before_start_days\",\"value\":0,\"type\":\"Literal\",\"bound_global_parameter\":null}],\"input_ports\":[{\"name\":\"instruments\",\"node_id\":\"-418\"},{\"name\":\"features\",\"node_id\":\"-418\"}],\"output_ports\":[{\"name\":\"data\",\"node_id\":\"-418\"}],\"cacheable\":true,\"seq_num\":17,\"comment\":\"\",\"comment_collapsed\":true},{\"node_id\":\"-425\",\"module_id\":\"BigQuantSpace.derived_feature_extractor.derived_feature_extractor-v3\",\"parameters\":[{\"name\":\"date_col\",\"value\":\"date\",\"type\":\"Literal\",\"bound_global_parameter\":null},{\"name\":\"instrument_col\",\"value\":\"instrument\",\"type\":\"Literal\",\"bound_global_parameter\":null},{\"name\":\"drop_na\",\"value\":\"False\",\"type\":\"Literal\",\"bound_global_parameter\":null},{\"name\":\"remove_extra_columns\",\"value\":\"False\",\"type\":\"Literal\",\"bound_global_parameter\":null},{\"name\":\"user_functions\",\"value\":\"\",\"type\":\"Literal\",\"bound_global_parameter\":null}],\"input_ports\":[{\"name\":\"input_data\",\"node_id\":\"-425\"},{\"name\":\"features\",\"node_id\":\"-425\"}],\"output_ports\":[{\"name\":\"data\",\"node_id\":\"-425\"}],\"cacheable\":true,\"seq_num\":18,\"comment\":\"\",\"comment_collapsed\":true},{\"node_id\":\"-1918\",\"module_id\":\"BigQuantSpace.trade.trade-v4\",\"parameters\":[{\"name\":\"start_date\",\"value\":\"\",\"type\":\"Literal\",\"bound_global_parameter\":null},{\"name\":\"end_date\",\"value\":\"\",\"type\":\"Literal\",\"bound_global_parameter\":null},{\"name\":\"initialize\",\"value\":\"# 回测引擎：初始化函数，只执行一次\\ndef bigquant_run(context):\\n    # 加载预测数据\\n    context.ranker_prediction = context.options['data'].read_df()\\n\\n    # 系统已经设置了默认的交易手续费和滑点，要修改手续费可使用如下函数\\n    context.set_commission(PerOrder(buy_cost=0.0003, sell_cost=0.0013, min_cost=5))\\n    # 预测数据，通过options传入进来，使用 read_df 函数，加载到内存 (DataFrame)\\n    # 设置买入的股票数量，这里买入预测股票列表排名靠前的5只\\n    stock_count = 5\\n    # 每只的股票的权重，如下的权重分配会使得靠前的股票分配多一点的资金，[0.339160, 0.213986, 0.169580, ..]\\n    context.stock_weights = T.norm([1 / math.log(i + 2) for i in range(0, stock_count)])\\n    # 设置每只股票占用的最大资金比例\\n    context.max_cash_per_instrument = 0.6\\n    context.options['hold_days'] = 5\\n\\n    from zipline.finance.slippage import SlippageModel\\n    class FixedPriceSlippage(SlippageModel):\\n        def process_order(self, data, order, bar_volume=0, trigger_check_price=0):\\n            if order.limit is None:\\n                price_field = self._price_field_buy if order.amount > 0 else self._price_field_sell\\n                price = data.current(order.asset, price_field)\\n            else:\\n                price = data.current(order.asset, self._price_field_buy)\\n            # 返回希望成交的价格和数量\\n            return (price, order.amount)\\n    # 设置price_field,默认是开盘买入，收盘卖出\\n    context.fix_slippage = FixedPriceSlippage(price_field_buy='open', price_field_sell='close')\\n    context.set_slippage(us_equities=context.fix_slippage)\",\"type\":\"Literal\",\"bound_global_parameter\":null},{\"name\":\"handle_data\",\"value\":\"# 回测引擎：每日数据处理函数，每天执行一次\\ndef bigquant_run(context, data):\\n    # 获取当前持仓\\n    positions = {e.symbol: p.amount * p.last_sale_price\\n                 for e, p in context.portfolio.positions.items()}\\n    print(f'****** \\\\n \\\\n 获取当前持仓:{positions}')\\n\\n    today = data.current_dt.strftime('%Y-%m-%d')\\n    # 按日期过滤得到今日的预测数据\\n    ranker_prediction = context.ranker_prediction[context.ranker_prediction.date == today]\\n\\n    # 大盘风控模块，读取风控数据\\n    benckmark_risk = ranker_prediction['bm_0'].values[0]\\n\\n    # 当risk为1时，市场有风险，全部平仓，不再执行其它操作\\n    if benckmark_risk > 0:\\n        for instrument in positions.keys():\\n            context.order_target(context.symbol(instrument), 0)\\n        print(today, '大盘风控止损触发,全仓卖出')\\n        return\\n\\n    # 1. 资金分配\\n    # 平均持仓时间是hold_days，每日都将买入股票，每日预期使用 1/hold_days 的资金\\n    # 实际操作中，会存在一定的买入误差，所以在前hold_days天，等量使用资金；之后，尽量使用剩余资金（这里设置最多用等量的1.5倍）\\n    # print(f'交易日计数{context.trading_day_index}，账户信息：{context.portfolio}')\\n    is_staging = context.trading_day_index < context.options['hold_days']  # 是否在建仓期间（前 hold_days 天）\\n    cash_avg = context.portfolio.portfolio_value / context.options['hold_days']  # 持仓期平均价值\\n    cash_for_buy = min(context.portfolio.cash, (1 if is_staging else 1.5) * cash_avg)  #\\n    cash_for_sell = cash_avg - (context.portfolio.cash - cash_for_buy)  # 持仓应卖资金\\n    print(f'买入资金预算{cash_avg}, 实际可用现金{cash_for_buy}，卖出后可得到得到现金{cash_for_sell}')\\n\\n    # 2. 根据需要加入移动止赢止损模块、固定天数卖出模块\\n    stock_sold = []  # 记录卖出的股票，防止多次卖出出现空单\\n\\n    # ------------------------START:止赢止损模块(含建仓期)---------------\\n    current_stopwin_stock = []\\n    current_stoploss_stock = []\\n    positions_cost = {e.symbol: p.cost_basis for e, p in context.portfolio.positions.items()}\\n    if len(positions) > 0:\\n        for instrument in positions.keys():\\n            stock_cost = positions_cost[instrument]\\n            stock_market_price = data.current(context.symbol(instrument), 'price')\\n            # 赚9%且为可交易状态就止盈\\n            if stock_market_price / stock_cost - 1 >= 0.09 and data.can_trade(context.symbol(instrument)):\\n                context.order_target_percent(context.symbol(instrument), 0)\\n                cash_for_sell -= positions[instrument]\\n                current_stopwin_stock.append(instrument)\\n            # 亏5%并且为可交易状态就止损\\n            if stock_market_price / stock_cost - 1 <= -0.05 and data.can_trade(context.symbol(instrument)):\\n                context.order_target_percent(context.symbol(instrument), 0)\\n                cash_for_sell -= positions[instrument]\\n                current_stoploss_stock.append(instrument)\\n        if len(current_stopwin_stock) > 0:\\n            print(today, '止盈股票列表', current_stopwin_stock)\\n            stock_sold += current_stopwin_stock\\n        if len(current_stoploss_stock) > 0:\\n            print(today, '止损股票列表', current_stoploss_stock)\\n            stock_sold += current_stoploss_stock\\n    # --------------------------END: 止赢止损模块--------------------------\\n\\n    # --------------------------START：持有固定天数卖出(不含建仓期)-----------\\n    current_stopdays_stock = []\\n    positions_lastdate = {e.symbol: p.last_sale_date for e, p in context.portfolio.positions.items()}\\n    # 不是建仓期（在前hold_days属于建仓期）\\n    if not is_staging:\\n        for instrument in positions.keys():\\n            # 如果上面的止盈止损已经卖出过了，就不要重复卖出以防止产生空单\\n            if instrument in stock_sold:\\n                continue\\n            # 今天和上次交易的时间相隔hold_days就全部卖出 datetime.timedelta(context.options['hold_days'])也可以换成自己需要的天数，比如datetime.timedelta(5)\\n            if data.current_dt - positions_lastdate[instrument] >= datetime.timedelta(5) and data.can_trade(context.symbol(instrument)):\\n                context.order_target_percent(context.symbol(instrument), 0)\\n                current_stopdays_stock.append(instrument)\\n                cash_for_sell -= positions[instrument]\\n        if len(current_stopdays_stock) > 0:\\n            print(today, '固定天数卖出列表', current_stopdays_stock)\\n            stock_sold += current_stopdays_stock\\n    # -------------------------  END:持有固定天数卖出-----------------------\\n\\n    # -------------------------- START: ST和退市股卖出 ---------------------\\n    st_stock_list = []\\n    for instrument in positions.keys():\\n        try:\\n            instrument_name = ranker_prediction[ranker_prediction.instrument == instrument].name.values[0]\\n            # 如果股票状态变为了st或者退市 则卖出\\n            if 'ST' in instrument_name or '退' in instrument_name:\\n                if instrument in stock_sold:\\n                    continue\\n                if data.can_trade(context.symbol(instrument)):\\n                    context.order_target(context.symbol(instrument), 0)\\n                    st_stock_list.append(instrument)\\n                    cash_for_sell -= positions[instrument]\\n        except:\\n            continue\\n    if st_stock_list != []:\\n        print(today, '持仓出现st股/退市股', st_stock_list, '进行卖出处理')\\n        stock_sold += st_stock_list\\n\\n    # -------------------------- END: ST和退市股卖出 ---------------------\\n\\n    # 3. 生成轮仓卖出订单：hold_days天之后才开始卖出；对持仓的股票，按机器学习算法预测的排序末位淘汰\\n    if not is_staging and cash_for_sell > 0:\\n        instruments = list(reversed(list(ranker_prediction.instrument[ranker_prediction.instrument.apply(lambda x: x in positions)])))  # 反向排序\\n        for instrument in instruments:\\n            # 如果资金够了就不卖出了\\n            if cash_for_sell <= 0:\\n                break\\n            # 防止多个止损条件同时满足，出现多次卖出产生空单\\n            if instrument in stock_sold:\\n                continue\\n            context.order_target(context.symbol(instrument), 0)\\n            cash_for_sell -= positions[instrument]\\n            stock_sold.append(instrument)\\n\\n    # 4. 生成轮仓买入订单：按机器学习算法预测的排序，买入前面的stock_count只股票\\n    # 计算今日跌停的股票\\n    dt_list = list(ranker_prediction[ranker_prediction.price_limit_status_0 == 1].instrument)  # 股价在收盘时的涨跌停状态：1表示跌停，2表示未涨跌停，3则表示涨停\\n    # 计算今日ST/退市的股票\\n    st_list = list(ranker_prediction[ranker_prediction.name.str.contains('ST') | ranker_prediction.name.str.contains('退')].instrument)\\n    # 计算所有禁止买入的股票池\\n    banned_list = stock_sold + dt_list + st_list\\n    buy_cash_weights = context.stock_weights\\n    buy_instruments = [k for k in list(ranker_prediction.instrument) if k not in banned_list][:len(buy_cash_weights)]\\n    max_cash_per_instrument = context.portfolio.portfolio_value * context.max_cash_per_instrument\\n    for i, instrument in enumerate(buy_instruments):\\n        cash = cash_for_buy * buy_cash_weights[i]\\n        if cash > max_cash_per_instrument - positions.get(instrument, 0):  # 减去已经持有的仓位\\n            # 确保股票持仓量不会超过每次股票最大的占用资金量\\n            cash = max_cash_per_instrument - positions.get(instrument, 0)\\n        if cash > 0:  # 如果需要增持\\n            context.order_value(context.symbol(instrument), cash)\\n\\n\\n\",\"type\":\"Literal\",\"bound_global_parameter\":null},{\"name\":\"prepare\",\"value\":\"# 回测引擎：准备数据，只执行一次\\ndef bigquant_run(context):\\n    pass\",\"type\":\"Literal\",\"bound_global_parameter\":null},{\"name\":\"before_trading_start\",\"value\":\"def bigquant_run(context, data):\\n    # 获取涨跌停状态数据\\n    df_price_limit_status = context.ranker_prediction.set_index('date')\\n    today=data.current_dt.strftime('%Y-%m-%d')\\n    # 得到当前未完成订单\\n    for orders in get_open_orders().values():\\n        # 循环，撤销订单\\n        for _order in orders:\\n            ins=str(_order.sid.symbol)\\n            try:\\n                #判断一下如果当日涨停，则取消卖单\\n                if  df_price_limit_status[df_price_limit_status.instrument==ins].price_limit_status_0.ix[today]>2 and _order.amount<0:\\n                    cancel_order(_order)\\n                    print(today,'尾盘涨停取消卖单',ins) \\n            except:\\n                continue\",\"type\":\"Literal\",\"bound_global_parameter\":null},{\"name\":\"volume_limit\",\"value\":0.025,\"type\":\"Literal\",\"bound_global_parameter\":null},{\"name\":\"order_price_field_buy\",\"value\":\"open\",\"type\":\"Literal\",\"bound_global_parameter\":null},{\"name\":\"order_price_field_sell\",\"value\":\"close\",\"type\":\"Literal\",\"bound_global_parameter\":null},{\"name\":\"capital_base\",\"value\":\"1000001\",\"type\":\"Literal\",\"bound_global_parameter\":null},{\"name\":\"auto_cancel_non_tradable_orders\",\"value\":\"True\",\"type\":\"Literal\",\"bound_global_parameter\":null},{\"name\":\"data_frequency\",\"value\":\"daily\",\"type\":\"Literal\",\"bound_global_parameter\":null},{\"name\":\"price_type\",\"value\":\"后复权\",\"type\":\"Literal\",\"bound_global_parameter\":null},{\"name\":\"product_type\",\"value\":\"股票\",\"type\":\"Literal\",\"bound_global_parameter\":null},{\"name\":\"plot_charts\",\"value\":\"True\",\"type\":\"Literal\",\"bound_global_parameter\":null},{\"name\":\"backtest_only\",\"value\":\"False\",\"type\":\"Literal\",\"bound_global_parameter\":null},{\"name\":\"benchmark\",\"value\":\"\",\"type\":\"Literal\",\"bound_global_parameter\":null}],\"input_ports\":[{\"name\":\"instruments\",\"node_id\":\"-1918\"},{\"name\":\"options_data\",\"node_id\":\"-1918\"},{\"name\":\"history_ds\",\"node_id\":\"-1918\"},{\"name\":\"benchmark_ds\",\"node_id\":\"-1918\"},{\"name\":\"trading_calendar\",\"node_id\":\"-1918\"}],\"output_ports\":[{\"name\":\"raw_perf\",\"node_id\":\"-1918\"}],\"cacheable\":false,\"seq_num\":4,\"comment\":\"\",\"comment_collapsed\":true},{\"node_id\":\"-8068\",\"module_id\":\"BigQuantSpace.stock_ranker_train.stock_ranker_train-v6\",\"parameters\":[{\"name\":\"learning_algorithm\",\"value\":\"排序\",\"type\":\"Literal\",\"bound_global_parameter\":null},{\"name\":\"number_of_leaves\",\"value\":30,\"type\":\"Literal\",\"bound_global_parameter\":null},{\"name\":\"minimum_docs_per_leaf\",\"value\":1000,\"type\":\"Literal\",\"bound_global_parameter\":null},{\"name\":\"number_of_trees\",\"value\":20,\"type\":\"Literal\",\"bound_global_parameter\":null},{\"name\":\"learning_rate\",\"value\":0.1,\"type\":\"Literal\",\"bound_global_parameter\":null},{\"name\":\"max_bins\",\"value\":1023,\"type\":\"Literal\",\"bound_global_parameter\":null},{\"name\":\"feature_fraction\",\"value\":1,\"type\":\"Literal\",\"bound_global_parameter\":null},{\"name\":\"data_row_fraction\",\"value\":1,\"type\":\"Literal\",\"bound_global_parameter\":null},{\"name\":\"plot_charts\",\"value\":\"True\",\"type\":\"Literal\",\"bound_global_parameter\":null},{\"name\":\"ndcg_discount_base\",\"value\":1,\"type\":\"Literal\",\"bound_global_parameter\":null},{\"name\":\"m_lazy_run\",\"value\":\"False\",\"type\":\"Literal\",\"bound_global_parameter\":null}],\"input_ports\":[{\"name\":\"training_ds\",\"node_id\":\"-8068\"},{\"name\":\"features\",\"node_id\":\"-8068\"},{\"name\":\"test_ds\",\"node_id\":\"-8068\"},{\"name\":\"base_model\",\"node_id\":\"-8068\"}],\"output_ports\":[{\"name\":\"model\",\"node_id\":\"-8068\"},{\"name\":\"feature_gains\",\"node_id\":\"-8068\"},{\"name\":\"m_lazy_run\",\"node_id\":\"-8068\"}],\"cacheable\":true,\"seq_num\":5,\"comment\":\"\",\"comment_collapsed\":true},{\"node_id\":\"-148\",\"module_id\":\"BigQuantSpace.input_features.input_features-v1\",\"parameters\":[{\"name\":\"features\",\"value\":\"\\n# #号开始的表示注释，注释需单独一行\\n# 多个特征，每行一个，可以包含基础特征和衍生特征，特征须为本平台特征\\nname\",\"type\":\"Literal\",\"bound_global_parameter\":null}],\"input_ports\":[{\"name\":\"features_ds\",\"node_id\":\"-148\"}],\"output_ports\":[{\"name\":\"data\",\"node_id\":\"-148\"}],\"cacheable\":true,\"seq_num\":20,\"comment\":\"\",\"comment_collapsed\":true},{\"node_id\":\"-184\",\"module_id\":\"BigQuantSpace.input_features.input_features-v1\",\"parameters\":[{\"name\":\"features\",\"value\":\"\\n# #号开始的表示注释，注释需单独一行\\n# 多个特征，每行一个，可以包含基础特征和衍生特征，特征须为本平台特征\\nbm_0 = where(close/shift(close,5)-1<-0.05,1,0)\",\"type\":\"Literal\",\"bound_global_parameter\":null}],\"input_ports\":[{\"name\":\"features_ds\",\"node_id\":\"-184\"}],\"output_ports\":[{\"name\":\"data\",\"node_id\":\"-184\"}],\"cacheable\":true,\"seq_num\":24,\"comment\":\"\",\"comment_collapsed\":true},{\"node_id\":\"-189\",\"module_id\":\"BigQuantSpace.join.join-v3\",\"parameters\":[{\"name\":\"on\",\"value\":\"date\",\"type\":\"Literal\",\"bound_global_parameter\":null},{\"name\":\"how\",\"value\":\"left\",\"type\":\"Literal\",\"bound_global_parameter\":null},{\"name\":\"sort\",\"value\":\"True\",\"type\":\"Literal\",\"bound_global_parameter\":null}],\"input_ports\":[{\"name\":\"data1\",\"node_id\":\"-189\"},{\"name\":\"data2\",\"node_id\":\"-189\"}],\"output_ports\":[{\"name\":\"data\",\"node_id\":\"-189\"}],\"cacheable\":true,\"seq_num\":25,\"comment\":\"\",\"comment_collapsed\":true},{\"node_id\":\"-196\",\"module_id\":\"BigQuantSpace.select_columns.select_columns-v3\",\"parameters\":[{\"name\":\"columns\",\"value\":\"date,bm_0\",\"type\":\"Literal\",\"bound_global_parameter\":null},{\"name\":\"reverse_select\",\"value\":\"False\",\"type\":\"Literal\",\"bound_global_parameter\":null}],\"input_ports\":[{\"name\":\"input_ds\",\"node_id\":\"-196\"},{\"name\":\"columns_ds\",\"node_id\":\"-196\"}],\"output_ports\":[{\"name\":\"data\",\"node_id\":\"-196\"}],\"cacheable\":true,\"seq_num\":26,\"comment\":\"\",\"comment_collapsed\":true},{\"node_id\":\"-202\",\"module_id\":\"BigQuantSpace.join.join-v3\",\"parameters\":[{\"name\":\"on\",\"value\":\"date,instrument\",\"type\":\"Literal\",\"bound_global_parameter\":null},{\"name\":\"how\",\"value\":\"left\",\"type\":\"Literal\",\"bound_global_parameter\":null},{\"name\":\"sort\",\"value\":\"True\",\"type\":\"Literal\",\"bound_global_parameter\":null}],\"input_ports\":[{\"name\":\"data1\",\"node_id\":\"-202\"},{\"name\":\"data2\",\"node_id\":\"-202\"}],\"output_ports\":[{\"name\":\"data\",\"node_id\":\"-202\"}],\"cacheable\":true,\"seq_num\":27,\"comment\":\"\",\"comment_collapsed\":true},{\"node_id\":\"-224\",\"module_id\":\"BigQuantSpace.use_datasource.use_datasource-v1\",\"parameters\":[{\"name\":\"datasource_id\",\"value\":\"instruments_CN_STOCK_A\",\"type\":\"Literal\",\"bound_global_parameter\":null},{\"name\":\"start_date\",\"value\":\"\",\"type\":\"Literal\",\"bound_global_parameter\":null},{\"name\":\"end_date\",\"value\":\"\",\"type\":\"Literal\",\"bound_global_parameter\":null}],\"input_ports\":[{\"name\":\"instruments\",\"node_id\":\"-224\"},{\"name\":\"features\",\"node_id\":\"-224\"}],\"output_ports\":[{\"name\":\"data\",\"node_id\":\"-224\"}],\"cacheable\":true,\"seq_num\":22,\"comment\":\"\",\"comment_collapsed\":true},{\"node_id\":\"-318\",\"module_id\":\"BigQuantSpace.input_features.input_features-v1\",\"parameters\":[{\"name\":\"features\",\"value\":\"# #号开始的表示注释\\n# 多个特征，每行一个，可以包含基础特征和衍生特征\\nprice_limit_status_0\",\"type\":\"Literal\",\"bound_global_parameter\":null}],\"input_ports\":[{\"name\":\"features_ds\",\"node_id\":\"-318\"}],\"output_ports\":[{\"name\":\"data\",\"node_id\":\"-318\"}],\"cacheable\":true,\"seq_num\":6,\"comment\":\"\",\"comment_collapsed\":true},{\"node_id\":\"-323\",\"module_id\":\"BigQuantSpace.select_columns.select_columns-v3\",\"parameters\":[{\"name\":\"columns\",\"value\":\"date,instrument,price_limit_status_0\",\"type\":\"Literal\",\"bound_global_parameter\":null},{\"name\":\"reverse_select\",\"value\":\"False\",\"type\":\"Literal\",\"bound_global_parameter\":null}],\"input_ports\":[{\"name\":\"input_ds\",\"node_id\":\"-323\"},{\"name\":\"columns_ds\",\"node_id\":\"-323\"}],\"output_ports\":[{\"name\":\"data\",\"node_id\":\"-323\"}],\"cacheable\":true,\"seq_num\":10,\"comment\":\"\",\"comment_collapsed\":true},{\"node_id\":\"-329\",\"module_id\":\"BigQuantSpace.join.join-v3\",\"parameters\":[{\"name\":\"on\",\"value\":\"date,instrument\",\"type\":\"Literal\",\"bound_global_parameter\":null},{\"name\":\"how\",\"value\":\"left\",\"type\":\"Literal\",\"bound_global_parameter\":null},{\"name\":\"sort\",\"value\":\"True\",\"type\":\"Literal\",\"bound_global_parameter\":null}],\"input_ports\":[{\"name\":\"data1\",\"node_id\":\"-329\"},{\"name\":\"data2\",\"node_id\":\"-329\"}],\"output_ports\":[{\"name\":\"data\",\"node_id\":\"-329\"}],\"cacheable\":true,\"seq_num\":11,\"comment\":\"\",\"comment_collapsed\":true},{\"node_id\":\"-1620\",\"module_id\":\"BigQuantSpace.index_feature_extract.index_feature_extract-v3\",\"parameters\":[{\"name\":\"before_days\",\"value\":100,\"type\":\"Literal\",\"bound_global_parameter\":null},{\"name\":\"index\",\"value\":\"000300.HIX\",\"type\":\"Literal\",\"bound_global_parameter\":null}],\"input_ports\":[{\"name\":\"input_1\",\"node_id\":\"-1620\"},{\"name\":\"input_2\",\"node_id\":\"-1620\"}],\"output_ports\":[{\"name\":\"data_1\",\"node_id\":\"-1620\"},{\"name\":\"data_2\",\"node_id\":\"-1620\"}],\"cacheable\":true,\"seq_num\":12,\"comment\":\"\",\"comment_collapsed\":true},{\"node_id\":\"-1626\",\"module_id\":\"BigQuantSpace.sort.sort-v4\",\"parameters\":[{\"name\":\"sort_by\",\"value\":\"date,position\",\"type\":\"Literal\",\"bound_global_parameter\":null},{\"name\":\"group_by\",\"value\":\"--\",\"type\":\"Literal\",\"bound_global_parameter\":null},{\"name\":\"keep_columns\",\"value\":\"--\",\"type\":\"Literal\",\"bound_global_parameter\":null},{\"name\":\"ascending\",\"value\":\"True\",\"type\":\"Literal\",\"bound_global_parameter\":null}],\"input_ports\":[{\"name\":\"input_ds\",\"node_id\":\"-1626\"},{\"name\":\"sort_by_ds\",\"node_id\":\"-1626\"}],\"output_ports\":[{\"name\":\"sorted_data\",\"node_id\":\"-1626\"}],\"cacheable\":true,\"seq_num\":19,\"comment\":\"\",\"comment_collapsed\":true},{\"node_id\":\"-5063\",\"module_id\":\"BigQuantSpace.chinaa_stock_filter.chinaa_stock_filter-v1\",\"parameters\":[{\"name\":\"index_constituent_cond\",\"value\":\"%7B%22enumItems%22%3A%5B%7B%22value%22%3A%22%E5%85%A8%E9%83%A8%22%2C%22displayValue%22%3A%22%E5%85%A8%E9%83%A8%22%2C%22selected%22%3Afalse%7D%2C%7B%22value%22%3A%22%E4%B8%8A%E8%AF%8150%22%2C%22displayValue%22%3A%22%E4%B8%8A%E8%AF%8150%22%2C%22selected%22%3Afalse%7D%2C%7B%22value%22%3A%22%E6%B2%AA%E6%B7%B1300%22%2C%22displayValue%22%3A%22%E6%B2%AA%E6%B7%B1300%22%2C%22selected%22%3Atrue%7D%2C%7B%22value%22%3A%22%E4%B8%AD%E8%AF%81500%22%2C%22displayValue%22%3A%22%E4%B8%AD%E8%AF%81500%22%2C%22selected%22%3Afalse%7D%2C%7B%22value%22%3A%22%E4%B8%AD%E8%AF%81800%22%2C%22displayValue%22%3A%22%E4%B8%AD%E8%AF%81800%22%2C%22selected%22%3Afalse%7D%2C%7B%22value%22%3A%22%E4%B8%8A%E8%AF%81180%22%2C%22displayValue%22%3A%22%E4%B8%8A%E8%AF%81180%22%2C%22selected%22%3Afalse%7D%2C%7B%22value%22%3A%22%E4%B8%AD%E8%AF%81100%22%2C%22displayValue%22%3A%22%E4%B8%AD%E8%AF%81100%22%2C%22selected%22%3Afalse%7D%2C%7B%22value%22%3A%22%E6%B7%B1%E8%AF%81100%22%2C%22displayValue%22%3A%22%E6%B7%B1%E8%AF%81100%22%2C%22selected%22%3Afalse%7D%5D%7D\",\"type\":\"Literal\",\"bound_global_parameter\":null},{\"name\":\"board_cond\",\"value\":\"%7B%22enumItems%22%3A%5B%7B%22value%22%3A%22%E5%85%A8%E9%83%A8%22%2C%22displayValue%22%3A%22%E5%85%A8%E9%83%A8%22%2C%22selected%22%3Atrue%7D%2C%7B%22value%22%3A%22%E4%B8%8A%E8%AF%81%E4%B8%BB%E6%9D%BF%22%2C%22displayValue%22%3A%22%E4%B8%8A%E8%AF%81%E4%B8%BB%E6%9D%BF%22%2C%22selected%22%3Afalse%7D%2C%7B%22value%22%3A%22%E6%B7%B1%E8%AF%81%E4%B8%BB%E6%9D%BF%22%2C%22displayValue%22%3A%22%E6%B7%B1%E8%AF%81%E4%B8%BB%E6%9D%BF%22%2C%22selected%22%3Afalse%7D%2C%7B%22value%22%3A%22%E5%88%9B%E4%B8%9A%E6%9D%BF%22%2C%22displayValue%22%3A%22%E5%88%9B%E4%B8%9A%E6%9D%BF%22%2C%22selected%22%3Afalse%7D%2C%7B%22value%22%3A%22%E7%A7%91%E5%88%9B%E6%9D%BF%22%2C%22displayValue%22%3A%22%E7%A7%91%E5%88%9B%E6%9D%BF%22%2C%22selected%22%3Afalse%7D%5D%7D\",\"type\":\"Literal\",\"bound_global_parameter\":null},{\"name\":\"industry_cond\",\"value\":\"%7B%22enumItems%22%3A%5B%7B%22value%22%3A%22%E5%85%A8%E9%83%A8%22%2C%22displayValue%22%3A%22%E5%85%A8%E9%83%A8%22%2C%22selected%22%3Atrue%7D%2C%7B%22value%22%3A%22%E4%BA%A4%E9%80%9A%E8%BF%90%E8%BE%93%22%2C%22displayValue%22%3A%22%E4%BA%A4%E9%80%9A%E8%BF%90%E8%BE%93%22%2C%22selected%22%3Afalse%7D%2C%7B%22value%22%3A%22%E4%BC%91%E9%97%B2%E6%9C%8D%E5%8A%A1%22%2C%22displayValue%22%3A%22%E4%BC%91%E9%97%B2%E6%9C%8D%E5%8A%A1%22%2C%22selected%22%3Afalse%7D%2C%7B%22value%22%3A%22%E4%BC%A0%E5%AA%92%2F%E4%BF%A1%E6%81%AF%E6%9C%8D%E5%8A%A1%22%2C%22displayValue%22%3A%22%E4%BC%A0%E5%AA%92%2F%E4%BF%A1%E6%81%AF%E6%9C%8D%E5%8A%A1%22%2C%22selected%22%3Afalse%7D%2C%7B%22value%22%3A%22%E5%85%AC%E7%94%A8%E4%BA%8B%E4%B8%9A%22%2C%22displayValue%22%3A%22%E5%85%AC%E7%94%A8%E4%BA%8B%E4%B8%9A%22%2C%22selected%22%3Afalse%7D%2C%7B%22value%22%3A%22%E5%86%9C%E6%9E%97%E7%89%A7%E6%B8%94%22%2C%22displayValue%22%3A%22%E5%86%9C%E6%9E%97%E7%89%A7%E6%B8%94%22%2C%22selected%22%3Afalse%7D%2C%7B%22value%22%3A%22%E5%8C%96%E5%B7%A5%22%2C%22displayValue%22%3A%22%E5%8C%96%E5%B7%A5%22%2C%22selected%22%3Afalse%7D%2C%7B%22value%22%3A%22%E5%8C%BB%E8%8D%AF%E7%94%9F%E7%89%A9%22%2C%22displayValue%22%3A%22%E5%8C%BB%E8%8D%AF%E7%94%9F%E7%89%A9%22%2C%22selected%22%3Afalse%7D%2C%7B%22value%22%3A%22%E5%95%86%E4%B8%9A%E8%B4%B8%E6%98%93%22%2C%22displayValue%22%3A%22%E5%95%86%E4%B8%9A%E8%B4%B8%E6%98%93%22%2C%22selected%22%3Afalse%7D%2C%7B%22value%22%3A%22%E5%9B%BD%E9%98%B2%E5%86%9B%E5%B7%A5%22%2C%22displayValue%22%3A%22%E5%9B%BD%E9%98%B2%E5%86%9B%E5%B7%A5%22%2C%22selected%22%3Afalse%7D%2C%7B%22value%22%3A%22%E5%AE%B6%E7%94%A8%E7%94%B5%E5%99%A8%22%2C%22displayValue%22%3A%22%E5%AE%B6%E7%94%A8%E7%94%B5%E5%99%A8%22%2C%22selected%22%3Afalse%7D%2C%7B%22value%22%3A%22%E5%BB%BA%E7%AD%91%E6%9D%90%E6%96%99%2F%E5%BB%BA%E7%AD%91%E5%BB%BA%E6%9D%90%22%2C%22displayValue%22%3A%22%E5%BB%BA%E7%AD%91%E6%9D%90%E6%96%99%2F%E5%BB%BA%E7%AD%91%E5%BB%BA%E6%9D%90%22%2C%22selected%22%3Afalse%7D%2C%7B%22value%22%3A%22%E5%BB%BA%E7%AD%91%E8%A3%85%E9%A5%B0%22%2C%22displayValue%22%3A%22%E5%BB%BA%E7%AD%91%E8%A3%85%E9%A5%B0%22%2C%22selected%22%3Afalse%7D%2C%7B%22value%22%3A%22%E6%88%BF%E5%9C%B0%E4%BA%A7%22%2C%22displayValue%22%3A%22%E6%88%BF%E5%9C%B0%E4%BA%A7%22%2C%22selected%22%3Afalse%7D%2C%7B%22value%22%3A%22%E6%9C%89%E8%89%B2%E9%87%91%E5%B1%9E%22%2C%22displayValue%22%3A%22%E6%9C%89%E8%89%B2%E9%87%91%E5%B1%9E%22%2C%22selected%22%3Afalse%7D%2C%7B%22value%22%3A%22%E6%9C%BA%E6%A2%B0%E8%AE%BE%E5%A4%87%22%2C%22displayValue%22%3A%22%E6%9C%BA%E6%A2%B0%E8%AE%BE%E5%A4%87%22%2C%22selected%22%3Afalse%7D%2C%7B%22value%22%3A%22%E6%B1%BD%E8%BD%A6%2F%E4%BA%A4%E8%BF%90%E8%AE%BE%E5%A4%87%22%2C%22displayValue%22%3A%22%E6%B1%BD%E8%BD%A6%2F%E4%BA%A4%E8%BF%90%E8%AE%BE%E5%A4%87%22%2C%22selected%22%3Afalse%7D%2C%7B%22value%22%3A%22%E7%94%B5%E5%AD%90%22%2C%22displayValue%22%3A%22%E7%94%B5%E5%AD%90%22%2C%22selected%22%3Afalse%7D%2C%7B%22value%22%3A%22%E7%94%B5%E6%B0%94%E8%AE%BE%E5%A4%87%22%2C%22displayValue%22%3A%22%E7%94%B5%E6%B0%94%E8%AE%BE%E5%A4%87%22%2C%22selected%22%3Afalse%7D%2C%7B%22value%22%3A%22%E7%BA%BA%E7%BB%87%E6%9C%8D%E8%A3%85%22%2C%22displayValue%22%3A%22%E7%BA%BA%E7%BB%87%E6%9C%8D%E8%A3%85%22%2C%22selected%22%3Afalse%7D%2C%7B%22value%22%3A%22%E7%BB%BC%E5%90%88%22%2C%22displayValue%22%3A%22%E7%BB%BC%E5%90%88%22%2C%22selected%22%3Afalse%7D%2C%7B%22value%22%3A%22%E8%AE%A1%E7%AE%97%E6%9C%BA%22%2C%22displayValue%22%3A%22%E8%AE%A1%E7%AE%97%E6%9C%BA%22%2C%22selected%22%3Afalse%7D%2C%7B%22value%22%3A%22%E8%BD%BB%E5%B7%A5%E5%88%B6%E9%80%A0%22%2C%22displayValue%22%3A%22%E8%BD%BB%E5%B7%A5%E5%88%B6%E9%80%A0%22%2C%22selected%22%3Afalse%7D%2C%7B%22value%22%3A%22%E9%80%9A%E4%BF%A1%22%2C%22displayValue%22%3A%22%E9%80%9A%E4%BF%A1%22%2C%22selected%22%3Afalse%7D%2C%7B%22value%22%3A%22%E9%87%87%E6%8E%98%22%2C%22displayValue%22%3A%22%E9%87%87%E6%8E%98%22%2C%22selected%22%3Afalse%7D%2C%7B%22value%22%3A%22%E9%92%A2%E9%93%81%22%2C%22displayValue%22%3A%22%E9%92%A2%E9%93%81%22%2C%22selected%22%3Afalse%7D%2C%7B%22value%22%3A%22%E9%93%B6%E8%A1%8C%22%2C%22displayValue%22%3A%22%E9%93%B6%E8%A1%8C%22%2C%22selected%22%3Afalse%7D%2C%7B%22value%22%3A%22%E9%9D%9E%E9%93%B6%E9%87%91%E8%9E%8D%22%2C%22displayValue%22%3A%22%E9%9D%9E%E9%93%B6%E9%87%91%E8%9E%8D%22%2C%22selected%22%3Afalse%7D%2C%7B%22value%22%3A%22%E9%A3%9F%E5%93%81%E9%A5%AE%E6%96%99%22%2C%22displayValue%22%3A%22%E9%A3%9F%E5%93%81%E9%A5%AE%E6%96%99%22%2C%22selected%22%3Afalse%7D%5D%7D\",\"type\":\"Literal\",\"bound_global_parameter\":null},{\"name\":\"st_cond\",\"value\":\"%7B%22enumItems%22%3A%5B%7B%22value%22%3A%22%E5%85%A8%E9%83%A8%22%2C%22displayValue%22%3A%22%E5%85%A8%E9%83%A8%22%2C%22selected%22%3Afalse%7D%2C%7B%22value%22%3A%22%E6%AD%A3%E5%B8%B8%22%2C%22displayValue%22%3A%22%E6%AD%A3%E5%B8%B8%22%2C%22selected%22%3Atrue%7D%2C%7B%22value%22%3A%22ST%22%2C%22displayValue%22%3A%22ST%22%2C%22selected%22%3Afalse%7D%2C%7B%22value%22%3A%22*ST%22%2C%22displayValue%22%3A%22*ST%22%2C%22selected%22%3Afalse%7D%2C%7B%22value%22%3A%22%E6%9A%82%E5%81%9C%E4%B8%8A%E5%B8%82%22%2C%22displayValue%22%3A%22%E6%9A%82%E5%81%9C%E4%B8%8A%E5%B8%82%22%2C%22selected%22%3Afalse%7D%5D%7D\",\"type\":\"Literal\",\"bound_global_parameter\":null},{\"name\":\"delist_cond\",\"value\":\"%7B%22enumItems%22%3A%5B%7B%22value%22%3A%22%E5%85%A8%E9%83%A8%22%2C%22displayValue%22%3A%22%E5%85%A8%E9%83%A8%22%2C%22selected%22%3Afalse%7D%2C%7B%22value%22%3A%22%E9%80%80%E5%B8%82%22%2C%22displayValue%22%3A%22%E9%80%80%E5%B8%82%22%2C%22selected%22%3Afalse%7D%2C%7B%22value%22%3A%22%E9%9D%9E%E9%80%80%E5%B8%82%22%2C%22displayValue%22%3A%22%E9%9D%9E%E9%80%80%E5%B8%82%22%2C%22selected%22%3Atrue%7D%5D%7D\",\"type\":\"Literal\",\"bound_global_parameter\":null},{\"name\":\"output_left_data\",\"value\":\"False\",\"type\":\"Literal\",\"bound_global_parameter\":null}],\"input_ports\":[{\"name\":\"input_data\",\"node_id\":\"-5063\"}],\"output_ports\":[{\"name\":\"data\",\"node_id\":\"-5063\"},{\"name\":\"left_data\",\"node_id\":\"-5063\"}],\"cacheable\":true,\"seq_num\":21,\"comment\":\"\",\"comment_collapsed\":true},{\"node_id\":\"-5073\",\"module_id\":\"BigQuantSpace.chinaa_stock_filter.chinaa_stock_filter-v1\",\"parameters\":[{\"name\":\"index_constituent_cond\",\"value\":\"%7B%22enumItems%22%3A%5B%7B%22value%22%3A%22%E5%85%A8%E9%83%A8%22%2C%22displayValue%22%3A%22%E5%85%A8%E9%83%A8%22%2C%22selected%22%3Afalse%7D%2C%7B%22value%22%3A%22%E4%B8%8A%E8%AF%8150%22%2C%22displayValue%22%3A%22%E4%B8%8A%E8%AF%8150%22%2C%22selected%22%3Afalse%7D%2C%7B%22value%22%3A%22%E6%B2%AA%E6%B7%B1300%22%2C%22displayValue%22%3A%22%E6%B2%AA%E6%B7%B1300%22%2C%22selected%22%3Atrue%7D%2C%7B%22value%22%3A%22%E4%B8%AD%E8%AF%81500%22%2C%22displayValue%22%3A%22%E4%B8%AD%E8%AF%81500%22%2C%22selected%22%3Afalse%7D%2C%7B%22value%22%3A%22%E4%B8%AD%E8%AF%81800%22%2C%22displayValue%22%3A%22%E4%B8%AD%E8%AF%81800%22%2C%22selected%22%3Afalse%7D%2C%7B%22value%22%3A%22%E4%B8%8A%E8%AF%81180%22%2C%22displayValue%22%3A%22%E4%B8%8A%E8%AF%81180%22%2C%22selected%22%3Afalse%7D%2C%7B%22value%22%3A%22%E4%B8%AD%E8%AF%81100%22%2C%22displayValue%22%3A%22%E4%B8%AD%E8%AF%81100%22%2C%22selected%22%3Afalse%7D%2C%7B%22value%22%3A%22%E6%B7%B1%E8%AF%81100%22%2C%22displayValue%22%3A%22%E6%B7%B1%E8%AF%81100%22%2C%22selected%22%3Afalse%7D%5D%7D\",\"type\":\"Literal\",\"bound_global_parameter\":null},{\"name\":\"board_cond\",\"value\":\"%7B%22enumItems%22%3A%5B%7B%22value%22%3A%22%E5%85%A8%E9%83%A8%22%2C%22displayValue%22%3A%22%E5%85%A8%E9%83%A8%22%2C%22selected%22%3Atrue%7D%2C%7B%22value%22%3A%22%E4%B8%8A%E8%AF%81%E4%B8%BB%E6%9D%BF%22%2C%22displayValue%22%3A%22%E4%B8%8A%E8%AF%81%E4%B8%BB%E6%9D%BF%22%2C%22selected%22%3Afalse%7D%2C%7B%22value%22%3A%22%E6%B7%B1%E8%AF%81%E4%B8%BB%E6%9D%BF%22%2C%22displayValue%22%3A%22%E6%B7%B1%E8%AF%81%E4%B8%BB%E6%9D%BF%22%2C%22selected%22%3Afalse%7D%2C%7B%22value%22%3A%22%E5%88%9B%E4%B8%9A%E6%9D%BF%22%2C%22displayValue%22%3A%22%E5%88%9B%E4%B8%9A%E6%9D%BF%22%2C%22selected%22%3Afalse%7D%2C%7B%22value%22%3A%22%E7%A7%91%E5%88%9B%E6%9D%BF%22%2C%22displayValue%22%3A%22%E7%A7%91%E5%88%9B%E6%9D%BF%22%2C%22selected%22%3Afalse%7D%5D%7D\",\"type\":\"Literal\",\"bound_global_parameter\":null},{\"name\":\"industry_cond\",\"value\":\"%7B%22enumItems%22%3A%5B%7B%22value%22%3A%22%E5%85%A8%E9%83%A8%22%2C%22displayValue%22%3A%22%E5%85%A8%E9%83%A8%22%2C%22selected%22%3Atrue%7D%2C%7B%22value%22%3A%22%E4%BA%A4%E9%80%9A%E8%BF%90%E8%BE%93%22%2C%22displayValue%22%3A%22%E4%BA%A4%E9%80%9A%E8%BF%90%E8%BE%93%22%2C%22selected%22%3Afalse%7D%2C%7B%22value%22%3A%22%E4%BC%91%E9%97%B2%E6%9C%8D%E5%8A%A1%22%2C%22displayValue%22%3A%22%E4%BC%91%E9%97%B2%E6%9C%8D%E5%8A%A1%22%2C%22selected%22%3Afalse%7D%2C%7B%22value%22%3A%22%E4%BC%A0%E5%AA%92%2F%E4%BF%A1%E6%81%AF%E6%9C%8D%E5%8A%A1%22%2C%22displayValue%22%3A%22%E4%BC%A0%E5%AA%92%2F%E4%BF%A1%E6%81%AF%E6%9C%8D%E5%8A%A1%22%2C%22selected%22%3Afalse%7D%2C%7B%22value%22%3A%22%E5%85%AC%E7%94%A8%E4%BA%8B%E4%B8%9A%22%2C%22displayValue%22%3A%22%E5%85%AC%E7%94%A8%E4%BA%8B%E4%B8%9A%22%2C%22selected%22%3Afalse%7D%2C%7B%22value%22%3A%22%E5%86%9C%E6%9E%97%E7%89%A7%E6%B8%94%22%2C%22displayValue%22%3A%22%E5%86%9C%E6%9E%97%E7%89%A7%E6%B8%94%22%2C%22selected%22%3Afalse%7D%2C%7B%22value%22%3A%22%E5%8C%96%E5%B7%A5%22%2C%22displayValue%22%3A%22%E5%8C%96%E5%B7%A5%22%2C%22selected%22%3Afalse%7D%2C%7B%22value%22%3A%22%E5%8C%BB%E8%8D%AF%E7%94%9F%E7%89%A9%22%2C%22displayValue%22%3A%22%E5%8C%BB%E8%8D%AF%E7%94%9F%E7%89%A9%22%2C%22selected%22%3Afalse%7D%2C%7B%22value%22%3A%22%E5%95%86%E4%B8%9A%E8%B4%B8%E6%98%93%22%2C%22displayValue%22%3A%22%E5%95%86%E4%B8%9A%E8%B4%B8%E6%98%93%22%2C%22selected%22%3Afalse%7D%2C%7B%22value%22%3A%22%E5%9B%BD%E9%98%B2%E5%86%9B%E5%B7%A5%22%2C%22displayValue%22%3A%22%E5%9B%BD%E9%98%B2%E5%86%9B%E5%B7%A5%22%2C%22selected%22%3Afalse%7D%2C%7B%22value%22%3A%22%E5%AE%B6%E7%94%A8%E7%94%B5%E5%99%A8%22%2C%22displayValue%22%3A%22%E5%AE%B6%E7%94%A8%E7%94%B5%E5%99%A8%22%2C%22selected%22%3Afalse%7D%2C%7B%22value%22%3A%22%E5%BB%BA%E7%AD%91%E6%9D%90%E6%96%99%2F%E5%BB%BA%E7%AD%91%E5%BB%BA%E6%9D%90%22%2C%22displayValue%22%3A%22%E5%BB%BA%E7%AD%91%E6%9D%90%E6%96%99%2F%E5%BB%BA%E7%AD%91%E5%BB%BA%E6%9D%90%22%2C%22selected%22%3Afalse%7D%2C%7B%22value%22%3A%22%E5%BB%BA%E7%AD%91%E8%A3%85%E9%A5%B0%22%2C%22displayValue%22%3A%22%E5%BB%BA%E7%AD%91%E8%A3%85%E9%A5%B0%22%2C%22selected%22%3Afalse%7D%2C%7B%22value%22%3A%22%E6%88%BF%E5%9C%B0%E4%BA%A7%22%2C%22displayValue%22%3A%22%E6%88%BF%E5%9C%B0%E4%BA%A7%22%2C%22selected%22%3Afalse%7D%2C%7B%22value%22%3A%22%E6%9C%89%E8%89%B2%E9%87%91%E5%B1%9E%22%2C%22displayValue%22%3A%22%E6%9C%89%E8%89%B2%E9%87%91%E5%B1%9E%22%2C%22selected%22%3Afalse%7D%2C%7B%22value%22%3A%22%E6%9C%BA%E6%A2%B0%E8%AE%BE%E5%A4%87%22%2C%22displayValue%22%3A%22%E6%9C%BA%E6%A2%B0%E8%AE%BE%E5%A4%87%22%2C%22selected%22%3Afalse%7D%2C%7B%22value%22%3A%22%E6%B1%BD%E8%BD%A6%2F%E4%BA%A4%E8%BF%90%E8%AE%BE%E5%A4%87%22%2C%22displayValue%22%3A%22%E6%B1%BD%E8%BD%A6%2F%E4%BA%A4%E8%BF%90%E8%AE%BE%E5%A4%87%22%2C%22selected%22%3Afalse%7D%2C%7B%22value%22%3A%22%E7%94%B5%E5%AD%90%22%2C%22displayValue%22%3A%22%E7%94%B5%E5%AD%90%22%2C%22selected%22%3Afalse%7D%2C%7B%22value%22%3A%22%E7%94%B5%E6%B0%94%E8%AE%BE%E5%A4%87%22%2C%22displayValue%22%3A%22%E7%94%B5%E6%B0%94%E8%AE%BE%E5%A4%87%22%2C%22selected%22%3Afalse%7D%2C%7B%22value%22%3A%22%E7%BA%BA%E7%BB%87%E6%9C%8D%E8%A3%85%22%2C%22displayValue%22%3A%22%E7%BA%BA%E7%BB%87%E6%9C%8D%E8%A3%85%22%2C%22selected%22%3Afalse%7D%2C%7B%22value%22%3A%22%E7%BB%BC%E5%90%88%22%2C%22displayValue%22%3A%22%E7%BB%BC%E5%90%88%22%2C%22selected%22%3Afalse%7D%2C%7B%22value%22%3A%22%E8%AE%A1%E7%AE%97%E6%9C%BA%22%2C%22displayValue%22%3A%22%E8%AE%A1%E7%AE%97%E6%9C%BA%22%2C%22selected%22%3Afalse%7D%2C%7B%22value%22%3A%22%E8%BD%BB%E5%B7%A5%E5%88%B6%E9%80%A0%22%2C%22displayValue%22%3A%22%E8%BD%BB%E5%B7%A5%E5%88%B6%E9%80%A0%22%2C%22selected%22%3Afalse%7D%2C%7B%22value%22%3A%22%E9%80%9A%E4%BF%A1%22%2C%22displayValue%22%3A%22%E9%80%9A%E4%BF%A1%22%2C%22selected%22%3Afalse%7D%2C%7B%22value%22%3A%22%E9%87%87%E6%8E%98%22%2C%22displayValue%22%3A%22%E9%87%87%E6%8E%98%22%2C%22selected%22%3Afalse%7D%2C%7B%22value%22%3A%22%E9%92%A2%E9%93%81%22%2C%22displayValue%22%3A%22%E9%92%A2%E9%93%81%22%2C%22selected%22%3Afalse%7D%2C%7B%22value%22%3A%22%E9%93%B6%E8%A1%8C%22%2C%22displayValue%22%3A%22%E9%93%B6%E8%A1%8C%22%2C%22selected%22%3Afalse%7D%2C%7B%22value%22%3A%22%E9%9D%9E%E9%93%B6%E9%87%91%E8%9E%8D%22%2C%22displayValue%22%3A%22%E9%9D%9E%E9%93%B6%E9%87%91%E8%9E%8D%22%2C%22selected%22%3Afalse%7D%2C%7B%22value%22%3A%22%E9%A3%9F%E5%93%81%E9%A5%AE%E6%96%99%22%2C%22displayValue%22%3A%22%E9%A3%9F%E5%93%81%E9%A5%AE%E6%96%99%22%2C%22selected%22%3Afalse%7D%5D%7D\",\"type\":\"Literal\",\"bound_global_parameter\":null},{\"name\":\"st_cond\",\"value\":\"%7B%22enumItems%22%3A%5B%7B%22value%22%3A%22%E5%85%A8%E9%83%A8%22%2C%22displayValue%22%3A%22%E5%85%A8%E9%83%A8%22%2C%22selected%22%3Afalse%7D%2C%7B%22value%22%3A%22%E6%AD%A3%E5%B8%B8%22%2C%22displayValue%22%3A%22%E6%AD%A3%E5%B8%B8%22%2C%22selected%22%3Atrue%7D%2C%7B%22value%22%3A%22ST%22%2C%22displayValue%22%3A%22ST%22%2C%22selected%22%3Afalse%7D%2C%7B%22value%22%3A%22*ST%22%2C%22displayValue%22%3A%22*ST%22%2C%22selected%22%3Afalse%7D%2C%7B%22value%22%3A%22%E6%9A%82%E5%81%9C%E4%B8%8A%E5%B8%82%22%2C%22displayValue%22%3A%22%E6%9A%82%E5%81%9C%E4%B8%8A%E5%B8%82%22%2C%22selected%22%3Afalse%7D%5D%7D\",\"type\":\"Literal\",\"bound_global_parameter\":null},{\"name\":\"delist_cond\",\"value\":\"%7B%22enumItems%22%3A%5B%7B%22value%22%3A%22%E5%85%A8%E9%83%A8%22%2C%22displayValue%22%3A%22%E5%85%A8%E9%83%A8%22%2C%22selected%22%3Afalse%7D%2C%7B%22value%22%3A%22%E9%80%80%E5%B8%82%22%2C%22displayValue%22%3A%22%E9%80%80%E5%B8%82%22%2C%22selected%22%3Afalse%7D%2C%7B%22value%22%3A%22%E9%9D%9E%E9%80%80%E5%B8%82%22%2C%22displayValue%22%3A%22%E9%9D%9E%E9%80%80%E5%B8%82%22%2C%22selected%22%3Atrue%7D%5D%7D\",\"type\":\"Literal\",\"bound_global_parameter\":null},{\"name\":\"output_left_data\",\"value\":\"False\",\"type\":\"Literal\",\"bound_global_parameter\":null}],\"input_ports\":[{\"name\":\"input_data\",\"node_id\":\"-5073\"}],\"output_ports\":[{\"name\":\"data\",\"node_id\":\"-5073\"},{\"name\":\"left_data\",\"node_id\":\"-5073\"}],\"cacheable\":true,\"seq_num\":23,\"comment\":\"\",\"comment_collapsed\":true}],\"node_layout\":\"<node_postions><node_position Node='287d2cb0-f53c-4101-bdf8-104b137c8601-8' Position='248,98,200,200'/><node_position Node='287d2cb0-f53c-4101-bdf8-104b137c8601-15' Position='79,197,200,200'/><node_position Node='287d2cb0-f53c-4101-bdf8-104b137c8601-24' Position='699,-9,200,200'/><node_position Node='287d2cb0-f53c-4101-bdf8-104b137c8601-53' Position='268,365,200,200'/><node_position Node='287d2cb0-f53c-4101-bdf8-104b137c8601-60' Position='763,697,200,200'/><node_position Node='287d2cb0-f53c-4101-bdf8-104b137c8601-62' Position='1220,-18,200,200'/><node_position Node='287d2cb0-f53c-4101-bdf8-104b137c8601-84' Position='357,517,200,200'/><node_position Node='-86' Position='992,553,200,200'/><node_position Node='-404' Position='381,188,200,200'/><node_position Node='-411' Position='385,280,200,200'/><node_position Node='-418' Position='1002,254,200,200'/><node_position Node='-425' Position='1008,376,200,200'/><node_position Node='-1918' Position='1579.5137939453125,1133,200,200'/><node_position Node='-8068' Position='572,604,200,200'/><node_position Node='-148' Position='1388,316,200,200'/><node_position Node='-184' Position='1827,225,200,200'/><node_position Node='-189' Position='1476,604,200,200'/><node_position Node='-196' Position='1662,484,200,200'/><node_position Node='-202' Position='1221,866,200,200'/><node_position Node='-224' Position='1366,482,200,200'/><node_position Node='-318' Position='702,151,200,200'/><node_position Node='-323' Position='1086,664,200,200'/><node_position Node='-329' Position='1111,766,200,200'/><node_position Node='-1620' Position='1698,316,200,200'/><node_position Node='-1626' Position='1282,977,200,200'/><node_position Node='-5063' Position='310,437,200,200'/><node_position Node='-5073' Position='1005,468,200,200'/></node_postions>\"},\"nodes_readonly\":false,\"studio_version\":\"v2\"}"
   },
   "outputs": [
    {
     "data": {
      "text/plain": [
       "[2021-12-10 12:02:39.508300] INFO: moduleinvoker: instruments.v2 开始运行.."
      ]
     },
     "metadata": {
      "is_log": true,
      "status": "INFO"
     },
     "output_type": "display_data"
    },
    {
     "data": {
      "text/plain": [
       "[2021-12-10 12:02:39.543534] INFO: moduleinvoker: 命中缓存"
      ]
     },
     "metadata": {
      "is_log": true,
      "status": "INFO"
     },
     "output_type": "display_data"
    },
    {
     "data": {
      "text/plain": [
       "[2021-12-10 12:02:39.546748] INFO: moduleinvoker: instruments.v2 运行完成[0.039869s]."
      ]
     },
     "metadata": {
      "is_log": true,
      "status": "INFO"
     },
     "output_type": "display_data"
    },
    {
     "data": {
      "text/plain": [
       "[2021-12-10 12:02:39.557896] INFO: moduleinvoker: advanced_auto_labeler.v2 开始运行.."
      ]
     },
     "metadata": {
      "is_log": true,
      "status": "INFO"
     },
     "output_type": "display_data"
    },
    {
     "data": {
      "text/plain": [
       "[2021-12-10 12:02:39.570970] INFO: moduleinvoker: 命中缓存"
      ]
     },
     "metadata": {
      "is_log": true,
      "status": "INFO"
     },
     "output_type": "display_data"
    },
    {
     "data": {
      "text/plain": [
       "[2021-12-10 12:02:39.573722] INFO: moduleinvoker: advanced_auto_labeler.v2 运行完成[0.015833s]."
      ]
     },
     "metadata": {
      "is_log": true,
      "status": "INFO"
     },
     "output_type": "display_data"
    },
    {
     "data": {
      "text/plain": [
       "[2021-12-10 12:02:39.579299] INFO: moduleinvoker: input_features.v1 开始运行.."
      ]
     },
     "metadata": {
      "is_log": true,
      "status": "INFO"
     },
     "output_type": "display_data"
    },
    {
     "data": {
      "text/plain": [
       "[2021-12-10 12:02:39.650219] INFO: moduleinvoker: input_features.v1 运行完成[0.070914s]."
      ]
     },
     "metadata": {
      "is_log": true,
      "status": "INFO"
     },
     "output_type": "display_data"
    },
    {
     "data": {
      "text/plain": [
       "[2021-12-10 12:02:39.664482] INFO: moduleinvoker: general_feature_extractor.v7 开始运行.."
      ]
     },
     "metadata": {
      "is_log": true,
      "status": "INFO"
     },
     "output_type": "display_data"
    },
    {
     "data": {
      "text/plain": [
       "[2021-12-10 12:02:44.692733] INFO: 基础特征抽取: 年份 2018, 特征行数=816987"
      ]
     },
     "metadata": {
      "is_log": true,
      "status": "INFO"
     },
     "output_type": "display_data"
    },
    {
     "data": {
      "text/plain": [
       "[2021-12-10 12:02:56.434145] INFO: 基础特征抽取: 年份 2019, 特征行数=884867"
      ]
     },
     "metadata": {
      "is_log": true,
      "status": "INFO"
     },
     "output_type": "display_data"
    },
    {
     "data": {
      "text/plain": [
       "[2021-12-10 12:03:13.140448] INFO: 基础特征抽取: 年份 2020, 特征行数=945961"
      ]
     },
     "metadata": {
      "is_log": true,
      "status": "INFO"
     },
     "output_type": "display_data"
    },
    {
     "data": {
      "text/plain": [
       "[2021-12-10 12:03:14.819544] INFO: 基础特征抽取: 年份 2021, 特征行数=0"
      ]
     },
     "metadata": {
      "is_log": true,
      "status": "INFO"
     },
     "output_type": "display_data"
    },
    {
     "data": {
      "text/plain": [
       "[2021-12-10 12:03:14.949450] INFO: 基础特征抽取: 总行数: 2647815"
      ]
     },
     "metadata": {
      "is_log": true,
      "status": "INFO"
     },
     "output_type": "display_data"
    },
    {
     "data": {
      "text/plain": [
       "[2021-12-10 12:03:14.955121] INFO: moduleinvoker: general_feature_extractor.v7 运行完成[35.290649s]."
      ]
     },
     "metadata": {
      "is_log": true,
      "status": "INFO"
     },
     "output_type": "display_data"
    },
    {
     "data": {
      "text/plain": [
       "[2021-12-10 12:03:14.965172] INFO: moduleinvoker: derived_feature_extractor.v3 开始运行.."
      ]
     },
     "metadata": {
      "is_log": true,
      "status": "INFO"
     },
     "output_type": "display_data"
    },
    {
     "data": {
      "text/plain": [
       "[2021-12-10 12:03:19.997421] INFO: derived_feature_extractor: /y_2018, 816987"
      ]
     },
     "metadata": {
      "is_log": true,
      "status": "INFO"
     },
     "output_type": "display_data"
    },
    {
     "data": {
      "text/plain": [
       "[2021-12-10 12:03:21.529790] INFO: derived_feature_extractor: /y_2019, 884867"
      ]
     },
     "metadata": {
      "is_log": true,
      "status": "INFO"
     },
     "output_type": "display_data"
    },
    {
     "data": {
      "text/plain": [
       "[2021-12-10 12:03:23.118218] INFO: derived_feature_extractor: /y_2020, 945961"
      ]
     },
     "metadata": {
      "is_log": true,
      "status": "INFO"
     },
     "output_type": "display_data"
    },
    {
     "data": {
      "text/plain": [
       "[2021-12-10 12:03:23.484205] INFO: moduleinvoker: derived_feature_extractor.v3 运行完成[8.519036s]."
      ]
     },
     "metadata": {
      "is_log": true,
      "status": "INFO"
     },
     "output_type": "display_data"
    },
    {
     "data": {
      "text/plain": [
       "[2021-12-10 12:03:23.498706] INFO: moduleinvoker: join.v3 开始运行.."
      ]
     },
     "metadata": {
      "is_log": true,
      "status": "INFO"
     },
     "output_type": "display_data"
    },
    {
     "data": {
      "text/plain": [
       "[2021-12-10 12:03:35.046209] INFO: join: /y_2018, 行数=813508/816987, 耗时=2.680062s"
      ]
     },
     "metadata": {
      "is_log": true,
      "status": "INFO"
     },
     "output_type": "display_data"
    },
    {
     "data": {
      "text/plain": [
       "[2021-12-10 12:03:37.726300] INFO: join: /y_2019, 行数=881288/884867, 耗时=2.674278s"
      ]
     },
     "metadata": {
      "is_log": true,
      "status": "INFO"
     },
     "output_type": "display_data"
    },
    {
     "data": {
      "text/plain": [
       "[2021-12-10 12:03:40.425915] INFO: join: /y_2020, 行数=919362/945961, 耗时=2.693409s"
      ]
     },
     "metadata": {
      "is_log": true,
      "status": "INFO"
     },
     "output_type": "display_data"
    },
    {
     "data": {
      "text/plain": [
       "[2021-12-10 12:03:40.587453] INFO: join: 最终行数: 2614158"
      ]
     },
     "metadata": {
      "is_log": true,
      "status": "INFO"
     },
     "output_type": "display_data"
    },
    {
     "data": {
      "text/plain": [
       "[2021-12-10 12:03:40.683672] INFO: moduleinvoker: join.v3 运行完成[17.184968s]."
      ]
     },
     "metadata": {
      "is_log": true,
      "status": "INFO"
     },
     "output_type": "display_data"
    },
    {
     "data": {
      "text/plain": [
       "[2021-12-10 12:03:40.699293] INFO: moduleinvoker: chinaa_stock_filter.v1 开始运行.."
      ]
     },
     "metadata": {
      "is_log": true,
      "status": "INFO"
     },
     "output_type": "display_data"
    },
    {
     "data": {
      "text/plain": [
       "[2021-12-10 12:03:43.658461] INFO: A股股票过滤: 过滤 /y_2018, 70137/0/813508"
      ]
     },
     "metadata": {
      "is_log": true,
      "status": "INFO"
     },
     "output_type": "display_data"
    },
    {
     "data": {
      "text/plain": [
       "[2021-12-10 12:03:46.625934] INFO: A股股票过滤: 过滤 /y_2019, 72807/0/881288"
      ]
     },
     "metadata": {
      "is_log": true,
      "status": "INFO"
     },
     "output_type": "display_data"
    },
    {
     "data": {
      "text/plain": [
       "[2021-12-10 12:03:49.708702] INFO: A股股票过滤: 过滤 /y_2020, 71148/0/919362"
      ]
     },
     "metadata": {
      "is_log": true,
      "status": "INFO"
     },
     "output_type": "display_data"
    },
    {
     "data": {
      "text/plain": [
       "[2021-12-10 12:03:49.716525] INFO: A股股票过滤: 过滤完成, 214092 + 0"
      ]
     },
     "metadata": {
      "is_log": true,
      "status": "INFO"
     },
     "output_type": "display_data"
    },
    {
     "data": {
      "text/plain": [
       "[2021-12-10 12:03:49.792030] INFO: moduleinvoker: chinaa_stock_filter.v1 运行完成[9.092713s]."
      ]
     },
     "metadata": {
      "is_log": true,
      "status": "INFO"
     },
     "output_type": "display_data"
    },
    {
     "data": {
      "text/plain": [
       "[2021-12-10 12:03:49.841496] INFO: moduleinvoker: dropnan.v1 开始运行.."
      ]
     },
     "metadata": {
      "is_log": true,
      "status": "INFO"
     },
     "output_type": "display_data"
    },
    {
     "data": {
      "text/plain": [
       "[2021-12-10 12:03:50.144459] INFO: dropnan: /y_2018, 70137/70137"
      ]
     },
     "metadata": {
      "is_log": true,
      "status": "INFO"
     },
     "output_type": "display_data"
    },
    {
     "data": {
      "text/plain": [
       "[2021-12-10 12:03:50.283069] INFO: dropnan: /y_2019, 72807/72807"
      ]
     },
     "metadata": {
      "is_log": true,
      "status": "INFO"
     },
     "output_type": "display_data"
    },
    {
     "data": {
      "text/plain": [
       "[2021-12-10 12:03:50.418635] INFO: dropnan: /y_2020, 71130/71148"
      ]
     },
     "metadata": {
      "is_log": true,
      "status": "INFO"
     },
     "output_type": "display_data"
    },
    {
     "data": {
      "text/plain": [
       "[2021-12-10 12:03:50.527378] INFO: dropnan: 行数: 214074/214092"
      ]
     },
     "metadata": {
      "is_log": true,
      "status": "INFO"
     },
     "output_type": "display_data"
    },
    {
     "data": {
      "text/plain": [
       "[2021-12-10 12:03:50.535979] INFO: moduleinvoker: dropnan.v1 运行完成[0.694489s]."
      ]
     },
     "metadata": {
      "is_log": true,
      "status": "INFO"
     },
     "output_type": "display_data"
    },
    {
     "data": {
      "text/plain": [
       "[2021-12-10 12:03:50.552948] INFO: moduleinvoker: stock_ranker_train.v6 开始运行.."
      ]
     },
     "metadata": {
      "is_log": true,
      "status": "INFO"
     },
     "output_type": "display_data"
    },
    {
     "data": {
      "text/plain": [
       "[2021-12-10 12:03:51.488254] INFO: StockRanker: 特征预处理 .."
      ]
     },
     "metadata": {
      "is_log": true,
      "status": "INFO"
     },
     "output_type": "display_data"
    },
    {
     "data": {
      "text/plain": [
       "[2021-12-10 12:03:51.555287] INFO: StockRanker: prepare data: training .."
      ]
     },
     "metadata": {
      "is_log": true,
      "status": "INFO"
     },
     "output_type": "display_data"
    },
    {
     "data": {
      "text/plain": [
       "[2021-12-10 12:03:51.602100] INFO: StockRanker: sort .."
      ]
     },
     "metadata": {
      "is_log": true,
      "status": "INFO"
     },
     "output_type": "display_data"
    },
    {
     "data": {
      "text/plain": [
       "[2021-12-10 12:03:57.258330] INFO: StockRanker: prepare data: test .."
      ]
     },
     "metadata": {
      "is_log": true,
      "status": "INFO"
     },
     "output_type": "display_data"
    },
    {
     "data": {
      "text/plain": [
       "[2021-12-10 12:03:57.296777] INFO: StockRanker: sort .."
      ]
     },
     "metadata": {
      "is_log": true,
      "status": "INFO"
     },
     "output_type": "display_data"
    },
    {
     "data": {
      "text/plain": [
       "[2021-12-10 12:03:59.355303] INFO: StockRanker训练: 2eaa3118 准备训练: 214074 行数, test: 214074 rows"
      ]
     },
     "metadata": {
      "is_log": true,
      "status": "INFO"
     },
     "output_type": "display_data"
    },
    {
     "data": {
      "text/plain": [
       "[2021-12-10 12:03:59.357761] INFO: StockRanker训练: AI模型训练，将在214074*1=21.41万数据上对模型训练进行20轮迭代训练。预计将需要1～2分钟。请耐心等待。"
      ]
     },
     "metadata": {
      "is_log": true,
      "status": "INFO"
     },
     "output_type": "display_data"
    },
    {
     "data": {
      "text/plain": [
       "[2021-12-10 12:03:59.641718] INFO: StockRanker训练: 正在训练 .."
      ]
     },
     "metadata": {
      "is_log": true,
      "status": "INFO"
     },
     "output_type": "display_data"
    },
    {
     "data": {
      "text/plain": [
       "[2021-12-10 12:04:00.785281] INFO: StockRanker训练: 任务状态: Pending"
      ]
     },
     "metadata": {
      "is_log": true,
      "status": "INFO"
     },
     "output_type": "display_data"
    },
    {
     "data": {
      "text/plain": [
       "[2021-12-10 12:04:10.834805] INFO: StockRanker训练: 任务状态: Running"
      ]
     },
     "metadata": {
      "is_log": true,
      "status": "INFO"
     },
     "output_type": "display_data"
    },
    {
     "data": {
      "text/plain": [
       "[2021-12-10 12:04:20.897257] INFO: StockRanker训练: 00:00:04.4184400, finished iteration 1"
      ]
     },
     "metadata": {
      "is_log": true,
      "status": "INFO"
     },
     "output_type": "display_data"
    },
    {
     "data": {
      "text/plain": [
       "[2021-12-10 12:04:20.899173] INFO: StockRanker训练: 00:00:05.2903318, finished iteration 2"
      ]
     },
     "metadata": {
      "is_log": true,
      "status": "INFO"
     },
     "output_type": "display_data"
    },
    {
     "data": {
      "text/plain": [
       "[2021-12-10 12:04:20.901495] INFO: StockRanker训练: 00:00:05.7487885, finished iteration 3"
      ]
     },
     "metadata": {
      "is_log": true,
      "status": "INFO"
     },
     "output_type": "display_data"
    },
    {
     "data": {
      "text/plain": [
       "[2021-12-10 12:04:20.902919] INFO: StockRanker训练: 00:00:06.2865973, finished iteration 4"
      ]
     },
     "metadata": {
      "is_log": true,
      "status": "INFO"
     },
     "output_type": "display_data"
    },
    {
     "data": {
      "text/plain": [
       "[2021-12-10 12:04:20.904086] INFO: StockRanker训练: 00:00:06.8930647, finished iteration 5"
      ]
     },
     "metadata": {
      "is_log": true,
      "status": "INFO"
     },
     "output_type": "display_data"
    },
    {
     "data": {
      "text/plain": [
       "[2021-12-10 12:04:20.905205] INFO: StockRanker训练: 00:00:07.5074588, finished iteration 6"
      ]
     },
     "metadata": {
      "is_log": true,
      "status": "INFO"
     },
     "output_type": "display_data"
    },
    {
     "data": {
      "text/plain": [
       "[2021-12-10 12:04:20.906297] INFO: StockRanker训练: 00:00:08.0687402, finished iteration 7"
      ]
     },
     "metadata": {
      "is_log": true,
      "status": "INFO"
     },
     "output_type": "display_data"
    },
    {
     "data": {
      "text/plain": [
       "[2021-12-10 12:04:20.907402] INFO: StockRanker训练: 00:00:08.5057801, finished iteration 8"
      ]
     },
     "metadata": {
      "is_log": true,
      "status": "INFO"
     },
     "output_type": "display_data"
    },
    {
     "data": {
      "text/plain": [
       "[2021-12-10 12:04:20.908478] INFO: StockRanker训练: 00:00:09.0059265, finished iteration 9"
      ]
     },
     "metadata": {
      "is_log": true,
      "status": "INFO"
     },
     "output_type": "display_data"
    },
    {
     "data": {
      "text/plain": [
       "[2021-12-10 12:04:20.909654] INFO: StockRanker训练: 00:00:10.2147871, finished iteration 10"
      ]
     },
     "metadata": {
      "is_log": true,
      "status": "INFO"
     },
     "output_type": "display_data"
    },
    {
     "data": {
      "text/plain": [
       "[2021-12-10 12:04:20.910885] INFO: StockRanker训练: 00:00:11.0390502, finished iteration 11"
      ]
     },
     "metadata": {
      "is_log": true,
      "status": "INFO"
     },
     "output_type": "display_data"
    },
    {
     "data": {
      "text/plain": [
       "[2021-12-10 12:04:31.021236] INFO: StockRanker训练: 00:00:11.7277366, finished iteration 12"
      ]
     },
     "metadata": {
      "is_log": true,
      "status": "INFO"
     },
     "output_type": "display_data"
    },
    {
     "data": {
      "text/plain": [
       "[2021-12-10 12:04:31.022790] INFO: StockRanker训练: 00:00:12.2946347, finished iteration 13"
      ]
     },
     "metadata": {
      "is_log": true,
      "status": "INFO"
     },
     "output_type": "display_data"
    },
    {
     "data": {
      "text/plain": [
       "[2021-12-10 12:04:31.023946] INFO: StockRanker训练: 00:00:12.9677751, finished iteration 14"
      ]
     },
     "metadata": {
      "is_log": true,
      "status": "INFO"
     },
     "output_type": "display_data"
    },
    {
     "data": {
      "text/plain": [
       "[2021-12-10 12:04:31.024971] INFO: StockRanker训练: 00:00:13.4132176, finished iteration 15"
      ]
     },
     "metadata": {
      "is_log": true,
      "status": "INFO"
     },
     "output_type": "display_data"
    },
    {
     "data": {
      "text/plain": [
       "[2021-12-10 12:04:31.026077] INFO: StockRanker训练: 00:00:13.9507846, finished iteration 16"
      ]
     },
     "metadata": {
      "is_log": true,
      "status": "INFO"
     },
     "output_type": "display_data"
    },
    {
     "data": {
      "text/plain": [
       "[2021-12-10 12:04:31.027183] INFO: StockRanker训练: 00:00:14.4339078, finished iteration 17"
      ]
     },
     "metadata": {
      "is_log": true,
      "status": "INFO"
     },
     "output_type": "display_data"
    },
    {
     "data": {
      "text/plain": [
       "[2021-12-10 12:04:31.028236] INFO: StockRanker训练: 00:00:14.9696938, finished iteration 18"
      ]
     },
     "metadata": {
      "is_log": true,
      "status": "INFO"
     },
     "output_type": "display_data"
    },
    {
     "data": {
      "text/plain": [
       "[2021-12-10 12:04:31.029246] INFO: StockRanker训练: 00:00:15.4887972, finished iteration 19"
      ]
     },
     "metadata": {
      "is_log": true,
      "status": "INFO"
     },
     "output_type": "display_data"
    },
    {
     "data": {
      "text/plain": [
       "[2021-12-10 12:04:31.030469] INFO: StockRanker训练: 00:00:16.1417754, finished iteration 20"
      ]
     },
     "metadata": {
      "is_log": true,
      "status": "INFO"
     },
     "output_type": "display_data"
    },
    {
     "data": {
      "text/plain": [
       "[2021-12-10 12:04:31.031554] INFO: StockRanker训练: 任务状态: Succeeded"
      ]
     },
     "metadata": {
      "is_log": true,
      "status": "INFO"
     },
     "output_type": "display_data"
    },
    {
     "data": {
      "text/html": [
       "<div id='bigchart-3406c67f4f7e45e5a6602f75df933144' class='bigchart display' style='display:none'><ul class='nav nav-tabs' style='padding-left: 0;'><li class='tabtitle' style='margin: 0;'><span style='margin: 0;font-size: 1.2em;display: inline-block;padding: 10px 10px;'>StockRanker</span></li><li class='active'><a>特征重要性</a></li><li><a>模型</a></li><li><a>训练曲线</a></li></ul><div class='tab-content' style='min-height: 100px;text-align: center;'><div class='tab-pane active' id='特征重要性'><div id=\"bigchart-c7775f80757f4758858b367441d720a1\" class=\"bigchart\"></div><div class=\"bigchart-data\"><pre style=\"display:none\">bigcharts-data-start/{\"chart\":{\"height\":400,\"type\":\"column\",\"renderTo\":\"bigchart-c7775f80757f4758858b367441d720a1\"},\"legend\":{\"enabled\":true},\"title\":{\"text\":\"\\u7279\\u5f81\\u91cd\\u8981\\u6027\"},\"stock\":false,\"series\":[{\"name\":\"\\u7279\\u5f81\\u91cd\\u8981\\u6027\",\"yAxis\":0,\"data\":[[\"pe_ttm_0\",777.9607]]}],\"xAxis\":{\"title\":{\"text\":\"\\u7279\\u5f81\"},\"categories\":[\"pe_ttm_0\"]}}/bigcharts-data-end</pre></div></div><div class='tab-pane' id='模型'><div id=\"bigchart-2c508b3492414afdae888dd648e57206\" class=\"bigchart\"></div><div class=\"bigchart-data\"><pre style=\"display:none\">bigcharts-data-start/{\"name\":\"sum()\",\"tips\":\"sum()\",\"type\":\"agg\",\"c\":[{\"c\":[{\"c\":[{\"c\":[{\"v\":\"-0.178\"},{\"c\":[{\"c\":[{\"v\":\"-0.035\"},{\"v\":\"-0.101\"}],\"f\":1,\"v\":12.5},{\"v\":\"-0.176\"}],\"f\":1,\"v\":20.5}],\"f\":1,\"v\":6.5},{\"c\":[{\"c\":[{\"v\":\"0.2204\"},{\"v\":\"0.1327\"}],\"f\":1,\"v\":80.5},{\"c\":[{\"v\":\"0.0730\"},{\"c\":[{\"v\":\"0.0244\"},{\"v\":\"0.1027\"}],\"f\":1,\"v\":319.5}],\"f\":1,\"v\":272.5}],\"f\":1,\"v\":165.5}],\"f\":1,\"v\":27.5},{\"c\":[{\"c\":[{\"c\":[{\"v\":\"-0.077\"},{\"c\":[{\"c\":[{\"v\":\"0.0021\"},{\"v\":\"0.0706\"}],\"f\":1,\"v\":519.5},{\"c\":[{\"c\":[{\"c\":[{\"v\":\"-0.037\"},{\"v\":\"-0.009\"}],\"f\":1,\"v\":570.5},{\"c\":[{\"v\":\"-0.055\"},{\"c\":[{\"v\":\"0.0245\"},{\"v\":\"-0.039\"}],\"f\":1,\"v\":766.5}],\"f\":1,\"v\":753.5}],\"f\":1,\"v\":729.5},{\"v\":\"0.0132\"}],\"f\":1,\"v\":790.5}],\"f\":1,\"v\":527.5}],\"f\":1,\"v\":342.5},{\"c\":[{\"c\":[{\"v\":\"-0.027\"},{\"c\":[{\"c\":[{\"v\":\"-0.066\"},{\"v\":\"-0.132\"}],\"f\":1,\"v\":865.5},{\"v\":\"-0.048\"}],\"f\":1,\"v\":873.5}],\"f\":1,\"v\":850.5},{\"c\":[{\"c\":[{\"v\":\"-0.020\"},{\"v\":\"0.0756\"}],\"f\":1,\"v\":945.5},{\"c\":[{\"c\":[{\"v\":\"-0.042\"},{\"v\":\"-0.107\"}],\"f\":1,\"v\":968.5},{\"v\":\"-0.013\"}],\"f\":1,\"v\":973.5}],\"f\":1,\"v\":950.5}],\"f\":1,\"v\":884.5}],\"f\":1,\"v\":813.5},{\"c\":[{\"c\":[{\"v\":\"-0.116\"},{\"v\":\"-0.040\"}],\"f\":1,\"v\":1010.5},{\"v\":\"-0.191\"}],\"f\":1,\"v\":1015.5}],\"f\":1,\"v\":983.5}],\"f\":1,\"v\":333.5},{\"c\":[{\"c\":[{\"v\":\"0.0781\"},{\"c\":[{\"v\":\"-0.129\"},{\"c\":[{\"c\":[{\"v\":\"-0.074\"},{\"c\":[{\"c\":[{\"v\":\"-0.092\"},{\"v\":\"-0.105\"}],\"f\":1,\"v\":46.5},{\"v\":\"-0.070\"}],\"f\":1,\"v\":55.5}],\"f\":1,\"v\":37.5},{\"c\":[{\"c\":[{\"v\":\"-0.121\"},{\"v\":\"-0.090\"}],\"f\":1,\"v\":67.5},{\"v\":\"-0.138\"}],\"f\":1,\"v\":76.5}],\"f\":1,\"v\":61.5}],\"f\":1,\"v\":32.5}],\"f\":1,\"v\":27.5},{\"c\":[{\"c\":[{\"c\":[{\"c\":[{\"v\":\"-0.042\"},{\"v\":\"0.0123\"}],\"f\":1,\"v\":97.5},{\"v\":\"-0.054\"}],\"f\":1,\"v\":103.5},{\"c\":[{\"c\":[{\"c\":[{\"v\":\"-0.031\"},{\"c\":[{\"v\":\"0.0213\"},{\"v\":\"-0.015\"}],\"f\":1,\"v\":225.5}],\"f\":1,\"v\":209.5},{\"v\":\"0.0176\"}],\"f\":1,\"v\":318.5},{\"v\":\"-0.026\"}],\"f\":1,\"v\":352.5}],\"f\":1,\"v\":165.5},{\"c\":[{\"c\":[{\"c\":[{\"c\":[{\"v\":\"0.0974\"},{\"v\":\"0.0667\"}],\"f\":1,\"v\":527.5},{\"v\":\"0.0868\"}],\"f\":1,\"v\":649.5},{\"c\":[{\"c\":[{\"c\":[{\"c\":[{\"v\":\"0.0762\"},{\"v\":\"0.0046\"}],\"f\":1,\"v\":753.5},{\"v\":\"0.0878\"}],\"f\":1,\"v\":766.5},{\"v\":\"0.0118\"}],\"f\":1,\"v\":789.5},{\"c\":[{\"v\":\"0.1085\"},{\"v\":\"0.0722\"}],\"f\":1,\"v\":850.5}],\"f\":1,\"v\":813.5}],\"f\":1,\"v\":737.5},{\"c\":[{\"c\":[{\"c\":[{\"v\":\"0.1231\"},{\"v\":\"0.0818\"}],\"f\":1,\"v\":946.5},{\"v\":\"0.1534\"}],\"f\":1,\"v\":973.5},{\"v\":\"0.0749\"}],\"f\":1,\"v\":985.5}],\"f\":1,\"v\":884.5}],\"f\":1,\"v\":518.5}],\"f\":1,\"v\":81.5},{\"c\":[{\"c\":[{\"c\":[{\"c\":[{\"v\":\"0.0200\"},{\"c\":[{\"c\":[{\"v\":\"-0.076\"},{\"v\":\"-0.050\"}],\"f\":1,\"v\":38.5},{\"v\":\"-0.016\"}],\"f\":1,\"v\":61.5}],\"f\":1,\"v\":30.5},{\"c\":[{\"v\":\"-0.006\"},{\"c\":[{\"v\":\"0.0259\"},{\"c\":[{\"c\":[{\"v\":\"0.0099\"},{\"v\":\"-0.036\"}],\"f\":1,\"v\":319.5},{\"v\":\"0.0193\"}],\"f\":1,\"v\":333.5}],\"f\":1,\"v\":262.5}],\"f\":1,\"v\":209.5}],\"f\":1,\"v\":147.5},{\"c\":[{\"v\":\"-0.069\"},{\"v\":\"-0.074\"}],\"f\":1,\"v\":524.5}],\"f\":1,\"v\":519.5},{\"c\":[{\"c\":[{\"c\":[{\"c\":[{\"v\":\"0.0170\"},{\"v\":\"-0.007\"}],\"f\":1,\"v\":591.5},{\"c\":[{\"c\":[{\"v\":\"0.0473\"},{\"v\":\"0.0309\"}],\"f\":1,\"v\":683.5},{\"c\":[{\"v\":\"-0.015\"},{\"v\":\"0.0128\"}],\"f\":1,\"v\":847.5}],\"f\":1,\"v\":829.5}],\"f\":1,\"v\":649.5},{\"c\":[{\"c\":[{\"c\":[{\"v\":\"-0.026\"},{\"v\":\"-0.062\"}],\"f\":1,\"v\":899.5},{\"c\":[{\"v\":\"0.0133\"},{\"c\":[{\"v\":\"-0.048\"},{\"c\":[{\"v\":\"0.0006\"},{\"v\":\"-0.032\"}],\"f\":1,\"v\":923.5}],\"f\":1,\"v\":918.5}],\"f\":1,\"v\":909.5}],\"f\":1,\"v\":904.5},{\"c\":[{\"v\":\"0.0142\"},{\"v\":\"-0.018\"}],\"f\":1,\"v\":940.5}],\"f\":1,\"v\":934.5}],\"f\":1,\"v\":892.5},{\"c\":[{\"c\":[{\"c\":[{\"v\":\"0.0142\"},{\"v\":\"0.0612\"}],\"f\":1,\"v\":950.5},{\"c\":[{\"v\":\"0.0586\"},{\"v\":\"0.0301\"}],\"f\":1,\"v\":978.5}],\"f\":1,\"v\":973.5},{\"v\":\"0.0318\"}],\"f\":1,\"v\":986.5}],\"f\":1,\"v\":945.5}],\"f\":1,\"v\":529.5},{\"c\":[{\"c\":[{\"c\":[{\"v\":\"-0.006\"},{\"c\":[{\"v\":\"0.0138\"},{\"v\":\"-0.003\"}],\"f\":1,\"v\":591.5}],\"f\":1,\"v\":367.5},{\"c\":[{\"c\":[{\"v\":\"-0.092\"},{\"c\":[{\"v\":\"-0.053\"},{\"c\":[{\"v\":\"-0.083\"},{\"v\":\"-0.066\"}],\"f\":1,\"v\":670.5}],\"f\":1,\"v\":665.5}],\"f\":1,\"v\":658.5},{\"c\":[{\"c\":[{\"v\":\"-0.020\"},{\"c\":[{\"v\":\"0.0361\"},{\"v\":\"-0.004\"}],\"f\":1,\"v\":698.5}],\"f\":1,\"v\":692.5},{\"v\":\"-0.024\"}],\"f\":1,\"v\":712.5}],\"f\":1,\"v\":683.5}],\"f\":1,\"v\":649.5},{\"c\":[{\"c\":[{\"c\":[{\"c\":[{\"v\":\"0.0278\"},{\"v\":\"0.0112\"}],\"f\":1,\"v\":732.5},{\"c\":[{\"c\":[{\"v\":\"0.0305\"},{\"v\":\"0.0431\"}],\"f\":1,\"v\":821.5},{\"v\":\"0.0184\"}],\"f\":1,\"v\":829.5}],\"f\":1,\"v\":800.5},{\"v\":\"0.0036\"}],\"f\":1,\"v\":856.5},{\"c\":[{\"c\":[{\"c\":[{\"v\":\"0.0599\"},{\"c\":[{\"v\":\"0.0229\"},{\"c\":[{\"v\":\"0.0591\"},{\"c\":[{\"v\":\"0.0188\"},{\"c\":[{\"v\":\"0.0660\"},{\"v\":\"0.0379\"}],\"f\":1,\"v\":923.5}],\"f\":1,\"v\":918.5}],\"f\":1,\"v\":909.5}],\"f\":1,\"v\":904.5}],\"f\":1,\"v\":892.5},{\"c\":[{\"v\":\"0.0665\"},{\"v\":\"0.0489\"}],\"f\":1,\"v\":942.5}],\"f\":1,\"v\":934.5},{\"c\":[{\"v\":\"-0.019\"},{\"c\":[{\"c\":[{\"v\":\"0.0167\"},{\"v\":\"0.0309\"}],\"f\":1,\"v\":958.5},{\"c\":[{\"v\":\"-0.006\"},{\"v\":\"0.0244\"}],\"f\":1,\"v\":982.5}],\"f\":1,\"v\":976.5}],\"f\":1,\"v\":952.5}],\"f\":1,\"v\":947.5}],\"f\":1,\"v\":884.5}],\"f\":1,\"v\":719.5},{\"c\":[{\"c\":[{\"c\":[{\"c\":[{\"v\":\"-0.022\"},{\"v\":\"0.0503\"}],\"f\":1,\"v\":11.5},{\"c\":[{\"v\":\"-0.041\"},{\"c\":[{\"v\":\"-0.009\"},{\"v\":\"-0.022\"}],\"f\":1,\"v\":155.5}],\"f\":1,\"v\":53.5}],\"f\":1,\"v\":20.5},{\"c\":[{\"c\":[{\"c\":[{\"v\":\"0.0055\"},{\"c\":[{\"v\":\"0.0436\"},{\"v\":\"0.0091\"}],\"f\":1,\"v\":521.5}],\"f\":1,\"v\":515.5},{\"c\":[{\"v\":\"-0.014\"},{\"c\":[{\"v\":\"0.0029\"},{\"v\":\"-0.015\"}],\"f\":1,\"v\":766.5}],\"f\":1,\"v\":634.5}],\"f\":1,\"v\":533.5},{\"c\":[{\"c\":[{\"v\":\"0.0180\"},{\"v\":\"0.0266\"}],\"f\":1,\"v\":821.5},{\"c\":[{\"v\":\"-0.002\"},{\"v\":\"-0.009\"}],\"f\":1,\"v\":884.5}],\"f\":1,\"v\":829.5}],\"f\":1,\"v\":792.5}],\"f\":1,\"v\":367.5},{\"c\":[{\"c\":[{\"c\":[{\"c\":[{\"c\":[{\"c\":[{\"c\":[{\"c\":[{\"v\":\"0.0171\"},{\"v\":\"-0.013\"}],\"f\":1,\"v\":899.5},{\"c\":[{\"v\":\"0.0330\"},{\"v\":\"0.0151\"}],\"f\":1,\"v\":909.5}],\"f\":1,\"v\":904.5},{\"v\":\"0.0376\"}],\"f\":1,\"v\":917.5},{\"c\":[{\"v\":\"-0.004\"},{\"v\":\"0.0308\"}],\"f\":1,\"v\":929.5}],\"f\":1,\"v\":922.5},{\"v\":\"-0.013\"}],\"f\":1,\"v\":934.5},{\"c\":[{\"v\":\"0.0399\"},{\"c\":[{\"v\":\"-0.006\"},{\"c\":[{\"v\":\"0.0326\"},{\"v\":\"0.0133\"}],\"f\":1,\"v\":968.5}],\"f\":1,\"v\":958.5}],\"f\":1,\"v\":948.5}],\"f\":1,\"v\":939.5},{\"c\":[{\"v\":\"0.0239\"},{\"v\":\"0.0374\"}],\"f\":1,\"v\":978.5}],\"f\":1,\"v\":973.5},{\"v\":\"-0.007\"}],\"f\":1,\"v\":986.5}],\"f\":1,\"v\":889.5},{\"c\":[{\"c\":[{\"c\":[{\"c\":[{\"v\":\"-0.025\"},{\"v\":\"0.0450\"}],\"f\":1,\"v\":11.5},{\"c\":[{\"v\":\"-0.029\"},{\"c\":[{\"v\":\"0.0212\"},{\"c\":[{\"c\":[{\"v\":\"-0.011\"},{\"c\":[{\"v\":\"0.0287\"},{\"v\":\"0.0057\"}],\"f\":1,\"v\":521.5}],\"f\":1,\"v\":515.5},{\"v\":\"-0.017\"}],\"f\":1,\"v\":535.5}],\"f\":1,\"v\":102.5}],\"f\":1,\"v\":95.5}],\"f\":1,\"v\":19.5},{\"c\":[{\"v\":\"0.0164\"},{\"c\":[{\"v\":\"-0.012\"},{\"c\":[{\"c\":[{\"v\":\"0.0080\"},{\"v\":\"0.0307\"}],\"f\":1,\"v\":726.5},{\"c\":[{\"v\":\"-0.008\"},{\"c\":[{\"v\":\"0.0172\"},{\"v\":\"-0.006\"}],\"f\":1,\"v\":829.5}],\"f\":1,\"v\":792.5}],\"f\":1,\"v\":732.5}],\"f\":1,\"v\":719.5}],\"f\":1,\"v\":683.5}],\"f\":1,\"v\":649.5},{\"c\":[{\"c\":[{\"c\":[{\"v\":\"0.0424\"},{\"c\":[{\"c\":[{\"c\":[{\"v\":\"-0.003\"},{\"v\":\"0.0256\"}],\"f\":1,\"v\":897.5},{\"c\":[{\"v\":\"-0.018\"},{\"v\":\"-0.006\"}],\"f\":1,\"v\":911.5}],\"f\":1,\"v\":906.5},{\"c\":[{\"c\":[{\"c\":[{\"v\":\"0.0316\"},{\"c\":[{\"v\":\"0.0089\"},{\"v\":\"0.0345\"}],\"f\":1,\"v\":929.5}],\"f\":1,\"v\":923.5},{\"v\":\"0.0342\"}],\"f\":1,\"v\":939.5},{\"c\":[{\"c\":[{\"c\":[{\"v\":\"0.0057\"},{\"v\":\"-0.019\"}],\"f\":1,\"v\":955.5},{\"v\":\"0.0119\"}],\"f\":1,\"v\":960.5},{\"v\":\"0.0183\"}],\"f\":1,\"v\":965.5}],\"f\":1,\"v\":948.5}],\"f\":1,\"v\":918.5}],\"f\":1,\"v\":892.5},{\"v\":\"0.0454\"}],\"f\":1,\"v\":979.5},{\"v\":\"0.0056\"}],\"f\":1,\"v\":986.5}],\"f\":1,\"v\":884.5},{\"c\":[{\"c\":[{\"c\":[{\"c\":[{\"v\":\"-0.029\"},{\"v\":\"0.0556\"}],\"f\":1,\"v\":11.5},{\"c\":[{\"c\":[{\"c\":[{\"c\":[{\"v\":\"-0.021\"},{\"v\":\"-0.005\"}],\"f\":1,\"v\":147.5},{\"c\":[{\"v\":\"-0.049\"},{\"v\":\"-0.014\"}],\"f\":1,\"v\":239.5}],\"f\":1,\"v\":225.5},{\"v\":\"-0.007\"}],\"f\":1,\"v\":268.5},{\"v\":\"-0.024\"}],\"f\":1,\"v\":591.5}],\"f\":1,\"v\":17.5},{\"c\":[{\"v\":\"0.0170\"},{\"c\":[{\"v\":\"-0.010\"},{\"c\":[{\"c\":[{\"v\":\"0.0054\"},{\"v\":\"0.0309\"}],\"f\":1,\"v\":726.5},{\"c\":[{\"v\":\"-0.008\"},{\"c\":[{\"v\":\"0.0146\"},{\"v\":\"-0.006\"}],\"f\":1,\"v\":831.5}],\"f\":1,\"v\":792.5}],\"f\":1,\"v\":732.5}],\"f\":1,\"v\":719.5}],\"f\":1,\"v\":683.5}],\"f\":1,\"v\":656.5},{\"c\":[{\"c\":[{\"c\":[{\"v\":\"0.0324\"},{\"c\":[{\"c\":[{\"v\":\"0.0134\"},{\"v\":\"-0.015\"}],\"f\":1,\"v\":899.5},{\"c\":[{\"c\":[{\"c\":[{\"v\":\"0.0463\"},{\"c\":[{\"v\":\"-0.003\"},{\"c\":[{\"v\":\"0.0197\"},{\"c\":[{\"v\":\"0.0055\"},{\"v\":\"0.0310\"}],\"f\":1,\"v\":929.5}],\"f\":1,\"v\":923.5}],\"f\":1,\"v\":918.5}],\"f\":1,\"v\":909.5},{\"v\":\"0.0300\"}],\"f\":1,\"v\":939.5},{\"c\":[{\"v\":\"-0.003\"},{\"c\":[{\"v\":\"0.0344\"},{\"v\":\"0.0070\"}],\"f\":1,\"v\":968.5}],\"f\":1,\"v\":958.5}],\"f\":1,\"v\":948.5}],\"f\":1,\"v\":904.5}],\"f\":1,\"v\":892.5},{\"c\":[{\"v\":\"0.0391\"},{\"v\":\"0.0200\"}],\"f\":1,\"v\":978.5}],\"f\":1,\"v\":973.5},{\"v\":\"-0.007\"}],\"f\":1,\"v\":986.5}],\"f\":1,\"v\":884.5},{\"c\":[{\"c\":[{\"c\":[{\"c\":[{\"v\":\"-0.012\"},{\"v\":\"0.0540\"}],\"f\":1,\"v\":11.5},{\"c\":[{\"v\":\"-0.023\"},{\"c\":[{\"c\":[{\"c\":[{\"v\":\"-0.006\"},{\"v\":\"-0.018\"}],\"f\":1,\"v\":412.5},{\"v\":\"0.0118\"}],\"f\":1,\"v\":515.5},{\"v\":\"-0.022\"}],\"f\":1,\"v\":535.5}],\"f\":1,\"v\":147.5}],\"f\":1,\"v\":17.5},{\"c\":[{\"c\":[{\"c\":[{\"c\":[{\"c\":[{\"c\":[{\"c\":[{\"v\":\"0.0087\"},{\"v\":\"-0.011\"}],\"f\":1,\"v\":622.5},{\"v\":\"0.0161\"}],\"f\":1,\"v\":658.5},{\"v\":\"-0.020\"}],\"f\":1,\"v\":683.5},{\"v\":\"0.0268\"}],\"f\":1,\"v\":692.5},{\"v\":\"-0.004\"}],\"f\":1,\"v\":698.5},{\"c\":[{\"v\":\"0.0146\"},{\"v\":\"-0.001\"}],\"f\":1,\"v\":831.5}],\"f\":1,\"v\":792.5},{\"v\":\"-0.015\"}],\"f\":1,\"v\":856.5}],\"f\":1,\"v\":580.5},{\"c\":[{\"c\":[{\"c\":[{\"v\":\"0.0303\"},{\"c\":[{\"v\":\"0.0030\"},{\"c\":[{\"v\":\"0.0346\"},{\"c\":[{\"v\":\"-0.001\"},{\"c\":[{\"c\":[{\"c\":[{\"v\":\"0.0261\"},{\"c\":[{\"v\":\"0.0045\"},{\"v\":\"0.0311\"}],\"f\":1,\"v\":929.5}],\"f\":1,\"v\":923.5},{\"v\":\"0.0286\"}],\"f\":1,\"v\":939.5},{\"c\":[{\"v\":\"0.0029\"},{\"c\":[{\"v\":\"0.0335\"},{\"v\":\"0.0074\"}],\"f\":1,\"v\":968.5}],\"f\":1,\"v\":960.5}],\"f\":1,\"v\":947.5}],\"f\":1,\"v\":918.5}],\"f\":1,\"v\":909.5}],\"f\":1,\"v\":904.5}],\"f\":1,\"v\":890.5},{\"c\":[{\"v\":\"0.0304\"},{\"v\":\"0.0234\"}],\"f\":1,\"v\":981.5}],\"f\":1,\"v\":975.5},{\"v\":\"-0.008\"}],\"f\":1,\"v\":986.5}],\"f\":1,\"v\":884.5},{\"c\":[{\"c\":[{\"c\":[{\"c\":[{\"v\":\"-0.012\"},{\"v\":\"0.0540\"}],\"f\":1,\"v\":11.5},{\"c\":[{\"c\":[{\"v\":\"-0.014\"},{\"c\":[{\"c\":[{\"v\":\"-0.001\"},{\"v\":\"0.0111\"}],\"f\":1,\"v\":502.5},{\"c\":[{\"v\":\"-0.020\"},{\"v\":\"0.0088\"}],\"f\":1,\"v\":580.5}],\"f\":1,\"v\":535.5}],\"f\":1,\"v\":407.5},{\"c\":[{\"v\":\"-0.032\"},{\"v\":\"-0.012\"}],\"f\":1,\"v\":629.5}],\"f\":1,\"v\":591.5}],\"f\":1,\"v\":17.5},{\"c\":[{\"v\":\"0.0127\"},{\"c\":[{\"v\":\"-0.008\"},{\"c\":[{\"v\":\"0.0198\"},{\"c\":[{\"c\":[{\"v\":\"-0.005\"},{\"c\":[{\"c\":[{\"v\":\"0.0083\"},{\"v\":\"0.0226\"}],\"f\":1,\"v\":821.5},{\"v\":\"-0.000\"}],\"f\":1,\"v\":831.5}],\"f\":1,\"v\":792.5},{\"v\":\"-0.014\"}],\"f\":1,\"v\":862.5}],\"f\":1,\"v\":732.5}],\"f\":1,\"v\":719.5}],\"f\":1,\"v\":683.5}],\"f\":1,\"v\":649.5},{\"c\":[{\"c\":[{\"c\":[{\"v\":\"0.0285\"},{\"c\":[{\"v\":\"0.0029\"},{\"c\":[{\"v\":\"0.0296\"},{\"c\":[{\"v\":\"0.0005\"},{\"c\":[{\"c\":[{\"c\":[{\"v\":\"0.0209\"},{\"c\":[{\"v\":\"0.0061\"},{\"v\":\"0.0226\"}],\"f\":1,\"v\":929.5}],\"f\":1,\"v\":923.5},{\"v\":\"0.0278\"}],\"f\":1,\"v\":938.5},{\"c\":[{\"v\":\"0.0047\"},{\"v\":\"0.0307\"}],\"f\":1,\"v\":965.5}],\"f\":1,\"v\":948.5}],\"f\":1,\"v\":918.5}],\"f\":1,\"v\":909.5}],\"f\":1,\"v\":904.5}],\"f\":1,\"v\":892.5},{\"c\":[{\"v\":\"0.0341\"},{\"v\":\"0.0266\"}],\"f\":1,\"v\":978.5}],\"f\":1,\"v\":973.5},{\"v\":\"-0.006\"}],\"f\":1,\"v\":986.5}],\"f\":1,\"v\":884.5},{\"c\":[{\"c\":[{\"c\":[{\"v\":\"-0.015\"},{\"v\":\"0.0477\"}],\"f\":1,\"v\":11.5},{\"c\":[{\"c\":[{\"c\":[{\"v\":\"-0.025\"},{\"c\":[{\"v\":\"0.0086\"},{\"c\":[{\"v\":\"-0.008\"},{\"v\":\"0.0085\"}],\"f\":1,\"v\":375.5}],\"f\":1,\"v\":153.5}],\"f\":1,\"v\":67.5},{\"c\":[{\"v\":\"-0.032\"},{\"c\":[{\"v\":\"0.0002\"},{\"c\":[{\"v\":\"-0.033\"},{\"v\":\"-0.008\"}],\"f\":1,\"v\":570.5}],\"f\":1,\"v\":535.5}],\"f\":1,\"v\":502.5}],\"f\":1,\"v\":412.5},{\"c\":[{\"c\":[{\"v\":\"-9.856\"},{\"c\":[{\"c\":[{\"v\":\"0.0099\"},{\"v\":\"0.0262\"}],\"f\":1,\"v\":821.5},{\"v\":\"0.0016\"}],\"f\":1,\"v\":826.5}],\"f\":1,\"v\":792.5},{\"v\":\"-0.012\"}],\"f\":1,\"v\":856.5}],\"f\":1,\"v\":580.5}],\"f\":1,\"v\":17.5},{\"c\":[{\"c\":[{\"c\":[{\"v\":\"0.0331\"},{\"c\":[{\"c\":[{\"v\":\"0.0034\"},{\"c\":[{\"v\":\"0.0184\"},{\"c\":[{\"v\":\"-0.000\"},{\"c\":[{\"v\":\"0.0184\"},{\"v\":\"0.0098\"}],\"f\":1,\"v\":923.5}],\"f\":1,\"v\":918.5}],\"f\":1,\"v\":909.5}],\"f\":1,\"v\":904.5},{\"c\":[{\"v\":\"0.0264\"},{\"c\":[{\"v\":\"0.0014\"},{\"c\":[{\"v\":\"0.0360\"},{\"v\":\"0.0036\"}],\"f\":1,\"v\":968.5}],\"f\":1,\"v\":960.5}],\"f\":1,\"v\":948.5}],\"f\":1,\"v\":934.5}],\"f\":1,\"v\":892.5},{\"c\":[{\"v\":\"0.0283\"},{\"v\":\"0.0284\"}],\"f\":1,\"v\":978.5}],\"f\":1,\"v\":973.5},{\"c\":[{\"c\":[{\"v\":\"-0.004\"},{\"v\":\"-0.043\"}],\"f\":1,\"v\":1004.5},{\"v\":\"0.0090\"}],\"f\":1,\"v\":1011.5}],\"f\":1,\"v\":986.5}],\"f\":1,\"v\":884.5},{\"c\":[{\"c\":[{\"c\":[{\"v\":\"-0.009\"},{\"v\":\"0.0522\"}],\"f\":1,\"v\":11.5},{\"c\":[{\"c\":[{\"c\":[{\"c\":[{\"c\":[{\"c\":[{\"v\":\"-0.012\"},{\"v\":\"-0.035\"}],\"f\":1,\"v\":179.5},{\"v\":\"0.0094\"}],\"f\":1,\"v\":209.5},{\"v\":\"-0.034\"}],\"f\":1,\"v\":225.5},{\"c\":[{\"c\":[{\"c\":[{\"v\":\"-0.000\"},{\"v\":\"-0.035\"}],\"f\":1,\"v\":262.5},{\"v\":\"0.0118\"}],\"f\":1,\"v\":268.5},{\"c\":[{\"v\":\"-0.018\"},{\"v\":\"-0.007\"}],\"f\":1,\"v\":407.5}],\"f\":1,\"v\":310.5}],\"f\":1,\"v\":242.5},{\"v\":\"-0.037\"}],\"f\":1,\"v\":622.5},{\"c\":[{\"c\":[{\"v\":\"-0.000\"},{\"v\":\"0.0164\"}],\"f\":1,\"v\":658.5},{\"v\":\"0.0006\"}],\"f\":1,\"v\":683.5}],\"f\":1,\"v\":634.5}],\"f\":1,\"v\":16.5},{\"c\":[{\"c\":[{\"c\":[{\"c\":[{\"c\":[{\"v\":\"0.0215\"},{\"c\":[{\"c\":[{\"v\":\"0.0132\"},{\"v\":\"-0.013\"}],\"f\":1,\"v\":899.5},{\"c\":[{\"v\":\"0.0345\"},{\"c\":[{\"v\":\"-0.000\"},{\"c\":[{\"v\":\"0.0205\"},{\"v\":\"0.0115\"}],\"f\":1,\"v\":923.5}],\"f\":1,\"v\":918.5}],\"f\":1,\"v\":909.5}],\"f\":1,\"v\":904.5}],\"f\":1,\"v\":892.5},{\"c\":[{\"v\":\"0.0364\"},{\"v\":\"0.0154\"}],\"f\":1,\"v\":941.5}],\"f\":1,\"v\":934.5},{\"c\":[{\"v\":\"0.0039\"},{\"v\":\"0.0296\"}],\"f\":1,\"v\":965.5}],\"f\":1,\"v\":948.5},{\"c\":[{\"v\":\"0.0222\"},{\"v\":\"0.0258\"}],\"f\":1,\"v\":978.5}],\"f\":1,\"v\":973.5},{\"c\":[{\"v\":\"-0.011\"},{\"v\":\"0.0194\"}],\"f\":1,\"v\":1016.5}],\"f\":1,\"v\":986.5}],\"f\":1,\"v\":884.5},{\"c\":[{\"c\":[{\"c\":[{\"v\":\"-0.013\"},{\"v\":\"0.0454\"}],\"f\":1,\"v\":11.5},{\"c\":[{\"c\":[{\"v\":\"-0.013\"},{\"c\":[{\"c\":[{\"c\":[{\"v\":\"-0.003\"},{\"v\":\"-0.029\"}],\"f\":1,\"v\":508.5},{\"c\":[{\"v\":\"0.0188\"},{\"v\":\"-0.003\"}],\"f\":1,\"v\":526.5}],\"f\":1,\"v\":515.5},{\"v\":\"-0.013\"}],\"f\":1,\"v\":535.5}],\"f\":1,\"v\":397.5},{\"c\":[{\"v\":\"0.0121\"},{\"c\":[{\"c\":[{\"c\":[{\"v\":\"-0.013\"},{\"v\":\"0.0251\"}],\"f\":1,\"v\":692.5},{\"v\":\"-0.016\"}],\"f\":1,\"v\":698.5},{\"c\":[{\"v\":\"0.0178\"},{\"c\":[{\"c\":[{\"v\":\"-0.003\"},{\"c\":[{\"v\":\"0.0115\"},{\"v\":\"0.0001\"}],\"f\":1,\"v\":829.5}],\"f\":1,\"v\":792.5},{\"v\":\"-0.007\"}],\"f\":1,\"v\":862.5}],\"f\":1,\"v\":732.5}],\"f\":1,\"v\":719.5}],\"f\":1,\"v\":683.5}],\"f\":1,\"v\":649.5}],\"f\":1,\"v\":16.5},{\"c\":[{\"c\":[{\"c\":[{\"v\":\"0.0248\"},{\"c\":[{\"v\":\"0.0022\"},{\"c\":[{\"c\":[{\"c\":[{\"v\":\"0.0200\"},{\"c\":[{\"v\":\"-0.001\"},{\"c\":[{\"v\":\"0.0279\"},{\"c\":[{\"v\":\"0.0042\"},{\"v\":\"0.0182\"}],\"f\":1,\"v\":929.5}],\"f\":1,\"v\":923.5}],\"f\":1,\"v\":918.5}],\"f\":1,\"v\":909.5},{\"v\":\"0.0247\"}],\"f\":1,\"v\":938.5},{\"c\":[{\"v\":\"0.0020\"},{\"v\":\"0.0244\"}],\"f\":1,\"v\":965.5}],\"f\":1,\"v\":946.5}],\"f\":1,\"v\":904.5}],\"f\":1,\"v\":892.5},{\"c\":[{\"v\":\"0.0324\"},{\"v\":\"0.0277\"}],\"f\":1,\"v\":978.5}],\"f\":1,\"v\":973.5},{\"v\":\"-0.004\"}],\"f\":1,\"v\":986.5}],\"f\":1,\"v\":887.5},{\"c\":[{\"c\":[{\"c\":[{\"v\":\"-0.013\"},{\"v\":\"0.0318\"}],\"f\":1,\"v\":11.5},{\"c\":[{\"v\":\"-0.013\"},{\"c\":[{\"c\":[{\"c\":[{\"c\":[{\"v\":\"0.0123\"},{\"v\":\"-0.011\"}],\"f\":1,\"v\":464.5},{\"c\":[{\"v\":\"0.0216\"},{\"v\":\"0.0023\"}],\"f\":1,\"v\":521.5}],\"f\":1,\"v\":515.5},{\"v\":\"-0.017\"}],\"f\":1,\"v\":591.5},{\"c\":[{\"v\":\"0.0115\"},{\"c\":[{\"c\":[{\"v\":\"-0.002\"},{\"c\":[{\"c\":[{\"c\":[{\"v\":\"0.0152\"},{\"v\":\"0.0005\"}],\"f\":1,\"v\":808.5},{\"v\":\"0.0241\"}],\"f\":1,\"v\":821.5},{\"c\":[{\"v\":\"-0.016\"},{\"v\":\"0.0031\"}],\"f\":1,\"v\":837.5}],\"f\":1,\"v\":829.5}],\"f\":1,\"v\":792.5},{\"v\":\"-0.011\"}],\"f\":1,\"v\":862.5}],\"f\":1,\"v\":683.5}],\"f\":1,\"v\":649.5}],\"f\":1,\"v\":448.5}],\"f\":1,\"v\":17.5},{\"c\":[{\"c\":[{\"c\":[{\"v\":\"0.0333\"},{\"c\":[{\"c\":[{\"c\":[{\"v\":\"0.0127\"},{\"v\":\"0.0294\"}],\"f\":1,\"v\":901.5},{\"c\":[{\"c\":[{\"v\":\"0.0066\"},{\"v\":\"-0.016\"}],\"f\":1,\"v\":913.5},{\"c\":[{\"v\":\"0.0197\"},{\"v\":\"0.0063\"}],\"f\":1,\"v\":923.5}],\"f\":1,\"v\":918.5}],\"f\":1,\"v\":906.5},{\"c\":[{\"c\":[{\"v\":\"0.0220\"},{\"v\":\"0.0282\"}],\"f\":1,\"v\":943.5},{\"c\":[{\"v\":\"0.0037\"},{\"v\":\"0.0224\"}],\"f\":1,\"v\":965.5}],\"f\":1,\"v\":948.5}],\"f\":1,\"v\":934.5}],\"f\":1,\"v\":890.5},{\"c\":[{\"v\":\"0.0232\"},{\"v\":\"0.0258\"}],\"f\":1,\"v\":978.5}],\"f\":1,\"v\":973.5},{\"v\":\"-0.002\"}],\"f\":1,\"v\":986.5}],\"f\":1,\"v\":884.5},{\"c\":[{\"c\":[{\"c\":[{\"v\":\"-0.015\"},{\"v\":\"0.0280\"}],\"f\":1,\"v\":11.5},{\"c\":[{\"c\":[{\"c\":[{\"v\":\"-0.011\"},{\"c\":[{\"v\":\"0.0152\"},{\"c\":[{\"v\":\"-0.003\"},{\"v\":\"0.0179\"}],\"f\":1,\"v\":586.5}],\"f\":1,\"v\":527.5}],\"f\":1,\"v\":515.5},{\"c\":[{\"v\":\"-0.028\"},{\"v\":\"-0.012\"}],\"f\":1,\"v\":606.5}],\"f\":1,\"v\":591.5},{\"c\":[{\"v\":\"0.0109\"},{\"c\":[{\"v\":\"-0.002\"},{\"c\":[{\"c\":[{\"v\":\"0.0281\"},{\"c\":[{\"v\":\"0.0017\"},{\"v\":\"0.0205\"}],\"f\":1,\"v\":821.5}],\"f\":1,\"v\":808.5},{\"v\":\"-0.003\"}],\"f\":1,\"v\":829.5}],\"f\":1,\"v\":800.5}],\"f\":1,\"v\":683.5}],\"f\":1,\"v\":649.5}],\"f\":1,\"v\":17.5},{\"c\":[{\"c\":[{\"c\":[{\"v\":\"0.0311\"},{\"c\":[{\"v\":\"0.0003\"},{\"c\":[{\"v\":\"0.0277\"},{\"c\":[{\"c\":[{\"v\":\"0.0003\"},{\"v\":\"0.0129\"}],\"f\":1,\"v\":918.5},{\"c\":[{\"c\":[{\"v\":\"0.0230\"},{\"v\":\"0.0259\"}],\"f\":1,\"v\":943.5},{\"c\":[{\"v\":\"0.0043\"},{\"v\":\"0.0225\"}],\"f\":1,\"v\":965.5}],\"f\":1,\"v\":948.5}],\"f\":1,\"v\":934.5}],\"f\":1,\"v\":909.5}],\"f\":1,\"v\":904.5}],\"f\":1,\"v\":892.5},{\"c\":[{\"v\":\"0.0244\"},{\"v\":\"0.0238\"}],\"f\":1,\"v\":978.5}],\"f\":1,\"v\":973.5},{\"c\":[{\"c\":[{\"c\":[{\"v\":\"-0.015\"},{\"v\":\"0.0123\"}],\"f\":1,\"v\":993.5},{\"c\":[{\"v\":\"-0.042\"},{\"v\":\"-0.005\"}],\"f\":1,\"v\":1010.5}],\"f\":1,\"v\":1004.5},{\"v\":\"0.0126\"}],\"f\":1,\"v\":1016.5}],\"f\":1,\"v\":986.5}],\"f\":1,\"v\":884.5},{\"c\":[{\"c\":[{\"c\":[{\"v\":\"-0.013\"},{\"v\":\"0.0281\"}],\"f\":1,\"v\":11.5},{\"c\":[{\"c\":[{\"c\":[{\"v\":\"-0.010\"},{\"v\":\"-0.024\"}],\"f\":1,\"v\":486.5},{\"c\":[{\"v\":\"-0.002\"},{\"v\":\"-0.012\"}],\"f\":1,\"v\":620.5}],\"f\":1,\"v\":503.5},{\"c\":[{\"v\":\"0.0109\"},{\"c\":[{\"c\":[{\"v\":\"-0.002\"},{\"c\":[{\"v\":\"0.0288\"},{\"c\":[{\"c\":[{\"v\":\"-0.006\"},{\"v\":\"0.0136\"}],\"f\":1,\"v\":813.5},{\"c\":[{\"v\":\"-0.012\"},{\"v\":\"0.0047\"}],\"f\":1,\"v\":837.5}],\"f\":1,\"v\":829.5}],\"f\":1,\"v\":808.5}],\"f\":1,\"v\":800.5},{\"c\":[{\"v\":\"-0.024\"},{\"v\":\"0.0038\"}],\"f\":1,\"v\":874.5}],\"f\":1,\"v\":862.5}],\"f\":1,\"v\":683.5}],\"f\":1,\"v\":656.5}],\"f\":1,\"v\":16.5},{\"c\":[{\"c\":[{\"c\":[{\"v\":\"0.0303\"},{\"c\":[{\"c\":[{\"c\":[{\"c\":[{\"v\":\"0.0136\"},{\"v\":\"-0.013\"}],\"f\":1,\"v\":899.5},{\"c\":[{\"v\":\"0.0251\"},{\"c\":[{\"v\":\"0.0008\"},{\"c\":[{\"v\":\"0.0242\"},{\"v\":\"0.0100\"}],\"f\":1,\"v\":923.5}],\"f\":1,\"v\":918.5}],\"f\":1,\"v\":909.5}],\"f\":1,\"v\":904.5},{\"c\":[{\"c\":[{\"v\":\"0.0201\"},{\"v\":\"0.0208\"}],\"f\":1,\"v\":943.5},{\"c\":[{\"v\":\"0.0019\"},{\"v\":\"0.0280\"}],\"f\":1,\"v\":960.5}],\"f\":1,\"v\":948.5}],\"f\":1,\"v\":934.5},{\"v\":\"-0.004\"}],\"f\":1,\"v\":968.5}],\"f\":1,\"v\":890.5},{\"c\":[{\"v\":\"0.0246\"},{\"v\":\"0.0224\"}],\"f\":1,\"v\":978.5}],\"f\":1,\"v\":973.5},{\"v\":\"-0.002\"}],\"f\":1,\"v\":986.5}],\"f\":1,\"v\":884.5},{\"c\":[{\"c\":[{\"c\":[{\"v\":\"-0.012\"},{\"v\":\"0.0268\"}],\"f\":1,\"v\":11.5},{\"c\":[{\"c\":[{\"c\":[{\"c\":[{\"v\":\"-0.024\"},{\"v\":\"0.0212\"}],\"f\":1,\"v\":25.5},{\"v\":\"-0.040\"}],\"f\":1,\"v\":30.5},{\"c\":[{\"c\":[{\"v\":\"-0.006\"},{\"v\":\"0.0347\"}],\"f\":1,\"v\":96.5},{\"c\":[{\"v\":\"-0.019\"},{\"c\":[{\"v\":\"0.0172\"},{\"v\":\"-0.008\"}],\"f\":1,\"v\":155.5}],\"f\":1,\"v\":144.5}],\"f\":1,\"v\":102.5}],\"f\":1,\"v\":53.5},{\"c\":[{\"c\":[{\"c\":[{\"c\":[{\"v\":\"0.0137\"},{\"v\":\"0.0004\"}],\"f\":1,\"v\":665.5},{\"v\":\"-0.011\"}],\"f\":1,\"v\":769.5},{\"c\":[{\"v\":\"0.0120\"},{\"v\":\"0.0032\"}],\"f\":1,\"v\":829.5}],\"f\":1,\"v\":792.5},{\"c\":[{\"v\":\"-0.023\"},{\"v\":\"0.0052\"}],\"f\":1,\"v\":874.5}],\"f\":1,\"v\":862.5}],\"f\":1,\"v\":656.5}],\"f\":1,\"v\":17.5},{\"c\":[{\"c\":[{\"c\":[{\"v\":\"0.0336\"},{\"c\":[{\"c\":[{\"c\":[{\"c\":[{\"v\":\"0.0120\"},{\"v\":\"-0.014\"}],\"f\":1,\"v\":899.5},{\"c\":[{\"v\":\"0.0206\"},{\"v\":\"0.0130\"}],\"f\":1,\"v\":909.5}],\"f\":1,\"v\":904.5},{\"v\":\"0.0026\"}],\"f\":1,\"v\":922.5},{\"c\":[{\"c\":[{\"v\":\"0.0311\"},{\"v\":\"0.0136\"}],\"f\":1,\"v\":941.5},{\"c\":[{\"v\":\"0.0046\"},{\"v\":\"0.0238\"}],\"f\":1,\"v\":965.5}],\"f\":1,\"v\":948.5}],\"f\":1,\"v\":934.5}],\"f\":1,\"v\":890.5},{\"c\":[{\"v\":\"0.0227\"},{\"v\":\"0.0211\"}],\"f\":1,\"v\":978.5}],\"f\":1,\"v\":973.5},{\"v\":\"-0.002\"}],\"f\":1,\"v\":986.5}],\"f\":1,\"v\":884.5},{\"c\":[{\"c\":[{\"c\":[{\"v\":\"-0.013\"},{\"v\":\"0.0267\"}],\"f\":1,\"v\":11.5},{\"c\":[{\"v\":\"-0.008\"},{\"c\":[{\"c\":[{\"c\":[{\"v\":\"0.0142\"},{\"v\":\"-0.002\"}],\"f\":1,\"v\":665.5},{\"v\":\"0.0244\"}],\"f\":1,\"v\":673.5},{\"c\":[{\"c\":[{\"c\":[{\"v\":\"-0.005\"},{\"v\":\"0.0283\"}],\"f\":1,\"v\":692.5},{\"v\":\"-0.013\"}],\"f\":1,\"v\":698.5},{\"c\":[{\"v\":\"0.0199\"},{\"c\":[{\"c\":[{\"v\":\"0.0015\"},{\"v\":\"-0.016\"}],\"f\":1,\"v\":740.5},{\"c\":[{\"c\":[{\"c\":[{\"v\":\"0.0045\"},{\"v\":\"-0.018\"}],\"f\":1,\"v\":787.5},{\"c\":[{\"v\":\"0.0222\"},{\"v\":\"0.0078\"}],\"f\":1,\"v\":801.5}],\"f\":1,\"v\":792.5},{\"v\":\"-0.002\"}],\"f\":1,\"v\":831.5}],\"f\":1,\"v\":754.5}],\"f\":1,\"v\":732.5}],\"f\":1,\"v\":719.5}],\"f\":1,\"v\":678.5}],\"f\":1,\"v\":656.5}],\"f\":1,\"v\":16.5},{\"c\":[{\"v\":\"0.0322\"},{\"c\":[{\"c\":[{\"c\":[{\"c\":[{\"c\":[{\"v\":\"-0.002\"},{\"c\":[{\"v\":\"0.0166\"},{\"v\":\"0.0128\"}],\"f\":1,\"v\":909.5}],\"f\":1,\"v\":904.5},{\"v\":\"-0.006\"}],\"f\":1,\"v\":922.5},{\"c\":[{\"c\":[{\"c\":[{\"v\":\"0.0174\"},{\"v\":\"0.0187\"}],\"f\":1,\"v\":934.5},{\"v\":\"0.0240\"}],\"f\":1,\"v\":943.5},{\"c\":[{\"v\":\"0.0036\"},{\"v\":\"0.0140\"}],\"f\":1,\"v\":965.5}],\"f\":1,\"v\":948.5}],\"f\":1,\"v\":929.5},{\"c\":[{\"v\":\"0.0245\"},{\"v\":\"0.0157\"}],\"f\":1,\"v\":981.5}],\"f\":1,\"v\":974.5},{\"v\":\"-0.002\"}],\"f\":1,\"v\":986.5}],\"f\":1,\"v\":892.5}],\"f\":1,\"v\":886.5},{\"c\":[{\"c\":[{\"c\":[{\"v\":\"-0.013\"},{\"v\":\"0.0305\"}],\"f\":1,\"v\":11.5},{\"c\":[{\"v\":\"-0.008\"},{\"c\":[{\"c\":[{\"v\":\"0.0036\"},{\"v\":\"0.0180\"}],\"f\":1,\"v\":668.5},{\"c\":[{\"v\":\"-0.006\"},{\"c\":[{\"c\":[{\"v\":\"0.0059\"},{\"v\":\"0.0251\"}],\"f\":1,\"v\":726.5},{\"c\":[{\"v\":\"-0.002\"},{\"c\":[{\"c\":[{\"v\":\"0.0237\"},{\"c\":[{\"v\":\"-0.003\"},{\"c\":[{\"v\":\"0.0274\"},{\"v\":\"0.0090\"}],\"f\":1,\"v\":818.5}],\"f\":1,\"v\":813.5}],\"f\":1,\"v\":808.5},{\"v\":\"-0.001\"}],\"f\":1,\"v\":829.5}],\"f\":1,\"v\":800.5}],\"f\":1,\"v\":732.5}],\"f\":1,\"v\":719.5}],\"f\":1,\"v\":683.5}],\"f\":1,\"v\":649.5}],\"f\":1,\"v\":16.5},{\"c\":[{\"c\":[{\"c\":[{\"v\":\"0.0216\"},{\"c\":[{\"c\":[{\"c\":[{\"c\":[{\"c\":[{\"v\":\"0.0108\"},{\"v\":\"0.0243\"}],\"f\":1,\"v\":903.5},{\"c\":[{\"c\":[{\"v\":\"0.0111\"},{\"v\":\"-0.013\"}],\"f\":1,\"v\":913.5},{\"c\":[{\"v\":\"0.0210\"},{\"v\":\"0.0089\"}],\"f\":1,\"v\":923.5}],\"f\":1,\"v\":918.5}],\"f\":1,\"v\":908.5},{\"v\":\"0.0159\"}],\"f\":1,\"v\":938.5},{\"v\":\"0.0240\"}],\"f\":1,\"v\":943.5},{\"c\":[{\"v\":\"0.0002\"},{\"c\":[{\"v\":\"0.0252\"},{\"v\":\"0.0053\"}],\"f\":1,\"v\":964.5}],\"f\":1,\"v\":959.5}],\"f\":1,\"v\":948.5}],\"f\":1,\"v\":890.5},{\"v\":\"0.0370\"}],\"f\":1,\"v\":971.5},{\"c\":[{\"v\":\"-0.005\"},{\"c\":[{\"v\":\"0.0186\"},{\"v\":\"-0.003\"}],\"f\":1,\"v\":988.5}],\"f\":1,\"v\":982.5}],\"f\":1,\"v\":976.5}],\"f\":1,\"v\":884.5},{\"c\":[{\"c\":[{\"c\":[{\"c\":[{\"v\":\"-0.023\"},{\"v\":\"0.0071\"}],\"f\":1,\"v\":7.5},{\"c\":[{\"v\":\"-0.015\"},{\"c\":[{\"v\":\"0.0194\"},{\"c\":[{\"v\":\"-0.040\"},{\"c\":[{\"c\":[{\"v\":\"-0.002\"},{\"v\":\"0.0284\"}],\"f\":1,\"v\":148.5},{\"c\":[{\"c\":[{\"v\":\"-0.014\"},{\"v\":\"-0.040\"}],\"f\":1,\"v\":203.5},{\"c\":[{\"v\":\"0.0099\"},{\"c\":[{\"v\":\"-0.025\"},{\"c\":[{\"v\":\"0.0049\"},{\"v\":\"-0.008\"}],\"f\":1,\"v\":262.5}],\"f\":1,\"v\":239.5}],\"f\":1,\"v\":225.5}],\"f\":1,\"v\":209.5}],\"f\":1,\"v\":155.5}],\"f\":1,\"v\":52.5}],\"f\":1,\"v\":30.5}],\"f\":1,\"v\":25.5}],\"f\":1,\"v\":14.5},{\"c\":[{\"c\":[{\"v\":\"0.0026\"},{\"v\":\"0.0172\"}],\"f\":1,\"v\":668.5},{\"c\":[{\"c\":[{\"c\":[{\"v\":\"-0.000\"},{\"v\":\"0.0135\"}],\"f\":1,\"v\":725.5},{\"v\":\"-0.005\"}],\"f\":1,\"v\":740.5},{\"c\":[{\"c\":[{\"v\":\"0.0257\"},{\"v\":\"0.0109\"}],\"f\":1,\"v\":808.5},{\"v\":\"-0.001\"}],\"f\":1,\"v\":829.5}],\"f\":1,\"v\":800.5}],\"f\":1,\"v\":683.5}],\"f\":1,\"v\":649.5},{\"c\":[{\"c\":[{\"c\":[{\"v\":\"0.0205\"},{\"c\":[{\"v\":\"0.0112\"},{\"c\":[{\"c\":[{\"v\":\"0.0221\"},{\"v\":\"0.0236\"}],\"f\":1,\"v\":943.5},{\"c\":[{\"v\":\"0.0036\"},{\"v\":\"0.0184\"}],\"f\":1,\"v\":965.5}],\"f\":1,\"v\":948.5}],\"f\":1,\"v\":934.5}],\"f\":1,\"v\":890.5},{\"c\":[{\"v\":\"0.0376\"},{\"v\":\"0.0176\"}],\"f\":1,\"v\":981.5}],\"f\":1,\"v\":974.5},{\"v\":\"-0.003\"}],\"f\":1,\"v\":986.5}],\"f\":1,\"v\":884.5},{\"c\":[{\"c\":[{\"c\":[{\"v\":\"-0.012\"},{\"v\":\"0.0363\"}],\"f\":1,\"v\":11.5},{\"c\":[{\"v\":\"-0.007\"},{\"c\":[{\"c\":[{\"c\":[{\"v\":\"0.0092\"},{\"c\":[{\"v\":\"-0.017\"},{\"c\":[{\"v\":\"0.0259\"},{\"c\":[{\"v\":\"-0.011\"},{\"c\":[{\"c\":[{\"v\":\"0.0030\"},{\"v\":\"0.0206\"}],\"f\":1,\"v\":725.5},{\"v\":\"-0.003\"}],\"f\":1,\"v\":732.5}],\"f\":1,\"v\":719.5}],\"f\":1,\"v\":698.5}],\"f\":1,\"v\":692.5}],\"f\":1,\"v\":683.5},{\"c\":[{\"v\":\"0.0118\"},{\"c\":[{\"c\":[{\"v\":\"0.0004\"},{\"v\":\"-0.019\"}],\"f\":1,\"v\":849.5},{\"v\":\"0.0150\"}],\"f\":1,\"v\":854.5}],\"f\":1,\"v\":829.5}],\"f\":1,\"v\":792.5},{\"c\":[{\"v\":\"-0.022\"},{\"v\":\"0.0020\"}],\"f\":1,\"v\":874.5}],\"f\":1,\"v\":862.5}],\"f\":1,\"v\":656.5}],\"f\":1,\"v\":16.5},{\"c\":[{\"c\":[{\"c\":[{\"v\":\"0.0213\"},{\"c\":[{\"c\":[{\"v\":\"0.0102\"},{\"v\":\"-0.012\"}],\"f\":1,\"v\":899.5},{\"c\":[{\"v\":\"0.0258\"},{\"c\":[{\"v\":\"0.0060\"},{\"c\":[{\"c\":[{\"v\":\"0.0137\"},{\"v\":\"0.0151\"}],\"f\":1,\"v\":943.5},{\"c\":[{\"v\":\"0.0034\"},{\"v\":\"0.0164\"}],\"f\":1,\"v\":965.5}],\"f\":1,\"v\":948.5}],\"f\":1,\"v\":934.5}],\"f\":1,\"v\":909.5}],\"f\":1,\"v\":904.5}],\"f\":1,\"v\":890.5},{\"c\":[{\"v\":\"0.0295\"},{\"v\":\"0.0140\"}],\"f\":1,\"v\":981.5}],\"f\":1,\"v\":974.5},{\"c\":[{\"v\":\"0.0034\"},{\"c\":[{\"v\":\"-0.032\"},{\"v\":\"0.0001\"}],\"f\":1,\"v\":1010.5}],\"f\":1,\"v\":1004.5}],\"f\":1,\"v\":986.5}],\"f\":1,\"v\":884.5}],\"features\":[\"pe_ttm_0\"],\"expand_depth\":1,\"__type\":\"tree\",\"renderTo\":\"bigchart-2c508b3492414afdae888dd648e57206\"}/bigcharts-data-end</pre></div></div><div class='tab-pane' id='训练曲线'><div id=\"bigchart-764b60d57a294412a8417cf55d75e9a1\" class=\"bigchart\"></div><div class=\"bigchart-data\"><pre style=\"display:none\">bigcharts-data-start/{\"chart\":{\"height\":400,\"renderTo\":\"bigchart-764b60d57a294412a8417cf55d75e9a1\"},\"legend\":{\"enabled\":true},\"title\":{\"text\":\"NDCG\"},\"stock\":false,\"series\":[{\"name\":\"NDCG@1\",\"yAxis\":0,\"data\":[[1,0.3995],[2,0.4493],[3,0.4718],[4,0.4841],[5,0.4911],[6,0.4941],[7,0.492],[8,0.5006],[9,0.4989],[10,0.499],[11,0.5023],[12,0.5028],[13,0.5038],[14,0.5041],[15,0.5075],[16,0.5045],[17,0.5056],[18,0.5047],[19,0.513],[20,0.515]]},{\"name\":\"NDCG@2\",\"yAxis\":0,\"data\":[[1,0.4184],[2,0.477],[3,0.4925],[4,0.4991],[5,0.5039],[6,0.5139],[7,0.5092],[8,0.5153],[9,0.5134],[10,0.5147],[11,0.5177],[12,0.5172],[13,0.5181],[14,0.5189],[15,0.5219],[16,0.5194],[17,0.5229],[18,0.518],[19,0.5266],[20,0.5268]]},{\"name\":\"NDCG@3\",\"yAxis\":0,\"data\":[[1,0.4334],[2,0.4958],[3,0.5053],[4,0.5098],[5,0.5161],[6,0.5231],[7,0.5227],[8,0.5275],[9,0.5269],[10,0.5266],[11,0.5286],[12,0.5288],[13,0.5301],[14,0.5298],[15,0.5309],[16,0.5302],[17,0.5311],[18,0.53],[19,0.5339],[20,0.5335]]},{\"name\":\"NDCG@4\",\"yAxis\":0,\"data\":[[1,0.4463],[2,0.5076],[3,0.514],[4,0.5217],[5,0.5282],[6,0.5328],[7,0.5322],[8,0.5366],[9,0.5359],[10,0.5381],[11,0.5374],[12,0.5387],[13,0.5395],[14,0.5394],[15,0.5391],[16,0.539],[17,0.5392],[18,0.5375],[19,0.5407],[20,0.5398]]},{\"name\":\"NDCG@5\",\"yAxis\":0,\"data\":[[1,0.4565],[2,0.5175],[3,0.5182],[4,0.5303],[5,0.5377],[6,0.5414],[7,0.5398],[8,0.5427],[9,0.5425],[10,0.5443],[11,0.5434],[12,0.5461],[13,0.5466],[14,0.5471],[15,0.5472],[16,0.5471],[17,0.5473],[18,0.5446],[19,0.548],[20,0.548]]},{\"name\":\"NDCG@6\",\"yAxis\":0,\"data\":[[1,0.4659],[2,0.5244],[3,0.5217],[4,0.5391],[5,0.5442],[6,0.5485],[7,0.5467],[8,0.5491],[9,0.5489],[10,0.5503],[11,0.551],[12,0.5528],[13,0.5524],[14,0.5529],[15,0.5532],[16,0.5527],[17,0.5529],[18,0.5512],[19,0.5549],[20,0.5547]]},{\"name\":\"NDCG@7\",\"yAxis\":0,\"data\":[[1,0.4746],[2,0.5312],[3,0.5243],[4,0.545],[5,0.5507],[6,0.5534],[7,0.5527],[8,0.5548],[9,0.5548],[10,0.5561],[11,0.5566],[12,0.5582],[13,0.5581],[14,0.5579],[15,0.5586],[16,0.5577],[17,0.558],[18,0.5575],[19,0.5605],[20,0.5599]]},{\"name\":\"NDCG@8\",\"yAxis\":0,\"data\":[[1,0.4826],[2,0.5362],[3,0.5266],[4,0.5511],[5,0.5565],[6,0.5594],[7,0.5588],[8,0.5599],[9,0.5606],[10,0.5604],[11,0.5625],[12,0.5637],[13,0.5648],[14,0.5642],[15,0.5646],[16,0.5638],[17,0.5642],[18,0.5626],[19,0.5657],[20,0.5651]]},{\"name\":\"NDCG@9\",\"yAxis\":0,\"data\":[[1,0.4904],[2,0.5417],[3,0.5296],[4,0.5576],[5,0.5623],[6,0.5648],[7,0.5635],[8,0.5648],[9,0.5653],[10,0.5654],[11,0.5664],[12,0.568],[13,0.5688],[14,0.5683],[15,0.5684],[16,0.5682],[17,0.5685],[18,0.5679],[19,0.5702],[20,0.5699]]},{\"name\":\"NDCG@10\",\"yAxis\":0,\"data\":[[1,0.4976],[2,0.5463],[3,0.5335],[4,0.5626],[5,0.5669],[6,0.5689],[7,0.5684],[8,0.5698],[9,0.5706],[10,0.5704],[11,0.5709],[12,0.5723],[13,0.5725],[14,0.5723],[15,0.5731],[16,0.5726],[17,0.5727],[18,0.5728],[19,0.5743],[20,0.5744]]}],\"xAxis\":{\"title\":{\"text\":\"iteration\"}}}/bigcharts-data-end</pre></div></div></div></div><div class='bigchart-data'><pre style='display:none'>bigcharts-data-start/{\"__type\":\"tabs\",\"__id\":\"bigchart-3406c67f4f7e45e5a6602f75df933144\"}/bigcharts-data-end</pre></div>"
      ],
      "text/plain": [
       "<IPython.core.display.HTML object>"
      ]
     },
     "metadata": {},
     "output_type": "display_data"
    },
    {
     "data": {
      "text/plain": [
       "[2021-12-10 12:04:31.430723] INFO: moduleinvoker: stock_ranker_train.v6 运行完成[40.877781s]."
      ]
     },
     "metadata": {
      "is_log": true,
      "status": "INFO"
     },
     "output_type": "display_data"
    },
    {
     "data": {
      "text/plain": [
       "[2021-12-10 12:04:31.444980] INFO: moduleinvoker: input_features.v1 开始运行.."
      ]
     },
     "metadata": {
      "is_log": true,
      "status": "INFO"
     },
     "output_type": "display_data"
    },
    {
     "data": {
      "text/plain": [
       "[2021-12-10 12:04:31.499632] INFO: moduleinvoker: input_features.v1 运行完成[0.054657s]."
      ]
     },
     "metadata": {
      "is_log": true,
      "status": "INFO"
     },
     "output_type": "display_data"
    },
    {
     "data": {
      "text/plain": [
       "[2021-12-10 12:04:31.508745] INFO: moduleinvoker: instruments.v2 开始运行.."
      ]
     },
     "metadata": {
      "is_log": true,
      "status": "INFO"
     },
     "output_type": "display_data"
    },
    {
     "data": {
      "text/plain": [
       "[2021-12-10 12:04:31.522491] INFO: moduleinvoker: 命中缓存"
      ]
     },
     "metadata": {
      "is_log": true,
      "status": "INFO"
     },
     "output_type": "display_data"
    },
    {
     "data": {
      "text/plain": [
       "[2021-12-10 12:04:31.524266] INFO: moduleinvoker: instruments.v2 运行完成[0.015538s]."
      ]
     },
     "metadata": {
      "is_log": true,
      "status": "INFO"
     },
     "output_type": "display_data"
    },
    {
     "data": {
      "text/plain": [
       "[2021-12-10 12:04:31.538393] INFO: moduleinvoker: general_feature_extractor.v7 开始运行.."
      ]
     },
     "metadata": {
      "is_log": true,
      "status": "INFO"
     },
     "output_type": "display_data"
    },
    {
     "data": {
      "text/plain": [
       "[2021-12-10 12:05:37.425546] INFO: 基础特征抽取: 年份 2021, 特征行数=412069"
      ]
     },
     "metadata": {
      "is_log": true,
      "status": "INFO"
     },
     "output_type": "display_data"
    },
    {
     "data": {
      "text/plain": [
       "[2021-12-10 12:05:37.483641] INFO: 基础特征抽取: 总行数: 412069"
      ]
     },
     "metadata": {
      "is_log": true,
      "status": "INFO"
     },
     "output_type": "display_data"
    },
    {
     "data": {
      "text/plain": [
       "[2021-12-10 12:05:37.492646] INFO: moduleinvoker: general_feature_extractor.v7 运行完成[65.954244s]."
      ]
     },
     "metadata": {
      "is_log": true,
      "status": "INFO"
     },
     "output_type": "display_data"
    },
    {
     "data": {
      "text/plain": [
       "[2021-12-10 12:05:37.527303] INFO: moduleinvoker: derived_feature_extractor.v3 开始运行.."
      ]
     },
     "metadata": {
      "is_log": true,
      "status": "INFO"
     },
     "output_type": "display_data"
    },
    {
     "data": {
      "text/plain": [
       "[2021-12-10 12:05:39.143114] INFO: derived_feature_extractor: /y_2021, 412069"
      ]
     },
     "metadata": {
      "is_log": true,
      "status": "INFO"
     },
     "output_type": "display_data"
    },
    {
     "data": {
      "text/plain": [
       "[2021-12-10 12:05:39.324558] INFO: moduleinvoker: derived_feature_extractor.v3 运行完成[1.797245s]."
      ]
     },
     "metadata": {
      "is_log": true,
      "status": "INFO"
     },
     "output_type": "display_data"
    },
    {
     "data": {
      "text/plain": [
       "[2021-12-10 12:05:39.337320] INFO: moduleinvoker: chinaa_stock_filter.v1 开始运行.."
      ]
     },
     "metadata": {
      "is_log": true,
      "status": "INFO"
     },
     "output_type": "display_data"
    },
    {
     "data": {
      "text/plain": [
       "[2021-12-10 12:05:41.403292] INFO: A股股票过滤: 过滤 /y_2021, 29373/0/412069"
      ]
     },
     "metadata": {
      "is_log": true,
      "status": "INFO"
     },
     "output_type": "display_data"
    },
    {
     "data": {
      "text/plain": [
       "[2021-12-10 12:05:41.419202] INFO: A股股票过滤: 过滤完成, 29373 + 0"
      ]
     },
     "metadata": {
      "is_log": true,
      "status": "INFO"
     },
     "output_type": "display_data"
    },
    {
     "data": {
      "text/plain": [
       "[2021-12-10 12:05:41.447864] INFO: moduleinvoker: chinaa_stock_filter.v1 运行完成[2.110551s]."
      ]
     },
     "metadata": {
      "is_log": true,
      "status": "INFO"
     },
     "output_type": "display_data"
    },
    {
     "data": {
      "text/plain": [
       "[2021-12-10 12:05:41.458900] INFO: moduleinvoker: dropnan.v1 开始运行.."
      ]
     },
     "metadata": {
      "is_log": true,
      "status": "INFO"
     },
     "output_type": "display_data"
    },
    {
     "data": {
      "text/plain": [
       "[2021-12-10 12:05:41.611015] INFO: dropnan: /y_2021, 29373/29373"
      ]
     },
     "metadata": {
      "is_log": true,
      "status": "INFO"
     },
     "output_type": "display_data"
    },
    {
     "data": {
      "text/plain": [
       "[2021-12-10 12:05:41.672812] INFO: dropnan: 行数: 29373/29373"
      ]
     },
     "metadata": {
      "is_log": true,
      "status": "INFO"
     },
     "output_type": "display_data"
    },
    {
     "data": {
      "text/plain": [
       "[2021-12-10 12:05:41.678235] INFO: moduleinvoker: dropnan.v1 运行完成[0.219327s]."
      ]
     },
     "metadata": {
      "is_log": true,
      "status": "INFO"
     },
     "output_type": "display_data"
    },
    {
     "data": {
      "text/plain": [
       "[2021-12-10 12:05:41.691987] INFO: moduleinvoker: stock_ranker_predict.v5 开始运行.."
      ]
     },
     "metadata": {
      "is_log": true,
      "status": "INFO"
     },
     "output_type": "display_data"
    },
    {
     "data": {
      "text/plain": [
       "[2021-12-10 12:05:41.827745] INFO: StockRanker预测: /y_2021 .."
      ]
     },
     "metadata": {
      "is_log": true,
      "status": "INFO"
     },
     "output_type": "display_data"
    },
    {
     "data": {
      "text/plain": [
       "[2021-12-10 12:05:42.102053] INFO: moduleinvoker: stock_ranker_predict.v5 运行完成[0.410063s]."
      ]
     },
     "metadata": {
      "is_log": true,
      "status": "INFO"
     },
     "output_type": "display_data"
    },
    {
     "data": {
      "text/plain": [
       "[2021-12-10 12:05:42.123759] INFO: moduleinvoker: select_columns.v3 开始运行.."
      ]
     },
     "metadata": {
      "is_log": true,
      "status": "INFO"
     },
     "output_type": "display_data"
    },
    {
     "name": "stdout",
     "output_type": "stream",
     "text": [
      "列： ['date', 'instrument', 'price_limit_status_0']\n",
      "/y_2021: 29373\n"
     ]
    },
    {
     "data": {
      "text/plain": [
       "[2021-12-10 12:05:42.323182] INFO: moduleinvoker: select_columns.v3 运行完成[0.199405s]."
      ]
     },
     "metadata": {
      "is_log": true,
      "status": "INFO"
     },
     "output_type": "display_data"
    },
    {
     "data": {
      "text/plain": [
       "[2021-12-10 12:05:42.335412] INFO: moduleinvoker: join.v3 开始运行.."
      ]
     },
     "metadata": {
      "is_log": true,
      "status": "INFO"
     },
     "output_type": "display_data"
    },
    {
     "data": {
      "text/plain": [
       "[2021-12-10 12:05:42.735459] INFO: join: /data, 行数=29373/29373, 耗时=0.198134s"
      ]
     },
     "metadata": {
      "is_log": true,
      "status": "INFO"
     },
     "output_type": "display_data"
    },
    {
     "data": {
      "text/plain": [
       "[2021-12-10 12:05:42.773926] INFO: join: 最终行数: 29373"
      ]
     },
     "metadata": {
      "is_log": true,
      "status": "INFO"
     },
     "output_type": "display_data"
    },
    {
     "data": {
      "text/plain": [
       "[2021-12-10 12:05:42.789221] INFO: moduleinvoker: join.v3 运行完成[0.453745s]."
      ]
     },
     "metadata": {
      "is_log": true,
      "status": "INFO"
     },
     "output_type": "display_data"
    },
    {
     "data": {
      "text/plain": [
       "[2021-12-10 12:05:42.801116] INFO: moduleinvoker: input_features.v1 开始运行.."
      ]
     },
     "metadata": {
      "is_log": true,
      "status": "INFO"
     },
     "output_type": "display_data"
    },
    {
     "data": {
      "text/plain": [
       "[2021-12-10 12:05:42.817216] INFO: moduleinvoker: 命中缓存"
      ]
     },
     "metadata": {
      "is_log": true,
      "status": "INFO"
     },
     "output_type": "display_data"
    },
    {
     "data": {
      "text/plain": [
       "[2021-12-10 12:05:42.820020] INFO: moduleinvoker: input_features.v1 运行完成[0.018929s]."
      ]
     },
     "metadata": {
      "is_log": true,
      "status": "INFO"
     },
     "output_type": "display_data"
    },
    {
     "data": {
      "text/plain": [
       "[2021-12-10 12:05:42.827621] INFO: moduleinvoker: use_datasource.v1 开始运行.."
      ]
     },
     "metadata": {
      "is_log": true,
      "status": "INFO"
     },
     "output_type": "display_data"
    },
    {
     "data": {
      "text/plain": [
       "[2021-12-10 12:05:42.841159] INFO: moduleinvoker: 命中缓存"
      ]
     },
     "metadata": {
      "is_log": true,
      "status": "INFO"
     },
     "output_type": "display_data"
    },
    {
     "data": {
      "text/plain": [
       "[2021-12-10 12:05:42.844039] INFO: moduleinvoker: use_datasource.v1 运行完成[0.016291s]."
      ]
     },
     "metadata": {
      "is_log": true,
      "status": "INFO"
     },
     "output_type": "display_data"
    },
    {
     "data": {
      "text/plain": [
       "[2021-12-10 12:05:42.852987] INFO: moduleinvoker: input_features.v1 开始运行.."
      ]
     },
     "metadata": {
      "is_log": true,
      "status": "INFO"
     },
     "output_type": "display_data"
    },
    {
     "data": {
      "text/plain": [
       "[2021-12-10 12:05:42.871404] INFO: moduleinvoker: 命中缓存"
      ]
     },
     "metadata": {
      "is_log": true,
      "status": "INFO"
     },
     "output_type": "display_data"
    },
    {
     "data": {
      "text/plain": [
       "[2021-12-10 12:05:42.874463] INFO: moduleinvoker: input_features.v1 运行完成[0.021483s]."
      ]
     },
     "metadata": {
      "is_log": true,
      "status": "INFO"
     },
     "output_type": "display_data"
    },
    {
     "data": {
      "text/plain": [
       "[2021-12-10 12:05:42.900407] INFO: moduleinvoker: index_feature_extract.v3 开始运行.."
      ]
     },
     "metadata": {
      "is_log": true,
      "status": "INFO"
     },
     "output_type": "display_data"
    },
    {
     "data": {
      "text/plain": [
       "[2021-12-10 12:05:42.916009] INFO: moduleinvoker: 命中缓存"
      ]
     },
     "metadata": {
      "is_log": true,
      "status": "INFO"
     },
     "output_type": "display_data"
    },
    {
     "data": {
      "text/plain": [
       "[2021-12-10 12:05:42.919041] INFO: moduleinvoker: index_feature_extract.v3 运行完成[0.018644s]."
      ]
     },
     "metadata": {
      "is_log": true,
      "status": "INFO"
     },
     "output_type": "display_data"
    },
    {
     "data": {
      "text/plain": [
       "[2021-12-10 12:05:42.933697] INFO: moduleinvoker: select_columns.v3 开始运行.."
      ]
     },
     "metadata": {
      "is_log": true,
      "status": "INFO"
     },
     "output_type": "display_data"
    },
    {
     "data": {
      "text/plain": [
       "[2021-12-10 12:05:42.947458] INFO: moduleinvoker: 命中缓存"
      ]
     },
     "metadata": {
      "is_log": true,
      "status": "INFO"
     },
     "output_type": "display_data"
    },
    {
     "data": {
      "text/plain": [
       "[2021-12-10 12:05:42.950746] INFO: moduleinvoker: select_columns.v3 运行完成[0.017066s]."
      ]
     },
     "metadata": {
      "is_log": true,
      "status": "INFO"
     },
     "output_type": "display_data"
    },
    {
     "data": {
      "text/plain": [
       "[2021-12-10 12:05:42.974192] INFO: moduleinvoker: join.v3 开始运行.."
      ]
     },
     "metadata": {
      "is_log": true,
      "status": "INFO"
     },
     "output_type": "display_data"
    },
    {
     "data": {
      "text/plain": [
       "[2021-12-10 12:05:42.992544] INFO: moduleinvoker: 命中缓存"
      ]
     },
     "metadata": {
      "is_log": true,
      "status": "INFO"
     },
     "output_type": "display_data"
    },
    {
     "data": {
      "text/plain": [
       "[2021-12-10 12:05:42.995776] INFO: moduleinvoker: join.v3 运行完成[0.021654s]."
      ]
     },
     "metadata": {
      "is_log": true,
      "status": "INFO"
     },
     "output_type": "display_data"
    },
    {
     "data": {
      "text/plain": [
       "[2021-12-10 12:05:43.010503] INFO: moduleinvoker: join.v3 开始运行.."
      ]
     },
     "metadata": {
      "is_log": true,
      "status": "INFO"
     },
     "output_type": "display_data"
    },
    {
     "data": {
      "text/plain": [
       "[2021-12-10 12:05:43.697093] INFO: join: /data, 行数=29373/29373, 耗时=0.385382s"
      ]
     },
     "metadata": {
      "is_log": true,
      "status": "INFO"
     },
     "output_type": "display_data"
    },
    {
     "data": {
      "text/plain": [
       "[2021-12-10 12:05:43.754456] INFO: join: 最终行数: 29373"
      ]
     },
     "metadata": {
      "is_log": true,
      "status": "INFO"
     },
     "output_type": "display_data"
    },
    {
     "data": {
      "text/plain": [
       "[2021-12-10 12:05:43.774063] INFO: moduleinvoker: join.v3 运行完成[0.763547s]."
      ]
     },
     "metadata": {
      "is_log": true,
      "status": "INFO"
     },
     "output_type": "display_data"
    },
    {
     "data": {
      "text/plain": [
       "[2021-12-10 12:05:43.783023] INFO: moduleinvoker: sort.v4 开始运行.."
      ]
     },
     "metadata": {
      "is_log": true,
      "status": "INFO"
     },
     "output_type": "display_data"
    },
    {
     "data": {
      "text/plain": [
       "[2021-12-10 12:05:44.426038] INFO: moduleinvoker: sort.v4 运行完成[0.643031s]."
      ]
     },
     "metadata": {
      "is_log": true,
      "status": "INFO"
     },
     "output_type": "display_data"
    },
    {
     "data": {
      "text/plain": [
       "[2021-12-10 12:05:44.605189] INFO: moduleinvoker: backtest.v8 开始运行.."
      ]
     },
     "metadata": {
      "is_log": true,
      "status": "INFO"
     },
     "output_type": "display_data"
    },
    {
     "data": {
      "text/plain": [
       "[2021-12-10 12:05:44.619060] INFO: backtest: biglearning backtest:V8.6.0"
      ]
     },
     "metadata": {
      "is_log": true,
      "status": "INFO"
     },
     "output_type": "display_data"
    },
    {
     "data": {
      "text/plain": [
       "[2021-12-10 12:05:44.621295] INFO: backtest: product_type:stock by specified"
      ]
     },
     "metadata": {
      "is_log": true,
      "status": "INFO"
     },
     "output_type": "display_data"
    },
    {
     "data": {
      "text/plain": [
       "[2021-12-10 12:05:44.754071] INFO: moduleinvoker: cached.v2 开始运行.."
      ]
     },
     "metadata": {
      "is_log": true,
      "status": "INFO"
     },
     "output_type": "display_data"
    },
    {
     "data": {
      "text/plain": [
       "[2021-12-10 12:05:44.762510] INFO: moduleinvoker: 命中缓存"
      ]
     },
     "metadata": {
      "is_log": true,
      "status": "INFO"
     },
     "output_type": "display_data"
    },
    {
     "data": {
      "text/plain": [
       "[2021-12-10 12:05:44.764998] INFO: moduleinvoker: cached.v2 运行完成[0.01095s]."
      ]
     },
     "metadata": {
      "is_log": true,
      "status": "INFO"
     },
     "output_type": "display_data"
    },
    {
     "data": {
      "text/plain": [
       "[2021-12-10 12:05:46.827474] INFO: algo: TradingAlgorithm V1.8.5"
      ]
     },
     "metadata": {
      "is_log": true,
      "status": "INFO"
     },
     "output_type": "display_data"
    },
    {
     "data": {
      "text/plain": [
       "[2021-12-10 12:05:47.280352] INFO: algo: trading transform..."
      ]
     },
     "metadata": {
      "is_log": true,
      "status": "INFO"
     },
     "output_type": "display_data"
    },
    {
     "name": "stdout",
     "output_type": "stream",
     "text": [
      "****** \n",
      " \n",
      " 获取当前持仓:{}\n",
      "买入资金预算200000.2, 实际可用现金200000.2，卖出后可得到得到现金-600000.6000000001\n"
     ]
    },
    {
     "name": "stdout",
     "output_type": "stream",
     "text": [
      "****** \n",
      " \n",
      " 获取当前持仓:{'600570.SHA': 70029.93223221143, '603288.SHA': 42955.23509472351, '002024.SZA': 33605.71220473514, '600436.SHA': 30924.910298073024}\n",
      "买入资金预算200862.4300902032, 实际可用现金200862.4300902032，卖出后可得到得到现金-425071.50044086657\n",
      "****** \n",
      " \n",
      " 获取当前持仓:{'600570.SHA': 65928.18765101256, '603288.SHA': 114038.07730930674, '002024.SZA': 67667.98371531047, '600436.SHA': 30723.530167415378, '603501.SHA': 44839.94077273553, '600161.SHA': 29510.594792435444}\n",
      "买入资金预算200432.82018381133, 实际可用现金200432.82018381133，卖出后可得到得到现金-248590.14614321783\n",
      "****** \n",
      " \n",
      " 获取当前持仓:{'600570.SHA': 87730.43137054126, '603288.SHA': 118431.37620633296, '002024.SZA': 132962.513950625, '600436.SHA': 31293.237949670634, '603501.SHA': 45750.32666113916, '600161.SHA': 29133.075186932412, '002821.SZA': 43635.64661504671, '002384.SZA': 33388.62682888505, '600276.SHA': 29606.423678764204}\n",
      "买入资金预算200106.27571039984, 实际可用现金200106.27571039984，卖出后可得到得到现金-48387.168683262076\n",
      "2021-01-07 止损股票列表 ['600570.SHA']\n",
      "****** \n",
      " \n",
      " 获取当前持仓:{'603288.SHA': 118249.24365530122, '002024.SZA': 180041.03872978297, '600436.SHA': 30946.82213585207, '603501.SHA': 45179.63823170694, '600161.SHA': 32046.383037692016, '002821.SZA': 106766.58396914817, '002384.SZA': 33145.75320300647, '600276.SHA': 62556.96710253287, '300529.SZA': 29346.859571313802, '300122.SZA': 26640.957390754218}\n",
      "买入资金预算200484.0585111851, 实际可用现金200484.0585111851，卖出后可得到得到现金63468.07149353542\n",
      "2021-01-08 止盈股票列表 ['600161.SHA']\n",
      "****** \n",
      " \n",
      " 获取当前持仓:{'603288.SHA': 114247.81066449061, '002024.SZA': 243148.2097079016, '600436.SHA': 30695.356969894117, '603501.SHA': 46918.88530094335, '002821.SZA': 110505.67696021427, '002384.SZA': 33350.278782913905, '600276.SHA': 61496.12006430822, '300529.SZA': 27949.565153485117, '300122.SZA': 25877.733658914363, '002027.SZA': 44550.868708447764, '002352.SZA': 34131.741041596375, '601816.SHA': 25973.948656737728}\n"
     ]
    },
    {
     "name": "stdout",
     "output_type": "stream",
     "text": [
      "买入资金预算199621.7229850739, 实际可用现金199262.41925552208，卖出后可得到得到现金199621.7229850739\n",
      "2021-01-11 固定天数卖出列表 ['603288.SHA', '600436.SHA', '603501.SHA']\n",
      "****** \n",
      " \n",
      " 获取当前持仓:{'002024.SZA': 285021.4342894697, '002821.SZA': 176508.25914103136, '002384.SZA': 33248.014658929504, '600276.SHA': 63043.190136501325, '300529.SZA': 28681.30782658277, '300122.SZA': 25984.759307302174, '002027.SZA': 44354.43367793645, '002352.SZA': 68365.89396390774, '002241.SZA': 26649.44524283556}\n",
      "买入资金预算200802.61089139734, 实际可用现金252156.3162124902，卖出后可得到得到现金200802.61089139734\n",
      "2021-01-12 固定天数卖出列表 ['002384.SZA']\n",
      "****** \n",
      " \n",
      " 获取当前持仓:{'002024.SZA': 341713.1300923277, '002821.SZA': 214722.5650807942, '600276.SHA': 98535.99218403545, '601633.SHA': 87345.08998652914, '000100.SZA': 35546.26882119769}\n",
      "买入资金预算200235.77843721962, 实际可用现金223315.84602121392，卖出后可得到得到现金200235.77843721962\n"
     ]
    },
    {
     "name": "stdout",
     "output_type": "stream",
     "text": [
      "****** \n",
      " \n",
      " 获取当前持仓:{'002024.SZA': 417452.9782697339, '002821.SZA': 243207.56435712104, '601633.SHA': 78612.3378172654, '002384.SZA': 48705.14933120739, '603087.SHA': 29519.780942422814, '300142.SZA': 29698.81471895251}\n",
      "买入资金预算195835.57087365474, 实际可用现金131981.22893157066，卖出后可得到得到现金195835.57087365474\n",
      "2021-01-14 止损股票列表 ['002821.SZA', '601633.SHA', '603087.SHA']\n",
      "****** \n",
      " \n",
      " 获取当前持仓:{'002024.SZA': 462832.0329747559, '002384.SZA': 46813.86180419301, '300142.SZA': 29100.851970945063, '002027.SZA': 28889.92591511187, '600600.SHA': 21495.090608316405, '688008.SHA': 19458.376945167427, '002044.SZA': 18046.276362805635}\n",
      "买入资金预算194935.35921946287, 实际可用现金292403.0388291943，卖出后可得到得到现金139298.01853263818\n",
      "****** \n",
      " \n",
      " 获取当前持仓:{'002024.SZA': 508323.882755139, '688008.SHA': 19374.201704830095, '002049.SZA': 102711.65349765193, '600436.SHA': 63081.030400732256, '300413.SZA': 43574.207147344394, '600161.SHA': 37963.381518206894}\n",
      "买入资金预算195259.39941972075, 实际可用现金201268.6400746992，卖出后可得到得到现金195259.39941972075\n"
     ]
    },
    {
     "name": "stdout",
     "output_type": "stream",
     "text": [
      "****** \n",
      " \n",
      " 获取当前持仓:{'002024.SZA': 585873.4994001513, '688008.SHA': 55565.81312775926, '002044.SZA': 32704.92729301767, '300033.SZA': 28418.862939108338, '600845.SHA': 26650.969203140303}\n",
      "买入资金预算194553.7725607496, 实际可用现金243554.79084057128，卖出后可得到得到现金194553.7725607496\n",
      "2021-01-19 止损股票列表 ['688008.SHA']\n",
      "****** \n",
      " \n",
      " 获取当前持仓:{'002049.SZA': 83328.74439803358, '600436.SHA': 53900.58443915774, '603288.SHA': 41429.96074666672, '600760.SHA': 36548.111467202005, '002352.SZA': 32825.23587195825}\n",
      "买入资金预算193785.62412594314, 实际可用现金290678.4361889147，卖出后可得到得到现金-236431.42339183963\n",
      "****** \n",
      " \n",
      " 获取当前持仓:{'002049.SZA': 84335.56216159521, '600436.SHA': 104879.7387769408, '603288.SHA': 141557.4611427079, '600760.SHA': 36735.626415135725, '002352.SZA': 35343.271318058585, '002024.SZA': 62201.19279893956, '002230.SZA': 46707.51884732292, '002044.SZA': 38396.76183389568}\n",
      "买入资金预算195805.21496274273, 实际可用现金293707.8224441141，卖出后可得到得到现金60644.09588773959\n",
      "2021-01-21 止盈股票列表 ['002352.SZA', '002230.SZA']\n",
      "****** \n",
      " \n",
      " 获取当前持仓:{'002049.SZA': 84624.14185749114, '600436.SHA': 205564.28591131727, '603288.SHA': 204376.6986839129, '600760.SHA': 37913.0502521369, '002024.SZA': 110354.38854980156, '002044.SZA': 89440.14965268126}\n",
      "买入资金预算197453.6729974914, 实际可用现金254995.65008011612，卖出后可得到得到现金197453.6729974914\n",
      "2021-01-22 止盈股票列表 ['002044.SZA']\n"
     ]
    },
    {
     "name": "stdout",
     "output_type": "stream",
     "text": [
      "****** \n",
      " \n",
      " 获取当前持仓:{'002049.SZA': 83418.5241564918, '603288.SHA': 265945.5299651126, '002024.SZA': 147737.30657883166, '002607.SZA': 88333.82233165747, '603087.SHA': 36464.480738123864, '000858.SZA': 35735.39519248661}\n",
      "买入资金预算200136.5272546305, 实际可用现金300204.79088194575，卖出后可得到得到现金157293.74082612785\n",
      "2021-01-25 固定天数卖出列表 ['002049.SZA']\n",
      "****** \n",
      " \n",
      " 获取当前持仓:{'002024.SZA': 250261.7880724197, '002607.SZA': 127929.15682032172, '600600.SHA': 63683.39872547104, '002044.SZA': 48334.912985875155, '002600.SZA': 38014.38047434291}\n",
      "买入资金预算196982.99268174876, 实际可用现金295474.48902262317，卖出后可得到得到现金35766.15537405858\n",
      "****** \n",
      " \n",
      " 获取当前持仓:{'002024.SZA': 313489.270302714, '002607.SZA': 189638.39955985377, '600600.SHA': 61478.058020333716, '002044.SZA': 88548.35229183531, '600436.SHA': 99649.79645584775, '600111.SHA': 41126.01813433595}\n",
      "买入资金预算198928.24719695756, 实际可用现金200711.3412198671，卖出后可得到得到现金198928.24719695756\n"
     ]
    },
    {
     "name": "stdout",
     "output_type": "stream",
     "text": [
      "****** \n",
      " \n",
      " 获取当前持仓:{'002024.SZA': 340163.076368076, '002044.SZA': 83428.20544794652, '600436.SHA': 139292.32266447524, '002049.SZA': 64864.84691408493, '603288.SHA': 29272.0412800567}\n",
      "买入资金预算194562.75786580026, 实际可用现金291844.1367987004，卖出后可得到得到现金170613.59801013875\n",
      "2021-01-28 止损股票列表 ['002044.SZA']\n",
      "****** \n",
      " \n",
      " 获取当前持仓:{'600436.SHA': 183750.8352959066, '603288.SHA': 90737.74566382924, '002821.SZA': 96701.77820212119, '603986.SHA': 48348.65818678626, '002230.SZA': 42629.19147345524}\n",
      "买入资金预算191152.3734717869, 实际可用现金286728.56020768033，卖出后可得到得到现金-15712.72485736874\n",
      "****** \n",
      " \n",
      " 获取当前持仓:{'600436.SHA': 188379.2269541196, '603288.SHA': 137897.964570882, '002821.SZA': 97861.62103150753, '603986.SHA': 48975.59628322937, '002230.SZA': 43668.70309169674, '300413.SZA': 98375.45311557195, '300529.SZA': 60078.21004456391, '300408.SZA': 44133.109617287315, '603993.SHA': 36999.44710858153}\n",
      "买入资金预算192165.7105813723, 实际可用现金204459.22108942154，卖出后可得到得到现金192165.7105813723\n"
     ]
    },
    {
     "name": "stdout",
     "output_type": "stream",
     "text": [
      "****** \n",
      " \n",
      " 获取当前持仓:{'600436.SHA': 200430.27940249152, '603288.SHA': 140690.13966282335, '002821.SZA': 129008.21169101412, '603986.SHA': 50354.33012820027, '002230.SZA': 116434.91434473504, '002129.SZA': 44554.67845365184, '300059.SZA': 35609.56429841045, '600570.SHA': 28026.906368460448}\n",
      "买入资金预算197742.59925779325, 实际可用现金243603.97193917923，卖出后可得到得到现金197742.59925779325\n",
      "2021-02-02 止盈股票列表 ['600436.SHA']\n",
      "****** \n",
      " \n",
      " 获取当前持仓:{'603288.SHA': 173589.4131577668, '002821.SZA': 191413.24810827465, '603986.SHA': 127678.54916023366, '002230.SZA': 104800.8671043753, '002129.SZA': 44066.44983859813, '300059.SZA': 34150.3940207835, '600570.SHA': 27525.265071416172, '601888.SHA': 42554.652861327835, '002050.SZA': 32122.28781929234}\n",
      "买入资金预算195432.820034009, 实际可用现金199262.97302797658，卖出后可得到得到现金195432.820034009\n",
      "2021-02-03 止损股票列表 ['002230.SZA']\n",
      "****** \n",
      " \n",
      " 获取当前持仓:{'603288.SHA': 200627.1129385248, '002821.SZA': 191829.89351944084, '603986.SHA': 157178.2314768901, '600570.SHA': 92951.93094586537, '601888.SHA': 41052.04952402074, '600111.SHA': 39817.478401221226, '600600.SHA': 33104.764610123595}\n",
      "买入资金预算195165.96074273842, 实际可用现金219268.34229760547，卖出后可得到得到现金195165.96074273842\n",
      "****** \n",
      " \n",
      " 获取当前持仓:{'002821.SZA': 189517.2290498668, '603986.SHA': 178757.66965477428, '600570.SHA': 116722.84393270667, '601888.SHA': 82519.12114167448, '600600.SHA': 34048.82355676272, '000860.SZA': 73103.43260349483, '300413.SZA': 47134.13203226937}\n",
      "买入资金预算191150.16648897898, 实际可用现金233947.5804733457，卖出后可得到得到现金191150.16648897898\n",
      "2021-02-05 止损股票列表 ['603986.SHA']\n"
     ]
    },
    {
     "name": "stdout",
     "output_type": "stream",
     "text": [
      "****** \n",
      " \n",
      " 获取当前持仓:{'002821.SZA': 198405.56761773344, '601888.SHA': 85144.8963212179, '600600.SHA': 32808.65767665389, '000860.SZA': 71946.0600130083, '300413.SZA': 46822.215510252136, '000725.SZA': 80558.12086336466, '002414.SZA': 51548.794710855924, '000066.SZA': 38736.09964976552, '601696.SHA': 34836.59393846348, '002024.SZA': 30097.75102082501}\n",
      "买入资金预算194418.59768074198, 实际可用现金291627.896521113，卖出后可得到得到现金184858.2631202854\n",
      "2021-02-08 固定天数卖出列表 ['002821.SZA']\n",
      "****** \n",
      " \n",
      " 获取当前持仓:{'601888.SHA': 85558.73867850633, '600600.SHA': 33811.93800998696, '000860.SZA': 72288.54855546996, '300413.SZA': 111894.58598098619, '000725.SZA': 83117.66140555494, '002414.SZA': 53048.622725655056, '000066.SZA': 39850.07777443699, '601696.SHA': 35537.75166507899, '002024.SZA': 31016.76500618622, '300059.SZA': 105311.14330893313, '603993.SHA': 51975.803414059345, '300124.SZA': 43423.42736568786, '603288.SHA': 40520.758779351425}\n",
      "买入资金预算198600.44591547604, 实际可用现金205646.40690748673，卖出后可得到得到现金198600.44591547604\n",
      "2021-02-09 固定天数卖出列表 ['600600.SHA']\n",
      "****** \n",
      " \n",
      " 获取当前持仓:{'601888.SHA': 92249.22121959912, '000860.SZA': 75347.3172580145, '300413.SZA': 107124.51211056423, '000725.SZA': 83387.08617150137, '000066.SZA': 40179.20936990502, '601696.SHA': 35150.27022616488, '002024.SZA': 57740.8458918662, '300124.SZA': 115292.45105482952, '603288.SHA': 40463.825441449626, '600570.SHA': 44297.0723271546, '300122.SZA': 37163.479512256235, '603986.SHA': 30064.599758841923}\n",
      "买入资金预算200866.9876070268, 实际可用现金245875.0476929868，卖出后可得到得到现金200866.9876070268\n",
      "2021-02-10 止盈股票列表 ['601888.SHA']\n",
      "2021-02-10 固定天数卖出列表 ['000860.SZA']\n"
     ]
    },
    {
     "name": "stdout",
     "output_type": "stream",
     "text": [
      "****** \n",
      " \n",
      " 获取当前持仓:{'300413.SZA': 97126.22479236552, '000066.SZA': 41343.82367102112, '601696.SHA': 35334.78486221561, '002024.SZA': 101951.87066793187, '300124.SZA': 115342.97521765297, '603288.SHA': 37065.50016097449, '600570.SHA': 122141.13623810837, '300122.SZA': 33225.130047354556, '603986.SHA': 85039.8272816866, '002044.SZA': 36106.05074962537, '000723.SZA': 32658.81957875028}\n",
      "买入资金预算194411.0607081327, 实际可用现金234719.1602729765，卖出后可得到得到现金194411.0607081327\n",
      "2021-02-18 止损股票列表 ['300413.SZA', '600570.SHA']\n",
      "2021-02-18 固定天数卖出列表 ['000066.SZA', '601696.SHA', '300124.SZA', '603288.SHA', '300122.SZA']\n",
      "****** \n",
      " \n",
      " 获取当前持仓:{'002024.SZA': 142762.03814234334, '603986.SHA': 140160.04771693549, '002044.SZA': 71002.4827264598, '000723.SZA': 31941.042326774692, '002821.SZA': 80377.2498786347, '600161.SHA': 37768.17458051791}\n",
      "买入资金预算194713.48073416034, 实际可用现金292070.2211012405，卖出后可得到得到现金17227.333536264894\n",
      "2021-02-19 止损股票列表 ['000723.SZA']\n",
      "****** \n",
      " \n",
      " 获取当前持仓:{'002024.SZA': 184910.6063749584, '603986.SHA': 134500.9884575186, '002044.SZA': 74511.21232300198, '002821.SZA': 132030.6560418966, '600161.SHA': 37700.64471729476, '002607.SZA': 95043.41665516478, '600111.SHA': 54484.74085405893, '600760.SHA': 35281.52993194773}\n",
      "买入资金预算191308.11527666528, 实际可用现金208076.78102748469，卖出后可得到得到现金191308.11527666528\n",
      "2021-02-22 止盈股票列表 ['002044.SZA']\n",
      "2021-02-22 止损股票列表 ['002821.SZA', '600760.SHA']\n"
     ]
    },
    {
     "name": "stdout",
     "output_type": "stream",
     "text": [
      "****** \n",
      " \n",
      " 获取当前持仓:{'002024.SZA': 223700.29160355503, '603986.SHA': 199836.46774662763, '600161.SHA': 37063.94003939372, '002607.SZA': 94620.76515352719, '600111.SHA': 53780.41545015985, '600845.SHA': 34428.90509808425, '688036.SHA': 31495.938569053815}\n",
      "买入资金预算188802.89350416613, 实际可用现金269087.74386042927，卖出后可得到得到现金188802.89350416613\n",
      "2021-02-23 止损股票列表 ['600161.SHA']\n",
      "****** \n",
      " \n",
      " 获取当前持仓:{'002024.SZA': 314066.801134139, '603986.SHA': 253670.3032946176, '600111.SHA': 50434.860981336285, '601888.SHA': 54440.57860070078, '002600.SZA': 46423.231248371376, '002044.SZA': 31771.29075496169}\n",
      "2021-02-24 大盘风控止损触发,全仓卖出\n",
      "****** \n",
      " \n",
      " 获取当前持仓:{'002024.SZA': 314066.801134139}\n",
      "2021-02-25 大盘风控止损触发,全仓卖出\n",
      "****** \n",
      " \n",
      " 获取当前持仓:{'002024.SZA': 314066.801134139}\n",
      "2021-02-26 大盘风控止损触发,全仓卖出\n",
      "****** \n",
      " \n",
      " 获取当前持仓:{}\n",
      "买入资金预算194570.69568347244, 实际可用现金291856.04352520866，卖出后可得到得到现金-486426.73920868116\n"
     ]
    },
    {
     "name": "stdout",
     "output_type": "stream",
     "text": [
      "****** \n",
      " \n",
      " 获取当前持仓:{'300529.SZA': 96254.87719451147, '601696.SHA': 61588.09425670854, '601888.SHA': 48202.88935693287, '002044.SZA': 42377.62702403085, '002422.SZA': 36115.61855637007}\n",
      "买入资金预算192654.8098564082, 实际可用现金288982.2147846123，卖出后可得到得到现金-197097.91825246668\n",
      "2021-03-02 止损股票列表 ['601888.SHA', '002422.SZA']\n",
      "****** \n",
      " \n",
      " 获取当前持仓:{'300529.SZA': 100886.39025510373, '601696.SHA': 101439.2761706437, '002044.SZA': 108264.8759142879, '600436.SHA': 100193.02952972596, '000568.SZA': 50089.417356874226, '300413.SZA': 43132.33845190176}\n",
      "买入资金预算196096.11505132253, 实际可用现金294144.1725769838，卖出后可得到得到现金13765.040050231008\n",
      "****** \n",
      " \n",
      " 获取当前持仓:{'601696.SHA': 98321.36974824668, '002044.SZA': 147314.40746941802, '600436.SHA': 189371.14231591637, '000568.SZA': 46309.124457291735, '300413.SZA': 41766.896083995256, '000596.SZA': 61389.68158101373, '601888.SHA': 47595.233719570555, '000100.SZA': 38862.463808475884}\n",
      "买入资金预算190637.1743188666, 实际可用现金282255.5524104048，卖出后可得到得到现金190637.1743188666\n",
      "****** \n",
      " \n",
      " 获取当前持仓:{'601696.SHA': 100847.95209297868, '002044.SZA': 193443.12569615626, '300413.SZA': 43400.20089329886, '000596.SZA': 61497.18189226921, '000100.SZA': 78349.73464504023, '002230.SZA': 96012.0041618328, '002007.SZA': 60166.564206969364, '002600.SZA': 47864.92554756539}\n",
      "买入资金预算193664.01432180885, 实际可用现金286738.3824729335，卖出后可得到得到现金193664.01432180885\n"
     ]
    },
    {
     "name": "stdout",
     "output_type": "stream",
     "text": [
      "****** \n",
      " \n",
      " 获取当前持仓:{'601696.SHA': 135886.08687836197, '002044.SZA': 174065.41072537223, '002230.SZA': 151985.66097235345, '002007.SZA': 103804.85704793462, '002600.SZA': 88099.18759940157, '300529.SZA': 89557.02485984382}\n",
      "2021-03-08 大盘风控止损触发,全仓卖出\n",
      "****** \n",
      " \n",
      " 获取当前持仓:{}\n",
      "2021-03-09 大盘风控止损触发,全仓卖出\n",
      "****** \n",
      " \n",
      " 获取当前持仓:{}\n",
      "2021-03-10 大盘风控止损触发,全仓卖出\n",
      "****** \n",
      " \n",
      " 获取当前持仓:{}\n",
      "买入资金预算177638.05579508096, 实际可用现金266457.08369262144，卖出后可得到得到现金-444095.1394877024\n",
      "****** \n",
      " \n",
      " 获取当前持仓:{'000725.SZA': 93291.80694609694, '002230.SZA': 59372.674580407285, '002044.SZA': 44968.727354641014, '000768.SZA': 38189.35218370009, '600118.SHA': 34889.6095163562}\n",
      "买入资金预算178201.78787660366, 实际可用现金267302.6818149055，卖出后可得到得到现金-174792.2991103077\n",
      "****** \n",
      " \n",
      " 获取当前持仓:{'000725.SZA': 94060.27214196492, '002230.SZA': 56277.819735668345, '002044.SZA': 88305.15987077917, '000768.SZA': 127416.14058582862, '600118.SHA': 34322.298477404045, '002352.SZA': 55728.94168178396, '600760.SHA': 38478.783392695404, '603087.SHA': 34027.50745348059}\n",
      "买入资金预算176424.16269655334, 实际可用现金264636.24404483，卖出后可得到得到现金87556.51659822179\n"
     ]
    },
    {
     "name": "stdout",
     "output_type": "stream",
     "text": [
      "****** \n",
      " \n",
      " 获取当前持仓:{'002230.SZA': 54821.41907346954, '002044.SZA': 130272.9174963417, '000768.SZA': 180479.28588306776, '600118.SHA': 34381.39427448013, '002352.SZA': 57311.22949273712, '600760.SHA': 38001.09642432791, '603259.SHA': 90650.1629603988, '601100.SHA': 45053.55369982186, '600703.SHA': 31244.21030718262}\n",
      "买入资金预算174960.3721865669, 实际可用现金212586.59132100723，卖出后可得到得到现金174960.3721865669\n",
      "2021-03-16 止损股票列表 ['600703.SHA']\n",
      "****** \n",
      " \n",
      " 获取当前持仓:{'002044.SZA': 163320.87144038937, '600118.SHA': 34783.23923486381, '002352.SZA': 58513.521440142445, '603259.SHA': 162501.66254202006, '601100.SHA': 47391.01116138729, '300122.SZA': 44544.88543974095, '603288.SHA': 36268.727236065126, '000860.SZA': 28020.69711150282}\n",
      "买入资金预算176822.8336175037, 实际可用现金265234.2504262555，卖出后可得到得到现金133287.5315623526\n",
      "2021-03-17 固定天数卖出列表 ['600118.SHA']\n",
      "****** \n",
      " \n",
      " 获取当前持仓:{'002044.SZA': 198658.9509662376, '603259.SHA': 259588.61426098776, '300122.SZA': 48190.71270055935, '603288.SHA': 37312.63725788529, '000860.SZA': 73349.1820688897, '600276.SHA': 57134.35155647955, '000768.SZA': 38863.58955187703}\n",
      "买入资金预算179159.76715713745, 实际可用现金182700.79742277088，卖出后可得到得到现金179159.76715713745\n"
     ]
    },
    {
     "name": "stdout",
     "output_type": "stream",
     "text": [
      "****** \n",
      " \n",
      " 获取当前持仓:{'002044.SZA': 222904.64647072597, '000860.SZA': 131586.29515799787, '000768.SZA': 69818.76642328642, '603087.SHA': 39656.328721078775}\n",
      "买入资金预算174706.2486038906, 实际可用现金262059.3729058359，卖出后可得到得到现金27200.415263362433\n",
      "****** \n",
      " \n",
      " 获取当前持仓:{'002044.SZA': 274115.2300180126, '000860.SZA': 136047.83428183463, '000768.SZA': 157460.49969811243, '603259.SHA': 55184.74062386578, '600111.SHA': 37989.61273888366, '002129.SZA': 34678.000683738275}\n",
      "买入资金预算176937.86265506066, 实际可用现金189213.3952308558，卖出后可得到得到现金176937.86265506066\n",
      "****** \n",
      " \n",
      " 获取当前持仓:{'002044.SZA': 297724.5620832656, '000768.SZA': 193279.10551923333, '600111.SHA': 58801.81084984193, '603288.SHA': 62836.52302320665, '002230.SZA': 31322.04297133051}\n",
      "买入资金预算174232.65912205208, 实际可用现金227199.25116338243，卖出后可得到得到现金174232.65912205208\n",
      "2021-03-23 止损股票列表 ['600111.SHA']\n",
      "****** \n",
      " \n",
      " 获取当前持仓:{'002044.SZA': 340952.456177627, '603288.SHA': 61994.473707460835, '002129.SZA': 75963.74986031052, '603501.SHA': 37334.144062890984, '600161.SHA': 32650.210543044497, '603658.SHA': 29430.095734762028}\n",
      "买入资金预算170509.7514385823, 实际可用现金255764.62715787342，卖出后可得到得到现金152050.75148964013\n"
     ]
    },
    {
     "name": "stdout",
     "output_type": "stream",
     "text": [
      "****** \n",
      " \n",
      " 获取当前持仓:{'002044.SZA': 384853.36389998667, '603288.SHA': 62586.869415407404, '601100.SHA': 92436.2813271852, '603799.SHA': 56780.82993149575, '603087.SHA': 37753.766000863594, '688012.SHA': 32894.4639116804}\n",
      "买入资金预算173321.84583619522, 实际可用现金199303.65469435707，卖出后可得到得到现金173321.84583619522\n",
      "****** \n",
      " \n",
      " 获取当前持仓:{'002044.SZA': 452187.8979519995, '603087.SHA': 68455.72789712653, '688012.SHA': 79024.82338458928, '603259.SHA': 70875.2009352721, '002129.SZA': 34874.22738251025}\n",
      "买入资金预算184004.2240987166, 实际可用现金214603.24294208537，卖出后可得到得到现金184004.2240987166\n",
      "2021-03-26 止盈股票列表 ['002044.SZA']\n",
      "****** \n",
      " \n",
      " 获取当前持仓:{'603087.SHA': 68583.78303998025, '688012.SHA': 79591.1433466227, '603259.SHA': 71135.46618394171, '002129.SZA': 33669.24777361117, '002230.SZA': 72601.39232656253, '600760.SHA': 46394.12580311767, '300014.SZA': 35588.3460968308, '000568.SZA': 31286.810948757844}\n",
      "买入资金预算181553.70193248545, 实际可用现金272330.5528987282，卖出后可得到得到现金-15033.939311788883\n",
      "****** \n",
      " \n",
      " 获取当前持仓:{'603087.SHA': 68935.9303317494, '688012.SHA': 78718.7024347326, '603259.SHA': 74628.20944008348, '002129.SZA': 34300.98488155956, '002230.SZA': 166737.0283204529, '600760.SHA': 51032.79758291323, '300014.SZA': 95434.76379833429, '000568.SZA': 31902.845871575024, '600436.SHA': 45729.61411438732, '002044.SZA': 39172.33562646865}\n",
      "买入资金预算183741.79197146808, 实际可用现金232115.74745508388，卖出后可得到得到现金183741.79197146808\n",
      "2021-03-30 止盈股票列表 ['603259.SHA', '600760.SHA']\n"
     ]
    },
    {
     "name": "stdout",
     "output_type": "stream",
     "text": [
      "****** \n",
      " \n",
      " 获取当前持仓:{'688012.SHA': 82277.34606942722, '002129.SZA': 33096.00527266047, '002230.SZA': 247200.49243494147, '300014.SZA': 145978.46654095408, '600436.SHA': 46018.270220647544, '002044.SZA': 72699.9255699326, '600893.SHA': 35429.87862234781, '600111.SHA': 29319.99496216947}\n",
      "买入资金预算183278.86905488963, 实际可用现金224373.9655813675，卖出后可得到得到现金183278.86905488963\n",
      "2021-03-31 止损股票列表 ['600893.SHA']\n",
      "2021-03-31 固定天数卖出列表 ['688012.SHA', '002129.SZA']\n",
      "****** \n",
      " \n",
      " 获取当前持仓:{'002230.SZA': 324971.57457188104, '600436.SHA': 80824.06512094507, '002044.SZA': 105450.83275180534, '600111.SHA': 67792.17499661654, '603288.SHA': 49701.51232947804}\n",
      "买入资金预算187295.22299737748, 实际可用现金280942.8344960662，卖出后可得到得到现金160502.10227728225\n",
      "****** \n",
      " \n",
      " 获取当前持仓:{'600436.SHA': 184867.469200667, '002044.SZA': 103794.87572975553, '600111.SHA': 113934.56546516875, '002607.SZA': 61833.747760359445, '600893.SHA': 41627.77017017461, '000596.SZA': 38006.81003424424}\n",
      "买入资金预算189023.28797385222, 实际可用现金283534.9319607783，卖出后可得到得到现金71507.01842573888\n"
     ]
    },
    {
     "name": "stdout",
     "output_type": "stream",
     "text": [
      "****** \n",
      " \n",
      " 获取当前持仓:{'600436.SHA': 182599.99852383873, '002044.SZA': 93395.51600639815, '600111.SHA': 114954.51917278701, '600893.SHA': 103216.33786714717, '600703.SHA': 93798.47822110054, '601888.SHA': 45731.8531417944, '600584.SHA': 41871.07407030081, '002821.SZA': 36522.57016798794}\n",
      "买入资金预算185206.52394316794, 实际可用现金213942.27254448493，卖出后可得到得到现金185206.52394316794\n",
      "2021-04-06 止损股票列表 ['002044.SZA', '601888.SHA']\n",
      "****** \n",
      " \n",
      " 获取当前持仓:{'600436.SHA': 196444.1167091976, '002044.SZA': 84055.96960979918, '600111.SHA': 167362.6095007269, '600893.SHA': 173494.23677197605, '600703.SHA': 119852.0461436801, '600118.SHA': 36464.98828388809, '601633.SHA': 29960.963540041106}\n",
      "买入资金预算186302.954591592, 实际可用现金123879.84239865083，卖出后可得到得到现金186302.954591592\n",
      "2021-04-07 止盈股票列表 ['600436.SHA']\n",
      "2021-04-07 止损股票列表 ['002044.SZA']\n",
      "****** \n",
      " \n",
      " 获取当前持仓:{'600111.SHA': 167362.6095007269, '600893.SHA': 190958.9223664654, '600703.SHA': 118987.72117131265, '600118.SHA': 58200.04339246391, '601633.SHA': 29470.694185239416, '002230.SZA': 41113.34929556674, '300014.SZA': 26321.827732741043}\n",
      "买入资金预算185496.46009415307, 实际可用现金278244.6901412296，卖出后可得到得到现金168674.01740913343\n",
      "2021-04-08 止损股票列表 ['601633.SHA']\n"
     ]
    },
    {
     "name": "stdout",
     "output_type": "stream",
     "text": [
      "****** \n",
      " \n",
      " 获取当前持仓:{'600111.SHA': 170466.5842157632, '600893.SHA': 224620.50188569483, '600118.SHA': 116415.99632600803, '300014.SZA': 71500.67938522968, '002821.SZA': 92351.50221231344, '603986.SHA': 36467.04443444137}\n",
      "买入资金预算182885.6184869626, 实际可用现金202605.78397536243，卖出后可得到得到现金182885.6184869626\n",
      "****** \n",
      " \n",
      " 获取当前持仓:{'600111.SHA': 163755.30198887974, '600118.SHA': 157246.02439816543, '300014.SZA': 69103.62021217577, '002821.SZA': 120444.75126319389, '603986.SHA': 66750.987922417, '300529.SZA': 64937.14822427168, '000860.SZA': 26223.287137316536}\n",
      "买入资金预算176549.57024053932, 实际可用现金214286.73005627654，卖出后可得到得到现金176549.57024053932\n",
      "2021-04-12 止损股票列表 ['300014.SZA', '002821.SZA']\n",
      "2021-04-12 固定天数卖出列表 ['600111.SHA']\n",
      "****** \n",
      " \n",
      " 获取当前持仓:{'600118.SHA': 194641.6167119539, '603986.SHA': 136699.0806489164, '300529.SZA': 67425.162562963, '000860.SZA': 26072.478464883738, '601100.SHA': 45925.80865714907, '603087.SHA': 28946.708101194574}\n",
      "买入资金预算176252.35430896637, 实际可用现金264378.5314634496，卖出后可得到得到现金59079.96937464486\n",
      "****** \n",
      " \n",
      " 获取当前持仓:{'600118.SHA': 238324.93909476625, '603986.SHA': 138526.2924599888, '000860.SZA': 27348.552754195458, '601100.SHA': 90346.75569410388, '603087.SHA': 28914.9131062817, '002044.SZA': 91315.54048487953, '000661.SZA': 56910.5828920208, '600760.SHA': 35090.82449705087}\n",
      "买入资金预算178859.72783226825, 实际可用现金187520.238178054，卖出后可得到得到现金178859.72783226825\n"
     ]
    },
    {
     "name": "stdout",
     "output_type": "stream",
     "text": [
      "****** \n",
      " \n",
      " 获取当前持仓:{'600118.SHA': 277929.45776850067, '603986.SHA': 164455.03620977906, '601100.SHA': 117421.9678731296, '000661.SZA': 57255.4274517911, '300014.SZA': 63607.98498041888, '600111.SHA': 32387.341363199106}\n",
      "买入资金预算179062.0222966646, 实际可用现金182252.89583650453，卖出后可得到得到现金179062.0222966646\n",
      "****** \n",
      " \n",
      " 获取当前持仓:{'600118.SHA': 322586.74784186383, '603986.SHA': 183585.28645183827, '300014.SZA': 121257.70584433613, '002044.SZA': 30906.464781809922, '002049.SZA': 24318.619247373023}\n",
      "买入资金预算176818.73984632647, 实际可用现金201438.87506441097，卖出后可得到得到现金176818.73984632647\n",
      "****** \n",
      " \n",
      " 获取当前持仓:{'600118.SHA': 352443.80305696325, '300014.SZA': 173985.42635729304, '002044.SZA': 104961.14904323661, '002049.SZA': 24628.366051454097, '601100.SHA': 44074.26889325036, '600588.SHA': 26988.386738615944}\n",
      "买入资金预算181406.16901627387, 实际可用现金179949.44494055607，卖出后可得到得到现金181406.16901627387\n",
      "2021-04-19 止盈股票列表 ['300014.SZA']\n"
     ]
    },
    {
     "name": "stdout",
     "output_type": "stream",
     "text": [
      "****** \n",
      " \n",
      " 获取当前持仓:{'600118.SHA': 379056.20690299955, '002049.SZA': 24424.163355141478, '601100.SHA': 45332.063594010535, '600588.SHA': 26753.192650586854, '000568.SZA': 61133.77625107704, '002129.SZA': 30452.948738891322, '002594.SZA': 25566.766808062883}\n",
      "买入资金预算179429.85556173237, 实际可用现金269144.7833425986，卖出后可得到得到现金144144.47939643875\n",
      "****** \n",
      " \n",
      " 获取当前持仓:{'600118.SHA': 477047.91713908815, '000568.SZA': 121235.03463911542, '002179.SZA': 44856.315195301846, '600436.SHA': 40226.692453796684, '603259.SHA': 35678.90761299046}\n",
      "买入资金预算181900.09369804306, 实际可用现金190455.60144992254，卖出后可得到得到现金181900.09369804306\n",
      "****** \n",
      " \n",
      " 获取当前持仓:{'600118.SHA': 534533.8268893994, '002179.SZA': 45028.84133257698, '600809.SHA': 41369.020625217825, '002129.SZA': 32430.986855824845, '600588.SHA': 24724.89920297513}\n",
      "买入资金预算179693.48181554032, 实际可用现金220379.8341717075，卖出后可得到得到现金179693.48181554032\n",
      "****** \n",
      " \n",
      " 获取当前持仓:{'000568.SZA': 77614.05976781026, '600600.SHA': 46308.108884827954, '002594.SZA': 37491.65538000327, '300413.SZA': 31826.097630709828, '603259.SHA': 30874.97633397643}\n",
      "买入资金预算181533.09568083592, 实际可用现金272299.6435212539，卖出后可得到得到现金-229717.84120476202\n"
     ]
    },
    {
     "name": "stdout",
     "output_type": "stream",
     "text": [
      "****** \n",
      " \n",
      " 获取当前持仓:{'000568.SZA': 76942.42751531984, '600600.SHA': 46008.056685225805, '002594.SZA': 37104.00070639614, '300413.SZA': 33354.63981672824, '603259.SHA': 30270.31032631255, '600118.SHA': 88461.91304541827, '002049.SZA': 59830.3045954725, '300144.SZA': 47697.45192899693, '600809.SHA': 39875.19925144736}\n",
      "买入资金预算180910.11838510341, 实际可用现金271365.1775776551，卖出后可得到得到现金7269.007908559113\n",
      "2021-04-26 止损股票列表 ['600118.SHA']\n",
      "****** \n",
      " \n",
      " 获取当前持仓:{'000568.SZA': 78046.2651789102, '600600.SHA': 46418.129983827734, '002594.SZA': 71597.24360897244, '300413.SZA': 34427.65733206673, '603259.SHA': 31284.255858394437, '002049.SZA': 60318.40678025948, '300144.SZA': 138700.57016626623, '600809.SHA': 101646.40280938614, '601888.SHA': 47334.9655967486, '600161.SHA': 40296.29887125007}\n",
      "买入资金预算181669.68875977836, 实际可用现金258278.24761280988，卖出后可得到得到现金181669.68875977836\n",
      "****** \n",
      " \n",
      " 获取当前持仓:{'000568.SZA': 81155.6773589486, '002594.SZA': 71840.32669791517, '300144.SZA': 229669.5692161383, '600809.SHA': 107343.1813240422, '600161.SHA': 40285.32520741794, '600760.SHA': 55626.35613943802, '603658.SHA': 44946.53455372119, '002129.SZA': 37468.341775524736, '600436.SHA': 34990.19132067809}\n",
      "买入资金预算185674.88854972832, 实际可用现金225048.93915481737，卖出后可得到得到现金185674.88854972832\n",
      "2021-04-28 固定天数卖出列表 ['000568.SZA']\n"
     ]
    },
    {
     "name": "stdout",
     "output_type": "stream",
     "text": [
      "****** \n",
      " \n",
      " 获取当前持仓:{'002594.SZA': 99806.03380285135, '300144.SZA': 308664.1558266121, '600161.SHA': 38946.50496637215, '600760.SHA': 103098.41952526943, '600436.SHA': 34922.15662863946, '600588.SHA': 36973.2517301459, '300529.SZA': 33413.51081523471}\n",
      "买入资金预算185013.50594045277, 实际可用现金269243.49640713877，卖出后可得到得到现金185013.50594045277\n",
      "****** \n",
      " \n",
      " 获取当前持仓:{'002594.SZA': 185985.43862266713, '300144.SZA': 343877.62570616713, '688012.SHA': 57672.66665092676, '002821.SZA': 45568.28371010349, '000568.SZA': 34332.072833689315}\n",
      "买入资金预算181874.25484644526, 实际可用现金241935.18670867244，卖出后可得到得到现金181874.25484644526\n",
      "****** \n",
      " \n",
      " 获取当前持仓:{'002594.SZA': 224906.5918710804, '688012.SHA': 137057.57284104495, '002821.SZA': 85431.94079428072, '603087.SHA': 33190.3935735821, '002024.SZA': 31838.450815124343}\n",
      "买入资金预算174255.15572081093, 实际可用现金261382.7335812164，卖出后可得到得到现金76787.06059308528\n",
      "2021-05-06 止损股票列表 ['002594.SZA']\n",
      "****** \n",
      " \n",
      " 获取当前持仓:{'688012.SHA': 128083.49822256055, '002821.SZA': 80845.45231856634, '603087.SHA': 33032.98168963815, '002024.SZA': 70856.73255913587, '600009.SHA': 85936.04815639369, '300144.SZA': 52912.62312830564, '600547.SHA': 46988.4393844023, '600436.SHA': 34254.33550157619}\n",
      "买入资金预算169126.0639672031, 实际可用现金253689.09595080465，卖出后可得到得到现金110094.95104257096\n",
      "2021-05-07 止损股票列表 ['688012.SHA', '002821.SZA', '603087.SHA']\n"
     ]
    },
    {
     "name": "stdout",
     "output_type": "stream",
     "text": [
      "****** \n",
      " \n",
      " 获取当前持仓:{'002024.SZA': 70542.27930304463, '600009.SHA': 168824.1908516207, '300144.SZA': 97659.54895671275, '600547.SHA': 50193.224083475456, '600436.SHA': 34750.625033227974, '600570.SHA': 53350.01619360599, '002129.SZA': 37888.666669009945, '000860.SZA': 32326.6683856104}\n",
      "买入资金预算168828.47654747762, 实际可用现金253242.71482121642，卖出后可得到得到现金123464.02810761376\n",
      "2021-05-10 止盈股票列表 ['600547.SHA']\n",
      "****** \n",
      " \n",
      " 获取当前持仓:{'002024.SZA': 70961.55515498208, '600009.SHA': 260388.3580156843, '300144.SZA': 139042.20831333884, '600436.SHA': 35236.55287953279, '603658.SHA': 55928.3643886196, '601600.SHA': 36990.74546362218, '688008.SHA': 33543.23770290079}\n",
      "买入资金预算170993.05166696286, 实际可用现金222874.23641613382，卖出后可得到得到现金170993.05166696286\n",
      "****** \n",
      " \n",
      " 获取当前持仓:{'600009.SHA': 336939.8487516325, '300144.SZA': 162440.0422627188, '688008.SHA': 72446.14181677831, '603288.SHA': 47870.81996739624}\n",
      "买入资金预算170659.17896114086, 实际可用现金233599.04200717842，卖出后可得到得到现金170659.17896114086\n"
     ]
    },
    {
     "name": "stdout",
     "output_type": "stream",
     "text": [
      "****** \n",
      " \n",
      " 获取当前持仓:{'600009.SHA': 415801.95716777025, '000661.SZA': 50360.90072087938, '603799.SHA': 37112.46497642823, '002812.SZA': 30112.174918845194}\n",
      "买入资金预算170999.01858780466, 实际可用现金256498.527881707，卖出后可得到得到现金105889.95131441145\n",
      "****** \n",
      " \n",
      " 获取当前持仓:{'600009.SHA': 511963.8937743197, '300144.SZA': 55742.93032925882, '002821.SZA': 43316.22719646424, '000860.SZA': 38057.19741086914, '300014.SZA': 36935.166759691834}\n",
      "买入资金预算174237.50494126524, 实际可用现金185172.10923572257，卖出后可得到得到现金174237.50494126524\n",
      "****** \n",
      " \n",
      " 获取当前持仓:{'688012.SHA': 62320.30959582587, '603986.SHA': 40133.741058348314, '002024.SZA': 31218.40385777713, '600066.SHA': 27067.243015452204, '002812.SZA': 26201.126469447267}\n",
      "买入资金预算178197.39437015468, 实际可用现金267296.091555232，卖出后可得到得到现金-258552.661928536\n"
     ]
    },
    {
     "name": "stdout",
     "output_type": "stream",
     "text": [
      "****** \n",
      " \n",
      " 获取当前持仓:{'688012.SHA': 155906.85112203663, '603986.SHA': 39870.94703396877, '002024.SZA': 31172.630086306945, '600066.SHA': 27359.127087677036, '002812.SZA': 26456.101974188576, '000860.SZA': 56815.81615378507, '002594.SZA': 45021.71279107791, '300142.SZA': 38379.76033590074, '300144.SZA': 36340.72795850958}\n",
      "买入资金预算178922.95257661078, 实际可用现金268384.4288649162，卖出后可得到得到现金10016.293101924413\n",
      "****** \n",
      " \n",
      " 获取当前持仓:{'688012.SHA': 189730.22964407317, '603986.SHA': 40387.312556312405, '002024.SZA': 30897.98111147564, '600066.SHA': 27709.386907392345, '000860.SZA': 56016.26278187421, '002594.SZA': 111541.95061025581, '300142.SZA': 39060.724134792516, '300144.SZA': 81426.4055371545, '600893.SHA': 90526.99738353773, '000568.SZA': 39222.23086405084}\n",
      "买入资金预算180850.35118705983, 实际可用现金197732.27440438，卖出后可得到得到现金180850.35118705983\n",
      "****** \n",
      " \n",
      " 获取当前持仓:{'688012.SHA': 230036.58140232135, '002024.SZA': 30852.207340005458, '600066.SHA': 27164.538595322556, '300142.SZA': 63945.26238615576, '300144.SZA': 78437.49261130123, '600893.SHA': 118259.15015615233, '000568.SZA': 39445.681672853134, '002460.SZA': 66816.74693965471, '600009.SHA': 33687.05722866089}\n",
      "买入资金预算179964.68034628502, 实际可用现金211178.68339899753，卖出后可得到得到现金179964.68034628502\n"
     ]
    },
    {
     "name": "stdout",
     "output_type": "stream",
     "text": [
      "****** \n",
      " \n",
      " 获取当前持仓:{'688012.SHA': 294546.18183424487, '600893.SHA': 145341.7732142661, '002460.SZA': 104428.95772568691, '600009.SHA': 78098.05890778174, '603986.SHA': 27246.887802603338}\n",
      "买入资金预算176387.93940064166, 实际可用现金232277.83751862543，卖出后可得到得到现金176387.93940064166\n",
      "****** \n",
      " \n",
      " 获取当前持仓:{'002460.SZA': 186240.7703212201, '600009.SHA': 129590.91486075045, '000768.SZA': 39529.54403926216, '300144.SZA': 34021.95752947327, '000568.SZA': 31336.46111632265}\n",
      "买入资金预算178393.05950729823, 实际可用现金267589.5892609473，卖出后可得到得到现金-25263.000901216932\n",
      "****** \n",
      " \n",
      " 获取当前持仓:{'002460.SZA': 228102.72129796102, '600009.SHA': 133682.97324407537, '000768.SZA': 83560.31357314182, '300144.SZA': 92637.39175503164, '000568.SZA': 33618.318270723845, '688012.SHA': 93874.72697915719, '600760.SHA': 37356.72716678297}\n",
      "买入资金预算181467.43703945115, 实际可用现金204504.012910382，卖出后可得到得到现金181467.43703945115\n",
      "****** \n",
      " \n",
      " 获取当前持仓:{'002460.SZA': 268843.8281729027, '300144.SZA': 161733.75105654044, '000568.SZA': 32652.55373383199, '688012.SHA': 130632.71280893024, '300347.SZA': 29369.85461934431, '603899.SHA': 25715.048779537636}\n",
      "买入资金预算180542.55440784965, 实际可用现金253765.02286816097，卖出后可得到得到现金180542.55440784965\n"
     ]
    },
    {
     "name": "stdout",
     "output_type": "stream",
     "text": [
      "****** \n",
      " \n",
      " 获取当前持仓:{'002460.SZA': 358032.20056265534, '300144.SZA': 202878.459883717, '002129.SZA': 54909.41127591939, '002352.SZA': 36855.22631983457}\n",
      "买入资金预算182137.6291996987, 实际可用现金258012.8479563672，卖出后可得到得到现金182137.6291996987\n",
      "****** \n",
      " \n",
      " 获取当前持仓:{'002460.SZA': 457115.8767577746, '600893.SHA': 57415.5864601312, '002024.SZA': 43499.8284666523, '002821.SZA': 36696.6526855568, '603501.SHA': 33099.288461334305}\n",
      "买入资金预算183690.88578230442, 实际可用现金275536.3286734566，卖出后可得到得到现金168600.01837568815\n",
      "****** \n",
      " \n",
      " 获取当前持仓:{'002460.SZA': 496497.2300975076, '300122.SZA': 97055.7444195578, '002812.SZA': 50353.54314208397, '600703.SHA': 40643.73187689546, '300144.SZA': 35848.308844924606}\n",
      "买入资金预算193736.64500958583, 实际可用现金248284.66666695988，卖出后可得到得到现金193736.64500958583\n",
      "2021-05-31 止盈股票列表 ['002460.SZA']\n",
      "****** \n",
      " \n",
      " 获取当前持仓:{'300122.SZA': 97637.48298546931, '002812.SZA': 49287.79828138227, '600703.SHA': 126476.3959203034, '300144.SZA': 80415.96042169521, '300142.SZA': 52887.18258977085, '002352.SZA': 36564.01251326649}\n",
      "买入资金预算193794.5945508207, 实际可用现金290691.89182623103，卖出后可得到得到现金-41217.65366516443\n"
     ]
    },
    {
     "data": {
      "text/plain": [
       "[2021-12-10 12:05:53.760322] INFO: Performance: Simulated 98 trading days out of 98."
      ]
     },
     "metadata": {
      "is_log": true,
      "status": "INFO"
     },
     "output_type": "display_data"
    },
    {
     "data": {
      "text/plain": [
       "[2021-12-10 12:05:53.762632] INFO: Performance: first open: 2021-01-04 09:30:00+00:00"
      ]
     },
     "metadata": {
      "is_log": true,
      "status": "INFO"
     },
     "output_type": "display_data"
    },
    {
     "data": {
      "text/plain": [
       "[2021-12-10 12:05:53.764069] INFO: Performance: last close: 2021-06-01 15:00:00+00:00"
      ]
     },
     "metadata": {
      "is_log": true,
      "status": "INFO"
     },
     "output_type": "display_data"
    },
    {
     "data": {
      "text/html": [
       "<div id='bigchart-9f01dfdb3c494f6e8ef7dce72bbb834d' class='bigchart display' style='display:none'><ul class='nav nav-tabs' style='padding-left: 0;'><li class='tabtitle' style='margin: 0;'><span style='margin: 0;font-size: 1.2em;display: inline-block;padding: 10px 10px;'>Trade(回测/模拟)</span></li><li class='active'><a>收益概况</a></li><li><a>交易详情</a></li><li><a>每日持仓和收益</a></li><li><a>输出日志</a></li></ul><div class='tab-content' style='min-height: 100px;text-align: center;'><div class='tab-pane active' id='收益概况'>\n",
       "<div class='kpicontainer'>\n",
       "    <ul class='kpi'>\n",
       "        <li><span class='title'>收益率</span><span class='value'>-3.1%</span></li>\n",
       "        <li><span class='title'>年化收益率</span><span class='value'>-7.79%</span></li>\n",
       "        <li><span class='title'>基准收益率</span><span class='value'>2.5%</span></li>\n",
       "        <li><span class='title'>阿尔法</span><span class='value'>-0.12</span></li>\n",
       "        <li><span class='title'>贝塔</span><span class='value'>0.89</span></li>\n",
       "        <li><span class='title'>夏普比率</span><span class='value'>-0.25</span></li>\n",
       "        <li><span class='title'>胜率</span><span class='value'>0.48</span></li>\n",
       "        <li><span class='title'>盈亏比</span><span class='value'>1.06</span></li>\n",
       "        <li><span class='title'>收益波动率</span><span class='value'>28.51%</span></li>\n",
       "        <li><span class='title'>信息比率</span><span class='value'>-0.04</span></li>\n",
       "        <li><span class='title'>最大回撤</span><span class='value'>15.95%</span></li>\n",
       "    </ul>\n",
       "</div>\n",
       "<div id=\"bigchart-14378b687bd24c72a9d557e48ee9fbe4\" class=\"bigchart\"></div><div class=\"bigchart-data\"><pre style=\"display:none\">bigcharts-data-start/{\"chart\":{\"height\":400,\"renderTo\":\"bigchart-14378b687bd24c72a9d557e48ee9fbe4\"},\"legend\":{\"enabled\":true,\"symbolHeight\":8,\"symbolWidth\":8,\"symbolPadding\":8,\"symbolRadius\":0},\"stock\":true,\"series\":[{\"name\":\"\\u7b56\\u7565\\u6536\\u76ca\\u7387\",\"yAxis\":0,\"data\":[[1609772400000,0.0],[1609858800000,0.4311],[1609945200000,0.2163],[1610031600000,0.053],[1610118000000,0.2419],[1610377200000,-0.1892],[1610463600000,0.4012],[1610550000000,0.1178],[1610636400000,-2.0823],[1610722800000,-2.5324],[1610982000000,-2.3704],[1611068400000,-2.7232],[1611154800000,-3.1073],[1611241200000,-2.0975],[1611327600000,-1.2733],[1611586800000,0.0682],[1611673200000,-1.5086],[1611759600000,-0.536],[1611846000000,-2.7187],[1611932400000,-4.4239],[1612191600000,-3.9172],[1612278000000,-1.1288],[1612364400000,-2.2837],[1612450800000,-2.4171],[1612537200000,-4.425],[1612796400000,-2.7908],[1612882800000,-0.6999],[1612969200000,0.4334],[1613660400000,-2.7946],[1613746800000,-2.6434],[1614006000000,-4.346],[1614092400000,-5.5986],[1614178800000,-5.9707],[1614265200000,-5.8105],[1614351600000,-5.8105],[1614610800000,-2.7147],[1614697200000,-3.6727],[1614783600000,-1.952],[1614870000000,-4.6815],[1614956400000,-3.1681],[1615215600000,-8.2785],[1615302000000,-11.1811],[1615388400000,-11.1811],[1615474800000,-11.1811],[1615561200000,-10.8992],[1615820400000,-11.788],[1615906800000,-12.5199],[1615993200000,-11.5887],[1616079600000,-10.4202],[1616166000000,-12.647],[1616425200000,-11.5312],[1616511600000,-12.8838],[1616598000000,-14.7452],[1616684400000,-13.3392],[1616770800000,-7.998],[1617030000000,-9.2232],[1617116400000,-8.1292],[1617202800000,-8.3607],[1617289200000,-6.3525],[1617375600000,-5.4885],[1617721200000,-7.3968],[1617807600000,-6.8486],[1617894000000,-7.2519],[1617980400000,-8.5573],[1618239600000,-11.7253],[1618326000000,-11.8739],[1618412400000,-10.5702],[1618498800000,-10.4691],[1618585200000,-11.5907],[1618844400000,-9.297],[1618930800000,-10.2852],[1619017200000,-9.05],[1619103600000,-10.1533],[1619190000000,-9.2335],[1619449200000,-9.545],[1619535600000,-9.1652],[1619622000000,-7.1626],[1619708400000,-7.4933],[1619794800000,-9.063],[1620313200000,-12.8725],[1620399600000,-15.4371],[1620658800000,-15.5858],[1620745200000,-14.5036],[1620831600000,-14.6705],[1620918000000,-14.5006],[1621004400000,-12.8813],[1621263600000,-10.9014],[1621350000000,-10.5386],[1621436400000,-9.5749],[1621522800000,-10.0177],[1621609200000,-11.8061],[1621868400000,-10.8036],[1621954800000,-9.2664],[1622041200000,-9.7288],[1622127600000,-8.9313],[1622214000000,-8.1546],[1622473200000,-3.1318],[1622559600000,-3.1028]],\"color\":\"#ff0000\",\"tooltip\":{\"valueDecimals\":2,\"valueSuffix\":\" %\"},\"type\":\"area\",\"fillColor\":{\"linearGradient\":[0,0,0,1],\"stops\":[[0,\"rgba(238,149,148,0.5)\"],[1,\"rgba(238,149,148,0.5)\"]]}},{\"name\":\"\\u57fa\\u51c6\\u6536\\u76ca\\u7387\",\"yAxis\":0,\"data\":[[1609772400000,1.0828],[1609858800000,3.0168],[1609945200000,3.9602],[1610031600000,5.8022],[1610118000000,5.4524],[1610377200000,4.411],[1610463600000,7.389],[1610550000000,7.0363],[1610636400000,4.9732],[1610722800000,4.7357],[1610982000000,5.8955],[1611068400000,4.3412],[1611154800000,5.0879],[1611241200000,6.7868],[1611327600000,6.879],[1611586800000,7.9565],[1611673200000,5.7889],[1611759600000,6.0775],[1611846000000,3.1826],[1611932400000,2.6994],[1612191600000,3.9598],[1612278000000,5.561],[1612364400000,5.2561],[1612450800000,5.0402],[1612537200000,5.2218],[1612796400000,6.779],[1612882800000,9.1141],[1612969200000,11.445],[1613660400000,10.6901],[1613746800000,10.8908],[1614006000000,7.4078],[1614092400000,7.0689],[1614178800000,4.3421],[1614265200000,4.956],[1614351600000,2.4077],[1614610800000,3.9816],[1614697200000,2.6546],[1614783600000,4.6231],[1614870000000,1.332],[1614956400000,0.9884],[1615215600000,-2.5189],[1615302000000,-4.6109],[1615388400000,-3.9851],[1615474800000,-1.5941],[1615561200000,-1.2456],[1615820400000,-3.3724],[1615906800000,-2.5316],[1615993200000,-2.1191],[1616079600000,-1.3341],[1616166000000,-3.9184],[1616425200000,-2.9578],[1616511600000,-3.877],[1616598000000,-5.4229],[1616684400000,-5.4678],[1616770800000,-3.3255],[1617030000000,-3.1549],[1617116400000,-2.2367],[1617202800000,-3.1264],[1617289200000,-1.9287],[1617375600000,-0.9543],[1617721200000,-1.3614],[1617807600000,-2.0637],[1617894000000,-1.9012],[1617980400000,-3.3763],[1618239600000,-5.0571],[1618326000000,-5.2126],[1618412400000,-4.4262],[1618498800000,-5.0336],[1618585200000,-4.7034],[1618844400000,-2.3847],[1618930800000,-2.4547],[1619017200000,-2.1596],[1619103600000,-2.3419],[1619190000000,-1.4552],[1619449200000,-2.5723],[1619535600000,-2.3174],[1619622000000,-1.7663],[1619708400000,-0.9041],[1619794800000,-1.6848],[1620313200000,-2.8815],[1620399600000,-4.1302],[1620658800000,-4.1998],[1620745200000,-3.6119],[1620831600000,-3.1996],[1620918000000,-4.1892],[1621004400000,-1.9323],[1621263600000,-0.5047],[1621350000000,-0.4545],[1621436400000,-0.7487],[1621522800000,-0.4773],[1621609200000,-1.4802],[1621868400000,-1.0688],[1621954800000,2.0569],[1622041200000,2.0975],[1622127600000,2.436],[1622214000000,2.107],[1622473200000,2.3081],[1622559600000,2.5021]],\"color\":\"#2776B6\",\"tooltip\":{\"valueDecimals\":2,\"valueSuffix\":\" %\"}},{\"name\":\"\\u76f8\\u5bf9\\u6536\\u76ca\\u7387\",\"yAxis\":0,\"data\":[[1609772400000,-1.0828],[1609858800000,-2.549],[1609945200000,-3.6498],[1610031600000,-5.5139],[1610118000000,-5.0232],[1610377200000,-4.4937],[1610463600000,-6.6528],[1610550000000,-6.6097],[1610636400000,-6.8619],[1610722800000,-7.0793],[1610982000000,-7.9538],[1611068400000,-6.9354],[1611154800000,-7.9688],[1611241200000,-8.4975],[1611327600000,-7.8062],[1611586800000,-7.4829],[1611673200000,-7.0832],[1611759600000,-6.419],[1611846000000,-5.9188],[1611932400000,-7.1274],[1612191600000,-7.7749],[1612278000000,-6.5188],[1612364400000,-7.3407],[1612450800000,-7.2772],[1612537200000,-9.3454],[1612796400000,-9.1369],[1612882800000,-9.1695],[1612969200000,-10.0732],[1613660400000,-12.3544],[1613746800000,-12.377],[1614006000000,-11.1573],[1614092400000,-12.0403],[1614178800000,-10.1468],[1614265200000,-10.5224],[1614351600000,-8.3499],[1614610800000,-6.7462],[1614697200000,-6.4744],[1614783600000,-6.5972],[1614870000000,-6.2592],[1614956400000,-4.453],[1615215600000,-6.1773],[1615302000000,-7.1328],[1615388400000,-7.7421],[1615474800000,-10.0395],[1615561200000,-10.0726],[1615820400000,-9.033],[1615906800000,-10.5793],[1615993200000,-10.0059],[1616079600000,-9.5383],[1616166000000,-9.4175],[1616425200000,-9.1661],[1616511600000,-9.6944],[1616598000000,-10.1716],[1616684400000,-8.6476],[1616770800000,-5.0875],[1617030000000,-6.5189],[1617116400000,-6.2786],[1617202800000,-5.6618],[1617289200000,-4.7608],[1617375600000,-4.8284],[1617721200000,-6.3589],[1617807600000,-5.1379],[1617894000000,-5.7059],[1617980400000,-5.6152],[1618239600000,-7.2433],[1618326000000,-7.2475],[1618412400000,-6.645],[1618498800000,-5.9461],[1618585200000,-7.4514],[1618844400000,-7.3021],[1618930800000,-8.2455],[1619017200000,-7.2599],[1619103600000,-8.2121],[1619190000000,-8.1059],[1619449200000,-7.3795],[1619535600000,-7.2329],[1619622000000,-5.7111],[1619708400000,-6.8745],[1619794800000,-7.721],[1620313200000,-10.4636],[1620399600000,-11.9478],[1620658800000,-12.0388],[1620745200000,-11.4508],[1620831600000,-12.0025],[1620918000000,-10.9276],[1621004400000,-11.3389],[1621263600000,-10.6146],[1621350000000,-10.2957],[1621436400000,-9.0643],[1621522800000,-9.7583],[1621609200000,-10.6424],[1621868400000,-9.9998],[1621954800000,-11.2923],[1622041200000,-11.7797],[1622127600000,-11.2928],[1622214000000,-10.2514],[1622473200000,-5.5199],[1622559600000,-5.6708]],\"color\":\"#8f4e4f\",\"tooltip\":{\"valueDecimals\":2,\"valueSuffix\":\" %\"},\"visible\":false},{\"name\":\"\\u6301\\u4ed3\\u5360\\u6bd4\",\"yAxis\":1,\"data\":[[1609772400000,0.0],[1609858800000,17.6754],[1609945200000,35.1947],[1610031600000,55.1639],[1610118000000,66.3315],[1610377200000,80.036],[1610463600000,74.8852],[1610550000000,77.6947],[1610636400000,86.5212],[1610722800000,64.2917],[1610982000000,79.3845],[1611068400000,74.9627],[1611154800000,25.5987],[1611241200000,56.1943],[1611327600000,74.1716],[1611586800000,65.7186],[1611673200000,53.6314],[1611759600000,79.8207],[1611846000000,67.5382],[1611932400000,48.356],[1612191600000,78.7205],[1612278000000,75.3615],[1612364400000,79.608],[1612450800000,77.5301],[1612537200000,75.5221],[1612796400000,69.0165],[1612882800000,79.2904],[1612969200000,75.5186],[1613660400000,75.8533],[1613746800000,51.7695],[1614006000000,78.2469],[1614092400000,71.4954],[1614178800000,79.8481],[1614265200000,33.3441],[1614351600000,33.3441],[1614610800000,0.0],[1614697200000,29.5387],[1614783600000,51.4039],[1614870000000,70.3882],[1614956400000,70.3881],[1615215600000,81.0494],[1615302000000,0.0],[1615388400000,0.0],[1615474800000,0.0],[1615561200000,30.3827],[1615820400000,59.9257],[1615906800000,75.6989],[1615993200000,65.0758],[1616079600000,79.6047],[1616166000000,53.1138],[1616425200000,78.6124],[1616511600000,73.92],[1616598000000,67.8348],[1616684400000,77.0019],[1616770800000,76.6741],[1617030000000,48.3439],[1617116400000,74.7346],[1617202800000,75.5156],[1617289200000,67.1389],[1617375600000,57.5659],[1617721200000,76.8969],[1617807600000,86.7012],[1617894000000,68.1862],[1617980400000,77.8434],[1618239600000,75.725],[1618326000000,56.704],[1618412400000,79.0316],[1618498800000,79.6436],[1618585200000,77.2152],[1618844400000,80.1606],[1618930800000,66.0669],[1619017200000,79.0593],[1619103600000,75.4716],[1619190000000,24.6914],[1619449200000,50.8036],[1619535600000,71.5662],[1619622000000,75.7588],[1619708400000,70.8947],[1619794800000,73.3953],[1620313200000,58.8132],[1620399600000,63.0193],[1620658800000,64.626],[1620745200000,73.9318],[1620831600000,72.6239],[1620918000000,62.3849],[1621004400000,78.7449],[1621263600000,20.9813],[1621350000000,51.1196],[1621436400000,78.1331],[1621522800000,76.5311],[1621609200000,73.6628],[1621868400000,47.1677],[1621954800000,77.4611],[1622041200000,71.8886],[1622127600000,71.6684],[1622214000000,68.3569],[1622473200000,74.3688],[1622559600000,45.7463]],\"color\":\"#66ff99\",\"tooltip\":{\"valueDecimals\":2,\"valueSuffix\":\" %\"}}],\"xAxis\":{\"type\":\"datetime\"},\"yAxis\":[{\"labels\":{\"align\":\"right\",\"x\":-3,\"format\":\"{value}%\"},\"title\":{\"text\":\"\\u51c0\\u503c\\u66f2\\u7ebf\"},\"top\":\"0%\",\"height\":\"76%\",\"offset\":0,\"lineWidth\":2,\"gridLineColor\":\"#cfcfcf\",\"gridLineWidth\":1},{\"labels\":{\"align\":\"right\",\"x\":-3,\"format\":\"{value}%\"},\"title\":{\"text\":\"\\u6301\\u4ed3\\u5360\\u6bd4\"},\"top\":\"80%\",\"height\":\"19%\",\"offset\":0,\"lineWidth\":2,\"gridLineColor\":\"#cfcfcf\",\"gridLineWidth\":1}],\"plotOptions\":{\"series\":{\"showInNavigator\":true},\"area\":{\"showInNavigator\":true}},\"rangeSelector\":{\"enabled\":true},\"navigator\":{\"enabled\":true}}/bigcharts-data-end</pre></div></div><div class='tab-pane' id='交易详情'><table id=\"bigchart-d9ffe720cc5b4274ba2de82cff98b03c\" width=\"100%\" class=\"display bigchart\"></table><div class=\"bigchart-data\"><pre style=\"display:none\">bigcharts-data-start/{\"deferRender\":true,\"data\":[[\"2021-06-01\",\"09:30\",\"002352.SZA\",\"\\u987a\\u4e30\\u63a7\\u80a1\",\"\\u4e70\\u5165\",149.389,241.0540008545,36010.802,10.8],[\"\",\"09:30\",\"300144.SZA\",\"\\u5b8b\\u57ce\\u6f14\\u827a\",\"\\u4e70\\u5165\",156.909,270.1510009766,42389.27,12.72],[\"\",\"09:30\",\"300142.SZA\",\"\\u6c83\\u68ee\\u751f\\u7269\",\"\\u4e70\\u5165\",52.709,1000.6469726562,52743.304,15.82],[\"\",\"09:30\",\"600703.SHA\",\"\\u4e09\\u5b89\\u5149\\u7535\",\"\\u4e70\\u5165\",142.667,586.6190185547,83690.912,25.11],[\"\",\"15:00\",\"002460.SZA\",\"\\u8d63\\u950b\\u9502\\u4e1a\",\"\\u5356\\u51fa\",401.773,1226.958984375,-492959.058,640.85],[\"\",\"\",\"\",\"\",\"\",\"\",\"\\uff085 \\u7b14\\u4ea4\\u6613\",\"\\u4e70\\u5165 \\uffe5214834.288\",\"\\u5356\\u51fa \\uffe5-492959.058\\uff09\"],[\"2021-05-31\",\"09:30\",\"300144.SZA\",\"\\u5b8b\\u57ce\\u6f14\\u827a\",\"\\u4e70\\u5165\",133.596,268.0310058594,35807.849,10.74],[\"\",\"09:30\",\"600703.SHA\",\"\\u4e09\\u5b89\\u5149\\u7535\",\"\\u4e70\\u5165\",68.859,591.9520263672,40761.243,12.23],[\"\",\"09:30\",\"002812.SZA\",\"\\u6069\\u6377\\u80a1\\u4efd\",\"\\u4e70\\u5165\",80.986,584.5200195312,47337.716,14.2],[\"\",\"09:30\",\"300122.SZA\",\"\\u667a\\u98de\\u751f\\u7269\",\"\\u4e70\\u5165\",118.022,808.9149780273,95469.639,28.64],[\"\",\"15:00\",\"002024.SZA\",\"\\u82cf\\u5b81\\u6613\\u8d2d\",\"\\u5356\\u51fa\",72.121,598.7490234375,-43182.314,56.14],[\"\",\"15:00\",\"002821.SZA\",\"\\u51ef\\u83b1\\u82f1\",\"\\u5356\\u51fa\",50.656,756.8489990234,-38339.173,49.84],[\"\",\"15:00\",\"603501.SHA\",\"\\u97e6\\u5c14\\u80a1\\u4efd\",\"\\u5356\\u51fa\",114.991,302.4219970703,-34775.743,45.21],[\"\",\"15:00\",\"600893.SHA\",\"\\u822a\\u53d1\\u52a8\\u529b\",\"\\u5356\\u51fa\",342.708,178.091003418,-61033.029,79.34],[\"\",\"\",\"\",\"\",\"\",\"\",\"\\uff088 \\u7b14\\u4ea4\\u6613\",\"\\u4e70\\u5165 \\uffe5219376.447\",\"\\u5356\\u51fa \\uffe5-177330.259\\uff09\"],[\"2021-05-28\",\"09:30\",\"603501.SHA\",\"\\u97e6\\u5c14\\u80a1\\u4efd\",\"\\u4e70\\u5165\",114.991,290.375,33390.443,10.02],[\"\",\"09:30\",\"002821.SZA\",\"\\u51ef\\u83b1\\u82f1\",\"\\u4e70\\u5165\",50.656,744.716003418,37724.514,11.32],[\"\",\"09:30\",\"002024.SZA\",\"\\u82cf\\u5b81\\u6613\\u8d2d\",\"\\u4e70\\u5165\",72.121,604.9119873047,43626.837,13.09],[\"\",\"09:30\",\"600893.SHA\",\"\\u822a\\u53d1\\u52a8\\u529b\",\"\\u4e70\\u5165\",342.708,159.4869995117,54657.287,16.4],[\"\",\"09:30\",\"002460.SZA\",\"\\u8d63\\u950b\\u9502\\u4e1a\",\"\\u4e70\\u5165\",78.912,1112.2850341797,87772.071,26.33],[\"\",\"15:00\",\"300144.SZA\",\"\\u5b8b\\u57ce\\u6f14\\u827a\",\"\\u5356\\u51fa\",733.707,270.6059875488,-198545.338,258.11],[\"\",\"15:00\",\"002352.SZA\",\"\\u987a\\u4e30\\u63a7\\u80a1\",\"\\u5356\\u51fa\",151.574,244.0229949951,-36987.608,48.08],[\"\",\"15:00\",\"002129.SZA\",\"\\u4e2d\\u73af\\u80a1\\u4efd\",\"\\u5356\\u51fa\",479.041,114.2009963989,-54707.016,71.12],[\"\",\"\",\"\",\"\",\"\",\"\",\"\\uff088 \\u7b14\\u4ea4\\u6613\",\"\\u4e70\\u5165 \\uffe5257171.152\",\"\\u5356\\u51fa \\uffe5-290239.962\\uff09\"],[\"2021-05-27\",\"09:30\",\"002352.SZA\",\"\\u987a\\u4e30\\u63a7\\u80a1\",\"\\u4e70\\u5165\",151.574,242.1020050049,36696.367,11.01],[\"\",\"09:30\",\"300144.SZA\",\"\\u5b8b\\u57ce\\u6f14\\u827a\",\"\\u4e70\\u5165\",154.195,278.6319885254,42963.446,12.89],[\"\",\"09:30\",\"002129.SZA\",\"\\u4e2d\\u73af\\u80a1\\u4efd\",\"\\u4e70\\u5165\",479.041,112.8069992065,54039.117,16.21],[\"\",\"09:30\",\"002460.SZA\",\"\\u8d63\\u950b\\u9502\\u4e1a\",\"\\u4e70\\u5165\",78.295,1106.5419921875,86636.585,25.99],[\"\",\"15:00\",\"688012.SHA\",\"\\u4e2d\\u5fae\\u516c\\u53f8\",\"\\u5356\\u51fa\",1044.31,131.5299987793,-137358.071,178.57],[\"\",\"15:00\",\"300347.SZA\",\"\\u6cf0\\u683c\\u533b\\u836f\",\"\\u5356\\u51fa\",13.295,2214.9851074219,-29449.072,38.28],[\"\",\"15:00\",\"603899.SHA\",\"\\u6668\\u5149\\u6587\\u5177\",\"\\u5356\\u51fa\",134.525,189.5030059814,-25492.821,33.14],[\"\",\"15:00\",\"000568.SZA\",\"\\u6cf8\\u5dde\\u8001\\u7a96\",\"\\u5356\\u51fa\",3.612,9037.54296875,-32641.902,42.43],[\"\",\"\",\"\",\"\",\"\",\"\",\"\\uff088 \\u7b14\\u4ea4\\u6613\",\"\\u4e70\\u5165 \\uffe5220335.515\",\"\\u5356\\u51fa \\uffe5-224941.866\\uff09\"],[\"2021-05-26\",\"09:30\",\"603899.SHA\",\"\\u6668\\u5149\\u6587\\u5177\",\"\\u4e70\\u5165\",134.525,201.0229949951,27042.651,8.11],[\"\",\"09:30\",\"300347.SZA\",\"\\u6cf0\\u683c\\u533b\\u836f\",\"\\u4e70\\u5165\",13.295,2218.212890625,29491.98,8.85],[\"\",\"09:30\",\"688012.SHA\",\"\\u4e2d\\u5fae\\u516c\\u53f8\",\"\\u4e70\\u5165\",281.721,123.5800018311,34815.038,10.44],[\"\",\"09:30\",\"002460.SZA\",\"\\u8d63\\u950b\\u9502\\u4e1a\",\"\\u4e70\\u5165\",39.367,1110.3699951172,43712.062,13.11],[\"\",\"09:30\",\"300144.SZA\",\"\\u5b8b\\u57ce\\u6f14\\u827a\",\"\\u4e70\\u5165\",248.12,279.5400085449,69359.623,20.81],[\"\",\"15:00\",\"000768.SZA\",\"\\u4e2d\\u822a\\u897f\\u98de\",\"\\u5356\\u51fa\",365.724,227.4649963379,-83189.483,108.15],[\"\",\"15:00\",\"600760.SHA\",\"\\u4e2d\\u822a\\u6c88\\u98de\",\"\\u5356\\u51fa\",100.026,373.8139953613,-37391.23,48.61],[\"\",\"15:00\",\"600009.SHA\",\"\\u4e0a\\u6d77\\u673a\\u573a\",\"\\u5356\\u51fa\",882.405,151.2830047607,-133493.273,173.54],[\"\",\"\",\"\",\"\",\"\",\"\",\"\\uff088 \\u7b14\\u4ea4\\u6613\",\"\\u4e70\\u5165 \\uffe5204421.354\",\"\\u5356\\u51fa \\uffe5-254073.986\\uff09\"],[\"2021-05-25\",\"09:30\",\"600760.SHA\",\"\\u4e2d\\u822a\\u6c88\\u98de\",\"\\u4e70\\u5165\",100.026,350.7529907227,35084.469,10.53],[\"\",\"09:30\",\"000768.SZA\",\"\\u4e2d\\u822a\\u897f\\u98de\",\"\\u4e70\\u5165\",181.831,215.0440063477,39101.735,11.73],[\"\",\"09:30\",\"002460.SZA\",\"\\u8d63\\u950b\\u9502\\u4e1a\",\"\\u4e70\\u5165\",40.202,1121.9530029297,45104.647,13.53],[\"\",\"09:30\",\"300144.SZA\",\"\\u5b8b\\u57ce\\u6f14\\u827a\",\"\\u4e70\\u5165\",207.879,274.6940002441,57103.103,17.13],[\"\",\"09:30\",\"688012.SHA\",\"\\u4e2d\\u5fae\\u516c\\u53f8\",\"\\u4e70\\u5165\",762.589,118.3700027466,90267.683,27.08],[\"\",\"\",\"\",\"\",\"\",\"\",\"\\uff085 \\u7b14\\u4ea4\\u6613\",\"\\u4e70\\u5165 \\uffe5266661.637\",\"\\u5356\\u51fa \\uffe50.0\\uff09\"],[\"2021-05-24\",\"09:30\",\"000568.SZA\",\"\\u6cf8\\u5dde\\u8001\\u7a96\",\"\\u4e70\\u5165\",3.612,8556.8291015625,30905.654,9.27],[\"\",\"09:30\",\"300144.SZA\",\"\\u5b8b\\u57ce\\u6f14\\u827a\",\"\\u4e70\\u5165\",123.513,273.1799926758,33741.402,10.12],[\"\",\"09:30\",\"000768.SZA\",\"\\u4e2d\\u822a\\u897f\\u98de\",\"\\u4e70\\u5165\",183.893,214.199005127,39389.7,11.82],[\"\",\"09:30\",\"600009.SHA\",\"\\u4e0a\\u6d77\\u673a\\u573a\",\"\\u4e70\\u5165\",343.181,144.8339996338,49704.267,14.91],[\"\",\"09:30\",\"002460.SZA\",\"\\u8d63\\u950b\\u9502\\u4e1a\",\"\\u4e70\\u5165\",70.949,1095.6290283203,77733.528,23.32],[\"\",\"15:00\",\"688012.SHA\",\"\\u4e2d\\u5fae\\u516c\\u53f8\",\"\\u5356\\u51fa\",2504.857,119.0100021362,-298103.094,387.53],[\"\",\"15:00\",\"603986.SHA\",\"\\u5146\\u6613\\u521b\\u65b0\",\"\\u5356\\u51fa\",40.232,665.6770019531,-26781.586,34.82],[\"\",\"15:00\",\"600893.SHA\",\"\\u822a\\u53d1\\u52a8\\u529b\",\"\\u5356\\u51fa\",1046.848,139.6950073242,-146239.587,190.11],[\"\",\"\",\"\",\"\",\"\",\"\",\"\\uff088 \\u7b14\\u4ea4\\u6613\",\"\\u4e70\\u5165 \\uffe5231474.551\",\"\\u5356\\u51fa \\uffe5-471124.267\\uff09\"],[\"2021-05-21\",\"09:30\",\"603986.SHA\",\"\\u5146\\u6613\\u521b\\u65b0\",\"\\u4e70\\u5165\",40.232,688.7520141602,27709.95,8.31],[\"\",\"09:30\",\"600893.SHA\",\"\\u822a\\u53d1\\u52a8\\u529b\",\"\\u4e70\\u5165\",216.569,142.5319976807,30867.952,9.26],[\"\",\"09:30\",\"002460.SZA\",\"\\u8d63\\u950b\\u9502\\u4e1a\",\"\\u4e70\\u5165\",32.818,1103.2869873047,36207.52,10.86],[\"\",\"09:30\",\"600009.SHA\",\"\\u4e0a\\u6d77\\u673a\\u573a\",\"\\u4e70\\u5165\",308.929,146.3699951172,45217.8,13.57],[\"\",\"09:30\",\"688012.SHA\",\"\\u4e2d\\u5fae\\u516c\\u53f8\",\"\\u4e70\\u5165\",594.731,121.4700012207,72241.926,21.67],[\"\",\"15:00\",\"300144.SZA\",\"\\u5b8b\\u57ce\\u6f14\\u827a\",\"\\u5356\\u51fa\",281.97,274.6940002441,-77455.427,100.69],[\"\",\"15:00\",\"000568.SZA\",\"\\u6cf8\\u5dde\\u8001\\u7a96\",\"\\u5356\\u51fa\",4.639,8437.8798828125,-39141.668,50.88],[\"\",\"15:00\",\"002024.SZA\",\"\\u82cf\\u5b81\\u6613\\u8d2d\",\"\\u5356\\u51fa\",51.987,592.5850219727,-30806.43,40.05],[\"\",\"15:00\",\"600066.SHA\",\"\\u5b87\\u901a\\u5ba2\\u8f66\",\"\\u5356\\u51fa\",43.702,603.1069946289,-26357.27,34.26],[\"\",\"15:00\",\"300142.SZA\",\"\\u6c83\\u68ee\\u751f\\u7269\",\"\\u5356\\u51fa\",64.656,927.2329711914,-59951.006,77.94],[\"\",\"\",\"\",\"\",\"\",\"\",\"\\uff0810 \\u7b14\\u4ea4\\u6613\",\"\\u4e70\\u5165 \\uffe5212245.148\",\"\\u5356\\u51fa \\uffe5-233711.801\\uff09\"],[\"2021-05-20\",\"09:30\",\"300142.SZA\",\"\\u6c83\\u68ee\\u751f\\u7269\",\"\\u4e70\\u5165\",25.804,991.3090209961,25580.167,7.67],[\"\",\"09:30\",\"600893.SHA\",\"\\u822a\\u53d1\\u52a8\\u529b\",\"\\u4e70\\u5165\",200.826,143.158996582,28749.94,8.62],[\"\",\"09:30\",\"600009.SHA\",\"\\u4e0a\\u6d77\\u673a\\u573a\",\"\\u4e70\\u5165\",230.296,145.2949981689,33460.732,10.04],[\"\",\"09:30\",\"688012.SHA\",\"\\u4e2d\\u5fae\\u516c\\u53f8\",\"\\u4e70\\u5165\",348.304,120.0999984741,41831.329,12.55],[\"\",\"09:30\",\"002460.SZA\",\"\\u8d63\\u950b\\u9502\\u4e1a\",\"\\u4e70\\u5165\",61.231,1081.5579833984,66224.776,19.87],[\"\",\"15:00\",\"002594.SZA\",\"\\u6bd4\\u4e9a\\u8fea\",\"\\u5356\\u51fa\",632.979,176.3809967041,-111645.248,145.14],[\"\",\"15:00\",\"000860.SZA\",\"\\u987a\\u946b\\u519c\\u4e1a\",\"\\u5356\\u51fa\",397.538,145.591003418,-57877.904,75.24],[\"\",\"15:00\",\"603986.SHA\",\"\\u5146\\u6613\\u521b\\u65b0\",\"\\u5356\\u51fa\",58.228,688.6959838867,-40101.468,52.13],[\"\",\"\",\"\",\"\",\"\",\"\",\"\\uff088 \\u7b14\\u4ea4\\u6613\",\"\\u4e70\\u5165 \\uffe5195846.944\",\"\\u5356\\u51fa \\uffe5-209624.62\\uff09\"],[\"2021-05-19\",\"09:30\",\"688012.SHA\",\"\\u4e2d\\u5fae\\u516c\\u53f8\",\"\\u4e70\\u5165\",287.762,122.0299987793,35115.56,10.53],[\"\",\"09:30\",\"000568.SZA\",\"\\u6cf8\\u5dde\\u8001\\u7a96\",\"\\u4e70\\u5165\",4.639,8388.072265625,38910.62,11.67],[\"\",\"09:30\",\"300144.SZA\",\"\\u5b8b\\u57ce\\u6f14\\u827a\",\"\\u4e70\\u5165\",156.783,291.0490112305,45631.37,13.69],[\"\",\"09:30\",\"002594.SZA\",\"\\u6bd4\\u4e9a\\u8fea\",\"\\u4e70\\u5165\",354.822,163.0809936523,57864.84,17.36],[\"\",\"09:30\",\"600893.SHA\",\"\\u822a\\u53d1\\u52a8\\u529b\",\"\\u4e70\\u5165\",629.454,143.2910003662,90194.79,27.06],[\"\",\"15:00\",\"002812.SZA\",\"\\u6069\\u6377\\u80a1\\u4efd\",\"\\u5356\\u51fa\",54.776,516.2009887695,-28275.44,36.76],[\"\",\"\",\"\",\"\",\"\",\"\",\"\\uff086 \\u7b14\\u4ea4\\u6613\",\"\\u4e70\\u5165 \\uffe5267717.18\",\"\\u5356\\u51fa \\uffe5-28275.44\\uff09\"],[\"2021-05-18\",\"09:30\",\"300144.SZA\",\"\\u5b8b\\u57ce\\u6f14\\u827a\",\"\\u4e70\\u5165\",125.187,281.9630126953,35298.09,10.59],[\"\",\"09:30\",\"300142.SZA\",\"\\u6c83\\u68ee\\u751f\\u7269\",\"\\u4e70\\u5165\",38.851,990.7319946289,38491.311,11.55],[\"\",\"09:30\",\"002594.SZA\",\"\\u6bd4\\u4e9a\\u8fea\",\"\\u4e70\\u5165\",278.157,163.1829986572,45390.512,13.62],[\"\",\"09:30\",\"000860.SZA\",\"\\u987a\\u946b\\u519c\\u4e1a\",\"\\u4e70\\u5165\",397.538,143.1289978027,56899.35,17.07],[\"\",\"09:30\",\"688012.SHA\",\"\\u4e2d\\u5fae\\u516c\\u53f8\",\"\\u4e70\\u5165\",755.028,119.9899978638,90595.794,27.18],[\"\",\"\",\"\",\"\",\"\",\"\",\"\\uff085 \\u7b14\\u4ea4\\u6613\",\"\\u4e70\\u5165 \\uffe5266675.057\",\"\\u5356\\u51fa \\uffe50.0\\uff09\"],[\"2021-05-17\",\"09:30\",\"002812.SZA\",\"\\u6069\\u6377\\u80a1\\u4efd\",\"\\u4e70\\u5165\",54.776,447.2179870605,24496.817,7.35],[\"\",\"09:30\",\"600066.SHA\",\"\\u5b87\\u901a\\u5ba2\\u8f66\",\"\\u4e70\\u5165\",43.702,626.4769897461,27378.586,8.21],[\"\",\"09:30\",\"002024.SZA\",\"\\u82cf\\u5b81\\u6613\\u8d2d\",\"\\u4e70\\u5165\",51.987,603.1510009766,31355.728,9.41],[\"\",\"09:30\",\"603986.SHA\",\"\\u5146\\u6613\\u521b\\u65b0\",\"\\u4e70\\u5165\",58.228,684.8959960938,39880.166,11.96],[\"\",\"09:30\",\"688012.SHA\",\"\\u4e2d\\u5fae\\u516c\\u53f8\",\"\\u4e70\\u5165\",519.033,121.0299987793,62818.581,18.85],[\"\",\"15:00\",\"600009.SHA\",\"\\u4e0a\\u6d77\\u673a\\u573a\",\"\\u5356\\u51fa\",3596.606,147.3220062256,-529857.797,688.82],[\"\",\"15:00\",\"300144.SZA\",\"\\u5b8b\\u57ce\\u6f14\\u827a\",\"\\u5356\\u51fa\",194.87,280.1459960938,-54592.067,70.97],[\"\",\"15:00\",\"002821.SZA\",\"\\u51ef\\u83b1\\u82f1\",\"\\u5356\\u51fa\",61.037,738.791015625,-45093.464,58.62],[\"\",\"15:00\",\"300014.SZA\",\"\\u4ebf\\u7eac\\u9502\\u80fd\",\"\\u5356\\u51fa\",21.486,1813.6870117188,-38969.699,50.66],[\"\",\"15:00\",\"000860.SZA\",\"\\u987a\\u946b\\u519c\\u4e1a\",\"\\u5356\\u51fa\",258.995,143.8800048828,-37264.178,48.44],[\"\",\"\",\"\",\"\",\"\",\"\",\"\\uff0810 \\u7b14\\u4ea4\\u6613\",\"\\u4e70\\u5165 \\uffe5185929.878\",\"\\u5356\\u51fa \\uffe5-705777.205\\uff09\"],[\"2021-05-14\",\"09:30\",\"300014.SZA\",\"\\u4ebf\\u7eac\\u9502\\u80fd\",\"\\u4e70\\u5165\",21.486,1579.0999755859,33929.259,10.18],[\"\",\"09:30\",\"000860.SZA\",\"\\u987a\\u946b\\u519c\\u4e1a\",\"\\u4e70\\u5165\",258.995,144.6900024414,37474.094,11.24],[\"\",\"09:30\",\"002821.SZA\",\"\\u51ef\\u83b1\\u82f1\",\"\\u4e70\\u5165\",61.037,708.0300292969,43215.91,12.96],[\"\",\"09:30\",\"300144.SZA\",\"\\u5b8b\\u57ce\\u6f14\\u827a\",\"\\u4e70\\u5165\",194.87,281.8120117188,54916.671,16.48],[\"\",\"09:30\",\"600009.SHA\",\"\\u4e0a\\u6d77\\u673a\\u573a\",\"\\u4e70\\u5165\",622.287,140.0119934082,87127.873,26.14],[\"\",\"15:00\",\"002812.SZA\",\"\\u6069\\u6377\\u80a1\\u4efd\",\"\\u5356\\u51fa\",68.218,443.5429992676,-30257.818,39.34],[\"\",\"15:00\",\"000661.SZA\",\"\\u957f\\u6625\\u9ad8\\u65b0\",\"\\u5356\\u51fa\",13.633,3842.080078125,-52378.42,68.09],[\"\",\"15:00\",\"603799.SHA\",\"\\u534e\\u53cb\\u94b4\\u4e1a\",\"\\u5356\\u51fa\",271.713,139.2120056152,-37825.684,49.17],[\"\",\"\",\"\",\"\",\"\",\"\",\"\\uff088 \\u7b14\\u4ea4\\u6613\",\"\\u4e70\\u5165 \\uffe5256663.807\",\"\\u5356\\u51fa \\uffe5-120461.922\\uff09\"],[\"2021-05-13\",\"09:30\",\"002812.SZA\",\"\\u6069\\u6377\\u80a1\\u4efd\",\"\\u4e70\\u5165\",68.218,442.7380065918,30202.905,9.06],[\"\",\"09:30\",\"603799.SHA\",\"\\u534e\\u53cb\\u94b4\\u4e1a\",\"\\u4e70\\u5165\",271.713,140.5980072021,38202.383,11.46],[\"\",\"09:30\",\"000661.SZA\",\"\\u957f\\u6625\\u9ad8\\u65b0\",\"\\u4e70\\u5165\",13.633,3619.9838867188,49350.624,14.81],[\"\",\"09:30\",\"600009.SHA\",\"\\u4e0a\\u6d77\\u673a\\u573a\",\"\\u4e70\\u5165\",566.233,139.1519927979,78792.758,23.64],[\"\",\"15:00\",\"300144.SZA\",\"\\u5b8b\\u57ce\\u6f14\\u827a\",\"\\u5356\\u51fa\",567.569,281.6600036621,-159861.628,207.82],[\"\",\"15:00\",\"603288.SHA\",\"\\u6d77\\u5929\\u5473\\u4e1a\",\"\\u5356\\u51fa\",59.991,807.0469970703,-48415.71,62.94],[\"\",\"15:00\",\"688008.SHA\",\"\\u6f9c\\u8d77\\u79d1\\u6280\",\"\\u5356\\u51fa\",1398.231,54.8619995117,-76709.332,99.72],[\"\",\"\",\"\",\"\",\"\",\"\",\"\\uff087 \\u7b14\\u4ea4\\u6613\",\"\\u4e70\\u5165 \\uffe5196548.67\",\"\\u5356\\u51fa \\uffe5-284986.67\\uff09\"],[\"2021-05-12\",\"09:30\",\"300144.SZA\",\"\\u5b8b\\u57ce\\u6f14\\u827a\",\"\\u4e70\\u5165\",98.625,294.5320129395,29048.079,8.71],[\"\",\"09:30\",\"688008.SHA\",\"\\u6f9c\\u8d77\\u79d1\\u6280\",\"\\u4e70\\u5165\",740.783,51.3209991455,38017.929,11.41],[\"\",\"09:30\",\"603288.SHA\",\"\\u6d77\\u5929\\u5473\\u4e1a\",\"\\u4e70\\u5165\",59.991,794.9840087891,47692.025,14.31],[\"\",\"09:30\",\"600009.SHA\",\"\\u4e0a\\u6d77\\u673a\\u573a\",\"\\u4e70\\u5165\",541.783,138.9989929199,75307.21,22.59],[\"\",\"15:00\",\"601600.SHA\",\"\\u4e2d\\u56fd\\u94dd\\u4e1a\",\"\\u5356\\u51fa\",6277.528,5.9640002251,-37438.729,48.67],[\"\",\"15:00\",\"002024.SZA\",\"\\u82cf\\u5b81\\u6613\\u8d2d\",\"\\u5356\\u51fa\",119.042,601.3900146484,-71590.462,93.07],[\"\",\"15:00\",\"600436.SHA\",\"\\u7247\\u4ed4\\u7640\",\"\\u5356\\u51fa\",15.842,2256.3220214844,-35745.277,46.47],[\"\",\"15:00\",\"603658.SHA\",\"\\u5b89\\u56fe\\u751f\\u7269\",\"\\u5356\\u51fa\",476.064,118.3330001831,-56334.042,73.23],[\"\",\"\",\"\",\"\",\"\",\"\",\"\\uff088 \\u7b14\\u4ea4\\u6613\",\"\\u4e70\\u5165 \\uffe5190065.243\",\"\\u5356\\u51fa \\uffe5-201108.51\\uff09\"],[\"2021-05-11\",\"09:30\",\"688008.SHA\",\"\\u6f9c\\u8d77\\u79d1\\u6280\",\"\\u4e70\\u5165\",657.448,50.0480003357,32903.629,9.87],[\"\",\"09:30\",\"601600.SHA\",\"\\u4e2d\\u56fd\\u94dd\\u4e1a\",\"\\u4e70\\u5165\",6277.528,5.6380000114,35390.798,10.62],[\"\",\"09:30\",\"300144.SZA\",\"\\u5b8b\\u57ce\\u6f14\\u827a\",\"\\u4e70\\u5165\",143.23,296.9549865723,42532.829,12.76],[\"\",\"09:30\",\"603658.SHA\",\"\\u5b89\\u56fe\\u751f\\u7269\",\"\\u4e70\\u5165\",476.064,114.1460037231,54340.714,16.3],[\"\",\"09:30\",\"600009.SHA\",\"\\u4e0a\\u6d77\\u673a\\u573a\",\"\\u4e70\\u5165\",629.319,135.6210021973,85348.694,25.6],[\"\",\"15:00\",\"600570.SHA\",\"\\u6052\\u751f\\u7535\\u5b50\",\"\\u5356\\u51fa\",25.542,2077.2270507812,-53056.75,68.97],[\"\",\"15:00\",\"000860.SZA\",\"\\u987a\\u946b\\u519c\\u4e1a\",\"\\u5356\\u51fa\",240.108,142.5890045166,-34236.716,44.51],[\"\",\"15:00\",\"002129.SZA\",\"\\u4e2d\\u73af\\u80a1\\u4efd\",\"\\u5356\\u51fa\",328.49,118.172996521,-38818.535,50.46],[\"\",\"15:00\",\"600547.SHA\",\"\\u5c71\\u4e1c\\u9ec4\\u91d1\",\"\\u5356\\u51fa\",103.197,474.5719909668,-48974.503,63.67],[\"\",\"\",\"\",\"\",\"\",\"\",\"\\uff089 \\u7b14\\u4ea4\\u6613\",\"\\u4e70\\u5165 \\uffe5250516.664\",\"\\u5356\\u51fa \\uffe5-175086.504\\uff09\"],[\"2021-05-10\",\"09:30\",\"000860.SZA\",\"\\u987a\\u946b\\u519c\\u4e1a\",\"\\u4e70\\u5165\",240.108,138.5659942627,33270.881,9.98],[\"\",\"09:30\",\"002129.SZA\",\"\\u4e2d\\u73af\\u80a1\\u4efd\",\"\\u4e70\\u5165\",328.49,113.6100006104,37319.643,11.2],[\"\",\"09:30\",\"300144.SZA\",\"\\u5b8b\\u57ce\\u6f14\\u827a\",\"\\u4e70\\u5165\",146.065,294.0769958496,42954.268,12.89],[\"\",\"09:30\",\"600570.SHA\",\"\\u6052\\u751f\\u7535\\u5b50\",\"\\u4e70\\u5165\",25.542,2137.5681152344,54597.975,16.38],[\"\",\"09:30\",\"600009.SHA\",\"\\u4e0a\\u6d77\\u673a\\u573a\",\"\\u4e70\\u5165\",618.87,139.0299987793,86041.246,25.81],[\"\",\"15:00\",\"603087.SHA\",\"\\u7518\\u674e\\u836f\\u4e1a\",\"\\u5356\\u51fa\",186.948,171.574005127,-32075.391,41.7],[\"\",\"15:00\",\"002821.SZA\",\"\\u51ef\\u83b1\\u82f1\",\"\\u5356\\u51fa\",129.757,633.1770019531,-82159.26,106.81],[\"\",\"15:00\",\"688012.SHA\",\"\\u4e2d\\u5fae\\u516c\\u53f8\",\"\\u5356\\u51fa\",1176.157,107.3199996948,-126225.168,164.09],[\"\",\"\",\"\",\"\",\"\",\"\",\"\\uff088 \\u7b14\\u4ea4\\u6613\",\"\\u4e70\\u5165 \\uffe5254184.013\",\"\\u5356\\u51fa \\uffe5-240459.819\\uff09\"],[\"2021-05-07\",\"09:30\",\"600436.SHA\",\"\\u7247\\u4ed4\\u7640\",\"\\u4e70\\u5165\",15.842,2163.3879394531,34272.986,10.28],[\"\",\"09:30\",\"002024.SZA\",\"\\u82cf\\u5b81\\u6613\\u8d2d\",\"\\u4e70\\u5165\",64.911,601.3900146484,39037.075,11.71],[\"\",\"09:30\",\"600547.SHA\",\"\\u5c71\\u4e1c\\u9ec4\\u91d1\",\"\\u4e70\\u5165\",103.197,436.299987793,45024.947,13.51],[\"\",\"09:30\",\"300144.SZA\",\"\\u5b8b\\u57ce\\u6f14\\u827a\",\"\\u4e70\\u5165\",179.65,309.2200012207,55551.452,16.67],[\"\",\"09:30\",\"600009.SHA\",\"\\u4e0a\\u6d77\\u673a\\u573a\",\"\\u4e70\\u5165\",618.113,141.9160003662,87720.452,26.32],[\"\",\"15:00\",\"002594.SZA\",\"\\u6bd4\\u4e9a\\u8fea\",\"\\u5356\\u51fa\",1470.129,146.8139953613,-215835.36,280.59],[\"\",\"\",\"\",\"\",\"\",\"\",\"\\uff086 \\u7b14\\u4ea4\\u6613\",\"\\u4e70\\u5165 \\uffe5261606.912\",\"\\u5356\\u51fa \\uffe5-215835.36\\uff09\"],[\"2021-05-06\",\"09:30\",\"002024.SZA\",\"\\u82cf\\u5b81\\u6613\\u8d2d\",\"\\u4e70\\u5165\",54.13,587.3020019531,31790.786,9.54],[\"\",\"09:30\",\"603087.SHA\",\"\\u7518\\u674e\\u836f\\u4e1a\",\"\\u4e70\\u5165\",186.948,186.6600036621,34895.695,10.47],[\"\",\"09:30\",\"002821.SZA\",\"\\u51ef\\u83b1\\u82f1\",\"\\u4e70\\u5165\",61.477,653.3859863281,40167.927,12.05],[\"\",\"09:30\",\"002594.SZA\",\"\\u6bd4\\u4e9a\\u8fea\",\"\\u4e70\\u5165\",320.117,160.1239929199,51258.227,15.38],[\"\",\"09:30\",\"688012.SHA\",\"\\u4e2d\\u5fae\\u516c\\u53f8\",\"\\u4e70\\u5165\",690.697,118.75,82020.251,24.61],[\"\",\"15:00\",\"300144.SZA\",\"\\u5b8b\\u57ce\\u6f14\\u827a\",\"\\u5356\\u51fa\",1045.037,311.3399963379,-325362.339,422.97],[\"\",\"15:00\",\"000568.SZA\",\"\\u6cf8\\u5dde\\u8001\\u7a96\",\"\\u5356\\u51fa\",4.099,7860.5,-32223.09,41.89],[\"\",\"\",\"\",\"\",\"\",\"\",\"\\uff087 \\u7b14\\u4ea4\\u6613\",\"\\u4e70\\u5165 \\uffe5240132.886\",\"\\u5356\\u51fa \\uffe5-357585.429\\uff09\"],[\"2021-04-30\",\"09:30\",\"000568.SZA\",\"\\u6cf8\\u5dde\\u8001\\u7a96\",\"\\u4e70\\u5165\",4.099,8487.0322265625,34791.478,10.44],[\"\",\"09:30\",\"300144.SZA\",\"\\u5b8b\\u57ce\\u6f14\\u827a\",\"\\u4e70\\u5165\",118.104,331.1780090332,39113.342,11.73],[\"\",\"09:30\",\"002821.SZA\",\"\\u51ef\\u83b1\\u82f1\",\"\\u4e70\\u5165\",68.281,663.5120239258,45305.046,13.59],[\"\",\"09:30\",\"688012.SHA\",\"\\u4e2d\\u5fae\\u516c\\u53f8\",\"\\u4e70\\u5165\",485.46,118.0,57284.297,17.19],[\"\",\"09:30\",\"002594.SZA\",\"\\u6bd4\\u4e9a\\u8fea\",\"\\u4e70\\u5165\",549.465,164.7030029297,90498.501,27.15],[\"\",\"15:00\",\"600760.SHA\",\"\\u4e2d\\u822a\\u6c88\\u98de\",\"\\u5356\\u51fa\",339.207,284.5249938965,-96512.693,125.47],[\"\",\"15:00\",\"300529.SZA\",\"\\u5065\\u5e06\\u751f\\u7269\",\"\\u5356\\u51fa\",175.722,189.2279968262,-33251.56,43.23],[\"\",\"15:00\",\"600436.SHA\",\"\\u7247\\u4ed4\\u7640\",\"\\u5356\\u51fa\",15.527,2219.1088867188,-34455.053,44.79],[\"\",\"15:00\",\"600161.SHA\",\"\\u5929\\u575b\\u751f\\u7269\",\"\\u5356\\u51fa\",83.819,472.3729858398,-39593.969,51.47],[\"\",\"15:00\",\"600588.SHA\",\"\\u7528\\u53cb\\u7f51\\u7edc\",\"\\u5356\\u51fa\",19.781,1833.1949462891,-36263.278,47.14],[\"\",\"\",\"\",\"\",\"\",\"\",\"\\uff0810 \\u7b14\\u4ea4\\u6613\",\"\\u4e70\\u5165 \\uffe5266992.664\",\"\\u5356\\u51fa \\uffe5-240076.553\\uff09\"],[\"2021-04-29\",\"09:30\",\"002594.SZA\",\"\\u6bd4\\u4e9a\\u8fea\",\"\\u4e70\\u5165\",174.934,166.2429962158,29081.529,8.72],[\"\",\"09:30\",\"300529.SZA\",\"\\u5065\\u5e06\\u751f\\u7269\",\"\\u4e70\\u5165\",175.722,185.404006958,32579.637,9.77],[\"\",\"09:30\",\"600588.SHA\",\"\\u7528\\u53cb\\u7f51\\u7edc\",\"\\u4e70\\u5165\",19.781,1904.9759521484,37683.223,11.3],[\"\",\"09:30\",\"600760.SHA\",\"\\u4e2d\\u822a\\u6c88\\u98de\",\"\\u4e70\\u5165\",157.398,306.6499938965,48265.967,14.48],[\"\",\"09:30\",\"300144.SZA\",\"\\u5b8b\\u57ce\\u6f14\\u827a\",\"\\u4e70\\u5165\",231.213,330.5719909668,76432.681,22.93],[\"\",\"15:00\",\"600809.SHA\",\"\\u5c71\\u897f\\u6c7e\\u9152\",\"\\u5356\\u51fa\",56.543,1840.6800537109,-104078.23,135.3],[\"\",\"15:00\",\"002129.SZA\",\"\\u4e2d\\u73af\\u80a1\\u4efd\",\"\\u5356\\u51fa\",321.315,114.75,-36871.021,47.93],[\"\",\"15:00\",\"603658.SHA\",\"\\u5b89\\u56fe\\u751f\\u7269\",\"\\u5356\\u51fa\",355.347,129.2640075684,-45933.464,59.71],[\"\",\"15:00\",\"000568.SZA\",\"\\u6cf8\\u5dde\\u8001\\u7a96\",\"\\u5356\\u51fa\",9.489,8617.451171875,-81771.344,106.3],[\"\",\"\",\"\",\"\",\"\",\"\",\"\\uff089 \\u7b14\\u4ea4\\u6613\",\"\\u4e70\\u5165 \\uffe5224043.037\",\"\\u5356\\u51fa \\uffe5-268654.059\\uff09\"],[\"2021-04-28\",\"09:30\",\"600436.SHA\",\"\\u7247\\u4ed4\\u7640\",\"\\u4e70\\u5165\",15.527,2171.8898925781,33721.899,10.12],[\"\",\"09:30\",\"002129.SZA\",\"\\u4e2d\\u73af\\u80a1\\u4efd\",\"\\u4e70\\u5165\",321.315,114.0739974976,36653.814,11.0],[\"\",\"09:30\",\"603658.SHA\",\"\\u5b89\\u56fe\\u751f\\u7269\",\"\\u4e70\\u5165\",355.347,123.0879974365,43739.037,13.12],[\"\",\"09:30\",\"600760.SHA\",\"\\u4e2d\\u822a\\u6c88\\u98de\",\"\\u4e70\\u5165\",181.809,301.1799926758,54757.336,16.43],[\"\",\"09:30\",\"300144.SZA\",\"\\u5b8b\\u57ce\\u6f14\\u827a\",\"\\u4e70\\u5165\",269.306,323.6059875488,87149.109,26.14],[\"\",\"15:00\",\"601888.SHA\",\"\\u4e2d\\u56fd\\u4e2d\\u514d\",\"\\u5356\\u51fa\",70.784,675.3049926758,-47800.637,62.14],[\"\",\"15:00\",\"002049.SZA\",\"\\u7d2b\\u5149\\u56fd\\u5fae\",\"\\u5356\\u51fa\",122.911,496.6180114746,-61039.712,79.35],[\"\",\"15:00\",\"600600.SHA\",\"\\u9752\\u5c9b\\u5564\\u9152\",\"\\u5356\\u51fa\",296.295,156.8139953613,-46463.138,60.4],[\"\",\"15:00\",\"603259.SHA\",\"\\u836f\\u660e\\u5eb7\\u5fb7\",\"\\u5356\\u51fa\",103.964,309.2619934082,-32152.179,41.8],[\"\",\"15:00\",\"300413.SZA\",\"\\u8292\\u679c\\u8d85\\u5a92\",\"\\u5356\\u51fa\",294.654,121.1699981689,-35703.132,46.41],[\"\",\"\",\"\",\"\",\"\",\"\",\"\\uff0810 \\u7b14\\u4ea4\\u6613\",\"\\u4e70\\u5165 \\uffe5256021.195\",\"\\u5356\\u51fa \\uffe5-223158.798\\uff09\"],[\"2021-04-27\",\"09:30\",\"002594.SZA\",\"\\u6bd4\\u4e9a\\u8fea\",\"\\u4e70\\u5165\",208.418,169.3029937744,35285.642,10.59],[\"\",\"09:30\",\"600161.SHA\",\"\\u5929\\u575b\\u751f\\u7269\",\"\\u4e70\\u5165\",83.819,470.0159912109,39396.438,11.82],[\"\",\"09:30\",\"601888.SHA\",\"\\u4e2d\\u56fd\\u4e2d\\u514d\",\"\\u4e70\\u5165\",70.784,656.8980102539,46497.683,13.95],[\"\",\"09:30\",\"600809.SHA\",\"\\u5c71\\u897f\\u6c7e\\u9152\",\"\\u4e70\\u5165\",33.523,1774.3089599609,59480.524,17.84],[\"\",\"09:30\",\"300144.SZA\",\"\\u5b8b\\u57ce\\u6f14\\u827a\",\"\\u4e70\\u5165\",280.86,329.2090148926,92461.579,27.74],[\"\",\"15:00\",\"600118.SHA\",\"\\u4e2d\\u56fd\\u536b\\u661f\",\"\\u5356\\u51fa\",172.077,503.1950073242,-86588.327,112.56],[\"\",\"\",\"\",\"\",\"\",\"\",\"\\uff086 \\u7b14\\u4ea4\\u6613\",\"\\u4e70\\u5165 \\uffe5273121.866\",\"\\u5356\\u51fa \\uffe5-86588.327\\uff09\"],[\"2021-04-26\",\"09:30\",\"600809.SHA\",\"\\u5c71\\u897f\\u6c7e\\u9152\",\"\\u4e70\\u5165\",23.02,1734.4870605469,39928.164,11.98],[\"\",\"09:30\",\"300144.SZA\",\"\\u5b8b\\u57ce\\u6f14\\u827a\",\"\\u4e70\\u5165\",145.554,316.1860046387,46022.31,13.81],[\"\",\"09:30\",\"002049.SZA\",\"\\u7d2b\\u5149\\u56fd\\u5fae\",\"\\u4e70\\u5165\",122.911,474.2909851074,58295.499,17.49],[\"\",\"09:30\",\"600118.SHA\",\"\\u4e2d\\u56fd\\u536b\\u661f\",\"\\u4e70\\u5165\",172.077,547.5850219727,94226.778,28.27],[\"\",\"\",\"\",\"\",\"\",\"\",\"\\uff084 \\u7b14\\u4ea4\\u6613\",\"\\u4e70\\u5165 \\uffe5238472.751\",\"\\u5356\\u51fa \\uffe50.0\\uff09\"],[\"2021-04-23\",\"09:30\",\"603259.SHA\",\"\\u836f\\u660e\\u5eb7\\u5fb7\",\"\\u4e70\\u5165\",103.964,276.3640136719,28731.909,8.62],[\"\",\"09:30\",\"300413.SZA\",\"\\u8292\\u679c\\u8d85\\u5a92\",\"\\u4e70\\u5165\",294.654,110.158996582,32458.774,9.74],[\"\",\"09:30\",\"002594.SZA\",\"\\u6bd4\\u4e9a\\u8fea\",\"\\u4e70\\u5165\",217.195,170.5059967041,37033.115,11.11],[\"\",\"09:30\",\"600600.SHA\",\"\\u9752\\u5c9b\\u5564\\u9152\",\"\\u4e70\\u5165\",296.295,162.5350036621,48158.435,14.45],[\"\",\"09:30\",\"000568.SZA\",\"\\u6cf8\\u5dde\\u8001\\u7a96\",\"\\u4e70\\u5165\",9.489,7868.0361328125,74660.114,22.4],[\"\",\"15:00\",\"600118.SHA\",\"\\u4e2d\\u56fd\\u536b\\u661f\",\"\\u5356\\u51fa\",1010.477,536.6970214844,-542319.942,705.02],[\"\",\"15:00\",\"600809.SHA\",\"\\u5c71\\u897f\\u6c7e\\u9152\",\"\\u5356\\u51fa\",24.097,1727.8050537109,-41634.509,54.12],[\"\",\"15:00\",\"002129.SZA\",\"\\u4e2d\\u73af\\u80a1\\u4efd\",\"\\u5356\\u51fa\",263.328,121.1719970703,-31908.085,41.48],[\"\",\"15:00\",\"002179.SZA\",\"\\u4e2d\\u822a\\u5149\\u7535\",\"\\u5356\\u51fa\",76.432,582.2119750977,-44499.372,57.85],[\"\",\"15:00\",\"600588.SHA\",\"\\u7528\\u53cb\\u7f51\\u7edc\",\"\\u5356\\u51fa\",12.575,1972.8929443359,-24808.218,32.25],[\"\",\"\",\"\",\"\",\"\",\"\",\"\\uff0810 \\u7b14\\u4ea4\\u6613\",\"\\u4e70\\u5165 \\uffe5221042.347\",\"\\u5356\\u51fa \\uffe5-685170.126\\uff09\"],[\"2021-04-22\",\"09:30\",\"600588.SHA\",\"\\u7528\\u53cb\\u7f51\\u7edc\",\"\\u4e70\\u5165\",12.575,1987.2490234375,24988.742,7.5],[\"\",\"09:30\",\"002129.SZA\",\"\\u4e2d\\u73af\\u80a1\\u4efd\",\"\\u4e70\\u5165\",263.328,124.0029983521,32653.498,9.8],[\"\",\"09:30\",\"600809.SHA\",\"\\u5c71\\u897f\\u6c7e\\u9152\",\"\\u4e70\\u5165\",24.097,1736.6989746094,41848.817,12.55],[\"\",\"09:30\",\"600118.SHA\",\"\\u4e2d\\u56fd\\u536b\\u661f\",\"\\u4e70\\u5165\",120.507,537.0319824219,64716.078,19.41],[\"\",\"15:00\",\"603259.SHA\",\"\\u836f\\u660e\\u5eb7\\u5fb7\",\"\\u5356\\u51fa\",127.504,278.1239929199,-35461.982,46.1],[\"\",\"15:00\",\"000568.SZA\",\"\\u6cf8\\u5dde\\u8001\\u7a96\",\"\\u5356\\u51fa\",15.126,7876.8837890625,-119143.404,154.89],[\"\",\"15:00\",\"600436.SHA\",\"\\u7247\\u4ed4\\u7640\",\"\\u5356\\u51fa\",18.252,2182.1579589844,-39828.008,51.78],[\"\",\"\",\"\",\"\",\"\",\"\",\"\\uff087 \\u7b14\\u4ea4\\u6613\",\"\\u4e70\\u5165 \\uffe5164207.135\",\"\\u5356\\u51fa \\uffe5-194433.394\\uff09\"],[\"2021-04-21\",\"09:30\",\"603259.SHA\",\"\\u836f\\u660e\\u5eb7\\u5fb7\",\"\\u4e70\\u5165\",127.504,276.3439941406,35234.97,10.57],[\"\",\"09:30\",\"600436.SHA\",\"\\u7247\\u4ed4\\u7640\",\"\\u4e70\\u5165\",18.252,2145.1398925781,39152.389,11.75],[\"\",\"09:30\",\"002179.SZA\",\"\\u4e2d\\u822a\\u5149\\u7535\",\"\\u4e70\\u5165\",76.432,591.6300048828,45219.211,13.57],[\"\",\"09:30\",\"000568.SZA\",\"\\u6cf8\\u5dde\\u8001\\u7a96\",\"\\u4e70\\u5165\",7.337,7710.419921875,56573.85,16.97],[\"\",\"09:30\",\"600118.SHA\",\"\\u4e2d\\u56fd\\u536b\\u661f\",\"\\u4e70\\u5165\",172.725,525.3060302734,90733.483,27.22],[\"\",\"15:00\",\"002129.SZA\",\"\\u4e2d\\u73af\\u80a1\\u4efd\",\"\\u5356\\u51fa\",248.118,122.6510009766,-30431.982,39.56],[\"\",\"15:00\",\"002594.SZA\",\"\\u6bd4\\u4e9a\\u8fea\",\"\\u5356\\u51fa\",146.391,171.9440002441,-25171.111,32.72],[\"\",\"15:00\",\"002049.SZA\",\"\\u7d2b\\u5149\\u56fd\\u5fae\",\"\\u5356\\u51fa\",51.999,494.1910095215,-25697.569,33.41],[\"\",\"15:00\",\"600588.SHA\",\"\\u7528\\u53cb\\u7f51\\u7edc\",\"\\u5356\\u51fa\",13.311,1987.2490234375,-26451.852,34.39],[\"\",\"15:00\",\"601100.SHA\",\"\\u6052\\u7acb\\u6db2\\u538b\",\"\\u5356\\u51fa\",153.166,296.841003418,-45466.089,59.11],[\"\",\"\",\"\",\"\",\"\",\"\",\"\\uff0810 \\u7b14\\u4ea4\\u6613\",\"\\u4e70\\u5165 \\uffe5266913.903\",\"\\u5356\\u51fa \\uffe5-153218.603\\uff09\"],[\"2021-04-20\",\"09:30\",\"002594.SZA\",\"\\u6bd4\\u4e9a\\u8fea\",\"\\u4e70\\u5165\",146.391,178.4819946289,26128.149,7.84],[\"\",\"09:30\",\"002129.SZA\",\"\\u4e2d\\u73af\\u80a1\\u4efd\",\"\\u4e70\\u5165\",248.118,122.1019973755,30295.703,9.09],[\"\",\"09:30\",\"600118.SHA\",\"\\u4e2d\\u56fd\\u536b\\u661f\",\"\\u4e70\\u5165\",70.645,545.0720214844,38506.71,11.55],[\"\",\"09:30\",\"000568.SZA\",\"\\u6cf8\\u5dde\\u8001\\u7a96\",\"\\u4e70\\u5165\",7.788,7716.9741210938,60102.714,18.03],[\"\",\"15:00\",\"002044.SZA\",\"\\u7f8e\\u5e74\\u5065\\u5eb7\",\"\\u5356\\u51fa\",894.757,118.6660003662,-106177.583,138.03],[\"\",\"15:00\",\"300014.SZA\",\"\\u4ebf\\u7eac\\u9502\\u80fd\",\"\\u5356\\u51fa\",121.87,1425.6760253906,-173746.819,225.87],[\"\",\"\",\"\",\"\",\"\",\"\",\"\\uff086 \\u7b14\\u4ea4\\u6613\",\"\\u4e70\\u5165 \\uffe5155033.276\",\"\\u5356\\u51fa \\uffe5-279924.402\\uff09\"],[\"2021-04-19\",\"09:30\",\"600588.SHA\",\"\\u7528\\u53cb\\u7f51\\u7edc\",\"\\u4e70\\u5165\",13.311,1982.83203125,26393.054,7.92],[\"\",\"09:30\",\"600118.SHA\",\"\\u4e2d\\u56fd\\u536b\\u661f\",\"\\u4e70\\u5165\",54.048,538.2039794922,29088.865,8.73],[\"\",\"09:30\",\"300014.SZA\",\"\\u4ebf\\u7eac\\u9502\\u80fd\",\"\\u4e70\\u5165\",26.786,1264.4200439453,33869.201,10.16],[\"\",\"09:30\",\"601100.SHA\",\"\\u6052\\u7acb\\u6db2\\u538b\",\"\\u4e70\\u5165\",153.166,281.0230102539,43043.293,12.91],[\"\",\"09:30\",\"002044.SZA\",\"\\u7f8e\\u5e74\\u5065\\u5eb7\",\"\\u4e70\\u5165\",616.064,111.6750030518,68798.648,20.64],[\"\",\"15:00\",\"603986.SHA\",\"\\u5146\\u6613\\u521b\\u65b0\",\"\\u5356\\u51fa\",266.508,675.3939819336,-179997.985,234.0],[\"\",\"\",\"\",\"\",\"\",\"\",\"\\uff086 \\u7b14\\u4ea4\\u6613\",\"\\u4e70\\u5165 \\uffe5201193.061\",\"\\u5356\\u51fa \\uffe5-179997.985\\uff09\"],[\"2021-04-16\",\"09:30\",\"002049.SZA\",\"\\u7d2b\\u5149\\u56fd\\u5fae\",\"\\u4e70\\u5165\",51.999,463.7900085449,24116.71,7.24],[\"\",\"09:30\",\"603986.SHA\",\"\\u5146\\u6613\\u521b\\u65b0\",\"\\u4e70\\u5165\",37.131,717.0819702148,26625.79,7.99],[\"\",\"09:30\",\"002044.SZA\",\"\\u7f8e\\u5e74\\u5065\\u5eb7\",\"\\u4e70\\u5165\",278.694,110.8980026245,30906.465,9.27],[\"\",\"09:30\",\"600118.SHA\",\"\\u4e2d\\u56fd\\u536b\\u661f\",\"\\u4e70\\u5165\",72.916,539.0419921875,39304.967,11.79],[\"\",\"09:30\",\"300014.SZA\",\"\\u4ebf\\u7eac\\u9502\\u80fd\",\"\\u4e70\\u5165\",46.861,1331.3430175781,62388.439,18.72],[\"\",\"15:00\",\"000661.SZA\",\"\\u957f\\u6625\\u9ad8\\u65b0\",\"\\u5356\\u51fa\",17.12,3236.1479492188,-55401.416,72.02],[\"\",\"15:00\",\"601100.SHA\",\"\\u6052\\u7acb\\u6db2\\u538b\",\"\\u5356\\u51fa\",410.271,281.4270019531,-115461.249,150.1],[\"\",\"15:00\",\"600111.SHA\",\"\\u5317\\u65b9\\u7a00\\u571f\",\"\\u5356\\u51fa\",85.544,373.891998291,-31984.389,41.58],[\"\",\"\",\"\",\"\",\"\",\"\",\"\\uff088 \\u7b14\\u4ea4\\u6613\",\"\\u4e70\\u5165 \\uffe5183342.371\",\"\\u5356\\u51fa \\uffe5-202847.054\\uff09\"],[\"2021-04-15\",\"09:30\",\"601100.SHA\",\"\\u6052\\u7acb\\u6db2\\u538b\",\"\\u4e70\\u5165\",87.813,283.9849853516,24937.564,7.48],[\"\",\"09:30\",\"603986.SHA\",\"\\u5146\\u6613\\u521b\\u65b0\",\"\\u4e70\\u5165\",37.867,721.3179931641,27314.314,8.19],[\"\",\"09:30\",\"600111.SHA\",\"\\u5317\\u65b9\\u7a00\\u571f\",\"\\u4e70\\u5165\",85.544,365.2560119629,31245.641,9.37],[\"\",\"09:30\",\"600118.SHA\",\"\\u4e2d\\u56fd\\u536b\\u661f\",\"\\u4e70\\u5165\",74.883,539.3770141602,40390.171,12.12],[\"\",\"09:30\",\"300014.SZA\",\"\\u4ebf\\u7eac\\u9502\\u80fd\",\"\\u4e70\\u5165\",48.222,1296.8129882812,62535.119,18.76],[\"\",\"15:00\",\"600760.SHA\",\"\\u4e2d\\u822a\\u6c88\\u98de\",\"\\u5356\\u51fa\",113.593,309.5570068359,-35163.592,45.71],[\"\",\"15:00\",\"603087.SHA\",\"\\u7518\\u674e\\u836f\\u4e1a\",\"\\u5356\\u51fa\",161.83,175.7700042725,-28444.808,36.98],[\"\",\"15:00\",\"002044.SZA\",\"\\u7f8e\\u5e74\\u5065\\u5eb7\",\"\\u5356\\u51fa\",808.553,110.8980026245,-89666.677,116.57],[\"\",\"15:00\",\"000860.SZA\",\"\\u987a\\u946b\\u519c\\u4e1a\",\"\\u5356\\u51fa\",193.224,145.800994873,-28172.198,36.62],[\"\",\"\",\"\",\"\",\"\",\"\",\"\\uff089 \\u7b14\\u4ea4\\u6613\",\"\\u4e70\\u5165 \\uffe5186422.809\",\"\\u5356\\u51fa \\uffe5-181447.275\\uff09\"],[\"2021-04-14\",\"09:30\",\"600760.SHA\",\"\\u4e2d\\u822a\\u6c88\\u98de\",\"\\u4e70\\u5165\",113.593,302.066986084,34312.769,10.29],[\"\",\"09:30\",\"600118.SHA\",\"\\u4e2d\\u56fd\\u536b\\u661f\",\"\\u4e70\\u5165\",73.631,521.9559936523,38432.327,11.53],[\"\",\"09:30\",\"601100.SHA\",\"\\u6052\\u7acb\\u6db2\\u538b\",\"\\u4e70\\u5165\",159.288,279.3399963379,44495.6,13.35],[\"\",\"09:30\",\"000661.SZA\",\"\\u957f\\u6625\\u9ad8\\u65b0\",\"\\u4e70\\u5165\",17.12,3286.9140625,56270.522,16.88],[\"\",\"09:30\",\"002044.SZA\",\"\\u7f8e\\u5e74\\u5065\\u5eb7\",\"\\u4e70\\u5165\",808.553,110.7030029297,89509.645,26.85],[\"\",\"15:00\",\"300529.SZA\",\"\\u5065\\u5e06\\u751f\\u7269\",\"\\u5356\\u51fa\",396.502,174.4230041504,-69158.998,89.91],[\"\",\"\",\"\",\"\",\"\",\"\",\"\\uff086 \\u7b14\\u4ea4\\u6613\",\"\\u4e70\\u5165 \\uffe5263020.863\",\"\\u5356\\u51fa \\uffe5-69158.998\\uff09\"],[\"2021-04-13\",\"09:30\",\"603087.SHA\",\"\\u7518\\u674e\\u836f\\u4e1a\",\"\\u4e70\\u5165\",161.83,173.3139953613,28047.376,8.41],[\"\",\"09:30\",\"600118.SHA\",\"\\u4e2d\\u56fd\\u536b\\u661f\",\"\\u4e70\\u5165\",69.665,516.4279785156,35977.012,10.79],[\"\",\"09:30\",\"601100.SHA\",\"\\u6052\\u7acb\\u6db2\\u538b\",\"\\u4e70\\u5165\",163.17,281.0230102539,45854.417,13.76],[\"\",\"09:30\",\"603986.SHA\",\"\\u5146\\u6613\\u521b\\u65b0\",\"\\u4e70\\u5165\",99.825,725.6329956055,72436.456,21.73],[\"\",\"15:00\",\"600111.SHA\",\"\\u5317\\u65b9\\u7a00\\u571f\",\"\\u5356\\u51fa\",427.429,367.2189941406,-156960.12,204.05],[\"\",\"15:00\",\"002821.SZA\",\"\\u51ef\\u83b1\\u82f1\",\"\\u5356\\u51fa\",208.329,591.966003418,-123323.448,160.32],[\"\",\"15:00\",\"300014.SZA\",\"\\u4ebf\\u7eac\\u9502\\u80fd\",\"\\u5356\\u51fa\",56.35,1238.7889404297,-69805.69,90.75],[\"\",\"\",\"\",\"\",\"\",\"\",\"\\uff087 \\u7b14\\u4ea4\\u6613\",\"\\u4e70\\u5165 \\uffe5182315.261\",\"\\u5356\\u51fa \\uffe5-350089.258\\uff09\"],[\"2021-04-12\",\"09:30\",\"000860.SZA\",\"\\u987a\\u946b\\u519c\\u4e1a\",\"\\u4e70\\u5165\",193.224,137.7259979248,26611.911,7.98],[\"\",\"09:30\",\"603986.SHA\",\"\\u5146\\u6613\\u521b\\u65b0\",\"\\u4e70\\u5165\",41.073,707.382019043,29054.44,8.72],[\"\",\"09:30\",\"002821.SZA\",\"\\u51ef\\u83b1\\u82f1\",\"\\u4e70\\u5165\",56.489,604.6069946289,34153.884,10.25],[\"\",\"09:30\",\"600118.SHA\",\"\\u4e2d\\u56fd\\u536b\\u661f\",\"\\u4e70\\u5165\",81.802,526.9810180664,43108.21,12.93],[\"\",\"09:30\",\"300529.SZA\",\"\\u5065\\u5e06\\u751f\\u7269\",\"\\u4e70\\u5165\",396.502,171.3840026855,67953.866,20.39],[\"\",\"15:00\",\"600893.SHA\",\"\\u822a\\u53d1\\u52a8\\u529b\",\"\\u5356\\u51fa\",1544.827,137.8150024414,-212900.291,276.77],[\"\",\"\",\"\",\"\",\"\",\"\",\"\\uff086 \\u7b14\\u4ea4\\u6613\",\"\\u4e70\\u5165 \\uffe5200882.311\",\"\\u5356\\u51fa \\uffe5-212900.291\\uff09\"],[\"2021-04-09\",\"09:30\",\"603986.SHA\",\"\\u5146\\u6613\\u521b\\u65b0\",\"\\u4e70\\u5165\",50.612,721.3179931641,36507.116,10.95],[\"\",\"09:30\",\"600893.SHA\",\"\\u822a\\u53d1\\u52a8\\u529b\",\"\\u4e70\\u5165\",271.095,151.2070007324,40991.494,12.3],[\"\",\"09:30\",\"300014.SZA\",\"\\u4ebf\\u7eac\\u9502\\u80fd\",\"\\u4e70\\u5165\",36.172,1306.7800292969,47268.459,14.18],[\"\",\"09:30\",\"600118.SHA\",\"\\u4e2d\\u56fd\\u536b\\u661f\",\"\\u4e70\\u5165\",111.078,536.0269775391,59540.542,17.86],[\"\",\"09:30\",\"002821.SZA\",\"\\u51ef\\u83b1\\u82f1\",\"\\u4e70\\u5165\",151.839,624.7559814453,94862.476,28.46],[\"\",\"15:00\",\"002230.SZA\",\"\\u79d1\\u5927\\u8baf\\u98de\",\"\\u5356\\u51fa\",65.005,625.8670043945,-40684.355,52.89],[\"\",\"15:00\",\"600703.SHA\",\"\\u4e09\\u5b89\\u5149\\u7535\",\"\\u5356\\u51fa\",225.101,522.6240234375,-117643.229,152.94],[\"\",\"15:00\",\"601633.SHA\",\"\\u957f\\u57ce\\u6c7d\\u8f66\",\"\\u5356\\u51fa\",240.551,119.3430023193,-28708.05,37.32],[\"\",\"\",\"\",\"\",\"\",\"\",\"\\uff088 \\u7b14\\u4ea4\\u6613\",\"\\u4e70\\u5165 \\uffe5279170.087\",\"\\u5356\\u51fa \\uffe5-187035.634\\uff09\"],[\"2021-04-08\",\"09:30\",\"600893.SHA\",\"\\u822a\\u53d1\\u52a8\\u529b\",\"\\u4e70\\u5165\",120.3,150.2180023193,18071.114,5.42],[\"\",\"09:30\",\"600118.SHA\",\"\\u4e2d\\u56fd\\u536b\\u661f\",\"\\u4e70\\u5165\",39.687,526.9810180664,20914.483,6.27],[\"\",\"09:30\",\"300014.SZA\",\"\\u4ebf\\u7eac\\u9502\\u80fd\",\"\\u4e70\\u5165\",20.178,1316.9260253906,26573.23,7.97],[\"\",\"09:30\",\"002230.SZA\",\"\\u79d1\\u5927\\u8baf\\u98de\",\"\\u4e70\\u5165\",65.005,651.591003418,42356.555,12.71],[\"\",\"15:00\",\"002044.SZA\",\"\\u7f8e\\u5e74\\u5065\\u5eb7\",\"\\u5356\\u51fa\",682.104,118.5690002441,-80876.545,105.14],[\"\",\"15:00\",\"600436.SHA\",\"\\u7247\\u4ed4\\u7640\",\"\\u5356\\u51fa\",91.479,2171.2360839844,-198621.851,258.21],[\"\",\"\",\"\",\"\",\"\",\"\",\"\\uff086 \\u7b14\\u4ea4\\u6613\",\"\\u4e70\\u5165 \\uffe5107915.382\",\"\\u5356\\u51fa \\uffe5-279498.396\\uff09\"],[\"2021-04-07\",\"09:30\",\"600703.SHA\",\"\\u4e09\\u5b89\\u5149\\u7535\",\"\\u4e70\\u5165\",51.848,536.0629882812,27793.81,8.34],[\"\",\"09:30\",\"601633.SHA\",\"\\u957f\\u57ce\\u6c7d\\u8f66\",\"\\u4e70\\u5165\",240.551,129.949005127,31259.272,9.38],[\"\",\"09:30\",\"600118.SHA\",\"\\u4e2d\\u56fd\\u536b\\u661f\",\"\\u4e70\\u5165\",68.889,526.6459960938,36280.353,10.88],[\"\",\"09:30\",\"600111.SHA\",\"\\u5317\\u65b9\\u7a00\\u571f\",\"\\u4e70\\u5165\",121.741,374.8739929199,45637.344,13.69],[\"\",\"09:30\",\"600893.SHA\",\"\\u822a\\u53d1\\u52a8\\u529b\",\"\\u4e70\\u5165\",476.137,152.4279937744,72576.413,21.77],[\"\",\"15:00\",\"600584.SHA\",\"\\u957f\\u7535\\u79d1\\u6280\",\"\\u5356\\u51fa\",226.776,184.9230041504,-41936.156,54.52],[\"\",\"15:00\",\"002821.SZA\",\"\\u51ef\\u83b1\\u82f1\",\"\\u5356\\u51fa\",61.482,598.6420288086,-36805.758,47.85],[\"\",\"15:00\",\"601888.SHA\",\"\\u4e2d\\u56fd\\u4e2d\\u514d\",\"\\u5356\\u51fa\",66.183,679.4439697266,-44967.734,58.46],[\"\",\"\",\"\",\"\",\"\",\"\",\"\\uff088 \\u7b14\\u4ea4\\u6613\",\"\\u4e70\\u5165 \\uffe5213547.192\",\"\\u5356\\u51fa \\uffe5-123709.648\\uff09\"],[\"2021-04-06\",\"09:30\",\"002821.SZA\",\"\\u51ef\\u83b1\\u82f1\",\"\\u4e70\\u5165\",61.482,604.4650268555,37163.798,11.15],[\"\",\"09:30\",\"600584.SHA\",\"\\u957f\\u7535\\u79d1\\u6280\",\"\\u4e70\\u5165\",226.776,184.5399932861,41849.378,12.55],[\"\",\"09:30\",\"601888.SHA\",\"\\u4e2d\\u56fd\\u4e2d\\u514d\",\"\\u4e70\\u5165\",66.183,729.7219848633,48295.261,14.49],[\"\",\"09:30\",\"600893.SHA\",\"\\u822a\\u53d1\\u52a8\\u529b\",\"\\u4e70\\u5165\",401.693,151.7019958496,60937.583,18.28],[\"\",\"09:30\",\"600703.SHA\",\"\\u4e09\\u5b89\\u5149\\u7535\",\"\\u4e70\\u5165\",173.253,557.3950195312,96570.293,28.97],[\"\",\"15:00\",\"000596.SZA\",\"\\u53e4\\u4e95\\u8d21\\u9152\",\"\\u5356\\u51fa\",48.628,789.5709838867,-38395.345,49.91],[\"\",\"15:00\",\"002607.SZA\",\"\\u4e2d\\u516c\\u6559\\u80b2\",\"\\u5356\\u51fa\",256.932,231.6750030518,-59524.78,77.38],[\"\",\"\",\"\",\"\",\"\",\"\",\"\\uff087 \\u7b14\\u4ea4\\u6613\",\"\\u4e70\\u5165 \\uffe5284816.313\",\"\\u5356\\u51fa \\uffe5-97920.125\\uff09\"],[\"2021-04-02\",\"09:30\",\"000596.SZA\",\"\\u53e4\\u4e95\\u8d21\\u9152\",\"\\u4e70\\u5165\",48.628,768.2650146484,37359.25,11.21],[\"\",\"09:30\",\"600893.SHA\",\"\\u822a\\u53d1\\u52a8\\u529b\",\"\\u4e70\\u5165\",275.603,149.0299987793,41073.22,12.32],[\"\",\"09:30\",\"600111.SHA\",\"\\u5317\\u65b9\\u7a00\\u571f\",\"\\u4e70\\u5165\",126.164,376.6400146484,47518.507,14.26],[\"\",\"09:30\",\"002607.SZA\",\"\\u4e2d\\u516c\\u6559\\u80b2\",\"\\u4e70\\u5165\",256.932,235.7980041504,60583.938,18.18],[\"\",\"09:30\",\"600436.SHA\",\"\\u7247\\u4ed4\\u7640\",\"\\u4e70\\u5165\",49.495,1935.79296875,95812.261,28.74],[\"\",\"15:00\",\"002230.SZA\",\"\\u79d1\\u5927\\u8baf\\u98de\",\"\\u5356\\u51fa\",496.682,654.4190063477,-325038.45,422.55],[\"\",\"15:00\",\"603288.SHA\",\"\\u6d77\\u5929\\u5473\\u4e1a\",\"\\u5356\\u51fa\",63.513,806.0999755859,-51197.783,66.56],[\"\",\"\",\"\",\"\",\"\",\"\",\"\\uff087 \\u7b14\\u4ea4\\u6613\",\"\\u4e70\\u5165 \\uffe5282347.176\",\"\\u5356\\u51fa \\uffe5-376236.233\\uff09\"],[\"2021-04-01\",\"09:30\",\"002044.SZA\",\"\\u7f8e\\u5e74\\u5065\\u5eb7\",\"\\u4e70\\u5165\",196.6,149.2550048828,29343.548,8.8],[\"\",\"09:30\",\"600436.SHA\",\"\\u7247\\u4ed4\\u7640\",\"\\u4e70\\u5165\",17.463,1878.5679931641,32805.915,9.84],[\"\",\"09:30\",\"600111.SHA\",\"\\u5317\\u65b9\\u7a00\\u571f\",\"\\u4e70\\u5165\",101.393,373.891998291,37910.059,11.37],[\"\",\"09:30\",\"603288.SHA\",\"\\u6d77\\u5929\\u5473\\u4e1a\",\"\\u4e70\\u5165\",63.513,760.2609863281,48286.362,14.49],[\"\",\"09:30\",\"002230.SZA\",\"\\u79d1\\u5927\\u8baf\\u98de\",\"\\u4e70\\u5165\",116.91,650.5130004883,76051.482,22.82],[\"\",\"15:00\",\"300014.SZA\",\"\\u4ebf\\u7eac\\u9502\\u80fd\",\"\\u5356\\u51fa\",109.137,1390.0780029297,-151708.833,197.22],[\"\",\"15:00\",\"002129.SZA\",\"\\u4e2d\\u73af\\u80a1\\u4efd\",\"\\u5356\\u51fa\",276.897,121.0029983521,-33505.463,43.56],[\"\",\"15:00\",\"688012.SHA\",\"\\u4e2d\\u5fae\\u516c\\u53f8\",\"\\u5356\\u51fa\",765.299,114.9000015259,-87932.909,114.31],[\"\",\"15:00\",\"600893.SHA\",\"\\u822a\\u53d1\\u52a8\\u529b\",\"\\u5356\\u51fa\",235.598,148.8979949951,-35080.166,45.6],[\"\",\"\",\"\",\"\",\"\",\"\",\"\\uff089 \\u7b14\\u4ea4\\u6613\",\"\\u4e70\\u5165 \\uffe5224397.366\",\"\\u5356\\u51fa \\uffe5-308227.371\\uff09\"],[\"2021-03-31\",\"09:30\",\"600111.SHA\",\"\\u5317\\u65b9\\u7a00\\u571f\",\"\\u4e70\\u5165\",78.131,382.3320007324,29872.045,8.96],[\"\",\"09:30\",\"002044.SZA\",\"\\u7f8e\\u5e74\\u5065\\u5eb7\",\"\\u4e70\\u5165\",225.254,150.1289978027,33817.266,10.15],[\"\",\"09:30\",\"600893.SHA\",\"\\u822a\\u53d1\\u52a8\\u529b\",\"\\u4e70\\u5165\",235.598,160.3110046387,37769.073,11.33],[\"\",\"09:30\",\"300014.SZA\",\"\\u4ebf\\u7eac\\u9502\\u80fd\",\"\\u4e70\\u5165\",37.358,1334.9019775391,49869.058,14.96],[\"\",\"09:30\",\"002230.SZA\",\"\\u79d1\\u5927\\u8baf\\u98de\",\"\\u4e70\\u5165\",121.801,643.7789916992,78412.742,23.52],[\"\",\"15:00\",\"603087.SHA\",\"\\u7518\\u674e\\u836f\\u4e1a\",\"\\u5356\\u51fa\",380.203,184.4989929199,-70147.114,91.19],[\"\",\"15:00\",\"000568.SZA\",\"\\u6cf8\\u5dde\\u8001\\u7a96\",\"\\u5356\\u51fa\",4.253,7373.5600585938,-31362.073,40.77],[\"\",\"15:00\",\"600760.SHA\",\"\\u4e2d\\u822a\\u6c88\\u98de\",\"\\u5356\\u51fa\",149.658,319.8559875488,-47869.063,62.23],[\"\",\"15:00\",\"603259.SHA\",\"\\u836f\\u660e\\u5eb7\\u5fb7\",\"\\u5356\\u51fa\",263.124,277.3529968262,-72978.136,94.87],[\"\",\"\",\"\",\"\",\"\",\"\",\"\\uff089 \\u7b14\\u4ea4\\u6613\",\"\\u4e70\\u5165 \\uffe5229740.184\",\"\\u5356\\u51fa \\uffe5-222356.386\\uff09\"],[\"2021-03-30\",\"09:30\",\"002044.SZA\",\"\\u7f8e\\u5e74\\u5065\\u5eb7\",\"\\u4e70\\u5165\",260.25,152.8480072021,39778.874,11.93],[\"\",\"09:30\",\"600436.SHA\",\"\\u7247\\u4ed4\\u7640\",\"\\u4e70\\u5165\",24.52,1863.5909423828,45695.938,13.71],[\"\",\"09:30\",\"300014.SZA\",\"\\u4ebf\\u7eac\\u9502\\u80fd\",\"\\u4e70\\u5165\",44.564,1320.6639404297,58854.025,17.66],[\"\",\"09:30\",\"002230.SZA\",\"\\u79d1\\u5927\\u8baf\\u98de\",\"\\u4e70\\u5165\",144.438,639.7390136719,92402.59,27.72],[\"\",\"\",\"\",\"\",\"\",\"\",\"\\uff084 \\u7b14\\u4ea4\\u6613\",\"\\u4e70\\u5165 \\uffe5236731.427\",\"\\u5356\\u51fa \\uffe50.0\\uff09\"],[\"2021-03-29\",\"09:30\",\"000568.SZA\",\"\\u6cf8\\u5dde\\u8001\\u7a96\",\"\\u4e70\\u5165\",4.253,7501.6850585938,31907.029,9.57],[\"\",\"09:30\",\"300014.SZA\",\"\\u4ebf\\u7eac\\u9502\\u80fd\",\"\\u4e70\\u5165\",27.215,1343.9799804688,36576.51,10.97],[\"\",\"09:30\",\"600760.SHA\",\"\\u4e2d\\u822a\\u6c88\\u98de\",\"\\u4e70\\u5165\",149.658,311.9719848633,46689.112,14.01],[\"\",\"09:30\",\"002230.SZA\",\"\\u79d1\\u5927\\u8baf\\u98de\",\"\\u4e70\\u5165\",113.534,650.7830200195,73885.826,22.17],[\"\",\"15:00\",\"002044.SZA\",\"\\u7f8e\\u5e74\\u5065\\u5eb7\",\"\\u5356\\u51fa\",2904.886,152.8480072021,-444007.356,577.21],[\"\",\"\",\"\",\"\",\"\",\"\",\"\\uff085 \\u7b14\\u4ea4\\u6613\",\"\\u4e70\\u5165 \\uffe5189058.477\",\"\\u5356\\u51fa \\uffe5-444007.356\\uff09\"],[\"2021-03-26\",\"09:30\",\"002044.SZA\",\"\\u7f8e\\u5e74\\u5065\\u5eb7\",\"\\u4e70\\u5165\",184.82,142.4579925537,26329.125,7.9],[\"\",\"09:30\",\"603087.SHA\",\"\\u7518\\u674e\\u836f\\u4e1a\",\"\\u4e70\\u5165\",165.533,176.8229980469,29269.919,8.78],[\"\",\"09:30\",\"002129.SZA\",\"\\u4e2d\\u73af\\u80a1\\u4efd\",\"\\u4e70\\u5165\",276.897,125.1859970093,34663.65,10.4],[\"\",\"09:30\",\"688012.SHA\",\"\\u4e2d\\u5fae\\u516c\\u53f8\",\"\\u4e70\\u5165\",432.056,99.5800018311,43024.134,12.91],[\"\",\"09:30\",\"603259.SHA\",\"\\u836f\\u660e\\u5eb7\\u5fb7\",\"\\u4e70\\u5165\",263.124,260.0820007324,68433.917,20.53],[\"\",\"15:00\",\"603799.SHA\",\"\\u534e\\u53cb\\u94b4\\u4e1a\",\"\\u5356\\u51fa\",480.253,127.547996521,-61255.119,79.63],[\"\",\"15:00\",\"603288.SHA\",\"\\u6d77\\u5929\\u5473\\u4e1a\",\"\\u5356\\u51fa\",89.447,711.7239990234,-63661.654,82.76],[\"\",\"15:00\",\"601100.SHA\",\"\\u6052\\u7acb\\u6db2\\u538b\",\"\\u5356\\u51fa\",308.013,300.1390075684,-92446.649,120.18],[\"\",\"\",\"\",\"\",\"\",\"\",\"\\uff088 \\u7b14\\u4ea4\\u6613\",\"\\u4e70\\u5165 \\uffe5201720.745\",\"\\u5356\\u51fa \\uffe5-217363.422\\uff09\"],[\"2021-03-25\",\"09:30\",\"688012.SHA\",\"\\u4e2d\\u5fae\\u516c\\u53f8\",\"\\u4e70\\u5165\",333.243,98.6100006104,32861.14,9.86],[\"\",\"09:30\",\"603087.SHA\",\"\\u7518\\u674e\\u836f\\u4e1a\",\"\\u4e70\\u5165\",214.67,174.7180023193,37506.732,11.25],[\"\",\"09:30\",\"002044.SZA\",\"\\u7f8e\\u5e74\\u5065\\u5eb7\",\"\\u4e70\\u5165\",306.97,141.0980072021,43312.974,12.99],[\"\",\"09:30\",\"603799.SHA\",\"\\u534e\\u53cb\\u94b4\\u4e1a\",\"\\u4e70\\u5165\",480.253,113.6839981079,54596.951,16.38],[\"\",\"09:30\",\"601100.SHA\",\"\\u6052\\u7acb\\u6db2\\u538b\",\"\\u4e70\\u5165\",308.013,275.9750061035,85003.645,25.5],[\"\",\"15:00\",\"002129.SZA\",\"\\u4e2d\\u73af\\u80a1\\u4efd\",\"\\u5356\\u51fa\",631.088,122.0599975586,-77030.28,100.14],[\"\",\"15:00\",\"603501.SHA\",\"\\u97e6\\u5c14\\u80a1\\u4efd\",\"\\u5356\\u51fa\",151.231,255.279006958,-38605.968,50.19],[\"\",\"15:00\",\"603658.SHA\",\"\\u5b89\\u56fe\\u751f\\u7269\",\"\\u5356\\u51fa\",265.311,114.6719970703,-30423.752,39.55],[\"\",\"15:00\",\"600161.SHA\",\"\\u5929\\u575b\\u751f\\u7269\",\"\\u5356\\u51fa\",77.304,421.8359985352,-32609.725,42.39],[\"\",\"\",\"\",\"\",\"\",\"\",\"\\uff089 \\u7b14\\u4ea4\\u6613\",\"\\u4e70\\u5165 \\uffe5253281.442\",\"\\u5356\\u51fa \\uffe5-178669.725\\uff09\"],[\"2021-03-24\",\"09:30\",\"603658.SHA\",\"\\u5b89\\u56fe\\u751f\\u7269\",\"\\u4e70\\u5165\",265.311,111.5579986572,29597.567,8.88],[\"\",\"09:30\",\"600161.SHA\",\"\\u5929\\u575b\\u751f\\u7269\",\"\\u4e70\\u5165\",77.304,426.6799926758,32984.201,9.9],[\"\",\"09:30\",\"603501.SHA\",\"\\u97e6\\u5c14\\u80a1\\u4efd\",\"\\u4e70\\u5165\",151.231,253.0480041504,38268.639,11.48],[\"\",\"09:30\",\"002044.SZA\",\"\\u7f8e\\u5e74\\u5065\\u5eb7\",\"\\u4e70\\u5165\",338.737,143.2350006104,48518.838,14.56],[\"\",\"09:30\",\"002129.SZA\",\"\\u4e2d\\u73af\\u80a1\\u4efd\",\"\\u4e70\\u5165\",631.088,122.0599975586,77030.28,23.11],[\"\",\"15:00\",\"000768.SZA\",\"\\u4e2d\\u822a\\u897f\\u98de\",\"\\u5356\\u51fa\",921.23,203.6369934082,-187596.718,243.88],[\"\",\"15:00\",\"002230.SZA\",\"\\u79d1\\u5927\\u8baf\\u98de\",\"\\u5356\\u51fa\",50.7,604.8560180664,-30666.511,39.87],[\"\",\"15:00\",\"600111.SHA\",\"\\u5317\\u65b9\\u7a00\\u571f\",\"\\u5356\\u51fa\",162.296,342.4890136719,-55584.594,72.26],[\"\",\"\",\"\",\"\",\"\",\"\",\"\\uff088 \\u7b14\\u4ea4\\u6613\",\"\\u4e70\\u5165 \\uffe5226399.525\",\"\\u5356\\u51fa \\uffe5-273847.823\\uff09\"],[\"2021-03-23\",\"09:30\",\"600111.SHA\",\"\\u5317\\u65b9\\u7a00\\u571f\",\"\\u4e70\\u5165\",64.142,388.0239868164,24888.702,7.47],[\"\",\"09:30\",\"002044.SZA\",\"\\u7f8e\\u5e74\\u5065\\u5eb7\",\"\\u4e70\\u5165\",189.994,145.5650024414,27656.538,8.3],[\"\",\"09:30\",\"002230.SZA\",\"\\u79d1\\u5927\\u8baf\\u98de\",\"\\u4e70\\u5165\",50.7,632.466003418,32066.341,9.62],[\"\",\"09:30\",\"000768.SZA\",\"\\u4e2d\\u822a\\u897f\\u98de\",\"\\u4e70\\u5165\",188.431,214.1150054932,40345.772,12.1],[\"\",\"09:30\",\"603288.SHA\",\"\\u6d77\\u5929\\u5473\\u4e1a\",\"\\u4e70\\u5165\",89.447,711.9609985352,63682.809,19.1],[\"\",\"15:00\",\"000860.SZA\",\"\\u987a\\u946b\\u519c\\u4e1a\",\"\\u5356\\u51fa\",977.8,141.3280029297,-138190.546,179.65],[\"\",\"15:00\",\"603259.SHA\",\"\\u836f\\u660e\\u5eb7\\u5fb7\",\"\\u5356\\u51fa\",224.421,243.9400024414,-54745.213,71.17],[\"\",\"15:00\",\"002129.SZA\",\"\\u4e2d\\u73af\\u80a1\\u4efd\",\"\\u5356\\u51fa\",278.8,122.1019973755,-34041.923,44.25],[\"\",\"\",\"\",\"\",\"\",\"\",\"\\uff088 \\u7b14\\u4ea4\\u6613\",\"\\u4e70\\u5165 \\uffe5188640.162\",\"\\u5356\\u51fa \\uffe5-226977.682\\uff09\"],[\"2021-03-22\",\"09:30\",\"002129.SZA\",\"\\u4e2d\\u73af\\u80a1\\u4efd\",\"\\u4e70\\u5165\",278.8,123.0739974976,34312.846,10.29],[\"\",\"09:30\",\"600111.SHA\",\"\\u5317\\u65b9\\u7a00\\u571f\",\"\\u4e70\\u5165\",98.154,391.5559997559,38432.694,11.53],[\"\",\"09:30\",\"002044.SZA\",\"\\u7f8e\\u5e74\\u5065\\u5eb7\",\"\\u4e70\\u5165\",313.233,140.6130065918,44044.628,13.21],[\"\",\"09:30\",\"603259.SHA\",\"\\u836f\\u660e\\u5eb7\\u5fb7\",\"\\u4e70\\u5165\",224.421,247.2630004883,55491.073,16.65],[\"\",\"09:30\",\"000768.SZA\",\"\\u4e2d\\u822a\\u897f\\u98de\",\"\\u4e70\\u5165\",410.408,212.9320068359,87388.949,26.22],[\"\",\"15:00\",\"603087.SHA\",\"\\u7518\\u674e\\u836f\\u4e1a\",\"\\u5356\\u51fa\",222.034,177.6649932861,-39447.562,51.28],[\"\",\"\",\"\",\"\",\"\",\"\",\"\\uff086 \\u7b14\\u4ea4\\u6613\",\"\\u4e70\\u5165 \\uffe5259670.19\",\"\\u5356\\u51fa \\uffe5-39447.562\\uff09\"],[\"2021-03-19\",\"09:30\",\"002044.SZA\",\"\\u7f8e\\u5e74\\u5065\\u5eb7\",\"\\u4e70\\u5165\",186.063,139.8359985352,26018.28,7.81],[\"\",\"09:30\",\"000768.SZA\",\"\\u4e2d\\u822a\\u897f\\u98de\",\"\\u4e70\\u5165\",143.007,213.7769927979,30571.576,9.17],[\"\",\"09:30\",\"603087.SHA\",\"\\u7518\\u674e\\u836f\\u4e1a\",\"\\u4e70\\u5165\",222.034,173.3139953613,38481.626,11.54],[\"\",\"09:30\",\"000860.SZA\",\"\\u987a\\u946b\\u519c\\u4e1a\",\"\\u4e70\\u5165\",447.767,136.1349945068,60956.742,18.29],[\"\",\"15:00\",\"603259.SHA\",\"\\u836f\\u660e\\u5eb7\\u5fb7\",\"\\u5356\\u51fa\",979.402,249.875,-244727.852,318.15],[\"\",\"15:00\",\"600276.SHA\",\"\\u6052\\u745e\\u533b\\u836f\",\"\\u5356\\u51fa\",12.003,4697.9770507812,-56391.434,73.31],[\"\",\"15:00\",\"300122.SZA\",\"\\u667a\\u98de\\u751f\\u7269\",\"\\u5356\\u51fa\",65.068,710.7130126953,-46244.445,60.12],[\"\",\"15:00\",\"603288.SHA\",\"\\u6d77\\u5929\\u5473\\u4e1a\",\"\\u5356\\u51fa\",50.152,719.2930297852,-36074.179,46.9],[\"\",\"\",\"\",\"\",\"\",\"\",\"\\uff088 \\u7b14\\u4ea4\\u6613\",\"\\u4e70\\u5165 \\uffe5156028.224\",\"\\u5356\\u51fa \\uffe5-383437.91\\uff09\"],[\"2021-03-18\",\"09:30\",\"002044.SZA\",\"\\u7f8e\\u5e74\\u5065\\u5eb7\",\"\\u4e70\\u5165\",243.288,144.2059936523,35083.584,10.53],[\"\",\"09:30\",\"000768.SZA\",\"\\u4e2d\\u822a\\u897f\\u98de\",\"\\u4e70\\u5165\",179.385,215.1289978027,38590.755,11.58],[\"\",\"09:30\",\"000860.SZA\",\"\\u987a\\u946b\\u519c\\u4e1a\",\"\\u4e70\\u5165\",326.58,137.7859954834,44998.055,13.5],[\"\",\"09:30\",\"600276.SHA\",\"\\u6052\\u745e\\u533b\\u836f\",\"\\u4e70\\u5165\",12.003,4749.1982421875,57006.265,17.1],[\"\",\"09:30\",\"603259.SHA\",\"\\u836f\\u660e\\u5eb7\\u5fb7\",\"\\u4e70\\u5165\",348.984,261.7239990234,91337.663,27.4],[\"\",\"15:00\",\"002352.SZA\",\"\\u987a\\u4e30\\u63a7\\u80a1\",\"\\u5356\\u51fa\",179.228,318.7239990234,-57124.344,74.26],[\"\",\"15:00\",\"601100.SHA\",\"\\u6052\\u7acb\\u6db2\\u538b\",\"\\u5356\\u51fa\",158.93,310.3699951172,-49327.301,64.13],[\"\",\"15:00\",\"600118.SHA\",\"\\u4e2d\\u56fd\\u536b\\u661f\",\"\\u5356\\u51fa\",70.558,492.641998291,-34759.601,45.19],[\"\",\"\",\"\",\"\",\"\",\"\",\"\\uff088 \\u7b14\\u4ea4\\u6613\",\"\\u4e70\\u5165 \\uffe5267016.322\",\"\\u5356\\u51fa \\uffe5-141211.246\\uff09\"],[\"2021-03-17\",\"09:30\",\"000860.SZA\",\"\\u987a\\u946b\\u519c\\u4e1a\",\"\\u4e70\\u5165\",203.453,137.425994873,27959.623,8.39],[\"\",\"09:30\",\"002044.SZA\",\"\\u7f8e\\u5e74\\u5065\\u5eb7\",\"\\u4e70\\u5165\",219.772,140.1269989014,30796.072,9.24],[\"\",\"09:30\",\"603288.SHA\",\"\\u6d77\\u5929\\u5473\\u4e1a\",\"\\u4e70\\u5165\",50.152,718.867980957,36052.828,10.82],[\"\",\"09:30\",\"300122.SZA\",\"\\u667a\\u98de\\u751f\\u7269\",\"\\u4e70\\u5165\",65.068,695.125,45230.193,13.57],[\"\",\"09:30\",\"603259.SHA\",\"\\u836f\\u660e\\u5eb7\\u5fb7\",\"\\u4e70\\u5165\",279.284,254.9589996338,71205.866,21.36],[\"\",\"15:00\",\"000768.SZA\",\"\\u4e2d\\u822a\\u897f\\u98de\",\"\\u5356\\u51fa\",843.908,215.9739990234,-182261.967,236.94],[\"\",\"15:00\",\"002230.SZA\",\"\\u79d1\\u5927\\u8baf\\u98de\",\"\\u5356\\u51fa\",90.114,613.7449951172,-55306.886,71.9],[\"\",\"15:00\",\"600760.SHA\",\"\\u4e2d\\u822a\\u6c88\\u98de\",\"\\u5356\\u51fa\",127.551,300.0960083008,-38277.651,49.76],[\"\",\"15:00\",\"600703.SHA\",\"\\u4e09\\u5b89\\u5149\\u7535\",\"\\u5356\\u51fa\",61.516,520.9180297852,-32044.672,41.66],[\"\",\"\",\"\",\"\",\"\",\"\",\"\\uff089 \\u7b14\\u4ea4\\u6613\",\"\\u4e70\\u5165 \\uffe5211244.582\",\"\\u5356\\u51fa \\uffe5-307891.176\\uff09\"],[\"2021-03-16\",\"09:30\",\"600703.SHA\",\"\\u4e09\\u5b89\\u5149\\u7535\",\"\\u4e70\\u5165\",61.516,567.4210205078,34905.333,10.47],[\"\",\"09:30\",\"002044.SZA\",\"\\u7f8e\\u5e74\\u5065\\u5eb7\",\"\\u4e70\\u5165\",280.72,137.6999969482,38654.979,11.6],[\"\",\"09:30\",\"601100.SHA\",\"\\u6052\\u7acb\\u6db2\\u538b\",\"\\u4e70\\u5165\",158.93,290.7489929199,46208.913,13.86],[\"\",\"09:30\",\"000768.SZA\",\"\\u4e2d\\u822a\\u897f\\u98de\",\"\\u4e70\\u5165\",259.661,219.43800354,56979.569,17.09],[\"\",\"09:30\",\"603259.SHA\",\"\\u836f\\u660e\\u5eb7\\u5fb7\",\"\\u4e70\\u5165\",351.135,258.9150085449,90914.125,27.27],[\"\",\"15:00\",\"000725.SZA\",\"\\u4eac\\u4e1c\\u65b9A\",\"\\u5356\\u51fa\",3149.725,29.375,-92523.342,120.28],[\"\",\"15:00\",\"603087.SHA\",\"\\u7518\\u674e\\u836f\\u4e1a\",\"\\u5356\\u51fa\",201.055,171.4340057373,-34467.665,44.81],[\"\",\"\",\"\",\"\",\"\",\"\",\"\\uff087 \\u7b14\\u4ea4\\u6613\",\"\\u4e70\\u5165 \\uffe5267662.919\",\"\\u5356\\u51fa \\uffe5-126991.007\\uff09\"],[\"2021-03-15\",\"09:30\",\"603087.SHA\",\"\\u7518\\u674e\\u836f\\u4e1a\",\"\\u4e70\\u5165\",201.055,172.8930053711,34761.103,10.43],[\"\",\"09:30\",\"600760.SHA\",\"\\u4e2d\\u822a\\u6c88\\u98de\",\"\\u4e70\\u5165\",127.551,305.7630004883,39000.464,11.7],[\"\",\"09:30\",\"002044.SZA\",\"\\u7f8e\\u5e74\\u5065\\u5eb7\",\"\\u4e70\\u5165\",321.924,140.6130065918,45266.694,13.58],[\"\",\"09:30\",\"002352.SZA\",\"\\u987a\\u4e30\\u63a7\\u80a1\",\"\\u4e70\\u5165\",179.228,320.1140136719,57373.523,17.21],[\"\",\"09:30\",\"000768.SZA\",\"\\u4e2d\\u822a\\u897f\\u98de\",\"\\u4e70\\u5165\",411.081,219.6920013428,90311.081,27.09],[\"\",\"\",\"\",\"\",\"\",\"\",\"\\uff085 \\u7b14\\u4ea4\\u6613\",\"\\u4e70\\u5165 \\uffe5266712.865\",\"\\u5356\\u51fa \\uffe50.0\\uff09\"],[\"2021-03-12\",\"09:30\",\"600118.SHA\",\"\\u4e2d\\u56fd\\u536b\\u661f\",\"\\u4e70\\u5165\",70.558,500.8500061035,35338.731,10.6],[\"\",\"09:30\",\"000768.SZA\",\"\\u4e2d\\u822a\\u897f\\u98de\",\"\\u4e70\\u5165\",173.166,224.0850067139,38803.893,11.64],[\"\",\"09:30\",\"002044.SZA\",\"\\u7f8e\\u5e74\\u5065\\u5eb7\",\"\\u4e70\\u5165\",319.364,142.4579925537,45495.944,13.65],[\"\",\"09:30\",\"002230.SZA\",\"\\u79d1\\u5927\\u8baf\\u98de\",\"\\u4e70\\u5165\",90.114,639.7390136719,57649.266,17.29],[\"\",\"09:30\",\"000725.SZA\",\"\\u4eac\\u4e1c\\u65b9A\",\"\\u4e70\\u5165\",3149.725,28.7409992218,90525.332,27.16],[\"\",\"\",\"\",\"\",\"\",\"\",\"\\uff085 \\u7b14\\u4ea4\\u6613\",\"\\u4e70\\u5165 \\uffe5267813.166\",\"\\u5356\\u51fa \\uffe50.0\\uff09\"],[\"2021-03-09\",\"15:00\",\"300529.SZA\",\"\\u5065\\u5e06\\u751f\\u7269\",\"\\u5356\\u51fa\",628.733,134.4989929199,-84563.822,109.93],[\"\",\"15:00\",\"002600.SZA\",\"\\u9886\\u76ca\\u667a\\u9020\",\"\\u5356\\u51fa\",2038.718,42.9580001831,-87578.402,113.85],[\"\",\"15:00\",\"002007.SZA\",\"\\u534e\\u5170\\u751f\\u7269\",\"\\u5356\\u51fa\",63.488,1560.6099853516,-99080.488,128.8],[\"\",\"15:00\",\"002230.SZA\",\"\\u79d1\\u5927\\u8baf\\u98de\",\"\\u5356\\u51fa\",245.268,627.8870239258,-154000.696,200.2],[\"\",\"15:00\",\"002044.SZA\",\"\\u7f8e\\u5e74\\u5065\\u5eb7\",\"\\u5356\\u51fa\",1146.825,138.1849975586,-158474.13,206.02],[\"\",\"15:00\",\"601696.SHA\",\"\\u4e2d\\u94f6\\u8bc1\\u5238\",\"\\u5356\\u51fa\",7374.134,17.8470001221,-131605.053,171.09],[\"\",\"\",\"\",\"\",\"\",\"\",\"\\uff086 \\u7b14\\u4ea4\\u6613\",\"\\u4e70\\u5165 \\uffe50.0\",\"\\u5356\\u51fa \\uffe5-715302.591\\uff09\"],[\"2021-03-08\",\"09:30\",\"601696.SHA\",\"\\u4e2d\\u94f6\\u8bc1\\u5238\",\"\\u4e70\\u5165\",2003.519,19.017999649,38102.83,11.43],[\"\",\"09:30\",\"002600.SZA\",\"\\u9886\\u76ca\\u667a\\u9020\",\"\\u4e70\\u5165\",951.421,44.2350006104,42085.936,12.63],[\"\",\"09:30\",\"002007.SZA\",\"\\u534e\\u5170\\u751f\\u7269\",\"\\u4e70\\u5165\",28.376,1721.8380126953,48859.743,14.66],[\"\",\"09:30\",\"002230.SZA\",\"\\u79d1\\u5927\\u8baf\\u98de\",\"\\u4e70\\u5165\",95.629,651.3220214844,62285.4,18.69],[\"\",\"09:30\",\"300529.SZA\",\"\\u5065\\u5e06\\u751f\\u7269\",\"\\u4e70\\u5165\",628.733,155.7550048828,97928.331,29.38],[\"\",\"15:00\",\"000596.SZA\",\"\\u53e4\\u4e95\\u8d21\\u9152\",\"\\u5356\\u51fa\",82.853,671.1560058594,-55607.168,72.29],[\"\",\"15:00\",\"000100.SZA\",\"TCL\\u79d1\\u6280\",\"\\u5356\\u51fa\",2766.666,28.6989994049,-79401.409,103.22],[\"\",\"15:00\",\"300413.SZA\",\"\\u8292\\u679c\\u8d85\\u5a92\",\"\\u5356\\u51fa\",380.337,109.5059967041,-41649.297,54.14],[\"\",\"\",\"\",\"\",\"\",\"\",\"\\uff088 \\u7b14\\u4ea4\\u6613\",\"\\u4e70\\u5165 \\uffe5289262.24\",\"\\u5356\\u51fa \\uffe5-176657.874\\uff09\"],[\"2021-03-05\",\"09:30\",\"000100.SZA\",\"TCL\\u79d1\\u6280\",\"\\u4e70\\u5165\",1349.995,26.8619995117,36263.615,10.88],[\"\",\"09:30\",\"002044.SZA\",\"\\u7f8e\\u5e74\\u5065\\u5eb7\",\"\\u4e70\\u5165\",250.776,161.7819976807,40571.09,12.17],[\"\",\"09:30\",\"002600.SZA\",\"\\u9886\\u76ca\\u667a\\u9020\",\"\\u4e70\\u5165\",1087.297,43.7239990234,47540.89,14.26],[\"\",\"09:30\",\"002007.SZA\",\"\\u534e\\u5170\\u751f\\u7269\",\"\\u4e70\\u5165\",35.112,1690.8330078125,59368.212,17.81],[\"\",\"09:30\",\"002230.SZA\",\"\\u79d1\\u5927\\u8baf\\u98de\",\"\\u4e70\\u5165\",149.639,627.2130126953,93855.556,28.16],[\"\",\"15:00\",\"600436.SHA\",\"\\u7247\\u4ed4\\u7640\",\"\\u5356\\u51fa\",102.425,1841.2239990234,-188587.388,245.16],[\"\",\"15:00\",\"601888.SHA\",\"\\u4e2d\\u56fd\\u4e2d\\u514d\",\"\\u5356\\u51fa\",70.564,666.3300170898,-47018.798,61.12],[\"\",\"15:00\",\"000568.SZA\",\"\\u6cf8\\u5dde\\u8001\\u7a96\",\"\\u5356\\u51fa\",6.588,7122.5541992188,-46926.579,61.0],[\"\",\"\",\"\",\"\",\"\",\"\",\"\\uff088 \\u7b14\\u4ea4\\u6613\",\"\\u4e70\\u5165 \\uffe5277599.363\",\"\\u5356\\u51fa \\uffe5-282532.765\\uff09\"],[\"2021-03-04\",\"09:30\",\"000100.SZA\",\"TCL\\u79d1\\u6280\",\"\\u4e70\\u5165\",1416.672,27.1790008545,38503.456,11.55],[\"\",\"09:30\",\"002044.SZA\",\"\\u7f8e\\u5e74\\u5065\\u5eb7\",\"\\u4e70\\u5165\",254.572,166.5410003662,42396.57,12.72],[\"\",\"09:30\",\"601888.SHA\",\"\\u4e2d\\u56fd\\u4e2d\\u514d\",\"\\u4e70\\u5165\",70.564,692.6019897461,48872.618,14.66],[\"\",\"09:30\",\"000596.SZA\",\"\\u53e4\\u4e95\\u8d21\\u9152\",\"\\u4e70\\u5165\",82.853,754.5380249023,62515.628,18.75],[\"\",\"09:30\",\"600436.SHA\",\"\\u7247\\u4ed4\\u7640\",\"\\u4e70\\u5165\",51.102,1916.2380371094,97923.831,29.38],[\"\",\"15:00\",\"300529.SZA\",\"\\u5065\\u5e06\\u751f\\u7269\",\"\\u5356\\u51fa\",641.826,149.891998291,-96204.539,125.07],[\"\",\"\",\"\",\"\",\"\",\"\",\"\\uff086 \\u7b14\\u4ea4\\u6613\",\"\\u4e70\\u5165 \\uffe5290212.103\",\"\\u5356\\u51fa \\uffe5-96204.539\\uff09\"],[\"2021-03-03\",\"09:30\",\"601696.SHA\",\"\\u4e2d\\u94f6\\u8bc1\\u5238\",\"\\u4e70\\u5165\",2046.469,18.6380004883,38141.257,11.44],[\"\",\"09:30\",\"300413.SZA\",\"\\u8292\\u679c\\u8d85\\u5a92\",\"\\u4e70\\u5165\",380.337,111.7050018311,42485.55,12.75],[\"\",\"09:30\",\"000568.SZA\",\"\\u6cf8\\u5dde\\u8001\\u7a96\",\"\\u4e70\\u5165\",6.588,7378.4760742188,48612.707,14.58],[\"\",\"09:30\",\"002044.SZA\",\"\\u7f8e\\u5e74\\u5065\\u5eb7\",\"\\u4e70\\u5165\",380.632,161.1999969482,61357.713,18.41],[\"\",\"09:30\",\"600436.SHA\",\"\\u7247\\u4ed4\\u7640\",\"\\u4e70\\u5165\",51.323,1893.3480224609,97172.133,29.15],[\"\",\"15:00\",\"002422.SZA\",\"\\u79d1\\u4f26\\u836f\\u4e1a\",\"\\u5356\\u51fa\",277.501,130.5350036621,-36223.59,47.09],[\"\",\"15:00\",\"601888.SHA\",\"\\u4e2d\\u56fd\\u4e2d\\u514d\",\"\\u5356\\u51fa\",70.002,706.8920288086,-49483.826,64.33],[\"\",\"\",\"\",\"\",\"\",\"\",\"\\uff087 \\u7b14\\u4ea4\\u6613\",\"\\u4e70\\u5165 \\uffe5287769.36\",\"\\u5356\\u51fa \\uffe5-85707.416\\uff09\"],[\"2021-03-02\",\"09:30\",\"002422.SZA\",\"\\u79d1\\u4f26\\u836f\\u4e1a\",\"\\u4e70\\u5165\",277.501,138.6410064697,38472.941,11.54],[\"\",\"09:30\",\"002044.SZA\",\"\\u7f8e\\u5e74\\u5065\\u5eb7\",\"\\u4e70\\u5165\",260.846,162.7539978027,42453.617,12.74],[\"\",\"09:30\",\"601888.SHA\",\"\\u4e2d\\u56fd\\u4e2d\\u514d\",\"\\u4e70\\u5165\",70.002,725.4080200195,50780.011,15.23],[\"\",\"09:30\",\"601696.SHA\",\"\\u4e2d\\u94f6\\u8bc1\\u5238\",\"\\u4e70\\u5165\",3324.146,18.8080005646,62519.732,18.76],[\"\",\"09:30\",\"300529.SZA\",\"\\u5065\\u5e06\\u751f\\u7269\",\"\\u4e70\\u5165\",641.826,155.5,99804.025,29.94],[\"\",\"\",\"\",\"\",\"\",\"\",\"\\uff085 \\u7b14\\u4ea4\\u6613\",\"\\u4e70\\u5165 \\uffe5294030.326\",\"\\u5356\\u51fa \\uffe50.0\\uff09\"],[\"2021-03-01\",\"15:00\",\"002024.SZA\",\"\\u82cf\\u5b81\\u6613\\u8d2d\",\"\\u5356\\u51fa\",509.552,677.9949951172,-345473.469,449.12],[\"\",\"\",\"\",\"\",\"\",\"\",\"\\uff081 \\u7b14\\u4ea4\\u6613\",\"\\u4e70\\u5165 \\uffe50.0\",\"\\u5356\\u51fa \\uffe5-345473.469\\uff09\"],[\"2021-02-25\",\"15:00\",\"002044.SZA\",\"\\u7f8e\\u5e74\\u5065\\u5eb7\",\"\\u5356\\u51fa\",196.737,160.1320037842,-31503.824,40.95],[\"\",\"15:00\",\"002600.SZA\",\"\\u9886\\u76ca\\u667a\\u9020\",\"\\u5356\\u51fa\",1032.578,44.0649986267,-45500.043,59.15],[\"\",\"15:00\",\"601888.SHA\",\"\\u4e2d\\u56fd\\u4e2d\\u514d\",\"\\u5356\\u51fa\",79.43,695.1290283203,-55214.027,71.78],[\"\",\"15:00\",\"600111.SHA\",\"\\u5317\\u65b9\\u7a00\\u571f\",\"\\u5356\\u51fa\",128.164,392.5379943848,-50309.087,65.4],[\"\",\"15:00\",\"603986.SHA\",\"\\u5146\\u6613\\u521b\\u65b0\",\"\\u5356\\u51fa\",329.725,777.5739746094,-256385.44,333.3],[\"\",\"\",\"\",\"\",\"\",\"\",\"\\uff085 \\u7b14\\u4ea4\\u6613\",\"\\u4e70\\u5165 \\uffe50.0\",\"\\u5356\\u51fa \\uffe5-438912.421\\uff09\"],[\"2021-02-24\",\"09:30\",\"002044.SZA\",\"\\u7f8e\\u5e74\\u5065\\u5eb7\",\"\\u4e70\\u5165\",196.737,178.4850006104,35114.63,10.53],[\"\",\"09:30\",\"603986.SHA\",\"\\u5146\\u6613\\u521b\\u65b0\",\"\\u4e70\\u5165\",54.193,728.4439697266,39476.839,11.84],[\"\",\"09:30\",\"002600.SZA\",\"\\u9886\\u76ca\\u667a\\u9020\",\"\\u4e70\\u5165\",1032.578,44.1500015259,45587.964,13.68],[\"\",\"09:30\",\"601888.SHA\",\"\\u4e2d\\u56fd\\u4e2d\\u514d\",\"\\u4e70\\u5165\",79.43,731.9219970703,58136.509,17.44],[\"\",\"09:30\",\"002024.SZA\",\"\\u82cf\\u5b81\\u6613\\u8d2d\",\"\\u4e70\\u5165\",147.647,618.1199951172,91263.854,27.38],[\"\",\"15:00\",\"002607.SZA\",\"\\u4e2d\\u516c\\u6559\\u80b2\",\"\\u5356\\u51fa\",320.396,287.408996582,-92084.866,119.71],[\"\",\"15:00\",\"688036.SHA\",\"\\u4f20\\u97f3\\u63a7\\u80a1\",\"\\u5356\\u51fa\",155.139,187.3190002441,-29060.388,37.78],[\"\",\"15:00\",\"600845.SHA\",\"\\u5b9d\\u4fe1\\u8f6f\\u4ef6\",\"\\u5356\\u51fa\",98.383,345.4790039062,-33989.244,44.19],[\"\",\"15:00\",\"600161.SHA\",\"\\u5929\\u575b\\u751f\\u7269\",\"\\u5356\\u51fa\",73.684,477.3479919434,-35173.12,45.73],[\"\",\"\",\"\",\"\",\"\",\"\",\"\\uff089 \\u7b14\\u4ea4\\u6613\",\"\\u4e70\\u5165 \\uffe5269579.796\",\"\\u5356\\u51fa \\uffe5-190307.618\\uff09\"],[\"2021-02-23\",\"09:30\",\"688036.SHA\",\"\\u4f20\\u97f3\\u63a7\\u80a1\",\"\\u4e70\\u5165\",155.139,192.0899963379,29800.619,8.94],[\"\",\"09:30\",\"600845.SHA\",\"\\u5b9d\\u4fe1\\u8f6f\\u4ef6\",\"\\u4e70\\u5165\",98.383,354.0159912109,34829.108,10.45],[\"\",\"09:30\",\"002024.SZA\",\"\\u82cf\\u5b81\\u6613\\u8d2d\",\"\\u4e70\\u5165\",70.233,628.6859741211,44154.531,13.25],[\"\",\"09:30\",\"603986.SHA\",\"\\u5146\\u6613\\u521b\\u65b0\",\"\\u4e70\\u5165\",94.818,736.3619995117,69820.607,20.95],[\"\",\"15:00\",\"600760.SHA\",\"\\u4e2d\\u822a\\u6c88\\u98de\",\"\\u5356\\u51fa\",95.338,385.0,-36705.005,47.72],[\"\",\"15:00\",\"002821.SZA\",\"\\u51ef\\u83b1\\u82f1\",\"\\u5356\\u51fa\",228.617,570.4780273438,-130420.973,169.55],[\"\",\"15:00\",\"002044.SZA\",\"\\u7f8e\\u5e74\\u5065\\u5eb7\",\"\\u5356\\u51fa\",405.979,179.4559936523,-72855.406,94.71],[\"\",\"\",\"\",\"\",\"\",\"\",\"\\uff087 \\u7b14\\u4ea4\\u6613\",\"\\u4e70\\u5165 \\uffe5178604.865\",\"\\u5356\\u51fa \\uffe5-239981.384\\uff09\"],[\"2021-02-22\",\"09:30\",\"600760.SHA\",\"\\u4e2d\\u822a\\u6c88\\u98de\",\"\\u4e70\\u5165\",95.338,402.0989990234,38335.189,11.5],[\"\",\"09:30\",\"002024.SZA\",\"\\u82cf\\u5b81\\u6613\\u8d2d\",\"\\u4e70\\u5165\",67.107,636.6110229492,42721.303,12.82],[\"\",\"09:30\",\"600111.SHA\",\"\\u5317\\u65b9\\u7a00\\u571f\",\"\\u4e70\\u5165\",128.164,399.9960021973,51264.96,15.38],[\"\",\"09:30\",\"002821.SZA\",\"\\u51ef\\u83b1\\u82f1\",\"\\u4e70\\u5165\",100.005,618.0189819336,61805.036,18.54],[\"\",\"09:30\",\"002607.SZA\",\"\\u4e2d\\u516c\\u6559\\u80b2\",\"\\u4e70\\u5165\",320.396,309.2579956055,99085.006,29.73],[\"\",\"15:00\",\"000723.SZA\",\"\\u7f8e\\u9526\\u80fd\\u6e90\",\"\\u5356\\u51fa\",594.885,53.5589981079,-31861.29,41.42],[\"\",\"\",\"\",\"\",\"\",\"\",\"\\uff086 \\u7b14\\u4ea4\\u6613\",\"\\u4e70\\u5165 \\uffe5293211.494\",\"\\u5356\\u51fa \\uffe5-31861.29\\uff09\"],[\"2021-02-19\",\"09:30\",\"002044.SZA\",\"\\u7f8e\\u5e74\\u5065\\u5eb7\",\"\\u4e70\\u5165\",186.879,164.7929992676,30796.346,9.24],[\"\",\"09:30\",\"002024.SZA\",\"\\u82cf\\u5b81\\u6613\\u8d2d\",\"\\u4e70\\u5165\",56.513,606.6729736328,34285.04,10.29],[\"\",\"09:30\",\"600161.SHA\",\"\\u5929\\u575b\\u751f\\u7269\",\"\\u4e70\\u5165\",73.684,535.4780273438,39456.405,11.84],[\"\",\"09:30\",\"603986.SHA\",\"\\u5146\\u6613\\u521b\\u65b0\",\"\\u4e70\\u5165\",67.102,747.4470214844,50154.947,15.05],[\"\",\"09:30\",\"002821.SZA\",\"\\u51ef\\u83b1\\u82f1\",\"\\u4e70\\u5165\",128.612,617.7960205078,79456.045,23.84],[\"\",\"15:00\",\"300122.SZA\",\"\\u667a\\u98de\\u751f\\u7269\",\"\\u5356\\u51fa\",41.493,768.8510131836,-31901.857,41.47],[\"\",\"15:00\",\"603288.SHA\",\"\\u6d77\\u5929\\u5473\\u4e1a\",\"\\u5356\\u51fa\",41.5,904.4030151367,-37532.745,48.79],[\"\",\"15:00\",\"300124.SZA\",\"\\u6c47\\u5ddd\\u6280\\u672f\",\"\\u5356\\u51fa\",62.56,1708.3790283203,-106875.397,138.94],[\"\",\"15:00\",\"601696.SHA\",\"\\u4e2d\\u94f6\\u8bc1\\u5238\",\"\\u5356\\u51fa\",1843.416,19.6089992523,-36146.656,46.99],[\"\",\"15:00\",\"000066.SZA\",\"\\u4e2d\\u56fd\\u957f\\u57ce\",\"\\u5356\\u51fa\",232.746,181.3329925537,-42204.624,54.87],[\"\",\"15:00\",\"600570.SHA\",\"\\u6052\\u751f\\u7535\\u5b50\",\"\\u5356\\u51fa\",49.147,2389.4340820312,-117434.631,152.67],[\"\",\"15:00\",\"300413.SZA\",\"\\u8292\\u679c\\u8d85\\u5a92\",\"\\u5356\\u51fa\",784.445,124.3820037842,-97570.892,126.84],[\"\",\"\",\"\",\"\",\"\",\"\",\"\\uff0812 \\u7b14\\u4ea4\\u6613\",\"\\u4e70\\u5165 \\uffe5234148.783\",\"\\u5356\\u51fa \\uffe5-469666.802\\uff09\"],[\"2021-02-18\",\"09:30\",\"000723.SZA\",\"\\u7f8e\\u9526\\u80fd\\u6e90\",\"\\u4e70\\u5165\",594.885,56.641998291,33695.607,10.11],[\"\",\"09:30\",\"002044.SZA\",\"\\u7f8e\\u5e74\\u5065\\u5eb7\",\"\\u4e70\\u5165\",219.1,166.2489929199,36425.196,10.93],[\"\",\"09:30\",\"002024.SZA\",\"\\u82cf\\u5b81\\u6613\\u8d2d\",\"\\u4e70\\u5165\",70.467,599.6290283203,42253.938,12.68],[\"\",\"09:30\",\"603986.SHA\",\"\\u5146\\u6613\\u521b\\u65b0\",\"\\u4e70\\u5165\",72.298,742.6959838867,53695.814,16.11],[\"\",\"09:30\",\"600570.SHA\",\"\\u6052\\u751f\\u7535\\u5b50\",\"\\u4e70\\u5165\",32.097,2675.9899902344,85892.365,25.77],[\"\",\"15:00\",\"000725.SZA\",\"\\u4eac\\u4e1c\\u65b9A\",\"\\u5356\\u51fa\",2760.743,29.9120006561,-82578.807,107.35],[\"\",\"15:00\",\"000860.SZA\",\"\\u987a\\u946b\\u519c\\u4e1a\",\"\\u5356\\u51fa\",393.419,173.5079956055,-68261.367,88.74],[\"\",\"15:00\",\"601888.SHA\",\"\\u4e2d\\u56fd\\u4e2d\\u514d\",\"\\u5356\\u51fa\",109.182,827.5759887695,-90356.003,117.46],[\"\",\"\",\"\",\"\",\"\",\"\",\"\\uff088 \\u7b14\\u4ea4\\u6613\",\"\\u4e70\\u5165 \\uffe5251962.92\",\"\\u5356\\u51fa \\uffe5-241196.177\\uff09\"],[\"2021-02-10\",\"09:30\",\"002024.SZA\",\"\\u82cf\\u5b81\\u6613\\u8d2d\",\"\\u4e70\\u5165\",45.398,593.466003418,26941.881,8.08],[\"\",\"09:30\",\"603986.SHA\",\"\\u5146\\u6613\\u521b\\u65b0\",\"\\u4e70\\u5165\",41.313,731.6110229492,30224.883,9.07],[\"\",\"09:30\",\"300122.SZA\",\"\\u667a\\u98de\\u751f\\u7269\",\"\\u4e70\\u5165\",41.493,829.9799804688,34438.273,10.33],[\"\",\"09:30\",\"600570.SHA\",\"\\u6052\\u751f\\u7535\\u5b50\",\"\\u4e70\\u5165\",17.05,2565.0810546875,43734.766,13.12],[\"\",\"09:30\",\"300124.SZA\",\"\\u6c47\\u5ddd\\u6280\\u672f\",\"\\u4e70\\u5165\",38.555,1821.6030273438,70232.815,21.07],[\"\",\"15:00\",\"002414.SZA\",\"\\u9ad8\\u5fb7\\u7ea2\\u5916\",\"\\u5356\\u51fa\",232.91,227.8730010986,-53073.831,69.0],[\"\",\"15:00\",\"300059.SZA\",\"\\u4e1c\\u65b9\\u8d22\\u5bcc\",\"\\u5356\\u51fa\",59.377,1788.9260253906,-106221.854,138.09],[\"\",\"15:00\",\"603993.SHA\",\"\\u6d1b\\u9633\\u94bc\\u4e1a\",\"\\u5356\\u51fa\",2394.654,22.3500003815,-53521.252,69.58],[\"\",\"15:00\",\"600600.SHA\",\"\\u9752\\u5c9b\\u5564\\u9152\",\"\\u5356\\u51fa\",206.399,161.6580047607,-33366.033,43.38],[\"\",\"\",\"\",\"\",\"\",\"\",\"\\uff089 \\u7b14\\u4ea4\\u6613\",\"\\u4e70\\u5165 \\uffe5205572.618\",\"\\u5356\\u51fa \\uffe5-246182.97\\uff09\"],[\"2021-02-09\",\"09:30\",\"603288.SHA\",\"\\u6d77\\u5929\\u5473\\u4e1a\",\"\\u4e70\\u5165\",41.5,931.367980957,38651.776,11.6],[\"\",\"09:30\",\"300124.SZA\",\"\\u6c47\\u5ddd\\u6280\\u672f\",\"\\u4e70\\u5165\",24.004,1792.8530273438,43035.718,12.91],[\"\",\"09:30\",\"603993.SHA\",\"\\u6d1b\\u9633\\u94bc\\u4e1a\",\"\\u4e70\\u5165\",2394.654,20.686000824,49535.626,14.86],[\"\",\"09:30\",\"300413.SZA\",\"\\u8292\\u679c\\u8d85\\u5a92\",\"\\u4e70\\u5165\",448.177,141.233001709,63297.394,18.99],[\"\",\"09:30\",\"300059.SZA\",\"\\u4e1c\\u65b9\\u8d22\\u5bcc\",\"\\u4e70\\u5165\",59.377,1666.2249755859,98936.178,29.68],[\"\",\"15:00\",\"002821.SZA\",\"\\u51ef\\u83b1\\u82f1\",\"\\u5356\\u51fa\",297.586,666.2299804688,-198260.644,257.74],[\"\",\"\",\"\",\"\",\"\",\"\",\"\\uff086 \\u7b14\\u4ea4\\u6613\",\"\\u4e70\\u5165 \\uffe5293456.692\",\"\\u5356\\u51fa \\uffe5-198260.644\\uff09\"],[\"2021-02-08\",\"09:30\",\"002024.SZA\",\"\\u82cf\\u5b81\\u6613\\u8d2d\",\"\\u4e70\\u5165\",52.186,588.1820068359,30695.11,9.21],[\"\",\"09:30\",\"601696.SHA\",\"\\u4e2d\\u94f6\\u8bc1\\u5238\",\"\\u4e70\\u5165\",1843.416,18.5069999695,34116.981,10.24],[\"\",\"09:30\",\"000066.SZA\",\"\\u4e2d\\u56fd\\u957f\\u57ce\",\"\\u4e70\\u5165\",232.746,170.7819976807,39748.809,11.92],[\"\",\"09:30\",\"002414.SZA\",\"\\u9ad8\\u5fb7\\u7ea2\\u5916\",\"\\u4e70\\u5165\",232.91,217.6459960938,50691.75,15.21],[\"\",\"09:30\",\"000725.SZA\",\"\\u4eac\\u4e1c\\u65b9A\",\"\\u4e70\\u5165\",2760.743,28.7900009155,79480.422,23.84],[\"\",\"15:00\",\"600570.SHA\",\"\\u6052\\u751f\\u7535\\u5b50\",\"\\u5356\\u51fa\",48.141,2497.9008789062,-120250.993,156.33],[\"\",\"15:00\",\"603986.SHA\",\"\\u5146\\u6613\\u521b\\u65b0\",\"\\u5356\\u51fa\",256.989,708.9260253906,-182186.318,236.84],[\"\",\"\",\"\",\"\",\"\",\"\",\"\\uff087 \\u7b14\\u4ea4\\u6613\",\"\\u4e70\\u5165 \\uffe5234733.072\",\"\\u5356\\u51fa \\uffe5-302437.311\\uff09\"],[\"2021-02-05\",\"09:30\",\"600570.SHA\",\"\\u6052\\u751f\\u7535\\u5b50\",\"\\u4e70\\u5165\",11.378,2516.2229003906,28630.139,8.59],[\"\",\"09:30\",\"603986.SHA\",\"\\u5146\\u6613\\u521b\\u65b0\",\"\\u4e70\\u5165\",43.502,724.4849853516,31516.664,9.45],[\"\",\"09:30\",\"601888.SHA\",\"\\u4e2d\\u56fd\\u4e2d\\u514d\",\"\\u4e70\\u5165\",51.891,729.9400024414,37877.618,11.36],[\"\",\"09:30\",\"300413.SZA\",\"\\u8292\\u679c\\u8d85\\u5a92\",\"\\u4e70\\u5165\",336.268,141.6280059814,47625.112,14.29],[\"\",\"09:30\",\"000860.SZA\",\"\\u987a\\u946b\\u519c\\u4e1a\",\"\\u4e70\\u5165\",393.419,189.0279998779,74367.096,22.31],[\"\",\"15:00\",\"603288.SHA\",\"\\u6d77\\u5929\\u5473\\u4e1a\",\"\\u5356\\u51fa\",218.609,910.6950073242,-199086.215,258.81],[\"\",\"15:00\",\"600111.SHA\",\"\\u5317\\u65b9\\u7a00\\u571f\",\"\\u5356\\u51fa\",112.332,320.3110046387,-35981.246,46.78],[\"\",\"\",\"\",\"\",\"\",\"\",\"\\uff087 \\u7b14\\u4ea4\\u6613\",\"\\u4e70\\u5165 \\uffe5220016.629\",\"\\u5356\\u51fa \\uffe5-235067.461\\uff09\"],[\"2021-02-04\",\"09:30\",\"603986.SHA\",\"\\u5146\\u6613\\u521b\\u65b0\",\"\\u4e70\\u5165\",36.285,712.6480102539,25858.45,7.76],[\"\",\"09:30\",\"603288.SHA\",\"\\u6d77\\u5929\\u5473\\u4e1a\",\"\\u4e70\\u5165\",31.391,913.5809936523,28678.334,8.6],[\"\",\"09:30\",\"600600.SHA\",\"\\u9752\\u5c9b\\u5564\\u9152\",\"\\u4e70\\u5165\",206.399,161.3540039062,33303.328,9.99],[\"\",\"09:30\",\"600111.SHA\",\"\\u5317\\u65b9\\u7a00\\u571f\",\"\\u4e70\\u5165\",112.332,372.9110107422,41889.928,12.57],[\"\",\"09:30\",\"600570.SHA\",\"\\u6052\\u751f\\u7535\\u5b50\",\"\\u4e70\\u5165\",26.123,2567.7680664062,67077.92,20.12],[\"\",\"15:00\",\"002129.SZA\",\"\\u4e2d\\u73af\\u80a1\\u4efd\",\"\\u5356\\u51fa\",372.766,117.0319976807,-43625.471,56.71],[\"\",\"15:00\",\"300059.SZA\",\"\\u4e1c\\u65b9\\u8d22\\u5bcc\",\"\\u5356\\u51fa\",20.791,1644.8449707031,-34198.71,44.46],[\"\",\"15:00\",\"002050.SZA\",\"\\u4e09\\u82b1\\u667a\\u63a7\",\"\\u5356\\u51fa\",91.99,352.532989502,-32429.359,42.16],[\"\",\"15:00\",\"002230.SZA\",\"\\u79d1\\u5927\\u8baf\\u98de\",\"\\u5356\\u51fa\",175.216,610.1090087891,-106901.134,138.97],[\"\",\"\",\"\",\"\",\"\",\"\",\"\\uff089 \\u7b14\\u4ea4\\u6613\",\"\\u4e70\\u5165 \\uffe5196807.96\",\"\\u5356\\u51fa \\uffe5-217154.674\\uff09\"],[\"2021-02-03\",\"09:30\",\"002050.SZA\",\"\\u4e09\\u82b1\\u667a\\u63a7\",\"\\u4e70\\u5165\",91.99,362.8370056152,33377.274,10.01],[\"\",\"09:30\",\"603288.SHA\",\"\\u6d77\\u5929\\u5473\\u4e1a\",\"\\u4e70\\u5165\",37.792,941.3489990234,35575.677,10.67],[\"\",\"09:30\",\"601888.SHA\",\"\\u4e2d\\u56fd\\u4e2d\\u514d\",\"\\u4e70\\u5165\",57.29,720.3549804688,41269.202,12.38],[\"\",\"09:30\",\"002821.SZA\",\"\\u51ef\\u83b1\\u82f1\",\"\\u4e70\\u5165\",85.64,608.7260131836,52131.375,15.64],[\"\",\"09:30\",\"603986.SHA\",\"\\u5146\\u6613\\u521b\\u65b0\",\"\\u4e70\\u5165\",110.1,745.4279785156,82071.564,24.62],[\"\",\"15:00\",\"600436.SHA\",\"\\u7247\\u4ed4\\u7640\",\"\\u5356\\u51fa\",94.109,2129.6398925781,-200417.964,260.54],[\"\",\"\",\"\",\"\",\"\",\"\",\"\\uff086 \\u7b14\\u4ea4\\u6613\",\"\\u4e70\\u5165 \\uffe5244425.092\",\"\\u5356\\u51fa \\uffe5-200417.964\\uff09\"],[\"2021-02-02\",\"09:30\",\"600570.SHA\",\"\\u6052\\u751f\\u7535\\u5b50\",\"\\u4e70\\u5165\",10.64,2545.5380859375,27083.406,8.13],[\"\",\"09:30\",\"002821.SZA\",\"\\u51ef\\u83b1\\u82f1\",\"\\u4e70\\u5165\",49.557,605.6820068359,30015.855,9.0],[\"\",\"09:30\",\"300059.SZA\",\"\\u4e1c\\u65b9\\u8d22\\u5bcc\",\"\\u4e70\\u5165\",20.791,1682.0269775391,34971.781,10.49],[\"\",\"09:30\",\"002129.SZA\",\"\\u4e2d\\u73af\\u80a1\\u4efd\",\"\\u4e70\\u5165\",372.766,121.6790008545,45357.892,13.61],[\"\",\"09:30\",\"002230.SZA\",\"\\u79d1\\u5927\\u8baf\\u98de\",\"\\u4e70\\u5165\",107.512,649.1669921875,69793.313,20.94],[\"\",\"15:00\",\"300413.SZA\",\"\\u8292\\u679c\\u8d85\\u5a92\",\"\\u5356\\u51fa\",698.927,146.3000030518,-102253.325,132.93],[\"\",\"15:00\",\"603993.SHA\",\"\\u6d1b\\u9633\\u94bc\\u4e1a\",\"\\u5356\\u51fa\",1827.643,20.9580001831,-38303.117,49.79],[\"\",\"15:00\",\"300529.SZA\",\"\\u5065\\u5e06\\u751f\\u7269\",\"\\u5356\\u51fa\",397.327,155.0879974365,-61620.879,80.11],[\"\",\"15:00\",\"300408.SZA\",\"\\u4e09\\u73af\\u96c6\\u56e2\",\"\\u5356\\u51fa\",253.516,175.8179931641,-44572.619,57.94],[\"\",\"\",\"\",\"\",\"\",\"\",\"\\uff089 \\u7b14\\u4ea4\\u6613\",\"\\u4e70\\u5165 \\uffe5207222.247\",\"\\u5356\\u51fa \\uffe5-246749.94\\uff09\"],[\"2021-02-01\",\"09:30\",\"603993.SHA\",\"\\u6d1b\\u9633\\u94bc\\u4e1a\",\"\\u4e70\\u5165\",1827.643,20.4139995575,37309.843,11.19],[\"\",\"09:30\",\"300408.SZA\",\"\\u4e09\\u73af\\u96c6\\u56e2\",\"\\u4e70\\u5165\",253.516,166.3040008545,42160.678,12.65],[\"\",\"09:30\",\"603288.SHA\",\"\\u6d77\\u5929\\u5473\\u4e1a\",\"\\u4e70\\u5165\",52.135,922.4270019531,48090.733,14.43],[\"\",\"09:30\",\"300529.SZA\",\"\\u5065\\u5e06\\u751f\\u7269\",\"\\u4e70\\u5165\",397.327,155.6959991455,61862.406,18.56],[\"\",\"09:30\",\"300413.SZA\",\"\\u8292\\u679c\\u8d85\\u5a92\",\"\\u4e70\\u5165\",698.927,142.5390014648,99624.064,29.89],[\"\",\"\",\"\",\"\",\"\",\"\",\"\\uff085 \\u7b14\\u4ea4\\u6613\",\"\\u4e70\\u5165 \\uffe5289047.724\",\"\\u5356\\u51fa \\uffe50.0\\uff09\"],[\"2021-01-29\",\"09:30\",\"600436.SHA\",\"\\u7247\\u4ed4\\u7640\",\"\\u4e70\\u5165\",20.292,1899.8879394531,38552.875,11.57],[\"\",\"09:30\",\"002230.SZA\",\"\\u79d1\\u5927\\u8baf\\u98de\",\"\\u4e70\\u5165\",67.704,639.7390136719,43313.082,12.99],[\"\",\"09:30\",\"603986.SHA\",\"\\u5146\\u6613\\u521b\\u65b0\",\"\\u4e70\\u5165\",67.102,741.8649902344,49780.52,14.93],[\"\",\"09:30\",\"603288.SHA\",\"\\u6d77\\u5929\\u5473\\u4e1a\",\"\\u4e70\\u5165\",66.242,940.4509887695,62297.085,18.69],[\"\",\"09:30\",\"002821.SZA\",\"\\u51ef\\u83b1\\u82f1\",\"\\u4e70\\u5165\",162.389,626.1760253906,101683.827,30.51],[\"\",\"15:00\",\"002024.SZA\",\"\\u82cf\\u5b81\\u6613\\u8d2d\",\"\\u5356\\u51fa\",557.466,582.0189819336,-324455.699,421.79],[\"\",\"15:00\",\"002049.SZA\",\"\\u7d2b\\u5149\\u56fd\\u5fae\",\"\\u5356\\u51fa\",120.387,533.2849731445,-64200.85,83.46],[\"\",\"15:00\",\"002044.SZA\",\"\\u7f8e\\u5e74\\u5065\\u5eb7\",\"\\u5356\\u51fa\",620.307,137.7969970703,-85476.262,111.12],[\"\",\"\",\"\",\"\",\"\",\"\",\"\\uff088 \\u7b14\\u4ea4\\u6613\",\"\\u4e70\\u5165 \\uffe5295627.389\",\"\\u5356\\u51fa \\uffe5-474132.811\\uff09\"],[\"2021-01-28\",\"09:30\",\"603288.SHA\",\"\\u6d77\\u5929\\u5473\\u4e1a\",\"\\u4e70\\u5165\",31.049,944.2349853516,29317.574,8.8],[\"\",\"09:30\",\"002024.SZA\",\"\\u82cf\\u5b81\\u6613\\u8d2d\",\"\\u4e70\\u5165\",54.598,616.3590087891,33652.053,10.1],[\"\",\"09:30\",\"600436.SHA\",\"\\u7247\\u4ed4\\u7640\",\"\\u4e70\\u5165\",22.233,1908.6519775391,42434.739,12.73],[\"\",\"09:30\",\"002049.SZA\",\"\\u7d2b\\u5149\\u56fd\\u5fae\",\"\\u4e70\\u5165\",120.387,558.1710205078,67196.817,20.16],[\"\",\"15:00\",\"002607.SZA\",\"\\u4e2d\\u516c\\u6559\\u80b2\",\"\\u5356\\u51fa\",583.938,324.0159912109,-189205.115,245.97],[\"\",\"15:00\",\"600111.SHA\",\"\\u5317\\u65b9\\u7a00\\u571f\",\"\\u5356\\u51fa\",116.411,346.0220031738,-40280.652,52.36],[\"\",\"15:00\",\"600600.SHA\",\"\\u9752\\u5c9b\\u5564\\u9152\",\"\\u5356\\u51fa\",392.383,149.404006958,-58623.695,76.21],[\"\",\"\",\"\",\"\",\"\",\"\",\"\\uff087 \\u7b14\\u4ea4\\u6613\",\"\\u4e70\\u5165 \\uffe5172601.183\",\"\\u5356\\u51fa \\uffe5-288109.462\\uff09\"],[\"2021-01-27\",\"09:30\",\"002044.SZA\",\"\\u7f8e\\u5e74\\u5065\\u5eb7\",\"\\u4e70\\u5165\",276.087,140.7100067139,38848.183,11.65],[\"\",\"09:30\",\"600111.SHA\",\"\\u5317\\u65b9\\u7a00\\u571f\",\"\\u4e70\\u5165\",116.411,360.9379882812,42017.085,12.61],[\"\",\"09:30\",\"002607.SZA\",\"\\u4e2d\\u516c\\u6559\\u80b2\",\"\\u4e70\\u5165\",164.344,297.0559997559,48819.375,14.65],[\"\",\"09:30\",\"002024.SZA\",\"\\u82cf\\u5b81\\u6613\\u8d2d\",\"\\u4e70\\u5165\",101.423,623.4030151367,63227.482,18.97],[\"\",\"09:30\",\"600436.SHA\",\"\\u7247\\u4ed4\\u7640\",\"\\u4e70\\u5165\",51.584,1945.9959716797,100381.868,30.11],[\"\",\"15:00\",\"002600.SZA\",\"\\u9886\\u76ca\\u667a\\u9020\",\"\\u5356\\u51fa\",827.519,45.2569999695,-37450.683,48.69],[\"\",\"\",\"\",\"\",\"\",\"\",\"\\uff086 \\u7b14\\u4ea4\\u6613\",\"\\u4e70\\u5165 \\uffe5293293.993\",\"\\u5356\\u51fa \\uffe5-37450.683\\uff09\"],[\"2021-01-26\",\"09:30\",\"002600.SZA\",\"\\u9886\\u76ca\\u667a\\u9020\",\"\\u4e70\\u5165\",827.519,47.6829986572,39458.854,11.84],[\"\",\"09:30\",\"002607.SZA\",\"\\u4e2d\\u516c\\u6559\\u80b2\",\"\\u4e70\\u5165\",139.195,312.4729919434,43494.653,13.05],[\"\",\"09:30\",\"002044.SZA\",\"\\u7f8e\\u5e74\\u5065\\u5eb7\",\"\\u4e70\\u5165\",344.22,145.953994751,50240.231,15.07],[\"\",\"09:30\",\"600600.SHA\",\"\\u9752\\u5c9b\\u5564\\u9152\",\"\\u4e70\\u5165\",392.383,163.7339935303,64246.324,19.27],[\"\",\"09:30\",\"002024.SZA\",\"\\u82cf\\u5b81\\u6613\\u8d2d\",\"\\u4e70\\u5165\",163.788,621.6420288086,101817.518,30.55],[\"\",\"15:00\",\"603288.SHA\",\"\\u6d77\\u5929\\u5473\\u4e1a\",\"\\u5356\\u51fa\",269.655,968.5980224609,-261187.378,339.54],[\"\",\"15:00\",\"603087.SHA\",\"\\u7518\\u674e\\u836f\\u4e1a\",\"\\u5356\\u51fa\",154.85,220.0319976807,-34071.906,44.29],[\"\",\"15:00\",\"000858.SZA\",\"\\u4e94\\u7cae\\u6db2\",\"\\u5356\\u51fa\",6.448,5368.2138671875,-34613.606,45.0],[\"\",\"15:00\",\"002049.SZA\",\"\\u7d2b\\u5149\\u56fd\\u5fae\",\"\\u5356\\u51fa\",145.337,575.5999755859,-83655.805,108.75],[\"\",\"\",\"\",\"\",\"\",\"\",\"\\uff089 \\u7b14\\u4ea4\\u6613\",\"\\u4e70\\u5165 \\uffe5299257.58\",\"\\u5356\\u51fa \\uffe5-413528.695\\uff09\"],[\"2021-01-25\",\"09:30\",\"000858.SZA\",\"\\u4e94\\u7cae\\u6db2\",\"\\u4e70\\u5165\",6.448,5188.9692382812,33457.854,10.04],[\"\",\"09:30\",\"603087.SHA\",\"\\u7518\\u674e\\u836f\\u4e1a\",\"\\u4e70\\u5165\",154.85,240.296005249,37209.851,11.16],[\"\",\"09:30\",\"002024.SZA\",\"\\u82cf\\u5b81\\u6613\\u8d2d\",\"\\u4e70\\u5165\",66.908,645.416015625,43183.277,12.95],[\"\",\"09:30\",\"603288.SHA\",\"\\u6d77\\u5929\\u5473\\u4e1a\",\"\\u4e70\\u5165\",56.823,977.6810302734,55554.781,16.67],[\"\",\"09:30\",\"002607.SZA\",\"\\u4e2d\\u516c\\u6559\\u80b2\",\"\\u4e70\\u5165\",280.399,308.433013916,86484.377,25.95],[\"\",\"15:00\",\"600436.SHA\",\"\\u7247\\u4ed4\\u7640\",\"\\u5356\\u51fa\",104.929,2024.1500244141,-212392.408,276.11],[\"\",\"15:00\",\"600760.SHA\",\"\\u4e2d\\u822a\\u6c88\\u98de\",\"\\u5356\\u51fa\",88.497,446.7439880371,-39535.279,51.4],[\"\",\"15:00\",\"002044.SZA\",\"\\u7f8e\\u5e74\\u5065\\u5eb7\",\"\\u5356\\u51fa\",625.703,147.8959960938,-92538.954,120.3],[\"\",\"\",\"\",\"\",\"\",\"\",\"\\uff088 \\u7b14\\u4ea4\\u6613\",\"\\u4e70\\u5165 \\uffe5255890.14\",\"\\u5356\\u51fa \\uffe5-344466.641\\uff09\"],[\"2021-01-22\",\"09:30\",\"002044.SZA\",\"\\u7f8e\\u5e74\\u5065\\u5eb7\",\"\\u4e70\\u5165\",330.186,129.9309997559,42901.417,12.87],[\"\",\"09:30\",\"002024.SZA\",\"\\u82cf\\u5b81\\u6613\\u8d2d\",\"\\u4e70\\u5165\",75.927,660.383972168,50141.28,15.04],[\"\",\"09:30\",\"603288.SHA\",\"\\u6d77\\u5929\\u5473\\u4e1a\",\"\\u4e70\\u5165\",65.44,960.3189697266,62843.249,18.85],[\"\",\"09:30\",\"600436.SHA\",\"\\u7247\\u4ed4\\u7640\",\"\\u4e70\\u5165\",51.114,1948.9389648438,99617.343,29.89],[\"\",\"15:00\",\"002230.SZA\",\"\\u79d1\\u5927\\u8baf\\u98de\",\"\\u5356\\u51fa\",66.975,698.0560302734,-46752.62,60.78],[\"\",\"15:00\",\"002352.SZA\",\"\\u987a\\u4e30\\u63a7\\u80a1\",\"\\u5356\\u51fa\",100.48,348.9280090332,-35060.385,45.58],[\"\",\"\",\"\",\"\",\"\",\"\",\"\\uff086 \\u7b14\\u4ea4\\u6613\",\"\\u4e70\\u5165 \\uffe5255503.289\",\"\\u5356\\u51fa \\uffe5-81813.005\\uff09\"],[\"2021-01-21\",\"09:30\",\"002044.SZA\",\"\\u7f8e\\u5e74\\u5065\\u5eb7\",\"\\u4e70\\u5165\",295.517,129.9309997559,38396.762,11.52],[\"\",\"09:30\",\"002230.SZA\",\"\\u79d1\\u5927\\u8baf\\u98de\",\"\\u4e70\\u5165\",66.975,635.4290161133,42558.144,12.77],[\"\",\"09:30\",\"600436.SHA\",\"\\u7247\\u4ed4\\u7640\",\"\\u4e70\\u5165\",25.706,1929.1879882812,49592.534,14.88],[\"\",\"09:30\",\"002024.SZA\",\"\\u82cf\\u5b81\\u6613\\u8d2d\",\"\\u4e70\\u5165\",94.822,653.3400268555,61950.718,18.59],[\"\",\"09:30\",\"603288.SHA\",\"\\u6d77\\u5929\\u5473\\u4e1a\",\"\\u4e70\\u5165\",103.78,958.1909790039,99440.803,29.83],[\"\",\"\",\"\",\"\",\"\",\"\",\"\\uff085 \\u7b14\\u4ea4\\u6613\",\"\\u4e70\\u5165 \\uffe5291938.961\",\"\\u5356\\u51fa \\uffe50.0\\uff09\"],[\"2021-01-20\",\"09:30\",\"002352.SZA\",\"\\u987a\\u4e30\\u63a7\\u80a1\",\"\\u4e70\\u5165\",100.48,317.8900146484,31941.655,9.58],[\"\",\"09:30\",\"600760.SHA\",\"\\u4e2d\\u822a\\u6c88\\u98de\",\"\\u4e70\\u5165\",88.497,399.141998291,35322.718,10.6],[\"\",\"09:30\",\"603288.SHA\",\"\\u6d77\\u5929\\u5473\\u4e1a\",\"\\u4e70\\u5165\",43.612,936.666015625,40850.218,12.26],[\"\",\"09:30\",\"600436.SHA\",\"\\u7247\\u4ed4\\u7640\",\"\\u4e70\\u5165\",28.109,1841.0930175781,51751.546,15.53],[\"\",\"09:30\",\"002049.SZA\",\"\\u7d2b\\u5149\\u56fd\\u5fae\",\"\\u4e70\\u5165\",145.337,571.8060302734,83104.299,24.93],[\"\",\"15:00\",\"002024.SZA\",\"\\u82cf\\u5b81\\u6613\\u8d2d\",\"\\u5356\\u51fa\",878.967,655.9819946289,-576586.196,749.56],[\"\",\"15:00\",\"600845.SHA\",\"\\u5b9d\\u4fe1\\u8f6f\\u4ef6\",\"\\u5356\\u51fa\",73.278,372.8649902344,-27322.701,35.52],[\"\",\"15:00\",\"002044.SZA\",\"\\u7f8e\\u5e74\\u5065\\u5eb7\",\"\\u5356\\u51fa\",253.224,129.0570068359,-32680.337,42.48],[\"\",\"15:00\",\"300033.SZA\",\"\\u540c\\u82b1\\u987a\",\"\\u5356\\u51fa\",25.723,1098.8110351562,-28264.464,36.74],[\"\",\"15:00\",\"688008.SHA\",\"\\u6f9c\\u8d77\\u79d1\\u6280\",\"\\u5356\\u51fa\",629.068,89.7649993896,-56468.04,73.41],[\"\",\"\",\"\",\"\",\"\",\"\",\"\\uff0810 \\u7b14\\u4ea4\\u6613\",\"\\u4e70\\u5165 \\uffe5242970.436\",\"\\u5356\\u51fa \\uffe5-721321.738\\uff09\"],[\"2021-01-19\",\"09:30\",\"600845.SHA\",\"\\u5b9d\\u4fe1\\u8f6f\\u4ef6\",\"\\u4e70\\u5165\",73.278,359.4010009766,26336.095,7.9],[\"\",\"09:30\",\"300033.SZA\",\"\\u540c\\u82b1\\u987a\",\"\\u4e70\\u5165\",25.723,1131.7819824219,29112.552,8.73],[\"\",\"09:30\",\"002044.SZA\",\"\\u7f8e\\u5e74\\u5065\\u5eb7\",\"\\u4e70\\u5165\",253.224,133.0379943848,33688.536,10.11],[\"\",\"09:30\",\"688008.SHA\",\"\\u6f9c\\u8d77\\u79d1\\u6280\",\"\\u4e70\\u5165\",433.887,99.0920028687,42994.746,12.9],[\"\",\"09:30\",\"002024.SZA\",\"\\u82cf\\u5b81\\u6613\\u8d2d\",\"\\u4e70\\u5165\",104.061,655.9819946289,68262.313,20.48],[\"\",\"15:00\",\"002049.SZA\",\"\\u7d2b\\u5149\\u56fd\\u5fae\",\"\\u5356\\u51fa\",175.947,568.3640136719,-100002.177,130.0],[\"\",\"15:00\",\"600436.SHA\",\"\\u7247\\u4ed4\\u7640\",\"\\u5356\\u51fa\",33.665,1854.1080322266,-62418.319,81.14],[\"\",\"15:00\",\"600161.SHA\",\"\\u5929\\u575b\\u751f\\u7269\",\"\\u5356\\u51fa\",71.297,521.0759887695,-37151.279,48.3],[\"\",\"15:00\",\"300413.SZA\",\"\\u8292\\u679c\\u8d85\\u5a92\",\"\\u5356\\u51fa\",306.477,141.8860015869,-43484.709,56.53],[\"\",\"\",\"\",\"\",\"\",\"\",\"\\uff089 \\u7b14\\u4ea4\\u6613\",\"\\u4e70\\u5165 \\uffe5200394.242\",\"\\u5356\\u51fa \\uffe5-243056.484\\uff09\"],[\"2021-01-18\",\"09:30\",\"600161.SHA\",\"\\u5929\\u575b\\u751f\\u7269\",\"\\u4e70\\u5165\",71.297,539.1439819336,38439.442,11.53],[\"\",\"09:30\",\"300413.SZA\",\"\\u8292\\u679c\\u8d85\\u5a92\",\"\\u4e70\\u5165\",306.477,141.6799926758,43421.539,13.03],[\"\",\"09:30\",\"002024.SZA\",\"\\u82cf\\u5b81\\u6613\\u8d2d\",\"\\u4e70\\u5165\",74.986,658.6240234375,49387.658,14.82],[\"\",\"09:30\",\"600436.SHA\",\"\\u7247\\u4ed4\\u7640\",\"\\u4e70\\u5165\",33.665,1858.0319824219,62550.418,18.77],[\"\",\"09:30\",\"002049.SZA\",\"\\u7d2b\\u5149\\u56fd\\u5fae\",\"\\u4e70\\u5165\",175.947,563.6870117188,99179.239,29.75],[\"\",\"15:00\",\"002044.SZA\",\"\\u7f8e\\u5e74\\u5065\\u5eb7\",\"\\u5356\\u51fa\",134.178,134.7859954834,-18085.365,23.51],[\"\",\"15:00\",\"300142.SZA\",\"\\u6c83\\u68ee\\u751f\\u7269\",\"\\u5356\\u51fa\",57.849,507.2099914551,-29341.697,38.14],[\"\",\"15:00\",\"002384.SZA\",\"\\u4e1c\\u5c71\\u7cbe\\u5bc6\",\"\\u5356\\u51fa\",246.387,190.658996582,-46975.975,61.07],[\"\",\"15:00\",\"002027.SZA\",\"\\u5206\\u4f17\\u4f20\\u5a92\",\"\\u5356\\u51fa\",200.075,154.2380065918,-30859.106,40.12],[\"\",\"15:00\",\"600600.SHA\",\"\\u9752\\u5c9b\\u5564\\u9152\",\"\\u5356\\u51fa\",136.75,155.1929931641,-21222.738,27.59],[\"\",\"\",\"\",\"\",\"\",\"\",\"\\uff0810 \\u7b14\\u4ea4\\u6613\",\"\\u4e70\\u5165 \\uffe5292978.296\",\"\\u5356\\u51fa \\uffe5-146484.881\\uff09\"],[\"2021-01-15\",\"09:30\",\"002044.SZA\",\"\\u7f8e\\u5e74\\u5065\\u5eb7\",\"\\u4e70\\u5165\",134.178,134.9810028076,18111.427,5.43],[\"\",\"09:30\",\"688008.SHA\",\"\\u6f9c\\u8d77\\u79d1\\u6280\",\"\\u4e70\\u5165\",195.181,98.1890029907,19164.74,5.75],[\"\",\"09:30\",\"600600.SHA\",\"\\u9752\\u5c9b\\u5564\\u9152\",\"\\u4e70\\u5165\",136.75,161.2019958496,22044.412,6.61],[\"\",\"09:30\",\"002027.SZA\",\"\\u5206\\u4f17\\u4f20\\u5a92\",\"\\u4e70\\u5165\",200.075,141.2870025635,28268.08,8.48],[\"\",\"09:30\",\"002024.SZA\",\"\\u82cf\\u5b81\\u6613\\u8d2d\",\"\\u4e70\\u5165\",67.783,660.383972168,44762.781,13.43],[\"\",\"15:00\",\"603087.SHA\",\"\\u7518\\u674e\\u836f\\u4e1a\",\"\\u5356\\u51fa\",134.513,219.4429931641,-29517.895,38.37],[\"\",\"15:00\",\"601633.SHA\",\"\\u957f\\u57ce\\u6c7d\\u8f66\",\"\\u5356\\u51fa\",469.175,162.6210021973,-76297.633,99.19],[\"\",\"15:00\",\"002821.SZA\",\"\\u51ef\\u83b1\\u82f1\",\"\\u5356\\u51fa\",419.709,579.1829833984,-243088.343,316.01],[\"\",\"\",\"\",\"\",\"\",\"\",\"\\uff088 \\u7b14\\u4ea4\\u6613\",\"\\u4e70\\u5165 \\uffe5132351.44\",\"\\u5356\\u51fa \\uffe5-348903.871\\uff09\"],[\"2021-01-14\",\"09:30\",\"300142.SZA\",\"\\u6c83\\u68ee\\u751f\\u7269\",\"\\u4e70\\u5165\",57.849,506.4920043945,29300.173,8.79],[\"\",\"09:30\",\"603087.SHA\",\"\\u7518\\u674e\\u836f\\u4e1a\",\"\\u4e70\\u5165\",134.513,237.1670074463,31902.053,9.57],[\"\",\"09:30\",\"002821.SZA\",\"\\u51ef\\u83b1\\u82f1\",\"\\u4e70\\u5165\",62.925,602.6389770508,37920.997,11.38],[\"\",\"09:30\",\"002384.SZA\",\"\\u4e1c\\u5c71\\u7cbe\\u5bc6\",\"\\u4e70\\u5165\",246.387,193.949005127,47786.524,14.34],[\"\",\"09:30\",\"002024.SZA\",\"\\u82cf\\u5b81\\u6613\\u8d2d\",\"\\u4e70\\u5165\",114.691,659.5040283203,75638.864,22.69],[\"\",\"15:00\",\"600276.SHA\",\"\\u6052\\u745e\\u533b\\u836f\",\"\\u5356\\u51fa\",16.406,5878.740234375,-96443.957,125.38],[\"\",\"15:00\",\"000100.SZA\",\"TCL\\u79d1\\u6280\",\"\\u5356\\u51fa\",1214.448,28.8260002136,-35007.688,45.51],[\"\",\"\",\"\",\"\",\"\",\"\",\"\\uff087 \\u7b14\\u4ea4\\u6613\",\"\\u4e70\\u5165 \\uffe5222548.611\",\"\\u5356\\u51fa \\uffe5-131451.645\\uff09\"],[\"2021-01-13\",\"09:30\",\"000100.SZA\",\"TCL\\u79d1\\u6280\",\"\\u4e70\\u5165\",1214.448,28.3509998322,34430.638,10.33],[\"\",\"09:30\",\"600276.SHA\",\"\\u6052\\u745e\\u533b\\u836f\",\"\\u4e70\\u5165\",6.05,6083.0942382812,36803.006,11.04],[\"\",\"09:30\",\"002821.SZA\",\"\\u51ef\\u83b1\\u82f1\",\"\\u4e70\\u5165\",69.578,617.8569946289,42989.405,12.9],[\"\",\"09:30\",\"002024.SZA\",\"\\u82cf\\u5b81\\u6613\\u8d2d\",\"\\u4e70\\u5165\",82.366,655.1010131836,53957.988,16.19],[\"\",\"09:30\",\"601633.SHA\",\"\\u957f\\u57ce\\u6c7d\\u8f66\",\"\\u4e70\\u5165\",469.175,182.2799987793,85521.388,25.66],[\"\",\"15:00\",\"300529.SZA\",\"\\u5065\\u5e06\\u751f\\u7269\",\"\\u5356\\u51fa\",187.52,148.0489959717,-27762.034,36.09],[\"\",\"15:00\",\"300122.SZA\",\"\\u667a\\u98de\\u751f\\u7269\",\"\\u5356\\u51fa\",41.647,623.4639892578,-25965.458,33.76],[\"\",\"15:00\",\"002241.SZA\",\"\\u6b4c\\u5c14\\u80a1\\u4efd\",\"\\u5356\\u51fa\",27.443,989.7239990234,-27160.962,35.31],[\"\",\"15:00\",\"002352.SZA\",\"\\u987a\\u4e30\\u63a7\\u80a1\",\"\\u5356\\u51fa\",212.529,313.858001709,-66703.84,86.71],[\"\",\"15:00\",\"002027.SZA\",\"\\u5206\\u4f17\\u4f20\\u5a92\",\"\\u5356\\u51fa\",303.364,144.1360015869,-43725.852,56.84],[\"\",\"15:00\",\"002384.SZA\",\"\\u4e1c\\u5c71\\u7cbe\\u5bc6\",\"\\u5356\\u51fa\",174.854,193.949005127,-33912.719,44.09],[\"\",\"\",\"\",\"\",\"\",\"\",\"\\uff0811 \\u7b14\\u4ea4\\u6613\",\"\\u4e70\\u5165 \\uffe5253702.425\",\"\\u5356\\u51fa \\uffe5-225230.865\\uff09\"],[\"2021-01-12\",\"09:30\",\"002241.SZA\",\"\\u6b4c\\u5c14\\u80a1\\u4efd\",\"\\u4e70\\u5165\",27.443,945.7719726562,25954.79,7.79],[\"\",\"09:30\",\"002352.SZA\",\"\\u987a\\u4e30\\u63a7\\u80a1\",\"\\u4e70\\u5165\",105.731,318.7239990234,33699.066,10.11],[\"\",\"09:30\",\"002024.SZA\",\"\\u82cf\\u5b81\\u6613\\u8d2d\",\"\\u4e70\\u5165\",64.914,656.8619995117,42639.421,12.79],[\"\",\"09:30\",\"002821.SZA\",\"\\u51ef\\u83b1\\u82f1\",\"\\u4e70\\u5165\",108.991,616.8419799805,67230.25,20.17],[\"\",\"15:00\",\"601816.SHA\",\"\\u4eac\\u6caa\\u9ad8\\u94c1\",\"\\u5356\\u51fa\",4685.409,5.4930000305,-25737.823,33.46],[\"\",\"15:00\",\"603501.SHA\",\"\\u97e6\\u5c14\\u80a1\\u4efd\",\"\\u5356\\u51fa\",169.044,290.5660095215,-49118.422,63.85],[\"\",\"15:00\",\"600436.SHA\",\"\\u7247\\u4ed4\\u7640\",\"\\u5356\\u51fa\",15.954,1962.0190429688,-31302.629,40.69],[\"\",\"15:00\",\"603288.SHA\",\"\\u6d77\\u5929\\u5473\\u4e1a\",\"\\u5356\\u51fa\",116.67,999.3939819336,-116598.992,151.58],[\"\",\"\",\"\",\"\",\"\",\"\",\"\\uff088 \\u7b14\\u4ea4\\u6613\",\"\\u4e70\\u5165 \\uffe5169523.527\",\"\\u5356\\u51fa \\uffe5-222757.866\\uff09\"],[\"2021-01-11\",\"09:30\",\"601816.SHA\",\"\\u4eac\\u6caa\\u9ad8\\u94c1\",\"\\u4e70\\u5165\",4685.409,5.5939998627,26210.077,7.86],[\"\",\"09:30\",\"002352.SZA\",\"\\u987a\\u4e30\\u63a7\\u80a1\",\"\\u4e70\\u5165\",106.798,318.4460144043,34009.244,10.2],[\"\",\"09:30\",\"002027.SZA\",\"\\u5206\\u4f17\\u4f20\\u5a92\",\"\\u4e70\\u5165\",303.364,141.675994873,42979.407,12.89],[\"\",\"09:30\",\"002024.SZA\",\"\\u82cf\\u5b81\\u6613\\u8d2d\",\"\\u4e70\\u5165\",101.476,668.3090209961,67817.51,20.35],[\"\",\"15:00\",\"600161.SHA\",\"\\u5929\\u575b\\u751f\\u7269\",\"\\u5356\\u51fa\",54.406,604.2130126953,-32872.65,42.73],[\"\",\"\",\"\",\"\",\"\",\"\",\"\\uff085 \\u7b14\\u4ea4\\u6613\",\"\\u4e70\\u5165 \\uffe5171016.238\",\"\\u5356\\u51fa \\uffe5-32872.65\\uff09\"],[\"2021-01-08\",\"09:30\",\"300122.SZA\",\"\\u667a\\u98de\\u751f\\u7269\",\"\\u4e70\\u5165\",41.647,640.5689697266,26677.803,8.0],[\"\",\"09:30\",\"300529.SZA\",\"\\u5065\\u5e06\\u751f\\u7269\",\"\\u4e70\\u5165\",187.52,154.9120025635,29049.016,8.71],[\"\",\"09:30\",\"600276.SHA\",\"\\u6052\\u745e\\u533b\\u836f\",\"\\u4e70\\u5165\",5.53,6142.3178710938,33969.45,10.19],[\"\",\"09:30\",\"002024.SZA\",\"\\u82cf\\u5b81\\u6613\\u8d2d\",\"\\u4e70\\u5165\",65.452,650.6989746094,42589.471,12.78],[\"\",\"09:30\",\"002821.SZA\",\"\\u51ef\\u83b1\\u82f1\",\"\\u4e70\\u5165\",108.473,622.9699707031,67575.347,20.27],[\"\",\"15:00\",\"600570.SHA\",\"\\u6052\\u751f\\u7535\\u5b50\",\"\\u5356\\u51fa\",36.585,2430.9641113281,-88936.988,115.62],[\"\",\"\",\"\",\"\",\"\",\"\",\"\\uff086 \\u7b14\\u4ea4\\u6613\",\"\\u4e70\\u5165 \\uffe5199861.087\",\"\\u5356\\u51fa \\uffe5-88936.988\\uff09\"],[\"2021-01-07\",\"09:30\",\"600570.SHA\",\"\\u6052\\u751f\\u7535\\u5b50\",\"\\u4e70\\u5165\",10.432,2521.1079101562,26300.351,7.89],[\"\",\"09:30\",\"600276.SHA\",\"\\u6052\\u745e\\u533b\\u836f\",\"\\u4e70\\u5165\",4.825,6128.4458007812,29570.381,8.87],[\"\",\"09:30\",\"002384.SZA\",\"\\u4e1c\\u5c71\\u7cbe\\u5bc6\",\"\\u4e70\\u5165\",174.854,193.7290039062,33874.371,10.16],[\"\",\"09:30\",\"002821.SZA\",\"\\u51ef\\u83b1\\u82f1\",\"\\u4e70\\u5165\",69.742,618.8720092773,43161.574,12.95],[\"\",\"09:30\",\"002024.SZA\",\"\\u82cf\\u5b81\\u6613\\u8d2d\",\"\\u4e70\\u5165\",101.852,666.5479736328,67889.15,20.37],[\"\",\"\",\"\",\"\",\"\",\"\",\"\\uff085 \\u7b14\\u4ea4\\u6613\",\"\\u4e70\\u5165 \\uffe5200795.827\",\"\\u5356\\u51fa \\uffe50.0\\uff09\"],[\"2021-01-06\",\"09:30\",\"600161.SHA\",\"\\u5929\\u575b\\u751f\\u7269\",\"\\u4e70\\u5165\",54.406,536.3939819336,29182.935,8.75],[\"\",\"09:30\",\"002024.SZA\",\"\\u82cf\\u5b81\\u6613\\u8d2d\",\"\\u4e70\\u5165\",51.035,674.4730224609,34421.766,10.33],[\"\",\"09:30\",\"603501.SHA\",\"\\u97e6\\u5c14\\u80a1\\u4efd\",\"\\u4e70\\u5165\",169.044,266.2609863281,45009.79,13.5],[\"\",\"09:30\",\"603288.SHA\",\"\\u6d77\\u5929\\u5473\\u4e1a\",\"\\u4e70\\u5165\",71.553,959.7520141602,68672.897,20.6],[\"\",\"\",\"\",\"\",\"\",\"\",\"\\uff084 \\u7b14\\u4ea4\\u6613\",\"\\u4e70\\u5165 \\uffe5177287.388\",\"\\u5356\\u51fa \\uffe50.0\\uff09\"],[\"2021-01-05\",\"09:30\",\"600436.SHA\",\"\\u7247\\u4ed4\\u7640\",\"\\u4e70\\u5165\",15.954,1831.2180175781,29215.787,8.76],[\"\",\"09:30\",\"002024.SZA\",\"\\u82cf\\u5b81\\u6613\\u8d2d\",\"\\u4e70\\u5165\",50.351,671.8309936523,33827.384,10.15],[\"\",\"09:30\",\"603288.SHA\",\"\\u6d77\\u5929\\u5473\\u4e1a\",\"\\u4e70\\u5165\",45.117,946.1270141602,42686.31,12.81],[\"\",\"09:30\",\"600570.SHA\",\"\\u6052\\u751f\\u7535\\u5b50\",\"\\u4e70\\u5165\",26.153,2578.0290527344,67423.213,20.23],[\"\",\"\",\"\",\"\",\"\",\"\",\"\\uff084 \\u7b14\\u4ea4\\u6613\",\"\\u4e70\\u5165 \\uffe5173152.694\",\"\\u5356\\u51fa \\uffe50.0\\uff09\"]],\"columns\":[{\"title\":\"\\u65e5\\u671f\",\"orderable\":false},{\"title\":\"\\u65f6\\u95f4\",\"orderable\":false},{\"title\":\"\\u80a1\\u7968\\u4ee3\\u7801\",\"orderable\":false},{\"title\":\"\\u80a1\\u7968\\u540d\\u79f0\",\"orderable\":false},{\"title\":\"\\u4e70\\/\\u5356\",\"orderable\":false},{\"title\":\"\\u6570\\u91cf\",\"orderable\":false},{\"title\":\"\\u6210\\u4ea4\\u4ef7\",\"orderable\":false},{\"title\":\"\\u603b\\u6210\\u672c\",\"orderable\":false},{\"title\":\"\\u4ea4\\u6613\\u4f63\\u91d1\",\"orderable\":false}],\"searching\":false,\"info\":false,\"pageLength\":20,\"lengthChange\":false,\"order\":[],\"__type\":\"datatable\",\"__id\":\"bigchart-d9ffe720cc5b4274ba2de82cff98b03c\",\"language\":{\"sProcessing\":\"\\u5904\\u7406\\u4e2d...\",\"sLengthMenu\":\"\\u663e\\u793a _MENU_ \\u9879\\u7ed3\\u679c\",\"sZeroRecords\":\"\\u6ca1\\u6709\\u5339\\u914d\\u7ed3\\u679c\",\"sInfo\":\"\\u663e\\u793a\\u7b2c _START_ \\u81f3 _END_ \\u9879\\u7ed3\\u679c\\uff0c\\u5171 _TOTAL_ \\u9879\",\"sInfoEmpty\":\"\\u663e\\u793a\\u7b2c 0 \\u81f3 0 \\u9879\\u7ed3\\u679c\\uff0c\\u5171 0 \\u9879\",\"sInfoFiltered\":\"(\\u7531 _MAX_ \\u9879\\u7ed3\\u679c\\u8fc7\\u6ee4)\",\"sInfoPostFix\":\"\",\"sSearch\":\"\\u641c\\u7d22:\",\"sUrl\":\"\",\"sEmptyTable\":\"\\u8868\\u4e2d\\u6570\\u636e\\u4e3a\\u7a7a\",\"sLoadingRecords\":\"\\u8f7d\\u5165\\u4e2d...\",\"sInfoThousands\":\",\",\"oPaginate\":{\"sFirst\":\"\\u9996\\u9875\",\"sPrevious\":\"\\u4e0a\\u9875\",\"sNext\":\"\\u4e0b\\u9875\",\"sLast\":\"\\u672b\\u9875\"}},\"hasWholeData\":true}/bigcharts-data-end</pre></div></div><div class='tab-pane' id='每日持仓和收益'><table id=\"bigchart-9383744d444945d9afd03b8cd2775c1b\" width=\"100%\" class=\"display bigchart\"></table><div class=\"bigchart-data\"><pre style=\"display:none\">bigcharts-data-start/{\"deferRender\":true,\"data\":[[\"2021-06-01\",\"300122.SZA\",\"\\u667a\\u98de\\u751f\\u7269\",808.915,\"827.283\",118.022,97637.647,2167.844],[\"2021-06-01\",\"002812.SZA\",\"\\u6069\\u6377\\u80a1\\u4efd\",584.519,\"608.599\",80.986,49287.984,1950.083],[\"2021-06-01\",\"600703.SHA\",\"\\u4e09\\u5b89\\u5149\\u7535\",588.355,\"597.925\",211.526,126476.668,2024.241],[\"2021-06-01\",\"300144.SZA\",\"\\u5b8b\\u57ce\\u6f14\\u827a\",269.176,\"276.814\",290.505,80415.956,2218.842],[\"2021-06-01\",\"300142.SZA\",\"\\u6c83\\u68ee\\u751f\\u7269\",1000.647,\"1003.377\",52.709,52887.002,143.879],[\"2021-06-01\",\"002352.SZA\",\"\\u987a\\u4e30\\u63a7\\u80a1\",241.054,\"244.757\",149.389,36564.013,553.211],[\"\",\"\",\"\\uff08\\u603b\\u8d44\\u4ea7\\uffe5968972.973\",\"\\u5269\\u4f59\\u91d1\\u989d\\uffe5525704.14\",\"\\u5f53\\u65e5\\u4ea4\\u6613\\u4f63\\u91d1\\uffe5705.3\\uff09\",\"\\uffe5443269.27\",\"\\uffe59058.1\",null],[\"2021-05-31\",\"002460.SZA\",\"\\u8d63\\u950b\\u9502\\u4e1a\",1103.586,\"1235.766\",401.773,496497.262,53106.04],[\"2021-05-31\",\"300122.SZA\",\"\\u667a\\u98de\\u751f\\u7269\",808.915,\"822.354\",118.022,97055.907,1586.105],[\"2021-05-31\",\"002812.SZA\",\"\\u6069\\u6377\\u80a1\\u4efd\",584.519,\"621.758\",80.986,50353.733,3015.827],[\"2021-05-31\",\"600703.SHA\",\"\\u4e09\\u5b89\\u5149\\u7535\",591.952,\"590.246\",68.859,40643.718,-117.511],[\"2021-05-31\",\"300144.SZA\",\"\\u5b8b\\u57ce\\u6f14\\u827a\",268.031,\"268.334\",133.596,35848.384,40.46],[\"\",\"\",\"\\uff08\\u603b\\u8d44\\u4ea7\\uffe5968683.225\",\"\\u5269\\u4f59\\u91d1\\u989d\\uffe5248284.667\",\"\\u5f53\\u65e5\\u4ea4\\u6613\\u4f63\\u91d1\\uffe5296.34\\uff09\",\"\\uffe5720399.004\",\"\\uffe557630.921\",null],[\"2021-05-28\",\"002460.SZA\",\"\\u8d63\\u950b\\u9502\\u4e1a\",1103.586,\"1137.747\",401.773,457115.907,13724.687],[\"2021-05-28\",\"600893.SHA\",\"\\u822a\\u53d1\\u52a8\\u529b\",159.487,\"167.535\",342.708,57415.664,2758.3],[\"2021-05-28\",\"002024.SZA\",\"\\u82cf\\u5b81\\u6613\\u8d2d\",604.912,\"603.151\",72.121,43499.867,-127.008],[\"2021-05-28\",\"002821.SZA\",\"\\u51ef\\u83b1\\u82f1\",744.716,\"724.425\",50.656,36696.454,-1027.861],[\"2021-05-28\",\"603501.SHA\",\"\\u97e6\\u5c14\\u80a1\\u4efd\",290.375,\"287.843\",114.991,33099.363,-291.155],[\"\",\"\",\"\\uff08\\u603b\\u8d44\\u4ea7\\uffe5918454.429\",\"\\u5269\\u4f59\\u91d1\\u989d\\uffe5290627.196\",\"\\u5f53\\u65e5\\u4ea4\\u6613\\u4f63\\u91d1\\uffe5454.46\\uff09\",\"\\uffe5627827.255\",\"\\uffe515036.963\",null],[\"2021-05-27\",\"002460.SZA\",\"\\u8d63\\u950b\\u9502\\u4e1a\",1101.46,\"1108.934\",322.861,358031.685,2413.082],[\"2021-05-27\",\"300144.SZA\",\"\\u5b8b\\u57ce\\u6f14\\u827a\",276.906,\"276.512\",733.707,202878.427,-289.114],[\"2021-05-27\",\"002129.SZA\",\"\\u4e2d\\u73af\\u80a1\\u4efd\",112.807,\"114.624\",479.041,54909.391,870.294],[\"2021-05-27\",\"002352.SZA\",\"\\u987a\\u4e30\\u63a7\\u80a1\",242.102,\"243.150\",151.574,36855.224,158.859],[\"\",\"\",\"\\uff08\\u603b\\u8d44\\u4ea7\\uffe5910688.146\",\"\\u5269\\u4f59\\u91d1\\u989d\\uffe5258012.848\",\"\\u5f53\\u65e5\\u4ea4\\u6613\\u4f63\\u91d1\\uffe5358.53\\uff09\",\"\\uffe5652674.727\",\"\\uffe53153.121\",null],[\"2021-05-26\",\"002460.SZA\",\"\\u8d63\\u950b\\u9502\\u4e1a\",1099.834,\"1099.267\",244.567,268844.335,-138.706],[\"2021-05-26\",\"300144.SZA\",\"\\u5b8b\\u57ce\\u6f14\\u827a\",276.446,\"279.086\",579.513,161733.858,1529.622],[\"2021-05-26\",\"000568.SZA\",\"\\u6cf8\\u5dde\\u8001\\u7a96\",8556.829,\"9040.492\",3.612,32654.258,1746.9],[\"2021-05-26\",\"688012.SHA\",\"\\u4e2d\\u5fae\\u516c\\u53f8\",119.775,\"125.090\",1044.31,130632.734,5549.991],[\"2021-05-26\",\"300347.SZA\",\"\\u6cf0\\u683c\\u533b\\u836f\",2218.213,\"2209.027\",13.295,29369.015,-122.125],[\"2021-05-26\",\"603899.SHA\",\"\\u6668\\u5149\\u6587\\u5177\",201.023,\"191.155\",134.525,25715.073,-1327.602],[\"\",\"\",\"\\uff08\\u603b\\u8d44\\u4ea7\\uffe5902712.772\",\"\\u5269\\u4f59\\u91d1\\u989d\\uffe5253765.023\",\"\\u5f53\\u65e5\\u4ea4\\u6613\\u4f63\\u91d1\\uffe5391.62\\uff09\",\"\\uffe5648949.273\",\"\\uffe57238.08\",null],[\"2021-05-25\",\"002460.SZA\",\"\\u8d63\\u950b\\u9502\\u4e1a\",1097.812,\"1111.615\",205.199,228102.234,2832.25],[\"2021-05-25\",\"600009.SHA\",\"\\u4e0a\\u6d77\\u673a\\u573a\",145.492,\"151.498\",882.405,133682.903,5300.174],[\"2021-05-25\",\"000768.SZA\",\"\\u4e2d\\u822a\\u897f\\u98de\",214.619,\"228.479\",365.724,83560.322,5068.879],[\"2021-05-25\",\"300144.SZA\",\"\\u5b8b\\u57ce\\u6f14\\u827a\",274.13,\"279.540\",331.392,92637.353,1792.886],[\"2021-05-25\",\"000568.SZA\",\"\\u6cf8\\u5dde\\u8001\\u7a96\",8556.829,\"9307.883\",3.612,33620.073,2712.664],[\"2021-05-25\",\"688012.SHA\",\"\\u4e2d\\u5fae\\u516c\\u53f8\",118.37,\"123.100\",762.589,93874.705,3607.044],[\"2021-05-25\",\"600760.SHA\",\"\\u4e2d\\u822a\\u6c88\\u98de\",350.753,\"373.469\",100.026,37356.634,2272.258],[\"\",\"\",\"\\uff08\\u603b\\u8d44\\u4ea7\\uffe5907337.185\",\"\\u5269\\u4f59\\u91d1\\u989d\\uffe5204504.013\",\"\\u5f53\\u65e5\\u4ea4\\u6613\\u4f63\\u91d1\\uffe580.0\\uff09\",\"\\uffe5702834.224\",\"\\uffe523586.155\",null],[\"2021-05-24\",\"002460.SZA\",\"\\u8d63\\u950b\\u9502\\u4e1a\",1091.93,\"1128.749\",164.998,186241.311,6074.946],[\"2021-05-24\",\"600009.SHA\",\"\\u4e0a\\u6d77\\u673a\\u573a\",145.492,\"146.861\",882.405,129590.847,1208.116],[\"2021-05-24\",\"000768.SZA\",\"\\u4e2d\\u822a\\u897f\\u98de\",214.199,\"214.960\",183.893,39529.584,139.845],[\"2021-05-24\",\"300144.SZA\",\"\\u5b8b\\u57ce\\u6f14\\u827a\",273.18,\"275.451\",123.513,34021.838,280.555],[\"2021-05-24\",\"000568.SZA\",\"\\u6cf8\\u5dde\\u8001\\u7a96\",8556.829,\"8676.106\",3.612,31338.096,430.807],[\"\",\"\",\"\\uff08\\u603b\\u8d44\\u4ea7\\uffe5891965.298\",\"\\u5269\\u4f59\\u91d1\\u989d\\uffe5471245.65\",\"\\u5f53\\u65e5\\u4ea4\\u6613\\u4f63\\u91d1\\uffe5681.9\\uff09\",\"\\uffe5420721.676\",\"\\uffe58134.269\",null],[\"2021-05-21\",\"688012.SHA\",\"\\u4e2d\\u5fae\\u516c\\u53f8\",120.807,\"117.590\",2504.857,294546.125,-8057.008],[\"2021-05-21\",\"600893.SHA\",\"\\u822a\\u53d1\\u52a8\\u529b\",143.108,\"138.838\",1046.848,145341.785,-4470.908],[\"2021-05-21\",\"002460.SZA\",\"\\u8d63\\u950b\\u9502\\u4e1a\",1089.14,\"1110.370\",94.049,104429.222,1996.662],[\"2021-05-21\",\"600009.SHA\",\"\\u4e0a\\u6d77\\u673a\\u573a\",145.911,\"144.834\",539.225,78098.122,-580.474],[\"2021-05-21\",\"603986.SHA\",\"\\u5146\\u6613\\u521b\\u65b0\",688.752,\"677.242\",40.232,27246.805,-463.062],[\"\",\"\",\"\\uff08\\u603b\\u8d44\\u4ea7\\uffe5881939.697\",\"\\u5269\\u4f59\\u91d1\\u989d\\uffe5232277.838\",\"\\u5f53\\u65e5\\u4ea4\\u6613\\u4f63\\u91d1\\uffe5367.5\\uff09\",\"\\uffe5649662.059\",\"\\uffe5-11574.79\",null],[\"2021-05-20\",\"688012.SHA\",\"\\u4e2d\\u5fae\\u516c\\u53f8\",120.6,\"120.430\",1910.127,230036.595,-324.682],[\"2021-05-20\",\"002024.SZA\",\"\\u82cf\\u5b81\\u6613\\u8d2d\",603.151,\"593.466\",51.987,30852.495,-503.521],[\"2021-05-20\",\"600066.SHA\",\"\\u5b87\\u901a\\u5ba2\\u8f66\",626.477,\"621.579\",43.702,27164.255,-214.047],[\"2021-05-20\",\"300142.SZA\",\"\\u6c83\\u68ee\\u751f\\u7269\",990.962,\"989.010\",64.656,63945.451,-126.216],[\"2021-05-20\",\"300144.SZA\",\"\\u5b8b\\u57ce\\u6f14\\u827a\",287.015,\"278.177\",281.97,78437.629,-2491.968],[\"2021-05-20\",\"600893.SHA\",\"\\u822a\\u53d1\\u52a8\\u529b\",143.259,\"142.433\",830.279,118259.115,-685.579],[\"2021-05-20\",\"000568.SZA\",\"\\u6cf8\\u5dde\\u8001\\u7a96\",8388.072,\"8503.417\",4.639,39447.351,535.062],[\"2021-05-20\",\"002460.SZA\",\"\\u8d63\\u950b\\u9502\\u4e1a\",1081.558,\"1091.226\",61.231,66816.856,591.971],[\"2021-05-20\",\"600009.SHA\",\"\\u4e0a\\u6d77\\u673a\\u573a\",145.295,\"146.277\",230.296,33687.112,226.325],[\"\",\"\",\"\\uff08\\u603b\\u8d44\\u4ea7\\uffe5899823.402\",\"\\u5269\\u4f59\\u91d1\\u989d\\uffe5211178.683\",\"\\u5f53\\u65e5\\u4ea4\\u6613\\u4f63\\u91d1\\uffe5331.27\\uff09\",\"\\uffe5688646.859\",\"\\uffe5-2992.655\",null],[\"2021-05-19\",\"688012.SHA\",\"\\u4e2d\\u5fae\\u516c\\u53f8\",120.711,\"121.480\",1561.823,189730.263,1200.295],[\"2021-05-19\",\"603986.SHA\",\"\\u5146\\u6613\\u521b\\u65b0\",684.896,\"693.605\",58.228,40387.256,507.147],[\"2021-05-19\",\"002024.SZA\",\"\\u82cf\\u5b81\\u6613\\u8d2d\",603.151,\"594.346\",51.987,30898.269,-457.747],[\"2021-05-19\",\"600066.SHA\",\"\\u5b87\\u901a\\u5ba2\\u8f66\",626.477,\"634.046\",43.702,27709.098,330.801],[\"2021-05-19\",\"000860.SZA\",\"\\u987a\\u946b\\u519c\\u4e1a\",143.129,\"140.908\",397.538,56016.214,-883.088],[\"2021-05-19\",\"002594.SZA\",\"\\u6bd4\\u4e9a\\u8fea\",163.126,\"176.217\",632.979,111541.947,8286.599],[\"2021-05-19\",\"300142.SZA\",\"\\u6c83\\u68ee\\u751f\\u7269\",990.732,\"1005.388\",38.851,39060.346,569.413],[\"2021-05-19\",\"300144.SZA\",\"\\u5b8b\\u57ce\\u6f14\\u827a\",287.015,\"288.777\",281.97,81426.548,496.945],[\"2021-05-19\",\"600893.SHA\",\"\\u822a\\u53d1\\u52a8\\u529b\",143.291,\"143.818\",629.454,90527.061,332.207],[\"2021-05-19\",\"000568.SZA\",\"\\u6cf8\\u5dde\\u8001\\u7a96\",8388.072,\"8455.247\",4.639,39223.891,311.611],[\"\",\"\",\"\\uff08\\u603b\\u8d44\\u4ea7\\uffe5904251.756\",\"\\u5269\\u4f59\\u91d1\\u989d\\uffe5197732.274\",\"\\u5f53\\u65e5\\u4ea4\\u6613\\u4f63\\u91d1\\uffe5117.07\\uff09\",\"\\uffe5706520.893\",\"\\uffe510694.183\",null],[\"2021-05-18\",\"688012.SHA\",\"\\u4e2d\\u5fae\\u516c\\u53f8\",120.414,\"122.370\",1274.061,155906.848,2492.477],[\"2021-05-18\",\"603986.SHA\",\"\\u5146\\u6613\\u521b\\u65b0\",684.896,\"684.737\",58.228,39870.891,-9.219],[\"2021-05-18\",\"002024.SZA\",\"\\u82cf\\u5b81\\u6613\\u8d2d\",603.151,\"599.629\",51.987,31172.921,-183.098],[\"2021-05-18\",\"600066.SHA\",\"\\u5b87\\u901a\\u5ba2\\u8f66\",626.477,\"626.032\",43.702,27358.842,-19.459],[\"2021-05-18\",\"002812.SZA\",\"\\u6069\\u6377\\u80a1\\u4efd\",447.218,\"482.987\",54.776,26456.104,1959.285],[\"2021-05-18\",\"000860.SZA\",\"\\u987a\\u946b\\u519c\\u4e1a\",143.129,\"142.919\",397.538,56815.766,-83.534],[\"2021-05-18\",\"002594.SZA\",\"\\u6bd4\\u4e9a\\u8fea\",163.183,\"161.857\",278.157,45021.749,-368.799],[\"2021-05-18\",\"300142.SZA\",\"\\u6c83\\u68ee\\u751f\\u7269\",990.732,\"987.861\",38.851,38379.389,-111.551],[\"2021-05-18\",\"300144.SZA\",\"\\u5b8b\\u57ce\\u6f14\\u827a\",281.963,\"290.292\",125.187,36340.738,1042.638],[\"\",\"\",\"\\uff08\\u603b\\u8d44\\u4ea7\\uffe5894614.763\",\"\\u5269\\u4f59\\u91d1\\u989d\\uffe5437291.088\",\"\\u5f53\\u65e5\\u4ea4\\u6613\\u4f63\\u91d1\\uffe580.0\\uff09\",\"\\uffe5457323.248\",\"\\uffe54718.74\",null],[\"2021-05-17\",\"688012.SHA\",\"\\u4e2d\\u5fae\\u516c\\u53f8\",121.03,\"120.070\",519.033,62320.292,-498.271],[\"2021-05-17\",\"603986.SHA\",\"\\u5146\\u6613\\u521b\\u65b0\",684.896,\"689.251\",58.228,40133.685,253.575],[\"2021-05-17\",\"002024.SZA\",\"\\u82cf\\u5b81\\u6613\\u8d2d\",603.151,\"600.510\",51.987,31218.695,-137.324],[\"2021-05-17\",\"600066.SHA\",\"\\u5b87\\u901a\\u5ba2\\u8f66\",626.477,\"619.353\",43.702,27066.961,-311.343],[\"2021-05-17\",\"002812.SZA\",\"\\u6069\\u6377\\u80a1\\u4efd\",447.218,\"478.332\",54.776,26201.129,1704.309],[\"\",\"\",\"\\uff08\\u603b\\u8d44\\u4ea7\\uffe5890986.972\",\"\\u5269\\u4f59\\u91d1\\u989d\\uffe5704046.148\",\"\\u5f53\\u65e5\\u4ea4\\u6613\\u4f63\\u91d1\\uffe5973.29\\uff09\",\"\\uffe5186940.762\",\"\\uffe51010.946\",null],[\"2021-05-14\",\"600009.SHA\",\"\\u4e0a\\u6d77\\u673a\\u573a\",139.114,\"142.346\",3596.606,511963.934,11625.66],[\"2021-05-14\",\"300144.SZA\",\"\\u5b8b\\u57ce\\u6f14\\u827a\",281.812,\"286.052\",194.87,55742.876,826.26],[\"2021-05-14\",\"002821.SZA\",\"\\u51ef\\u83b1\\u82f1\",708.03,\"709.673\",61.037,43316.32,100.317],[\"2021-05-14\",\"000860.SZA\",\"\\u987a\\u946b\\u519c\\u4e1a\",144.69,\"146.942\",258.995,38057.137,583.103],[\"2021-05-14\",\"300014.SZA\",\"\\u4ebf\\u7eac\\u9502\\u80fd\",1579.1,\"1718.998\",21.486,36934.397,3005.907],[\"\",\"\",\"\\uff08\\u603b\\u8d44\\u4ea7\\uffe5871187.525\",\"\\u5269\\u4f59\\u91d1\\u989d\\uffe5185172.109\",\"\\u5f53\\u65e5\\u4ea4\\u6613\\u4f63\\u91d1\\uffe5233.6\\uff09\",\"\\uffe5686014.664\",\"\\uffe516141.247\",null],[\"2021-05-13\",\"600009.SHA\",\"\\u4e0a\\u6d77\\u673a\\u573a\",138.926,\"139.797\",2974.319,415801.999,2591.597],[\"2021-05-13\",\"000661.SZA\",\"\\u957f\\u6625\\u9ad8\\u65b0\",3619.984,\"3694.090\",13.633,50361.533,1010.277],[\"2021-05-13\",\"603799.SHA\",\"\\u534e\\u53cb\\u94b4\\u4e1a\",140.598,\"136.587\",271.713,37112.403,-1089.918],[\"2021-05-13\",\"002812.SZA\",\"\\u6069\\u6377\\u80a1\\u4efd\",442.738,\"441.408\",68.218,30111.989,-90.73],[\"\",\"\",\"\\uff08\\u603b\\u8d44\\u4ea7\\uffe5854995.093\",\"\\u5269\\u4f59\\u91d1\\u989d\\uffe5321607.595\",\"\\u5f53\\u65e5\\u4ea4\\u6613\\u4f63\\u91d1\\uffe5429.45\\uff09\",\"\\uffe5533387.924\",\"\\uffe52421.226\",null],[\"2021-05-12\",\"600009.SHA\",\"\\u4e0a\\u6d77\\u673a\\u573a\",138.873,\"139.920\",2408.085,336939.8,2522.247],[\"2021-05-12\",\"300144.SZA\",\"\\u5b8b\\u57ce\\u6f14\\u827a\",299.676,\"286.203\",567.569,162439.969,-7646.586],[\"2021-05-12\",\"688008.SHA\",\"\\u6f9c\\u8d77\\u79d1\\u6280\",50.722,\"51.813\",1398.231,72446.132,1524.584],[\"2021-05-12\",\"603288.SHA\",\"\\u6d77\\u5929\\u5473\\u4e1a\",794.984,\"797.964\",59.991,47870.65,178.795],[\"\",\"\",\"\\uff08\\u603b\\u8d44\\u4ea7\\uffe5853295.895\",\"\\u5269\\u4f59\\u91d1\\u989d\\uffe5233599.042\",\"\\u5f53\\u65e5\\u4ea4\\u6613\\u4f63\\u91d1\\uffe5318.46\\uff09\",\"\\uffe5619696.551\",\"\\uffe5-3420.96\",null],[\"2021-05-11\",\"002024.SZA\",\"\\u82cf\\u5b81\\u6613\\u8d2d\",594.984,\"596.107\",119.042,70961.783,133.694],[\"2021-05-11\",\"600009.SHA\",\"\\u4e0a\\u6d77\\u673a\\u573a\",138.836,\"139.521\",1866.303,260388.425,1277.966],[\"2021-05-11\",\"300144.SZA\",\"\\u5b8b\\u57ce\\u6f14\\u827a\",300.757,\"296.500\",468.945,139042.321,-1996.341],[\"2021-05-11\",\"600436.SHA\",\"\\u7247\\u4ed4\\u7640\",2163.387,\"2224.210\",15.842,35235.934,963.567],[\"2021-05-11\",\"603658.SHA\",\"\\u5b89\\u56fe\\u751f\\u7269\",114.146,\"117.481\",476.064,55928.407,1587.65],[\"2021-05-11\",\"601600.SHA\",\"\\u4e2d\\u56fd\\u94dd\\u4e1a\",5.638,\"5.893\",6277.528,36990.746,1599.947],[\"2021-05-11\",\"688008.SHA\",\"\\u6f9c\\u8d77\\u79d1\\u6280\",50.048,\"51.020\",657.448,33543.241,639.609],[\"\",\"\",\"\\uff08\\u603b\\u8d44\\u4ea7\\uffe5854965.258\",\"\\u5269\\u4f59\\u91d1\\u989d\\uffe5222874.236\",\"\\u5f53\\u65e5\\u4ea4\\u6613\\u4f63\\u91d1\\uffe5302.77\\uff09\",\"\\uffe5632090.857\",\"\\uffe54206.092\",null],[\"2021-05-10\",\"002024.SZA\",\"\\u82cf\\u5b81\\u6613\\u8d2d\",594.984,\"592.585\",119.042,70542.506,-285.582],[\"2021-05-10\",\"600009.SHA\",\"\\u4e0a\\u6d77\\u673a\\u573a\",140.472,\"136.481\",1236.983,168824.152,-4937.507],[\"2021-05-10\",\"300144.SZA\",\"\\u5b8b\\u57ce\\u6f14\\u827a\",302.43,\"299.832\",325.715,97659.691,-846.171],[\"2021-05-10\",\"600547.SHA\",\"\\u5c71\\u4e1c\\u9ec4\\u91d1\",436.3,\"486.382\",103.197,50193.134,5168.277],[\"2021-05-10\",\"600436.SHA\",\"\\u7247\\u4ed4\\u7640\",2163.387,\"2193.537\",15.842,34750.015,477.639],[\"2021-05-10\",\"600570.SHA\",\"\\u6052\\u751f\\u7535\\u5b50\",2137.568,\"2088.709\",25.542,53349.805,-1247.959],[\"2021-05-10\",\"002129.SZA\",\"\\u4e2d\\u73af\\u80a1\\u4efd\",113.61,\"115.342\",328.49,37888.634,569.024],[\"2021-05-10\",\"000860.SZA\",\"\\u987a\\u946b\\u519c\\u4e1a\",138.566,\"134.634\",240.108,32326.679,-944.212],[\"\",\"\",\"\\uff08\\u603b\\u8d44\\u4ea7\\uffe5844142.383\",\"\\u5269\\u4f59\\u91d1\\u989d\\uffe5298607.163\",\"\\u5f53\\u65e5\\u4ea4\\u6613\\u4f63\\u91d1\\uffe5388.85\\uff09\",\"\\uffe5545534.616\",\"\\uffe5-2046.491\",null],[\"2021-05-07\",\"688012.SHA\",\"\\u4e2d\\u5fae\\u516c\\u53f8\",118.44,\"108.900\",1176.157,128083.499,-11221.049],[\"2021-05-07\",\"002821.SZA\",\"\\u51ef\\u83b1\\u82f1\",658.714,\"623.051\",129.757,80845.287,-4627.521],[\"2021-05-07\",\"603087.SHA\",\"\\u7518\\u674e\\u836f\\u4e1a\",186.66,\"176.696\",186.948,33033.044,-1862.713],[\"2021-05-07\",\"002024.SZA\",\"\\u82cf\\u5b81\\u6613\\u8d2d\",594.984,\"595.227\",119.042,70856.96,28.871],[\"2021-05-07\",\"600009.SHA\",\"\\u4e0a\\u6d77\\u673a\\u573a\",141.916,\"139.030\",618.113,85936.004,-1784.404],[\"2021-05-07\",\"300144.SZA\",\"\\u5b8b\\u57ce\\u6f14\\u827a\",309.22,\"294.532\",179.65,52912.616,-2638.829],[\"2021-05-07\",\"600547.SHA\",\"\\u5c71\\u4e1c\\u9ec4\\u91d1\",436.3,\"455.327\",103.197,46988.355,1963.493],[\"2021-05-07\",\"600436.SHA\",\"\\u7247\\u4ed4\\u7640\",2163.387,\"2162.210\",15.842,34253.734,-18.65],[\"\",\"\",\"\\uff08\\u603b\\u8d44\\u4ea7\\uffe5845630.32\",\"\\u5269\\u4f59\\u91d1\\u989d\\uffe5312720.209\",\"\\u5f53\\u65e5\\u4ea4\\u6613\\u4f63\\u91d1\\uffe5359.07\\uff09\",\"\\uffe5532909.499\",\"\\uffe5-20160.802\",null],[\"2021-05-06\",\"002594.SZA\",\"\\u6bd4\\u4e9a\\u8fea\",165.398,\"152.984\",1470.129,224906.587,-18250.423],[\"2021-05-06\",\"688012.SHA\",\"\\u4e2d\\u5fae\\u516c\\u53f8\",118.44,\"116.530\",1176.157,137057.574,-2246.975],[\"2021-05-06\",\"002821.SZA\",\"\\u51ef\\u83b1\\u82f1\",658.714,\"658.398\",129.757,85431.766,-41.032],[\"2021-05-06\",\"603087.SHA\",\"\\u7518\\u674e\\u836f\\u4e1a\",186.66,\"177.538\",186.948,33190.456,-1705.301],[\"2021-05-06\",\"002024.SZA\",\"\\u82cf\\u5b81\\u6613\\u8d2d\",587.302,\"588.182\",54.13,31838.318,47.665],[\"\",\"\",\"\\uff08\\u603b\\u8d44\\u4ea7\\uffe5871275.779\",\"\\u5269\\u4f59\\u91d1\\u989d\\uffe5358850.829\",\"\\u5f53\\u65e5\\u4ea4\\u6613\\u4f63\\u91d1\\uffe5536.9\\uff09\",\"\\uffe5512424.701\",\"\\uffe5-22196.066\",null],[\"2021-04-30\",\"002594.SZA\",\"\\u6bd4\\u4e9a\\u8fea\",166.867,\"161.725\",1150.012,185985.399,-5913.349],[\"2021-04-30\",\"300144.SZA\",\"\\u5b8b\\u57ce\\u6f14\\u827a\",326.475,\"329.058\",1045.037,343877.545,2698.605],[\"2021-04-30\",\"688012.SHA\",\"\\u4e2d\\u5fae\\u516c\\u53f8\",118.0,\"118.800\",485.46,57672.649,388.37],[\"2021-04-30\",\"002821.SZA\",\"\\u51ef\\u83b1\\u82f1\",663.511,\"667.367\",68.281,45568.466,263.238],[\"2021-04-30\",\"000568.SZA\",\"\\u6cf8\\u5dde\\u8001\\u7a96\",8487.032,\"8374.965\",4.099,34328.981,-459.406],[\"\",\"\",\"\\uff08\\u603b\\u8d44\\u4ea7\\uffe5909371.274\",\"\\u5269\\u4f59\\u91d1\\u989d\\uffe5241935.187\",\"\\u5f53\\u65e5\\u4ea4\\u6613\\u4f63\\u91d1\\uffe5392.2\\uff09\",\"\\uffe5667433.04\",\"\\uffe5-3022.542\",null],[\"2021-04-29\",\"002594.SZA\",\"\\u6bd4\\u4e9a\\u8fea\",168.847,\"166.192\",600.547,99806.044,-1594.252],[\"2021-04-29\",\"300144.SZA\",\"\\u5b8b\\u57ce\\u6f14\\u827a\",325.876,\"332.995\",926.933,308663.993,6598.477],[\"2021-04-29\",\"600161.SHA\",\"\\u5929\\u575b\\u751f\\u7269\",470.016,\"464.648\",83.819,38946.342,-449.933],[\"2021-04-29\",\"600760.SHA\",\"\\u4e2d\\u822a\\u6c88\\u98de\",303.718,\"303.940\",339.207,103098.442,75.116],[\"2021-04-29\",\"600436.SHA\",\"\\u7247\\u4ed4\\u7640\",2171.889,\"2249.193\",15.527,34923.222,1200.258],[\"2021-04-29\",\"600588.SHA\",\"\\u7528\\u53cb\\u7f51\\u7edc\",1904.976,\"1869.085\",19.781,36972.379,-709.972],[\"2021-04-29\",\"300529.SZA\",\"\\u5065\\u5e06\\u751f\\u7269\",185.404,\"190.150\",175.722,33413.457,833.874],[\"\",\"\",\"\\uff08\\u603b\\u8d44\\u4ea7\\uffe5925067.53\",\"\\u5269\\u4f59\\u91d1\\u989d\\uffe5269243.496\",\"\\u5f53\\u65e5\\u4ea4\\u6613\\u4f63\\u91d1\\uffe5416.46\\uff09\",\"\\uffe5655823.879\",\"\\uffe55953.568\",null],[\"2021-04-28\",\"000568.SZA\",\"\\u6cf8\\u5dde\\u8001\\u7a96\",7868.036,\"8552.569\",9.489,81155.33,6495.563],[\"2021-04-28\",\"002594.SZA\",\"\\u6bd4\\u4e9a\\u8fea\",169.917,\"168.793\",425.613,71840.332,-478.43],[\"2021-04-28\",\"300144.SZA\",\"\\u5b8b\\u57ce\\u6f14\\u827a\",324.316,\"330.118\",695.72,229669.533,4036.571],[\"2021-04-28\",\"600809.SHA\",\"\\u5c71\\u897f\\u6c7e\\u9152\",1758.096,\"1898.422\",56.543,107342.489,7934.493],[\"2021-04-28\",\"600161.SHA\",\"\\u5929\\u575b\\u751f\\u7269\",470.016,\"480.621\",83.819,40285.156,888.887],[\"2021-04-28\",\"600760.SHA\",\"\\u4e2d\\u822a\\u6c88\\u98de\",301.18,\"305.960\",181.809,55626.275,869.02],[\"2021-04-28\",\"603658.SHA\",\"\\u5b89\\u56fe\\u751f\\u7269\",123.088,\"126.486\",355.347,44946.524,1207.497],[\"2021-04-28\",\"002129.SZA\",\"\\u4e2d\\u73af\\u80a1\\u4efd\",114.074,\"116.609\",321.315,37468.319,814.528],[\"2021-04-28\",\"600436.SHA\",\"\\u7247\\u4ed4\\u7640\",2171.889,\"2253.575\",15.527,34991.258,1268.293],[\"\",\"\",\"\\uff08\\u603b\\u8d44\\u4ea7\\uffe5928374.443\",\"\\u5269\\u4f59\\u91d1\\u989d\\uffe5225048.939\",\"\\u5f53\\u65e5\\u4ea4\\u6613\\u4f63\\u91d1\\uffe5366.91\\uff09\",\"\\uffe5703325.216\",\"\\uffe523036.422\",null],[\"2021-04-27\",\"000568.SZA\",\"\\u6cf8\\u5dde\\u8001\\u7a96\",7868.036,\"8224.885\",9.489,78045.932,3386.151],[\"2021-04-27\",\"600600.SHA\",\"\\u9752\\u5c9b\\u5564\\u9152\",162.535,\"156.662\",296.295,46418.105,-1740.305],[\"2021-04-27\",\"002594.SZA\",\"\\u6bd4\\u4e9a\\u8fea\",169.917,\"168.221\",425.613,71597.249,-721.513],[\"2021-04-27\",\"300413.SZA\",\"\\u8292\\u679c\\u8d85\\u5a92\",110.159,\"116.841\",294.654,34427.712,1968.884],[\"2021-04-27\",\"603259.SHA\",\"\\u836f\\u660e\\u5eb7\\u5fb7\",276.364,\"300.914\",103.964,31284.211,2552.347],[\"2021-04-27\",\"002049.SZA\",\"\\u7d2b\\u5149\\u56fd\\u5fae\",474.291,\"490.750\",122.911,60318.521,2022.908],[\"2021-04-27\",\"300144.SZA\",\"\\u5b8b\\u57ce\\u6f14\\u827a\",324.764,\"325.272\",426.414,138700.536,216.682],[\"2021-04-27\",\"600809.SHA\",\"\\u5c71\\u897f\\u6c7e\\u9152\",1758.096,\"1797.672\",56.543,101645.747,2237.715],[\"2021-04-27\",\"601888.SHA\",\"\\u4e2d\\u56fd\\u4e2d\\u514d\",656.898,\"668.726\",70.784,47335.132,837.282],[\"2021-04-27\",\"600161.SHA\",\"\\u5929\\u575b\\u751f\\u7269\",470.016,\"480.752\",83.819,40296.13,899.861],[\"\",\"\",\"\\uff08\\u603b\\u8d44\\u4ea7\\uffe5908348.444\",\"\\u5269\\u4f59\\u91d1\\u989d\\uffe5258278.248\",\"\\u5f53\\u65e5\\u4ea4\\u6613\\u4f63\\u91d1\\uffe5194.5\\uff09\",\"\\uffe5650069.275\",\"\\uffe511660.012\",null],[\"2021-04-26\",\"000568.SZA\",\"\\u6cf8\\u5dde\\u8001\\u7a96\",7868.036,\"8108.557\",9.489,76942.099,2282.313],[\"2021-04-26\",\"600600.SHA\",\"\\u9752\\u5c9b\\u5564\\u9152\",162.535,\"155.278\",296.295,46008.032,-2150.378],[\"2021-04-26\",\"002594.SZA\",\"\\u6bd4\\u4e9a\\u8fea\",170.506,\"170.832\",217.195,37103.946,70.886],[\"2021-04-26\",\"300413.SZA\",\"\\u8292\\u679c\\u8d85\\u5a92\",110.159,\"113.200\",294.654,33354.693,895.866],[\"2021-04-26\",\"603259.SHA\",\"\\u836f\\u660e\\u5eb7\\u5fb7\",276.364,\"291.161\",103.964,30270.266,1538.402],[\"2021-04-26\",\"600118.SHA\",\"\\u4e2d\\u56fd\\u536b\\u661f\",547.585,\"514.083\",172.077,88461.883,-5764.865],[\"2021-04-26\",\"002049.SZA\",\"\\u7d2b\\u5149\\u56fd\\u5fae\",474.291,\"486.778\",122.911,59830.418,1534.805],[\"2021-04-26\",\"300144.SZA\",\"\\u5b8b\\u57ce\\u6f14\\u827a\",316.186,\"327.695\",145.554,47697.301,1675.142],[\"2021-04-26\",\"600809.SHA\",\"\\u5c71\\u897f\\u6c7e\\u9152\",1734.487,\"1732.186\",23.02,39874.92,-52.964],[\"\",\"\",\"\\uff08\\u603b\\u8d44\\u4ea7\\uffe5904550.592\",\"\\u5269\\u4f59\\u91d1\\u989d\\uffe5445006.288\",\"\\u5f53\\u65e5\\u4ea4\\u6613\\u4f63\\u91d1\\uffe571.54\\uff09\",\"\\uffe5459543.558\",\"\\uffe529.207\",null],[\"2021-04-23\",\"000568.SZA\",\"\\u6cf8\\u5dde\\u8001\\u7a96\",7868.036,\"8179.337\",9.489,77613.728,2953.946],[\"2021-04-23\",\"600600.SHA\",\"\\u9752\\u5c9b\\u5564\\u9152\",162.535,\"156.290\",296.295,46308.084,-1850.326],[\"2021-04-23\",\"002594.SZA\",\"\\u6bd4\\u4e9a\\u8fea\",170.506,\"172.617\",217.195,37491.6,458.541],[\"2021-04-23\",\"300413.SZA\",\"\\u8292\\u679c\\u8d85\\u5a92\",110.159,\"108.012\",294.654,31826.148,-632.676],[\"2021-04-23\",\"603259.SHA\",\"\\u836f\\u660e\\u5eb7\\u5fb7\",276.364,\"296.977\",103.964,30874.932,2143.068],[\"\",\"\",\"\\uff08\\u603b\\u8d44\\u4ea7\\uffe5907665.478\",\"\\u5269\\u4f59\\u91d1\\u989d\\uffe5683550.58\",\"\\u5f53\\u65e5\\u4ea4\\u6613\\u4f63\\u91d1\\uffe5957.03\\uff09\",\"\\uffe5224114.492\",\"\\uffe53072.553\",null],[\"2021-04-22\",\"600118.SHA\",\"\\u4e2d\\u56fd\\u536b\\u661f\",531.425,\"528.991\",1010.477,534533.637,-2459.374],[\"2021-04-22\",\"002179.SZA\",\"\\u4e2d\\u822a\\u5149\\u7535\",591.63,\"589.139\",76.432,45029.103,-190.37],[\"2021-04-22\",\"600809.SHA\",\"\\u5c71\\u897f\\u6c7e\\u9152\",1736.699,\"1716.788\",24.097,41369.437,-479.797],[\"2021-04-22\",\"002129.SZA\",\"\\u4e2d\\u73af\\u80a1\\u4efd\",124.003,\"123.158\",263.328,32430.955,-222.511],[\"2021-04-22\",\"600588.SHA\",\"\\u7528\\u53cb\\u7f51\\u7edc\",1987.249,\"1966.267\",12.575,24725.806,-263.843],[\"\",\"\",\"\\uff08\\u603b\\u8d44\\u4ea7\\uffe5898467.409\",\"\\u5269\\u4f59\\u91d1\\u989d\\uffe5220379.834\",\"\\u5f53\\u65e5\\u4ea4\\u6613\\u4f63\\u91d1\\uffe5302.03\\uff09\",\"\\uffe5678088.938\",\"\\uffe5-3615.895\",null],[\"2021-04-21\",\"600118.SHA\",\"\\u4e2d\\u56fd\\u536b\\u661f\",530.666,\"536.027\",889.97,477047.712,4770.794],[\"2021-04-21\",\"000568.SZA\",\"\\u6cf8\\u5dde\\u8001\\u7a96\",7713.794,\"8015.167\",15.126,121237.416,4558.471],[\"2021-04-21\",\"002179.SZA\",\"\\u4e2d\\u822a\\u5149\\u7535\",591.63,\"586.882\",76.432,44856.576,-362.896],[\"2021-04-21\",\"600436.SHA\",\"\\u7247\\u4ed4\\u7640\",2145.141,\"2204.001\",18.252,40227.43,1074.304],[\"2021-04-21\",\"603259.SHA\",\"\\u836f\\u660e\\u5eb7\\u5fb7\",276.344,\"279.826\",127.504,35678.882,443.937],[\"\",\"\",\"\\uff08\\u603b\\u8d44\\u4ea7\\uffe5909500.468\",\"\\u5269\\u4f59\\u91d1\\u989d\\uffe5190455.601\",\"\\u5f53\\u65e5\\u4ea4\\u6613\\u4f63\\u91d1\\uffe5279.26\\uff09\",\"\\uffe5719048.016\",\"\\uffe510484.61\",null],[\"2021-04-20\",\"600118.SHA\",\"\\u4e2d\\u56fd\\u536b\\u661f\",531.957,\"528.489\",717.245,379055.971,-2487.433],[\"2021-04-20\",\"002049.SZA\",\"\\u7d2b\\u5149\\u56fd\\u5fae\",463.79,\"469.702\",51.999,24424.052,307.454],[\"2021-04-20\",\"601100.SHA\",\"\\u6052\\u7acb\\u6db2\\u538b\",281.023,\"295.966\",153.166,45331.92,2288.77],[\"2021-04-20\",\"600588.SHA\",\"\\u7528\\u53cb\\u7f51\\u7edc\",1982.832,\"2009.888\",13.311,26753.618,360.139],[\"2021-04-20\",\"000568.SZA\",\"\\u6cf8\\u5dde\\u8001\\u7a96\",7716.974,\"7849.358\",7.788,61130.803,1031.063],[\"2021-04-20\",\"002129.SZA\",\"\\u4e2d\\u73af\\u80a1\\u4efd\",122.102,\"122.736\",248.118,30452.893,157.245],[\"2021-04-20\",\"002594.SZA\",\"\\u6bd4\\u4e9a\\u8fea\",178.482,\"174.647\",146.391,25566.723,-561.382],[\"\",\"\",\"\\uff08\\u603b\\u8d44\\u4ea7\\uffe5897149.278\",\"\\u5269\\u4f59\\u91d1\\u989d\\uffe5304430.16\",\"\\u5f53\\u65e5\\u4ea4\\u6613\\u4f63\\u91d1\\uffe5410.41\\uff09\",\"\\uffe5592715.98\",\"\\uffe51095.856\",null],[\"2021-04-19\",\"600118.SHA\",\"\\u4e2d\\u56fd\\u536b\\u661f\",530.524,\"545.072\",646.6,352443.648,9406.872],[\"2021-04-19\",\"300014.SZA\",\"\\u4ebf\\u7eac\\u9502\\u80fd\",1302.97,\"1427.634\",121.87,173985.7,15192.668],[\"2021-04-19\",\"002044.SZA\",\"\\u7f8e\\u5e74\\u5065\\u5eb7\",111.433,\"117.307\",894.757,104961.095,5256.037],[\"2021-04-19\",\"002049.SZA\",\"\\u7d2b\\u5149\\u56fd\\u5fae\",463.79,\"473.629\",51.999,24628.253,511.656],[\"2021-04-19\",\"601100.SHA\",\"\\u6052\\u7acb\\u6db2\\u538b\",281.023,\"287.754\",153.166,44074.129,1030.976],[\"2021-04-19\",\"600588.SHA\",\"\\u7528\\u53cb\\u7f51\\u7edc\",1982.832,\"2027.557\",13.311,26988.816,595.333],[\"\",\"\",\"\\uff08\\u603b\\u8d44\\u4ea7\\uffe5907030.845\",\"\\u5269\\u4f59\\u91d1\\u989d\\uffe5179949.445\",\"\\u5f53\\u65e5\\u4ea4\\u6613\\u4f63\\u91d1\\uffe5294.36\\uff09\",\"\\uffe5727081.641\",\"\\uffe531993.542\",null],[\"2021-04-16\",\"600118.SHA\",\"\\u4e2d\\u56fd\\u536b\\u661f\",529.823,\"544.402\",592.552,322586.589,8638.682],[\"2021-04-16\",\"603986.SHA\",\"\\u5146\\u6613\\u521b\\u65b0\",720.196,\"688.855\",266.508,183585.282,-8352.829],[\"2021-04-16\",\"300014.SZA\",\"\\u4ebf\\u7eac\\u9502\\u80fd\",1313.831,\"1275.277\",95.083,121257.138,-3665.852],[\"2021-04-16\",\"002044.SZA\",\"\\u7f8e\\u5e74\\u5065\\u5eb7\",110.898,\"110.898\",278.694,30906.514,0.0],[\"2021-04-16\",\"002049.SZA\",\"\\u7d2b\\u5149\\u56fd\\u5fae\",463.79,\"467.673\",51.999,24318.508,201.91],[\"\",\"\",\"\\uff08\\u603b\\u8d44\\u4ea7\\uffe5884093.699\",\"\\u5269\\u4f59\\u91d1\\u989d\\uffe5201438.875\",\"\\u5f53\\u65e5\\u4ea4\\u6613\\u4f63\\u91d1\\uffe5318.7\\uff09\",\"\\uffe5682654.031\",\"\\uffe5-3178.089\",null],[\"2021-04-15\",\"600118.SHA\",\"\\u4e2d\\u56fd\\u536b\\u661f\",528.53,\"534.854\",519.636,277929.49,3286.359],[\"2021-04-15\",\"603986.SHA\",\"\\u5146\\u6613\\u521b\\u65b0\",720.701,\"716.963\",229.377,164454.853,-857.29],[\"2021-04-15\",\"601100.SHA\",\"\\u6052\\u7acb\\u6db2\\u538b\",281.003,\"286.206\",410.271,117421.969,2134.387],[\"2021-04-15\",\"000661.SZA\",\"\\u957f\\u6625\\u9ad8\\u65b0\",3286.915,\"3344.446\",17.12,57256.908,984.905],[\"2021-04-15\",\"300014.SZA\",\"\\u4ebf\\u7eac\\u9502\\u80fd\",1296.813,\"1319.062\",48.222,63607.785,1072.866],[\"2021-04-15\",\"600111.SHA\",\"\\u5317\\u65b9\\u7a00\\u571f\",365.256,\"378.603\",85.544,32387.183,1141.7],[\"\",\"\",\"\\uff08\\u603b\\u8d44\\u4ea7\\uffe5895310.111\",\"\\u5269\\u4f59\\u91d1\\u989d\\uffe5182252.896\",\"\\u5f53\\u65e5\\u4ea4\\u6613\\u4f63\\u91d1\\uffe5291.81\\uff09\",\"\\uffe5713058.188\",\"\\uffe57762.927\",null],[\"2021-04-14\",\"600118.SHA\",\"\\u4e2d\\u56fd\\u536b\\u661f\",526.704,\"535.859\",444.753,238324.983,4072.011],[\"2021-04-14\",\"603986.SHA\",\"\\u5146\\u6613\\u521b\\u65b0\",720.579,\"723.337\",191.51,138526.276,528.28],[\"2021-04-14\",\"000860.SZA\",\"\\u987a\\u946b\\u519c\\u4e1a\",137.726,\"141.538\",193.224,27348.582,736.642],[\"2021-04-14\",\"601100.SHA\",\"\\u6052\\u7acb\\u6db2\\u538b\",280.192,\"280.182\",322.458,90346.782,-3.261],[\"2021-04-14\",\"603087.SHA\",\"\\u7518\\u674e\\u836f\\u4e1a\",173.314,\"178.675\",161.83,28915.0,867.537],[\"2021-04-14\",\"002044.SZA\",\"\\u7f8e\\u5e74\\u5065\\u5eb7\",110.703,\"112.937\",808.553,91315.504,1805.896],[\"2021-04-14\",\"000661.SZA\",\"\\u957f\\u6625\\u9ad8\\u65b0\",3286.915,\"3324.302\",17.12,56912.054,640.061],[\"2021-04-14\",\"600760.SHA\",\"\\u4e2d\\u822a\\u6c88\\u98de\",302.067,\"308.917\",113.593,35090.759,778.055],[\"\",\"\",\"\\uff08\\u603b\\u8d44\\u4ea7\\uffe5894298.639\",\"\\u5269\\u4f59\\u91d1\\u989d\\uffe5187520.238\",\"\\u5f53\\u65e5\\u4ea4\\u6613\\u4f63\\u91d1\\uffe5168.81\\uff09\",\"\\uffe5706779.94\",\"\\uffe59425.221\",null],[\"2021-04-13\",\"600118.SHA\",\"\\u4e2d\\u56fd\\u536b\\u661f\",527.645,\"524.469\",371.122,194641.846,-1178.984],[\"2021-04-13\",\"603986.SHA\",\"\\u5146\\u6613\\u521b\\u65b0\",720.579,\"713.796\",191.51,136699.064,-1298.931],[\"2021-04-13\",\"300529.SZA\",\"\\u5065\\u5e06\\u751f\\u7269\",171.384,\"170.050\",396.502,67425.245,-528.703],[\"2021-04-13\",\"000860.SZA\",\"\\u987a\\u946b\\u519c\\u4e1a\",137.726,\"134.934\",193.224,26072.506,-539.432],[\"2021-04-13\",\"601100.SHA\",\"\\u6052\\u7acb\\u6db2\\u538b\",281.023,\"281.460\",163.17,45925.901,71.392],[\"2021-04-13\",\"603087.SHA\",\"\\u7518\\u674e\\u836f\\u4e1a\",173.314,\"178.872\",161.83,28946.796,899.332],[\"\",\"\",\"\\uff08\\u603b\\u8d44\\u4ea7\\uffe5881261.772\",\"\\u5269\\u4f59\\u91d1\\u989d\\uffe5381550.916\",\"\\u5f53\\u65e5\\u4ea4\\u6613\\u4f63\\u91d1\\uffe5509.81\\uff09\",\"\\uffe5499711.358\",\"\\uffe5-2575.326\",null],[\"2021-04-12\",\"600111.SHA\",\"\\u5317\\u65b9\\u7a00\\u571f\",376.525,\"383.117\",427.429,163755.24,2817.347],[\"2021-04-12\",\"600118.SHA\",\"\\u4e2d\\u56fd\\u536b\\u661f\",530.238,\"521.621\",301.456,157245.772,-2597.564],[\"2021-04-12\",\"300014.SZA\",\"\\u4ebf\\u7eac\\u9502\\u80fd\",1310.413,\"1226.330\",56.35,69103.714,-4738.069],[\"2021-04-12\",\"002821.SZA\",\"\\u51ef\\u83b1\\u82f1\",619.292,\"578.148\",208.329,120444.946,-8571.608],[\"2021-04-12\",\"603986.SHA\",\"\\u5146\\u6613\\u521b\\u65b0\",715.075,\"728.048\",91.685,66751.095,1189.432],[\"2021-04-12\",\"300529.SZA\",\"\\u5065\\u5e06\\u751f\\u7269\",171.384,\"163.775\",396.502,64937.228,-3016.717],[\"2021-04-12\",\"000860.SZA\",\"\\u987a\\u946b\\u519c\\u4e1a\",137.726,\"135.715\",193.224,26223.315,-388.623],[\"\",\"\",\"\\uff08\\u603b\\u8d44\\u4ea7\\uffe5882747.851\",\"\\u5269\\u4f59\\u91d1\\u989d\\uffe5214286.73\",\"\\u5f53\\u65e5\\u4ea4\\u6613\\u4f63\\u91d1\\uffe5337.04\\uff09\",\"\\uffe5668461.31\",\"\\uffe5-15305.802\",null],[\"2021-04-09\",\"600111.SHA\",\"\\u5317\\u65b9\\u7a00\\u571f\",376.525,\"398.818\",427.429,170466.519,9528.629],[\"2021-04-09\",\"600893.SHA\",\"\\u822a\\u53d1\\u52a8\\u529b\",151.247,\"145.402\",1544.827,224620.5,-9029.322],[\"2021-04-09\",\"600118.SHA\",\"\\u4e2d\\u56fd\\u536b\\u661f\",531.45,\"529.996\",219.654,116415.829,-319.382],[\"2021-04-09\",\"300014.SZA\",\"\\u4ebf\\u7eac\\u9502\\u80fd\",1310.413,\"1268.869\",56.35,71500.776,-2341.01],[\"2021-04-09\",\"002821.SZA\",\"\\u51ef\\u83b1\\u82f1\",624.756,\"608.219\",151.839,92351.336,-2510.973],[\"2021-04-09\",\"603986.SHA\",\"\\u5146\\u6613\\u521b\\u65b0\",721.318,\"720.526\",50.612,36467.271,-40.072],[\"\",\"\",\"\\uff08\\u603b\\u8d44\\u4ea7\\uffe5914428.092\",\"\\u5269\\u4f59\\u91d1\\u989d\\uffe5202605.784\",\"\\u5f53\\u65e5\\u4ea4\\u6613\\u4f63\\u91d1\\uffe5326.9\\uff09\",\"\\uffe5711822.231\",\"\\uffe5-4712.13\",null],[\"2021-04-08\",\"600111.SHA\",\"\\u5317\\u65b9\\u7a00\\u571f\",376.525,\"391.556\",427.429,167362.546,6424.654],[\"2021-04-08\",\"600893.SHA\",\"\\u822a\\u53d1\\u52a8\\u529b\",151.255,\"149.921\",1273.732,190958.89,-1699.408],[\"2021-04-08\",\"600703.SHA\",\"\\u4e09\\u5b89\\u5149\\u7535\",552.481,\"528.597\",225.101,118987.751,-5376.381],[\"2021-04-08\",\"600118.SHA\",\"\\u4e2d\\u56fd\\u536b\\u661f\",526.769,\"536.027\",108.577,58200.175,1005.207],[\"2021-04-08\",\"601633.SHA\",\"\\u957f\\u57ce\\u6c7d\\u8f66\",129.949,\"122.513\",240.551,29470.68,-1788.578],[\"2021-04-08\",\"002230.SZA\",\"\\u79d1\\u5927\\u8baf\\u98de\",651.591,\"632.466\",65.005,41113.457,-1243.205],[\"2021-04-08\",\"300014.SZA\",\"\\u4ebf\\u7eac\\u9502\\u80fd\",1316.926,\"1304.467\",20.178,26321.526,-251.403],[\"\",\"\",\"\\uff08\\u603b\\u8d44\\u4ea7\\uffe5927482.3\",\"\\u5269\\u4f59\\u91d1\\u989d\\uffe5295067.133\",\"\\u5f53\\u65e5\\u4ea4\\u6613\\u4f63\\u91d1\\uffe5395.72\\uff09\",\"\\uffe5632415.025\",\"\\uffe5-2929.114\",null],[\"2021-04-07\",\"600436.SHA\",\"\\u7247\\u4ed4\\u7640\",1905.515,\"2147.430\",91.479,196444.72,22130.003],[\"2021-04-07\",\"002044.SZA\",\"\\u7f8e\\u5e74\\u5065\\u5eb7\",150.915,\"123.230\",682.104,84055.964,-18883.718],[\"2021-04-07\",\"600111.SHA\",\"\\u5317\\u65b9\\u7a00\\u571f\",376.525,\"391.556\",427.429,167362.546,6424.654],[\"2021-04-07\",\"600893.SHA\",\"\\u822a\\u53d1\\u52a8\\u529b\",151.363,\"150.416\",1153.433,173494.286,-1092.979],[\"2021-04-07\",\"600703.SHA\",\"\\u4e09\\u5b89\\u5149\\u7535\",552.481,\"532.437\",225.101,119852.076,-4512.056],[\"2021-04-07\",\"600118.SHA\",\"\\u4e2d\\u56fd\\u536b\\u661f\",526.646,\"529.326\",68.889,36464.767,184.636],[\"2021-04-07\",\"601633.SHA\",\"\\u957f\\u57ce\\u6c7d\\u8f66\",129.949,\"124.551\",240.551,29960.949,-1298.308],[\"\",\"\",\"\\uff08\\u603b\\u8d44\\u4ea7\\uffe5931514.773\",\"\\u5269\\u4f59\\u91d1\\u989d\\uffe5123879.842\",\"\\u5f53\\u65e5\\u4ea4\\u6613\\u4f63\\u91d1\\uffe5224.89\\uff09\",\"\\uffe5807635.308\",\"\\uffe52952.232\",null],[\"2021-04-06\",\"600436.SHA\",\"\\u7247\\u4ed4\\u7640\",1905.515,\"1996.093\",91.479,182600.56,8285.885],[\"2021-04-06\",\"002044.SZA\",\"\\u7f8e\\u5e74\\u5065\\u5eb7\",150.915,\"136.923\",682.104,93395.51,-9544.172],[\"2021-04-06\",\"600111.SHA\",\"\\u5317\\u65b9\\u7a00\\u571f\",377.183,\"376.051\",305.689,114954.699,-346.091],[\"2021-04-06\",\"600893.SHA\",\"\\u822a\\u53d1\\u52a8\\u529b\",150.615,\"152.395\",677.296,103216.33,1205.535],[\"2021-04-06\",\"600703.SHA\",\"\\u4e09\\u5b89\\u5149\\u7535\",557.395,\"541.396\",173.253,93798.512,-2771.814],[\"2021-04-06\",\"601888.SHA\",\"\\u4e2d\\u56fd\\u4e2d\\u514d\",729.722,\"690.990\",66.183,45731.774,-2563.408],[\"2021-04-06\",\"600584.SHA\",\"\\u957f\\u7535\\u79d1\\u6280\",184.54,\"184.636\",226.776,41870.997,21.696],[\"2021-04-06\",\"002821.SZA\",\"\\u51ef\\u83b1\\u82f1\",604.465,\"594.036\",61.482,36522.492,-641.228],[\"\",\"\",\"\\uff08\\u603b\\u8d44\\u4ea7\\uffe5926032.62\",\"\\u5269\\u4f59\\u91d1\\u989d\\uffe5213942.273\",\"\\u5f53\\u65e5\\u4ea4\\u6613\\u4f63\\u91d1\\uffe5212.74\\uff09\",\"\\uffe5712090.874\",\"\\uffe5-6353.597\",null],[\"2021-04-02\",\"600436.SHA\",\"\\u7247\\u4ed4\\u7640\",1905.515,\"2020.880\",91.479,184868.037,10553.355],[\"2021-04-02\",\"002044.SZA\",\"\\u7f8e\\u5e74\\u5065\\u5eb7\",150.915,\"152.169\",682.104,103794.869,855.188],[\"2021-04-02\",\"600111.SHA\",\"\\u5317\\u65b9\\u7a00\\u571f\",377.183,\"372.715\",305.689,113934.744,-1366.045],[\"2021-04-02\",\"002607.SZA\",\"\\u4e2d\\u516c\\u6559\\u80b2\",235.798,\"240.662\",256.932,61833.793,1249.81],[\"2021-04-02\",\"600893.SHA\",\"\\u822a\\u53d1\\u52a8\\u529b\",149.03,\"151.042\",275.603,41627.71,554.55],[\"2021-04-02\",\"000596.SZA\",\"\\u53e4\\u4e95\\u8d21\\u9152\",768.265,\"781.581\",48.628,38006.738,647.56],[\"\",\"\",\"\\uff08\\u603b\\u8d44\\u4ea7\\uffe5945116.44\",\"\\u5269\\u4f59\\u91d1\\u989d\\uffe5401051.202\",\"\\u5f53\\u65e5\\u4ea4\\u6613\\u4f63\\u91d1\\uffe5573.81\\uff09\",\"\\uffe5544065.891\",\"\\uffe512494.418\",null],[\"2021-04-01\",\"002230.SZA\",\"\\u79d1\\u5927\\u8baf\\u98de\",645.79,\"654.285\",496.682,324971.357,4218.934],[\"2021-04-01\",\"600436.SHA\",\"\\u7247\\u4ed4\\u7640\",1869.821,\"1925.133\",41.984,80824.781,2322.212],[\"2021-04-01\",\"002044.SZA\",\"\\u7f8e\\u5e74\\u5065\\u5eb7\",150.915,\"154.596\",682.104,105450.826,2511.145],[\"2021-04-01\",\"600111.SHA\",\"\\u5317\\u65b9\\u7a00\\u571f\",377.565,\"377.621\",179.524,67792.082,10.071],[\"2021-04-01\",\"603288.SHA\",\"\\u6d77\\u5929\\u5473\\u4e1a\",760.261,\"782.542\",63.513,49701.59,1415.151],[\"\",\"\",\"\\uff08\\u603b\\u8d44\\u4ea7\\uffe5936476.115\",\"\\u5269\\u4f59\\u91d1\\u989d\\uffe5307735.955\",\"\\u5f53\\u65e5\\u4ea4\\u6613\\u4f63\\u91d1\\uffe5468.01\\uff09\",\"\\uffe5628740.636\",\"\\uffe510477.513\",null],[\"2021-03-31\",\"688012.SHA\",\"\\u4e2d\\u5fae\\u516c\\u53f8\",99.158,\"107.510\",765.299,82277.297,6392.071],[\"2021-03-31\",\"002129.SZA\",\"\\u4e2d\\u73af\\u80a1\\u4efd\",125.186,\"119.525\",276.897,33095.988,-1567.644],[\"2021-03-31\",\"002230.SZA\",\"\\u79d1\\u5927\\u8baf\\u98de\",644.336,\"650.917\",379.772,247200.233,2499.334],[\"2021-03-31\",\"300014.SZA\",\"\\u4ebf\\u7eac\\u9502\\u80fd\",1331.352,\"1337.572\",109.137,145978.611,678.873],[\"2021-03-31\",\"600436.SHA\",\"\\u7247\\u4ed4\\u7640\",1863.591,\"1876.736\",24.52,46017.578,322.333],[\"2021-03-31\",\"002044.SZA\",\"\\u7f8e\\u5e74\\u5065\\u5eb7\",151.587,\"149.741\",485.505,72699.995,-896.215],[\"2021-03-31\",\"600893.SHA\",\"\\u822a\\u53d1\\u52a8\\u529b\",160.311,\"150.383\",235.598,35429.836,-2339.194],[\"2021-03-31\",\"600111.SHA\",\"\\u5317\\u65b9\\u7a00\\u571f\",382.332,\"375.266\",78.131,29319.912,-552.05],[\"\",\"\",\"\\uff08\\u603b\\u8d44\\u4ea7\\uffe5916394.345\",\"\\u5269\\u4f59\\u91d1\\u989d\\uffe5224373.966\",\"\\u5f53\\u65e5\\u4ea4\\u6613\\u4f63\\u91d1\\uffe5357.99\\uff09\",\"\\uffe5692019.45\",\"\\uffe54537.508\",null],[\"2021-03-30\",\"603087.SHA\",\"\\u7518\\u674e\\u836f\\u4e1a\",175.634,\"181.313\",380.203,68935.922,2159.279],[\"2021-03-30\",\"688012.SHA\",\"\\u4e2d\\u5fae\\u516c\\u53f8\",99.158,\"102.860\",765.299,78718.656,2833.428],[\"2021-03-30\",\"603259.SHA\",\"\\u836f\\u660e\\u5eb7\\u5fb7\",260.082,\"283.624\",263.124,74628.239,6194.292],[\"2021-03-30\",\"002129.SZA\",\"\\u4e2d\\u73af\\u80a1\\u4efd\",125.186,\"123.876\",276.897,34300.967,-362.665],[\"2021-03-30\",\"002230.SZA\",\"\\u79d1\\u5927\\u8baf\\u98de\",644.599,\"646.338\",257.972,166737.189,448.612],[\"2021-03-30\",\"600760.SHA\",\"\\u4e2d\\u822a\\u6c88\\u98de\",311.972,\"340.996\",149.658,51032.748,4343.685],[\"2021-03-30\",\"300014.SZA\",\"\\u4ebf\\u7eac\\u9502\\u80fd\",1329.504,\"1329.563\",71.779,95434.684,4.228],[\"2021-03-30\",\"000568.SZA\",\"\\u6cf8\\u5dde\\u8001\\u7a96\",7501.685,\"7500.702\",4.253,31900.484,-4.183],[\"2021-03-30\",\"600436.SHA\",\"\\u7247\\u4ed4\\u7640\",1863.591,\"1864.964\",24.52,45728.926,33.677],[\"2021-03-30\",\"002044.SZA\",\"\\u7f8e\\u5e74\\u5065\\u5eb7\",152.848,\"150.518\",260.25,39172.271,-606.539],[\"\",\"\",\"\\uff08\\u603b\\u8d44\\u4ea7\\uffe5918708.96\",\"\\u5269\\u4f59\\u91d1\\u989d\\uffe5232115.747\",\"\\u5f53\\u65e5\\u4ea4\\u6613\\u4f63\\u91d1\\uffe571.02\\uff09\",\"\\uffe5686590.086\",\"\\uffe515043.814\",null],[\"2021-03-29\",\"603087.SHA\",\"\\u7518\\u674e\\u836f\\u4e1a\",175.634,\"180.387\",380.203,68583.775,1807.132],[\"2021-03-29\",\"688012.SHA\",\"\\u4e2d\\u5fae\\u516c\\u53f8\",99.158,\"104.000\",765.299,79591.096,3705.869],[\"2021-03-29\",\"603259.SHA\",\"\\u836f\\u660e\\u5eb7\\u5fb7\",260.082,\"270.350\",263.124,71135.495,2701.549],[\"2021-03-29\",\"002129.SZA\",\"\\u4e2d\\u73af\\u80a1\\u4efd\",125.186,\"121.595\",276.897,33669.23,-994.402],[\"2021-03-29\",\"002230.SZA\",\"\\u79d1\\u5927\\u8baf\\u98de\",650.783,\"639.470\",113.534,72601.535,-1284.434],[\"2021-03-29\",\"600760.SHA\",\"\\u4e2d\\u822a\\u6c88\\u98de\",311.972,\"310.001\",149.658,46394.08,-294.987],[\"2021-03-29\",\"300014.SZA\",\"\\u4ebf\\u7eac\\u9502\\u80fd\",1343.98,\"1307.670\",27.215,35588.247,-988.164],[\"2021-03-29\",\"000568.SZA\",\"\\u6cf8\\u5dde\\u8001\\u7a96\",7501.685,\"7355.865\",4.253,31284.495,-620.218],[\"\",\"\",\"\\uff08\\u603b\\u8d44\\u4ea7\\uffe5907768.51\",\"\\u5269\\u4f59\\u91d1\\u989d\\uffe5468918.194\",\"\\u5f53\\u65e5\\u4ea4\\u6613\\u4f63\\u91d1\\uffe5633.93\\uff09\",\"\\uffe5438847.953\",\"\\uffe54032.345\",null],[\"2021-03-26\",\"002044.SZA\",\"\\u7f8e\\u5e74\\u5065\\u5eb7\",141.547,\"155.665\",2904.886,452187.863,41010.241],[\"2021-03-26\",\"603087.SHA\",\"\\u7518\\u674e\\u836f\\u4e1a\",175.634,\"180.050\",380.203,68455.72,1679.077],[\"2021-03-26\",\"688012.SHA\",\"\\u4e2d\\u5fae\\u516c\\u53f8\",99.158,\"103.260\",765.299,79024.776,3139.549],[\"2021-03-26\",\"603259.SHA\",\"\\u836f\\u660e\\u5eb7\\u5fb7\",260.082,\"269.361\",263.124,70875.229,2441.284],[\"2021-03-26\",\"002129.SZA\",\"\\u4e2d\\u73af\\u80a1\\u4efd\",125.186,\"125.947\",276.897,34874.209,210.578],[\"\",\"\",\"\\uff08\\u603b\\u8d44\\u4ea7\\uffe5920021.12\",\"\\u5269\\u4f59\\u91d1\\u989d\\uffe5214603.243\",\"\\u5f53\\u65e5\\u4ea4\\u6613\\u4f63\\u91d1\\uffe5343.09\\uff09\",\"\\uffe5705417.797\",\"\\uffe548480.729\",null],[\"2021-03-25\",\"002044.SZA\",\"\\u7f8e\\u5e74\\u5065\\u5eb7\",141.485,\"141.487\",2720.066,384853.396,4.832],[\"2021-03-25\",\"603288.SHA\",\"\\u6d77\\u5929\\u5473\\u4e1a\",711.961,\"699.708\",89.447,62586.826,-1095.939],[\"2021-03-25\",\"601100.SHA\",\"\\u6052\\u7acb\\u6db2\\u538b\",275.975,\"300.106\",308.013,92436.414,7432.636],[\"2021-03-25\",\"603799.SHA\",\"\\u534e\\u53cb\\u94b4\\u4e1a\",113.684,\"118.231\",480.253,56780.801,2183.879],[\"2021-03-25\",\"603087.SHA\",\"\\u7518\\u674e\\u836f\\u4e1a\",174.718,\"175.868\",214.67,37753.681,247.034],[\"2021-03-25\",\"688012.SHA\",\"\\u4e2d\\u5fae\\u516c\\u53f8\",98.61,\"98.710\",333.243,32894.416,33.324],[\"\",\"\",\"\\uff08\\u603b\\u8d44\\u4ea7\\uffe5866609.229\",\"\\u5269\\u4f59\\u91d1\\u989d\\uffe5199303.655\",\"\\u5f53\\u65e5\\u4ea4\\u6613\\u4f63\\u91d1\\uffe5308.26\\uff09\",\"\\uffe5667305.534\",\"\\uffe58805.766\",null],[\"2021-03-24\",\"002044.SZA\",\"\\u7f8e\\u5e74\\u5065\\u5eb7\",141.534,\"141.293\",2413.096,340952.504,-583.102],[\"2021-03-24\",\"603288.SHA\",\"\\u6d77\\u5929\\u5473\\u4e1a\",711.961,\"693.086\",89.447,61994.431,-1688.335],[\"2021-03-24\",\"002129.SZA\",\"\\u4e2d\\u73af\\u80a1\\u4efd\",122.06,\"120.370\",631.088,75963.771,-1066.53],[\"2021-03-24\",\"603501.SHA\",\"\\u97e6\\u5c14\\u80a1\\u4efd\",253.048,\"246.869\",151.231,37334.251,-934.495],[\"2021-03-24\",\"600161.SHA\",\"\\u5929\\u575b\\u751f\\u7269\",426.68,\"422.360\",77.304,32650.102,-333.99],[\"2021-03-24\",\"603658.SHA\",\"\\u5b89\\u56fe\\u751f\\u7269\",111.558,\"110.927\",265.311,29430.067,-167.471],[\"\",\"\",\"\\uff08\\u603b\\u8d44\\u4ea7\\uffe5852548.757\",\"\\u5269\\u4f59\\u91d1\\u989d\\uffe5274223.627\",\"\\u5f53\\u65e5\\u4ea4\\u6613\\u4f63\\u91d1\\uffe5423.92\\uff09\",\"\\uffe5578325.126\",\"\\uffe5-4773.923\",null],[\"2021-03-23\",\"002044.SZA\",\"\\u7f8e\\u5e74\\u5065\\u5eb7\",141.257,\"143.526\",2074.359,297724.547,4707.842],[\"2021-03-23\",\"000768.SZA\",\"\\u4e2d\\u822a\\u897f\\u98de\",213.733,\"209.805\",921.23,193279.033,-3617.947],[\"2021-03-23\",\"600111.SHA\",\"\\u5317\\u65b9\\u7a00\\u571f\",390.16,\"362.312\",162.296,58801.84,-4519.586],[\"2021-03-23\",\"603288.SHA\",\"\\u6d77\\u5929\\u5473\\u4e1a\",711.961,\"702.500\",89.447,62836.479,-846.286],[\"2021-03-23\",\"002230.SZA\",\"\\u79d1\\u5927\\u8baf\\u98de\",632.466,\"617.786\",50.7,31321.738,-744.298],[\"\",\"\",\"\\uff08\\u603b\\u8d44\\u4ea7\\uffe5871163.296\",\"\\u5269\\u4f59\\u91d1\\u989d\\uffe5227199.251\",\"\\u5f53\\u65e5\\u4ea4\\u6613\\u4f63\\u91d1\\uffe5351.66\\uff09\",\"\\uffe5643963.637\",\"\\uffe5-5020.275\",null],[\"2021-03-22\",\"002044.SZA\",\"\\u7f8e\\u5e74\\u5065\\u5eb7\",140.822,\"145.468\",1884.365,274115.215,8755.048],[\"2021-03-22\",\"000860.SZA\",\"\\u987a\\u946b\\u519c\\u4e1a\",136.955,\"139.137\",977.8,136047.884,2133.414],[\"2021-03-22\",\"000768.SZA\",\"\\u4e2d\\u822a\\u897f\\u98de\",213.634,\"214.875\",732.8,157460.557,909.22],[\"2021-03-22\",\"603259.SHA\",\"\\u836f\\u660e\\u5eb7\\u5fb7\",247.263,\"245.898\",224.421,55184.753,-306.332],[\"2021-03-22\",\"600111.SHA\",\"\\u5317\\u65b9\\u7a00\\u571f\",391.556,\"387.042\",98.154,37989.741,-443.081],[\"2021-03-22\",\"002129.SZA\",\"\\u4e2d\\u73af\\u80a1\\u4efd\",123.074,\"124.383\",278.8,34678.054,365.154],[\"\",\"\",\"\\uff08\\u603b\\u8d44\\u4ea7\\uffe5884689.313\",\"\\u5269\\u4f59\\u91d1\\u989d\\uffe5189213.395\",\"\\u5f53\\u65e5\\u4ea4\\u6613\\u4f63\\u91d1\\uffe5129.18\\uff09\",\"\\uffe5695476.204\",\"\\uffe511413.423\",null],[\"2021-03-19\",\"002044.SZA\",\"\\u7f8e\\u5e74\\u5065\\u5eb7\",140.864,\"141.875\",1571.132,222904.688,1589.093],[\"2021-03-19\",\"000860.SZA\",\"\\u987a\\u946b\\u519c\\u4e1a\",136.955,\"134.574\",977.8,131586.343,-2328.125],[\"2021-03-19\",\"000768.SZA\",\"\\u4e2d\\u822a\\u897f\\u98de\",214.529,\"216.565\",322.392,69818.869,656.436],[\"2021-03-19\",\"603087.SHA\",\"\\u7518\\u674e\\u836f\\u4e1a\",173.314,\"178.605\",222.034,39656.382,1174.702],[\"\",\"\",\"\\uff08\\u603b\\u8d44\\u4ea7\\uffe5873531.243\",\"\\u5269\\u4f59\\u91d1\\u989d\\uffe5409565.206\",\"\\u5f53\\u65e5\\u4ea4\\u6613\\u4f63\\u91d1\\uffe5545.28\\uff09\",\"\\uffe5463966.282\",\"\\uffe51092.106\",null],[\"2021-03-18\",\"002044.SZA\",\"\\u7f8e\\u5e74\\u5065\\u5eb7\",141.002,\"143.429\",1385.069,198658.978,3361.677],[\"2021-03-18\",\"603259.SHA\",\"\\u836f\\u660e\\u5eb7\\u5fb7\",258.788,\"265.048\",979.402,259588.486,6130.961],[\"2021-03-18\",\"300122.SZA\",\"\\u667a\\u98de\\u751f\\u7269\",695.125,\"740.624\",65.068,48190.952,2960.52],[\"2021-03-18\",\"603288.SHA\",\"\\u6d77\\u5929\\u5473\\u4e1a\",718.868,\"743.987\",50.152,37312.451,1259.809],[\"2021-03-18\",\"000860.SZA\",\"\\u987a\\u946b\\u519c\\u4e1a\",137.648,\"138.386\",530.032,73349.139,391.503],[\"2021-03-18\",\"600276.SHA\",\"\\u6052\\u745e\\u533b\\u836f\",4749.199,\"4759.870\",12.003,57132.715,128.086],[\"2021-03-18\",\"000768.SZA\",\"\\u4e2d\\u822a\\u897f\\u98de\",215.129,\"216.650\",179.385,38863.696,272.835],[\"\",\"\",\"\\uff08\\u603b\\u8d44\\u4ea7\\uffe5895798.836\",\"\\u5269\\u4f59\\u91d1\\u989d\\uffe5182700.797\",\"\\u5f53\\u65e5\\u4ea4\\u6613\\u4f63\\u91d1\\uffe5263.68\\uff09\",\"\\uffe5713096.417\",\"\\uffe514505.391\",null],[\"2021-03-17\",\"002044.SZA\",\"\\u7f8e\\u5e74\\u5065\\u5eb7\",140.319,\"143.041\",1141.781,163320.939,3107.181],[\"2021-03-17\",\"600118.SHA\",\"\\u4e2d\\u56fd\\u536b\\u661f\",500.85,\"492.977\",70.558,34783.477,-555.492],[\"2021-03-17\",\"002352.SZA\",\"\\u987a\\u4e30\\u63a7\\u80a1\",320.114,\"326.475\",179.228,58513.435,1139.999],[\"2021-03-17\",\"603259.SHA\",\"\\u836f\\u660e\\u5eb7\\u5fb7\",257.163,\"257.768\",630.418,162501.552,381.671],[\"2021-03-17\",\"601100.SHA\",\"\\u6052\\u7acb\\u6db2\\u538b\",290.749,\"298.187\",158.93,47390.891,1182.098],[\"2021-03-17\",\"300122.SZA\",\"\\u667a\\u98de\\u751f\\u7269\",695.125,\"684.593\",65.068,44545.106,-685.308],[\"2021-03-17\",\"603288.SHA\",\"\\u6d77\\u5929\\u5473\\u4e1a\",718.868,\"723.172\",50.152,36268.546,215.899],[\"2021-03-17\",\"000860.SZA\",\"\\u987a\\u946b\\u519c\\u4e1a\",137.426,\"137.726\",203.453,28020.736,61.074],[\"\",\"\",\"\\uff08\\u603b\\u8d44\\u4ea7\\uffe5884114.168\",\"\\u5269\\u4f59\\u91d1\\u989d\\uffe5308769.552\",\"\\u5f53\\u65e5\\u4ea4\\u6613\\u4f63\\u91d1\\uffe5463.63\\uff09\",\"\\uffe5575344.682\",\"\\uffe54847.122\",null],[\"2021-03-16\",\"002230.SZA\",\"\\u79d1\\u5927\\u8baf\\u98de\",639.739,\"608.358\",90.114,54821.576,-2827.847],[\"2021-03-16\",\"002044.SZA\",\"\\u7f8e\\u5e74\\u5065\\u5eb7\",140.365,\"141.293\",922.008,130272.868,855.3],[\"2021-03-16\",\"000768.SZA\",\"\\u4e2d\\u822a\\u897f\\u98de\",220.515,\"213.861\",843.908,180479.221,-5615.257],[\"2021-03-16\",\"600118.SHA\",\"\\u4e2d\\u56fd\\u536b\\u661f\",500.85,\"487.282\",70.558,34381.629,-957.337],[\"2021-03-16\",\"002352.SZA\",\"\\u987a\\u4e30\\u63a7\\u80a1\",320.114,\"319.767\",179.228,57311.145,-62.293],[\"2021-03-16\",\"600760.SHA\",\"\\u4e2d\\u822a\\u6c88\\u98de\",305.763,\"297.928\",127.551,38000.992,-999.368],[\"2021-03-16\",\"603259.SHA\",\"\\u836f\\u660e\\u5eb7\\u5fb7\",258.915,\"258.164\",351.135,90650.267,-263.962],[\"2021-03-16\",\"601100.SHA\",\"\\u6052\\u7acb\\u6db2\\u538b\",290.749,\"283.480\",158.93,45053.439,-1155.359],[\"2021-03-16\",\"600703.SHA\",\"\\u4e09\\u5b89\\u5149\\u7535\",567.421,\"507.906\",61.516,31244.318,-3661.122],[\"\",\"\",\"\\uff08\\u603b\\u8d44\\u4ea7\\uffe5874801.861\",\"\\u5269\\u4f59\\u91d1\\u989d\\uffe5212586.591\",\"\\u5f53\\u65e5\\u4ea4\\u6613\\u4f63\\u91d1\\uffe5245.39\\uff09\",\"\\uffe5662215.455\",\"\\uffe5-14687.245\",null],[\"2021-03-15\",\"000725.SZA\",\"\\u4eac\\u4e1c\\u65b9A\",28.741,\"29.863\",3149.725,94060.27,3534.94],[\"2021-03-15\",\"002230.SZA\",\"\\u79d1\\u5927\\u8baf\\u98de\",639.739,\"624.520\",90.114,56277.981,-1371.446],[\"2021-03-15\",\"002044.SZA\",\"\\u7f8e\\u5e74\\u5065\\u5eb7\",141.532,\"137.700\",641.289,88305.21,-2457.479],[\"2021-03-15\",\"000768.SZA\",\"\\u4e2d\\u822a\\u897f\\u98de\",220.994,\"218.086\",584.247,127416.144,-1698.833],[\"2021-03-15\",\"600118.SHA\",\"\\u4e2d\\u56fd\\u536b\\u661f\",500.85,\"486.444\",70.558,34322.533,-1016.433],[\"2021-03-15\",\"002352.SZA\",\"\\u987a\\u4e30\\u63a7\\u80a1\",320.114,\"310.938\",179.228,55728.859,-1644.581],[\"2021-03-15\",\"600760.SHA\",\"\\u4e2d\\u822a\\u6c88\\u98de\",305.763,\"301.673\",127.551,38478.678,-521.681],[\"2021-03-15\",\"603087.SHA\",\"\\u7518\\u674e\\u836f\\u4e1a\",172.893,\"169.245\",201.055,34027.476,-733.596],[\"\",\"\",\"\\uff08\\u603b\\u8d44\\u4ea7\\uffe5882120.813\",\"\\u5269\\u4f59\\u91d1\\u989d\\uffe5353503.89\",\"\\u5f53\\u65e5\\u4ea4\\u6613\\u4f63\\u91d1\\uffe580.01\\uff09\",\"\\uffe5528617.151\",\"\\uffe5-5909.109\",null],[\"2021-03-12\",\"000725.SZA\",\"\\u4eac\\u4e1c\\u65b9A\",28.741,\"29.619\",3149.725,93291.805,2766.475],[\"2021-03-12\",\"002230.SZA\",\"\\u79d1\\u5927\\u8baf\\u98de\",639.739,\"658.864\",90.114,59372.844,1723.409],[\"2021-03-12\",\"002044.SZA\",\"\\u7f8e\\u5e74\\u5065\\u5eb7\",142.458,\"140.807\",319.364,44968.694,-527.217],[\"2021-03-12\",\"000768.SZA\",\"\\u4e2d\\u822a\\u897f\\u98de\",224.085,\"220.536\",173.166,38189.423,-614.541],[\"2021-03-12\",\"600118.SHA\",\"\\u4e2d\\u56fd\\u536b\\u661f\",500.85,\"494.485\",70.558,34889.848,-449.122],[\"\",\"\",\"\\uff08\\u603b\\u8d44\\u4ea7\\uffe5891008.939\",\"\\u5269\\u4f59\\u91d1\\u989d\\uffe5620296.769\",\"\\u5f53\\u65e5\\u4ea4\\u6613\\u4f63\\u91d1\\uffe580.34\\uff09\",\"\\uffe5270712.614\",\"\\uffe52899.004\",null],[\"2021-03-11\",\"--\",\"--\",\"--\",\"--\",\"--\",\"--\",\"--\"],[\"\",\"\",\"\\uff08\\u603b\\u8d44\\u4ea7\\uffe5888190.279\",\"\\u5269\\u4f59\\u91d1\\u989d\\uffe5888190.279\",\"\\u5f53\\u65e5\\u4ea4\\u6613\\u4f63\\u91d1\\uffe50.0\\uff09\",\"\\uffe50.0\",\"\\uffe50.0\",null],[\"2021-03-10\",\"--\",\"--\",\"--\",\"--\",\"--\",\"--\",\"--\"],[\"\",\"\",\"\\uff08\\u603b\\u8d44\\u4ea7\\uffe5888190.279\",\"\\u5269\\u4f59\\u91d1\\u989d\\uffe5888190.279\",\"\\u5f53\\u65e5\\u4ea4\\u6613\\u4f63\\u91d1\\uffe50.0\\uff09\",\"\\uffe50.0\",\"\\uffe50.0\",null],[\"2021-03-09\",\"--\",\"--\",\"--\",\"--\",\"--\",\"--\",\"--\"],[\"\",\"\",\"\\uff08\\u603b\\u8d44\\u4ea7\\uffe5888190.279\",\"\\u5269\\u4f59\\u91d1\\u989d\\uffe5888190.279\",\"\\u5f53\\u65e5\\u4ea4\\u6613\\u4f63\\u91d1\\uffe5929.89\\uff09\",\"\\uffe50.0\",\"\\uffe50.0\",null],[\"2021-03-08\",\"601696.SHA\",\"\\u4e2d\\u94f6\\u8bc1\\u5238\",18.818,\"18.427\",7374.134,135886.093,-2877.734],[\"2021-03-08\",\"002044.SZA\",\"\\u7f8e\\u5e74\\u5065\\u5eb7\",162.866,\"151.780\",1146.825,174065.395,-12713.58],[\"2021-03-08\",\"002230.SZA\",\"\\u79d1\\u5927\\u8baf\\u98de\",636.613,\"619.671\",245.268,151985.532,-4155.295],[\"2021-03-08\",\"002007.SZA\",\"\\u534e\\u5170\\u751f\\u7269\",1704.691,\"1635.023\",63.488,103804.352,-4423.098],[\"2021-03-08\",\"002600.SZA\",\"\\u9886\\u76ca\\u667a\\u9020\",43.962,\"43.213\",2038.718,88099.178,-1527.639],[\"2021-03-08\",\"300529.SZA\",\"\\u5065\\u5e06\\u751f\\u7269\",155.755,\"142.441\",628.733,89557.095,-8371.306],[\"\",\"\",\"\\uff08\\u603b\\u8d44\\u4ea7\\uffe5917215.809\",\"\\u5269\\u4f59\\u91d1\\u989d\\uffe5173817.581\",\"\\u5f53\\u65e5\\u4ea4\\u6613\\u4f63\\u91d1\\uffe5316.43\\uff09\",\"\\uffe5743397.645\",\"\\uffe5-34068.652\",null],[\"2021-03-05\",\"601696.SHA\",\"\\u4e2d\\u94f6\\u8bc1\\u5238\",18.743,\"18.778\",5370.615,100847.953,186.962],[\"2021-03-05\",\"002044.SZA\",\"\\u7f8e\\u5e74\\u5065\\u5eb7\",162.866,\"168.677\",1146.825,193443.108,6664.135],[\"2021-03-05\",\"300413.SZA\",\"\\u8292\\u679c\\u8d85\\u5a92\",111.705,\"114.110\",380.337,43400.229,914.651],[\"2021-03-05\",\"000596.SZA\",\"\\u53e4\\u4e95\\u8d21\\u9152\",754.538,\"742.246\",82.853,61497.321,-1018.446],[\"2021-03-05\",\"000100.SZA\",\"TCL\\u79d1\\u6280\",27.024,\"28.319\",2766.666,78349.727,3582.663],[\"2021-03-05\",\"002230.SZA\",\"\\u79d1\\u5927\\u8baf\\u98de\",627.213,\"641.624\",149.639,96012.041,2156.448],[\"2021-03-05\",\"002007.SZA\",\"\\u534e\\u5170\\u751f\\u7269\",1690.833,\"1713.570\",35.112,60166.885,798.352],[\"2021-03-05\",\"002600.SZA\",\"\\u9886\\u76ca\\u667a\\u9020\",43.724,\"44.022\",1087.297,47864.921,324.036],[\"\",\"\",\"\\uff08\\u603b\\u8d44\\u4ea7\\uffe5968320.072\",\"\\u5269\\u4f59\\u91d1\\u989d\\uffe5286738.382\",\"\\u5f53\\u65e5\\u4ea4\\u6613\\u4f63\\u91d1\\uffe5450.57\\uff09\",\"\\uffe5681582.185\",\"\\uffe513608.801\",null],[\"2021-03-04\",\"601696.SHA\",\"\\u4e2d\\u94f6\\u8bc1\\u5238\",18.743,\"18.307\",5370.615,98321.371,-2339.62],[\"2021-03-04\",\"002044.SZA\",\"\\u7f8e\\u5e74\\u5065\\u5eb7\",163.169,\"164.404\",896.049,147314.333,1106.507],[\"2021-03-04\",\"600436.SHA\",\"\\u7247\\u4ed4\\u7640\",1904.769,\"1848.876\",102.425,189371.109,-5724.822],[\"2021-03-04\",\"000568.SZA\",\"\\u6cf8\\u5dde\\u8001\\u7a96\",7378.476,\"7028.836\",6.588,46305.971,-2303.583],[\"2021-03-04\",\"300413.SZA\",\"\\u8292\\u679c\\u8d85\\u5a92\",111.705,\"109.816\",380.337,41766.923,-718.653],[\"2021-03-04\",\"000596.SZA\",\"\\u53e4\\u4e95\\u8d21\\u9152\",754.538,\"740.949\",82.853,61389.82,-1125.947],[\"2021-03-04\",\"601888.SHA\",\"\\u4e2d\\u56fd\\u4e2d\\u514d\",692.602,\"674.499\",70.564,47595.362,-1277.384],[\"2021-03-04\",\"000100.SZA\",\"TCL\\u79d1\\u6280\",27.179,\"27.432\",1416.672,38862.472,359.007],[\"\",\"\",\"\\uff08\\u603b\\u8d44\\u4ea7\\uffe5953185.872\",\"\\u5269\\u4f59\\u91d1\\u989d\\uffe5282255.552\",\"\\u5f53\\u65e5\\u4ea4\\u6613\\u4f63\\u91d1\\uffe5212.13\\uff09\",\"\\uffe5670927.361\",\"\\uffe5-12024.495\",null],[\"2021-03-03\",\"300529.SZA\",\"\\u5065\\u5e06\\u751f\\u7269\",155.5,\"157.187\",641.826,100886.466,1082.366],[\"2021-03-03\",\"601696.SHA\",\"\\u4e2d\\u94f6\\u8bc1\\u5238\",18.743,\"18.888\",5370.615,101439.277,778.286],[\"2021-03-03\",\"002044.SZA\",\"\\u7f8e\\u5e74\\u5065\\u5eb7\",161.832,\"168.774\",641.478,108264.937,4453.546],[\"2021-03-03\",\"600436.SHA\",\"\\u7247\\u4ed4\\u7640\",1893.348,\"1952.209\",51.323,100193.215,3020.897],[\"2021-03-03\",\"000568.SZA\",\"\\u6cf8\\u5dde\\u8001\\u7a96\",7378.476,\"7602.612\",6.588,50086.007,1476.71],[\"2021-03-03\",\"300413.SZA\",\"\\u8292\\u679c\\u8d85\\u5a92\",111.705,\"113.406\",380.337,43132.367,646.789],[\"\",\"\",\"\\uff08\\u603b\\u8d44\\u4ea7\\uffe5980480.575\",\"\\u5269\\u4f59\\u91d1\\u989d\\uffe5476475.248\",\"\\u5f53\\u65e5\\u4ea4\\u6613\\u4f63\\u91d1\\uffe5197.75\\uff09\",\"\\uffe5504002.269\",\"\\uffe511458.594\",null],[\"2021-03-02\",\"300529.SZA\",\"\\u5065\\u5e06\\u751f\\u7269\",155.5,\"149.970\",641.826,96254.95,-3549.147],[\"2021-03-02\",\"601696.SHA\",\"\\u4e2d\\u94f6\\u8bc1\\u5238\",18.808,\"18.527\",3324.146,61588.09,-931.638],[\"2021-03-02\",\"601888.SHA\",\"\\u4e2d\\u56fd\\u4e2d\\u514d\",725.409,\"688.594\",70.002,48202.923,-2577.122],[\"2021-03-02\",\"002044.SZA\",\"\\u7f8e\\u5e74\\u5065\\u5eb7\",162.753,\"162.462\",260.846,42377.608,-75.99],[\"2021-03-02\",\"002422.SZA\",\"\\u79d1\\u4f26\\u836f\\u4e1a\",138.641,\"130.146\",277.501,36115.627,-2357.323],[\"\",\"\",\"\\uff08\\u603b\\u8d44\\u4ea7\\uffe5963274.049\",\"\\u5269\\u4f59\\u91d1\\u989d\\uffe5678734.943\",\"\\u5f53\\u65e5\\u4ea4\\u6613\\u4f63\\u91d1\\uffe588.21\\uff09\",\"\\uffe5284539.198\",\"\\uffe5-9491.22\",null],[\"2021-03-01\",\"--\",\"--\",\"--\",\"--\",\"--\",\"--\",\"--\"],[\"\",\"\",\"\\uff08\\u603b\\u8d44\\u4ea7\\uffe5972853.478\",\"\\u5269\\u4f59\\u91d1\\u989d\\uffe5972853.478\",\"\\u5f53\\u65e5\\u4ea4\\u6613\\u4f63\\u91d1\\uffe5449.12\\uff09\",\"\\uffe50.0\",\"\\uffe50.0\",null],[\"2021-02-26\",\"002024.SZA\",\"\\u82cf\\u5b81\\u6613\\u8d2d\",612.922,\"616.359\",509.552,314066.903,1751.143],[\"\",\"\",\"\\uff08\\u603b\\u8d44\\u4ea7\\uffe5941895.926\",\"\\u5269\\u4f59\\u91d1\\u989d\\uffe5627829.125\",\"\\u5f53\\u65e5\\u4ea4\\u6613\\u4f63\\u91d1\\uffe50.0\\uff09\",\"\\uffe5314066.903\",\"\\uffe51751.143\",null],[\"2021-02-25\",\"002024.SZA\",\"\\u82cf\\u5b81\\u6613\\u8d2d\",612.922,\"616.359\",509.552,314066.903,1751.143],[\"\",\"\",\"\\uff08\\u603b\\u8d44\\u4ea7\\uffe5941895.926\",\"\\u5269\\u4f59\\u91d1\\u989d\\uffe5627829.125\",\"\\u5f53\\u65e5\\u4ea4\\u6613\\u4f63\\u91d1\\uffe5570.59\\uff09\",\"\\uffe5314066.903\",\"\\uffe51751.143\",null],[\"2021-02-24\",\"002024.SZA\",\"\\u82cf\\u5b81\\u6613\\u8d2d\",612.922,\"616.359\",509.552,314066.903,1751.143],[\"2021-02-24\",\"603986.SHA\",\"\\u5146\\u6613\\u521b\\u65b0\",738.11,\"769.340\",329.725,253670.58,10297.213],[\"2021-02-24\",\"600111.SHA\",\"\\u5317\\u65b9\\u7a00\\u571f\",399.996,\"393.519\",128.164,50434.979,-830.099],[\"2021-02-24\",\"601888.SHA\",\"\\u4e2d\\u56fd\\u4e2d\\u514d\",731.922,\"685.391\",79.43,54440.626,-3695.93],[\"2021-02-24\",\"002600.SZA\",\"\\u9886\\u76ca\\u667a\\u9020\",44.15,\"44.959\",1032.578,46423.237,835.267],[\"2021-02-24\",\"002044.SZA\",\"\\u7f8e\\u5e74\\u5065\\u5eb7\",178.485,\"161.491\",196.737,31771.272,-3343.339],[\"\",\"\",\"\\uff08\\u603b\\u8d44\\u4ea7\\uffe5940294.357\",\"\\u5269\\u4f59\\u91d1\\u989d\\uffe5189487.291\",\"\\u5f53\\u65e5\\u4ea4\\u6613\\u4f63\\u91d1\\uffe5328.27\\uff09\",\"\\uffe5750807.597\",\"\\uffe55014.255\",null],[\"2021-02-23\",\"002024.SZA\",\"\\u82cf\\u5b81\\u6613\\u8d2d\",610.802,\"618.120\",361.904,223700.077,2648.488],[\"2021-02-23\",\"603986.SHA\",\"\\u5146\\u6613\\u521b\\u65b0\",740.011,\"725.277\",275.531,199836.274,-4059.783],[\"2021-02-23\",\"600161.SHA\",\"\\u5929\\u575b\\u751f\\u7269\",535.478,\"503.009\",73.684,37063.7,-2392.465],[\"2021-02-23\",\"002607.SZA\",\"\\u4e2d\\u516c\\u6559\\u80b2\",309.258,\"295.324\",320.396,94620.718,-4464.241],[\"2021-02-23\",\"600111.SHA\",\"\\u5317\\u65b9\\u7a00\\u571f\",399.996,\"419.623\",128.164,53780.541,2515.455],[\"2021-02-23\",\"600845.SHA\",\"\\u5b9d\\u4fe1\\u8f6f\\u4ef6\",354.016,\"349.948\",98.383,34428.913,-400.203],[\"2021-02-23\",\"688036.SHA\",\"\\u4f20\\u97f3\\u63a7\\u80a1\",192.09,\"203.018\",155.139,31495.984,1695.32],[\"\",\"\",\"\\uff08\\u603b\\u8d44\\u4ea7\\uffe5944014.468\",\"\\u5269\\u4f59\\u91d1\\u989d\\uffe5269087.744\",\"\\u5f53\\u65e5\\u4ea4\\u6613\\u4f63\\u91d1\\uffe5365.56\\uff09\",\"\\uffe5674926.207\",\"\\uffe5-4457.429\",null],[\"2021-02-22\",\"002024.SZA\",\"\\u82cf\\u5b81\\u6613\\u8d2d\",606.495,\"633.969\",291.671,184910.406,8013.334],[\"2021-02-22\",\"603986.SHA\",\"\\u5146\\u6613\\u521b\\u65b0\",741.926,\"744.280\",180.713,134501.033,425.344],[\"2021-02-22\",\"002044.SZA\",\"\\u7f8e\\u5e74\\u5065\\u5eb7\",165.579,\"183.535\",405.979,74511.221,7289.671],[\"2021-02-22\",\"002821.SZA\",\"\\u51ef\\u83b1\\u82f1\",617.894,\"577.519\",228.617,132030.601,-9230.425],[\"2021-02-22\",\"600161.SHA\",\"\\u5929\\u575b\\u751f\\u7269\",535.478,\"511.650\",73.684,37700.4,-1755.761],[\"2021-02-22\",\"002607.SZA\",\"\\u4e2d\\u516c\\u6559\\u80b2\",309.258,\"296.643\",320.396,95043.369,-4041.589],[\"2021-02-22\",\"600111.SHA\",\"\\u5317\\u65b9\\u7a00\\u571f\",399.996,\"425.118\",128.164,54484.868,3219.781],[\"2021-02-22\",\"600760.SHA\",\"\\u4e2d\\u822a\\u6c88\\u98de\",402.099,\"370.069\",95.338,35281.653,-3053.66],[\"\",\"\",\"\\uff08\\u603b\\u8d44\\u4ea7\\uffe5956540.576\",\"\\u5269\\u4f59\\u91d1\\u989d\\uffe5208076.781\",\"\\u5f53\\u65e5\\u4ea4\\u6613\\u4f63\\u91d1\\uffe5129.38\\uff09\",\"\\uffe5748463.551\",\"\\uffe5866.695\",null],[\"2021-02-19\",\"002024.SZA\",\"\\u82cf\\u5b81\\u6613\\u8d2d\",597.496,\"635.730\",224.564,142762.108,8586.068],[\"2021-02-19\",\"603986.SHA\",\"\\u5146\\u6613\\u521b\\u65b0\",741.926,\"775.595\",180.713,140160.094,6084.403],[\"2021-02-19\",\"002044.SZA\",\"\\u7f8e\\u5e74\\u5065\\u5eb7\",165.579,\"174.892\",405.979,71002.491,3780.941],[\"2021-02-19\",\"000723.SZA\",\"\\u7f8e\\u9526\\u80fd\\u6e90\",56.642,\"53.693\",594.885,31941.031,-1754.565],[\"2021-02-19\",\"002821.SZA\",\"\\u51ef\\u83b1\\u82f1\",617.796,\"624.959\",128.612,80377.201,921.204],[\"2021-02-19\",\"600161.SHA\",\"\\u5929\\u575b\\u751f\\u7269\",535.478,\"512.566\",73.684,37767.93,-1688.231],[\"\",\"\",\"\\uff08\\u603b\\u8d44\\u4ea7\\uffe5973567.404\",\"\\u5269\\u4f59\\u91d1\\u989d\\uffe5469556.368\",\"\\u5f53\\u65e5\\u4ea4\\u6613\\u4f63\\u91d1\\uffe5680.81\\uff09\",\"\\uffe5504010.855\",\"\\uffe515929.82\",null],[\"2021-02-18\",\"300413.SZA\",\"\\u8292\\u679c\\u8d85\\u5a92\",141.403,\"123.815\",784.445,97126.215,-13796.281],[\"2021-02-18\",\"000066.SZA\",\"\\u4e2d\\u56fd\\u957f\\u57ce\",170.782,\"177.635\",232.746,41343.824,1595.015],[\"2021-02-18\",\"601696.SHA\",\"\\u4e2d\\u94f6\\u8bc1\\u5238\",18.507,\"19.168\",1843.416,35334.776,1217.804],[\"2021-02-18\",\"002024.SZA\",\"\\u82cf\\u5b81\\u6613\\u8d2d\",594.409,\"606.673\",168.051,101952.051,2060.941],[\"2021-02-18\",\"300124.SZA\",\"\\u6c47\\u5ddd\\u6280\\u672f\",1810.572,\"1843.731\",62.56,115343.816,2074.443],[\"2021-02-18\",\"603288.SHA\",\"\\u6d77\\u5929\\u5473\\u4e1a\",931.368,\"893.144\",41.5,37065.488,-1586.276],[\"2021-02-18\",\"600570.SHA\",\"\\u6052\\u751f\\u7535\\u5b50\",2637.514,\"2485.197\",49.147,122139.99,-7485.995],[\"2021-02-18\",\"300122.SZA\",\"\\u667a\\u98de\\u751f\\u7269\",829.98,\"800.742\",41.493,33225.201,-1213.143],[\"2021-02-18\",\"603986.SHA\",\"\\u5146\\u6613\\u521b\\u65b0\",738.665,\"748.516\",113.611,85039.636,1119.13],[\"2021-02-18\",\"002044.SZA\",\"\\u7f8e\\u5e74\\u5065\\u5eb7\",166.249,\"164.793\",219.1,36106.096,-319.145],[\"2021-02-18\",\"000723.SZA\",\"\\u7f8e\\u9526\\u80fd\\u6e90\",56.642,\"54.899\",594.885,32658.808,-1036.787],[\"\",\"\",\"\\uff08\\u603b\\u8d44\\u4ea7\\uffe5972055.304\",\"\\u5269\\u4f59\\u91d1\\u989d\\uffe5234719.16\",\"\\u5f53\\u65e5\\u4ea4\\u6613\\u4f63\\u91d1\\uffe5389.14\\uff09\",\"\\uffe5737335.901\",\"\\uffe5-17370.294\",null],[\"2021-02-10\",\"601888.SHA\",\"\\u4e2d\\u56fd\\u4e2d\\u514d\",724.91,\"844.916\",109.182,92249.594,13102.401],[\"2021-02-10\",\"000860.SZA\",\"\\u987a\\u946b\\u519c\\u4e1a\",189.028,\"191.519\",393.419,75347.356,980.221],[\"2021-02-10\",\"300413.SZA\",\"\\u8292\\u679c\\u8d85\\u5a92\",141.403,\"136.561\",784.445,107124.502,-3797.994],[\"2021-02-10\",\"000725.SZA\",\"\\u4eac\\u4e1c\\u65b9A\",28.79,\"30.205\",2760.743,83387.089,3906.664],[\"2021-02-10\",\"000066.SZA\",\"\\u4e2d\\u56fd\\u957f\\u57ce\",170.782,\"172.631\",232.746,40179.209,430.4],[\"2021-02-10\",\"601696.SHA\",\"\\u4e2d\\u94f6\\u8bc1\\u5238\",18.507,\"19.068\",1843.416,35150.261,1033.29],[\"2021-02-10\",\"002024.SZA\",\"\\u82cf\\u5b81\\u6613\\u8d2d\",590.64,\"591.705\",97.584,57740.895,103.855],[\"2021-02-10\",\"300124.SZA\",\"\\u6c47\\u5ddd\\u6280\\u672f\",1810.572,\"1842.923\",62.56,115293.292,2023.919],[\"2021-02-10\",\"603288.SHA\",\"\\u6d77\\u5929\\u5473\\u4e1a\",931.368,\"975.032\",41.5,40463.812,1812.049],[\"2021-02-10\",\"600570.SHA\",\"\\u6052\\u751f\\u7535\\u5b50\",2565.081,\"2598.061\",17.05,44296.941,562.306],[\"2021-02-10\",\"300122.SZA\",\"\\u667a\\u98de\\u751f\\u7269\",829.98,\"895.659\",41.493,37163.558,2725.206],[\"2021-02-10\",\"603986.SHA\",\"\\u5146\\u6613\\u521b\\u65b0\",731.611,\"727.731\",41.313,30064.769,-160.284],[\"\",\"\",\"\\uff08\\u603b\\u8d44\\u4ea7\\uffe51004334.938\",\"\\u5269\\u4f59\\u91d1\\u989d\\uffe5245875.048\",\"\\u5f53\\u65e5\\u4ea4\\u6613\\u4f63\\u91d1\\uffe5381.71\\uff09\",\"\\uffe5758461.278\",\"\\uffe522722.033\",null],[\"2021-02-09\",\"601888.SHA\",\"\\u4e2d\\u56fd\\u4e2d\\u514d\",724.91,\"783.637\",109.182,85559.084,6411.918],[\"2021-02-09\",\"600600.SHA\",\"\\u9752\\u5c9b\\u5564\\u9152\",161.354,\"163.818\",206.399,33811.886,508.61],[\"2021-02-09\",\"000860.SZA\",\"\\u987a\\u946b\\u519c\\u4e1a\",189.028,\"183.745\",393.419,72288.586,-2078.547],[\"2021-02-09\",\"300413.SZA\",\"\\u8292\\u679c\\u8d85\\u5a92\",141.403,\"142.642\",784.445,111894.575,972.08],[\"2021-02-09\",\"000725.SZA\",\"\\u4eac\\u4e1c\\u65b9A\",28.79,\"30.107\",2760.743,83117.664,3637.24],[\"2021-02-09\",\"002414.SZA\",\"\\u9ad8\\u5fb7\\u7ea2\\u5916\",217.646,\"227.765\",232.91,53048.721,2356.873],[\"2021-02-09\",\"000066.SZA\",\"\\u4e2d\\u56fd\\u957f\\u57ce\",170.782,\"171.217\",232.746,39850.078,101.269],[\"2021-02-09\",\"601696.SHA\",\"\\u4e2d\\u94f6\\u8bc1\\u5238\",18.507,\"19.278\",1843.416,35537.743,1420.771],[\"2021-02-09\",\"002024.SZA\",\"\\u82cf\\u5b81\\u6613\\u8d2d\",588.182,\"594.346\",52.186,31016.544,321.655],[\"2021-02-09\",\"300059.SZA\",\"\\u4e1c\\u65b9\\u8d22\\u5bcc\",1666.225,\"1773.588\",59.377,105310.35,6374.965],[\"2021-02-09\",\"603993.SHA\",\"\\u6d1b\\u9633\\u94bc\\u4e1a\",20.686,\"21.705\",2394.654,51975.8,2440.178],[\"2021-02-09\",\"300124.SZA\",\"\\u6c47\\u5ddd\\u6280\\u672f\",1792.853,\"1809.005\",24.004,43423.347,387.71],[\"2021-02-09\",\"603288.SHA\",\"\\u6d77\\u5929\\u5473\\u4e1a\",931.368,\"976.404\",41.5,40520.745,1868.982],[\"\",\"\",\"\\uff08\\u603b\\u8d44\\u4ea7\\uffe5993002.23\",\"\\u5269\\u4f59\\u91d1\\u989d\\uffe5205646.407\",\"\\u5f53\\u65e5\\u4ea4\\u6613\\u4f63\\u91d1\\uffe5345.78\\uff09\",\"\\uffe5787355.123\",\"\\uffe524723.704\",null],[\"2021-02-08\",\"002821.SZA\",\"\\u51ef\\u83b1\\u82f1\",617.742,\"666.717\",297.586,198405.766,14574.511],[\"2021-02-08\",\"601888.SHA\",\"\\u4e2d\\u56fd\\u4e2d\\u514d\",724.91,\"779.847\",109.182,85145.24,5998.076],[\"2021-02-08\",\"600600.SHA\",\"\\u9752\\u5c9b\\u5564\\u9152\",161.354,\"158.957\",206.399,32808.607,-494.671],[\"2021-02-08\",\"000860.SZA\",\"\\u987a\\u946b\\u519c\\u4e1a\",189.028,\"182.874\",393.419,71946.097,-2421.036],[\"2021-02-08\",\"300413.SZA\",\"\\u8292\\u679c\\u8d85\\u5a92\",141.628,\"139.241\",336.268,46822.148,-802.896],[\"2021-02-08\",\"000725.SZA\",\"\\u4eac\\u4e1c\\u65b9A\",28.79,\"29.180\",2760.743,80558.124,1077.699],[\"2021-02-08\",\"002414.SZA\",\"\\u9ad8\\u5fb7\\u7ea2\\u5916\",217.646,\"221.325\",232.91,51548.89,857.045],[\"2021-02-08\",\"000066.SZA\",\"\\u4e2d\\u56fd\\u957f\\u57ce\",170.782,\"166.431\",232.746,38736.1,-1012.709],[\"2021-02-08\",\"601696.SHA\",\"\\u4e2d\\u94f6\\u8bc1\\u5238\",18.507,\"18.898\",1843.416,34836.585,719.613],[\"2021-02-08\",\"002024.SZA\",\"\\u82cf\\u5b81\\u6613\\u8d2d\",588.182,\"576.736\",52.186,30097.537,-597.359],[\"\",\"\",\"\\uff08\\u603b\\u8d44\\u4ea7\\uffe5972092.988\",\"\\u5269\\u4f59\\u91d1\\u989d\\uffe5301188.231\",\"\\u5f53\\u65e5\\u4ea4\\u6613\\u4f63\\u91d1\\uffe5463.59\\uff09\",\"\\uffe5670905.094\",\"\\uffe517898.273\",null],[\"2021-02-05\",\"002821.SZA\",\"\\u51ef\\u83b1\\u82f1\",617.742,\"636.849\",297.586,189517.419,5686.173],[\"2021-02-05\",\"603986.SHA\",\"\\u5146\\u6613\\u521b\\u65b0\",736.324,\"695.585\",256.989,178757.668,-10469.528],[\"2021-02-05\",\"600570.SHA\",\"\\u6052\\u751f\\u7535\\u5b50\",2550.672,\"2424.613\",48.141,116723.273,-6068.622],[\"2021-02-05\",\"601888.SHA\",\"\\u4e2d\\u56fd\\u4e2d\\u514d\",724.91,\"755.797\",109.182,82519.454,3372.301],[\"2021-02-05\",\"600600.SHA\",\"\\u9752\\u5c9b\\u5564\\u9152\",161.354,\"164.966\",206.399,34048.771,745.495],[\"2021-02-05\",\"000860.SZA\",\"\\u987a\\u946b\\u519c\\u4e1a\",189.028,\"185.816\",393.419,73103.471,-1263.663],[\"2021-02-05\",\"300413.SZA\",\"\\u8292\\u679c\\u8d85\\u5a92\",141.628,\"140.168\",336.268,47134.064,-490.98],[\"\",\"\",\"\\uff08\\u603b\\u8d44\\u4ea7\\uffe5955750.832\",\"\\u5269\\u4f59\\u91d1\\u989d\\uffe5233947.58\",\"\\u5f53\\u65e5\\u4ea4\\u6613\\u4f63\\u91d1\\uffe5371.59\\uff09\",\"\\uffe5721804.12\",\"\\uffe5-8488.824\",null],[\"2021-02-04\",\"603288.SHA\",\"\\u6d77\\u5929\\u5473\\u4e1a\",932.987,\"917.744\",218.609,200627.009,-3332.291],[\"2021-02-04\",\"002821.SZA\",\"\\u51ef\\u83b1\\u82f1\",617.742,\"644.621\",297.586,191830.086,7998.837],[\"2021-02-04\",\"603986.SHA\",\"\\u5146\\u6613\\u521b\\u65b0\",738.737,\"736.243\",213.487,157178.344,-532.302],[\"2021-02-04\",\"600570.SHA\",\"\\u6052\\u751f\\u7535\\u5b50\",2561.335,\"2528.437\",36.763,92952.939,-1209.396],[\"2021-02-04\",\"601888.SHA\",\"\\u4e2d\\u56fd\\u4e2d\\u514d\",720.355,\"716.564\",57.29,41051.964,-217.153],[\"2021-02-04\",\"600111.SHA\",\"\\u5317\\u65b9\\u7a00\\u571f\",372.911,\"354.462\",112.332,39817.375,-2072.45],[\"2021-02-04\",\"600600.SHA\",\"\\u9752\\u5c9b\\u5564\\u9152\",161.354,\"160.392\",206.399,33104.713,-198.564],[\"\",\"\",\"\\uff08\\u603b\\u8d44\\u4ea7\\uffe5975829.804\",\"\\u5269\\u4f59\\u91d1\\u989d\\uffe5219268.342\",\"\\u5f53\\u65e5\\u4ea4\\u6613\\u4f63\\u91d1\\uffe5341.34\\uff09\",\"\\uffe5756562.43\",\"\\uffe5436.681\",null],[\"2021-02-03\",\"603288.SHA\",\"\\u6d77\\u5929\\u5473\\u4e1a\",936.241,\"927.205\",187.218,173589.435,-1691.656],[\"2021-02-03\",\"002821.SZA\",\"\\u51ef\\u83b1\\u82f1\",617.742,\"643.221\",297.586,191413.44,7582.192],[\"2021-02-03\",\"603986.SHA\",\"\\u5146\\u6613\\u521b\\u65b0\",744.079,\"720.526\",177.202,127678.681,-4173.534],[\"2021-02-03\",\"002230.SZA\",\"\\u79d1\\u5927\\u8baf\\u98de\",645.524,\"598.122\",175.216,104800.578,-8305.528],[\"2021-02-03\",\"002129.SZA\",\"\\u4e2d\\u73af\\u80a1\\u4efd\",121.679,\"118.215\",372.766,44066.457,-1291.442],[\"2021-02-03\",\"300059.SZA\",\"\\u4e1c\\u65b9\\u8d22\\u5bcc\",1682.027,\"1642.521\",20.791,34149.659,-821.387],[\"2021-02-03\",\"600570.SHA\",\"\\u6052\\u751f\\u7535\\u5b50\",2545.538,\"2587.068\",10.64,27526.4,441.859],[\"2021-02-03\",\"601888.SHA\",\"\\u4e2d\\u56fd\\u4e2d\\u514d\",720.355,\"742.792\",57.29,42554.564,1285.451],[\"2021-02-03\",\"002050.SZA\",\"\\u4e09\\u82b1\\u667a\\u63a7\",362.837,\"349.195\",91.99,32122.426,-1254.987],[\"\",\"\",\"\\uff08\\u603b\\u8d44\\u4ea7\\uffe5977164.1\",\"\\u5269\\u4f59\\u91d1\\u989d\\uffe5199262.973\",\"\\u5f53\\u65e5\\u4ea4\\u6613\\u4f63\\u91d1\\uffe5333.87\\uff09\",\"\\uffe5777901.64\",\"\\uffe5-8229.032\",null],[\"2021-02-02\",\"600436.SHA\",\"\\u7247\\u4ed4\\u7640\",1927.232,\"2129.771\",94.109,200430.665,19060.797],[\"2021-02-02\",\"603288.SHA\",\"\\u6d77\\u5929\\u5473\\u4e1a\",934.948,\"941.539\",149.426,140690.361,984.748],[\"2021-02-02\",\"002821.SZA\",\"\\u51ef\\u83b1\\u82f1\",621.384,\"608.686\",211.946,129008.467,-2691.47],[\"2021-02-02\",\"603986.SHA\",\"\\u5146\\u6613\\u521b\\u65b0\",741.865,\"750.416\",67.102,50354.424,573.81],[\"2021-02-02\",\"002230.SZA\",\"\\u79d1\\u5927\\u8baf\\u98de\",645.524,\"664.520\",175.216,116434.593,3328.519],[\"2021-02-02\",\"002129.SZA\",\"\\u4e2d\\u73af\\u80a1\\u4efd\",121.679,\"119.525\",372.766,44554.686,-803.213],[\"2021-02-02\",\"300059.SZA\",\"\\u4e1c\\u65b9\\u8d22\\u5bcc\",1682.027,\"1712.703\",20.791,35608.798,637.784],[\"2021-02-02\",\"600570.SHA\",\"\\u6052\\u751f\\u7535\\u5b50\",2545.538,\"2634.216\",10.64,28028.062,943.5],[\"\",\"\",\"\\uff08\\u603b\\u8d44\\u4ea7\\uffe5988712.996\",\"\\u5269\\u4f59\\u91d1\\u989d\\uffe5243603.972\",\"\\u5f53\\u65e5\\u4ea4\\u6613\\u4f63\\u91d1\\uffe5382.94\\uff09\",\"\\uffe5745110.056\",\"\\uffe522034.475\",null],[\"2021-02-01\",\"600436.SHA\",\"\\u7247\\u4ed4\\u7640\",1927.232,\"2001.717\",94.109,188379.589,7009.744],[\"2021-02-01\",\"603288.SHA\",\"\\u6d77\\u5929\\u5473\\u4e1a\",934.948,\"922.853\",149.426,137898.182,-1807.427],[\"2021-02-01\",\"002821.SZA\",\"\\u51ef\\u83b1\\u82f1\",626.176,\"602.639\",162.389,97861.921,-3822.205],[\"2021-02-01\",\"603986.SHA\",\"\\u5146\\u6613\\u521b\\u65b0\",741.865,\"729.869\",67.102,48975.687,-804.924],[\"2021-02-01\",\"002230.SZA\",\"\\u79d1\\u5927\\u8baf\\u98de\",639.739,\"644.991\",67.704,43668.501,355.621],[\"2021-02-01\",\"300413.SZA\",\"\\u8292\\u679c\\u8d85\\u5a92\",142.539,\"140.752\",698.927,98375.5,-1248.61],[\"2021-02-01\",\"300529.SZA\",\"\\u5065\\u5e06\\u751f\\u7269\",155.696,\"151.206\",397.327,60078.163,-1784.196],[\"2021-02-01\",\"300408.SZA\",\"\\u4e09\\u73af\\u96c6\\u56e2\",166.304,\"174.084\",253.516,44133.188,1972.432],[\"2021-02-01\",\"603993.SHA\",\"\\u6d1b\\u9633\\u94bc\\u4e1a\",20.414,\"20.244\",1827.643,36999.445,-310.396],[\"\",\"\",\"\\uff08\\u603b\\u8d44\\u4ea7\\uffe5960828.553\",\"\\u5269\\u4f59\\u91d1\\u989d\\uffe5204459.221\",\"\\u5f53\\u65e5\\u4ea4\\u6613\\u4f63\\u91d1\\uffe586.71\\uff09\",\"\\uffe5756370.176\",\"\\uffe5-439.961\",null],[\"2021-01-29\",\"600436.SHA\",\"\\u7247\\u4ed4\\u7640\",1927.232,\"1952.536\",94.109,183751.188,2381.353],[\"2021-01-29\",\"603288.SHA\",\"\\u6d77\\u5929\\u5473\\u4e1a\",941.658,\"932.645\",97.291,90737.973,-876.914],[\"2021-01-29\",\"002821.SZA\",\"\\u51ef\\u83b1\\u82f1\",626.176,\"595.496\",162.389,96702.075,-4982.048],[\"2021-01-29\",\"603986.SHA\",\"\\u5146\\u6613\\u521b\\u65b0\",741.865,\"720.526\",67.102,48348.748,-1431.862],[\"2021-01-29\",\"002230.SZA\",\"\\u79d1\\u5927\\u8baf\\u98de\",639.739,\"629.638\",67.704,42628.995,-683.89],[\"\",\"\",\"\\uff08\\u603b\\u8d44\\u4ea7\\uffe5955761.867\",\"\\u5269\\u4f59\\u91d1\\u989d\\uffe5493593.659\",\"\\u5f53\\u65e5\\u4ea4\\u6613\\u4f63\\u91d1\\uffe5705.06\\uff09\",\"\\uffe5462168.979\",\"\\uffe5-5593.361\",null],[\"2021-01-28\",\"002024.SZA\",\"\\u82cf\\u5b81\\u6613\\u8d2d\",634.967,\"610.195\",557.466,340163.14,-13809.252],[\"2021-01-28\",\"002044.SZA\",\"\\u7f8e\\u5e74\\u5065\\u5eb7\",143.62,\"134.495\",620.307,83428.177,-5660.208],[\"2021-01-28\",\"600436.SHA\",\"\\u7247\\u4ed4\\u7640\",1934.748,\"1887.004\",73.817,139293.003,-3524.285],[\"2021-01-28\",\"002049.SZA\",\"\\u7d2b\\u5149\\u56fd\\u5fae\",558.171,\"538.801\",120.387,64864.617,-2331.97],[\"2021-01-28\",\"603288.SHA\",\"\\u6d77\\u5929\\u5473\\u4e1a\",944.235,\"942.769\",31.049,29272.025,-45.533],[\"\",\"\",\"\\uff08\\u603b\\u8d44\\u4ea7\\uffe5972813.789\",\"\\u5269\\u4f59\\u91d1\\u989d\\uffe5315793.297\",\"\\u5f53\\u65e5\\u4ea4\\u6613\\u4f63\\u91d1\\uffe5426.32\\uff09\",\"\\uffe5657020.962\",\"\\uffe5-25371.248\",null],[\"2021-01-27\",\"002024.SZA\",\"\\u82cf\\u5b81\\u6613\\u8d2d\",636.987,\"623.403\",502.868,313489.427,-6831.005],[\"2021-01-27\",\"002607.SZA\",\"\\u4e2d\\u516c\\u6559\\u80b2\",306.194,\"324.758\",583.938,189638.41,10839.994],[\"2021-01-27\",\"600600.SHA\",\"\\u9752\\u5c9b\\u5564\\u9152\",163.734,\"156.679\",392.383,61478.045,-2768.266],[\"2021-01-27\",\"002044.SZA\",\"\\u7f8e\\u5e74\\u5065\\u5eb7\",143.62,\"142.749\",620.307,88548.323,-540.062],[\"2021-01-27\",\"600436.SHA\",\"\\u7247\\u4ed4\\u7640\",1945.996,\"1931.804\",51.584,99650.169,-732.072],[\"2021-01-27\",\"600111.SHA\",\"\\u5317\\u65b9\\u7a00\\u571f\",360.938,\"353.284\",116.411,41126.136,-891.067],[\"\",\"\",\"\\uff08\\u603b\\u8d44\\u4ea7\\uffe5994641.236\",\"\\u5269\\u4f59\\u91d1\\u989d\\uffe5200711.341\",\"\\u5f53\\u65e5\\u4ea4\\u6613\\u4f63\\u91d1\\uffe5136.67\\uff09\",\"\\uffe5793930.51\",\"\\uffe5-922.478\",null],[\"2021-01-26\",\"002024.SZA\",\"\\u82cf\\u5b81\\u6613\\u8d2d\",640.419,\"623.403\",401.445,250262.023,-6831.005],[\"2021-01-26\",\"002607.SZA\",\"\\u4e2d\\u516c\\u6559\\u80b2\",309.773,\"304.888\",419.594,127929.227,-2049.874],[\"2021-01-26\",\"600600.SHA\",\"\\u9752\\u5c9b\\u5564\\u9152\",163.734,\"162.299\",392.383,63683.385,-562.925],[\"2021-01-26\",\"002044.SZA\",\"\\u7f8e\\u5e74\\u5065\\u5eb7\",145.954,\"140.419\",344.22,48334.889,-1905.318],[\"2021-01-26\",\"002600.SZA\",\"\\u9886\\u76ca\\u667a\\u9020\",47.683,\"45.938\",827.519,38014.394,-1444.474],[\"\",\"\",\"\\uff08\\u603b\\u8d44\\u4ea7\\uffe5984914.963\",\"\\u5269\\u4f59\\u91d1\\u989d\\uffe5456691.326\",\"\\u5f53\\u65e5\\u4ea4\\u6613\\u4f63\\u91d1\\uffe5627.36\\uff09\",\"\\uffe5528223.918\",\"\\uffe5-12793.596\",null],[\"2021-01-25\",\"002049.SZA\",\"\\u7d2b\\u5149\\u56fd\\u5fae\",571.806,\"573.968\",145.337,83418.763,314.225],[\"2021-01-25\",\"603288.SHA\",\"\\u6d77\\u5929\\u5473\\u4e1a\",959.333,\"986.243\",269.655,265945.417,7256.479],[\"2021-01-25\",\"002024.SZA\",\"\\u82cf\\u5b81\\u6613\\u8d2d\",653.36,\"621.642\",237.657,147737.565,-7537.968],[\"2021-01-25\",\"002607.SZA\",\"\\u4e2d\\u516c\\u6559\\u80b2\",308.433,\"315.029\",280.399,88333.84,1849.445],[\"2021-01-25\",\"603087.SHA\",\"\\u7518\\u674e\\u836f\\u4e1a\",240.296,\"235.483\",154.85,36464.538,-745.37],[\"2021-01-25\",\"000858.SZA\",\"\\u4e94\\u7cae\\u6db2\",5188.969,\"5542.192\",6.448,35736.053,2277.541],[\"\",\"\",\"\\uff08\\u603b\\u8d44\\u4ea7\\uffe51000682.636\",\"\\u5269\\u4f59\\u91d1\\u989d\\uffe5343047.577\",\"\\u5f53\\u65e5\\u4ea4\\u6613\\u4f63\\u91d1\\uffe5524.57\\uff09\",\"\\uffe5657636.176\",\"\\uffe53414.352\",null],[\"2021-01-22\",\"002049.SZA\",\"\\u7d2b\\u5149\\u56fd\\u5fae\",571.806,\"582.263\",145.337,84624.384,1519.842],[\"2021-01-22\",\"600436.SHA\",\"\\u7247\\u4ed4\\u7640\",1915.21,\"1959.076\",104.929,205563.878,4602.863],[\"2021-01-22\",\"603288.SHA\",\"\\u6d77\\u5929\\u5473\\u4e1a\",954.434,\"960.272\",212.832,204376.617,1242.429],[\"2021-01-22\",\"600760.SHA\",\"\\u4e2d\\u822a\\u6c88\\u98de\",399.142,\"428.413\",88.497,37913.259,2590.332],[\"2021-01-22\",\"002024.SZA\",\"\\u82cf\\u5b81\\u6613\\u8d2d\",656.473,\"646.296\",170.749,110354.451,-1737.609],[\"2021-01-22\",\"002044.SZA\",\"\\u7f8e\\u5e74\\u5065\\u5eb7\",129.931,\"142.943\",625.703,89440.117,8141.971],[\"\",\"\",\"\\uff08\\u603b\\u8d44\\u4ea7\\uffe5987268.365\",\"\\u5269\\u4f59\\u91d1\\u989d\\uffe5254995.65\",\"\\u5f53\\u65e5\\u4ea4\\u6613\\u4f63\\u91d1\\uffe5183.01\\uff09\",\"\\uffe5732272.706\",\"\\uffe516359.828\",null],[\"2021-01-21\",\"002049.SZA\",\"\\u7d2b\\u5149\\u56fd\\u5fae\",571.806,\"580.278\",145.337,84335.804,1231.263],[\"2021-01-21\",\"600436.SHA\",\"\\u7247\\u4ed4\\u7640\",1883.174,\"1948.873\",53.816,104880.572,3535.659],[\"2021-01-21\",\"603288.SHA\",\"\\u6d77\\u5929\\u5473\\u4e1a\",951.822,\"960.414\",147.392,141557.332,1266.44],[\"2021-01-21\",\"600760.SHA\",\"\\u4e2d\\u822a\\u6c88\\u98de\",399.142,\"415.108\",88.497,36735.829,1412.909],[\"2021-01-21\",\"002352.SZA\",\"\\u987a\\u4e30\\u63a7\\u80a1\",317.89,\"351.743\",100.48,35343.175,3401.617],[\"2021-01-21\",\"002024.SZA\",\"\\u82cf\\u5b81\\u6613\\u8d2d\",653.34,\"655.982\",94.822,62201.519,250.475],[\"2021-01-21\",\"002230.SZA\",\"\\u79d1\\u5927\\u8baf\\u98de\",635.429,\"697.383\",66.975,46707.21,4149.375],[\"2021-01-21\",\"002044.SZA\",\"\\u7f8e\\u5e74\\u5065\\u5eb7\",129.931,\"129.931\",295.517,38396.788,0.0],[\"\",\"\",\"\\uff08\\u603b\\u8d44\\u4ea7\\uffe5979026.075\",\"\\u5269\\u4f59\\u91d1\\u989d\\uffe5428868.942\",\"\\u5f53\\u65e5\\u4ea4\\u6613\\u4f63\\u91d1\\uffe587.58\\uff09\",\"\\uffe5550158.229\",\"\\uffe515247.738\",null],[\"2021-01-20\",\"002049.SZA\",\"\\u7d2b\\u5149\\u56fd\\u5fae\",571.806,\"573.350\",145.337,83328.983,224.445],[\"2021-01-20\",\"600436.SHA\",\"\\u7247\\u4ed4\\u7640\",1841.093,\"1917.547\",28.109,53900.315,2149.039],[\"2021-01-20\",\"603288.SHA\",\"\\u6d77\\u5929\\u5473\\u4e1a\",936.666,\"949.959\",43.612,41429.622,579.743],[\"2021-01-20\",\"600760.SHA\",\"\\u4e2d\\u822a\\u6c88\\u98de\",399.142,\"412.989\",88.497,36548.313,1225.394],[\"2021-01-20\",\"002352.SZA\",\"\\u987a\\u4e30\\u63a7\\u80a1\",317.89,\"326.683\",100.48,32825.146,883.581],[\"\",\"\",\"\\uff08\\u603b\\u8d44\\u4ea7\\uffe5968928.121\",\"\\u5269\\u4f59\\u91d1\\u989d\\uffe5720895.484\",\"\\u5f53\\u65e5\\u4ea4\\u6613\\u4f63\\u91d1\\uffe51010.61\\uff09\",\"\\uffe5248032.379\",\"\\uffe55062.202\",null],[\"2021-01-19\",\"002024.SZA\",\"\\u82cf\\u5b81\\u6613\\u8d2d\",661.225,\"666.548\",878.967,585873.78,4679.193],[\"2021-01-19\",\"688008.SHA\",\"\\u6f9c\\u8d77\\u79d1\\u6280\",98.812,\"88.330\",629.068,55565.789,-6593.673],[\"2021-01-19\",\"002044.SZA\",\"\\u7f8e\\u5e74\\u5065\\u5eb7\",133.038,\"129.154\",253.224,32704.898,-983.609],[\"2021-01-19\",\"300033.SZA\",\"\\u540c\\u82b1\\u987a\",1131.782,\"1104.814\",25.723,28419.123,-693.689],[\"2021-01-19\",\"600845.SHA\",\"\\u5b9d\\u4fe1\\u8f6f\\u4ef6\",359.401,\"363.698\",73.278,26651.075,314.874],[\"\",\"\",\"\\uff08\\u603b\\u8d44\\u4ea7\\uffe5972768.863\",\"\\u5269\\u4f59\\u91d1\\u989d\\uffe5243554.791\",\"\\u5f53\\u65e5\\u4ea4\\u6613\\u4f63\\u91d1\\uffe5376.09\\uff09\",\"\\uffe5729214.665\",\"\\uffe5-3276.904\",null],[\"2021-01-18\",\"002024.SZA\",\"\\u82cf\\u5b81\\u6613\\u8d2d\",661.929,\"655.982\",774.905,508323.68,-4608.11],[\"2021-01-18\",\"688008.SHA\",\"\\u6f9c\\u8d77\\u79d1\\u6280\",98.189,\"99.263\",195.181,19374.165,209.462],[\"2021-01-18\",\"002049.SZA\",\"\\u7d2b\\u5149\\u56fd\\u5fae\",563.687,\"583.763\",175.947,102711.424,3532.415],[\"2021-01-18\",\"600436.SHA\",\"\\u7247\\u4ed4\\u7640\",1858.032,\"1873.793\",33.665,63081.257,530.612],[\"2021-01-18\",\"300413.SZA\",\"\\u8292\\u679c\\u8d85\\u5a92\",141.68,\"142.178\",306.477,43574.262,152.668],[\"2021-01-18\",\"600161.SHA\",\"\\u5929\\u575b\\u751f\\u7269\",539.144,\"532.467\",71.297,37963.272,-476.06],[\"\",\"\",\"\\uff08\\u603b\\u8d44\\u4ea7\\uffe5976296.997\",\"\\u5269\\u4f59\\u91d1\\u989d\\uffe5201268.64\",\"\\u5f53\\u65e5\\u4ea4\\u6613\\u4f63\\u91d1\\uffe5278.32\\uff09\",\"\\uffe5775028.06\",\"\\uffe5-659.013\",null],[\"2021-01-15\",\"002024.SZA\",\"\\u82cf\\u5b81\\u6613\\u8d2d\",662.283,\"661.265\",699.919,462831.948,-712.302],[\"2021-01-15\",\"002384.SZA\",\"\\u4e1c\\u5c71\\u7cbe\\u5bc6\",193.949,\"190.001\",246.387,46813.778,-972.662],[\"2021-01-15\",\"300142.SZA\",\"\\u6c83\\u68ee\\u751f\\u7269\",506.492,\"503.047\",57.849,29100.753,-199.321],[\"2021-01-15\",\"002027.SZA\",\"\\u5206\\u4f17\\u4f20\\u5a92\",141.287,\"144.395\",200.075,28889.922,621.846],[\"2021-01-15\",\"600600.SHA\",\"\\u9752\\u5c9b\\u5564\\u9152\",161.202,\"157.185\",136.75,21495.048,-549.321],[\"2021-01-15\",\"688008.SHA\",\"\\u6f9c\\u8d77\\u79d1\\u6280\",98.189,\"99.694\",195.181,19458.34,293.637],[\"2021-01-15\",\"002044.SZA\",\"\\u7f8e\\u5e74\\u5065\\u5eb7\",134.981,\"134.495\",134.178,18046.267,-65.15],[\"\",\"\",\"\\uff08\\u603b\\u8d44\\u4ea7\\uffe5974676.796\",\"\\u5269\\u4f59\\u91d1\\u989d\\uffe5348040.38\",\"\\u5f53\\u65e5\\u4ea4\\u6613\\u4f63\\u91d1\\uffe5493.28\\uff09\",\"\\uffe5626636.056\",\"\\uffe5-1583.273\",null],[\"2021-01-14\",\"002024.SZA\",\"\\u82cf\\u5b81\\u6613\\u8d2d\",662.486,\"660.385\",632.136,417452.83,-1328.576],[\"2021-01-14\",\"002821.SZA\",\"\\u51ef\\u83b1\\u82f1\",616.802,\"579.467\",419.709,243207.379,-15670.008],[\"2021-01-14\",\"601633.SHA\",\"\\u957f\\u57ce\\u6c7d\\u8f66\",182.28,\"167.554\",469.175,78612.32,-6909.05],[\"2021-01-14\",\"002384.SZA\",\"\\u4e1c\\u5c71\\u7cbe\\u5bc6\",193.949,\"197.677\",246.387,48705.062,918.626],[\"2021-01-14\",\"603087.SHA\",\"\\u7518\\u674e\\u836f\\u4e1a\",237.167,\"219.457\",134.513,29519.772,-2382.272],[\"2021-01-14\",\"300142.SZA\",\"\\u6c83\\u68ee\\u751f\\u7269\",506.492,\"513.383\",57.849,29698.714,398.642],[\"\",\"\",\"\\uff08\\u603b\\u8d44\\u4ea7\\uffe5979177.854\",\"\\u5269\\u4f59\\u91d1\\u989d\\uffe5131981.229\",\"\\u5f53\\u65e5\\u4ea4\\u6613\\u4f63\\u91d1\\uffe5237.65\\uff09\",\"\\uffe5847196.077\",\"\\uffe5-24972.638\",null],[\"2021-01-13\",\"002024.SZA\",\"\\u82cf\\u5b81\\u6613\\u8d2d\",663.147,\"660.385\",517.446,341713.329,-1429.56],[\"2021-01-13\",\"002821.SZA\",\"\\u51ef\\u83b1\\u82f1\",619.3,\"601.827\",356.784,214722.319,-6234.011],[\"2021-01-13\",\"600276.SHA\",\"\\u6052\\u745e\\u533b\\u836f\",6116.397,\"6006.261\",16.406,98538.714,-1806.846],[\"2021-01-13\",\"601633.SHA\",\"\\u957f\\u57ce\\u6c7d\\u8f66\",182.28,\"186.167\",469.175,87345.07,1823.702],[\"2021-01-13\",\"000100.SZA\",\"TCL\\u79d1\\u6280\",28.351,\"29.269\",1214.448,35546.277,1115.631],[\"\",\"\",\"\\uff08\\u603b\\u8d44\\u4ea7\\uffe51001178.892\",\"\\u5269\\u4f59\\u91d1\\u989d\\uffe5223315.846\",\"\\u5f53\\u65e5\\u4ea4\\u6613\\u4f63\\u91d1\\uffe5368.91\\uff09\",\"\\uffe5777865.709\",\"\\uffe5-6531.084\",null],[\"2021-01-12\",\"002024.SZA\",\"\\u82cf\\u5b81\\u6613\\u8d2d\",664.67,\"655.101\",435.08,285021.535,-4163.268],[\"2021-01-12\",\"002821.SZA\",\"\\u51ef\\u83b1\\u82f1\",619.65,\"614.570\",287.206,176508.158,-1458.911],[\"2021-01-12\",\"002384.SZA\",\"\\u4e1c\\u5c71\\u7cbe\\u5bc6\",193.729,\"190.147\",174.854,33248.001,-626.357],[\"2021-01-12\",\"600276.SHA\",\"\\u6052\\u745e\\u533b\\u836f\",6135.854,\"6087.895\",10.355,63040.153,-496.642],[\"2021-01-12\",\"300529.SZA\",\"\\u5065\\u5e06\\u751f\\u7269\",154.912,\"152.951\",187.52,28681.384,-367.708],[\"2021-01-12\",\"300122.SZA\",\"\\u667a\\u98de\\u751f\\u7269\",640.569,\"623.928\",41.647,25984.716,-693.043],[\"2021-01-12\",\"002027.SZA\",\"\\u5206\\u4f17\\u4f20\\u5a92\",141.676,\"146.208\",303.364,44354.394,1375.027],[\"2021-01-12\",\"002352.SZA\",\"\\u987a\\u4e30\\u63a7\\u80a1\",318.584,\"321.678\",212.529,68365.977,657.584],[\"2021-01-12\",\"002241.SZA\",\"\\u6b4c\\u5c14\\u80a1\\u4efd\",945.772,\"971.085\",27.443,26649.483,694.655],[\"\",\"\",\"\\uff08\\u603b\\u8d44\\u4ea7\\uffe51004013.054\",\"\\u5269\\u4f59\\u91d1\\u989d\\uffe5252156.316\",\"\\u5f53\\u65e5\\u4ea4\\u6613\\u4f63\\u91d1\\uffe5340.44\\uff09\",\"\\uffe5751853.801\",\"\\uffe5-5078.663\",null],[\"2021-01-11\",\"603288.SHA\",\"\\u6d77\\u5929\\u5473\\u4e1a\",954.483,\"979.242\",116.67,114248.15,2888.603],[\"2021-01-11\",\"002024.SZA\",\"\\u82cf\\u5b81\\u6613\\u8d2d\",666.04,\"656.862\",370.166,243148.16,-3397.071],[\"2021-01-11\",\"600436.SHA\",\"\\u7247\\u4ed4\\u7640\",1831.218,\"1923.956\",15.954,30694.789,1479.57],[\"2021-01-11\",\"603501.SHA\",\"\\u97e6\\u5c14\\u80a1\\u4efd\",266.261,\"277.554\",169.044,46918.898,1909.096],[\"2021-01-11\",\"002821.SZA\",\"\\u51ef\\u83b1\\u82f1\",621.366,\"620.069\",178.215,110505.548,-231.243],[\"2021-01-11\",\"002384.SZA\",\"\\u4e1c\\u5c71\\u7cbe\\u5bc6\",193.729,\"190.732\",174.854,33350.266,-524.093],[\"2021-01-11\",\"600276.SHA\",\"\\u6052\\u745e\\u533b\\u836f\",6135.854,\"5938.499\",10.355,61493.157,-2043.712],[\"2021-01-11\",\"300529.SZA\",\"\\u5065\\u5e06\\u751f\\u7269\",154.912,\"149.049\",187.52,27949.639,-1099.451],[\"2021-01-11\",\"300122.SZA\",\"\\u667a\\u98de\\u751f\\u7269\",640.569,\"621.358\",41.647,25877.69,-800.069],[\"2021-01-11\",\"002027.SZA\",\"\\u5206\\u4f17\\u4f20\\u5a92\",141.676,\"146.856\",303.364,44550.829,1571.462],[\"2021-01-11\",\"002352.SZA\",\"\\u987a\\u4e30\\u63a7\\u80a1\",318.446,\"319.593\",106.798,34131.885,122.497],[\"2021-01-11\",\"601816.SHA\",\"\\u4eac\\u6caa\\u9ad8\\u94c1\",5.594,\"5.544\",4685.409,25973.949,-236.128],[\"\",\"\",\"\\uff08\\u603b\\u8d44\\u4ea7\\uffe5998108.615\",\"\\u5269\\u4f59\\u91d1\\u989d\\uffe5199262.419\",\"\\u5f53\\u65e5\\u4ea4\\u6613\\u4f63\\u91d1\\uffe594.04\\uff09\",\"\\uffe5798842.96\",\"\\uffe5-360.539\",null],[\"2021-01-08\",\"603288.SHA\",\"\\u6d77\\u5929\\u5473\\u4e1a\",954.483,\"1013.539\",116.67,118249.595,6890.036],[\"2021-01-08\",\"002024.SZA\",\"\\u82cf\\u5b81\\u6613\\u8d2d\",665.183,\"670.070\",268.69,180041.159,1313.268],[\"2021-01-08\",\"600436.SHA\",\"\\u7247\\u4ed4\\u7640\",1831.218,\"1939.717\",15.954,30946.25,1731.035],[\"2021-01-08\",\"603501.SHA\",\"\\u97e6\\u5c14\\u80a1\\u4efd\",266.261,\"267.266\",169.044,45179.65,169.849],[\"2021-01-08\",\"600161.SHA\",\"\\u5929\\u575b\\u751f\\u7269\",536.394,\"589.026\",54.406,32046.529,2863.448],[\"2021-01-08\",\"002821.SZA\",\"\\u51ef\\u83b1\\u82f1\",621.366,\"599.088\",178.215,106766.459,-3970.336],[\"2021-01-08\",\"002384.SZA\",\"\\u4e1c\\u5c71\\u7cbe\\u5bc6\",193.729,\"189.562\",174.854,33145.74,-728.618],[\"2021-01-08\",\"600276.SHA\",\"\\u6052\\u745e\\u533b\\u836f\",6135.854,\"6040.942\",10.355,62553.953,-982.865],[\"2021-01-08\",\"300529.SZA\",\"\\u5065\\u5e06\\u751f\\u7269\",154.912,\"156.500\",187.52,29346.937,297.843],[\"2021-01-08\",\"300122.SZA\",\"\\u667a\\u98de\\u751f\\u7269\",640.569,\"639.684\",41.647,26640.913,-36.845],[\"\",\"\",\"\\uff08\\u603b\\u8d44\\u4ea7\\uffe51002420.293\",\"\\u5269\\u4f59\\u91d1\\u989d\\uffe5337500.046\",\"\\u5f53\\u65e5\\u4ea4\\u6613\\u4f63\\u91d1\\uffe5175.58\\uff09\",\"\\uffe5664917.185\",\"\\uffe57546.815\",null],[\"2021-01-07\",\"600570.SHA\",\"\\u6052\\u751f\\u7535\\u5b50\",2561.798,\"2397.985\",36.585,87730.267,-5993.132],[\"2021-01-07\",\"603288.SHA\",\"\\u6d77\\u5929\\u5473\\u4e1a\",954.483,\"1015.100\",116.67,118431.728,7072.169],[\"2021-01-07\",\"002024.SZA\",\"\\u82cf\\u5b81\\u6613\\u8d2d\",669.847,\"654.221\",203.238,132962.557,-3175.786],[\"2021-01-07\",\"600436.SHA\",\"\\u7247\\u4ed4\\u7640\",1831.218,\"1961.430\",15.954,31292.659,2077.451],[\"2021-01-07\",\"603501.SHA\",\"\\u97e6\\u5c14\\u80a1\\u4efd\",266.261,\"270.642\",169.044,45750.339,740.537],[\"2021-01-07\",\"600161.SHA\",\"\\u5929\\u575b\\u751f\\u7269\",536.394,\"535.478\",54.406,29133.208,-49.86],[\"2021-01-07\",\"002821.SZA\",\"\\u51ef\\u83b1\\u82f1\",618.872,\"625.669\",69.742,43635.408,474.073],[\"2021-01-07\",\"002384.SZA\",\"\\u4e1c\\u5c71\\u7cbe\\u5bc6\",193.729,\"190.951\",174.854,33388.614,-485.745],[\"2021-01-07\",\"600276.SHA\",\"\\u6052\\u745e\\u533b\\u836f\",6128.446,\"6135.916\",4.825,29605.792,36.042],[\"\",\"\",\"\\uff08\\u603b\\u8d44\\u4ea7\\uffe51000531.379\",\"\\u5269\\u4f59\\u91d1\\u989d\\uffe5448599.72\",\"\\u5f53\\u65e5\\u4ea4\\u6613\\u4f63\\u91d1\\uffe560.24\\uff09\",\"\\uffe5551930.572\",\"\\uffe5695.749\",null],[\"2021-01-06\",\"600570.SHA\",\"\\u6052\\u751f\\u7535\\u5b50\",2578.029,\"2520.864\",26.153,65928.163,-1495.025],[\"2021-01-06\",\"603288.SHA\",\"\\u6d77\\u5929\\u5473\\u4e1a\",954.483,\"977.444\",116.67,114038.416,2678.87],[\"2021-01-06\",\"002024.SZA\",\"\\u82cf\\u5b81\\u6613\\u8d2d\",673.161,\"667.429\",101.386,67667.921,-581.166],[\"2021-01-06\",\"600436.SHA\",\"\\u7247\\u4ed4\\u7640\",1831.218,\"1925.722\",15.954,30722.962,1507.743],[\"2021-01-06\",\"603501.SHA\",\"\\u97e6\\u5c14\\u80a1\\u4efd\",266.261,\"265.256\",169.044,44839.953,-169.849],[\"2021-01-06\",\"600161.SHA\",\"\\u5929\\u575b\\u751f\\u7269\",536.394,\"542.417\",54.406,29510.729,327.66],[\"\",\"\",\"\\uff08\\u603b\\u8d44\\u4ea7\\uffe51002164.101\",\"\\u5269\\u4f59\\u91d1\\u989d\\uffe5649455.787\",\"\\u5f53\\u65e5\\u4ea4\\u6613\\u4f63\\u91d1\\uffe553.19\\uff09\",\"\\uffe5352708.144\",\"\\uffe52268.233\",null],[\"2021-01-05\",\"600570.SHA\",\"\\u6052\\u751f\\u7535\\u5b50\",2578.029,\"2677.701\",26.153,70029.906,2606.72],[\"2021-01-05\",\"603288.SHA\",\"\\u6d77\\u5929\\u5473\\u4e1a\",946.127,\"952.088\",45.117,42955.355,268.925],[\"2021-01-05\",\"002024.SZA\",\"\\u82cf\\u5b81\\u6613\\u8d2d\",671.831,\"667.429\",50.351,33605.7,-221.672],[\"2021-01-05\",\"600436.SHA\",\"\\u7247\\u4ed4\\u7640\",1831.218,\"1938.344\",15.954,30924.338,1709.123],[\"\",\"\",\"\\uff08\\u603b\\u8d44\\u4ea7\\uffe51004312.15\",\"\\u5269\\u4f59\\u91d1\\u989d\\uffe5826796.361\",\"\\u5f53\\u65e5\\u4ea4\\u6613\\u4f63\\u91d1\\uffe551.95\\uff09\",\"\\uffe5177515.299\",\"\\uffe54363.096\",null],[\"2021-01-04\",\"--\",\"--\",\"--\",\"--\",\"--\",\"--\",\"--\"],[\"\",\"\",\"\\uff08\\u603b\\u8d44\\u4ea7\\uffe51000001.0\",\"\\u5269\\u4f59\\u91d1\\u989d\\uffe51000001.0\",\"\\u5f53\\u65e5\\u4ea4\\u6613\\u4f63\\u91d1\\uffe50.0\\uff09\",\"\\uffe50.0\",\"\\uffe50.0\",null]],\"columns\":[{\"title\":\"\\u65e5\\u671f\",\"orderable\":false},{\"title\":\"\\u80a1\\u7968\\u4ee3\\u7801\",\"orderable\":false},{\"title\":\"\\u80a1\\u7968\\u540d\\u79f0\",\"orderable\":false},{\"title\":\"\\u6301\\u4ed3\\u5747\\u4ef7\",\"orderable\":false},{\"title\":\"\\u6536\\u76d8\\u4ef7\",\"orderable\":false},{\"title\":\"\\u80a1\\u6570\",\"orderable\":false},{\"title\":\"\\u6301\\u4ed3\\u4ef7\\u503c\",\"orderable\":false},{\"title\":\"\\u6536\\u76ca\",\"orderable\":false}],\"searching\":false,\"info\":false,\"pageLength\":20,\"lengthChange\":false,\"order\":[],\"__type\":\"datatable\",\"__id\":\"bigchart-9383744d444945d9afd03b8cd2775c1b\",\"language\":{\"sProcessing\":\"\\u5904\\u7406\\u4e2d...\",\"sLengthMenu\":\"\\u663e\\u793a _MENU_ \\u9879\\u7ed3\\u679c\",\"sZeroRecords\":\"\\u6ca1\\u6709\\u5339\\u914d\\u7ed3\\u679c\",\"sInfo\":\"\\u663e\\u793a\\u7b2c _START_ \\u81f3 _END_ \\u9879\\u7ed3\\u679c\\uff0c\\u5171 _TOTAL_ \\u9879\",\"sInfoEmpty\":\"\\u663e\\u793a\\u7b2c 0 \\u81f3 0 \\u9879\\u7ed3\\u679c\\uff0c\\u5171 0 \\u9879\",\"sInfoFiltered\":\"(\\u7531 _MAX_ \\u9879\\u7ed3\\u679c\\u8fc7\\u6ee4)\",\"sInfoPostFix\":\"\",\"sSearch\":\"\\u641c\\u7d22:\",\"sUrl\":\"\",\"sEmptyTable\":\"\\u8868\\u4e2d\\u6570\\u636e\\u4e3a\\u7a7a\",\"sLoadingRecords\":\"\\u8f7d\\u5165\\u4e2d...\",\"sInfoThousands\":\",\",\"oPaginate\":{\"sFirst\":\"\\u9996\\u9875\",\"sPrevious\":\"\\u4e0a\\u9875\",\"sNext\":\"\\u4e0b\\u9875\",\"sLast\":\"\\u672b\\u9875\"}},\"hasWholeData\":true}/bigcharts-data-end</pre></div></div><div class='tab-pane' id='输出日志'><table id=\"bigchart-bee9f88a8c1a45b0b55cd9ac34e9f6e2\" width=\"100%\" class=\"display bigchart\"></table><div class=\"bigchart-data\"><pre style=\"display:none\">bigcharts-data-start/{\"deferRender\":true,\"data\":[[\"2021-06-01 15:00:00\",\"INFO\",\"order[09:30:00][id:331b7b,600703.SHA 164.88879672195756@MARKET]\"],[\"2021-06-01 15:00:00\",\"INFO\",\"order[09:30:00][id:016512,300142.SZA 61.99471131867365@MARKET]\"],[\"2021-06-01 15:00:00\",\"INFO\",\"order[09:30:00][id:5e75ee,603259.SHA 141.74392941542044@MARKET]\"],[\"2021-06-01 15:00:00\",\"INFO\",\"order[09:30:00][id:bb01d0,300144.SZA 153.39119224356855@MARKET]\"],[\"2021-06-01 15:00:00\",\"INFO\",\"order[09:30:00][id:ac891c,002352.SZA 155.82901448594592@MARKET]\"],[\"2021-05-31 15:00:00\",\"INFO\",\"order[15:00:00][id:a7aace,002460.SZA -401.77297381735116@MARKET]\"],[\"2021-05-31 15:00:00\",\"INFO\",\"order[09:30:00][id:aa2f54,600703.SHA 142.66652125915607@MARKET]\"],[\"2021-05-31 15:00:00\",\"INFO\",\"order[09:30:00][id:20ad70,300142.SZA 52.709179726351714@MARKET]\"],[\"2021-05-31 15:00:00\",\"INFO\",\"order[09:30:00][id:2113b6,300144.SZA 156.90929443086446@MARKET]\"],[\"2021-05-31 15:00:00\",\"INFO\",\"order[09:30:00][id:3052e0,002352.SZA 149.3889973727856@MARKET]\"],[\"2021-05-31 15:00:00\",\"ERROR\",\"place order [600519.SHA, invalid amount:1.983674041635126] failed\"],[\"2021-05-28 15:00:00\",\"INFO\",\"order[15:00:00][id:6245c8,600893.SHA -342.7075343395056@MARKET]\"],[\"2021-05-28 15:00:00\",\"INFO\",\"order[15:00:00][id:9e5d3f,603501.SHA -114.99073947094409@MARKET]\"],[\"2021-05-28 15:00:00\",\"INFO\",\"order[15:00:00][id:6a83eb,002821.SZA -50.656274776272774@MARKET]\"],[\"2021-05-28 15:00:00\",\"INFO\",\"order[15:00:00][id:fdb260,002024.SZA -72.12093686404192@MARKET]\"],[\"2021-05-28 15:00:00\",\"INFO\",\"order[09:30:00][id:eaa288,300122.SZA 118.02180172731023@MARKET]\"],[\"2021-05-28 15:00:00\",\"ERROR\",\"place order [600519.SHA, invalid amount:3.5710109546953537] failed\"],[\"2021-05-28 15:00:00\",\"INFO\",\"order[09:30:00][id:7690d4,002812.SZA 80.9856953254829@MARKET]\"],[\"2021-05-28 15:00:00\",\"INFO\",\"order[09:30:00][id:4d151a,600703.SHA 68.85902360499415@MARKET]\"],[\"2021-05-28 15:00:00\",\"INFO\",\"order[09:30:00][id:d4ed1f,300144.SZA 133.5957211504954@MARKET]\"],[\"2021-05-27 15:00:00\",\"INFO\",\"order[15:00:00][id:e11087,002129.SZA -479.0411753319123@MARKET]\"],[\"2021-05-27 15:00:00\",\"INFO\",\"order[15:00:00][id:5012fc,002352.SZA -151.57400907448655@MARKET]\"],[\"2021-05-27 15:00:00\",\"INFO\",\"order[15:00:00][id:d4c73b,300144.SZA -733.7071193134282@MARKET]\"],[\"2021-05-27 15:00:00\",\"INFO\",\"order[09:30:00][id:31b418,002460.SZA 78.91150880453162@MARKET]\"],[\"2021-05-27 15:00:00\",\"INFO\",\"order[09:30:00][id:f8c02c,600893.SHA 342.7075343395056@MARKET]\"],[\"2021-05-27 15:00:00\",\"INFO\",\"order[09:30:00][id:9d2757,002024.SZA 72.12093686404192@MARKET]\"],[\"2021-05-27 15:00:00\",\"INFO\",\"order[09:30:00][id:b4f023,002821.SZA 50.656274776272774@MARKET]\"],[\"2021-05-27 15:00:00\",\"INFO\",\"order[09:30:00][id:1187db,603501.SHA 114.99073947094409@MARKET]\"],[\"2021-05-26 15:00:00\",\"INFO\",\"order[15:00:00][id:d599b0,000568.SZA -3.61181150944189@MARKET]\"],[\"2021-05-26 15:00:00\",\"INFO\",\"order[15:00:00][id:ea7a23,603899.SHA -134.52487412626505@MARKET]\"],[\"2021-05-26 15:00:00\",\"INFO\",\"order[15:00:00][id:bbf4c4,300347.SZA -13.295379954613422@MARKET]\"],[\"2021-05-26 15:00:00\",\"INFO\",\"order[15:00:00][id:ce268b,688012.SHA -1044.3098299888645@MARKET]\"],[\"2021-05-26 15:00:00\",\"INFO\",\"order[09:30:00][id:2c3655,002460.SZA 78.2949260214888@MARKET]\"],[\"2021-05-26 15:00:00\",\"INFO\",\"order[09:30:00][id:a45294,002129.SZA 479.0411753319123@MARKET]\"],[\"2021-05-26 15:00:00\",\"INFO\",\"order[09:30:00][id:3b7abb,300144.SZA 154.19450306838138@MARKET]\"],[\"2021-05-26 15:00:00\",\"INFO\",\"order[09:30:00][id:342220,002352.SZA 151.57400907448655@MARKET]\"],[\"2021-05-26 15:00:00\",\"ERROR\",\"place order [600519.SHA, invalid amount:2.025632825496024] failed\"],[\"2021-05-25 15:00:00\",\"INFO\",\"order[15:00:00][id:d0a4f3,600009.SHA -882.4054614090173@MARKET]\"],[\"2021-05-25 15:00:00\",\"INFO\",\"order[15:00:00][id:5f0ec1,600760.SHA -100.02624938724027@MARKET]\"],[\"2021-05-25 15:00:00\",\"INFO\",\"order[15:00:00][id:543bf3,000768.SZA -365.7239622830765@MARKET]\"],[\"2021-05-25 15:00:00\",\"INFO\",\"order[09:30:00][id:79cffd,300144.SZA 248.12047707549965@MARKET]\"],[\"2021-05-25 15:00:00\",\"INFO\",\"order[09:30:00][id:280906,002460.SZA 39.367100877072716@MARKET]\"],[\"2021-05-25 15:00:00\",\"INFO\",\"order[09:30:00][id:e1f787,688012.SHA 281.7206493001892@MARKET]\"],[\"2021-05-25 15:00:00\",\"INFO\",\"order[09:30:00][id:622eca,300347.SZA 13.295379954613422@MARKET]\"],[\"2021-05-25 15:00:00\",\"INFO\",\"order[09:30:00][id:e50359,603899.SHA 134.52487412626505@MARKET]\"],[\"2021-05-24 15:00:00\",\"INFO\",\"order[09:30:00][id:92ab34,688012.SHA 762.5891806886754@MARKET]\"],[\"2021-05-24 15:00:00\",\"INFO\",\"order[09:30:00][id:9ae9e1,300144.SZA 207.8787062638993@MARKET]\"],[\"2021-05-24 15:00:00\",\"INFO\",\"order[09:30:00][id:b5fe69,002460.SZA 40.201917323196675@MARKET]\"],[\"2021-05-24 15:00:00\",\"INFO\",\"order[09:30:00][id:2058d3,000768.SZA 181.831150019107@MARKET]\"],[\"2021-05-24 15:00:00\",\"INFO\",\"order[09:30:00][id:0fe789,600760.SHA 100.02624938724027@MARKET]\"],[\"2021-05-21 15:00:00\",\"INFO\",\"order[15:00:00][id:ef4d37,600893.SHA -1046.8479168557171@MARKET]\"],[\"2021-05-21 15:00:00\",\"INFO\",\"order[15:00:00][id:195e7f,603986.SHA -40.23212192193385@MARKET]\"],[\"2021-05-21 15:00:00\",\"INFO\",\"order[15:00:00][id:55d9f9,688012.SHA -2504.8574794396372@MARKET]\"],[\"2021-05-21 15:00:00\",\"INFO\",\"order[09:30:00][id:f907ba,002460.SZA 70.9487588979769@MARKET]\"],[\"2021-05-21 15:00:00\",\"INFO\",\"order[09:30:00][id:1e8259,600009.SHA 343.1808948201103@MARKET]\"],[\"2021-05-21 15:00:00\",\"INFO\",\"order[09:30:00][id:296c0e,000768.SZA 183.89281226396952@MARKET]\"],[\"2021-05-21 15:00:00\",\"INFO\",\"order[09:30:00][id:8601ac,300144.SZA 123.51343290564786@MARKET]\"],[\"2021-05-21 15:00:00\",\"INFO\",\"order[09:30:00][id:308dc0,000568.SZA 3.61181150944189@MARKET]\"],[\"2021-05-20 15:00:00\",\"INFO\",\"order[15:00:00][id:19c8be,300142.SZA -64.6558093683221@MARKET]\"],[\"2021-05-20 15:00:00\",\"INFO\",\"order[15:00:00][id:fe674e,600066.SHA -43.7024558777234@MARKET]\"],[\"2021-05-20 15:00:00\",\"INFO\",\"order[15:00:00][id:85c32b,002024.SZA -51.98651544208568@MARKET]\"],[\"2021-05-20 15:00:00\",\"INFO\",\"order[15:00:00][id:abb1e7,000568.SZA -4.63880363730178@MARKET]\"],[\"2021-05-20 15:00:00\",\"INFO\",\"order[15:00:00][id:0ce416,300144.SZA -281.96950799452907@MARKET]\"],[\"2021-05-20 15:00:00\",\"INFO\",\"order[09:30:00][id:73c54d,688012.SHA 594.7305939509972@MARKET]\"],[\"2021-05-20 15:00:00\",\"INFO\",\"order[09:30:00][id:92fe8f,600009.SHA 308.9289393453059@MARKET]\"],[\"2021-05-20 15:00:00\",\"INFO\",\"order[09:30:00][id:f2787c,002460.SZA 32.81786208896596@MARKET]\"],[\"2021-05-20 15:00:00\",\"INFO\",\"order[09:30:00][id:36f4b9,600893.SHA 216.568670191776@MARKET]\"],[\"2021-05-20 15:00:00\",\"INFO\",\"order[09:30:00][id:4c80eb,603986.SHA 40.23212192193385@MARKET]\"],[\"2021-05-19 15:00:00\",\"INFO\",\"order[15:00:00][id:fec59d,603986.SHA -58.228082000359066@MARKET]\"],[\"2021-05-19 15:00:00\",\"INFO\",\"order[15:00:00][id:d442e5,000860.SZA -397.53834899893803@MARKET]\"],[\"2021-05-19 15:00:00\",\"INFO\",\"order[15:00:00][id:c68f93,002594.SZA -632.9790194414022@MARKET]\"],[\"2021-05-19 15:00:00\",\"INFO\",\"order[09:30:00][id:8109f4,002460.SZA 61.23089980411844@MARKET]\"],[\"2021-05-19 15:00:00\",\"INFO\",\"order[09:30:00][id:019aa2,688012.SHA 348.3041623972831@MARKET]\"],[\"2021-05-19 15:00:00\",\"INFO\",\"order[09:30:00][id:b4e3db,600009.SHA 230.29562724360107@MARKET]\"],[\"2021-05-19 15:00:00\",\"INFO\",\"order[09:30:00][id:64ae86,600893.SHA 200.82568755265638@MARKET]\"],[\"2021-05-19 15:00:00\",\"INFO\",\"order[09:30:00][id:fde96c,300142.SZA 25.804433067109674@MARKET]\"],[\"2021-05-18 15:00:00\",\"INFO\",\"order[15:00:00][id:be38be,002812.SZA -54.77599530169774@MARKET]\"],[\"2021-05-18 15:00:00\",\"INFO\",\"order[09:30:00][id:d221c9,600893.SHA 629.4535591112848@MARKET]\"],[\"2021-05-18 15:00:00\",\"INFO\",\"order[09:30:00][id:073d69,002594.SZA 354.8222458097258@MARKET]\"],[\"2021-05-18 15:00:00\",\"INFO\",\"order[09:30:00][id:4ee6da,300144.SZA 156.7825418316@MARKET]\"],[\"2021-05-18 15:00:00\",\"INFO\",\"order[09:30:00][id:065ed7,000568.SZA 4.63880363730178@MARKET]\"],[\"2021-05-18 15:00:00\",\"INFO\",\"order[09:30:00][id:b620ca,688012.SHA 287.7616981446907@MARKET]\"],[\"2021-05-17 15:00:00\",\"INFO\",\"order[09:30:00][id:a476e1,688012.SHA 755.0278796628965@MARKET]\"],[\"2021-05-17 15:00:00\",\"INFO\",\"order[09:30:00][id:3b6afb,000860.SZA 397.53834899893803@MARKET]\"],[\"2021-05-17 15:00:00\",\"INFO\",\"order[09:30:00][id:217c10,002594.SZA 278.1567736316764@MARKET]\"],[\"2021-05-17 15:00:00\",\"INFO\",\"order[09:30:00][id:ce3c87,300142.SZA 38.851376301212426@MARKET]\"],[\"2021-05-17 15:00:00\",\"INFO\",\"order[09:30:00][id:187160,300144.SZA 125.18696616292904@MARKET]\"],[\"2021-05-14 15:00:00\",\"INFO\",\"order[15:00:00][id:26a228,000860.SZA -258.99541156319174@MARKET]\"],[\"2021-05-14 15:00:00\",\"INFO\",\"order[15:00:00][id:32d8b3,300014.SZA -21.48644763216702@MARKET]\"],[\"2021-05-14 15:00:00\",\"INFO\",\"order[15:00:00][id:4011d2,002821.SZA -61.03686857137072@MARKET]\"],[\"2021-05-14 15:00:00\",\"INFO\",\"order[15:00:00][id:f04e5e,300144.SZA -194.87018884403446@MARKET]\"],[\"2021-05-14 15:00:00\",\"INFO\",\"order[15:00:00][id:0a37a0,600009.SHA -3596.6057145521195@MARKET]\"],[\"2021-05-14 15:00:00\",\"INFO\",\"order[09:30:00][id:08e7b9,688012.SHA 519.0331452837696@MARKET]\"],[\"2021-05-14 15:00:00\",\"INFO\",\"order[09:30:00][id:2d0c08,603986.SHA 58.228082000359066@MARKET]\"],[\"2021-05-14 15:00:00\",\"INFO\",\"order[09:30:00][id:589efc,002024.SZA 51.98651544208568@MARKET]\"],[\"2021-05-14 15:00:00\",\"INFO\",\"order[09:30:00][id:371e40,600066.SHA 43.7024558777234@MARKET]\"],[\"2021-05-14 15:00:00\",\"INFO\",\"order[09:30:00][id:c043e7,002812.SZA 54.77599530169774@MARKET]\"],[\"2021-05-13 15:00:00\",\"INFO\",\"order[15:00:00][id:954012,603799.SHA -271.7134547282528@MARKET]\"],[\"2021-05-13 15:00:00\",\"INFO\",\"order[15:00:00][id:17011e,000661.SZA -13.632828705947668@MARKET]\"],[\"2021-05-13 15:00:00\",\"INFO\",\"order[15:00:00][id:111b9e,002812.SZA -68.2184212752292@MARKET]\"],[\"2021-05-13 15:00:00\",\"INFO\",\"order[09:30:00][id:8b6c62,600009.SHA 622.2870148013848@MARKET]\"],[\"2021-05-13 15:00:00\",\"INFO\",\"order[09:30:00][id:8f6ef4,300144.SZA 194.87018884403446@MARKET]\"],[\"2021-05-13 15:00:00\",\"INFO\",\"order[09:30:00][id:e55e21,002821.SZA 61.03686857137072@MARKET]\"],[\"2021-05-13 15:00:00\",\"INFO\",\"order[09:30:00][id:6257c5,000860.SZA 258.99541156319174@MARKET]\"],[\"2021-05-13 15:00:00\",\"INFO\",\"order[09:30:00][id:8d821e,300014.SZA 21.48644763216702@MARKET]\"],[\"2021-05-12 15:00:00\",\"INFO\",\"order[15:00:00][id:8a6d5e,688008.SHA -1398.2311949824393@MARKET]\"],[\"2021-05-12 15:00:00\",\"INFO\",\"order[15:00:00][id:c8b858,603288.SHA -59.99121255467559@MARKET]\"],[\"2021-05-12 15:00:00\",\"INFO\",\"order[15:00:00][id:392c88,300144.SZA -567.5692542673529@MARKET]\"],[\"2021-05-12 15:00:00\",\"INFO\",\"order[09:30:00][id:bb9e62,600009.SHA 566.2333510230844@MARKET]\"],[\"2021-05-12 15:00:00\",\"INFO\",\"order[09:30:00][id:744bdd,000661.SZA 13.632828705947668@MARKET]\"],[\"2021-05-12 15:00:00\",\"INFO\",\"order[09:30:00][id:66d537,603799.SHA 271.7134547282528@MARKET]\"],[\"2021-05-12 15:00:00\",\"ERROR\",\"place order [002821.SZA, invalid amount:48.322264913280414] failed\"],[\"2021-05-12 15:00:00\",\"INFO\",\"order[09:30:00][id:e96ff7,002812.SZA 68.2184212752292@MARKET]\"],[\"2021-05-11 15:00:00\",\"INFO\",\"order[15:00:00][id:038183,603658.SHA -476.06363634531476@MARKET]\"],[\"2021-05-11 15:00:00\",\"INFO\",\"order[15:00:00][id:4657ad,600436.SHA -15.842278156456352@MARKET]\"],[\"2021-05-11 15:00:00\",\"INFO\",\"order[15:00:00][id:8551df,002024.SZA -119.04161713068017@MARKET]\"],[\"2021-05-11 15:00:00\",\"INFO\",\"order[15:00:00][id:69f97a,601600.SHA -6277.527850501641@MARKET]\"],[\"2021-05-11 15:00:00\",\"INFO\",\"order[09:30:00][id:69585a,600009.SHA 541.782829512299@MARKET]\"],[\"2021-05-11 15:00:00\",\"INFO\",\"order[09:30:00][id:cb652e,603288.SHA 59.99121255467559@MARKET]\"],[\"2021-05-11 15:00:00\",\"INFO\",\"order[09:30:00][id:cf18da,688008.SHA 740.783250463584@MARKET]\"],[\"2021-05-11 15:00:00\",\"ERROR\",\"place order [002821.SZA, invalid amount:48.93582162250716] failed\"],[\"2021-05-11 15:00:00\",\"INFO\",\"order[09:30:00][id:36b40a,300144.SZA 98.62463533361786@MARKET]\"],[\"2021-05-10 15:00:00\",\"INFO\",\"order[15:00:00][id:d05828,600547.SHA -103.19718577491861@MARKET]\"],[\"2021-05-10 15:00:00\",\"INFO\",\"order[15:00:00][id:3d0ad9,002129.SZA -328.49027999386374@MARKET]\"],[\"2021-05-10 15:00:00\",\"INFO\",\"order[15:00:00][id:5849c0,000860.SZA -240.10792016374734@MARKET]\"],[\"2021-05-10 15:00:00\",\"INFO\",\"order[15:00:00][id:ee7b5d,600570.SHA -25.542101170005644@MARKET]\"],[\"2021-05-10 15:00:00\",\"INFO\",\"order[09:30:00][id:231b13,600009.SHA 629.3192330808547@MARKET]\"],[\"2021-05-10 15:00:00\",\"INFO\",\"order[09:30:00][id:e76808,603658.SHA 476.06363634531476@MARKET]\"],[\"2021-05-10 15:00:00\",\"INFO\",\"order[09:30:00][id:f8c67f,300144.SZA 143.23009153732926@MARKET]\"],[\"2021-05-10 15:00:00\",\"INFO\",\"order[09:30:00][id:b5809c,601600.SHA 6277.527850501641@MARKET]\"],[\"2021-05-10 15:00:00\",\"INFO\",\"order[09:30:00][id:33b8d0,688008.SHA 657.4479445188555@MARKET]\"],[\"2021-05-07 15:00:00\",\"INFO\",\"order[15:00:00][id:c7853f,688012.SHA -1176.1569919916199@MARKET]\"],[\"2021-05-07 15:00:00\",\"INFO\",\"order[15:00:00][id:15592c,002821.SZA -129.7572647915881@MARKET]\"],[\"2021-05-07 15:00:00\",\"INFO\",\"order[15:00:00][id:15bf14,603087.SHA -186.94765006978216@MARKET]\"],[\"2021-05-07 15:00:00\",\"INFO\",\"order[09:30:00][id:b59c55,600009.SHA 618.869971496617@MARKET]\"],[\"2021-05-07 15:00:00\",\"INFO\",\"order[09:30:00][id:f80c7a,600570.SHA 25.542101170005644@MARKET]\"],[\"2021-05-07 15:00:00\",\"INFO\",\"order[09:30:00][id:13c4be,300144.SZA 146.06450257379595@MARKET]\"],[\"2021-05-07 15:00:00\",\"INFO\",\"order[09:30:00][id:57327e,002129.SZA 328.49027999386374@MARKET]\"],[\"2021-05-07 15:00:00\",\"INFO\",\"order[09:30:00][id:c7dbbc,000860.SZA 240.10792016374734@MARKET]\"],[\"2021-05-06 15:00:00\",\"INFO\",\"order[15:00:00][id:f3a6e6,002594.SZA -1470.129033309388@MARKET]\"],[\"2021-05-06 15:00:00\",\"INFO\",\"order[09:30:00][id:22cff4,600009.SHA 618.1133146378793@MARKET]\"],[\"2021-05-06 15:00:00\",\"INFO\",\"order[09:30:00][id:46cb96,300144.SZA 179.6500248226098@MARKET]\"],[\"2021-05-06 15:00:00\",\"INFO\",\"order[09:30:00][id:27c8b9,600547.SHA 103.19718577491861@MARKET]\"],[\"2021-05-06 15:00:00\",\"INFO\",\"order[09:30:00][id:a00320,002024.SZA 64.91139210794984@MARKET]\"],[\"2021-05-06 15:00:00\",\"INFO\",\"order[09:30:00][id:8e16c5,600436.SHA 15.842278156456352@MARKET]\"],[\"2021-04-30 15:00:00\",\"INFO\",\"order[15:00:00][id:b7dfb2,000568.SZA -4.099369188314906@MARKET]\"],[\"2021-04-30 15:00:00\",\"INFO\",\"order[15:00:00][id:669fd0,300144.SZA -1045.037246623571@MARKET]\"],[\"2021-04-30 15:00:00\",\"INFO\",\"order[09:30:00][id:7e94eb,688012.SHA 690.6968474678828@MARKET]\"],[\"2021-04-30 15:00:00\",\"INFO\",\"order[09:30:00][id:3346b0,002594.SZA 320.1167908233697@MARKET]\"],[\"2021-04-30 15:00:00\",\"INFO\",\"order[09:30:00][id:30902f,002821.SZA 61.47653732429343@MARKET]\"],[\"2021-04-30 15:00:00\",\"INFO\",\"order[09:30:00][id:568302,603087.SHA 186.94765006978216@MARKET]\"],[\"2021-04-30 15:00:00\",\"INFO\",\"order[09:30:00][id:f274dd,002024.SZA 54.13022502273033@MARKET]\"],[\"2021-04-29 15:00:00\",\"INFO\",\"order[15:00:00][id:2b6e5f,600588.SHA -19.7814667839826@MARKET]\"],[\"2021-04-29 15:00:00\",\"INFO\",\"order[15:00:00][id:c527c4,600161.SHA -83.81935115408221@MARKET]\"],[\"2021-04-29 15:00:00\",\"INFO\",\"order[15:00:00][id:cb914a,600436.SHA -15.526526553946182@MARKET]\"],[\"2021-04-29 15:00:00\",\"INFO\",\"order[15:00:00][id:e09919,300529.SZA -175.72228412851132@MARKET]\"],[\"2021-04-29 15:00:00\",\"INFO\",\"order[15:00:00][id:e8636e,600760.SHA -339.2069265979733@MARKET]\"],[\"2021-04-29 15:00:00\",\"INFO\",\"order[09:30:00][id:968c62,002594.SZA 549.4653019486489@MARKET]\"],[\"2021-04-29 15:00:00\",\"INFO\",\"order[09:30:00][id:afcf29,688012.SHA 485.46014452373714@MARKET]\"],[\"2021-04-29 15:00:00\",\"INFO\",\"order[09:30:00][id:a501ab,002821.SZA 68.28072746729468@MARKET]\"],[\"2021-04-29 15:00:00\",\"INFO\",\"order[09:30:00][id:c98ee7,300144.SZA 118.10375834841746@MARKET]\"],[\"2021-04-29 15:00:00\",\"INFO\",\"order[09:30:00][id:af44ed,000568.SZA 4.099369188314906@MARKET]\"],[\"2021-04-28 15:00:00\",\"INFO\",\"order[15:00:00][id:4644a8,000568.SZA -9.489040564446078@MARKET]\"],[\"2021-04-28 15:00:00\",\"INFO\",\"order[15:00:00][id:418d44,603658.SHA -355.3470859294641@MARKET]\"],[\"2021-04-28 15:00:00\",\"INFO\",\"order[15:00:00][id:cfdaca,002129.SZA -321.3151930407664@MARKET]\"],[\"2021-04-28 15:00:00\",\"INFO\",\"order[15:00:00][id:f2858a,600809.SHA -56.54336479727067@MARKET]\"],[\"2021-04-28 15:00:00\",\"INFO\",\"order[09:30:00][id:de60bd,300144.SZA 231.21337883984822@MARKET]\"],[\"2021-04-28 15:00:00\",\"INFO\",\"order[09:30:00][id:9c03db,600760.SHA 157.3976598919905@MARKET]\"],[\"2021-04-28 15:00:00\",\"INFO\",\"order[09:30:00][id:e8aec2,600588.SHA 19.7814667839826@MARKET]\"],[\"2021-04-28 15:00:00\",\"INFO\",\"order[09:30:00][id:9f96fc,300529.SZA 175.72228412851132@MARKET]\"],[\"2021-04-28 15:00:00\",\"INFO\",\"order[09:30:00][id:31a901,002594.SZA 174.93397454882017@MARKET]\"],[\"2021-04-27 15:00:00\",\"INFO\",\"order[15:00:00][id:c2ef8b,300413.SZA -294.6535343964614@MARKET]\"],[\"2021-04-27 15:00:00\",\"INFO\",\"order[15:00:00][id:201a04,603259.SHA -103.96415054480532@MARKET]\"],[\"2021-04-27 15:00:00\",\"INFO\",\"order[15:00:00][id:802fa7,600600.SHA -296.29516104579994@MARKET]\"],[\"2021-04-27 15:00:00\",\"INFO\",\"order[15:00:00][id:7ce2b9,002049.SZA -122.91076779094223@MARKET]\"],[\"2021-04-27 15:00:00\",\"INFO\",\"order[15:00:00][id:6d062a,601888.SHA -70.78375062653977@MARKET]\"],[\"2021-04-27 15:00:00\",\"INFO\",\"order[09:30:00][id:ed0efc,300144.SZA 269.30600427746464@MARKET]\"],[\"2021-04-27 15:00:00\",\"INFO\",\"order[09:30:00][id:5bda78,600760.SHA 181.80926670598282@MARKET]\"],[\"2021-04-27 15:00:00\",\"INFO\",\"order[09:30:00][id:278b1e,603658.SHA 355.3470859294641@MARKET]\"],[\"2021-04-27 15:00:00\",\"INFO\",\"order[09:30:00][id:8b0bf5,002129.SZA 321.3151930407664@MARKET]\"],[\"2021-04-27 15:00:00\",\"INFO\",\"order[09:30:00][id:f5505d,600436.SHA 15.526526553946182@MARKET]\"],[\"2021-04-26 15:00:00\",\"INFO\",\"order[15:00:00][id:a26c7e,600118.SHA -172.07705894878043@MARKET]\"],[\"2021-04-26 15:00:00\",\"INFO\",\"order[09:30:00][id:0d5747,300144.SZA 280.8596455817025@MARKET]\"],[\"2021-04-26 15:00:00\",\"INFO\",\"order[09:30:00][id:a398b1,600809.SHA 33.523203421862306@MARKET]\"],[\"2021-04-26 15:00:00\",\"INFO\",\"order[09:30:00][id:7b7c08,601888.SHA 70.78375062653977@MARKET]\"],[\"2021-04-26 15:00:00\",\"INFO\",\"order[09:30:00][id:f42bd6,600161.SHA 83.81935115408221@MARKET]\"],[\"2021-04-26 15:00:00\",\"INFO\",\"order[09:30:00][id:3022fb,002594.SZA 208.41764505568716@MARKET]\"],[\"2021-04-23 15:00:00\",\"INFO\",\"order[09:30:00][id:e6a431,600118.SHA 172.07705894878043@MARKET]\"],[\"2021-04-23 15:00:00\",\"INFO\",\"order[09:30:00][id:3caa6d,002049.SZA 122.91076779094223@MARKET]\"],[\"2021-04-23 15:00:00\",\"INFO\",\"order[09:30:00][id:f33f88,300144.SZA 145.55445957613816@MARKET]\"],[\"2021-04-23 15:00:00\",\"INFO\",\"order[09:30:00][id:24df2f,600809.SHA 23.02016137540836@MARKET]\"],[\"2021-04-23 15:00:00\",\"ERROR\",\"place order [000661.SZA, invalid amount:10.010201484946808] failed\"],[\"2021-04-22 15:00:00\",\"INFO\",\"order[15:00:00][id:52dd44,600588.SHA -12.574539034214178@MARKET]\"],[\"2021-04-22 15:00:00\",\"INFO\",\"order[15:00:00][id:1846bf,002179.SZA -76.43155593423243@MARKET]\"],[\"2021-04-22 15:00:00\",\"INFO\",\"order[15:00:00][id:1eef35,002129.SZA -263.3282578810679@MARKET]\"],[\"2021-04-22 15:00:00\",\"INFO\",\"order[15:00:00][id:07bf5f,600809.SHA -24.096757687845088@MARKET]\"],[\"2021-04-22 15:00:00\",\"INFO\",\"order[15:00:00][id:c065ed,600118.SHA -1010.4773591949598@MARKET]\"],[\"2021-04-22 15:00:00\",\"INFO\",\"order[09:30:00][id:04225c,000568.SZA 9.489040564446078@MARKET]\"],[\"2021-04-22 15:00:00\",\"INFO\",\"order[09:30:00][id:11ca93,600600.SHA 296.29516104579994@MARKET]\"],[\"2021-04-22 15:00:00\",\"INFO\",\"order[09:30:00][id:8da385,002594.SZA 217.19532093286196@MARKET]\"],[\"2021-04-22 15:00:00\",\"INFO\",\"order[09:30:00][id:26a4c8,300413.SZA 294.6535343964614@MARKET]\"],[\"2021-04-22 15:00:00\",\"INFO\",\"order[09:30:00][id:c3e780,603259.SHA 103.96415054480532@MARKET]\"],[\"2021-04-21 15:00:00\",\"INFO\",\"order[15:00:00][id:967486,600436.SHA -18.25166523318144@MARKET]\"],[\"2021-04-21 15:00:00\",\"INFO\",\"order[15:00:00][id:e9a01c,000568.SZA -15.125702902670021@MARKET]\"],[\"2021-04-21 15:00:00\",\"INFO\",\"order[15:00:00][id:55277c,603259.SHA -127.5040905042052@MARKET]\"],[\"2021-04-21 15:00:00\",\"INFO\",\"order[09:30:00][id:4c2075,600118.SHA 120.50697634748609@MARKET]\"],[\"2021-04-21 15:00:00\",\"INFO\",\"order[09:30:00][id:223917,600809.SHA 24.096757687845088@MARKET]\"],[\"2021-04-21 15:00:00\",\"INFO\",\"order[09:30:00][id:78d787,002129.SZA 263.3282578810679@MARKET]\"],[\"2021-04-21 15:00:00\",\"ERROR\",\"place order [000661.SZA, invalid amount:7.815943832781245] failed\"],[\"2021-04-21 15:00:00\",\"INFO\",\"order[09:30:00][id:d3df1e,600588.SHA 12.574539034214178@MARKET]\"],[\"2021-04-20 15:00:00\",\"INFO\",\"order[15:00:00][id:a9ab52,601100.SHA -153.16648675534594@MARKET]\"],[\"2021-04-20 15:00:00\",\"INFO\",\"order[15:00:00][id:a25555,600588.SHA -13.31078819143827@MARKET]\"],[\"2021-04-20 15:00:00\",\"INFO\",\"order[15:00:00][id:b1f676,002049.SZA -51.9992380597905@MARKET]\"],[\"2021-04-20 15:00:00\",\"INFO\",\"order[15:00:00][id:611fbb,002594.SZA -146.39125291863698@MARKET]\"],[\"2021-04-20 15:00:00\",\"INFO\",\"order[15:00:00][id:de126c,002129.SZA -248.1184500826753@MARKET]\"],[\"2021-04-20 15:00:00\",\"INFO\",\"order[09:30:00][id:b96021,600118.SHA 172.72493700380795@MARKET]\"],[\"2021-04-20 15:00:00\",\"INFO\",\"order[09:30:00][id:6153c1,000568.SZA 7.337324139987151@MARKET]\"],[\"2021-04-20 15:00:00\",\"INFO\",\"order[09:30:00][id:39e824,002179.SZA 76.43155593423243@MARKET]\"],[\"2021-04-20 15:00:00\",\"INFO\",\"order[09:30:00][id:9141bb,600436.SHA 18.25166523318144@MARKET]\"],[\"2021-04-20 15:00:00\",\"INFO\",\"order[09:30:00][id:cce543,603259.SHA 127.5040905042052@MARKET]\"],[\"2021-04-19 15:00:00\",\"INFO\",\"order[15:00:00][id:c7896c,300014.SZA -121.8698082404712@MARKET]\"],[\"2021-04-19 15:00:00\",\"INFO\",\"order[15:00:00][id:93c2d2,002044.SZA -894.7574619432148@MARKET]\"],[\"2021-04-19 15:00:00\",\"INFO\",\"order[09:30:00][id:d7e03d,000568.SZA 7.788378762682869@MARKET]\"],[\"2021-04-19 15:00:00\",\"INFO\",\"order[09:30:00][id:21236e,600118.SHA 70.64516141433984@MARKET]\"],[\"2021-04-19 15:00:00\",\"INFO\",\"order[09:30:00][id:14eb12,002129.SZA 248.1184500826753@MARKET]\"],[\"2021-04-19 15:00:00\",\"INFO\",\"order[09:30:00][id:2dad83,002594.SZA 146.39125291863698@MARKET]\"],[\"2021-04-19 15:00:00\",\"ERROR\",\"place order [600436.SHA, invalid amount:10.973282069452736] failed\"],[\"2021-04-16 15:00:00\",\"INFO\",\"order[15:00:00][id:ee6a27,603986.SHA -266.50800674868@MARKET]\"],[\"2021-04-16 15:00:00\",\"INFO\",\"order[09:30:00][id:dbcab7,002044.SZA 616.0639092556066@MARKET]\"],[\"2021-04-16 15:00:00\",\"INFO\",\"order[09:30:00][id:0aed57,601100.SHA 153.16648675534594@MARKET]\"],[\"2021-04-16 15:00:00\",\"INFO\",\"order[09:30:00][id:b26bf5,300014.SZA 26.78636268806864@MARKET]\"],[\"2021-04-16 15:00:00\",\"INFO\",\"order[09:30:00][id:929e10,600118.SHA 54.047992829407576@MARKET]\"],[\"2021-04-16 15:00:00\",\"INFO\",\"order[09:30:00][id:4e4c2d,600588.SHA 13.31078819143827@MARKET]\"],[\"2021-04-15 15:00:00\",\"INFO\",\"order[15:00:00][id:74f8ff,600111.SHA -85.54441713880657@MARKET]\"],[\"2021-04-15 15:00:00\",\"INFO\",\"order[15:00:00][id:1e23e8,601100.SHA -410.27099557415806@MARKET]\"],[\"2021-04-15 15:00:00\",\"INFO\",\"order[15:00:00][id:f64b5b,000661.SZA -17.119557332337656@MARKET]\"],[\"2021-04-15 15:00:00\",\"INFO\",\"order[09:30:00][id:c1c4b9,300014.SZA 46.861293779939956@MARKET]\"],[\"2021-04-15 15:00:00\",\"INFO\",\"order[09:30:00][id:44f67c,600118.SHA 72.91635246420915@MARKET]\"],[\"2021-04-15 15:00:00\",\"INFO\",\"order[09:30:00][id:c0b2b5,002044.SZA 278.69355268760813@MARKET]\"],[\"2021-04-15 15:00:00\",\"INFO\",\"order[09:30:00][id:7d0baa,603986.SHA 37.13075116141836@MARKET]\"],[\"2021-04-15 15:00:00\",\"INFO\",\"order[09:30:00][id:2de675,002049.SZA 51.9992380597905@MARKET]\"],[\"2021-04-14 15:00:00\",\"INFO\",\"order[15:00:00][id:380931,000860.SZA -193.22379582709394@MARKET]\"],[\"2021-04-14 15:00:00\",\"INFO\",\"order[15:00:00][id:e53f73,002044.SZA -808.5533220166635@MARKET]\"],[\"2021-04-14 15:00:00\",\"INFO\",\"order[15:00:00][id:353406,603087.SHA -161.82951123096944@MARKET]\"],[\"2021-04-14 15:00:00\",\"INFO\",\"order[15:00:00][id:4da758,600760.SHA -113.59321085195518@MARKET]\"],[\"2021-04-14 15:00:00\",\"INFO\",\"order[09:30:00][id:f3a20f,300014.SZA 48.22215177246262@MARKET]\"],[\"2021-04-14 15:00:00\",\"INFO\",\"order[09:30:00][id:f69e0a,600118.SHA 74.88302139221031@MARKET]\"],[\"2021-04-14 15:00:00\",\"INFO\",\"order[09:30:00][id:ea7e82,600111.SHA 85.54441713880657@MARKET]\"],[\"2021-04-14 15:00:00\",\"INFO\",\"order[09:30:00][id:15c3f2,603986.SHA 37.86723254102861@MARKET]\"],[\"2021-04-14 15:00:00\",\"INFO\",\"order[09:30:00][id:e81f0f,601100.SHA 87.81308928711253@MARKET]\"],[\"2021-04-13 15:00:00\",\"INFO\",\"order[15:00:00][id:cb2dba,300529.SZA -396.50151544373756@MARKET]\"],[\"2021-04-13 15:00:00\",\"INFO\",\"order[09:30:00][id:89a6a8,002044.SZA 808.5533220166635@MARKET]\"],[\"2021-04-13 15:00:00\",\"INFO\",\"order[09:30:00][id:e623f4,000661.SZA 17.119557332337656@MARKET]\"],[\"2021-04-13 15:00:00\",\"INFO\",\"order[09:30:00][id:4918b9,601100.SHA 159.2882361446672@MARKET]\"],[\"2021-04-13 15:00:00\",\"INFO\",\"order[09:30:00][id:433821,600118.SHA 73.63135518161313@MARKET]\"],[\"2021-04-13 15:00:00\",\"INFO\",\"order[09:30:00][id:300eae,600760.SHA 113.59321085195518@MARKET]\"],[\"2021-04-12 15:00:00\",\"INFO\",\"order[15:00:00][id:c72bed,300014.SZA -56.34992379908537@MARKET]\"],[\"2021-04-12 15:00:00\",\"INFO\",\"order[15:00:00][id:753573,002821.SZA -208.32866322896794@MARKET]\"],[\"2021-04-12 15:00:00\",\"INFO\",\"order[15:00:00][id:ee4aee,600111.SHA -427.429162305891@MARKET]\"],[\"2021-04-12 15:00:00\",\"INFO\",\"order[09:30:00][id:bd57ef,603986.SHA 99.82517046523452@MARKET]\"],[\"2021-04-12 15:00:00\",\"INFO\",\"order[09:30:00][id:f10cb7,601100.SHA 163.16967014237835@MARKET]\"],[\"2021-04-12 15:00:00\",\"INFO\",\"order[09:30:00][id:db3ca9,600118.SHA 69.66507799644978@MARKET]\"],[\"2021-04-12 15:00:00\",\"ERROR\",\"place order [000661.SZA, invalid amount:9.583879754265189] failed\"],[\"2021-04-12 15:00:00\",\"INFO\",\"order[09:30:00][id:21ebc6,603087.SHA 161.82951123096944@MARKET]\"],[\"2021-04-09 15:00:00\",\"INFO\",\"order[15:00:00][id:762bca,600893.SHA -1544.8270127727249@MARKET]\"],[\"2021-04-09 15:00:00\",\"INFO\",\"order[09:30:00][id:8cdc38,300529.SZA 396.50151544373756@MARKET]\"],[\"2021-04-09 15:00:00\",\"INFO\",\"order[09:30:00][id:49ce7b,600118.SHA 81.80216887203729@MARKET]\"],[\"2021-04-09 15:00:00\",\"INFO\",\"order[09:30:00][id:203c2c,002821.SZA 56.48939003198137@MARKET]\"],[\"2021-04-09 15:00:00\",\"INFO\",\"order[09:30:00][id:99d3ad,603986.SHA 41.07316734307572@MARKET]\"],[\"2021-04-09 15:00:00\",\"INFO\",\"order[09:30:00][id:0540d0,000860.SZA 193.22379582709394@MARKET]\"],[\"2021-04-08 15:00:00\",\"INFO\",\"order[15:00:00][id:4d0cf0,601633.SHA -240.551117105952@MARKET]\"],[\"2021-04-08 15:00:00\",\"INFO\",\"order[15:00:00][id:e69ad8,600703.SHA -225.10094336779923@MARKET]\"],[\"2021-04-08 15:00:00\",\"INFO\",\"order[15:00:00][id:b8d482,002230.SZA -65.00483046646346@MARKET]\"],[\"2021-04-08 15:00:00\",\"INFO\",\"order[09:30:00][id:beb6d0,002821.SZA 151.83927319698657@MARKET]\"],[\"2021-04-08 15:00:00\",\"INFO\",\"order[09:30:00][id:401761,600118.SHA 111.07756053144512@MARKET]\"],[\"2021-04-08 15:00:00\",\"INFO\",\"order[09:30:00][id:9e5844,300014.SZA 36.17169256918822@MARKET]\"],[\"2021-04-08 15:00:00\",\"INFO\",\"order[09:30:00][id:c8deda,600893.SHA 271.09479904160816@MARKET]\"],[\"2021-04-08 15:00:00\",\"INFO\",\"order[09:30:00][id:ae00e4,603986.SHA 50.61168523792278@MARKET]\"],[\"2021-04-07 09:30:00\",\"ERROR\",\"002044.SZA\\u5c3e\\u76d8\\u8dcc\\u505c\\uff0c\\u4e0d\\u80fd\\u5356\\u51fa\"],[\"2021-04-07 15:00:00\",\"INFO\",\"order[15:00:00][id:f8f1cd,600436.SHA -91.47871888550372@MARKET]\"],[\"2021-04-07 15:00:00\",\"INFO\",\"order[15:00:00][id:08078f,002044.SZA -682.1040420171596@MARKET]\"],[\"2021-04-07 15:00:00\",\"INFO\",\"order[09:30:00][id:674476,002230.SZA 65.00483046646346@MARKET]\"],[\"2021-04-07 15:00:00\",\"INFO\",\"order[09:30:00][id:854912,300014.SZA 20.17823122989715@MARKET]\"],[\"2021-04-07 15:00:00\",\"INFO\",\"order[09:30:00][id:77a52a,600118.SHA 39.68733800728112@MARKET]\"],[\"2021-04-07 15:00:00\",\"INFO\",\"order[09:30:00][id:a3e06d,600893.SHA 120.29953935351777@MARKET]\"],[\"2021-04-07 15:00:00\",\"ERROR\",\"place order [603986.SHA, invalid amount:22.530812873762333] failed\"],[\"2021-04-06 15:00:00\",\"INFO\",\"order[15:00:00][id:8c88a0,002044.SZA -682.1040420171596@MARKET]\"],[\"2021-04-06 15:00:00\",\"INFO\",\"order[15:00:00][id:dbb01a,601888.SHA -66.18311400468993@MARKET]\"],[\"2021-04-06 15:00:00\",\"INFO\",\"order[15:00:00][id:84dcc0,002821.SZA -61.4821316016326@MARKET]\"],[\"2021-04-06 15:00:00\",\"INFO\",\"order[15:00:00][id:ccbd7a,600584.SHA -226.77641961531813@MARKET]\"],[\"2021-04-06 15:00:00\",\"INFO\",\"order[09:30:00][id:a229c9,600893.SHA 476.1366257338803@MARKET]\"],[\"2021-04-06 15:00:00\",\"INFO\",\"order[09:30:00][id:7dc2b6,600111.SHA 121.74064107959167@MARKET]\"],[\"2021-04-06 15:00:00\",\"INFO\",\"order[09:30:00][id:45e459,600118.SHA 68.88941715467246@MARKET]\"],[\"2021-04-06 15:00:00\",\"INFO\",\"order[09:30:00][id:75b481,601633.SHA 240.551117105952@MARKET]\"],[\"2021-04-06 15:00:00\",\"INFO\",\"order[09:30:00][id:081bd9,600703.SHA 51.8480061936983@MARKET]\"],[\"2021-04-02 15:00:00\",\"INFO\",\"order[15:00:00][id:9ee302,002607.SZA -256.9318113325365@MARKET]\"],[\"2021-04-02 15:00:00\",\"INFO\",\"order[15:00:00][id:47b457,000596.SZA -48.628091694628715@MARKET]\"],[\"2021-04-02 15:00:00\",\"INFO\",\"order[09:30:00][id:e8d113,600703.SHA 173.25293717410094@MARKET]\"],[\"2021-04-02 15:00:00\",\"INFO\",\"order[09:30:00][id:fab61e,600893.SHA 401.6926521325212@MARKET]\"],[\"2021-04-02 15:00:00\",\"INFO\",\"order[09:30:00][id:bed95c,601888.SHA 66.18311400468993@MARKET]\"],[\"2021-04-02 15:00:00\",\"INFO\",\"order[09:30:00][id:3cfc34,600584.SHA 226.77641961531813@MARKET]\"],[\"2021-04-02 15:00:00\",\"INFO\",\"order[09:30:00][id:299cf1,002821.SZA 61.4821316016326@MARKET]\"],[\"2021-04-01 15:00:00\",\"INFO\",\"order[15:00:00][id:872ee0,603288.SHA -63.512901321172@MARKET]\"],[\"2021-04-01 15:00:00\",\"INFO\",\"order[15:00:00][id:d11bce,002230.SZA -496.6823328000862@MARKET]\"],[\"2021-04-01 15:00:00\",\"INFO\",\"order[09:30:00][id:c2c8b8,600436.SHA 49.49509080997816@MARKET]\"],[\"2021-04-01 15:00:00\",\"INFO\",\"order[09:30:00][id:d04736,002607.SZA 256.9318113325365@MARKET]\"],[\"2021-04-01 15:00:00\",\"INFO\",\"order[09:30:00][id:f89008,600111.SHA 126.16427523800085@MARKET]\"],[\"2021-04-01 15:00:00\",\"INFO\",\"order[09:30:00][id:b01231,600893.SHA 275.60339651119756@MARKET]\"],[\"2021-04-01 15:00:00\",\"INFO\",\"order[09:30:00][id:0d033c,000596.SZA 48.628091694628715@MARKET]\"],[\"2021-03-31 15:00:00\",\"INFO\",\"order[15:00:00][id:d8c9d5,600893.SHA -235.5982838565116@MARKET]\"],[\"2021-03-31 15:00:00\",\"INFO\",\"order[15:00:00][id:9fdfb8,688012.SHA -765.2994552559875@MARKET]\"],[\"2021-03-31 15:00:00\",\"INFO\",\"order[15:00:00][id:aa5070,002129.SZA -276.8971479071668@MARKET]\"],[\"2021-03-31 15:00:00\",\"INFO\",\"order[15:00:00][id:ca5430,300014.SZA -109.1368919757902@MARKET]\"],[\"2021-03-31 15:00:00\",\"INFO\",\"order[09:30:00][id:7fd3db,002230.SZA 116.90993483510434@MARKET]\"],[\"2021-03-31 15:00:00\",\"INFO\",\"order[09:30:00][id:26e319,603288.SHA 63.512901321172@MARKET]\"],[\"2021-03-31 15:00:00\",\"INFO\",\"order[09:30:00][id:6c0434,600111.SHA 101.39302472093517@MARKET]\"],[\"2021-03-31 15:00:00\",\"INFO\",\"order[09:30:00][id:783a83,600436.SHA 17.463259104241178@MARKET]\"],[\"2021-03-31 15:00:00\",\"INFO\",\"order[09:30:00][id:9169da,002044.SZA 196.59950897684973@MARKET]\"],[\"2021-03-30 15:00:00\",\"INFO\",\"order[15:00:00][id:12eb25,603259.SHA -263.1238944960273@MARKET]\"],[\"2021-03-30 15:00:00\",\"INFO\",\"order[15:00:00][id:99733f,600760.SHA -149.6581462084708@MARKET]\"],[\"2021-03-30 15:00:00\",\"INFO\",\"order[15:00:00][id:fc2ea2,000568.SZA -4.253314865333604@MARKET]\"],[\"2021-03-30 15:00:00\",\"INFO\",\"order[15:00:00][id:c6afe9,603087.SHA -380.2030463489833@MARKET]\"],[\"2021-03-30 15:00:00\",\"INFO\",\"order[09:30:00][id:626ea1,002230.SZA 121.80064584969561@MARKET]\"],[\"2021-03-30 15:00:00\",\"INFO\",\"order[09:30:00][id:2fe3b4,300014.SZA 37.357832116513386@MARKET]\"],[\"2021-03-30 15:00:00\",\"INFO\",\"order[09:30:00][id:288b75,600893.SHA 235.5982838565116@MARKET]\"],[\"2021-03-30 15:00:00\",\"INFO\",\"order[09:30:00][id:a42f6e,002044.SZA 225.25410492072908@MARKET]\"],[\"2021-03-30 15:00:00\",\"INFO\",\"order[09:30:00][id:9216e7,600111.SHA 78.1312212673633@MARKET]\"],[\"2021-03-29 15:00:00\",\"INFO\",\"order[09:30:00][id:2d843f,002230.SZA 144.4379754571006@MARKET]\"],[\"2021-03-29 15:00:00\",\"INFO\",\"order[09:30:00][id:b606d2,300014.SZA 44.56398399415019@MARKET]\"],[\"2021-03-29 15:00:00\",\"INFO\",\"order[09:30:00][id:7f73ef,600436.SHA 24.520368971284384@MARKET]\"],[\"2021-03-29 15:00:00\",\"INFO\",\"order[09:30:00][id:ffcb61,002044.SZA 260.2504281195808@MARKET]\"],[\"2021-03-29 15:00:00\",\"ERROR\",\"place order [000661.SZA, invalid amount:10.890181659036609] failed\"],[\"2021-03-26 15:00:00\",\"INFO\",\"order[15:00:00][id:aeaf02,002044.SZA -2904.8862251069036@MARKET]\"],[\"2021-03-26 15:00:00\",\"INFO\",\"order[09:30:00][id:631037,002230.SZA 113.53377665818566@MARKET]\"],[\"2021-03-26 15:00:00\",\"INFO\",\"order[09:30:00][id:d201de,600760.SHA 149.6581462084708@MARKET]\"],[\"2021-03-26 15:00:00\",\"INFO\",\"order[09:30:00][id:fe008f,300014.SZA 27.21507586512664@MARKET]\"],[\"2021-03-26 15:00:00\",\"INFO\",\"order[09:30:00][id:9a6f7e,000568.SZA 4.253314865333604@MARKET]\"],[\"2021-03-26 15:00:00\",\"ERROR\",\"place order [000661.SZA, invalid amount:8.670914330151529] failed\"],[\"2021-03-25 15:00:00\",\"INFO\",\"order[15:00:00][id:a326cc,601100.SHA -308.01255809435594@MARKET]\"],[\"2021-03-25 15:00:00\",\"INFO\",\"order[15:00:00][id:3f8999,603288.SHA -89.44706226208484@MARKET]\"],[\"2021-03-25 15:00:00\",\"INFO\",\"order[15:00:00][id:4d0aef,603799.SHA -480.2532436928178@MARKET]\"],[\"2021-03-25 15:00:00\",\"INFO\",\"order[09:30:00][id:824a72,603259.SHA 263.1238944960273@MARKET]\"],[\"2021-03-25 15:00:00\",\"INFO\",\"order[09:30:00][id:4b6d35,688012.SHA 432.0559721562618@MARKET]\"],[\"2021-03-25 15:00:00\",\"INFO\",\"order[09:30:00][id:8b622a,002129.SZA 276.8971479071668@MARKET]\"],[\"2021-03-25 15:00:00\",\"INFO\",\"order[09:30:00][id:a60245,603087.SHA 165.53256311799967@MARKET]\"],[\"2021-03-25 15:00:00\",\"INFO\",\"order[09:30:00][id:43251e,002044.SZA 184.82045018141716@MARKET]\"],[\"2021-03-24 15:00:00\",\"INFO\",\"order[15:00:00][id:ab646f,600161.SHA -77.30425663003886@MARKET]\"],[\"2021-03-24 15:00:00\",\"INFO\",\"order[15:00:00][id:a3be20,603658.SHA -265.3112610603387@MARKET]\"],[\"2021-03-24 15:00:00\",\"INFO\",\"order[15:00:00][id:cb4b88,603501.SHA -151.23056742345022@MARKET]\"],[\"2021-03-24 15:00:00\",\"INFO\",\"order[15:00:00][id:f998ec,002129.SZA -631.087827788281@MARKET]\"],[\"2021-03-24 15:00:00\",\"INFO\",\"order[09:30:00][id:d59dbb,601100.SHA 308.01255809435594@MARKET]\"],[\"2021-03-24 15:00:00\",\"INFO\",\"order[09:30:00][id:24765d,603799.SHA 480.2532436928178@MARKET]\"],[\"2021-03-24 15:00:00\",\"INFO\",\"order[09:30:00][id:839ae4,002044.SZA 306.9701102312315@MARKET]\"],[\"2021-03-24 15:00:00\",\"INFO\",\"order[09:30:00][id:445187,603087.SHA 214.67048323098362@MARKET]\"],[\"2021-03-24 15:00:00\",\"INFO\",\"order[09:30:00][id:bbc244,688012.SHA 333.24348309972567@MARKET]\"],[\"2021-03-23 15:00:00\",\"INFO\",\"order[15:00:00][id:d7a582,600111.SHA -162.29592014383292@MARKET]\"],[\"2021-03-23 15:00:00\",\"INFO\",\"order[15:00:00][id:3fa5c2,002230.SZA -50.70049305867464@MARKET]\"],[\"2021-03-23 15:00:00\",\"INFO\",\"order[15:00:00][id:1c28f4,000768.SZA -921.2303459465631@MARKET]\"],[\"2021-03-23 15:00:00\",\"INFO\",\"order[09:30:00][id:3f5ba2,002129.SZA 631.087827788281@MARKET]\"],[\"2021-03-23 15:00:00\",\"INFO\",\"order[09:30:00][id:b0a83d,002044.SZA 338.73655832397935@MARKET]\"],[\"2021-03-23 15:00:00\",\"INFO\",\"order[09:30:00][id:ec7878,603501.SHA 151.23056742345022@MARKET]\"],[\"2021-03-23 15:00:00\",\"INFO\",\"order[09:30:00][id:49295d,600161.SHA 77.30425663003886@MARKET]\"],[\"2021-03-23 15:00:00\",\"INFO\",\"order[09:30:00][id:c922a0,603658.SHA 265.3112610603387@MARKET]\"],[\"2021-03-22 15:00:00\",\"INFO\",\"order[15:00:00][id:be65e8,002129.SZA -278.79957439049974@MARKET]\"],[\"2021-03-22 15:00:00\",\"INFO\",\"order[15:00:00][id:575c29,603259.SHA -224.4209509066827@MARKET]\"],[\"2021-03-22 15:00:00\",\"INFO\",\"order[15:00:00][id:c16e87,000860.SZA -977.7996455866157@MARKET]\"],[\"2021-03-22 15:00:00\",\"INFO\",\"order[09:30:00][id:d0f7f5,603288.SHA 89.44706226208484@MARKET]\"],[\"2021-03-22 15:00:00\",\"INFO\",\"order[09:30:00][id:79deeb,000768.SZA 188.4306104947879@MARKET]\"],[\"2021-03-22 15:00:00\",\"INFO\",\"order[09:30:00][id:070bdb,002230.SZA 50.70049305867464@MARKET]\"],[\"2021-03-22 15:00:00\",\"INFO\",\"order[09:30:00][id:622db0,002044.SZA 189.9940013044076@MARKET]\"],[\"2021-03-22 15:00:00\",\"INFO\",\"order[09:30:00][id:6dd1d1,600111.SHA 64.14225067689321@MARKET]\"],[\"2021-03-19 15:00:00\",\"INFO\",\"order[15:00:00][id:8fbbac,603087.SHA -222.03370381405392@MARKET]\"],[\"2021-03-19 15:00:00\",\"INFO\",\"order[09:30:00][id:34bca1,000768.SZA 410.40820698476165@MARKET]\"],[\"2021-03-19 15:00:00\",\"INFO\",\"order[09:30:00][id:a139bd,603259.SHA 224.4209509066827@MARKET]\"],[\"2021-03-19 15:00:00\",\"INFO\",\"order[09:30:00][id:d06686,002044.SZA 313.2333986991097@MARKET]\"],[\"2021-03-19 15:00:00\",\"INFO\",\"order[09:30:00][id:1f68ae,600111.SHA 98.15366946693969@MARKET]\"],[\"2021-03-19 15:00:00\",\"INFO\",\"order[09:30:00][id:c4990f,002129.SZA 278.79957439049974@MARKET]\"],[\"2021-03-18 15:00:00\",\"INFO\",\"order[15:00:00][id:9d0e41,603288.SHA -50.152249941358704@MARKET]\"],[\"2021-03-18 15:00:00\",\"INFO\",\"order[15:00:00][id:9b4532,300122.SZA -65.06767722302375@MARKET]\"],[\"2021-03-18 15:00:00\",\"INFO\",\"order[15:00:00][id:5e0301,600276.SHA -12.003343791079464@MARKET]\"],[\"2021-03-18 15:00:00\",\"INFO\",\"order[15:00:00][id:1ecb3f,603259.SHA -979.4024854896796@MARKET]\"],[\"2021-03-18 15:00:00\",\"INFO\",\"order[09:30:00][id:9367a8,000860.SZA 447.767331441012@MARKET]\"],[\"2021-03-18 15:00:00\",\"INFO\",\"order[09:30:00][id:f01293,603087.SHA 222.03370381405392@MARKET]\"],[\"2021-03-18 15:00:00\",\"INFO\",\"order[09:30:00][id:b994e7,000768.SZA 143.0070207258108@MARKET]\"],[\"2021-03-18 15:00:00\",\"INFO\",\"order[09:30:00][id:bf5615,002044.SZA 186.0628965681934@MARKET]\"],[\"2021-03-18 15:00:00\",\"ERROR\",\"place order [600519.SHA, invalid amount:1.564281769636933] failed\"],[\"2021-03-17 15:00:00\",\"INFO\",\"order[15:00:00][id:350cc8,600118.SHA -70.55751789357372@MARKET]\"],[\"2021-03-17 15:00:00\",\"INFO\",\"order[15:00:00][id:b7b13e,601100.SHA -158.9304033975177@MARKET]\"],[\"2021-03-17 15:00:00\",\"INFO\",\"order[15:00:00][id:64ece4,002352.SZA -179.22826462756038@MARKET]\"],[\"2021-03-17 15:00:00\",\"INFO\",\"order[09:30:00][id:030b37,603259.SHA 348.9840563841626@MARKET]\"],[\"2021-03-17 15:00:00\",\"INFO\",\"order[09:30:00][id:4016e1,600276.SHA 12.003343791079464@MARKET]\"],[\"2021-03-17 15:00:00\",\"INFO\",\"order[09:30:00][id:ff67e0,000860.SZA 326.57959949384946@MARKET]\"],[\"2021-03-17 15:00:00\",\"INFO\",\"order[09:30:00][id:ac118a,000768.SZA 179.38450774120267@MARKET]\"],[\"2021-03-17 15:00:00\",\"INFO\",\"order[09:30:00][id:a36829,002044.SZA 243.2882816123779@MARKET]\"],[\"2021-03-16 15:00:00\",\"INFO\",\"order[15:00:00][id:ddd9f7,600703.SHA -61.51578856408823@MARKET]\"],[\"2021-03-16 15:00:00\",\"INFO\",\"order[15:00:00][id:882f91,600760.SHA -127.55135008284016@MARKET]\"],[\"2021-03-16 15:00:00\",\"INFO\",\"order[15:00:00][id:65d2a9,002230.SZA -90.11374251577752@MARKET]\"],[\"2021-03-16 15:00:00\",\"INFO\",\"order[15:00:00][id:69a374,000768.SZA -843.9083019379411@MARKET]\"],[\"2021-03-16 15:00:00\",\"INFO\",\"order[09:30:00][id:c0531f,603259.SHA 279.2838306838663@MARKET]\"],[\"2021-03-16 15:00:00\",\"INFO\",\"order[09:30:00][id:c3afb3,300122.SZA 65.06767722302375@MARKET]\"],[\"2021-03-16 15:00:00\",\"INFO\",\"order[09:30:00][id:63384a,603288.SHA 50.152249941358704@MARKET]\"],[\"2021-03-16 15:00:00\",\"INFO\",\"order[09:30:00][id:49b150,002044.SZA 219.77217557962598@MARKET]\"],[\"2021-03-16 15:00:00\",\"INFO\",\"order[09:30:00][id:b55190,000860.SZA 203.4527146517543@MARKET]\"],[\"2021-03-15 15:00:00\",\"INFO\",\"order[15:00:00][id:e69e91,603087.SHA -201.05518704636825@MARKET]\"],[\"2021-03-15 15:00:00\",\"INFO\",\"order[15:00:00][id:ae27a3,000725.SZA -3149.7250565706586@MARKET]\"],[\"2021-03-15 15:00:00\",\"INFO\",\"order[09:30:00][id:e56aaa,603259.SHA 351.1345984216507@MARKET]\"],[\"2021-03-15 15:00:00\",\"INFO\",\"order[09:30:00][id:46482e,000768.SZA 259.661317022586@MARKET]\"],[\"2021-03-15 15:00:00\",\"INFO\",\"order[09:30:00][id:c4c992,601100.SHA 158.9304033975177@MARKET]\"],[\"2021-03-15 15:00:00\",\"INFO\",\"order[09:30:00][id:3bd8a0,002044.SZA 280.71971352746976@MARKET]\"],[\"2021-03-15 15:00:00\",\"INFO\",\"order[09:30:00][id:5d9b54,600703.SHA 61.51578856408823@MARKET]\"],[\"2021-03-12 15:00:00\",\"INFO\",\"order[09:30:00][id:d9e02e,000768.SZA 411.0813077924879@MARKET]\"],[\"2021-03-12 15:00:00\",\"INFO\",\"order[09:30:00][id:d6084f,002352.SZA 179.22826462756038@MARKET]\"],[\"2021-03-12 15:00:00\",\"INFO\",\"order[09:30:00][id:21d98a,002044.SZA 321.9244008070203@MARKET]\"],[\"2021-03-12 15:00:00\",\"INFO\",\"order[09:30:00][id:ab68c9,600760.SHA 127.55135008284016@MARKET]\"],[\"2021-03-12 15:00:00\",\"INFO\",\"order[09:30:00][id:5a1577,603087.SHA 201.05518704636825@MARKET]\"],[\"2021-03-11 15:00:00\",\"INFO\",\"order[09:30:00][id:204c28,000725.SZA 3149.7250565706586@MARKET]\"],[\"2021-03-11 15:00:00\",\"INFO\",\"order[09:30:00][id:7dd610,002230.SZA 90.11374251577752@MARKET]\"],[\"2021-03-11 15:00:00\",\"INFO\",\"order[09:30:00][id:b47da9,002044.SZA 319.36423827207096@MARKET]\"],[\"2021-03-11 15:00:00\",\"INFO\",\"order[09:30:00][id:f2b3bd,000768.SZA 173.16567712286718@MARKET]\"],[\"2021-03-11 15:00:00\",\"INFO\",\"order[09:30:00][id:5553a1,600118.SHA 70.55751789357372@MARKET]\"],[\"2021-03-08 09:30:00\",\"ERROR\",\"002044.SZA\\u5c3e\\u76d8\\u8dcc\\u505c\\uff0c\\u4e0d\\u80fd\\u5356\\u51fa\"],[\"2021-03-08 15:00:00\",\"INFO\",\"order[15:00:00][id:6ba0dc,601696.SHA -7374.133663195241@MARKET]\"],[\"2021-03-08 15:00:00\",\"INFO\",\"order[15:00:00][id:cbdca1,002044.SZA -1146.8251063351206@MARKET]\"],[\"2021-03-08 15:00:00\",\"INFO\",\"order[15:00:00][id:68688e,002230.SZA -245.26820855341833@MARKET]\"],[\"2021-03-08 15:00:00\",\"INFO\",\"order[15:00:00][id:8fea1f,002007.SZA -63.488308587631465@MARKET]\"],[\"2021-03-08 15:00:00\",\"INFO\",\"order[15:00:00][id:28ea99,002600.SZA -2038.7182238878413@MARKET]\"],[\"2021-03-08 15:00:00\",\"INFO\",\"order[15:00:00][id:44ca76,300529.SZA -628.7325102806501@MARKET]\"],[\"2021-03-05 15:00:00\",\"INFO\",\"order[15:00:00][id:9ad408,300413.SZA -380.3367520533867@MARKET]\"],[\"2021-03-05 15:00:00\",\"INFO\",\"order[15:00:00][id:dc4bf1,000100.SZA -2766.666270025891@MARKET]\"],[\"2021-03-05 15:00:00\",\"INFO\",\"order[15:00:00][id:164dd4,000596.SZA -82.85281304026374@MARKET]\"],[\"2021-03-05 15:00:00\",\"INFO\",\"order[15:00:00][id:b29b02,002044.SZA -1146.8251063351206@MARKET]\"],[\"2021-03-05 15:00:00\",\"INFO\",\"order[09:30:00][id:65af04,300529.SZA 628.7325102806501@MARKET]\"],[\"2021-03-05 15:00:00\",\"INFO\",\"order[09:30:00][id:b77d96,002230.SZA 95.62926624138431@MARKET]\"],[\"2021-03-05 15:00:00\",\"INFO\",\"order[09:30:00][id:524c49,002007.SZA 28.37649585257078@MARKET]\"],[\"2021-03-05 15:00:00\",\"INFO\",\"order[09:30:00][id:93b359,002600.SZA 951.4211313493724@MARKET]\"],[\"2021-03-05 15:00:00\",\"INFO\",\"order[09:30:00][id:41788e,601696.SHA 2003.5187231190712@MARKET]\"],[\"2021-03-04 15:00:00\",\"INFO\",\"order[15:00:00][id:89e2d5,000568.SZA -6.588448623508896@MARKET]\"],[\"2021-03-04 15:00:00\",\"INFO\",\"order[15:00:00][id:a1a606,601888.SHA -70.56380979825292@MARKET]\"],[\"2021-03-04 15:00:00\",\"INFO\",\"order[15:00:00][id:a53856,600436.SHA -102.42501780517279@MARKET]\"],[\"2021-03-04 15:00:00\",\"INFO\",\"order[09:30:00][id:5aa1d8,002230.SZA 149.638942312034@MARKET]\"],[\"2021-03-04 15:00:00\",\"INFO\",\"order[09:30:00][id:8b1f73,002007.SZA 35.11181273506068@MARKET]\"],[\"2021-03-04 15:00:00\",\"INFO\",\"order[09:30:00][id:4f7a94,002600.SZA 1087.2970925384689@MARKET]\"],[\"2021-03-04 15:00:00\",\"INFO\",\"order[09:30:00][id:8deb57,002044.SZA 250.77565431766484@MARKET]\"],[\"2021-03-04 15:00:00\",\"INFO\",\"order[09:30:00][id:23dee1,000100.SZA 1349.99457346573@MARKET]\"],[\"2021-03-03 15:00:00\",\"INFO\",\"order[15:00:00][id:dd9a32,300529.SZA -641.8255171910877@MARKET]\"],[\"2021-03-03 15:00:00\",\"INFO\",\"order[09:30:00][id:84cad1,600436.SHA 51.10211303593478@MARKET]\"],[\"2021-03-03 15:00:00\",\"INFO\",\"order[09:30:00][id:05aa70,000596.SZA 82.85281304026374@MARKET]\"],[\"2021-03-03 15:00:00\",\"INFO\",\"order[09:30:00][id:af3a98,601888.SHA 70.56380979825292@MARKET]\"],[\"2021-03-03 15:00:00\",\"INFO\",\"order[09:30:00][id:fd9842,002044.SZA 254.57181128570548@MARKET]\"],[\"2021-03-03 15:00:00\",\"INFO\",\"order[09:30:00][id:93331d,000100.SZA 1416.6716965601615@MARKET]\"],[\"2021-03-02 15:00:00\",\"INFO\",\"order[15:00:00][id:c28baf,601888.SHA -70.00195172734739@MARKET]\"],[\"2021-03-02 15:00:00\",\"INFO\",\"order[15:00:00][id:78d5ae,002422.SZA -277.5009341637159@MARKET]\"],[\"2021-03-02 15:00:00\",\"INFO\",\"order[09:30:00][id:64c968,600436.SHA 51.322904769238015@MARKET]\"],[\"2021-03-02 15:00:00\",\"INFO\",\"order[09:30:00][id:5050bf,002044.SZA 380.6315242419605@MARKET]\"],[\"2021-03-02 15:00:00\",\"INFO\",\"order[09:30:00][id:3a9261,000568.SZA 6.588448623508896@MARKET]\"],[\"2021-03-02 15:00:00\",\"INFO\",\"order[09:30:00][id:aad215,300413.SZA 380.3367520533867@MARKET]\"],[\"2021-03-02 15:00:00\",\"INFO\",\"order[09:30:00][id:b4dda8,601696.SHA 2046.4687190152022@MARKET]\"],[\"2021-03-01 15:00:00\",\"INFO\",\"order[09:30:00][id:26ceae,300529.SZA 641.8255171910877@MARKET]\"],[\"2021-03-01 15:00:00\",\"INFO\",\"order[09:30:00][id:03e5e1,601696.SHA 3324.1462210609675@MARKET]\"],[\"2021-03-01 15:00:00\",\"INFO\",\"order[09:30:00][id:3bd5ea,601888.SHA 70.00195172734739@MARKET]\"],[\"2021-03-01 15:00:00\",\"INFO\",\"order[09:30:00][id:e54ba6,002044.SZA 260.84611648978967@MARKET]\"],[\"2021-03-01 15:00:00\",\"INFO\",\"order[09:30:00][id:622f67,002422.SZA 277.5009341637159@MARKET]\"],[\"2021-02-26 15:00:00\",\"INFO\",\"order[15:00:00][id:54eef4,002024.SZA -509.5518340071415@MARKET]\"],[\"2021-02-25 15:00:00\",\"INFO\",\"order[15:00:00][id:8a8efe,002024.SZA -509.5518340071415@MARKET]\"],[\"2021-02-24 15:00:00\",\"INFO\",\"order[15:00:00][id:fe47e0,002024.SZA -509.5518340071415@MARKET]\"],[\"2021-02-24 15:00:00\",\"INFO\",\"order[15:00:00][id:3bcc6b,603986.SHA -329.7246403593894@MARKET]\"],[\"2021-02-24 15:00:00\",\"INFO\",\"order[15:00:00][id:da02bc,600111.SHA -128.16370127759137@MARKET]\"],[\"2021-02-24 15:00:00\",\"INFO\",\"order[15:00:00][id:a6f0ed,601888.SHA -79.42993110026596@MARKET]\"],[\"2021-02-24 15:00:00\",\"INFO\",\"order[15:00:00][id:b3fedb,002600.SZA -1032.5778787874704@MARKET]\"],[\"2021-02-24 15:00:00\",\"INFO\",\"order[15:00:00][id:034b2c,002044.SZA -196.73711396602718@MARKET]\"],[\"2021-02-23 15:00:00\",\"INFO\",\"order[15:00:00][id:450d90,600161.SHA -73.68447797596721@MARKET]\"],[\"2021-02-23 15:00:00\",\"INFO\",\"order[15:00:00][id:f949e8,600845.SHA -98.38297777701251@MARKET]\"],[\"2021-02-23 15:00:00\",\"INFO\",\"order[15:00:00][id:ba30dd,688036.SHA -155.1387747653762@MARKET]\"],[\"2021-02-23 15:00:00\",\"INFO\",\"order[15:00:00][id:3a9335,002607.SZA -320.3961598496483@MARKET]\"],[\"2021-02-23 15:00:00\",\"INFO\",\"order[09:30:00][id:dfc9da,002024.SZA 147.64748621131787@MARKET]\"],[\"2021-02-23 15:00:00\",\"INFO\",\"order[09:30:00][id:b51242,601888.SHA 79.42993110026596@MARKET]\"],[\"2021-02-23 15:00:00\",\"INFO\",\"order[09:30:00][id:c6bc1a,002600.SZA 1032.5778787874704@MARKET]\"],[\"2021-02-23 15:00:00\",\"INFO\",\"order[09:30:00][id:fb4d1e,603986.SHA 54.193373336704106@MARKET]\"],[\"2021-02-23 15:00:00\",\"INFO\",\"order[09:30:00][id:d46fe2,002044.SZA 196.73711396602718@MARKET]\"],[\"2021-02-22 15:00:00\",\"INFO\",\"order[15:00:00][id:cc093b,002044.SZA -405.97895290108795@MARKET]\"],[\"2021-02-22 15:00:00\",\"INFO\",\"order[15:00:00][id:640d21,002821.SZA -228.6170948261552@MARKET]\"],[\"2021-02-22 15:00:00\",\"INFO\",\"order[15:00:00][id:8c0803,600760.SHA -95.33766773574202@MARKET]\"],[\"2021-02-22 15:00:00\",\"INFO\",\"order[09:30:00][id:878e51,603986.SHA 94.81832662046519@MARKET]\"],[\"2021-02-22 15:00:00\",\"INFO\",\"order[09:30:00][id:2ddff3,002024.SZA 70.23303188043764@MARKET]\"],[\"2021-02-22 15:00:00\",\"INFO\",\"order[09:30:00][id:890a19,600845.SHA 98.38297777701251@MARKET]\"],[\"2021-02-22 15:00:00\",\"INFO\",\"order[09:30:00][id:84f5e9,688036.SHA 155.1387747653762@MARKET]\"],[\"2021-02-22 15:00:00\",\"ERROR\",\"place order [601888.SHA, invalid amount:36.96886749009878] failed\"],[\"2021-02-19 15:00:00\",\"INFO\",\"order[15:00:00][id:8af7ae,000723.SZA -594.8852030107353@MARKET]\"],[\"2021-02-19 15:00:00\",\"INFO\",\"order[09:30:00][id:a710c8,002607.SZA 320.3961598496483@MARKET]\"],[\"2021-02-19 15:00:00\",\"INFO\",\"order[09:30:00][id:0dbc13,002821.SZA 100.00501717342412@MARKET]\"],[\"2021-02-19 15:00:00\",\"INFO\",\"order[09:30:00][id:d70dc0,600111.SHA 128.16370127759137@MARKET]\"],[\"2021-02-19 15:00:00\",\"INFO\",\"order[09:30:00][id:ae238e,002024.SZA 67.10742651346916@MARKET]\"],[\"2021-02-19 15:00:00\",\"INFO\",\"order[09:30:00][id:bab482,600760.SHA 95.33766773574202@MARKET]\"],[\"2021-02-18 15:00:00\",\"INFO\",\"order[15:00:00][id:6915a3,300413.SZA -784.4450775055592@MARKET]\"],[\"2021-02-18 15:00:00\",\"INFO\",\"order[15:00:00][id:c77c19,600570.SHA -49.14746122070564@MARKET]\"],[\"2021-02-18 15:00:00\",\"INFO\",\"order[15:00:00][id:ffc3b5,000066.SZA -232.74599940214154@MARKET]\"],[\"2021-02-18 15:00:00\",\"INFO\",\"order[15:00:00][id:736a94,601696.SHA -1843.4164698686404@MARKET]\"],[\"2021-02-18 15:00:00\",\"INFO\",\"order[15:00:00][id:e2ecf6,300124.SZA -62.559543810401465@MARKET]\"],[\"2021-02-18 15:00:00\",\"INFO\",\"order[15:00:00][id:4d06a9,603288.SHA -41.500013711038186@MARKET]\"],[\"2021-02-18 15:00:00\",\"INFO\",\"order[15:00:00][id:23fd97,300122.SZA -41.492911827256314@MARKET]\"],[\"2021-02-18 15:00:00\",\"INFO\",\"order[09:30:00][id:4cd5a9,002821.SZA 128.6120776527311@MARKET]\"],[\"2021-02-18 15:00:00\",\"INFO\",\"order[09:30:00][id:203cc7,603986.SHA 67.10168540061102@MARKET]\"],[\"2021-02-18 15:00:00\",\"INFO\",\"order[09:30:00][id:a10738,600161.SHA 73.68447797596721@MARKET]\"],[\"2021-02-18 15:00:00\",\"INFO\",\"order[09:30:00][id:2cbab2,002024.SZA 56.5131869411977@MARKET]\"],[\"2021-02-18 15:00:00\",\"INFO\",\"order[09:30:00][id:f9be02,002044.SZA 186.8792274391677@MARKET]\"],[\"2021-02-10 15:00:00\",\"INFO\",\"order[15:00:00][id:290608,601888.SHA -109.18155907722345@MARKET]\"],[\"2021-02-10 15:00:00\",\"INFO\",\"order[15:00:00][id:6b1864,000860.SZA -393.41879546320706@MARKET]\"],[\"2021-02-10 15:00:00\",\"INFO\",\"order[15:00:00][id:28c287,000725.SZA -2760.7429091295166@MARKET]\"],[\"2021-02-10 15:00:00\",\"INFO\",\"order[09:30:00][id:344207,600570.SHA 32.09741053762362@MARKET]\"],[\"2021-02-10 15:00:00\",\"INFO\",\"order[09:30:00][id:2c4efe,603986.SHA 72.29848783661227@MARKET]\"],[\"2021-02-10 15:00:00\",\"INFO\",\"order[09:30:00][id:82e608,002024.SZA 70.46678501440802@MARKET]\"],[\"2021-02-10 15:00:00\",\"INFO\",\"order[09:30:00][id:2cf8e8,002044.SZA 219.09972546192023@MARKET]\"],[\"2021-02-10 15:00:00\",\"INFO\",\"order[09:30:00][id:da2aa7,000723.SZA 594.8852030107353@MARKET]\"],[\"2021-02-09 15:00:00\",\"INFO\",\"order[15:00:00][id:83f3a8,600600.SHA -206.39931920729975@MARKET]\"],[\"2021-02-09 15:00:00\",\"INFO\",\"order[15:00:00][id:35c587,603993.SHA -2394.654136125662@MARKET]\"],[\"2021-02-09 15:00:00\",\"INFO\",\"order[15:00:00][id:764202,300059.SZA -59.377447332002006@MARKET]\"],[\"2021-02-09 15:00:00\",\"INFO\",\"order[15:00:00][id:b91f34,002414.SZA -232.909567954855@MARKET]\"],[\"2021-02-09 15:00:00\",\"INFO\",\"order[09:30:00][id:98dc88,300124.SZA 38.55549957667953@MARKET]\"],[\"2021-02-09 15:00:00\",\"INFO\",\"order[09:30:00][id:8a55c4,600570.SHA 17.05005068308202@MARKET]\"],[\"2021-02-09 15:00:00\",\"INFO\",\"order[09:30:00][id:faec3e,300122.SZA 41.492911827256314@MARKET]\"],[\"2021-02-09 15:00:00\",\"INFO\",\"order[09:30:00][id:5a27b0,603986.SHA 41.312767164996814@MARKET]\"],[\"2021-02-09 15:00:00\",\"INFO\",\"order[09:30:00][id:383011,002024.SZA 45.397545555534975@MARKET]\"],[\"2021-02-08 15:00:00\",\"INFO\",\"order[15:00:00][id:66ad7d,002821.SZA -297.58570192890085@MARKET]\"],[\"2021-02-08 15:00:00\",\"INFO\",\"order[09:30:00][id:c1c3f4,300059.SZA 59.377447332002006@MARKET]\"],[\"2021-02-08 15:00:00\",\"INFO\",\"order[09:30:00][id:ca042f,300413.SZA 448.17659277251744@MARKET]\"],[\"2021-02-08 15:00:00\",\"INFO\",\"order[09:30:00][id:ffa9db,603993.SHA 2394.654136125662@MARKET]\"],[\"2021-02-08 15:00:00\",\"INFO\",\"order[09:30:00][id:82fb93,300124.SZA 24.004044233721938@MARKET]\"],[\"2021-02-08 15:00:00\",\"INFO\",\"order[09:30:00][id:db7b6b,603288.SHA 41.500013711038186@MARKET]\"],[\"2021-02-05 15:00:00\",\"INFO\",\"order[15:00:00][id:352a69,603986.SHA -256.9890026075478@MARKET]\"],[\"2021-02-05 15:00:00\",\"INFO\",\"order[15:00:00][id:22e356,600570.SHA -48.140823155073456@MARKET]\"],[\"2021-02-05 15:00:00\",\"INFO\",\"order[09:30:00][id:36376d,000725.SZA 2760.7429091295166@MARKET]\"],[\"2021-02-05 15:00:00\",\"INFO\",\"order[09:30:00][id:f4d8d7,002414.SZA 232.909567954855@MARKET]\"],[\"2021-02-05 15:00:00\",\"INFO\",\"order[09:30:00][id:d24909,000066.SZA 232.74599940214154@MARKET]\"],[\"2021-02-05 15:00:00\",\"INFO\",\"order[09:30:00][id:ef6a5d,601696.SHA 1843.4164698686404@MARKET]\"],[\"2021-02-05 15:00:00\",\"INFO\",\"order[09:30:00][id:5f583c,002024.SZA 52.18637189077608@MARKET]\"],[\"2021-02-04 15:00:00\",\"INFO\",\"order[15:00:00][id:f3df85,600111.SHA -112.33229286098911@MARKET]\"],[\"2021-02-04 15:00:00\",\"INFO\",\"order[15:00:00][id:55c448,603288.SHA -218.60911352424077@MARKET]\"],[\"2021-02-04 15:00:00\",\"INFO\",\"order[09:30:00][id:4607db,000860.SZA 393.41879546320706@MARKET]\"],[\"2021-02-04 15:00:00\",\"INFO\",\"order[09:30:00][id:776013,300413.SZA 336.26848473304176@MARKET]\"],[\"2021-02-04 15:00:00\",\"INFO\",\"order[09:30:00][id:d56a01,601888.SHA 51.891439072198345@MARKET]\"],[\"2021-02-04 15:00:00\",\"INFO\",\"order[09:30:00][id:1fd02d,603986.SHA 43.50215593911858@MARKET]\"],[\"2021-02-04 15:00:00\",\"INFO\",\"order[09:30:00][id:b4125d,600570.SHA 11.378221777301668@MARKET]\"],[\"2021-02-03 15:00:00\",\"INFO\",\"order[15:00:00][id:1982cb,002230.SZA -175.2164832521383@MARKET]\"],[\"2021-02-03 15:00:00\",\"INFO\",\"order[15:00:00][id:48c282,002050.SZA -91.98960352794187@MARKET]\"],[\"2021-02-03 15:00:00\",\"INFO\",\"order[15:00:00][id:df5495,300059.SZA -20.791447431091058@MARKET]\"],[\"2021-02-03 15:00:00\",\"INFO\",\"order[15:00:00][id:64e761,002129.SZA -372.7659361937658@MARKET]\"],[\"2021-02-03 15:00:00\",\"INFO\",\"order[09:30:00][id:b64c2c,600570.SHA 26.123039897180114@MARKET]\"],[\"2021-02-03 15:00:00\",\"INFO\",\"order[09:30:00][id:cabb07,600111.SHA 112.33229286098911@MARKET]\"],[\"2021-02-03 15:00:00\",\"INFO\",\"order[09:30:00][id:c5ba41,600600.SHA 206.39931920729975@MARKET]\"],[\"2021-02-03 15:00:00\",\"INFO\",\"order[09:30:00][id:2afbba,603288.SHA 31.3911366594954@MARKET]\"],[\"2021-02-03 15:00:00\",\"INFO\",\"order[09:30:00][id:46aa04,603986.SHA 36.28502946743546@MARKET]\"],[\"2021-02-02 15:00:00\",\"INFO\",\"order[15:00:00][id:288b8e,600436.SHA -94.10881912587422@MARKET]\"],[\"2021-02-02 15:00:00\",\"INFO\",\"order[09:30:00][id:69a4e1,603986.SHA 110.09994185640276@MARKET]\"],[\"2021-02-02 15:00:00\",\"INFO\",\"order[09:30:00][id:5e5918,002821.SZA 85.64012123728746@MARKET]\"],[\"2021-02-02 15:00:00\",\"INFO\",\"order[09:30:00][id:e509ca,601888.SHA 57.290120005025116@MARKET]\"],[\"2021-02-02 15:00:00\",\"INFO\",\"order[09:30:00][id:9492f6,603288.SHA 37.79221219109678@MARKET]\"],[\"2021-02-02 15:00:00\",\"INFO\",\"order[09:30:00][id:63a771,002050.SZA 91.98960352794187@MARKET]\"],[\"2021-02-01 15:00:00\",\"INFO\",\"order[15:00:00][id:21cc7e,300408.SZA -253.5155522425845@MARKET]\"],[\"2021-02-01 15:00:00\",\"INFO\",\"order[15:00:00][id:8519d7,300529.SZA -397.3273097231404@MARKET]\"],[\"2021-02-01 15:00:00\",\"INFO\",\"order[15:00:00][id:f9629b,603993.SHA -1827.6430864203155@MARKET]\"],[\"2021-02-01 15:00:00\",\"INFO\",\"order[15:00:00][id:f575b0,300413.SZA -698.9266646736186@MARKET]\"],[\"2021-02-01 15:00:00\",\"INFO\",\"order[09:30:00][id:727a75,002230.SZA 107.51217066336557@MARKET]\"],[\"2021-02-01 15:00:00\",\"INFO\",\"order[09:30:00][id:d656a1,002129.SZA 372.7659361937658@MARKET]\"],[\"2021-02-01 15:00:00\",\"INFO\",\"order[09:30:00][id:39c558,300059.SZA 20.791447431091058@MARKET]\"],[\"2021-02-01 15:00:00\",\"INFO\",\"order[09:30:00][id:17518a,002821.SZA 49.55707848546341@MARKET]\"],[\"2021-02-01 15:00:00\",\"INFO\",\"order[09:30:00][id:08b7ae,600570.SHA 10.639561480591672@MARKET]\"],[\"2021-01-29 15:00:00\",\"INFO\",\"order[09:30:00][id:eabeed,300413.SZA 698.9266646736186@MARKET]\"],[\"2021-01-29 15:00:00\",\"INFO\",\"order[09:30:00][id:586f05,300529.SZA 397.3273097231404@MARKET]\"],[\"2021-01-29 15:00:00\",\"INFO\",\"order[09:30:00][id:df05e9,603288.SHA 52.13500792755271@MARKET]\"],[\"2021-01-29 15:00:00\",\"INFO\",\"order[09:30:00][id:e0cde9,300408.SZA 253.5155522425845@MARKET]\"],[\"2021-01-29 15:00:00\",\"INFO\",\"order[09:30:00][id:18b3c6,603993.SHA 1827.6430864203155@MARKET]\"],[\"2021-01-28 15:00:00\",\"INFO\",\"order[15:00:00][id:e41449,002044.SZA -620.3072080146262@MARKET]\"],[\"2021-01-28 15:00:00\",\"INFO\",\"order[15:00:00][id:6c90fa,002049.SZA -120.38742671407276@MARKET]\"],[\"2021-01-28 15:00:00\",\"INFO\",\"order[15:00:00][id:749388,002024.SZA -557.465895590727@MARKET]\"],[\"2021-01-28 15:00:00\",\"INFO\",\"order[09:30:00][id:ab7481,002821.SZA 162.38850220614995@MARKET]\"],[\"2021-01-28 15:00:00\",\"INFO\",\"order[09:30:00][id:16e0ca,603288.SHA 66.24173910083064@MARKET]\"],[\"2021-01-28 15:00:00\",\"INFO\",\"order[09:30:00][id:ec4a8c,603986.SHA 67.10187534459097@MARKET]\"],[\"2021-01-28 15:00:00\",\"INFO\",\"order[09:30:00][id:d45681,002230.SZA 67.70431258877274@MARKET]\"],[\"2021-01-28 15:00:00\",\"INFO\",\"order[09:30:00][id:290720,600436.SHA 20.29217987047026@MARKET]\"],[\"2021-01-27 15:00:00\",\"INFO\",\"order[15:00:00][id:1003bd,600600.SHA -392.3830851961109@MARKET]\"],[\"2021-01-27 15:00:00\",\"INFO\",\"order[15:00:00][id:fde771,600111.SHA -116.41066574587907@MARKET]\"],[\"2021-01-27 15:00:00\",\"INFO\",\"order[15:00:00][id:6b28af,002607.SZA -583.9379687909012@MARKET]\"],[\"2021-01-27 15:00:00\",\"INFO\",\"order[09:30:00][id:894f4f,002049.SZA 120.38742671407276@MARKET]\"],[\"2021-01-27 15:00:00\",\"INFO\",\"order[09:30:00][id:c4263d,600436.SHA 22.232832062779572@MARKET]\"],[\"2021-01-27 15:00:00\",\"INFO\",\"order[09:30:00][id:767833,002024.SZA 54.5981476155868@MARKET]\"],[\"2021-01-27 15:00:00\",\"INFO\",\"order[09:30:00][id:89dbc4,603288.SHA 31.04901764526526@MARKET]\"],[\"2021-01-27 15:00:00\",\"ERROR\",\"place order [600519.SHA, invalid amount:1.7026109717158928] failed\"],[\"2021-01-26 15:00:00\",\"INFO\",\"order[15:00:00][id:6b9a09,002600.SZA -827.5187061248141@MARKET]\"],[\"2021-01-26 15:00:00\",\"INFO\",\"order[09:30:00][id:6a7db1,600436.SHA 51.583807192624384@MARKET]\"],[\"2021-01-26 15:00:00\",\"INFO\",\"order[09:30:00][id:8ee2cd,002024.SZA 101.42312548236207@MARKET]\"],[\"2021-01-26 15:00:00\",\"INFO\",\"order[09:30:00][id:d86f07,002607.SZA 164.34419863432137@MARKET]\"],[\"2021-01-26 15:00:00\",\"INFO\",\"order[09:30:00][id:8058ce,600111.SHA 116.41066574587907@MARKET]\"],[\"2021-01-26 15:00:00\",\"INFO\",\"order[09:30:00][id:9dfe80,002044.SZA 276.08703399810753@MARKET]\"],[\"2021-01-25 15:00:00\",\"INFO\",\"order[15:00:00][id:f99a0e,002049.SZA -145.33658359642075@MARKET]\"],[\"2021-01-25 15:00:00\",\"INFO\",\"order[15:00:00][id:3060f3,000858.SZA -6.447881248527043@MARKET]\"],[\"2021-01-25 15:00:00\",\"INFO\",\"order[15:00:00][id:3700c6,603087.SHA -154.84975645429856@MARKET]\"],[\"2021-01-25 15:00:00\",\"INFO\",\"order[15:00:00][id:f6b4c9,603288.SHA -269.6551146790176@MARKET]\"],[\"2021-01-25 15:00:00\",\"INFO\",\"order[09:30:00][id:7e8514,002024.SZA 163.78803841756053@MARKET]\"],[\"2021-01-25 15:00:00\",\"INFO\",\"order[09:30:00][id:7d2fa9,600600.SHA 392.3830851961109@MARKET]\"],[\"2021-01-25 15:00:00\",\"INFO\",\"order[09:30:00][id:a8adf8,002044.SZA 344.2201740165186@MARKET]\"],[\"2021-01-25 15:00:00\",\"INFO\",\"order[09:30:00][id:902f9b,002607.SZA 139.19482597081367@MARKET]\"],[\"2021-01-25 15:00:00\",\"INFO\",\"order[09:30:00][id:e95266,002600.SZA 827.5187061248141@MARKET]\"],[\"2021-01-22 15:00:00\",\"INFO\",\"order[15:00:00][id:fedb81,002044.SZA -625.7032253986836@MARKET]\"],[\"2021-01-22 15:00:00\",\"INFO\",\"order[15:00:00][id:da39b0,600760.SHA -88.4965118949798@MARKET]\"],[\"2021-01-22 15:00:00\",\"INFO\",\"order[15:00:00][id:e8c37c,600436.SHA -104.92920820534378@MARKET]\"],[\"2021-01-22 15:00:00\",\"INFO\",\"order[09:30:00][id:e8f2f3,002607.SZA 280.39894418576614@MARKET]\"],[\"2021-01-22 15:00:00\",\"INFO\",\"order[09:30:00][id:4662a0,603288.SHA 56.82303010995726@MARKET]\"],[\"2021-01-22 15:00:00\",\"INFO\",\"order[09:30:00][id:46f81f,002024.SZA 66.90768118910161@MARKET]\"],[\"2021-01-22 15:00:00\",\"INFO\",\"order[09:30:00][id:af490d,603087.SHA 154.84975645429856@MARKET]\"],[\"2021-01-22 15:00:00\",\"INFO\",\"order[09:30:00][id:f1c20d,000858.SZA 6.447881248527043@MARKET]\"],[\"2021-01-21 15:00:00\",\"INFO\",\"order[15:00:00][id:8df54d,002352.SZA -100.48027499654853@MARKET]\"],[\"2021-01-21 15:00:00\",\"INFO\",\"order[15:00:00][id:9ed966,002230.SZA -66.9754431826918@MARKET]\"],[\"2021-01-21 15:00:00\",\"INFO\",\"order[09:30:00][id:e52e85,600436.SHA 51.113635540278125@MARKET]\"],[\"2021-01-21 15:00:00\",\"INFO\",\"order[09:30:00][id:c1f4d3,603288.SHA 65.43994959091188@MARKET]\"],[\"2021-01-21 15:00:00\",\"INFO\",\"order[09:30:00][id:df75f0,002024.SZA 75.92740001609825@MARKET]\"],[\"2021-01-21 15:00:00\",\"INFO\",\"order[09:30:00][id:8724c9,002044.SZA 330.18642439936036@MARKET]\"],[\"2021-01-21 15:00:00\",\"ERROR\",\"place order [600519.SHA, invalid amount:2.514358055390001] failed\"],[\"2021-01-20 15:00:00\",\"INFO\",\"order[09:30:00][id:f3b120,603288.SHA 103.77977825479324@MARKET]\"],[\"2021-01-20 15:00:00\",\"INFO\",\"order[09:30:00][id:63de34,002024.SZA 94.82150287001775@MARKET]\"],[\"2021-01-20 15:00:00\",\"INFO\",\"order[09:30:00][id:771b5f,600436.SHA 25.70643205642605@MARKET]\"],[\"2021-01-20 15:00:00\",\"INFO\",\"order[09:30:00][id:03a4f0,002230.SZA 66.9754431826918@MARKET]\"],[\"2021-01-20 15:00:00\",\"INFO\",\"order[09:30:00][id:790545,002044.SZA 295.51680099932315@MARKET]\"],[\"2021-01-19 15:00:00\",\"INFO\",\"order[15:00:00][id:4ddc91,688008.SHA -629.0682758050274@MARKET]\"],[\"2021-01-19 15:00:00\",\"INFO\",\"order[15:00:00][id:2b1afc,300033.SZA -25.722764305481306@MARKET]\"],[\"2021-01-19 15:00:00\",\"INFO\",\"order[15:00:00][id:a6901e,002044.SZA -253.22422586359292@MARKET]\"],[\"2021-01-19 15:00:00\",\"INFO\",\"order[15:00:00][id:ffe6d1,600845.SHA -73.27770823241181@MARKET]\"],[\"2021-01-19 15:00:00\",\"INFO\",\"order[15:00:00][id:90eb0c,002024.SZA -878.9665789715114@MARKET]\"],[\"2021-01-19 15:00:00\",\"INFO\",\"order[09:30:00][id:995bb4,002049.SZA 145.33658359642075@MARKET]\"],[\"2021-01-19 15:00:00\",\"INFO\",\"order[09:30:00][id:6fb32d,600436.SHA 28.109140608639606@MARKET]\"],[\"2021-01-19 15:00:00\",\"INFO\",\"order[09:30:00][id:e5bb55,603288.SHA 43.612356723355184@MARKET]\"],[\"2021-01-19 15:00:00\",\"INFO\",\"order[09:30:00][id:2aad5b,600760.SHA 88.4965118949798@MARKET]\"],[\"2021-01-19 15:00:00\",\"INFO\",\"order[09:30:00][id:11addc,002352.SZA 100.48027499654853@MARKET]\"],[\"2021-01-18 15:00:00\",\"INFO\",\"order[15:00:00][id:ae6e28,300413.SZA -306.47661690030213@MARKET]\"],[\"2021-01-18 15:00:00\",\"INFO\",\"order[15:00:00][id:380350,600161.SHA -71.29720537678381@MARKET]\"],[\"2021-01-18 15:00:00\",\"INFO\",\"order[15:00:00][id:ed07ff,600436.SHA -33.664879212821496@MARKET]\"],[\"2021-01-18 15:00:00\",\"INFO\",\"order[15:00:00][id:cd2576,002049.SZA -175.94739344374955@MARKET]\"],[\"2021-01-18 15:00:00\",\"INFO\",\"order[09:30:00][id:6d26c3,002024.SZA 104.06127026838428@MARKET]\"],[\"2021-01-18 15:00:00\",\"INFO\",\"order[09:30:00][id:3df488,688008.SHA 433.88690935192415@MARKET]\"],[\"2021-01-18 15:00:00\",\"INFO\",\"order[09:30:00][id:d42e78,002044.SZA 253.22422586359292@MARKET]\"],[\"2021-01-18 15:00:00\",\"INFO\",\"order[09:30:00][id:2a69cb,300033.SZA 25.722764305481306@MARKET]\"],[\"2021-01-18 15:00:00\",\"INFO\",\"order[09:30:00][id:91aef6,600845.SHA 73.27770823241181@MARKET]\"],[\"2021-01-15 15:00:00\",\"INFO\",\"order[15:00:00][id:53787c,600600.SHA -136.7502684237005@MARKET]\"],[\"2021-01-15 15:00:00\",\"INFO\",\"order[15:00:00][id:32939e,002027.SZA -200.07502665064777@MARKET]\"],[\"2021-01-15 15:00:00\",\"INFO\",\"order[15:00:00][id:636c64,002384.SZA -246.38744038058053@MARKET]\"],[\"2021-01-15 15:00:00\",\"INFO\",\"order[15:00:00][id:5c2b83,300142.SZA -57.849195996291876@MARKET]\"],[\"2021-01-15 15:00:00\",\"INFO\",\"order[15:00:00][id:bfa870,002044.SZA -134.178066585128@MARKET]\"],[\"2021-01-15 15:00:00\",\"INFO\",\"order[09:30:00][id:b7ae9b,002049.SZA 175.94739344374955@MARKET]\"],[\"2021-01-15 15:00:00\",\"INFO\",\"order[09:30:00][id:e4ebee,600436.SHA 33.664879212821496@MARKET]\"],[\"2021-01-15 15:00:00\",\"INFO\",\"order[09:30:00][id:b45748,002024.SZA 74.98617987877624@MARKET]\"],[\"2021-01-15 15:00:00\",\"INFO\",\"order[09:30:00][id:91d8bc,300413.SZA 306.47661690030213@MARKET]\"],[\"2021-01-15 15:00:00\",\"INFO\",\"order[09:30:00][id:c68c4c,600161.SHA 71.29720537678381@MARKET]\"],[\"2021-01-14 09:30:00\",\"ERROR\",\"601633.SHA\\u5c3e\\u76d8\\u8dcc\\u505c\\uff0c\\u4e0d\\u80fd\\u5356\\u51fa\"],[\"2021-01-14 15:00:00\",\"INFO\",\"order[15:00:00][id:0b3e14,002821.SZA -419.7093205387446@MARKET]\"],[\"2021-01-14 15:00:00\",\"INFO\",\"order[15:00:00][id:c103d0,601633.SHA -469.17510533501894@MARKET]\"],[\"2021-01-14 15:00:00\",\"INFO\",\"order[15:00:00][id:9b0bba,603087.SHA -134.51303923567093@MARKET]\"],[\"2021-01-14 15:00:00\",\"INFO\",\"order[09:30:00][id:3ce8cc,002024.SZA 67.782904111805@MARKET]\"],[\"2021-01-14 15:00:00\",\"INFO\",\"order[09:30:00][id:194c43,002027.SZA 200.07502665064777@MARKET]\"],[\"2021-01-14 15:00:00\",\"INFO\",\"order[09:30:00][id:dbe310,600600.SHA 136.7502684237005@MARKET]\"],[\"2021-01-14 15:00:00\",\"INFO\",\"order[09:30:00][id:9c475a,688008.SHA 195.1813664531032@MARKET]\"],[\"2021-01-14 15:00:00\",\"INFO\",\"order[09:30:00][id:90b8a0,002044.SZA 134.178066585128@MARKET]\"],[\"2021-01-13 15:00:00\",\"INFO\",\"order[15:00:00][id:45b363,000100.SZA -1214.4477082700535@MARKET]\"],[\"2021-01-13 15:00:00\",\"INFO\",\"order[15:00:00][id:0d7eff,600276.SHA -16.405546880761676@MARKET]\"],[\"2021-01-13 15:00:00\",\"INFO\",\"order[15:00:00][id:d5a543,601633.SHA -469.17510533501894@MARKET]\"],[\"2021-01-13 15:00:00\",\"INFO\",\"order[09:30:00][id:dcbf1c,002024.SZA 114.6905260698152@MARKET]\"],[\"2021-01-13 15:00:00\",\"INFO\",\"order[09:30:00][id:9448be,002384.SZA 246.38744038058053@MARKET]\"],[\"2021-01-13 15:00:00\",\"INFO\",\"order[09:30:00][id:ed917d,002821.SZA 62.92491182292362@MARKET]\"],[\"2021-01-13 15:00:00\",\"INFO\",\"order[09:30:00][id:d36614,603087.SHA 134.51303923567093@MARKET]\"],[\"2021-01-13 15:00:00\",\"INFO\",\"order[09:30:00][id:990112,300142.SZA 57.849195996291876@MARKET]\"],[\"2021-01-12 15:00:00\",\"INFO\",\"order[15:00:00][id:828dd0,002384.SZA -174.85406948894098@MARKET]\"],[\"2021-01-12 15:00:00\",\"INFO\",\"order[15:00:00][id:e13eff,002027.SZA -303.36426994978495@MARKET]\"],[\"2021-01-12 15:00:00\",\"INFO\",\"order[15:00:00][id:6b360a,002352.SZA -212.5287420949056@MARKET]\"],[\"2021-01-12 15:00:00\",\"INFO\",\"order[15:00:00][id:b12752,002241.SZA -27.44296121329406@MARKET]\"],[\"2021-01-12 15:00:00\",\"INFO\",\"order[15:00:00][id:f88c02,300122.SZA -41.64706971275608@MARKET]\"],[\"2021-01-12 15:00:00\",\"INFO\",\"order[15:00:00][id:e9ddc3,300529.SZA -187.5195038012954@MARKET]\"],[\"2021-01-12 15:00:00\",\"INFO\",\"order[09:30:00][id:a0d9e7,601633.SHA 469.17510533501894@MARKET]\"],[\"2021-01-12 15:00:00\",\"INFO\",\"order[09:30:00][id:f1bcdf,002024.SZA 82.36585192079195@MARKET]\"],[\"2021-01-12 15:00:00\",\"INFO\",\"order[09:30:00][id:0531f7,002821.SZA 69.57824489914138@MARKET]\"],[\"2021-01-12 15:00:00\",\"INFO\",\"order[09:30:00][id:2eee23,600276.SHA 6.050047987589984@MARKET]\"],[\"2021-01-12 15:00:00\",\"INFO\",\"order[09:30:00][id:cf661c,000100.SZA 1214.4477082700535@MARKET]\"],[\"2021-01-11 15:00:00\",\"INFO\",\"order[15:00:00][id:be4346,603288.SHA -116.66965305173102@MARKET]\"],[\"2021-01-11 15:00:00\",\"INFO\",\"order[15:00:00][id:f26921,600436.SHA -15.954295181402795@MARKET]\"],[\"2021-01-11 15:00:00\",\"INFO\",\"order[15:00:00][id:df914f,603501.SHA -169.0439547985527@MARKET]\"],[\"2021-01-11 15:00:00\",\"INFO\",\"order[15:00:00][id:c48122,601816.SHA -4685.4089705970255@MARKET]\"],[\"2021-01-11 15:00:00\",\"INFO\",\"order[09:30:00][id:986d43,002821.SZA 108.99095572697742@MARKET]\"],[\"2021-01-11 15:00:00\",\"INFO\",\"order[09:30:00][id:e9258d,002024.SZA 64.9137705240579@MARKET]\"],[\"2021-01-11 15:00:00\",\"INFO\",\"order[09:30:00][id:e688bd,002352.SZA 105.73119351936322@MARKET]\"],[\"2021-01-11 15:00:00\",\"ERROR\",\"place order [600519.SHA, invalid amount:1.872187674130422] failed\"],[\"2021-01-11 15:00:00\",\"INFO\",\"order[09:30:00][id:75235c,002241.SZA 27.44296121329406@MARKET]\"],[\"2021-01-08 15:00:00\",\"INFO\",\"order[15:00:00][id:94f757,600161.SHA -54.405752731701334@MARKET]\"],[\"2021-01-08 15:00:00\",\"INFO\",\"order[09:30:00][id:90e56c,002024.SZA 101.47625638313819@MARKET]\"],[\"2021-01-08 15:00:00\",\"INFO\",\"order[09:30:00][id:21acc8,002027.SZA 303.36426994978495@MARKET]\"],[\"2021-01-08 15:00:00\",\"INFO\",\"order[09:30:00][id:1b08b3,002352.SZA 106.79754857554238@MARKET]\"],[\"2021-01-08 15:00:00\",\"ERROR\",\"place order [600519.SHA, invalid amount:1.8924350693957648] failed\"],[\"2021-01-08 15:00:00\",\"INFO\",\"order[09:30:00][id:e6725d,601816.SHA 4685.4089705970255@MARKET]\"],[\"2021-01-07 15:00:00\",\"INFO\",\"order[15:00:00][id:6d2124,600570.SHA -36.58506842382565@MARKET]\"],[\"2021-01-07 15:00:00\",\"INFO\",\"order[09:30:00][id:d25edf,002821.SZA 108.47282645924571@MARKET]\"],[\"2021-01-07 15:00:00\",\"INFO\",\"order[09:30:00][id:7df56e,002024.SZA 65.45188543438722@MARKET]\"],[\"2021-01-07 15:00:00\",\"INFO\",\"order[09:30:00][id:1a048f,600276.SHA 5.5303960137679935@MARKET]\"],[\"2021-01-07 15:00:00\",\"INFO\",\"order[09:30:00][id:572d7d,300529.SZA 187.5195038012954@MARKET]\"],[\"2021-01-07 15:00:00\",\"INFO\",\"order[09:30:00][id:81b89e,300122.SZA 41.64706971275608@MARKET]\"],[\"2021-01-06 15:00:00\",\"INFO\",\"order[09:30:00][id:94b477,002024.SZA 101.85184056311891@MARKET]\"],[\"2021-01-06 15:00:00\",\"INFO\",\"order[09:30:00][id:94897a,002821.SZA 69.74238163045644@MARKET]\"],[\"2021-01-06 15:00:00\",\"INFO\",\"order[09:30:00][id:22ba42,002384.SZA 174.85406948894098@MARKET]\"],[\"2021-01-06 15:00:00\",\"INFO\",\"order[09:30:00][id:b47152,600276.SHA 4.8251028794037@MARKET]\"],[\"2021-01-06 15:00:00\",\"INFO\",\"order[09:30:00][id:83ce51,600570.SHA 10.432058619076281@MARKET]\"],[\"2021-01-05 15:00:00\",\"INFO\",\"order[09:30:00][id:94c0bd,603288.SHA 71.55277885317932@MARKET]\"],[\"2021-01-05 15:00:00\",\"INFO\",\"order[09:30:00][id:fa110f,603501.SHA 169.0439547985527@MARKET]\"],[\"2021-01-05 15:00:00\",\"INFO\",\"order[09:30:00][id:a0c724,002024.SZA 51.03507545796728@MARKET]\"],[\"2021-01-05 15:00:00\",\"INFO\",\"order[09:30:00][id:ef8814,600161.SHA 54.405752731701334@MARKET]\"],[\"2021-01-05 15:00:00\",\"ERROR\",\"place order [002821.SZA, invalid amount:42.780604047519354] failed\"],[\"2021-01-04 15:00:00\",\"INFO\",\"order[09:30:00][id:0257fe,600570.SHA 26.15300980474937@MARKET]\"],[\"2021-01-04 15:00:00\",\"INFO\",\"order[09:30:00][id:e50ef4,603288.SHA 45.116874198551706@MARKET]\"],[\"2021-01-04 15:00:00\",\"INFO\",\"order[09:30:00][id:876f6c,002024.SZA 50.351018359269155@MARKET]\"],[\"2021-01-04 15:00:00\",\"INFO\",\"order[09:30:00][id:7b2eb8,600436.SHA 15.954295181402795@MARKET]\"],[\"2021-01-04 15:00:00\",\"ERROR\",\"place order [002821.SZA, invalid amount:43.40909510544389] failed\"]],\"columns\":[{\"title\":\"\\u65f6\\u95f4\",\"orderable\":false},{\"title\":\"\\u7ea7\\u522b\",\"orderable\":false},{\"title\":\"\\u5185\\u5bb9\",\"orderable\":false}],\"searching\":false,\"info\":false,\"pageLength\":20,\"lengthChange\":false,\"order\":[],\"__type\":\"datatable\",\"__id\":\"bigchart-bee9f88a8c1a45b0b55cd9ac34e9f6e2\",\"language\":{\"sProcessing\":\"\\u5904\\u7406\\u4e2d...\",\"sLengthMenu\":\"\\u663e\\u793a _MENU_ \\u9879\\u7ed3\\u679c\",\"sZeroRecords\":\"\\u6ca1\\u6709\\u5339\\u914d\\u7ed3\\u679c\",\"sInfo\":\"\\u663e\\u793a\\u7b2c _START_ \\u81f3 _END_ \\u9879\\u7ed3\\u679c\\uff0c\\u5171 _TOTAL_ \\u9879\",\"sInfoEmpty\":\"\\u663e\\u793a\\u7b2c 0 \\u81f3 0 \\u9879\\u7ed3\\u679c\\uff0c\\u5171 0 \\u9879\",\"sInfoFiltered\":\"(\\u7531 _MAX_ \\u9879\\u7ed3\\u679c\\u8fc7\\u6ee4)\",\"sInfoPostFix\":\"\",\"sSearch\":\"\\u641c\\u7d22:\",\"sUrl\":\"\",\"sEmptyTable\":\"\\u8868\\u4e2d\\u6570\\u636e\\u4e3a\\u7a7a\",\"sLoadingRecords\":\"\\u8f7d\\u5165\\u4e2d...\",\"sInfoThousands\":\",\",\"oPaginate\":{\"sFirst\":\"\\u9996\\u9875\",\"sPrevious\":\"\\u4e0a\\u9875\",\"sNext\":\"\\u4e0b\\u9875\",\"sLast\":\"\\u672b\\u9875\"}},\"hasWholeData\":true}/bigcharts-data-end</pre></div></div></div></div><div class='bigchart-data'><pre style='display:none'>bigcharts-data-start/{\"__type\":\"tabs\",\"__id\":\"bigchart-9f01dfdb3c494f6e8ef7dce72bbb834d\"}/bigcharts-data-end</pre></div>"
      ],
      "text/plain": [
       "<IPython.core.display.HTML object>"
      ]
     },
     "metadata": {},
     "output_type": "display_data"
    },
    {
     "data": {
      "text/plain": [
       "[2021-12-10 12:06:19.616583] INFO: moduleinvoker: backtest.v8 运行完成[35.011462s]."
      ]
     },
     "metadata": {
      "is_log": true,
      "status": "INFO"
     },
     "output_type": "display_data"
    },
    {
     "data": {
      "text/plain": [
       "[2021-12-10 12:06:19.618687] INFO: moduleinvoker: trade.v4 运行完成[35.18414s]."
      ]
     },
     "metadata": {
      "is_log": true,
      "status": "INFO"
     },
     "output_type": "display_data"
    }
   ],
   "source": [
    "# 本代码由可视化策略环境自动生成 2021年12月10日 13:23\n",
    "# 本代码单元只能在可视化模式下编辑。您也可以拷贝代码，粘贴到新建的代码单元或者策略，然后修改。\n",
    "\n",
    "\n",
    "# 回测引擎：初始化函数，只执行一次\n",
    "def m4_initialize_bigquant_run(context):\n",
    "    # 加载预测数据\n",
    "    context.ranker_prediction = context.options['data'].read_df()\n",
    "\n",
    "    # 系统已经设置了默认的交易手续费和滑点，要修改手续费可使用如下函数\n",
    "    context.set_commission(PerOrder(buy_cost=0.0003, sell_cost=0.0013, min_cost=5))\n",
    "    # 预测数据，通过options传入进来，使用 read_df 函数，加载到内存 (DataFrame)\n",
    "    # 设置买入的股票数量，这里买入预测股票列表排名靠前的5只\n",
    "    stock_count = 5\n",
    "    # 每只的股票的权重，如下的权重分配会使得靠前的股票分配多一点的资金，[0.339160, 0.213986, 0.169580, ..]\n",
    "    context.stock_weights = T.norm([1 / math.log(i + 2) for i in range(0, stock_count)])\n",
    "    # 设置每只股票占用的最大资金比例\n",
    "    context.max_cash_per_instrument = 0.6\n",
    "    context.options['hold_days'] = 5\n",
    "\n",
    "    from zipline.finance.slippage import SlippageModel\n",
    "    class FixedPriceSlippage(SlippageModel):\n",
    "        def process_order(self, data, order, bar_volume=0, trigger_check_price=0):\n",
    "            if order.limit is None:\n",
    "                price_field = self._price_field_buy if order.amount > 0 else self._price_field_sell\n",
    "                price = data.current(order.asset, price_field)\n",
    "            else:\n",
    "                price = data.current(order.asset, self._price_field_buy)\n",
    "            # 返回希望成交的价格和数量\n",
    "            return (price, order.amount)\n",
    "    # 设置price_field,默认是开盘买入，收盘卖出\n",
    "    context.fix_slippage = FixedPriceSlippage(price_field_buy='open', price_field_sell='close')\n",
    "    context.set_slippage(us_equities=context.fix_slippage)\n",
    "# 回测引擎：每日数据处理函数，每天执行一次\n",
    "def m4_handle_data_bigquant_run(context, data):\n",
    "    # 获取当前持仓\n",
    "    positions = {e.symbol: p.amount * p.last_sale_price\n",
    "                 for e, p in context.portfolio.positions.items()}\n",
    "    print(f'****** \\n \\n 获取当前持仓:{positions}')\n",
    "\n",
    "    today = data.current_dt.strftime('%Y-%m-%d')\n",
    "    # 按日期过滤得到今日的预测数据\n",
    "    ranker_prediction = context.ranker_prediction[context.ranker_prediction.date == today]\n",
    "\n",
    "    # 大盘风控模块，读取风控数据\n",
    "    benckmark_risk = ranker_prediction['bm_0'].values[0]\n",
    "\n",
    "    # 当risk为1时，市场有风险，全部平仓，不再执行其它操作\n",
    "    if benckmark_risk > 0:\n",
    "        for instrument in positions.keys():\n",
    "            context.order_target(context.symbol(instrument), 0)\n",
    "        print(today, '大盘风控止损触发,全仓卖出')\n",
    "        return\n",
    "\n",
    "    # 1. 资金分配\n",
    "    # 平均持仓时间是hold_days，每日都将买入股票，每日预期使用 1/hold_days 的资金\n",
    "    # 实际操作中，会存在一定的买入误差，所以在前hold_days天，等量使用资金；之后，尽量使用剩余资金（这里设置最多用等量的1.5倍）\n",
    "    # print(f'交易日计数{context.trading_day_index}，账户信息：{context.portfolio}')\n",
    "    is_staging = context.trading_day_index < context.options['hold_days']  # 是否在建仓期间（前 hold_days 天）\n",
    "    cash_avg = context.portfolio.portfolio_value / context.options['hold_days']  # 持仓期平均价值\n",
    "    cash_for_buy = min(context.portfolio.cash, (1 if is_staging else 1.5) * cash_avg)  #\n",
    "    cash_for_sell = cash_avg - (context.portfolio.cash - cash_for_buy)  # 持仓应卖资金\n",
    "    print(f'买入资金预算{cash_avg}, 实际可用现金{cash_for_buy}，卖出后可得到得到现金{cash_for_sell}')\n",
    "\n",
    "    # 2. 根据需要加入移动止赢止损模块、固定天数卖出模块\n",
    "    stock_sold = []  # 记录卖出的股票，防止多次卖出出现空单\n",
    "\n",
    "    # ------------------------START:止赢止损模块(含建仓期)---------------\n",
    "    current_stopwin_stock = []\n",
    "    current_stoploss_stock = []\n",
    "    positions_cost = {e.symbol: p.cost_basis for e, p in context.portfolio.positions.items()}\n",
    "    if len(positions) > 0:\n",
    "        for instrument in positions.keys():\n",
    "            stock_cost = positions_cost[instrument]\n",
    "            stock_market_price = data.current(context.symbol(instrument), 'price')\n",
    "            # 赚9%且为可交易状态就止盈\n",
    "            if stock_market_price / stock_cost - 1 >= 0.09 and data.can_trade(context.symbol(instrument)):\n",
    "                context.order_target_percent(context.symbol(instrument), 0)\n",
    "                cash_for_sell -= positions[instrument]\n",
    "                current_stopwin_stock.append(instrument)\n",
    "            # 亏5%并且为可交易状态就止损\n",
    "            if stock_market_price / stock_cost - 1 <= -0.05 and data.can_trade(context.symbol(instrument)):\n",
    "                context.order_target_percent(context.symbol(instrument), 0)\n",
    "                cash_for_sell -= positions[instrument]\n",
    "                current_stoploss_stock.append(instrument)\n",
    "        if len(current_stopwin_stock) > 0:\n",
    "            print(today, '止盈股票列表', current_stopwin_stock)\n",
    "            stock_sold += current_stopwin_stock\n",
    "        if len(current_stoploss_stock) > 0:\n",
    "            print(today, '止损股票列表', current_stoploss_stock)\n",
    "            stock_sold += current_stoploss_stock\n",
    "    # --------------------------END: 止赢止损模块--------------------------\n",
    "\n",
    "    # --------------------------START：持有固定天数卖出(不含建仓期)-----------\n",
    "    current_stopdays_stock = []\n",
    "    positions_lastdate = {e.symbol: p.last_sale_date for e, p in context.portfolio.positions.items()}\n",
    "    # 不是建仓期（在前hold_days属于建仓期）\n",
    "    if not is_staging:\n",
    "        for instrument in positions.keys():\n",
    "            # 如果上面的止盈止损已经卖出过了，就不要重复卖出以防止产生空单\n",
    "            if instrument in stock_sold:\n",
    "                continue\n",
    "            # 今天和上次交易的时间相隔hold_days就全部卖出 datetime.timedelta(context.options['hold_days'])也可以换成自己需要的天数，比如datetime.timedelta(5)\n",
    "            if data.current_dt - positions_lastdate[instrument] >= datetime.timedelta(5) and data.can_trade(context.symbol(instrument)):\n",
    "                context.order_target_percent(context.symbol(instrument), 0)\n",
    "                current_stopdays_stock.append(instrument)\n",
    "                cash_for_sell -= positions[instrument]\n",
    "        if len(current_stopdays_stock) > 0:\n",
    "            print(today, '固定天数卖出列表', current_stopdays_stock)\n",
    "            stock_sold += current_stopdays_stock\n",
    "    # -------------------------  END:持有固定天数卖出-----------------------\n",
    "\n",
    "    # -------------------------- START: ST和退市股卖出 ---------------------\n",
    "    st_stock_list = []\n",
    "    for instrument in positions.keys():\n",
    "        try:\n",
    "            instrument_name = ranker_prediction[ranker_prediction.instrument == instrument].name.values[0]\n",
    "            # 如果股票状态变为了st或者退市 则卖出\n",
    "            if 'ST' in instrument_name or '退' in instrument_name:\n",
    "                if instrument in stock_sold:\n",
    "                    continue\n",
    "                if data.can_trade(context.symbol(instrument)):\n",
    "                    context.order_target(context.symbol(instrument), 0)\n",
    "                    st_stock_list.append(instrument)\n",
    "                    cash_for_sell -= positions[instrument]\n",
    "        except:\n",
    "            continue\n",
    "    if st_stock_list != []:\n",
    "        print(today, '持仓出现st股/退市股', st_stock_list, '进行卖出处理')\n",
    "        stock_sold += st_stock_list\n",
    "\n",
    "    # -------------------------- END: ST和退市股卖出 ---------------------\n",
    "\n",
    "    # 3. 生成轮仓卖出订单：hold_days天之后才开始卖出；对持仓的股票，按机器学习算法预测的排序末位淘汰\n",
    "    if not is_staging and cash_for_sell > 0:\n",
    "        instruments = list(reversed(list(ranker_prediction.instrument[ranker_prediction.instrument.apply(lambda x: x in positions)])))  # 反向排序\n",
    "        for instrument in instruments:\n",
    "            # 如果资金够了就不卖出了\n",
    "            if cash_for_sell <= 0:\n",
    "                break\n",
    "            # 防止多个止损条件同时满足，出现多次卖出产生空单\n",
    "            if instrument in stock_sold:\n",
    "                continue\n",
    "            context.order_target(context.symbol(instrument), 0)\n",
    "            cash_for_sell -= positions[instrument]\n",
    "            stock_sold.append(instrument)\n",
    "\n",
    "    # 4. 生成轮仓买入订单：按机器学习算法预测的排序，买入前面的stock_count只股票\n",
    "    # 计算今日跌停的股票\n",
    "    dt_list = list(ranker_prediction[ranker_prediction.price_limit_status_0 == 1].instrument)  # 股价在收盘时的涨跌停状态：1表示跌停，2表示未涨跌停，3则表示涨停\n",
    "    # 计算今日ST/退市的股票\n",
    "    st_list = list(ranker_prediction[ranker_prediction.name.str.contains('ST') | ranker_prediction.name.str.contains('退')].instrument)\n",
    "    # 计算所有禁止买入的股票池\n",
    "    banned_list = stock_sold + dt_list + st_list\n",
    "    buy_cash_weights = context.stock_weights\n",
    "    buy_instruments = [k for k in list(ranker_prediction.instrument) if k not in banned_list][:len(buy_cash_weights)]\n",
    "    max_cash_per_instrument = context.portfolio.portfolio_value * context.max_cash_per_instrument\n",
    "    for i, instrument in enumerate(buy_instruments):\n",
    "        cash = cash_for_buy * buy_cash_weights[i]\n",
    "        if cash > max_cash_per_instrument - positions.get(instrument, 0):  # 减去已经持有的仓位\n",
    "            # 确保股票持仓量不会超过每次股票最大的占用资金量\n",
    "            cash = max_cash_per_instrument - positions.get(instrument, 0)\n",
    "        if cash > 0:  # 如果需要增持\n",
    "            context.order_value(context.symbol(instrument), cash)\n",
    "\n",
    "\n",
    "\n",
    "# 回测引擎：准备数据，只执行一次\n",
    "def m4_prepare_bigquant_run(context):\n",
    "    pass\n",
    "def m4_before_trading_start_bigquant_run(context, data):\n",
    "    # 获取涨跌停状态数据\n",
    "    df_price_limit_status = context.ranker_prediction.set_index('date')\n",
    "    today=data.current_dt.strftime('%Y-%m-%d')\n",
    "    # 得到当前未完成订单\n",
    "    for orders in get_open_orders().values():\n",
    "        # 循环，撤销订单\n",
    "        for _order in orders:\n",
    "            ins=str(_order.sid.symbol)\n",
    "            try:\n",
    "                #判断一下如果当日涨停，则取消卖单\n",
    "                if  df_price_limit_status[df_price_limit_status.instrument==ins].price_limit_status_0.ix[today]>2 and _order.amount<0:\n",
    "                    cancel_order(_order)\n",
    "                    print(today,'尾盘涨停取消卖单',ins) \n",
    "            except:\n",
    "                continue\n",
    "\n",
    "m1 = M.instruments.v2(\n",
    "    start_date='2018-01-01',\n",
    "    end_date='2021-01-01',\n",
    "    market='CN_STOCK_A',\n",
    "    instrument_list='',\n",
    "    max_count=0\n",
    ")\n",
    "\n",
    "m2 = M.advanced_auto_labeler.v2(\n",
    "    instruments=m1.data,\n",
    "    label_expr=\"\"\"# #号开始的表示注释\n",
    "# 0. 每行一个，顺序执行，从第二个开始，可以使用label字段\n",
    "# 1. 可用数据字段见 https://bigquant.com/docs/data_history_data.html\n",
    "#   添加benchmark_前缀，可使用对应的benchmark数据\n",
    "# 2. 可用操作符和函数见 `表达式引擎 <https://bigquant.com/docs/big_expr.html>`_\n",
    "\n",
    "# 计算收益：5日收盘价(作为卖出价格)除以明日开盘价(作为买入价格)\n",
    "shift(close, -5) / shift(open, -1)\n",
    "\n",
    "# 极值处理：用1%和99%分位的值做clip\n",
    "clip(label, all_quantile(label, 0.01), all_quantile(label, 0.99))\n",
    "\n",
    "# 将分数映射到分类，这里使用20个分类\n",
    "all_wbins(label, 20)\n",
    "\n",
    "# 过滤掉一字涨停的情况 (设置label为NaN，在后续处理和训练中会忽略NaN的label)\n",
    "where(shift(high, -1) == shift(low, -1), NaN, label)\n",
    "\"\"\",\n",
    "    start_date='',\n",
    "    end_date='',\n",
    "    benchmark='000300.SHA',\n",
    "    drop_na_label=True,\n",
    "    cast_label_int=True\n",
    ")\n",
    "\n",
    "m3 = M.input_features.v1(\n",
    "    features=\"\"\"# #号开始的表示注释\n",
    "# 多个特征，每行一个，可以包含基础特征和衍生特征\n",
    "#return_5\n",
    "#return_10\n",
    "#return_20\n",
    "#avg_amount_0/avg_amount_5\n",
    "#avg_amount_5/avg_amount_20\n",
    "#rank_avg_amount_0/rank_avg_amount_5\n",
    "#rank_avg_amount_5/rank_avg_amount_10\n",
    "#rank_return_0\n",
    "#rank_return_5\n",
    "#rank_return_10\n",
    "#rank_return_0/rank_return_5\n",
    "#rank_return_5/rank_return_10\n",
    "pe_ttm_0\n",
    "\"\"\"\n",
    ")\n",
    "\n",
    "m15 = M.general_feature_extractor.v7(\n",
    "    instruments=m1.data,\n",
    "    features=m3.data,\n",
    "    start_date='',\n",
    "    end_date='',\n",
    "    before_start_days=0\n",
    ")\n",
    "\n",
    "m16 = M.derived_feature_extractor.v3(\n",
    "    input_data=m15.data,\n",
    "    features=m3.data,\n",
    "    date_col='date',\n",
    "    instrument_col='instrument',\n",
    "    drop_na=False,\n",
    "    remove_extra_columns=False\n",
    ")\n",
    "\n",
    "m7 = M.join.v3(\n",
    "    data1=m2.data,\n",
    "    data2=m16.data,\n",
    "    on='date,instrument',\n",
    "    how='inner',\n",
    "    sort=False\n",
    ")\n",
    "\n",
    "m21 = M.chinaa_stock_filter.v1(\n",
    "    input_data=m7.data,\n",
    "    index_constituent_cond=['沪深300'],\n",
    "    board_cond=['全部'],\n",
    "    industry_cond=['全部'],\n",
    "    st_cond=['正常'],\n",
    "    delist_cond=['非退市'],\n",
    "    output_left_data=False\n",
    ")\n",
    "\n",
    "m13 = M.dropnan.v1(\n",
    "    input_data=m21.data\n",
    ")\n",
    "\n",
    "m5 = M.stock_ranker_train.v6(\n",
    "    training_ds=m13.data,\n",
    "    features=m3.data,\n",
    "    test_ds=m13.data,\n",
    "    learning_algorithm='排序',\n",
    "    number_of_leaves=30,\n",
    "    minimum_docs_per_leaf=1000,\n",
    "    number_of_trees=20,\n",
    "    learning_rate=0.1,\n",
    "    max_bins=1023,\n",
    "    feature_fraction=1,\n",
    "    data_row_fraction=1,\n",
    "    plot_charts=True,\n",
    "    ndcg_discount_base=1,\n",
    "    m_lazy_run=False\n",
    ")\n",
    "\n",
    "m6 = M.input_features.v1(\n",
    "    features_ds=m3.data,\n",
    "    features=\"\"\"# #号开始的表示注释\n",
    "# 多个特征，每行一个，可以包含基础特征和衍生特征\n",
    "price_limit_status_0\"\"\"\n",
    ")\n",
    "\n",
    "m9 = M.instruments.v2(\n",
    "    start_date=T.live_run_param('trading_date', '2021-01-01'),\n",
    "    end_date=T.live_run_param('trading_date', '2021-06-01'),\n",
    "    market='CN_STOCK_A',\n",
    "    instrument_list='',\n",
    "    max_count=0\n",
    ")\n",
    "\n",
    "m17 = M.general_feature_extractor.v7(\n",
    "    instruments=m9.data,\n",
    "    features=m6.data,\n",
    "    start_date='',\n",
    "    end_date='',\n",
    "    before_start_days=0\n",
    ")\n",
    "\n",
    "m18 = M.derived_feature_extractor.v3(\n",
    "    input_data=m17.data,\n",
    "    features=m6.data,\n",
    "    date_col='date',\n",
    "    instrument_col='instrument',\n",
    "    drop_na=False,\n",
    "    remove_extra_columns=False\n",
    ")\n",
    "\n",
    "m23 = M.chinaa_stock_filter.v1(\n",
    "    input_data=m18.data,\n",
    "    index_constituent_cond=['沪深300'],\n",
    "    board_cond=['全部'],\n",
    "    industry_cond=['全部'],\n",
    "    st_cond=['正常'],\n",
    "    delist_cond=['非退市'],\n",
    "    output_left_data=False\n",
    ")\n",
    "\n",
    "m14 = M.dropnan.v1(\n",
    "    input_data=m23.data\n",
    ")\n",
    "\n",
    "m8 = M.stock_ranker_predict.v5(\n",
    "    model=m5.model,\n",
    "    data=m14.data,\n",
    "    m_lazy_run=False\n",
    ")\n",
    "\n",
    "m10 = M.select_columns.v3(\n",
    "    input_ds=m14.data,\n",
    "    columns='date,instrument,price_limit_status_0',\n",
    "    reverse_select=False\n",
    ")\n",
    "\n",
    "m11 = M.join.v3(\n",
    "    data1=m8.predictions,\n",
    "    data2=m10.data,\n",
    "    on='date,instrument',\n",
    "    how='left',\n",
    "    sort=True\n",
    ")\n",
    "\n",
    "m20 = M.input_features.v1(\n",
    "    features=\"\"\"\n",
    "# #号开始的表示注释，注释需单独一行\n",
    "# 多个特征，每行一个，可以包含基础特征和衍生特征，特征须为本平台特征\n",
    "name\"\"\"\n",
    ")\n",
    "\n",
    "m22 = M.use_datasource.v1(\n",
    "    instruments=m9.data,\n",
    "    features=m20.data,\n",
    "    datasource_id='instruments_CN_STOCK_A',\n",
    "    start_date='',\n",
    "    end_date=''\n",
    ")\n",
    "\n",
    "m24 = M.input_features.v1(\n",
    "    features=\"\"\"\n",
    "# #号开始的表示注释，注释需单独一行\n",
    "# 多个特征，每行一个，可以包含基础特征和衍生特征，特征须为本平台特征\n",
    "bm_0 = where(close/shift(close,5)-1<-0.05,1,0)\"\"\"\n",
    ")\n",
    "\n",
    "m12 = M.index_feature_extract.v3(\n",
    "    input_1=m9.data,\n",
    "    input_2=m24.data,\n",
    "    before_days=100,\n",
    "    index='000300.HIX'\n",
    ")\n",
    "\n",
    "m26 = M.select_columns.v3(\n",
    "    input_ds=m12.data_1,\n",
    "    columns='date,bm_0',\n",
    "    reverse_select=False\n",
    ")\n",
    "\n",
    "m25 = M.join.v3(\n",
    "    data1=m22.data,\n",
    "    data2=m26.data,\n",
    "    on='date',\n",
    "    how='left',\n",
    "    sort=True\n",
    ")\n",
    "\n",
    "m27 = M.join.v3(\n",
    "    data1=m11.data,\n",
    "    data2=m25.data,\n",
    "    on='date,instrument',\n",
    "    how='left',\n",
    "    sort=True\n",
    ")\n",
    "\n",
    "m19 = M.sort.v4(\n",
    "    input_ds=m27.data,\n",
    "    sort_by='date,position',\n",
    "    group_by='--',\n",
    "    keep_columns='--',\n",
    "    ascending=True\n",
    ")\n",
    "\n",
    "m4 = M.trade.v4(\n",
    "    instruments=m9.data,\n",
    "    options_data=m19.sorted_data,\n",
    "    start_date='',\n",
    "    end_date='',\n",
    "    initialize=m4_initialize_bigquant_run,\n",
    "    handle_data=m4_handle_data_bigquant_run,\n",
    "    prepare=m4_prepare_bigquant_run,\n",
    "    before_trading_start=m4_before_trading_start_bigquant_run,\n",
    "    volume_limit=0.025,\n",
    "    order_price_field_buy='open',\n",
    "    order_price_field_sell='close',\n",
    "    capital_base=1000001,\n",
    "    auto_cancel_non_tradable_orders=True,\n",
    "    data_frequency='daily',\n",
    "    price_type='后复权',\n",
    "    product_type='股票',\n",
    "    plot_charts=True,\n",
    "    backtest_only=False,\n",
    "    benchmark=''\n",
    ")\n"
   ]
  }
 ],
 "metadata": {
  "kernelspec": {
   "display_name": "Python 3",
   "language": "python",
   "name": "python3"
  },
  "language_info": {
   "codemirror_mode": {
    "name": "ipython",
    "version": 3
   },
   "file_extension": ".py",
   "mimetype": "text/x-python",
   "name": "python",
   "nbconvert_exporter": "python",
   "pygments_lexer": "ipython3",
   "version": "3.8.7"
  }
 },
 "nbformat": 4,
 "nbformat_minor": 4
}
