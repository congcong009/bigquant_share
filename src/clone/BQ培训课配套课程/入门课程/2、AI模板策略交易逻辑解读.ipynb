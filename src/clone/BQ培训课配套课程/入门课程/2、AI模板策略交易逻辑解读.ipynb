{
 "cells": [
  {
   "cell_type": "code",
   "execution_count": 15,
   "metadata": {},
   "outputs": [
    {
     "data": {
      "text/html": [
       "<div>\n",
       "<style scoped>\n",
       "    .dataframe tbody tr th:only-of-type {\n",
       "        vertical-align: middle;\n",
       "    }\n",
       "\n",
       "    .dataframe tbody tr th {\n",
       "        vertical-align: top;\n",
       "    }\n",
       "\n",
       "    .dataframe thead th {\n",
       "        text-align: right;\n",
       "    }\n",
       "</style>\n",
       "<table border=\"1\" class=\"dataframe\">\n",
       "  <thead>\n",
       "    <tr style=\"text-align: right;\">\n",
       "      <th></th>\n",
       "      <th>avg_amount_0</th>\n",
       "      <th>avg_amount_20</th>\n",
       "      <th>avg_amount_5</th>\n",
       "      <th>date</th>\n",
       "      <th>instrument</th>\n",
       "      <th>pe_ttm_0</th>\n",
       "      <th>rank_avg_amount_0</th>\n",
       "      <th>rank_avg_amount_10</th>\n",
       "      <th>rank_avg_amount_5</th>\n",
       "      <th>rank_return_0</th>\n",
       "      <th>...</th>\n",
       "      <th>rank_return_5</th>\n",
       "      <th>return_10</th>\n",
       "      <th>return_20</th>\n",
       "      <th>return_5</th>\n",
       "      <th>avg_amount_0/avg_amount_5</th>\n",
       "      <th>avg_amount_5/avg_amount_20</th>\n",
       "      <th>rank_avg_amount_0/rank_avg_amount_5</th>\n",
       "      <th>rank_avg_amount_5/rank_avg_amount_10</th>\n",
       "      <th>rank_return_0/rank_return_5</th>\n",
       "      <th>rank_return_5/rank_return_10</th>\n",
       "    </tr>\n",
       "  </thead>\n",
       "  <tbody>\n",
       "    <tr>\n",
       "      <th>0</th>\n",
       "      <td>4.205952e+08</td>\n",
       "      <td>5.348484e+08</td>\n",
       "      <td>3.043804e+08</td>\n",
       "      <td>2017-01-03</td>\n",
       "      <td>000001.SZA</td>\n",
       "      <td>6.885001</td>\n",
       "      <td>0.951926</td>\n",
       "      <td>0.926916</td>\n",
       "      <td>0.913352</td>\n",
       "      <td>0.368235</td>\n",
       "      <td>...</td>\n",
       "      <td>0.472824</td>\n",
       "      <td>0.990270</td>\n",
       "      <td>0.959162</td>\n",
       "      <td>1.008811</td>\n",
       "      <td>1.381808</td>\n",
       "      <td>0.569097</td>\n",
       "      <td>1.042234</td>\n",
       "      <td>0.985367</td>\n",
       "      <td>0.778799</td>\n",
       "      <td>1.343261</td>\n",
       "    </tr>\n",
       "    <tr>\n",
       "      <th>1</th>\n",
       "      <td>4.115034e+08</td>\n",
       "      <td>5.200046e+08</td>\n",
       "      <td>3.273086e+08</td>\n",
       "      <td>2017-01-04</td>\n",
       "      <td>000001.SZA</td>\n",
       "      <td>6.885001</td>\n",
       "      <td>0.925273</td>\n",
       "      <td>0.923623</td>\n",
       "      <td>0.919589</td>\n",
       "      <td>0.152910</td>\n",
       "      <td>...</td>\n",
       "      <td>0.299079</td>\n",
       "      <td>0.995652</td>\n",
       "      <td>0.968288</td>\n",
       "      <td>1.004386</td>\n",
       "      <td>1.257234</td>\n",
       "      <td>0.629434</td>\n",
       "      <td>1.006181</td>\n",
       "      <td>0.995632</td>\n",
       "      <td>0.511270</td>\n",
       "      <td>1.073704</td>\n",
       "    </tr>\n",
       "    <tr>\n",
       "      <th>2</th>\n",
       "      <td>3.157697e+08</td>\n",
       "      <td>5.078230e+08</td>\n",
       "      <td>3.391389e+08</td>\n",
       "      <td>2017-01-05</td>\n",
       "      <td>000001.SZA</td>\n",
       "      <td>6.892518</td>\n",
       "      <td>0.883639</td>\n",
       "      <td>0.910740</td>\n",
       "      <td>0.921714</td>\n",
       "      <td>0.618997</td>\n",
       "      <td>...</td>\n",
       "      <td>0.416253</td>\n",
       "      <td>1.006586</td>\n",
       "      <td>0.966280</td>\n",
       "      <td>1.009912</td>\n",
       "      <td>0.931093</td>\n",
       "      <td>0.667829</td>\n",
       "      <td>0.958691</td>\n",
       "      <td>1.012051</td>\n",
       "      <td>1.487071</td>\n",
       "      <td>1.078037</td>\n",
       "    </tr>\n",
       "    <tr>\n",
       "      <th>3</th>\n",
       "      <td>3.271764e+08</td>\n",
       "      <td>5.012082e+08</td>\n",
       "      <td>3.428518e+08</td>\n",
       "      <td>2017-01-06</td>\n",
       "      <td>000001.SZA</td>\n",
       "      <td>6.862452</td>\n",
       "      <td>0.888459</td>\n",
       "      <td>0.911222</td>\n",
       "      <td>0.915518</td>\n",
       "      <td>0.606904</td>\n",
       "      <td>...</td>\n",
       "      <td>0.432059</td>\n",
       "      <td>0.996725</td>\n",
       "      <td>0.963080</td>\n",
       "      <td>1.007726</td>\n",
       "      <td>0.954279</td>\n",
       "      <td>0.684051</td>\n",
       "      <td>0.970444</td>\n",
       "      <td>1.004715</td>\n",
       "      <td>1.404677</td>\n",
       "      <td>0.941368</td>\n",
       "    </tr>\n",
       "    <tr>\n",
       "      <th>4</th>\n",
       "      <td>3.299946e+08</td>\n",
       "      <td>4.865385e+08</td>\n",
       "      <td>3.466537e+08</td>\n",
       "      <td>2017-01-09</td>\n",
       "      <td>000001.SZA</td>\n",
       "      <td>6.877485</td>\n",
       "      <td>0.901126</td>\n",
       "      <td>0.911285</td>\n",
       "      <td>0.911307</td>\n",
       "      <td>0.429778</td>\n",
       "      <td>...</td>\n",
       "      <td>0.363154</td>\n",
       "      <td>1.001094</td>\n",
       "      <td>0.961134</td>\n",
       "      <td>1.007709</td>\n",
       "      <td>0.951943</td>\n",
       "      <td>0.712490</td>\n",
       "      <td>0.988828</td>\n",
       "      <td>1.000025</td>\n",
       "      <td>1.183460</td>\n",
       "      <td>0.824419</td>\n",
       "    </tr>\n",
       "  </tbody>\n",
       "</table>\n",
       "<p>5 rows × 21 columns</p>\n",
       "</div>"
      ],
      "text/plain": [
       "   avg_amount_0  avg_amount_20  avg_amount_5       date  instrument  pe_ttm_0  \\\n",
       "0  4.205952e+08   5.348484e+08  3.043804e+08 2017-01-03  000001.SZA  6.885001   \n",
       "1  4.115034e+08   5.200046e+08  3.273086e+08 2017-01-04  000001.SZA  6.885001   \n",
       "2  3.157697e+08   5.078230e+08  3.391389e+08 2017-01-05  000001.SZA  6.892518   \n",
       "3  3.271764e+08   5.012082e+08  3.428518e+08 2017-01-06  000001.SZA  6.862452   \n",
       "4  3.299946e+08   4.865385e+08  3.466537e+08 2017-01-09  000001.SZA  6.877485   \n",
       "\n",
       "   rank_avg_amount_0  rank_avg_amount_10  rank_avg_amount_5  rank_return_0  \\\n",
       "0           0.951926            0.926916           0.913352       0.368235   \n",
       "1           0.925273            0.923623           0.919589       0.152910   \n",
       "2           0.883639            0.910740           0.921714       0.618997   \n",
       "3           0.888459            0.911222           0.915518       0.606904   \n",
       "4           0.901126            0.911285           0.911307       0.429778   \n",
       "\n",
       "   ...  rank_return_5  return_10  return_20  return_5  \\\n",
       "0  ...       0.472824   0.990270   0.959162  1.008811   \n",
       "1  ...       0.299079   0.995652   0.968288  1.004386   \n",
       "2  ...       0.416253   1.006586   0.966280  1.009912   \n",
       "3  ...       0.432059   0.996725   0.963080  1.007726   \n",
       "4  ...       0.363154   1.001094   0.961134  1.007709   \n",
       "\n",
       "   avg_amount_0/avg_amount_5  avg_amount_5/avg_amount_20  \\\n",
       "0                   1.381808                    0.569097   \n",
       "1                   1.257234                    0.629434   \n",
       "2                   0.931093                    0.667829   \n",
       "3                   0.954279                    0.684051   \n",
       "4                   0.951943                    0.712490   \n",
       "\n",
       "   rank_avg_amount_0/rank_avg_amount_5  rank_avg_amount_5/rank_avg_amount_10  \\\n",
       "0                             1.042234                              0.985367   \n",
       "1                             1.006181                              0.995632   \n",
       "2                             0.958691                              1.012051   \n",
       "3                             0.970444                              1.004715   \n",
       "4                             0.988828                              1.000025   \n",
       "\n",
       "   rank_return_0/rank_return_5  rank_return_5/rank_return_10  \n",
       "0                     0.778799                      1.343261  \n",
       "1                     0.511270                      1.073704  \n",
       "2                     1.487071                      1.078037  \n",
       "3                     1.404677                      0.941368  \n",
       "4                     1.183460                      0.824419  \n",
       "\n",
       "[5 rows x 21 columns]"
      ]
     },
     "execution_count": 15,
     "metadata": {},
     "output_type": "execute_result"
    }
   ],
   "source": [
    "# m8.predictions.read_df()\n",
    "# context.portfolio\n",
    "m16.data.read().head()"
   ]
  },
  {
   "cell_type": "code",
   "execution_count": 11,
   "metadata": {
    "machine_learning_studio": "true",
    "ml_studio_json": "{\"description\":\"实验创建于2017/8/26\",\"graph\":{\"edges\":[{\"to_node_id\":\"287d2cb0-f53c-4101-bdf8-104b137c8601-15:instruments\",\"from_node_id\":\"287d2cb0-f53c-4101-bdf8-104b137c8601-8:data\"},{\"to_node_id\":\"-215:instruments\",\"from_node_id\":\"287d2cb0-f53c-4101-bdf8-104b137c8601-8:data\"},{\"to_node_id\":\"287d2cb0-f53c-4101-bdf8-104b137c8601-53:data1\",\"from_node_id\":\"287d2cb0-f53c-4101-bdf8-104b137c8601-15:data\"},{\"to_node_id\":\"-215:features\",\"from_node_id\":\"287d2cb0-f53c-4101-bdf8-104b137c8601-24:data\"},{\"to_node_id\":\"-222:features\",\"from_node_id\":\"287d2cb0-f53c-4101-bdf8-104b137c8601-24:data\"},{\"to_node_id\":\"-231:features\",\"from_node_id\":\"287d2cb0-f53c-4101-bdf8-104b137c8601-24:data\"},{\"to_node_id\":\"-238:features\",\"from_node_id\":\"287d2cb0-f53c-4101-bdf8-104b137c8601-24:data\"},{\"to_node_id\":\"-1047:features\",\"from_node_id\":\"287d2cb0-f53c-4101-bdf8-104b137c8601-24:data\"},{\"to_node_id\":\"-373:input_data\",\"from_node_id\":\"287d2cb0-f53c-4101-bdf8-104b137c8601-53:data\"},{\"to_node_id\":\"-250:options_data\",\"from_node_id\":\"287d2cb0-f53c-4101-bdf8-104b137c8601-60:predictions\"},{\"to_node_id\":\"-231:instruments\",\"from_node_id\":\"287d2cb0-f53c-4101-bdf8-104b137c8601-62:data\"},{\"to_node_id\":\"-250:instruments\",\"from_node_id\":\"287d2cb0-f53c-4101-bdf8-104b137c8601-62:data\"},{\"to_node_id\":\"-1047:training_ds\",\"from_node_id\":\"287d2cb0-f53c-4101-bdf8-104b137c8601-84:data\"},{\"to_node_id\":\"287d2cb0-f53c-4101-bdf8-104b137c8601-60:data\",\"from_node_id\":\"-86:data\"},{\"to_node_id\":\"-222:input_data\",\"from_node_id\":\"-215:data\"},{\"to_node_id\":\"287d2cb0-f53c-4101-bdf8-104b137c8601-53:data2\",\"from_node_id\":\"-222:data\"},{\"to_node_id\":\"-238:input_data\",\"from_node_id\":\"-231:data\"},{\"to_node_id\":\"-383:input_data\",\"from_node_id\":\"-238:data\"},{\"to_node_id\":\"287d2cb0-f53c-4101-bdf8-104b137c8601-60:model\",\"from_node_id\":\"-1047:model\"},{\"to_node_id\":\"287d2cb0-f53c-4101-bdf8-104b137c8601-84:input_data\",\"from_node_id\":\"-373:data\"},{\"to_node_id\":\"-86:input_data\",\"from_node_id\":\"-383:data\"}],\"nodes\":[{\"node_id\":\"287d2cb0-f53c-4101-bdf8-104b137c8601-8\",\"module_id\":\"BigQuantSpace.instruments.instruments-v2\",\"parameters\":[{\"name\":\"start_date\",\"value\":\"2017-01-01\",\"type\":\"Literal\",\"bound_global_parameter\":null},{\"name\":\"end_date\",\"value\":\"2020-01-01\",\"type\":\"Literal\",\"bound_global_parameter\":null},{\"name\":\"market\",\"value\":\"CN_STOCK_A\",\"type\":\"Literal\",\"bound_global_parameter\":null},{\"name\":\"instrument_list\",\"value\":\"\",\"type\":\"Literal\",\"bound_global_parameter\":null},{\"name\":\"max_count\",\"value\":\"0\",\"type\":\"Literal\",\"bound_global_parameter\":null}],\"input_ports\":[{\"name\":\"rolling_conf\",\"node_id\":\"287d2cb0-f53c-4101-bdf8-104b137c8601-8\"}],\"output_ports\":[{\"name\":\"data\",\"node_id\":\"287d2cb0-f53c-4101-bdf8-104b137c8601-8\"}],\"cacheable\":true,\"seq_num\":1,\"comment\":\"\",\"comment_collapsed\":true},{\"node_id\":\"287d2cb0-f53c-4101-bdf8-104b137c8601-15\",\"module_id\":\"BigQuantSpace.advanced_auto_labeler.advanced_auto_labeler-v2\",\"parameters\":[{\"name\":\"label_expr\",\"value\":\"# #号开始的表示注释\\n# 0. 每行一个，顺序执行，从第二个开始，可以使用label字段\\n# 1. 可用数据字段见 https://bigquant.com/docs/develop/datasource/deprecated/history_data.html\\n#   添加benchmark_前缀，可使用对应的benchmark数据\\n# 2. 可用操作符和函数见 `表达式引擎 <https://bigquant.com/docs/develop/bigexpr/usage.html>`_\\n\\n# 计算收益：5日收盘价(作为卖出价格)除以明日开盘价(作为买入价格)\\nshift(close, -5) / shift(open, -1)\\n\\n# 极值处理：用1%和99%分位的值做clip\\nclip(label, all_quantile(label, 0.01), all_quantile(label, 0.99))\\n\\n# 将分数映射到分类，这里使用20个分类\\nall_wbins(label, 20)\\n\\n# 过滤掉一字涨停的情况 (设置label为NaN，在后续处理和训练中会忽略NaN的label)\\nwhere(shift(high, -1) == shift(low, -1), NaN, label)\\n\",\"type\":\"Literal\",\"bound_global_parameter\":null},{\"name\":\"start_date\",\"value\":\"\",\"type\":\"Literal\",\"bound_global_parameter\":null},{\"name\":\"end_date\",\"value\":\"\",\"type\":\"Literal\",\"bound_global_parameter\":null},{\"name\":\"benchmark\",\"value\":\"000300.SHA\",\"type\":\"Literal\",\"bound_global_parameter\":null},{\"name\":\"drop_na_label\",\"value\":\"True\",\"type\":\"Literal\",\"bound_global_parameter\":null},{\"name\":\"cast_label_int\",\"value\":\"True\",\"type\":\"Literal\",\"bound_global_parameter\":null},{\"name\":\"user_functions\",\"value\":\"\",\"type\":\"Literal\",\"bound_global_parameter\":null}],\"input_ports\":[{\"name\":\"instruments\",\"node_id\":\"287d2cb0-f53c-4101-bdf8-104b137c8601-15\"}],\"output_ports\":[{\"name\":\"data\",\"node_id\":\"287d2cb0-f53c-4101-bdf8-104b137c8601-15\"}],\"cacheable\":true,\"seq_num\":2,\"comment\":\"\",\"comment_collapsed\":true},{\"node_id\":\"287d2cb0-f53c-4101-bdf8-104b137c8601-24\",\"module_id\":\"BigQuantSpace.input_features.input_features-v1\",\"parameters\":[{\"name\":\"features\",\"value\":\"# #号开始的表示注释\\n# 多个特征，每行一个，可以包含基础特征和衍生特征\\nreturn_5\\nreturn_10\\nreturn_20\\navg_amount_0/avg_amount_5\\navg_amount_5/avg_amount_20\\nrank_avg_amount_0/rank_avg_amount_5\\nrank_avg_amount_5/rank_avg_amount_10\\nrank_return_0\\nrank_return_5\\nrank_return_10\\nrank_return_0/rank_return_5\\nrank_return_5/rank_return_10\\npe_ttm_0\\n\",\"type\":\"Literal\",\"bound_global_parameter\":null}],\"input_ports\":[{\"name\":\"features_ds\",\"node_id\":\"287d2cb0-f53c-4101-bdf8-104b137c8601-24\"}],\"output_ports\":[{\"name\":\"data\",\"node_id\":\"287d2cb0-f53c-4101-bdf8-104b137c8601-24\"}],\"cacheable\":true,\"seq_num\":3,\"comment\":\"\",\"comment_collapsed\":true},{\"node_id\":\"287d2cb0-f53c-4101-bdf8-104b137c8601-53\",\"module_id\":\"BigQuantSpace.join.join-v3\",\"parameters\":[{\"name\":\"on\",\"value\":\"date,instrument\",\"type\":\"Literal\",\"bound_global_parameter\":null},{\"name\":\"how\",\"value\":\"inner\",\"type\":\"Literal\",\"bound_global_parameter\":null},{\"name\":\"sort\",\"value\":\"False\",\"type\":\"Literal\",\"bound_global_parameter\":null}],\"input_ports\":[{\"name\":\"data1\",\"node_id\":\"287d2cb0-f53c-4101-bdf8-104b137c8601-53\"},{\"name\":\"data2\",\"node_id\":\"287d2cb0-f53c-4101-bdf8-104b137c8601-53\"}],\"output_ports\":[{\"name\":\"data\",\"node_id\":\"287d2cb0-f53c-4101-bdf8-104b137c8601-53\"}],\"cacheable\":true,\"seq_num\":7,\"comment\":\"\",\"comment_collapsed\":true},{\"node_id\":\"287d2cb0-f53c-4101-bdf8-104b137c8601-60\",\"module_id\":\"BigQuantSpace.stock_ranker_predict.stock_ranker_predict-v5\",\"parameters\":[{\"name\":\"m_lazy_run\",\"value\":\"False\",\"type\":\"Literal\",\"bound_global_parameter\":null}],\"input_ports\":[{\"name\":\"model\",\"node_id\":\"287d2cb0-f53c-4101-bdf8-104b137c8601-60\"},{\"name\":\"data\",\"node_id\":\"287d2cb0-f53c-4101-bdf8-104b137c8601-60\"}],\"output_ports\":[{\"name\":\"predictions\",\"node_id\":\"287d2cb0-f53c-4101-bdf8-104b137c8601-60\"},{\"name\":\"m_lazy_run\",\"node_id\":\"287d2cb0-f53c-4101-bdf8-104b137c8601-60\"}],\"cacheable\":true,\"seq_num\":8,\"comment\":\"\",\"comment_collapsed\":true},{\"node_id\":\"287d2cb0-f53c-4101-bdf8-104b137c8601-62\",\"module_id\":\"BigQuantSpace.instruments.instruments-v2\",\"parameters\":[{\"name\":\"start_date\",\"value\":\"2020-01-01\",\"type\":\"Literal\",\"bound_global_parameter\":\"交易日期\"},{\"name\":\"end_date\",\"value\":\"2021-12-01\",\"type\":\"Literal\",\"bound_global_parameter\":\"交易日期\"},{\"name\":\"market\",\"value\":\"CN_STOCK_A\",\"type\":\"Literal\",\"bound_global_parameter\":null},{\"name\":\"instrument_list\",\"value\":\"\",\"type\":\"Literal\",\"bound_global_parameter\":null},{\"name\":\"max_count\",\"value\":\"0\",\"type\":\"Literal\",\"bound_global_parameter\":null}],\"input_ports\":[{\"name\":\"rolling_conf\",\"node_id\":\"287d2cb0-f53c-4101-bdf8-104b137c8601-62\"}],\"output_ports\":[{\"name\":\"data\",\"node_id\":\"287d2cb0-f53c-4101-bdf8-104b137c8601-62\"}],\"cacheable\":true,\"seq_num\":9,\"comment\":\"预测数据，用于回测和模拟\",\"comment_collapsed\":false},{\"node_id\":\"287d2cb0-f53c-4101-bdf8-104b137c8601-84\",\"module_id\":\"BigQuantSpace.dropnan.dropnan-v1\",\"parameters\":[],\"input_ports\":[{\"name\":\"input_data\",\"node_id\":\"287d2cb0-f53c-4101-bdf8-104b137c8601-84\"}],\"output_ports\":[{\"name\":\"data\",\"node_id\":\"287d2cb0-f53c-4101-bdf8-104b137c8601-84\"}],\"cacheable\":true,\"seq_num\":13,\"comment\":\"\",\"comment_collapsed\":true},{\"node_id\":\"-86\",\"module_id\":\"BigQuantSpace.dropnan.dropnan-v1\",\"parameters\":[],\"input_ports\":[{\"name\":\"input_data\",\"node_id\":\"-86\"}],\"output_ports\":[{\"name\":\"data\",\"node_id\":\"-86\"}],\"cacheable\":true,\"seq_num\":14,\"comment\":\"\",\"comment_collapsed\":true},{\"node_id\":\"-215\",\"module_id\":\"BigQuantSpace.general_feature_extractor.general_feature_extractor-v7\",\"parameters\":[{\"name\":\"start_date\",\"value\":\"\",\"type\":\"Literal\",\"bound_global_parameter\":null},{\"name\":\"end_date\",\"value\":\"\",\"type\":\"Literal\",\"bound_global_parameter\":null},{\"name\":\"before_start_days\",\"value\":0,\"type\":\"Literal\",\"bound_global_parameter\":null}],\"input_ports\":[{\"name\":\"instruments\",\"node_id\":\"-215\"},{\"name\":\"features\",\"node_id\":\"-215\"}],\"output_ports\":[{\"name\":\"data\",\"node_id\":\"-215\"}],\"cacheable\":true,\"seq_num\":15,\"comment\":\"\",\"comment_collapsed\":true},{\"node_id\":\"-222\",\"module_id\":\"BigQuantSpace.derived_feature_extractor.derived_feature_extractor-v3\",\"parameters\":[{\"name\":\"date_col\",\"value\":\"date\",\"type\":\"Literal\",\"bound_global_parameter\":null},{\"name\":\"instrument_col\",\"value\":\"instrument\",\"type\":\"Literal\",\"bound_global_parameter\":null},{\"name\":\"drop_na\",\"value\":\"False\",\"type\":\"Literal\",\"bound_global_parameter\":null},{\"name\":\"remove_extra_columns\",\"value\":\"False\",\"type\":\"Literal\",\"bound_global_parameter\":null},{\"name\":\"user_functions\",\"value\":\"\",\"type\":\"Literal\",\"bound_global_parameter\":null}],\"input_ports\":[{\"name\":\"input_data\",\"node_id\":\"-222\"},{\"name\":\"features\",\"node_id\":\"-222\"}],\"output_ports\":[{\"name\":\"data\",\"node_id\":\"-222\"}],\"cacheable\":true,\"seq_num\":16,\"comment\":\"\",\"comment_collapsed\":true},{\"node_id\":\"-231\",\"module_id\":\"BigQuantSpace.general_feature_extractor.general_feature_extractor-v7\",\"parameters\":[{\"name\":\"start_date\",\"value\":\"\",\"type\":\"Literal\",\"bound_global_parameter\":null},{\"name\":\"end_date\",\"value\":\"\",\"type\":\"Literal\",\"bound_global_parameter\":null},{\"name\":\"before_start_days\",\"value\":0,\"type\":\"Literal\",\"bound_global_parameter\":null}],\"input_ports\":[{\"name\":\"instruments\",\"node_id\":\"-231\"},{\"name\":\"features\",\"node_id\":\"-231\"}],\"output_ports\":[{\"name\":\"data\",\"node_id\":\"-231\"}],\"cacheable\":true,\"seq_num\":17,\"comment\":\"\",\"comment_collapsed\":true},{\"node_id\":\"-238\",\"module_id\":\"BigQuantSpace.derived_feature_extractor.derived_feature_extractor-v3\",\"parameters\":[{\"name\":\"date_col\",\"value\":\"date\",\"type\":\"Literal\",\"bound_global_parameter\":null},{\"name\":\"instrument_col\",\"value\":\"instrument\",\"type\":\"Literal\",\"bound_global_parameter\":null},{\"name\":\"drop_na\",\"value\":\"False\",\"type\":\"Literal\",\"bound_global_parameter\":null},{\"name\":\"remove_extra_columns\",\"value\":\"False\",\"type\":\"Literal\",\"bound_global_parameter\":null},{\"name\":\"user_functions\",\"value\":\"\",\"type\":\"Literal\",\"bound_global_parameter\":null}],\"input_ports\":[{\"name\":\"input_data\",\"node_id\":\"-238\"},{\"name\":\"features\",\"node_id\":\"-238\"}],\"output_ports\":[{\"name\":\"data\",\"node_id\":\"-238\"}],\"cacheable\":true,\"seq_num\":18,\"comment\":\"\",\"comment_collapsed\":true},{\"node_id\":\"-250\",\"module_id\":\"BigQuantSpace.trade.trade-v4\",\"parameters\":[{\"name\":\"start_date\",\"value\":\"\",\"type\":\"Literal\",\"bound_global_parameter\":null},{\"name\":\"end_date\",\"value\":\"\",\"type\":\"Literal\",\"bound_global_parameter\":null},{\"name\":\"initialize\",\"value\":\"# 回测引擎：初始化函数，只执行一次\\ndef bigquant_run(context):\\n    # 加载预测数据\\n    context.ranker_prediction = context.options['data'].read_df()\\n\\n    # 系统已经设置了默认的交易手续费和滑点，要修改手续费可使用如下函数\\n    context.set_commission(PerOrder(buy_cost=0.0003, sell_cost=0.0013, min_cost=5))\\n    # 预测数据，通过options传入进来，使用 read_df 函数，加载到内存 (DataFrame)\\n    # 设置买入的股票数量，这里买入预测股票列表排名靠前的5只\\n    stock_count = 5\\n    # 每只的股票的权重，如下的权重分配会使得靠前的股票分配多一点的资金，[0.339160, 0.213986, 0.169580, ..]\\n    context.stock_weights = T.norm([1 / math.log(i + 2) for i in range(0, stock_count)])\\n    # 设置每只股票占用的最大资金比例\\n    context.max_cash_per_instrument = 0.2\\n    context.options['hold_days'] = 5\\n\",\"type\":\"Literal\",\"bound_global_parameter\":null},{\"name\":\"handle_data\",\"value\":\"# 回测引擎：每日数据处理函数，每天执行一次\\ndef bigquant_run(context, data):\\n    # 按日期过滤得到今日的预测数据\\n    ranker_prediction = context.ranker_prediction[context.ranker_prediction.date == data.current_dt.strftime('%Y-%m-%d')]\\n\\n    # 1. 资金分配\\n    # 平均持仓时间是hold_days，每日都将买入股票，每日预期使用 1/hold_days 的资金\\n    # 实际操作中，会存在一定的买入误差，所以在前hold_days天，等量使用资金；之后，尽量使用剩余资金（这里设置最多用等量的1.5倍）\\n    is_staging = context.trading_day_index < context.options['hold_days'] # 是否在建仓期间（前 hold_days 天）\\n    cash_avg = context.portfolio.portfolio_value / context.options['hold_days']\\n    cash_for_buy = min(context.portfolio.cash, (1 if is_staging else 1.5) * cash_avg)\\n    cash_for_sell = cash_avg - (context.portfolio.cash - cash_for_buy)\\n    positions = {e.symbol: p.amount * p.last_sale_price\\n                 for e, p in context.portfolio.positions.items()}\\n\\n    # 2. 生成卖出订单：hold_days天之后才开始卖出；对持仓的股票，按机器学习算法预测的排序末位淘汰\\n    if not is_staging and cash_for_sell > 0:\\n        equities = {e.symbol: e for e, p in context.portfolio.positions.items()}\\n        instruments = list(reversed(list(ranker_prediction.instrument[ranker_prediction.instrument.apply(lambda x: x in equities)])))\\n\\n        for instrument in instruments:\\n            context.order_target(context.symbol(instrument), 0)\\n            cash_for_sell -= positions[instrument]\\n            if cash_for_sell <= 0:\\n                break\\n\\n    # 3. 生成买入订单：按机器学习算法预测的排序，买入前面的stock_count只股票\\n    buy_cash_weights = context.stock_weights\\n    buy_instruments = list(ranker_prediction.instrument[:len(buy_cash_weights)])\\n    max_cash_per_instrument = context.portfolio.portfolio_value * context.max_cash_per_instrument\\n    for i, instrument in enumerate(buy_instruments):\\n        cash = cash_for_buy * buy_cash_weights[i]\\n        if cash > max_cash_per_instrument - positions.get(instrument, 0):\\n            # 确保股票持仓量不会超过每次股票最大的占用资金量\\n            cash = max_cash_per_instrument - positions.get(instrument, 0)\\n        if cash > 0:\\n            context.order_value(context.symbol(instrument), cash)\\n\",\"type\":\"Literal\",\"bound_global_parameter\":null},{\"name\":\"prepare\",\"value\":\"# 回测引擎：准备数据，只执行一次\\ndef bigquant_run(context):\\n    pass\\n\",\"type\":\"Literal\",\"bound_global_parameter\":null},{\"name\":\"before_trading_start\",\"value\":\"\",\"type\":\"Literal\",\"bound_global_parameter\":null},{\"name\":\"volume_limit\",\"value\":0.025,\"type\":\"Literal\",\"bound_global_parameter\":null},{\"name\":\"order_price_field_buy\",\"value\":\"open\",\"type\":\"Literal\",\"bound_global_parameter\":null},{\"name\":\"order_price_field_sell\",\"value\":\"close\",\"type\":\"Literal\",\"bound_global_parameter\":null},{\"name\":\"capital_base\",\"value\":1000000,\"type\":\"Literal\",\"bound_global_parameter\":null},{\"name\":\"auto_cancel_non_tradable_orders\",\"value\":\"True\",\"type\":\"Literal\",\"bound_global_parameter\":null},{\"name\":\"data_frequency\",\"value\":\"daily\",\"type\":\"Literal\",\"bound_global_parameter\":null},{\"name\":\"price_type\",\"value\":\"后复权\",\"type\":\"Literal\",\"bound_global_parameter\":null},{\"name\":\"product_type\",\"value\":\"股票\",\"type\":\"Literal\",\"bound_global_parameter\":null},{\"name\":\"plot_charts\",\"value\":\"True\",\"type\":\"Literal\",\"bound_global_parameter\":null},{\"name\":\"backtest_only\",\"value\":\"False\",\"type\":\"Literal\",\"bound_global_parameter\":null},{\"name\":\"benchmark\",\"value\":\"000300.SHA\",\"type\":\"Literal\",\"bound_global_parameter\":null}],\"input_ports\":[{\"name\":\"instruments\",\"node_id\":\"-250\"},{\"name\":\"options_data\",\"node_id\":\"-250\"},{\"name\":\"history_ds\",\"node_id\":\"-250\"},{\"name\":\"benchmark_ds\",\"node_id\":\"-250\"},{\"name\":\"trading_calendar\",\"node_id\":\"-250\"}],\"output_ports\":[{\"name\":\"raw_perf\",\"node_id\":\"-250\"}],\"cacheable\":false,\"seq_num\":19,\"comment\":\"\",\"comment_collapsed\":true},{\"node_id\":\"-1047\",\"module_id\":\"BigQuantSpace.stock_ranker_train.stock_ranker_train-v6\",\"parameters\":[{\"name\":\"learning_algorithm\",\"value\":\"排序\",\"type\":\"Literal\",\"bound_global_parameter\":null},{\"name\":\"number_of_leaves\",\"value\":30,\"type\":\"Literal\",\"bound_global_parameter\":null},{\"name\":\"minimum_docs_per_leaf\",\"value\":1000,\"type\":\"Literal\",\"bound_global_parameter\":null},{\"name\":\"number_of_trees\",\"value\":20,\"type\":\"Literal\",\"bound_global_parameter\":null},{\"name\":\"learning_rate\",\"value\":0.1,\"type\":\"Literal\",\"bound_global_parameter\":null},{\"name\":\"max_bins\",\"value\":1023,\"type\":\"Literal\",\"bound_global_parameter\":null},{\"name\":\"feature_fraction\",\"value\":1,\"type\":\"Literal\",\"bound_global_parameter\":null},{\"name\":\"data_row_fraction\",\"value\":1,\"type\":\"Literal\",\"bound_global_parameter\":null},{\"name\":\"plot_charts\",\"value\":\"True\",\"type\":\"Literal\",\"bound_global_parameter\":null},{\"name\":\"ndcg_discount_base\",\"value\":1,\"type\":\"Literal\",\"bound_global_parameter\":null},{\"name\":\"m_lazy_run\",\"value\":\"False\",\"type\":\"Literal\",\"bound_global_parameter\":null}],\"input_ports\":[{\"name\":\"training_ds\",\"node_id\":\"-1047\"},{\"name\":\"features\",\"node_id\":\"-1047\"},{\"name\":\"test_ds\",\"node_id\":\"-1047\"},{\"name\":\"base_model\",\"node_id\":\"-1047\"}],\"output_ports\":[{\"name\":\"model\",\"node_id\":\"-1047\"},{\"name\":\"feature_gains\",\"node_id\":\"-1047\"},{\"name\":\"m_lazy_run\",\"node_id\":\"-1047\"}],\"cacheable\":true,\"seq_num\":4,\"comment\":\"\",\"comment_collapsed\":true},{\"node_id\":\"-373\",\"module_id\":\"BigQuantSpace.chinaa_stock_filter.chinaa_stock_filter-v1\",\"parameters\":[{\"name\":\"index_constituent_cond\",\"value\":\"%7B%22enumItems%22%3A%5B%7B%22value%22%3A%22%E5%85%A8%E9%83%A8%22%2C%22displayValue%22%3A%22%E5%85%A8%E9%83%A8%22%2C%22selected%22%3Afalse%7D%2C%7B%22value%22%3A%22%E4%B8%8A%E8%AF%8150%22%2C%22displayValue%22%3A%22%E4%B8%8A%E8%AF%8150%22%2C%22selected%22%3Afalse%7D%2C%7B%22value%22%3A%22%E6%B2%AA%E6%B7%B1300%22%2C%22displayValue%22%3A%22%E6%B2%AA%E6%B7%B1300%22%2C%22selected%22%3Atrue%7D%2C%7B%22value%22%3A%22%E4%B8%AD%E8%AF%81500%22%2C%22displayValue%22%3A%22%E4%B8%AD%E8%AF%81500%22%2C%22selected%22%3Afalse%7D%2C%7B%22value%22%3A%22%E4%B8%AD%E8%AF%81800%22%2C%22displayValue%22%3A%22%E4%B8%AD%E8%AF%81800%22%2C%22selected%22%3Afalse%7D%2C%7B%22value%22%3A%22%E4%B8%8A%E8%AF%81180%22%2C%22displayValue%22%3A%22%E4%B8%8A%E8%AF%81180%22%2C%22selected%22%3Afalse%7D%2C%7B%22value%22%3A%22%E4%B8%AD%E8%AF%81100%22%2C%22displayValue%22%3A%22%E4%B8%AD%E8%AF%81100%22%2C%22selected%22%3Afalse%7D%2C%7B%22value%22%3A%22%E6%B7%B1%E8%AF%81100%22%2C%22displayValue%22%3A%22%E6%B7%B1%E8%AF%81100%22%2C%22selected%22%3Afalse%7D%5D%7D\",\"type\":\"Literal\",\"bound_global_parameter\":null},{\"name\":\"board_cond\",\"value\":\"%7B%22enumItems%22%3A%5B%7B%22value%22%3A%22%E5%85%A8%E9%83%A8%22%2C%22displayValue%22%3A%22%E5%85%A8%E9%83%A8%22%2C%22selected%22%3Afalse%7D%2C%7B%22value%22%3A%22%E4%B8%8A%E8%AF%81%E4%B8%BB%E6%9D%BF%22%2C%22displayValue%22%3A%22%E4%B8%8A%E8%AF%81%E4%B8%BB%E6%9D%BF%22%2C%22selected%22%3Atrue%7D%2C%7B%22value%22%3A%22%E6%B7%B1%E8%AF%81%E4%B8%BB%E6%9D%BF%22%2C%22displayValue%22%3A%22%E6%B7%B1%E8%AF%81%E4%B8%BB%E6%9D%BF%22%2C%22selected%22%3Atrue%7D%2C%7B%22value%22%3A%22%E5%88%9B%E4%B8%9A%E6%9D%BF%22%2C%22displayValue%22%3A%22%E5%88%9B%E4%B8%9A%E6%9D%BF%22%2C%22selected%22%3Afalse%7D%2C%7B%22value%22%3A%22%E7%A7%91%E5%88%9B%E6%9D%BF%22%2C%22displayValue%22%3A%22%E7%A7%91%E5%88%9B%E6%9D%BF%22%2C%22selected%22%3Afalse%7D%5D%7D\",\"type\":\"Literal\",\"bound_global_parameter\":null},{\"name\":\"industry_cond\",\"value\":\"%7B%22enumItems%22%3A%5B%7B%22value%22%3A%22%E5%85%A8%E9%83%A8%22%2C%22displayValue%22%3A%22%E5%85%A8%E9%83%A8%22%2C%22selected%22%3Atrue%7D%2C%7B%22value%22%3A%22%E4%BA%A4%E9%80%9A%E8%BF%90%E8%BE%93%22%2C%22displayValue%22%3A%22%E4%BA%A4%E9%80%9A%E8%BF%90%E8%BE%93%22%2C%22selected%22%3Afalse%7D%2C%7B%22value%22%3A%22%E4%BC%91%E9%97%B2%E6%9C%8D%E5%8A%A1%22%2C%22displayValue%22%3A%22%E4%BC%91%E9%97%B2%E6%9C%8D%E5%8A%A1%22%2C%22selected%22%3Afalse%7D%2C%7B%22value%22%3A%22%E4%BC%A0%E5%AA%92%2F%E4%BF%A1%E6%81%AF%E6%9C%8D%E5%8A%A1%22%2C%22displayValue%22%3A%22%E4%BC%A0%E5%AA%92%2F%E4%BF%A1%E6%81%AF%E6%9C%8D%E5%8A%A1%22%2C%22selected%22%3Afalse%7D%2C%7B%22value%22%3A%22%E5%85%AC%E7%94%A8%E4%BA%8B%E4%B8%9A%22%2C%22displayValue%22%3A%22%E5%85%AC%E7%94%A8%E4%BA%8B%E4%B8%9A%22%2C%22selected%22%3Afalse%7D%2C%7B%22value%22%3A%22%E5%86%9C%E6%9E%97%E7%89%A7%E6%B8%94%22%2C%22displayValue%22%3A%22%E5%86%9C%E6%9E%97%E7%89%A7%E6%B8%94%22%2C%22selected%22%3Afalse%7D%2C%7B%22value%22%3A%22%E5%8C%96%E5%B7%A5%22%2C%22displayValue%22%3A%22%E5%8C%96%E5%B7%A5%22%2C%22selected%22%3Afalse%7D%2C%7B%22value%22%3A%22%E5%8C%BB%E8%8D%AF%E7%94%9F%E7%89%A9%22%2C%22displayValue%22%3A%22%E5%8C%BB%E8%8D%AF%E7%94%9F%E7%89%A9%22%2C%22selected%22%3Afalse%7D%2C%7B%22value%22%3A%22%E5%95%86%E4%B8%9A%E8%B4%B8%E6%98%93%22%2C%22displayValue%22%3A%22%E5%95%86%E4%B8%9A%E8%B4%B8%E6%98%93%22%2C%22selected%22%3Afalse%7D%2C%7B%22value%22%3A%22%E5%9B%BD%E9%98%B2%E5%86%9B%E5%B7%A5%22%2C%22displayValue%22%3A%22%E5%9B%BD%E9%98%B2%E5%86%9B%E5%B7%A5%22%2C%22selected%22%3Afalse%7D%2C%7B%22value%22%3A%22%E5%AE%B6%E7%94%A8%E7%94%B5%E5%99%A8%22%2C%22displayValue%22%3A%22%E5%AE%B6%E7%94%A8%E7%94%B5%E5%99%A8%22%2C%22selected%22%3Afalse%7D%2C%7B%22value%22%3A%22%E5%BB%BA%E7%AD%91%E6%9D%90%E6%96%99%2F%E5%BB%BA%E7%AD%91%E5%BB%BA%E6%9D%90%22%2C%22displayValue%22%3A%22%E5%BB%BA%E7%AD%91%E6%9D%90%E6%96%99%2F%E5%BB%BA%E7%AD%91%E5%BB%BA%E6%9D%90%22%2C%22selected%22%3Afalse%7D%2C%7B%22value%22%3A%22%E5%BB%BA%E7%AD%91%E8%A3%85%E9%A5%B0%22%2C%22displayValue%22%3A%22%E5%BB%BA%E7%AD%91%E8%A3%85%E9%A5%B0%22%2C%22selected%22%3Afalse%7D%2C%7B%22value%22%3A%22%E6%88%BF%E5%9C%B0%E4%BA%A7%22%2C%22displayValue%22%3A%22%E6%88%BF%E5%9C%B0%E4%BA%A7%22%2C%22selected%22%3Afalse%7D%2C%7B%22value%22%3A%22%E6%9C%89%E8%89%B2%E9%87%91%E5%B1%9E%22%2C%22displayValue%22%3A%22%E6%9C%89%E8%89%B2%E9%87%91%E5%B1%9E%22%2C%22selected%22%3Afalse%7D%2C%7B%22value%22%3A%22%E6%9C%BA%E6%A2%B0%E8%AE%BE%E5%A4%87%22%2C%22displayValue%22%3A%22%E6%9C%BA%E6%A2%B0%E8%AE%BE%E5%A4%87%22%2C%22selected%22%3Afalse%7D%2C%7B%22value%22%3A%22%E6%B1%BD%E8%BD%A6%2F%E4%BA%A4%E8%BF%90%E8%AE%BE%E5%A4%87%22%2C%22displayValue%22%3A%22%E6%B1%BD%E8%BD%A6%2F%E4%BA%A4%E8%BF%90%E8%AE%BE%E5%A4%87%22%2C%22selected%22%3Afalse%7D%2C%7B%22value%22%3A%22%E7%94%B5%E5%AD%90%22%2C%22displayValue%22%3A%22%E7%94%B5%E5%AD%90%22%2C%22selected%22%3Afalse%7D%2C%7B%22value%22%3A%22%E7%94%B5%E6%B0%94%E8%AE%BE%E5%A4%87%22%2C%22displayValue%22%3A%22%E7%94%B5%E6%B0%94%E8%AE%BE%E5%A4%87%22%2C%22selected%22%3Afalse%7D%2C%7B%22value%22%3A%22%E7%BA%BA%E7%BB%87%E6%9C%8D%E8%A3%85%22%2C%22displayValue%22%3A%22%E7%BA%BA%E7%BB%87%E6%9C%8D%E8%A3%85%22%2C%22selected%22%3Afalse%7D%2C%7B%22value%22%3A%22%E7%BB%BC%E5%90%88%22%2C%22displayValue%22%3A%22%E7%BB%BC%E5%90%88%22%2C%22selected%22%3Afalse%7D%2C%7B%22value%22%3A%22%E8%AE%A1%E7%AE%97%E6%9C%BA%22%2C%22displayValue%22%3A%22%E8%AE%A1%E7%AE%97%E6%9C%BA%22%2C%22selected%22%3Afalse%7D%2C%7B%22value%22%3A%22%E8%BD%BB%E5%B7%A5%E5%88%B6%E9%80%A0%22%2C%22displayValue%22%3A%22%E8%BD%BB%E5%B7%A5%E5%88%B6%E9%80%A0%22%2C%22selected%22%3Afalse%7D%2C%7B%22value%22%3A%22%E9%80%9A%E4%BF%A1%22%2C%22displayValue%22%3A%22%E9%80%9A%E4%BF%A1%22%2C%22selected%22%3Afalse%7D%2C%7B%22value%22%3A%22%E9%87%87%E6%8E%98%22%2C%22displayValue%22%3A%22%E9%87%87%E6%8E%98%22%2C%22selected%22%3Afalse%7D%2C%7B%22value%22%3A%22%E9%92%A2%E9%93%81%22%2C%22displayValue%22%3A%22%E9%92%A2%E9%93%81%22%2C%22selected%22%3Afalse%7D%2C%7B%22value%22%3A%22%E9%93%B6%E8%A1%8C%22%2C%22displayValue%22%3A%22%E9%93%B6%E8%A1%8C%22%2C%22selected%22%3Afalse%7D%2C%7B%22value%22%3A%22%E9%9D%9E%E9%93%B6%E9%87%91%E8%9E%8D%22%2C%22displayValue%22%3A%22%E9%9D%9E%E9%93%B6%E9%87%91%E8%9E%8D%22%2C%22selected%22%3Afalse%7D%2C%7B%22value%22%3A%22%E9%A3%9F%E5%93%81%E9%A5%AE%E6%96%99%22%2C%22displayValue%22%3A%22%E9%A3%9F%E5%93%81%E9%A5%AE%E6%96%99%22%2C%22selected%22%3Afalse%7D%5D%7D\",\"type\":\"Literal\",\"bound_global_parameter\":null},{\"name\":\"st_cond\",\"value\":\"%7B%22enumItems%22%3A%5B%7B%22value%22%3A%22%E5%85%A8%E9%83%A8%22%2C%22displayValue%22%3A%22%E5%85%A8%E9%83%A8%22%2C%22selected%22%3Afalse%7D%2C%7B%22value%22%3A%22%E6%AD%A3%E5%B8%B8%22%2C%22displayValue%22%3A%22%E6%AD%A3%E5%B8%B8%22%2C%22selected%22%3Atrue%7D%2C%7B%22value%22%3A%22ST%22%2C%22displayValue%22%3A%22ST%22%2C%22selected%22%3Afalse%7D%2C%7B%22value%22%3A%22*ST%22%2C%22displayValue%22%3A%22*ST%22%2C%22selected%22%3Afalse%7D%2C%7B%22value%22%3A%22%E6%9A%82%E5%81%9C%E4%B8%8A%E5%B8%82%22%2C%22displayValue%22%3A%22%E6%9A%82%E5%81%9C%E4%B8%8A%E5%B8%82%22%2C%22selected%22%3Afalse%7D%5D%7D\",\"type\":\"Literal\",\"bound_global_parameter\":null},{\"name\":\"delist_cond\",\"value\":\"%7B%22enumItems%22%3A%5B%7B%22value%22%3A%22%E5%85%A8%E9%83%A8%22%2C%22displayValue%22%3A%22%E5%85%A8%E9%83%A8%22%2C%22selected%22%3Afalse%7D%2C%7B%22value%22%3A%22%E9%80%80%E5%B8%82%22%2C%22displayValue%22%3A%22%E9%80%80%E5%B8%82%22%2C%22selected%22%3Afalse%7D%2C%7B%22value%22%3A%22%E9%9D%9E%E9%80%80%E5%B8%82%22%2C%22displayValue%22%3A%22%E9%9D%9E%E9%80%80%E5%B8%82%22%2C%22selected%22%3Atrue%7D%5D%7D\",\"type\":\"Literal\",\"bound_global_parameter\":null},{\"name\":\"output_left_data\",\"value\":\"False\",\"type\":\"Literal\",\"bound_global_parameter\":null}],\"input_ports\":[{\"name\":\"input_data\",\"node_id\":\"-373\"}],\"output_ports\":[{\"name\":\"data\",\"node_id\":\"-373\"},{\"name\":\"left_data\",\"node_id\":\"-373\"}],\"cacheable\":true,\"seq_num\":10,\"comment\":\"\",\"comment_collapsed\":true},{\"node_id\":\"-383\",\"module_id\":\"BigQuantSpace.chinaa_stock_filter.chinaa_stock_filter-v1\",\"parameters\":[{\"name\":\"index_constituent_cond\",\"value\":\"%7B%22enumItems%22%3A%5B%7B%22value%22%3A%22%E5%85%A8%E9%83%A8%22%2C%22displayValue%22%3A%22%E5%85%A8%E9%83%A8%22%2C%22selected%22%3Afalse%7D%2C%7B%22value%22%3A%22%E4%B8%8A%E8%AF%8150%22%2C%22displayValue%22%3A%22%E4%B8%8A%E8%AF%8150%22%2C%22selected%22%3Afalse%7D%2C%7B%22value%22%3A%22%E6%B2%AA%E6%B7%B1300%22%2C%22displayValue%22%3A%22%E6%B2%AA%E6%B7%B1300%22%2C%22selected%22%3Atrue%7D%2C%7B%22value%22%3A%22%E4%B8%AD%E8%AF%81500%22%2C%22displayValue%22%3A%22%E4%B8%AD%E8%AF%81500%22%2C%22selected%22%3Afalse%7D%2C%7B%22value%22%3A%22%E4%B8%AD%E8%AF%81800%22%2C%22displayValue%22%3A%22%E4%B8%AD%E8%AF%81800%22%2C%22selected%22%3Afalse%7D%2C%7B%22value%22%3A%22%E4%B8%8A%E8%AF%81180%22%2C%22displayValue%22%3A%22%E4%B8%8A%E8%AF%81180%22%2C%22selected%22%3Afalse%7D%2C%7B%22value%22%3A%22%E4%B8%AD%E8%AF%81100%22%2C%22displayValue%22%3A%22%E4%B8%AD%E8%AF%81100%22%2C%22selected%22%3Afalse%7D%2C%7B%22value%22%3A%22%E6%B7%B1%E8%AF%81100%22%2C%22displayValue%22%3A%22%E6%B7%B1%E8%AF%81100%22%2C%22selected%22%3Afalse%7D%5D%7D\",\"type\":\"Literal\",\"bound_global_parameter\":null},{\"name\":\"board_cond\",\"value\":\"%7B%22enumItems%22%3A%5B%7B%22value%22%3A%22%E5%85%A8%E9%83%A8%22%2C%22displayValue%22%3A%22%E5%85%A8%E9%83%A8%22%2C%22selected%22%3Afalse%7D%2C%7B%22value%22%3A%22%E4%B8%8A%E8%AF%81%E4%B8%BB%E6%9D%BF%22%2C%22displayValue%22%3A%22%E4%B8%8A%E8%AF%81%E4%B8%BB%E6%9D%BF%22%2C%22selected%22%3Atrue%7D%2C%7B%22value%22%3A%22%E6%B7%B1%E8%AF%81%E4%B8%BB%E6%9D%BF%22%2C%22displayValue%22%3A%22%E6%B7%B1%E8%AF%81%E4%B8%BB%E6%9D%BF%22%2C%22selected%22%3Atrue%7D%2C%7B%22value%22%3A%22%E5%88%9B%E4%B8%9A%E6%9D%BF%22%2C%22displayValue%22%3A%22%E5%88%9B%E4%B8%9A%E6%9D%BF%22%2C%22selected%22%3Afalse%7D%2C%7B%22value%22%3A%22%E7%A7%91%E5%88%9B%E6%9D%BF%22%2C%22displayValue%22%3A%22%E7%A7%91%E5%88%9B%E6%9D%BF%22%2C%22selected%22%3Afalse%7D%5D%7D\",\"type\":\"Literal\",\"bound_global_parameter\":null},{\"name\":\"industry_cond\",\"value\":\"%7B%22enumItems%22%3A%5B%7B%22value%22%3A%22%E5%85%A8%E9%83%A8%22%2C%22displayValue%22%3A%22%E5%85%A8%E9%83%A8%22%2C%22selected%22%3Atrue%7D%2C%7B%22value%22%3A%22%E4%BA%A4%E9%80%9A%E8%BF%90%E8%BE%93%22%2C%22displayValue%22%3A%22%E4%BA%A4%E9%80%9A%E8%BF%90%E8%BE%93%22%2C%22selected%22%3Afalse%7D%2C%7B%22value%22%3A%22%E4%BC%91%E9%97%B2%E6%9C%8D%E5%8A%A1%22%2C%22displayValue%22%3A%22%E4%BC%91%E9%97%B2%E6%9C%8D%E5%8A%A1%22%2C%22selected%22%3Afalse%7D%2C%7B%22value%22%3A%22%E4%BC%A0%E5%AA%92%2F%E4%BF%A1%E6%81%AF%E6%9C%8D%E5%8A%A1%22%2C%22displayValue%22%3A%22%E4%BC%A0%E5%AA%92%2F%E4%BF%A1%E6%81%AF%E6%9C%8D%E5%8A%A1%22%2C%22selected%22%3Afalse%7D%2C%7B%22value%22%3A%22%E5%85%AC%E7%94%A8%E4%BA%8B%E4%B8%9A%22%2C%22displayValue%22%3A%22%E5%85%AC%E7%94%A8%E4%BA%8B%E4%B8%9A%22%2C%22selected%22%3Afalse%7D%2C%7B%22value%22%3A%22%E5%86%9C%E6%9E%97%E7%89%A7%E6%B8%94%22%2C%22displayValue%22%3A%22%E5%86%9C%E6%9E%97%E7%89%A7%E6%B8%94%22%2C%22selected%22%3Afalse%7D%2C%7B%22value%22%3A%22%E5%8C%96%E5%B7%A5%22%2C%22displayValue%22%3A%22%E5%8C%96%E5%B7%A5%22%2C%22selected%22%3Afalse%7D%2C%7B%22value%22%3A%22%E5%8C%BB%E8%8D%AF%E7%94%9F%E7%89%A9%22%2C%22displayValue%22%3A%22%E5%8C%BB%E8%8D%AF%E7%94%9F%E7%89%A9%22%2C%22selected%22%3Afalse%7D%2C%7B%22value%22%3A%22%E5%95%86%E4%B8%9A%E8%B4%B8%E6%98%93%22%2C%22displayValue%22%3A%22%E5%95%86%E4%B8%9A%E8%B4%B8%E6%98%93%22%2C%22selected%22%3Afalse%7D%2C%7B%22value%22%3A%22%E5%9B%BD%E9%98%B2%E5%86%9B%E5%B7%A5%22%2C%22displayValue%22%3A%22%E5%9B%BD%E9%98%B2%E5%86%9B%E5%B7%A5%22%2C%22selected%22%3Afalse%7D%2C%7B%22value%22%3A%22%E5%AE%B6%E7%94%A8%E7%94%B5%E5%99%A8%22%2C%22displayValue%22%3A%22%E5%AE%B6%E7%94%A8%E7%94%B5%E5%99%A8%22%2C%22selected%22%3Afalse%7D%2C%7B%22value%22%3A%22%E5%BB%BA%E7%AD%91%E6%9D%90%E6%96%99%2F%E5%BB%BA%E7%AD%91%E5%BB%BA%E6%9D%90%22%2C%22displayValue%22%3A%22%E5%BB%BA%E7%AD%91%E6%9D%90%E6%96%99%2F%E5%BB%BA%E7%AD%91%E5%BB%BA%E6%9D%90%22%2C%22selected%22%3Afalse%7D%2C%7B%22value%22%3A%22%E5%BB%BA%E7%AD%91%E8%A3%85%E9%A5%B0%22%2C%22displayValue%22%3A%22%E5%BB%BA%E7%AD%91%E8%A3%85%E9%A5%B0%22%2C%22selected%22%3Afalse%7D%2C%7B%22value%22%3A%22%E6%88%BF%E5%9C%B0%E4%BA%A7%22%2C%22displayValue%22%3A%22%E6%88%BF%E5%9C%B0%E4%BA%A7%22%2C%22selected%22%3Afalse%7D%2C%7B%22value%22%3A%22%E6%9C%89%E8%89%B2%E9%87%91%E5%B1%9E%22%2C%22displayValue%22%3A%22%E6%9C%89%E8%89%B2%E9%87%91%E5%B1%9E%22%2C%22selected%22%3Afalse%7D%2C%7B%22value%22%3A%22%E6%9C%BA%E6%A2%B0%E8%AE%BE%E5%A4%87%22%2C%22displayValue%22%3A%22%E6%9C%BA%E6%A2%B0%E8%AE%BE%E5%A4%87%22%2C%22selected%22%3Afalse%7D%2C%7B%22value%22%3A%22%E6%B1%BD%E8%BD%A6%2F%E4%BA%A4%E8%BF%90%E8%AE%BE%E5%A4%87%22%2C%22displayValue%22%3A%22%E6%B1%BD%E8%BD%A6%2F%E4%BA%A4%E8%BF%90%E8%AE%BE%E5%A4%87%22%2C%22selected%22%3Afalse%7D%2C%7B%22value%22%3A%22%E7%94%B5%E5%AD%90%22%2C%22displayValue%22%3A%22%E7%94%B5%E5%AD%90%22%2C%22selected%22%3Afalse%7D%2C%7B%22value%22%3A%22%E7%94%B5%E6%B0%94%E8%AE%BE%E5%A4%87%22%2C%22displayValue%22%3A%22%E7%94%B5%E6%B0%94%E8%AE%BE%E5%A4%87%22%2C%22selected%22%3Afalse%7D%2C%7B%22value%22%3A%22%E7%BA%BA%E7%BB%87%E6%9C%8D%E8%A3%85%22%2C%22displayValue%22%3A%22%E7%BA%BA%E7%BB%87%E6%9C%8D%E8%A3%85%22%2C%22selected%22%3Afalse%7D%2C%7B%22value%22%3A%22%E7%BB%BC%E5%90%88%22%2C%22displayValue%22%3A%22%E7%BB%BC%E5%90%88%22%2C%22selected%22%3Afalse%7D%2C%7B%22value%22%3A%22%E8%AE%A1%E7%AE%97%E6%9C%BA%22%2C%22displayValue%22%3A%22%E8%AE%A1%E7%AE%97%E6%9C%BA%22%2C%22selected%22%3Afalse%7D%2C%7B%22value%22%3A%22%E8%BD%BB%E5%B7%A5%E5%88%B6%E9%80%A0%22%2C%22displayValue%22%3A%22%E8%BD%BB%E5%B7%A5%E5%88%B6%E9%80%A0%22%2C%22selected%22%3Afalse%7D%2C%7B%22value%22%3A%22%E9%80%9A%E4%BF%A1%22%2C%22displayValue%22%3A%22%E9%80%9A%E4%BF%A1%22%2C%22selected%22%3Afalse%7D%2C%7B%22value%22%3A%22%E9%87%87%E6%8E%98%22%2C%22displayValue%22%3A%22%E9%87%87%E6%8E%98%22%2C%22selected%22%3Afalse%7D%2C%7B%22value%22%3A%22%E9%92%A2%E9%93%81%22%2C%22displayValue%22%3A%22%E9%92%A2%E9%93%81%22%2C%22selected%22%3Afalse%7D%2C%7B%22value%22%3A%22%E9%93%B6%E8%A1%8C%22%2C%22displayValue%22%3A%22%E9%93%B6%E8%A1%8C%22%2C%22selected%22%3Afalse%7D%2C%7B%22value%22%3A%22%E9%9D%9E%E9%93%B6%E9%87%91%E8%9E%8D%22%2C%22displayValue%22%3A%22%E9%9D%9E%E9%93%B6%E9%87%91%E8%9E%8D%22%2C%22selected%22%3Afalse%7D%2C%7B%22value%22%3A%22%E9%A3%9F%E5%93%81%E9%A5%AE%E6%96%99%22%2C%22displayValue%22%3A%22%E9%A3%9F%E5%93%81%E9%A5%AE%E6%96%99%22%2C%22selected%22%3Afalse%7D%5D%7D\",\"type\":\"Literal\",\"bound_global_parameter\":null},{\"name\":\"st_cond\",\"value\":\"%7B%22enumItems%22%3A%5B%7B%22value%22%3A%22%E5%85%A8%E9%83%A8%22%2C%22displayValue%22%3A%22%E5%85%A8%E9%83%A8%22%2C%22selected%22%3Afalse%7D%2C%7B%22value%22%3A%22%E6%AD%A3%E5%B8%B8%22%2C%22displayValue%22%3A%22%E6%AD%A3%E5%B8%B8%22%2C%22selected%22%3Atrue%7D%2C%7B%22value%22%3A%22ST%22%2C%22displayValue%22%3A%22ST%22%2C%22selected%22%3Afalse%7D%2C%7B%22value%22%3A%22*ST%22%2C%22displayValue%22%3A%22*ST%22%2C%22selected%22%3Afalse%7D%2C%7B%22value%22%3A%22%E6%9A%82%E5%81%9C%E4%B8%8A%E5%B8%82%22%2C%22displayValue%22%3A%22%E6%9A%82%E5%81%9C%E4%B8%8A%E5%B8%82%22%2C%22selected%22%3Afalse%7D%5D%7D\",\"type\":\"Literal\",\"bound_global_parameter\":null},{\"name\":\"delist_cond\",\"value\":\"%7B%22enumItems%22%3A%5B%7B%22value%22%3A%22%E5%85%A8%E9%83%A8%22%2C%22displayValue%22%3A%22%E5%85%A8%E9%83%A8%22%2C%22selected%22%3Afalse%7D%2C%7B%22value%22%3A%22%E9%80%80%E5%B8%82%22%2C%22displayValue%22%3A%22%E9%80%80%E5%B8%82%22%2C%22selected%22%3Afalse%7D%2C%7B%22value%22%3A%22%E9%9D%9E%E9%80%80%E5%B8%82%22%2C%22displayValue%22%3A%22%E9%9D%9E%E9%80%80%E5%B8%82%22%2C%22selected%22%3Atrue%7D%5D%7D\",\"type\":\"Literal\",\"bound_global_parameter\":null},{\"name\":\"output_left_data\",\"value\":\"False\",\"type\":\"Literal\",\"bound_global_parameter\":null}],\"input_ports\":[{\"name\":\"input_data\",\"node_id\":\"-383\"}],\"output_ports\":[{\"name\":\"data\",\"node_id\":\"-383\"},{\"name\":\"left_data\",\"node_id\":\"-383\"}],\"cacheable\":true,\"seq_num\":5,\"comment\":\"\",\"comment_collapsed\":true}],\"node_layout\":\"<node_postions><node_position Node='287d2cb0-f53c-4101-bdf8-104b137c8601-8' Position='211,64,200,200'/><node_position Node='287d2cb0-f53c-4101-bdf8-104b137c8601-15' Position='70,183,200,200'/><node_position Node='287d2cb0-f53c-4101-bdf8-104b137c8601-24' Position='765,21,200,200'/><node_position Node='287d2cb0-f53c-4101-bdf8-104b137c8601-53' Position='249,375,200,200'/><node_position Node='287d2cb0-f53c-4101-bdf8-104b137c8601-60' Position='761,735,200,200'/><node_position Node='287d2cb0-f53c-4101-bdf8-104b137c8601-62' Position='1074,127,200,200'/><node_position Node='287d2cb0-f53c-4101-bdf8-104b137c8601-84' Position='379,539,200,200'/><node_position Node='-86' Position='1027,523,200,200'/><node_position Node='-215' Position='381,188,200,200'/><node_position Node='-222' Position='385,280,200,200'/><node_position Node='-231' Position='1078,236,200,200'/><node_position Node='-238' Position='1081,327,200,200'/><node_position Node='-250' Position='979,858,200,200'/><node_position Node='-1047' Position='487,629,200,200'/><node_position Node='-373' Position='325,457,200,200'/><node_position Node='-383' Position='1084,427,200,200'/></node_postions>\"},\"nodes_readonly\":false,\"studio_version\":\"v2\"}"
   },
   "outputs": [
    {
     "data": {
      "text/plain": [
       "[2021-12-21 18:34:35.637730] INFO: moduleinvoker: instruments.v2 开始运行.."
      ]
     },
     "metadata": {
      "is_log": true,
      "status": "INFO"
     },
     "output_type": "display_data"
    },
    {
     "data": {
      "text/plain": [
       "[2021-12-21 18:34:35.648528] INFO: moduleinvoker: 命中缓存"
      ]
     },
     "metadata": {
      "is_log": true,
      "status": "INFO"
     },
     "output_type": "display_data"
    },
    {
     "data": {
      "text/plain": [
       "[2021-12-21 18:34:35.650862] INFO: moduleinvoker: instruments.v2 运行完成[0.013139s]."
      ]
     },
     "metadata": {
      "is_log": true,
      "status": "INFO"
     },
     "output_type": "display_data"
    },
    {
     "data": {
      "text/plain": [
       "[2021-12-21 18:34:35.657349] INFO: moduleinvoker: input_features.v1 开始运行.."
      ]
     },
     "metadata": {
      "is_log": true,
      "status": "INFO"
     },
     "output_type": "display_data"
    },
    {
     "data": {
      "text/plain": [
       "[2021-12-21 18:34:35.667538] INFO: moduleinvoker: 命中缓存"
      ]
     },
     "metadata": {
      "is_log": true,
      "status": "INFO"
     },
     "output_type": "display_data"
    },
    {
     "data": {
      "text/plain": [
       "[2021-12-21 18:34:35.670034] INFO: moduleinvoker: input_features.v1 运行完成[0.012697s]."
      ]
     },
     "metadata": {
      "is_log": true,
      "status": "INFO"
     },
     "output_type": "display_data"
    },
    {
     "data": {
      "text/plain": [
       "[2021-12-21 18:34:35.687923] INFO: moduleinvoker: general_feature_extractor.v7 开始运行.."
      ]
     },
     "metadata": {
      "is_log": true,
      "status": "INFO"
     },
     "output_type": "display_data"
    },
    {
     "data": {
      "text/plain": [
       "[2021-12-21 18:34:35.696684] INFO: moduleinvoker: 命中缓存"
      ]
     },
     "metadata": {
      "is_log": true,
      "status": "INFO"
     },
     "output_type": "display_data"
    },
    {
     "data": {
      "text/plain": [
       "[2021-12-21 18:34:35.699257] INFO: moduleinvoker: general_feature_extractor.v7 运行完成[0.011357s]."
      ]
     },
     "metadata": {
      "is_log": true,
      "status": "INFO"
     },
     "output_type": "display_data"
    },
    {
     "data": {
      "text/plain": [
       "[2021-12-21 18:34:35.710772] INFO: moduleinvoker: derived_feature_extractor.v3 开始运行.."
      ]
     },
     "metadata": {
      "is_log": true,
      "status": "INFO"
     },
     "output_type": "display_data"
    },
    {
     "data": {
      "text/plain": [
       "[2021-12-21 18:34:35.721493] INFO: moduleinvoker: 命中缓存"
      ]
     },
     "metadata": {
      "is_log": true,
      "status": "INFO"
     },
     "output_type": "display_data"
    },
    {
     "data": {
      "text/plain": [
       "[2021-12-21 18:34:35.724138] INFO: moduleinvoker: derived_feature_extractor.v3 运行完成[0.013369s]."
      ]
     },
     "metadata": {
      "is_log": true,
      "status": "INFO"
     },
     "output_type": "display_data"
    }
   ],
   "source": [
    "# 本代码由可视化策略环境自动生成 2021年12月21日 18:36\n",
    "# 本代码单元只能在可视化模式下编辑。您也可以拷贝代码，粘贴到新建的代码单元或者策略，然后修改。\n",
    "\n",
    "\n",
    "# 回测引擎：初始化函数，只执行一次\n",
    "def m19_initialize_bigquant_run(context):\n",
    "    # 加载预测数据\n",
    "    context.ranker_prediction = context.options['data'].read_df()\n",
    "\n",
    "    # 系统已经设置了默认的交易手续费和滑点，要修改手续费可使用如下函数\n",
    "    context.set_commission(PerOrder(buy_cost=0.0003, sell_cost=0.0013, min_cost=5))\n",
    "    # 预测数据，通过options传入进来，使用 read_df 函数，加载到内存 (DataFrame)\n",
    "    # 设置买入的股票数量，这里买入预测股票列表排名靠前的5只\n",
    "    stock_count = 5\n",
    "    # 每只的股票的权重，如下的权重分配会使得靠前的股票分配多一点的资金，[0.339160, 0.213986, 0.169580, ..]\n",
    "    context.stock_weights = T.norm([1 / math.log(i + 2) for i in range(0, stock_count)])\n",
    "    # 设置每只股票占用的最大资金比例\n",
    "    context.max_cash_per_instrument = 0.2\n",
    "    context.options['hold_days'] = 5\n",
    "\n",
    "# 回测引擎：每日数据处理函数，每天执行一次\n",
    "def m19_handle_data_bigquant_run(context, data):\n",
    "    # 按日期过滤得到今日的预测数据\n",
    "    ranker_prediction = context.ranker_prediction[context.ranker_prediction.date == data.current_dt.strftime('%Y-%m-%d')]\n",
    "\n",
    "    # 1. 资金分配\n",
    "    # 平均持仓时间是hold_days，每日都将买入股票，每日预期使用 1/hold_days 的资金\n",
    "    # 实际操作中，会存在一定的买入误差，所以在前hold_days天，等量使用资金；之后，尽量使用剩余资金（这里设置最多用等量的1.5倍）\n",
    "    is_staging = context.trading_day_index < context.options['hold_days'] # 是否在建仓期间（前 hold_days 天）\n",
    "    cash_avg = context.portfolio.portfolio_value / context.options['hold_days']\n",
    "    cash_for_buy = min(context.portfolio.cash, (1 if is_staging else 1.5) * cash_avg)\n",
    "    cash_for_sell = cash_avg - (context.portfolio.cash - cash_for_buy)\n",
    "    positions = {e.symbol: p.amount * p.last_sale_price\n",
    "                 for e, p in context.portfolio.positions.items()}\n",
    "\n",
    "    # 2. 生成卖出订单：hold_days天之后才开始卖出；对持仓的股票，按机器学习算法预测的排序末位淘汰\n",
    "    if not is_staging and cash_for_sell > 0:\n",
    "        equities = {e.symbol: e for e, p in context.portfolio.positions.items()}\n",
    "        instruments = list(reversed(list(ranker_prediction.instrument[ranker_prediction.instrument.apply(lambda x: x in equities)])))\n",
    "\n",
    "        for instrument in instruments:\n",
    "            context.order_target(context.symbol(instrument), 0)\n",
    "            cash_for_sell -= positions[instrument]\n",
    "            if cash_for_sell <= 0:\n",
    "                break\n",
    "\n",
    "    # 3. 生成买入订单：按机器学习算法预测的排序，买入前面的stock_count只股票\n",
    "    buy_cash_weights = context.stock_weights\n",
    "    buy_instruments = list(ranker_prediction.instrument[:len(buy_cash_weights)])\n",
    "    max_cash_per_instrument = context.portfolio.portfolio_value * context.max_cash_per_instrument\n",
    "    for i, instrument in enumerate(buy_instruments):\n",
    "        cash = cash_for_buy * buy_cash_weights[i]\n",
    "        if cash > max_cash_per_instrument - positions.get(instrument, 0):\n",
    "            # 确保股票持仓量不会超过每次股票最大的占用资金量\n",
    "            cash = max_cash_per_instrument - positions.get(instrument, 0)\n",
    "        if cash > 0:\n",
    "            context.order_value(context.symbol(instrument), cash)\n",
    "\n",
    "# 回测引擎：准备数据，只执行一次\n",
    "def m19_prepare_bigquant_run(context):\n",
    "    pass\n",
    "\n",
    "\n",
    "m1 = M.instruments.v2(\n",
    "    start_date='2017-01-01',\n",
    "    end_date='2020-01-01',\n",
    "    market='CN_STOCK_A',\n",
    "    instrument_list='',\n",
    "    max_count=0\n",
    ")\n",
    "\n",
    "m2 = M.advanced_auto_labeler.v2(\n",
    "    instruments=m1.data,\n",
    "    label_expr=\"\"\"# #号开始的表示注释\n",
    "# 0. 每行一个，顺序执行，从第二个开始，可以使用label字段\n",
    "# 1. 可用数据字段见 https://bigquant.com/docs/develop/datasource/deprecated/history_data.html\n",
    "#   添加benchmark_前缀，可使用对应的benchmark数据\n",
    "# 2. 可用操作符和函数见 `表达式引擎 <https://bigquant.com/docs/develop/bigexpr/usage.html>`_\n",
    "\n",
    "# 计算收益：5日收盘价(作为卖出价格)除以明日开盘价(作为买入价格)\n",
    "shift(close, -5) / shift(open, -1)\n",
    "\n",
    "# 极值处理：用1%和99%分位的值做clip\n",
    "clip(label, all_quantile(label, 0.01), all_quantile(label, 0.99))\n",
    "\n",
    "# 将分数映射到分类，这里使用20个分类\n",
    "all_wbins(label, 20)\n",
    "\n",
    "# 过滤掉一字涨停的情况 (设置label为NaN，在后续处理和训练中会忽略NaN的label)\n",
    "where(shift(high, -1) == shift(low, -1), NaN, label)\n",
    "\"\"\",\n",
    "    start_date='',\n",
    "    end_date='',\n",
    "    benchmark='000300.SHA',\n",
    "    drop_na_label=True,\n",
    "    cast_label_int=True\n",
    ")\n",
    "\n",
    "m3 = M.input_features.v1(\n",
    "    features=\"\"\"# #号开始的表示注释\n",
    "# 多个特征，每行一个，可以包含基础特征和衍生特征\n",
    "return_5\n",
    "return_10\n",
    "return_20\n",
    "avg_amount_0/avg_amount_5\n",
    "avg_amount_5/avg_amount_20\n",
    "rank_avg_amount_0/rank_avg_amount_5\n",
    "rank_avg_amount_5/rank_avg_amount_10\n",
    "rank_return_0\n",
    "rank_return_5\n",
    "rank_return_10\n",
    "rank_return_0/rank_return_5\n",
    "rank_return_5/rank_return_10\n",
    "pe_ttm_0\n",
    "\"\"\"\n",
    ")\n",
    "\n",
    "m15 = M.general_feature_extractor.v7(\n",
    "    instruments=m1.data,\n",
    "    features=m3.data,\n",
    "    start_date='',\n",
    "    end_date='',\n",
    "    before_start_days=0\n",
    ")\n",
    "\n",
    "m16 = M.derived_feature_extractor.v3(\n",
    "    input_data=m15.data,\n",
    "    features=m3.data,\n",
    "    date_col='date',\n",
    "    instrument_col='instrument',\n",
    "    drop_na=False,\n",
    "    remove_extra_columns=False\n",
    ")\n",
    "\n",
    "m7 = M.join.v3(\n",
    "    data1=m2.data,\n",
    "    data2=m16.data,\n",
    "    on='date,instrument',\n",
    "    how='inner',\n",
    "    sort=False\n",
    ")\n",
    "\n",
    "m10 = M.chinaa_stock_filter.v1(\n",
    "    input_data=m7.data,\n",
    "    index_constituent_cond=['沪深300'],\n",
    "    board_cond=['上证主板', '深证主板'],\n",
    "    industry_cond=['全部'],\n",
    "    st_cond=['正常'],\n",
    "    delist_cond=['非退市'],\n",
    "    output_left_data=False\n",
    ")\n",
    "\n",
    "m13 = M.dropnan.v1(\n",
    "    input_data=m10.data\n",
    ")\n",
    "\n",
    "m4 = M.stock_ranker_train.v6(\n",
    "    training_ds=m13.data,\n",
    "    features=m3.data,\n",
    "    learning_algorithm='排序',\n",
    "    number_of_leaves=30,\n",
    "    minimum_docs_per_leaf=1000,\n",
    "    number_of_trees=20,\n",
    "    learning_rate=0.1,\n",
    "    max_bins=1023,\n",
    "    feature_fraction=1,\n",
    "    data_row_fraction=1,\n",
    "    plot_charts=True,\n",
    "    ndcg_discount_base=1,\n",
    "    m_lazy_run=False\n",
    ")\n",
    "\n",
    "m9 = M.instruments.v2(\n",
    "    start_date=T.live_run_param('trading_date', '2020-01-01'),\n",
    "    end_date=T.live_run_param('trading_date', '2021-12-01'),\n",
    "    market='CN_STOCK_A',\n",
    "    instrument_list='',\n",
    "    max_count=0\n",
    ")\n",
    "\n",
    "m17 = M.general_feature_extractor.v7(\n",
    "    instruments=m9.data,\n",
    "    features=m3.data,\n",
    "    start_date='',\n",
    "    end_date='',\n",
    "    before_start_days=0\n",
    ")\n",
    "\n",
    "m18 = M.derived_feature_extractor.v3(\n",
    "    input_data=m17.data,\n",
    "    features=m3.data,\n",
    "    date_col='date',\n",
    "    instrument_col='instrument',\n",
    "    drop_na=False,\n",
    "    remove_extra_columns=False\n",
    ")\n",
    "\n",
    "m5 = M.chinaa_stock_filter.v1(\n",
    "    input_data=m18.data,\n",
    "    index_constituent_cond=['沪深300'],\n",
    "    board_cond=['上证主板', '深证主板'],\n",
    "    industry_cond=['全部'],\n",
    "    st_cond=['正常'],\n",
    "    delist_cond=['非退市'],\n",
    "    output_left_data=False\n",
    ")\n",
    "\n",
    "m14 = M.dropnan.v1(\n",
    "    input_data=m5.data\n",
    ")\n",
    "\n",
    "m8 = M.stock_ranker_predict.v5(\n",
    "    model=m4.model,\n",
    "    data=m14.data,\n",
    "    m_lazy_run=False\n",
    ")\n",
    "\n",
    "m19 = M.trade.v4(\n",
    "    instruments=m9.data,\n",
    "    options_data=m8.predictions,\n",
    "    start_date='',\n",
    "    end_date='',\n",
    "    initialize=m19_initialize_bigquant_run,\n",
    "    handle_data=m19_handle_data_bigquant_run,\n",
    "    prepare=m19_prepare_bigquant_run,\n",
    "    volume_limit=0.025,\n",
    "    order_price_field_buy='open',\n",
    "    order_price_field_sell='close',\n",
    "    capital_base=1000000,\n",
    "    auto_cancel_non_tradable_orders=True,\n",
    "    data_frequency='daily',\n",
    "    price_type='后复权',\n",
    "    product_type='股票',\n",
    "    plot_charts=True,\n",
    "    backtest_only=False,\n",
    "    benchmark='000300.SHA'\n",
    ")\n"
   ]
  }
 ],
 "metadata": {
  "kernelspec": {
   "display_name": "Python 3",
   "language": "python",
   "name": "python3"
  },
  "language_info": {
   "codemirror_mode": {
    "name": "ipython",
    "version": 3
   },
   "file_extension": ".py",
   "mimetype": "text/x-python",
   "name": "python",
   "nbconvert_exporter": "python",
   "pygments_lexer": "ipython3",
   "version": "3.8.7"
  }
 },
 "nbformat": 4,
 "nbformat_minor": 4
}
