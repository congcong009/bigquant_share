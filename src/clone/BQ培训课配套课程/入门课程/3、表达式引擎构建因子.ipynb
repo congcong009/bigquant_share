{
 "cells": [
  {
   "cell_type": "code",
   "execution_count": 1,
   "metadata": {
    "machine_learning_studio": "true",
    "ml_studio_json": "{\"description\":\"实验创建于2019/4/30\",\"graph\":{\"edges\":[{\"to_node_id\":\"-9:features\",\"from_node_id\":\"-4:data\"},{\"to_node_id\":\"-16:features\",\"from_node_id\":\"-4:data\"},{\"to_node_id\":\"-16:input_data\",\"from_node_id\":\"-9:data\"},{\"to_node_id\":\"-9:instruments\",\"from_node_id\":\"-24:data\"}],\"nodes\":[{\"node_id\":\"-4\",\"module_id\":\"BigQuantSpace.input_features.input_features-v1\",\"parameters\":[{\"name\":\"features\",\"value\":\"\\n# #号开始的表示注释，注释需单独一行\\n# 多个特征，每行一个，可以包含基础特征和衍生特征，特征须为本平台特征\\nmean(close_0,5)\\n\",\"type\":\"Literal\",\"bound_global_parameter\":null}],\"input_ports\":[{\"name\":\"features_ds\",\"node_id\":\"-4\"}],\"output_ports\":[{\"name\":\"data\",\"node_id\":\"-4\"}],\"cacheable\":true,\"seq_num\":1,\"comment\":\"\",\"comment_collapsed\":true},{\"node_id\":\"-9\",\"module_id\":\"BigQuantSpace.general_feature_extractor.general_feature_extractor-v7\",\"parameters\":[{\"name\":\"start_date\",\"value\":\"\",\"type\":\"Literal\",\"bound_global_parameter\":null},{\"name\":\"end_date\",\"value\":\"\",\"type\":\"Literal\",\"bound_global_parameter\":null},{\"name\":\"before_start_days\",\"value\":90,\"type\":\"Literal\",\"bound_global_parameter\":null}],\"input_ports\":[{\"name\":\"instruments\",\"node_id\":\"-9\"},{\"name\":\"features\",\"node_id\":\"-9\"}],\"output_ports\":[{\"name\":\"data\",\"node_id\":\"-9\"}],\"cacheable\":true,\"seq_num\":2,\"comment\":\"\",\"comment_collapsed\":true},{\"node_id\":\"-16\",\"module_id\":\"BigQuantSpace.derived_feature_extractor.derived_feature_extractor-v3\",\"parameters\":[{\"name\":\"date_col\",\"value\":\"date\",\"type\":\"Literal\",\"bound_global_parameter\":null},{\"name\":\"instrument_col\",\"value\":\"instrument\",\"type\":\"Literal\",\"bound_global_parameter\":null},{\"name\":\"drop_na\",\"value\":\"False\",\"type\":\"Literal\",\"bound_global_parameter\":null},{\"name\":\"remove_extra_columns\",\"value\":\"False\",\"type\":\"Literal\",\"bound_global_parameter\":null},{\"name\":\"user_functions\",\"value\":\"{}\",\"type\":\"Literal\",\"bound_global_parameter\":null}],\"input_ports\":[{\"name\":\"input_data\",\"node_id\":\"-16\"},{\"name\":\"features\",\"node_id\":\"-16\"}],\"output_ports\":[{\"name\":\"data\",\"node_id\":\"-16\"}],\"cacheable\":true,\"seq_num\":3,\"comment\":\"\",\"comment_collapsed\":true},{\"node_id\":\"-24\",\"module_id\":\"BigQuantSpace.instruments.instruments-v2\",\"parameters\":[{\"name\":\"start_date\",\"value\":\"2018-01-01\",\"type\":\"Literal\",\"bound_global_parameter\":null},{\"name\":\"end_date\",\"value\":\"2018-05-01\",\"type\":\"Literal\",\"bound_global_parameter\":null},{\"name\":\"market\",\"value\":\"CN_STOCK_A\",\"type\":\"Literal\",\"bound_global_parameter\":null},{\"name\":\"instrument_list\",\"value\":\"\",\"type\":\"Literal\",\"bound_global_parameter\":null},{\"name\":\"max_count\",\"value\":0,\"type\":\"Literal\",\"bound_global_parameter\":null}],\"input_ports\":[{\"name\":\"rolling_conf\",\"node_id\":\"-24\"}],\"output_ports\":[{\"name\":\"data\",\"node_id\":\"-24\"}],\"cacheable\":true,\"seq_num\":4,\"comment\":\"\",\"comment_collapsed\":true}],\"node_layout\":\"<node_postions><node_position Node='-4' Position='388,164,200,200'/><node_position Node='-9' Position='216,260,200,200'/><node_position Node='-16' Position='389.6492614746094,416.2510070800781,200,200'/><node_position Node='-24' Position='59,160,200,200'/></node_postions>\"},\"nodes_readonly\":false,\"studio_version\":\"v2\"}"
   },
   "outputs": [
    {
     "data": {
      "text/plain": [
       "[2021-12-07 18:07:46.898000] INFO: moduleinvoker: input_features.v1 开始运行.."
      ]
     },
     "metadata": {
      "is_log": true,
      "status": "INFO"
     },
     "output_type": "display_data"
    },
    {
     "data": {
      "text/plain": [
       "[2021-12-07 18:07:46.960707] INFO: moduleinvoker: input_features.v1 运行完成[0.062729s]."
      ]
     },
     "metadata": {
      "is_log": true,
      "status": "INFO"
     },
     "output_type": "display_data"
    },
    {
     "data": {
      "text/plain": [
       "[2021-12-07 18:07:46.970066] INFO: moduleinvoker: instruments.v2 开始运行.."
      ]
     },
     "metadata": {
      "is_log": true,
      "status": "INFO"
     },
     "output_type": "display_data"
    },
    {
     "data": {
      "text/plain": [
       "[2021-12-07 18:07:47.130426] INFO: moduleinvoker: instruments.v2 运行完成[0.160303s]."
      ]
     },
     "metadata": {
      "is_log": true,
      "status": "INFO"
     },
     "output_type": "display_data"
    },
    {
     "data": {
      "text/plain": [
       "[2021-12-07 18:07:47.158262] INFO: moduleinvoker: general_feature_extractor.v7 开始运行.."
      ]
     },
     "metadata": {
      "is_log": true,
      "status": "INFO"
     },
     "output_type": "display_data"
    },
    {
     "data": {
      "text/plain": [
       "[2021-12-07 18:07:49.182334] INFO: 基础特征抽取: 年份 2017, 特征行数=193398"
      ]
     },
     "metadata": {
      "is_log": true,
      "status": "INFO"
     },
     "output_type": "display_data"
    },
    {
     "data": {
      "text/plain": [
       "[2021-12-07 18:07:52.829960] INFO: 基础特征抽取: 年份 2018, 特征行数=249537"
      ]
     },
     "metadata": {
      "is_log": true,
      "status": "INFO"
     },
     "output_type": "display_data"
    },
    {
     "data": {
      "text/plain": [
       "[2021-12-07 18:07:52.888578] INFO: 基础特征抽取: 总行数: 442935"
      ]
     },
     "metadata": {
      "is_log": true,
      "status": "INFO"
     },
     "output_type": "display_data"
    },
    {
     "data": {
      "text/plain": [
       "[2021-12-07 18:07:52.912112] INFO: moduleinvoker: general_feature_extractor.v7 运行完成[5.753856s]."
      ]
     },
     "metadata": {
      "is_log": true,
      "status": "INFO"
     },
     "output_type": "display_data"
    },
    {
     "data": {
      "text/plain": [
       "[2021-12-07 18:07:52.937926] INFO: moduleinvoker: derived_feature_extractor.v3 开始运行.."
      ]
     },
     "metadata": {
      "is_log": true,
      "status": "INFO"
     },
     "output_type": "display_data"
    },
    {
     "data": {
      "text/plain": [
       "[2021-12-07 18:07:54.389006] INFO: derived_feature_extractor: 提取完成 mean(close_0,5), 0.588s"
      ]
     },
     "metadata": {
      "is_log": true,
      "status": "INFO"
     },
     "output_type": "display_data"
    },
    {
     "data": {
      "text/plain": [
       "[2021-12-07 18:07:54.798133] INFO: derived_feature_extractor: /y_2017, 193398"
      ]
     },
     "metadata": {
      "is_log": true,
      "status": "INFO"
     },
     "output_type": "display_data"
    },
    {
     "data": {
      "text/plain": [
       "[2021-12-07 18:07:55.343593] INFO: derived_feature_extractor: /y_2018, 249537"
      ]
     },
     "metadata": {
      "is_log": true,
      "status": "INFO"
     },
     "output_type": "display_data"
    },
    {
     "data": {
      "text/plain": [
       "[2021-12-07 18:07:55.496750] INFO: moduleinvoker: derived_feature_extractor.v3 运行完成[2.558832s]."
      ]
     },
     "metadata": {
      "is_log": true,
      "status": "INFO"
     },
     "output_type": "display_data"
    }
   ],
   "source": [
    "# 本代码由可视化策略环境自动生成 2021年12月7日 18:08\n",
    "# 本代码单元只能在可视化模式下编辑。您也可以拷贝代码，粘贴到新建的代码单元或者策略，然后修改。\n",
    "\n",
    "\n",
    "m1 = M.input_features.v1(\n",
    "    features=\"\"\"\n",
    "# #号开始的表示注释，注释需单独一行\n",
    "# 多个特征，每行一个，可以包含基础特征和衍生特征，特征须为本平台特征\n",
    "mean(close_0,5)\n",
    "\"\"\"\n",
    ")\n",
    "\n",
    "m4 = M.instruments.v2(\n",
    "    start_date='2018-01-01',\n",
    "    end_date='2018-05-01',\n",
    "    market='CN_STOCK_A',\n",
    "    instrument_list='',\n",
    "    max_count=0\n",
    ")\n",
    "\n",
    "m2 = M.general_feature_extractor.v7(\n",
    "    instruments=m4.data,\n",
    "    features=m1.data,\n",
    "    start_date='',\n",
    "    end_date='',\n",
    "    before_start_days=90\n",
    ")\n",
    "\n",
    "m3 = M.derived_feature_extractor.v3(\n",
    "    input_data=m2.data,\n",
    "    features=m1.data,\n",
    "    date_col='date',\n",
    "    instrument_col='instrument',\n",
    "    drop_na=False,\n",
    "    remove_extra_columns=False,\n",
    "    user_functions={}\n",
    ")\n"
   ]
  },
  {
   "cell_type": "code",
   "execution_count": 2,
   "metadata": {},
   "outputs": [
    {
     "data": {
      "text/html": [
       "<div>\n",
       "<style scoped>\n",
       "    .dataframe tbody tr th:only-of-type {\n",
       "        vertical-align: middle;\n",
       "    }\n",
       "\n",
       "    .dataframe tbody tr th {\n",
       "        vertical-align: top;\n",
       "    }\n",
       "\n",
       "    .dataframe thead th {\n",
       "        text-align: right;\n",
       "    }\n",
       "</style>\n",
       "<table border=\"1\" class=\"dataframe\">\n",
       "  <thead>\n",
       "    <tr style=\"text-align: right;\">\n",
       "      <th></th>\n",
       "      <th>close_0</th>\n",
       "      <th>date</th>\n",
       "      <th>instrument</th>\n",
       "      <th>mean(close_0,5)</th>\n",
       "    </tr>\n",
       "  </thead>\n",
       "  <tbody>\n",
       "    <tr>\n",
       "      <th>442930</th>\n",
       "      <td>17.634611</td>\n",
       "      <td>2018-04-23</td>\n",
       "      <td>603999.SHA</td>\n",
       "      <td>17.765238</td>\n",
       "    </tr>\n",
       "    <tr>\n",
       "      <th>442931</th>\n",
       "      <td>18.094225</td>\n",
       "      <td>2018-04-24</td>\n",
       "      <td>603999.SHA</td>\n",
       "      <td>17.832971</td>\n",
       "    </tr>\n",
       "    <tr>\n",
       "      <th>442932</th>\n",
       "      <td>17.973274</td>\n",
       "      <td>2018-04-25</td>\n",
       "      <td>603999.SHA</td>\n",
       "      <td>17.852323</td>\n",
       "    </tr>\n",
       "    <tr>\n",
       "      <th>442933</th>\n",
       "      <td>17.126619</td>\n",
       "      <td>2018-04-26</td>\n",
       "      <td>603999.SHA</td>\n",
       "      <td>17.668478</td>\n",
       "    </tr>\n",
       "    <tr>\n",
       "      <th>442934</th>\n",
       "      <td>17.223379</td>\n",
       "      <td>2018-04-27</td>\n",
       "      <td>603999.SHA</td>\n",
       "      <td>17.610422</td>\n",
       "    </tr>\n",
       "  </tbody>\n",
       "</table>\n",
       "</div>"
      ],
      "text/plain": [
       "          close_0       date  instrument  mean(close_0,5)\n",
       "442930  17.634611 2018-04-23  603999.SHA        17.765238\n",
       "442931  18.094225 2018-04-24  603999.SHA        17.832971\n",
       "442932  17.973274 2018-04-25  603999.SHA        17.852323\n",
       "442933  17.126619 2018-04-26  603999.SHA        17.668478\n",
       "442934  17.223379 2018-04-27  603999.SHA        17.610422"
      ]
     },
     "execution_count": 2,
     "metadata": {},
     "output_type": "execute_result"
    }
   ],
   "source": [
    "m3.data.read_df().tail()"
   ]
  },
  {
   "cell_type": "code",
   "execution_count": 5,
   "metadata": {},
   "outputs": [
    {
     "data": {
      "text/html": [
       "<div>\n",
       "<style scoped>\n",
       "    .dataframe tbody tr th:only-of-type {\n",
       "        vertical-align: middle;\n",
       "    }\n",
       "\n",
       "    .dataframe tbody tr th {\n",
       "        vertical-align: top;\n",
       "    }\n",
       "\n",
       "    .dataframe thead th {\n",
       "        text-align: right;\n",
       "    }\n",
       "</style>\n",
       "<table border=\"1\" class=\"dataframe\">\n",
       "  <thead>\n",
       "    <tr style=\"text-align: right;\">\n",
       "      <th></th>\n",
       "      <th>close_0</th>\n",
       "      <th>date</th>\n",
       "      <th>instrument</th>\n",
       "      <th>ta_ma(close_0,timeperiod=10)</th>\n",
       "    </tr>\n",
       "  </thead>\n",
       "  <tbody>\n",
       "    <tr>\n",
       "      <th>442930</th>\n",
       "      <td>25.799999</td>\n",
       "      <td>2018-04-27</td>\n",
       "      <td>603991.SHA</td>\n",
       "      <td>26.559000</td>\n",
       "    </tr>\n",
       "    <tr>\n",
       "      <th>442931</th>\n",
       "      <td>24.466702</td>\n",
       "      <td>2018-04-27</td>\n",
       "      <td>603993.SHA</td>\n",
       "      <td>25.102577</td>\n",
       "    </tr>\n",
       "    <tr>\n",
       "      <th>442932</th>\n",
       "      <td>25.330215</td>\n",
       "      <td>2018-04-27</td>\n",
       "      <td>603996.SHA</td>\n",
       "      <td>25.429760</td>\n",
       "    </tr>\n",
       "    <tr>\n",
       "      <th>442933</th>\n",
       "      <td>18.792486</td>\n",
       "      <td>2018-04-27</td>\n",
       "      <td>603997.SHA</td>\n",
       "      <td>18.529055</td>\n",
       "    </tr>\n",
       "    <tr>\n",
       "      <th>442934</th>\n",
       "      <td>17.223379</td>\n",
       "      <td>2018-04-27</td>\n",
       "      <td>603999.SHA</td>\n",
       "      <td>17.762819</td>\n",
       "    </tr>\n",
       "  </tbody>\n",
       "</table>\n",
       "</div>"
      ],
      "text/plain": [
       "          close_0       date  instrument  ta_ma(close_0,timeperiod=10)\n",
       "442930  25.799999 2018-04-27  603991.SHA                     26.559000\n",
       "442931  24.466702 2018-04-27  603993.SHA                     25.102577\n",
       "442932  25.330215 2018-04-27  603996.SHA                     25.429760\n",
       "442933  18.792486 2018-04-27  603997.SHA                     18.529055\n",
       "442934  17.223379 2018-04-27  603999.SHA                     17.762819"
      ]
     },
     "execution_count": 5,
     "metadata": {},
     "output_type": "execute_result"
    }
   ],
   "source": [
    "m3.data.read_df().tail()"
   ]
  }
 ],
 "metadata": {
  "kernelspec": {
   "display_name": "Python 3",
   "language": "python",
   "name": "python3"
  },
  "language_info": {
   "codemirror_mode": {
    "name": "ipython",
    "version": 3
   },
   "file_extension": ".py",
   "mimetype": "text/x-python",
   "name": "python",
   "nbconvert_exporter": "python",
   "pygments_lexer": "ipython3",
   "version": "3.8.7"
  }
 },
 "nbformat": 4,
 "nbformat_minor": 4
}
