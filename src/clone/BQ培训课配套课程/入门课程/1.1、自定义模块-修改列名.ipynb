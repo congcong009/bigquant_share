{
 "cells": [
  {
   "cell_type": "code",
   "execution_count": 4,
   "metadata": {
    "machine_learning_studio": "true",
    "ml_studio_json": "{\"Description\":\"实验创建于2020/3/30\",\"Summary\":\"\",\"Graph\":{\"EdgesInternal\":[{\"DestinationInputPortId\":\"-4783:instruments\",\"SourceOutputPortId\":\"-4775:data\"},{\"DestinationInputPortId\":\"-4767:input_1\",\"SourceOutputPortId\":\"-4783:data\"}],\"ModuleNodes\":[{\"Id\":\"-4767\",\"ModuleId\":\"BigQuantSpace.cached.cached-v3\",\"ModuleParameters\":[{\"Name\":\"run\",\"Value\":\"# Python 代码入口函数，input_1/2/3 对应三个输入端，data_1/2/3 对应三个输出端\\ndef bigquant_run(input_1, input_2, input_3):\\n    \\n    \\n    \\n    df = input_1.read() \\n    print('start:', df.head())\\n    df = df.rename(columns={'m:open':'open'})\\n    print('end:', df.head())\\n    data_1 = DataSource.write_pickle(df)\\n    \\n \\n    return Outputs(data_1=data_1, data_2=None, data_3=None)\\n\",\"ValueType\":\"Literal\",\"LinkedGlobalParameter\":null},{\"Name\":\"post_run\",\"Value\":\"# 后处理函数，可选。输入是主函数的输出，可以在这里对数据做处理，或者返回更友好的outputs数据格式。此函数输出不会被缓存。\\ndef bigquant_run(outputs):\\n    return outputs\\n\",\"ValueType\":\"Literal\",\"LinkedGlobalParameter\":null},{\"Name\":\"input_ports\",\"Value\":\"\",\"ValueType\":\"Literal\",\"LinkedGlobalParameter\":null},{\"Name\":\"params\",\"Value\":\"{}\",\"ValueType\":\"Literal\",\"LinkedGlobalParameter\":null},{\"Name\":\"output_ports\",\"Value\":\"\",\"ValueType\":\"Literal\",\"LinkedGlobalParameter\":null}],\"InputPortsInternal\":[{\"DataSourceId\":null,\"TrainedModelId\":null,\"TransformModuleId\":null,\"Name\":\"input_1\",\"NodeId\":\"-4767\"},{\"DataSourceId\":null,\"TrainedModelId\":null,\"TransformModuleId\":null,\"Name\":\"input_2\",\"NodeId\":\"-4767\"},{\"DataSourceId\":null,\"TrainedModelId\":null,\"TransformModuleId\":null,\"Name\":\"input_3\",\"NodeId\":\"-4767\"}],\"OutputPortsInternal\":[{\"Name\":\"data_1\",\"NodeId\":\"-4767\",\"OutputType\":null},{\"Name\":\"data_2\",\"NodeId\":\"-4767\",\"OutputType\":null},{\"Name\":\"data_3\",\"NodeId\":\"-4767\",\"OutputType\":null}],\"UsePreviousResults\":true,\"moduleIdForCode\":1,\"Comment\":\"列重新命名\",\"CommentCollapsed\":false},{\"Id\":\"-4775\",\"ModuleId\":\"BigQuantSpace.instruments.instruments-v2\",\"ModuleParameters\":[{\"Name\":\"start_date\",\"Value\":\"2020-01-01\",\"ValueType\":\"Literal\",\"LinkedGlobalParameter\":null},{\"Name\":\"end_date\",\"Value\":\"2020-03-30\",\"ValueType\":\"Literal\",\"LinkedGlobalParameter\":null},{\"Name\":\"market\",\"Value\":\"CN_STOCK_A\",\"ValueType\":\"Literal\",\"LinkedGlobalParameter\":null},{\"Name\":\"instrument_list\",\"Value\":\"000001.SZA\\n000002.SZA\",\"ValueType\":\"Literal\",\"LinkedGlobalParameter\":null},{\"Name\":\"max_count\",\"Value\":\"0\",\"ValueType\":\"Literal\",\"LinkedGlobalParameter\":null}],\"InputPortsInternal\":[{\"DataSourceId\":null,\"TrainedModelId\":null,\"TransformModuleId\":null,\"Name\":\"rolling_conf\",\"NodeId\":\"-4775\"}],\"OutputPortsInternal\":[{\"Name\":\"data\",\"NodeId\":\"-4775\",\"OutputType\":null}],\"UsePreviousResults\":true,\"moduleIdForCode\":2,\"Comment\":\"\",\"CommentCollapsed\":true},{\"Id\":\"-4783\",\"ModuleId\":\"BigQuantSpace.advanced_auto_labeler.advanced_auto_labeler-v2\",\"ModuleParameters\":[{\"Name\":\"label_expr\",\"Value\":\"# #号开始的表示注释\\n# 0. 每行一个，顺序执行，从第二个开始，可以使用label字段\\n# 1. 可用数据字段见 https://bigquant.com/docs/develop/datasource/deprecated/history_data.html\\n#   添加benchmark_前缀，可使用对应的benchmark数据\\n# 2. 可用操作符和函数见 `表达式引擎 <https://bigquant.com/docs/develop/bigexpr/usage.html>`_\\n\\n# 计算收益：5日收盘价(作为卖出价格)除以明日开盘价(作为买入价格)\\nshift(close, -5) / shift(open, -1)\\n\\n# 极值处理：用1%和99%分位的值做clip\\nclip(label, all_quantile(label, 0.01), all_quantile(label, 0.99))\\n\\n# 将分数映射到分类，这里使用20个分类\\nall_wbins(label, 20)\\n\\n# 过滤掉一字涨停的情况 (设置label为NaN，在后续处理和训练中会忽略NaN的label)\\nwhere(shift(high, -1) == shift(low, -1), NaN, label)\\n\",\"ValueType\":\"Literal\",\"LinkedGlobalParameter\":null},{\"Name\":\"start_date\",\"Value\":\"\",\"ValueType\":\"Literal\",\"LinkedGlobalParameter\":null},{\"Name\":\"end_date\",\"Value\":\"\",\"ValueType\":\"Literal\",\"LinkedGlobalParameter\":null},{\"Name\":\"benchmark\",\"Value\":\"000300.SHA\",\"ValueType\":\"Literal\",\"LinkedGlobalParameter\":null},{\"Name\":\"drop_na_label\",\"Value\":\"True\",\"ValueType\":\"Literal\",\"LinkedGlobalParameter\":null},{\"Name\":\"cast_label_int\",\"Value\":\"True\",\"ValueType\":\"Literal\",\"LinkedGlobalParameter\":null},{\"Name\":\"user_functions\",\"Value\":\"{}\",\"ValueType\":\"Literal\",\"LinkedGlobalParameter\":null}],\"InputPortsInternal\":[{\"DataSourceId\":null,\"TrainedModelId\":null,\"TransformModuleId\":null,\"Name\":\"instruments\",\"NodeId\":\"-4783\"}],\"OutputPortsInternal\":[{\"Name\":\"data\",\"NodeId\":\"-4783\",\"OutputType\":null}],\"UsePreviousResults\":true,\"moduleIdForCode\":3,\"Comment\":\"\",\"CommentCollapsed\":true}],\"SerializedClientData\":\"<?xml version='1.0' encoding='utf-16'?><DataV1 xmlns:xsd='http://www.w3.org/2001/XMLSchema' xmlns:xsi='http://www.w3.org/2001/XMLSchema-instance'><Meta /><NodePositions><NodePosition Node='-4767' Position='328.9324645996094,433.6928405761719,200,200'/><NodePosition Node='-4775' Position='255.1527099609375,270.2414855957031,200,200'/><NodePosition Node='-4783' Position='297.84613037109375,350.1701965332031,200,200'/></NodePositions><NodeGroups /></DataV1>\"},\"IsDraft\":true,\"ParentExperimentId\":null,\"WebService\":{\"IsWebServiceExperiment\":false,\"Inputs\":[],\"Outputs\":[],\"Parameters\":[{\"Name\":\"交易日期\",\"Value\":\"\",\"ParameterDefinition\":{\"Name\":\"交易日期\",\"FriendlyName\":\"交易日期\",\"DefaultValue\":\"\",\"ParameterType\":\"String\",\"HasDefaultValue\":true,\"IsOptional\":true,\"ParameterRules\":[],\"HasRules\":false,\"MarkupType\":0,\"CredentialDescriptor\":null}}],\"WebServiceGroupId\":null,\"SerializedClientData\":\"<?xml version='1.0' encoding='utf-16'?><DataV1 xmlns:xsd='http://www.w3.org/2001/XMLSchema' xmlns:xsi='http://www.w3.org/2001/XMLSchema-instance'><Meta /><NodePositions></NodePositions><NodeGroups /></DataV1>\"},\"DisableNodesUpdate\":false,\"Category\":\"user\",\"Tags\":[],\"IsPartialRun\":true}"
   },
   "outputs": [
    {
     "data": {
      "text/plain": [
       "[2020-03-30 19:53:02.168375] INFO: bigquant: instruments.v2 开始运行.."
      ]
     },
     "metadata": {
      "is_log": true,
      "status": "INFO"
     },
     "output_type": "display_data"
    },
    {
     "data": {
      "text/plain": [
       "[2020-03-30 19:53:15.293549] INFO: bigquant: instruments.v2 运行完成[13.12517s]."
      ]
     },
     "metadata": {
      "is_log": true,
      "status": "INFO"
     },
     "output_type": "display_data"
    },
    {
     "data": {
      "text/plain": [
       "[2020-03-30 19:53:15.296364] INFO: bigquant: advanced_auto_labeler.v2 开始运行.."
      ]
     },
     "metadata": {
      "is_log": true,
      "status": "INFO"
     },
     "output_type": "display_data"
    },
    {
     "data": {
      "text/plain": [
       "[2020-03-30 19:53:15.388275] INFO: 自动标注(股票): 加载历史数据: 114 行"
      ]
     },
     "metadata": {
      "is_log": true,
      "status": "INFO"
     },
     "output_type": "display_data"
    },
    {
     "data": {
      "text/plain": [
       "[2020-03-30 19:53:15.389360] INFO: 自动标注(股票): 开始标注 .."
      ]
     },
     "metadata": {
      "is_log": true,
      "status": "INFO"
     },
     "output_type": "display_data"
    },
    {
     "data": {
      "text/plain": [
       "[2020-03-30 19:53:25.728066] INFO: bigquant: advanced_auto_labeler.v2 运行完成[10.431679s]."
      ]
     },
     "metadata": {
      "is_log": true,
      "status": "INFO"
     },
     "output_type": "display_data"
    },
    {
     "data": {
      "text/plain": [
       "[2020-03-30 19:53:25.732441] INFO: bigquant: cached.v3 开始运行.."
      ]
     },
     "metadata": {
      "is_log": true,
      "status": "INFO"
     },
     "output_type": "display_data"
    },
    {
     "name": "stdout",
     "output_type": "stream",
     "text": [
      "start:    instrument       m:high        m:low      m:amount       m:open       date  \\\n",
      "0  000001.SZA  1850.421753  1806.754028  2.571196e+09  1817.671021 2020-01-02   \n",
      "1  000002.SZA  4986.640625  4824.871582  3.342374e+09  4867.910645 2020-01-02   \n",
      "2  000001.SZA  1889.722778  1847.146729  1.914495e+09  1849.330078 2020-01-03   \n",
      "3  000002.SZA  4869.395020  4716.530762  2.584310e+09  4854.553711 2020-01-03   \n",
      "4  000001.SZA  1892.997925  1846.055054  1.477930e+09  1856.971924 2020-01-06   \n",
      "\n",
      "       m:close  label  \n",
      "0  1841.688232     10  \n",
      "1  4832.291992     10  \n",
      "2  1875.530762      9  \n",
      "3  4756.602051     10  \n",
      "4  1863.522095     10  \n",
      "end:    instrument       m:high        m:low      m:amount         open       date  \\\n",
      "0  000001.SZA  1850.421753  1806.754028  2.571196e+09  1817.671021 2020-01-02   \n",
      "1  000002.SZA  4986.640625  4824.871582  3.342374e+09  4867.910645 2020-01-02   \n",
      "2  000001.SZA  1889.722778  1847.146729  1.914495e+09  1849.330078 2020-01-03   \n",
      "3  000002.SZA  4869.395020  4716.530762  2.584310e+09  4854.553711 2020-01-03   \n",
      "4  000001.SZA  1892.997925  1846.055054  1.477930e+09  1856.971924 2020-01-06   \n",
      "\n",
      "       m:close  label  \n",
      "0  1841.688232     10  \n",
      "1  4832.291992     10  \n",
      "2  1875.530762      9  \n",
      "3  4756.602051     10  \n",
      "4  1863.522095     10  \n"
     ]
    },
    {
     "data": {
      "text/plain": [
       "[2020-03-30 19:53:27.344675] INFO: bigquant: cached.v3 运行完成[1.612205s]."
      ]
     },
     "metadata": {
      "is_log": true,
      "status": "INFO"
     },
     "output_type": "display_data"
    }
   ],
   "source": [
    "# 本代码由可视化策略环境自动生成 2020年3月30日 19:58\n",
    "# 本代码单元只能在可视化模式下编辑。您也可以拷贝代码，粘贴到新建的代码单元或者策略，然后修改。\n",
    "\n",
    "\n",
    "# Python 代码入口函数，input_1/2/3 对应三个输入端，data_1/2/3 对应三个输出端\n",
    "def m1_run_bigquant_run(input_1, input_2, input_3):\n",
    "    \n",
    "    \n",
    "    \n",
    "    df = input_1.read() \n",
    "    print('start:', df.head())\n",
    "    df = df.rename(columns={'m:open':'open'})\n",
    "    print('end:', df.head())\n",
    "    data_1 = DataSource.write_pickle(df)\n",
    "    \n",
    " \n",
    "    return Outputs(data_1=data_1, data_2=None, data_3=None)\n",
    "\n",
    "# 后处理函数，可选。输入是主函数的输出，可以在这里对数据做处理，或者返回更友好的outputs数据格式。此函数输出不会被缓存。\n",
    "def m1_post_run_bigquant_run(outputs):\n",
    "    return outputs\n",
    "\n",
    "\n",
    "m2 = M.instruments.v2(\n",
    "    start_date='2020-01-01',\n",
    "    end_date='2020-03-30',\n",
    "    market='CN_STOCK_A',\n",
    "    instrument_list=\"\"\"000001.SZA\n",
    "000002.SZA\"\"\",\n",
    "    max_count=0\n",
    ")\n",
    "\n",
    "m3 = M.advanced_auto_labeler.v2(\n",
    "    instruments=m2.data,\n",
    "    label_expr=\"\"\"# #号开始的表示注释\n",
    "# 0. 每行一个，顺序执行，从第二个开始，可以使用label字段\n",
    "# 1. 可用数据字段见 https://bigquant.com/docs/develop/datasource/deprecated/history_data.html\n",
    "#   添加benchmark_前缀，可使用对应的benchmark数据\n",
    "# 2. 可用操作符和函数见 `表达式引擎 <https://bigquant.com/docs/develop/bigexpr/usage.html>`_\n",
    "\n",
    "# 计算收益：5日收盘价(作为卖出价格)除以明日开盘价(作为买入价格)\n",
    "shift(close, -5) / shift(open, -1)\n",
    "\n",
    "# 极值处理：用1%和99%分位的值做clip\n",
    "clip(label, all_quantile(label, 0.01), all_quantile(label, 0.99))\n",
    "\n",
    "# 将分数映射到分类，这里使用20个分类\n",
    "all_wbins(label, 20)\n",
    "\n",
    "# 过滤掉一字涨停的情况 (设置label为NaN，在后续处理和训练中会忽略NaN的label)\n",
    "where(shift(high, -1) == shift(low, -1), NaN, label)\n",
    "\"\"\",\n",
    "    start_date='',\n",
    "    end_date='',\n",
    "    benchmark='000300.SHA',\n",
    "    drop_na_label=True,\n",
    "    cast_label_int=True,\n",
    "    user_functions={}\n",
    ")\n",
    "\n",
    "m1 = M.cached.v3(\n",
    "    input_1=m3.data,\n",
    "    run=m1_run_bigquant_run,\n",
    "    post_run=m1_post_run_bigquant_run,\n",
    "    input_ports='',\n",
    "    params='{}',\n",
    "    output_ports=''\n",
    ")\n"
   ]
  }
 ],
 "metadata": {
  "is_mlstudio": "true",
  "kernelspec": {
   "display_name": "Python 3",
   "language": "python",
   "name": "python3"
  },
  "language_info": {
   "codemirror_mode": {
    "name": "ipython",
    "version": 3
   },
   "file_extension": ".py",
   "mimetype": "text/x-python",
   "name": "python",
   "nbconvert_exporter": "python",
   "pygments_lexer": "ipython3",
   "version": "3.6.8"
  }
 },
 "nbformat": 4,
 "nbformat_minor": 4
}
