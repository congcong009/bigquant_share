{
 "cells": [
  {
   "cell_type": "code",
   "execution_count": 23,
   "metadata": {
    "machine_learning_studio": "true",
    "ml_studio_json": "{\"Description\":\"实验创建于7/17/2020\",\"Summary\":\"\",\"Graph\":{\"EdgesInternal\":[{\"DestinationInputPortId\":\"-568:features\",\"SourceOutputPortId\":\"-584:data\"},{\"DestinationInputPortId\":\"-568:user_factor_data\",\"SourceOutputPortId\":\"-2872:data\"}],\"ModuleNodes\":[{\"Id\":\"-568\",\"ModuleId\":\"BigQuantSpace.factorlens.factorlens-v1\",\"ModuleParameters\":[{\"Name\":\"title\",\"Value\":\"因子分析: {factor_name}\",\"ValueType\":\"Literal\",\"LinkedGlobalParameter\":null},{\"Name\":\"start_date\",\"Value\":\"2019-12-01\",\"ValueType\":\"Literal\",\"LinkedGlobalParameter\":null},{\"Name\":\"end_date\",\"Value\":\"2019-12-31\",\"ValueType\":\"Literal\",\"LinkedGlobalParameter\":null},{\"Name\":\"rebalance_period\",\"Value\":\"5\",\"ValueType\":\"Literal\",\"LinkedGlobalParameter\":null},{\"Name\":\"stock_pool\",\"Value\":\"全市场\",\"ValueType\":\"Literal\",\"LinkedGlobalParameter\":null},{\"Name\":\"quantile_count\",\"Value\":5,\"ValueType\":\"Literal\",\"LinkedGlobalParameter\":null},{\"Name\":\"commission_rate\",\"Value\":0.0016,\"ValueType\":\"Literal\",\"LinkedGlobalParameter\":null},{\"Name\":\"drop_price_limit_stocks\",\"Value\":\"True\",\"ValueType\":\"Literal\",\"LinkedGlobalParameter\":null},{\"Name\":\"drop_st_stocks\",\"Value\":\"True\",\"ValueType\":\"Literal\",\"LinkedGlobalParameter\":null},{\"Name\":\"drop_new_stocks\",\"Value\":\"True\",\"ValueType\":\"Literal\",\"LinkedGlobalParameter\":null},{\"Name\":\"normalization\",\"Value\":\"True\",\"ValueType\":\"Literal\",\"LinkedGlobalParameter\":null},{\"Name\":\"neutralization\",\"Value\":\"%7B%22enumItems%22%3A%5B%7B%22value%22%3A%22%E8%A1%8C%E4%B8%9A%22%2C%22displayValue%22%3A%22%E8%A1%8C%E4%B8%9A%22%2C%22selected%22%3Atrue%7D%2C%7B%22value%22%3A%22%E5%B8%82%E5%80%BC%22%2C%22displayValue%22%3A%22%E5%B8%82%E5%80%BC%22%2C%22selected%22%3Atrue%7D%5D%7D\",\"ValueType\":\"Literal\",\"LinkedGlobalParameter\":null},{\"Name\":\"metrics\",\"Value\":\"%7B%22enumItems%22%3A%5B%7B%22value%22%3A%22%E5%9B%A0%E5%AD%90%E8%A1%A8%E7%8E%B0%E6%A6%82%E8%A7%88%22%2C%22displayValue%22%3A%22%E5%9B%A0%E5%AD%90%E8%A1%A8%E7%8E%B0%E6%A6%82%E8%A7%88%22%2C%22selected%22%3Atrue%7D%2C%7B%22value%22%3A%22%E5%9B%A0%E5%AD%90%E5%88%86%E5%B8%83%22%2C%22displayValue%22%3A%22%E5%9B%A0%E5%AD%90%E5%88%86%E5%B8%83%22%2C%22selected%22%3Atrue%7D%2C%7B%22value%22%3A%22%E5%9B%A0%E5%AD%90%E8%A1%8C%E4%B8%9A%E5%88%86%E5%B8%83%22%2C%22displayValue%22%3A%22%E5%9B%A0%E5%AD%90%E8%A1%8C%E4%B8%9A%E5%88%86%E5%B8%83%22%2C%22selected%22%3Atrue%7D%2C%7B%22value%22%3A%22%E5%9B%A0%E5%AD%90%E5%B8%82%E5%80%BC%E5%88%86%E5%B8%83%22%2C%22displayValue%22%3A%22%E5%9B%A0%E5%AD%90%E5%B8%82%E5%80%BC%E5%88%86%E5%B8%83%22%2C%22selected%22%3Atrue%7D%2C%7B%22value%22%3A%22IC%E5%88%86%E6%9E%90%22%2C%22displayValue%22%3A%22IC%E5%88%86%E6%9E%90%22%2C%22selected%22%3Atrue%7D%2C%7B%22value%22%3A%22%E4%B9%B0%E5%85%A5%E4%BF%A1%E5%8F%B7%E9%87%8D%E5%90%88%E5%88%86%E6%9E%90%22%2C%22displayValue%22%3A%22%E4%B9%B0%E5%85%A5%E4%BF%A1%E5%8F%B7%E9%87%8D%E5%90%88%E5%88%86%E6%9E%90%22%2C%22selected%22%3Atrue%7D%2C%7B%22value%22%3A%22%E5%9B%A0%E5%AD%90%E4%BC%B0%E5%80%BC%E5%88%86%E6%9E%90%22%2C%22displayValue%22%3A%22%E5%9B%A0%E5%AD%90%E4%BC%B0%E5%80%BC%E5%88%86%E6%9E%90%22%2C%22selected%22%3Atrue%7D%2C%7B%22value%22%3A%22%E5%9B%A0%E5%AD%90%E6%8B%A5%E6%8C%A4%E5%BA%A6%E5%88%86%E6%9E%90%22%2C%22displayValue%22%3A%22%E5%9B%A0%E5%AD%90%E6%8B%A5%E6%8C%A4%E5%BA%A6%E5%88%86%E6%9E%90%22%2C%22selected%22%3Atrue%7D%2C%7B%22value%22%3A%22%E5%9B%A0%E5%AD%90%E5%80%BC%E6%9C%80%E5%A4%A7%2F%E6%9C%80%E5%B0%8F%E8%82%A1%E7%A5%A8%22%2C%22displayValue%22%3A%22%E5%9B%A0%E5%AD%90%E5%80%BC%E6%9C%80%E5%A4%A7%2F%E6%9C%80%E5%B0%8F%E8%82%A1%E7%A5%A8%22%2C%22selected%22%3Atrue%7D%2C%7B%22value%22%3A%22%E5%A4%9A%E5%9B%A0%E5%AD%90%E7%9B%B8%E5%85%B3%E6%80%A7%E5%88%86%E6%9E%90%22%2C%22displayValue%22%3A%22%E5%A4%9A%E5%9B%A0%E5%AD%90%E7%9B%B8%E5%85%B3%E6%80%A7%E5%88%86%E6%9E%90%22%2C%22selected%22%3Atrue%7D%5D%7D\",\"ValueType\":\"Literal\",\"LinkedGlobalParameter\":null}],\"InputPortsInternal\":[{\"DataSourceId\":null,\"TrainedModelId\":null,\"TransformModuleId\":null,\"Name\":\"features\",\"NodeId\":\"-568\"},{\"DataSourceId\":null,\"TrainedModelId\":null,\"TransformModuleId\":null,\"Name\":\"user_factor_data\",\"NodeId\":\"-568\"}],\"OutputPortsInternal\":[{\"Name\":\"data\",\"NodeId\":\"-568\",\"OutputType\":null}],\"UsePreviousResults\":true,\"moduleIdForCode\":19,\"Comment\":\"\",\"CommentCollapsed\":true},{\"Id\":\"-584\",\"ModuleId\":\"BigQuantSpace.input_features.input_features-v1\",\"ModuleParameters\":[{\"Name\":\"features\",\"Value\":\"\\n# #号开始的表示注释，注释需单独一行\\n# 多个特征，每行一个，可以包含基础特征和衍生特征，特征须为本平台特征\\ngap_ind_0\\n#gap_ind_1\\n#gap_ind_2\\n# gap_ix300_0\\n# gap_ix300_1\\n# gap_ix300_2\\n# gap_ix001_0\\n# gap_ix001_1\\n# gap_ix001_2\\n\",\"ValueType\":\"Literal\",\"LinkedGlobalParameter\":null}],\"InputPortsInternal\":[{\"DataSourceId\":null,\"TrainedModelId\":null,\"TransformModuleId\":null,\"Name\":\"features_ds\",\"NodeId\":\"-584\"}],\"OutputPortsInternal\":[{\"Name\":\"data\",\"NodeId\":\"-584\",\"OutputType\":null}],\"UsePreviousResults\":true,\"moduleIdForCode\":20,\"Comment\":\"\",\"CommentCollapsed\":true},{\"Id\":\"-2872\",\"ModuleId\":\"BigQuantSpace.input_csv.input_csv-v5\",\"ModuleParameters\":[{\"Name\":\"file\",\"Value\":\"data.csv\",\"ValueType\":\"Literal\",\"LinkedGlobalParameter\":null},{\"Name\":\"coding\",\"Value\":\"utf8\",\"ValueType\":\"Literal\",\"LinkedGlobalParameter\":null},{\"Name\":\"dtypes\",\"Value\":\"{}\",\"ValueType\":\"Literal\",\"LinkedGlobalParameter\":null},{\"Name\":\"date_type\",\"Value\":\"%Y-%m-%d\",\"ValueType\":\"Literal\",\"LinkedGlobalParameter\":null},{\"Name\":\"date_cols\",\"Value\":\"['date']\",\"ValueType\":\"Literal\",\"LinkedGlobalParameter\":null}],\"InputPortsInternal\":[],\"OutputPortsInternal\":[{\"Name\":\"data\",\"NodeId\":\"-2872\",\"OutputType\":null}],\"UsePreviousResults\":true,\"moduleIdForCode\":1,\"Comment\":\"\",\"CommentCollapsed\":true}],\"SerializedClientData\":\"<?xml version='1.0' encoding='utf-16'?><DataV1 xmlns:xsd='http://www.w3.org/2001/XMLSchema' xmlns:xsi='http://www.w3.org/2001/XMLSchema-instance'><Meta /><NodePositions><NodePosition Node='-568' Position='-79.58888244628906,943.9741821289062,200,200'/><NodePosition Node='-584' Position='-307,778,200,200'/><NodePosition Node='-2872' Position='85.03511047363281,780.6598815917969,200,200'/></NodePositions><NodeGroups /></DataV1>\"},\"IsDraft\":true,\"ParentExperimentId\":null,\"WebService\":{\"IsWebServiceExperiment\":false,\"Inputs\":[],\"Outputs\":[],\"Parameters\":[{\"Name\":\"交易日期\",\"Value\":\"\",\"ParameterDefinition\":{\"Name\":\"交易日期\",\"FriendlyName\":\"交易日期\",\"DefaultValue\":\"\",\"ParameterType\":\"String\",\"HasDefaultValue\":true,\"IsOptional\":true,\"ParameterRules\":[],\"HasRules\":false,\"MarkupType\":0,\"CredentialDescriptor\":null}}],\"WebServiceGroupId\":null,\"SerializedClientData\":\"<?xml version='1.0' encoding='utf-16'?><DataV1 xmlns:xsd='http://www.w3.org/2001/XMLSchema' xmlns:xsi='http://www.w3.org/2001/XMLSchema-instance'><Meta /><NodePositions></NodePositions><NodeGroups /></DataV1>\"},\"DisableNodesUpdate\":false,\"Category\":\"user\",\"Tags\":[],\"IsPartialRun\":true}"
   },
   "outputs": [
    {
     "data": {
      "text/plain": [
       "[2020-07-30 10:43:04.802414] INFO: moduleinvoker: input_features.v1 开始运行.."
      ]
     },
     "metadata": {
      "is_log": true,
      "status": "INFO"
     },
     "output_type": "display_data"
    },
    {
     "data": {
      "text/plain": [
       "[2020-07-30 10:43:04.841666] INFO: moduleinvoker: input_features.v1 运行完成[0.039244s]."
      ]
     },
     "metadata": {
      "is_log": true,
      "status": "INFO"
     },
     "output_type": "display_data"
    },
    {
     "data": {
      "text/plain": [
       "[2020-07-30 10:43:04.846088] INFO: moduleinvoker: input_csv.v5 开始运行.."
      ]
     },
     "metadata": {
      "is_log": true,
      "status": "INFO"
     },
     "output_type": "display_data"
    },
    {
     "data": {
      "text/plain": [
       "[2020-07-30 10:43:04.850290] INFO: moduleinvoker: 命中缓存"
      ]
     },
     "metadata": {
      "is_log": true,
      "status": "INFO"
     },
     "output_type": "display_data"
    },
    {
     "data": {
      "text/plain": [
       "[2020-07-30 10:43:04.851139] INFO: moduleinvoker: input_csv.v5 运行完成[0.005056s]."
      ]
     },
     "metadata": {
      "is_log": true,
      "status": "INFO"
     },
     "output_type": "display_data"
    },
    {
     "data": {
      "text/plain": [
       "[2020-07-30 10:43:04.858491] INFO: moduleinvoker: factorlens.v1 开始运行.."
      ]
     },
     "metadata": {
      "is_log": true,
      "status": "INFO"
     },
     "output_type": "display_data"
    },
    {
     "data": {
      "text/plain": [
       "[2020-07-30 10:43:05.038914] INFO: 因子分析: batch_process start"
      ]
     },
     "metadata": {
      "is_log": true,
      "status": "INFO"
     },
     "output_type": "display_data"
    },
    {
     "data": {
      "text/plain": [
       "[2020-07-30 10:43:05.040062] INFO: 因子分析: load_instruments 2019-12-01, 2019-12-31"
      ]
     },
     "metadata": {
      "is_log": true,
      "status": "INFO"
     },
     "output_type": "display_data"
    },
    {
     "data": {
      "text/plain": [
       "[2020-07-30 10:43:05.631127] INFO: 因子分析: load_instruments, 3762 rows."
      ]
     },
     "metadata": {
      "is_log": true,
      "status": "INFO"
     },
     "output_type": "display_data"
    },
    {
     "data": {
      "text/plain": [
       "[2020-07-30 10:43:05.632329] INFO: 因子分析: StockPool.before_load_general_feature_data"
      ]
     },
     "metadata": {
      "is_log": true,
      "status": "INFO"
     },
     "output_type": "display_data"
    },
    {
     "data": {
      "text/plain": [
       "[2020-07-30 10:43:05.633180] INFO: 因子分析: DropSTStocks.before_load_general_feature_data"
      ]
     },
     "metadata": {
      "is_log": true,
      "status": "INFO"
     },
     "output_type": "display_data"
    },
    {
     "data": {
      "text/plain": [
       "[2020-07-30 10:43:05.633969] INFO: 因子分析: DropNewStocks.before_load_general_feature_data"
      ]
     },
     "metadata": {
      "is_log": true,
      "status": "INFO"
     },
     "output_type": "display_data"
    },
    {
     "data": {
      "text/plain": [
       "[2020-07-30 10:43:05.634754] INFO: 因子分析: Neutralization.before_load_general_feature_data"
      ]
     },
     "metadata": {
      "is_log": true,
      "status": "INFO"
     },
     "output_type": "display_data"
    },
    {
     "data": {
      "text/plain": [
       "[2020-07-30 10:43:05.635669] INFO: 因子分析: Industry.before_load_general_feature_data"
      ]
     },
     "metadata": {
      "is_log": true,
      "status": "INFO"
     },
     "output_type": "display_data"
    },
    {
     "data": {
      "text/plain": [
       "[2020-07-30 10:43:05.636495] INFO: 因子分析: PBRatio.before_load_general_feature_data"
      ]
     },
     "metadata": {
      "is_log": true,
      "status": "INFO"
     },
     "output_type": "display_data"
    },
    {
     "data": {
      "text/plain": [
       "[2020-07-30 10:43:05.637283] INFO: 因子分析: Turnover.before_load_general_feature_data"
      ]
     },
     "metadata": {
      "is_log": true,
      "status": "INFO"
     },
     "output_type": "display_data"
    },
    {
     "data": {
      "text/plain": [
       "[2020-07-30 10:43:05.638058] INFO: 因子分析: MarketCap.before_load_general_feature_data"
      ]
     },
     "metadata": {
      "is_log": true,
      "status": "INFO"
     },
     "output_type": "display_data"
    },
    {
     "data": {
      "text/plain": [
       "[2020-07-30 10:43:05.638825] INFO: 因子分析: load_general_feature_data, load data"
      ]
     },
     "metadata": {
      "is_log": true,
      "status": "INFO"
     },
     "output_type": "display_data"
    },
    {
     "data": {
      "text/plain": [
       "[2020-07-30 10:43:06.403460] INFO: 因子分析: RebalancePeriod.after_load_general_feature_data"
      ]
     },
     "metadata": {
      "is_log": true,
      "status": "INFO"
     },
     "output_type": "display_data"
    },
    {
     "data": {
      "text/plain": [
       "[2020-07-30 10:43:06.530194] INFO: 因子分析: load_general_feature_data, 82012 rows."
      ]
     },
     "metadata": {
      "is_log": true,
      "status": "INFO"
     },
     "output_type": "display_data"
    },
    {
     "data": {
      "text/plain": [
       "[2020-07-30 10:43:06.531733] INFO: 因子分析: load_derived_feature_data, 82012 rows, 18 columns."
      ]
     },
     "metadata": {
      "is_log": true,
      "status": "INFO"
     },
     "output_type": "display_data"
    },
    {
     "data": {
      "text/plain": [
       "[2020-07-30 10:43:06.532755] INFO: 因子分析: process, gap_ind_0"
      ]
     },
     "metadata": {
      "is_log": true,
      "status": "INFO"
     },
     "output_type": "display_data"
    },
    {
     "data": {
      "text/plain": [
       "[2020-07-30 10:43:06.533564] INFO: 因子分析: calculate_factor, gap_ind_0"
      ]
     },
     "metadata": {
      "is_log": true,
      "status": "INFO"
     },
     "output_type": "display_data"
    },
    {
     "data": {
      "text/plain": [
       "[2020-07-30 10:43:06.535580] INFO: 因子分析: calculate_factor, done"
      ]
     },
     "metadata": {
      "is_log": true,
      "status": "INFO"
     },
     "output_type": "display_data"
    },
    {
     "data": {
      "text/plain": [
       "[2020-07-30 10:43:06.544382] INFO: 因子分析: QuantileReturns.before_process"
      ]
     },
     "metadata": {
      "is_log": true,
      "status": "INFO"
     },
     "output_type": "display_data"
    },
    {
     "data": {
      "text/plain": [
       "[2020-07-30 10:43:06.545238] INFO: 因子分析: IC.before_process"
      ]
     },
     "metadata": {
      "is_log": true,
      "status": "INFO"
     },
     "output_type": "display_data"
    },
    {
     "data": {
      "text/plain": [
       "[2020-07-30 10:43:06.546032] INFO: 因子分析: BasicDescription.before_process"
      ]
     },
     "metadata": {
      "is_log": true,
      "status": "INFO"
     },
     "output_type": "display_data"
    },
    {
     "data": {
      "text/plain": [
       "[2020-07-30 10:43:06.546801] INFO: 因子分析: Industry.before_process"
      ]
     },
     "metadata": {
      "is_log": true,
      "status": "INFO"
     },
     "output_type": "display_data"
    },
    {
     "data": {
      "text/plain": [
       "[2020-07-30 10:43:06.547736] INFO: 因子分析: RebalanceOverlap.before_process"
      ]
     },
     "metadata": {
      "is_log": true,
      "status": "INFO"
     },
     "output_type": "display_data"
    },
    {
     "data": {
      "text/plain": [
       "[2020-07-30 10:43:06.548541] INFO: 因子分析: PBRatio.before_process"
      ]
     },
     "metadata": {
      "is_log": true,
      "status": "INFO"
     },
     "output_type": "display_data"
    },
    {
     "data": {
      "text/plain": [
       "[2020-07-30 10:43:06.549401] INFO: 因子分析: Turnover.before_process"
      ]
     },
     "metadata": {
      "is_log": true,
      "status": "INFO"
     },
     "output_type": "display_data"
    },
    {
     "data": {
      "text/plain": [
       "[2020-07-30 10:43:06.550159] INFO: 因子分析: Stocks.before_process"
      ]
     },
     "metadata": {
      "is_log": true,
      "status": "INFO"
     },
     "output_type": "display_data"
    },
    {
     "data": {
      "text/plain": [
       "[2020-07-30 10:43:06.550996] INFO: 因子分析: MarketCap.before_process"
      ]
     },
     "metadata": {
      "is_log": true,
      "status": "INFO"
     },
     "output_type": "display_data"
    },
    {
     "data": {
      "text/plain": [
       "[2020-07-30 10:43:06.551742] INFO: 因子分析: FactorPairwiseCorrelationMerged.before_process"
      ]
     },
     "metadata": {
      "is_log": true,
      "status": "INFO"
     },
     "output_type": "display_data"
    },
    {
     "data": {
      "text/plain": [
       "[2020-07-30 10:43:06.555804] INFO: 因子分析: process metrics, start .."
      ]
     },
     "metadata": {
      "is_log": true,
      "status": "INFO"
     },
     "output_type": "display_data"
    },
    {
     "data": {
      "text/plain": [
       "[2020-07-30 10:43:06.599686] INFO: 因子分析: process, 76703/82012 rows .."
      ]
     },
     "metadata": {
      "is_log": true,
      "status": "INFO"
     },
     "output_type": "display_data"
    },
    {
     "data": {
      "text/plain": [
       "[2020-07-30 10:43:06.600803] INFO: 因子分析: BacktestInterval.process, 0.000s"
      ]
     },
     "metadata": {
      "is_log": true,
      "status": "INFO"
     },
     "output_type": "display_data"
    },
    {
     "data": {
      "text/plain": [
       "[2020-07-30 10:43:06.601644] INFO: 因子分析: StockPool.process, 0.000s"
      ]
     },
     "metadata": {
      "is_log": true,
      "status": "INFO"
     },
     "output_type": "display_data"
    },
    {
     "data": {
      "text/plain": [
       "[2020-07-30 10:43:06.602393] INFO: 因子分析: DropSTStocks.process, 0.000s"
      ]
     },
     "metadata": {
      "is_log": true,
      "status": "INFO"
     },
     "output_type": "display_data"
    },
    {
     "data": {
      "text/plain": [
       "[2020-07-30 10:43:06.603152] INFO: 因子分析: DropPriceLimitStocks.process, 0.000s"
      ]
     },
     "metadata": {
      "is_log": true,
      "status": "INFO"
     },
     "output_type": "display_data"
    },
    {
     "data": {
      "text/plain": [
       "[2020-07-30 10:43:06.603910] INFO: 因子分析: DropNewStocks.process, 0.000s"
      ]
     },
     "metadata": {
      "is_log": true,
      "status": "INFO"
     },
     "output_type": "display_data"
    },
    {
     "data": {
      "text/plain": [
       "[2020-07-30 10:43:06.604724] INFO: 因子分析: QuantileCount.process, 0.000s"
      ]
     },
     "metadata": {
      "is_log": true,
      "status": "INFO"
     },
     "output_type": "display_data"
    },
    {
     "data": {
      "text/plain": [
       "[2020-07-30 10:43:06.605497] INFO: 因子分析: CommissionRates.process, 0.000s"
      ]
     },
     "metadata": {
      "is_log": true,
      "status": "INFO"
     },
     "output_type": "display_data"
    },
    {
     "data": {
      "text/plain": [
       "[2020-07-30 10:43:06.628660] INFO: 因子分析: Normalization.process, 0.022s"
      ]
     },
     "metadata": {
      "is_log": true,
      "status": "INFO"
     },
     "output_type": "display_data"
    },
    {
     "data": {
      "text/plain": [
       "[2020-07-30 10:43:07.894722] INFO: 因子分析: Neutralization.process, 1.265s"
      ]
     },
     "metadata": {
      "is_log": true,
      "status": "INFO"
     },
     "output_type": "display_data"
    },
    {
     "data": {
      "text/plain": [
       "[2020-07-30 10:43:07.932063] INFO: 因子分析: RebalancePeriod.process, 0.036s"
      ]
     },
     "metadata": {
      "is_log": true,
      "status": "INFO"
     },
     "output_type": "display_data"
    },
    {
     "data": {
      "text/plain": [
       "[2020-07-30 10:43:07.933162] INFO: 因子分析: ReturnsCalculationMethod.process, 0.000s"
      ]
     },
     "metadata": {
      "is_log": true,
      "status": "INFO"
     },
     "output_type": "display_data"
    },
    {
     "data": {
      "text/plain": [
       "[2020-07-30 10:43:07.990370] INFO: 因子分析: QuantileReturns.process, 0.056s"
      ]
     },
     "metadata": {
      "is_log": true,
      "status": "INFO"
     },
     "output_type": "display_data"
    },
    {
     "data": {
      "text/plain": [
       "[2020-07-30 10:43:08.044338] INFO: 因子分析: IC.process, 0.053s"
      ]
     },
     "metadata": {
      "is_log": true,
      "status": "INFO"
     },
     "output_type": "display_data"
    },
    {
     "data": {
      "text/plain": [
       "[2020-07-30 10:43:08.053856] INFO: 因子分析: BasicDescription.process, 0.008s"
      ]
     },
     "metadata": {
      "is_log": true,
      "status": "INFO"
     },
     "output_type": "display_data"
    },
    {
     "data": {
      "text/plain": [
       "[2020-07-30 10:43:08.168463] INFO: 因子分析: Industry.process, 0.114s"
      ]
     },
     "metadata": {
      "is_log": true,
      "status": "INFO"
     },
     "output_type": "display_data"
    },
    {
     "data": {
      "text/plain": [
       "[2020-07-30 10:43:08.195708] INFO: 因子分析: RebalanceOverlap.process, 0.026s"
      ]
     },
     "metadata": {
      "is_log": true,
      "status": "INFO"
     },
     "output_type": "display_data"
    },
    {
     "data": {
      "text/plain": [
       "[2020-07-30 10:43:08.209275] INFO: 因子分析: PBRatio.process, 0.013s"
      ]
     },
     "metadata": {
      "is_log": true,
      "status": "INFO"
     },
     "output_type": "display_data"
    },
    {
     "data": {
      "text/plain": [
       "[2020-07-30 10:43:08.221310] INFO: 因子分析: Turnover.process, 0.011s"
      ]
     },
     "metadata": {
      "is_log": true,
      "status": "INFO"
     },
     "output_type": "display_data"
    },
    {
     "data": {
      "text/plain": [
       "[2020-07-30 10:43:08.336125] INFO: 因子分析: Stocks.process, 0.114s"
      ]
     },
     "metadata": {
      "is_log": true,
      "status": "INFO"
     },
     "output_type": "display_data"
    },
    {
     "data": {
      "text/plain": [
       "[2020-07-30 10:43:08.360074] INFO: 因子分析: MarketCap.process, 0.023s"
      ]
     },
     "metadata": {
      "is_log": true,
      "status": "INFO"
     },
     "output_type": "display_data"
    },
    {
     "data": {
      "text/plain": [
       "[2020-07-30 10:43:08.468472] INFO: 因子分析: process metrics, 1.913s"
      ]
     },
     "metadata": {
      "is_log": true,
      "status": "INFO"
     },
     "output_type": "display_data"
    },
    {
     "data": {
      "text/plain": [
       "[2020-07-30 10:43:08.469649] INFO: 因子分析: QuantileReturns.after_process"
      ]
     },
     "metadata": {
      "is_log": true,
      "status": "INFO"
     },
     "output_type": "display_data"
    },
    {
     "data": {
      "text/plain": [
       "[2020-07-30 10:43:08.470531] INFO: 因子分析: IC.after_process"
      ]
     },
     "metadata": {
      "is_log": true,
      "status": "INFO"
     },
     "output_type": "display_data"
    },
    {
     "data": {
      "text/plain": [
       "[2020-07-30 10:43:08.471338] INFO: 因子分析: BasicDescription.after_process"
      ]
     },
     "metadata": {
      "is_log": true,
      "status": "INFO"
     },
     "output_type": "display_data"
    },
    {
     "data": {
      "text/plain": [
       "[2020-07-30 10:43:08.472167] INFO: 因子分析: Industry.after_process"
      ]
     },
     "metadata": {
      "is_log": true,
      "status": "INFO"
     },
     "output_type": "display_data"
    },
    {
     "data": {
      "text/plain": [
       "[2020-07-30 10:43:08.472938] INFO: 因子分析: RebalanceOverlap.after_process"
      ]
     },
     "metadata": {
      "is_log": true,
      "status": "INFO"
     },
     "output_type": "display_data"
    },
    {
     "data": {
      "text/plain": [
       "[2020-07-30 10:43:08.473704] INFO: 因子分析: PBRatio.after_process"
      ]
     },
     "metadata": {
      "is_log": true,
      "status": "INFO"
     },
     "output_type": "display_data"
    },
    {
     "data": {
      "text/plain": [
       "[2020-07-30 10:43:08.474491] INFO: 因子分析: Turnover.after_process"
      ]
     },
     "metadata": {
      "is_log": true,
      "status": "INFO"
     },
     "output_type": "display_data"
    },
    {
     "data": {
      "text/plain": [
       "[2020-07-30 10:43:08.475270] INFO: 因子分析: Stocks.after_process"
      ]
     },
     "metadata": {
      "is_log": true,
      "status": "INFO"
     },
     "output_type": "display_data"
    },
    {
     "data": {
      "text/plain": [
       "[2020-07-30 10:43:08.476116] INFO: 因子分析: MarketCap.after_process"
      ]
     },
     "metadata": {
      "is_log": true,
      "status": "INFO"
     },
     "output_type": "display_data"
    },
    {
     "data": {
      "text/plain": [
       "[2020-07-30 10:43:08.476895] INFO: 因子分析: FactorPairwiseCorrelationMerged.after_process"
      ]
     },
     "metadata": {
      "is_log": true,
      "status": "INFO"
     },
     "output_type": "display_data"
    },
    {
     "data": {
      "text/plain": [
       "[2020-07-30 10:43:08.484519] INFO: 因子分析: QuantileReturns.before_merged_process"
      ]
     },
     "metadata": {
      "is_log": true,
      "status": "INFO"
     },
     "output_type": "display_data"
    },
    {
     "data": {
      "text/plain": [
       "[2020-07-30 10:43:08.485325] INFO: 因子分析: IC.before_merged_process"
      ]
     },
     "metadata": {
      "is_log": true,
      "status": "INFO"
     },
     "output_type": "display_data"
    },
    {
     "data": {
      "text/plain": [
       "[2020-07-30 10:43:08.486075] INFO: 因子分析: BasicDescription.before_merged_process"
      ]
     },
     "metadata": {
      "is_log": true,
      "status": "INFO"
     },
     "output_type": "display_data"
    },
    {
     "data": {
      "text/plain": [
       "[2020-07-30 10:43:08.486808] INFO: 因子分析: Industry.before_merged_process"
      ]
     },
     "metadata": {
      "is_log": true,
      "status": "INFO"
     },
     "output_type": "display_data"
    },
    {
     "data": {
      "text/plain": [
       "[2020-07-30 10:43:08.487541] INFO: 因子分析: RebalanceOverlap.before_merged_process"
      ]
     },
     "metadata": {
      "is_log": true,
      "status": "INFO"
     },
     "output_type": "display_data"
    },
    {
     "data": {
      "text/plain": [
       "[2020-07-30 10:43:08.488283] INFO: 因子分析: PBRatio.before_merged_process"
      ]
     },
     "metadata": {
      "is_log": true,
      "status": "INFO"
     },
     "output_type": "display_data"
    },
    {
     "data": {
      "text/plain": [
       "[2020-07-30 10:43:08.489011] INFO: 因子分析: Turnover.before_merged_process"
      ]
     },
     "metadata": {
      "is_log": true,
      "status": "INFO"
     },
     "output_type": "display_data"
    },
    {
     "data": {
      "text/plain": [
       "[2020-07-30 10:43:08.489732] INFO: 因子分析: Stocks.before_merged_process"
      ]
     },
     "metadata": {
      "is_log": true,
      "status": "INFO"
     },
     "output_type": "display_data"
    },
    {
     "data": {
      "text/plain": [
       "[2020-07-30 10:43:08.490453] INFO: 因子分析: MarketCap.before_merged_process"
      ]
     },
     "metadata": {
      "is_log": true,
      "status": "INFO"
     },
     "output_type": "display_data"
    },
    {
     "data": {
      "text/plain": [
       "[2020-07-30 10:43:08.491187] INFO: 因子分析: FactorPairwiseCorrelationMerged.before_merged_process"
      ]
     },
     "metadata": {
      "is_log": true,
      "status": "INFO"
     },
     "output_type": "display_data"
    },
    {
     "data": {
      "text/plain": [
       "[2020-07-30 10:43:08.492051] INFO: 因子分析: QuantileReturns.after_merged_process"
      ]
     },
     "metadata": {
      "is_log": true,
      "status": "INFO"
     },
     "output_type": "display_data"
    },
    {
     "data": {
      "text/plain": [
       "[2020-07-30 10:43:08.492809] INFO: 因子分析: IC.after_merged_process"
      ]
     },
     "metadata": {
      "is_log": true,
      "status": "INFO"
     },
     "output_type": "display_data"
    },
    {
     "data": {
      "text/plain": [
       "[2020-07-30 10:43:08.493542] INFO: 因子分析: BasicDescription.after_merged_process"
      ]
     },
     "metadata": {
      "is_log": true,
      "status": "INFO"
     },
     "output_type": "display_data"
    },
    {
     "data": {
      "text/plain": [
       "[2020-07-30 10:43:08.494337] INFO: 因子分析: Industry.after_merged_process"
      ]
     },
     "metadata": {
      "is_log": true,
      "status": "INFO"
     },
     "output_type": "display_data"
    },
    {
     "data": {
      "text/plain": [
       "[2020-07-30 10:43:08.495093] INFO: 因子分析: RebalanceOverlap.after_merged_process"
      ]
     },
     "metadata": {
      "is_log": true,
      "status": "INFO"
     },
     "output_type": "display_data"
    },
    {
     "data": {
      "text/plain": [
       "[2020-07-30 10:43:08.495850] INFO: 因子分析: PBRatio.after_merged_process"
      ]
     },
     "metadata": {
      "is_log": true,
      "status": "INFO"
     },
     "output_type": "display_data"
    },
    {
     "data": {
      "text/plain": [
       "[2020-07-30 10:43:08.496603] INFO: 因子分析: Turnover.after_merged_process"
      ]
     },
     "metadata": {
      "is_log": true,
      "status": "INFO"
     },
     "output_type": "display_data"
    },
    {
     "data": {
      "text/plain": [
       "[2020-07-30 10:43:08.497346] INFO: 因子分析: Stocks.after_merged_process"
      ]
     },
     "metadata": {
      "is_log": true,
      "status": "INFO"
     },
     "output_type": "display_data"
    },
    {
     "data": {
      "text/plain": [
       "[2020-07-30 10:43:08.498105] INFO: 因子分析: MarketCap.after_merged_process"
      ]
     },
     "metadata": {
      "is_log": true,
      "status": "INFO"
     },
     "output_type": "display_data"
    },
    {
     "data": {
      "text/plain": [
       "[2020-07-30 10:43:08.498834] INFO: 因子分析: FactorPairwiseCorrelationMerged.after_merged_process"
      ]
     },
     "metadata": {
      "is_log": true,
      "status": "INFO"
     },
     "output_type": "display_data"
    },
    {
     "data": {
      "text/plain": [
       "[2020-07-30 10:43:08.499818] INFO: 因子分析: batch_process ended, 3.461s"
      ]
     },
     "metadata": {
      "is_log": true,
      "status": "INFO"
     },
     "output_type": "display_data"
    },
    {
     "data": {
      "text/html": [
       "<div class=\"factorlens-container\">\n",
       "            <div style=\"display:flex\">\n",
       "                <div style=\"flex:1\">\n",
       "                    \n",
       "                    <h2 class=\"factorlens-title\">因子分析: gap_ind_0</h2>\n",
       "                    \n",
       "                </div>\n",
       "                <div style=\"width:180px;\">\n",
       "                    \n",
       "                    <code style=\"display:none\" class=\"bq-template-label-inject\">\n",
       "                    {\n",
       "                        \"type\": \"factor-track\",\n",
       "                        \"data\": {\n",
       "                            \"exprs\": [\"gap_ind_0\"],\n",
       "                            \"options\": {\"BacktestInterval\": [\"2019-12-01\", \"2019-12-31\"], \"StockPool\": \"all\", \"DropSTStocks\": 1, \"DropPriceLimitStocks\": 1, \"DropNewStocks\": 1, \"QuantileCount\": 5, \"CommissionRates\": 0.0016, \"Normalization\": 1, \"Neutralization\": \"industry,size\", \"RebalancePeriod\": 5, \"ReturnsCalculationMethod\": \"cumprod\", \"_HASH\": \"fa63b2a6fbfac4ad00d8ce1e9c748122\"}\n",
       "                        }\n",
       "                    }\n",
       "                    </code>\n",
       "                    \n",
       "                </div>\n",
       "            </div>\n",
       "            <div class=\"type_title_left\"><p>因子表现概览<i class=\"fa fa-question-circle-o\" title=\"按因子值升序排列将股票分组，1分位组对应最小因子分组。多空组合表示做多最小分位组，做空最大分位组。\"></i></p></div><table class=\"factor_table\">\n",
       "            <thead>\n",
       "                <tr>\n",
       "                    <th>&nbsp;</th>\n",
       "                    <th>累计收益</th>\n",
       "                    <th>近1年收益</th>\n",
       "                    <th>近3月收益</th>\n",
       "                    <th>近1月收益</th>\n",
       "                    <th>近1周收益</th>\n",
       "                    <th>昨日收益</th>\n",
       "                    <th>最大回撤</th>\n",
       "                    <th>盈亏比</th>\n",
       "                    <th>胜率</th>\n",
       "                    <th>夏普比率</th>\n",
       "                    <th>收益波动率</th>\n",
       "                </tr>\n",
       "            </thead>\n",
       "            <tbody>\n",
       "                \n",
       "                    <tr>\n",
       "                    <th>最小分位</th>\n",
       "                        \n",
       "                            <td><span class=\"pct up\">5.43%</span></td>\n",
       "                        \n",
       "                            <td><span class=\"pct up\">5.43%</span></td>\n",
       "                        \n",
       "                            <td><span class=\"pct up\">5.43%</span></td>\n",
       "                        \n",
       "                            <td><span class=\"pct up\">5.43%</span></td>\n",
       "                        \n",
       "                            <td><span class=\"pct up\">0.75%</span></td>\n",
       "                        \n",
       "                            <td><span class=\"pct up\">0.39%</span></td>\n",
       "                        \n",
       "                            <td>3.25%</td>\n",
       "                        \n",
       "                            <td>0.79</td>\n",
       "                        \n",
       "                            <td>0.73</td>\n",
       "                        \n",
       "                            <td><span class=\"pct up\">4.23</span></td>\n",
       "                        \n",
       "                            <td>13.73%</td>\n",
       "                        \n",
       "                    </tr>\n",
       "                \n",
       "                    <tr>\n",
       "                    <th>最大分位</th>\n",
       "                        \n",
       "                            <td><span class=\"pct up\">4.06%</span></td>\n",
       "                        \n",
       "                            <td><span class=\"pct up\">4.06%</span></td>\n",
       "                        \n",
       "                            <td><span class=\"pct up\">4.06%</span></td>\n",
       "                        \n",
       "                            <td><span class=\"pct up\">4.06%</span></td>\n",
       "                        \n",
       "                            <td><span class=\"pct up\">0.24%</span></td>\n",
       "                        \n",
       "                            <td><span class=\"pct up\">0.07%</span></td>\n",
       "                        \n",
       "                            <td>3.45%</td>\n",
       "                        \n",
       "                            <td>0.66</td>\n",
       "                        \n",
       "                            <td>0.73</td>\n",
       "                        \n",
       "                            <td><span class=\"pct up\">3.16</span></td>\n",
       "                        \n",
       "                            <td>13.63%</td>\n",
       "                        \n",
       "                    </tr>\n",
       "                \n",
       "                    <tr>\n",
       "                    <th>多空组合</th>\n",
       "                        \n",
       "                            <td><span class=\"pct up\">0.66%</span></td>\n",
       "                        \n",
       "                            <td><span class=\"pct up\">0.66%</span></td>\n",
       "                        \n",
       "                            <td><span class=\"pct up\">0.66%</span></td>\n",
       "                        \n",
       "                            <td><span class=\"pct up\">0.66%</span></td>\n",
       "                        \n",
       "                            <td><span class=\"pct up\">0.25%</span></td>\n",
       "                        \n",
       "                            <td><span class=\"pct up\">0.16%</span></td>\n",
       "                        \n",
       "                            <td>0.33%</td>\n",
       "                        \n",
       "                            <td>1.33</td>\n",
       "                        \n",
       "                            <td>0.64</td>\n",
       "                        \n",
       "                            <td><span class=\"pct up\">2.80</span></td>\n",
       "                        \n",
       "                            <td>1.43%</td>\n",
       "                        \n",
       "                    </tr>\n",
       "                \n",
       "            </tbody>\n",
       "        </table><div id=\"bigchart-716984af73ad4e979b5effcccdb06088\" class=\"bigchart\"></div><div class=\"bigchart-data\"><pre style=\"display:none\">bigcharts-data-start/{\"chart\":{\"height\":500,\"renderTo\":\"bigchart-716984af73ad4e979b5effcccdb06088\"},\"legend\":{\"enabled\":true},\"stock\":true,\"series\":[{\"name\":\"1\\u5206\\u4f4d\\u6570\",\"yAxis\":0,\"data\":[[1575244800000,1.0],[1575331200000,1.0048],[1575417600000,1.0061],[1575504000000,1.0173],[1575590400000,1.0242],[1575849600000,1.0268],[1575936000000,1.0318],[1576022400000,1.0281],[1576108800000,1.0252],[1576195200000,1.0364],[1576454400000,1.0508],[1576540800000,1.0607],[1576627200000,1.0599],[1576713600000,1.0633],[1576800000000,1.0513],[1577059200000,1.0288],[1577145600000,1.0465],[1577232000000,1.0509],[1577318400000,1.0585],[1577404800000,1.0492],[1577664000000,1.0502],[1577750400000,1.0543]],\"color\":\"#F08B55\"},{\"name\":\"2\\u5206\\u4f4d\\u6570\",\"yAxis\":0,\"data\":[[1575244800000,1.0],[1575331200000,1.0054],[1575417600000,1.0084],[1575504000000,1.0173],[1575590400000,1.0219],[1575849600000,1.0219],[1575936000000,1.0253],[1576022400000,1.0227],[1576108800000,1.0199],[1576195200000,1.0314],[1576454400000,1.0461],[1576540800000,1.0584],[1576627200000,1.0598],[1576713600000,1.0659],[1576800000000,1.0554],[1577059200000,1.0312],[1577145600000,1.0473],[1577232000000,1.0483],[1577318400000,1.057],[1577404800000,1.0516],[1577664000000,1.0569],[1577750400000,1.0639]],\"color\":\"#648FD5\"},{\"name\":\"3\\u5206\\u4f4d\\u6570\",\"yAxis\":0,\"data\":[[1575244800000,1.0],[1575331200000,1.0057],[1575417600000,1.0067],[1575504000000,1.015],[1575590400000,1.0205],[1575849600000,1.0211],[1575936000000,1.0235],[1576022400000,1.0218],[1576108800000,1.018],[1576195200000,1.0304],[1576454400000,1.0441],[1576540800000,1.0577],[1576627200000,1.059],[1576713600000,1.066],[1576800000000,1.0554],[1577059200000,1.0297],[1577145600000,1.0452],[1577232000000,1.0474],[1577318400000,1.0563],[1577404800000,1.0509],[1577664000000,1.057],[1577750400000,1.0639]],\"color\":\"#E06681\"},{\"name\":\"4\\u5206\\u4f4d\\u6570\",\"yAxis\":0,\"data\":[[1575244800000,1.0],[1575331200000,1.0063],[1575417600000,1.0072],[1575504000000,1.0162],[1575590400000,1.0215],[1575849600000,1.0217],[1575936000000,1.0242],[1576022400000,1.0212],[1576108800000,1.0184],[1576195200000,1.0297],[1576454400000,1.0429],[1576540800000,1.0549],[1576627200000,1.0549],[1576713600000,1.0614],[1576800000000,1.0499],[1577059200000,1.0256],[1577145600000,1.0394],[1577232000000,1.0412],[1577318400000,1.0489],[1577404800000,1.0421],[1577664000000,1.0472],[1577750400000,1.0534]],\"color\":\"#E2D269\"},{\"name\":\"5\\u5206\\u4f4d\\u6570\",\"yAxis\":0,\"data\":[[1575244800000,1.0],[1575331200000,1.0049],[1575417600000,1.0032],[1575504000000,1.0129],[1575590400000,1.0185],[1575849600000,1.0206],[1575936000000,1.0273],[1576022400000,1.0227],[1576108800000,1.0199],[1576195200000,1.0287],[1576454400000,1.0422],[1576540800000,1.0539],[1576627200000,1.0557],[1576713600000,1.0614],[1576800000000,1.0496],[1577059200000,1.0248],[1577145600000,1.0382],[1577232000000,1.0406],[1577318400000,1.0473],[1577404800000,1.0375],[1577664000000,1.0399],[1577750400000,1.0406]],\"color\":\"#4A8E8E\"},{\"name\":\"\\u6700\\u5c0f-\\u6700\\u5927\\u5206\\u4f4d\",\"yAxis\":0,\"data\":[[1575244800000,1.0],[1575331200000,1.0],[1575417600000,1.0015],[1575504000000,1.0022],[1575590400000,1.0028],[1575849600000,1.003],[1575936000000,1.0022],[1576022400000,1.0027],[1576108800000,1.0026],[1576195200000,1.0037],[1576454400000,1.0041],[1576540800000,1.0032],[1576627200000,1.002],[1576713600000,1.0009],[1576800000000,1.0008],[1577059200000,1.0019],[1577145600000,1.004],[1577232000000,1.005],[1577318400000,1.0053],[1577404800000,1.0056],[1577664000000,1.0049],[1577750400000,1.0066]]}],\"xAxis\":{\"title\":{\"text\":\"date\"},\"type\":\"datetime\"},\"plotOptions\":{\"series\":{\"compare\":\"percent\"}}}/bigcharts-data-end</pre></div><div class=\"type_title_left\"><p>基本特征分析<i class=\"fa fa-question-circle-o\" title=\"处理后因子表示对因子做去极值、标准化和中性化(如果启用的话)等处理后的因子值。\"></i></p></div><div class=\"cols\">\n",
       "            \n",
       "                \n",
       "                <div class=\"col\"><div id=\"bigchart-c25eb1e22f2a496b805912d456deb1f0\" class=\"bigchart\"></div><div class=\"bigchart-data\"><pre style=\"display:none\">bigcharts-data-start/{\"chart\":{\"height\":500,\"type\":\"column\",\"renderTo\":\"bigchart-c25eb1e22f2a496b805912d456deb1f0\"},\"legend\":{\"enabled\":true},\"title\":{\"text\":\"\\u56e0\\u5b50\\u5206\\u5e03\"},\"stock\":false,\"series\":[{\"name\":\"count\",\"yAxis\":0,\"data\":[[-0.1097,0.0],[-0.1067,0.0],[-0.1037,0.0],[-0.1008,0.0],[-0.0978,0.0001],[-0.0948,0.0],[-0.0918,0.0001],[-0.0888,0.0001],[-0.0859,0.0001],[-0.0829,0.0003],[-0.0799,0.0001],[-0.0769,0.0002],[-0.0739,0.0002],[-0.071,0.0003],[-0.068,0.0002],[-0.065,0.0004],[-0.062,0.0005],[-0.059,0.0005],[-0.056,0.0006],[-0.0531,0.0009],[-0.0501,0.0012],[-0.0471,0.0014],[-0.0441,0.0017],[-0.0411,0.002],[-0.0382,0.0031],[-0.0352,0.0034],[-0.0322,0.0054],[-0.0292,0.0068],[-0.0262,0.0102],[-0.0233,0.0135],[-0.0203,0.0186],[-0.0173,0.028],[-0.0143,0.0384],[-0.0113,0.054],[-0.0083,0.0729],[-0.0054,0.0933],[-0.0024,0.1134],[0.0006,0.1143],[0.0036,0.0995],[0.0066,0.0762],[0.0095,0.0569],[0.0125,0.0411],[0.0155,0.0296],[0.0185,0.022],[0.0215,0.0175],[0.0245,0.0135],[0.0274,0.0103],[0.0304,0.0083],[0.0334,0.0067],[0.0364,0.0055],[0.0394,0.0046],[0.0423,0.0039],[0.0453,0.0032],[0.0483,0.0027],[0.0513,0.002],[0.0543,0.0018],[0.0572,0.0013],[0.0602,0.0013],[0.0632,0.0011],[0.0662,0.001],[0.0692,0.0007],[0.0722,0.0008],[0.0751,0.0005],[0.0781,0.0004],[0.0811,0.0003],[0.0841,0.0002],[0.0871,0.0001],[0.09,0.0002],[0.093,0.0002],[0.096,0.0001],[0.099,0.0],[0.102,0.0],[0.1049,0.0],[0.1079,0.0],[0.1109,0.0],[0.1139,0.0],[0.1169,0.0],[0.1199,0.0],[0.1228,0.0],[0.1258,0.0],[0.1288,0.0],[0.1318,0.0],[0.1348,0.0],[0.1377,0.0],[0.1407,0.0],[0.1437,0.0],[0.1467,0.0],[0.1497,0.0],[0.1527,0.0],[0.1556,0.0],[0.1586,0.0],[0.1616,0.0],[0.1646,0.0],[0.1676,0.0],[0.1705,0.0],[0.1735,0.0],[0.1765,0.0],[0.1795,0.0],[0.1825,0.0],[0.1854,0.0]],\"color\":\"#F08B55\"}],\"xAxis\":{\"title\":{\"text\":\"value\"}}}/bigcharts-data-end</pre></div></div>\n",
       "                \n",
       "            \n",
       "                \n",
       "                <div class=\"col\"><div id=\"bigchart-f342374726434e8b9b6e4632372ac3af\" class=\"bigchart\"></div><div class=\"bigchart-data\"><pre style=\"display:none\">bigcharts-data-start/{\"chart\":{\"height\":500,\"type\":\"column\",\"renderTo\":\"bigchart-f342374726434e8b9b6e4632372ac3af\"},\"legend\":{\"enabled\":true},\"title\":{\"text\":\"\\u5904\\u7406\\u540e\\u56e0\\u5b50\\u5206\\u5e03\"},\"stock\":false,\"series\":[{\"name\":\"count\",\"yAxis\":0,\"data\":[[-3.4373,0.0001],[-3.3699,0.0],[-3.3025,0.0],[-3.2351,0.0001],[-3.1677,0.0002],[-3.1003,0.0002],[-3.0328,0.0],[-2.9654,0.0],[-2.898,0.0],[-2.8306,0.0004],[-2.7632,0.0003],[-2.6958,0.0007],[-2.6284,0.0006],[-2.561,0.0012],[-2.4935,0.0017],[-2.4261,0.0032],[-2.3587,0.0029],[-2.2913,0.0036],[-2.2239,0.003],[-2.1565,0.003],[-2.0891,0.0024],[-2.0217,0.0026],[-1.9542,0.0022],[-1.8868,0.0032],[-1.8194,0.0033],[-1.752,0.0033],[-1.6846,0.0047],[-1.6172,0.0047],[-1.5498,0.0053],[-1.4824,0.005],[-1.4149,0.0063],[-1.3475,0.006],[-1.2801,0.0069],[-1.2127,0.0088],[-1.1453,0.0086],[-1.0779,0.0111],[-1.0105,0.0109],[-0.9431,0.0115],[-0.8756,0.015],[-0.8082,0.0162],[-0.7408,0.019],[-0.6734,0.0228],[-0.606,0.0238],[-0.5386,0.0261],[-0.4712,0.0292],[-0.4038,0.0293],[-0.3363,0.0329],[-0.2689,0.0331],[-0.2015,0.0374],[-0.1341,0.0382],[-0.0667,0.0383],[0.0007,0.0391],[0.0681,0.0368],[0.1355,0.0362],[0.203,0.0347],[0.2704,0.031],[0.3378,0.0295],[0.4052,0.0272],[0.4726,0.0253],[0.54,0.0219],[0.6074,0.0209],[0.6748,0.0183],[0.7423,0.0146],[0.8097,0.0146],[0.8771,0.0127],[0.9445,0.0116],[1.0119,0.0093],[1.0793,0.0096],[1.1467,0.0092],[1.2141,0.0074],[1.2816,0.0075],[1.349,0.0064],[1.4164,0.0059],[1.4838,0.0057],[1.5512,0.0048],[1.6186,0.0047],[1.686,0.0046],[1.7534,0.0049],[1.8209,0.0035],[1.8883,0.0039],[1.9557,0.0031],[2.0231,0.0034],[2.0905,0.0028],[2.1579,0.0031],[2.2253,0.0052],[2.2927,0.0061],[2.3602,0.0048],[2.4276,0.0063],[2.495,0.0054],[2.5624,0.003],[2.6298,0.0015],[2.6972,0.0015],[2.7646,0.0006],[2.832,0.0009],[2.8995,0.0005],[2.9669,0.0003],[3.0343,0.0003],[3.1017,0.0003],[3.1691,0.0001],[3.2365,0.0001]],\"color\":\"#F08B55\"}],\"xAxis\":{\"title\":{\"text\":\"value\"}}}/bigcharts-data-end</pre></div></div>\n",
       "                \n",
       "            \n",
       "            </div><div class=\"cols\">\n",
       "            \n",
       "                \n",
       "                <div class=\"col\"><div id=\"bigchart-cb802118474a4905881be896c213bb22\" class=\"bigchart\"></div><div class=\"bigchart-data\"><pre style=\"display:none\">bigcharts-data-start/{\"chart\":{\"height\":500,\"type\":\"boxplot\",\"renderTo\":\"bigchart-cb802118474a4905881be896c213bb22\"},\"legend\":{\"enabled\":true},\"title\":{\"text\":\"\\u5904\\u7406\\u540e\\u56e0\\u5b50\\u884c\\u4e1a\\u5206\\u5e03\"},\"stock\":false,\"series\":[{\"name\":\"\\u5904\\u7406\\u540e\\u56e0\\u5b50\",\"data\":[[-2.8521,-0.5947,-0.029,0.5721,3.0266],[-2.6947,-0.3948,-0.046,0.3695,2.4136],[-2.5959,-0.5447,-0.067,0.4632,2.7747],[-2.2463,-0.5578,-0.1058,0.4838,2.6408],[-2.6207,-0.4783,-0.0649,0.4229,2.7443],[-3.1134,-0.7639,-0.0552,0.7461,2.9336],[-2.7012,-0.6298,-0.0758,0.556,2.663],[-2.5374,-0.5434,-0.0079,0.4756,3.0461],[-3.2966,-0.5545,0.016,0.4288,2.8943],[-2.6196,-0.5011,-0.0376,0.4747,2.5574],[-2.7463,-0.6273,-0.0685,0.5535,2.7659],[-3.224,-0.5325,0.0367,0.5518,2.6807],[-2.455,-0.405,-0.0579,0.3767,2.6327],[-2.7679,-0.4274,-0.0757,0.3546,2.4859],[-2.7212,-0.5353,-0.0858,0.4182,2.9722],[-3.225,-0.3911,-0.0085,0.4155,2.482],[-3.5047,-0.479,-0.0282,0.4183,2.2775],[-2.4269,-0.2659,0.0295,0.376,1.4832],[-2.388,-0.354,-0.0461,0.3745,3.0517],[-2.7451,-0.6143,-0.0896,0.464,2.5097],[-2.4662,-0.6041,-0.1347,0.5737,3.2365],[-2.6957,-0.398,-0.0045,0.3915,2.6644],[-2.5673,-0.5245,-0.0632,0.4219,2.9498],[-2.8884,-0.5916,-0.0654,0.4761,2.6685],[-2.7793,-0.4752,-0.0347,0.3818,2.6961],[-2.8799,-0.6813,-0.0814,0.5458,2.9686],[-2.5793,-0.6683,-0.1323,0.5776,3.1385],[-2.7561,-0.4967,-0.0158,0.4481,2.7264]],\"color\":\"#F08B55\"}],\"xAxis\":{\"categories\":[\"\\u519c\\u6797\\u7267\\u6e14\",\"\\u91c7\\u6398\",\"\\u5316\\u5de5\",\"\\u94a2\\u94c1\",\"\\u6709\\u8272\\u91d1\\u5c5e\",\"\\u7535\\u5b50\",\"\\u6c7d\\u8f66\",\"\\u5bb6\\u7528\\u7535\\u5668\",\"\\u98df\\u54c1\\u996e\\u6599\",\"\\u7eba\\u7ec7\\u670d\\u88c5\",\"\\u8f7b\\u5de5\\u5236\\u9020\",\"\\u533b\\u836f\\u751f\\u7269\",\"\\u516c\\u7528\\u4e8b\\u4e1a\",\"\\u4ea4\\u901a\\u8fd0\\u8f93\",\"\\u623f\\u5730\\u4ea7\",\"\\u5546\\u4e1a\\u8d38\\u6613\",\"\\u4f11\\u95f2\\u670d\\u52a1\",\"\\u94f6\\u884c\",\"\\u975e\\u94f6\\u91d1\\u878d\",\"\\u7efc\\u5408\",\"\\u5efa\\u7b51\\u6750\\u6599\",\"\\u5efa\\u7b51\\u88c5\\u9970\",\"\\u7535\\u6c14\\u8bbe\\u5907\",\"\\u673a\\u68b0\\u8bbe\\u5907\",\"\\u56fd\\u9632\\u519b\\u5de5\",\"\\u8ba1\\u7b97\\u673a\",\"\\u4f20\\u5a92\",\"\\u901a\\u4fe1\"]}}/bigcharts-data-end</pre></div></div>\n",
       "                \n",
       "            \n",
       "                \n",
       "                <div class=\"col\"><div id=\"bigchart-41dbef24dc8a46e6bdfee27d17e47d14\" class=\"bigchart\"></div><div class=\"bigchart-data\"><pre style=\"display:none\">bigcharts-data-start/{\"chart\":{\"height\":500,\"type\":\"boxplot\",\"renderTo\":\"bigchart-41dbef24dc8a46e6bdfee27d17e47d14\"},\"legend\":{\"enabled\":true},\"title\":{\"text\":\"\\u5904\\u7406\\u540e\\u56e0\\u5b50\\u5e02\\u503c\\u5206\\u5e03\"},\"stock\":false,\"series\":[{\"name\":\"\\u5904\\u7406\\u540e\\u56e0\\u5b50\",\"data\":[[-2.8884,-0.5182,-0.0604,0.4089,3.2365],[-2.6152,-0.5498,-0.0506,0.4346,2.8943],[-3.1523,-0.5207,-0.0176,0.5012,2.8485],[-3.1733,-0.5218,-0.0107,0.5739,3.0443],[-3.5047,-0.5976,-0.0841,0.4828,3.1385]],\"color\":\"#F08B55\"}],\"xAxis\":{\"categories\":[\"\\u8d85\\u5c0f\\u578b\",\"\\u5c0f\\u578b\",\"\\u4e2d\\u578b\",\"\\u5927\\u578b\",\"\\u8d85\\u5927\\u578b\"]}}/bigcharts-data-end</pre></div></div>\n",
       "                \n",
       "            \n",
       "            </div><div class=\"type_title_left\"><p>IC分析<i class=\"fa fa-question-circle-o\" title=\"期初因子值与因子当期收益相关性分析，绝对值越大越好。以及因子值与滞后n期因子收益的相关性分析。\"></i></p></div>\n",
       "        <div class=\"ic_summary\">\n",
       "          <div class=\"item ic_mean\"><label>IC均值</label><p>-0.03</p></div>\n",
       "          <div class=\"item ic_std\"><label>IC标准差</label><p>0.05</p></div>\n",
       "          <div class=\"item ir\"><label>IR值</label><p>-0.63</p></div>\n",
       "          <div class=\"item ic_significance_ratio\"><label>|IC| > 0.02比率</label><p>100.00%</p></div>\n",
       "        </div>\n",
       "        <div class=\"cols\">\n",
       "            \n",
       "                \n",
       "                <div class=\"col\"><div id=\"bigchart-fe583a35163b45de8f433aa7fc026fb4\" class=\"bigchart\"></div><div class=\"bigchart-data\"><pre style=\"display:none\">bigcharts-data-start/{\"chart\":{\"height\":500,\"type\":\"column\",\"renderTo\":\"bigchart-fe583a35163b45de8f433aa7fc026fb4\"},\"legend\":{\"enabled\":true},\"title\":{\"text\":\"IC\\u65f6\\u5e8f\\u56fe\"},\"stock\":true,\"series\":[{\"name\":\"IC\",\"yAxis\":0,\"data\":[[1575244800000,-0.0553],[1575849600000,-0.039],[1576454400000,0.0391],[1577059200000,-0.0641]],\"color\":\"#F08B55\"}],\"xAxis\":{\"title\":{\"text\":\"date\"},\"type\":\"datetime\"}}/bigcharts-data-end</pre></div></div>\n",
       "                \n",
       "            \n",
       "                \n",
       "                <div class=\"col\"><div id=\"bigchart-a079f5a5bc3547cfb353294da226d0be\" class=\"bigchart\"></div><div class=\"bigchart-data\"><pre style=\"display:none\">bigcharts-data-start/{\"chart\":{\"height\":500,\"type\":\"column\",\"renderTo\":\"bigchart-a079f5a5bc3547cfb353294da226d0be\"},\"legend\":{\"enabled\":true},\"title\":{\"text\":\"IC\\u4fe1\\u53f7\\u8870\\u51cf\"},\"stock\":false,\"series\":[{\"name\":\"IC\",\"yAxis\":0,\"data\":[[\"\\u6ede\\u540e0\\u671f\",-0.0298],[\"\\u6ede\\u540e1\\u671f\",0.3148],[\"\\u6ede\\u540e2\\u671f\",0.0371],[\"\\u6ede\\u540e3\\u671f\",-0.0425],[\"\\u6ede\\u540e4\\u671f\",null]],\"color\":\"#F08B55\"}],\"xAxis\":{\"categories\":[\"\\u6ede\\u540e0\\u671f\",\"\\u6ede\\u540e1\\u671f\",\"\\u6ede\\u540e2\\u671f\",\"\\u6ede\\u540e3\\u671f\",\"\\u6ede\\u540e4\\u671f\"]}}/bigcharts-data-end</pre></div></div>\n",
       "                \n",
       "            \n",
       "            </div><div class=\"type_title_left\"><p>买入信号重合分析<i class=\"fa fa-question-circle-o\" title=\"分布对最小和最大分位组，计算当期和滞后n期所选股票的重合度。\"></i></p></div><div id=\"bigchart-a2e4bb4027ad4c039d69892101ccf264\" class=\"bigchart\"></div><div class=\"bigchart-data\"><pre style=\"display:none\">bigcharts-data-start/{\"chart\":{\"height\":500,\"type\":\"column\",\"renderTo\":\"bigchart-a2e4bb4027ad4c039d69892101ccf264\"},\"legend\":{\"enabled\":true},\"title\":{\"text\":\"\\u4e70\\u5165\\u4fe1\\u53f7\\u91cd\\u5408\\u5ea6\"},\"stock\":false,\"series\":[{\"name\":\"\\u6700\\u5c0f\\u5206\\u4f4d\",\"yAxis\":0,\"data\":[[\"\\u6ede\\u540e1\\u671f\",0.2415],[\"\\u6ede\\u540e2\\u671f\",0.219],[\"\\u6ede\\u540e3\\u671f\",0.2171]],\"color\":\"#F08B55\"},{\"name\":\"\\u6700\\u5927\\u5206\\u4f4d\",\"yAxis\":0,\"data\":[[\"\\u6ede\\u540e1\\u671f\",0.2295],[\"\\u6ede\\u540e2\\u671f\",0.21],[\"\\u6ede\\u540e3\\u671f\",0.2159]],\"color\":\"#648FD5\"}],\"xAxis\":{\"categories\":[\"\\u6ede\\u540e1\\u671f\",\"\\u6ede\\u540e2\\u671f\",\"\\u6ede\\u540e3\\u671f\"]}}/bigcharts-data-end</pre></div><div class=\"type_title_left\"><p>因子估值分析<i class=\"fa fa-question-circle-o\" title=\"衡量因子估值高低，估值越低，该因子越可以加大配置。\"></i></p></div><div id=\"bigchart-7a859a09ea6e4fb99798d9097050f0ac\" class=\"bigchart\"></div><div class=\"bigchart-data\"><pre style=\"display:none\">bigcharts-data-start/{\"chart\":{\"height\":500,\"renderTo\":\"bigchart-7a859a09ea6e4fb99798d9097050f0ac\"},\"legend\":{\"enabled\":true},\"title\":{\"text\":\"PB\\u4f30\\u503c\\u5206\\u6790\"},\"stock\":true,\"series\":[{\"name\":\"1\\u5206\\u4f4d\\u6570\",\"yAxis\":0,\"data\":[[1575244800000,null],[1575331200000,2.4776],[1575417600000,2.451],[1575504000000,2.5051],[1575590400000,2.5339],[1575849600000,2.5407],[1575936000000,2.8216],[1576022400000,2.8056],[1576108800000,2.8094],[1576195200000,2.8355],[1576454400000,2.8725],[1576540800000,2.8872],[1576627200000,2.8846],[1576713600000,2.8907],[1576800000000,2.8855],[1577059200000,2.7975],[1577145600000,2.6683],[1577232000000,2.6991],[1577318400000,2.7265],[1577404800000,2.6968],[1577664000000,2.7165],[1577750400000,3.1515]],\"color\":\"#F08B55\"},{\"name\":\"2\\u5206\\u4f4d\\u6570\",\"yAxis\":0,\"data\":[[1575244800000,null],[1575331200000,1.9779],[1575417600000,1.961],[1575504000000,1.9654],[1575590400000,1.9727],[1575849600000,1.9871],[1575936000000,1.998],[1576022400000,2.0025],[1576108800000,1.9896],[1576195200000,2.026],[1576454400000,2.0405],[1576540800000,1.9846],[1576627200000,1.9925],[1576713600000,1.9915],[1576800000000,1.987],[1577059200000,1.945],[1577145600000,2.0451],[1577232000000,2.0408],[1577318400000,2.0609],[1577404800000,2.0478],[1577664000000,2.0581],[1577750400000,2.2355]],\"color\":\"#648FD5\"},{\"name\":\"3\\u5206\\u4f4d\\u6570\",\"yAxis\":0,\"data\":[[1575244800000,null],[1575331200000,1.9167],[1575417600000,1.9282],[1575504000000,1.9304],[1575590400000,1.9576],[1575849600000,1.9538],[1575936000000,1.9083],[1576022400000,1.9137],[1576108800000,1.8887],[1576195200000,1.9279],[1576454400000,1.9653],[1576540800000,1.9178],[1576627200000,1.926],[1576713600000,1.9356],[1576800000000,1.9085],[1577059200000,1.8676],[1577145600000,1.9023],[1577232000000,1.8975],[1577318400000,1.923],[1577404800000,1.9212],[1577664000000,1.953],[1577750400000,2.03]],\"color\":\"#E06681\"},{\"name\":\"4\\u5206\\u4f4d\\u6570\",\"yAxis\":0,\"data\":[[1575244800000,null],[1575331200000,2.0],[1575417600000,2.0122],[1575504000000,2.0296],[1575590400000,2.0237],[1575849600000,2.0491],[1575936000000,1.9779],[1576022400000,1.9639],[1576108800000,1.9624],[1576195200000,1.9924],[1576454400000,2.029],[1576540800000,2.1672],[1576627200000,2.1689],[1576713600000,2.1861],[1576800000000,2.1592],[1577059200000,2.1174],[1577145600000,2.0625],[1577232000000,2.071],[1577318400000,2.0836],[1577404800000,2.0803],[1577664000000,2.0958],[1577750400000,2.03]],\"color\":\"#E2D269\"},{\"name\":\"5\\u5206\\u4f4d\\u6570\",\"yAxis\":0,\"data\":[[1575244800000,null],[1575331200000,2.5502],[1575417600000,2.5466],[1575504000000,2.55],[1575590400000,2.5621],[1575849600000,2.5623],[1575936000000,2.4596],[1576022400000,2.4643],[1576108800000,2.4483],[1576195200000,2.4831],[1576454400000,2.4982],[1576540800000,2.6314],[1576627200000,2.6787],[1576713600000,2.6964],[1576800000000,2.6597],[1577059200000,2.6151],[1577145600000,2.7614],[1577232000000,2.7682],[1577318400000,2.7956],[1577404800000,2.7721],[1577664000000,2.7838],[1577750400000,2.403]],\"color\":\"#4A8E8E\"},{\"name\":\"\\u6700\\u5c0f\\/\\u6700\\u5927\\u5206\\u4f4d\",\"yAxis\":0,\"data\":[[1575244800000,null],[1575331200000,0.9716],[1575417600000,0.9625],[1575504000000,0.9824],[1575590400000,0.989],[1575849600000,0.9916],[1575936000000,1.1472],[1576022400000,1.1385],[1576108800000,1.1475],[1576195200000,1.1419],[1576454400000,1.1498],[1576540800000,1.0972],[1576627200000,1.0769],[1576713600000,1.0721],[1576800000000,1.0849],[1577059200000,1.0698],[1577145600000,0.9663],[1577232000000,0.975],[1577318400000,0.9753],[1577404800000,0.9728],[1577664000000,0.9758],[1577750400000,1.3115]]}],\"xAxis\":{\"title\":{\"text\":\"date\"},\"type\":\"datetime\"},\"plotOptions\":{\"series\":{\"compare\":\"percent\"}}}/bigcharts-data-end</pre></div><div class=\"type_title_left\"><p>因子拥挤度分析<i class=\"fa fa-question-circle-o\" title=\"衡量因子拥挤度。使用换手率衡量，换手率越高，拥挤度越高。\"></i></p></div><div id=\"bigchart-fa0d19d4ccb04581abbdf067f80ec570\" class=\"bigchart\"></div><div class=\"bigchart-data\"><pre style=\"display:none\">bigcharts-data-start/{\"chart\":{\"height\":500,\"renderTo\":\"bigchart-fa0d19d4ccb04581abbdf067f80ec570\"},\"legend\":{\"enabled\":true},\"title\":{\"text\":\"\\u6362\\u624b\\u7387\\u5206\\u6790\"},\"stock\":true,\"series\":[{\"name\":\"1\\u5206\\u4f4d\\u6570\",\"yAxis\":0,\"data\":[[1575244800000,null],[1575331200000,1.9049],[1575417600000,1.912],[1575504000000,2.219],[1575590400000,2.1967],[1575849600000,2.4578],[1575936000000,2.2984],[1576022400000,2.5113],[1576108800000,2.366],[1576195200000,2.4492],[1576454400000,2.9108],[1576540800000,2.851],[1576627200000,2.6658],[1576713600000,2.4725],[1576800000000,2.4523],[1577059200000,2.245],[1577145600000,2.7237],[1577232000000,3.1444],[1577318400000,3.1618],[1577404800000,3.8011],[1577664000000,3.2921],[1577750400000,2.974]],\"color\":\"#F08B55\"},{\"name\":\"2\\u5206\\u4f4d\\u6570\",\"yAxis\":0,\"data\":[[1575244800000,null],[1575331200000,1.1167],[1575417600000,1.2161],[1575504000000,1.4328],[1575590400000,1.3928],[1575849600000,1.4819],[1575936000000,1.5427],[1576022400000,1.5958],[1576108800000,1.6828],[1576195200000,1.8636],[1576454400000,2.203],[1576540800000,2.153],[1576627200000,2.1171],[1576713600000,1.8203],[1576800000000,1.7923],[1577059200000,1.6347],[1577145600000,1.4231],[1577232000000,1.6097],[1577318400000,1.8514],[1577404800000,2.1923],[1577664000000,2.0697],[1577750400000,1.6658]],\"color\":\"#648FD5\"},{\"name\":\"3\\u5206\\u4f4d\\u6570\",\"yAxis\":0,\"data\":[[1575244800000,null],[1575331200000,1.0018],[1575417600000,1.0698],[1575504000000,1.3281],[1575590400000,1.3742],[1575849600000,1.3848],[1575936000000,1.239],[1576022400000,1.3052],[1576108800000,1.3394],[1576195200000,1.5362],[1576454400000,1.8162],[1576540800000,2.2427],[1576627200000,2.188],[1576713600000,2.0925],[1576800000000,2.1146],[1577059200000,1.8435],[1577145600000,1.1836],[1577232000000,1.3978],[1577318400000,1.4996],[1577404800000,1.8599],[1577664000000,1.7706],[1577750400000,1.4676]],\"color\":\"#E06681\"},{\"name\":\"4\\u5206\\u4f4d\\u6570\",\"yAxis\":0,\"data\":[[1575244800000,null],[1575331200000,1.1741],[1575417600000,1.2185],[1575504000000,1.5331],[1575590400000,1.4519],[1575849600000,1.6333],[1575936000000,1.6539],[1576022400000,1.7522],[1576108800000,1.7496],[1576195200000,2.041],[1576454400000,2.261],[1576540800000,2.8081],[1576627200000,2.5746],[1576713600000,2.4674],[1576800000000,2.4346],[1577059200000,2.286],[1577145600000,1.2839],[1577232000000,1.5103],[1577318400000,1.5722],[1577404800000,1.8979],[1577664000000,1.8057],[1577750400000,1.7441]],\"color\":\"#E2D269\"},{\"name\":\"5\\u5206\\u4f4d\\u6570\",\"yAxis\":0,\"data\":[[1575244800000,null],[1575331200000,2.3745],[1575417600000,2.3052],[1575504000000,2.6933],[1575590400000,2.741],[1575849600000,2.7942],[1575936000000,3.5745],[1576022400000,3.193],[1576108800000,2.9744],[1576195200000,3.0165],[1576454400000,3.216],[1576540800000,4.4252],[1576627200000,4.2496],[1576713600000,3.7539],[1576800000000,3.7508],[1577059200000,3.4046],[1577145600000,3.0369],[1577232000000,3.0904],[1577318400000,2.969],[1577404800000,3.4594],[1577664000000,2.9441],[1577750400000,2.4867]],\"color\":\"#4A8E8E\"},{\"name\":\"\\u6700\\u5c0f\\/\\u6700\\u5927\\u5206\\u4f4d\",\"yAxis\":0,\"data\":[[1575244800000,null],[1575331200000,0.8022],[1575417600000,0.8294],[1575504000000,0.8239],[1575590400000,0.8014],[1575849600000,0.8796],[1575936000000,0.643],[1576022400000,0.7865],[1576108800000,0.7955],[1576195200000,0.8119],[1576454400000,0.9051],[1576540800000,0.6443],[1576627200000,0.6273],[1576713600000,0.6587],[1576800000000,0.6538],[1577059200000,0.6594],[1577145600000,0.8969],[1577232000000,1.0175],[1577318400000,1.0649],[1577404800000,1.0988],[1577664000000,1.1182],[1577750400000,1.196]]}],\"xAxis\":{\"title\":{\"text\":\"date\"},\"type\":\"datetime\"},\"plotOptions\":{\"series\":{\"compare\":\"percent\"}}}/bigcharts-data-end</pre></div><div class=\"cols\">\n",
       "            \n",
       "                \n",
       "                <div class=\"col\"><div class=\"type_title_left\"><p>因子值最小的20只股票 <span>(2019-12-31)</span></p></div>\n",
       "        <div class=\"factorlens-stocks-wrapper\">\n",
       "            <table class=\"factor_table stocks\">\n",
       "                <thead>\n",
       "                    <tr>\n",
       "                        <th>股票名称</th>\n",
       "                        <th>股票代码</th>\n",
       "                        <th>因子值</th>\n",
       "                    </tr>\n",
       "                </thead>\n",
       "                <tbody>\n",
       "            <tr>\n",
       "                <td>美联新材</td>\n",
       "                <td>300586.SZA</td>\n",
       "                <td>-0.0921</td>\n",
       "            </tr>\n",
       "            \n",
       "            <tr>\n",
       "                <td>万邦德</td>\n",
       "                <td>002082.SZA</td>\n",
       "                <td>-0.0902</td>\n",
       "            </tr>\n",
       "            \n",
       "            <tr>\n",
       "                <td>浪莎股份</td>\n",
       "                <td>600137.SHA</td>\n",
       "                <td>-0.0830</td>\n",
       "            </tr>\n",
       "            \n",
       "            <tr>\n",
       "                <td>容大感光</td>\n",
       "                <td>300576.SZA</td>\n",
       "                <td>-0.0668</td>\n",
       "            </tr>\n",
       "            \n",
       "            <tr>\n",
       "                <td>粤泰股份</td>\n",
       "                <td>600393.SHA</td>\n",
       "                <td>-0.0656</td>\n",
       "            </tr>\n",
       "            \n",
       "            <tr>\n",
       "                <td>三房巷</td>\n",
       "                <td>600370.SHA</td>\n",
       "                <td>-0.0654</td>\n",
       "            </tr>\n",
       "            \n",
       "            <tr>\n",
       "                <td>阳普医疗</td>\n",
       "                <td>300030.SZA</td>\n",
       "                <td>-0.0630</td>\n",
       "            </tr>\n",
       "            \n",
       "            <tr>\n",
       "                <td>美邦服饰</td>\n",
       "                <td>002269.SZA</td>\n",
       "                <td>-0.0575</td>\n",
       "            </tr>\n",
       "            \n",
       "            <tr>\n",
       "                <td>德威新材</td>\n",
       "                <td>300325.SZA</td>\n",
       "                <td>-0.0565</td>\n",
       "            </tr>\n",
       "            \n",
       "            <tr>\n",
       "                <td>金鸿顺</td>\n",
       "                <td>603922.SHA</td>\n",
       "                <td>-0.0549</td>\n",
       "            </tr>\n",
       "            \n",
       "            <tr>\n",
       "                <td>万润科技</td>\n",
       "                <td>002654.SZA</td>\n",
       "                <td>-0.0540</td>\n",
       "            </tr>\n",
       "            \n",
       "            <tr>\n",
       "                <td>中昌数据</td>\n",
       "                <td>600242.SHA</td>\n",
       "                <td>-0.0536</td>\n",
       "            </tr>\n",
       "            \n",
       "            <tr>\n",
       "                <td>亚玛顿</td>\n",
       "                <td>002623.SZA</td>\n",
       "                <td>-0.0534</td>\n",
       "            </tr>\n",
       "            \n",
       "            <tr>\n",
       "                <td>正裕工业</td>\n",
       "                <td>603089.SHA</td>\n",
       "                <td>-0.0522</td>\n",
       "            </tr>\n",
       "            \n",
       "            <tr>\n",
       "                <td>大丰实业</td>\n",
       "                <td>603081.SHA</td>\n",
       "                <td>-0.0522</td>\n",
       "            </tr>\n",
       "            \n",
       "            <tr>\n",
       "                <td>恒通科技</td>\n",
       "                <td>300374.SZA</td>\n",
       "                <td>-0.0512</td>\n",
       "            </tr>\n",
       "            \n",
       "            <tr>\n",
       "                <td>乐凯新材</td>\n",
       "                <td>300446.SZA</td>\n",
       "                <td>-0.0503</td>\n",
       "            </tr>\n",
       "            \n",
       "            <tr>\n",
       "                <td>华测导航</td>\n",
       "                <td>300627.SZA</td>\n",
       "                <td>-0.0489</td>\n",
       "            </tr>\n",
       "            \n",
       "            <tr>\n",
       "                <td>金利华电</td>\n",
       "                <td>300069.SZA</td>\n",
       "                <td>-0.0487</td>\n",
       "            </tr>\n",
       "            \n",
       "            <tr>\n",
       "                <td>万里石</td>\n",
       "                <td>002785.SZA</td>\n",
       "                <td>-0.0484</td>\n",
       "            </tr>\n",
       "            \n",
       "                </tbody>\n",
       "            </table>\n",
       "        </div>\n",
       "        </div>\n",
       "                \n",
       "            \n",
       "                \n",
       "                <div class=\"col\"><div class=\"type_title_left\"><p>因子值最大的20只股票 <span>(2019-12-31)</span></p></div>\n",
       "        <div class=\"factorlens-stocks-wrapper\">\n",
       "            <table class=\"factor_table stocks\">\n",
       "                <thead>\n",
       "                    <tr>\n",
       "                        <th>股票名称</th>\n",
       "                        <th>股票代码</th>\n",
       "                        <th>因子值</th>\n",
       "                    </tr>\n",
       "                </thead>\n",
       "                <tbody>\n",
       "            <tr>\n",
       "                <td>久远银海</td>\n",
       "                <td>002777.SZA</td>\n",
       "                <td>0.0609</td>\n",
       "            </tr>\n",
       "            \n",
       "            <tr>\n",
       "                <td>上海瀚讯</td>\n",
       "                <td>300762.SZA</td>\n",
       "                <td>0.0611</td>\n",
       "            </tr>\n",
       "            \n",
       "            <tr>\n",
       "                <td>大金重工</td>\n",
       "                <td>002487.SZA</td>\n",
       "                <td>0.0619</td>\n",
       "            </tr>\n",
       "            \n",
       "            <tr>\n",
       "                <td>华扬联众</td>\n",
       "                <td>603825.SHA</td>\n",
       "                <td>0.0620</td>\n",
       "            </tr>\n",
       "            \n",
       "            <tr>\n",
       "                <td>富邦股份</td>\n",
       "                <td>300387.SZA</td>\n",
       "                <td>0.0631</td>\n",
       "            </tr>\n",
       "            \n",
       "            <tr>\n",
       "                <td>尚纬股份</td>\n",
       "                <td>603333.SHA</td>\n",
       "                <td>0.0638</td>\n",
       "            </tr>\n",
       "            \n",
       "            <tr>\n",
       "                <td>鼎龙股份</td>\n",
       "                <td>300054.SZA</td>\n",
       "                <td>0.0638</td>\n",
       "            </tr>\n",
       "            \n",
       "            <tr>\n",
       "                <td>同兴达</td>\n",
       "                <td>002845.SZA</td>\n",
       "                <td>0.0638</td>\n",
       "            </tr>\n",
       "            \n",
       "            <tr>\n",
       "                <td>中潜股份</td>\n",
       "                <td>300526.SZA</td>\n",
       "                <td>0.0641</td>\n",
       "            </tr>\n",
       "            \n",
       "            <tr>\n",
       "                <td>拉卡拉</td>\n",
       "                <td>300773.SZA</td>\n",
       "                <td>0.0652</td>\n",
       "            </tr>\n",
       "            \n",
       "            <tr>\n",
       "                <td>南风股份</td>\n",
       "                <td>300004.SZA</td>\n",
       "                <td>0.0657</td>\n",
       "            </tr>\n",
       "            \n",
       "            <tr>\n",
       "                <td>倍加洁</td>\n",
       "                <td>603059.SHA</td>\n",
       "                <td>0.0705</td>\n",
       "            </tr>\n",
       "            \n",
       "            <tr>\n",
       "                <td>新宁物流</td>\n",
       "                <td>300013.SZA</td>\n",
       "                <td>0.0711</td>\n",
       "            </tr>\n",
       "            \n",
       "            <tr>\n",
       "                <td>融捷股份</td>\n",
       "                <td>002192.SZA</td>\n",
       "                <td>0.0724</td>\n",
       "            </tr>\n",
       "            \n",
       "            <tr>\n",
       "                <td>高伟达</td>\n",
       "                <td>300465.SZA</td>\n",
       "                <td>0.0746</td>\n",
       "            </tr>\n",
       "            \n",
       "            <tr>\n",
       "                <td>汉鼎宇佑</td>\n",
       "                <td>300300.SZA</td>\n",
       "                <td>0.0766</td>\n",
       "            </tr>\n",
       "            \n",
       "            <tr>\n",
       "                <td>雅化集团</td>\n",
       "                <td>002497.SZA</td>\n",
       "                <td>0.0768</td>\n",
       "            </tr>\n",
       "            \n",
       "            <tr>\n",
       "                <td>凯众股份</td>\n",
       "                <td>603037.SHA</td>\n",
       "                <td>0.0804</td>\n",
       "            </tr>\n",
       "            \n",
       "            <tr>\n",
       "                <td>引力传媒</td>\n",
       "                <td>603598.SHA</td>\n",
       "                <td>0.0822</td>\n",
       "            </tr>\n",
       "            \n",
       "            <tr>\n",
       "                <td>山煤国际</td>\n",
       "                <td>600546.SHA</td>\n",
       "                <td>0.0831</td>\n",
       "            </tr>\n",
       "            \n",
       "                </tbody>\n",
       "            </table>\n",
       "        </div>\n",
       "        </div>\n",
       "                \n",
       "            \n",
       "            </div>\n",
       "        </div>"
      ],
      "text/plain": [
       "<IPython.core.display.HTML object>"
      ]
     },
     "metadata": {},
     "output_type": "display_data"
    },
    {
     "data": {
      "text/plain": [
       "[2020-07-30 10:43:08.610942] INFO: moduleinvoker: factorlens.v1 运行完成[3.75244s]."
      ]
     },
     "metadata": {
      "is_log": true,
      "status": "INFO"
     },
     "output_type": "display_data"
    }
   ],
   "source": [
    "# 本代码由可视化策略环境自动生成 2021年8月21日09:31\n",
    "# 本代码单元只能在可视化模式下编辑。您也可以拷贝代码，粘贴到新建的代码单元或者策略，然后修改。\n",
    "\n",
    "\n",
    "m20 = M.input_features.v1(\n",
    "    features=\"\"\"\n",
    "# #号开始的表示注释，注释需单独一行\n",
    "# 多个特征，每行一个，可以包含基础特征和衍生特征，特征须为本平台特征\n",
    "gap_ind_0\n",
    "#gap_ind_1\n",
    "#gap_ind_2\n",
    "# gap_ix300_0\n",
    "# gap_ix300_1\n",
    "# gap_ix300_2\n",
    "# gap_ix001_0\n",
    "# gap_ix001_1\n",
    "# gap_ix001_2\n",
    "\"\"\"\n",
    ")\n",
    "\n",
    "m1 = M.input_csv.v5(\n",
    "    file='data.csv',\n",
    "    coding='utf8',\n",
    "    dtypes={},\n",
    "    date_type='%Y-%m-%d',\n",
    "    date_cols=['date']\n",
    ")\n",
    "\n",
    "m19 = M.factorlens.v1(\n",
    "    features=m20.data,\n",
    "    user_factor_data=m1.data,\n",
    "    title='因子分析: {factor_name}',\n",
    "    start_date='2019-12-01',\n",
    "    end_date='2019-12-31',\n",
    "    rebalance_period=5,\n",
    "    stock_pool='全市场',\n",
    "    quantile_count=5,\n",
    "    commission_rate=0.0016,\n",
    "    drop_price_limit_stocks=True,\n",
    "    drop_st_stocks=True,\n",
    "    drop_new_stocks=True,\n",
    "    normalization=True,\n",
    "    neutralization=['行业', '市值'],\n",
    "    metrics=['因子表现概览', '因子分布', '因子行业分布', '因子市值分布', 'IC分析', '买入信号重合分析', '因子估值分析', '因子拥挤度分析', '因子值最大/最小股票', '多因子相关性分析']\n",
    ")\n"
   ]
  }
 ],
 "metadata": {
  "is_mlstudio": "true",
  "kernelspec": {
   "display_name": "Python 3",
   "language": "python",
   "name": "python3"
  },
  "language_info": {
   "codemirror_mode": {
    "name": "ipython",
    "version": 3
   },
   "file_extension": ".py",
   "mimetype": "text/x-python",
   "name": "python",
   "nbconvert_exporter": "python",
   "pygments_lexer": "ipython3",
   "version": "3.8.7"
  }
 },
 "nbformat": 4,
 "nbformat_minor": 4
}
