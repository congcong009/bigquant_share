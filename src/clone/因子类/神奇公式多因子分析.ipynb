{
 "cells": [
  {
   "cell_type": "code",
   "execution_count": 9,
   "metadata": {
    "machine_learning_studio": "true",
    "ml_studio_json": "{\"description\":\"实验创建于2020/2/14\",\"graph\":{\"edges\":[{\"to_node_id\":\"-2823:features\",\"from_node_id\":\"-70:data\"}],\"nodes\":[{\"node_id\":\"-70\",\"module_id\":\"BigQuantSpace.input_features.input_features-v1\",\"parameters\":[{\"name\":\"features\",\"value\":\"# https://bigquant.com/wiki/doc/greenblatt-u3qwu8qAGN\\n\\n# roc = 毛利 / 资产总计\\n#         毛利 = 营业总收入-营业总成本\\n#         资产总计 = 流动资产 + 长期投资(缺) + 固定资产 + 无形及递延资产(缺) + 其他资产\\nroc = (fs_gross_revenues_0 - fs_total_operating_costs_0) / (fs_current_assets_0 + fs_fixed_assets_0 + fs_non_current_assets_0)\\n\\n# earning_yield = BP / 企业总价值\\n#        BP = 1/PB\\n#        企业总价值 = 总市值 + 总负载 - 总现金\\nearning_yield = (1/pb_lf_0) / (market_cap_0 + fs_total_liability_0 - fs_free_cash_flow_0)\",\"type\":\"Literal\",\"bound_global_parameter\":null}],\"input_ports\":[{\"name\":\"features_ds\",\"node_id\":\"-70\"}],\"output_ports\":[{\"name\":\"data\",\"node_id\":\"-70\"}],\"cacheable\":true,\"seq_num\":1,\"comment\":\"\",\"comment_collapsed\":true},{\"node_id\":\"-2823\",\"module_id\":\"BigQuantSpace.factorlens.factorlens-v2\",\"parameters\":[{\"name\":\"title\",\"value\":\"因子分析: {factor_name}\",\"type\":\"Literal\",\"bound_global_parameter\":null},{\"name\":\"start_date\",\"value\":\"2018-01-01\",\"type\":\"Literal\",\"bound_global_parameter\":null},{\"name\":\"end_date\",\"value\":\"2022-03-01\",\"type\":\"Literal\",\"bound_global_parameter\":null},{\"name\":\"rebalance_period\",\"value\":\"5\",\"type\":\"Literal\",\"bound_global_parameter\":null},{\"name\":\"delay_rebalance_days\",\"value\":0,\"type\":\"Literal\",\"bound_global_parameter\":null},{\"name\":\"rebalance_price\",\"value\":\"close_0\",\"type\":\"Literal\",\"bound_global_parameter\":null},{\"name\":\"stock_pool\",\"value\":\"全市场\",\"type\":\"Literal\",\"bound_global_parameter\":null},{\"name\":\"quantile_count\",\"value\":5,\"type\":\"Literal\",\"bound_global_parameter\":null},{\"name\":\"commission_rate\",\"value\":0.0016,\"type\":\"Literal\",\"bound_global_parameter\":null},{\"name\":\"returns_calculation_method\",\"value\":\"累乘\",\"type\":\"Literal\",\"bound_global_parameter\":null},{\"name\":\"benchmark\",\"value\":\"沪深300\",\"type\":\"Literal\",\"bound_global_parameter\":null},{\"name\":\"drop_new_stocks\",\"value\":60,\"type\":\"Literal\",\"bound_global_parameter\":null},{\"name\":\"drop_price_limit_stocks\",\"value\":\"True\",\"type\":\"Literal\",\"bound_global_parameter\":null},{\"name\":\"drop_st_stocks\",\"value\":\"True\",\"type\":\"Literal\",\"bound_global_parameter\":null},{\"name\":\"drop_suspended_stocks\",\"value\":\"True\",\"type\":\"Literal\",\"bound_global_parameter\":null},{\"name\":\"cutoutliers\",\"value\":\"True\",\"type\":\"Literal\",\"bound_global_parameter\":null},{\"name\":\"normalization\",\"value\":\"True\",\"type\":\"Literal\",\"bound_global_parameter\":null},{\"name\":\"neutralization\",\"value\":\"%7B%22enumItems%22%3A%5B%7B%22value%22%3A%22%E8%A1%8C%E4%B8%9A%22%2C%22displayValue%22%3A%22%E8%A1%8C%E4%B8%9A%22%2C%22selected%22%3Atrue%7D%2C%7B%22value%22%3A%22%E5%B8%82%E5%80%BC%22%2C%22displayValue%22%3A%22%E5%B8%82%E5%80%BC%22%2C%22selected%22%3Atrue%7D%5D%7D\",\"type\":\"Literal\",\"bound_global_parameter\":null},{\"name\":\"metrics\",\"value\":\"%7B%22enumItems%22%3A%5B%7B%22value%22%3A%22%E5%9B%A0%E5%AD%90%E8%A1%A8%E7%8E%B0%E6%A6%82%E8%A7%88%22%2C%22displayValue%22%3A%22%E5%9B%A0%E5%AD%90%E8%A1%A8%E7%8E%B0%E6%A6%82%E8%A7%88%22%2C%22selected%22%3Atrue%7D%2C%7B%22value%22%3A%22%E5%9B%A0%E5%AD%90%E5%88%86%E5%B8%83%22%2C%22displayValue%22%3A%22%E5%9B%A0%E5%AD%90%E5%88%86%E5%B8%83%22%2C%22selected%22%3Atrue%7D%2C%7B%22value%22%3A%22%E5%9B%A0%E5%AD%90%E8%A1%8C%E4%B8%9A%E5%88%86%E5%B8%83%22%2C%22displayValue%22%3A%22%E5%9B%A0%E5%AD%90%E8%A1%8C%E4%B8%9A%E5%88%86%E5%B8%83%22%2C%22selected%22%3Atrue%7D%2C%7B%22value%22%3A%22%E5%9B%A0%E5%AD%90%E5%B8%82%E5%80%BC%E5%88%86%E5%B8%83%22%2C%22displayValue%22%3A%22%E5%9B%A0%E5%AD%90%E5%B8%82%E5%80%BC%E5%88%86%E5%B8%83%22%2C%22selected%22%3Atrue%7D%2C%7B%22value%22%3A%22IC%E5%88%86%E6%9E%90%22%2C%22displayValue%22%3A%22IC%E5%88%86%E6%9E%90%22%2C%22selected%22%3Atrue%7D%2C%7B%22value%22%3A%22%E4%B9%B0%E5%85%A5%E4%BF%A1%E5%8F%B7%E9%87%8D%E5%90%88%E5%88%86%E6%9E%90%22%2C%22displayValue%22%3A%22%E4%B9%B0%E5%85%A5%E4%BF%A1%E5%8F%B7%E9%87%8D%E5%90%88%E5%88%86%E6%9E%90%22%2C%22selected%22%3Atrue%7D%2C%7B%22value%22%3A%22%E5%9B%A0%E5%AD%90%E4%BC%B0%E5%80%BC%E5%88%86%E6%9E%90%22%2C%22displayValue%22%3A%22%E5%9B%A0%E5%AD%90%E4%BC%B0%E5%80%BC%E5%88%86%E6%9E%90%22%2C%22selected%22%3Atrue%7D%2C%7B%22value%22%3A%22%E5%9B%A0%E5%AD%90%E6%8B%A5%E6%8C%A4%E5%BA%A6%E5%88%86%E6%9E%90%22%2C%22displayValue%22%3A%22%E5%9B%A0%E5%AD%90%E6%8B%A5%E6%8C%A4%E5%BA%A6%E5%88%86%E6%9E%90%22%2C%22selected%22%3Atrue%7D%2C%7B%22value%22%3A%22%E5%9B%A0%E5%AD%90%E5%80%BC%E6%9C%80%E5%A4%A7%2F%E6%9C%80%E5%B0%8F%E8%82%A1%E7%A5%A8%22%2C%22displayValue%22%3A%22%E5%9B%A0%E5%AD%90%E5%80%BC%E6%9C%80%E5%A4%A7%2F%E6%9C%80%E5%B0%8F%E8%82%A1%E7%A5%A8%22%2C%22selected%22%3Atrue%7D%2C%7B%22value%22%3A%22%E8%A1%A8%E8%BE%BE%E5%BC%8F%E5%9B%A0%E5%AD%90%E5%80%BC%22%2C%22displayValue%22%3A%22%E8%A1%A8%E8%BE%BE%E5%BC%8F%E5%9B%A0%E5%AD%90%E5%80%BC%22%2C%22selected%22%3Atrue%7D%2C%7B%22value%22%3A%22%E5%A4%9A%E5%9B%A0%E5%AD%90%E7%9B%B8%E5%85%B3%E6%80%A7%E5%88%86%E6%9E%90%22%2C%22displayValue%22%3A%22%E5%A4%9A%E5%9B%A0%E5%AD%90%E7%9B%B8%E5%85%B3%E6%80%A7%E5%88%86%E6%9E%90%22%2C%22selected%22%3Atrue%7D%5D%7D\",\"type\":\"Literal\",\"bound_global_parameter\":null},{\"name\":\"factor_coverage\",\"value\":\"0.1\",\"type\":\"Literal\",\"bound_global_parameter\":null},{\"name\":\"user_data_merge\",\"value\":\"left\",\"type\":\"Literal\",\"bound_global_parameter\":null}],\"input_ports\":[{\"name\":\"features\",\"node_id\":\"-2823\"},{\"name\":\"user_factor_data\",\"node_id\":\"-2823\"}],\"output_ports\":[{\"name\":\"data\",\"node_id\":\"-2823\"},{\"name\":\"save_data\",\"node_id\":\"-2823\"}],\"cacheable\":true,\"seq_num\":4,\"comment\":\"\",\"comment_collapsed\":true}],\"node_layout\":\"<node_postions><node_position Node='-70' Position='302,163,200,200'/><node_position Node='-2823' Position='315.32061767578125,401.40399169921875,200,200'/></node_postions>\"},\"nodes_readonly\":false,\"studio_version\":\"v2\"}"
   },
   "outputs": [
    {
     "data": {
      "text/plain": [
       "[2022-04-21 13:33:13.108063] INFO: moduleinvoker: input_features.v1 开始运行.."
      ]
     },
     "metadata": {
      "is_log": true,
      "status": "INFO"
     },
     "output_type": "display_data"
    },
    {
     "data": {
      "text/plain": [
       "[2022-04-21 13:33:13.116995] INFO: moduleinvoker: 命中缓存"
      ]
     },
     "metadata": {
      "is_log": true,
      "status": "INFO"
     },
     "output_type": "display_data"
    },
    {
     "data": {
      "text/plain": [
       "[2022-04-21 13:33:13.119601] INFO: moduleinvoker: input_features.v1 运行完成[0.011543s]."
      ]
     },
     "metadata": {
      "is_log": true,
      "status": "INFO"
     },
     "output_type": "display_data"
    },
    {
     "data": {
      "text/plain": [
       "[2022-04-21 13:33:13.128992] INFO: moduleinvoker: factorlens.v2 开始运行.."
      ]
     },
     "metadata": {
      "is_log": true,
      "status": "INFO"
     },
     "output_type": "display_data"
    },
    {
     "data": {
      "text/plain": [
       "[2022-04-21 13:33:13.170008] INFO: 因子分析: batch_process start"
      ]
     },
     "metadata": {
      "is_log": true,
      "status": "INFO"
     },
     "output_type": "display_data"
    },
    {
     "data": {
      "text/plain": [
       "[2022-04-21 13:33:13.171543] INFO: 因子分析: load_instruments 2018-01-01, 2022-03-01"
      ]
     },
     "metadata": {
      "is_log": true,
      "status": "INFO"
     },
     "output_type": "display_data"
    },
    {
     "data": {
      "text/plain": [
       "[2022-04-21 13:33:15.459820] INFO: 因子分析: load_instruments, 4794 rows."
      ]
     },
     "metadata": {
      "is_log": true,
      "status": "INFO"
     },
     "output_type": "display_data"
    },
    {
     "data": {
      "text/plain": [
       "[2022-04-21 13:33:15.461484] INFO: 因子分析: load_benchmark_data 2018-01-01, 2022-03-01"
      ]
     },
     "metadata": {
      "is_log": true,
      "status": "INFO"
     },
     "output_type": "display_data"
    },
    {
     "data": {
      "text/plain": [
       "[2022-04-21 13:33:15.538473] INFO: 因子分析: load_benchmark_data, 3027 rows."
      ]
     },
     "metadata": {
      "is_log": true,
      "status": "INFO"
     },
     "output_type": "display_data"
    },
    {
     "data": {
      "text/plain": [
       "[2022-04-21 13:33:15.541142] INFO: 因子分析: StockPool.before_load_general_feature_data"
      ]
     },
     "metadata": {
      "is_log": true,
      "status": "INFO"
     },
     "output_type": "display_data"
    },
    {
     "data": {
      "text/plain": [
       "[2022-04-21 13:33:15.542844] INFO: 因子分析: UserDataMerge.before_load_general_feature_data"
      ]
     },
     "metadata": {
      "is_log": true,
      "status": "INFO"
     },
     "output_type": "display_data"
    },
    {
     "data": {
      "text/plain": [
       "[2022-04-21 13:33:15.544141] INFO: 因子分析: DropSTStocks.before_load_general_feature_data"
      ]
     },
     "metadata": {
      "is_log": true,
      "status": "INFO"
     },
     "output_type": "display_data"
    },
    {
     "data": {
      "text/plain": [
       "[2022-04-21 13:33:15.545453] INFO: 因子分析: DropNewStocks.before_load_general_feature_data"
      ]
     },
     "metadata": {
      "is_log": true,
      "status": "INFO"
     },
     "output_type": "display_data"
    },
    {
     "data": {
      "text/plain": [
       "[2022-04-21 13:33:15.547025] INFO: 因子分析: Neutralization.before_load_general_feature_data"
      ]
     },
     "metadata": {
      "is_log": true,
      "status": "INFO"
     },
     "output_type": "display_data"
    },
    {
     "data": {
      "text/plain": [
       "[2022-04-21 13:33:15.548827] INFO: 因子分析: DelayRebalanceDays.before_load_general_feature_data"
      ]
     },
     "metadata": {
      "is_log": true,
      "status": "INFO"
     },
     "output_type": "display_data"
    },
    {
     "data": {
      "text/plain": [
       "[2022-04-21 13:33:15.550177] INFO: 因子分析: RebalancePeriod.before_load_general_feature_data"
      ]
     },
     "metadata": {
      "is_log": true,
      "status": "INFO"
     },
     "output_type": "display_data"
    },
    {
     "data": {
      "text/plain": [
       "[2022-04-21 13:33:15.551421] INFO: 因子分析: RebalancePrice.before_load_general_feature_data"
      ]
     },
     "metadata": {
      "is_log": true,
      "status": "INFO"
     },
     "output_type": "display_data"
    },
    {
     "data": {
      "text/plain": [
       "[2022-04-21 13:33:15.552672] INFO: 因子分析: FactorCoverage.before_load_general_feature_data"
      ]
     },
     "metadata": {
      "is_log": true,
      "status": "INFO"
     },
     "output_type": "display_data"
    },
    {
     "data": {
      "text/plain": [
       "[2022-04-21 13:33:15.554350] INFO: 因子分析: Industry.before_load_general_feature_data"
      ]
     },
     "metadata": {
      "is_log": true,
      "status": "INFO"
     },
     "output_type": "display_data"
    },
    {
     "data": {
      "text/plain": [
       "[2022-04-21 13:33:15.556213] INFO: 因子分析: PBRatio.before_load_general_feature_data"
      ]
     },
     "metadata": {
      "is_log": true,
      "status": "INFO"
     },
     "output_type": "display_data"
    },
    {
     "data": {
      "text/plain": [
       "[2022-04-21 13:33:15.557403] INFO: 因子分析: Turnover.before_load_general_feature_data"
      ]
     },
     "metadata": {
      "is_log": true,
      "status": "INFO"
     },
     "output_type": "display_data"
    },
    {
     "data": {
      "text/plain": [
       "[2022-04-21 13:33:15.558644] INFO: 因子分析: MarketCap.before_load_general_feature_data"
      ]
     },
     "metadata": {
      "is_log": true,
      "status": "INFO"
     },
     "output_type": "display_data"
    },
    {
     "data": {
      "text/plain": [
       "[2022-04-21 13:33:15.560442] INFO: 因子分析: load_general_feature_data, load data"
      ]
     },
     "metadata": {
      "is_log": true,
      "status": "INFO"
     },
     "output_type": "display_data"
    },
    {
     "data": {
      "text/plain": [
       "[2022-04-21 13:34:21.313194] INFO: 因子分析: RebalancePeriod.after_load_general_feature_data"
      ]
     },
     "metadata": {
      "is_log": true,
      "status": "INFO"
     },
     "output_type": "display_data"
    },
    {
     "data": {
      "text/plain": [
       "[2022-04-21 13:34:21.488684] INFO: 因子分析: RebalancePeriodsReturns.after_load_general_feature_data"
      ]
     },
     "metadata": {
      "is_log": true,
      "status": "INFO"
     },
     "output_type": "display_data"
    },
    {
     "data": {
      "text/plain": [
       "[2022-04-21 13:34:48.740199] INFO: 因子分析: RebalancePrice.after_load_general_feature_data"
      ]
     },
     "metadata": {
      "is_log": true,
      "status": "INFO"
     },
     "output_type": "display_data"
    },
    {
     "data": {
      "text/plain": [
       "[2022-04-21 13:34:48.741834] INFO: 因子分析: load_general_feature_data, 4621556 rows."
      ]
     },
     "metadata": {
      "is_log": true,
      "status": "INFO"
     },
     "output_type": "display_data"
    },
    {
     "data": {
      "text/plain": [
       "[2022-04-21 13:34:48.743700] INFO: 因子分析: load_derived_feature_data, 4621556 rows, 30 columns."
      ]
     },
     "metadata": {
      "is_log": true,
      "status": "INFO"
     },
     "output_type": "display_data"
    },
    {
     "data": {
      "text/plain": [
       "[2022-04-21 13:34:48.745060] INFO: 因子分析: process, roc"
      ]
     },
     "metadata": {
      "is_log": true,
      "status": "INFO"
     },
     "output_type": "display_data"
    },
    {
     "data": {
      "text/plain": [
       "[2022-04-21 13:34:48.746167] INFO: 因子分析: calculate_factor, (fs_gross_revenues_0 - fs_total_operating_costs_0) / (fs_current_assets_0 + fs_fixed_assets_0 + fs_non_current_assets_0)"
      ]
     },
     "metadata": {
      "is_log": true,
      "status": "INFO"
     },
     "output_type": "display_data"
    },
    {
     "data": {
      "text/plain": [
       "[2022-04-21 13:34:50.234167] INFO: 因子分析: calculate_factor, done"
      ]
     },
     "metadata": {
      "is_log": true,
      "status": "INFO"
     },
     "output_type": "display_data"
    },
    {
     "data": {
      "text/plain": [
       "[2022-04-21 13:34:50.798486] ERROR: 因子分析: 原始因子值覆盖率为 0.00027739251040221914，小于 10.0%"
      ]
     },
     "metadata": {
      "is_log": true,
      "status": "ERROR"
     },
     "output_type": "display_data"
    },
    {
     "data": {
      "text/plain": [
       "[2022-04-21 13:34:50.800370] ERROR: moduleinvoker: module name: factorlens, module version: v2, trackeback: Exception: 原始因子值覆盖率小于 10.0%，无法进行后续指标计算\\n"
      ]
     },
     "metadata": {
      "is_log": true,
      "status": "ERROR"
     },
     "output_type": "display_data"
    },
    {
     "ename": "Exception",
     "evalue": "原始因子值覆盖率小于 10.0%，无法进行后续指标计算",
     "output_type": "error",
     "traceback": [
      "\u001b[0;31m---------------------------------------------------------------------------\u001b[0m",
      "\u001b[0;31mException\u001b[0m                                 Traceback (most recent call last)",
      "\u001b[0;32m<ipython-input-9-63bc378766ff>\u001b[0m in \u001b[0;36m<module>\u001b[0;34m\u001b[0m\n\u001b[1;32m     17\u001b[0m )\n\u001b[1;32m     18\u001b[0m \u001b[0;34m\u001b[0m\u001b[0m\n\u001b[0;32m---> 19\u001b[0;31m m4 = M.factorlens.v2(\n\u001b[0m\u001b[1;32m     20\u001b[0m     \u001b[0mfeatures\u001b[0m\u001b[0;34m=\u001b[0m\u001b[0mm1\u001b[0m\u001b[0;34m.\u001b[0m\u001b[0mdata\u001b[0m\u001b[0;34m,\u001b[0m\u001b[0;34m\u001b[0m\u001b[0;34m\u001b[0m\u001b[0m\n\u001b[1;32m     21\u001b[0m     \u001b[0mtitle\u001b[0m\u001b[0;34m=\u001b[0m\u001b[0;34m'因子分析: {factor_name}'\u001b[0m\u001b[0;34m,\u001b[0m\u001b[0;34m\u001b[0m\u001b[0;34m\u001b[0m\u001b[0m\n",
      "\u001b[0;31mException\u001b[0m: 原始因子值覆盖率小于 10.0%，无法进行后续指标计算"
     ]
    }
   ],
   "source": [
    "# 本代码由可视化策略环境自动生成 2022年4月21日 13:35\n",
    "# 本代码单元只能在可视化模式下编辑。您也可以拷贝代码，粘贴到新建的代码单元或者策略，然后修改。\n",
    "\n",
    "\n",
    "m1 = M.input_features.v1(\n",
    "    features=\"\"\"# https://bigquant.com/wiki/doc/greenblatt-u3qwu8qAGN\n",
    "\n",
    "# roc = 毛利 / 资产总计\n",
    "#         毛利 = 营业总收入-营业总成本\n",
    "#         资产总计 = 流动资产 + 长期投资(缺) + 固定资产 + 无形及递延资产(缺) + 其他资产\n",
    "roc = (fs_gross_revenues_0 - fs_total_operating_costs_0) / (fs_current_assets_0 + fs_fixed_assets_0 + fs_non_current_assets_0)\n",
    "\n",
    "# earning_yield = BP / 企业总价值\n",
    "#        BP = 1/PB\n",
    "#        企业总价值 = 总市值 + 总负载 - 总现金\n",
    "earning_yield = (1/pb_lf_0) / (market_cap_0 + fs_total_liability_0 - fs_free_cash_flow_0)\"\"\"\n",
    ")\n",
    "\n",
    "m4 = M.factorlens.v2(\n",
    "    features=m1.data,\n",
    "    title='因子分析: {factor_name}',\n",
    "    start_date='2018-01-01',\n",
    "    end_date='2022-03-01',\n",
    "    rebalance_period=5,\n",
    "    delay_rebalance_days=0,\n",
    "    rebalance_price='close_0',\n",
    "    stock_pool='全市场',\n",
    "    quantile_count=5,\n",
    "    commission_rate=0.0016,\n",
    "    returns_calculation_method='累乘',\n",
    "    benchmark='沪深300',\n",
    "    drop_new_stocks=60,\n",
    "    drop_price_limit_stocks=True,\n",
    "    drop_st_stocks=True,\n",
    "    drop_suspended_stocks=True,\n",
    "    cutoutliers=True,\n",
    "    normalization=True,\n",
    "    neutralization=['行业', '市值'],\n",
    "    metrics=['因子表现概览', '因子分布', '因子行业分布', '因子市值分布', 'IC分析', '买入信号重合分析', '因子估值分析', '因子拥挤度分析', '因子值最大/最小股票', '表达式因子值', '多因子相关性分析'],\n",
    "    factor_coverage=0.1,\n",
    "    user_data_merge='left'\n",
    ")\n"
   ]
  }
 ],
 "metadata": {
  "is_mlstudio": "true",
  "kernelspec": {
   "display_name": "Python 3",
   "language": "python",
   "name": "python3"
  },
  "language_info": {
   "codemirror_mode": {
    "name": "ipython",
    "version": 3
   },
   "file_extension": ".py",
   "mimetype": "text/x-python",
   "name": "python",
   "nbconvert_exporter": "python",
   "pygments_lexer": "ipython3",
   "version": "3.8.7"
  }
 },
 "nbformat": 4,
 "nbformat_minor": 4
}
