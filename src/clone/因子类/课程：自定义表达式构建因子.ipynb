{
 "cells": [
  {
   "cell_type": "code",
   "execution_count": 8,
   "metadata": {
    "machine_learning_studio": "true",
    "ml_studio_json": "{\"description\":\"实验创建于2017/9/28\",\"graph\":{\"edges\":[{\"to_node_id\":\"-32:instruments\",\"from_node_id\":\"-303:data\"},{\"to_node_id\":\"-39:features\",\"from_node_id\":\"-31:data\"},{\"to_node_id\":\"-32:features\",\"from_node_id\":\"-31:data\"},{\"to_node_id\":\"-39:input_data\",\"from_node_id\":\"-32:data\"}],\"nodes\":[{\"node_id\":\"-303\",\"module_id\":\"BigQuantSpace.instruments.instruments-v2\",\"parameters\":[{\"name\":\"start_date\",\"value\":\"2015-01-01\",\"type\":\"Literal\",\"bound_global_parameter\":null},{\"name\":\"end_date\",\"value\":\"2017-01-01\",\"type\":\"Literal\",\"bound_global_parameter\":null},{\"name\":\"market\",\"value\":\"CN_STOCK_A\",\"type\":\"Literal\",\"bound_global_parameter\":null},{\"name\":\"instrument_list\",\"value\":\"\",\"type\":\"Literal\",\"bound_global_parameter\":null},{\"name\":\"max_count\",\"value\":0,\"type\":\"Literal\",\"bound_global_parameter\":null}],\"input_ports\":[{\"name\":\"rolling_conf\",\"node_id\":\"-303\"}],\"output_ports\":[{\"name\":\"data\",\"node_id\":\"-303\"}],\"cacheable\":true,\"seq_num\":1,\"comment\":\"\",\"comment_collapsed\":true},{\"node_id\":\"-31\",\"module_id\":\"BigQuantSpace.input_features.input_features-v1\",\"parameters\":[{\"name\":\"features\",\"value\":\"close_0\\nclose_1\\ntimex(close_1/close_0, 100)\\naddx(close_0, close_1)\",\"type\":\"Literal\",\"bound_global_parameter\":null}],\"input_ports\":[{\"name\":\"features_ds\",\"node_id\":\"-31\"}],\"output_ports\":[{\"name\":\"data\",\"node_id\":\"-31\"}],\"cacheable\":true,\"seq_num\":5,\"comment\":\"\",\"comment_collapsed\":true},{\"node_id\":\"-32\",\"module_id\":\"BigQuantSpace.general_feature_extractor.general_feature_extractor-v7\",\"parameters\":[{\"name\":\"start_date\",\"value\":\"2015-01-01\",\"type\":\"Literal\",\"bound_global_parameter\":null},{\"name\":\"end_date\",\"value\":\"2017-01-01\",\"type\":\"Literal\",\"bound_global_parameter\":null},{\"name\":\"before_start_days\",\"value\":0,\"type\":\"Literal\",\"bound_global_parameter\":null}],\"input_ports\":[{\"name\":\"instruments\",\"node_id\":\"-32\"},{\"name\":\"features\",\"node_id\":\"-32\"}],\"output_ports\":[{\"name\":\"data\",\"node_id\":\"-32\"}],\"cacheable\":true,\"seq_num\":6,\"comment\":\"\",\"comment_collapsed\":true},{\"node_id\":\"-39\",\"module_id\":\"BigQuantSpace.derived_feature_extractor.derived_feature_extractor-v3\",\"parameters\":[{\"name\":\"date_col\",\"value\":\"date\",\"type\":\"Literal\",\"bound_global_parameter\":null},{\"name\":\"instrument_col\",\"value\":\"instrument\",\"type\":\"Literal\",\"bound_global_parameter\":null},{\"name\":\"drop_na\",\"value\":\"False\",\"type\":\"Literal\",\"bound_global_parameter\":null},{\"name\":\"remove_extra_columns\",\"value\":\"False\",\"type\":\"Literal\",\"bound_global_parameter\":null},{\"name\":\"user_functions\",\"value\":\"# https://bigquant.com/docs/big_expr.html 自定义函数\\ndef timex(df, s, x):\\n    return s * x\\n\\ndef addx(df, s, x):\\n    return s + x\\n\\nbigquant_run = {\\n    'timex': timex,\\n    'addx':addx\\n}\\n\",\"type\":\"Literal\",\"bound_global_parameter\":null}],\"input_ports\":[{\"name\":\"input_data\",\"node_id\":\"-39\"},{\"name\":\"features\",\"node_id\":\"-39\"}],\"output_ports\":[{\"name\":\"data\",\"node_id\":\"-39\"}],\"cacheable\":true,\"seq_num\":7,\"comment\":\"在衍生特征里配置自定义函数就可以了，也可以覆盖同名的预定义函数\",\"comment_collapsed\":false}],\"node_layout\":\"<node_postions><node_position Node='-303' Position='-316,23,200,200'/><node_position Node='-31' Position='-14,27.328163146972656,200,200'/><node_position Node='-32' Position='-197,138,200,200'/><node_position Node='-39' Position='-78,257,200,200'/></node_postions>\"},\"nodes_readonly\":false,\"studio_version\":\"v2\"}"
   },
   "outputs": [
    {
     "data": {
      "text/plain": [
       "[2021-08-22 10:43:49.518798] INFO: moduleinvoker: instruments.v2 开始运行.."
      ]
     },
     "metadata": {
      "is_log": true,
      "status": "INFO"
     },
     "output_type": "display_data"
    },
    {
     "data": {
      "text/plain": [
       "[2021-08-22 10:43:49.526087] INFO: moduleinvoker: 命中缓存"
      ]
     },
     "metadata": {
      "is_log": true,
      "status": "INFO"
     },
     "output_type": "display_data"
    },
    {
     "data": {
      "text/plain": [
       "[2021-08-22 10:43:49.527623] INFO: moduleinvoker: instruments.v2 运行完成[0.008835s]."
      ]
     },
     "metadata": {
      "is_log": true,
      "status": "INFO"
     },
     "output_type": "display_data"
    },
    {
     "data": {
      "text/plain": [
       "[2021-08-22 10:43:49.530145] INFO: moduleinvoker: input_features.v1 开始运行.."
      ]
     },
     "metadata": {
      "is_log": true,
      "status": "INFO"
     },
     "output_type": "display_data"
    },
    {
     "data": {
      "text/plain": [
       "[2021-08-22 10:43:49.536602] INFO: moduleinvoker: 命中缓存"
      ]
     },
     "metadata": {
      "is_log": true,
      "status": "INFO"
     },
     "output_type": "display_data"
    },
    {
     "data": {
      "text/plain": [
       "[2021-08-22 10:43:49.537967] INFO: moduleinvoker: input_features.v1 运行完成[0.007818s]."
      ]
     },
     "metadata": {
      "is_log": true,
      "status": "INFO"
     },
     "output_type": "display_data"
    },
    {
     "data": {
      "text/plain": [
       "[2021-08-22 10:43:49.556837] INFO: moduleinvoker: general_feature_extractor.v7 开始运行.."
      ]
     },
     "metadata": {
      "is_log": true,
      "status": "INFO"
     },
     "output_type": "display_data"
    },
    {
     "data": {
      "text/plain": [
       "[2021-08-22 10:43:49.561986] INFO: moduleinvoker: 命中缓存"
      ]
     },
     "metadata": {
      "is_log": true,
      "status": "INFO"
     },
     "output_type": "display_data"
    },
    {
     "data": {
      "text/plain": [
       "[2021-08-22 10:43:49.563267] INFO: moduleinvoker: general_feature_extractor.v7 运行完成[0.006443s]."
      ]
     },
     "metadata": {
      "is_log": true,
      "status": "INFO"
     },
     "output_type": "display_data"
    },
    {
     "data": {
      "text/plain": [
       "[2021-08-22 10:43:49.574511] INFO: moduleinvoker: derived_feature_extractor.v3 开始运行.."
      ]
     },
     "metadata": {
      "is_log": true,
      "status": "INFO"
     },
     "output_type": "display_data"
    },
    {
     "data": {
      "text/plain": [
       "[2021-08-22 10:43:52.986097] INFO: derived_feature_extractor: 提取完成 timex(close_1/close_0, 100), 0.004s"
      ]
     },
     "metadata": {
      "is_log": true,
      "status": "INFO"
     },
     "output_type": "display_data"
    },
    {
     "data": {
      "text/plain": [
       "[2021-08-22 10:43:52.990105] INFO: derived_feature_extractor: 提取完成 addx(close_0, close_1), 0.002s"
      ]
     },
     "metadata": {
      "is_log": true,
      "status": "INFO"
     },
     "output_type": "display_data"
    },
    {
     "data": {
      "text/plain": [
       "[2021-08-22 10:43:54.551933] INFO: derived_feature_extractor: /y_2015, 569698"
      ]
     },
     "metadata": {
      "is_log": true,
      "status": "INFO"
     },
     "output_type": "display_data"
    },
    {
     "data": {
      "text/plain": [
       "[2021-08-22 10:43:56.518794] INFO: derived_feature_extractor: /y_2016, 641546"
      ]
     },
     "metadata": {
      "is_log": true,
      "status": "INFO"
     },
     "output_type": "display_data"
    },
    {
     "data": {
      "text/plain": [
       "[2021-08-22 10:43:56.853558] INFO: moduleinvoker: derived_feature_extractor.v3 运行完成[7.27903s]."
      ]
     },
     "metadata": {
      "is_log": true,
      "status": "INFO"
     },
     "output_type": "display_data"
    }
   ],
   "source": [
    "# 本代码由可视化策略环境自动生成 2021年8月22日11:03\n",
    "# 本代码单元只能在可视化模式下编辑。您也可以拷贝代码，粘贴到新建的代码单元或者策略，然后修改。\n",
    "\n",
    "\n",
    "# https://bigquant.com/docs/big_expr.html 自定义函数\n",
    "def timex(df, s, x):\n",
    "    return s * x\n",
    "\n",
    "def addx(df, s, x):\n",
    "    return s + x\n",
    "\n",
    "m7_user_functions_bigquant_run = {\n",
    "    'timex': timex,\n",
    "    'addx':addx\n",
    "}\n",
    "\n",
    "\n",
    "m1 = M.instruments.v2(\n",
    "    start_date='2015-01-01',\n",
    "    end_date='2017-01-01',\n",
    "    market='CN_STOCK_A',\n",
    "    instrument_list='',\n",
    "    max_count=0\n",
    ")\n",
    "\n",
    "m5 = M.input_features.v1(\n",
    "    features=\"\"\"close_0\n",
    "close_1\n",
    "timex(close_1/close_0, 100)\n",
    "addx(close_0, close_1)\"\"\"\n",
    ")\n",
    "\n",
    "m6 = M.general_feature_extractor.v7(\n",
    "    instruments=m1.data,\n",
    "    features=m5.data,\n",
    "    start_date='2015-01-01',\n",
    "    end_date='2017-01-01',\n",
    "    before_start_days=0\n",
    ")\n",
    "\n",
    "m7 = M.derived_feature_extractor.v3(\n",
    "    input_data=m6.data,\n",
    "    features=m5.data,\n",
    "    date_col='date',\n",
    "    instrument_col='instrument',\n",
    "    drop_na=False,\n",
    "    remove_extra_columns=False,\n",
    "    user_functions=m7_user_functions_bigquant_run\n",
    ")\n"
   ]
  },
  {
   "cell_type": "code",
   "execution_count": 9,
   "metadata": {},
   "outputs": [
    {
     "data": {
      "text/html": [
       "<div>\n",
       "<style scoped>\n",
       "    .dataframe tbody tr th:only-of-type {\n",
       "        vertical-align: middle;\n",
       "    }\n",
       "\n",
       "    .dataframe tbody tr th {\n",
       "        vertical-align: top;\n",
       "    }\n",
       "\n",
       "    .dataframe thead th {\n",
       "        text-align: right;\n",
       "    }\n",
       "</style>\n",
       "<table border=\"1\" class=\"dataframe\">\n",
       "  <thead>\n",
       "    <tr style=\"text-align: right;\">\n",
       "      <th></th>\n",
       "      <th>close_0</th>\n",
       "      <th>close_1</th>\n",
       "      <th>date</th>\n",
       "      <th>instrument</th>\n",
       "      <th>timex(close_1/close_0, 100)</th>\n",
       "      <th>addx(close_0, close_1)</th>\n",
       "    </tr>\n",
       "  </thead>\n",
       "  <tbody>\n",
       "    <tr>\n",
       "      <th>0</th>\n",
       "      <td>1138.280273</td>\n",
       "      <td>1125.490601</td>\n",
       "      <td>2015-01-05</td>\n",
       "      <td>000001.SZA</td>\n",
       "      <td>98.876404</td>\n",
       "      <td>2263.770996</td>\n",
       "    </tr>\n",
       "    <tr>\n",
       "      <th>1</th>\n",
       "      <td>1121.227295</td>\n",
       "      <td>1138.280273</td>\n",
       "      <td>2015-01-06</td>\n",
       "      <td>000001.SZA</td>\n",
       "      <td>101.520920</td>\n",
       "      <td>2259.507568</td>\n",
       "    </tr>\n",
       "    <tr>\n",
       "      <th>2</th>\n",
       "      <td>1099.911255</td>\n",
       "      <td>1121.227295</td>\n",
       "      <td>2015-01-07</td>\n",
       "      <td>000001.SZA</td>\n",
       "      <td>101.937973</td>\n",
       "      <td>2221.138672</td>\n",
       "    </tr>\n",
       "    <tr>\n",
       "      <th>3</th>\n",
       "      <td>1062.963257</td>\n",
       "      <td>1099.911255</td>\n",
       "      <td>2015-01-08</td>\n",
       "      <td>000001.SZA</td>\n",
       "      <td>103.475937</td>\n",
       "      <td>2162.874512</td>\n",
       "    </tr>\n",
       "    <tr>\n",
       "      <th>4</th>\n",
       "      <td>1071.489746</td>\n",
       "      <td>1062.963257</td>\n",
       "      <td>2015-01-09</td>\n",
       "      <td>000001.SZA</td>\n",
       "      <td>99.204239</td>\n",
       "      <td>2134.453125</td>\n",
       "    </tr>\n",
       "  </tbody>\n",
       "</table>\n",
       "</div>"
      ],
      "text/plain": [
       "       close_0      close_1       date  instrument  \\\n",
       "0  1138.280273  1125.490601 2015-01-05  000001.SZA   \n",
       "1  1121.227295  1138.280273 2015-01-06  000001.SZA   \n",
       "2  1099.911255  1121.227295 2015-01-07  000001.SZA   \n",
       "3  1062.963257  1099.911255 2015-01-08  000001.SZA   \n",
       "4  1071.489746  1062.963257 2015-01-09  000001.SZA   \n",
       "\n",
       "   timex(close_1/close_0, 100)  addx(close_0, close_1)  \n",
       "0                    98.876404             2263.770996  \n",
       "1                   101.520920             2259.507568  \n",
       "2                   101.937973             2221.138672  \n",
       "3                   103.475937             2162.874512  \n",
       "4                    99.204239             2134.453125  "
      ]
     },
     "execution_count": 9,
     "metadata": {},
     "output_type": "execute_result"
    }
   ],
   "source": [
    "m7.data.read_df().head()"
   ]
  },
  {
   "cell_type": "code",
   "execution_count": null,
   "metadata": {},
   "outputs": [],
   "source": []
  }
 ],
 "metadata": {
  "kernelspec": {
   "display_name": "Python 3",
   "language": "python",
   "name": "python3"
  },
  "language_info": {
   "codemirror_mode": {
    "name": "ipython",
    "version": 3
   },
   "file_extension": ".py",
   "mimetype": "text/x-python",
   "name": "python",
   "nbconvert_exporter": "python",
   "pygments_lexer": "ipython3",
   "version": "3.8.7"
  }
 },
 "nbformat": 4,
 "nbformat_minor": 4
}
