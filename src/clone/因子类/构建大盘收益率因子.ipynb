{
 "cells": [
  {
   "cell_type": "code",
   "execution_count": 16,
   "metadata": {
    "machine_learning_studio": "true",
    "ml_studio_json": "{\"Description\":\"实验创建于2020/3/18\",\"Summary\":\"\",\"Graph\":{\"EdgesInternal\":[{\"DestinationInputPortId\":\"-319:input_2\",\"SourceOutputPortId\":\"-305:data\"},{\"DestinationInputPortId\":\"-319:input_1\",\"SourceOutputPortId\":\"-309:data\"},{\"DestinationInputPortId\":\"-325:instruments\",\"SourceOutputPortId\":\"-309:data\"},{\"DestinationInputPortId\":\"-345:data1\",\"SourceOutputPortId\":\"-319:data_1\"},{\"DestinationInputPortId\":\"-336:input_data\",\"SourceOutputPortId\":\"-325:data\"},{\"DestinationInputPortId\":\"-325:features\",\"SourceOutputPortId\":\"-331:data\"},{\"DestinationInputPortId\":\"-336:features\",\"SourceOutputPortId\":\"-331:data\"},{\"DestinationInputPortId\":\"-345:data2\",\"SourceOutputPortId\":\"-336:data\"},{\"DestinationInputPortId\":\"-365:input_data\",\"SourceOutputPortId\":\"-345:data\"},{\"DestinationInputPortId\":\"-365:features\",\"SourceOutputPortId\":\"-360:data\"}],\"ModuleNodes\":[{\"Id\":\"-305\",\"ModuleId\":\"BigQuantSpace.input_features.input_features-v1\",\"ModuleParameters\":[{\"Name\":\"features\",\"Value\":\"\\n# #号开始的表示注释，注释需单独一行\\n# 多个特征，每行一个，可以包含基础特征和衍生特征，特征须为本平台特征\\nbm_ret=close/shift(close,1)-1\",\"ValueType\":\"Literal\",\"LinkedGlobalParameter\":null}],\"InputPortsInternal\":[{\"DataSourceId\":null,\"TrainedModelId\":null,\"TransformModuleId\":null,\"Name\":\"features_ds\",\"NodeId\":\"-305\"}],\"OutputPortsInternal\":[{\"Name\":\"data\",\"NodeId\":\"-305\",\"OutputType\":null}],\"UsePreviousResults\":true,\"moduleIdForCode\":2,\"Comment\":\"\",\"CommentCollapsed\":true},{\"Id\":\"-309\",\"ModuleId\":\"BigQuantSpace.instruments.instruments-v2\",\"ModuleParameters\":[{\"Name\":\"start_date\",\"Value\":\"2019-01-01\",\"ValueType\":\"Literal\",\"LinkedGlobalParameter\":null},{\"Name\":\"end_date\",\"Value\":\"2019-03-01\",\"ValueType\":\"Literal\",\"LinkedGlobalParameter\":null},{\"Name\":\"market\",\"Value\":\"CN_STOCK_A\",\"ValueType\":\"Literal\",\"LinkedGlobalParameter\":null},{\"Name\":\"instrument_list\",\"Value\":\"\",\"ValueType\":\"Literal\",\"LinkedGlobalParameter\":null},{\"Name\":\"max_count\",\"Value\":0,\"ValueType\":\"Literal\",\"LinkedGlobalParameter\":null}],\"InputPortsInternal\":[{\"DataSourceId\":null,\"TrainedModelId\":null,\"TransformModuleId\":null,\"Name\":\"rolling_conf\",\"NodeId\":\"-309\"}],\"OutputPortsInternal\":[{\"Name\":\"data\",\"NodeId\":\"-309\",\"OutputType\":null}],\"UsePreviousResults\":true,\"moduleIdForCode\":3,\"Comment\":\"\",\"CommentCollapsed\":true},{\"Id\":\"-319\",\"ModuleId\":\"BigQuantSpace.index_feature_extract.index_feature_extract-v3\",\"ModuleParameters\":[{\"Name\":\"before_days\",\"Value\":100,\"ValueType\":\"Literal\",\"LinkedGlobalParameter\":null},{\"Name\":\"index\",\"Value\":\"000001.HIX\",\"ValueType\":\"Literal\",\"LinkedGlobalParameter\":null}],\"InputPortsInternal\":[{\"DataSourceId\":null,\"TrainedModelId\":null,\"TransformModuleId\":null,\"Name\":\"input_1\",\"NodeId\":\"-319\"},{\"DataSourceId\":null,\"TrainedModelId\":null,\"TransformModuleId\":null,\"Name\":\"input_2\",\"NodeId\":\"-319\"}],\"OutputPortsInternal\":[{\"Name\":\"data_1\",\"NodeId\":\"-319\",\"OutputType\":null},{\"Name\":\"data_2\",\"NodeId\":\"-319\",\"OutputType\":null}],\"UsePreviousResults\":true,\"moduleIdForCode\":4,\"Comment\":\"\",\"CommentCollapsed\":true},{\"Id\":\"-325\",\"ModuleId\":\"BigQuantSpace.general_feature_extractor_vx1.general_feature_extractor_vx1-v1\",\"ModuleParameters\":[{\"Name\":\"start_date\",\"Value\":\"\",\"ValueType\":\"Literal\",\"LinkedGlobalParameter\":null},{\"Name\":\"end_date\",\"Value\":\"\",\"ValueType\":\"Literal\",\"LinkedGlobalParameter\":null},{\"Name\":\"before_start_days\",\"Value\":90,\"ValueType\":\"Literal\",\"LinkedGlobalParameter\":null}],\"InputPortsInternal\":[{\"DataSourceId\":null,\"TrainedModelId\":null,\"TransformModuleId\":null,\"Name\":\"instruments\",\"NodeId\":\"-325\"},{\"DataSourceId\":null,\"TrainedModelId\":null,\"TransformModuleId\":null,\"Name\":\"features\",\"NodeId\":\"-325\"}],\"OutputPortsInternal\":[{\"Name\":\"data\",\"NodeId\":\"-325\",\"OutputType\":null}],\"UsePreviousResults\":true,\"moduleIdForCode\":1,\"Comment\":\"\",\"CommentCollapsed\":true},{\"Id\":\"-331\",\"ModuleId\":\"BigQuantSpace.input_features.input_features-v1\",\"ModuleParameters\":[{\"Name\":\"features\",\"Value\":\"\\n# #号开始的表示注释，注释需单独一行\\n# 多个特征，每行一个，可以包含基础特征和衍生特征，特征须为本平台特征\\nret=return_0 -1\",\"ValueType\":\"Literal\",\"LinkedGlobalParameter\":null}],\"InputPortsInternal\":[{\"DataSourceId\":null,\"TrainedModelId\":null,\"TransformModuleId\":null,\"Name\":\"features_ds\",\"NodeId\":\"-331\"}],\"OutputPortsInternal\":[{\"Name\":\"data\",\"NodeId\":\"-331\",\"OutputType\":null}],\"UsePreviousResults\":true,\"moduleIdForCode\":5,\"Comment\":\"\",\"CommentCollapsed\":true},{\"Id\":\"-336\",\"ModuleId\":\"BigQuantSpace.derived_feature_extractor.derived_feature_extractor-v3\",\"ModuleParameters\":[{\"Name\":\"date_col\",\"Value\":\"date\",\"ValueType\":\"Literal\",\"LinkedGlobalParameter\":null},{\"Name\":\"instrument_col\",\"Value\":\"instrument\",\"ValueType\":\"Literal\",\"LinkedGlobalParameter\":null},{\"Name\":\"drop_na\",\"Value\":\"True\",\"ValueType\":\"Literal\",\"LinkedGlobalParameter\":null},{\"Name\":\"remove_extra_columns\",\"Value\":\"False\",\"ValueType\":\"Literal\",\"LinkedGlobalParameter\":null},{\"Name\":\"user_functions\",\"Value\":\"{}\",\"ValueType\":\"Literal\",\"LinkedGlobalParameter\":null}],\"InputPortsInternal\":[{\"DataSourceId\":null,\"TrainedModelId\":null,\"TransformModuleId\":null,\"Name\":\"input_data\",\"NodeId\":\"-336\"},{\"DataSourceId\":null,\"TrainedModelId\":null,\"TransformModuleId\":null,\"Name\":\"features\",\"NodeId\":\"-336\"}],\"OutputPortsInternal\":[{\"Name\":\"data\",\"NodeId\":\"-336\",\"OutputType\":null}],\"UsePreviousResults\":true,\"moduleIdForCode\":6,\"Comment\":\"\",\"CommentCollapsed\":true},{\"Id\":\"-345\",\"ModuleId\":\"BigQuantSpace.join.join-v3\",\"ModuleParameters\":[{\"Name\":\"on\",\"Value\":\"date\",\"ValueType\":\"Literal\",\"LinkedGlobalParameter\":null},{\"Name\":\"how\",\"Value\":\"inner\",\"ValueType\":\"Literal\",\"LinkedGlobalParameter\":null},{\"Name\":\"sort\",\"Value\":\"False\",\"ValueType\":\"Literal\",\"LinkedGlobalParameter\":null}],\"InputPortsInternal\":[{\"DataSourceId\":null,\"TrainedModelId\":null,\"TransformModuleId\":null,\"Name\":\"data1\",\"NodeId\":\"-345\"},{\"DataSourceId\":null,\"TrainedModelId\":null,\"TransformModuleId\":null,\"Name\":\"data2\",\"NodeId\":\"-345\"}],\"OutputPortsInternal\":[{\"Name\":\"data\",\"NodeId\":\"-345\",\"OutputType\":null}],\"UsePreviousResults\":true,\"moduleIdForCode\":7,\"Comment\":\"\",\"CommentCollapsed\":true},{\"Id\":\"-360\",\"ModuleId\":\"BigQuantSpace.input_features.input_features-v1\",\"ModuleParameters\":[{\"Name\":\"features\",\"Value\":\"\\n# #号开始的表示注释，注释需单独一行\\n# 多个特征，每行一个，可以包含基础特征和衍生特征，特征须为本平台特征\\nrelative_ret=ret-bm_ret\",\"ValueType\":\"Literal\",\"LinkedGlobalParameter\":null}],\"InputPortsInternal\":[{\"DataSourceId\":null,\"TrainedModelId\":null,\"TransformModuleId\":null,\"Name\":\"features_ds\",\"NodeId\":\"-360\"}],\"OutputPortsInternal\":[{\"Name\":\"data\",\"NodeId\":\"-360\",\"OutputType\":null}],\"UsePreviousResults\":true,\"moduleIdForCode\":9,\"Comment\":\"\",\"CommentCollapsed\":true},{\"Id\":\"-365\",\"ModuleId\":\"BigQuantSpace.derived_feature_extractor.derived_feature_extractor-v3\",\"ModuleParameters\":[{\"Name\":\"date_col\",\"Value\":\"date\",\"ValueType\":\"Literal\",\"LinkedGlobalParameter\":null},{\"Name\":\"instrument_col\",\"Value\":\"instrument\",\"ValueType\":\"Literal\",\"LinkedGlobalParameter\":null},{\"Name\":\"drop_na\",\"Value\":\"False\",\"ValueType\":\"Literal\",\"LinkedGlobalParameter\":null},{\"Name\":\"remove_extra_columns\",\"Value\":\"False\",\"ValueType\":\"Literal\",\"LinkedGlobalParameter\":null},{\"Name\":\"user_functions\",\"Value\":\"{}\",\"ValueType\":\"Literal\",\"LinkedGlobalParameter\":null}],\"InputPortsInternal\":[{\"DataSourceId\":null,\"TrainedModelId\":null,\"TransformModuleId\":null,\"Name\":\"input_data\",\"NodeId\":\"-365\"},{\"DataSourceId\":null,\"TrainedModelId\":null,\"TransformModuleId\":null,\"Name\":\"features\",\"NodeId\":\"-365\"}],\"OutputPortsInternal\":[{\"Name\":\"data\",\"NodeId\":\"-365\",\"OutputType\":null}],\"UsePreviousResults\":true,\"moduleIdForCode\":8,\"Comment\":\"\",\"CommentCollapsed\":true}],\"SerializedClientData\":\"<?xml version='1.0' encoding='utf-16'?><DataV1 xmlns:xsd='http://www.w3.org/2001/XMLSchema' xmlns:xsi='http://www.w3.org/2001/XMLSchema-instance'><Meta /><NodePositions><NodePosition Node='-305' Position='-199.91612339019775,239.4091339111328,200,200'/><NodePosition Node='-309' Position='119.56366729736328,236.49566650390625,200,200'/><NodePosition Node='-319' Position='-87.75227355957031,347.21124267578125,200,200'/><NodePosition Node='-325' Position='231.66558837890625,347.27130126953125,200,200'/><NodePosition Node='-331' Position='424.0030517578125,234.00592041015625,200,200'/><NodePosition Node='-336' Position='231.66558837890625,425.3310241699219,200,200'/><NodePosition Node='-345' Position='56.56428527832031,502.74078369140625,200,200'/><NodePosition Node='-360' Position='361.9598693847656,503.17730712890625,200,200'/><NodePosition Node='-365' Position='182.44598388671875,610.8648681640625,200,200'/></NodePositions><NodeGroups /></DataV1>\"},\"IsDraft\":true,\"ParentExperimentId\":null,\"WebService\":{\"IsWebServiceExperiment\":false,\"Inputs\":[],\"Outputs\":[],\"Parameters\":[{\"Name\":\"交易日期\",\"Value\":\"\",\"ParameterDefinition\":{\"Name\":\"交易日期\",\"FriendlyName\":\"交易日期\",\"DefaultValue\":\"\",\"ParameterType\":\"String\",\"HasDefaultValue\":true,\"IsOptional\":true,\"ParameterRules\":[],\"HasRules\":false,\"MarkupType\":0,\"CredentialDescriptor\":null}}],\"WebServiceGroupId\":null,\"SerializedClientData\":\"<?xml version='1.0' encoding='utf-16'?><DataV1 xmlns:xsd='http://www.w3.org/2001/XMLSchema' xmlns:xsi='http://www.w3.org/2001/XMLSchema-instance'><Meta /><NodePositions></NodePositions><NodeGroups /></DataV1>\"},\"DisableNodesUpdate\":false,\"Category\":\"user\",\"Tags\":[],\"IsPartialRun\":true}"
   },
   "outputs": [
    {
     "data": {
      "text/plain": [
       "[2020-03-18 09:47:25.604600] INFO: bigquant: input_features.v1 开始运行.."
      ]
     },
     "metadata": {
      "is_log": true,
      "status": "INFO"
     },
     "output_type": "display_data"
    },
    {
     "data": {
      "text/plain": [
       "[2020-03-18 09:47:25.625280] INFO: bigquant: 命中缓存"
      ]
     },
     "metadata": {
      "is_log": true,
      "status": "INFO"
     },
     "output_type": "display_data"
    },
    {
     "data": {
      "text/plain": [
       "[2020-03-18 09:47:25.626814] INFO: bigquant: input_features.v1 运行完成[0.022207s]."
      ]
     },
     "metadata": {
      "is_log": true,
      "status": "INFO"
     },
     "output_type": "display_data"
    },
    {
     "data": {
      "text/plain": [
       "[2020-03-18 09:47:25.628934] INFO: bigquant: instruments.v2 开始运行.."
      ]
     },
     "metadata": {
      "is_log": true,
      "status": "INFO"
     },
     "output_type": "display_data"
    },
    {
     "data": {
      "text/plain": [
       "[2020-03-18 09:47:25.865514] INFO: bigquant: 命中缓存"
      ]
     },
     "metadata": {
      "is_log": true,
      "status": "INFO"
     },
     "output_type": "display_data"
    },
    {
     "data": {
      "text/plain": [
       "[2020-03-18 09:47:25.866742] INFO: bigquant: instruments.v2 运行完成[0.237801s]."
      ]
     },
     "metadata": {
      "is_log": true,
      "status": "INFO"
     },
     "output_type": "display_data"
    },
    {
     "data": {
      "text/plain": [
       "[2020-03-18 09:47:25.869021] INFO: bigquant: index_feature_extract.v3 开始运行.."
      ]
     },
     "metadata": {
      "is_log": true,
      "status": "INFO"
     },
     "output_type": "display_data"
    },
    {
     "data": {
      "text/plain": [
       "[2020-03-18 09:47:25.941049] INFO: bigquant: 命中缓存"
      ]
     },
     "metadata": {
      "is_log": true,
      "status": "INFO"
     },
     "output_type": "display_data"
    },
    {
     "data": {
      "text/plain": [
       "[2020-03-18 09:47:25.942533] INFO: bigquant: index_feature_extract.v3 运行完成[0.073496s]."
      ]
     },
     "metadata": {
      "is_log": true,
      "status": "INFO"
     },
     "output_type": "display_data"
    },
    {
     "data": {
      "text/plain": [
       "[2020-03-18 09:47:25.944559] INFO: bigquant: input_features.v1 开始运行.."
      ]
     },
     "metadata": {
      "is_log": true,
      "status": "INFO"
     },
     "output_type": "display_data"
    },
    {
     "data": {
      "text/plain": [
       "[2020-03-18 09:47:25.972070] INFO: bigquant: 命中缓存"
      ]
     },
     "metadata": {
      "is_log": true,
      "status": "INFO"
     },
     "output_type": "display_data"
    },
    {
     "data": {
      "text/plain": [
       "[2020-03-18 09:47:25.973767] INFO: bigquant: input_features.v1 运行完成[0.029207s]."
      ]
     },
     "metadata": {
      "is_log": true,
      "status": "INFO"
     },
     "output_type": "display_data"
    },
    {
     "data": {
      "text/plain": [
       "[2020-03-18 09:47:25.996609] INFO: bigquant: general_feature_extractor_vx1.v1 开始运行.."
      ]
     },
     "metadata": {
      "is_log": true,
      "status": "INFO"
     },
     "output_type": "display_data"
    },
    {
     "data": {
      "text/plain": [
       "[2020-03-18 09:47:26.017905] INFO: bigquant: 命中缓存"
      ]
     },
     "metadata": {
      "is_log": true,
      "status": "INFO"
     },
     "output_type": "display_data"
    },
    {
     "data": {
      "text/plain": [
       "[2020-03-18 09:47:26.019313] INFO: bigquant: general_feature_extractor_vx1.v1 运行完成[0.022695s]."
      ]
     },
     "metadata": {
      "is_log": true,
      "status": "INFO"
     },
     "output_type": "display_data"
    },
    {
     "data": {
      "text/plain": [
       "[2020-03-18 09:47:26.021617] INFO: bigquant: derived_feature_extractor.v3 开始运行.."
      ]
     },
     "metadata": {
      "is_log": true,
      "status": "INFO"
     },
     "output_type": "display_data"
    },
    {
     "data": {
      "text/plain": [
       "[2020-03-18 09:47:26.133230] INFO: bigquant: 命中缓存"
      ]
     },
     "metadata": {
      "is_log": true,
      "status": "INFO"
     },
     "output_type": "display_data"
    },
    {
     "data": {
      "text/plain": [
       "[2020-03-18 09:47:26.134924] INFO: bigquant: derived_feature_extractor.v3 运行完成[0.113294s]."
      ]
     },
     "metadata": {
      "is_log": true,
      "status": "INFO"
     },
     "output_type": "display_data"
    },
    {
     "data": {
      "text/plain": [
       "[2020-03-18 09:47:26.137584] INFO: bigquant: join.v3 开始运行.."
      ]
     },
     "metadata": {
      "is_log": true,
      "status": "INFO"
     },
     "output_type": "display_data"
    },
    {
     "data": {
      "text/plain": [
       "[2020-03-18 09:47:26.159635] INFO: bigquant: 命中缓存"
      ]
     },
     "metadata": {
      "is_log": true,
      "status": "INFO"
     },
     "output_type": "display_data"
    },
    {
     "data": {
      "text/plain": [
       "[2020-03-18 09:47:26.160658] INFO: bigquant: join.v3 运行完成[0.023075s]."
      ]
     },
     "metadata": {
      "is_log": true,
      "status": "INFO"
     },
     "output_type": "display_data"
    },
    {
     "data": {
      "text/plain": [
       "[2020-03-18 09:47:26.162058] INFO: bigquant: input_features.v1 开始运行.."
      ]
     },
     "metadata": {
      "is_log": true,
      "status": "INFO"
     },
     "output_type": "display_data"
    },
    {
     "data": {
      "text/plain": [
       "[2020-03-18 09:47:27.649870] INFO: bigquant: input_features.v1 运行完成[1.487787s]."
      ]
     },
     "metadata": {
      "is_log": true,
      "status": "INFO"
     },
     "output_type": "display_data"
    },
    {
     "data": {
      "text/plain": [
       "[2020-03-18 09:47:27.652051] INFO: bigquant: derived_feature_extractor.v3 开始运行.."
      ]
     },
     "metadata": {
      "is_log": true,
      "status": "INFO"
     },
     "output_type": "display_data"
    },
    {
     "data": {
      "text/plain": [
       "[2020-03-18 09:47:27.813314] INFO: derived_feature_extractor: 提取完成 relative_ret=ret-bm_ret, 0.002s"
      ]
     },
     "metadata": {
      "is_log": true,
      "status": "INFO"
     },
     "output_type": "display_data"
    },
    {
     "data": {
      "text/plain": [
       "[2020-03-18 09:47:27.900314] INFO: derived_feature_extractor: /y_2018, 210542"
      ]
     },
     "metadata": {
      "is_log": true,
      "status": "INFO"
     },
     "output_type": "display_data"
    },
    {
     "data": {
      "text/plain": [
       "[2020-03-18 09:47:28.018279] INFO: derived_feature_extractor: /y_2019, 135398"
      ]
     },
     "metadata": {
      "is_log": true,
      "status": "INFO"
     },
     "output_type": "display_data"
    },
    {
     "data": {
      "text/plain": [
       "[2020-03-18 09:47:30.201005] INFO: bigquant: derived_feature_extractor.v3 运行完成[2.548938s]."
      ]
     },
     "metadata": {
      "is_log": true,
      "status": "INFO"
     },
     "output_type": "display_data"
    }
   ],
   "source": [
    "# 本代码由可视化策略环境自动生成 2021年8月22日10:05\n",
    "# 本代码单元只能在可视化模式下编辑。您也可以拷贝代码，粘贴到新建的代码单元或者策略，然后修改。\n",
    "\n",
    "\n",
    "m2 = M.input_features.v1(\n",
    "    features=\"\"\"\n",
    "# #号开始的表示注释，注释需单独一行\n",
    "# 多个特征，每行一个，可以包含基础特征和衍生特征，特征须为本平台特征\n",
    "bm_ret=close/shift(close,1)-1\"\"\"\n",
    ")\n",
    "\n",
    "m3 = M.instruments.v2(\n",
    "    start_date='2019-01-01',\n",
    "    end_date='2019-03-01',\n",
    "    market='CN_STOCK_A',\n",
    "    instrument_list='',\n",
    "    max_count=0\n",
    ")\n",
    "\n",
    "m4 = M.index_feature_extract.v3(\n",
    "    input_1=m3.data,\n",
    "    input_2=m2.data,\n",
    "    before_days=100,\n",
    "    index='000001.HIX'\n",
    ")\n",
    "\n",
    "m5 = M.input_features.v1(\n",
    "    features=\"\"\"\n",
    "# #号开始的表示注释，注释需单独一行\n",
    "# 多个特征，每行一个，可以包含基础特征和衍生特征，特征须为本平台特征\n",
    "ret=return_0 -1\"\"\"\n",
    ")\n",
    "\n",
    "m1 = M.general_feature_extractor_vx1.v1(\n",
    "    instruments=m3.data,\n",
    "    features=m5.data\n",
    ")\n",
    "\n",
    "m6 = M.derived_feature_extractor.v3(\n",
    "    input_data=m1.data,\n",
    "    features=m5.data,\n",
    "    date_col='date',\n",
    "    instrument_col='instrument',\n",
    "    drop_na=True,\n",
    "    remove_extra_columns=False,\n",
    "    user_functions={}\n",
    ")\n",
    "\n",
    "m7 = M.join.v3(\n",
    "    data1=m4.data_1,\n",
    "    data2=m6.data,\n",
    "    on='date',\n",
    "    how='inner',\n",
    "    sort=False\n",
    ")\n",
    "\n",
    "m9 = M.input_features.v1(\n",
    "    features=\"\"\"\n",
    "# #号开始的表示注释，注释需单独一行\n",
    "# 多个特征，每行一个，可以包含基础特征和衍生特征，特征须为本平台特征\n",
    "relative_ret=ret-bm_ret\"\"\"\n",
    ")\n",
    "\n",
    "m8 = M.derived_feature_extractor.v3(\n",
    "    input_data=m7.data,\n",
    "    features=m9.data,\n",
    "    date_col='date',\n",
    "    instrument_col='instrument',\n",
    "    drop_na=False,\n",
    "    remove_extra_columns=False,\n",
    "    user_functions={}\n",
    ")\n"
   ]
  },
  {
   "cell_type": "code",
   "execution_count": 18,
   "metadata": {},
   "outputs": [
    {
     "data": {
      "text/html": [
       "<div>\n",
       "<style scoped>\n",
       "    .dataframe tbody tr th:only-of-type {\n",
       "        vertical-align: middle;\n",
       "    }\n",
       "\n",
       "    .dataframe tbody tr th {\n",
       "        vertical-align: top;\n",
       "    }\n",
       "\n",
       "    .dataframe thead th {\n",
       "        text-align: right;\n",
       "    }\n",
       "</style>\n",
       "<table border=\"1\" class=\"dataframe\">\n",
       "  <thead>\n",
       "    <tr style=\"text-align: right;\">\n",
       "      <th></th>\n",
       "      <th>date</th>\n",
       "      <th>instrument</th>\n",
       "      <th>return_0</th>\n",
       "      <th>ret</th>\n",
       "      <th>bm_ret</th>\n",
       "      <th>relative_ret</th>\n",
       "    </tr>\n",
       "  </thead>\n",
       "  <tbody>\n",
       "    <tr>\n",
       "      <th>0</th>\n",
       "      <td>2018-10-08</td>\n",
       "      <td>002415.SZA</td>\n",
       "      <td>0.900139</td>\n",
       "      <td>-0.099861</td>\n",
       "      <td>-0.037160</td>\n",
       "      <td>-0.062701</td>\n",
       "    </tr>\n",
       "    <tr>\n",
       "      <th>1</th>\n",
       "      <td>2018-10-08</td>\n",
       "      <td>300177.SZA</td>\n",
       "      <td>0.974152</td>\n",
       "      <td>-0.025848</td>\n",
       "      <td>-0.037160</td>\n",
       "      <td>0.011311</td>\n",
       "    </tr>\n",
       "    <tr>\n",
       "      <th>2</th>\n",
       "      <td>2018-10-08</td>\n",
       "      <td>600527.SHA</td>\n",
       "      <td>0.987234</td>\n",
       "      <td>-0.012766</td>\n",
       "      <td>-0.037160</td>\n",
       "      <td>0.024394</td>\n",
       "    </tr>\n",
       "    <tr>\n",
       "      <th>3</th>\n",
       "      <td>2018-10-08</td>\n",
       "      <td>300003.SZA</td>\n",
       "      <td>0.926853</td>\n",
       "      <td>-0.073147</td>\n",
       "      <td>-0.037160</td>\n",
       "      <td>-0.035987</td>\n",
       "    </tr>\n",
       "    <tr>\n",
       "      <th>4</th>\n",
       "      <td>2018-10-08</td>\n",
       "      <td>300267.SZA</td>\n",
       "      <td>1.029925</td>\n",
       "      <td>0.029925</td>\n",
       "      <td>-0.037160</td>\n",
       "      <td>0.067085</td>\n",
       "    </tr>\n",
       "    <tr>\n",
       "      <th>5</th>\n",
       "      <td>2018-10-08</td>\n",
       "      <td>002392.SZA</td>\n",
       "      <td>0.968391</td>\n",
       "      <td>-0.031609</td>\n",
       "      <td>-0.037160</td>\n",
       "      <td>0.005550</td>\n",
       "    </tr>\n",
       "    <tr>\n",
       "      <th>6</th>\n",
       "      <td>2018-10-08</td>\n",
       "      <td>600756.SHA</td>\n",
       "      <td>0.920198</td>\n",
       "      <td>-0.079802</td>\n",
       "      <td>-0.037160</td>\n",
       "      <td>-0.042642</td>\n",
       "    </tr>\n",
       "    <tr>\n",
       "      <th>7</th>\n",
       "      <td>2018-10-08</td>\n",
       "      <td>002596.SZA</td>\n",
       "      <td>0.940934</td>\n",
       "      <td>-0.059066</td>\n",
       "      <td>-0.037160</td>\n",
       "      <td>-0.021906</td>\n",
       "    </tr>\n",
       "    <tr>\n",
       "      <th>8</th>\n",
       "      <td>2018-10-08</td>\n",
       "      <td>002482.SZA</td>\n",
       "      <td>0.989565</td>\n",
       "      <td>-0.010435</td>\n",
       "      <td>-0.037160</td>\n",
       "      <td>0.026725</td>\n",
       "    </tr>\n",
       "    <tr>\n",
       "      <th>9</th>\n",
       "      <td>2018-10-08</td>\n",
       "      <td>603339.SHA</td>\n",
       "      <td>0.950119</td>\n",
       "      <td>-0.049881</td>\n",
       "      <td>-0.037160</td>\n",
       "      <td>-0.012722</td>\n",
       "    </tr>\n",
       "    <tr>\n",
       "      <th>10</th>\n",
       "      <td>2018-10-08</td>\n",
       "      <td>002632.SZA</td>\n",
       "      <td>0.947945</td>\n",
       "      <td>-0.052055</td>\n",
       "      <td>-0.037160</td>\n",
       "      <td>-0.014895</td>\n",
       "    </tr>\n",
       "    <tr>\n",
       "      <th>11</th>\n",
       "      <td>2018-10-08</td>\n",
       "      <td>002060.SZA</td>\n",
       "      <td>0.976431</td>\n",
       "      <td>-0.023569</td>\n",
       "      <td>-0.037160</td>\n",
       "      <td>0.013591</td>\n",
       "    </tr>\n",
       "    <tr>\n",
       "      <th>12</th>\n",
       "      <td>2018-10-08</td>\n",
       "      <td>600561.SHA</td>\n",
       "      <td>0.976271</td>\n",
       "      <td>-0.023729</td>\n",
       "      <td>-0.037160</td>\n",
       "      <td>0.013431</td>\n",
       "    </tr>\n",
       "    <tr>\n",
       "      <th>13</th>\n",
       "      <td>2018-10-08</td>\n",
       "      <td>601611.SHA</td>\n",
       "      <td>0.975484</td>\n",
       "      <td>-0.024516</td>\n",
       "      <td>-0.037160</td>\n",
       "      <td>0.012643</td>\n",
       "    </tr>\n",
       "    <tr>\n",
       "      <th>14</th>\n",
       "      <td>2018-10-08</td>\n",
       "      <td>603027.SHA</td>\n",
       "      <td>0.954802</td>\n",
       "      <td>-0.045198</td>\n",
       "      <td>-0.037160</td>\n",
       "      <td>-0.008038</td>\n",
       "    </tr>\n",
       "    <tr>\n",
       "      <th>15</th>\n",
       "      <td>2018-10-08</td>\n",
       "      <td>300651.SZA</td>\n",
       "      <td>0.988001</td>\n",
       "      <td>-0.011999</td>\n",
       "      <td>-0.037160</td>\n",
       "      <td>0.025161</td>\n",
       "    </tr>\n",
       "    <tr>\n",
       "      <th>16</th>\n",
       "      <td>2018-10-08</td>\n",
       "      <td>600496.SHA</td>\n",
       "      <td>0.980000</td>\n",
       "      <td>-0.020000</td>\n",
       "      <td>-0.037160</td>\n",
       "      <td>0.017160</td>\n",
       "    </tr>\n",
       "    <tr>\n",
       "      <th>17</th>\n",
       "      <td>2018-10-08</td>\n",
       "      <td>600155.SHA</td>\n",
       "      <td>0.967049</td>\n",
       "      <td>-0.032951</td>\n",
       "      <td>-0.037160</td>\n",
       "      <td>0.004208</td>\n",
       "    </tr>\n",
       "    <tr>\n",
       "      <th>18</th>\n",
       "      <td>2018-10-08</td>\n",
       "      <td>600008.SHA</td>\n",
       "      <td>0.978892</td>\n",
       "      <td>-0.021108</td>\n",
       "      <td>-0.037160</td>\n",
       "      <td>0.016051</td>\n",
       "    </tr>\n",
       "    <tr>\n",
       "      <th>19</th>\n",
       "      <td>2018-10-08</td>\n",
       "      <td>300645.SZA</td>\n",
       "      <td>0.972557</td>\n",
       "      <td>-0.027443</td>\n",
       "      <td>-0.037160</td>\n",
       "      <td>0.009716</td>\n",
       "    </tr>\n",
       "    <tr>\n",
       "      <th>20</th>\n",
       "      <td>2018-10-08</td>\n",
       "      <td>600967.SHA</td>\n",
       "      <td>0.982659</td>\n",
       "      <td>-0.017341</td>\n",
       "      <td>-0.037160</td>\n",
       "      <td>0.019818</td>\n",
       "    </tr>\n",
       "    <tr>\n",
       "      <th>21</th>\n",
       "      <td>2018-10-08</td>\n",
       "      <td>000719.SZA</td>\n",
       "      <td>0.985255</td>\n",
       "      <td>-0.014745</td>\n",
       "      <td>-0.037160</td>\n",
       "      <td>0.022414</td>\n",
       "    </tr>\n",
       "    <tr>\n",
       "      <th>22</th>\n",
       "      <td>2018-10-08</td>\n",
       "      <td>002682.SZA</td>\n",
       "      <td>0.959924</td>\n",
       "      <td>-0.040076</td>\n",
       "      <td>-0.037160</td>\n",
       "      <td>-0.002917</td>\n",
       "    </tr>\n",
       "    <tr>\n",
       "      <th>23</th>\n",
       "      <td>2018-10-08</td>\n",
       "      <td>002223.SZA</td>\n",
       "      <td>0.969876</td>\n",
       "      <td>-0.030124</td>\n",
       "      <td>-0.037160</td>\n",
       "      <td>0.007036</td>\n",
       "    </tr>\n",
       "    <tr>\n",
       "      <th>24</th>\n",
       "      <td>2018-10-08</td>\n",
       "      <td>002385.SZA</td>\n",
       "      <td>0.975543</td>\n",
       "      <td>-0.024457</td>\n",
       "      <td>-0.037160</td>\n",
       "      <td>0.012703</td>\n",
       "    </tr>\n",
       "    <tr>\n",
       "      <th>25</th>\n",
       "      <td>2018-10-08</td>\n",
       "      <td>300630.SZA</td>\n",
       "      <td>0.953481</td>\n",
       "      <td>-0.046519</td>\n",
       "      <td>-0.037160</td>\n",
       "      <td>-0.009360</td>\n",
       "    </tr>\n",
       "    <tr>\n",
       "      <th>26</th>\n",
       "      <td>2018-10-08</td>\n",
       "      <td>600129.SHA</td>\n",
       "      <td>0.971660</td>\n",
       "      <td>-0.028340</td>\n",
       "      <td>-0.037160</td>\n",
       "      <td>0.008820</td>\n",
       "    </tr>\n",
       "    <tr>\n",
       "      <th>27</th>\n",
       "      <td>2018-10-08</td>\n",
       "      <td>600151.SHA</td>\n",
       "      <td>0.983373</td>\n",
       "      <td>-0.016627</td>\n",
       "      <td>-0.037160</td>\n",
       "      <td>0.020532</td>\n",
       "    </tr>\n",
       "    <tr>\n",
       "      <th>28</th>\n",
       "      <td>2018-10-08</td>\n",
       "      <td>002765.SZA</td>\n",
       "      <td>0.949367</td>\n",
       "      <td>-0.050633</td>\n",
       "      <td>-0.037160</td>\n",
       "      <td>-0.013473</td>\n",
       "    </tr>\n",
       "    <tr>\n",
       "      <th>29</th>\n",
       "      <td>2018-10-08</td>\n",
       "      <td>002038.SZA</td>\n",
       "      <td>0.947450</td>\n",
       "      <td>-0.052550</td>\n",
       "      <td>-0.037160</td>\n",
       "      <td>-0.015390</td>\n",
       "    </tr>\n",
       "    <tr>\n",
       "      <th>...</th>\n",
       "      <td>...</td>\n",
       "      <td>...</td>\n",
       "      <td>...</td>\n",
       "      <td>...</td>\n",
       "      <td>...</td>\n",
       "      <td>...</td>\n",
       "    </tr>\n",
       "    <tr>\n",
       "      <th>345910</th>\n",
       "      <td>2019-03-01</td>\n",
       "      <td>600283.SHA</td>\n",
       "      <td>1.006426</td>\n",
       "      <td>0.006426</td>\n",
       "      <td>0.018042</td>\n",
       "      <td>-0.011616</td>\n",
       "    </tr>\n",
       "    <tr>\n",
       "      <th>345911</th>\n",
       "      <td>2019-03-01</td>\n",
       "      <td>600331.SHA</td>\n",
       "      <td>1.031646</td>\n",
       "      <td>0.031646</td>\n",
       "      <td>0.018042</td>\n",
       "      <td>0.013604</td>\n",
       "    </tr>\n",
       "    <tr>\n",
       "      <th>345912</th>\n",
       "      <td>2019-03-01</td>\n",
       "      <td>600230.SHA</td>\n",
       "      <td>1.014978</td>\n",
       "      <td>0.014978</td>\n",
       "      <td>0.018042</td>\n",
       "      <td>-0.003064</td>\n",
       "    </tr>\n",
       "    <tr>\n",
       "      <th>345913</th>\n",
       "      <td>2019-03-01</td>\n",
       "      <td>600298.SHA</td>\n",
       "      <td>1.029732</td>\n",
       "      <td>0.029732</td>\n",
       "      <td>0.018042</td>\n",
       "      <td>0.011690</td>\n",
       "    </tr>\n",
       "    <tr>\n",
       "      <th>345914</th>\n",
       "      <td>2019-03-01</td>\n",
       "      <td>600329.SHA</td>\n",
       "      <td>0.997974</td>\n",
       "      <td>-0.002026</td>\n",
       "      <td>0.018042</td>\n",
       "      <td>-0.020068</td>\n",
       "    </tr>\n",
       "    <tr>\n",
       "      <th>345915</th>\n",
       "      <td>2019-03-01</td>\n",
       "      <td>600328.SHA</td>\n",
       "      <td>1.000000</td>\n",
       "      <td>0.000000</td>\n",
       "      <td>0.018042</td>\n",
       "      <td>-0.018042</td>\n",
       "    </tr>\n",
       "    <tr>\n",
       "      <th>345916</th>\n",
       "      <td>2019-03-01</td>\n",
       "      <td>600327.SHA</td>\n",
       "      <td>1.008163</td>\n",
       "      <td>0.008163</td>\n",
       "      <td>0.018042</td>\n",
       "      <td>-0.009879</td>\n",
       "    </tr>\n",
       "    <tr>\n",
       "      <th>345917</th>\n",
       "      <td>2019-03-01</td>\n",
       "      <td>600326.SHA</td>\n",
       "      <td>1.025641</td>\n",
       "      <td>0.025641</td>\n",
       "      <td>0.018042</td>\n",
       "      <td>0.007599</td>\n",
       "    </tr>\n",
       "    <tr>\n",
       "      <th>345918</th>\n",
       "      <td>2019-03-01</td>\n",
       "      <td>600325.SHA</td>\n",
       "      <td>0.997297</td>\n",
       "      <td>-0.002703</td>\n",
       "      <td>0.018042</td>\n",
       "      <td>-0.020745</td>\n",
       "    </tr>\n",
       "    <tr>\n",
       "      <th>345919</th>\n",
       "      <td>2019-03-01</td>\n",
       "      <td>600323.SHA</td>\n",
       "      <td>1.005096</td>\n",
       "      <td>0.005096</td>\n",
       "      <td>0.018042</td>\n",
       "      <td>-0.012946</td>\n",
       "    </tr>\n",
       "    <tr>\n",
       "      <th>345920</th>\n",
       "      <td>2019-03-01</td>\n",
       "      <td>600322.SHA</td>\n",
       "      <td>1.011527</td>\n",
       "      <td>0.011527</td>\n",
       "      <td>0.018042</td>\n",
       "      <td>-0.006514</td>\n",
       "    </tr>\n",
       "    <tr>\n",
       "      <th>345921</th>\n",
       "      <td>2019-03-01</td>\n",
       "      <td>600321.SHA</td>\n",
       "      <td>1.022321</td>\n",
       "      <td>0.022321</td>\n",
       "      <td>0.018042</td>\n",
       "      <td>0.004280</td>\n",
       "    </tr>\n",
       "    <tr>\n",
       "      <th>345922</th>\n",
       "      <td>2019-03-01</td>\n",
       "      <td>600320.SHA</td>\n",
       "      <td>1.086162</td>\n",
       "      <td>0.086162</td>\n",
       "      <td>0.018042</td>\n",
       "      <td>0.068120</td>\n",
       "    </tr>\n",
       "    <tr>\n",
       "      <th>345923</th>\n",
       "      <td>2019-03-01</td>\n",
       "      <td>600319.SHA</td>\n",
       "      <td>1.007678</td>\n",
       "      <td>0.007678</td>\n",
       "      <td>0.018042</td>\n",
       "      <td>-0.010364</td>\n",
       "    </tr>\n",
       "    <tr>\n",
       "      <th>345924</th>\n",
       "      <td>2019-03-01</td>\n",
       "      <td>600318.SHA</td>\n",
       "      <td>1.039823</td>\n",
       "      <td>0.039823</td>\n",
       "      <td>0.018042</td>\n",
       "      <td>0.021781</td>\n",
       "    </tr>\n",
       "    <tr>\n",
       "      <th>345925</th>\n",
       "      <td>2019-03-01</td>\n",
       "      <td>600301.SHA</td>\n",
       "      <td>1.018433</td>\n",
       "      <td>0.018433</td>\n",
       "      <td>0.018042</td>\n",
       "      <td>0.000391</td>\n",
       "    </tr>\n",
       "    <tr>\n",
       "      <th>345926</th>\n",
       "      <td>2019-03-01</td>\n",
       "      <td>600300.SHA</td>\n",
       "      <td>0.996904</td>\n",
       "      <td>-0.003096</td>\n",
       "      <td>0.018042</td>\n",
       "      <td>-0.021138</td>\n",
       "    </tr>\n",
       "    <tr>\n",
       "      <th>345927</th>\n",
       "      <td>2019-03-01</td>\n",
       "      <td>600315.SHA</td>\n",
       "      <td>1.012912</td>\n",
       "      <td>0.012912</td>\n",
       "      <td>0.018042</td>\n",
       "      <td>-0.005130</td>\n",
       "    </tr>\n",
       "    <tr>\n",
       "      <th>345928</th>\n",
       "      <td>2019-03-01</td>\n",
       "      <td>600313.SHA</td>\n",
       "      <td>1.000000</td>\n",
       "      <td>0.000000</td>\n",
       "      <td>0.018042</td>\n",
       "      <td>-0.018042</td>\n",
       "    </tr>\n",
       "    <tr>\n",
       "      <th>345929</th>\n",
       "      <td>2019-03-01</td>\n",
       "      <td>600312.SHA</td>\n",
       "      <td>0.991304</td>\n",
       "      <td>-0.008696</td>\n",
       "      <td>0.018042</td>\n",
       "      <td>-0.026738</td>\n",
       "    </tr>\n",
       "    <tr>\n",
       "      <th>345930</th>\n",
       "      <td>2019-03-01</td>\n",
       "      <td>600311.SHA</td>\n",
       "      <td>0.994521</td>\n",
       "      <td>-0.005479</td>\n",
       "      <td>0.018042</td>\n",
       "      <td>-0.023521</td>\n",
       "    </tr>\n",
       "    <tr>\n",
       "      <th>345931</th>\n",
       "      <td>2019-03-01</td>\n",
       "      <td>600310.SHA</td>\n",
       "      <td>1.023913</td>\n",
       "      <td>0.023913</td>\n",
       "      <td>0.018042</td>\n",
       "      <td>0.005871</td>\n",
       "    </tr>\n",
       "    <tr>\n",
       "      <th>345932</th>\n",
       "      <td>2019-03-01</td>\n",
       "      <td>600309.SHA</td>\n",
       "      <td>1.029606</td>\n",
       "      <td>0.029606</td>\n",
       "      <td>0.018042</td>\n",
       "      <td>0.011564</td>\n",
       "    </tr>\n",
       "    <tr>\n",
       "      <th>345933</th>\n",
       "      <td>2019-03-01</td>\n",
       "      <td>600308.SHA</td>\n",
       "      <td>0.997984</td>\n",
       "      <td>-0.002016</td>\n",
       "      <td>0.018042</td>\n",
       "      <td>-0.020058</td>\n",
       "    </tr>\n",
       "    <tr>\n",
       "      <th>345934</th>\n",
       "      <td>2019-03-01</td>\n",
       "      <td>600307.SHA</td>\n",
       "      <td>1.008547</td>\n",
       "      <td>0.008547</td>\n",
       "      <td>0.018042</td>\n",
       "      <td>-0.009495</td>\n",
       "    </tr>\n",
       "    <tr>\n",
       "      <th>345935</th>\n",
       "      <td>2019-03-01</td>\n",
       "      <td>600306.SHA</td>\n",
       "      <td>1.002845</td>\n",
       "      <td>0.002845</td>\n",
       "      <td>0.018042</td>\n",
       "      <td>-0.015197</td>\n",
       "    </tr>\n",
       "    <tr>\n",
       "      <th>345936</th>\n",
       "      <td>2019-03-01</td>\n",
       "      <td>600305.SHA</td>\n",
       "      <td>1.017355</td>\n",
       "      <td>0.017355</td>\n",
       "      <td>0.018042</td>\n",
       "      <td>-0.000686</td>\n",
       "    </tr>\n",
       "    <tr>\n",
       "      <th>345937</th>\n",
       "      <td>2019-03-01</td>\n",
       "      <td>600303.SHA</td>\n",
       "      <td>0.997788</td>\n",
       "      <td>-0.002212</td>\n",
       "      <td>0.018042</td>\n",
       "      <td>-0.020254</td>\n",
       "    </tr>\n",
       "    <tr>\n",
       "      <th>345938</th>\n",
       "      <td>2019-03-01</td>\n",
       "      <td>600316.SHA</td>\n",
       "      <td>1.016755</td>\n",
       "      <td>0.016755</td>\n",
       "      <td>0.018042</td>\n",
       "      <td>-0.001286</td>\n",
       "    </tr>\n",
       "    <tr>\n",
       "      <th>345939</th>\n",
       "      <td>2019-03-01</td>\n",
       "      <td>600302.SHA</td>\n",
       "      <td>1.007737</td>\n",
       "      <td>0.007737</td>\n",
       "      <td>0.018042</td>\n",
       "      <td>-0.010305</td>\n",
       "    </tr>\n",
       "  </tbody>\n",
       "</table>\n",
       "<p>345940 rows × 6 columns</p>\n",
       "</div>"
      ],
      "text/plain": [
       "             date  instrument  return_0       ret    bm_ret  relative_ret\n",
       "0      2018-10-08  002415.SZA  0.900139 -0.099861 -0.037160     -0.062701\n",
       "1      2018-10-08  300177.SZA  0.974152 -0.025848 -0.037160      0.011311\n",
       "2      2018-10-08  600527.SHA  0.987234 -0.012766 -0.037160      0.024394\n",
       "3      2018-10-08  300003.SZA  0.926853 -0.073147 -0.037160     -0.035987\n",
       "4      2018-10-08  300267.SZA  1.029925  0.029925 -0.037160      0.067085\n",
       "5      2018-10-08  002392.SZA  0.968391 -0.031609 -0.037160      0.005550\n",
       "6      2018-10-08  600756.SHA  0.920198 -0.079802 -0.037160     -0.042642\n",
       "7      2018-10-08  002596.SZA  0.940934 -0.059066 -0.037160     -0.021906\n",
       "8      2018-10-08  002482.SZA  0.989565 -0.010435 -0.037160      0.026725\n",
       "9      2018-10-08  603339.SHA  0.950119 -0.049881 -0.037160     -0.012722\n",
       "10     2018-10-08  002632.SZA  0.947945 -0.052055 -0.037160     -0.014895\n",
       "11     2018-10-08  002060.SZA  0.976431 -0.023569 -0.037160      0.013591\n",
       "12     2018-10-08  600561.SHA  0.976271 -0.023729 -0.037160      0.013431\n",
       "13     2018-10-08  601611.SHA  0.975484 -0.024516 -0.037160      0.012643\n",
       "14     2018-10-08  603027.SHA  0.954802 -0.045198 -0.037160     -0.008038\n",
       "15     2018-10-08  300651.SZA  0.988001 -0.011999 -0.037160      0.025161\n",
       "16     2018-10-08  600496.SHA  0.980000 -0.020000 -0.037160      0.017160\n",
       "17     2018-10-08  600155.SHA  0.967049 -0.032951 -0.037160      0.004208\n",
       "18     2018-10-08  600008.SHA  0.978892 -0.021108 -0.037160      0.016051\n",
       "19     2018-10-08  300645.SZA  0.972557 -0.027443 -0.037160      0.009716\n",
       "20     2018-10-08  600967.SHA  0.982659 -0.017341 -0.037160      0.019818\n",
       "21     2018-10-08  000719.SZA  0.985255 -0.014745 -0.037160      0.022414\n",
       "22     2018-10-08  002682.SZA  0.959924 -0.040076 -0.037160     -0.002917\n",
       "23     2018-10-08  002223.SZA  0.969876 -0.030124 -0.037160      0.007036\n",
       "24     2018-10-08  002385.SZA  0.975543 -0.024457 -0.037160      0.012703\n",
       "25     2018-10-08  300630.SZA  0.953481 -0.046519 -0.037160     -0.009360\n",
       "26     2018-10-08  600129.SHA  0.971660 -0.028340 -0.037160      0.008820\n",
       "27     2018-10-08  600151.SHA  0.983373 -0.016627 -0.037160      0.020532\n",
       "28     2018-10-08  002765.SZA  0.949367 -0.050633 -0.037160     -0.013473\n",
       "29     2018-10-08  002038.SZA  0.947450 -0.052550 -0.037160     -0.015390\n",
       "...           ...         ...       ...       ...       ...           ...\n",
       "345910 2019-03-01  600283.SHA  1.006426  0.006426  0.018042     -0.011616\n",
       "345911 2019-03-01  600331.SHA  1.031646  0.031646  0.018042      0.013604\n",
       "345912 2019-03-01  600230.SHA  1.014978  0.014978  0.018042     -0.003064\n",
       "345913 2019-03-01  600298.SHA  1.029732  0.029732  0.018042      0.011690\n",
       "345914 2019-03-01  600329.SHA  0.997974 -0.002026  0.018042     -0.020068\n",
       "345915 2019-03-01  600328.SHA  1.000000  0.000000  0.018042     -0.018042\n",
       "345916 2019-03-01  600327.SHA  1.008163  0.008163  0.018042     -0.009879\n",
       "345917 2019-03-01  600326.SHA  1.025641  0.025641  0.018042      0.007599\n",
       "345918 2019-03-01  600325.SHA  0.997297 -0.002703  0.018042     -0.020745\n",
       "345919 2019-03-01  600323.SHA  1.005096  0.005096  0.018042     -0.012946\n",
       "345920 2019-03-01  600322.SHA  1.011527  0.011527  0.018042     -0.006514\n",
       "345921 2019-03-01  600321.SHA  1.022321  0.022321  0.018042      0.004280\n",
       "345922 2019-03-01  600320.SHA  1.086162  0.086162  0.018042      0.068120\n",
       "345923 2019-03-01  600319.SHA  1.007678  0.007678  0.018042     -0.010364\n",
       "345924 2019-03-01  600318.SHA  1.039823  0.039823  0.018042      0.021781\n",
       "345925 2019-03-01  600301.SHA  1.018433  0.018433  0.018042      0.000391\n",
       "345926 2019-03-01  600300.SHA  0.996904 -0.003096  0.018042     -0.021138\n",
       "345927 2019-03-01  600315.SHA  1.012912  0.012912  0.018042     -0.005130\n",
       "345928 2019-03-01  600313.SHA  1.000000  0.000000  0.018042     -0.018042\n",
       "345929 2019-03-01  600312.SHA  0.991304 -0.008696  0.018042     -0.026738\n",
       "345930 2019-03-01  600311.SHA  0.994521 -0.005479  0.018042     -0.023521\n",
       "345931 2019-03-01  600310.SHA  1.023913  0.023913  0.018042      0.005871\n",
       "345932 2019-03-01  600309.SHA  1.029606  0.029606  0.018042      0.011564\n",
       "345933 2019-03-01  600308.SHA  0.997984 -0.002016  0.018042     -0.020058\n",
       "345934 2019-03-01  600307.SHA  1.008547  0.008547  0.018042     -0.009495\n",
       "345935 2019-03-01  600306.SHA  1.002845  0.002845  0.018042     -0.015197\n",
       "345936 2019-03-01  600305.SHA  1.017355  0.017355  0.018042     -0.000686\n",
       "345937 2019-03-01  600303.SHA  0.997788 -0.002212  0.018042     -0.020254\n",
       "345938 2019-03-01  600316.SHA  1.016755  0.016755  0.018042     -0.001286\n",
       "345939 2019-03-01  600302.SHA  1.007737  0.007737  0.018042     -0.010305\n",
       "\n",
       "[345940 rows x 6 columns]"
      ]
     },
     "execution_count": 18,
     "metadata": {},
     "output_type": "execute_result"
    }
   ],
   "source": [
    "m8.data.read()"
   ]
  }
 ],
 "metadata": {
  "is_mlstudio": "true",
  "kernelspec": {
   "display_name": "Python 3",
   "language": "python",
   "name": "python3"
  },
  "language_info": {
   "codemirror_mode": {
    "name": "ipython",
    "version": 3
   },
   "file_extension": ".py",
   "mimetype": "text/x-python",
   "name": "python",
   "nbconvert_exporter": "python",
   "pygments_lexer": "ipython3",
   "version": "3.8.7"
  }
 },
 "nbformat": 4,
 "nbformat_minor": 4
}
