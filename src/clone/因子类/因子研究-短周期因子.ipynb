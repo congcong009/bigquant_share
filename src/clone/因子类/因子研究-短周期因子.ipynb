{
 "cells": [
  {
   "cell_type": "code",
   "execution_count": 2,
   "metadata": {
    "machine_learning_studio": "true",
    "ml_studio_json": "{\"description\":\"实验创建于2020/2/14\",\"graph\":{\"edges\":[{\"to_node_id\":\"-3626:features\",\"from_node_id\":\"-70:data\"},{\"to_node_id\":\"-3619:factors_info\",\"from_node_id\":\"-3626:save_data\"}],\"nodes\":[{\"node_id\":\"-70\",\"module_id\":\"BigQuantSpace.input_features.input_features-v1\",\"parameters\":[{\"name\":\"features\",\"value\":\"\\n# #号开始的表示注释，注释需单独一行\\n# 多个特征，每行一个，可以包含基础特征和衍生特征，特征须为本平台特征\\n((rank(decay_linear(delta((open_0+close_0+high_0+low_0)/4,4),7))+ts_rank(decay_linear(((((low_0*0.9)+(low_0*0.1))-(high_0+low_0+open_0+close_0)/4)/(open_0-((high_0+low_0)/2))),11),7))*-1)\",\"type\":\"Literal\",\"bound_global_parameter\":null}],\"input_ports\":[{\"name\":\"features_ds\",\"node_id\":\"-70\"}],\"output_ports\":[{\"name\":\"data\",\"node_id\":\"-70\"}],\"cacheable\":true,\"seq_num\":1,\"comment\":\"\",\"comment_collapsed\":true},{\"node_id\":\"-3619\",\"module_id\":\"BigQuantSpace.factorlens_preservation.factorlens_preservation-v2\",\"parameters\":[{\"name\":\"factor_fields\",\"value\":\"# 定义因子名称\\n# {\\n#     \\\"列名\\\": {'name': \\\"因子名\\\", 'desc': \\\"因子描述\\\"},\\n#     \\\"列名\\\": {'name': \\\"因子名\\\", 'desc': \\\"因子描述\\\"},\\n#     ... \\n# }\\n{\\n    \\\"factor_name\\\": {'name': \\\"量价背离\\\", 'desc': \\\"你走你的，我走我的\\\"},\\n}\\n\",\"type\":\"Literal\",\"bound_global_parameter\":null},{\"name\":\"table\",\"value\":\"\",\"type\":\"Literal\",\"bound_global_parameter\":null}],\"input_ports\":[{\"name\":\"factors_info\",\"node_id\":\"-3619\"}],\"output_ports\":[{\"name\":\"data\",\"node_id\":\"-3619\"}],\"cacheable\":false,\"seq_num\":3,\"comment\":\"\",\"comment_collapsed\":true},{\"node_id\":\"-3626\",\"module_id\":\"BigQuantSpace.factorlens.factorlens-v2\",\"parameters\":[{\"name\":\"title\",\"value\":\"因子分析: {factor_name}\",\"type\":\"Literal\",\"bound_global_parameter\":null},{\"name\":\"start_date\",\"value\":\"2020-01-01\",\"type\":\"Literal\",\"bound_global_parameter\":null},{\"name\":\"end_date\",\"value\":\"2021-12-01\",\"type\":\"Literal\",\"bound_global_parameter\":null},{\"name\":\"rebalance_period\",\"value\":\"5\",\"type\":\"Literal\",\"bound_global_parameter\":null},{\"name\":\"delay_rebalance_days\",\"value\":0,\"type\":\"Literal\",\"bound_global_parameter\":null},{\"name\":\"rebalance_price\",\"value\":\"close_0\",\"type\":\"Literal\",\"bound_global_parameter\":null},{\"name\":\"stock_pool\",\"value\":\"沪深300\",\"type\":\"Literal\",\"bound_global_parameter\":null},{\"name\":\"quantile_count\",\"value\":\"5\",\"type\":\"Literal\",\"bound_global_parameter\":null},{\"name\":\"commission_rate\",\"value\":0.0016,\"type\":\"Literal\",\"bound_global_parameter\":null},{\"name\":\"returns_calculation_method\",\"value\":\"累乘\",\"type\":\"Literal\",\"bound_global_parameter\":null},{\"name\":\"benchmark\",\"value\":\"沪深300\",\"type\":\"Literal\",\"bound_global_parameter\":null},{\"name\":\"drop_new_stocks\",\"value\":60,\"type\":\"Literal\",\"bound_global_parameter\":null},{\"name\":\"drop_price_limit_stocks\",\"value\":\"True\",\"type\":\"Literal\",\"bound_global_parameter\":null},{\"name\":\"drop_st_stocks\",\"value\":\"True\",\"type\":\"Literal\",\"bound_global_parameter\":null},{\"name\":\"drop_suspended_stocks\",\"value\":\"True\",\"type\":\"Literal\",\"bound_global_parameter\":null},{\"name\":\"normalization\",\"value\":\"True\",\"type\":\"Literal\",\"bound_global_parameter\":null},{\"name\":\"neutralization\",\"value\":\"%7B%22enumItems%22%3A%5B%7B%22value%22%3A%22%E8%A1%8C%E4%B8%9A%22%2C%22displayValue%22%3A%22%E8%A1%8C%E4%B8%9A%22%2C%22selected%22%3Atrue%7D%2C%7B%22value%22%3A%22%E5%B8%82%E5%80%BC%22%2C%22displayValue%22%3A%22%E5%B8%82%E5%80%BC%22%2C%22selected%22%3Atrue%7D%5D%7D\",\"type\":\"Literal\",\"bound_global_parameter\":null},{\"name\":\"metrics\",\"value\":\"%7B%22enumItems%22%3A%5B%7B%22value%22%3A%22%E5%9B%A0%E5%AD%90%E8%A1%A8%E7%8E%B0%E6%A6%82%E8%A7%88%22%2C%22displayValue%22%3A%22%E5%9B%A0%E5%AD%90%E8%A1%A8%E7%8E%B0%E6%A6%82%E8%A7%88%22%2C%22selected%22%3Atrue%7D%2C%7B%22value%22%3A%22%E5%9B%A0%E5%AD%90%E5%88%86%E5%B8%83%22%2C%22displayValue%22%3A%22%E5%9B%A0%E5%AD%90%E5%88%86%E5%B8%83%22%2C%22selected%22%3Atrue%7D%2C%7B%22value%22%3A%22%E5%9B%A0%E5%AD%90%E8%A1%8C%E4%B8%9A%E5%88%86%E5%B8%83%22%2C%22displayValue%22%3A%22%E5%9B%A0%E5%AD%90%E8%A1%8C%E4%B8%9A%E5%88%86%E5%B8%83%22%2C%22selected%22%3Atrue%7D%2C%7B%22value%22%3A%22%E5%9B%A0%E5%AD%90%E5%B8%82%E5%80%BC%E5%88%86%E5%B8%83%22%2C%22displayValue%22%3A%22%E5%9B%A0%E5%AD%90%E5%B8%82%E5%80%BC%E5%88%86%E5%B8%83%22%2C%22selected%22%3Atrue%7D%2C%7B%22value%22%3A%22IC%E5%88%86%E6%9E%90%22%2C%22displayValue%22%3A%22IC%E5%88%86%E6%9E%90%22%2C%22selected%22%3Atrue%7D%2C%7B%22value%22%3A%22%E4%B9%B0%E5%85%A5%E4%BF%A1%E5%8F%B7%E9%87%8D%E5%90%88%E5%88%86%E6%9E%90%22%2C%22displayValue%22%3A%22%E4%B9%B0%E5%85%A5%E4%BF%A1%E5%8F%B7%E9%87%8D%E5%90%88%E5%88%86%E6%9E%90%22%2C%22selected%22%3Atrue%7D%2C%7B%22value%22%3A%22%E5%9B%A0%E5%AD%90%E4%BC%B0%E5%80%BC%E5%88%86%E6%9E%90%22%2C%22displayValue%22%3A%22%E5%9B%A0%E5%AD%90%E4%BC%B0%E5%80%BC%E5%88%86%E6%9E%90%22%2C%22selected%22%3Atrue%7D%2C%7B%22value%22%3A%22%E5%9B%A0%E5%AD%90%E6%8B%A5%E6%8C%A4%E5%BA%A6%E5%88%86%E6%9E%90%22%2C%22displayValue%22%3A%22%E5%9B%A0%E5%AD%90%E6%8B%A5%E6%8C%A4%E5%BA%A6%E5%88%86%E6%9E%90%22%2C%22selected%22%3Atrue%7D%2C%7B%22value%22%3A%22%E5%9B%A0%E5%AD%90%E5%80%BC%E6%9C%80%E5%A4%A7%2F%E6%9C%80%E5%B0%8F%E8%82%A1%E7%A5%A8%22%2C%22displayValue%22%3A%22%E5%9B%A0%E5%AD%90%E5%80%BC%E6%9C%80%E5%A4%A7%2F%E6%9C%80%E5%B0%8F%E8%82%A1%E7%A5%A8%22%2C%22selected%22%3Atrue%7D%2C%7B%22value%22%3A%22%E8%A1%A8%E8%BE%BE%E5%BC%8F%E5%9B%A0%E5%AD%90%E5%80%BC%22%2C%22displayValue%22%3A%22%E8%A1%A8%E8%BE%BE%E5%BC%8F%E5%9B%A0%E5%AD%90%E5%80%BC%22%2C%22selected%22%3Atrue%7D%2C%7B%22value%22%3A%22%E5%A4%9A%E5%9B%A0%E5%AD%90%E7%9B%B8%E5%85%B3%E6%80%A7%E5%88%86%E6%9E%90%22%2C%22displayValue%22%3A%22%E5%A4%9A%E5%9B%A0%E5%AD%90%E7%9B%B8%E5%85%B3%E6%80%A7%E5%88%86%E6%9E%90%22%2C%22selected%22%3Atrue%7D%5D%7D\",\"type\":\"Literal\",\"bound_global_parameter\":null},{\"name\":\"factor_coverage\",\"value\":\"0.3\",\"type\":\"Literal\",\"bound_global_parameter\":null},{\"name\":\"user_data_merge\",\"value\":\"left\",\"type\":\"Literal\",\"bound_global_parameter\":null}],\"input_ports\":[{\"name\":\"features\",\"node_id\":\"-3626\"},{\"name\":\"user_factor_data\",\"node_id\":\"-3626\"}],\"output_ports\":[{\"name\":\"data\",\"node_id\":\"-3626\"},{\"name\":\"save_data\",\"node_id\":\"-3626\"}],\"cacheable\":true,\"seq_num\":4,\"comment\":\"\",\"comment_collapsed\":true}],\"node_layout\":\"<node_postions><node_position Node='-70' Position='427,345,200,200'/><node_position Node='-3619' Position='429,534,200,200'/><node_position Node='-3626' Position='431,439,200,200'/></node_postions>\"},\"nodes_readonly\":false,\"studio_version\":\"v2\"}"
   },
   "outputs": [
    {
     "data": {
      "text/plain": [
       "[2021-12-08 10:34:23.201500] INFO: moduleinvoker: input_features.v1 开始运行.."
      ]
     },
     "metadata": {
      "is_log": true,
      "status": "INFO"
     },
     "output_type": "display_data"
    },
    {
     "data": {
      "text/plain": [
       "[2021-12-08 10:34:23.216278] INFO: moduleinvoker: 命中缓存"
      ]
     },
     "metadata": {
      "is_log": true,
      "status": "INFO"
     },
     "output_type": "display_data"
    },
    {
     "data": {
      "text/plain": [
       "[2021-12-08 10:34:23.218125] INFO: moduleinvoker: input_features.v1 运行完成[0.016648s]."
      ]
     },
     "metadata": {
      "is_log": true,
      "status": "INFO"
     },
     "output_type": "display_data"
    },
    {
     "data": {
      "text/plain": [
       "[2021-12-08 10:34:23.227825] INFO: moduleinvoker: factorlens.v2 开始运行.."
      ]
     },
     "metadata": {
      "is_log": true,
      "status": "INFO"
     },
     "output_type": "display_data"
    },
    {
     "data": {
      "text/plain": [
       "[2021-12-08 10:34:23.280669] INFO: 因子分析: batch_process start"
      ]
     },
     "metadata": {
      "is_log": true,
      "status": "INFO"
     },
     "output_type": "display_data"
    },
    {
     "data": {
      "text/plain": [
       "[2021-12-08 10:34:23.282479] INFO: 因子分析: load_instruments 2020-01-01, 2021-12-01"
      ]
     },
     "metadata": {
      "is_log": true,
      "status": "INFO"
     },
     "output_type": "display_data"
    },
    {
     "data": {
      "text/plain": [
       "[2021-12-08 10:34:24.118809] INFO: 因子分析: load_instruments, 4680 rows."
      ]
     },
     "metadata": {
      "is_log": true,
      "status": "INFO"
     },
     "output_type": "display_data"
    },
    {
     "data": {
      "text/plain": [
       "[2021-12-08 10:34:24.120506] INFO: 因子分析: load_benchmark_data 2020-01-01, 2021-12-01"
      ]
     },
     "metadata": {
      "is_log": true,
      "status": "INFO"
     },
     "output_type": "display_data"
    },
    {
     "data": {
      "text/plain": [
       "[2021-12-08 10:34:24.181437] INFO: 因子分析: load_benchmark_data, 1392 rows."
      ]
     },
     "metadata": {
      "is_log": true,
      "status": "INFO"
     },
     "output_type": "display_data"
    },
    {
     "data": {
      "text/plain": [
       "[2021-12-08 10:34:24.183191] INFO: 因子分析: StockPool.before_load_general_feature_data"
      ]
     },
     "metadata": {
      "is_log": true,
      "status": "INFO"
     },
     "output_type": "display_data"
    },
    {
     "data": {
      "text/plain": [
       "[2021-12-08 10:34:24.184552] INFO: 因子分析: UserDataMerge.before_load_general_feature_data"
      ]
     },
     "metadata": {
      "is_log": true,
      "status": "INFO"
     },
     "output_type": "display_data"
    },
    {
     "data": {
      "text/plain": [
       "[2021-12-08 10:34:24.186481] INFO: 因子分析: DropSTStocks.before_load_general_feature_data"
      ]
     },
     "metadata": {
      "is_log": true,
      "status": "INFO"
     },
     "output_type": "display_data"
    },
    {
     "data": {
      "text/plain": [
       "[2021-12-08 10:34:24.188019] INFO: 因子分析: DropNewStocks.before_load_general_feature_data"
      ]
     },
     "metadata": {
      "is_log": true,
      "status": "INFO"
     },
     "output_type": "display_data"
    },
    {
     "data": {
      "text/plain": [
       "[2021-12-08 10:34:24.189502] INFO: 因子分析: Neutralization.before_load_general_feature_data"
      ]
     },
     "metadata": {
      "is_log": true,
      "status": "INFO"
     },
     "output_type": "display_data"
    },
    {
     "data": {
      "text/plain": [
       "[2021-12-08 10:34:24.191328] INFO: 因子分析: DelayRebalanceDays.before_load_general_feature_data"
      ]
     },
     "metadata": {
      "is_log": true,
      "status": "INFO"
     },
     "output_type": "display_data"
    },
    {
     "data": {
      "text/plain": [
       "[2021-12-08 10:34:24.193186] INFO: 因子分析: RebalancePeriod.before_load_general_feature_data"
      ]
     },
     "metadata": {
      "is_log": true,
      "status": "INFO"
     },
     "output_type": "display_data"
    },
    {
     "data": {
      "text/plain": [
       "[2021-12-08 10:34:24.195047] INFO: 因子分析: RebalancePrice.before_load_general_feature_data"
      ]
     },
     "metadata": {
      "is_log": true,
      "status": "INFO"
     },
     "output_type": "display_data"
    },
    {
     "data": {
      "text/plain": [
       "[2021-12-08 10:34:24.197015] INFO: 因子分析: FactorCoverage.before_load_general_feature_data"
      ]
     },
     "metadata": {
      "is_log": true,
      "status": "INFO"
     },
     "output_type": "display_data"
    },
    {
     "data": {
      "text/plain": [
       "[2021-12-08 10:34:24.198792] INFO: 因子分析: Industry.before_load_general_feature_data"
      ]
     },
     "metadata": {
      "is_log": true,
      "status": "INFO"
     },
     "output_type": "display_data"
    },
    {
     "data": {
      "text/plain": [
       "[2021-12-08 10:34:24.200623] INFO: 因子分析: PBRatio.before_load_general_feature_data"
      ]
     },
     "metadata": {
      "is_log": true,
      "status": "INFO"
     },
     "output_type": "display_data"
    },
    {
     "data": {
      "text/plain": [
       "[2021-12-08 10:34:24.202261] INFO: 因子分析: Turnover.before_load_general_feature_data"
      ]
     },
     "metadata": {
      "is_log": true,
      "status": "INFO"
     },
     "output_type": "display_data"
    },
    {
     "data": {
      "text/plain": [
       "[2021-12-08 10:34:24.203820] INFO: 因子分析: MarketCap.before_load_general_feature_data"
      ]
     },
     "metadata": {
      "is_log": true,
      "status": "INFO"
     },
     "output_type": "display_data"
    },
    {
     "data": {
      "text/plain": [
       "[2021-12-08 10:34:24.205744] INFO: 因子分析: load_general_feature_data, load data"
      ]
     },
     "metadata": {
      "is_log": true,
      "status": "INFO"
     },
     "output_type": "display_data"
    },
    {
     "data": {
      "text/plain": [
       "[2021-12-08 10:35:31.689188] INFO: 因子分析: RebalancePeriod.after_load_general_feature_data"
      ]
     },
     "metadata": {
      "is_log": true,
      "status": "INFO"
     },
     "output_type": "display_data"
    },
    {
     "data": {
      "text/plain": [
       "[2021-12-08 10:35:31.785574] INFO: 因子分析: RebalancePeriodsReturns.after_load_general_feature_data"
      ]
     },
     "metadata": {
      "is_log": true,
      "status": "INFO"
     },
     "output_type": "display_data"
    },
    {
     "data": {
      "text/plain": [
       "[2021-12-08 10:35:55.722521] INFO: 因子分析: RebalancePrice.after_load_general_feature_data"
      ]
     },
     "metadata": {
      "is_log": true,
      "status": "INFO"
     },
     "output_type": "display_data"
    },
    {
     "data": {
      "text/plain": [
       "[2021-12-08 10:35:55.724326] INFO: 因子分析: load_general_feature_data, 2788839 rows."
      ]
     },
     "metadata": {
      "is_log": true,
      "status": "INFO"
     },
     "output_type": "display_data"
    },
    {
     "data": {
      "text/plain": [
       "[2021-12-08 10:35:55.726457] INFO: 因子分析: load_derived_feature_data, 2788839 rows, 25 columns."
      ]
     },
     "metadata": {
      "is_log": true,
      "status": "INFO"
     },
     "output_type": "display_data"
    },
    {
     "data": {
      "text/plain": [
       "[2021-12-08 10:35:55.728079] INFO: 因子分析: process, ((rank(decay_linear(delta((open_0+close_0+high_0+low_0)/4,4),7))+ts_rank(decay_linear(((((low_0*0.9)+(low_0*0.1))-(high_0+low_0+open_0+close_0)/4)/(open_0-((high_0+low_0)/2))),11),7))*-1)"
      ]
     },
     "metadata": {
      "is_log": true,
      "status": "INFO"
     },
     "output_type": "display_data"
    },
    {
     "data": {
      "text/plain": [
       "[2021-12-08 10:35:55.729390] INFO: 因子分析: calculate_factor, ((rank(decay_linear(delta((open_0+close_0+high_0+low_0)/4,4),7))+ts_rank(decay_linear(((((low_0*0.9)+(low_0*0.1))-(high_0+low_0+open_0+close_0)/4)/(open_0-((high_0+low_0)/2))),11),7))*-1)"
      ]
     },
     "metadata": {
      "is_log": true,
      "status": "INFO"
     },
     "output_type": "display_data"
    },
    {
     "data": {
      "text/plain": [
       "[2021-12-08 10:36:13.218999] INFO: 因子分析: calculate_factor, done"
      ]
     },
     "metadata": {
      "is_log": true,
      "status": "INFO"
     },
     "output_type": "display_data"
    },
    {
     "data": {
      "text/plain": [
       "[2021-12-08 10:36:13.429282] INFO: 因子分析: QuantileReturns.before_process"
      ]
     },
     "metadata": {
      "is_log": true,
      "status": "INFO"
     },
     "output_type": "display_data"
    },
    {
     "data": {
      "text/plain": [
       "[2021-12-08 10:36:13.430953] INFO: 因子分析: IC.before_process"
      ]
     },
     "metadata": {
      "is_log": true,
      "status": "INFO"
     },
     "output_type": "display_data"
    },
    {
     "data": {
      "text/plain": [
       "[2021-12-08 10:36:13.432450] INFO: 因子分析: BasicDescription.before_process"
      ]
     },
     "metadata": {
      "is_log": true,
      "status": "INFO"
     },
     "output_type": "display_data"
    },
    {
     "data": {
      "text/plain": [
       "[2021-12-08 10:36:13.433692] INFO: 因子分析: Industry.before_process"
      ]
     },
     "metadata": {
      "is_log": true,
      "status": "INFO"
     },
     "output_type": "display_data"
    },
    {
     "data": {
      "text/plain": [
       "[2021-12-08 10:36:13.434889] INFO: 因子分析: RebalanceOverlap.before_process"
      ]
     },
     "metadata": {
      "is_log": true,
      "status": "INFO"
     },
     "output_type": "display_data"
    },
    {
     "data": {
      "text/plain": [
       "[2021-12-08 10:36:13.436124] INFO: 因子分析: PBRatio.before_process"
      ]
     },
     "metadata": {
      "is_log": true,
      "status": "INFO"
     },
     "output_type": "display_data"
    },
    {
     "data": {
      "text/plain": [
       "[2021-12-08 10:36:13.437250] INFO: 因子分析: Turnover.before_process"
      ]
     },
     "metadata": {
      "is_log": true,
      "status": "INFO"
     },
     "output_type": "display_data"
    },
    {
     "data": {
      "text/plain": [
       "[2021-12-08 10:36:13.438339] INFO: 因子分析: Stocks.before_process"
      ]
     },
     "metadata": {
      "is_log": true,
      "status": "INFO"
     },
     "output_type": "display_data"
    },
    {
     "data": {
      "text/plain": [
       "[2021-12-08 10:36:13.439508] INFO: 因子分析: MarketCap.before_process"
      ]
     },
     "metadata": {
      "is_log": true,
      "status": "INFO"
     },
     "output_type": "display_data"
    },
    {
     "data": {
      "text/plain": [
       "[2021-12-08 10:36:13.440680] INFO: 因子分析: FactorValue.before_process"
      ]
     },
     "metadata": {
      "is_log": true,
      "status": "INFO"
     },
     "output_type": "display_data"
    },
    {
     "data": {
      "text/plain": [
       "[2021-12-08 10:36:13.441774] INFO: 因子分析: FactorPairwiseCorrelationMerged.before_process"
      ]
     },
     "metadata": {
      "is_log": true,
      "status": "INFO"
     },
     "output_type": "display_data"
    },
    {
     "data": {
      "text/plain": [
       "[2021-12-08 10:36:13.581059] INFO: 因子分析: process metrics, start .."
      ]
     },
     "metadata": {
      "is_log": true,
      "status": "INFO"
     },
     "output_type": "display_data"
    },
    {
     "data": {
      "text/plain": [
       "[2021-12-08 10:36:13.604824] INFO: 因子分析: process, 107671/1905181 rows .."
      ]
     },
     "metadata": {
      "is_log": true,
      "status": "INFO"
     },
     "output_type": "display_data"
    },
    {
     "data": {
      "text/plain": [
       "[2021-12-08 10:36:13.606624] INFO: 因子分析: BacktestInterval.process, 0.000s"
      ]
     },
     "metadata": {
      "is_log": true,
      "status": "INFO"
     },
     "output_type": "display_data"
    },
    {
     "data": {
      "text/plain": [
       "[2021-12-08 10:36:13.608592] INFO: 因子分析: Benchmark.process, 0.000s"
      ]
     },
     "metadata": {
      "is_log": true,
      "status": "INFO"
     },
     "output_type": "display_data"
    },
    {
     "data": {
      "text/plain": [
       "[2021-12-08 10:36:13.609857] INFO: 因子分析: StockPool.process, 0.000s"
      ]
     },
     "metadata": {
      "is_log": true,
      "status": "INFO"
     },
     "output_type": "display_data"
    },
    {
     "data": {
      "text/plain": [
       "[2021-12-08 10:36:13.611202] INFO: 因子分析: UserDataMerge.process, 0.000s"
      ]
     },
     "metadata": {
      "is_log": true,
      "status": "INFO"
     },
     "output_type": "display_data"
    },
    {
     "data": {
      "text/plain": [
       "[2021-12-08 10:36:13.612510] INFO: 因子分析: DropSTStocks.process, 0.000s"
      ]
     },
     "metadata": {
      "is_log": true,
      "status": "INFO"
     },
     "output_type": "display_data"
    },
    {
     "data": {
      "text/plain": [
       "[2021-12-08 10:36:13.613715] INFO: 因子分析: DropPriceLimitStocks.process, 0.000s"
      ]
     },
     "metadata": {
      "is_log": true,
      "status": "INFO"
     },
     "output_type": "display_data"
    },
    {
     "data": {
      "text/plain": [
       "[2021-12-08 10:36:13.615176] INFO: 因子分析: DropNewStocks.process, 0.000s"
      ]
     },
     "metadata": {
      "is_log": true,
      "status": "INFO"
     },
     "output_type": "display_data"
    },
    {
     "data": {
      "text/plain": [
       "[2021-12-08 10:36:13.616665] INFO: 因子分析: DropSuspendedStocks.process, 0.000s"
      ]
     },
     "metadata": {
      "is_log": true,
      "status": "INFO"
     },
     "output_type": "display_data"
    },
    {
     "data": {
      "text/plain": [
       "[2021-12-08 10:36:13.618150] INFO: 因子分析: QuantileCount.process, 0.000s"
      ]
     },
     "metadata": {
      "is_log": true,
      "status": "INFO"
     },
     "output_type": "display_data"
    },
    {
     "data": {
      "text/plain": [
       "[2021-12-08 10:36:13.619668] INFO: 因子分析: CommissionRates.process, 0.000s"
      ]
     },
     "metadata": {
      "is_log": true,
      "status": "INFO"
     },
     "output_type": "display_data"
    },
    {
     "data": {
      "text/plain": [
       "[2021-12-08 10:36:13.882755] INFO: 因子分析: Normalization.process, 0.261s"
      ]
     },
     "metadata": {
      "is_log": true,
      "status": "INFO"
     },
     "output_type": "display_data"
    },
    {
     "data": {
      "text/plain": [
       "[2021-12-08 10:36:14.282847] INFO: 因子分析: Neutralization.process, 0.398s"
      ]
     },
     "metadata": {
      "is_log": true,
      "status": "INFO"
     },
     "output_type": "display_data"
    },
    {
     "data": {
      "text/plain": [
       "[2021-12-08 10:36:14.284796] INFO: 因子分析: DelayRebalanceDays.process, 0.000s"
      ]
     },
     "metadata": {
      "is_log": true,
      "status": "INFO"
     },
     "output_type": "display_data"
    },
    {
     "data": {
      "text/plain": [
       "[2021-12-08 10:36:16.775665] INFO: 因子分析: RebalancePeriod.process, 2.489s"
      ]
     },
     "metadata": {
      "is_log": true,
      "status": "INFO"
     },
     "output_type": "display_data"
    },
    {
     "data": {
      "text/plain": [
       "[2021-12-08 10:36:16.777758] INFO: 因子分析: RebalancePeriodsReturns.process, 0.000s"
      ]
     },
     "metadata": {
      "is_log": true,
      "status": "INFO"
     },
     "output_type": "display_data"
    },
    {
     "data": {
      "text/plain": [
       "[2021-12-08 10:36:16.779660] INFO: 因子分析: RebalancePrice.process, 0.000s"
      ]
     },
     "metadata": {
      "is_log": true,
      "status": "INFO"
     },
     "output_type": "display_data"
    },
    {
     "data": {
      "text/plain": [
       "[2021-12-08 10:36:16.781091] INFO: 因子分析: ReturnsCalculationMethod.process, 0.000s"
      ]
     },
     "metadata": {
      "is_log": true,
      "status": "INFO"
     },
     "output_type": "display_data"
    },
    {
     "data": {
      "text/plain": [
       "[2021-12-08 10:36:16.782733] INFO: 因子分析: FactorCoverage.process, 0.000s"
      ]
     },
     "metadata": {
      "is_log": true,
      "status": "INFO"
     },
     "output_type": "display_data"
    },
    {
     "data": {
      "text/plain": [
       "[2021-12-08 10:36:16.847907] INFO: 因子分析: QuantileReturns.process, 0.064s"
      ]
     },
     "metadata": {
      "is_log": true,
      "status": "INFO"
     },
     "output_type": "display_data"
    },
    {
     "data": {
      "text/plain": [
       "[2021-12-08 10:36:17.136230] INFO: 因子分析: IC.process, 0.286s"
      ]
     },
     "metadata": {
      "is_log": true,
      "status": "INFO"
     },
     "output_type": "display_data"
    },
    {
     "data": {
      "text/plain": [
       "[2021-12-08 10:36:17.152535] INFO: 因子分析: BasicDescription.process, 0.014s"
      ]
     },
     "metadata": {
      "is_log": true,
      "status": "INFO"
     },
     "output_type": "display_data"
    },
    {
     "data": {
      "text/plain": [
       "[2021-12-08 10:36:17.307362] INFO: 因子分析: Industry.process, 0.153s"
      ]
     },
     "metadata": {
      "is_log": true,
      "status": "INFO"
     },
     "output_type": "display_data"
    },
    {
     "data": {
      "text/plain": [
       "[2021-12-08 10:36:17.428802] INFO: 因子分析: RebalanceOverlap.process, 0.120s"
      ]
     },
     "metadata": {
      "is_log": true,
      "status": "INFO"
     },
     "output_type": "display_data"
    },
    {
     "data": {
      "text/plain": [
       "[2021-12-08 10:36:17.448558] INFO: 因子分析: PBRatio.process, 0.018s"
      ]
     },
     "metadata": {
      "is_log": true,
      "status": "INFO"
     },
     "output_type": "display_data"
    },
    {
     "data": {
      "text/plain": [
       "[2021-12-08 10:36:17.464478] INFO: 因子分析: Turnover.process, 0.014s"
      ]
     },
     "metadata": {
      "is_log": true,
      "status": "INFO"
     },
     "output_type": "display_data"
    },
    {
     "data": {
      "text/plain": [
       "[2021-12-08 10:36:17.477138] INFO: 因子分析: Stocks.process, 0.011s"
      ]
     },
     "metadata": {
      "is_log": true,
      "status": "INFO"
     },
     "output_type": "display_data"
    },
    {
     "data": {
      "text/plain": [
       "[2021-12-08 10:36:17.515543] INFO: 因子分析: MarketCap.process, 0.036s"
      ]
     },
     "metadata": {
      "is_log": true,
      "status": "INFO"
     },
     "output_type": "display_data"
    },
    {
     "data": {
      "text/plain": [
       "[2021-12-08 10:36:17.531245] INFO: 因子分析: FactorValue.process, 0.014s"
      ]
     },
     "metadata": {
      "is_log": true,
      "status": "INFO"
     },
     "output_type": "display_data"
    },
    {
     "data": {
      "text/plain": [
       "[2021-12-08 10:36:17.541844] INFO: 因子分析: process metrics, 3.961s"
      ]
     },
     "metadata": {
      "is_log": true,
      "status": "INFO"
     },
     "output_type": "display_data"
    },
    {
     "data": {
      "text/plain": [
       "[2021-12-08 10:36:17.544611] INFO: 因子分析: QuantileReturns.after_process"
      ]
     },
     "metadata": {
      "is_log": true,
      "status": "INFO"
     },
     "output_type": "display_data"
    },
    {
     "data": {
      "text/plain": [
       "[2021-12-08 10:36:17.545980] INFO: 因子分析: IC.after_process"
      ]
     },
     "metadata": {
      "is_log": true,
      "status": "INFO"
     },
     "output_type": "display_data"
    },
    {
     "data": {
      "text/plain": [
       "[2021-12-08 10:36:17.547091] INFO: 因子分析: BasicDescription.after_process"
      ]
     },
     "metadata": {
      "is_log": true,
      "status": "INFO"
     },
     "output_type": "display_data"
    },
    {
     "data": {
      "text/plain": [
       "[2021-12-08 10:36:17.548145] INFO: 因子分析: Industry.after_process"
      ]
     },
     "metadata": {
      "is_log": true,
      "status": "INFO"
     },
     "output_type": "display_data"
    },
    {
     "data": {
      "text/plain": [
       "[2021-12-08 10:36:17.549245] INFO: 因子分析: RebalanceOverlap.after_process"
      ]
     },
     "metadata": {
      "is_log": true,
      "status": "INFO"
     },
     "output_type": "display_data"
    },
    {
     "data": {
      "text/plain": [
       "[2021-12-08 10:36:17.550270] INFO: 因子分析: PBRatio.after_process"
      ]
     },
     "metadata": {
      "is_log": true,
      "status": "INFO"
     },
     "output_type": "display_data"
    },
    {
     "data": {
      "text/plain": [
       "[2021-12-08 10:36:17.551320] INFO: 因子分析: Turnover.after_process"
      ]
     },
     "metadata": {
      "is_log": true,
      "status": "INFO"
     },
     "output_type": "display_data"
    },
    {
     "data": {
      "text/plain": [
       "[2021-12-08 10:36:17.552379] INFO: 因子分析: Stocks.after_process"
      ]
     },
     "metadata": {
      "is_log": true,
      "status": "INFO"
     },
     "output_type": "display_data"
    },
    {
     "data": {
      "text/plain": [
       "[2021-12-08 10:36:17.553607] INFO: 因子分析: MarketCap.after_process"
      ]
     },
     "metadata": {
      "is_log": true,
      "status": "INFO"
     },
     "output_type": "display_data"
    },
    {
     "data": {
      "text/plain": [
       "[2021-12-08 10:36:17.554666] INFO: 因子分析: FactorValue.after_process"
      ]
     },
     "metadata": {
      "is_log": true,
      "status": "INFO"
     },
     "output_type": "display_data"
    },
    {
     "data": {
      "text/plain": [
       "[2021-12-08 10:36:17.555669] INFO: 因子分析: FactorPairwiseCorrelationMerged.after_process"
      ]
     },
     "metadata": {
      "is_log": true,
      "status": "INFO"
     },
     "output_type": "display_data"
    },
    {
     "data": {
      "text/plain": [
       "[2021-12-08 10:36:17.556991] INFO: 因子分析: QuantileReturns.before_merged_process"
      ]
     },
     "metadata": {
      "is_log": true,
      "status": "INFO"
     },
     "output_type": "display_data"
    },
    {
     "data": {
      "text/plain": [
       "[2021-12-08 10:36:17.558086] INFO: 因子分析: IC.before_merged_process"
      ]
     },
     "metadata": {
      "is_log": true,
      "status": "INFO"
     },
     "output_type": "display_data"
    },
    {
     "data": {
      "text/plain": [
       "[2021-12-08 10:36:17.559122] INFO: 因子分析: BasicDescription.before_merged_process"
      ]
     },
     "metadata": {
      "is_log": true,
      "status": "INFO"
     },
     "output_type": "display_data"
    },
    {
     "data": {
      "text/plain": [
       "[2021-12-08 10:36:17.560200] INFO: 因子分析: Industry.before_merged_process"
      ]
     },
     "metadata": {
      "is_log": true,
      "status": "INFO"
     },
     "output_type": "display_data"
    },
    {
     "data": {
      "text/plain": [
       "[2021-12-08 10:36:17.561260] INFO: 因子分析: RebalanceOverlap.before_merged_process"
      ]
     },
     "metadata": {
      "is_log": true,
      "status": "INFO"
     },
     "output_type": "display_data"
    },
    {
     "data": {
      "text/plain": [
       "[2021-12-08 10:36:17.562362] INFO: 因子分析: PBRatio.before_merged_process"
      ]
     },
     "metadata": {
      "is_log": true,
      "status": "INFO"
     },
     "output_type": "display_data"
    },
    {
     "data": {
      "text/plain": [
       "[2021-12-08 10:36:17.563445] INFO: 因子分析: Turnover.before_merged_process"
      ]
     },
     "metadata": {
      "is_log": true,
      "status": "INFO"
     },
     "output_type": "display_data"
    },
    {
     "data": {
      "text/plain": [
       "[2021-12-08 10:36:17.565031] INFO: 因子分析: Stocks.before_merged_process"
      ]
     },
     "metadata": {
      "is_log": true,
      "status": "INFO"
     },
     "output_type": "display_data"
    },
    {
     "data": {
      "text/plain": [
       "[2021-12-08 10:36:17.566544] INFO: 因子分析: MarketCap.before_merged_process"
      ]
     },
     "metadata": {
      "is_log": true,
      "status": "INFO"
     },
     "output_type": "display_data"
    },
    {
     "data": {
      "text/plain": [
       "[2021-12-08 10:36:17.568194] INFO: 因子分析: FactorValue.before_merged_process"
      ]
     },
     "metadata": {
      "is_log": true,
      "status": "INFO"
     },
     "output_type": "display_data"
    },
    {
     "data": {
      "text/plain": [
       "[2021-12-08 10:36:17.570317] INFO: 因子分析: FactorPairwiseCorrelationMerged.before_merged_process"
      ]
     },
     "metadata": {
      "is_log": true,
      "status": "INFO"
     },
     "output_type": "display_data"
    },
    {
     "data": {
      "text/plain": [
       "[2021-12-08 10:36:17.572450] INFO: 因子分析: QuantileReturns.after_merged_process"
      ]
     },
     "metadata": {
      "is_log": true,
      "status": "INFO"
     },
     "output_type": "display_data"
    },
    {
     "data": {
      "text/plain": [
       "[2021-12-08 10:36:17.574265] INFO: 因子分析: IC.after_merged_process"
      ]
     },
     "metadata": {
      "is_log": true,
      "status": "INFO"
     },
     "output_type": "display_data"
    },
    {
     "data": {
      "text/plain": [
       "[2021-12-08 10:36:17.576012] INFO: 因子分析: BasicDescription.after_merged_process"
      ]
     },
     "metadata": {
      "is_log": true,
      "status": "INFO"
     },
     "output_type": "display_data"
    },
    {
     "data": {
      "text/plain": [
       "[2021-12-08 10:36:17.577738] INFO: 因子分析: Industry.after_merged_process"
      ]
     },
     "metadata": {
      "is_log": true,
      "status": "INFO"
     },
     "output_type": "display_data"
    },
    {
     "data": {
      "text/plain": [
       "[2021-12-08 10:36:17.579583] INFO: 因子分析: RebalanceOverlap.after_merged_process"
      ]
     },
     "metadata": {
      "is_log": true,
      "status": "INFO"
     },
     "output_type": "display_data"
    },
    {
     "data": {
      "text/plain": [
       "[2021-12-08 10:36:17.581401] INFO: 因子分析: PBRatio.after_merged_process"
      ]
     },
     "metadata": {
      "is_log": true,
      "status": "INFO"
     },
     "output_type": "display_data"
    },
    {
     "data": {
      "text/plain": [
       "[2021-12-08 10:36:17.583154] INFO: 因子分析: Turnover.after_merged_process"
      ]
     },
     "metadata": {
      "is_log": true,
      "status": "INFO"
     },
     "output_type": "display_data"
    },
    {
     "data": {
      "text/plain": [
       "[2021-12-08 10:36:17.584827] INFO: 因子分析: Stocks.after_merged_process"
      ]
     },
     "metadata": {
      "is_log": true,
      "status": "INFO"
     },
     "output_type": "display_data"
    },
    {
     "data": {
      "text/plain": [
       "[2021-12-08 10:36:17.586511] INFO: 因子分析: MarketCap.after_merged_process"
      ]
     },
     "metadata": {
      "is_log": true,
      "status": "INFO"
     },
     "output_type": "display_data"
    },
    {
     "data": {
      "text/plain": [
       "[2021-12-08 10:36:17.588190] INFO: 因子分析: FactorValue.after_merged_process"
      ]
     },
     "metadata": {
      "is_log": true,
      "status": "INFO"
     },
     "output_type": "display_data"
    },
    {
     "data": {
      "text/plain": [
       "[2021-12-08 10:36:17.589806] INFO: 因子分析: FactorPairwiseCorrelationMerged.after_merged_process"
      ]
     },
     "metadata": {
      "is_log": true,
      "status": "INFO"
     },
     "output_type": "display_data"
    },
    {
     "data": {
      "text/plain": [
       "[2021-12-08 10:36:17.591652] INFO: 因子分析: batch_process ended, 114.311s"
      ]
     },
     "metadata": {
      "is_log": true,
      "status": "INFO"
     },
     "output_type": "display_data"
    },
    {
     "data": {
      "text/html": [
       "<div class=\"factorlens-container\">\n",
       "            <div style=\"display:flex\">\n",
       "                <div style=\"flex:1\">\n",
       "                    \n",
       "                    <h2 class=\"factorlens-title\">因子分析: ((rank(decay_linear(delta((open_0+close_0+high_0+low_0)/4,4),7))+ts_rank(decay_linear(((((low_0*0.9)+(low_0*0.1))-(high_0+low_0+open_0+close_0)/4)/(open_0-((high_0+low_0)/2))),11),7))*-1)</h2>\n",
       "                    \n",
       "                </div>\n",
       "                <div style=\"width:180px;\">\n",
       "                    \n",
       "                    <code style=\"display:none\" class=\"bq-template-label-inject\">\n",
       "                    {\n",
       "                        \"type\": \"factor-track\",\n",
       "                        \"data\": {\n",
       "                            \"exprs\": [\"((rank(decay_linear(delta((open_0+close_0+high_0+low_0)/4,4),7))+ts_rank(decay_linear(((((low_0*0.9)+(low_0*0.1))-(high_0+low_0+open_0+close_0)/4)/(open_0-((high_0+low_0)/2))),11),7))*-1)\"],\n",
       "                            \"options\": {\"BacktestInterval\": [\"2020-01-01\", \"2021-12-01\"], \"Benchmark\": \"000300.HIX\", \"StockPool\": \"in_csi300_0\", \"UserDataMerge\": \"left\", \"DropSTStocks\": 1, \"DropPriceLimitStocks\": 1, \"DropNewStocks\": 60, \"DropSuspendedStocks\": 1, \"QuantileCount\": 5, \"CommissionRates\": 0.0016, \"Normalization\": 1, \"Neutralization\": \"industry,size\", \"DelayRebalanceDays\": 0, \"RebalancePeriod\": 5, \"RebalancePeriodsReturns\": 0, \"RebalancePrice\": \"close_0\", \"ReturnsCalculationMethod\": \"cumprod\", \"FactorCoverage\": 0.3, \"_HASH\": \"634b5ef3327bd9b4183d28d186db94ec\"}\n",
       "                        }\n",
       "                    }\n",
       "                    </code>\n",
       "                    \n",
       "                </div>\n",
       "            </div>\n",
       "            <div class=\"type_title_left\"><p>因子表现概览<i class=\"fa fa-question-circle-o\" title=\"按因子值升序排列将股票分组，1分位组对应最小因子分组。多空组合表示做多最小分位组，做空最大分位组。\"></i></p></div><table class=\"factor_table\">\n",
       "            <thead>\n",
       "                <tr>\n",
       "                    <th>&nbsp;</th>\n",
       "                    <th>累计收益</th>\n",
       "                    <th>近1年收益</th>\n",
       "                    <th>近3月收益</th>\n",
       "                    <th>近1月收益</th>\n",
       "                    <th>近1周收益</th>\n",
       "                    <th>昨日收益</th>\n",
       "                    <th>最大回撤</th>\n",
       "                    <th>盈亏比</th>\n",
       "                    <th>胜率</th>\n",
       "                    <th>夏普比率</th>\n",
       "                    <th>收益波动率</th>\n",
       "                </tr>\n",
       "            </thead>\n",
       "            <tbody>\n",
       "                \n",
       "                    <tr>\n",
       "                    <th>最小分位</th>\n",
       "                        \n",
       "                            <td><span class=\"pct down\">-18.42%</span></td>\n",
       "                        \n",
       "                            <td><span class=\"pct down\">-12.06%</span></td>\n",
       "                        \n",
       "                            <td><span class=\"pct down\">-5.61%</span></td>\n",
       "                        \n",
       "                            <td><span class=\"pct up\">0.19%</span></td>\n",
       "                        \n",
       "                            <td><span class=\"pct down\">-0.41%</span></td>\n",
       "                        \n",
       "                            <td><span class=\"pct up\">0.32%</span></td>\n",
       "                        \n",
       "                            <td>23.78%</td>\n",
       "                        \n",
       "                            <td>0.82</td>\n",
       "                        \n",
       "                            <td>0.49</td>\n",
       "                        \n",
       "                            <td><span class=\"pct down\">-1.85</span></td>\n",
       "                        \n",
       "                            <td>7.72%</td>\n",
       "                        \n",
       "                    </tr>\n",
       "                \n",
       "                    <tr>\n",
       "                    <th>最大分位</th>\n",
       "                        \n",
       "                            <td><span class=\"pct down\">-4.50%</span></td>\n",
       "                        \n",
       "                            <td><span class=\"pct down\">-2.90%</span></td>\n",
       "                        \n",
       "                            <td><span class=\"pct up\">2.42%</span></td>\n",
       "                        \n",
       "                            <td><span class=\"pct up\">2.48%</span></td>\n",
       "                        \n",
       "                            <td><span class=\"pct down\">-1.16%</span></td>\n",
       "                        \n",
       "                            <td><span class=\"pct up\">0.52%</span></td>\n",
       "                        \n",
       "                            <td>18.15%</td>\n",
       "                        \n",
       "                            <td>1.05</td>\n",
       "                        \n",
       "                            <td>0.48</td>\n",
       "                        \n",
       "                            <td><span class=\"pct down\">-0.71</span></td>\n",
       "                        \n",
       "                            <td>8.00%</td>\n",
       "                        \n",
       "                    </tr>\n",
       "                \n",
       "                    <tr>\n",
       "                    <th>多空组合</th>\n",
       "                        \n",
       "                            <td><span class=\"pct down\">-7.78%</span></td>\n",
       "                        \n",
       "                            <td><span class=\"pct down\">-4.97%</span></td>\n",
       "                        \n",
       "                            <td><span class=\"pct down\">-4.04%</span></td>\n",
       "                        \n",
       "                            <td><span class=\"pct down\">-1.13%</span></td>\n",
       "                        \n",
       "                            <td><span class=\"pct up\">0.38%</span></td>\n",
       "                        \n",
       "                            <td><span class=\"pct down\">-0.10%</span></td>\n",
       "                        \n",
       "                            <td>10.22%</td>\n",
       "                        \n",
       "                            <td>0.95</td>\n",
       "                        \n",
       "                            <td>0.48</td>\n",
       "                        \n",
       "                            <td><span class=\"pct down\">-1.62</span></td>\n",
       "                        \n",
       "                            <td>4.81%</td>\n",
       "                        \n",
       "                    </tr>\n",
       "                \n",
       "            </tbody>\n",
       "        </table><div id=\"bigchart-54172593166a466d9acf923ac55adcce\" class=\"bigchart\"></div><div class=\"bigchart-data\"><pre style=\"display:none\">bigcharts-data-start/{\"chart\":{\"height\":500,\"renderTo\":\"bigchart-54172593166a466d9acf923ac55adcce\"},\"legend\":{\"enabled\":true},\"stock\":true,\"series\":[{\"name\":\"1\\u5206\\u4f4d\\u6570\",\"yAxis\":0,\"data\":[[1578009600000,1.0],[1578268800000,1.004],[1578355200000,1.0016],[1578441600000,0.9991],[1578528000000,1.0025],[1578614400000,1.0042],[1578873600000,1.0051],[1578960000000,1.0029],[1579046400000,1.0075],[1579132800000,1.0077],[1579219200000,1.0046],[1579478400000,1.0114],[1579564800000,1.0156],[1579651200000,1.0172],[1579737600000,1.0195],[1580688000000,1.0287],[1580774400000,1.0302],[1580860800000,1.0442],[1580947200000,1.0609],[1581033600000,1.0591],[1581292800000,1.046],[1581379200000,1.0335],[1581465600000,1.035],[1581552000000,1.0364],[1581638400000,1.0391],[1581897600000,1.0399],[1581984000000,1.0389],[1582070400000,1.034],[1582156800000,1.029],[1582243200000,1.0374],[1582502400000,1.0426],[1582588800000,1.047],[1582675200000,1.0409],[1582761600000,1.0442],[1582848000000,1.0513],[1583107200000,1.0493],[1583193600000,1.0507],[1583280000000,1.0554],[1583366400000,1.0479],[1583452800000,1.0458],[1583712000000,1.0458],[1583798400000,1.0496],[1583884800000,1.0483],[1583971200000,1.0492],[1584057600000,1.0538],[1584316800000,1.0494],[1584403200000,1.0487],[1584489600000,1.045],[1584576000000,1.0514],[1584662400000,1.044],[1584921600000,1.0461],[1585008000000,1.0348],[1585094400000,1.0265],[1585180800000,1.029],[1585267200000,1.0219],[1585526400000,1.0158],[1585612800000,1.0135],[1585699200000,1.0098],[1585785600000,1.0058],[1585872000000,1.0127],[1586217600000,1.014],[1586304000000,1.0148],[1586390400000,1.0129],[1586476800000,1.0018],[1586736000000,0.9963],[1586822400000,1.0049],[1586908800000,1.004],[1586995200000,1.0058],[1587081600000,1.0023],[1587340800000,1.0073],[1587427200000,1.0071],[1587513600000,1.0012],[1587600000000,0.9988],[1587686400000,0.9912],[1587945600000,0.9845],[1588032000000,0.9804],[1588118400000,0.9809],[1588204800000,0.9849],[1588723200000,0.9863],[1588809600000,0.9839],[1588896000000,0.9837],[1589155200000,0.9829],[1589241600000,0.9839],[1589328000000,0.9862],[1589414400000,0.9894],[1589500800000,0.991],[1589760000000,0.9868],[1589846400000,0.99],[1589932800000,0.9859],[1590019200000,0.9868],[1590105600000,0.9841],[1590364800000,0.9831],[1590451200000,0.988],[1590537600000,0.9897],[1590624000000,0.9833],[1590710400000,0.9926],[1590969600000,0.982],[1591056000000,0.9795],[1591142400000,0.9759],[1591228800000,0.9783],[1591315200000,0.9747],[1591574400000,0.9679],[1591660800000,0.9682],[1591747200000,0.9738],[1591833600000,0.9766],[1591920000000,0.9812],[1592179200000,0.9831],[1592265600000,0.9814],[1592352000000,0.9871],[1592438400000,0.9818],[1592524800000,0.986],[1592784000000,0.9847],[1592870400000,0.985],[1592956800000,0.9834],[1593388800000,0.9864],[1593475200000,0.9905],[1593561600000,0.9856],[1593648000000,0.9722],[1593734400000,0.9627],[1593993600000,0.9459],[1594080000000,0.9475],[1594166400000,0.9491],[1594252800000,0.9486],[1594339200000,0.9437],[1594598400000,0.949],[1594684800000,0.9502],[1594771200000,0.949],[1594857600000,0.949],[1594944000000,0.9546],[1595203200000,0.9475],[1595289600000,0.9536],[1595376000000,0.9514],[1595462400000,0.9474],[1595548800000,0.9468],[1595808000000,0.9456],[1595894400000,0.9452],[1595980800000,0.9484],[1596067200000,0.9525],[1596153600000,0.956],[1596412800000,0.9555],[1596499200000,0.9473],[1596585600000,0.9495],[1596672000000,0.9481],[1596758400000,0.9488],[1597017600000,0.9474],[1597104000000,0.9426],[1597190400000,0.9416],[1597276800000,0.9403],[1597363200000,0.9424],[1597622400000,0.9452],[1597708800000,0.9448],[1597795200000,0.9473],[1597881600000,0.9425],[1597968000000,0.9401],[1598227200000,0.9439],[1598313600000,0.9394],[1598400000000,0.9401],[1598486400000,0.9416],[1598572800000,0.9375],[1598832000000,0.9359],[1598918400000,0.9345],[1599004800000,0.9362],[1599091200000,0.9304],[1599177600000,0.927],[1599436800000,0.9204],[1599523200000,0.9235],[1599609600000,0.9209],[1599696000000,0.9209],[1599782400000,0.9229],[1600041600000,0.9225],[1600128000000,0.9249],[1600214400000,0.9326],[1600300800000,0.9335],[1600387200000,0.931],[1600646400000,0.9332],[1600732800000,0.9328],[1600819200000,0.934],[1600905600000,0.9352],[1600992000000,0.932],[1601251200000,0.9297],[1601337600000,0.9319],[1601424000000,0.9303],[1602201600000,0.9356],[1602460800000,0.9347],[1602547200000,0.9308],[1602633600000,0.9291],[1602720000000,0.9268],[1602806400000,0.9236],[1603065600000,0.9243],[1603152000000,0.9297],[1603238400000,0.9252],[1603324800000,0.9246],[1603411200000,0.9232],[1603670400000,0.9249],[1603756800000,0.9293],[1603843200000,0.9287],[1603929600000,0.9233],[1604016000000,0.9249],[1604275200000,0.9276],[1604361600000,0.9304],[1604448000000,0.9253],[1604534400000,0.9246],[1604620800000,0.9258],[1604880000000,0.9258],[1604966400000,0.9273],[1605052800000,0.9249],[1605139200000,0.9277],[1605225600000,0.9313],[1605484800000,0.9329],[1605571200000,0.936],[1605657600000,0.9308],[1605744000000,0.9309],[1605830400000,0.9326],[1606089600000,0.926],[1606176000000,0.9315],[1606262400000,0.9278],[1606348800000,0.9237],[1606435200000,0.9227],[1606694400000,0.9247],[1606780800000,0.9196],[1606867200000,0.9168],[1606953600000,0.9137],[1607040000000,0.9175],[1607299200000,0.9154],[1607385600000,0.9142],[1607472000000,0.9074],[1607558400000,0.9047],[1607644800000,0.9045],[1607904000000,0.9005],[1607990400000,0.9035],[1608076800000,0.8998],[1608163200000,0.8996],[1608249600000,0.8999],[1608508800000,0.9005],[1608595200000,0.8964],[1608681600000,0.8971],[1608768000000,0.9031],[1608854400000,0.8986],[1609113600000,0.8955],[1609200000000,0.8959],[1609286400000,0.8966],[1609372800000,0.8949],[1609718400000,0.8952],[1609804800000,0.8914],[1609891200000,0.8862],[1609977600000,0.882],[1610064000000,0.8824],[1610323200000,0.883],[1610409600000,0.8769],[1610496000000,0.8775],[1610582400000,0.8805],[1610668800000,0.8751],[1610928000000,0.8772],[1611014400000,0.877],[1611100800000,0.8782],[1611187200000,0.8739],[1611273600000,0.8725],[1611532800000,0.8621],[1611619200000,0.859],[1611705600000,0.8608],[1611792000000,0.8579],[1611878400000,0.8611],[1612137600000,0.8521],[1612224000000,0.8427],[1612310400000,0.8416],[1612396800000,0.8388],[1612483200000,0.8372],[1612742400000,0.8336],[1612828800000,0.8342],[1612915200000,0.8256],[1613606400000,0.8251],[1613692800000,0.8269],[1613952000000,0.8362],[1614038400000,0.8348],[1614124800000,0.8461],[1614211200000,0.8415],[1614297600000,0.8439],[1614556800000,0.8427],[1614643200000,0.8469],[1614729600000,0.8407],[1614816000000,0.8476],[1614902400000,0.8501],[1615161600000,0.8625],[1615248000000,0.8619],[1615334400000,0.8489],[1615420800000,0.845],[1615507200000,0.8439],[1615766400000,0.8475],[1615852800000,0.8451],[1615939200000,0.8492],[1616025600000,0.8454],[1616112000000,0.8492],[1616371200000,0.8514],[1616457600000,0.8501],[1616544000000,0.8552],[1616630400000,0.8555],[1616716800000,0.849],[1616976000000,0.8502],[1617062400000,0.8449],[1617148800000,0.8502],[1617235200000,0.8472],[1617321600000,0.8468],[1617667200000,0.8528],[1617753600000,0.8556],[1617840000000,0.8555],[1617926400000,0.8561],[1618185600000,0.8466],[1618272000000,0.8436],[1618358400000,0.8506],[1618444800000,0.8551],[1618531200000,0.8555],[1618790400000,0.8442],[1618876800000,0.8441],[1618963200000,0.8447],[1619049600000,0.8465],[1619136000000,0.8394],[1619395200000,0.8388],[1619481600000,0.8367],[1619568000000,0.8461],[1619654400000,0.8427],[1619740800000,0.8476],[1620259200000,0.8486],[1620345600000,0.8392],[1620604800000,0.8334],[1620691200000,0.8334],[1620777600000,0.8347],[1620864000000,0.8421],[1620950400000,0.8389],[1621209600000,0.8321],[1621296000000,0.834],[1621382400000,0.8327],[1621468800000,0.8291],[1621555200000,0.8304],[1621814400000,0.8356],[1621900800000,0.8305],[1621987200000,0.8275],[1622073600000,0.8302],[1622160000000,0.8268],[1622419200000,0.8312],[1622505600000,0.8327],[1622592000000,0.8353],[1622678400000,0.8357],[1622764800000,0.8389],[1623024000000,0.8447],[1623110400000,0.8432],[1623196800000,0.8412],[1623283200000,0.8405],[1623369600000,0.8324],[1623715200000,0.8341],[1623801600000,0.8349],[1623888000000,0.8397],[1623974400000,0.8444],[1624233600000,0.8503],[1624320000000,0.8459],[1624406400000,0.8442],[1624492800000,0.8427],[1624579200000,0.8422],[1624838400000,0.8502],[1624924800000,0.8523],[1625011200000,0.8529],[1625097600000,0.8384],[1625184000000,0.842],[1625443200000,0.8523],[1625529600000,0.851],[1625616000000,0.8544],[1625702400000,0.8596],[1625788800000,0.8599],[1626048000000,0.8588],[1626134400000,0.8553],[1626220800000,0.8574],[1626307200000,0.8576],[1626393600000,0.8562],[1626652800000,0.8565],[1626739200000,0.8599],[1626825600000,0.8638],[1626912000000,0.8645],[1626998400000,0.8661],[1627257600000,0.8723],[1627344000000,0.8744],[1627430400000,0.8669],[1627516800000,0.8667],[1627603200000,0.8716],[1627862400000,0.8706],[1627948800000,0.8671],[1628035200000,0.8682],[1628121600000,0.8624],[1628208000000,0.8629],[1628467200000,0.8642],[1628553600000,0.8554],[1628640000000,0.8502],[1628726400000,0.8526],[1628812800000,0.8535],[1629072000000,0.8583],[1629158400000,0.8589],[1629244800000,0.8614],[1629331200000,0.8643],[1629417600000,0.8653],[1629676800000,0.8666],[1629763200000,0.8671],[1629849600000,0.8677],[1629936000000,0.8672],[1630022400000,0.8633],[1630281600000,0.8694],[1630368000000,0.8618],[1630454400000,0.8577],[1630540800000,0.8565],[1630627200000,0.8522],[1630886400000,0.8507],[1630972800000,0.849],[1631059200000,0.8497],[1631145600000,0.8446],[1631232000000,0.8392],[1631491200000,0.8493],[1631577600000,0.848],[1631664000000,0.8501],[1631750400000,0.8517],[1631836800000,0.8554],[1632268800000,0.8599],[1632355200000,0.8587],[1632441600000,0.8508],[1632700800000,0.8392],[1632787200000,0.8384],[1632873600000,0.8341],[1632960000000,0.835],[1633651200000,0.8352],[1633910400000,0.8271],[1633996800000,0.8263],[1634083200000,0.8269],[1634169600000,0.8281],[1634256000000,0.8249],[1634515200000,0.8232],[1634601600000,0.8216],[1634688000000,0.8188],[1634774400000,0.8134],[1634860800000,0.8129],[1635120000000,0.8111],[1635206400000,0.8118],[1635292800000,0.8121],[1635379200000,0.8119],[1635465600000,0.8143],[1635724800000,0.8151],[1635811200000,0.8159],[1635897600000,0.8205],[1635984000000,0.8169],[1636070400000,0.8176],[1636329600000,0.8139],[1636416000000,0.8142],[1636502400000,0.8152],[1636588800000,0.8123],[1636675200000,0.8135],[1636934400000,0.8106],[1637020800000,0.8086],[1637107200000,0.8142],[1637193600000,0.814],[1637280000000,0.8108],[1637539200000,0.8165],[1637625600000,0.8192],[1637712000000,0.8199],[1637798400000,0.8189],[1637884800000,0.8194],[1638144000000,0.8132],[1638230400000,0.8158]],\"color\":\"#F08B55\"},{\"name\":\"2\\u5206\\u4f4d\\u6570\",\"yAxis\":0,\"data\":[[1578009600000,1.0],[1578268800000,1.0074],[1578355200000,1.0086],[1578441600000,1.0054],[1578528000000,1.0037],[1578614400000,0.9979],[1578873600000,0.9973],[1578960000000,0.997],[1579046400000,0.998],[1579132800000,1.0047],[1579219200000,1.0019],[1579478400000,1.0033],[1579564800000,1.0042],[1579651200000,1.0051],[1579737600000,1.0036],[1580688000000,1.0277],[1580774400000,1.0174],[1580860800000,1.0248],[1580947200000,1.0303],[1581033600000,1.0211],[1581292800000,1.0132],[1581379200000,1.0044],[1581465600000,1.0081],[1581552000000,1.01],[1581638400000,1.0052],[1581897600000,1.0139],[1581984000000,1.0097],[1582070400000,1.0051],[1582156800000,0.9957],[1582243200000,1.0034],[1582502400000,1.0026],[1582588800000,1.0082],[1582675200000,0.9948],[1582761600000,0.9915],[1582848000000,0.9823],[1583107200000,0.9774],[1583193600000,0.9823],[1583280000000,0.9833],[1583366400000,0.9829],[1583452800000,0.9847],[1583712000000,0.987],[1583798400000,0.9892],[1583884800000,0.9954],[1583971200000,0.9936],[1584057600000,0.9936],[1584316800000,0.9869],[1584403200000,0.9912],[1584489600000,0.991],[1584576000000,0.9972],[1584662400000,0.9932],[1584921600000,0.9925],[1585008000000,0.9883],[1585094400000,0.9887],[1585180800000,0.9852],[1585267200000,0.9838],[1585526400000,0.9897],[1585612800000,0.9853],[1585699200000,0.9822],[1585785600000,0.9814],[1585872000000,0.9796],[1586217600000,0.9827],[1586304000000,0.9831],[1586390400000,0.9812],[1586476800000,0.9788],[1586736000000,0.979],[1586822400000,0.9752],[1586908800000,0.9769],[1586995200000,0.9813],[1587081600000,0.9734],[1587340800000,0.9715],[1587427200000,0.9719],[1587513600000,0.9702],[1587600000000,0.9709],[1587686400000,0.9693],[1587945600000,0.9635],[1588032000000,0.9644],[1588118400000,0.9656],[1588204800000,0.9694],[1588723200000,0.9761],[1588809600000,0.9745],[1588896000000,0.9737],[1589155200000,0.9767],[1589241600000,0.9731],[1589328000000,0.9754],[1589414400000,0.9766],[1589500800000,0.978],[1589760000000,0.9694],[1589846400000,0.9722],[1589932800000,0.9694],[1590019200000,0.9681],[1590105600000,0.9697],[1590364800000,0.9657],[1590451200000,0.9698],[1590537600000,0.969],[1590624000000,0.969],[1590710400000,0.971],[1590969600000,0.9719],[1591056000000,0.9702],[1591142400000,0.9686],[1591228800000,0.969],[1591315200000,0.9704],[1591574400000,0.9683],[1591660800000,0.9734],[1591747200000,0.9732],[1591833600000,0.9804],[1591920000000,0.9791],[1592179200000,0.9774],[1592265600000,0.9777],[1592352000000,0.975],[1592438400000,0.9723],[1592524800000,0.9705],[1592784000000,0.973],[1592870400000,0.9708],[1592956800000,0.9715],[1593388800000,0.971],[1593475200000,0.9745],[1593561600000,0.9687],[1593648000000,0.978],[1593734400000,0.9763],[1593993600000,0.9687],[1594080000000,0.9587],[1594166400000,0.9598],[1594252800000,0.9656],[1594339200000,0.9681],[1594598400000,0.9695],[1594684800000,0.976],[1594771200000,0.9735],[1594857600000,0.9823],[1594944000000,0.9842],[1595203200000,0.9852],[1595289600000,0.9827],[1595376000000,0.9856],[1595462400000,0.983],[1595548800000,0.9802],[1595808000000,0.9795],[1595894400000,0.9789],[1595980800000,0.9759],[1596067200000,0.9812],[1596153600000,0.981],[1596412800000,0.9827],[1596499200000,0.9837],[1596585600000,0.989],[1596672000000,0.9905],[1596758400000,0.9867],[1597017600000,0.9869],[1597104000000,0.986],[1597190400000,0.9868],[1597276800000,0.9855],[1597363200000,0.9879],[1597622400000,0.9897],[1597708800000,0.9897],[1597795200000,0.9895],[1597881600000,0.993],[1597968000000,0.9917],[1598227200000,0.9883],[1598313600000,0.9827],[1598400000000,0.9836],[1598486400000,0.9876],[1598572800000,0.9842],[1598832000000,0.987],[1598918400000,0.9926],[1599004800000,0.991],[1599091200000,0.9911],[1599177600000,0.9941],[1599436800000,0.9923],[1599523200000,0.9913],[1599609600000,0.9887],[1599696000000,0.9818],[1599782400000,0.9778],[1600041600000,0.9781],[1600128000000,0.9768],[1600214400000,0.9775],[1600300800000,0.9784],[1600387200000,0.9755],[1600646400000,0.9774],[1600732800000,0.9752],[1600819200000,0.9746],[1600905600000,0.9751],[1600992000000,0.97],[1601251200000,0.9669],[1601337600000,0.9681],[1601424000000,0.9667],[1602201600000,0.9664],[1602460800000,0.9638],[1602547200000,0.9669],[1602633600000,0.9642],[1602720000000,0.9621],[1602806400000,0.96],[1603065600000,0.9613],[1603152000000,0.9636],[1603238400000,0.9579],[1603324800000,0.9543],[1603411200000,0.9519],[1603670400000,0.9544],[1603756800000,0.9549],[1603843200000,0.9576],[1603929600000,0.9554],[1604016000000,0.9536],[1604275200000,0.9484],[1604361600000,0.949],[1604448000000,0.9462],[1604534400000,0.9494],[1604620800000,0.9456],[1604880000000,0.949],[1604966400000,0.9476],[1605052800000,0.9442],[1605139200000,0.9466],[1605225600000,0.9543],[1605484800000,0.9585],[1605571200000,0.9513],[1605657600000,0.9453],[1605744000000,0.943],[1605830400000,0.9419],[1606089600000,0.9406],[1606176000000,0.9444],[1606262400000,0.944],[1606348800000,0.9459],[1606435200000,0.939],[1606694400000,0.9428],[1606780800000,0.9402],[1606867200000,0.9391],[1606953600000,0.9365],[1607040000000,0.9317],[1607299200000,0.9292],[1607385600000,0.9284],[1607472000000,0.9256],[1607558400000,0.927],[1607644800000,0.9285],[1607904000000,0.9287],[1607990400000,0.9277],[1608076800000,0.927],[1608163200000,0.9255],[1608249600000,0.9284],[1608508800000,0.931],[1608595200000,0.9226],[1608681600000,0.9196],[1608768000000,0.9149],[1608854400000,0.9162],[1609113600000,0.9102],[1609200000000,0.9066],[1609286400000,0.9041],[1609372800000,0.9065],[1609718400000,0.9126],[1609804800000,0.9139],[1609891200000,0.9057],[1609977600000,0.9013],[1610064000000,0.9095],[1610323200000,0.9075],[1610409600000,0.9049],[1610496000000,0.9022],[1610582400000,0.9035],[1610668800000,0.8992],[1610928000000,0.9035],[1611014400000,0.9034],[1611100800000,0.9039],[1611187200000,0.901],[1611273600000,0.8901],[1611532800000,0.8849],[1611619200000,0.8912],[1611705600000,0.8877],[1611792000000,0.8931],[1611878400000,0.8927],[1612137600000,0.8898],[1612224000000,0.8918],[1612310400000,0.8887],[1612396800000,0.8861],[1612483200000,0.8824],[1612742400000,0.8886],[1612828800000,0.8892],[1612915200000,0.8838],[1613606400000,0.8898],[1613692800000,0.8916],[1613952000000,0.9018],[1614038400000,0.9028],[1614124800000,0.9101],[1614211200000,0.9116],[1614297600000,0.9165],[1614556800000,0.9249],[1614643200000,0.9293],[1614729600000,0.9281],[1614816000000,0.9369],[1614902400000,0.939],[1615161600000,0.95],[1615248000000,0.9459],[1615334400000,0.9368],[1615420800000,0.9349],[1615507200000,0.9354],[1615766400000,0.937],[1615852800000,0.9377],[1615939200000,0.9393],[1616025600000,0.9385],[1616112000000,0.9463],[1616371200000,0.9508],[1616457600000,0.9505],[1616544000000,0.9514],[1616630400000,0.9517],[1616716800000,0.9532],[1616976000000,0.9561],[1617062400000,0.9507],[1617148800000,0.9539],[1617235200000,0.9509],[1617321600000,0.9478],[1617667200000,0.9493],[1617753600000,0.9512],[1617840000000,0.9515],[1617926400000,0.9539],[1618185600000,0.9501],[1618272000000,0.9552],[1618358400000,0.9574],[1618444800000,0.9622],[1618531200000,0.9594],[1618790400000,0.9591],[1618876800000,0.9549],[1618963200000,0.9521],[1619049600000,0.9571],[1619136000000,0.9491],[1619395200000,0.9513],[1619481600000,0.9475],[1619568000000,0.9421],[1619654400000,0.9407],[1619740800000,0.935],[1620259200000,0.9402],[1620345600000,0.9398],[1620604800000,0.94],[1620691200000,0.9361],[1620777600000,0.9352],[1620864000000,0.9402],[1620950400000,0.9368],[1621209600000,0.9372],[1621296000000,0.9383],[1621382400000,0.9388],[1621468800000,0.9429],[1621555200000,0.9417],[1621814400000,0.9458],[1621900800000,0.9428],[1621987200000,0.9381],[1622073600000,0.9389],[1622160000000,0.9383],[1622419200000,0.9361],[1622505600000,0.9363],[1622592000000,0.9327],[1622678400000,0.9357],[1622764800000,0.9346],[1623024000000,0.9346],[1623110400000,0.9348],[1623196800000,0.9344],[1623283200000,0.9279],[1623369600000,0.931],[1623715200000,0.9296],[1623801600000,0.9328],[1623888000000,0.9367],[1623974400000,0.9368],[1624233600000,0.9419],[1624320000000,0.9388],[1624406400000,0.9362],[1624492800000,0.9333],[1624579200000,0.9322],[1624838400000,0.9284],[1624924800000,0.9294],[1625011200000,0.9321],[1625097600000,0.9246],[1625184000000,0.9328],[1625443200000,0.9354],[1625529600000,0.9346],[1625616000000,0.9306],[1625702400000,0.9276],[1625788800000,0.9278],[1626048000000,0.9235],[1626134400000,0.9251],[1626220800000,0.9217],[1626307200000,0.9132],[1626393600000,0.9224],[1626652800000,0.9193],[1626739200000,0.9163],[1626825600000,0.9122],[1626912000000,0.9121],[1626998400000,0.913],[1627257600000,0.9246],[1627344000000,0.929],[1627430400000,0.9202],[1627516800000,0.9207],[1627603200000,0.9196],[1627862400000,0.9158],[1627948800000,0.9196],[1628035200000,0.915],[1628121600000,0.915],[1628208000000,0.9106],[1628467200000,0.9167],[1628553600000,0.9149],[1628640000000,0.917],[1628726400000,0.9222],[1628812800000,0.92],[1629072000000,0.9251],[1629158400000,0.9328],[1629244800000,0.9311],[1629331200000,0.9341],[1629417600000,0.9376],[1629676800000,0.94],[1629763200000,0.9382],[1629849600000,0.9373],[1629936000000,0.9398],[1630022400000,0.9367],[1630281600000,0.9386],[1630368000000,0.9459],[1630454400000,0.9425],[1630540800000,0.9393],[1630627200000,0.9446],[1630886400000,0.9426],[1630972800000,0.9379],[1631059200000,0.9373],[1631145600000,0.9335],[1631232000000,0.9244],[1631491200000,0.9262],[1631577600000,0.9227],[1631664000000,0.9226],[1631750400000,0.9228],[1631836800000,0.9232],[1632268800000,0.9255],[1632355200000,0.9292],[1632441600000,0.9234],[1632700800000,0.9085],[1632787200000,0.9081],[1632873600000,0.9083],[1632960000000,0.9097],[1633651200000,0.9109],[1633910400000,0.9106],[1633996800000,0.9106],[1634083200000,0.8998],[1634169600000,0.9025],[1634256000000,0.9013],[1634515200000,0.9057],[1634601600000,0.902],[1634688000000,0.8979],[1634774400000,0.9008],[1634860800000,0.8972],[1635120000000,0.8972],[1635206400000,0.8961],[1635292800000,0.8997],[1635379200000,0.8981],[1635465600000,0.9061],[1635724800000,0.907],[1635811200000,0.907],[1635897600000,0.9089],[1635984000000,0.9107],[1636070400000,0.9088],[1636329600000,0.9098],[1636416000000,0.9117],[1636502400000,0.9152],[1636588800000,0.9106],[1636675200000,0.9065],[1636934400000,0.9097],[1637020800000,0.9072],[1637107200000,0.909],[1637193600000,0.9065],[1637280000000,0.9113],[1637539200000,0.9088],[1637625600000,0.9101],[1637712000000,0.9114],[1637798400000,0.9144],[1637884800000,0.9149],[1638144000000,0.9163],[1638230400000,0.9226]],\"color\":\"#648FD5\"},{\"name\":\"3\\u5206\\u4f4d\\u6570\",\"yAxis\":0,\"data\":[[1578009600000,1.0],[1578268800000,1.0078],[1578355200000,1.0095],[1578441600000,1.0084],[1578528000000,1.004],[1578614400000,1.0007],[1578873600000,0.9978],[1578960000000,0.9987],[1579046400000,0.9983],[1579132800000,1.0011],[1579219200000,1.004],[1579478400000,1.0025],[1579564800000,1.0021],[1579651200000,1.0052],[1579737600000,1.003],[1580688000000,1.0257],[1580774400000,1.0348],[1580860800000,1.0331],[1580947200000,1.0255],[1581033600000,1.0236],[1581292800000,1.0351],[1581379200000,1.0298],[1581465600000,1.0275],[1581552000000,1.0253],[1581638400000,1.0265],[1581897600000,1.028],[1581984000000,1.0251],[1582070400000,1.0219],[1582156800000,1.0154],[1582243200000,1.0124],[1582502400000,1.0044],[1582588800000,0.9987],[1582675200000,0.9991],[1582761600000,1.0008],[1582848000000,1.0048],[1583107200000,1.0107],[1583193600000,1.0064],[1583280000000,1.0111],[1583366400000,1.0086],[1583452800000,1.0094],[1583712000000,1.0093],[1583798400000,1.0077],[1583884800000,1.0081],[1583971200000,1.0092],[1584057600000,1.0109],[1584316800000,1.0179],[1584403200000,1.0216],[1584489600000,1.0238],[1584576000000,1.0254],[1584662400000,1.0251],[1584921600000,1.0186],[1585008000000,1.0169],[1585094400000,1.0177],[1585180800000,1.0167],[1585267200000,1.0155],[1585526400000,1.0125],[1585612800000,1.0103],[1585699200000,1.0084],[1585785600000,1.0118],[1585872000000,1.0113],[1586217600000,1.0099],[1586304000000,1.0151],[1586390400000,1.0199],[1586476800000,1.0079],[1586736000000,1.0055],[1586822400000,1.0118],[1586908800000,1.0117],[1586995200000,1.0141],[1587081600000,1.013],[1587340800000,1.0115],[1587427200000,1.0125],[1587513600000,1.0096],[1587600000000,1.0106],[1587686400000,1.0076],[1587945600000,1.0041],[1588032000000,0.9997],[1588118400000,0.9947],[1588204800000,1.0005],[1588723200000,1.0055],[1588809600000,1.0069],[1588896000000,1.0053],[1589155200000,1.0099],[1589241600000,1.0086],[1589328000000,1.0083],[1589414400000,1.0075],[1589500800000,1.0052],[1589760000000,1.002],[1589846400000,1.0044],[1589932800000,1.0049],[1590019200000,1.0043],[1590105600000,1.0071],[1590364800000,1.0052],[1590451200000,1.0078],[1590537600000,1.0102],[1590624000000,1.0069],[1590710400000,1.0136],[1590969600000,1.0107],[1591056000000,1.0084],[1591142400000,1.0065],[1591228800000,1.0012],[1591315200000,1.0005],[1591574400000,1.0023],[1591660800000,1.0028],[1591747200000,1.0035],[1591833600000,1.007],[1591920000000,1.0067],[1592179200000,1.0144],[1592265600000,1.0155],[1592352000000,1.0133],[1592438400000,1.0143],[1592524800000,1.0138],[1592784000000,1.0106],[1592870400000,1.014],[1592956800000,1.0085],[1593388800000,1.0024],[1593475200000,1.002],[1593561600000,0.9966],[1593648000000,0.996],[1593734400000,0.9941],[1593993600000,0.9811],[1594080000000,0.9748],[1594166400000,0.9706],[1594252800000,0.974],[1594339200000,0.9777],[1594598400000,0.9798],[1594684800000,0.9768],[1594771200000,0.9679],[1594857600000,0.969],[1594944000000,0.9584],[1595203200000,0.9625],[1595289600000,0.9617],[1595376000000,0.9613],[1595462400000,0.9602],[1595548800000,0.9613],[1595808000000,0.9658],[1595894400000,0.963],[1595980800000,0.9615],[1596067200000,0.9591],[1596153600000,0.9533],[1596412800000,0.9588],[1596499200000,0.9605],[1596585600000,0.9607],[1596672000000,0.9651],[1596758400000,0.9667],[1597017600000,0.9723],[1597104000000,0.9646],[1597190400000,0.9627],[1597276800000,0.967],[1597363200000,0.9674],[1597622400000,0.9683],[1597708800000,0.9691],[1597795200000,0.9692],[1597881600000,0.9704],[1597968000000,0.9708],[1598227200000,0.9674],[1598313600000,0.9636],[1598400000000,0.9566],[1598486400000,0.9553],[1598572800000,0.9533],[1598832000000,0.9561],[1598918400000,0.9549],[1599004800000,0.9533],[1599091200000,0.9512],[1599177600000,0.9479],[1599436800000,0.9474],[1599523200000,0.9395],[1599609600000,0.939],[1599696000000,0.9306],[1599782400000,0.9299],[1600041600000,0.9326],[1600128000000,0.9294],[1600214400000,0.9345],[1600300800000,0.9413],[1600387200000,0.9377],[1600646400000,0.9398],[1600732800000,0.9343],[1600819200000,0.9346],[1600905600000,0.9295],[1600992000000,0.9313],[1601251200000,0.9267],[1601337600000,0.9303],[1601424000000,0.9258],[1602201600000,0.9264],[1602460800000,0.9189],[1602547200000,0.9252],[1602633600000,0.9204],[1602720000000,0.9231],[1602806400000,0.9201],[1603065600000,0.9195],[1603152000000,0.92],[1603238400000,0.9175],[1603324800000,0.9151],[1603411200000,0.9169],[1603670400000,0.9147],[1603756800000,0.915],[1603843200000,0.9087],[1603929600000,0.9097],[1604016000000,0.9114],[1604275200000,0.9102],[1604361600000,0.9126],[1604448000000,0.9133],[1604534400000,0.9134],[1604620800000,0.9139],[1604880000000,0.9141],[1604966400000,0.9141],[1605052800000,0.9109],[1605139200000,0.9101],[1605225600000,0.9143],[1605484800000,0.9194],[1605571200000,0.9209],[1605657600000,0.9261],[1605744000000,0.9227],[1605830400000,0.9292],[1606089600000,0.9309],[1606176000000,0.9325],[1606262400000,0.9359],[1606348800000,0.9377],[1606435200000,0.936],[1606694400000,0.938],[1606780800000,0.9341],[1606867200000,0.933],[1606953600000,0.9346],[1607040000000,0.9363],[1607299200000,0.9377],[1607385600000,0.9399],[1607472000000,0.9392],[1607558400000,0.9388],[1607644800000,0.9391],[1607904000000,0.9424],[1607990400000,0.9434],[1608076800000,0.9342],[1608163200000,0.9263],[1608249600000,0.9248],[1608508800000,0.9243],[1608595200000,0.9219],[1608681600000,0.9198],[1608768000000,0.9151],[1608854400000,0.9149],[1609113600000,0.9084],[1609200000000,0.9069],[1609286400000,0.9033],[1609372800000,0.9055],[1609718400000,0.909],[1609804800000,0.9053],[1609891200000,0.8967],[1609977600000,0.8912],[1610064000000,0.8936],[1610323200000,0.8879],[1610409600000,0.8795],[1610496000000,0.8771],[1610582400000,0.8805],[1610668800000,0.8783],[1610928000000,0.877],[1611014400000,0.8786],[1611100800000,0.8747],[1611187200000,0.8685],[1611273600000,0.8657],[1611532800000,0.855],[1611619200000,0.8607],[1611705600000,0.8605],[1611792000000,0.8626],[1611878400000,0.8578],[1612137600000,0.8655],[1612224000000,0.8653],[1612310400000,0.8647],[1612396800000,0.8548],[1612483200000,0.8498],[1612742400000,0.8528],[1612828800000,0.8503],[1612915200000,0.842],[1613606400000,0.8485],[1613692800000,0.8399],[1613952000000,0.8398],[1614038400000,0.8306],[1614124800000,0.8317],[1614211200000,0.8224],[1614297600000,0.8208],[1614556800000,0.8171],[1614643200000,0.8179],[1614729600000,0.8129],[1614816000000,0.8167],[1614902400000,0.825],[1615161600000,0.8307],[1615248000000,0.8332],[1615334400000,0.8287],[1615420800000,0.8244],[1615507200000,0.826],[1615766400000,0.8293],[1615852800000,0.829],[1615939200000,0.8324],[1616025600000,0.8265],[1616112000000,0.8359],[1616371200000,0.8386],[1616457600000,0.838],[1616544000000,0.8362],[1616630400000,0.8391],[1616716800000,0.8359],[1616976000000,0.8371],[1617062400000,0.8337],[1617148800000,0.8343],[1617235200000,0.8318],[1617321600000,0.8259],[1617667200000,0.8283],[1617753600000,0.8356],[1617840000000,0.8349],[1617926400000,0.8406],[1618185600000,0.8405],[1618272000000,0.8407],[1618358400000,0.8416],[1618444800000,0.8418],[1618531200000,0.8441],[1618790400000,0.843],[1618876800000,0.8449],[1618963200000,0.8426],[1619049600000,0.8415],[1619136000000,0.8351],[1619395200000,0.8351],[1619481600000,0.8349],[1619568000000,0.8359],[1619654400000,0.8318],[1619740800000,0.8303],[1620259200000,0.836],[1620345600000,0.8395],[1620604800000,0.8439],[1620691200000,0.8386],[1620777600000,0.8369],[1620864000000,0.8315],[1620950400000,0.8276],[1621209600000,0.8249],[1621296000000,0.8261],[1621382400000,0.8298],[1621468800000,0.8285],[1621555200000,0.8266],[1621814400000,0.8287],[1621900800000,0.8227],[1621987200000,0.8292],[1622073600000,0.8331],[1622160000000,0.8351],[1622419200000,0.8363],[1622505600000,0.8342],[1622592000000,0.8322],[1622678400000,0.8342],[1622764800000,0.8362],[1623024000000,0.8425],[1623110400000,0.8472],[1623196800000,0.843],[1623283200000,0.8391],[1623369600000,0.8349],[1623715200000,0.8394],[1623801600000,0.8419],[1623888000000,0.8418],[1623974400000,0.8425],[1624233600000,0.8442],[1624320000000,0.842],[1624406400000,0.8397],[1624492800000,0.8396],[1624579200000,0.8386],[1624838400000,0.8422],[1624924800000,0.8412],[1625011200000,0.844],[1625097600000,0.8444],[1625184000000,0.8486],[1625443200000,0.8515],[1625529600000,0.8492],[1625616000000,0.8471],[1625702400000,0.852],[1625788800000,0.854],[1626048000000,0.8485],[1626134400000,0.8485],[1626220800000,0.841],[1626307200000,0.8348],[1626393600000,0.841],[1626652800000,0.8364],[1626739200000,0.8391],[1626825600000,0.8359],[1626912000000,0.8375],[1626998400000,0.8428],[1627257600000,0.8503],[1627344000000,0.8542],[1627430400000,0.848],[1627516800000,0.8461],[1627603200000,0.8501],[1627862400000,0.8495],[1627948800000,0.8552],[1628035200000,0.8559],[1628121600000,0.8524],[1628208000000,0.8528],[1628467200000,0.8537],[1628553600000,0.8511],[1628640000000,0.8524],[1628726400000,0.8549],[1628812800000,0.8555],[1629072000000,0.8597],[1629158400000,0.8617],[1629244800000,0.8618],[1629331200000,0.8633],[1629417600000,0.8737],[1629676800000,0.8745],[1629763200000,0.8687],[1629849600000,0.8649],[1629936000000,0.8665],[1630022400000,0.8593],[1630281600000,0.8517],[1630368000000,0.8588],[1630454400000,0.8604],[1630540800000,0.8589],[1630627200000,0.8513],[1630886400000,0.848],[1630972800000,0.8512],[1631059200000,0.8524],[1631145600000,0.8572],[1631232000000,0.8547],[1631491200000,0.8479],[1631577600000,0.8428],[1631664000000,0.8453],[1631750400000,0.8435],[1631836800000,0.8409],[1632268800000,0.8466],[1632355200000,0.8516],[1632441600000,0.8474],[1632700800000,0.8351],[1632787200000,0.8409],[1632873600000,0.8308],[1632960000000,0.8328],[1633651200000,0.8317],[1633910400000,0.8343],[1633996800000,0.8296],[1634083200000,0.8271],[1634169600000,0.8271],[1634256000000,0.8263],[1634515200000,0.8378],[1634601600000,0.8372],[1634688000000,0.8372],[1634774400000,0.8361],[1634860800000,0.8283],[1635120000000,0.8312],[1635206400000,0.835],[1635292800000,0.8283],[1635379200000,0.8244],[1635465600000,0.8263],[1635724800000,0.829],[1635811200000,0.8284],[1635897600000,0.8375],[1635984000000,0.8315],[1636070400000,0.8229],[1636329600000,0.8201],[1636416000000,0.8205],[1636502400000,0.8211],[1636588800000,0.8174],[1636675200000,0.8184],[1636934400000,0.8211],[1637020800000,0.8202],[1637107200000,0.8223],[1637193600000,0.8212],[1637280000000,0.8213],[1637539200000,0.8193],[1637625600000,0.8196],[1637712000000,0.8162],[1637798400000,0.8156],[1637884800000,0.8151],[1638144000000,0.8133],[1638230400000,0.8145]],\"color\":\"#E06681\"},{\"name\":\"4\\u5206\\u4f4d\\u6570\",\"yAxis\":0,\"data\":[[1578009600000,1.0],[1578268800000,1.0023],[1578355200000,1.0061],[1578441600000,1.0043],[1578528000000,1.0105],[1578614400000,1.0124],[1578873600000,1.0157],[1578960000000,1.0153],[1579046400000,1.0163],[1579132800000,1.0156],[1579219200000,1.0175],[1579478400000,1.0211],[1579564800000,1.0216],[1579651200000,1.0305],[1579737600000,1.0295],[1580688000000,1.0364],[1580774400000,1.0456],[1580860800000,1.0479],[1580947200000,1.044],[1581033600000,1.0476],[1581292800000,1.0439],[1581379200000,1.0418],[1581465600000,1.0412],[1581552000000,1.0409],[1581638400000,1.0434],[1581897600000,1.0392],[1581984000000,1.0429],[1582070400000,1.041],[1582156800000,1.0309],[1582243200000,1.0416],[1582502400000,1.0503],[1582588800000,1.045],[1582675200000,1.0498],[1582761600000,1.048],[1582848000000,1.0553],[1583107200000,1.0507],[1583193600000,1.0529],[1583280000000,1.0505],[1583366400000,1.0484],[1583452800000,1.0477],[1583712000000,1.0439],[1583798400000,1.0425],[1583884800000,1.041],[1583971200000,1.0413],[1584057600000,1.0419],[1584316800000,1.0488],[1584403200000,1.0507],[1584489600000,1.0512],[1584576000000,1.0584],[1584662400000,1.0595],[1584921600000,1.0598],[1585008000000,1.0616],[1585094400000,1.0661],[1585180800000,1.0603],[1585267200000,1.064],[1585526400000,1.0619],[1585612800000,1.0575],[1585699200000,1.0592],[1585785600000,1.0625],[1585872000000,1.0575],[1586217600000,1.0591],[1586304000000,1.0613],[1586390400000,1.0611],[1586476800000,1.0493],[1586736000000,1.0469],[1586822400000,1.051],[1586908800000,1.0467],[1586995200000,1.0449],[1587081600000,1.0423],[1587340800000,1.0444],[1587427200000,1.0441],[1587513600000,1.0429],[1587600000000,1.0417],[1587686400000,1.0403],[1587945600000,1.0377],[1588032000000,1.0339],[1588118400000,1.0299],[1588204800000,1.0429],[1588723200000,1.0464],[1588809600000,1.0469],[1588896000000,1.0517],[1589155200000,1.0513],[1589241600000,1.0533],[1589328000000,1.0563],[1589414400000,1.055],[1589500800000,1.0561],[1589760000000,1.0553],[1589846400000,1.0536],[1589932800000,1.0514],[1590019200000,1.0447],[1590105600000,1.0501],[1590364800000,1.0457],[1590451200000,1.0463],[1590537600000,1.0475],[1590624000000,1.0488],[1590710400000,1.0481],[1590969600000,1.0504],[1591056000000,1.0504],[1591142400000,1.0479],[1591228800000,1.0415],[1591315200000,1.0363],[1591574400000,1.0338],[1591660800000,1.0299],[1591747200000,1.0267],[1591833600000,1.0311],[1591920000000,1.0279],[1592179200000,1.0323],[1592265600000,1.0312],[1592352000000,1.0318],[1592438400000,1.0328],[1592524800000,1.0319],[1592784000000,1.034],[1592870400000,1.0334],[1592956800000,1.0355],[1593388800000,1.0341],[1593475200000,1.0371],[1593561600000,1.0281],[1593648000000,1.0276],[1593734400000,1.0231],[1593993600000,1.0126],[1594080000000,1.0066],[1594166400000,1.0098],[1594252800000,1.0079],[1594339200000,1.0149],[1594598400000,1.0117],[1594684800000,1.0181],[1594771200000,1.0171],[1594857600000,1.0195],[1594944000000,1.0144],[1595203200000,1.0179],[1595289600000,1.014],[1595376000000,1.0148],[1595462400000,1.0088],[1595548800000,1.012],[1595808000000,1.0066],[1595894400000,1.0068],[1595980800000,1.008],[1596067200000,1.0034],[1596153600000,1.0026],[1596412800000,1.0089],[1596499200000,1.0082],[1596585600000,1.0063],[1596672000000,1.009],[1596758400000,1.0033],[1597017600000,1.0064],[1597104000000,1.0058],[1597190400000,1.0088],[1597276800000,1.0119],[1597363200000,1.0089],[1597622400000,1.0053],[1597708800000,1.0028],[1597795200000,1.004],[1597881600000,1.003],[1597968000000,0.9971],[1598227200000,0.9901],[1598313600000,0.9858],[1598400000000,0.9815],[1598486400000,0.9857],[1598572800000,0.9851],[1598832000000,0.9831],[1598918400000,0.9866],[1599004800000,0.9832],[1599091200000,0.9873],[1599177600000,0.9895],[1599436800000,0.9878],[1599523200000,0.988],[1599609600000,0.9872],[1599696000000,0.9846],[1599782400000,0.9809],[1600041600000,0.976],[1600128000000,0.9761],[1600214400000,0.9778],[1600300800000,0.982],[1600387200000,0.9842],[1600646400000,0.9888],[1600732800000,0.9819],[1600819200000,0.9792],[1600905600000,0.9772],[1600992000000,0.9753],[1601251200000,0.9718],[1601337600000,0.9777],[1601424000000,0.9766],[1602201600000,0.9805],[1602460800000,0.9793],[1602547200000,0.976],[1602633600000,0.9713],[1602720000000,0.9698],[1602806400000,0.9687],[1603065600000,0.9682],[1603152000000,0.9679],[1603238400000,0.9644],[1603324800000,0.9644],[1603411200000,0.963],[1603670400000,0.9625],[1603756800000,0.9655],[1603843200000,0.9601],[1603929600000,0.9542],[1604016000000,0.9551],[1604275200000,0.9417],[1604361600000,0.9493],[1604448000000,0.9439],[1604534400000,0.9455],[1604620800000,0.9455],[1604880000000,0.949],[1604966400000,0.9458],[1605052800000,0.9481],[1605139200000,0.9518],[1605225600000,0.9561],[1605484800000,0.9502],[1605571200000,0.9467],[1605657600000,0.9454],[1605744000000,0.9395],[1605830400000,0.9402],[1606089600000,0.9359],[1606176000000,0.9378],[1606262400000,0.9329],[1606348800000,0.9337],[1606435200000,0.9359],[1606694400000,0.9424],[1606780800000,0.938],[1606867200000,0.9369],[1606953600000,0.9369],[1607040000000,0.9326],[1607299200000,0.933],[1607385600000,0.9333],[1607472000000,0.9287],[1607558400000,0.9281],[1607644800000,0.9279],[1607904000000,0.9251],[1607990400000,0.9254],[1608076800000,0.9216],[1608163200000,0.9228],[1608249600000,0.9218],[1608508800000,0.9187],[1608595200000,0.9132],[1608681600000,0.9128],[1608768000000,0.9114],[1608854400000,0.9171],[1609113600000,0.9127],[1609200000000,0.9142],[1609286400000,0.9094],[1609372800000,0.9111],[1609718400000,0.912],[1609804800000,0.9021],[1609891200000,0.9006],[1609977600000,0.891],[1610064000000,0.8973],[1610323200000,0.8937],[1610409600000,0.8892],[1610496000000,0.8908],[1610582400000,0.9029],[1610668800000,0.9032],[1610928000000,0.9033],[1611014400000,0.907],[1611100800000,0.9044],[1611187200000,0.8989],[1611273600000,0.9023],[1611532800000,0.8947],[1611619200000,0.8959],[1611705600000,0.8936],[1611792000000,0.8937],[1611878400000,0.8932],[1612137600000,0.8931],[1612224000000,0.8905],[1612310400000,0.8851],[1612396800000,0.8761],[1612483200000,0.8679],[1612742400000,0.8639],[1612828800000,0.8653],[1612915200000,0.8542],[1613606400000,0.8657],[1613692800000,0.8715],[1613952000000,0.8868],[1614038400000,0.8829],[1614124800000,0.8893],[1614211200000,0.8858],[1614297600000,0.8865],[1614556800000,0.8853],[1614643200000,0.8883],[1614729600000,0.8796],[1614816000000,0.8819],[1614902400000,0.8848],[1615161600000,0.8879],[1615248000000,0.8885],[1615334400000,0.886],[1615420800000,0.8849],[1615507200000,0.8857],[1615766400000,0.8885],[1615852800000,0.8903],[1615939200000,0.8867],[1616025600000,0.887],[1616112000000,0.8913],[1616371200000,0.8906],[1616457600000,0.8903],[1616544000000,0.8857],[1616630400000,0.8965],[1616716800000,0.8946],[1616976000000,0.8908],[1617062400000,0.8878],[1617148800000,0.888],[1617235200000,0.8846],[1617321600000,0.8818],[1617667200000,0.8833],[1617753600000,0.8928],[1617840000000,0.8874],[1617926400000,0.8917],[1618185600000,0.8958],[1618272000000,0.8962],[1618358400000,0.896],[1618444800000,0.8964],[1618531200000,0.897],[1618790400000,0.8975],[1618876800000,0.8933],[1618963200000,0.8899],[1619049600000,0.8916],[1619136000000,0.8886],[1619395200000,0.8898],[1619481600000,0.886],[1619568000000,0.8892],[1619654400000,0.8835],[1619740800000,0.8804],[1620259200000,0.8851],[1620345600000,0.89],[1620604800000,0.8892],[1620691200000,0.8887],[1620777600000,0.8925],[1620864000000,0.8934],[1620950400000,0.8911],[1621209600000,0.8889],[1621296000000,0.8899],[1621382400000,0.8883],[1621468800000,0.888],[1621555200000,0.8894],[1621814400000,0.8877],[1621900800000,0.8819],[1621987200000,0.8837],[1622073600000,0.8909],[1622160000000,0.8881],[1622419200000,0.8877],[1622505600000,0.893],[1622592000000,0.8913],[1622678400000,0.8912],[1622764800000,0.8913],[1623024000000,0.8893],[1623110400000,0.8884],[1623196800000,0.8889],[1623283200000,0.8837],[1623369600000,0.8816],[1623715200000,0.8781],[1623801600000,0.889],[1623888000000,0.8879],[1623974400000,0.8925],[1624233600000,0.8937],[1624320000000,0.8941],[1624406400000,0.8975],[1624492800000,0.8919],[1624579200000,0.8887],[1624838400000,0.8895],[1624924800000,0.8868],[1625011200000,0.8851],[1625097600000,0.8782],[1625184000000,0.8806],[1625443200000,0.8837],[1625529600000,0.8777],[1625616000000,0.8833],[1625702400000,0.8902],[1625788800000,0.894],[1626048000000,0.8975],[1626134400000,0.9001],[1626220800000,0.9059],[1626307200000,0.8939],[1626393600000,0.8928],[1626652800000,0.8911],[1626739200000,0.8917],[1626825600000,0.8922],[1626912000000,0.8921],[1626998400000,0.8903],[1627257600000,0.8938],[1627344000000,0.8987],[1627430400000,0.892],[1627516800000,0.8959],[1627603200000,0.898],[1627862400000,0.9038],[1627948800000,0.9053],[1628035200000,0.8909],[1628121600000,0.8922],[1628208000000,0.8919],[1628467200000,0.8916],[1628553600000,0.8902],[1628640000000,0.8913],[1628726400000,0.8897],[1628812800000,0.889],[1629072000000,0.8926],[1629158400000,0.8908],[1629244800000,0.8835],[1629331200000,0.888],[1629417600000,0.8928],[1629676800000,0.8935],[1629763200000,0.8904],[1629849600000,0.8887],[1629936000000,0.891],[1630022400000,0.8794],[1630281600000,0.8775],[1630368000000,0.8827],[1630454400000,0.8885],[1630540800000,0.8877],[1630627200000,0.8891],[1630886400000,0.8916],[1630972800000,0.8892],[1631059200000,0.8969],[1631145600000,0.8966],[1631232000000,0.8923],[1631491200000,0.8894],[1631577600000,0.8902],[1631664000000,0.8881],[1631750400000,0.8842],[1631836800000,0.8821],[1632268800000,0.8826],[1632355200000,0.8862],[1632441600000,0.8835],[1632700800000,0.8777],[1632787200000,0.8835],[1632873600000,0.8806],[1632960000000,0.879],[1633651200000,0.8807],[1633910400000,0.8781],[1633996800000,0.8713],[1634083200000,0.8649],[1634169600000,0.8657],[1634256000000,0.8585],[1634515200000,0.8649],[1634601600000,0.8636],[1634688000000,0.8607],[1634774400000,0.8552],[1634860800000,0.8519],[1635120000000,0.8529],[1635206400000,0.8529],[1635292800000,0.8562],[1635379200000,0.8523],[1635465600000,0.8543],[1635724800000,0.8543],[1635811200000,0.8534],[1635897600000,0.8609],[1635984000000,0.8569],[1636070400000,0.854],[1636329600000,0.8501],[1636416000000,0.8549],[1636502400000,0.8596],[1636588800000,0.858],[1636675200000,0.8617],[1636934400000,0.869],[1637020800000,0.8651],[1637107200000,0.8637],[1637193600000,0.865],[1637280000000,0.8661],[1637539200000,0.8624],[1637625600000,0.861],[1637712000000,0.8587],[1637798400000,0.8601],[1637884800000,0.8567],[1638144000000,0.8507],[1638230400000,0.8538]],\"color\":\"#E2D269\"},{\"name\":\"5\\u5206\\u4f4d\\u6570\",\"yAxis\":0,\"data\":[[1578009600000,1.0],[1578268800000,0.9968],[1578355200000,1.001],[1578441600000,0.9953],[1578528000000,1.0],[1578614400000,1.0021],[1578873600000,0.9991],[1578960000000,1.0013],[1579046400000,1.0013],[1579132800000,1.0006],[1579219200000,1.007],[1579478400000,1.0068],[1579564800000,1.0106],[1579651200000,1.008],[1579737600000,1.0093],[1580688000000,1.0226],[1580774400000,1.0425],[1580860800000,1.0451],[1580947200000,1.0426],[1581033600000,1.0465],[1581292800000,1.0454],[1581379200000,1.0459],[1581465600000,1.0455],[1581552000000,1.0436],[1581638400000,1.0413],[1581897600000,1.0423],[1581984000000,1.0466],[1582070400000,1.0419],[1582156800000,1.0338],[1582243200000,1.031],[1582502400000,1.0295],[1582588800000,1.0268],[1582675200000,1.03],[1582761600000,1.0289],[1582848000000,1.0334],[1583107200000,1.0307],[1583193600000,1.0319],[1583280000000,1.0336],[1583366400000,1.0295],[1583452800000,1.0338],[1583712000000,1.0254],[1583798400000,1.0237],[1583884800000,1.0227],[1583971200000,1.0224],[1584057600000,1.0229],[1584316800000,1.0248],[1584403200000,1.0204],[1584489600000,1.0216],[1584576000000,1.0262],[1584662400000,1.0192],[1584921600000,1.0153],[1585008000000,1.0119],[1585094400000,1.0164],[1585180800000,1.0136],[1585267200000,1.0151],[1585526400000,1.0086],[1585612800000,1.0084],[1585699200000,1.0069],[1585785600000,1.0104],[1585872000000,1.0074],[1586217600000,1.0126],[1586304000000,1.0179],[1586390400000,1.025],[1586476800000,1.0199],[1586736000000,1.0171],[1586822400000,1.0205],[1586908800000,1.029],[1586995200000,1.0303],[1587081600000,1.0267],[1587340800000,1.0256],[1587427200000,1.0268],[1587513600000,1.0298],[1587600000000,1.0312],[1587686400000,1.0264],[1587945600000,1.0211],[1588032000000,1.0073],[1588118400000,1.0092],[1588204800000,1.0223],[1588723200000,1.0323],[1588809600000,1.0321],[1588896000000,1.0378],[1589155200000,1.0369],[1589241600000,1.0342],[1589328000000,1.034],[1589414400000,1.0337],[1589500800000,1.0365],[1589760000000,1.0387],[1589846400000,1.0362],[1589932800000,1.0311],[1590019200000,1.0273],[1590105600000,1.0332],[1590364800000,1.0275],[1590451200000,1.0368],[1590537600000,1.0346],[1590624000000,1.0302],[1590710400000,1.0344],[1590969600000,1.0411],[1591056000000,1.0399],[1591142400000,1.0439],[1591228800000,1.0458],[1591315200000,1.0512],[1591574400000,1.0469],[1591660800000,1.0559],[1591747200000,1.0632],[1591833600000,1.0658],[1591920000000,1.0641],[1592179200000,1.0698],[1592265600000,1.0711],[1592352000000,1.0739],[1592438400000,1.0726],[1592524800000,1.0681],[1592784000000,1.0671],[1592870400000,1.0646],[1592956800000,1.0677],[1593388800000,1.0634],[1593475200000,1.0631],[1593561600000,1.0611],[1593648000000,1.0639],[1593734400000,1.0625],[1593993600000,1.0519],[1594080000000,1.0478],[1594166400000,1.0521],[1594252800000,1.0563],[1594339200000,1.068],[1594598400000,1.0687],[1594684800000,1.0645],[1594771200000,1.0645],[1594857600000,1.0683],[1594944000000,1.0616],[1595203200000,1.0673],[1595289600000,1.066],[1595376000000,1.0672],[1595462400000,1.0623],[1595548800000,1.0623],[1595808000000,1.0549],[1595894400000,1.0531],[1595980800000,1.0545],[1596067200000,1.0509],[1596153600000,1.0456],[1596412800000,1.0452],[1596499200000,1.0424],[1596585600000,1.0475],[1596672000000,1.0547],[1596758400000,1.0538],[1597017600000,1.0557],[1597104000000,1.05],[1597190400000,1.0482],[1597276800000,1.0487],[1597363200000,1.0472],[1597622400000,1.0449],[1597708800000,1.044],[1597795200000,1.0422],[1597881600000,1.0377],[1597968000000,1.0444],[1598227200000,1.0494],[1598313600000,1.0386],[1598400000000,1.0278],[1598486400000,1.027],[1598572800000,1.0205],[1598832000000,1.0164],[1598918400000,1.0135],[1599004800000,1.0114],[1599091200000,1.0133],[1599177600000,1.0205],[1599436800000,1.0203],[1599523200000,1.0201],[1599609600000,1.0072],[1599696000000,1.0038],[1599782400000,1.0081],[1600041600000,1.0075],[1600128000000,1.0079],[1600214400000,1.0096],[1600300800000,1.0156],[1600387200000,1.0165],[1600646400000,1.0208],[1600732800000,1.0189],[1600819200000,1.0151],[1600905600000,1.014],[1600992000000,1.0156],[1601251200000,1.0112],[1601337600000,1.0164],[1601424000000,1.017],[1602201600000,1.0144],[1602460800000,1.0152],[1602547200000,1.0159],[1602633600000,1.0144],[1602720000000,1.0111],[1602806400000,1.0119],[1603065600000,1.0096],[1603152000000,1.002],[1603238400000,0.9984],[1603324800000,0.9984],[1603411200000,0.9905],[1603670400000,0.9977],[1603756800000,1.0026],[1603843200000,1.0054],[1603929600000,0.9997],[1604016000000,0.9994],[1604275200000,0.9999],[1604361600000,1.0031],[1604448000000,0.9942],[1604534400000,0.9947],[1604620800000,0.9892],[1604880000000,0.9921],[1604966400000,0.9884],[1605052800000,0.9856],[1605139200000,0.9835],[1605225600000,0.9855],[1605484800000,0.9814],[1605571200000,0.9778],[1605657600000,0.981],[1605744000000,0.9812],[1605830400000,0.9821],[1606089600000,0.9776],[1606176000000,0.9749],[1606262400000,0.9706],[1606348800000,0.9656],[1606435200000,0.9613],[1606694400000,0.9628],[1606780800000,0.9605],[1606867200000,0.9608],[1606953600000,0.9661],[1607040000000,0.9691],[1607299200000,0.9727],[1607385600000,0.9749],[1607472000000,0.9769],[1607558400000,0.9785],[1607644800000,0.9795],[1607904000000,0.9755],[1607990400000,0.9803],[1608076800000,0.9796],[1608163200000,0.9737],[1608249600000,0.9705],[1608508800000,0.9758],[1608595200000,0.9718],[1608681600000,0.9725],[1608768000000,0.9597],[1608854400000,0.957],[1609113600000,0.9478],[1609200000000,0.9606],[1609286400000,0.952],[1609372800000,0.9493],[1609718400000,0.9435],[1609804800000,0.935],[1609891200000,0.9328],[1609977600000,0.9136],[1610064000000,0.9184],[1610323200000,0.9158],[1610409600000,0.9055],[1610496000000,0.9048],[1610582400000,0.9126],[1610668800000,0.914],[1610928000000,0.9119],[1611014400000,0.9177],[1611100800000,0.926],[1611187200000,0.9283],[1611273600000,0.9204],[1611532800000,0.9085],[1611619200000,0.9225],[1611705600000,0.9205],[1611792000000,0.9213],[1611878400000,0.914],[1612137600000,0.9116],[1612224000000,0.9102],[1612310400000,0.9003],[1612396800000,0.8959],[1612483200000,0.8913],[1612742400000,0.8808],[1612828800000,0.8791],[1612915200000,0.879],[1613606400000,0.8821],[1613692800000,0.8889],[1613952000000,0.9008],[1614038400000,0.8967],[1614124800000,0.9114],[1614211200000,0.9075],[1614297600000,0.9125],[1614556800000,0.9137],[1614643200000,0.9148],[1614729600000,0.9102],[1614816000000,0.9093],[1614902400000,0.9167],[1615161600000,0.9214],[1615248000000,0.9183],[1615334400000,0.9158],[1615420800000,0.9106],[1615507200000,0.9064],[1615766400000,0.9037],[1615852800000,0.9012],[1615939200000,0.9082],[1616025600000,0.9111],[1616112000000,0.9141],[1616371200000,0.9133],[1616457600000,0.9142],[1616544000000,0.915],[1616630400000,0.9175],[1616716800000,0.9179],[1616976000000,0.9145],[1617062400000,0.9146],[1617148800000,0.9213],[1617235200000,0.921],[1617321600000,0.9229],[1617667200000,0.9283],[1617753600000,0.9265],[1617840000000,0.9254],[1617926400000,0.9246],[1618185600000,0.9185],[1618272000000,0.9187],[1618358400000,0.9188],[1618444800000,0.9197],[1618531200000,0.9228],[1618790400000,0.9236],[1618876800000,0.9269],[1618963200000,0.9271],[1619049600000,0.9298],[1619136000000,0.9245],[1619395200000,0.9251],[1619481600000,0.9153],[1619568000000,0.9127],[1619654400000,0.9113],[1619740800000,0.9088],[1620259200000,0.912],[1620345600000,0.9149],[1620604800000,0.9118],[1620691200000,0.9157],[1620777600000,0.9142],[1620864000000,0.914],[1620950400000,0.9231],[1621209600000,0.922],[1621296000000,0.9232],[1621382400000,0.9256],[1621468800000,0.9203],[1621555200000,0.9225],[1621814400000,0.9187],[1621900800000,0.9074],[1621987200000,0.9088],[1622073600000,0.9101],[1622160000000,0.9026],[1622419200000,0.9093],[1622505600000,0.9112],[1622592000000,0.9111],[1622678400000,0.9072],[1622764800000,0.9038],[1623024000000,0.9114],[1623110400000,0.9144],[1623196800000,0.912],[1623283200000,0.912],[1623369600000,0.9135],[1623715200000,0.9134],[1623801600000,0.9105],[1623888000000,0.91],[1623974400000,0.9164],[1624233600000,0.9208],[1624320000000,0.9253],[1624406400000,0.9277],[1624492800000,0.9262],[1624579200000,0.9241],[1624838400000,0.9246],[1624924800000,0.9317],[1625011200000,0.9279],[1625097600000,0.9265],[1625184000000,0.9338],[1625443200000,0.9275],[1625529600000,0.9332],[1625616000000,0.9301],[1625702400000,0.938],[1625788800000,0.9372],[1626048000000,0.9355],[1626134400000,0.934],[1626220800000,0.936],[1626307200000,0.932],[1626393600000,0.9385],[1626652800000,0.9347],[1626739200000,0.9404],[1626825600000,0.9365],[1626912000000,0.9398],[1626998400000,0.9393],[1627257600000,0.9421],[1627344000000,0.9503],[1627430400000,0.9367],[1627516800000,0.9307],[1627603200000,0.9382],[1627862400000,0.9306],[1627948800000,0.9319],[1628035200000,0.9289],[1628121600000,0.9262],[1628208000000,0.924],[1628467200000,0.9274],[1628553600000,0.9304],[1628640000000,0.9337],[1628726400000,0.937],[1628812800000,0.9299],[1629072000000,0.9311],[1629158400000,0.9301],[1629244800000,0.9311],[1629331200000,0.9324],[1629417600000,0.9348],[1629676800000,0.9431],[1629763200000,0.9361],[1629849600000,0.9398],[1629936000000,0.9369],[1630022400000,0.9354],[1630281600000,0.9326],[1630368000000,0.9363],[1630454400000,0.9303],[1630540800000,0.9275],[1630627200000,0.9307],[1630886400000,0.9427],[1630972800000,0.9382],[1631059200000,0.9388],[1631145600000,0.9372],[1631232000000,0.9371],[1631491200000,0.934],[1631577600000,0.94],[1631664000000,0.9442],[1631750400000,0.9392],[1631836800000,0.9382],[1632268800000,0.9382],[1632355200000,0.9459],[1632441600000,0.9428],[1632700800000,0.9384],[1632787200000,0.9359],[1632873600000,0.9273],[1632960000000,0.9329],[1633651200000,0.9318],[1633910400000,0.934],[1633996800000,0.9285],[1634083200000,0.9297],[1634169600000,0.9362],[1634256000000,0.9343],[1634515200000,0.9399],[1634601600000,0.946],[1634688000000,0.9412],[1634774400000,0.9367],[1634860800000,0.935],[1635120000000,0.9363],[1635206400000,0.9413],[1635292800000,0.9329],[1635379200000,0.9269],[1635465600000,0.9319],[1635724800000,0.9399],[1635811200000,0.9464],[1635897600000,0.9522],[1635984000000,0.9487],[1636070400000,0.9528],[1636329600000,0.9566],[1636416000000,0.9584],[1636502400000,0.9648],[1636588800000,0.966],[1636675200000,0.9684],[1636934400000,0.9699],[1637020800000,0.9696],[1637107200000,0.9717],[1637193600000,0.9683],[1637280000000,0.9667],[1637539200000,0.9694],[1637625600000,0.9662],[1637712000000,0.9606],[1637798400000,0.9614],[1637884800000,0.9557],[1638144000000,0.9501],[1638230400000,0.955]],\"color\":\"#4A8E8E\"},{\"name\":\"\\u6700\\u5c0f-\\u6700\\u5927\\u5206\\u4f4d\",\"yAxis\":0,\"data\":[[1578009600000,1.0],[1578268800000,1.0036],[1578355200000,1.0003],[1578441600000,1.0019],[1578528000000,1.0012],[1578614400000,1.001],[1578873600000,1.0029],[1578960000000,1.0008],[1579046400000,1.0031],[1579132800000,1.0035],[1579219200000,0.9988],[1579478400000,1.0023],[1579564800000,1.0024],[1579651200000,1.0045],[1579737600000,1.005],[1580688000000,1.0029],[1580774400000,0.9939],[1580860800000,0.9994],[1580947200000,1.0086],[1581033600000,1.0059],[1581292800000,1.0002],[1581379200000,0.994],[1581465600000,0.9948],[1581552000000,0.9964],[1581638400000,0.9988],[1581897600000,0.9987],[1581984000000,0.9962],[1582070400000,0.9961],[1582156800000,0.9975],[1582243200000,1.0029],[1582502400000,1.0062],[1582588800000,1.0097],[1582675200000,1.0051],[1582761600000,1.0073],[1582848000000,1.0085],[1583107200000,1.0088],[1583193600000,1.0089],[1583280000000,1.0103],[1583366400000,1.0088],[1583452800000,1.0056],[1583712000000,1.0097],[1583798400000,1.0124],[1583884800000,1.0123],[1583971200000,1.0129],[1584057600000,1.0148],[1584316800000,1.0117],[1584403200000,1.0136],[1584489600000,1.0112],[1584576000000,1.012],[1584662400000,1.0119],[1584921600000,1.0149],[1585008000000,1.0111],[1585094400000,1.0048],[1585180800000,1.0074],[1585267200000,1.0032],[1585526400000,1.0034],[1585612800000,1.0024],[1585699200000,1.0013],[1585785600000,0.9975],[1585872000000,1.0024],[1586217600000,1.0005],[1586304000000,0.9983],[1586390400000,0.9939],[1586476800000,0.9909],[1586736000000,0.9896],[1586822400000,0.9921],[1586908800000,0.9876],[1586995200000,0.9878],[1587081600000,0.9878],[1587340800000,0.9908],[1587427200000,0.9902],[1587513600000,0.9858],[1587600000000,0.984],[1587686400000,0.9825],[1587945600000,0.9817],[1588032000000,0.9863],[1588118400000,0.9857],[1588204800000,0.9813],[1588723200000,0.9772],[1588809600000,0.9761],[1588896000000,0.9733],[1589155200000,0.9733],[1589241600000,0.975],[1589328000000,0.9763],[1589414400000,0.978],[1589500800000,0.9775],[1589760000000,0.9744],[1589846400000,0.9771],[1589932800000,0.9775],[1590019200000,0.9797],[1590105600000,0.9756],[1590364800000,0.9778],[1590451200000,0.9758],[1590537600000,0.9777],[1590624000000,0.9766],[1590710400000,0.9792],[1590969600000,0.9708],[1591056000000,0.9701],[1591142400000,0.9665],[1591228800000,0.9668],[1591315200000,0.9625],[1591574400000,0.9611],[1591660800000,0.9572],[1591747200000,0.9566],[1591833600000,0.9568],[1591920000000,0.9598],[1592179200000,0.9582],[1592265600000,0.9568],[1592352000000,0.9583],[1592438400000,0.9563],[1592524800000,0.9604],[1592784000000,0.9602],[1592870400000,0.9615],[1592956800000,0.9593],[1593388800000,0.9627],[1593475200000,0.9648],[1593561600000,0.9634],[1593648000000,0.9555],[1593734400000,0.9515],[1593993600000,0.9479],[1594080000000,0.9506],[1594166400000,0.9494],[1594252800000,0.9473],[1594339200000,0.9396],[1594598400000,0.9419],[1594684800000,0.9444],[1594771200000,0.9438],[1594857600000,0.9421],[1594944000000,0.9478],[1595203200000,0.9418],[1595289600000,0.9454],[1595376000000,0.9437],[1595462400000,0.9439],[1595548800000,0.9436],[1595808000000,0.9463],[1595894400000,0.9469],[1595980800000,0.9479],[1596067200000,0.9515],[1596153600000,0.9557],[1596412800000,0.9556],[1596499200000,0.9528],[1596585600000,0.9516],[1596672000000,0.9476],[1596758400000,0.9484],[1597017600000,0.9468],[1597104000000,0.9469],[1597190400000,0.9473],[1597276800000,0.9464],[1597363200000,0.9481],[1597622400000,0.9506],[1597708800000,0.9508],[1597795200000,0.9529],[1597881600000,0.9525],[1597968000000,0.9482],[1598227200000,0.9479],[1598313600000,0.9505],[1598400000000,0.9558],[1598486400000,0.9569],[1598572800000,0.9579],[1598832000000,0.959],[1598918400000,0.9596],[1599004800000,0.9614],[1599091200000,0.9576],[1599177600000,0.9524],[1599436800000,0.9491],[1599523200000,0.9508],[1599609600000,0.9555],[1599696000000,0.9571],[1599782400000,0.9561],[1600041600000,0.9562],[1600128000000,0.9573],[1600214400000,0.9604],[1600300800000,0.958],[1600387200000,0.9563],[1600646400000,0.9554],[1600732800000,0.9561],[1600819200000,0.9585],[1600905600000,0.9596],[1600992000000,0.9573],[1601251200000,0.9581],[1601337600000,0.9568],[1601424000000,0.9557],[1602201600000,0.9597],[1602460800000,0.9588],[1602547200000,0.9565],[1602633600000,0.9563],[1602720000000,0.9567],[1602806400000,0.9546],[1603065600000,0.9561],[1603152000000,0.9625],[1603238400000,0.9619],[1603324800000,0.9616],[1603411200000,0.9647],[1603670400000,0.9621],[1603756800000,0.962],[1603843200000,0.9604],[1603929600000,0.9602],[1604016000000,0.9612],[1604275200000,0.9624],[1604361600000,0.9623],[1604448000000,0.9639],[1604534400000,0.9633],[1604620800000,0.9666],[1604880000000,0.9652],[1604966400000,0.9678],[1605052800000,0.9679],[1605139200000,0.9704],[1605225600000,0.9713],[1605484800000,0.9741],[1605571200000,0.9776],[1605657600000,0.9732],[1605744000000,0.9732],[1605830400000,0.9736],[1606089600000,0.9724],[1606176000000,0.9767],[1606262400000,0.9769],[1606348800000,0.9772],[1606435200000,0.9789],[1606694400000,0.9792],[1606780800000,0.9776],[1606867200000,0.976],[1606953600000,0.9717],[1607040000000,0.9722],[1607299200000,0.9692],[1607385600000,0.9675],[1607472000000,0.963],[1607558400000,0.9607],[1607644800000,0.9601],[1607904000000,0.9599],[1607990400000,0.9591],[1608076800000,0.9576],[1608163200000,0.9604],[1608249600000,0.962],[1608508800000,0.9598],[1608595200000,0.9596],[1608681600000,0.9595],[1608768000000,0.9691],[1608854400000,0.9681],[1609113600000,0.971],[1609200000000,0.9647],[1609286400000,0.9694],[1609372800000,0.9699],[1609718400000,0.9729],[1609804800000,0.9753],[1609891200000,0.9736],[1609977600000,0.9813],[1610064000000,0.9789],[1610323200000,0.9807],[1610409600000,0.9828],[1610496000000,0.9835],[1610582400000,0.9809],[1610668800000,0.9772],[1610928000000,0.9795],[1611014400000,0.9763],[1611100800000,0.9725],[1611187200000,0.9689],[1611273600000,0.9722],[1611532800000,0.9728],[1611619200000,0.9635],[1611705600000,0.9656],[1611792000000,0.9635],[1611878400000,0.9691],[1612137600000,0.9653],[1612224000000,0.9608],[1612310400000,0.9654],[1612396800000,0.9661],[1612483200000,0.9677],[1612742400000,0.9713],[1612828800000,0.9726],[1612915200000,0.9676],[1613606400000,0.9657],[1613692800000,0.963],[1613952000000,0.9619],[1614038400000,0.9633],[1614124800000,0.9619],[1614211200000,0.9614],[1614297600000,0.9601],[1614556800000,0.9588],[1614643200000,0.9606],[1614729600000,0.9595],[1614816000000,0.9639],[1614902400000,0.9614],[1615161600000,0.9659],[1615248000000,0.9672],[1615334400000,0.9613],[1615420800000,0.9617],[1615507200000,0.9634],[1615766400000,0.9669],[1615852800000,0.9668],[1615939200000,0.9654],[1616025600000,0.9618],[1616112000000,0.9623],[1616371200000,0.964],[1616457600000,0.9627],[1616544000000,0.9652],[1616630400000,0.9641],[1616716800000,0.9602],[1616976000000,0.9627],[1617062400000,0.9596],[1617148800000,0.9591],[1617235200000,0.9575],[1617321600000,0.9563],[1617667200000,0.9569],[1617753600000,0.9595],[1617840000000,0.9599],[1617926400000,0.9607],[1618185600000,0.9585],[1618272000000,0.9568],[1618358400000,0.9606],[1618444800000,0.9627],[1618531200000,0.9613],[1618790400000,0.9546],[1618876800000,0.9528],[1618963200000,0.9531],[1619049600000,0.9527],[1619136000000,0.9514],[1619395200000,0.9507],[1619481600000,0.9546],[1619568000000,0.9613],[1619654400000,0.9601],[1619740800000,0.9642],[1620259200000,0.9631],[1620345600000,0.9562],[1620604800000,0.9546],[1620691200000,0.9525],[1620777600000,0.954],[1620864000000,0.9584],[1620950400000,0.9518],[1621209600000,0.9485],[1621296000000,0.949],[1621382400000,0.9469],[1621468800000,0.9476],[1621555200000,0.9472],[1621814400000,0.9521],[1621900800000,0.9551],[1621987200000,0.9526],[1622073600000,0.9535],[1622160000000,0.9555],[1622419200000,0.9545],[1622505600000,0.9544],[1622592000000,0.9559],[1622678400000,0.9582],[1622764800000,0.9618],[1623024000000,0.9611],[1623110400000,0.9586],[1623196800000,0.9588],[1623283200000,0.9584],[1623369600000,0.953],[1623715200000,0.954],[1623801600000,0.956],[1623888000000,0.9589],[1623974400000,0.9582],[1624233600000,0.9593],[1624320000000,0.9545],[1624406400000,0.9523],[1624492800000,0.9522],[1624579200000,0.953],[1624838400000,0.9573],[1624924800000,0.9548],[1625011200000,0.9571],[1625097600000,0.9497],[1625184000000,0.948],[1625443200000,0.9569],[1625529600000,0.9533],[1625616000000,0.9568],[1625702400000,0.9556],[1625788800000,0.9562],[1626048000000,0.9564],[1626134400000,0.9553],[1626220800000,0.9554],[1626307200000,0.9575],[1626393600000,0.9535],[1626652800000,0.9556],[1626739200000,0.9546],[1626825600000,0.9587],[1626912000000,0.9574],[1626998400000,0.9585],[1627257600000,0.9605],[1627344000000,0.9575],[1627430400000,0.9602],[1627516800000,0.9632],[1627603200000,0.9621],[1627862400000,0.9654],[1627948800000,0.9628],[1628035200000,0.965],[1628121600000,0.9631],[1628208000000,0.9646],[1628467200000,0.9635],[1628553600000,0.957],[1628640000000,0.9524],[1628726400000,0.9521],[1628812800000,0.9562],[1629072000000,0.9583],[1629158400000,0.9591],[1629244800000,0.96],[1629331200000,0.9609],[1629417600000,0.9603],[1629676800000,0.9567],[1629763200000,0.9605],[1629849600000,0.959],[1629936000000,0.9602],[1630022400000,0.9588],[1630281600000,0.9636],[1630368000000,0.9575],[1630454400000,0.9583],[1630540800000,0.959],[1630627200000,0.955],[1630886400000,0.948],[1630972800000,0.9493],[1631059200000,0.9494],[1631145600000,0.9473],[1631232000000,0.9444],[1631491200000,0.9516],[1631577600000,0.9479],[1631664000000,0.9469],[1631750400000,0.9503],[1631836800000,0.9528],[1632268800000,0.9554],[1632355200000,0.9508],[1632441600000,0.948],[1632700800000,0.9437],[1632787200000,0.9446],[1632873600000,0.9465],[1632960000000,0.9441],[1633651200000,0.9447],[1633910400000,0.9391],[1633996800000,0.9414],[1634083200000,0.9411],[1634169600000,0.9385],[1634256000000,0.9376],[1634515200000,0.9339],[1634601600000,0.9299],[1634688000000,0.9307],[1634774400000,0.9299],[1634860800000,0.9304],[1635120000000,0.9287],[1635206400000,0.9267],[1635292800000,0.931],[1635379200000,0.9339],[1635465600000,0.9327],[1635724800000,0.9292],[1635811200000,0.9264],[1635897600000,0.9262],[1635984000000,0.9258],[1636070400000,0.9242],[1636329600000,0.9203],[1636416000000,0.9196],[1636502400000,0.9171],[1636588800000,0.9149],[1636675200000,0.9145],[1636934400000,0.9121],[1637020800000,0.9111],[1637107200000,0.9133],[1637193600000,0.9148],[1637280000000,0.9137],[1637539200000,0.9157],[1637625600000,0.9187],[1637712000000,0.9218],[1637798400000,0.9208],[1637884800000,0.9238],[1638144000000,0.9231],[1638230400000,0.9222]]}],\"xAxis\":{\"title\":{\"text\":\"date\"},\"type\":\"datetime\"},\"plotOptions\":{\"series\":{\"compare\":\"percent\"}}}/bigcharts-data-end</pre></div><div class=\"type_title_left\"><p>基本特征分析<i class=\"fa fa-question-circle-o\" title=\"处理后因子表示对因子做去极值、标准化和中性化(如果启用的话)等处理后的因子值。\"></i></p></div><div class=\"cols\">\n",
       "            \n",
       "                \n",
       "                <div class=\"col\"><div id=\"bigchart-e7208be794d14264af990dc6aa2723ea\" class=\"bigchart\"></div><div class=\"bigchart-data\"><pre style=\"display:none\">bigcharts-data-start/{\"chart\":{\"height\":500,\"type\":\"column\",\"renderTo\":\"bigchart-e7208be794d14264af990dc6aa2723ea\"},\"legend\":{\"enabled\":true},\"title\":{\"text\":\"\\u56e0\\u5b50\\u5206\\u5e03\"},\"stock\":false,\"series\":[{\"name\":\"count\",\"yAxis\":0,\"data\":[[-1.9814,0.0259],[-1.9629,0.0115],[-1.9443,0.0078],[-1.9257,0.006],[-1.9072,0.0053],[-1.8886,0.0043],[-1.87,0.0035],[-1.8514,0.0097],[-1.8329,0.0123],[-1.8143,0.0083],[-1.7957,0.0072],[-1.7772,0.0056],[-1.7586,0.0048],[-1.74,0.0045],[-1.7215,0.0045],[-1.7029,0.0128],[-1.6843,0.0106],[-1.6658,0.0083],[-1.6472,0.0071],[-1.6286,0.0068],[-1.61,0.0058],[-1.5915,0.0056],[-1.5729,0.0056],[-1.5543,0.0167],[-1.5358,0.0109],[-1.5172,0.0085],[-1.4986,0.0079],[-1.4801,0.0072],[-1.4615,0.0065],[-1.4429,0.0061],[-1.4244,0.01],[-1.4058,0.0145],[-1.3872,0.0105],[-1.3686,0.0093],[-1.3501,0.0084],[-1.3315,0.0081],[-1.3129,0.0072],[-1.2944,0.0072],[-1.2758,0.0154],[-1.2572,0.0147],[-1.2387,0.0112],[-1.2201,0.0107],[-1.2015,0.009],[-1.183,0.0091],[-1.1644,0.009],[-1.1458,0.0086],[-1.1272,0.0328],[-1.1087,0.0212],[-1.0901,0.0177],[-1.0715,0.0164],[-1.053,0.0161],[-1.0344,0.0173],[-1.0158,0.0209],[-0.9973,0.0322],[-0.9787,0.0094],[-0.9601,0.0095],[-0.9416,0.0096],[-0.923,0.0098],[-0.9044,0.0104],[-0.8858,0.0118],[-0.8673,0.0153],[-0.8487,0.0159],[-0.8301,0.0074],[-0.8116,0.0079],[-0.793,0.0079],[-0.7744,0.0084],[-0.7559,0.0088],[-0.7373,0.0114],[-0.7187,0.0153],[-0.7002,0.0097],[-0.6816,0.006],[-0.663,0.0069],[-0.6444,0.0065],[-0.6259,0.0069],[-0.6073,0.0084],[-0.5887,0.01],[-0.5702,0.0162],[-0.5516,0.0052],[-0.533,0.0049],[-0.5145,0.0056],[-0.4959,0.0064],[-0.4773,0.0065],[-0.4588,0.008],[-0.4402,0.0111],[-0.4216,0.0125],[-0.4031,0.0039],[-0.3845,0.0049],[-0.3659,0.0055],[-0.3473,0.0056],[-0.3288,0.0066],[-0.3102,0.0085],[-0.2916,0.0134],[-0.2731,0.0099],[-0.2545,0.0038],[-0.2359,0.0044],[-0.2174,0.0053],[-0.1988,0.0061],[-0.1802,0.0077],[-0.1617,0.0122],[-0.1431,0.0277]],\"color\":\"#F08B55\"}],\"xAxis\":{\"title\":{\"text\":\"value\"}}}/bigcharts-data-end</pre></div></div>\n",
       "                \n",
       "            \n",
       "                \n",
       "                <div class=\"col\"><div id=\"bigchart-70962cc7fca344dea74ffc3161217d7f\" class=\"bigchart\"></div><div class=\"bigchart-data\"><pre style=\"display:none\">bigcharts-data-start/{\"chart\":{\"height\":500,\"type\":\"column\",\"renderTo\":\"bigchart-70962cc7fca344dea74ffc3161217d7f\"},\"legend\":{\"enabled\":true},\"title\":{\"text\":\"\\u5904\\u7406\\u540e\\u56e0\\u5b50\\u5206\\u5e03\"},\"stock\":false,\"series\":[{\"name\":\"count\",\"yAxis\":0,\"data\":[[-2.7338,0.0001],[-2.6768,0.0],[-2.6197,0.0001],[-2.5627,0.0],[-2.5056,0.0002],[-2.4486,0.0002],[-2.3915,0.0005],[-2.3344,0.0006],[-2.2774,0.0006],[-2.2203,0.0006],[-2.1633,0.0017],[-2.1062,0.0008],[-2.0492,0.0016],[-1.9921,0.0016],[-1.9351,0.0023],[-1.878,0.0027],[-1.821,0.0028],[-1.7639,0.0029],[-1.7068,0.0035],[-1.6498,0.0039],[-1.5927,0.0055],[-1.5357,0.0067],[-1.4786,0.0051],[-1.4216,0.0072],[-1.3645,0.0085],[-1.3075,0.0093],[-1.2504,0.0099],[-1.1933,0.0119],[-1.1363,0.0112],[-1.0792,0.0135],[-1.0222,0.014],[-0.9651,0.013],[-0.9081,0.015],[-0.851,0.0155],[-0.794,0.0168],[-0.7369,0.0194],[-0.6798,0.0197],[-0.6228,0.021],[-0.5657,0.021],[-0.5087,0.0201],[-0.4516,0.0219],[-0.3946,0.0218],[-0.3375,0.022],[-0.2805,0.0229],[-0.2234,0.0235],[-0.1664,0.0221],[-0.1093,0.0244],[-0.0522,0.0234],[0.0048,0.0285],[0.0619,0.0245],[0.1189,0.0235],[0.176,0.0241],[0.233,0.0233],[0.2901,0.023],[0.3471,0.0233],[0.4042,0.0223],[0.4613,0.0219],[0.5183,0.023],[0.5754,0.0213],[0.6324,0.0193],[0.6895,0.0201],[0.7465,0.0193],[0.8036,0.0172],[0.8606,0.0191],[0.9177,0.0173],[0.9747,0.016],[1.0318,0.0155],[1.0889,0.0155],[1.1459,0.0124],[1.203,0.012],[1.26,0.0114],[1.3171,0.0088],[1.3741,0.0092],[1.4312,0.0066],[1.4882,0.0064],[1.5453,0.0059],[1.6024,0.005],[1.6594,0.0051],[1.7165,0.0038],[1.7735,0.0042],[1.8306,0.0036],[1.8876,0.0031],[1.9447,0.0019],[2.0017,0.0022],[2.0588,0.0014],[2.1158,0.0011],[2.1729,0.0012],[2.23,0.0011],[2.287,0.0007],[2.3441,0.0004],[2.4011,0.0006],[2.4582,0.0003],[2.5152,0.0],[2.5723,0.0002],[2.6293,0.0],[2.6864,0.0],[2.7435,0.0],[2.8005,0.0],[2.8576,0.0],[2.9146,0.0001]],\"color\":\"#F08B55\"}],\"xAxis\":{\"title\":{\"text\":\"value\"}}}/bigcharts-data-end</pre></div></div>\n",
       "                \n",
       "            \n",
       "            </div><div class=\"cols\">\n",
       "            \n",
       "                \n",
       "                <div class=\"col\"><div id=\"bigchart-b36241a8a64f46e2b29fd44dc17d227c\" class=\"bigchart\"></div><div class=\"bigchart-data\"><pre style=\"display:none\">bigcharts-data-start/{\"chart\":{\"height\":500,\"type\":\"boxplot\",\"renderTo\":\"bigchart-b36241a8a64f46e2b29fd44dc17d227c\"},\"legend\":{\"enabled\":true},\"title\":{\"text\":\"\\u5904\\u7406\\u540e\\u56e0\\u5b50\\u884c\\u4e1a\\u5206\\u5e03\"},\"stock\":false,\"series\":[{\"name\":\"\\u5904\\u7406\\u540e\\u56e0\\u5b50\",\"data\":[[-2.226,-0.5633,0.0183,0.4965,2.5056],[-1.9163,-0.5411,0.0527,0.4922,1.8085],[-2.7377,-0.6595,-0.0015,0.6568,2.3628],[-1.2582,-0.2725,-4.441e-16,0.2258,1.2582],[-2.1605,-0.6192,0.0496,0.6164,2.2839],[-2.7909,-0.6762,0.0025,0.6974,2.4275],[-2.1886,-0.7016,0.0174,0.6407,2.2671],[-2.3809,-0.7067,0.0108,0.6743,2.5377],[-2.5864,-0.6673,0.0052,0.6632,2.523],[-0.0,-0.0,-1.804e-16,0.0,0.0],[-2.4762,-0.6057,-2.637e-16,0.641,2.0335],[-2.6364,-0.6781,-0.0209,0.7188,2.9146],[-2.3459,-0.5125,0.034,0.5381,2.0875],[-2.1865,-0.6238,-0.0084,0.6262,2.0775],[-2.4383,-0.6411,0.0254,0.6316,2.4126],[-2.2852,-0.3939,6.661e-16,0.4536,1.9653],[-1.6967,-0.4187,-7.772e-16,0.4187,1.6967],[-2.0549,-0.5579,0.0208,0.5587,1.9381],[-2.0326,-0.5901,0.0007,0.5801,2.2972],[-2.2213,-0.6765,-0.0226,0.6522,2.1116],[-1.8236,-0.5166,-0.0019,0.4758,1.6366],[-2.4829,-0.6745,-0.0178,0.6789,2.5504],[-2.4691,-0.5177,-0.0002,0.6247,1.9082],[-2.1851,-0.6185,0.031,0.635,2.0289],[-2.7847,-0.7072,-0.013,0.7403,2.5307],[-2.6252,-0.6652,-0.0178,0.6822,2.3722],[-2.1392,-0.6076,0.0231,0.5692,2.2837]],\"color\":\"#F08B55\"}],\"xAxis\":{\"categories\":[\"\\u519c\\u6797\\u7267\\u6e14\",\"\\u91c7\\u6398\",\"\\u5316\\u5de5\",\"\\u94a2\\u94c1\",\"\\u6709\\u8272\\u91d1\\u5c5e\",\"\\u7535\\u5b50\",\"\\u6c7d\\u8f66\",\"\\u5bb6\\u7528\\u7535\\u5668\",\"\\u98df\\u54c1\\u996e\\u6599\",\"\\u7eba\\u7ec7\\u670d\\u88c5\",\"\\u8f7b\\u5de5\\u5236\\u9020\",\"\\u533b\\u836f\\u751f\\u7269\",\"\\u516c\\u7528\\u4e8b\\u4e1a\",\"\\u4ea4\\u901a\\u8fd0\\u8f93\",\"\\u623f\\u5730\\u4ea7\",\"\\u5546\\u4e1a\\u8d38\\u6613\",\"\\u4f11\\u95f2\\u670d\\u52a1\",\"\\u94f6\\u884c\",\"\\u975e\\u94f6\\u91d1\\u878d\",\"\\u5efa\\u7b51\\u6750\\u6599\",\"\\u5efa\\u7b51\\u88c5\\u9970\",\"\\u7535\\u6c14\\u8bbe\\u5907\",\"\\u673a\\u68b0\\u8bbe\\u5907\",\"\\u56fd\\u9632\\u519b\\u5de5\",\"\\u8ba1\\u7b97\\u673a\",\"\\u4f20\\u5a92\",\"\\u901a\\u4fe1\"]}}/bigcharts-data-end</pre></div></div>\n",
       "                \n",
       "            \n",
       "                \n",
       "                <div class=\"col\"><div id=\"bigchart-1e321ff4a4ec4a14b7ab25e7542c0765\" class=\"bigchart\"></div><div class=\"bigchart-data\"><pre style=\"display:none\">bigcharts-data-start/{\"chart\":{\"height\":500,\"type\":\"boxplot\",\"renderTo\":\"bigchart-1e321ff4a4ec4a14b7ab25e7542c0765\"},\"legend\":{\"enabled\":true},\"title\":{\"text\":\"\\u5904\\u7406\\u540e\\u56e0\\u5b50\\u5e02\\u503c\\u5206\\u5e03\"},\"stock\":false,\"series\":[{\"name\":\"\\u5904\\u7406\\u540e\\u56e0\\u5b50\",\"data\":[[-2.5144,-0.5785,0.0225,0.6359,2.5307],[-2.7847,-0.6195,0.0,0.6534,2.3201],[-2.7377,-0.6442,-0.0,0.6092,2.9146],[-2.7909,-0.6413,-0.0026,0.5869,2.8624],[-2.5864,-0.6167,0.012,0.6473,2.8317]],\"color\":\"#F08B55\"}],\"xAxis\":{\"categories\":[\"\\u8d85\\u5c0f\\u578b\",\"\\u5c0f\\u578b\",\"\\u4e2d\\u578b\",\"\\u5927\\u578b\",\"\\u8d85\\u5927\\u578b\"]}}/bigcharts-data-end</pre></div></div>\n",
       "                \n",
       "            \n",
       "            </div><div class=\"type_title_left\"><p>IC分析<i class=\"fa fa-question-circle-o\" title=\"期初因子值与因子当期收益相关性分析，绝对值越大越好。以及因子值与滞后n期因子收益的相关性分析。\"></i></p></div>\n",
       "        <div class=\"ic_summary\">\n",
       "          <div class=\"item ic_mean\"><label>IC均值</label><p>0.01</p></div>\n",
       "          <div class=\"item ic_std\"><label>IC标准差</label><p>0.08</p></div>\n",
       "          <div class=\"item ir\"><label>IR值</label><p>0.11</p></div>\n",
       "          <div class=\"item ic_significance_ratio\"><label>|IC| > 0.02比率</label><p>76.09%</p></div>\n",
       "        </div>\n",
       "        <div class=\"cols\">\n",
       "            \n",
       "                \n",
       "                <div class=\"col\"><div id=\"bigchart-3f0f77fdf4604d7d92fd1fae224d7172\" class=\"bigchart\"></div><div class=\"bigchart-data\"><pre style=\"display:none\">bigcharts-data-start/{\"chart\":{\"height\":500,\"type\":\"column\",\"renderTo\":\"bigchart-3f0f77fdf4604d7d92fd1fae224d7172\"},\"legend\":{\"enabled\":true},\"title\":{\"text\":\"IC\\u65f6\\u5e8f\\u56fe\"},\"stock\":true,\"series\":[{\"name\":\"IC\",\"yAxis\":0,\"data\":[[1578009600000,0.0301],[1578614400000,0.0593],[1579219200000,-0.0007],[1581292800000,-0.0292],[1581897600000,0.0419],[1582502400000,0.0189],[1583107200000,-0.0353],[1583712000000,-0.0472],[1584316800000,-0.0605],[1584921600000,0.0748],[1585526400000,0.0106],[1586217600000,0.094],[1586822400000,0.0381],[1587427200000,0.0485],[1588032000000,0.1595],[1588896000000,-0.1121],[1589500800000,0.0044],[1590105600000,-0.0593],[1590710400000,0.2502],[1591315200000,-0.0125],[1591920000000,0.004],[1592524800000,-0.0493],[1593475200000,0.0684],[1594080000000,0.0789],[1594684800000,-0.0473],[1595289600000,-0.047],[1595894400000,-0.0589],[1596499200000,0.0692],[1597104000000,-0.0575],[1597708800000,-0.0069],[1598313600000,-0.1522],[1598918400000,0.1205],[1599523200000,-0.0378],[1600128000000,0.003],[1600732800000,0.0137],[1601337600000,0.0356],[1602633600000,-0.0739],[1603238400000,0.0028],[1603843200000,-0.0198],[1604448000000,0.0156],[1605052800000,-0.0978],[1605657600000,-0.0896],[1606262400000,0.0137],[1606867200000,0.1692],[1607472000000,0.0455],[1608076800000,-0.042],[1608681600000,-0.1444],[1609286400000,-0.0878],[1609977600000,0.0219],[1610582400000,0.132],[1611187200000,0.1],[1611792000000,-0.0175],[1612396800000,0.0244],[1613606400000,0.0547],[1614211200000,-0.1266],[1614816000000,0.0181],[1615420800000,0.0278],[1616025600000,-0.0082],[1616630400000,0.0282],[1617235200000,-0.0487],[1617926400000,-0.0208],[1618531200000,0.1268],[1619136000000,-0.1601],[1619740800000,0.1362],[1620777600000,0.1123],[1621382400000,-0.0659],[1621987200000,-0.0256],[1622592000000,-0.0295],[1623196800000,0.0078],[1623888000000,0.0929],[1624492800000,-0.0542],[1625097600000,0.0105],[1625702400000,-0.0081],[1626307200000,-0.009],[1629331200000,-0.0282],[1629936000000,-0.0024],[1630540800000,0.1753],[1631145600000,-0.0371],[1631750400000,0.0717],[1632700800000,0.0817],[1633910400000,0.0769],[1634515200000,0.0698],[1635120000000,-0.0427],[1635724800000,0.0989],[1636329600000,0.1797],[1636934400000,-0.0467],[1637539200000,-0.1474],[1580688000000,0.0971],[1626912000000,-0.0625],[1627516800000,0.0104],[1628121600000,0.0786],[1628726400000,-0.1614]],\"color\":\"#F08B55\"}],\"xAxis\":{\"title\":{\"text\":\"date\"},\"type\":\"datetime\"}}/bigcharts-data-end</pre></div></div>\n",
       "                \n",
       "            \n",
       "                \n",
       "                <div class=\"col\"><div id=\"bigchart-a1b58917f4d4495695331cc10c168de4\" class=\"bigchart\"></div><div class=\"bigchart-data\"><pre style=\"display:none\">bigcharts-data-start/{\"chart\":{\"height\":500,\"type\":\"column\",\"renderTo\":\"bigchart-a1b58917f4d4495695331cc10c168de4\"},\"legend\":{\"enabled\":true},\"title\":{\"text\":\"IC\\u4fe1\\u53f7\\u8870\\u51cf\"},\"stock\":false,\"series\":[{\"name\":\"IC\",\"yAxis\":0,\"data\":[[\"\\u6ede\\u540e0\\u671f\",0.009],[\"\\u6ede\\u540e1\\u671f\",-0.3576],[\"\\u6ede\\u540e2\\u671f\",-0.1435],[\"\\u6ede\\u540e3\\u671f\",0.0216],[\"\\u6ede\\u540e4\\u671f\",-0.0156]],\"color\":\"#F08B55\"}],\"xAxis\":{\"categories\":[\"\\u6ede\\u540e0\\u671f\",\"\\u6ede\\u540e1\\u671f\",\"\\u6ede\\u540e2\\u671f\",\"\\u6ede\\u540e3\\u671f\",\"\\u6ede\\u540e4\\u671f\"]}}/bigcharts-data-end</pre></div></div>\n",
       "                \n",
       "            \n",
       "            </div><div class=\"type_title_left\"><p>买入信号重合分析<i class=\"fa fa-question-circle-o\" title=\"分布对最小和最大分位组，计算当期和滞后n期所选股票的重合度。\"></i></p></div><div id=\"bigchart-7b1e86f2775b47449378cb9d3e408680\" class=\"bigchart\"></div><div class=\"bigchart-data\"><pre style=\"display:none\">bigcharts-data-start/{\"chart\":{\"height\":500,\"type\":\"column\",\"renderTo\":\"bigchart-7b1e86f2775b47449378cb9d3e408680\"},\"legend\":{\"enabled\":true},\"title\":{\"text\":\"\\u4e70\\u5165\\u4fe1\\u53f7\\u91cd\\u5408\\u5ea6\"},\"stock\":false,\"series\":[{\"name\":\"\\u6700\\u5c0f\\u5206\\u4f4d\",\"yAxis\":0,\"data\":[[\"\\u6ede\\u540e1\\u671f\",0.1918],[\"\\u6ede\\u540e2\\u671f\",0.1717],[\"\\u6ede\\u540e3\\u671f\",0.1703],[\"\\u6ede\\u540e4\\u671f\",0.1664],[\"\\u6ede\\u540e5\\u671f\",0.1728],[\"\\u6ede\\u540e6\\u671f\",0.1588],[\"\\u6ede\\u540e7\\u671f\",0.1524],[\"\\u6ede\\u540e8\\u671f\",0.1539],[\"\\u6ede\\u540e9\\u671f\",0.1627],[\"\\u6ede\\u540e10\\u671f\",0.1649]],\"color\":\"#F08B55\"},{\"name\":\"\\u6700\\u5927\\u5206\\u4f4d\",\"yAxis\":0,\"data\":[[\"\\u6ede\\u540e1\\u671f\",0.1906],[\"\\u6ede\\u540e2\\u671f\",0.1726],[\"\\u6ede\\u540e3\\u671f\",0.1687],[\"\\u6ede\\u540e4\\u671f\",0.1658],[\"\\u6ede\\u540e5\\u671f\",0.1717],[\"\\u6ede\\u540e6\\u671f\",0.1459],[\"\\u6ede\\u540e7\\u671f\",0.1561],[\"\\u6ede\\u540e8\\u671f\",0.1512],[\"\\u6ede\\u540e9\\u671f\",0.1572],[\"\\u6ede\\u540e10\\u671f\",0.1598]],\"color\":\"#648FD5\"}],\"xAxis\":{\"categories\":[\"\\u6ede\\u540e1\\u671f\",\"\\u6ede\\u540e2\\u671f\",\"\\u6ede\\u540e3\\u671f\",\"\\u6ede\\u540e4\\u671f\",\"\\u6ede\\u540e5\\u671f\",\"\\u6ede\\u540e6\\u671f\",\"\\u6ede\\u540e7\\u671f\",\"\\u6ede\\u540e8\\u671f\",\"\\u6ede\\u540e9\\u671f\",\"\\u6ede\\u540e10\\u671f\"]}}/bigcharts-data-end</pre></div><div class=\"type_title_left\"><p>因子估值分析<i class=\"fa fa-question-circle-o\" title=\"衡量因子估值高低，估值越低，该因子越可以加大配置。\"></i></p></div><div id=\"bigchart-8a7076906c3840ee98d34e447c4bd31b\" class=\"bigchart\"></div><div class=\"bigchart-data\"><pre style=\"display:none\">bigcharts-data-start/{\"chart\":{\"height\":500,\"renderTo\":\"bigchart-8a7076906c3840ee98d34e447c4bd31b\"},\"legend\":{\"enabled\":true},\"title\":{\"text\":\"PB\\u4f30\\u503c\\u5206\\u6790\"},\"stock\":true,\"series\":[{\"name\":\"1\\u5206\\u4f4d\\u6570\",\"yAxis\":0,\"data\":[[1577923200000,null],[1578009600000,null],[1578268800000,2.9085],[1578355200000,2.9296],[1578441600000,2.8506],[1578528000000,3.2203],[1578614400000,3.2024],[1578873600000,3.618],[1578960000000,3.7482],[1579046400000,3.7378],[1579132800000,3.7028],[1579219200000,3.6429],[1579478400000,3.6824],[1579564800000,3.5886],[1579651200000,3.6802],[1579737600000,3.4835],[1580688000000,5.5393],[1580774400000,3.7489],[1580860800000,4.3584],[1580947200000,4.4479],[1581033600000,4.8883],[1581292800000,4.9367],[1581379200000,2.6447],[1581465600000,2.6115],[1581552000000,2.6161],[1581638400000,2.6502],[1581897600000,2.6565],[1581984000000,4.9114],[1582070400000,4.8409],[1582156800000,4.9748],[1582243200000,5.1755],[1582502400000,5.2999],[1582588800000,3.7957],[1582675200000,4.267],[1582761600000,4.8368],[1582848000000,4.7152],[1583107200000,4.7896],[1583193600000,3.0117],[1583280000000,2.7112],[1583366400000,2.3994],[1583452800000,3.0598],[1583712000000,2.9831],[1583798400000,3.0945],[1583884800000,3.1607],[1583971200000,3.0682],[1584057600000,3.0528],[1584316800000,2.9412],[1584403200000,2.0953],[1584489600000,2.1066],[1584576000000,2.013],[1584662400000,2.169],[1584921600000,2.0942],[1585008000000,1.7696],[1585094400000,1.7418],[1585180800000,1.709],[1585267200000,2.0421],[1585526400000,2.003],[1585612800000,2.6184],[1585699200000,2.6214],[1585785600000,2.6589],[1585872000000,2.7159],[1586217600000,3.4889],[1586304000000,3.2754],[1586390400000,3.2542],[1586476800000,3.4698],[1586736000000,3.2973],[1586822400000,3.3492],[1586908800000,3.3775],[1586995200000,3.5016],[1587081600000,3.5531],[1587340800000,3.5408],[1587427200000,3.4829],[1587513600000,2.8405],[1587600000000,2.8168],[1587686400000,2.7546],[1587945600000,2.8391],[1588032000000,2.8827],[1588118400000,2.297],[1588204800000,2.2847],[1588723200000,2.2525],[1588809600000,2.2751],[1588896000000,2.7678],[1589155200000,3.3489],[1589241600000,3.2474],[1589328000000,3.3252],[1589414400000,3.2088],[1589500800000,3.3446],[1589760000000,3.8643],[1589846400000,3.8799],[1589932800000,4.1121],[1590019200000,4.0237],[1590105600000,3.9412],[1590364800000,2.8259],[1590451200000,2.9721],[1590537600000,3.1274],[1590624000000,3.5952],[1590710400000,3.0833],[1590969600000,2.5649],[1591056000000,2.6737],[1591142400000,2.6808],[1591228800000,2.6972],[1591315200000,2.6945],[1591574400000,4.2391],[1591660800000,4.2706],[1591747200000,4.2573],[1591833600000,4.1196],[1591920000000,4.1759],[1592179200000,3.5161],[1592265600000,3.4374],[1592352000000,3.4944],[1592438400000,3.4223],[1592524800000,3.4099],[1592784000000,3.5457],[1592870400000,3.6835],[1592956800000,3.7077],[1593388800000,3.6691],[1593475200000,3.7219],[1593561600000,4.6114],[1593648000000,4.6262],[1593734400000,4.6567],[1593993600000,4.823],[1594080000000,4.8452],[1594166400000,4.0748],[1594252800000,4.1254],[1594339200000,3.8762],[1594598400000,4.1092],[1594684800000,4.1817],[1594771200000,5.696],[1594857600000,5.3067],[1594944000000,5.642],[1595203200000,6.212],[1595289600000,5.6567],[1595376000000,3.1249],[1595462400000,3.0274],[1595548800000,2.9285],[1595808000000,2.9816],[1595894400000,3.1398],[1595980800000,4.0393],[1596067200000,3.9791],[1596153600000,3.9606],[1596412800000,4.0173],[1596499200000,4.3441],[1596585600000,3.6773],[1596672000000,3.7479],[1596758400000,4.497],[1597017600000,4.0555],[1597104000000,3.9618],[1597190400000,3.367],[1597276800000,3.5715],[1597363200000,3.7555],[1597622400000,4.2362],[1597708800000,4.013],[1597795200000,3.7951],[1597881600000,3.8013],[1597968000000,3.7359],[1598227200000,4.0372],[1598313600000,3.6954],[1598400000000,3.6062],[1598486400000,3.5771],[1598572800000,3.6536],[1598832000000,3.6492],[1598918400000,3.5818],[1599004800000,3.7955],[1599091200000,3.7331],[1599177600000,3.9744],[1599436800000,3.7985],[1599523200000,3.8373],[1599609600000,2.1793],[1599696000000,2.0249],[1599782400000,2.0845],[1600041600000,2.0845],[1600128000000,2.2034],[1600214400000,3.0335],[1600300800000,3.0113],[1600387200000,3.1315],[1600646400000,3.1803],[1600732800000,3.1685],[1600819200000,3.7414],[1600905600000,3.7327],[1600992000000,3.8052],[1601251200000,3.7299],[1601337600000,3.6564],[1601424000000,3.2369],[1602201600000,3.3528],[1602460800000,3.2197],[1602547200000,3.3389],[1602633600000,3.4236],[1602720000000,4.345],[1602806400000,4.2766],[1603065600000,4.2724],[1603152000000,4.3302],[1603238400000,4.2711],[1603324800000,3.6785],[1603411200000,3.7542],[1603670400000,3.8811],[1603756800000,3.9112],[1603843200000,3.9231],[1603929600000,3.9822],[1604016000000,3.7003],[1604275200000,4.3692],[1604361600000,4.5113],[1604448000000,4.6507],[1604534400000,3.6383],[1604620800000,3.727],[1604880000000,3.8569],[1604966400000,3.9039],[1605052800000,3.9004],[1605139200000,3.4902],[1605225600000,3.5783],[1605484800000,3.6924],[1605571200000,3.7825],[1605657600000,3.7404],[1605744000000,3.8683],[1605830400000,3.8894],[1606089600000,3.9998],[1606176000000,3.8693],[1606262400000,3.8277],[1606348800000,3.0963],[1606435200000,3.1263],[1606694400000,3.1208],[1606780800000,3.2167],[1606867200000,3.4728],[1606953600000,4.4361],[1607040000000,4.4367],[1607299200000,4.3097],[1607385600000,4.0439],[1607472000000,3.8777],[1607558400000,5.4457],[1607644800000,5.5619],[1607904000000,5.8585],[1607990400000,6.0826],[1608076800000,6.1693],[1608163200000,4.9322],[1608249600000,4.869],[1608508800000,5.1306],[1608595200000,4.8971],[1608681600000,5.5511],[1608768000000,6.421],[1608854400000,6.3986],[1609113600000,6.8007],[1609200000000,6.6374],[1609286400000,7.2907],[1609372800000,6.9512],[1609718400000,6.9818],[1609804800000,7.424],[1609891200000,7.1175],[1609977600000,7.2957],[1610064000000,6.667],[1610323200000,6.7373],[1610409600000,6.7167],[1610496000000,7.6985],[1610582400000,7.5783],[1610668800000,4.6287],[1610928000000,4.6362],[1611014400000,4.6293],[1611100800000,4.648],[1611187200000,4.6312],[1611273600000,5.4328],[1611532800000,5.1744],[1611619200000,5.1781],[1611705600000,5.2073],[1611792000000,4.9574],[1611878400000,6.6551],[1612137600000,6.5142],[1612224000000,6.7329],[1612310400000,6.8894],[1612396800000,6.7025],[1612483200000,5.975],[1612742400000,5.5578],[1612828800000,6.0008],[1612915200000,6.0532],[1613606400000,5.8634],[1613692800000,3.4948],[1613952000000,3.3946],[1614038400000,3.4088],[1614124800000,3.377],[1614211200000,3.3862],[1614297600000,2.1822],[1614556800000,2.2151],[1614643200000,2.2063],[1614729600000,2.2129],[1614816000000,2.1657],[1614902400000,2.7727],[1615161600000,2.5953],[1615248000000,2.678],[1615334400000,2.6964],[1615420800000,2.7644],[1615507200000,3.1994],[1615766400000,3.1887],[1615852800000,3.1692],[1615939200000,3.7232],[1616025600000,3.6155],[1616112000000,3.0692],[1616371200000,3.1004],[1616457600000,3.0652],[1616544000000,2.7037],[1616630400000,3.0324],[1616716800000,3.8163],[1616976000000,3.7862],[1617062400000,3.7708],[1617148800000,3.8565],[1617235200000,4.1525],[1617321600000,5.2429],[1617667200000,5.2523],[1617753600000,5.395],[1617840000000,5.4287],[1617926400000,5.1533],[1618185600000,4.5809],[1618272000000,4.4703],[1618358400000,4.606],[1618444800000,4.6609],[1618531200000,4.5728],[1618790400000,2.6989],[1618876800000,2.7134],[1618963200000,2.7759],[1619049600000,2.7798],[1619136000000,2.8928],[1619395200000,4.6655],[1619481600000,4.5734],[1619568000000,4.5122],[1619654400000,4.4707],[1619740800000,4.4215],[1620259200000,4.4451],[1620345600000,4.5434],[1620604800000,4.2683],[1620691200000,4.3848],[1620777600000,4.3197],[1620864000000,2.6823],[1620950400000,2.7643],[1621209600000,2.6226],[1621296000000,2.8201],[1621382400000,2.841],[1621468800000,4.933],[1621555200000,4.9127],[1621814400000,4.9006],[1621900800000,5.0884],[1621987200000,5.0434],[1622073600000,4.7527],[1622160000000,4.7866],[1622419200000,4.9098],[1622505600000,4.9909],[1622592000000,4.9691],[1622678400000,4.9642],[1622764800000,5.0558],[1623024000000,5.145],[1623110400000,4.9402],[1623196800000,4.9255],[1623283200000,4.5956],[1623369600000,4.7039],[1623715200000,4.9316],[1623801600000,5.1302],[1623888000000,5.129],[1623974400000,6.3445],[1624233600000,6.2725],[1624320000000,6.6906],[1624406400000,6.8924],[1624492800000,7.1692],[1624579200000,7.0961],[1624838400000,8.0206],[1624924800000,7.4607],[1625011200000,7.2784],[1625097600000,7.3169],[1625184000000,5.6264],[1625443200000,5.6547],[1625529600000,5.7069],[1625616000000,5.7199],[1625702400000,5.6783],[1625788800000,5.2404],[1626048000000,5.3674],[1626134400000,5.1826],[1626220800000,4.9421],[1626307200000,5.1978],[1626393600000,7.3588],[1626652800000,7.3091],[1626739200000,7.473],[1626825600000,7.5826],[1626912000000,8.131],[1626998400000,5.1248],[1627257600000,5.0857],[1627344000000,4.7164],[1627430400000,4.6211],[1627516800000,4.6854],[1627603200000,5.744],[1627862400000,5.9404],[1627948800000,5.4464],[1628035200000,5.8692],[1628121600000,6.3734],[1628208000000,4.0803],[1628467200000,4.1004],[1628553600000,4.1112],[1628640000000,4.1528],[1628726400000,4.3718],[1628812800000,4.7452],[1629072000000,4.845],[1629158400000,4.6235],[1629244800000,4.7066],[1629331200000,4.7687],[1629417600000,3.2118],[1629676800000,3.1545],[1629763200000,3.1816],[1629849600000,3.5544],[1629936000000,3.2028],[1630022400000,5.862],[1630281600000,5.9092],[1630368000000,6.0118],[1630454400000,6.166],[1630540800000,5.8797],[1630627200000,3.9013],[1630886400000,3.877],[1630972800000,3.9765],[1631059200000,4.1799],[1631145600000,4.2484],[1631232000000,3.5242],[1631491200000,3.779],[1631577600000,3.709],[1631664000000,3.6499],[1631750400000,3.5375],[1631836800000,3.3756],[1632268800000,3.4454],[1632355200000,3.4267],[1632441600000,3.4188],[1632700800000,3.4766],[1632787200000,5.3141],[1632873600000,5.1451],[1632960000000,5.3599],[1633651200000,4.8835],[1633910400000,5.1425],[1633996800000,4.7545],[1634083200000,4.9501],[1634169600000,4.9119],[1634256000000,5.1926],[1634515200000,5.0409],[1634601600000,4.5023],[1634688000000,4.4215],[1634774400000,4.488],[1634860800000,4.6626],[1635120000000,4.7794],[1635206400000,3.7679],[1635292800000,3.7377],[1635379200000,3.641],[1635465600000,3.6705],[1635724800000,3.6737],[1635811200000,4.5497],[1635897600000,4.9653],[1635984000000,5.1162],[1636070400000,4.8836],[1636329600000,4.6886],[1636416000000,4.4858],[1636502400000,4.5312],[1636588800000,4.7902],[1636675200000,4.7104],[1636934400000,4.7158],[1637020800000,5.5377],[1637107200000,5.5141],[1637193600000,5.4586],[1637280000000,5.4965],[1637539200000,5.566],[1637625600000,3.8204],[1637712000000,4.0226],[1637798400000,4.1773],[1637884800000,4.1108],[1638144000000,4.086],[1638230400000,4.1135]],\"color\":\"#F08B55\"},{\"name\":\"2\\u5206\\u4f4d\\u6570\",\"yAxis\":0,\"data\":[[1577923200000,null],[1578009600000,null],[1578268800000,3.4194],[1578355200000,3.4444],[1578441600000,3.3523],[1578528000000,3.5297],[1578614400000,3.4907],[1578873600000,3.2125],[1578960000000,3.2472],[1579046400000,3.1965],[1579132800000,2.9245],[1579219200000,2.9318],[1579478400000,2.571],[1579564800000,2.517],[1579651200000,2.5658],[1579737600000,2.4474],[1580688000000,6.3022],[1580774400000,2.4302],[1580860800000,2.5988],[1580947200000,2.6816],[1581033600000,4.2214],[1581292800000,4.128],[1581379200000,2.8755],[1581465600000,3.7253],[1581552000000,3.6538],[1581638400000,3.8888],[1581897600000,4.2298],[1581984000000,2.3169],[1582070400000,2.3217],[1582156800000,2.3739],[1582243200000,2.389],[1582502400000,2.2742],[1582588800000,3.2095],[1582675200000,3.2756],[1582761600000,3.0689],[1582848000000,2.9618],[1583107200000,3.222],[1583193600000,2.5626],[1583280000000,2.6716],[1583366400000,2.6993],[1583452800000,2.6386],[1583712000000,2.6298],[1583798400000,3.0719],[1583884800000,2.8659],[1583971200000,3.0646],[1584057600000,3.0291],[1584316800000,2.6309],[1584403200000,1.6892],[1584489600000,1.651],[1584576000000,1.6168],[1584662400000,1.7046],[1584921600000,1.6538],[1585008000000,1.5198],[1585094400000,1.546],[1585180800000,1.5191],[1585267200000,1.5221],[1585526400000,1.5041],[1585612800000,1.6405],[1585699200000,1.8182],[1585785600000,1.8481],[1585872000000,1.8628],[1586217600000,2.0212],[1586304000000,2.0711],[1586390400000,1.9851],[1586476800000,1.9813],[1586736000000,1.9319],[1586822400000,2.1283],[1586908800000,2.1702],[1586995200000,2.1702],[1587081600000,2.2212],[1587340800000,2.2273],[1587427200000,2.2645],[1587513600000,3.528],[1587600000000,3.5381],[1587686400000,3.5329],[1587945600000,3.5472],[1588032000000,3.6797],[1588118400000,2.9751],[1588204800000,3.0803],[1588723200000,3.2642],[1588809600000,3.2599],[1588896000000,3.2605],[1589155200000,2.4589],[1589241600000,2.3368],[1589328000000,2.3985],[1589414400000,2.3789],[1589500800000,2.4713],[1589760000000,2.2678],[1589846400000,2.2921],[1589932800000,2.2845],[1590019200000,2.3034],[1590105600000,2.2585],[1590364800000,2.3346],[1590451200000,2.5597],[1590537600000,2.5295],[1590624000000,2.5124],[1590710400000,2.7738],[1590969600000,2.2105],[1591056000000,2.2777],[1591142400000,2.3338],[1591228800000,2.3645],[1591315200000,2.3688],[1591574400000,2.3619],[1591660800000,2.3724],[1591747200000,2.4388],[1591833600000,2.5527],[1591920000000,2.5854],[1592179200000,2.6135],[1592265600000,3.0595],[1592352000000,3.1075],[1592438400000,3.1371],[1592524800000,3.1376],[1592784000000,2.4154],[1592870400000,2.3945],[1592956800000,2.4892],[1593388800000,2.4836],[1593475200000,2.5215],[1593561600000,2.7905],[1593648000000,2.6174],[1593734400000,2.8527],[1593993600000,3.0287],[1594080000000,2.7162],[1594166400000,3.0391],[1594252800000,3.0418],[1594339200000,3.1143],[1594598400000,3.0969],[1594684800000,3.0623],[1594771200000,3.063],[1594857600000,2.6328],[1594944000000,3.0156],[1595203200000,3.2932],[1595289600000,3.2763],[1595376000000,2.6793],[1595462400000,2.634],[1595548800000,2.4859],[1595808000000,2.5414],[1595894400000,2.6204],[1595980800000,2.3563],[1596067200000,2.4281],[1596153600000,2.38],[1596412800000,2.5274],[1596499200000,2.788],[1596585600000,2.8243],[1596672000000,3.0196],[1596758400000,2.9501],[1597017600000,3.1255],[1597104000000,3.116],[1597190400000,2.7962],[1597276800000,2.949],[1597363200000,3.1453],[1597622400000,2.8682],[1597708800000,3.3619],[1597795200000,3.171],[1597881600000,3.1117],[1597968000000,3.1968],[1598227200000,3.2045],[1598313600000,3.1099],[1598400000000,3.1432],[1598486400000,3.1982],[1598572800000,3.1729],[1598832000000,3.2299],[1598918400000,3.249],[1599004800000,2.2936],[1599091200000,2.6625],[1599177600000,2.9425],[1599436800000,2.8742],[1599523200000,2.6872],[1599609600000,3.034],[1599696000000,3.0497],[1599782400000,3.0044],[1600041600000,3.0331],[1600128000000,2.9948],[1600214400000,3.0587],[1600300800000,3.1212],[1600387200000,3.1921],[1600646400000,3.1842],[1600732800000,3.1682],[1600819200000,3.8683],[1600905600000,3.7547],[1600992000000,3.9779],[1601251200000,3.8746],[1601337600000,3.989],[1601424000000,3.1509],[1602201600000,3.3064],[1602460800000,3.3976],[1602547200000,3.3763],[1602633600000,3.3045],[1602720000000,3.9254],[1602806400000,3.9197],[1603065600000,3.9126],[1603152000000,3.955],[1603238400000,3.9609],[1603324800000,2.5959],[1603411200000,2.6576],[1603670400000,2.6309],[1603756800000,2.6209],[1603843200000,2.63],[1603929600000,2.6469],[1604016000000,2.6234],[1604275200000,2.6962],[1604361600000,2.767],[1604448000000,2.7974],[1604534400000,4.4382],[1604620800000,4.204],[1604880000000,4.4653],[1604966400000,4.7265],[1605052800000,4.1925],[1605139200000,4.5583],[1605225600000,4.4568],[1605484800000,4.5625],[1605571200000,4.5805],[1605657600000,4.5748],[1605744000000,2.5581],[1605830400000,2.5934],[1606089600000,2.632],[1606176000000,2.5023],[1606262400000,2.6061],[1606348800000,3.4096],[1606435200000,3.5054],[1606694400000,3.474],[1606780800000,3.6346],[1606867200000,3.7895],[1606953600000,2.5351],[1607040000000,2.4277],[1607299200000,2.3872],[1607385600000,2.4776],[1607472000000,2.3754],[1607558400000,3.7603],[1607644800000,3.729],[1607904000000,3.8442],[1607990400000,3.816],[1608076800000,3.8782],[1608163200000,4.4353],[1608249600000,4.1889],[1608508800000,4.2121],[1608595200000,4.0042],[1608681600000,3.879],[1608768000000,1.8545],[1608854400000,1.8697],[1609113600000,1.8455],[1609200000000,1.8411],[1609286400000,1.9143],[1609372800000,4.0232],[1609718400000,3.8784],[1609804800000,3.9746],[1609891200000,4.1532],[1609977600000,4.4192],[1610064000000,4.0426],[1610323200000,3.8194],[1610409600000,3.9844],[1610496000000,3.9393],[1610582400000,3.9975],[1610668800000,3.2952],[1610928000000,3.0129],[1611014400000,3.4943],[1611100800000,3.7584],[1611187200000,4.0112],[1611273600000,2.5185],[1611532800000,2.5156],[1611619200000,2.5251],[1611705600000,2.5557],[1611792000000,2.5211],[1611878400000,5.7377],[1612137600000,5.6233],[1612224000000,5.6226],[1612310400000,5.4033],[1612396800000,5.2784],[1612483200000,4.0678],[1612742400000,3.7908],[1612828800000,4.6021],[1612915200000,4.6664],[1613606400000,4.9763],[1613692800000,3.2081],[1613952000000,3.1475],[1614038400000,3.2079],[1614124800000,3.2363],[1614211200000,3.3556],[1614297600000,3.4806],[1614556800000,3.4278],[1614643200000,3.4616],[1614729600000,3.4556],[1614816000000,3.0922],[1614902400000,3.3487],[1615161600000,3.0248],[1615248000000,3.386],[1615334400000,3.7664],[1615420800000,4.0315],[1615507200000,4.2736],[1615766400000,4.156],[1615852800000,4.4685],[1615939200000,4.6095],[1616025600000,4.5282],[1616112000000,2.7881],[1616371200000,2.8584],[1616457600000,2.8784],[1616544000000,2.8659],[1616630400000,2.8699],[1616716800000,2.8346],[1616976000000,2.8059],[1617062400000,2.8836],[1617148800000,2.8844],[1617235200000,3.0094],[1617321600000,3.4091],[1617667200000,3.5478],[1617753600000,3.6583],[1617840000000,3.6186],[1617926400000,3.5945],[1618185600000,4.2141],[1618272000000,4.3303],[1618358400000,4.5145],[1618444800000,4.5346],[1618531200000,4.4438],[1618790400000,2.8473],[1618876800000,3.0814],[1618963200000,3.186],[1619049600000,3.2047],[1619136000000,3.3453],[1619395200000,3.7326],[1619481600000,3.6814],[1619568000000,3.5375],[1619654400000,3.4583],[1619740800000,3.5764],[1620259200000,2.8642],[1620345600000,2.8894],[1620604800000,2.9887],[1620691200000,2.9888],[1620777600000,2.9903],[1620864000000,3.1234],[1620950400000,3.4319],[1621209600000,3.3886],[1621296000000,3.4515],[1621382400000,3.4827],[1621468800000,3.8454],[1621555200000,3.8581],[1621814400000,3.8987],[1621900800000,3.9669],[1621987200000,4.2351],[1622073600000,4.0893],[1622160000000,4.0346],[1622419200000,4.1132],[1622505600000,4.0936],[1622592000000,4.1099],[1622678400000,3.71],[1622764800000,3.7712],[1623024000000,4.1848],[1623110400000,4.3014],[1623196800000,4.2677],[1623283200000,3.1318],[1623369600000,3.2072],[1623715200000,3.203],[1623801600000,2.9394],[1623888000000,2.9139],[1623974400000,4.0395],[1624233600000,4.169],[1624320000000,4.1576],[1624406400000,4.2147],[1624492800000,4.2994],[1624579200000,3.4722],[1624838400000,3.4779],[1624924800000,3.4536],[1625011200000,3.9528],[1625097600000,3.8635],[1625184000000,4.821],[1625443200000,4.7162],[1625529600000,4.906],[1625616000000,4.8952],[1625702400000,4.9708],[1625788800000,4.1591],[1626048000000,4.032],[1626134400000,4.2422],[1626220800000,4.1661],[1626307200000,4.1662],[1626393600000,3.7712],[1626652800000,3.943],[1626739200000,3.9759],[1626825600000,3.8005],[1626912000000,3.7878],[1626998400000,4.0428],[1627257600000,4.0594],[1627344000000,3.8725],[1627430400000,3.7142],[1627516800000,3.7606],[1627603200000,3.6907],[1627862400000,3.7187],[1627948800000,3.8503],[1628035200000,3.7464],[1628121600000,3.7421],[1628208000000,4.596],[1628467200000,4.7606],[1628553600000,4.8739],[1628640000000,4.897],[1628726400000,4.9441],[1628812800000,4.0183],[1629072000000,4.4197],[1629158400000,4.1218],[1629244800000,4.777],[1629331200000,4.7774],[1629417600000,4.7683],[1629676800000,4.9043],[1629763200000,4.9148],[1629849600000,4.9419],[1629936000000,4.8779],[1630022400000,3.6425],[1630281600000,3.448],[1630368000000,3.2218],[1630454400000,3.5384],[1630540800000,4.1426],[1630627200000,3.8718],[1630886400000,3.904],[1630972800000,3.8756],[1631059200000,3.8685],[1631145600000,3.9404],[1631232000000,2.2935],[1631491200000,2.252],[1631577600000,2.2389],[1631664000000,2.2183],[1631750400000,2.1181],[1631836800000,2.7019],[1632268800000,3.2188],[1632355200000,2.9149],[1632441600000,2.7691],[1632700800000,2.5435],[1632787200000,3.6815],[1632873600000,3.6626],[1632960000000,3.6901],[1633651200000,3.6084],[1633910400000,3.6214],[1633996800000,3.408],[1634083200000,3.3877],[1634169600000,3.4294],[1634256000000,3.3657],[1634515200000,3.3207],[1634601600000,3.7741],[1634688000000,3.7841],[1634774400000,3.8221],[1634860800000,3.8287],[1635120000000,3.8679],[1635206400000,3.6931],[1635292800000,3.7129],[1635379200000,3.6651],[1635465600000,3.785],[1635724800000,3.8315],[1635811200000,2.9206],[1635897600000,2.9912],[1635984000000,3.0497],[1636070400000,3.0351],[1636329600000,2.9619],[1636416000000,3.1769],[1636502400000,3.2014],[1636588800000,3.409],[1636675200000,3.3366],[1636934400000,3.3638],[1637020800000,2.9652],[1637107200000,3.0937],[1637193600000,2.9577],[1637280000000,3.0845],[1637539200000,3.1658],[1637625600000,3.4626],[1637712000000,4.0856],[1637798400000,4.0577],[1637884800000,4.0881],[1638144000000,4.2878],[1638230400000,4.0067]],\"color\":\"#648FD5\"},{\"name\":\"3\\u5206\\u4f4d\\u6570\",\"yAxis\":0,\"data\":[[1577923200000,null],[1578009600000,null],[1578268800000,1.9986],[1578355200000,2.1533],[1578441600000,2.0906],[1578528000000,2.2633],[1578614400000,2.2318],[1578873600000,3.0276],[1578960000000,3.0119],[1579046400000,2.9788],[1579132800000,2.9668],[1579219200000,3.0735],[1579478400000,2.6141],[1579564800000,2.6466],[1579651200000,2.6573],[1579737600000,2.5474],[1580688000000,2.4051],[1580774400000,3.8305],[1580860800000,3.9417],[1580947200000,3.9461],[1581033600000,4.0295],[1581292800000,4.0837],[1581379200000,2.5026],[1581465600000,2.4107],[1581552000000,2.3675],[1581638400000,2.2137],[1581897600000,2.2388],[1581984000000,3.4959],[1582070400000,3.5375],[1582156800000,3.5868],[1582243200000,3.5894],[1582502400000,3.4699],[1582588800000,2.8385],[1582675200000,2.7904],[1582761600000,2.8333],[1582848000000,2.6355],[1583107200000,2.8333],[1583193600000,2.4501],[1583280000000,2.6382],[1583366400000,2.6381],[1583452800000,2.7497],[1583712000000,2.6294],[1583798400000,2.8291],[1583884800000,3.0797],[1583971200000,2.9124],[1584057600000,2.8194],[1584316800000,2.4916],[1584403200000,1.7252],[1584489600000,1.5806],[1584576000000,1.5397],[1584662400000,1.6447],[1584921600000,1.6599],[1585008000000,2.5228],[1585094400000,2.5869],[1585180800000,2.4519],[1585267200000,2.4302],[1585526400000,2.3397],[1585612800000,2.1029],[1585699200000,2.13],[1585785600000,2.2025],[1585872000000,2.2018],[1586217600000,2.4888],[1586304000000,1.9194],[1586390400000,1.9548],[1586476800000,1.9207],[1586736000000,1.8444],[1586822400000,2.0537],[1586908800000,2.0102],[1586995200000,1.9842],[1587081600000,2.2051],[1587340800000,2.1715],[1587427200000,2.1206],[1587513600000,2.2091],[1587600000000,2.2345],[1587686400000,2.2982],[1587945600000,2.2604],[1588032000000,2.1877],[1588118400000,2.2217],[1588204800000,2.3912],[1588723200000,2.4227],[1588809600000,2.3967],[1588896000000,2.4498],[1589155200000,2.1245],[1589241600000,2.115],[1589328000000,2.0877],[1589414400000,2.0631],[1589500800000,2.1855],[1589760000000,2.2481],[1589846400000,2.3362],[1589932800000,2.3154],[1590019200000,2.2787],[1590105600000,2.2183],[1590364800000,2.3728],[1590451200000,2.423],[1590537600000,2.4253],[1590624000000,2.4176],[1590710400000,2.4077],[1590969600000,2.8587],[1591056000000,2.9194],[1591142400000,2.8871],[1591228800000,2.9496],[1591315200000,2.9518],[1591574400000,2.0648],[1591660800000,2.1564],[1591747200000,2.2134],[1591833600000,1.9226],[1591920000000,2.0313],[1592179200000,1.9778],[1592265600000,1.9845],[1592352000000,2.3719],[1592438400000,2.4471],[1592524800000,2.3524],[1592784000000,2.4309],[1592870400000,2.5197],[1592956800000,2.3776],[1593388800000,2.4639],[1593475200000,2.4805],[1593561600000,4.1239],[1593648000000,4.4049],[1593734400000,4.0435],[1593993600000,4.8848],[1594080000000,4.3727],[1594166400000,3.7068],[1594252800000,3.7914],[1594339200000,3.6539],[1594598400000,3.7195],[1594684800000,3.7281],[1594771200000,3.4736],[1594857600000,3.1858],[1594944000000,3.2855],[1595203200000,3.6236],[1595289600000,3.4909],[1595376000000,3.3859],[1595462400000,3.3267],[1595548800000,3.1175],[1595808000000,3.186],[1595894400000,3.1904],[1595980800000,2.3468],[1596067200000,2.3471],[1596153600000,2.7471],[1596412800000,2.8413],[1596499200000,2.8199],[1596585600000,3.3227],[1596672000000,3.2394],[1596758400000,3.21],[1597017600000,3.2456],[1597104000000,3.1758],[1597190400000,2.5047],[1597276800000,2.4666],[1597363200000,2.4864],[1597622400000,2.5675],[1597708800000,2.5219],[1597795200000,2.816],[1597881600000,2.7262],[1597968000000,2.8813],[1598227200000,2.8193],[1598313600000,2.7951],[1598400000000,3.3546],[1598486400000,3.3689],[1598572800000,3.5782],[1598832000000,3.7819],[1598918400000,3.5137],[1599004800000,3.782],[1599091200000,3.4443],[1599177600000,3.4238],[1599436800000,3.8508],[1599523200000,3.9056],[1599609600000,3.2965],[1599696000000,3.1716],[1599782400000,3.3297],[1600041600000,3.4574],[1600128000000,3.5992],[1600214400000,2.5836],[1600300800000,2.5563],[1600387200000,2.6597],[1600646400000,2.6351],[1600732800000,3.4391],[1600819200000,3.3151],[1600905600000,3.3103],[1600992000000,3.4172],[1601251200000,3.4163],[1601337600000,3.526],[1601424000000,3.6228],[1602201600000,3.6741],[1602460800000,4.0092],[1602547200000,4.0773],[1602633600000,3.8614],[1602720000000,2.8454],[1602806400000,2.9896],[1603065600000,2.8512],[1603152000000,2.9833],[1603238400000,3.0165],[1603324800000,3.2371],[1603411200000,3.4459],[1603670400000,3.5113],[1603756800000,3.6133],[1603843200000,3.6872],[1603929600000,3.355],[1604016000000,3.2928],[1604275200000,3.3697],[1604361600000,3.5185],[1604448000000,3.4833],[1604534400000,3.4714],[1604620800000,3.5375],[1604880000000,3.4735],[1604966400000,3.5318],[1605052800000,3.5571],[1605139200000,2.6291],[1605225600000,2.5794],[1605484800000,2.5563],[1605571200000,2.4944],[1605657600000,2.6682],[1605744000000,2.9967],[1605830400000,3.0912],[1606089600000,3.1404],[1606176000000,3.1201],[1606262400000,3.2079],[1606348800000,2.043],[1606435200000,2.062],[1606694400000,2.0357],[1606780800000,2.0666],[1606867200000,1.9374],[1606953600000,2.7849],[1607040000000,2.803],[1607299200000,2.7454],[1607385600000,2.7223],[1607472000000,2.6457],[1607558400000,2.8974],[1607644800000,2.8507],[1607904000000,2.9568],[1607990400000,3.2153],[1608076800000,3.4311],[1608163200000,3.5595],[1608249600000,3.5716],[1608508800000,3.4892],[1608595200000,3.4334],[1608681600000,3.4755],[1608768000000,3.4761],[1608854400000,3.8371],[1609113600000,3.7608],[1609200000000,3.7455],[1609286400000,3.7523],[1609372800000,3.1565],[1609718400000,3.2747],[1609804800000,3.1613],[1609891200000,3.2315],[1609977600000,3.2078],[1610064000000,4.7052],[1610323200000,4.5337],[1610409600000,4.5188],[1610496000000,4.4002],[1610582400000,4.4028],[1610668800000,2.7869],[1610928000000,2.8061],[1611014400000,3.0326],[1611100800000,3.2726],[1611187200000,3.2025],[1611273600000,4.8098],[1611532800000,4.8422],[1611619200000,4.5529],[1611705600000,4.8723],[1611792000000,4.7715],[1611878400000,4.4549],[1612137600000,4.4483],[1612224000000,4.5597],[1612310400000,4.4761],[1612396800000,4.3816],[1612483200000,3.7793],[1612742400000,3.5637],[1612828800000,4.0435],[1612915200000,3.7659],[1613606400000,4.0429],[1613692800000,7.5681],[1613952000000,7.433],[1614038400000,7.4553],[1614124800000,7.0142],[1614211200000,7.6129],[1614297600000,3.5846],[1614556800000,3.7772],[1614643200000,3.8185],[1614729600000,3.8152],[1614816000000,3.489],[1614902400000,3.8038],[1615161600000,3.7159],[1615248000000,3.7632],[1615334400000,3.7203],[1615420800000,3.9293],[1615507200000,3.0556],[1615766400000,3.0287],[1615852800000,3.2537],[1615939200000,3.2547],[1616025600000,3.2565],[1616112000000,4.0747],[1616371200000,4.071],[1616457600000,3.9588],[1616544000000,3.9393],[1616630400000,3.9191],[1616716800000,3.8515],[1616976000000,3.8227],[1617062400000,3.792],[1617148800000,3.7459],[1617235200000,3.7723],[1617321600000,3.8571],[1617667200000,3.7849],[1617753600000,3.8571],[1617840000000,3.9455],[1617926400000,3.9006],[1618185600000,3.4062],[1618272000000,3.4858],[1618358400000,3.593],[1618444800000,3.8975],[1618531200000,4.0265],[1618790400000,3.1919],[1618876800000,2.9958],[1618963200000,2.9714],[1619049600000,3.087],[1619136000000,3.2045],[1619395200000,3.4642],[1619481600000,3.505],[1619568000000,3.3376],[1619654400000,3.3881],[1619740800000,3.4463],[1620259200000,2.0171],[1620345600000,2.025],[1620604800000,2.0041],[1620691200000,1.9585],[1620777600000,1.9645],[1620864000000,2.2116],[1620950400000,2.3311],[1621209600000,2.2983],[1621296000000,2.3381],[1621382400000,2.3381],[1621468800000,2.6597],[1621555200000,2.7214],[1621814400000,2.7942],[1621900800000,2.8576],[1621987200000,2.8737],[1622073600000,3.3106],[1622160000000,3.3427],[1622419200000,3.3438],[1622505600000,3.3601],[1622592000000,3.3083],[1622678400000,2.2063],[1622764800000,2.2126],[1623024000000,2.2613],[1623110400000,2.2277],[1623196800000,2.2345],[1623283200000,3.8487],[1623369600000,3.737],[1623715200000,4.1566],[1623801600000,4.0027],[1623888000000,4.0264],[1623974400000,3.9189],[1624233600000,3.8155],[1624320000000,3.9158],[1624406400000,4.0208],[1624492800000,4.1055],[1624579200000,2.8866],[1624838400000,3.2725],[1624924800000,3.3795],[1625011200000,3.4499],[1625097600000,3.3725],[1625184000000,3.7665],[1625443200000,3.7044],[1625529600000,4.0645],[1625616000000,4.4467],[1625702400000,4.2695],[1625788800000,2.8159],[1626048000000,2.8695],[1626134400000,2.9269],[1626220800000,3.2145],[1626307200000,3.0323],[1626393600000,3.3705],[1626652800000,3.3255],[1626739200000,3.5026],[1626825600000,3.7662],[1626912000000,3.8347],[1626998400000,4.1602],[1627257600000,3.811],[1627344000000,4.0457],[1627430400000,4.128],[1627516800000,4.2355],[1627603200000,4.009],[1627862400000,4.1781],[1627948800000,4.1856],[1628035200000,4.2921],[1628121600000,4.6646],[1628208000000,2.4483],[1628467200000,2.6717],[1628553600000,2.6855],[1628640000000,2.7393],[1628726400000,2.7761],[1628812800000,4.4191],[1629072000000,4.3639],[1629158400000,4.3019],[1629244800000,4.3269],[1629331200000,4.3287],[1629417600000,3.848],[1629676800000,4.2463],[1629763200000,4.1734],[1629849600000,4.11],[1629936000000,4.0232],[1630022400000,4.3435],[1630281600000,4.3783],[1630368000000,4.2569],[1630454400000,4.3331],[1630540800000,4.2641],[1630627200000,3.1685],[1630886400000,3.2003],[1630972800000,3.2211],[1631059200000,3.4381],[1631145600000,3.2395],[1631232000000,4.2659],[1631491200000,4.2287],[1631577600000,4.0134],[1631664000000,4.0893],[1631750400000,4.1226],[1631836800000,2.8348],[1632268800000,2.9421],[1632355200000,2.9128],[1632441600000,2.8722],[1632700800000,2.8006],[1632787200000,1.7854],[1632873600000,1.8437],[1632960000000,1.9649],[1633651200000,1.9704],[1633910400000,1.9111],[1633996800000,2.3366],[1634083200000,2.3074],[1634169600000,2.3729],[1634256000000,2.3811],[1634515200000,2.356],[1634601600000,2.8448],[1634688000000,2.8562],[1634774400000,2.7785],[1634860800000,2.7997],[1635120000000,2.9001],[1635206400000,3.1125],[1635292800000,2.9937],[1635379200000,2.8028],[1635465600000,2.9819],[1635724800000,2.9389],[1635811200000,3.1571],[1635897600000,3.2903],[1635984000000,3.3321],[1636070400000,3.3314],[1636329600000,3.332],[1636416000000,4.7669],[1636502400000,4.2398],[1636588800000,4.7568],[1636675200000,4.2769],[1636934400000,4.4094],[1637020800000,3.3242],[1637107200000,3.5988],[1637193600000,3.4823],[1637280000000,3.6674],[1637539200000,3.5863],[1637625600000,3.6222],[1637712000000,3.5588],[1637798400000,3.6087],[1637884800000,3.5923],[1638144000000,3.5299],[1638230400000,3.5865]],\"color\":\"#E06681\"},{\"name\":\"4\\u5206\\u4f4d\\u6570\",\"yAxis\":0,\"data\":[[1577923200000,null],[1578009600000,null],[1578268800000,2.5723],[1578355200000,2.6803],[1578441600000,2.656],[1578528000000,2.8958],[1578614400000,2.8167],[1578873600000,2.2202],[1578960000000,2.1378],[1579046400000,2.1164],[1579132800000,2.1859],[1579219200000,2.2522],[1579478400000,2.5064],[1579564800000,2.6368],[1579651200000,2.6553],[1579737600000,2.5036],[1580688000000,1.7385],[1580774400000,2.3304],[1580860800000,2.8699],[1580947200000,2.6142],[1581033600000,2.8615],[1581292800000,2.8975],[1581379200000,1.8883],[1581465600000,1.9809],[1581552000000,2.184],[1581638400000,2.4148],[1581897600000,2.439],[1581984000000,2.739],[1582070400000,2.6541],[1582156800000,2.755],[1582243200000,2.8402],[1582502400000,2.7342],[1582588800000,2.2207],[1582675200000,2.1538],[1582761600000,2.1569],[1582848000000,2.0217],[1583107200000,2.0662],[1583193600000,2.4451],[1583280000000,2.4934],[1583366400000,2.6248],[1583452800000,2.5366],[1583712000000,2.454],[1583798400000,1.6211],[1583884800000,1.6061],[1583971200000,1.6119],[1584057600000,1.5826],[1584316800000,1.4823],[1584403200000,2.0707],[1584489600000,2.1293],[1584576000000,2.0981],[1584662400000,2.7227],[1584921600000,2.3567],[1585008000000,1.9301],[1585094400000,2.0147],[1585180800000,1.9989],[1585267200000,1.9626],[1585526400000,1.8382],[1585612800000,2.18],[1585699200000,2.2139],[1585785600000,2.2108],[1585872000000,2.232],[1586217600000,2.2931],[1586304000000,2.442],[1586390400000,2.9101],[1586476800000,2.8169],[1586736000000,2.793],[1586822400000,2.5845],[1586908800000,2.2844],[1586995200000,2.2724],[1587081600000,2.3423],[1587340800000,2.3905],[1587427200000,2.3477],[1587513600000,1.75],[1587600000000,1.7262],[1587686400000,1.7054],[1587945600000,1.6974],[1588032000000,1.7222],[1588118400000,2.1493],[1588204800000,2.2256],[1588723200000,2.232],[1588809600000,2.2482],[1588896000000,2.2854],[1589155200000,2.8402],[1589241600000,2.8269],[1589328000000,3.0469],[1589414400000,3.0941],[1589500800000,3.074],[1589760000000,2.2584],[1589846400000,2.1747],[1589932800000,2.1675],[1590019200000,2.1209],[1590105600000,2.0868],[1590364800000,1.5795],[1590451200000,1.6381],[1590537600000,1.6081],[1590624000000,1.7106],[1590710400000,1.9311],[1590969600000,2.45],[1591056000000,2.5203],[1591142400000,2.579],[1591228800000,2.5154],[1591315200000,2.4891],[1591574400000,2.0006],[1591660800000,2.0802],[1591747200000,2.0376],[1591833600000,1.9347],[1591920000000,1.9276],[1592179200000,2.2955],[1592265600000,2.2955],[1592352000000,2.3129],[1592438400000,2.595],[1592524800000,2.6415],[1592784000000,3.3171],[1592870400000,3.2348],[1592956800000,2.84],[1593388800000,3.1792],[1593475200000,3.5583],[1593561600000,2.9966],[1593648000000,2.9542],[1593734400000,3.096],[1593993600000,3.4929],[1594080000000,3.4944],[1594166400000,3.7528],[1594252800000,3.7679],[1594339200000,3.968],[1594598400000,3.8395],[1594684800000,3.9876],[1594771200000,2.8792],[1594857600000,2.5057],[1594944000000,2.8707],[1595203200000,3.0496],[1595289600000,3.0286],[1595376000000,3.0031],[1595462400000,2.8347],[1595548800000,2.7808],[1595808000000,2.8113],[1595894400000,3.0012],[1595980800000,2.6336],[1596067200000,2.693],[1596153600000,2.6847],[1596412800000,2.731],[1596499200000,2.9629],[1596585600000,2.7084],[1596672000000,2.7443],[1596758400000,2.6852],[1597017600000,2.7388],[1597104000000,2.8398],[1597190400000,2.6891],[1597276800000,2.7934],[1597363200000,2.7951],[1597622400000,2.9559],[1597708800000,2.935],[1597795200000,3.3166],[1597881600000,3.3073],[1597968000000,3.2968],[1598227200000,3.2724],[1598313600000,3.2622],[1598400000000,2.3887],[1598486400000,2.3379],[1598572800000,2.3625],[1598832000000,2.3888],[1598918400000,2.426],[1599004800000,3.8581],[1599091200000,3.8417],[1599177600000,3.8185],[1599436800000,3.6609],[1599523200000,3.7569],[1599609600000,2.8961],[1599696000000,2.9165],[1599782400000,2.9193],[1600041600000,2.935],[1600128000000,2.9677],[1600214400000,2.9664],[1600300800000,3.0215],[1600387200000,3.0632],[1600646400000,3.0659],[1600732800000,3.0487],[1600819200000,3.6741],[1600905600000,3.7067],[1600992000000,3.7966],[1601251200000,3.6267],[1601337600000,3.6921],[1601424000000,2.3517],[1602201600000,2.4177],[1602460800000,2.4245],[1602547200000,2.5085],[1602633600000,2.5205],[1602720000000,2.6626],[1602806400000,2.7336],[1603065600000,2.7752],[1603152000000,2.8022],[1603238400000,2.8044],[1603324800000,3.0959],[1603411200000,3.0596],[1603670400000,3.0845],[1603756800000,3.0755],[1603843200000,3.2203],[1603929600000,2.6545],[1604016000000,2.3669],[1604275200000,2.6357],[1604361600000,2.7602],[1604448000000,2.7911],[1604534400000,2.2913],[1604620800000,2.3101],[1604880000000,2.3238],[1604966400000,2.498],[1605052800000,2.5069],[1605139200000,3.9115],[1605225600000,3.8878],[1605484800000,3.9059],[1605571200000,3.8785],[1605657600000,3.8694],[1605744000000,2.6849],[1605830400000,2.766],[1606089600000,3.096],[1606176000000,3.5315],[1606262400000,3.4274],[1606348800000,4.6902],[1606435200000,4.8394],[1606694400000,4.8977],[1606780800000,5.0448],[1606867200000,5.1443],[1606953600000,3.2351],[1607040000000,3.1985],[1607299200000,3.1565],[1607385600000,3.3971],[1607472000000,3.4616],[1607558400000,2.0971],[1607644800000,2.1276],[1607904000000,1.9501],[1607990400000,2.0719],[1608076800000,2.1955],[1608163200000,2.9331],[1608249600000,2.8764],[1608508800000,2.8612],[1608595200000,2.7398],[1608681600000,2.7401],[1608768000000,5.397],[1608854400000,5.4919],[1609113600000,5.7074],[1609200000000,5.4116],[1609286400000,5.2281],[1609372800000,3.2876],[1609718400000,2.9588],[1609804800000,3.2742],[1609891200000,3.4684],[1609977600000,3.4734],[1610064000000,2.3684],[1610323200000,2.8705],[1610409600000,3.1677],[1610496000000,3.1034],[1610582400000,3.0654],[1610668800000,2.0127],[1610928000000,1.9657],[1611014400000,1.9986],[1611100800000,1.9258],[1611187200000,2.0308],[1611273600000,3.2227],[1611532800000,3.2475],[1611619200000,3.2613],[1611705600000,3.284],[1611792000000,3.1668],[1611878400000,3.0224],[1612137600000,2.9505],[1612224000000,3.2206],[1612310400000,3.2029],[1612396800000,3.0972],[1612483200000,2.6899],[1612742400000,2.7485],[1612828800000,2.4735],[1612915200000,3.0859],[1613606400000,2.9559],[1613692800000,3.3735],[1613952000000,2.8321],[1614038400000,2.8468],[1614124800000,2.7758],[1614211200000,3.3083],[1614297600000,5.1602],[1614556800000,5.2301],[1614643200000,5.2668],[1614729600000,5.4661],[1614816000000,5.0883],[1614902400000,3.8524],[1615161600000,3.1219],[1615248000000,3.6035],[1615334400000,3.2786],[1615420800000,3.5983],[1615507200000,2.7009],[1615766400000,2.8737],[1615852800000,2.6777],[1615939200000,2.8878],[1616025600000,3.1126],[1616112000000,3.5738],[1616371200000,3.6094],[1616457600000,3.9319],[1616544000000,4.2102],[1616630400000,4.317],[1616716800000,3.1002],[1616976000000,3.0911],[1617062400000,3.0019],[1617148800000,2.9813],[1617235200000,3.0271],[1617321600000,3.154],[1617667200000,3.1327],[1617753600000,3.1018],[1617840000000,3.0762],[1617926400000,3.0165],[1618185600000,2.1721],[1618272000000,2.2022],[1618358400000,2.2086],[1618444800000,2.1776],[1618531200000,2.186],[1618790400000,4.3064],[1618876800000,4.5747],[1618963200000,4.3953],[1619049600000,4.4559],[1619136000000,4.5047],[1619395200000,3.7662],[1619481600000,3.6767],[1619568000000,3.7583],[1619654400000,3.5628],[1619740800000,3.5207],[1620259200000,3.5269],[1620345600000,3.6299],[1620604800000,3.6942],[1620691200000,3.7764],[1620777600000,3.6171],[1620864000000,3.1471],[1620950400000,3.1397],[1621209600000,3.2509],[1621296000000,3.1445],[1621382400000,3.2039],[1621468800000,3.3822],[1621555200000,3.2958],[1621814400000,3.4206],[1621900800000,3.6578],[1621987200000,4.1217],[1622073600000,3.4052],[1622160000000,3.6632],[1622419200000,3.6515],[1622505600000,3.6536],[1622592000000,3.5656],[1622678400000,3.7088],[1622764800000,3.7285],[1623024000000,3.7503],[1623110400000,3.9954],[1623196800000,3.9863],[1623283200000,3.2114],[1623369600000,2.9582],[1623715200000,3.017],[1623801600000,3.0206],[1623888000000,3.0635],[1623974400000,3.5896],[1624233600000,3.6324],[1624320000000,3.6327],[1624406400000,4.1399],[1624492800000,4.0507],[1624579200000,4.7663],[1624838400000,4.7513],[1624924800000,4.7593],[1625011200000,4.7606],[1625097600000,4.7409],[1625184000000,3.9797],[1625443200000,4.0528],[1625529600000,3.8904],[1625616000000,3.9945],[1625702400000,3.9967],[1625788800000,4.7576],[1626048000000,4.9278],[1626134400000,5.2413],[1626220800000,5.2591],[1626307200000,5.1323],[1626393600000,3.6543],[1626652800000,3.8195],[1626739200000,3.8608],[1626825600000,3.8045],[1626912000000,4.1814],[1626998400000,4.5775],[1627257600000,4.286],[1627344000000,4.3973],[1627430400000,4.6427],[1627516800000,4.5363],[1627603200000,4.151],[1627862400000,4.2062],[1627948800000,4.3922],[1628035200000,4.4428],[1628121600000,4.345],[1628208000000,4.682],[1628467200000,4.8283],[1628553600000,5.1012],[1628640000000,5.2121],[1628726400000,5.1273],[1628812800000,4.4825],[1629072000000,4.4743],[1629158400000,4.7081],[1629244800000,5.2332],[1629331200000,4.5546],[1629417600000,3.7856],[1629676800000,3.8493],[1629763200000,3.8616],[1629849600000,3.8243],[1629936000000,3.7991],[1630022400000,3.3139],[1630281600000,3.2402],[1630368000000,3.4492],[1630454400000,3.6037],[1630540800000,3.5515],[1630627200000,4.049],[1630886400000,4.0814],[1630972800000,4.0965],[1631059200000,4.1609],[1631145600000,4.0643],[1631232000000,4.2288],[1631491200000,4.2914],[1631577600000,4.2414],[1631664000000,4.1632],[1631750400000,4.07],[1631836800000,2.5594],[1632268800000,3.077],[1632355200000,2.85],[1632441600000,2.5985],[1632700800000,2.4947],[1632787200000,2.6224],[1632873600000,2.6293],[1632960000000,2.5915],[1633651200000,2.6001],[1633910400000,2.728],[1633996800000,3.337],[1634083200000,3.384],[1634169600000,3.378],[1634256000000,3.3427],[1634515200000,3.3489],[1634601600000,3.3456],[1634688000000,3.3393],[1634774400000,3.3564],[1634860800000,3.4916],[1635120000000,3.4334],[1635206400000,3.8187],[1635292800000,3.847],[1635379200000,3.8774],[1635465600000,3.986],[1635724800000,3.879],[1635811200000,3.045],[1635897600000,3.1113],[1635984000000,3.0944],[1636070400000,3.1391],[1636329600000,3.0362],[1636416000000,3.5299],[1636502400000,3.5658],[1636588800000,3.6191],[1636675200000,3.6706],[1636934400000,3.6442],[1637020800000,3.2901],[1637107200000,3.5464],[1637193600000,3.5211],[1637280000000,3.5957],[1637539200000,3.6197],[1637625600000,3.8568],[1637712000000,3.9378],[1637798400000,3.9762],[1637884800000,3.9985],[1638144000000,4.0944],[1638230400000,3.4121]],\"color\":\"#E2D269\"},{\"name\":\"5\\u5206\\u4f4d\\u6570\",\"yAxis\":0,\"data\":[[1577923200000,null],[1578009600000,null],[1578268800000,2.5976],[1578355200000,2.5707],[1578441600000,2.4992],[1578528000000,2.6487],[1578614400000,2.6184],[1578873600000,2.243],[1578960000000,2.3864],[1579046400000,2.3277],[1579132800000,2.2995],[1579219200000,2.3741],[1579478400000,3.1342],[1579564800000,3.1418],[1579651200000,3.0819],[1579737600000,2.9676],[1580688000000,3.7617],[1580774400000,4.2436],[1580860800000,4.3697],[1580947200000,4.4852],[1581033600000,4.462],[1581292800000,4.5205],[1581379200000,2.6423],[1581465600000,2.3216],[1581552000000,2.5082],[1581638400000,2.646],[1581897600000,2.7386],[1581984000000,2.5927],[1582070400000,2.5506],[1582156800000,2.4143],[1582243200000,2.3991],[1582502400000,2.3992],[1582588800000,2.4896],[1582675200000,2.3933],[1582761600000,2.536],[1582848000000,2.4686],[1583107200000,2.5653],[1583193600000,2.5861],[1583280000000,2.5474],[1583366400000,2.6081],[1583452800000,2.6725],[1583712000000,2.5684],[1583798400000,2.4809],[1583884800000,2.4706],[1583971200000,2.4328],[1584057600000,2.4219],[1584316800000,2.0566],[1584403200000,2.9111],[1584489600000,2.8019],[1584576000000,2.7437],[1584662400000,2.7747],[1584921600000,2.9025],[1585008000000,2.9639],[1585094400000,3.0176],[1585180800000,2.9417],[1585267200000,2.9127],[1585526400000,2.8305],[1585612800000,2.4692],[1585699200000,2.4491],[1585785600000,2.5026],[1585872000000,2.5967],[1586217600000,2.5181],[1586304000000,2.2847],[1586390400000,2.384],[1586476800000,2.3423],[1586736000000,2.34],[1586822400000,2.4725],[1586908800000,2.3922],[1586995200000,2.4465],[1587081600000,2.5772],[1587340800000,2.6645],[1587427200000,2.5818],[1587513600000,2.5687],[1587600000000,2.6344],[1587686400000,2.6919],[1587945600000,2.7369],[1588032000000,2.6696],[1588118400000,3.1167],[1588204800000,3.0846],[1588723200000,3.1235],[1588809600000,3.1724],[1588896000000,3.1894],[1589155200000,2.4889],[1589241600000,2.4976],[1589328000000,2.5695],[1589414400000,2.5102],[1589500800000,2.5266],[1589760000000,2.5776],[1589846400000,2.7181],[1589932800000,2.6754],[1590019200000,2.712],[1590105600000,2.6054],[1590364800000,3.1555],[1590451200000,3.2149],[1590537600000,3.1757],[1590624000000,3.3978],[1590710400000,3.6211],[1590969600000,3.1597],[1591056000000,3.2041],[1591142400000,3.1658],[1591228800000,3.1835],[1591315200000,3.2125],[1591574400000,2.7617],[1591660800000,2.7809],[1591747200000,2.8043],[1591833600000,2.7417],[1591920000000,2.826],[1592179200000,2.4878],[1592265600000,2.5455],[1592352000000,2.5489],[1592438400000,2.6147],[1592524800000,2.7032],[1592784000000,3.3414],[1592870400000,3.3169],[1592956800000,3.3475],[1593388800000,3.3121],[1593475200000,3.4019],[1593561600000,2.2884],[1593648000000,2.2928],[1593734400000,2.3325],[1593993600000,2.6746],[1594080000000,2.4118],[1594166400000,3.1319],[1594252800000,3.0045],[1594339200000,3.0734],[1594598400000,3.1342],[1594684800000,3.114],[1594771200000,2.4929],[1594857600000,2.4159],[1594944000000,2.516],[1595203200000,2.7796],[1595289600000,2.7524],[1595376000000,3.7747],[1595462400000,3.3171],[1595548800000,2.7342],[1595808000000,3.1439],[1595894400000,3.1355],[1595980800000,4.0564],[1596067200000,4.1173],[1596153600000,4.1475],[1596412800000,4.3257],[1596499200000,4.255],[1596585600000,3.4047],[1596672000000,3.4898],[1596758400000,3.505],[1597017600000,3.5417],[1597104000000,3.5697],[1597190400000,5.0555],[1597276800000,4.9306],[1597363200000,5.0114],[1597622400000,5.22],[1597708800000,5.0995],[1597795200000,4.8817],[1597881600000,5.0244],[1597968000000,5.0738],[1598227200000,5.376],[1598313600000,5.331],[1598400000000,3.9418],[1598486400000,3.9531],[1598572800000,3.9927],[1598832000000,4.0537],[1598918400000,4.1628],[1599004800000,2.964],[1599091200000,3.1249],[1599177600000,3.2211],[1599436800000,3.2537],[1599523200000,3.178],[1599609600000,4.4881],[1599696000000,4.4803],[1599782400000,4.5308],[1600041600000,4.6188],[1600128000000,4.7883],[1600214400000,4.7369],[1600300800000,4.7192],[1600387200000,4.9895],[1600646400000,4.9474],[1600732800000,4.9342],[1600819200000,2.874],[1600905600000,2.7749],[1600992000000,2.7613],[1601251200000,2.7613],[1601337600000,2.8199],[1601424000000,4.1571],[1602201600000,4.3045],[1602460800000,4.138],[1602547200000,4.2832],[1602633600000,4.3916],[1602720000000,2.8457],[1602806400000,2.8164],[1603065600000,2.8299],[1603152000000,2.8256],[1603238400000,2.8906],[1603324800000,4.9221],[1603411200000,4.6778],[1603670400000,4.6878],[1603756800000,4.6275],[1603843200000,4.8232],[1603929600000,3.2496],[1604016000000,3.0483],[1604275200000,3.105],[1604361600000,3.1327],[1604448000000,3.5075],[1604534400000,2.9352],[1604620800000,2.8763],[1604880000000,3.7542],[1604966400000,2.8874],[1605052800000,3.3566],[1605139200000,2.5164],[1605225600000,2.5427],[1605484800000,2.6626],[1605571200000,2.5262],[1605657600000,2.6849],[1605744000000,4.8087],[1605830400000,5.2042],[1606089600000,5.2821],[1606176000000,5.148],[1606262400000,5.2875],[1606348800000,3.8349],[1606435200000,3.9351],[1606694400000,3.8564],[1606780800000,3.9475],[1606867200000,3.9242],[1606953600000,4.6048],[1607040000000,4.5188],[1607299200000,4.5397],[1607385600000,4.8457],[1607472000000,5.0043],[1607558400000,2.7569],[1607644800000,2.619],[1607904000000,3.2099],[1607990400000,3.3373],[1608076800000,3.3745],[1608163200000,4.6306],[1608249600000,4.6091],[1608508800000,4.8388],[1608595200000,4.7564],[1608681600000,5.0066],[1608768000000,2.6604],[1608854400000,2.7536],[1609113600000,3.0344],[1609200000000,3.0251],[1609286400000,3.1909],[1609372800000,4.2369],[1609718400000,4.536],[1609804800000,4.0748],[1609891200000,4.6255],[1609977600000,4.3193],[1610064000000,2.6423],[1610323200000,2.3086],[1610409600000,2.2694],[1610496000000,2.3018],[1610582400000,2.2694],[1610668800000,6.3741],[1610928000000,7.0623],[1611014400000,7.5224],[1611100800000,7.5299],[1611187200000,7.6617],[1611273600000,4.5516],[1611532800000,4.7011],[1611619200000,5.0792],[1611705600000,5.4899],[1611792000000,5.4419],[1611878400000,2.3056],[1612137600000,2.3456],[1612224000000,2.3389],[1612310400000,2.379],[1612396800000,2.3735],[1612483200000,3.7358],[1612742400000,3.7921],[1612828800000,3.8424],[1612915200000,3.9858],[1613606400000,4.1844],[1613692800000,4.0042],[1613952000000,3.7944],[1614038400000,3.8042],[1614124800000,3.68],[1614211200000,3.9635],[1614297600000,5.0118],[1614556800000,5.1862],[1614643200000,5.0356],[1614729600000,5.0719],[1614816000000,4.6446],[1614902400000,4.1893],[1615161600000,4.0266],[1615248000000,4.1277],[1615334400000,3.9143],[1615420800000,4.1405],[1615507200000,4.4521],[1615766400000,4.3127],[1615852800000,4.3683],[1615939200000,4.3919],[1616025600000,4.389],[1616112000000,4.3968],[1616371200000,4.3286],[1616457600000,4.1392],[1616544000000,4.1537],[1616630400000,4.1682],[1616716800000,4.1007],[1616976000000,4.1325],[1617062400000,4.1358],[1617148800000,4.0735],[1617235200000,4.1022],[1617321600000,3.559],[1617667200000,3.8338],[1617753600000,3.7916],[1617840000000,3.8018],[1617926400000,3.7722],[1618185600000,2.9173],[1618272000000,2.8346],[1618358400000,2.9266],[1618444800000,2.8332],[1618531200000,2.858],[1618790400000,4.1993],[1618876800000,4.1499],[1618963200000,4.1312],[1619049600000,4.1447],[1619136000000,4.1847],[1619395200000,1.944],[1619481600000,1.9249],[1619568000000,1.8939],[1619654400000,1.8308],[1619740800000,1.8393],[1620259200000,2.9307],[1620345600000,2.852],[1620604800000,2.9979],[1620691200000,2.9083],[1620777600000,3.1472],[1620864000000,5.1656],[1620950400000,5.5978],[1621209600000,5.5868],[1621296000000,5.3659],[1621382400000,5.3455],[1621468800000,2.3153],[1621555200000,2.3251],[1621814400000,2.313],[1621900800000,2.3511],[1621987200000,2.3435],[1622073600000,2.2921],[1622160000000,2.5788],[1622419200000,2.6055],[1622505600000,2.5896],[1622592000000,2.8336],[1622678400000,3.3342],[1622764800000,3.3357],[1623024000000,3.3809],[1623110400000,3.5057],[1623196800000,3.6029],[1623283200000,4.2231],[1623369600000,4.114],[1623715200000,4.096],[1623801600000,4.1042],[1623888000000,4.02],[1623974400000,3.8098],[1624233600000,3.8633],[1624320000000,3.9627],[1624406400000,3.9832],[1624492800000,4.0157],[1624579200000,3.8619],[1624838400000,3.7869],[1624924800000,3.8856],[1625011200000,3.9236],[1625097600000,3.9819],[1625184000000,3.8066],[1625443200000,3.7501],[1625529600000,3.6883],[1625616000000,3.7658],[1625702400000,3.8277],[1625788800000,4.2093],[1626048000000,4.3245],[1626134400000,4.2252],[1626220800000,4.1514],[1626307200000,4.2178],[1626393600000,5.3915],[1626652800000,5.3495],[1626739200000,5.2858],[1626825600000,5.309],[1626912000000,5.3451],[1626998400000,3.7512],[1627257600000,3.7155],[1627344000000,3.9653],[1627430400000,3.8298],[1627516800000,4.092],[1627603200000,4.3846],[1627862400000,4.5185],[1627948800000,4.1194],[1628035200000,4.1118],[1628121600000,4.5168],[1628208000000,4.5508],[1628467200000,4.5096],[1628553600000,4.7471],[1628640000000,4.6629],[1628726400000,4.6664],[1628812800000,5.0249],[1629072000000,4.9177],[1629158400000,4.7783],[1629244800000,4.7717],[1629331200000,4.8062],[1629417600000,5.6949],[1629676800000,6.0875],[1629763200000,6.086],[1629849600000,6.2183],[1629936000000,6.1035],[1630022400000,4.5973],[1630281600000,4.7152],[1630368000000,4.4448],[1630454400000,4.8776],[1630540800000,4.8076],[1630627200000,5.2898],[1630886400000,5.4899],[1630972800000,5.7843],[1631059200000,5.4436],[1631145600000,6.0138],[1631232000000,4.8005],[1631491200000,4.8219],[1631577600000,4.7089],[1631664000000,4.7309],[1631750400000,4.4863],[1631836800000,4.4285],[1632268800000,4.3612],[1632355200000,4.4624],[1632441600000,4.381],[1632700800000,4.4327],[1632787200000,4.2178],[1632873600000,4.0828],[1632960000000,4.223],[1633651200000,4.3298],[1633910400000,4.3688],[1633996800000,3.7041],[1634083200000,3.569],[1634169600000,3.8475],[1634256000000,3.9476],[1634515200000,3.9826],[1634601600000,3.5119],[1634688000000,3.5396],[1634774400000,3.5402],[1634860800000,3.586],[1635120000000,3.4965],[1635206400000,4.0062],[1635292800000,3.9716],[1635379200000,3.7902],[1635465600000,3.9453],[1635724800000,3.8954],[1635811200000,3.9633],[1635897600000,3.992],[1635984000000,3.9369],[1636070400000,4.3353],[1636329600000,4.4151],[1636416000000,2.4017],[1636502400000,2.4357],[1636588800000,2.5505],[1636675200000,2.5197],[1636934400000,2.5345],[1637020800000,3.4328],[1637107200000,3.7485],[1637193600000,3.6864],[1637280000000,3.9378],[1637539200000,4.1469],[1637625600000,4.2214],[1637712000000,4.4364],[1637798400000,4.3947],[1637884800000,4.3433],[1638144000000,4.5571],[1638230400000,5.2318]],\"color\":\"#4A8E8E\"},{\"name\":\"\\u6700\\u5c0f\\/\\u6700\\u5927\\u5206\\u4f4d\",\"yAxis\":0,\"data\":[[1577923200000,null],[1578009600000,null],[1578268800000,1.1197],[1578355200000,1.1396],[1578441600000,1.1406],[1578528000000,1.2158],[1578614400000,1.223],[1578873600000,1.6131],[1578960000000,1.5707],[1579046400000,1.6058],[1579132800000,1.6102],[1579219200000,1.5344],[1579478400000,1.1749],[1579564800000,1.1422],[1579651200000,1.1941],[1579737600000,1.1738],[1580688000000,1.4726],[1580774400000,0.8834],[1580860800000,0.9974],[1580947200000,0.9917],[1581033600000,1.0955],[1581292800000,1.0921],[1581379200000,1.0009],[1581465600000,1.1249],[1581552000000,1.043],[1581638400000,1.0016],[1581897600000,0.97],[1581984000000,1.8943],[1582070400000,1.8979],[1582156800000,2.0606],[1582243200000,2.1572],[1582502400000,2.2091],[1582588800000,1.5247],[1582675200000,1.7829],[1582761600000,1.9072],[1582848000000,1.9101],[1583107200000,1.8671],[1583193600000,1.1646],[1583280000000,1.0643],[1583366400000,0.92],[1583452800000,1.1449],[1583712000000,1.1614],[1583798400000,1.2473],[1583884800000,1.2793],[1583971200000,1.2612],[1584057600000,1.2605],[1584316800000,1.4301],[1584403200000,0.7198],[1584489600000,0.7518],[1584576000000,0.7337],[1584662400000,0.7817],[1584921600000,0.7215],[1585008000000,0.597],[1585094400000,0.5772],[1585180800000,0.581],[1585267200000,0.7011],[1585526400000,0.7076],[1585612800000,1.0604],[1585699200000,1.0703],[1585785600000,1.0625],[1585872000000,1.0459],[1586217600000,1.3855],[1586304000000,1.4336],[1586390400000,1.365],[1586476800000,1.4814],[1586736000000,1.4091],[1586822400000,1.3546],[1586908800000,1.4119],[1586995200000,1.4313],[1587081600000,1.3787],[1587340800000,1.3289],[1587427200000,1.349],[1587513600000,1.1058],[1587600000000,1.0692],[1587686400000,1.0233],[1587945600000,1.0374],[1588032000000,1.0798],[1588118400000,0.737],[1588204800000,0.7407],[1588723200000,0.7212],[1588809600000,0.7172],[1588896000000,0.8678],[1589155200000,1.3456],[1589241600000,1.3002],[1589328000000,1.2941],[1589414400000,1.2783],[1589500800000,1.3238],[1589760000000,1.4991],[1589846400000,1.4274],[1589932800000,1.537],[1590019200000,1.4836],[1590105600000,1.5127],[1590364800000,0.8956],[1590451200000,0.9245],[1590537600000,0.9848],[1590624000000,1.0581],[1590710400000,0.8515],[1590969600000,0.8118],[1591056000000,0.8345],[1591142400000,0.8468],[1591228800000,0.8472],[1591315200000,0.8388],[1591574400000,1.535],[1591660800000,1.5357],[1591747200000,1.5181],[1591833600000,1.5026],[1591920000000,1.4777],[1592179200000,1.4134],[1592265600000,1.3504],[1592352000000,1.3709],[1592438400000,1.3089],[1592524800000,1.2614],[1592784000000,1.0611],[1592870400000,1.1105],[1592956800000,1.1076],[1593388800000,1.1078],[1593475200000,1.0941],[1593561600000,2.0151],[1593648000000,2.0177],[1593734400000,1.9965],[1593993600000,1.8033],[1594080000000,2.009],[1594166400000,1.3011],[1594252800000,1.3731],[1594339200000,1.2612],[1594598400000,1.3111],[1594684800000,1.3429],[1594771200000,2.2849],[1594857600000,2.1965],[1594944000000,2.2425],[1595203200000,2.2349],[1595289600000,2.0552],[1595376000000,0.8279],[1595462400000,0.9127],[1595548800000,1.0711],[1595808000000,0.9484],[1595894400000,1.0014],[1595980800000,0.9958],[1596067200000,0.9664],[1596153600000,0.9549],[1596412800000,0.9287],[1596499200000,1.0209],[1596585600000,1.0801],[1596672000000,1.074],[1596758400000,1.283],[1597017600000,1.1451],[1597104000000,1.1098],[1597190400000,0.666],[1597276800000,0.7244],[1597363200000,0.7494],[1597622400000,0.8115],[1597708800000,0.7869],[1597795200000,0.7774],[1597881600000,0.7566],[1597968000000,0.7363],[1598227200000,0.751],[1598313600000,0.6932],[1598400000000,0.9149],[1598486400000,0.9049],[1598572800000,0.9151],[1598832000000,0.9002],[1598918400000,0.8604],[1599004800000,1.2805],[1599091200000,1.1946],[1599177600000,1.2339],[1599436800000,1.1674],[1599523200000,1.2074],[1599609600000,0.4856],[1599696000000,0.4519],[1599782400000,0.4601],[1600041600000,0.4513],[1600128000000,0.4602],[1600214400000,0.6404],[1600300800000,0.6381],[1600387200000,0.6276],[1600646400000,0.6428],[1600732800000,0.6421],[1600819200000,1.3018],[1600905600000,1.3452],[1600992000000,1.378],[1601251200000,1.3508],[1601337600000,1.2966],[1601424000000,0.7786],[1602201600000,0.7789],[1602460800000,0.7781],[1602547200000,0.7795],[1602633600000,0.7796],[1602720000000,1.5268],[1602806400000,1.5185],[1603065600000,1.5097],[1603152000000,1.5324],[1603238400000,1.4776],[1603324800000,0.7473],[1603411200000,0.8026],[1603670400000,0.8279],[1603756800000,0.8452],[1603843200000,0.8134],[1603929600000,1.2255],[1604016000000,1.2139],[1604275200000,1.4072],[1604361600000,1.44],[1604448000000,1.3259],[1604534400000,1.2395],[1604620800000,1.2957],[1604880000000,1.0274],[1604966400000,1.3521],[1605052800000,1.162],[1605139200000,1.387],[1605225600000,1.4073],[1605484800000,1.3868],[1605571200000,1.4973],[1605657600000,1.3931],[1605744000000,0.8044],[1605830400000,0.7474],[1606089600000,0.7572],[1606176000000,0.7516],[1606262400000,0.7239],[1606348800000,0.8074],[1606435200000,0.7945],[1606694400000,0.8093],[1606780800000,0.8149],[1606867200000,0.885],[1606953600000,0.9634],[1607040000000,0.9818],[1607299200000,0.9493],[1607385600000,0.8345],[1607472000000,0.7749],[1607558400000,1.9753],[1607644800000,2.1237],[1607904000000,1.8251],[1607990400000,1.8226],[1608076800000,1.8282],[1608163200000,1.0651],[1608249600000,1.0564],[1608508800000,1.0603],[1608595200000,1.0296],[1608681600000,1.1088],[1608768000000,2.4135],[1608854400000,2.3238],[1609113600000,2.2412],[1609200000000,2.1942],[1609286400000,2.2848],[1609372800000,1.6407],[1609718400000,1.5392],[1609804800000,1.8219],[1609891200000,1.5388],[1609977600000,1.6891],[1610064000000,2.5232],[1610323200000,2.9184],[1610409600000,2.9597],[1610496000000,3.3446],[1610582400000,3.3393],[1610668800000,0.7262],[1610928000000,0.6565],[1611014400000,0.6154],[1611100800000,0.6173],[1611187200000,0.6045],[1611273600000,1.1936],[1611532800000,1.1007],[1611619200000,1.0195],[1611705600000,0.9485],[1611792000000,0.911],[1611878400000,2.8865],[1612137600000,2.7772],[1612224000000,2.8786],[1612310400000,2.8959],[1612396800000,2.8239],[1612483200000,1.5994],[1612742400000,1.4656],[1612828800000,1.5617],[1612915200000,1.5187],[1613606400000,1.4013],[1613692800000,0.8728],[1613952000000,0.8946],[1614038400000,0.8961],[1614124800000,0.9177],[1614211200000,0.8544],[1614297600000,0.4354],[1614556800000,0.4271],[1614643200000,0.4381],[1614729600000,0.4363],[1614816000000,0.4663],[1614902400000,0.6619],[1615161600000,0.6445],[1615248000000,0.6488],[1615334400000,0.6889],[1615420800000,0.6676],[1615507200000,0.7186],[1615766400000,0.7394],[1615852800000,0.7255],[1615939200000,0.8478],[1616025600000,0.8238],[1616112000000,0.6981],[1616371200000,0.7163],[1616457600000,0.7405],[1616544000000,0.6509],[1616630400000,0.7275],[1616716800000,0.9306],[1616976000000,0.9162],[1617062400000,0.9117],[1617148800000,0.9467],[1617235200000,1.0122],[1617321600000,1.4731],[1617667200000,1.37],[1617753600000,1.4229],[1617840000000,1.4279],[1617926400000,1.3661],[1618185600000,1.5703],[1618272000000,1.577],[1618358400000,1.5738],[1618444800000,1.6451],[1618531200000,1.6],[1618790400000,0.6427],[1618876800000,0.6539],[1618963200000,0.6719],[1619049600000,0.6707],[1619136000000,0.6913],[1619395200000,2.4],[1619481600000,2.3759],[1619568000000,2.3825],[1619654400000,2.4419],[1619740800000,2.4038],[1620259200000,1.5167],[1620345600000,1.593],[1620604800000,1.4238],[1620691200000,1.5077],[1620777600000,1.3726],[1620864000000,0.5193],[1620950400000,0.4938],[1621209600000,0.4694],[1621296000000,0.5256],[1621382400000,0.5315],[1621468800000,2.1306],[1621555200000,2.113],[1621814400000,2.1187],[1621900800000,2.1642],[1621987200000,2.1521],[1622073600000,2.0735],[1622160000000,1.8561],[1622419200000,1.8844],[1622505600000,1.9273],[1622592000000,1.7536],[1622678400000,1.4889],[1622764800000,1.5156],[1623024000000,1.5218],[1623110400000,1.4092],[1623196800000,1.3671],[1623283200000,1.0882],[1623369600000,1.1434],[1623715200000,1.204],[1623801600000,1.25],[1623888000000,1.2759],[1623974400000,1.6653],[1624233600000,1.6236],[1624320000000,1.6884],[1624406400000,1.7304],[1624492800000,1.7853],[1624579200000,1.8375],[1624838400000,2.118],[1624924800000,1.9201],[1625011200000,1.855],[1625097600000,1.8375],[1625184000000,1.4781],[1625443200000,1.5079],[1625529600000,1.5473],[1625616000000,1.5189],[1625702400000,1.4835],[1625788800000,1.245],[1626048000000,1.2412],[1626134400000,1.2266],[1626220800000,1.1905],[1626307200000,1.2324],[1626393600000,1.3649],[1626652800000,1.3663],[1626739200000,1.4138],[1626825600000,1.4283],[1626912000000,1.5212],[1626998400000,1.3662],[1627257600000,1.3688],[1627344000000,1.1894],[1627430400000,1.2066],[1627516800000,1.145],[1627603200000,1.3101],[1627862400000,1.3147],[1627948800000,1.3221],[1628035200000,1.4274],[1628121600000,1.4111],[1628208000000,0.8966],[1628467200000,0.9093],[1628553600000,0.866],[1628640000000,0.8906],[1628726400000,0.9369],[1628812800000,0.9444],[1629072000000,0.9852],[1629158400000,0.9676],[1629244800000,0.9864],[1629331200000,0.9922],[1629417600000,0.564],[1629676800000,0.5182],[1629763200000,0.5228],[1629849600000,0.5716],[1629936000000,0.5247],[1630022400000,1.2751],[1630281600000,1.2532],[1630368000000,1.3526],[1630454400000,1.2641],[1630540800000,1.223],[1630627200000,0.7375],[1630886400000,0.7062],[1630972800000,0.6875],[1631059200000,0.7678],[1631145600000,0.7064],[1631232000000,0.7341],[1631491200000,0.7837],[1631577600000,0.7877],[1631664000000,0.7715],[1631750400000,0.7885],[1631836800000,0.7622],[1632268800000,0.79],[1632355200000,0.7679],[1632441600000,0.7804],[1632700800000,0.7843],[1632787200000,1.2599],[1632873600000,1.2602],[1632960000000,1.2692],[1633651200000,1.1279],[1633910400000,1.1771],[1633996800000,1.2836],[1634083200000,1.387],[1634169600000,1.2766],[1634256000000,1.3154],[1634515200000,1.2657],[1634601600000,1.282],[1634688000000,1.2491],[1634774400000,1.2677],[1634860800000,1.3002],[1635120000000,1.3669],[1635206400000,0.9405],[1635292800000,0.9411],[1635379200000,0.9606],[1635465600000,0.9304],[1635724800000,0.9431],[1635811200000,1.1479],[1635897600000,1.2438],[1635984000000,1.2996],[1636070400000,1.1265],[1636329600000,1.0619],[1636416000000,1.8677],[1636502400000,1.8604],[1636588800000,1.8782],[1636675200000,1.8694],[1636934400000,1.8606],[1637020800000,1.6132],[1637107200000,1.471],[1637193600000,1.4807],[1637280000000,1.3958],[1637539200000,1.3422],[1637625600000,0.905],[1637712000000,0.9067],[1637798400000,0.9505],[1637884800000,0.9465],[1638144000000,0.8966],[1638230400000,0.7862]]}],\"xAxis\":{\"title\":{\"text\":\"date\"},\"type\":\"datetime\"},\"plotOptions\":{\"series\":{\"compare\":\"percent\"}}}/bigcharts-data-end</pre></div><div class=\"type_title_left\"><p>因子拥挤度分析<i class=\"fa fa-question-circle-o\" title=\"衡量因子拥挤度。使用换手率衡量，换手率越高，拥挤度越高。\"></i></p></div><div id=\"bigchart-1ac67a3ed2e2443db1811e82fdd92322\" class=\"bigchart\"></div><div class=\"bigchart-data\"><pre style=\"display:none\">bigcharts-data-start/{\"chart\":{\"height\":500,\"renderTo\":\"bigchart-1ac67a3ed2e2443db1811e82fdd92322\"},\"legend\":{\"enabled\":true},\"title\":{\"text\":\"\\u6362\\u624b\\u7387\\u5206\\u6790\"},\"stock\":true,\"series\":[{\"name\":\"1\\u5206\\u4f4d\\u6570\",\"yAxis\":0,\"data\":[[1577923200000,null],[1578009600000,null],[1578268800000,1.7359],[1578355200000,1.3611],[1578441600000,1.4769],[1578528000000,1.3233],[1578614400000,1.1877],[1578873600000,1.1517],[1578960000000,1.2274],[1579046400000,1.0994],[1579132800000,0.944],[1579219200000,1.0624],[1579478400000,1.7308],[1579564800000,1.6412],[1579651200000,1.7661],[1579737600000,1.977],[1580688000000,2.1509],[1580774400000,1.3705],[1580860800000,1.7134],[1580947200000,2.0475],[1581033600000,2.6324],[1581292800000,2.0345],[1581379200000,1.201],[1581465600000,1.196],[1581552000000,1.1546],[1581638400000,1.2247],[1581897600000,1.5433],[1581984000000,1.2008],[1582070400000,1.3349],[1582156800000,1.3339],[1582243200000,1.4418],[1582502400000,1.5421],[1582588800000,1.591],[1582675200000,1.5834],[1582761600000,1.4741],[1582848000000,1.6627],[1583107200000,1.5219],[1583193600000,2.8847],[1583280000000,2.4288],[1583366400000,3.584],[1583452800000,2.6877],[1583712000000,2.9271],[1583798400000,2.0651],[1583884800000,1.7831],[1583971200000,1.7126],[1584057600000,2.1076],[1584316800000,1.9367],[1584403200000,1.6576],[1584489600000,1.59],[1584576000000,1.5009],[1584662400000,1.2505],[1584921600000,1.2077],[1585008000000,1.3335],[1585094400000,1.3489],[1585180800000,0.9683],[1585267200000,1.1328],[1585526400000,1.2177],[1585612800000,1.3198],[1585699200000,1.3713],[1585785600000,1.2371],[1585872000000,1.1117],[1586217600000,1.6998],[1586304000000,1.1106],[1586390400000,1.0812],[1586476800000,1.1145],[1586736000000,0.8159],[1586822400000,1.2359],[1586908800000,1.3359],[1586995200000,1.1215],[1587081600000,1.3965],[1587340800000,1.0732],[1587427200000,1.1717],[1587513600000,1.1756],[1587600000000,1.1906],[1587686400000,1.2073],[1587945600000,1.1987],[1588032000000,1.4331],[1588118400000,0.9309],[1588204800000,1.2423],[1588723200000,1.2491],[1588809600000,0.9438],[1588896000000,1.0076],[1589155200000,1.2404],[1589241600000,1.0528],[1589328000000,1.0233],[1589414400000,1.011],[1589500800000,1.0861],[1589760000000,1.7325],[1589846400000,1.4103],[1589932800000,1.603],[1590019200000,1.5356],[1590105600000,1.4007],[1590364800000,0.8488],[1590451200000,0.8367],[1590537600000,0.8274],[1590624000000,0.8737],[1590710400000,0.9157],[1590969600000,1.0288],[1591056000000,1.122],[1591142400000,1.0336],[1591228800000,0.7856],[1591315200000,0.7865],[1591574400000,1.4694],[1591660800000,1.2307],[1591747200000,1.3412],[1591833600000,1.6295],[1591920000000,1.616],[1592179200000,2.0369],[1592265600000,1.6965],[1592352000000,1.9313],[1592438400000,2.1412],[1592524800000,2.6882],[1592784000000,1.3842],[1592870400000,1.1955],[1592956800000,1.0941],[1593388800000,1.175],[1593475200000,1.2513],[1593561600000,2.2826],[1593648000000,2.2923],[1593734400000,2.3541],[1593993600000,2.8831],[1594080000000,2.9649],[1594166400000,2.4461],[1594252800000,2.4751],[1594339200000,2.604],[1594598400000,2.5873],[1594684800000,2.6832],[1594771200000,2.2179],[1594857600000,2.2388],[1594944000000,1.7081],[1595203200000,1.7645],[1595289600000,1.5977],[1595376000000,1.9437],[1595462400000,2.1006],[1595548800000,2.0727],[1595808000000,1.6456],[1595894400000,1.5355],[1595980800000,1.8368],[1596067200000,2.2543],[1596153600000,1.9999],[1596412800000,2.5404],[1596499200000,2.5907],[1596585600000,1.5893],[1596672000000,1.9613],[1596758400000,1.9479],[1597017600000,1.9096],[1597104000000,1.6903],[1597190400000,2.2047],[1597276800000,1.6557],[1597363200000,1.6204],[1597622400000,2.1337],[1597708800000,1.8068],[1597795200000,1.5707],[1597881600000,1.3007],[1597968000000,1.1807],[1598227200000,1.3432],[1598313600000,1.2877],[1598400000000,1.4963],[1598486400000,1.0875],[1598572800000,1.4464],[1598832000000,1.8382],[1598918400000,1.6218],[1599004800000,1.5007],[1599091200000,1.4237],[1599177600000,1.1295],[1599436800000,1.4848],[1599523200000,1.2389],[1599609600000,0.9876],[1599696000000,0.9513],[1599782400000,0.8113],[1600041600000,0.8753],[1600128000000,0.878],[1600214400000,0.967],[1600300800000,0.8759],[1600387200000,1.2855],[1600646400000,1.1058],[1600732800000,1.0222],[1600819200000,0.7718],[1600905600000,0.8774],[1600992000000,0.8105],[1601251200000,0.7384],[1601337600000,0.7902],[1601424000000,0.6887],[1602201600000,0.8545],[1602460800000,1.1458],[1602547200000,1.0276],[1602633600000,0.8908],[1602720000000,1.069],[1602806400000,1.0556],[1603065600000,1.0182],[1603152000000,0.9649],[1603238400000,1.0759],[1603324800000,0.9431],[1603411200000,0.8085],[1603670400000,0.8076],[1603756800000,0.8597],[1603843200000,1.074],[1603929600000,1.263],[1604016000000,1.4357],[1604275200000,1.4366],[1604361600000,1.3585],[1604448000000,1.3161],[1604534400000,1.2388],[1604620800000,1.2187],[1604880000000,1.5676],[1604966400000,1.4065],[1605052800000,1.2563],[1605139200000,0.9193],[1605225600000,1.0896],[1605484800000,1.1524],[1605571200000,1.2903],[1605657600000,1.3595],[1605744000000,1.0028],[1605830400000,0.9276],[1606089600000,1.2562],[1606176000000,1.2899],[1606262400000,1.3388],[1606348800000,1.2194],[1606435200000,1.1515],[1606694400000,1.6131],[1606780800000,1.3873],[1606867200000,1.2569],[1606953600000,1.2592],[1607040000000,1.059],[1607299200000,1.0391],[1607385600000,0.9306],[1607472000000,1.0234],[1607558400000,1.1426],[1607644800000,1.5311],[1607904000000,1.1206],[1607990400000,0.9994],[1608076800000,1.1243],[1608163200000,1.4321],[1608249600000,1.441],[1608508800000,1.6503],[1608595200000,1.892],[1608681600000,1.6296],[1608768000000,1.3506],[1608854400000,1.3769],[1609113600000,1.5338],[1609200000000,1.327],[1609286400000,1.5573],[1609372800000,1.5948],[1609718400000,1.9461],[1609804800000,2.1307],[1609891200000,1.812],[1609977600000,1.8607],[1610064000000,1.9513],[1610323200000,2.094],[1610409600000,2.1506],[1610496000000,2.3638],[1610582400000,2.0506],[1610668800000,1.764],[1610928000000,1.6309],[1611014400000,1.8779],[1611100800000,1.4702],[1611187200000,1.9039],[1611273600000,1.7278],[1611532800000,1.8927],[1611619200000,1.4851],[1611705600000,1.2958],[1611792000000,1.3554],[1611878400000,1.8974],[1612137600000,1.6775],[1612224000000,1.5207],[1612310400000,1.6719],[1612396800000,1.5739],[1612483200000,1.4384],[1612742400000,1.483],[1612828800000,1.5724],[1612915200000,1.5268],[1613606400000,1.8546],[1613692800000,1.6863],[1613952000000,1.9431],[1614038400000,1.5127],[1614124800000,1.6056],[1614211200000,1.454],[1614297600000,1.4404],[1614556800000,1.2688],[1614643200000,1.3362],[1614729600000,1.137],[1614816000000,1.2424],[1614902400000,1.2387],[1615161600000,1.3249],[1615248000000,1.3978],[1615334400000,1.0561],[1615420800000,1.091],[1615507200000,1.4268],[1615766400000,1.3838],[1615852800000,1.1503],[1615939200000,1.1976],[1616025600000,1.0909],[1616112000000,1.0597],[1616371200000,0.9256],[1616457600000,1.0159],[1616544000000,1.0202],[1616630400000,0.8664],[1616716800000,1.0475],[1616976000000,1.0417],[1617062400000,0.9337],[1617148800000,0.9235],[1617235200000,0.759],[1617321600000,0.9653],[1617667200000,0.8852],[1617753600000,0.9494],[1617840000000,0.8834],[1617926400000,0.8713],[1618185600000,1.1849],[1618272000000,0.9778],[1618358400000,0.9151],[1618444800000,0.8014],[1618531200000,0.875],[1618790400000,1.1922],[1618876800000,1.1589],[1618963200000,1.2471],[1619049600000,1.0373],[1619136000000,1.0709],[1619395200000,1.5583],[1619481600000,1.3424],[1619568000000,1.2209],[1619654400000,1.2565],[1619740800000,1.3163],[1620259200000,1.5062],[1620345600000,1.3021],[1620604800000,1.18],[1620691200000,1.2116],[1620777600000,1.0566],[1620864000000,0.9626],[1620950400000,1.1706],[1621209600000,1.1205],[1621296000000,1.0029],[1621382400000,0.9393],[1621468800000,1.3071],[1621555200000,1.3147],[1621814400000,1.2161],[1621900800000,1.6842],[1621987200000,1.4471],[1622073600000,1.154],[1622160000000,1.2192],[1622419200000,1.2124],[1622505600000,1.2301],[1622592000000,1.1504],[1622678400000,1.4735],[1622764800000,1.4146],[1623024000000,1.3686],[1623110400000,1.3528],[1623196800000,1.1991],[1623283200000,1.2239],[1623369600000,1.4783],[1623715200000,1.1806],[1623801600000,1.112],[1623888000000,1.0892],[1623974400000,1.3517],[1624233600000,1.2242],[1624320000000,1.1328],[1624406400000,1.3397],[1624492800000,1.2134],[1624579200000,1.8663],[1624838400000,1.6636],[1624924800000,1.557],[1625011200000,1.4818],[1625097600000,1.6334],[1625184000000,1.7425],[1625443200000,1.7291],[1625529600000,1.7756],[1625616000000,1.6748],[1625702400000,1.8008],[1625788800000,1.3143],[1626048000000,1.6936],[1626134400000,1.4834],[1626220800000,1.6094],[1626307200000,1.5217],[1626393600000,1.8685],[1626652800000,1.6342],[1626739200000,1.4033],[1626825600000,2.1231],[1626912000000,1.9638],[1626998400000,1.5361],[1627257600000,1.8623],[1627344000000,1.9091],[1627430400000,1.5966],[1627516800000,1.4923],[1627603200000,1.9407],[1627862400000,2.1883],[1627948800000,2.3287],[1628035200000,1.8904],[1628121600000,1.7109],[1628208000000,1.6432],[1628467200000,1.6495],[1628553600000,1.5572],[1628640000000,1.5215],[1628726400000,1.5395],[1628812800000,1.1449],[1629072000000,1.2104],[1629158400000,1.508],[1629244800000,1.5415],[1629331200000,1.6067],[1629417600000,1.8959],[1629676800000,1.6913],[1629763200000,1.7459],[1629849600000,1.5367],[1629936000000,1.7454],[1630022400000,1.6763],[1630281600000,2.167],[1630368000000,2.0459],[1630454400000,2.0081],[1630540800000,2.0622],[1630627200000,1.7671],[1630886400000,1.6973],[1630972800000,1.5996],[1631059200000,1.8493],[1631145600000,1.7439],[1631232000000,1.8269],[1631491200000,1.9408],[1631577600000,1.6399],[1631664000000,1.328],[1631750400000,1.471],[1631836800000,1.4962],[1632268800000,1.2425],[1632355200000,1.4632],[1632441600000,1.3573],[1632700800000,1.53],[1632787200000,1.0684],[1632873600000,1.0947],[1632960000000,0.8849],[1633651200000,1.2001],[1633910400000,1.1749],[1633996800000,1.0399],[1634083200000,0.9382],[1634169600000,0.8978],[1634256000000,1.0131],[1634515200000,0.9988],[1634601600000,1.1269],[1634688000000,1.0707],[1634774400000,0.9796],[1634860800000,1.1841],[1635120000000,1.1142],[1635206400000,1.3216],[1635292800000,1.1994],[1635379200000,1.3183],[1635465600000,1.4518],[1635724800000,1.4911],[1635811200000,1.4808],[1635897600000,1.1324],[1635984000000,1.0621],[1636070400000,1.3894],[1636329600000,1.2363],[1636416000000,0.9427],[1636502400000,1.0773],[1636588800000,1.0875],[1636675200000,1.0446],[1636934400000,1.0503],[1637020800000,1.4285],[1637107200000,1.232],[1637193600000,1.2535],[1637280000000,1.1404],[1637539200000,1.4519],[1637625600000,1.3096],[1637712000000,1.2596],[1637798400000,1.2814],[1637884800000,1.1576],[1638144000000,1.2974],[1638230400000,1.6053]],\"color\":\"#F08B55\"},{\"name\":\"2\\u5206\\u4f4d\\u6570\",\"yAxis\":0,\"data\":[[1577923200000,null],[1578009600000,null],[1578268800000,1.6374],[1578355200000,1.1639],[1578441600000,1.2313],[1578528000000,1.1081],[1578614400000,1.0487],[1578873600000,1.1678],[1578960000000,1.5045],[1579046400000,1.1583],[1579132800000,1.2692],[1579219200000,1.1427],[1579478400000,1.4099],[1579564800000,1.3116],[1579651200000,1.5811],[1579737600000,1.5623],[1580688000000,1.6795],[1580774400000,1.0649],[1580860800000,1.3872],[1580947200000,1.3847],[1581033600000,1.269],[1581292800000,1.1032],[1581379200000,1.094],[1581465600000,1.3081],[1581552000000,1.4476],[1581638400000,1.324],[1581897600000,1.6204],[1581984000000,1.2034],[1582070400000,1.1872],[1582156800000,1.255],[1582243200000,1.6813],[1582502400000,1.4543],[1582588800000,1.6475],[1582675200000,1.8588],[1582761600000,1.4242],[1582848000000,1.6725],[1583107200000,1.5031],[1583193600000,2.5115],[1583280000000,2.213],[1583366400000,2.8283],[1583452800000,2.1247],[1583712000000,2.2382],[1583798400000,2.5171],[1583884800000,2.7456],[1583971200000,2.2127],[1584057600000,2.3296],[1584316800000,2.3457],[1584403200000,1.4224],[1584489600000,1.5173],[1584576000000,1.6043],[1584662400000,1.4997],[1584921600000,1.3645],[1585008000000,0.9453],[1585094400000,1.0506],[1585180800000,0.7655],[1585267200000,0.8885],[1585526400000,0.8642],[1585612800000,0.8986],[1585699200000,0.976],[1585785600000,0.9033],[1585872000000,0.8121],[1586217600000,1.1534],[1586304000000,0.8677],[1586390400000,0.7193],[1586476800000,0.93],[1586736000000,0.6657],[1586822400000,0.8935],[1586908800000,1.2321],[1586995200000,1.2066],[1587081600000,1.3775],[1587340800000,1.0372],[1587427200000,1.1809],[1587513600000,1.4224],[1587600000000,1.4466],[1587686400000,1.6311],[1587945600000,1.4736],[1588032000000,1.7636],[1588118400000,0.9423],[1588204800000,1.1646],[1588723200000,1.3421],[1588809600000,1.0409],[1588896000000,0.9489],[1589155200000,1.5982],[1589241600000,1.4928],[1589328000000,1.2843],[1589414400000,1.2316],[1589500800000,1.3709],[1589760000000,1.3506],[1589846400000,1.0997],[1589932800000,1.093],[1590019200000,0.978],[1590105600000,0.8906],[1590364800000,0.965],[1590451200000,0.9663],[1590537600000,0.8998],[1590624000000,1.1979],[1590710400000,1.0736],[1590969600000,1.4735],[1591056000000,1.3286],[1591142400000,1.3545],[1591228800000,1.0795],[1591315200000,1.1685],[1591574400000,1.0761],[1591660800000,1.0594],[1591747200000,1.0935],[1591833600000,1.2683],[1591920000000,1.302],[1592179200000,1.058],[1592265600000,0.9639],[1592352000000,0.9064],[1592438400000,1.0374],[1592524800000,1.1599],[1592784000000,1.8184],[1592870400000,1.522],[1592956800000,1.4762],[1593388800000,1.3797],[1593475200000,1.5891],[1593561600000,1.3134],[1593648000000,2.1934],[1593734400000,2.444],[1593993600000,2.6868],[1594080000000,3.0289],[1594166400000,2.0098],[1594252800000,2.7434],[1594339200000,2.2213],[1594598400000,2.288],[1594684800000,2.3357],[1594771200000,1.959],[1594857600000,2.1251],[1594944000000,1.6738],[1595203200000,1.761],[1595289600000,1.7468],[1595376000000,1.821],[1595462400000,1.7332],[1595548800000,1.9581],[1595808000000,1.3035],[1595894400000,1.3962],[1595980800000,1.2383],[1596067200000,1.3263],[1596153600000,1.3683],[1596412800000,1.6586],[1596499200000,1.902],[1596585600000,1.6011],[1596672000000,1.8158],[1596758400000,1.782],[1597017600000,1.82],[1597104000000,1.5917],[1597190400000,1.852],[1597276800000,1.1486],[1597363200000,1.2376],[1597622400000,2.0755],[1597708800000,1.7501],[1597795200000,1.5908],[1597881600000,1.3055],[1597968000000,1.2721],[1598227200000,1.2735],[1598313600000,1.3468],[1598400000000,1.2101],[1598486400000,1.0238],[1598572800000,1.3774],[1598832000000,1.4531],[1598918400000,1.1915],[1599004800000,1.1263],[1599091200000,1.0511],[1599177600000,0.9579],[1599436800000,1.0691],[1599523200000,0.9858],[1599609600000,1.1729],[1599696000000,0.9575],[1599782400000,0.8248],[1600041600000,0.819],[1600128000000,0.8073],[1600214400000,0.8218],[1600300800000,0.7899],[1600387200000,1.0225],[1600646400000,0.9537],[1600732800000,0.9436],[1600819200000,0.8488],[1600905600000,0.8533],[1600992000000,0.7629],[1601251200000,0.8032],[1601337600000,0.8041],[1601424000000,0.7853],[1602201600000,1.1477],[1602460800000,1.4066],[1602547200000,1.1151],[1602633600000,1.0356],[1602720000000,0.8143],[1602806400000,0.8196],[1603065600000,0.885],[1603152000000,0.8147],[1603238400000,0.8629],[1603324800000,0.6756],[1603411200000,0.7886],[1603670400000,0.7922],[1603756800000,0.7711],[1603843200000,0.9054],[1603929600000,1.1083],[1604016000000,1.0872],[1604275200000,1.2768],[1604361600000,1.097],[1604448000000,0.9201],[1604534400000,1.0422],[1604620800000,1.1006],[1604880000000,1.3363],[1604966400000,1.2535],[1605052800000,1.037],[1605139200000,1.1148],[1605225600000,1.263],[1605484800000,1.3884],[1605571200000,1.3775],[1605657600000,1.2774],[1605744000000,0.9541],[1605830400000,0.9329],[1606089600000,1.5064],[1606176000000,1.1653],[1606262400000,1.213],[1606348800000,1.0745],[1606435200000,1.0792],[1606694400000,1.4112],[1606780800000,1.2049],[1606867200000,1.2018],[1606953600000,1.0277],[1607040000000,0.8757],[1607299200000,0.8208],[1607385600000,0.8611],[1607472000000,0.9353],[1607558400000,0.9467],[1607644800000,1.0522],[1607904000000,0.8897],[1607990400000,0.8568],[1608076800000,0.7672],[1608163200000,1.2619],[1608249600000,1.1732],[1608508800000,1.2579],[1608595200000,1.4807],[1608681600000,1.5256],[1608768000000,0.9868],[1608854400000,0.9616],[1609113600000,1.0476],[1609200000000,1.064],[1609286400000,1.1656],[1609372800000,1.7527],[1609718400000,2.0707],[1609804800000,2.1792],[1609891200000,1.5648],[1609977600000,1.8186],[1610064000000,1.8396],[1610323200000,2.1298],[1610409600000,1.86],[1610496000000,2.1096],[1610582400000,1.8179],[1610668800000,1.4879],[1610928000000,1.2415],[1611014400000,1.3409],[1611100800000,1.2057],[1611187200000,1.3694],[1611273600000,1.3507],[1611532800000,1.3415],[1611619200000,1.2477],[1611705600000,1.0748],[1611792000000,1.2063],[1611878400000,1.3709],[1612137600000,1.3211],[1612224000000,1.2914],[1612310400000,1.4027],[1612396800000,1.4923],[1612483200000,1.5642],[1612742400000,1.5248],[1612828800000,1.5613],[1612915200000,1.57],[1613606400000,1.8137],[1613692800000,1.4301],[1613952000000,1.5475],[1614038400000,1.3304],[1614124800000,1.4839],[1614211200000,1.2897],[1614297600000,1.3805],[1614556800000,1.2132],[1614643200000,1.2833],[1614729600000,1.1733],[1614816000000,1.3778],[1614902400000,1.4412],[1615161600000,1.6961],[1615248000000,1.5985],[1615334400000,1.2154],[1615420800000,1.3326],[1615507200000,1.3302],[1615766400000,1.2161],[1615852800000,1.0641],[1615939200000,0.9392],[1616025600000,1.0496],[1616112000000,1.0103],[1616371200000,0.9762],[1616457600000,0.9797],[1616544000000,1.0627],[1616630400000,0.8719],[1616716800000,0.9471],[1616976000000,0.9136],[1617062400000,1.0287],[1617148800000,0.8807],[1617235200000,0.8028],[1617321600000,0.9275],[1617667200000,0.7936],[1617753600000,0.8707],[1617840000000,1.1098],[1617926400000,0.9356],[1618185600000,1.103],[1618272000000,0.9374],[1618358400000,0.9301],[1618444800000,0.9134],[1618531200000,1.0109],[1618790400000,1.3393],[1618876800000,1.1176],[1618963200000,0.9515],[1619049600000,0.9275],[1619136000000,0.9748],[1619395200000,1.1763],[1619481600000,0.9015],[1619568000000,0.9023],[1619654400000,1.018],[1619740800000,1.2202],[1620259200000,1.0644],[1620345600000,1.1218],[1620604800000,1.0097],[1620691200000,0.8969],[1620777600000,0.8255],[1620864000000,0.8556],[1620950400000,1.0545],[1621209600000,1.2496],[1621296000000,0.8891],[1621382400000,0.8618],[1621468800000,1.0729],[1621555200000,1.0594],[1621814400000,1.0965],[1621900800000,1.5444],[1621987200000,1.5346],[1622073600000,1.3918],[1622160000000,1.5847],[1622419200000,1.3375],[1622505600000,1.2713],[1622592000000,1.2297],[1622678400000,1.1469],[1622764800000,1.0441],[1623024000000,0.9793],[1623110400000,1.139],[1623196800000,0.9592],[1623283200000,1.0795],[1623369600000,1.3734],[1623715200000,1.1816],[1623801600000,1.0873],[1623888000000,1.2387],[1623974400000,1.7919],[1624233600000,1.6192],[1624320000000,1.402],[1624406400000,1.6366],[1624492800000,1.8113],[1624579200000,2.0006],[1624838400000,1.6331],[1624924800000,1.4519],[1625011200000,1.4757],[1625097600000,1.9288],[1625184000000,1.3334],[1625443200000,1.1619],[1625529600000,1.5269],[1625616000000,1.2134],[1625702400000,1.5174],[1625788800000,1.2917],[1626048000000,1.4956],[1626134400000,1.611],[1626220800000,1.4435],[1626307200000,1.2415],[1626393600000,1.3454],[1626652800000,1.3172],[1626739200000,1.0965],[1626825600000,1.2536],[1626912000000,1.4163],[1626998400000,2.0447],[1627257600000,2.0816],[1627344000000,2.2384],[1627430400000,1.72],[1627516800000,1.6063],[1627603200000,1.446],[1627862400000,1.8407],[1627948800000,1.6942],[1628035200000,1.335],[1628121600000,1.434],[1628208000000,1.4072],[1628467200000,1.5958],[1628553600000,1.5213],[1628640000000,1.5624],[1628726400000,1.3829],[1628812800000,1.2337],[1629072000000,1.1936],[1629158400000,1.547],[1629244800000,1.5353],[1629331200000,1.5657],[1629417600000,1.2893],[1629676800000,1.2634],[1629763200000,1.2414],[1629849600000,1.1468],[1629936000000,1.2749],[1630022400000,1.4134],[1630281600000,1.6384],[1630368000000,1.518],[1630454400000,2.1274],[1630540800000,1.6673],[1630627200000,1.6793],[1630886400000,1.4412],[1630972800000,1.4487],[1631059200000,1.3762],[1631145600000,1.2666],[1631232000000,1.6712],[1631491200000,1.6369],[1631577600000,1.6221],[1631664000000,1.2156],[1631750400000,1.4172],[1631836800000,1.3908],[1632268800000,1.1483],[1632355200000,1.4662],[1632441600000,1.4733],[1632700800000,1.5578],[1632787200000,0.9087],[1632873600000,1.0676],[1632960000000,0.8908],[1633651200000,0.9872],[1633910400000,0.896],[1633996800000,1.0491],[1634083200000,0.9373],[1634169600000,0.9326],[1634256000000,0.9779],[1634515200000,1.0326],[1634601600000,0.9749],[1634688000000,0.9629],[1634774400000,1.0132],[1634860800000,0.9976],[1635120000000,0.9454],[1635206400000,1.258],[1635292800000,1.3276],[1635379200000,1.5845],[1635465600000,1.6474],[1635724800000,1.6366],[1635811200000,1.2315],[1635897600000,0.9528],[1635984000000,1.0079],[1636070400000,1.1505],[1636329600000,0.9722],[1636416000000,1.0753],[1636502400000,1.19],[1636588800000,1.365],[1636675200000,1.2078],[1636934400000,1.2269],[1637020800000,1.1414],[1637107200000,0.9665],[1637193600000,1.0174],[1637280000000,1.1012],[1637539200000,1.2962],[1637625600000,1.1447],[1637712000000,1.0063],[1637798400000,0.9609],[1637884800000,0.8704],[1638144000000,1.1324],[1638230400000,1.1693]],\"color\":\"#648FD5\"},{\"name\":\"3\\u5206\\u4f4d\\u6570\",\"yAxis\":0,\"data\":[[1577923200000,null],[1578009600000,null],[1578268800000,1.1434],[1578355200000,0.9417],[1578441600000,0.9904],[1578528000000,1.0003],[1578614400000,0.8454],[1578873600000,1.4319],[1578960000000,2.2526],[1579046400000,1.9226],[1579132800000,1.7771],[1579219200000,1.8793],[1579478400000,1.4367],[1579564800000,1.2056],[1579651200000,1.2314],[1579737600000,1.4114],[1580688000000,1.4015],[1580774400000,1.3127],[1580860800000,1.2779],[1580947200000,1.1265],[1581033600000,0.931],[1581292800000,1.1128],[1581379200000,1.0012],[1581465600000,0.9334],[1581552000000,1.0287],[1581638400000,0.9457],[1581897600000,1.3118],[1581984000000,1.1959],[1582070400000,1.1682],[1582156800000,1.2093],[1582243200000,1.219],[1582502400000,1.3579],[1582588800000,1.8127],[1582675200000,1.8542],[1582761600000,1.449],[1582848000000,1.728],[1583107200000,1.7403],[1583193600000,1.5373],[1583280000000,1.2715],[1583366400000,1.6911],[1583452800000,1.2522],[1583712000000,1.4465],[1583798400000,2.4392],[1583884800000,2.2109],[1583971200000,1.9041],[1584057600000,2.4949],[1584316800000,1.7532],[1584403200000,1.2927],[1584489600000,1.3079],[1584576000000,1.4962],[1584662400000,1.0724],[1584921600000,1.0662],[1585008000000,1.4442],[1585094400000,1.5209],[1585180800000,1.0862],[1585267200000,1.0985],[1585526400000,1.0475],[1585612800000,0.8467],[1585699200000,0.8065],[1585785600000,0.9226],[1585872000000,0.8202],[1586217600000,1.0537],[1586304000000,1.336],[1586390400000,1.3364],[1586476800000,1.281],[1586736000000,1.0209],[1586822400000,1.49],[1586908800000,0.8241],[1586995200000,0.8935],[1587081600000,1.0565],[1587340800000,0.7961],[1587427200000,0.8163],[1587513600000,0.8429],[1587600000000,0.9035],[1587686400000,0.9904],[1587945600000,0.9537],[1588032000000,1.2429],[1588118400000,0.8699],[1588204800000,1.2729],[1588723200000,1.2718],[1588809600000,1.0747],[1588896000000,1.0587],[1589155200000,1.3559],[1589241600000,1.1075],[1589328000000,0.9283],[1589414400000,1.0164],[1589500800000,1.0495],[1589760000000,1.2307],[1589846400000,1.061],[1589932800000,1.1885],[1590019200000,1.0959],[1590105600000,1.1943],[1590364800000,0.9946],[1590451200000,0.9154],[1590537600000,1.0391],[1590624000000,1.1],[1590710400000,0.9623],[1590969600000,1.3609],[1591056000000,1.3805],[1591142400000,1.3652],[1591228800000,0.9193],[1591315200000,0.937],[1591574400000,1.1183],[1591660800000,1.3156],[1591747200000,1.1777],[1591833600000,1.3918],[1591920000000,1.5102],[1592179200000,0.9659],[1592265600000,0.9007],[1592352000000,0.81],[1592438400000,1.0084],[1592524800000,1.0134],[1592784000000,1.6413],[1592870400000,1.542],[1592956800000,1.3906],[1593388800000,1.4511],[1593475200000,1.3276],[1593561600000,1.4863],[1593648000000,1.9539],[1593734400000,2.5849],[1593993600000,3.0094],[1594080000000,3.0157],[1594166400000,2.7076],[1594252800000,2.5701],[1594339200000,2.437],[1594598400000,2.6227],[1594684800000,2.5291],[1594771200000,2.7835],[1594857600000,2.9637],[1594944000000,2.2448],[1595203200000,2.3951],[1595289600000,1.814],[1595376000000,1.8889],[1595462400000,2.0046],[1595548800000,2.0389],[1595808000000,1.5871],[1595894400000,1.2975],[1595980800000,1.3003],[1596067200000,1.1539],[1596153600000,1.2494],[1596412800000,1.6804],[1596499200000,1.6235],[1596585600000,1.74],[1596672000000,1.839],[1596758400000,2.0206],[1597017600000,2.0203],[1597104000000,1.8198],[1597190400000,1.0547],[1597276800000,0.8635],[1597363200000,0.8194],[1597622400000,1.4353],[1597708800000,1.0166],[1597795200000,1.43],[1597881600000,1.084],[1597968000000,1.0752],[1598227200000,1.0672],[1598313600000,1.0797],[1598400000000,1.2822],[1598486400000,0.9678],[1598572800000,1.2161],[1598832000000,1.4123],[1598918400000,1.0942],[1599004800000,1.1914],[1599091200000,1.2807],[1599177600000,1.0578],[1599436800000,1.2487],[1599523200000,1.2695],[1599609600000,1.2942],[1599696000000,1.2043],[1599782400000,1.0218],[1600041600000,1.2153],[1600128000000,0.9318],[1600214400000,0.918],[1600300800000,1.2663],[1600387200000,1.556],[1600646400000,1.2886],[1600732800000,1.1726],[1600819200000,1.2021],[1600905600000,1.126],[1600992000000,1.0281],[1601251200000,0.916],[1601337600000,1.1073],[1601424000000,0.8034],[1602201600000,0.9822],[1602460800000,1.6488],[1602547200000,1.2593],[1602633600000,1.3571],[1602720000000,1.1834],[1602806400000,0.9786],[1603065600000,1.0605],[1603152000000,0.88],[1603238400000,0.8936],[1603324800000,0.8955],[1603411200000,1.0262],[1603670400000,1.0599],[1603756800000,0.8403],[1603843200000,1.2072],[1603929600000,0.9658],[1604016000000,1.0556],[1604275200000,1.1396],[1604361600000,1.0894],[1604448000000,0.8701],[1604534400000,1.1827],[1604620800000,1.2976],[1604880000000,1.3985],[1604966400000,1.4778],[1605052800000,1.3425],[1605139200000,0.7645],[1605225600000,0.8753],[1605484800000,0.9988],[1605571200000,0.9446],[1605657600000,0.9531],[1605744000000,1.2844],[1605830400000,1.3544],[1606089600000,1.7819],[1606176000000,1.3346],[1606262400000,1.3571],[1606348800000,1.0112],[1606435200000,1.0296],[1606694400000,1.6408],[1606780800000,1.4978],[1606867200000,1.3252],[1606953600000,1.1469],[1607040000000,1.0949],[1607299200000,1.1563],[1607385600000,1.0194],[1607472000000,1.2954],[1607558400000,1.0227],[1607644800000,1.4368],[1607904000000,1.1294],[1607990400000,1.1219],[1608076800000,1.0702],[1608163200000,1.0148],[1608249600000,1.0122],[1608508800000,1.0074],[1608595200000,1.3538],[1608681600000,1.1649],[1608768000000,1.0689],[1608854400000,0.9925],[1609113600000,1.1861],[1609200000000,1.3743],[1609286400000,1.6151],[1609372800000,1.3498],[1609718400000,1.4797],[1609804800000,1.7319],[1609891200000,1.543],[1609977600000,1.5474],[1610064000000,1.5385],[1610323200000,1.814],[1610409600000,1.6043],[1610496000000,1.7832],[1610582400000,1.5987],[1610668800000,1.5867],[1610928000000,1.364],[1611014400000,1.4661],[1611100800000,1.3098],[1611187200000,1.7385],[1611273600000,2.174],[1611532800000,2.0917],[1611619200000,1.8536],[1611705600000,1.819],[1611792000000,1.7283],[1611878400000,1.4188],[1612137600000,1.51],[1612224000000,1.4575],[1612310400000,1.401],[1612396800000,1.3601],[1612483200000,1.4146],[1612742400000,1.2472],[1612828800000,1.3505],[1612915200000,1.3357],[1613606400000,1.6206],[1613692800000,1.579],[1613952000000,1.8331],[1614038400000,1.4336],[1614124800000,1.5438],[1614211200000,1.4314],[1614297600000,1.2796],[1614556800000,1.1102],[1614643200000,1.1005],[1614729600000,0.9225],[1614816000000,1.0911],[1614902400000,1.2785],[1615161600000,1.3321],[1615248000000,1.4078],[1615334400000,1.084],[1615420800000,1.2563],[1615507200000,1.1404],[1615766400000,1.0589],[1615852800000,1.0446],[1615939200000,0.8796],[1616025600000,0.8384],[1616112000000,0.9253],[1616371200000,0.8965],[1616457600000,0.8968],[1616544000000,0.9092],[1616630400000,0.7528],[1616716800000,0.9838],[1616976000000,0.8846],[1617062400000,0.9077],[1617148800000,0.8371],[1617235200000,0.8106],[1617321600000,0.9574],[1617667200000,0.9428],[1617753600000,1.3149],[1617840000000,1.2999],[1617926400000,1.0093],[1618185600000,1.0334],[1618272000000,0.82],[1618358400000,0.8689],[1618444800000,0.8547],[1618531200000,1.0588],[1618790400000,0.8435],[1618876800000,0.788],[1618963200000,0.607],[1619049600000,0.6679],[1619136000000,0.714],[1619395200000,1.356],[1619481600000,1.0598],[1619568000000,1.1754],[1619654400000,1.279],[1619740800000,1.3055],[1620259200000,1.0317],[1620345600000,0.9933],[1620604800000,0.9158],[1620691200000,0.8078],[1620777600000,0.7251],[1620864000000,0.9516],[1620950400000,1.131],[1621209600000,1.2218],[1621296000000,0.9149],[1621382400000,1.0552],[1621468800000,1.02],[1621555200000,0.8982],[1621814400000,0.993],[1621900800000,1.4473],[1621987200000,1.5209],[1622073600000,1.0501],[1622160000000,1.1465],[1622419200000,1.1067],[1622505600000,1.0949],[1622592000000,1.0146],[1622678400000,1.3207],[1622764800000,1.3042],[1623024000000,1.3273],[1623110400000,1.2884],[1623196800000,1.0963],[1623283200000,1.1497],[1623369600000,1.382],[1623715200000,1.1938],[1623801600000,1.0164],[1623888000000,0.9882],[1623974400000,1.3578],[1624233600000,1.3309],[1624320000000,1.1191],[1624406400000,1.1505],[1624492800000,1.2917],[1624579200000,1.5802],[1624838400000,1.3631],[1624924800000,1.3272],[1625011200000,1.1632],[1625097600000,1.2975],[1625184000000,1.4348],[1625443200000,1.376],[1625529600000,1.5563],[1625616000000,1.3144],[1625702400000,1.573],[1625788800000,1.312],[1626048000000,1.5657],[1626134400000,1.1741],[1626220800000,1.2318],[1626307200000,1.4547],[1626393600000,1.5075],[1626652800000,1.3133],[1626739200000,1.1272],[1626825600000,1.3819],[1626912000000,1.616],[1626998400000,1.5352],[1627257600000,1.6716],[1627344000000,1.8091],[1627430400000,1.7622],[1627516800000,1.5186],[1627603200000,1.2976],[1627862400000,1.4988],[1627948800000,1.464],[1628035200000,1.4373],[1628121600000,1.3846],[1628208000000,1.3442],[1628467200000,1.5462],[1628553600000,1.5704],[1628640000000,1.436],[1628726400000,1.5289],[1628812800000,1.4953],[1629072000000,1.5705],[1629158400000,1.8059],[1629244800000,1.642],[1629331200000,1.4722],[1629417600000,1.1831],[1629676800000,1.2568],[1629763200000,1.2294],[1629849600000,1.2816],[1629936000000,1.2584],[1630022400000,1.4663],[1630281600000,1.7063],[1630368000000,2.0913],[1630454400000,2.3275],[1630540800000,2.1007],[1630627200000,1.9101],[1630886400000,1.7654],[1630972800000,1.6231],[1631059200000,1.951],[1631145600000,1.5832],[1631232000000,1.8518],[1631491200000,1.536],[1631577600000,1.6038],[1631664000000,1.4378],[1631750400000,1.6678],[1631836800000,1.4231],[1632268800000,1.2012],[1632355200000,1.4367],[1632441600000,1.3178],[1632700800000,1.4718],[1632787200000,1.1487],[1632873600000,1.2315],[1632960000000,1.0261],[1633651200000,1.2069],[1633910400000,1.2895],[1633996800000,0.9439],[1634083200000,0.8276],[1634169600000,0.7746],[1634256000000,1.0033],[1634515200000,0.9437],[1634601600000,0.9305],[1634688000000,0.9164],[1634774400000,0.9302],[1634860800000,0.8821],[1635120000000,0.9389],[1635206400000,1.1309],[1635292800000,1.2392],[1635379200000,1.2018],[1635465600000,1.3233],[1635724800000,1.2055],[1635811200000,1.6444],[1635897600000,1.2883],[1635984000000,1.2175],[1636070400000,1.4026],[1636329600000,1.443],[1636416000000,1.2044],[1636502400000,1.3338],[1636588800000,1.3285],[1636675200000,1.1316],[1636934400000,1.3497],[1637020800000,1.0388],[1637107200000,0.927],[1637193600000,0.9346],[1637280000000,1.0385],[1637539200000,1.0593],[1637625600000,1.1108],[1637712000000,1.0614],[1637798400000,0.912],[1637884800000,0.9178],[1638144000000,1.1703],[1638230400000,1.2327]],\"color\":\"#E06681\"},{\"name\":\"4\\u5206\\u4f4d\\u6570\",\"yAxis\":0,\"data\":[[1577923200000,null],[1578009600000,null],[1578268800000,1.5457],[1578355200000,1.2832],[1578441600000,1.4077],[1578528000000,1.2731],[1578614400000,1.1346],[1578873600000,0.9565],[1578960000000,0.8988],[1579046400000,0.7475],[1579132800000,0.6573],[1579219200000,0.7777],[1579478400000,1.476],[1579564800000,1.7005],[1579651200000,1.8886],[1579737600000,2.3513],[1580688000000,1.5893],[1580774400000,0.8856],[1580860800000,1.3137],[1580947200000,1.2076],[1581033600000,1.1342],[1581292800000,1.0245],[1581379200000,1.0664],[1581465600000,1.0422],[1581552000000,1.1467],[1581638400000,1.0818],[1581897600000,1.2561],[1581984000000,1.5432],[1582070400000,1.6749],[1582156800000,1.8547],[1582243200000,2.0718],[1582502400000,2.0263],[1582588800000,1.3893],[1582675200000,1.2951],[1582761600000,0.8804],[1582848000000,1.3757],[1583107200000,1.1178],[1583193600000,1.8982],[1583280000000,1.6259],[1583366400000,2.0741],[1583452800000,1.3845],[1583712000000,1.7824],[1583798400000,1.2632],[1583884800000,1.0187],[1583971200000,1.2006],[1584057600000,1.3647],[1584316800000,1.0432],[1584403200000,1.2744],[1584489600000,1.1996],[1584576000000,1.3749],[1584662400000,1.1009],[1584921600000,1.0099],[1585008000000,1.5272],[1585094400000,1.7088],[1585180800000,1.2139],[1585267200000,1.3652],[1585526400000,1.4359],[1585612800000,1.1427],[1585699200000,1.368],[1585785600000,1.3558],[1585872000000,1.2019],[1586217600000,1.4662],[1586304000000,1.4599],[1586390400000,1.3208],[1586476800000,1.3293],[1586736000000,0.9755],[1586822400000,1.356],[1586908800000,1.1917],[1586995200000,0.9674],[1587081600000,1.2771],[1587340800000,1.0367],[1587427200000,1.1658],[1587513600000,0.7983],[1587600000000,0.835],[1587686400000,0.9614],[1587945600000,0.9185],[1588032000000,1.1408],[1588118400000,0.9519],[1588204800000,1.4984],[1588723200000,1.6888],[1588809600000,1.4229],[1588896000000,1.6581],[1589155200000,0.9931],[1589241600000,0.784],[1589328000000,0.7896],[1589414400000,0.8038],[1589500800000,0.7948],[1589760000000,1.2562],[1589846400000,0.9146],[1589932800000,0.9803],[1590019200000,0.9504],[1590105600000,0.9491],[1590364800000,0.907],[1590451200000,0.9816],[1590537600000,1.1402],[1590624000000,1.1866],[1590710400000,1.0994],[1590969600000,1.2117],[1591056000000,1.4813],[1591142400000,1.4194],[1591228800000,1.0802],[1591315200000,1.1298],[1591574400000,1.1054],[1591660800000,1.0615],[1591747200000,0.9542],[1591833600000,1.2379],[1591920000000,1.2764],[1592179200000,1.4206],[1592265600000,1.2534],[1592352000000,1.0863],[1592438400000,1.439],[1592524800000,1.6965],[1592784000000,1.4575],[1592870400000,1.3512],[1592956800000,1.443],[1593388800000,1.4668],[1593475200000,1.198],[1593561600000,1.6985],[1593648000000,1.8565],[1593734400000,2.1412],[1593993600000,3.1388],[1594080000000,3.5533],[1594166400000,2.4276],[1594252800000,2.3301],[1594339200000,2.5253],[1594598400000,2.4183],[1594684800000,2.2918],[1594771200000,2.3019],[1594857600000,2.1316],[1594944000000,1.6558],[1595203200000,1.8754],[1595289600000,1.6942],[1595376000000,1.4952],[1595462400000,1.5388],[1595548800000,1.5925],[1595808000000,1.0944],[1595894400000,1.0571],[1595980800000,1.4854],[1596067200000,1.2592],[1596153600000,1.4734],[1596412800000,1.686],[1596499200000,1.9125],[1596585600000,1.7381],[1596672000000,1.9621],[1596758400000,1.9597],[1597017600000,1.8698],[1597104000000,1.6987],[1597190400000,1.6497],[1597276800000,1.2971],[1597363200000,1.2375],[1597622400000,2.0455],[1597708800000,1.4562],[1597795200000,1.4196],[1597881600000,1.4112],[1597968000000,1.285],[1598227200000,1.2027],[1598313600000,1.2496],[1598400000000,1.0946],[1598486400000,0.8412],[1598572800000,1.1887],[1598832000000,1.3367],[1598918400000,1.082],[1599004800000,0.9712],[1599091200000,1.136],[1599177600000,0.9825],[1599436800000,1.2655],[1599523200000,1.0815],[1599609600000,1.0558],[1599696000000,0.9902],[1599782400000,1.001],[1600041600000,0.9725],[1600128000000,0.8453],[1600214400000,0.8361],[1600300800000,0.882],[1600387200000,1.1766],[1600646400000,1.0803],[1600732800000,0.9922],[1600819200000,0.6666],[1600905600000,0.6826],[1600992000000,0.5926],[1601251200000,0.6352],[1601337600000,0.616],[1601424000000,0.755],[1602201600000,1.018],[1602460800000,1.3389],[1602547200000,1.0909],[1602633600000,0.9341],[1602720000000,0.7698],[1602806400000,0.7422],[1603065600000,0.7877],[1603152000000,0.6109],[1603238400000,0.6181],[1603324800000,0.7788],[1603411200000,0.7368],[1603670400000,0.7815],[1603756800000,0.7042],[1603843200000,0.8914],[1603929600000,0.8054],[1604016000000,1.192],[1604275200000,1.2998],[1604361600000,1.0985],[1604448000000,0.9456],[1604534400000,1.0507],[1604620800000,1.2717],[1604880000000,1.5137],[1604966400000,1.3782],[1605052800000,1.1884],[1605139200000,0.9943],[1605225600000,1.0463],[1605484800000,1.2428],[1605571200000,1.3071],[1605657600000,1.1283],[1605744000000,0.8081],[1605830400000,0.7344],[1606089600000,1.0528],[1606176000000,0.8541],[1606262400000,0.9115],[1606348800000,0.8904],[1606435200000,1.0784],[1606694400000,1.4392],[1606780800000,1.1913],[1606867200000,1.1227],[1606953600000,1.0162],[1607040000000,0.9267],[1607299200000,0.9674],[1607385600000,1.0166],[1607472000000,1.2672],[1607558400000,0.7497],[1607644800000,1.0606],[1607904000000,0.7991],[1607990400000,0.7622],[1608076800000,0.6459],[1608163200000,0.9378],[1608249600000,0.8405],[1608508800000,1.008],[1608595200000,1.1164],[1608681600000,1.0653],[1608768000000,1.1799],[1608854400000,1.0712],[1609113600000,1.23],[1609200000000,1.1287],[1609286400000,1.3647],[1609372800000,1.5513],[1609718400000,2.1899],[1609804800000,2.245],[1609891200000,2.0425],[1609977600000,2.1926],[1610064000000,1.6718],[1610323200000,1.8819],[1610409600000,1.6931],[1610496000000,2.1027],[1610582400000,2.0508],[1610668800000,1.5969],[1610928000000,1.3542],[1611014400000,1.5438],[1611100800000,1.2137],[1611187200000,1.6287],[1611273600000,1.5572],[1611532800000,1.706],[1611619200000,1.517],[1611705600000,1.3944],[1611792000000,1.2038],[1611878400000,1.3224],[1612137600000,1.2559],[1612224000000,1.2566],[1612310400000,1.381],[1612396800000,1.5165],[1612483200000,1.2742],[1612742400000,1.2131],[1612828800000,1.2128],[1612915200000,1.2021],[1613606400000,1.5553],[1613692800000,1.6128],[1613952000000,1.9752],[1614038400000,1.484],[1614124800000,1.6084],[1614211200000,1.4424],[1614297600000,1.3208],[1614556800000,1.1699],[1614643200000,1.1222],[1614729600000,1.0837],[1614816000000,1.1997],[1614902400000,1.1523],[1615161600000,1.389],[1615248000000,1.5099],[1615334400000,1.1948],[1615420800000,1.1533],[1615507200000,1.0128],[1615766400000,1.0054],[1615852800000,0.8341],[1615939200000,0.8005],[1616025600000,0.7618],[1616112000000,1.1253],[1616371200000,1.1296],[1616457600000,1.1382],[1616544000000,1.2995],[1616630400000,1.0512],[1616716800000,1.059],[1616976000000,1.1279],[1617062400000,1.0472],[1617148800000,1.0076],[1617235200000,0.9385],[1617321600000,0.9101],[1617667200000,0.7809],[1617753600000,0.8628],[1617840000000,0.7375],[1617926400000,0.6798],[1618185600000,0.8957],[1618272000000,0.8831],[1618358400000,0.7853],[1618444800000,0.8224],[1618531200000,0.7189],[1618790400000,1.3756],[1618876800000,1.2167],[1618963200000,0.9431],[1619049600000,1.1611],[1619136000000,1.1533],[1619395200000,1.5331],[1619481600000,1.1181],[1619568000000,1.1567],[1619654400000,1.3016],[1619740800000,1.4727],[1620259200000,1.2299],[1620345600000,1.2377],[1620604800000,1.3114],[1620691200000,1.0565],[1620777600000,0.9272],[1620864000000,0.8923],[1620950400000,0.9944],[1621209600000,1.1645],[1621296000000,0.8416],[1621382400000,0.7536],[1621468800000,0.9501],[1621555200000,0.8346],[1621814400000,1.0051],[1621900800000,1.3299],[1621987200000,1.182],[1622073600000,1.4671],[1622160000000,1.3786],[1622419200000,1.2852],[1622505600000,1.4136],[1622592000000,1.1817],[1622678400000,0.9729],[1622764800000,1.1357],[1623024000000,1.1188],[1623110400000,1.1298],[1623196800000,1.0273],[1623283200000,0.984],[1623369600000,1.1726],[1623715200000,0.8842],[1623801600000,0.908],[1623888000000,0.9373],[1623974400000,1.127],[1624233600000,1.1298],[1624320000000,1.1062],[1624406400000,1.2242],[1624492800000,1.0375],[1624579200000,1.0881],[1624838400000,1.0436],[1624924800000,1.0111],[1625011200000,0.8535],[1625097600000,0.9479],[1625184000000,1.4247],[1625443200000,1.2012],[1625529600000,1.2371],[1625616000000,1.3265],[1625702400000,1.3557],[1625788800000,1.2608],[1626048000000,1.706],[1626134400000,1.2993],[1626220800000,1.5273],[1626307200000,1.4298],[1626393600000,0.9865],[1626652800000,0.9627],[1626739200000,0.838],[1626825600000,1.0644],[1626912000000,1.2037],[1626998400000,1.7992],[1627257600000,2.0786],[1627344000000,2.3424],[1627430400000,1.815],[1627516800000,1.7131],[1627603200000,1.1963],[1627862400000,1.5794],[1627948800000,1.4302],[1628035200000,1.1327],[1628121600000,1.189],[1628208000000,1.2518],[1628467200000,1.4405],[1628553600000,1.5355],[1628640000000,1.4132],[1628726400000,1.2648],[1628812800000,1.2519],[1629072000000,1.2871],[1629158400000,1.6398],[1629244800000,1.3783],[1629331200000,1.7987],[1629417600000,1.5868],[1629676800000,1.5164],[1629763200000,1.6375],[1629849600000,1.2807],[1629936000000,1.4273],[1630022400000,1.0727],[1630281600000,1.3147],[1630368000000,1.3248],[1630454400000,1.451],[1630540800000,1.3977],[1630627200000,1.9371],[1630886400000,1.8088],[1630972800000,1.7378],[1631059200000,1.7996],[1631145600000,1.6401],[1631232000000,1.3505],[1631491200000,1.1451],[1631577600000,1.1665],[1631664000000,1.1068],[1631750400000,1.1793],[1631836800000,1.0979],[1632268800000,1.0072],[1632355200000,1.176],[1632441600000,1.1536],[1632700800000,1.1349],[1632787200000,1.1089],[1632873600000,1.2034],[1632960000000,0.9735],[1633651200000,1.0668],[1633910400000,0.9955],[1633996800000,1.1924],[1634083200000,0.9583],[1634169600000,0.9774],[1634256000000,1.2865],[1634515200000,1.1175],[1634601600000,0.902],[1634688000000,1.1121],[1634774400000,0.8742],[1634860800000,1.1369],[1635120000000,1.1217],[1635206400000,0.8065],[1635292800000,0.9333],[1635379200000,0.9603],[1635465600000,1.1741],[1635724800000,1.211],[1635811200000,1.3481],[1635897600000,1.1959],[1635984000000,1.2458],[1636070400000,1.3801],[1636329600000,1.1382],[1636416000000,0.9998],[1636502400000,1.2228],[1636588800000,1.2839],[1636675200000,1.2192],[1636934400000,1.2222],[1637020800000,1.1704],[1637107200000,1.0213],[1637193600000,1.0041],[1637280000000,1.0231],[1637539200000,1.1529],[1637625600000,1.184],[1637712000000,1.0758],[1637798400000,1.0123],[1637884800000,1.0166],[1638144000000,1.1687],[1638230400000,0.8009]],\"color\":\"#E2D269\"},{\"name\":\"5\\u5206\\u4f4d\\u6570\",\"yAxis\":0,\"data\":[[1577923200000,null],[1578009600000,null],[1578268800000,2.2331],[1578355200000,1.926],[1578441600000,1.9758],[1578528000000,2.0418],[1578614400000,1.6745],[1578873600000,1.2594],[1578960000000,1.525],[1579046400000,1.0121],[1579132800000,0.9767],[1579219200000,1.8372],[1579478400000,1.1889],[1579564800000,1.2214],[1579651200000,1.0655],[1579737600000,1.4739],[1580688000000,1.8787],[1580774400000,1.7575],[1580860800000,1.3859],[1580947200000,1.4022],[1581033600000,1.7573],[1581292800000,1.0496],[1581379200000,0.8421],[1581465600000,0.7003],[1581552000000,0.8129],[1581638400000,0.6968],[1581897600000,0.9743],[1581984000000,1.1608],[1582070400000,1.2277],[1582156800000,1.2893],[1582243200000,1.3726],[1582502400000,1.3868],[1582588800000,1.7393],[1582675200000,1.6518],[1582761600000,1.6509],[1582848000000,1.7824],[1583107200000,1.6562],[1583193600000,1.627],[1583280000000,1.3953],[1583366400000,1.5789],[1583452800000,1.2172],[1583712000000,1.6262],[1583798400000,1.5795],[1583884800000,1.1933],[1583971200000,1.1914],[1584057600000,1.4365],[1584316800000,1.4291],[1584403200000,1.7179],[1584489600000,1.6844],[1584576000000,1.7426],[1584662400000,1.3754],[1584921600000,1.2357],[1585008000000,1.4271],[1585094400000,1.6236],[1585180800000,1.1673],[1585267200000,1.3287],[1585526400000,1.2456],[1585612800000,1.0518],[1585699200000,1.1663],[1585785600000,1.2489],[1585872000000,1.0197],[1586217600000,1.3303],[1586304000000,0.9051],[1586390400000,0.8974],[1586476800000,0.9497],[1586736000000,0.6772],[1586822400000,0.9611],[1586908800000,1.3632],[1586995200000,1.0954],[1587081600000,1.4883],[1587340800000,1.1191],[1587427200000,1.0869],[1587513600000,0.7501],[1587600000000,0.7952],[1587686400000,0.8186],[1587945600000,0.8152],[1588032000000,1.1454],[1588118400000,1.4067],[1588204800000,2.0555],[1588723200000,2.1159],[1588809600000,1.8068],[1588896000000,2.3302],[1589155200000,1.1671],[1589241600000,1.0056],[1589328000000,0.9651],[1589414400000,1.0222],[1589500800000,1.1116],[1589760000000,1.3028],[1589846400000,1.1874],[1589932800000,1.1258],[1590019200000,1.0557],[1590105600000,1.0599],[1590364800000,0.8923],[1590451200000,0.9933],[1590537600000,0.9179],[1590624000000,1.1378],[1590710400000,0.8873],[1590969600000,1.5928],[1591056000000,1.3339],[1591142400000,1.5827],[1591228800000,1.3356],[1591315200000,1.2825],[1591574400000,1.0955],[1591660800000,1.2108],[1591747200000,1.1671],[1591833600000,1.2559],[1591920000000,1.2451],[1592179200000,1.0857],[1592265600000,1.0139],[1592352000000,1.1435],[1592438400000,1.0804],[1592524800000,1.2337],[1592784000000,1.669],[1592870400000,1.5041],[1592956800000,1.5404],[1593388800000,1.2678],[1593475200000,1.1977],[1593561600000,1.6191],[1593648000000,2.3365],[1593734400000,2.8025],[1593993600000,2.6502],[1594080000000,2.6272],[1594166400000,2.5691],[1594252800000,2.7624],[1594339200000,2.4945],[1594598400000,2.2679],[1594684800000,2.4719],[1594771200000,1.7675],[1594857600000,1.7908],[1594944000000,1.4856],[1595203200000,1.5763],[1595289600000,1.5118],[1595376000000,1.589],[1595462400000,1.7328],[1595548800000,1.7891],[1595808000000,1.235],[1595894400000,1.1812],[1595980800000,1.4948],[1596067200000,1.4314],[1596153600000,1.4513],[1596412800000,1.9087],[1596499200000,1.7659],[1596585600000,1.6381],[1596672000000,1.9649],[1596758400000,1.7965],[1597017600000,1.5319],[1597104000000,1.6161],[1597190400000,1.7825],[1597276800000,1.2499],[1597363200000,1.3136],[1597622400000,2.0488],[1597708800000,1.6347],[1597795200000,1.5086],[1597881600000,1.4221],[1597968000000,1.4571],[1598227200000,1.5147],[1598313600000,1.3602],[1598400000000,1.4478],[1598486400000,1.2948],[1598572800000,1.3919],[1598832000000,1.5866],[1598918400000,1.1519],[1599004800000,1.2845],[1599091200000,1.3342],[1599177600000,1.2093],[1599436800000,1.3324],[1599523200000,1.1268],[1599609600000,1.4368],[1599696000000,1.2893],[1599782400000,1.0963],[1600041600000,1.1635],[1600128000000,1.0422],[1600214400000,0.8816],[1600300800000,1.032],[1600387200000,1.1855],[1600646400000,0.971],[1600732800000,0.8422],[1600819200000,0.859],[1600905600000,0.8627],[1600992000000,0.7655],[1601251200000,0.6396],[1601337600000,0.7067],[1601424000000,0.7079],[1602201600000,0.9778],[1602460800000,1.3566],[1602547200000,1.0884],[1602633600000,1.0198],[1602720000000,0.8212],[1602806400000,0.8454],[1603065600000,1.2163],[1603152000000,0.8219],[1603238400000,0.7823],[1603324800000,0.9674],[1603411200000,0.994],[1603670400000,0.9736],[1603756800000,0.9371],[1603843200000,1.0313],[1603929600000,1.0498],[1604016000000,1.1815],[1604275200000,1.1506],[1604361600000,1.0793],[1604448000000,0.9816],[1604534400000,1.4017],[1604620800000,1.5138],[1604880000000,1.8559],[1604966400000,1.5567],[1605052800000,1.6366],[1605139200000,0.9579],[1605225600000,1.0574],[1605484800000,1.0431],[1605571200000,1.3684],[1605657600000,1.0758],[1605744000000,1.1624],[1605830400000,0.9001],[1606089600000,1.4421],[1606176000000,1.0111],[1606262400000,1.1672],[1606348800000,0.9284],[1606435200000,0.9104],[1606694400000,1.3609],[1606780800000,1.3052],[1606867200000,1.1906],[1606953600000,1.1162],[1607040000000,1.0019],[1607299200000,1.1356],[1607385600000,1.0116],[1607472000000,1.1354],[1607558400000,1.0709],[1607644800000,1.3814],[1607904000000,0.9705],[1607990400000,0.941],[1608076800000,0.936],[1608163200000,1.1318],[1608249600000,1.1723],[1608508800000,1.2982],[1608595200000,1.3137],[1608681600000,1.309],[1608768000000,0.8777],[1608854400000,0.8588],[1609113600000,0.8721],[1609200000000,1.078],[1609286400000,0.9584],[1609372800000,1.3477],[1609718400000,1.5849],[1609804800000,1.7971],[1609891200000,1.7872],[1609977600000,1.7454],[1610064000000,1.5202],[1610323200000,1.7311],[1610409600000,1.5823],[1610496000000,1.6579],[1610582400000,1.6259],[1610668800000,1.6253],[1610928000000,1.5707],[1611014400000,1.529],[1611100800000,1.3549],[1611187200000,1.6993],[1611273600000,1.665],[1611532800000,1.9457],[1611619200000,1.6262],[1611705600000,1.5293],[1611792000000,1.5401],[1611878400000,1.3041],[1612137600000,1.0975],[1612224000000,1.2768],[1612310400000,1.2215],[1612396800000,1.3132],[1612483200000,1.4303],[1612742400000,1.2945],[1612828800000,1.383],[1612915200000,1.6392],[1613606400000,1.7443],[1613692800000,1.2815],[1613952000000,1.5949],[1614038400000,1.1766],[1614124800000,1.3946],[1614211200000,1.2269],[1614297600000,1.5435],[1614556800000,1.3757],[1614643200000,1.4758],[1614729600000,1.3403],[1614816000000,1.5544],[1614902400000,1.0602],[1615161600000,1.2671],[1615248000000,1.3513],[1615334400000,1.0224],[1615420800000,1.1275],[1615507200000,1.1276],[1615766400000,1.268],[1615852800000,1.0148],[1615939200000,1.035],[1616025600000,1.091],[1616112000000,1.0735],[1616371200000,0.9473],[1616457600000,1.0707],[1616544000000,1.1549],[1616630400000,0.905],[1616716800000,1.2202],[1616976000000,1.1414],[1617062400000,1.1857],[1617148800000,1.0395],[1617235200000,1.0164],[1617321600000,1.0783],[1617667200000,0.9454],[1617753600000,1.0367],[1617840000000,0.9385],[1617926400000,1.0061],[1618185600000,1.0068],[1618272000000,0.8341],[1618358400000,0.7472],[1618444800000,0.7428],[1618531200000,0.7319],[1618790400000,1.3822],[1618876800000,1.385],[1618963200000,1.0822],[1619049600000,1.0168],[1619136000000,1.1849],[1619395200000,0.9454],[1619481600000,0.8853],[1619568000000,0.8124],[1619654400000,0.7936],[1619740800000,0.9702],[1620259200000,1.0647],[1620345600000,1.0299],[1620604800000,0.9083],[1620691200000,1.21],[1620777600000,0.8521],[1620864000000,0.969],[1620950400000,1.4903],[1621209600000,1.4467],[1621296000000,0.9513],[1621382400000,0.9233],[1621468800000,1.05],[1621555200000,0.8565],[1621814400000,0.9518],[1621900800000,1.2714],[1621987200000,1.1713],[1622073600000,1.3615],[1622160000000,1.5323],[1622419200000,1.532],[1622505600000,1.3992],[1622592000000,1.48],[1622678400000,0.9341],[1622764800000,0.975],[1623024000000,1.03],[1623110400000,1.1083],[1623196800000,1.112],[1623283200000,1.3911],[1623369600000,1.7466],[1623715200000,1.6607],[1623801600000,1.3278],[1623888000000,1.2472],[1623974400000,1.37],[1624233600000,1.3018],[1624320000000,1.4051],[1624406400000,1.45],[1624492800000,1.3143],[1624579200000,1.031],[1624838400000,1.1334],[1624924800000,1.0436],[1625011200000,0.8981],[1625097600000,1.0446],[1625184000000,0.929],[1625443200000,0.8912],[1625529600000,0.9651],[1625616000000,0.9573],[1625702400000,1.2304],[1625788800000,1.1934],[1626048000000,1.4293],[1626134400000,1.298],[1626220800000,1.1856],[1626307200000,1.1554],[1626393600000,1.1654],[1626652800000,1.1768],[1626739200000,1.034],[1626825600000,1.3946],[1626912000000,1.7162],[1626998400000,1.4897],[1627257600000,1.6501],[1627344000000,1.7301],[1627430400000,1.5301],[1627516800000,1.4165],[1627603200000,1.6951],[1627862400000,1.9824],[1627948800000,1.9523],[1628035200000,1.5398],[1628121600000,1.4404],[1628208000000,1.2077],[1628467200000,1.2964],[1628553600000,1.3459],[1628640000000,1.2702],[1628726400000,1.1378],[1628812800000,1.3887],[1629072000000,1.305],[1629158400000,1.5762],[1629244800000,1.9269],[1629331200000,1.7248],[1629417600000,1.8144],[1629676800000,1.8678],[1629763200000,1.6499],[1629849600000,1.4745],[1629936000000,1.5796],[1630022400000,1.5268],[1630281600000,1.9135],[1630368000000,1.9465],[1630454400000,2.1242],[1630540800000,1.928],[1630627200000,1.6165],[1630886400000,1.7273],[1630972800000,1.2977],[1631059200000,1.3101],[1631145600000,1.2372],[1631232000000,1.7181],[1631491200000,1.6385],[1631577600000,1.5565],[1631664000000,1.5249],[1631750400000,1.5771],[1631836800000,1.2295],[1632268800000,1.0265],[1632355200000,1.175],[1632441600000,1.1391],[1632700800000,1.3061],[1632787200000,0.996],[1632873600000,1.18],[1632960000000,0.9901],[1633651200000,1.1455],[1633910400000,1.0157],[1633996800000,1.3434],[1634083200000,1.1729],[1634169600000,1.0595],[1634256000000,1.5955],[1634515200000,1.3979],[1634601600000,1.2013],[1634688000000,1.1742],[1634774400000,1.0889],[1634860800000,1.1731],[1635120000000,1.1849],[1635206400000,0.9057],[1635292800000,1.1479],[1635379200000,1.2191],[1635465600000,1.2633],[1635724800000,1.2994],[1635811200000,1.2216],[1635897600000,0.9747],[1635984000000,0.9992],[1636070400000,1.0918],[1636329600000,1.1617],[1636416000000,0.8247],[1636502400000,0.9514],[1636588800000,1.1141],[1636675200000,0.8876],[1636934400000,0.7927],[1637020800000,0.9923],[1637107200000,0.9024],[1637193600000,0.9299],[1637280000000,0.956],[1637539200000,1.1083],[1637625600000,0.9546],[1637712000000,0.9341],[1637798400000,0.8304],[1637884800000,0.7997],[1638144000000,0.9469],[1638230400000,1.0051]],\"color\":\"#4A8E8E\"},{\"name\":\"\\u6700\\u5c0f\\/\\u6700\\u5927\\u5206\\u4f4d\",\"yAxis\":0,\"data\":[[1577923200000,null],[1578009600000,null],[1578268800000,0.7773],[1578355200000,0.7067],[1578441600000,0.7475],[1578528000000,0.6481],[1578614400000,0.7093],[1578873600000,0.9145],[1578960000000,0.8048],[1579046400000,1.0863],[1579132800000,0.9665],[1579219200000,0.5783],[1579478400000,1.4558],[1579564800000,1.3437],[1579651200000,1.6576],[1579737600000,1.3413],[1580688000000,1.1449],[1580774400000,0.7798],[1580860800000,1.2363],[1580947200000,1.4602],[1581033600000,1.498],[1581292800000,1.9383],[1581379200000,1.4262],[1581465600000,1.7078],[1581552000000,1.4203],[1581638400000,1.7576],[1581897600000,1.5839],[1581984000000,1.0345],[1582070400000,1.0873],[1582156800000,1.0346],[1582243200000,1.0504],[1582502400000,1.1121],[1582588800000,0.9147],[1582675200000,0.9586],[1582761600000,0.8929],[1582848000000,0.9329],[1583107200000,0.9189],[1583193600000,1.773],[1583280000000,1.7407],[1583366400000,2.2699],[1583452800000,2.2081],[1583712000000,1.8],[1583798400000,1.3074],[1583884800000,1.4943],[1583971200000,1.4375],[1584057600000,1.4672],[1584316800000,1.3552],[1584403200000,0.9649],[1584489600000,0.9439],[1584576000000,0.8613],[1584662400000,0.9092],[1584921600000,0.9774],[1585008000000,0.9344],[1585094400000,0.8308],[1585180800000,0.8295],[1585267200000,0.8526],[1585526400000,0.9776],[1585612800000,1.2548],[1585699200000,1.1757],[1585785600000,0.9905],[1585872000000,1.0902],[1586217600000,1.2777],[1586304000000,1.227],[1586390400000,1.2048],[1586476800000,1.1735],[1586736000000,1.2048],[1586822400000,1.286],[1586908800000,0.98],[1586995200000,1.0238],[1587081600000,0.9383],[1587340800000,0.959],[1587427200000,1.0781],[1587513600000,1.5672],[1587600000000,1.4972],[1587686400000,1.4748],[1587945600000,1.4705],[1588032000000,1.2512],[1588118400000,0.6618],[1588204800000,0.6044],[1588723200000,0.5903],[1588809600000,0.5224],[1588896000000,0.4324],[1589155200000,1.0628],[1589241600000,1.047],[1589328000000,1.0603],[1589414400000,0.989],[1589500800000,0.9771],[1589760000000,1.3299],[1589846400000,1.1877],[1589932800000,1.4239],[1590019200000,1.4546],[1590105600000,1.3215],[1590364800000,0.9513],[1590451200000,0.8423],[1590537600000,0.9014],[1590624000000,0.7678],[1590710400000,1.032],[1590969600000,0.6459],[1591056000000,0.8412],[1591142400000,0.6531],[1591228800000,0.5882],[1591315200000,0.6133],[1591574400000,1.3414],[1591660800000,1.0164],[1591747200000,1.1493],[1591833600000,1.2975],[1591920000000,1.2978],[1592179200000,1.8761],[1592265600000,1.6732],[1592352000000,1.6889],[1592438400000,1.9818],[1592524800000,2.1789],[1592784000000,0.8294],[1592870400000,0.7948],[1592956800000,0.7103],[1593388800000,0.9268],[1593475200000,1.0448],[1593561600000,1.4098],[1593648000000,0.9811],[1593734400000,0.84],[1593993600000,1.0879],[1594080000000,1.1285],[1594166400000,0.9521],[1594252800000,0.896],[1594339200000,1.0439],[1594598400000,1.1408],[1594684800000,1.0855],[1594771200000,1.2548],[1594857600000,1.2502],[1594944000000,1.1497],[1595203200000,1.1194],[1595289600000,1.0569],[1595376000000,1.2232],[1595462400000,1.2123],[1595548800000,1.1585],[1595808000000,1.3325],[1595894400000,1.2999],[1595980800000,1.2288],[1596067200000,1.5748],[1596153600000,1.378],[1596412800000,1.331],[1596499200000,1.4671],[1596585600000,0.9702],[1596672000000,0.9982],[1596758400000,1.0842],[1597017600000,1.2465],[1597104000000,1.0459],[1597190400000,1.2369],[1597276800000,1.3247],[1597363200000,1.2336],[1597622400000,1.0414],[1597708800000,1.1053],[1597795200000,1.0412],[1597881600000,0.9147],[1597968000000,0.8103],[1598227200000,0.8867],[1598313600000,0.9467],[1598400000000,1.0335],[1598486400000,0.8399],[1598572800000,1.0392],[1598832000000,1.1586],[1598918400000,1.408],[1599004800000,1.1683],[1599091200000,1.0671],[1599177600000,0.934],[1599436800000,1.1143],[1599523200000,1.0995],[1599609600000,0.6874],[1599696000000,0.7378],[1599782400000,0.74],[1600041600000,0.7523],[1600128000000,0.8424],[1600214400000,1.0969],[1600300800000,0.8487],[1600387200000,1.0844],[1600646400000,1.1388],[1600732800000,1.2137],[1600819200000,0.8984],[1600905600000,1.017],[1600992000000,1.0587],[1601251200000,1.1545],[1601337600000,1.1181],[1601424000000,0.973],[1602201600000,0.8739],[1602460800000,0.8446],[1602547200000,0.9441],[1602633600000,0.8735],[1602720000000,1.3016],[1602806400000,1.2487],[1603065600000,0.8371],[1603152000000,1.174],[1603238400000,1.3753],[1603324800000,0.9748],[1603411200000,0.8134],[1603670400000,0.8295],[1603756800000,0.9174],[1603843200000,1.0414],[1603929600000,1.2031],[1604016000000,1.2152],[1604275200000,1.2485],[1604361600000,1.2587],[1604448000000,1.3408],[1604534400000,0.8838],[1604620800000,0.8051],[1604880000000,0.8447],[1604966400000,0.9035],[1605052800000,0.7677],[1605139200000,0.9597],[1605225600000,1.0305],[1605484800000,1.1048],[1605571200000,0.9429],[1605657600000,1.2637],[1605744000000,0.8627],[1605830400000,1.0305],[1606089600000,0.8711],[1606176000000,1.2758],[1606262400000,1.147],[1606348800000,1.3134],[1606435200000,1.2648],[1606694400000,1.1853],[1606780800000,1.0629],[1606867200000,1.0557],[1606953600000,1.1281],[1607040000000,1.057],[1607299200000,0.9151],[1607385600000,0.9199],[1607472000000,0.9014],[1607558400000,1.0669],[1607644800000,1.1083],[1607904000000,1.1547],[1607990400000,1.0621],[1608076800000,1.2012],[1608163200000,1.2653],[1608249600000,1.2293],[1608508800000,1.2712],[1608595200000,1.4402],[1608681600000,1.2449],[1608768000000,1.5387],[1608854400000,1.6033],[1609113600000,1.7587],[1609200000000,1.2309],[1609286400000,1.6249],[1609372800000,1.1834],[1609718400000,1.228],[1609804800000,1.1857],[1609891200000,1.0139],[1609977600000,1.066],[1610064000000,1.2836],[1610323200000,1.2096],[1610409600000,1.3591],[1610496000000,1.4258],[1610582400000,1.2612],[1610668800000,1.0853],[1610928000000,1.0383],[1611014400000,1.2282],[1611100800000,1.0851],[1611187200000,1.1204],[1611273600000,1.0377],[1611532800000,0.9728],[1611619200000,0.9132],[1611705600000,0.8473],[1611792000000,0.88],[1611878400000,1.4549],[1612137600000,1.5285],[1612224000000,1.1911],[1612310400000,1.3687],[1612396800000,1.1985],[1612483200000,1.0057],[1612742400000,1.1456],[1612828800000,1.1369],[1612915200000,0.9314],[1613606400000,1.0632],[1613692800000,1.3159],[1613952000000,1.2183],[1614038400000,1.2857],[1614124800000,1.1513],[1614211200000,1.1851],[1614297600000,0.9332],[1614556800000,0.9223],[1614643200000,0.9054],[1614729600000,0.8483],[1614816000000,0.7992],[1614902400000,1.1684],[1615161600000,1.0456],[1615248000000,1.0344],[1615334400000,1.033],[1615420800000,0.9676],[1615507200000,1.2653],[1615766400000,1.0913],[1615852800000,1.1335],[1615939200000,1.1571],[1616025600000,0.9999],[1616112000000,0.9871],[1616371200000,0.977],[1616457600000,0.9489],[1616544000000,0.8833],[1616630400000,0.9574],[1616716800000,0.8584],[1616976000000,0.9127],[1617062400000,0.7875],[1617148800000,0.8884],[1617235200000,0.7468],[1617321600000,0.8952],[1617667200000,0.9364],[1617753600000,0.9158],[1617840000000,0.9413],[1617926400000,0.866],[1618185600000,1.1769],[1618272000000,1.1723],[1618358400000,1.2246],[1618444800000,1.079],[1618531200000,1.1955],[1618790400000,0.8626],[1618876800000,0.8367],[1618963200000,1.1523],[1619049600000,1.0202],[1619136000000,0.9038],[1619395200000,1.6484],[1619481600000,1.5164],[1619568000000,1.5029],[1619654400000,1.5833],[1619740800000,1.3568],[1620259200000,1.4146],[1620345600000,1.2643],[1620604800000,1.2991],[1620691200000,1.0013],[1620777600000,1.2399],[1620864000000,0.9934],[1620950400000,0.7854],[1621209600000,0.7745],[1621296000000,1.0543],[1621382400000,1.0173],[1621468800000,1.2448],[1621555200000,1.5349],[1621814400000,1.2777],[1621900800000,1.3247],[1621987200000,1.2354],[1622073600000,0.8476],[1622160000000,0.7957],[1622419200000,0.7914],[1622505600000,0.8792],[1622592000000,0.7773],[1622678400000,1.5775],[1622764800000,1.4509],[1623024000000,1.3288],[1623110400000,1.2206],[1623196800000,1.0784],[1623283200000,0.8798],[1623369600000,0.8464],[1623715200000,0.7109],[1623801600000,0.8375],[1623888000000,0.8734],[1623974400000,0.9866],[1624233600000,0.9404],[1624320000000,0.8062],[1624406400000,0.9239],[1624492800000,0.9232],[1624579200000,1.8102],[1624838400000,1.4677],[1624924800000,1.492],[1625011200000,1.65],[1625097600000,1.5637],[1625184000000,1.8757],[1625443200000,1.9402],[1625529600000,1.8399],[1625616000000,1.7495],[1625702400000,1.4636],[1625788800000,1.1013],[1626048000000,1.1849],[1626134400000,1.1429],[1626220800000,1.3575],[1626307200000,1.3171],[1626393600000,1.6033],[1626652800000,1.3886],[1626739200000,1.3572],[1626825600000,1.5223],[1626912000000,1.1443],[1626998400000,1.0312],[1627257600000,1.1286],[1627344000000,1.1035],[1627430400000,1.0434],[1627516800000,1.0534],[1627603200000,1.1449],[1627862400000,1.1039],[1627948800000,1.1928],[1628035200000,1.2277],[1628121600000,1.1878],[1628208000000,1.3605],[1628467200000,1.2723],[1628553600000,1.157],[1628640000000,1.1978],[1628726400000,1.353],[1628812800000,0.8244],[1629072000000,0.9275],[1629158400000,0.9568],[1629244800000,0.8],[1629331200000,0.9315],[1629417600000,1.0449],[1629676800000,0.9055],[1629763200000,1.0582],[1629849600000,1.0422],[1629936000000,1.105],[1630022400000,1.0979],[1630281600000,1.1325],[1630368000000,1.0511],[1630454400000,0.9453],[1630540800000,1.0696],[1630627200000,1.0932],[1630886400000,0.9827],[1630972800000,1.2326],[1631059200000,1.4115],[1631145600000,1.4096],[1631232000000,1.0633],[1631491200000,1.1845],[1631577600000,1.0536],[1631664000000,0.8709],[1631750400000,0.9327],[1631836800000,1.217],[1632268800000,1.2104],[1632355200000,1.2453],[1632441600000,1.1916],[1632700800000,1.1714],[1632787200000,1.0727],[1632873600000,0.9277],[1632960000000,0.8937],[1633651200000,1.0477],[1633910400000,1.1568],[1633996800000,0.7741],[1634083200000,0.7999],[1634169600000,0.8474],[1634256000000,0.635],[1634515200000,0.7145],[1634601600000,0.938],[1634688000000,0.9118],[1634774400000,0.8997],[1634860800000,1.0094],[1635120000000,0.9404],[1635206400000,1.4591],[1635292800000,1.0449],[1635379200000,1.0814],[1635465600000,1.1492],[1635724800000,1.1475],[1635811200000,1.2122],[1635897600000,1.1618],[1635984000000,1.0629],[1636070400000,1.2725],[1636329600000,1.0642],[1636416000000,1.143],[1636502400000,1.1324],[1636588800000,0.9761],[1636675200000,1.1768],[1636934400000,1.325],[1637020800000,1.4396],[1637107200000,1.3653],[1637193600000,1.348],[1637280000000,1.1929],[1637539200000,1.31],[1637625600000,1.3719],[1637712000000,1.3485],[1637798400000,1.5431],[1637884800000,1.4476],[1638144000000,1.3702],[1638230400000,1.5971]]}],\"xAxis\":{\"title\":{\"text\":\"date\"},\"type\":\"datetime\"},\"plotOptions\":{\"series\":{\"compare\":\"percent\"}}}/bigcharts-data-end</pre></div><div class=\"cols\">\n",
       "            \n",
       "                \n",
       "                <div class=\"col\"><div class=\"type_title_left\"><p>因子值最小的20只股票 <span>(2021-11-30)</span></p></div>\n",
       "        <div class=\"factorlens-stocks-wrapper\">\n",
       "            <table class=\"factor_table stocks\">\n",
       "                <thead>\n",
       "                    <tr>\n",
       "                        <th>股票名称</th>\n",
       "                        <th>股票代码</th>\n",
       "                        <th>因子值</th>\n",
       "                    </tr>\n",
       "                </thead>\n",
       "                <tbody>\n",
       "            <tr>\n",
       "                <td>五粮液</td>\n",
       "                <td>000858.SZA</td>\n",
       "                <td>-1.9989</td>\n",
       "            </tr>\n",
       "            \n",
       "            <tr>\n",
       "                <td>英科医疗</td>\n",
       "                <td>300677.SZA</td>\n",
       "                <td>-1.9868</td>\n",
       "            </tr>\n",
       "            \n",
       "            <tr>\n",
       "                <td>中航西飞</td>\n",
       "                <td>000768.SZA</td>\n",
       "                <td>-1.9642</td>\n",
       "            </tr>\n",
       "            \n",
       "            <tr>\n",
       "                <td>华润微</td>\n",
       "                <td>688396.SHA</td>\n",
       "                <td>-1.8834</td>\n",
       "            </tr>\n",
       "            \n",
       "            <tr>\n",
       "                <td>韦尔股份</td>\n",
       "                <td>603501.SHA</td>\n",
       "                <td>-1.8775</td>\n",
       "            </tr>\n",
       "            \n",
       "            <tr>\n",
       "                <td>泸州老窖</td>\n",
       "                <td>000568.SZA</td>\n",
       "                <td>-1.8565</td>\n",
       "            </tr>\n",
       "            \n",
       "            <tr>\n",
       "                <td>浙江鼎力</td>\n",
       "                <td>603338.SHA</td>\n",
       "                <td>-1.8452</td>\n",
       "            </tr>\n",
       "            \n",
       "            <tr>\n",
       "                <td>药明康德</td>\n",
       "                <td>603259.SHA</td>\n",
       "                <td>-1.8431</td>\n",
       "            </tr>\n",
       "            \n",
       "            <tr>\n",
       "                <td>国投电力</td>\n",
       "                <td>600886.SHA</td>\n",
       "                <td>-1.8415</td>\n",
       "            </tr>\n",
       "            \n",
       "            <tr>\n",
       "                <td>中联重科</td>\n",
       "                <td>000157.SZA</td>\n",
       "                <td>-1.8298</td>\n",
       "            </tr>\n",
       "            \n",
       "            <tr>\n",
       "                <td>华友钴业</td>\n",
       "                <td>603799.SHA</td>\n",
       "                <td>-1.8205</td>\n",
       "            </tr>\n",
       "            \n",
       "            <tr>\n",
       "                <td>璞泰来</td>\n",
       "                <td>603659.SHA</td>\n",
       "                <td>-1.8075</td>\n",
       "            </tr>\n",
       "            \n",
       "            <tr>\n",
       "                <td>广发证券</td>\n",
       "                <td>000776.SZA</td>\n",
       "                <td>-1.7572</td>\n",
       "            </tr>\n",
       "            \n",
       "            <tr>\n",
       "                <td>荣盛石化</td>\n",
       "                <td>002493.SZA</td>\n",
       "                <td>-1.7431</td>\n",
       "            </tr>\n",
       "            \n",
       "            <tr>\n",
       "                <td>中远海控</td>\n",
       "                <td>601919.SHA</td>\n",
       "                <td>-1.7143</td>\n",
       "            </tr>\n",
       "            \n",
       "            <tr>\n",
       "                <td>亿纬锂能</td>\n",
       "                <td>300014.SZA</td>\n",
       "                <td>-1.7139</td>\n",
       "            </tr>\n",
       "            \n",
       "            <tr>\n",
       "                <td>华能国际</td>\n",
       "                <td>600011.SHA</td>\n",
       "                <td>-1.7121</td>\n",
       "            </tr>\n",
       "            \n",
       "            <tr>\n",
       "                <td>包钢股份</td>\n",
       "                <td>600010.SHA</td>\n",
       "                <td>-1.7008</td>\n",
       "            </tr>\n",
       "            \n",
       "            <tr>\n",
       "                <td>复星医药</td>\n",
       "                <td>600196.SHA</td>\n",
       "                <td>-1.6835</td>\n",
       "            </tr>\n",
       "            \n",
       "            <tr>\n",
       "                <td>洛阳钼业</td>\n",
       "                <td>603993.SHA</td>\n",
       "                <td>-1.6458</td>\n",
       "            </tr>\n",
       "            \n",
       "                </tbody>\n",
       "            </table>\n",
       "        </div>\n",
       "        </div>\n",
       "                \n",
       "            \n",
       "                \n",
       "                <div class=\"col\"><div class=\"type_title_left\"><p>因子值最大的20只股票 <span>(2021-11-30)</span></p></div>\n",
       "        <div class=\"factorlens-stocks-wrapper\">\n",
       "            <table class=\"factor_table stocks\">\n",
       "                <thead>\n",
       "                    <tr>\n",
       "                        <th>股票名称</th>\n",
       "                        <th>股票代码</th>\n",
       "                        <th>因子值</th>\n",
       "                    </tr>\n",
       "                </thead>\n",
       "                <tbody>\n",
       "            <tr>\n",
       "                <td>华兰生物</td>\n",
       "                <td>002007.SZA</td>\n",
       "                <td>-0.2315</td>\n",
       "            </tr>\n",
       "            \n",
       "            <tr>\n",
       "                <td>歌尔股份</td>\n",
       "                <td>002241.SZA</td>\n",
       "                <td>-0.2259</td>\n",
       "            </tr>\n",
       "            \n",
       "            <tr>\n",
       "                <td>老板电器</td>\n",
       "                <td>002508.SZA</td>\n",
       "                <td>-0.2066</td>\n",
       "            </tr>\n",
       "            \n",
       "            <tr>\n",
       "                <td>芒果超媒</td>\n",
       "                <td>300413.SZA</td>\n",
       "                <td>-0.2059</td>\n",
       "            </tr>\n",
       "            \n",
       "            <tr>\n",
       "                <td>上汽集团</td>\n",
       "                <td>600104.SHA</td>\n",
       "                <td>-0.1899</td>\n",
       "            </tr>\n",
       "            \n",
       "            <tr>\n",
       "                <td>晨光文具</td>\n",
       "                <td>603899.SHA</td>\n",
       "                <td>-0.1882</td>\n",
       "            </tr>\n",
       "            \n",
       "            <tr>\n",
       "                <td>海通证券</td>\n",
       "                <td>600837.SHA</td>\n",
       "                <td>-0.1775</td>\n",
       "            </tr>\n",
       "            \n",
       "            <tr>\n",
       "                <td>招商银行</td>\n",
       "                <td>600036.SHA</td>\n",
       "                <td>-0.1704</td>\n",
       "            </tr>\n",
       "            \n",
       "            <tr>\n",
       "                <td>正邦科技</td>\n",
       "                <td>002157.SZA</td>\n",
       "                <td>-0.1676</td>\n",
       "            </tr>\n",
       "            \n",
       "            <tr>\n",
       "                <td>顺丰控股</td>\n",
       "                <td>002352.SZA</td>\n",
       "                <td>-0.1669</td>\n",
       "            </tr>\n",
       "            \n",
       "            <tr>\n",
       "                <td>古井贡酒</td>\n",
       "                <td>000596.SZA</td>\n",
       "                <td>-0.1667</td>\n",
       "            </tr>\n",
       "            \n",
       "            <tr>\n",
       "                <td>恩捷股份</td>\n",
       "                <td>002812.SZA</td>\n",
       "                <td>-0.1569</td>\n",
       "            </tr>\n",
       "            \n",
       "            <tr>\n",
       "                <td>东方财富</td>\n",
       "                <td>300059.SZA</td>\n",
       "                <td>-0.1509</td>\n",
       "            </tr>\n",
       "            \n",
       "            <tr>\n",
       "                <td>欧普康视</td>\n",
       "                <td>300595.SZA</td>\n",
       "                <td>-0.1507</td>\n",
       "            </tr>\n",
       "            \n",
       "            <tr>\n",
       "                <td>泰格医药</td>\n",
       "                <td>300347.SZA</td>\n",
       "                <td>-0.1487</td>\n",
       "            </tr>\n",
       "            \n",
       "            <tr>\n",
       "                <td>兆易创新</td>\n",
       "                <td>603986.SHA</td>\n",
       "                <td>-0.1485</td>\n",
       "            </tr>\n",
       "            \n",
       "            <tr>\n",
       "                <td>亿联网络</td>\n",
       "                <td>300628.SZA</td>\n",
       "                <td>-0.1483</td>\n",
       "            </tr>\n",
       "            \n",
       "            <tr>\n",
       "                <td>重庆啤酒</td>\n",
       "                <td>600132.SHA</td>\n",
       "                <td>-0.1474</td>\n",
       "            </tr>\n",
       "            \n",
       "            <tr>\n",
       "                <td>牧原股份</td>\n",
       "                <td>002714.SZA</td>\n",
       "                <td>-0.1468</td>\n",
       "            </tr>\n",
       "            \n",
       "            <tr>\n",
       "                <td>万科A</td>\n",
       "                <td>000002.SZA</td>\n",
       "                <td>-0.1446</td>\n",
       "            </tr>\n",
       "            \n",
       "                </tbody>\n",
       "            </table>\n",
       "        </div>\n",
       "        </div>\n",
       "                \n",
       "            \n",
       "            </div>\n",
       "        </div>"
      ],
      "text/plain": [
       "<IPython.core.display.HTML object>"
      ]
     },
     "metadata": {},
     "output_type": "display_data"
    },
    {
     "data": {
      "text/plain": [
       "[2021-12-08 10:36:18.042082] INFO: moduleinvoker: factorlens.v2 运行完成[114.81427s]."
      ]
     },
     "metadata": {
      "is_log": true,
      "status": "INFO"
     },
     "output_type": "display_data"
    },
    {
     "data": {
      "text/plain": [
       "[2021-12-08 10:36:18.234027] INFO: 保存因子: 开始检查因子数据 ..."
      ]
     },
     "metadata": {
      "is_log": true,
      "status": "INFO"
     },
     "output_type": "display_data"
    },
    {
     "data": {
      "text/plain": [
       "[2021-12-08 10:36:18.235854] INFO: 保存因子: 检查因子通过, 请提交任务进行因子保存!"
      ]
     },
     "metadata": {
      "is_log": true,
      "status": "INFO"
     },
     "output_type": "display_data"
    },
    {
     "data": {
      "text/plain": [
       "[2021-12-08 10:36:18.429220] INFO: moduleinvoker: factorlens_preservation.v2 运行完成[0.368021s]."
      ]
     },
     "metadata": {
      "is_log": true,
      "status": "INFO"
     },
     "output_type": "display_data"
    }
   ],
   "source": [
    "# 本代码由可视化策略环境自动生成 2021年12月8日 10:36\n",
    "# 本代码单元只能在可视化模式下编辑。您也可以拷贝代码，粘贴到新建的代码单元或者策略，然后修改。\n",
    "\n",
    "\n",
    "m1 = M.input_features.v1(\n",
    "    features=\"\"\"\n",
    "# #号开始的表示注释，注释需单独一行\n",
    "# 多个特征，每行一个，可以包含基础特征和衍生特征，特征须为本平台特征\n",
    "((rank(decay_linear(delta((open_0+close_0+high_0+low_0)/4,4),7))+ts_rank(decay_linear(((((low_0*0.9)+(low_0*0.1))-(high_0+low_0+open_0+close_0)/4)/(open_0-((high_0+low_0)/2))),11),7))*-1)\"\"\"\n",
    ")\n",
    "\n",
    "m4 = M.factorlens.v2(\n",
    "    features=m1.data,\n",
    "    title='因子分析: {factor_name}',\n",
    "    start_date='2020-01-01',\n",
    "    end_date='2021-12-01',\n",
    "    rebalance_period=5,\n",
    "    delay_rebalance_days=0,\n",
    "    rebalance_price='close_0',\n",
    "    stock_pool='沪深300',\n",
    "    quantile_count=5,\n",
    "    commission_rate=0.0016,\n",
    "    returns_calculation_method='累乘',\n",
    "    benchmark='沪深300',\n",
    "    drop_new_stocks=60,\n",
    "    drop_price_limit_stocks=True,\n",
    "    drop_st_stocks=True,\n",
    "    drop_suspended_stocks=True,\n",
    "    normalization=True,\n",
    "    neutralization=['行业', '市值'],\n",
    "    metrics=['因子表现概览', '因子分布', '因子行业分布', '因子市值分布', 'IC分析', '买入信号重合分析', '因子估值分析', '因子拥挤度分析', '因子值最大/最小股票', '表达式因子值', '多因子相关性分析'],\n",
    "    factor_coverage=0.3,\n",
    "    user_data_merge='left'\n",
    ")\n",
    "\n",
    "m3 = M.factorlens_preservation.v2(\n",
    "    factors_info=m4.save_data,\n",
    "    factor_fields=# 定义因子名称\n",
    "# {\n",
    "#     \"列名\": {'name': \"因子名\", 'desc': \"因子描述\"},\n",
    "#     \"列名\": {'name': \"因子名\", 'desc': \"因子描述\"},\n",
    "#     ... \n",
    "# }\n",
    "{\n",
    "    \"factor_name\": {'name': \"量价背离\", 'desc': \"你走你的，我走我的\"},\n",
    "}\n",
    ",\n",
    "    table=''\n",
    ")\n"
   ]
  }
 ],
 "metadata": {
  "is_mlstudio": "true",
  "kernelspec": {
   "display_name": "Python 3",
   "language": "python",
   "name": "python3"
  },
  "language_info": {
   "codemirror_mode": {
    "name": "ipython",
    "version": 3
   },
   "file_extension": ".py",
   "mimetype": "text/x-python",
   "name": "python",
   "nbconvert_exporter": "python",
   "pygments_lexer": "ipython3",
   "version": "3.8.7"
  }
 },
 "nbformat": 4,
 "nbformat_minor": 4
}
